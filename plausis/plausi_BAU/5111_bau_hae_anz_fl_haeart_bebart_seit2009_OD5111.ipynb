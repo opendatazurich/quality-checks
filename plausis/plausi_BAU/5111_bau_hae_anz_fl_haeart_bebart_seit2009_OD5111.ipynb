{
 "cells": [
  {
   "cell_type": "markdown",
   "metadata": {},
   "source": [
    "# Testing\n",
    "### Umgesetzte Grundstücke und Fläche nach Handänderungstyp und Bebauungsart, seit 2009\n",
    "Datum: 03.02.2022"
   ]
  },
  {
   "cell_type": "markdown",
   "metadata": {},
   "source": [
    "### Importiere die notwendigen Packages"
   ]
  },
  {
   "cell_type": "code",
   "execution_count": 15,
   "metadata": {},
   "outputs": [],
   "source": [
    "#%pip install geopandas altair fiona requests folium mplleaflet contextily seaborn datetime plotly"
   ]
  },
  {
   "cell_type": "code",
   "execution_count": 16,
   "metadata": {},
   "outputs": [],
   "source": [
    "import pandas as pd\n",
    "import pivottablejs\n",
    "from pivottablejs import pivot_ui\n",
    "import numpy as np\n",
    "import altair as alt\n",
    "import matplotlib.pyplot as plt\n",
    "#from datetime import datetime\n",
    "import datetime\n",
    "import geopandas as gpd\n",
    "import folium \n",
    "import plotly.express as px\n",
    "import seaborn as sns\n"
   ]
  },
  {
   "cell_type": "markdown",
   "metadata": {},
   "source": [
    "Definiere Settings. Hier das Zahlenformat von Float-Werten (z.B. *'{:,.2f}'.format* mit Komma als Tausenderzeichen), "
   ]
  },
  {
   "cell_type": "code",
   "execution_count": 17,
   "metadata": {},
   "outputs": [],
   "source": [
    "pd.options.display.float_format = '{:.0f}'.format\n",
    "pd.set_option('display.width', 100)\n",
    "pd.set_option('display.max_columns', 15)"
   ]
  },
  {
   "cell_type": "markdown",
   "metadata": {},
   "source": [
    "### Zeitvariabeln\n",
    "Bestimme den aktuellst geladenen Monat. Hier ist es der Stand vor 2 Monaten. \n",
    "Bestimme noch weitere evt. sinnvolle Zeitvariabeln.\n",
    "\n",
    "Zum Unterschied zwischen import datetime und from datedtime import datetime, siehe https://stackoverflow.com/questions/15707532/import-datetime-v-s-from-datetime-import-datetime\n",
    "\n",
    "Zuerst die Zeitvariabeln als Strings"
   ]
  },
  {
   "cell_type": "code",
   "execution_count": 18,
   "metadata": {},
   "outputs": [],
   "source": [
    "#today_date = datetime.date.today()\n",
    "#date_time = datetime.datetime.strptime(date_time_string, '%Y-%m-%d %H:%M')\n",
    "now = datetime.date.today()\n",
    "date_today = now.strftime(\"%Y-%m-%d\")\n",
    "year_today = now.strftime(\"%Y\")\n",
    "month_today = now.strftime(\"%m\")\n",
    "day_today = now.strftime(\"%d\")\n"
   ]
  },
  {
   "cell_type": "markdown",
   "metadata": {},
   "source": [
    "Und hier noch die Zeitvariabeln als Integers:\n",
    "- `aktuellesJahr`\n",
    "- `aktuellerMonat`: Der gerade jetzt aktuelle Monat\n",
    "- `selectedMonat`: Der aktuellste Monat in den Daten. In der Regel zwei Monate her."
   ]
  },
  {
   "cell_type": "code",
   "execution_count": 19,
   "metadata": {},
   "outputs": [
    {
     "name": "stdout",
     "output_type": "stream",
     "text": [
      "2022 2 datenstand:  0 time.struct_time(tm_year=2022, tm_mon=2, tm_mday=4, tm_hour=0, tm_min=0, tm_sec=0, tm_wday=4, tm_yday=35, tm_isdst=-1)\n"
     ]
    }
   ],
   "source": [
    "#now = datetime.now() \n",
    "int_times = now.timetuple()\n",
    "\n",
    "aktuellesJahr = int_times[0]\n",
    "aktuellerMonat = int_times[1]\n",
    "selectedMonat = int_times[1]-2\n",
    "\n",
    "print(aktuellesJahr, \n",
    "      aktuellerMonat,\n",
    "    'datenstand: ', selectedMonat,\n",
    "     int_times)\n"
   ]
  },
  {
   "cell_type": "markdown",
   "metadata": {},
   "source": [
    "Berechne die Variable Epoche um später das SAS-Datum in ein Unix-Datum umzuwandeln. Bei SAS beginnt die Epoche am 1.1.1960. Bei Unix am 1.1.1970.\n",
    "Diese Variable wird beim CSV-Import benötigt."
   ]
  },
  {
   "cell_type": "code",
   "execution_count": 20,
   "metadata": {},
   "outputs": [],
   "source": [
    "epoch = datetime.datetime(1960, 1, 1)"
   ]
  },
  {
   "cell_type": "markdown",
   "metadata": {
    "tags": []
   },
   "source": [
    "### Importiere einen Datensatz \n",
    "\n",
    "- Beachte dabei die Notation des Pfades...\n",
    "- Definiere mal aktuell noch keine weiteren Parameter beim Import"
   ]
  },
  {
   "cell_type": "markdown",
   "metadata": {},
   "source": [
    "**Dataset auf INTEG Datenkatalog**:  https://data.integ.stadt-zuerich.ch/dataset/int_dwh_bau_hae_anz_fl_haeart_bebart_seit2009_od5111\n",
    "\n",
    "**Dataset auf PROD Datenkatalog**:  https://data.stadt-zuerich.ch/dataset/bau_hae_anz_fl_haeart_bebart_seit2009_od5111\n"
   ]
  },
  {
   "cell_type": "code",
   "execution_count": 21,
   "metadata": {},
   "outputs": [
    {
     "name": "stdout",
     "output_type": "stream",
     "text": [
      "int\n"
     ]
    }
   ],
   "source": [
    "#Die Datasets sind nur zum Testen auf INT-DWH-Dropzone. Wenn der Test vorbei ist, sind sie auf PROD. \n",
    "# Über den Status kann man einfach switchen\n",
    "\n",
    "status = \"int\";\n",
    "print(status)"
   ]
  },
  {
   "cell_type": "code",
   "execution_count": 22,
   "metadata": {
    "tags": []
   },
   "outputs": [
    {
     "name": "stdout",
     "output_type": "stream",
     "text": [
      "\\\\szh\\ssz\\applikationen\\OGD_Dropzone\\INT_DWH\\bau_hae_anz_fl_haeart_bebart_seit2009_OD5111\\BAU511OD5111.csv\n"
     ]
    }
   ],
   "source": [
    "# Filepath\n",
    "if status == \"prod\":\n",
    "    fp = r\"https://data.stadt-zuerich.ch/dataset/bau_hae_anz_fl_haeart_bebart_seit2009_OD5111/download/BAU511OD5111.csv\"\n",
    "else:\n",
    "    fp = r\"\\\\szh\\ssz\\applikationen\\OGD_Dropzone\\INT_DWH\\bau_hae_anz_fl_haeart_bebart_seit2009_OD5111\\BAU511OD5111.csv\"   \n",
    "\n",
    "print(fp)"
   ]
  },
  {
   "cell_type": "code",
   "execution_count": 23,
   "metadata": {},
   "outputs": [
    {
     "name": "stdout",
     "output_type": "stream",
     "text": [
      "done\n"
     ]
    }
   ],
   "source": [
    "# Read the data\n",
    "data2betested = pd.read_csv(\n",
    "    fp\n",
    "    , sep=','\n",
    "    ,parse_dates=['Jahr']\n",
    "    # KONVERTIERE DAS SAS DATUM IN EIN UNIXDATUM UND FORMATIERE ES\n",
    "    #, date_parser=lambda s: epoch + datetime.timedelta(days=int(s))\n",
    "    ,low_memory=False    \n",
    "    )\n",
    "\n",
    "print('done')"
   ]
  },
  {
   "cell_type": "markdown",
   "metadata": {},
   "source": [
    "In der Folge ein paar erste Tests:"
   ]
  },
  {
   "cell_type": "markdown",
   "metadata": {},
   "source": [
    " - 1) Zeige eine kurze Vorschau der importierten Daten\n",
    " - 2) Weise die Datentypen aus\n",
    " - 3) Zeige die Shape (Umfang) des Datensatzes an"
   ]
  },
  {
   "cell_type": "code",
   "execution_count": 24,
   "metadata": {},
   "outputs": [],
   "source": [
    "#data2betested.head(6)"
   ]
  },
  {
   "cell_type": "code",
   "execution_count": 25,
   "metadata": {},
   "outputs": [
    {
     "data": {
      "text/plain": [
       "Jahr                 datetime64[ns]\n",
       "HaeArt                       object\n",
       "HaeGrstTyp                   object\n",
       "Stockwerkeigentum            object\n",
       "AnzGrst                       int64\n",
       "Flaeche                     float64\n",
       "dtype: object"
      ]
     },
     "execution_count": 25,
     "metadata": {},
     "output_type": "execute_result"
    }
   ],
   "source": [
    "data2betested.dtypes"
   ]
  },
  {
   "cell_type": "code",
   "execution_count": 26,
   "metadata": {},
   "outputs": [
    {
     "data": {
      "text/plain": [
       "(589, 6)"
      ]
     },
     "execution_count": 26,
     "metadata": {},
     "output_type": "execute_result"
    }
   ],
   "source": [
    "data2betested.shape"
   ]
  },
  {
   "cell_type": "markdown",
   "metadata": {},
   "source": [
    "Beschreibe einzelne Attribute"
   ]
  },
  {
   "cell_type": "code",
   "execution_count": 27,
   "metadata": {},
   "outputs": [
    {
     "data": {
      "text/html": [
       "<div>\n",
       "<style scoped>\n",
       "    .dataframe tbody tr th:only-of-type {\n",
       "        vertical-align: middle;\n",
       "    }\n",
       "\n",
       "    .dataframe tbody tr th {\n",
       "        vertical-align: top;\n",
       "    }\n",
       "\n",
       "    .dataframe thead th {\n",
       "        text-align: right;\n",
       "    }\n",
       "</style>\n",
       "<table border=\"1\" class=\"dataframe\">\n",
       "  <thead>\n",
       "    <tr style=\"text-align: right;\">\n",
       "      <th></th>\n",
       "      <th>AnzGrst</th>\n",
       "      <th>Flaeche</th>\n",
       "    </tr>\n",
       "  </thead>\n",
       "  <tbody>\n",
       "    <tr>\n",
       "      <th>count</th>\n",
       "      <td>589</td>\n",
       "      <td>588</td>\n",
       "    </tr>\n",
       "    <tr>\n",
       "      <th>mean</th>\n",
       "      <td>56</td>\n",
       "      <td>39840</td>\n",
       "    </tr>\n",
       "    <tr>\n",
       "      <th>std</th>\n",
       "      <td>88</td>\n",
       "      <td>77473</td>\n",
       "    </tr>\n",
       "    <tr>\n",
       "      <th>min</th>\n",
       "      <td>0</td>\n",
       "      <td>0</td>\n",
       "    </tr>\n",
       "    <tr>\n",
       "      <th>25%</th>\n",
       "      <td>3</td>\n",
       "      <td>1038</td>\n",
       "    </tr>\n",
       "    <tr>\n",
       "      <th>50%</th>\n",
       "      <td>19</td>\n",
       "      <td>8481</td>\n",
       "    </tr>\n",
       "    <tr>\n",
       "      <th>75%</th>\n",
       "      <td>80</td>\n",
       "      <td>51314</td>\n",
       "    </tr>\n",
       "    <tr>\n",
       "      <th>max</th>\n",
       "      <td>650</td>\n",
       "      <td>989546</td>\n",
       "    </tr>\n",
       "  </tbody>\n",
       "</table>\n",
       "</div>"
      ],
      "text/plain": [
       "       AnzGrst  Flaeche\n",
       "count      589      588\n",
       "mean        56    39840\n",
       "std         88    77473\n",
       "min          0        0\n",
       "25%          3     1038\n",
       "50%         19     8481\n",
       "75%         80    51314\n",
       "max        650   989546"
      ]
     },
     "execution_count": 27,
     "metadata": {},
     "output_type": "execute_result"
    }
   ],
   "source": [
    "data2betested.describe()"
   ]
  },
  {
   "cell_type": "markdown",
   "metadata": {},
   "source": [
    "Wie viele Nullwerte gibt es im Datensatz?"
   ]
  },
  {
   "cell_type": "code",
   "execution_count": 28,
   "metadata": {
    "scrolled": true
   },
   "outputs": [
    {
     "data": {
      "text/plain": [
       "Jahr                 0\n",
       "HaeArt               0\n",
       "HaeGrstTyp           0\n",
       "Stockwerkeigentum    0\n",
       "AnzGrst              0\n",
       "Flaeche              1\n",
       "dtype: int64"
      ]
     },
     "execution_count": 28,
     "metadata": {},
     "output_type": "execute_result"
    }
   ],
   "source": [
    "data2betested.isnull().sum()"
   ]
  },
  {
   "cell_type": "markdown",
   "metadata": {
    "colab_type": "text",
    "id": "1dTPVmmsgOVx"
   },
   "source": [
    "### Verwende das Datum als Index\n",
    "\n",
    "While we did already parse the `datetime` column into the respective datetime type, it currently is just a regular column. \n",
    "**To enable quick and convenient queries and aggregations, we need to turn it into the index of the DataFrame**"
   ]
  },
  {
   "cell_type": "code",
   "execution_count": 29,
   "metadata": {},
   "outputs": [],
   "source": [
    "data2betested = data2betested.set_index(\"Jahr\")"
   ]
  },
  {
   "cell_type": "code",
   "execution_count": 30,
   "metadata": {},
   "outputs": [
    {
     "name": "stdout",
     "output_type": "stream",
     "text": [
      "<class 'pandas.core.frame.DataFrame'>\n",
      "DatetimeIndex: 589 entries, 2009-01-01 to 2021-01-01\n",
      "Data columns (total 5 columns):\n",
      " #   Column             Non-Null Count  Dtype  \n",
      "---  ------             --------------  -----  \n",
      " 0   HaeArt             589 non-null    object \n",
      " 1   HaeGrstTyp         589 non-null    object \n",
      " 2   Stockwerkeigentum  589 non-null    object \n",
      " 3   AnzGrst            589 non-null    int64  \n",
      " 4   Flaeche            588 non-null    float64\n",
      "dtypes: float64(1), int64(1), object(3)\n",
      "memory usage: 27.6+ KB\n"
     ]
    },
    {
     "data": {
      "text/plain": [
       "Int64Index([1], dtype='int64', name='Jahr')"
      ]
     },
     "execution_count": 30,
     "metadata": {},
     "output_type": "execute_result"
    }
   ],
   "source": [
    "data2betested.info()\n",
    "data2betested.index.day.unique()"
   ]
  },
  {
   "cell_type": "markdown",
   "metadata": {},
   "source": [
    "### Einfache Visualisierungen zur Plausi"
   ]
  },
  {
   "cell_type": "markdown",
   "metadata": {},
   "source": [
    "Exploriere die Daten mit Pivottable.JS"
   ]
  },
  {
   "cell_type": "code",
   "execution_count": 31,
   "metadata": {},
   "outputs": [
    {
     "data": {
      "text/html": [
       "\n",
       "        <iframe\n",
       "            width=\"100%\"\n",
       "            height=\"500\"\n",
       "            src=\"pivottablejs.html\"\n",
       "            frameborder=\"0\"\n",
       "            allowfullscreen\n",
       "        ></iframe>\n",
       "        "
      ],
      "text/plain": [
       "<IPython.lib.display.IFrame at 0x20e8f0f2a60>"
      ]
     },
     "execution_count": 31,
     "metadata": {},
     "output_type": "execute_result"
    }
   ],
   "source": [
    "from pivottablejs import pivot_ui\n",
    "\n",
    "pivot_ui(data2betested)"
   ]
  },
  {
   "cell_type": "markdown",
   "metadata": {},
   "source": [
    "### Zeitpunkte und Zeiträume abfragen\n",
    "\n",
    "A particular powerful feature of the Pandas DataFrame is its indexing capability that also works using time-based entities, such as dates and times. We have already created the index above, so let's put it to use."
   ]
  },
  {
   "cell_type": "code",
   "execution_count": 32,
   "metadata": {},
   "outputs": [
    {
     "data": {
      "text/html": [
       "<div>\n",
       "<style scoped>\n",
       "    .dataframe tbody tr th:only-of-type {\n",
       "        vertical-align: middle;\n",
       "    }\n",
       "\n",
       "    .dataframe tbody tr th {\n",
       "        vertical-align: top;\n",
       "    }\n",
       "\n",
       "    .dataframe thead th {\n",
       "        text-align: right;\n",
       "    }\n",
       "</style>\n",
       "<table border=\"1\" class=\"dataframe\">\n",
       "  <thead>\n",
       "    <tr style=\"text-align: right;\">\n",
       "      <th></th>\n",
       "      <th>HaeArt</th>\n",
       "      <th>HaeGrstTyp</th>\n",
       "      <th>Stockwerkeigentum</th>\n",
       "      <th>AnzGrst</th>\n",
       "      <th>Flaeche</th>\n",
       "    </tr>\n",
       "    <tr>\n",
       "      <th>Jahr</th>\n",
       "      <th></th>\n",
       "      <th></th>\n",
       "      <th></th>\n",
       "      <th></th>\n",
       "      <th></th>\n",
       "    </tr>\n",
       "  </thead>\n",
       "  <tbody>\n",
       "    <tr>\n",
       "      <th>2009-01-01</th>\n",
       "      <td>Erbfolge</td>\n",
       "      <td>Einfamilienhäuser</td>\n",
       "      <td>Ja</td>\n",
       "      <td>2</td>\n",
       "      <td>3663</td>\n",
       "    </tr>\n",
       "    <tr>\n",
       "      <th>2009-01-01</th>\n",
       "      <td>Erbfolge</td>\n",
       "      <td>Einfamilienhäuser</td>\n",
       "      <td>Nein</td>\n",
       "      <td>118</td>\n",
       "      <td>76912</td>\n",
       "    </tr>\n",
       "  </tbody>\n",
       "</table>\n",
       "</div>"
      ],
      "text/plain": [
       "              HaeArt         HaeGrstTyp Stockwerkeigentum  AnzGrst  Flaeche\n",
       "Jahr                                                                       \n",
       "2009-01-01  Erbfolge  Einfamilienhäuser                Ja        2     3663\n",
       "2009-01-01  Erbfolge  Einfamilienhäuser              Nein      118    76912"
      ]
     },
     "execution_count": 32,
     "metadata": {},
     "output_type": "execute_result"
    }
   ],
   "source": [
    "data2betested.loc[\"2009\"].head(2)\n",
    "#data2betested.loc[\"2021-10-31\":\"2021-11-30\"].head(2)"
   ]
  },
  {
   "cell_type": "markdown",
   "metadata": {},
   "source": [
    "### Visualisierungen nach Zeitausschnitten"
   ]
  },
  {
   "cell_type": "markdown",
   "metadata": {
    "tags": []
   },
   "source": [
    "#### Entwicklung der Anzahl Handänderungen nach HAE-Arten seit 2009"
   ]
  },
  {
   "cell_type": "code",
   "execution_count": 38,
   "metadata": {},
   "outputs": [],
   "source": [
    "#data2betested.dtypes"
   ]
  },
  {
   "cell_type": "code",
   "execution_count": 56,
   "metadata": {
    "tags": []
   },
   "outputs": [],
   "source": [
    "myAgg = data2betested.loc[\"2009\":\"2021\"]\\\n",
    "    .groupby(['Jahr', 'HaeArt']) \\\n",
    "    .agg(sum_AnzGrst=('AnzGrst', 'sum'), sum_Flaeche=('Flaeche', 'sum')) \\\n",
    "    .sort_values('sum_AnzGrst', ascending=False) \n",
    "\n",
    "#myAgg.reset_index()\n"
   ]
  },
  {
   "cell_type": "code",
   "execution_count": 57,
   "metadata": {},
   "outputs": [
    {
     "data": {
      "text/html": [
       "\n",
       "<div id=\"altair-viz-3e2616f1d97647a6952dc45cfd7948df\"></div>\n",
       "<script type=\"text/javascript\">\n",
       "  (function(spec, embedOpt){\n",
       "    let outputDiv = document.currentScript.previousElementSibling;\n",
       "    if (outputDiv.id !== \"altair-viz-3e2616f1d97647a6952dc45cfd7948df\") {\n",
       "      outputDiv = document.getElementById(\"altair-viz-3e2616f1d97647a6952dc45cfd7948df\");\n",
       "    }\n",
       "    const paths = {\n",
       "      \"vega\": \"https://cdn.jsdelivr.net/npm//vega@5?noext\",\n",
       "      \"vega-lib\": \"https://cdn.jsdelivr.net/npm//vega-lib?noext\",\n",
       "      \"vega-lite\": \"https://cdn.jsdelivr.net/npm//vega-lite@4.8.1?noext\",\n",
       "      \"vega-embed\": \"https://cdn.jsdelivr.net/npm//vega-embed@6?noext\",\n",
       "    };\n",
       "\n",
       "    function loadScript(lib) {\n",
       "      return new Promise(function(resolve, reject) {\n",
       "        var s = document.createElement('script');\n",
       "        s.src = paths[lib];\n",
       "        s.async = true;\n",
       "        s.onload = () => resolve(paths[lib]);\n",
       "        s.onerror = () => reject(`Error loading script: ${paths[lib]}`);\n",
       "        document.getElementsByTagName(\"head\")[0].appendChild(s);\n",
       "      });\n",
       "    }\n",
       "\n",
       "    function showError(err) {\n",
       "      outputDiv.innerHTML = `<div class=\"error\" style=\"color:red;\">${err}</div>`;\n",
       "      throw err;\n",
       "    }\n",
       "\n",
       "    function displayChart(vegaEmbed) {\n",
       "      vegaEmbed(outputDiv, spec, embedOpt)\n",
       "        .catch(err => showError(`Javascript Error: ${err.message}<br>This usually means there's a typo in your chart specification. See the javascript console for the full traceback.`));\n",
       "    }\n",
       "\n",
       "    if(typeof define === \"function\" && define.amd) {\n",
       "      requirejs.config({paths});\n",
       "      require([\"vega-embed\"], displayChart, err => showError(`Error loading script: ${err.message}`));\n",
       "    } else if (typeof vegaEmbed === \"function\") {\n",
       "      displayChart(vegaEmbed);\n",
       "    } else {\n",
       "      loadScript(\"vega\")\n",
       "        .then(() => loadScript(\"vega-lite\"))\n",
       "        .then(() => loadScript(\"vega-embed\"))\n",
       "        .catch(showError)\n",
       "        .then(() => displayChart(vegaEmbed));\n",
       "    }\n",
       "  })({\"config\": {\"view\": {\"continuousWidth\": 400, \"continuousHeight\": 300}}, \"layer\": [{\"mark\": \"line\", \"encoding\": {\"color\": {\"type\": \"nominal\", \"field\": \"HaeArt\", \"legend\": {\"orient\": \"right\", \"title\": \"Hand\\u00e4nderungsarten\"}}, \"size\": {\"condition\": {\"value\": 0.5, \"selection\": {\"not\": \"selector009\"}}, \"value\": 4}, \"tooltip\": [{\"type\": \"temporal\", \"field\": \"Jahr\"}, {\"type\": \"nominal\", \"field\": \"HaeArt\"}, {\"type\": \"quantitative\", \"field\": \"sum_AnzGrst\"}], \"x\": {\"type\": \"temporal\", \"axis\": {\"title\": \"Jahr\"}, \"field\": \"Jahr\"}, \"y\": {\"type\": \"quantitative\", \"axis\": {\"title\": \"Anz. Grundst\\u00fccke\"}, \"field\": \"sum_AnzGrst\"}}, \"selection\": {\"selector010\": {\"type\": \"interval\", \"bind\": \"scales\", \"encodings\": [\"x\", \"y\"]}}, \"title\": \"Title\"}, {\"mark\": \"circle\", \"encoding\": {\"color\": {\"type\": \"nominal\", \"field\": \"HaeArt\", \"legend\": {\"orient\": \"right\", \"title\": \"Hand\\u00e4nderungsarten\"}}, \"opacity\": {\"value\": 0.75}, \"tooltip\": [{\"type\": \"temporal\", \"field\": \"Jahr\"}, {\"type\": \"nominal\", \"field\": \"HaeArt\"}, {\"type\": \"quantitative\", \"field\": \"sum_AnzGrst\"}], \"x\": {\"type\": \"temporal\", \"axis\": {\"title\": \"Jahr\"}, \"field\": \"Jahr\"}, \"y\": {\"type\": \"quantitative\", \"axis\": {\"title\": \"Anz. Grundst\\u00fccke\"}, \"field\": \"sum_AnzGrst\"}}, \"height\": 350, \"selection\": {\"selector009\": {\"type\": \"single\", \"on\": \"mouseover\", \"fields\": [\"HaeArt\"], \"nearest\": true}}, \"title\": \"Title\", \"width\": 750}], \"data\": {\"name\": \"data-e3c7025d6f98e17cc179897ff7de8154\"}, \"$schema\": \"https://vega.github.io/schema/vega-lite/v4.8.1.json\", \"datasets\": {\"data-e3c7025d6f98e17cc179897ff7de8154\": [{\"Jahr\": \"2015-01-01T00:00:00\", \"HaeArt\": \"Kauf\", \"sum_AnzGrst\": 1336, \"sum_Flaeche\": 390712.6845577898}, {\"Jahr\": \"2010-01-01T00:00:00\", \"HaeArt\": \"Kauf\", \"sum_AnzGrst\": 1280, \"sum_Flaeche\": 564488.3098058216}, {\"Jahr\": \"2021-01-01T00:00:00\", \"HaeArt\": \"Kauf\", \"sum_AnzGrst\": 1252, \"sum_Flaeche\": 410743.6133248144}, {\"Jahr\": \"2014-01-01T00:00:00\", \"HaeArt\": \"Kauf\", \"sum_AnzGrst\": 1116, \"sum_Flaeche\": 535110.6165264419}, {\"Jahr\": \"2016-01-01T00:00:00\", \"HaeArt\": \"Kauf\", \"sum_AnzGrst\": 1108, \"sum_Flaeche\": 810977.2116843399}, {\"Jahr\": \"2011-01-01T00:00:00\", \"HaeArt\": \"Erbfolge\", \"sum_AnzGrst\": 1105, \"sum_Flaeche\": 772935.8546888883}, {\"Jahr\": \"2009-01-01T00:00:00\", \"HaeArt\": \"Kauf\", \"sum_AnzGrst\": 1100, \"sum_Flaeche\": 470157.1510666659}, {\"Jahr\": \"2011-01-01T00:00:00\", \"HaeArt\": \"Kauf\", \"sum_AnzGrst\": 1070, \"sum_Flaeche\": 395300.15122695605}, {\"Jahr\": \"2018-01-01T00:00:00\", \"HaeArt\": \"Kauf\", \"sum_AnzGrst\": 1063, \"sum_Flaeche\": 398086.3692064968}, {\"Jahr\": \"2012-01-01T00:00:00\", \"HaeArt\": \"Kauf\", \"sum_AnzGrst\": 988, \"sum_Flaeche\": 1658087.8854812859}, {\"Jahr\": \"2017-01-01T00:00:00\", \"HaeArt\": \"Kauf\", \"sum_AnzGrst\": 988, \"sum_Flaeche\": 314148.5937463499}, {\"Jahr\": \"2013-01-01T00:00:00\", \"HaeArt\": \"Kauf\", \"sum_AnzGrst\": 963, \"sum_Flaeche\": 460271.9226987301}, {\"Jahr\": \"2011-01-01T00:00:00\", \"HaeArt\": \"Schenkung/Verm\\u00e4chtnis/Abtretung\", \"sum_AnzGrst\": 954, \"sum_Flaeche\": 679025.3961615381}, {\"Jahr\": \"2020-01-01T00:00:00\", \"HaeArt\": \"Kauf\", \"sum_AnzGrst\": 947, \"sum_Flaeche\": 340490.524864464}, {\"Jahr\": \"2012-01-01T00:00:00\", \"HaeArt\": \"Erbfolge\", \"sum_AnzGrst\": 939, \"sum_Flaeche\": 683037.298088888}, {\"Jahr\": \"2016-01-01T00:00:00\", \"HaeArt\": \"Erbfolge\", \"sum_AnzGrst\": 913, \"sum_Flaeche\": 643314.492199999}, {\"Jahr\": \"2019-01-01T00:00:00\", \"HaeArt\": \"Kauf\", \"sum_AnzGrst\": 893, \"sum_Flaeche\": 437147.3516226058}, {\"Jahr\": \"2017-01-01T00:00:00\", \"HaeArt\": \"Erbfolge\", \"sum_AnzGrst\": 865, \"sum_Flaeche\": 664328.5150666666}, {\"Jahr\": \"2021-01-01T00:00:00\", \"HaeArt\": \"Erbfolge\", \"sum_AnzGrst\": 790, \"sum_Flaeche\": 812707.5250380936}, {\"Jahr\": \"2018-01-01T00:00:00\", \"HaeArt\": \"Erbfolge\", \"sum_AnzGrst\": 739, \"sum_Flaeche\": 544650.4028}, {\"Jahr\": \"2017-01-01T00:00:00\", \"HaeArt\": \"Uebrige\", \"sum_AnzGrst\": 730, \"sum_Flaeche\": 872065.2550333326}, {\"Jahr\": \"2013-01-01T00:00:00\", \"HaeArt\": \"Erbfolge\", \"sum_AnzGrst\": 717, \"sum_Flaeche\": 437238.5662333333}, {\"Jahr\": \"2014-01-01T00:00:00\", \"HaeArt\": \"Erbfolge\", \"sum_AnzGrst\": 709, \"sum_Flaeche\": 548588.5747153265}, {\"Jahr\": \"2015-01-01T00:00:00\", \"HaeArt\": \"Erbfolge\", \"sum_AnzGrst\": 692, \"sum_Flaeche\": 299290.5131857141}, {\"Jahr\": \"2019-01-01T00:00:00\", \"HaeArt\": \"Erbfolge\", \"sum_AnzGrst\": 664, \"sum_Flaeche\": 371368.8593155544}, {\"Jahr\": \"2020-01-01T00:00:00\", \"HaeArt\": \"Erbfolge\", \"sum_AnzGrst\": 658, \"sum_Flaeche\": 527676.1037666666}, {\"Jahr\": \"2019-01-01T00:00:00\", \"HaeArt\": \"Uebrige\", \"sum_AnzGrst\": 604, \"sum_Flaeche\": 737601.5589000001}, {\"Jahr\": \"2012-01-01T00:00:00\", \"HaeArt\": \"Schenkung/Verm\\u00e4chtnis/Abtretung\", \"sum_AnzGrst\": 585, \"sum_Flaeche\": 338742.2983047615}, {\"Jahr\": \"2009-01-01T00:00:00\", \"HaeArt\": \"Erbfolge\", \"sum_AnzGrst\": 583, \"sum_Flaeche\": 390327.0456999996}, {\"Jahr\": \"2010-01-01T00:00:00\", \"HaeArt\": \"Erbfolge\", \"sum_AnzGrst\": 580, \"sum_Flaeche\": 342896.546150248}, {\"Jahr\": \"2011-01-01T00:00:00\", \"HaeArt\": \"Uebrige\", \"sum_AnzGrst\": 539, \"sum_Flaeche\": 724804.0257055493}, {\"Jahr\": \"2014-01-01T00:00:00\", \"HaeArt\": \"Uebrige\", \"sum_AnzGrst\": 521, \"sum_Flaeche\": 675220.7154}, {\"Jahr\": \"2020-01-01T00:00:00\", \"HaeArt\": \"Uebrige\", \"sum_AnzGrst\": 503, \"sum_Flaeche\": 591617.0623799993}, {\"Jahr\": \"2018-01-01T00:00:00\", \"HaeArt\": \"Uebrige\", \"sum_AnzGrst\": 486, \"sum_Flaeche\": 539393.3496666666}, {\"Jahr\": \"2021-01-01T00:00:00\", \"HaeArt\": \"Uebrige\", \"sum_AnzGrst\": 442, \"sum_Flaeche\": 504043.580866666}, {\"Jahr\": \"2013-01-01T00:00:00\", \"HaeArt\": \"Uebrige\", \"sum_AnzGrst\": 431, \"sum_Flaeche\": 452316.2003948713}, {\"Jahr\": \"2016-01-01T00:00:00\", \"HaeArt\": \"Uebrige\", \"sum_AnzGrst\": 420, \"sum_Flaeche\": 393445.7800766666}, {\"Jahr\": \"2015-01-01T00:00:00\", \"HaeArt\": \"Uebrige\", \"sum_AnzGrst\": 412, \"sum_Flaeche\": 491375.3169809517}, {\"Jahr\": \"2012-01-01T00:00:00\", \"HaeArt\": \"Uebrige\", \"sum_AnzGrst\": 410, \"sum_Flaeche\": 458398.5141200769}, {\"Jahr\": \"2010-01-01T00:00:00\", \"HaeArt\": \"Uebrige\", \"sum_AnzGrst\": 328, \"sum_Flaeche\": 407413.98776666605}, {\"Jahr\": \"2020-01-01T00:00:00\", \"HaeArt\": \"Schenkung/Verm\\u00e4chtnis/Abtretung\", \"sum_AnzGrst\": 164, \"sum_Flaeche\": 534905.597285437}, {\"Jahr\": \"2018-01-01T00:00:00\", \"HaeArt\": \"Schenkung/Verm\\u00e4chtnis/Abtretung\", \"sum_AnzGrst\": 134, \"sum_Flaeche\": 80839.27351111104}, {\"Jahr\": \"2017-01-01T00:00:00\", \"HaeArt\": \"Schenkung/Verm\\u00e4chtnis/Abtretung\", \"sum_AnzGrst\": 131, \"sum_Flaeche\": 60158.1705333333}, {\"Jahr\": \"2021-01-01T00:00:00\", \"HaeArt\": \"Schenkung/Verm\\u00e4chtnis/Abtretung\", \"sum_AnzGrst\": 109, \"sum_Flaeche\": 39778.17017333326}, {\"Jahr\": \"2014-01-01T00:00:00\", \"HaeArt\": \"Schenkung/Verm\\u00e4chtnis/Abtretung\", \"sum_AnzGrst\": 107, \"sum_Flaeche\": 68017.37597142857}, {\"Jahr\": \"2009-01-01T00:00:00\", \"HaeArt\": \"Schenkung/Verm\\u00e4chtnis/Abtretung\", \"sum_AnzGrst\": 104, \"sum_Flaeche\": 56790.54416666666}, {\"Jahr\": \"2016-01-01T00:00:00\", \"HaeArt\": \"Schenkung/Verm\\u00e4chtnis/Abtretung\", \"sum_AnzGrst\": 104, \"sum_Flaeche\": 55376.0257333333}, {\"Jahr\": \"2019-01-01T00:00:00\", \"HaeArt\": \"Schenkung/Verm\\u00e4chtnis/Abtretung\", \"sum_AnzGrst\": 98, \"sum_Flaeche\": 32652.38653333333}, {\"Jahr\": \"2015-01-01T00:00:00\", \"HaeArt\": \"Schenkung/Verm\\u00e4chtnis/Abtretung\", \"sum_AnzGrst\": 90, \"sum_Flaeche\": 36955.2225}, {\"Jahr\": \"2009-01-01T00:00:00\", \"HaeArt\": \"Uebrige\", \"sum_AnzGrst\": 76, \"sum_Flaeche\": 89029.2743333333}, {\"Jahr\": \"2013-01-01T00:00:00\", \"HaeArt\": \"Schenkung/Verm\\u00e4chtnis/Abtretung\", \"sum_AnzGrst\": 71, \"sum_Flaeche\": 36493.86183513421}, {\"Jahr\": \"2010-01-01T00:00:00\", \"HaeArt\": \"Schenkung/Verm\\u00e4chtnis/Abtretung\", \"sum_AnzGrst\": 69, \"sum_Flaeche\": 37556.326266666656}, {\"Jahr\": \"2016-01-01T00:00:00\", \"HaeArt\": \"Tausch\", \"sum_AnzGrst\": 20, \"sum_Flaeche\": 28736.3008}, {\"Jahr\": \"2018-01-01T00:00:00\", \"HaeArt\": \"Tausch\", \"sum_AnzGrst\": 19, \"sum_Flaeche\": 91954.826}, {\"Jahr\": \"2013-01-01T00:00:00\", \"HaeArt\": \"Tausch\", \"sum_AnzGrst\": 18, \"sum_Flaeche\": 15490.016}, {\"Jahr\": \"2011-01-01T00:00:00\", \"HaeArt\": \"Tausch\", \"sum_AnzGrst\": 14, \"sum_Flaeche\": 7246.665}, {\"Jahr\": \"2012-01-01T00:00:00\", \"HaeArt\": \"Tausch\", \"sum_AnzGrst\": 13, \"sum_Flaeche\": 25728.293794871795}, {\"Jahr\": \"2021-01-01T00:00:00\", \"HaeArt\": \"Expropriation\", \"sum_AnzGrst\": 9, \"sum_Flaeche\": 1876.124}, {\"Jahr\": \"2010-01-01T00:00:00\", \"HaeArt\": \"Zwangsverwertung\", \"sum_AnzGrst\": 7, \"sum_Flaeche\": 783.22}, {\"Jahr\": \"2015-01-01T00:00:00\", \"HaeArt\": \"Tausch\", \"sum_AnzGrst\": 7, \"sum_Flaeche\": 5348.2088}, {\"Jahr\": \"2017-01-01T00:00:00\", \"HaeArt\": \"Tausch\", \"sum_AnzGrst\": 6, \"sum_Flaeche\": 1916.632}, {\"Jahr\": \"2014-01-01T00:00:00\", \"HaeArt\": \"Tausch\", \"sum_AnzGrst\": 6, \"sum_Flaeche\": 946.64}, {\"Jahr\": \"2021-01-01T00:00:00\", \"HaeArt\": \"Tausch\", \"sum_AnzGrst\": 5, \"sum_Flaeche\": 4962.960999999999}, {\"Jahr\": \"2020-01-01T00:00:00\", \"HaeArt\": \"Tausch\", \"sum_AnzGrst\": 5, \"sum_Flaeche\": 6522.0}, {\"Jahr\": \"2019-01-01T00:00:00\", \"HaeArt\": \"Tausch\", \"sum_AnzGrst\": 5, \"sum_Flaeche\": 2276.4}, {\"Jahr\": \"2015-01-01T00:00:00\", \"HaeArt\": \"Zwangsverwertung\", \"sum_AnzGrst\": 5, \"sum_Flaeche\": 620.39}, {\"Jahr\": \"2011-01-01T00:00:00\", \"HaeArt\": \"Zwangsverwertung\", \"sum_AnzGrst\": 5, \"sum_Flaeche\": 2062.9004999999997}, {\"Jahr\": \"2018-01-01T00:00:00\", \"HaeArt\": \"Zwangsverwertung\", \"sum_AnzGrst\": 4, \"sum_Flaeche\": 2250.468}, {\"Jahr\": \"2009-01-01T00:00:00\", \"HaeArt\": \"Tausch\", \"sum_AnzGrst\": 4, \"sum_Flaeche\": 63.2676}, {\"Jahr\": \"2010-01-01T00:00:00\", \"HaeArt\": \"Tausch\", \"sum_AnzGrst\": 4, \"sum_Flaeche\": 8.804}, {\"Jahr\": \"2019-01-01T00:00:00\", \"HaeArt\": \"Freiwillige Steigerung\", \"sum_AnzGrst\": 3, \"sum_Flaeche\": 984.0}, {\"Jahr\": \"2012-01-01T00:00:00\", \"HaeArt\": \"Zwangsverwertung\", \"sum_AnzGrst\": 3, \"sum_Flaeche\": 957.088}, {\"Jahr\": \"2019-01-01T00:00:00\", \"HaeArt\": \"Zwangsverwertung\", \"sum_AnzGrst\": 2, \"sum_Flaeche\": 1143.76}, {\"Jahr\": \"2017-01-01T00:00:00\", \"HaeArt\": \"Zwangsverwertung\", \"sum_AnzGrst\": 2, \"sum_Flaeche\": 1126.13}, {\"Jahr\": \"2016-01-01T00:00:00\", \"HaeArt\": \"Zwangsverwertung\", \"sum_AnzGrst\": 2, \"sum_Flaeche\": 175.5115}, {\"Jahr\": \"2009-01-01T00:00:00\", \"HaeArt\": \"Zwangsverwertung\", \"sum_AnzGrst\": 2, \"sum_Flaeche\": 478.86400000000003}, {\"Jahr\": \"2014-01-01T00:00:00\", \"HaeArt\": \"Zwangsverwertung\", \"sum_AnzGrst\": 2, \"sum_Flaeche\": 1192.56}, {\"Jahr\": \"2010-01-01T00:00:00\", \"HaeArt\": \"Expropriation\", \"sum_AnzGrst\": 2, \"sum_Flaeche\": 479.51}]}}, {\"mode\": \"vega-lite\"});\n",
       "</script>"
      ],
      "text/plain": [
       "alt.LayerChart(...)"
      ]
     },
     "execution_count": 57,
     "metadata": {},
     "output_type": "execute_result"
    }
   ],
   "source": [
    "highlight = alt.selection(type='single', on='mouseover',\n",
    "                          fields=['HaeArt'], nearest=True)\n",
    "#x='date:StichtagDatJahr',\n",
    "base = alt.Chart(myAgg.reset_index().query('sum_AnzGrst > 1'), title=\"Title\").encode(\n",
    "    x=alt.X('Jahr', axis=alt.Axis(title='Jahr'))# , axis=alt.Axis(format='%', title='percentage')\n",
    "    , y=alt.X('sum_AnzGrst', axis=alt.Axis(title='Anz. Grundstücke'))\n",
    "    , color=alt.Color('HaeArt', legend=alt.Legend(title=\"Handänderungsarten\", orient=\"right\"))  \n",
    "    ,tooltip=['Jahr', 'HaeArt','sum_AnzGrst']    \n",
    ")\n",
    "points = base.mark_circle().encode(\n",
    "    opacity=alt.value(0.75)\n",
    ").add_selection(\n",
    "    highlight\n",
    ").properties(\n",
    "    width=750 , height=350\n",
    ")\n",
    "lines = base.mark_line().encode(\n",
    "    size=alt.condition(~highlight, alt.value(0.5), alt.value(4))\n",
    ").interactive()\n",
    "\n",
    "lines + points"
   ]
  },
  {
   "cell_type": "markdown",
   "metadata": {
    "tags": []
   },
   "source": [
    "#### Entwicklung der Handänderungsflächen nach HAE-Arten seit 2009"
   ]
  },
  {
   "cell_type": "code",
   "execution_count": 72,
   "metadata": {},
   "outputs": [],
   "source": [
    "#data2betested.dtypes"
   ]
  },
  {
   "cell_type": "code",
   "execution_count": 73,
   "metadata": {
    "tags": []
   },
   "outputs": [],
   "source": [
    "myAgg = data2betested.loc[\"2009\":\"2021\"]\\\n",
    "    .groupby(['Jahr', 'HaeArt']) \\\n",
    "    .agg(sum_AnzGrst=('AnzGrst', 'sum'), sum_Flaeche=('Flaeche', 'sum')) \\\n",
    "    .sort_values('Jahr', ascending=False) \n",
    "\n",
    "#myAgg.reset_index()\n"
   ]
  },
  {
   "cell_type": "code",
   "execution_count": 74,
   "metadata": {},
   "outputs": [
    {
     "data": {
      "text/html": [
       "\n",
       "<div id=\"altair-viz-0d8d74e9adbb4473a3ef3fe584bee490\"></div>\n",
       "<script type=\"text/javascript\">\n",
       "  (function(spec, embedOpt){\n",
       "    let outputDiv = document.currentScript.previousElementSibling;\n",
       "    if (outputDiv.id !== \"altair-viz-0d8d74e9adbb4473a3ef3fe584bee490\") {\n",
       "      outputDiv = document.getElementById(\"altair-viz-0d8d74e9adbb4473a3ef3fe584bee490\");\n",
       "    }\n",
       "    const paths = {\n",
       "      \"vega\": \"https://cdn.jsdelivr.net/npm//vega@5?noext\",\n",
       "      \"vega-lib\": \"https://cdn.jsdelivr.net/npm//vega-lib?noext\",\n",
       "      \"vega-lite\": \"https://cdn.jsdelivr.net/npm//vega-lite@4.8.1?noext\",\n",
       "      \"vega-embed\": \"https://cdn.jsdelivr.net/npm//vega-embed@6?noext\",\n",
       "    };\n",
       "\n",
       "    function loadScript(lib) {\n",
       "      return new Promise(function(resolve, reject) {\n",
       "        var s = document.createElement('script');\n",
       "        s.src = paths[lib];\n",
       "        s.async = true;\n",
       "        s.onload = () => resolve(paths[lib]);\n",
       "        s.onerror = () => reject(`Error loading script: ${paths[lib]}`);\n",
       "        document.getElementsByTagName(\"head\")[0].appendChild(s);\n",
       "      });\n",
       "    }\n",
       "\n",
       "    function showError(err) {\n",
       "      outputDiv.innerHTML = `<div class=\"error\" style=\"color:red;\">${err}</div>`;\n",
       "      throw err;\n",
       "    }\n",
       "\n",
       "    function displayChart(vegaEmbed) {\n",
       "      vegaEmbed(outputDiv, spec, embedOpt)\n",
       "        .catch(err => showError(`Javascript Error: ${err.message}<br>This usually means there's a typo in your chart specification. See the javascript console for the full traceback.`));\n",
       "    }\n",
       "\n",
       "    if(typeof define === \"function\" && define.amd) {\n",
       "      requirejs.config({paths});\n",
       "      require([\"vega-embed\"], displayChart, err => showError(`Error loading script: ${err.message}`));\n",
       "    } else if (typeof vegaEmbed === \"function\") {\n",
       "      displayChart(vegaEmbed);\n",
       "    } else {\n",
       "      loadScript(\"vega\")\n",
       "        .then(() => loadScript(\"vega-lite\"))\n",
       "        .then(() => loadScript(\"vega-embed\"))\n",
       "        .catch(showError)\n",
       "        .then(() => displayChart(vegaEmbed));\n",
       "    }\n",
       "  })({\"config\": {\"view\": {\"continuousWidth\": 400, \"continuousHeight\": 300}}, \"layer\": [{\"mark\": \"line\", \"encoding\": {\"color\": {\"type\": \"nominal\", \"field\": \"HaeArt\", \"legend\": {\"orient\": \"right\", \"title\": \"Hand\\u00e4nderungsarten\"}}, \"size\": {\"condition\": {\"value\": 0.5, \"selection\": {\"not\": \"selector013\"}}, \"value\": 4}, \"tooltip\": [{\"type\": \"temporal\", \"field\": \"Jahr\"}, {\"type\": \"nominal\", \"field\": \"HaeArt\"}, {\"type\": \"quantitative\", \"field\": \"sum_Flaeche\"}], \"x\": {\"type\": \"temporal\", \"axis\": {\"title\": \"Jahr\"}, \"field\": \"Jahr\"}, \"y\": {\"type\": \"quantitative\", \"axis\": {\"title\": \"Fl\\u00e4che der Grundst\\u00fccke\"}, \"field\": \"sum_Flaeche\"}}, \"selection\": {\"selector014\": {\"type\": \"interval\", \"bind\": \"scales\", \"encodings\": [\"x\", \"y\"]}}, \"title\": \"Title\"}, {\"mark\": \"circle\", \"encoding\": {\"color\": {\"type\": \"nominal\", \"field\": \"HaeArt\", \"legend\": {\"orient\": \"right\", \"title\": \"Hand\\u00e4nderungsarten\"}}, \"opacity\": {\"value\": 0.75}, \"tooltip\": [{\"type\": \"temporal\", \"field\": \"Jahr\"}, {\"type\": \"nominal\", \"field\": \"HaeArt\"}, {\"type\": \"quantitative\", \"field\": \"sum_Flaeche\"}], \"x\": {\"type\": \"temporal\", \"axis\": {\"title\": \"Jahr\"}, \"field\": \"Jahr\"}, \"y\": {\"type\": \"quantitative\", \"axis\": {\"title\": \"Fl\\u00e4che der Grundst\\u00fccke\"}, \"field\": \"sum_Flaeche\"}}, \"height\": 350, \"selection\": {\"selector013\": {\"type\": \"single\", \"on\": \"mouseover\", \"fields\": [\"HaeArt\"], \"nearest\": true}}, \"title\": \"Title\", \"width\": 750}], \"data\": {\"name\": \"data-b95050df99ab8f1a5f306e407f51427a\"}, \"$schema\": \"https://vega.github.io/schema/vega-lite/v4.8.1.json\", \"datasets\": {\"data-b95050df99ab8f1a5f306e407f51427a\": [{\"Jahr\": \"2021-01-01T00:00:00\", \"HaeArt\": \"Uebrige\", \"sum_AnzGrst\": 442, \"sum_Flaeche\": 504043.580866666}, {\"Jahr\": \"2021-01-01T00:00:00\", \"HaeArt\": \"Tausch\", \"sum_AnzGrst\": 5, \"sum_Flaeche\": 4962.960999999999}, {\"Jahr\": \"2021-01-01T00:00:00\", \"HaeArt\": \"Schenkung/Verm\\u00e4chtnis/Abtretung\", \"sum_AnzGrst\": 109, \"sum_Flaeche\": 39778.17017333326}, {\"Jahr\": \"2021-01-01T00:00:00\", \"HaeArt\": \"Kauf\", \"sum_AnzGrst\": 1252, \"sum_Flaeche\": 410743.6133248144}, {\"Jahr\": \"2021-01-01T00:00:00\", \"HaeArt\": \"Expropriation\", \"sum_AnzGrst\": 9, \"sum_Flaeche\": 1876.124}, {\"Jahr\": \"2021-01-01T00:00:00\", \"HaeArt\": \"Erbfolge\", \"sum_AnzGrst\": 790, \"sum_Flaeche\": 812707.5250380936}, {\"Jahr\": \"2020-01-01T00:00:00\", \"HaeArt\": \"Schenkung/Verm\\u00e4chtnis/Abtretung\", \"sum_AnzGrst\": 164, \"sum_Flaeche\": 534905.597285437}, {\"Jahr\": \"2020-01-01T00:00:00\", \"HaeArt\": \"Erbfolge\", \"sum_AnzGrst\": 658, \"sum_Flaeche\": 527676.1037666666}, {\"Jahr\": \"2020-01-01T00:00:00\", \"HaeArt\": \"Kauf\", \"sum_AnzGrst\": 947, \"sum_Flaeche\": 340490.524864464}, {\"Jahr\": \"2020-01-01T00:00:00\", \"HaeArt\": \"Uebrige\", \"sum_AnzGrst\": 503, \"sum_Flaeche\": 591617.0623799993}, {\"Jahr\": \"2020-01-01T00:00:00\", \"HaeArt\": \"Tausch\", \"sum_AnzGrst\": 5, \"sum_Flaeche\": 6522.0}, {\"Jahr\": \"2019-01-01T00:00:00\", \"HaeArt\": \"Schenkung/Verm\\u00e4chtnis/Abtretung\", \"sum_AnzGrst\": 98, \"sum_Flaeche\": 32652.38653333333}, {\"Jahr\": \"2019-01-01T00:00:00\", \"HaeArt\": \"Erbfolge\", \"sum_AnzGrst\": 664, \"sum_Flaeche\": 371368.8593155544}, {\"Jahr\": \"2019-01-01T00:00:00\", \"HaeArt\": \"Kauf\", \"sum_AnzGrst\": 893, \"sum_Flaeche\": 437147.3516226058}, {\"Jahr\": \"2019-01-01T00:00:00\", \"HaeArt\": \"Freiwillige Steigerung\", \"sum_AnzGrst\": 3, \"sum_Flaeche\": 984.0}, {\"Jahr\": \"2019-01-01T00:00:00\", \"HaeArt\": \"Tausch\", \"sum_AnzGrst\": 5, \"sum_Flaeche\": 2276.4}, {\"Jahr\": \"2019-01-01T00:00:00\", \"HaeArt\": \"Uebrige\", \"sum_AnzGrst\": 604, \"sum_Flaeche\": 737601.5589000001}, {\"Jahr\": \"2019-01-01T00:00:00\", \"HaeArt\": \"Zwangsverwertung\", \"sum_AnzGrst\": 2, \"sum_Flaeche\": 1143.76}, {\"Jahr\": \"2018-01-01T00:00:00\", \"HaeArt\": \"Zwangsverwertung\", \"sum_AnzGrst\": 4, \"sum_Flaeche\": 2250.468}, {\"Jahr\": \"2018-01-01T00:00:00\", \"HaeArt\": \"Uebrige\", \"sum_AnzGrst\": 486, \"sum_Flaeche\": 539393.3496666666}, {\"Jahr\": \"2018-01-01T00:00:00\", \"HaeArt\": \"Tausch\", \"sum_AnzGrst\": 19, \"sum_Flaeche\": 91954.826}, {\"Jahr\": \"2018-01-01T00:00:00\", \"HaeArt\": \"Schenkung/Verm\\u00e4chtnis/Abtretung\", \"sum_AnzGrst\": 134, \"sum_Flaeche\": 80839.27351111104}, {\"Jahr\": \"2018-01-01T00:00:00\", \"HaeArt\": \"Kauf\", \"sum_AnzGrst\": 1063, \"sum_Flaeche\": 398086.3692064968}, {\"Jahr\": \"2018-01-01T00:00:00\", \"HaeArt\": \"Erbfolge\", \"sum_AnzGrst\": 739, \"sum_Flaeche\": 544650.4028}, {\"Jahr\": \"2017-01-01T00:00:00\", \"HaeArt\": \"Schenkung/Verm\\u00e4chtnis/Abtretung\", \"sum_AnzGrst\": 131, \"sum_Flaeche\": 60158.1705333333}, {\"Jahr\": \"2017-01-01T00:00:00\", \"HaeArt\": \"Erbfolge\", \"sum_AnzGrst\": 865, \"sum_Flaeche\": 664328.5150666666}, {\"Jahr\": \"2017-01-01T00:00:00\", \"HaeArt\": \"Kauf\", \"sum_AnzGrst\": 988, \"sum_Flaeche\": 314148.5937463499}, {\"Jahr\": \"2017-01-01T00:00:00\", \"HaeArt\": \"Uebrige\", \"sum_AnzGrst\": 730, \"sum_Flaeche\": 872065.2550333326}, {\"Jahr\": \"2017-01-01T00:00:00\", \"HaeArt\": \"Tausch\", \"sum_AnzGrst\": 6, \"sum_Flaeche\": 1916.632}, {\"Jahr\": \"2017-01-01T00:00:00\", \"HaeArt\": \"Zwangsverwertung\", \"sum_AnzGrst\": 2, \"sum_Flaeche\": 1126.13}, {\"Jahr\": \"2016-01-01T00:00:00\", \"HaeArt\": \"Erbfolge\", \"sum_AnzGrst\": 913, \"sum_Flaeche\": 643314.492199999}, {\"Jahr\": \"2016-01-01T00:00:00\", \"HaeArt\": \"Zwangsverwertung\", \"sum_AnzGrst\": 2, \"sum_Flaeche\": 175.5115}, {\"Jahr\": \"2016-01-01T00:00:00\", \"HaeArt\": \"Uebrige\", \"sum_AnzGrst\": 420, \"sum_Flaeche\": 393445.7800766666}, {\"Jahr\": \"2016-01-01T00:00:00\", \"HaeArt\": \"Tausch\", \"sum_AnzGrst\": 20, \"sum_Flaeche\": 28736.3008}, {\"Jahr\": \"2016-01-01T00:00:00\", \"HaeArt\": \"Schenkung/Verm\\u00e4chtnis/Abtretung\", \"sum_AnzGrst\": 104, \"sum_Flaeche\": 55376.0257333333}, {\"Jahr\": \"2016-01-01T00:00:00\", \"HaeArt\": \"Kauf\", \"sum_AnzGrst\": 1108, \"sum_Flaeche\": 810977.2116843399}, {\"Jahr\": \"2015-01-01T00:00:00\", \"HaeArt\": \"Zwangsverwertung\", \"sum_AnzGrst\": 5, \"sum_Flaeche\": 620.39}, {\"Jahr\": \"2015-01-01T00:00:00\", \"HaeArt\": \"Tausch\", \"sum_AnzGrst\": 7, \"sum_Flaeche\": 5348.2088}, {\"Jahr\": \"2015-01-01T00:00:00\", \"HaeArt\": \"Schenkung/Verm\\u00e4chtnis/Abtretung\", \"sum_AnzGrst\": 90, \"sum_Flaeche\": 36955.2225}, {\"Jahr\": \"2015-01-01T00:00:00\", \"HaeArt\": \"Kauf\", \"sum_AnzGrst\": 1336, \"sum_Flaeche\": 390712.6845577898}, {\"Jahr\": \"2015-01-01T00:00:00\", \"HaeArt\": \"Erbfolge\", \"sum_AnzGrst\": 692, \"sum_Flaeche\": 299290.5131857141}, {\"Jahr\": \"2015-01-01T00:00:00\", \"HaeArt\": \"Uebrige\", \"sum_AnzGrst\": 412, \"sum_Flaeche\": 491375.3169809517}, {\"Jahr\": \"2014-01-01T00:00:00\", \"HaeArt\": \"Kauf\", \"sum_AnzGrst\": 1116, \"sum_Flaeche\": 535110.6165264419}, {\"Jahr\": \"2014-01-01T00:00:00\", \"HaeArt\": \"Tausch\", \"sum_AnzGrst\": 6, \"sum_Flaeche\": 946.64}, {\"Jahr\": \"2014-01-01T00:00:00\", \"HaeArt\": \"Erbfolge\", \"sum_AnzGrst\": 709, \"sum_Flaeche\": 548588.5747153265}, {\"Jahr\": \"2014-01-01T00:00:00\", \"HaeArt\": \"Schenkung/Verm\\u00e4chtnis/Abtretung\", \"sum_AnzGrst\": 107, \"sum_Flaeche\": 68017.37597142857}, {\"Jahr\": \"2014-01-01T00:00:00\", \"HaeArt\": \"Uebrige\", \"sum_AnzGrst\": 521, \"sum_Flaeche\": 675220.7154}, {\"Jahr\": \"2014-01-01T00:00:00\", \"HaeArt\": \"Zwangsverwertung\", \"sum_AnzGrst\": 2, \"sum_Flaeche\": 1192.56}, {\"Jahr\": \"2013-01-01T00:00:00\", \"HaeArt\": \"Uebrige\", \"sum_AnzGrst\": 431, \"sum_Flaeche\": 452316.2003948713}, {\"Jahr\": \"2013-01-01T00:00:00\", \"HaeArt\": \"Tausch\", \"sum_AnzGrst\": 18, \"sum_Flaeche\": 15490.016}, {\"Jahr\": \"2013-01-01T00:00:00\", \"HaeArt\": \"Schenkung/Verm\\u00e4chtnis/Abtretung\", \"sum_AnzGrst\": 71, \"sum_Flaeche\": 36493.86183513421}, {\"Jahr\": \"2013-01-01T00:00:00\", \"HaeArt\": \"Kauf\", \"sum_AnzGrst\": 963, \"sum_Flaeche\": 460271.9226987301}, {\"Jahr\": \"2013-01-01T00:00:00\", \"HaeArt\": \"Erbfolge\", \"sum_AnzGrst\": 717, \"sum_Flaeche\": 437238.5662333333}, {\"Jahr\": \"2012-01-01T00:00:00\", \"HaeArt\": \"Erbfolge\", \"sum_AnzGrst\": 939, \"sum_Flaeche\": 683037.298088888}, {\"Jahr\": \"2012-01-01T00:00:00\", \"HaeArt\": \"Schenkung/Verm\\u00e4chtnis/Abtretung\", \"sum_AnzGrst\": 585, \"sum_Flaeche\": 338742.2983047615}, {\"Jahr\": \"2012-01-01T00:00:00\", \"HaeArt\": \"Kauf\", \"sum_AnzGrst\": 988, \"sum_Flaeche\": 1658087.8854812859}, {\"Jahr\": \"2012-01-01T00:00:00\", \"HaeArt\": \"Uebrige\", \"sum_AnzGrst\": 410, \"sum_Flaeche\": 458398.5141200769}, {\"Jahr\": \"2012-01-01T00:00:00\", \"HaeArt\": \"Tausch\", \"sum_AnzGrst\": 13, \"sum_Flaeche\": 25728.293794871795}, {\"Jahr\": \"2012-01-01T00:00:00\", \"HaeArt\": \"Zwangsverwertung\", \"sum_AnzGrst\": 3, \"sum_Flaeche\": 957.088}, {\"Jahr\": \"2011-01-01T00:00:00\", \"HaeArt\": \"Tausch\", \"sum_AnzGrst\": 14, \"sum_Flaeche\": 7246.665}, {\"Jahr\": \"2011-01-01T00:00:00\", \"HaeArt\": \"Kauf\", \"sum_AnzGrst\": 1070, \"sum_Flaeche\": 395300.15122695605}, {\"Jahr\": \"2011-01-01T00:00:00\", \"HaeArt\": \"Schenkung/Verm\\u00e4chtnis/Abtretung\", \"sum_AnzGrst\": 954, \"sum_Flaeche\": 679025.3961615381}, {\"Jahr\": \"2011-01-01T00:00:00\", \"HaeArt\": \"Erbfolge\", \"sum_AnzGrst\": 1105, \"sum_Flaeche\": 772935.8546888883}, {\"Jahr\": \"2011-01-01T00:00:00\", \"HaeArt\": \"Uebrige\", \"sum_AnzGrst\": 539, \"sum_Flaeche\": 724804.0257055493}, {\"Jahr\": \"2011-01-01T00:00:00\", \"HaeArt\": \"Zwangsverwertung\", \"sum_AnzGrst\": 5, \"sum_Flaeche\": 2062.9004999999997}, {\"Jahr\": \"2010-01-01T00:00:00\", \"HaeArt\": \"Zwangsverwertung\", \"sum_AnzGrst\": 7, \"sum_Flaeche\": 783.22}, {\"Jahr\": \"2010-01-01T00:00:00\", \"HaeArt\": \"Uebrige\", \"sum_AnzGrst\": 328, \"sum_Flaeche\": 407413.98776666605}, {\"Jahr\": \"2010-01-01T00:00:00\", \"HaeArt\": \"Tausch\", \"sum_AnzGrst\": 4, \"sum_Flaeche\": 8.804}, {\"Jahr\": \"2010-01-01T00:00:00\", \"HaeArt\": \"Schenkung/Verm\\u00e4chtnis/Abtretung\", \"sum_AnzGrst\": 69, \"sum_Flaeche\": 37556.326266666656}, {\"Jahr\": \"2010-01-01T00:00:00\", \"HaeArt\": \"Kauf\", \"sum_AnzGrst\": 1280, \"sum_Flaeche\": 564488.3098058216}, {\"Jahr\": \"2010-01-01T00:00:00\", \"HaeArt\": \"Expropriation\", \"sum_AnzGrst\": 2, \"sum_Flaeche\": 479.51}, {\"Jahr\": \"2010-01-01T00:00:00\", \"HaeArt\": \"Erbfolge\", \"sum_AnzGrst\": 580, \"sum_Flaeche\": 342896.546150248}, {\"Jahr\": \"2009-01-01T00:00:00\", \"HaeArt\": \"Tausch\", \"sum_AnzGrst\": 4, \"sum_Flaeche\": 63.2676}, {\"Jahr\": \"2009-01-01T00:00:00\", \"HaeArt\": \"Schenkung/Verm\\u00e4chtnis/Abtretung\", \"sum_AnzGrst\": 104, \"sum_Flaeche\": 56790.54416666666}, {\"Jahr\": \"2009-01-01T00:00:00\", \"HaeArt\": \"Kauf\", \"sum_AnzGrst\": 1100, \"sum_Flaeche\": 470157.1510666659}, {\"Jahr\": \"2009-01-01T00:00:00\", \"HaeArt\": \"Uebrige\", \"sum_AnzGrst\": 76, \"sum_Flaeche\": 89029.2743333333}, {\"Jahr\": \"2009-01-01T00:00:00\", \"HaeArt\": \"Zwangsverwertung\", \"sum_AnzGrst\": 2, \"sum_Flaeche\": 478.86400000000003}, {\"Jahr\": \"2009-01-01T00:00:00\", \"HaeArt\": \"Erbfolge\", \"sum_AnzGrst\": 583, \"sum_Flaeche\": 390327.0456999996}]}}, {\"mode\": \"vega-lite\"});\n",
       "</script>"
      ],
      "text/plain": [
       "alt.LayerChart(...)"
      ]
     },
     "execution_count": 74,
     "metadata": {},
     "output_type": "execute_result"
    }
   ],
   "source": [
    "highlight = alt.selection(type='single', on='mouseover',\n",
    "                          fields=['HaeArt'], nearest=True)\n",
    "#x='date:StichtagDatJahr',\n",
    "base = alt.Chart(myAgg.reset_index().query('sum_AnzGrst > 1'), title=\"Title\").encode(\n",
    "    x=alt.X('Jahr', axis=alt.Axis(title='Jahr'))# , axis=alt.Axis(format='%', title='percentage')\n",
    "    , y=alt.X('sum_Flaeche', axis=alt.Axis(title='Fläche der Grundstücke'))\n",
    "    , color=alt.Color('HaeArt', legend=alt.Legend(title=\"Handänderungsarten\", orient=\"right\"))  \n",
    "    ,tooltip=['Jahr', 'HaeArt','sum_Flaeche']    \n",
    ")\n",
    "points = base.mark_circle().encode(\n",
    "    opacity=alt.value(0.75)\n",
    ").add_selection(\n",
    "    highlight\n",
    ").properties(\n",
    "    width=750 , height=350\n",
    ")\n",
    "lines = base.mark_line().encode(\n",
    "    size=alt.condition(~highlight, alt.value(0.5), alt.value(4))\n",
    ").interactive()\n",
    "\n",
    "lines + points"
   ]
  },
  {
   "cell_type": "markdown",
   "metadata": {
    "tags": []
   },
   "source": [
    "#### Barcharts mit Seaborn"
   ]
  },
  {
   "cell_type": "code",
   "execution_count": 75,
   "metadata": {},
   "outputs": [],
   "source": [
    "#help(sns.catplot)     "
   ]
  },
  {
   "cell_type": "code",
   "execution_count": 76,
   "metadata": {},
   "outputs": [],
   "source": [
    "#Stile for the following sns graphs\n",
    "sns.set_theme(style=\"whitegrid\")"
   ]
  },
  {
   "cell_type": "markdown",
   "metadata": {},
   "source": [
    "##### Anzahl Handänderungsgrundstücke nach HAE-Art"
   ]
  },
  {
   "cell_type": "code",
   "execution_count": 83,
   "metadata": {},
   "outputs": [],
   "source": [
    "myAggBar = data2betested.loc[\"2020\":\"2021\"]\\\n",
    "    .groupby(['Jahr', 'HaeArt']) \\\n",
    "    .agg(sum_AnzGrst=('AnzGrst', 'sum'), sum_Flaeche=('Flaeche', 'sum')) \\\n",
    "    .sort_values('sum_AnzGrst', ascending=False) \n",
    "\n",
    "#myAggBar.reset_index()"
   ]
  },
  {
   "cell_type": "code",
   "execution_count": 84,
   "metadata": {},
   "outputs": [],
   "source": [
    "#myAggBar.reset_index().dtypes"
   ]
  },
  {
   "cell_type": "code",
   "execution_count": 85,
   "metadata": {},
   "outputs": [
    {
     "data": {
      "text/plain": [
       "<seaborn.axisgrid.FacetGrid at 0x20e97b4c2b0>"
      ]
     },
     "execution_count": 85,
     "metadata": {},
     "output_type": "execute_result"
    },
    {
     "data": {
      "image/png": "[encoded data removed]",
      "text/plain": [
       "<Figure size 929.6x360 with 1 Axes>"
      ]
     },
     "metadata": {},
     "output_type": "display_data"
    }
   ],
   "source": [
    "#sns.color_palette(\"flare\", as_cmap=True)\n",
    "myHist = sns.catplot(data=myAggBar.reset_index()\n",
    "                     , x=\"Jahr\"\n",
    "            , y=\"sum_AnzGrst\"\n",
    "            , hue=\"HaeArt\"\n",
    "            , kind=\"bar\" #boxen, violin, --> wenn die aggregation nicht genau den werten in der grafik entspricht\n",
    "            , palette=\"pastel\" #, color=\"green\"\n",
    "            , height=5\n",
    "            , aspect=2\n",
    "            , order=None, legend_out=True\n",
    "           )\n",
    "myHist.set_xlabels('Jahr', fontsize=11) # not set_label\n",
    "myHist.set_ylabels('Rauminhalt', fontsize=11)\n"
   ]
  },
  {
   "cell_type": "code",
   "execution_count": 86,
   "metadata": {},
   "outputs": [
    {
     "data": {
      "text/plain": [
       "HaeArt                object\n",
       "HaeGrstTyp            object\n",
       "Stockwerkeigentum     object\n",
       "AnzGrst                int64\n",
       "Flaeche              float64\n",
       "dtype: object"
      ]
     },
     "execution_count": 86,
     "metadata": {},
     "output_type": "execute_result"
    }
   ],
   "source": [
    "data2betested.dtypes"
   ]
  },
  {
   "cell_type": "markdown",
   "metadata": {},
   "source": [
    "##### Entwicklung der Anzahl projektierter Wohnungen pro Kreis nach Eigentumsart"
   ]
  },
  {
   "cell_type": "code",
   "execution_count": 88,
   "metadata": {},
   "outputs": [],
   "source": [
    "myAggBar = data2betested.loc[\"2009\":\"2021\"]\\\n",
    "    .groupby(['Jahr', 'HaeArt','HaeGrstTyp']) \\\n",
    "    .agg(sum_AnzGrst=('AnzGrst', 'sum'), sum_Flaeche=('Flaeche', 'sum')) \\\n",
    "    .sort_values('sum_AnzGrst', ascending=False) \n",
    "#myAggBar.reset_index().dtypes\n"
   ]
  },
  {
   "cell_type": "code",
   "execution_count": 92,
   "metadata": {},
   "outputs": [
    {
     "data": {
      "text/plain": [
       "<seaborn.axisgrid.FacetGrid at 0x20e99be0a30>"
      ]
     },
     "execution_count": 92,
     "metadata": {},
     "output_type": "execute_result"
    },
    {
     "data": {
      "image/png": "[encoded data removed]",
      "text/plain": [
       "<Figure size 1073.6x432 with 8 Axes>"
      ]
     },
     "metadata": {},
     "output_type": "display_data"
    },
    {
     "data": {
      "image/png": "[encoded data removed]",
      "text/plain": [
       "<Figure size 1073.6x432 with 8 Axes>"
      ]
     },
     "metadata": {},
     "output_type": "display_data"
    }
   ],
   "source": [
    "g = sns.FacetGrid(myAggBar.reset_index(), col=\"HaeArt\", hue=\"HaeGrstTyp\", col_wrap=4, height=3,)\n",
    "#g.map(sns.scatterplot, \"Jahr\", \"sum_AnzWhg\", alpha=.8)\n",
    "g.map(sns.lineplot, \"Jahr\",\"sum_AnzGrst\", alpha=.8)\n",
    "g.add_legend()\n",
    "\n",
    "g2 = sns.FacetGrid(myAggBar.reset_index(), col=\"HaeArt\", hue=\"HaeGrstTyp\", col_wrap=4, height=3,)\n",
    "g2.map(sns.lineplot, \"Jahr\",\"sum_Flaeche\", alpha=.8)\n",
    "g2.add_legend()\n",
    "\n"
   ]
  },
  {
   "cell_type": "markdown",
   "metadata": {},
   "source": [
    "### Daten in interaktiver Treemap zeigen\n",
    "Dazu gibt es eine sehr nützliche Webseite https://plotly.com/python/treemaps/\n",
    "Zu Farbskalen, siehe: https://plotly.com/python/builtin-colorscales/"
   ]
  },
  {
   "cell_type": "markdown",
   "metadata": {
    "tags": []
   },
   "source": [
    "#### Anzahl Handänderungen nach Stockwerkeigentum, Handänderungsart und Handänderungsgrundstücktyp 2021"
   ]
  },
  {
   "cell_type": "code",
   "execution_count": 104,
   "metadata": {
    "tags": []
   },
   "outputs": [],
   "source": [
    "#data2betested.dtypes"
   ]
  },
  {
   "cell_type": "code",
   "execution_count": 102,
   "metadata": {
    "tags": []
   },
   "outputs": [],
   "source": [
    "myTreemapAgg = data2betested.loc[\"2021\"]\\\n",
    "    .groupby(['Jahr', 'HaeArt','HaeGrstTyp', 'Stockwerkeigentum']) \\\n",
    "    .agg(sum_AnzGrst=('AnzGrst', 'sum'), sum_Flaeche=('Flaeche', 'sum')) \\\n",
    "    .sort_values('sum_AnzGrst', ascending=False) \n",
    "#myTreemapAgg.reset_index().dtypes"
   ]
  },
  {
   "cell_type": "code",
   "execution_count": 103,
   "metadata": {
    "tags": []
   },
   "outputs": [
    {
     "data": {
      "application/vnd.plotly.v1+json": {
       "config": {
        "plotlyServerURL": "https://plot.ly"
       },
       "data": [
        {
         "branchvalues": "total",
         "customdata": [
          [
           1
          ],
          [
           123
          ],
          [
           2
          ],
          [
           5
          ],
          [
           127
          ],
          [
           1
          ],
          [
           21
          ],
          [
           2
          ],
          [
           50
          ],
          [
           162
          ],
          [
           158
          ],
          [
           1
          ],
          [
           427
          ],
          [
           130
          ],
          [
           29
          ],
          [
           23
          ],
          [
           2
          ],
          [
           56
          ],
          [
           139
          ],
          [
           6
          ],
          [
           83
          ],
          [
           1
          ],
          [
           17
          ],
          [
           65
          ],
          [
           2
          ],
          [
           7
          ],
          [
           1
          ],
          [
           7
          ],
          [
           83
          ],
          [
           110
          ],
          [
           2
          ],
          [
           2
          ],
          [
           11
          ],
          [
           6
          ],
          [
           2
          ],
          [
           6
          ],
          [
           40
          ],
          [
           106
          ],
          [
           2
          ],
          [
           1
          ],
          [
           384
          ],
          [
           83
          ],
          [
           4
          ],
          [
           16
          ],
          [
           11
          ],
          [
           82
          ],
          [
           1
          ],
          [
           1
          ],
          [
           1
          ],
          [
           2
          ],
          [
           4
          ],
          [
           133.4019138755981
          ],
          [
           121.03098106712565
          ],
          [
           2
          ],
          [
           1.5714285714285714
          ],
          [
           394.8612440191388
          ],
          [
           106.40384615384616
          ],
          [
           23.944444444444443
          ],
          [
           17.958904109589042
          ],
          [
           2
          ],
          [
           1.6666666666666667
          ],
          [
           42.48717948717949
          ],
          [
           97.48901098901099
          ],
          [
           1
          ],
          [
           311.14261168384877
          ],
          [
           104.8448753462604
          ],
          [
           196.91947852760737
          ]
         ],
         "domain": {
          "x": [
           0,
           1
          ],
          "y": [
           0,
           1
          ]
         },
         "hovertemplate": "labels=%{label}<br>sum_AnzGrst_sum=%{value}<br>parent=%{parent}<br>id=%{id}<br>sum_AnzGrst=%{color}<extra></extra>",
         "ids": [
          "Anzahl Handänderungen nach Stockwerkeigentum, Handänderungsart und Handänderungsgrundstücktyp 2021/Ja/Erbfolge/Einfamilienhäuser",
          "Anzahl Handänderungen nach Stockwerkeigentum, Handänderungsart und Handänderungsgrundstücktyp 2021/Nein/Erbfolge/Einfamilienhäuser",
          "Anzahl Handänderungen nach Stockwerkeigentum, Handänderungsart und Handänderungsgrundstücktyp 2021/Nein/Expropriation/Einfamilienhäuser",
          "Anzahl Handänderungen nach Stockwerkeigentum, Handänderungsart und Handänderungsgrundstücktyp 2021/Ja/Kauf/Einfamilienhäuser",
          "Anzahl Handänderungen nach Stockwerkeigentum, Handänderungsart und Handänderungsgrundstücktyp 2021/Nein/Kauf/Einfamilienhäuser",
          "Anzahl Handänderungen nach Stockwerkeigentum, Handänderungsart und Handänderungsgrundstücktyp 2021/Ja/Schenkung/Vermächtnis/Abtretung/Einfamilienhäuser",
          "Anzahl Handänderungen nach Stockwerkeigentum, Handänderungsart und Handänderungsgrundstücktyp 2021/Nein/Schenkung/Vermächtnis/Abtretung/Einfamilienhäuser",
          "Anzahl Handänderungen nach Stockwerkeigentum, Handänderungsart und Handänderungsgrundstücktyp 2021/Ja/Uebrige/Einfamilienhäuser",
          "Anzahl Handänderungen nach Stockwerkeigentum, Handänderungsart und Handänderungsgrundstücktyp 2021/Nein/Uebrige/Einfamilienhäuser",
          "Anzahl Handänderungen nach Stockwerkeigentum, Handänderungsart und Handänderungsgrundstücktyp 2021/Ja/Erbfolge/Mehrfamilienhäuser",
          "Anzahl Handänderungen nach Stockwerkeigentum, Handänderungsart und Handänderungsgrundstücktyp 2021/Nein/Erbfolge/Mehrfamilienhäuser",
          "Anzahl Handänderungen nach Stockwerkeigentum, Handänderungsart und Handänderungsgrundstücktyp 2021/Nein/Expropriation/Mehrfamilienhäuser",
          "Anzahl Handänderungen nach Stockwerkeigentum, Handänderungsart und Handänderungsgrundstücktyp 2021/Ja/Kauf/Mehrfamilienhäuser",
          "Anzahl Handänderungen nach Stockwerkeigentum, Handänderungsart und Handänderungsgrundstücktyp 2021/Nein/Kauf/Mehrfamilienhäuser",
          "Anzahl Handänderungen nach Stockwerkeigentum, Handänderungsart und Handänderungsgrundstücktyp 2021/Ja/Schenkung/Vermächtnis/Abtretung/Mehrfamilienhäuser",
          "Anzahl Handänderungen nach Stockwerkeigentum, Handänderungsart und Handänderungsgrundstücktyp 2021/Nein/Schenkung/Vermächtnis/Abtretung/Mehrfamilienhäuser",
          "Anzahl Handänderungen nach Stockwerkeigentum, Handänderungsart und Handänderungsgrundstücktyp 2021/Ja/Tausch/Mehrfamilienhäuser",
          "Anzahl Handänderungen nach Stockwerkeigentum, Handänderungsart und Handänderungsgrundstücktyp 2021/Ja/Uebrige/Mehrfamilienhäuser",
          "Anzahl Handänderungen nach Stockwerkeigentum, Handänderungsart und Handänderungsgrundstücktyp 2021/Nein/Uebrige/Mehrfamilienhäuser",
          "Anzahl Handänderungen nach Stockwerkeigentum, Handänderungsart und Handänderungsgrundstücktyp 2021/Ja/Erbfolge/Nutzbauten",
          "Anzahl Handänderungen nach Stockwerkeigentum, Handänderungsart und Handänderungsgrundstücktyp 2021/Nein/Erbfolge/Nutzbauten",
          "Anzahl Handänderungen nach Stockwerkeigentum, Handänderungsart und Handänderungsgrundstücktyp 2021/Nein/Expropriation/Nutzbauten",
          "Anzahl Handänderungen nach Stockwerkeigentum, Handänderungsart und Handänderungsgrundstücktyp 2021/Ja/Kauf/Nutzbauten",
          "Anzahl Handänderungen nach Stockwerkeigentum, Handänderungsart und Handänderungsgrundstücktyp 2021/Nein/Kauf/Nutzbauten",
          "Anzahl Handänderungen nach Stockwerkeigentum, Handänderungsart und Handänderungsgrundstücktyp 2021/Ja/Schenkung/Vermächtnis/Abtretung/Nutzbauten",
          "Anzahl Handänderungen nach Stockwerkeigentum, Handänderungsart und Handänderungsgrundstücktyp 2021/Nein/Schenkung/Vermächtnis/Abtretung/Nutzbauten",
          "Anzahl Handänderungen nach Stockwerkeigentum, Handänderungsart und Handänderungsgrundstücktyp 2021/Nein/Tausch/Nutzbauten",
          "Anzahl Handänderungen nach Stockwerkeigentum, Handänderungsart und Handänderungsgrundstücktyp 2021/Ja/Uebrige/Nutzbauten",
          "Anzahl Handänderungen nach Stockwerkeigentum, Handänderungsart und Handänderungsgrundstücktyp 2021/Nein/Uebrige/Nutzbauten",
          "Anzahl Handänderungen nach Stockwerkeigentum, Handänderungsart und Handänderungsgrundstücktyp 2021/Nein/Erbfolge/Unbebaut",
          "Anzahl Handänderungen nach Stockwerkeigentum, Handänderungsart und Handänderungsgrundstücktyp 2021/Nein/Expropriation/Unbebaut",
          "Anzahl Handänderungen nach Stockwerkeigentum, Handänderungsart und Handänderungsgrundstücktyp 2021/Ja/Kauf/Unbebaut",
          "Anzahl Handänderungen nach Stockwerkeigentum, Handänderungsart und Handänderungsgrundstücktyp 2021/Nein/Kauf/Unbebaut",
          "Anzahl Handänderungen nach Stockwerkeigentum, Handänderungsart und Handänderungsgrundstücktyp 2021/Nein/Schenkung/Vermächtnis/Abtretung/Unbebaut",
          "Anzahl Handänderungen nach Stockwerkeigentum, Handänderungsart und Handänderungsgrundstücktyp 2021/Ja/Uebrige/Unbebaut",
          "Anzahl Handänderungen nach Stockwerkeigentum, Handänderungsart und Handänderungsgrundstücktyp 2021/Nein/Uebrige/Unbebaut",
          "Anzahl Handänderungen nach Stockwerkeigentum, Handänderungsart und Handänderungsgrundstücktyp 2021/Ja/Erbfolge/Wohnhäuser mit Geschäftsräumen",
          "Anzahl Handänderungen nach Stockwerkeigentum, Handänderungsart und Handänderungsgrundstücktyp 2021/Nein/Erbfolge/Wohnhäuser mit Geschäftsräumen",
          "Anzahl Handänderungen nach Stockwerkeigentum, Handänderungsart und Handänderungsgrundstücktyp 2021/Ja/Expropriation/Wohnhäuser mit Geschäftsräumen",
          "Anzahl Handänderungen nach Stockwerkeigentum, Handänderungsart und Handänderungsgrundstücktyp 2021/Nein/Expropriation/Wohnhäuser mit Geschäftsräumen",
          "Anzahl Handänderungen nach Stockwerkeigentum, Handänderungsart und Handänderungsgrundstücktyp 2021/Ja/Kauf/Wohnhäuser mit Geschäftsräumen",
          "Anzahl Handänderungen nach Stockwerkeigentum, Handänderungsart und Handänderungsgrundstücktyp 2021/Nein/Kauf/Wohnhäuser mit Geschäftsräumen",
          "Anzahl Handänderungen nach Stockwerkeigentum, Handänderungsart und Handänderungsgrundstücktyp 2021/Ja/Schenkung/Vermächtnis/Abtretung/Wohnhäuser mit Geschäftsräumen",
          "Anzahl Handänderungen nach Stockwerkeigentum, Handänderungsart und Handänderungsgrundstücktyp 2021/Nein/Schenkung/Vermächtnis/Abtretung/Wohnhäuser mit Geschäftsräumen",
          "Anzahl Handänderungen nach Stockwerkeigentum, Handänderungsart und Handänderungsgrundstücktyp 2021/Ja/Uebrige/Wohnhäuser mit Geschäftsräumen",
          "Anzahl Handänderungen nach Stockwerkeigentum, Handänderungsart und Handänderungsgrundstücktyp 2021/Nein/Uebrige/Wohnhäuser mit Geschäftsräumen",
          "Anzahl Handänderungen nach Stockwerkeigentum, Handänderungsart und Handänderungsgrundstücktyp 2021/Ja/Zwangsverwertung/Wohnhäuser mit Geschäftsräumen",
          "Anzahl Handänderungen nach Stockwerkeigentum, Handänderungsart und Handänderungsgrundstücktyp 2021/Nein/Erbfolge/übrige Wohnhäuser",
          "Anzahl Handänderungen nach Stockwerkeigentum, Handänderungsart und Handänderungsgrundstücktyp 2021/Ja/Kauf/übrige Wohnhäuser",
          "Anzahl Handänderungen nach Stockwerkeigentum, Handänderungsart und Handänderungsgrundstücktyp 2021/Nein/Tausch/übrige Wohnhäuser",
          "Anzahl Handänderungen nach Stockwerkeigentum, Handänderungsart und Handänderungsgrundstücktyp 2021/Nein/Uebrige/übrige Wohnhäuser",
          "Anzahl Handänderungen nach Stockwerkeigentum, Handänderungsart und Handänderungsgrundstücktyp 2021/Ja/Erbfolge",
          "Anzahl Handänderungen nach Stockwerkeigentum, Handänderungsart und Handänderungsgrundstücktyp 2021/Nein/Erbfolge",
          "Anzahl Handänderungen nach Stockwerkeigentum, Handänderungsart und Handänderungsgrundstücktyp 2021/Ja/Expropriation",
          "Anzahl Handänderungen nach Stockwerkeigentum, Handänderungsart und Handänderungsgrundstücktyp 2021/Nein/Expropriation",
          "Anzahl Handänderungen nach Stockwerkeigentum, Handänderungsart und Handänderungsgrundstücktyp 2021/Ja/Kauf",
          "Anzahl Handänderungen nach Stockwerkeigentum, Handänderungsart und Handänderungsgrundstücktyp 2021/Nein/Kauf",
          "Anzahl Handänderungen nach Stockwerkeigentum, Handänderungsart und Handänderungsgrundstücktyp 2021/Ja/Schenkung/Vermächtnis/Abtretung",
          "Anzahl Handänderungen nach Stockwerkeigentum, Handänderungsart und Handänderungsgrundstücktyp 2021/Nein/Schenkung/Vermächtnis/Abtretung",
          "Anzahl Handänderungen nach Stockwerkeigentum, Handänderungsart und Handänderungsgrundstücktyp 2021/Ja/Tausch",
          "Anzahl Handänderungen nach Stockwerkeigentum, Handänderungsart und Handänderungsgrundstücktyp 2021/Nein/Tausch",
          "Anzahl Handänderungen nach Stockwerkeigentum, Handänderungsart und Handänderungsgrundstücktyp 2021/Ja/Uebrige",
          "Anzahl Handänderungen nach Stockwerkeigentum, Handänderungsart und Handänderungsgrundstücktyp 2021/Nein/Uebrige",
          "Anzahl Handänderungen nach Stockwerkeigentum, Handänderungsart und Handänderungsgrundstücktyp 2021/Ja/Zwangsverwertung",
          "Anzahl Handänderungen nach Stockwerkeigentum, Handänderungsart und Handänderungsgrundstücktyp 2021/Ja",
          "Anzahl Handänderungen nach Stockwerkeigentum, Handänderungsart und Handänderungsgrundstücktyp 2021/Nein",
          "Anzahl Handänderungen nach Stockwerkeigentum, Handänderungsart und Handänderungsgrundstücktyp 2021"
         ],
         "labels": [
          "Einfamilienhäuser",
          "Einfamilienhäuser",
          "Einfamilienhäuser",
          "Einfamilienhäuser",
          "Einfamilienhäuser",
          "Einfamilienhäuser",
          "Einfamilienhäuser",
          "Einfamilienhäuser",
          "Einfamilienhäuser",
          "Mehrfamilienhäuser",
          "Mehrfamilienhäuser",
          "Mehrfamilienhäuser",
          "Mehrfamilienhäuser",
          "Mehrfamilienhäuser",
          "Mehrfamilienhäuser",
          "Mehrfamilienhäuser",
          "Mehrfamilienhäuser",
          "Mehrfamilienhäuser",
          "Mehrfamilienhäuser",
          "Nutzbauten",
          "Nutzbauten",
          "Nutzbauten",
          "Nutzbauten",
          "Nutzbauten",
          "Nutzbauten",
          "Nutzbauten",
          "Nutzbauten",
          "Nutzbauten",
          "Nutzbauten",
          "Unbebaut",
          "Unbebaut",
          "Unbebaut",
          "Unbebaut",
          "Unbebaut",
          "Unbebaut",
          "Unbebaut",
          "Wohnhäuser mit Geschäftsräumen",
          "Wohnhäuser mit Geschäftsräumen",
          "Wohnhäuser mit Geschäftsräumen",
          "Wohnhäuser mit Geschäftsräumen",
          "Wohnhäuser mit Geschäftsräumen",
          "Wohnhäuser mit Geschäftsräumen",
          "Wohnhäuser mit Geschäftsräumen",
          "Wohnhäuser mit Geschäftsräumen",
          "Wohnhäuser mit Geschäftsräumen",
          "Wohnhäuser mit Geschäftsräumen",
          "Wohnhäuser mit Geschäftsräumen",
          "übrige Wohnhäuser",
          "übrige Wohnhäuser",
          "übrige Wohnhäuser",
          "übrige Wohnhäuser",
          "Erbfolge",
          "Erbfolge",
          "Expropriation",
          "Expropriation",
          "Kauf",
          "Kauf",
          "Schenkung/Vermächtnis/Abtretung",
          "Schenkung/Vermächtnis/Abtretung",
          "Tausch",
          "Tausch",
          "Uebrige",
          "Uebrige",
          "Zwangsverwertung",
          "Ja",
          "Nein",
          "Anzahl Handänderungen nach Stockwerkeigentum, Handänderungsart und Handänderungsgrundstücktyp 2021"
         ],
         "marker": {
          "coloraxis": "coloraxis",
          "colors": [
           1,
           123,
           2,
           5,
           127,
           1,
           21,
           2,
           50,
           162,
           158,
           1,
           427,
           130,
           29,
           23,
           2,
           56,
           139,
           6,
           83,
           1,
           17,
           65,
           2,
           7,
           1,
           7,
           83,
           110,
           2,
           2,
           11,
           6,
           2,
           6,
           40,
           106,
           2,
           1,
           384,
           83,
           4,
           16,
           11,
           82,
           1,
           1,
           1,
           2,
           4,
           133.4019138755981,
           121.03098106712565,
           2,
           1.5714285714285714,
           394.8612440191388,
           106.40384615384616,
           23.944444444444443,
           17.958904109589042,
           2,
           1.6666666666666667,
           42.48717948717949,
           97.48901098901099,
           1,
           311.14261168384877,
           104.8448753462604,
           196.91947852760737
          ]
         },
         "name": "",
         "parents": [
          "Anzahl Handänderungen nach Stockwerkeigentum, Handänderungsart und Handänderungsgrundstücktyp 2021/Ja/Erbfolge",
          "Anzahl Handänderungen nach Stockwerkeigentum, Handänderungsart und Handänderungsgrundstücktyp 2021/Nein/Erbfolge",
          "Anzahl Handänderungen nach Stockwerkeigentum, Handänderungsart und Handänderungsgrundstücktyp 2021/Nein/Expropriation",
          "Anzahl Handänderungen nach Stockwerkeigentum, Handänderungsart und Handänderungsgrundstücktyp 2021/Ja/Kauf",
          "Anzahl Handänderungen nach Stockwerkeigentum, Handänderungsart und Handänderungsgrundstücktyp 2021/Nein/Kauf",
          "Anzahl Handänderungen nach Stockwerkeigentum, Handänderungsart und Handänderungsgrundstücktyp 2021/Ja/Schenkung/Vermächtnis/Abtretung",
          "Anzahl Handänderungen nach Stockwerkeigentum, Handänderungsart und Handänderungsgrundstücktyp 2021/Nein/Schenkung/Vermächtnis/Abtretung",
          "Anzahl Handänderungen nach Stockwerkeigentum, Handänderungsart und Handänderungsgrundstücktyp 2021/Ja/Uebrige",
          "Anzahl Handänderungen nach Stockwerkeigentum, Handänderungsart und Handänderungsgrundstücktyp 2021/Nein/Uebrige",
          "Anzahl Handänderungen nach Stockwerkeigentum, Handänderungsart und Handänderungsgrundstücktyp 2021/Ja/Erbfolge",
          "Anzahl Handänderungen nach Stockwerkeigentum, Handänderungsart und Handänderungsgrundstücktyp 2021/Nein/Erbfolge",
          "Anzahl Handänderungen nach Stockwerkeigentum, Handänderungsart und Handänderungsgrundstücktyp 2021/Nein/Expropriation",
          "Anzahl Handänderungen nach Stockwerkeigentum, Handänderungsart und Handänderungsgrundstücktyp 2021/Ja/Kauf",
          "Anzahl Handänderungen nach Stockwerkeigentum, Handänderungsart und Handänderungsgrundstücktyp 2021/Nein/Kauf",
          "Anzahl Handänderungen nach Stockwerkeigentum, Handänderungsart und Handänderungsgrundstücktyp 2021/Ja/Schenkung/Vermächtnis/Abtretung",
          "Anzahl Handänderungen nach Stockwerkeigentum, Handänderungsart und Handänderungsgrundstücktyp 2021/Nein/Schenkung/Vermächtnis/Abtretung",
          "Anzahl Handänderungen nach Stockwerkeigentum, Handänderungsart und Handänderungsgrundstücktyp 2021/Ja/Tausch",
          "Anzahl Handänderungen nach Stockwerkeigentum, Handänderungsart und Handänderungsgrundstücktyp 2021/Ja/Uebrige",
          "Anzahl Handänderungen nach Stockwerkeigentum, Handänderungsart und Handänderungsgrundstücktyp 2021/Nein/Uebrige",
          "Anzahl Handänderungen nach Stockwerkeigentum, Handänderungsart und Handänderungsgrundstücktyp 2021/Ja/Erbfolge",
          "Anzahl Handänderungen nach Stockwerkeigentum, Handänderungsart und Handänderungsgrundstücktyp 2021/Nein/Erbfolge",
          "Anzahl Handänderungen nach Stockwerkeigentum, Handänderungsart und Handänderungsgrundstücktyp 2021/Nein/Expropriation",
          "Anzahl Handänderungen nach Stockwerkeigentum, Handänderungsart und Handänderungsgrundstücktyp 2021/Ja/Kauf",
          "Anzahl Handänderungen nach Stockwerkeigentum, Handänderungsart und Handänderungsgrundstücktyp 2021/Nein/Kauf",
          "Anzahl Handänderungen nach Stockwerkeigentum, Handänderungsart und Handänderungsgrundstücktyp 2021/Ja/Schenkung/Vermächtnis/Abtretung",
          "Anzahl Handänderungen nach Stockwerkeigentum, Handänderungsart und Handänderungsgrundstücktyp 2021/Nein/Schenkung/Vermächtnis/Abtretung",
          "Anzahl Handänderungen nach Stockwerkeigentum, Handänderungsart und Handänderungsgrundstücktyp 2021/Nein/Tausch",
          "Anzahl Handänderungen nach Stockwerkeigentum, Handänderungsart und Handänderungsgrundstücktyp 2021/Ja/Uebrige",
          "Anzahl Handänderungen nach Stockwerkeigentum, Handänderungsart und Handänderungsgrundstücktyp 2021/Nein/Uebrige",
          "Anzahl Handänderungen nach Stockwerkeigentum, Handänderungsart und Handänderungsgrundstücktyp 2021/Nein/Erbfolge",
          "Anzahl Handänderungen nach Stockwerkeigentum, Handänderungsart und Handänderungsgrundstücktyp 2021/Nein/Expropriation",
          "Anzahl Handänderungen nach Stockwerkeigentum, Handänderungsart und Handänderungsgrundstücktyp 2021/Ja/Kauf",
          "Anzahl Handänderungen nach Stockwerkeigentum, Handänderungsart und Handänderungsgrundstücktyp 2021/Nein/Kauf",
          "Anzahl Handänderungen nach Stockwerkeigentum, Handänderungsart und Handänderungsgrundstücktyp 2021/Nein/Schenkung/Vermächtnis/Abtretung",
          "Anzahl Handänderungen nach Stockwerkeigentum, Handänderungsart und Handänderungsgrundstücktyp 2021/Ja/Uebrige",
          "Anzahl Handänderungen nach Stockwerkeigentum, Handänderungsart und Handänderungsgrundstücktyp 2021/Nein/Uebrige",
          "Anzahl Handänderungen nach Stockwerkeigentum, Handänderungsart und Handänderungsgrundstücktyp 2021/Ja/Erbfolge",
          "Anzahl Handänderungen nach Stockwerkeigentum, Handänderungsart und Handänderungsgrundstücktyp 2021/Nein/Erbfolge",
          "Anzahl Handänderungen nach Stockwerkeigentum, Handänderungsart und Handänderungsgrundstücktyp 2021/Ja/Expropriation",
          "Anzahl Handänderungen nach Stockwerkeigentum, Handänderungsart und Handänderungsgrundstücktyp 2021/Nein/Expropriation",
          "Anzahl Handänderungen nach Stockwerkeigentum, Handänderungsart und Handänderungsgrundstücktyp 2021/Ja/Kauf",
          "Anzahl Handänderungen nach Stockwerkeigentum, Handänderungsart und Handänderungsgrundstücktyp 2021/Nein/Kauf",
          "Anzahl Handänderungen nach Stockwerkeigentum, Handänderungsart und Handänderungsgrundstücktyp 2021/Ja/Schenkung/Vermächtnis/Abtretung",
          "Anzahl Handänderungen nach Stockwerkeigentum, Handänderungsart und Handänderungsgrundstücktyp 2021/Nein/Schenkung/Vermächtnis/Abtretung",
          "Anzahl Handänderungen nach Stockwerkeigentum, Handänderungsart und Handänderungsgrundstücktyp 2021/Ja/Uebrige",
          "Anzahl Handänderungen nach Stockwerkeigentum, Handänderungsart und Handänderungsgrundstücktyp 2021/Nein/Uebrige",
          "Anzahl Handänderungen nach Stockwerkeigentum, Handänderungsart und Handänderungsgrundstücktyp 2021/Ja/Zwangsverwertung",
          "Anzahl Handänderungen nach Stockwerkeigentum, Handänderungsart und Handänderungsgrundstücktyp 2021/Nein/Erbfolge",
          "Anzahl Handänderungen nach Stockwerkeigentum, Handänderungsart und Handänderungsgrundstücktyp 2021/Ja/Kauf",
          "Anzahl Handänderungen nach Stockwerkeigentum, Handänderungsart und Handänderungsgrundstücktyp 2021/Nein/Tausch",
          "Anzahl Handänderungen nach Stockwerkeigentum, Handänderungsart und Handänderungsgrundstücktyp 2021/Nein/Uebrige",
          "Anzahl Handänderungen nach Stockwerkeigentum, Handänderungsart und Handänderungsgrundstücktyp 2021/Ja",
          "Anzahl Handänderungen nach Stockwerkeigentum, Handänderungsart und Handänderungsgrundstücktyp 2021/Nein",
          "Anzahl Handänderungen nach Stockwerkeigentum, Handänderungsart und Handänderungsgrundstücktyp 2021/Ja",
          "Anzahl Handänderungen nach Stockwerkeigentum, Handänderungsart und Handänderungsgrundstücktyp 2021/Nein",
          "Anzahl Handänderungen nach Stockwerkeigentum, Handänderungsart und Handänderungsgrundstücktyp 2021/Ja",
          "Anzahl Handänderungen nach Stockwerkeigentum, Handänderungsart und Handänderungsgrundstücktyp 2021/Nein",
          "Anzahl Handänderungen nach Stockwerkeigentum, Handänderungsart und Handänderungsgrundstücktyp 2021/Ja",
          "Anzahl Handänderungen nach Stockwerkeigentum, Handänderungsart und Handänderungsgrundstücktyp 2021/Nein",
          "Anzahl Handänderungen nach Stockwerkeigentum, Handänderungsart und Handänderungsgrundstücktyp 2021/Ja",
          "Anzahl Handänderungen nach Stockwerkeigentum, Handänderungsart und Handänderungsgrundstücktyp 2021/Nein",
          "Anzahl Handänderungen nach Stockwerkeigentum, Handänderungsart und Handänderungsgrundstücktyp 2021/Ja",
          "Anzahl Handänderungen nach Stockwerkeigentum, Handänderungsart und Handänderungsgrundstücktyp 2021/Nein",
          "Anzahl Handänderungen nach Stockwerkeigentum, Handänderungsart und Handänderungsgrundstücktyp 2021/Ja",
          "Anzahl Handänderungen nach Stockwerkeigentum, Handänderungsart und Handänderungsgrundstücktyp 2021",
          "Anzahl Handänderungen nach Stockwerkeigentum, Handänderungsart und Handänderungsgrundstücktyp 2021",
          ""
         ],
         "root": {
          "color": "grey"
         },
         "type": "treemap",
         "values": [
          1,
          123,
          2,
          5,
          127,
          1,
          21,
          2,
          50,
          162,
          158,
          1,
          427,
          130,
          29,
          23,
          2,
          56,
          139,
          6,
          83,
          1,
          17,
          65,
          2,
          7,
          1,
          7,
          83,
          110,
          2,
          2,
          11,
          6,
          2,
          6,
          40,
          106,
          2,
          1,
          384,
          83,
          4,
          16,
          11,
          82,
          1,
          1,
          1,
          2,
          4,
          209,
          581,
          2,
          7,
          836,
          416,
          36,
          73,
          2,
          3,
          78,
          364,
          1,
          1164,
          1444,
          2608
         ]
        }
       ],
       "layout": {
        "coloraxis": {
         "colorbar": {
          "title": {
           "text": "sum_AnzGrst"
          }
         },
         "colorscale": [
          [
           0,
           "#00224e"
          ],
          [
           0.1111111111111111,
           "#123570"
          ],
          [
           0.2222222222222222,
           "#3b496c"
          ],
          [
           0.3333333333333333,
           "#575d6d"
          ],
          [
           0.4444444444444444,
           "#707173"
          ],
          [
           0.5555555555555556,
           "#8a8678"
          ],
          [
           0.6666666666666666,
           "#a59c74"
          ],
          [
           0.7777777777777778,
           "#c3b369"
          ],
          [
           0.8888888888888888,
           "#e1cc55"
          ],
          [
           1,
           "#fee838"
          ]
         ]
        },
        "height": 500,
        "legend": {
         "tracegroupgap": 0
        },
        "margin": {
         "b": 25,
         "l": 25,
         "r": 250,
         "t": 50
        },
        "template": {
         "data": {
          "bar": [
           {
            "error_x": {
             "color": "#2a3f5f"
            },
            "error_y": {
             "color": "#2a3f5f"
            },
            "marker": {
             "line": {
              "color": "#E5ECF6",
              "width": 0.5
             },
             "pattern": {
              "fillmode": "overlay",
              "size": 10,
              "solidity": 0.2
             }
            },
            "type": "bar"
           }
          ],
          "barpolar": [
           {
            "marker": {
             "line": {
              "color": "#E5ECF6",
              "width": 0.5
             },
             "pattern": {
              "fillmode": "overlay",
              "size": 10,
              "solidity": 0.2
             }
            },
            "type": "barpolar"
           }
          ],
          "carpet": [
           {
            "aaxis": {
             "endlinecolor": "#2a3f5f",
             "gridcolor": "white",
             "linecolor": "white",
             "minorgridcolor": "white",
             "startlinecolor": "#2a3f5f"
            },
            "baxis": {
             "endlinecolor": "#2a3f5f",
             "gridcolor": "white",
             "linecolor": "white",
             "minorgridcolor": "white",
             "startlinecolor": "#2a3f5f"
            },
            "type": "carpet"
           }
          ],
          "choropleth": [
           {
            "colorbar": {
             "outlinewidth": 0,
             "ticks": ""
            },
            "type": "choropleth"
           }
          ],
          "contour": [
           {
            "colorbar": {
             "outlinewidth": 0,
             "ticks": ""
            },
            "colorscale": [
             [
              0,
              "#0d0887"
             ],
             [
              0.1111111111111111,
              "#46039f"
             ],
             [
              0.2222222222222222,
              "#7201a8"
             ],
             [
              0.3333333333333333,
              "#9c179e"
             ],
             [
              0.4444444444444444,
              "#bd3786"
             ],
             [
              0.5555555555555556,
              "#d8576b"
             ],
             [
              0.6666666666666666,
              "#ed7953"
             ],
             [
              0.7777777777777778,
              "#fb9f3a"
             ],
             [
              0.8888888888888888,
              "#fdca26"
             ],
             [
              1,
              "#f0f921"
             ]
            ],
            "type": "contour"
           }
          ],
          "contourcarpet": [
           {
            "colorbar": {
             "outlinewidth": 0,
             "ticks": ""
            },
            "type": "contourcarpet"
           }
          ],
          "heatmap": [
           {
            "colorbar": {
             "outlinewidth": 0,
             "ticks": ""
            },
            "colorscale": [
             [
              0,
              "#0d0887"
             ],
             [
              0.1111111111111111,
              "#46039f"
             ],
             [
              0.2222222222222222,
              "#7201a8"
             ],
             [
              0.3333333333333333,
              "#9c179e"
             ],
             [
              0.4444444444444444,
              "#bd3786"
             ],
             [
              0.5555555555555556,
              "#d8576b"
             ],
             [
              0.6666666666666666,
              "#ed7953"
             ],
             [
              0.7777777777777778,
              "#fb9f3a"
             ],
             [
              0.8888888888888888,
              "#fdca26"
             ],
             [
              1,
              "#f0f921"
             ]
            ],
            "type": "heatmap"
           }
          ],
          "heatmapgl": [
           {
            "colorbar": {
             "outlinewidth": 0,
             "ticks": ""
            },
            "colorscale": [
             [
              0,
              "#0d0887"
             ],
             [
              0.1111111111111111,
              "#46039f"
             ],
             [
              0.2222222222222222,
              "#7201a8"
             ],
             [
              0.3333333333333333,
              "#9c179e"
             ],
             [
              0.4444444444444444,
              "#bd3786"
             ],
             [
              0.5555555555555556,
              "#d8576b"
             ],
             [
              0.6666666666666666,
              "#ed7953"
             ],
             [
              0.7777777777777778,
              "#fb9f3a"
             ],
             [
              0.8888888888888888,
              "#fdca26"
             ],
             [
              1,
              "#f0f921"
             ]
            ],
            "type": "heatmapgl"
           }
          ],
          "histogram": [
           {
            "marker": {
             "pattern": {
              "fillmode": "overlay",
              "size": 10,
              "solidity": 0.2
             }
            },
            "type": "histogram"
           }
          ],
          "histogram2d": [
           {
            "colorbar": {
             "outlinewidth": 0,
             "ticks": ""
            },
            "colorscale": [
             [
              0,
              "#0d0887"
             ],
             [
              0.1111111111111111,
              "#46039f"
             ],
             [
              0.2222222222222222,
              "#7201a8"
             ],
             [
              0.3333333333333333,
              "#9c179e"
             ],
             [
              0.4444444444444444,
              "#bd3786"
             ],
             [
              0.5555555555555556,
              "#d8576b"
             ],
             [
              0.6666666666666666,
              "#ed7953"
             ],
             [
              0.7777777777777778,
              "#fb9f3a"
             ],
             [
              0.8888888888888888,
              "#fdca26"
             ],
             [
              1,
              "#f0f921"
             ]
            ],
            "type": "histogram2d"
           }
          ],
          "histogram2dcontour": [
           {
            "colorbar": {
             "outlinewidth": 0,
             "ticks": ""
            },
            "colorscale": [
             [
              0,
              "#0d0887"
             ],
             [
              0.1111111111111111,
              "#46039f"
             ],
             [
              0.2222222222222222,
              "#7201a8"
             ],
             [
              0.3333333333333333,
              "#9c179e"
             ],
             [
              0.4444444444444444,
              "#bd3786"
             ],
             [
              0.5555555555555556,
              "#d8576b"
             ],
             [
              0.6666666666666666,
              "#ed7953"
             ],
             [
              0.7777777777777778,
              "#fb9f3a"
             ],
             [
              0.8888888888888888,
              "#fdca26"
             ],
             [
              1,
              "#f0f921"
             ]
            ],
            "type": "histogram2dcontour"
           }
          ],
          "mesh3d": [
           {
            "colorbar": {
             "outlinewidth": 0,
             "ticks": ""
            },
            "type": "mesh3d"
           }
          ],
          "parcoords": [
           {
            "line": {
             "colorbar": {
              "outlinewidth": 0,
              "ticks": ""
             }
            },
            "type": "parcoords"
           }
          ],
          "pie": [
           {
            "automargin": true,
            "type": "pie"
           }
          ],
          "scatter": [
           {
            "marker": {
             "colorbar": {
              "outlinewidth": 0,
              "ticks": ""
             }
            },
            "type": "scatter"
           }
          ],
          "scatter3d": [
           {
            "line": {
             "colorbar": {
              "outlinewidth": 0,
              "ticks": ""
             }
            },
            "marker": {
             "colorbar": {
              "outlinewidth": 0,
              "ticks": ""
             }
            },
            "type": "scatter3d"
           }
          ],
          "scattercarpet": [
           {
            "marker": {
             "colorbar": {
              "outlinewidth": 0,
              "ticks": ""
             }
            },
            "type": "scattercarpet"
           }
          ],
          "scattergeo": [
           {
            "marker": {
             "colorbar": {
              "outlinewidth": 0,
              "ticks": ""
             }
            },
            "type": "scattergeo"
           }
          ],
          "scattergl": [
           {
            "marker": {
             "colorbar": {
              "outlinewidth": 0,
              "ticks": ""
             }
            },
            "type": "scattergl"
           }
          ],
          "scattermapbox": [
           {
            "marker": {
             "colorbar": {
              "outlinewidth": 0,
              "ticks": ""
             }
            },
            "type": "scattermapbox"
           }
          ],
          "scatterpolar": [
           {
            "marker": {
             "colorbar": {
              "outlinewidth": 0,
              "ticks": ""
             }
            },
            "type": "scatterpolar"
           }
          ],
          "scatterpolargl": [
           {
            "marker": {
             "colorbar": {
              "outlinewidth": 0,
              "ticks": ""
             }
            },
            "type": "scatterpolargl"
           }
          ],
          "scatterternary": [
           {
            "marker": {
             "colorbar": {
              "outlinewidth": 0,
              "ticks": ""
             }
            },
            "type": "scatterternary"
           }
          ],
          "surface": [
           {
            "colorbar": {
             "outlinewidth": 0,
             "ticks": ""
            },
            "colorscale": [
             [
              0,
              "#0d0887"
             ],
             [
              0.1111111111111111,
              "#46039f"
             ],
             [
              0.2222222222222222,
              "#7201a8"
             ],
             [
              0.3333333333333333,
              "#9c179e"
             ],
             [
              0.4444444444444444,
              "#bd3786"
             ],
             [
              0.5555555555555556,
              "#d8576b"
             ],
             [
              0.6666666666666666,
              "#ed7953"
             ],
             [
              0.7777777777777778,
              "#fb9f3a"
             ],
             [
              0.8888888888888888,
              "#fdca26"
             ],
             [
              1,
              "#f0f921"
             ]
            ],
            "type": "surface"
           }
          ],
          "table": [
           {
            "cells": {
             "fill": {
              "color": "#EBF0F8"
             },
             "line": {
              "color": "white"
             }
            },
            "header": {
             "fill": {
              "color": "#C8D4E3"
             },
             "line": {
              "color": "white"
             }
            },
            "type": "table"
           }
          ]
         },
         "layout": {
          "annotationdefaults": {
           "arrowcolor": "#2a3f5f",
           "arrowhead": 0,
           "arrowwidth": 1
          },
          "autotypenumbers": "strict",
          "coloraxis": {
           "colorbar": {
            "outlinewidth": 0,
            "ticks": ""
           }
          },
          "colorscale": {
           "diverging": [
            [
             0,
             "#8e0152"
            ],
            [
             0.1,
             "#c51b7d"
            ],
            [
             0.2,
             "#de77ae"
            ],
            [
             0.3,
             "#f1b6da"
            ],
            [
             0.4,
             "#fde0ef"
            ],
            [
             0.5,
             "#f7f7f7"
            ],
            [
             0.6,
             "#e6f5d0"
            ],
            [
             0.7,
             "#b8e186"
            ],
            [
             0.8,
             "#7fbc41"
            ],
            [
             0.9,
             "#4d9221"
            ],
            [
             1,
             "#276419"
            ]
           ],
           "sequential": [
            [
             0,
             "#0d0887"
            ],
            [
             0.1111111111111111,
             "#46039f"
            ],
            [
             0.2222222222222222,
             "#7201a8"
            ],
            [
             0.3333333333333333,
             "#9c179e"
            ],
            [
             0.4444444444444444,
             "#bd3786"
            ],
            [
             0.5555555555555556,
             "#d8576b"
            ],
            [
             0.6666666666666666,
             "#ed7953"
            ],
            [
             0.7777777777777778,
             "#fb9f3a"
            ],
            [
             0.8888888888888888,
             "#fdca26"
            ],
            [
             1,
             "#f0f921"
            ]
           ],
           "sequentialminus": [
            [
             0,
             "#0d0887"
            ],
            [
             0.1111111111111111,
             "#46039f"
            ],
            [
             0.2222222222222222,
             "#7201a8"
            ],
            [
             0.3333333333333333,
             "#9c179e"
            ],
            [
             0.4444444444444444,
             "#bd3786"
            ],
            [
             0.5555555555555556,
             "#d8576b"
            ],
            [
             0.6666666666666666,
             "#ed7953"
            ],
            [
             0.7777777777777778,
             "#fb9f3a"
            ],
            [
             0.8888888888888888,
             "#fdca26"
            ],
            [
             1,
             "#f0f921"
            ]
           ]
          },
          "colorway": [
           "#636efa",
           "#EF553B",
           "#00cc96",
           "#ab63fa",
           "#FFA15A",
           "#19d3f3",
           "#FF6692",
           "#B6E880",
           "#FF97FF",
           "#FECB52"
          ],
          "font": {
           "color": "#2a3f5f"
          },
          "geo": {
           "bgcolor": "white",
           "lakecolor": "white",
           "landcolor": "#E5ECF6",
           "showlakes": true,
           "showland": true,
           "subunitcolor": "white"
          },
          "hoverlabel": {
           "align": "left"
          },
          "hovermode": "closest",
          "mapbox": {
           "style": "light"
          },
          "paper_bgcolor": "white",
          "plot_bgcolor": "#E5ECF6",
          "polar": {
           "angularaxis": {
            "gridcolor": "white",
            "linecolor": "white",
            "ticks": ""
           },
           "bgcolor": "#E5ECF6",
           "radialaxis": {
            "gridcolor": "white",
            "linecolor": "white",
            "ticks": ""
           }
          },
          "scene": {
           "xaxis": {
            "backgroundcolor": "#E5ECF6",
            "gridcolor": "white",
            "gridwidth": 2,
            "linecolor": "white",
            "showbackground": true,
            "ticks": "",
            "zerolinecolor": "white"
           },
           "yaxis": {
            "backgroundcolor": "#E5ECF6",
            "gridcolor": "white",
            "gridwidth": 2,
            "linecolor": "white",
            "showbackground": true,
            "ticks": "",
            "zerolinecolor": "white"
           },
           "zaxis": {
            "backgroundcolor": "#E5ECF6",
            "gridcolor": "white",
            "gridwidth": 2,
            "linecolor": "white",
            "showbackground": true,
            "ticks": "",
            "zerolinecolor": "white"
           }
          },
          "shapedefaults": {
           "line": {
            "color": "#2a3f5f"
           }
          },
          "ternary": {
           "aaxis": {
            "gridcolor": "white",
            "linecolor": "white",
            "ticks": ""
           },
           "baxis": {
            "gridcolor": "white",
            "linecolor": "white",
            "ticks": ""
           },
           "bgcolor": "#E5ECF6",
           "caxis": {
            "gridcolor": "white",
            "linecolor": "white",
            "ticks": ""
           }
          },
          "title": {
           "x": 0.05
          },
          "xaxis": {
           "automargin": true,
           "gridcolor": "white",
           "linecolor": "white",
           "ticks": "",
           "title": {
            "standoff": 15
           },
           "zerolinecolor": "white",
           "zerolinewidth": 2
          },
          "yaxis": {
           "automargin": true,
           "gridcolor": "white",
           "linecolor": "white",
           "ticks": "",
           "title": {
            "standoff": 15
           },
           "zerolinecolor": "white",
           "zerolinewidth": 2
          }
         }
        },
        "width": 1100
       }
      },
      "image/png": "[encoded data removed]",
      "text/html": [
       "<div>                            <div id=\"d472493e-db52-4552-85d6-3d4b6f8e1415\" class=\"plotly-graph-div\" style=\"height:500px; width:1100px;\"></div>            <script type=\"text/javascript\">                require([\"plotly\"], function(Plotly) {                    window.PLOTLYENV=window.PLOTLYENV || {};                                    if (document.getElementById(\"d472493e-db52-4552-85d6-3d4b6f8e1415\")) {                    Plotly.newPlot(                        \"d472493e-db52-4552-85d6-3d4b6f8e1415\",                        [{\"branchvalues\":\"total\",\"customdata\":[[1.0],[123.0],[2.0],[5.0],[127.0],[1.0],[21.0],[2.0],[50.0],[162.0],[158.0],[1.0],[427.0],[130.0],[29.0],[23.0],[2.0],[56.0],[139.0],[6.0],[83.0],[1.0],[17.0],[65.0],[2.0],[7.0],[1.0],[7.0],[83.0],[110.0],[2.0],[2.0],[11.0],[6.0],[2.0],[6.0],[40.0],[106.0],[2.0],[1.0],[384.0],[83.0],[4.0],[16.0],[11.0],[82.0],[1.0],[1.0],[1.0],[2.0],[4.0],[133.4019138755981],[121.03098106712565],[2.0],[1.5714285714285714],[394.8612440191388],[106.40384615384616],[23.944444444444443],[17.958904109589042],[2.0],[1.6666666666666667],[42.48717948717949],[97.48901098901099],[1.0],[311.14261168384877],[104.8448753462604],[196.91947852760737]],\"domain\":{\"x\":[0.0,1.0],\"y\":[0.0,1.0]},\"hovertemplate\":\"labels=%{label}<br>sum_AnzGrst_sum=%{value}<br>parent=%{parent}<br>id=%{id}<br>sum_AnzGrst=%{color}<extra></extra>\",\"ids\":[\"Anzahl Hand\\u00e4nderungen nach Stockwerkeigentum, Hand\\u00e4nderungsart und Hand\\u00e4nderungsgrundst\\u00fccktyp 2021/Ja/Erbfolge/Einfamilienh\\u00e4user\",\"Anzahl Hand\\u00e4nderungen nach Stockwerkeigentum, Hand\\u00e4nderungsart und Hand\\u00e4nderungsgrundst\\u00fccktyp 2021/Nein/Erbfolge/Einfamilienh\\u00e4user\",\"Anzahl Hand\\u00e4nderungen nach Stockwerkeigentum, Hand\\u00e4nderungsart und Hand\\u00e4nderungsgrundst\\u00fccktyp 2021/Nein/Expropriation/Einfamilienh\\u00e4user\",\"Anzahl Hand\\u00e4nderungen nach Stockwerkeigentum, Hand\\u00e4nderungsart und Hand\\u00e4nderungsgrundst\\u00fccktyp 2021/Ja/Kauf/Einfamilienh\\u00e4user\",\"Anzahl Hand\\u00e4nderungen nach Stockwerkeigentum, Hand\\u00e4nderungsart und Hand\\u00e4nderungsgrundst\\u00fccktyp 2021/Nein/Kauf/Einfamilienh\\u00e4user\",\"Anzahl Hand\\u00e4nderungen nach Stockwerkeigentum, Hand\\u00e4nderungsart und Hand\\u00e4nderungsgrundst\\u00fccktyp 2021/Ja/Schenkung/Verm\\u00e4chtnis/Abtretung/Einfamilienh\\u00e4user\",\"Anzahl Hand\\u00e4nderungen nach Stockwerkeigentum, Hand\\u00e4nderungsart und Hand\\u00e4nderungsgrundst\\u00fccktyp 2021/Nein/Schenkung/Verm\\u00e4chtnis/Abtretung/Einfamilienh\\u00e4user\",\"Anzahl Hand\\u00e4nderungen nach Stockwerkeigentum, Hand\\u00e4nderungsart und Hand\\u00e4nderungsgrundst\\u00fccktyp 2021/Ja/Uebrige/Einfamilienh\\u00e4user\",\"Anzahl Hand\\u00e4nderungen nach Stockwerkeigentum, Hand\\u00e4nderungsart und Hand\\u00e4nderungsgrundst\\u00fccktyp 2021/Nein/Uebrige/Einfamilienh\\u00e4user\",\"Anzahl Hand\\u00e4nderungen nach Stockwerkeigentum, Hand\\u00e4nderungsart und Hand\\u00e4nderungsgrundst\\u00fccktyp 2021/Ja/Erbfolge/Mehrfamilienh\\u00e4user\",\"Anzahl Hand\\u00e4nderungen nach Stockwerkeigentum, Hand\\u00e4nderungsart und Hand\\u00e4nderungsgrundst\\u00fccktyp 2021/Nein/Erbfolge/Mehrfamilienh\\u00e4user\",\"Anzahl Hand\\u00e4nderungen nach Stockwerkeigentum, Hand\\u00e4nderungsart und Hand\\u00e4nderungsgrundst\\u00fccktyp 2021/Nein/Expropriation/Mehrfamilienh\\u00e4user\",\"Anzahl Hand\\u00e4nderungen nach Stockwerkeigentum, Hand\\u00e4nderungsart und Hand\\u00e4nderungsgrundst\\u00fccktyp 2021/Ja/Kauf/Mehrfamilienh\\u00e4user\",\"Anzahl Hand\\u00e4nderungen nach Stockwerkeigentum, Hand\\u00e4nderungsart und Hand\\u00e4nderungsgrundst\\u00fccktyp 2021/Nein/Kauf/Mehrfamilienh\\u00e4user\",\"Anzahl Hand\\u00e4nderungen nach Stockwerkeigentum, Hand\\u00e4nderungsart und Hand\\u00e4nderungsgrundst\\u00fccktyp 2021/Ja/Schenkung/Verm\\u00e4chtnis/Abtretung/Mehrfamilienh\\u00e4user\",\"Anzahl Hand\\u00e4nderungen nach Stockwerkeigentum, Hand\\u00e4nderungsart und Hand\\u00e4nderungsgrundst\\u00fccktyp 2021/Nein/Schenkung/Verm\\u00e4chtnis/Abtretung/Mehrfamilienh\\u00e4user\",\"Anzahl Hand\\u00e4nderungen nach Stockwerkeigentum, Hand\\u00e4nderungsart und Hand\\u00e4nderungsgrundst\\u00fccktyp 2021/Ja/Tausch/Mehrfamilienh\\u00e4user\",\"Anzahl Hand\\u00e4nderungen nach Stockwerkeigentum, Hand\\u00e4nderungsart und Hand\\u00e4nderungsgrundst\\u00fccktyp 2021/Ja/Uebrige/Mehrfamilienh\\u00e4user\",\"Anzahl Hand\\u00e4nderungen nach Stockwerkeigentum, Hand\\u00e4nderungsart und Hand\\u00e4nderungsgrundst\\u00fccktyp 2021/Nein/Uebrige/Mehrfamilienh\\u00e4user\",\"Anzahl Hand\\u00e4nderungen nach Stockwerkeigentum, Hand\\u00e4nderungsart und Hand\\u00e4nderungsgrundst\\u00fccktyp 2021/Ja/Erbfolge/Nutzbauten\",\"Anzahl Hand\\u00e4nderungen nach Stockwerkeigentum, Hand\\u00e4nderungsart und Hand\\u00e4nderungsgrundst\\u00fccktyp 2021/Nein/Erbfolge/Nutzbauten\",\"Anzahl Hand\\u00e4nderungen nach Stockwerkeigentum, Hand\\u00e4nderungsart und Hand\\u00e4nderungsgrundst\\u00fccktyp 2021/Nein/Expropriation/Nutzbauten\",\"Anzahl Hand\\u00e4nderungen nach Stockwerkeigentum, Hand\\u00e4nderungsart und Hand\\u00e4nderungsgrundst\\u00fccktyp 2021/Ja/Kauf/Nutzbauten\",\"Anzahl Hand\\u00e4nderungen nach Stockwerkeigentum, Hand\\u00e4nderungsart und Hand\\u00e4nderungsgrundst\\u00fccktyp 2021/Nein/Kauf/Nutzbauten\",\"Anzahl Hand\\u00e4nderungen nach Stockwerkeigentum, Hand\\u00e4nderungsart und Hand\\u00e4nderungsgrundst\\u00fccktyp 2021/Ja/Schenkung/Verm\\u00e4chtnis/Abtretung/Nutzbauten\",\"Anzahl Hand\\u00e4nderungen nach Stockwerkeigentum, Hand\\u00e4nderungsart und Hand\\u00e4nderungsgrundst\\u00fccktyp 2021/Nein/Schenkung/Verm\\u00e4chtnis/Abtretung/Nutzbauten\",\"Anzahl Hand\\u00e4nderungen nach Stockwerkeigentum, Hand\\u00e4nderungsart und Hand\\u00e4nderungsgrundst\\u00fccktyp 2021/Nein/Tausch/Nutzbauten\",\"Anzahl Hand\\u00e4nderungen nach Stockwerkeigentum, Hand\\u00e4nderungsart und Hand\\u00e4nderungsgrundst\\u00fccktyp 2021/Ja/Uebrige/Nutzbauten\",\"Anzahl Hand\\u00e4nderungen nach Stockwerkeigentum, Hand\\u00e4nderungsart und Hand\\u00e4nderungsgrundst\\u00fccktyp 2021/Nein/Uebrige/Nutzbauten\",\"Anzahl Hand\\u00e4nderungen nach Stockwerkeigentum, Hand\\u00e4nderungsart und Hand\\u00e4nderungsgrundst\\u00fccktyp 2021/Nein/Erbfolge/Unbebaut\",\"Anzahl Hand\\u00e4nderungen nach Stockwerkeigentum, Hand\\u00e4nderungsart und Hand\\u00e4nderungsgrundst\\u00fccktyp 2021/Nein/Expropriation/Unbebaut\",\"Anzahl Hand\\u00e4nderungen nach Stockwerkeigentum, Hand\\u00e4nderungsart und Hand\\u00e4nderungsgrundst\\u00fccktyp 2021/Ja/Kauf/Unbebaut\",\"Anzahl Hand\\u00e4nderungen nach Stockwerkeigentum, Hand\\u00e4nderungsart und Hand\\u00e4nderungsgrundst\\u00fccktyp 2021/Nein/Kauf/Unbebaut\",\"Anzahl Hand\\u00e4nderungen nach Stockwerkeigentum, Hand\\u00e4nderungsart und Hand\\u00e4nderungsgrundst\\u00fccktyp 2021/Nein/Schenkung/Verm\\u00e4chtnis/Abtretung/Unbebaut\",\"Anzahl Hand\\u00e4nderungen nach Stockwerkeigentum, Hand\\u00e4nderungsart und Hand\\u00e4nderungsgrundst\\u00fccktyp 2021/Ja/Uebrige/Unbebaut\",\"Anzahl Hand\\u00e4nderungen nach Stockwerkeigentum, Hand\\u00e4nderungsart und Hand\\u00e4nderungsgrundst\\u00fccktyp 2021/Nein/Uebrige/Unbebaut\",\"Anzahl Hand\\u00e4nderungen nach Stockwerkeigentum, Hand\\u00e4nderungsart und Hand\\u00e4nderungsgrundst\\u00fccktyp 2021/Ja/Erbfolge/Wohnh\\u00e4user mit Gesch\\u00e4ftsr\\u00e4umen\",\"Anzahl Hand\\u00e4nderungen nach Stockwerkeigentum, Hand\\u00e4nderungsart und Hand\\u00e4nderungsgrundst\\u00fccktyp 2021/Nein/Erbfolge/Wohnh\\u00e4user mit Gesch\\u00e4ftsr\\u00e4umen\",\"Anzahl Hand\\u00e4nderungen nach Stockwerkeigentum, Hand\\u00e4nderungsart und Hand\\u00e4nderungsgrundst\\u00fccktyp 2021/Ja/Expropriation/Wohnh\\u00e4user mit Gesch\\u00e4ftsr\\u00e4umen\",\"Anzahl Hand\\u00e4nderungen nach Stockwerkeigentum, Hand\\u00e4nderungsart und Hand\\u00e4nderungsgrundst\\u00fccktyp 2021/Nein/Expropriation/Wohnh\\u00e4user mit Gesch\\u00e4ftsr\\u00e4umen\",\"Anzahl Hand\\u00e4nderungen nach Stockwerkeigentum, Hand\\u00e4nderungsart und Hand\\u00e4nderungsgrundst\\u00fccktyp 2021/Ja/Kauf/Wohnh\\u00e4user mit Gesch\\u00e4ftsr\\u00e4umen\",\"Anzahl Hand\\u00e4nderungen nach Stockwerkeigentum, Hand\\u00e4nderungsart und Hand\\u00e4nderungsgrundst\\u00fccktyp 2021/Nein/Kauf/Wohnh\\u00e4user mit Gesch\\u00e4ftsr\\u00e4umen\",\"Anzahl Hand\\u00e4nderungen nach Stockwerkeigentum, Hand\\u00e4nderungsart und Hand\\u00e4nderungsgrundst\\u00fccktyp 2021/Ja/Schenkung/Verm\\u00e4chtnis/Abtretung/Wohnh\\u00e4user mit Gesch\\u00e4ftsr\\u00e4umen\",\"Anzahl Hand\\u00e4nderungen nach Stockwerkeigentum, Hand\\u00e4nderungsart und Hand\\u00e4nderungsgrundst\\u00fccktyp 2021/Nein/Schenkung/Verm\\u00e4chtnis/Abtretung/Wohnh\\u00e4user mit Gesch\\u00e4ftsr\\u00e4umen\",\"Anzahl Hand\\u00e4nderungen nach Stockwerkeigentum, Hand\\u00e4nderungsart und Hand\\u00e4nderungsgrundst\\u00fccktyp 2021/Ja/Uebrige/Wohnh\\u00e4user mit Gesch\\u00e4ftsr\\u00e4umen\",\"Anzahl Hand\\u00e4nderungen nach Stockwerkeigentum, Hand\\u00e4nderungsart und Hand\\u00e4nderungsgrundst\\u00fccktyp 2021/Nein/Uebrige/Wohnh\\u00e4user mit Gesch\\u00e4ftsr\\u00e4umen\",\"Anzahl Hand\\u00e4nderungen nach Stockwerkeigentum, Hand\\u00e4nderungsart und Hand\\u00e4nderungsgrundst\\u00fccktyp 2021/Ja/Zwangsverwertung/Wohnh\\u00e4user mit Gesch\\u00e4ftsr\\u00e4umen\",\"Anzahl Hand\\u00e4nderungen nach Stockwerkeigentum, Hand\\u00e4nderungsart und Hand\\u00e4nderungsgrundst\\u00fccktyp 2021/Nein/Erbfolge/\\u00fcbrige Wohnh\\u00e4user\",\"Anzahl Hand\\u00e4nderungen nach Stockwerkeigentum, Hand\\u00e4nderungsart und Hand\\u00e4nderungsgrundst\\u00fccktyp 2021/Ja/Kauf/\\u00fcbrige Wohnh\\u00e4user\",\"Anzahl Hand\\u00e4nderungen nach Stockwerkeigentum, Hand\\u00e4nderungsart und Hand\\u00e4nderungsgrundst\\u00fccktyp 2021/Nein/Tausch/\\u00fcbrige Wohnh\\u00e4user\",\"Anzahl Hand\\u00e4nderungen nach Stockwerkeigentum, Hand\\u00e4nderungsart und Hand\\u00e4nderungsgrundst\\u00fccktyp 2021/Nein/Uebrige/\\u00fcbrige Wohnh\\u00e4user\",\"Anzahl Hand\\u00e4nderungen nach Stockwerkeigentum, Hand\\u00e4nderungsart und Hand\\u00e4nderungsgrundst\\u00fccktyp 2021/Ja/Erbfolge\",\"Anzahl Hand\\u00e4nderungen nach Stockwerkeigentum, Hand\\u00e4nderungsart und Hand\\u00e4nderungsgrundst\\u00fccktyp 2021/Nein/Erbfolge\",\"Anzahl Hand\\u00e4nderungen nach Stockwerkeigentum, Hand\\u00e4nderungsart und Hand\\u00e4nderungsgrundst\\u00fccktyp 2021/Ja/Expropriation\",\"Anzahl Hand\\u00e4nderungen nach Stockwerkeigentum, Hand\\u00e4nderungsart und Hand\\u00e4nderungsgrundst\\u00fccktyp 2021/Nein/Expropriation\",\"Anzahl Hand\\u00e4nderungen nach Stockwerkeigentum, Hand\\u00e4nderungsart und Hand\\u00e4nderungsgrundst\\u00fccktyp 2021/Ja/Kauf\",\"Anzahl Hand\\u00e4nderungen nach Stockwerkeigentum, Hand\\u00e4nderungsart und Hand\\u00e4nderungsgrundst\\u00fccktyp 2021/Nein/Kauf\",\"Anzahl Hand\\u00e4nderungen nach Stockwerkeigentum, Hand\\u00e4nderungsart und Hand\\u00e4nderungsgrundst\\u00fccktyp 2021/Ja/Schenkung/Verm\\u00e4chtnis/Abtretung\",\"Anzahl Hand\\u00e4nderungen nach Stockwerkeigentum, Hand\\u00e4nderungsart und Hand\\u00e4nderungsgrundst\\u00fccktyp 2021/Nein/Schenkung/Verm\\u00e4chtnis/Abtretung\",\"Anzahl Hand\\u00e4nderungen nach Stockwerkeigentum, Hand\\u00e4nderungsart und Hand\\u00e4nderungsgrundst\\u00fccktyp 2021/Ja/Tausch\",\"Anzahl Hand\\u00e4nderungen nach Stockwerkeigentum, Hand\\u00e4nderungsart und Hand\\u00e4nderungsgrundst\\u00fccktyp 2021/Nein/Tausch\",\"Anzahl Hand\\u00e4nderungen nach Stockwerkeigentum, Hand\\u00e4nderungsart und Hand\\u00e4nderungsgrundst\\u00fccktyp 2021/Ja/Uebrige\",\"Anzahl Hand\\u00e4nderungen nach Stockwerkeigentum, Hand\\u00e4nderungsart und Hand\\u00e4nderungsgrundst\\u00fccktyp 2021/Nein/Uebrige\",\"Anzahl Hand\\u00e4nderungen nach Stockwerkeigentum, Hand\\u00e4nderungsart und Hand\\u00e4nderungsgrundst\\u00fccktyp 2021/Ja/Zwangsverwertung\",\"Anzahl Hand\\u00e4nderungen nach Stockwerkeigentum, Hand\\u00e4nderungsart und Hand\\u00e4nderungsgrundst\\u00fccktyp 2021/Ja\",\"Anzahl Hand\\u00e4nderungen nach Stockwerkeigentum, Hand\\u00e4nderungsart und Hand\\u00e4nderungsgrundst\\u00fccktyp 2021/Nein\",\"Anzahl Hand\\u00e4nderungen nach Stockwerkeigentum, Hand\\u00e4nderungsart und Hand\\u00e4nderungsgrundst\\u00fccktyp 2021\"],\"labels\":[\"Einfamilienh\\u00e4user\",\"Einfamilienh\\u00e4user\",\"Einfamilienh\\u00e4user\",\"Einfamilienh\\u00e4user\",\"Einfamilienh\\u00e4user\",\"Einfamilienh\\u00e4user\",\"Einfamilienh\\u00e4user\",\"Einfamilienh\\u00e4user\",\"Einfamilienh\\u00e4user\",\"Mehrfamilienh\\u00e4user\",\"Mehrfamilienh\\u00e4user\",\"Mehrfamilienh\\u00e4user\",\"Mehrfamilienh\\u00e4user\",\"Mehrfamilienh\\u00e4user\",\"Mehrfamilienh\\u00e4user\",\"Mehrfamilienh\\u00e4user\",\"Mehrfamilienh\\u00e4user\",\"Mehrfamilienh\\u00e4user\",\"Mehrfamilienh\\u00e4user\",\"Nutzbauten\",\"Nutzbauten\",\"Nutzbauten\",\"Nutzbauten\",\"Nutzbauten\",\"Nutzbauten\",\"Nutzbauten\",\"Nutzbauten\",\"Nutzbauten\",\"Nutzbauten\",\"Unbebaut\",\"Unbebaut\",\"Unbebaut\",\"Unbebaut\",\"Unbebaut\",\"Unbebaut\",\"Unbebaut\",\"Wohnh\\u00e4user mit Gesch\\u00e4ftsr\\u00e4umen\",\"Wohnh\\u00e4user mit Gesch\\u00e4ftsr\\u00e4umen\",\"Wohnh\\u00e4user mit Gesch\\u00e4ftsr\\u00e4umen\",\"Wohnh\\u00e4user mit Gesch\\u00e4ftsr\\u00e4umen\",\"Wohnh\\u00e4user mit Gesch\\u00e4ftsr\\u00e4umen\",\"Wohnh\\u00e4user mit Gesch\\u00e4ftsr\\u00e4umen\",\"Wohnh\\u00e4user mit Gesch\\u00e4ftsr\\u00e4umen\",\"Wohnh\\u00e4user mit Gesch\\u00e4ftsr\\u00e4umen\",\"Wohnh\\u00e4user mit Gesch\\u00e4ftsr\\u00e4umen\",\"Wohnh\\u00e4user mit Gesch\\u00e4ftsr\\u00e4umen\",\"Wohnh\\u00e4user mit Gesch\\u00e4ftsr\\u00e4umen\",\"\\u00fcbrige Wohnh\\u00e4user\",\"\\u00fcbrige Wohnh\\u00e4user\",\"\\u00fcbrige Wohnh\\u00e4user\",\"\\u00fcbrige Wohnh\\u00e4user\",\"Erbfolge\",\"Erbfolge\",\"Expropriation\",\"Expropriation\",\"Kauf\",\"Kauf\",\"Schenkung/Verm\\u00e4chtnis/Abtretung\",\"Schenkung/Verm\\u00e4chtnis/Abtretung\",\"Tausch\",\"Tausch\",\"Uebrige\",\"Uebrige\",\"Zwangsverwertung\",\"Ja\",\"Nein\",\"Anzahl Hand\\u00e4nderungen nach Stockwerkeigentum, Hand\\u00e4nderungsart und Hand\\u00e4nderungsgrundst\\u00fccktyp 2021\"],\"marker\":{\"coloraxis\":\"coloraxis\",\"colors\":[1.0,123.0,2.0,5.0,127.0,1.0,21.0,2.0,50.0,162.0,158.0,1.0,427.0,130.0,29.0,23.0,2.0,56.0,139.0,6.0,83.0,1.0,17.0,65.0,2.0,7.0,1.0,7.0,83.0,110.0,2.0,2.0,11.0,6.0,2.0,6.0,40.0,106.0,2.0,1.0,384.0,83.0,4.0,16.0,11.0,82.0,1.0,1.0,1.0,2.0,4.0,133.4019138755981,121.03098106712565,2.0,1.5714285714285714,394.8612440191388,106.40384615384616,23.944444444444443,17.958904109589042,2.0,1.6666666666666667,42.48717948717949,97.48901098901099,1.0,311.14261168384877,104.8448753462604,196.91947852760737]},\"name\":\"\",\"parents\":[\"Anzahl Hand\\u00e4nderungen nach Stockwerkeigentum, Hand\\u00e4nderungsart und Hand\\u00e4nderungsgrundst\\u00fccktyp 2021/Ja/Erbfolge\",\"Anzahl Hand\\u00e4nderungen nach Stockwerkeigentum, Hand\\u00e4nderungsart und Hand\\u00e4nderungsgrundst\\u00fccktyp 2021/Nein/Erbfolge\",\"Anzahl Hand\\u00e4nderungen nach Stockwerkeigentum, Hand\\u00e4nderungsart und Hand\\u00e4nderungsgrundst\\u00fccktyp 2021/Nein/Expropriation\",\"Anzahl Hand\\u00e4nderungen nach Stockwerkeigentum, Hand\\u00e4nderungsart und Hand\\u00e4nderungsgrundst\\u00fccktyp 2021/Ja/Kauf\",\"Anzahl Hand\\u00e4nderungen nach Stockwerkeigentum, Hand\\u00e4nderungsart und Hand\\u00e4nderungsgrundst\\u00fccktyp 2021/Nein/Kauf\",\"Anzahl Hand\\u00e4nderungen nach Stockwerkeigentum, Hand\\u00e4nderungsart und Hand\\u00e4nderungsgrundst\\u00fccktyp 2021/Ja/Schenkung/Verm\\u00e4chtnis/Abtretung\",\"Anzahl Hand\\u00e4nderungen nach Stockwerkeigentum, Hand\\u00e4nderungsart und Hand\\u00e4nderungsgrundst\\u00fccktyp 2021/Nein/Schenkung/Verm\\u00e4chtnis/Abtretung\",\"Anzahl Hand\\u00e4nderungen nach Stockwerkeigentum, Hand\\u00e4nderungsart und Hand\\u00e4nderungsgrundst\\u00fccktyp 2021/Ja/Uebrige\",\"Anzahl Hand\\u00e4nderungen nach Stockwerkeigentum, Hand\\u00e4nderungsart und Hand\\u00e4nderungsgrundst\\u00fccktyp 2021/Nein/Uebrige\",\"Anzahl Hand\\u00e4nderungen nach Stockwerkeigentum, Hand\\u00e4nderungsart und Hand\\u00e4nderungsgrundst\\u00fccktyp 2021/Ja/Erbfolge\",\"Anzahl Hand\\u00e4nderungen nach Stockwerkeigentum, Hand\\u00e4nderungsart und Hand\\u00e4nderungsgrundst\\u00fccktyp 2021/Nein/Erbfolge\",\"Anzahl Hand\\u00e4nderungen nach Stockwerkeigentum, Hand\\u00e4nderungsart und Hand\\u00e4nderungsgrundst\\u00fccktyp 2021/Nein/Expropriation\",\"Anzahl Hand\\u00e4nderungen nach Stockwerkeigentum, Hand\\u00e4nderungsart und Hand\\u00e4nderungsgrundst\\u00fccktyp 2021/Ja/Kauf\",\"Anzahl Hand\\u00e4nderungen nach Stockwerkeigentum, Hand\\u00e4nderungsart und Hand\\u00e4nderungsgrundst\\u00fccktyp 2021/Nein/Kauf\",\"Anzahl Hand\\u00e4nderungen nach Stockwerkeigentum, Hand\\u00e4nderungsart und Hand\\u00e4nderungsgrundst\\u00fccktyp 2021/Ja/Schenkung/Verm\\u00e4chtnis/Abtretung\",\"Anzahl Hand\\u00e4nderungen nach Stockwerkeigentum, Hand\\u00e4nderungsart und Hand\\u00e4nderungsgrundst\\u00fccktyp 2021/Nein/Schenkung/Verm\\u00e4chtnis/Abtretung\",\"Anzahl Hand\\u00e4nderungen nach Stockwerkeigentum, Hand\\u00e4nderungsart und Hand\\u00e4nderungsgrundst\\u00fccktyp 2021/Ja/Tausch\",\"Anzahl Hand\\u00e4nderungen nach Stockwerkeigentum, Hand\\u00e4nderungsart und Hand\\u00e4nderungsgrundst\\u00fccktyp 2021/Ja/Uebrige\",\"Anzahl Hand\\u00e4nderungen nach Stockwerkeigentum, Hand\\u00e4nderungsart und Hand\\u00e4nderungsgrundst\\u00fccktyp 2021/Nein/Uebrige\",\"Anzahl Hand\\u00e4nderungen nach Stockwerkeigentum, Hand\\u00e4nderungsart und Hand\\u00e4nderungsgrundst\\u00fccktyp 2021/Ja/Erbfolge\",\"Anzahl Hand\\u00e4nderungen nach Stockwerkeigentum, Hand\\u00e4nderungsart und Hand\\u00e4nderungsgrundst\\u00fccktyp 2021/Nein/Erbfolge\",\"Anzahl Hand\\u00e4nderungen nach Stockwerkeigentum, Hand\\u00e4nderungsart und Hand\\u00e4nderungsgrundst\\u00fccktyp 2021/Nein/Expropriation\",\"Anzahl Hand\\u00e4nderungen nach Stockwerkeigentum, Hand\\u00e4nderungsart und Hand\\u00e4nderungsgrundst\\u00fccktyp 2021/Ja/Kauf\",\"Anzahl Hand\\u00e4nderungen nach Stockwerkeigentum, Hand\\u00e4nderungsart und Hand\\u00e4nderungsgrundst\\u00fccktyp 2021/Nein/Kauf\",\"Anzahl Hand\\u00e4nderungen nach Stockwerkeigentum, Hand\\u00e4nderungsart und Hand\\u00e4nderungsgrundst\\u00fccktyp 2021/Ja/Schenkung/Verm\\u00e4chtnis/Abtretung\",\"Anzahl Hand\\u00e4nderungen nach Stockwerkeigentum, Hand\\u00e4nderungsart und Hand\\u00e4nderungsgrundst\\u00fccktyp 2021/Nein/Schenkung/Verm\\u00e4chtnis/Abtretung\",\"Anzahl Hand\\u00e4nderungen nach Stockwerkeigentum, Hand\\u00e4nderungsart und Hand\\u00e4nderungsgrundst\\u00fccktyp 2021/Nein/Tausch\",\"Anzahl Hand\\u00e4nderungen nach Stockwerkeigentum, Hand\\u00e4nderungsart und Hand\\u00e4nderungsgrundst\\u00fccktyp 2021/Ja/Uebrige\",\"Anzahl Hand\\u00e4nderungen nach Stockwerkeigentum, Hand\\u00e4nderungsart und Hand\\u00e4nderungsgrundst\\u00fccktyp 2021/Nein/Uebrige\",\"Anzahl Hand\\u00e4nderungen nach Stockwerkeigentum, Hand\\u00e4nderungsart und Hand\\u00e4nderungsgrundst\\u00fccktyp 2021/Nein/Erbfolge\",\"Anzahl Hand\\u00e4nderungen nach Stockwerkeigentum, Hand\\u00e4nderungsart und Hand\\u00e4nderungsgrundst\\u00fccktyp 2021/Nein/Expropriation\",\"Anzahl Hand\\u00e4nderungen nach Stockwerkeigentum, Hand\\u00e4nderungsart und Hand\\u00e4nderungsgrundst\\u00fccktyp 2021/Ja/Kauf\",\"Anzahl Hand\\u00e4nderungen nach Stockwerkeigentum, Hand\\u00e4nderungsart und Hand\\u00e4nderungsgrundst\\u00fccktyp 2021/Nein/Kauf\",\"Anzahl Hand\\u00e4nderungen nach Stockwerkeigentum, Hand\\u00e4nderungsart und Hand\\u00e4nderungsgrundst\\u00fccktyp 2021/Nein/Schenkung/Verm\\u00e4chtnis/Abtretung\",\"Anzahl Hand\\u00e4nderungen nach Stockwerkeigentum, Hand\\u00e4nderungsart und Hand\\u00e4nderungsgrundst\\u00fccktyp 2021/Ja/Uebrige\",\"Anzahl Hand\\u00e4nderungen nach Stockwerkeigentum, Hand\\u00e4nderungsart und Hand\\u00e4nderungsgrundst\\u00fccktyp 2021/Nein/Uebrige\",\"Anzahl Hand\\u00e4nderungen nach Stockwerkeigentum, Hand\\u00e4nderungsart und Hand\\u00e4nderungsgrundst\\u00fccktyp 2021/Ja/Erbfolge\",\"Anzahl Hand\\u00e4nderungen nach Stockwerkeigentum, Hand\\u00e4nderungsart und Hand\\u00e4nderungsgrundst\\u00fccktyp 2021/Nein/Erbfolge\",\"Anzahl Hand\\u00e4nderungen nach Stockwerkeigentum, Hand\\u00e4nderungsart und Hand\\u00e4nderungsgrundst\\u00fccktyp 2021/Ja/Expropriation\",\"Anzahl Hand\\u00e4nderungen nach Stockwerkeigentum, Hand\\u00e4nderungsart und Hand\\u00e4nderungsgrundst\\u00fccktyp 2021/Nein/Expropriation\",\"Anzahl Hand\\u00e4nderungen nach Stockwerkeigentum, Hand\\u00e4nderungsart und Hand\\u00e4nderungsgrundst\\u00fccktyp 2021/Ja/Kauf\",\"Anzahl Hand\\u00e4nderungen nach Stockwerkeigentum, Hand\\u00e4nderungsart und Hand\\u00e4nderungsgrundst\\u00fccktyp 2021/Nein/Kauf\",\"Anzahl Hand\\u00e4nderungen nach Stockwerkeigentum, Hand\\u00e4nderungsart und Hand\\u00e4nderungsgrundst\\u00fccktyp 2021/Ja/Schenkung/Verm\\u00e4chtnis/Abtretung\",\"Anzahl Hand\\u00e4nderungen nach Stockwerkeigentum, Hand\\u00e4nderungsart und Hand\\u00e4nderungsgrundst\\u00fccktyp 2021/Nein/Schenkung/Verm\\u00e4chtnis/Abtretung\",\"Anzahl Hand\\u00e4nderungen nach Stockwerkeigentum, Hand\\u00e4nderungsart und Hand\\u00e4nderungsgrundst\\u00fccktyp 2021/Ja/Uebrige\",\"Anzahl Hand\\u00e4nderungen nach Stockwerkeigentum, Hand\\u00e4nderungsart und Hand\\u00e4nderungsgrundst\\u00fccktyp 2021/Nein/Uebrige\",\"Anzahl Hand\\u00e4nderungen nach Stockwerkeigentum, Hand\\u00e4nderungsart und Hand\\u00e4nderungsgrundst\\u00fccktyp 2021/Ja/Zwangsverwertung\",\"Anzahl Hand\\u00e4nderungen nach Stockwerkeigentum, Hand\\u00e4nderungsart und Hand\\u00e4nderungsgrundst\\u00fccktyp 2021/Nein/Erbfolge\",\"Anzahl Hand\\u00e4nderungen nach Stockwerkeigentum, Hand\\u00e4nderungsart und Hand\\u00e4nderungsgrundst\\u00fccktyp 2021/Ja/Kauf\",\"Anzahl Hand\\u00e4nderungen nach Stockwerkeigentum, Hand\\u00e4nderungsart und Hand\\u00e4nderungsgrundst\\u00fccktyp 2021/Nein/Tausch\",\"Anzahl Hand\\u00e4nderungen nach Stockwerkeigentum, Hand\\u00e4nderungsart und Hand\\u00e4nderungsgrundst\\u00fccktyp 2021/Nein/Uebrige\",\"Anzahl Hand\\u00e4nderungen nach Stockwerkeigentum, Hand\\u00e4nderungsart und Hand\\u00e4nderungsgrundst\\u00fccktyp 2021/Ja\",\"Anzahl Hand\\u00e4nderungen nach Stockwerkeigentum, Hand\\u00e4nderungsart und Hand\\u00e4nderungsgrundst\\u00fccktyp 2021/Nein\",\"Anzahl Hand\\u00e4nderungen nach Stockwerkeigentum, Hand\\u00e4nderungsart und Hand\\u00e4nderungsgrundst\\u00fccktyp 2021/Ja\",\"Anzahl Hand\\u00e4nderungen nach Stockwerkeigentum, Hand\\u00e4nderungsart und Hand\\u00e4nderungsgrundst\\u00fccktyp 2021/Nein\",\"Anzahl Hand\\u00e4nderungen nach Stockwerkeigentum, Hand\\u00e4nderungsart und Hand\\u00e4nderungsgrundst\\u00fccktyp 2021/Ja\",\"Anzahl Hand\\u00e4nderungen nach Stockwerkeigentum, Hand\\u00e4nderungsart und Hand\\u00e4nderungsgrundst\\u00fccktyp 2021/Nein\",\"Anzahl Hand\\u00e4nderungen nach Stockwerkeigentum, Hand\\u00e4nderungsart und Hand\\u00e4nderungsgrundst\\u00fccktyp 2021/Ja\",\"Anzahl Hand\\u00e4nderungen nach Stockwerkeigentum, Hand\\u00e4nderungsart und Hand\\u00e4nderungsgrundst\\u00fccktyp 2021/Nein\",\"Anzahl Hand\\u00e4nderungen nach Stockwerkeigentum, Hand\\u00e4nderungsart und Hand\\u00e4nderungsgrundst\\u00fccktyp 2021/Ja\",\"Anzahl Hand\\u00e4nderungen nach Stockwerkeigentum, Hand\\u00e4nderungsart und Hand\\u00e4nderungsgrundst\\u00fccktyp 2021/Nein\",\"Anzahl Hand\\u00e4nderungen nach Stockwerkeigentum, Hand\\u00e4nderungsart und Hand\\u00e4nderungsgrundst\\u00fccktyp 2021/Ja\",\"Anzahl Hand\\u00e4nderungen nach Stockwerkeigentum, Hand\\u00e4nderungsart und Hand\\u00e4nderungsgrundst\\u00fccktyp 2021/Nein\",\"Anzahl Hand\\u00e4nderungen nach Stockwerkeigentum, Hand\\u00e4nderungsart und Hand\\u00e4nderungsgrundst\\u00fccktyp 2021/Ja\",\"Anzahl Hand\\u00e4nderungen nach Stockwerkeigentum, Hand\\u00e4nderungsart und Hand\\u00e4nderungsgrundst\\u00fccktyp 2021\",\"Anzahl Hand\\u00e4nderungen nach Stockwerkeigentum, Hand\\u00e4nderungsart und Hand\\u00e4nderungsgrundst\\u00fccktyp 2021\",\"\"],\"root\":{\"color\":\"grey\"},\"type\":\"treemap\",\"values\":[1,123,2,5,127,1,21,2,50,162,158,1,427,130,29,23,2,56,139,6,83,1,17,65,2,7,1,7,83,110,2,2,11,6,2,6,40,106,2,1,384,83,4,16,11,82,1,1,1,2,4,209,581,2,7,836,416,36,73,2,3,78,364,1,1164,1444,2608]}],                        {\"coloraxis\":{\"colorbar\":{\"title\":{\"text\":\"sum_AnzGrst\"}},\"colorscale\":[[0.0,\"#00224e\"],[0.1111111111111111,\"#123570\"],[0.2222222222222222,\"#3b496c\"],[0.3333333333333333,\"#575d6d\"],[0.4444444444444444,\"#707173\"],[0.5555555555555556,\"#8a8678\"],[0.6666666666666666,\"#a59c74\"],[0.7777777777777778,\"#c3b369\"],[0.8888888888888888,\"#e1cc55\"],[1.0,\"#fee838\"]]},\"height\":500,\"legend\":{\"tracegroupgap\":0},\"margin\":{\"b\":25,\"l\":25,\"r\":250,\"t\":50},\"template\":{\"data\":{\"bar\":[{\"error_x\":{\"color\":\"#2a3f5f\"},\"error_y\":{\"color\":\"#2a3f5f\"},\"marker\":{\"line\":{\"color\":\"#E5ECF6\",\"width\":0.5},\"pattern\":{\"fillmode\":\"overlay\",\"size\":10,\"solidity\":0.2}},\"type\":\"bar\"}],\"barpolar\":[{\"marker\":{\"line\":{\"color\":\"#E5ECF6\",\"width\":0.5},\"pattern\":{\"fillmode\":\"overlay\",\"size\":10,\"solidity\":0.2}},\"type\":\"barpolar\"}],\"carpet\":[{\"aaxis\":{\"endlinecolor\":\"#2a3f5f\",\"gridcolor\":\"white\",\"linecolor\":\"white\",\"minorgridcolor\":\"white\",\"startlinecolor\":\"#2a3f5f\"},\"baxis\":{\"endlinecolor\":\"#2a3f5f\",\"gridcolor\":\"white\",\"linecolor\":\"white\",\"minorgridcolor\":\"white\",\"startlinecolor\":\"#2a3f5f\"},\"type\":\"carpet\"}],\"choropleth\":[{\"colorbar\":{\"outlinewidth\":0,\"ticks\":\"\"},\"type\":\"choropleth\"}],\"contour\":[{\"colorbar\":{\"outlinewidth\":0,\"ticks\":\"\"},\"colorscale\":[[0.0,\"#0d0887\"],[0.1111111111111111,\"#46039f\"],[0.2222222222222222,\"#7201a8\"],[0.3333333333333333,\"#9c179e\"],[0.4444444444444444,\"#bd3786\"],[0.5555555555555556,\"#d8576b\"],[0.6666666666666666,\"#ed7953\"],[0.7777777777777778,\"#fb9f3a\"],[0.8888888888888888,\"#fdca26\"],[1.0,\"#f0f921\"]],\"type\":\"contour\"}],\"contourcarpet\":[{\"colorbar\":{\"outlinewidth\":0,\"ticks\":\"\"},\"type\":\"contourcarpet\"}],\"heatmap\":[{\"colorbar\":{\"outlinewidth\":0,\"ticks\":\"\"},\"colorscale\":[[0.0,\"#0d0887\"],[0.1111111111111111,\"#46039f\"],[0.2222222222222222,\"#7201a8\"],[0.3333333333333333,\"#9c179e\"],[0.4444444444444444,\"#bd3786\"],[0.5555555555555556,\"#d8576b\"],[0.6666666666666666,\"#ed7953\"],[0.7777777777777778,\"#fb9f3a\"],[0.8888888888888888,\"#fdca26\"],[1.0,\"#f0f921\"]],\"type\":\"heatmap\"}],\"heatmapgl\":[{\"colorbar\":{\"outlinewidth\":0,\"ticks\":\"\"},\"colorscale\":[[0.0,\"#0d0887\"],[0.1111111111111111,\"#46039f\"],[0.2222222222222222,\"#7201a8\"],[0.3333333333333333,\"#9c179e\"],[0.4444444444444444,\"#bd3786\"],[0.5555555555555556,\"#d8576b\"],[0.6666666666666666,\"#ed7953\"],[0.7777777777777778,\"#fb9f3a\"],[0.8888888888888888,\"#fdca26\"],[1.0,\"#f0f921\"]],\"type\":\"heatmapgl\"}],\"histogram\":[{\"marker\":{\"pattern\":{\"fillmode\":\"overlay\",\"size\":10,\"solidity\":0.2}},\"type\":\"histogram\"}],\"histogram2d\":[{\"colorbar\":{\"outlinewidth\":0,\"ticks\":\"\"},\"colorscale\":[[0.0,\"#0d0887\"],[0.1111111111111111,\"#46039f\"],[0.2222222222222222,\"#7201a8\"],[0.3333333333333333,\"#9c179e\"],[0.4444444444444444,\"#bd3786\"],[0.5555555555555556,\"#d8576b\"],[0.6666666666666666,\"#ed7953\"],[0.7777777777777778,\"#fb9f3a\"],[0.8888888888888888,\"#fdca26\"],[1.0,\"#f0f921\"]],\"type\":\"histogram2d\"}],\"histogram2dcontour\":[{\"colorbar\":{\"outlinewidth\":0,\"ticks\":\"\"},\"colorscale\":[[0.0,\"#0d0887\"],[0.1111111111111111,\"#46039f\"],[0.2222222222222222,\"#7201a8\"],[0.3333333333333333,\"#9c179e\"],[0.4444444444444444,\"#bd3786\"],[0.5555555555555556,\"#d8576b\"],[0.6666666666666666,\"#ed7953\"],[0.7777777777777778,\"#fb9f3a\"],[0.8888888888888888,\"#fdca26\"],[1.0,\"#f0f921\"]],\"type\":\"histogram2dcontour\"}],\"mesh3d\":[{\"colorbar\":{\"outlinewidth\":0,\"ticks\":\"\"},\"type\":\"mesh3d\"}],\"parcoords\":[{\"line\":{\"colorbar\":{\"outlinewidth\":0,\"ticks\":\"\"}},\"type\":\"parcoords\"}],\"pie\":[{\"automargin\":true,\"type\":\"pie\"}],\"scatter\":[{\"marker\":{\"colorbar\":{\"outlinewidth\":0,\"ticks\":\"\"}},\"type\":\"scatter\"}],\"scatter3d\":[{\"line\":{\"colorbar\":{\"outlinewidth\":0,\"ticks\":\"\"}},\"marker\":{\"colorbar\":{\"outlinewidth\":0,\"ticks\":\"\"}},\"type\":\"scatter3d\"}],\"scattercarpet\":[{\"marker\":{\"colorbar\":{\"outlinewidth\":0,\"ticks\":\"\"}},\"type\":\"scattercarpet\"}],\"scattergeo\":[{\"marker\":{\"colorbar\":{\"outlinewidth\":0,\"ticks\":\"\"}},\"type\":\"scattergeo\"}],\"scattergl\":[{\"marker\":{\"colorbar\":{\"outlinewidth\":0,\"ticks\":\"\"}},\"type\":\"scattergl\"}],\"scattermapbox\":[{\"marker\":{\"colorbar\":{\"outlinewidth\":0,\"ticks\":\"\"}},\"type\":\"scattermapbox\"}],\"scatterpolar\":[{\"marker\":{\"colorbar\":{\"outlinewidth\":0,\"ticks\":\"\"}},\"type\":\"scatterpolar\"}],\"scatterpolargl\":[{\"marker\":{\"colorbar\":{\"outlinewidth\":0,\"ticks\":\"\"}},\"type\":\"scatterpolargl\"}],\"scatterternary\":[{\"marker\":{\"colorbar\":{\"outlinewidth\":0,\"ticks\":\"\"}},\"type\":\"scatterternary\"}],\"surface\":[{\"colorbar\":{\"outlinewidth\":0,\"ticks\":\"\"},\"colorscale\":[[0.0,\"#0d0887\"],[0.1111111111111111,\"#46039f\"],[0.2222222222222222,\"#7201a8\"],[0.3333333333333333,\"#9c179e\"],[0.4444444444444444,\"#bd3786\"],[0.5555555555555556,\"#d8576b\"],[0.6666666666666666,\"#ed7953\"],[0.7777777777777778,\"#fb9f3a\"],[0.8888888888888888,\"#fdca26\"],[1.0,\"#f0f921\"]],\"type\":\"surface\"}],\"table\":[{\"cells\":{\"fill\":{\"color\":\"#EBF0F8\"},\"line\":{\"color\":\"white\"}},\"header\":{\"fill\":{\"color\":\"#C8D4E3\"},\"line\":{\"color\":\"white\"}},\"type\":\"table\"}]},\"layout\":{\"annotationdefaults\":{\"arrowcolor\":\"#2a3f5f\",\"arrowhead\":0,\"arrowwidth\":1},\"autotypenumbers\":\"strict\",\"coloraxis\":{\"colorbar\":{\"outlinewidth\":0,\"ticks\":\"\"}},\"colorscale\":{\"diverging\":[[0,\"#8e0152\"],[0.1,\"#c51b7d\"],[0.2,\"#de77ae\"],[0.3,\"#f1b6da\"],[0.4,\"#fde0ef\"],[0.5,\"#f7f7f7\"],[0.6,\"#e6f5d0\"],[0.7,\"#b8e186\"],[0.8,\"#7fbc41\"],[0.9,\"#4d9221\"],[1,\"#276419\"]],\"sequential\":[[0.0,\"#0d0887\"],[0.1111111111111111,\"#46039f\"],[0.2222222222222222,\"#7201a8\"],[0.3333333333333333,\"#9c179e\"],[0.4444444444444444,\"#bd3786\"],[0.5555555555555556,\"#d8576b\"],[0.6666666666666666,\"#ed7953\"],[0.7777777777777778,\"#fb9f3a\"],[0.8888888888888888,\"#fdca26\"],[1.0,\"#f0f921\"]],\"sequentialminus\":[[0.0,\"#0d0887\"],[0.1111111111111111,\"#46039f\"],[0.2222222222222222,\"#7201a8\"],[0.3333333333333333,\"#9c179e\"],[0.4444444444444444,\"#bd3786\"],[0.5555555555555556,\"#d8576b\"],[0.6666666666666666,\"#ed7953\"],[0.7777777777777778,\"#fb9f3a\"],[0.8888888888888888,\"#fdca26\"],[1.0,\"#f0f921\"]]},\"colorway\":[\"#636efa\",\"#EF553B\",\"#00cc96\",\"#ab63fa\",\"#FFA15A\",\"#19d3f3\",\"#FF6692\",\"#B6E880\",\"#FF97FF\",\"#FECB52\"],\"font\":{\"color\":\"#2a3f5f\"},\"geo\":{\"bgcolor\":\"white\",\"lakecolor\":\"white\",\"landcolor\":\"#E5ECF6\",\"showlakes\":true,\"showland\":true,\"subunitcolor\":\"white\"},\"hoverlabel\":{\"align\":\"left\"},\"hovermode\":\"closest\",\"mapbox\":{\"style\":\"light\"},\"paper_bgcolor\":\"white\",\"plot_bgcolor\":\"#E5ECF6\",\"polar\":{\"angularaxis\":{\"gridcolor\":\"white\",\"linecolor\":\"white\",\"ticks\":\"\"},\"bgcolor\":\"#E5ECF6\",\"radialaxis\":{\"gridcolor\":\"white\",\"linecolor\":\"white\",\"ticks\":\"\"}},\"scene\":{\"xaxis\":{\"backgroundcolor\":\"#E5ECF6\",\"gridcolor\":\"white\",\"gridwidth\":2,\"linecolor\":\"white\",\"showbackground\":true,\"ticks\":\"\",\"zerolinecolor\":\"white\"},\"yaxis\":{\"backgroundcolor\":\"#E5ECF6\",\"gridcolor\":\"white\",\"gridwidth\":2,\"linecolor\":\"white\",\"showbackground\":true,\"ticks\":\"\",\"zerolinecolor\":\"white\"},\"zaxis\":{\"backgroundcolor\":\"#E5ECF6\",\"gridcolor\":\"white\",\"gridwidth\":2,\"linecolor\":\"white\",\"showbackground\":true,\"ticks\":\"\",\"zerolinecolor\":\"white\"}},\"shapedefaults\":{\"line\":{\"color\":\"#2a3f5f\"}},\"ternary\":{\"aaxis\":{\"gridcolor\":\"white\",\"linecolor\":\"white\",\"ticks\":\"\"},\"baxis\":{\"gridcolor\":\"white\",\"linecolor\":\"white\",\"ticks\":\"\"},\"bgcolor\":\"#E5ECF6\",\"caxis\":{\"gridcolor\":\"white\",\"linecolor\":\"white\",\"ticks\":\"\"}},\"title\":{\"x\":0.05},\"xaxis\":{\"automargin\":true,\"gridcolor\":\"white\",\"linecolor\":\"white\",\"ticks\":\"\",\"title\":{\"standoff\":15},\"zerolinecolor\":\"white\",\"zerolinewidth\":2},\"yaxis\":{\"automargin\":true,\"gridcolor\":\"white\",\"linecolor\":\"white\",\"ticks\":\"\",\"title\":{\"standoff\":15},\"zerolinecolor\":\"white\",\"zerolinewidth\":2}}},\"width\":1100},                        {\"responsive\": true}                    ).then(function(){\n",
       "                            \n",
       "var gd = document.getElementById('d472493e-db52-4552-85d6-3d4b6f8e1415');\n",
       "var x = new MutationObserver(function (mutations, observer) {{\n",
       "        var display = window.getComputedStyle(gd).display;\n",
       "        if (!display || display === 'none') {{\n",
       "            console.log([gd, 'removed!']);\n",
       "            Plotly.purge(gd);\n",
       "            observer.disconnect();\n",
       "        }}\n",
       "}});\n",
       "\n",
       "// Listen for the removal of the full notebook cells\n",
       "var notebookContainer = gd.closest('#notebook-container');\n",
       "if (notebookContainer) {{\n",
       "    x.observe(notebookContainer, {childList: true});\n",
       "}}\n",
       "\n",
       "// Listen for the clearing of the current output cell\n",
       "var outputEl = gd.closest('.output');\n",
       "if (outputEl) {{\n",
       "    x.observe(outputEl, {childList: true});\n",
       "}}\n",
       "\n",
       "                        })                };                });            </script>        </div>"
      ]
     },
     "metadata": {},
     "output_type": "display_data"
    }
   ],
   "source": [
    "fig = px.treemap(myTreemapAgg.query('sum_AnzGrst >0').reset_index(), path=[px.Constant(\"Anzahl Handänderungen nach Stockwerkeigentum, Handänderungsart und Handänderungsgrundstücktyp 2021\")\n",
    "                                                                          , 'Stockwerkeigentum','HaeArt','HaeGrstTyp']\n",
    "                 , values='sum_AnzGrst'\n",
    "                 , color='sum_AnzGrst'               \n",
    "                 #, color_discrete_map={'(?)':'lightgrey','EVP':'gold', 'SP':'#FF3030', 'PdA':'#EE3B3B', 'Grüne':'#A2CD5A','GLP':'#CAFF70','Die Mitte':'orange','FDP':'#104E8B','AL':'deeppink','SVP':'forestgreen', 'FL ZÜRI':'#8B864E','Volt':'#lightblue' }                \n",
    "                 ## bei continuous scales (bei Zahlenwerten):\n",
    "                 ,color_continuous_scale='cividis'\n",
    "                 ,height=500 , width=1100                 \n",
    "                )\n",
    "fig.update_traces(root_color=\"grey\")\n",
    "fig.update_layout(margin = dict(t=50, l=25, r=250, b=25))\n",
    "fig.show()"
   ]
  },
  {
   "cell_type": "markdown",
   "metadata": {
    "tags": []
   },
   "source": [
    "#### Handänderungsfläche nach Stockwerkeigentum, Handänderungsart und Handänderungsgrundstücktyp 2021"
   ]
  },
  {
   "cell_type": "code",
   "execution_count": 112,
   "metadata": {
    "tags": []
   },
   "outputs": [],
   "source": [
    "#data2betested.dtypes"
   ]
  },
  {
   "cell_type": "code",
   "execution_count": 113,
   "metadata": {
    "tags": []
   },
   "outputs": [],
   "source": [
    "myTreemapAgg = data2betested.loc[\"2009\":\"2021\"]\\\n",
    "    .groupby(['Jahr', 'HaeArt','HaeGrstTyp', 'Stockwerkeigentum']) \\\n",
    "    .agg(sum_AnzGrst=('AnzGrst', 'sum'), sum_Flaeche=('Flaeche', 'sum')) \\\n",
    "    .sort_values('sum_AnzGrst', ascending=False) \n",
    "#myTreemapAgg.reset_index().dtypes"
   ]
  },
  {
   "cell_type": "code",
   "execution_count": 114,
   "metadata": {
    "tags": []
   },
   "outputs": [
    {
     "data": {
      "application/vnd.plotly.v1+json": {
       "config": {
        "plotlyServerURL": "https://plot.ly"
       },
       "data": [
        {
         "branchvalues": "total",
         "customdata": [
          [
           3831.4521292069003
          ],
          [
           89363.2482670815
          ],
          [
           757
          ],
          [
           2813.6506308463236
          ],
          [
           59581.4494143014
          ],
          [
           819.933237975021
          ],
          [
           77756.11050669462
          ],
          [
           2065
          ],
          [
           1404.1581429845837
          ],
          [
           25897.236170362587
          ],
          [
           885.4784667418264
          ],
          [
           22962.006194523932
          ],
          [
           217189.6712816192
          ],
          [
           57.51
          ],
          [
           322.59460616438355
          ],
          [
           698
          ],
          [
           56136.58954261327
          ],
          [
           95075.3845684381
          ],
          [
           15621.179883925013
          ],
          [
           216690.77210381164
          ],
          [
           287.0762126696035
          ],
          [
           1655.9070278848333
          ],
          [
           17367.7112881948
          ],
          [
           231094.97782488054
          ],
          [
           533.541537633997
          ],
          [
           948.5729006459551
          ],
          [
           1574.2250721923494
          ],
          [
           101928.3809327421
          ],
          [
           166
          ],
          [
           483
          ],
          [
           5114.733994123522
          ],
          [
           196401.30231048877
          ],
          [
           1225.2738029343607
          ],
          [
           39861.20738974061
          ],
          [
           109.58608202494372
          ],
          [
           20011.370387752715
          ],
          [
           6976.273458238772
          ],
          [
           188258.37383343736
          ],
          [
           115.154
          ],
          [
           896.3250704225352
          ],
          [
           148162.05272372952
          ],
          [
           398
          ],
          [
           141.1253341535661
          ],
          [
           648508.683692636
          ],
          [
           387397.70349584124
          ],
          [
           43212.5323132087
          ],
          [
           21470.704410618444
          ],
          [
           35600.74764217525
          ],
          [
           10560.940178834835
          ],
          [
           140182.47500308722
          ],
          [
           103.124
          ],
          [
           392.06240487062405
          ],
          [
           501
          ],
          [
           16870.892783033083
          ],
          [
           56889.054761847416
          ],
          [
           2398.0633507834063
          ],
          [
           58654.38078260476
          ],
          [
           55.60350227193289
          ],
          [
           4397.252664036103
          ],
          [
           9823.56368919824
          ],
          [
           134524.58478816674
          ],
          [
           176.5066121913314
          ],
          [
           256
          ],
          [
           93.885
          ],
          [
           3775.887311861499
          ],
          [
           777.3919644715007
          ],
          [
           7139.146242946243
          ],
          [
           2815.241125251172
          ],
          [
           2588.503788614727
          ],
          [
           20645.108104005194
          ],
          [
           18808.01698853193
          ],
          [
           159248.22870191102
          ],
          [
           86.79332816215747
          ],
          [
           442.9067069294342
          ],
          [
           577.5826397146254
          ],
          [
           44973.45820244344
          ],
          [
           282033.8350075136
          ],
          [
           12965.714199248645
          ],
          [
           212043.2724579199
          ],
          [
           231.09680146418074
          ],
          [
           28263.635713130072
          ],
          [
           14744.922509701466
          ],
          [
           177561.9811849905
          ],
          [
           480.6778467187983
          ],
          [
           880.6173453624174
          ],
          [
           31491.938217210103
          ],
          [
           203690.01954575232
          ],
          [
           190237.2716416556
          ]
         ],
         "domain": {
          "x": [
           0,
           1
          ],
          "y": [
           0,
           1
          ]
         },
         "hovertemplate": "labels=%{label}<br>sum_Flaeche_sum=%{value}<br>parent=%{parent}<br>id=%{id}<br>sum_Flaeche=%{color}<extra></extra>",
         "ids": [
          "Handänderungsfläche nach Stockwerkeigentum, Handänderungsart und Handänderungsgrundstücktyp 2021/Ja/Erbfolge/Einfamilienhäuser",
          "Handänderungsfläche nach Stockwerkeigentum, Handänderungsart und Handänderungsgrundstücktyp 2021/Nein/Erbfolge/Einfamilienhäuser",
          "Handänderungsfläche nach Stockwerkeigentum, Handänderungsart und Handänderungsgrundstücktyp 2021/Nein/Expropriation/Einfamilienhäuser",
          "Handänderungsfläche nach Stockwerkeigentum, Handänderungsart und Handänderungsgrundstücktyp 2021/Ja/Kauf/Einfamilienhäuser",
          "Handänderungsfläche nach Stockwerkeigentum, Handänderungsart und Handänderungsgrundstücktyp 2021/Nein/Kauf/Einfamilienhäuser",
          "Handänderungsfläche nach Stockwerkeigentum, Handänderungsart und Handänderungsgrundstücktyp 2021/Ja/Schenkung/Vermächtnis/Abtretung/Einfamilienhäuser",
          "Handänderungsfläche nach Stockwerkeigentum, Handänderungsart und Handänderungsgrundstücktyp 2021/Nein/Schenkung/Vermächtnis/Abtretung/Einfamilienhäuser",
          "Handänderungsfläche nach Stockwerkeigentum, Handänderungsart und Handänderungsgrundstücktyp 2021/Nein/Tausch/Einfamilienhäuser",
          "Handänderungsfläche nach Stockwerkeigentum, Handänderungsart und Handänderungsgrundstücktyp 2021/Ja/Uebrige/Einfamilienhäuser",
          "Handänderungsfläche nach Stockwerkeigentum, Handänderungsart und Handänderungsgrundstücktyp 2021/Nein/Uebrige/Einfamilienhäuser",
          "Handänderungsfläche nach Stockwerkeigentum, Handänderungsart und Handänderungsgrundstücktyp 2021/Nein/Zwangsverwertung/Einfamilienhäuser",
          "Handänderungsfläche nach Stockwerkeigentum, Handänderungsart und Handänderungsgrundstücktyp 2021/Ja/Erbfolge/Mehrfamilienhäuser",
          "Handänderungsfläche nach Stockwerkeigentum, Handänderungsart und Handänderungsgrundstücktyp 2021/Nein/Erbfolge/Mehrfamilienhäuser",
          "Handänderungsfläche nach Stockwerkeigentum, Handänderungsart und Handänderungsgrundstücktyp 2021/Ja/Expropriation/Mehrfamilienhäuser",
          "Handänderungsfläche nach Stockwerkeigentum, Handänderungsart und Handänderungsgrundstücktyp 2021/Nein/Expropriation/Mehrfamilienhäuser",
          "Handänderungsfläche nach Stockwerkeigentum, Handänderungsart und Handänderungsgrundstücktyp 2021/Nein/Freiwillige Steigerung/Mehrfamilienhäuser",
          "Handänderungsfläche nach Stockwerkeigentum, Handänderungsart und Handänderungsgrundstücktyp 2021/Ja/Kauf/Mehrfamilienhäuser",
          "Handänderungsfläche nach Stockwerkeigentum, Handänderungsart und Handänderungsgrundstücktyp 2021/Nein/Kauf/Mehrfamilienhäuser",
          "Handänderungsfläche nach Stockwerkeigentum, Handänderungsart und Handänderungsgrundstücktyp 2021/Ja/Schenkung/Vermächtnis/Abtretung/Mehrfamilienhäuser",
          "Handänderungsfläche nach Stockwerkeigentum, Handänderungsart und Handänderungsgrundstücktyp 2021/Nein/Schenkung/Vermächtnis/Abtretung/Mehrfamilienhäuser",
          "Handänderungsfläche nach Stockwerkeigentum, Handänderungsart und Handänderungsgrundstücktyp 2021/Ja/Tausch/Mehrfamilienhäuser",
          "Handänderungsfläche nach Stockwerkeigentum, Handänderungsart und Handänderungsgrundstücktyp 2021/Nein/Tausch/Mehrfamilienhäuser",
          "Handänderungsfläche nach Stockwerkeigentum, Handänderungsart und Handänderungsgrundstücktyp 2021/Ja/Uebrige/Mehrfamilienhäuser",
          "Handänderungsfläche nach Stockwerkeigentum, Handänderungsart und Handänderungsgrundstücktyp 2021/Nein/Uebrige/Mehrfamilienhäuser",
          "Handänderungsfläche nach Stockwerkeigentum, Handänderungsart und Handänderungsgrundstücktyp 2021/Ja/Zwangsverwertung/Mehrfamilienhäuser",
          "Handänderungsfläche nach Stockwerkeigentum, Handänderungsart und Handänderungsgrundstücktyp 2021/Nein/Zwangsverwertung/Mehrfamilienhäuser",
          "Handänderungsfläche nach Stockwerkeigentum, Handänderungsart und Handänderungsgrundstücktyp 2021/Ja/Erbfolge/Nutzbauten",
          "Handänderungsfläche nach Stockwerkeigentum, Handänderungsart und Handänderungsgrundstücktyp 2021/Nein/Erbfolge/Nutzbauten",
          "Handänderungsfläche nach Stockwerkeigentum, Handänderungsart und Handänderungsgrundstücktyp 2021/Nein/Expropriation/Nutzbauten",
          "Handänderungsfläche nach Stockwerkeigentum, Handänderungsart und Handänderungsgrundstücktyp 2021/Nein/Freiwillige Steigerung/Nutzbauten",
          "Handänderungsfläche nach Stockwerkeigentum, Handänderungsart und Handänderungsgrundstücktyp 2021/Ja/Kauf/Nutzbauten",
          "Handänderungsfläche nach Stockwerkeigentum, Handänderungsart und Handänderungsgrundstücktyp 2021/Nein/Kauf/Nutzbauten",
          "Handänderungsfläche nach Stockwerkeigentum, Handänderungsart und Handänderungsgrundstücktyp 2021/Ja/Schenkung/Vermächtnis/Abtretung/Nutzbauten",
          "Handänderungsfläche nach Stockwerkeigentum, Handänderungsart und Handänderungsgrundstücktyp 2021/Nein/Schenkung/Vermächtnis/Abtretung/Nutzbauten",
          "Handänderungsfläche nach Stockwerkeigentum, Handänderungsart und Handänderungsgrundstücktyp 2021/Ja/Tausch/Nutzbauten",
          "Handänderungsfläche nach Stockwerkeigentum, Handänderungsart und Handänderungsgrundstücktyp 2021/Nein/Tausch/Nutzbauten",
          "Handänderungsfläche nach Stockwerkeigentum, Handänderungsart und Handänderungsgrundstücktyp 2021/Ja/Uebrige/Nutzbauten",
          "Handänderungsfläche nach Stockwerkeigentum, Handänderungsart und Handänderungsgrundstücktyp 2021/Nein/Uebrige/Nutzbauten",
          "Handänderungsfläche nach Stockwerkeigentum, Handänderungsart und Handänderungsgrundstücktyp 2021/Ja/Zwangsverwertung/Nutzbauten",
          "Handänderungsfläche nach Stockwerkeigentum, Handänderungsart und Handänderungsgrundstücktyp 2021/Nein/Zwangsverwertung/Nutzbauten",
          "Handänderungsfläche nach Stockwerkeigentum, Handänderungsart und Handänderungsgrundstücktyp 2021/Nein/Erbfolge/Unbebaut",
          "Handänderungsfläche nach Stockwerkeigentum, Handänderungsart und Handänderungsgrundstücktyp 2021/Nein/Expropriation/Unbebaut",
          "Handänderungsfläche nach Stockwerkeigentum, Handänderungsart und Handänderungsgrundstücktyp 2021/Ja/Kauf/Unbebaut",
          "Handänderungsfläche nach Stockwerkeigentum, Handänderungsart und Handänderungsgrundstücktyp 2021/Nein/Kauf/Unbebaut",
          "Handänderungsfläche nach Stockwerkeigentum, Handänderungsart und Handänderungsgrundstücktyp 2021/Nein/Schenkung/Vermächtnis/Abtretung/Unbebaut",
          "Handänderungsfläche nach Stockwerkeigentum, Handänderungsart und Handänderungsgrundstücktyp 2021/Nein/Tausch/Unbebaut",
          "Handänderungsfläche nach Stockwerkeigentum, Handänderungsart und Handänderungsgrundstücktyp 2021/Ja/Uebrige/Unbebaut",
          "Handänderungsfläche nach Stockwerkeigentum, Handänderungsart und Handänderungsgrundstücktyp 2021/Nein/Uebrige/Unbebaut",
          "Handänderungsfläche nach Stockwerkeigentum, Handänderungsart und Handänderungsgrundstücktyp 2021/Ja/Erbfolge/Wohnhäuser mit Geschäftsräumen",
          "Handänderungsfläche nach Stockwerkeigentum, Handänderungsart und Handänderungsgrundstücktyp 2021/Nein/Erbfolge/Wohnhäuser mit Geschäftsräumen",
          "Handänderungsfläche nach Stockwerkeigentum, Handänderungsart und Handänderungsgrundstücktyp 2021/Ja/Expropriation/Wohnhäuser mit Geschäftsräumen",
          "Handänderungsfläche nach Stockwerkeigentum, Handänderungsart und Handänderungsgrundstücktyp 2021/Nein/Expropriation/Wohnhäuser mit Geschäftsräumen",
          "Handänderungsfläche nach Stockwerkeigentum, Handänderungsart und Handänderungsgrundstücktyp 2021/Nein/Freiwillige Steigerung/Wohnhäuser mit Geschäftsräumen",
          "Handänderungsfläche nach Stockwerkeigentum, Handänderungsart und Handänderungsgrundstücktyp 2021/Ja/Kauf/Wohnhäuser mit Geschäftsräumen",
          "Handänderungsfläche nach Stockwerkeigentum, Handänderungsart und Handänderungsgrundstücktyp 2021/Nein/Kauf/Wohnhäuser mit Geschäftsräumen",
          "Handänderungsfläche nach Stockwerkeigentum, Handänderungsart und Handänderungsgrundstücktyp 2021/Ja/Schenkung/Vermächtnis/Abtretung/Wohnhäuser mit Geschäftsräumen",
          "Handänderungsfläche nach Stockwerkeigentum, Handänderungsart und Handänderungsgrundstücktyp 2021/Nein/Schenkung/Vermächtnis/Abtretung/Wohnhäuser mit Geschäftsräumen",
          "Handänderungsfläche nach Stockwerkeigentum, Handänderungsart und Handänderungsgrundstücktyp 2021/Ja/Tausch/Wohnhäuser mit Geschäftsräumen",
          "Handänderungsfläche nach Stockwerkeigentum, Handänderungsart und Handänderungsgrundstücktyp 2021/Nein/Tausch/Wohnhäuser mit Geschäftsräumen",
          "Handänderungsfläche nach Stockwerkeigentum, Handänderungsart und Handänderungsgrundstücktyp 2021/Ja/Uebrige/Wohnhäuser mit Geschäftsräumen",
          "Handänderungsfläche nach Stockwerkeigentum, Handänderungsart und Handänderungsgrundstücktyp 2021/Nein/Uebrige/Wohnhäuser mit Geschäftsräumen",
          "Handänderungsfläche nach Stockwerkeigentum, Handänderungsart und Handänderungsgrundstücktyp 2021/Ja/Zwangsverwertung/Wohnhäuser mit Geschäftsräumen",
          "Handänderungsfläche nach Stockwerkeigentum, Handänderungsart und Handänderungsgrundstücktyp 2021/Nein/Zwangsverwertung/Wohnhäuser mit Geschäftsräumen",
          "Handänderungsfläche nach Stockwerkeigentum, Handänderungsart und Handänderungsgrundstücktyp 2021/Ja/Erbfolge/übrige Wohnhäuser",
          "Handänderungsfläche nach Stockwerkeigentum, Handänderungsart und Handänderungsgrundstücktyp 2021/Nein/Erbfolge/übrige Wohnhäuser",
          "Handänderungsfläche nach Stockwerkeigentum, Handänderungsart und Handänderungsgrundstücktyp 2021/Ja/Kauf/übrige Wohnhäuser",
          "Handänderungsfläche nach Stockwerkeigentum, Handänderungsart und Handänderungsgrundstücktyp 2021/Nein/Kauf/übrige Wohnhäuser",
          "Handänderungsfläche nach Stockwerkeigentum, Handänderungsart und Handänderungsgrundstücktyp 2021/Nein/Schenkung/Vermächtnis/Abtretung/übrige Wohnhäuser",
          "Handänderungsfläche nach Stockwerkeigentum, Handänderungsart und Handänderungsgrundstücktyp 2021/Nein/Tausch/übrige Wohnhäuser",
          "Handänderungsfläche nach Stockwerkeigentum, Handänderungsart und Handänderungsgrundstücktyp 2021/Nein/Uebrige/übrige Wohnhäuser",
          "Handänderungsfläche nach Stockwerkeigentum, Handänderungsart und Handänderungsgrundstücktyp 2021/Ja/Erbfolge",
          "Handänderungsfläche nach Stockwerkeigentum, Handänderungsart und Handänderungsgrundstücktyp 2021/Nein/Erbfolge",
          "Handänderungsfläche nach Stockwerkeigentum, Handänderungsart und Handänderungsgrundstücktyp 2021/Ja/Expropriation",
          "Handänderungsfläche nach Stockwerkeigentum, Handänderungsart und Handänderungsgrundstücktyp 2021/Nein/Expropriation",
          "Handänderungsfläche nach Stockwerkeigentum, Handänderungsart und Handänderungsgrundstücktyp 2021/Nein/Freiwillige Steigerung",
          "Handänderungsfläche nach Stockwerkeigentum, Handänderungsart und Handänderungsgrundstücktyp 2021/Ja/Kauf",
          "Handänderungsfläche nach Stockwerkeigentum, Handänderungsart und Handänderungsgrundstücktyp 2021/Nein/Kauf",
          "Handänderungsfläche nach Stockwerkeigentum, Handänderungsart und Handänderungsgrundstücktyp 2021/Ja/Schenkung/Vermächtnis/Abtretung",
          "Handänderungsfläche nach Stockwerkeigentum, Handänderungsart und Handänderungsgrundstücktyp 2021/Nein/Schenkung/Vermächtnis/Abtretung",
          "Handänderungsfläche nach Stockwerkeigentum, Handänderungsart und Handänderungsgrundstücktyp 2021/Ja/Tausch",
          "Handänderungsfläche nach Stockwerkeigentum, Handänderungsart und Handänderungsgrundstücktyp 2021/Nein/Tausch",
          "Handänderungsfläche nach Stockwerkeigentum, Handänderungsart und Handänderungsgrundstücktyp 2021/Ja/Uebrige",
          "Handänderungsfläche nach Stockwerkeigentum, Handänderungsart und Handänderungsgrundstücktyp 2021/Nein/Uebrige",
          "Handänderungsfläche nach Stockwerkeigentum, Handänderungsart und Handänderungsgrundstücktyp 2021/Ja/Zwangsverwertung",
          "Handänderungsfläche nach Stockwerkeigentum, Handänderungsart und Handänderungsgrundstücktyp 2021/Nein/Zwangsverwertung",
          "Handänderungsfläche nach Stockwerkeigentum, Handänderungsart und Handänderungsgrundstücktyp 2021/Ja",
          "Handänderungsfläche nach Stockwerkeigentum, Handänderungsart und Handänderungsgrundstücktyp 2021/Nein",
          "Handänderungsfläche nach Stockwerkeigentum, Handänderungsart und Handänderungsgrundstücktyp 2021"
         ],
         "labels": [
          "Einfamilienhäuser",
          "Einfamilienhäuser",
          "Einfamilienhäuser",
          "Einfamilienhäuser",
          "Einfamilienhäuser",
          "Einfamilienhäuser",
          "Einfamilienhäuser",
          "Einfamilienhäuser",
          "Einfamilienhäuser",
          "Einfamilienhäuser",
          "Einfamilienhäuser",
          "Mehrfamilienhäuser",
          "Mehrfamilienhäuser",
          "Mehrfamilienhäuser",
          "Mehrfamilienhäuser",
          "Mehrfamilienhäuser",
          "Mehrfamilienhäuser",
          "Mehrfamilienhäuser",
          "Mehrfamilienhäuser",
          "Mehrfamilienhäuser",
          "Mehrfamilienhäuser",
          "Mehrfamilienhäuser",
          "Mehrfamilienhäuser",
          "Mehrfamilienhäuser",
          "Mehrfamilienhäuser",
          "Mehrfamilienhäuser",
          "Nutzbauten",
          "Nutzbauten",
          "Nutzbauten",
          "Nutzbauten",
          "Nutzbauten",
          "Nutzbauten",
          "Nutzbauten",
          "Nutzbauten",
          "Nutzbauten",
          "Nutzbauten",
          "Nutzbauten",
          "Nutzbauten",
          "Nutzbauten",
          "Nutzbauten",
          "Unbebaut",
          "Unbebaut",
          "Unbebaut",
          "Unbebaut",
          "Unbebaut",
          "Unbebaut",
          "Unbebaut",
          "Unbebaut",
          "Wohnhäuser mit Geschäftsräumen",
          "Wohnhäuser mit Geschäftsräumen",
          "Wohnhäuser mit Geschäftsräumen",
          "Wohnhäuser mit Geschäftsräumen",
          "Wohnhäuser mit Geschäftsräumen",
          "Wohnhäuser mit Geschäftsräumen",
          "Wohnhäuser mit Geschäftsräumen",
          "Wohnhäuser mit Geschäftsräumen",
          "Wohnhäuser mit Geschäftsräumen",
          "Wohnhäuser mit Geschäftsräumen",
          "Wohnhäuser mit Geschäftsräumen",
          "Wohnhäuser mit Geschäftsräumen",
          "Wohnhäuser mit Geschäftsräumen",
          "Wohnhäuser mit Geschäftsräumen",
          "Wohnhäuser mit Geschäftsräumen",
          "übrige Wohnhäuser",
          "übrige Wohnhäuser",
          "übrige Wohnhäuser",
          "übrige Wohnhäuser",
          "übrige Wohnhäuser",
          "übrige Wohnhäuser",
          "übrige Wohnhäuser",
          "Erbfolge",
          "Erbfolge",
          "Expropriation",
          "Expropriation",
          "Freiwillige Steigerung",
          "Kauf",
          "Kauf",
          "Schenkung/Vermächtnis/Abtretung",
          "Schenkung/Vermächtnis/Abtretung",
          "Tausch",
          "Tausch",
          "Uebrige",
          "Uebrige",
          "Zwangsverwertung",
          "Zwangsverwertung",
          "Ja",
          "Nein",
          "Handänderungsfläche nach Stockwerkeigentum, Handänderungsart und Handänderungsgrundstücktyp 2021"
         ],
         "marker": {
          "coloraxis": "coloraxis",
          "colors": [
           3831.4521292069003,
           89363.2482670815,
           757,
           2813.6506308463236,
           59581.4494143014,
           819.933237975021,
           77756.11050669462,
           2065,
           1404.1581429845837,
           25897.236170362587,
           885.4784667418264,
           22962.006194523932,
           217189.6712816192,
           57.51,
           322.59460616438355,
           698,
           56136.58954261327,
           95075.3845684381,
           15621.179883925013,
           216690.77210381164,
           287.0762126696035,
           1655.9070278848333,
           17367.7112881948,
           231094.97782488054,
           533.541537633997,
           948.5729006459551,
           1574.2250721923494,
           101928.3809327421,
           166,
           483,
           5114.733994123522,
           196401.30231048877,
           1225.2738029343607,
           39861.20738974061,
           109.58608202494372,
           20011.370387752715,
           6976.273458238772,
           188258.37383343736,
           115.154,
           896.3250704225352,
           148162.05272372952,
           398,
           141.1253341535661,
           648508.683692636,
           387397.70349584124,
           43212.5323132087,
           21470.704410618444,
           35600.74764217525,
           10560.940178834835,
           140182.47500308722,
           103.124,
           392.06240487062405,
           501,
           16870.892783033083,
           56889.054761847416,
           2398.0633507834063,
           58654.38078260476,
           55.60350227193289,
           4397.252664036103,
           9823.56368919824,
           134524.58478816674,
           176.5066121913314,
           256,
           93.885,
           3775.887311861499,
           777.3919644715007,
           7139.146242946243,
           2815.241125251172,
           2588.503788614727,
           20645.108104005194,
           18808.01698853193,
           159248.22870191102,
           86.79332816215747,
           442.9067069294342,
           577.5826397146254,
           44973.45820244344,
           282033.8350075136,
           12965.714199248645,
           212043.2724579199,
           231.09680146418074,
           28263.635713130072,
           14744.922509701466,
           177561.9811849905,
           480.6778467187983,
           880.6173453624174,
           31491.938217210103,
           203690.01954575232,
           190237.2716416556
          ]
         },
         "name": "",
         "parents": [
          "Handänderungsfläche nach Stockwerkeigentum, Handänderungsart und Handänderungsgrundstücktyp 2021/Ja/Erbfolge",
          "Handänderungsfläche nach Stockwerkeigentum, Handänderungsart und Handänderungsgrundstücktyp 2021/Nein/Erbfolge",
          "Handänderungsfläche nach Stockwerkeigentum, Handänderungsart und Handänderungsgrundstücktyp 2021/Nein/Expropriation",
          "Handänderungsfläche nach Stockwerkeigentum, Handänderungsart und Handänderungsgrundstücktyp 2021/Ja/Kauf",
          "Handänderungsfläche nach Stockwerkeigentum, Handänderungsart und Handänderungsgrundstücktyp 2021/Nein/Kauf",
          "Handänderungsfläche nach Stockwerkeigentum, Handänderungsart und Handänderungsgrundstücktyp 2021/Ja/Schenkung/Vermächtnis/Abtretung",
          "Handänderungsfläche nach Stockwerkeigentum, Handänderungsart und Handänderungsgrundstücktyp 2021/Nein/Schenkung/Vermächtnis/Abtretung",
          "Handänderungsfläche nach Stockwerkeigentum, Handänderungsart und Handänderungsgrundstücktyp 2021/Nein/Tausch",
          "Handänderungsfläche nach Stockwerkeigentum, Handänderungsart und Handänderungsgrundstücktyp 2021/Ja/Uebrige",
          "Handänderungsfläche nach Stockwerkeigentum, Handänderungsart und Handänderungsgrundstücktyp 2021/Nein/Uebrige",
          "Handänderungsfläche nach Stockwerkeigentum, Handänderungsart und Handänderungsgrundstücktyp 2021/Nein/Zwangsverwertung",
          "Handänderungsfläche nach Stockwerkeigentum, Handänderungsart und Handänderungsgrundstücktyp 2021/Ja/Erbfolge",
          "Handänderungsfläche nach Stockwerkeigentum, Handänderungsart und Handänderungsgrundstücktyp 2021/Nein/Erbfolge",
          "Handänderungsfläche nach Stockwerkeigentum, Handänderungsart und Handänderungsgrundstücktyp 2021/Ja/Expropriation",
          "Handänderungsfläche nach Stockwerkeigentum, Handänderungsart und Handänderungsgrundstücktyp 2021/Nein/Expropriation",
          "Handänderungsfläche nach Stockwerkeigentum, Handänderungsart und Handänderungsgrundstücktyp 2021/Nein/Freiwillige Steigerung",
          "Handänderungsfläche nach Stockwerkeigentum, Handänderungsart und Handänderungsgrundstücktyp 2021/Ja/Kauf",
          "Handänderungsfläche nach Stockwerkeigentum, Handänderungsart und Handänderungsgrundstücktyp 2021/Nein/Kauf",
          "Handänderungsfläche nach Stockwerkeigentum, Handänderungsart und Handänderungsgrundstücktyp 2021/Ja/Schenkung/Vermächtnis/Abtretung",
          "Handänderungsfläche nach Stockwerkeigentum, Handänderungsart und Handänderungsgrundstücktyp 2021/Nein/Schenkung/Vermächtnis/Abtretung",
          "Handänderungsfläche nach Stockwerkeigentum, Handänderungsart und Handänderungsgrundstücktyp 2021/Ja/Tausch",
          "Handänderungsfläche nach Stockwerkeigentum, Handänderungsart und Handänderungsgrundstücktyp 2021/Nein/Tausch",
          "Handänderungsfläche nach Stockwerkeigentum, Handänderungsart und Handänderungsgrundstücktyp 2021/Ja/Uebrige",
          "Handänderungsfläche nach Stockwerkeigentum, Handänderungsart und Handänderungsgrundstücktyp 2021/Nein/Uebrige",
          "Handänderungsfläche nach Stockwerkeigentum, Handänderungsart und Handänderungsgrundstücktyp 2021/Ja/Zwangsverwertung",
          "Handänderungsfläche nach Stockwerkeigentum, Handänderungsart und Handänderungsgrundstücktyp 2021/Nein/Zwangsverwertung",
          "Handänderungsfläche nach Stockwerkeigentum, Handänderungsart und Handänderungsgrundstücktyp 2021/Ja/Erbfolge",
          "Handänderungsfläche nach Stockwerkeigentum, Handänderungsart und Handänderungsgrundstücktyp 2021/Nein/Erbfolge",
          "Handänderungsfläche nach Stockwerkeigentum, Handänderungsart und Handänderungsgrundstücktyp 2021/Nein/Expropriation",
          "Handänderungsfläche nach Stockwerkeigentum, Handänderungsart und Handänderungsgrundstücktyp 2021/Nein/Freiwillige Steigerung",
          "Handänderungsfläche nach Stockwerkeigentum, Handänderungsart und Handänderungsgrundstücktyp 2021/Ja/Kauf",
          "Handänderungsfläche nach Stockwerkeigentum, Handänderungsart und Handänderungsgrundstücktyp 2021/Nein/Kauf",
          "Handänderungsfläche nach Stockwerkeigentum, Handänderungsart und Handänderungsgrundstücktyp 2021/Ja/Schenkung/Vermächtnis/Abtretung",
          "Handänderungsfläche nach Stockwerkeigentum, Handänderungsart und Handänderungsgrundstücktyp 2021/Nein/Schenkung/Vermächtnis/Abtretung",
          "Handänderungsfläche nach Stockwerkeigentum, Handänderungsart und Handänderungsgrundstücktyp 2021/Ja/Tausch",
          "Handänderungsfläche nach Stockwerkeigentum, Handänderungsart und Handänderungsgrundstücktyp 2021/Nein/Tausch",
          "Handänderungsfläche nach Stockwerkeigentum, Handänderungsart und Handänderungsgrundstücktyp 2021/Ja/Uebrige",
          "Handänderungsfläche nach Stockwerkeigentum, Handänderungsart und Handänderungsgrundstücktyp 2021/Nein/Uebrige",
          "Handänderungsfläche nach Stockwerkeigentum, Handänderungsart und Handänderungsgrundstücktyp 2021/Ja/Zwangsverwertung",
          "Handänderungsfläche nach Stockwerkeigentum, Handänderungsart und Handänderungsgrundstücktyp 2021/Nein/Zwangsverwertung",
          "Handänderungsfläche nach Stockwerkeigentum, Handänderungsart und Handänderungsgrundstücktyp 2021/Nein/Erbfolge",
          "Handänderungsfläche nach Stockwerkeigentum, Handänderungsart und Handänderungsgrundstücktyp 2021/Nein/Expropriation",
          "Handänderungsfläche nach Stockwerkeigentum, Handänderungsart und Handänderungsgrundstücktyp 2021/Ja/Kauf",
          "Handänderungsfläche nach Stockwerkeigentum, Handänderungsart und Handänderungsgrundstücktyp 2021/Nein/Kauf",
          "Handänderungsfläche nach Stockwerkeigentum, Handänderungsart und Handänderungsgrundstücktyp 2021/Nein/Schenkung/Vermächtnis/Abtretung",
          "Handänderungsfläche nach Stockwerkeigentum, Handänderungsart und Handänderungsgrundstücktyp 2021/Nein/Tausch",
          "Handänderungsfläche nach Stockwerkeigentum, Handänderungsart und Handänderungsgrundstücktyp 2021/Ja/Uebrige",
          "Handänderungsfläche nach Stockwerkeigentum, Handänderungsart und Handänderungsgrundstücktyp 2021/Nein/Uebrige",
          "Handänderungsfläche nach Stockwerkeigentum, Handänderungsart und Handänderungsgrundstücktyp 2021/Ja/Erbfolge",
          "Handänderungsfläche nach Stockwerkeigentum, Handänderungsart und Handänderungsgrundstücktyp 2021/Nein/Erbfolge",
          "Handänderungsfläche nach Stockwerkeigentum, Handänderungsart und Handänderungsgrundstücktyp 2021/Ja/Expropriation",
          "Handänderungsfläche nach Stockwerkeigentum, Handänderungsart und Handänderungsgrundstücktyp 2021/Nein/Expropriation",
          "Handänderungsfläche nach Stockwerkeigentum, Handänderungsart und Handänderungsgrundstücktyp 2021/Nein/Freiwillige Steigerung",
          "Handänderungsfläche nach Stockwerkeigentum, Handänderungsart und Handänderungsgrundstücktyp 2021/Ja/Kauf",
          "Handänderungsfläche nach Stockwerkeigentum, Handänderungsart und Handänderungsgrundstücktyp 2021/Nein/Kauf",
          "Handänderungsfläche nach Stockwerkeigentum, Handänderungsart und Handänderungsgrundstücktyp 2021/Ja/Schenkung/Vermächtnis/Abtretung",
          "Handänderungsfläche nach Stockwerkeigentum, Handänderungsart und Handänderungsgrundstücktyp 2021/Nein/Schenkung/Vermächtnis/Abtretung",
          "Handänderungsfläche nach Stockwerkeigentum, Handänderungsart und Handänderungsgrundstücktyp 2021/Ja/Tausch",
          "Handänderungsfläche nach Stockwerkeigentum, Handänderungsart und Handänderungsgrundstücktyp 2021/Nein/Tausch",
          "Handänderungsfläche nach Stockwerkeigentum, Handänderungsart und Handänderungsgrundstücktyp 2021/Ja/Uebrige",
          "Handänderungsfläche nach Stockwerkeigentum, Handänderungsart und Handänderungsgrundstücktyp 2021/Nein/Uebrige",
          "Handänderungsfläche nach Stockwerkeigentum, Handänderungsart und Handänderungsgrundstücktyp 2021/Ja/Zwangsverwertung",
          "Handänderungsfläche nach Stockwerkeigentum, Handänderungsart und Handänderungsgrundstücktyp 2021/Nein/Zwangsverwertung",
          "Handänderungsfläche nach Stockwerkeigentum, Handänderungsart und Handänderungsgrundstücktyp 2021/Ja/Erbfolge",
          "Handänderungsfläche nach Stockwerkeigentum, Handänderungsart und Handänderungsgrundstücktyp 2021/Nein/Erbfolge",
          "Handänderungsfläche nach Stockwerkeigentum, Handänderungsart und Handänderungsgrundstücktyp 2021/Ja/Kauf",
          "Handänderungsfläche nach Stockwerkeigentum, Handänderungsart und Handänderungsgrundstücktyp 2021/Nein/Kauf",
          "Handänderungsfläche nach Stockwerkeigentum, Handänderungsart und Handänderungsgrundstücktyp 2021/Nein/Schenkung/Vermächtnis/Abtretung",
          "Handänderungsfläche nach Stockwerkeigentum, Handänderungsart und Handänderungsgrundstücktyp 2021/Nein/Tausch",
          "Handänderungsfläche nach Stockwerkeigentum, Handänderungsart und Handänderungsgrundstücktyp 2021/Nein/Uebrige",
          "Handänderungsfläche nach Stockwerkeigentum, Handänderungsart und Handänderungsgrundstücktyp 2021/Ja",
          "Handänderungsfläche nach Stockwerkeigentum, Handänderungsart und Handänderungsgrundstücktyp 2021/Nein",
          "Handänderungsfläche nach Stockwerkeigentum, Handänderungsart und Handänderungsgrundstücktyp 2021/Ja",
          "Handänderungsfläche nach Stockwerkeigentum, Handänderungsart und Handänderungsgrundstücktyp 2021/Nein",
          "Handänderungsfläche nach Stockwerkeigentum, Handänderungsart und Handänderungsgrundstücktyp 2021/Nein",
          "Handänderungsfläche nach Stockwerkeigentum, Handänderungsart und Handänderungsgrundstücktyp 2021/Ja",
          "Handänderungsfläche nach Stockwerkeigentum, Handänderungsart und Handänderungsgrundstücktyp 2021/Nein",
          "Handänderungsfläche nach Stockwerkeigentum, Handänderungsart und Handänderungsgrundstücktyp 2021/Ja",
          "Handänderungsfläche nach Stockwerkeigentum, Handänderungsart und Handänderungsgrundstücktyp 2021/Nein",
          "Handänderungsfläche nach Stockwerkeigentum, Handänderungsart und Handänderungsgrundstücktyp 2021/Ja",
          "Handänderungsfläche nach Stockwerkeigentum, Handänderungsart und Handänderungsgrundstücktyp 2021/Nein",
          "Handänderungsfläche nach Stockwerkeigentum, Handänderungsart und Handänderungsgrundstücktyp 2021/Ja",
          "Handänderungsfläche nach Stockwerkeigentum, Handänderungsart und Handänderungsgrundstücktyp 2021/Nein",
          "Handänderungsfläche nach Stockwerkeigentum, Handänderungsart und Handänderungsgrundstücktyp 2021/Ja",
          "Handänderungsfläche nach Stockwerkeigentum, Handänderungsart und Handänderungsgrundstücktyp 2021/Nein",
          "Handänderungsfläche nach Stockwerkeigentum, Handänderungsart und Handänderungsgrundstücktyp 2021",
          "Handänderungsfläche nach Stockwerkeigentum, Handänderungsart und Handänderungsgrundstücktyp 2021",
          ""
         ],
         "root": {
          "color": "grey"
         },
         "type": "treemap",
         "values": [
          17537.438000000002,
          1052249.1222222215,
          757,
          17176.110707936507,
          754406.0379732763,
          2325.95,
          309480.0834303723,
          2065,
          5057.818,
          237760.7799999999,
          4435,
          269006.2752999997,
          2548529.293888885,
          57.51,
          1168,
          698,
          715649.0899218578,
          1186202.3519771532,
          79218.50124,
          676069.9949999992,
          907.558,
          11027.5,
          188215.23039999988,
          2509852.904999998,
          2932.4815,
          1625.5,
          8815.671,
          604112.6966904751,
          166,
          483,
          46753.94497970717,
          1637509.9924253384,
          3059.61,
          156889.91896153844,
          335.466994871794,
          54527.02,
          42976.35674502924,
          1971615.1395337526,
          115.154,
          1775,
          1129893.3626169153,
          398,
          142.48912698412698,
          1901787.6555803095,
          580978.8802949608,
          95972.75,
          50892.2952417154,
          268989.98904761893,
          85013.65835999997,
          1310285.8938708815,
          103.124,
          657,
          501,
          189730.8651036841,
          701271.1310165151,
          13833.76169999999,
          229461.9483492063,
          57.22,
          21161.5,
          88308.10698999999,
          1454485.0006666656,
          371.272,
          256,
          93.885,
          12823,
          1422.717,
          33670,
          5972,
          5147,
          118571,
          380466.9276599997,
          6657893.369289379,
          160.634,
          3146,
          1682,
          970875.2168401697,
          6214847.168972592,
          98437.82294,
          1958852.826036077,
          1300.244994871794,
          189900.77,
          375449.8073767445,
          6561274.814248035,
          3418.9075,
          8091.5,
          1830109.5613117856,
          21595688.44854608,
          23425798.009857867
         ]
        }
       ],
       "layout": {
        "coloraxis": {
         "colorbar": {
          "title": {
           "text": "sum_Flaeche"
          }
         },
         "colorscale": [
          [
           0,
           "#440154"
          ],
          [
           0.1111111111111111,
           "#482878"
          ],
          [
           0.2222222222222222,
           "#3e4989"
          ],
          [
           0.3333333333333333,
           "#31688e"
          ],
          [
           0.4444444444444444,
           "#26828e"
          ],
          [
           0.5555555555555556,
           "#1f9e89"
          ],
          [
           0.6666666666666666,
           "#35b779"
          ],
          [
           0.7777777777777778,
           "#6ece58"
          ],
          [
           0.8888888888888888,
           "#b5de2b"
          ],
          [
           1,
           "#fde725"
          ]
         ]
        },
        "height": 500,
        "legend": {
         "tracegroupgap": 0
        },
        "margin": {
         "b": 25,
         "l": 25,
         "r": 250,
         "t": 50
        },
        "template": {
         "data": {
          "bar": [
           {
            "error_x": {
             "color": "#2a3f5f"
            },
            "error_y": {
             "color": "#2a3f5f"
            },
            "marker": {
             "line": {
              "color": "#E5ECF6",
              "width": 0.5
             },
             "pattern": {
              "fillmode": "overlay",
              "size": 10,
              "solidity": 0.2
             }
            },
            "type": "bar"
           }
          ],
          "barpolar": [
           {
            "marker": {
             "line": {
              "color": "#E5ECF6",
              "width": 0.5
             },
             "pattern": {
              "fillmode": "overlay",
              "size": 10,
              "solidity": 0.2
             }
            },
            "type": "barpolar"
           }
          ],
          "carpet": [
           {
            "aaxis": {
             "endlinecolor": "#2a3f5f",
             "gridcolor": "white",
             "linecolor": "white",
             "minorgridcolor": "white",
             "startlinecolor": "#2a3f5f"
            },
            "baxis": {
             "endlinecolor": "#2a3f5f",
             "gridcolor": "white",
             "linecolor": "white",
             "minorgridcolor": "white",
             "startlinecolor": "#2a3f5f"
            },
            "type": "carpet"
           }
          ],
          "choropleth": [
           {
            "colorbar": {
             "outlinewidth": 0,
             "ticks": ""
            },
            "type": "choropleth"
           }
          ],
          "contour": [
           {
            "colorbar": {
             "outlinewidth": 0,
             "ticks": ""
            },
            "colorscale": [
             [
              0,
              "#0d0887"
             ],
             [
              0.1111111111111111,
              "#46039f"
             ],
             [
              0.2222222222222222,
              "#7201a8"
             ],
             [
              0.3333333333333333,
              "#9c179e"
             ],
             [
              0.4444444444444444,
              "#bd3786"
             ],
             [
              0.5555555555555556,
              "#d8576b"
             ],
             [
              0.6666666666666666,
              "#ed7953"
             ],
             [
              0.7777777777777778,
              "#fb9f3a"
             ],
             [
              0.8888888888888888,
              "#fdca26"
             ],
             [
              1,
              "#f0f921"
             ]
            ],
            "type": "contour"
           }
          ],
          "contourcarpet": [
           {
            "colorbar": {
             "outlinewidth": 0,
             "ticks": ""
            },
            "type": "contourcarpet"
           }
          ],
          "heatmap": [
           {
            "colorbar": {
             "outlinewidth": 0,
             "ticks": ""
            },
            "colorscale": [
             [
              0,
              "#0d0887"
             ],
             [
              0.1111111111111111,
              "#46039f"
             ],
             [
              0.2222222222222222,
              "#7201a8"
             ],
             [
              0.3333333333333333,
              "#9c179e"
             ],
             [
              0.4444444444444444,
              "#bd3786"
             ],
             [
              0.5555555555555556,
              "#d8576b"
             ],
             [
              0.6666666666666666,
              "#ed7953"
             ],
             [
              0.7777777777777778,
              "#fb9f3a"
             ],
             [
              0.8888888888888888,
              "#fdca26"
             ],
             [
              1,
              "#f0f921"
             ]
            ],
            "type": "heatmap"
           }
          ],
          "heatmapgl": [
           {
            "colorbar": {
             "outlinewidth": 0,
             "ticks": ""
            },
            "colorscale": [
             [
              0,
              "#0d0887"
             ],
             [
              0.1111111111111111,
              "#46039f"
             ],
             [
              0.2222222222222222,
              "#7201a8"
             ],
             [
              0.3333333333333333,
              "#9c179e"
             ],
             [
              0.4444444444444444,
              "#bd3786"
             ],
             [
              0.5555555555555556,
              "#d8576b"
             ],
             [
              0.6666666666666666,
              "#ed7953"
             ],
             [
              0.7777777777777778,
              "#fb9f3a"
             ],
             [
              0.8888888888888888,
              "#fdca26"
             ],
             [
              1,
              "#f0f921"
             ]
            ],
            "type": "heatmapgl"
           }
          ],
          "histogram": [
           {
            "marker": {
             "pattern": {
              "fillmode": "overlay",
              "size": 10,
              "solidity": 0.2
             }
            },
            "type": "histogram"
           }
          ],
          "histogram2d": [
           {
            "colorbar": {
             "outlinewidth": 0,
             "ticks": ""
            },
            "colorscale": [
             [
              0,
              "#0d0887"
             ],
             [
              0.1111111111111111,
              "#46039f"
             ],
             [
              0.2222222222222222,
              "#7201a8"
             ],
             [
              0.3333333333333333,
              "#9c179e"
             ],
             [
              0.4444444444444444,
              "#bd3786"
             ],
             [
              0.5555555555555556,
              "#d8576b"
             ],
             [
              0.6666666666666666,
              "#ed7953"
             ],
             [
              0.7777777777777778,
              "#fb9f3a"
             ],
             [
              0.8888888888888888,
              "#fdca26"
             ],
             [
              1,
              "#f0f921"
             ]
            ],
            "type": "histogram2d"
           }
          ],
          "histogram2dcontour": [
           {
            "colorbar": {
             "outlinewidth": 0,
             "ticks": ""
            },
            "colorscale": [
             [
              0,
              "#0d0887"
             ],
             [
              0.1111111111111111,
              "#46039f"
             ],
             [
              0.2222222222222222,
              "#7201a8"
             ],
             [
              0.3333333333333333,
              "#9c179e"
             ],
             [
              0.4444444444444444,
              "#bd3786"
             ],
             [
              0.5555555555555556,
              "#d8576b"
             ],
             [
              0.6666666666666666,
              "#ed7953"
             ],
             [
              0.7777777777777778,
              "#fb9f3a"
             ],
             [
              0.8888888888888888,
              "#fdca26"
             ],
             [
              1,
              "#f0f921"
             ]
            ],
            "type": "histogram2dcontour"
           }
          ],
          "mesh3d": [
           {
            "colorbar": {
             "outlinewidth": 0,
             "ticks": ""
            },
            "type": "mesh3d"
           }
          ],
          "parcoords": [
           {
            "line": {
             "colorbar": {
              "outlinewidth": 0,
              "ticks": ""
             }
            },
            "type": "parcoords"
           }
          ],
          "pie": [
           {
            "automargin": true,
            "type": "pie"
           }
          ],
          "scatter": [
           {
            "marker": {
             "colorbar": {
              "outlinewidth": 0,
              "ticks": ""
             }
            },
            "type": "scatter"
           }
          ],
          "scatter3d": [
           {
            "line": {
             "colorbar": {
              "outlinewidth": 0,
              "ticks": ""
             }
            },
            "marker": {
             "colorbar": {
              "outlinewidth": 0,
              "ticks": ""
             }
            },
            "type": "scatter3d"
           }
          ],
          "scattercarpet": [
           {
            "marker": {
             "colorbar": {
              "outlinewidth": 0,
              "ticks": ""
             }
            },
            "type": "scattercarpet"
           }
          ],
          "scattergeo": [
           {
            "marker": {
             "colorbar": {
              "outlinewidth": 0,
              "ticks": ""
             }
            },
            "type": "scattergeo"
           }
          ],
          "scattergl": [
           {
            "marker": {
             "colorbar": {
              "outlinewidth": 0,
              "ticks": ""
             }
            },
            "type": "scattergl"
           }
          ],
          "scattermapbox": [
           {
            "marker": {
             "colorbar": {
              "outlinewidth": 0,
              "ticks": ""
             }
            },
            "type": "scattermapbox"
           }
          ],
          "scatterpolar": [
           {
            "marker": {
             "colorbar": {
              "outlinewidth": 0,
              "ticks": ""
             }
            },
            "type": "scatterpolar"
           }
          ],
          "scatterpolargl": [
           {
            "marker": {
             "colorbar": {
              "outlinewidth": 0,
              "ticks": ""
             }
            },
            "type": "scatterpolargl"
           }
          ],
          "scatterternary": [
           {
            "marker": {
             "colorbar": {
              "outlinewidth": 0,
              "ticks": ""
             }
            },
            "type": "scatterternary"
           }
          ],
          "surface": [
           {
            "colorbar": {
             "outlinewidth": 0,
             "ticks": ""
            },
            "colorscale": [
             [
              0,
              "#0d0887"
             ],
             [
              0.1111111111111111,
              "#46039f"
             ],
             [
              0.2222222222222222,
              "#7201a8"
             ],
             [
              0.3333333333333333,
              "#9c179e"
             ],
             [
              0.4444444444444444,
              "#bd3786"
             ],
             [
              0.5555555555555556,
              "#d8576b"
             ],
             [
              0.6666666666666666,
              "#ed7953"
             ],
             [
              0.7777777777777778,
              "#fb9f3a"
             ],
             [
              0.8888888888888888,
              "#fdca26"
             ],
             [
              1,
              "#f0f921"
             ]
            ],
            "type": "surface"
           }
          ],
          "table": [
           {
            "cells": {
             "fill": {
              "color": "#EBF0F8"
             },
             "line": {
              "color": "white"
             }
            },
            "header": {
             "fill": {
              "color": "#C8D4E3"
             },
             "line": {
              "color": "white"
             }
            },
            "type": "table"
           }
          ]
         },
         "layout": {
          "annotationdefaults": {
           "arrowcolor": "#2a3f5f",
           "arrowhead": 0,
           "arrowwidth": 1
          },
          "autotypenumbers": "strict",
          "coloraxis": {
           "colorbar": {
            "outlinewidth": 0,
            "ticks": ""
           }
          },
          "colorscale": {
           "diverging": [
            [
             0,
             "#8e0152"
            ],
            [
             0.1,
             "#c51b7d"
            ],
            [
             0.2,
             "#de77ae"
            ],
            [
             0.3,
             "#f1b6da"
            ],
            [
             0.4,
             "#fde0ef"
            ],
            [
             0.5,
             "#f7f7f7"
            ],
            [
             0.6,
             "#e6f5d0"
            ],
            [
             0.7,
             "#b8e186"
            ],
            [
             0.8,
             "#7fbc41"
            ],
            [
             0.9,
             "#4d9221"
            ],
            [
             1,
             "#276419"
            ]
           ],
           "sequential": [
            [
             0,
             "#0d0887"
            ],
            [
             0.1111111111111111,
             "#46039f"
            ],
            [
             0.2222222222222222,
             "#7201a8"
            ],
            [
             0.3333333333333333,
             "#9c179e"
            ],
            [
             0.4444444444444444,
             "#bd3786"
            ],
            [
             0.5555555555555556,
             "#d8576b"
            ],
            [
             0.6666666666666666,
             "#ed7953"
            ],
            [
             0.7777777777777778,
             "#fb9f3a"
            ],
            [
             0.8888888888888888,
             "#fdca26"
            ],
            [
             1,
             "#f0f921"
            ]
           ],
           "sequentialminus": [
            [
             0,
             "#0d0887"
            ],
            [
             0.1111111111111111,
             "#46039f"
            ],
            [
             0.2222222222222222,
             "#7201a8"
            ],
            [
             0.3333333333333333,
             "#9c179e"
            ],
            [
             0.4444444444444444,
             "#bd3786"
            ],
            [
             0.5555555555555556,
             "#d8576b"
            ],
            [
             0.6666666666666666,
             "#ed7953"
            ],
            [
             0.7777777777777778,
             "#fb9f3a"
            ],
            [
             0.8888888888888888,
             "#fdca26"
            ],
            [
             1,
             "#f0f921"
            ]
           ]
          },
          "colorway": [
           "#636efa",
           "#EF553B",
           "#00cc96",
           "#ab63fa",
           "#FFA15A",
           "#19d3f3",
           "#FF6692",
           "#B6E880",
           "#FF97FF",
           "#FECB52"
          ],
          "font": {
           "color": "#2a3f5f"
          },
          "geo": {
           "bgcolor": "white",
           "lakecolor": "white",
           "landcolor": "#E5ECF6",
           "showlakes": true,
           "showland": true,
           "subunitcolor": "white"
          },
          "hoverlabel": {
           "align": "left"
          },
          "hovermode": "closest",
          "mapbox": {
           "style": "light"
          },
          "paper_bgcolor": "white",
          "plot_bgcolor": "#E5ECF6",
          "polar": {
           "angularaxis": {
            "gridcolor": "white",
            "linecolor": "white",
            "ticks": ""
           },
           "bgcolor": "#E5ECF6",
           "radialaxis": {
            "gridcolor": "white",
            "linecolor": "white",
            "ticks": ""
           }
          },
          "scene": {
           "xaxis": {
            "backgroundcolor": "#E5ECF6",
            "gridcolor": "white",
            "gridwidth": 2,
            "linecolor": "white",
            "showbackground": true,
            "ticks": "",
            "zerolinecolor": "white"
           },
           "yaxis": {
            "backgroundcolor": "#E5ECF6",
            "gridcolor": "white",
            "gridwidth": 2,
            "linecolor": "white",
            "showbackground": true,
            "ticks": "",
            "zerolinecolor": "white"
           },
           "zaxis": {
            "backgroundcolor": "#E5ECF6",
            "gridcolor": "white",
            "gridwidth": 2,
            "linecolor": "white",
            "showbackground": true,
            "ticks": "",
            "zerolinecolor": "white"
           }
          },
          "shapedefaults": {
           "line": {
            "color": "#2a3f5f"
           }
          },
          "ternary": {
           "aaxis": {
            "gridcolor": "white",
            "linecolor": "white",
            "ticks": ""
           },
           "baxis": {
            "gridcolor": "white",
            "linecolor": "white",
            "ticks": ""
           },
           "bgcolor": "#E5ECF6",
           "caxis": {
            "gridcolor": "white",
            "linecolor": "white",
            "ticks": ""
           }
          },
          "title": {
           "x": 0.05
          },
          "xaxis": {
           "automargin": true,
           "gridcolor": "white",
           "linecolor": "white",
           "ticks": "",
           "title": {
            "standoff": 15
           },
           "zerolinecolor": "white",
           "zerolinewidth": 2
          },
          "yaxis": {
           "automargin": true,
           "gridcolor": "white",
           "linecolor": "white",
           "ticks": "",
           "title": {
            "standoff": 15
           },
           "zerolinecolor": "white",
           "zerolinewidth": 2
          }
         }
        },
        "width": 1100
       }
      },
      "image/png": "[encoded data removed]",
      "text/html": [
       "<div>                            <div id=\"3fc4825f-dc14-4449-97ee-c451b6c54ddc\" class=\"plotly-graph-div\" style=\"height:500px; width:1100px;\"></div>            <script type=\"text/javascript\">                require([\"plotly\"], function(Plotly) {                    window.PLOTLYENV=window.PLOTLYENV || {};                                    if (document.getElementById(\"3fc4825f-dc14-4449-97ee-c451b6c54ddc\")) {                    Plotly.newPlot(                        \"3fc4825f-dc14-4449-97ee-c451b6c54ddc\",                        [{\"branchvalues\":\"total\",\"customdata\":[[3831.4521292069003],[89363.2482670815],[757.0],[2813.6506308463236],[59581.4494143014],[819.933237975021],[77756.11050669462],[2065.0],[1404.1581429845837],[25897.236170362587],[885.4784667418264],[22962.006194523932],[217189.6712816192],[57.51],[322.59460616438355],[698.0],[56136.58954261327],[95075.3845684381],[15621.179883925013],[216690.77210381164],[287.0762126696035],[1655.9070278848333],[17367.7112881948],[231094.97782488054],[533.541537633997],[948.5729006459551],[1574.2250721923494],[101928.3809327421],[166.0],[483.0],[5114.733994123522],[196401.30231048877],[1225.2738029343607],[39861.20738974061],[109.58608202494372],[20011.370387752715],[6976.273458238772],[188258.37383343736],[115.154],[896.3250704225352],[148162.05272372952],[398.0],[141.1253341535661],[648508.683692636],[387397.70349584124],[43212.5323132087],[21470.704410618444],[35600.74764217525],[10560.940178834835],[140182.47500308722],[103.124],[392.06240487062405],[501.0],[16870.892783033083],[56889.054761847416],[2398.0633507834063],[58654.38078260476],[55.60350227193289],[4397.252664036103],[9823.56368919824],[134524.58478816674],[176.5066121913314],[256.0],[93.885],[3775.887311861499],[777.3919644715007],[7139.146242946243],[2815.241125251172],[2588.503788614727],[20645.108104005194],[18808.01698853193],[159248.22870191102],[86.79332816215747],[442.9067069294342],[577.5826397146254],[44973.45820244344],[282033.8350075136],[12965.714199248645],[212043.2724579199],[231.09680146418074],[28263.635713130072],[14744.922509701466],[177561.9811849905],[480.6778467187983],[880.6173453624174],[31491.938217210103],[203690.01954575232],[190237.2716416556]],\"domain\":{\"x\":[0.0,1.0],\"y\":[0.0,1.0]},\"hovertemplate\":\"labels=%{label}<br>sum_Flaeche_sum=%{value}<br>parent=%{parent}<br>id=%{id}<br>sum_Flaeche=%{color}<extra></extra>\",\"ids\":[\"Hand\\u00e4nderungsfl\\u00e4che nach Stockwerkeigentum, Hand\\u00e4nderungsart und Hand\\u00e4nderungsgrundst\\u00fccktyp 2021/Ja/Erbfolge/Einfamilienh\\u00e4user\",\"Hand\\u00e4nderungsfl\\u00e4che nach Stockwerkeigentum, Hand\\u00e4nderungsart und Hand\\u00e4nderungsgrundst\\u00fccktyp 2021/Nein/Erbfolge/Einfamilienh\\u00e4user\",\"Hand\\u00e4nderungsfl\\u00e4che nach Stockwerkeigentum, Hand\\u00e4nderungsart und Hand\\u00e4nderungsgrundst\\u00fccktyp 2021/Nein/Expropriation/Einfamilienh\\u00e4user\",\"Hand\\u00e4nderungsfl\\u00e4che nach Stockwerkeigentum, Hand\\u00e4nderungsart und Hand\\u00e4nderungsgrundst\\u00fccktyp 2021/Ja/Kauf/Einfamilienh\\u00e4user\",\"Hand\\u00e4nderungsfl\\u00e4che nach Stockwerkeigentum, Hand\\u00e4nderungsart und Hand\\u00e4nderungsgrundst\\u00fccktyp 2021/Nein/Kauf/Einfamilienh\\u00e4user\",\"Hand\\u00e4nderungsfl\\u00e4che nach Stockwerkeigentum, Hand\\u00e4nderungsart und Hand\\u00e4nderungsgrundst\\u00fccktyp 2021/Ja/Schenkung/Verm\\u00e4chtnis/Abtretung/Einfamilienh\\u00e4user\",\"Hand\\u00e4nderungsfl\\u00e4che nach Stockwerkeigentum, Hand\\u00e4nderungsart und Hand\\u00e4nderungsgrundst\\u00fccktyp 2021/Nein/Schenkung/Verm\\u00e4chtnis/Abtretung/Einfamilienh\\u00e4user\",\"Hand\\u00e4nderungsfl\\u00e4che nach Stockwerkeigentum, Hand\\u00e4nderungsart und Hand\\u00e4nderungsgrundst\\u00fccktyp 2021/Nein/Tausch/Einfamilienh\\u00e4user\",\"Hand\\u00e4nderungsfl\\u00e4che nach Stockwerkeigentum, Hand\\u00e4nderungsart und Hand\\u00e4nderungsgrundst\\u00fccktyp 2021/Ja/Uebrige/Einfamilienh\\u00e4user\",\"Hand\\u00e4nderungsfl\\u00e4che nach Stockwerkeigentum, Hand\\u00e4nderungsart und Hand\\u00e4nderungsgrundst\\u00fccktyp 2021/Nein/Uebrige/Einfamilienh\\u00e4user\",\"Hand\\u00e4nderungsfl\\u00e4che nach Stockwerkeigentum, Hand\\u00e4nderungsart und Hand\\u00e4nderungsgrundst\\u00fccktyp 2021/Nein/Zwangsverwertung/Einfamilienh\\u00e4user\",\"Hand\\u00e4nderungsfl\\u00e4che nach Stockwerkeigentum, Hand\\u00e4nderungsart und Hand\\u00e4nderungsgrundst\\u00fccktyp 2021/Ja/Erbfolge/Mehrfamilienh\\u00e4user\",\"Hand\\u00e4nderungsfl\\u00e4che nach Stockwerkeigentum, Hand\\u00e4nderungsart und Hand\\u00e4nderungsgrundst\\u00fccktyp 2021/Nein/Erbfolge/Mehrfamilienh\\u00e4user\",\"Hand\\u00e4nderungsfl\\u00e4che nach Stockwerkeigentum, Hand\\u00e4nderungsart und Hand\\u00e4nderungsgrundst\\u00fccktyp 2021/Ja/Expropriation/Mehrfamilienh\\u00e4user\",\"Hand\\u00e4nderungsfl\\u00e4che nach Stockwerkeigentum, Hand\\u00e4nderungsart und Hand\\u00e4nderungsgrundst\\u00fccktyp 2021/Nein/Expropriation/Mehrfamilienh\\u00e4user\",\"Hand\\u00e4nderungsfl\\u00e4che nach Stockwerkeigentum, Hand\\u00e4nderungsart und Hand\\u00e4nderungsgrundst\\u00fccktyp 2021/Nein/Freiwillige Steigerung/Mehrfamilienh\\u00e4user\",\"Hand\\u00e4nderungsfl\\u00e4che nach Stockwerkeigentum, Hand\\u00e4nderungsart und Hand\\u00e4nderungsgrundst\\u00fccktyp 2021/Ja/Kauf/Mehrfamilienh\\u00e4user\",\"Hand\\u00e4nderungsfl\\u00e4che nach Stockwerkeigentum, Hand\\u00e4nderungsart und Hand\\u00e4nderungsgrundst\\u00fccktyp 2021/Nein/Kauf/Mehrfamilienh\\u00e4user\",\"Hand\\u00e4nderungsfl\\u00e4che nach Stockwerkeigentum, Hand\\u00e4nderungsart und Hand\\u00e4nderungsgrundst\\u00fccktyp 2021/Ja/Schenkung/Verm\\u00e4chtnis/Abtretung/Mehrfamilienh\\u00e4user\",\"Hand\\u00e4nderungsfl\\u00e4che nach Stockwerkeigentum, Hand\\u00e4nderungsart und Hand\\u00e4nderungsgrundst\\u00fccktyp 2021/Nein/Schenkung/Verm\\u00e4chtnis/Abtretung/Mehrfamilienh\\u00e4user\",\"Hand\\u00e4nderungsfl\\u00e4che nach Stockwerkeigentum, Hand\\u00e4nderungsart und Hand\\u00e4nderungsgrundst\\u00fccktyp 2021/Ja/Tausch/Mehrfamilienh\\u00e4user\",\"Hand\\u00e4nderungsfl\\u00e4che nach Stockwerkeigentum, Hand\\u00e4nderungsart und Hand\\u00e4nderungsgrundst\\u00fccktyp 2021/Nein/Tausch/Mehrfamilienh\\u00e4user\",\"Hand\\u00e4nderungsfl\\u00e4che nach Stockwerkeigentum, Hand\\u00e4nderungsart und Hand\\u00e4nderungsgrundst\\u00fccktyp 2021/Ja/Uebrige/Mehrfamilienh\\u00e4user\",\"Hand\\u00e4nderungsfl\\u00e4che nach Stockwerkeigentum, Hand\\u00e4nderungsart und Hand\\u00e4nderungsgrundst\\u00fccktyp 2021/Nein/Uebrige/Mehrfamilienh\\u00e4user\",\"Hand\\u00e4nderungsfl\\u00e4che nach Stockwerkeigentum, Hand\\u00e4nderungsart und Hand\\u00e4nderungsgrundst\\u00fccktyp 2021/Ja/Zwangsverwertung/Mehrfamilienh\\u00e4user\",\"Hand\\u00e4nderungsfl\\u00e4che nach Stockwerkeigentum, Hand\\u00e4nderungsart und Hand\\u00e4nderungsgrundst\\u00fccktyp 2021/Nein/Zwangsverwertung/Mehrfamilienh\\u00e4user\",\"Hand\\u00e4nderungsfl\\u00e4che nach Stockwerkeigentum, Hand\\u00e4nderungsart und Hand\\u00e4nderungsgrundst\\u00fccktyp 2021/Ja/Erbfolge/Nutzbauten\",\"Hand\\u00e4nderungsfl\\u00e4che nach Stockwerkeigentum, Hand\\u00e4nderungsart und Hand\\u00e4nderungsgrundst\\u00fccktyp 2021/Nein/Erbfolge/Nutzbauten\",\"Hand\\u00e4nderungsfl\\u00e4che nach Stockwerkeigentum, Hand\\u00e4nderungsart und Hand\\u00e4nderungsgrundst\\u00fccktyp 2021/Nein/Expropriation/Nutzbauten\",\"Hand\\u00e4nderungsfl\\u00e4che nach Stockwerkeigentum, Hand\\u00e4nderungsart und Hand\\u00e4nderungsgrundst\\u00fccktyp 2021/Nein/Freiwillige Steigerung/Nutzbauten\",\"Hand\\u00e4nderungsfl\\u00e4che nach Stockwerkeigentum, Hand\\u00e4nderungsart und Hand\\u00e4nderungsgrundst\\u00fccktyp 2021/Ja/Kauf/Nutzbauten\",\"Hand\\u00e4nderungsfl\\u00e4che nach Stockwerkeigentum, Hand\\u00e4nderungsart und Hand\\u00e4nderungsgrundst\\u00fccktyp 2021/Nein/Kauf/Nutzbauten\",\"Hand\\u00e4nderungsfl\\u00e4che nach Stockwerkeigentum, Hand\\u00e4nderungsart und Hand\\u00e4nderungsgrundst\\u00fccktyp 2021/Ja/Schenkung/Verm\\u00e4chtnis/Abtretung/Nutzbauten\",\"Hand\\u00e4nderungsfl\\u00e4che nach Stockwerkeigentum, Hand\\u00e4nderungsart und Hand\\u00e4nderungsgrundst\\u00fccktyp 2021/Nein/Schenkung/Verm\\u00e4chtnis/Abtretung/Nutzbauten\",\"Hand\\u00e4nderungsfl\\u00e4che nach Stockwerkeigentum, Hand\\u00e4nderungsart und Hand\\u00e4nderungsgrundst\\u00fccktyp 2021/Ja/Tausch/Nutzbauten\",\"Hand\\u00e4nderungsfl\\u00e4che nach Stockwerkeigentum, Hand\\u00e4nderungsart und Hand\\u00e4nderungsgrundst\\u00fccktyp 2021/Nein/Tausch/Nutzbauten\",\"Hand\\u00e4nderungsfl\\u00e4che nach Stockwerkeigentum, Hand\\u00e4nderungsart und Hand\\u00e4nderungsgrundst\\u00fccktyp 2021/Ja/Uebrige/Nutzbauten\",\"Hand\\u00e4nderungsfl\\u00e4che nach Stockwerkeigentum, Hand\\u00e4nderungsart und Hand\\u00e4nderungsgrundst\\u00fccktyp 2021/Nein/Uebrige/Nutzbauten\",\"Hand\\u00e4nderungsfl\\u00e4che nach Stockwerkeigentum, Hand\\u00e4nderungsart und Hand\\u00e4nderungsgrundst\\u00fccktyp 2021/Ja/Zwangsverwertung/Nutzbauten\",\"Hand\\u00e4nderungsfl\\u00e4che nach Stockwerkeigentum, Hand\\u00e4nderungsart und Hand\\u00e4nderungsgrundst\\u00fccktyp 2021/Nein/Zwangsverwertung/Nutzbauten\",\"Hand\\u00e4nderungsfl\\u00e4che nach Stockwerkeigentum, Hand\\u00e4nderungsart und Hand\\u00e4nderungsgrundst\\u00fccktyp 2021/Nein/Erbfolge/Unbebaut\",\"Hand\\u00e4nderungsfl\\u00e4che nach Stockwerkeigentum, Hand\\u00e4nderungsart und Hand\\u00e4nderungsgrundst\\u00fccktyp 2021/Nein/Expropriation/Unbebaut\",\"Hand\\u00e4nderungsfl\\u00e4che nach Stockwerkeigentum, Hand\\u00e4nderungsart und Hand\\u00e4nderungsgrundst\\u00fccktyp 2021/Ja/Kauf/Unbebaut\",\"Hand\\u00e4nderungsfl\\u00e4che nach Stockwerkeigentum, Hand\\u00e4nderungsart und Hand\\u00e4nderungsgrundst\\u00fccktyp 2021/Nein/Kauf/Unbebaut\",\"Hand\\u00e4nderungsfl\\u00e4che nach Stockwerkeigentum, Hand\\u00e4nderungsart und Hand\\u00e4nderungsgrundst\\u00fccktyp 2021/Nein/Schenkung/Verm\\u00e4chtnis/Abtretung/Unbebaut\",\"Hand\\u00e4nderungsfl\\u00e4che nach Stockwerkeigentum, Hand\\u00e4nderungsart und Hand\\u00e4nderungsgrundst\\u00fccktyp 2021/Nein/Tausch/Unbebaut\",\"Hand\\u00e4nderungsfl\\u00e4che nach Stockwerkeigentum, Hand\\u00e4nderungsart und Hand\\u00e4nderungsgrundst\\u00fccktyp 2021/Ja/Uebrige/Unbebaut\",\"Hand\\u00e4nderungsfl\\u00e4che nach Stockwerkeigentum, Hand\\u00e4nderungsart und Hand\\u00e4nderungsgrundst\\u00fccktyp 2021/Nein/Uebrige/Unbebaut\",\"Hand\\u00e4nderungsfl\\u00e4che nach Stockwerkeigentum, Hand\\u00e4nderungsart und Hand\\u00e4nderungsgrundst\\u00fccktyp 2021/Ja/Erbfolge/Wohnh\\u00e4user mit Gesch\\u00e4ftsr\\u00e4umen\",\"Hand\\u00e4nderungsfl\\u00e4che nach Stockwerkeigentum, Hand\\u00e4nderungsart und Hand\\u00e4nderungsgrundst\\u00fccktyp 2021/Nein/Erbfolge/Wohnh\\u00e4user mit Gesch\\u00e4ftsr\\u00e4umen\",\"Hand\\u00e4nderungsfl\\u00e4che nach Stockwerkeigentum, Hand\\u00e4nderungsart und Hand\\u00e4nderungsgrundst\\u00fccktyp 2021/Ja/Expropriation/Wohnh\\u00e4user mit Gesch\\u00e4ftsr\\u00e4umen\",\"Hand\\u00e4nderungsfl\\u00e4che nach Stockwerkeigentum, Hand\\u00e4nderungsart und Hand\\u00e4nderungsgrundst\\u00fccktyp 2021/Nein/Expropriation/Wohnh\\u00e4user mit Gesch\\u00e4ftsr\\u00e4umen\",\"Hand\\u00e4nderungsfl\\u00e4che nach Stockwerkeigentum, Hand\\u00e4nderungsart und Hand\\u00e4nderungsgrundst\\u00fccktyp 2021/Nein/Freiwillige Steigerung/Wohnh\\u00e4user mit Gesch\\u00e4ftsr\\u00e4umen\",\"Hand\\u00e4nderungsfl\\u00e4che nach Stockwerkeigentum, Hand\\u00e4nderungsart und Hand\\u00e4nderungsgrundst\\u00fccktyp 2021/Ja/Kauf/Wohnh\\u00e4user mit Gesch\\u00e4ftsr\\u00e4umen\",\"Hand\\u00e4nderungsfl\\u00e4che nach Stockwerkeigentum, Hand\\u00e4nderungsart und Hand\\u00e4nderungsgrundst\\u00fccktyp 2021/Nein/Kauf/Wohnh\\u00e4user mit Gesch\\u00e4ftsr\\u00e4umen\",\"Hand\\u00e4nderungsfl\\u00e4che nach Stockwerkeigentum, Hand\\u00e4nderungsart und Hand\\u00e4nderungsgrundst\\u00fccktyp 2021/Ja/Schenkung/Verm\\u00e4chtnis/Abtretung/Wohnh\\u00e4user mit Gesch\\u00e4ftsr\\u00e4umen\",\"Hand\\u00e4nderungsfl\\u00e4che nach Stockwerkeigentum, Hand\\u00e4nderungsart und Hand\\u00e4nderungsgrundst\\u00fccktyp 2021/Nein/Schenkung/Verm\\u00e4chtnis/Abtretung/Wohnh\\u00e4user mit Gesch\\u00e4ftsr\\u00e4umen\",\"Hand\\u00e4nderungsfl\\u00e4che nach Stockwerkeigentum, Hand\\u00e4nderungsart und Hand\\u00e4nderungsgrundst\\u00fccktyp 2021/Ja/Tausch/Wohnh\\u00e4user mit Gesch\\u00e4ftsr\\u00e4umen\",\"Hand\\u00e4nderungsfl\\u00e4che nach Stockwerkeigentum, Hand\\u00e4nderungsart und Hand\\u00e4nderungsgrundst\\u00fccktyp 2021/Nein/Tausch/Wohnh\\u00e4user mit Gesch\\u00e4ftsr\\u00e4umen\",\"Hand\\u00e4nderungsfl\\u00e4che nach Stockwerkeigentum, Hand\\u00e4nderungsart und Hand\\u00e4nderungsgrundst\\u00fccktyp 2021/Ja/Uebrige/Wohnh\\u00e4user mit Gesch\\u00e4ftsr\\u00e4umen\",\"Hand\\u00e4nderungsfl\\u00e4che nach Stockwerkeigentum, Hand\\u00e4nderungsart und Hand\\u00e4nderungsgrundst\\u00fccktyp 2021/Nein/Uebrige/Wohnh\\u00e4user mit Gesch\\u00e4ftsr\\u00e4umen\",\"Hand\\u00e4nderungsfl\\u00e4che nach Stockwerkeigentum, Hand\\u00e4nderungsart und Hand\\u00e4nderungsgrundst\\u00fccktyp 2021/Ja/Zwangsverwertung/Wohnh\\u00e4user mit Gesch\\u00e4ftsr\\u00e4umen\",\"Hand\\u00e4nderungsfl\\u00e4che nach Stockwerkeigentum, Hand\\u00e4nderungsart und Hand\\u00e4nderungsgrundst\\u00fccktyp 2021/Nein/Zwangsverwertung/Wohnh\\u00e4user mit Gesch\\u00e4ftsr\\u00e4umen\",\"Hand\\u00e4nderungsfl\\u00e4che nach Stockwerkeigentum, Hand\\u00e4nderungsart und Hand\\u00e4nderungsgrundst\\u00fccktyp 2021/Ja/Erbfolge/\\u00fcbrige Wohnh\\u00e4user\",\"Hand\\u00e4nderungsfl\\u00e4che nach Stockwerkeigentum, Hand\\u00e4nderungsart und Hand\\u00e4nderungsgrundst\\u00fccktyp 2021/Nein/Erbfolge/\\u00fcbrige Wohnh\\u00e4user\",\"Hand\\u00e4nderungsfl\\u00e4che nach Stockwerkeigentum, Hand\\u00e4nderungsart und Hand\\u00e4nderungsgrundst\\u00fccktyp 2021/Ja/Kauf/\\u00fcbrige Wohnh\\u00e4user\",\"Hand\\u00e4nderungsfl\\u00e4che nach Stockwerkeigentum, Hand\\u00e4nderungsart und Hand\\u00e4nderungsgrundst\\u00fccktyp 2021/Nein/Kauf/\\u00fcbrige Wohnh\\u00e4user\",\"Hand\\u00e4nderungsfl\\u00e4che nach Stockwerkeigentum, Hand\\u00e4nderungsart und Hand\\u00e4nderungsgrundst\\u00fccktyp 2021/Nein/Schenkung/Verm\\u00e4chtnis/Abtretung/\\u00fcbrige Wohnh\\u00e4user\",\"Hand\\u00e4nderungsfl\\u00e4che nach Stockwerkeigentum, Hand\\u00e4nderungsart und Hand\\u00e4nderungsgrundst\\u00fccktyp 2021/Nein/Tausch/\\u00fcbrige Wohnh\\u00e4user\",\"Hand\\u00e4nderungsfl\\u00e4che nach Stockwerkeigentum, Hand\\u00e4nderungsart und Hand\\u00e4nderungsgrundst\\u00fccktyp 2021/Nein/Uebrige/\\u00fcbrige Wohnh\\u00e4user\",\"Hand\\u00e4nderungsfl\\u00e4che nach Stockwerkeigentum, Hand\\u00e4nderungsart und Hand\\u00e4nderungsgrundst\\u00fccktyp 2021/Ja/Erbfolge\",\"Hand\\u00e4nderungsfl\\u00e4che nach Stockwerkeigentum, Hand\\u00e4nderungsart und Hand\\u00e4nderungsgrundst\\u00fccktyp 2021/Nein/Erbfolge\",\"Hand\\u00e4nderungsfl\\u00e4che nach Stockwerkeigentum, Hand\\u00e4nderungsart und Hand\\u00e4nderungsgrundst\\u00fccktyp 2021/Ja/Expropriation\",\"Hand\\u00e4nderungsfl\\u00e4che nach Stockwerkeigentum, Hand\\u00e4nderungsart und Hand\\u00e4nderungsgrundst\\u00fccktyp 2021/Nein/Expropriation\",\"Hand\\u00e4nderungsfl\\u00e4che nach Stockwerkeigentum, Hand\\u00e4nderungsart und Hand\\u00e4nderungsgrundst\\u00fccktyp 2021/Nein/Freiwillige Steigerung\",\"Hand\\u00e4nderungsfl\\u00e4che nach Stockwerkeigentum, Hand\\u00e4nderungsart und Hand\\u00e4nderungsgrundst\\u00fccktyp 2021/Ja/Kauf\",\"Hand\\u00e4nderungsfl\\u00e4che nach Stockwerkeigentum, Hand\\u00e4nderungsart und Hand\\u00e4nderungsgrundst\\u00fccktyp 2021/Nein/Kauf\",\"Hand\\u00e4nderungsfl\\u00e4che nach Stockwerkeigentum, Hand\\u00e4nderungsart und Hand\\u00e4nderungsgrundst\\u00fccktyp 2021/Ja/Schenkung/Verm\\u00e4chtnis/Abtretung\",\"Hand\\u00e4nderungsfl\\u00e4che nach Stockwerkeigentum, Hand\\u00e4nderungsart und Hand\\u00e4nderungsgrundst\\u00fccktyp 2021/Nein/Schenkung/Verm\\u00e4chtnis/Abtretung\",\"Hand\\u00e4nderungsfl\\u00e4che nach Stockwerkeigentum, Hand\\u00e4nderungsart und Hand\\u00e4nderungsgrundst\\u00fccktyp 2021/Ja/Tausch\",\"Hand\\u00e4nderungsfl\\u00e4che nach Stockwerkeigentum, Hand\\u00e4nderungsart und Hand\\u00e4nderungsgrundst\\u00fccktyp 2021/Nein/Tausch\",\"Hand\\u00e4nderungsfl\\u00e4che nach Stockwerkeigentum, Hand\\u00e4nderungsart und Hand\\u00e4nderungsgrundst\\u00fccktyp 2021/Ja/Uebrige\",\"Hand\\u00e4nderungsfl\\u00e4che nach Stockwerkeigentum, Hand\\u00e4nderungsart und Hand\\u00e4nderungsgrundst\\u00fccktyp 2021/Nein/Uebrige\",\"Hand\\u00e4nderungsfl\\u00e4che nach Stockwerkeigentum, Hand\\u00e4nderungsart und Hand\\u00e4nderungsgrundst\\u00fccktyp 2021/Ja/Zwangsverwertung\",\"Hand\\u00e4nderungsfl\\u00e4che nach Stockwerkeigentum, Hand\\u00e4nderungsart und Hand\\u00e4nderungsgrundst\\u00fccktyp 2021/Nein/Zwangsverwertung\",\"Hand\\u00e4nderungsfl\\u00e4che nach Stockwerkeigentum, Hand\\u00e4nderungsart und Hand\\u00e4nderungsgrundst\\u00fccktyp 2021/Ja\",\"Hand\\u00e4nderungsfl\\u00e4che nach Stockwerkeigentum, Hand\\u00e4nderungsart und Hand\\u00e4nderungsgrundst\\u00fccktyp 2021/Nein\",\"Hand\\u00e4nderungsfl\\u00e4che nach Stockwerkeigentum, Hand\\u00e4nderungsart und Hand\\u00e4nderungsgrundst\\u00fccktyp 2021\"],\"labels\":[\"Einfamilienh\\u00e4user\",\"Einfamilienh\\u00e4user\",\"Einfamilienh\\u00e4user\",\"Einfamilienh\\u00e4user\",\"Einfamilienh\\u00e4user\",\"Einfamilienh\\u00e4user\",\"Einfamilienh\\u00e4user\",\"Einfamilienh\\u00e4user\",\"Einfamilienh\\u00e4user\",\"Einfamilienh\\u00e4user\",\"Einfamilienh\\u00e4user\",\"Mehrfamilienh\\u00e4user\",\"Mehrfamilienh\\u00e4user\",\"Mehrfamilienh\\u00e4user\",\"Mehrfamilienh\\u00e4user\",\"Mehrfamilienh\\u00e4user\",\"Mehrfamilienh\\u00e4user\",\"Mehrfamilienh\\u00e4user\",\"Mehrfamilienh\\u00e4user\",\"Mehrfamilienh\\u00e4user\",\"Mehrfamilienh\\u00e4user\",\"Mehrfamilienh\\u00e4user\",\"Mehrfamilienh\\u00e4user\",\"Mehrfamilienh\\u00e4user\",\"Mehrfamilienh\\u00e4user\",\"Mehrfamilienh\\u00e4user\",\"Nutzbauten\",\"Nutzbauten\",\"Nutzbauten\",\"Nutzbauten\",\"Nutzbauten\",\"Nutzbauten\",\"Nutzbauten\",\"Nutzbauten\",\"Nutzbauten\",\"Nutzbauten\",\"Nutzbauten\",\"Nutzbauten\",\"Nutzbauten\",\"Nutzbauten\",\"Unbebaut\",\"Unbebaut\",\"Unbebaut\",\"Unbebaut\",\"Unbebaut\",\"Unbebaut\",\"Unbebaut\",\"Unbebaut\",\"Wohnh\\u00e4user mit Gesch\\u00e4ftsr\\u00e4umen\",\"Wohnh\\u00e4user mit Gesch\\u00e4ftsr\\u00e4umen\",\"Wohnh\\u00e4user mit Gesch\\u00e4ftsr\\u00e4umen\",\"Wohnh\\u00e4user mit Gesch\\u00e4ftsr\\u00e4umen\",\"Wohnh\\u00e4user mit Gesch\\u00e4ftsr\\u00e4umen\",\"Wohnh\\u00e4user mit Gesch\\u00e4ftsr\\u00e4umen\",\"Wohnh\\u00e4user mit Gesch\\u00e4ftsr\\u00e4umen\",\"Wohnh\\u00e4user mit Gesch\\u00e4ftsr\\u00e4umen\",\"Wohnh\\u00e4user mit Gesch\\u00e4ftsr\\u00e4umen\",\"Wohnh\\u00e4user mit Gesch\\u00e4ftsr\\u00e4umen\",\"Wohnh\\u00e4user mit Gesch\\u00e4ftsr\\u00e4umen\",\"Wohnh\\u00e4user mit Gesch\\u00e4ftsr\\u00e4umen\",\"Wohnh\\u00e4user mit Gesch\\u00e4ftsr\\u00e4umen\",\"Wohnh\\u00e4user mit Gesch\\u00e4ftsr\\u00e4umen\",\"Wohnh\\u00e4user mit Gesch\\u00e4ftsr\\u00e4umen\",\"\\u00fcbrige Wohnh\\u00e4user\",\"\\u00fcbrige Wohnh\\u00e4user\",\"\\u00fcbrige Wohnh\\u00e4user\",\"\\u00fcbrige Wohnh\\u00e4user\",\"\\u00fcbrige Wohnh\\u00e4user\",\"\\u00fcbrige Wohnh\\u00e4user\",\"\\u00fcbrige Wohnh\\u00e4user\",\"Erbfolge\",\"Erbfolge\",\"Expropriation\",\"Expropriation\",\"Freiwillige Steigerung\",\"Kauf\",\"Kauf\",\"Schenkung/Verm\\u00e4chtnis/Abtretung\",\"Schenkung/Verm\\u00e4chtnis/Abtretung\",\"Tausch\",\"Tausch\",\"Uebrige\",\"Uebrige\",\"Zwangsverwertung\",\"Zwangsverwertung\",\"Ja\",\"Nein\",\"Hand\\u00e4nderungsfl\\u00e4che nach Stockwerkeigentum, Hand\\u00e4nderungsart und Hand\\u00e4nderungsgrundst\\u00fccktyp 2021\"],\"marker\":{\"coloraxis\":\"coloraxis\",\"colors\":[3831.4521292069003,89363.2482670815,757.0,2813.6506308463236,59581.4494143014,819.933237975021,77756.11050669462,2065.0,1404.1581429845837,25897.236170362587,885.4784667418264,22962.006194523932,217189.6712816192,57.51,322.59460616438355,698.0,56136.58954261327,95075.3845684381,15621.179883925013,216690.77210381164,287.0762126696035,1655.9070278848333,17367.7112881948,231094.97782488054,533.541537633997,948.5729006459551,1574.2250721923494,101928.3809327421,166.0,483.0,5114.733994123522,196401.30231048877,1225.2738029343607,39861.20738974061,109.58608202494372,20011.370387752715,6976.273458238772,188258.37383343736,115.154,896.3250704225352,148162.05272372952,398.0,141.1253341535661,648508.683692636,387397.70349584124,43212.5323132087,21470.704410618444,35600.74764217525,10560.940178834835,140182.47500308722,103.124,392.06240487062405,501.0,16870.892783033083,56889.054761847416,2398.0633507834063,58654.38078260476,55.60350227193289,4397.252664036103,9823.56368919824,134524.58478816674,176.5066121913314,256.0,93.885,3775.887311861499,777.3919644715007,7139.146242946243,2815.241125251172,2588.503788614727,20645.108104005194,18808.01698853193,159248.22870191102,86.79332816215747,442.9067069294342,577.5826397146254,44973.45820244344,282033.8350075136,12965.714199248645,212043.2724579199,231.09680146418074,28263.635713130072,14744.922509701466,177561.9811849905,480.6778467187983,880.6173453624174,31491.938217210103,203690.01954575232,190237.2716416556]},\"name\":\"\",\"parents\":[\"Hand\\u00e4nderungsfl\\u00e4che nach Stockwerkeigentum, Hand\\u00e4nderungsart und Hand\\u00e4nderungsgrundst\\u00fccktyp 2021/Ja/Erbfolge\",\"Hand\\u00e4nderungsfl\\u00e4che nach Stockwerkeigentum, Hand\\u00e4nderungsart und Hand\\u00e4nderungsgrundst\\u00fccktyp 2021/Nein/Erbfolge\",\"Hand\\u00e4nderungsfl\\u00e4che nach Stockwerkeigentum, Hand\\u00e4nderungsart und Hand\\u00e4nderungsgrundst\\u00fccktyp 2021/Nein/Expropriation\",\"Hand\\u00e4nderungsfl\\u00e4che nach Stockwerkeigentum, Hand\\u00e4nderungsart und Hand\\u00e4nderungsgrundst\\u00fccktyp 2021/Ja/Kauf\",\"Hand\\u00e4nderungsfl\\u00e4che nach Stockwerkeigentum, Hand\\u00e4nderungsart und Hand\\u00e4nderungsgrundst\\u00fccktyp 2021/Nein/Kauf\",\"Hand\\u00e4nderungsfl\\u00e4che nach Stockwerkeigentum, Hand\\u00e4nderungsart und Hand\\u00e4nderungsgrundst\\u00fccktyp 2021/Ja/Schenkung/Verm\\u00e4chtnis/Abtretung\",\"Hand\\u00e4nderungsfl\\u00e4che nach Stockwerkeigentum, Hand\\u00e4nderungsart und Hand\\u00e4nderungsgrundst\\u00fccktyp 2021/Nein/Schenkung/Verm\\u00e4chtnis/Abtretung\",\"Hand\\u00e4nderungsfl\\u00e4che nach Stockwerkeigentum, Hand\\u00e4nderungsart und Hand\\u00e4nderungsgrundst\\u00fccktyp 2021/Nein/Tausch\",\"Hand\\u00e4nderungsfl\\u00e4che nach Stockwerkeigentum, Hand\\u00e4nderungsart und Hand\\u00e4nderungsgrundst\\u00fccktyp 2021/Ja/Uebrige\",\"Hand\\u00e4nderungsfl\\u00e4che nach Stockwerkeigentum, Hand\\u00e4nderungsart und Hand\\u00e4nderungsgrundst\\u00fccktyp 2021/Nein/Uebrige\",\"Hand\\u00e4nderungsfl\\u00e4che nach Stockwerkeigentum, Hand\\u00e4nderungsart und Hand\\u00e4nderungsgrundst\\u00fccktyp 2021/Nein/Zwangsverwertung\",\"Hand\\u00e4nderungsfl\\u00e4che nach Stockwerkeigentum, Hand\\u00e4nderungsart und Hand\\u00e4nderungsgrundst\\u00fccktyp 2021/Ja/Erbfolge\",\"Hand\\u00e4nderungsfl\\u00e4che nach Stockwerkeigentum, Hand\\u00e4nderungsart und Hand\\u00e4nderungsgrundst\\u00fccktyp 2021/Nein/Erbfolge\",\"Hand\\u00e4nderungsfl\\u00e4che nach Stockwerkeigentum, Hand\\u00e4nderungsart und Hand\\u00e4nderungsgrundst\\u00fccktyp 2021/Ja/Expropriation\",\"Hand\\u00e4nderungsfl\\u00e4che nach Stockwerkeigentum, Hand\\u00e4nderungsart und Hand\\u00e4nderungsgrundst\\u00fccktyp 2021/Nein/Expropriation\",\"Hand\\u00e4nderungsfl\\u00e4che nach Stockwerkeigentum, Hand\\u00e4nderungsart und Hand\\u00e4nderungsgrundst\\u00fccktyp 2021/Nein/Freiwillige Steigerung\",\"Hand\\u00e4nderungsfl\\u00e4che nach Stockwerkeigentum, Hand\\u00e4nderungsart und Hand\\u00e4nderungsgrundst\\u00fccktyp 2021/Ja/Kauf\",\"Hand\\u00e4nderungsfl\\u00e4che nach Stockwerkeigentum, Hand\\u00e4nderungsart und Hand\\u00e4nderungsgrundst\\u00fccktyp 2021/Nein/Kauf\",\"Hand\\u00e4nderungsfl\\u00e4che nach Stockwerkeigentum, Hand\\u00e4nderungsart und Hand\\u00e4nderungsgrundst\\u00fccktyp 2021/Ja/Schenkung/Verm\\u00e4chtnis/Abtretung\",\"Hand\\u00e4nderungsfl\\u00e4che nach Stockwerkeigentum, Hand\\u00e4nderungsart und Hand\\u00e4nderungsgrundst\\u00fccktyp 2021/Nein/Schenkung/Verm\\u00e4chtnis/Abtretung\",\"Hand\\u00e4nderungsfl\\u00e4che nach Stockwerkeigentum, Hand\\u00e4nderungsart und Hand\\u00e4nderungsgrundst\\u00fccktyp 2021/Ja/Tausch\",\"Hand\\u00e4nderungsfl\\u00e4che nach Stockwerkeigentum, Hand\\u00e4nderungsart und Hand\\u00e4nderungsgrundst\\u00fccktyp 2021/Nein/Tausch\",\"Hand\\u00e4nderungsfl\\u00e4che nach Stockwerkeigentum, Hand\\u00e4nderungsart und Hand\\u00e4nderungsgrundst\\u00fccktyp 2021/Ja/Uebrige\",\"Hand\\u00e4nderungsfl\\u00e4che nach Stockwerkeigentum, Hand\\u00e4nderungsart und Hand\\u00e4nderungsgrundst\\u00fccktyp 2021/Nein/Uebrige\",\"Hand\\u00e4nderungsfl\\u00e4che nach Stockwerkeigentum, Hand\\u00e4nderungsart und Hand\\u00e4nderungsgrundst\\u00fccktyp 2021/Ja/Zwangsverwertung\",\"Hand\\u00e4nderungsfl\\u00e4che nach Stockwerkeigentum, Hand\\u00e4nderungsart und Hand\\u00e4nderungsgrundst\\u00fccktyp 2021/Nein/Zwangsverwertung\",\"Hand\\u00e4nderungsfl\\u00e4che nach Stockwerkeigentum, Hand\\u00e4nderungsart und Hand\\u00e4nderungsgrundst\\u00fccktyp 2021/Ja/Erbfolge\",\"Hand\\u00e4nderungsfl\\u00e4che nach Stockwerkeigentum, Hand\\u00e4nderungsart und Hand\\u00e4nderungsgrundst\\u00fccktyp 2021/Nein/Erbfolge\",\"Hand\\u00e4nderungsfl\\u00e4che nach Stockwerkeigentum, Hand\\u00e4nderungsart und Hand\\u00e4nderungsgrundst\\u00fccktyp 2021/Nein/Expropriation\",\"Hand\\u00e4nderungsfl\\u00e4che nach Stockwerkeigentum, Hand\\u00e4nderungsart und Hand\\u00e4nderungsgrundst\\u00fccktyp 2021/Nein/Freiwillige Steigerung\",\"Hand\\u00e4nderungsfl\\u00e4che nach Stockwerkeigentum, Hand\\u00e4nderungsart und Hand\\u00e4nderungsgrundst\\u00fccktyp 2021/Ja/Kauf\",\"Hand\\u00e4nderungsfl\\u00e4che nach Stockwerkeigentum, Hand\\u00e4nderungsart und Hand\\u00e4nderungsgrundst\\u00fccktyp 2021/Nein/Kauf\",\"Hand\\u00e4nderungsfl\\u00e4che nach Stockwerkeigentum, Hand\\u00e4nderungsart und Hand\\u00e4nderungsgrundst\\u00fccktyp 2021/Ja/Schenkung/Verm\\u00e4chtnis/Abtretung\",\"Hand\\u00e4nderungsfl\\u00e4che nach Stockwerkeigentum, Hand\\u00e4nderungsart und Hand\\u00e4nderungsgrundst\\u00fccktyp 2021/Nein/Schenkung/Verm\\u00e4chtnis/Abtretung\",\"Hand\\u00e4nderungsfl\\u00e4che nach Stockwerkeigentum, Hand\\u00e4nderungsart und Hand\\u00e4nderungsgrundst\\u00fccktyp 2021/Ja/Tausch\",\"Hand\\u00e4nderungsfl\\u00e4che nach Stockwerkeigentum, Hand\\u00e4nderungsart und Hand\\u00e4nderungsgrundst\\u00fccktyp 2021/Nein/Tausch\",\"Hand\\u00e4nderungsfl\\u00e4che nach Stockwerkeigentum, Hand\\u00e4nderungsart und Hand\\u00e4nderungsgrundst\\u00fccktyp 2021/Ja/Uebrige\",\"Hand\\u00e4nderungsfl\\u00e4che nach Stockwerkeigentum, Hand\\u00e4nderungsart und Hand\\u00e4nderungsgrundst\\u00fccktyp 2021/Nein/Uebrige\",\"Hand\\u00e4nderungsfl\\u00e4che nach Stockwerkeigentum, Hand\\u00e4nderungsart und Hand\\u00e4nderungsgrundst\\u00fccktyp 2021/Ja/Zwangsverwertung\",\"Hand\\u00e4nderungsfl\\u00e4che nach Stockwerkeigentum, Hand\\u00e4nderungsart und Hand\\u00e4nderungsgrundst\\u00fccktyp 2021/Nein/Zwangsverwertung\",\"Hand\\u00e4nderungsfl\\u00e4che nach Stockwerkeigentum, Hand\\u00e4nderungsart und Hand\\u00e4nderungsgrundst\\u00fccktyp 2021/Nein/Erbfolge\",\"Hand\\u00e4nderungsfl\\u00e4che nach Stockwerkeigentum, Hand\\u00e4nderungsart und Hand\\u00e4nderungsgrundst\\u00fccktyp 2021/Nein/Expropriation\",\"Hand\\u00e4nderungsfl\\u00e4che nach Stockwerkeigentum, Hand\\u00e4nderungsart und Hand\\u00e4nderungsgrundst\\u00fccktyp 2021/Ja/Kauf\",\"Hand\\u00e4nderungsfl\\u00e4che nach Stockwerkeigentum, Hand\\u00e4nderungsart und Hand\\u00e4nderungsgrundst\\u00fccktyp 2021/Nein/Kauf\",\"Hand\\u00e4nderungsfl\\u00e4che nach Stockwerkeigentum, Hand\\u00e4nderungsart und Hand\\u00e4nderungsgrundst\\u00fccktyp 2021/Nein/Schenkung/Verm\\u00e4chtnis/Abtretung\",\"Hand\\u00e4nderungsfl\\u00e4che nach Stockwerkeigentum, Hand\\u00e4nderungsart und Hand\\u00e4nderungsgrundst\\u00fccktyp 2021/Nein/Tausch\",\"Hand\\u00e4nderungsfl\\u00e4che nach Stockwerkeigentum, Hand\\u00e4nderungsart und Hand\\u00e4nderungsgrundst\\u00fccktyp 2021/Ja/Uebrige\",\"Hand\\u00e4nderungsfl\\u00e4che nach Stockwerkeigentum, Hand\\u00e4nderungsart und Hand\\u00e4nderungsgrundst\\u00fccktyp 2021/Nein/Uebrige\",\"Hand\\u00e4nderungsfl\\u00e4che nach Stockwerkeigentum, Hand\\u00e4nderungsart und Hand\\u00e4nderungsgrundst\\u00fccktyp 2021/Ja/Erbfolge\",\"Hand\\u00e4nderungsfl\\u00e4che nach Stockwerkeigentum, Hand\\u00e4nderungsart und Hand\\u00e4nderungsgrundst\\u00fccktyp 2021/Nein/Erbfolge\",\"Hand\\u00e4nderungsfl\\u00e4che nach Stockwerkeigentum, Hand\\u00e4nderungsart und Hand\\u00e4nderungsgrundst\\u00fccktyp 2021/Ja/Expropriation\",\"Hand\\u00e4nderungsfl\\u00e4che nach Stockwerkeigentum, Hand\\u00e4nderungsart und Hand\\u00e4nderungsgrundst\\u00fccktyp 2021/Nein/Expropriation\",\"Hand\\u00e4nderungsfl\\u00e4che nach Stockwerkeigentum, Hand\\u00e4nderungsart und Hand\\u00e4nderungsgrundst\\u00fccktyp 2021/Nein/Freiwillige Steigerung\",\"Hand\\u00e4nderungsfl\\u00e4che nach Stockwerkeigentum, Hand\\u00e4nderungsart und Hand\\u00e4nderungsgrundst\\u00fccktyp 2021/Ja/Kauf\",\"Hand\\u00e4nderungsfl\\u00e4che nach Stockwerkeigentum, Hand\\u00e4nderungsart und Hand\\u00e4nderungsgrundst\\u00fccktyp 2021/Nein/Kauf\",\"Hand\\u00e4nderungsfl\\u00e4che nach Stockwerkeigentum, Hand\\u00e4nderungsart und Hand\\u00e4nderungsgrundst\\u00fccktyp 2021/Ja/Schenkung/Verm\\u00e4chtnis/Abtretung\",\"Hand\\u00e4nderungsfl\\u00e4che nach Stockwerkeigentum, Hand\\u00e4nderungsart und Hand\\u00e4nderungsgrundst\\u00fccktyp 2021/Nein/Schenkung/Verm\\u00e4chtnis/Abtretung\",\"Hand\\u00e4nderungsfl\\u00e4che nach Stockwerkeigentum, Hand\\u00e4nderungsart und Hand\\u00e4nderungsgrundst\\u00fccktyp 2021/Ja/Tausch\",\"Hand\\u00e4nderungsfl\\u00e4che nach Stockwerkeigentum, Hand\\u00e4nderungsart und Hand\\u00e4nderungsgrundst\\u00fccktyp 2021/Nein/Tausch\",\"Hand\\u00e4nderungsfl\\u00e4che nach Stockwerkeigentum, Hand\\u00e4nderungsart und Hand\\u00e4nderungsgrundst\\u00fccktyp 2021/Ja/Uebrige\",\"Hand\\u00e4nderungsfl\\u00e4che nach Stockwerkeigentum, Hand\\u00e4nderungsart und Hand\\u00e4nderungsgrundst\\u00fccktyp 2021/Nein/Uebrige\",\"Hand\\u00e4nderungsfl\\u00e4che nach Stockwerkeigentum, Hand\\u00e4nderungsart und Hand\\u00e4nderungsgrundst\\u00fccktyp 2021/Ja/Zwangsverwertung\",\"Hand\\u00e4nderungsfl\\u00e4che nach Stockwerkeigentum, Hand\\u00e4nderungsart und Hand\\u00e4nderungsgrundst\\u00fccktyp 2021/Nein/Zwangsverwertung\",\"Hand\\u00e4nderungsfl\\u00e4che nach Stockwerkeigentum, Hand\\u00e4nderungsart und Hand\\u00e4nderungsgrundst\\u00fccktyp 2021/Ja/Erbfolge\",\"Hand\\u00e4nderungsfl\\u00e4che nach Stockwerkeigentum, Hand\\u00e4nderungsart und Hand\\u00e4nderungsgrundst\\u00fccktyp 2021/Nein/Erbfolge\",\"Hand\\u00e4nderungsfl\\u00e4che nach Stockwerkeigentum, Hand\\u00e4nderungsart und Hand\\u00e4nderungsgrundst\\u00fccktyp 2021/Ja/Kauf\",\"Hand\\u00e4nderungsfl\\u00e4che nach Stockwerkeigentum, Hand\\u00e4nderungsart und Hand\\u00e4nderungsgrundst\\u00fccktyp 2021/Nein/Kauf\",\"Hand\\u00e4nderungsfl\\u00e4che nach Stockwerkeigentum, Hand\\u00e4nderungsart und Hand\\u00e4nderungsgrundst\\u00fccktyp 2021/Nein/Schenkung/Verm\\u00e4chtnis/Abtretung\",\"Hand\\u00e4nderungsfl\\u00e4che nach Stockwerkeigentum, Hand\\u00e4nderungsart und Hand\\u00e4nderungsgrundst\\u00fccktyp 2021/Nein/Tausch\",\"Hand\\u00e4nderungsfl\\u00e4che nach Stockwerkeigentum, Hand\\u00e4nderungsart und Hand\\u00e4nderungsgrundst\\u00fccktyp 2021/Nein/Uebrige\",\"Hand\\u00e4nderungsfl\\u00e4che nach Stockwerkeigentum, Hand\\u00e4nderungsart und Hand\\u00e4nderungsgrundst\\u00fccktyp 2021/Ja\",\"Hand\\u00e4nderungsfl\\u00e4che nach Stockwerkeigentum, Hand\\u00e4nderungsart und Hand\\u00e4nderungsgrundst\\u00fccktyp 2021/Nein\",\"Hand\\u00e4nderungsfl\\u00e4che nach Stockwerkeigentum, Hand\\u00e4nderungsart und Hand\\u00e4nderungsgrundst\\u00fccktyp 2021/Ja\",\"Hand\\u00e4nderungsfl\\u00e4che nach Stockwerkeigentum, Hand\\u00e4nderungsart und Hand\\u00e4nderungsgrundst\\u00fccktyp 2021/Nein\",\"Hand\\u00e4nderungsfl\\u00e4che nach Stockwerkeigentum, Hand\\u00e4nderungsart und Hand\\u00e4nderungsgrundst\\u00fccktyp 2021/Nein\",\"Hand\\u00e4nderungsfl\\u00e4che nach Stockwerkeigentum, Hand\\u00e4nderungsart und Hand\\u00e4nderungsgrundst\\u00fccktyp 2021/Ja\",\"Hand\\u00e4nderungsfl\\u00e4che nach Stockwerkeigentum, Hand\\u00e4nderungsart und Hand\\u00e4nderungsgrundst\\u00fccktyp 2021/Nein\",\"Hand\\u00e4nderungsfl\\u00e4che nach Stockwerkeigentum, Hand\\u00e4nderungsart und Hand\\u00e4nderungsgrundst\\u00fccktyp 2021/Ja\",\"Hand\\u00e4nderungsfl\\u00e4che nach Stockwerkeigentum, Hand\\u00e4nderungsart und Hand\\u00e4nderungsgrundst\\u00fccktyp 2021/Nein\",\"Hand\\u00e4nderungsfl\\u00e4che nach Stockwerkeigentum, Hand\\u00e4nderungsart und Hand\\u00e4nderungsgrundst\\u00fccktyp 2021/Ja\",\"Hand\\u00e4nderungsfl\\u00e4che nach Stockwerkeigentum, Hand\\u00e4nderungsart und Hand\\u00e4nderungsgrundst\\u00fccktyp 2021/Nein\",\"Hand\\u00e4nderungsfl\\u00e4che nach Stockwerkeigentum, Hand\\u00e4nderungsart und Hand\\u00e4nderungsgrundst\\u00fccktyp 2021/Ja\",\"Hand\\u00e4nderungsfl\\u00e4che nach Stockwerkeigentum, Hand\\u00e4nderungsart und Hand\\u00e4nderungsgrundst\\u00fccktyp 2021/Nein\",\"Hand\\u00e4nderungsfl\\u00e4che nach Stockwerkeigentum, Hand\\u00e4nderungsart und Hand\\u00e4nderungsgrundst\\u00fccktyp 2021/Ja\",\"Hand\\u00e4nderungsfl\\u00e4che nach Stockwerkeigentum, Hand\\u00e4nderungsart und Hand\\u00e4nderungsgrundst\\u00fccktyp 2021/Nein\",\"Hand\\u00e4nderungsfl\\u00e4che nach Stockwerkeigentum, Hand\\u00e4nderungsart und Hand\\u00e4nderungsgrundst\\u00fccktyp 2021\",\"Hand\\u00e4nderungsfl\\u00e4che nach Stockwerkeigentum, Hand\\u00e4nderungsart und Hand\\u00e4nderungsgrundst\\u00fccktyp 2021\",\"\"],\"root\":{\"color\":\"grey\"},\"type\":\"treemap\",\"values\":[17537.438000000002,1052249.1222222215,757.0,17176.110707936507,754406.0379732763,2325.95,309480.0834303723,2065.0,5057.818,237760.7799999999,4435.0,269006.2752999997,2548529.293888885,57.51,1168.0,698.0,715649.0899218578,1186202.3519771532,79218.50124,676069.9949999992,907.558,11027.5,188215.23039999988,2509852.904999998,2932.4815,1625.5,8815.671,604112.6966904751,166.0,483.0,46753.94497970717,1637509.9924253384,3059.61,156889.91896153844,335.466994871794,54527.02,42976.35674502924,1971615.1395337526,115.154,1775.0,1129893.3626169153,398.0,142.48912698412698,1901787.6555803095,580978.8802949608,95972.75,50892.2952417154,268989.98904761893,85013.65835999997,1310285.8938708815,103.124,657.0,501.0,189730.8651036841,701271.1310165151,13833.76169999999,229461.9483492063,57.22,21161.5,88308.10698999999,1454485.0006666656,371.272,256.0,93.885,12823.0,1422.717,33670.0,5972.0,5147.0,118571.0,380466.9276599997,6657893.369289379,160.634,3146.0,1682.0,970875.2168401697,6214847.168972592,98437.82294,1958852.826036077,1300.244994871794,189900.77,375449.8073767445,6561274.814248035,3418.9075,8091.5,1830109.5613117856,21595688.44854608,23425798.009857867]}],                        {\"coloraxis\":{\"colorbar\":{\"title\":{\"text\":\"sum_Flaeche\"}},\"colorscale\":[[0.0,\"#440154\"],[0.1111111111111111,\"#482878\"],[0.2222222222222222,\"#3e4989\"],[0.3333333333333333,\"#31688e\"],[0.4444444444444444,\"#26828e\"],[0.5555555555555556,\"#1f9e89\"],[0.6666666666666666,\"#35b779\"],[0.7777777777777778,\"#6ece58\"],[0.8888888888888888,\"#b5de2b\"],[1.0,\"#fde725\"]]},\"height\":500,\"legend\":{\"tracegroupgap\":0},\"margin\":{\"b\":25,\"l\":25,\"r\":250,\"t\":50},\"template\":{\"data\":{\"bar\":[{\"error_x\":{\"color\":\"#2a3f5f\"},\"error_y\":{\"color\":\"#2a3f5f\"},\"marker\":{\"line\":{\"color\":\"#E5ECF6\",\"width\":0.5},\"pattern\":{\"fillmode\":\"overlay\",\"size\":10,\"solidity\":0.2}},\"type\":\"bar\"}],\"barpolar\":[{\"marker\":{\"line\":{\"color\":\"#E5ECF6\",\"width\":0.5},\"pattern\":{\"fillmode\":\"overlay\",\"size\":10,\"solidity\":0.2}},\"type\":\"barpolar\"}],\"carpet\":[{\"aaxis\":{\"endlinecolor\":\"#2a3f5f\",\"gridcolor\":\"white\",\"linecolor\":\"white\",\"minorgridcolor\":\"white\",\"startlinecolor\":\"#2a3f5f\"},\"baxis\":{\"endlinecolor\":\"#2a3f5f\",\"gridcolor\":\"white\",\"linecolor\":\"white\",\"minorgridcolor\":\"white\",\"startlinecolor\":\"#2a3f5f\"},\"type\":\"carpet\"}],\"choropleth\":[{\"colorbar\":{\"outlinewidth\":0,\"ticks\":\"\"},\"type\":\"choropleth\"}],\"contour\":[{\"colorbar\":{\"outlinewidth\":0,\"ticks\":\"\"},\"colorscale\":[[0.0,\"#0d0887\"],[0.1111111111111111,\"#46039f\"],[0.2222222222222222,\"#7201a8\"],[0.3333333333333333,\"#9c179e\"],[0.4444444444444444,\"#bd3786\"],[0.5555555555555556,\"#d8576b\"],[0.6666666666666666,\"#ed7953\"],[0.7777777777777778,\"#fb9f3a\"],[0.8888888888888888,\"#fdca26\"],[1.0,\"#f0f921\"]],\"type\":\"contour\"}],\"contourcarpet\":[{\"colorbar\":{\"outlinewidth\":0,\"ticks\":\"\"},\"type\":\"contourcarpet\"}],\"heatmap\":[{\"colorbar\":{\"outlinewidth\":0,\"ticks\":\"\"},\"colorscale\":[[0.0,\"#0d0887\"],[0.1111111111111111,\"#46039f\"],[0.2222222222222222,\"#7201a8\"],[0.3333333333333333,\"#9c179e\"],[0.4444444444444444,\"#bd3786\"],[0.5555555555555556,\"#d8576b\"],[0.6666666666666666,\"#ed7953\"],[0.7777777777777778,\"#fb9f3a\"],[0.8888888888888888,\"#fdca26\"],[1.0,\"#f0f921\"]],\"type\":\"heatmap\"}],\"heatmapgl\":[{\"colorbar\":{\"outlinewidth\":0,\"ticks\":\"\"},\"colorscale\":[[0.0,\"#0d0887\"],[0.1111111111111111,\"#46039f\"],[0.2222222222222222,\"#7201a8\"],[0.3333333333333333,\"#9c179e\"],[0.4444444444444444,\"#bd3786\"],[0.5555555555555556,\"#d8576b\"],[0.6666666666666666,\"#ed7953\"],[0.7777777777777778,\"#fb9f3a\"],[0.8888888888888888,\"#fdca26\"],[1.0,\"#f0f921\"]],\"type\":\"heatmapgl\"}],\"histogram\":[{\"marker\":{\"pattern\":{\"fillmode\":\"overlay\",\"size\":10,\"solidity\":0.2}},\"type\":\"histogram\"}],\"histogram2d\":[{\"colorbar\":{\"outlinewidth\":0,\"ticks\":\"\"},\"colorscale\":[[0.0,\"#0d0887\"],[0.1111111111111111,\"#46039f\"],[0.2222222222222222,\"#7201a8\"],[0.3333333333333333,\"#9c179e\"],[0.4444444444444444,\"#bd3786\"],[0.5555555555555556,\"#d8576b\"],[0.6666666666666666,\"#ed7953\"],[0.7777777777777778,\"#fb9f3a\"],[0.8888888888888888,\"#fdca26\"],[1.0,\"#f0f921\"]],\"type\":\"histogram2d\"}],\"histogram2dcontour\":[{\"colorbar\":{\"outlinewidth\":0,\"ticks\":\"\"},\"colorscale\":[[0.0,\"#0d0887\"],[0.1111111111111111,\"#46039f\"],[0.2222222222222222,\"#7201a8\"],[0.3333333333333333,\"#9c179e\"],[0.4444444444444444,\"#bd3786\"],[0.5555555555555556,\"#d8576b\"],[0.6666666666666666,\"#ed7953\"],[0.7777777777777778,\"#fb9f3a\"],[0.8888888888888888,\"#fdca26\"],[1.0,\"#f0f921\"]],\"type\":\"histogram2dcontour\"}],\"mesh3d\":[{\"colorbar\":{\"outlinewidth\":0,\"ticks\":\"\"},\"type\":\"mesh3d\"}],\"parcoords\":[{\"line\":{\"colorbar\":{\"outlinewidth\":0,\"ticks\":\"\"}},\"type\":\"parcoords\"}],\"pie\":[{\"automargin\":true,\"type\":\"pie\"}],\"scatter\":[{\"marker\":{\"colorbar\":{\"outlinewidth\":0,\"ticks\":\"\"}},\"type\":\"scatter\"}],\"scatter3d\":[{\"line\":{\"colorbar\":{\"outlinewidth\":0,\"ticks\":\"\"}},\"marker\":{\"colorbar\":{\"outlinewidth\":0,\"ticks\":\"\"}},\"type\":\"scatter3d\"}],\"scattercarpet\":[{\"marker\":{\"colorbar\":{\"outlinewidth\":0,\"ticks\":\"\"}},\"type\":\"scattercarpet\"}],\"scattergeo\":[{\"marker\":{\"colorbar\":{\"outlinewidth\":0,\"ticks\":\"\"}},\"type\":\"scattergeo\"}],\"scattergl\":[{\"marker\":{\"colorbar\":{\"outlinewidth\":0,\"ticks\":\"\"}},\"type\":\"scattergl\"}],\"scattermapbox\":[{\"marker\":{\"colorbar\":{\"outlinewidth\":0,\"ticks\":\"\"}},\"type\":\"scattermapbox\"}],\"scatterpolar\":[{\"marker\":{\"colorbar\":{\"outlinewidth\":0,\"ticks\":\"\"}},\"type\":\"scatterpolar\"}],\"scatterpolargl\":[{\"marker\":{\"colorbar\":{\"outlinewidth\":0,\"ticks\":\"\"}},\"type\":\"scatterpolargl\"}],\"scatterternary\":[{\"marker\":{\"colorbar\":{\"outlinewidth\":0,\"ticks\":\"\"}},\"type\":\"scatterternary\"}],\"surface\":[{\"colorbar\":{\"outlinewidth\":0,\"ticks\":\"\"},\"colorscale\":[[0.0,\"#0d0887\"],[0.1111111111111111,\"#46039f\"],[0.2222222222222222,\"#7201a8\"],[0.3333333333333333,\"#9c179e\"],[0.4444444444444444,\"#bd3786\"],[0.5555555555555556,\"#d8576b\"],[0.6666666666666666,\"#ed7953\"],[0.7777777777777778,\"#fb9f3a\"],[0.8888888888888888,\"#fdca26\"],[1.0,\"#f0f921\"]],\"type\":\"surface\"}],\"table\":[{\"cells\":{\"fill\":{\"color\":\"#EBF0F8\"},\"line\":{\"color\":\"white\"}},\"header\":{\"fill\":{\"color\":\"#C8D4E3\"},\"line\":{\"color\":\"white\"}},\"type\":\"table\"}]},\"layout\":{\"annotationdefaults\":{\"arrowcolor\":\"#2a3f5f\",\"arrowhead\":0,\"arrowwidth\":1},\"autotypenumbers\":\"strict\",\"coloraxis\":{\"colorbar\":{\"outlinewidth\":0,\"ticks\":\"\"}},\"colorscale\":{\"diverging\":[[0,\"#8e0152\"],[0.1,\"#c51b7d\"],[0.2,\"#de77ae\"],[0.3,\"#f1b6da\"],[0.4,\"#fde0ef\"],[0.5,\"#f7f7f7\"],[0.6,\"#e6f5d0\"],[0.7,\"#b8e186\"],[0.8,\"#7fbc41\"],[0.9,\"#4d9221\"],[1,\"#276419\"]],\"sequential\":[[0.0,\"#0d0887\"],[0.1111111111111111,\"#46039f\"],[0.2222222222222222,\"#7201a8\"],[0.3333333333333333,\"#9c179e\"],[0.4444444444444444,\"#bd3786\"],[0.5555555555555556,\"#d8576b\"],[0.6666666666666666,\"#ed7953\"],[0.7777777777777778,\"#fb9f3a\"],[0.8888888888888888,\"#fdca26\"],[1.0,\"#f0f921\"]],\"sequentialminus\":[[0.0,\"#0d0887\"],[0.1111111111111111,\"#46039f\"],[0.2222222222222222,\"#7201a8\"],[0.3333333333333333,\"#9c179e\"],[0.4444444444444444,\"#bd3786\"],[0.5555555555555556,\"#d8576b\"],[0.6666666666666666,\"#ed7953\"],[0.7777777777777778,\"#fb9f3a\"],[0.8888888888888888,\"#fdca26\"],[1.0,\"#f0f921\"]]},\"colorway\":[\"#636efa\",\"#EF553B\",\"#00cc96\",\"#ab63fa\",\"#FFA15A\",\"#19d3f3\",\"#FF6692\",\"#B6E880\",\"#FF97FF\",\"#FECB52\"],\"font\":{\"color\":\"#2a3f5f\"},\"geo\":{\"bgcolor\":\"white\",\"lakecolor\":\"white\",\"landcolor\":\"#E5ECF6\",\"showlakes\":true,\"showland\":true,\"subunitcolor\":\"white\"},\"hoverlabel\":{\"align\":\"left\"},\"hovermode\":\"closest\",\"mapbox\":{\"style\":\"light\"},\"paper_bgcolor\":\"white\",\"plot_bgcolor\":\"#E5ECF6\",\"polar\":{\"angularaxis\":{\"gridcolor\":\"white\",\"linecolor\":\"white\",\"ticks\":\"\"},\"bgcolor\":\"#E5ECF6\",\"radialaxis\":{\"gridcolor\":\"white\",\"linecolor\":\"white\",\"ticks\":\"\"}},\"scene\":{\"xaxis\":{\"backgroundcolor\":\"#E5ECF6\",\"gridcolor\":\"white\",\"gridwidth\":2,\"linecolor\":\"white\",\"showbackground\":true,\"ticks\":\"\",\"zerolinecolor\":\"white\"},\"yaxis\":{\"backgroundcolor\":\"#E5ECF6\",\"gridcolor\":\"white\",\"gridwidth\":2,\"linecolor\":\"white\",\"showbackground\":true,\"ticks\":\"\",\"zerolinecolor\":\"white\"},\"zaxis\":{\"backgroundcolor\":\"#E5ECF6\",\"gridcolor\":\"white\",\"gridwidth\":2,\"linecolor\":\"white\",\"showbackground\":true,\"ticks\":\"\",\"zerolinecolor\":\"white\"}},\"shapedefaults\":{\"line\":{\"color\":\"#2a3f5f\"}},\"ternary\":{\"aaxis\":{\"gridcolor\":\"white\",\"linecolor\":\"white\",\"ticks\":\"\"},\"baxis\":{\"gridcolor\":\"white\",\"linecolor\":\"white\",\"ticks\":\"\"},\"bgcolor\":\"#E5ECF6\",\"caxis\":{\"gridcolor\":\"white\",\"linecolor\":\"white\",\"ticks\":\"\"}},\"title\":{\"x\":0.05},\"xaxis\":{\"automargin\":true,\"gridcolor\":\"white\",\"linecolor\":\"white\",\"ticks\":\"\",\"title\":{\"standoff\":15},\"zerolinecolor\":\"white\",\"zerolinewidth\":2},\"yaxis\":{\"automargin\":true,\"gridcolor\":\"white\",\"linecolor\":\"white\",\"ticks\":\"\",\"title\":{\"standoff\":15},\"zerolinecolor\":\"white\",\"zerolinewidth\":2}}},\"width\":1100},                        {\"responsive\": true}                    ).then(function(){\n",
       "                            \n",
       "var gd = document.getElementById('3fc4825f-dc14-4449-97ee-c451b6c54ddc');\n",
       "var x = new MutationObserver(function (mutations, observer) {{\n",
       "        var display = window.getComputedStyle(gd).display;\n",
       "        if (!display || display === 'none') {{\n",
       "            console.log([gd, 'removed!']);\n",
       "            Plotly.purge(gd);\n",
       "            observer.disconnect();\n",
       "        }}\n",
       "}});\n",
       "\n",
       "// Listen for the removal of the full notebook cells\n",
       "var notebookContainer = gd.closest('#notebook-container');\n",
       "if (notebookContainer) {{\n",
       "    x.observe(notebookContainer, {childList: true});\n",
       "}}\n",
       "\n",
       "// Listen for the clearing of the current output cell\n",
       "var outputEl = gd.closest('.output');\n",
       "if (outputEl) {{\n",
       "    x.observe(outputEl, {childList: true});\n",
       "}}\n",
       "\n",
       "                        })                };                });            </script>        </div>"
      ]
     },
     "metadata": {},
     "output_type": "display_data"
    }
   ],
   "source": [
    "fig = px.treemap(myTreemapAgg.query('sum_Flaeche >0').reset_index(), path=[px.Constant(\"Handänderungsfläche nach Stockwerkeigentum, Handänderungsart und Handänderungsgrundstücktyp 2021\")\n",
    "                                                                          , 'Stockwerkeigentum','HaeArt','HaeGrstTyp']\n",
    "                 , values='sum_Flaeche'\n",
    "                 , color='sum_Flaeche'               \n",
    "                 #, color_discrete_map={'(?)':'lightgrey','EVP':'gold', 'SP':'#FF3030', 'PdA':'#EE3B3B', 'Grüne':'#A2CD5A','GLP':'#CAFF70','Die Mitte':'orange','FDP':'#104E8B','AL':'deeppink','SVP':'forestgreen', 'FL ZÜRI':'#8B864E','Volt':'#lightblue' }                \n",
    "                 ## bei continuous scales (bei Zahlenwerten):\n",
    "                 ,color_continuous_scale='viridis'\n",
    "                 ,height=500 , width=1100                 \n",
    "                )\n",
    "fig.update_traces(root_color=\"grey\")\n",
    "fig.update_layout(margin = dict(t=50, l=25, r=250, b=25))\n",
    "fig.show()"
   ]
  },
  {
   "cell_type": "markdown",
   "metadata": {
    "tags": []
   },
   "source": [
    "#### Handänderungsfläche nach Handänderungsart und Handänderungsgrundstücktyp seit 2009"
   ]
  },
  {
   "cell_type": "code",
   "execution_count": 129,
   "metadata": {
    "tags": []
   },
   "outputs": [
    {
     "data": {
      "text/plain": [
       "HaeArt                object\n",
       "HaeGrstTyp            object\n",
       "Stockwerkeigentum     object\n",
       "AnzGrst                int64\n",
       "Flaeche              float64\n",
       "dtype: object"
      ]
     },
     "execution_count": 129,
     "metadata": {},
     "output_type": "execute_result"
    }
   ],
   "source": [
    "data2betested.dtypes"
   ]
  },
  {
   "cell_type": "code",
   "execution_count": 130,
   "metadata": {
    "tags": []
   },
   "outputs": [],
   "source": [
    "myTreemapAgg = data2betested.loc[\"2009\":\"2021\"]\\\n",
    "    .groupby(['HaeGrstTyp', 'HaeArt']) \\\n",
    "    .agg(sum_AnzGrst=('AnzGrst', 'sum'), sum_Flaeche=('Flaeche', 'sum')) \\\n",
    "    .sort_values('sum_AnzGrst', ascending=False) \n",
    "#myTreemapAgg.reset_index().dtypes"
   ]
  },
  {
   "cell_type": "code",
   "execution_count": 135,
   "metadata": {
    "tags": []
   },
   "outputs": [
    {
     "data": {
      "application/vnd.plotly.v1+json": {
       "config": {
        "plotlyServerURL": "https://plot.ly"
       },
       "data": [
        {
         "branchvalues": "total",
         "customdata": [
          [
           "Expropriation"
          ],
          [
           "Tausch"
          ],
          [
           "Uebrige"
          ],
          [
           "Tausch"
          ],
          [
           "Schenkung/Vermächtnis/Abtretung"
          ],
          [
           "Uebrige"
          ],
          [
           "Schenkung/Vermächtnis/Abtretung"
          ],
          [
           "Kauf"
          ],
          [
           "Uebrige"
          ],
          [
           "Kauf"
          ],
          [
           "Freiwillige Steigerung"
          ],
          [
           "Uebrige"
          ],
          [
           "Zwangsverwertung"
          ],
          [
           "Tausch"
          ],
          [
           "Uebrige"
          ],
          [
           "Expropriation"
          ],
          [
           "Erbfolge"
          ],
          [
           "Kauf"
          ],
          [
           "Freiwillige Steigerung"
          ],
          [
           "Zwangsverwertung"
          ],
          [
           "Freiwillige Steigerung"
          ],
          [
           "Schenkung/Vermächtnis/Abtretung"
          ],
          [
           "Zwangsverwertung"
          ],
          [
           "Tausch"
          ],
          [
           "Expropriation"
          ],
          [
           "Expropriation"
          ],
          [
           "Erbfolge"
          ],
          [
           "Kauf"
          ],
          [
           "Expropriation"
          ],
          [
           "Erbfolge"
          ],
          [
           "Zwangsverwertung"
          ],
          [
           "Schenkung/Vermächtnis/Abtretung"
          ],
          [
           "Erbfolge"
          ],
          [
           "Schenkung/Vermächtnis/Abtretung"
          ],
          [
           "Tausch"
          ],
          [
           "Erbfolge"
          ],
          [
           "Kauf"
          ],
          [
           "Kauf"
          ],
          [
           "Uebrige"
          ],
          [
           "Schenkung/Vermächtnis/Abtretung"
          ],
          [
           "Tausch"
          ],
          [
           "Erbfolge"
          ],
          [
           "Erbfolge"
          ],
          [
           "Expropriation"
          ],
          [
           "Freiwillige Steigerung"
          ],
          [
           "Kauf"
          ],
          [
           "Schenkung/Vermächtnis/Abtretung"
          ],
          [
           "Tausch"
          ],
          [
           "Uebrige"
          ],
          [
           "Zwangsverwertung"
          ],
          [
           "(?)"
          ]
         ],
         "domain": {
          "x": [
           0,
           1
          ],
          "y": [
           0,
           1
          ]
         },
         "hovertemplate": "labels=%{label}<br>sum_Flaeche=%{value}<br>parent=%{parent}<br>id=%{id}<br>HaeArt=%{customdata[0]}<extra></extra>",
         "ids": [
          "Handänderungsfläche nach Handänderungsart und Handänderungsgrundstücktyp seit 2009/Expropriation/Einfamilienhäuser",
          "Handänderungsfläche nach Handänderungsart und Handänderungsgrundstücktyp seit 2009/Tausch/Einfamilienhäuser",
          "Handänderungsfläche nach Handänderungsart und Handänderungsgrundstücktyp seit 2009/Uebrige/Einfamilienhäuser",
          "Handänderungsfläche nach Handänderungsart und Handänderungsgrundstücktyp seit 2009/Tausch/Unbebaut",
          "Handänderungsfläche nach Handänderungsart und Handänderungsgrundstücktyp seit 2009/Schenkung/Vermächtnis/Abtretung/Mehrfamilienhäuser",
          "Handänderungsfläche nach Handänderungsart und Handänderungsgrundstücktyp seit 2009/Uebrige/Mehrfamilienhäuser",
          "Handänderungsfläche nach Handänderungsart und Handänderungsgrundstücktyp seit 2009/Schenkung/Vermächtnis/Abtretung/übrige Wohnhäuser",
          "Handänderungsfläche nach Handänderungsart und Handänderungsgrundstücktyp seit 2009/Kauf/übrige Wohnhäuser",
          "Handänderungsfläche nach Handänderungsart und Handänderungsgrundstücktyp seit 2009/Uebrige/Wohnhäuser mit Geschäftsräumen",
          "Handänderungsfläche nach Handänderungsart und Handänderungsgrundstücktyp seit 2009/Kauf/Wohnhäuser mit Geschäftsräumen",
          "Handänderungsfläche nach Handänderungsart und Handänderungsgrundstücktyp seit 2009/Freiwillige Steigerung/Wohnhäuser mit Geschäftsräumen",
          "Handänderungsfläche nach Handänderungsart und Handänderungsgrundstücktyp seit 2009/Uebrige/übrige Wohnhäuser",
          "Handänderungsfläche nach Handänderungsart und Handänderungsgrundstücktyp seit 2009/Zwangsverwertung/Wohnhäuser mit Geschäftsräumen",
          "Handänderungsfläche nach Handänderungsart und Handänderungsgrundstücktyp seit 2009/Tausch/übrige Wohnhäuser",
          "Handänderungsfläche nach Handänderungsart und Handänderungsgrundstücktyp seit 2009/Uebrige/Nutzbauten",
          "Handänderungsfläche nach Handänderungsart und Handänderungsgrundstücktyp seit 2009/Expropriation/Nutzbauten",
          "Handänderungsfläche nach Handänderungsart und Handänderungsgrundstücktyp seit 2009/Erbfolge/Einfamilienhäuser",
          "Handänderungsfläche nach Handänderungsart und Handänderungsgrundstücktyp seit 2009/Kauf/Einfamilienhäuser",
          "Handänderungsfläche nach Handänderungsart und Handänderungsgrundstücktyp seit 2009/Freiwillige Steigerung/Mehrfamilienhäuser",
          "Handänderungsfläche nach Handänderungsart und Handänderungsgrundstücktyp seit 2009/Zwangsverwertung/Einfamilienhäuser",
          "Handänderungsfläche nach Handänderungsart und Handänderungsgrundstücktyp seit 2009/Freiwillige Steigerung/Nutzbauten",
          "Handänderungsfläche nach Handänderungsart und Handänderungsgrundstücktyp seit 2009/Schenkung/Vermächtnis/Abtretung/Nutzbauten",
          "Handänderungsfläche nach Handänderungsart und Handänderungsgrundstücktyp seit 2009/Zwangsverwertung/Mehrfamilienhäuser",
          "Handänderungsfläche nach Handänderungsart und Handänderungsgrundstücktyp seit 2009/Tausch/Mehrfamilienhäuser",
          "Handänderungsfläche nach Handänderungsart und Handänderungsgrundstücktyp seit 2009/Expropriation/Wohnhäuser mit Geschäftsräumen",
          "Handänderungsfläche nach Handänderungsart und Handänderungsgrundstücktyp seit 2009/Expropriation/Mehrfamilienhäuser",
          "Handänderungsfläche nach Handänderungsart und Handänderungsgrundstücktyp seit 2009/Erbfolge/übrige Wohnhäuser",
          "Handänderungsfläche nach Handänderungsart und Handänderungsgrundstücktyp seit 2009/Kauf/Unbebaut",
          "Handänderungsfläche nach Handänderungsart und Handänderungsgrundstücktyp seit 2009/Expropriation/Unbebaut",
          "Handänderungsfläche nach Handänderungsart und Handänderungsgrundstücktyp seit 2009/Erbfolge/Unbebaut",
          "Handänderungsfläche nach Handänderungsart und Handänderungsgrundstücktyp seit 2009/Zwangsverwertung/Nutzbauten",
          "Handänderungsfläche nach Handänderungsart und Handänderungsgrundstücktyp seit 2009/Schenkung/Vermächtnis/Abtretung/Wohnhäuser mit Geschäftsräumen",
          "Handänderungsfläche nach Handänderungsart und Handänderungsgrundstücktyp seit 2009/Erbfolge/Mehrfamilienhäuser",
          "Handänderungsfläche nach Handänderungsart und Handänderungsgrundstücktyp seit 2009/Schenkung/Vermächtnis/Abtretung/Einfamilienhäuser",
          "Handänderungsfläche nach Handänderungsart und Handänderungsgrundstücktyp seit 2009/Tausch/Nutzbauten",
          "Handänderungsfläche nach Handänderungsart und Handänderungsgrundstücktyp seit 2009/Erbfolge/Nutzbauten",
          "Handänderungsfläche nach Handänderungsart und Handänderungsgrundstücktyp seit 2009/Kauf/Mehrfamilienhäuser",
          "Handänderungsfläche nach Handänderungsart und Handänderungsgrundstücktyp seit 2009/Kauf/Nutzbauten",
          "Handänderungsfläche nach Handänderungsart und Handänderungsgrundstücktyp seit 2009/Uebrige/Unbebaut",
          "Handänderungsfläche nach Handänderungsart und Handänderungsgrundstücktyp seit 2009/Schenkung/Vermächtnis/Abtretung/Unbebaut",
          "Handänderungsfläche nach Handänderungsart und Handänderungsgrundstücktyp seit 2009/Tausch/Wohnhäuser mit Geschäftsräumen",
          "Handänderungsfläche nach Handänderungsart und Handänderungsgrundstücktyp seit 2009/Erbfolge/Wohnhäuser mit Geschäftsräumen",
          "Handänderungsfläche nach Handänderungsart und Handänderungsgrundstücktyp seit 2009/Erbfolge",
          "Handänderungsfläche nach Handänderungsart und Handänderungsgrundstücktyp seit 2009/Expropriation",
          "Handänderungsfläche nach Handänderungsart und Handänderungsgrundstücktyp seit 2009/Freiwillige Steigerung",
          "Handänderungsfläche nach Handänderungsart und Handänderungsgrundstücktyp seit 2009/Kauf",
          "Handänderungsfläche nach Handänderungsart und Handänderungsgrundstücktyp seit 2009/Schenkung/Vermächtnis/Abtretung",
          "Handänderungsfläche nach Handänderungsart und Handänderungsgrundstücktyp seit 2009/Tausch",
          "Handänderungsfläche nach Handänderungsart und Handänderungsgrundstücktyp seit 2009/Uebrige",
          "Handänderungsfläche nach Handänderungsart und Handänderungsgrundstücktyp seit 2009/Zwangsverwertung",
          "Handänderungsfläche nach Handänderungsart und Handänderungsgrundstücktyp seit 2009"
         ],
         "labels": [
          "Einfamilienhäuser",
          "Einfamilienhäuser",
          "Einfamilienhäuser",
          "Unbebaut",
          "Mehrfamilienhäuser",
          "Mehrfamilienhäuser",
          "übrige Wohnhäuser",
          "übrige Wohnhäuser",
          "Wohnhäuser mit Geschäftsräumen",
          "Wohnhäuser mit Geschäftsräumen",
          "Wohnhäuser mit Geschäftsräumen",
          "übrige Wohnhäuser",
          "Wohnhäuser mit Geschäftsräumen",
          "übrige Wohnhäuser",
          "Nutzbauten",
          "Nutzbauten",
          "Einfamilienhäuser",
          "Einfamilienhäuser",
          "Mehrfamilienhäuser",
          "Einfamilienhäuser",
          "Nutzbauten",
          "Nutzbauten",
          "Mehrfamilienhäuser",
          "Mehrfamilienhäuser",
          "Wohnhäuser mit Geschäftsräumen",
          "Mehrfamilienhäuser",
          "übrige Wohnhäuser",
          "Unbebaut",
          "Unbebaut",
          "Unbebaut",
          "Nutzbauten",
          "Wohnhäuser mit Geschäftsräumen",
          "Mehrfamilienhäuser",
          "Einfamilienhäuser",
          "Nutzbauten",
          "Nutzbauten",
          "Mehrfamilienhäuser",
          "Nutzbauten",
          "Unbebaut",
          "Unbebaut",
          "Wohnhäuser mit Geschäftsräumen",
          "Wohnhäuser mit Geschäftsräumen",
          "Erbfolge",
          "Expropriation",
          "Freiwillige Steigerung",
          "Kauf",
          "Schenkung/Vermächtnis/Abtretung",
          "Tausch",
          "Uebrige",
          "Zwangsverwertung",
          "Handänderungsfläche nach Handänderungsart und Handänderungsgrundstücktyp seit 2009"
         ],
         "marker": {
          "colors": [
           "#00cc96",
           "#ab63fa",
           "#FFA15A",
           "#ab63fa",
           "#19d3f3",
           "#FFA15A",
           "#19d3f3",
           "#FF6692",
           "#FFA15A",
           "#FF6692",
           "#B6E880",
           "#FFA15A",
           "#FF97FF",
           "#ab63fa",
           "#FFA15A",
           "#00cc96",
           "#FECB52",
           "#FF6692",
           "#B6E880",
           "#FF97FF",
           "#B6E880",
           "#19d3f3",
           "#FF97FF",
           "#ab63fa",
           "#00cc96",
           "#00cc96",
           "#FECB52",
           "#FF6692",
           "#00cc96",
           "#FECB52",
           "#FF97FF",
           "#19d3f3",
           "#FECB52",
           "#19d3f3",
           "#ab63fa",
           "#FECB52",
           "#FF6692",
           "#FF6692",
           "#FFA15A",
           "#19d3f3",
           "#ab63fa",
           "#FECB52",
           "#FECB52",
           "#00cc96",
           "#B6E880",
           "#FF6692",
           "#19d3f3",
           "#ab63fa",
           "#FFA15A",
           "#FF97FF",
           "lightgrey"
          ]
         },
         "name": "",
         "parents": [
          "Handänderungsfläche nach Handänderungsart und Handänderungsgrundstücktyp seit 2009/Expropriation",
          "Handänderungsfläche nach Handänderungsart und Handänderungsgrundstücktyp seit 2009/Tausch",
          "Handänderungsfläche nach Handänderungsart und Handänderungsgrundstücktyp seit 2009/Uebrige",
          "Handänderungsfläche nach Handänderungsart und Handänderungsgrundstücktyp seit 2009/Tausch",
          "Handänderungsfläche nach Handänderungsart und Handänderungsgrundstücktyp seit 2009/Schenkung/Vermächtnis/Abtretung",
          "Handänderungsfläche nach Handänderungsart und Handänderungsgrundstücktyp seit 2009/Uebrige",
          "Handänderungsfläche nach Handänderungsart und Handänderungsgrundstücktyp seit 2009/Schenkung/Vermächtnis/Abtretung",
          "Handänderungsfläche nach Handänderungsart und Handänderungsgrundstücktyp seit 2009/Kauf",
          "Handänderungsfläche nach Handänderungsart und Handänderungsgrundstücktyp seit 2009/Uebrige",
          "Handänderungsfläche nach Handänderungsart und Handänderungsgrundstücktyp seit 2009/Kauf",
          "Handänderungsfläche nach Handänderungsart und Handänderungsgrundstücktyp seit 2009/Freiwillige Steigerung",
          "Handänderungsfläche nach Handänderungsart und Handänderungsgrundstücktyp seit 2009/Uebrige",
          "Handänderungsfläche nach Handänderungsart und Handänderungsgrundstücktyp seit 2009/Zwangsverwertung",
          "Handänderungsfläche nach Handänderungsart und Handänderungsgrundstücktyp seit 2009/Tausch",
          "Handänderungsfläche nach Handänderungsart und Handänderungsgrundstücktyp seit 2009/Uebrige",
          "Handänderungsfläche nach Handänderungsart und Handänderungsgrundstücktyp seit 2009/Expropriation",
          "Handänderungsfläche nach Handänderungsart und Handänderungsgrundstücktyp seit 2009/Erbfolge",
          "Handänderungsfläche nach Handänderungsart und Handänderungsgrundstücktyp seit 2009/Kauf",
          "Handänderungsfläche nach Handänderungsart und Handänderungsgrundstücktyp seit 2009/Freiwillige Steigerung",
          "Handänderungsfläche nach Handänderungsart und Handänderungsgrundstücktyp seit 2009/Zwangsverwertung",
          "Handänderungsfläche nach Handänderungsart und Handänderungsgrundstücktyp seit 2009/Freiwillige Steigerung",
          "Handänderungsfläche nach Handänderungsart und Handänderungsgrundstücktyp seit 2009/Schenkung/Vermächtnis/Abtretung",
          "Handänderungsfläche nach Handänderungsart und Handänderungsgrundstücktyp seit 2009/Zwangsverwertung",
          "Handänderungsfläche nach Handänderungsart und Handänderungsgrundstücktyp seit 2009/Tausch",
          "Handänderungsfläche nach Handänderungsart und Handänderungsgrundstücktyp seit 2009/Expropriation",
          "Handänderungsfläche nach Handänderungsart und Handänderungsgrundstücktyp seit 2009/Expropriation",
          "Handänderungsfläche nach Handänderungsart und Handänderungsgrundstücktyp seit 2009/Erbfolge",
          "Handänderungsfläche nach Handänderungsart und Handänderungsgrundstücktyp seit 2009/Kauf",
          "Handänderungsfläche nach Handänderungsart und Handänderungsgrundstücktyp seit 2009/Expropriation",
          "Handänderungsfläche nach Handänderungsart und Handänderungsgrundstücktyp seit 2009/Erbfolge",
          "Handänderungsfläche nach Handänderungsart und Handänderungsgrundstücktyp seit 2009/Zwangsverwertung",
          "Handänderungsfläche nach Handänderungsart und Handänderungsgrundstücktyp seit 2009/Schenkung/Vermächtnis/Abtretung",
          "Handänderungsfläche nach Handänderungsart und Handänderungsgrundstücktyp seit 2009/Erbfolge",
          "Handänderungsfläche nach Handänderungsart und Handänderungsgrundstücktyp seit 2009/Schenkung/Vermächtnis/Abtretung",
          "Handänderungsfläche nach Handänderungsart und Handänderungsgrundstücktyp seit 2009/Tausch",
          "Handänderungsfläche nach Handänderungsart und Handänderungsgrundstücktyp seit 2009/Erbfolge",
          "Handänderungsfläche nach Handänderungsart und Handänderungsgrundstücktyp seit 2009/Kauf",
          "Handänderungsfläche nach Handänderungsart und Handänderungsgrundstücktyp seit 2009/Kauf",
          "Handänderungsfläche nach Handänderungsart und Handänderungsgrundstücktyp seit 2009/Uebrige",
          "Handänderungsfläche nach Handänderungsart und Handänderungsgrundstücktyp seit 2009/Schenkung/Vermächtnis/Abtretung",
          "Handänderungsfläche nach Handänderungsart und Handänderungsgrundstücktyp seit 2009/Tausch",
          "Handänderungsfläche nach Handänderungsart und Handänderungsgrundstücktyp seit 2009/Erbfolge",
          "Handänderungsfläche nach Handänderungsart und Handänderungsgrundstücktyp seit 2009",
          "Handänderungsfläche nach Handänderungsart und Handänderungsgrundstücktyp seit 2009",
          "Handänderungsfläche nach Handänderungsart und Handänderungsgrundstücktyp seit 2009",
          "Handänderungsfläche nach Handänderungsart und Handänderungsgrundstücktyp seit 2009",
          "Handänderungsfläche nach Handänderungsart und Handänderungsgrundstücktyp seit 2009",
          "Handänderungsfläche nach Handänderungsart und Handänderungsgrundstücktyp seit 2009",
          "Handänderungsfläche nach Handänderungsart und Handänderungsgrundstücktyp seit 2009",
          "Handänderungsfläche nach Handänderungsart und Handänderungsgrundstücktyp seit 2009",
          ""
         ],
         "root": {
          "color": "grey"
         },
         "type": "treemap",
         "values": [
          757,
          2065,
          242818.5979999999,
          95972.75,
          755288.4962399992,
          2698068.135399998,
          5972,
          35092.717,
          1542793.1076566656,
          891001.9961201992,
          501,
          118571,
          627.272,
          5147,
          2014591.496278782,
          166,
          1069786.5602222215,
          771582.1486812128,
          698,
          4435,
          483,
          159949.52896153842,
          4557.9815,
          11935.058,
          760.124,
          1225.51,
          12916.885,
          1901930.1447072935,
          398,
          1129893.3626169153,
          1890.154,
          243295.71004920627,
          2817535.5691888845,
          311806.0334303723,
          54862.4869948718,
          612928.3676904751,
          1901851.4418990111,
          1684263.9374050454,
          319882.2842893343,
          580978.8802949607,
          21218.72,
          1395299.5522308815,
          7038360.296949378,
          3306.634,
          1682,
          7185722.385812762,
          2057290.6489760769,
          191201.0149948718,
          6936724.62162478,
          11510.4075,
          23425798.009857867
         ]
        }
       ],
       "layout": {
        "height": 500,
        "legend": {
         "tracegroupgap": 0
        },
        "margin": {
         "b": 25,
         "l": 25,
         "r": 250,
         "t": 50
        },
        "template": {
         "data": {
          "bar": [
           {
            "error_x": {
             "color": "#2a3f5f"
            },
            "error_y": {
             "color": "#2a3f5f"
            },
            "marker": {
             "line": {
              "color": "#E5ECF6",
              "width": 0.5
             },
             "pattern": {
              "fillmode": "overlay",
              "size": 10,
              "solidity": 0.2
             }
            },
            "type": "bar"
           }
          ],
          "barpolar": [
           {
            "marker": {
             "line": {
              "color": "#E5ECF6",
              "width": 0.5
             },
             "pattern": {
              "fillmode": "overlay",
              "size": 10,
              "solidity": 0.2
             }
            },
            "type": "barpolar"
           }
          ],
          "carpet": [
           {
            "aaxis": {
             "endlinecolor": "#2a3f5f",
             "gridcolor": "white",
             "linecolor": "white",
             "minorgridcolor": "white",
             "startlinecolor": "#2a3f5f"
            },
            "baxis": {
             "endlinecolor": "#2a3f5f",
             "gridcolor": "white",
             "linecolor": "white",
             "minorgridcolor": "white",
             "startlinecolor": "#2a3f5f"
            },
            "type": "carpet"
           }
          ],
          "choropleth": [
           {
            "colorbar": {
             "outlinewidth": 0,
             "ticks": ""
            },
            "type": "choropleth"
           }
          ],
          "contour": [
           {
            "colorbar": {
             "outlinewidth": 0,
             "ticks": ""
            },
            "colorscale": [
             [
              0,
              "#0d0887"
             ],
             [
              0.1111111111111111,
              "#46039f"
             ],
             [
              0.2222222222222222,
              "#7201a8"
             ],
             [
              0.3333333333333333,
              "#9c179e"
             ],
             [
              0.4444444444444444,
              "#bd3786"
             ],
             [
              0.5555555555555556,
              "#d8576b"
             ],
             [
              0.6666666666666666,
              "#ed7953"
             ],
             [
              0.7777777777777778,
              "#fb9f3a"
             ],
             [
              0.8888888888888888,
              "#fdca26"
             ],
             [
              1,
              "#f0f921"
             ]
            ],
            "type": "contour"
           }
          ],
          "contourcarpet": [
           {
            "colorbar": {
             "outlinewidth": 0,
             "ticks": ""
            },
            "type": "contourcarpet"
           }
          ],
          "heatmap": [
           {
            "colorbar": {
             "outlinewidth": 0,
             "ticks": ""
            },
            "colorscale": [
             [
              0,
              "#0d0887"
             ],
             [
              0.1111111111111111,
              "#46039f"
             ],
             [
              0.2222222222222222,
              "#7201a8"
             ],
             [
              0.3333333333333333,
              "#9c179e"
             ],
             [
              0.4444444444444444,
              "#bd3786"
             ],
             [
              0.5555555555555556,
              "#d8576b"
             ],
             [
              0.6666666666666666,
              "#ed7953"
             ],
             [
              0.7777777777777778,
              "#fb9f3a"
             ],
             [
              0.8888888888888888,
              "#fdca26"
             ],
             [
              1,
              "#f0f921"
             ]
            ],
            "type": "heatmap"
           }
          ],
          "heatmapgl": [
           {
            "colorbar": {
             "outlinewidth": 0,
             "ticks": ""
            },
            "colorscale": [
             [
              0,
              "#0d0887"
             ],
             [
              0.1111111111111111,
              "#46039f"
             ],
             [
              0.2222222222222222,
              "#7201a8"
             ],
             [
              0.3333333333333333,
              "#9c179e"
             ],
             [
              0.4444444444444444,
              "#bd3786"
             ],
             [
              0.5555555555555556,
              "#d8576b"
             ],
             [
              0.6666666666666666,
              "#ed7953"
             ],
             [
              0.7777777777777778,
              "#fb9f3a"
             ],
             [
              0.8888888888888888,
              "#fdca26"
             ],
             [
              1,
              "#f0f921"
             ]
            ],
            "type": "heatmapgl"
           }
          ],
          "histogram": [
           {
            "marker": {
             "pattern": {
              "fillmode": "overlay",
              "size": 10,
              "solidity": 0.2
             }
            },
            "type": "histogram"
           }
          ],
          "histogram2d": [
           {
            "colorbar": {
             "outlinewidth": 0,
             "ticks": ""
            },
            "colorscale": [
             [
              0,
              "#0d0887"
             ],
             [
              0.1111111111111111,
              "#46039f"
             ],
             [
              0.2222222222222222,
              "#7201a8"
             ],
             [
              0.3333333333333333,
              "#9c179e"
             ],
             [
              0.4444444444444444,
              "#bd3786"
             ],
             [
              0.5555555555555556,
              "#d8576b"
             ],
             [
              0.6666666666666666,
              "#ed7953"
             ],
             [
              0.7777777777777778,
              "#fb9f3a"
             ],
             [
              0.8888888888888888,
              "#fdca26"
             ],
             [
              1,
              "#f0f921"
             ]
            ],
            "type": "histogram2d"
           }
          ],
          "histogram2dcontour": [
           {
            "colorbar": {
             "outlinewidth": 0,
             "ticks": ""
            },
            "colorscale": [
             [
              0,
              "#0d0887"
             ],
             [
              0.1111111111111111,
              "#46039f"
             ],
             [
              0.2222222222222222,
              "#7201a8"
             ],
             [
              0.3333333333333333,
              "#9c179e"
             ],
             [
              0.4444444444444444,
              "#bd3786"
             ],
             [
              0.5555555555555556,
              "#d8576b"
             ],
             [
              0.6666666666666666,
              "#ed7953"
             ],
             [
              0.7777777777777778,
              "#fb9f3a"
             ],
             [
              0.8888888888888888,
              "#fdca26"
             ],
             [
              1,
              "#f0f921"
             ]
            ],
            "type": "histogram2dcontour"
           }
          ],
          "mesh3d": [
           {
            "colorbar": {
             "outlinewidth": 0,
             "ticks": ""
            },
            "type": "mesh3d"
           }
          ],
          "parcoords": [
           {
            "line": {
             "colorbar": {
              "outlinewidth": 0,
              "ticks": ""
             }
            },
            "type": "parcoords"
           }
          ],
          "pie": [
           {
            "automargin": true,
            "type": "pie"
           }
          ],
          "scatter": [
           {
            "marker": {
             "colorbar": {
              "outlinewidth": 0,
              "ticks": ""
             }
            },
            "type": "scatter"
           }
          ],
          "scatter3d": [
           {
            "line": {
             "colorbar": {
              "outlinewidth": 0,
              "ticks": ""
             }
            },
            "marker": {
             "colorbar": {
              "outlinewidth": 0,
              "ticks": ""
             }
            },
            "type": "scatter3d"
           }
          ],
          "scattercarpet": [
           {
            "marker": {
             "colorbar": {
              "outlinewidth": 0,
              "ticks": ""
             }
            },
            "type": "scattercarpet"
           }
          ],
          "scattergeo": [
           {
            "marker": {
             "colorbar": {
              "outlinewidth": 0,
              "ticks": ""
             }
            },
            "type": "scattergeo"
           }
          ],
          "scattergl": [
           {
            "marker": {
             "colorbar": {
              "outlinewidth": 0,
              "ticks": ""
             }
            },
            "type": "scattergl"
           }
          ],
          "scattermapbox": [
           {
            "marker": {
             "colorbar": {
              "outlinewidth": 0,
              "ticks": ""
             }
            },
            "type": "scattermapbox"
           }
          ],
          "scatterpolar": [
           {
            "marker": {
             "colorbar": {
              "outlinewidth": 0,
              "ticks": ""
             }
            },
            "type": "scatterpolar"
           }
          ],
          "scatterpolargl": [
           {
            "marker": {
             "colorbar": {
              "outlinewidth": 0,
              "ticks": ""
             }
            },
            "type": "scatterpolargl"
           }
          ],
          "scatterternary": [
           {
            "marker": {
             "colorbar": {
              "outlinewidth": 0,
              "ticks": ""
             }
            },
            "type": "scatterternary"
           }
          ],
          "surface": [
           {
            "colorbar": {
             "outlinewidth": 0,
             "ticks": ""
            },
            "colorscale": [
             [
              0,
              "#0d0887"
             ],
             [
              0.1111111111111111,
              "#46039f"
             ],
             [
              0.2222222222222222,
              "#7201a8"
             ],
             [
              0.3333333333333333,
              "#9c179e"
             ],
             [
              0.4444444444444444,
              "#bd3786"
             ],
             [
              0.5555555555555556,
              "#d8576b"
             ],
             [
              0.6666666666666666,
              "#ed7953"
             ],
             [
              0.7777777777777778,
              "#fb9f3a"
             ],
             [
              0.8888888888888888,
              "#fdca26"
             ],
             [
              1,
              "#f0f921"
             ]
            ],
            "type": "surface"
           }
          ],
          "table": [
           {
            "cells": {
             "fill": {
              "color": "#EBF0F8"
             },
             "line": {
              "color": "white"
             }
            },
            "header": {
             "fill": {
              "color": "#C8D4E3"
             },
             "line": {
              "color": "white"
             }
            },
            "type": "table"
           }
          ]
         },
         "layout": {
          "annotationdefaults": {
           "arrowcolor": "#2a3f5f",
           "arrowhead": 0,
           "arrowwidth": 1
          },
          "autotypenumbers": "strict",
          "coloraxis": {
           "colorbar": {
            "outlinewidth": 0,
            "ticks": ""
           }
          },
          "colorscale": {
           "diverging": [
            [
             0,
             "#8e0152"
            ],
            [
             0.1,
             "#c51b7d"
            ],
            [
             0.2,
             "#de77ae"
            ],
            [
             0.3,
             "#f1b6da"
            ],
            [
             0.4,
             "#fde0ef"
            ],
            [
             0.5,
             "#f7f7f7"
            ],
            [
             0.6,
             "#e6f5d0"
            ],
            [
             0.7,
             "#b8e186"
            ],
            [
             0.8,
             "#7fbc41"
            ],
            [
             0.9,
             "#4d9221"
            ],
            [
             1,
             "#276419"
            ]
           ],
           "sequential": [
            [
             0,
             "#0d0887"
            ],
            [
             0.1111111111111111,
             "#46039f"
            ],
            [
             0.2222222222222222,
             "#7201a8"
            ],
            [
             0.3333333333333333,
             "#9c179e"
            ],
            [
             0.4444444444444444,
             "#bd3786"
            ],
            [
             0.5555555555555556,
             "#d8576b"
            ],
            [
             0.6666666666666666,
             "#ed7953"
            ],
            [
             0.7777777777777778,
             "#fb9f3a"
            ],
            [
             0.8888888888888888,
             "#fdca26"
            ],
            [
             1,
             "#f0f921"
            ]
           ],
           "sequentialminus": [
            [
             0,
             "#0d0887"
            ],
            [
             0.1111111111111111,
             "#46039f"
            ],
            [
             0.2222222222222222,
             "#7201a8"
            ],
            [
             0.3333333333333333,
             "#9c179e"
            ],
            [
             0.4444444444444444,
             "#bd3786"
            ],
            [
             0.5555555555555556,
             "#d8576b"
            ],
            [
             0.6666666666666666,
             "#ed7953"
            ],
            [
             0.7777777777777778,
             "#fb9f3a"
            ],
            [
             0.8888888888888888,
             "#fdca26"
            ],
            [
             1,
             "#f0f921"
            ]
           ]
          },
          "colorway": [
           "#636efa",
           "#EF553B",
           "#00cc96",
           "#ab63fa",
           "#FFA15A",
           "#19d3f3",
           "#FF6692",
           "#B6E880",
           "#FF97FF",
           "#FECB52"
          ],
          "font": {
           "color": "#2a3f5f"
          },
          "geo": {
           "bgcolor": "white",
           "lakecolor": "white",
           "landcolor": "#E5ECF6",
           "showlakes": true,
           "showland": true,
           "subunitcolor": "white"
          },
          "hoverlabel": {
           "align": "left"
          },
          "hovermode": "closest",
          "mapbox": {
           "style": "light"
          },
          "paper_bgcolor": "white",
          "plot_bgcolor": "#E5ECF6",
          "polar": {
           "angularaxis": {
            "gridcolor": "white",
            "linecolor": "white",
            "ticks": ""
           },
           "bgcolor": "#E5ECF6",
           "radialaxis": {
            "gridcolor": "white",
            "linecolor": "white",
            "ticks": ""
           }
          },
          "scene": {
           "xaxis": {
            "backgroundcolor": "#E5ECF6",
            "gridcolor": "white",
            "gridwidth": 2,
            "linecolor": "white",
            "showbackground": true,
            "ticks": "",
            "zerolinecolor": "white"
           },
           "yaxis": {
            "backgroundcolor": "#E5ECF6",
            "gridcolor": "white",
            "gridwidth": 2,
            "linecolor": "white",
            "showbackground": true,
            "ticks": "",
            "zerolinecolor": "white"
           },
           "zaxis": {
            "backgroundcolor": "#E5ECF6",
            "gridcolor": "white",
            "gridwidth": 2,
            "linecolor": "white",
            "showbackground": true,
            "ticks": "",
            "zerolinecolor": "white"
           }
          },
          "shapedefaults": {
           "line": {
            "color": "#2a3f5f"
           }
          },
          "ternary": {
           "aaxis": {
            "gridcolor": "white",
            "linecolor": "white",
            "ticks": ""
           },
           "baxis": {
            "gridcolor": "white",
            "linecolor": "white",
            "ticks": ""
           },
           "bgcolor": "#E5ECF6",
           "caxis": {
            "gridcolor": "white",
            "linecolor": "white",
            "ticks": ""
           }
          },
          "title": {
           "x": 0.05
          },
          "xaxis": {
           "automargin": true,
           "gridcolor": "white",
           "linecolor": "white",
           "ticks": "",
           "title": {
            "standoff": 15
           },
           "zerolinecolor": "white",
           "zerolinewidth": 2
          },
          "yaxis": {
           "automargin": true,
           "gridcolor": "white",
           "linecolor": "white",
           "ticks": "",
           "title": {
            "standoff": 15
           },
           "zerolinecolor": "white",
           "zerolinewidth": 2
          }
         }
        },
        "width": 1100
       }
      },
      "image/png": "[encoded data removed]",
      "text/html": [
       "<div>                            <div id=\"36a64687-6d89-41a6-9224-949bcc0ec304\" class=\"plotly-graph-div\" style=\"height:500px; width:1100px;\"></div>            <script type=\"text/javascript\">                require([\"plotly\"], function(Plotly) {                    window.PLOTLYENV=window.PLOTLYENV || {};                                    if (document.getElementById(\"36a64687-6d89-41a6-9224-949bcc0ec304\")) {                    Plotly.newPlot(                        \"36a64687-6d89-41a6-9224-949bcc0ec304\",                        [{\"branchvalues\":\"total\",\"customdata\":[[\"Expropriation\"],[\"Tausch\"],[\"Uebrige\"],[\"Tausch\"],[\"Schenkung/Verm\\u00e4chtnis/Abtretung\"],[\"Uebrige\"],[\"Schenkung/Verm\\u00e4chtnis/Abtretung\"],[\"Kauf\"],[\"Uebrige\"],[\"Kauf\"],[\"Freiwillige Steigerung\"],[\"Uebrige\"],[\"Zwangsverwertung\"],[\"Tausch\"],[\"Uebrige\"],[\"Expropriation\"],[\"Erbfolge\"],[\"Kauf\"],[\"Freiwillige Steigerung\"],[\"Zwangsverwertung\"],[\"Freiwillige Steigerung\"],[\"Schenkung/Verm\\u00e4chtnis/Abtretung\"],[\"Zwangsverwertung\"],[\"Tausch\"],[\"Expropriation\"],[\"Expropriation\"],[\"Erbfolge\"],[\"Kauf\"],[\"Expropriation\"],[\"Erbfolge\"],[\"Zwangsverwertung\"],[\"Schenkung/Verm\\u00e4chtnis/Abtretung\"],[\"Erbfolge\"],[\"Schenkung/Verm\\u00e4chtnis/Abtretung\"],[\"Tausch\"],[\"Erbfolge\"],[\"Kauf\"],[\"Kauf\"],[\"Uebrige\"],[\"Schenkung/Verm\\u00e4chtnis/Abtretung\"],[\"Tausch\"],[\"Erbfolge\"],[\"Erbfolge\"],[\"Expropriation\"],[\"Freiwillige Steigerung\"],[\"Kauf\"],[\"Schenkung/Verm\\u00e4chtnis/Abtretung\"],[\"Tausch\"],[\"Uebrige\"],[\"Zwangsverwertung\"],[\"(?)\"]],\"domain\":{\"x\":[0.0,1.0],\"y\":[0.0,1.0]},\"hovertemplate\":\"labels=%{label}<br>sum_Flaeche=%{value}<br>parent=%{parent}<br>id=%{id}<br>HaeArt=%{customdata[0]}<extra></extra>\",\"ids\":[\"Hand\\u00e4nderungsfl\\u00e4che nach Hand\\u00e4nderungsart und Hand\\u00e4nderungsgrundst\\u00fccktyp seit 2009/Expropriation/Einfamilienh\\u00e4user\",\"Hand\\u00e4nderungsfl\\u00e4che nach Hand\\u00e4nderungsart und Hand\\u00e4nderungsgrundst\\u00fccktyp seit 2009/Tausch/Einfamilienh\\u00e4user\",\"Hand\\u00e4nderungsfl\\u00e4che nach Hand\\u00e4nderungsart und Hand\\u00e4nderungsgrundst\\u00fccktyp seit 2009/Uebrige/Einfamilienh\\u00e4user\",\"Hand\\u00e4nderungsfl\\u00e4che nach Hand\\u00e4nderungsart und Hand\\u00e4nderungsgrundst\\u00fccktyp seit 2009/Tausch/Unbebaut\",\"Hand\\u00e4nderungsfl\\u00e4che nach Hand\\u00e4nderungsart und Hand\\u00e4nderungsgrundst\\u00fccktyp seit 2009/Schenkung/Verm\\u00e4chtnis/Abtretung/Mehrfamilienh\\u00e4user\",\"Hand\\u00e4nderungsfl\\u00e4che nach Hand\\u00e4nderungsart und Hand\\u00e4nderungsgrundst\\u00fccktyp seit 2009/Uebrige/Mehrfamilienh\\u00e4user\",\"Hand\\u00e4nderungsfl\\u00e4che nach Hand\\u00e4nderungsart und Hand\\u00e4nderungsgrundst\\u00fccktyp seit 2009/Schenkung/Verm\\u00e4chtnis/Abtretung/\\u00fcbrige Wohnh\\u00e4user\",\"Hand\\u00e4nderungsfl\\u00e4che nach Hand\\u00e4nderungsart und Hand\\u00e4nderungsgrundst\\u00fccktyp seit 2009/Kauf/\\u00fcbrige Wohnh\\u00e4user\",\"Hand\\u00e4nderungsfl\\u00e4che nach Hand\\u00e4nderungsart und Hand\\u00e4nderungsgrundst\\u00fccktyp seit 2009/Uebrige/Wohnh\\u00e4user mit Gesch\\u00e4ftsr\\u00e4umen\",\"Hand\\u00e4nderungsfl\\u00e4che nach Hand\\u00e4nderungsart und Hand\\u00e4nderungsgrundst\\u00fccktyp seit 2009/Kauf/Wohnh\\u00e4user mit Gesch\\u00e4ftsr\\u00e4umen\",\"Hand\\u00e4nderungsfl\\u00e4che nach Hand\\u00e4nderungsart und Hand\\u00e4nderungsgrundst\\u00fccktyp seit 2009/Freiwillige Steigerung/Wohnh\\u00e4user mit Gesch\\u00e4ftsr\\u00e4umen\",\"Hand\\u00e4nderungsfl\\u00e4che nach Hand\\u00e4nderungsart und Hand\\u00e4nderungsgrundst\\u00fccktyp seit 2009/Uebrige/\\u00fcbrige Wohnh\\u00e4user\",\"Hand\\u00e4nderungsfl\\u00e4che nach Hand\\u00e4nderungsart und Hand\\u00e4nderungsgrundst\\u00fccktyp seit 2009/Zwangsverwertung/Wohnh\\u00e4user mit Gesch\\u00e4ftsr\\u00e4umen\",\"Hand\\u00e4nderungsfl\\u00e4che nach Hand\\u00e4nderungsart und Hand\\u00e4nderungsgrundst\\u00fccktyp seit 2009/Tausch/\\u00fcbrige Wohnh\\u00e4user\",\"Hand\\u00e4nderungsfl\\u00e4che nach Hand\\u00e4nderungsart und Hand\\u00e4nderungsgrundst\\u00fccktyp seit 2009/Uebrige/Nutzbauten\",\"Hand\\u00e4nderungsfl\\u00e4che nach Hand\\u00e4nderungsart und Hand\\u00e4nderungsgrundst\\u00fccktyp seit 2009/Expropriation/Nutzbauten\",\"Hand\\u00e4nderungsfl\\u00e4che nach Hand\\u00e4nderungsart und Hand\\u00e4nderungsgrundst\\u00fccktyp seit 2009/Erbfolge/Einfamilienh\\u00e4user\",\"Hand\\u00e4nderungsfl\\u00e4che nach Hand\\u00e4nderungsart und Hand\\u00e4nderungsgrundst\\u00fccktyp seit 2009/Kauf/Einfamilienh\\u00e4user\",\"Hand\\u00e4nderungsfl\\u00e4che nach Hand\\u00e4nderungsart und Hand\\u00e4nderungsgrundst\\u00fccktyp seit 2009/Freiwillige Steigerung/Mehrfamilienh\\u00e4user\",\"Hand\\u00e4nderungsfl\\u00e4che nach Hand\\u00e4nderungsart und Hand\\u00e4nderungsgrundst\\u00fccktyp seit 2009/Zwangsverwertung/Einfamilienh\\u00e4user\",\"Hand\\u00e4nderungsfl\\u00e4che nach Hand\\u00e4nderungsart und Hand\\u00e4nderungsgrundst\\u00fccktyp seit 2009/Freiwillige Steigerung/Nutzbauten\",\"Hand\\u00e4nderungsfl\\u00e4che nach Hand\\u00e4nderungsart und Hand\\u00e4nderungsgrundst\\u00fccktyp seit 2009/Schenkung/Verm\\u00e4chtnis/Abtretung/Nutzbauten\",\"Hand\\u00e4nderungsfl\\u00e4che nach Hand\\u00e4nderungsart und Hand\\u00e4nderungsgrundst\\u00fccktyp seit 2009/Zwangsverwertung/Mehrfamilienh\\u00e4user\",\"Hand\\u00e4nderungsfl\\u00e4che nach Hand\\u00e4nderungsart und Hand\\u00e4nderungsgrundst\\u00fccktyp seit 2009/Tausch/Mehrfamilienh\\u00e4user\",\"Hand\\u00e4nderungsfl\\u00e4che nach Hand\\u00e4nderungsart und Hand\\u00e4nderungsgrundst\\u00fccktyp seit 2009/Expropriation/Wohnh\\u00e4user mit Gesch\\u00e4ftsr\\u00e4umen\",\"Hand\\u00e4nderungsfl\\u00e4che nach Hand\\u00e4nderungsart und Hand\\u00e4nderungsgrundst\\u00fccktyp seit 2009/Expropriation/Mehrfamilienh\\u00e4user\",\"Hand\\u00e4nderungsfl\\u00e4che nach Hand\\u00e4nderungsart und Hand\\u00e4nderungsgrundst\\u00fccktyp seit 2009/Erbfolge/\\u00fcbrige Wohnh\\u00e4user\",\"Hand\\u00e4nderungsfl\\u00e4che nach Hand\\u00e4nderungsart und Hand\\u00e4nderungsgrundst\\u00fccktyp seit 2009/Kauf/Unbebaut\",\"Hand\\u00e4nderungsfl\\u00e4che nach Hand\\u00e4nderungsart und Hand\\u00e4nderungsgrundst\\u00fccktyp seit 2009/Expropriation/Unbebaut\",\"Hand\\u00e4nderungsfl\\u00e4che nach Hand\\u00e4nderungsart und Hand\\u00e4nderungsgrundst\\u00fccktyp seit 2009/Erbfolge/Unbebaut\",\"Hand\\u00e4nderungsfl\\u00e4che nach Hand\\u00e4nderungsart und Hand\\u00e4nderungsgrundst\\u00fccktyp seit 2009/Zwangsverwertung/Nutzbauten\",\"Hand\\u00e4nderungsfl\\u00e4che nach Hand\\u00e4nderungsart und Hand\\u00e4nderungsgrundst\\u00fccktyp seit 2009/Schenkung/Verm\\u00e4chtnis/Abtretung/Wohnh\\u00e4user mit Gesch\\u00e4ftsr\\u00e4umen\",\"Hand\\u00e4nderungsfl\\u00e4che nach Hand\\u00e4nderungsart und Hand\\u00e4nderungsgrundst\\u00fccktyp seit 2009/Erbfolge/Mehrfamilienh\\u00e4user\",\"Hand\\u00e4nderungsfl\\u00e4che nach Hand\\u00e4nderungsart und Hand\\u00e4nderungsgrundst\\u00fccktyp seit 2009/Schenkung/Verm\\u00e4chtnis/Abtretung/Einfamilienh\\u00e4user\",\"Hand\\u00e4nderungsfl\\u00e4che nach Hand\\u00e4nderungsart und Hand\\u00e4nderungsgrundst\\u00fccktyp seit 2009/Tausch/Nutzbauten\",\"Hand\\u00e4nderungsfl\\u00e4che nach Hand\\u00e4nderungsart und Hand\\u00e4nderungsgrundst\\u00fccktyp seit 2009/Erbfolge/Nutzbauten\",\"Hand\\u00e4nderungsfl\\u00e4che nach Hand\\u00e4nderungsart und Hand\\u00e4nderungsgrundst\\u00fccktyp seit 2009/Kauf/Mehrfamilienh\\u00e4user\",\"Hand\\u00e4nderungsfl\\u00e4che nach Hand\\u00e4nderungsart und Hand\\u00e4nderungsgrundst\\u00fccktyp seit 2009/Kauf/Nutzbauten\",\"Hand\\u00e4nderungsfl\\u00e4che nach Hand\\u00e4nderungsart und Hand\\u00e4nderungsgrundst\\u00fccktyp seit 2009/Uebrige/Unbebaut\",\"Hand\\u00e4nderungsfl\\u00e4che nach Hand\\u00e4nderungsart und Hand\\u00e4nderungsgrundst\\u00fccktyp seit 2009/Schenkung/Verm\\u00e4chtnis/Abtretung/Unbebaut\",\"Hand\\u00e4nderungsfl\\u00e4che nach Hand\\u00e4nderungsart und Hand\\u00e4nderungsgrundst\\u00fccktyp seit 2009/Tausch/Wohnh\\u00e4user mit Gesch\\u00e4ftsr\\u00e4umen\",\"Hand\\u00e4nderungsfl\\u00e4che nach Hand\\u00e4nderungsart und Hand\\u00e4nderungsgrundst\\u00fccktyp seit 2009/Erbfolge/Wohnh\\u00e4user mit Gesch\\u00e4ftsr\\u00e4umen\",\"Hand\\u00e4nderungsfl\\u00e4che nach Hand\\u00e4nderungsart und Hand\\u00e4nderungsgrundst\\u00fccktyp seit 2009/Erbfolge\",\"Hand\\u00e4nderungsfl\\u00e4che nach Hand\\u00e4nderungsart und Hand\\u00e4nderungsgrundst\\u00fccktyp seit 2009/Expropriation\",\"Hand\\u00e4nderungsfl\\u00e4che nach Hand\\u00e4nderungsart und Hand\\u00e4nderungsgrundst\\u00fccktyp seit 2009/Freiwillige Steigerung\",\"Hand\\u00e4nderungsfl\\u00e4che nach Hand\\u00e4nderungsart und Hand\\u00e4nderungsgrundst\\u00fccktyp seit 2009/Kauf\",\"Hand\\u00e4nderungsfl\\u00e4che nach Hand\\u00e4nderungsart und Hand\\u00e4nderungsgrundst\\u00fccktyp seit 2009/Schenkung/Verm\\u00e4chtnis/Abtretung\",\"Hand\\u00e4nderungsfl\\u00e4che nach Hand\\u00e4nderungsart und Hand\\u00e4nderungsgrundst\\u00fccktyp seit 2009/Tausch\",\"Hand\\u00e4nderungsfl\\u00e4che nach Hand\\u00e4nderungsart und Hand\\u00e4nderungsgrundst\\u00fccktyp seit 2009/Uebrige\",\"Hand\\u00e4nderungsfl\\u00e4che nach Hand\\u00e4nderungsart und Hand\\u00e4nderungsgrundst\\u00fccktyp seit 2009/Zwangsverwertung\",\"Hand\\u00e4nderungsfl\\u00e4che nach Hand\\u00e4nderungsart und Hand\\u00e4nderungsgrundst\\u00fccktyp seit 2009\"],\"labels\":[\"Einfamilienh\\u00e4user\",\"Einfamilienh\\u00e4user\",\"Einfamilienh\\u00e4user\",\"Unbebaut\",\"Mehrfamilienh\\u00e4user\",\"Mehrfamilienh\\u00e4user\",\"\\u00fcbrige Wohnh\\u00e4user\",\"\\u00fcbrige Wohnh\\u00e4user\",\"Wohnh\\u00e4user mit Gesch\\u00e4ftsr\\u00e4umen\",\"Wohnh\\u00e4user mit Gesch\\u00e4ftsr\\u00e4umen\",\"Wohnh\\u00e4user mit Gesch\\u00e4ftsr\\u00e4umen\",\"\\u00fcbrige Wohnh\\u00e4user\",\"Wohnh\\u00e4user mit Gesch\\u00e4ftsr\\u00e4umen\",\"\\u00fcbrige Wohnh\\u00e4user\",\"Nutzbauten\",\"Nutzbauten\",\"Einfamilienh\\u00e4user\",\"Einfamilienh\\u00e4user\",\"Mehrfamilienh\\u00e4user\",\"Einfamilienh\\u00e4user\",\"Nutzbauten\",\"Nutzbauten\",\"Mehrfamilienh\\u00e4user\",\"Mehrfamilienh\\u00e4user\",\"Wohnh\\u00e4user mit Gesch\\u00e4ftsr\\u00e4umen\",\"Mehrfamilienh\\u00e4user\",\"\\u00fcbrige Wohnh\\u00e4user\",\"Unbebaut\",\"Unbebaut\",\"Unbebaut\",\"Nutzbauten\",\"Wohnh\\u00e4user mit Gesch\\u00e4ftsr\\u00e4umen\",\"Mehrfamilienh\\u00e4user\",\"Einfamilienh\\u00e4user\",\"Nutzbauten\",\"Nutzbauten\",\"Mehrfamilienh\\u00e4user\",\"Nutzbauten\",\"Unbebaut\",\"Unbebaut\",\"Wohnh\\u00e4user mit Gesch\\u00e4ftsr\\u00e4umen\",\"Wohnh\\u00e4user mit Gesch\\u00e4ftsr\\u00e4umen\",\"Erbfolge\",\"Expropriation\",\"Freiwillige Steigerung\",\"Kauf\",\"Schenkung/Verm\\u00e4chtnis/Abtretung\",\"Tausch\",\"Uebrige\",\"Zwangsverwertung\",\"Hand\\u00e4nderungsfl\\u00e4che nach Hand\\u00e4nderungsart und Hand\\u00e4nderungsgrundst\\u00fccktyp seit 2009\"],\"marker\":{\"colors\":[\"#00cc96\",\"#ab63fa\",\"#FFA15A\",\"#ab63fa\",\"#19d3f3\",\"#FFA15A\",\"#19d3f3\",\"#FF6692\",\"#FFA15A\",\"#FF6692\",\"#B6E880\",\"#FFA15A\",\"#FF97FF\",\"#ab63fa\",\"#FFA15A\",\"#00cc96\",\"#FECB52\",\"#FF6692\",\"#B6E880\",\"#FF97FF\",\"#B6E880\",\"#19d3f3\",\"#FF97FF\",\"#ab63fa\",\"#00cc96\",\"#00cc96\",\"#FECB52\",\"#FF6692\",\"#00cc96\",\"#FECB52\",\"#FF97FF\",\"#19d3f3\",\"#FECB52\",\"#19d3f3\",\"#ab63fa\",\"#FECB52\",\"#FF6692\",\"#FF6692\",\"#FFA15A\",\"#19d3f3\",\"#ab63fa\",\"#FECB52\",\"#FECB52\",\"#00cc96\",\"#B6E880\",\"#FF6692\",\"#19d3f3\",\"#ab63fa\",\"#FFA15A\",\"#FF97FF\",\"lightgrey\"]},\"name\":\"\",\"parents\":[\"Hand\\u00e4nderungsfl\\u00e4che nach Hand\\u00e4nderungsart und Hand\\u00e4nderungsgrundst\\u00fccktyp seit 2009/Expropriation\",\"Hand\\u00e4nderungsfl\\u00e4che nach Hand\\u00e4nderungsart und Hand\\u00e4nderungsgrundst\\u00fccktyp seit 2009/Tausch\",\"Hand\\u00e4nderungsfl\\u00e4che nach Hand\\u00e4nderungsart und Hand\\u00e4nderungsgrundst\\u00fccktyp seit 2009/Uebrige\",\"Hand\\u00e4nderungsfl\\u00e4che nach Hand\\u00e4nderungsart und Hand\\u00e4nderungsgrundst\\u00fccktyp seit 2009/Tausch\",\"Hand\\u00e4nderungsfl\\u00e4che nach Hand\\u00e4nderungsart und Hand\\u00e4nderungsgrundst\\u00fccktyp seit 2009/Schenkung/Verm\\u00e4chtnis/Abtretung\",\"Hand\\u00e4nderungsfl\\u00e4che nach Hand\\u00e4nderungsart und Hand\\u00e4nderungsgrundst\\u00fccktyp seit 2009/Uebrige\",\"Hand\\u00e4nderungsfl\\u00e4che nach Hand\\u00e4nderungsart und Hand\\u00e4nderungsgrundst\\u00fccktyp seit 2009/Schenkung/Verm\\u00e4chtnis/Abtretung\",\"Hand\\u00e4nderungsfl\\u00e4che nach Hand\\u00e4nderungsart und Hand\\u00e4nderungsgrundst\\u00fccktyp seit 2009/Kauf\",\"Hand\\u00e4nderungsfl\\u00e4che nach Hand\\u00e4nderungsart und Hand\\u00e4nderungsgrundst\\u00fccktyp seit 2009/Uebrige\",\"Hand\\u00e4nderungsfl\\u00e4che nach Hand\\u00e4nderungsart und Hand\\u00e4nderungsgrundst\\u00fccktyp seit 2009/Kauf\",\"Hand\\u00e4nderungsfl\\u00e4che nach Hand\\u00e4nderungsart und Hand\\u00e4nderungsgrundst\\u00fccktyp seit 2009/Freiwillige Steigerung\",\"Hand\\u00e4nderungsfl\\u00e4che nach Hand\\u00e4nderungsart und Hand\\u00e4nderungsgrundst\\u00fccktyp seit 2009/Uebrige\",\"Hand\\u00e4nderungsfl\\u00e4che nach Hand\\u00e4nderungsart und Hand\\u00e4nderungsgrundst\\u00fccktyp seit 2009/Zwangsverwertung\",\"Hand\\u00e4nderungsfl\\u00e4che nach Hand\\u00e4nderungsart und Hand\\u00e4nderungsgrundst\\u00fccktyp seit 2009/Tausch\",\"Hand\\u00e4nderungsfl\\u00e4che nach Hand\\u00e4nderungsart und Hand\\u00e4nderungsgrundst\\u00fccktyp seit 2009/Uebrige\",\"Hand\\u00e4nderungsfl\\u00e4che nach Hand\\u00e4nderungsart und Hand\\u00e4nderungsgrundst\\u00fccktyp seit 2009/Expropriation\",\"Hand\\u00e4nderungsfl\\u00e4che nach Hand\\u00e4nderungsart und Hand\\u00e4nderungsgrundst\\u00fccktyp seit 2009/Erbfolge\",\"Hand\\u00e4nderungsfl\\u00e4che nach Hand\\u00e4nderungsart und Hand\\u00e4nderungsgrundst\\u00fccktyp seit 2009/Kauf\",\"Hand\\u00e4nderungsfl\\u00e4che nach Hand\\u00e4nderungsart und Hand\\u00e4nderungsgrundst\\u00fccktyp seit 2009/Freiwillige Steigerung\",\"Hand\\u00e4nderungsfl\\u00e4che nach Hand\\u00e4nderungsart und Hand\\u00e4nderungsgrundst\\u00fccktyp seit 2009/Zwangsverwertung\",\"Hand\\u00e4nderungsfl\\u00e4che nach Hand\\u00e4nderungsart und Hand\\u00e4nderungsgrundst\\u00fccktyp seit 2009/Freiwillige Steigerung\",\"Hand\\u00e4nderungsfl\\u00e4che nach Hand\\u00e4nderungsart und Hand\\u00e4nderungsgrundst\\u00fccktyp seit 2009/Schenkung/Verm\\u00e4chtnis/Abtretung\",\"Hand\\u00e4nderungsfl\\u00e4che nach Hand\\u00e4nderungsart und Hand\\u00e4nderungsgrundst\\u00fccktyp seit 2009/Zwangsverwertung\",\"Hand\\u00e4nderungsfl\\u00e4che nach Hand\\u00e4nderungsart und Hand\\u00e4nderungsgrundst\\u00fccktyp seit 2009/Tausch\",\"Hand\\u00e4nderungsfl\\u00e4che nach Hand\\u00e4nderungsart und Hand\\u00e4nderungsgrundst\\u00fccktyp seit 2009/Expropriation\",\"Hand\\u00e4nderungsfl\\u00e4che nach Hand\\u00e4nderungsart und Hand\\u00e4nderungsgrundst\\u00fccktyp seit 2009/Expropriation\",\"Hand\\u00e4nderungsfl\\u00e4che nach Hand\\u00e4nderungsart und Hand\\u00e4nderungsgrundst\\u00fccktyp seit 2009/Erbfolge\",\"Hand\\u00e4nderungsfl\\u00e4che nach Hand\\u00e4nderungsart und Hand\\u00e4nderungsgrundst\\u00fccktyp seit 2009/Kauf\",\"Hand\\u00e4nderungsfl\\u00e4che nach Hand\\u00e4nderungsart und Hand\\u00e4nderungsgrundst\\u00fccktyp seit 2009/Expropriation\",\"Hand\\u00e4nderungsfl\\u00e4che nach Hand\\u00e4nderungsart und Hand\\u00e4nderungsgrundst\\u00fccktyp seit 2009/Erbfolge\",\"Hand\\u00e4nderungsfl\\u00e4che nach Hand\\u00e4nderungsart und Hand\\u00e4nderungsgrundst\\u00fccktyp seit 2009/Zwangsverwertung\",\"Hand\\u00e4nderungsfl\\u00e4che nach Hand\\u00e4nderungsart und Hand\\u00e4nderungsgrundst\\u00fccktyp seit 2009/Schenkung/Verm\\u00e4chtnis/Abtretung\",\"Hand\\u00e4nderungsfl\\u00e4che nach Hand\\u00e4nderungsart und Hand\\u00e4nderungsgrundst\\u00fccktyp seit 2009/Erbfolge\",\"Hand\\u00e4nderungsfl\\u00e4che nach Hand\\u00e4nderungsart und Hand\\u00e4nderungsgrundst\\u00fccktyp seit 2009/Schenkung/Verm\\u00e4chtnis/Abtretung\",\"Hand\\u00e4nderungsfl\\u00e4che nach Hand\\u00e4nderungsart und Hand\\u00e4nderungsgrundst\\u00fccktyp seit 2009/Tausch\",\"Hand\\u00e4nderungsfl\\u00e4che nach Hand\\u00e4nderungsart und Hand\\u00e4nderungsgrundst\\u00fccktyp seit 2009/Erbfolge\",\"Hand\\u00e4nderungsfl\\u00e4che nach Hand\\u00e4nderungsart und Hand\\u00e4nderungsgrundst\\u00fccktyp seit 2009/Kauf\",\"Hand\\u00e4nderungsfl\\u00e4che nach Hand\\u00e4nderungsart und Hand\\u00e4nderungsgrundst\\u00fccktyp seit 2009/Kauf\",\"Hand\\u00e4nderungsfl\\u00e4che nach Hand\\u00e4nderungsart und Hand\\u00e4nderungsgrundst\\u00fccktyp seit 2009/Uebrige\",\"Hand\\u00e4nderungsfl\\u00e4che nach Hand\\u00e4nderungsart und Hand\\u00e4nderungsgrundst\\u00fccktyp seit 2009/Schenkung/Verm\\u00e4chtnis/Abtretung\",\"Hand\\u00e4nderungsfl\\u00e4che nach Hand\\u00e4nderungsart und Hand\\u00e4nderungsgrundst\\u00fccktyp seit 2009/Tausch\",\"Hand\\u00e4nderungsfl\\u00e4che nach Hand\\u00e4nderungsart und Hand\\u00e4nderungsgrundst\\u00fccktyp seit 2009/Erbfolge\",\"Hand\\u00e4nderungsfl\\u00e4che nach Hand\\u00e4nderungsart und Hand\\u00e4nderungsgrundst\\u00fccktyp seit 2009\",\"Hand\\u00e4nderungsfl\\u00e4che nach Hand\\u00e4nderungsart und Hand\\u00e4nderungsgrundst\\u00fccktyp seit 2009\",\"Hand\\u00e4nderungsfl\\u00e4che nach Hand\\u00e4nderungsart und Hand\\u00e4nderungsgrundst\\u00fccktyp seit 2009\",\"Hand\\u00e4nderungsfl\\u00e4che nach Hand\\u00e4nderungsart und Hand\\u00e4nderungsgrundst\\u00fccktyp seit 2009\",\"Hand\\u00e4nderungsfl\\u00e4che nach Hand\\u00e4nderungsart und Hand\\u00e4nderungsgrundst\\u00fccktyp seit 2009\",\"Hand\\u00e4nderungsfl\\u00e4che nach Hand\\u00e4nderungsart und Hand\\u00e4nderungsgrundst\\u00fccktyp seit 2009\",\"Hand\\u00e4nderungsfl\\u00e4che nach Hand\\u00e4nderungsart und Hand\\u00e4nderungsgrundst\\u00fccktyp seit 2009\",\"Hand\\u00e4nderungsfl\\u00e4che nach Hand\\u00e4nderungsart und Hand\\u00e4nderungsgrundst\\u00fccktyp seit 2009\",\"\"],\"root\":{\"color\":\"grey\"},\"type\":\"treemap\",\"values\":[757.0,2065.0,242818.5979999999,95972.75,755288.4962399992,2698068.135399998,5972.0,35092.717,1542793.1076566656,891001.9961201992,501.0,118571.0,627.272,5147.0,2014591.496278782,166.0,1069786.5602222215,771582.1486812128,698.0,4435.0,483.0,159949.52896153842,4557.9815,11935.058,760.124,1225.51,12916.885,1901930.1447072935,398.0,1129893.3626169153,1890.154,243295.71004920627,2817535.5691888845,311806.0334303723,54862.4869948718,612928.3676904751,1901851.4418990111,1684263.9374050454,319882.2842893343,580978.8802949607,21218.72,1395299.5522308815,7038360.296949378,3306.634,1682.0,7185722.385812762,2057290.6489760769,191201.0149948718,6936724.62162478,11510.4075,23425798.009857867]}],                        {\"height\":500,\"legend\":{\"tracegroupgap\":0},\"margin\":{\"b\":25,\"l\":25,\"r\":250,\"t\":50},\"template\":{\"data\":{\"bar\":[{\"error_x\":{\"color\":\"#2a3f5f\"},\"error_y\":{\"color\":\"#2a3f5f\"},\"marker\":{\"line\":{\"color\":\"#E5ECF6\",\"width\":0.5},\"pattern\":{\"fillmode\":\"overlay\",\"size\":10,\"solidity\":0.2}},\"type\":\"bar\"}],\"barpolar\":[{\"marker\":{\"line\":{\"color\":\"#E5ECF6\",\"width\":0.5},\"pattern\":{\"fillmode\":\"overlay\",\"size\":10,\"solidity\":0.2}},\"type\":\"barpolar\"}],\"carpet\":[{\"aaxis\":{\"endlinecolor\":\"#2a3f5f\",\"gridcolor\":\"white\",\"linecolor\":\"white\",\"minorgridcolor\":\"white\",\"startlinecolor\":\"#2a3f5f\"},\"baxis\":{\"endlinecolor\":\"#2a3f5f\",\"gridcolor\":\"white\",\"linecolor\":\"white\",\"minorgridcolor\":\"white\",\"startlinecolor\":\"#2a3f5f\"},\"type\":\"carpet\"}],\"choropleth\":[{\"colorbar\":{\"outlinewidth\":0,\"ticks\":\"\"},\"type\":\"choropleth\"}],\"contour\":[{\"colorbar\":{\"outlinewidth\":0,\"ticks\":\"\"},\"colorscale\":[[0.0,\"#0d0887\"],[0.1111111111111111,\"#46039f\"],[0.2222222222222222,\"#7201a8\"],[0.3333333333333333,\"#9c179e\"],[0.4444444444444444,\"#bd3786\"],[0.5555555555555556,\"#d8576b\"],[0.6666666666666666,\"#ed7953\"],[0.7777777777777778,\"#fb9f3a\"],[0.8888888888888888,\"#fdca26\"],[1.0,\"#f0f921\"]],\"type\":\"contour\"}],\"contourcarpet\":[{\"colorbar\":{\"outlinewidth\":0,\"ticks\":\"\"},\"type\":\"contourcarpet\"}],\"heatmap\":[{\"colorbar\":{\"outlinewidth\":0,\"ticks\":\"\"},\"colorscale\":[[0.0,\"#0d0887\"],[0.1111111111111111,\"#46039f\"],[0.2222222222222222,\"#7201a8\"],[0.3333333333333333,\"#9c179e\"],[0.4444444444444444,\"#bd3786\"],[0.5555555555555556,\"#d8576b\"],[0.6666666666666666,\"#ed7953\"],[0.7777777777777778,\"#fb9f3a\"],[0.8888888888888888,\"#fdca26\"],[1.0,\"#f0f921\"]],\"type\":\"heatmap\"}],\"heatmapgl\":[{\"colorbar\":{\"outlinewidth\":0,\"ticks\":\"\"},\"colorscale\":[[0.0,\"#0d0887\"],[0.1111111111111111,\"#46039f\"],[0.2222222222222222,\"#7201a8\"],[0.3333333333333333,\"#9c179e\"],[0.4444444444444444,\"#bd3786\"],[0.5555555555555556,\"#d8576b\"],[0.6666666666666666,\"#ed7953\"],[0.7777777777777778,\"#fb9f3a\"],[0.8888888888888888,\"#fdca26\"],[1.0,\"#f0f921\"]],\"type\":\"heatmapgl\"}],\"histogram\":[{\"marker\":{\"pattern\":{\"fillmode\":\"overlay\",\"size\":10,\"solidity\":0.2}},\"type\":\"histogram\"}],\"histogram2d\":[{\"colorbar\":{\"outlinewidth\":0,\"ticks\":\"\"},\"colorscale\":[[0.0,\"#0d0887\"],[0.1111111111111111,\"#46039f\"],[0.2222222222222222,\"#7201a8\"],[0.3333333333333333,\"#9c179e\"],[0.4444444444444444,\"#bd3786\"],[0.5555555555555556,\"#d8576b\"],[0.6666666666666666,\"#ed7953\"],[0.7777777777777778,\"#fb9f3a\"],[0.8888888888888888,\"#fdca26\"],[1.0,\"#f0f921\"]],\"type\":\"histogram2d\"}],\"histogram2dcontour\":[{\"colorbar\":{\"outlinewidth\":0,\"ticks\":\"\"},\"colorscale\":[[0.0,\"#0d0887\"],[0.1111111111111111,\"#46039f\"],[0.2222222222222222,\"#7201a8\"],[0.3333333333333333,\"#9c179e\"],[0.4444444444444444,\"#bd3786\"],[0.5555555555555556,\"#d8576b\"],[0.6666666666666666,\"#ed7953\"],[0.7777777777777778,\"#fb9f3a\"],[0.8888888888888888,\"#fdca26\"],[1.0,\"#f0f921\"]],\"type\":\"histogram2dcontour\"}],\"mesh3d\":[{\"colorbar\":{\"outlinewidth\":0,\"ticks\":\"\"},\"type\":\"mesh3d\"}],\"parcoords\":[{\"line\":{\"colorbar\":{\"outlinewidth\":0,\"ticks\":\"\"}},\"type\":\"parcoords\"}],\"pie\":[{\"automargin\":true,\"type\":\"pie\"}],\"scatter\":[{\"marker\":{\"colorbar\":{\"outlinewidth\":0,\"ticks\":\"\"}},\"type\":\"scatter\"}],\"scatter3d\":[{\"line\":{\"colorbar\":{\"outlinewidth\":0,\"ticks\":\"\"}},\"marker\":{\"colorbar\":{\"outlinewidth\":0,\"ticks\":\"\"}},\"type\":\"scatter3d\"}],\"scattercarpet\":[{\"marker\":{\"colorbar\":{\"outlinewidth\":0,\"ticks\":\"\"}},\"type\":\"scattercarpet\"}],\"scattergeo\":[{\"marker\":{\"colorbar\":{\"outlinewidth\":0,\"ticks\":\"\"}},\"type\":\"scattergeo\"}],\"scattergl\":[{\"marker\":{\"colorbar\":{\"outlinewidth\":0,\"ticks\":\"\"}},\"type\":\"scattergl\"}],\"scattermapbox\":[{\"marker\":{\"colorbar\":{\"outlinewidth\":0,\"ticks\":\"\"}},\"type\":\"scattermapbox\"}],\"scatterpolar\":[{\"marker\":{\"colorbar\":{\"outlinewidth\":0,\"ticks\":\"\"}},\"type\":\"scatterpolar\"}],\"scatterpolargl\":[{\"marker\":{\"colorbar\":{\"outlinewidth\":0,\"ticks\":\"\"}},\"type\":\"scatterpolargl\"}],\"scatterternary\":[{\"marker\":{\"colorbar\":{\"outlinewidth\":0,\"ticks\":\"\"}},\"type\":\"scatterternary\"}],\"surface\":[{\"colorbar\":{\"outlinewidth\":0,\"ticks\":\"\"},\"colorscale\":[[0.0,\"#0d0887\"],[0.1111111111111111,\"#46039f\"],[0.2222222222222222,\"#7201a8\"],[0.3333333333333333,\"#9c179e\"],[0.4444444444444444,\"#bd3786\"],[0.5555555555555556,\"#d8576b\"],[0.6666666666666666,\"#ed7953\"],[0.7777777777777778,\"#fb9f3a\"],[0.8888888888888888,\"#fdca26\"],[1.0,\"#f0f921\"]],\"type\":\"surface\"}],\"table\":[{\"cells\":{\"fill\":{\"color\":\"#EBF0F8\"},\"line\":{\"color\":\"white\"}},\"header\":{\"fill\":{\"color\":\"#C8D4E3\"},\"line\":{\"color\":\"white\"}},\"type\":\"table\"}]},\"layout\":{\"annotationdefaults\":{\"arrowcolor\":\"#2a3f5f\",\"arrowhead\":0,\"arrowwidth\":1},\"autotypenumbers\":\"strict\",\"coloraxis\":{\"colorbar\":{\"outlinewidth\":0,\"ticks\":\"\"}},\"colorscale\":{\"diverging\":[[0,\"#8e0152\"],[0.1,\"#c51b7d\"],[0.2,\"#de77ae\"],[0.3,\"#f1b6da\"],[0.4,\"#fde0ef\"],[0.5,\"#f7f7f7\"],[0.6,\"#e6f5d0\"],[0.7,\"#b8e186\"],[0.8,\"#7fbc41\"],[0.9,\"#4d9221\"],[1,\"#276419\"]],\"sequential\":[[0.0,\"#0d0887\"],[0.1111111111111111,\"#46039f\"],[0.2222222222222222,\"#7201a8\"],[0.3333333333333333,\"#9c179e\"],[0.4444444444444444,\"#bd3786\"],[0.5555555555555556,\"#d8576b\"],[0.6666666666666666,\"#ed7953\"],[0.7777777777777778,\"#fb9f3a\"],[0.8888888888888888,\"#fdca26\"],[1.0,\"#f0f921\"]],\"sequentialminus\":[[0.0,\"#0d0887\"],[0.1111111111111111,\"#46039f\"],[0.2222222222222222,\"#7201a8\"],[0.3333333333333333,\"#9c179e\"],[0.4444444444444444,\"#bd3786\"],[0.5555555555555556,\"#d8576b\"],[0.6666666666666666,\"#ed7953\"],[0.7777777777777778,\"#fb9f3a\"],[0.8888888888888888,\"#fdca26\"],[1.0,\"#f0f921\"]]},\"colorway\":[\"#636efa\",\"#EF553B\",\"#00cc96\",\"#ab63fa\",\"#FFA15A\",\"#19d3f3\",\"#FF6692\",\"#B6E880\",\"#FF97FF\",\"#FECB52\"],\"font\":{\"color\":\"#2a3f5f\"},\"geo\":{\"bgcolor\":\"white\",\"lakecolor\":\"white\",\"landcolor\":\"#E5ECF6\",\"showlakes\":true,\"showland\":true,\"subunitcolor\":\"white\"},\"hoverlabel\":{\"align\":\"left\"},\"hovermode\":\"closest\",\"mapbox\":{\"style\":\"light\"},\"paper_bgcolor\":\"white\",\"plot_bgcolor\":\"#E5ECF6\",\"polar\":{\"angularaxis\":{\"gridcolor\":\"white\",\"linecolor\":\"white\",\"ticks\":\"\"},\"bgcolor\":\"#E5ECF6\",\"radialaxis\":{\"gridcolor\":\"white\",\"linecolor\":\"white\",\"ticks\":\"\"}},\"scene\":{\"xaxis\":{\"backgroundcolor\":\"#E5ECF6\",\"gridcolor\":\"white\",\"gridwidth\":2,\"linecolor\":\"white\",\"showbackground\":true,\"ticks\":\"\",\"zerolinecolor\":\"white\"},\"yaxis\":{\"backgroundcolor\":\"#E5ECF6\",\"gridcolor\":\"white\",\"gridwidth\":2,\"linecolor\":\"white\",\"showbackground\":true,\"ticks\":\"\",\"zerolinecolor\":\"white\"},\"zaxis\":{\"backgroundcolor\":\"#E5ECF6\",\"gridcolor\":\"white\",\"gridwidth\":2,\"linecolor\":\"white\",\"showbackground\":true,\"ticks\":\"\",\"zerolinecolor\":\"white\"}},\"shapedefaults\":{\"line\":{\"color\":\"#2a3f5f\"}},\"ternary\":{\"aaxis\":{\"gridcolor\":\"white\",\"linecolor\":\"white\",\"ticks\":\"\"},\"baxis\":{\"gridcolor\":\"white\",\"linecolor\":\"white\",\"ticks\":\"\"},\"bgcolor\":\"#E5ECF6\",\"caxis\":{\"gridcolor\":\"white\",\"linecolor\":\"white\",\"ticks\":\"\"}},\"title\":{\"x\":0.05},\"xaxis\":{\"automargin\":true,\"gridcolor\":\"white\",\"linecolor\":\"white\",\"ticks\":\"\",\"title\":{\"standoff\":15},\"zerolinecolor\":\"white\",\"zerolinewidth\":2},\"yaxis\":{\"automargin\":true,\"gridcolor\":\"white\",\"linecolor\":\"white\",\"ticks\":\"\",\"title\":{\"standoff\":15},\"zerolinecolor\":\"white\",\"zerolinewidth\":2}}},\"width\":1100},                        {\"responsive\": true}                    ).then(function(){\n",
       "                            \n",
       "var gd = document.getElementById('36a64687-6d89-41a6-9224-949bcc0ec304');\n",
       "var x = new MutationObserver(function (mutations, observer) {{\n",
       "        var display = window.getComputedStyle(gd).display;\n",
       "        if (!display || display === 'none') {{\n",
       "            console.log([gd, 'removed!']);\n",
       "            Plotly.purge(gd);\n",
       "            observer.disconnect();\n",
       "        }}\n",
       "}});\n",
       "\n",
       "// Listen for the removal of the full notebook cells\n",
       "var notebookContainer = gd.closest('#notebook-container');\n",
       "if (notebookContainer) {{\n",
       "    x.observe(notebookContainer, {childList: true});\n",
       "}}\n",
       "\n",
       "// Listen for the clearing of the current output cell\n",
       "var outputEl = gd.closest('.output');\n",
       "if (outputEl) {{\n",
       "    x.observe(outputEl, {childList: true});\n",
       "}}\n",
       "\n",
       "                        })                };                });            </script>        </div>"
      ]
     },
     "metadata": {},
     "output_type": "display_data"
    }
   ],
   "source": [
    "fig = px.treemap(myTreemapAgg.query('sum_Flaeche >0').reset_index(), path=[px.Constant(\"Handänderungsfläche nach Handänderungsart und Handänderungsgrundstücktyp seit 2009\")\n",
    "                                                                          ,'HaeArt','HaeGrstTyp']\n",
    "                 , values='sum_Flaeche'\n",
    "                 , color='HaeArt'               \n",
    "                 , color_discrete_map={'(?)':'lightgrey','EVP':'gold', 'SP':'#FF3030', 'PdA':'#EE3B3B', 'Grüne':'#A2CD5A','GLP':'#CAFF70','Die Mitte':'orange','FDP':'#104E8B','AL':'deeppink','SVP':'forestgreen', 'FL ZÜRI':'#8B864E','Volt':'#lightblue' }                \n",
    "                 ## bei continuous scales (bei Zahlenwerten):\n",
    "                 ,color_continuous_scale='viridis'\n",
    "                 ,height=500 , width=1100                 \n",
    "                )\n",
    "fig.update_traces(root_color=\"grey\")\n",
    "fig.update_layout(margin = dict(t=50, l=25, r=250, b=25))\n",
    "fig.show()"
   ]
  },
  {
   "cell_type": "code",
   "execution_count": 134,
   "metadata": {},
   "outputs": [],
   "source": [
    "#data2betested.dtypes"
   ]
  },
  {
   "cell_type": "markdown",
   "metadata": {},
   "source": [
    "**Sharepoint als gecheckt markieren!**"
   ]
  },
  {
   "cell_type": "markdown",
   "metadata": {},
   "source": [
    "Record auf Sharepoint: **[Link](https://kollaboration.intranet.stzh.ch/orga/ssz-produkte/Lists/SASA_Outputs/DispForm.aspx?ID=277&ContentTypeId=0x0100988EAF029F1EFE4CA675F53C32A5D53D01006DBC563E6FBE9E4EB6FDC780799752E1)**"
   ]
  },
  {
   "cell_type": "markdown",
   "metadata": {},
   "source": [
    "## ---------------------- hier Plausi beendet\n",
    "\n",
    "Liniendiagramm \n",
    "[Link zur Doku](https://altair-viz.github.io/gallery/multiline_highlight.html)"
   ]
  },
  {
   "cell_type": "markdown",
   "metadata": {
    "tags": []
   },
   "source": [
    "### Test: Choroplethenkarte\n",
    "Importiere die Geodaten als GeoJSON"
   ]
  },
  {
   "cell_type": "markdown",
   "metadata": {},
   "source": [
    "#### Stadtkreise"
   ]
  },
  {
   "cell_type": "code",
   "execution_count": 124,
   "metadata": {},
   "outputs": [
    {
     "data": {
      "text/html": [
       "<div>\n",
       "<style scoped>\n",
       "    .dataframe tbody tr th:only-of-type {\n",
       "        vertical-align: middle;\n",
       "    }\n",
       "\n",
       "    .dataframe tbody tr th {\n",
       "        vertical-align: top;\n",
       "    }\n",
       "\n",
       "    .dataframe thead th {\n",
       "        text-align: right;\n",
       "    }\n",
       "</style>\n",
       "<table border=\"1\" class=\"dataframe\">\n",
       "  <thead>\n",
       "    <tr style=\"text-align: right;\">\n",
       "      <th></th>\n",
       "      <th>id</th>\n",
       "      <th>kname</th>\n",
       "      <th>knr</th>\n",
       "      <th>objid</th>\n",
       "      <th>geometry</th>\n",
       "    </tr>\n",
       "  </thead>\n",
       "  <tbody>\n",
       "    <tr>\n",
       "      <th>0</th>\n",
       "      <td>adm_stadtkreise_v.6</td>\n",
       "      <td>Kreis 7</td>\n",
       "      <td>7</td>\n",
       "      <td>6</td>\n",
       "      <td>POLYGON ((8.54885 47.36602, 8.54901 47.36601, ...</td>\n",
       "    </tr>\n",
       "  </tbody>\n",
       "</table>\n",
       "</div>"
      ],
      "text/plain": [
       "                    id    kname  knr objid                                           geometry\n",
       "0  adm_stadtkreise_v.6  Kreis 7    7     6  POLYGON ((8.54885 47.36602, 8.54901 47.36601, ..."
      ]
     },
     "execution_count": 124,
     "metadata": {},
     "output_type": "execute_result"
    }
   ],
   "source": [
    "# Read abt. Geopandas https://geopandas.org/docs/user_guide/io.html\n",
    "geojson_url_kreise = \"https://www.ogd.stadt-zuerich.ch/wfs/geoportal/Stadtkreise?service=WFS&version=1.1.0&request=GetFeature&outputFormat=GeoJSON&typename=adm_stadtkreise_v\"\n",
    "adm_stadtkreise_v = gpd.read_file(geojson_url_kreise)\n",
    "\n",
    "adm_stadtkreise_v.head(1)\n"
   ]
  },
  {
   "cell_type": "markdown",
   "metadata": {},
   "source": [
    "#### Statistische Zonen"
   ]
  },
  {
   "cell_type": "code",
   "execution_count": 115,
   "metadata": {},
   "outputs": [
    {
     "data": {
      "text/html": [
       "<div>\n",
       "<style scoped>\n",
       "    .dataframe tbody tr th:only-of-type {\n",
       "        vertical-align: middle;\n",
       "    }\n",
       "\n",
       "    .dataframe tbody tr th {\n",
       "        vertical-align: top;\n",
       "    }\n",
       "\n",
       "    .dataframe thead th {\n",
       "        text-align: right;\n",
       "    }\n",
       "</style>\n",
       "<table border=\"1\" class=\"dataframe\">\n",
       "  <thead>\n",
       "    <tr style=\"text-align: right;\">\n",
       "      <th></th>\n",
       "      <th>id</th>\n",
       "      <th>kname</th>\n",
       "      <th>knr</th>\n",
       "      <th>objectid</th>\n",
       "      <th>objid</th>\n",
       "      <th>qname</th>\n",
       "      <th>qnr</th>\n",
       "      <th>stzname</th>\n",
       "      <th>stznr</th>\n",
       "      <th>geometry</th>\n",
       "    </tr>\n",
       "  </thead>\n",
       "  <tbody>\n",
       "    <tr>\n",
       "      <th>0</th>\n",
       "      <td>adm_statzonen_map.1</td>\n",
       "      <td>Kreis 7</td>\n",
       "      <td>7</td>\n",
       "      <td>1</td>\n",
       "      <td>154</td>\n",
       "      <td>Hirslanden</td>\n",
       "      <td>73</td>\n",
       "      <td>Hegibach</td>\n",
       "      <td>7303</td>\n",
       "      <td>POLYGON ((8.55670 47.36406, 8.55682 47.36410, ...</td>\n",
       "    </tr>\n",
       "    <tr>\n",
       "      <th>1</th>\n",
       "      <td>adm_statzonen_map.2</td>\n",
       "      <td>Kreis 7</td>\n",
       "      <td>7</td>\n",
       "      <td>2</td>\n",
       "      <td>89</td>\n",
       "      <td>Hirslanden</td>\n",
       "      <td>73</td>\n",
       "      <td>Klus</td>\n",
       "      <td>7302</td>\n",
       "      <td>POLYGON ((8.57281 47.35806, 8.57278 47.35807, ...</td>\n",
       "    </tr>\n",
       "  </tbody>\n",
       "</table>\n",
       "</div>"
      ],
      "text/plain": [
       "                    id    kname  knr  objectid objid       qname  qnr   stzname  stznr  \\\n",
       "0  adm_statzonen_map.1  Kreis 7    7         1   154  Hirslanden   73  Hegibach   7303   \n",
       "1  adm_statzonen_map.2  Kreis 7    7         2    89  Hirslanden   73      Klus   7302   \n",
       "\n",
       "                                            geometry  \n",
       "0  POLYGON ((8.55670 47.36406, 8.55682 47.36410, ...  \n",
       "1  POLYGON ((8.57281 47.35806, 8.57278 47.35807, ...  "
      ]
     },
     "execution_count": 115,
     "metadata": {},
     "output_type": "execute_result"
    }
   ],
   "source": [
    "# Read abt. Geopandas https://geopandas.org/docs/user_guide/io.html\n",
    "geojson_url_statzonen = \"https://www.ogd.stadt-zuerich.ch/wfs/geoportal/Statistische_Zonen?service=WFS&version=1.1.0&request=GetFeature&outputFormat=GeoJSON&typename=adm_statzonen_map\"\n",
    "adm_statzonen_map = gpd.read_file(geojson_url_statzonen)\n",
    "\n",
    "adm_statzonen_map.head(2)\n"
   ]
  },
  {
   "cell_type": "markdown",
   "metadata": {},
   "source": [
    "#### Statistische Quartiere"
   ]
  },
  {
   "cell_type": "code",
   "execution_count": 119,
   "metadata": {},
   "outputs": [
    {
     "data": {
      "text/html": [
       "<div>\n",
       "<style scoped>\n",
       "    .dataframe tbody tr th:only-of-type {\n",
       "        vertical-align: middle;\n",
       "    }\n",
       "\n",
       "    .dataframe tbody tr th {\n",
       "        vertical-align: top;\n",
       "    }\n",
       "\n",
       "    .dataframe thead th {\n",
       "        text-align: right;\n",
       "    }\n",
       "</style>\n",
       "<table border=\"1\" class=\"dataframe\">\n",
       "  <thead>\n",
       "    <tr style=\"text-align: right;\">\n",
       "      <th></th>\n",
       "      <th>id</th>\n",
       "      <th>kname</th>\n",
       "      <th>knr</th>\n",
       "      <th>objectid</th>\n",
       "      <th>objid</th>\n",
       "      <th>qname</th>\n",
       "      <th>qnr</th>\n",
       "      <th>geometry</th>\n",
       "    </tr>\n",
       "  </thead>\n",
       "  <tbody>\n",
       "    <tr>\n",
       "      <th>0</th>\n",
       "      <td>adm_statistische_quartiere_map.1</td>\n",
       "      <td>Kreis 7</td>\n",
       "      <td>7</td>\n",
       "      <td>1</td>\n",
       "      <td>34</td>\n",
       "      <td>Hirslanden</td>\n",
       "      <td>73</td>\n",
       "      <td>POLYGON ((8.55670 47.36406, 8.55682 47.36410, ...</td>\n",
       "    </tr>\n",
       "    <tr>\n",
       "      <th>1</th>\n",
       "      <td>adm_statistische_quartiere_map.2</td>\n",
       "      <td>Kreis 8</td>\n",
       "      <td>8</td>\n",
       "      <td>2</td>\n",
       "      <td>33</td>\n",
       "      <td>Weinegg</td>\n",
       "      <td>83</td>\n",
       "      <td>POLYGON ((8.55670 47.36405, 8.55672 47.36403, ...</td>\n",
       "    </tr>\n",
       "  </tbody>\n",
       "</table>\n",
       "</div>"
      ],
      "text/plain": [
       "                                 id    kname  knr  objectid objid       qname  qnr  \\\n",
       "0  adm_statistische_quartiere_map.1  Kreis 7    7         1    34  Hirslanden   73   \n",
       "1  adm_statistische_quartiere_map.2  Kreis 8    8         2    33     Weinegg   83   \n",
       "\n",
       "                                            geometry  \n",
       "0  POLYGON ((8.55670 47.36406, 8.55682 47.36410, ...  \n",
       "1  POLYGON ((8.55670 47.36405, 8.55672 47.36403, ...  "
      ]
     },
     "execution_count": 119,
     "metadata": {},
     "output_type": "execute_result"
    }
   ],
   "source": [
    "geojson_url_quartiere = \"https://www.ogd.stadt-zuerich.ch/wfs/geoportal/Statistische_Quartiere?service=WFS&version=1.1.0&request=GetFeature&outputFormat=GeoJSON&typename=adm_statistische_quartiere_map\"\n",
    "df_adm_statistische_quartiere_map = gpd.read_file(geojson_url_quartiere)\n",
    "\n",
    "df_adm_statistische_quartiere_map.head(2)\n"
   ]
  },
  {
   "cell_type": "markdown",
   "metadata": {},
   "source": [
    "### Joins\n",
    "Joine die importierten statistischen Daten des aktuellen Jahres zum Geodatensatz:\n",
    "\n",
    "*Siehe dazu Doku zu [Geopandas](https://geopandas.org/docs/user_guide/mergingdata.html)*"
   ]
  },
  {
   "cell_type": "code",
   "execution_count": 127,
   "metadata": {},
   "outputs": [
    {
     "data": {
      "text/plain": [
       "StatZoneCd             int64\n",
       "StatZone              object\n",
       "QuarCd                 int64\n",
       "QuarLang              object\n",
       "KreisCd                int64\n",
       "KreisLang             object\n",
       "EigentumsartSort       int64\n",
       "Eigentumsart          object\n",
       "Whg_abgebrochen        int64\n",
       "Whg_fertigerstellt     int64\n",
       "dtype: object"
      ]
     },
     "execution_count": 127,
     "metadata": {},
     "output_type": "execute_result"
    }
   ],
   "source": [
    "data2betested.dtypes"
   ]
  },
  {
   "cell_type": "code",
   "execution_count": 137,
   "metadata": {},
   "outputs": [
    {
     "data": {
      "text/html": [
       "<div>\n",
       "<style scoped>\n",
       "    .dataframe tbody tr th:only-of-type {\n",
       "        vertical-align: middle;\n",
       "    }\n",
       "\n",
       "    .dataframe tbody tr th {\n",
       "        vertical-align: top;\n",
       "    }\n",
       "\n",
       "    .dataframe thead th {\n",
       "        text-align: right;\n",
       "    }\n",
       "</style>\n",
       "<table border=\"1\" class=\"dataframe\">\n",
       "  <thead>\n",
       "    <tr style=\"text-align: right;\">\n",
       "      <th></th>\n",
       "      <th>QuarLang</th>\n",
       "      <th>QuarCd</th>\n",
       "      <th>sum_Whg_abgebrochen</th>\n",
       "      <th>sum_Whg_fertigerstellt</th>\n",
       "    </tr>\n",
       "  </thead>\n",
       "  <tbody>\n",
       "    <tr>\n",
       "      <th>0</th>\n",
       "      <td>Albisrieden</td>\n",
       "      <td>91</td>\n",
       "      <td>282</td>\n",
       "      <td>89</td>\n",
       "    </tr>\n",
       "  </tbody>\n",
       "</table>\n",
       "</div>"
      ],
      "text/plain": [
       "      QuarLang  QuarCd  sum_Whg_abgebrochen  sum_Whg_fertigerstellt\n",
       "0  Albisrieden      91                  282                      89"
      ]
     },
     "execution_count": 137,
     "metadata": {},
     "output_type": "execute_result"
    }
   ],
   "source": [
    "myAgg = data2betested.loc[\"2021\"]  \\\n",
    "    .groupby(['QuarLang', 'QuarCd']) \\\n",
    "    .agg(sum_Whg_abgebrochen=('Whg_abgebrochen', 'sum'),sum_Whg_fertigerstellt=('Whg_fertigerstellt', 'sum')) \\\n",
    "    .sort_values('sum_Whg_abgebrochen', ascending=False) \n",
    "\n",
    "myAgg.reset_index().head(1)\n"
   ]
  },
  {
   "cell_type": "code",
   "execution_count": 138,
   "metadata": {},
   "outputs": [
    {
     "data": {
      "text/html": [
       "<div>\n",
       "<style scoped>\n",
       "    .dataframe tbody tr th:only-of-type {\n",
       "        vertical-align: middle;\n",
       "    }\n",
       "\n",
       "    .dataframe tbody tr th {\n",
       "        vertical-align: top;\n",
       "    }\n",
       "\n",
       "    .dataframe thead th {\n",
       "        text-align: right;\n",
       "    }\n",
       "</style>\n",
       "<table border=\"1\" class=\"dataframe\">\n",
       "  <thead>\n",
       "    <tr style=\"text-align: right;\">\n",
       "      <th></th>\n",
       "      <th>geometry</th>\n",
       "      <th>QuarCd</th>\n",
       "      <th>qname</th>\n",
       "      <th>knr</th>\n",
       "    </tr>\n",
       "  </thead>\n",
       "  <tbody>\n",
       "    <tr>\n",
       "      <th>0</th>\n",
       "      <td>POLYGON ((8.55670 47.36406, 8.55682 47.36410, ...</td>\n",
       "      <td>73</td>\n",
       "      <td>Hirslanden</td>\n",
       "      <td>7</td>\n",
       "    </tr>\n",
       "  </tbody>\n",
       "</table>\n",
       "</div>"
      ],
      "text/plain": [
       "                                            geometry  QuarCd       qname  knr\n",
       "0  POLYGON ((8.55670 47.36406, 8.55682 47.36410, ...      73  Hirslanden    7"
      ]
     },
     "execution_count": 138,
     "metadata": {},
     "output_type": "execute_result"
    }
   ],
   "source": [
    "# Rename attribute stznr to StatZoneSort, so the IDs have the same name\n",
    "gdf_adm_statistische_quartiere_map = df_adm_statistische_quartiere_map[['geometry', 'qnr', 'qname', 'knr']].rename(columns={'qnr': 'QuarCd'})\n",
    "gdf_adm_statistische_quartiere_map.head(1)"
   ]
  },
  {
   "cell_type": "code",
   "execution_count": 139,
   "metadata": {},
   "outputs": [
    {
     "data": {
      "text/html": [
       "<div>\n",
       "<style scoped>\n",
       "    .dataframe tbody tr th:only-of-type {\n",
       "        vertical-align: middle;\n",
       "    }\n",
       "\n",
       "    .dataframe tbody tr th {\n",
       "        vertical-align: top;\n",
       "    }\n",
       "\n",
       "    .dataframe thead th {\n",
       "        text-align: right;\n",
       "    }\n",
       "</style>\n",
       "<table border=\"1\" class=\"dataframe\">\n",
       "  <thead>\n",
       "    <tr style=\"text-align: right;\">\n",
       "      <th></th>\n",
       "      <th>geometry</th>\n",
       "      <th>QuarCd</th>\n",
       "      <th>qname</th>\n",
       "      <th>knr</th>\n",
       "      <th>sum_Whg_abgebrochen</th>\n",
       "      <th>sum_Whg_fertigerstellt</th>\n",
       "    </tr>\n",
       "  </thead>\n",
       "  <tbody>\n",
       "    <tr>\n",
       "      <th>0</th>\n",
       "      <td>POLYGON ((8.55670 47.36406, 8.55682 47.36410, ...</td>\n",
       "      <td>73</td>\n",
       "      <td>Hirslanden</td>\n",
       "      <td>7</td>\n",
       "      <td>48</td>\n",
       "      <td>2</td>\n",
       "    </tr>\n",
       "    <tr>\n",
       "      <th>1</th>\n",
       "      <td>POLYGON ((8.55670 47.36405, 8.55672 47.36403, ...</td>\n",
       "      <td>83</td>\n",
       "      <td>Weinegg</td>\n",
       "      <td>8</td>\n",
       "      <td>2</td>\n",
       "      <td>0</td>\n",
       "    </tr>\n",
       "  </tbody>\n",
       "</table>\n",
       "</div>"
      ],
      "text/plain": [
       "                                            geometry  QuarCd       qname  knr  \\\n",
       "0  POLYGON ((8.55670 47.36406, 8.55682 47.36410, ...      73  Hirslanden    7   \n",
       "1  POLYGON ((8.55670 47.36405, 8.55672 47.36403, ...      83     Weinegg    8   \n",
       "\n",
       "   sum_Whg_abgebrochen  sum_Whg_fertigerstellt  \n",
       "0                   48                       2  \n",
       "1                    2                       0  "
      ]
     },
     "execution_count": 139,
     "metadata": {},
     "output_type": "execute_result"
    }
   ],
   "source": [
    "# Merge with `merge` method on shared variable (stznr und StatZoneSort):\n",
    "gdf_adm_statistische_quartiere_map_joined = gdf_adm_statistische_quartiere_map.merge(myAgg, on='QuarCd')\n",
    "gdf_adm_statistische_quartiere_map_joined.head(2)\n"
   ]
  },
  {
   "cell_type": "code",
   "execution_count": 142,
   "metadata": {},
   "outputs": [
    {
     "data": {
      "text/plain": [
       "<AxesSubplot:>"
      ]
     },
     "execution_count": 142,
     "metadata": {},
     "output_type": "execute_result"
    },
    {
     "data": {
      "image/png": "[encoded data removed]",
      "text/plain": [
       "<Figure size 432x288 with 1 Axes>"
      ]
     },
     "metadata": {
      "needs_background": "light"
     },
     "output_type": "display_data"
    },
    {
     "data": {
      "image/png": "[encoded data removed]",
      "text/plain": [
       "<Figure size 432x288 with 1 Axes>"
      ]
     },
     "metadata": {
      "needs_background": "light"
     },
     "output_type": "display_data"
    }
   ],
   "source": [
    "# Plot by StatQuartiere\n",
    "# Weitere Schemes: scheme='quantiles', scheme='fisherjenks', scheme='natural_breaks',\n",
    "\n",
    "gdf_adm_statistische_quartiere_map_joined.plot(column='sum_Whg_fertigerstellt', cmap='viridis', scheme='natural_breaks', legend=True )\n",
    "gdf_adm_statistische_quartiere_map_joined.plot(column='sum_Whg_abgebrochen', cmap='viridis', scheme='natural_breaks', legend=True )\n",
    "\n",
    "#gdf_adm_statistische_quartiere_map_joined.plot(column='sum_Whg_abgebrochen', cmap='plasma', scheme='fisherjenks', legend=True )\n",
    "#gdf_adm_statistische_quartiere_map_joined.plot(column='sum_Whg_fertigerstellt', cmap='cool', scheme='quantiles', legend=True )\n",
    "#scheme werte: https://matplotlib.org/2.0.2/users/colormaps.html\n",
    "\n",
    "#\n",
    "#Neuere Gallerie: https://matplotlib.org/stable/gallery/index.html"
   ]
  },
  {
   "cell_type": "code",
   "execution_count": 157,
   "metadata": {},
   "outputs": [
    {
     "data": {
      "text/plain": [
       "<AxesSubplot:>"
      ]
     },
     "execution_count": 157,
     "metadata": {},
     "output_type": "execute_result"
    },
    {
     "data": {
      "image/png": "[encoded data removed]",
      "text/plain": [
       "<Figure size 432x288 with 2 Axes>"
      ]
     },
     "metadata": {
      "needs_background": "light"
     },
     "output_type": "display_data"
    }
   ],
   "source": [
    "fig, ax = plt.subplots(1, 1)\n",
    "\n",
    "gdf_adm_statistische_quartiere_map_joined.plot(column='sum_Whg_abgebrochen', ax=ax, legend=True, legend_kwds={'label': \"Anzahl abgebrochene Wohnungen 2021\",'orientation': \"horizontal\"})\n",
    "gdf_adm_statistische_quartiere_map_joined.plot(column='sum_Whg_fertigerstellt', ax=ax, legend=False, legend_kwds={'label': \"Anzahl fertigerstellte Wohnungen 2021\",'orientation': \"horizontal\"})\n",
    "\n",
    "#gdf_adm_statistische_quartiere_map_joined.plot(column='sum_Whg_abgebrochen', cmap='viridis', scheme='natural_breaks', legend=True , ax=ax, legend_kwds={'label': \"Anzahl Personen\",'orientation': \"horizontal\"})"
   ]
  },
  {
   "cell_type": "markdown",
   "metadata": {},
   "source": [
    "Noch zu prüfen, folgendes schöne Beispiel: https://docs.bokeh.org/en/latest/docs/user_guide/interaction/legends.html\n",
    "\n",
    "Konkrete Beispiele von Bookeh in Jupyter NB: https://docs.bokeh.org/en/latest/docs/user_guide/jupyter.html"
   ]
  },
  {
   "cell_type": "markdown",
   "metadata": {},
   "source": [
    "**Sharepoint als gecheckt markieren!**"
   ]
  },
  {
   "cell_type": "markdown",
   "metadata": {},
   "source": [
    "Record auf Sharepoint: **[Link](https://kollaboration.intranet.stzh.ch/orga/ssz-produkte/Lists/SASA_Outputs/DispForm.aspx?ID=636&ContentTypeId=0x0100988EAF029F1EFE4CA675F53C32A5D53D01006DBC563E6FBE9E4EB6FDC780799752E1)**"
   ]
  },
  {
   "cell_type": "code",
   "execution_count": null,
   "metadata": {},
   "outputs": [],
   "source": []
  },
  {
   "cell_type": "raw",
   "metadata": {},
   "source": []
  },
  {
   "cell_type": "code",
   "execution_count": null,
   "metadata": {},
   "outputs": [],
   "source": []
  }
 ],
 "metadata": {
  "kernelspec": {
   "display_name": "Python 3 (ipykernel)",
   "language": "python",
   "name": "python3"
  },
  "language_info": {
   "codemirror_mode": {
    "name": "ipython",
    "version": 3
   },
   "file_extension": ".py",
   "mimetype": "text/x-python",
   "name": "python",
   "nbconvert_exporter": "python",
   "pygments_lexer": "ipython3",
   "version": "3.9.7"
  }
 },
 "nbformat": 4,
 "nbformat_minor": 4
}
