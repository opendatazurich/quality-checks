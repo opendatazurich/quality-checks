{
 "cells": [
  {
   "cell_type": "markdown",
   "metadata": {},
   "source": [
    "# Testing\n",
    "### Zweitwohnungen und Apartments nach Stadtquartier, Bauperiode und Zimmerzahl\n",
    "Datum: 22.11.2021"
   ]
  },
  {
   "cell_type": "markdown",
   "metadata": {},
   "source": [
    "**Importiere die notwendigen Packages**"
   ]
  },
  {
   "cell_type": "code",
   "execution_count": 1,
   "metadata": {},
   "outputs": [],
   "source": [
    "# Empfehlung für Colab: Installiere alles was Du brauchst\n",
    "# %pip install pandas pivottablejs numpy altair matplotlib geopandas folium"
   ]
  },
  {
   "cell_type": "code",
   "execution_count": 2,
   "metadata": {},
   "outputs": [],
   "source": [
    "import pandas as pd\n",
    "import pivottablejs\n",
    "from pivottablejs import pivot_ui\n",
    "import numpy as np\n",
    "import altair as alt\n",
    "import matplotlib.pyplot as plt\n",
    "from datetime import datetime\n",
    "import geopandas as gpd\n",
    "import folium \n",
    "\n"
   ]
  },
  {
   "cell_type": "markdown",
   "metadata": {},
   "source": [
    "Definiere Settings. Hier das Zahlenformat von Float-Werten (z.B. *'{:,.2f}'.format* mit Komma als Tausenderzeichen), "
   ]
  },
  {
   "cell_type": "code",
   "execution_count": 3,
   "metadata": {},
   "outputs": [],
   "source": [
    "pd.options.display.float_format = '{:.0f}'.format\n",
    "pd.set_option('display.width', 100)\n",
    "pd.set_option('display.max_columns', 15)"
   ]
  },
  {
   "cell_type": "markdown",
   "metadata": {},
   "source": [
    "Importiere einen Datensatz von der **DWH_INT** Dropzone.\n",
    "\n",
    "- Beachte dabei die Notation des Pfades...\n",
    "- Definiere mal aktuell noch keine weiteren Parameter beim Import"
   ]
  },
  {
   "cell_type": "markdown",
   "metadata": {},
   "source": [
    "**Dataset auf INTEG Datenkatalog**: https://data.integ.stadt-zuerich.ch/dataset/int_dwh_bau_zweitwhg_apartment_quartier_bauperiode_zizahl_od5414\n",
    "\n",
    "(int_dwh)"
   ]
  },
  {
   "cell_type": "code",
   "execution_count": 29,
   "metadata": {},
   "outputs": [
    {
     "name": "stdout",
     "output_type": "stream",
     "text": [
      "int\n"
     ]
    }
   ],
   "source": [
    "#Die Datasets sind nur zum Testen auf INT-DWH-Dropzone. Wenn der Test vorbei ist, sind sie auf PROD. \n",
    "# Über den Status kann man einfach switchen\n",
    "\n",
    "status = \"int\";\n",
    "print(status)"
   ]
  },
  {
   "cell_type": "code",
   "execution_count": 30,
   "metadata": {},
   "outputs": [
    {
     "name": "stdout",
     "output_type": "stream",
     "text": [
      "\\\\szh\\ssz\\applikationen\\OGD_Dropzone\\INT_DWH\\bau_zweitwhg_apartment_quartier_bauperiode_zizahl_OD5414\\BAU541OD5414.csv\n"
     ]
    }
   ],
   "source": [
    "# Filepath\n",
    "if status == \"prod\":\n",
    "    fp = r\"\\\\szh\\ssz\\applikationen\\OGD_Dropzone\\DWH\\bau_zweitwhg_apartment_quartier_bauperiode_zizahl_OD5414\\BAU541OD5414.csv\"\n",
    "\n",
    "else:\n",
    "    fp = r\"\\\\szh\\ssz\\applikationen\\OGD_Dropzone\\INT_DWH\\bau_zweitwhg_apartment_quartier_bauperiode_zizahl_OD5414\\BAU541OD5414.csv\"\n",
    "\n",
    "print(fp)"
   ]
  },
  {
   "cell_type": "code",
   "execution_count": 31,
   "metadata": {},
   "outputs": [
    {
     "name": "stdout",
     "output_type": "stream",
     "text": [
      "done\n"
     ]
    }
   ],
   "source": [
    "# Read the data\n",
    "data2betested = pd.read_csv(\n",
    "    fp, \n",
    "    sep=',',\n",
    "   #usecols=[0,1,2,3,4,6],\n",
    "   #names=['stationid','year','month','avgtemp','latitude','longitude','elevation','station','countryid','country'],\n",
    "   #skiprows=1,\n",
    "   # parse_dates=[0],\n",
    "    parse_dates=True,\n",
    "    #date_parser=lambda x: pd.to_datetime(x, format=\"%Y\"), \n",
    "    #index_col=\"date_time\",\n",
    "    low_memory=False    \n",
    "    )\n",
    "print('done')"
   ]
  },
  {
   "cell_type": "markdown",
   "metadata": {},
   "source": [
    "In der Folge ein paar erste Tests:"
   ]
  },
  {
   "cell_type": "code",
   "execution_count": 32,
   "metadata": {},
   "outputs": [
    {
     "data": {
      "text/plain": [
       "pandas.core.frame.DataFrame"
      ]
     },
     "execution_count": 32,
     "metadata": {},
     "output_type": "execute_result"
    }
   ],
   "source": [
    "type(data2betested)"
   ]
  },
  {
   "cell_type": "markdown",
   "metadata": {},
   "source": [
    " - 1) Zeige eine kurze Vorschau der importierten Daten\n",
    " - 2) Weise die Datentypen aus\n",
    " - 3) Zeige die Shape (Umfang) des Datensatzes an"
   ]
  },
  {
   "cell_type": "code",
   "execution_count": 33,
   "metadata": {},
   "outputs": [
    {
     "data": {
      "text/html": [
       "<div>\n",
       "<style scoped>\n",
       "    .dataframe tbody tr th:only-of-type {\n",
       "        vertical-align: middle;\n",
       "    }\n",
       "\n",
       "    .dataframe tbody tr th {\n",
       "        vertical-align: top;\n",
       "    }\n",
       "\n",
       "    .dataframe thead th {\n",
       "        text-align: right;\n",
       "    }\n",
       "</style>\n",
       "<table border=\"1\" class=\"dataframe\">\n",
       "  <thead>\n",
       "    <tr style=\"text-align: right;\">\n",
       "      <th></th>\n",
       "      <th>Jahr</th>\n",
       "      <th>QuarSort</th>\n",
       "      <th>QuarLang</th>\n",
       "      <th>KreisSort</th>\n",
       "      <th>KreisLang</th>\n",
       "      <th>BauperiodeSort</th>\n",
       "      <th>BauperiodeLang</th>\n",
       "      <th>Zimmer</th>\n",
       "      <th>Nutzung</th>\n",
       "      <th>Fl_Zweitwhg</th>\n",
       "      <th>Fl_Apartment</th>\n",
       "      <th>AnzWhg</th>\n",
       "    </tr>\n",
       "  </thead>\n",
       "  <tbody>\n",
       "    <tr>\n",
       "      <th>0</th>\n",
       "      <td>2021</td>\n",
       "      <td>11</td>\n",
       "      <td>Rathaus</td>\n",
       "      <td>1</td>\n",
       "      <td>Kreis 1</td>\n",
       "      <td>1</td>\n",
       "      <td>vor 1900</td>\n",
       "      <td>1</td>\n",
       "      <td>Den Erstwohnungen gleichgestellt</td>\n",
       "      <td>0</td>\n",
       "      <td>0</td>\n",
       "      <td>70</td>\n",
       "    </tr>\n",
       "    <tr>\n",
       "      <th>1</th>\n",
       "      <td>2021</td>\n",
       "      <td>11</td>\n",
       "      <td>Rathaus</td>\n",
       "      <td>1</td>\n",
       "      <td>Kreis 1</td>\n",
       "      <td>1</td>\n",
       "      <td>vor 1900</td>\n",
       "      <td>1</td>\n",
       "      <td>Den Erstwohnungen gleichgestellt</td>\n",
       "      <td>0</td>\n",
       "      <td>1</td>\n",
       "      <td>22</td>\n",
       "    </tr>\n",
       "    <tr>\n",
       "      <th>2</th>\n",
       "      <td>2021</td>\n",
       "      <td>11</td>\n",
       "      <td>Rathaus</td>\n",
       "      <td>1</td>\n",
       "      <td>Kreis 1</td>\n",
       "      <td>1</td>\n",
       "      <td>vor 1900</td>\n",
       "      <td>1</td>\n",
       "      <td>Erstwohnung</td>\n",
       "      <td>0</td>\n",
       "      <td>0</td>\n",
       "      <td>286</td>\n",
       "    </tr>\n",
       "    <tr>\n",
       "      <th>3</th>\n",
       "      <td>2021</td>\n",
       "      <td>11</td>\n",
       "      <td>Rathaus</td>\n",
       "      <td>1</td>\n",
       "      <td>Kreis 1</td>\n",
       "      <td>1</td>\n",
       "      <td>vor 1900</td>\n",
       "      <td>1</td>\n",
       "      <td>Unbewohnbar</td>\n",
       "      <td>0</td>\n",
       "      <td>0</td>\n",
       "      <td>6</td>\n",
       "    </tr>\n",
       "    <tr>\n",
       "      <th>4</th>\n",
       "      <td>2021</td>\n",
       "      <td>11</td>\n",
       "      <td>Rathaus</td>\n",
       "      <td>1</td>\n",
       "      <td>Kreis 1</td>\n",
       "      <td>1</td>\n",
       "      <td>vor 1900</td>\n",
       "      <td>1</td>\n",
       "      <td>Zweitwohnung</td>\n",
       "      <td>0</td>\n",
       "      <td>0</td>\n",
       "      <td>23</td>\n",
       "    </tr>\n",
       "    <tr>\n",
       "      <th>...</th>\n",
       "      <td>...</td>\n",
       "      <td>...</td>\n",
       "      <td>...</td>\n",
       "      <td>...</td>\n",
       "      <td>...</td>\n",
       "      <td>...</td>\n",
       "      <td>...</td>\n",
       "      <td>...</td>\n",
       "      <td>...</td>\n",
       "      <td>...</td>\n",
       "      <td>...</td>\n",
       "      <td>...</td>\n",
       "    </tr>\n",
       "    <tr>\n",
       "      <th>295</th>\n",
       "      <td>2021</td>\n",
       "      <td>14</td>\n",
       "      <td>City</td>\n",
       "      <td>1</td>\n",
       "      <td>Kreis 1</td>\n",
       "      <td>7</td>\n",
       "      <td>ab 2000</td>\n",
       "      <td>4</td>\n",
       "      <td>Erstwohnung</td>\n",
       "      <td>0</td>\n",
       "      <td>0</td>\n",
       "      <td>1</td>\n",
       "    </tr>\n",
       "    <tr>\n",
       "      <th>296</th>\n",
       "      <td>2021</td>\n",
       "      <td>21</td>\n",
       "      <td>Wollishofen</td>\n",
       "      <td>2</td>\n",
       "      <td>Kreis 2</td>\n",
       "      <td>1</td>\n",
       "      <td>vor 1900</td>\n",
       "      <td>1</td>\n",
       "      <td>Den Erstwohnungen gleichgestellt</td>\n",
       "      <td>0</td>\n",
       "      <td>0</td>\n",
       "      <td>4</td>\n",
       "    </tr>\n",
       "    <tr>\n",
       "      <th>297</th>\n",
       "      <td>2021</td>\n",
       "      <td>21</td>\n",
       "      <td>Wollishofen</td>\n",
       "      <td>2</td>\n",
       "      <td>Kreis 2</td>\n",
       "      <td>1</td>\n",
       "      <td>vor 1900</td>\n",
       "      <td>1</td>\n",
       "      <td>Erstwohnung</td>\n",
       "      <td>0</td>\n",
       "      <td>0</td>\n",
       "      <td>18</td>\n",
       "    </tr>\n",
       "    <tr>\n",
       "      <th>298</th>\n",
       "      <td>2021</td>\n",
       "      <td>21</td>\n",
       "      <td>Wollishofen</td>\n",
       "      <td>2</td>\n",
       "      <td>Kreis 2</td>\n",
       "      <td>1</td>\n",
       "      <td>vor 1900</td>\n",
       "      <td>1</td>\n",
       "      <td>Zweitwohnung</td>\n",
       "      <td>0</td>\n",
       "      <td>0</td>\n",
       "      <td>2</td>\n",
       "    </tr>\n",
       "    <tr>\n",
       "      <th>299</th>\n",
       "      <td>2021</td>\n",
       "      <td>21</td>\n",
       "      <td>Wollishofen</td>\n",
       "      <td>2</td>\n",
       "      <td>Kreis 2</td>\n",
       "      <td>1</td>\n",
       "      <td>vor 1900</td>\n",
       "      <td>1</td>\n",
       "      <td>Zweitwohnung</td>\n",
       "      <td>1</td>\n",
       "      <td>0</td>\n",
       "      <td>3</td>\n",
       "    </tr>\n",
       "  </tbody>\n",
       "</table>\n",
       "<p>300 rows × 12 columns</p>\n",
       "</div>"
      ],
      "text/plain": [
       "     Jahr  QuarSort     QuarLang  KreisSort KreisLang  BauperiodeSort BauperiodeLang Zimmer  \\\n",
       "0    2021        11      Rathaus          1   Kreis 1               1       vor 1900      1   \n",
       "1    2021        11      Rathaus          1   Kreis 1               1       vor 1900      1   \n",
       "2    2021        11      Rathaus          1   Kreis 1               1       vor 1900      1   \n",
       "3    2021        11      Rathaus          1   Kreis 1               1       vor 1900      1   \n",
       "4    2021        11      Rathaus          1   Kreis 1               1       vor 1900      1   \n",
       "..    ...       ...          ...        ...       ...             ...            ...    ...   \n",
       "295  2021        14         City          1   Kreis 1               7        ab 2000      4   \n",
       "296  2021        21  Wollishofen          2   Kreis 2               1       vor 1900      1   \n",
       "297  2021        21  Wollishofen          2   Kreis 2               1       vor 1900      1   \n",
       "298  2021        21  Wollishofen          2   Kreis 2               1       vor 1900      1   \n",
       "299  2021        21  Wollishofen          2   Kreis 2               1       vor 1900      1   \n",
       "\n",
       "                              Nutzung  Fl_Zweitwhg  Fl_Apartment  AnzWhg  \n",
       "0    Den Erstwohnungen gleichgestellt            0             0      70  \n",
       "1    Den Erstwohnungen gleichgestellt            0             1      22  \n",
       "2                         Erstwohnung            0             0     286  \n",
       "3                         Unbewohnbar            0             0       6  \n",
       "4                        Zweitwohnung            0             0      23  \n",
       "..                                ...          ...           ...     ...  \n",
       "295                       Erstwohnung            0             0       1  \n",
       "296  Den Erstwohnungen gleichgestellt            0             0       4  \n",
       "297                       Erstwohnung            0             0      18  \n",
       "298                      Zweitwohnung            0             0       2  \n",
       "299                      Zweitwohnung            1             0       3  \n",
       "\n",
       "[300 rows x 12 columns]"
      ]
     },
     "execution_count": 33,
     "metadata": {},
     "output_type": "execute_result"
    }
   ],
   "source": [
    "data2betested.head(300)"
   ]
  },
  {
   "cell_type": "code",
   "execution_count": 34,
   "metadata": {},
   "outputs": [
    {
     "data": {
      "text/plain": [
       "Jahr               int64\n",
       "QuarSort           int64\n",
       "QuarLang          object\n",
       "KreisSort          int64\n",
       "KreisLang         object\n",
       "BauperiodeSort     int64\n",
       "BauperiodeLang    object\n",
       "Zimmer            object\n",
       "Nutzung           object\n",
       "Fl_Zweitwhg        int64\n",
       "Fl_Apartment       int64\n",
       "AnzWhg             int64\n",
       "dtype: object"
      ]
     },
     "execution_count": 34,
     "metadata": {},
     "output_type": "execute_result"
    }
   ],
   "source": [
    "data2betested.dtypes"
   ]
  },
  {
   "cell_type": "code",
   "execution_count": 35,
   "metadata": {},
   "outputs": [
    {
     "data": {
      "text/plain": [
       "(5120, 12)"
      ]
     },
     "execution_count": 35,
     "metadata": {},
     "output_type": "execute_result"
    }
   ],
   "source": [
    "data2betested.shape"
   ]
  },
  {
   "cell_type": "markdown",
   "metadata": {},
   "source": [
    "Beschreibe einzelne Attribute"
   ]
  },
  {
   "cell_type": "code",
   "execution_count": 36,
   "metadata": {},
   "outputs": [
    {
     "data": {
      "text/html": [
       "<div>\n",
       "<style scoped>\n",
       "    .dataframe tbody tr th:only-of-type {\n",
       "        vertical-align: middle;\n",
       "    }\n",
       "\n",
       "    .dataframe tbody tr th {\n",
       "        vertical-align: top;\n",
       "    }\n",
       "\n",
       "    .dataframe thead th {\n",
       "        text-align: right;\n",
       "    }\n",
       "</style>\n",
       "<table border=\"1\" class=\"dataframe\">\n",
       "  <thead>\n",
       "    <tr style=\"text-align: right;\">\n",
       "      <th></th>\n",
       "      <th>Jahr</th>\n",
       "      <th>QuarSort</th>\n",
       "      <th>KreisSort</th>\n",
       "      <th>BauperiodeSort</th>\n",
       "      <th>Fl_Zweitwhg</th>\n",
       "      <th>Fl_Apartment</th>\n",
       "      <th>AnzWhg</th>\n",
       "    </tr>\n",
       "  </thead>\n",
       "  <tbody>\n",
       "    <tr>\n",
       "      <th>count</th>\n",
       "      <td>5120</td>\n",
       "      <td>5120</td>\n",
       "      <td>5120</td>\n",
       "      <td>5120</td>\n",
       "      <td>5120</td>\n",
       "      <td>5120</td>\n",
       "      <td>5120</td>\n",
       "    </tr>\n",
       "    <tr>\n",
       "      <th>mean</th>\n",
       "      <td>2021</td>\n",
       "      <td>68</td>\n",
       "      <td>7</td>\n",
       "      <td>4</td>\n",
       "      <td>0</td>\n",
       "      <td>0</td>\n",
       "      <td>45</td>\n",
       "    </tr>\n",
       "    <tr>\n",
       "      <th>std</th>\n",
       "      <td>0</td>\n",
       "      <td>33</td>\n",
       "      <td>3</td>\n",
       "      <td>2</td>\n",
       "      <td>0</td>\n",
       "      <td>0</td>\n",
       "      <td>141</td>\n",
       "    </tr>\n",
       "    <tr>\n",
       "      <th>min</th>\n",
       "      <td>2021</td>\n",
       "      <td>11</td>\n",
       "      <td>1</td>\n",
       "      <td>1</td>\n",
       "      <td>0</td>\n",
       "      <td>0</td>\n",
       "      <td>1</td>\n",
       "    </tr>\n",
       "    <tr>\n",
       "      <th>25%</th>\n",
       "      <td>2021</td>\n",
       "      <td>41</td>\n",
       "      <td>4</td>\n",
       "      <td>2</td>\n",
       "      <td>0</td>\n",
       "      <td>0</td>\n",
       "      <td>2</td>\n",
       "    </tr>\n",
       "    <tr>\n",
       "      <th>50%</th>\n",
       "      <td>2021</td>\n",
       "      <td>72</td>\n",
       "      <td>7</td>\n",
       "      <td>4</td>\n",
       "      <td>0</td>\n",
       "      <td>0</td>\n",
       "      <td>5</td>\n",
       "    </tr>\n",
       "    <tr>\n",
       "      <th>75%</th>\n",
       "      <td>2021</td>\n",
       "      <td>92</td>\n",
       "      <td>9</td>\n",
       "      <td>6</td>\n",
       "      <td>0</td>\n",
       "      <td>0</td>\n",
       "      <td>19</td>\n",
       "    </tr>\n",
       "    <tr>\n",
       "      <th>max</th>\n",
       "      <td>2021</td>\n",
       "      <td>123</td>\n",
       "      <td>12</td>\n",
       "      <td>7</td>\n",
       "      <td>1</td>\n",
       "      <td>1</td>\n",
       "      <td>1876</td>\n",
       "    </tr>\n",
       "  </tbody>\n",
       "</table>\n",
       "</div>"
      ],
      "text/plain": [
       "       Jahr  QuarSort  KreisSort  BauperiodeSort  Fl_Zweitwhg  Fl_Apartment  AnzWhg\n",
       "count  5120      5120       5120            5120         5120          5120    5120\n",
       "mean   2021        68          7               4            0             0      45\n",
       "std       0        33          3               2            0             0     141\n",
       "min    2021        11          1               1            0             0       1\n",
       "25%    2021        41          4               2            0             0       2\n",
       "50%    2021        72          7               4            0             0       5\n",
       "75%    2021        92          9               6            0             0      19\n",
       "max    2021       123         12               7            1             1    1876"
      ]
     },
     "execution_count": 36,
     "metadata": {},
     "output_type": "execute_result"
    }
   ],
   "source": [
    "data2betested.describe()"
   ]
  },
  {
   "cell_type": "markdown",
   "metadata": {},
   "source": [
    "Wie viele Nullwerte gibt es im Datensatz?"
   ]
  },
  {
   "cell_type": "code",
   "execution_count": 37,
   "metadata": {
    "scrolled": true
   },
   "outputs": [
    {
     "data": {
      "text/plain": [
       "Jahr              0\n",
       "QuarSort          0\n",
       "QuarLang          0\n",
       "KreisSort         0\n",
       "KreisLang         0\n",
       "BauperiodeSort    0\n",
       "BauperiodeLang    0\n",
       "Zimmer            0\n",
       "Nutzung           0\n",
       "Fl_Zweitwhg       0\n",
       "Fl_Apartment      0\n",
       "AnzWhg            0\n",
       "dtype: int64"
      ]
     },
     "execution_count": 37,
     "metadata": {},
     "output_type": "execute_result"
    }
   ],
   "source": [
    "data2betested.isnull().sum()"
   ]
  },
  {
   "cell_type": "markdown",
   "metadata": {},
   "source": [
    "Wandle die Spalte Jahr von Int zu **Datetime** um. Dies wird in den meisten Grafiken so benötigt."
   ]
  },
  {
   "cell_type": "code",
   "execution_count": 38,
   "metadata": {
    "scrolled": true
   },
   "outputs": [
    {
     "data": {
      "text/html": [
       "<div>\n",
       "<style scoped>\n",
       "    .dataframe tbody tr th:only-of-type {\n",
       "        vertical-align: middle;\n",
       "    }\n",
       "\n",
       "    .dataframe tbody tr th {\n",
       "        vertical-align: top;\n",
       "    }\n",
       "\n",
       "    .dataframe thead th {\n",
       "        text-align: right;\n",
       "    }\n",
       "</style>\n",
       "<table border=\"1\" class=\"dataframe\">\n",
       "  <thead>\n",
       "    <tr style=\"text-align: right;\">\n",
       "      <th></th>\n",
       "      <th>Jahr</th>\n",
       "      <th>QuarSort</th>\n",
       "      <th>QuarLang</th>\n",
       "      <th>KreisSort</th>\n",
       "      <th>KreisLang</th>\n",
       "      <th>BauperiodeSort</th>\n",
       "      <th>BauperiodeLang</th>\n",
       "      <th>Zimmer</th>\n",
       "      <th>Nutzung</th>\n",
       "      <th>Fl_Zweitwhg</th>\n",
       "      <th>Fl_Apartment</th>\n",
       "      <th>AnzWhg</th>\n",
       "    </tr>\n",
       "  </thead>\n",
       "  <tbody>\n",
       "    <tr>\n",
       "      <th>0</th>\n",
       "      <td>2021-01-01</td>\n",
       "      <td>11</td>\n",
       "      <td>Rathaus</td>\n",
       "      <td>1</td>\n",
       "      <td>Kreis 1</td>\n",
       "      <td>1</td>\n",
       "      <td>vor 1900</td>\n",
       "      <td>1</td>\n",
       "      <td>Den Erstwohnungen gleichgestellt</td>\n",
       "      <td>0</td>\n",
       "      <td>0</td>\n",
       "      <td>70</td>\n",
       "    </tr>\n",
       "    <tr>\n",
       "      <th>1</th>\n",
       "      <td>2021-01-01</td>\n",
       "      <td>11</td>\n",
       "      <td>Rathaus</td>\n",
       "      <td>1</td>\n",
       "      <td>Kreis 1</td>\n",
       "      <td>1</td>\n",
       "      <td>vor 1900</td>\n",
       "      <td>1</td>\n",
       "      <td>Den Erstwohnungen gleichgestellt</td>\n",
       "      <td>0</td>\n",
       "      <td>1</td>\n",
       "      <td>22</td>\n",
       "    </tr>\n",
       "    <tr>\n",
       "      <th>2</th>\n",
       "      <td>2021-01-01</td>\n",
       "      <td>11</td>\n",
       "      <td>Rathaus</td>\n",
       "      <td>1</td>\n",
       "      <td>Kreis 1</td>\n",
       "      <td>1</td>\n",
       "      <td>vor 1900</td>\n",
       "      <td>1</td>\n",
       "      <td>Erstwohnung</td>\n",
       "      <td>0</td>\n",
       "      <td>0</td>\n",
       "      <td>286</td>\n",
       "    </tr>\n",
       "    <tr>\n",
       "      <th>3</th>\n",
       "      <td>2021-01-01</td>\n",
       "      <td>11</td>\n",
       "      <td>Rathaus</td>\n",
       "      <td>1</td>\n",
       "      <td>Kreis 1</td>\n",
       "      <td>1</td>\n",
       "      <td>vor 1900</td>\n",
       "      <td>1</td>\n",
       "      <td>Unbewohnbar</td>\n",
       "      <td>0</td>\n",
       "      <td>0</td>\n",
       "      <td>6</td>\n",
       "    </tr>\n",
       "    <tr>\n",
       "      <th>4</th>\n",
       "      <td>2021-01-01</td>\n",
       "      <td>11</td>\n",
       "      <td>Rathaus</td>\n",
       "      <td>1</td>\n",
       "      <td>Kreis 1</td>\n",
       "      <td>1</td>\n",
       "      <td>vor 1900</td>\n",
       "      <td>1</td>\n",
       "      <td>Zweitwohnung</td>\n",
       "      <td>0</td>\n",
       "      <td>0</td>\n",
       "      <td>23</td>\n",
       "    </tr>\n",
       "    <tr>\n",
       "      <th>...</th>\n",
       "      <td>...</td>\n",
       "      <td>...</td>\n",
       "      <td>...</td>\n",
       "      <td>...</td>\n",
       "      <td>...</td>\n",
       "      <td>...</td>\n",
       "      <td>...</td>\n",
       "      <td>...</td>\n",
       "      <td>...</td>\n",
       "      <td>...</td>\n",
       "      <td>...</td>\n",
       "      <td>...</td>\n",
       "    </tr>\n",
       "    <tr>\n",
       "      <th>5115</th>\n",
       "      <td>2021-01-01</td>\n",
       "      <td>123</td>\n",
       "      <td>Hirzenbach</td>\n",
       "      <td>12</td>\n",
       "      <td>Kreis 12</td>\n",
       "      <td>7</td>\n",
       "      <td>ab 2000</td>\n",
       "      <td>5</td>\n",
       "      <td>Zweitwohnung</td>\n",
       "      <td>0</td>\n",
       "      <td>0</td>\n",
       "      <td>3</td>\n",
       "    </tr>\n",
       "    <tr>\n",
       "      <th>5116</th>\n",
       "      <td>2021-01-01</td>\n",
       "      <td>123</td>\n",
       "      <td>Hirzenbach</td>\n",
       "      <td>12</td>\n",
       "      <td>Kreis 12</td>\n",
       "      <td>7</td>\n",
       "      <td>ab 2000</td>\n",
       "      <td>5</td>\n",
       "      <td>Zweitwohnung</td>\n",
       "      <td>1</td>\n",
       "      <td>0</td>\n",
       "      <td>1</td>\n",
       "    </tr>\n",
       "    <tr>\n",
       "      <th>5117</th>\n",
       "      <td>2021-01-01</td>\n",
       "      <td>123</td>\n",
       "      <td>Hirzenbach</td>\n",
       "      <td>12</td>\n",
       "      <td>Kreis 12</td>\n",
       "      <td>7</td>\n",
       "      <td>ab 2000</td>\n",
       "      <td>6+</td>\n",
       "      <td>Den Erstwohnungen gleichgestellt</td>\n",
       "      <td>0</td>\n",
       "      <td>0</td>\n",
       "      <td>3</td>\n",
       "    </tr>\n",
       "    <tr>\n",
       "      <th>5118</th>\n",
       "      <td>2021-01-01</td>\n",
       "      <td>123</td>\n",
       "      <td>Hirzenbach</td>\n",
       "      <td>12</td>\n",
       "      <td>Kreis 12</td>\n",
       "      <td>7</td>\n",
       "      <td>ab 2000</td>\n",
       "      <td>6+</td>\n",
       "      <td>Erstwohnung</td>\n",
       "      <td>0</td>\n",
       "      <td>0</td>\n",
       "      <td>4</td>\n",
       "    </tr>\n",
       "    <tr>\n",
       "      <th>5119</th>\n",
       "      <td>2021-01-01</td>\n",
       "      <td>123</td>\n",
       "      <td>Hirzenbach</td>\n",
       "      <td>12</td>\n",
       "      <td>Kreis 12</td>\n",
       "      <td>7</td>\n",
       "      <td>ab 2000</td>\n",
       "      <td>6+</td>\n",
       "      <td>Zweitwohnung</td>\n",
       "      <td>0</td>\n",
       "      <td>0</td>\n",
       "      <td>2</td>\n",
       "    </tr>\n",
       "  </tbody>\n",
       "</table>\n",
       "<p>5120 rows × 12 columns</p>\n",
       "</div>"
      ],
      "text/plain": [
       "           Jahr  QuarSort    QuarLang  KreisSort KreisLang  BauperiodeSort BauperiodeLang Zimmer  \\\n",
       "0    2021-01-01        11     Rathaus          1   Kreis 1               1       vor 1900      1   \n",
       "1    2021-01-01        11     Rathaus          1   Kreis 1               1       vor 1900      1   \n",
       "2    2021-01-01        11     Rathaus          1   Kreis 1               1       vor 1900      1   \n",
       "3    2021-01-01        11     Rathaus          1   Kreis 1               1       vor 1900      1   \n",
       "4    2021-01-01        11     Rathaus          1   Kreis 1               1       vor 1900      1   \n",
       "...         ...       ...         ...        ...       ...             ...            ...    ...   \n",
       "5115 2021-01-01       123  Hirzenbach         12  Kreis 12               7        ab 2000      5   \n",
       "5116 2021-01-01       123  Hirzenbach         12  Kreis 12               7        ab 2000      5   \n",
       "5117 2021-01-01       123  Hirzenbach         12  Kreis 12               7        ab 2000     6+   \n",
       "5118 2021-01-01       123  Hirzenbach         12  Kreis 12               7        ab 2000     6+   \n",
       "5119 2021-01-01       123  Hirzenbach         12  Kreis 12               7        ab 2000     6+   \n",
       "\n",
       "                               Nutzung  Fl_Zweitwhg  Fl_Apartment  AnzWhg  \n",
       "0     Den Erstwohnungen gleichgestellt            0             0      70  \n",
       "1     Den Erstwohnungen gleichgestellt            0             1      22  \n",
       "2                          Erstwohnung            0             0     286  \n",
       "3                          Unbewohnbar            0             0       6  \n",
       "4                         Zweitwohnung            0             0      23  \n",
       "...                                ...          ...           ...     ...  \n",
       "5115                      Zweitwohnung            0             0       3  \n",
       "5116                      Zweitwohnung            1             0       1  \n",
       "5117  Den Erstwohnungen gleichgestellt            0             0       3  \n",
       "5118                       Erstwohnung            0             0       4  \n",
       "5119                      Zweitwohnung            0             0       2  \n",
       "\n",
       "[5120 rows x 12 columns]"
      ]
     },
     "execution_count": 38,
     "metadata": {},
     "output_type": "execute_result"
    }
   ],
   "source": [
    "data2betested['Jahr']=pd.to_datetime(data2betested['Jahr'], format='%Y')\n",
    "\n",
    "#TO DO --> setze das Datum auf den 31.12. der Jahres.\n",
    "#test=data2betested[['StichtagDatJahr']].date().replace(month=12, day=31)\n",
    "\n",
    "data2betested\n",
    "\n"
   ]
  },
  {
   "cell_type": "markdown",
   "metadata": {},
   "source": [
    "Bereite die Daten für die Grafik unten vor"
   ]
  },
  {
   "cell_type": "code",
   "execution_count": 39,
   "metadata": {},
   "outputs": [
    {
     "data": {
      "text/plain": [
       "1"
      ]
     },
     "execution_count": 39,
     "metadata": {},
     "output_type": "execute_result"
    }
   ],
   "source": [
    "Jahre = data2betested.groupby(\"Jahr\")\n",
    "len(Jahre)"
   ]
  },
  {
   "cell_type": "code",
   "execution_count": 40,
   "metadata": {},
   "outputs": [
    {
     "name": "stdout",
     "output_type": "stream",
     "text": [
      "2021-01-01 00:00:00 5120\n"
     ]
    }
   ],
   "source": [
    "for key, group in Jahre:\n",
    "    print(key, len(group))"
   ]
  },
  {
   "cell_type": "code",
   "execution_count": 41,
   "metadata": {},
   "outputs": [
    {
     "data": {
      "text/html": [
       "<div>\n",
       "<style scoped>\n",
       "    .dataframe tbody tr th:only-of-type {\n",
       "        vertical-align: middle;\n",
       "    }\n",
       "\n",
       "    .dataframe tbody tr th {\n",
       "        vertical-align: top;\n",
       "    }\n",
       "\n",
       "    .dataframe thead th {\n",
       "        text-align: right;\n",
       "    }\n",
       "</style>\n",
       "<table border=\"1\" class=\"dataframe\">\n",
       "  <thead>\n",
       "    <tr style=\"text-align: right;\">\n",
       "      <th></th>\n",
       "      <th>Jahr</th>\n",
       "      <th>QuarSort</th>\n",
       "      <th>QuarLang</th>\n",
       "      <th>KreisSort</th>\n",
       "      <th>KreisLang</th>\n",
       "      <th>BauperiodeSort</th>\n",
       "      <th>BauperiodeLang</th>\n",
       "      <th>Zimmer</th>\n",
       "      <th>Nutzung</th>\n",
       "      <th>Fl_Zweitwhg</th>\n",
       "      <th>Fl_Apartment</th>\n",
       "      <th>AnzWhg</th>\n",
       "    </tr>\n",
       "  </thead>\n",
       "  <tbody>\n",
       "    <tr>\n",
       "      <th>0</th>\n",
       "      <td>2021-01-01</td>\n",
       "      <td>11</td>\n",
       "      <td>Rathaus</td>\n",
       "      <td>1</td>\n",
       "      <td>Kreis 1</td>\n",
       "      <td>1</td>\n",
       "      <td>vor 1900</td>\n",
       "      <td>1</td>\n",
       "      <td>Den Erstwohnungen gleichgestellt</td>\n",
       "      <td>0</td>\n",
       "      <td>0</td>\n",
       "      <td>70</td>\n",
       "    </tr>\n",
       "    <tr>\n",
       "      <th>1</th>\n",
       "      <td>2021-01-01</td>\n",
       "      <td>11</td>\n",
       "      <td>Rathaus</td>\n",
       "      <td>1</td>\n",
       "      <td>Kreis 1</td>\n",
       "      <td>1</td>\n",
       "      <td>vor 1900</td>\n",
       "      <td>1</td>\n",
       "      <td>Den Erstwohnungen gleichgestellt</td>\n",
       "      <td>0</td>\n",
       "      <td>1</td>\n",
       "      <td>22</td>\n",
       "    </tr>\n",
       "    <tr>\n",
       "      <th>2</th>\n",
       "      <td>2021-01-01</td>\n",
       "      <td>11</td>\n",
       "      <td>Rathaus</td>\n",
       "      <td>1</td>\n",
       "      <td>Kreis 1</td>\n",
       "      <td>1</td>\n",
       "      <td>vor 1900</td>\n",
       "      <td>1</td>\n",
       "      <td>Erstwohnung</td>\n",
       "      <td>0</td>\n",
       "      <td>0</td>\n",
       "      <td>286</td>\n",
       "    </tr>\n",
       "  </tbody>\n",
       "</table>\n",
       "</div>"
      ],
      "text/plain": [
       "        Jahr  QuarSort QuarLang  KreisSort KreisLang  BauperiodeSort BauperiodeLang Zimmer  \\\n",
       "0 2021-01-01        11  Rathaus          1   Kreis 1               1       vor 1900      1   \n",
       "1 2021-01-01        11  Rathaus          1   Kreis 1               1       vor 1900      1   \n",
       "2 2021-01-01        11  Rathaus          1   Kreis 1               1       vor 1900      1   \n",
       "\n",
       "                            Nutzung  Fl_Zweitwhg  Fl_Apartment  AnzWhg  \n",
       "0  Den Erstwohnungen gleichgestellt            0             0      70  \n",
       "1  Den Erstwohnungen gleichgestellt            0             1      22  \n",
       "2                       Erstwohnung            0             0     286  "
      ]
     },
     "execution_count": 41,
     "metadata": {},
     "output_type": "execute_result"
    }
   ],
   "source": [
    "myJahr = \"2021-01-01\"\n",
    "aktuellesJahr=Jahre.get_group(myJahr)   \n",
    "aktuellesJahr.head(3)\n"
   ]
  },
  {
   "cell_type": "markdown",
   "metadata": {},
   "source": [
    "**Selektionen und Aggregationen**\n",
    "\n",
    "Check this [Doku](https://www.shanelynn.ie/summarising-aggregation-and-grouping-data-in-python-pandas/)"
   ]
  },
  {
   "cell_type": "code",
   "execution_count": 42,
   "metadata": {},
   "outputs": [],
   "source": [
    "#test = data2betested.groupby(['StichtagDatJahr', 'AlterV20Kurz'])[['AnzBestWir']].agg()\n",
    "\n",
    "# produces Pandas Series\n",
    "    #data2betested.groupby(['StichtagDatJahr', 'KonOGDSort'])['AnzBestWir'].sum()\n",
    "# Produces Pandas DataFrame\n",
    "    #data2betested.groupby(['StichtagDatJahr', 'KonOGDSort'])[['AnzBestWir']].sum()\n",
    "    \n",
    "\n",
    "    "
   ]
  },
  {
   "cell_type": "markdown",
   "metadata": {},
   "source": [
    "**Einfache Visualisierungen zur Plausi**"
   ]
  },
  {
   "cell_type": "markdown",
   "metadata": {},
   "source": [
    "Exploriere die Daten mit Pivottable.JS"
   ]
  },
  {
   "cell_type": "code",
   "execution_count": 43,
   "metadata": {},
   "outputs": [
    {
     "data": {
      "text/html": [
       "\n",
       "        <iframe\n",
       "            width=\"100%\"\n",
       "            height=\"500\"\n",
       "            src=\"pivottablejs.html\"\n",
       "            frameborder=\"0\"\n",
       "            allowfullscreen\n",
       "        ></iframe>\n",
       "        "
      ],
      "text/plain": [
       "<IPython.lib.display.IFrame at 0x2a6b0bd9340>"
      ]
     },
     "execution_count": 43,
     "metadata": {},
     "output_type": "execute_result"
    }
   ],
   "source": [
    "from pivottablejs import pivot_ui\n",
    "\n",
    "pivot_ui(data2betested)"
   ]
  },
  {
   "cell_type": "markdown",
   "metadata": {},
   "source": [
    "Liniendiagramm \n",
    "[Link zur Doku](https://altair-viz.github.io/gallery/multiline_highlight.html)"
   ]
  },
  {
   "cell_type": "code",
   "execution_count": 115,
   "metadata": {},
   "outputs": [
    {
     "data": {
      "text/html": [
       "<div>\n",
       "<style scoped>\n",
       "    .dataframe tbody tr th:only-of-type {\n",
       "        vertical-align: middle;\n",
       "    }\n",
       "\n",
       "    .dataframe tbody tr th {\n",
       "        vertical-align: top;\n",
       "    }\n",
       "\n",
       "    .dataframe thead th {\n",
       "        text-align: right;\n",
       "    }\n",
       "</style>\n",
       "<table border=\"1\" class=\"dataframe\">\n",
       "  <thead>\n",
       "    <tr style=\"text-align: right;\">\n",
       "      <th></th>\n",
       "      <th>Jahr</th>\n",
       "      <th>QuarSort</th>\n",
       "      <th>QuarLang</th>\n",
       "      <th>KreisSort</th>\n",
       "      <th>KreisLang</th>\n",
       "      <th>BauperiodeSort</th>\n",
       "      <th>BauperiodeLang</th>\n",
       "      <th>Zimmer</th>\n",
       "      <th>Nutzung</th>\n",
       "      <th>Fl_Zweitwhg</th>\n",
       "      <th>Fl_Apartment</th>\n",
       "      <th>AnzWhg</th>\n",
       "    </tr>\n",
       "  </thead>\n",
       "  <tbody>\n",
       "    <tr>\n",
       "      <th>0</th>\n",
       "      <td>2021-01-01</td>\n",
       "      <td>11</td>\n",
       "      <td>Rathaus</td>\n",
       "      <td>1</td>\n",
       "      <td>Kreis 1</td>\n",
       "      <td>1</td>\n",
       "      <td>vor 1900</td>\n",
       "      <td>1</td>\n",
       "      <td>Den Erstwohnungen gleichgestellt</td>\n",
       "      <td>0</td>\n",
       "      <td>0</td>\n",
       "      <td>70</td>\n",
       "    </tr>\n",
       "    <tr>\n",
       "      <th>1</th>\n",
       "      <td>2021-01-01</td>\n",
       "      <td>11</td>\n",
       "      <td>Rathaus</td>\n",
       "      <td>1</td>\n",
       "      <td>Kreis 1</td>\n",
       "      <td>1</td>\n",
       "      <td>vor 1900</td>\n",
       "      <td>1</td>\n",
       "      <td>Den Erstwohnungen gleichgestellt</td>\n",
       "      <td>0</td>\n",
       "      <td>1</td>\n",
       "      <td>22</td>\n",
       "    </tr>\n",
       "    <tr>\n",
       "      <th>2</th>\n",
       "      <td>2021-01-01</td>\n",
       "      <td>11</td>\n",
       "      <td>Rathaus</td>\n",
       "      <td>1</td>\n",
       "      <td>Kreis 1</td>\n",
       "      <td>1</td>\n",
       "      <td>vor 1900</td>\n",
       "      <td>1</td>\n",
       "      <td>Erstwohnung</td>\n",
       "      <td>0</td>\n",
       "      <td>0</td>\n",
       "      <td>286</td>\n",
       "    </tr>\n",
       "  </tbody>\n",
       "</table>\n",
       "</div>"
      ],
      "text/plain": [
       "        Jahr  QuarSort QuarLang  KreisSort KreisLang  BauperiodeSort BauperiodeLang Zimmer  \\\n",
       "0 2021-01-01        11  Rathaus          1   Kreis 1               1       vor 1900      1   \n",
       "1 2021-01-01        11  Rathaus          1   Kreis 1               1       vor 1900      1   \n",
       "2 2021-01-01        11  Rathaus          1   Kreis 1               1       vor 1900      1   \n",
       "\n",
       "                            Nutzung  Fl_Zweitwhg  Fl_Apartment  AnzWhg  \n",
       "0  Den Erstwohnungen gleichgestellt            0             0      70  \n",
       "1  Den Erstwohnungen gleichgestellt            0             1      22  \n",
       "2                       Erstwohnung            0             0     286  "
      ]
     },
     "execution_count": 115,
     "metadata": {},
     "output_type": "execute_result"
    }
   ],
   "source": [
    "mySelection = data2betested[(data2betested.Jahr==\"2021\") & (data2betested.QuarSort >1)]\n",
    "mySelection.head(3)"
   ]
  },
  {
   "cell_type": "code",
   "execution_count": 171,
   "metadata": {},
   "outputs": [
    {
     "data": {
      "text/html": [
       "<div>\n",
       "<style scoped>\n",
       "    .dataframe tbody tr th:only-of-type {\n",
       "        vertical-align: middle;\n",
       "    }\n",
       "\n",
       "    .dataframe tbody tr th {\n",
       "        vertical-align: top;\n",
       "    }\n",
       "\n",
       "    .dataframe thead th {\n",
       "        text-align: right;\n",
       "    }\n",
       "</style>\n",
       "<table border=\"1\" class=\"dataframe\">\n",
       "  <thead>\n",
       "    <tr style=\"text-align: right;\">\n",
       "      <th></th>\n",
       "      <th></th>\n",
       "      <th>AnzWhg</th>\n",
       "    </tr>\n",
       "    <tr>\n",
       "      <th>BauperiodeSort</th>\n",
       "      <th>BauperiodeLang</th>\n",
       "      <th></th>\n",
       "    </tr>\n",
       "  </thead>\n",
       "  <tbody>\n",
       "    <tr>\n",
       "      <th>7</th>\n",
       "      <th>ab 2000</th>\n",
       "      <td>1062</td>\n",
       "    </tr>\n",
       "    <tr>\n",
       "      <th>6</th>\n",
       "      <th>1980–199</th>\n",
       "      <td>510</td>\n",
       "    </tr>\n",
       "    <tr>\n",
       "      <th>5</th>\n",
       "      <th>1960–197</th>\n",
       "      <td>1125</td>\n",
       "    </tr>\n",
       "    <tr>\n",
       "      <th>4</th>\n",
       "      <th>1940–195</th>\n",
       "      <td>973</td>\n",
       "    </tr>\n",
       "    <tr>\n",
       "      <th>3</th>\n",
       "      <th>1920–193</th>\n",
       "      <td>943</td>\n",
       "    </tr>\n",
       "    <tr>\n",
       "      <th>2</th>\n",
       "      <th>1900–191</th>\n",
       "      <td>729</td>\n",
       "    </tr>\n",
       "    <tr>\n",
       "      <th>1</th>\n",
       "      <th>vor 1900</th>\n",
       "      <td>1541</td>\n",
       "    </tr>\n",
       "  </tbody>\n",
       "</table>\n",
       "</div>"
      ],
      "text/plain": [
       "                               AnzWhg\n",
       "BauperiodeSort BauperiodeLang        \n",
       "7              ab 2000           1062\n",
       "6              1980–199           510\n",
       "5              1960–197          1125\n",
       "4              1940–195           973\n",
       "3              1920–193           943\n",
       "2              1900–191           729\n",
       "1              vor 1900          1541"
      ]
     },
     "execution_count": 171,
     "metadata": {},
     "output_type": "execute_result"
    }
   ],
   "source": [
    "#Testaggregation\n",
    "\n",
    "agg_mySelection = mySelection \\\n",
    "    .groupby(['BauperiodeSort','BauperiodeLang']) \\\n",
    "    .agg(AnzWhg=('AnzWhg', 'sum')) \\\n",
    "    .query('AnzWhg > 0') \\\n",
    "    .sort_values('BauperiodeSort', ascending=False) \\\n",
    "\n",
    "agg_mySelection.head(10)"
   ]
  },
  {
   "cell_type": "code",
   "execution_count": 172,
   "metadata": {},
   "outputs": [],
   "source": [
    "mySelection =data2betested[(data2betested.Fl_Zweitwhg == 1)]"
   ]
  },
  {
   "cell_type": "code",
   "execution_count": 160,
   "metadata": {},
   "outputs": [
    {
     "data": {
      "application/vnd.plotly.v1+json": {
       "config": {
        "plotlyServerURL": "https://plot.ly"
       },
       "data": [
        {
         "branchvalues": "total",
         "customdata": [
          [
           "Affoltern",
           1.5
          ],
          [
           "Albisrieden",
           1.4
          ],
          [
           "Alt-Wiedikon",
           13.654545454545454
          ],
          [
           "Altstetten",
           2.5
          ],
          [
           "City",
           2
          ],
          [
           "Enge",
           3
          ],
          [
           "Fluntern",
           3.6
          ],
          [
           "Gewerbeschule",
           17.58823529411765
          ],
          [
           "Hard",
           5.32
          ],
          [
           "Hirslanden",
           4.565217391304348
          ],
          [
           "Hochschulen",
           1
          ],
          [
           "Hottingen",
           8.551020408163266
          ],
          [
           "Höngg",
           1
          ],
          [
           "Langstrasse",
           5.625
          ],
          [
           "Leimbach",
           1
          ],
          [
           "Mühlebach",
           5.333333333333333
          ],
          [
           "Oberstrass",
           8.18918918918919
          ],
          [
           "Oerlikon",
           3.3
          ],
          [
           "Rathaus",
           2
          ],
          [
           "Schwamendingen-Mitte",
           1
          ],
          [
           "Seebach",
           48.372093023255815
          ],
          [
           "Seefeld",
           11.508474576271187
          ],
          [
           "Sihlfeld",
           13.611764705882353
          ],
          [
           "Unterstrass",
           13.878787878787879
          ],
          [
           "Weinegg",
           2.4
          ],
          [
           "Werd",
           3.3333333333333335
          ],
          [
           "Wipkingen",
           8.105263157894736
          ],
          [
           "Witikon",
           1
          ],
          [
           "Wollishofen",
           4.428571428571429
          ],
          [
           "Affoltern",
           6.565217391304348
          ],
          [
           "Albisrieden",
           6
          ],
          [
           "Alt-Wiedikon",
           16.5
          ],
          [
           "Altstetten",
           19.676923076923078
          ],
          [
           "City",
           1
          ],
          [
           "Enge",
           9.595744680851064
          ],
          [
           "Escher Wyss",
           1
          ],
          [
           "Fluntern",
           9.333333333333334
          ],
          [
           "Friesenberg",
           4.846153846153846
          ],
          [
           "Gewerbeschule",
           2.5384615384615383
          ],
          [
           "Hard",
           9.875
          ],
          [
           "Hirslanden",
           9.64864864864865
          ],
          [
           "Hirzenbach",
           1
          ],
          [
           "Hochschulen",
           1
          ],
          [
           "Hottingen",
           7.882352941176471
          ],
          [
           "Höngg",
           8.379310344827585
          ],
          [
           "Langstrasse",
           8.736842105263158
          ],
          [
           "Leimbach",
           2
          ],
          [
           "Lindenhof",
           1
          ],
          [
           "Mühlebach",
           6.6521739130434785
          ],
          [
           "Oberstrass",
           5.074074074074074
          ],
          [
           "Oerlikon",
           17.372881355932204
          ],
          [
           "Rathaus",
           1
          ],
          [
           "Schwamendingen-Mitte",
           2.6
          ],
          [
           "Seebach",
           5.777777777777778
          ],
          [
           "Seefeld",
           7.666666666666667
          ],
          [
           "Sihlfeld",
           13.262295081967213
          ],
          [
           "Unterstrass",
           10.962962962962964
          ],
          [
           "Weinegg",
           6.571428571428571
          ],
          [
           "Werd",
           6.333333333333333
          ],
          [
           "Wipkingen",
           13.541666666666666
          ],
          [
           "Witikon",
           4.363636363636363
          ],
          [
           "Wollishofen",
           17.54054054054054
          ],
          [
           "Affoltern",
           4.8
          ],
          [
           "Albisrieden",
           8.419354838709678
          ],
          [
           "Alt-Wiedikon",
           9.093023255813954
          ],
          [
           "Altstetten",
           9.444444444444445
          ],
          [
           "City",
           3.3333333333333335
          ],
          [
           "Enge",
           9.37037037037037
          ],
          [
           "Escher Wyss",
           1
          ],
          [
           "Fluntern",
           5.709677419354839
          ],
          [
           "Friesenberg",
           3
          ],
          [
           "Hard",
           9.2
          ],
          [
           "Hirslanden",
           12.707317073170731
          ],
          [
           "Hirzenbach",
           4.866666666666666
          ],
          [
           "Hottingen",
           7.555555555555555
          ],
          [
           "Höngg",
           7.6875
          ],
          [
           "Langstrasse",
           11.478260869565217
          ],
          [
           "Leimbach",
           1.8
          ],
          [
           "Lindenhof",
           1.6666666666666667
          ],
          [
           "Mühlebach",
           14.75
          ],
          [
           "Oberstrass",
           5.2727272727272725
          ],
          [
           "Oerlikon",
           6.851851851851852
          ],
          [
           "Rathaus",
           6.181818181818182
          ],
          [
           "Saatlen",
           2.142857142857143
          ],
          [
           "Schwamendingen-Mitte",
           6.7272727272727275
          ],
          [
           "Seebach",
           52.177304964539005
          ],
          [
           "Seefeld",
           14.323076923076924
          ],
          [
           "Sihlfeld",
           15.878048780487806
          ],
          [
           "Unterstrass",
           8.652173913043478
          ],
          [
           "Weinegg",
           4.384615384615385
          ],
          [
           "Werd",
           10.68421052631579
          ],
          [
           "Wipkingen",
           2.2
          ],
          [
           "Witikon",
           4.473684210526316
          ],
          [
           "Wollishofen",
           10.64102564102564
          ],
          [
           "Affoltern",
           6.333333333333333
          ],
          [
           "Albisrieden",
           7.186046511627907
          ],
          [
           "Alt-Wiedikon",
           15.043478260869565
          ],
          [
           "Altstetten",
           11.285714285714286
          ],
          [
           "Enge",
           8.214285714285714
          ],
          [
           "Escher Wyss",
           1
          ],
          [
           "Fluntern",
           7.538461538461538
          ],
          [
           "Friesenberg",
           22.658536585365855
          ],
          [
           "Gewerbeschule",
           4
          ],
          [
           "Hard",
           23.35
          ],
          [
           "Hirslanden",
           4.714285714285714
          ],
          [
           "Hirzenbach",
           7.173913043478261
          ],
          [
           "Hochschulen",
           8.2
          ],
          [
           "Hottingen",
           8.255813953488373
          ],
          [
           "Höngg",
           9.292682926829269
          ],
          [
           "Langstrasse",
           12.619047619047619
          ],
          [
           "Leimbach",
           4.111111111111111
          ],
          [
           "Lindenhof",
           3.923076923076923
          ],
          [
           "Mühlebach",
           11.523809523809524
          ],
          [
           "Oberstrass",
           6.84
          ],
          [
           "Oerlikon",
           28.835051546391753
          ],
          [
           "Rathaus",
           4.2
          ],
          [
           "Saatlen",
           1.5
          ],
          [
           "Schwamendingen-Mitte",
           7.375
          ],
          [
           "Seebach",
           21.105263157894736
          ],
          [
           "Seefeld",
           4.5
          ],
          [
           "Sihlfeld",
           8.347826086956522
          ],
          [
           "Unterstrass",
           80.80701754385964
          ],
          [
           "Weinegg",
           6.6
          ],
          [
           "Werd",
           14
          ],
          [
           "Wipkingen",
           5
          ],
          [
           "Witikon",
           12.079365079365079
          ],
          [
           "Wollishofen",
           6.103448275862069
          ],
          [
           "Affoltern",
           10.88888888888889
          ],
          [
           "Albisrieden",
           1.6666666666666667
          ],
          [
           "Alt-Wiedikon",
           11.285714285714286
          ],
          [
           "Altstetten",
           6.703703703703703
          ],
          [
           "City",
           2.7142857142857144
          ],
          [
           "Enge",
           7.848484848484849
          ],
          [
           "Escher Wyss",
           2.3333333333333335
          ],
          [
           "Fluntern",
           4.948717948717949
          ],
          [
           "Friesenberg",
           1
          ],
          [
           "Gewerbeschule",
           2.8181818181818183
          ],
          [
           "Hirslanden",
           1.5
          ],
          [
           "Hochschulen",
           4.111111111111111
          ],
          [
           "Hottingen",
           7.606060606060606
          ],
          [
           "Höngg",
           11.222222222222221
          ],
          [
           "Langstrasse",
           6.2
          ],
          [
           "Leimbach",
           3.857142857142857
          ],
          [
           "Lindenhof",
           1.5
          ],
          [
           "Mühlebach",
           4
          ],
          [
           "Oberstrass",
           1.5714285714285714
          ],
          [
           "Oerlikon",
           4.578947368421052
          ],
          [
           "Rathaus",
           1
          ],
          [
           "Saatlen",
           1.8
          ],
          [
           "Schwamendingen-Mitte",
           3
          ],
          [
           "Seebach",
           3
          ],
          [
           "Seefeld",
           3
          ],
          [
           "Sihlfeld",
           3.6153846153846154
          ],
          [
           "Unterstrass",
           11.64516129032258
          ],
          [
           "Weinegg",
           3.25
          ],
          [
           "Werd",
           2.5
          ],
          [
           "Wipkingen",
           2.7142857142857144
          ],
          [
           "Witikon",
           8.454545454545455
          ],
          [
           "Wollishofen",
           4.6923076923076925
          ],
          [
           "Affoltern",
           7.516129032258065
          ],
          [
           "Albisrieden",
           26.063291139240505
          ],
          [
           "Alt-Wiedikon",
           89.368
          ],
          [
           "Altstetten",
           15.333333333333334
          ],
          [
           "Enge",
           7.275862068965517
          ],
          [
           "Escher Wyss",
           38.333333333333336
          ],
          [
           "Fluntern",
           10.061224489795919
          ],
          [
           "Friesenberg",
           2.2
          ],
          [
           "Gewerbeschule",
           4.384615384615385
          ],
          [
           "Hard",
           9.962962962962964
          ],
          [
           "Hirslanden",
           2.3333333333333335
          ],
          [
           "Hirzenbach",
           4.2727272727272725
          ],
          [
           "Hottingen",
           3.9473684210526314
          ],
          [
           "Höngg",
           5.142857142857143
          ],
          [
           "Langstrasse",
           6.0256410256410255
          ],
          [
           "Leimbach",
           5
          ],
          [
           "Mühlebach",
           3.5
          ],
          [
           "Oberstrass",
           3.1818181818181817
          ],
          [
           "Oerlikon",
           5.733333333333333
          ],
          [
           "Rathaus",
           3.3333333333333335
          ],
          [
           "Saatlen",
           1
          ],
          [
           "Schwamendingen-Mitte",
           1
          ],
          [
           "Seebach",
           25.408163265306122
          ],
          [
           "Seefeld",
           4.636363636363637
          ],
          [
           "Sihlfeld",
           3.3333333333333335
          ],
          [
           "Unterstrass",
           3
          ],
          [
           "Weinegg",
           2.5714285714285716
          ],
          [
           "Werd",
           2.111111111111111
          ],
          [
           "Wipkingen",
           1.4
          ],
          [
           "Witikon",
           4.176470588235294
          ],
          [
           "Wollishofen",
           8.777777777777779
          ],
          [
           "Affoltern",
           5.625
          ],
          [
           "Albisrieden",
           2.5384615384615383
          ],
          [
           "Alt-Wiedikon",
           12.148936170212766
          ],
          [
           "Altstetten",
           2.4
          ],
          [
           "City",
           12.372549019607844
          ],
          [
           "Enge",
           22.29655172413793
          ],
          [
           "Escher Wyss",
           3
          ],
          [
           "Fluntern",
           3.9411764705882355
          ],
          [
           "Friesenberg",
           2
          ],
          [
           "Gewerbeschule",
           25.3
          ],
          [
           "Hard",
           8.93939393939394
          ],
          [
           "Hirslanden",
           7.4
          ],
          [
           "Hirzenbach",
           1
          ],
          [
           "Hochschulen",
           3.6956521739130435
          ],
          [
           "Hottingen",
           16.440860215053764
          ],
          [
           "Höngg",
           6.0344827586206895
          ],
          [
           "Langstrasse",
           47.51207729468599
          ],
          [
           "Lindenhof",
           22.666666666666668
          ],
          [
           "Mühlebach",
           7
          ],
          [
           "Oberstrass",
           7.521739130434782
          ],
          [
           "Oerlikon",
           3
          ],
          [
           "Rathaus",
           39.25
          ],
          [
           "Schwamendingen-Mitte",
           2.3333333333333335
          ],
          [
           "Seebach",
           3.6666666666666665
          ],
          [
           "Seefeld",
           14.472222222222221
          ],
          [
           "Sihlfeld",
           9.784313725490197
          ],
          [
           "Unterstrass",
           5.923076923076923
          ],
          [
           "Weinegg",
           3.210526315789474
          ],
          [
           "Werd",
           17.210526315789473
          ],
          [
           "Wipkingen",
           2.8181818181818183
          ],
          [
           "Witikon",
           1.5
          ],
          [
           "Wollishofen",
           2.6
          ],
          [
           "Affoltern",
           7.254777070063694
          ],
          [
           "Albisrieden",
           14.044776119402986
          ],
          [
           "Alt-Wiedikon",
           48.75373134328358
          ],
          [
           "Altstetten",
           13.112359550561798
          ],
          [
           "City",
           10.074626865671641
          ],
          [
           "Enge",
           14.345565749235474
          ],
          [
           "Escher Wyss",
           33.6231884057971
          ],
          [
           "Fluntern",
           7.036697247706422
          ],
          [
           "Friesenberg",
           14.884057971014492
          ],
          [
           "Gewerbeschule",
           18.65714285714286
          ],
          [
           "Hard",
           12.03954802259887
          ],
          [
           "Hirslanden",
           8.329032258064515
          ],
          [
           "Hirzenbach",
           5.627450980392157
          ],
          [
           "Hochschulen",
           4.454545454545454
          ],
          [
           "Hottingen",
           10.322475570032573
          ],
          [
           "Höngg",
           8.243243243243244
          ],
          [
           "Langstrasse",
           28.890818858560795
          ],
          [
           "Leimbach",
           3.9583333333333335
          ],
          [
           "Lindenhof",
           19.96732026143791
          ],
          [
           "Mühlebach",
           9.623481781376519
          ],
          [
           "Oberstrass",
           6.394285714285714
          ],
          [
           "Oerlikon",
           16.806949806949806
          ],
          [
           "Rathaus",
           32.813559322033896
          ],
          [
           "Saatlen",
           1.736842105263158
          ],
          [
           "Schwamendingen-Mitte",
           5.123076923076923
          ],
          [
           "Seebach",
           34.918103448275865
          ],
          [
           "Seefeld",
           11.434456928838951
          ],
          [
           "Sihlfeld",
           11.608414239482201
          ],
          [
           "Unterstrass",
           32.366391184573004
          ],
          [
           "Weinegg",
           4.450980392156863
          ],
          [
           "Werd",
           12.527272727272727
          ],
          [
           "Wipkingen",
           8.157142857142857
          ],
          [
           "Witikon",
           8.14864864864865
          ],
          [
           "Wollishofen",
           10.412765957446808
          ],
          [
           "(?)",
           22.933463796477493
          ],
          [
           "(?)",
           8.206153846153846
          ],
          [
           "(?)",
           24.652272727272727
          ],
          [
           "(?)",
           4.837037037037037
          ],
          [
           "(?)",
           12.01311475409836
          ],
          [
           "(?)",
           33.63894967177243
          ],
          [
           "(?)",
           21.263087248322147
          ],
          [
           "(?)",
           25.2555910543131
          ],
          [
           "(?)",
           23.9182156133829
          ],
          [
           "(?)",
           8.695652173913043
          ],
          [
           "(?)",
           9.551948051948052
          ],
          [
           "(?)",
           13.512820512820513
          ],
          [
           "(?)",
           19.007554845270956
          ]
         ],
         "domain": {
          "x": [
           0,
           1
          ],
          "y": [
           0,
           1
          ]
         },
         "hovertemplate": "labels=%{label}<br>AnzWhg_sum=%{value}<br>parent=%{parent}<br>id=%{id}<br>QuarLang=%{customdata[0]}<br>AnzWhg=%{color}<extra></extra>",
         "ids": [
          "Zweitwohnungen/Kreis 11/Affoltern/1900–191",
          "Zweitwohnungen/Kreis 9/Albisrieden/1900–191",
          "Zweitwohnungen/Kreis 3/Alt-Wiedikon/1900–191",
          "Zweitwohnungen/Kreis 9/Altstetten/1900–191",
          "Zweitwohnungen/Kreis 1/City/1900–191",
          "Zweitwohnungen/Kreis 2/Enge/1900–191",
          "Zweitwohnungen/Kreis 7/Fluntern/1900–191",
          "Zweitwohnungen/Kreis 5/Gewerbeschule/1900–191",
          "Zweitwohnungen/Kreis 4/Hard/1900–191",
          "Zweitwohnungen/Kreis 7/Hirslanden/1900–191",
          "Zweitwohnungen/Kreis 1/Hochschulen/1900–191",
          "Zweitwohnungen/Kreis 7/Hottingen/1900–191",
          "Zweitwohnungen/Kreis 10/Höngg/1900–191",
          "Zweitwohnungen/Kreis 4/Langstrasse/1900–191",
          "Zweitwohnungen/Kreis 2/Leimbach/1900–191",
          "Zweitwohnungen/Kreis 8/Mühlebach/1900–191",
          "Zweitwohnungen/Kreis 6/Oberstrass/1900–191",
          "Zweitwohnungen/Kreis 11/Oerlikon/1900–191",
          "Zweitwohnungen/Kreis 1/Rathaus/1900–191",
          "Zweitwohnungen/Kreis 12/Schwamendingen-Mitte/1900–191",
          "Zweitwohnungen/Kreis 11/Seebach/1900–191",
          "Zweitwohnungen/Kreis 8/Seefeld/1900–191",
          "Zweitwohnungen/Kreis 3/Sihlfeld/1900–191",
          "Zweitwohnungen/Kreis 6/Unterstrass/1900–191",
          "Zweitwohnungen/Kreis 8/Weinegg/1900–191",
          "Zweitwohnungen/Kreis 4/Werd/1900–191",
          "Zweitwohnungen/Kreis 10/Wipkingen/1900–191",
          "Zweitwohnungen/Kreis 7/Witikon/1900–191",
          "Zweitwohnungen/Kreis 2/Wollishofen/1900–191",
          "Zweitwohnungen/Kreis 11/Affoltern/1920–193",
          "Zweitwohnungen/Kreis 9/Albisrieden/1920–193",
          "Zweitwohnungen/Kreis 3/Alt-Wiedikon/1920–193",
          "Zweitwohnungen/Kreis 9/Altstetten/1920–193",
          "Zweitwohnungen/Kreis 1/City/1920–193",
          "Zweitwohnungen/Kreis 2/Enge/1920–193",
          "Zweitwohnungen/Kreis 5/Escher Wyss/1920–193",
          "Zweitwohnungen/Kreis 7/Fluntern/1920–193",
          "Zweitwohnungen/Kreis 3/Friesenberg/1920–193",
          "Zweitwohnungen/Kreis 5/Gewerbeschule/1920–193",
          "Zweitwohnungen/Kreis 4/Hard/1920–193",
          "Zweitwohnungen/Kreis 7/Hirslanden/1920–193",
          "Zweitwohnungen/Kreis 12/Hirzenbach/1920–193",
          "Zweitwohnungen/Kreis 1/Hochschulen/1920–193",
          "Zweitwohnungen/Kreis 7/Hottingen/1920–193",
          "Zweitwohnungen/Kreis 10/Höngg/1920–193",
          "Zweitwohnungen/Kreis 4/Langstrasse/1920–193",
          "Zweitwohnungen/Kreis 2/Leimbach/1920–193",
          "Zweitwohnungen/Kreis 1/Lindenhof/1920–193",
          "Zweitwohnungen/Kreis 8/Mühlebach/1920–193",
          "Zweitwohnungen/Kreis 6/Oberstrass/1920–193",
          "Zweitwohnungen/Kreis 11/Oerlikon/1920–193",
          "Zweitwohnungen/Kreis 1/Rathaus/1920–193",
          "Zweitwohnungen/Kreis 12/Schwamendingen-Mitte/1920–193",
          "Zweitwohnungen/Kreis 11/Seebach/1920–193",
          "Zweitwohnungen/Kreis 8/Seefeld/1920–193",
          "Zweitwohnungen/Kreis 3/Sihlfeld/1920–193",
          "Zweitwohnungen/Kreis 6/Unterstrass/1920–193",
          "Zweitwohnungen/Kreis 8/Weinegg/1920–193",
          "Zweitwohnungen/Kreis 4/Werd/1920–193",
          "Zweitwohnungen/Kreis 10/Wipkingen/1920–193",
          "Zweitwohnungen/Kreis 7/Witikon/1920–193",
          "Zweitwohnungen/Kreis 2/Wollishofen/1920–193",
          "Zweitwohnungen/Kreis 11/Affoltern/1940–195",
          "Zweitwohnungen/Kreis 9/Albisrieden/1940–195",
          "Zweitwohnungen/Kreis 3/Alt-Wiedikon/1940–195",
          "Zweitwohnungen/Kreis 9/Altstetten/1940–195",
          "Zweitwohnungen/Kreis 1/City/1940–195",
          "Zweitwohnungen/Kreis 2/Enge/1940–195",
          "Zweitwohnungen/Kreis 5/Escher Wyss/1940–195",
          "Zweitwohnungen/Kreis 7/Fluntern/1940–195",
          "Zweitwohnungen/Kreis 3/Friesenberg/1940–195",
          "Zweitwohnungen/Kreis 4/Hard/1940–195",
          "Zweitwohnungen/Kreis 7/Hirslanden/1940–195",
          "Zweitwohnungen/Kreis 12/Hirzenbach/1940–195",
          "Zweitwohnungen/Kreis 7/Hottingen/1940–195",
          "Zweitwohnungen/Kreis 10/Höngg/1940–195",
          "Zweitwohnungen/Kreis 4/Langstrasse/1940–195",
          "Zweitwohnungen/Kreis 2/Leimbach/1940–195",
          "Zweitwohnungen/Kreis 1/Lindenhof/1940–195",
          "Zweitwohnungen/Kreis 8/Mühlebach/1940–195",
          "Zweitwohnungen/Kreis 6/Oberstrass/1940–195",
          "Zweitwohnungen/Kreis 11/Oerlikon/1940–195",
          "Zweitwohnungen/Kreis 1/Rathaus/1940–195",
          "Zweitwohnungen/Kreis 12/Saatlen/1940–195",
          "Zweitwohnungen/Kreis 12/Schwamendingen-Mitte/1940–195",
          "Zweitwohnungen/Kreis 11/Seebach/1940–195",
          "Zweitwohnungen/Kreis 8/Seefeld/1940–195",
          "Zweitwohnungen/Kreis 3/Sihlfeld/1940–195",
          "Zweitwohnungen/Kreis 6/Unterstrass/1940–195",
          "Zweitwohnungen/Kreis 8/Weinegg/1940–195",
          "Zweitwohnungen/Kreis 4/Werd/1940–195",
          "Zweitwohnungen/Kreis 10/Wipkingen/1940–195",
          "Zweitwohnungen/Kreis 7/Witikon/1940–195",
          "Zweitwohnungen/Kreis 2/Wollishofen/1940–195",
          "Zweitwohnungen/Kreis 11/Affoltern/1960–197",
          "Zweitwohnungen/Kreis 9/Albisrieden/1960–197",
          "Zweitwohnungen/Kreis 3/Alt-Wiedikon/1960–197",
          "Zweitwohnungen/Kreis 9/Altstetten/1960–197",
          "Zweitwohnungen/Kreis 2/Enge/1960–197",
          "Zweitwohnungen/Kreis 5/Escher Wyss/1960–197",
          "Zweitwohnungen/Kreis 7/Fluntern/1960–197",
          "Zweitwohnungen/Kreis 3/Friesenberg/1960–197",
          "Zweitwohnungen/Kreis 5/Gewerbeschule/1960–197",
          "Zweitwohnungen/Kreis 4/Hard/1960–197",
          "Zweitwohnungen/Kreis 7/Hirslanden/1960–197",
          "Zweitwohnungen/Kreis 12/Hirzenbach/1960–197",
          "Zweitwohnungen/Kreis 1/Hochschulen/1960–197",
          "Zweitwohnungen/Kreis 7/Hottingen/1960–197",
          "Zweitwohnungen/Kreis 10/Höngg/1960–197",
          "Zweitwohnungen/Kreis 4/Langstrasse/1960–197",
          "Zweitwohnungen/Kreis 2/Leimbach/1960–197",
          "Zweitwohnungen/Kreis 1/Lindenhof/1960–197",
          "Zweitwohnungen/Kreis 8/Mühlebach/1960–197",
          "Zweitwohnungen/Kreis 6/Oberstrass/1960–197",
          "Zweitwohnungen/Kreis 11/Oerlikon/1960–197",
          "Zweitwohnungen/Kreis 1/Rathaus/1960–197",
          "Zweitwohnungen/Kreis 12/Saatlen/1960–197",
          "Zweitwohnungen/Kreis 12/Schwamendingen-Mitte/1960–197",
          "Zweitwohnungen/Kreis 11/Seebach/1960–197",
          "Zweitwohnungen/Kreis 8/Seefeld/1960–197",
          "Zweitwohnungen/Kreis 3/Sihlfeld/1960–197",
          "Zweitwohnungen/Kreis 6/Unterstrass/1960–197",
          "Zweitwohnungen/Kreis 8/Weinegg/1960–197",
          "Zweitwohnungen/Kreis 4/Werd/1960–197",
          "Zweitwohnungen/Kreis 10/Wipkingen/1960–197",
          "Zweitwohnungen/Kreis 7/Witikon/1960–197",
          "Zweitwohnungen/Kreis 2/Wollishofen/1960–197",
          "Zweitwohnungen/Kreis 11/Affoltern/1980–199",
          "Zweitwohnungen/Kreis 9/Albisrieden/1980–199",
          "Zweitwohnungen/Kreis 3/Alt-Wiedikon/1980–199",
          "Zweitwohnungen/Kreis 9/Altstetten/1980–199",
          "Zweitwohnungen/Kreis 1/City/1980–199",
          "Zweitwohnungen/Kreis 2/Enge/1980–199",
          "Zweitwohnungen/Kreis 5/Escher Wyss/1980–199",
          "Zweitwohnungen/Kreis 7/Fluntern/1980–199",
          "Zweitwohnungen/Kreis 3/Friesenberg/1980–199",
          "Zweitwohnungen/Kreis 5/Gewerbeschule/1980–199",
          "Zweitwohnungen/Kreis 7/Hirslanden/1980–199",
          "Zweitwohnungen/Kreis 1/Hochschulen/1980–199",
          "Zweitwohnungen/Kreis 7/Hottingen/1980–199",
          "Zweitwohnungen/Kreis 10/Höngg/1980–199",
          "Zweitwohnungen/Kreis 4/Langstrasse/1980–199",
          "Zweitwohnungen/Kreis 2/Leimbach/1980–199",
          "Zweitwohnungen/Kreis 1/Lindenhof/1980–199",
          "Zweitwohnungen/Kreis 8/Mühlebach/1980–199",
          "Zweitwohnungen/Kreis 6/Oberstrass/1980–199",
          "Zweitwohnungen/Kreis 11/Oerlikon/1980–199",
          "Zweitwohnungen/Kreis 1/Rathaus/1980–199",
          "Zweitwohnungen/Kreis 12/Saatlen/1980–199",
          "Zweitwohnungen/Kreis 12/Schwamendingen-Mitte/1980–199",
          "Zweitwohnungen/Kreis 11/Seebach/1980–199",
          "Zweitwohnungen/Kreis 8/Seefeld/1980–199",
          "Zweitwohnungen/Kreis 3/Sihlfeld/1980–199",
          "Zweitwohnungen/Kreis 6/Unterstrass/1980–199",
          "Zweitwohnungen/Kreis 8/Weinegg/1980–199",
          "Zweitwohnungen/Kreis 4/Werd/1980–199",
          "Zweitwohnungen/Kreis 10/Wipkingen/1980–199",
          "Zweitwohnungen/Kreis 7/Witikon/1980–199",
          "Zweitwohnungen/Kreis 2/Wollishofen/1980–199",
          "Zweitwohnungen/Kreis 11/Affoltern/ab 2000",
          "Zweitwohnungen/Kreis 9/Albisrieden/ab 2000",
          "Zweitwohnungen/Kreis 3/Alt-Wiedikon/ab 2000",
          "Zweitwohnungen/Kreis 9/Altstetten/ab 2000",
          "Zweitwohnungen/Kreis 2/Enge/ab 2000",
          "Zweitwohnungen/Kreis 5/Escher Wyss/ab 2000",
          "Zweitwohnungen/Kreis 7/Fluntern/ab 2000",
          "Zweitwohnungen/Kreis 3/Friesenberg/ab 2000",
          "Zweitwohnungen/Kreis 5/Gewerbeschule/ab 2000",
          "Zweitwohnungen/Kreis 4/Hard/ab 2000",
          "Zweitwohnungen/Kreis 7/Hirslanden/ab 2000",
          "Zweitwohnungen/Kreis 12/Hirzenbach/ab 2000",
          "Zweitwohnungen/Kreis 7/Hottingen/ab 2000",
          "Zweitwohnungen/Kreis 10/Höngg/ab 2000",
          "Zweitwohnungen/Kreis 4/Langstrasse/ab 2000",
          "Zweitwohnungen/Kreis 2/Leimbach/ab 2000",
          "Zweitwohnungen/Kreis 8/Mühlebach/ab 2000",
          "Zweitwohnungen/Kreis 6/Oberstrass/ab 2000",
          "Zweitwohnungen/Kreis 11/Oerlikon/ab 2000",
          "Zweitwohnungen/Kreis 1/Rathaus/ab 2000",
          "Zweitwohnungen/Kreis 12/Saatlen/ab 2000",
          "Zweitwohnungen/Kreis 12/Schwamendingen-Mitte/ab 2000",
          "Zweitwohnungen/Kreis 11/Seebach/ab 2000",
          "Zweitwohnungen/Kreis 8/Seefeld/ab 2000",
          "Zweitwohnungen/Kreis 3/Sihlfeld/ab 2000",
          "Zweitwohnungen/Kreis 6/Unterstrass/ab 2000",
          "Zweitwohnungen/Kreis 8/Weinegg/ab 2000",
          "Zweitwohnungen/Kreis 4/Werd/ab 2000",
          "Zweitwohnungen/Kreis 10/Wipkingen/ab 2000",
          "Zweitwohnungen/Kreis 7/Witikon/ab 2000",
          "Zweitwohnungen/Kreis 2/Wollishofen/ab 2000",
          "Zweitwohnungen/Kreis 11/Affoltern/vor 1900",
          "Zweitwohnungen/Kreis 9/Albisrieden/vor 1900",
          "Zweitwohnungen/Kreis 3/Alt-Wiedikon/vor 1900",
          "Zweitwohnungen/Kreis 9/Altstetten/vor 1900",
          "Zweitwohnungen/Kreis 1/City/vor 1900",
          "Zweitwohnungen/Kreis 2/Enge/vor 1900",
          "Zweitwohnungen/Kreis 5/Escher Wyss/vor 1900",
          "Zweitwohnungen/Kreis 7/Fluntern/vor 1900",
          "Zweitwohnungen/Kreis 3/Friesenberg/vor 1900",
          "Zweitwohnungen/Kreis 5/Gewerbeschule/vor 1900",
          "Zweitwohnungen/Kreis 4/Hard/vor 1900",
          "Zweitwohnungen/Kreis 7/Hirslanden/vor 1900",
          "Zweitwohnungen/Kreis 12/Hirzenbach/vor 1900",
          "Zweitwohnungen/Kreis 1/Hochschulen/vor 1900",
          "Zweitwohnungen/Kreis 7/Hottingen/vor 1900",
          "Zweitwohnungen/Kreis 10/Höngg/vor 1900",
          "Zweitwohnungen/Kreis 4/Langstrasse/vor 1900",
          "Zweitwohnungen/Kreis 1/Lindenhof/vor 1900",
          "Zweitwohnungen/Kreis 8/Mühlebach/vor 1900",
          "Zweitwohnungen/Kreis 6/Oberstrass/vor 1900",
          "Zweitwohnungen/Kreis 11/Oerlikon/vor 1900",
          "Zweitwohnungen/Kreis 1/Rathaus/vor 1900",
          "Zweitwohnungen/Kreis 12/Schwamendingen-Mitte/vor 1900",
          "Zweitwohnungen/Kreis 11/Seebach/vor 1900",
          "Zweitwohnungen/Kreis 8/Seefeld/vor 1900",
          "Zweitwohnungen/Kreis 3/Sihlfeld/vor 1900",
          "Zweitwohnungen/Kreis 6/Unterstrass/vor 1900",
          "Zweitwohnungen/Kreis 8/Weinegg/vor 1900",
          "Zweitwohnungen/Kreis 4/Werd/vor 1900",
          "Zweitwohnungen/Kreis 10/Wipkingen/vor 1900",
          "Zweitwohnungen/Kreis 7/Witikon/vor 1900",
          "Zweitwohnungen/Kreis 2/Wollishofen/vor 1900",
          "Zweitwohnungen/Kreis 11/Affoltern",
          "Zweitwohnungen/Kreis 9/Albisrieden",
          "Zweitwohnungen/Kreis 3/Alt-Wiedikon",
          "Zweitwohnungen/Kreis 9/Altstetten",
          "Zweitwohnungen/Kreis 1/City",
          "Zweitwohnungen/Kreis 2/Enge",
          "Zweitwohnungen/Kreis 5/Escher Wyss",
          "Zweitwohnungen/Kreis 7/Fluntern",
          "Zweitwohnungen/Kreis 3/Friesenberg",
          "Zweitwohnungen/Kreis 5/Gewerbeschule",
          "Zweitwohnungen/Kreis 4/Hard",
          "Zweitwohnungen/Kreis 7/Hirslanden",
          "Zweitwohnungen/Kreis 12/Hirzenbach",
          "Zweitwohnungen/Kreis 1/Hochschulen",
          "Zweitwohnungen/Kreis 7/Hottingen",
          "Zweitwohnungen/Kreis 10/Höngg",
          "Zweitwohnungen/Kreis 4/Langstrasse",
          "Zweitwohnungen/Kreis 2/Leimbach",
          "Zweitwohnungen/Kreis 1/Lindenhof",
          "Zweitwohnungen/Kreis 8/Mühlebach",
          "Zweitwohnungen/Kreis 6/Oberstrass",
          "Zweitwohnungen/Kreis 11/Oerlikon",
          "Zweitwohnungen/Kreis 1/Rathaus",
          "Zweitwohnungen/Kreis 12/Saatlen",
          "Zweitwohnungen/Kreis 12/Schwamendingen-Mitte",
          "Zweitwohnungen/Kreis 11/Seebach",
          "Zweitwohnungen/Kreis 8/Seefeld",
          "Zweitwohnungen/Kreis 3/Sihlfeld",
          "Zweitwohnungen/Kreis 6/Unterstrass",
          "Zweitwohnungen/Kreis 8/Weinegg",
          "Zweitwohnungen/Kreis 4/Werd",
          "Zweitwohnungen/Kreis 10/Wipkingen",
          "Zweitwohnungen/Kreis 7/Witikon",
          "Zweitwohnungen/Kreis 2/Wollishofen",
          "Zweitwohnungen/Kreis 1",
          "Zweitwohnungen/Kreis 10",
          "Zweitwohnungen/Kreis 11",
          "Zweitwohnungen/Kreis 12",
          "Zweitwohnungen/Kreis 2",
          "Zweitwohnungen/Kreis 3",
          "Zweitwohnungen/Kreis 4",
          "Zweitwohnungen/Kreis 5",
          "Zweitwohnungen/Kreis 6",
          "Zweitwohnungen/Kreis 7",
          "Zweitwohnungen/Kreis 8",
          "Zweitwohnungen/Kreis 9",
          "Zweitwohnungen"
         ],
         "labels": [
          "1900–191",
          "1900–191",
          "1900–191",
          "1900–191",
          "1900–191",
          "1900–191",
          "1900–191",
          "1900–191",
          "1900–191",
          "1900–191",
          "1900–191",
          "1900–191",
          "1900–191",
          "1900–191",
          "1900–191",
          "1900–191",
          "1900–191",
          "1900–191",
          "1900–191",
          "1900–191",
          "1900–191",
          "1900–191",
          "1900–191",
          "1900–191",
          "1900–191",
          "1900–191",
          "1900–191",
          "1900–191",
          "1900–191",
          "1920–193",
          "1920–193",
          "1920–193",
          "1920–193",
          "1920–193",
          "1920–193",
          "1920–193",
          "1920–193",
          "1920–193",
          "1920–193",
          "1920–193",
          "1920–193",
          "1920–193",
          "1920–193",
          "1920–193",
          "1920–193",
          "1920–193",
          "1920–193",
          "1920–193",
          "1920–193",
          "1920–193",
          "1920–193",
          "1920–193",
          "1920–193",
          "1920–193",
          "1920–193",
          "1920–193",
          "1920–193",
          "1920–193",
          "1920–193",
          "1920–193",
          "1920–193",
          "1920–193",
          "1940–195",
          "1940–195",
          "1940–195",
          "1940–195",
          "1940–195",
          "1940–195",
          "1940–195",
          "1940–195",
          "1940–195",
          "1940–195",
          "1940–195",
          "1940–195",
          "1940–195",
          "1940–195",
          "1940–195",
          "1940–195",
          "1940–195",
          "1940–195",
          "1940–195",
          "1940–195",
          "1940–195",
          "1940–195",
          "1940–195",
          "1940–195",
          "1940–195",
          "1940–195",
          "1940–195",
          "1940–195",
          "1940–195",
          "1940–195",
          "1940–195",
          "1940–195",
          "1960–197",
          "1960–197",
          "1960–197",
          "1960–197",
          "1960–197",
          "1960–197",
          "1960–197",
          "1960–197",
          "1960–197",
          "1960–197",
          "1960–197",
          "1960–197",
          "1960–197",
          "1960–197",
          "1960–197",
          "1960–197",
          "1960–197",
          "1960–197",
          "1960–197",
          "1960–197",
          "1960–197",
          "1960–197",
          "1960–197",
          "1960–197",
          "1960–197",
          "1960–197",
          "1960–197",
          "1960–197",
          "1960–197",
          "1960–197",
          "1960–197",
          "1960–197",
          "1960–197",
          "1980–199",
          "1980–199",
          "1980–199",
          "1980–199",
          "1980–199",
          "1980–199",
          "1980–199",
          "1980–199",
          "1980–199",
          "1980–199",
          "1980–199",
          "1980–199",
          "1980–199",
          "1980–199",
          "1980–199",
          "1980–199",
          "1980–199",
          "1980–199",
          "1980–199",
          "1980–199",
          "1980–199",
          "1980–199",
          "1980–199",
          "1980–199",
          "1980–199",
          "1980–199",
          "1980–199",
          "1980–199",
          "1980–199",
          "1980–199",
          "1980–199",
          "1980–199",
          "ab 2000",
          "ab 2000",
          "ab 2000",
          "ab 2000",
          "ab 2000",
          "ab 2000",
          "ab 2000",
          "ab 2000",
          "ab 2000",
          "ab 2000",
          "ab 2000",
          "ab 2000",
          "ab 2000",
          "ab 2000",
          "ab 2000",
          "ab 2000",
          "ab 2000",
          "ab 2000",
          "ab 2000",
          "ab 2000",
          "ab 2000",
          "ab 2000",
          "ab 2000",
          "ab 2000",
          "ab 2000",
          "ab 2000",
          "ab 2000",
          "ab 2000",
          "ab 2000",
          "ab 2000",
          "ab 2000",
          "vor 1900",
          "vor 1900",
          "vor 1900",
          "vor 1900",
          "vor 1900",
          "vor 1900",
          "vor 1900",
          "vor 1900",
          "vor 1900",
          "vor 1900",
          "vor 1900",
          "vor 1900",
          "vor 1900",
          "vor 1900",
          "vor 1900",
          "vor 1900",
          "vor 1900",
          "vor 1900",
          "vor 1900",
          "vor 1900",
          "vor 1900",
          "vor 1900",
          "vor 1900",
          "vor 1900",
          "vor 1900",
          "vor 1900",
          "vor 1900",
          "vor 1900",
          "vor 1900",
          "vor 1900",
          "vor 1900",
          "vor 1900",
          "Affoltern",
          "Albisrieden",
          "Alt-Wiedikon",
          "Altstetten",
          "City",
          "Enge",
          "Escher Wyss",
          "Fluntern",
          "Friesenberg",
          "Gewerbeschule",
          "Hard",
          "Hirslanden",
          "Hirzenbach",
          "Hochschulen",
          "Hottingen",
          "Höngg",
          "Langstrasse",
          "Leimbach",
          "Lindenhof",
          "Mühlebach",
          "Oberstrass",
          "Oerlikon",
          "Rathaus",
          "Saatlen",
          "Schwamendingen-Mitte",
          "Seebach",
          "Seefeld",
          "Sihlfeld",
          "Unterstrass",
          "Weinegg",
          "Werd",
          "Wipkingen",
          "Witikon",
          "Wollishofen",
          "Kreis 1",
          "Kreis 10",
          "Kreis 11",
          "Kreis 12",
          "Kreis 2",
          "Kreis 3",
          "Kreis 4",
          "Kreis 5",
          "Kreis 6",
          "Kreis 7",
          "Kreis 8",
          "Kreis 9",
          "Zweitwohnungen"
         ],
         "marker": {
          "coloraxis": "coloraxis",
          "colors": [
           1.5,
           1.4,
           13.654545454545454,
           2.5,
           2,
           3,
           3.6,
           17.58823529411765,
           5.32,
           4.565217391304348,
           1,
           8.551020408163266,
           1,
           5.625,
           1,
           5.333333333333333,
           8.18918918918919,
           3.3,
           2,
           1,
           48.372093023255815,
           11.508474576271187,
           13.611764705882353,
           13.878787878787879,
           2.4,
           3.3333333333333335,
           8.105263157894736,
           1,
           4.428571428571429,
           6.565217391304348,
           6,
           16.5,
           19.676923076923078,
           1,
           9.595744680851064,
           1,
           9.333333333333334,
           4.846153846153846,
           2.5384615384615383,
           9.875,
           9.64864864864865,
           1,
           1,
           7.882352941176471,
           8.379310344827585,
           8.736842105263158,
           2,
           1,
           6.6521739130434785,
           5.074074074074074,
           17.372881355932204,
           1,
           2.6,
           5.777777777777778,
           7.666666666666667,
           13.262295081967213,
           10.962962962962964,
           6.571428571428571,
           6.333333333333333,
           13.541666666666666,
           4.363636363636363,
           17.54054054054054,
           4.8,
           8.419354838709678,
           9.093023255813954,
           9.444444444444445,
           3.3333333333333335,
           9.37037037037037,
           1,
           5.709677419354839,
           3,
           9.2,
           12.707317073170731,
           4.866666666666666,
           7.555555555555555,
           7.6875,
           11.478260869565217,
           1.8,
           1.6666666666666667,
           14.75,
           5.2727272727272725,
           6.851851851851852,
           6.181818181818182,
           2.142857142857143,
           6.7272727272727275,
           52.177304964539005,
           14.323076923076924,
           15.878048780487806,
           8.652173913043478,
           4.384615384615385,
           10.68421052631579,
           2.2,
           4.473684210526316,
           10.64102564102564,
           6.333333333333333,
           7.186046511627907,
           15.043478260869565,
           11.285714285714286,
           8.214285714285714,
           1,
           7.538461538461538,
           22.658536585365855,
           4,
           23.35,
           4.714285714285714,
           7.173913043478261,
           8.2,
           8.255813953488373,
           9.292682926829269,
           12.619047619047619,
           4.111111111111111,
           3.923076923076923,
           11.523809523809524,
           6.84,
           28.835051546391753,
           4.2,
           1.5,
           7.375,
           21.105263157894736,
           4.5,
           8.347826086956522,
           80.80701754385964,
           6.6,
           14,
           5,
           12.079365079365079,
           6.103448275862069,
           10.88888888888889,
           1.6666666666666667,
           11.285714285714286,
           6.703703703703703,
           2.7142857142857144,
           7.848484848484849,
           2.3333333333333335,
           4.948717948717949,
           1,
           2.8181818181818183,
           1.5,
           4.111111111111111,
           7.606060606060606,
           11.222222222222221,
           6.2,
           3.857142857142857,
           1.5,
           4,
           1.5714285714285714,
           4.578947368421052,
           1,
           1.8,
           3,
           3,
           3,
           3.6153846153846154,
           11.64516129032258,
           3.25,
           2.5,
           2.7142857142857144,
           8.454545454545455,
           4.6923076923076925,
           7.516129032258065,
           26.063291139240505,
           89.368,
           15.333333333333334,
           7.275862068965517,
           38.333333333333336,
           10.061224489795919,
           2.2,
           4.384615384615385,
           9.962962962962964,
           2.3333333333333335,
           4.2727272727272725,
           3.9473684210526314,
           5.142857142857143,
           6.0256410256410255,
           5,
           3.5,
           3.1818181818181817,
           5.733333333333333,
           3.3333333333333335,
           1,
           1,
           25.408163265306122,
           4.636363636363637,
           3.3333333333333335,
           3,
           2.5714285714285716,
           2.111111111111111,
           1.4,
           4.176470588235294,
           8.777777777777779,
           5.625,
           2.5384615384615383,
           12.148936170212766,
           2.4,
           12.372549019607844,
           22.29655172413793,
           3,
           3.9411764705882355,
           2,
           25.3,
           8.93939393939394,
           7.4,
           1,
           3.6956521739130435,
           16.440860215053764,
           6.0344827586206895,
           47.51207729468599,
           22.666666666666668,
           7,
           7.521739130434782,
           3,
           39.25,
           2.3333333333333335,
           3.6666666666666665,
           14.472222222222221,
           9.784313725490197,
           5.923076923076923,
           3.210526315789474,
           17.210526315789473,
           2.8181818181818183,
           1.5,
           2.6,
           7.254777070063694,
           14.044776119402986,
           48.75373134328358,
           13.112359550561798,
           10.074626865671641,
           14.345565749235474,
           33.6231884057971,
           7.036697247706422,
           14.884057971014492,
           18.65714285714286,
           12.03954802259887,
           8.329032258064515,
           5.627450980392157,
           4.454545454545454,
           10.322475570032573,
           8.243243243243244,
           28.890818858560795,
           3.9583333333333335,
           19.96732026143791,
           9.623481781376519,
           6.394285714285714,
           16.806949806949806,
           32.813559322033896,
           1.736842105263158,
           5.123076923076923,
           34.918103448275865,
           11.434456928838951,
           11.608414239482201,
           32.366391184573004,
           4.450980392156863,
           12.527272727272727,
           8.157142857142857,
           8.14864864864865,
           10.412765957446808,
           22.933463796477493,
           8.206153846153846,
           24.652272727272727,
           4.837037037037037,
           12.01311475409836,
           33.63894967177243,
           21.263087248322147,
           25.2555910543131,
           23.9182156133829,
           8.695652173913043,
           9.551948051948052,
           13.512820512820513,
           19.007554845270956
          ]
         },
         "name": "",
         "parents": [
          "Zweitwohnungen/Kreis 11/Affoltern",
          "Zweitwohnungen/Kreis 9/Albisrieden",
          "Zweitwohnungen/Kreis 3/Alt-Wiedikon",
          "Zweitwohnungen/Kreis 9/Altstetten",
          "Zweitwohnungen/Kreis 1/City",
          "Zweitwohnungen/Kreis 2/Enge",
          "Zweitwohnungen/Kreis 7/Fluntern",
          "Zweitwohnungen/Kreis 5/Gewerbeschule",
          "Zweitwohnungen/Kreis 4/Hard",
          "Zweitwohnungen/Kreis 7/Hirslanden",
          "Zweitwohnungen/Kreis 1/Hochschulen",
          "Zweitwohnungen/Kreis 7/Hottingen",
          "Zweitwohnungen/Kreis 10/Höngg",
          "Zweitwohnungen/Kreis 4/Langstrasse",
          "Zweitwohnungen/Kreis 2/Leimbach",
          "Zweitwohnungen/Kreis 8/Mühlebach",
          "Zweitwohnungen/Kreis 6/Oberstrass",
          "Zweitwohnungen/Kreis 11/Oerlikon",
          "Zweitwohnungen/Kreis 1/Rathaus",
          "Zweitwohnungen/Kreis 12/Schwamendingen-Mitte",
          "Zweitwohnungen/Kreis 11/Seebach",
          "Zweitwohnungen/Kreis 8/Seefeld",
          "Zweitwohnungen/Kreis 3/Sihlfeld",
          "Zweitwohnungen/Kreis 6/Unterstrass",
          "Zweitwohnungen/Kreis 8/Weinegg",
          "Zweitwohnungen/Kreis 4/Werd",
          "Zweitwohnungen/Kreis 10/Wipkingen",
          "Zweitwohnungen/Kreis 7/Witikon",
          "Zweitwohnungen/Kreis 2/Wollishofen",
          "Zweitwohnungen/Kreis 11/Affoltern",
          "Zweitwohnungen/Kreis 9/Albisrieden",
          "Zweitwohnungen/Kreis 3/Alt-Wiedikon",
          "Zweitwohnungen/Kreis 9/Altstetten",
          "Zweitwohnungen/Kreis 1/City",
          "Zweitwohnungen/Kreis 2/Enge",
          "Zweitwohnungen/Kreis 5/Escher Wyss",
          "Zweitwohnungen/Kreis 7/Fluntern",
          "Zweitwohnungen/Kreis 3/Friesenberg",
          "Zweitwohnungen/Kreis 5/Gewerbeschule",
          "Zweitwohnungen/Kreis 4/Hard",
          "Zweitwohnungen/Kreis 7/Hirslanden",
          "Zweitwohnungen/Kreis 12/Hirzenbach",
          "Zweitwohnungen/Kreis 1/Hochschulen",
          "Zweitwohnungen/Kreis 7/Hottingen",
          "Zweitwohnungen/Kreis 10/Höngg",
          "Zweitwohnungen/Kreis 4/Langstrasse",
          "Zweitwohnungen/Kreis 2/Leimbach",
          "Zweitwohnungen/Kreis 1/Lindenhof",
          "Zweitwohnungen/Kreis 8/Mühlebach",
          "Zweitwohnungen/Kreis 6/Oberstrass",
          "Zweitwohnungen/Kreis 11/Oerlikon",
          "Zweitwohnungen/Kreis 1/Rathaus",
          "Zweitwohnungen/Kreis 12/Schwamendingen-Mitte",
          "Zweitwohnungen/Kreis 11/Seebach",
          "Zweitwohnungen/Kreis 8/Seefeld",
          "Zweitwohnungen/Kreis 3/Sihlfeld",
          "Zweitwohnungen/Kreis 6/Unterstrass",
          "Zweitwohnungen/Kreis 8/Weinegg",
          "Zweitwohnungen/Kreis 4/Werd",
          "Zweitwohnungen/Kreis 10/Wipkingen",
          "Zweitwohnungen/Kreis 7/Witikon",
          "Zweitwohnungen/Kreis 2/Wollishofen",
          "Zweitwohnungen/Kreis 11/Affoltern",
          "Zweitwohnungen/Kreis 9/Albisrieden",
          "Zweitwohnungen/Kreis 3/Alt-Wiedikon",
          "Zweitwohnungen/Kreis 9/Altstetten",
          "Zweitwohnungen/Kreis 1/City",
          "Zweitwohnungen/Kreis 2/Enge",
          "Zweitwohnungen/Kreis 5/Escher Wyss",
          "Zweitwohnungen/Kreis 7/Fluntern",
          "Zweitwohnungen/Kreis 3/Friesenberg",
          "Zweitwohnungen/Kreis 4/Hard",
          "Zweitwohnungen/Kreis 7/Hirslanden",
          "Zweitwohnungen/Kreis 12/Hirzenbach",
          "Zweitwohnungen/Kreis 7/Hottingen",
          "Zweitwohnungen/Kreis 10/Höngg",
          "Zweitwohnungen/Kreis 4/Langstrasse",
          "Zweitwohnungen/Kreis 2/Leimbach",
          "Zweitwohnungen/Kreis 1/Lindenhof",
          "Zweitwohnungen/Kreis 8/Mühlebach",
          "Zweitwohnungen/Kreis 6/Oberstrass",
          "Zweitwohnungen/Kreis 11/Oerlikon",
          "Zweitwohnungen/Kreis 1/Rathaus",
          "Zweitwohnungen/Kreis 12/Saatlen",
          "Zweitwohnungen/Kreis 12/Schwamendingen-Mitte",
          "Zweitwohnungen/Kreis 11/Seebach",
          "Zweitwohnungen/Kreis 8/Seefeld",
          "Zweitwohnungen/Kreis 3/Sihlfeld",
          "Zweitwohnungen/Kreis 6/Unterstrass",
          "Zweitwohnungen/Kreis 8/Weinegg",
          "Zweitwohnungen/Kreis 4/Werd",
          "Zweitwohnungen/Kreis 10/Wipkingen",
          "Zweitwohnungen/Kreis 7/Witikon",
          "Zweitwohnungen/Kreis 2/Wollishofen",
          "Zweitwohnungen/Kreis 11/Affoltern",
          "Zweitwohnungen/Kreis 9/Albisrieden",
          "Zweitwohnungen/Kreis 3/Alt-Wiedikon",
          "Zweitwohnungen/Kreis 9/Altstetten",
          "Zweitwohnungen/Kreis 2/Enge",
          "Zweitwohnungen/Kreis 5/Escher Wyss",
          "Zweitwohnungen/Kreis 7/Fluntern",
          "Zweitwohnungen/Kreis 3/Friesenberg",
          "Zweitwohnungen/Kreis 5/Gewerbeschule",
          "Zweitwohnungen/Kreis 4/Hard",
          "Zweitwohnungen/Kreis 7/Hirslanden",
          "Zweitwohnungen/Kreis 12/Hirzenbach",
          "Zweitwohnungen/Kreis 1/Hochschulen",
          "Zweitwohnungen/Kreis 7/Hottingen",
          "Zweitwohnungen/Kreis 10/Höngg",
          "Zweitwohnungen/Kreis 4/Langstrasse",
          "Zweitwohnungen/Kreis 2/Leimbach",
          "Zweitwohnungen/Kreis 1/Lindenhof",
          "Zweitwohnungen/Kreis 8/Mühlebach",
          "Zweitwohnungen/Kreis 6/Oberstrass",
          "Zweitwohnungen/Kreis 11/Oerlikon",
          "Zweitwohnungen/Kreis 1/Rathaus",
          "Zweitwohnungen/Kreis 12/Saatlen",
          "Zweitwohnungen/Kreis 12/Schwamendingen-Mitte",
          "Zweitwohnungen/Kreis 11/Seebach",
          "Zweitwohnungen/Kreis 8/Seefeld",
          "Zweitwohnungen/Kreis 3/Sihlfeld",
          "Zweitwohnungen/Kreis 6/Unterstrass",
          "Zweitwohnungen/Kreis 8/Weinegg",
          "Zweitwohnungen/Kreis 4/Werd",
          "Zweitwohnungen/Kreis 10/Wipkingen",
          "Zweitwohnungen/Kreis 7/Witikon",
          "Zweitwohnungen/Kreis 2/Wollishofen",
          "Zweitwohnungen/Kreis 11/Affoltern",
          "Zweitwohnungen/Kreis 9/Albisrieden",
          "Zweitwohnungen/Kreis 3/Alt-Wiedikon",
          "Zweitwohnungen/Kreis 9/Altstetten",
          "Zweitwohnungen/Kreis 1/City",
          "Zweitwohnungen/Kreis 2/Enge",
          "Zweitwohnungen/Kreis 5/Escher Wyss",
          "Zweitwohnungen/Kreis 7/Fluntern",
          "Zweitwohnungen/Kreis 3/Friesenberg",
          "Zweitwohnungen/Kreis 5/Gewerbeschule",
          "Zweitwohnungen/Kreis 7/Hirslanden",
          "Zweitwohnungen/Kreis 1/Hochschulen",
          "Zweitwohnungen/Kreis 7/Hottingen",
          "Zweitwohnungen/Kreis 10/Höngg",
          "Zweitwohnungen/Kreis 4/Langstrasse",
          "Zweitwohnungen/Kreis 2/Leimbach",
          "Zweitwohnungen/Kreis 1/Lindenhof",
          "Zweitwohnungen/Kreis 8/Mühlebach",
          "Zweitwohnungen/Kreis 6/Oberstrass",
          "Zweitwohnungen/Kreis 11/Oerlikon",
          "Zweitwohnungen/Kreis 1/Rathaus",
          "Zweitwohnungen/Kreis 12/Saatlen",
          "Zweitwohnungen/Kreis 12/Schwamendingen-Mitte",
          "Zweitwohnungen/Kreis 11/Seebach",
          "Zweitwohnungen/Kreis 8/Seefeld",
          "Zweitwohnungen/Kreis 3/Sihlfeld",
          "Zweitwohnungen/Kreis 6/Unterstrass",
          "Zweitwohnungen/Kreis 8/Weinegg",
          "Zweitwohnungen/Kreis 4/Werd",
          "Zweitwohnungen/Kreis 10/Wipkingen",
          "Zweitwohnungen/Kreis 7/Witikon",
          "Zweitwohnungen/Kreis 2/Wollishofen",
          "Zweitwohnungen/Kreis 11/Affoltern",
          "Zweitwohnungen/Kreis 9/Albisrieden",
          "Zweitwohnungen/Kreis 3/Alt-Wiedikon",
          "Zweitwohnungen/Kreis 9/Altstetten",
          "Zweitwohnungen/Kreis 2/Enge",
          "Zweitwohnungen/Kreis 5/Escher Wyss",
          "Zweitwohnungen/Kreis 7/Fluntern",
          "Zweitwohnungen/Kreis 3/Friesenberg",
          "Zweitwohnungen/Kreis 5/Gewerbeschule",
          "Zweitwohnungen/Kreis 4/Hard",
          "Zweitwohnungen/Kreis 7/Hirslanden",
          "Zweitwohnungen/Kreis 12/Hirzenbach",
          "Zweitwohnungen/Kreis 7/Hottingen",
          "Zweitwohnungen/Kreis 10/Höngg",
          "Zweitwohnungen/Kreis 4/Langstrasse",
          "Zweitwohnungen/Kreis 2/Leimbach",
          "Zweitwohnungen/Kreis 8/Mühlebach",
          "Zweitwohnungen/Kreis 6/Oberstrass",
          "Zweitwohnungen/Kreis 11/Oerlikon",
          "Zweitwohnungen/Kreis 1/Rathaus",
          "Zweitwohnungen/Kreis 12/Saatlen",
          "Zweitwohnungen/Kreis 12/Schwamendingen-Mitte",
          "Zweitwohnungen/Kreis 11/Seebach",
          "Zweitwohnungen/Kreis 8/Seefeld",
          "Zweitwohnungen/Kreis 3/Sihlfeld",
          "Zweitwohnungen/Kreis 6/Unterstrass",
          "Zweitwohnungen/Kreis 8/Weinegg",
          "Zweitwohnungen/Kreis 4/Werd",
          "Zweitwohnungen/Kreis 10/Wipkingen",
          "Zweitwohnungen/Kreis 7/Witikon",
          "Zweitwohnungen/Kreis 2/Wollishofen",
          "Zweitwohnungen/Kreis 11/Affoltern",
          "Zweitwohnungen/Kreis 9/Albisrieden",
          "Zweitwohnungen/Kreis 3/Alt-Wiedikon",
          "Zweitwohnungen/Kreis 9/Altstetten",
          "Zweitwohnungen/Kreis 1/City",
          "Zweitwohnungen/Kreis 2/Enge",
          "Zweitwohnungen/Kreis 5/Escher Wyss",
          "Zweitwohnungen/Kreis 7/Fluntern",
          "Zweitwohnungen/Kreis 3/Friesenberg",
          "Zweitwohnungen/Kreis 5/Gewerbeschule",
          "Zweitwohnungen/Kreis 4/Hard",
          "Zweitwohnungen/Kreis 7/Hirslanden",
          "Zweitwohnungen/Kreis 12/Hirzenbach",
          "Zweitwohnungen/Kreis 1/Hochschulen",
          "Zweitwohnungen/Kreis 7/Hottingen",
          "Zweitwohnungen/Kreis 10/Höngg",
          "Zweitwohnungen/Kreis 4/Langstrasse",
          "Zweitwohnungen/Kreis 1/Lindenhof",
          "Zweitwohnungen/Kreis 8/Mühlebach",
          "Zweitwohnungen/Kreis 6/Oberstrass",
          "Zweitwohnungen/Kreis 11/Oerlikon",
          "Zweitwohnungen/Kreis 1/Rathaus",
          "Zweitwohnungen/Kreis 12/Schwamendingen-Mitte",
          "Zweitwohnungen/Kreis 11/Seebach",
          "Zweitwohnungen/Kreis 8/Seefeld",
          "Zweitwohnungen/Kreis 3/Sihlfeld",
          "Zweitwohnungen/Kreis 6/Unterstrass",
          "Zweitwohnungen/Kreis 8/Weinegg",
          "Zweitwohnungen/Kreis 4/Werd",
          "Zweitwohnungen/Kreis 10/Wipkingen",
          "Zweitwohnungen/Kreis 7/Witikon",
          "Zweitwohnungen/Kreis 2/Wollishofen",
          "Zweitwohnungen/Kreis 11",
          "Zweitwohnungen/Kreis 9",
          "Zweitwohnungen/Kreis 3",
          "Zweitwohnungen/Kreis 9",
          "Zweitwohnungen/Kreis 1",
          "Zweitwohnungen/Kreis 2",
          "Zweitwohnungen/Kreis 5",
          "Zweitwohnungen/Kreis 7",
          "Zweitwohnungen/Kreis 3",
          "Zweitwohnungen/Kreis 5",
          "Zweitwohnungen/Kreis 4",
          "Zweitwohnungen/Kreis 7",
          "Zweitwohnungen/Kreis 12",
          "Zweitwohnungen/Kreis 1",
          "Zweitwohnungen/Kreis 7",
          "Zweitwohnungen/Kreis 10",
          "Zweitwohnungen/Kreis 4",
          "Zweitwohnungen/Kreis 2",
          "Zweitwohnungen/Kreis 1",
          "Zweitwohnungen/Kreis 8",
          "Zweitwohnungen/Kreis 6",
          "Zweitwohnungen/Kreis 11",
          "Zweitwohnungen/Kreis 1",
          "Zweitwohnungen/Kreis 12",
          "Zweitwohnungen/Kreis 12",
          "Zweitwohnungen/Kreis 11",
          "Zweitwohnungen/Kreis 8",
          "Zweitwohnungen/Kreis 3",
          "Zweitwohnungen/Kreis 6",
          "Zweitwohnungen/Kreis 8",
          "Zweitwohnungen/Kreis 4",
          "Zweitwohnungen/Kreis 10",
          "Zweitwohnungen/Kreis 7",
          "Zweitwohnungen/Kreis 2",
          "Zweitwohnungen",
          "Zweitwohnungen",
          "Zweitwohnungen",
          "Zweitwohnungen",
          "Zweitwohnungen",
          "Zweitwohnungen",
          "Zweitwohnungen",
          "Zweitwohnungen",
          "Zweitwohnungen",
          "Zweitwohnungen",
          "Zweitwohnungen",
          "Zweitwohnungen",
          ""
         ],
         "root": {
          "color": "lightgrey"
         },
         "type": "treemap",
         "values": [
          4,
          5,
          55,
          8,
          2,
          18,
          20,
          34,
          25,
          23,
          1,
          49,
          4,
          16,
          1,
          30,
          37,
          20,
          4,
          1,
          86,
          59,
          85,
          66,
          10,
          6,
          38,
          1,
          21,
          23,
          24,
          60,
          65,
          1,
          47,
          2,
          36,
          13,
          13,
          32,
          37,
          1,
          3,
          34,
          29,
          38,
          2,
          1,
          23,
          27,
          59,
          1,
          10,
          18,
          30,
          61,
          54,
          28,
          27,
          48,
          22,
          74,
          20,
          31,
          43,
          36,
          6,
          27,
          2,
          31,
          6,
          20,
          41,
          15,
          36,
          32,
          46,
          5,
          3,
          80,
          22,
          27,
          22,
          7,
          22,
          141,
          65,
          41,
          46,
          13,
          19,
          10,
          19,
          39,
          27,
          43,
          46,
          49,
          28,
          1,
          26,
          41,
          4,
          40,
          14,
          23,
          10,
          43,
          41,
          42,
          18,
          13,
          42,
          25,
          97,
          10,
          4,
          16,
          95,
          20,
          46,
          114,
          10,
          24,
          21,
          63,
          29,
          36,
          6,
          35,
          27,
          7,
          33,
          6,
          39,
          2,
          11,
          4,
          18,
          33,
          36,
          15,
          7,
          4,
          16,
          7,
          19,
          1,
          5,
          8,
          14,
          10,
          13,
          31,
          8,
          4,
          7,
          22,
          26,
          31,
          79,
          250,
          72,
          29,
          120,
          49,
          5,
          13,
          27,
          6,
          11,
          19,
          14,
          39,
          15,
          16,
          11,
          30,
          6,
          3,
          2,
          98,
          11,
          12,
          13,
          14,
          9,
          5,
          17,
          36,
          16,
          13,
          47,
          10,
          51,
          145,
          7,
          17,
          2,
          100,
          33,
          30,
          1,
          23,
          93,
          29,
          207,
          132,
          40,
          46,
          7,
          192,
          6,
          12,
          72,
          51,
          39,
          19,
          76,
          11,
          4,
          10,
          157,
          201,
          536,
          267,
          67,
          327,
          138,
          218,
          69,
          175,
          177,
          155,
          51,
          55,
          307,
          185,
          403,
          48,
          153,
          247,
          175,
          259,
          236,
          19,
          65,
          464,
          267,
          309,
          363,
          102,
          165,
          140,
          148,
          235,
          511,
          325,
          880,
          135,
          610,
          914,
          745,
          313,
          538,
          828,
          616,
          468,
          6883
         ]
        }
       ],
       "layout": {
        "autosize": true,
        "coloraxis": {
         "colorbar": {
          "title": {
           "text": "AnzWhg"
          }
         },
         "colorscale": [
          [
           0,
           "rgb(196, 230, 195)"
          ],
          [
           0.16666666666666666,
           "rgb(150, 210, 164)"
          ],
          [
           0.3333333333333333,
           "rgb(109, 188, 144)"
          ],
          [
           0.5,
           "rgb(77, 162, 132)"
          ],
          [
           0.6666666666666666,
           "rgb(54, 135, 122)"
          ],
          [
           0.8333333333333334,
           "rgb(38, 107, 110)"
          ],
          [
           1,
           "rgb(29, 79, 96)"
          ]
         ]
        },
        "legend": {
         "tracegroupgap": 0
        },
        "margin": {
         "b": 25,
         "l": 25,
         "r": 250,
         "t": 50
        },
        "template": {
         "data": {
          "bar": [
           {
            "error_x": {
             "color": "#2a3f5f"
            },
            "error_y": {
             "color": "#2a3f5f"
            },
            "marker": {
             "line": {
              "color": "#E5ECF6",
              "width": 0.5
             },
             "pattern": {
              "fillmode": "overlay",
              "size": 10,
              "solidity": 0.2
             }
            },
            "type": "bar"
           }
          ],
          "barpolar": [
           {
            "marker": {
             "line": {
              "color": "#E5ECF6",
              "width": 0.5
             },
             "pattern": {
              "fillmode": "overlay",
              "size": 10,
              "solidity": 0.2
             }
            },
            "type": "barpolar"
           }
          ],
          "carpet": [
           {
            "aaxis": {
             "endlinecolor": "#2a3f5f",
             "gridcolor": "white",
             "linecolor": "white",
             "minorgridcolor": "white",
             "startlinecolor": "#2a3f5f"
            },
            "baxis": {
             "endlinecolor": "#2a3f5f",
             "gridcolor": "white",
             "linecolor": "white",
             "minorgridcolor": "white",
             "startlinecolor": "#2a3f5f"
            },
            "type": "carpet"
           }
          ],
          "choropleth": [
           {
            "colorbar": {
             "outlinewidth": 0,
             "ticks": ""
            },
            "type": "choropleth"
           }
          ],
          "contour": [
           {
            "colorbar": {
             "outlinewidth": 0,
             "ticks": ""
            },
            "colorscale": [
             [
              0,
              "#0d0887"
             ],
             [
              0.1111111111111111,
              "#46039f"
             ],
             [
              0.2222222222222222,
              "#7201a8"
             ],
             [
              0.3333333333333333,
              "#9c179e"
             ],
             [
              0.4444444444444444,
              "#bd3786"
             ],
             [
              0.5555555555555556,
              "#d8576b"
             ],
             [
              0.6666666666666666,
              "#ed7953"
             ],
             [
              0.7777777777777778,
              "#fb9f3a"
             ],
             [
              0.8888888888888888,
              "#fdca26"
             ],
             [
              1,
              "#f0f921"
             ]
            ],
            "type": "contour"
           }
          ],
          "contourcarpet": [
           {
            "colorbar": {
             "outlinewidth": 0,
             "ticks": ""
            },
            "type": "contourcarpet"
           }
          ],
          "heatmap": [
           {
            "colorbar": {
             "outlinewidth": 0,
             "ticks": ""
            },
            "colorscale": [
             [
              0,
              "#0d0887"
             ],
             [
              0.1111111111111111,
              "#46039f"
             ],
             [
              0.2222222222222222,
              "#7201a8"
             ],
             [
              0.3333333333333333,
              "#9c179e"
             ],
             [
              0.4444444444444444,
              "#bd3786"
             ],
             [
              0.5555555555555556,
              "#d8576b"
             ],
             [
              0.6666666666666666,
              "#ed7953"
             ],
             [
              0.7777777777777778,
              "#fb9f3a"
             ],
             [
              0.8888888888888888,
              "#fdca26"
             ],
             [
              1,
              "#f0f921"
             ]
            ],
            "type": "heatmap"
           }
          ],
          "heatmapgl": [
           {
            "colorbar": {
             "outlinewidth": 0,
             "ticks": ""
            },
            "colorscale": [
             [
              0,
              "#0d0887"
             ],
             [
              0.1111111111111111,
              "#46039f"
             ],
             [
              0.2222222222222222,
              "#7201a8"
             ],
             [
              0.3333333333333333,
              "#9c179e"
             ],
             [
              0.4444444444444444,
              "#bd3786"
             ],
             [
              0.5555555555555556,
              "#d8576b"
             ],
             [
              0.6666666666666666,
              "#ed7953"
             ],
             [
              0.7777777777777778,
              "#fb9f3a"
             ],
             [
              0.8888888888888888,
              "#fdca26"
             ],
             [
              1,
              "#f0f921"
             ]
            ],
            "type": "heatmapgl"
           }
          ],
          "histogram": [
           {
            "marker": {
             "pattern": {
              "fillmode": "overlay",
              "size": 10,
              "solidity": 0.2
             }
            },
            "type": "histogram"
           }
          ],
          "histogram2d": [
           {
            "colorbar": {
             "outlinewidth": 0,
             "ticks": ""
            },
            "colorscale": [
             [
              0,
              "#0d0887"
             ],
             [
              0.1111111111111111,
              "#46039f"
             ],
             [
              0.2222222222222222,
              "#7201a8"
             ],
             [
              0.3333333333333333,
              "#9c179e"
             ],
             [
              0.4444444444444444,
              "#bd3786"
             ],
             [
              0.5555555555555556,
              "#d8576b"
             ],
             [
              0.6666666666666666,
              "#ed7953"
             ],
             [
              0.7777777777777778,
              "#fb9f3a"
             ],
             [
              0.8888888888888888,
              "#fdca26"
             ],
             [
              1,
              "#f0f921"
             ]
            ],
            "type": "histogram2d"
           }
          ],
          "histogram2dcontour": [
           {
            "colorbar": {
             "outlinewidth": 0,
             "ticks": ""
            },
            "colorscale": [
             [
              0,
              "#0d0887"
             ],
             [
              0.1111111111111111,
              "#46039f"
             ],
             [
              0.2222222222222222,
              "#7201a8"
             ],
             [
              0.3333333333333333,
              "#9c179e"
             ],
             [
              0.4444444444444444,
              "#bd3786"
             ],
             [
              0.5555555555555556,
              "#d8576b"
             ],
             [
              0.6666666666666666,
              "#ed7953"
             ],
             [
              0.7777777777777778,
              "#fb9f3a"
             ],
             [
              0.8888888888888888,
              "#fdca26"
             ],
             [
              1,
              "#f0f921"
             ]
            ],
            "type": "histogram2dcontour"
           }
          ],
          "mesh3d": [
           {
            "colorbar": {
             "outlinewidth": 0,
             "ticks": ""
            },
            "type": "mesh3d"
           }
          ],
          "parcoords": [
           {
            "line": {
             "colorbar": {
              "outlinewidth": 0,
              "ticks": ""
             }
            },
            "type": "parcoords"
           }
          ],
          "pie": [
           {
            "automargin": true,
            "type": "pie"
           }
          ],
          "scatter": [
           {
            "marker": {
             "colorbar": {
              "outlinewidth": 0,
              "ticks": ""
             }
            },
            "type": "scatter"
           }
          ],
          "scatter3d": [
           {
            "line": {
             "colorbar": {
              "outlinewidth": 0,
              "ticks": ""
             }
            },
            "marker": {
             "colorbar": {
              "outlinewidth": 0,
              "ticks": ""
             }
            },
            "type": "scatter3d"
           }
          ],
          "scattercarpet": [
           {
            "marker": {
             "colorbar": {
              "outlinewidth": 0,
              "ticks": ""
             }
            },
            "type": "scattercarpet"
           }
          ],
          "scattergeo": [
           {
            "marker": {
             "colorbar": {
              "outlinewidth": 0,
              "ticks": ""
             }
            },
            "type": "scattergeo"
           }
          ],
          "scattergl": [
           {
            "marker": {
             "colorbar": {
              "outlinewidth": 0,
              "ticks": ""
             }
            },
            "type": "scattergl"
           }
          ],
          "scattermapbox": [
           {
            "marker": {
             "colorbar": {
              "outlinewidth": 0,
              "ticks": ""
             }
            },
            "type": "scattermapbox"
           }
          ],
          "scatterpolar": [
           {
            "marker": {
             "colorbar": {
              "outlinewidth": 0,
              "ticks": ""
             }
            },
            "type": "scatterpolar"
           }
          ],
          "scatterpolargl": [
           {
            "marker": {
             "colorbar": {
              "outlinewidth": 0,
              "ticks": ""
             }
            },
            "type": "scatterpolargl"
           }
          ],
          "scatterternary": [
           {
            "marker": {
             "colorbar": {
              "outlinewidth": 0,
              "ticks": ""
             }
            },
            "type": "scatterternary"
           }
          ],
          "surface": [
           {
            "colorbar": {
             "outlinewidth": 0,
             "ticks": ""
            },
            "colorscale": [
             [
              0,
              "#0d0887"
             ],
             [
              0.1111111111111111,
              "#46039f"
             ],
             [
              0.2222222222222222,
              "#7201a8"
             ],
             [
              0.3333333333333333,
              "#9c179e"
             ],
             [
              0.4444444444444444,
              "#bd3786"
             ],
             [
              0.5555555555555556,
              "#d8576b"
             ],
             [
              0.6666666666666666,
              "#ed7953"
             ],
             [
              0.7777777777777778,
              "#fb9f3a"
             ],
             [
              0.8888888888888888,
              "#fdca26"
             ],
             [
              1,
              "#f0f921"
             ]
            ],
            "type": "surface"
           }
          ],
          "table": [
           {
            "cells": {
             "fill": {
              "color": "#EBF0F8"
             },
             "line": {
              "color": "white"
             }
            },
            "header": {
             "fill": {
              "color": "#C8D4E3"
             },
             "line": {
              "color": "white"
             }
            },
            "type": "table"
           }
          ]
         },
         "layout": {
          "annotationdefaults": {
           "arrowcolor": "#2a3f5f",
           "arrowhead": 0,
           "arrowwidth": 1
          },
          "autotypenumbers": "strict",
          "coloraxis": {
           "colorbar": {
            "outlinewidth": 0,
            "ticks": ""
           }
          },
          "colorscale": {
           "diverging": [
            [
             0,
             "#8e0152"
            ],
            [
             0.1,
             "#c51b7d"
            ],
            [
             0.2,
             "#de77ae"
            ],
            [
             0.3,
             "#f1b6da"
            ],
            [
             0.4,
             "#fde0ef"
            ],
            [
             0.5,
             "#f7f7f7"
            ],
            [
             0.6,
             "#e6f5d0"
            ],
            [
             0.7,
             "#b8e186"
            ],
            [
             0.8,
             "#7fbc41"
            ],
            [
             0.9,
             "#4d9221"
            ],
            [
             1,
             "#276419"
            ]
           ],
           "sequential": [
            [
             0,
             "#0d0887"
            ],
            [
             0.1111111111111111,
             "#46039f"
            ],
            [
             0.2222222222222222,
             "#7201a8"
            ],
            [
             0.3333333333333333,
             "#9c179e"
            ],
            [
             0.4444444444444444,
             "#bd3786"
            ],
            [
             0.5555555555555556,
             "#d8576b"
            ],
            [
             0.6666666666666666,
             "#ed7953"
            ],
            [
             0.7777777777777778,
             "#fb9f3a"
            ],
            [
             0.8888888888888888,
             "#fdca26"
            ],
            [
             1,
             "#f0f921"
            ]
           ],
           "sequentialminus": [
            [
             0,
             "#0d0887"
            ],
            [
             0.1111111111111111,
             "#46039f"
            ],
            [
             0.2222222222222222,
             "#7201a8"
            ],
            [
             0.3333333333333333,
             "#9c179e"
            ],
            [
             0.4444444444444444,
             "#bd3786"
            ],
            [
             0.5555555555555556,
             "#d8576b"
            ],
            [
             0.6666666666666666,
             "#ed7953"
            ],
            [
             0.7777777777777778,
             "#fb9f3a"
            ],
            [
             0.8888888888888888,
             "#fdca26"
            ],
            [
             1,
             "#f0f921"
            ]
           ]
          },
          "colorway": [
           "#636efa",
           "#EF553B",
           "#00cc96",
           "#ab63fa",
           "#FFA15A",
           "#19d3f3",
           "#FF6692",
           "#B6E880",
           "#FF97FF",
           "#FECB52"
          ],
          "font": {
           "color": "#2a3f5f"
          },
          "geo": {
           "bgcolor": "white",
           "lakecolor": "white",
           "landcolor": "#E5ECF6",
           "showlakes": true,
           "showland": true,
           "subunitcolor": "white"
          },
          "hoverlabel": {
           "align": "left"
          },
          "hovermode": "closest",
          "mapbox": {
           "style": "light"
          },
          "paper_bgcolor": "white",
          "plot_bgcolor": "#E5ECF6",
          "polar": {
           "angularaxis": {
            "gridcolor": "white",
            "linecolor": "white",
            "ticks": ""
           },
           "bgcolor": "#E5ECF6",
           "radialaxis": {
            "gridcolor": "white",
            "linecolor": "white",
            "ticks": ""
           }
          },
          "scene": {
           "xaxis": {
            "backgroundcolor": "#E5ECF6",
            "gridcolor": "white",
            "gridwidth": 2,
            "linecolor": "white",
            "showbackground": true,
            "ticks": "",
            "zerolinecolor": "white"
           },
           "yaxis": {
            "backgroundcolor": "#E5ECF6",
            "gridcolor": "white",
            "gridwidth": 2,
            "linecolor": "white",
            "showbackground": true,
            "ticks": "",
            "zerolinecolor": "white"
           },
           "zaxis": {
            "backgroundcolor": "#E5ECF6",
            "gridcolor": "white",
            "gridwidth": 2,
            "linecolor": "white",
            "showbackground": true,
            "ticks": "",
            "zerolinecolor": "white"
           }
          },
          "shapedefaults": {
           "line": {
            "color": "#2a3f5f"
           }
          },
          "ternary": {
           "aaxis": {
            "gridcolor": "white",
            "linecolor": "white",
            "ticks": ""
           },
           "baxis": {
            "gridcolor": "white",
            "linecolor": "white",
            "ticks": ""
           },
           "bgcolor": "#E5ECF6",
           "caxis": {
            "gridcolor": "white",
            "linecolor": "white",
            "ticks": ""
           }
          },
          "title": {
           "x": 0.05
          },
          "xaxis": {
           "automargin": true,
           "gridcolor": "white",
           "linecolor": "white",
           "ticks": "",
           "title": {
            "standoff": 15
           },
           "zerolinecolor": "white",
           "zerolinewidth": 2
          },
          "yaxis": {
           "automargin": true,
           "gridcolor": "white",
           "linecolor": "white",
           "ticks": "",
           "title": {
            "standoff": 15
           },
           "zerolinecolor": "white",
           "zerolinewidth": 2
          }
         }
        }
       }
      },
      "image/png": "[encoded data removed]",
      "text/html": [
       "<div>                            <div id=\"1d7ac9d8-7a86-4223-9faa-15cd391fa717\" class=\"plotly-graph-div\" style=\"height:525px; width:100%;\"></div>            <script type=\"text/javascript\">                require([\"plotly\"], function(Plotly) {                    window.PLOTLYENV=window.PLOTLYENV || {};                                    if (document.getElementById(\"1d7ac9d8-7a86-4223-9faa-15cd391fa717\")) {                    Plotly.newPlot(                        \"1d7ac9d8-7a86-4223-9faa-15cd391fa717\",                        [{\"branchvalues\":\"total\",\"customdata\":[[\"Affoltern\",1.5],[\"Albisrieden\",1.4],[\"Alt-Wiedikon\",13.654545454545454],[\"Altstetten\",2.5],[\"City\",2.0],[\"Enge\",3.0],[\"Fluntern\",3.6],[\"Gewerbeschule\",17.58823529411765],[\"Hard\",5.32],[\"Hirslanden\",4.565217391304348],[\"Hochschulen\",1.0],[\"Hottingen\",8.551020408163266],[\"H\\u00f6ngg\",1.0],[\"Langstrasse\",5.625],[\"Leimbach\",1.0],[\"M\\u00fchlebach\",5.333333333333333],[\"Oberstrass\",8.18918918918919],[\"Oerlikon\",3.3],[\"Rathaus\",2.0],[\"Schwamendingen-Mitte\",1.0],[\"Seebach\",48.372093023255815],[\"Seefeld\",11.508474576271187],[\"Sihlfeld\",13.611764705882353],[\"Unterstrass\",13.878787878787879],[\"Weinegg\",2.4],[\"Werd\",3.3333333333333335],[\"Wipkingen\",8.105263157894736],[\"Witikon\",1.0],[\"Wollishofen\",4.428571428571429],[\"Affoltern\",6.565217391304348],[\"Albisrieden\",6.0],[\"Alt-Wiedikon\",16.5],[\"Altstetten\",19.676923076923078],[\"City\",1.0],[\"Enge\",9.595744680851064],[\"Escher Wyss\",1.0],[\"Fluntern\",9.333333333333334],[\"Friesenberg\",4.846153846153846],[\"Gewerbeschule\",2.5384615384615383],[\"Hard\",9.875],[\"Hirslanden\",9.64864864864865],[\"Hirzenbach\",1.0],[\"Hochschulen\",1.0],[\"Hottingen\",7.882352941176471],[\"H\\u00f6ngg\",8.379310344827585],[\"Langstrasse\",8.736842105263158],[\"Leimbach\",2.0],[\"Lindenhof\",1.0],[\"M\\u00fchlebach\",6.6521739130434785],[\"Oberstrass\",5.074074074074074],[\"Oerlikon\",17.372881355932204],[\"Rathaus\",1.0],[\"Schwamendingen-Mitte\",2.6],[\"Seebach\",5.777777777777778],[\"Seefeld\",7.666666666666667],[\"Sihlfeld\",13.262295081967213],[\"Unterstrass\",10.962962962962964],[\"Weinegg\",6.571428571428571],[\"Werd\",6.333333333333333],[\"Wipkingen\",13.541666666666666],[\"Witikon\",4.363636363636363],[\"Wollishofen\",17.54054054054054],[\"Affoltern\",4.8],[\"Albisrieden\",8.419354838709678],[\"Alt-Wiedikon\",9.093023255813954],[\"Altstetten\",9.444444444444445],[\"City\",3.3333333333333335],[\"Enge\",9.37037037037037],[\"Escher Wyss\",1.0],[\"Fluntern\",5.709677419354839],[\"Friesenberg\",3.0],[\"Hard\",9.2],[\"Hirslanden\",12.707317073170731],[\"Hirzenbach\",4.866666666666666],[\"Hottingen\",7.555555555555555],[\"H\\u00f6ngg\",7.6875],[\"Langstrasse\",11.478260869565217],[\"Leimbach\",1.8],[\"Lindenhof\",1.6666666666666667],[\"M\\u00fchlebach\",14.75],[\"Oberstrass\",5.2727272727272725],[\"Oerlikon\",6.851851851851852],[\"Rathaus\",6.181818181818182],[\"Saatlen\",2.142857142857143],[\"Schwamendingen-Mitte\",6.7272727272727275],[\"Seebach\",52.177304964539005],[\"Seefeld\",14.323076923076924],[\"Sihlfeld\",15.878048780487806],[\"Unterstrass\",8.652173913043478],[\"Weinegg\",4.384615384615385],[\"Werd\",10.68421052631579],[\"Wipkingen\",2.2],[\"Witikon\",4.473684210526316],[\"Wollishofen\",10.64102564102564],[\"Affoltern\",6.333333333333333],[\"Albisrieden\",7.186046511627907],[\"Alt-Wiedikon\",15.043478260869565],[\"Altstetten\",11.285714285714286],[\"Enge\",8.214285714285714],[\"Escher Wyss\",1.0],[\"Fluntern\",7.538461538461538],[\"Friesenberg\",22.658536585365855],[\"Gewerbeschule\",4.0],[\"Hard\",23.35],[\"Hirslanden\",4.714285714285714],[\"Hirzenbach\",7.173913043478261],[\"Hochschulen\",8.2],[\"Hottingen\",8.255813953488373],[\"H\\u00f6ngg\",9.292682926829269],[\"Langstrasse\",12.619047619047619],[\"Leimbach\",4.111111111111111],[\"Lindenhof\",3.923076923076923],[\"M\\u00fchlebach\",11.523809523809524],[\"Oberstrass\",6.84],[\"Oerlikon\",28.835051546391753],[\"Rathaus\",4.2],[\"Saatlen\",1.5],[\"Schwamendingen-Mitte\",7.375],[\"Seebach\",21.105263157894736],[\"Seefeld\",4.5],[\"Sihlfeld\",8.347826086956522],[\"Unterstrass\",80.80701754385964],[\"Weinegg\",6.6],[\"Werd\",14.0],[\"Wipkingen\",5.0],[\"Witikon\",12.079365079365079],[\"Wollishofen\",6.103448275862069],[\"Affoltern\",10.88888888888889],[\"Albisrieden\",1.6666666666666667],[\"Alt-Wiedikon\",11.285714285714286],[\"Altstetten\",6.703703703703703],[\"City\",2.7142857142857144],[\"Enge\",7.848484848484849],[\"Escher Wyss\",2.3333333333333335],[\"Fluntern\",4.948717948717949],[\"Friesenberg\",1.0],[\"Gewerbeschule\",2.8181818181818183],[\"Hirslanden\",1.5],[\"Hochschulen\",4.111111111111111],[\"Hottingen\",7.606060606060606],[\"H\\u00f6ngg\",11.222222222222221],[\"Langstrasse\",6.2],[\"Leimbach\",3.857142857142857],[\"Lindenhof\",1.5],[\"M\\u00fchlebach\",4.0],[\"Oberstrass\",1.5714285714285714],[\"Oerlikon\",4.578947368421052],[\"Rathaus\",1.0],[\"Saatlen\",1.8],[\"Schwamendingen-Mitte\",3.0],[\"Seebach\",3.0],[\"Seefeld\",3.0],[\"Sihlfeld\",3.6153846153846154],[\"Unterstrass\",11.64516129032258],[\"Weinegg\",3.25],[\"Werd\",2.5],[\"Wipkingen\",2.7142857142857144],[\"Witikon\",8.454545454545455],[\"Wollishofen\",4.6923076923076925],[\"Affoltern\",7.516129032258065],[\"Albisrieden\",26.063291139240505],[\"Alt-Wiedikon\",89.368],[\"Altstetten\",15.333333333333334],[\"Enge\",7.275862068965517],[\"Escher Wyss\",38.333333333333336],[\"Fluntern\",10.061224489795919],[\"Friesenberg\",2.2],[\"Gewerbeschule\",4.384615384615385],[\"Hard\",9.962962962962964],[\"Hirslanden\",2.3333333333333335],[\"Hirzenbach\",4.2727272727272725],[\"Hottingen\",3.9473684210526314],[\"H\\u00f6ngg\",5.142857142857143],[\"Langstrasse\",6.0256410256410255],[\"Leimbach\",5.0],[\"M\\u00fchlebach\",3.5],[\"Oberstrass\",3.1818181818181817],[\"Oerlikon\",5.733333333333333],[\"Rathaus\",3.3333333333333335],[\"Saatlen\",1.0],[\"Schwamendingen-Mitte\",1.0],[\"Seebach\",25.408163265306122],[\"Seefeld\",4.636363636363637],[\"Sihlfeld\",3.3333333333333335],[\"Unterstrass\",3.0],[\"Weinegg\",2.5714285714285716],[\"Werd\",2.111111111111111],[\"Wipkingen\",1.4],[\"Witikon\",4.176470588235294],[\"Wollishofen\",8.777777777777779],[\"Affoltern\",5.625],[\"Albisrieden\",2.5384615384615383],[\"Alt-Wiedikon\",12.148936170212766],[\"Altstetten\",2.4],[\"City\",12.372549019607844],[\"Enge\",22.29655172413793],[\"Escher Wyss\",3.0],[\"Fluntern\",3.9411764705882355],[\"Friesenberg\",2.0],[\"Gewerbeschule\",25.3],[\"Hard\",8.93939393939394],[\"Hirslanden\",7.4],[\"Hirzenbach\",1.0],[\"Hochschulen\",3.6956521739130435],[\"Hottingen\",16.440860215053764],[\"H\\u00f6ngg\",6.0344827586206895],[\"Langstrasse\",47.51207729468599],[\"Lindenhof\",22.666666666666668],[\"M\\u00fchlebach\",7.0],[\"Oberstrass\",7.521739130434782],[\"Oerlikon\",3.0],[\"Rathaus\",39.25],[\"Schwamendingen-Mitte\",2.3333333333333335],[\"Seebach\",3.6666666666666665],[\"Seefeld\",14.472222222222221],[\"Sihlfeld\",9.784313725490197],[\"Unterstrass\",5.923076923076923],[\"Weinegg\",3.210526315789474],[\"Werd\",17.210526315789473],[\"Wipkingen\",2.8181818181818183],[\"Witikon\",1.5],[\"Wollishofen\",2.6],[\"Affoltern\",7.254777070063694],[\"Albisrieden\",14.044776119402986],[\"Alt-Wiedikon\",48.75373134328358],[\"Altstetten\",13.112359550561798],[\"City\",10.074626865671641],[\"Enge\",14.345565749235474],[\"Escher Wyss\",33.6231884057971],[\"Fluntern\",7.036697247706422],[\"Friesenberg\",14.884057971014492],[\"Gewerbeschule\",18.65714285714286],[\"Hard\",12.03954802259887],[\"Hirslanden\",8.329032258064515],[\"Hirzenbach\",5.627450980392157],[\"Hochschulen\",4.454545454545454],[\"Hottingen\",10.322475570032573],[\"H\\u00f6ngg\",8.243243243243244],[\"Langstrasse\",28.890818858560795],[\"Leimbach\",3.9583333333333335],[\"Lindenhof\",19.96732026143791],[\"M\\u00fchlebach\",9.623481781376519],[\"Oberstrass\",6.394285714285714],[\"Oerlikon\",16.806949806949806],[\"Rathaus\",32.813559322033896],[\"Saatlen\",1.736842105263158],[\"Schwamendingen-Mitte\",5.123076923076923],[\"Seebach\",34.918103448275865],[\"Seefeld\",11.434456928838951],[\"Sihlfeld\",11.608414239482201],[\"Unterstrass\",32.366391184573004],[\"Weinegg\",4.450980392156863],[\"Werd\",12.527272727272727],[\"Wipkingen\",8.157142857142857],[\"Witikon\",8.14864864864865],[\"Wollishofen\",10.412765957446808],[\"(?)\",22.933463796477493],[\"(?)\",8.206153846153846],[\"(?)\",24.652272727272727],[\"(?)\",4.837037037037037],[\"(?)\",12.01311475409836],[\"(?)\",33.63894967177243],[\"(?)\",21.263087248322147],[\"(?)\",25.2555910543131],[\"(?)\",23.9182156133829],[\"(?)\",8.695652173913043],[\"(?)\",9.551948051948052],[\"(?)\",13.512820512820513],[\"(?)\",19.007554845270956]],\"domain\":{\"x\":[0.0,1.0],\"y\":[0.0,1.0]},\"hovertemplate\":\"labels=%{label}<br>AnzWhg_sum=%{value}<br>parent=%{parent}<br>id=%{id}<br>QuarLang=%{customdata[0]}<br>AnzWhg=%{color}<extra></extra>\",\"ids\":[\"Zweitwohnungen/Kreis 11/Affoltern/1900\\u2013191\",\"Zweitwohnungen/Kreis 9/Albisrieden/1900\\u2013191\",\"Zweitwohnungen/Kreis 3/Alt-Wiedikon/1900\\u2013191\",\"Zweitwohnungen/Kreis 9/Altstetten/1900\\u2013191\",\"Zweitwohnungen/Kreis 1/City/1900\\u2013191\",\"Zweitwohnungen/Kreis 2/Enge/1900\\u2013191\",\"Zweitwohnungen/Kreis 7/Fluntern/1900\\u2013191\",\"Zweitwohnungen/Kreis 5/Gewerbeschule/1900\\u2013191\",\"Zweitwohnungen/Kreis 4/Hard/1900\\u2013191\",\"Zweitwohnungen/Kreis 7/Hirslanden/1900\\u2013191\",\"Zweitwohnungen/Kreis 1/Hochschulen/1900\\u2013191\",\"Zweitwohnungen/Kreis 7/Hottingen/1900\\u2013191\",\"Zweitwohnungen/Kreis 10/H\\u00f6ngg/1900\\u2013191\",\"Zweitwohnungen/Kreis 4/Langstrasse/1900\\u2013191\",\"Zweitwohnungen/Kreis 2/Leimbach/1900\\u2013191\",\"Zweitwohnungen/Kreis 8/M\\u00fchlebach/1900\\u2013191\",\"Zweitwohnungen/Kreis 6/Oberstrass/1900\\u2013191\",\"Zweitwohnungen/Kreis 11/Oerlikon/1900\\u2013191\",\"Zweitwohnungen/Kreis 1/Rathaus/1900\\u2013191\",\"Zweitwohnungen/Kreis 12/Schwamendingen-Mitte/1900\\u2013191\",\"Zweitwohnungen/Kreis 11/Seebach/1900\\u2013191\",\"Zweitwohnungen/Kreis 8/Seefeld/1900\\u2013191\",\"Zweitwohnungen/Kreis 3/Sihlfeld/1900\\u2013191\",\"Zweitwohnungen/Kreis 6/Unterstrass/1900\\u2013191\",\"Zweitwohnungen/Kreis 8/Weinegg/1900\\u2013191\",\"Zweitwohnungen/Kreis 4/Werd/1900\\u2013191\",\"Zweitwohnungen/Kreis 10/Wipkingen/1900\\u2013191\",\"Zweitwohnungen/Kreis 7/Witikon/1900\\u2013191\",\"Zweitwohnungen/Kreis 2/Wollishofen/1900\\u2013191\",\"Zweitwohnungen/Kreis 11/Affoltern/1920\\u2013193\",\"Zweitwohnungen/Kreis 9/Albisrieden/1920\\u2013193\",\"Zweitwohnungen/Kreis 3/Alt-Wiedikon/1920\\u2013193\",\"Zweitwohnungen/Kreis 9/Altstetten/1920\\u2013193\",\"Zweitwohnungen/Kreis 1/City/1920\\u2013193\",\"Zweitwohnungen/Kreis 2/Enge/1920\\u2013193\",\"Zweitwohnungen/Kreis 5/Escher Wyss/1920\\u2013193\",\"Zweitwohnungen/Kreis 7/Fluntern/1920\\u2013193\",\"Zweitwohnungen/Kreis 3/Friesenberg/1920\\u2013193\",\"Zweitwohnungen/Kreis 5/Gewerbeschule/1920\\u2013193\",\"Zweitwohnungen/Kreis 4/Hard/1920\\u2013193\",\"Zweitwohnungen/Kreis 7/Hirslanden/1920\\u2013193\",\"Zweitwohnungen/Kreis 12/Hirzenbach/1920\\u2013193\",\"Zweitwohnungen/Kreis 1/Hochschulen/1920\\u2013193\",\"Zweitwohnungen/Kreis 7/Hottingen/1920\\u2013193\",\"Zweitwohnungen/Kreis 10/H\\u00f6ngg/1920\\u2013193\",\"Zweitwohnungen/Kreis 4/Langstrasse/1920\\u2013193\",\"Zweitwohnungen/Kreis 2/Leimbach/1920\\u2013193\",\"Zweitwohnungen/Kreis 1/Lindenhof/1920\\u2013193\",\"Zweitwohnungen/Kreis 8/M\\u00fchlebach/1920\\u2013193\",\"Zweitwohnungen/Kreis 6/Oberstrass/1920\\u2013193\",\"Zweitwohnungen/Kreis 11/Oerlikon/1920\\u2013193\",\"Zweitwohnungen/Kreis 1/Rathaus/1920\\u2013193\",\"Zweitwohnungen/Kreis 12/Schwamendingen-Mitte/1920\\u2013193\",\"Zweitwohnungen/Kreis 11/Seebach/1920\\u2013193\",\"Zweitwohnungen/Kreis 8/Seefeld/1920\\u2013193\",\"Zweitwohnungen/Kreis 3/Sihlfeld/1920\\u2013193\",\"Zweitwohnungen/Kreis 6/Unterstrass/1920\\u2013193\",\"Zweitwohnungen/Kreis 8/Weinegg/1920\\u2013193\",\"Zweitwohnungen/Kreis 4/Werd/1920\\u2013193\",\"Zweitwohnungen/Kreis 10/Wipkingen/1920\\u2013193\",\"Zweitwohnungen/Kreis 7/Witikon/1920\\u2013193\",\"Zweitwohnungen/Kreis 2/Wollishofen/1920\\u2013193\",\"Zweitwohnungen/Kreis 11/Affoltern/1940\\u2013195\",\"Zweitwohnungen/Kreis 9/Albisrieden/1940\\u2013195\",\"Zweitwohnungen/Kreis 3/Alt-Wiedikon/1940\\u2013195\",\"Zweitwohnungen/Kreis 9/Altstetten/1940\\u2013195\",\"Zweitwohnungen/Kreis 1/City/1940\\u2013195\",\"Zweitwohnungen/Kreis 2/Enge/1940\\u2013195\",\"Zweitwohnungen/Kreis 5/Escher Wyss/1940\\u2013195\",\"Zweitwohnungen/Kreis 7/Fluntern/1940\\u2013195\",\"Zweitwohnungen/Kreis 3/Friesenberg/1940\\u2013195\",\"Zweitwohnungen/Kreis 4/Hard/1940\\u2013195\",\"Zweitwohnungen/Kreis 7/Hirslanden/1940\\u2013195\",\"Zweitwohnungen/Kreis 12/Hirzenbach/1940\\u2013195\",\"Zweitwohnungen/Kreis 7/Hottingen/1940\\u2013195\",\"Zweitwohnungen/Kreis 10/H\\u00f6ngg/1940\\u2013195\",\"Zweitwohnungen/Kreis 4/Langstrasse/1940\\u2013195\",\"Zweitwohnungen/Kreis 2/Leimbach/1940\\u2013195\",\"Zweitwohnungen/Kreis 1/Lindenhof/1940\\u2013195\",\"Zweitwohnungen/Kreis 8/M\\u00fchlebach/1940\\u2013195\",\"Zweitwohnungen/Kreis 6/Oberstrass/1940\\u2013195\",\"Zweitwohnungen/Kreis 11/Oerlikon/1940\\u2013195\",\"Zweitwohnungen/Kreis 1/Rathaus/1940\\u2013195\",\"Zweitwohnungen/Kreis 12/Saatlen/1940\\u2013195\",\"Zweitwohnungen/Kreis 12/Schwamendingen-Mitte/1940\\u2013195\",\"Zweitwohnungen/Kreis 11/Seebach/1940\\u2013195\",\"Zweitwohnungen/Kreis 8/Seefeld/1940\\u2013195\",\"Zweitwohnungen/Kreis 3/Sihlfeld/1940\\u2013195\",\"Zweitwohnungen/Kreis 6/Unterstrass/1940\\u2013195\",\"Zweitwohnungen/Kreis 8/Weinegg/1940\\u2013195\",\"Zweitwohnungen/Kreis 4/Werd/1940\\u2013195\",\"Zweitwohnungen/Kreis 10/Wipkingen/1940\\u2013195\",\"Zweitwohnungen/Kreis 7/Witikon/1940\\u2013195\",\"Zweitwohnungen/Kreis 2/Wollishofen/1940\\u2013195\",\"Zweitwohnungen/Kreis 11/Affoltern/1960\\u2013197\",\"Zweitwohnungen/Kreis 9/Albisrieden/1960\\u2013197\",\"Zweitwohnungen/Kreis 3/Alt-Wiedikon/1960\\u2013197\",\"Zweitwohnungen/Kreis 9/Altstetten/1960\\u2013197\",\"Zweitwohnungen/Kreis 2/Enge/1960\\u2013197\",\"Zweitwohnungen/Kreis 5/Escher Wyss/1960\\u2013197\",\"Zweitwohnungen/Kreis 7/Fluntern/1960\\u2013197\",\"Zweitwohnungen/Kreis 3/Friesenberg/1960\\u2013197\",\"Zweitwohnungen/Kreis 5/Gewerbeschule/1960\\u2013197\",\"Zweitwohnungen/Kreis 4/Hard/1960\\u2013197\",\"Zweitwohnungen/Kreis 7/Hirslanden/1960\\u2013197\",\"Zweitwohnungen/Kreis 12/Hirzenbach/1960\\u2013197\",\"Zweitwohnungen/Kreis 1/Hochschulen/1960\\u2013197\",\"Zweitwohnungen/Kreis 7/Hottingen/1960\\u2013197\",\"Zweitwohnungen/Kreis 10/H\\u00f6ngg/1960\\u2013197\",\"Zweitwohnungen/Kreis 4/Langstrasse/1960\\u2013197\",\"Zweitwohnungen/Kreis 2/Leimbach/1960\\u2013197\",\"Zweitwohnungen/Kreis 1/Lindenhof/1960\\u2013197\",\"Zweitwohnungen/Kreis 8/M\\u00fchlebach/1960\\u2013197\",\"Zweitwohnungen/Kreis 6/Oberstrass/1960\\u2013197\",\"Zweitwohnungen/Kreis 11/Oerlikon/1960\\u2013197\",\"Zweitwohnungen/Kreis 1/Rathaus/1960\\u2013197\",\"Zweitwohnungen/Kreis 12/Saatlen/1960\\u2013197\",\"Zweitwohnungen/Kreis 12/Schwamendingen-Mitte/1960\\u2013197\",\"Zweitwohnungen/Kreis 11/Seebach/1960\\u2013197\",\"Zweitwohnungen/Kreis 8/Seefeld/1960\\u2013197\",\"Zweitwohnungen/Kreis 3/Sihlfeld/1960\\u2013197\",\"Zweitwohnungen/Kreis 6/Unterstrass/1960\\u2013197\",\"Zweitwohnungen/Kreis 8/Weinegg/1960\\u2013197\",\"Zweitwohnungen/Kreis 4/Werd/1960\\u2013197\",\"Zweitwohnungen/Kreis 10/Wipkingen/1960\\u2013197\",\"Zweitwohnungen/Kreis 7/Witikon/1960\\u2013197\",\"Zweitwohnungen/Kreis 2/Wollishofen/1960\\u2013197\",\"Zweitwohnungen/Kreis 11/Affoltern/1980\\u2013199\",\"Zweitwohnungen/Kreis 9/Albisrieden/1980\\u2013199\",\"Zweitwohnungen/Kreis 3/Alt-Wiedikon/1980\\u2013199\",\"Zweitwohnungen/Kreis 9/Altstetten/1980\\u2013199\",\"Zweitwohnungen/Kreis 1/City/1980\\u2013199\",\"Zweitwohnungen/Kreis 2/Enge/1980\\u2013199\",\"Zweitwohnungen/Kreis 5/Escher Wyss/1980\\u2013199\",\"Zweitwohnungen/Kreis 7/Fluntern/1980\\u2013199\",\"Zweitwohnungen/Kreis 3/Friesenberg/1980\\u2013199\",\"Zweitwohnungen/Kreis 5/Gewerbeschule/1980\\u2013199\",\"Zweitwohnungen/Kreis 7/Hirslanden/1980\\u2013199\",\"Zweitwohnungen/Kreis 1/Hochschulen/1980\\u2013199\",\"Zweitwohnungen/Kreis 7/Hottingen/1980\\u2013199\",\"Zweitwohnungen/Kreis 10/H\\u00f6ngg/1980\\u2013199\",\"Zweitwohnungen/Kreis 4/Langstrasse/1980\\u2013199\",\"Zweitwohnungen/Kreis 2/Leimbach/1980\\u2013199\",\"Zweitwohnungen/Kreis 1/Lindenhof/1980\\u2013199\",\"Zweitwohnungen/Kreis 8/M\\u00fchlebach/1980\\u2013199\",\"Zweitwohnungen/Kreis 6/Oberstrass/1980\\u2013199\",\"Zweitwohnungen/Kreis 11/Oerlikon/1980\\u2013199\",\"Zweitwohnungen/Kreis 1/Rathaus/1980\\u2013199\",\"Zweitwohnungen/Kreis 12/Saatlen/1980\\u2013199\",\"Zweitwohnungen/Kreis 12/Schwamendingen-Mitte/1980\\u2013199\",\"Zweitwohnungen/Kreis 11/Seebach/1980\\u2013199\",\"Zweitwohnungen/Kreis 8/Seefeld/1980\\u2013199\",\"Zweitwohnungen/Kreis 3/Sihlfeld/1980\\u2013199\",\"Zweitwohnungen/Kreis 6/Unterstrass/1980\\u2013199\",\"Zweitwohnungen/Kreis 8/Weinegg/1980\\u2013199\",\"Zweitwohnungen/Kreis 4/Werd/1980\\u2013199\",\"Zweitwohnungen/Kreis 10/Wipkingen/1980\\u2013199\",\"Zweitwohnungen/Kreis 7/Witikon/1980\\u2013199\",\"Zweitwohnungen/Kreis 2/Wollishofen/1980\\u2013199\",\"Zweitwohnungen/Kreis 11/Affoltern/ab 2000\",\"Zweitwohnungen/Kreis 9/Albisrieden/ab 2000\",\"Zweitwohnungen/Kreis 3/Alt-Wiedikon/ab 2000\",\"Zweitwohnungen/Kreis 9/Altstetten/ab 2000\",\"Zweitwohnungen/Kreis 2/Enge/ab 2000\",\"Zweitwohnungen/Kreis 5/Escher Wyss/ab 2000\",\"Zweitwohnungen/Kreis 7/Fluntern/ab 2000\",\"Zweitwohnungen/Kreis 3/Friesenberg/ab 2000\",\"Zweitwohnungen/Kreis 5/Gewerbeschule/ab 2000\",\"Zweitwohnungen/Kreis 4/Hard/ab 2000\",\"Zweitwohnungen/Kreis 7/Hirslanden/ab 2000\",\"Zweitwohnungen/Kreis 12/Hirzenbach/ab 2000\",\"Zweitwohnungen/Kreis 7/Hottingen/ab 2000\",\"Zweitwohnungen/Kreis 10/H\\u00f6ngg/ab 2000\",\"Zweitwohnungen/Kreis 4/Langstrasse/ab 2000\",\"Zweitwohnungen/Kreis 2/Leimbach/ab 2000\",\"Zweitwohnungen/Kreis 8/M\\u00fchlebach/ab 2000\",\"Zweitwohnungen/Kreis 6/Oberstrass/ab 2000\",\"Zweitwohnungen/Kreis 11/Oerlikon/ab 2000\",\"Zweitwohnungen/Kreis 1/Rathaus/ab 2000\",\"Zweitwohnungen/Kreis 12/Saatlen/ab 2000\",\"Zweitwohnungen/Kreis 12/Schwamendingen-Mitte/ab 2000\",\"Zweitwohnungen/Kreis 11/Seebach/ab 2000\",\"Zweitwohnungen/Kreis 8/Seefeld/ab 2000\",\"Zweitwohnungen/Kreis 3/Sihlfeld/ab 2000\",\"Zweitwohnungen/Kreis 6/Unterstrass/ab 2000\",\"Zweitwohnungen/Kreis 8/Weinegg/ab 2000\",\"Zweitwohnungen/Kreis 4/Werd/ab 2000\",\"Zweitwohnungen/Kreis 10/Wipkingen/ab 2000\",\"Zweitwohnungen/Kreis 7/Witikon/ab 2000\",\"Zweitwohnungen/Kreis 2/Wollishofen/ab 2000\",\"Zweitwohnungen/Kreis 11/Affoltern/vor 1900\",\"Zweitwohnungen/Kreis 9/Albisrieden/vor 1900\",\"Zweitwohnungen/Kreis 3/Alt-Wiedikon/vor 1900\",\"Zweitwohnungen/Kreis 9/Altstetten/vor 1900\",\"Zweitwohnungen/Kreis 1/City/vor 1900\",\"Zweitwohnungen/Kreis 2/Enge/vor 1900\",\"Zweitwohnungen/Kreis 5/Escher Wyss/vor 1900\",\"Zweitwohnungen/Kreis 7/Fluntern/vor 1900\",\"Zweitwohnungen/Kreis 3/Friesenberg/vor 1900\",\"Zweitwohnungen/Kreis 5/Gewerbeschule/vor 1900\",\"Zweitwohnungen/Kreis 4/Hard/vor 1900\",\"Zweitwohnungen/Kreis 7/Hirslanden/vor 1900\",\"Zweitwohnungen/Kreis 12/Hirzenbach/vor 1900\",\"Zweitwohnungen/Kreis 1/Hochschulen/vor 1900\",\"Zweitwohnungen/Kreis 7/Hottingen/vor 1900\",\"Zweitwohnungen/Kreis 10/H\\u00f6ngg/vor 1900\",\"Zweitwohnungen/Kreis 4/Langstrasse/vor 1900\",\"Zweitwohnungen/Kreis 1/Lindenhof/vor 1900\",\"Zweitwohnungen/Kreis 8/M\\u00fchlebach/vor 1900\",\"Zweitwohnungen/Kreis 6/Oberstrass/vor 1900\",\"Zweitwohnungen/Kreis 11/Oerlikon/vor 1900\",\"Zweitwohnungen/Kreis 1/Rathaus/vor 1900\",\"Zweitwohnungen/Kreis 12/Schwamendingen-Mitte/vor 1900\",\"Zweitwohnungen/Kreis 11/Seebach/vor 1900\",\"Zweitwohnungen/Kreis 8/Seefeld/vor 1900\",\"Zweitwohnungen/Kreis 3/Sihlfeld/vor 1900\",\"Zweitwohnungen/Kreis 6/Unterstrass/vor 1900\",\"Zweitwohnungen/Kreis 8/Weinegg/vor 1900\",\"Zweitwohnungen/Kreis 4/Werd/vor 1900\",\"Zweitwohnungen/Kreis 10/Wipkingen/vor 1900\",\"Zweitwohnungen/Kreis 7/Witikon/vor 1900\",\"Zweitwohnungen/Kreis 2/Wollishofen/vor 1900\",\"Zweitwohnungen/Kreis 11/Affoltern\",\"Zweitwohnungen/Kreis 9/Albisrieden\",\"Zweitwohnungen/Kreis 3/Alt-Wiedikon\",\"Zweitwohnungen/Kreis 9/Altstetten\",\"Zweitwohnungen/Kreis 1/City\",\"Zweitwohnungen/Kreis 2/Enge\",\"Zweitwohnungen/Kreis 5/Escher Wyss\",\"Zweitwohnungen/Kreis 7/Fluntern\",\"Zweitwohnungen/Kreis 3/Friesenberg\",\"Zweitwohnungen/Kreis 5/Gewerbeschule\",\"Zweitwohnungen/Kreis 4/Hard\",\"Zweitwohnungen/Kreis 7/Hirslanden\",\"Zweitwohnungen/Kreis 12/Hirzenbach\",\"Zweitwohnungen/Kreis 1/Hochschulen\",\"Zweitwohnungen/Kreis 7/Hottingen\",\"Zweitwohnungen/Kreis 10/H\\u00f6ngg\",\"Zweitwohnungen/Kreis 4/Langstrasse\",\"Zweitwohnungen/Kreis 2/Leimbach\",\"Zweitwohnungen/Kreis 1/Lindenhof\",\"Zweitwohnungen/Kreis 8/M\\u00fchlebach\",\"Zweitwohnungen/Kreis 6/Oberstrass\",\"Zweitwohnungen/Kreis 11/Oerlikon\",\"Zweitwohnungen/Kreis 1/Rathaus\",\"Zweitwohnungen/Kreis 12/Saatlen\",\"Zweitwohnungen/Kreis 12/Schwamendingen-Mitte\",\"Zweitwohnungen/Kreis 11/Seebach\",\"Zweitwohnungen/Kreis 8/Seefeld\",\"Zweitwohnungen/Kreis 3/Sihlfeld\",\"Zweitwohnungen/Kreis 6/Unterstrass\",\"Zweitwohnungen/Kreis 8/Weinegg\",\"Zweitwohnungen/Kreis 4/Werd\",\"Zweitwohnungen/Kreis 10/Wipkingen\",\"Zweitwohnungen/Kreis 7/Witikon\",\"Zweitwohnungen/Kreis 2/Wollishofen\",\"Zweitwohnungen/Kreis 1\",\"Zweitwohnungen/Kreis 10\",\"Zweitwohnungen/Kreis 11\",\"Zweitwohnungen/Kreis 12\",\"Zweitwohnungen/Kreis 2\",\"Zweitwohnungen/Kreis 3\",\"Zweitwohnungen/Kreis 4\",\"Zweitwohnungen/Kreis 5\",\"Zweitwohnungen/Kreis 6\",\"Zweitwohnungen/Kreis 7\",\"Zweitwohnungen/Kreis 8\",\"Zweitwohnungen/Kreis 9\",\"Zweitwohnungen\"],\"labels\":[\"1900\\u2013191\",\"1900\\u2013191\",\"1900\\u2013191\",\"1900\\u2013191\",\"1900\\u2013191\",\"1900\\u2013191\",\"1900\\u2013191\",\"1900\\u2013191\",\"1900\\u2013191\",\"1900\\u2013191\",\"1900\\u2013191\",\"1900\\u2013191\",\"1900\\u2013191\",\"1900\\u2013191\",\"1900\\u2013191\",\"1900\\u2013191\",\"1900\\u2013191\",\"1900\\u2013191\",\"1900\\u2013191\",\"1900\\u2013191\",\"1900\\u2013191\",\"1900\\u2013191\",\"1900\\u2013191\",\"1900\\u2013191\",\"1900\\u2013191\",\"1900\\u2013191\",\"1900\\u2013191\",\"1900\\u2013191\",\"1900\\u2013191\",\"1920\\u2013193\",\"1920\\u2013193\",\"1920\\u2013193\",\"1920\\u2013193\",\"1920\\u2013193\",\"1920\\u2013193\",\"1920\\u2013193\",\"1920\\u2013193\",\"1920\\u2013193\",\"1920\\u2013193\",\"1920\\u2013193\",\"1920\\u2013193\",\"1920\\u2013193\",\"1920\\u2013193\",\"1920\\u2013193\",\"1920\\u2013193\",\"1920\\u2013193\",\"1920\\u2013193\",\"1920\\u2013193\",\"1920\\u2013193\",\"1920\\u2013193\",\"1920\\u2013193\",\"1920\\u2013193\",\"1920\\u2013193\",\"1920\\u2013193\",\"1920\\u2013193\",\"1920\\u2013193\",\"1920\\u2013193\",\"1920\\u2013193\",\"1920\\u2013193\",\"1920\\u2013193\",\"1920\\u2013193\",\"1920\\u2013193\",\"1940\\u2013195\",\"1940\\u2013195\",\"1940\\u2013195\",\"1940\\u2013195\",\"1940\\u2013195\",\"1940\\u2013195\",\"1940\\u2013195\",\"1940\\u2013195\",\"1940\\u2013195\",\"1940\\u2013195\",\"1940\\u2013195\",\"1940\\u2013195\",\"1940\\u2013195\",\"1940\\u2013195\",\"1940\\u2013195\",\"1940\\u2013195\",\"1940\\u2013195\",\"1940\\u2013195\",\"1940\\u2013195\",\"1940\\u2013195\",\"1940\\u2013195\",\"1940\\u2013195\",\"1940\\u2013195\",\"1940\\u2013195\",\"1940\\u2013195\",\"1940\\u2013195\",\"1940\\u2013195\",\"1940\\u2013195\",\"1940\\u2013195\",\"1940\\u2013195\",\"1940\\u2013195\",\"1940\\u2013195\",\"1960\\u2013197\",\"1960\\u2013197\",\"1960\\u2013197\",\"1960\\u2013197\",\"1960\\u2013197\",\"1960\\u2013197\",\"1960\\u2013197\",\"1960\\u2013197\",\"1960\\u2013197\",\"1960\\u2013197\",\"1960\\u2013197\",\"1960\\u2013197\",\"1960\\u2013197\",\"1960\\u2013197\",\"1960\\u2013197\",\"1960\\u2013197\",\"1960\\u2013197\",\"1960\\u2013197\",\"1960\\u2013197\",\"1960\\u2013197\",\"1960\\u2013197\",\"1960\\u2013197\",\"1960\\u2013197\",\"1960\\u2013197\",\"1960\\u2013197\",\"1960\\u2013197\",\"1960\\u2013197\",\"1960\\u2013197\",\"1960\\u2013197\",\"1960\\u2013197\",\"1960\\u2013197\",\"1960\\u2013197\",\"1960\\u2013197\",\"1980\\u2013199\",\"1980\\u2013199\",\"1980\\u2013199\",\"1980\\u2013199\",\"1980\\u2013199\",\"1980\\u2013199\",\"1980\\u2013199\",\"1980\\u2013199\",\"1980\\u2013199\",\"1980\\u2013199\",\"1980\\u2013199\",\"1980\\u2013199\",\"1980\\u2013199\",\"1980\\u2013199\",\"1980\\u2013199\",\"1980\\u2013199\",\"1980\\u2013199\",\"1980\\u2013199\",\"1980\\u2013199\",\"1980\\u2013199\",\"1980\\u2013199\",\"1980\\u2013199\",\"1980\\u2013199\",\"1980\\u2013199\",\"1980\\u2013199\",\"1980\\u2013199\",\"1980\\u2013199\",\"1980\\u2013199\",\"1980\\u2013199\",\"1980\\u2013199\",\"1980\\u2013199\",\"1980\\u2013199\",\"ab 2000\",\"ab 2000\",\"ab 2000\",\"ab 2000\",\"ab 2000\",\"ab 2000\",\"ab 2000\",\"ab 2000\",\"ab 2000\",\"ab 2000\",\"ab 2000\",\"ab 2000\",\"ab 2000\",\"ab 2000\",\"ab 2000\",\"ab 2000\",\"ab 2000\",\"ab 2000\",\"ab 2000\",\"ab 2000\",\"ab 2000\",\"ab 2000\",\"ab 2000\",\"ab 2000\",\"ab 2000\",\"ab 2000\",\"ab 2000\",\"ab 2000\",\"ab 2000\",\"ab 2000\",\"ab 2000\",\"vor 1900\",\"vor 1900\",\"vor 1900\",\"vor 1900\",\"vor 1900\",\"vor 1900\",\"vor 1900\",\"vor 1900\",\"vor 1900\",\"vor 1900\",\"vor 1900\",\"vor 1900\",\"vor 1900\",\"vor 1900\",\"vor 1900\",\"vor 1900\",\"vor 1900\",\"vor 1900\",\"vor 1900\",\"vor 1900\",\"vor 1900\",\"vor 1900\",\"vor 1900\",\"vor 1900\",\"vor 1900\",\"vor 1900\",\"vor 1900\",\"vor 1900\",\"vor 1900\",\"vor 1900\",\"vor 1900\",\"vor 1900\",\"Affoltern\",\"Albisrieden\",\"Alt-Wiedikon\",\"Altstetten\",\"City\",\"Enge\",\"Escher Wyss\",\"Fluntern\",\"Friesenberg\",\"Gewerbeschule\",\"Hard\",\"Hirslanden\",\"Hirzenbach\",\"Hochschulen\",\"Hottingen\",\"H\\u00f6ngg\",\"Langstrasse\",\"Leimbach\",\"Lindenhof\",\"M\\u00fchlebach\",\"Oberstrass\",\"Oerlikon\",\"Rathaus\",\"Saatlen\",\"Schwamendingen-Mitte\",\"Seebach\",\"Seefeld\",\"Sihlfeld\",\"Unterstrass\",\"Weinegg\",\"Werd\",\"Wipkingen\",\"Witikon\",\"Wollishofen\",\"Kreis 1\",\"Kreis 10\",\"Kreis 11\",\"Kreis 12\",\"Kreis 2\",\"Kreis 3\",\"Kreis 4\",\"Kreis 5\",\"Kreis 6\",\"Kreis 7\",\"Kreis 8\",\"Kreis 9\",\"Zweitwohnungen\"],\"marker\":{\"coloraxis\":\"coloraxis\",\"colors\":[1.5,1.4,13.654545454545454,2.5,2.0,3.0,3.6,17.58823529411765,5.32,4.565217391304348,1.0,8.551020408163266,1.0,5.625,1.0,5.333333333333333,8.18918918918919,3.3,2.0,1.0,48.372093023255815,11.508474576271187,13.611764705882353,13.878787878787879,2.4,3.3333333333333335,8.105263157894736,1.0,4.428571428571429,6.565217391304348,6.0,16.5,19.676923076923078,1.0,9.595744680851064,1.0,9.333333333333334,4.846153846153846,2.5384615384615383,9.875,9.64864864864865,1.0,1.0,7.882352941176471,8.379310344827585,8.736842105263158,2.0,1.0,6.6521739130434785,5.074074074074074,17.372881355932204,1.0,2.6,5.777777777777778,7.666666666666667,13.262295081967213,10.962962962962964,6.571428571428571,6.333333333333333,13.541666666666666,4.363636363636363,17.54054054054054,4.8,8.419354838709678,9.093023255813954,9.444444444444445,3.3333333333333335,9.37037037037037,1.0,5.709677419354839,3.0,9.2,12.707317073170731,4.866666666666666,7.555555555555555,7.6875,11.478260869565217,1.8,1.6666666666666667,14.75,5.2727272727272725,6.851851851851852,6.181818181818182,2.142857142857143,6.7272727272727275,52.177304964539005,14.323076923076924,15.878048780487806,8.652173913043478,4.384615384615385,10.68421052631579,2.2,4.473684210526316,10.64102564102564,6.333333333333333,7.186046511627907,15.043478260869565,11.285714285714286,8.214285714285714,1.0,7.538461538461538,22.658536585365855,4.0,23.35,4.714285714285714,7.173913043478261,8.2,8.255813953488373,9.292682926829269,12.619047619047619,4.111111111111111,3.923076923076923,11.523809523809524,6.84,28.835051546391753,4.2,1.5,7.375,21.105263157894736,4.5,8.347826086956522,80.80701754385964,6.6,14.0,5.0,12.079365079365079,6.103448275862069,10.88888888888889,1.6666666666666667,11.285714285714286,6.703703703703703,2.7142857142857144,7.848484848484849,2.3333333333333335,4.948717948717949,1.0,2.8181818181818183,1.5,4.111111111111111,7.606060606060606,11.222222222222221,6.2,3.857142857142857,1.5,4.0,1.5714285714285714,4.578947368421052,1.0,1.8,3.0,3.0,3.0,3.6153846153846154,11.64516129032258,3.25,2.5,2.7142857142857144,8.454545454545455,4.6923076923076925,7.516129032258065,26.063291139240505,89.368,15.333333333333334,7.275862068965517,38.333333333333336,10.061224489795919,2.2,4.384615384615385,9.962962962962964,2.3333333333333335,4.2727272727272725,3.9473684210526314,5.142857142857143,6.0256410256410255,5.0,3.5,3.1818181818181817,5.733333333333333,3.3333333333333335,1.0,1.0,25.408163265306122,4.636363636363637,3.3333333333333335,3.0,2.5714285714285716,2.111111111111111,1.4,4.176470588235294,8.777777777777779,5.625,2.5384615384615383,12.148936170212766,2.4,12.372549019607844,22.29655172413793,3.0,3.9411764705882355,2.0,25.3,8.93939393939394,7.4,1.0,3.6956521739130435,16.440860215053764,6.0344827586206895,47.51207729468599,22.666666666666668,7.0,7.521739130434782,3.0,39.25,2.3333333333333335,3.6666666666666665,14.472222222222221,9.784313725490197,5.923076923076923,3.210526315789474,17.210526315789473,2.8181818181818183,1.5,2.6,7.254777070063694,14.044776119402986,48.75373134328358,13.112359550561798,10.074626865671641,14.345565749235474,33.6231884057971,7.036697247706422,14.884057971014492,18.65714285714286,12.03954802259887,8.329032258064515,5.627450980392157,4.454545454545454,10.322475570032573,8.243243243243244,28.890818858560795,3.9583333333333335,19.96732026143791,9.623481781376519,6.394285714285714,16.806949806949806,32.813559322033896,1.736842105263158,5.123076923076923,34.918103448275865,11.434456928838951,11.608414239482201,32.366391184573004,4.450980392156863,12.527272727272727,8.157142857142857,8.14864864864865,10.412765957446808,22.933463796477493,8.206153846153846,24.652272727272727,4.837037037037037,12.01311475409836,33.63894967177243,21.263087248322147,25.2555910543131,23.9182156133829,8.695652173913043,9.551948051948052,13.512820512820513,19.007554845270956]},\"name\":\"\",\"parents\":[\"Zweitwohnungen/Kreis 11/Affoltern\",\"Zweitwohnungen/Kreis 9/Albisrieden\",\"Zweitwohnungen/Kreis 3/Alt-Wiedikon\",\"Zweitwohnungen/Kreis 9/Altstetten\",\"Zweitwohnungen/Kreis 1/City\",\"Zweitwohnungen/Kreis 2/Enge\",\"Zweitwohnungen/Kreis 7/Fluntern\",\"Zweitwohnungen/Kreis 5/Gewerbeschule\",\"Zweitwohnungen/Kreis 4/Hard\",\"Zweitwohnungen/Kreis 7/Hirslanden\",\"Zweitwohnungen/Kreis 1/Hochschulen\",\"Zweitwohnungen/Kreis 7/Hottingen\",\"Zweitwohnungen/Kreis 10/H\\u00f6ngg\",\"Zweitwohnungen/Kreis 4/Langstrasse\",\"Zweitwohnungen/Kreis 2/Leimbach\",\"Zweitwohnungen/Kreis 8/M\\u00fchlebach\",\"Zweitwohnungen/Kreis 6/Oberstrass\",\"Zweitwohnungen/Kreis 11/Oerlikon\",\"Zweitwohnungen/Kreis 1/Rathaus\",\"Zweitwohnungen/Kreis 12/Schwamendingen-Mitte\",\"Zweitwohnungen/Kreis 11/Seebach\",\"Zweitwohnungen/Kreis 8/Seefeld\",\"Zweitwohnungen/Kreis 3/Sihlfeld\",\"Zweitwohnungen/Kreis 6/Unterstrass\",\"Zweitwohnungen/Kreis 8/Weinegg\",\"Zweitwohnungen/Kreis 4/Werd\",\"Zweitwohnungen/Kreis 10/Wipkingen\",\"Zweitwohnungen/Kreis 7/Witikon\",\"Zweitwohnungen/Kreis 2/Wollishofen\",\"Zweitwohnungen/Kreis 11/Affoltern\",\"Zweitwohnungen/Kreis 9/Albisrieden\",\"Zweitwohnungen/Kreis 3/Alt-Wiedikon\",\"Zweitwohnungen/Kreis 9/Altstetten\",\"Zweitwohnungen/Kreis 1/City\",\"Zweitwohnungen/Kreis 2/Enge\",\"Zweitwohnungen/Kreis 5/Escher Wyss\",\"Zweitwohnungen/Kreis 7/Fluntern\",\"Zweitwohnungen/Kreis 3/Friesenberg\",\"Zweitwohnungen/Kreis 5/Gewerbeschule\",\"Zweitwohnungen/Kreis 4/Hard\",\"Zweitwohnungen/Kreis 7/Hirslanden\",\"Zweitwohnungen/Kreis 12/Hirzenbach\",\"Zweitwohnungen/Kreis 1/Hochschulen\",\"Zweitwohnungen/Kreis 7/Hottingen\",\"Zweitwohnungen/Kreis 10/H\\u00f6ngg\",\"Zweitwohnungen/Kreis 4/Langstrasse\",\"Zweitwohnungen/Kreis 2/Leimbach\",\"Zweitwohnungen/Kreis 1/Lindenhof\",\"Zweitwohnungen/Kreis 8/M\\u00fchlebach\",\"Zweitwohnungen/Kreis 6/Oberstrass\",\"Zweitwohnungen/Kreis 11/Oerlikon\",\"Zweitwohnungen/Kreis 1/Rathaus\",\"Zweitwohnungen/Kreis 12/Schwamendingen-Mitte\",\"Zweitwohnungen/Kreis 11/Seebach\",\"Zweitwohnungen/Kreis 8/Seefeld\",\"Zweitwohnungen/Kreis 3/Sihlfeld\",\"Zweitwohnungen/Kreis 6/Unterstrass\",\"Zweitwohnungen/Kreis 8/Weinegg\",\"Zweitwohnungen/Kreis 4/Werd\",\"Zweitwohnungen/Kreis 10/Wipkingen\",\"Zweitwohnungen/Kreis 7/Witikon\",\"Zweitwohnungen/Kreis 2/Wollishofen\",\"Zweitwohnungen/Kreis 11/Affoltern\",\"Zweitwohnungen/Kreis 9/Albisrieden\",\"Zweitwohnungen/Kreis 3/Alt-Wiedikon\",\"Zweitwohnungen/Kreis 9/Altstetten\",\"Zweitwohnungen/Kreis 1/City\",\"Zweitwohnungen/Kreis 2/Enge\",\"Zweitwohnungen/Kreis 5/Escher Wyss\",\"Zweitwohnungen/Kreis 7/Fluntern\",\"Zweitwohnungen/Kreis 3/Friesenberg\",\"Zweitwohnungen/Kreis 4/Hard\",\"Zweitwohnungen/Kreis 7/Hirslanden\",\"Zweitwohnungen/Kreis 12/Hirzenbach\",\"Zweitwohnungen/Kreis 7/Hottingen\",\"Zweitwohnungen/Kreis 10/H\\u00f6ngg\",\"Zweitwohnungen/Kreis 4/Langstrasse\",\"Zweitwohnungen/Kreis 2/Leimbach\",\"Zweitwohnungen/Kreis 1/Lindenhof\",\"Zweitwohnungen/Kreis 8/M\\u00fchlebach\",\"Zweitwohnungen/Kreis 6/Oberstrass\",\"Zweitwohnungen/Kreis 11/Oerlikon\",\"Zweitwohnungen/Kreis 1/Rathaus\",\"Zweitwohnungen/Kreis 12/Saatlen\",\"Zweitwohnungen/Kreis 12/Schwamendingen-Mitte\",\"Zweitwohnungen/Kreis 11/Seebach\",\"Zweitwohnungen/Kreis 8/Seefeld\",\"Zweitwohnungen/Kreis 3/Sihlfeld\",\"Zweitwohnungen/Kreis 6/Unterstrass\",\"Zweitwohnungen/Kreis 8/Weinegg\",\"Zweitwohnungen/Kreis 4/Werd\",\"Zweitwohnungen/Kreis 10/Wipkingen\",\"Zweitwohnungen/Kreis 7/Witikon\",\"Zweitwohnungen/Kreis 2/Wollishofen\",\"Zweitwohnungen/Kreis 11/Affoltern\",\"Zweitwohnungen/Kreis 9/Albisrieden\",\"Zweitwohnungen/Kreis 3/Alt-Wiedikon\",\"Zweitwohnungen/Kreis 9/Altstetten\",\"Zweitwohnungen/Kreis 2/Enge\",\"Zweitwohnungen/Kreis 5/Escher Wyss\",\"Zweitwohnungen/Kreis 7/Fluntern\",\"Zweitwohnungen/Kreis 3/Friesenberg\",\"Zweitwohnungen/Kreis 5/Gewerbeschule\",\"Zweitwohnungen/Kreis 4/Hard\",\"Zweitwohnungen/Kreis 7/Hirslanden\",\"Zweitwohnungen/Kreis 12/Hirzenbach\",\"Zweitwohnungen/Kreis 1/Hochschulen\",\"Zweitwohnungen/Kreis 7/Hottingen\",\"Zweitwohnungen/Kreis 10/H\\u00f6ngg\",\"Zweitwohnungen/Kreis 4/Langstrasse\",\"Zweitwohnungen/Kreis 2/Leimbach\",\"Zweitwohnungen/Kreis 1/Lindenhof\",\"Zweitwohnungen/Kreis 8/M\\u00fchlebach\",\"Zweitwohnungen/Kreis 6/Oberstrass\",\"Zweitwohnungen/Kreis 11/Oerlikon\",\"Zweitwohnungen/Kreis 1/Rathaus\",\"Zweitwohnungen/Kreis 12/Saatlen\",\"Zweitwohnungen/Kreis 12/Schwamendingen-Mitte\",\"Zweitwohnungen/Kreis 11/Seebach\",\"Zweitwohnungen/Kreis 8/Seefeld\",\"Zweitwohnungen/Kreis 3/Sihlfeld\",\"Zweitwohnungen/Kreis 6/Unterstrass\",\"Zweitwohnungen/Kreis 8/Weinegg\",\"Zweitwohnungen/Kreis 4/Werd\",\"Zweitwohnungen/Kreis 10/Wipkingen\",\"Zweitwohnungen/Kreis 7/Witikon\",\"Zweitwohnungen/Kreis 2/Wollishofen\",\"Zweitwohnungen/Kreis 11/Affoltern\",\"Zweitwohnungen/Kreis 9/Albisrieden\",\"Zweitwohnungen/Kreis 3/Alt-Wiedikon\",\"Zweitwohnungen/Kreis 9/Altstetten\",\"Zweitwohnungen/Kreis 1/City\",\"Zweitwohnungen/Kreis 2/Enge\",\"Zweitwohnungen/Kreis 5/Escher Wyss\",\"Zweitwohnungen/Kreis 7/Fluntern\",\"Zweitwohnungen/Kreis 3/Friesenberg\",\"Zweitwohnungen/Kreis 5/Gewerbeschule\",\"Zweitwohnungen/Kreis 7/Hirslanden\",\"Zweitwohnungen/Kreis 1/Hochschulen\",\"Zweitwohnungen/Kreis 7/Hottingen\",\"Zweitwohnungen/Kreis 10/H\\u00f6ngg\",\"Zweitwohnungen/Kreis 4/Langstrasse\",\"Zweitwohnungen/Kreis 2/Leimbach\",\"Zweitwohnungen/Kreis 1/Lindenhof\",\"Zweitwohnungen/Kreis 8/M\\u00fchlebach\",\"Zweitwohnungen/Kreis 6/Oberstrass\",\"Zweitwohnungen/Kreis 11/Oerlikon\",\"Zweitwohnungen/Kreis 1/Rathaus\",\"Zweitwohnungen/Kreis 12/Saatlen\",\"Zweitwohnungen/Kreis 12/Schwamendingen-Mitte\",\"Zweitwohnungen/Kreis 11/Seebach\",\"Zweitwohnungen/Kreis 8/Seefeld\",\"Zweitwohnungen/Kreis 3/Sihlfeld\",\"Zweitwohnungen/Kreis 6/Unterstrass\",\"Zweitwohnungen/Kreis 8/Weinegg\",\"Zweitwohnungen/Kreis 4/Werd\",\"Zweitwohnungen/Kreis 10/Wipkingen\",\"Zweitwohnungen/Kreis 7/Witikon\",\"Zweitwohnungen/Kreis 2/Wollishofen\",\"Zweitwohnungen/Kreis 11/Affoltern\",\"Zweitwohnungen/Kreis 9/Albisrieden\",\"Zweitwohnungen/Kreis 3/Alt-Wiedikon\",\"Zweitwohnungen/Kreis 9/Altstetten\",\"Zweitwohnungen/Kreis 2/Enge\",\"Zweitwohnungen/Kreis 5/Escher Wyss\",\"Zweitwohnungen/Kreis 7/Fluntern\",\"Zweitwohnungen/Kreis 3/Friesenberg\",\"Zweitwohnungen/Kreis 5/Gewerbeschule\",\"Zweitwohnungen/Kreis 4/Hard\",\"Zweitwohnungen/Kreis 7/Hirslanden\",\"Zweitwohnungen/Kreis 12/Hirzenbach\",\"Zweitwohnungen/Kreis 7/Hottingen\",\"Zweitwohnungen/Kreis 10/H\\u00f6ngg\",\"Zweitwohnungen/Kreis 4/Langstrasse\",\"Zweitwohnungen/Kreis 2/Leimbach\",\"Zweitwohnungen/Kreis 8/M\\u00fchlebach\",\"Zweitwohnungen/Kreis 6/Oberstrass\",\"Zweitwohnungen/Kreis 11/Oerlikon\",\"Zweitwohnungen/Kreis 1/Rathaus\",\"Zweitwohnungen/Kreis 12/Saatlen\",\"Zweitwohnungen/Kreis 12/Schwamendingen-Mitte\",\"Zweitwohnungen/Kreis 11/Seebach\",\"Zweitwohnungen/Kreis 8/Seefeld\",\"Zweitwohnungen/Kreis 3/Sihlfeld\",\"Zweitwohnungen/Kreis 6/Unterstrass\",\"Zweitwohnungen/Kreis 8/Weinegg\",\"Zweitwohnungen/Kreis 4/Werd\",\"Zweitwohnungen/Kreis 10/Wipkingen\",\"Zweitwohnungen/Kreis 7/Witikon\",\"Zweitwohnungen/Kreis 2/Wollishofen\",\"Zweitwohnungen/Kreis 11/Affoltern\",\"Zweitwohnungen/Kreis 9/Albisrieden\",\"Zweitwohnungen/Kreis 3/Alt-Wiedikon\",\"Zweitwohnungen/Kreis 9/Altstetten\",\"Zweitwohnungen/Kreis 1/City\",\"Zweitwohnungen/Kreis 2/Enge\",\"Zweitwohnungen/Kreis 5/Escher Wyss\",\"Zweitwohnungen/Kreis 7/Fluntern\",\"Zweitwohnungen/Kreis 3/Friesenberg\",\"Zweitwohnungen/Kreis 5/Gewerbeschule\",\"Zweitwohnungen/Kreis 4/Hard\",\"Zweitwohnungen/Kreis 7/Hirslanden\",\"Zweitwohnungen/Kreis 12/Hirzenbach\",\"Zweitwohnungen/Kreis 1/Hochschulen\",\"Zweitwohnungen/Kreis 7/Hottingen\",\"Zweitwohnungen/Kreis 10/H\\u00f6ngg\",\"Zweitwohnungen/Kreis 4/Langstrasse\",\"Zweitwohnungen/Kreis 1/Lindenhof\",\"Zweitwohnungen/Kreis 8/M\\u00fchlebach\",\"Zweitwohnungen/Kreis 6/Oberstrass\",\"Zweitwohnungen/Kreis 11/Oerlikon\",\"Zweitwohnungen/Kreis 1/Rathaus\",\"Zweitwohnungen/Kreis 12/Schwamendingen-Mitte\",\"Zweitwohnungen/Kreis 11/Seebach\",\"Zweitwohnungen/Kreis 8/Seefeld\",\"Zweitwohnungen/Kreis 3/Sihlfeld\",\"Zweitwohnungen/Kreis 6/Unterstrass\",\"Zweitwohnungen/Kreis 8/Weinegg\",\"Zweitwohnungen/Kreis 4/Werd\",\"Zweitwohnungen/Kreis 10/Wipkingen\",\"Zweitwohnungen/Kreis 7/Witikon\",\"Zweitwohnungen/Kreis 2/Wollishofen\",\"Zweitwohnungen/Kreis 11\",\"Zweitwohnungen/Kreis 9\",\"Zweitwohnungen/Kreis 3\",\"Zweitwohnungen/Kreis 9\",\"Zweitwohnungen/Kreis 1\",\"Zweitwohnungen/Kreis 2\",\"Zweitwohnungen/Kreis 5\",\"Zweitwohnungen/Kreis 7\",\"Zweitwohnungen/Kreis 3\",\"Zweitwohnungen/Kreis 5\",\"Zweitwohnungen/Kreis 4\",\"Zweitwohnungen/Kreis 7\",\"Zweitwohnungen/Kreis 12\",\"Zweitwohnungen/Kreis 1\",\"Zweitwohnungen/Kreis 7\",\"Zweitwohnungen/Kreis 10\",\"Zweitwohnungen/Kreis 4\",\"Zweitwohnungen/Kreis 2\",\"Zweitwohnungen/Kreis 1\",\"Zweitwohnungen/Kreis 8\",\"Zweitwohnungen/Kreis 6\",\"Zweitwohnungen/Kreis 11\",\"Zweitwohnungen/Kreis 1\",\"Zweitwohnungen/Kreis 12\",\"Zweitwohnungen/Kreis 12\",\"Zweitwohnungen/Kreis 11\",\"Zweitwohnungen/Kreis 8\",\"Zweitwohnungen/Kreis 3\",\"Zweitwohnungen/Kreis 6\",\"Zweitwohnungen/Kreis 8\",\"Zweitwohnungen/Kreis 4\",\"Zweitwohnungen/Kreis 10\",\"Zweitwohnungen/Kreis 7\",\"Zweitwohnungen/Kreis 2\",\"Zweitwohnungen\",\"Zweitwohnungen\",\"Zweitwohnungen\",\"Zweitwohnungen\",\"Zweitwohnungen\",\"Zweitwohnungen\",\"Zweitwohnungen\",\"Zweitwohnungen\",\"Zweitwohnungen\",\"Zweitwohnungen\",\"Zweitwohnungen\",\"Zweitwohnungen\",\"\"],\"root\":{\"color\":\"lightgrey\"},\"type\":\"treemap\",\"values\":[4,5,55,8,2,18,20,34,25,23,1,49,4,16,1,30,37,20,4,1,86,59,85,66,10,6,38,1,21,23,24,60,65,1,47,2,36,13,13,32,37,1,3,34,29,38,2,1,23,27,59,1,10,18,30,61,54,28,27,48,22,74,20,31,43,36,6,27,2,31,6,20,41,15,36,32,46,5,3,80,22,27,22,7,22,141,65,41,46,13,19,10,19,39,27,43,46,49,28,1,26,41,4,40,14,23,10,43,41,42,18,13,42,25,97,10,4,16,95,20,46,114,10,24,21,63,29,36,6,35,27,7,33,6,39,2,11,4,18,33,36,15,7,4,16,7,19,1,5,8,14,10,13,31,8,4,7,22,26,31,79,250,72,29,120,49,5,13,27,6,11,19,14,39,15,16,11,30,6,3,2,98,11,12,13,14,9,5,17,36,16,13,47,10,51,145,7,17,2,100,33,30,1,23,93,29,207,132,40,46,7,192,6,12,72,51,39,19,76,11,4,10,157,201,536,267,67,327,138,218,69,175,177,155,51,55,307,185,403,48,153,247,175,259,236,19,65,464,267,309,363,102,165,140,148,235,511,325,880,135,610,914,745,313,538,828,616,468,6883]}],                        {\"coloraxis\":{\"colorbar\":{\"title\":{\"text\":\"AnzWhg\"}},\"colorscale\":[[0.0,\"rgb(196, 230, 195)\"],[0.16666666666666666,\"rgb(150, 210, 164)\"],[0.3333333333333333,\"rgb(109, 188, 144)\"],[0.5,\"rgb(77, 162, 132)\"],[0.6666666666666666,\"rgb(54, 135, 122)\"],[0.8333333333333334,\"rgb(38, 107, 110)\"],[1.0,\"rgb(29, 79, 96)\"]]},\"legend\":{\"tracegroupgap\":0},\"margin\":{\"b\":25,\"l\":25,\"r\":250,\"t\":50},\"template\":{\"data\":{\"bar\":[{\"error_x\":{\"color\":\"#2a3f5f\"},\"error_y\":{\"color\":\"#2a3f5f\"},\"marker\":{\"line\":{\"color\":\"#E5ECF6\",\"width\":0.5},\"pattern\":{\"fillmode\":\"overlay\",\"size\":10,\"solidity\":0.2}},\"type\":\"bar\"}],\"barpolar\":[{\"marker\":{\"line\":{\"color\":\"#E5ECF6\",\"width\":0.5},\"pattern\":{\"fillmode\":\"overlay\",\"size\":10,\"solidity\":0.2}},\"type\":\"barpolar\"}],\"carpet\":[{\"aaxis\":{\"endlinecolor\":\"#2a3f5f\",\"gridcolor\":\"white\",\"linecolor\":\"white\",\"minorgridcolor\":\"white\",\"startlinecolor\":\"#2a3f5f\"},\"baxis\":{\"endlinecolor\":\"#2a3f5f\",\"gridcolor\":\"white\",\"linecolor\":\"white\",\"minorgridcolor\":\"white\",\"startlinecolor\":\"#2a3f5f\"},\"type\":\"carpet\"}],\"choropleth\":[{\"colorbar\":{\"outlinewidth\":0,\"ticks\":\"\"},\"type\":\"choropleth\"}],\"contour\":[{\"colorbar\":{\"outlinewidth\":0,\"ticks\":\"\"},\"colorscale\":[[0.0,\"#0d0887\"],[0.1111111111111111,\"#46039f\"],[0.2222222222222222,\"#7201a8\"],[0.3333333333333333,\"#9c179e\"],[0.4444444444444444,\"#bd3786\"],[0.5555555555555556,\"#d8576b\"],[0.6666666666666666,\"#ed7953\"],[0.7777777777777778,\"#fb9f3a\"],[0.8888888888888888,\"#fdca26\"],[1.0,\"#f0f921\"]],\"type\":\"contour\"}],\"contourcarpet\":[{\"colorbar\":{\"outlinewidth\":0,\"ticks\":\"\"},\"type\":\"contourcarpet\"}],\"heatmap\":[{\"colorbar\":{\"outlinewidth\":0,\"ticks\":\"\"},\"colorscale\":[[0.0,\"#0d0887\"],[0.1111111111111111,\"#46039f\"],[0.2222222222222222,\"#7201a8\"],[0.3333333333333333,\"#9c179e\"],[0.4444444444444444,\"#bd3786\"],[0.5555555555555556,\"#d8576b\"],[0.6666666666666666,\"#ed7953\"],[0.7777777777777778,\"#fb9f3a\"],[0.8888888888888888,\"#fdca26\"],[1.0,\"#f0f921\"]],\"type\":\"heatmap\"}],\"heatmapgl\":[{\"colorbar\":{\"outlinewidth\":0,\"ticks\":\"\"},\"colorscale\":[[0.0,\"#0d0887\"],[0.1111111111111111,\"#46039f\"],[0.2222222222222222,\"#7201a8\"],[0.3333333333333333,\"#9c179e\"],[0.4444444444444444,\"#bd3786\"],[0.5555555555555556,\"#d8576b\"],[0.6666666666666666,\"#ed7953\"],[0.7777777777777778,\"#fb9f3a\"],[0.8888888888888888,\"#fdca26\"],[1.0,\"#f0f921\"]],\"type\":\"heatmapgl\"}],\"histogram\":[{\"marker\":{\"pattern\":{\"fillmode\":\"overlay\",\"size\":10,\"solidity\":0.2}},\"type\":\"histogram\"}],\"histogram2d\":[{\"colorbar\":{\"outlinewidth\":0,\"ticks\":\"\"},\"colorscale\":[[0.0,\"#0d0887\"],[0.1111111111111111,\"#46039f\"],[0.2222222222222222,\"#7201a8\"],[0.3333333333333333,\"#9c179e\"],[0.4444444444444444,\"#bd3786\"],[0.5555555555555556,\"#d8576b\"],[0.6666666666666666,\"#ed7953\"],[0.7777777777777778,\"#fb9f3a\"],[0.8888888888888888,\"#fdca26\"],[1.0,\"#f0f921\"]],\"type\":\"histogram2d\"}],\"histogram2dcontour\":[{\"colorbar\":{\"outlinewidth\":0,\"ticks\":\"\"},\"colorscale\":[[0.0,\"#0d0887\"],[0.1111111111111111,\"#46039f\"],[0.2222222222222222,\"#7201a8\"],[0.3333333333333333,\"#9c179e\"],[0.4444444444444444,\"#bd3786\"],[0.5555555555555556,\"#d8576b\"],[0.6666666666666666,\"#ed7953\"],[0.7777777777777778,\"#fb9f3a\"],[0.8888888888888888,\"#fdca26\"],[1.0,\"#f0f921\"]],\"type\":\"histogram2dcontour\"}],\"mesh3d\":[{\"colorbar\":{\"outlinewidth\":0,\"ticks\":\"\"},\"type\":\"mesh3d\"}],\"parcoords\":[{\"line\":{\"colorbar\":{\"outlinewidth\":0,\"ticks\":\"\"}},\"type\":\"parcoords\"}],\"pie\":[{\"automargin\":true,\"type\":\"pie\"}],\"scatter\":[{\"marker\":{\"colorbar\":{\"outlinewidth\":0,\"ticks\":\"\"}},\"type\":\"scatter\"}],\"scatter3d\":[{\"line\":{\"colorbar\":{\"outlinewidth\":0,\"ticks\":\"\"}},\"marker\":{\"colorbar\":{\"outlinewidth\":0,\"ticks\":\"\"}},\"type\":\"scatter3d\"}],\"scattercarpet\":[{\"marker\":{\"colorbar\":{\"outlinewidth\":0,\"ticks\":\"\"}},\"type\":\"scattercarpet\"}],\"scattergeo\":[{\"marker\":{\"colorbar\":{\"outlinewidth\":0,\"ticks\":\"\"}},\"type\":\"scattergeo\"}],\"scattergl\":[{\"marker\":{\"colorbar\":{\"outlinewidth\":0,\"ticks\":\"\"}},\"type\":\"scattergl\"}],\"scattermapbox\":[{\"marker\":{\"colorbar\":{\"outlinewidth\":0,\"ticks\":\"\"}},\"type\":\"scattermapbox\"}],\"scatterpolar\":[{\"marker\":{\"colorbar\":{\"outlinewidth\":0,\"ticks\":\"\"}},\"type\":\"scatterpolar\"}],\"scatterpolargl\":[{\"marker\":{\"colorbar\":{\"outlinewidth\":0,\"ticks\":\"\"}},\"type\":\"scatterpolargl\"}],\"scatterternary\":[{\"marker\":{\"colorbar\":{\"outlinewidth\":0,\"ticks\":\"\"}},\"type\":\"scatterternary\"}],\"surface\":[{\"colorbar\":{\"outlinewidth\":0,\"ticks\":\"\"},\"colorscale\":[[0.0,\"#0d0887\"],[0.1111111111111111,\"#46039f\"],[0.2222222222222222,\"#7201a8\"],[0.3333333333333333,\"#9c179e\"],[0.4444444444444444,\"#bd3786\"],[0.5555555555555556,\"#d8576b\"],[0.6666666666666666,\"#ed7953\"],[0.7777777777777778,\"#fb9f3a\"],[0.8888888888888888,\"#fdca26\"],[1.0,\"#f0f921\"]],\"type\":\"surface\"}],\"table\":[{\"cells\":{\"fill\":{\"color\":\"#EBF0F8\"},\"line\":{\"color\":\"white\"}},\"header\":{\"fill\":{\"color\":\"#C8D4E3\"},\"line\":{\"color\":\"white\"}},\"type\":\"table\"}]},\"layout\":{\"annotationdefaults\":{\"arrowcolor\":\"#2a3f5f\",\"arrowhead\":0,\"arrowwidth\":1},\"autotypenumbers\":\"strict\",\"coloraxis\":{\"colorbar\":{\"outlinewidth\":0,\"ticks\":\"\"}},\"colorscale\":{\"diverging\":[[0,\"#8e0152\"],[0.1,\"#c51b7d\"],[0.2,\"#de77ae\"],[0.3,\"#f1b6da\"],[0.4,\"#fde0ef\"],[0.5,\"#f7f7f7\"],[0.6,\"#e6f5d0\"],[0.7,\"#b8e186\"],[0.8,\"#7fbc41\"],[0.9,\"#4d9221\"],[1,\"#276419\"]],\"sequential\":[[0.0,\"#0d0887\"],[0.1111111111111111,\"#46039f\"],[0.2222222222222222,\"#7201a8\"],[0.3333333333333333,\"#9c179e\"],[0.4444444444444444,\"#bd3786\"],[0.5555555555555556,\"#d8576b\"],[0.6666666666666666,\"#ed7953\"],[0.7777777777777778,\"#fb9f3a\"],[0.8888888888888888,\"#fdca26\"],[1.0,\"#f0f921\"]],\"sequentialminus\":[[0.0,\"#0d0887\"],[0.1111111111111111,\"#46039f\"],[0.2222222222222222,\"#7201a8\"],[0.3333333333333333,\"#9c179e\"],[0.4444444444444444,\"#bd3786\"],[0.5555555555555556,\"#d8576b\"],[0.6666666666666666,\"#ed7953\"],[0.7777777777777778,\"#fb9f3a\"],[0.8888888888888888,\"#fdca26\"],[1.0,\"#f0f921\"]]},\"colorway\":[\"#636efa\",\"#EF553B\",\"#00cc96\",\"#ab63fa\",\"#FFA15A\",\"#19d3f3\",\"#FF6692\",\"#B6E880\",\"#FF97FF\",\"#FECB52\"],\"font\":{\"color\":\"#2a3f5f\"},\"geo\":{\"bgcolor\":\"white\",\"lakecolor\":\"white\",\"landcolor\":\"#E5ECF6\",\"showlakes\":true,\"showland\":true,\"subunitcolor\":\"white\"},\"hoverlabel\":{\"align\":\"left\"},\"hovermode\":\"closest\",\"mapbox\":{\"style\":\"light\"},\"paper_bgcolor\":\"white\",\"plot_bgcolor\":\"#E5ECF6\",\"polar\":{\"angularaxis\":{\"gridcolor\":\"white\",\"linecolor\":\"white\",\"ticks\":\"\"},\"bgcolor\":\"#E5ECF6\",\"radialaxis\":{\"gridcolor\":\"white\",\"linecolor\":\"white\",\"ticks\":\"\"}},\"scene\":{\"xaxis\":{\"backgroundcolor\":\"#E5ECF6\",\"gridcolor\":\"white\",\"gridwidth\":2,\"linecolor\":\"white\",\"showbackground\":true,\"ticks\":\"\",\"zerolinecolor\":\"white\"},\"yaxis\":{\"backgroundcolor\":\"#E5ECF6\",\"gridcolor\":\"white\",\"gridwidth\":2,\"linecolor\":\"white\",\"showbackground\":true,\"ticks\":\"\",\"zerolinecolor\":\"white\"},\"zaxis\":{\"backgroundcolor\":\"#E5ECF6\",\"gridcolor\":\"white\",\"gridwidth\":2,\"linecolor\":\"white\",\"showbackground\":true,\"ticks\":\"\",\"zerolinecolor\":\"white\"}},\"shapedefaults\":{\"line\":{\"color\":\"#2a3f5f\"}},\"ternary\":{\"aaxis\":{\"gridcolor\":\"white\",\"linecolor\":\"white\",\"ticks\":\"\"},\"baxis\":{\"gridcolor\":\"white\",\"linecolor\":\"white\",\"ticks\":\"\"},\"bgcolor\":\"#E5ECF6\",\"caxis\":{\"gridcolor\":\"white\",\"linecolor\":\"white\",\"ticks\":\"\"}},\"title\":{\"x\":0.05},\"xaxis\":{\"automargin\":true,\"gridcolor\":\"white\",\"linecolor\":\"white\",\"ticks\":\"\",\"title\":{\"standoff\":15},\"zerolinecolor\":\"white\",\"zerolinewidth\":2},\"yaxis\":{\"automargin\":true,\"gridcolor\":\"white\",\"linecolor\":\"white\",\"ticks\":\"\",\"title\":{\"standoff\":15},\"zerolinecolor\":\"white\",\"zerolinewidth\":2}}}},                        {\"responsive\": true}                    ).then(function(){\n",
       "                            \n",
       "var gd = document.getElementById('1d7ac9d8-7a86-4223-9faa-15cd391fa717');\n",
       "var x = new MutationObserver(function (mutations, observer) {{\n",
       "        var display = window.getComputedStyle(gd).display;\n",
       "        if (!display || display === 'none') {{\n",
       "            console.log([gd, 'removed!']);\n",
       "            Plotly.purge(gd);\n",
       "            observer.disconnect();\n",
       "        }}\n",
       "}});\n",
       "\n",
       "// Listen for the removal of the full notebook cells\n",
       "var notebookContainer = gd.closest('#notebook-container');\n",
       "if (notebookContainer) {{\n",
       "    x.observe(notebookContainer, {childList: true});\n",
       "}}\n",
       "\n",
       "// Listen for the clearing of the current output cell\n",
       "var outputEl = gd.closest('.output');\n",
       "if (outputEl) {{\n",
       "    x.observe(outputEl, {childList: true});\n",
       "}}\n",
       "\n",
       "                        })                };                });            </script>        </div>"
      ]
     },
     "metadata": {},
     "output_type": "display_data"
    }
   ],
   "source": [
    "import plotly.express as px\n",
    "\n",
    "\n",
    "df = mySelection\n",
    "\n",
    "fig = px.treemap(df, path=[px.Constant(\"Zweitwohnungen\"), 'KreisLang', 'QuarLang', 'BauperiodeLang'], values='AnzWhg',\n",
    "                color='AnzWhg', hover_data=['QuarLang'],\n",
    "                color_continuous_scale='blugrn')\n",
    "                #color_continuous_midpoint=np.average(df['AnzBestWir'], weights=df['AnzBestWir']))\n",
    "fig.update_traces(root_color=\"lightgrey\")\n",
    "fig.update_layout(margin = dict(t=50, l=25, r=250, b=25))\n",
    "fig.show()\n",
    "\n"
   ]
  },
  {
   "cell_type": "code",
   "execution_count": 165,
   "metadata": {},
   "outputs": [
    {
     "data": {
      "application/vnd.plotly.v1+json": {
       "config": {
        "plotlyServerURL": "https://plot.ly"
       },
       "data": [
        {
         "branchvalues": "total",
         "customdata": [
          [
           "Affoltern",
           1.5
          ],
          [
           "Affoltern",
           6.565217391304348
          ],
          [
           "Affoltern",
           4.8
          ],
          [
           "Affoltern",
           6.333333333333333
          ],
          [
           "Affoltern",
           10.88888888888889
          ],
          [
           "Affoltern",
           7.516129032258065
          ],
          [
           "Affoltern",
           5.625
          ],
          [
           "Albisrieden",
           1.4
          ],
          [
           "Albisrieden",
           6
          ],
          [
           "Albisrieden",
           8.419354838709678
          ],
          [
           "Albisrieden",
           7.186046511627907
          ],
          [
           "Albisrieden",
           1.6666666666666667
          ],
          [
           "Albisrieden",
           26.063291139240505
          ],
          [
           "Albisrieden",
           2.5384615384615383
          ],
          [
           "Alt-Wiedikon",
           13.654545454545454
          ],
          [
           "Alt-Wiedikon",
           16.5
          ],
          [
           "Alt-Wiedikon",
           9.093023255813954
          ],
          [
           "Alt-Wiedikon",
           15.043478260869565
          ],
          [
           "Alt-Wiedikon",
           11.285714285714286
          ],
          [
           "Alt-Wiedikon",
           89.368
          ],
          [
           "Alt-Wiedikon",
           12.148936170212766
          ],
          [
           "Altstetten",
           2.5
          ],
          [
           "Altstetten",
           19.676923076923078
          ],
          [
           "Altstetten",
           9.444444444444445
          ],
          [
           "Altstetten",
           11.285714285714286
          ],
          [
           "Altstetten",
           6.703703703703703
          ],
          [
           "Altstetten",
           15.333333333333334
          ],
          [
           "Altstetten",
           2.4
          ],
          [
           "City",
           2
          ],
          [
           "City",
           1
          ],
          [
           "City",
           3.3333333333333335
          ],
          [
           "City",
           2.7142857142857144
          ],
          [
           "City",
           12.372549019607844
          ],
          [
           "Enge",
           3
          ],
          [
           "Enge",
           9.595744680851064
          ],
          [
           "Enge",
           9.37037037037037
          ],
          [
           "Enge",
           8.214285714285714
          ],
          [
           "Enge",
           7.848484848484849
          ],
          [
           "Enge",
           7.275862068965517
          ],
          [
           "Enge",
           22.29655172413793
          ],
          [
           "Escher Wyss",
           1
          ],
          [
           "Escher Wyss",
           1
          ],
          [
           "Escher Wyss",
           1
          ],
          [
           "Escher Wyss",
           2.3333333333333335
          ],
          [
           "Escher Wyss",
           38.333333333333336
          ],
          [
           "Escher Wyss",
           3
          ],
          [
           "Fluntern",
           3.6
          ],
          [
           "Fluntern",
           9.333333333333334
          ],
          [
           "Fluntern",
           5.709677419354839
          ],
          [
           "Fluntern",
           7.538461538461538
          ],
          [
           "Fluntern",
           4.948717948717949
          ],
          [
           "Fluntern",
           10.061224489795919
          ],
          [
           "Fluntern",
           3.9411764705882355
          ],
          [
           "Friesenberg",
           4.846153846153846
          ],
          [
           "Friesenberg",
           3
          ],
          [
           "Friesenberg",
           22.658536585365855
          ],
          [
           "Friesenberg",
           1
          ],
          [
           "Friesenberg",
           2.2
          ],
          [
           "Friesenberg",
           2
          ],
          [
           "Gewerbeschule",
           17.58823529411765
          ],
          [
           "Gewerbeschule",
           2.5384615384615383
          ],
          [
           "Gewerbeschule",
           4
          ],
          [
           "Gewerbeschule",
           2.8181818181818183
          ],
          [
           "Gewerbeschule",
           4.384615384615385
          ],
          [
           "Gewerbeschule",
           25.3
          ],
          [
           "Hard",
           5.32
          ],
          [
           "Hard",
           9.875
          ],
          [
           "Hard",
           9.2
          ],
          [
           "Hard",
           23.35
          ],
          [
           "Hard",
           9.962962962962964
          ],
          [
           "Hard",
           8.93939393939394
          ],
          [
           "Hirslanden",
           4.565217391304348
          ],
          [
           "Hirslanden",
           9.64864864864865
          ],
          [
           "Hirslanden",
           12.707317073170731
          ],
          [
           "Hirslanden",
           4.714285714285714
          ],
          [
           "Hirslanden",
           1.5
          ],
          [
           "Hirslanden",
           2.3333333333333335
          ],
          [
           "Hirslanden",
           7.4
          ],
          [
           "Hirzenbach",
           1
          ],
          [
           "Hirzenbach",
           4.866666666666666
          ],
          [
           "Hirzenbach",
           7.173913043478261
          ],
          [
           "Hirzenbach",
           4.2727272727272725
          ],
          [
           "Hirzenbach",
           1
          ],
          [
           "Hochschulen",
           1
          ],
          [
           "Hochschulen",
           1
          ],
          [
           "Hochschulen",
           8.2
          ],
          [
           "Hochschulen",
           4.111111111111111
          ],
          [
           "Hochschulen",
           3.6956521739130435
          ],
          [
           "Hottingen",
           8.551020408163266
          ],
          [
           "Hottingen",
           7.882352941176471
          ],
          [
           "Hottingen",
           7.555555555555555
          ],
          [
           "Hottingen",
           8.255813953488373
          ],
          [
           "Hottingen",
           7.606060606060606
          ],
          [
           "Hottingen",
           3.9473684210526314
          ],
          [
           "Hottingen",
           16.440860215053764
          ],
          [
           "Höngg",
           1
          ],
          [
           "Höngg",
           8.379310344827585
          ],
          [
           "Höngg",
           7.6875
          ],
          [
           "Höngg",
           9.292682926829269
          ],
          [
           "Höngg",
           11.222222222222221
          ],
          [
           "Höngg",
           5.142857142857143
          ],
          [
           "Höngg",
           6.0344827586206895
          ],
          [
           "Langstrasse",
           5.625
          ],
          [
           "Langstrasse",
           8.736842105263158
          ],
          [
           "Langstrasse",
           11.478260869565217
          ],
          [
           "Langstrasse",
           12.619047619047619
          ],
          [
           "Langstrasse",
           6.2
          ],
          [
           "Langstrasse",
           6.0256410256410255
          ],
          [
           "Langstrasse",
           47.51207729468599
          ],
          [
           "Leimbach",
           1
          ],
          [
           "Leimbach",
           2
          ],
          [
           "Leimbach",
           1.8
          ],
          [
           "Leimbach",
           4.111111111111111
          ],
          [
           "Leimbach",
           3.857142857142857
          ],
          [
           "Leimbach",
           5
          ],
          [
           "Lindenhof",
           1
          ],
          [
           "Lindenhof",
           1.6666666666666667
          ],
          [
           "Lindenhof",
           3.923076923076923
          ],
          [
           "Lindenhof",
           1.5
          ],
          [
           "Lindenhof",
           22.666666666666668
          ],
          [
           "Mühlebach",
           5.333333333333333
          ],
          [
           "Mühlebach",
           6.6521739130434785
          ],
          [
           "Mühlebach",
           14.75
          ],
          [
           "Mühlebach",
           11.523809523809524
          ],
          [
           "Mühlebach",
           4
          ],
          [
           "Mühlebach",
           3.5
          ],
          [
           "Mühlebach",
           7
          ],
          [
           "Oberstrass",
           8.18918918918919
          ],
          [
           "Oberstrass",
           5.074074074074074
          ],
          [
           "Oberstrass",
           5.2727272727272725
          ],
          [
           "Oberstrass",
           6.84
          ],
          [
           "Oberstrass",
           1.5714285714285714
          ],
          [
           "Oberstrass",
           3.1818181818181817
          ],
          [
           "Oberstrass",
           7.521739130434782
          ],
          [
           "Oerlikon",
           3.3
          ],
          [
           "Oerlikon",
           17.372881355932204
          ],
          [
           "Oerlikon",
           6.851851851851852
          ],
          [
           "Oerlikon",
           28.835051546391753
          ],
          [
           "Oerlikon",
           4.578947368421052
          ],
          [
           "Oerlikon",
           5.733333333333333
          ],
          [
           "Oerlikon",
           3
          ],
          [
           "Rathaus",
           2
          ],
          [
           "Rathaus",
           1
          ],
          [
           "Rathaus",
           6.181818181818182
          ],
          [
           "Rathaus",
           4.2
          ],
          [
           "Rathaus",
           1
          ],
          [
           "Rathaus",
           3.3333333333333335
          ],
          [
           "Rathaus",
           39.25
          ],
          [
           "Saatlen",
           2.142857142857143
          ],
          [
           "Saatlen",
           1.5
          ],
          [
           "Saatlen",
           1.8
          ],
          [
           "Saatlen",
           1
          ],
          [
           "Schwamendingen-Mitte",
           1
          ],
          [
           "Schwamendingen-Mitte",
           2.6
          ],
          [
           "Schwamendingen-Mitte",
           6.7272727272727275
          ],
          [
           "Schwamendingen-Mitte",
           7.375
          ],
          [
           "Schwamendingen-Mitte",
           3
          ],
          [
           "Schwamendingen-Mitte",
           1
          ],
          [
           "Schwamendingen-Mitte",
           2.3333333333333335
          ],
          [
           "Seebach",
           48.372093023255815
          ],
          [
           "Seebach",
           5.777777777777778
          ],
          [
           "Seebach",
           52.177304964539005
          ],
          [
           "Seebach",
           21.105263157894736
          ],
          [
           "Seebach",
           3
          ],
          [
           "Seebach",
           25.408163265306122
          ],
          [
           "Seebach",
           3.6666666666666665
          ],
          [
           "Seefeld",
           11.508474576271187
          ],
          [
           "Seefeld",
           7.666666666666667
          ],
          [
           "Seefeld",
           14.323076923076924
          ],
          [
           "Seefeld",
           4.5
          ],
          [
           "Seefeld",
           3
          ],
          [
           "Seefeld",
           4.636363636363637
          ],
          [
           "Seefeld",
           14.472222222222221
          ],
          [
           "Sihlfeld",
           13.611764705882353
          ],
          [
           "Sihlfeld",
           13.262295081967213
          ],
          [
           "Sihlfeld",
           15.878048780487806
          ],
          [
           "Sihlfeld",
           8.347826086956522
          ],
          [
           "Sihlfeld",
           3.6153846153846154
          ],
          [
           "Sihlfeld",
           3.3333333333333335
          ],
          [
           "Sihlfeld",
           9.784313725490197
          ],
          [
           "Unterstrass",
           13.878787878787879
          ],
          [
           "Unterstrass",
           10.962962962962964
          ],
          [
           "Unterstrass",
           8.652173913043478
          ],
          [
           "Unterstrass",
           80.80701754385964
          ],
          [
           "Unterstrass",
           11.64516129032258
          ],
          [
           "Unterstrass",
           3
          ],
          [
           "Unterstrass",
           5.923076923076923
          ],
          [
           "Weinegg",
           2.4
          ],
          [
           "Weinegg",
           6.571428571428571
          ],
          [
           "Weinegg",
           4.384615384615385
          ],
          [
           "Weinegg",
           6.6
          ],
          [
           "Weinegg",
           3.25
          ],
          [
           "Weinegg",
           2.5714285714285716
          ],
          [
           "Weinegg",
           3.210526315789474
          ],
          [
           "Werd",
           3.3333333333333335
          ],
          [
           "Werd",
           6.333333333333333
          ],
          [
           "Werd",
           10.68421052631579
          ],
          [
           "Werd",
           14
          ],
          [
           "Werd",
           2.5
          ],
          [
           "Werd",
           2.111111111111111
          ],
          [
           "Werd",
           17.210526315789473
          ],
          [
           "Wipkingen",
           8.105263157894736
          ],
          [
           "Wipkingen",
           13.541666666666666
          ],
          [
           "Wipkingen",
           2.2
          ],
          [
           "Wipkingen",
           5
          ],
          [
           "Wipkingen",
           2.7142857142857144
          ],
          [
           "Wipkingen",
           1.4
          ],
          [
           "Wipkingen",
           2.8181818181818183
          ],
          [
           "Witikon",
           1
          ],
          [
           "Witikon",
           4.363636363636363
          ],
          [
           "Witikon",
           4.473684210526316
          ],
          [
           "Witikon",
           12.079365079365079
          ],
          [
           "Witikon",
           8.454545454545455
          ],
          [
           "Witikon",
           4.176470588235294
          ],
          [
           "Witikon",
           1.5
          ],
          [
           "Wollishofen",
           4.428571428571429
          ],
          [
           "Wollishofen",
           17.54054054054054
          ],
          [
           "Wollishofen",
           10.64102564102564
          ],
          [
           "Wollishofen",
           6.103448275862069
          ],
          [
           "Wollishofen",
           4.6923076923076925
          ],
          [
           "Wollishofen",
           8.777777777777779
          ],
          [
           "Wollishofen",
           2.6
          ],
          [
           "(?)",
           13.938271604938272
          ],
          [
           "(?)",
           11.08271474019088
          ],
          [
           "(?)",
           15.719424460431656
          ],
          [
           "(?)",
           19.990222222222222
          ],
          [
           "(?)",
           6.658823529411765
          ],
          [
           "(?)",
           33.195856873822976
          ],
          [
           "(?)",
           21.922777417261518
          ],
          [
           "(?)",
           13.938271604938272
          ],
          [
           "(?)",
           11.08271474019088
          ],
          [
           "(?)",
           15.719424460431656
          ],
          [
           "(?)",
           19.990222222222222
          ],
          [
           "(?)",
           6.658823529411765
          ],
          [
           "(?)",
           33.195856873822976
          ],
          [
           "(?)",
           21.922777417261518
          ],
          [
           "(?)",
           19.007554845270956
          ]
         ],
         "domain": {
          "x": [
           0,
           1
          ],
          "y": [
           0,
           1
          ]
         },
         "hovertemplate": "labels=%{label}<br>AnzWhg_sum=%{value}<br>parent=%{parent}<br>id=%{id}<br>QuarLang=%{customdata[0]}<br>AnzWhg=%{color}<extra></extra>",
         "ids": [
          "Zweitwohnungen/1900–191/Zweitwohnung/Affoltern",
          "Zweitwohnungen/1920–193/Zweitwohnung/Affoltern",
          "Zweitwohnungen/1940–195/Zweitwohnung/Affoltern",
          "Zweitwohnungen/1960–197/Zweitwohnung/Affoltern",
          "Zweitwohnungen/1980–199/Zweitwohnung/Affoltern",
          "Zweitwohnungen/ab 2000/Zweitwohnung/Affoltern",
          "Zweitwohnungen/vor 1900/Zweitwohnung/Affoltern",
          "Zweitwohnungen/1900–191/Zweitwohnung/Albisrieden",
          "Zweitwohnungen/1920–193/Zweitwohnung/Albisrieden",
          "Zweitwohnungen/1940–195/Zweitwohnung/Albisrieden",
          "Zweitwohnungen/1960–197/Zweitwohnung/Albisrieden",
          "Zweitwohnungen/1980–199/Zweitwohnung/Albisrieden",
          "Zweitwohnungen/ab 2000/Zweitwohnung/Albisrieden",
          "Zweitwohnungen/vor 1900/Zweitwohnung/Albisrieden",
          "Zweitwohnungen/1900–191/Zweitwohnung/Alt-Wiedikon",
          "Zweitwohnungen/1920–193/Zweitwohnung/Alt-Wiedikon",
          "Zweitwohnungen/1940–195/Zweitwohnung/Alt-Wiedikon",
          "Zweitwohnungen/1960–197/Zweitwohnung/Alt-Wiedikon",
          "Zweitwohnungen/1980–199/Zweitwohnung/Alt-Wiedikon",
          "Zweitwohnungen/ab 2000/Zweitwohnung/Alt-Wiedikon",
          "Zweitwohnungen/vor 1900/Zweitwohnung/Alt-Wiedikon",
          "Zweitwohnungen/1900–191/Zweitwohnung/Altstetten",
          "Zweitwohnungen/1920–193/Zweitwohnung/Altstetten",
          "Zweitwohnungen/1940–195/Zweitwohnung/Altstetten",
          "Zweitwohnungen/1960–197/Zweitwohnung/Altstetten",
          "Zweitwohnungen/1980–199/Zweitwohnung/Altstetten",
          "Zweitwohnungen/ab 2000/Zweitwohnung/Altstetten",
          "Zweitwohnungen/vor 1900/Zweitwohnung/Altstetten",
          "Zweitwohnungen/1900–191/Zweitwohnung/City",
          "Zweitwohnungen/1920–193/Zweitwohnung/City",
          "Zweitwohnungen/1940–195/Zweitwohnung/City",
          "Zweitwohnungen/1980–199/Zweitwohnung/City",
          "Zweitwohnungen/vor 1900/Zweitwohnung/City",
          "Zweitwohnungen/1900–191/Zweitwohnung/Enge",
          "Zweitwohnungen/1920–193/Zweitwohnung/Enge",
          "Zweitwohnungen/1940–195/Zweitwohnung/Enge",
          "Zweitwohnungen/1960–197/Zweitwohnung/Enge",
          "Zweitwohnungen/1980–199/Zweitwohnung/Enge",
          "Zweitwohnungen/ab 2000/Zweitwohnung/Enge",
          "Zweitwohnungen/vor 1900/Zweitwohnung/Enge",
          "Zweitwohnungen/1920–193/Zweitwohnung/Escher Wyss",
          "Zweitwohnungen/1940–195/Zweitwohnung/Escher Wyss",
          "Zweitwohnungen/1960–197/Zweitwohnung/Escher Wyss",
          "Zweitwohnungen/1980–199/Zweitwohnung/Escher Wyss",
          "Zweitwohnungen/ab 2000/Zweitwohnung/Escher Wyss",
          "Zweitwohnungen/vor 1900/Zweitwohnung/Escher Wyss",
          "Zweitwohnungen/1900–191/Zweitwohnung/Fluntern",
          "Zweitwohnungen/1920–193/Zweitwohnung/Fluntern",
          "Zweitwohnungen/1940–195/Zweitwohnung/Fluntern",
          "Zweitwohnungen/1960–197/Zweitwohnung/Fluntern",
          "Zweitwohnungen/1980–199/Zweitwohnung/Fluntern",
          "Zweitwohnungen/ab 2000/Zweitwohnung/Fluntern",
          "Zweitwohnungen/vor 1900/Zweitwohnung/Fluntern",
          "Zweitwohnungen/1920–193/Zweitwohnung/Friesenberg",
          "Zweitwohnungen/1940–195/Zweitwohnung/Friesenberg",
          "Zweitwohnungen/1960–197/Zweitwohnung/Friesenberg",
          "Zweitwohnungen/1980–199/Zweitwohnung/Friesenberg",
          "Zweitwohnungen/ab 2000/Zweitwohnung/Friesenberg",
          "Zweitwohnungen/vor 1900/Zweitwohnung/Friesenberg",
          "Zweitwohnungen/1900–191/Zweitwohnung/Gewerbeschule",
          "Zweitwohnungen/1920–193/Zweitwohnung/Gewerbeschule",
          "Zweitwohnungen/1960–197/Zweitwohnung/Gewerbeschule",
          "Zweitwohnungen/1980–199/Zweitwohnung/Gewerbeschule",
          "Zweitwohnungen/ab 2000/Zweitwohnung/Gewerbeschule",
          "Zweitwohnungen/vor 1900/Zweitwohnung/Gewerbeschule",
          "Zweitwohnungen/1900–191/Zweitwohnung/Hard",
          "Zweitwohnungen/1920–193/Zweitwohnung/Hard",
          "Zweitwohnungen/1940–195/Zweitwohnung/Hard",
          "Zweitwohnungen/1960–197/Zweitwohnung/Hard",
          "Zweitwohnungen/ab 2000/Zweitwohnung/Hard",
          "Zweitwohnungen/vor 1900/Zweitwohnung/Hard",
          "Zweitwohnungen/1900–191/Zweitwohnung/Hirslanden",
          "Zweitwohnungen/1920–193/Zweitwohnung/Hirslanden",
          "Zweitwohnungen/1940–195/Zweitwohnung/Hirslanden",
          "Zweitwohnungen/1960–197/Zweitwohnung/Hirslanden",
          "Zweitwohnungen/1980–199/Zweitwohnung/Hirslanden",
          "Zweitwohnungen/ab 2000/Zweitwohnung/Hirslanden",
          "Zweitwohnungen/vor 1900/Zweitwohnung/Hirslanden",
          "Zweitwohnungen/1920–193/Zweitwohnung/Hirzenbach",
          "Zweitwohnungen/1940–195/Zweitwohnung/Hirzenbach",
          "Zweitwohnungen/1960–197/Zweitwohnung/Hirzenbach",
          "Zweitwohnungen/ab 2000/Zweitwohnung/Hirzenbach",
          "Zweitwohnungen/vor 1900/Zweitwohnung/Hirzenbach",
          "Zweitwohnungen/1900–191/Zweitwohnung/Hochschulen",
          "Zweitwohnungen/1920–193/Zweitwohnung/Hochschulen",
          "Zweitwohnungen/1960–197/Zweitwohnung/Hochschulen",
          "Zweitwohnungen/1980–199/Zweitwohnung/Hochschulen",
          "Zweitwohnungen/vor 1900/Zweitwohnung/Hochschulen",
          "Zweitwohnungen/1900–191/Zweitwohnung/Hottingen",
          "Zweitwohnungen/1920–193/Zweitwohnung/Hottingen",
          "Zweitwohnungen/1940–195/Zweitwohnung/Hottingen",
          "Zweitwohnungen/1960–197/Zweitwohnung/Hottingen",
          "Zweitwohnungen/1980–199/Zweitwohnung/Hottingen",
          "Zweitwohnungen/ab 2000/Zweitwohnung/Hottingen",
          "Zweitwohnungen/vor 1900/Zweitwohnung/Hottingen",
          "Zweitwohnungen/1900–191/Zweitwohnung/Höngg",
          "Zweitwohnungen/1920–193/Zweitwohnung/Höngg",
          "Zweitwohnungen/1940–195/Zweitwohnung/Höngg",
          "Zweitwohnungen/1960–197/Zweitwohnung/Höngg",
          "Zweitwohnungen/1980–199/Zweitwohnung/Höngg",
          "Zweitwohnungen/ab 2000/Zweitwohnung/Höngg",
          "Zweitwohnungen/vor 1900/Zweitwohnung/Höngg",
          "Zweitwohnungen/1900–191/Zweitwohnung/Langstrasse",
          "Zweitwohnungen/1920–193/Zweitwohnung/Langstrasse",
          "Zweitwohnungen/1940–195/Zweitwohnung/Langstrasse",
          "Zweitwohnungen/1960–197/Zweitwohnung/Langstrasse",
          "Zweitwohnungen/1980–199/Zweitwohnung/Langstrasse",
          "Zweitwohnungen/ab 2000/Zweitwohnung/Langstrasse",
          "Zweitwohnungen/vor 1900/Zweitwohnung/Langstrasse",
          "Zweitwohnungen/1900–191/Zweitwohnung/Leimbach",
          "Zweitwohnungen/1920–193/Zweitwohnung/Leimbach",
          "Zweitwohnungen/1940–195/Zweitwohnung/Leimbach",
          "Zweitwohnungen/1960–197/Zweitwohnung/Leimbach",
          "Zweitwohnungen/1980–199/Zweitwohnung/Leimbach",
          "Zweitwohnungen/ab 2000/Zweitwohnung/Leimbach",
          "Zweitwohnungen/1920–193/Zweitwohnung/Lindenhof",
          "Zweitwohnungen/1940–195/Zweitwohnung/Lindenhof",
          "Zweitwohnungen/1960–197/Zweitwohnung/Lindenhof",
          "Zweitwohnungen/1980–199/Zweitwohnung/Lindenhof",
          "Zweitwohnungen/vor 1900/Zweitwohnung/Lindenhof",
          "Zweitwohnungen/1900–191/Zweitwohnung/Mühlebach",
          "Zweitwohnungen/1920–193/Zweitwohnung/Mühlebach",
          "Zweitwohnungen/1940–195/Zweitwohnung/Mühlebach",
          "Zweitwohnungen/1960–197/Zweitwohnung/Mühlebach",
          "Zweitwohnungen/1980–199/Zweitwohnung/Mühlebach",
          "Zweitwohnungen/ab 2000/Zweitwohnung/Mühlebach",
          "Zweitwohnungen/vor 1900/Zweitwohnung/Mühlebach",
          "Zweitwohnungen/1900–191/Zweitwohnung/Oberstrass",
          "Zweitwohnungen/1920–193/Zweitwohnung/Oberstrass",
          "Zweitwohnungen/1940–195/Zweitwohnung/Oberstrass",
          "Zweitwohnungen/1960–197/Zweitwohnung/Oberstrass",
          "Zweitwohnungen/1980–199/Zweitwohnung/Oberstrass",
          "Zweitwohnungen/ab 2000/Zweitwohnung/Oberstrass",
          "Zweitwohnungen/vor 1900/Zweitwohnung/Oberstrass",
          "Zweitwohnungen/1900–191/Zweitwohnung/Oerlikon",
          "Zweitwohnungen/1920–193/Zweitwohnung/Oerlikon",
          "Zweitwohnungen/1940–195/Zweitwohnung/Oerlikon",
          "Zweitwohnungen/1960–197/Zweitwohnung/Oerlikon",
          "Zweitwohnungen/1980–199/Zweitwohnung/Oerlikon",
          "Zweitwohnungen/ab 2000/Zweitwohnung/Oerlikon",
          "Zweitwohnungen/vor 1900/Zweitwohnung/Oerlikon",
          "Zweitwohnungen/1900–191/Zweitwohnung/Rathaus",
          "Zweitwohnungen/1920–193/Zweitwohnung/Rathaus",
          "Zweitwohnungen/1940–195/Zweitwohnung/Rathaus",
          "Zweitwohnungen/1960–197/Zweitwohnung/Rathaus",
          "Zweitwohnungen/1980–199/Zweitwohnung/Rathaus",
          "Zweitwohnungen/ab 2000/Zweitwohnung/Rathaus",
          "Zweitwohnungen/vor 1900/Zweitwohnung/Rathaus",
          "Zweitwohnungen/1940–195/Zweitwohnung/Saatlen",
          "Zweitwohnungen/1960–197/Zweitwohnung/Saatlen",
          "Zweitwohnungen/1980–199/Zweitwohnung/Saatlen",
          "Zweitwohnungen/ab 2000/Zweitwohnung/Saatlen",
          "Zweitwohnungen/1900–191/Zweitwohnung/Schwamendingen-Mitte",
          "Zweitwohnungen/1920–193/Zweitwohnung/Schwamendingen-Mitte",
          "Zweitwohnungen/1940–195/Zweitwohnung/Schwamendingen-Mitte",
          "Zweitwohnungen/1960–197/Zweitwohnung/Schwamendingen-Mitte",
          "Zweitwohnungen/1980–199/Zweitwohnung/Schwamendingen-Mitte",
          "Zweitwohnungen/ab 2000/Zweitwohnung/Schwamendingen-Mitte",
          "Zweitwohnungen/vor 1900/Zweitwohnung/Schwamendingen-Mitte",
          "Zweitwohnungen/1900–191/Zweitwohnung/Seebach",
          "Zweitwohnungen/1920–193/Zweitwohnung/Seebach",
          "Zweitwohnungen/1940–195/Zweitwohnung/Seebach",
          "Zweitwohnungen/1960–197/Zweitwohnung/Seebach",
          "Zweitwohnungen/1980–199/Zweitwohnung/Seebach",
          "Zweitwohnungen/ab 2000/Zweitwohnung/Seebach",
          "Zweitwohnungen/vor 1900/Zweitwohnung/Seebach",
          "Zweitwohnungen/1900–191/Zweitwohnung/Seefeld",
          "Zweitwohnungen/1920–193/Zweitwohnung/Seefeld",
          "Zweitwohnungen/1940–195/Zweitwohnung/Seefeld",
          "Zweitwohnungen/1960–197/Zweitwohnung/Seefeld",
          "Zweitwohnungen/1980–199/Zweitwohnung/Seefeld",
          "Zweitwohnungen/ab 2000/Zweitwohnung/Seefeld",
          "Zweitwohnungen/vor 1900/Zweitwohnung/Seefeld",
          "Zweitwohnungen/1900–191/Zweitwohnung/Sihlfeld",
          "Zweitwohnungen/1920–193/Zweitwohnung/Sihlfeld",
          "Zweitwohnungen/1940–195/Zweitwohnung/Sihlfeld",
          "Zweitwohnungen/1960–197/Zweitwohnung/Sihlfeld",
          "Zweitwohnungen/1980–199/Zweitwohnung/Sihlfeld",
          "Zweitwohnungen/ab 2000/Zweitwohnung/Sihlfeld",
          "Zweitwohnungen/vor 1900/Zweitwohnung/Sihlfeld",
          "Zweitwohnungen/1900–191/Zweitwohnung/Unterstrass",
          "Zweitwohnungen/1920–193/Zweitwohnung/Unterstrass",
          "Zweitwohnungen/1940–195/Zweitwohnung/Unterstrass",
          "Zweitwohnungen/1960–197/Zweitwohnung/Unterstrass",
          "Zweitwohnungen/1980–199/Zweitwohnung/Unterstrass",
          "Zweitwohnungen/ab 2000/Zweitwohnung/Unterstrass",
          "Zweitwohnungen/vor 1900/Zweitwohnung/Unterstrass",
          "Zweitwohnungen/1900–191/Zweitwohnung/Weinegg",
          "Zweitwohnungen/1920–193/Zweitwohnung/Weinegg",
          "Zweitwohnungen/1940–195/Zweitwohnung/Weinegg",
          "Zweitwohnungen/1960–197/Zweitwohnung/Weinegg",
          "Zweitwohnungen/1980–199/Zweitwohnung/Weinegg",
          "Zweitwohnungen/ab 2000/Zweitwohnung/Weinegg",
          "Zweitwohnungen/vor 1900/Zweitwohnung/Weinegg",
          "Zweitwohnungen/1900–191/Zweitwohnung/Werd",
          "Zweitwohnungen/1920–193/Zweitwohnung/Werd",
          "Zweitwohnungen/1940–195/Zweitwohnung/Werd",
          "Zweitwohnungen/1960–197/Zweitwohnung/Werd",
          "Zweitwohnungen/1980–199/Zweitwohnung/Werd",
          "Zweitwohnungen/ab 2000/Zweitwohnung/Werd",
          "Zweitwohnungen/vor 1900/Zweitwohnung/Werd",
          "Zweitwohnungen/1900–191/Zweitwohnung/Wipkingen",
          "Zweitwohnungen/1920–193/Zweitwohnung/Wipkingen",
          "Zweitwohnungen/1940–195/Zweitwohnung/Wipkingen",
          "Zweitwohnungen/1960–197/Zweitwohnung/Wipkingen",
          "Zweitwohnungen/1980–199/Zweitwohnung/Wipkingen",
          "Zweitwohnungen/ab 2000/Zweitwohnung/Wipkingen",
          "Zweitwohnungen/vor 1900/Zweitwohnung/Wipkingen",
          "Zweitwohnungen/1900–191/Zweitwohnung/Witikon",
          "Zweitwohnungen/1920–193/Zweitwohnung/Witikon",
          "Zweitwohnungen/1940–195/Zweitwohnung/Witikon",
          "Zweitwohnungen/1960–197/Zweitwohnung/Witikon",
          "Zweitwohnungen/1980–199/Zweitwohnung/Witikon",
          "Zweitwohnungen/ab 2000/Zweitwohnung/Witikon",
          "Zweitwohnungen/vor 1900/Zweitwohnung/Witikon",
          "Zweitwohnungen/1900–191/Zweitwohnung/Wollishofen",
          "Zweitwohnungen/1920–193/Zweitwohnung/Wollishofen",
          "Zweitwohnungen/1940–195/Zweitwohnung/Wollishofen",
          "Zweitwohnungen/1960–197/Zweitwohnung/Wollishofen",
          "Zweitwohnungen/1980–199/Zweitwohnung/Wollishofen",
          "Zweitwohnungen/ab 2000/Zweitwohnung/Wollishofen",
          "Zweitwohnungen/vor 1900/Zweitwohnung/Wollishofen",
          "Zweitwohnungen/1900–191/Zweitwohnung",
          "Zweitwohnungen/1920–193/Zweitwohnung",
          "Zweitwohnungen/1940–195/Zweitwohnung",
          "Zweitwohnungen/1960–197/Zweitwohnung",
          "Zweitwohnungen/1980–199/Zweitwohnung",
          "Zweitwohnungen/ab 2000/Zweitwohnung",
          "Zweitwohnungen/vor 1900/Zweitwohnung",
          "Zweitwohnungen/1900–191",
          "Zweitwohnungen/1920–193",
          "Zweitwohnungen/1940–195",
          "Zweitwohnungen/1960–197",
          "Zweitwohnungen/1980–199",
          "Zweitwohnungen/ab 2000",
          "Zweitwohnungen/vor 1900",
          "Zweitwohnungen"
         ],
         "labels": [
          "Affoltern",
          "Affoltern",
          "Affoltern",
          "Affoltern",
          "Affoltern",
          "Affoltern",
          "Affoltern",
          "Albisrieden",
          "Albisrieden",
          "Albisrieden",
          "Albisrieden",
          "Albisrieden",
          "Albisrieden",
          "Albisrieden",
          "Alt-Wiedikon",
          "Alt-Wiedikon",
          "Alt-Wiedikon",
          "Alt-Wiedikon",
          "Alt-Wiedikon",
          "Alt-Wiedikon",
          "Alt-Wiedikon",
          "Altstetten",
          "Altstetten",
          "Altstetten",
          "Altstetten",
          "Altstetten",
          "Altstetten",
          "Altstetten",
          "City",
          "City",
          "City",
          "City",
          "City",
          "Enge",
          "Enge",
          "Enge",
          "Enge",
          "Enge",
          "Enge",
          "Enge",
          "Escher Wyss",
          "Escher Wyss",
          "Escher Wyss",
          "Escher Wyss",
          "Escher Wyss",
          "Escher Wyss",
          "Fluntern",
          "Fluntern",
          "Fluntern",
          "Fluntern",
          "Fluntern",
          "Fluntern",
          "Fluntern",
          "Friesenberg",
          "Friesenberg",
          "Friesenberg",
          "Friesenberg",
          "Friesenberg",
          "Friesenberg",
          "Gewerbeschule",
          "Gewerbeschule",
          "Gewerbeschule",
          "Gewerbeschule",
          "Gewerbeschule",
          "Gewerbeschule",
          "Hard",
          "Hard",
          "Hard",
          "Hard",
          "Hard",
          "Hard",
          "Hirslanden",
          "Hirslanden",
          "Hirslanden",
          "Hirslanden",
          "Hirslanden",
          "Hirslanden",
          "Hirslanden",
          "Hirzenbach",
          "Hirzenbach",
          "Hirzenbach",
          "Hirzenbach",
          "Hirzenbach",
          "Hochschulen",
          "Hochschulen",
          "Hochschulen",
          "Hochschulen",
          "Hochschulen",
          "Hottingen",
          "Hottingen",
          "Hottingen",
          "Hottingen",
          "Hottingen",
          "Hottingen",
          "Hottingen",
          "Höngg",
          "Höngg",
          "Höngg",
          "Höngg",
          "Höngg",
          "Höngg",
          "Höngg",
          "Langstrasse",
          "Langstrasse",
          "Langstrasse",
          "Langstrasse",
          "Langstrasse",
          "Langstrasse",
          "Langstrasse",
          "Leimbach",
          "Leimbach",
          "Leimbach",
          "Leimbach",
          "Leimbach",
          "Leimbach",
          "Lindenhof",
          "Lindenhof",
          "Lindenhof",
          "Lindenhof",
          "Lindenhof",
          "Mühlebach",
          "Mühlebach",
          "Mühlebach",
          "Mühlebach",
          "Mühlebach",
          "Mühlebach",
          "Mühlebach",
          "Oberstrass",
          "Oberstrass",
          "Oberstrass",
          "Oberstrass",
          "Oberstrass",
          "Oberstrass",
          "Oberstrass",
          "Oerlikon",
          "Oerlikon",
          "Oerlikon",
          "Oerlikon",
          "Oerlikon",
          "Oerlikon",
          "Oerlikon",
          "Rathaus",
          "Rathaus",
          "Rathaus",
          "Rathaus",
          "Rathaus",
          "Rathaus",
          "Rathaus",
          "Saatlen",
          "Saatlen",
          "Saatlen",
          "Saatlen",
          "Schwamendingen-Mitte",
          "Schwamendingen-Mitte",
          "Schwamendingen-Mitte",
          "Schwamendingen-Mitte",
          "Schwamendingen-Mitte",
          "Schwamendingen-Mitte",
          "Schwamendingen-Mitte",
          "Seebach",
          "Seebach",
          "Seebach",
          "Seebach",
          "Seebach",
          "Seebach",
          "Seebach",
          "Seefeld",
          "Seefeld",
          "Seefeld",
          "Seefeld",
          "Seefeld",
          "Seefeld",
          "Seefeld",
          "Sihlfeld",
          "Sihlfeld",
          "Sihlfeld",
          "Sihlfeld",
          "Sihlfeld",
          "Sihlfeld",
          "Sihlfeld",
          "Unterstrass",
          "Unterstrass",
          "Unterstrass",
          "Unterstrass",
          "Unterstrass",
          "Unterstrass",
          "Unterstrass",
          "Weinegg",
          "Weinegg",
          "Weinegg",
          "Weinegg",
          "Weinegg",
          "Weinegg",
          "Weinegg",
          "Werd",
          "Werd",
          "Werd",
          "Werd",
          "Werd",
          "Werd",
          "Werd",
          "Wipkingen",
          "Wipkingen",
          "Wipkingen",
          "Wipkingen",
          "Wipkingen",
          "Wipkingen",
          "Wipkingen",
          "Witikon",
          "Witikon",
          "Witikon",
          "Witikon",
          "Witikon",
          "Witikon",
          "Witikon",
          "Wollishofen",
          "Wollishofen",
          "Wollishofen",
          "Wollishofen",
          "Wollishofen",
          "Wollishofen",
          "Wollishofen",
          "Zweitwohnung",
          "Zweitwohnung",
          "Zweitwohnung",
          "Zweitwohnung",
          "Zweitwohnung",
          "Zweitwohnung",
          "Zweitwohnung",
          "1900–191",
          "1920–193",
          "1940–195",
          "1960–197",
          "1980–199",
          "ab 2000",
          "vor 1900",
          "Zweitwohnungen"
         ],
         "level": "Zweitwohnungen",
         "marker": {
          "coloraxis": "coloraxis",
          "colors": [
           1.5,
           6.565217391304348,
           4.8,
           6.333333333333333,
           10.88888888888889,
           7.516129032258065,
           5.625,
           1.4,
           6,
           8.419354838709678,
           7.186046511627907,
           1.6666666666666667,
           26.063291139240505,
           2.5384615384615383,
           13.654545454545454,
           16.5,
           9.093023255813954,
           15.043478260869565,
           11.285714285714286,
           89.368,
           12.148936170212766,
           2.5,
           19.676923076923078,
           9.444444444444445,
           11.285714285714286,
           6.703703703703703,
           15.333333333333334,
           2.4,
           2,
           1,
           3.3333333333333335,
           2.7142857142857144,
           12.372549019607844,
           3,
           9.595744680851064,
           9.37037037037037,
           8.214285714285714,
           7.848484848484849,
           7.275862068965517,
           22.29655172413793,
           1,
           1,
           1,
           2.3333333333333335,
           38.333333333333336,
           3,
           3.6,
           9.333333333333334,
           5.709677419354839,
           7.538461538461538,
           4.948717948717949,
           10.061224489795919,
           3.9411764705882355,
           4.846153846153846,
           3,
           22.658536585365855,
           1,
           2.2,
           2,
           17.58823529411765,
           2.5384615384615383,
           4,
           2.8181818181818183,
           4.384615384615385,
           25.3,
           5.32,
           9.875,
           9.2,
           23.35,
           9.962962962962964,
           8.93939393939394,
           4.565217391304348,
           9.64864864864865,
           12.707317073170731,
           4.714285714285714,
           1.5,
           2.3333333333333335,
           7.4,
           1,
           4.866666666666666,
           7.173913043478261,
           4.2727272727272725,
           1,
           1,
           1,
           8.2,
           4.111111111111111,
           3.6956521739130435,
           8.551020408163266,
           7.882352941176471,
           7.555555555555555,
           8.255813953488373,
           7.606060606060606,
           3.9473684210526314,
           16.440860215053764,
           1,
           8.379310344827585,
           7.6875,
           9.292682926829269,
           11.222222222222221,
           5.142857142857143,
           6.0344827586206895,
           5.625,
           8.736842105263158,
           11.478260869565217,
           12.619047619047619,
           6.2,
           6.0256410256410255,
           47.51207729468599,
           1,
           2,
           1.8,
           4.111111111111111,
           3.857142857142857,
           5,
           1,
           1.6666666666666667,
           3.923076923076923,
           1.5,
           22.666666666666668,
           5.333333333333333,
           6.6521739130434785,
           14.75,
           11.523809523809524,
           4,
           3.5,
           7,
           8.18918918918919,
           5.074074074074074,
           5.2727272727272725,
           6.84,
           1.5714285714285714,
           3.1818181818181817,
           7.521739130434782,
           3.3,
           17.372881355932204,
           6.851851851851852,
           28.835051546391753,
           4.578947368421052,
           5.733333333333333,
           3,
           2,
           1,
           6.181818181818182,
           4.2,
           1,
           3.3333333333333335,
           39.25,
           2.142857142857143,
           1.5,
           1.8,
           1,
           1,
           2.6,
           6.7272727272727275,
           7.375,
           3,
           1,
           2.3333333333333335,
           48.372093023255815,
           5.777777777777778,
           52.177304964539005,
           21.105263157894736,
           3,
           25.408163265306122,
           3.6666666666666665,
           11.508474576271187,
           7.666666666666667,
           14.323076923076924,
           4.5,
           3,
           4.636363636363637,
           14.472222222222221,
           13.611764705882353,
           13.262295081967213,
           15.878048780487806,
           8.347826086956522,
           3.6153846153846154,
           3.3333333333333335,
           9.784313725490197,
           13.878787878787879,
           10.962962962962964,
           8.652173913043478,
           80.80701754385964,
           11.64516129032258,
           3,
           5.923076923076923,
           2.4,
           6.571428571428571,
           4.384615384615385,
           6.6,
           3.25,
           2.5714285714285716,
           3.210526315789474,
           3.3333333333333335,
           6.333333333333333,
           10.68421052631579,
           14,
           2.5,
           2.111111111111111,
           17.210526315789473,
           8.105263157894736,
           13.541666666666666,
           2.2,
           5,
           2.7142857142857144,
           1.4,
           2.8181818181818183,
           1,
           4.363636363636363,
           4.473684210526316,
           12.079365079365079,
           8.454545454545455,
           4.176470588235294,
           1.5,
           4.428571428571429,
           17.54054054054054,
           10.64102564102564,
           6.103448275862069,
           4.6923076923076925,
           8.777777777777779,
           2.6,
           13.938271604938272,
           11.08271474019088,
           15.719424460431656,
           19.990222222222222,
           6.658823529411765,
           33.195856873822976,
           21.922777417261518,
           13.938271604938272,
           11.08271474019088,
           15.719424460431656,
           19.990222222222222,
           6.658823529411765,
           33.195856873822976,
           21.922777417261518,
           19.007554845270956
          ]
         },
         "name": "",
         "parents": [
          "Zweitwohnungen/1900–191/Zweitwohnung",
          "Zweitwohnungen/1920–193/Zweitwohnung",
          "Zweitwohnungen/1940–195/Zweitwohnung",
          "Zweitwohnungen/1960–197/Zweitwohnung",
          "Zweitwohnungen/1980–199/Zweitwohnung",
          "Zweitwohnungen/ab 2000/Zweitwohnung",
          "Zweitwohnungen/vor 1900/Zweitwohnung",
          "Zweitwohnungen/1900–191/Zweitwohnung",
          "Zweitwohnungen/1920–193/Zweitwohnung",
          "Zweitwohnungen/1940–195/Zweitwohnung",
          "Zweitwohnungen/1960–197/Zweitwohnung",
          "Zweitwohnungen/1980–199/Zweitwohnung",
          "Zweitwohnungen/ab 2000/Zweitwohnung",
          "Zweitwohnungen/vor 1900/Zweitwohnung",
          "Zweitwohnungen/1900–191/Zweitwohnung",
          "Zweitwohnungen/1920–193/Zweitwohnung",
          "Zweitwohnungen/1940–195/Zweitwohnung",
          "Zweitwohnungen/1960–197/Zweitwohnung",
          "Zweitwohnungen/1980–199/Zweitwohnung",
          "Zweitwohnungen/ab 2000/Zweitwohnung",
          "Zweitwohnungen/vor 1900/Zweitwohnung",
          "Zweitwohnungen/1900–191/Zweitwohnung",
          "Zweitwohnungen/1920–193/Zweitwohnung",
          "Zweitwohnungen/1940–195/Zweitwohnung",
          "Zweitwohnungen/1960–197/Zweitwohnung",
          "Zweitwohnungen/1980–199/Zweitwohnung",
          "Zweitwohnungen/ab 2000/Zweitwohnung",
          "Zweitwohnungen/vor 1900/Zweitwohnung",
          "Zweitwohnungen/1900–191/Zweitwohnung",
          "Zweitwohnungen/1920–193/Zweitwohnung",
          "Zweitwohnungen/1940–195/Zweitwohnung",
          "Zweitwohnungen/1980–199/Zweitwohnung",
          "Zweitwohnungen/vor 1900/Zweitwohnung",
          "Zweitwohnungen/1900–191/Zweitwohnung",
          "Zweitwohnungen/1920–193/Zweitwohnung",
          "Zweitwohnungen/1940–195/Zweitwohnung",
          "Zweitwohnungen/1960–197/Zweitwohnung",
          "Zweitwohnungen/1980–199/Zweitwohnung",
          "Zweitwohnungen/ab 2000/Zweitwohnung",
          "Zweitwohnungen/vor 1900/Zweitwohnung",
          "Zweitwohnungen/1920–193/Zweitwohnung",
          "Zweitwohnungen/1940–195/Zweitwohnung",
          "Zweitwohnungen/1960–197/Zweitwohnung",
          "Zweitwohnungen/1980–199/Zweitwohnung",
          "Zweitwohnungen/ab 2000/Zweitwohnung",
          "Zweitwohnungen/vor 1900/Zweitwohnung",
          "Zweitwohnungen/1900–191/Zweitwohnung",
          "Zweitwohnungen/1920–193/Zweitwohnung",
          "Zweitwohnungen/1940–195/Zweitwohnung",
          "Zweitwohnungen/1960–197/Zweitwohnung",
          "Zweitwohnungen/1980–199/Zweitwohnung",
          "Zweitwohnungen/ab 2000/Zweitwohnung",
          "Zweitwohnungen/vor 1900/Zweitwohnung",
          "Zweitwohnungen/1920–193/Zweitwohnung",
          "Zweitwohnungen/1940–195/Zweitwohnung",
          "Zweitwohnungen/1960–197/Zweitwohnung",
          "Zweitwohnungen/1980–199/Zweitwohnung",
          "Zweitwohnungen/ab 2000/Zweitwohnung",
          "Zweitwohnungen/vor 1900/Zweitwohnung",
          "Zweitwohnungen/1900–191/Zweitwohnung",
          "Zweitwohnungen/1920–193/Zweitwohnung",
          "Zweitwohnungen/1960–197/Zweitwohnung",
          "Zweitwohnungen/1980–199/Zweitwohnung",
          "Zweitwohnungen/ab 2000/Zweitwohnung",
          "Zweitwohnungen/vor 1900/Zweitwohnung",
          "Zweitwohnungen/1900–191/Zweitwohnung",
          "Zweitwohnungen/1920–193/Zweitwohnung",
          "Zweitwohnungen/1940–195/Zweitwohnung",
          "Zweitwohnungen/1960–197/Zweitwohnung",
          "Zweitwohnungen/ab 2000/Zweitwohnung",
          "Zweitwohnungen/vor 1900/Zweitwohnung",
          "Zweitwohnungen/1900–191/Zweitwohnung",
          "Zweitwohnungen/1920–193/Zweitwohnung",
          "Zweitwohnungen/1940–195/Zweitwohnung",
          "Zweitwohnungen/1960–197/Zweitwohnung",
          "Zweitwohnungen/1980–199/Zweitwohnung",
          "Zweitwohnungen/ab 2000/Zweitwohnung",
          "Zweitwohnungen/vor 1900/Zweitwohnung",
          "Zweitwohnungen/1920–193/Zweitwohnung",
          "Zweitwohnungen/1940–195/Zweitwohnung",
          "Zweitwohnungen/1960–197/Zweitwohnung",
          "Zweitwohnungen/ab 2000/Zweitwohnung",
          "Zweitwohnungen/vor 1900/Zweitwohnung",
          "Zweitwohnungen/1900–191/Zweitwohnung",
          "Zweitwohnungen/1920–193/Zweitwohnung",
          "Zweitwohnungen/1960–197/Zweitwohnung",
          "Zweitwohnungen/1980–199/Zweitwohnung",
          "Zweitwohnungen/vor 1900/Zweitwohnung",
          "Zweitwohnungen/1900–191/Zweitwohnung",
          "Zweitwohnungen/1920–193/Zweitwohnung",
          "Zweitwohnungen/1940–195/Zweitwohnung",
          "Zweitwohnungen/1960–197/Zweitwohnung",
          "Zweitwohnungen/1980–199/Zweitwohnung",
          "Zweitwohnungen/ab 2000/Zweitwohnung",
          "Zweitwohnungen/vor 1900/Zweitwohnung",
          "Zweitwohnungen/1900–191/Zweitwohnung",
          "Zweitwohnungen/1920–193/Zweitwohnung",
          "Zweitwohnungen/1940–195/Zweitwohnung",
          "Zweitwohnungen/1960–197/Zweitwohnung",
          "Zweitwohnungen/1980–199/Zweitwohnung",
          "Zweitwohnungen/ab 2000/Zweitwohnung",
          "Zweitwohnungen/vor 1900/Zweitwohnung",
          "Zweitwohnungen/1900–191/Zweitwohnung",
          "Zweitwohnungen/1920–193/Zweitwohnung",
          "Zweitwohnungen/1940–195/Zweitwohnung",
          "Zweitwohnungen/1960–197/Zweitwohnung",
          "Zweitwohnungen/1980–199/Zweitwohnung",
          "Zweitwohnungen/ab 2000/Zweitwohnung",
          "Zweitwohnungen/vor 1900/Zweitwohnung",
          "Zweitwohnungen/1900–191/Zweitwohnung",
          "Zweitwohnungen/1920–193/Zweitwohnung",
          "Zweitwohnungen/1940–195/Zweitwohnung",
          "Zweitwohnungen/1960–197/Zweitwohnung",
          "Zweitwohnungen/1980–199/Zweitwohnung",
          "Zweitwohnungen/ab 2000/Zweitwohnung",
          "Zweitwohnungen/1920–193/Zweitwohnung",
          "Zweitwohnungen/1940–195/Zweitwohnung",
          "Zweitwohnungen/1960–197/Zweitwohnung",
          "Zweitwohnungen/1980–199/Zweitwohnung",
          "Zweitwohnungen/vor 1900/Zweitwohnung",
          "Zweitwohnungen/1900–191/Zweitwohnung",
          "Zweitwohnungen/1920–193/Zweitwohnung",
          "Zweitwohnungen/1940–195/Zweitwohnung",
          "Zweitwohnungen/1960–197/Zweitwohnung",
          "Zweitwohnungen/1980–199/Zweitwohnung",
          "Zweitwohnungen/ab 2000/Zweitwohnung",
          "Zweitwohnungen/vor 1900/Zweitwohnung",
          "Zweitwohnungen/1900–191/Zweitwohnung",
          "Zweitwohnungen/1920–193/Zweitwohnung",
          "Zweitwohnungen/1940–195/Zweitwohnung",
          "Zweitwohnungen/1960–197/Zweitwohnung",
          "Zweitwohnungen/1980–199/Zweitwohnung",
          "Zweitwohnungen/ab 2000/Zweitwohnung",
          "Zweitwohnungen/vor 1900/Zweitwohnung",
          "Zweitwohnungen/1900–191/Zweitwohnung",
          "Zweitwohnungen/1920–193/Zweitwohnung",
          "Zweitwohnungen/1940–195/Zweitwohnung",
          "Zweitwohnungen/1960–197/Zweitwohnung",
          "Zweitwohnungen/1980–199/Zweitwohnung",
          "Zweitwohnungen/ab 2000/Zweitwohnung",
          "Zweitwohnungen/vor 1900/Zweitwohnung",
          "Zweitwohnungen/1900–191/Zweitwohnung",
          "Zweitwohnungen/1920–193/Zweitwohnung",
          "Zweitwohnungen/1940–195/Zweitwohnung",
          "Zweitwohnungen/1960–197/Zweitwohnung",
          "Zweitwohnungen/1980–199/Zweitwohnung",
          "Zweitwohnungen/ab 2000/Zweitwohnung",
          "Zweitwohnungen/vor 1900/Zweitwohnung",
          "Zweitwohnungen/1940–195/Zweitwohnung",
          "Zweitwohnungen/1960–197/Zweitwohnung",
          "Zweitwohnungen/1980–199/Zweitwohnung",
          "Zweitwohnungen/ab 2000/Zweitwohnung",
          "Zweitwohnungen/1900–191/Zweitwohnung",
          "Zweitwohnungen/1920–193/Zweitwohnung",
          "Zweitwohnungen/1940–195/Zweitwohnung",
          "Zweitwohnungen/1960–197/Zweitwohnung",
          "Zweitwohnungen/1980–199/Zweitwohnung",
          "Zweitwohnungen/ab 2000/Zweitwohnung",
          "Zweitwohnungen/vor 1900/Zweitwohnung",
          "Zweitwohnungen/1900–191/Zweitwohnung",
          "Zweitwohnungen/1920–193/Zweitwohnung",
          "Zweitwohnungen/1940–195/Zweitwohnung",
          "Zweitwohnungen/1960–197/Zweitwohnung",
          "Zweitwohnungen/1980–199/Zweitwohnung",
          "Zweitwohnungen/ab 2000/Zweitwohnung",
          "Zweitwohnungen/vor 1900/Zweitwohnung",
          "Zweitwohnungen/1900–191/Zweitwohnung",
          "Zweitwohnungen/1920–193/Zweitwohnung",
          "Zweitwohnungen/1940–195/Zweitwohnung",
          "Zweitwohnungen/1960–197/Zweitwohnung",
          "Zweitwohnungen/1980–199/Zweitwohnung",
          "Zweitwohnungen/ab 2000/Zweitwohnung",
          "Zweitwohnungen/vor 1900/Zweitwohnung",
          "Zweitwohnungen/1900–191/Zweitwohnung",
          "Zweitwohnungen/1920–193/Zweitwohnung",
          "Zweitwohnungen/1940–195/Zweitwohnung",
          "Zweitwohnungen/1960–197/Zweitwohnung",
          "Zweitwohnungen/1980–199/Zweitwohnung",
          "Zweitwohnungen/ab 2000/Zweitwohnung",
          "Zweitwohnungen/vor 1900/Zweitwohnung",
          "Zweitwohnungen/1900–191/Zweitwohnung",
          "Zweitwohnungen/1920–193/Zweitwohnung",
          "Zweitwohnungen/1940–195/Zweitwohnung",
          "Zweitwohnungen/1960–197/Zweitwohnung",
          "Zweitwohnungen/1980–199/Zweitwohnung",
          "Zweitwohnungen/ab 2000/Zweitwohnung",
          "Zweitwohnungen/vor 1900/Zweitwohnung",
          "Zweitwohnungen/1900–191/Zweitwohnung",
          "Zweitwohnungen/1920–193/Zweitwohnung",
          "Zweitwohnungen/1940–195/Zweitwohnung",
          "Zweitwohnungen/1960–197/Zweitwohnung",
          "Zweitwohnungen/1980–199/Zweitwohnung",
          "Zweitwohnungen/ab 2000/Zweitwohnung",
          "Zweitwohnungen/vor 1900/Zweitwohnung",
          "Zweitwohnungen/1900–191/Zweitwohnung",
          "Zweitwohnungen/1920–193/Zweitwohnung",
          "Zweitwohnungen/1940–195/Zweitwohnung",
          "Zweitwohnungen/1960–197/Zweitwohnung",
          "Zweitwohnungen/1980–199/Zweitwohnung",
          "Zweitwohnungen/ab 2000/Zweitwohnung",
          "Zweitwohnungen/vor 1900/Zweitwohnung",
          "Zweitwohnungen/1900–191/Zweitwohnung",
          "Zweitwohnungen/1920–193/Zweitwohnung",
          "Zweitwohnungen/1940–195/Zweitwohnung",
          "Zweitwohnungen/1960–197/Zweitwohnung",
          "Zweitwohnungen/1980–199/Zweitwohnung",
          "Zweitwohnungen/ab 2000/Zweitwohnung",
          "Zweitwohnungen/vor 1900/Zweitwohnung",
          "Zweitwohnungen/1900–191/Zweitwohnung",
          "Zweitwohnungen/1920–193/Zweitwohnung",
          "Zweitwohnungen/1940–195/Zweitwohnung",
          "Zweitwohnungen/1960–197/Zweitwohnung",
          "Zweitwohnungen/1980–199/Zweitwohnung",
          "Zweitwohnungen/ab 2000/Zweitwohnung",
          "Zweitwohnungen/vor 1900/Zweitwohnung",
          "Zweitwohnungen/1900–191/Zweitwohnung",
          "Zweitwohnungen/1920–193/Zweitwohnung",
          "Zweitwohnungen/1940–195/Zweitwohnung",
          "Zweitwohnungen/1960–197/Zweitwohnung",
          "Zweitwohnungen/1980–199/Zweitwohnung",
          "Zweitwohnungen/ab 2000/Zweitwohnung",
          "Zweitwohnungen/vor 1900/Zweitwohnung",
          "Zweitwohnungen/1900–191",
          "Zweitwohnungen/1920–193",
          "Zweitwohnungen/1940–195",
          "Zweitwohnungen/1960–197",
          "Zweitwohnungen/1980–199",
          "Zweitwohnungen/ab 2000",
          "Zweitwohnungen/vor 1900",
          "Zweitwohnungen",
          "Zweitwohnungen",
          "Zweitwohnungen",
          "Zweitwohnungen",
          "Zweitwohnungen",
          "Zweitwohnungen",
          "Zweitwohnungen",
          ""
         ],
         "root": {
          "color": "lightgrey"
         },
         "type": "treemap",
         "values": [
          4,
          23,
          20,
          27,
          36,
          31,
          16,
          5,
          24,
          31,
          43,
          6,
          79,
          13,
          55,
          60,
          43,
          46,
          35,
          250,
          47,
          8,
          65,
          36,
          49,
          27,
          72,
          10,
          2,
          1,
          6,
          7,
          51,
          18,
          47,
          27,
          28,
          33,
          29,
          145,
          2,
          2,
          1,
          6,
          120,
          7,
          20,
          36,
          31,
          26,
          39,
          49,
          17,
          13,
          6,
          41,
          2,
          5,
          2,
          34,
          13,
          4,
          11,
          13,
          100,
          25,
          32,
          20,
          40,
          27,
          33,
          23,
          37,
          41,
          14,
          4,
          6,
          30,
          1,
          15,
          23,
          11,
          1,
          1,
          3,
          10,
          18,
          23,
          49,
          34,
          36,
          43,
          33,
          19,
          93,
          4,
          29,
          32,
          41,
          36,
          14,
          29,
          16,
          38,
          46,
          42,
          15,
          39,
          207,
          1,
          2,
          5,
          18,
          7,
          15,
          1,
          3,
          13,
          4,
          132,
          30,
          23,
          80,
          42,
          16,
          16,
          40,
          37,
          27,
          22,
          25,
          7,
          11,
          46,
          20,
          59,
          27,
          97,
          19,
          30,
          7,
          4,
          1,
          22,
          10,
          1,
          6,
          192,
          7,
          4,
          5,
          3,
          1,
          10,
          22,
          16,
          8,
          2,
          6,
          86,
          18,
          141,
          95,
          14,
          98,
          12,
          59,
          30,
          65,
          20,
          10,
          11,
          72,
          85,
          61,
          41,
          46,
          13,
          12,
          51,
          66,
          54,
          46,
          114,
          31,
          13,
          39,
          10,
          28,
          13,
          10,
          8,
          14,
          19,
          6,
          27,
          19,
          24,
          4,
          9,
          76,
          38,
          48,
          10,
          21,
          7,
          5,
          11,
          1,
          22,
          19,
          63,
          22,
          17,
          4,
          21,
          74,
          39,
          29,
          26,
          36,
          10,
          729,
          943,
          973,
          1125,
          510,
          1062,
          1541,
          729,
          943,
          973,
          1125,
          510,
          1062,
          1541,
          6883
         ]
        }
       ],
       "layout": {
        "autosize": true,
        "coloraxis": {
         "colorbar": {
          "title": {
           "text": "AnzWhg"
          }
         },
         "colorscale": [
          [
           0,
           "rgb(247,251,255)"
          ],
          [
           0.125,
           "rgb(222,235,247)"
          ],
          [
           0.25,
           "rgb(198,219,239)"
          ],
          [
           0.375,
           "rgb(158,202,225)"
          ],
          [
           0.5,
           "rgb(107,174,214)"
          ],
          [
           0.625,
           "rgb(66,146,198)"
          ],
          [
           0.75,
           "rgb(33,113,181)"
          ],
          [
           0.875,
           "rgb(8,81,156)"
          ],
          [
           1,
           "rgb(8,48,107)"
          ]
         ]
        },
        "legend": {
         "tracegroupgap": 0
        },
        "margin": {
         "b": 25,
         "l": 25,
         "r": 250,
         "t": 50
        },
        "template": {
         "data": {
          "bar": [
           {
            "error_x": {
             "color": "#2a3f5f"
            },
            "error_y": {
             "color": "#2a3f5f"
            },
            "marker": {
             "line": {
              "color": "#E5ECF6",
              "width": 0.5
             },
             "pattern": {
              "fillmode": "overlay",
              "size": 10,
              "solidity": 0.2
             }
            },
            "type": "bar"
           }
          ],
          "barpolar": [
           {
            "marker": {
             "line": {
              "color": "#E5ECF6",
              "width": 0.5
             },
             "pattern": {
              "fillmode": "overlay",
              "size": 10,
              "solidity": 0.2
             }
            },
            "type": "barpolar"
           }
          ],
          "carpet": [
           {
            "aaxis": {
             "endlinecolor": "#2a3f5f",
             "gridcolor": "white",
             "linecolor": "white",
             "minorgridcolor": "white",
             "startlinecolor": "#2a3f5f"
            },
            "baxis": {
             "endlinecolor": "#2a3f5f",
             "gridcolor": "white",
             "linecolor": "white",
             "minorgridcolor": "white",
             "startlinecolor": "#2a3f5f"
            },
            "type": "carpet"
           }
          ],
          "choropleth": [
           {
            "colorbar": {
             "outlinewidth": 0,
             "ticks": ""
            },
            "type": "choropleth"
           }
          ],
          "contour": [
           {
            "colorbar": {
             "outlinewidth": 0,
             "ticks": ""
            },
            "colorscale": [
             [
              0,
              "#0d0887"
             ],
             [
              0.1111111111111111,
              "#46039f"
             ],
             [
              0.2222222222222222,
              "#7201a8"
             ],
             [
              0.3333333333333333,
              "#9c179e"
             ],
             [
              0.4444444444444444,
              "#bd3786"
             ],
             [
              0.5555555555555556,
              "#d8576b"
             ],
             [
              0.6666666666666666,
              "#ed7953"
             ],
             [
              0.7777777777777778,
              "#fb9f3a"
             ],
             [
              0.8888888888888888,
              "#fdca26"
             ],
             [
              1,
              "#f0f921"
             ]
            ],
            "type": "contour"
           }
          ],
          "contourcarpet": [
           {
            "colorbar": {
             "outlinewidth": 0,
             "ticks": ""
            },
            "type": "contourcarpet"
           }
          ],
          "heatmap": [
           {
            "colorbar": {
             "outlinewidth": 0,
             "ticks": ""
            },
            "colorscale": [
             [
              0,
              "#0d0887"
             ],
             [
              0.1111111111111111,
              "#46039f"
             ],
             [
              0.2222222222222222,
              "#7201a8"
             ],
             [
              0.3333333333333333,
              "#9c179e"
             ],
             [
              0.4444444444444444,
              "#bd3786"
             ],
             [
              0.5555555555555556,
              "#d8576b"
             ],
             [
              0.6666666666666666,
              "#ed7953"
             ],
             [
              0.7777777777777778,
              "#fb9f3a"
             ],
             [
              0.8888888888888888,
              "#fdca26"
             ],
             [
              1,
              "#f0f921"
             ]
            ],
            "type": "heatmap"
           }
          ],
          "heatmapgl": [
           {
            "colorbar": {
             "outlinewidth": 0,
             "ticks": ""
            },
            "colorscale": [
             [
              0,
              "#0d0887"
             ],
             [
              0.1111111111111111,
              "#46039f"
             ],
             [
              0.2222222222222222,
              "#7201a8"
             ],
             [
              0.3333333333333333,
              "#9c179e"
             ],
             [
              0.4444444444444444,
              "#bd3786"
             ],
             [
              0.5555555555555556,
              "#d8576b"
             ],
             [
              0.6666666666666666,
              "#ed7953"
             ],
             [
              0.7777777777777778,
              "#fb9f3a"
             ],
             [
              0.8888888888888888,
              "#fdca26"
             ],
             [
              1,
              "#f0f921"
             ]
            ],
            "type": "heatmapgl"
           }
          ],
          "histogram": [
           {
            "marker": {
             "pattern": {
              "fillmode": "overlay",
              "size": 10,
              "solidity": 0.2
             }
            },
            "type": "histogram"
           }
          ],
          "histogram2d": [
           {
            "colorbar": {
             "outlinewidth": 0,
             "ticks": ""
            },
            "colorscale": [
             [
              0,
              "#0d0887"
             ],
             [
              0.1111111111111111,
              "#46039f"
             ],
             [
              0.2222222222222222,
              "#7201a8"
             ],
             [
              0.3333333333333333,
              "#9c179e"
             ],
             [
              0.4444444444444444,
              "#bd3786"
             ],
             [
              0.5555555555555556,
              "#d8576b"
             ],
             [
              0.6666666666666666,
              "#ed7953"
             ],
             [
              0.7777777777777778,
              "#fb9f3a"
             ],
             [
              0.8888888888888888,
              "#fdca26"
             ],
             [
              1,
              "#f0f921"
             ]
            ],
            "type": "histogram2d"
           }
          ],
          "histogram2dcontour": [
           {
            "colorbar": {
             "outlinewidth": 0,
             "ticks": ""
            },
            "colorscale": [
             [
              0,
              "#0d0887"
             ],
             [
              0.1111111111111111,
              "#46039f"
             ],
             [
              0.2222222222222222,
              "#7201a8"
             ],
             [
              0.3333333333333333,
              "#9c179e"
             ],
             [
              0.4444444444444444,
              "#bd3786"
             ],
             [
              0.5555555555555556,
              "#d8576b"
             ],
             [
              0.6666666666666666,
              "#ed7953"
             ],
             [
              0.7777777777777778,
              "#fb9f3a"
             ],
             [
              0.8888888888888888,
              "#fdca26"
             ],
             [
              1,
              "#f0f921"
             ]
            ],
            "type": "histogram2dcontour"
           }
          ],
          "mesh3d": [
           {
            "colorbar": {
             "outlinewidth": 0,
             "ticks": ""
            },
            "type": "mesh3d"
           }
          ],
          "parcoords": [
           {
            "line": {
             "colorbar": {
              "outlinewidth": 0,
              "ticks": ""
             }
            },
            "type": "parcoords"
           }
          ],
          "pie": [
           {
            "automargin": true,
            "type": "pie"
           }
          ],
          "scatter": [
           {
            "marker": {
             "colorbar": {
              "outlinewidth": 0,
              "ticks": ""
             }
            },
            "type": "scatter"
           }
          ],
          "scatter3d": [
           {
            "line": {
             "colorbar": {
              "outlinewidth": 0,
              "ticks": ""
             }
            },
            "marker": {
             "colorbar": {
              "outlinewidth": 0,
              "ticks": ""
             }
            },
            "type": "scatter3d"
           }
          ],
          "scattercarpet": [
           {
            "marker": {
             "colorbar": {
              "outlinewidth": 0,
              "ticks": ""
             }
            },
            "type": "scattercarpet"
           }
          ],
          "scattergeo": [
           {
            "marker": {
             "colorbar": {
              "outlinewidth": 0,
              "ticks": ""
             }
            },
            "type": "scattergeo"
           }
          ],
          "scattergl": [
           {
            "marker": {
             "colorbar": {
              "outlinewidth": 0,
              "ticks": ""
             }
            },
            "type": "scattergl"
           }
          ],
          "scattermapbox": [
           {
            "marker": {
             "colorbar": {
              "outlinewidth": 0,
              "ticks": ""
             }
            },
            "type": "scattermapbox"
           }
          ],
          "scatterpolar": [
           {
            "marker": {
             "colorbar": {
              "outlinewidth": 0,
              "ticks": ""
             }
            },
            "type": "scatterpolar"
           }
          ],
          "scatterpolargl": [
           {
            "marker": {
             "colorbar": {
              "outlinewidth": 0,
              "ticks": ""
             }
            },
            "type": "scatterpolargl"
           }
          ],
          "scatterternary": [
           {
            "marker": {
             "colorbar": {
              "outlinewidth": 0,
              "ticks": ""
             }
            },
            "type": "scatterternary"
           }
          ],
          "surface": [
           {
            "colorbar": {
             "outlinewidth": 0,
             "ticks": ""
            },
            "colorscale": [
             [
              0,
              "#0d0887"
             ],
             [
              0.1111111111111111,
              "#46039f"
             ],
             [
              0.2222222222222222,
              "#7201a8"
             ],
             [
              0.3333333333333333,
              "#9c179e"
             ],
             [
              0.4444444444444444,
              "#bd3786"
             ],
             [
              0.5555555555555556,
              "#d8576b"
             ],
             [
              0.6666666666666666,
              "#ed7953"
             ],
             [
              0.7777777777777778,
              "#fb9f3a"
             ],
             [
              0.8888888888888888,
              "#fdca26"
             ],
             [
              1,
              "#f0f921"
             ]
            ],
            "type": "surface"
           }
          ],
          "table": [
           {
            "cells": {
             "fill": {
              "color": "#EBF0F8"
             },
             "line": {
              "color": "white"
             }
            },
            "header": {
             "fill": {
              "color": "#C8D4E3"
             },
             "line": {
              "color": "white"
             }
            },
            "type": "table"
           }
          ]
         },
         "layout": {
          "annotationdefaults": {
           "arrowcolor": "#2a3f5f",
           "arrowhead": 0,
           "arrowwidth": 1
          },
          "autotypenumbers": "strict",
          "coloraxis": {
           "colorbar": {
            "outlinewidth": 0,
            "ticks": ""
           }
          },
          "colorscale": {
           "diverging": [
            [
             0,
             "#8e0152"
            ],
            [
             0.1,
             "#c51b7d"
            ],
            [
             0.2,
             "#de77ae"
            ],
            [
             0.3,
             "#f1b6da"
            ],
            [
             0.4,
             "#fde0ef"
            ],
            [
             0.5,
             "#f7f7f7"
            ],
            [
             0.6,
             "#e6f5d0"
            ],
            [
             0.7,
             "#b8e186"
            ],
            [
             0.8,
             "#7fbc41"
            ],
            [
             0.9,
             "#4d9221"
            ],
            [
             1,
             "#276419"
            ]
           ],
           "sequential": [
            [
             0,
             "#0d0887"
            ],
            [
             0.1111111111111111,
             "#46039f"
            ],
            [
             0.2222222222222222,
             "#7201a8"
            ],
            [
             0.3333333333333333,
             "#9c179e"
            ],
            [
             0.4444444444444444,
             "#bd3786"
            ],
            [
             0.5555555555555556,
             "#d8576b"
            ],
            [
             0.6666666666666666,
             "#ed7953"
            ],
            [
             0.7777777777777778,
             "#fb9f3a"
            ],
            [
             0.8888888888888888,
             "#fdca26"
            ],
            [
             1,
             "#f0f921"
            ]
           ],
           "sequentialminus": [
            [
             0,
             "#0d0887"
            ],
            [
             0.1111111111111111,
             "#46039f"
            ],
            [
             0.2222222222222222,
             "#7201a8"
            ],
            [
             0.3333333333333333,
             "#9c179e"
            ],
            [
             0.4444444444444444,
             "#bd3786"
            ],
            [
             0.5555555555555556,
             "#d8576b"
            ],
            [
             0.6666666666666666,
             "#ed7953"
            ],
            [
             0.7777777777777778,
             "#fb9f3a"
            ],
            [
             0.8888888888888888,
             "#fdca26"
            ],
            [
             1,
             "#f0f921"
            ]
           ]
          },
          "colorway": [
           "#636efa",
           "#EF553B",
           "#00cc96",
           "#ab63fa",
           "#FFA15A",
           "#19d3f3",
           "#FF6692",
           "#B6E880",
           "#FF97FF",
           "#FECB52"
          ],
          "font": {
           "color": "#2a3f5f"
          },
          "geo": {
           "bgcolor": "white",
           "lakecolor": "white",
           "landcolor": "#E5ECF6",
           "showlakes": true,
           "showland": true,
           "subunitcolor": "white"
          },
          "hoverlabel": {
           "align": "left"
          },
          "hovermode": "closest",
          "mapbox": {
           "style": "light"
          },
          "paper_bgcolor": "white",
          "plot_bgcolor": "#E5ECF6",
          "polar": {
           "angularaxis": {
            "gridcolor": "white",
            "linecolor": "white",
            "ticks": ""
           },
           "bgcolor": "#E5ECF6",
           "radialaxis": {
            "gridcolor": "white",
            "linecolor": "white",
            "ticks": ""
           }
          },
          "scene": {
           "xaxis": {
            "backgroundcolor": "#E5ECF6",
            "gridcolor": "white",
            "gridwidth": 2,
            "linecolor": "white",
            "showbackground": true,
            "ticks": "",
            "zerolinecolor": "white"
           },
           "yaxis": {
            "backgroundcolor": "#E5ECF6",
            "gridcolor": "white",
            "gridwidth": 2,
            "linecolor": "white",
            "showbackground": true,
            "ticks": "",
            "zerolinecolor": "white"
           },
           "zaxis": {
            "backgroundcolor": "#E5ECF6",
            "gridcolor": "white",
            "gridwidth": 2,
            "linecolor": "white",
            "showbackground": true,
            "ticks": "",
            "zerolinecolor": "white"
           }
          },
          "shapedefaults": {
           "line": {
            "color": "#2a3f5f"
           }
          },
          "ternary": {
           "aaxis": {
            "gridcolor": "white",
            "linecolor": "white",
            "ticks": ""
           },
           "baxis": {
            "gridcolor": "white",
            "linecolor": "white",
            "ticks": ""
           },
           "bgcolor": "#E5ECF6",
           "caxis": {
            "gridcolor": "white",
            "linecolor": "white",
            "ticks": ""
           }
          },
          "title": {
           "x": 0.05
          },
          "xaxis": {
           "automargin": true,
           "gridcolor": "white",
           "linecolor": "white",
           "ticks": "",
           "title": {
            "standoff": 15
           },
           "zerolinecolor": "white",
           "zerolinewidth": 2
          },
          "yaxis": {
           "automargin": true,
           "gridcolor": "white",
           "linecolor": "white",
           "ticks": "",
           "title": {
            "standoff": 15
           },
           "zerolinecolor": "white",
           "zerolinewidth": 2
          }
         }
        }
       }
      },
      "image/png": "[encoded data removed]",
      "text/html": [
       "<div>                            <div id=\"9714892d-a503-4a2a-a674-94566dd7b422\" class=\"plotly-graph-div\" style=\"height:525px; width:100%;\"></div>            <script type=\"text/javascript\">                require([\"plotly\"], function(Plotly) {                    window.PLOTLYENV=window.PLOTLYENV || {};                                    if (document.getElementById(\"9714892d-a503-4a2a-a674-94566dd7b422\")) {                    Plotly.newPlot(                        \"9714892d-a503-4a2a-a674-94566dd7b422\",                        [{\"branchvalues\":\"total\",\"customdata\":[[\"Affoltern\",1.5],[\"Affoltern\",6.565217391304348],[\"Affoltern\",4.8],[\"Affoltern\",6.333333333333333],[\"Affoltern\",10.88888888888889],[\"Affoltern\",7.516129032258065],[\"Affoltern\",5.625],[\"Albisrieden\",1.4],[\"Albisrieden\",6.0],[\"Albisrieden\",8.419354838709678],[\"Albisrieden\",7.186046511627907],[\"Albisrieden\",1.6666666666666667],[\"Albisrieden\",26.063291139240505],[\"Albisrieden\",2.5384615384615383],[\"Alt-Wiedikon\",13.654545454545454],[\"Alt-Wiedikon\",16.5],[\"Alt-Wiedikon\",9.093023255813954],[\"Alt-Wiedikon\",15.043478260869565],[\"Alt-Wiedikon\",11.285714285714286],[\"Alt-Wiedikon\",89.368],[\"Alt-Wiedikon\",12.148936170212766],[\"Altstetten\",2.5],[\"Altstetten\",19.676923076923078],[\"Altstetten\",9.444444444444445],[\"Altstetten\",11.285714285714286],[\"Altstetten\",6.703703703703703],[\"Altstetten\",15.333333333333334],[\"Altstetten\",2.4],[\"City\",2.0],[\"City\",1.0],[\"City\",3.3333333333333335],[\"City\",2.7142857142857144],[\"City\",12.372549019607844],[\"Enge\",3.0],[\"Enge\",9.595744680851064],[\"Enge\",9.37037037037037],[\"Enge\",8.214285714285714],[\"Enge\",7.848484848484849],[\"Enge\",7.275862068965517],[\"Enge\",22.29655172413793],[\"Escher Wyss\",1.0],[\"Escher Wyss\",1.0],[\"Escher Wyss\",1.0],[\"Escher Wyss\",2.3333333333333335],[\"Escher Wyss\",38.333333333333336],[\"Escher Wyss\",3.0],[\"Fluntern\",3.6],[\"Fluntern\",9.333333333333334],[\"Fluntern\",5.709677419354839],[\"Fluntern\",7.538461538461538],[\"Fluntern\",4.948717948717949],[\"Fluntern\",10.061224489795919],[\"Fluntern\",3.9411764705882355],[\"Friesenberg\",4.846153846153846],[\"Friesenberg\",3.0],[\"Friesenberg\",22.658536585365855],[\"Friesenberg\",1.0],[\"Friesenberg\",2.2],[\"Friesenberg\",2.0],[\"Gewerbeschule\",17.58823529411765],[\"Gewerbeschule\",2.5384615384615383],[\"Gewerbeschule\",4.0],[\"Gewerbeschule\",2.8181818181818183],[\"Gewerbeschule\",4.384615384615385],[\"Gewerbeschule\",25.3],[\"Hard\",5.32],[\"Hard\",9.875],[\"Hard\",9.2],[\"Hard\",23.35],[\"Hard\",9.962962962962964],[\"Hard\",8.93939393939394],[\"Hirslanden\",4.565217391304348],[\"Hirslanden\",9.64864864864865],[\"Hirslanden\",12.707317073170731],[\"Hirslanden\",4.714285714285714],[\"Hirslanden\",1.5],[\"Hirslanden\",2.3333333333333335],[\"Hirslanden\",7.4],[\"Hirzenbach\",1.0],[\"Hirzenbach\",4.866666666666666],[\"Hirzenbach\",7.173913043478261],[\"Hirzenbach\",4.2727272727272725],[\"Hirzenbach\",1.0],[\"Hochschulen\",1.0],[\"Hochschulen\",1.0],[\"Hochschulen\",8.2],[\"Hochschulen\",4.111111111111111],[\"Hochschulen\",3.6956521739130435],[\"Hottingen\",8.551020408163266],[\"Hottingen\",7.882352941176471],[\"Hottingen\",7.555555555555555],[\"Hottingen\",8.255813953488373],[\"Hottingen\",7.606060606060606],[\"Hottingen\",3.9473684210526314],[\"Hottingen\",16.440860215053764],[\"H\\u00f6ngg\",1.0],[\"H\\u00f6ngg\",8.379310344827585],[\"H\\u00f6ngg\",7.6875],[\"H\\u00f6ngg\",9.292682926829269],[\"H\\u00f6ngg\",11.222222222222221],[\"H\\u00f6ngg\",5.142857142857143],[\"H\\u00f6ngg\",6.0344827586206895],[\"Langstrasse\",5.625],[\"Langstrasse\",8.736842105263158],[\"Langstrasse\",11.478260869565217],[\"Langstrasse\",12.619047619047619],[\"Langstrasse\",6.2],[\"Langstrasse\",6.0256410256410255],[\"Langstrasse\",47.51207729468599],[\"Leimbach\",1.0],[\"Leimbach\",2.0],[\"Leimbach\",1.8],[\"Leimbach\",4.111111111111111],[\"Leimbach\",3.857142857142857],[\"Leimbach\",5.0],[\"Lindenhof\",1.0],[\"Lindenhof\",1.6666666666666667],[\"Lindenhof\",3.923076923076923],[\"Lindenhof\",1.5],[\"Lindenhof\",22.666666666666668],[\"M\\u00fchlebach\",5.333333333333333],[\"M\\u00fchlebach\",6.6521739130434785],[\"M\\u00fchlebach\",14.75],[\"M\\u00fchlebach\",11.523809523809524],[\"M\\u00fchlebach\",4.0],[\"M\\u00fchlebach\",3.5],[\"M\\u00fchlebach\",7.0],[\"Oberstrass\",8.18918918918919],[\"Oberstrass\",5.074074074074074],[\"Oberstrass\",5.2727272727272725],[\"Oberstrass\",6.84],[\"Oberstrass\",1.5714285714285714],[\"Oberstrass\",3.1818181818181817],[\"Oberstrass\",7.521739130434782],[\"Oerlikon\",3.3],[\"Oerlikon\",17.372881355932204],[\"Oerlikon\",6.851851851851852],[\"Oerlikon\",28.835051546391753],[\"Oerlikon\",4.578947368421052],[\"Oerlikon\",5.733333333333333],[\"Oerlikon\",3.0],[\"Rathaus\",2.0],[\"Rathaus\",1.0],[\"Rathaus\",6.181818181818182],[\"Rathaus\",4.2],[\"Rathaus\",1.0],[\"Rathaus\",3.3333333333333335],[\"Rathaus\",39.25],[\"Saatlen\",2.142857142857143],[\"Saatlen\",1.5],[\"Saatlen\",1.8],[\"Saatlen\",1.0],[\"Schwamendingen-Mitte\",1.0],[\"Schwamendingen-Mitte\",2.6],[\"Schwamendingen-Mitte\",6.7272727272727275],[\"Schwamendingen-Mitte\",7.375],[\"Schwamendingen-Mitte\",3.0],[\"Schwamendingen-Mitte\",1.0],[\"Schwamendingen-Mitte\",2.3333333333333335],[\"Seebach\",48.372093023255815],[\"Seebach\",5.777777777777778],[\"Seebach\",52.177304964539005],[\"Seebach\",21.105263157894736],[\"Seebach\",3.0],[\"Seebach\",25.408163265306122],[\"Seebach\",3.6666666666666665],[\"Seefeld\",11.508474576271187],[\"Seefeld\",7.666666666666667],[\"Seefeld\",14.323076923076924],[\"Seefeld\",4.5],[\"Seefeld\",3.0],[\"Seefeld\",4.636363636363637],[\"Seefeld\",14.472222222222221],[\"Sihlfeld\",13.611764705882353],[\"Sihlfeld\",13.262295081967213],[\"Sihlfeld\",15.878048780487806],[\"Sihlfeld\",8.347826086956522],[\"Sihlfeld\",3.6153846153846154],[\"Sihlfeld\",3.3333333333333335],[\"Sihlfeld\",9.784313725490197],[\"Unterstrass\",13.878787878787879],[\"Unterstrass\",10.962962962962964],[\"Unterstrass\",8.652173913043478],[\"Unterstrass\",80.80701754385964],[\"Unterstrass\",11.64516129032258],[\"Unterstrass\",3.0],[\"Unterstrass\",5.923076923076923],[\"Weinegg\",2.4],[\"Weinegg\",6.571428571428571],[\"Weinegg\",4.384615384615385],[\"Weinegg\",6.6],[\"Weinegg\",3.25],[\"Weinegg\",2.5714285714285716],[\"Weinegg\",3.210526315789474],[\"Werd\",3.3333333333333335],[\"Werd\",6.333333333333333],[\"Werd\",10.68421052631579],[\"Werd\",14.0],[\"Werd\",2.5],[\"Werd\",2.111111111111111],[\"Werd\",17.210526315789473],[\"Wipkingen\",8.105263157894736],[\"Wipkingen\",13.541666666666666],[\"Wipkingen\",2.2],[\"Wipkingen\",5.0],[\"Wipkingen\",2.7142857142857144],[\"Wipkingen\",1.4],[\"Wipkingen\",2.8181818181818183],[\"Witikon\",1.0],[\"Witikon\",4.363636363636363],[\"Witikon\",4.473684210526316],[\"Witikon\",12.079365079365079],[\"Witikon\",8.454545454545455],[\"Witikon\",4.176470588235294],[\"Witikon\",1.5],[\"Wollishofen\",4.428571428571429],[\"Wollishofen\",17.54054054054054],[\"Wollishofen\",10.64102564102564],[\"Wollishofen\",6.103448275862069],[\"Wollishofen\",4.6923076923076925],[\"Wollishofen\",8.777777777777779],[\"Wollishofen\",2.6],[\"(?)\",13.938271604938272],[\"(?)\",11.08271474019088],[\"(?)\",15.719424460431656],[\"(?)\",19.990222222222222],[\"(?)\",6.658823529411765],[\"(?)\",33.195856873822976],[\"(?)\",21.922777417261518],[\"(?)\",13.938271604938272],[\"(?)\",11.08271474019088],[\"(?)\",15.719424460431656],[\"(?)\",19.990222222222222],[\"(?)\",6.658823529411765],[\"(?)\",33.195856873822976],[\"(?)\",21.922777417261518],[\"(?)\",19.007554845270956]],\"domain\":{\"x\":[0.0,1.0],\"y\":[0.0,1.0]},\"hovertemplate\":\"labels=%{label}<br>AnzWhg_sum=%{value}<br>parent=%{parent}<br>id=%{id}<br>QuarLang=%{customdata[0]}<br>AnzWhg=%{color}<extra></extra>\",\"ids\":[\"Zweitwohnungen/1900\\u2013191/Zweitwohnung/Affoltern\",\"Zweitwohnungen/1920\\u2013193/Zweitwohnung/Affoltern\",\"Zweitwohnungen/1940\\u2013195/Zweitwohnung/Affoltern\",\"Zweitwohnungen/1960\\u2013197/Zweitwohnung/Affoltern\",\"Zweitwohnungen/1980\\u2013199/Zweitwohnung/Affoltern\",\"Zweitwohnungen/ab 2000/Zweitwohnung/Affoltern\",\"Zweitwohnungen/vor 1900/Zweitwohnung/Affoltern\",\"Zweitwohnungen/1900\\u2013191/Zweitwohnung/Albisrieden\",\"Zweitwohnungen/1920\\u2013193/Zweitwohnung/Albisrieden\",\"Zweitwohnungen/1940\\u2013195/Zweitwohnung/Albisrieden\",\"Zweitwohnungen/1960\\u2013197/Zweitwohnung/Albisrieden\",\"Zweitwohnungen/1980\\u2013199/Zweitwohnung/Albisrieden\",\"Zweitwohnungen/ab 2000/Zweitwohnung/Albisrieden\",\"Zweitwohnungen/vor 1900/Zweitwohnung/Albisrieden\",\"Zweitwohnungen/1900\\u2013191/Zweitwohnung/Alt-Wiedikon\",\"Zweitwohnungen/1920\\u2013193/Zweitwohnung/Alt-Wiedikon\",\"Zweitwohnungen/1940\\u2013195/Zweitwohnung/Alt-Wiedikon\",\"Zweitwohnungen/1960\\u2013197/Zweitwohnung/Alt-Wiedikon\",\"Zweitwohnungen/1980\\u2013199/Zweitwohnung/Alt-Wiedikon\",\"Zweitwohnungen/ab 2000/Zweitwohnung/Alt-Wiedikon\",\"Zweitwohnungen/vor 1900/Zweitwohnung/Alt-Wiedikon\",\"Zweitwohnungen/1900\\u2013191/Zweitwohnung/Altstetten\",\"Zweitwohnungen/1920\\u2013193/Zweitwohnung/Altstetten\",\"Zweitwohnungen/1940\\u2013195/Zweitwohnung/Altstetten\",\"Zweitwohnungen/1960\\u2013197/Zweitwohnung/Altstetten\",\"Zweitwohnungen/1980\\u2013199/Zweitwohnung/Altstetten\",\"Zweitwohnungen/ab 2000/Zweitwohnung/Altstetten\",\"Zweitwohnungen/vor 1900/Zweitwohnung/Altstetten\",\"Zweitwohnungen/1900\\u2013191/Zweitwohnung/City\",\"Zweitwohnungen/1920\\u2013193/Zweitwohnung/City\",\"Zweitwohnungen/1940\\u2013195/Zweitwohnung/City\",\"Zweitwohnungen/1980\\u2013199/Zweitwohnung/City\",\"Zweitwohnungen/vor 1900/Zweitwohnung/City\",\"Zweitwohnungen/1900\\u2013191/Zweitwohnung/Enge\",\"Zweitwohnungen/1920\\u2013193/Zweitwohnung/Enge\",\"Zweitwohnungen/1940\\u2013195/Zweitwohnung/Enge\",\"Zweitwohnungen/1960\\u2013197/Zweitwohnung/Enge\",\"Zweitwohnungen/1980\\u2013199/Zweitwohnung/Enge\",\"Zweitwohnungen/ab 2000/Zweitwohnung/Enge\",\"Zweitwohnungen/vor 1900/Zweitwohnung/Enge\",\"Zweitwohnungen/1920\\u2013193/Zweitwohnung/Escher Wyss\",\"Zweitwohnungen/1940\\u2013195/Zweitwohnung/Escher Wyss\",\"Zweitwohnungen/1960\\u2013197/Zweitwohnung/Escher Wyss\",\"Zweitwohnungen/1980\\u2013199/Zweitwohnung/Escher Wyss\",\"Zweitwohnungen/ab 2000/Zweitwohnung/Escher Wyss\",\"Zweitwohnungen/vor 1900/Zweitwohnung/Escher Wyss\",\"Zweitwohnungen/1900\\u2013191/Zweitwohnung/Fluntern\",\"Zweitwohnungen/1920\\u2013193/Zweitwohnung/Fluntern\",\"Zweitwohnungen/1940\\u2013195/Zweitwohnung/Fluntern\",\"Zweitwohnungen/1960\\u2013197/Zweitwohnung/Fluntern\",\"Zweitwohnungen/1980\\u2013199/Zweitwohnung/Fluntern\",\"Zweitwohnungen/ab 2000/Zweitwohnung/Fluntern\",\"Zweitwohnungen/vor 1900/Zweitwohnung/Fluntern\",\"Zweitwohnungen/1920\\u2013193/Zweitwohnung/Friesenberg\",\"Zweitwohnungen/1940\\u2013195/Zweitwohnung/Friesenberg\",\"Zweitwohnungen/1960\\u2013197/Zweitwohnung/Friesenberg\",\"Zweitwohnungen/1980\\u2013199/Zweitwohnung/Friesenberg\",\"Zweitwohnungen/ab 2000/Zweitwohnung/Friesenberg\",\"Zweitwohnungen/vor 1900/Zweitwohnung/Friesenberg\",\"Zweitwohnungen/1900\\u2013191/Zweitwohnung/Gewerbeschule\",\"Zweitwohnungen/1920\\u2013193/Zweitwohnung/Gewerbeschule\",\"Zweitwohnungen/1960\\u2013197/Zweitwohnung/Gewerbeschule\",\"Zweitwohnungen/1980\\u2013199/Zweitwohnung/Gewerbeschule\",\"Zweitwohnungen/ab 2000/Zweitwohnung/Gewerbeschule\",\"Zweitwohnungen/vor 1900/Zweitwohnung/Gewerbeschule\",\"Zweitwohnungen/1900\\u2013191/Zweitwohnung/Hard\",\"Zweitwohnungen/1920\\u2013193/Zweitwohnung/Hard\",\"Zweitwohnungen/1940\\u2013195/Zweitwohnung/Hard\",\"Zweitwohnungen/1960\\u2013197/Zweitwohnung/Hard\",\"Zweitwohnungen/ab 2000/Zweitwohnung/Hard\",\"Zweitwohnungen/vor 1900/Zweitwohnung/Hard\",\"Zweitwohnungen/1900\\u2013191/Zweitwohnung/Hirslanden\",\"Zweitwohnungen/1920\\u2013193/Zweitwohnung/Hirslanden\",\"Zweitwohnungen/1940\\u2013195/Zweitwohnung/Hirslanden\",\"Zweitwohnungen/1960\\u2013197/Zweitwohnung/Hirslanden\",\"Zweitwohnungen/1980\\u2013199/Zweitwohnung/Hirslanden\",\"Zweitwohnungen/ab 2000/Zweitwohnung/Hirslanden\",\"Zweitwohnungen/vor 1900/Zweitwohnung/Hirslanden\",\"Zweitwohnungen/1920\\u2013193/Zweitwohnung/Hirzenbach\",\"Zweitwohnungen/1940\\u2013195/Zweitwohnung/Hirzenbach\",\"Zweitwohnungen/1960\\u2013197/Zweitwohnung/Hirzenbach\",\"Zweitwohnungen/ab 2000/Zweitwohnung/Hirzenbach\",\"Zweitwohnungen/vor 1900/Zweitwohnung/Hirzenbach\",\"Zweitwohnungen/1900\\u2013191/Zweitwohnung/Hochschulen\",\"Zweitwohnungen/1920\\u2013193/Zweitwohnung/Hochschulen\",\"Zweitwohnungen/1960\\u2013197/Zweitwohnung/Hochschulen\",\"Zweitwohnungen/1980\\u2013199/Zweitwohnung/Hochschulen\",\"Zweitwohnungen/vor 1900/Zweitwohnung/Hochschulen\",\"Zweitwohnungen/1900\\u2013191/Zweitwohnung/Hottingen\",\"Zweitwohnungen/1920\\u2013193/Zweitwohnung/Hottingen\",\"Zweitwohnungen/1940\\u2013195/Zweitwohnung/Hottingen\",\"Zweitwohnungen/1960\\u2013197/Zweitwohnung/Hottingen\",\"Zweitwohnungen/1980\\u2013199/Zweitwohnung/Hottingen\",\"Zweitwohnungen/ab 2000/Zweitwohnung/Hottingen\",\"Zweitwohnungen/vor 1900/Zweitwohnung/Hottingen\",\"Zweitwohnungen/1900\\u2013191/Zweitwohnung/H\\u00f6ngg\",\"Zweitwohnungen/1920\\u2013193/Zweitwohnung/H\\u00f6ngg\",\"Zweitwohnungen/1940\\u2013195/Zweitwohnung/H\\u00f6ngg\",\"Zweitwohnungen/1960\\u2013197/Zweitwohnung/H\\u00f6ngg\",\"Zweitwohnungen/1980\\u2013199/Zweitwohnung/H\\u00f6ngg\",\"Zweitwohnungen/ab 2000/Zweitwohnung/H\\u00f6ngg\",\"Zweitwohnungen/vor 1900/Zweitwohnung/H\\u00f6ngg\",\"Zweitwohnungen/1900\\u2013191/Zweitwohnung/Langstrasse\",\"Zweitwohnungen/1920\\u2013193/Zweitwohnung/Langstrasse\",\"Zweitwohnungen/1940\\u2013195/Zweitwohnung/Langstrasse\",\"Zweitwohnungen/1960\\u2013197/Zweitwohnung/Langstrasse\",\"Zweitwohnungen/1980\\u2013199/Zweitwohnung/Langstrasse\",\"Zweitwohnungen/ab 2000/Zweitwohnung/Langstrasse\",\"Zweitwohnungen/vor 1900/Zweitwohnung/Langstrasse\",\"Zweitwohnungen/1900\\u2013191/Zweitwohnung/Leimbach\",\"Zweitwohnungen/1920\\u2013193/Zweitwohnung/Leimbach\",\"Zweitwohnungen/1940\\u2013195/Zweitwohnung/Leimbach\",\"Zweitwohnungen/1960\\u2013197/Zweitwohnung/Leimbach\",\"Zweitwohnungen/1980\\u2013199/Zweitwohnung/Leimbach\",\"Zweitwohnungen/ab 2000/Zweitwohnung/Leimbach\",\"Zweitwohnungen/1920\\u2013193/Zweitwohnung/Lindenhof\",\"Zweitwohnungen/1940\\u2013195/Zweitwohnung/Lindenhof\",\"Zweitwohnungen/1960\\u2013197/Zweitwohnung/Lindenhof\",\"Zweitwohnungen/1980\\u2013199/Zweitwohnung/Lindenhof\",\"Zweitwohnungen/vor 1900/Zweitwohnung/Lindenhof\",\"Zweitwohnungen/1900\\u2013191/Zweitwohnung/M\\u00fchlebach\",\"Zweitwohnungen/1920\\u2013193/Zweitwohnung/M\\u00fchlebach\",\"Zweitwohnungen/1940\\u2013195/Zweitwohnung/M\\u00fchlebach\",\"Zweitwohnungen/1960\\u2013197/Zweitwohnung/M\\u00fchlebach\",\"Zweitwohnungen/1980\\u2013199/Zweitwohnung/M\\u00fchlebach\",\"Zweitwohnungen/ab 2000/Zweitwohnung/M\\u00fchlebach\",\"Zweitwohnungen/vor 1900/Zweitwohnung/M\\u00fchlebach\",\"Zweitwohnungen/1900\\u2013191/Zweitwohnung/Oberstrass\",\"Zweitwohnungen/1920\\u2013193/Zweitwohnung/Oberstrass\",\"Zweitwohnungen/1940\\u2013195/Zweitwohnung/Oberstrass\",\"Zweitwohnungen/1960\\u2013197/Zweitwohnung/Oberstrass\",\"Zweitwohnungen/1980\\u2013199/Zweitwohnung/Oberstrass\",\"Zweitwohnungen/ab 2000/Zweitwohnung/Oberstrass\",\"Zweitwohnungen/vor 1900/Zweitwohnung/Oberstrass\",\"Zweitwohnungen/1900\\u2013191/Zweitwohnung/Oerlikon\",\"Zweitwohnungen/1920\\u2013193/Zweitwohnung/Oerlikon\",\"Zweitwohnungen/1940\\u2013195/Zweitwohnung/Oerlikon\",\"Zweitwohnungen/1960\\u2013197/Zweitwohnung/Oerlikon\",\"Zweitwohnungen/1980\\u2013199/Zweitwohnung/Oerlikon\",\"Zweitwohnungen/ab 2000/Zweitwohnung/Oerlikon\",\"Zweitwohnungen/vor 1900/Zweitwohnung/Oerlikon\",\"Zweitwohnungen/1900\\u2013191/Zweitwohnung/Rathaus\",\"Zweitwohnungen/1920\\u2013193/Zweitwohnung/Rathaus\",\"Zweitwohnungen/1940\\u2013195/Zweitwohnung/Rathaus\",\"Zweitwohnungen/1960\\u2013197/Zweitwohnung/Rathaus\",\"Zweitwohnungen/1980\\u2013199/Zweitwohnung/Rathaus\",\"Zweitwohnungen/ab 2000/Zweitwohnung/Rathaus\",\"Zweitwohnungen/vor 1900/Zweitwohnung/Rathaus\",\"Zweitwohnungen/1940\\u2013195/Zweitwohnung/Saatlen\",\"Zweitwohnungen/1960\\u2013197/Zweitwohnung/Saatlen\",\"Zweitwohnungen/1980\\u2013199/Zweitwohnung/Saatlen\",\"Zweitwohnungen/ab 2000/Zweitwohnung/Saatlen\",\"Zweitwohnungen/1900\\u2013191/Zweitwohnung/Schwamendingen-Mitte\",\"Zweitwohnungen/1920\\u2013193/Zweitwohnung/Schwamendingen-Mitte\",\"Zweitwohnungen/1940\\u2013195/Zweitwohnung/Schwamendingen-Mitte\",\"Zweitwohnungen/1960\\u2013197/Zweitwohnung/Schwamendingen-Mitte\",\"Zweitwohnungen/1980\\u2013199/Zweitwohnung/Schwamendingen-Mitte\",\"Zweitwohnungen/ab 2000/Zweitwohnung/Schwamendingen-Mitte\",\"Zweitwohnungen/vor 1900/Zweitwohnung/Schwamendingen-Mitte\",\"Zweitwohnungen/1900\\u2013191/Zweitwohnung/Seebach\",\"Zweitwohnungen/1920\\u2013193/Zweitwohnung/Seebach\",\"Zweitwohnungen/1940\\u2013195/Zweitwohnung/Seebach\",\"Zweitwohnungen/1960\\u2013197/Zweitwohnung/Seebach\",\"Zweitwohnungen/1980\\u2013199/Zweitwohnung/Seebach\",\"Zweitwohnungen/ab 2000/Zweitwohnung/Seebach\",\"Zweitwohnungen/vor 1900/Zweitwohnung/Seebach\",\"Zweitwohnungen/1900\\u2013191/Zweitwohnung/Seefeld\",\"Zweitwohnungen/1920\\u2013193/Zweitwohnung/Seefeld\",\"Zweitwohnungen/1940\\u2013195/Zweitwohnung/Seefeld\",\"Zweitwohnungen/1960\\u2013197/Zweitwohnung/Seefeld\",\"Zweitwohnungen/1980\\u2013199/Zweitwohnung/Seefeld\",\"Zweitwohnungen/ab 2000/Zweitwohnung/Seefeld\",\"Zweitwohnungen/vor 1900/Zweitwohnung/Seefeld\",\"Zweitwohnungen/1900\\u2013191/Zweitwohnung/Sihlfeld\",\"Zweitwohnungen/1920\\u2013193/Zweitwohnung/Sihlfeld\",\"Zweitwohnungen/1940\\u2013195/Zweitwohnung/Sihlfeld\",\"Zweitwohnungen/1960\\u2013197/Zweitwohnung/Sihlfeld\",\"Zweitwohnungen/1980\\u2013199/Zweitwohnung/Sihlfeld\",\"Zweitwohnungen/ab 2000/Zweitwohnung/Sihlfeld\",\"Zweitwohnungen/vor 1900/Zweitwohnung/Sihlfeld\",\"Zweitwohnungen/1900\\u2013191/Zweitwohnung/Unterstrass\",\"Zweitwohnungen/1920\\u2013193/Zweitwohnung/Unterstrass\",\"Zweitwohnungen/1940\\u2013195/Zweitwohnung/Unterstrass\",\"Zweitwohnungen/1960\\u2013197/Zweitwohnung/Unterstrass\",\"Zweitwohnungen/1980\\u2013199/Zweitwohnung/Unterstrass\",\"Zweitwohnungen/ab 2000/Zweitwohnung/Unterstrass\",\"Zweitwohnungen/vor 1900/Zweitwohnung/Unterstrass\",\"Zweitwohnungen/1900\\u2013191/Zweitwohnung/Weinegg\",\"Zweitwohnungen/1920\\u2013193/Zweitwohnung/Weinegg\",\"Zweitwohnungen/1940\\u2013195/Zweitwohnung/Weinegg\",\"Zweitwohnungen/1960\\u2013197/Zweitwohnung/Weinegg\",\"Zweitwohnungen/1980\\u2013199/Zweitwohnung/Weinegg\",\"Zweitwohnungen/ab 2000/Zweitwohnung/Weinegg\",\"Zweitwohnungen/vor 1900/Zweitwohnung/Weinegg\",\"Zweitwohnungen/1900\\u2013191/Zweitwohnung/Werd\",\"Zweitwohnungen/1920\\u2013193/Zweitwohnung/Werd\",\"Zweitwohnungen/1940\\u2013195/Zweitwohnung/Werd\",\"Zweitwohnungen/1960\\u2013197/Zweitwohnung/Werd\",\"Zweitwohnungen/1980\\u2013199/Zweitwohnung/Werd\",\"Zweitwohnungen/ab 2000/Zweitwohnung/Werd\",\"Zweitwohnungen/vor 1900/Zweitwohnung/Werd\",\"Zweitwohnungen/1900\\u2013191/Zweitwohnung/Wipkingen\",\"Zweitwohnungen/1920\\u2013193/Zweitwohnung/Wipkingen\",\"Zweitwohnungen/1940\\u2013195/Zweitwohnung/Wipkingen\",\"Zweitwohnungen/1960\\u2013197/Zweitwohnung/Wipkingen\",\"Zweitwohnungen/1980\\u2013199/Zweitwohnung/Wipkingen\",\"Zweitwohnungen/ab 2000/Zweitwohnung/Wipkingen\",\"Zweitwohnungen/vor 1900/Zweitwohnung/Wipkingen\",\"Zweitwohnungen/1900\\u2013191/Zweitwohnung/Witikon\",\"Zweitwohnungen/1920\\u2013193/Zweitwohnung/Witikon\",\"Zweitwohnungen/1940\\u2013195/Zweitwohnung/Witikon\",\"Zweitwohnungen/1960\\u2013197/Zweitwohnung/Witikon\",\"Zweitwohnungen/1980\\u2013199/Zweitwohnung/Witikon\",\"Zweitwohnungen/ab 2000/Zweitwohnung/Witikon\",\"Zweitwohnungen/vor 1900/Zweitwohnung/Witikon\",\"Zweitwohnungen/1900\\u2013191/Zweitwohnung/Wollishofen\",\"Zweitwohnungen/1920\\u2013193/Zweitwohnung/Wollishofen\",\"Zweitwohnungen/1940\\u2013195/Zweitwohnung/Wollishofen\",\"Zweitwohnungen/1960\\u2013197/Zweitwohnung/Wollishofen\",\"Zweitwohnungen/1980\\u2013199/Zweitwohnung/Wollishofen\",\"Zweitwohnungen/ab 2000/Zweitwohnung/Wollishofen\",\"Zweitwohnungen/vor 1900/Zweitwohnung/Wollishofen\",\"Zweitwohnungen/1900\\u2013191/Zweitwohnung\",\"Zweitwohnungen/1920\\u2013193/Zweitwohnung\",\"Zweitwohnungen/1940\\u2013195/Zweitwohnung\",\"Zweitwohnungen/1960\\u2013197/Zweitwohnung\",\"Zweitwohnungen/1980\\u2013199/Zweitwohnung\",\"Zweitwohnungen/ab 2000/Zweitwohnung\",\"Zweitwohnungen/vor 1900/Zweitwohnung\",\"Zweitwohnungen/1900\\u2013191\",\"Zweitwohnungen/1920\\u2013193\",\"Zweitwohnungen/1940\\u2013195\",\"Zweitwohnungen/1960\\u2013197\",\"Zweitwohnungen/1980\\u2013199\",\"Zweitwohnungen/ab 2000\",\"Zweitwohnungen/vor 1900\",\"Zweitwohnungen\"],\"labels\":[\"Affoltern\",\"Affoltern\",\"Affoltern\",\"Affoltern\",\"Affoltern\",\"Affoltern\",\"Affoltern\",\"Albisrieden\",\"Albisrieden\",\"Albisrieden\",\"Albisrieden\",\"Albisrieden\",\"Albisrieden\",\"Albisrieden\",\"Alt-Wiedikon\",\"Alt-Wiedikon\",\"Alt-Wiedikon\",\"Alt-Wiedikon\",\"Alt-Wiedikon\",\"Alt-Wiedikon\",\"Alt-Wiedikon\",\"Altstetten\",\"Altstetten\",\"Altstetten\",\"Altstetten\",\"Altstetten\",\"Altstetten\",\"Altstetten\",\"City\",\"City\",\"City\",\"City\",\"City\",\"Enge\",\"Enge\",\"Enge\",\"Enge\",\"Enge\",\"Enge\",\"Enge\",\"Escher Wyss\",\"Escher Wyss\",\"Escher Wyss\",\"Escher Wyss\",\"Escher Wyss\",\"Escher Wyss\",\"Fluntern\",\"Fluntern\",\"Fluntern\",\"Fluntern\",\"Fluntern\",\"Fluntern\",\"Fluntern\",\"Friesenberg\",\"Friesenberg\",\"Friesenberg\",\"Friesenberg\",\"Friesenberg\",\"Friesenberg\",\"Gewerbeschule\",\"Gewerbeschule\",\"Gewerbeschule\",\"Gewerbeschule\",\"Gewerbeschule\",\"Gewerbeschule\",\"Hard\",\"Hard\",\"Hard\",\"Hard\",\"Hard\",\"Hard\",\"Hirslanden\",\"Hirslanden\",\"Hirslanden\",\"Hirslanden\",\"Hirslanden\",\"Hirslanden\",\"Hirslanden\",\"Hirzenbach\",\"Hirzenbach\",\"Hirzenbach\",\"Hirzenbach\",\"Hirzenbach\",\"Hochschulen\",\"Hochschulen\",\"Hochschulen\",\"Hochschulen\",\"Hochschulen\",\"Hottingen\",\"Hottingen\",\"Hottingen\",\"Hottingen\",\"Hottingen\",\"Hottingen\",\"Hottingen\",\"H\\u00f6ngg\",\"H\\u00f6ngg\",\"H\\u00f6ngg\",\"H\\u00f6ngg\",\"H\\u00f6ngg\",\"H\\u00f6ngg\",\"H\\u00f6ngg\",\"Langstrasse\",\"Langstrasse\",\"Langstrasse\",\"Langstrasse\",\"Langstrasse\",\"Langstrasse\",\"Langstrasse\",\"Leimbach\",\"Leimbach\",\"Leimbach\",\"Leimbach\",\"Leimbach\",\"Leimbach\",\"Lindenhof\",\"Lindenhof\",\"Lindenhof\",\"Lindenhof\",\"Lindenhof\",\"M\\u00fchlebach\",\"M\\u00fchlebach\",\"M\\u00fchlebach\",\"M\\u00fchlebach\",\"M\\u00fchlebach\",\"M\\u00fchlebach\",\"M\\u00fchlebach\",\"Oberstrass\",\"Oberstrass\",\"Oberstrass\",\"Oberstrass\",\"Oberstrass\",\"Oberstrass\",\"Oberstrass\",\"Oerlikon\",\"Oerlikon\",\"Oerlikon\",\"Oerlikon\",\"Oerlikon\",\"Oerlikon\",\"Oerlikon\",\"Rathaus\",\"Rathaus\",\"Rathaus\",\"Rathaus\",\"Rathaus\",\"Rathaus\",\"Rathaus\",\"Saatlen\",\"Saatlen\",\"Saatlen\",\"Saatlen\",\"Schwamendingen-Mitte\",\"Schwamendingen-Mitte\",\"Schwamendingen-Mitte\",\"Schwamendingen-Mitte\",\"Schwamendingen-Mitte\",\"Schwamendingen-Mitte\",\"Schwamendingen-Mitte\",\"Seebach\",\"Seebach\",\"Seebach\",\"Seebach\",\"Seebach\",\"Seebach\",\"Seebach\",\"Seefeld\",\"Seefeld\",\"Seefeld\",\"Seefeld\",\"Seefeld\",\"Seefeld\",\"Seefeld\",\"Sihlfeld\",\"Sihlfeld\",\"Sihlfeld\",\"Sihlfeld\",\"Sihlfeld\",\"Sihlfeld\",\"Sihlfeld\",\"Unterstrass\",\"Unterstrass\",\"Unterstrass\",\"Unterstrass\",\"Unterstrass\",\"Unterstrass\",\"Unterstrass\",\"Weinegg\",\"Weinegg\",\"Weinegg\",\"Weinegg\",\"Weinegg\",\"Weinegg\",\"Weinegg\",\"Werd\",\"Werd\",\"Werd\",\"Werd\",\"Werd\",\"Werd\",\"Werd\",\"Wipkingen\",\"Wipkingen\",\"Wipkingen\",\"Wipkingen\",\"Wipkingen\",\"Wipkingen\",\"Wipkingen\",\"Witikon\",\"Witikon\",\"Witikon\",\"Witikon\",\"Witikon\",\"Witikon\",\"Witikon\",\"Wollishofen\",\"Wollishofen\",\"Wollishofen\",\"Wollishofen\",\"Wollishofen\",\"Wollishofen\",\"Wollishofen\",\"Zweitwohnung\",\"Zweitwohnung\",\"Zweitwohnung\",\"Zweitwohnung\",\"Zweitwohnung\",\"Zweitwohnung\",\"Zweitwohnung\",\"1900\\u2013191\",\"1920\\u2013193\",\"1940\\u2013195\",\"1960\\u2013197\",\"1980\\u2013199\",\"ab 2000\",\"vor 1900\",\"Zweitwohnungen\"],\"marker\":{\"coloraxis\":\"coloraxis\",\"colors\":[1.5,6.565217391304348,4.8,6.333333333333333,10.88888888888889,7.516129032258065,5.625,1.4,6.0,8.419354838709678,7.186046511627907,1.6666666666666667,26.063291139240505,2.5384615384615383,13.654545454545454,16.5,9.093023255813954,15.043478260869565,11.285714285714286,89.368,12.148936170212766,2.5,19.676923076923078,9.444444444444445,11.285714285714286,6.703703703703703,15.333333333333334,2.4,2.0,1.0,3.3333333333333335,2.7142857142857144,12.372549019607844,3.0,9.595744680851064,9.37037037037037,8.214285714285714,7.848484848484849,7.275862068965517,22.29655172413793,1.0,1.0,1.0,2.3333333333333335,38.333333333333336,3.0,3.6,9.333333333333334,5.709677419354839,7.538461538461538,4.948717948717949,10.061224489795919,3.9411764705882355,4.846153846153846,3.0,22.658536585365855,1.0,2.2,2.0,17.58823529411765,2.5384615384615383,4.0,2.8181818181818183,4.384615384615385,25.3,5.32,9.875,9.2,23.35,9.962962962962964,8.93939393939394,4.565217391304348,9.64864864864865,12.707317073170731,4.714285714285714,1.5,2.3333333333333335,7.4,1.0,4.866666666666666,7.173913043478261,4.2727272727272725,1.0,1.0,1.0,8.2,4.111111111111111,3.6956521739130435,8.551020408163266,7.882352941176471,7.555555555555555,8.255813953488373,7.606060606060606,3.9473684210526314,16.440860215053764,1.0,8.379310344827585,7.6875,9.292682926829269,11.222222222222221,5.142857142857143,6.0344827586206895,5.625,8.736842105263158,11.478260869565217,12.619047619047619,6.2,6.0256410256410255,47.51207729468599,1.0,2.0,1.8,4.111111111111111,3.857142857142857,5.0,1.0,1.6666666666666667,3.923076923076923,1.5,22.666666666666668,5.333333333333333,6.6521739130434785,14.75,11.523809523809524,4.0,3.5,7.0,8.18918918918919,5.074074074074074,5.2727272727272725,6.84,1.5714285714285714,3.1818181818181817,7.521739130434782,3.3,17.372881355932204,6.851851851851852,28.835051546391753,4.578947368421052,5.733333333333333,3.0,2.0,1.0,6.181818181818182,4.2,1.0,3.3333333333333335,39.25,2.142857142857143,1.5,1.8,1.0,1.0,2.6,6.7272727272727275,7.375,3.0,1.0,2.3333333333333335,48.372093023255815,5.777777777777778,52.177304964539005,21.105263157894736,3.0,25.408163265306122,3.6666666666666665,11.508474576271187,7.666666666666667,14.323076923076924,4.5,3.0,4.636363636363637,14.472222222222221,13.611764705882353,13.262295081967213,15.878048780487806,8.347826086956522,3.6153846153846154,3.3333333333333335,9.784313725490197,13.878787878787879,10.962962962962964,8.652173913043478,80.80701754385964,11.64516129032258,3.0,5.923076923076923,2.4,6.571428571428571,4.384615384615385,6.6,3.25,2.5714285714285716,3.210526315789474,3.3333333333333335,6.333333333333333,10.68421052631579,14.0,2.5,2.111111111111111,17.210526315789473,8.105263157894736,13.541666666666666,2.2,5.0,2.7142857142857144,1.4,2.8181818181818183,1.0,4.363636363636363,4.473684210526316,12.079365079365079,8.454545454545455,4.176470588235294,1.5,4.428571428571429,17.54054054054054,10.64102564102564,6.103448275862069,4.6923076923076925,8.777777777777779,2.6,13.938271604938272,11.08271474019088,15.719424460431656,19.990222222222222,6.658823529411765,33.195856873822976,21.922777417261518,13.938271604938272,11.08271474019088,15.719424460431656,19.990222222222222,6.658823529411765,33.195856873822976,21.922777417261518,19.007554845270956]},\"name\":\"\",\"parents\":[\"Zweitwohnungen/1900\\u2013191/Zweitwohnung\",\"Zweitwohnungen/1920\\u2013193/Zweitwohnung\",\"Zweitwohnungen/1940\\u2013195/Zweitwohnung\",\"Zweitwohnungen/1960\\u2013197/Zweitwohnung\",\"Zweitwohnungen/1980\\u2013199/Zweitwohnung\",\"Zweitwohnungen/ab 2000/Zweitwohnung\",\"Zweitwohnungen/vor 1900/Zweitwohnung\",\"Zweitwohnungen/1900\\u2013191/Zweitwohnung\",\"Zweitwohnungen/1920\\u2013193/Zweitwohnung\",\"Zweitwohnungen/1940\\u2013195/Zweitwohnung\",\"Zweitwohnungen/1960\\u2013197/Zweitwohnung\",\"Zweitwohnungen/1980\\u2013199/Zweitwohnung\",\"Zweitwohnungen/ab 2000/Zweitwohnung\",\"Zweitwohnungen/vor 1900/Zweitwohnung\",\"Zweitwohnungen/1900\\u2013191/Zweitwohnung\",\"Zweitwohnungen/1920\\u2013193/Zweitwohnung\",\"Zweitwohnungen/1940\\u2013195/Zweitwohnung\",\"Zweitwohnungen/1960\\u2013197/Zweitwohnung\",\"Zweitwohnungen/1980\\u2013199/Zweitwohnung\",\"Zweitwohnungen/ab 2000/Zweitwohnung\",\"Zweitwohnungen/vor 1900/Zweitwohnung\",\"Zweitwohnungen/1900\\u2013191/Zweitwohnung\",\"Zweitwohnungen/1920\\u2013193/Zweitwohnung\",\"Zweitwohnungen/1940\\u2013195/Zweitwohnung\",\"Zweitwohnungen/1960\\u2013197/Zweitwohnung\",\"Zweitwohnungen/1980\\u2013199/Zweitwohnung\",\"Zweitwohnungen/ab 2000/Zweitwohnung\",\"Zweitwohnungen/vor 1900/Zweitwohnung\",\"Zweitwohnungen/1900\\u2013191/Zweitwohnung\",\"Zweitwohnungen/1920\\u2013193/Zweitwohnung\",\"Zweitwohnungen/1940\\u2013195/Zweitwohnung\",\"Zweitwohnungen/1980\\u2013199/Zweitwohnung\",\"Zweitwohnungen/vor 1900/Zweitwohnung\",\"Zweitwohnungen/1900\\u2013191/Zweitwohnung\",\"Zweitwohnungen/1920\\u2013193/Zweitwohnung\",\"Zweitwohnungen/1940\\u2013195/Zweitwohnung\",\"Zweitwohnungen/1960\\u2013197/Zweitwohnung\",\"Zweitwohnungen/1980\\u2013199/Zweitwohnung\",\"Zweitwohnungen/ab 2000/Zweitwohnung\",\"Zweitwohnungen/vor 1900/Zweitwohnung\",\"Zweitwohnungen/1920\\u2013193/Zweitwohnung\",\"Zweitwohnungen/1940\\u2013195/Zweitwohnung\",\"Zweitwohnungen/1960\\u2013197/Zweitwohnung\",\"Zweitwohnungen/1980\\u2013199/Zweitwohnung\",\"Zweitwohnungen/ab 2000/Zweitwohnung\",\"Zweitwohnungen/vor 1900/Zweitwohnung\",\"Zweitwohnungen/1900\\u2013191/Zweitwohnung\",\"Zweitwohnungen/1920\\u2013193/Zweitwohnung\",\"Zweitwohnungen/1940\\u2013195/Zweitwohnung\",\"Zweitwohnungen/1960\\u2013197/Zweitwohnung\",\"Zweitwohnungen/1980\\u2013199/Zweitwohnung\",\"Zweitwohnungen/ab 2000/Zweitwohnung\",\"Zweitwohnungen/vor 1900/Zweitwohnung\",\"Zweitwohnungen/1920\\u2013193/Zweitwohnung\",\"Zweitwohnungen/1940\\u2013195/Zweitwohnung\",\"Zweitwohnungen/1960\\u2013197/Zweitwohnung\",\"Zweitwohnungen/1980\\u2013199/Zweitwohnung\",\"Zweitwohnungen/ab 2000/Zweitwohnung\",\"Zweitwohnungen/vor 1900/Zweitwohnung\",\"Zweitwohnungen/1900\\u2013191/Zweitwohnung\",\"Zweitwohnungen/1920\\u2013193/Zweitwohnung\",\"Zweitwohnungen/1960\\u2013197/Zweitwohnung\",\"Zweitwohnungen/1980\\u2013199/Zweitwohnung\",\"Zweitwohnungen/ab 2000/Zweitwohnung\",\"Zweitwohnungen/vor 1900/Zweitwohnung\",\"Zweitwohnungen/1900\\u2013191/Zweitwohnung\",\"Zweitwohnungen/1920\\u2013193/Zweitwohnung\",\"Zweitwohnungen/1940\\u2013195/Zweitwohnung\",\"Zweitwohnungen/1960\\u2013197/Zweitwohnung\",\"Zweitwohnungen/ab 2000/Zweitwohnung\",\"Zweitwohnungen/vor 1900/Zweitwohnung\",\"Zweitwohnungen/1900\\u2013191/Zweitwohnung\",\"Zweitwohnungen/1920\\u2013193/Zweitwohnung\",\"Zweitwohnungen/1940\\u2013195/Zweitwohnung\",\"Zweitwohnungen/1960\\u2013197/Zweitwohnung\",\"Zweitwohnungen/1980\\u2013199/Zweitwohnung\",\"Zweitwohnungen/ab 2000/Zweitwohnung\",\"Zweitwohnungen/vor 1900/Zweitwohnung\",\"Zweitwohnungen/1920\\u2013193/Zweitwohnung\",\"Zweitwohnungen/1940\\u2013195/Zweitwohnung\",\"Zweitwohnungen/1960\\u2013197/Zweitwohnung\",\"Zweitwohnungen/ab 2000/Zweitwohnung\",\"Zweitwohnungen/vor 1900/Zweitwohnung\",\"Zweitwohnungen/1900\\u2013191/Zweitwohnung\",\"Zweitwohnungen/1920\\u2013193/Zweitwohnung\",\"Zweitwohnungen/1960\\u2013197/Zweitwohnung\",\"Zweitwohnungen/1980\\u2013199/Zweitwohnung\",\"Zweitwohnungen/vor 1900/Zweitwohnung\",\"Zweitwohnungen/1900\\u2013191/Zweitwohnung\",\"Zweitwohnungen/1920\\u2013193/Zweitwohnung\",\"Zweitwohnungen/1940\\u2013195/Zweitwohnung\",\"Zweitwohnungen/1960\\u2013197/Zweitwohnung\",\"Zweitwohnungen/1980\\u2013199/Zweitwohnung\",\"Zweitwohnungen/ab 2000/Zweitwohnung\",\"Zweitwohnungen/vor 1900/Zweitwohnung\",\"Zweitwohnungen/1900\\u2013191/Zweitwohnung\",\"Zweitwohnungen/1920\\u2013193/Zweitwohnung\",\"Zweitwohnungen/1940\\u2013195/Zweitwohnung\",\"Zweitwohnungen/1960\\u2013197/Zweitwohnung\",\"Zweitwohnungen/1980\\u2013199/Zweitwohnung\",\"Zweitwohnungen/ab 2000/Zweitwohnung\",\"Zweitwohnungen/vor 1900/Zweitwohnung\",\"Zweitwohnungen/1900\\u2013191/Zweitwohnung\",\"Zweitwohnungen/1920\\u2013193/Zweitwohnung\",\"Zweitwohnungen/1940\\u2013195/Zweitwohnung\",\"Zweitwohnungen/1960\\u2013197/Zweitwohnung\",\"Zweitwohnungen/1980\\u2013199/Zweitwohnung\",\"Zweitwohnungen/ab 2000/Zweitwohnung\",\"Zweitwohnungen/vor 1900/Zweitwohnung\",\"Zweitwohnungen/1900\\u2013191/Zweitwohnung\",\"Zweitwohnungen/1920\\u2013193/Zweitwohnung\",\"Zweitwohnungen/1940\\u2013195/Zweitwohnung\",\"Zweitwohnungen/1960\\u2013197/Zweitwohnung\",\"Zweitwohnungen/1980\\u2013199/Zweitwohnung\",\"Zweitwohnungen/ab 2000/Zweitwohnung\",\"Zweitwohnungen/1920\\u2013193/Zweitwohnung\",\"Zweitwohnungen/1940\\u2013195/Zweitwohnung\",\"Zweitwohnungen/1960\\u2013197/Zweitwohnung\",\"Zweitwohnungen/1980\\u2013199/Zweitwohnung\",\"Zweitwohnungen/vor 1900/Zweitwohnung\",\"Zweitwohnungen/1900\\u2013191/Zweitwohnung\",\"Zweitwohnungen/1920\\u2013193/Zweitwohnung\",\"Zweitwohnungen/1940\\u2013195/Zweitwohnung\",\"Zweitwohnungen/1960\\u2013197/Zweitwohnung\",\"Zweitwohnungen/1980\\u2013199/Zweitwohnung\",\"Zweitwohnungen/ab 2000/Zweitwohnung\",\"Zweitwohnungen/vor 1900/Zweitwohnung\",\"Zweitwohnungen/1900\\u2013191/Zweitwohnung\",\"Zweitwohnungen/1920\\u2013193/Zweitwohnung\",\"Zweitwohnungen/1940\\u2013195/Zweitwohnung\",\"Zweitwohnungen/1960\\u2013197/Zweitwohnung\",\"Zweitwohnungen/1980\\u2013199/Zweitwohnung\",\"Zweitwohnungen/ab 2000/Zweitwohnung\",\"Zweitwohnungen/vor 1900/Zweitwohnung\",\"Zweitwohnungen/1900\\u2013191/Zweitwohnung\",\"Zweitwohnungen/1920\\u2013193/Zweitwohnung\",\"Zweitwohnungen/1940\\u2013195/Zweitwohnung\",\"Zweitwohnungen/1960\\u2013197/Zweitwohnung\",\"Zweitwohnungen/1980\\u2013199/Zweitwohnung\",\"Zweitwohnungen/ab 2000/Zweitwohnung\",\"Zweitwohnungen/vor 1900/Zweitwohnung\",\"Zweitwohnungen/1900\\u2013191/Zweitwohnung\",\"Zweitwohnungen/1920\\u2013193/Zweitwohnung\",\"Zweitwohnungen/1940\\u2013195/Zweitwohnung\",\"Zweitwohnungen/1960\\u2013197/Zweitwohnung\",\"Zweitwohnungen/1980\\u2013199/Zweitwohnung\",\"Zweitwohnungen/ab 2000/Zweitwohnung\",\"Zweitwohnungen/vor 1900/Zweitwohnung\",\"Zweitwohnungen/1940\\u2013195/Zweitwohnung\",\"Zweitwohnungen/1960\\u2013197/Zweitwohnung\",\"Zweitwohnungen/1980\\u2013199/Zweitwohnung\",\"Zweitwohnungen/ab 2000/Zweitwohnung\",\"Zweitwohnungen/1900\\u2013191/Zweitwohnung\",\"Zweitwohnungen/1920\\u2013193/Zweitwohnung\",\"Zweitwohnungen/1940\\u2013195/Zweitwohnung\",\"Zweitwohnungen/1960\\u2013197/Zweitwohnung\",\"Zweitwohnungen/1980\\u2013199/Zweitwohnung\",\"Zweitwohnungen/ab 2000/Zweitwohnung\",\"Zweitwohnungen/vor 1900/Zweitwohnung\",\"Zweitwohnungen/1900\\u2013191/Zweitwohnung\",\"Zweitwohnungen/1920\\u2013193/Zweitwohnung\",\"Zweitwohnungen/1940\\u2013195/Zweitwohnung\",\"Zweitwohnungen/1960\\u2013197/Zweitwohnung\",\"Zweitwohnungen/1980\\u2013199/Zweitwohnung\",\"Zweitwohnungen/ab 2000/Zweitwohnung\",\"Zweitwohnungen/vor 1900/Zweitwohnung\",\"Zweitwohnungen/1900\\u2013191/Zweitwohnung\",\"Zweitwohnungen/1920\\u2013193/Zweitwohnung\",\"Zweitwohnungen/1940\\u2013195/Zweitwohnung\",\"Zweitwohnungen/1960\\u2013197/Zweitwohnung\",\"Zweitwohnungen/1980\\u2013199/Zweitwohnung\",\"Zweitwohnungen/ab 2000/Zweitwohnung\",\"Zweitwohnungen/vor 1900/Zweitwohnung\",\"Zweitwohnungen/1900\\u2013191/Zweitwohnung\",\"Zweitwohnungen/1920\\u2013193/Zweitwohnung\",\"Zweitwohnungen/1940\\u2013195/Zweitwohnung\",\"Zweitwohnungen/1960\\u2013197/Zweitwohnung\",\"Zweitwohnungen/1980\\u2013199/Zweitwohnung\",\"Zweitwohnungen/ab 2000/Zweitwohnung\",\"Zweitwohnungen/vor 1900/Zweitwohnung\",\"Zweitwohnungen/1900\\u2013191/Zweitwohnung\",\"Zweitwohnungen/1920\\u2013193/Zweitwohnung\",\"Zweitwohnungen/1940\\u2013195/Zweitwohnung\",\"Zweitwohnungen/1960\\u2013197/Zweitwohnung\",\"Zweitwohnungen/1980\\u2013199/Zweitwohnung\",\"Zweitwohnungen/ab 2000/Zweitwohnung\",\"Zweitwohnungen/vor 1900/Zweitwohnung\",\"Zweitwohnungen/1900\\u2013191/Zweitwohnung\",\"Zweitwohnungen/1920\\u2013193/Zweitwohnung\",\"Zweitwohnungen/1940\\u2013195/Zweitwohnung\",\"Zweitwohnungen/1960\\u2013197/Zweitwohnung\",\"Zweitwohnungen/1980\\u2013199/Zweitwohnung\",\"Zweitwohnungen/ab 2000/Zweitwohnung\",\"Zweitwohnungen/vor 1900/Zweitwohnung\",\"Zweitwohnungen/1900\\u2013191/Zweitwohnung\",\"Zweitwohnungen/1920\\u2013193/Zweitwohnung\",\"Zweitwohnungen/1940\\u2013195/Zweitwohnung\",\"Zweitwohnungen/1960\\u2013197/Zweitwohnung\",\"Zweitwohnungen/1980\\u2013199/Zweitwohnung\",\"Zweitwohnungen/ab 2000/Zweitwohnung\",\"Zweitwohnungen/vor 1900/Zweitwohnung\",\"Zweitwohnungen/1900\\u2013191/Zweitwohnung\",\"Zweitwohnungen/1920\\u2013193/Zweitwohnung\",\"Zweitwohnungen/1940\\u2013195/Zweitwohnung\",\"Zweitwohnungen/1960\\u2013197/Zweitwohnung\",\"Zweitwohnungen/1980\\u2013199/Zweitwohnung\",\"Zweitwohnungen/ab 2000/Zweitwohnung\",\"Zweitwohnungen/vor 1900/Zweitwohnung\",\"Zweitwohnungen/1900\\u2013191/Zweitwohnung\",\"Zweitwohnungen/1920\\u2013193/Zweitwohnung\",\"Zweitwohnungen/1940\\u2013195/Zweitwohnung\",\"Zweitwohnungen/1960\\u2013197/Zweitwohnung\",\"Zweitwohnungen/1980\\u2013199/Zweitwohnung\",\"Zweitwohnungen/ab 2000/Zweitwohnung\",\"Zweitwohnungen/vor 1900/Zweitwohnung\",\"Zweitwohnungen/1900\\u2013191/Zweitwohnung\",\"Zweitwohnungen/1920\\u2013193/Zweitwohnung\",\"Zweitwohnungen/1940\\u2013195/Zweitwohnung\",\"Zweitwohnungen/1960\\u2013197/Zweitwohnung\",\"Zweitwohnungen/1980\\u2013199/Zweitwohnung\",\"Zweitwohnungen/ab 2000/Zweitwohnung\",\"Zweitwohnungen/vor 1900/Zweitwohnung\",\"Zweitwohnungen/1900\\u2013191\",\"Zweitwohnungen/1920\\u2013193\",\"Zweitwohnungen/1940\\u2013195\",\"Zweitwohnungen/1960\\u2013197\",\"Zweitwohnungen/1980\\u2013199\",\"Zweitwohnungen/ab 2000\",\"Zweitwohnungen/vor 1900\",\"Zweitwohnungen\",\"Zweitwohnungen\",\"Zweitwohnungen\",\"Zweitwohnungen\",\"Zweitwohnungen\",\"Zweitwohnungen\",\"Zweitwohnungen\",\"\"],\"root\":{\"color\":\"lightgrey\"},\"type\":\"treemap\",\"values\":[4,23,20,27,36,31,16,5,24,31,43,6,79,13,55,60,43,46,35,250,47,8,65,36,49,27,72,10,2,1,6,7,51,18,47,27,28,33,29,145,2,2,1,6,120,7,20,36,31,26,39,49,17,13,6,41,2,5,2,34,13,4,11,13,100,25,32,20,40,27,33,23,37,41,14,4,6,30,1,15,23,11,1,1,3,10,18,23,49,34,36,43,33,19,93,4,29,32,41,36,14,29,16,38,46,42,15,39,207,1,2,5,18,7,15,1,3,13,4,132,30,23,80,42,16,16,40,37,27,22,25,7,11,46,20,59,27,97,19,30,7,4,1,22,10,1,6,192,7,4,5,3,1,10,22,16,8,2,6,86,18,141,95,14,98,12,59,30,65,20,10,11,72,85,61,41,46,13,12,51,66,54,46,114,31,13,39,10,28,13,10,8,14,19,6,27,19,24,4,9,76,38,48,10,21,7,5,11,1,22,19,63,22,17,4,21,74,39,29,26,36,10,729,943,973,1125,510,1062,1541,729,943,973,1125,510,1062,1541,6883]}],                        {\"coloraxis\":{\"colorbar\":{\"title\":{\"text\":\"AnzWhg\"}},\"colorscale\":[[0.0,\"rgb(247,251,255)\"],[0.125,\"rgb(222,235,247)\"],[0.25,\"rgb(198,219,239)\"],[0.375,\"rgb(158,202,225)\"],[0.5,\"rgb(107,174,214)\"],[0.625,\"rgb(66,146,198)\"],[0.75,\"rgb(33,113,181)\"],[0.875,\"rgb(8,81,156)\"],[1.0,\"rgb(8,48,107)\"]]},\"legend\":{\"tracegroupgap\":0},\"margin\":{\"b\":25,\"l\":25,\"r\":250,\"t\":50},\"template\":{\"data\":{\"bar\":[{\"error_x\":{\"color\":\"#2a3f5f\"},\"error_y\":{\"color\":\"#2a3f5f\"},\"marker\":{\"line\":{\"color\":\"#E5ECF6\",\"width\":0.5},\"pattern\":{\"fillmode\":\"overlay\",\"size\":10,\"solidity\":0.2}},\"type\":\"bar\"}],\"barpolar\":[{\"marker\":{\"line\":{\"color\":\"#E5ECF6\",\"width\":0.5},\"pattern\":{\"fillmode\":\"overlay\",\"size\":10,\"solidity\":0.2}},\"type\":\"barpolar\"}],\"carpet\":[{\"aaxis\":{\"endlinecolor\":\"#2a3f5f\",\"gridcolor\":\"white\",\"linecolor\":\"white\",\"minorgridcolor\":\"white\",\"startlinecolor\":\"#2a3f5f\"},\"baxis\":{\"endlinecolor\":\"#2a3f5f\",\"gridcolor\":\"white\",\"linecolor\":\"white\",\"minorgridcolor\":\"white\",\"startlinecolor\":\"#2a3f5f\"},\"type\":\"carpet\"}],\"choropleth\":[{\"colorbar\":{\"outlinewidth\":0,\"ticks\":\"\"},\"type\":\"choropleth\"}],\"contour\":[{\"colorbar\":{\"outlinewidth\":0,\"ticks\":\"\"},\"colorscale\":[[0.0,\"#0d0887\"],[0.1111111111111111,\"#46039f\"],[0.2222222222222222,\"#7201a8\"],[0.3333333333333333,\"#9c179e\"],[0.4444444444444444,\"#bd3786\"],[0.5555555555555556,\"#d8576b\"],[0.6666666666666666,\"#ed7953\"],[0.7777777777777778,\"#fb9f3a\"],[0.8888888888888888,\"#fdca26\"],[1.0,\"#f0f921\"]],\"type\":\"contour\"}],\"contourcarpet\":[{\"colorbar\":{\"outlinewidth\":0,\"ticks\":\"\"},\"type\":\"contourcarpet\"}],\"heatmap\":[{\"colorbar\":{\"outlinewidth\":0,\"ticks\":\"\"},\"colorscale\":[[0.0,\"#0d0887\"],[0.1111111111111111,\"#46039f\"],[0.2222222222222222,\"#7201a8\"],[0.3333333333333333,\"#9c179e\"],[0.4444444444444444,\"#bd3786\"],[0.5555555555555556,\"#d8576b\"],[0.6666666666666666,\"#ed7953\"],[0.7777777777777778,\"#fb9f3a\"],[0.8888888888888888,\"#fdca26\"],[1.0,\"#f0f921\"]],\"type\":\"heatmap\"}],\"heatmapgl\":[{\"colorbar\":{\"outlinewidth\":0,\"ticks\":\"\"},\"colorscale\":[[0.0,\"#0d0887\"],[0.1111111111111111,\"#46039f\"],[0.2222222222222222,\"#7201a8\"],[0.3333333333333333,\"#9c179e\"],[0.4444444444444444,\"#bd3786\"],[0.5555555555555556,\"#d8576b\"],[0.6666666666666666,\"#ed7953\"],[0.7777777777777778,\"#fb9f3a\"],[0.8888888888888888,\"#fdca26\"],[1.0,\"#f0f921\"]],\"type\":\"heatmapgl\"}],\"histogram\":[{\"marker\":{\"pattern\":{\"fillmode\":\"overlay\",\"size\":10,\"solidity\":0.2}},\"type\":\"histogram\"}],\"histogram2d\":[{\"colorbar\":{\"outlinewidth\":0,\"ticks\":\"\"},\"colorscale\":[[0.0,\"#0d0887\"],[0.1111111111111111,\"#46039f\"],[0.2222222222222222,\"#7201a8\"],[0.3333333333333333,\"#9c179e\"],[0.4444444444444444,\"#bd3786\"],[0.5555555555555556,\"#d8576b\"],[0.6666666666666666,\"#ed7953\"],[0.7777777777777778,\"#fb9f3a\"],[0.8888888888888888,\"#fdca26\"],[1.0,\"#f0f921\"]],\"type\":\"histogram2d\"}],\"histogram2dcontour\":[{\"colorbar\":{\"outlinewidth\":0,\"ticks\":\"\"},\"colorscale\":[[0.0,\"#0d0887\"],[0.1111111111111111,\"#46039f\"],[0.2222222222222222,\"#7201a8\"],[0.3333333333333333,\"#9c179e\"],[0.4444444444444444,\"#bd3786\"],[0.5555555555555556,\"#d8576b\"],[0.6666666666666666,\"#ed7953\"],[0.7777777777777778,\"#fb9f3a\"],[0.8888888888888888,\"#fdca26\"],[1.0,\"#f0f921\"]],\"type\":\"histogram2dcontour\"}],\"mesh3d\":[{\"colorbar\":{\"outlinewidth\":0,\"ticks\":\"\"},\"type\":\"mesh3d\"}],\"parcoords\":[{\"line\":{\"colorbar\":{\"outlinewidth\":0,\"ticks\":\"\"}},\"type\":\"parcoords\"}],\"pie\":[{\"automargin\":true,\"type\":\"pie\"}],\"scatter\":[{\"marker\":{\"colorbar\":{\"outlinewidth\":0,\"ticks\":\"\"}},\"type\":\"scatter\"}],\"scatter3d\":[{\"line\":{\"colorbar\":{\"outlinewidth\":0,\"ticks\":\"\"}},\"marker\":{\"colorbar\":{\"outlinewidth\":0,\"ticks\":\"\"}},\"type\":\"scatter3d\"}],\"scattercarpet\":[{\"marker\":{\"colorbar\":{\"outlinewidth\":0,\"ticks\":\"\"}},\"type\":\"scattercarpet\"}],\"scattergeo\":[{\"marker\":{\"colorbar\":{\"outlinewidth\":0,\"ticks\":\"\"}},\"type\":\"scattergeo\"}],\"scattergl\":[{\"marker\":{\"colorbar\":{\"outlinewidth\":0,\"ticks\":\"\"}},\"type\":\"scattergl\"}],\"scattermapbox\":[{\"marker\":{\"colorbar\":{\"outlinewidth\":0,\"ticks\":\"\"}},\"type\":\"scattermapbox\"}],\"scatterpolar\":[{\"marker\":{\"colorbar\":{\"outlinewidth\":0,\"ticks\":\"\"}},\"type\":\"scatterpolar\"}],\"scatterpolargl\":[{\"marker\":{\"colorbar\":{\"outlinewidth\":0,\"ticks\":\"\"}},\"type\":\"scatterpolargl\"}],\"scatterternary\":[{\"marker\":{\"colorbar\":{\"outlinewidth\":0,\"ticks\":\"\"}},\"type\":\"scatterternary\"}],\"surface\":[{\"colorbar\":{\"outlinewidth\":0,\"ticks\":\"\"},\"colorscale\":[[0.0,\"#0d0887\"],[0.1111111111111111,\"#46039f\"],[0.2222222222222222,\"#7201a8\"],[0.3333333333333333,\"#9c179e\"],[0.4444444444444444,\"#bd3786\"],[0.5555555555555556,\"#d8576b\"],[0.6666666666666666,\"#ed7953\"],[0.7777777777777778,\"#fb9f3a\"],[0.8888888888888888,\"#fdca26\"],[1.0,\"#f0f921\"]],\"type\":\"surface\"}],\"table\":[{\"cells\":{\"fill\":{\"color\":\"#EBF0F8\"},\"line\":{\"color\":\"white\"}},\"header\":{\"fill\":{\"color\":\"#C8D4E3\"},\"line\":{\"color\":\"white\"}},\"type\":\"table\"}]},\"layout\":{\"annotationdefaults\":{\"arrowcolor\":\"#2a3f5f\",\"arrowhead\":0,\"arrowwidth\":1},\"autotypenumbers\":\"strict\",\"coloraxis\":{\"colorbar\":{\"outlinewidth\":0,\"ticks\":\"\"}},\"colorscale\":{\"diverging\":[[0,\"#8e0152\"],[0.1,\"#c51b7d\"],[0.2,\"#de77ae\"],[0.3,\"#f1b6da\"],[0.4,\"#fde0ef\"],[0.5,\"#f7f7f7\"],[0.6,\"#e6f5d0\"],[0.7,\"#b8e186\"],[0.8,\"#7fbc41\"],[0.9,\"#4d9221\"],[1,\"#276419\"]],\"sequential\":[[0.0,\"#0d0887\"],[0.1111111111111111,\"#46039f\"],[0.2222222222222222,\"#7201a8\"],[0.3333333333333333,\"#9c179e\"],[0.4444444444444444,\"#bd3786\"],[0.5555555555555556,\"#d8576b\"],[0.6666666666666666,\"#ed7953\"],[0.7777777777777778,\"#fb9f3a\"],[0.8888888888888888,\"#fdca26\"],[1.0,\"#f0f921\"]],\"sequentialminus\":[[0.0,\"#0d0887\"],[0.1111111111111111,\"#46039f\"],[0.2222222222222222,\"#7201a8\"],[0.3333333333333333,\"#9c179e\"],[0.4444444444444444,\"#bd3786\"],[0.5555555555555556,\"#d8576b\"],[0.6666666666666666,\"#ed7953\"],[0.7777777777777778,\"#fb9f3a\"],[0.8888888888888888,\"#fdca26\"],[1.0,\"#f0f921\"]]},\"colorway\":[\"#636efa\",\"#EF553B\",\"#00cc96\",\"#ab63fa\",\"#FFA15A\",\"#19d3f3\",\"#FF6692\",\"#B6E880\",\"#FF97FF\",\"#FECB52\"],\"font\":{\"color\":\"#2a3f5f\"},\"geo\":{\"bgcolor\":\"white\",\"lakecolor\":\"white\",\"landcolor\":\"#E5ECF6\",\"showlakes\":true,\"showland\":true,\"subunitcolor\":\"white\"},\"hoverlabel\":{\"align\":\"left\"},\"hovermode\":\"closest\",\"mapbox\":{\"style\":\"light\"},\"paper_bgcolor\":\"white\",\"plot_bgcolor\":\"#E5ECF6\",\"polar\":{\"angularaxis\":{\"gridcolor\":\"white\",\"linecolor\":\"white\",\"ticks\":\"\"},\"bgcolor\":\"#E5ECF6\",\"radialaxis\":{\"gridcolor\":\"white\",\"linecolor\":\"white\",\"ticks\":\"\"}},\"scene\":{\"xaxis\":{\"backgroundcolor\":\"#E5ECF6\",\"gridcolor\":\"white\",\"gridwidth\":2,\"linecolor\":\"white\",\"showbackground\":true,\"ticks\":\"\",\"zerolinecolor\":\"white\"},\"yaxis\":{\"backgroundcolor\":\"#E5ECF6\",\"gridcolor\":\"white\",\"gridwidth\":2,\"linecolor\":\"white\",\"showbackground\":true,\"ticks\":\"\",\"zerolinecolor\":\"white\"},\"zaxis\":{\"backgroundcolor\":\"#E5ECF6\",\"gridcolor\":\"white\",\"gridwidth\":2,\"linecolor\":\"white\",\"showbackground\":true,\"ticks\":\"\",\"zerolinecolor\":\"white\"}},\"shapedefaults\":{\"line\":{\"color\":\"#2a3f5f\"}},\"ternary\":{\"aaxis\":{\"gridcolor\":\"white\",\"linecolor\":\"white\",\"ticks\":\"\"},\"baxis\":{\"gridcolor\":\"white\",\"linecolor\":\"white\",\"ticks\":\"\"},\"bgcolor\":\"#E5ECF6\",\"caxis\":{\"gridcolor\":\"white\",\"linecolor\":\"white\",\"ticks\":\"\"}},\"title\":{\"x\":0.05},\"xaxis\":{\"automargin\":true,\"gridcolor\":\"white\",\"linecolor\":\"white\",\"ticks\":\"\",\"title\":{\"standoff\":15},\"zerolinecolor\":\"white\",\"zerolinewidth\":2},\"yaxis\":{\"automargin\":true,\"gridcolor\":\"white\",\"linecolor\":\"white\",\"ticks\":\"\",\"title\":{\"standoff\":15},\"zerolinecolor\":\"white\",\"zerolinewidth\":2}}}},                        {\"responsive\": true}                    ).then(function(){\n",
       "                            \n",
       "var gd = document.getElementById('9714892d-a503-4a2a-a674-94566dd7b422');\n",
       "var x = new MutationObserver(function (mutations, observer) {{\n",
       "        var display = window.getComputedStyle(gd).display;\n",
       "        if (!display || display === 'none') {{\n",
       "            console.log([gd, 'removed!']);\n",
       "            Plotly.purge(gd);\n",
       "            observer.disconnect();\n",
       "        }}\n",
       "}});\n",
       "\n",
       "// Listen for the removal of the full notebook cells\n",
       "var notebookContainer = gd.closest('#notebook-container');\n",
       "if (notebookContainer) {{\n",
       "    x.observe(notebookContainer, {childList: true});\n",
       "}}\n",
       "\n",
       "// Listen for the clearing of the current output cell\n",
       "var outputEl = gd.closest('.output');\n",
       "if (outputEl) {{\n",
       "    x.observe(outputEl, {childList: true});\n",
       "}}\n",
       "\n",
       "                        })                };                });            </script>        </div>"
      ]
     },
     "metadata": {},
     "output_type": "display_data"
    }
   ],
   "source": [
    "df = mySelection\n",
    "\n",
    "fig = px.treemap(df, path=[px.Constant(\"Zweitwohnungen\"), 'BauperiodeLang', 'Nutzung', 'QuarLang'], values='AnzWhg',\n",
    "                color='AnzWhg', hover_data=['QuarLang'],\n",
    "                color_continuous_scale='blues')\n",
    "                #color_continuous_midpoint=np.average(df['AnzBestWir'], weights=df['AnzBestWir']))\n",
    "fig.update_traces(root_color=\"lightgrey\")\n",
    "fig.update_layout(margin = dict(t=50, l=25, r=250, b=25))\n",
    "fig.show()\n",
    "\n"
   ]
  },
  {
   "cell_type": "code",
   "execution_count": 173,
   "metadata": {},
   "outputs": [
    {
     "ename": "ValueError",
     "evalue": "Hierarchical indices not supported",
     "output_type": "error",
     "traceback": [
      "\u001b[1;31m---------------------------------------------------------------------------\u001b[0m",
      "\u001b[1;31mValueError\u001b[0m                                Traceback (most recent call last)",
      "\u001b[1;32mC:\\ProgramData\\Anaconda3\\envs\\gis_env\\lib\\site-packages\\altair\\vegalite\\v4\\api.py\u001b[0m in \u001b[0;36mto_dict\u001b[1;34m(self, *args, **kwargs)\u001b[0m\n\u001b[0;32m    361\u001b[0m         \u001b[0mcopy\u001b[0m \u001b[1;33m=\u001b[0m \u001b[0mself\u001b[0m\u001b[1;33m.\u001b[0m\u001b[0mcopy\u001b[0m\u001b[1;33m(\u001b[0m\u001b[0mdeep\u001b[0m\u001b[1;33m=\u001b[0m\u001b[1;32mFalse\u001b[0m\u001b[1;33m)\u001b[0m\u001b[1;33m\u001b[0m\u001b[1;33m\u001b[0m\u001b[0m\n\u001b[0;32m    362\u001b[0m         \u001b[0moriginal_data\u001b[0m \u001b[1;33m=\u001b[0m \u001b[0mgetattr\u001b[0m\u001b[1;33m(\u001b[0m\u001b[0mcopy\u001b[0m\u001b[1;33m,\u001b[0m \u001b[1;34m\"data\"\u001b[0m\u001b[1;33m,\u001b[0m \u001b[0mUndefined\u001b[0m\u001b[1;33m)\u001b[0m\u001b[1;33m\u001b[0m\u001b[1;33m\u001b[0m\u001b[0m\n\u001b[1;32m--> 363\u001b[1;33m         \u001b[0mcopy\u001b[0m\u001b[1;33m.\u001b[0m\u001b[0mdata\u001b[0m \u001b[1;33m=\u001b[0m \u001b[0m_prepare_data\u001b[0m\u001b[1;33m(\u001b[0m\u001b[0moriginal_data\u001b[0m\u001b[1;33m,\u001b[0m \u001b[0mcontext\u001b[0m\u001b[1;33m)\u001b[0m\u001b[1;33m\u001b[0m\u001b[1;33m\u001b[0m\u001b[0m\n\u001b[0m\u001b[0;32m    364\u001b[0m \u001b[1;33m\u001b[0m\u001b[0m\n\u001b[0;32m    365\u001b[0m         \u001b[1;32mif\u001b[0m \u001b[0moriginal_data\u001b[0m \u001b[1;32mis\u001b[0m \u001b[1;32mnot\u001b[0m \u001b[0mUndefined\u001b[0m\u001b[1;33m:\u001b[0m\u001b[1;33m\u001b[0m\u001b[1;33m\u001b[0m\u001b[0m\n",
      "\u001b[1;32mC:\\ProgramData\\Anaconda3\\envs\\gis_env\\lib\\site-packages\\altair\\vegalite\\v4\\api.py\u001b[0m in \u001b[0;36m_prepare_data\u001b[1;34m(data, context)\u001b[0m\n\u001b[0;32m     82\u001b[0m     \u001b[1;31m# convert dataframes  or objects with __geo_interface__ to dict\u001b[0m\u001b[1;33m\u001b[0m\u001b[1;33m\u001b[0m\u001b[0m\n\u001b[0;32m     83\u001b[0m     \u001b[1;32mif\u001b[0m \u001b[0misinstance\u001b[0m\u001b[1;33m(\u001b[0m\u001b[0mdata\u001b[0m\u001b[1;33m,\u001b[0m \u001b[0mpd\u001b[0m\u001b[1;33m.\u001b[0m\u001b[0mDataFrame\u001b[0m\u001b[1;33m)\u001b[0m \u001b[1;32mor\u001b[0m \u001b[0mhasattr\u001b[0m\u001b[1;33m(\u001b[0m\u001b[0mdata\u001b[0m\u001b[1;33m,\u001b[0m \u001b[1;34m\"__geo_interface__\"\u001b[0m\u001b[1;33m)\u001b[0m\u001b[1;33m:\u001b[0m\u001b[1;33m\u001b[0m\u001b[1;33m\u001b[0m\u001b[0m\n\u001b[1;32m---> 84\u001b[1;33m         \u001b[0mdata\u001b[0m \u001b[1;33m=\u001b[0m \u001b[0m_pipe\u001b[0m\u001b[1;33m(\u001b[0m\u001b[0mdata\u001b[0m\u001b[1;33m,\u001b[0m \u001b[0mdata_transformers\u001b[0m\u001b[1;33m.\u001b[0m\u001b[0mget\u001b[0m\u001b[1;33m(\u001b[0m\u001b[1;33m)\u001b[0m\u001b[1;33m)\u001b[0m\u001b[1;33m\u001b[0m\u001b[1;33m\u001b[0m\u001b[0m\n\u001b[0m\u001b[0;32m     85\u001b[0m \u001b[1;33m\u001b[0m\u001b[0m\n\u001b[0;32m     86\u001b[0m     \u001b[1;31m# convert string input to a URLData\u001b[0m\u001b[1;33m\u001b[0m\u001b[1;33m\u001b[0m\u001b[0m\n",
      "\u001b[1;32mC:\\ProgramData\\Anaconda3\\envs\\gis_env\\lib\\site-packages\\toolz\\functoolz.py\u001b[0m in \u001b[0;36mpipe\u001b[1;34m(data, *funcs)\u001b[0m\n\u001b[0;32m    625\u001b[0m     \"\"\"\n\u001b[0;32m    626\u001b[0m     \u001b[1;32mfor\u001b[0m \u001b[0mfunc\u001b[0m \u001b[1;32min\u001b[0m \u001b[0mfuncs\u001b[0m\u001b[1;33m:\u001b[0m\u001b[1;33m\u001b[0m\u001b[1;33m\u001b[0m\u001b[0m\n\u001b[1;32m--> 627\u001b[1;33m         \u001b[0mdata\u001b[0m \u001b[1;33m=\u001b[0m \u001b[0mfunc\u001b[0m\u001b[1;33m(\u001b[0m\u001b[0mdata\u001b[0m\u001b[1;33m)\u001b[0m\u001b[1;33m\u001b[0m\u001b[1;33m\u001b[0m\u001b[0m\n\u001b[0m\u001b[0;32m    628\u001b[0m     \u001b[1;32mreturn\u001b[0m \u001b[0mdata\u001b[0m\u001b[1;33m\u001b[0m\u001b[1;33m\u001b[0m\u001b[0m\n\u001b[0;32m    629\u001b[0m \u001b[1;33m\u001b[0m\u001b[0m\n",
      "\u001b[1;32mC:\\ProgramData\\Anaconda3\\envs\\gis_env\\lib\\site-packages\\toolz\\functoolz.py\u001b[0m in \u001b[0;36m__call__\u001b[1;34m(self, *args, **kwargs)\u001b[0m\n\u001b[0;32m    301\u001b[0m     \u001b[1;32mdef\u001b[0m \u001b[0m__call__\u001b[0m\u001b[1;33m(\u001b[0m\u001b[0mself\u001b[0m\u001b[1;33m,\u001b[0m \u001b[1;33m*\u001b[0m\u001b[0margs\u001b[0m\u001b[1;33m,\u001b[0m \u001b[1;33m**\u001b[0m\u001b[0mkwargs\u001b[0m\u001b[1;33m)\u001b[0m\u001b[1;33m:\u001b[0m\u001b[1;33m\u001b[0m\u001b[1;33m\u001b[0m\u001b[0m\n\u001b[0;32m    302\u001b[0m         \u001b[1;32mtry\u001b[0m\u001b[1;33m:\u001b[0m\u001b[1;33m\u001b[0m\u001b[1;33m\u001b[0m\u001b[0m\n\u001b[1;32m--> 303\u001b[1;33m             \u001b[1;32mreturn\u001b[0m \u001b[0mself\u001b[0m\u001b[1;33m.\u001b[0m\u001b[0m_partial\u001b[0m\u001b[1;33m(\u001b[0m\u001b[1;33m*\u001b[0m\u001b[0margs\u001b[0m\u001b[1;33m,\u001b[0m \u001b[1;33m**\u001b[0m\u001b[0mkwargs\u001b[0m\u001b[1;33m)\u001b[0m\u001b[1;33m\u001b[0m\u001b[1;33m\u001b[0m\u001b[0m\n\u001b[0m\u001b[0;32m    304\u001b[0m         \u001b[1;32mexcept\u001b[0m \u001b[0mTypeError\u001b[0m \u001b[1;32mas\u001b[0m \u001b[0mexc\u001b[0m\u001b[1;33m:\u001b[0m\u001b[1;33m\u001b[0m\u001b[1;33m\u001b[0m\u001b[0m\n\u001b[0;32m    305\u001b[0m             \u001b[1;32mif\u001b[0m \u001b[0mself\u001b[0m\u001b[1;33m.\u001b[0m\u001b[0m_should_curry\u001b[0m\u001b[1;33m(\u001b[0m\u001b[0margs\u001b[0m\u001b[1;33m,\u001b[0m \u001b[0mkwargs\u001b[0m\u001b[1;33m,\u001b[0m \u001b[0mexc\u001b[0m\u001b[1;33m)\u001b[0m\u001b[1;33m:\u001b[0m\u001b[1;33m\u001b[0m\u001b[1;33m\u001b[0m\u001b[0m\n",
      "\u001b[1;32mC:\\ProgramData\\Anaconda3\\envs\\gis_env\\lib\\site-packages\\altair\\vegalite\\data.py\u001b[0m in \u001b[0;36mdefault_data_transformer\u001b[1;34m(data, max_rows)\u001b[0m\n\u001b[0;32m     17\u001b[0m \u001b[1;33m@\u001b[0m\u001b[0mcurried\u001b[0m\u001b[1;33m.\u001b[0m\u001b[0mcurry\u001b[0m\u001b[1;33m\u001b[0m\u001b[1;33m\u001b[0m\u001b[0m\n\u001b[0;32m     18\u001b[0m \u001b[1;32mdef\u001b[0m \u001b[0mdefault_data_transformer\u001b[0m\u001b[1;33m(\u001b[0m\u001b[0mdata\u001b[0m\u001b[1;33m,\u001b[0m \u001b[0mmax_rows\u001b[0m\u001b[1;33m=\u001b[0m\u001b[1;36m5000\u001b[0m\u001b[1;33m)\u001b[0m\u001b[1;33m:\u001b[0m\u001b[1;33m\u001b[0m\u001b[1;33m\u001b[0m\u001b[0m\n\u001b[1;32m---> 19\u001b[1;33m     \u001b[1;32mreturn\u001b[0m \u001b[0mcurried\u001b[0m\u001b[1;33m.\u001b[0m\u001b[0mpipe\u001b[0m\u001b[1;33m(\u001b[0m\u001b[0mdata\u001b[0m\u001b[1;33m,\u001b[0m \u001b[0mlimit_rows\u001b[0m\u001b[1;33m(\u001b[0m\u001b[0mmax_rows\u001b[0m\u001b[1;33m=\u001b[0m\u001b[0mmax_rows\u001b[0m\u001b[1;33m)\u001b[0m\u001b[1;33m,\u001b[0m \u001b[0mto_values\u001b[0m\u001b[1;33m)\u001b[0m\u001b[1;33m\u001b[0m\u001b[1;33m\u001b[0m\u001b[0m\n\u001b[0m\u001b[0;32m     20\u001b[0m \u001b[1;33m\u001b[0m\u001b[0m\n\u001b[0;32m     21\u001b[0m \u001b[1;33m\u001b[0m\u001b[0m\n",
      "\u001b[1;32mC:\\ProgramData\\Anaconda3\\envs\\gis_env\\lib\\site-packages\\toolz\\functoolz.py\u001b[0m in \u001b[0;36mpipe\u001b[1;34m(data, *funcs)\u001b[0m\n\u001b[0;32m    625\u001b[0m     \"\"\"\n\u001b[0;32m    626\u001b[0m     \u001b[1;32mfor\u001b[0m \u001b[0mfunc\u001b[0m \u001b[1;32min\u001b[0m \u001b[0mfuncs\u001b[0m\u001b[1;33m:\u001b[0m\u001b[1;33m\u001b[0m\u001b[1;33m\u001b[0m\u001b[0m\n\u001b[1;32m--> 627\u001b[1;33m         \u001b[0mdata\u001b[0m \u001b[1;33m=\u001b[0m \u001b[0mfunc\u001b[0m\u001b[1;33m(\u001b[0m\u001b[0mdata\u001b[0m\u001b[1;33m)\u001b[0m\u001b[1;33m\u001b[0m\u001b[1;33m\u001b[0m\u001b[0m\n\u001b[0m\u001b[0;32m    628\u001b[0m     \u001b[1;32mreturn\u001b[0m \u001b[0mdata\u001b[0m\u001b[1;33m\u001b[0m\u001b[1;33m\u001b[0m\u001b[0m\n\u001b[0;32m    629\u001b[0m \u001b[1;33m\u001b[0m\u001b[0m\n",
      "\u001b[1;32mC:\\ProgramData\\Anaconda3\\envs\\gis_env\\lib\\site-packages\\toolz\\functoolz.py\u001b[0m in \u001b[0;36m__call__\u001b[1;34m(self, *args, **kwargs)\u001b[0m\n\u001b[0;32m    301\u001b[0m     \u001b[1;32mdef\u001b[0m \u001b[0m__call__\u001b[0m\u001b[1;33m(\u001b[0m\u001b[0mself\u001b[0m\u001b[1;33m,\u001b[0m \u001b[1;33m*\u001b[0m\u001b[0margs\u001b[0m\u001b[1;33m,\u001b[0m \u001b[1;33m**\u001b[0m\u001b[0mkwargs\u001b[0m\u001b[1;33m)\u001b[0m\u001b[1;33m:\u001b[0m\u001b[1;33m\u001b[0m\u001b[1;33m\u001b[0m\u001b[0m\n\u001b[0;32m    302\u001b[0m         \u001b[1;32mtry\u001b[0m\u001b[1;33m:\u001b[0m\u001b[1;33m\u001b[0m\u001b[1;33m\u001b[0m\u001b[0m\n\u001b[1;32m--> 303\u001b[1;33m             \u001b[1;32mreturn\u001b[0m \u001b[0mself\u001b[0m\u001b[1;33m.\u001b[0m\u001b[0m_partial\u001b[0m\u001b[1;33m(\u001b[0m\u001b[1;33m*\u001b[0m\u001b[0margs\u001b[0m\u001b[1;33m,\u001b[0m \u001b[1;33m**\u001b[0m\u001b[0mkwargs\u001b[0m\u001b[1;33m)\u001b[0m\u001b[1;33m\u001b[0m\u001b[1;33m\u001b[0m\u001b[0m\n\u001b[0m\u001b[0;32m    304\u001b[0m         \u001b[1;32mexcept\u001b[0m \u001b[0mTypeError\u001b[0m \u001b[1;32mas\u001b[0m \u001b[0mexc\u001b[0m\u001b[1;33m:\u001b[0m\u001b[1;33m\u001b[0m\u001b[1;33m\u001b[0m\u001b[0m\n\u001b[0;32m    305\u001b[0m             \u001b[1;32mif\u001b[0m \u001b[0mself\u001b[0m\u001b[1;33m.\u001b[0m\u001b[0m_should_curry\u001b[0m\u001b[1;33m(\u001b[0m\u001b[0margs\u001b[0m\u001b[1;33m,\u001b[0m \u001b[0mkwargs\u001b[0m\u001b[1;33m,\u001b[0m \u001b[0mexc\u001b[0m\u001b[1;33m)\u001b[0m\u001b[1;33m:\u001b[0m\u001b[1;33m\u001b[0m\u001b[1;33m\u001b[0m\u001b[0m\n",
      "\u001b[1;32mC:\\ProgramData\\Anaconda3\\envs\\gis_env\\lib\\site-packages\\altair\\utils\\data.py\u001b[0m in \u001b[0;36mto_values\u001b[1;34m(data)\u001b[0m\n\u001b[0;32m    147\u001b[0m         \u001b[1;32mreturn\u001b[0m \u001b[1;33m{\u001b[0m\u001b[1;34m\"values\"\u001b[0m\u001b[1;33m:\u001b[0m \u001b[0mdata\u001b[0m\u001b[1;33m}\u001b[0m\u001b[1;33m\u001b[0m\u001b[1;33m\u001b[0m\u001b[0m\n\u001b[0;32m    148\u001b[0m     \u001b[1;32melif\u001b[0m \u001b[0misinstance\u001b[0m\u001b[1;33m(\u001b[0m\u001b[0mdata\u001b[0m\u001b[1;33m,\u001b[0m \u001b[0mpd\u001b[0m\u001b[1;33m.\u001b[0m\u001b[0mDataFrame\u001b[0m\u001b[1;33m)\u001b[0m\u001b[1;33m:\u001b[0m\u001b[1;33m\u001b[0m\u001b[1;33m\u001b[0m\u001b[0m\n\u001b[1;32m--> 149\u001b[1;33m         \u001b[0mdata\u001b[0m \u001b[1;33m=\u001b[0m \u001b[0msanitize_dataframe\u001b[0m\u001b[1;33m(\u001b[0m\u001b[0mdata\u001b[0m\u001b[1;33m)\u001b[0m\u001b[1;33m\u001b[0m\u001b[1;33m\u001b[0m\u001b[0m\n\u001b[0m\u001b[0;32m    150\u001b[0m         \u001b[1;32mreturn\u001b[0m \u001b[1;33m{\u001b[0m\u001b[1;34m\"values\"\u001b[0m\u001b[1;33m:\u001b[0m \u001b[0mdata\u001b[0m\u001b[1;33m.\u001b[0m\u001b[0mto_dict\u001b[0m\u001b[1;33m(\u001b[0m\u001b[0morient\u001b[0m\u001b[1;33m=\u001b[0m\u001b[1;34m\"records\"\u001b[0m\u001b[1;33m)\u001b[0m\u001b[1;33m}\u001b[0m\u001b[1;33m\u001b[0m\u001b[1;33m\u001b[0m\u001b[0m\n\u001b[0;32m    151\u001b[0m     \u001b[1;32melif\u001b[0m \u001b[0misinstance\u001b[0m\u001b[1;33m(\u001b[0m\u001b[0mdata\u001b[0m\u001b[1;33m,\u001b[0m \u001b[0mdict\u001b[0m\u001b[1;33m)\u001b[0m\u001b[1;33m:\u001b[0m\u001b[1;33m\u001b[0m\u001b[1;33m\u001b[0m\u001b[0m\n",
      "\u001b[1;32mC:\\ProgramData\\Anaconda3\\envs\\gis_env\\lib\\site-packages\\altair\\utils\\core.py\u001b[0m in \u001b[0;36msanitize_dataframe\u001b[1;34m(df)\u001b[0m\n\u001b[0;32m    271\u001b[0m \u001b[1;33m\u001b[0m\u001b[0m\n\u001b[0;32m    272\u001b[0m     \u001b[1;32mif\u001b[0m \u001b[0misinstance\u001b[0m\u001b[1;33m(\u001b[0m\u001b[0mdf\u001b[0m\u001b[1;33m.\u001b[0m\u001b[0mindex\u001b[0m\u001b[1;33m,\u001b[0m \u001b[0mpd\u001b[0m\u001b[1;33m.\u001b[0m\u001b[0mMultiIndex\u001b[0m\u001b[1;33m)\u001b[0m\u001b[1;33m:\u001b[0m\u001b[1;33m\u001b[0m\u001b[1;33m\u001b[0m\u001b[0m\n\u001b[1;32m--> 273\u001b[1;33m         \u001b[1;32mraise\u001b[0m \u001b[0mValueError\u001b[0m\u001b[1;33m(\u001b[0m\u001b[1;34m\"Hierarchical indices not supported\"\u001b[0m\u001b[1;33m)\u001b[0m\u001b[1;33m\u001b[0m\u001b[1;33m\u001b[0m\u001b[0m\n\u001b[0m\u001b[0;32m    274\u001b[0m     \u001b[1;32mif\u001b[0m \u001b[0misinstance\u001b[0m\u001b[1;33m(\u001b[0m\u001b[0mdf\u001b[0m\u001b[1;33m.\u001b[0m\u001b[0mcolumns\u001b[0m\u001b[1;33m,\u001b[0m \u001b[0mpd\u001b[0m\u001b[1;33m.\u001b[0m\u001b[0mMultiIndex\u001b[0m\u001b[1;33m)\u001b[0m\u001b[1;33m:\u001b[0m\u001b[1;33m\u001b[0m\u001b[1;33m\u001b[0m\u001b[0m\n\u001b[0;32m    275\u001b[0m         \u001b[1;32mraise\u001b[0m \u001b[0mValueError\u001b[0m\u001b[1;33m(\u001b[0m\u001b[1;34m\"Hierarchical indices not supported\"\u001b[0m\u001b[1;33m)\u001b[0m\u001b[1;33m\u001b[0m\u001b[1;33m\u001b[0m\u001b[0m\n",
      "\u001b[1;31mValueError\u001b[0m: Hierarchical indices not supported"
     ]
    },
    {
     "data": {
      "text/plain": [
       "alt.Chart(...)"
      ]
     },
     "execution_count": 173,
     "metadata": {},
     "output_type": "execute_result"
    }
   ],
   "source": [
    "# df_statzonen = df_statzonen[(df_statzonen.knr>0) & (df_statzonen.qname!=\"Hirslanden\")]\n",
    "#aktuellesJahr[[aktuellesJahr.KreisSort =7]])\n",
    "highlight = alt.selection(type='single', on='mouseover',\n",
    "                          fields=['BauperiodeLang'], nearest=True)\n",
    "#x='date:StichtagDatJahr',\n",
    "base = alt.Chart(myGraph).encode(\n",
    "    x='KreisLang',\n",
    "    y='AnzWhg',\n",
    "    color='BauperiodeLang'\n",
    ")\n",
    "\n",
    "points = base.mark_circle().encode(\n",
    "    opacity=alt.value(1)\n",
    ").add_selection(\n",
    "    highlight\n",
    ").properties(\n",
    "    width=700 , height=300\n",
    ")\n",
    "lines = base.mark_line().encode(\n",
    "    size=alt.condition(~highlight, alt.value(1.5), alt.value(4))\n",
    ").interactive()\n",
    "\n",
    "#points + lines\n",
    "points"
   ]
  },
  {
   "cell_type": "code",
   "execution_count": 174,
   "metadata": {},
   "outputs": [
    {
     "ename": "MaxRowsError",
     "evalue": "The number of rows in your dataset is greater than the maximum allowed (5000). For information on how to plot larger datasets in Altair, see the documentation",
     "output_type": "error",
     "traceback": [
      "\u001b[1;31m---------------------------------------------------------------------------\u001b[0m",
      "\u001b[1;31mMaxRowsError\u001b[0m                              Traceback (most recent call last)",
      "\u001b[1;32mC:\\ProgramData\\Anaconda3\\envs\\gis_env\\lib\\site-packages\\altair\\vegalite\\v4\\api.py\u001b[0m in \u001b[0;36mto_dict\u001b[1;34m(self, *args, **kwargs)\u001b[0m\n\u001b[0;32m    361\u001b[0m         \u001b[0mcopy\u001b[0m \u001b[1;33m=\u001b[0m \u001b[0mself\u001b[0m\u001b[1;33m.\u001b[0m\u001b[0mcopy\u001b[0m\u001b[1;33m(\u001b[0m\u001b[0mdeep\u001b[0m\u001b[1;33m=\u001b[0m\u001b[1;32mFalse\u001b[0m\u001b[1;33m)\u001b[0m\u001b[1;33m\u001b[0m\u001b[1;33m\u001b[0m\u001b[0m\n\u001b[0;32m    362\u001b[0m         \u001b[0moriginal_data\u001b[0m \u001b[1;33m=\u001b[0m \u001b[0mgetattr\u001b[0m\u001b[1;33m(\u001b[0m\u001b[0mcopy\u001b[0m\u001b[1;33m,\u001b[0m \u001b[1;34m\"data\"\u001b[0m\u001b[1;33m,\u001b[0m \u001b[0mUndefined\u001b[0m\u001b[1;33m)\u001b[0m\u001b[1;33m\u001b[0m\u001b[1;33m\u001b[0m\u001b[0m\n\u001b[1;32m--> 363\u001b[1;33m         \u001b[0mcopy\u001b[0m\u001b[1;33m.\u001b[0m\u001b[0mdata\u001b[0m \u001b[1;33m=\u001b[0m \u001b[0m_prepare_data\u001b[0m\u001b[1;33m(\u001b[0m\u001b[0moriginal_data\u001b[0m\u001b[1;33m,\u001b[0m \u001b[0mcontext\u001b[0m\u001b[1;33m)\u001b[0m\u001b[1;33m\u001b[0m\u001b[1;33m\u001b[0m\u001b[0m\n\u001b[0m\u001b[0;32m    364\u001b[0m \u001b[1;33m\u001b[0m\u001b[0m\n\u001b[0;32m    365\u001b[0m         \u001b[1;32mif\u001b[0m \u001b[0moriginal_data\u001b[0m \u001b[1;32mis\u001b[0m \u001b[1;32mnot\u001b[0m \u001b[0mUndefined\u001b[0m\u001b[1;33m:\u001b[0m\u001b[1;33m\u001b[0m\u001b[1;33m\u001b[0m\u001b[0m\n",
      "\u001b[1;32mC:\\ProgramData\\Anaconda3\\envs\\gis_env\\lib\\site-packages\\altair\\vegalite\\v4\\api.py\u001b[0m in \u001b[0;36m_prepare_data\u001b[1;34m(data, context)\u001b[0m\n\u001b[0;32m     82\u001b[0m     \u001b[1;31m# convert dataframes  or objects with __geo_interface__ to dict\u001b[0m\u001b[1;33m\u001b[0m\u001b[1;33m\u001b[0m\u001b[0m\n\u001b[0;32m     83\u001b[0m     \u001b[1;32mif\u001b[0m \u001b[0misinstance\u001b[0m\u001b[1;33m(\u001b[0m\u001b[0mdata\u001b[0m\u001b[1;33m,\u001b[0m \u001b[0mpd\u001b[0m\u001b[1;33m.\u001b[0m\u001b[0mDataFrame\u001b[0m\u001b[1;33m)\u001b[0m \u001b[1;32mor\u001b[0m \u001b[0mhasattr\u001b[0m\u001b[1;33m(\u001b[0m\u001b[0mdata\u001b[0m\u001b[1;33m,\u001b[0m \u001b[1;34m\"__geo_interface__\"\u001b[0m\u001b[1;33m)\u001b[0m\u001b[1;33m:\u001b[0m\u001b[1;33m\u001b[0m\u001b[1;33m\u001b[0m\u001b[0m\n\u001b[1;32m---> 84\u001b[1;33m         \u001b[0mdata\u001b[0m \u001b[1;33m=\u001b[0m \u001b[0m_pipe\u001b[0m\u001b[1;33m(\u001b[0m\u001b[0mdata\u001b[0m\u001b[1;33m,\u001b[0m \u001b[0mdata_transformers\u001b[0m\u001b[1;33m.\u001b[0m\u001b[0mget\u001b[0m\u001b[1;33m(\u001b[0m\u001b[1;33m)\u001b[0m\u001b[1;33m)\u001b[0m\u001b[1;33m\u001b[0m\u001b[1;33m\u001b[0m\u001b[0m\n\u001b[0m\u001b[0;32m     85\u001b[0m \u001b[1;33m\u001b[0m\u001b[0m\n\u001b[0;32m     86\u001b[0m     \u001b[1;31m# convert string input to a URLData\u001b[0m\u001b[1;33m\u001b[0m\u001b[1;33m\u001b[0m\u001b[0m\n",
      "\u001b[1;32mC:\\ProgramData\\Anaconda3\\envs\\gis_env\\lib\\site-packages\\toolz\\functoolz.py\u001b[0m in \u001b[0;36mpipe\u001b[1;34m(data, *funcs)\u001b[0m\n\u001b[0;32m    625\u001b[0m     \"\"\"\n\u001b[0;32m    626\u001b[0m     \u001b[1;32mfor\u001b[0m \u001b[0mfunc\u001b[0m \u001b[1;32min\u001b[0m \u001b[0mfuncs\u001b[0m\u001b[1;33m:\u001b[0m\u001b[1;33m\u001b[0m\u001b[1;33m\u001b[0m\u001b[0m\n\u001b[1;32m--> 627\u001b[1;33m         \u001b[0mdata\u001b[0m \u001b[1;33m=\u001b[0m \u001b[0mfunc\u001b[0m\u001b[1;33m(\u001b[0m\u001b[0mdata\u001b[0m\u001b[1;33m)\u001b[0m\u001b[1;33m\u001b[0m\u001b[1;33m\u001b[0m\u001b[0m\n\u001b[0m\u001b[0;32m    628\u001b[0m     \u001b[1;32mreturn\u001b[0m \u001b[0mdata\u001b[0m\u001b[1;33m\u001b[0m\u001b[1;33m\u001b[0m\u001b[0m\n\u001b[0;32m    629\u001b[0m \u001b[1;33m\u001b[0m\u001b[0m\n",
      "\u001b[1;32mC:\\ProgramData\\Anaconda3\\envs\\gis_env\\lib\\site-packages\\toolz\\functoolz.py\u001b[0m in \u001b[0;36m__call__\u001b[1;34m(self, *args, **kwargs)\u001b[0m\n\u001b[0;32m    301\u001b[0m     \u001b[1;32mdef\u001b[0m \u001b[0m__call__\u001b[0m\u001b[1;33m(\u001b[0m\u001b[0mself\u001b[0m\u001b[1;33m,\u001b[0m \u001b[1;33m*\u001b[0m\u001b[0margs\u001b[0m\u001b[1;33m,\u001b[0m \u001b[1;33m**\u001b[0m\u001b[0mkwargs\u001b[0m\u001b[1;33m)\u001b[0m\u001b[1;33m:\u001b[0m\u001b[1;33m\u001b[0m\u001b[1;33m\u001b[0m\u001b[0m\n\u001b[0;32m    302\u001b[0m         \u001b[1;32mtry\u001b[0m\u001b[1;33m:\u001b[0m\u001b[1;33m\u001b[0m\u001b[1;33m\u001b[0m\u001b[0m\n\u001b[1;32m--> 303\u001b[1;33m             \u001b[1;32mreturn\u001b[0m \u001b[0mself\u001b[0m\u001b[1;33m.\u001b[0m\u001b[0m_partial\u001b[0m\u001b[1;33m(\u001b[0m\u001b[1;33m*\u001b[0m\u001b[0margs\u001b[0m\u001b[1;33m,\u001b[0m \u001b[1;33m**\u001b[0m\u001b[0mkwargs\u001b[0m\u001b[1;33m)\u001b[0m\u001b[1;33m\u001b[0m\u001b[1;33m\u001b[0m\u001b[0m\n\u001b[0m\u001b[0;32m    304\u001b[0m         \u001b[1;32mexcept\u001b[0m \u001b[0mTypeError\u001b[0m \u001b[1;32mas\u001b[0m \u001b[0mexc\u001b[0m\u001b[1;33m:\u001b[0m\u001b[1;33m\u001b[0m\u001b[1;33m\u001b[0m\u001b[0m\n\u001b[0;32m    305\u001b[0m             \u001b[1;32mif\u001b[0m \u001b[0mself\u001b[0m\u001b[1;33m.\u001b[0m\u001b[0m_should_curry\u001b[0m\u001b[1;33m(\u001b[0m\u001b[0margs\u001b[0m\u001b[1;33m,\u001b[0m \u001b[0mkwargs\u001b[0m\u001b[1;33m,\u001b[0m \u001b[0mexc\u001b[0m\u001b[1;33m)\u001b[0m\u001b[1;33m:\u001b[0m\u001b[1;33m\u001b[0m\u001b[1;33m\u001b[0m\u001b[0m\n",
      "\u001b[1;32mC:\\ProgramData\\Anaconda3\\envs\\gis_env\\lib\\site-packages\\altair\\vegalite\\data.py\u001b[0m in \u001b[0;36mdefault_data_transformer\u001b[1;34m(data, max_rows)\u001b[0m\n\u001b[0;32m     17\u001b[0m \u001b[1;33m@\u001b[0m\u001b[0mcurried\u001b[0m\u001b[1;33m.\u001b[0m\u001b[0mcurry\u001b[0m\u001b[1;33m\u001b[0m\u001b[1;33m\u001b[0m\u001b[0m\n\u001b[0;32m     18\u001b[0m \u001b[1;32mdef\u001b[0m \u001b[0mdefault_data_transformer\u001b[0m\u001b[1;33m(\u001b[0m\u001b[0mdata\u001b[0m\u001b[1;33m,\u001b[0m \u001b[0mmax_rows\u001b[0m\u001b[1;33m=\u001b[0m\u001b[1;36m5000\u001b[0m\u001b[1;33m)\u001b[0m\u001b[1;33m:\u001b[0m\u001b[1;33m\u001b[0m\u001b[1;33m\u001b[0m\u001b[0m\n\u001b[1;32m---> 19\u001b[1;33m     \u001b[1;32mreturn\u001b[0m \u001b[0mcurried\u001b[0m\u001b[1;33m.\u001b[0m\u001b[0mpipe\u001b[0m\u001b[1;33m(\u001b[0m\u001b[0mdata\u001b[0m\u001b[1;33m,\u001b[0m \u001b[0mlimit_rows\u001b[0m\u001b[1;33m(\u001b[0m\u001b[0mmax_rows\u001b[0m\u001b[1;33m=\u001b[0m\u001b[0mmax_rows\u001b[0m\u001b[1;33m)\u001b[0m\u001b[1;33m,\u001b[0m \u001b[0mto_values\u001b[0m\u001b[1;33m)\u001b[0m\u001b[1;33m\u001b[0m\u001b[1;33m\u001b[0m\u001b[0m\n\u001b[0m\u001b[0;32m     20\u001b[0m \u001b[1;33m\u001b[0m\u001b[0m\n\u001b[0;32m     21\u001b[0m \u001b[1;33m\u001b[0m\u001b[0m\n",
      "\u001b[1;32mC:\\ProgramData\\Anaconda3\\envs\\gis_env\\lib\\site-packages\\toolz\\functoolz.py\u001b[0m in \u001b[0;36mpipe\u001b[1;34m(data, *funcs)\u001b[0m\n\u001b[0;32m    625\u001b[0m     \"\"\"\n\u001b[0;32m    626\u001b[0m     \u001b[1;32mfor\u001b[0m \u001b[0mfunc\u001b[0m \u001b[1;32min\u001b[0m \u001b[0mfuncs\u001b[0m\u001b[1;33m:\u001b[0m\u001b[1;33m\u001b[0m\u001b[1;33m\u001b[0m\u001b[0m\n\u001b[1;32m--> 627\u001b[1;33m         \u001b[0mdata\u001b[0m \u001b[1;33m=\u001b[0m \u001b[0mfunc\u001b[0m\u001b[1;33m(\u001b[0m\u001b[0mdata\u001b[0m\u001b[1;33m)\u001b[0m\u001b[1;33m\u001b[0m\u001b[1;33m\u001b[0m\u001b[0m\n\u001b[0m\u001b[0;32m    628\u001b[0m     \u001b[1;32mreturn\u001b[0m \u001b[0mdata\u001b[0m\u001b[1;33m\u001b[0m\u001b[1;33m\u001b[0m\u001b[0m\n\u001b[0;32m    629\u001b[0m \u001b[1;33m\u001b[0m\u001b[0m\n",
      "\u001b[1;32mC:\\ProgramData\\Anaconda3\\envs\\gis_env\\lib\\site-packages\\toolz\\functoolz.py\u001b[0m in \u001b[0;36m__call__\u001b[1;34m(self, *args, **kwargs)\u001b[0m\n\u001b[0;32m    301\u001b[0m     \u001b[1;32mdef\u001b[0m \u001b[0m__call__\u001b[0m\u001b[1;33m(\u001b[0m\u001b[0mself\u001b[0m\u001b[1;33m,\u001b[0m \u001b[1;33m*\u001b[0m\u001b[0margs\u001b[0m\u001b[1;33m,\u001b[0m \u001b[1;33m**\u001b[0m\u001b[0mkwargs\u001b[0m\u001b[1;33m)\u001b[0m\u001b[1;33m:\u001b[0m\u001b[1;33m\u001b[0m\u001b[1;33m\u001b[0m\u001b[0m\n\u001b[0;32m    302\u001b[0m         \u001b[1;32mtry\u001b[0m\u001b[1;33m:\u001b[0m\u001b[1;33m\u001b[0m\u001b[1;33m\u001b[0m\u001b[0m\n\u001b[1;32m--> 303\u001b[1;33m             \u001b[1;32mreturn\u001b[0m \u001b[0mself\u001b[0m\u001b[1;33m.\u001b[0m\u001b[0m_partial\u001b[0m\u001b[1;33m(\u001b[0m\u001b[1;33m*\u001b[0m\u001b[0margs\u001b[0m\u001b[1;33m,\u001b[0m \u001b[1;33m**\u001b[0m\u001b[0mkwargs\u001b[0m\u001b[1;33m)\u001b[0m\u001b[1;33m\u001b[0m\u001b[1;33m\u001b[0m\u001b[0m\n\u001b[0m\u001b[0;32m    304\u001b[0m         \u001b[1;32mexcept\u001b[0m \u001b[0mTypeError\u001b[0m \u001b[1;32mas\u001b[0m \u001b[0mexc\u001b[0m\u001b[1;33m:\u001b[0m\u001b[1;33m\u001b[0m\u001b[1;33m\u001b[0m\u001b[0m\n\u001b[0;32m    305\u001b[0m             \u001b[1;32mif\u001b[0m \u001b[0mself\u001b[0m\u001b[1;33m.\u001b[0m\u001b[0m_should_curry\u001b[0m\u001b[1;33m(\u001b[0m\u001b[0margs\u001b[0m\u001b[1;33m,\u001b[0m \u001b[0mkwargs\u001b[0m\u001b[1;33m,\u001b[0m \u001b[0mexc\u001b[0m\u001b[1;33m)\u001b[0m\u001b[1;33m:\u001b[0m\u001b[1;33m\u001b[0m\u001b[1;33m\u001b[0m\u001b[0m\n",
      "\u001b[1;32mC:\\ProgramData\\Anaconda3\\envs\\gis_env\\lib\\site-packages\\altair\\utils\\data.py\u001b[0m in \u001b[0;36mlimit_rows\u001b[1;34m(data, max_rows)\u001b[0m\n\u001b[0;32m     78\u001b[0m             \u001b[1;32mreturn\u001b[0m \u001b[0mdata\u001b[0m\u001b[1;33m\u001b[0m\u001b[1;33m\u001b[0m\u001b[0m\n\u001b[0;32m     79\u001b[0m     \u001b[1;32mif\u001b[0m \u001b[0mmax_rows\u001b[0m \u001b[1;32mis\u001b[0m \u001b[1;32mnot\u001b[0m \u001b[1;32mNone\u001b[0m \u001b[1;32mand\u001b[0m \u001b[0mlen\u001b[0m\u001b[1;33m(\u001b[0m\u001b[0mvalues\u001b[0m\u001b[1;33m)\u001b[0m \u001b[1;33m>\u001b[0m \u001b[0mmax_rows\u001b[0m\u001b[1;33m:\u001b[0m\u001b[1;33m\u001b[0m\u001b[1;33m\u001b[0m\u001b[0m\n\u001b[1;32m---> 80\u001b[1;33m         raise MaxRowsError(\n\u001b[0m\u001b[0;32m     81\u001b[0m             \u001b[1;34m\"The number of rows in your dataset is greater \"\u001b[0m\u001b[1;33m\u001b[0m\u001b[1;33m\u001b[0m\u001b[0m\n\u001b[0;32m     82\u001b[0m             \u001b[1;34m\"than the maximum allowed ({}). \"\u001b[0m\u001b[1;33m\u001b[0m\u001b[1;33m\u001b[0m\u001b[0m\n",
      "\u001b[1;31mMaxRowsError\u001b[0m: The number of rows in your dataset is greater than the maximum allowed (5000). For information on how to plot larger datasets in Altair, see the documentation"
     ]
    },
    {
     "data": {
      "text/plain": [
       "alt.Chart(...)"
      ]
     },
     "execution_count": 174,
     "metadata": {},
     "output_type": "execute_result"
    }
   ],
   "source": [
    "alt.Chart(data2betested).mark_circle(size=60).encode(\n",
    "    x='Jahr',\n",
    "    y='Nutzung',\n",
    "    #color='Nutzung',\n",
    "    #color=alt.Color('AnzNat', scale=alt.Scale(scheme='dark2')),\n",
    "    color=alt.Color('Nutzung', scale=alt.Scale(scheme='greens')),\n",
    "    tooltip=['Jahr','QuarLang','Nutzung','AnzWhg']\n",
    ").interactive() # this makes the axes interactive: now you can zoom & pan\n"
   ]
  },
  {
   "cell_type": "markdown",
   "metadata": {},
   "source": [
    "**Test: Choroplethenkarte**\n",
    "Importiere die Geodaten als GeoJSON"
   ]
  },
  {
   "cell_type": "code",
   "execution_count": 50,
   "metadata": {},
   "outputs": [
    {
     "data": {
      "text/html": [
       "<div>\n",
       "<style scoped>\n",
       "    .dataframe tbody tr th:only-of-type {\n",
       "        vertical-align: middle;\n",
       "    }\n",
       "\n",
       "    .dataframe tbody tr th {\n",
       "        vertical-align: top;\n",
       "    }\n",
       "\n",
       "    .dataframe thead th {\n",
       "        text-align: right;\n",
       "    }\n",
       "</style>\n",
       "<table border=\"1\" class=\"dataframe\">\n",
       "  <thead>\n",
       "    <tr style=\"text-align: right;\">\n",
       "      <th></th>\n",
       "      <th>id</th>\n",
       "      <th>kname</th>\n",
       "      <th>knr</th>\n",
       "      <th>objectid</th>\n",
       "      <th>objid</th>\n",
       "      <th>qname</th>\n",
       "      <th>qnr</th>\n",
       "      <th>geometry</th>\n",
       "    </tr>\n",
       "  </thead>\n",
       "  <tbody>\n",
       "    <tr>\n",
       "      <th>0</th>\n",
       "      <td>adm_statistische_quartiere_map.1</td>\n",
       "      <td>Kreis 7</td>\n",
       "      <td>7</td>\n",
       "      <td>1</td>\n",
       "      <td>34</td>\n",
       "      <td>Hirslanden</td>\n",
       "      <td>73</td>\n",
       "      <td>POLYGON ((8.55670 47.36406, 8.55682 47.36410, ...</td>\n",
       "    </tr>\n",
       "    <tr>\n",
       "      <th>1</th>\n",
       "      <td>adm_statistische_quartiere_map.2</td>\n",
       "      <td>Kreis 8</td>\n",
       "      <td>8</td>\n",
       "      <td>2</td>\n",
       "      <td>33</td>\n",
       "      <td>Weinegg</td>\n",
       "      <td>83</td>\n",
       "      <td>POLYGON ((8.55670 47.36405, 8.55672 47.36403, ...</td>\n",
       "    </tr>\n",
       "    <tr>\n",
       "      <th>2</th>\n",
       "      <td>adm_statistische_quartiere_map.3</td>\n",
       "      <td>Kreis 8</td>\n",
       "      <td>8</td>\n",
       "      <td>3</td>\n",
       "      <td>32</td>\n",
       "      <td>Mühlebach</td>\n",
       "      <td>82</td>\n",
       "      <td>POLYGON ((8.55423 47.36456, 8.55426 47.36452, ...</td>\n",
       "    </tr>\n",
       "    <tr>\n",
       "      <th>3</th>\n",
       "      <td>adm_statistische_quartiere_map.4</td>\n",
       "      <td>Kreis 8</td>\n",
       "      <td>8</td>\n",
       "      <td>4</td>\n",
       "      <td>31</td>\n",
       "      <td>Seefeld</td>\n",
       "      <td>81</td>\n",
       "      <td>POLYGON ((8.54795 47.36500, 8.54805 47.36489, ...</td>\n",
       "    </tr>\n",
       "    <tr>\n",
       "      <th>4</th>\n",
       "      <td>adm_statistische_quartiere_map.7</td>\n",
       "      <td>Kreis 4</td>\n",
       "      <td>4</td>\n",
       "      <td>7</td>\n",
       "      <td>16</td>\n",
       "      <td>Werd</td>\n",
       "      <td>41</td>\n",
       "      <td>POLYGON ((8.53300 47.37394, 8.53299 47.37392, ...</td>\n",
       "    </tr>\n",
       "  </tbody>\n",
       "</table>\n",
       "</div>"
      ],
      "text/plain": [
       "                                 id    kname  knr  objectid objid       qname  qnr  \\\n",
       "0  adm_statistische_quartiere_map.1  Kreis 7    7         1    34  Hirslanden   73   \n",
       "1  adm_statistische_quartiere_map.2  Kreis 8    8         2    33     Weinegg   83   \n",
       "2  adm_statistische_quartiere_map.3  Kreis 8    8         3    32   Mühlebach   82   \n",
       "3  adm_statistische_quartiere_map.4  Kreis 8    8         4    31     Seefeld   81   \n",
       "4  adm_statistische_quartiere_map.7  Kreis 4    4         7    16        Werd   41   \n",
       "\n",
       "                                            geometry  \n",
       "0  POLYGON ((8.55670 47.36406, 8.55682 47.36410, ...  \n",
       "1  POLYGON ((8.55670 47.36405, 8.55672 47.36403, ...  \n",
       "2  POLYGON ((8.55423 47.36456, 8.55426 47.36452, ...  \n",
       "3  POLYGON ((8.54795 47.36500, 8.54805 47.36489, ...  \n",
       "4  POLYGON ((8.53300 47.37394, 8.53299 47.37392, ...  "
      ]
     },
     "execution_count": 50,
     "metadata": {},
     "output_type": "execute_result"
    }
   ],
   "source": [
    "# Read abt. Geopandas https://geopandas.org/docs/user_guide/io.html\n",
    "# Wenn die Daten lokal agelegt sind, dann kannst Du folgendes machen:\n",
    "##input_stadtquartiere = r\"//szh.loc/ssz/data/GIS/Daten/Vektor/_aktuell/stzh.adm_statistische_quartiere_map.json\"\n",
    "##df_stadtquartiere = gpd.read_file(input_stadtquartiere)\n",
    "##df_stadtquartiere.head(2)\n",
    "#df_stadtkreise.dtypes\n",
    "\n",
    "geojson_url = \"https://www.ogd.stadt-zuerich.ch/wfs/geoportal/Statistische_Quartiere?service=WFS&version=1.1.0&request=GetFeature&outputFormat=GeoJSON&typename=adm_statistische_quartiere_map\"\n",
    "df_adm_statistische_quartiere_map = gpd.read_file(geojson_url)\n",
    "\n",
    "df_adm_statistische_quartiere_map.head(5)\n"
   ]
  },
  {
   "cell_type": "markdown",
   "metadata": {},
   "source": [
    "Joine die importierten statistischen Daten des aktuellen Jahres zum Geodatensatz:\n",
    "\n",
    "*Siehe dazu Doku zu [Geopandas](https://geopandas.org/docs/user_guide/mergingdata.html)*"
   ]
  },
  {
   "cell_type": "code",
   "execution_count": 52,
   "metadata": {},
   "outputs": [
    {
     "data": {
      "text/html": [
       "<div>\n",
       "<style scoped>\n",
       "    .dataframe tbody tr th:only-of-type {\n",
       "        vertical-align: middle;\n",
       "    }\n",
       "\n",
       "    .dataframe tbody tr th {\n",
       "        vertical-align: top;\n",
       "    }\n",
       "\n",
       "    .dataframe thead th {\n",
       "        text-align: right;\n",
       "    }\n",
       "</style>\n",
       "<table border=\"1\" class=\"dataframe\">\n",
       "  <thead>\n",
       "    <tr style=\"text-align: right;\">\n",
       "      <th></th>\n",
       "      <th>StichtagDatJahr</th>\n",
       "      <th>QuarSort</th>\n",
       "      <th>QuarLang</th>\n",
       "      <th>KreisSort</th>\n",
       "      <th>KreisLang</th>\n",
       "      <th>Nutzung</th>\n",
       "      <th>Leerflaeche</th>\n",
       "      <th>BueroNettofl</th>\n",
       "      <th>BueroLeerProz</th>\n",
       "    </tr>\n",
       "  </thead>\n",
       "  <tbody>\n",
       "    <tr>\n",
       "      <th>926</th>\n",
       "      <td>2021-01-01</td>\n",
       "      <td>11</td>\n",
       "      <td>Rathaus</td>\n",
       "      <td>1</td>\n",
       "      <td>Kreis 1</td>\n",
       "      <td>Büro</td>\n",
       "      <td>373</td>\n",
       "      <td>103999</td>\n",
       "      <td>0</td>\n",
       "    </tr>\n",
       "    <tr>\n",
       "      <th>927</th>\n",
       "      <td>2021-01-01</td>\n",
       "      <td>11</td>\n",
       "      <td>Rathaus</td>\n",
       "      <td>1</td>\n",
       "      <td>Kreis 1</td>\n",
       "      <td>Andere</td>\n",
       "      <td>245</td>\n",
       "      <td>NaN</td>\n",
       "      <td>NaN</td>\n",
       "    </tr>\n",
       "  </tbody>\n",
       "</table>\n",
       "</div>"
      ],
      "text/plain": [
       "    StichtagDatJahr  QuarSort QuarLang  KreisSort KreisLang Nutzung  Leerflaeche  BueroNettofl  \\\n",
       "926      2021-01-01        11  Rathaus          1   Kreis 1    Büro          373        103999   \n",
       "927      2021-01-01        11  Rathaus          1   Kreis 1  Andere          245           NaN   \n",
       "\n",
       "     BueroLeerProz  \n",
       "926              0  \n",
       "927            NaN  "
      ]
     },
     "execution_count": 52,
     "metadata": {},
     "output_type": "execute_result"
    }
   ],
   "source": [
    "mySelection.head(2)"
   ]
  },
  {
   "cell_type": "code",
   "execution_count": 89,
   "metadata": {},
   "outputs": [
    {
     "data": {
      "text/html": [
       "<div>\n",
       "<style scoped>\n",
       "    .dataframe tbody tr th:only-of-type {\n",
       "        vertical-align: middle;\n",
       "    }\n",
       "\n",
       "    .dataframe tbody tr th {\n",
       "        vertical-align: top;\n",
       "    }\n",
       "\n",
       "    .dataframe thead th {\n",
       "        text-align: right;\n",
       "    }\n",
       "</style>\n",
       "<table border=\"1\" class=\"dataframe\">\n",
       "  <thead>\n",
       "    <tr style=\"text-align: right;\">\n",
       "      <th></th>\n",
       "      <th>StichtagDatJahr</th>\n",
       "      <th>QuarSort</th>\n",
       "      <th>QuarLang</th>\n",
       "      <th>KreisSort</th>\n",
       "      <th>KreisLang</th>\n",
       "      <th>Nutzung</th>\n",
       "      <th>Leerflaeche</th>\n",
       "      <th>BueroNettofl</th>\n",
       "      <th>BueroLeerProz</th>\n",
       "    </tr>\n",
       "  </thead>\n",
       "  <tbody>\n",
       "    <tr>\n",
       "      <th>926</th>\n",
       "      <td>2021-01-01</td>\n",
       "      <td>11</td>\n",
       "      <td>Rathaus</td>\n",
       "      <td>1</td>\n",
       "      <td>Kreis 1</td>\n",
       "      <td>Büro</td>\n",
       "      <td>373</td>\n",
       "      <td>103999</td>\n",
       "      <td>0</td>\n",
       "    </tr>\n",
       "    <tr>\n",
       "      <th>931</th>\n",
       "      <td>2021-01-01</td>\n",
       "      <td>12</td>\n",
       "      <td>Hochschulen</td>\n",
       "      <td>1</td>\n",
       "      <td>Kreis 1</td>\n",
       "      <td>Büro</td>\n",
       "      <td>300</td>\n",
       "      <td>194642</td>\n",
       "      <td>0</td>\n",
       "    </tr>\n",
       "  </tbody>\n",
       "</table>\n",
       "</div>"
      ],
      "text/plain": [
       "    StichtagDatJahr  QuarSort     QuarLang  KreisSort KreisLang Nutzung  Leerflaeche  \\\n",
       "926      2021-01-01        11      Rathaus          1   Kreis 1    Büro          373   \n",
       "931      2021-01-01        12  Hochschulen          1   Kreis 1    Büro          300   \n",
       "\n",
       "     BueroNettofl  BueroLeerProz  \n",
       "926        103999              0  \n",
       "931        194642              0  "
      ]
     },
     "execution_count": 89,
     "metadata": {},
     "output_type": "execute_result"
    }
   ],
   "source": [
    "selectMapAttr1 = data2betested[(data2betested.StichtagDatJahr==\"2021\") & (data2betested.Nutzung ==\"Büro\")] #& (data2betested.QuarSort > 30)\n",
    "selectMapAttr1.head(2)\n",
    "#stats_agg_quartiere=aktuellesJahr.groupby(['Jahr', 'QuarSort'])['AnzWhg','Wohnungsfl', 'PersInGeb'].sum()\n",
    "#test = data2betested.groupby(['StichtagDatJahr', 'AlterV20Kurz'])[['AnzBestWir']].agg()\n"
   ]
  },
  {
   "cell_type": "markdown",
   "metadata": {},
   "source": [
    "Was ist mit Leimbach los?"
   ]
  },
  {
   "cell_type": "code",
   "execution_count": 90,
   "metadata": {},
   "outputs": [
    {
     "data": {
      "text/html": [
       "<div>\n",
       "<style scoped>\n",
       "    .dataframe tbody tr th:only-of-type {\n",
       "        vertical-align: middle;\n",
       "    }\n",
       "\n",
       "    .dataframe tbody tr th {\n",
       "        vertical-align: top;\n",
       "    }\n",
       "\n",
       "    .dataframe thead th {\n",
       "        text-align: right;\n",
       "    }\n",
       "</style>\n",
       "<table border=\"1\" class=\"dataframe\">\n",
       "  <thead>\n",
       "    <tr style=\"text-align: right;\">\n",
       "      <th></th>\n",
       "      <th>StichtagDatJahr</th>\n",
       "      <th>QuarSort</th>\n",
       "      <th>QuarLang</th>\n",
       "      <th>KreisSort</th>\n",
       "      <th>KreisLang</th>\n",
       "      <th>Nutzung</th>\n",
       "      <th>Leerflaeche</th>\n",
       "      <th>BueroNettofl</th>\n",
       "      <th>BueroLeerProz</th>\n",
       "    </tr>\n",
       "  </thead>\n",
       "  <tbody>\n",
       "    <tr>\n",
       "      <th>184</th>\n",
       "      <td>2012-01-01</td>\n",
       "      <td>23</td>\n",
       "      <td>Leimbach</td>\n",
       "      <td>2</td>\n",
       "      <td>Kreis 2</td>\n",
       "      <td>Andere</td>\n",
       "      <td>224</td>\n",
       "      <td>NaN</td>\n",
       "      <td>NaN</td>\n",
       "    </tr>\n",
       "    <tr>\n",
       "      <th>348</th>\n",
       "      <td>2014-01-01</td>\n",
       "      <td>23</td>\n",
       "      <td>Leimbach</td>\n",
       "      <td>2</td>\n",
       "      <td>Kreis 2</td>\n",
       "      <td>Andere</td>\n",
       "      <td>115</td>\n",
       "      <td>NaN</td>\n",
       "      <td>NaN</td>\n",
       "    </tr>\n",
       "    <tr>\n",
       "      <th>349</th>\n",
       "      <td>2014-01-01</td>\n",
       "      <td>23</td>\n",
       "      <td>Leimbach</td>\n",
       "      <td>2</td>\n",
       "      <td>Kreis 2</td>\n",
       "      <td>Verkauf</td>\n",
       "      <td>228</td>\n",
       "      <td>NaN</td>\n",
       "      <td>NaN</td>\n",
       "    </tr>\n",
       "    <tr>\n",
       "      <th>350</th>\n",
       "      <td>2014-01-01</td>\n",
       "      <td>23</td>\n",
       "      <td>Leimbach</td>\n",
       "      <td>2</td>\n",
       "      <td>Kreis 2</td>\n",
       "      <td>Büro</td>\n",
       "      <td>58</td>\n",
       "      <td>3359</td>\n",
       "      <td>2</td>\n",
       "    </tr>\n",
       "    <tr>\n",
       "      <th>854</th>\n",
       "      <td>2020-01-01</td>\n",
       "      <td>23</td>\n",
       "      <td>Leimbach</td>\n",
       "      <td>2</td>\n",
       "      <td>Kreis 2</td>\n",
       "      <td>Büro</td>\n",
       "      <td>40</td>\n",
       "      <td>3638</td>\n",
       "      <td>1</td>\n",
       "    </tr>\n",
       "  </tbody>\n",
       "</table>\n",
       "</div>"
      ],
      "text/plain": [
       "    StichtagDatJahr  QuarSort  QuarLang  KreisSort KreisLang  Nutzung  Leerflaeche  BueroNettofl  \\\n",
       "184      2012-01-01        23  Leimbach          2   Kreis 2   Andere          224           NaN   \n",
       "348      2014-01-01        23  Leimbach          2   Kreis 2   Andere          115           NaN   \n",
       "349      2014-01-01        23  Leimbach          2   Kreis 2  Verkauf          228           NaN   \n",
       "350      2014-01-01        23  Leimbach          2   Kreis 2     Büro           58          3359   \n",
       "854      2020-01-01        23  Leimbach          2   Kreis 2     Büro           40          3638   \n",
       "\n",
       "     BueroLeerProz  \n",
       "184            NaN  \n",
       "348            NaN  \n",
       "349            NaN  \n",
       "350              2  \n",
       "854              1  "
      ]
     },
     "execution_count": 90,
     "metadata": {},
     "output_type": "execute_result"
    }
   ],
   "source": [
    "leimbach = data2betested[(data2betested.StichtagDatJahr<\"2021\") & (data2betested.QuarLang ==\"Leimbach\")] #& (data2betested.QuarSort > 30)\n",
    "leimbach"
   ]
  },
  {
   "cell_type": "markdown",
   "metadata": {},
   "source": [
    "Und was mit Hard?"
   ]
  },
  {
   "cell_type": "code",
   "execution_count": 92,
   "metadata": {},
   "outputs": [],
   "source": [
    "#hard = data2betested[(data2betested.StichtagDatJahr<\"2021\") & (data2betested.QuarLang ==\"Hard\")] #& (data2betested.QuarSort > 30)\n",
    "#hard"
   ]
  },
  {
   "cell_type": "code",
   "execution_count": 74,
   "metadata": {},
   "outputs": [
    {
     "data": {
      "text/html": [
       "<div>\n",
       "<style scoped>\n",
       "    .dataframe tbody tr th:only-of-type {\n",
       "        vertical-align: middle;\n",
       "    }\n",
       "\n",
       "    .dataframe tbody tr th {\n",
       "        vertical-align: top;\n",
       "    }\n",
       "\n",
       "    .dataframe thead th {\n",
       "        text-align: right;\n",
       "    }\n",
       "</style>\n",
       "<table border=\"1\" class=\"dataframe\">\n",
       "  <thead>\n",
       "    <tr style=\"text-align: right;\">\n",
       "      <th></th>\n",
       "      <th>geometry</th>\n",
       "      <th>QuarSort</th>\n",
       "      <th>qname</th>\n",
       "      <th>knr</th>\n",
       "      <th>StichtagDatJahr</th>\n",
       "      <th>QuarLang</th>\n",
       "      <th>KreisSort</th>\n",
       "      <th>KreisLang</th>\n",
       "      <th>Nutzung</th>\n",
       "      <th>Leerflaeche</th>\n",
       "      <th>BueroNettofl</th>\n",
       "      <th>BueroLeerProz</th>\n",
       "    </tr>\n",
       "  </thead>\n",
       "  <tbody>\n",
       "    <tr>\n",
       "      <th>0</th>\n",
       "      <td>POLYGON ((8.55670 47.36406, 8.55682 47.36410, ...</td>\n",
       "      <td>73</td>\n",
       "      <td>Hirslanden</td>\n",
       "      <td>7</td>\n",
       "      <td>2021-01-01</td>\n",
       "      <td>Hirslanden</td>\n",
       "      <td>7</td>\n",
       "      <td>Kreis 7</td>\n",
       "      <td>Büro</td>\n",
       "      <td>224</td>\n",
       "      <td>51117</td>\n",
       "      <td>0</td>\n",
       "    </tr>\n",
       "    <tr>\n",
       "      <th>1</th>\n",
       "      <td>POLYGON ((8.55670 47.36405, 8.55672 47.36403, ...</td>\n",
       "      <td>83</td>\n",
       "      <td>Weinegg</td>\n",
       "      <td>8</td>\n",
       "      <td>2021-01-01</td>\n",
       "      <td>Weinegg</td>\n",
       "      <td>8</td>\n",
       "      <td>Kreis 8</td>\n",
       "      <td>Büro</td>\n",
       "      <td>265</td>\n",
       "      <td>62546</td>\n",
       "      <td>0</td>\n",
       "    </tr>\n",
       "  </tbody>\n",
       "</table>\n",
       "</div>"
      ],
      "text/plain": [
       "                                            geometry  QuarSort       qname  knr StichtagDatJahr  \\\n",
       "0  POLYGON ((8.55670 47.36406, 8.55682 47.36410, ...        73  Hirslanden    7      2021-01-01   \n",
       "1  POLYGON ((8.55670 47.36405, 8.55672 47.36403, ...        83     Weinegg    8      2021-01-01   \n",
       "\n",
       "     QuarLang  KreisSort KreisLang Nutzung  Leerflaeche  BueroNettofl  BueroLeerProz  \n",
       "0  Hirslanden          7   Kreis 7    Büro          224         51117              0  \n",
       "1     Weinegg          8   Kreis 8    Büro          265         62546              0  "
      ]
     },
     "execution_count": 74,
     "metadata": {},
     "output_type": "execute_result"
    }
   ],
   "source": [
    "# Rename attribute stznr to StatZoneSort, so the IDs have the same name\n",
    "\n",
    "stadtquartiere_shapes = df_adm_statistische_quartiere_map[['geometry', 'qnr', 'qname', 'knr']].rename(columns={'qnr': 'QuarSort'})\n",
    "\n",
    "# Merge with `merge` method on shared variable (stznr und StatZoneSort):\n",
    "stadtquartiere_shapes_joined = stadtquartiere_shapes.merge(selectMapAttr1, on='QuarSort')\n",
    "\n",
    "stadtquartiere_shapes_joined.head(2)\n"
   ]
  },
  {
   "cell_type": "code",
   "execution_count": 75,
   "metadata": {},
   "outputs": [
    {
     "data": {
      "text/plain": [
       "<AxesSubplot:>"
      ]
     },
     "execution_count": 75,
     "metadata": {},
     "output_type": "execute_result"
    },
    {
     "data": {
      "image/png": "[encoded data removed]",
      "text/plain": [
       "<Figure size 432x288 with 1 Axes>"
      ]
     },
     "metadata": {
      "needs_background": "light"
     },
     "output_type": "display_data"
    },
    {
     "data": {
      "image/png": "[encoded data removed]",
      "text/plain": [
       "<Figure size 432x288 with 1 Axes>"
      ]
     },
     "metadata": {
      "needs_background": "light"
     },
     "output_type": "display_data"
    },
    {
     "data": {
      "image/png": "[encoded data removed]",
      "text/plain": [
       "<Figure size 432x288 with 1 Axes>"
      ]
     },
     "metadata": {
      "needs_background": "light"
     },
     "output_type": "display_data"
    }
   ],
   "source": [
    "# Plot by StatQuartiere\n",
    "# Weitere Schemes: scheme='quantiles', scheme='fisherjenks', scheme='natural_breaks',\n",
    "\n",
    "stadtquartiere_shapes_joined.plot(column='Leerflaeche', cmap='viridis', scheme='natural_breaks', legend=True )\n",
    "#scheme werte: https://matplotlib.org/2.0.2/users/colormaps.html\n",
    "\n",
    "stadtquartiere_shapes_joined.plot(column='Leerflaeche', cmap='plasma', scheme='natural_breaks', legend=True )\n",
    "#scheme werte: https://matplotlib.org/2.0.2/users/colormaps.html\n",
    "stadtquartiere_shapes_joined.plot(column='Leerflaeche', cmap='cool', scheme='natural_breaks', legend=True )\n",
    "#scheme werte: https://matplotlib.org/2.0.2/users/colormaps.html"
   ]
  },
  {
   "cell_type": "raw",
   "metadata": {},
   "source": [
    "fig, ax = plt.subplots(1, 1)\n",
    "\n",
    "statzonen_shapes_aktJahr.plot(column='AnzWhg', ax=ax, legend=True, legend_kwds={'label': \"Anzahl Personen\",'orientation': \"horizontal\"})\n"
   ]
  },
  {
   "cell_type": "markdown",
   "metadata": {},
   "source": [
    "Noch zu prüfen, folgendes schöne Beispiel: https://docs.bokeh.org/en/latest/docs/user_guide/interaction/legends.html\n",
    "\n",
    "Konkrete Beispiele von Bookeh in Jupyter NB: https://docs.bokeh.org/en/latest/docs/user_guide/jupyter.html"
   ]
  },
  {
   "cell_type": "markdown",
   "metadata": {},
   "source": [
    "**Sharepoint als gecheckt markieren!**"
   ]
  },
  {
   "cell_type": "markdown",
   "metadata": {},
   "source": [
    "Record auf Sharepoint: **[Link](http://kollaboration.intranet.stzh.ch/orga/ssz-produkte/Lists/SASA_Outputs/EditForm.aspx?ID=157&Source=%2Forga%2Fssz%2Dprodukte%2FLists%2FSASA%5FOutputs)**"
   ]
  },
  {
   "cell_type": "code",
   "execution_count": null,
   "metadata": {},
   "outputs": [],
   "source": []
  },
  {
   "cell_type": "raw",
   "metadata": {},
   "source": []
  },
  {
   "cell_type": "code",
   "execution_count": null,
   "metadata": {},
   "outputs": [],
   "source": []
  }
 ],
 "metadata": {
  "kernelspec": {
   "display_name": "Python 3 (ipykernel)",
   "language": "python",
   "name": "python3"
  },
  "language_info": {
   "codemirror_mode": {
    "name": "ipython",
    "version": 3
   },
   "file_extension": ".py",
   "mimetype": "text/x-python",
   "name": "python",
   "nbconvert_exporter": "python",
   "pygments_lexer": "ipython3",
   "version": "3.9.7"
  }
 },
 "nbformat": 4,
 "nbformat_minor": 4
}
