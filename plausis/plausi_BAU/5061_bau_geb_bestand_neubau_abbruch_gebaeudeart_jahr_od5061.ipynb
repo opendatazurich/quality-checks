{
 "cells": [
  {
   "cell_type": "markdown",
   "metadata": {},
   "source": [
    "# Testing\n",
    "### Anzahl Gebäude in Bestand, Neubau und Abbruch nach Gebäudeart seit 1901\n",
    "Datum: 03.02.2022"
   ]
  },
  {
   "cell_type": "markdown",
   "metadata": {},
   "source": [
    "### Importiere die notwendigen Packages"
   ]
  },
  {
   "cell_type": "code",
   "execution_count": 1,
   "metadata": {},
   "outputs": [],
   "source": [
    "#%pip install geopandas altair fiona requests folium mplleaflet contextily seaborn datetime plotly"
   ]
  },
  {
   "cell_type": "code",
   "execution_count": 2,
   "metadata": {},
   "outputs": [],
   "source": [
    "import pandas as pd\n",
    "import pivottablejs\n",
    "from pivottablejs import pivot_ui\n",
    "import numpy as np\n",
    "import altair as alt\n",
    "import matplotlib.pyplot as plt\n",
    "#from datetime import datetime\n",
    "import datetime\n",
    "import geopandas as gpd\n",
    "import folium \n",
    "import plotly.express as px\n",
    "import seaborn as sns\n"
   ]
  },
  {
   "cell_type": "markdown",
   "metadata": {},
   "source": [
    "Definiere Settings. Hier das Zahlenformat von Float-Werten (z.B. *'{:,.2f}'.format* mit Komma als Tausenderzeichen), "
   ]
  },
  {
   "cell_type": "code",
   "execution_count": 3,
   "metadata": {},
   "outputs": [],
   "source": [
    "pd.options.display.float_format = '{:.0f}'.format\n",
    "pd.set_option('display.width', 100)\n",
    "pd.set_option('display.max_columns', 15)"
   ]
  },
  {
   "cell_type": "markdown",
   "metadata": {},
   "source": [
    "### Zeitvariabeln\n",
    "Bestimme den aktuellst geladenen Monat. Hier ist es der Stand vor 2 Monaten. \n",
    "Bestimme noch weitere evt. sinnvolle Zeitvariabeln.\n",
    "\n",
    "Zum Unterschied zwischen import datetime und from datedtime import datetime, siehe https://stackoverflow.com/questions/15707532/import-datetime-v-s-from-datetime-import-datetime\n",
    "\n",
    "Zuerst die Zeitvariabeln als Strings"
   ]
  },
  {
   "cell_type": "code",
   "execution_count": 4,
   "metadata": {},
   "outputs": [],
   "source": [
    "#today_date = datetime.date.today()\n",
    "#date_time = datetime.datetime.strptime(date_time_string, '%Y-%m-%d %H:%M')\n",
    "now = datetime.date.today()\n",
    "date_today = now.strftime(\"%Y-%m-%d\")\n",
    "year_today = now.strftime(\"%Y\")\n",
    "month_today = now.strftime(\"%m\")\n",
    "day_today = now.strftime(\"%d\")\n"
   ]
  },
  {
   "cell_type": "markdown",
   "metadata": {},
   "source": [
    "Und hier noch die Zeitvariabeln als Integers:\n",
    "- `aktuellesJahr`\n",
    "- `aktuellerMonat`: Der gerade jetzt aktuelle Monat\n",
    "- `selectedMonat`: Der aktuellste Monat in den Daten. In der Regel zwei Monate her."
   ]
  },
  {
   "cell_type": "code",
   "execution_count": 5,
   "metadata": {},
   "outputs": [
    {
     "name": "stdout",
     "output_type": "stream",
     "text": [
      "2022 2 datenstand:  0 time.struct_time(tm_year=2022, tm_mon=2, tm_mday=4, tm_hour=0, tm_min=0, tm_sec=0, tm_wday=4, tm_yday=35, tm_isdst=-1)\n"
     ]
    }
   ],
   "source": [
    "#now = datetime.now() \n",
    "int_times = now.timetuple()\n",
    "\n",
    "aktuellesJahr = int_times[0]\n",
    "aktuellerMonat = int_times[1]\n",
    "selectedMonat = int_times[1]-2\n",
    "\n",
    "print(aktuellesJahr, \n",
    "      aktuellerMonat,\n",
    "    'datenstand: ', selectedMonat,\n",
    "     int_times)\n"
   ]
  },
  {
   "cell_type": "markdown",
   "metadata": {},
   "source": [
    "Berechne die Variable Epoche um später das SAS-Datum in ein Unix-Datum umzuwandeln. Bei SAS beginnt die Epoche am 1.1.1960. Bei Unix am 1.1.1970.\n",
    "Diese Variable wird beim CSV-Import benötigt."
   ]
  },
  {
   "cell_type": "code",
   "execution_count": 6,
   "metadata": {},
   "outputs": [],
   "source": [
    "epoch = datetime.datetime(1960, 1, 1)"
   ]
  },
  {
   "cell_type": "markdown",
   "metadata": {
    "tags": []
   },
   "source": [
    "### Importiere einen Datensatz \n",
    "\n",
    "- Beachte dabei die Notation des Pfades...\n",
    "- Definiere mal aktuell noch keine weiteren Parameter beim Import"
   ]
  },
  {
   "cell_type": "markdown",
   "metadata": {},
   "source": [
    "**Dataset auf INTEG Datenkatalog**:  https://data.integ.stadt-zuerich.ch/dataset/int_dwh_bau_geb_bestand_neubau_abbruch_gebaeudeart_jahr_od5061\n",
    "\n",
    "**Dataset auf PROD Datenkatalog**:  https://data.stadt-zuerich.ch/dataset/bau_geb_bestand_neubau_abbruch_gebaeudeart_jahr_od5061\n"
   ]
  },
  {
   "cell_type": "code",
   "execution_count": 7,
   "metadata": {},
   "outputs": [
    {
     "name": "stdout",
     "output_type": "stream",
     "text": [
      "int\n"
     ]
    }
   ],
   "source": [
    "#Die Datasets sind nur zum Testen auf INT-DWH-Dropzone. Wenn der Test vorbei ist, sind sie auf PROD. \n",
    "# Über den Status kann man einfach switchen\n",
    "\n",
    "status = \"int\";\n",
    "print(status)"
   ]
  },
  {
   "cell_type": "code",
   "execution_count": 8,
   "metadata": {
    "tags": []
   },
   "outputs": [
    {
     "name": "stdout",
     "output_type": "stream",
     "text": [
      "\\\\szh\\ssz\\applikationen\\OGD_Dropzone\\INT_DWH\\bau_geb_bestand_neubau_abbruch_gebaeudeart_jahr_od5061\\BAU506OD5061.csv\n"
     ]
    }
   ],
   "source": [
    "# Filepath\n",
    "if status == \"prod\":\n",
    "    fp = r\"https://data.stadt-zuerich.ch/dataset/bau_geb_bestand_neubau_abbruch_gebaeudeart_jahr_od5061/download/BAU506OD5061.csv\"\n",
    "else:\n",
    "    fp = r\"\\\\szh\\ssz\\applikationen\\OGD_Dropzone\\INT_DWH\\bau_geb_bestand_neubau_abbruch_gebaeudeart_jahr_od5061\\BAU506OD5061.csv\"   \n",
    "\n",
    "print(fp)"
   ]
  },
  {
   "cell_type": "code",
   "execution_count": 9,
   "metadata": {},
   "outputs": [
    {
     "name": "stdout",
     "output_type": "stream",
     "text": [
      "done\n"
     ]
    }
   ],
   "source": [
    "# Read the data\n",
    "data2betested = pd.read_csv(\n",
    "    fp\n",
    "    , sep=','\n",
    "    ,parse_dates=['Jahr']\n",
    "    # KONVERTIERE DAS SAS DATUM IN EIN UNIXDATUM UND FORMATIERE ES\n",
    "    #, date_parser=lambda s: epoch + datetime.timedelta(days=int(s))\n",
    "    ,low_memory=False    \n",
    "    )\n",
    "\n",
    "print('done')"
   ]
  },
  {
   "cell_type": "markdown",
   "metadata": {},
   "source": [
    "In der Folge ein paar erste Tests:"
   ]
  },
  {
   "cell_type": "markdown",
   "metadata": {},
   "source": [
    " - 1) Zeige eine kurze Vorschau der importierten Daten\n",
    " - 2) Weise die Datentypen aus\n",
    " - 3) Zeige die Shape (Umfang) des Datensatzes an"
   ]
  },
  {
   "cell_type": "code",
   "execution_count": 10,
   "metadata": {},
   "outputs": [],
   "source": [
    "#data2betested.head(6)"
   ]
  },
  {
   "cell_type": "code",
   "execution_count": 11,
   "metadata": {},
   "outputs": [
    {
     "data": {
      "text/plain": [
       "Jahr       datetime64[ns]\n",
       "GbdArt             object\n",
       "Bestand           float64\n",
       "Neubau              int64\n",
       "Abbruch           float64\n",
       "dtype: object"
      ]
     },
     "execution_count": 11,
     "metadata": {},
     "output_type": "execute_result"
    }
   ],
   "source": [
    "data2betested.dtypes"
   ]
  },
  {
   "cell_type": "code",
   "execution_count": 12,
   "metadata": {},
   "outputs": [
    {
     "data": {
      "text/plain": [
       "(484, 5)"
      ]
     },
     "execution_count": 12,
     "metadata": {},
     "output_type": "execute_result"
    }
   ],
   "source": [
    "data2betested.shape"
   ]
  },
  {
   "cell_type": "markdown",
   "metadata": {},
   "source": [
    "Beschreibe einzelne Attribute"
   ]
  },
  {
   "cell_type": "code",
   "execution_count": 13,
   "metadata": {},
   "outputs": [
    {
     "data": {
      "text/html": [
       "<div>\n",
       "<style scoped>\n",
       "    .dataframe tbody tr th:only-of-type {\n",
       "        vertical-align: middle;\n",
       "    }\n",
       "\n",
       "    .dataframe tbody tr th {\n",
       "        vertical-align: top;\n",
       "    }\n",
       "\n",
       "    .dataframe thead th {\n",
       "        text-align: right;\n",
       "    }\n",
       "</style>\n",
       "<table border=\"1\" class=\"dataframe\">\n",
       "  <thead>\n",
       "    <tr style=\"text-align: right;\">\n",
       "      <th></th>\n",
       "      <th>Bestand</th>\n",
       "      <th>Neubau</th>\n",
       "      <th>Abbruch</th>\n",
       "    </tr>\n",
       "  </thead>\n",
       "  <tbody>\n",
       "    <tr>\n",
       "      <th>count</th>\n",
       "      <td>352</td>\n",
       "      <td>484</td>\n",
       "      <td>352</td>\n",
       "    </tr>\n",
       "    <tr>\n",
       "      <th>mean</th>\n",
       "      <td>11568</td>\n",
       "      <td>102</td>\n",
       "      <td>58</td>\n",
       "    </tr>\n",
       "    <tr>\n",
       "      <th>std</th>\n",
       "      <td>4132</td>\n",
       "      <td>102</td>\n",
       "      <td>59</td>\n",
       "    </tr>\n",
       "    <tr>\n",
       "      <th>min</th>\n",
       "      <td>6193</td>\n",
       "      <td>0</td>\n",
       "      <td>2</td>\n",
       "    </tr>\n",
       "    <tr>\n",
       "      <th>25%</th>\n",
       "      <td>8044</td>\n",
       "      <td>32</td>\n",
       "      <td>16</td>\n",
       "    </tr>\n",
       "    <tr>\n",
       "      <th>50%</th>\n",
       "      <td>9900</td>\n",
       "      <td>67</td>\n",
       "      <td>31</td>\n",
       "    </tr>\n",
       "    <tr>\n",
       "      <th>75%</th>\n",
       "      <td>15868</td>\n",
       "      <td>141</td>\n",
       "      <td>94</td>\n",
       "    </tr>\n",
       "    <tr>\n",
       "      <th>max</th>\n",
       "      <td>21858</td>\n",
       "      <td>590</td>\n",
       "      <td>333</td>\n",
       "    </tr>\n",
       "  </tbody>\n",
       "</table>\n",
       "</div>"
      ],
      "text/plain": [
       "       Bestand  Neubau  Abbruch\n",
       "count      352     484      352\n",
       "mean     11568     102       58\n",
       "std       4132     102       59\n",
       "min       6193       0        2\n",
       "25%       8044      32       16\n",
       "50%       9900      67       31\n",
       "75%      15868     141       94\n",
       "max      21858     590      333"
      ]
     },
     "execution_count": 13,
     "metadata": {},
     "output_type": "execute_result"
    }
   ],
   "source": [
    "data2betested.describe()"
   ]
  },
  {
   "cell_type": "markdown",
   "metadata": {},
   "source": [
    "Wie viele Nullwerte gibt es im Datensatz?"
   ]
  },
  {
   "cell_type": "code",
   "execution_count": 14,
   "metadata": {
    "scrolled": true
   },
   "outputs": [
    {
     "data": {
      "text/plain": [
       "Jahr         0\n",
       "GbdArt       0\n",
       "Bestand    132\n",
       "Neubau       0\n",
       "Abbruch    132\n",
       "dtype: int64"
      ]
     },
     "execution_count": 14,
     "metadata": {},
     "output_type": "execute_result"
    }
   ],
   "source": [
    "data2betested.isnull().sum()"
   ]
  },
  {
   "cell_type": "markdown",
   "metadata": {
    "colab_type": "text",
    "id": "1dTPVmmsgOVx"
   },
   "source": [
    "### Verwende das Datum als Index\n",
    "\n",
    "While we did already parse the `datetime` column into the respective datetime type, it currently is just a regular column. \n",
    "**To enable quick and convenient queries and aggregations, we need to turn it into the index of the DataFrame**"
   ]
  },
  {
   "cell_type": "code",
   "execution_count": 15,
   "metadata": {},
   "outputs": [],
   "source": [
    "data2betested = data2betested.set_index(\"Jahr\")"
   ]
  },
  {
   "cell_type": "code",
   "execution_count": 16,
   "metadata": {},
   "outputs": [
    {
     "name": "stdout",
     "output_type": "stream",
     "text": [
      "<class 'pandas.core.frame.DataFrame'>\n",
      "DatetimeIndex: 484 entries, 1901-01-01 to 2021-01-01\n",
      "Data columns (total 4 columns):\n",
      " #   Column   Non-Null Count  Dtype  \n",
      "---  ------   --------------  -----  \n",
      " 0   GbdArt   484 non-null    object \n",
      " 1   Bestand  352 non-null    float64\n",
      " 2   Neubau   484 non-null    int64  \n",
      " 3   Abbruch  352 non-null    float64\n",
      "dtypes: float64(2), int64(1), object(1)\n",
      "memory usage: 18.9+ KB\n"
     ]
    },
    {
     "data": {
      "text/plain": [
       "Int64Index([1], dtype='int64', name='Jahr')"
      ]
     },
     "execution_count": 16,
     "metadata": {},
     "output_type": "execute_result"
    }
   ],
   "source": [
    "data2betested.info()\n",
    "data2betested.index.day.unique()"
   ]
  },
  {
   "cell_type": "markdown",
   "metadata": {},
   "source": [
    "### Einfache Visualisierungen zur Plausi"
   ]
  },
  {
   "cell_type": "markdown",
   "metadata": {},
   "source": [
    "Exploriere die Daten mit Pivottable.JS"
   ]
  },
  {
   "cell_type": "code",
   "execution_count": 17,
   "metadata": {},
   "outputs": [
    {
     "data": {
      "text/html": [
       "\n",
       "        <iframe\n",
       "            width=\"100%\"\n",
       "            height=\"500\"\n",
       "            src=\"pivottablejs.html\"\n",
       "            frameborder=\"0\"\n",
       "            allowfullscreen\n",
       "        ></iframe>\n",
       "        "
      ],
      "text/plain": [
       "<IPython.lib.display.IFrame at 0x22e5335f460>"
      ]
     },
     "execution_count": 17,
     "metadata": {},
     "output_type": "execute_result"
    }
   ],
   "source": [
    "from pivottablejs import pivot_ui\n",
    "\n",
    "pivot_ui(data2betested)"
   ]
  },
  {
   "cell_type": "markdown",
   "metadata": {},
   "source": [
    "### Zeitpunkte und Zeiträume abfragen\n",
    "\n",
    "A particular powerful feature of the Pandas DataFrame is its indexing capability that also works using time-based entities, such as dates and times. We have already created the index above, so let's put it to use."
   ]
  },
  {
   "cell_type": "code",
   "execution_count": 18,
   "metadata": {},
   "outputs": [
    {
     "data": {
      "text/html": [
       "<div>\n",
       "<style scoped>\n",
       "    .dataframe tbody tr th:only-of-type {\n",
       "        vertical-align: middle;\n",
       "    }\n",
       "\n",
       "    .dataframe tbody tr th {\n",
       "        vertical-align: top;\n",
       "    }\n",
       "\n",
       "    .dataframe thead th {\n",
       "        text-align: right;\n",
       "    }\n",
       "</style>\n",
       "<table border=\"1\" class=\"dataframe\">\n",
       "  <thead>\n",
       "    <tr style=\"text-align: right;\">\n",
       "      <th></th>\n",
       "      <th>GbdArt</th>\n",
       "      <th>Bestand</th>\n",
       "      <th>Neubau</th>\n",
       "      <th>Abbruch</th>\n",
       "    </tr>\n",
       "    <tr>\n",
       "      <th>Jahr</th>\n",
       "      <th></th>\n",
       "      <th></th>\n",
       "      <th></th>\n",
       "      <th></th>\n",
       "    </tr>\n",
       "  </thead>\n",
       "  <tbody>\n",
       "    <tr>\n",
       "      <th>2009-01-01</th>\n",
       "      <td>Einfamilienhaus</td>\n",
       "      <td>9757</td>\n",
       "      <td>6</td>\n",
       "      <td>144</td>\n",
       "    </tr>\n",
       "    <tr>\n",
       "      <th>2009-01-01</th>\n",
       "      <td>Mehrfamilienhaus</td>\n",
       "      <td>18059</td>\n",
       "      <td>107</td>\n",
       "      <td>81</td>\n",
       "    </tr>\n",
       "  </tbody>\n",
       "</table>\n",
       "</div>"
      ],
      "text/plain": [
       "                      GbdArt  Bestand  Neubau  Abbruch\n",
       "Jahr                                                  \n",
       "2009-01-01   Einfamilienhaus     9757       6      144\n",
       "2009-01-01  Mehrfamilienhaus    18059     107       81"
      ]
     },
     "execution_count": 18,
     "metadata": {},
     "output_type": "execute_result"
    }
   ],
   "source": [
    "data2betested.loc[\"2009\"].head(2)\n",
    "#data2betested.loc[\"2021-10-31\":\"2021-11-30\"].head(2)"
   ]
  },
  {
   "cell_type": "markdown",
   "metadata": {},
   "source": [
    "### Visualisierungen nach Zeitausschnitten"
   ]
  },
  {
   "cell_type": "markdown",
   "metadata": {
    "tags": []
   },
   "source": [
    "#### Entwicklung des Gebäudebestands seit 1901 nach Gebäudeart"
   ]
  },
  {
   "cell_type": "code",
   "execution_count": 35,
   "metadata": {},
   "outputs": [
    {
     "data": {
      "text/plain": [
       "GbdArt      object\n",
       "Bestand    float64\n",
       "Neubau       int64\n",
       "Abbruch    float64\n",
       "dtype: object"
      ]
     },
     "execution_count": 35,
     "metadata": {},
     "output_type": "execute_result"
    }
   ],
   "source": [
    "data2betested.dtypes"
   ]
  },
  {
   "cell_type": "code",
   "execution_count": 36,
   "metadata": {
    "tags": []
   },
   "outputs": [
    {
     "data": {
      "text/html": [
       "<div>\n",
       "<style scoped>\n",
       "    .dataframe tbody tr th:only-of-type {\n",
       "        vertical-align: middle;\n",
       "    }\n",
       "\n",
       "    .dataframe tbody tr th {\n",
       "        vertical-align: top;\n",
       "    }\n",
       "\n",
       "    .dataframe thead th {\n",
       "        text-align: right;\n",
       "    }\n",
       "</style>\n",
       "<table border=\"1\" class=\"dataframe\">\n",
       "  <thead>\n",
       "    <tr style=\"text-align: right;\">\n",
       "      <th></th>\n",
       "      <th>Jahr</th>\n",
       "      <th>GbdArt</th>\n",
       "      <th>sum_Bestand</th>\n",
       "      <th>sum_Neubau</th>\n",
       "      <th>sum_Abbruch</th>\n",
       "    </tr>\n",
       "  </thead>\n",
       "  <tbody>\n",
       "    <tr>\n",
       "      <th>0</th>\n",
       "      <td>1902-01-01</td>\n",
       "      <td>Einfamilienhaus</td>\n",
       "      <td>0</td>\n",
       "      <td>17</td>\n",
       "      <td>0</td>\n",
       "    </tr>\n",
       "    <tr>\n",
       "      <th>1</th>\n",
       "      <td>1902-01-01</td>\n",
       "      <td>Mehrfamilienhaus</td>\n",
       "      <td>0</td>\n",
       "      <td>36</td>\n",
       "      <td>0</td>\n",
       "    </tr>\n",
       "    <tr>\n",
       "      <th>2</th>\n",
       "      <td>1902-01-01</td>\n",
       "      <td>Nichtwohngebäude</td>\n",
       "      <td>0</td>\n",
       "      <td>60</td>\n",
       "      <td>0</td>\n",
       "    </tr>\n",
       "    <tr>\n",
       "      <th>3</th>\n",
       "      <td>1902-01-01</td>\n",
       "      <td>Wohnhaus mit Geschäftsräumen</td>\n",
       "      <td>0</td>\n",
       "      <td>29</td>\n",
       "      <td>0</td>\n",
       "    </tr>\n",
       "    <tr>\n",
       "      <th>4</th>\n",
       "      <td>1903-01-01</td>\n",
       "      <td>Einfamilienhaus</td>\n",
       "      <td>0</td>\n",
       "      <td>17</td>\n",
       "      <td>0</td>\n",
       "    </tr>\n",
       "    <tr>\n",
       "      <th>...</th>\n",
       "      <td>...</td>\n",
       "      <td>...</td>\n",
       "      <td>...</td>\n",
       "      <td>...</td>\n",
       "      <td>...</td>\n",
       "    </tr>\n",
       "    <tr>\n",
       "      <th>475</th>\n",
       "      <td>2020-01-01</td>\n",
       "      <td>Nichtwohngebäude</td>\n",
       "      <td>19159</td>\n",
       "      <td>69</td>\n",
       "      <td>101</td>\n",
       "    </tr>\n",
       "    <tr>\n",
       "      <th>476</th>\n",
       "      <td>2021-01-01</td>\n",
       "      <td>Mehrfamilienhaus</td>\n",
       "      <td>18472</td>\n",
       "      <td>113</td>\n",
       "      <td>157</td>\n",
       "    </tr>\n",
       "    <tr>\n",
       "      <th>477</th>\n",
       "      <td>2021-01-01</td>\n",
       "      <td>Nichtwohngebäude</td>\n",
       "      <td>19500</td>\n",
       "      <td>77</td>\n",
       "      <td>188</td>\n",
       "    </tr>\n",
       "    <tr>\n",
       "      <th>478</th>\n",
       "      <td>2021-01-01</td>\n",
       "      <td>Einfamilienhaus</td>\n",
       "      <td>9562</td>\n",
       "      <td>11</td>\n",
       "      <td>91</td>\n",
       "    </tr>\n",
       "    <tr>\n",
       "      <th>479</th>\n",
       "      <td>2021-01-01</td>\n",
       "      <td>Wohnhaus mit Geschäftsräumen</td>\n",
       "      <td>6881</td>\n",
       "      <td>34</td>\n",
       "      <td>39</td>\n",
       "    </tr>\n",
       "  </tbody>\n",
       "</table>\n",
       "<p>480 rows × 5 columns</p>\n",
       "</div>"
      ],
      "text/plain": [
       "          Jahr                        GbdArt  sum_Bestand  sum_Neubau  sum_Abbruch\n",
       "0   1902-01-01               Einfamilienhaus            0          17            0\n",
       "1   1902-01-01              Mehrfamilienhaus            0          36            0\n",
       "2   1902-01-01              Nichtwohngebäude            0          60            0\n",
       "3   1902-01-01  Wohnhaus mit Geschäftsräumen            0          29            0\n",
       "4   1903-01-01               Einfamilienhaus            0          17            0\n",
       "..         ...                           ...          ...         ...          ...\n",
       "475 2020-01-01              Nichtwohngebäude        19159          69          101\n",
       "476 2021-01-01              Mehrfamilienhaus        18472         113          157\n",
       "477 2021-01-01              Nichtwohngebäude        19500          77          188\n",
       "478 2021-01-01               Einfamilienhaus         9562          11           91\n",
       "479 2021-01-01  Wohnhaus mit Geschäftsräumen         6881          34           39\n",
       "\n",
       "[480 rows x 5 columns]"
      ]
     },
     "execution_count": 36,
     "metadata": {},
     "output_type": "execute_result"
    }
   ],
   "source": [
    "#myAgg = data2betested.loc[\"2008-11-30\":\"2021-10-31\"]\n",
    "myAgg = data2betested.loc[\"1902\":\"2021\"]\\\n",
    "    .groupby(['Jahr', 'GbdArt']) \\\n",
    "    .agg(sum_Bestand=('Bestand', 'sum'), sum_Neubau=('Neubau', 'sum'), sum_Abbruch=('Abbruch', 'sum')) \\\n",
    "    .sort_values('Jahr', ascending=True) \n",
    "\n",
    "myAgg.reset_index()\n",
    "#myAgg.reset_index().melt()"
   ]
  },
  {
   "cell_type": "code",
   "execution_count": 34,
   "metadata": {},
   "outputs": [
    {
     "data": {
      "text/html": [
       "\n",
       "<div id=\"altair-viz-e81e03682adf4c5b990a56a137484430\"></div>\n",
       "<script type=\"text/javascript\">\n",
       "  (function(spec, embedOpt){\n",
       "    let outputDiv = document.currentScript.previousElementSibling;\n",
       "    if (outputDiv.id !== \"altair-viz-e81e03682adf4c5b990a56a137484430\") {\n",
       "      outputDiv = document.getElementById(\"altair-viz-e81e03682adf4c5b990a56a137484430\");\n",
       "    }\n",
       "    const paths = {\n",
       "      \"vega\": \"https://cdn.jsdelivr.net/npm//vega@5?noext\",\n",
       "      \"vega-lib\": \"https://cdn.jsdelivr.net/npm//vega-lib?noext\",\n",
       "      \"vega-lite\": \"https://cdn.jsdelivr.net/npm//vega-lite@4.8.1?noext\",\n",
       "      \"vega-embed\": \"https://cdn.jsdelivr.net/npm//vega-embed@6?noext\",\n",
       "    };\n",
       "\n",
       "    function loadScript(lib) {\n",
       "      return new Promise(function(resolve, reject) {\n",
       "        var s = document.createElement('script');\n",
       "        s.src = paths[lib];\n",
       "        s.async = true;\n",
       "        s.onload = () => resolve(paths[lib]);\n",
       "        s.onerror = () => reject(`Error loading script: ${paths[lib]}`);\n",
       "        document.getElementsByTagName(\"head\")[0].appendChild(s);\n",
       "      });\n",
       "    }\n",
       "\n",
       "    function showError(err) {\n",
       "      outputDiv.innerHTML = `<div class=\"error\" style=\"color:red;\">${err}</div>`;\n",
       "      throw err;\n",
       "    }\n",
       "\n",
       "    function displayChart(vegaEmbed) {\n",
       "      vegaEmbed(outputDiv, spec, embedOpt)\n",
       "        .catch(err => showError(`Javascript Error: ${err.message}<br>This usually means there's a typo in your chart specification. See the javascript console for the full traceback.`));\n",
       "    }\n",
       "\n",
       "    if(typeof define === \"function\" && define.amd) {\n",
       "      requirejs.config({paths});\n",
       "      require([\"vega-embed\"], displayChart, err => showError(`Error loading script: ${err.message}`));\n",
       "    } else if (typeof vegaEmbed === \"function\") {\n",
       "      displayChart(vegaEmbed);\n",
       "    } else {\n",
       "      loadScript(\"vega\")\n",
       "        .then(() => loadScript(\"vega-lite\"))\n",
       "        .then(() => loadScript(\"vega-embed\"))\n",
       "        .catch(showError)\n",
       "        .then(() => displayChart(vegaEmbed));\n",
       "    }\n",
       "  })({\"config\": {\"view\": {\"continuousWidth\": 400, \"continuousHeight\": 300}}, \"layer\": [{\"mark\": \"line\", \"encoding\": {\"color\": {\"type\": \"nominal\", \"field\": \"GbdArt\", \"legend\": {\"orient\": \"right\", \"title\": \"Geb\\u00e4udearten\"}}, \"size\": {\"condition\": {\"value\": 0.5, \"selection\": {\"not\": \"selector005\"}}, \"value\": 4}, \"tooltip\": [{\"type\": \"temporal\", \"field\": \"Jahr\"}, {\"type\": \"nominal\", \"field\": \"GbdArt\"}, {\"type\": \"quantitative\", \"field\": \"sum_Bestand\"}], \"x\": {\"type\": \"temporal\", \"axis\": {\"title\": \"Jahr\"}, \"field\": \"Jahr\"}, \"y\": {\"type\": \"quantitative\", \"axis\": {\"title\": \"Anz. Geb\\u00e4ude\"}, \"field\": \"sum_Bestand\"}}, \"selection\": {\"selector006\": {\"type\": \"interval\", \"bind\": \"scales\", \"encodings\": [\"x\", \"y\"]}}, \"title\": \"Title\"}, {\"mark\": \"circle\", \"encoding\": {\"color\": {\"type\": \"nominal\", \"field\": \"GbdArt\", \"legend\": {\"orient\": \"right\", \"title\": \"Geb\\u00e4udearten\"}}, \"opacity\": {\"value\": 0.75}, \"tooltip\": [{\"type\": \"temporal\", \"field\": \"Jahr\"}, {\"type\": \"nominal\", \"field\": \"GbdArt\"}, {\"type\": \"quantitative\", \"field\": \"sum_Bestand\"}], \"x\": {\"type\": \"temporal\", \"axis\": {\"title\": \"Jahr\"}, \"field\": \"Jahr\"}, \"y\": {\"type\": \"quantitative\", \"axis\": {\"title\": \"Anz. Geb\\u00e4ude\"}, \"field\": \"sum_Bestand\"}}, \"height\": 350, \"selection\": {\"selector005\": {\"type\": \"single\", \"on\": \"mouseover\", \"fields\": [\"GbdArt\"], \"nearest\": true}}, \"title\": \"Title\", \"width\": 750}], \"data\": {\"name\": \"data-3a3d8333a111846b48ebf8f73d03f52f\"}, \"$schema\": \"https://vega.github.io/schema/vega-lite/v4.8.1.json\", \"datasets\": {\"data-3a3d8333a111846b48ebf8f73d03f52f\": [{\"Jahr\": \"1934-01-01T00:00:00\", \"GbdArt\": \"Nichtwohngeb\\u00e4ude\", \"sum_Bestand\": 8325.0, \"sum_Neubau\": 124, \"sum_Abbruch\": 100.0}, {\"Jahr\": \"1934-01-01T00:00:00\", \"GbdArt\": \"Wohnhaus mit Gesch\\u00e4ftsr\\u00e4umen\", \"sum_Bestand\": 7801.0, \"sum_Neubau\": 102, \"sum_Abbruch\": 10.0}, {\"Jahr\": \"1934-01-01T00:00:00\", \"GbdArt\": \"Einfamilienhaus\", \"sum_Bestand\": 6193.0, \"sum_Neubau\": 302, \"sum_Abbruch\": 12.0}, {\"Jahr\": \"1934-01-01T00:00:00\", \"GbdArt\": \"Mehrfamilienhaus\", \"sum_Bestand\": 9266.0, \"sum_Neubau\": 251, \"sum_Abbruch\": 14.0}, {\"Jahr\": \"1935-01-01T00:00:00\", \"GbdArt\": \"Einfamilienhaus\", \"sum_Bestand\": 6353.0, \"sum_Neubau\": 177, \"sum_Abbruch\": 4.0}, {\"Jahr\": \"1935-01-01T00:00:00\", \"GbdArt\": \"Mehrfamilienhaus\", \"sum_Bestand\": 9450.0, \"sum_Neubau\": 176, \"sum_Abbruch\": 9.0}, {\"Jahr\": \"1935-01-01T00:00:00\", \"GbdArt\": \"Nichtwohngeb\\u00e4ude\", \"sum_Bestand\": 8311.0, \"sum_Neubau\": 94, \"sum_Abbruch\": 95.0}, {\"Jahr\": \"1935-01-01T00:00:00\", \"GbdArt\": \"Wohnhaus mit Gesch\\u00e4ftsr\\u00e4umen\", \"sum_Bestand\": 7853.0, \"sum_Neubau\": 55, \"sum_Abbruch\": 11.0}, {\"Jahr\": \"1936-01-01T00:00:00\", \"GbdArt\": \"Einfamilienhaus\", \"sum_Bestand\": 6428.0, \"sum_Neubau\": 78, \"sum_Abbruch\": 3.0}, {\"Jahr\": \"1936-01-01T00:00:00\", \"GbdArt\": \"Mehrfamilienhaus\", \"sum_Bestand\": 9498.0, \"sum_Neubau\": 60, \"sum_Abbruch\": 12.0}, {\"Jahr\": \"1936-01-01T00:00:00\", \"GbdArt\": \"Nichtwohngeb\\u00e4ude\", \"sum_Bestand\": 8333.0, \"sum_Neubau\": 116, \"sum_Abbruch\": 94.0}, {\"Jahr\": \"1936-01-01T00:00:00\", \"GbdArt\": \"Wohnhaus mit Gesch\\u00e4ftsr\\u00e4umen\", \"sum_Bestand\": 7862.0, \"sum_Neubau\": 16, \"sum_Abbruch\": 7.0}, {\"Jahr\": \"1937-01-01T00:00:00\", \"GbdArt\": \"Wohnhaus mit Gesch\\u00e4ftsr\\u00e4umen\", \"sum_Bestand\": 7865.0, \"sum_Neubau\": 22, \"sum_Abbruch\": 19.0}, {\"Jahr\": \"1937-01-01T00:00:00\", \"GbdArt\": \"Einfamilienhaus\", \"sum_Bestand\": 6556.0, \"sum_Neubau\": 141, \"sum_Abbruch\": 13.0}, {\"Jahr\": \"1937-01-01T00:00:00\", \"GbdArt\": \"Mehrfamilienhaus\", \"sum_Bestand\": 9584.0, \"sum_Neubau\": 100, \"sum_Abbruch\": 14.0}, {\"Jahr\": \"1937-01-01T00:00:00\", \"GbdArt\": \"Nichtwohngeb\\u00e4ude\", \"sum_Bestand\": 8319.0, \"sum_Neubau\": 82, \"sum_Abbruch\": 96.0}, {\"Jahr\": \"1938-01-01T00:00:00\", \"GbdArt\": \"Nichtwohngeb\\u00e4ude\", \"sum_Bestand\": 8240.0, \"sum_Neubau\": 72, \"sum_Abbruch\": 151.0}, {\"Jahr\": \"1938-01-01T00:00:00\", \"GbdArt\": \"Wohnhaus mit Gesch\\u00e4ftsr\\u00e4umen\", \"sum_Bestand\": 7882.0, \"sum_Neubau\": 40, \"sum_Abbruch\": 23.0}, {\"Jahr\": \"1938-01-01T00:00:00\", \"GbdArt\": \"Einfamilienhaus\", \"sum_Bestand\": 6721.0, \"sum_Neubau\": 182, \"sum_Abbruch\": 17.0}, {\"Jahr\": \"1938-01-01T00:00:00\", \"GbdArt\": \"Mehrfamilienhaus\", \"sum_Bestand\": 9706.0, \"sum_Neubau\": 157, \"sum_Abbruch\": 35.0}, {\"Jahr\": \"1939-01-01T00:00:00\", \"GbdArt\": \"Einfamilienhaus\", \"sum_Bestand\": 6848.0, \"sum_Neubau\": 139, \"sum_Abbruch\": 12.0}, {\"Jahr\": \"1939-01-01T00:00:00\", \"GbdArt\": \"Mehrfamilienhaus\", \"sum_Bestand\": 9915.0, \"sum_Neubau\": 236, \"sum_Abbruch\": 27.0}, {\"Jahr\": \"1939-01-01T00:00:00\", \"GbdArt\": \"Nichtwohngeb\\u00e4ude\", \"sum_Bestand\": 8282.0, \"sum_Neubau\": 141, \"sum_Abbruch\": 99.0}, {\"Jahr\": \"1939-01-01T00:00:00\", \"GbdArt\": \"Wohnhaus mit Gesch\\u00e4ftsr\\u00e4umen\", \"sum_Bestand\": 7919.0, \"sum_Neubau\": 53, \"sum_Abbruch\": 16.0}, {\"Jahr\": \"1940-01-01T00:00:00\", \"GbdArt\": \"Einfamilienhaus\", \"sum_Bestand\": 6926.0, \"sum_Neubau\": 81, \"sum_Abbruch\": 3.0}, {\"Jahr\": \"1940-01-01T00:00:00\", \"GbdArt\": \"Mehrfamilienhaus\", \"sum_Bestand\": 10009.0, \"sum_Neubau\": 101, \"sum_Abbruch\": 7.0}, {\"Jahr\": \"1940-01-01T00:00:00\", \"GbdArt\": \"Nichtwohngeb\\u00e4ude\", \"sum_Bestand\": 8353.0, \"sum_Neubau\": 117, \"sum_Abbruch\": 46.0}, {\"Jahr\": \"1940-01-01T00:00:00\", \"GbdArt\": \"Wohnhaus mit Gesch\\u00e4ftsr\\u00e4umen\", \"sum_Bestand\": 7930.0, \"sum_Neubau\": 21, \"sum_Abbruch\": 10.0}, {\"Jahr\": \"1941-01-01T00:00:00\", \"GbdArt\": \"Einfamilienhaus\", \"sum_Bestand\": 6304.0, \"sum_Neubau\": 96, \"sum_Abbruch\": 6.0}, {\"Jahr\": \"1941-01-01T00:00:00\", \"GbdArt\": \"Mehrfamilienhaus\", \"sum_Bestand\": 9823.0, \"sum_Neubau\": 95, \"sum_Abbruch\": 19.0}, {\"Jahr\": \"1941-01-01T00:00:00\", \"GbdArt\": \"Nichtwohngeb\\u00e4ude\", \"sum_Bestand\": 8689.0, \"sum_Neubau\": 120, \"sum_Abbruch\": 93.0}, {\"Jahr\": \"1941-01-01T00:00:00\", \"GbdArt\": \"Wohnhaus mit Gesch\\u00e4ftsr\\u00e4umen\", \"sum_Bestand\": 7972.0, \"sum_Neubau\": 23, \"sum_Abbruch\": 15.0}, {\"Jahr\": \"1942-01-01T00:00:00\", \"GbdArt\": \"Wohnhaus mit Gesch\\u00e4ftsr\\u00e4umen\", \"sum_Bestand\": 7987.0, \"sum_Neubau\": 35, \"sum_Abbruch\": 17.0}, {\"Jahr\": \"1942-01-01T00:00:00\", \"GbdArt\": \"Nichtwohngeb\\u00e4ude\", \"sum_Bestand\": 8744.0, \"sum_Neubau\": 123, \"sum_Abbruch\": 62.0}, {\"Jahr\": \"1942-01-01T00:00:00\", \"GbdArt\": \"Mehrfamilienhaus\", \"sum_Bestand\": 9993.0, \"sum_Neubau\": 142, \"sum_Abbruch\": 8.0}, {\"Jahr\": \"1942-01-01T00:00:00\", \"GbdArt\": \"Einfamilienhaus\", \"sum_Bestand\": 6308.0, \"sum_Neubau\": 35, \"sum_Abbruch\": 4.0}, {\"Jahr\": \"1943-01-01T00:00:00\", \"GbdArt\": \"Einfamilienhaus\", \"sum_Bestand\": 6547.0, \"sum_Neubau\": 271, \"sum_Abbruch\": 9.0}, {\"Jahr\": \"1943-01-01T00:00:00\", \"GbdArt\": \"Mehrfamilienhaus\", \"sum_Bestand\": 10150.0, \"sum_Neubau\": 143, \"sum_Abbruch\": 10.0}, {\"Jahr\": \"1943-01-01T00:00:00\", \"GbdArt\": \"Nichtwohngeb\\u00e4ude\", \"sum_Bestand\": 8871.0, \"sum_Neubau\": 173, \"sum_Abbruch\": 48.0}, {\"Jahr\": \"1943-01-01T00:00:00\", \"GbdArt\": \"Wohnhaus mit Gesch\\u00e4ftsr\\u00e4umen\", \"sum_Bestand\": 8000.0, \"sum_Neubau\": 19, \"sum_Abbruch\": 3.0}, {\"Jahr\": \"1944-01-01T00:00:00\", \"GbdArt\": \"Einfamilienhaus\", \"sum_Bestand\": 7053.0, \"sum_Neubau\": 521, \"sum_Abbruch\": 5.0}, {\"Jahr\": \"1944-01-01T00:00:00\", \"GbdArt\": \"Mehrfamilienhaus\", \"sum_Bestand\": 10343.0, \"sum_Neubau\": 195, \"sum_Abbruch\": 11.0}, {\"Jahr\": \"1944-01-01T00:00:00\", \"GbdArt\": \"Nichtwohngeb\\u00e4ude\", \"sum_Bestand\": 8888.0, \"sum_Neubau\": 83, \"sum_Abbruch\": 66.0}, {\"Jahr\": \"1944-01-01T00:00:00\", \"GbdArt\": \"Wohnhaus mit Gesch\\u00e4ftsr\\u00e4umen\", \"sum_Bestand\": 8020.0, \"sum_Neubau\": 26, \"sum_Abbruch\": 7.0}, {\"Jahr\": \"1945-01-01T00:00:00\", \"GbdArt\": \"Einfamilienhaus\", \"sum_Bestand\": 7485.0, \"sum_Neubau\": 458, \"sum_Abbruch\": 8.0}, {\"Jahr\": \"1945-01-01T00:00:00\", \"GbdArt\": \"Mehrfamilienhaus\", \"sum_Bestand\": 10560.0, \"sum_Neubau\": 222, \"sum_Abbruch\": 12.0}, {\"Jahr\": \"1945-01-01T00:00:00\", \"GbdArt\": \"Nichtwohngeb\\u00e4ude\", \"sum_Bestand\": 8924.0, \"sum_Neubau\": 84, \"sum_Abbruch\": 48.0}, {\"Jahr\": \"1945-01-01T00:00:00\", \"GbdArt\": \"Wohnhaus mit Gesch\\u00e4ftsr\\u00e4umen\", \"sum_Bestand\": 8050.0, \"sum_Neubau\": 32, \"sum_Abbruch\": 12.0}, {\"Jahr\": \"1946-01-01T00:00:00\", \"GbdArt\": \"Nichtwohngeb\\u00e4ude\", \"sum_Bestand\": 8936.0, \"sum_Neubau\": 110, \"sum_Abbruch\": 100.0}, {\"Jahr\": \"1946-01-01T00:00:00\", \"GbdArt\": \"Wohnhaus mit Gesch\\u00e4ftsr\\u00e4umen\", \"sum_Bestand\": 8075.0, \"sum_Neubau\": 53, \"sum_Abbruch\": 27.0}, {\"Jahr\": \"1946-01-01T00:00:00\", \"GbdArt\": \"Mehrfamilienhaus\", \"sum_Bestand\": 10767.0, \"sum_Neubau\": 219, \"sum_Abbruch\": 14.0}, {\"Jahr\": \"1946-01-01T00:00:00\", \"GbdArt\": \"Einfamilienhaus\", \"sum_Bestand\": 8055.0, \"sum_Neubau\": 590, \"sum_Abbruch\": 17.0}, {\"Jahr\": \"1947-01-01T00:00:00\", \"GbdArt\": \"Einfamilienhaus\", \"sum_Bestand\": 8528.0, \"sum_Neubau\": 494, \"sum_Abbruch\": 11.0}, {\"Jahr\": \"1947-01-01T00:00:00\", \"GbdArt\": \"Mehrfamilienhaus\", \"sum_Bestand\": 10940.0, \"sum_Neubau\": 186, \"sum_Abbruch\": 17.0}, {\"Jahr\": \"1947-01-01T00:00:00\", \"GbdArt\": \"Nichtwohngeb\\u00e4ude\", \"sum_Bestand\": 8938.0, \"sum_Neubau\": 116, \"sum_Abbruch\": 117.0}, {\"Jahr\": \"1947-01-01T00:00:00\", \"GbdArt\": \"Wohnhaus mit Gesch\\u00e4ftsr\\u00e4umen\", \"sum_Bestand\": 8104.0, \"sum_Neubau\": 53, \"sum_Abbruch\": 28.0}, {\"Jahr\": \"1948-01-01T00:00:00\", \"GbdArt\": \"Einfamilienhaus\", \"sum_Bestand\": 8999.0, \"sum_Neubau\": 496, \"sum_Abbruch\": 16.0}, {\"Jahr\": \"1948-01-01T00:00:00\", \"GbdArt\": \"Mehrfamilienhaus\", \"sum_Bestand\": 11307.0, \"sum_Neubau\": 382, \"sum_Abbruch\": 16.0}, {\"Jahr\": \"1948-01-01T00:00:00\", \"GbdArt\": \"Nichtwohngeb\\u00e4ude\", \"sum_Bestand\": 9156.0, \"sum_Neubau\": 296, \"sum_Abbruch\": 88.0}, {\"Jahr\": \"1948-01-01T00:00:00\", \"GbdArt\": \"Wohnhaus mit Gesch\\u00e4ftsr\\u00e4umen\", \"sum_Bestand\": 8113.0, \"sum_Neubau\": 36, \"sum_Abbruch\": 24.0}, {\"Jahr\": \"1949-01-01T00:00:00\", \"GbdArt\": \"Einfamilienhaus\", \"sum_Bestand\": 9353.0, \"sum_Neubau\": 384, \"sum_Abbruch\": 13.0}, {\"Jahr\": \"1949-01-01T00:00:00\", \"GbdArt\": \"Mehrfamilienhaus\", \"sum_Bestand\": 11619.0, \"sum_Neubau\": 324, \"sum_Abbruch\": 12.0}, {\"Jahr\": \"1949-01-01T00:00:00\", \"GbdArt\": \"Nichtwohngeb\\u00e4ude\", \"sum_Bestand\": 9258.0, \"sum_Neubau\": 182, \"sum_Abbruch\": 94.0}, {\"Jahr\": \"1949-01-01T00:00:00\", \"GbdArt\": \"Wohnhaus mit Gesch\\u00e4ftsr\\u00e4umen\", \"sum_Bestand\": 8108.0, \"sum_Neubau\": 16, \"sum_Abbruch\": 24.0}, {\"Jahr\": \"1950-01-01T00:00:00\", \"GbdArt\": \"Wohnhaus mit Gesch\\u00e4ftsr\\u00e4umen\", \"sum_Bestand\": 8102.0, \"sum_Neubau\": 38, \"sum_Abbruch\": 41.0}, {\"Jahr\": \"1950-01-01T00:00:00\", \"GbdArt\": \"Nichtwohngeb\\u00e4ude\", \"sum_Bestand\": 9308.0, \"sum_Neubau\": 152, \"sum_Abbruch\": 113.0}, {\"Jahr\": \"1950-01-01T00:00:00\", \"GbdArt\": \"Einfamilienhaus\", \"sum_Bestand\": 9521.0, \"sum_Neubau\": 186, \"sum_Abbruch\": 16.0}, {\"Jahr\": \"1950-01-01T00:00:00\", \"GbdArt\": \"Mehrfamilienhaus\", \"sum_Bestand\": 11999.0, \"sum_Neubau\": 412, \"sum_Abbruch\": 30.0}, {\"Jahr\": \"1951-01-01T00:00:00\", \"GbdArt\": \"Einfamilienhaus\", \"sum_Bestand\": 9685.0, \"sum_Neubau\": 190, \"sum_Abbruch\": 17.0}, {\"Jahr\": \"1951-01-01T00:00:00\", \"GbdArt\": \"Mehrfamilienhaus\", \"sum_Bestand\": 12444.0, \"sum_Neubau\": 509, \"sum_Abbruch\": 50.0}, {\"Jahr\": \"1951-01-01T00:00:00\", \"GbdArt\": \"Nichtwohngeb\\u00e4ude\", \"sum_Bestand\": 9422.0, \"sum_Neubau\": 204, \"sum_Abbruch\": 108.0}, {\"Jahr\": \"1951-01-01T00:00:00\", \"GbdArt\": \"Wohnhaus mit Gesch\\u00e4ftsr\\u00e4umen\", \"sum_Bestand\": 8149.0, \"sum_Neubau\": 67, \"sum_Abbruch\": 25.0}, {\"Jahr\": \"1952-01-01T00:00:00\", \"GbdArt\": \"Einfamilienhaus\", \"sum_Bestand\": 9794.0, \"sum_Neubau\": 154, \"sum_Abbruch\": 31.0}, {\"Jahr\": \"1952-01-01T00:00:00\", \"GbdArt\": \"Mehrfamilienhaus\", \"sum_Bestand\": 12935.0, \"sum_Neubau\": 532, \"sum_Abbruch\": 34.0}, {\"Jahr\": \"1952-01-01T00:00:00\", \"GbdArt\": \"Nichtwohngeb\\u00e4ude\", \"sum_Bestand\": 9527.0, \"sum_Neubau\": 213, \"sum_Abbruch\": 127.0}, {\"Jahr\": \"1952-01-01T00:00:00\", \"GbdArt\": \"Wohnhaus mit Gesch\\u00e4ftsr\\u00e4umen\", \"sum_Bestand\": 8182.0, \"sum_Neubau\": 60, \"sum_Abbruch\": 29.0}, {\"Jahr\": \"1953-01-01T00:00:00\", \"GbdArt\": \"Nichtwohngeb\\u00e4ude\", \"sum_Bestand\": 9691.0, \"sum_Neubau\": 250, \"sum_Abbruch\": 116.0}, {\"Jahr\": \"1953-01-01T00:00:00\", \"GbdArt\": \"Wohnhaus mit Gesch\\u00e4ftsr\\u00e4umen\", \"sum_Bestand\": 8188.0, \"sum_Neubau\": 49, \"sum_Abbruch\": 39.0}, {\"Jahr\": \"1953-01-01T00:00:00\", \"GbdArt\": \"Mehrfamilienhaus\", \"sum_Bestand\": 13270.0, \"sum_Neubau\": 372, \"sum_Abbruch\": 34.0}, {\"Jahr\": \"1953-01-01T00:00:00\", \"GbdArt\": \"Einfamilienhaus\", \"sum_Bestand\": 9961.0, \"sum_Neubau\": 212, \"sum_Abbruch\": 22.0}, {\"Jahr\": \"1954-01-01T00:00:00\", \"GbdArt\": \"Einfamilienhaus\", \"sum_Bestand\": 9986.0, \"sum_Neubau\": 76, \"sum_Abbruch\": 26.0}, {\"Jahr\": \"1954-01-01T00:00:00\", \"GbdArt\": \"Mehrfamilienhaus\", \"sum_Bestand\": 13634.0, \"sum_Neubau\": 409, \"sum_Abbruch\": 26.0}, {\"Jahr\": \"1954-01-01T00:00:00\", \"GbdArt\": \"Nichtwohngeb\\u00e4ude\", \"sum_Bestand\": 9796.0, \"sum_Neubau\": 179, \"sum_Abbruch\": 135.0}, {\"Jahr\": \"1954-01-01T00:00:00\", \"GbdArt\": \"Wohnhaus mit Gesch\\u00e4ftsr\\u00e4umen\", \"sum_Bestand\": 8173.0, \"sum_Neubau\": 43, \"sum_Abbruch\": 34.0}, {\"Jahr\": \"1955-01-01T00:00:00\", \"GbdArt\": \"Wohnhaus mit Gesch\\u00e4ftsr\\u00e4umen\", \"sum_Bestand\": 8143.0, \"sum_Neubau\": 34, \"sum_Abbruch\": 51.0}, {\"Jahr\": \"1955-01-01T00:00:00\", \"GbdArt\": \"Einfamilienhaus\", \"sum_Bestand\": 10006.0, \"sum_Neubau\": 58, \"sum_Abbruch\": 22.0}, {\"Jahr\": \"1955-01-01T00:00:00\", \"GbdArt\": \"Mehrfamilienhaus\", \"sum_Bestand\": 13915.0, \"sum_Neubau\": 340, \"sum_Abbruch\": 49.0}, {\"Jahr\": \"1955-01-01T00:00:00\", \"GbdArt\": \"Nichtwohngeb\\u00e4ude\", \"sum_Bestand\": 9918.0, \"sum_Neubau\": 251, \"sum_Abbruch\": 168.0}, {\"Jahr\": \"1956-01-01T00:00:00\", \"GbdArt\": \"Wohnhaus mit Gesch\\u00e4ftsr\\u00e4umen\", \"sum_Bestand\": 6836.0, \"sum_Neubau\": 29, \"sum_Abbruch\": 72.0}, {\"Jahr\": \"1956-01-01T00:00:00\", \"GbdArt\": \"Nichtwohngeb\\u00e4ude\", \"sum_Bestand\": 10907.0, \"sum_Neubau\": 318, \"sum_Abbruch\": 193.0}, {\"Jahr\": \"1956-01-01T00:00:00\", \"GbdArt\": \"Mehrfamilienhaus\", \"sum_Bestand\": 14212.0, \"sum_Neubau\": 206, \"sum_Abbruch\": 56.0}, {\"Jahr\": \"1956-01-01T00:00:00\", \"GbdArt\": \"Einfamilienhaus\", \"sum_Bestand\": 10576.0, \"sum_Neubau\": 51, \"sum_Abbruch\": 19.0}, {\"Jahr\": \"1957-01-01T00:00:00\", \"GbdArt\": \"Wohnhaus mit Gesch\\u00e4ftsr\\u00e4umen\", \"sum_Bestand\": 6836.0, \"sum_Neubau\": 34, \"sum_Abbruch\": 29.0}, {\"Jahr\": \"1957-01-01T00:00:00\", \"GbdArt\": \"Einfamilienhaus\", \"sum_Bestand\": 10610.0, \"sum_Neubau\": 66, \"sum_Abbruch\": 16.0}, {\"Jahr\": \"1957-01-01T00:00:00\", \"GbdArt\": \"Mehrfamilienhaus\", \"sum_Bestand\": 14405.0, \"sum_Neubau\": 234, \"sum_Abbruch\": 32.0}, {\"Jahr\": \"1957-01-01T00:00:00\", \"GbdArt\": \"Nichtwohngeb\\u00e4ude\", \"sum_Bestand\": 11097.0, \"sum_Neubau\": 281, \"sum_Abbruch\": 121.0}, {\"Jahr\": \"1958-01-01T00:00:00\", \"GbdArt\": \"Nichtwohngeb\\u00e4ude\", \"sum_Bestand\": 11328.0, \"sum_Neubau\": 309, \"sum_Abbruch\": 151.0}, {\"Jahr\": \"1958-01-01T00:00:00\", \"GbdArt\": \"Wohnhaus mit Gesch\\u00e4ftsr\\u00e4umen\", \"sum_Bestand\": 6781.0, \"sum_Neubau\": 32, \"sum_Abbruch\": 55.0}, {\"Jahr\": \"1958-01-01T00:00:00\", \"GbdArt\": \"Einfamilienhaus\", \"sum_Bestand\": 10600.0, \"sum_Neubau\": 16, \"sum_Abbruch\": 15.0}, {\"Jahr\": \"1958-01-01T00:00:00\", \"GbdArt\": \"Mehrfamilienhaus\", \"sum_Bestand\": 14627.0, \"sum_Neubau\": 275, \"sum_Abbruch\": 45.0}, {\"Jahr\": \"1959-01-01T00:00:00\", \"GbdArt\": \"Nichtwohngeb\\u00e4ude\", \"sum_Bestand\": 11424.0, \"sum_Neubau\": 223, \"sum_Abbruch\": 163.0}, {\"Jahr\": \"1959-01-01T00:00:00\", \"GbdArt\": \"Wohnhaus mit Gesch\\u00e4ftsr\\u00e4umen\", \"sum_Bestand\": 6787.0, \"sum_Neubau\": 38, \"sum_Abbruch\": 37.0}, {\"Jahr\": \"1959-01-01T00:00:00\", \"GbdArt\": \"Einfamilienhaus\", \"sum_Bestand\": 10569.0, \"sum_Neubau\": 7, \"sum_Abbruch\": 26.0}, {\"Jahr\": \"1959-01-01T00:00:00\", \"GbdArt\": \"Mehrfamilienhaus\", \"sum_Bestand\": 14822.0, \"sum_Neubau\": 252, \"sum_Abbruch\": 28.0}, {\"Jahr\": \"1960-01-01T00:00:00\", \"GbdArt\": \"Nichtwohngeb\\u00e4ude\", \"sum_Bestand\": 11478.0, \"sum_Neubau\": 199, \"sum_Abbruch\": 166.0}, {\"Jahr\": \"1960-01-01T00:00:00\", \"GbdArt\": \"Wohnhaus mit Gesch\\u00e4ftsr\\u00e4umen\", \"sum_Bestand\": 6760.0, \"sum_Neubau\": 36, \"sum_Abbruch\": 61.0}, {\"Jahr\": \"1960-01-01T00:00:00\", \"GbdArt\": \"Einfamilienhaus\", \"sum_Bestand\": 10545.0, \"sum_Neubau\": 10, \"sum_Abbruch\": 31.0}, {\"Jahr\": \"1960-01-01T00:00:00\", \"GbdArt\": \"Mehrfamilienhaus\", \"sum_Bestand\": 15031.0, \"sum_Neubau\": 279, \"sum_Abbruch\": 48.0}, {\"Jahr\": \"1961-01-01T00:00:00\", \"GbdArt\": \"Nichtwohngeb\\u00e4ude\", \"sum_Bestand\": 11513.0, \"sum_Neubau\": 184, \"sum_Abbruch\": 163.0}, {\"Jahr\": \"1961-01-01T00:00:00\", \"GbdArt\": \"Wohnhaus mit Gesch\\u00e4ftsr\\u00e4umen\", \"sum_Bestand\": 6748.0, \"sum_Neubau\": 41, \"sum_Abbruch\": 46.0}, {\"Jahr\": \"1961-01-01T00:00:00\", \"GbdArt\": \"Einfamilienhaus\", \"sum_Bestand\": 10518.0, \"sum_Neubau\": 12, \"sum_Abbruch\": 21.0}, {\"Jahr\": \"1961-01-01T00:00:00\", \"GbdArt\": \"Mehrfamilienhaus\", \"sum_Bestand\": 15149.0, \"sum_Neubau\": 176, \"sum_Abbruch\": 53.0}, {\"Jahr\": \"1962-01-01T00:00:00\", \"GbdArt\": \"Einfamilienhaus\", \"sum_Bestand\": 10499.0, \"sum_Neubau\": 16, \"sum_Abbruch\": 28.0}, {\"Jahr\": \"1962-01-01T00:00:00\", \"GbdArt\": \"Mehrfamilienhaus\", \"sum_Bestand\": 15246.0, \"sum_Neubau\": 174, \"sum_Abbruch\": 52.0}, {\"Jahr\": \"1962-01-01T00:00:00\", \"GbdArt\": \"Nichtwohngeb\\u00e4ude\", \"sum_Bestand\": 11574.0, \"sum_Neubau\": 217, \"sum_Abbruch\": 162.0}, {\"Jahr\": \"1962-01-01T00:00:00\", \"GbdArt\": \"Wohnhaus mit Gesch\\u00e4ftsr\\u00e4umen\", \"sum_Bestand\": 6750.0, \"sum_Neubau\": 29, \"sum_Abbruch\": 34.0}, {\"Jahr\": \"1963-01-01T00:00:00\", \"GbdArt\": \"Einfamilienhaus\", \"sum_Bestand\": 10474.0, \"sum_Neubau\": 32, \"sum_Abbruch\": 42.0}, {\"Jahr\": \"1963-01-01T00:00:00\", \"GbdArt\": \"Mehrfamilienhaus\", \"sum_Bestand\": 15309.0, \"sum_Neubau\": 115, \"sum_Abbruch\": 46.0}, {\"Jahr\": \"1963-01-01T00:00:00\", \"GbdArt\": \"Nichtwohngeb\\u00e4ude\", \"sum_Bestand\": 11641.0, \"sum_Neubau\": 213, \"sum_Abbruch\": 168.0}, {\"Jahr\": \"1963-01-01T00:00:00\", \"GbdArt\": \"Wohnhaus mit Gesch\\u00e4ftsr\\u00e4umen\", \"sum_Bestand\": 6729.0, \"sum_Neubau\": 38, \"sum_Abbruch\": 47.0}, {\"Jahr\": \"1964-01-01T00:00:00\", \"GbdArt\": \"Einfamilienhaus\", \"sum_Bestand\": 10455.0, \"sum_Neubau\": 18, \"sum_Abbruch\": 38.0}, {\"Jahr\": \"1964-01-01T00:00:00\", \"GbdArt\": \"Mehrfamilienhaus\", \"sum_Bestand\": 15446.0, \"sum_Neubau\": 193, \"sum_Abbruch\": 37.0}, {\"Jahr\": \"1964-01-01T00:00:00\", \"GbdArt\": \"Nichtwohngeb\\u00e4ude\", \"sum_Bestand\": 11764.0, \"sum_Neubau\": 237, \"sum_Abbruch\": 128.0}, {\"Jahr\": \"1964-01-01T00:00:00\", \"GbdArt\": \"Wohnhaus mit Gesch\\u00e4ftsr\\u00e4umen\", \"sum_Bestand\": 6709.0, \"sum_Neubau\": 23, \"sum_Abbruch\": 36.0}, {\"Jahr\": \"1965-01-01T00:00:00\", \"GbdArt\": \"Wohnhaus mit Gesch\\u00e4ftsr\\u00e4umen\", \"sum_Bestand\": 6701.0, \"sum_Neubau\": 29, \"sum_Abbruch\": 25.0}, {\"Jahr\": \"1965-01-01T00:00:00\", \"GbdArt\": \"Nichtwohngeb\\u00e4ude\", \"sum_Bestand\": 11849.0, \"sum_Neubau\": 206, \"sum_Abbruch\": 135.0}, {\"Jahr\": \"1965-01-01T00:00:00\", \"GbdArt\": \"Einfamilienhaus\", \"sum_Bestand\": 10446.0, \"sum_Neubau\": 14, \"sum_Abbruch\": 15.0}, {\"Jahr\": \"1965-01-01T00:00:00\", \"GbdArt\": \"Mehrfamilienhaus\", \"sum_Bestand\": 15586.0, \"sum_Neubau\": 178, \"sum_Abbruch\": 36.0}, {\"Jahr\": \"1966-01-01T00:00:00\", \"GbdArt\": \"Einfamilienhaus\", \"sum_Bestand\": 10392.0, \"sum_Neubau\": 11, \"sum_Abbruch\": 56.0}, {\"Jahr\": \"1966-01-01T00:00:00\", \"GbdArt\": \"Mehrfamilienhaus\", \"sum_Bestand\": 15673.0, \"sum_Neubau\": 139, \"sum_Abbruch\": 45.0}, {\"Jahr\": \"1966-01-01T00:00:00\", \"GbdArt\": \"Nichtwohngeb\\u00e4ude\", \"sum_Bestand\": 11937.0, \"sum_Neubau\": 223, \"sum_Abbruch\": 147.0}, {\"Jahr\": \"1966-01-01T00:00:00\", \"GbdArt\": \"Wohnhaus mit Gesch\\u00e4ftsr\\u00e4umen\", \"sum_Bestand\": 6694.0, \"sum_Neubau\": 16, \"sum_Abbruch\": 25.0}, {\"Jahr\": \"1967-01-01T00:00:00\", \"GbdArt\": \"Einfamilienhaus\", \"sum_Bestand\": 10381.0, \"sum_Neubau\": 4, \"sum_Abbruch\": 14.0}, {\"Jahr\": \"1967-01-01T00:00:00\", \"GbdArt\": \"Mehrfamilienhaus\", \"sum_Bestand\": 15754.0, \"sum_Neubau\": 113, \"sum_Abbruch\": 17.0}, {\"Jahr\": \"1967-01-01T00:00:00\", \"GbdArt\": \"Nichtwohngeb\\u00e4ude\", \"sum_Bestand\": 12219.0, \"sum_Neubau\": 266, \"sum_Abbruch\": 126.0}, {\"Jahr\": \"1967-01-01T00:00:00\", \"GbdArt\": \"Wohnhaus mit Gesch\\u00e4ftsr\\u00e4umen\", \"sum_Bestand\": 6674.0, \"sum_Neubau\": 20, \"sum_Abbruch\": 34.0}, {\"Jahr\": \"1968-01-01T00:00:00\", \"GbdArt\": \"Einfamilienhaus\", \"sum_Bestand\": 10344.0, \"sum_Neubau\": 5, \"sum_Abbruch\": 29.0}, {\"Jahr\": \"1968-01-01T00:00:00\", \"GbdArt\": \"Mehrfamilienhaus\", \"sum_Bestand\": 15865.0, \"sum_Neubau\": 153, \"sum_Abbruch\": 35.0}, {\"Jahr\": \"1968-01-01T00:00:00\", \"GbdArt\": \"Nichtwohngeb\\u00e4ude\", \"sum_Bestand\": 12364.0, \"sum_Neubau\": 200, \"sum_Abbruch\": 145.0}, {\"Jahr\": \"1968-01-01T00:00:00\", \"GbdArt\": \"Wohnhaus mit Gesch\\u00e4ftsr\\u00e4umen\", \"sum_Bestand\": 6652.0, \"sum_Neubau\": 27, \"sum_Abbruch\": 46.0}, {\"Jahr\": \"1969-01-01T00:00:00\", \"GbdArt\": \"Wohnhaus mit Gesch\\u00e4ftsr\\u00e4umen\", \"sum_Bestand\": 6641.0, \"sum_Neubau\": 22, \"sum_Abbruch\": 61.0}, {\"Jahr\": \"1969-01-01T00:00:00\", \"GbdArt\": \"Nichtwohngeb\\u00e4ude\", \"sum_Bestand\": 12207.0, \"sum_Neubau\": 185, \"sum_Abbruch\": 212.0}, {\"Jahr\": \"1969-01-01T00:00:00\", \"GbdArt\": \"Einfamilienhaus\", \"sum_Bestand\": 10324.0, \"sum_Neubau\": 20, \"sum_Abbruch\": 29.0}, {\"Jahr\": \"1969-01-01T00:00:00\", \"GbdArt\": \"Mehrfamilienhaus\", \"sum_Bestand\": 15933.0, \"sum_Neubau\": 161, \"sum_Abbruch\": 55.0}, {\"Jahr\": \"1970-01-01T00:00:00\", \"GbdArt\": \"Einfamilienhaus\", \"sum_Bestand\": 10316.0, \"sum_Neubau\": 2, \"sum_Abbruch\": 23.0}, {\"Jahr\": \"1970-01-01T00:00:00\", \"GbdArt\": \"Mehrfamilienhaus\", \"sum_Bestand\": 16024.0, \"sum_Neubau\": 148, \"sum_Abbruch\": 49.0}, {\"Jahr\": \"1970-01-01T00:00:00\", \"GbdArt\": \"Nichtwohngeb\\u00e4ude\", \"sum_Bestand\": 12248.0, \"sum_Neubau\": 138, \"sum_Abbruch\": 184.0}, {\"Jahr\": \"1970-01-01T00:00:00\", \"GbdArt\": \"Wohnhaus mit Gesch\\u00e4ftsr\\u00e4umen\", \"sum_Bestand\": 6569.0, \"sum_Neubau\": 19, \"sum_Abbruch\": 63.0}, {\"Jahr\": \"1971-01-01T00:00:00\", \"GbdArt\": \"Einfamilienhaus\", \"sum_Bestand\": 10165.0, \"sum_Neubau\": 12, \"sum_Abbruch\": 126.0}, {\"Jahr\": \"1971-01-01T00:00:00\", \"GbdArt\": \"Mehrfamilienhaus\", \"sum_Bestand\": 16025.0, \"sum_Neubau\": 122, \"sum_Abbruch\": 90.0}, {\"Jahr\": \"1971-01-01T00:00:00\", \"GbdArt\": \"Nichtwohngeb\\u00e4ude\", \"sum_Bestand\": 12150.0, \"sum_Neubau\": 170, \"sum_Abbruch\": 253.0}, {\"Jahr\": \"1971-01-01T00:00:00\", \"GbdArt\": \"Wohnhaus mit Gesch\\u00e4ftsr\\u00e4umen\", \"sum_Bestand\": 6556.0, \"sum_Neubau\": 36, \"sum_Abbruch\": 65.0}, {\"Jahr\": \"1972-01-01T00:00:00\", \"GbdArt\": \"Wohnhaus mit Gesch\\u00e4ftsr\\u00e4umen\", \"sum_Bestand\": 6566.0, \"sum_Neubau\": 48, \"sum_Abbruch\": 13.0}, {\"Jahr\": \"1972-01-01T00:00:00\", \"GbdArt\": \"Nichtwohngeb\\u00e4ude\", \"sum_Bestand\": 12520.0, \"sum_Neubau\": 237, \"sum_Abbruch\": 151.0}, {\"Jahr\": \"1972-01-01T00:00:00\", \"GbdArt\": \"Mehrfamilienhaus\", \"sum_Bestand\": 15878.0, \"sum_Neubau\": 132, \"sum_Abbruch\": 32.0}, {\"Jahr\": \"1972-01-01T00:00:00\", \"GbdArt\": \"Einfamilienhaus\", \"sum_Bestand\": 10082.0, \"sum_Neubau\": 37, \"sum_Abbruch\": 96.0}, {\"Jahr\": \"1973-01-01T00:00:00\", \"GbdArt\": \"Einfamilienhaus\", \"sum_Bestand\": 10003.0, \"sum_Neubau\": 13, \"sum_Abbruch\": 50.0}, {\"Jahr\": \"1973-01-01T00:00:00\", \"GbdArt\": \"Mehrfamilienhaus\", \"sum_Bestand\": 15846.0, \"sum_Neubau\": 137, \"sum_Abbruch\": 25.0}, {\"Jahr\": \"1973-01-01T00:00:00\", \"GbdArt\": \"Nichtwohngeb\\u00e4ude\", \"sum_Bestand\": 12869.0, \"sum_Neubau\": 273, \"sum_Abbruch\": 134.0}, {\"Jahr\": \"1973-01-01T00:00:00\", \"GbdArt\": \"Wohnhaus mit Gesch\\u00e4ftsr\\u00e4umen\", \"sum_Bestand\": 6575.0, \"sum_Neubau\": 34, \"sum_Abbruch\": 14.0}, {\"Jahr\": \"1974-01-01T00:00:00\", \"GbdArt\": \"Einfamilienhaus\", \"sum_Bestand\": 9985.0, \"sum_Neubau\": 21, \"sum_Abbruch\": 17.0}, {\"Jahr\": \"1974-01-01T00:00:00\", \"GbdArt\": \"Mehrfamilienhaus\", \"sum_Bestand\": 15795.0, \"sum_Neubau\": 159, \"sum_Abbruch\": 20.0}, {\"Jahr\": \"1974-01-01T00:00:00\", \"GbdArt\": \"Nichtwohngeb\\u00e4ude\", \"sum_Bestand\": 12969.0, \"sum_Neubau\": 201, \"sum_Abbruch\": 143.0}, {\"Jahr\": \"1974-01-01T00:00:00\", \"GbdArt\": \"Wohnhaus mit Gesch\\u00e4ftsr\\u00e4umen\", \"sum_Bestand\": 6598.0, \"sum_Neubau\": 21, \"sum_Abbruch\": 10.0}, {\"Jahr\": \"1975-01-01T00:00:00\", \"GbdArt\": \"Nichtwohngeb\\u00e4ude\", \"sum_Bestand\": 14121.0, \"sum_Neubau\": 361, \"sum_Abbruch\": 149.0}, {\"Jahr\": \"1975-01-01T00:00:00\", \"GbdArt\": \"Wohnhaus mit Gesch\\u00e4ftsr\\u00e4umen\", \"sum_Bestand\": 6586.0, \"sum_Neubau\": 16, \"sum_Abbruch\": 23.0}, {\"Jahr\": \"1975-01-01T00:00:00\", \"GbdArt\": \"Einfamilienhaus\", \"sum_Bestand\": 9915.0, \"sum_Neubau\": 12, \"sum_Abbruch\": 76.0}, {\"Jahr\": \"1975-01-01T00:00:00\", \"GbdArt\": \"Mehrfamilienhaus\", \"sum_Bestand\": 15853.0, \"sum_Neubau\": 99, \"sum_Abbruch\": 30.0}, {\"Jahr\": \"1976-01-01T00:00:00\", \"GbdArt\": \"Wohnhaus mit Gesch\\u00e4ftsr\\u00e4umen\", \"sum_Bestand\": 6587.0, \"sum_Neubau\": 25, \"sum_Abbruch\": 26.0}, {\"Jahr\": \"1976-01-01T00:00:00\", \"GbdArt\": \"Nichtwohngeb\\u00e4ude\", \"sum_Bestand\": 14442.0, \"sum_Neubau\": 286, \"sum_Abbruch\": 203.0}, {\"Jahr\": \"1976-01-01T00:00:00\", \"GbdArt\": \"Mehrfamilienhaus\", \"sum_Bestand\": 15902.0, \"sum_Neubau\": 95, \"sum_Abbruch\": 38.0}, {\"Jahr\": \"1976-01-01T00:00:00\", \"GbdArt\": \"Einfamilienhaus\", \"sum_Bestand\": 9889.0, \"sum_Neubau\": 2, \"sum_Abbruch\": 21.0}, {\"Jahr\": \"1977-01-01T00:00:00\", \"GbdArt\": \"Einfamilienhaus\", \"sum_Bestand\": 9875.0, \"sum_Neubau\": 18, \"sum_Abbruch\": 21.0}, {\"Jahr\": \"1977-01-01T00:00:00\", \"GbdArt\": \"Mehrfamilienhaus\", \"sum_Bestand\": 15949.0, \"sum_Neubau\": 91, \"sum_Abbruch\": 39.0}, {\"Jahr\": \"1977-01-01T00:00:00\", \"GbdArt\": \"Nichtwohngeb\\u00e4ude\", \"sum_Bestand\": 14762.0, \"sum_Neubau\": 322, \"sum_Abbruch\": 189.0}, {\"Jahr\": \"1977-01-01T00:00:00\", \"GbdArt\": \"Wohnhaus mit Gesch\\u00e4ftsr\\u00e4umen\", \"sum_Bestand\": 6609.0, \"sum_Neubau\": 23, \"sum_Abbruch\": 14.0}, {\"Jahr\": \"1978-01-01T00:00:00\", \"GbdArt\": \"Einfamilienhaus\", \"sum_Bestand\": 9880.0, \"sum_Neubau\": 35, \"sum_Abbruch\": 20.0}, {\"Jahr\": \"1978-01-01T00:00:00\", \"GbdArt\": \"Mehrfamilienhaus\", \"sum_Bestand\": 15987.0, \"sum_Neubau\": 69, \"sum_Abbruch\": 29.0}, {\"Jahr\": \"1978-01-01T00:00:00\", \"GbdArt\": \"Nichtwohngeb\\u00e4ude\", \"sum_Bestand\": 14921.0, \"sum_Neubau\": 209, \"sum_Abbruch\": 135.0}, {\"Jahr\": \"1978-01-01T00:00:00\", \"GbdArt\": \"Wohnhaus mit Gesch\\u00e4ftsr\\u00e4umen\", \"sum_Bestand\": 6580.0, \"sum_Neubau\": 5, \"sum_Abbruch\": 36.0}, {\"Jahr\": \"1979-01-01T00:00:00\", \"GbdArt\": \"Nichtwohngeb\\u00e4ude\", \"sum_Bestand\": 15071.0, \"sum_Neubau\": 254, \"sum_Abbruch\": 182.0}, {\"Jahr\": \"1979-01-01T00:00:00\", \"GbdArt\": \"Wohnhaus mit Gesch\\u00e4ftsr\\u00e4umen\", \"sum_Bestand\": 6587.0, \"sum_Neubau\": 16, \"sum_Abbruch\": 36.0}, {\"Jahr\": \"1979-01-01T00:00:00\", \"GbdArt\": \"Einfamilienhaus\", \"sum_Bestand\": 9885.0, \"sum_Neubau\": 30, \"sum_Abbruch\": 17.0}, {\"Jahr\": \"1979-01-01T00:00:00\", \"GbdArt\": \"Mehrfamilienhaus\", \"sum_Bestand\": 16027.0, \"sum_Neubau\": 114, \"sum_Abbruch\": 51.0}, {\"Jahr\": \"1980-01-01T00:00:00\", \"GbdArt\": \"Einfamilienhaus\", \"sum_Bestand\": 9864.0, \"sum_Neubau\": 14, \"sum_Abbruch\": 23.0}, {\"Jahr\": \"1980-01-01T00:00:00\", \"GbdArt\": \"Mehrfamilienhaus\", \"sum_Bestand\": 16114.0, \"sum_Neubau\": 123, \"sum_Abbruch\": 27.0}, {\"Jahr\": \"1980-01-01T00:00:00\", \"GbdArt\": \"Nichtwohngeb\\u00e4ude\", \"sum_Bestand\": 15203.0, \"sum_Neubau\": 201, \"sum_Abbruch\": 148.0}, {\"Jahr\": \"1980-01-01T00:00:00\", \"GbdArt\": \"Wohnhaus mit Gesch\\u00e4ftsr\\u00e4umen\", \"sum_Bestand\": 6595.0, \"sum_Neubau\": 20, \"sum_Abbruch\": 36.0}, {\"Jahr\": \"1981-01-01T00:00:00\", \"GbdArt\": \"Einfamilienhaus\", \"sum_Bestand\": 9833.0, \"sum_Neubau\": 43, \"sum_Abbruch\": 61.0}, {\"Jahr\": \"1981-01-01T00:00:00\", \"GbdArt\": \"Mehrfamilienhaus\", \"sum_Bestand\": 16229.0, \"sum_Neubau\": 184, \"sum_Abbruch\": 36.0}, {\"Jahr\": \"1981-01-01T00:00:00\", \"GbdArt\": \"Nichtwohngeb\\u00e4ude\", \"sum_Bestand\": 15353.0, \"sum_Neubau\": 195, \"sum_Abbruch\": 205.0}, {\"Jahr\": \"1981-01-01T00:00:00\", \"GbdArt\": \"Wohnhaus mit Gesch\\u00e4ftsr\\u00e4umen\", \"sum_Bestand\": 6626.0, \"sum_Neubau\": 34, \"sum_Abbruch\": 35.0}, {\"Jahr\": \"1982-01-01T00:00:00\", \"GbdArt\": \"Wohnhaus mit Gesch\\u00e4ftsr\\u00e4umen\", \"sum_Bestand\": 6690.0, \"sum_Neubau\": 49, \"sum_Abbruch\": 34.0}, {\"Jahr\": \"1982-01-01T00:00:00\", \"GbdArt\": \"Einfamilienhaus\", \"sum_Bestand\": 9875.0, \"sum_Neubau\": 66, \"sum_Abbruch\": 12.0}, {\"Jahr\": \"1982-01-01T00:00:00\", \"GbdArt\": \"Mehrfamilienhaus\", \"sum_Bestand\": 16331.0, \"sum_Neubau\": 165, \"sum_Abbruch\": 16.0}, {\"Jahr\": \"1982-01-01T00:00:00\", \"GbdArt\": \"Nichtwohngeb\\u00e4ude\", \"sum_Bestand\": 15596.0, \"sum_Neubau\": 255, \"sum_Abbruch\": 162.0}, {\"Jahr\": \"1983-01-01T00:00:00\", \"GbdArt\": \"Nichtwohngeb\\u00e4ude\", \"sum_Bestand\": 15708.0, \"sum_Neubau\": 142, \"sum_Abbruch\": 151.0}, {\"Jahr\": \"1983-01-01T00:00:00\", \"GbdArt\": \"Wohnhaus mit Gesch\\u00e4ftsr\\u00e4umen\", \"sum_Bestand\": 6747.0, \"sum_Neubau\": 34, \"sum_Abbruch\": 29.0}, {\"Jahr\": \"1983-01-01T00:00:00\", \"GbdArt\": \"Einfamilienhaus\", \"sum_Bestand\": 9855.0, \"sum_Neubau\": 10, \"sum_Abbruch\": 10.0}, {\"Jahr\": \"1983-01-01T00:00:00\", \"GbdArt\": \"Mehrfamilienhaus\", \"sum_Bestand\": 16353.0, \"sum_Neubau\": 90, \"sum_Abbruch\": 26.0}, {\"Jahr\": \"1984-01-01T00:00:00\", \"GbdArt\": \"Einfamilienhaus\", \"sum_Bestand\": 9857.0, \"sum_Neubau\": 14, \"sum_Abbruch\": 17.0}, {\"Jahr\": \"1984-01-01T00:00:00\", \"GbdArt\": \"Mehrfamilienhaus\", \"sum_Bestand\": 16381.0, \"sum_Neubau\": 97, \"sum_Abbruch\": 23.0}, {\"Jahr\": \"1984-01-01T00:00:00\", \"GbdArt\": \"Nichtwohngeb\\u00e4ude\", \"sum_Bestand\": 16121.0, \"sum_Neubau\": 141, \"sum_Abbruch\": 105.0}, {\"Jahr\": \"1984-01-01T00:00:00\", \"GbdArt\": \"Wohnhaus mit Gesch\\u00e4ftsr\\u00e4umen\", \"sum_Bestand\": 6808.0, \"sum_Neubau\": 36, \"sum_Abbruch\": 22.0}, {\"Jahr\": \"1985-01-01T00:00:00\", \"GbdArt\": \"Einfamilienhaus\", \"sum_Bestand\": 9896.0, \"sum_Neubau\": 6, \"sum_Abbruch\": 15.0}, {\"Jahr\": \"1985-01-01T00:00:00\", \"GbdArt\": \"Mehrfamilienhaus\", \"sum_Bestand\": 16391.0, \"sum_Neubau\": 99, \"sum_Abbruch\": 19.0}, {\"Jahr\": \"1985-01-01T00:00:00\", \"GbdArt\": \"Nichtwohngeb\\u00e4ude\", \"sum_Bestand\": 16382.0, \"sum_Neubau\": 153, \"sum_Abbruch\": 139.0}, {\"Jahr\": \"1985-01-01T00:00:00\", \"GbdArt\": \"Wohnhaus mit Gesch\\u00e4ftsr\\u00e4umen\", \"sum_Bestand\": 6822.0, \"sum_Neubau\": 43, \"sum_Abbruch\": 19.0}, {\"Jahr\": \"1986-01-01T00:00:00\", \"GbdArt\": \"Einfamilienhaus\", \"sum_Bestand\": 9883.0, \"sum_Neubau\": 14, \"sum_Abbruch\": 16.0}, {\"Jahr\": \"1986-01-01T00:00:00\", \"GbdArt\": \"Mehrfamilienhaus\", \"sum_Bestand\": 16440.0, \"sum_Neubau\": 85, \"sum_Abbruch\": 14.0}, {\"Jahr\": \"1986-01-01T00:00:00\", \"GbdArt\": \"Nichtwohngeb\\u00e4ude\", \"sum_Bestand\": 16445.0, \"sum_Neubau\": 105, \"sum_Abbruch\": 115.0}, {\"Jahr\": \"1986-01-01T00:00:00\", \"GbdArt\": \"Wohnhaus mit Gesch\\u00e4ftsr\\u00e4umen\", \"sum_Bestand\": 6879.0, \"sum_Neubau\": 31, \"sum_Abbruch\": 13.0}, {\"Jahr\": \"1987-01-01T00:00:00\", \"GbdArt\": \"Wohnhaus mit Gesch\\u00e4ftsr\\u00e4umen\", \"sum_Bestand\": 6907.0, \"sum_Neubau\": 33, \"sum_Abbruch\": 23.0}, {\"Jahr\": \"1987-01-01T00:00:00\", \"GbdArt\": \"Nichtwohngeb\\u00e4ude\", \"sum_Bestand\": 16463.0, \"sum_Neubau\": 60, \"sum_Abbruch\": 201.0}, {\"Jahr\": \"1987-01-01T00:00:00\", \"GbdArt\": \"Mehrfamilienhaus\", \"sum_Bestand\": 16456.0, \"sum_Neubau\": 53, \"sum_Abbruch\": 25.0}, {\"Jahr\": \"1987-01-01T00:00:00\", \"GbdArt\": \"Einfamilienhaus\", \"sum_Bestand\": 9862.0, \"sum_Neubau\": 0, \"sum_Abbruch\": 18.0}, {\"Jahr\": \"1988-01-01T00:00:00\", \"GbdArt\": \"Einfamilienhaus\", \"sum_Bestand\": 9851.0, \"sum_Neubau\": 6, \"sum_Abbruch\": 15.0}, {\"Jahr\": \"1988-01-01T00:00:00\", \"GbdArt\": \"Mehrfamilienhaus\", \"sum_Bestand\": 16480.0, \"sum_Neubau\": 44, \"sum_Abbruch\": 19.0}, {\"Jahr\": \"1988-01-01T00:00:00\", \"GbdArt\": \"Nichtwohngeb\\u00e4ude\", \"sum_Bestand\": 16502.0, \"sum_Neubau\": 54, \"sum_Abbruch\": 137.0}, {\"Jahr\": \"1988-01-01T00:00:00\", \"GbdArt\": \"Wohnhaus mit Gesch\\u00e4ftsr\\u00e4umen\", \"sum_Bestand\": 6916.0, \"sum_Neubau\": 22, \"sum_Abbruch\": 15.0}, {\"Jahr\": \"1989-01-01T00:00:00\", \"GbdArt\": \"Einfamilienhaus\", \"sum_Bestand\": 9837.0, \"sum_Neubau\": 9, \"sum_Abbruch\": 18.0}, {\"Jahr\": \"1989-01-01T00:00:00\", \"GbdArt\": \"Mehrfamilienhaus\", \"sum_Bestand\": 16463.0, \"sum_Neubau\": 36, \"sum_Abbruch\": 19.0}, {\"Jahr\": \"1989-01-01T00:00:00\", \"GbdArt\": \"Nichtwohngeb\\u00e4ude\", \"sum_Bestand\": 16540.0, \"sum_Neubau\": 50, \"sum_Abbruch\": 96.0}, {\"Jahr\": \"1989-01-01T00:00:00\", \"GbdArt\": \"Wohnhaus mit Gesch\\u00e4ftsr\\u00e4umen\", \"sum_Bestand\": 6977.0, \"sum_Neubau\": 32, \"sum_Abbruch\": 11.0}, {\"Jahr\": \"1990-01-01T00:00:00\", \"GbdArt\": \"Wohnhaus mit Gesch\\u00e4ftsr\\u00e4umen\", \"sum_Bestand\": 7000.0, \"sum_Neubau\": 27, \"sum_Abbruch\": 18.0}, {\"Jahr\": \"1990-01-01T00:00:00\", \"GbdArt\": \"Einfamilienhaus\", \"sum_Bestand\": 9873.0, \"sum_Neubau\": 58, \"sum_Abbruch\": 22.0}, {\"Jahr\": \"1990-01-01T00:00:00\", \"GbdArt\": \"Mehrfamilienhaus\", \"sum_Bestand\": 16456.0, \"sum_Neubau\": 32, \"sum_Abbruch\": 25.0}, {\"Jahr\": \"1990-01-01T00:00:00\", \"GbdArt\": \"Nichtwohngeb\\u00e4ude\", \"sum_Bestand\": 16580.0, \"sum_Neubau\": 58, \"sum_Abbruch\": 102.0}, {\"Jahr\": \"1991-01-01T00:00:00\", \"GbdArt\": \"Wohnhaus mit Gesch\\u00e4ftsr\\u00e4umen\", \"sum_Bestand\": 7068.0, \"sum_Neubau\": 67, \"sum_Abbruch\": 10.0}, {\"Jahr\": \"1991-01-01T00:00:00\", \"GbdArt\": \"Nichtwohngeb\\u00e4ude\", \"sum_Bestand\": 16655.0, \"sum_Neubau\": 90, \"sum_Abbruch\": 131.0}, {\"Jahr\": \"1991-01-01T00:00:00\", \"GbdArt\": \"Einfamilienhaus\", \"sum_Bestand\": 9892.0, \"sum_Neubau\": 52, \"sum_Abbruch\": 19.0}, {\"Jahr\": \"1991-01-01T00:00:00\", \"GbdArt\": \"Mehrfamilienhaus\", \"sum_Bestand\": 16511.0, \"sum_Neubau\": 81, \"sum_Abbruch\": 12.0}, {\"Jahr\": \"1992-01-01T00:00:00\", \"GbdArt\": \"Einfamilienhaus\", \"sum_Bestand\": 9880.0, \"sum_Neubau\": 17, \"sum_Abbruch\": 32.0}, {\"Jahr\": \"1992-01-01T00:00:00\", \"GbdArt\": \"Mehrfamilienhaus\", \"sum_Bestand\": 16529.0, \"sum_Neubau\": 41, \"sum_Abbruch\": 16.0}, {\"Jahr\": \"1992-01-01T00:00:00\", \"GbdArt\": \"Nichtwohngeb\\u00e4ude\", \"sum_Bestand\": 16734.0, \"sum_Neubau\": 102, \"sum_Abbruch\": 98.0}, {\"Jahr\": \"1992-01-01T00:00:00\", \"GbdArt\": \"Wohnhaus mit Gesch\\u00e4ftsr\\u00e4umen\", \"sum_Bestand\": 7100.0, \"sum_Neubau\": 28, \"sum_Abbruch\": 9.0}, {\"Jahr\": \"1993-01-01T00:00:00\", \"GbdArt\": \"Einfamilienhaus\", \"sum_Bestand\": 9867.0, \"sum_Neubau\": 31, \"sum_Abbruch\": 8.0}, {\"Jahr\": \"1993-01-01T00:00:00\", \"GbdArt\": \"Mehrfamilienhaus\", \"sum_Bestand\": 16591.0, \"sum_Neubau\": 79, \"sum_Abbruch\": 13.0}, {\"Jahr\": \"1993-01-01T00:00:00\", \"GbdArt\": \"Nichtwohngeb\\u00e4ude\", \"sum_Bestand\": 16403.0, \"sum_Neubau\": 127, \"sum_Abbruch\": 63.0}, {\"Jahr\": \"1993-01-01T00:00:00\", \"GbdArt\": \"Wohnhaus mit Gesch\\u00e4ftsr\\u00e4umen\", \"sum_Bestand\": 7758.0, \"sum_Neubau\": 24, \"sum_Abbruch\": 9.0}, {\"Jahr\": \"1994-01-01T00:00:00\", \"GbdArt\": \"Einfamilienhaus\", \"sum_Bestand\": 9895.0, \"sum_Neubau\": 19, \"sum_Abbruch\": 13.0}, {\"Jahr\": \"1994-01-01T00:00:00\", \"GbdArt\": \"Mehrfamilienhaus\", \"sum_Bestand\": 16567.0, \"sum_Neubau\": 61, \"sum_Abbruch\": 9.0}, {\"Jahr\": \"1994-01-01T00:00:00\", \"GbdArt\": \"Nichtwohngeb\\u00e4ude\", \"sum_Bestand\": 16614.0, \"sum_Neubau\": 125, \"sum_Abbruch\": 96.0}, {\"Jahr\": \"1994-01-01T00:00:00\", \"GbdArt\": \"Wohnhaus mit Gesch\\u00e4ftsr\\u00e4umen\", \"sum_Bestand\": 7869.0, \"sum_Neubau\": 24, \"sum_Abbruch\": 21.0}, {\"Jahr\": \"1995-01-01T00:00:00\", \"GbdArt\": \"Wohnhaus mit Gesch\\u00e4ftsr\\u00e4umen\", \"sum_Bestand\": 8043.0, \"sum_Neubau\": 30, \"sum_Abbruch\": 3.0}, {\"Jahr\": \"1995-01-01T00:00:00\", \"GbdArt\": \"Nichtwohngeb\\u00e4ude\", \"sum_Bestand\": 16943.0, \"sum_Neubau\": 111, \"sum_Abbruch\": 118.0}, {\"Jahr\": \"1995-01-01T00:00:00\", \"GbdArt\": \"Einfamilienhaus\", \"sum_Bestand\": 9852.0, \"sum_Neubau\": 9, \"sum_Abbruch\": 14.0}, {\"Jahr\": \"1995-01-01T00:00:00\", \"GbdArt\": \"Mehrfamilienhaus\", \"sum_Bestand\": 16501.0, \"sum_Neubau\": 39, \"sum_Abbruch\": 7.0}, {\"Jahr\": \"1996-01-01T00:00:00\", \"GbdArt\": \"Einfamilienhaus\", \"sum_Bestand\": 9856.0, \"sum_Neubau\": 7, \"sum_Abbruch\": 9.0}, {\"Jahr\": \"1996-01-01T00:00:00\", \"GbdArt\": \"Mehrfamilienhaus\", \"sum_Bestand\": 16603.0, \"sum_Neubau\": 53, \"sum_Abbruch\": 12.0}, {\"Jahr\": \"1996-01-01T00:00:00\", \"GbdArt\": \"Nichtwohngeb\\u00e4ude\", \"sum_Bestand\": 17259.0, \"sum_Neubau\": 67, \"sum_Abbruch\": 91.0}, {\"Jahr\": \"1996-01-01T00:00:00\", \"GbdArt\": \"Wohnhaus mit Gesch\\u00e4ftsr\\u00e4umen\", \"sum_Bestand\": 8006.0, \"sum_Neubau\": 11, \"sum_Abbruch\": 2.0}, {\"Jahr\": \"1997-01-01T00:00:00\", \"GbdArt\": \"Wohnhaus mit Gesch\\u00e4ftsr\\u00e4umen\", \"sum_Bestand\": 8017.0, \"sum_Neubau\": 8, \"sum_Abbruch\": 11.0}, {\"Jahr\": \"1997-01-01T00:00:00\", \"GbdArt\": \"Einfamilienhaus\", \"sum_Bestand\": 9878.0, \"sum_Neubau\": 20, \"sum_Abbruch\": 3.0}, {\"Jahr\": \"1997-01-01T00:00:00\", \"GbdArt\": \"Mehrfamilienhaus\", \"sum_Bestand\": 16631.0, \"sum_Neubau\": 33, \"sum_Abbruch\": 17.0}, {\"Jahr\": \"1997-01-01T00:00:00\", \"GbdArt\": \"Nichtwohngeb\\u00e4ude\", \"sum_Bestand\": 17785.0, \"sum_Neubau\": 74, \"sum_Abbruch\": 140.0}, {\"Jahr\": \"1998-01-01T00:00:00\", \"GbdArt\": \"Nichtwohngeb\\u00e4ude\", \"sum_Bestand\": 18267.0, \"sum_Neubau\": 56, \"sum_Abbruch\": 142.0}, {\"Jahr\": \"1998-01-01T00:00:00\", \"GbdArt\": \"Wohnhaus mit Gesch\\u00e4ftsr\\u00e4umen\", \"sum_Bestand\": 8015.0, \"sum_Neubau\": 7, \"sum_Abbruch\": 14.0}, {\"Jahr\": \"1998-01-01T00:00:00\", \"GbdArt\": \"Einfamilienhaus\", \"sum_Bestand\": 9899.0, \"sum_Neubau\": 34, \"sum_Abbruch\": 15.0}, {\"Jahr\": \"1998-01-01T00:00:00\", \"GbdArt\": \"Mehrfamilienhaus\", \"sum_Bestand\": 16702.0, \"sum_Neubau\": 66, \"sum_Abbruch\": 17.0}, {\"Jahr\": \"1999-01-01T00:00:00\", \"GbdArt\": \"Wohnhaus mit Gesch\\u00e4ftsr\\u00e4umen\", \"sum_Bestand\": 8015.0, \"sum_Neubau\": 9, \"sum_Abbruch\": 15.0}, {\"Jahr\": \"1999-01-01T00:00:00\", \"GbdArt\": \"Nichtwohngeb\\u00e4ude\", \"sum_Bestand\": 18781.0, \"sum_Neubau\": 51, \"sum_Abbruch\": 236.0}, {\"Jahr\": \"1999-01-01T00:00:00\", \"GbdArt\": \"Einfamilienhaus\", \"sum_Bestand\": 9901.0, \"sum_Neubau\": 15, \"sum_Abbruch\": 11.0}, {\"Jahr\": \"1999-01-01T00:00:00\", \"GbdArt\": \"Mehrfamilienhaus\", \"sum_Bestand\": 16777.0, \"sum_Neubau\": 67, \"sum_Abbruch\": 9.0}, {\"Jahr\": \"2000-01-01T00:00:00\", \"GbdArt\": \"Einfamilienhaus\", \"sum_Bestand\": 9888.0, \"sum_Neubau\": 44, \"sum_Abbruch\": 66.0}, {\"Jahr\": \"2000-01-01T00:00:00\", \"GbdArt\": \"Mehrfamilienhaus\", \"sum_Bestand\": 16849.0, \"sum_Neubau\": 84, \"sum_Abbruch\": 17.0}, {\"Jahr\": \"2000-01-01T00:00:00\", \"GbdArt\": \"Nichtwohngeb\\u00e4ude\", \"sum_Bestand\": 19320.0, \"sum_Neubau\": 96, \"sum_Abbruch\": 236.0}, {\"Jahr\": \"2000-01-01T00:00:00\", \"GbdArt\": \"Wohnhaus mit Gesch\\u00e4ftsr\\u00e4umen\", \"sum_Bestand\": 8044.0, \"sum_Neubau\": 12, \"sum_Abbruch\": 7.0}, {\"Jahr\": \"2001-01-01T00:00:00\", \"GbdArt\": \"Einfamilienhaus\", \"sum_Bestand\": 9844.0, \"sum_Neubau\": 16, \"sum_Abbruch\": 65.0}, {\"Jahr\": \"2001-01-01T00:00:00\", \"GbdArt\": \"Mehrfamilienhaus\", \"sum_Bestand\": 16917.0, \"sum_Neubau\": 73, \"sum_Abbruch\": 14.0}, {\"Jahr\": \"2001-01-01T00:00:00\", \"GbdArt\": \"Nichtwohngeb\\u00e4ude\", \"sum_Bestand\": 19881.0, \"sum_Neubau\": 70, \"sum_Abbruch\": 160.0}, {\"Jahr\": \"2001-01-01T00:00:00\", \"GbdArt\": \"Wohnhaus mit Gesch\\u00e4ftsr\\u00e4umen\", \"sum_Bestand\": 8043.0, \"sum_Neubau\": 19, \"sum_Abbruch\": 10.0}, {\"Jahr\": \"2002-01-01T00:00:00\", \"GbdArt\": \"Wohnhaus mit Gesch\\u00e4ftsr\\u00e4umen\", \"sum_Bestand\": 7771.0, \"sum_Neubau\": 15, \"sum_Abbruch\": 13.0}, {\"Jahr\": \"2002-01-01T00:00:00\", \"GbdArt\": \"Nichtwohngeb\\u00e4ude\", \"sum_Bestand\": 20190.0, \"sum_Neubau\": 60, \"sum_Abbruch\": 284.0}, {\"Jahr\": \"2002-01-01T00:00:00\", \"GbdArt\": \"Mehrfamilienhaus\", \"sum_Bestand\": 17241.0, \"sum_Neubau\": 82, \"sum_Abbruch\": 38.0}, {\"Jahr\": \"2002-01-01T00:00:00\", \"GbdArt\": \"Einfamilienhaus\", \"sum_Bestand\": 9867.0, \"sum_Neubau\": 29, \"sum_Abbruch\": 11.0}, {\"Jahr\": \"2003-01-01T00:00:00\", \"GbdArt\": \"Einfamilienhaus\", \"sum_Bestand\": 9951.0, \"sum_Neubau\": 50, \"sum_Abbruch\": 19.0}, {\"Jahr\": \"2003-01-01T00:00:00\", \"GbdArt\": \"Mehrfamilienhaus\", \"sum_Bestand\": 17391.0, \"sum_Neubau\": 117, \"sum_Abbruch\": 17.0}, {\"Jahr\": \"2003-01-01T00:00:00\", \"GbdArt\": \"Nichtwohngeb\\u00e4ude\", \"sum_Bestand\": 20130.0, \"sum_Neubau\": 61, \"sum_Abbruch\": 216.0}, {\"Jahr\": \"2003-01-01T00:00:00\", \"GbdArt\": \"Wohnhaus mit Gesch\\u00e4ftsr\\u00e4umen\", \"sum_Bestand\": 7802.0, \"sum_Neubau\": 13, \"sum_Abbruch\": 3.0}, {\"Jahr\": \"2004-01-01T00:00:00\", \"GbdArt\": \"Einfamilienhaus\", \"sum_Bestand\": 9940.0, \"sum_Neubau\": 8, \"sum_Abbruch\": 21.0}, {\"Jahr\": \"2004-01-01T00:00:00\", \"GbdArt\": \"Mehrfamilienhaus\", \"sum_Bestand\": 17425.0, \"sum_Neubau\": 76, \"sum_Abbruch\": 54.0}, {\"Jahr\": \"2004-01-01T00:00:00\", \"GbdArt\": \"Nichtwohngeb\\u00e4ude\", \"sum_Bestand\": 20146.0, \"sum_Neubau\": 61, \"sum_Abbruch\": 260.0}, {\"Jahr\": \"2004-01-01T00:00:00\", \"GbdArt\": \"Wohnhaus mit Gesch\\u00e4ftsr\\u00e4umen\", \"sum_Bestand\": 7800.0, \"sum_Neubau\": 21, \"sum_Abbruch\": 10.0}, {\"Jahr\": \"2005-01-01T00:00:00\", \"GbdArt\": \"Einfamilienhaus\", \"sum_Bestand\": 9867.0, \"sum_Neubau\": 14, \"sum_Abbruch\": 84.0}, {\"Jahr\": \"2005-01-01T00:00:00\", \"GbdArt\": \"Mehrfamilienhaus\", \"sum_Bestand\": 17463.0, \"sum_Neubau\": 72, \"sum_Abbruch\": 50.0}, {\"Jahr\": \"2005-01-01T00:00:00\", \"GbdArt\": \"Nichtwohngeb\\u00e4ude\", \"sum_Bestand\": 20213.0, \"sum_Neubau\": 56, \"sum_Abbruch\": 184.0}, {\"Jahr\": \"2005-01-01T00:00:00\", \"GbdArt\": \"Wohnhaus mit Gesch\\u00e4ftsr\\u00e4umen\", \"sum_Bestand\": 7796.0, \"sum_Neubau\": 23, \"sum_Abbruch\": 14.0}, {\"Jahr\": \"2006-01-01T00:00:00\", \"GbdArt\": \"Wohnhaus mit Gesch\\u00e4ftsr\\u00e4umen\", \"sum_Bestand\": 7818.0, \"sum_Neubau\": 18, \"sum_Abbruch\": 10.0}, {\"Jahr\": \"2006-01-01T00:00:00\", \"GbdArt\": \"Nichtwohngeb\\u00e4ude\", \"sum_Bestand\": 20881.0, \"sum_Neubau\": 88, \"sum_Abbruch\": 115.0}, {\"Jahr\": \"2006-01-01T00:00:00\", \"GbdArt\": \"Einfamilienhaus\", \"sum_Bestand\": 9854.0, \"sum_Neubau\": 15, \"sum_Abbruch\": 45.0}, {\"Jahr\": \"2006-01-01T00:00:00\", \"GbdArt\": \"Mehrfamilienhaus\", \"sum_Bestand\": 17527.0, \"sum_Neubau\": 91, \"sum_Abbruch\": 14.0}, {\"Jahr\": \"2007-01-01T00:00:00\", \"GbdArt\": \"Einfamilienhaus\", \"sum_Bestand\": 9917.0, \"sum_Neubau\": 68, \"sum_Abbruch\": 10.0}, {\"Jahr\": \"2007-01-01T00:00:00\", \"GbdArt\": \"Mehrfamilienhaus\", \"sum_Bestand\": 17605.0, \"sum_Neubau\": 143, \"sum_Abbruch\": 62.0}, {\"Jahr\": \"2007-01-01T00:00:00\", \"GbdArt\": \"Nichtwohngeb\\u00e4ude\", \"sum_Bestand\": 21858.0, \"sum_Neubau\": 100, \"sum_Abbruch\": 93.0}, {\"Jahr\": \"2007-01-01T00:00:00\", \"GbdArt\": \"Wohnhaus mit Gesch\\u00e4ftsr\\u00e4umen\", \"sum_Bestand\": 7467.0, \"sum_Neubau\": 31, \"sum_Abbruch\": 19.0}, {\"Jahr\": \"2008-01-01T00:00:00\", \"GbdArt\": \"Einfamilienhaus\", \"sum_Bestand\": 9899.0, \"sum_Neubau\": 14, \"sum_Abbruch\": 27.0}, {\"Jahr\": \"2008-01-01T00:00:00\", \"GbdArt\": \"Mehrfamilienhaus\", \"sum_Bestand\": 18024.0, \"sum_Neubau\": 118, \"sum_Abbruch\": 96.0}, {\"Jahr\": \"2008-01-01T00:00:00\", \"GbdArt\": \"Nichtwohngeb\\u00e4ude\", \"sum_Bestand\": 18750.0, \"sum_Neubau\": 28, \"sum_Abbruch\": 108.0}, {\"Jahr\": \"2008-01-01T00:00:00\", \"GbdArt\": \"Wohnhaus mit Gesch\\u00e4ftsr\\u00e4umen\", \"sum_Bestand\": 7394.0, \"sum_Neubau\": 9, \"sum_Abbruch\": 13.0}, {\"Jahr\": \"2009-01-01T00:00:00\", \"GbdArt\": \"Einfamilienhaus\", \"sum_Bestand\": 9757.0, \"sum_Neubau\": 6, \"sum_Abbruch\": 144.0}, {\"Jahr\": \"2009-01-01T00:00:00\", \"GbdArt\": \"Mehrfamilienhaus\", \"sum_Bestand\": 18059.0, \"sum_Neubau\": 107, \"sum_Abbruch\": 81.0}, {\"Jahr\": \"2009-01-01T00:00:00\", \"GbdArt\": \"Nichtwohngeb\\u00e4ude\", \"sum_Bestand\": 18696.0, \"sum_Neubau\": 55, \"sum_Abbruch\": 96.0}, {\"Jahr\": \"2009-01-01T00:00:00\", \"GbdArt\": \"Wohnhaus mit Gesch\\u00e4ftsr\\u00e4umen\", \"sum_Bestand\": 7386.0, \"sum_Neubau\": 13, \"sum_Abbruch\": 16.0}, {\"Jahr\": \"2010-01-01T00:00:00\", \"GbdArt\": \"Wohnhaus mit Gesch\\u00e4ftsr\\u00e4umen\", \"sum_Bestand\": 7360.0, \"sum_Neubau\": 17, \"sum_Abbruch\": 29.0}, {\"Jahr\": \"2010-01-01T00:00:00\", \"GbdArt\": \"Nichtwohngeb\\u00e4ude\", \"sum_Bestand\": 18745.0, \"sum_Neubau\": 112, \"sum_Abbruch\": 333.0}, {\"Jahr\": \"2010-01-01T00:00:00\", \"GbdArt\": \"Mehrfamilienhaus\", \"sum_Bestand\": 18096.0, \"sum_Neubau\": 107, \"sum_Abbruch\": 82.0}, {\"Jahr\": \"2010-01-01T00:00:00\", \"GbdArt\": \"Einfamilienhaus\", \"sum_Bestand\": 9711.0, \"sum_Neubau\": 14, \"sum_Abbruch\": 70.0}, {\"Jahr\": \"2011-01-01T00:00:00\", \"GbdArt\": \"Einfamilienhaus\", \"sum_Bestand\": 9744.0, \"sum_Neubau\": 8, \"sum_Abbruch\": 120.0}, {\"Jahr\": \"2011-01-01T00:00:00\", \"GbdArt\": \"Mehrfamilienhaus\", \"sum_Bestand\": 17976.0, \"sum_Neubau\": 185, \"sum_Abbruch\": 84.0}, {\"Jahr\": \"2011-01-01T00:00:00\", \"GbdArt\": \"Nichtwohngeb\\u00e4ude\", \"sum_Bestand\": 18913.0, \"sum_Neubau\": 79, \"sum_Abbruch\": 178.0}, {\"Jahr\": \"2011-01-01T00:00:00\", \"GbdArt\": \"Wohnhaus mit Gesch\\u00e4ftsr\\u00e4umen\", \"sum_Bestand\": 7452.0, \"sum_Neubau\": 22, \"sum_Abbruch\": 14.0}, {\"Jahr\": \"2012-01-01T00:00:00\", \"GbdArt\": \"Einfamilienhaus\", \"sum_Bestand\": 9774.0, \"sum_Neubau\": 80, \"sum_Abbruch\": 39.0}, {\"Jahr\": \"2012-01-01T00:00:00\", \"GbdArt\": \"Mehrfamilienhaus\", \"sum_Bestand\": 18013.0, \"sum_Neubau\": 130, \"sum_Abbruch\": 123.0}, {\"Jahr\": \"2012-01-01T00:00:00\", \"GbdArt\": \"Nichtwohngeb\\u00e4ude\", \"sum_Bestand\": 18877.0, \"sum_Neubau\": 103, \"sum_Abbruch\": 128.0}, {\"Jahr\": \"2012-01-01T00:00:00\", \"GbdArt\": \"Wohnhaus mit Gesch\\u00e4ftsr\\u00e4umen\", \"sum_Bestand\": 7488.0, \"sum_Neubau\": 32, \"sum_Abbruch\": 9.0}, {\"Jahr\": \"2013-01-01T00:00:00\", \"GbdArt\": \"Einfamilienhaus\", \"sum_Bestand\": 9775.0, \"sum_Neubau\": 35, \"sum_Abbruch\": 41.0}, {\"Jahr\": \"2013-01-01T00:00:00\", \"GbdArt\": \"Mehrfamilienhaus\", \"sum_Bestand\": 18079.0, \"sum_Neubau\": 116, \"sum_Abbruch\": 69.0}, {\"Jahr\": \"2013-01-01T00:00:00\", \"GbdArt\": \"Nichtwohngeb\\u00e4ude\", \"sum_Bestand\": 18842.0, \"sum_Neubau\": 78, \"sum_Abbruch\": 139.0}, {\"Jahr\": \"2013-01-01T00:00:00\", \"GbdArt\": \"Wohnhaus mit Gesch\\u00e4ftsr\\u00e4umen\", \"sum_Bestand\": 7527.0, \"sum_Neubau\": 44, \"sum_Abbruch\": 16.0}, {\"Jahr\": \"2014-01-01T00:00:00\", \"GbdArt\": \"Wohnhaus mit Gesch\\u00e4ftsr\\u00e4umen\", \"sum_Bestand\": 7546.0, \"sum_Neubau\": 32, \"sum_Abbruch\": 18.0}, {\"Jahr\": \"2014-01-01T00:00:00\", \"GbdArt\": \"Nichtwohngeb\\u00e4ude\", \"sum_Bestand\": 18907.0, \"sum_Neubau\": 74, \"sum_Abbruch\": 94.0}, {\"Jahr\": \"2014-01-01T00:00:00\", \"GbdArt\": \"Einfamilienhaus\", \"sum_Bestand\": 9667.0, \"sum_Neubau\": 15, \"sum_Abbruch\": 126.0}, {\"Jahr\": \"2014-01-01T00:00:00\", \"GbdArt\": \"Mehrfamilienhaus\", \"sum_Bestand\": 18035.0, \"sum_Neubau\": 107, \"sum_Abbruch\": 134.0}, {\"Jahr\": \"2015-01-01T00:00:00\", \"GbdArt\": \"Einfamilienhaus\", \"sum_Bestand\": 9656.0, \"sum_Neubau\": 43, \"sum_Abbruch\": 52.0}, {\"Jahr\": \"2015-01-01T00:00:00\", \"GbdArt\": \"Mehrfamilienhaus\", \"sum_Bestand\": 18027.0, \"sum_Neubau\": 144, \"sum_Abbruch\": 99.0}, {\"Jahr\": \"2015-01-01T00:00:00\", \"GbdArt\": \"Nichtwohngeb\\u00e4ude\", \"sum_Bestand\": 18941.0, \"sum_Neubau\": 91, \"sum_Abbruch\": 147.0}, {\"Jahr\": \"2015-01-01T00:00:00\", \"GbdArt\": \"Wohnhaus mit Gesch\\u00e4ftsr\\u00e4umen\", \"sum_Bestand\": 7667.0, \"sum_Neubau\": 63, \"sum_Abbruch\": 21.0}, {\"Jahr\": \"2016-01-01T00:00:00\", \"GbdArt\": \"Einfamilienhaus\", \"sum_Bestand\": 9494.0, \"sum_Neubau\": 18, \"sum_Abbruch\": 177.0}, {\"Jahr\": \"2016-01-01T00:00:00\", \"GbdArt\": \"Mehrfamilienhaus\", \"sum_Bestand\": 18009.0, \"sum_Neubau\": 135, \"sum_Abbruch\": 135.0}, {\"Jahr\": \"2016-01-01T00:00:00\", \"GbdArt\": \"Nichtwohngeb\\u00e4ude\", \"sum_Bestand\": 18952.0, \"sum_Neubau\": 61, \"sum_Abbruch\": 104.0}, {\"Jahr\": \"2016-01-01T00:00:00\", \"GbdArt\": \"Wohnhaus mit Gesch\\u00e4ftsr\\u00e4umen\", \"sum_Bestand\": 7703.0, \"sum_Neubau\": 49, \"sum_Abbruch\": 25.0}, {\"Jahr\": \"2017-01-01T00:00:00\", \"GbdArt\": \"Wohnhaus mit Gesch\\u00e4ftsr\\u00e4umen\", \"sum_Bestand\": 7741.0, \"sum_Neubau\": 66, \"sum_Abbruch\": 23.0}, {\"Jahr\": \"2017-01-01T00:00:00\", \"GbdArt\": \"Einfamilienhaus\", \"sum_Bestand\": 9514.0, \"sum_Neubau\": 38, \"sum_Abbruch\": 26.0}, {\"Jahr\": \"2017-01-01T00:00:00\", \"GbdArt\": \"Mehrfamilienhaus\", \"sum_Bestand\": 18009.0, \"sum_Neubau\": 134, \"sum_Abbruch\": 126.0}, {\"Jahr\": \"2017-01-01T00:00:00\", \"GbdArt\": \"Nichtwohngeb\\u00e4ude\", \"sum_Bestand\": 18923.0, \"sum_Neubau\": 83, \"sum_Abbruch\": 118.0}, {\"Jahr\": \"2018-01-01T00:00:00\", \"GbdArt\": \"Wohnhaus mit Gesch\\u00e4ftsr\\u00e4umen\", \"sum_Bestand\": 7765.0, \"sum_Neubau\": 46, \"sum_Abbruch\": 17.0}, {\"Jahr\": \"2018-01-01T00:00:00\", \"GbdArt\": \"Nichtwohngeb\\u00e4ude\", \"sum_Bestand\": 19089.0, \"sum_Neubau\": 98, \"sum_Abbruch\": 83.0}, {\"Jahr\": \"2018-01-01T00:00:00\", \"GbdArt\": \"Mehrfamilienhaus\", \"sum_Bestand\": 18090.0, \"sum_Neubau\": 165, \"sum_Abbruch\": 89.0}, {\"Jahr\": \"2018-01-01T00:00:00\", \"GbdArt\": \"Einfamilienhaus\", \"sum_Bestand\": 9511.0, \"sum_Neubau\": 13, \"sum_Abbruch\": 16.0}, {\"Jahr\": \"2019-01-01T00:00:00\", \"GbdArt\": \"Einfamilienhaus\", \"sum_Bestand\": 9481.0, \"sum_Neubau\": 11, \"sum_Abbruch\": 22.0}, {\"Jahr\": \"2019-01-01T00:00:00\", \"GbdArt\": \"Mehrfamilienhaus\", \"sum_Bestand\": 18179.0, \"sum_Neubau\": 114, \"sum_Abbruch\": 39.0}, {\"Jahr\": \"2019-01-01T00:00:00\", \"GbdArt\": \"Nichtwohngeb\\u00e4ude\", \"sum_Bestand\": 19147.0, \"sum_Neubau\": 66, \"sum_Abbruch\": 82.0}, {\"Jahr\": \"2019-01-01T00:00:00\", \"GbdArt\": \"Wohnhaus mit Gesch\\u00e4ftsr\\u00e4umen\", \"sum_Bestand\": 7757.0, \"sum_Neubau\": 33, \"sum_Abbruch\": 24.0}, {\"Jahr\": \"2020-01-01T00:00:00\", \"GbdArt\": \"Wohnhaus mit Gesch\\u00e4ftsr\\u00e4umen\", \"sum_Bestand\": 7752.0, \"sum_Neubau\": 24, \"sum_Abbruch\": 18.0}, {\"Jahr\": \"2020-01-01T00:00:00\", \"GbdArt\": \"Einfamilienhaus\", \"sum_Bestand\": 9472.0, \"sum_Neubau\": 11, \"sum_Abbruch\": 26.0}, {\"Jahr\": \"2020-01-01T00:00:00\", \"GbdArt\": \"Mehrfamilienhaus\", \"sum_Bestand\": 18190.0, \"sum_Neubau\": 98, \"sum_Abbruch\": 91.0}, {\"Jahr\": \"2020-01-01T00:00:00\", \"GbdArt\": \"Nichtwohngeb\\u00e4ude\", \"sum_Bestand\": 19159.0, \"sum_Neubau\": 69, \"sum_Abbruch\": 101.0}, {\"Jahr\": \"2021-01-01T00:00:00\", \"GbdArt\": \"Mehrfamilienhaus\", \"sum_Bestand\": 18472.0, \"sum_Neubau\": 113, \"sum_Abbruch\": 157.0}, {\"Jahr\": \"2021-01-01T00:00:00\", \"GbdArt\": \"Nichtwohngeb\\u00e4ude\", \"sum_Bestand\": 19500.0, \"sum_Neubau\": 77, \"sum_Abbruch\": 188.0}, {\"Jahr\": \"2021-01-01T00:00:00\", \"GbdArt\": \"Einfamilienhaus\", \"sum_Bestand\": 9562.0, \"sum_Neubau\": 11, \"sum_Abbruch\": 91.0}, {\"Jahr\": \"2021-01-01T00:00:00\", \"GbdArt\": \"Wohnhaus mit Gesch\\u00e4ftsr\\u00e4umen\", \"sum_Bestand\": 6881.0, \"sum_Neubau\": 34, \"sum_Abbruch\": 39.0}]}}, {\"mode\": \"vega-lite\"});\n",
       "</script>"
      ],
      "text/plain": [
       "alt.LayerChart(...)"
      ]
     },
     "execution_count": 34,
     "metadata": {},
     "output_type": "execute_result"
    }
   ],
   "source": [
    "highlight = alt.selection(type='single', on='mouseover',\n",
    "                          fields=['GbdArt'], nearest=True)\n",
    "#x='date:StichtagDatJahr',\n",
    "base = alt.Chart(myAgg.reset_index().query('sum_Bestand > 1'), title=\"Title\").encode(\n",
    "    x=alt.X('Jahr', axis=alt.Axis(title='Jahr'))# , axis=alt.Axis(format='%', title='percentage')\n",
    "    , y=alt.X('sum_Bestand', axis=alt.Axis(title='Anz. Gebäude'))\n",
    "    , color=alt.Color('GbdArt', legend=alt.Legend(title=\"Gebäudearten\", orient=\"right\"))  \n",
    "    ,tooltip=['Jahr', 'GbdArt','sum_Bestand']    \n",
    ")\n",
    "points = base.mark_circle().encode(\n",
    "    opacity=alt.value(0.75)\n",
    ").add_selection(\n",
    "    highlight\n",
    ").properties(\n",
    "    width=750 , height=350\n",
    ")\n",
    "lines = base.mark_line().encode(\n",
    "    size=alt.condition(~highlight, alt.value(0.5), alt.value(4))\n",
    ").interactive()\n",
    "\n",
    "lines + points"
   ]
  },
  {
   "cell_type": "markdown",
   "metadata": {
    "tags": []
   },
   "source": [
    "#### Entwicklung abgebrochener Gebäude nach Gebäudeart seit 1901"
   ]
  },
  {
   "cell_type": "code",
   "execution_count": 39,
   "metadata": {
    "tags": []
   },
   "outputs": [],
   "source": [
    "#myAgg.reset_index()"
   ]
  },
  {
   "cell_type": "code",
   "execution_count": 38,
   "metadata": {},
   "outputs": [
    {
     "data": {
      "text/html": [
       "\n",
       "<div id=\"altair-viz-f582b3b869a442508af8f911456ab927\"></div>\n",
       "<script type=\"text/javascript\">\n",
       "  (function(spec, embedOpt){\n",
       "    let outputDiv = document.currentScript.previousElementSibling;\n",
       "    if (outputDiv.id !== \"altair-viz-f582b3b869a442508af8f911456ab927\") {\n",
       "      outputDiv = document.getElementById(\"altair-viz-f582b3b869a442508af8f911456ab927\");\n",
       "    }\n",
       "    const paths = {\n",
       "      \"vega\": \"https://cdn.jsdelivr.net/npm//vega@5?noext\",\n",
       "      \"vega-lib\": \"https://cdn.jsdelivr.net/npm//vega-lib?noext\",\n",
       "      \"vega-lite\": \"https://cdn.jsdelivr.net/npm//vega-lite@4.8.1?noext\",\n",
       "      \"vega-embed\": \"https://cdn.jsdelivr.net/npm//vega-embed@6?noext\",\n",
       "    };\n",
       "\n",
       "    function loadScript(lib) {\n",
       "      return new Promise(function(resolve, reject) {\n",
       "        var s = document.createElement('script');\n",
       "        s.src = paths[lib];\n",
       "        s.async = true;\n",
       "        s.onload = () => resolve(paths[lib]);\n",
       "        s.onerror = () => reject(`Error loading script: ${paths[lib]}`);\n",
       "        document.getElementsByTagName(\"head\")[0].appendChild(s);\n",
       "      });\n",
       "    }\n",
       "\n",
       "    function showError(err) {\n",
       "      outputDiv.innerHTML = `<div class=\"error\" style=\"color:red;\">${err}</div>`;\n",
       "      throw err;\n",
       "    }\n",
       "\n",
       "    function displayChart(vegaEmbed) {\n",
       "      vegaEmbed(outputDiv, spec, embedOpt)\n",
       "        .catch(err => showError(`Javascript Error: ${err.message}<br>This usually means there's a typo in your chart specification. See the javascript console for the full traceback.`));\n",
       "    }\n",
       "\n",
       "    if(typeof define === \"function\" && define.amd) {\n",
       "      requirejs.config({paths});\n",
       "      require([\"vega-embed\"], displayChart, err => showError(`Error loading script: ${err.message}`));\n",
       "    } else if (typeof vegaEmbed === \"function\") {\n",
       "      displayChart(vegaEmbed);\n",
       "    } else {\n",
       "      loadScript(\"vega\")\n",
       "        .then(() => loadScript(\"vega-lite\"))\n",
       "        .then(() => loadScript(\"vega-embed\"))\n",
       "        .catch(showError)\n",
       "        .then(() => displayChart(vegaEmbed));\n",
       "    }\n",
       "  })({\"config\": {\"view\": {\"continuousWidth\": 400, \"continuousHeight\": 300}}, \"layer\": [{\"mark\": \"line\", \"encoding\": {\"color\": {\"type\": \"nominal\", \"field\": \"GbdArt\", \"legend\": {\"orient\": \"right\", \"title\": \"Geb\\u00e4udearten\"}}, \"size\": {\"condition\": {\"value\": 0.5, \"selection\": {\"not\": \"selector007\"}}, \"value\": 4}, \"tooltip\": [{\"type\": \"temporal\", \"field\": \"Jahr\"}, {\"type\": \"nominal\", \"field\": \"GbdArt\"}, {\"type\": \"quantitative\", \"field\": \"sum_Abbruch\"}], \"x\": {\"type\": \"temporal\", \"axis\": {\"title\": \"Jahr\"}, \"field\": \"Jahr\"}, \"y\": {\"type\": \"quantitative\", \"axis\": {\"title\": \"Anz. abgebrochener Geb\\u00e4ude\"}, \"field\": \"sum_Abbruch\"}}, \"selection\": {\"selector008\": {\"type\": \"interval\", \"bind\": \"scales\", \"encodings\": [\"x\", \"y\"]}}, \"title\": \"Title\"}, {\"mark\": \"circle\", \"encoding\": {\"color\": {\"type\": \"nominal\", \"field\": \"GbdArt\", \"legend\": {\"orient\": \"right\", \"title\": \"Geb\\u00e4udearten\"}}, \"opacity\": {\"value\": 0.75}, \"tooltip\": [{\"type\": \"temporal\", \"field\": \"Jahr\"}, {\"type\": \"nominal\", \"field\": \"GbdArt\"}, {\"type\": \"quantitative\", \"field\": \"sum_Abbruch\"}], \"x\": {\"type\": \"temporal\", \"axis\": {\"title\": \"Jahr\"}, \"field\": \"Jahr\"}, \"y\": {\"type\": \"quantitative\", \"axis\": {\"title\": \"Anz. abgebrochener Geb\\u00e4ude\"}, \"field\": \"sum_Abbruch\"}}, \"height\": 350, \"selection\": {\"selector007\": {\"type\": \"single\", \"on\": \"mouseover\", \"fields\": [\"GbdArt\"], \"nearest\": true}}, \"title\": \"Title\", \"width\": 750}], \"data\": {\"name\": \"data-3a3d8333a111846b48ebf8f73d03f52f\"}, \"$schema\": \"https://vega.github.io/schema/vega-lite/v4.8.1.json\", \"datasets\": {\"data-3a3d8333a111846b48ebf8f73d03f52f\": [{\"Jahr\": \"1934-01-01T00:00:00\", \"GbdArt\": \"Nichtwohngeb\\u00e4ude\", \"sum_Bestand\": 8325.0, \"sum_Neubau\": 124, \"sum_Abbruch\": 100.0}, {\"Jahr\": \"1934-01-01T00:00:00\", \"GbdArt\": \"Wohnhaus mit Gesch\\u00e4ftsr\\u00e4umen\", \"sum_Bestand\": 7801.0, \"sum_Neubau\": 102, \"sum_Abbruch\": 10.0}, {\"Jahr\": \"1934-01-01T00:00:00\", \"GbdArt\": \"Einfamilienhaus\", \"sum_Bestand\": 6193.0, \"sum_Neubau\": 302, \"sum_Abbruch\": 12.0}, {\"Jahr\": \"1934-01-01T00:00:00\", \"GbdArt\": \"Mehrfamilienhaus\", \"sum_Bestand\": 9266.0, \"sum_Neubau\": 251, \"sum_Abbruch\": 14.0}, {\"Jahr\": \"1935-01-01T00:00:00\", \"GbdArt\": \"Einfamilienhaus\", \"sum_Bestand\": 6353.0, \"sum_Neubau\": 177, \"sum_Abbruch\": 4.0}, {\"Jahr\": \"1935-01-01T00:00:00\", \"GbdArt\": \"Mehrfamilienhaus\", \"sum_Bestand\": 9450.0, \"sum_Neubau\": 176, \"sum_Abbruch\": 9.0}, {\"Jahr\": \"1935-01-01T00:00:00\", \"GbdArt\": \"Nichtwohngeb\\u00e4ude\", \"sum_Bestand\": 8311.0, \"sum_Neubau\": 94, \"sum_Abbruch\": 95.0}, {\"Jahr\": \"1935-01-01T00:00:00\", \"GbdArt\": \"Wohnhaus mit Gesch\\u00e4ftsr\\u00e4umen\", \"sum_Bestand\": 7853.0, \"sum_Neubau\": 55, \"sum_Abbruch\": 11.0}, {\"Jahr\": \"1936-01-01T00:00:00\", \"GbdArt\": \"Einfamilienhaus\", \"sum_Bestand\": 6428.0, \"sum_Neubau\": 78, \"sum_Abbruch\": 3.0}, {\"Jahr\": \"1936-01-01T00:00:00\", \"GbdArt\": \"Mehrfamilienhaus\", \"sum_Bestand\": 9498.0, \"sum_Neubau\": 60, \"sum_Abbruch\": 12.0}, {\"Jahr\": \"1936-01-01T00:00:00\", \"GbdArt\": \"Nichtwohngeb\\u00e4ude\", \"sum_Bestand\": 8333.0, \"sum_Neubau\": 116, \"sum_Abbruch\": 94.0}, {\"Jahr\": \"1936-01-01T00:00:00\", \"GbdArt\": \"Wohnhaus mit Gesch\\u00e4ftsr\\u00e4umen\", \"sum_Bestand\": 7862.0, \"sum_Neubau\": 16, \"sum_Abbruch\": 7.0}, {\"Jahr\": \"1937-01-01T00:00:00\", \"GbdArt\": \"Wohnhaus mit Gesch\\u00e4ftsr\\u00e4umen\", \"sum_Bestand\": 7865.0, \"sum_Neubau\": 22, \"sum_Abbruch\": 19.0}, {\"Jahr\": \"1937-01-01T00:00:00\", \"GbdArt\": \"Einfamilienhaus\", \"sum_Bestand\": 6556.0, \"sum_Neubau\": 141, \"sum_Abbruch\": 13.0}, {\"Jahr\": \"1937-01-01T00:00:00\", \"GbdArt\": \"Mehrfamilienhaus\", \"sum_Bestand\": 9584.0, \"sum_Neubau\": 100, \"sum_Abbruch\": 14.0}, {\"Jahr\": \"1937-01-01T00:00:00\", \"GbdArt\": \"Nichtwohngeb\\u00e4ude\", \"sum_Bestand\": 8319.0, \"sum_Neubau\": 82, \"sum_Abbruch\": 96.0}, {\"Jahr\": \"1938-01-01T00:00:00\", \"GbdArt\": \"Nichtwohngeb\\u00e4ude\", \"sum_Bestand\": 8240.0, \"sum_Neubau\": 72, \"sum_Abbruch\": 151.0}, {\"Jahr\": \"1938-01-01T00:00:00\", \"GbdArt\": \"Wohnhaus mit Gesch\\u00e4ftsr\\u00e4umen\", \"sum_Bestand\": 7882.0, \"sum_Neubau\": 40, \"sum_Abbruch\": 23.0}, {\"Jahr\": \"1938-01-01T00:00:00\", \"GbdArt\": \"Einfamilienhaus\", \"sum_Bestand\": 6721.0, \"sum_Neubau\": 182, \"sum_Abbruch\": 17.0}, {\"Jahr\": \"1938-01-01T00:00:00\", \"GbdArt\": \"Mehrfamilienhaus\", \"sum_Bestand\": 9706.0, \"sum_Neubau\": 157, \"sum_Abbruch\": 35.0}, {\"Jahr\": \"1939-01-01T00:00:00\", \"GbdArt\": \"Einfamilienhaus\", \"sum_Bestand\": 6848.0, \"sum_Neubau\": 139, \"sum_Abbruch\": 12.0}, {\"Jahr\": \"1939-01-01T00:00:00\", \"GbdArt\": \"Mehrfamilienhaus\", \"sum_Bestand\": 9915.0, \"sum_Neubau\": 236, \"sum_Abbruch\": 27.0}, {\"Jahr\": \"1939-01-01T00:00:00\", \"GbdArt\": \"Nichtwohngeb\\u00e4ude\", \"sum_Bestand\": 8282.0, \"sum_Neubau\": 141, \"sum_Abbruch\": 99.0}, {\"Jahr\": \"1939-01-01T00:00:00\", \"GbdArt\": \"Wohnhaus mit Gesch\\u00e4ftsr\\u00e4umen\", \"sum_Bestand\": 7919.0, \"sum_Neubau\": 53, \"sum_Abbruch\": 16.0}, {\"Jahr\": \"1940-01-01T00:00:00\", \"GbdArt\": \"Einfamilienhaus\", \"sum_Bestand\": 6926.0, \"sum_Neubau\": 81, \"sum_Abbruch\": 3.0}, {\"Jahr\": \"1940-01-01T00:00:00\", \"GbdArt\": \"Mehrfamilienhaus\", \"sum_Bestand\": 10009.0, \"sum_Neubau\": 101, \"sum_Abbruch\": 7.0}, {\"Jahr\": \"1940-01-01T00:00:00\", \"GbdArt\": \"Nichtwohngeb\\u00e4ude\", \"sum_Bestand\": 8353.0, \"sum_Neubau\": 117, \"sum_Abbruch\": 46.0}, {\"Jahr\": \"1940-01-01T00:00:00\", \"GbdArt\": \"Wohnhaus mit Gesch\\u00e4ftsr\\u00e4umen\", \"sum_Bestand\": 7930.0, \"sum_Neubau\": 21, \"sum_Abbruch\": 10.0}, {\"Jahr\": \"1941-01-01T00:00:00\", \"GbdArt\": \"Einfamilienhaus\", \"sum_Bestand\": 6304.0, \"sum_Neubau\": 96, \"sum_Abbruch\": 6.0}, {\"Jahr\": \"1941-01-01T00:00:00\", \"GbdArt\": \"Mehrfamilienhaus\", \"sum_Bestand\": 9823.0, \"sum_Neubau\": 95, \"sum_Abbruch\": 19.0}, {\"Jahr\": \"1941-01-01T00:00:00\", \"GbdArt\": \"Nichtwohngeb\\u00e4ude\", \"sum_Bestand\": 8689.0, \"sum_Neubau\": 120, \"sum_Abbruch\": 93.0}, {\"Jahr\": \"1941-01-01T00:00:00\", \"GbdArt\": \"Wohnhaus mit Gesch\\u00e4ftsr\\u00e4umen\", \"sum_Bestand\": 7972.0, \"sum_Neubau\": 23, \"sum_Abbruch\": 15.0}, {\"Jahr\": \"1942-01-01T00:00:00\", \"GbdArt\": \"Wohnhaus mit Gesch\\u00e4ftsr\\u00e4umen\", \"sum_Bestand\": 7987.0, \"sum_Neubau\": 35, \"sum_Abbruch\": 17.0}, {\"Jahr\": \"1942-01-01T00:00:00\", \"GbdArt\": \"Nichtwohngeb\\u00e4ude\", \"sum_Bestand\": 8744.0, \"sum_Neubau\": 123, \"sum_Abbruch\": 62.0}, {\"Jahr\": \"1942-01-01T00:00:00\", \"GbdArt\": \"Mehrfamilienhaus\", \"sum_Bestand\": 9993.0, \"sum_Neubau\": 142, \"sum_Abbruch\": 8.0}, {\"Jahr\": \"1942-01-01T00:00:00\", \"GbdArt\": \"Einfamilienhaus\", \"sum_Bestand\": 6308.0, \"sum_Neubau\": 35, \"sum_Abbruch\": 4.0}, {\"Jahr\": \"1943-01-01T00:00:00\", \"GbdArt\": \"Einfamilienhaus\", \"sum_Bestand\": 6547.0, \"sum_Neubau\": 271, \"sum_Abbruch\": 9.0}, {\"Jahr\": \"1943-01-01T00:00:00\", \"GbdArt\": \"Mehrfamilienhaus\", \"sum_Bestand\": 10150.0, \"sum_Neubau\": 143, \"sum_Abbruch\": 10.0}, {\"Jahr\": \"1943-01-01T00:00:00\", \"GbdArt\": \"Nichtwohngeb\\u00e4ude\", \"sum_Bestand\": 8871.0, \"sum_Neubau\": 173, \"sum_Abbruch\": 48.0}, {\"Jahr\": \"1943-01-01T00:00:00\", \"GbdArt\": \"Wohnhaus mit Gesch\\u00e4ftsr\\u00e4umen\", \"sum_Bestand\": 8000.0, \"sum_Neubau\": 19, \"sum_Abbruch\": 3.0}, {\"Jahr\": \"1944-01-01T00:00:00\", \"GbdArt\": \"Einfamilienhaus\", \"sum_Bestand\": 7053.0, \"sum_Neubau\": 521, \"sum_Abbruch\": 5.0}, {\"Jahr\": \"1944-01-01T00:00:00\", \"GbdArt\": \"Mehrfamilienhaus\", \"sum_Bestand\": 10343.0, \"sum_Neubau\": 195, \"sum_Abbruch\": 11.0}, {\"Jahr\": \"1944-01-01T00:00:00\", \"GbdArt\": \"Nichtwohngeb\\u00e4ude\", \"sum_Bestand\": 8888.0, \"sum_Neubau\": 83, \"sum_Abbruch\": 66.0}, {\"Jahr\": \"1944-01-01T00:00:00\", \"GbdArt\": \"Wohnhaus mit Gesch\\u00e4ftsr\\u00e4umen\", \"sum_Bestand\": 8020.0, \"sum_Neubau\": 26, \"sum_Abbruch\": 7.0}, {\"Jahr\": \"1945-01-01T00:00:00\", \"GbdArt\": \"Einfamilienhaus\", \"sum_Bestand\": 7485.0, \"sum_Neubau\": 458, \"sum_Abbruch\": 8.0}, {\"Jahr\": \"1945-01-01T00:00:00\", \"GbdArt\": \"Mehrfamilienhaus\", \"sum_Bestand\": 10560.0, \"sum_Neubau\": 222, \"sum_Abbruch\": 12.0}, {\"Jahr\": \"1945-01-01T00:00:00\", \"GbdArt\": \"Nichtwohngeb\\u00e4ude\", \"sum_Bestand\": 8924.0, \"sum_Neubau\": 84, \"sum_Abbruch\": 48.0}, {\"Jahr\": \"1945-01-01T00:00:00\", \"GbdArt\": \"Wohnhaus mit Gesch\\u00e4ftsr\\u00e4umen\", \"sum_Bestand\": 8050.0, \"sum_Neubau\": 32, \"sum_Abbruch\": 12.0}, {\"Jahr\": \"1946-01-01T00:00:00\", \"GbdArt\": \"Nichtwohngeb\\u00e4ude\", \"sum_Bestand\": 8936.0, \"sum_Neubau\": 110, \"sum_Abbruch\": 100.0}, {\"Jahr\": \"1946-01-01T00:00:00\", \"GbdArt\": \"Wohnhaus mit Gesch\\u00e4ftsr\\u00e4umen\", \"sum_Bestand\": 8075.0, \"sum_Neubau\": 53, \"sum_Abbruch\": 27.0}, {\"Jahr\": \"1946-01-01T00:00:00\", \"GbdArt\": \"Mehrfamilienhaus\", \"sum_Bestand\": 10767.0, \"sum_Neubau\": 219, \"sum_Abbruch\": 14.0}, {\"Jahr\": \"1946-01-01T00:00:00\", \"GbdArt\": \"Einfamilienhaus\", \"sum_Bestand\": 8055.0, \"sum_Neubau\": 590, \"sum_Abbruch\": 17.0}, {\"Jahr\": \"1947-01-01T00:00:00\", \"GbdArt\": \"Einfamilienhaus\", \"sum_Bestand\": 8528.0, \"sum_Neubau\": 494, \"sum_Abbruch\": 11.0}, {\"Jahr\": \"1947-01-01T00:00:00\", \"GbdArt\": \"Mehrfamilienhaus\", \"sum_Bestand\": 10940.0, \"sum_Neubau\": 186, \"sum_Abbruch\": 17.0}, {\"Jahr\": \"1947-01-01T00:00:00\", \"GbdArt\": \"Nichtwohngeb\\u00e4ude\", \"sum_Bestand\": 8938.0, \"sum_Neubau\": 116, \"sum_Abbruch\": 117.0}, {\"Jahr\": \"1947-01-01T00:00:00\", \"GbdArt\": \"Wohnhaus mit Gesch\\u00e4ftsr\\u00e4umen\", \"sum_Bestand\": 8104.0, \"sum_Neubau\": 53, \"sum_Abbruch\": 28.0}, {\"Jahr\": \"1948-01-01T00:00:00\", \"GbdArt\": \"Einfamilienhaus\", \"sum_Bestand\": 8999.0, \"sum_Neubau\": 496, \"sum_Abbruch\": 16.0}, {\"Jahr\": \"1948-01-01T00:00:00\", \"GbdArt\": \"Mehrfamilienhaus\", \"sum_Bestand\": 11307.0, \"sum_Neubau\": 382, \"sum_Abbruch\": 16.0}, {\"Jahr\": \"1948-01-01T00:00:00\", \"GbdArt\": \"Nichtwohngeb\\u00e4ude\", \"sum_Bestand\": 9156.0, \"sum_Neubau\": 296, \"sum_Abbruch\": 88.0}, {\"Jahr\": \"1948-01-01T00:00:00\", \"GbdArt\": \"Wohnhaus mit Gesch\\u00e4ftsr\\u00e4umen\", \"sum_Bestand\": 8113.0, \"sum_Neubau\": 36, \"sum_Abbruch\": 24.0}, {\"Jahr\": \"1949-01-01T00:00:00\", \"GbdArt\": \"Einfamilienhaus\", \"sum_Bestand\": 9353.0, \"sum_Neubau\": 384, \"sum_Abbruch\": 13.0}, {\"Jahr\": \"1949-01-01T00:00:00\", \"GbdArt\": \"Mehrfamilienhaus\", \"sum_Bestand\": 11619.0, \"sum_Neubau\": 324, \"sum_Abbruch\": 12.0}, {\"Jahr\": \"1949-01-01T00:00:00\", \"GbdArt\": \"Nichtwohngeb\\u00e4ude\", \"sum_Bestand\": 9258.0, \"sum_Neubau\": 182, \"sum_Abbruch\": 94.0}, {\"Jahr\": \"1949-01-01T00:00:00\", \"GbdArt\": \"Wohnhaus mit Gesch\\u00e4ftsr\\u00e4umen\", \"sum_Bestand\": 8108.0, \"sum_Neubau\": 16, \"sum_Abbruch\": 24.0}, {\"Jahr\": \"1950-01-01T00:00:00\", \"GbdArt\": \"Wohnhaus mit Gesch\\u00e4ftsr\\u00e4umen\", \"sum_Bestand\": 8102.0, \"sum_Neubau\": 38, \"sum_Abbruch\": 41.0}, {\"Jahr\": \"1950-01-01T00:00:00\", \"GbdArt\": \"Nichtwohngeb\\u00e4ude\", \"sum_Bestand\": 9308.0, \"sum_Neubau\": 152, \"sum_Abbruch\": 113.0}, {\"Jahr\": \"1950-01-01T00:00:00\", \"GbdArt\": \"Einfamilienhaus\", \"sum_Bestand\": 9521.0, \"sum_Neubau\": 186, \"sum_Abbruch\": 16.0}, {\"Jahr\": \"1950-01-01T00:00:00\", \"GbdArt\": \"Mehrfamilienhaus\", \"sum_Bestand\": 11999.0, \"sum_Neubau\": 412, \"sum_Abbruch\": 30.0}, {\"Jahr\": \"1951-01-01T00:00:00\", \"GbdArt\": \"Einfamilienhaus\", \"sum_Bestand\": 9685.0, \"sum_Neubau\": 190, \"sum_Abbruch\": 17.0}, {\"Jahr\": \"1951-01-01T00:00:00\", \"GbdArt\": \"Mehrfamilienhaus\", \"sum_Bestand\": 12444.0, \"sum_Neubau\": 509, \"sum_Abbruch\": 50.0}, {\"Jahr\": \"1951-01-01T00:00:00\", \"GbdArt\": \"Nichtwohngeb\\u00e4ude\", \"sum_Bestand\": 9422.0, \"sum_Neubau\": 204, \"sum_Abbruch\": 108.0}, {\"Jahr\": \"1951-01-01T00:00:00\", \"GbdArt\": \"Wohnhaus mit Gesch\\u00e4ftsr\\u00e4umen\", \"sum_Bestand\": 8149.0, \"sum_Neubau\": 67, \"sum_Abbruch\": 25.0}, {\"Jahr\": \"1952-01-01T00:00:00\", \"GbdArt\": \"Einfamilienhaus\", \"sum_Bestand\": 9794.0, \"sum_Neubau\": 154, \"sum_Abbruch\": 31.0}, {\"Jahr\": \"1952-01-01T00:00:00\", \"GbdArt\": \"Mehrfamilienhaus\", \"sum_Bestand\": 12935.0, \"sum_Neubau\": 532, \"sum_Abbruch\": 34.0}, {\"Jahr\": \"1952-01-01T00:00:00\", \"GbdArt\": \"Nichtwohngeb\\u00e4ude\", \"sum_Bestand\": 9527.0, \"sum_Neubau\": 213, \"sum_Abbruch\": 127.0}, {\"Jahr\": \"1952-01-01T00:00:00\", \"GbdArt\": \"Wohnhaus mit Gesch\\u00e4ftsr\\u00e4umen\", \"sum_Bestand\": 8182.0, \"sum_Neubau\": 60, \"sum_Abbruch\": 29.0}, {\"Jahr\": \"1953-01-01T00:00:00\", \"GbdArt\": \"Nichtwohngeb\\u00e4ude\", \"sum_Bestand\": 9691.0, \"sum_Neubau\": 250, \"sum_Abbruch\": 116.0}, {\"Jahr\": \"1953-01-01T00:00:00\", \"GbdArt\": \"Wohnhaus mit Gesch\\u00e4ftsr\\u00e4umen\", \"sum_Bestand\": 8188.0, \"sum_Neubau\": 49, \"sum_Abbruch\": 39.0}, {\"Jahr\": \"1953-01-01T00:00:00\", \"GbdArt\": \"Mehrfamilienhaus\", \"sum_Bestand\": 13270.0, \"sum_Neubau\": 372, \"sum_Abbruch\": 34.0}, {\"Jahr\": \"1953-01-01T00:00:00\", \"GbdArt\": \"Einfamilienhaus\", \"sum_Bestand\": 9961.0, \"sum_Neubau\": 212, \"sum_Abbruch\": 22.0}, {\"Jahr\": \"1954-01-01T00:00:00\", \"GbdArt\": \"Einfamilienhaus\", \"sum_Bestand\": 9986.0, \"sum_Neubau\": 76, \"sum_Abbruch\": 26.0}, {\"Jahr\": \"1954-01-01T00:00:00\", \"GbdArt\": \"Mehrfamilienhaus\", \"sum_Bestand\": 13634.0, \"sum_Neubau\": 409, \"sum_Abbruch\": 26.0}, {\"Jahr\": \"1954-01-01T00:00:00\", \"GbdArt\": \"Nichtwohngeb\\u00e4ude\", \"sum_Bestand\": 9796.0, \"sum_Neubau\": 179, \"sum_Abbruch\": 135.0}, {\"Jahr\": \"1954-01-01T00:00:00\", \"GbdArt\": \"Wohnhaus mit Gesch\\u00e4ftsr\\u00e4umen\", \"sum_Bestand\": 8173.0, \"sum_Neubau\": 43, \"sum_Abbruch\": 34.0}, {\"Jahr\": \"1955-01-01T00:00:00\", \"GbdArt\": \"Wohnhaus mit Gesch\\u00e4ftsr\\u00e4umen\", \"sum_Bestand\": 8143.0, \"sum_Neubau\": 34, \"sum_Abbruch\": 51.0}, {\"Jahr\": \"1955-01-01T00:00:00\", \"GbdArt\": \"Einfamilienhaus\", \"sum_Bestand\": 10006.0, \"sum_Neubau\": 58, \"sum_Abbruch\": 22.0}, {\"Jahr\": \"1955-01-01T00:00:00\", \"GbdArt\": \"Mehrfamilienhaus\", \"sum_Bestand\": 13915.0, \"sum_Neubau\": 340, \"sum_Abbruch\": 49.0}, {\"Jahr\": \"1955-01-01T00:00:00\", \"GbdArt\": \"Nichtwohngeb\\u00e4ude\", \"sum_Bestand\": 9918.0, \"sum_Neubau\": 251, \"sum_Abbruch\": 168.0}, {\"Jahr\": \"1956-01-01T00:00:00\", \"GbdArt\": \"Wohnhaus mit Gesch\\u00e4ftsr\\u00e4umen\", \"sum_Bestand\": 6836.0, \"sum_Neubau\": 29, \"sum_Abbruch\": 72.0}, {\"Jahr\": \"1956-01-01T00:00:00\", \"GbdArt\": \"Nichtwohngeb\\u00e4ude\", \"sum_Bestand\": 10907.0, \"sum_Neubau\": 318, \"sum_Abbruch\": 193.0}, {\"Jahr\": \"1956-01-01T00:00:00\", \"GbdArt\": \"Mehrfamilienhaus\", \"sum_Bestand\": 14212.0, \"sum_Neubau\": 206, \"sum_Abbruch\": 56.0}, {\"Jahr\": \"1956-01-01T00:00:00\", \"GbdArt\": \"Einfamilienhaus\", \"sum_Bestand\": 10576.0, \"sum_Neubau\": 51, \"sum_Abbruch\": 19.0}, {\"Jahr\": \"1957-01-01T00:00:00\", \"GbdArt\": \"Wohnhaus mit Gesch\\u00e4ftsr\\u00e4umen\", \"sum_Bestand\": 6836.0, \"sum_Neubau\": 34, \"sum_Abbruch\": 29.0}, {\"Jahr\": \"1957-01-01T00:00:00\", \"GbdArt\": \"Einfamilienhaus\", \"sum_Bestand\": 10610.0, \"sum_Neubau\": 66, \"sum_Abbruch\": 16.0}, {\"Jahr\": \"1957-01-01T00:00:00\", \"GbdArt\": \"Mehrfamilienhaus\", \"sum_Bestand\": 14405.0, \"sum_Neubau\": 234, \"sum_Abbruch\": 32.0}, {\"Jahr\": \"1957-01-01T00:00:00\", \"GbdArt\": \"Nichtwohngeb\\u00e4ude\", \"sum_Bestand\": 11097.0, \"sum_Neubau\": 281, \"sum_Abbruch\": 121.0}, {\"Jahr\": \"1958-01-01T00:00:00\", \"GbdArt\": \"Nichtwohngeb\\u00e4ude\", \"sum_Bestand\": 11328.0, \"sum_Neubau\": 309, \"sum_Abbruch\": 151.0}, {\"Jahr\": \"1958-01-01T00:00:00\", \"GbdArt\": \"Wohnhaus mit Gesch\\u00e4ftsr\\u00e4umen\", \"sum_Bestand\": 6781.0, \"sum_Neubau\": 32, \"sum_Abbruch\": 55.0}, {\"Jahr\": \"1958-01-01T00:00:00\", \"GbdArt\": \"Einfamilienhaus\", \"sum_Bestand\": 10600.0, \"sum_Neubau\": 16, \"sum_Abbruch\": 15.0}, {\"Jahr\": \"1958-01-01T00:00:00\", \"GbdArt\": \"Mehrfamilienhaus\", \"sum_Bestand\": 14627.0, \"sum_Neubau\": 275, \"sum_Abbruch\": 45.0}, {\"Jahr\": \"1959-01-01T00:00:00\", \"GbdArt\": \"Nichtwohngeb\\u00e4ude\", \"sum_Bestand\": 11424.0, \"sum_Neubau\": 223, \"sum_Abbruch\": 163.0}, {\"Jahr\": \"1959-01-01T00:00:00\", \"GbdArt\": \"Wohnhaus mit Gesch\\u00e4ftsr\\u00e4umen\", \"sum_Bestand\": 6787.0, \"sum_Neubau\": 38, \"sum_Abbruch\": 37.0}, {\"Jahr\": \"1959-01-01T00:00:00\", \"GbdArt\": \"Einfamilienhaus\", \"sum_Bestand\": 10569.0, \"sum_Neubau\": 7, \"sum_Abbruch\": 26.0}, {\"Jahr\": \"1959-01-01T00:00:00\", \"GbdArt\": \"Mehrfamilienhaus\", \"sum_Bestand\": 14822.0, \"sum_Neubau\": 252, \"sum_Abbruch\": 28.0}, {\"Jahr\": \"1960-01-01T00:00:00\", \"GbdArt\": \"Nichtwohngeb\\u00e4ude\", \"sum_Bestand\": 11478.0, \"sum_Neubau\": 199, \"sum_Abbruch\": 166.0}, {\"Jahr\": \"1960-01-01T00:00:00\", \"GbdArt\": \"Wohnhaus mit Gesch\\u00e4ftsr\\u00e4umen\", \"sum_Bestand\": 6760.0, \"sum_Neubau\": 36, \"sum_Abbruch\": 61.0}, {\"Jahr\": \"1960-01-01T00:00:00\", \"GbdArt\": \"Einfamilienhaus\", \"sum_Bestand\": 10545.0, \"sum_Neubau\": 10, \"sum_Abbruch\": 31.0}, {\"Jahr\": \"1960-01-01T00:00:00\", \"GbdArt\": \"Mehrfamilienhaus\", \"sum_Bestand\": 15031.0, \"sum_Neubau\": 279, \"sum_Abbruch\": 48.0}, {\"Jahr\": \"1961-01-01T00:00:00\", \"GbdArt\": \"Nichtwohngeb\\u00e4ude\", \"sum_Bestand\": 11513.0, \"sum_Neubau\": 184, \"sum_Abbruch\": 163.0}, {\"Jahr\": \"1961-01-01T00:00:00\", \"GbdArt\": \"Wohnhaus mit Gesch\\u00e4ftsr\\u00e4umen\", \"sum_Bestand\": 6748.0, \"sum_Neubau\": 41, \"sum_Abbruch\": 46.0}, {\"Jahr\": \"1961-01-01T00:00:00\", \"GbdArt\": \"Einfamilienhaus\", \"sum_Bestand\": 10518.0, \"sum_Neubau\": 12, \"sum_Abbruch\": 21.0}, {\"Jahr\": \"1961-01-01T00:00:00\", \"GbdArt\": \"Mehrfamilienhaus\", \"sum_Bestand\": 15149.0, \"sum_Neubau\": 176, \"sum_Abbruch\": 53.0}, {\"Jahr\": \"1962-01-01T00:00:00\", \"GbdArt\": \"Einfamilienhaus\", \"sum_Bestand\": 10499.0, \"sum_Neubau\": 16, \"sum_Abbruch\": 28.0}, {\"Jahr\": \"1962-01-01T00:00:00\", \"GbdArt\": \"Mehrfamilienhaus\", \"sum_Bestand\": 15246.0, \"sum_Neubau\": 174, \"sum_Abbruch\": 52.0}, {\"Jahr\": \"1962-01-01T00:00:00\", \"GbdArt\": \"Nichtwohngeb\\u00e4ude\", \"sum_Bestand\": 11574.0, \"sum_Neubau\": 217, \"sum_Abbruch\": 162.0}, {\"Jahr\": \"1962-01-01T00:00:00\", \"GbdArt\": \"Wohnhaus mit Gesch\\u00e4ftsr\\u00e4umen\", \"sum_Bestand\": 6750.0, \"sum_Neubau\": 29, \"sum_Abbruch\": 34.0}, {\"Jahr\": \"1963-01-01T00:00:00\", \"GbdArt\": \"Einfamilienhaus\", \"sum_Bestand\": 10474.0, \"sum_Neubau\": 32, \"sum_Abbruch\": 42.0}, {\"Jahr\": \"1963-01-01T00:00:00\", \"GbdArt\": \"Mehrfamilienhaus\", \"sum_Bestand\": 15309.0, \"sum_Neubau\": 115, \"sum_Abbruch\": 46.0}, {\"Jahr\": \"1963-01-01T00:00:00\", \"GbdArt\": \"Nichtwohngeb\\u00e4ude\", \"sum_Bestand\": 11641.0, \"sum_Neubau\": 213, \"sum_Abbruch\": 168.0}, {\"Jahr\": \"1963-01-01T00:00:00\", \"GbdArt\": \"Wohnhaus mit Gesch\\u00e4ftsr\\u00e4umen\", \"sum_Bestand\": 6729.0, \"sum_Neubau\": 38, \"sum_Abbruch\": 47.0}, {\"Jahr\": \"1964-01-01T00:00:00\", \"GbdArt\": \"Einfamilienhaus\", \"sum_Bestand\": 10455.0, \"sum_Neubau\": 18, \"sum_Abbruch\": 38.0}, {\"Jahr\": \"1964-01-01T00:00:00\", \"GbdArt\": \"Mehrfamilienhaus\", \"sum_Bestand\": 15446.0, \"sum_Neubau\": 193, \"sum_Abbruch\": 37.0}, {\"Jahr\": \"1964-01-01T00:00:00\", \"GbdArt\": \"Nichtwohngeb\\u00e4ude\", \"sum_Bestand\": 11764.0, \"sum_Neubau\": 237, \"sum_Abbruch\": 128.0}, {\"Jahr\": \"1964-01-01T00:00:00\", \"GbdArt\": \"Wohnhaus mit Gesch\\u00e4ftsr\\u00e4umen\", \"sum_Bestand\": 6709.0, \"sum_Neubau\": 23, \"sum_Abbruch\": 36.0}, {\"Jahr\": \"1965-01-01T00:00:00\", \"GbdArt\": \"Wohnhaus mit Gesch\\u00e4ftsr\\u00e4umen\", \"sum_Bestand\": 6701.0, \"sum_Neubau\": 29, \"sum_Abbruch\": 25.0}, {\"Jahr\": \"1965-01-01T00:00:00\", \"GbdArt\": \"Nichtwohngeb\\u00e4ude\", \"sum_Bestand\": 11849.0, \"sum_Neubau\": 206, \"sum_Abbruch\": 135.0}, {\"Jahr\": \"1965-01-01T00:00:00\", \"GbdArt\": \"Einfamilienhaus\", \"sum_Bestand\": 10446.0, \"sum_Neubau\": 14, \"sum_Abbruch\": 15.0}, {\"Jahr\": \"1965-01-01T00:00:00\", \"GbdArt\": \"Mehrfamilienhaus\", \"sum_Bestand\": 15586.0, \"sum_Neubau\": 178, \"sum_Abbruch\": 36.0}, {\"Jahr\": \"1966-01-01T00:00:00\", \"GbdArt\": \"Einfamilienhaus\", \"sum_Bestand\": 10392.0, \"sum_Neubau\": 11, \"sum_Abbruch\": 56.0}, {\"Jahr\": \"1966-01-01T00:00:00\", \"GbdArt\": \"Mehrfamilienhaus\", \"sum_Bestand\": 15673.0, \"sum_Neubau\": 139, \"sum_Abbruch\": 45.0}, {\"Jahr\": \"1966-01-01T00:00:00\", \"GbdArt\": \"Nichtwohngeb\\u00e4ude\", \"sum_Bestand\": 11937.0, \"sum_Neubau\": 223, \"sum_Abbruch\": 147.0}, {\"Jahr\": \"1966-01-01T00:00:00\", \"GbdArt\": \"Wohnhaus mit Gesch\\u00e4ftsr\\u00e4umen\", \"sum_Bestand\": 6694.0, \"sum_Neubau\": 16, \"sum_Abbruch\": 25.0}, {\"Jahr\": \"1967-01-01T00:00:00\", \"GbdArt\": \"Einfamilienhaus\", \"sum_Bestand\": 10381.0, \"sum_Neubau\": 4, \"sum_Abbruch\": 14.0}, {\"Jahr\": \"1967-01-01T00:00:00\", \"GbdArt\": \"Mehrfamilienhaus\", \"sum_Bestand\": 15754.0, \"sum_Neubau\": 113, \"sum_Abbruch\": 17.0}, {\"Jahr\": \"1967-01-01T00:00:00\", \"GbdArt\": \"Nichtwohngeb\\u00e4ude\", \"sum_Bestand\": 12219.0, \"sum_Neubau\": 266, \"sum_Abbruch\": 126.0}, {\"Jahr\": \"1967-01-01T00:00:00\", \"GbdArt\": \"Wohnhaus mit Gesch\\u00e4ftsr\\u00e4umen\", \"sum_Bestand\": 6674.0, \"sum_Neubau\": 20, \"sum_Abbruch\": 34.0}, {\"Jahr\": \"1968-01-01T00:00:00\", \"GbdArt\": \"Einfamilienhaus\", \"sum_Bestand\": 10344.0, \"sum_Neubau\": 5, \"sum_Abbruch\": 29.0}, {\"Jahr\": \"1968-01-01T00:00:00\", \"GbdArt\": \"Mehrfamilienhaus\", \"sum_Bestand\": 15865.0, \"sum_Neubau\": 153, \"sum_Abbruch\": 35.0}, {\"Jahr\": \"1968-01-01T00:00:00\", \"GbdArt\": \"Nichtwohngeb\\u00e4ude\", \"sum_Bestand\": 12364.0, \"sum_Neubau\": 200, \"sum_Abbruch\": 145.0}, {\"Jahr\": \"1968-01-01T00:00:00\", \"GbdArt\": \"Wohnhaus mit Gesch\\u00e4ftsr\\u00e4umen\", \"sum_Bestand\": 6652.0, \"sum_Neubau\": 27, \"sum_Abbruch\": 46.0}, {\"Jahr\": \"1969-01-01T00:00:00\", \"GbdArt\": \"Wohnhaus mit Gesch\\u00e4ftsr\\u00e4umen\", \"sum_Bestand\": 6641.0, \"sum_Neubau\": 22, \"sum_Abbruch\": 61.0}, {\"Jahr\": \"1969-01-01T00:00:00\", \"GbdArt\": \"Nichtwohngeb\\u00e4ude\", \"sum_Bestand\": 12207.0, \"sum_Neubau\": 185, \"sum_Abbruch\": 212.0}, {\"Jahr\": \"1969-01-01T00:00:00\", \"GbdArt\": \"Einfamilienhaus\", \"sum_Bestand\": 10324.0, \"sum_Neubau\": 20, \"sum_Abbruch\": 29.0}, {\"Jahr\": \"1969-01-01T00:00:00\", \"GbdArt\": \"Mehrfamilienhaus\", \"sum_Bestand\": 15933.0, \"sum_Neubau\": 161, \"sum_Abbruch\": 55.0}, {\"Jahr\": \"1970-01-01T00:00:00\", \"GbdArt\": \"Einfamilienhaus\", \"sum_Bestand\": 10316.0, \"sum_Neubau\": 2, \"sum_Abbruch\": 23.0}, {\"Jahr\": \"1970-01-01T00:00:00\", \"GbdArt\": \"Mehrfamilienhaus\", \"sum_Bestand\": 16024.0, \"sum_Neubau\": 148, \"sum_Abbruch\": 49.0}, {\"Jahr\": \"1970-01-01T00:00:00\", \"GbdArt\": \"Nichtwohngeb\\u00e4ude\", \"sum_Bestand\": 12248.0, \"sum_Neubau\": 138, \"sum_Abbruch\": 184.0}, {\"Jahr\": \"1970-01-01T00:00:00\", \"GbdArt\": \"Wohnhaus mit Gesch\\u00e4ftsr\\u00e4umen\", \"sum_Bestand\": 6569.0, \"sum_Neubau\": 19, \"sum_Abbruch\": 63.0}, {\"Jahr\": \"1971-01-01T00:00:00\", \"GbdArt\": \"Einfamilienhaus\", \"sum_Bestand\": 10165.0, \"sum_Neubau\": 12, \"sum_Abbruch\": 126.0}, {\"Jahr\": \"1971-01-01T00:00:00\", \"GbdArt\": \"Mehrfamilienhaus\", \"sum_Bestand\": 16025.0, \"sum_Neubau\": 122, \"sum_Abbruch\": 90.0}, {\"Jahr\": \"1971-01-01T00:00:00\", \"GbdArt\": \"Nichtwohngeb\\u00e4ude\", \"sum_Bestand\": 12150.0, \"sum_Neubau\": 170, \"sum_Abbruch\": 253.0}, {\"Jahr\": \"1971-01-01T00:00:00\", \"GbdArt\": \"Wohnhaus mit Gesch\\u00e4ftsr\\u00e4umen\", \"sum_Bestand\": 6556.0, \"sum_Neubau\": 36, \"sum_Abbruch\": 65.0}, {\"Jahr\": \"1972-01-01T00:00:00\", \"GbdArt\": \"Wohnhaus mit Gesch\\u00e4ftsr\\u00e4umen\", \"sum_Bestand\": 6566.0, \"sum_Neubau\": 48, \"sum_Abbruch\": 13.0}, {\"Jahr\": \"1972-01-01T00:00:00\", \"GbdArt\": \"Nichtwohngeb\\u00e4ude\", \"sum_Bestand\": 12520.0, \"sum_Neubau\": 237, \"sum_Abbruch\": 151.0}, {\"Jahr\": \"1972-01-01T00:00:00\", \"GbdArt\": \"Mehrfamilienhaus\", \"sum_Bestand\": 15878.0, \"sum_Neubau\": 132, \"sum_Abbruch\": 32.0}, {\"Jahr\": \"1972-01-01T00:00:00\", \"GbdArt\": \"Einfamilienhaus\", \"sum_Bestand\": 10082.0, \"sum_Neubau\": 37, \"sum_Abbruch\": 96.0}, {\"Jahr\": \"1973-01-01T00:00:00\", \"GbdArt\": \"Einfamilienhaus\", \"sum_Bestand\": 10003.0, \"sum_Neubau\": 13, \"sum_Abbruch\": 50.0}, {\"Jahr\": \"1973-01-01T00:00:00\", \"GbdArt\": \"Mehrfamilienhaus\", \"sum_Bestand\": 15846.0, \"sum_Neubau\": 137, \"sum_Abbruch\": 25.0}, {\"Jahr\": \"1973-01-01T00:00:00\", \"GbdArt\": \"Nichtwohngeb\\u00e4ude\", \"sum_Bestand\": 12869.0, \"sum_Neubau\": 273, \"sum_Abbruch\": 134.0}, {\"Jahr\": \"1973-01-01T00:00:00\", \"GbdArt\": \"Wohnhaus mit Gesch\\u00e4ftsr\\u00e4umen\", \"sum_Bestand\": 6575.0, \"sum_Neubau\": 34, \"sum_Abbruch\": 14.0}, {\"Jahr\": \"1974-01-01T00:00:00\", \"GbdArt\": \"Einfamilienhaus\", \"sum_Bestand\": 9985.0, \"sum_Neubau\": 21, \"sum_Abbruch\": 17.0}, {\"Jahr\": \"1974-01-01T00:00:00\", \"GbdArt\": \"Mehrfamilienhaus\", \"sum_Bestand\": 15795.0, \"sum_Neubau\": 159, \"sum_Abbruch\": 20.0}, {\"Jahr\": \"1974-01-01T00:00:00\", \"GbdArt\": \"Nichtwohngeb\\u00e4ude\", \"sum_Bestand\": 12969.0, \"sum_Neubau\": 201, \"sum_Abbruch\": 143.0}, {\"Jahr\": \"1974-01-01T00:00:00\", \"GbdArt\": \"Wohnhaus mit Gesch\\u00e4ftsr\\u00e4umen\", \"sum_Bestand\": 6598.0, \"sum_Neubau\": 21, \"sum_Abbruch\": 10.0}, {\"Jahr\": \"1975-01-01T00:00:00\", \"GbdArt\": \"Nichtwohngeb\\u00e4ude\", \"sum_Bestand\": 14121.0, \"sum_Neubau\": 361, \"sum_Abbruch\": 149.0}, {\"Jahr\": \"1975-01-01T00:00:00\", \"GbdArt\": \"Wohnhaus mit Gesch\\u00e4ftsr\\u00e4umen\", \"sum_Bestand\": 6586.0, \"sum_Neubau\": 16, \"sum_Abbruch\": 23.0}, {\"Jahr\": \"1975-01-01T00:00:00\", \"GbdArt\": \"Einfamilienhaus\", \"sum_Bestand\": 9915.0, \"sum_Neubau\": 12, \"sum_Abbruch\": 76.0}, {\"Jahr\": \"1975-01-01T00:00:00\", \"GbdArt\": \"Mehrfamilienhaus\", \"sum_Bestand\": 15853.0, \"sum_Neubau\": 99, \"sum_Abbruch\": 30.0}, {\"Jahr\": \"1976-01-01T00:00:00\", \"GbdArt\": \"Wohnhaus mit Gesch\\u00e4ftsr\\u00e4umen\", \"sum_Bestand\": 6587.0, \"sum_Neubau\": 25, \"sum_Abbruch\": 26.0}, {\"Jahr\": \"1976-01-01T00:00:00\", \"GbdArt\": \"Nichtwohngeb\\u00e4ude\", \"sum_Bestand\": 14442.0, \"sum_Neubau\": 286, \"sum_Abbruch\": 203.0}, {\"Jahr\": \"1976-01-01T00:00:00\", \"GbdArt\": \"Mehrfamilienhaus\", \"sum_Bestand\": 15902.0, \"sum_Neubau\": 95, \"sum_Abbruch\": 38.0}, {\"Jahr\": \"1976-01-01T00:00:00\", \"GbdArt\": \"Einfamilienhaus\", \"sum_Bestand\": 9889.0, \"sum_Neubau\": 2, \"sum_Abbruch\": 21.0}, {\"Jahr\": \"1977-01-01T00:00:00\", \"GbdArt\": \"Einfamilienhaus\", \"sum_Bestand\": 9875.0, \"sum_Neubau\": 18, \"sum_Abbruch\": 21.0}, {\"Jahr\": \"1977-01-01T00:00:00\", \"GbdArt\": \"Mehrfamilienhaus\", \"sum_Bestand\": 15949.0, \"sum_Neubau\": 91, \"sum_Abbruch\": 39.0}, {\"Jahr\": \"1977-01-01T00:00:00\", \"GbdArt\": \"Nichtwohngeb\\u00e4ude\", \"sum_Bestand\": 14762.0, \"sum_Neubau\": 322, \"sum_Abbruch\": 189.0}, {\"Jahr\": \"1977-01-01T00:00:00\", \"GbdArt\": \"Wohnhaus mit Gesch\\u00e4ftsr\\u00e4umen\", \"sum_Bestand\": 6609.0, \"sum_Neubau\": 23, \"sum_Abbruch\": 14.0}, {\"Jahr\": \"1978-01-01T00:00:00\", \"GbdArt\": \"Einfamilienhaus\", \"sum_Bestand\": 9880.0, \"sum_Neubau\": 35, \"sum_Abbruch\": 20.0}, {\"Jahr\": \"1978-01-01T00:00:00\", \"GbdArt\": \"Mehrfamilienhaus\", \"sum_Bestand\": 15987.0, \"sum_Neubau\": 69, \"sum_Abbruch\": 29.0}, {\"Jahr\": \"1978-01-01T00:00:00\", \"GbdArt\": \"Nichtwohngeb\\u00e4ude\", \"sum_Bestand\": 14921.0, \"sum_Neubau\": 209, \"sum_Abbruch\": 135.0}, {\"Jahr\": \"1978-01-01T00:00:00\", \"GbdArt\": \"Wohnhaus mit Gesch\\u00e4ftsr\\u00e4umen\", \"sum_Bestand\": 6580.0, \"sum_Neubau\": 5, \"sum_Abbruch\": 36.0}, {\"Jahr\": \"1979-01-01T00:00:00\", \"GbdArt\": \"Nichtwohngeb\\u00e4ude\", \"sum_Bestand\": 15071.0, \"sum_Neubau\": 254, \"sum_Abbruch\": 182.0}, {\"Jahr\": \"1979-01-01T00:00:00\", \"GbdArt\": \"Wohnhaus mit Gesch\\u00e4ftsr\\u00e4umen\", \"sum_Bestand\": 6587.0, \"sum_Neubau\": 16, \"sum_Abbruch\": 36.0}, {\"Jahr\": \"1979-01-01T00:00:00\", \"GbdArt\": \"Einfamilienhaus\", \"sum_Bestand\": 9885.0, \"sum_Neubau\": 30, \"sum_Abbruch\": 17.0}, {\"Jahr\": \"1979-01-01T00:00:00\", \"GbdArt\": \"Mehrfamilienhaus\", \"sum_Bestand\": 16027.0, \"sum_Neubau\": 114, \"sum_Abbruch\": 51.0}, {\"Jahr\": \"1980-01-01T00:00:00\", \"GbdArt\": \"Einfamilienhaus\", \"sum_Bestand\": 9864.0, \"sum_Neubau\": 14, \"sum_Abbruch\": 23.0}, {\"Jahr\": \"1980-01-01T00:00:00\", \"GbdArt\": \"Mehrfamilienhaus\", \"sum_Bestand\": 16114.0, \"sum_Neubau\": 123, \"sum_Abbruch\": 27.0}, {\"Jahr\": \"1980-01-01T00:00:00\", \"GbdArt\": \"Nichtwohngeb\\u00e4ude\", \"sum_Bestand\": 15203.0, \"sum_Neubau\": 201, \"sum_Abbruch\": 148.0}, {\"Jahr\": \"1980-01-01T00:00:00\", \"GbdArt\": \"Wohnhaus mit Gesch\\u00e4ftsr\\u00e4umen\", \"sum_Bestand\": 6595.0, \"sum_Neubau\": 20, \"sum_Abbruch\": 36.0}, {\"Jahr\": \"1981-01-01T00:00:00\", \"GbdArt\": \"Einfamilienhaus\", \"sum_Bestand\": 9833.0, \"sum_Neubau\": 43, \"sum_Abbruch\": 61.0}, {\"Jahr\": \"1981-01-01T00:00:00\", \"GbdArt\": \"Mehrfamilienhaus\", \"sum_Bestand\": 16229.0, \"sum_Neubau\": 184, \"sum_Abbruch\": 36.0}, {\"Jahr\": \"1981-01-01T00:00:00\", \"GbdArt\": \"Nichtwohngeb\\u00e4ude\", \"sum_Bestand\": 15353.0, \"sum_Neubau\": 195, \"sum_Abbruch\": 205.0}, {\"Jahr\": \"1981-01-01T00:00:00\", \"GbdArt\": \"Wohnhaus mit Gesch\\u00e4ftsr\\u00e4umen\", \"sum_Bestand\": 6626.0, \"sum_Neubau\": 34, \"sum_Abbruch\": 35.0}, {\"Jahr\": \"1982-01-01T00:00:00\", \"GbdArt\": \"Wohnhaus mit Gesch\\u00e4ftsr\\u00e4umen\", \"sum_Bestand\": 6690.0, \"sum_Neubau\": 49, \"sum_Abbruch\": 34.0}, {\"Jahr\": \"1982-01-01T00:00:00\", \"GbdArt\": \"Einfamilienhaus\", \"sum_Bestand\": 9875.0, \"sum_Neubau\": 66, \"sum_Abbruch\": 12.0}, {\"Jahr\": \"1982-01-01T00:00:00\", \"GbdArt\": \"Mehrfamilienhaus\", \"sum_Bestand\": 16331.0, \"sum_Neubau\": 165, \"sum_Abbruch\": 16.0}, {\"Jahr\": \"1982-01-01T00:00:00\", \"GbdArt\": \"Nichtwohngeb\\u00e4ude\", \"sum_Bestand\": 15596.0, \"sum_Neubau\": 255, \"sum_Abbruch\": 162.0}, {\"Jahr\": \"1983-01-01T00:00:00\", \"GbdArt\": \"Nichtwohngeb\\u00e4ude\", \"sum_Bestand\": 15708.0, \"sum_Neubau\": 142, \"sum_Abbruch\": 151.0}, {\"Jahr\": \"1983-01-01T00:00:00\", \"GbdArt\": \"Wohnhaus mit Gesch\\u00e4ftsr\\u00e4umen\", \"sum_Bestand\": 6747.0, \"sum_Neubau\": 34, \"sum_Abbruch\": 29.0}, {\"Jahr\": \"1983-01-01T00:00:00\", \"GbdArt\": \"Einfamilienhaus\", \"sum_Bestand\": 9855.0, \"sum_Neubau\": 10, \"sum_Abbruch\": 10.0}, {\"Jahr\": \"1983-01-01T00:00:00\", \"GbdArt\": \"Mehrfamilienhaus\", \"sum_Bestand\": 16353.0, \"sum_Neubau\": 90, \"sum_Abbruch\": 26.0}, {\"Jahr\": \"1984-01-01T00:00:00\", \"GbdArt\": \"Einfamilienhaus\", \"sum_Bestand\": 9857.0, \"sum_Neubau\": 14, \"sum_Abbruch\": 17.0}, {\"Jahr\": \"1984-01-01T00:00:00\", \"GbdArt\": \"Mehrfamilienhaus\", \"sum_Bestand\": 16381.0, \"sum_Neubau\": 97, \"sum_Abbruch\": 23.0}, {\"Jahr\": \"1984-01-01T00:00:00\", \"GbdArt\": \"Nichtwohngeb\\u00e4ude\", \"sum_Bestand\": 16121.0, \"sum_Neubau\": 141, \"sum_Abbruch\": 105.0}, {\"Jahr\": \"1984-01-01T00:00:00\", \"GbdArt\": \"Wohnhaus mit Gesch\\u00e4ftsr\\u00e4umen\", \"sum_Bestand\": 6808.0, \"sum_Neubau\": 36, \"sum_Abbruch\": 22.0}, {\"Jahr\": \"1985-01-01T00:00:00\", \"GbdArt\": \"Einfamilienhaus\", \"sum_Bestand\": 9896.0, \"sum_Neubau\": 6, \"sum_Abbruch\": 15.0}, {\"Jahr\": \"1985-01-01T00:00:00\", \"GbdArt\": \"Mehrfamilienhaus\", \"sum_Bestand\": 16391.0, \"sum_Neubau\": 99, \"sum_Abbruch\": 19.0}, {\"Jahr\": \"1985-01-01T00:00:00\", \"GbdArt\": \"Nichtwohngeb\\u00e4ude\", \"sum_Bestand\": 16382.0, \"sum_Neubau\": 153, \"sum_Abbruch\": 139.0}, {\"Jahr\": \"1985-01-01T00:00:00\", \"GbdArt\": \"Wohnhaus mit Gesch\\u00e4ftsr\\u00e4umen\", \"sum_Bestand\": 6822.0, \"sum_Neubau\": 43, \"sum_Abbruch\": 19.0}, {\"Jahr\": \"1986-01-01T00:00:00\", \"GbdArt\": \"Einfamilienhaus\", \"sum_Bestand\": 9883.0, \"sum_Neubau\": 14, \"sum_Abbruch\": 16.0}, {\"Jahr\": \"1986-01-01T00:00:00\", \"GbdArt\": \"Mehrfamilienhaus\", \"sum_Bestand\": 16440.0, \"sum_Neubau\": 85, \"sum_Abbruch\": 14.0}, {\"Jahr\": \"1986-01-01T00:00:00\", \"GbdArt\": \"Nichtwohngeb\\u00e4ude\", \"sum_Bestand\": 16445.0, \"sum_Neubau\": 105, \"sum_Abbruch\": 115.0}, {\"Jahr\": \"1986-01-01T00:00:00\", \"GbdArt\": \"Wohnhaus mit Gesch\\u00e4ftsr\\u00e4umen\", \"sum_Bestand\": 6879.0, \"sum_Neubau\": 31, \"sum_Abbruch\": 13.0}, {\"Jahr\": \"1987-01-01T00:00:00\", \"GbdArt\": \"Wohnhaus mit Gesch\\u00e4ftsr\\u00e4umen\", \"sum_Bestand\": 6907.0, \"sum_Neubau\": 33, \"sum_Abbruch\": 23.0}, {\"Jahr\": \"1987-01-01T00:00:00\", \"GbdArt\": \"Nichtwohngeb\\u00e4ude\", \"sum_Bestand\": 16463.0, \"sum_Neubau\": 60, \"sum_Abbruch\": 201.0}, {\"Jahr\": \"1987-01-01T00:00:00\", \"GbdArt\": \"Mehrfamilienhaus\", \"sum_Bestand\": 16456.0, \"sum_Neubau\": 53, \"sum_Abbruch\": 25.0}, {\"Jahr\": \"1987-01-01T00:00:00\", \"GbdArt\": \"Einfamilienhaus\", \"sum_Bestand\": 9862.0, \"sum_Neubau\": 0, \"sum_Abbruch\": 18.0}, {\"Jahr\": \"1988-01-01T00:00:00\", \"GbdArt\": \"Einfamilienhaus\", \"sum_Bestand\": 9851.0, \"sum_Neubau\": 6, \"sum_Abbruch\": 15.0}, {\"Jahr\": \"1988-01-01T00:00:00\", \"GbdArt\": \"Mehrfamilienhaus\", \"sum_Bestand\": 16480.0, \"sum_Neubau\": 44, \"sum_Abbruch\": 19.0}, {\"Jahr\": \"1988-01-01T00:00:00\", \"GbdArt\": \"Nichtwohngeb\\u00e4ude\", \"sum_Bestand\": 16502.0, \"sum_Neubau\": 54, \"sum_Abbruch\": 137.0}, {\"Jahr\": \"1988-01-01T00:00:00\", \"GbdArt\": \"Wohnhaus mit Gesch\\u00e4ftsr\\u00e4umen\", \"sum_Bestand\": 6916.0, \"sum_Neubau\": 22, \"sum_Abbruch\": 15.0}, {\"Jahr\": \"1989-01-01T00:00:00\", \"GbdArt\": \"Einfamilienhaus\", \"sum_Bestand\": 9837.0, \"sum_Neubau\": 9, \"sum_Abbruch\": 18.0}, {\"Jahr\": \"1989-01-01T00:00:00\", \"GbdArt\": \"Mehrfamilienhaus\", \"sum_Bestand\": 16463.0, \"sum_Neubau\": 36, \"sum_Abbruch\": 19.0}, {\"Jahr\": \"1989-01-01T00:00:00\", \"GbdArt\": \"Nichtwohngeb\\u00e4ude\", \"sum_Bestand\": 16540.0, \"sum_Neubau\": 50, \"sum_Abbruch\": 96.0}, {\"Jahr\": \"1989-01-01T00:00:00\", \"GbdArt\": \"Wohnhaus mit Gesch\\u00e4ftsr\\u00e4umen\", \"sum_Bestand\": 6977.0, \"sum_Neubau\": 32, \"sum_Abbruch\": 11.0}, {\"Jahr\": \"1990-01-01T00:00:00\", \"GbdArt\": \"Wohnhaus mit Gesch\\u00e4ftsr\\u00e4umen\", \"sum_Bestand\": 7000.0, \"sum_Neubau\": 27, \"sum_Abbruch\": 18.0}, {\"Jahr\": \"1990-01-01T00:00:00\", \"GbdArt\": \"Einfamilienhaus\", \"sum_Bestand\": 9873.0, \"sum_Neubau\": 58, \"sum_Abbruch\": 22.0}, {\"Jahr\": \"1990-01-01T00:00:00\", \"GbdArt\": \"Mehrfamilienhaus\", \"sum_Bestand\": 16456.0, \"sum_Neubau\": 32, \"sum_Abbruch\": 25.0}, {\"Jahr\": \"1990-01-01T00:00:00\", \"GbdArt\": \"Nichtwohngeb\\u00e4ude\", \"sum_Bestand\": 16580.0, \"sum_Neubau\": 58, \"sum_Abbruch\": 102.0}, {\"Jahr\": \"1991-01-01T00:00:00\", \"GbdArt\": \"Wohnhaus mit Gesch\\u00e4ftsr\\u00e4umen\", \"sum_Bestand\": 7068.0, \"sum_Neubau\": 67, \"sum_Abbruch\": 10.0}, {\"Jahr\": \"1991-01-01T00:00:00\", \"GbdArt\": \"Nichtwohngeb\\u00e4ude\", \"sum_Bestand\": 16655.0, \"sum_Neubau\": 90, \"sum_Abbruch\": 131.0}, {\"Jahr\": \"1991-01-01T00:00:00\", \"GbdArt\": \"Einfamilienhaus\", \"sum_Bestand\": 9892.0, \"sum_Neubau\": 52, \"sum_Abbruch\": 19.0}, {\"Jahr\": \"1991-01-01T00:00:00\", \"GbdArt\": \"Mehrfamilienhaus\", \"sum_Bestand\": 16511.0, \"sum_Neubau\": 81, \"sum_Abbruch\": 12.0}, {\"Jahr\": \"1992-01-01T00:00:00\", \"GbdArt\": \"Einfamilienhaus\", \"sum_Bestand\": 9880.0, \"sum_Neubau\": 17, \"sum_Abbruch\": 32.0}, {\"Jahr\": \"1992-01-01T00:00:00\", \"GbdArt\": \"Mehrfamilienhaus\", \"sum_Bestand\": 16529.0, \"sum_Neubau\": 41, \"sum_Abbruch\": 16.0}, {\"Jahr\": \"1992-01-01T00:00:00\", \"GbdArt\": \"Nichtwohngeb\\u00e4ude\", \"sum_Bestand\": 16734.0, \"sum_Neubau\": 102, \"sum_Abbruch\": 98.0}, {\"Jahr\": \"1992-01-01T00:00:00\", \"GbdArt\": \"Wohnhaus mit Gesch\\u00e4ftsr\\u00e4umen\", \"sum_Bestand\": 7100.0, \"sum_Neubau\": 28, \"sum_Abbruch\": 9.0}, {\"Jahr\": \"1993-01-01T00:00:00\", \"GbdArt\": \"Einfamilienhaus\", \"sum_Bestand\": 9867.0, \"sum_Neubau\": 31, \"sum_Abbruch\": 8.0}, {\"Jahr\": \"1993-01-01T00:00:00\", \"GbdArt\": \"Mehrfamilienhaus\", \"sum_Bestand\": 16591.0, \"sum_Neubau\": 79, \"sum_Abbruch\": 13.0}, {\"Jahr\": \"1993-01-01T00:00:00\", \"GbdArt\": \"Nichtwohngeb\\u00e4ude\", \"sum_Bestand\": 16403.0, \"sum_Neubau\": 127, \"sum_Abbruch\": 63.0}, {\"Jahr\": \"1993-01-01T00:00:00\", \"GbdArt\": \"Wohnhaus mit Gesch\\u00e4ftsr\\u00e4umen\", \"sum_Bestand\": 7758.0, \"sum_Neubau\": 24, \"sum_Abbruch\": 9.0}, {\"Jahr\": \"1994-01-01T00:00:00\", \"GbdArt\": \"Einfamilienhaus\", \"sum_Bestand\": 9895.0, \"sum_Neubau\": 19, \"sum_Abbruch\": 13.0}, {\"Jahr\": \"1994-01-01T00:00:00\", \"GbdArt\": \"Mehrfamilienhaus\", \"sum_Bestand\": 16567.0, \"sum_Neubau\": 61, \"sum_Abbruch\": 9.0}, {\"Jahr\": \"1994-01-01T00:00:00\", \"GbdArt\": \"Nichtwohngeb\\u00e4ude\", \"sum_Bestand\": 16614.0, \"sum_Neubau\": 125, \"sum_Abbruch\": 96.0}, {\"Jahr\": \"1994-01-01T00:00:00\", \"GbdArt\": \"Wohnhaus mit Gesch\\u00e4ftsr\\u00e4umen\", \"sum_Bestand\": 7869.0, \"sum_Neubau\": 24, \"sum_Abbruch\": 21.0}, {\"Jahr\": \"1995-01-01T00:00:00\", \"GbdArt\": \"Wohnhaus mit Gesch\\u00e4ftsr\\u00e4umen\", \"sum_Bestand\": 8043.0, \"sum_Neubau\": 30, \"sum_Abbruch\": 3.0}, {\"Jahr\": \"1995-01-01T00:00:00\", \"GbdArt\": \"Nichtwohngeb\\u00e4ude\", \"sum_Bestand\": 16943.0, \"sum_Neubau\": 111, \"sum_Abbruch\": 118.0}, {\"Jahr\": \"1995-01-01T00:00:00\", \"GbdArt\": \"Einfamilienhaus\", \"sum_Bestand\": 9852.0, \"sum_Neubau\": 9, \"sum_Abbruch\": 14.0}, {\"Jahr\": \"1995-01-01T00:00:00\", \"GbdArt\": \"Mehrfamilienhaus\", \"sum_Bestand\": 16501.0, \"sum_Neubau\": 39, \"sum_Abbruch\": 7.0}, {\"Jahr\": \"1996-01-01T00:00:00\", \"GbdArt\": \"Einfamilienhaus\", \"sum_Bestand\": 9856.0, \"sum_Neubau\": 7, \"sum_Abbruch\": 9.0}, {\"Jahr\": \"1996-01-01T00:00:00\", \"GbdArt\": \"Mehrfamilienhaus\", \"sum_Bestand\": 16603.0, \"sum_Neubau\": 53, \"sum_Abbruch\": 12.0}, {\"Jahr\": \"1996-01-01T00:00:00\", \"GbdArt\": \"Nichtwohngeb\\u00e4ude\", \"sum_Bestand\": 17259.0, \"sum_Neubau\": 67, \"sum_Abbruch\": 91.0}, {\"Jahr\": \"1996-01-01T00:00:00\", \"GbdArt\": \"Wohnhaus mit Gesch\\u00e4ftsr\\u00e4umen\", \"sum_Bestand\": 8006.0, \"sum_Neubau\": 11, \"sum_Abbruch\": 2.0}, {\"Jahr\": \"1997-01-01T00:00:00\", \"GbdArt\": \"Wohnhaus mit Gesch\\u00e4ftsr\\u00e4umen\", \"sum_Bestand\": 8017.0, \"sum_Neubau\": 8, \"sum_Abbruch\": 11.0}, {\"Jahr\": \"1997-01-01T00:00:00\", \"GbdArt\": \"Einfamilienhaus\", \"sum_Bestand\": 9878.0, \"sum_Neubau\": 20, \"sum_Abbruch\": 3.0}, {\"Jahr\": \"1997-01-01T00:00:00\", \"GbdArt\": \"Mehrfamilienhaus\", \"sum_Bestand\": 16631.0, \"sum_Neubau\": 33, \"sum_Abbruch\": 17.0}, {\"Jahr\": \"1997-01-01T00:00:00\", \"GbdArt\": \"Nichtwohngeb\\u00e4ude\", \"sum_Bestand\": 17785.0, \"sum_Neubau\": 74, \"sum_Abbruch\": 140.0}, {\"Jahr\": \"1998-01-01T00:00:00\", \"GbdArt\": \"Nichtwohngeb\\u00e4ude\", \"sum_Bestand\": 18267.0, \"sum_Neubau\": 56, \"sum_Abbruch\": 142.0}, {\"Jahr\": \"1998-01-01T00:00:00\", \"GbdArt\": \"Wohnhaus mit Gesch\\u00e4ftsr\\u00e4umen\", \"sum_Bestand\": 8015.0, \"sum_Neubau\": 7, \"sum_Abbruch\": 14.0}, {\"Jahr\": \"1998-01-01T00:00:00\", \"GbdArt\": \"Einfamilienhaus\", \"sum_Bestand\": 9899.0, \"sum_Neubau\": 34, \"sum_Abbruch\": 15.0}, {\"Jahr\": \"1998-01-01T00:00:00\", \"GbdArt\": \"Mehrfamilienhaus\", \"sum_Bestand\": 16702.0, \"sum_Neubau\": 66, \"sum_Abbruch\": 17.0}, {\"Jahr\": \"1999-01-01T00:00:00\", \"GbdArt\": \"Wohnhaus mit Gesch\\u00e4ftsr\\u00e4umen\", \"sum_Bestand\": 8015.0, \"sum_Neubau\": 9, \"sum_Abbruch\": 15.0}, {\"Jahr\": \"1999-01-01T00:00:00\", \"GbdArt\": \"Nichtwohngeb\\u00e4ude\", \"sum_Bestand\": 18781.0, \"sum_Neubau\": 51, \"sum_Abbruch\": 236.0}, {\"Jahr\": \"1999-01-01T00:00:00\", \"GbdArt\": \"Einfamilienhaus\", \"sum_Bestand\": 9901.0, \"sum_Neubau\": 15, \"sum_Abbruch\": 11.0}, {\"Jahr\": \"1999-01-01T00:00:00\", \"GbdArt\": \"Mehrfamilienhaus\", \"sum_Bestand\": 16777.0, \"sum_Neubau\": 67, \"sum_Abbruch\": 9.0}, {\"Jahr\": \"2000-01-01T00:00:00\", \"GbdArt\": \"Einfamilienhaus\", \"sum_Bestand\": 9888.0, \"sum_Neubau\": 44, \"sum_Abbruch\": 66.0}, {\"Jahr\": \"2000-01-01T00:00:00\", \"GbdArt\": \"Mehrfamilienhaus\", \"sum_Bestand\": 16849.0, \"sum_Neubau\": 84, \"sum_Abbruch\": 17.0}, {\"Jahr\": \"2000-01-01T00:00:00\", \"GbdArt\": \"Nichtwohngeb\\u00e4ude\", \"sum_Bestand\": 19320.0, \"sum_Neubau\": 96, \"sum_Abbruch\": 236.0}, {\"Jahr\": \"2000-01-01T00:00:00\", \"GbdArt\": \"Wohnhaus mit Gesch\\u00e4ftsr\\u00e4umen\", \"sum_Bestand\": 8044.0, \"sum_Neubau\": 12, \"sum_Abbruch\": 7.0}, {\"Jahr\": \"2001-01-01T00:00:00\", \"GbdArt\": \"Einfamilienhaus\", \"sum_Bestand\": 9844.0, \"sum_Neubau\": 16, \"sum_Abbruch\": 65.0}, {\"Jahr\": \"2001-01-01T00:00:00\", \"GbdArt\": \"Mehrfamilienhaus\", \"sum_Bestand\": 16917.0, \"sum_Neubau\": 73, \"sum_Abbruch\": 14.0}, {\"Jahr\": \"2001-01-01T00:00:00\", \"GbdArt\": \"Nichtwohngeb\\u00e4ude\", \"sum_Bestand\": 19881.0, \"sum_Neubau\": 70, \"sum_Abbruch\": 160.0}, {\"Jahr\": \"2001-01-01T00:00:00\", \"GbdArt\": \"Wohnhaus mit Gesch\\u00e4ftsr\\u00e4umen\", \"sum_Bestand\": 8043.0, \"sum_Neubau\": 19, \"sum_Abbruch\": 10.0}, {\"Jahr\": \"2002-01-01T00:00:00\", \"GbdArt\": \"Wohnhaus mit Gesch\\u00e4ftsr\\u00e4umen\", \"sum_Bestand\": 7771.0, \"sum_Neubau\": 15, \"sum_Abbruch\": 13.0}, {\"Jahr\": \"2002-01-01T00:00:00\", \"GbdArt\": \"Nichtwohngeb\\u00e4ude\", \"sum_Bestand\": 20190.0, \"sum_Neubau\": 60, \"sum_Abbruch\": 284.0}, {\"Jahr\": \"2002-01-01T00:00:00\", \"GbdArt\": \"Mehrfamilienhaus\", \"sum_Bestand\": 17241.0, \"sum_Neubau\": 82, \"sum_Abbruch\": 38.0}, {\"Jahr\": \"2002-01-01T00:00:00\", \"GbdArt\": \"Einfamilienhaus\", \"sum_Bestand\": 9867.0, \"sum_Neubau\": 29, \"sum_Abbruch\": 11.0}, {\"Jahr\": \"2003-01-01T00:00:00\", \"GbdArt\": \"Einfamilienhaus\", \"sum_Bestand\": 9951.0, \"sum_Neubau\": 50, \"sum_Abbruch\": 19.0}, {\"Jahr\": \"2003-01-01T00:00:00\", \"GbdArt\": \"Mehrfamilienhaus\", \"sum_Bestand\": 17391.0, \"sum_Neubau\": 117, \"sum_Abbruch\": 17.0}, {\"Jahr\": \"2003-01-01T00:00:00\", \"GbdArt\": \"Nichtwohngeb\\u00e4ude\", \"sum_Bestand\": 20130.0, \"sum_Neubau\": 61, \"sum_Abbruch\": 216.0}, {\"Jahr\": \"2003-01-01T00:00:00\", \"GbdArt\": \"Wohnhaus mit Gesch\\u00e4ftsr\\u00e4umen\", \"sum_Bestand\": 7802.0, \"sum_Neubau\": 13, \"sum_Abbruch\": 3.0}, {\"Jahr\": \"2004-01-01T00:00:00\", \"GbdArt\": \"Einfamilienhaus\", \"sum_Bestand\": 9940.0, \"sum_Neubau\": 8, \"sum_Abbruch\": 21.0}, {\"Jahr\": \"2004-01-01T00:00:00\", \"GbdArt\": \"Mehrfamilienhaus\", \"sum_Bestand\": 17425.0, \"sum_Neubau\": 76, \"sum_Abbruch\": 54.0}, {\"Jahr\": \"2004-01-01T00:00:00\", \"GbdArt\": \"Nichtwohngeb\\u00e4ude\", \"sum_Bestand\": 20146.0, \"sum_Neubau\": 61, \"sum_Abbruch\": 260.0}, {\"Jahr\": \"2004-01-01T00:00:00\", \"GbdArt\": \"Wohnhaus mit Gesch\\u00e4ftsr\\u00e4umen\", \"sum_Bestand\": 7800.0, \"sum_Neubau\": 21, \"sum_Abbruch\": 10.0}, {\"Jahr\": \"2005-01-01T00:00:00\", \"GbdArt\": \"Einfamilienhaus\", \"sum_Bestand\": 9867.0, \"sum_Neubau\": 14, \"sum_Abbruch\": 84.0}, {\"Jahr\": \"2005-01-01T00:00:00\", \"GbdArt\": \"Mehrfamilienhaus\", \"sum_Bestand\": 17463.0, \"sum_Neubau\": 72, \"sum_Abbruch\": 50.0}, {\"Jahr\": \"2005-01-01T00:00:00\", \"GbdArt\": \"Nichtwohngeb\\u00e4ude\", \"sum_Bestand\": 20213.0, \"sum_Neubau\": 56, \"sum_Abbruch\": 184.0}, {\"Jahr\": \"2005-01-01T00:00:00\", \"GbdArt\": \"Wohnhaus mit Gesch\\u00e4ftsr\\u00e4umen\", \"sum_Bestand\": 7796.0, \"sum_Neubau\": 23, \"sum_Abbruch\": 14.0}, {\"Jahr\": \"2006-01-01T00:00:00\", \"GbdArt\": \"Wohnhaus mit Gesch\\u00e4ftsr\\u00e4umen\", \"sum_Bestand\": 7818.0, \"sum_Neubau\": 18, \"sum_Abbruch\": 10.0}, {\"Jahr\": \"2006-01-01T00:00:00\", \"GbdArt\": \"Nichtwohngeb\\u00e4ude\", \"sum_Bestand\": 20881.0, \"sum_Neubau\": 88, \"sum_Abbruch\": 115.0}, {\"Jahr\": \"2006-01-01T00:00:00\", \"GbdArt\": \"Einfamilienhaus\", \"sum_Bestand\": 9854.0, \"sum_Neubau\": 15, \"sum_Abbruch\": 45.0}, {\"Jahr\": \"2006-01-01T00:00:00\", \"GbdArt\": \"Mehrfamilienhaus\", \"sum_Bestand\": 17527.0, \"sum_Neubau\": 91, \"sum_Abbruch\": 14.0}, {\"Jahr\": \"2007-01-01T00:00:00\", \"GbdArt\": \"Einfamilienhaus\", \"sum_Bestand\": 9917.0, \"sum_Neubau\": 68, \"sum_Abbruch\": 10.0}, {\"Jahr\": \"2007-01-01T00:00:00\", \"GbdArt\": \"Mehrfamilienhaus\", \"sum_Bestand\": 17605.0, \"sum_Neubau\": 143, \"sum_Abbruch\": 62.0}, {\"Jahr\": \"2007-01-01T00:00:00\", \"GbdArt\": \"Nichtwohngeb\\u00e4ude\", \"sum_Bestand\": 21858.0, \"sum_Neubau\": 100, \"sum_Abbruch\": 93.0}, {\"Jahr\": \"2007-01-01T00:00:00\", \"GbdArt\": \"Wohnhaus mit Gesch\\u00e4ftsr\\u00e4umen\", \"sum_Bestand\": 7467.0, \"sum_Neubau\": 31, \"sum_Abbruch\": 19.0}, {\"Jahr\": \"2008-01-01T00:00:00\", \"GbdArt\": \"Einfamilienhaus\", \"sum_Bestand\": 9899.0, \"sum_Neubau\": 14, \"sum_Abbruch\": 27.0}, {\"Jahr\": \"2008-01-01T00:00:00\", \"GbdArt\": \"Mehrfamilienhaus\", \"sum_Bestand\": 18024.0, \"sum_Neubau\": 118, \"sum_Abbruch\": 96.0}, {\"Jahr\": \"2008-01-01T00:00:00\", \"GbdArt\": \"Nichtwohngeb\\u00e4ude\", \"sum_Bestand\": 18750.0, \"sum_Neubau\": 28, \"sum_Abbruch\": 108.0}, {\"Jahr\": \"2008-01-01T00:00:00\", \"GbdArt\": \"Wohnhaus mit Gesch\\u00e4ftsr\\u00e4umen\", \"sum_Bestand\": 7394.0, \"sum_Neubau\": 9, \"sum_Abbruch\": 13.0}, {\"Jahr\": \"2009-01-01T00:00:00\", \"GbdArt\": \"Einfamilienhaus\", \"sum_Bestand\": 9757.0, \"sum_Neubau\": 6, \"sum_Abbruch\": 144.0}, {\"Jahr\": \"2009-01-01T00:00:00\", \"GbdArt\": \"Mehrfamilienhaus\", \"sum_Bestand\": 18059.0, \"sum_Neubau\": 107, \"sum_Abbruch\": 81.0}, {\"Jahr\": \"2009-01-01T00:00:00\", \"GbdArt\": \"Nichtwohngeb\\u00e4ude\", \"sum_Bestand\": 18696.0, \"sum_Neubau\": 55, \"sum_Abbruch\": 96.0}, {\"Jahr\": \"2009-01-01T00:00:00\", \"GbdArt\": \"Wohnhaus mit Gesch\\u00e4ftsr\\u00e4umen\", \"sum_Bestand\": 7386.0, \"sum_Neubau\": 13, \"sum_Abbruch\": 16.0}, {\"Jahr\": \"2010-01-01T00:00:00\", \"GbdArt\": \"Wohnhaus mit Gesch\\u00e4ftsr\\u00e4umen\", \"sum_Bestand\": 7360.0, \"sum_Neubau\": 17, \"sum_Abbruch\": 29.0}, {\"Jahr\": \"2010-01-01T00:00:00\", \"GbdArt\": \"Nichtwohngeb\\u00e4ude\", \"sum_Bestand\": 18745.0, \"sum_Neubau\": 112, \"sum_Abbruch\": 333.0}, {\"Jahr\": \"2010-01-01T00:00:00\", \"GbdArt\": \"Mehrfamilienhaus\", \"sum_Bestand\": 18096.0, \"sum_Neubau\": 107, \"sum_Abbruch\": 82.0}, {\"Jahr\": \"2010-01-01T00:00:00\", \"GbdArt\": \"Einfamilienhaus\", \"sum_Bestand\": 9711.0, \"sum_Neubau\": 14, \"sum_Abbruch\": 70.0}, {\"Jahr\": \"2011-01-01T00:00:00\", \"GbdArt\": \"Einfamilienhaus\", \"sum_Bestand\": 9744.0, \"sum_Neubau\": 8, \"sum_Abbruch\": 120.0}, {\"Jahr\": \"2011-01-01T00:00:00\", \"GbdArt\": \"Mehrfamilienhaus\", \"sum_Bestand\": 17976.0, \"sum_Neubau\": 185, \"sum_Abbruch\": 84.0}, {\"Jahr\": \"2011-01-01T00:00:00\", \"GbdArt\": \"Nichtwohngeb\\u00e4ude\", \"sum_Bestand\": 18913.0, \"sum_Neubau\": 79, \"sum_Abbruch\": 178.0}, {\"Jahr\": \"2011-01-01T00:00:00\", \"GbdArt\": \"Wohnhaus mit Gesch\\u00e4ftsr\\u00e4umen\", \"sum_Bestand\": 7452.0, \"sum_Neubau\": 22, \"sum_Abbruch\": 14.0}, {\"Jahr\": \"2012-01-01T00:00:00\", \"GbdArt\": \"Einfamilienhaus\", \"sum_Bestand\": 9774.0, \"sum_Neubau\": 80, \"sum_Abbruch\": 39.0}, {\"Jahr\": \"2012-01-01T00:00:00\", \"GbdArt\": \"Mehrfamilienhaus\", \"sum_Bestand\": 18013.0, \"sum_Neubau\": 130, \"sum_Abbruch\": 123.0}, {\"Jahr\": \"2012-01-01T00:00:00\", \"GbdArt\": \"Nichtwohngeb\\u00e4ude\", \"sum_Bestand\": 18877.0, \"sum_Neubau\": 103, \"sum_Abbruch\": 128.0}, {\"Jahr\": \"2012-01-01T00:00:00\", \"GbdArt\": \"Wohnhaus mit Gesch\\u00e4ftsr\\u00e4umen\", \"sum_Bestand\": 7488.0, \"sum_Neubau\": 32, \"sum_Abbruch\": 9.0}, {\"Jahr\": \"2013-01-01T00:00:00\", \"GbdArt\": \"Einfamilienhaus\", \"sum_Bestand\": 9775.0, \"sum_Neubau\": 35, \"sum_Abbruch\": 41.0}, {\"Jahr\": \"2013-01-01T00:00:00\", \"GbdArt\": \"Mehrfamilienhaus\", \"sum_Bestand\": 18079.0, \"sum_Neubau\": 116, \"sum_Abbruch\": 69.0}, {\"Jahr\": \"2013-01-01T00:00:00\", \"GbdArt\": \"Nichtwohngeb\\u00e4ude\", \"sum_Bestand\": 18842.0, \"sum_Neubau\": 78, \"sum_Abbruch\": 139.0}, {\"Jahr\": \"2013-01-01T00:00:00\", \"GbdArt\": \"Wohnhaus mit Gesch\\u00e4ftsr\\u00e4umen\", \"sum_Bestand\": 7527.0, \"sum_Neubau\": 44, \"sum_Abbruch\": 16.0}, {\"Jahr\": \"2014-01-01T00:00:00\", \"GbdArt\": \"Wohnhaus mit Gesch\\u00e4ftsr\\u00e4umen\", \"sum_Bestand\": 7546.0, \"sum_Neubau\": 32, \"sum_Abbruch\": 18.0}, {\"Jahr\": \"2014-01-01T00:00:00\", \"GbdArt\": \"Nichtwohngeb\\u00e4ude\", \"sum_Bestand\": 18907.0, \"sum_Neubau\": 74, \"sum_Abbruch\": 94.0}, {\"Jahr\": \"2014-01-01T00:00:00\", \"GbdArt\": \"Einfamilienhaus\", \"sum_Bestand\": 9667.0, \"sum_Neubau\": 15, \"sum_Abbruch\": 126.0}, {\"Jahr\": \"2014-01-01T00:00:00\", \"GbdArt\": \"Mehrfamilienhaus\", \"sum_Bestand\": 18035.0, \"sum_Neubau\": 107, \"sum_Abbruch\": 134.0}, {\"Jahr\": \"2015-01-01T00:00:00\", \"GbdArt\": \"Einfamilienhaus\", \"sum_Bestand\": 9656.0, \"sum_Neubau\": 43, \"sum_Abbruch\": 52.0}, {\"Jahr\": \"2015-01-01T00:00:00\", \"GbdArt\": \"Mehrfamilienhaus\", \"sum_Bestand\": 18027.0, \"sum_Neubau\": 144, \"sum_Abbruch\": 99.0}, {\"Jahr\": \"2015-01-01T00:00:00\", \"GbdArt\": \"Nichtwohngeb\\u00e4ude\", \"sum_Bestand\": 18941.0, \"sum_Neubau\": 91, \"sum_Abbruch\": 147.0}, {\"Jahr\": \"2015-01-01T00:00:00\", \"GbdArt\": \"Wohnhaus mit Gesch\\u00e4ftsr\\u00e4umen\", \"sum_Bestand\": 7667.0, \"sum_Neubau\": 63, \"sum_Abbruch\": 21.0}, {\"Jahr\": \"2016-01-01T00:00:00\", \"GbdArt\": \"Einfamilienhaus\", \"sum_Bestand\": 9494.0, \"sum_Neubau\": 18, \"sum_Abbruch\": 177.0}, {\"Jahr\": \"2016-01-01T00:00:00\", \"GbdArt\": \"Mehrfamilienhaus\", \"sum_Bestand\": 18009.0, \"sum_Neubau\": 135, \"sum_Abbruch\": 135.0}, {\"Jahr\": \"2016-01-01T00:00:00\", \"GbdArt\": \"Nichtwohngeb\\u00e4ude\", \"sum_Bestand\": 18952.0, \"sum_Neubau\": 61, \"sum_Abbruch\": 104.0}, {\"Jahr\": \"2016-01-01T00:00:00\", \"GbdArt\": \"Wohnhaus mit Gesch\\u00e4ftsr\\u00e4umen\", \"sum_Bestand\": 7703.0, \"sum_Neubau\": 49, \"sum_Abbruch\": 25.0}, {\"Jahr\": \"2017-01-01T00:00:00\", \"GbdArt\": \"Wohnhaus mit Gesch\\u00e4ftsr\\u00e4umen\", \"sum_Bestand\": 7741.0, \"sum_Neubau\": 66, \"sum_Abbruch\": 23.0}, {\"Jahr\": \"2017-01-01T00:00:00\", \"GbdArt\": \"Einfamilienhaus\", \"sum_Bestand\": 9514.0, \"sum_Neubau\": 38, \"sum_Abbruch\": 26.0}, {\"Jahr\": \"2017-01-01T00:00:00\", \"GbdArt\": \"Mehrfamilienhaus\", \"sum_Bestand\": 18009.0, \"sum_Neubau\": 134, \"sum_Abbruch\": 126.0}, {\"Jahr\": \"2017-01-01T00:00:00\", \"GbdArt\": \"Nichtwohngeb\\u00e4ude\", \"sum_Bestand\": 18923.0, \"sum_Neubau\": 83, \"sum_Abbruch\": 118.0}, {\"Jahr\": \"2018-01-01T00:00:00\", \"GbdArt\": \"Wohnhaus mit Gesch\\u00e4ftsr\\u00e4umen\", \"sum_Bestand\": 7765.0, \"sum_Neubau\": 46, \"sum_Abbruch\": 17.0}, {\"Jahr\": \"2018-01-01T00:00:00\", \"GbdArt\": \"Nichtwohngeb\\u00e4ude\", \"sum_Bestand\": 19089.0, \"sum_Neubau\": 98, \"sum_Abbruch\": 83.0}, {\"Jahr\": \"2018-01-01T00:00:00\", \"GbdArt\": \"Mehrfamilienhaus\", \"sum_Bestand\": 18090.0, \"sum_Neubau\": 165, \"sum_Abbruch\": 89.0}, {\"Jahr\": \"2018-01-01T00:00:00\", \"GbdArt\": \"Einfamilienhaus\", \"sum_Bestand\": 9511.0, \"sum_Neubau\": 13, \"sum_Abbruch\": 16.0}, {\"Jahr\": \"2019-01-01T00:00:00\", \"GbdArt\": \"Einfamilienhaus\", \"sum_Bestand\": 9481.0, \"sum_Neubau\": 11, \"sum_Abbruch\": 22.0}, {\"Jahr\": \"2019-01-01T00:00:00\", \"GbdArt\": \"Mehrfamilienhaus\", \"sum_Bestand\": 18179.0, \"sum_Neubau\": 114, \"sum_Abbruch\": 39.0}, {\"Jahr\": \"2019-01-01T00:00:00\", \"GbdArt\": \"Nichtwohngeb\\u00e4ude\", \"sum_Bestand\": 19147.0, \"sum_Neubau\": 66, \"sum_Abbruch\": 82.0}, {\"Jahr\": \"2019-01-01T00:00:00\", \"GbdArt\": \"Wohnhaus mit Gesch\\u00e4ftsr\\u00e4umen\", \"sum_Bestand\": 7757.0, \"sum_Neubau\": 33, \"sum_Abbruch\": 24.0}, {\"Jahr\": \"2020-01-01T00:00:00\", \"GbdArt\": \"Wohnhaus mit Gesch\\u00e4ftsr\\u00e4umen\", \"sum_Bestand\": 7752.0, \"sum_Neubau\": 24, \"sum_Abbruch\": 18.0}, {\"Jahr\": \"2020-01-01T00:00:00\", \"GbdArt\": \"Einfamilienhaus\", \"sum_Bestand\": 9472.0, \"sum_Neubau\": 11, \"sum_Abbruch\": 26.0}, {\"Jahr\": \"2020-01-01T00:00:00\", \"GbdArt\": \"Mehrfamilienhaus\", \"sum_Bestand\": 18190.0, \"sum_Neubau\": 98, \"sum_Abbruch\": 91.0}, {\"Jahr\": \"2020-01-01T00:00:00\", \"GbdArt\": \"Nichtwohngeb\\u00e4ude\", \"sum_Bestand\": 19159.0, \"sum_Neubau\": 69, \"sum_Abbruch\": 101.0}, {\"Jahr\": \"2021-01-01T00:00:00\", \"GbdArt\": \"Mehrfamilienhaus\", \"sum_Bestand\": 18472.0, \"sum_Neubau\": 113, \"sum_Abbruch\": 157.0}, {\"Jahr\": \"2021-01-01T00:00:00\", \"GbdArt\": \"Nichtwohngeb\\u00e4ude\", \"sum_Bestand\": 19500.0, \"sum_Neubau\": 77, \"sum_Abbruch\": 188.0}, {\"Jahr\": \"2021-01-01T00:00:00\", \"GbdArt\": \"Einfamilienhaus\", \"sum_Bestand\": 9562.0, \"sum_Neubau\": 11, \"sum_Abbruch\": 91.0}, {\"Jahr\": \"2021-01-01T00:00:00\", \"GbdArt\": \"Wohnhaus mit Gesch\\u00e4ftsr\\u00e4umen\", \"sum_Bestand\": 6881.0, \"sum_Neubau\": 34, \"sum_Abbruch\": 39.0}]}}, {\"mode\": \"vega-lite\"});\n",
       "</script>"
      ],
      "text/plain": [
       "alt.LayerChart(...)"
      ]
     },
     "execution_count": 38,
     "metadata": {},
     "output_type": "execute_result"
    }
   ],
   "source": [
    "highlight = alt.selection(type='single', on='mouseover',\n",
    "                          fields=['GbdArt'], nearest=True)\n",
    "#x='date:StichtagDatJahr',\n",
    "base = alt.Chart(myAgg.reset_index().query('sum_Abbruch > 1'), title=\"Title\").encode(\n",
    "    x=alt.X('Jahr', axis=alt.Axis(title='Jahr'))# , axis=alt.Axis(format='%', title='percentage')\n",
    "    , y=alt.X('sum_Abbruch', axis=alt.Axis(title='Anz. abgebrochener Gebäude'))\n",
    "    , color=alt.Color('GbdArt', legend=alt.Legend(title=\"Gebäudearten\", orient=\"right\"))  \n",
    "    ,tooltip=['Jahr', 'GbdArt','sum_Abbruch']    \n",
    ")\n",
    "points = base.mark_circle().encode(\n",
    "    opacity=alt.value(0.75)\n",
    ").add_selection(\n",
    "    highlight\n",
    ").properties(\n",
    "    width=750 , height=350\n",
    ")\n",
    "lines = base.mark_line().encode(\n",
    "    size=alt.condition(~highlight, alt.value(0.5), alt.value(4))\n",
    ").interactive()\n",
    "\n",
    "lines + points"
   ]
  },
  {
   "cell_type": "markdown",
   "metadata": {
    "tags": []
   },
   "source": [
    "#### Entwicklung neu erstellter Gebäude nach Gebäudeart seit 1901"
   ]
  },
  {
   "cell_type": "code",
   "execution_count": 42,
   "metadata": {
    "tags": []
   },
   "outputs": [],
   "source": [
    "#myAgg.reset_index()"
   ]
  },
  {
   "cell_type": "code",
   "execution_count": 41,
   "metadata": {},
   "outputs": [
    {
     "data": {
      "text/html": [
       "\n",
       "<div id=\"altair-viz-daad8bc323e64c8294fa2b6d4cd1db86\"></div>\n",
       "<script type=\"text/javascript\">\n",
       "  (function(spec, embedOpt){\n",
       "    let outputDiv = document.currentScript.previousElementSibling;\n",
       "    if (outputDiv.id !== \"altair-viz-daad8bc323e64c8294fa2b6d4cd1db86\") {\n",
       "      outputDiv = document.getElementById(\"altair-viz-daad8bc323e64c8294fa2b6d4cd1db86\");\n",
       "    }\n",
       "    const paths = {\n",
       "      \"vega\": \"https://cdn.jsdelivr.net/npm//vega@5?noext\",\n",
       "      \"vega-lib\": \"https://cdn.jsdelivr.net/npm//vega-lib?noext\",\n",
       "      \"vega-lite\": \"https://cdn.jsdelivr.net/npm//vega-lite@4.8.1?noext\",\n",
       "      \"vega-embed\": \"https://cdn.jsdelivr.net/npm//vega-embed@6?noext\",\n",
       "    };\n",
       "\n",
       "    function loadScript(lib) {\n",
       "      return new Promise(function(resolve, reject) {\n",
       "        var s = document.createElement('script');\n",
       "        s.src = paths[lib];\n",
       "        s.async = true;\n",
       "        s.onload = () => resolve(paths[lib]);\n",
       "        s.onerror = () => reject(`Error loading script: ${paths[lib]}`);\n",
       "        document.getElementsByTagName(\"head\")[0].appendChild(s);\n",
       "      });\n",
       "    }\n",
       "\n",
       "    function showError(err) {\n",
       "      outputDiv.innerHTML = `<div class=\"error\" style=\"color:red;\">${err}</div>`;\n",
       "      throw err;\n",
       "    }\n",
       "\n",
       "    function displayChart(vegaEmbed) {\n",
       "      vegaEmbed(outputDiv, spec, embedOpt)\n",
       "        .catch(err => showError(`Javascript Error: ${err.message}<br>This usually means there's a typo in your chart specification. See the javascript console for the full traceback.`));\n",
       "    }\n",
       "\n",
       "    if(typeof define === \"function\" && define.amd) {\n",
       "      requirejs.config({paths});\n",
       "      require([\"vega-embed\"], displayChart, err => showError(`Error loading script: ${err.message}`));\n",
       "    } else if (typeof vegaEmbed === \"function\") {\n",
       "      displayChart(vegaEmbed);\n",
       "    } else {\n",
       "      loadScript(\"vega\")\n",
       "        .then(() => loadScript(\"vega-lite\"))\n",
       "        .then(() => loadScript(\"vega-embed\"))\n",
       "        .catch(showError)\n",
       "        .then(() => displayChart(vegaEmbed));\n",
       "    }\n",
       "  })({\"config\": {\"view\": {\"continuousWidth\": 400, \"continuousHeight\": 300}}, \"layer\": [{\"mark\": \"line\", \"encoding\": {\"color\": {\"type\": \"nominal\", \"field\": \"GbdArt\", \"legend\": {\"orient\": \"right\", \"title\": \"Geb\\u00e4udearten\"}}, \"size\": {\"condition\": {\"value\": 0.5, \"selection\": {\"not\": \"selector009\"}}, \"value\": 4}, \"tooltip\": [{\"type\": \"temporal\", \"field\": \"Jahr\"}, {\"type\": \"nominal\", \"field\": \"GbdArt\"}, {\"type\": \"quantitative\", \"field\": \"sum_Neubau\"}], \"x\": {\"type\": \"temporal\", \"axis\": {\"title\": \"Jahr\"}, \"field\": \"Jahr\"}, \"y\": {\"type\": \"quantitative\", \"axis\": {\"title\": \"Anz. neu gebauter Geb\\u00e4ude\"}, \"field\": \"sum_Neubau\"}}, \"selection\": {\"selector010\": {\"type\": \"interval\", \"bind\": \"scales\", \"encodings\": [\"x\", \"y\"]}}, \"title\": \"Title\"}, {\"mark\": \"circle\", \"encoding\": {\"color\": {\"type\": \"nominal\", \"field\": \"GbdArt\", \"legend\": {\"orient\": \"right\", \"title\": \"Geb\\u00e4udearten\"}}, \"opacity\": {\"value\": 0.75}, \"tooltip\": [{\"type\": \"temporal\", \"field\": \"Jahr\"}, {\"type\": \"nominal\", \"field\": \"GbdArt\"}, {\"type\": \"quantitative\", \"field\": \"sum_Neubau\"}], \"x\": {\"type\": \"temporal\", \"axis\": {\"title\": \"Jahr\"}, \"field\": \"Jahr\"}, \"y\": {\"type\": \"quantitative\", \"axis\": {\"title\": \"Anz. neu gebauter Geb\\u00e4ude\"}, \"field\": \"sum_Neubau\"}}, \"height\": 350, \"selection\": {\"selector009\": {\"type\": \"single\", \"on\": \"mouseover\", \"fields\": [\"GbdArt\"], \"nearest\": true}}, \"title\": \"Title\", \"width\": 750}], \"data\": {\"name\": \"data-a29d6673f05c1b2d79f790a5005b472f\"}, \"$schema\": \"https://vega.github.io/schema/vega-lite/v4.8.1.json\", \"datasets\": {\"data-a29d6673f05c1b2d79f790a5005b472f\": [{\"Jahr\": \"1902-01-01T00:00:00\", \"GbdArt\": \"Einfamilienhaus\", \"sum_Bestand\": 0.0, \"sum_Neubau\": 17, \"sum_Abbruch\": 0.0}, {\"Jahr\": \"1902-01-01T00:00:00\", \"GbdArt\": \"Mehrfamilienhaus\", \"sum_Bestand\": 0.0, \"sum_Neubau\": 36, \"sum_Abbruch\": 0.0}, {\"Jahr\": \"1902-01-01T00:00:00\", \"GbdArt\": \"Nichtwohngeb\\u00e4ude\", \"sum_Bestand\": 0.0, \"sum_Neubau\": 60, \"sum_Abbruch\": 0.0}, {\"Jahr\": \"1902-01-01T00:00:00\", \"GbdArt\": \"Wohnhaus mit Gesch\\u00e4ftsr\\u00e4umen\", \"sum_Bestand\": 0.0, \"sum_Neubau\": 29, \"sum_Abbruch\": 0.0}, {\"Jahr\": \"1903-01-01T00:00:00\", \"GbdArt\": \"Einfamilienhaus\", \"sum_Bestand\": 0.0, \"sum_Neubau\": 17, \"sum_Abbruch\": 0.0}, {\"Jahr\": \"1903-01-01T00:00:00\", \"GbdArt\": \"Mehrfamilienhaus\", \"sum_Bestand\": 0.0, \"sum_Neubau\": 38, \"sum_Abbruch\": 0.0}, {\"Jahr\": \"1903-01-01T00:00:00\", \"GbdArt\": \"Nichtwohngeb\\u00e4ude\", \"sum_Bestand\": 0.0, \"sum_Neubau\": 41, \"sum_Abbruch\": 0.0}, {\"Jahr\": \"1903-01-01T00:00:00\", \"GbdArt\": \"Wohnhaus mit Gesch\\u00e4ftsr\\u00e4umen\", \"sum_Bestand\": 0.0, \"sum_Neubau\": 28, \"sum_Abbruch\": 0.0}, {\"Jahr\": \"1904-01-01T00:00:00\", \"GbdArt\": \"Einfamilienhaus\", \"sum_Bestand\": 0.0, \"sum_Neubau\": 34, \"sum_Abbruch\": 0.0}, {\"Jahr\": \"1904-01-01T00:00:00\", \"GbdArt\": \"Mehrfamilienhaus\", \"sum_Bestand\": 0.0, \"sum_Neubau\": 47, \"sum_Abbruch\": 0.0}, {\"Jahr\": \"1904-01-01T00:00:00\", \"GbdArt\": \"Nichtwohngeb\\u00e4ude\", \"sum_Bestand\": 0.0, \"sum_Neubau\": 64, \"sum_Abbruch\": 0.0}, {\"Jahr\": \"1904-01-01T00:00:00\", \"GbdArt\": \"Wohnhaus mit Gesch\\u00e4ftsr\\u00e4umen\", \"sum_Bestand\": 0.0, \"sum_Neubau\": 28, \"sum_Abbruch\": 0.0}, {\"Jahr\": \"1905-01-01T00:00:00\", \"GbdArt\": \"Wohnhaus mit Gesch\\u00e4ftsr\\u00e4umen\", \"sum_Bestand\": 0.0, \"sum_Neubau\": 22, \"sum_Abbruch\": 0.0}, {\"Jahr\": \"1905-01-01T00:00:00\", \"GbdArt\": \"Nichtwohngeb\\u00e4ude\", \"sum_Bestand\": 0.0, \"sum_Neubau\": 33, \"sum_Abbruch\": 0.0}, {\"Jahr\": \"1905-01-01T00:00:00\", \"GbdArt\": \"Einfamilienhaus\", \"sum_Bestand\": 0.0, \"sum_Neubau\": 21, \"sum_Abbruch\": 0.0}, {\"Jahr\": \"1905-01-01T00:00:00\", \"GbdArt\": \"Mehrfamilienhaus\", \"sum_Bestand\": 0.0, \"sum_Neubau\": 47, \"sum_Abbruch\": 0.0}, {\"Jahr\": \"1906-01-01T00:00:00\", \"GbdArt\": \"Einfamilienhaus\", \"sum_Bestand\": 0.0, \"sum_Neubau\": 30, \"sum_Abbruch\": 0.0}, {\"Jahr\": \"1906-01-01T00:00:00\", \"GbdArt\": \"Mehrfamilienhaus\", \"sum_Bestand\": 0.0, \"sum_Neubau\": 72, \"sum_Abbruch\": 0.0}, {\"Jahr\": \"1906-01-01T00:00:00\", \"GbdArt\": \"Nichtwohngeb\\u00e4ude\", \"sum_Bestand\": 0.0, \"sum_Neubau\": 43, \"sum_Abbruch\": 0.0}, {\"Jahr\": \"1906-01-01T00:00:00\", \"GbdArt\": \"Wohnhaus mit Gesch\\u00e4ftsr\\u00e4umen\", \"sum_Bestand\": 0.0, \"sum_Neubau\": 46, \"sum_Abbruch\": 0.0}, {\"Jahr\": \"1907-01-01T00:00:00\", \"GbdArt\": \"Einfamilienhaus\", \"sum_Bestand\": 0.0, \"sum_Neubau\": 37, \"sum_Abbruch\": 0.0}, {\"Jahr\": \"1907-01-01T00:00:00\", \"GbdArt\": \"Mehrfamilienhaus\", \"sum_Bestand\": 0.0, \"sum_Neubau\": 73, \"sum_Abbruch\": 0.0}, {\"Jahr\": \"1907-01-01T00:00:00\", \"GbdArt\": \"Nichtwohngeb\\u00e4ude\", \"sum_Bestand\": 0.0, \"sum_Neubau\": 78, \"sum_Abbruch\": 0.0}, {\"Jahr\": \"1907-01-01T00:00:00\", \"GbdArt\": \"Wohnhaus mit Gesch\\u00e4ftsr\\u00e4umen\", \"sum_Bestand\": 0.0, \"sum_Neubau\": 54, \"sum_Abbruch\": 0.0}, {\"Jahr\": \"1908-01-01T00:00:00\", \"GbdArt\": \"Einfamilienhaus\", \"sum_Bestand\": 0.0, \"sum_Neubau\": 39, \"sum_Abbruch\": 0.0}, {\"Jahr\": \"1908-01-01T00:00:00\", \"GbdArt\": \"Mehrfamilienhaus\", \"sum_Bestand\": 0.0, \"sum_Neubau\": 93, \"sum_Abbruch\": 0.0}, {\"Jahr\": \"1908-01-01T00:00:00\", \"GbdArt\": \"Nichtwohngeb\\u00e4ude\", \"sum_Bestand\": 0.0, \"sum_Neubau\": 84, \"sum_Abbruch\": 0.0}, {\"Jahr\": \"1908-01-01T00:00:00\", \"GbdArt\": \"Wohnhaus mit Gesch\\u00e4ftsr\\u00e4umen\", \"sum_Bestand\": 0.0, \"sum_Neubau\": 59, \"sum_Abbruch\": 0.0}, {\"Jahr\": \"1909-01-01T00:00:00\", \"GbdArt\": \"Wohnhaus mit Gesch\\u00e4ftsr\\u00e4umen\", \"sum_Bestand\": 0.0, \"sum_Neubau\": 52, \"sum_Abbruch\": 0.0}, {\"Jahr\": \"1909-01-01T00:00:00\", \"GbdArt\": \"Nichtwohngeb\\u00e4ude\", \"sum_Bestand\": 0.0, \"sum_Neubau\": 76, \"sum_Abbruch\": 0.0}, {\"Jahr\": \"1909-01-01T00:00:00\", \"GbdArt\": \"Einfamilienhaus\", \"sum_Bestand\": 0.0, \"sum_Neubau\": 56, \"sum_Abbruch\": 0.0}, {\"Jahr\": \"1909-01-01T00:00:00\", \"GbdArt\": \"Mehrfamilienhaus\", \"sum_Bestand\": 0.0, \"sum_Neubau\": 146, \"sum_Abbruch\": 0.0}, {\"Jahr\": \"1910-01-01T00:00:00\", \"GbdArt\": \"Einfamilienhaus\", \"sum_Bestand\": 0.0, \"sum_Neubau\": 74, \"sum_Abbruch\": 0.0}, {\"Jahr\": \"1910-01-01T00:00:00\", \"GbdArt\": \"Mehrfamilienhaus\", \"sum_Bestand\": 0.0, \"sum_Neubau\": 182, \"sum_Abbruch\": 0.0}, {\"Jahr\": \"1910-01-01T00:00:00\", \"GbdArt\": \"Nichtwohngeb\\u00e4ude\", \"sum_Bestand\": 0.0, \"sum_Neubau\": 93, \"sum_Abbruch\": 0.0}, {\"Jahr\": \"1910-01-01T00:00:00\", \"GbdArt\": \"Wohnhaus mit Gesch\\u00e4ftsr\\u00e4umen\", \"sum_Bestand\": 0.0, \"sum_Neubau\": 103, \"sum_Abbruch\": 0.0}, {\"Jahr\": \"1911-01-01T00:00:00\", \"GbdArt\": \"Einfamilienhaus\", \"sum_Bestand\": 0.0, \"sum_Neubau\": 84, \"sum_Abbruch\": 0.0}, {\"Jahr\": \"1911-01-01T00:00:00\", \"GbdArt\": \"Mehrfamilienhaus\", \"sum_Bestand\": 0.0, \"sum_Neubau\": 207, \"sum_Abbruch\": 0.0}, {\"Jahr\": \"1911-01-01T00:00:00\", \"GbdArt\": \"Nichtwohngeb\\u00e4ude\", \"sum_Bestand\": 0.0, \"sum_Neubau\": 95, \"sum_Abbruch\": 0.0}, {\"Jahr\": \"1911-01-01T00:00:00\", \"GbdArt\": \"Wohnhaus mit Gesch\\u00e4ftsr\\u00e4umen\", \"sum_Bestand\": 0.0, \"sum_Neubau\": 114, \"sum_Abbruch\": 0.0}, {\"Jahr\": \"1912-01-01T00:00:00\", \"GbdArt\": \"Wohnhaus mit Gesch\\u00e4ftsr\\u00e4umen\", \"sum_Bestand\": 0.0, \"sum_Neubau\": 79, \"sum_Abbruch\": 0.0}, {\"Jahr\": \"1912-01-01T00:00:00\", \"GbdArt\": \"Nichtwohngeb\\u00e4ude\", \"sum_Bestand\": 0.0, \"sum_Neubau\": 90, \"sum_Abbruch\": 0.0}, {\"Jahr\": \"1912-01-01T00:00:00\", \"GbdArt\": \"Mehrfamilienhaus\", \"sum_Bestand\": 0.0, \"sum_Neubau\": 199, \"sum_Abbruch\": 0.0}, {\"Jahr\": \"1912-01-01T00:00:00\", \"GbdArt\": \"Einfamilienhaus\", \"sum_Bestand\": 0.0, \"sum_Neubau\": 68, \"sum_Abbruch\": 0.0}, {\"Jahr\": \"1913-01-01T00:00:00\", \"GbdArt\": \"Einfamilienhaus\", \"sum_Bestand\": 0.0, \"sum_Neubau\": 59, \"sum_Abbruch\": 0.0}, {\"Jahr\": \"1913-01-01T00:00:00\", \"GbdArt\": \"Mehrfamilienhaus\", \"sum_Bestand\": 0.0, \"sum_Neubau\": 82, \"sum_Abbruch\": 0.0}, {\"Jahr\": \"1913-01-01T00:00:00\", \"GbdArt\": \"Nichtwohngeb\\u00e4ude\", \"sum_Bestand\": 0.0, \"sum_Neubau\": 32, \"sum_Abbruch\": 0.0}, {\"Jahr\": \"1913-01-01T00:00:00\", \"GbdArt\": \"Wohnhaus mit Gesch\\u00e4ftsr\\u00e4umen\", \"sum_Bestand\": 0.0, \"sum_Neubau\": 40, \"sum_Abbruch\": 0.0}, {\"Jahr\": \"1914-01-01T00:00:00\", \"GbdArt\": \"Einfamilienhaus\", \"sum_Bestand\": 0.0, \"sum_Neubau\": 81, \"sum_Abbruch\": 0.0}, {\"Jahr\": \"1914-01-01T00:00:00\", \"GbdArt\": \"Mehrfamilienhaus\", \"sum_Bestand\": 0.0, \"sum_Neubau\": 69, \"sum_Abbruch\": 0.0}, {\"Jahr\": \"1914-01-01T00:00:00\", \"GbdArt\": \"Nichtwohngeb\\u00e4ude\", \"sum_Bestand\": 0.0, \"sum_Neubau\": 67, \"sum_Abbruch\": 0.0}, {\"Jahr\": \"1914-01-01T00:00:00\", \"GbdArt\": \"Wohnhaus mit Gesch\\u00e4ftsr\\u00e4umen\", \"sum_Bestand\": 0.0, \"sum_Neubau\": 35, \"sum_Abbruch\": 0.0}, {\"Jahr\": \"1915-01-01T00:00:00\", \"GbdArt\": \"Nichtwohngeb\\u00e4ude\", \"sum_Bestand\": 0.0, \"sum_Neubau\": 37, \"sum_Abbruch\": 0.0}, {\"Jahr\": \"1915-01-01T00:00:00\", \"GbdArt\": \"Wohnhaus mit Gesch\\u00e4ftsr\\u00e4umen\", \"sum_Bestand\": 0.0, \"sum_Neubau\": 24, \"sum_Abbruch\": 0.0}, {\"Jahr\": \"1915-01-01T00:00:00\", \"GbdArt\": \"Einfamilienhaus\", \"sum_Bestand\": 0.0, \"sum_Neubau\": 42, \"sum_Abbruch\": 0.0}, {\"Jahr\": \"1915-01-01T00:00:00\", \"GbdArt\": \"Mehrfamilienhaus\", \"sum_Bestand\": 0.0, \"sum_Neubau\": 63, \"sum_Abbruch\": 0.0}, {\"Jahr\": \"1916-01-01T00:00:00\", \"GbdArt\": \"Wohnhaus mit Gesch\\u00e4ftsr\\u00e4umen\", \"sum_Bestand\": 0.0, \"sum_Neubau\": 20, \"sum_Abbruch\": 0.0}, {\"Jahr\": \"1916-01-01T00:00:00\", \"GbdArt\": \"Nichtwohngeb\\u00e4ude\", \"sum_Bestand\": 0.0, \"sum_Neubau\": 46, \"sum_Abbruch\": 0.0}, {\"Jahr\": \"1916-01-01T00:00:00\", \"GbdArt\": \"Einfamilienhaus\", \"sum_Bestand\": 0.0, \"sum_Neubau\": 36, \"sum_Abbruch\": 0.0}, {\"Jahr\": \"1916-01-01T00:00:00\", \"GbdArt\": \"Mehrfamilienhaus\", \"sum_Bestand\": 0.0, \"sum_Neubau\": 27, \"sum_Abbruch\": 0.0}, {\"Jahr\": \"1917-01-01T00:00:00\", \"GbdArt\": \"Einfamilienhaus\", \"sum_Bestand\": 0.0, \"sum_Neubau\": 35, \"sum_Abbruch\": 0.0}, {\"Jahr\": \"1917-01-01T00:00:00\", \"GbdArt\": \"Mehrfamilienhaus\", \"sum_Bestand\": 0.0, \"sum_Neubau\": 35, \"sum_Abbruch\": 0.0}, {\"Jahr\": \"1917-01-01T00:00:00\", \"GbdArt\": \"Nichtwohngeb\\u00e4ude\", \"sum_Bestand\": 0.0, \"sum_Neubau\": 44, \"sum_Abbruch\": 0.0}, {\"Jahr\": \"1917-01-01T00:00:00\", \"GbdArt\": \"Wohnhaus mit Gesch\\u00e4ftsr\\u00e4umen\", \"sum_Bestand\": 0.0, \"sum_Neubau\": 14, \"sum_Abbruch\": 0.0}, {\"Jahr\": \"1918-01-01T00:00:00\", \"GbdArt\": \"Einfamilienhaus\", \"sum_Bestand\": 0.0, \"sum_Neubau\": 31, \"sum_Abbruch\": 0.0}, {\"Jahr\": \"1918-01-01T00:00:00\", \"GbdArt\": \"Mehrfamilienhaus\", \"sum_Bestand\": 0.0, \"sum_Neubau\": 53, \"sum_Abbruch\": 0.0}, {\"Jahr\": \"1918-01-01T00:00:00\", \"GbdArt\": \"Nichtwohngeb\\u00e4ude\", \"sum_Bestand\": 0.0, \"sum_Neubau\": 40, \"sum_Abbruch\": 0.0}, {\"Jahr\": \"1918-01-01T00:00:00\", \"GbdArt\": \"Wohnhaus mit Gesch\\u00e4ftsr\\u00e4umen\", \"sum_Bestand\": 0.0, \"sum_Neubau\": 10, \"sum_Abbruch\": 0.0}, {\"Jahr\": \"1919-01-01T00:00:00\", \"GbdArt\": \"Wohnhaus mit Gesch\\u00e4ftsr\\u00e4umen\", \"sum_Bestand\": 0.0, \"sum_Neubau\": 3, \"sum_Abbruch\": 0.0}, {\"Jahr\": \"1919-01-01T00:00:00\", \"GbdArt\": \"Nichtwohngeb\\u00e4ude\", \"sum_Bestand\": 0.0, \"sum_Neubau\": 32, \"sum_Abbruch\": 0.0}, {\"Jahr\": \"1919-01-01T00:00:00\", \"GbdArt\": \"Einfamilienhaus\", \"sum_Bestand\": 0.0, \"sum_Neubau\": 26, \"sum_Abbruch\": 0.0}, {\"Jahr\": \"1919-01-01T00:00:00\", \"GbdArt\": \"Mehrfamilienhaus\", \"sum_Bestand\": 0.0, \"sum_Neubau\": 64, \"sum_Abbruch\": 0.0}, {\"Jahr\": \"1920-01-01T00:00:00\", \"GbdArt\": \"Einfamilienhaus\", \"sum_Bestand\": 0.0, \"sum_Neubau\": 86, \"sum_Abbruch\": 0.0}, {\"Jahr\": \"1920-01-01T00:00:00\", \"GbdArt\": \"Mehrfamilienhaus\", \"sum_Bestand\": 0.0, \"sum_Neubau\": 46, \"sum_Abbruch\": 0.0}, {\"Jahr\": \"1920-01-01T00:00:00\", \"GbdArt\": \"Nichtwohngeb\\u00e4ude\", \"sum_Bestand\": 0.0, \"sum_Neubau\": 46, \"sum_Abbruch\": 0.0}, {\"Jahr\": \"1920-01-01T00:00:00\", \"GbdArt\": \"Wohnhaus mit Gesch\\u00e4ftsr\\u00e4umen\", \"sum_Bestand\": 0.0, \"sum_Neubau\": 6, \"sum_Abbruch\": 0.0}, {\"Jahr\": \"1921-01-01T00:00:00\", \"GbdArt\": \"Einfamilienhaus\", \"sum_Bestand\": 0.0, \"sum_Neubau\": 106, \"sum_Abbruch\": 0.0}, {\"Jahr\": \"1921-01-01T00:00:00\", \"GbdArt\": \"Mehrfamilienhaus\", \"sum_Bestand\": 0.0, \"sum_Neubau\": 40, \"sum_Abbruch\": 0.0}, {\"Jahr\": \"1921-01-01T00:00:00\", \"GbdArt\": \"Nichtwohngeb\\u00e4ude\", \"sum_Bestand\": 0.0, \"sum_Neubau\": 82, \"sum_Abbruch\": 0.0}, {\"Jahr\": \"1921-01-01T00:00:00\", \"GbdArt\": \"Wohnhaus mit Gesch\\u00e4ftsr\\u00e4umen\", \"sum_Bestand\": 0.0, \"sum_Neubau\": 3, \"sum_Abbruch\": 0.0}, {\"Jahr\": \"1922-01-01T00:00:00\", \"GbdArt\": \"Nichtwohngeb\\u00e4ude\", \"sum_Bestand\": 0.0, \"sum_Neubau\": 49, \"sum_Abbruch\": 0.0}, {\"Jahr\": \"1922-01-01T00:00:00\", \"GbdArt\": \"Einfamilienhaus\", \"sum_Bestand\": 0.0, \"sum_Neubau\": 58, \"sum_Abbruch\": 0.0}, {\"Jahr\": \"1922-01-01T00:00:00\", \"GbdArt\": \"Mehrfamilienhaus\", \"sum_Bestand\": 0.0, \"sum_Neubau\": 40, \"sum_Abbruch\": 0.0}, {\"Jahr\": \"1922-01-01T00:00:00\", \"GbdArt\": \"Wohnhaus mit Gesch\\u00e4ftsr\\u00e4umen\", \"sum_Bestand\": 0.0, \"sum_Neubau\": 17, \"sum_Abbruch\": 0.0}, {\"Jahr\": \"1923-01-01T00:00:00\", \"GbdArt\": \"Wohnhaus mit Gesch\\u00e4ftsr\\u00e4umen\", \"sum_Bestand\": 0.0, \"sum_Neubau\": 23, \"sum_Abbruch\": 0.0}, {\"Jahr\": \"1923-01-01T00:00:00\", \"GbdArt\": \"Nichtwohngeb\\u00e4ude\", \"sum_Bestand\": 0.0, \"sum_Neubau\": 73, \"sum_Abbruch\": 0.0}, {\"Jahr\": \"1923-01-01T00:00:00\", \"GbdArt\": \"Mehrfamilienhaus\", \"sum_Bestand\": 0.0, \"sum_Neubau\": 69, \"sum_Abbruch\": 0.0}, {\"Jahr\": \"1923-01-01T00:00:00\", \"GbdArt\": \"Einfamilienhaus\", \"sum_Bestand\": 0.0, \"sum_Neubau\": 116, \"sum_Abbruch\": 0.0}, {\"Jahr\": \"1924-01-01T00:00:00\", \"GbdArt\": \"Einfamilienhaus\", \"sum_Bestand\": 0.0, \"sum_Neubau\": 193, \"sum_Abbruch\": 0.0}, {\"Jahr\": \"1924-01-01T00:00:00\", \"GbdArt\": \"Mehrfamilienhaus\", \"sum_Bestand\": 0.0, \"sum_Neubau\": 198, \"sum_Abbruch\": 0.0}, {\"Jahr\": \"1924-01-01T00:00:00\", \"GbdArt\": \"Nichtwohngeb\\u00e4ude\", \"sum_Bestand\": 0.0, \"sum_Neubau\": 116, \"sum_Abbruch\": 0.0}, {\"Jahr\": \"1924-01-01T00:00:00\", \"GbdArt\": \"Wohnhaus mit Gesch\\u00e4ftsr\\u00e4umen\", \"sum_Bestand\": 0.0, \"sum_Neubau\": 46, \"sum_Abbruch\": 0.0}, {\"Jahr\": \"1925-01-01T00:00:00\", \"GbdArt\": \"Einfamilienhaus\", \"sum_Bestand\": 0.0, \"sum_Neubau\": 292, \"sum_Abbruch\": 0.0}, {\"Jahr\": \"1925-01-01T00:00:00\", \"GbdArt\": \"Mehrfamilienhaus\", \"sum_Bestand\": 0.0, \"sum_Neubau\": 103, \"sum_Abbruch\": 0.0}, {\"Jahr\": \"1925-01-01T00:00:00\", \"GbdArt\": \"Nichtwohngeb\\u00e4ude\", \"sum_Bestand\": 0.0, \"sum_Neubau\": 120, \"sum_Abbruch\": 0.0}, {\"Jahr\": \"1925-01-01T00:00:00\", \"GbdArt\": \"Wohnhaus mit Gesch\\u00e4ftsr\\u00e4umen\", \"sum_Bestand\": 0.0, \"sum_Neubau\": 51, \"sum_Abbruch\": 0.0}, {\"Jahr\": \"1926-01-01T00:00:00\", \"GbdArt\": \"Nichtwohngeb\\u00e4ude\", \"sum_Bestand\": 0.0, \"sum_Neubau\": 123, \"sum_Abbruch\": 0.0}, {\"Jahr\": \"1926-01-01T00:00:00\", \"GbdArt\": \"Wohnhaus mit Gesch\\u00e4ftsr\\u00e4umen\", \"sum_Bestand\": 0.0, \"sum_Neubau\": 74, \"sum_Abbruch\": 0.0}, {\"Jahr\": \"1926-01-01T00:00:00\", \"GbdArt\": \"Einfamilienhaus\", \"sum_Bestand\": 0.0, \"sum_Neubau\": 295, \"sum_Abbruch\": 0.0}, {\"Jahr\": \"1926-01-01T00:00:00\", \"GbdArt\": \"Mehrfamilienhaus\", \"sum_Bestand\": 0.0, \"sum_Neubau\": 212, \"sum_Abbruch\": 0.0}, {\"Jahr\": \"1927-01-01T00:00:00\", \"GbdArt\": \"Einfamilienhaus\", \"sum_Bestand\": 0.0, \"sum_Neubau\": 228, \"sum_Abbruch\": 0.0}, {\"Jahr\": \"1927-01-01T00:00:00\", \"GbdArt\": \"Mehrfamilienhaus\", \"sum_Bestand\": 0.0, \"sum_Neubau\": 211, \"sum_Abbruch\": 0.0}, {\"Jahr\": \"1927-01-01T00:00:00\", \"GbdArt\": \"Nichtwohngeb\\u00e4ude\", \"sum_Bestand\": 0.0, \"sum_Neubau\": 129, \"sum_Abbruch\": 0.0}, {\"Jahr\": \"1927-01-01T00:00:00\", \"GbdArt\": \"Wohnhaus mit Gesch\\u00e4ftsr\\u00e4umen\", \"sum_Bestand\": 0.0, \"sum_Neubau\": 102, \"sum_Abbruch\": 0.0}, {\"Jahr\": \"1928-01-01T00:00:00\", \"GbdArt\": \"Einfamilienhaus\", \"sum_Bestand\": 0.0, \"sum_Neubau\": 214, \"sum_Abbruch\": 0.0}, {\"Jahr\": \"1928-01-01T00:00:00\", \"GbdArt\": \"Mehrfamilienhaus\", \"sum_Bestand\": 0.0, \"sum_Neubau\": 315, \"sum_Abbruch\": 0.0}, {\"Jahr\": \"1928-01-01T00:00:00\", \"GbdArt\": \"Nichtwohngeb\\u00e4ude\", \"sum_Bestand\": 0.0, \"sum_Neubau\": 178, \"sum_Abbruch\": 0.0}, {\"Jahr\": \"1928-01-01T00:00:00\", \"GbdArt\": \"Wohnhaus mit Gesch\\u00e4ftsr\\u00e4umen\", \"sum_Bestand\": 0.0, \"sum_Neubau\": 100, \"sum_Abbruch\": 0.0}, {\"Jahr\": \"1929-01-01T00:00:00\", \"GbdArt\": \"Wohnhaus mit Gesch\\u00e4ftsr\\u00e4umen\", \"sum_Bestand\": 0.0, \"sum_Neubau\": 118, \"sum_Abbruch\": 0.0}, {\"Jahr\": \"1929-01-01T00:00:00\", \"GbdArt\": \"Einfamilienhaus\", \"sum_Bestand\": 0.0, \"sum_Neubau\": 440, \"sum_Abbruch\": 0.0}, {\"Jahr\": \"1929-01-01T00:00:00\", \"GbdArt\": \"Mehrfamilienhaus\", \"sum_Bestand\": 0.0, \"sum_Neubau\": 301, \"sum_Abbruch\": 0.0}, {\"Jahr\": \"1929-01-01T00:00:00\", \"GbdArt\": \"Nichtwohngeb\\u00e4ude\", \"sum_Bestand\": 0.0, \"sum_Neubau\": 178, \"sum_Abbruch\": 0.0}, {\"Jahr\": \"1930-01-01T00:00:00\", \"GbdArt\": \"Nichtwohngeb\\u00e4ude\", \"sum_Bestand\": 0.0, \"sum_Neubau\": 152, \"sum_Abbruch\": 0.0}, {\"Jahr\": \"1930-01-01T00:00:00\", \"GbdArt\": \"Wohnhaus mit Gesch\\u00e4ftsr\\u00e4umen\", \"sum_Bestand\": 0.0, \"sum_Neubau\": 124, \"sum_Abbruch\": 0.0}, {\"Jahr\": \"1930-01-01T00:00:00\", \"GbdArt\": \"Einfamilienhaus\", \"sum_Bestand\": 0.0, \"sum_Neubau\": 166, \"sum_Abbruch\": 0.0}, {\"Jahr\": \"1930-01-01T00:00:00\", \"GbdArt\": \"Mehrfamilienhaus\", \"sum_Bestand\": 0.0, \"sum_Neubau\": 316, \"sum_Abbruch\": 0.0}, {\"Jahr\": \"1931-01-01T00:00:00\", \"GbdArt\": \"Wohnhaus mit Gesch\\u00e4ftsr\\u00e4umen\", \"sum_Bestand\": 0.0, \"sum_Neubau\": 181, \"sum_Abbruch\": 0.0}, {\"Jahr\": \"1931-01-01T00:00:00\", \"GbdArt\": \"Nichtwohngeb\\u00e4ude\", \"sum_Bestand\": 0.0, \"sum_Neubau\": 221, \"sum_Abbruch\": 0.0}, {\"Jahr\": \"1931-01-01T00:00:00\", \"GbdArt\": \"Mehrfamilienhaus\", \"sum_Bestand\": 0.0, \"sum_Neubau\": 469, \"sum_Abbruch\": 0.0}, {\"Jahr\": \"1931-01-01T00:00:00\", \"GbdArt\": \"Einfamilienhaus\", \"sum_Bestand\": 0.0, \"sum_Neubau\": 429, \"sum_Abbruch\": 0.0}, {\"Jahr\": \"1932-01-01T00:00:00\", \"GbdArt\": \"Einfamilienhaus\", \"sum_Bestand\": 0.0, \"sum_Neubau\": 227, \"sum_Abbruch\": 0.0}, {\"Jahr\": \"1932-01-01T00:00:00\", \"GbdArt\": \"Mehrfamilienhaus\", \"sum_Bestand\": 0.0, \"sum_Neubau\": 441, \"sum_Abbruch\": 0.0}, {\"Jahr\": \"1932-01-01T00:00:00\", \"GbdArt\": \"Nichtwohngeb\\u00e4ude\", \"sum_Bestand\": 0.0, \"sum_Neubau\": 218, \"sum_Abbruch\": 0.0}, {\"Jahr\": \"1932-01-01T00:00:00\", \"GbdArt\": \"Wohnhaus mit Gesch\\u00e4ftsr\\u00e4umen\", \"sum_Bestand\": 0.0, \"sum_Neubau\": 187, \"sum_Abbruch\": 0.0}, {\"Jahr\": \"1933-01-01T00:00:00\", \"GbdArt\": \"Einfamilienhaus\", \"sum_Bestand\": 0.0, \"sum_Neubau\": 285, \"sum_Abbruch\": 0.0}, {\"Jahr\": \"1933-01-01T00:00:00\", \"GbdArt\": \"Mehrfamilienhaus\", \"sum_Bestand\": 0.0, \"sum_Neubau\": 190, \"sum_Abbruch\": 0.0}, {\"Jahr\": \"1933-01-01T00:00:00\", \"GbdArt\": \"Nichtwohngeb\\u00e4ude\", \"sum_Bestand\": 0.0, \"sum_Neubau\": 143, \"sum_Abbruch\": 0.0}, {\"Jahr\": \"1933-01-01T00:00:00\", \"GbdArt\": \"Wohnhaus mit Gesch\\u00e4ftsr\\u00e4umen\", \"sum_Bestand\": 0.0, \"sum_Neubau\": 76, \"sum_Abbruch\": 0.0}, {\"Jahr\": \"1934-01-01T00:00:00\", \"GbdArt\": \"Nichtwohngeb\\u00e4ude\", \"sum_Bestand\": 8325.0, \"sum_Neubau\": 124, \"sum_Abbruch\": 100.0}, {\"Jahr\": \"1934-01-01T00:00:00\", \"GbdArt\": \"Wohnhaus mit Gesch\\u00e4ftsr\\u00e4umen\", \"sum_Bestand\": 7801.0, \"sum_Neubau\": 102, \"sum_Abbruch\": 10.0}, {\"Jahr\": \"1934-01-01T00:00:00\", \"GbdArt\": \"Einfamilienhaus\", \"sum_Bestand\": 6193.0, \"sum_Neubau\": 302, \"sum_Abbruch\": 12.0}, {\"Jahr\": \"1934-01-01T00:00:00\", \"GbdArt\": \"Mehrfamilienhaus\", \"sum_Bestand\": 9266.0, \"sum_Neubau\": 251, \"sum_Abbruch\": 14.0}, {\"Jahr\": \"1935-01-01T00:00:00\", \"GbdArt\": \"Einfamilienhaus\", \"sum_Bestand\": 6353.0, \"sum_Neubau\": 177, \"sum_Abbruch\": 4.0}, {\"Jahr\": \"1935-01-01T00:00:00\", \"GbdArt\": \"Mehrfamilienhaus\", \"sum_Bestand\": 9450.0, \"sum_Neubau\": 176, \"sum_Abbruch\": 9.0}, {\"Jahr\": \"1935-01-01T00:00:00\", \"GbdArt\": \"Nichtwohngeb\\u00e4ude\", \"sum_Bestand\": 8311.0, \"sum_Neubau\": 94, \"sum_Abbruch\": 95.0}, {\"Jahr\": \"1935-01-01T00:00:00\", \"GbdArt\": \"Wohnhaus mit Gesch\\u00e4ftsr\\u00e4umen\", \"sum_Bestand\": 7853.0, \"sum_Neubau\": 55, \"sum_Abbruch\": 11.0}, {\"Jahr\": \"1936-01-01T00:00:00\", \"GbdArt\": \"Einfamilienhaus\", \"sum_Bestand\": 6428.0, \"sum_Neubau\": 78, \"sum_Abbruch\": 3.0}, {\"Jahr\": \"1936-01-01T00:00:00\", \"GbdArt\": \"Mehrfamilienhaus\", \"sum_Bestand\": 9498.0, \"sum_Neubau\": 60, \"sum_Abbruch\": 12.0}, {\"Jahr\": \"1936-01-01T00:00:00\", \"GbdArt\": \"Nichtwohngeb\\u00e4ude\", \"sum_Bestand\": 8333.0, \"sum_Neubau\": 116, \"sum_Abbruch\": 94.0}, {\"Jahr\": \"1936-01-01T00:00:00\", \"GbdArt\": \"Wohnhaus mit Gesch\\u00e4ftsr\\u00e4umen\", \"sum_Bestand\": 7862.0, \"sum_Neubau\": 16, \"sum_Abbruch\": 7.0}, {\"Jahr\": \"1937-01-01T00:00:00\", \"GbdArt\": \"Wohnhaus mit Gesch\\u00e4ftsr\\u00e4umen\", \"sum_Bestand\": 7865.0, \"sum_Neubau\": 22, \"sum_Abbruch\": 19.0}, {\"Jahr\": \"1937-01-01T00:00:00\", \"GbdArt\": \"Einfamilienhaus\", \"sum_Bestand\": 6556.0, \"sum_Neubau\": 141, \"sum_Abbruch\": 13.0}, {\"Jahr\": \"1937-01-01T00:00:00\", \"GbdArt\": \"Mehrfamilienhaus\", \"sum_Bestand\": 9584.0, \"sum_Neubau\": 100, \"sum_Abbruch\": 14.0}, {\"Jahr\": \"1937-01-01T00:00:00\", \"GbdArt\": \"Nichtwohngeb\\u00e4ude\", \"sum_Bestand\": 8319.0, \"sum_Neubau\": 82, \"sum_Abbruch\": 96.0}, {\"Jahr\": \"1938-01-01T00:00:00\", \"GbdArt\": \"Nichtwohngeb\\u00e4ude\", \"sum_Bestand\": 8240.0, \"sum_Neubau\": 72, \"sum_Abbruch\": 151.0}, {\"Jahr\": \"1938-01-01T00:00:00\", \"GbdArt\": \"Wohnhaus mit Gesch\\u00e4ftsr\\u00e4umen\", \"sum_Bestand\": 7882.0, \"sum_Neubau\": 40, \"sum_Abbruch\": 23.0}, {\"Jahr\": \"1938-01-01T00:00:00\", \"GbdArt\": \"Einfamilienhaus\", \"sum_Bestand\": 6721.0, \"sum_Neubau\": 182, \"sum_Abbruch\": 17.0}, {\"Jahr\": \"1938-01-01T00:00:00\", \"GbdArt\": \"Mehrfamilienhaus\", \"sum_Bestand\": 9706.0, \"sum_Neubau\": 157, \"sum_Abbruch\": 35.0}, {\"Jahr\": \"1939-01-01T00:00:00\", \"GbdArt\": \"Einfamilienhaus\", \"sum_Bestand\": 6848.0, \"sum_Neubau\": 139, \"sum_Abbruch\": 12.0}, {\"Jahr\": \"1939-01-01T00:00:00\", \"GbdArt\": \"Mehrfamilienhaus\", \"sum_Bestand\": 9915.0, \"sum_Neubau\": 236, \"sum_Abbruch\": 27.0}, {\"Jahr\": \"1939-01-01T00:00:00\", \"GbdArt\": \"Nichtwohngeb\\u00e4ude\", \"sum_Bestand\": 8282.0, \"sum_Neubau\": 141, \"sum_Abbruch\": 99.0}, {\"Jahr\": \"1939-01-01T00:00:00\", \"GbdArt\": \"Wohnhaus mit Gesch\\u00e4ftsr\\u00e4umen\", \"sum_Bestand\": 7919.0, \"sum_Neubau\": 53, \"sum_Abbruch\": 16.0}, {\"Jahr\": \"1940-01-01T00:00:00\", \"GbdArt\": \"Einfamilienhaus\", \"sum_Bestand\": 6926.0, \"sum_Neubau\": 81, \"sum_Abbruch\": 3.0}, {\"Jahr\": \"1940-01-01T00:00:00\", \"GbdArt\": \"Mehrfamilienhaus\", \"sum_Bestand\": 10009.0, \"sum_Neubau\": 101, \"sum_Abbruch\": 7.0}, {\"Jahr\": \"1940-01-01T00:00:00\", \"GbdArt\": \"Nichtwohngeb\\u00e4ude\", \"sum_Bestand\": 8353.0, \"sum_Neubau\": 117, \"sum_Abbruch\": 46.0}, {\"Jahr\": \"1940-01-01T00:00:00\", \"GbdArt\": \"Wohnhaus mit Gesch\\u00e4ftsr\\u00e4umen\", \"sum_Bestand\": 7930.0, \"sum_Neubau\": 21, \"sum_Abbruch\": 10.0}, {\"Jahr\": \"1941-01-01T00:00:00\", \"GbdArt\": \"Einfamilienhaus\", \"sum_Bestand\": 6304.0, \"sum_Neubau\": 96, \"sum_Abbruch\": 6.0}, {\"Jahr\": \"1941-01-01T00:00:00\", \"GbdArt\": \"Mehrfamilienhaus\", \"sum_Bestand\": 9823.0, \"sum_Neubau\": 95, \"sum_Abbruch\": 19.0}, {\"Jahr\": \"1941-01-01T00:00:00\", \"GbdArt\": \"Nichtwohngeb\\u00e4ude\", \"sum_Bestand\": 8689.0, \"sum_Neubau\": 120, \"sum_Abbruch\": 93.0}, {\"Jahr\": \"1941-01-01T00:00:00\", \"GbdArt\": \"Wohnhaus mit Gesch\\u00e4ftsr\\u00e4umen\", \"sum_Bestand\": 7972.0, \"sum_Neubau\": 23, \"sum_Abbruch\": 15.0}, {\"Jahr\": \"1942-01-01T00:00:00\", \"GbdArt\": \"Wohnhaus mit Gesch\\u00e4ftsr\\u00e4umen\", \"sum_Bestand\": 7987.0, \"sum_Neubau\": 35, \"sum_Abbruch\": 17.0}, {\"Jahr\": \"1942-01-01T00:00:00\", \"GbdArt\": \"Nichtwohngeb\\u00e4ude\", \"sum_Bestand\": 8744.0, \"sum_Neubau\": 123, \"sum_Abbruch\": 62.0}, {\"Jahr\": \"1942-01-01T00:00:00\", \"GbdArt\": \"Mehrfamilienhaus\", \"sum_Bestand\": 9993.0, \"sum_Neubau\": 142, \"sum_Abbruch\": 8.0}, {\"Jahr\": \"1942-01-01T00:00:00\", \"GbdArt\": \"Einfamilienhaus\", \"sum_Bestand\": 6308.0, \"sum_Neubau\": 35, \"sum_Abbruch\": 4.0}, {\"Jahr\": \"1943-01-01T00:00:00\", \"GbdArt\": \"Einfamilienhaus\", \"sum_Bestand\": 6547.0, \"sum_Neubau\": 271, \"sum_Abbruch\": 9.0}, {\"Jahr\": \"1943-01-01T00:00:00\", \"GbdArt\": \"Mehrfamilienhaus\", \"sum_Bestand\": 10150.0, \"sum_Neubau\": 143, \"sum_Abbruch\": 10.0}, {\"Jahr\": \"1943-01-01T00:00:00\", \"GbdArt\": \"Nichtwohngeb\\u00e4ude\", \"sum_Bestand\": 8871.0, \"sum_Neubau\": 173, \"sum_Abbruch\": 48.0}, {\"Jahr\": \"1943-01-01T00:00:00\", \"GbdArt\": \"Wohnhaus mit Gesch\\u00e4ftsr\\u00e4umen\", \"sum_Bestand\": 8000.0, \"sum_Neubau\": 19, \"sum_Abbruch\": 3.0}, {\"Jahr\": \"1944-01-01T00:00:00\", \"GbdArt\": \"Einfamilienhaus\", \"sum_Bestand\": 7053.0, \"sum_Neubau\": 521, \"sum_Abbruch\": 5.0}, {\"Jahr\": \"1944-01-01T00:00:00\", \"GbdArt\": \"Mehrfamilienhaus\", \"sum_Bestand\": 10343.0, \"sum_Neubau\": 195, \"sum_Abbruch\": 11.0}, {\"Jahr\": \"1944-01-01T00:00:00\", \"GbdArt\": \"Nichtwohngeb\\u00e4ude\", \"sum_Bestand\": 8888.0, \"sum_Neubau\": 83, \"sum_Abbruch\": 66.0}, {\"Jahr\": \"1944-01-01T00:00:00\", \"GbdArt\": \"Wohnhaus mit Gesch\\u00e4ftsr\\u00e4umen\", \"sum_Bestand\": 8020.0, \"sum_Neubau\": 26, \"sum_Abbruch\": 7.0}, {\"Jahr\": \"1945-01-01T00:00:00\", \"GbdArt\": \"Einfamilienhaus\", \"sum_Bestand\": 7485.0, \"sum_Neubau\": 458, \"sum_Abbruch\": 8.0}, {\"Jahr\": \"1945-01-01T00:00:00\", \"GbdArt\": \"Mehrfamilienhaus\", \"sum_Bestand\": 10560.0, \"sum_Neubau\": 222, \"sum_Abbruch\": 12.0}, {\"Jahr\": \"1945-01-01T00:00:00\", \"GbdArt\": \"Nichtwohngeb\\u00e4ude\", \"sum_Bestand\": 8924.0, \"sum_Neubau\": 84, \"sum_Abbruch\": 48.0}, {\"Jahr\": \"1945-01-01T00:00:00\", \"GbdArt\": \"Wohnhaus mit Gesch\\u00e4ftsr\\u00e4umen\", \"sum_Bestand\": 8050.0, \"sum_Neubau\": 32, \"sum_Abbruch\": 12.0}, {\"Jahr\": \"1946-01-01T00:00:00\", \"GbdArt\": \"Nichtwohngeb\\u00e4ude\", \"sum_Bestand\": 8936.0, \"sum_Neubau\": 110, \"sum_Abbruch\": 100.0}, {\"Jahr\": \"1946-01-01T00:00:00\", \"GbdArt\": \"Wohnhaus mit Gesch\\u00e4ftsr\\u00e4umen\", \"sum_Bestand\": 8075.0, \"sum_Neubau\": 53, \"sum_Abbruch\": 27.0}, {\"Jahr\": \"1946-01-01T00:00:00\", \"GbdArt\": \"Mehrfamilienhaus\", \"sum_Bestand\": 10767.0, \"sum_Neubau\": 219, \"sum_Abbruch\": 14.0}, {\"Jahr\": \"1946-01-01T00:00:00\", \"GbdArt\": \"Einfamilienhaus\", \"sum_Bestand\": 8055.0, \"sum_Neubau\": 590, \"sum_Abbruch\": 17.0}, {\"Jahr\": \"1947-01-01T00:00:00\", \"GbdArt\": \"Einfamilienhaus\", \"sum_Bestand\": 8528.0, \"sum_Neubau\": 494, \"sum_Abbruch\": 11.0}, {\"Jahr\": \"1947-01-01T00:00:00\", \"GbdArt\": \"Mehrfamilienhaus\", \"sum_Bestand\": 10940.0, \"sum_Neubau\": 186, \"sum_Abbruch\": 17.0}, {\"Jahr\": \"1947-01-01T00:00:00\", \"GbdArt\": \"Nichtwohngeb\\u00e4ude\", \"sum_Bestand\": 8938.0, \"sum_Neubau\": 116, \"sum_Abbruch\": 117.0}, {\"Jahr\": \"1947-01-01T00:00:00\", \"GbdArt\": \"Wohnhaus mit Gesch\\u00e4ftsr\\u00e4umen\", \"sum_Bestand\": 8104.0, \"sum_Neubau\": 53, \"sum_Abbruch\": 28.0}, {\"Jahr\": \"1948-01-01T00:00:00\", \"GbdArt\": \"Einfamilienhaus\", \"sum_Bestand\": 8999.0, \"sum_Neubau\": 496, \"sum_Abbruch\": 16.0}, {\"Jahr\": \"1948-01-01T00:00:00\", \"GbdArt\": \"Mehrfamilienhaus\", \"sum_Bestand\": 11307.0, \"sum_Neubau\": 382, \"sum_Abbruch\": 16.0}, {\"Jahr\": \"1948-01-01T00:00:00\", \"GbdArt\": \"Nichtwohngeb\\u00e4ude\", \"sum_Bestand\": 9156.0, \"sum_Neubau\": 296, \"sum_Abbruch\": 88.0}, {\"Jahr\": \"1948-01-01T00:00:00\", \"GbdArt\": \"Wohnhaus mit Gesch\\u00e4ftsr\\u00e4umen\", \"sum_Bestand\": 8113.0, \"sum_Neubau\": 36, \"sum_Abbruch\": 24.0}, {\"Jahr\": \"1949-01-01T00:00:00\", \"GbdArt\": \"Einfamilienhaus\", \"sum_Bestand\": 9353.0, \"sum_Neubau\": 384, \"sum_Abbruch\": 13.0}, {\"Jahr\": \"1949-01-01T00:00:00\", \"GbdArt\": \"Mehrfamilienhaus\", \"sum_Bestand\": 11619.0, \"sum_Neubau\": 324, \"sum_Abbruch\": 12.0}, {\"Jahr\": \"1949-01-01T00:00:00\", \"GbdArt\": \"Nichtwohngeb\\u00e4ude\", \"sum_Bestand\": 9258.0, \"sum_Neubau\": 182, \"sum_Abbruch\": 94.0}, {\"Jahr\": \"1949-01-01T00:00:00\", \"GbdArt\": \"Wohnhaus mit Gesch\\u00e4ftsr\\u00e4umen\", \"sum_Bestand\": 8108.0, \"sum_Neubau\": 16, \"sum_Abbruch\": 24.0}, {\"Jahr\": \"1950-01-01T00:00:00\", \"GbdArt\": \"Wohnhaus mit Gesch\\u00e4ftsr\\u00e4umen\", \"sum_Bestand\": 8102.0, \"sum_Neubau\": 38, \"sum_Abbruch\": 41.0}, {\"Jahr\": \"1950-01-01T00:00:00\", \"GbdArt\": \"Nichtwohngeb\\u00e4ude\", \"sum_Bestand\": 9308.0, \"sum_Neubau\": 152, \"sum_Abbruch\": 113.0}, {\"Jahr\": \"1950-01-01T00:00:00\", \"GbdArt\": \"Einfamilienhaus\", \"sum_Bestand\": 9521.0, \"sum_Neubau\": 186, \"sum_Abbruch\": 16.0}, {\"Jahr\": \"1950-01-01T00:00:00\", \"GbdArt\": \"Mehrfamilienhaus\", \"sum_Bestand\": 11999.0, \"sum_Neubau\": 412, \"sum_Abbruch\": 30.0}, {\"Jahr\": \"1951-01-01T00:00:00\", \"GbdArt\": \"Einfamilienhaus\", \"sum_Bestand\": 9685.0, \"sum_Neubau\": 190, \"sum_Abbruch\": 17.0}, {\"Jahr\": \"1951-01-01T00:00:00\", \"GbdArt\": \"Mehrfamilienhaus\", \"sum_Bestand\": 12444.0, \"sum_Neubau\": 509, \"sum_Abbruch\": 50.0}, {\"Jahr\": \"1951-01-01T00:00:00\", \"GbdArt\": \"Nichtwohngeb\\u00e4ude\", \"sum_Bestand\": 9422.0, \"sum_Neubau\": 204, \"sum_Abbruch\": 108.0}, {\"Jahr\": \"1951-01-01T00:00:00\", \"GbdArt\": \"Wohnhaus mit Gesch\\u00e4ftsr\\u00e4umen\", \"sum_Bestand\": 8149.0, \"sum_Neubau\": 67, \"sum_Abbruch\": 25.0}, {\"Jahr\": \"1952-01-01T00:00:00\", \"GbdArt\": \"Einfamilienhaus\", \"sum_Bestand\": 9794.0, \"sum_Neubau\": 154, \"sum_Abbruch\": 31.0}, {\"Jahr\": \"1952-01-01T00:00:00\", \"GbdArt\": \"Mehrfamilienhaus\", \"sum_Bestand\": 12935.0, \"sum_Neubau\": 532, \"sum_Abbruch\": 34.0}, {\"Jahr\": \"1952-01-01T00:00:00\", \"GbdArt\": \"Nichtwohngeb\\u00e4ude\", \"sum_Bestand\": 9527.0, \"sum_Neubau\": 213, \"sum_Abbruch\": 127.0}, {\"Jahr\": \"1952-01-01T00:00:00\", \"GbdArt\": \"Wohnhaus mit Gesch\\u00e4ftsr\\u00e4umen\", \"sum_Bestand\": 8182.0, \"sum_Neubau\": 60, \"sum_Abbruch\": 29.0}, {\"Jahr\": \"1953-01-01T00:00:00\", \"GbdArt\": \"Nichtwohngeb\\u00e4ude\", \"sum_Bestand\": 9691.0, \"sum_Neubau\": 250, \"sum_Abbruch\": 116.0}, {\"Jahr\": \"1953-01-01T00:00:00\", \"GbdArt\": \"Wohnhaus mit Gesch\\u00e4ftsr\\u00e4umen\", \"sum_Bestand\": 8188.0, \"sum_Neubau\": 49, \"sum_Abbruch\": 39.0}, {\"Jahr\": \"1953-01-01T00:00:00\", \"GbdArt\": \"Mehrfamilienhaus\", \"sum_Bestand\": 13270.0, \"sum_Neubau\": 372, \"sum_Abbruch\": 34.0}, {\"Jahr\": \"1953-01-01T00:00:00\", \"GbdArt\": \"Einfamilienhaus\", \"sum_Bestand\": 9961.0, \"sum_Neubau\": 212, \"sum_Abbruch\": 22.0}, {\"Jahr\": \"1954-01-01T00:00:00\", \"GbdArt\": \"Einfamilienhaus\", \"sum_Bestand\": 9986.0, \"sum_Neubau\": 76, \"sum_Abbruch\": 26.0}, {\"Jahr\": \"1954-01-01T00:00:00\", \"GbdArt\": \"Mehrfamilienhaus\", \"sum_Bestand\": 13634.0, \"sum_Neubau\": 409, \"sum_Abbruch\": 26.0}, {\"Jahr\": \"1954-01-01T00:00:00\", \"GbdArt\": \"Nichtwohngeb\\u00e4ude\", \"sum_Bestand\": 9796.0, \"sum_Neubau\": 179, \"sum_Abbruch\": 135.0}, {\"Jahr\": \"1954-01-01T00:00:00\", \"GbdArt\": \"Wohnhaus mit Gesch\\u00e4ftsr\\u00e4umen\", \"sum_Bestand\": 8173.0, \"sum_Neubau\": 43, \"sum_Abbruch\": 34.0}, {\"Jahr\": \"1955-01-01T00:00:00\", \"GbdArt\": \"Wohnhaus mit Gesch\\u00e4ftsr\\u00e4umen\", \"sum_Bestand\": 8143.0, \"sum_Neubau\": 34, \"sum_Abbruch\": 51.0}, {\"Jahr\": \"1955-01-01T00:00:00\", \"GbdArt\": \"Einfamilienhaus\", \"sum_Bestand\": 10006.0, \"sum_Neubau\": 58, \"sum_Abbruch\": 22.0}, {\"Jahr\": \"1955-01-01T00:00:00\", \"GbdArt\": \"Mehrfamilienhaus\", \"sum_Bestand\": 13915.0, \"sum_Neubau\": 340, \"sum_Abbruch\": 49.0}, {\"Jahr\": \"1955-01-01T00:00:00\", \"GbdArt\": \"Nichtwohngeb\\u00e4ude\", \"sum_Bestand\": 9918.0, \"sum_Neubau\": 251, \"sum_Abbruch\": 168.0}, {\"Jahr\": \"1956-01-01T00:00:00\", \"GbdArt\": \"Wohnhaus mit Gesch\\u00e4ftsr\\u00e4umen\", \"sum_Bestand\": 6836.0, \"sum_Neubau\": 29, \"sum_Abbruch\": 72.0}, {\"Jahr\": \"1956-01-01T00:00:00\", \"GbdArt\": \"Nichtwohngeb\\u00e4ude\", \"sum_Bestand\": 10907.0, \"sum_Neubau\": 318, \"sum_Abbruch\": 193.0}, {\"Jahr\": \"1956-01-01T00:00:00\", \"GbdArt\": \"Mehrfamilienhaus\", \"sum_Bestand\": 14212.0, \"sum_Neubau\": 206, \"sum_Abbruch\": 56.0}, {\"Jahr\": \"1956-01-01T00:00:00\", \"GbdArt\": \"Einfamilienhaus\", \"sum_Bestand\": 10576.0, \"sum_Neubau\": 51, \"sum_Abbruch\": 19.0}, {\"Jahr\": \"1957-01-01T00:00:00\", \"GbdArt\": \"Wohnhaus mit Gesch\\u00e4ftsr\\u00e4umen\", \"sum_Bestand\": 6836.0, \"sum_Neubau\": 34, \"sum_Abbruch\": 29.0}, {\"Jahr\": \"1957-01-01T00:00:00\", \"GbdArt\": \"Einfamilienhaus\", \"sum_Bestand\": 10610.0, \"sum_Neubau\": 66, \"sum_Abbruch\": 16.0}, {\"Jahr\": \"1957-01-01T00:00:00\", \"GbdArt\": \"Mehrfamilienhaus\", \"sum_Bestand\": 14405.0, \"sum_Neubau\": 234, \"sum_Abbruch\": 32.0}, {\"Jahr\": \"1957-01-01T00:00:00\", \"GbdArt\": \"Nichtwohngeb\\u00e4ude\", \"sum_Bestand\": 11097.0, \"sum_Neubau\": 281, \"sum_Abbruch\": 121.0}, {\"Jahr\": \"1958-01-01T00:00:00\", \"GbdArt\": \"Nichtwohngeb\\u00e4ude\", \"sum_Bestand\": 11328.0, \"sum_Neubau\": 309, \"sum_Abbruch\": 151.0}, {\"Jahr\": \"1958-01-01T00:00:00\", \"GbdArt\": \"Wohnhaus mit Gesch\\u00e4ftsr\\u00e4umen\", \"sum_Bestand\": 6781.0, \"sum_Neubau\": 32, \"sum_Abbruch\": 55.0}, {\"Jahr\": \"1958-01-01T00:00:00\", \"GbdArt\": \"Einfamilienhaus\", \"sum_Bestand\": 10600.0, \"sum_Neubau\": 16, \"sum_Abbruch\": 15.0}, {\"Jahr\": \"1958-01-01T00:00:00\", \"GbdArt\": \"Mehrfamilienhaus\", \"sum_Bestand\": 14627.0, \"sum_Neubau\": 275, \"sum_Abbruch\": 45.0}, {\"Jahr\": \"1959-01-01T00:00:00\", \"GbdArt\": \"Nichtwohngeb\\u00e4ude\", \"sum_Bestand\": 11424.0, \"sum_Neubau\": 223, \"sum_Abbruch\": 163.0}, {\"Jahr\": \"1959-01-01T00:00:00\", \"GbdArt\": \"Wohnhaus mit Gesch\\u00e4ftsr\\u00e4umen\", \"sum_Bestand\": 6787.0, \"sum_Neubau\": 38, \"sum_Abbruch\": 37.0}, {\"Jahr\": \"1959-01-01T00:00:00\", \"GbdArt\": \"Einfamilienhaus\", \"sum_Bestand\": 10569.0, \"sum_Neubau\": 7, \"sum_Abbruch\": 26.0}, {\"Jahr\": \"1959-01-01T00:00:00\", \"GbdArt\": \"Mehrfamilienhaus\", \"sum_Bestand\": 14822.0, \"sum_Neubau\": 252, \"sum_Abbruch\": 28.0}, {\"Jahr\": \"1960-01-01T00:00:00\", \"GbdArt\": \"Nichtwohngeb\\u00e4ude\", \"sum_Bestand\": 11478.0, \"sum_Neubau\": 199, \"sum_Abbruch\": 166.0}, {\"Jahr\": \"1960-01-01T00:00:00\", \"GbdArt\": \"Wohnhaus mit Gesch\\u00e4ftsr\\u00e4umen\", \"sum_Bestand\": 6760.0, \"sum_Neubau\": 36, \"sum_Abbruch\": 61.0}, {\"Jahr\": \"1960-01-01T00:00:00\", \"GbdArt\": \"Einfamilienhaus\", \"sum_Bestand\": 10545.0, \"sum_Neubau\": 10, \"sum_Abbruch\": 31.0}, {\"Jahr\": \"1960-01-01T00:00:00\", \"GbdArt\": \"Mehrfamilienhaus\", \"sum_Bestand\": 15031.0, \"sum_Neubau\": 279, \"sum_Abbruch\": 48.0}, {\"Jahr\": \"1961-01-01T00:00:00\", \"GbdArt\": \"Nichtwohngeb\\u00e4ude\", \"sum_Bestand\": 11513.0, \"sum_Neubau\": 184, \"sum_Abbruch\": 163.0}, {\"Jahr\": \"1961-01-01T00:00:00\", \"GbdArt\": \"Wohnhaus mit Gesch\\u00e4ftsr\\u00e4umen\", \"sum_Bestand\": 6748.0, \"sum_Neubau\": 41, \"sum_Abbruch\": 46.0}, {\"Jahr\": \"1961-01-01T00:00:00\", \"GbdArt\": \"Einfamilienhaus\", \"sum_Bestand\": 10518.0, \"sum_Neubau\": 12, \"sum_Abbruch\": 21.0}, {\"Jahr\": \"1961-01-01T00:00:00\", \"GbdArt\": \"Mehrfamilienhaus\", \"sum_Bestand\": 15149.0, \"sum_Neubau\": 176, \"sum_Abbruch\": 53.0}, {\"Jahr\": \"1962-01-01T00:00:00\", \"GbdArt\": \"Einfamilienhaus\", \"sum_Bestand\": 10499.0, \"sum_Neubau\": 16, \"sum_Abbruch\": 28.0}, {\"Jahr\": \"1962-01-01T00:00:00\", \"GbdArt\": \"Mehrfamilienhaus\", \"sum_Bestand\": 15246.0, \"sum_Neubau\": 174, \"sum_Abbruch\": 52.0}, {\"Jahr\": \"1962-01-01T00:00:00\", \"GbdArt\": \"Nichtwohngeb\\u00e4ude\", \"sum_Bestand\": 11574.0, \"sum_Neubau\": 217, \"sum_Abbruch\": 162.0}, {\"Jahr\": \"1962-01-01T00:00:00\", \"GbdArt\": \"Wohnhaus mit Gesch\\u00e4ftsr\\u00e4umen\", \"sum_Bestand\": 6750.0, \"sum_Neubau\": 29, \"sum_Abbruch\": 34.0}, {\"Jahr\": \"1963-01-01T00:00:00\", \"GbdArt\": \"Einfamilienhaus\", \"sum_Bestand\": 10474.0, \"sum_Neubau\": 32, \"sum_Abbruch\": 42.0}, {\"Jahr\": \"1963-01-01T00:00:00\", \"GbdArt\": \"Mehrfamilienhaus\", \"sum_Bestand\": 15309.0, \"sum_Neubau\": 115, \"sum_Abbruch\": 46.0}, {\"Jahr\": \"1963-01-01T00:00:00\", \"GbdArt\": \"Nichtwohngeb\\u00e4ude\", \"sum_Bestand\": 11641.0, \"sum_Neubau\": 213, \"sum_Abbruch\": 168.0}, {\"Jahr\": \"1963-01-01T00:00:00\", \"GbdArt\": \"Wohnhaus mit Gesch\\u00e4ftsr\\u00e4umen\", \"sum_Bestand\": 6729.0, \"sum_Neubau\": 38, \"sum_Abbruch\": 47.0}, {\"Jahr\": \"1964-01-01T00:00:00\", \"GbdArt\": \"Einfamilienhaus\", \"sum_Bestand\": 10455.0, \"sum_Neubau\": 18, \"sum_Abbruch\": 38.0}, {\"Jahr\": \"1964-01-01T00:00:00\", \"GbdArt\": \"Mehrfamilienhaus\", \"sum_Bestand\": 15446.0, \"sum_Neubau\": 193, \"sum_Abbruch\": 37.0}, {\"Jahr\": \"1964-01-01T00:00:00\", \"GbdArt\": \"Nichtwohngeb\\u00e4ude\", \"sum_Bestand\": 11764.0, \"sum_Neubau\": 237, \"sum_Abbruch\": 128.0}, {\"Jahr\": \"1964-01-01T00:00:00\", \"GbdArt\": \"Wohnhaus mit Gesch\\u00e4ftsr\\u00e4umen\", \"sum_Bestand\": 6709.0, \"sum_Neubau\": 23, \"sum_Abbruch\": 36.0}, {\"Jahr\": \"1965-01-01T00:00:00\", \"GbdArt\": \"Wohnhaus mit Gesch\\u00e4ftsr\\u00e4umen\", \"sum_Bestand\": 6701.0, \"sum_Neubau\": 29, \"sum_Abbruch\": 25.0}, {\"Jahr\": \"1965-01-01T00:00:00\", \"GbdArt\": \"Nichtwohngeb\\u00e4ude\", \"sum_Bestand\": 11849.0, \"sum_Neubau\": 206, \"sum_Abbruch\": 135.0}, {\"Jahr\": \"1965-01-01T00:00:00\", \"GbdArt\": \"Einfamilienhaus\", \"sum_Bestand\": 10446.0, \"sum_Neubau\": 14, \"sum_Abbruch\": 15.0}, {\"Jahr\": \"1965-01-01T00:00:00\", \"GbdArt\": \"Mehrfamilienhaus\", \"sum_Bestand\": 15586.0, \"sum_Neubau\": 178, \"sum_Abbruch\": 36.0}, {\"Jahr\": \"1966-01-01T00:00:00\", \"GbdArt\": \"Einfamilienhaus\", \"sum_Bestand\": 10392.0, \"sum_Neubau\": 11, \"sum_Abbruch\": 56.0}, {\"Jahr\": \"1966-01-01T00:00:00\", \"GbdArt\": \"Mehrfamilienhaus\", \"sum_Bestand\": 15673.0, \"sum_Neubau\": 139, \"sum_Abbruch\": 45.0}, {\"Jahr\": \"1966-01-01T00:00:00\", \"GbdArt\": \"Nichtwohngeb\\u00e4ude\", \"sum_Bestand\": 11937.0, \"sum_Neubau\": 223, \"sum_Abbruch\": 147.0}, {\"Jahr\": \"1966-01-01T00:00:00\", \"GbdArt\": \"Wohnhaus mit Gesch\\u00e4ftsr\\u00e4umen\", \"sum_Bestand\": 6694.0, \"sum_Neubau\": 16, \"sum_Abbruch\": 25.0}, {\"Jahr\": \"1967-01-01T00:00:00\", \"GbdArt\": \"Einfamilienhaus\", \"sum_Bestand\": 10381.0, \"sum_Neubau\": 4, \"sum_Abbruch\": 14.0}, {\"Jahr\": \"1967-01-01T00:00:00\", \"GbdArt\": \"Mehrfamilienhaus\", \"sum_Bestand\": 15754.0, \"sum_Neubau\": 113, \"sum_Abbruch\": 17.0}, {\"Jahr\": \"1967-01-01T00:00:00\", \"GbdArt\": \"Nichtwohngeb\\u00e4ude\", \"sum_Bestand\": 12219.0, \"sum_Neubau\": 266, \"sum_Abbruch\": 126.0}, {\"Jahr\": \"1967-01-01T00:00:00\", \"GbdArt\": \"Wohnhaus mit Gesch\\u00e4ftsr\\u00e4umen\", \"sum_Bestand\": 6674.0, \"sum_Neubau\": 20, \"sum_Abbruch\": 34.0}, {\"Jahr\": \"1968-01-01T00:00:00\", \"GbdArt\": \"Einfamilienhaus\", \"sum_Bestand\": 10344.0, \"sum_Neubau\": 5, \"sum_Abbruch\": 29.0}, {\"Jahr\": \"1968-01-01T00:00:00\", \"GbdArt\": \"Mehrfamilienhaus\", \"sum_Bestand\": 15865.0, \"sum_Neubau\": 153, \"sum_Abbruch\": 35.0}, {\"Jahr\": \"1968-01-01T00:00:00\", \"GbdArt\": \"Nichtwohngeb\\u00e4ude\", \"sum_Bestand\": 12364.0, \"sum_Neubau\": 200, \"sum_Abbruch\": 145.0}, {\"Jahr\": \"1968-01-01T00:00:00\", \"GbdArt\": \"Wohnhaus mit Gesch\\u00e4ftsr\\u00e4umen\", \"sum_Bestand\": 6652.0, \"sum_Neubau\": 27, \"sum_Abbruch\": 46.0}, {\"Jahr\": \"1969-01-01T00:00:00\", \"GbdArt\": \"Wohnhaus mit Gesch\\u00e4ftsr\\u00e4umen\", \"sum_Bestand\": 6641.0, \"sum_Neubau\": 22, \"sum_Abbruch\": 61.0}, {\"Jahr\": \"1969-01-01T00:00:00\", \"GbdArt\": \"Nichtwohngeb\\u00e4ude\", \"sum_Bestand\": 12207.0, \"sum_Neubau\": 185, \"sum_Abbruch\": 212.0}, {\"Jahr\": \"1969-01-01T00:00:00\", \"GbdArt\": \"Einfamilienhaus\", \"sum_Bestand\": 10324.0, \"sum_Neubau\": 20, \"sum_Abbruch\": 29.0}, {\"Jahr\": \"1969-01-01T00:00:00\", \"GbdArt\": \"Mehrfamilienhaus\", \"sum_Bestand\": 15933.0, \"sum_Neubau\": 161, \"sum_Abbruch\": 55.0}, {\"Jahr\": \"1970-01-01T00:00:00\", \"GbdArt\": \"Einfamilienhaus\", \"sum_Bestand\": 10316.0, \"sum_Neubau\": 2, \"sum_Abbruch\": 23.0}, {\"Jahr\": \"1970-01-01T00:00:00\", \"GbdArt\": \"Mehrfamilienhaus\", \"sum_Bestand\": 16024.0, \"sum_Neubau\": 148, \"sum_Abbruch\": 49.0}, {\"Jahr\": \"1970-01-01T00:00:00\", \"GbdArt\": \"Nichtwohngeb\\u00e4ude\", \"sum_Bestand\": 12248.0, \"sum_Neubau\": 138, \"sum_Abbruch\": 184.0}, {\"Jahr\": \"1970-01-01T00:00:00\", \"GbdArt\": \"Wohnhaus mit Gesch\\u00e4ftsr\\u00e4umen\", \"sum_Bestand\": 6569.0, \"sum_Neubau\": 19, \"sum_Abbruch\": 63.0}, {\"Jahr\": \"1971-01-01T00:00:00\", \"GbdArt\": \"Einfamilienhaus\", \"sum_Bestand\": 10165.0, \"sum_Neubau\": 12, \"sum_Abbruch\": 126.0}, {\"Jahr\": \"1971-01-01T00:00:00\", \"GbdArt\": \"Mehrfamilienhaus\", \"sum_Bestand\": 16025.0, \"sum_Neubau\": 122, \"sum_Abbruch\": 90.0}, {\"Jahr\": \"1971-01-01T00:00:00\", \"GbdArt\": \"Nichtwohngeb\\u00e4ude\", \"sum_Bestand\": 12150.0, \"sum_Neubau\": 170, \"sum_Abbruch\": 253.0}, {\"Jahr\": \"1971-01-01T00:00:00\", \"GbdArt\": \"Wohnhaus mit Gesch\\u00e4ftsr\\u00e4umen\", \"sum_Bestand\": 6556.0, \"sum_Neubau\": 36, \"sum_Abbruch\": 65.0}, {\"Jahr\": \"1972-01-01T00:00:00\", \"GbdArt\": \"Wohnhaus mit Gesch\\u00e4ftsr\\u00e4umen\", \"sum_Bestand\": 6566.0, \"sum_Neubau\": 48, \"sum_Abbruch\": 13.0}, {\"Jahr\": \"1972-01-01T00:00:00\", \"GbdArt\": \"Nichtwohngeb\\u00e4ude\", \"sum_Bestand\": 12520.0, \"sum_Neubau\": 237, \"sum_Abbruch\": 151.0}, {\"Jahr\": \"1972-01-01T00:00:00\", \"GbdArt\": \"Mehrfamilienhaus\", \"sum_Bestand\": 15878.0, \"sum_Neubau\": 132, \"sum_Abbruch\": 32.0}, {\"Jahr\": \"1972-01-01T00:00:00\", \"GbdArt\": \"Einfamilienhaus\", \"sum_Bestand\": 10082.0, \"sum_Neubau\": 37, \"sum_Abbruch\": 96.0}, {\"Jahr\": \"1973-01-01T00:00:00\", \"GbdArt\": \"Einfamilienhaus\", \"sum_Bestand\": 10003.0, \"sum_Neubau\": 13, \"sum_Abbruch\": 50.0}, {\"Jahr\": \"1973-01-01T00:00:00\", \"GbdArt\": \"Mehrfamilienhaus\", \"sum_Bestand\": 15846.0, \"sum_Neubau\": 137, \"sum_Abbruch\": 25.0}, {\"Jahr\": \"1973-01-01T00:00:00\", \"GbdArt\": \"Nichtwohngeb\\u00e4ude\", \"sum_Bestand\": 12869.0, \"sum_Neubau\": 273, \"sum_Abbruch\": 134.0}, {\"Jahr\": \"1973-01-01T00:00:00\", \"GbdArt\": \"Wohnhaus mit Gesch\\u00e4ftsr\\u00e4umen\", \"sum_Bestand\": 6575.0, \"sum_Neubau\": 34, \"sum_Abbruch\": 14.0}, {\"Jahr\": \"1974-01-01T00:00:00\", \"GbdArt\": \"Einfamilienhaus\", \"sum_Bestand\": 9985.0, \"sum_Neubau\": 21, \"sum_Abbruch\": 17.0}, {\"Jahr\": \"1974-01-01T00:00:00\", \"GbdArt\": \"Mehrfamilienhaus\", \"sum_Bestand\": 15795.0, \"sum_Neubau\": 159, \"sum_Abbruch\": 20.0}, {\"Jahr\": \"1974-01-01T00:00:00\", \"GbdArt\": \"Nichtwohngeb\\u00e4ude\", \"sum_Bestand\": 12969.0, \"sum_Neubau\": 201, \"sum_Abbruch\": 143.0}, {\"Jahr\": \"1974-01-01T00:00:00\", \"GbdArt\": \"Wohnhaus mit Gesch\\u00e4ftsr\\u00e4umen\", \"sum_Bestand\": 6598.0, \"sum_Neubau\": 21, \"sum_Abbruch\": 10.0}, {\"Jahr\": \"1975-01-01T00:00:00\", \"GbdArt\": \"Nichtwohngeb\\u00e4ude\", \"sum_Bestand\": 14121.0, \"sum_Neubau\": 361, \"sum_Abbruch\": 149.0}, {\"Jahr\": \"1975-01-01T00:00:00\", \"GbdArt\": \"Wohnhaus mit Gesch\\u00e4ftsr\\u00e4umen\", \"sum_Bestand\": 6586.0, \"sum_Neubau\": 16, \"sum_Abbruch\": 23.0}, {\"Jahr\": \"1975-01-01T00:00:00\", \"GbdArt\": \"Einfamilienhaus\", \"sum_Bestand\": 9915.0, \"sum_Neubau\": 12, \"sum_Abbruch\": 76.0}, {\"Jahr\": \"1975-01-01T00:00:00\", \"GbdArt\": \"Mehrfamilienhaus\", \"sum_Bestand\": 15853.0, \"sum_Neubau\": 99, \"sum_Abbruch\": 30.0}, {\"Jahr\": \"1976-01-01T00:00:00\", \"GbdArt\": \"Wohnhaus mit Gesch\\u00e4ftsr\\u00e4umen\", \"sum_Bestand\": 6587.0, \"sum_Neubau\": 25, \"sum_Abbruch\": 26.0}, {\"Jahr\": \"1976-01-01T00:00:00\", \"GbdArt\": \"Nichtwohngeb\\u00e4ude\", \"sum_Bestand\": 14442.0, \"sum_Neubau\": 286, \"sum_Abbruch\": 203.0}, {\"Jahr\": \"1976-01-01T00:00:00\", \"GbdArt\": \"Mehrfamilienhaus\", \"sum_Bestand\": 15902.0, \"sum_Neubau\": 95, \"sum_Abbruch\": 38.0}, {\"Jahr\": \"1976-01-01T00:00:00\", \"GbdArt\": \"Einfamilienhaus\", \"sum_Bestand\": 9889.0, \"sum_Neubau\": 2, \"sum_Abbruch\": 21.0}, {\"Jahr\": \"1977-01-01T00:00:00\", \"GbdArt\": \"Einfamilienhaus\", \"sum_Bestand\": 9875.0, \"sum_Neubau\": 18, \"sum_Abbruch\": 21.0}, {\"Jahr\": \"1977-01-01T00:00:00\", \"GbdArt\": \"Mehrfamilienhaus\", \"sum_Bestand\": 15949.0, \"sum_Neubau\": 91, \"sum_Abbruch\": 39.0}, {\"Jahr\": \"1977-01-01T00:00:00\", \"GbdArt\": \"Nichtwohngeb\\u00e4ude\", \"sum_Bestand\": 14762.0, \"sum_Neubau\": 322, \"sum_Abbruch\": 189.0}, {\"Jahr\": \"1977-01-01T00:00:00\", \"GbdArt\": \"Wohnhaus mit Gesch\\u00e4ftsr\\u00e4umen\", \"sum_Bestand\": 6609.0, \"sum_Neubau\": 23, \"sum_Abbruch\": 14.0}, {\"Jahr\": \"1978-01-01T00:00:00\", \"GbdArt\": \"Einfamilienhaus\", \"sum_Bestand\": 9880.0, \"sum_Neubau\": 35, \"sum_Abbruch\": 20.0}, {\"Jahr\": \"1978-01-01T00:00:00\", \"GbdArt\": \"Mehrfamilienhaus\", \"sum_Bestand\": 15987.0, \"sum_Neubau\": 69, \"sum_Abbruch\": 29.0}, {\"Jahr\": \"1978-01-01T00:00:00\", \"GbdArt\": \"Nichtwohngeb\\u00e4ude\", \"sum_Bestand\": 14921.0, \"sum_Neubau\": 209, \"sum_Abbruch\": 135.0}, {\"Jahr\": \"1978-01-01T00:00:00\", \"GbdArt\": \"Wohnhaus mit Gesch\\u00e4ftsr\\u00e4umen\", \"sum_Bestand\": 6580.0, \"sum_Neubau\": 5, \"sum_Abbruch\": 36.0}, {\"Jahr\": \"1979-01-01T00:00:00\", \"GbdArt\": \"Nichtwohngeb\\u00e4ude\", \"sum_Bestand\": 15071.0, \"sum_Neubau\": 254, \"sum_Abbruch\": 182.0}, {\"Jahr\": \"1979-01-01T00:00:00\", \"GbdArt\": \"Wohnhaus mit Gesch\\u00e4ftsr\\u00e4umen\", \"sum_Bestand\": 6587.0, \"sum_Neubau\": 16, \"sum_Abbruch\": 36.0}, {\"Jahr\": \"1979-01-01T00:00:00\", \"GbdArt\": \"Einfamilienhaus\", \"sum_Bestand\": 9885.0, \"sum_Neubau\": 30, \"sum_Abbruch\": 17.0}, {\"Jahr\": \"1979-01-01T00:00:00\", \"GbdArt\": \"Mehrfamilienhaus\", \"sum_Bestand\": 16027.0, \"sum_Neubau\": 114, \"sum_Abbruch\": 51.0}, {\"Jahr\": \"1980-01-01T00:00:00\", \"GbdArt\": \"Einfamilienhaus\", \"sum_Bestand\": 9864.0, \"sum_Neubau\": 14, \"sum_Abbruch\": 23.0}, {\"Jahr\": \"1980-01-01T00:00:00\", \"GbdArt\": \"Mehrfamilienhaus\", \"sum_Bestand\": 16114.0, \"sum_Neubau\": 123, \"sum_Abbruch\": 27.0}, {\"Jahr\": \"1980-01-01T00:00:00\", \"GbdArt\": \"Nichtwohngeb\\u00e4ude\", \"sum_Bestand\": 15203.0, \"sum_Neubau\": 201, \"sum_Abbruch\": 148.0}, {\"Jahr\": \"1980-01-01T00:00:00\", \"GbdArt\": \"Wohnhaus mit Gesch\\u00e4ftsr\\u00e4umen\", \"sum_Bestand\": 6595.0, \"sum_Neubau\": 20, \"sum_Abbruch\": 36.0}, {\"Jahr\": \"1981-01-01T00:00:00\", \"GbdArt\": \"Einfamilienhaus\", \"sum_Bestand\": 9833.0, \"sum_Neubau\": 43, \"sum_Abbruch\": 61.0}, {\"Jahr\": \"1981-01-01T00:00:00\", \"GbdArt\": \"Mehrfamilienhaus\", \"sum_Bestand\": 16229.0, \"sum_Neubau\": 184, \"sum_Abbruch\": 36.0}, {\"Jahr\": \"1981-01-01T00:00:00\", \"GbdArt\": \"Nichtwohngeb\\u00e4ude\", \"sum_Bestand\": 15353.0, \"sum_Neubau\": 195, \"sum_Abbruch\": 205.0}, {\"Jahr\": \"1981-01-01T00:00:00\", \"GbdArt\": \"Wohnhaus mit Gesch\\u00e4ftsr\\u00e4umen\", \"sum_Bestand\": 6626.0, \"sum_Neubau\": 34, \"sum_Abbruch\": 35.0}, {\"Jahr\": \"1982-01-01T00:00:00\", \"GbdArt\": \"Wohnhaus mit Gesch\\u00e4ftsr\\u00e4umen\", \"sum_Bestand\": 6690.0, \"sum_Neubau\": 49, \"sum_Abbruch\": 34.0}, {\"Jahr\": \"1982-01-01T00:00:00\", \"GbdArt\": \"Einfamilienhaus\", \"sum_Bestand\": 9875.0, \"sum_Neubau\": 66, \"sum_Abbruch\": 12.0}, {\"Jahr\": \"1982-01-01T00:00:00\", \"GbdArt\": \"Mehrfamilienhaus\", \"sum_Bestand\": 16331.0, \"sum_Neubau\": 165, \"sum_Abbruch\": 16.0}, {\"Jahr\": \"1982-01-01T00:00:00\", \"GbdArt\": \"Nichtwohngeb\\u00e4ude\", \"sum_Bestand\": 15596.0, \"sum_Neubau\": 255, \"sum_Abbruch\": 162.0}, {\"Jahr\": \"1983-01-01T00:00:00\", \"GbdArt\": \"Nichtwohngeb\\u00e4ude\", \"sum_Bestand\": 15708.0, \"sum_Neubau\": 142, \"sum_Abbruch\": 151.0}, {\"Jahr\": \"1983-01-01T00:00:00\", \"GbdArt\": \"Wohnhaus mit Gesch\\u00e4ftsr\\u00e4umen\", \"sum_Bestand\": 6747.0, \"sum_Neubau\": 34, \"sum_Abbruch\": 29.0}, {\"Jahr\": \"1983-01-01T00:00:00\", \"GbdArt\": \"Einfamilienhaus\", \"sum_Bestand\": 9855.0, \"sum_Neubau\": 10, \"sum_Abbruch\": 10.0}, {\"Jahr\": \"1983-01-01T00:00:00\", \"GbdArt\": \"Mehrfamilienhaus\", \"sum_Bestand\": 16353.0, \"sum_Neubau\": 90, \"sum_Abbruch\": 26.0}, {\"Jahr\": \"1984-01-01T00:00:00\", \"GbdArt\": \"Einfamilienhaus\", \"sum_Bestand\": 9857.0, \"sum_Neubau\": 14, \"sum_Abbruch\": 17.0}, {\"Jahr\": \"1984-01-01T00:00:00\", \"GbdArt\": \"Mehrfamilienhaus\", \"sum_Bestand\": 16381.0, \"sum_Neubau\": 97, \"sum_Abbruch\": 23.0}, {\"Jahr\": \"1984-01-01T00:00:00\", \"GbdArt\": \"Nichtwohngeb\\u00e4ude\", \"sum_Bestand\": 16121.0, \"sum_Neubau\": 141, \"sum_Abbruch\": 105.0}, {\"Jahr\": \"1984-01-01T00:00:00\", \"GbdArt\": \"Wohnhaus mit Gesch\\u00e4ftsr\\u00e4umen\", \"sum_Bestand\": 6808.0, \"sum_Neubau\": 36, \"sum_Abbruch\": 22.0}, {\"Jahr\": \"1985-01-01T00:00:00\", \"GbdArt\": \"Einfamilienhaus\", \"sum_Bestand\": 9896.0, \"sum_Neubau\": 6, \"sum_Abbruch\": 15.0}, {\"Jahr\": \"1985-01-01T00:00:00\", \"GbdArt\": \"Mehrfamilienhaus\", \"sum_Bestand\": 16391.0, \"sum_Neubau\": 99, \"sum_Abbruch\": 19.0}, {\"Jahr\": \"1985-01-01T00:00:00\", \"GbdArt\": \"Nichtwohngeb\\u00e4ude\", \"sum_Bestand\": 16382.0, \"sum_Neubau\": 153, \"sum_Abbruch\": 139.0}, {\"Jahr\": \"1985-01-01T00:00:00\", \"GbdArt\": \"Wohnhaus mit Gesch\\u00e4ftsr\\u00e4umen\", \"sum_Bestand\": 6822.0, \"sum_Neubau\": 43, \"sum_Abbruch\": 19.0}, {\"Jahr\": \"1986-01-01T00:00:00\", \"GbdArt\": \"Einfamilienhaus\", \"sum_Bestand\": 9883.0, \"sum_Neubau\": 14, \"sum_Abbruch\": 16.0}, {\"Jahr\": \"1986-01-01T00:00:00\", \"GbdArt\": \"Mehrfamilienhaus\", \"sum_Bestand\": 16440.0, \"sum_Neubau\": 85, \"sum_Abbruch\": 14.0}, {\"Jahr\": \"1986-01-01T00:00:00\", \"GbdArt\": \"Nichtwohngeb\\u00e4ude\", \"sum_Bestand\": 16445.0, \"sum_Neubau\": 105, \"sum_Abbruch\": 115.0}, {\"Jahr\": \"1986-01-01T00:00:00\", \"GbdArt\": \"Wohnhaus mit Gesch\\u00e4ftsr\\u00e4umen\", \"sum_Bestand\": 6879.0, \"sum_Neubau\": 31, \"sum_Abbruch\": 13.0}, {\"Jahr\": \"1987-01-01T00:00:00\", \"GbdArt\": \"Wohnhaus mit Gesch\\u00e4ftsr\\u00e4umen\", \"sum_Bestand\": 6907.0, \"sum_Neubau\": 33, \"sum_Abbruch\": 23.0}, {\"Jahr\": \"1987-01-01T00:00:00\", \"GbdArt\": \"Nichtwohngeb\\u00e4ude\", \"sum_Bestand\": 16463.0, \"sum_Neubau\": 60, \"sum_Abbruch\": 201.0}, {\"Jahr\": \"1987-01-01T00:00:00\", \"GbdArt\": \"Mehrfamilienhaus\", \"sum_Bestand\": 16456.0, \"sum_Neubau\": 53, \"sum_Abbruch\": 25.0}, {\"Jahr\": \"1988-01-01T00:00:00\", \"GbdArt\": \"Einfamilienhaus\", \"sum_Bestand\": 9851.0, \"sum_Neubau\": 6, \"sum_Abbruch\": 15.0}, {\"Jahr\": \"1988-01-01T00:00:00\", \"GbdArt\": \"Mehrfamilienhaus\", \"sum_Bestand\": 16480.0, \"sum_Neubau\": 44, \"sum_Abbruch\": 19.0}, {\"Jahr\": \"1988-01-01T00:00:00\", \"GbdArt\": \"Nichtwohngeb\\u00e4ude\", \"sum_Bestand\": 16502.0, \"sum_Neubau\": 54, \"sum_Abbruch\": 137.0}, {\"Jahr\": \"1988-01-01T00:00:00\", \"GbdArt\": \"Wohnhaus mit Gesch\\u00e4ftsr\\u00e4umen\", \"sum_Bestand\": 6916.0, \"sum_Neubau\": 22, \"sum_Abbruch\": 15.0}, {\"Jahr\": \"1989-01-01T00:00:00\", \"GbdArt\": \"Einfamilienhaus\", \"sum_Bestand\": 9837.0, \"sum_Neubau\": 9, \"sum_Abbruch\": 18.0}, {\"Jahr\": \"1989-01-01T00:00:00\", \"GbdArt\": \"Mehrfamilienhaus\", \"sum_Bestand\": 16463.0, \"sum_Neubau\": 36, \"sum_Abbruch\": 19.0}, {\"Jahr\": \"1989-01-01T00:00:00\", \"GbdArt\": \"Nichtwohngeb\\u00e4ude\", \"sum_Bestand\": 16540.0, \"sum_Neubau\": 50, \"sum_Abbruch\": 96.0}, {\"Jahr\": \"1989-01-01T00:00:00\", \"GbdArt\": \"Wohnhaus mit Gesch\\u00e4ftsr\\u00e4umen\", \"sum_Bestand\": 6977.0, \"sum_Neubau\": 32, \"sum_Abbruch\": 11.0}, {\"Jahr\": \"1990-01-01T00:00:00\", \"GbdArt\": \"Wohnhaus mit Gesch\\u00e4ftsr\\u00e4umen\", \"sum_Bestand\": 7000.0, \"sum_Neubau\": 27, \"sum_Abbruch\": 18.0}, {\"Jahr\": \"1990-01-01T00:00:00\", \"GbdArt\": \"Einfamilienhaus\", \"sum_Bestand\": 9873.0, \"sum_Neubau\": 58, \"sum_Abbruch\": 22.0}, {\"Jahr\": \"1990-01-01T00:00:00\", \"GbdArt\": \"Mehrfamilienhaus\", \"sum_Bestand\": 16456.0, \"sum_Neubau\": 32, \"sum_Abbruch\": 25.0}, {\"Jahr\": \"1990-01-01T00:00:00\", \"GbdArt\": \"Nichtwohngeb\\u00e4ude\", \"sum_Bestand\": 16580.0, \"sum_Neubau\": 58, \"sum_Abbruch\": 102.0}, {\"Jahr\": \"1991-01-01T00:00:00\", \"GbdArt\": \"Wohnhaus mit Gesch\\u00e4ftsr\\u00e4umen\", \"sum_Bestand\": 7068.0, \"sum_Neubau\": 67, \"sum_Abbruch\": 10.0}, {\"Jahr\": \"1991-01-01T00:00:00\", \"GbdArt\": \"Nichtwohngeb\\u00e4ude\", \"sum_Bestand\": 16655.0, \"sum_Neubau\": 90, \"sum_Abbruch\": 131.0}, {\"Jahr\": \"1991-01-01T00:00:00\", \"GbdArt\": \"Einfamilienhaus\", \"sum_Bestand\": 9892.0, \"sum_Neubau\": 52, \"sum_Abbruch\": 19.0}, {\"Jahr\": \"1991-01-01T00:00:00\", \"GbdArt\": \"Mehrfamilienhaus\", \"sum_Bestand\": 16511.0, \"sum_Neubau\": 81, \"sum_Abbruch\": 12.0}, {\"Jahr\": \"1992-01-01T00:00:00\", \"GbdArt\": \"Einfamilienhaus\", \"sum_Bestand\": 9880.0, \"sum_Neubau\": 17, \"sum_Abbruch\": 32.0}, {\"Jahr\": \"1992-01-01T00:00:00\", \"GbdArt\": \"Mehrfamilienhaus\", \"sum_Bestand\": 16529.0, \"sum_Neubau\": 41, \"sum_Abbruch\": 16.0}, {\"Jahr\": \"1992-01-01T00:00:00\", \"GbdArt\": \"Nichtwohngeb\\u00e4ude\", \"sum_Bestand\": 16734.0, \"sum_Neubau\": 102, \"sum_Abbruch\": 98.0}, {\"Jahr\": \"1992-01-01T00:00:00\", \"GbdArt\": \"Wohnhaus mit Gesch\\u00e4ftsr\\u00e4umen\", \"sum_Bestand\": 7100.0, \"sum_Neubau\": 28, \"sum_Abbruch\": 9.0}, {\"Jahr\": \"1993-01-01T00:00:00\", \"GbdArt\": \"Einfamilienhaus\", \"sum_Bestand\": 9867.0, \"sum_Neubau\": 31, \"sum_Abbruch\": 8.0}, {\"Jahr\": \"1993-01-01T00:00:00\", \"GbdArt\": \"Mehrfamilienhaus\", \"sum_Bestand\": 16591.0, \"sum_Neubau\": 79, \"sum_Abbruch\": 13.0}, {\"Jahr\": \"1993-01-01T00:00:00\", \"GbdArt\": \"Nichtwohngeb\\u00e4ude\", \"sum_Bestand\": 16403.0, \"sum_Neubau\": 127, \"sum_Abbruch\": 63.0}, {\"Jahr\": \"1993-01-01T00:00:00\", \"GbdArt\": \"Wohnhaus mit Gesch\\u00e4ftsr\\u00e4umen\", \"sum_Bestand\": 7758.0, \"sum_Neubau\": 24, \"sum_Abbruch\": 9.0}, {\"Jahr\": \"1994-01-01T00:00:00\", \"GbdArt\": \"Einfamilienhaus\", \"sum_Bestand\": 9895.0, \"sum_Neubau\": 19, \"sum_Abbruch\": 13.0}, {\"Jahr\": \"1994-01-01T00:00:00\", \"GbdArt\": \"Mehrfamilienhaus\", \"sum_Bestand\": 16567.0, \"sum_Neubau\": 61, \"sum_Abbruch\": 9.0}, {\"Jahr\": \"1994-01-01T00:00:00\", \"GbdArt\": \"Nichtwohngeb\\u00e4ude\", \"sum_Bestand\": 16614.0, \"sum_Neubau\": 125, \"sum_Abbruch\": 96.0}, {\"Jahr\": \"1994-01-01T00:00:00\", \"GbdArt\": \"Wohnhaus mit Gesch\\u00e4ftsr\\u00e4umen\", \"sum_Bestand\": 7869.0, \"sum_Neubau\": 24, \"sum_Abbruch\": 21.0}, {\"Jahr\": \"1995-01-01T00:00:00\", \"GbdArt\": \"Wohnhaus mit Gesch\\u00e4ftsr\\u00e4umen\", \"sum_Bestand\": 8043.0, \"sum_Neubau\": 30, \"sum_Abbruch\": 3.0}, {\"Jahr\": \"1995-01-01T00:00:00\", \"GbdArt\": \"Nichtwohngeb\\u00e4ude\", \"sum_Bestand\": 16943.0, \"sum_Neubau\": 111, \"sum_Abbruch\": 118.0}, {\"Jahr\": \"1995-01-01T00:00:00\", \"GbdArt\": \"Einfamilienhaus\", \"sum_Bestand\": 9852.0, \"sum_Neubau\": 9, \"sum_Abbruch\": 14.0}, {\"Jahr\": \"1995-01-01T00:00:00\", \"GbdArt\": \"Mehrfamilienhaus\", \"sum_Bestand\": 16501.0, \"sum_Neubau\": 39, \"sum_Abbruch\": 7.0}, {\"Jahr\": \"1996-01-01T00:00:00\", \"GbdArt\": \"Einfamilienhaus\", \"sum_Bestand\": 9856.0, \"sum_Neubau\": 7, \"sum_Abbruch\": 9.0}, {\"Jahr\": \"1996-01-01T00:00:00\", \"GbdArt\": \"Mehrfamilienhaus\", \"sum_Bestand\": 16603.0, \"sum_Neubau\": 53, \"sum_Abbruch\": 12.0}, {\"Jahr\": \"1996-01-01T00:00:00\", \"GbdArt\": \"Nichtwohngeb\\u00e4ude\", \"sum_Bestand\": 17259.0, \"sum_Neubau\": 67, \"sum_Abbruch\": 91.0}, {\"Jahr\": \"1996-01-01T00:00:00\", \"GbdArt\": \"Wohnhaus mit Gesch\\u00e4ftsr\\u00e4umen\", \"sum_Bestand\": 8006.0, \"sum_Neubau\": 11, \"sum_Abbruch\": 2.0}, {\"Jahr\": \"1997-01-01T00:00:00\", \"GbdArt\": \"Wohnhaus mit Gesch\\u00e4ftsr\\u00e4umen\", \"sum_Bestand\": 8017.0, \"sum_Neubau\": 8, \"sum_Abbruch\": 11.0}, {\"Jahr\": \"1997-01-01T00:00:00\", \"GbdArt\": \"Einfamilienhaus\", \"sum_Bestand\": 9878.0, \"sum_Neubau\": 20, \"sum_Abbruch\": 3.0}, {\"Jahr\": \"1997-01-01T00:00:00\", \"GbdArt\": \"Mehrfamilienhaus\", \"sum_Bestand\": 16631.0, \"sum_Neubau\": 33, \"sum_Abbruch\": 17.0}, {\"Jahr\": \"1997-01-01T00:00:00\", \"GbdArt\": \"Nichtwohngeb\\u00e4ude\", \"sum_Bestand\": 17785.0, \"sum_Neubau\": 74, \"sum_Abbruch\": 140.0}, {\"Jahr\": \"1998-01-01T00:00:00\", \"GbdArt\": \"Nichtwohngeb\\u00e4ude\", \"sum_Bestand\": 18267.0, \"sum_Neubau\": 56, \"sum_Abbruch\": 142.0}, {\"Jahr\": \"1998-01-01T00:00:00\", \"GbdArt\": \"Wohnhaus mit Gesch\\u00e4ftsr\\u00e4umen\", \"sum_Bestand\": 8015.0, \"sum_Neubau\": 7, \"sum_Abbruch\": 14.0}, {\"Jahr\": \"1998-01-01T00:00:00\", \"GbdArt\": \"Einfamilienhaus\", \"sum_Bestand\": 9899.0, \"sum_Neubau\": 34, \"sum_Abbruch\": 15.0}, {\"Jahr\": \"1998-01-01T00:00:00\", \"GbdArt\": \"Mehrfamilienhaus\", \"sum_Bestand\": 16702.0, \"sum_Neubau\": 66, \"sum_Abbruch\": 17.0}, {\"Jahr\": \"1999-01-01T00:00:00\", \"GbdArt\": \"Wohnhaus mit Gesch\\u00e4ftsr\\u00e4umen\", \"sum_Bestand\": 8015.0, \"sum_Neubau\": 9, \"sum_Abbruch\": 15.0}, {\"Jahr\": \"1999-01-01T00:00:00\", \"GbdArt\": \"Nichtwohngeb\\u00e4ude\", \"sum_Bestand\": 18781.0, \"sum_Neubau\": 51, \"sum_Abbruch\": 236.0}, {\"Jahr\": \"1999-01-01T00:00:00\", \"GbdArt\": \"Einfamilienhaus\", \"sum_Bestand\": 9901.0, \"sum_Neubau\": 15, \"sum_Abbruch\": 11.0}, {\"Jahr\": \"1999-01-01T00:00:00\", \"GbdArt\": \"Mehrfamilienhaus\", \"sum_Bestand\": 16777.0, \"sum_Neubau\": 67, \"sum_Abbruch\": 9.0}, {\"Jahr\": \"2000-01-01T00:00:00\", \"GbdArt\": \"Einfamilienhaus\", \"sum_Bestand\": 9888.0, \"sum_Neubau\": 44, \"sum_Abbruch\": 66.0}, {\"Jahr\": \"2000-01-01T00:00:00\", \"GbdArt\": \"Mehrfamilienhaus\", \"sum_Bestand\": 16849.0, \"sum_Neubau\": 84, \"sum_Abbruch\": 17.0}, {\"Jahr\": \"2000-01-01T00:00:00\", \"GbdArt\": \"Nichtwohngeb\\u00e4ude\", \"sum_Bestand\": 19320.0, \"sum_Neubau\": 96, \"sum_Abbruch\": 236.0}, {\"Jahr\": \"2000-01-01T00:00:00\", \"GbdArt\": \"Wohnhaus mit Gesch\\u00e4ftsr\\u00e4umen\", \"sum_Bestand\": 8044.0, \"sum_Neubau\": 12, \"sum_Abbruch\": 7.0}, {\"Jahr\": \"2001-01-01T00:00:00\", \"GbdArt\": \"Einfamilienhaus\", \"sum_Bestand\": 9844.0, \"sum_Neubau\": 16, \"sum_Abbruch\": 65.0}, {\"Jahr\": \"2001-01-01T00:00:00\", \"GbdArt\": \"Mehrfamilienhaus\", \"sum_Bestand\": 16917.0, \"sum_Neubau\": 73, \"sum_Abbruch\": 14.0}, {\"Jahr\": \"2001-01-01T00:00:00\", \"GbdArt\": \"Nichtwohngeb\\u00e4ude\", \"sum_Bestand\": 19881.0, \"sum_Neubau\": 70, \"sum_Abbruch\": 160.0}, {\"Jahr\": \"2001-01-01T00:00:00\", \"GbdArt\": \"Wohnhaus mit Gesch\\u00e4ftsr\\u00e4umen\", \"sum_Bestand\": 8043.0, \"sum_Neubau\": 19, \"sum_Abbruch\": 10.0}, {\"Jahr\": \"2002-01-01T00:00:00\", \"GbdArt\": \"Wohnhaus mit Gesch\\u00e4ftsr\\u00e4umen\", \"sum_Bestand\": 7771.0, \"sum_Neubau\": 15, \"sum_Abbruch\": 13.0}, {\"Jahr\": \"2002-01-01T00:00:00\", \"GbdArt\": \"Nichtwohngeb\\u00e4ude\", \"sum_Bestand\": 20190.0, \"sum_Neubau\": 60, \"sum_Abbruch\": 284.0}, {\"Jahr\": \"2002-01-01T00:00:00\", \"GbdArt\": \"Mehrfamilienhaus\", \"sum_Bestand\": 17241.0, \"sum_Neubau\": 82, \"sum_Abbruch\": 38.0}, {\"Jahr\": \"2002-01-01T00:00:00\", \"GbdArt\": \"Einfamilienhaus\", \"sum_Bestand\": 9867.0, \"sum_Neubau\": 29, \"sum_Abbruch\": 11.0}, {\"Jahr\": \"2003-01-01T00:00:00\", \"GbdArt\": \"Einfamilienhaus\", \"sum_Bestand\": 9951.0, \"sum_Neubau\": 50, \"sum_Abbruch\": 19.0}, {\"Jahr\": \"2003-01-01T00:00:00\", \"GbdArt\": \"Mehrfamilienhaus\", \"sum_Bestand\": 17391.0, \"sum_Neubau\": 117, \"sum_Abbruch\": 17.0}, {\"Jahr\": \"2003-01-01T00:00:00\", \"GbdArt\": \"Nichtwohngeb\\u00e4ude\", \"sum_Bestand\": 20130.0, \"sum_Neubau\": 61, \"sum_Abbruch\": 216.0}, {\"Jahr\": \"2003-01-01T00:00:00\", \"GbdArt\": \"Wohnhaus mit Gesch\\u00e4ftsr\\u00e4umen\", \"sum_Bestand\": 7802.0, \"sum_Neubau\": 13, \"sum_Abbruch\": 3.0}, {\"Jahr\": \"2004-01-01T00:00:00\", \"GbdArt\": \"Einfamilienhaus\", \"sum_Bestand\": 9940.0, \"sum_Neubau\": 8, \"sum_Abbruch\": 21.0}, {\"Jahr\": \"2004-01-01T00:00:00\", \"GbdArt\": \"Mehrfamilienhaus\", \"sum_Bestand\": 17425.0, \"sum_Neubau\": 76, \"sum_Abbruch\": 54.0}, {\"Jahr\": \"2004-01-01T00:00:00\", \"GbdArt\": \"Nichtwohngeb\\u00e4ude\", \"sum_Bestand\": 20146.0, \"sum_Neubau\": 61, \"sum_Abbruch\": 260.0}, {\"Jahr\": \"2004-01-01T00:00:00\", \"GbdArt\": \"Wohnhaus mit Gesch\\u00e4ftsr\\u00e4umen\", \"sum_Bestand\": 7800.0, \"sum_Neubau\": 21, \"sum_Abbruch\": 10.0}, {\"Jahr\": \"2005-01-01T00:00:00\", \"GbdArt\": \"Einfamilienhaus\", \"sum_Bestand\": 9867.0, \"sum_Neubau\": 14, \"sum_Abbruch\": 84.0}, {\"Jahr\": \"2005-01-01T00:00:00\", \"GbdArt\": \"Mehrfamilienhaus\", \"sum_Bestand\": 17463.0, \"sum_Neubau\": 72, \"sum_Abbruch\": 50.0}, {\"Jahr\": \"2005-01-01T00:00:00\", \"GbdArt\": \"Nichtwohngeb\\u00e4ude\", \"sum_Bestand\": 20213.0, \"sum_Neubau\": 56, \"sum_Abbruch\": 184.0}, {\"Jahr\": \"2005-01-01T00:00:00\", \"GbdArt\": \"Wohnhaus mit Gesch\\u00e4ftsr\\u00e4umen\", \"sum_Bestand\": 7796.0, \"sum_Neubau\": 23, \"sum_Abbruch\": 14.0}, {\"Jahr\": \"2006-01-01T00:00:00\", \"GbdArt\": \"Wohnhaus mit Gesch\\u00e4ftsr\\u00e4umen\", \"sum_Bestand\": 7818.0, \"sum_Neubau\": 18, \"sum_Abbruch\": 10.0}, {\"Jahr\": \"2006-01-01T00:00:00\", \"GbdArt\": \"Nichtwohngeb\\u00e4ude\", \"sum_Bestand\": 20881.0, \"sum_Neubau\": 88, \"sum_Abbruch\": 115.0}, {\"Jahr\": \"2006-01-01T00:00:00\", \"GbdArt\": \"Einfamilienhaus\", \"sum_Bestand\": 9854.0, \"sum_Neubau\": 15, \"sum_Abbruch\": 45.0}, {\"Jahr\": \"2006-01-01T00:00:00\", \"GbdArt\": \"Mehrfamilienhaus\", \"sum_Bestand\": 17527.0, \"sum_Neubau\": 91, \"sum_Abbruch\": 14.0}, {\"Jahr\": \"2007-01-01T00:00:00\", \"GbdArt\": \"Einfamilienhaus\", \"sum_Bestand\": 9917.0, \"sum_Neubau\": 68, \"sum_Abbruch\": 10.0}, {\"Jahr\": \"2007-01-01T00:00:00\", \"GbdArt\": \"Mehrfamilienhaus\", \"sum_Bestand\": 17605.0, \"sum_Neubau\": 143, \"sum_Abbruch\": 62.0}, {\"Jahr\": \"2007-01-01T00:00:00\", \"GbdArt\": \"Nichtwohngeb\\u00e4ude\", \"sum_Bestand\": 21858.0, \"sum_Neubau\": 100, \"sum_Abbruch\": 93.0}, {\"Jahr\": \"2007-01-01T00:00:00\", \"GbdArt\": \"Wohnhaus mit Gesch\\u00e4ftsr\\u00e4umen\", \"sum_Bestand\": 7467.0, \"sum_Neubau\": 31, \"sum_Abbruch\": 19.0}, {\"Jahr\": \"2008-01-01T00:00:00\", \"GbdArt\": \"Einfamilienhaus\", \"sum_Bestand\": 9899.0, \"sum_Neubau\": 14, \"sum_Abbruch\": 27.0}, {\"Jahr\": \"2008-01-01T00:00:00\", \"GbdArt\": \"Mehrfamilienhaus\", \"sum_Bestand\": 18024.0, \"sum_Neubau\": 118, \"sum_Abbruch\": 96.0}, {\"Jahr\": \"2008-01-01T00:00:00\", \"GbdArt\": \"Nichtwohngeb\\u00e4ude\", \"sum_Bestand\": 18750.0, \"sum_Neubau\": 28, \"sum_Abbruch\": 108.0}, {\"Jahr\": \"2008-01-01T00:00:00\", \"GbdArt\": \"Wohnhaus mit Gesch\\u00e4ftsr\\u00e4umen\", \"sum_Bestand\": 7394.0, \"sum_Neubau\": 9, \"sum_Abbruch\": 13.0}, {\"Jahr\": \"2009-01-01T00:00:00\", \"GbdArt\": \"Einfamilienhaus\", \"sum_Bestand\": 9757.0, \"sum_Neubau\": 6, \"sum_Abbruch\": 144.0}, {\"Jahr\": \"2009-01-01T00:00:00\", \"GbdArt\": \"Mehrfamilienhaus\", \"sum_Bestand\": 18059.0, \"sum_Neubau\": 107, \"sum_Abbruch\": 81.0}, {\"Jahr\": \"2009-01-01T00:00:00\", \"GbdArt\": \"Nichtwohngeb\\u00e4ude\", \"sum_Bestand\": 18696.0, \"sum_Neubau\": 55, \"sum_Abbruch\": 96.0}, {\"Jahr\": \"2009-01-01T00:00:00\", \"GbdArt\": \"Wohnhaus mit Gesch\\u00e4ftsr\\u00e4umen\", \"sum_Bestand\": 7386.0, \"sum_Neubau\": 13, \"sum_Abbruch\": 16.0}, {\"Jahr\": \"2010-01-01T00:00:00\", \"GbdArt\": \"Wohnhaus mit Gesch\\u00e4ftsr\\u00e4umen\", \"sum_Bestand\": 7360.0, \"sum_Neubau\": 17, \"sum_Abbruch\": 29.0}, {\"Jahr\": \"2010-01-01T00:00:00\", \"GbdArt\": \"Nichtwohngeb\\u00e4ude\", \"sum_Bestand\": 18745.0, \"sum_Neubau\": 112, \"sum_Abbruch\": 333.0}, {\"Jahr\": \"2010-01-01T00:00:00\", \"GbdArt\": \"Mehrfamilienhaus\", \"sum_Bestand\": 18096.0, \"sum_Neubau\": 107, \"sum_Abbruch\": 82.0}, {\"Jahr\": \"2010-01-01T00:00:00\", \"GbdArt\": \"Einfamilienhaus\", \"sum_Bestand\": 9711.0, \"sum_Neubau\": 14, \"sum_Abbruch\": 70.0}, {\"Jahr\": \"2011-01-01T00:00:00\", \"GbdArt\": \"Einfamilienhaus\", \"sum_Bestand\": 9744.0, \"sum_Neubau\": 8, \"sum_Abbruch\": 120.0}, {\"Jahr\": \"2011-01-01T00:00:00\", \"GbdArt\": \"Mehrfamilienhaus\", \"sum_Bestand\": 17976.0, \"sum_Neubau\": 185, \"sum_Abbruch\": 84.0}, {\"Jahr\": \"2011-01-01T00:00:00\", \"GbdArt\": \"Nichtwohngeb\\u00e4ude\", \"sum_Bestand\": 18913.0, \"sum_Neubau\": 79, \"sum_Abbruch\": 178.0}, {\"Jahr\": \"2011-01-01T00:00:00\", \"GbdArt\": \"Wohnhaus mit Gesch\\u00e4ftsr\\u00e4umen\", \"sum_Bestand\": 7452.0, \"sum_Neubau\": 22, \"sum_Abbruch\": 14.0}, {\"Jahr\": \"2012-01-01T00:00:00\", \"GbdArt\": \"Einfamilienhaus\", \"sum_Bestand\": 9774.0, \"sum_Neubau\": 80, \"sum_Abbruch\": 39.0}, {\"Jahr\": \"2012-01-01T00:00:00\", \"GbdArt\": \"Mehrfamilienhaus\", \"sum_Bestand\": 18013.0, \"sum_Neubau\": 130, \"sum_Abbruch\": 123.0}, {\"Jahr\": \"2012-01-01T00:00:00\", \"GbdArt\": \"Nichtwohngeb\\u00e4ude\", \"sum_Bestand\": 18877.0, \"sum_Neubau\": 103, \"sum_Abbruch\": 128.0}, {\"Jahr\": \"2012-01-01T00:00:00\", \"GbdArt\": \"Wohnhaus mit Gesch\\u00e4ftsr\\u00e4umen\", \"sum_Bestand\": 7488.0, \"sum_Neubau\": 32, \"sum_Abbruch\": 9.0}, {\"Jahr\": \"2013-01-01T00:00:00\", \"GbdArt\": \"Einfamilienhaus\", \"sum_Bestand\": 9775.0, \"sum_Neubau\": 35, \"sum_Abbruch\": 41.0}, {\"Jahr\": \"2013-01-01T00:00:00\", \"GbdArt\": \"Mehrfamilienhaus\", \"sum_Bestand\": 18079.0, \"sum_Neubau\": 116, \"sum_Abbruch\": 69.0}, {\"Jahr\": \"2013-01-01T00:00:00\", \"GbdArt\": \"Nichtwohngeb\\u00e4ude\", \"sum_Bestand\": 18842.0, \"sum_Neubau\": 78, \"sum_Abbruch\": 139.0}, {\"Jahr\": \"2013-01-01T00:00:00\", \"GbdArt\": \"Wohnhaus mit Gesch\\u00e4ftsr\\u00e4umen\", \"sum_Bestand\": 7527.0, \"sum_Neubau\": 44, \"sum_Abbruch\": 16.0}, {\"Jahr\": \"2014-01-01T00:00:00\", \"GbdArt\": \"Wohnhaus mit Gesch\\u00e4ftsr\\u00e4umen\", \"sum_Bestand\": 7546.0, \"sum_Neubau\": 32, \"sum_Abbruch\": 18.0}, {\"Jahr\": \"2014-01-01T00:00:00\", \"GbdArt\": \"Nichtwohngeb\\u00e4ude\", \"sum_Bestand\": 18907.0, \"sum_Neubau\": 74, \"sum_Abbruch\": 94.0}, {\"Jahr\": \"2014-01-01T00:00:00\", \"GbdArt\": \"Einfamilienhaus\", \"sum_Bestand\": 9667.0, \"sum_Neubau\": 15, \"sum_Abbruch\": 126.0}, {\"Jahr\": \"2014-01-01T00:00:00\", \"GbdArt\": \"Mehrfamilienhaus\", \"sum_Bestand\": 18035.0, \"sum_Neubau\": 107, \"sum_Abbruch\": 134.0}, {\"Jahr\": \"2015-01-01T00:00:00\", \"GbdArt\": \"Einfamilienhaus\", \"sum_Bestand\": 9656.0, \"sum_Neubau\": 43, \"sum_Abbruch\": 52.0}, {\"Jahr\": \"2015-01-01T00:00:00\", \"GbdArt\": \"Mehrfamilienhaus\", \"sum_Bestand\": 18027.0, \"sum_Neubau\": 144, \"sum_Abbruch\": 99.0}, {\"Jahr\": \"2015-01-01T00:00:00\", \"GbdArt\": \"Nichtwohngeb\\u00e4ude\", \"sum_Bestand\": 18941.0, \"sum_Neubau\": 91, \"sum_Abbruch\": 147.0}, {\"Jahr\": \"2015-01-01T00:00:00\", \"GbdArt\": \"Wohnhaus mit Gesch\\u00e4ftsr\\u00e4umen\", \"sum_Bestand\": 7667.0, \"sum_Neubau\": 63, \"sum_Abbruch\": 21.0}, {\"Jahr\": \"2016-01-01T00:00:00\", \"GbdArt\": \"Einfamilienhaus\", \"sum_Bestand\": 9494.0, \"sum_Neubau\": 18, \"sum_Abbruch\": 177.0}, {\"Jahr\": \"2016-01-01T00:00:00\", \"GbdArt\": \"Mehrfamilienhaus\", \"sum_Bestand\": 18009.0, \"sum_Neubau\": 135, \"sum_Abbruch\": 135.0}, {\"Jahr\": \"2016-01-01T00:00:00\", \"GbdArt\": \"Nichtwohngeb\\u00e4ude\", \"sum_Bestand\": 18952.0, \"sum_Neubau\": 61, \"sum_Abbruch\": 104.0}, {\"Jahr\": \"2016-01-01T00:00:00\", \"GbdArt\": \"Wohnhaus mit Gesch\\u00e4ftsr\\u00e4umen\", \"sum_Bestand\": 7703.0, \"sum_Neubau\": 49, \"sum_Abbruch\": 25.0}, {\"Jahr\": \"2017-01-01T00:00:00\", \"GbdArt\": \"Wohnhaus mit Gesch\\u00e4ftsr\\u00e4umen\", \"sum_Bestand\": 7741.0, \"sum_Neubau\": 66, \"sum_Abbruch\": 23.0}, {\"Jahr\": \"2017-01-01T00:00:00\", \"GbdArt\": \"Einfamilienhaus\", \"sum_Bestand\": 9514.0, \"sum_Neubau\": 38, \"sum_Abbruch\": 26.0}, {\"Jahr\": \"2017-01-01T00:00:00\", \"GbdArt\": \"Mehrfamilienhaus\", \"sum_Bestand\": 18009.0, \"sum_Neubau\": 134, \"sum_Abbruch\": 126.0}, {\"Jahr\": \"2017-01-01T00:00:00\", \"GbdArt\": \"Nichtwohngeb\\u00e4ude\", \"sum_Bestand\": 18923.0, \"sum_Neubau\": 83, \"sum_Abbruch\": 118.0}, {\"Jahr\": \"2018-01-01T00:00:00\", \"GbdArt\": \"Wohnhaus mit Gesch\\u00e4ftsr\\u00e4umen\", \"sum_Bestand\": 7765.0, \"sum_Neubau\": 46, \"sum_Abbruch\": 17.0}, {\"Jahr\": \"2018-01-01T00:00:00\", \"GbdArt\": \"Nichtwohngeb\\u00e4ude\", \"sum_Bestand\": 19089.0, \"sum_Neubau\": 98, \"sum_Abbruch\": 83.0}, {\"Jahr\": \"2018-01-01T00:00:00\", \"GbdArt\": \"Mehrfamilienhaus\", \"sum_Bestand\": 18090.0, \"sum_Neubau\": 165, \"sum_Abbruch\": 89.0}, {\"Jahr\": \"2018-01-01T00:00:00\", \"GbdArt\": \"Einfamilienhaus\", \"sum_Bestand\": 9511.0, \"sum_Neubau\": 13, \"sum_Abbruch\": 16.0}, {\"Jahr\": \"2019-01-01T00:00:00\", \"GbdArt\": \"Einfamilienhaus\", \"sum_Bestand\": 9481.0, \"sum_Neubau\": 11, \"sum_Abbruch\": 22.0}, {\"Jahr\": \"2019-01-01T00:00:00\", \"GbdArt\": \"Mehrfamilienhaus\", \"sum_Bestand\": 18179.0, \"sum_Neubau\": 114, \"sum_Abbruch\": 39.0}, {\"Jahr\": \"2019-01-01T00:00:00\", \"GbdArt\": \"Nichtwohngeb\\u00e4ude\", \"sum_Bestand\": 19147.0, \"sum_Neubau\": 66, \"sum_Abbruch\": 82.0}, {\"Jahr\": \"2019-01-01T00:00:00\", \"GbdArt\": \"Wohnhaus mit Gesch\\u00e4ftsr\\u00e4umen\", \"sum_Bestand\": 7757.0, \"sum_Neubau\": 33, \"sum_Abbruch\": 24.0}, {\"Jahr\": \"2020-01-01T00:00:00\", \"GbdArt\": \"Wohnhaus mit Gesch\\u00e4ftsr\\u00e4umen\", \"sum_Bestand\": 7752.0, \"sum_Neubau\": 24, \"sum_Abbruch\": 18.0}, {\"Jahr\": \"2020-01-01T00:00:00\", \"GbdArt\": \"Einfamilienhaus\", \"sum_Bestand\": 9472.0, \"sum_Neubau\": 11, \"sum_Abbruch\": 26.0}, {\"Jahr\": \"2020-01-01T00:00:00\", \"GbdArt\": \"Mehrfamilienhaus\", \"sum_Bestand\": 18190.0, \"sum_Neubau\": 98, \"sum_Abbruch\": 91.0}, {\"Jahr\": \"2020-01-01T00:00:00\", \"GbdArt\": \"Nichtwohngeb\\u00e4ude\", \"sum_Bestand\": 19159.0, \"sum_Neubau\": 69, \"sum_Abbruch\": 101.0}, {\"Jahr\": \"2021-01-01T00:00:00\", \"GbdArt\": \"Mehrfamilienhaus\", \"sum_Bestand\": 18472.0, \"sum_Neubau\": 113, \"sum_Abbruch\": 157.0}, {\"Jahr\": \"2021-01-01T00:00:00\", \"GbdArt\": \"Nichtwohngeb\\u00e4ude\", \"sum_Bestand\": 19500.0, \"sum_Neubau\": 77, \"sum_Abbruch\": 188.0}, {\"Jahr\": \"2021-01-01T00:00:00\", \"GbdArt\": \"Einfamilienhaus\", \"sum_Bestand\": 9562.0, \"sum_Neubau\": 11, \"sum_Abbruch\": 91.0}, {\"Jahr\": \"2021-01-01T00:00:00\", \"GbdArt\": \"Wohnhaus mit Gesch\\u00e4ftsr\\u00e4umen\", \"sum_Bestand\": 6881.0, \"sum_Neubau\": 34, \"sum_Abbruch\": 39.0}]}}, {\"mode\": \"vega-lite\"});\n",
       "</script>"
      ],
      "text/plain": [
       "alt.LayerChart(...)"
      ]
     },
     "execution_count": 41,
     "metadata": {},
     "output_type": "execute_result"
    }
   ],
   "source": [
    "highlight = alt.selection(type='single', on='mouseover',\n",
    "                          fields=['GbdArt'], nearest=True)\n",
    "#x='date:StichtagDatJahr',\n",
    "base = alt.Chart(myAgg.reset_index().query('sum_Neubau > 1'), title=\"Title\").encode(\n",
    "    x=alt.X('Jahr', axis=alt.Axis(title='Jahr'))# , axis=alt.Axis(format='%', title='percentage')\n",
    "    , y=alt.X('sum_Neubau', axis=alt.Axis(title='Anz. neu gebauter Gebäude'))\n",
    "    , color=alt.Color('GbdArt', legend=alt.Legend(title=\"Gebäudearten\", orient=\"right\"))  \n",
    "    ,tooltip=['Jahr', 'GbdArt','sum_Neubau']    \n",
    ")\n",
    "points = base.mark_circle().encode(\n",
    "    opacity=alt.value(0.75)\n",
    ").add_selection(\n",
    "    highlight\n",
    ").properties(\n",
    "    width=750 , height=350\n",
    ")\n",
    "lines = base.mark_line().encode(\n",
    "    size=alt.condition(~highlight, alt.value(0.5), alt.value(4))\n",
    ").interactive()\n",
    "\n",
    "lines + points"
   ]
  },
  {
   "cell_type": "markdown",
   "metadata": {
    "tags": []
   },
   "source": [
    "#### Barcharts mit Seaborn"
   ]
  },
  {
   "cell_type": "code",
   "execution_count": 43,
   "metadata": {},
   "outputs": [
    {
     "data": {
      "text/plain": [
       "GbdArt      object\n",
       "Bestand    float64\n",
       "Neubau       int64\n",
       "Abbruch    float64\n",
       "dtype: object"
      ]
     },
     "execution_count": 43,
     "metadata": {},
     "output_type": "execute_result"
    }
   ],
   "source": [
    "data2betested.dtypes"
   ]
  },
  {
   "cell_type": "code",
   "execution_count": 46,
   "metadata": {},
   "outputs": [
    {
     "data": {
      "text/plain": [
       "Jahr           datetime64[ns]\n",
       "GbdArt                 object\n",
       "sum_Bestand           float64\n",
       "sum_Neubau              int64\n",
       "sum_Abbruch           float64\n",
       "dtype: object"
      ]
     },
     "execution_count": 46,
     "metadata": {},
     "output_type": "execute_result"
    }
   ],
   "source": [
    "myAggBar = data2betested.loc[\"1902\":\"2021\"]\\\n",
    "    .groupby(['Jahr', 'GbdArt']) \\\n",
    "    .agg(sum_Bestand=('Bestand', 'sum'), sum_Neubau=('Neubau', 'sum'), sum_Abbruch=('Abbruch', 'sum')) \\\n",
    "    .sort_values('Jahr', ascending=True) \n",
    "\n",
    "myAggBar.reset_index().dtypes\n"
   ]
  },
  {
   "cell_type": "code",
   "execution_count": 56,
   "metadata": {},
   "outputs": [],
   "source": [
    "#help(sns.catplot)     "
   ]
  },
  {
   "cell_type": "code",
   "execution_count": 57,
   "metadata": {},
   "outputs": [],
   "source": [
    "#Stile for the following sns graphs\n",
    "sns.set_theme(style=\"whitegrid\")"
   ]
  },
  {
   "cell_type": "code",
   "execution_count": 49,
   "metadata": {},
   "outputs": [
    {
     "data": {
      "text/plain": [
       "<seaborn.axisgrid.FacetGrid at 0x22e5beea1c0>"
      ]
     },
     "execution_count": 49,
     "metadata": {},
     "output_type": "execute_result"
    },
    {
     "data": {
      "image/png": "[encoded data removed]",
      "text/plain": [
       "<Figure size 919.25x360 with 1 Axes>"
      ]
     },
     "metadata": {
      "needs_background": "light"
     },
     "output_type": "display_data"
    }
   ],
   "source": [
    "#sns.color_palette(\"flare\", as_cmap=True)\n",
    "myHist = sns.catplot(x=\"Jahr\"\n",
    "            , y=\"sum_Abbruch\"\n",
    "            , hue=\"GbdArt\"\n",
    "            , kind=\"bar\" #boxen, violin, --> wenn die aggregation nicht genau den werten in der grafik entspricht\n",
    "            , palette=\"pastel\" #, color=\"green\"\n",
    "            , height=5\n",
    "            , aspect=2\n",
    "            , order=None, legend_out=True\n",
    "            ,data=myAggBar.loc[\"1940\":\"2021\"].reset_index()\n",
    "           )\n",
    "myHist.set_xlabels('Jahr', fontsize=11) # not set_label\n",
    "myHist.set_ylabels('Anz. abgebrochener Wohnungen', fontsize=11)\n"
   ]
  },
  {
   "cell_type": "code",
   "execution_count": 50,
   "metadata": {},
   "outputs": [
    {
     "data": {
      "text/plain": [
       "GbdArt      object\n",
       "Bestand    float64\n",
       "Neubau       int64\n",
       "Abbruch    float64\n",
       "dtype: object"
      ]
     },
     "execution_count": 50,
     "metadata": {},
     "output_type": "execute_result"
    }
   ],
   "source": [
    "data2betested.dtypes"
   ]
  },
  {
   "cell_type": "markdown",
   "metadata": {},
   "source": [
    "##### Entwicklung der Anzahl projektierter Wohnungen pro Kreis nach Eigentumsart"
   ]
  },
  {
   "cell_type": "code",
   "execution_count": null,
   "metadata": {},
   "outputs": [],
   "source": [
    "myAggBar = data2betested.loc[\"1902\":\"2021\"]\\\n",
    "    .groupby(['Jahr', 'GbdArt']) \\\n",
    "    .agg(sum_Bestand=('Bestand', 'sum'), sum_Neubau=('Neubau', 'sum'), sum_Abbruch=('Abbruch', 'sum')) \\\n",
    "    .sort_values('Jahr', ascending=True) \n",
    "\n",
    "myAggBar.reset_index().dtypes"
   ]
  },
  {
   "cell_type": "code",
   "execution_count": 56,
   "metadata": {},
   "outputs": [
    {
     "data": {
      "text/plain": [
       "<seaborn.axisgrid.FacetGrid at 0x22e611cb520>"
      ]
     },
     "execution_count": 56,
     "metadata": {},
     "output_type": "execute_result"
    },
    {
     "data": {
      "image/png": "[encoded data removed]",
      "text/plain": [
       "<Figure size 1063.25x216 with 4 Axes>"
      ]
     },
     "metadata": {
      "needs_background": "light"
     },
     "output_type": "display_data"
    },
    {
     "data": {
      "image/png": "[encoded data removed]",
      "text/plain": [
       "<Figure size 1063.25x216 with 4 Axes>"
      ]
     },
     "metadata": {
      "needs_background": "light"
     },
     "output_type": "display_data"
    },
    {
     "data": {
      "image/png": "[encoded data removed]",
      "text/plain": [
       "<Figure size 1063.25x216 with 4 Axes>"
      ]
     },
     "metadata": {
      "needs_background": "light"
     },
     "output_type": "display_data"
    }
   ],
   "source": [
    "g = sns.FacetGrid(myAggBar.reset_index(), col=\"GbdArt\", hue=\"GbdArt\", col_wrap=4, height=3,)\n",
    "#g.map(sns.scatterplot, \"Jahr\", \"sum_AnzWhg\", alpha=.8)\n",
    "g.map(sns.lineplot, \"Jahr\",\"sum_Neubau\", alpha=.8)\n",
    "g.add_legend()\n",
    "\n",
    "g2 = sns.FacetGrid(myAggBar.reset_index(), col=\"GbdArt\", hue=\"GbdArt\", col_wrap=4, height=3,)\n",
    "g2.map(sns.lineplot, \"Jahr\",\"sum_Abbruch\", alpha=.8)\n",
    "g2.add_legend()\n",
    "\n",
    "g3 = sns.FacetGrid(myAggBar.reset_index(), col=\"GbdArt\", hue=\"GbdArt\", col_wrap=4, height=3,)\n",
    "g3.map(sns.lineplot, \"Jahr\",\"sum_Bestand\", alpha=.8)\n",
    "g3.add_legend()\n"
   ]
  },
  {
   "cell_type": "markdown",
   "metadata": {},
   "source": [
    "### Daten in interaktiver Treemap zeigen\n",
    "Dazu gibt es eine sehr nützliche Webseite https://plotly.com/python/treemaps/\n",
    "Zu Farbskalen, siehe: https://plotly.com/python/builtin-colorscales/"
   ]
  },
  {
   "cell_type": "markdown",
   "metadata": {
    "tags": []
   },
   "source": [
    "#### Neu gebaute Gebäude nach Gebäudeart und Jahr seit 1901"
   ]
  },
  {
   "cell_type": "code",
   "execution_count": 62,
   "metadata": {
    "tags": []
   },
   "outputs": [],
   "source": [
    "#data2betested.dtypes"
   ]
  },
  {
   "cell_type": "code",
   "execution_count": 68,
   "metadata": {
    "tags": []
   },
   "outputs": [
    {
     "data": {
      "text/plain": [
       "Jahr           datetime64[ns]\n",
       "GbdArt                 object\n",
       "sum_Bestand           float64\n",
       "sum_Neubau              int64\n",
       "sum_Abbruch           float64\n",
       "dtype: object"
      ]
     },
     "execution_count": 68,
     "metadata": {},
     "output_type": "execute_result"
    }
   ],
   "source": [
    "myTreemapAgg = data2betested.loc[\"1902\":\"2021\"]\\\n",
    "    .groupby(['Jahr', 'GbdArt']) \\\n",
    "    .agg(sum_Bestand=('Bestand', 'sum'), sum_Neubau=('Neubau', 'sum'), sum_Abbruch=('Abbruch', 'sum')) \\\n",
    "    .sort_values('Jahr', ascending=True) \n",
    "\n",
    "myTreemapAgg.reset_index().dtypes"
   ]
  },
  {
   "cell_type": "code",
   "execution_count": 69,
   "metadata": {},
   "outputs": [
    {
     "data": {
      "application/vnd.plotly.v1+json": {
       "config": {
        "plotlyServerURL": "https://plot.ly"
       },
       "data": [
        {
         "branchvalues": "total",
         "customdata": [
          [
           17
          ],
          [
           36
          ],
          [
           60
          ],
          [
           29
          ],
          [
           17
          ],
          [
           38
          ],
          [
           41
          ],
          [
           28
          ],
          [
           34
          ],
          [
           47
          ],
          [
           64
          ],
          [
           28
          ],
          [
           21
          ],
          [
           47
          ],
          [
           33
          ],
          [
           22
          ],
          [
           30
          ],
          [
           72
          ],
          [
           43
          ],
          [
           46
          ],
          [
           37
          ],
          [
           73
          ],
          [
           78
          ],
          [
           54
          ],
          [
           39
          ],
          [
           93
          ],
          [
           84
          ],
          [
           59
          ],
          [
           56
          ],
          [
           146
          ],
          [
           76
          ],
          [
           52
          ],
          [
           74
          ],
          [
           182
          ],
          [
           93
          ],
          [
           103
          ],
          [
           84
          ],
          [
           207
          ],
          [
           95
          ],
          [
           114
          ],
          [
           68
          ],
          [
           199
          ],
          [
           90
          ],
          [
           79
          ],
          [
           59
          ],
          [
           82
          ],
          [
           32
          ],
          [
           40
          ],
          [
           81
          ],
          [
           69
          ],
          [
           67
          ],
          [
           35
          ],
          [
           42
          ],
          [
           63
          ],
          [
           37
          ],
          [
           24
          ],
          [
           36
          ],
          [
           27
          ],
          [
           46
          ],
          [
           20
          ],
          [
           35
          ],
          [
           35
          ],
          [
           44
          ],
          [
           14
          ],
          [
           31
          ],
          [
           53
          ],
          [
           40
          ],
          [
           10
          ],
          [
           26
          ],
          [
           64
          ],
          [
           32
          ],
          [
           3
          ],
          [
           86
          ],
          [
           46
          ],
          [
           46
          ],
          [
           6
          ],
          [
           106
          ],
          [
           40
          ],
          [
           82
          ],
          [
           3
          ],
          [
           58
          ],
          [
           40
          ],
          [
           49
          ],
          [
           17
          ],
          [
           116
          ],
          [
           69
          ],
          [
           73
          ],
          [
           23
          ],
          [
           193
          ],
          [
           198
          ],
          [
           116
          ],
          [
           46
          ],
          [
           292
          ],
          [
           103
          ],
          [
           120
          ],
          [
           51
          ],
          [
           295
          ],
          [
           212
          ],
          [
           123
          ],
          [
           74
          ],
          [
           228
          ],
          [
           211
          ],
          [
           129
          ],
          [
           102
          ],
          [
           214
          ],
          [
           315
          ],
          [
           178
          ],
          [
           100
          ],
          [
           440
          ],
          [
           301
          ],
          [
           178
          ],
          [
           118
          ],
          [
           166
          ],
          [
           316
          ],
          [
           152
          ],
          [
           124
          ],
          [
           429
          ],
          [
           469
          ],
          [
           221
          ],
          [
           181
          ],
          [
           227
          ],
          [
           441
          ],
          [
           218
          ],
          [
           187
          ],
          [
           285
          ],
          [
           190
          ],
          [
           143
          ],
          [
           76
          ],
          [
           302
          ],
          [
           251
          ],
          [
           124
          ],
          [
           102
          ],
          [
           177
          ],
          [
           176
          ],
          [
           94
          ],
          [
           55
          ],
          [
           78
          ],
          [
           60
          ],
          [
           116
          ],
          [
           16
          ],
          [
           141
          ],
          [
           100
          ],
          [
           82
          ],
          [
           22
          ],
          [
           182
          ],
          [
           157
          ],
          [
           72
          ],
          [
           40
          ],
          [
           139
          ],
          [
           236
          ],
          [
           141
          ],
          [
           53
          ],
          [
           81
          ],
          [
           101
          ],
          [
           117
          ],
          [
           21
          ],
          [
           96
          ],
          [
           95
          ],
          [
           120
          ],
          [
           23
          ],
          [
           35
          ],
          [
           142
          ],
          [
           123
          ],
          [
           35
          ],
          [
           271
          ],
          [
           143
          ],
          [
           173
          ],
          [
           19
          ],
          [
           521
          ],
          [
           195
          ],
          [
           83
          ],
          [
           26
          ],
          [
           458
          ],
          [
           222
          ],
          [
           84
          ],
          [
           32
          ],
          [
           590
          ],
          [
           219
          ],
          [
           110
          ],
          [
           53
          ],
          [
           494
          ],
          [
           186
          ],
          [
           116
          ],
          [
           53
          ],
          [
           496
          ],
          [
           382
          ],
          [
           296
          ],
          [
           36
          ],
          [
           384
          ],
          [
           324
          ],
          [
           182
          ],
          [
           16
          ],
          [
           186
          ],
          [
           412
          ],
          [
           152
          ],
          [
           38
          ],
          [
           190
          ],
          [
           509
          ],
          [
           204
          ],
          [
           67
          ],
          [
           154
          ],
          [
           532
          ],
          [
           213
          ],
          [
           60
          ],
          [
           212
          ],
          [
           372
          ],
          [
           250
          ],
          [
           49
          ],
          [
           76
          ],
          [
           409
          ],
          [
           179
          ],
          [
           43
          ],
          [
           58
          ],
          [
           340
          ],
          [
           251
          ],
          [
           34
          ],
          [
           51
          ],
          [
           206
          ],
          [
           318
          ],
          [
           29
          ],
          [
           66
          ],
          [
           234
          ],
          [
           281
          ],
          [
           34
          ],
          [
           16
          ],
          [
           275
          ],
          [
           309
          ],
          [
           32
          ],
          [
           7
          ],
          [
           252
          ],
          [
           223
          ],
          [
           38
          ],
          [
           10
          ],
          [
           279
          ],
          [
           199
          ],
          [
           36
          ],
          [
           12
          ],
          [
           176
          ],
          [
           184
          ],
          [
           41
          ],
          [
           16
          ],
          [
           174
          ],
          [
           217
          ],
          [
           29
          ],
          [
           32
          ],
          [
           115
          ],
          [
           213
          ],
          [
           38
          ],
          [
           18
          ],
          [
           193
          ],
          [
           237
          ],
          [
           23
          ],
          [
           14
          ],
          [
           178
          ],
          [
           206
          ],
          [
           29
          ],
          [
           11
          ],
          [
           139
          ],
          [
           223
          ],
          [
           16
          ],
          [
           4
          ],
          [
           113
          ],
          [
           266
          ],
          [
           20
          ],
          [
           5
          ],
          [
           153
          ],
          [
           200
          ],
          [
           27
          ],
          [
           20
          ],
          [
           161
          ],
          [
           185
          ],
          [
           22
          ],
          [
           2
          ],
          [
           148
          ],
          [
           138
          ],
          [
           19
          ],
          [
           12
          ],
          [
           122
          ],
          [
           170
          ],
          [
           36
          ],
          [
           37
          ],
          [
           132
          ],
          [
           237
          ],
          [
           48
          ],
          [
           13
          ],
          [
           137
          ],
          [
           273
          ],
          [
           34
          ],
          [
           21
          ],
          [
           159
          ],
          [
           201
          ],
          [
           21
          ],
          [
           12
          ],
          [
           99
          ],
          [
           361
          ],
          [
           16
          ],
          [
           2
          ],
          [
           95
          ],
          [
           286
          ],
          [
           25
          ],
          [
           18
          ],
          [
           91
          ],
          [
           322
          ],
          [
           23
          ],
          [
           35
          ],
          [
           69
          ],
          [
           209
          ],
          [
           5
          ],
          [
           30
          ],
          [
           114
          ],
          [
           254
          ],
          [
           16
          ],
          [
           14
          ],
          [
           123
          ],
          [
           201
          ],
          [
           20
          ],
          [
           43
          ],
          [
           184
          ],
          [
           195
          ],
          [
           34
          ],
          [
           66
          ],
          [
           165
          ],
          [
           255
          ],
          [
           49
          ],
          [
           10
          ],
          [
           90
          ],
          [
           142
          ],
          [
           34
          ],
          [
           14
          ],
          [
           97
          ],
          [
           141
          ],
          [
           36
          ],
          [
           6
          ],
          [
           99
          ],
          [
           153
          ],
          [
           43
          ],
          [
           14
          ],
          [
           85
          ],
          [
           105
          ],
          [
           31
          ],
          [
           53
          ],
          [
           60
          ],
          [
           33
          ],
          [
           6
          ],
          [
           44
          ],
          [
           54
          ],
          [
           22
          ],
          [
           9
          ],
          [
           36
          ],
          [
           50
          ],
          [
           32
          ],
          [
           58
          ],
          [
           32
          ],
          [
           58
          ],
          [
           27
          ],
          [
           52
          ],
          [
           81
          ],
          [
           90
          ],
          [
           67
          ],
          [
           17
          ],
          [
           41
          ],
          [
           102
          ],
          [
           28
          ],
          [
           31
          ],
          [
           79
          ],
          [
           127
          ],
          [
           24
          ],
          [
           19
          ],
          [
           61
          ],
          [
           125
          ],
          [
           24
          ],
          [
           9
          ],
          [
           39
          ],
          [
           111
          ],
          [
           30
          ],
          [
           7
          ],
          [
           53
          ],
          [
           67
          ],
          [
           11
          ],
          [
           20
          ],
          [
           33
          ],
          [
           74
          ],
          [
           8
          ],
          [
           34
          ],
          [
           66
          ],
          [
           56
          ],
          [
           7
          ],
          [
           15
          ],
          [
           67
          ],
          [
           51
          ],
          [
           9
          ],
          [
           44
          ],
          [
           84
          ],
          [
           96
          ],
          [
           12
          ],
          [
           16
          ],
          [
           73
          ],
          [
           70
          ],
          [
           19
          ],
          [
           29
          ],
          [
           82
          ],
          [
           60
          ],
          [
           15
          ],
          [
           50
          ],
          [
           117
          ],
          [
           61
          ],
          [
           13
          ],
          [
           8
          ],
          [
           76
          ],
          [
           61
          ],
          [
           21
          ],
          [
           14
          ],
          [
           72
          ],
          [
           56
          ],
          [
           23
          ],
          [
           15
          ],
          [
           91
          ],
          [
           88
          ],
          [
           18
          ],
          [
           68
          ],
          [
           143
          ],
          [
           100
          ],
          [
           31
          ],
          [
           14
          ],
          [
           118
          ],
          [
           28
          ],
          [
           9
          ],
          [
           6
          ],
          [
           107
          ],
          [
           55
          ],
          [
           13
          ],
          [
           14
          ],
          [
           107
          ],
          [
           112
          ],
          [
           17
          ],
          [
           8
          ],
          [
           185
          ],
          [
           79
          ],
          [
           22
          ],
          [
           80
          ],
          [
           130
          ],
          [
           103
          ],
          [
           32
          ],
          [
           35
          ],
          [
           116
          ],
          [
           78
          ],
          [
           44
          ],
          [
           15
          ],
          [
           107
          ],
          [
           74
          ],
          [
           32
          ],
          [
           43
          ],
          [
           144
          ],
          [
           91
          ],
          [
           63
          ],
          [
           18
          ],
          [
           135
          ],
          [
           61
          ],
          [
           49
          ],
          [
           38
          ],
          [
           134
          ],
          [
           83
          ],
          [
           66
          ],
          [
           13
          ],
          [
           165
          ],
          [
           98
          ],
          [
           46
          ],
          [
           11
          ],
          [
           114
          ],
          [
           66
          ],
          [
           33
          ],
          [
           11
          ],
          [
           98
          ],
          [
           69
          ],
          [
           24
          ],
          [
           11
          ],
          [
           113
          ],
          [
           77
          ],
          [
           34
          ],
          [
           269.2305825242718
          ],
          [
           224.35698324022346
          ],
          [
           177.0951776649746
          ],
          [
           63.05321219987022
          ],
          [
           203.74534136136342
          ]
         ],
         "domain": {
          "x": [
           0,
           1
          ],
          "y": [
           0,
           1
          ]
         },
         "hovertemplate": "labels=%{label}<br>sum_Neubau_sum=%{value}<br>parent=%{parent}<br>id=%{id}<br>sum_Neubau=%{color}<extra></extra>",
         "ids": [
          "Neu gebaute Gebäude nach Gebäudeart und Jahr seit 1901/Einfamilienhaus/1902-01-01",
          "Neu gebaute Gebäude nach Gebäudeart und Jahr seit 1901/Mehrfamilienhaus/1902-01-01",
          "Neu gebaute Gebäude nach Gebäudeart und Jahr seit 1901/Nichtwohngebäude/1902-01-01",
          "Neu gebaute Gebäude nach Gebäudeart und Jahr seit 1901/Wohnhaus mit Geschäftsräumen/1902-01-01",
          "Neu gebaute Gebäude nach Gebäudeart und Jahr seit 1901/Einfamilienhaus/1903-01-01",
          "Neu gebaute Gebäude nach Gebäudeart und Jahr seit 1901/Mehrfamilienhaus/1903-01-01",
          "Neu gebaute Gebäude nach Gebäudeart und Jahr seit 1901/Nichtwohngebäude/1903-01-01",
          "Neu gebaute Gebäude nach Gebäudeart und Jahr seit 1901/Wohnhaus mit Geschäftsräumen/1903-01-01",
          "Neu gebaute Gebäude nach Gebäudeart und Jahr seit 1901/Einfamilienhaus/1904-01-01",
          "Neu gebaute Gebäude nach Gebäudeart und Jahr seit 1901/Mehrfamilienhaus/1904-01-01",
          "Neu gebaute Gebäude nach Gebäudeart und Jahr seit 1901/Nichtwohngebäude/1904-01-01",
          "Neu gebaute Gebäude nach Gebäudeart und Jahr seit 1901/Wohnhaus mit Geschäftsräumen/1904-01-01",
          "Neu gebaute Gebäude nach Gebäudeart und Jahr seit 1901/Einfamilienhaus/1905-01-01",
          "Neu gebaute Gebäude nach Gebäudeart und Jahr seit 1901/Mehrfamilienhaus/1905-01-01",
          "Neu gebaute Gebäude nach Gebäudeart und Jahr seit 1901/Nichtwohngebäude/1905-01-01",
          "Neu gebaute Gebäude nach Gebäudeart und Jahr seit 1901/Wohnhaus mit Geschäftsräumen/1905-01-01",
          "Neu gebaute Gebäude nach Gebäudeart und Jahr seit 1901/Einfamilienhaus/1906-01-01",
          "Neu gebaute Gebäude nach Gebäudeart und Jahr seit 1901/Mehrfamilienhaus/1906-01-01",
          "Neu gebaute Gebäude nach Gebäudeart und Jahr seit 1901/Nichtwohngebäude/1906-01-01",
          "Neu gebaute Gebäude nach Gebäudeart und Jahr seit 1901/Wohnhaus mit Geschäftsräumen/1906-01-01",
          "Neu gebaute Gebäude nach Gebäudeart und Jahr seit 1901/Einfamilienhaus/1907-01-01",
          "Neu gebaute Gebäude nach Gebäudeart und Jahr seit 1901/Mehrfamilienhaus/1907-01-01",
          "Neu gebaute Gebäude nach Gebäudeart und Jahr seit 1901/Nichtwohngebäude/1907-01-01",
          "Neu gebaute Gebäude nach Gebäudeart und Jahr seit 1901/Wohnhaus mit Geschäftsräumen/1907-01-01",
          "Neu gebaute Gebäude nach Gebäudeart und Jahr seit 1901/Einfamilienhaus/1908-01-01",
          "Neu gebaute Gebäude nach Gebäudeart und Jahr seit 1901/Mehrfamilienhaus/1908-01-01",
          "Neu gebaute Gebäude nach Gebäudeart und Jahr seit 1901/Nichtwohngebäude/1908-01-01",
          "Neu gebaute Gebäude nach Gebäudeart und Jahr seit 1901/Wohnhaus mit Geschäftsräumen/1908-01-01",
          "Neu gebaute Gebäude nach Gebäudeart und Jahr seit 1901/Einfamilienhaus/1909-01-01",
          "Neu gebaute Gebäude nach Gebäudeart und Jahr seit 1901/Mehrfamilienhaus/1909-01-01",
          "Neu gebaute Gebäude nach Gebäudeart und Jahr seit 1901/Nichtwohngebäude/1909-01-01",
          "Neu gebaute Gebäude nach Gebäudeart und Jahr seit 1901/Wohnhaus mit Geschäftsräumen/1909-01-01",
          "Neu gebaute Gebäude nach Gebäudeart und Jahr seit 1901/Einfamilienhaus/1910-01-01",
          "Neu gebaute Gebäude nach Gebäudeart und Jahr seit 1901/Mehrfamilienhaus/1910-01-01",
          "Neu gebaute Gebäude nach Gebäudeart und Jahr seit 1901/Nichtwohngebäude/1910-01-01",
          "Neu gebaute Gebäude nach Gebäudeart und Jahr seit 1901/Wohnhaus mit Geschäftsräumen/1910-01-01",
          "Neu gebaute Gebäude nach Gebäudeart und Jahr seit 1901/Einfamilienhaus/1911-01-01",
          "Neu gebaute Gebäude nach Gebäudeart und Jahr seit 1901/Mehrfamilienhaus/1911-01-01",
          "Neu gebaute Gebäude nach Gebäudeart und Jahr seit 1901/Nichtwohngebäude/1911-01-01",
          "Neu gebaute Gebäude nach Gebäudeart und Jahr seit 1901/Wohnhaus mit Geschäftsräumen/1911-01-01",
          "Neu gebaute Gebäude nach Gebäudeart und Jahr seit 1901/Einfamilienhaus/1912-01-01",
          "Neu gebaute Gebäude nach Gebäudeart und Jahr seit 1901/Mehrfamilienhaus/1912-01-01",
          "Neu gebaute Gebäude nach Gebäudeart und Jahr seit 1901/Nichtwohngebäude/1912-01-01",
          "Neu gebaute Gebäude nach Gebäudeart und Jahr seit 1901/Wohnhaus mit Geschäftsräumen/1912-01-01",
          "Neu gebaute Gebäude nach Gebäudeart und Jahr seit 1901/Einfamilienhaus/1913-01-01",
          "Neu gebaute Gebäude nach Gebäudeart und Jahr seit 1901/Mehrfamilienhaus/1913-01-01",
          "Neu gebaute Gebäude nach Gebäudeart und Jahr seit 1901/Nichtwohngebäude/1913-01-01",
          "Neu gebaute Gebäude nach Gebäudeart und Jahr seit 1901/Wohnhaus mit Geschäftsräumen/1913-01-01",
          "Neu gebaute Gebäude nach Gebäudeart und Jahr seit 1901/Einfamilienhaus/1914-01-01",
          "Neu gebaute Gebäude nach Gebäudeart und Jahr seit 1901/Mehrfamilienhaus/1914-01-01",
          "Neu gebaute Gebäude nach Gebäudeart und Jahr seit 1901/Nichtwohngebäude/1914-01-01",
          "Neu gebaute Gebäude nach Gebäudeart und Jahr seit 1901/Wohnhaus mit Geschäftsräumen/1914-01-01",
          "Neu gebaute Gebäude nach Gebäudeart und Jahr seit 1901/Einfamilienhaus/1915-01-01",
          "Neu gebaute Gebäude nach Gebäudeart und Jahr seit 1901/Mehrfamilienhaus/1915-01-01",
          "Neu gebaute Gebäude nach Gebäudeart und Jahr seit 1901/Nichtwohngebäude/1915-01-01",
          "Neu gebaute Gebäude nach Gebäudeart und Jahr seit 1901/Wohnhaus mit Geschäftsräumen/1915-01-01",
          "Neu gebaute Gebäude nach Gebäudeart und Jahr seit 1901/Einfamilienhaus/1916-01-01",
          "Neu gebaute Gebäude nach Gebäudeart und Jahr seit 1901/Mehrfamilienhaus/1916-01-01",
          "Neu gebaute Gebäude nach Gebäudeart und Jahr seit 1901/Nichtwohngebäude/1916-01-01",
          "Neu gebaute Gebäude nach Gebäudeart und Jahr seit 1901/Wohnhaus mit Geschäftsräumen/1916-01-01",
          "Neu gebaute Gebäude nach Gebäudeart und Jahr seit 1901/Einfamilienhaus/1917-01-01",
          "Neu gebaute Gebäude nach Gebäudeart und Jahr seit 1901/Mehrfamilienhaus/1917-01-01",
          "Neu gebaute Gebäude nach Gebäudeart und Jahr seit 1901/Nichtwohngebäude/1917-01-01",
          "Neu gebaute Gebäude nach Gebäudeart und Jahr seit 1901/Wohnhaus mit Geschäftsräumen/1917-01-01",
          "Neu gebaute Gebäude nach Gebäudeart und Jahr seit 1901/Einfamilienhaus/1918-01-01",
          "Neu gebaute Gebäude nach Gebäudeart und Jahr seit 1901/Mehrfamilienhaus/1918-01-01",
          "Neu gebaute Gebäude nach Gebäudeart und Jahr seit 1901/Nichtwohngebäude/1918-01-01",
          "Neu gebaute Gebäude nach Gebäudeart und Jahr seit 1901/Wohnhaus mit Geschäftsräumen/1918-01-01",
          "Neu gebaute Gebäude nach Gebäudeart und Jahr seit 1901/Einfamilienhaus/1919-01-01",
          "Neu gebaute Gebäude nach Gebäudeart und Jahr seit 1901/Mehrfamilienhaus/1919-01-01",
          "Neu gebaute Gebäude nach Gebäudeart und Jahr seit 1901/Nichtwohngebäude/1919-01-01",
          "Neu gebaute Gebäude nach Gebäudeart und Jahr seit 1901/Wohnhaus mit Geschäftsräumen/1919-01-01",
          "Neu gebaute Gebäude nach Gebäudeart und Jahr seit 1901/Einfamilienhaus/1920-01-01",
          "Neu gebaute Gebäude nach Gebäudeart und Jahr seit 1901/Mehrfamilienhaus/1920-01-01",
          "Neu gebaute Gebäude nach Gebäudeart und Jahr seit 1901/Nichtwohngebäude/1920-01-01",
          "Neu gebaute Gebäude nach Gebäudeart und Jahr seit 1901/Wohnhaus mit Geschäftsräumen/1920-01-01",
          "Neu gebaute Gebäude nach Gebäudeart und Jahr seit 1901/Einfamilienhaus/1921-01-01",
          "Neu gebaute Gebäude nach Gebäudeart und Jahr seit 1901/Mehrfamilienhaus/1921-01-01",
          "Neu gebaute Gebäude nach Gebäudeart und Jahr seit 1901/Nichtwohngebäude/1921-01-01",
          "Neu gebaute Gebäude nach Gebäudeart und Jahr seit 1901/Wohnhaus mit Geschäftsräumen/1921-01-01",
          "Neu gebaute Gebäude nach Gebäudeart und Jahr seit 1901/Einfamilienhaus/1922-01-01",
          "Neu gebaute Gebäude nach Gebäudeart und Jahr seit 1901/Mehrfamilienhaus/1922-01-01",
          "Neu gebaute Gebäude nach Gebäudeart und Jahr seit 1901/Nichtwohngebäude/1922-01-01",
          "Neu gebaute Gebäude nach Gebäudeart und Jahr seit 1901/Wohnhaus mit Geschäftsräumen/1922-01-01",
          "Neu gebaute Gebäude nach Gebäudeart und Jahr seit 1901/Einfamilienhaus/1923-01-01",
          "Neu gebaute Gebäude nach Gebäudeart und Jahr seit 1901/Mehrfamilienhaus/1923-01-01",
          "Neu gebaute Gebäude nach Gebäudeart und Jahr seit 1901/Nichtwohngebäude/1923-01-01",
          "Neu gebaute Gebäude nach Gebäudeart und Jahr seit 1901/Wohnhaus mit Geschäftsräumen/1923-01-01",
          "Neu gebaute Gebäude nach Gebäudeart und Jahr seit 1901/Einfamilienhaus/1924-01-01",
          "Neu gebaute Gebäude nach Gebäudeart und Jahr seit 1901/Mehrfamilienhaus/1924-01-01",
          "Neu gebaute Gebäude nach Gebäudeart und Jahr seit 1901/Nichtwohngebäude/1924-01-01",
          "Neu gebaute Gebäude nach Gebäudeart und Jahr seit 1901/Wohnhaus mit Geschäftsräumen/1924-01-01",
          "Neu gebaute Gebäude nach Gebäudeart und Jahr seit 1901/Einfamilienhaus/1925-01-01",
          "Neu gebaute Gebäude nach Gebäudeart und Jahr seit 1901/Mehrfamilienhaus/1925-01-01",
          "Neu gebaute Gebäude nach Gebäudeart und Jahr seit 1901/Nichtwohngebäude/1925-01-01",
          "Neu gebaute Gebäude nach Gebäudeart und Jahr seit 1901/Wohnhaus mit Geschäftsräumen/1925-01-01",
          "Neu gebaute Gebäude nach Gebäudeart und Jahr seit 1901/Einfamilienhaus/1926-01-01",
          "Neu gebaute Gebäude nach Gebäudeart und Jahr seit 1901/Mehrfamilienhaus/1926-01-01",
          "Neu gebaute Gebäude nach Gebäudeart und Jahr seit 1901/Nichtwohngebäude/1926-01-01",
          "Neu gebaute Gebäude nach Gebäudeart und Jahr seit 1901/Wohnhaus mit Geschäftsräumen/1926-01-01",
          "Neu gebaute Gebäude nach Gebäudeart und Jahr seit 1901/Einfamilienhaus/1927-01-01",
          "Neu gebaute Gebäude nach Gebäudeart und Jahr seit 1901/Mehrfamilienhaus/1927-01-01",
          "Neu gebaute Gebäude nach Gebäudeart und Jahr seit 1901/Nichtwohngebäude/1927-01-01",
          "Neu gebaute Gebäude nach Gebäudeart und Jahr seit 1901/Wohnhaus mit Geschäftsräumen/1927-01-01",
          "Neu gebaute Gebäude nach Gebäudeart und Jahr seit 1901/Einfamilienhaus/1928-01-01",
          "Neu gebaute Gebäude nach Gebäudeart und Jahr seit 1901/Mehrfamilienhaus/1928-01-01",
          "Neu gebaute Gebäude nach Gebäudeart und Jahr seit 1901/Nichtwohngebäude/1928-01-01",
          "Neu gebaute Gebäude nach Gebäudeart und Jahr seit 1901/Wohnhaus mit Geschäftsräumen/1928-01-01",
          "Neu gebaute Gebäude nach Gebäudeart und Jahr seit 1901/Einfamilienhaus/1929-01-01",
          "Neu gebaute Gebäude nach Gebäudeart und Jahr seit 1901/Mehrfamilienhaus/1929-01-01",
          "Neu gebaute Gebäude nach Gebäudeart und Jahr seit 1901/Nichtwohngebäude/1929-01-01",
          "Neu gebaute Gebäude nach Gebäudeart und Jahr seit 1901/Wohnhaus mit Geschäftsräumen/1929-01-01",
          "Neu gebaute Gebäude nach Gebäudeart und Jahr seit 1901/Einfamilienhaus/1930-01-01",
          "Neu gebaute Gebäude nach Gebäudeart und Jahr seit 1901/Mehrfamilienhaus/1930-01-01",
          "Neu gebaute Gebäude nach Gebäudeart und Jahr seit 1901/Nichtwohngebäude/1930-01-01",
          "Neu gebaute Gebäude nach Gebäudeart und Jahr seit 1901/Wohnhaus mit Geschäftsräumen/1930-01-01",
          "Neu gebaute Gebäude nach Gebäudeart und Jahr seit 1901/Einfamilienhaus/1931-01-01",
          "Neu gebaute Gebäude nach Gebäudeart und Jahr seit 1901/Mehrfamilienhaus/1931-01-01",
          "Neu gebaute Gebäude nach Gebäudeart und Jahr seit 1901/Nichtwohngebäude/1931-01-01",
          "Neu gebaute Gebäude nach Gebäudeart und Jahr seit 1901/Wohnhaus mit Geschäftsräumen/1931-01-01",
          "Neu gebaute Gebäude nach Gebäudeart und Jahr seit 1901/Einfamilienhaus/1932-01-01",
          "Neu gebaute Gebäude nach Gebäudeart und Jahr seit 1901/Mehrfamilienhaus/1932-01-01",
          "Neu gebaute Gebäude nach Gebäudeart und Jahr seit 1901/Nichtwohngebäude/1932-01-01",
          "Neu gebaute Gebäude nach Gebäudeart und Jahr seit 1901/Wohnhaus mit Geschäftsräumen/1932-01-01",
          "Neu gebaute Gebäude nach Gebäudeart und Jahr seit 1901/Einfamilienhaus/1933-01-01",
          "Neu gebaute Gebäude nach Gebäudeart und Jahr seit 1901/Mehrfamilienhaus/1933-01-01",
          "Neu gebaute Gebäude nach Gebäudeart und Jahr seit 1901/Nichtwohngebäude/1933-01-01",
          "Neu gebaute Gebäude nach Gebäudeart und Jahr seit 1901/Wohnhaus mit Geschäftsräumen/1933-01-01",
          "Neu gebaute Gebäude nach Gebäudeart und Jahr seit 1901/Einfamilienhaus/1934-01-01",
          "Neu gebaute Gebäude nach Gebäudeart und Jahr seit 1901/Mehrfamilienhaus/1934-01-01",
          "Neu gebaute Gebäude nach Gebäudeart und Jahr seit 1901/Nichtwohngebäude/1934-01-01",
          "Neu gebaute Gebäude nach Gebäudeart und Jahr seit 1901/Wohnhaus mit Geschäftsräumen/1934-01-01",
          "Neu gebaute Gebäude nach Gebäudeart und Jahr seit 1901/Einfamilienhaus/1935-01-01",
          "Neu gebaute Gebäude nach Gebäudeart und Jahr seit 1901/Mehrfamilienhaus/1935-01-01",
          "Neu gebaute Gebäude nach Gebäudeart und Jahr seit 1901/Nichtwohngebäude/1935-01-01",
          "Neu gebaute Gebäude nach Gebäudeart und Jahr seit 1901/Wohnhaus mit Geschäftsräumen/1935-01-01",
          "Neu gebaute Gebäude nach Gebäudeart und Jahr seit 1901/Einfamilienhaus/1936-01-01",
          "Neu gebaute Gebäude nach Gebäudeart und Jahr seit 1901/Mehrfamilienhaus/1936-01-01",
          "Neu gebaute Gebäude nach Gebäudeart und Jahr seit 1901/Nichtwohngebäude/1936-01-01",
          "Neu gebaute Gebäude nach Gebäudeart und Jahr seit 1901/Wohnhaus mit Geschäftsräumen/1936-01-01",
          "Neu gebaute Gebäude nach Gebäudeart und Jahr seit 1901/Einfamilienhaus/1937-01-01",
          "Neu gebaute Gebäude nach Gebäudeart und Jahr seit 1901/Mehrfamilienhaus/1937-01-01",
          "Neu gebaute Gebäude nach Gebäudeart und Jahr seit 1901/Nichtwohngebäude/1937-01-01",
          "Neu gebaute Gebäude nach Gebäudeart und Jahr seit 1901/Wohnhaus mit Geschäftsräumen/1937-01-01",
          "Neu gebaute Gebäude nach Gebäudeart und Jahr seit 1901/Einfamilienhaus/1938-01-01",
          "Neu gebaute Gebäude nach Gebäudeart und Jahr seit 1901/Mehrfamilienhaus/1938-01-01",
          "Neu gebaute Gebäude nach Gebäudeart und Jahr seit 1901/Nichtwohngebäude/1938-01-01",
          "Neu gebaute Gebäude nach Gebäudeart und Jahr seit 1901/Wohnhaus mit Geschäftsräumen/1938-01-01",
          "Neu gebaute Gebäude nach Gebäudeart und Jahr seit 1901/Einfamilienhaus/1939-01-01",
          "Neu gebaute Gebäude nach Gebäudeart und Jahr seit 1901/Mehrfamilienhaus/1939-01-01",
          "Neu gebaute Gebäude nach Gebäudeart und Jahr seit 1901/Nichtwohngebäude/1939-01-01",
          "Neu gebaute Gebäude nach Gebäudeart und Jahr seit 1901/Wohnhaus mit Geschäftsräumen/1939-01-01",
          "Neu gebaute Gebäude nach Gebäudeart und Jahr seit 1901/Einfamilienhaus/1940-01-01",
          "Neu gebaute Gebäude nach Gebäudeart und Jahr seit 1901/Mehrfamilienhaus/1940-01-01",
          "Neu gebaute Gebäude nach Gebäudeart und Jahr seit 1901/Nichtwohngebäude/1940-01-01",
          "Neu gebaute Gebäude nach Gebäudeart und Jahr seit 1901/Wohnhaus mit Geschäftsräumen/1940-01-01",
          "Neu gebaute Gebäude nach Gebäudeart und Jahr seit 1901/Einfamilienhaus/1941-01-01",
          "Neu gebaute Gebäude nach Gebäudeart und Jahr seit 1901/Mehrfamilienhaus/1941-01-01",
          "Neu gebaute Gebäude nach Gebäudeart und Jahr seit 1901/Nichtwohngebäude/1941-01-01",
          "Neu gebaute Gebäude nach Gebäudeart und Jahr seit 1901/Wohnhaus mit Geschäftsräumen/1941-01-01",
          "Neu gebaute Gebäude nach Gebäudeart und Jahr seit 1901/Einfamilienhaus/1942-01-01",
          "Neu gebaute Gebäude nach Gebäudeart und Jahr seit 1901/Mehrfamilienhaus/1942-01-01",
          "Neu gebaute Gebäude nach Gebäudeart und Jahr seit 1901/Nichtwohngebäude/1942-01-01",
          "Neu gebaute Gebäude nach Gebäudeart und Jahr seit 1901/Wohnhaus mit Geschäftsräumen/1942-01-01",
          "Neu gebaute Gebäude nach Gebäudeart und Jahr seit 1901/Einfamilienhaus/1943-01-01",
          "Neu gebaute Gebäude nach Gebäudeart und Jahr seit 1901/Mehrfamilienhaus/1943-01-01",
          "Neu gebaute Gebäude nach Gebäudeart und Jahr seit 1901/Nichtwohngebäude/1943-01-01",
          "Neu gebaute Gebäude nach Gebäudeart und Jahr seit 1901/Wohnhaus mit Geschäftsräumen/1943-01-01",
          "Neu gebaute Gebäude nach Gebäudeart und Jahr seit 1901/Einfamilienhaus/1944-01-01",
          "Neu gebaute Gebäude nach Gebäudeart und Jahr seit 1901/Mehrfamilienhaus/1944-01-01",
          "Neu gebaute Gebäude nach Gebäudeart und Jahr seit 1901/Nichtwohngebäude/1944-01-01",
          "Neu gebaute Gebäude nach Gebäudeart und Jahr seit 1901/Wohnhaus mit Geschäftsräumen/1944-01-01",
          "Neu gebaute Gebäude nach Gebäudeart und Jahr seit 1901/Einfamilienhaus/1945-01-01",
          "Neu gebaute Gebäude nach Gebäudeart und Jahr seit 1901/Mehrfamilienhaus/1945-01-01",
          "Neu gebaute Gebäude nach Gebäudeart und Jahr seit 1901/Nichtwohngebäude/1945-01-01",
          "Neu gebaute Gebäude nach Gebäudeart und Jahr seit 1901/Wohnhaus mit Geschäftsräumen/1945-01-01",
          "Neu gebaute Gebäude nach Gebäudeart und Jahr seit 1901/Einfamilienhaus/1946-01-01",
          "Neu gebaute Gebäude nach Gebäudeart und Jahr seit 1901/Mehrfamilienhaus/1946-01-01",
          "Neu gebaute Gebäude nach Gebäudeart und Jahr seit 1901/Nichtwohngebäude/1946-01-01",
          "Neu gebaute Gebäude nach Gebäudeart und Jahr seit 1901/Wohnhaus mit Geschäftsräumen/1946-01-01",
          "Neu gebaute Gebäude nach Gebäudeart und Jahr seit 1901/Einfamilienhaus/1947-01-01",
          "Neu gebaute Gebäude nach Gebäudeart und Jahr seit 1901/Mehrfamilienhaus/1947-01-01",
          "Neu gebaute Gebäude nach Gebäudeart und Jahr seit 1901/Nichtwohngebäude/1947-01-01",
          "Neu gebaute Gebäude nach Gebäudeart und Jahr seit 1901/Wohnhaus mit Geschäftsräumen/1947-01-01",
          "Neu gebaute Gebäude nach Gebäudeart und Jahr seit 1901/Einfamilienhaus/1948-01-01",
          "Neu gebaute Gebäude nach Gebäudeart und Jahr seit 1901/Mehrfamilienhaus/1948-01-01",
          "Neu gebaute Gebäude nach Gebäudeart und Jahr seit 1901/Nichtwohngebäude/1948-01-01",
          "Neu gebaute Gebäude nach Gebäudeart und Jahr seit 1901/Wohnhaus mit Geschäftsräumen/1948-01-01",
          "Neu gebaute Gebäude nach Gebäudeart und Jahr seit 1901/Einfamilienhaus/1949-01-01",
          "Neu gebaute Gebäude nach Gebäudeart und Jahr seit 1901/Mehrfamilienhaus/1949-01-01",
          "Neu gebaute Gebäude nach Gebäudeart und Jahr seit 1901/Nichtwohngebäude/1949-01-01",
          "Neu gebaute Gebäude nach Gebäudeart und Jahr seit 1901/Wohnhaus mit Geschäftsräumen/1949-01-01",
          "Neu gebaute Gebäude nach Gebäudeart und Jahr seit 1901/Einfamilienhaus/1950-01-01",
          "Neu gebaute Gebäude nach Gebäudeart und Jahr seit 1901/Mehrfamilienhaus/1950-01-01",
          "Neu gebaute Gebäude nach Gebäudeart und Jahr seit 1901/Nichtwohngebäude/1950-01-01",
          "Neu gebaute Gebäude nach Gebäudeart und Jahr seit 1901/Wohnhaus mit Geschäftsräumen/1950-01-01",
          "Neu gebaute Gebäude nach Gebäudeart und Jahr seit 1901/Einfamilienhaus/1951-01-01",
          "Neu gebaute Gebäude nach Gebäudeart und Jahr seit 1901/Mehrfamilienhaus/1951-01-01",
          "Neu gebaute Gebäude nach Gebäudeart und Jahr seit 1901/Nichtwohngebäude/1951-01-01",
          "Neu gebaute Gebäude nach Gebäudeart und Jahr seit 1901/Wohnhaus mit Geschäftsräumen/1951-01-01",
          "Neu gebaute Gebäude nach Gebäudeart und Jahr seit 1901/Einfamilienhaus/1952-01-01",
          "Neu gebaute Gebäude nach Gebäudeart und Jahr seit 1901/Mehrfamilienhaus/1952-01-01",
          "Neu gebaute Gebäude nach Gebäudeart und Jahr seit 1901/Nichtwohngebäude/1952-01-01",
          "Neu gebaute Gebäude nach Gebäudeart und Jahr seit 1901/Wohnhaus mit Geschäftsräumen/1952-01-01",
          "Neu gebaute Gebäude nach Gebäudeart und Jahr seit 1901/Einfamilienhaus/1953-01-01",
          "Neu gebaute Gebäude nach Gebäudeart und Jahr seit 1901/Mehrfamilienhaus/1953-01-01",
          "Neu gebaute Gebäude nach Gebäudeart und Jahr seit 1901/Nichtwohngebäude/1953-01-01",
          "Neu gebaute Gebäude nach Gebäudeart und Jahr seit 1901/Wohnhaus mit Geschäftsräumen/1953-01-01",
          "Neu gebaute Gebäude nach Gebäudeart und Jahr seit 1901/Einfamilienhaus/1954-01-01",
          "Neu gebaute Gebäude nach Gebäudeart und Jahr seit 1901/Mehrfamilienhaus/1954-01-01",
          "Neu gebaute Gebäude nach Gebäudeart und Jahr seit 1901/Nichtwohngebäude/1954-01-01",
          "Neu gebaute Gebäude nach Gebäudeart und Jahr seit 1901/Wohnhaus mit Geschäftsräumen/1954-01-01",
          "Neu gebaute Gebäude nach Gebäudeart und Jahr seit 1901/Einfamilienhaus/1955-01-01",
          "Neu gebaute Gebäude nach Gebäudeart und Jahr seit 1901/Mehrfamilienhaus/1955-01-01",
          "Neu gebaute Gebäude nach Gebäudeart und Jahr seit 1901/Nichtwohngebäude/1955-01-01",
          "Neu gebaute Gebäude nach Gebäudeart und Jahr seit 1901/Wohnhaus mit Geschäftsräumen/1955-01-01",
          "Neu gebaute Gebäude nach Gebäudeart und Jahr seit 1901/Einfamilienhaus/1956-01-01",
          "Neu gebaute Gebäude nach Gebäudeart und Jahr seit 1901/Mehrfamilienhaus/1956-01-01",
          "Neu gebaute Gebäude nach Gebäudeart und Jahr seit 1901/Nichtwohngebäude/1956-01-01",
          "Neu gebaute Gebäude nach Gebäudeart und Jahr seit 1901/Wohnhaus mit Geschäftsräumen/1956-01-01",
          "Neu gebaute Gebäude nach Gebäudeart und Jahr seit 1901/Einfamilienhaus/1957-01-01",
          "Neu gebaute Gebäude nach Gebäudeart und Jahr seit 1901/Mehrfamilienhaus/1957-01-01",
          "Neu gebaute Gebäude nach Gebäudeart und Jahr seit 1901/Nichtwohngebäude/1957-01-01",
          "Neu gebaute Gebäude nach Gebäudeart und Jahr seit 1901/Wohnhaus mit Geschäftsräumen/1957-01-01",
          "Neu gebaute Gebäude nach Gebäudeart und Jahr seit 1901/Einfamilienhaus/1958-01-01",
          "Neu gebaute Gebäude nach Gebäudeart und Jahr seit 1901/Mehrfamilienhaus/1958-01-01",
          "Neu gebaute Gebäude nach Gebäudeart und Jahr seit 1901/Nichtwohngebäude/1958-01-01",
          "Neu gebaute Gebäude nach Gebäudeart und Jahr seit 1901/Wohnhaus mit Geschäftsräumen/1958-01-01",
          "Neu gebaute Gebäude nach Gebäudeart und Jahr seit 1901/Einfamilienhaus/1959-01-01",
          "Neu gebaute Gebäude nach Gebäudeart und Jahr seit 1901/Mehrfamilienhaus/1959-01-01",
          "Neu gebaute Gebäude nach Gebäudeart und Jahr seit 1901/Nichtwohngebäude/1959-01-01",
          "Neu gebaute Gebäude nach Gebäudeart und Jahr seit 1901/Wohnhaus mit Geschäftsräumen/1959-01-01",
          "Neu gebaute Gebäude nach Gebäudeart und Jahr seit 1901/Einfamilienhaus/1960-01-01",
          "Neu gebaute Gebäude nach Gebäudeart und Jahr seit 1901/Mehrfamilienhaus/1960-01-01",
          "Neu gebaute Gebäude nach Gebäudeart und Jahr seit 1901/Nichtwohngebäude/1960-01-01",
          "Neu gebaute Gebäude nach Gebäudeart und Jahr seit 1901/Wohnhaus mit Geschäftsräumen/1960-01-01",
          "Neu gebaute Gebäude nach Gebäudeart und Jahr seit 1901/Einfamilienhaus/1961-01-01",
          "Neu gebaute Gebäude nach Gebäudeart und Jahr seit 1901/Mehrfamilienhaus/1961-01-01",
          "Neu gebaute Gebäude nach Gebäudeart und Jahr seit 1901/Nichtwohngebäude/1961-01-01",
          "Neu gebaute Gebäude nach Gebäudeart und Jahr seit 1901/Wohnhaus mit Geschäftsräumen/1961-01-01",
          "Neu gebaute Gebäude nach Gebäudeart und Jahr seit 1901/Einfamilienhaus/1962-01-01",
          "Neu gebaute Gebäude nach Gebäudeart und Jahr seit 1901/Mehrfamilienhaus/1962-01-01",
          "Neu gebaute Gebäude nach Gebäudeart und Jahr seit 1901/Nichtwohngebäude/1962-01-01",
          "Neu gebaute Gebäude nach Gebäudeart und Jahr seit 1901/Wohnhaus mit Geschäftsräumen/1962-01-01",
          "Neu gebaute Gebäude nach Gebäudeart und Jahr seit 1901/Einfamilienhaus/1963-01-01",
          "Neu gebaute Gebäude nach Gebäudeart und Jahr seit 1901/Mehrfamilienhaus/1963-01-01",
          "Neu gebaute Gebäude nach Gebäudeart und Jahr seit 1901/Nichtwohngebäude/1963-01-01",
          "Neu gebaute Gebäude nach Gebäudeart und Jahr seit 1901/Wohnhaus mit Geschäftsräumen/1963-01-01",
          "Neu gebaute Gebäude nach Gebäudeart und Jahr seit 1901/Einfamilienhaus/1964-01-01",
          "Neu gebaute Gebäude nach Gebäudeart und Jahr seit 1901/Mehrfamilienhaus/1964-01-01",
          "Neu gebaute Gebäude nach Gebäudeart und Jahr seit 1901/Nichtwohngebäude/1964-01-01",
          "Neu gebaute Gebäude nach Gebäudeart und Jahr seit 1901/Wohnhaus mit Geschäftsräumen/1964-01-01",
          "Neu gebaute Gebäude nach Gebäudeart und Jahr seit 1901/Einfamilienhaus/1965-01-01",
          "Neu gebaute Gebäude nach Gebäudeart und Jahr seit 1901/Mehrfamilienhaus/1965-01-01",
          "Neu gebaute Gebäude nach Gebäudeart und Jahr seit 1901/Nichtwohngebäude/1965-01-01",
          "Neu gebaute Gebäude nach Gebäudeart und Jahr seit 1901/Wohnhaus mit Geschäftsräumen/1965-01-01",
          "Neu gebaute Gebäude nach Gebäudeart und Jahr seit 1901/Einfamilienhaus/1966-01-01",
          "Neu gebaute Gebäude nach Gebäudeart und Jahr seit 1901/Mehrfamilienhaus/1966-01-01",
          "Neu gebaute Gebäude nach Gebäudeart und Jahr seit 1901/Nichtwohngebäude/1966-01-01",
          "Neu gebaute Gebäude nach Gebäudeart und Jahr seit 1901/Wohnhaus mit Geschäftsräumen/1966-01-01",
          "Neu gebaute Gebäude nach Gebäudeart und Jahr seit 1901/Einfamilienhaus/1967-01-01",
          "Neu gebaute Gebäude nach Gebäudeart und Jahr seit 1901/Mehrfamilienhaus/1967-01-01",
          "Neu gebaute Gebäude nach Gebäudeart und Jahr seit 1901/Nichtwohngebäude/1967-01-01",
          "Neu gebaute Gebäude nach Gebäudeart und Jahr seit 1901/Wohnhaus mit Geschäftsräumen/1967-01-01",
          "Neu gebaute Gebäude nach Gebäudeart und Jahr seit 1901/Einfamilienhaus/1968-01-01",
          "Neu gebaute Gebäude nach Gebäudeart und Jahr seit 1901/Mehrfamilienhaus/1968-01-01",
          "Neu gebaute Gebäude nach Gebäudeart und Jahr seit 1901/Nichtwohngebäude/1968-01-01",
          "Neu gebaute Gebäude nach Gebäudeart und Jahr seit 1901/Wohnhaus mit Geschäftsräumen/1968-01-01",
          "Neu gebaute Gebäude nach Gebäudeart und Jahr seit 1901/Einfamilienhaus/1969-01-01",
          "Neu gebaute Gebäude nach Gebäudeart und Jahr seit 1901/Mehrfamilienhaus/1969-01-01",
          "Neu gebaute Gebäude nach Gebäudeart und Jahr seit 1901/Nichtwohngebäude/1969-01-01",
          "Neu gebaute Gebäude nach Gebäudeart und Jahr seit 1901/Wohnhaus mit Geschäftsräumen/1969-01-01",
          "Neu gebaute Gebäude nach Gebäudeart und Jahr seit 1901/Einfamilienhaus/1970-01-01",
          "Neu gebaute Gebäude nach Gebäudeart und Jahr seit 1901/Mehrfamilienhaus/1970-01-01",
          "Neu gebaute Gebäude nach Gebäudeart und Jahr seit 1901/Nichtwohngebäude/1970-01-01",
          "Neu gebaute Gebäude nach Gebäudeart und Jahr seit 1901/Wohnhaus mit Geschäftsräumen/1970-01-01",
          "Neu gebaute Gebäude nach Gebäudeart und Jahr seit 1901/Einfamilienhaus/1971-01-01",
          "Neu gebaute Gebäude nach Gebäudeart und Jahr seit 1901/Mehrfamilienhaus/1971-01-01",
          "Neu gebaute Gebäude nach Gebäudeart und Jahr seit 1901/Nichtwohngebäude/1971-01-01",
          "Neu gebaute Gebäude nach Gebäudeart und Jahr seit 1901/Wohnhaus mit Geschäftsräumen/1971-01-01",
          "Neu gebaute Gebäude nach Gebäudeart und Jahr seit 1901/Einfamilienhaus/1972-01-01",
          "Neu gebaute Gebäude nach Gebäudeart und Jahr seit 1901/Mehrfamilienhaus/1972-01-01",
          "Neu gebaute Gebäude nach Gebäudeart und Jahr seit 1901/Nichtwohngebäude/1972-01-01",
          "Neu gebaute Gebäude nach Gebäudeart und Jahr seit 1901/Wohnhaus mit Geschäftsräumen/1972-01-01",
          "Neu gebaute Gebäude nach Gebäudeart und Jahr seit 1901/Einfamilienhaus/1973-01-01",
          "Neu gebaute Gebäude nach Gebäudeart und Jahr seit 1901/Mehrfamilienhaus/1973-01-01",
          "Neu gebaute Gebäude nach Gebäudeart und Jahr seit 1901/Nichtwohngebäude/1973-01-01",
          "Neu gebaute Gebäude nach Gebäudeart und Jahr seit 1901/Wohnhaus mit Geschäftsräumen/1973-01-01",
          "Neu gebaute Gebäude nach Gebäudeart und Jahr seit 1901/Einfamilienhaus/1974-01-01",
          "Neu gebaute Gebäude nach Gebäudeart und Jahr seit 1901/Mehrfamilienhaus/1974-01-01",
          "Neu gebaute Gebäude nach Gebäudeart und Jahr seit 1901/Nichtwohngebäude/1974-01-01",
          "Neu gebaute Gebäude nach Gebäudeart und Jahr seit 1901/Wohnhaus mit Geschäftsräumen/1974-01-01",
          "Neu gebaute Gebäude nach Gebäudeart und Jahr seit 1901/Einfamilienhaus/1975-01-01",
          "Neu gebaute Gebäude nach Gebäudeart und Jahr seit 1901/Mehrfamilienhaus/1975-01-01",
          "Neu gebaute Gebäude nach Gebäudeart und Jahr seit 1901/Nichtwohngebäude/1975-01-01",
          "Neu gebaute Gebäude nach Gebäudeart und Jahr seit 1901/Wohnhaus mit Geschäftsräumen/1975-01-01",
          "Neu gebaute Gebäude nach Gebäudeart und Jahr seit 1901/Einfamilienhaus/1976-01-01",
          "Neu gebaute Gebäude nach Gebäudeart und Jahr seit 1901/Mehrfamilienhaus/1976-01-01",
          "Neu gebaute Gebäude nach Gebäudeart und Jahr seit 1901/Nichtwohngebäude/1976-01-01",
          "Neu gebaute Gebäude nach Gebäudeart und Jahr seit 1901/Wohnhaus mit Geschäftsräumen/1976-01-01",
          "Neu gebaute Gebäude nach Gebäudeart und Jahr seit 1901/Einfamilienhaus/1977-01-01",
          "Neu gebaute Gebäude nach Gebäudeart und Jahr seit 1901/Mehrfamilienhaus/1977-01-01",
          "Neu gebaute Gebäude nach Gebäudeart und Jahr seit 1901/Nichtwohngebäude/1977-01-01",
          "Neu gebaute Gebäude nach Gebäudeart und Jahr seit 1901/Wohnhaus mit Geschäftsräumen/1977-01-01",
          "Neu gebaute Gebäude nach Gebäudeart und Jahr seit 1901/Einfamilienhaus/1978-01-01",
          "Neu gebaute Gebäude nach Gebäudeart und Jahr seit 1901/Mehrfamilienhaus/1978-01-01",
          "Neu gebaute Gebäude nach Gebäudeart und Jahr seit 1901/Nichtwohngebäude/1978-01-01",
          "Neu gebaute Gebäude nach Gebäudeart und Jahr seit 1901/Wohnhaus mit Geschäftsräumen/1978-01-01",
          "Neu gebaute Gebäude nach Gebäudeart und Jahr seit 1901/Einfamilienhaus/1979-01-01",
          "Neu gebaute Gebäude nach Gebäudeart und Jahr seit 1901/Mehrfamilienhaus/1979-01-01",
          "Neu gebaute Gebäude nach Gebäudeart und Jahr seit 1901/Nichtwohngebäude/1979-01-01",
          "Neu gebaute Gebäude nach Gebäudeart und Jahr seit 1901/Wohnhaus mit Geschäftsräumen/1979-01-01",
          "Neu gebaute Gebäude nach Gebäudeart und Jahr seit 1901/Einfamilienhaus/1980-01-01",
          "Neu gebaute Gebäude nach Gebäudeart und Jahr seit 1901/Mehrfamilienhaus/1980-01-01",
          "Neu gebaute Gebäude nach Gebäudeart und Jahr seit 1901/Nichtwohngebäude/1980-01-01",
          "Neu gebaute Gebäude nach Gebäudeart und Jahr seit 1901/Wohnhaus mit Geschäftsräumen/1980-01-01",
          "Neu gebaute Gebäude nach Gebäudeart und Jahr seit 1901/Einfamilienhaus/1981-01-01",
          "Neu gebaute Gebäude nach Gebäudeart und Jahr seit 1901/Mehrfamilienhaus/1981-01-01",
          "Neu gebaute Gebäude nach Gebäudeart und Jahr seit 1901/Nichtwohngebäude/1981-01-01",
          "Neu gebaute Gebäude nach Gebäudeart und Jahr seit 1901/Wohnhaus mit Geschäftsräumen/1981-01-01",
          "Neu gebaute Gebäude nach Gebäudeart und Jahr seit 1901/Einfamilienhaus/1982-01-01",
          "Neu gebaute Gebäude nach Gebäudeart und Jahr seit 1901/Mehrfamilienhaus/1982-01-01",
          "Neu gebaute Gebäude nach Gebäudeart und Jahr seit 1901/Nichtwohngebäude/1982-01-01",
          "Neu gebaute Gebäude nach Gebäudeart und Jahr seit 1901/Wohnhaus mit Geschäftsräumen/1982-01-01",
          "Neu gebaute Gebäude nach Gebäudeart und Jahr seit 1901/Einfamilienhaus/1983-01-01",
          "Neu gebaute Gebäude nach Gebäudeart und Jahr seit 1901/Mehrfamilienhaus/1983-01-01",
          "Neu gebaute Gebäude nach Gebäudeart und Jahr seit 1901/Nichtwohngebäude/1983-01-01",
          "Neu gebaute Gebäude nach Gebäudeart und Jahr seit 1901/Wohnhaus mit Geschäftsräumen/1983-01-01",
          "Neu gebaute Gebäude nach Gebäudeart und Jahr seit 1901/Einfamilienhaus/1984-01-01",
          "Neu gebaute Gebäude nach Gebäudeart und Jahr seit 1901/Mehrfamilienhaus/1984-01-01",
          "Neu gebaute Gebäude nach Gebäudeart und Jahr seit 1901/Nichtwohngebäude/1984-01-01",
          "Neu gebaute Gebäude nach Gebäudeart und Jahr seit 1901/Wohnhaus mit Geschäftsräumen/1984-01-01",
          "Neu gebaute Gebäude nach Gebäudeart und Jahr seit 1901/Einfamilienhaus/1985-01-01",
          "Neu gebaute Gebäude nach Gebäudeart und Jahr seit 1901/Mehrfamilienhaus/1985-01-01",
          "Neu gebaute Gebäude nach Gebäudeart und Jahr seit 1901/Nichtwohngebäude/1985-01-01",
          "Neu gebaute Gebäude nach Gebäudeart und Jahr seit 1901/Wohnhaus mit Geschäftsräumen/1985-01-01",
          "Neu gebaute Gebäude nach Gebäudeart und Jahr seit 1901/Einfamilienhaus/1986-01-01",
          "Neu gebaute Gebäude nach Gebäudeart und Jahr seit 1901/Mehrfamilienhaus/1986-01-01",
          "Neu gebaute Gebäude nach Gebäudeart und Jahr seit 1901/Nichtwohngebäude/1986-01-01",
          "Neu gebaute Gebäude nach Gebäudeart und Jahr seit 1901/Wohnhaus mit Geschäftsräumen/1986-01-01",
          "Neu gebaute Gebäude nach Gebäudeart und Jahr seit 1901/Mehrfamilienhaus/1987-01-01",
          "Neu gebaute Gebäude nach Gebäudeart und Jahr seit 1901/Nichtwohngebäude/1987-01-01",
          "Neu gebaute Gebäude nach Gebäudeart und Jahr seit 1901/Wohnhaus mit Geschäftsräumen/1987-01-01",
          "Neu gebaute Gebäude nach Gebäudeart und Jahr seit 1901/Einfamilienhaus/1988-01-01",
          "Neu gebaute Gebäude nach Gebäudeart und Jahr seit 1901/Mehrfamilienhaus/1988-01-01",
          "Neu gebaute Gebäude nach Gebäudeart und Jahr seit 1901/Nichtwohngebäude/1988-01-01",
          "Neu gebaute Gebäude nach Gebäudeart und Jahr seit 1901/Wohnhaus mit Geschäftsräumen/1988-01-01",
          "Neu gebaute Gebäude nach Gebäudeart und Jahr seit 1901/Einfamilienhaus/1989-01-01",
          "Neu gebaute Gebäude nach Gebäudeart und Jahr seit 1901/Mehrfamilienhaus/1989-01-01",
          "Neu gebaute Gebäude nach Gebäudeart und Jahr seit 1901/Nichtwohngebäude/1989-01-01",
          "Neu gebaute Gebäude nach Gebäudeart und Jahr seit 1901/Wohnhaus mit Geschäftsräumen/1989-01-01",
          "Neu gebaute Gebäude nach Gebäudeart und Jahr seit 1901/Einfamilienhaus/1990-01-01",
          "Neu gebaute Gebäude nach Gebäudeart und Jahr seit 1901/Mehrfamilienhaus/1990-01-01",
          "Neu gebaute Gebäude nach Gebäudeart und Jahr seit 1901/Nichtwohngebäude/1990-01-01",
          "Neu gebaute Gebäude nach Gebäudeart und Jahr seit 1901/Wohnhaus mit Geschäftsräumen/1990-01-01",
          "Neu gebaute Gebäude nach Gebäudeart und Jahr seit 1901/Einfamilienhaus/1991-01-01",
          "Neu gebaute Gebäude nach Gebäudeart und Jahr seit 1901/Mehrfamilienhaus/1991-01-01",
          "Neu gebaute Gebäude nach Gebäudeart und Jahr seit 1901/Nichtwohngebäude/1991-01-01",
          "Neu gebaute Gebäude nach Gebäudeart und Jahr seit 1901/Wohnhaus mit Geschäftsräumen/1991-01-01",
          "Neu gebaute Gebäude nach Gebäudeart und Jahr seit 1901/Einfamilienhaus/1992-01-01",
          "Neu gebaute Gebäude nach Gebäudeart und Jahr seit 1901/Mehrfamilienhaus/1992-01-01",
          "Neu gebaute Gebäude nach Gebäudeart und Jahr seit 1901/Nichtwohngebäude/1992-01-01",
          "Neu gebaute Gebäude nach Gebäudeart und Jahr seit 1901/Wohnhaus mit Geschäftsräumen/1992-01-01",
          "Neu gebaute Gebäude nach Gebäudeart und Jahr seit 1901/Einfamilienhaus/1993-01-01",
          "Neu gebaute Gebäude nach Gebäudeart und Jahr seit 1901/Mehrfamilienhaus/1993-01-01",
          "Neu gebaute Gebäude nach Gebäudeart und Jahr seit 1901/Nichtwohngebäude/1993-01-01",
          "Neu gebaute Gebäude nach Gebäudeart und Jahr seit 1901/Wohnhaus mit Geschäftsräumen/1993-01-01",
          "Neu gebaute Gebäude nach Gebäudeart und Jahr seit 1901/Einfamilienhaus/1994-01-01",
          "Neu gebaute Gebäude nach Gebäudeart und Jahr seit 1901/Mehrfamilienhaus/1994-01-01",
          "Neu gebaute Gebäude nach Gebäudeart und Jahr seit 1901/Nichtwohngebäude/1994-01-01",
          "Neu gebaute Gebäude nach Gebäudeart und Jahr seit 1901/Wohnhaus mit Geschäftsräumen/1994-01-01",
          "Neu gebaute Gebäude nach Gebäudeart und Jahr seit 1901/Einfamilienhaus/1995-01-01",
          "Neu gebaute Gebäude nach Gebäudeart und Jahr seit 1901/Mehrfamilienhaus/1995-01-01",
          "Neu gebaute Gebäude nach Gebäudeart und Jahr seit 1901/Nichtwohngebäude/1995-01-01",
          "Neu gebaute Gebäude nach Gebäudeart und Jahr seit 1901/Wohnhaus mit Geschäftsräumen/1995-01-01",
          "Neu gebaute Gebäude nach Gebäudeart und Jahr seit 1901/Einfamilienhaus/1996-01-01",
          "Neu gebaute Gebäude nach Gebäudeart und Jahr seit 1901/Mehrfamilienhaus/1996-01-01",
          "Neu gebaute Gebäude nach Gebäudeart und Jahr seit 1901/Nichtwohngebäude/1996-01-01",
          "Neu gebaute Gebäude nach Gebäudeart und Jahr seit 1901/Wohnhaus mit Geschäftsräumen/1996-01-01",
          "Neu gebaute Gebäude nach Gebäudeart und Jahr seit 1901/Einfamilienhaus/1997-01-01",
          "Neu gebaute Gebäude nach Gebäudeart und Jahr seit 1901/Mehrfamilienhaus/1997-01-01",
          "Neu gebaute Gebäude nach Gebäudeart und Jahr seit 1901/Nichtwohngebäude/1997-01-01",
          "Neu gebaute Gebäude nach Gebäudeart und Jahr seit 1901/Wohnhaus mit Geschäftsräumen/1997-01-01",
          "Neu gebaute Gebäude nach Gebäudeart und Jahr seit 1901/Einfamilienhaus/1998-01-01",
          "Neu gebaute Gebäude nach Gebäudeart und Jahr seit 1901/Mehrfamilienhaus/1998-01-01",
          "Neu gebaute Gebäude nach Gebäudeart und Jahr seit 1901/Nichtwohngebäude/1998-01-01",
          "Neu gebaute Gebäude nach Gebäudeart und Jahr seit 1901/Wohnhaus mit Geschäftsräumen/1998-01-01",
          "Neu gebaute Gebäude nach Gebäudeart und Jahr seit 1901/Einfamilienhaus/1999-01-01",
          "Neu gebaute Gebäude nach Gebäudeart und Jahr seit 1901/Mehrfamilienhaus/1999-01-01",
          "Neu gebaute Gebäude nach Gebäudeart und Jahr seit 1901/Nichtwohngebäude/1999-01-01",
          "Neu gebaute Gebäude nach Gebäudeart und Jahr seit 1901/Wohnhaus mit Geschäftsräumen/1999-01-01",
          "Neu gebaute Gebäude nach Gebäudeart und Jahr seit 1901/Einfamilienhaus/2000-01-01",
          "Neu gebaute Gebäude nach Gebäudeart und Jahr seit 1901/Mehrfamilienhaus/2000-01-01",
          "Neu gebaute Gebäude nach Gebäudeart und Jahr seit 1901/Nichtwohngebäude/2000-01-01",
          "Neu gebaute Gebäude nach Gebäudeart und Jahr seit 1901/Wohnhaus mit Geschäftsräumen/2000-01-01",
          "Neu gebaute Gebäude nach Gebäudeart und Jahr seit 1901/Einfamilienhaus/2001-01-01",
          "Neu gebaute Gebäude nach Gebäudeart und Jahr seit 1901/Mehrfamilienhaus/2001-01-01",
          "Neu gebaute Gebäude nach Gebäudeart und Jahr seit 1901/Nichtwohngebäude/2001-01-01",
          "Neu gebaute Gebäude nach Gebäudeart und Jahr seit 1901/Wohnhaus mit Geschäftsräumen/2001-01-01",
          "Neu gebaute Gebäude nach Gebäudeart und Jahr seit 1901/Einfamilienhaus/2002-01-01",
          "Neu gebaute Gebäude nach Gebäudeart und Jahr seit 1901/Mehrfamilienhaus/2002-01-01",
          "Neu gebaute Gebäude nach Gebäudeart und Jahr seit 1901/Nichtwohngebäude/2002-01-01",
          "Neu gebaute Gebäude nach Gebäudeart und Jahr seit 1901/Wohnhaus mit Geschäftsräumen/2002-01-01",
          "Neu gebaute Gebäude nach Gebäudeart und Jahr seit 1901/Einfamilienhaus/2003-01-01",
          "Neu gebaute Gebäude nach Gebäudeart und Jahr seit 1901/Mehrfamilienhaus/2003-01-01",
          "Neu gebaute Gebäude nach Gebäudeart und Jahr seit 1901/Nichtwohngebäude/2003-01-01",
          "Neu gebaute Gebäude nach Gebäudeart und Jahr seit 1901/Wohnhaus mit Geschäftsräumen/2003-01-01",
          "Neu gebaute Gebäude nach Gebäudeart und Jahr seit 1901/Einfamilienhaus/2004-01-01",
          "Neu gebaute Gebäude nach Gebäudeart und Jahr seit 1901/Mehrfamilienhaus/2004-01-01",
          "Neu gebaute Gebäude nach Gebäudeart und Jahr seit 1901/Nichtwohngebäude/2004-01-01",
          "Neu gebaute Gebäude nach Gebäudeart und Jahr seit 1901/Wohnhaus mit Geschäftsräumen/2004-01-01",
          "Neu gebaute Gebäude nach Gebäudeart und Jahr seit 1901/Einfamilienhaus/2005-01-01",
          "Neu gebaute Gebäude nach Gebäudeart und Jahr seit 1901/Mehrfamilienhaus/2005-01-01",
          "Neu gebaute Gebäude nach Gebäudeart und Jahr seit 1901/Nichtwohngebäude/2005-01-01",
          "Neu gebaute Gebäude nach Gebäudeart und Jahr seit 1901/Wohnhaus mit Geschäftsräumen/2005-01-01",
          "Neu gebaute Gebäude nach Gebäudeart und Jahr seit 1901/Einfamilienhaus/2006-01-01",
          "Neu gebaute Gebäude nach Gebäudeart und Jahr seit 1901/Mehrfamilienhaus/2006-01-01",
          "Neu gebaute Gebäude nach Gebäudeart und Jahr seit 1901/Nichtwohngebäude/2006-01-01",
          "Neu gebaute Gebäude nach Gebäudeart und Jahr seit 1901/Wohnhaus mit Geschäftsräumen/2006-01-01",
          "Neu gebaute Gebäude nach Gebäudeart und Jahr seit 1901/Einfamilienhaus/2007-01-01",
          "Neu gebaute Gebäude nach Gebäudeart und Jahr seit 1901/Mehrfamilienhaus/2007-01-01",
          "Neu gebaute Gebäude nach Gebäudeart und Jahr seit 1901/Nichtwohngebäude/2007-01-01",
          "Neu gebaute Gebäude nach Gebäudeart und Jahr seit 1901/Wohnhaus mit Geschäftsräumen/2007-01-01",
          "Neu gebaute Gebäude nach Gebäudeart und Jahr seit 1901/Einfamilienhaus/2008-01-01",
          "Neu gebaute Gebäude nach Gebäudeart und Jahr seit 1901/Mehrfamilienhaus/2008-01-01",
          "Neu gebaute Gebäude nach Gebäudeart und Jahr seit 1901/Nichtwohngebäude/2008-01-01",
          "Neu gebaute Gebäude nach Gebäudeart und Jahr seit 1901/Wohnhaus mit Geschäftsräumen/2008-01-01",
          "Neu gebaute Gebäude nach Gebäudeart und Jahr seit 1901/Einfamilienhaus/2009-01-01",
          "Neu gebaute Gebäude nach Gebäudeart und Jahr seit 1901/Mehrfamilienhaus/2009-01-01",
          "Neu gebaute Gebäude nach Gebäudeart und Jahr seit 1901/Nichtwohngebäude/2009-01-01",
          "Neu gebaute Gebäude nach Gebäudeart und Jahr seit 1901/Wohnhaus mit Geschäftsräumen/2009-01-01",
          "Neu gebaute Gebäude nach Gebäudeart und Jahr seit 1901/Einfamilienhaus/2010-01-01",
          "Neu gebaute Gebäude nach Gebäudeart und Jahr seit 1901/Mehrfamilienhaus/2010-01-01",
          "Neu gebaute Gebäude nach Gebäudeart und Jahr seit 1901/Nichtwohngebäude/2010-01-01",
          "Neu gebaute Gebäude nach Gebäudeart und Jahr seit 1901/Wohnhaus mit Geschäftsräumen/2010-01-01",
          "Neu gebaute Gebäude nach Gebäudeart und Jahr seit 1901/Einfamilienhaus/2011-01-01",
          "Neu gebaute Gebäude nach Gebäudeart und Jahr seit 1901/Mehrfamilienhaus/2011-01-01",
          "Neu gebaute Gebäude nach Gebäudeart und Jahr seit 1901/Nichtwohngebäude/2011-01-01",
          "Neu gebaute Gebäude nach Gebäudeart und Jahr seit 1901/Wohnhaus mit Geschäftsräumen/2011-01-01",
          "Neu gebaute Gebäude nach Gebäudeart und Jahr seit 1901/Einfamilienhaus/2012-01-01",
          "Neu gebaute Gebäude nach Gebäudeart und Jahr seit 1901/Mehrfamilienhaus/2012-01-01",
          "Neu gebaute Gebäude nach Gebäudeart und Jahr seit 1901/Nichtwohngebäude/2012-01-01",
          "Neu gebaute Gebäude nach Gebäudeart und Jahr seit 1901/Wohnhaus mit Geschäftsräumen/2012-01-01",
          "Neu gebaute Gebäude nach Gebäudeart und Jahr seit 1901/Einfamilienhaus/2013-01-01",
          "Neu gebaute Gebäude nach Gebäudeart und Jahr seit 1901/Mehrfamilienhaus/2013-01-01",
          "Neu gebaute Gebäude nach Gebäudeart und Jahr seit 1901/Nichtwohngebäude/2013-01-01",
          "Neu gebaute Gebäude nach Gebäudeart und Jahr seit 1901/Wohnhaus mit Geschäftsräumen/2013-01-01",
          "Neu gebaute Gebäude nach Gebäudeart und Jahr seit 1901/Einfamilienhaus/2014-01-01",
          "Neu gebaute Gebäude nach Gebäudeart und Jahr seit 1901/Mehrfamilienhaus/2014-01-01",
          "Neu gebaute Gebäude nach Gebäudeart und Jahr seit 1901/Nichtwohngebäude/2014-01-01",
          "Neu gebaute Gebäude nach Gebäudeart und Jahr seit 1901/Wohnhaus mit Geschäftsräumen/2014-01-01",
          "Neu gebaute Gebäude nach Gebäudeart und Jahr seit 1901/Einfamilienhaus/2015-01-01",
          "Neu gebaute Gebäude nach Gebäudeart und Jahr seit 1901/Mehrfamilienhaus/2015-01-01",
          "Neu gebaute Gebäude nach Gebäudeart und Jahr seit 1901/Nichtwohngebäude/2015-01-01",
          "Neu gebaute Gebäude nach Gebäudeart und Jahr seit 1901/Wohnhaus mit Geschäftsräumen/2015-01-01",
          "Neu gebaute Gebäude nach Gebäudeart und Jahr seit 1901/Einfamilienhaus/2016-01-01",
          "Neu gebaute Gebäude nach Gebäudeart und Jahr seit 1901/Mehrfamilienhaus/2016-01-01",
          "Neu gebaute Gebäude nach Gebäudeart und Jahr seit 1901/Nichtwohngebäude/2016-01-01",
          "Neu gebaute Gebäude nach Gebäudeart und Jahr seit 1901/Wohnhaus mit Geschäftsräumen/2016-01-01",
          "Neu gebaute Gebäude nach Gebäudeart und Jahr seit 1901/Einfamilienhaus/2017-01-01",
          "Neu gebaute Gebäude nach Gebäudeart und Jahr seit 1901/Mehrfamilienhaus/2017-01-01",
          "Neu gebaute Gebäude nach Gebäudeart und Jahr seit 1901/Nichtwohngebäude/2017-01-01",
          "Neu gebaute Gebäude nach Gebäudeart und Jahr seit 1901/Wohnhaus mit Geschäftsräumen/2017-01-01",
          "Neu gebaute Gebäude nach Gebäudeart und Jahr seit 1901/Einfamilienhaus/2018-01-01",
          "Neu gebaute Gebäude nach Gebäudeart und Jahr seit 1901/Mehrfamilienhaus/2018-01-01",
          "Neu gebaute Gebäude nach Gebäudeart und Jahr seit 1901/Nichtwohngebäude/2018-01-01",
          "Neu gebaute Gebäude nach Gebäudeart und Jahr seit 1901/Wohnhaus mit Geschäftsräumen/2018-01-01",
          "Neu gebaute Gebäude nach Gebäudeart und Jahr seit 1901/Einfamilienhaus/2019-01-01",
          "Neu gebaute Gebäude nach Gebäudeart und Jahr seit 1901/Mehrfamilienhaus/2019-01-01",
          "Neu gebaute Gebäude nach Gebäudeart und Jahr seit 1901/Nichtwohngebäude/2019-01-01",
          "Neu gebaute Gebäude nach Gebäudeart und Jahr seit 1901/Wohnhaus mit Geschäftsräumen/2019-01-01",
          "Neu gebaute Gebäude nach Gebäudeart und Jahr seit 1901/Einfamilienhaus/2020-01-01",
          "Neu gebaute Gebäude nach Gebäudeart und Jahr seit 1901/Mehrfamilienhaus/2020-01-01",
          "Neu gebaute Gebäude nach Gebäudeart und Jahr seit 1901/Nichtwohngebäude/2020-01-01",
          "Neu gebaute Gebäude nach Gebäudeart und Jahr seit 1901/Wohnhaus mit Geschäftsräumen/2020-01-01",
          "Neu gebaute Gebäude nach Gebäudeart und Jahr seit 1901/Einfamilienhaus/2021-01-01",
          "Neu gebaute Gebäude nach Gebäudeart und Jahr seit 1901/Mehrfamilienhaus/2021-01-01",
          "Neu gebaute Gebäude nach Gebäudeart und Jahr seit 1901/Nichtwohngebäude/2021-01-01",
          "Neu gebaute Gebäude nach Gebäudeart und Jahr seit 1901/Wohnhaus mit Geschäftsräumen/2021-01-01",
          "Neu gebaute Gebäude nach Gebäudeart und Jahr seit 1901/Einfamilienhaus",
          "Neu gebaute Gebäude nach Gebäudeart und Jahr seit 1901/Mehrfamilienhaus",
          "Neu gebaute Gebäude nach Gebäudeart und Jahr seit 1901/Nichtwohngebäude",
          "Neu gebaute Gebäude nach Gebäudeart und Jahr seit 1901/Wohnhaus mit Geschäftsräumen",
          "Neu gebaute Gebäude nach Gebäudeart und Jahr seit 1901"
         ],
         "labels": [
          "1902-01-01",
          "1902-01-01",
          "1902-01-01",
          "1902-01-01",
          "1903-01-01",
          "1903-01-01",
          "1903-01-01",
          "1903-01-01",
          "1904-01-01",
          "1904-01-01",
          "1904-01-01",
          "1904-01-01",
          "1905-01-01",
          "1905-01-01",
          "1905-01-01",
          "1905-01-01",
          "1906-01-01",
          "1906-01-01",
          "1906-01-01",
          "1906-01-01",
          "1907-01-01",
          "1907-01-01",
          "1907-01-01",
          "1907-01-01",
          "1908-01-01",
          "1908-01-01",
          "1908-01-01",
          "1908-01-01",
          "1909-01-01",
          "1909-01-01",
          "1909-01-01",
          "1909-01-01",
          "1910-01-01",
          "1910-01-01",
          "1910-01-01",
          "1910-01-01",
          "1911-01-01",
          "1911-01-01",
          "1911-01-01",
          "1911-01-01",
          "1912-01-01",
          "1912-01-01",
          "1912-01-01",
          "1912-01-01",
          "1913-01-01",
          "1913-01-01",
          "1913-01-01",
          "1913-01-01",
          "1914-01-01",
          "1914-01-01",
          "1914-01-01",
          "1914-01-01",
          "1915-01-01",
          "1915-01-01",
          "1915-01-01",
          "1915-01-01",
          "1916-01-01",
          "1916-01-01",
          "1916-01-01",
          "1916-01-01",
          "1917-01-01",
          "1917-01-01",
          "1917-01-01",
          "1917-01-01",
          "1918-01-01",
          "1918-01-01",
          "1918-01-01",
          "1918-01-01",
          "1919-01-01",
          "1919-01-01",
          "1919-01-01",
          "1919-01-01",
          "1920-01-01",
          "1920-01-01",
          "1920-01-01",
          "1920-01-01",
          "1921-01-01",
          "1921-01-01",
          "1921-01-01",
          "1921-01-01",
          "1922-01-01",
          "1922-01-01",
          "1922-01-01",
          "1922-01-01",
          "1923-01-01",
          "1923-01-01",
          "1923-01-01",
          "1923-01-01",
          "1924-01-01",
          "1924-01-01",
          "1924-01-01",
          "1924-01-01",
          "1925-01-01",
          "1925-01-01",
          "1925-01-01",
          "1925-01-01",
          "1926-01-01",
          "1926-01-01",
          "1926-01-01",
          "1926-01-01",
          "1927-01-01",
          "1927-01-01",
          "1927-01-01",
          "1927-01-01",
          "1928-01-01",
          "1928-01-01",
          "1928-01-01",
          "1928-01-01",
          "1929-01-01",
          "1929-01-01",
          "1929-01-01",
          "1929-01-01",
          "1930-01-01",
          "1930-01-01",
          "1930-01-01",
          "1930-01-01",
          "1931-01-01",
          "1931-01-01",
          "1931-01-01",
          "1931-01-01",
          "1932-01-01",
          "1932-01-01",
          "1932-01-01",
          "1932-01-01",
          "1933-01-01",
          "1933-01-01",
          "1933-01-01",
          "1933-01-01",
          "1934-01-01",
          "1934-01-01",
          "1934-01-01",
          "1934-01-01",
          "1935-01-01",
          "1935-01-01",
          "1935-01-01",
          "1935-01-01",
          "1936-01-01",
          "1936-01-01",
          "1936-01-01",
          "1936-01-01",
          "1937-01-01",
          "1937-01-01",
          "1937-01-01",
          "1937-01-01",
          "1938-01-01",
          "1938-01-01",
          "1938-01-01",
          "1938-01-01",
          "1939-01-01",
          "1939-01-01",
          "1939-01-01",
          "1939-01-01",
          "1940-01-01",
          "1940-01-01",
          "1940-01-01",
          "1940-01-01",
          "1941-01-01",
          "1941-01-01",
          "1941-01-01",
          "1941-01-01",
          "1942-01-01",
          "1942-01-01",
          "1942-01-01",
          "1942-01-01",
          "1943-01-01",
          "1943-01-01",
          "1943-01-01",
          "1943-01-01",
          "1944-01-01",
          "1944-01-01",
          "1944-01-01",
          "1944-01-01",
          "1945-01-01",
          "1945-01-01",
          "1945-01-01",
          "1945-01-01",
          "1946-01-01",
          "1946-01-01",
          "1946-01-01",
          "1946-01-01",
          "1947-01-01",
          "1947-01-01",
          "1947-01-01",
          "1947-01-01",
          "1948-01-01",
          "1948-01-01",
          "1948-01-01",
          "1948-01-01",
          "1949-01-01",
          "1949-01-01",
          "1949-01-01",
          "1949-01-01",
          "1950-01-01",
          "1950-01-01",
          "1950-01-01",
          "1950-01-01",
          "1951-01-01",
          "1951-01-01",
          "1951-01-01",
          "1951-01-01",
          "1952-01-01",
          "1952-01-01",
          "1952-01-01",
          "1952-01-01",
          "1953-01-01",
          "1953-01-01",
          "1953-01-01",
          "1953-01-01",
          "1954-01-01",
          "1954-01-01",
          "1954-01-01",
          "1954-01-01",
          "1955-01-01",
          "1955-01-01",
          "1955-01-01",
          "1955-01-01",
          "1956-01-01",
          "1956-01-01",
          "1956-01-01",
          "1956-01-01",
          "1957-01-01",
          "1957-01-01",
          "1957-01-01",
          "1957-01-01",
          "1958-01-01",
          "1958-01-01",
          "1958-01-01",
          "1958-01-01",
          "1959-01-01",
          "1959-01-01",
          "1959-01-01",
          "1959-01-01",
          "1960-01-01",
          "1960-01-01",
          "1960-01-01",
          "1960-01-01",
          "1961-01-01",
          "1961-01-01",
          "1961-01-01",
          "1961-01-01",
          "1962-01-01",
          "1962-01-01",
          "1962-01-01",
          "1962-01-01",
          "1963-01-01",
          "1963-01-01",
          "1963-01-01",
          "1963-01-01",
          "1964-01-01",
          "1964-01-01",
          "1964-01-01",
          "1964-01-01",
          "1965-01-01",
          "1965-01-01",
          "1965-01-01",
          "1965-01-01",
          "1966-01-01",
          "1966-01-01",
          "1966-01-01",
          "1966-01-01",
          "1967-01-01",
          "1967-01-01",
          "1967-01-01",
          "1967-01-01",
          "1968-01-01",
          "1968-01-01",
          "1968-01-01",
          "1968-01-01",
          "1969-01-01",
          "1969-01-01",
          "1969-01-01",
          "1969-01-01",
          "1970-01-01",
          "1970-01-01",
          "1970-01-01",
          "1970-01-01",
          "1971-01-01",
          "1971-01-01",
          "1971-01-01",
          "1971-01-01",
          "1972-01-01",
          "1972-01-01",
          "1972-01-01",
          "1972-01-01",
          "1973-01-01",
          "1973-01-01",
          "1973-01-01",
          "1973-01-01",
          "1974-01-01",
          "1974-01-01",
          "1974-01-01",
          "1974-01-01",
          "1975-01-01",
          "1975-01-01",
          "1975-01-01",
          "1975-01-01",
          "1976-01-01",
          "1976-01-01",
          "1976-01-01",
          "1976-01-01",
          "1977-01-01",
          "1977-01-01",
          "1977-01-01",
          "1977-01-01",
          "1978-01-01",
          "1978-01-01",
          "1978-01-01",
          "1978-01-01",
          "1979-01-01",
          "1979-01-01",
          "1979-01-01",
          "1979-01-01",
          "1980-01-01",
          "1980-01-01",
          "1980-01-01",
          "1980-01-01",
          "1981-01-01",
          "1981-01-01",
          "1981-01-01",
          "1981-01-01",
          "1982-01-01",
          "1982-01-01",
          "1982-01-01",
          "1982-01-01",
          "1983-01-01",
          "1983-01-01",
          "1983-01-01",
          "1983-01-01",
          "1984-01-01",
          "1984-01-01",
          "1984-01-01",
          "1984-01-01",
          "1985-01-01",
          "1985-01-01",
          "1985-01-01",
          "1985-01-01",
          "1986-01-01",
          "1986-01-01",
          "1986-01-01",
          "1986-01-01",
          "1987-01-01",
          "1987-01-01",
          "1987-01-01",
          "1988-01-01",
          "1988-01-01",
          "1988-01-01",
          "1988-01-01",
          "1989-01-01",
          "1989-01-01",
          "1989-01-01",
          "1989-01-01",
          "1990-01-01",
          "1990-01-01",
          "1990-01-01",
          "1990-01-01",
          "1991-01-01",
          "1991-01-01",
          "1991-01-01",
          "1991-01-01",
          "1992-01-01",
          "1992-01-01",
          "1992-01-01",
          "1992-01-01",
          "1993-01-01",
          "1993-01-01",
          "1993-01-01",
          "1993-01-01",
          "1994-01-01",
          "1994-01-01",
          "1994-01-01",
          "1994-01-01",
          "1995-01-01",
          "1995-01-01",
          "1995-01-01",
          "1995-01-01",
          "1996-01-01",
          "1996-01-01",
          "1996-01-01",
          "1996-01-01",
          "1997-01-01",
          "1997-01-01",
          "1997-01-01",
          "1997-01-01",
          "1998-01-01",
          "1998-01-01",
          "1998-01-01",
          "1998-01-01",
          "1999-01-01",
          "1999-01-01",
          "1999-01-01",
          "1999-01-01",
          "2000-01-01",
          "2000-01-01",
          "2000-01-01",
          "2000-01-01",
          "2001-01-01",
          "2001-01-01",
          "2001-01-01",
          "2001-01-01",
          "2002-01-01",
          "2002-01-01",
          "2002-01-01",
          "2002-01-01",
          "2003-01-01",
          "2003-01-01",
          "2003-01-01",
          "2003-01-01",
          "2004-01-01",
          "2004-01-01",
          "2004-01-01",
          "2004-01-01",
          "2005-01-01",
          "2005-01-01",
          "2005-01-01",
          "2005-01-01",
          "2006-01-01",
          "2006-01-01",
          "2006-01-01",
          "2006-01-01",
          "2007-01-01",
          "2007-01-01",
          "2007-01-01",
          "2007-01-01",
          "2008-01-01",
          "2008-01-01",
          "2008-01-01",
          "2008-01-01",
          "2009-01-01",
          "2009-01-01",
          "2009-01-01",
          "2009-01-01",
          "2010-01-01",
          "2010-01-01",
          "2010-01-01",
          "2010-01-01",
          "2011-01-01",
          "2011-01-01",
          "2011-01-01",
          "2011-01-01",
          "2012-01-01",
          "2012-01-01",
          "2012-01-01",
          "2012-01-01",
          "2013-01-01",
          "2013-01-01",
          "2013-01-01",
          "2013-01-01",
          "2014-01-01",
          "2014-01-01",
          "2014-01-01",
          "2014-01-01",
          "2015-01-01",
          "2015-01-01",
          "2015-01-01",
          "2015-01-01",
          "2016-01-01",
          "2016-01-01",
          "2016-01-01",
          "2016-01-01",
          "2017-01-01",
          "2017-01-01",
          "2017-01-01",
          "2017-01-01",
          "2018-01-01",
          "2018-01-01",
          "2018-01-01",
          "2018-01-01",
          "2019-01-01",
          "2019-01-01",
          "2019-01-01",
          "2019-01-01",
          "2020-01-01",
          "2020-01-01",
          "2020-01-01",
          "2020-01-01",
          "2021-01-01",
          "2021-01-01",
          "2021-01-01",
          "2021-01-01",
          "Einfamilienhaus",
          "Mehrfamilienhaus",
          "Nichtwohngebäude",
          "Wohnhaus mit Geschäftsräumen",
          "Neu gebaute Gebäude nach Gebäudeart und Jahr seit 1901"
         ],
         "level": "Neu gebaute Gebäude nach Gebäudeart und Jahr seit 1901/Nichtwohngebäude",
         "marker": {
          "coloraxis": "coloraxis",
          "colors": [
           17,
           36,
           60,
           29,
           17,
           38,
           41,
           28,
           34,
           47,
           64,
           28,
           21,
           47,
           33,
           22,
           30,
           72,
           43,
           46,
           37,
           73,
           78,
           54,
           39,
           93,
           84,
           59,
           56,
           146,
           76,
           52,
           74,
           182,
           93,
           103,
           84,
           207,
           95,
           114,
           68,
           199,
           90,
           79,
           59,
           82,
           32,
           40,
           81,
           69,
           67,
           35,
           42,
           63,
           37,
           24,
           36,
           27,
           46,
           20,
           35,
           35,
           44,
           14,
           31,
           53,
           40,
           10,
           26,
           64,
           32,
           3,
           86,
           46,
           46,
           6,
           106,
           40,
           82,
           3,
           58,
           40,
           49,
           17,
           116,
           69,
           73,
           23,
           193,
           198,
           116,
           46,
           292,
           103,
           120,
           51,
           295,
           212,
           123,
           74,
           228,
           211,
           129,
           102,
           214,
           315,
           178,
           100,
           440,
           301,
           178,
           118,
           166,
           316,
           152,
           124,
           429,
           469,
           221,
           181,
           227,
           441,
           218,
           187,
           285,
           190,
           143,
           76,
           302,
           251,
           124,
           102,
           177,
           176,
           94,
           55,
           78,
           60,
           116,
           16,
           141,
           100,
           82,
           22,
           182,
           157,
           72,
           40,
           139,
           236,
           141,
           53,
           81,
           101,
           117,
           21,
           96,
           95,
           120,
           23,
           35,
           142,
           123,
           35,
           271,
           143,
           173,
           19,
           521,
           195,
           83,
           26,
           458,
           222,
           84,
           32,
           590,
           219,
           110,
           53,
           494,
           186,
           116,
           53,
           496,
           382,
           296,
           36,
           384,
           324,
           182,
           16,
           186,
           412,
           152,
           38,
           190,
           509,
           204,
           67,
           154,
           532,
           213,
           60,
           212,
           372,
           250,
           49,
           76,
           409,
           179,
           43,
           58,
           340,
           251,
           34,
           51,
           206,
           318,
           29,
           66,
           234,
           281,
           34,
           16,
           275,
           309,
           32,
           7,
           252,
           223,
           38,
           10,
           279,
           199,
           36,
           12,
           176,
           184,
           41,
           16,
           174,
           217,
           29,
           32,
           115,
           213,
           38,
           18,
           193,
           237,
           23,
           14,
           178,
           206,
           29,
           11,
           139,
           223,
           16,
           4,
           113,
           266,
           20,
           5,
           153,
           200,
           27,
           20,
           161,
           185,
           22,
           2,
           148,
           138,
           19,
           12,
           122,
           170,
           36,
           37,
           132,
           237,
           48,
           13,
           137,
           273,
           34,
           21,
           159,
           201,
           21,
           12,
           99,
           361,
           16,
           2,
           95,
           286,
           25,
           18,
           91,
           322,
           23,
           35,
           69,
           209,
           5,
           30,
           114,
           254,
           16,
           14,
           123,
           201,
           20,
           43,
           184,
           195,
           34,
           66,
           165,
           255,
           49,
           10,
           90,
           142,
           34,
           14,
           97,
           141,
           36,
           6,
           99,
           153,
           43,
           14,
           85,
           105,
           31,
           53,
           60,
           33,
           6,
           44,
           54,
           22,
           9,
           36,
           50,
           32,
           58,
           32,
           58,
           27,
           52,
           81,
           90,
           67,
           17,
           41,
           102,
           28,
           31,
           79,
           127,
           24,
           19,
           61,
           125,
           24,
           9,
           39,
           111,
           30,
           7,
           53,
           67,
           11,
           20,
           33,
           74,
           8,
           34,
           66,
           56,
           7,
           15,
           67,
           51,
           9,
           44,
           84,
           96,
           12,
           16,
           73,
           70,
           19,
           29,
           82,
           60,
           15,
           50,
           117,
           61,
           13,
           8,
           76,
           61,
           21,
           14,
           72,
           56,
           23,
           15,
           91,
           88,
           18,
           68,
           143,
           100,
           31,
           14,
           118,
           28,
           9,
           6,
           107,
           55,
           13,
           14,
           107,
           112,
           17,
           8,
           185,
           79,
           22,
           80,
           130,
           103,
           32,
           35,
           116,
           78,
           44,
           15,
           107,
           74,
           32,
           43,
           144,
           91,
           63,
           18,
           135,
           61,
           49,
           38,
           134,
           83,
           66,
           13,
           165,
           98,
           46,
           11,
           114,
           66,
           33,
           11,
           98,
           69,
           24,
           11,
           113,
           77,
           34,
           269.2305825242718,
           224.35698324022346,
           177.0951776649746,
           63.05321219987022,
           203.74534136136342
          ]
         },
         "name": "",
         "parents": [
          "Neu gebaute Gebäude nach Gebäudeart und Jahr seit 1901/Einfamilienhaus",
          "Neu gebaute Gebäude nach Gebäudeart und Jahr seit 1901/Mehrfamilienhaus",
          "Neu gebaute Gebäude nach Gebäudeart und Jahr seit 1901/Nichtwohngebäude",
          "Neu gebaute Gebäude nach Gebäudeart und Jahr seit 1901/Wohnhaus mit Geschäftsräumen",
          "Neu gebaute Gebäude nach Gebäudeart und Jahr seit 1901/Einfamilienhaus",
          "Neu gebaute Gebäude nach Gebäudeart und Jahr seit 1901/Mehrfamilienhaus",
          "Neu gebaute Gebäude nach Gebäudeart und Jahr seit 1901/Nichtwohngebäude",
          "Neu gebaute Gebäude nach Gebäudeart und Jahr seit 1901/Wohnhaus mit Geschäftsräumen",
          "Neu gebaute Gebäude nach Gebäudeart und Jahr seit 1901/Einfamilienhaus",
          "Neu gebaute Gebäude nach Gebäudeart und Jahr seit 1901/Mehrfamilienhaus",
          "Neu gebaute Gebäude nach Gebäudeart und Jahr seit 1901/Nichtwohngebäude",
          "Neu gebaute Gebäude nach Gebäudeart und Jahr seit 1901/Wohnhaus mit Geschäftsräumen",
          "Neu gebaute Gebäude nach Gebäudeart und Jahr seit 1901/Einfamilienhaus",
          "Neu gebaute Gebäude nach Gebäudeart und Jahr seit 1901/Mehrfamilienhaus",
          "Neu gebaute Gebäude nach Gebäudeart und Jahr seit 1901/Nichtwohngebäude",
          "Neu gebaute Gebäude nach Gebäudeart und Jahr seit 1901/Wohnhaus mit Geschäftsräumen",
          "Neu gebaute Gebäude nach Gebäudeart und Jahr seit 1901/Einfamilienhaus",
          "Neu gebaute Gebäude nach Gebäudeart und Jahr seit 1901/Mehrfamilienhaus",
          "Neu gebaute Gebäude nach Gebäudeart und Jahr seit 1901/Nichtwohngebäude",
          "Neu gebaute Gebäude nach Gebäudeart und Jahr seit 1901/Wohnhaus mit Geschäftsräumen",
          "Neu gebaute Gebäude nach Gebäudeart und Jahr seit 1901/Einfamilienhaus",
          "Neu gebaute Gebäude nach Gebäudeart und Jahr seit 1901/Mehrfamilienhaus",
          "Neu gebaute Gebäude nach Gebäudeart und Jahr seit 1901/Nichtwohngebäude",
          "Neu gebaute Gebäude nach Gebäudeart und Jahr seit 1901/Wohnhaus mit Geschäftsräumen",
          "Neu gebaute Gebäude nach Gebäudeart und Jahr seit 1901/Einfamilienhaus",
          "Neu gebaute Gebäude nach Gebäudeart und Jahr seit 1901/Mehrfamilienhaus",
          "Neu gebaute Gebäude nach Gebäudeart und Jahr seit 1901/Nichtwohngebäude",
          "Neu gebaute Gebäude nach Gebäudeart und Jahr seit 1901/Wohnhaus mit Geschäftsräumen",
          "Neu gebaute Gebäude nach Gebäudeart und Jahr seit 1901/Einfamilienhaus",
          "Neu gebaute Gebäude nach Gebäudeart und Jahr seit 1901/Mehrfamilienhaus",
          "Neu gebaute Gebäude nach Gebäudeart und Jahr seit 1901/Nichtwohngebäude",
          "Neu gebaute Gebäude nach Gebäudeart und Jahr seit 1901/Wohnhaus mit Geschäftsräumen",
          "Neu gebaute Gebäude nach Gebäudeart und Jahr seit 1901/Einfamilienhaus",
          "Neu gebaute Gebäude nach Gebäudeart und Jahr seit 1901/Mehrfamilienhaus",
          "Neu gebaute Gebäude nach Gebäudeart und Jahr seit 1901/Nichtwohngebäude",
          "Neu gebaute Gebäude nach Gebäudeart und Jahr seit 1901/Wohnhaus mit Geschäftsräumen",
          "Neu gebaute Gebäude nach Gebäudeart und Jahr seit 1901/Einfamilienhaus",
          "Neu gebaute Gebäude nach Gebäudeart und Jahr seit 1901/Mehrfamilienhaus",
          "Neu gebaute Gebäude nach Gebäudeart und Jahr seit 1901/Nichtwohngebäude",
          "Neu gebaute Gebäude nach Gebäudeart und Jahr seit 1901/Wohnhaus mit Geschäftsräumen",
          "Neu gebaute Gebäude nach Gebäudeart und Jahr seit 1901/Einfamilienhaus",
          "Neu gebaute Gebäude nach Gebäudeart und Jahr seit 1901/Mehrfamilienhaus",
          "Neu gebaute Gebäude nach Gebäudeart und Jahr seit 1901/Nichtwohngebäude",
          "Neu gebaute Gebäude nach Gebäudeart und Jahr seit 1901/Wohnhaus mit Geschäftsräumen",
          "Neu gebaute Gebäude nach Gebäudeart und Jahr seit 1901/Einfamilienhaus",
          "Neu gebaute Gebäude nach Gebäudeart und Jahr seit 1901/Mehrfamilienhaus",
          "Neu gebaute Gebäude nach Gebäudeart und Jahr seit 1901/Nichtwohngebäude",
          "Neu gebaute Gebäude nach Gebäudeart und Jahr seit 1901/Wohnhaus mit Geschäftsräumen",
          "Neu gebaute Gebäude nach Gebäudeart und Jahr seit 1901/Einfamilienhaus",
          "Neu gebaute Gebäude nach Gebäudeart und Jahr seit 1901/Mehrfamilienhaus",
          "Neu gebaute Gebäude nach Gebäudeart und Jahr seit 1901/Nichtwohngebäude",
          "Neu gebaute Gebäude nach Gebäudeart und Jahr seit 1901/Wohnhaus mit Geschäftsräumen",
          "Neu gebaute Gebäude nach Gebäudeart und Jahr seit 1901/Einfamilienhaus",
          "Neu gebaute Gebäude nach Gebäudeart und Jahr seit 1901/Mehrfamilienhaus",
          "Neu gebaute Gebäude nach Gebäudeart und Jahr seit 1901/Nichtwohngebäude",
          "Neu gebaute Gebäude nach Gebäudeart und Jahr seit 1901/Wohnhaus mit Geschäftsräumen",
          "Neu gebaute Gebäude nach Gebäudeart und Jahr seit 1901/Einfamilienhaus",
          "Neu gebaute Gebäude nach Gebäudeart und Jahr seit 1901/Mehrfamilienhaus",
          "Neu gebaute Gebäude nach Gebäudeart und Jahr seit 1901/Nichtwohngebäude",
          "Neu gebaute Gebäude nach Gebäudeart und Jahr seit 1901/Wohnhaus mit Geschäftsräumen",
          "Neu gebaute Gebäude nach Gebäudeart und Jahr seit 1901/Einfamilienhaus",
          "Neu gebaute Gebäude nach Gebäudeart und Jahr seit 1901/Mehrfamilienhaus",
          "Neu gebaute Gebäude nach Gebäudeart und Jahr seit 1901/Nichtwohngebäude",
          "Neu gebaute Gebäude nach Gebäudeart und Jahr seit 1901/Wohnhaus mit Geschäftsräumen",
          "Neu gebaute Gebäude nach Gebäudeart und Jahr seit 1901/Einfamilienhaus",
          "Neu gebaute Gebäude nach Gebäudeart und Jahr seit 1901/Mehrfamilienhaus",
          "Neu gebaute Gebäude nach Gebäudeart und Jahr seit 1901/Nichtwohngebäude",
          "Neu gebaute Gebäude nach Gebäudeart und Jahr seit 1901/Wohnhaus mit Geschäftsräumen",
          "Neu gebaute Gebäude nach Gebäudeart und Jahr seit 1901/Einfamilienhaus",
          "Neu gebaute Gebäude nach Gebäudeart und Jahr seit 1901/Mehrfamilienhaus",
          "Neu gebaute Gebäude nach Gebäudeart und Jahr seit 1901/Nichtwohngebäude",
          "Neu gebaute Gebäude nach Gebäudeart und Jahr seit 1901/Wohnhaus mit Geschäftsräumen",
          "Neu gebaute Gebäude nach Gebäudeart und Jahr seit 1901/Einfamilienhaus",
          "Neu gebaute Gebäude nach Gebäudeart und Jahr seit 1901/Mehrfamilienhaus",
          "Neu gebaute Gebäude nach Gebäudeart und Jahr seit 1901/Nichtwohngebäude",
          "Neu gebaute Gebäude nach Gebäudeart und Jahr seit 1901/Wohnhaus mit Geschäftsräumen",
          "Neu gebaute Gebäude nach Gebäudeart und Jahr seit 1901/Einfamilienhaus",
          "Neu gebaute Gebäude nach Gebäudeart und Jahr seit 1901/Mehrfamilienhaus",
          "Neu gebaute Gebäude nach Gebäudeart und Jahr seit 1901/Nichtwohngebäude",
          "Neu gebaute Gebäude nach Gebäudeart und Jahr seit 1901/Wohnhaus mit Geschäftsräumen",
          "Neu gebaute Gebäude nach Gebäudeart und Jahr seit 1901/Einfamilienhaus",
          "Neu gebaute Gebäude nach Gebäudeart und Jahr seit 1901/Mehrfamilienhaus",
          "Neu gebaute Gebäude nach Gebäudeart und Jahr seit 1901/Nichtwohngebäude",
          "Neu gebaute Gebäude nach Gebäudeart und Jahr seit 1901/Wohnhaus mit Geschäftsräumen",
          "Neu gebaute Gebäude nach Gebäudeart und Jahr seit 1901/Einfamilienhaus",
          "Neu gebaute Gebäude nach Gebäudeart und Jahr seit 1901/Mehrfamilienhaus",
          "Neu gebaute Gebäude nach Gebäudeart und Jahr seit 1901/Nichtwohngebäude",
          "Neu gebaute Gebäude nach Gebäudeart und Jahr seit 1901/Wohnhaus mit Geschäftsräumen",
          "Neu gebaute Gebäude nach Gebäudeart und Jahr seit 1901/Einfamilienhaus",
          "Neu gebaute Gebäude nach Gebäudeart und Jahr seit 1901/Mehrfamilienhaus",
          "Neu gebaute Gebäude nach Gebäudeart und Jahr seit 1901/Nichtwohngebäude",
          "Neu gebaute Gebäude nach Gebäudeart und Jahr seit 1901/Wohnhaus mit Geschäftsräumen",
          "Neu gebaute Gebäude nach Gebäudeart und Jahr seit 1901/Einfamilienhaus",
          "Neu gebaute Gebäude nach Gebäudeart und Jahr seit 1901/Mehrfamilienhaus",
          "Neu gebaute Gebäude nach Gebäudeart und Jahr seit 1901/Nichtwohngebäude",
          "Neu gebaute Gebäude nach Gebäudeart und Jahr seit 1901/Wohnhaus mit Geschäftsräumen",
          "Neu gebaute Gebäude nach Gebäudeart und Jahr seit 1901/Einfamilienhaus",
          "Neu gebaute Gebäude nach Gebäudeart und Jahr seit 1901/Mehrfamilienhaus",
          "Neu gebaute Gebäude nach Gebäudeart und Jahr seit 1901/Nichtwohngebäude",
          "Neu gebaute Gebäude nach Gebäudeart und Jahr seit 1901/Wohnhaus mit Geschäftsräumen",
          "Neu gebaute Gebäude nach Gebäudeart und Jahr seit 1901/Einfamilienhaus",
          "Neu gebaute Gebäude nach Gebäudeart und Jahr seit 1901/Mehrfamilienhaus",
          "Neu gebaute Gebäude nach Gebäudeart und Jahr seit 1901/Nichtwohngebäude",
          "Neu gebaute Gebäude nach Gebäudeart und Jahr seit 1901/Wohnhaus mit Geschäftsräumen",
          "Neu gebaute Gebäude nach Gebäudeart und Jahr seit 1901/Einfamilienhaus",
          "Neu gebaute Gebäude nach Gebäudeart und Jahr seit 1901/Mehrfamilienhaus",
          "Neu gebaute Gebäude nach Gebäudeart und Jahr seit 1901/Nichtwohngebäude",
          "Neu gebaute Gebäude nach Gebäudeart und Jahr seit 1901/Wohnhaus mit Geschäftsräumen",
          "Neu gebaute Gebäude nach Gebäudeart und Jahr seit 1901/Einfamilienhaus",
          "Neu gebaute Gebäude nach Gebäudeart und Jahr seit 1901/Mehrfamilienhaus",
          "Neu gebaute Gebäude nach Gebäudeart und Jahr seit 1901/Nichtwohngebäude",
          "Neu gebaute Gebäude nach Gebäudeart und Jahr seit 1901/Wohnhaus mit Geschäftsräumen",
          "Neu gebaute Gebäude nach Gebäudeart und Jahr seit 1901/Einfamilienhaus",
          "Neu gebaute Gebäude nach Gebäudeart und Jahr seit 1901/Mehrfamilienhaus",
          "Neu gebaute Gebäude nach Gebäudeart und Jahr seit 1901/Nichtwohngebäude",
          "Neu gebaute Gebäude nach Gebäudeart und Jahr seit 1901/Wohnhaus mit Geschäftsräumen",
          "Neu gebaute Gebäude nach Gebäudeart und Jahr seit 1901/Einfamilienhaus",
          "Neu gebaute Gebäude nach Gebäudeart und Jahr seit 1901/Mehrfamilienhaus",
          "Neu gebaute Gebäude nach Gebäudeart und Jahr seit 1901/Nichtwohngebäude",
          "Neu gebaute Gebäude nach Gebäudeart und Jahr seit 1901/Wohnhaus mit Geschäftsräumen",
          "Neu gebaute Gebäude nach Gebäudeart und Jahr seit 1901/Einfamilienhaus",
          "Neu gebaute Gebäude nach Gebäudeart und Jahr seit 1901/Mehrfamilienhaus",
          "Neu gebaute Gebäude nach Gebäudeart und Jahr seit 1901/Nichtwohngebäude",
          "Neu gebaute Gebäude nach Gebäudeart und Jahr seit 1901/Wohnhaus mit Geschäftsräumen",
          "Neu gebaute Gebäude nach Gebäudeart und Jahr seit 1901/Einfamilienhaus",
          "Neu gebaute Gebäude nach Gebäudeart und Jahr seit 1901/Mehrfamilienhaus",
          "Neu gebaute Gebäude nach Gebäudeart und Jahr seit 1901/Nichtwohngebäude",
          "Neu gebaute Gebäude nach Gebäudeart und Jahr seit 1901/Wohnhaus mit Geschäftsräumen",
          "Neu gebaute Gebäude nach Gebäudeart und Jahr seit 1901/Einfamilienhaus",
          "Neu gebaute Gebäude nach Gebäudeart und Jahr seit 1901/Mehrfamilienhaus",
          "Neu gebaute Gebäude nach Gebäudeart und Jahr seit 1901/Nichtwohngebäude",
          "Neu gebaute Gebäude nach Gebäudeart und Jahr seit 1901/Wohnhaus mit Geschäftsräumen",
          "Neu gebaute Gebäude nach Gebäudeart und Jahr seit 1901/Einfamilienhaus",
          "Neu gebaute Gebäude nach Gebäudeart und Jahr seit 1901/Mehrfamilienhaus",
          "Neu gebaute Gebäude nach Gebäudeart und Jahr seit 1901/Nichtwohngebäude",
          "Neu gebaute Gebäude nach Gebäudeart und Jahr seit 1901/Wohnhaus mit Geschäftsräumen",
          "Neu gebaute Gebäude nach Gebäudeart und Jahr seit 1901/Einfamilienhaus",
          "Neu gebaute Gebäude nach Gebäudeart und Jahr seit 1901/Mehrfamilienhaus",
          "Neu gebaute Gebäude nach Gebäudeart und Jahr seit 1901/Nichtwohngebäude",
          "Neu gebaute Gebäude nach Gebäudeart und Jahr seit 1901/Wohnhaus mit Geschäftsräumen",
          "Neu gebaute Gebäude nach Gebäudeart und Jahr seit 1901/Einfamilienhaus",
          "Neu gebaute Gebäude nach Gebäudeart und Jahr seit 1901/Mehrfamilienhaus",
          "Neu gebaute Gebäude nach Gebäudeart und Jahr seit 1901/Nichtwohngebäude",
          "Neu gebaute Gebäude nach Gebäudeart und Jahr seit 1901/Wohnhaus mit Geschäftsräumen",
          "Neu gebaute Gebäude nach Gebäudeart und Jahr seit 1901/Einfamilienhaus",
          "Neu gebaute Gebäude nach Gebäudeart und Jahr seit 1901/Mehrfamilienhaus",
          "Neu gebaute Gebäude nach Gebäudeart und Jahr seit 1901/Nichtwohngebäude",
          "Neu gebaute Gebäude nach Gebäudeart und Jahr seit 1901/Wohnhaus mit Geschäftsräumen",
          "Neu gebaute Gebäude nach Gebäudeart und Jahr seit 1901/Einfamilienhaus",
          "Neu gebaute Gebäude nach Gebäudeart und Jahr seit 1901/Mehrfamilienhaus",
          "Neu gebaute Gebäude nach Gebäudeart und Jahr seit 1901/Nichtwohngebäude",
          "Neu gebaute Gebäude nach Gebäudeart und Jahr seit 1901/Wohnhaus mit Geschäftsräumen",
          "Neu gebaute Gebäude nach Gebäudeart und Jahr seit 1901/Einfamilienhaus",
          "Neu gebaute Gebäude nach Gebäudeart und Jahr seit 1901/Mehrfamilienhaus",
          "Neu gebaute Gebäude nach Gebäudeart und Jahr seit 1901/Nichtwohngebäude",
          "Neu gebaute Gebäude nach Gebäudeart und Jahr seit 1901/Wohnhaus mit Geschäftsräumen",
          "Neu gebaute Gebäude nach Gebäudeart und Jahr seit 1901/Einfamilienhaus",
          "Neu gebaute Gebäude nach Gebäudeart und Jahr seit 1901/Mehrfamilienhaus",
          "Neu gebaute Gebäude nach Gebäudeart und Jahr seit 1901/Nichtwohngebäude",
          "Neu gebaute Gebäude nach Gebäudeart und Jahr seit 1901/Wohnhaus mit Geschäftsräumen",
          "Neu gebaute Gebäude nach Gebäudeart und Jahr seit 1901/Einfamilienhaus",
          "Neu gebaute Gebäude nach Gebäudeart und Jahr seit 1901/Mehrfamilienhaus",
          "Neu gebaute Gebäude nach Gebäudeart und Jahr seit 1901/Nichtwohngebäude",
          "Neu gebaute Gebäude nach Gebäudeart und Jahr seit 1901/Wohnhaus mit Geschäftsräumen",
          "Neu gebaute Gebäude nach Gebäudeart und Jahr seit 1901/Einfamilienhaus",
          "Neu gebaute Gebäude nach Gebäudeart und Jahr seit 1901/Mehrfamilienhaus",
          "Neu gebaute Gebäude nach Gebäudeart und Jahr seit 1901/Nichtwohngebäude",
          "Neu gebaute Gebäude nach Gebäudeart und Jahr seit 1901/Wohnhaus mit Geschäftsräumen",
          "Neu gebaute Gebäude nach Gebäudeart und Jahr seit 1901/Einfamilienhaus",
          "Neu gebaute Gebäude nach Gebäudeart und Jahr seit 1901/Mehrfamilienhaus",
          "Neu gebaute Gebäude nach Gebäudeart und Jahr seit 1901/Nichtwohngebäude",
          "Neu gebaute Gebäude nach Gebäudeart und Jahr seit 1901/Wohnhaus mit Geschäftsräumen",
          "Neu gebaute Gebäude nach Gebäudeart und Jahr seit 1901/Einfamilienhaus",
          "Neu gebaute Gebäude nach Gebäudeart und Jahr seit 1901/Mehrfamilienhaus",
          "Neu gebaute Gebäude nach Gebäudeart und Jahr seit 1901/Nichtwohngebäude",
          "Neu gebaute Gebäude nach Gebäudeart und Jahr seit 1901/Wohnhaus mit Geschäftsräumen",
          "Neu gebaute Gebäude nach Gebäudeart und Jahr seit 1901/Einfamilienhaus",
          "Neu gebaute Gebäude nach Gebäudeart und Jahr seit 1901/Mehrfamilienhaus",
          "Neu gebaute Gebäude nach Gebäudeart und Jahr seit 1901/Nichtwohngebäude",
          "Neu gebaute Gebäude nach Gebäudeart und Jahr seit 1901/Wohnhaus mit Geschäftsräumen",
          "Neu gebaute Gebäude nach Gebäudeart und Jahr seit 1901/Einfamilienhaus",
          "Neu gebaute Gebäude nach Gebäudeart und Jahr seit 1901/Mehrfamilienhaus",
          "Neu gebaute Gebäude nach Gebäudeart und Jahr seit 1901/Nichtwohngebäude",
          "Neu gebaute Gebäude nach Gebäudeart und Jahr seit 1901/Wohnhaus mit Geschäftsräumen",
          "Neu gebaute Gebäude nach Gebäudeart und Jahr seit 1901/Einfamilienhaus",
          "Neu gebaute Gebäude nach Gebäudeart und Jahr seit 1901/Mehrfamilienhaus",
          "Neu gebaute Gebäude nach Gebäudeart und Jahr seit 1901/Nichtwohngebäude",
          "Neu gebaute Gebäude nach Gebäudeart und Jahr seit 1901/Wohnhaus mit Geschäftsräumen",
          "Neu gebaute Gebäude nach Gebäudeart und Jahr seit 1901/Einfamilienhaus",
          "Neu gebaute Gebäude nach Gebäudeart und Jahr seit 1901/Mehrfamilienhaus",
          "Neu gebaute Gebäude nach Gebäudeart und Jahr seit 1901/Nichtwohngebäude",
          "Neu gebaute Gebäude nach Gebäudeart und Jahr seit 1901/Wohnhaus mit Geschäftsräumen",
          "Neu gebaute Gebäude nach Gebäudeart und Jahr seit 1901/Einfamilienhaus",
          "Neu gebaute Gebäude nach Gebäudeart und Jahr seit 1901/Mehrfamilienhaus",
          "Neu gebaute Gebäude nach Gebäudeart und Jahr seit 1901/Nichtwohngebäude",
          "Neu gebaute Gebäude nach Gebäudeart und Jahr seit 1901/Wohnhaus mit Geschäftsräumen",
          "Neu gebaute Gebäude nach Gebäudeart und Jahr seit 1901/Einfamilienhaus",
          "Neu gebaute Gebäude nach Gebäudeart und Jahr seit 1901/Mehrfamilienhaus",
          "Neu gebaute Gebäude nach Gebäudeart und Jahr seit 1901/Nichtwohngebäude",
          "Neu gebaute Gebäude nach Gebäudeart und Jahr seit 1901/Wohnhaus mit Geschäftsräumen",
          "Neu gebaute Gebäude nach Gebäudeart und Jahr seit 1901/Einfamilienhaus",
          "Neu gebaute Gebäude nach Gebäudeart und Jahr seit 1901/Mehrfamilienhaus",
          "Neu gebaute Gebäude nach Gebäudeart und Jahr seit 1901/Nichtwohngebäude",
          "Neu gebaute Gebäude nach Gebäudeart und Jahr seit 1901/Wohnhaus mit Geschäftsräumen",
          "Neu gebaute Gebäude nach Gebäudeart und Jahr seit 1901/Einfamilienhaus",
          "Neu gebaute Gebäude nach Gebäudeart und Jahr seit 1901/Mehrfamilienhaus",
          "Neu gebaute Gebäude nach Gebäudeart und Jahr seit 1901/Nichtwohngebäude",
          "Neu gebaute Gebäude nach Gebäudeart und Jahr seit 1901/Wohnhaus mit Geschäftsräumen",
          "Neu gebaute Gebäude nach Gebäudeart und Jahr seit 1901/Einfamilienhaus",
          "Neu gebaute Gebäude nach Gebäudeart und Jahr seit 1901/Mehrfamilienhaus",
          "Neu gebaute Gebäude nach Gebäudeart und Jahr seit 1901/Nichtwohngebäude",
          "Neu gebaute Gebäude nach Gebäudeart und Jahr seit 1901/Wohnhaus mit Geschäftsräumen",
          "Neu gebaute Gebäude nach Gebäudeart und Jahr seit 1901/Einfamilienhaus",
          "Neu gebaute Gebäude nach Gebäudeart und Jahr seit 1901/Mehrfamilienhaus",
          "Neu gebaute Gebäude nach Gebäudeart und Jahr seit 1901/Nichtwohngebäude",
          "Neu gebaute Gebäude nach Gebäudeart und Jahr seit 1901/Wohnhaus mit Geschäftsräumen",
          "Neu gebaute Gebäude nach Gebäudeart und Jahr seit 1901/Einfamilienhaus",
          "Neu gebaute Gebäude nach Gebäudeart und Jahr seit 1901/Mehrfamilienhaus",
          "Neu gebaute Gebäude nach Gebäudeart und Jahr seit 1901/Nichtwohngebäude",
          "Neu gebaute Gebäude nach Gebäudeart und Jahr seit 1901/Wohnhaus mit Geschäftsräumen",
          "Neu gebaute Gebäude nach Gebäudeart und Jahr seit 1901/Einfamilienhaus",
          "Neu gebaute Gebäude nach Gebäudeart und Jahr seit 1901/Mehrfamilienhaus",
          "Neu gebaute Gebäude nach Gebäudeart und Jahr seit 1901/Nichtwohngebäude",
          "Neu gebaute Gebäude nach Gebäudeart und Jahr seit 1901/Wohnhaus mit Geschäftsräumen",
          "Neu gebaute Gebäude nach Gebäudeart und Jahr seit 1901/Einfamilienhaus",
          "Neu gebaute Gebäude nach Gebäudeart und Jahr seit 1901/Mehrfamilienhaus",
          "Neu gebaute Gebäude nach Gebäudeart und Jahr seit 1901/Nichtwohngebäude",
          "Neu gebaute Gebäude nach Gebäudeart und Jahr seit 1901/Wohnhaus mit Geschäftsräumen",
          "Neu gebaute Gebäude nach Gebäudeart und Jahr seit 1901/Einfamilienhaus",
          "Neu gebaute Gebäude nach Gebäudeart und Jahr seit 1901/Mehrfamilienhaus",
          "Neu gebaute Gebäude nach Gebäudeart und Jahr seit 1901/Nichtwohngebäude",
          "Neu gebaute Gebäude nach Gebäudeart und Jahr seit 1901/Wohnhaus mit Geschäftsräumen",
          "Neu gebaute Gebäude nach Gebäudeart und Jahr seit 1901/Einfamilienhaus",
          "Neu gebaute Gebäude nach Gebäudeart und Jahr seit 1901/Mehrfamilienhaus",
          "Neu gebaute Gebäude nach Gebäudeart und Jahr seit 1901/Nichtwohngebäude",
          "Neu gebaute Gebäude nach Gebäudeart und Jahr seit 1901/Wohnhaus mit Geschäftsräumen",
          "Neu gebaute Gebäude nach Gebäudeart und Jahr seit 1901/Einfamilienhaus",
          "Neu gebaute Gebäude nach Gebäudeart und Jahr seit 1901/Mehrfamilienhaus",
          "Neu gebaute Gebäude nach Gebäudeart und Jahr seit 1901/Nichtwohngebäude",
          "Neu gebaute Gebäude nach Gebäudeart und Jahr seit 1901/Wohnhaus mit Geschäftsräumen",
          "Neu gebaute Gebäude nach Gebäudeart und Jahr seit 1901/Einfamilienhaus",
          "Neu gebaute Gebäude nach Gebäudeart und Jahr seit 1901/Mehrfamilienhaus",
          "Neu gebaute Gebäude nach Gebäudeart und Jahr seit 1901/Nichtwohngebäude",
          "Neu gebaute Gebäude nach Gebäudeart und Jahr seit 1901/Wohnhaus mit Geschäftsräumen",
          "Neu gebaute Gebäude nach Gebäudeart und Jahr seit 1901/Einfamilienhaus",
          "Neu gebaute Gebäude nach Gebäudeart und Jahr seit 1901/Mehrfamilienhaus",
          "Neu gebaute Gebäude nach Gebäudeart und Jahr seit 1901/Nichtwohngebäude",
          "Neu gebaute Gebäude nach Gebäudeart und Jahr seit 1901/Wohnhaus mit Geschäftsräumen",
          "Neu gebaute Gebäude nach Gebäudeart und Jahr seit 1901/Einfamilienhaus",
          "Neu gebaute Gebäude nach Gebäudeart und Jahr seit 1901/Mehrfamilienhaus",
          "Neu gebaute Gebäude nach Gebäudeart und Jahr seit 1901/Nichtwohngebäude",
          "Neu gebaute Gebäude nach Gebäudeart und Jahr seit 1901/Wohnhaus mit Geschäftsräumen",
          "Neu gebaute Gebäude nach Gebäudeart und Jahr seit 1901/Einfamilienhaus",
          "Neu gebaute Gebäude nach Gebäudeart und Jahr seit 1901/Mehrfamilienhaus",
          "Neu gebaute Gebäude nach Gebäudeart und Jahr seit 1901/Nichtwohngebäude",
          "Neu gebaute Gebäude nach Gebäudeart und Jahr seit 1901/Wohnhaus mit Geschäftsräumen",
          "Neu gebaute Gebäude nach Gebäudeart und Jahr seit 1901/Einfamilienhaus",
          "Neu gebaute Gebäude nach Gebäudeart und Jahr seit 1901/Mehrfamilienhaus",
          "Neu gebaute Gebäude nach Gebäudeart und Jahr seit 1901/Nichtwohngebäude",
          "Neu gebaute Gebäude nach Gebäudeart und Jahr seit 1901/Wohnhaus mit Geschäftsräumen",
          "Neu gebaute Gebäude nach Gebäudeart und Jahr seit 1901/Einfamilienhaus",
          "Neu gebaute Gebäude nach Gebäudeart und Jahr seit 1901/Mehrfamilienhaus",
          "Neu gebaute Gebäude nach Gebäudeart und Jahr seit 1901/Nichtwohngebäude",
          "Neu gebaute Gebäude nach Gebäudeart und Jahr seit 1901/Wohnhaus mit Geschäftsräumen",
          "Neu gebaute Gebäude nach Gebäudeart und Jahr seit 1901/Einfamilienhaus",
          "Neu gebaute Gebäude nach Gebäudeart und Jahr seit 1901/Mehrfamilienhaus",
          "Neu gebaute Gebäude nach Gebäudeart und Jahr seit 1901/Nichtwohngebäude",
          "Neu gebaute Gebäude nach Gebäudeart und Jahr seit 1901/Wohnhaus mit Geschäftsräumen",
          "Neu gebaute Gebäude nach Gebäudeart und Jahr seit 1901/Einfamilienhaus",
          "Neu gebaute Gebäude nach Gebäudeart und Jahr seit 1901/Mehrfamilienhaus",
          "Neu gebaute Gebäude nach Gebäudeart und Jahr seit 1901/Nichtwohngebäude",
          "Neu gebaute Gebäude nach Gebäudeart und Jahr seit 1901/Wohnhaus mit Geschäftsräumen",
          "Neu gebaute Gebäude nach Gebäudeart und Jahr seit 1901/Einfamilienhaus",
          "Neu gebaute Gebäude nach Gebäudeart und Jahr seit 1901/Mehrfamilienhaus",
          "Neu gebaute Gebäude nach Gebäudeart und Jahr seit 1901/Nichtwohngebäude",
          "Neu gebaute Gebäude nach Gebäudeart und Jahr seit 1901/Wohnhaus mit Geschäftsräumen",
          "Neu gebaute Gebäude nach Gebäudeart und Jahr seit 1901/Einfamilienhaus",
          "Neu gebaute Gebäude nach Gebäudeart und Jahr seit 1901/Mehrfamilienhaus",
          "Neu gebaute Gebäude nach Gebäudeart und Jahr seit 1901/Nichtwohngebäude",
          "Neu gebaute Gebäude nach Gebäudeart und Jahr seit 1901/Wohnhaus mit Geschäftsräumen",
          "Neu gebaute Gebäude nach Gebäudeart und Jahr seit 1901/Einfamilienhaus",
          "Neu gebaute Gebäude nach Gebäudeart und Jahr seit 1901/Mehrfamilienhaus",
          "Neu gebaute Gebäude nach Gebäudeart und Jahr seit 1901/Nichtwohngebäude",
          "Neu gebaute Gebäude nach Gebäudeart und Jahr seit 1901/Wohnhaus mit Geschäftsräumen",
          "Neu gebaute Gebäude nach Gebäudeart und Jahr seit 1901/Einfamilienhaus",
          "Neu gebaute Gebäude nach Gebäudeart und Jahr seit 1901/Mehrfamilienhaus",
          "Neu gebaute Gebäude nach Gebäudeart und Jahr seit 1901/Nichtwohngebäude",
          "Neu gebaute Gebäude nach Gebäudeart und Jahr seit 1901/Wohnhaus mit Geschäftsräumen",
          "Neu gebaute Gebäude nach Gebäudeart und Jahr seit 1901/Einfamilienhaus",
          "Neu gebaute Gebäude nach Gebäudeart und Jahr seit 1901/Mehrfamilienhaus",
          "Neu gebaute Gebäude nach Gebäudeart und Jahr seit 1901/Nichtwohngebäude",
          "Neu gebaute Gebäude nach Gebäudeart und Jahr seit 1901/Wohnhaus mit Geschäftsräumen",
          "Neu gebaute Gebäude nach Gebäudeart und Jahr seit 1901/Einfamilienhaus",
          "Neu gebaute Gebäude nach Gebäudeart und Jahr seit 1901/Mehrfamilienhaus",
          "Neu gebaute Gebäude nach Gebäudeart und Jahr seit 1901/Nichtwohngebäude",
          "Neu gebaute Gebäude nach Gebäudeart und Jahr seit 1901/Wohnhaus mit Geschäftsräumen",
          "Neu gebaute Gebäude nach Gebäudeart und Jahr seit 1901/Einfamilienhaus",
          "Neu gebaute Gebäude nach Gebäudeart und Jahr seit 1901/Mehrfamilienhaus",
          "Neu gebaute Gebäude nach Gebäudeart und Jahr seit 1901/Nichtwohngebäude",
          "Neu gebaute Gebäude nach Gebäudeart und Jahr seit 1901/Wohnhaus mit Geschäftsräumen",
          "Neu gebaute Gebäude nach Gebäudeart und Jahr seit 1901/Einfamilienhaus",
          "Neu gebaute Gebäude nach Gebäudeart und Jahr seit 1901/Mehrfamilienhaus",
          "Neu gebaute Gebäude nach Gebäudeart und Jahr seit 1901/Nichtwohngebäude",
          "Neu gebaute Gebäude nach Gebäudeart und Jahr seit 1901/Wohnhaus mit Geschäftsräumen",
          "Neu gebaute Gebäude nach Gebäudeart und Jahr seit 1901/Einfamilienhaus",
          "Neu gebaute Gebäude nach Gebäudeart und Jahr seit 1901/Mehrfamilienhaus",
          "Neu gebaute Gebäude nach Gebäudeart und Jahr seit 1901/Nichtwohngebäude",
          "Neu gebaute Gebäude nach Gebäudeart und Jahr seit 1901/Wohnhaus mit Geschäftsräumen",
          "Neu gebaute Gebäude nach Gebäudeart und Jahr seit 1901/Einfamilienhaus",
          "Neu gebaute Gebäude nach Gebäudeart und Jahr seit 1901/Mehrfamilienhaus",
          "Neu gebaute Gebäude nach Gebäudeart und Jahr seit 1901/Nichtwohngebäude",
          "Neu gebaute Gebäude nach Gebäudeart und Jahr seit 1901/Wohnhaus mit Geschäftsräumen",
          "Neu gebaute Gebäude nach Gebäudeart und Jahr seit 1901/Einfamilienhaus",
          "Neu gebaute Gebäude nach Gebäudeart und Jahr seit 1901/Mehrfamilienhaus",
          "Neu gebaute Gebäude nach Gebäudeart und Jahr seit 1901/Nichtwohngebäude",
          "Neu gebaute Gebäude nach Gebäudeart und Jahr seit 1901/Wohnhaus mit Geschäftsräumen",
          "Neu gebaute Gebäude nach Gebäudeart und Jahr seit 1901/Einfamilienhaus",
          "Neu gebaute Gebäude nach Gebäudeart und Jahr seit 1901/Mehrfamilienhaus",
          "Neu gebaute Gebäude nach Gebäudeart und Jahr seit 1901/Nichtwohngebäude",
          "Neu gebaute Gebäude nach Gebäudeart und Jahr seit 1901/Wohnhaus mit Geschäftsräumen",
          "Neu gebaute Gebäude nach Gebäudeart und Jahr seit 1901/Einfamilienhaus",
          "Neu gebaute Gebäude nach Gebäudeart und Jahr seit 1901/Mehrfamilienhaus",
          "Neu gebaute Gebäude nach Gebäudeart und Jahr seit 1901/Nichtwohngebäude",
          "Neu gebaute Gebäude nach Gebäudeart und Jahr seit 1901/Wohnhaus mit Geschäftsräumen",
          "Neu gebaute Gebäude nach Gebäudeart und Jahr seit 1901/Einfamilienhaus",
          "Neu gebaute Gebäude nach Gebäudeart und Jahr seit 1901/Mehrfamilienhaus",
          "Neu gebaute Gebäude nach Gebäudeart und Jahr seit 1901/Nichtwohngebäude",
          "Neu gebaute Gebäude nach Gebäudeart und Jahr seit 1901/Wohnhaus mit Geschäftsräumen",
          "Neu gebaute Gebäude nach Gebäudeart und Jahr seit 1901/Einfamilienhaus",
          "Neu gebaute Gebäude nach Gebäudeart und Jahr seit 1901/Mehrfamilienhaus",
          "Neu gebaute Gebäude nach Gebäudeart und Jahr seit 1901/Nichtwohngebäude",
          "Neu gebaute Gebäude nach Gebäudeart und Jahr seit 1901/Wohnhaus mit Geschäftsräumen",
          "Neu gebaute Gebäude nach Gebäudeart und Jahr seit 1901/Einfamilienhaus",
          "Neu gebaute Gebäude nach Gebäudeart und Jahr seit 1901/Mehrfamilienhaus",
          "Neu gebaute Gebäude nach Gebäudeart und Jahr seit 1901/Nichtwohngebäude",
          "Neu gebaute Gebäude nach Gebäudeart und Jahr seit 1901/Wohnhaus mit Geschäftsräumen",
          "Neu gebaute Gebäude nach Gebäudeart und Jahr seit 1901/Einfamilienhaus",
          "Neu gebaute Gebäude nach Gebäudeart und Jahr seit 1901/Mehrfamilienhaus",
          "Neu gebaute Gebäude nach Gebäudeart und Jahr seit 1901/Nichtwohngebäude",
          "Neu gebaute Gebäude nach Gebäudeart und Jahr seit 1901/Wohnhaus mit Geschäftsräumen",
          "Neu gebaute Gebäude nach Gebäudeart und Jahr seit 1901/Mehrfamilienhaus",
          "Neu gebaute Gebäude nach Gebäudeart und Jahr seit 1901/Nichtwohngebäude",
          "Neu gebaute Gebäude nach Gebäudeart und Jahr seit 1901/Wohnhaus mit Geschäftsräumen",
          "Neu gebaute Gebäude nach Gebäudeart und Jahr seit 1901/Einfamilienhaus",
          "Neu gebaute Gebäude nach Gebäudeart und Jahr seit 1901/Mehrfamilienhaus",
          "Neu gebaute Gebäude nach Gebäudeart und Jahr seit 1901/Nichtwohngebäude",
          "Neu gebaute Gebäude nach Gebäudeart und Jahr seit 1901/Wohnhaus mit Geschäftsräumen",
          "Neu gebaute Gebäude nach Gebäudeart und Jahr seit 1901/Einfamilienhaus",
          "Neu gebaute Gebäude nach Gebäudeart und Jahr seit 1901/Mehrfamilienhaus",
          "Neu gebaute Gebäude nach Gebäudeart und Jahr seit 1901/Nichtwohngebäude",
          "Neu gebaute Gebäude nach Gebäudeart und Jahr seit 1901/Wohnhaus mit Geschäftsräumen",
          "Neu gebaute Gebäude nach Gebäudeart und Jahr seit 1901/Einfamilienhaus",
          "Neu gebaute Gebäude nach Gebäudeart und Jahr seit 1901/Mehrfamilienhaus",
          "Neu gebaute Gebäude nach Gebäudeart und Jahr seit 1901/Nichtwohngebäude",
          "Neu gebaute Gebäude nach Gebäudeart und Jahr seit 1901/Wohnhaus mit Geschäftsräumen",
          "Neu gebaute Gebäude nach Gebäudeart und Jahr seit 1901/Einfamilienhaus",
          "Neu gebaute Gebäude nach Gebäudeart und Jahr seit 1901/Mehrfamilienhaus",
          "Neu gebaute Gebäude nach Gebäudeart und Jahr seit 1901/Nichtwohngebäude",
          "Neu gebaute Gebäude nach Gebäudeart und Jahr seit 1901/Wohnhaus mit Geschäftsräumen",
          "Neu gebaute Gebäude nach Gebäudeart und Jahr seit 1901/Einfamilienhaus",
          "Neu gebaute Gebäude nach Gebäudeart und Jahr seit 1901/Mehrfamilienhaus",
          "Neu gebaute Gebäude nach Gebäudeart und Jahr seit 1901/Nichtwohngebäude",
          "Neu gebaute Gebäude nach Gebäudeart und Jahr seit 1901/Wohnhaus mit Geschäftsräumen",
          "Neu gebaute Gebäude nach Gebäudeart und Jahr seit 1901/Einfamilienhaus",
          "Neu gebaute Gebäude nach Gebäudeart und Jahr seit 1901/Mehrfamilienhaus",
          "Neu gebaute Gebäude nach Gebäudeart und Jahr seit 1901/Nichtwohngebäude",
          "Neu gebaute Gebäude nach Gebäudeart und Jahr seit 1901/Wohnhaus mit Geschäftsräumen",
          "Neu gebaute Gebäude nach Gebäudeart und Jahr seit 1901/Einfamilienhaus",
          "Neu gebaute Gebäude nach Gebäudeart und Jahr seit 1901/Mehrfamilienhaus",
          "Neu gebaute Gebäude nach Gebäudeart und Jahr seit 1901/Nichtwohngebäude",
          "Neu gebaute Gebäude nach Gebäudeart und Jahr seit 1901/Wohnhaus mit Geschäftsräumen",
          "Neu gebaute Gebäude nach Gebäudeart und Jahr seit 1901/Einfamilienhaus",
          "Neu gebaute Gebäude nach Gebäudeart und Jahr seit 1901/Mehrfamilienhaus",
          "Neu gebaute Gebäude nach Gebäudeart und Jahr seit 1901/Nichtwohngebäude",
          "Neu gebaute Gebäude nach Gebäudeart und Jahr seit 1901/Wohnhaus mit Geschäftsräumen",
          "Neu gebaute Gebäude nach Gebäudeart und Jahr seit 1901/Einfamilienhaus",
          "Neu gebaute Gebäude nach Gebäudeart und Jahr seit 1901/Mehrfamilienhaus",
          "Neu gebaute Gebäude nach Gebäudeart und Jahr seit 1901/Nichtwohngebäude",
          "Neu gebaute Gebäude nach Gebäudeart und Jahr seit 1901/Wohnhaus mit Geschäftsräumen",
          "Neu gebaute Gebäude nach Gebäudeart und Jahr seit 1901/Einfamilienhaus",
          "Neu gebaute Gebäude nach Gebäudeart und Jahr seit 1901/Mehrfamilienhaus",
          "Neu gebaute Gebäude nach Gebäudeart und Jahr seit 1901/Nichtwohngebäude",
          "Neu gebaute Gebäude nach Gebäudeart und Jahr seit 1901/Wohnhaus mit Geschäftsräumen",
          "Neu gebaute Gebäude nach Gebäudeart und Jahr seit 1901/Einfamilienhaus",
          "Neu gebaute Gebäude nach Gebäudeart und Jahr seit 1901/Mehrfamilienhaus",
          "Neu gebaute Gebäude nach Gebäudeart und Jahr seit 1901/Nichtwohngebäude",
          "Neu gebaute Gebäude nach Gebäudeart und Jahr seit 1901/Wohnhaus mit Geschäftsräumen",
          "Neu gebaute Gebäude nach Gebäudeart und Jahr seit 1901/Einfamilienhaus",
          "Neu gebaute Gebäude nach Gebäudeart und Jahr seit 1901/Mehrfamilienhaus",
          "Neu gebaute Gebäude nach Gebäudeart und Jahr seit 1901/Nichtwohngebäude",
          "Neu gebaute Gebäude nach Gebäudeart und Jahr seit 1901/Wohnhaus mit Geschäftsräumen",
          "Neu gebaute Gebäude nach Gebäudeart und Jahr seit 1901/Einfamilienhaus",
          "Neu gebaute Gebäude nach Gebäudeart und Jahr seit 1901/Mehrfamilienhaus",
          "Neu gebaute Gebäude nach Gebäudeart und Jahr seit 1901/Nichtwohngebäude",
          "Neu gebaute Gebäude nach Gebäudeart und Jahr seit 1901/Wohnhaus mit Geschäftsräumen",
          "Neu gebaute Gebäude nach Gebäudeart und Jahr seit 1901/Einfamilienhaus",
          "Neu gebaute Gebäude nach Gebäudeart und Jahr seit 1901/Mehrfamilienhaus",
          "Neu gebaute Gebäude nach Gebäudeart und Jahr seit 1901/Nichtwohngebäude",
          "Neu gebaute Gebäude nach Gebäudeart und Jahr seit 1901/Wohnhaus mit Geschäftsräumen",
          "Neu gebaute Gebäude nach Gebäudeart und Jahr seit 1901/Einfamilienhaus",
          "Neu gebaute Gebäude nach Gebäudeart und Jahr seit 1901/Mehrfamilienhaus",
          "Neu gebaute Gebäude nach Gebäudeart und Jahr seit 1901/Nichtwohngebäude",
          "Neu gebaute Gebäude nach Gebäudeart und Jahr seit 1901/Wohnhaus mit Geschäftsräumen",
          "Neu gebaute Gebäude nach Gebäudeart und Jahr seit 1901/Einfamilienhaus",
          "Neu gebaute Gebäude nach Gebäudeart und Jahr seit 1901/Mehrfamilienhaus",
          "Neu gebaute Gebäude nach Gebäudeart und Jahr seit 1901/Nichtwohngebäude",
          "Neu gebaute Gebäude nach Gebäudeart und Jahr seit 1901/Wohnhaus mit Geschäftsräumen",
          "Neu gebaute Gebäude nach Gebäudeart und Jahr seit 1901/Einfamilienhaus",
          "Neu gebaute Gebäude nach Gebäudeart und Jahr seit 1901/Mehrfamilienhaus",
          "Neu gebaute Gebäude nach Gebäudeart und Jahr seit 1901/Nichtwohngebäude",
          "Neu gebaute Gebäude nach Gebäudeart und Jahr seit 1901/Wohnhaus mit Geschäftsräumen",
          "Neu gebaute Gebäude nach Gebäudeart und Jahr seit 1901/Einfamilienhaus",
          "Neu gebaute Gebäude nach Gebäudeart und Jahr seit 1901/Mehrfamilienhaus",
          "Neu gebaute Gebäude nach Gebäudeart und Jahr seit 1901/Nichtwohngebäude",
          "Neu gebaute Gebäude nach Gebäudeart und Jahr seit 1901/Wohnhaus mit Geschäftsräumen",
          "Neu gebaute Gebäude nach Gebäudeart und Jahr seit 1901/Einfamilienhaus",
          "Neu gebaute Gebäude nach Gebäudeart und Jahr seit 1901/Mehrfamilienhaus",
          "Neu gebaute Gebäude nach Gebäudeart und Jahr seit 1901/Nichtwohngebäude",
          "Neu gebaute Gebäude nach Gebäudeart und Jahr seit 1901/Wohnhaus mit Geschäftsräumen",
          "Neu gebaute Gebäude nach Gebäudeart und Jahr seit 1901/Einfamilienhaus",
          "Neu gebaute Gebäude nach Gebäudeart und Jahr seit 1901/Mehrfamilienhaus",
          "Neu gebaute Gebäude nach Gebäudeart und Jahr seit 1901/Nichtwohngebäude",
          "Neu gebaute Gebäude nach Gebäudeart und Jahr seit 1901/Wohnhaus mit Geschäftsräumen",
          "Neu gebaute Gebäude nach Gebäudeart und Jahr seit 1901/Einfamilienhaus",
          "Neu gebaute Gebäude nach Gebäudeart und Jahr seit 1901/Mehrfamilienhaus",
          "Neu gebaute Gebäude nach Gebäudeart und Jahr seit 1901/Nichtwohngebäude",
          "Neu gebaute Gebäude nach Gebäudeart und Jahr seit 1901/Wohnhaus mit Geschäftsräumen",
          "Neu gebaute Gebäude nach Gebäudeart und Jahr seit 1901/Einfamilienhaus",
          "Neu gebaute Gebäude nach Gebäudeart und Jahr seit 1901/Mehrfamilienhaus",
          "Neu gebaute Gebäude nach Gebäudeart und Jahr seit 1901/Nichtwohngebäude",
          "Neu gebaute Gebäude nach Gebäudeart und Jahr seit 1901/Wohnhaus mit Geschäftsräumen",
          "Neu gebaute Gebäude nach Gebäudeart und Jahr seit 1901/Einfamilienhaus",
          "Neu gebaute Gebäude nach Gebäudeart und Jahr seit 1901/Mehrfamilienhaus",
          "Neu gebaute Gebäude nach Gebäudeart und Jahr seit 1901/Nichtwohngebäude",
          "Neu gebaute Gebäude nach Gebäudeart und Jahr seit 1901/Wohnhaus mit Geschäftsräumen",
          "Neu gebaute Gebäude nach Gebäudeart und Jahr seit 1901/Einfamilienhaus",
          "Neu gebaute Gebäude nach Gebäudeart und Jahr seit 1901/Mehrfamilienhaus",
          "Neu gebaute Gebäude nach Gebäudeart und Jahr seit 1901/Nichtwohngebäude",
          "Neu gebaute Gebäude nach Gebäudeart und Jahr seit 1901/Wohnhaus mit Geschäftsräumen",
          "Neu gebaute Gebäude nach Gebäudeart und Jahr seit 1901/Einfamilienhaus",
          "Neu gebaute Gebäude nach Gebäudeart und Jahr seit 1901/Mehrfamilienhaus",
          "Neu gebaute Gebäude nach Gebäudeart und Jahr seit 1901/Nichtwohngebäude",
          "Neu gebaute Gebäude nach Gebäudeart und Jahr seit 1901/Wohnhaus mit Geschäftsräumen",
          "Neu gebaute Gebäude nach Gebäudeart und Jahr seit 1901/Einfamilienhaus",
          "Neu gebaute Gebäude nach Gebäudeart und Jahr seit 1901/Mehrfamilienhaus",
          "Neu gebaute Gebäude nach Gebäudeart und Jahr seit 1901/Nichtwohngebäude",
          "Neu gebaute Gebäude nach Gebäudeart und Jahr seit 1901/Wohnhaus mit Geschäftsräumen",
          "Neu gebaute Gebäude nach Gebäudeart und Jahr seit 1901/Einfamilienhaus",
          "Neu gebaute Gebäude nach Gebäudeart und Jahr seit 1901/Mehrfamilienhaus",
          "Neu gebaute Gebäude nach Gebäudeart und Jahr seit 1901/Nichtwohngebäude",
          "Neu gebaute Gebäude nach Gebäudeart und Jahr seit 1901/Wohnhaus mit Geschäftsräumen",
          "Neu gebaute Gebäude nach Gebäudeart und Jahr seit 1901/Einfamilienhaus",
          "Neu gebaute Gebäude nach Gebäudeart und Jahr seit 1901/Mehrfamilienhaus",
          "Neu gebaute Gebäude nach Gebäudeart und Jahr seit 1901/Nichtwohngebäude",
          "Neu gebaute Gebäude nach Gebäudeart und Jahr seit 1901/Wohnhaus mit Geschäftsräumen",
          "Neu gebaute Gebäude nach Gebäudeart und Jahr seit 1901/Einfamilienhaus",
          "Neu gebaute Gebäude nach Gebäudeart und Jahr seit 1901/Mehrfamilienhaus",
          "Neu gebaute Gebäude nach Gebäudeart und Jahr seit 1901/Nichtwohngebäude",
          "Neu gebaute Gebäude nach Gebäudeart und Jahr seit 1901/Wohnhaus mit Geschäftsräumen",
          "Neu gebaute Gebäude nach Gebäudeart und Jahr seit 1901/Einfamilienhaus",
          "Neu gebaute Gebäude nach Gebäudeart und Jahr seit 1901/Mehrfamilienhaus",
          "Neu gebaute Gebäude nach Gebäudeart und Jahr seit 1901/Nichtwohngebäude",
          "Neu gebaute Gebäude nach Gebäudeart und Jahr seit 1901/Wohnhaus mit Geschäftsräumen",
          "Neu gebaute Gebäude nach Gebäudeart und Jahr seit 1901/Einfamilienhaus",
          "Neu gebaute Gebäude nach Gebäudeart und Jahr seit 1901/Mehrfamilienhaus",
          "Neu gebaute Gebäude nach Gebäudeart und Jahr seit 1901/Nichtwohngebäude",
          "Neu gebaute Gebäude nach Gebäudeart und Jahr seit 1901/Wohnhaus mit Geschäftsräumen",
          "Neu gebaute Gebäude nach Gebäudeart und Jahr seit 1901/Einfamilienhaus",
          "Neu gebaute Gebäude nach Gebäudeart und Jahr seit 1901/Mehrfamilienhaus",
          "Neu gebaute Gebäude nach Gebäudeart und Jahr seit 1901/Nichtwohngebäude",
          "Neu gebaute Gebäude nach Gebäudeart und Jahr seit 1901/Wohnhaus mit Geschäftsräumen",
          "Neu gebaute Gebäude nach Gebäudeart und Jahr seit 1901/Einfamilienhaus",
          "Neu gebaute Gebäude nach Gebäudeart und Jahr seit 1901/Mehrfamilienhaus",
          "Neu gebaute Gebäude nach Gebäudeart und Jahr seit 1901/Nichtwohngebäude",
          "Neu gebaute Gebäude nach Gebäudeart und Jahr seit 1901/Wohnhaus mit Geschäftsräumen",
          "Neu gebaute Gebäude nach Gebäudeart und Jahr seit 1901/Einfamilienhaus",
          "Neu gebaute Gebäude nach Gebäudeart und Jahr seit 1901/Mehrfamilienhaus",
          "Neu gebaute Gebäude nach Gebäudeart und Jahr seit 1901/Nichtwohngebäude",
          "Neu gebaute Gebäude nach Gebäudeart und Jahr seit 1901/Wohnhaus mit Geschäftsräumen",
          "Neu gebaute Gebäude nach Gebäudeart und Jahr seit 1901",
          "Neu gebaute Gebäude nach Gebäudeart und Jahr seit 1901",
          "Neu gebaute Gebäude nach Gebäudeart und Jahr seit 1901",
          "Neu gebaute Gebäude nach Gebäudeart und Jahr seit 1901",
          ""
         ],
         "root": {
          "color": "grey"
         },
         "type": "treemap",
         "values": [
          17,
          36,
          60,
          29,
          17,
          38,
          41,
          28,
          34,
          47,
          64,
          28,
          21,
          47,
          33,
          22,
          30,
          72,
          43,
          46,
          37,
          73,
          78,
          54,
          39,
          93,
          84,
          59,
          56,
          146,
          76,
          52,
          74,
          182,
          93,
          103,
          84,
          207,
          95,
          114,
          68,
          199,
          90,
          79,
          59,
          82,
          32,
          40,
          81,
          69,
          67,
          35,
          42,
          63,
          37,
          24,
          36,
          27,
          46,
          20,
          35,
          35,
          44,
          14,
          31,
          53,
          40,
          10,
          26,
          64,
          32,
          3,
          86,
          46,
          46,
          6,
          106,
          40,
          82,
          3,
          58,
          40,
          49,
          17,
          116,
          69,
          73,
          23,
          193,
          198,
          116,
          46,
          292,
          103,
          120,
          51,
          295,
          212,
          123,
          74,
          228,
          211,
          129,
          102,
          214,
          315,
          178,
          100,
          440,
          301,
          178,
          118,
          166,
          316,
          152,
          124,
          429,
          469,
          221,
          181,
          227,
          441,
          218,
          187,
          285,
          190,
          143,
          76,
          302,
          251,
          124,
          102,
          177,
          176,
          94,
          55,
          78,
          60,
          116,
          16,
          141,
          100,
          82,
          22,
          182,
          157,
          72,
          40,
          139,
          236,
          141,
          53,
          81,
          101,
          117,
          21,
          96,
          95,
          120,
          23,
          35,
          142,
          123,
          35,
          271,
          143,
          173,
          19,
          521,
          195,
          83,
          26,
          458,
          222,
          84,
          32,
          590,
          219,
          110,
          53,
          494,
          186,
          116,
          53,
          496,
          382,
          296,
          36,
          384,
          324,
          182,
          16,
          186,
          412,
          152,
          38,
          190,
          509,
          204,
          67,
          154,
          532,
          213,
          60,
          212,
          372,
          250,
          49,
          76,
          409,
          179,
          43,
          58,
          340,
          251,
          34,
          51,
          206,
          318,
          29,
          66,
          234,
          281,
          34,
          16,
          275,
          309,
          32,
          7,
          252,
          223,
          38,
          10,
          279,
          199,
          36,
          12,
          176,
          184,
          41,
          16,
          174,
          217,
          29,
          32,
          115,
          213,
          38,
          18,
          193,
          237,
          23,
          14,
          178,
          206,
          29,
          11,
          139,
          223,
          16,
          4,
          113,
          266,
          20,
          5,
          153,
          200,
          27,
          20,
          161,
          185,
          22,
          2,
          148,
          138,
          19,
          12,
          122,
          170,
          36,
          37,
          132,
          237,
          48,
          13,
          137,
          273,
          34,
          21,
          159,
          201,
          21,
          12,
          99,
          361,
          16,
          2,
          95,
          286,
          25,
          18,
          91,
          322,
          23,
          35,
          69,
          209,
          5,
          30,
          114,
          254,
          16,
          14,
          123,
          201,
          20,
          43,
          184,
          195,
          34,
          66,
          165,
          255,
          49,
          10,
          90,
          142,
          34,
          14,
          97,
          141,
          36,
          6,
          99,
          153,
          43,
          14,
          85,
          105,
          31,
          53,
          60,
          33,
          6,
          44,
          54,
          22,
          9,
          36,
          50,
          32,
          58,
          32,
          58,
          27,
          52,
          81,
          90,
          67,
          17,
          41,
          102,
          28,
          31,
          79,
          127,
          24,
          19,
          61,
          125,
          24,
          9,
          39,
          111,
          30,
          7,
          53,
          67,
          11,
          20,
          33,
          74,
          8,
          34,
          66,
          56,
          7,
          15,
          67,
          51,
          9,
          44,
          84,
          96,
          12,
          16,
          73,
          70,
          19,
          29,
          82,
          60,
          15,
          50,
          117,
          61,
          13,
          8,
          76,
          61,
          21,
          14,
          72,
          56,
          23,
          15,
          91,
          88,
          18,
          68,
          143,
          100,
          31,
          14,
          118,
          28,
          9,
          6,
          107,
          55,
          13,
          14,
          107,
          112,
          17,
          8,
          185,
          79,
          22,
          80,
          130,
          103,
          32,
          35,
          116,
          78,
          44,
          15,
          107,
          74,
          32,
          43,
          144,
          91,
          63,
          18,
          135,
          61,
          49,
          38,
          134,
          83,
          66,
          13,
          165,
          98,
          46,
          11,
          114,
          66,
          33,
          11,
          98,
          69,
          24,
          11,
          113,
          77,
          34,
          10712,
          17900,
          15760,
          4623,
          48995
         ]
        }
       ],
       "layout": {
        "coloraxis": {
         "colorbar": {
          "title": {
           "text": "sum_Neubau"
          }
         },
         "colorscale": [
          [
           0,
           "#00224e"
          ],
          [
           0.1111111111111111,
           "#123570"
          ],
          [
           0.2222222222222222,
           "#3b496c"
          ],
          [
           0.3333333333333333,
           "#575d6d"
          ],
          [
           0.4444444444444444,
           "#707173"
          ],
          [
           0.5555555555555556,
           "#8a8678"
          ],
          [
           0.6666666666666666,
           "#a59c74"
          ],
          [
           0.7777777777777778,
           "#c3b369"
          ],
          [
           0.8888888888888888,
           "#e1cc55"
          ],
          [
           1,
           "#fee838"
          ]
         ]
        },
        "height": 500,
        "legend": {
         "tracegroupgap": 0
        },
        "margin": {
         "b": 25,
         "l": 25,
         "r": 250,
         "t": 50
        },
        "template": {
         "data": {
          "bar": [
           {
            "error_x": {
             "color": "#2a3f5f"
            },
            "error_y": {
             "color": "#2a3f5f"
            },
            "marker": {
             "line": {
              "color": "#E5ECF6",
              "width": 0.5
             },
             "pattern": {
              "fillmode": "overlay",
              "size": 10,
              "solidity": 0.2
             }
            },
            "type": "bar"
           }
          ],
          "barpolar": [
           {
            "marker": {
             "line": {
              "color": "#E5ECF6",
              "width": 0.5
             },
             "pattern": {
              "fillmode": "overlay",
              "size": 10,
              "solidity": 0.2
             }
            },
            "type": "barpolar"
           }
          ],
          "carpet": [
           {
            "aaxis": {
             "endlinecolor": "#2a3f5f",
             "gridcolor": "white",
             "linecolor": "white",
             "minorgridcolor": "white",
             "startlinecolor": "#2a3f5f"
            },
            "baxis": {
             "endlinecolor": "#2a3f5f",
             "gridcolor": "white",
             "linecolor": "white",
             "minorgridcolor": "white",
             "startlinecolor": "#2a3f5f"
            },
            "type": "carpet"
           }
          ],
          "choropleth": [
           {
            "colorbar": {
             "outlinewidth": 0,
             "ticks": ""
            },
            "type": "choropleth"
           }
          ],
          "contour": [
           {
            "colorbar": {
             "outlinewidth": 0,
             "ticks": ""
            },
            "colorscale": [
             [
              0,
              "#0d0887"
             ],
             [
              0.1111111111111111,
              "#46039f"
             ],
             [
              0.2222222222222222,
              "#7201a8"
             ],
             [
              0.3333333333333333,
              "#9c179e"
             ],
             [
              0.4444444444444444,
              "#bd3786"
             ],
             [
              0.5555555555555556,
              "#d8576b"
             ],
             [
              0.6666666666666666,
              "#ed7953"
             ],
             [
              0.7777777777777778,
              "#fb9f3a"
             ],
             [
              0.8888888888888888,
              "#fdca26"
             ],
             [
              1,
              "#f0f921"
             ]
            ],
            "type": "contour"
           }
          ],
          "contourcarpet": [
           {
            "colorbar": {
             "outlinewidth": 0,
             "ticks": ""
            },
            "type": "contourcarpet"
           }
          ],
          "heatmap": [
           {
            "colorbar": {
             "outlinewidth": 0,
             "ticks": ""
            },
            "colorscale": [
             [
              0,
              "#0d0887"
             ],
             [
              0.1111111111111111,
              "#46039f"
             ],
             [
              0.2222222222222222,
              "#7201a8"
             ],
             [
              0.3333333333333333,
              "#9c179e"
             ],
             [
              0.4444444444444444,
              "#bd3786"
             ],
             [
              0.5555555555555556,
              "#d8576b"
             ],
             [
              0.6666666666666666,
              "#ed7953"
             ],
             [
              0.7777777777777778,
              "#fb9f3a"
             ],
             [
              0.8888888888888888,
              "#fdca26"
             ],
             [
              1,
              "#f0f921"
             ]
            ],
            "type": "heatmap"
           }
          ],
          "heatmapgl": [
           {
            "colorbar": {
             "outlinewidth": 0,
             "ticks": ""
            },
            "colorscale": [
             [
              0,
              "#0d0887"
             ],
             [
              0.1111111111111111,
              "#46039f"
             ],
             [
              0.2222222222222222,
              "#7201a8"
             ],
             [
              0.3333333333333333,
              "#9c179e"
             ],
             [
              0.4444444444444444,
              "#bd3786"
             ],
             [
              0.5555555555555556,
              "#d8576b"
             ],
             [
              0.6666666666666666,
              "#ed7953"
             ],
             [
              0.7777777777777778,
              "#fb9f3a"
             ],
             [
              0.8888888888888888,
              "#fdca26"
             ],
             [
              1,
              "#f0f921"
             ]
            ],
            "type": "heatmapgl"
           }
          ],
          "histogram": [
           {
            "marker": {
             "pattern": {
              "fillmode": "overlay",
              "size": 10,
              "solidity": 0.2
             }
            },
            "type": "histogram"
           }
          ],
          "histogram2d": [
           {
            "colorbar": {
             "outlinewidth": 0,
             "ticks": ""
            },
            "colorscale": [
             [
              0,
              "#0d0887"
             ],
             [
              0.1111111111111111,
              "#46039f"
             ],
             [
              0.2222222222222222,
              "#7201a8"
             ],
             [
              0.3333333333333333,
              "#9c179e"
             ],
             [
              0.4444444444444444,
              "#bd3786"
             ],
             [
              0.5555555555555556,
              "#d8576b"
             ],
             [
              0.6666666666666666,
              "#ed7953"
             ],
             [
              0.7777777777777778,
              "#fb9f3a"
             ],
             [
              0.8888888888888888,
              "#fdca26"
             ],
             [
              1,
              "#f0f921"
             ]
            ],
            "type": "histogram2d"
           }
          ],
          "histogram2dcontour": [
           {
            "colorbar": {
             "outlinewidth": 0,
             "ticks": ""
            },
            "colorscale": [
             [
              0,
              "#0d0887"
             ],
             [
              0.1111111111111111,
              "#46039f"
             ],
             [
              0.2222222222222222,
              "#7201a8"
             ],
             [
              0.3333333333333333,
              "#9c179e"
             ],
             [
              0.4444444444444444,
              "#bd3786"
             ],
             [
              0.5555555555555556,
              "#d8576b"
             ],
             [
              0.6666666666666666,
              "#ed7953"
             ],
             [
              0.7777777777777778,
              "#fb9f3a"
             ],
             [
              0.8888888888888888,
              "#fdca26"
             ],
             [
              1,
              "#f0f921"
             ]
            ],
            "type": "histogram2dcontour"
           }
          ],
          "mesh3d": [
           {
            "colorbar": {
             "outlinewidth": 0,
             "ticks": ""
            },
            "type": "mesh3d"
           }
          ],
          "parcoords": [
           {
            "line": {
             "colorbar": {
              "outlinewidth": 0,
              "ticks": ""
             }
            },
            "type": "parcoords"
           }
          ],
          "pie": [
           {
            "automargin": true,
            "type": "pie"
           }
          ],
          "scatter": [
           {
            "marker": {
             "colorbar": {
              "outlinewidth": 0,
              "ticks": ""
             }
            },
            "type": "scatter"
           }
          ],
          "scatter3d": [
           {
            "line": {
             "colorbar": {
              "outlinewidth": 0,
              "ticks": ""
             }
            },
            "marker": {
             "colorbar": {
              "outlinewidth": 0,
              "ticks": ""
             }
            },
            "type": "scatter3d"
           }
          ],
          "scattercarpet": [
           {
            "marker": {
             "colorbar": {
              "outlinewidth": 0,
              "ticks": ""
             }
            },
            "type": "scattercarpet"
           }
          ],
          "scattergeo": [
           {
            "marker": {
             "colorbar": {
              "outlinewidth": 0,
              "ticks": ""
             }
            },
            "type": "scattergeo"
           }
          ],
          "scattergl": [
           {
            "marker": {
             "colorbar": {
              "outlinewidth": 0,
              "ticks": ""
             }
            },
            "type": "scattergl"
           }
          ],
          "scattermapbox": [
           {
            "marker": {
             "colorbar": {
              "outlinewidth": 0,
              "ticks": ""
             }
            },
            "type": "scattermapbox"
           }
          ],
          "scatterpolar": [
           {
            "marker": {
             "colorbar": {
              "outlinewidth": 0,
              "ticks": ""
             }
            },
            "type": "scatterpolar"
           }
          ],
          "scatterpolargl": [
           {
            "marker": {
             "colorbar": {
              "outlinewidth": 0,
              "ticks": ""
             }
            },
            "type": "scatterpolargl"
           }
          ],
          "scatterternary": [
           {
            "marker": {
             "colorbar": {
              "outlinewidth": 0,
              "ticks": ""
             }
            },
            "type": "scatterternary"
           }
          ],
          "surface": [
           {
            "colorbar": {
             "outlinewidth": 0,
             "ticks": ""
            },
            "colorscale": [
             [
              0,
              "#0d0887"
             ],
             [
              0.1111111111111111,
              "#46039f"
             ],
             [
              0.2222222222222222,
              "#7201a8"
             ],
             [
              0.3333333333333333,
              "#9c179e"
             ],
             [
              0.4444444444444444,
              "#bd3786"
             ],
             [
              0.5555555555555556,
              "#d8576b"
             ],
             [
              0.6666666666666666,
              "#ed7953"
             ],
             [
              0.7777777777777778,
              "#fb9f3a"
             ],
             [
              0.8888888888888888,
              "#fdca26"
             ],
             [
              1,
              "#f0f921"
             ]
            ],
            "type": "surface"
           }
          ],
          "table": [
           {
            "cells": {
             "fill": {
              "color": "#EBF0F8"
             },
             "line": {
              "color": "white"
             }
            },
            "header": {
             "fill": {
              "color": "#C8D4E3"
             },
             "line": {
              "color": "white"
             }
            },
            "type": "table"
           }
          ]
         },
         "layout": {
          "annotationdefaults": {
           "arrowcolor": "#2a3f5f",
           "arrowhead": 0,
           "arrowwidth": 1
          },
          "autotypenumbers": "strict",
          "coloraxis": {
           "colorbar": {
            "outlinewidth": 0,
            "ticks": ""
           }
          },
          "colorscale": {
           "diverging": [
            [
             0,
             "#8e0152"
            ],
            [
             0.1,
             "#c51b7d"
            ],
            [
             0.2,
             "#de77ae"
            ],
            [
             0.3,
             "#f1b6da"
            ],
            [
             0.4,
             "#fde0ef"
            ],
            [
             0.5,
             "#f7f7f7"
            ],
            [
             0.6,
             "#e6f5d0"
            ],
            [
             0.7,
             "#b8e186"
            ],
            [
             0.8,
             "#7fbc41"
            ],
            [
             0.9,
             "#4d9221"
            ],
            [
             1,
             "#276419"
            ]
           ],
           "sequential": [
            [
             0,
             "#0d0887"
            ],
            [
             0.1111111111111111,
             "#46039f"
            ],
            [
             0.2222222222222222,
             "#7201a8"
            ],
            [
             0.3333333333333333,
             "#9c179e"
            ],
            [
             0.4444444444444444,
             "#bd3786"
            ],
            [
             0.5555555555555556,
             "#d8576b"
            ],
            [
             0.6666666666666666,
             "#ed7953"
            ],
            [
             0.7777777777777778,
             "#fb9f3a"
            ],
            [
             0.8888888888888888,
             "#fdca26"
            ],
            [
             1,
             "#f0f921"
            ]
           ],
           "sequentialminus": [
            [
             0,
             "#0d0887"
            ],
            [
             0.1111111111111111,
             "#46039f"
            ],
            [
             0.2222222222222222,
             "#7201a8"
            ],
            [
             0.3333333333333333,
             "#9c179e"
            ],
            [
             0.4444444444444444,
             "#bd3786"
            ],
            [
             0.5555555555555556,
             "#d8576b"
            ],
            [
             0.6666666666666666,
             "#ed7953"
            ],
            [
             0.7777777777777778,
             "#fb9f3a"
            ],
            [
             0.8888888888888888,
             "#fdca26"
            ],
            [
             1,
             "#f0f921"
            ]
           ]
          },
          "colorway": [
           "#636efa",
           "#EF553B",
           "#00cc96",
           "#ab63fa",
           "#FFA15A",
           "#19d3f3",
           "#FF6692",
           "#B6E880",
           "#FF97FF",
           "#FECB52"
          ],
          "font": {
           "color": "#2a3f5f"
          },
          "geo": {
           "bgcolor": "white",
           "lakecolor": "white",
           "landcolor": "#E5ECF6",
           "showlakes": true,
           "showland": true,
           "subunitcolor": "white"
          },
          "hoverlabel": {
           "align": "left"
          },
          "hovermode": "closest",
          "mapbox": {
           "style": "light"
          },
          "paper_bgcolor": "white",
          "plot_bgcolor": "#E5ECF6",
          "polar": {
           "angularaxis": {
            "gridcolor": "white",
            "linecolor": "white",
            "ticks": ""
           },
           "bgcolor": "#E5ECF6",
           "radialaxis": {
            "gridcolor": "white",
            "linecolor": "white",
            "ticks": ""
           }
          },
          "scene": {
           "xaxis": {
            "backgroundcolor": "#E5ECF6",
            "gridcolor": "white",
            "gridwidth": 2,
            "linecolor": "white",
            "showbackground": true,
            "ticks": "",
            "zerolinecolor": "white"
           },
           "yaxis": {
            "backgroundcolor": "#E5ECF6",
            "gridcolor": "white",
            "gridwidth": 2,
            "linecolor": "white",
            "showbackground": true,
            "ticks": "",
            "zerolinecolor": "white"
           },
           "zaxis": {
            "backgroundcolor": "#E5ECF6",
            "gridcolor": "white",
            "gridwidth": 2,
            "linecolor": "white",
            "showbackground": true,
            "ticks": "",
            "zerolinecolor": "white"
           }
          },
          "shapedefaults": {
           "line": {
            "color": "#2a3f5f"
           }
          },
          "ternary": {
           "aaxis": {
            "gridcolor": "white",
            "linecolor": "white",
            "ticks": ""
           },
           "baxis": {
            "gridcolor": "white",
            "linecolor": "white",
            "ticks": ""
           },
           "bgcolor": "#E5ECF6",
           "caxis": {
            "gridcolor": "white",
            "linecolor": "white",
            "ticks": ""
           }
          },
          "title": {
           "x": 0.05
          },
          "xaxis": {
           "automargin": true,
           "gridcolor": "white",
           "linecolor": "white",
           "ticks": "",
           "title": {
            "standoff": 15
           },
           "zerolinecolor": "white",
           "zerolinewidth": 2
          },
          "yaxis": {
           "automargin": true,
           "gridcolor": "white",
           "linecolor": "white",
           "ticks": "",
           "title": {
            "standoff": 15
           },
           "zerolinecolor": "white",
           "zerolinewidth": 2
          }
         }
        },
        "width": 1100
       }
      },
      "image/png": "[encoded data removed]",
      "text/html": [
       "<div>                            <div id=\"2cd2b01a-b207-42e9-833e-92e2377ab731\" class=\"plotly-graph-div\" style=\"height:500px; width:1100px;\"></div>            <script type=\"text/javascript\">                require([\"plotly\"], function(Plotly) {                    window.PLOTLYENV=window.PLOTLYENV || {};                                    if (document.getElementById(\"2cd2b01a-b207-42e9-833e-92e2377ab731\")) {                    Plotly.newPlot(                        \"2cd2b01a-b207-42e9-833e-92e2377ab731\",                        [{\"branchvalues\":\"total\",\"customdata\":[[17.0],[36.0],[60.0],[29.0],[17.0],[38.0],[41.0],[28.0],[34.0],[47.0],[64.0],[28.0],[21.0],[47.0],[33.0],[22.0],[30.0],[72.0],[43.0],[46.0],[37.0],[73.0],[78.0],[54.0],[39.0],[93.0],[84.0],[59.0],[56.0],[146.0],[76.0],[52.0],[74.0],[182.0],[93.0],[103.0],[84.0],[207.0],[95.0],[114.0],[68.0],[199.0],[90.0],[79.0],[59.0],[82.0],[32.0],[40.0],[81.0],[69.0],[67.0],[35.0],[42.0],[63.0],[37.0],[24.0],[36.0],[27.0],[46.0],[20.0],[35.0],[35.0],[44.0],[14.0],[31.0],[53.0],[40.0],[10.0],[26.0],[64.0],[32.0],[3.0],[86.0],[46.0],[46.0],[6.0],[106.0],[40.0],[82.0],[3.0],[58.0],[40.0],[49.0],[17.0],[116.0],[69.0],[73.0],[23.0],[193.0],[198.0],[116.0],[46.0],[292.0],[103.0],[120.0],[51.0],[295.0],[212.0],[123.0],[74.0],[228.0],[211.0],[129.0],[102.0],[214.0],[315.0],[178.0],[100.0],[440.0],[301.0],[178.0],[118.0],[166.0],[316.0],[152.0],[124.0],[429.0],[469.0],[221.0],[181.0],[227.0],[441.0],[218.0],[187.0],[285.0],[190.0],[143.0],[76.0],[302.0],[251.0],[124.0],[102.0],[177.0],[176.0],[94.0],[55.0],[78.0],[60.0],[116.0],[16.0],[141.0],[100.0],[82.0],[22.0],[182.0],[157.0],[72.0],[40.0],[139.0],[236.0],[141.0],[53.0],[81.0],[101.0],[117.0],[21.0],[96.0],[95.0],[120.0],[23.0],[35.0],[142.0],[123.0],[35.0],[271.0],[143.0],[173.0],[19.0],[521.0],[195.0],[83.0],[26.0],[458.0],[222.0],[84.0],[32.0],[590.0],[219.0],[110.0],[53.0],[494.0],[186.0],[116.0],[53.0],[496.0],[382.0],[296.0],[36.0],[384.0],[324.0],[182.0],[16.0],[186.0],[412.0],[152.0],[38.0],[190.0],[509.0],[204.0],[67.0],[154.0],[532.0],[213.0],[60.0],[212.0],[372.0],[250.0],[49.0],[76.0],[409.0],[179.0],[43.0],[58.0],[340.0],[251.0],[34.0],[51.0],[206.0],[318.0],[29.0],[66.0],[234.0],[281.0],[34.0],[16.0],[275.0],[309.0],[32.0],[7.0],[252.0],[223.0],[38.0],[10.0],[279.0],[199.0],[36.0],[12.0],[176.0],[184.0],[41.0],[16.0],[174.0],[217.0],[29.0],[32.0],[115.0],[213.0],[38.0],[18.0],[193.0],[237.0],[23.0],[14.0],[178.0],[206.0],[29.0],[11.0],[139.0],[223.0],[16.0],[4.0],[113.0],[266.0],[20.0],[5.0],[153.0],[200.0],[27.0],[20.0],[161.0],[185.0],[22.0],[2.0],[148.0],[138.0],[19.0],[12.0],[122.0],[170.0],[36.0],[37.0],[132.0],[237.0],[48.0],[13.0],[137.0],[273.0],[34.0],[21.0],[159.0],[201.0],[21.0],[12.0],[99.0],[361.0],[16.0],[2.0],[95.0],[286.0],[25.0],[18.0],[91.0],[322.0],[23.0],[35.0],[69.0],[209.0],[5.0],[30.0],[114.0],[254.0],[16.0],[14.0],[123.0],[201.0],[20.0],[43.0],[184.0],[195.0],[34.0],[66.0],[165.0],[255.0],[49.0],[10.0],[90.0],[142.0],[34.0],[14.0],[97.0],[141.0],[36.0],[6.0],[99.0],[153.0],[43.0],[14.0],[85.0],[105.0],[31.0],[53.0],[60.0],[33.0],[6.0],[44.0],[54.0],[22.0],[9.0],[36.0],[50.0],[32.0],[58.0],[32.0],[58.0],[27.0],[52.0],[81.0],[90.0],[67.0],[17.0],[41.0],[102.0],[28.0],[31.0],[79.0],[127.0],[24.0],[19.0],[61.0],[125.0],[24.0],[9.0],[39.0],[111.0],[30.0],[7.0],[53.0],[67.0],[11.0],[20.0],[33.0],[74.0],[8.0],[34.0],[66.0],[56.0],[7.0],[15.0],[67.0],[51.0],[9.0],[44.0],[84.0],[96.0],[12.0],[16.0],[73.0],[70.0],[19.0],[29.0],[82.0],[60.0],[15.0],[50.0],[117.0],[61.0],[13.0],[8.0],[76.0],[61.0],[21.0],[14.0],[72.0],[56.0],[23.0],[15.0],[91.0],[88.0],[18.0],[68.0],[143.0],[100.0],[31.0],[14.0],[118.0],[28.0],[9.0],[6.0],[107.0],[55.0],[13.0],[14.0],[107.0],[112.0],[17.0],[8.0],[185.0],[79.0],[22.0],[80.0],[130.0],[103.0],[32.0],[35.0],[116.0],[78.0],[44.0],[15.0],[107.0],[74.0],[32.0],[43.0],[144.0],[91.0],[63.0],[18.0],[135.0],[61.0],[49.0],[38.0],[134.0],[83.0],[66.0],[13.0],[165.0],[98.0],[46.0],[11.0],[114.0],[66.0],[33.0],[11.0],[98.0],[69.0],[24.0],[11.0],[113.0],[77.0],[34.0],[269.2305825242718],[224.35698324022346],[177.0951776649746],[63.05321219987022],[203.74534136136342]],\"domain\":{\"x\":[0.0,1.0],\"y\":[0.0,1.0]},\"hovertemplate\":\"labels=%{label}<br>sum_Neubau_sum=%{value}<br>parent=%{parent}<br>id=%{id}<br>sum_Neubau=%{color}<extra></extra>\",\"ids\":[\"Neu gebaute Geb\\u00e4ude nach Geb\\u00e4udeart und Jahr seit 1901/Einfamilienhaus/1902-01-01\",\"Neu gebaute Geb\\u00e4ude nach Geb\\u00e4udeart und Jahr seit 1901/Mehrfamilienhaus/1902-01-01\",\"Neu gebaute Geb\\u00e4ude nach Geb\\u00e4udeart und Jahr seit 1901/Nichtwohngeb\\u00e4ude/1902-01-01\",\"Neu gebaute Geb\\u00e4ude nach Geb\\u00e4udeart und Jahr seit 1901/Wohnhaus mit Gesch\\u00e4ftsr\\u00e4umen/1902-01-01\",\"Neu gebaute Geb\\u00e4ude nach Geb\\u00e4udeart und Jahr seit 1901/Einfamilienhaus/1903-01-01\",\"Neu gebaute Geb\\u00e4ude nach Geb\\u00e4udeart und Jahr seit 1901/Mehrfamilienhaus/1903-01-01\",\"Neu gebaute Geb\\u00e4ude nach Geb\\u00e4udeart und Jahr seit 1901/Nichtwohngeb\\u00e4ude/1903-01-01\",\"Neu gebaute Geb\\u00e4ude nach Geb\\u00e4udeart und Jahr seit 1901/Wohnhaus mit Gesch\\u00e4ftsr\\u00e4umen/1903-01-01\",\"Neu gebaute Geb\\u00e4ude nach Geb\\u00e4udeart und Jahr seit 1901/Einfamilienhaus/1904-01-01\",\"Neu gebaute Geb\\u00e4ude nach Geb\\u00e4udeart und Jahr seit 1901/Mehrfamilienhaus/1904-01-01\",\"Neu gebaute Geb\\u00e4ude nach Geb\\u00e4udeart und Jahr seit 1901/Nichtwohngeb\\u00e4ude/1904-01-01\",\"Neu gebaute Geb\\u00e4ude nach Geb\\u00e4udeart und Jahr seit 1901/Wohnhaus mit Gesch\\u00e4ftsr\\u00e4umen/1904-01-01\",\"Neu gebaute Geb\\u00e4ude nach Geb\\u00e4udeart und Jahr seit 1901/Einfamilienhaus/1905-01-01\",\"Neu gebaute Geb\\u00e4ude nach Geb\\u00e4udeart und Jahr seit 1901/Mehrfamilienhaus/1905-01-01\",\"Neu gebaute Geb\\u00e4ude nach Geb\\u00e4udeart und Jahr seit 1901/Nichtwohngeb\\u00e4ude/1905-01-01\",\"Neu gebaute Geb\\u00e4ude nach Geb\\u00e4udeart und Jahr seit 1901/Wohnhaus mit Gesch\\u00e4ftsr\\u00e4umen/1905-01-01\",\"Neu gebaute Geb\\u00e4ude nach Geb\\u00e4udeart und Jahr seit 1901/Einfamilienhaus/1906-01-01\",\"Neu gebaute Geb\\u00e4ude nach Geb\\u00e4udeart und Jahr seit 1901/Mehrfamilienhaus/1906-01-01\",\"Neu gebaute Geb\\u00e4ude nach Geb\\u00e4udeart und Jahr seit 1901/Nichtwohngeb\\u00e4ude/1906-01-01\",\"Neu gebaute Geb\\u00e4ude nach Geb\\u00e4udeart und Jahr seit 1901/Wohnhaus mit Gesch\\u00e4ftsr\\u00e4umen/1906-01-01\",\"Neu gebaute Geb\\u00e4ude nach Geb\\u00e4udeart und Jahr seit 1901/Einfamilienhaus/1907-01-01\",\"Neu gebaute Geb\\u00e4ude nach Geb\\u00e4udeart und Jahr seit 1901/Mehrfamilienhaus/1907-01-01\",\"Neu gebaute Geb\\u00e4ude nach Geb\\u00e4udeart und Jahr seit 1901/Nichtwohngeb\\u00e4ude/1907-01-01\",\"Neu gebaute Geb\\u00e4ude nach Geb\\u00e4udeart und Jahr seit 1901/Wohnhaus mit Gesch\\u00e4ftsr\\u00e4umen/1907-01-01\",\"Neu gebaute Geb\\u00e4ude nach Geb\\u00e4udeart und Jahr seit 1901/Einfamilienhaus/1908-01-01\",\"Neu gebaute Geb\\u00e4ude nach Geb\\u00e4udeart und Jahr seit 1901/Mehrfamilienhaus/1908-01-01\",\"Neu gebaute Geb\\u00e4ude nach Geb\\u00e4udeart und Jahr seit 1901/Nichtwohngeb\\u00e4ude/1908-01-01\",\"Neu gebaute Geb\\u00e4ude nach Geb\\u00e4udeart und Jahr seit 1901/Wohnhaus mit Gesch\\u00e4ftsr\\u00e4umen/1908-01-01\",\"Neu gebaute Geb\\u00e4ude nach Geb\\u00e4udeart und Jahr seit 1901/Einfamilienhaus/1909-01-01\",\"Neu gebaute Geb\\u00e4ude nach Geb\\u00e4udeart und Jahr seit 1901/Mehrfamilienhaus/1909-01-01\",\"Neu gebaute Geb\\u00e4ude nach Geb\\u00e4udeart und Jahr seit 1901/Nichtwohngeb\\u00e4ude/1909-01-01\",\"Neu gebaute Geb\\u00e4ude nach Geb\\u00e4udeart und Jahr seit 1901/Wohnhaus mit Gesch\\u00e4ftsr\\u00e4umen/1909-01-01\",\"Neu gebaute Geb\\u00e4ude nach Geb\\u00e4udeart und Jahr seit 1901/Einfamilienhaus/1910-01-01\",\"Neu gebaute Geb\\u00e4ude nach Geb\\u00e4udeart und Jahr seit 1901/Mehrfamilienhaus/1910-01-01\",\"Neu gebaute Geb\\u00e4ude nach Geb\\u00e4udeart und Jahr seit 1901/Nichtwohngeb\\u00e4ude/1910-01-01\",\"Neu gebaute Geb\\u00e4ude nach Geb\\u00e4udeart und Jahr seit 1901/Wohnhaus mit Gesch\\u00e4ftsr\\u00e4umen/1910-01-01\",\"Neu gebaute Geb\\u00e4ude nach Geb\\u00e4udeart und Jahr seit 1901/Einfamilienhaus/1911-01-01\",\"Neu gebaute Geb\\u00e4ude nach Geb\\u00e4udeart und Jahr seit 1901/Mehrfamilienhaus/1911-01-01\",\"Neu gebaute Geb\\u00e4ude nach Geb\\u00e4udeart und Jahr seit 1901/Nichtwohngeb\\u00e4ude/1911-01-01\",\"Neu gebaute Geb\\u00e4ude nach Geb\\u00e4udeart und Jahr seit 1901/Wohnhaus mit Gesch\\u00e4ftsr\\u00e4umen/1911-01-01\",\"Neu gebaute Geb\\u00e4ude nach Geb\\u00e4udeart und Jahr seit 1901/Einfamilienhaus/1912-01-01\",\"Neu gebaute Geb\\u00e4ude nach Geb\\u00e4udeart und Jahr seit 1901/Mehrfamilienhaus/1912-01-01\",\"Neu gebaute Geb\\u00e4ude nach Geb\\u00e4udeart und Jahr seit 1901/Nichtwohngeb\\u00e4ude/1912-01-01\",\"Neu gebaute Geb\\u00e4ude nach Geb\\u00e4udeart und Jahr seit 1901/Wohnhaus mit Gesch\\u00e4ftsr\\u00e4umen/1912-01-01\",\"Neu gebaute Geb\\u00e4ude nach Geb\\u00e4udeart und Jahr seit 1901/Einfamilienhaus/1913-01-01\",\"Neu gebaute Geb\\u00e4ude nach Geb\\u00e4udeart und Jahr seit 1901/Mehrfamilienhaus/1913-01-01\",\"Neu gebaute Geb\\u00e4ude nach Geb\\u00e4udeart und Jahr seit 1901/Nichtwohngeb\\u00e4ude/1913-01-01\",\"Neu gebaute Geb\\u00e4ude nach Geb\\u00e4udeart und Jahr seit 1901/Wohnhaus mit Gesch\\u00e4ftsr\\u00e4umen/1913-01-01\",\"Neu gebaute Geb\\u00e4ude nach Geb\\u00e4udeart und Jahr seit 1901/Einfamilienhaus/1914-01-01\",\"Neu gebaute Geb\\u00e4ude nach Geb\\u00e4udeart und Jahr seit 1901/Mehrfamilienhaus/1914-01-01\",\"Neu gebaute Geb\\u00e4ude nach Geb\\u00e4udeart und Jahr seit 1901/Nichtwohngeb\\u00e4ude/1914-01-01\",\"Neu gebaute Geb\\u00e4ude nach Geb\\u00e4udeart und Jahr seit 1901/Wohnhaus mit Gesch\\u00e4ftsr\\u00e4umen/1914-01-01\",\"Neu gebaute Geb\\u00e4ude nach Geb\\u00e4udeart und Jahr seit 1901/Einfamilienhaus/1915-01-01\",\"Neu gebaute Geb\\u00e4ude nach Geb\\u00e4udeart und Jahr seit 1901/Mehrfamilienhaus/1915-01-01\",\"Neu gebaute Geb\\u00e4ude nach Geb\\u00e4udeart und Jahr seit 1901/Nichtwohngeb\\u00e4ude/1915-01-01\",\"Neu gebaute Geb\\u00e4ude nach Geb\\u00e4udeart und Jahr seit 1901/Wohnhaus mit Gesch\\u00e4ftsr\\u00e4umen/1915-01-01\",\"Neu gebaute Geb\\u00e4ude nach Geb\\u00e4udeart und Jahr seit 1901/Einfamilienhaus/1916-01-01\",\"Neu gebaute Geb\\u00e4ude nach Geb\\u00e4udeart und Jahr seit 1901/Mehrfamilienhaus/1916-01-01\",\"Neu gebaute Geb\\u00e4ude nach Geb\\u00e4udeart und Jahr seit 1901/Nichtwohngeb\\u00e4ude/1916-01-01\",\"Neu gebaute Geb\\u00e4ude nach Geb\\u00e4udeart und Jahr seit 1901/Wohnhaus mit Gesch\\u00e4ftsr\\u00e4umen/1916-01-01\",\"Neu gebaute Geb\\u00e4ude nach Geb\\u00e4udeart und Jahr seit 1901/Einfamilienhaus/1917-01-01\",\"Neu gebaute Geb\\u00e4ude nach Geb\\u00e4udeart und Jahr seit 1901/Mehrfamilienhaus/1917-01-01\",\"Neu gebaute Geb\\u00e4ude nach Geb\\u00e4udeart und Jahr seit 1901/Nichtwohngeb\\u00e4ude/1917-01-01\",\"Neu gebaute Geb\\u00e4ude nach Geb\\u00e4udeart und Jahr seit 1901/Wohnhaus mit Gesch\\u00e4ftsr\\u00e4umen/1917-01-01\",\"Neu gebaute Geb\\u00e4ude nach Geb\\u00e4udeart und Jahr seit 1901/Einfamilienhaus/1918-01-01\",\"Neu gebaute Geb\\u00e4ude nach Geb\\u00e4udeart und Jahr seit 1901/Mehrfamilienhaus/1918-01-01\",\"Neu gebaute Geb\\u00e4ude nach Geb\\u00e4udeart und Jahr seit 1901/Nichtwohngeb\\u00e4ude/1918-01-01\",\"Neu gebaute Geb\\u00e4ude nach Geb\\u00e4udeart und Jahr seit 1901/Wohnhaus mit Gesch\\u00e4ftsr\\u00e4umen/1918-01-01\",\"Neu gebaute Geb\\u00e4ude nach Geb\\u00e4udeart und Jahr seit 1901/Einfamilienhaus/1919-01-01\",\"Neu gebaute Geb\\u00e4ude nach Geb\\u00e4udeart und Jahr seit 1901/Mehrfamilienhaus/1919-01-01\",\"Neu gebaute Geb\\u00e4ude nach Geb\\u00e4udeart und Jahr seit 1901/Nichtwohngeb\\u00e4ude/1919-01-01\",\"Neu gebaute Geb\\u00e4ude nach Geb\\u00e4udeart und Jahr seit 1901/Wohnhaus mit Gesch\\u00e4ftsr\\u00e4umen/1919-01-01\",\"Neu gebaute Geb\\u00e4ude nach Geb\\u00e4udeart und Jahr seit 1901/Einfamilienhaus/1920-01-01\",\"Neu gebaute Geb\\u00e4ude nach Geb\\u00e4udeart und Jahr seit 1901/Mehrfamilienhaus/1920-01-01\",\"Neu gebaute Geb\\u00e4ude nach Geb\\u00e4udeart und Jahr seit 1901/Nichtwohngeb\\u00e4ude/1920-01-01\",\"Neu gebaute Geb\\u00e4ude nach Geb\\u00e4udeart und Jahr seit 1901/Wohnhaus mit Gesch\\u00e4ftsr\\u00e4umen/1920-01-01\",\"Neu gebaute Geb\\u00e4ude nach Geb\\u00e4udeart und Jahr seit 1901/Einfamilienhaus/1921-01-01\",\"Neu gebaute Geb\\u00e4ude nach Geb\\u00e4udeart und Jahr seit 1901/Mehrfamilienhaus/1921-01-01\",\"Neu gebaute Geb\\u00e4ude nach Geb\\u00e4udeart und Jahr seit 1901/Nichtwohngeb\\u00e4ude/1921-01-01\",\"Neu gebaute Geb\\u00e4ude nach Geb\\u00e4udeart und Jahr seit 1901/Wohnhaus mit Gesch\\u00e4ftsr\\u00e4umen/1921-01-01\",\"Neu gebaute Geb\\u00e4ude nach Geb\\u00e4udeart und Jahr seit 1901/Einfamilienhaus/1922-01-01\",\"Neu gebaute Geb\\u00e4ude nach Geb\\u00e4udeart und Jahr seit 1901/Mehrfamilienhaus/1922-01-01\",\"Neu gebaute Geb\\u00e4ude nach Geb\\u00e4udeart und Jahr seit 1901/Nichtwohngeb\\u00e4ude/1922-01-01\",\"Neu gebaute Geb\\u00e4ude nach Geb\\u00e4udeart und Jahr seit 1901/Wohnhaus mit Gesch\\u00e4ftsr\\u00e4umen/1922-01-01\",\"Neu gebaute Geb\\u00e4ude nach Geb\\u00e4udeart und Jahr seit 1901/Einfamilienhaus/1923-01-01\",\"Neu gebaute Geb\\u00e4ude nach Geb\\u00e4udeart und Jahr seit 1901/Mehrfamilienhaus/1923-01-01\",\"Neu gebaute Geb\\u00e4ude nach Geb\\u00e4udeart und Jahr seit 1901/Nichtwohngeb\\u00e4ude/1923-01-01\",\"Neu gebaute Geb\\u00e4ude nach Geb\\u00e4udeart und Jahr seit 1901/Wohnhaus mit Gesch\\u00e4ftsr\\u00e4umen/1923-01-01\",\"Neu gebaute Geb\\u00e4ude nach Geb\\u00e4udeart und Jahr seit 1901/Einfamilienhaus/1924-01-01\",\"Neu gebaute Geb\\u00e4ude nach Geb\\u00e4udeart und Jahr seit 1901/Mehrfamilienhaus/1924-01-01\",\"Neu gebaute Geb\\u00e4ude nach Geb\\u00e4udeart und Jahr seit 1901/Nichtwohngeb\\u00e4ude/1924-01-01\",\"Neu gebaute Geb\\u00e4ude nach Geb\\u00e4udeart und Jahr seit 1901/Wohnhaus mit Gesch\\u00e4ftsr\\u00e4umen/1924-01-01\",\"Neu gebaute Geb\\u00e4ude nach Geb\\u00e4udeart und Jahr seit 1901/Einfamilienhaus/1925-01-01\",\"Neu gebaute Geb\\u00e4ude nach Geb\\u00e4udeart und Jahr seit 1901/Mehrfamilienhaus/1925-01-01\",\"Neu gebaute Geb\\u00e4ude nach Geb\\u00e4udeart und Jahr seit 1901/Nichtwohngeb\\u00e4ude/1925-01-01\",\"Neu gebaute Geb\\u00e4ude nach Geb\\u00e4udeart und Jahr seit 1901/Wohnhaus mit Gesch\\u00e4ftsr\\u00e4umen/1925-01-01\",\"Neu gebaute Geb\\u00e4ude nach Geb\\u00e4udeart und Jahr seit 1901/Einfamilienhaus/1926-01-01\",\"Neu gebaute Geb\\u00e4ude nach Geb\\u00e4udeart und Jahr seit 1901/Mehrfamilienhaus/1926-01-01\",\"Neu gebaute Geb\\u00e4ude nach Geb\\u00e4udeart und Jahr seit 1901/Nichtwohngeb\\u00e4ude/1926-01-01\",\"Neu gebaute Geb\\u00e4ude nach Geb\\u00e4udeart und Jahr seit 1901/Wohnhaus mit Gesch\\u00e4ftsr\\u00e4umen/1926-01-01\",\"Neu gebaute Geb\\u00e4ude nach Geb\\u00e4udeart und Jahr seit 1901/Einfamilienhaus/1927-01-01\",\"Neu gebaute Geb\\u00e4ude nach Geb\\u00e4udeart und Jahr seit 1901/Mehrfamilienhaus/1927-01-01\",\"Neu gebaute Geb\\u00e4ude nach Geb\\u00e4udeart und Jahr seit 1901/Nichtwohngeb\\u00e4ude/1927-01-01\",\"Neu gebaute Geb\\u00e4ude nach Geb\\u00e4udeart und Jahr seit 1901/Wohnhaus mit Gesch\\u00e4ftsr\\u00e4umen/1927-01-01\",\"Neu gebaute Geb\\u00e4ude nach Geb\\u00e4udeart und Jahr seit 1901/Einfamilienhaus/1928-01-01\",\"Neu gebaute Geb\\u00e4ude nach Geb\\u00e4udeart und Jahr seit 1901/Mehrfamilienhaus/1928-01-01\",\"Neu gebaute Geb\\u00e4ude nach Geb\\u00e4udeart und Jahr seit 1901/Nichtwohngeb\\u00e4ude/1928-01-01\",\"Neu gebaute Geb\\u00e4ude nach Geb\\u00e4udeart und Jahr seit 1901/Wohnhaus mit Gesch\\u00e4ftsr\\u00e4umen/1928-01-01\",\"Neu gebaute Geb\\u00e4ude nach Geb\\u00e4udeart und Jahr seit 1901/Einfamilienhaus/1929-01-01\",\"Neu gebaute Geb\\u00e4ude nach Geb\\u00e4udeart und Jahr seit 1901/Mehrfamilienhaus/1929-01-01\",\"Neu gebaute Geb\\u00e4ude nach Geb\\u00e4udeart und Jahr seit 1901/Nichtwohngeb\\u00e4ude/1929-01-01\",\"Neu gebaute Geb\\u00e4ude nach Geb\\u00e4udeart und Jahr seit 1901/Wohnhaus mit Gesch\\u00e4ftsr\\u00e4umen/1929-01-01\",\"Neu gebaute Geb\\u00e4ude nach Geb\\u00e4udeart und Jahr seit 1901/Einfamilienhaus/1930-01-01\",\"Neu gebaute Geb\\u00e4ude nach Geb\\u00e4udeart und Jahr seit 1901/Mehrfamilienhaus/1930-01-01\",\"Neu gebaute Geb\\u00e4ude nach Geb\\u00e4udeart und Jahr seit 1901/Nichtwohngeb\\u00e4ude/1930-01-01\",\"Neu gebaute Geb\\u00e4ude nach Geb\\u00e4udeart und Jahr seit 1901/Wohnhaus mit Gesch\\u00e4ftsr\\u00e4umen/1930-01-01\",\"Neu gebaute Geb\\u00e4ude nach Geb\\u00e4udeart und Jahr seit 1901/Einfamilienhaus/1931-01-01\",\"Neu gebaute Geb\\u00e4ude nach Geb\\u00e4udeart und Jahr seit 1901/Mehrfamilienhaus/1931-01-01\",\"Neu gebaute Geb\\u00e4ude nach Geb\\u00e4udeart und Jahr seit 1901/Nichtwohngeb\\u00e4ude/1931-01-01\",\"Neu gebaute Geb\\u00e4ude nach Geb\\u00e4udeart und Jahr seit 1901/Wohnhaus mit Gesch\\u00e4ftsr\\u00e4umen/1931-01-01\",\"Neu gebaute Geb\\u00e4ude nach Geb\\u00e4udeart und Jahr seit 1901/Einfamilienhaus/1932-01-01\",\"Neu gebaute Geb\\u00e4ude nach Geb\\u00e4udeart und Jahr seit 1901/Mehrfamilienhaus/1932-01-01\",\"Neu gebaute Geb\\u00e4ude nach Geb\\u00e4udeart und Jahr seit 1901/Nichtwohngeb\\u00e4ude/1932-01-01\",\"Neu gebaute Geb\\u00e4ude nach Geb\\u00e4udeart und Jahr seit 1901/Wohnhaus mit Gesch\\u00e4ftsr\\u00e4umen/1932-01-01\",\"Neu gebaute Geb\\u00e4ude nach Geb\\u00e4udeart und Jahr seit 1901/Einfamilienhaus/1933-01-01\",\"Neu gebaute Geb\\u00e4ude nach Geb\\u00e4udeart und Jahr seit 1901/Mehrfamilienhaus/1933-01-01\",\"Neu gebaute Geb\\u00e4ude nach Geb\\u00e4udeart und Jahr seit 1901/Nichtwohngeb\\u00e4ude/1933-01-01\",\"Neu gebaute Geb\\u00e4ude nach Geb\\u00e4udeart und Jahr seit 1901/Wohnhaus mit Gesch\\u00e4ftsr\\u00e4umen/1933-01-01\",\"Neu gebaute Geb\\u00e4ude nach Geb\\u00e4udeart und Jahr seit 1901/Einfamilienhaus/1934-01-01\",\"Neu gebaute Geb\\u00e4ude nach Geb\\u00e4udeart und Jahr seit 1901/Mehrfamilienhaus/1934-01-01\",\"Neu gebaute Geb\\u00e4ude nach Geb\\u00e4udeart und Jahr seit 1901/Nichtwohngeb\\u00e4ude/1934-01-01\",\"Neu gebaute Geb\\u00e4ude nach Geb\\u00e4udeart und Jahr seit 1901/Wohnhaus mit Gesch\\u00e4ftsr\\u00e4umen/1934-01-01\",\"Neu gebaute Geb\\u00e4ude nach Geb\\u00e4udeart und Jahr seit 1901/Einfamilienhaus/1935-01-01\",\"Neu gebaute Geb\\u00e4ude nach Geb\\u00e4udeart und Jahr seit 1901/Mehrfamilienhaus/1935-01-01\",\"Neu gebaute Geb\\u00e4ude nach Geb\\u00e4udeart und Jahr seit 1901/Nichtwohngeb\\u00e4ude/1935-01-01\",\"Neu gebaute Geb\\u00e4ude nach Geb\\u00e4udeart und Jahr seit 1901/Wohnhaus mit Gesch\\u00e4ftsr\\u00e4umen/1935-01-01\",\"Neu gebaute Geb\\u00e4ude nach Geb\\u00e4udeart und Jahr seit 1901/Einfamilienhaus/1936-01-01\",\"Neu gebaute Geb\\u00e4ude nach Geb\\u00e4udeart und Jahr seit 1901/Mehrfamilienhaus/1936-01-01\",\"Neu gebaute Geb\\u00e4ude nach Geb\\u00e4udeart und Jahr seit 1901/Nichtwohngeb\\u00e4ude/1936-01-01\",\"Neu gebaute Geb\\u00e4ude nach Geb\\u00e4udeart und Jahr seit 1901/Wohnhaus mit Gesch\\u00e4ftsr\\u00e4umen/1936-01-01\",\"Neu gebaute Geb\\u00e4ude nach Geb\\u00e4udeart und Jahr seit 1901/Einfamilienhaus/1937-01-01\",\"Neu gebaute Geb\\u00e4ude nach Geb\\u00e4udeart und Jahr seit 1901/Mehrfamilienhaus/1937-01-01\",\"Neu gebaute Geb\\u00e4ude nach Geb\\u00e4udeart und Jahr seit 1901/Nichtwohngeb\\u00e4ude/1937-01-01\",\"Neu gebaute Geb\\u00e4ude nach Geb\\u00e4udeart und Jahr seit 1901/Wohnhaus mit Gesch\\u00e4ftsr\\u00e4umen/1937-01-01\",\"Neu gebaute Geb\\u00e4ude nach Geb\\u00e4udeart und Jahr seit 1901/Einfamilienhaus/1938-01-01\",\"Neu gebaute Geb\\u00e4ude nach Geb\\u00e4udeart und Jahr seit 1901/Mehrfamilienhaus/1938-01-01\",\"Neu gebaute Geb\\u00e4ude nach Geb\\u00e4udeart und Jahr seit 1901/Nichtwohngeb\\u00e4ude/1938-01-01\",\"Neu gebaute Geb\\u00e4ude nach Geb\\u00e4udeart und Jahr seit 1901/Wohnhaus mit Gesch\\u00e4ftsr\\u00e4umen/1938-01-01\",\"Neu gebaute Geb\\u00e4ude nach Geb\\u00e4udeart und Jahr seit 1901/Einfamilienhaus/1939-01-01\",\"Neu gebaute Geb\\u00e4ude nach Geb\\u00e4udeart und Jahr seit 1901/Mehrfamilienhaus/1939-01-01\",\"Neu gebaute Geb\\u00e4ude nach Geb\\u00e4udeart und Jahr seit 1901/Nichtwohngeb\\u00e4ude/1939-01-01\",\"Neu gebaute Geb\\u00e4ude nach Geb\\u00e4udeart und Jahr seit 1901/Wohnhaus mit Gesch\\u00e4ftsr\\u00e4umen/1939-01-01\",\"Neu gebaute Geb\\u00e4ude nach Geb\\u00e4udeart und Jahr seit 1901/Einfamilienhaus/1940-01-01\",\"Neu gebaute Geb\\u00e4ude nach Geb\\u00e4udeart und Jahr seit 1901/Mehrfamilienhaus/1940-01-01\",\"Neu gebaute Geb\\u00e4ude nach Geb\\u00e4udeart und Jahr seit 1901/Nichtwohngeb\\u00e4ude/1940-01-01\",\"Neu gebaute Geb\\u00e4ude nach Geb\\u00e4udeart und Jahr seit 1901/Wohnhaus mit Gesch\\u00e4ftsr\\u00e4umen/1940-01-01\",\"Neu gebaute Geb\\u00e4ude nach Geb\\u00e4udeart und Jahr seit 1901/Einfamilienhaus/1941-01-01\",\"Neu gebaute Geb\\u00e4ude nach Geb\\u00e4udeart und Jahr seit 1901/Mehrfamilienhaus/1941-01-01\",\"Neu gebaute Geb\\u00e4ude nach Geb\\u00e4udeart und Jahr seit 1901/Nichtwohngeb\\u00e4ude/1941-01-01\",\"Neu gebaute Geb\\u00e4ude nach Geb\\u00e4udeart und Jahr seit 1901/Wohnhaus mit Gesch\\u00e4ftsr\\u00e4umen/1941-01-01\",\"Neu gebaute Geb\\u00e4ude nach Geb\\u00e4udeart und Jahr seit 1901/Einfamilienhaus/1942-01-01\",\"Neu gebaute Geb\\u00e4ude nach Geb\\u00e4udeart und Jahr seit 1901/Mehrfamilienhaus/1942-01-01\",\"Neu gebaute Geb\\u00e4ude nach Geb\\u00e4udeart und Jahr seit 1901/Nichtwohngeb\\u00e4ude/1942-01-01\",\"Neu gebaute Geb\\u00e4ude nach Geb\\u00e4udeart und Jahr seit 1901/Wohnhaus mit Gesch\\u00e4ftsr\\u00e4umen/1942-01-01\",\"Neu gebaute Geb\\u00e4ude nach Geb\\u00e4udeart und Jahr seit 1901/Einfamilienhaus/1943-01-01\",\"Neu gebaute Geb\\u00e4ude nach Geb\\u00e4udeart und Jahr seit 1901/Mehrfamilienhaus/1943-01-01\",\"Neu gebaute Geb\\u00e4ude nach Geb\\u00e4udeart und Jahr seit 1901/Nichtwohngeb\\u00e4ude/1943-01-01\",\"Neu gebaute Geb\\u00e4ude nach Geb\\u00e4udeart und Jahr seit 1901/Wohnhaus mit Gesch\\u00e4ftsr\\u00e4umen/1943-01-01\",\"Neu gebaute Geb\\u00e4ude nach Geb\\u00e4udeart und Jahr seit 1901/Einfamilienhaus/1944-01-01\",\"Neu gebaute Geb\\u00e4ude nach Geb\\u00e4udeart und Jahr seit 1901/Mehrfamilienhaus/1944-01-01\",\"Neu gebaute Geb\\u00e4ude nach Geb\\u00e4udeart und Jahr seit 1901/Nichtwohngeb\\u00e4ude/1944-01-01\",\"Neu gebaute Geb\\u00e4ude nach Geb\\u00e4udeart und Jahr seit 1901/Wohnhaus mit Gesch\\u00e4ftsr\\u00e4umen/1944-01-01\",\"Neu gebaute Geb\\u00e4ude nach Geb\\u00e4udeart und Jahr seit 1901/Einfamilienhaus/1945-01-01\",\"Neu gebaute Geb\\u00e4ude nach Geb\\u00e4udeart und Jahr seit 1901/Mehrfamilienhaus/1945-01-01\",\"Neu gebaute Geb\\u00e4ude nach Geb\\u00e4udeart und Jahr seit 1901/Nichtwohngeb\\u00e4ude/1945-01-01\",\"Neu gebaute Geb\\u00e4ude nach Geb\\u00e4udeart und Jahr seit 1901/Wohnhaus mit Gesch\\u00e4ftsr\\u00e4umen/1945-01-01\",\"Neu gebaute Geb\\u00e4ude nach Geb\\u00e4udeart und Jahr seit 1901/Einfamilienhaus/1946-01-01\",\"Neu gebaute Geb\\u00e4ude nach Geb\\u00e4udeart und Jahr seit 1901/Mehrfamilienhaus/1946-01-01\",\"Neu gebaute Geb\\u00e4ude nach Geb\\u00e4udeart und Jahr seit 1901/Nichtwohngeb\\u00e4ude/1946-01-01\",\"Neu gebaute Geb\\u00e4ude nach Geb\\u00e4udeart und Jahr seit 1901/Wohnhaus mit Gesch\\u00e4ftsr\\u00e4umen/1946-01-01\",\"Neu gebaute Geb\\u00e4ude nach Geb\\u00e4udeart und Jahr seit 1901/Einfamilienhaus/1947-01-01\",\"Neu gebaute Geb\\u00e4ude nach Geb\\u00e4udeart und Jahr seit 1901/Mehrfamilienhaus/1947-01-01\",\"Neu gebaute Geb\\u00e4ude nach Geb\\u00e4udeart und Jahr seit 1901/Nichtwohngeb\\u00e4ude/1947-01-01\",\"Neu gebaute Geb\\u00e4ude nach Geb\\u00e4udeart und Jahr seit 1901/Wohnhaus mit Gesch\\u00e4ftsr\\u00e4umen/1947-01-01\",\"Neu gebaute Geb\\u00e4ude nach Geb\\u00e4udeart und Jahr seit 1901/Einfamilienhaus/1948-01-01\",\"Neu gebaute Geb\\u00e4ude nach Geb\\u00e4udeart und Jahr seit 1901/Mehrfamilienhaus/1948-01-01\",\"Neu gebaute Geb\\u00e4ude nach Geb\\u00e4udeart und Jahr seit 1901/Nichtwohngeb\\u00e4ude/1948-01-01\",\"Neu gebaute Geb\\u00e4ude nach Geb\\u00e4udeart und Jahr seit 1901/Wohnhaus mit Gesch\\u00e4ftsr\\u00e4umen/1948-01-01\",\"Neu gebaute Geb\\u00e4ude nach Geb\\u00e4udeart und Jahr seit 1901/Einfamilienhaus/1949-01-01\",\"Neu gebaute Geb\\u00e4ude nach Geb\\u00e4udeart und Jahr seit 1901/Mehrfamilienhaus/1949-01-01\",\"Neu gebaute Geb\\u00e4ude nach Geb\\u00e4udeart und Jahr seit 1901/Nichtwohngeb\\u00e4ude/1949-01-01\",\"Neu gebaute Geb\\u00e4ude nach Geb\\u00e4udeart und Jahr seit 1901/Wohnhaus mit Gesch\\u00e4ftsr\\u00e4umen/1949-01-01\",\"Neu gebaute Geb\\u00e4ude nach Geb\\u00e4udeart und Jahr seit 1901/Einfamilienhaus/1950-01-01\",\"Neu gebaute Geb\\u00e4ude nach Geb\\u00e4udeart und Jahr seit 1901/Mehrfamilienhaus/1950-01-01\",\"Neu gebaute Geb\\u00e4ude nach Geb\\u00e4udeart und Jahr seit 1901/Nichtwohngeb\\u00e4ude/1950-01-01\",\"Neu gebaute Geb\\u00e4ude nach Geb\\u00e4udeart und Jahr seit 1901/Wohnhaus mit Gesch\\u00e4ftsr\\u00e4umen/1950-01-01\",\"Neu gebaute Geb\\u00e4ude nach Geb\\u00e4udeart und Jahr seit 1901/Einfamilienhaus/1951-01-01\",\"Neu gebaute Geb\\u00e4ude nach Geb\\u00e4udeart und Jahr seit 1901/Mehrfamilienhaus/1951-01-01\",\"Neu gebaute Geb\\u00e4ude nach Geb\\u00e4udeart und Jahr seit 1901/Nichtwohngeb\\u00e4ude/1951-01-01\",\"Neu gebaute Geb\\u00e4ude nach Geb\\u00e4udeart und Jahr seit 1901/Wohnhaus mit Gesch\\u00e4ftsr\\u00e4umen/1951-01-01\",\"Neu gebaute Geb\\u00e4ude nach Geb\\u00e4udeart und Jahr seit 1901/Einfamilienhaus/1952-01-01\",\"Neu gebaute Geb\\u00e4ude nach Geb\\u00e4udeart und Jahr seit 1901/Mehrfamilienhaus/1952-01-01\",\"Neu gebaute Geb\\u00e4ude nach Geb\\u00e4udeart und Jahr seit 1901/Nichtwohngeb\\u00e4ude/1952-01-01\",\"Neu gebaute Geb\\u00e4ude nach Geb\\u00e4udeart und Jahr seit 1901/Wohnhaus mit Gesch\\u00e4ftsr\\u00e4umen/1952-01-01\",\"Neu gebaute Geb\\u00e4ude nach Geb\\u00e4udeart und Jahr seit 1901/Einfamilienhaus/1953-01-01\",\"Neu gebaute Geb\\u00e4ude nach Geb\\u00e4udeart und Jahr seit 1901/Mehrfamilienhaus/1953-01-01\",\"Neu gebaute Geb\\u00e4ude nach Geb\\u00e4udeart und Jahr seit 1901/Nichtwohngeb\\u00e4ude/1953-01-01\",\"Neu gebaute Geb\\u00e4ude nach Geb\\u00e4udeart und Jahr seit 1901/Wohnhaus mit Gesch\\u00e4ftsr\\u00e4umen/1953-01-01\",\"Neu gebaute Geb\\u00e4ude nach Geb\\u00e4udeart und Jahr seit 1901/Einfamilienhaus/1954-01-01\",\"Neu gebaute Geb\\u00e4ude nach Geb\\u00e4udeart und Jahr seit 1901/Mehrfamilienhaus/1954-01-01\",\"Neu gebaute Geb\\u00e4ude nach Geb\\u00e4udeart und Jahr seit 1901/Nichtwohngeb\\u00e4ude/1954-01-01\",\"Neu gebaute Geb\\u00e4ude nach Geb\\u00e4udeart und Jahr seit 1901/Wohnhaus mit Gesch\\u00e4ftsr\\u00e4umen/1954-01-01\",\"Neu gebaute Geb\\u00e4ude nach Geb\\u00e4udeart und Jahr seit 1901/Einfamilienhaus/1955-01-01\",\"Neu gebaute Geb\\u00e4ude nach Geb\\u00e4udeart und Jahr seit 1901/Mehrfamilienhaus/1955-01-01\",\"Neu gebaute Geb\\u00e4ude nach Geb\\u00e4udeart und Jahr seit 1901/Nichtwohngeb\\u00e4ude/1955-01-01\",\"Neu gebaute Geb\\u00e4ude nach Geb\\u00e4udeart und Jahr seit 1901/Wohnhaus mit Gesch\\u00e4ftsr\\u00e4umen/1955-01-01\",\"Neu gebaute Geb\\u00e4ude nach Geb\\u00e4udeart und Jahr seit 1901/Einfamilienhaus/1956-01-01\",\"Neu gebaute Geb\\u00e4ude nach Geb\\u00e4udeart und Jahr seit 1901/Mehrfamilienhaus/1956-01-01\",\"Neu gebaute Geb\\u00e4ude nach Geb\\u00e4udeart und Jahr seit 1901/Nichtwohngeb\\u00e4ude/1956-01-01\",\"Neu gebaute Geb\\u00e4ude nach Geb\\u00e4udeart und Jahr seit 1901/Wohnhaus mit Gesch\\u00e4ftsr\\u00e4umen/1956-01-01\",\"Neu gebaute Geb\\u00e4ude nach Geb\\u00e4udeart und Jahr seit 1901/Einfamilienhaus/1957-01-01\",\"Neu gebaute Geb\\u00e4ude nach Geb\\u00e4udeart und Jahr seit 1901/Mehrfamilienhaus/1957-01-01\",\"Neu gebaute Geb\\u00e4ude nach Geb\\u00e4udeart und Jahr seit 1901/Nichtwohngeb\\u00e4ude/1957-01-01\",\"Neu gebaute Geb\\u00e4ude nach Geb\\u00e4udeart und Jahr seit 1901/Wohnhaus mit Gesch\\u00e4ftsr\\u00e4umen/1957-01-01\",\"Neu gebaute Geb\\u00e4ude nach Geb\\u00e4udeart und Jahr seit 1901/Einfamilienhaus/1958-01-01\",\"Neu gebaute Geb\\u00e4ude nach Geb\\u00e4udeart und Jahr seit 1901/Mehrfamilienhaus/1958-01-01\",\"Neu gebaute Geb\\u00e4ude nach Geb\\u00e4udeart und Jahr seit 1901/Nichtwohngeb\\u00e4ude/1958-01-01\",\"Neu gebaute Geb\\u00e4ude nach Geb\\u00e4udeart und Jahr seit 1901/Wohnhaus mit Gesch\\u00e4ftsr\\u00e4umen/1958-01-01\",\"Neu gebaute Geb\\u00e4ude nach Geb\\u00e4udeart und Jahr seit 1901/Einfamilienhaus/1959-01-01\",\"Neu gebaute Geb\\u00e4ude nach Geb\\u00e4udeart und Jahr seit 1901/Mehrfamilienhaus/1959-01-01\",\"Neu gebaute Geb\\u00e4ude nach Geb\\u00e4udeart und Jahr seit 1901/Nichtwohngeb\\u00e4ude/1959-01-01\",\"Neu gebaute Geb\\u00e4ude nach Geb\\u00e4udeart und Jahr seit 1901/Wohnhaus mit Gesch\\u00e4ftsr\\u00e4umen/1959-01-01\",\"Neu gebaute Geb\\u00e4ude nach Geb\\u00e4udeart und Jahr seit 1901/Einfamilienhaus/1960-01-01\",\"Neu gebaute Geb\\u00e4ude nach Geb\\u00e4udeart und Jahr seit 1901/Mehrfamilienhaus/1960-01-01\",\"Neu gebaute Geb\\u00e4ude nach Geb\\u00e4udeart und Jahr seit 1901/Nichtwohngeb\\u00e4ude/1960-01-01\",\"Neu gebaute Geb\\u00e4ude nach Geb\\u00e4udeart und Jahr seit 1901/Wohnhaus mit Gesch\\u00e4ftsr\\u00e4umen/1960-01-01\",\"Neu gebaute Geb\\u00e4ude nach Geb\\u00e4udeart und Jahr seit 1901/Einfamilienhaus/1961-01-01\",\"Neu gebaute Geb\\u00e4ude nach Geb\\u00e4udeart und Jahr seit 1901/Mehrfamilienhaus/1961-01-01\",\"Neu gebaute Geb\\u00e4ude nach Geb\\u00e4udeart und Jahr seit 1901/Nichtwohngeb\\u00e4ude/1961-01-01\",\"Neu gebaute Geb\\u00e4ude nach Geb\\u00e4udeart und Jahr seit 1901/Wohnhaus mit Gesch\\u00e4ftsr\\u00e4umen/1961-01-01\",\"Neu gebaute Geb\\u00e4ude nach Geb\\u00e4udeart und Jahr seit 1901/Einfamilienhaus/1962-01-01\",\"Neu gebaute Geb\\u00e4ude nach Geb\\u00e4udeart und Jahr seit 1901/Mehrfamilienhaus/1962-01-01\",\"Neu gebaute Geb\\u00e4ude nach Geb\\u00e4udeart und Jahr seit 1901/Nichtwohngeb\\u00e4ude/1962-01-01\",\"Neu gebaute Geb\\u00e4ude nach Geb\\u00e4udeart und Jahr seit 1901/Wohnhaus mit Gesch\\u00e4ftsr\\u00e4umen/1962-01-01\",\"Neu gebaute Geb\\u00e4ude nach Geb\\u00e4udeart und Jahr seit 1901/Einfamilienhaus/1963-01-01\",\"Neu gebaute Geb\\u00e4ude nach Geb\\u00e4udeart und Jahr seit 1901/Mehrfamilienhaus/1963-01-01\",\"Neu gebaute Geb\\u00e4ude nach Geb\\u00e4udeart und Jahr seit 1901/Nichtwohngeb\\u00e4ude/1963-01-01\",\"Neu gebaute Geb\\u00e4ude nach Geb\\u00e4udeart und Jahr seit 1901/Wohnhaus mit Gesch\\u00e4ftsr\\u00e4umen/1963-01-01\",\"Neu gebaute Geb\\u00e4ude nach Geb\\u00e4udeart und Jahr seit 1901/Einfamilienhaus/1964-01-01\",\"Neu gebaute Geb\\u00e4ude nach Geb\\u00e4udeart und Jahr seit 1901/Mehrfamilienhaus/1964-01-01\",\"Neu gebaute Geb\\u00e4ude nach Geb\\u00e4udeart und Jahr seit 1901/Nichtwohngeb\\u00e4ude/1964-01-01\",\"Neu gebaute Geb\\u00e4ude nach Geb\\u00e4udeart und Jahr seit 1901/Wohnhaus mit Gesch\\u00e4ftsr\\u00e4umen/1964-01-01\",\"Neu gebaute Geb\\u00e4ude nach Geb\\u00e4udeart und Jahr seit 1901/Einfamilienhaus/1965-01-01\",\"Neu gebaute Geb\\u00e4ude nach Geb\\u00e4udeart und Jahr seit 1901/Mehrfamilienhaus/1965-01-01\",\"Neu gebaute Geb\\u00e4ude nach Geb\\u00e4udeart und Jahr seit 1901/Nichtwohngeb\\u00e4ude/1965-01-01\",\"Neu gebaute Geb\\u00e4ude nach Geb\\u00e4udeart und Jahr seit 1901/Wohnhaus mit Gesch\\u00e4ftsr\\u00e4umen/1965-01-01\",\"Neu gebaute Geb\\u00e4ude nach Geb\\u00e4udeart und Jahr seit 1901/Einfamilienhaus/1966-01-01\",\"Neu gebaute Geb\\u00e4ude nach Geb\\u00e4udeart und Jahr seit 1901/Mehrfamilienhaus/1966-01-01\",\"Neu gebaute Geb\\u00e4ude nach Geb\\u00e4udeart und Jahr seit 1901/Nichtwohngeb\\u00e4ude/1966-01-01\",\"Neu gebaute Geb\\u00e4ude nach Geb\\u00e4udeart und Jahr seit 1901/Wohnhaus mit Gesch\\u00e4ftsr\\u00e4umen/1966-01-01\",\"Neu gebaute Geb\\u00e4ude nach Geb\\u00e4udeart und Jahr seit 1901/Einfamilienhaus/1967-01-01\",\"Neu gebaute Geb\\u00e4ude nach Geb\\u00e4udeart und Jahr seit 1901/Mehrfamilienhaus/1967-01-01\",\"Neu gebaute Geb\\u00e4ude nach Geb\\u00e4udeart und Jahr seit 1901/Nichtwohngeb\\u00e4ude/1967-01-01\",\"Neu gebaute Geb\\u00e4ude nach Geb\\u00e4udeart und Jahr seit 1901/Wohnhaus mit Gesch\\u00e4ftsr\\u00e4umen/1967-01-01\",\"Neu gebaute Geb\\u00e4ude nach Geb\\u00e4udeart und Jahr seit 1901/Einfamilienhaus/1968-01-01\",\"Neu gebaute Geb\\u00e4ude nach Geb\\u00e4udeart und Jahr seit 1901/Mehrfamilienhaus/1968-01-01\",\"Neu gebaute Geb\\u00e4ude nach Geb\\u00e4udeart und Jahr seit 1901/Nichtwohngeb\\u00e4ude/1968-01-01\",\"Neu gebaute Geb\\u00e4ude nach Geb\\u00e4udeart und Jahr seit 1901/Wohnhaus mit Gesch\\u00e4ftsr\\u00e4umen/1968-01-01\",\"Neu gebaute Geb\\u00e4ude nach Geb\\u00e4udeart und Jahr seit 1901/Einfamilienhaus/1969-01-01\",\"Neu gebaute Geb\\u00e4ude nach Geb\\u00e4udeart und Jahr seit 1901/Mehrfamilienhaus/1969-01-01\",\"Neu gebaute Geb\\u00e4ude nach Geb\\u00e4udeart und Jahr seit 1901/Nichtwohngeb\\u00e4ude/1969-01-01\",\"Neu gebaute Geb\\u00e4ude nach Geb\\u00e4udeart und Jahr seit 1901/Wohnhaus mit Gesch\\u00e4ftsr\\u00e4umen/1969-01-01\",\"Neu gebaute Geb\\u00e4ude nach Geb\\u00e4udeart und Jahr seit 1901/Einfamilienhaus/1970-01-01\",\"Neu gebaute Geb\\u00e4ude nach Geb\\u00e4udeart und Jahr seit 1901/Mehrfamilienhaus/1970-01-01\",\"Neu gebaute Geb\\u00e4ude nach Geb\\u00e4udeart und Jahr seit 1901/Nichtwohngeb\\u00e4ude/1970-01-01\",\"Neu gebaute Geb\\u00e4ude nach Geb\\u00e4udeart und Jahr seit 1901/Wohnhaus mit Gesch\\u00e4ftsr\\u00e4umen/1970-01-01\",\"Neu gebaute Geb\\u00e4ude nach Geb\\u00e4udeart und Jahr seit 1901/Einfamilienhaus/1971-01-01\",\"Neu gebaute Geb\\u00e4ude nach Geb\\u00e4udeart und Jahr seit 1901/Mehrfamilienhaus/1971-01-01\",\"Neu gebaute Geb\\u00e4ude nach Geb\\u00e4udeart und Jahr seit 1901/Nichtwohngeb\\u00e4ude/1971-01-01\",\"Neu gebaute Geb\\u00e4ude nach Geb\\u00e4udeart und Jahr seit 1901/Wohnhaus mit Gesch\\u00e4ftsr\\u00e4umen/1971-01-01\",\"Neu gebaute Geb\\u00e4ude nach Geb\\u00e4udeart und Jahr seit 1901/Einfamilienhaus/1972-01-01\",\"Neu gebaute Geb\\u00e4ude nach Geb\\u00e4udeart und Jahr seit 1901/Mehrfamilienhaus/1972-01-01\",\"Neu gebaute Geb\\u00e4ude nach Geb\\u00e4udeart und Jahr seit 1901/Nichtwohngeb\\u00e4ude/1972-01-01\",\"Neu gebaute Geb\\u00e4ude nach Geb\\u00e4udeart und Jahr seit 1901/Wohnhaus mit Gesch\\u00e4ftsr\\u00e4umen/1972-01-01\",\"Neu gebaute Geb\\u00e4ude nach Geb\\u00e4udeart und Jahr seit 1901/Einfamilienhaus/1973-01-01\",\"Neu gebaute Geb\\u00e4ude nach Geb\\u00e4udeart und Jahr seit 1901/Mehrfamilienhaus/1973-01-01\",\"Neu gebaute Geb\\u00e4ude nach Geb\\u00e4udeart und Jahr seit 1901/Nichtwohngeb\\u00e4ude/1973-01-01\",\"Neu gebaute Geb\\u00e4ude nach Geb\\u00e4udeart und Jahr seit 1901/Wohnhaus mit Gesch\\u00e4ftsr\\u00e4umen/1973-01-01\",\"Neu gebaute Geb\\u00e4ude nach Geb\\u00e4udeart und Jahr seit 1901/Einfamilienhaus/1974-01-01\",\"Neu gebaute Geb\\u00e4ude nach Geb\\u00e4udeart und Jahr seit 1901/Mehrfamilienhaus/1974-01-01\",\"Neu gebaute Geb\\u00e4ude nach Geb\\u00e4udeart und Jahr seit 1901/Nichtwohngeb\\u00e4ude/1974-01-01\",\"Neu gebaute Geb\\u00e4ude nach Geb\\u00e4udeart und Jahr seit 1901/Wohnhaus mit Gesch\\u00e4ftsr\\u00e4umen/1974-01-01\",\"Neu gebaute Geb\\u00e4ude nach Geb\\u00e4udeart und Jahr seit 1901/Einfamilienhaus/1975-01-01\",\"Neu gebaute Geb\\u00e4ude nach Geb\\u00e4udeart und Jahr seit 1901/Mehrfamilienhaus/1975-01-01\",\"Neu gebaute Geb\\u00e4ude nach Geb\\u00e4udeart und Jahr seit 1901/Nichtwohngeb\\u00e4ude/1975-01-01\",\"Neu gebaute Geb\\u00e4ude nach Geb\\u00e4udeart und Jahr seit 1901/Wohnhaus mit Gesch\\u00e4ftsr\\u00e4umen/1975-01-01\",\"Neu gebaute Geb\\u00e4ude nach Geb\\u00e4udeart und Jahr seit 1901/Einfamilienhaus/1976-01-01\",\"Neu gebaute Geb\\u00e4ude nach Geb\\u00e4udeart und Jahr seit 1901/Mehrfamilienhaus/1976-01-01\",\"Neu gebaute Geb\\u00e4ude nach Geb\\u00e4udeart und Jahr seit 1901/Nichtwohngeb\\u00e4ude/1976-01-01\",\"Neu gebaute Geb\\u00e4ude nach Geb\\u00e4udeart und Jahr seit 1901/Wohnhaus mit Gesch\\u00e4ftsr\\u00e4umen/1976-01-01\",\"Neu gebaute Geb\\u00e4ude nach Geb\\u00e4udeart und Jahr seit 1901/Einfamilienhaus/1977-01-01\",\"Neu gebaute Geb\\u00e4ude nach Geb\\u00e4udeart und Jahr seit 1901/Mehrfamilienhaus/1977-01-01\",\"Neu gebaute Geb\\u00e4ude nach Geb\\u00e4udeart und Jahr seit 1901/Nichtwohngeb\\u00e4ude/1977-01-01\",\"Neu gebaute Geb\\u00e4ude nach Geb\\u00e4udeart und Jahr seit 1901/Wohnhaus mit Gesch\\u00e4ftsr\\u00e4umen/1977-01-01\",\"Neu gebaute Geb\\u00e4ude nach Geb\\u00e4udeart und Jahr seit 1901/Einfamilienhaus/1978-01-01\",\"Neu gebaute Geb\\u00e4ude nach Geb\\u00e4udeart und Jahr seit 1901/Mehrfamilienhaus/1978-01-01\",\"Neu gebaute Geb\\u00e4ude nach Geb\\u00e4udeart und Jahr seit 1901/Nichtwohngeb\\u00e4ude/1978-01-01\",\"Neu gebaute Geb\\u00e4ude nach Geb\\u00e4udeart und Jahr seit 1901/Wohnhaus mit Gesch\\u00e4ftsr\\u00e4umen/1978-01-01\",\"Neu gebaute Geb\\u00e4ude nach Geb\\u00e4udeart und Jahr seit 1901/Einfamilienhaus/1979-01-01\",\"Neu gebaute Geb\\u00e4ude nach Geb\\u00e4udeart und Jahr seit 1901/Mehrfamilienhaus/1979-01-01\",\"Neu gebaute Geb\\u00e4ude nach Geb\\u00e4udeart und Jahr seit 1901/Nichtwohngeb\\u00e4ude/1979-01-01\",\"Neu gebaute Geb\\u00e4ude nach Geb\\u00e4udeart und Jahr seit 1901/Wohnhaus mit Gesch\\u00e4ftsr\\u00e4umen/1979-01-01\",\"Neu gebaute Geb\\u00e4ude nach Geb\\u00e4udeart und Jahr seit 1901/Einfamilienhaus/1980-01-01\",\"Neu gebaute Geb\\u00e4ude nach Geb\\u00e4udeart und Jahr seit 1901/Mehrfamilienhaus/1980-01-01\",\"Neu gebaute Geb\\u00e4ude nach Geb\\u00e4udeart und Jahr seit 1901/Nichtwohngeb\\u00e4ude/1980-01-01\",\"Neu gebaute Geb\\u00e4ude nach Geb\\u00e4udeart und Jahr seit 1901/Wohnhaus mit Gesch\\u00e4ftsr\\u00e4umen/1980-01-01\",\"Neu gebaute Geb\\u00e4ude nach Geb\\u00e4udeart und Jahr seit 1901/Einfamilienhaus/1981-01-01\",\"Neu gebaute Geb\\u00e4ude nach Geb\\u00e4udeart und Jahr seit 1901/Mehrfamilienhaus/1981-01-01\",\"Neu gebaute Geb\\u00e4ude nach Geb\\u00e4udeart und Jahr seit 1901/Nichtwohngeb\\u00e4ude/1981-01-01\",\"Neu gebaute Geb\\u00e4ude nach Geb\\u00e4udeart und Jahr seit 1901/Wohnhaus mit Gesch\\u00e4ftsr\\u00e4umen/1981-01-01\",\"Neu gebaute Geb\\u00e4ude nach Geb\\u00e4udeart und Jahr seit 1901/Einfamilienhaus/1982-01-01\",\"Neu gebaute Geb\\u00e4ude nach Geb\\u00e4udeart und Jahr seit 1901/Mehrfamilienhaus/1982-01-01\",\"Neu gebaute Geb\\u00e4ude nach Geb\\u00e4udeart und Jahr seit 1901/Nichtwohngeb\\u00e4ude/1982-01-01\",\"Neu gebaute Geb\\u00e4ude nach Geb\\u00e4udeart und Jahr seit 1901/Wohnhaus mit Gesch\\u00e4ftsr\\u00e4umen/1982-01-01\",\"Neu gebaute Geb\\u00e4ude nach Geb\\u00e4udeart und Jahr seit 1901/Einfamilienhaus/1983-01-01\",\"Neu gebaute Geb\\u00e4ude nach Geb\\u00e4udeart und Jahr seit 1901/Mehrfamilienhaus/1983-01-01\",\"Neu gebaute Geb\\u00e4ude nach Geb\\u00e4udeart und Jahr seit 1901/Nichtwohngeb\\u00e4ude/1983-01-01\",\"Neu gebaute Geb\\u00e4ude nach Geb\\u00e4udeart und Jahr seit 1901/Wohnhaus mit Gesch\\u00e4ftsr\\u00e4umen/1983-01-01\",\"Neu gebaute Geb\\u00e4ude nach Geb\\u00e4udeart und Jahr seit 1901/Einfamilienhaus/1984-01-01\",\"Neu gebaute Geb\\u00e4ude nach Geb\\u00e4udeart und Jahr seit 1901/Mehrfamilienhaus/1984-01-01\",\"Neu gebaute Geb\\u00e4ude nach Geb\\u00e4udeart und Jahr seit 1901/Nichtwohngeb\\u00e4ude/1984-01-01\",\"Neu gebaute Geb\\u00e4ude nach Geb\\u00e4udeart und Jahr seit 1901/Wohnhaus mit Gesch\\u00e4ftsr\\u00e4umen/1984-01-01\",\"Neu gebaute Geb\\u00e4ude nach Geb\\u00e4udeart und Jahr seit 1901/Einfamilienhaus/1985-01-01\",\"Neu gebaute Geb\\u00e4ude nach Geb\\u00e4udeart und Jahr seit 1901/Mehrfamilienhaus/1985-01-01\",\"Neu gebaute Geb\\u00e4ude nach Geb\\u00e4udeart und Jahr seit 1901/Nichtwohngeb\\u00e4ude/1985-01-01\",\"Neu gebaute Geb\\u00e4ude nach Geb\\u00e4udeart und Jahr seit 1901/Wohnhaus mit Gesch\\u00e4ftsr\\u00e4umen/1985-01-01\",\"Neu gebaute Geb\\u00e4ude nach Geb\\u00e4udeart und Jahr seit 1901/Einfamilienhaus/1986-01-01\",\"Neu gebaute Geb\\u00e4ude nach Geb\\u00e4udeart und Jahr seit 1901/Mehrfamilienhaus/1986-01-01\",\"Neu gebaute Geb\\u00e4ude nach Geb\\u00e4udeart und Jahr seit 1901/Nichtwohngeb\\u00e4ude/1986-01-01\",\"Neu gebaute Geb\\u00e4ude nach Geb\\u00e4udeart und Jahr seit 1901/Wohnhaus mit Gesch\\u00e4ftsr\\u00e4umen/1986-01-01\",\"Neu gebaute Geb\\u00e4ude nach Geb\\u00e4udeart und Jahr seit 1901/Mehrfamilienhaus/1987-01-01\",\"Neu gebaute Geb\\u00e4ude nach Geb\\u00e4udeart und Jahr seit 1901/Nichtwohngeb\\u00e4ude/1987-01-01\",\"Neu gebaute Geb\\u00e4ude nach Geb\\u00e4udeart und Jahr seit 1901/Wohnhaus mit Gesch\\u00e4ftsr\\u00e4umen/1987-01-01\",\"Neu gebaute Geb\\u00e4ude nach Geb\\u00e4udeart und Jahr seit 1901/Einfamilienhaus/1988-01-01\",\"Neu gebaute Geb\\u00e4ude nach Geb\\u00e4udeart und Jahr seit 1901/Mehrfamilienhaus/1988-01-01\",\"Neu gebaute Geb\\u00e4ude nach Geb\\u00e4udeart und Jahr seit 1901/Nichtwohngeb\\u00e4ude/1988-01-01\",\"Neu gebaute Geb\\u00e4ude nach Geb\\u00e4udeart und Jahr seit 1901/Wohnhaus mit Gesch\\u00e4ftsr\\u00e4umen/1988-01-01\",\"Neu gebaute Geb\\u00e4ude nach Geb\\u00e4udeart und Jahr seit 1901/Einfamilienhaus/1989-01-01\",\"Neu gebaute Geb\\u00e4ude nach Geb\\u00e4udeart und Jahr seit 1901/Mehrfamilienhaus/1989-01-01\",\"Neu gebaute Geb\\u00e4ude nach Geb\\u00e4udeart und Jahr seit 1901/Nichtwohngeb\\u00e4ude/1989-01-01\",\"Neu gebaute Geb\\u00e4ude nach Geb\\u00e4udeart und Jahr seit 1901/Wohnhaus mit Gesch\\u00e4ftsr\\u00e4umen/1989-01-01\",\"Neu gebaute Geb\\u00e4ude nach Geb\\u00e4udeart und Jahr seit 1901/Einfamilienhaus/1990-01-01\",\"Neu gebaute Geb\\u00e4ude nach Geb\\u00e4udeart und Jahr seit 1901/Mehrfamilienhaus/1990-01-01\",\"Neu gebaute Geb\\u00e4ude nach Geb\\u00e4udeart und Jahr seit 1901/Nichtwohngeb\\u00e4ude/1990-01-01\",\"Neu gebaute Geb\\u00e4ude nach Geb\\u00e4udeart und Jahr seit 1901/Wohnhaus mit Gesch\\u00e4ftsr\\u00e4umen/1990-01-01\",\"Neu gebaute Geb\\u00e4ude nach Geb\\u00e4udeart und Jahr seit 1901/Einfamilienhaus/1991-01-01\",\"Neu gebaute Geb\\u00e4ude nach Geb\\u00e4udeart und Jahr seit 1901/Mehrfamilienhaus/1991-01-01\",\"Neu gebaute Geb\\u00e4ude nach Geb\\u00e4udeart und Jahr seit 1901/Nichtwohngeb\\u00e4ude/1991-01-01\",\"Neu gebaute Geb\\u00e4ude nach Geb\\u00e4udeart und Jahr seit 1901/Wohnhaus mit Gesch\\u00e4ftsr\\u00e4umen/1991-01-01\",\"Neu gebaute Geb\\u00e4ude nach Geb\\u00e4udeart und Jahr seit 1901/Einfamilienhaus/1992-01-01\",\"Neu gebaute Geb\\u00e4ude nach Geb\\u00e4udeart und Jahr seit 1901/Mehrfamilienhaus/1992-01-01\",\"Neu gebaute Geb\\u00e4ude nach Geb\\u00e4udeart und Jahr seit 1901/Nichtwohngeb\\u00e4ude/1992-01-01\",\"Neu gebaute Geb\\u00e4ude nach Geb\\u00e4udeart und Jahr seit 1901/Wohnhaus mit Gesch\\u00e4ftsr\\u00e4umen/1992-01-01\",\"Neu gebaute Geb\\u00e4ude nach Geb\\u00e4udeart und Jahr seit 1901/Einfamilienhaus/1993-01-01\",\"Neu gebaute Geb\\u00e4ude nach Geb\\u00e4udeart und Jahr seit 1901/Mehrfamilienhaus/1993-01-01\",\"Neu gebaute Geb\\u00e4ude nach Geb\\u00e4udeart und Jahr seit 1901/Nichtwohngeb\\u00e4ude/1993-01-01\",\"Neu gebaute Geb\\u00e4ude nach Geb\\u00e4udeart und Jahr seit 1901/Wohnhaus mit Gesch\\u00e4ftsr\\u00e4umen/1993-01-01\",\"Neu gebaute Geb\\u00e4ude nach Geb\\u00e4udeart und Jahr seit 1901/Einfamilienhaus/1994-01-01\",\"Neu gebaute Geb\\u00e4ude nach Geb\\u00e4udeart und Jahr seit 1901/Mehrfamilienhaus/1994-01-01\",\"Neu gebaute Geb\\u00e4ude nach Geb\\u00e4udeart und Jahr seit 1901/Nichtwohngeb\\u00e4ude/1994-01-01\",\"Neu gebaute Geb\\u00e4ude nach Geb\\u00e4udeart und Jahr seit 1901/Wohnhaus mit Gesch\\u00e4ftsr\\u00e4umen/1994-01-01\",\"Neu gebaute Geb\\u00e4ude nach Geb\\u00e4udeart und Jahr seit 1901/Einfamilienhaus/1995-01-01\",\"Neu gebaute Geb\\u00e4ude nach Geb\\u00e4udeart und Jahr seit 1901/Mehrfamilienhaus/1995-01-01\",\"Neu gebaute Geb\\u00e4ude nach Geb\\u00e4udeart und Jahr seit 1901/Nichtwohngeb\\u00e4ude/1995-01-01\",\"Neu gebaute Geb\\u00e4ude nach Geb\\u00e4udeart und Jahr seit 1901/Wohnhaus mit Gesch\\u00e4ftsr\\u00e4umen/1995-01-01\",\"Neu gebaute Geb\\u00e4ude nach Geb\\u00e4udeart und Jahr seit 1901/Einfamilienhaus/1996-01-01\",\"Neu gebaute Geb\\u00e4ude nach Geb\\u00e4udeart und Jahr seit 1901/Mehrfamilienhaus/1996-01-01\",\"Neu gebaute Geb\\u00e4ude nach Geb\\u00e4udeart und Jahr seit 1901/Nichtwohngeb\\u00e4ude/1996-01-01\",\"Neu gebaute Geb\\u00e4ude nach Geb\\u00e4udeart und Jahr seit 1901/Wohnhaus mit Gesch\\u00e4ftsr\\u00e4umen/1996-01-01\",\"Neu gebaute Geb\\u00e4ude nach Geb\\u00e4udeart und Jahr seit 1901/Einfamilienhaus/1997-01-01\",\"Neu gebaute Geb\\u00e4ude nach Geb\\u00e4udeart und Jahr seit 1901/Mehrfamilienhaus/1997-01-01\",\"Neu gebaute Geb\\u00e4ude nach Geb\\u00e4udeart und Jahr seit 1901/Nichtwohngeb\\u00e4ude/1997-01-01\",\"Neu gebaute Geb\\u00e4ude nach Geb\\u00e4udeart und Jahr seit 1901/Wohnhaus mit Gesch\\u00e4ftsr\\u00e4umen/1997-01-01\",\"Neu gebaute Geb\\u00e4ude nach Geb\\u00e4udeart und Jahr seit 1901/Einfamilienhaus/1998-01-01\",\"Neu gebaute Geb\\u00e4ude nach Geb\\u00e4udeart und Jahr seit 1901/Mehrfamilienhaus/1998-01-01\",\"Neu gebaute Geb\\u00e4ude nach Geb\\u00e4udeart und Jahr seit 1901/Nichtwohngeb\\u00e4ude/1998-01-01\",\"Neu gebaute Geb\\u00e4ude nach Geb\\u00e4udeart und Jahr seit 1901/Wohnhaus mit Gesch\\u00e4ftsr\\u00e4umen/1998-01-01\",\"Neu gebaute Geb\\u00e4ude nach Geb\\u00e4udeart und Jahr seit 1901/Einfamilienhaus/1999-01-01\",\"Neu gebaute Geb\\u00e4ude nach Geb\\u00e4udeart und Jahr seit 1901/Mehrfamilienhaus/1999-01-01\",\"Neu gebaute Geb\\u00e4ude nach Geb\\u00e4udeart und Jahr seit 1901/Nichtwohngeb\\u00e4ude/1999-01-01\",\"Neu gebaute Geb\\u00e4ude nach Geb\\u00e4udeart und Jahr seit 1901/Wohnhaus mit Gesch\\u00e4ftsr\\u00e4umen/1999-01-01\",\"Neu gebaute Geb\\u00e4ude nach Geb\\u00e4udeart und Jahr seit 1901/Einfamilienhaus/2000-01-01\",\"Neu gebaute Geb\\u00e4ude nach Geb\\u00e4udeart und Jahr seit 1901/Mehrfamilienhaus/2000-01-01\",\"Neu gebaute Geb\\u00e4ude nach Geb\\u00e4udeart und Jahr seit 1901/Nichtwohngeb\\u00e4ude/2000-01-01\",\"Neu gebaute Geb\\u00e4ude nach Geb\\u00e4udeart und Jahr seit 1901/Wohnhaus mit Gesch\\u00e4ftsr\\u00e4umen/2000-01-01\",\"Neu gebaute Geb\\u00e4ude nach Geb\\u00e4udeart und Jahr seit 1901/Einfamilienhaus/2001-01-01\",\"Neu gebaute Geb\\u00e4ude nach Geb\\u00e4udeart und Jahr seit 1901/Mehrfamilienhaus/2001-01-01\",\"Neu gebaute Geb\\u00e4ude nach Geb\\u00e4udeart und Jahr seit 1901/Nichtwohngeb\\u00e4ude/2001-01-01\",\"Neu gebaute Geb\\u00e4ude nach Geb\\u00e4udeart und Jahr seit 1901/Wohnhaus mit Gesch\\u00e4ftsr\\u00e4umen/2001-01-01\",\"Neu gebaute Geb\\u00e4ude nach Geb\\u00e4udeart und Jahr seit 1901/Einfamilienhaus/2002-01-01\",\"Neu gebaute Geb\\u00e4ude nach Geb\\u00e4udeart und Jahr seit 1901/Mehrfamilienhaus/2002-01-01\",\"Neu gebaute Geb\\u00e4ude nach Geb\\u00e4udeart und Jahr seit 1901/Nichtwohngeb\\u00e4ude/2002-01-01\",\"Neu gebaute Geb\\u00e4ude nach Geb\\u00e4udeart und Jahr seit 1901/Wohnhaus mit Gesch\\u00e4ftsr\\u00e4umen/2002-01-01\",\"Neu gebaute Geb\\u00e4ude nach Geb\\u00e4udeart und Jahr seit 1901/Einfamilienhaus/2003-01-01\",\"Neu gebaute Geb\\u00e4ude nach Geb\\u00e4udeart und Jahr seit 1901/Mehrfamilienhaus/2003-01-01\",\"Neu gebaute Geb\\u00e4ude nach Geb\\u00e4udeart und Jahr seit 1901/Nichtwohngeb\\u00e4ude/2003-01-01\",\"Neu gebaute Geb\\u00e4ude nach Geb\\u00e4udeart und Jahr seit 1901/Wohnhaus mit Gesch\\u00e4ftsr\\u00e4umen/2003-01-01\",\"Neu gebaute Geb\\u00e4ude nach Geb\\u00e4udeart und Jahr seit 1901/Einfamilienhaus/2004-01-01\",\"Neu gebaute Geb\\u00e4ude nach Geb\\u00e4udeart und Jahr seit 1901/Mehrfamilienhaus/2004-01-01\",\"Neu gebaute Geb\\u00e4ude nach Geb\\u00e4udeart und Jahr seit 1901/Nichtwohngeb\\u00e4ude/2004-01-01\",\"Neu gebaute Geb\\u00e4ude nach Geb\\u00e4udeart und Jahr seit 1901/Wohnhaus mit Gesch\\u00e4ftsr\\u00e4umen/2004-01-01\",\"Neu gebaute Geb\\u00e4ude nach Geb\\u00e4udeart und Jahr seit 1901/Einfamilienhaus/2005-01-01\",\"Neu gebaute Geb\\u00e4ude nach Geb\\u00e4udeart und Jahr seit 1901/Mehrfamilienhaus/2005-01-01\",\"Neu gebaute Geb\\u00e4ude nach Geb\\u00e4udeart und Jahr seit 1901/Nichtwohngeb\\u00e4ude/2005-01-01\",\"Neu gebaute Geb\\u00e4ude nach Geb\\u00e4udeart und Jahr seit 1901/Wohnhaus mit Gesch\\u00e4ftsr\\u00e4umen/2005-01-01\",\"Neu gebaute Geb\\u00e4ude nach Geb\\u00e4udeart und Jahr seit 1901/Einfamilienhaus/2006-01-01\",\"Neu gebaute Geb\\u00e4ude nach Geb\\u00e4udeart und Jahr seit 1901/Mehrfamilienhaus/2006-01-01\",\"Neu gebaute Geb\\u00e4ude nach Geb\\u00e4udeart und Jahr seit 1901/Nichtwohngeb\\u00e4ude/2006-01-01\",\"Neu gebaute Geb\\u00e4ude nach Geb\\u00e4udeart und Jahr seit 1901/Wohnhaus mit Gesch\\u00e4ftsr\\u00e4umen/2006-01-01\",\"Neu gebaute Geb\\u00e4ude nach Geb\\u00e4udeart und Jahr seit 1901/Einfamilienhaus/2007-01-01\",\"Neu gebaute Geb\\u00e4ude nach Geb\\u00e4udeart und Jahr seit 1901/Mehrfamilienhaus/2007-01-01\",\"Neu gebaute Geb\\u00e4ude nach Geb\\u00e4udeart und Jahr seit 1901/Nichtwohngeb\\u00e4ude/2007-01-01\",\"Neu gebaute Geb\\u00e4ude nach Geb\\u00e4udeart und Jahr seit 1901/Wohnhaus mit Gesch\\u00e4ftsr\\u00e4umen/2007-01-01\",\"Neu gebaute Geb\\u00e4ude nach Geb\\u00e4udeart und Jahr seit 1901/Einfamilienhaus/2008-01-01\",\"Neu gebaute Geb\\u00e4ude nach Geb\\u00e4udeart und Jahr seit 1901/Mehrfamilienhaus/2008-01-01\",\"Neu gebaute Geb\\u00e4ude nach Geb\\u00e4udeart und Jahr seit 1901/Nichtwohngeb\\u00e4ude/2008-01-01\",\"Neu gebaute Geb\\u00e4ude nach Geb\\u00e4udeart und Jahr seit 1901/Wohnhaus mit Gesch\\u00e4ftsr\\u00e4umen/2008-01-01\",\"Neu gebaute Geb\\u00e4ude nach Geb\\u00e4udeart und Jahr seit 1901/Einfamilienhaus/2009-01-01\",\"Neu gebaute Geb\\u00e4ude nach Geb\\u00e4udeart und Jahr seit 1901/Mehrfamilienhaus/2009-01-01\",\"Neu gebaute Geb\\u00e4ude nach Geb\\u00e4udeart und Jahr seit 1901/Nichtwohngeb\\u00e4ude/2009-01-01\",\"Neu gebaute Geb\\u00e4ude nach Geb\\u00e4udeart und Jahr seit 1901/Wohnhaus mit Gesch\\u00e4ftsr\\u00e4umen/2009-01-01\",\"Neu gebaute Geb\\u00e4ude nach Geb\\u00e4udeart und Jahr seit 1901/Einfamilienhaus/2010-01-01\",\"Neu gebaute Geb\\u00e4ude nach Geb\\u00e4udeart und Jahr seit 1901/Mehrfamilienhaus/2010-01-01\",\"Neu gebaute Geb\\u00e4ude nach Geb\\u00e4udeart und Jahr seit 1901/Nichtwohngeb\\u00e4ude/2010-01-01\",\"Neu gebaute Geb\\u00e4ude nach Geb\\u00e4udeart und Jahr seit 1901/Wohnhaus mit Gesch\\u00e4ftsr\\u00e4umen/2010-01-01\",\"Neu gebaute Geb\\u00e4ude nach Geb\\u00e4udeart und Jahr seit 1901/Einfamilienhaus/2011-01-01\",\"Neu gebaute Geb\\u00e4ude nach Geb\\u00e4udeart und Jahr seit 1901/Mehrfamilienhaus/2011-01-01\",\"Neu gebaute Geb\\u00e4ude nach Geb\\u00e4udeart und Jahr seit 1901/Nichtwohngeb\\u00e4ude/2011-01-01\",\"Neu gebaute Geb\\u00e4ude nach Geb\\u00e4udeart und Jahr seit 1901/Wohnhaus mit Gesch\\u00e4ftsr\\u00e4umen/2011-01-01\",\"Neu gebaute Geb\\u00e4ude nach Geb\\u00e4udeart und Jahr seit 1901/Einfamilienhaus/2012-01-01\",\"Neu gebaute Geb\\u00e4ude nach Geb\\u00e4udeart und Jahr seit 1901/Mehrfamilienhaus/2012-01-01\",\"Neu gebaute Geb\\u00e4ude nach Geb\\u00e4udeart und Jahr seit 1901/Nichtwohngeb\\u00e4ude/2012-01-01\",\"Neu gebaute Geb\\u00e4ude nach Geb\\u00e4udeart und Jahr seit 1901/Wohnhaus mit Gesch\\u00e4ftsr\\u00e4umen/2012-01-01\",\"Neu gebaute Geb\\u00e4ude nach Geb\\u00e4udeart und Jahr seit 1901/Einfamilienhaus/2013-01-01\",\"Neu gebaute Geb\\u00e4ude nach Geb\\u00e4udeart und Jahr seit 1901/Mehrfamilienhaus/2013-01-01\",\"Neu gebaute Geb\\u00e4ude nach Geb\\u00e4udeart und Jahr seit 1901/Nichtwohngeb\\u00e4ude/2013-01-01\",\"Neu gebaute Geb\\u00e4ude nach Geb\\u00e4udeart und Jahr seit 1901/Wohnhaus mit Gesch\\u00e4ftsr\\u00e4umen/2013-01-01\",\"Neu gebaute Geb\\u00e4ude nach Geb\\u00e4udeart und Jahr seit 1901/Einfamilienhaus/2014-01-01\",\"Neu gebaute Geb\\u00e4ude nach Geb\\u00e4udeart und Jahr seit 1901/Mehrfamilienhaus/2014-01-01\",\"Neu gebaute Geb\\u00e4ude nach Geb\\u00e4udeart und Jahr seit 1901/Nichtwohngeb\\u00e4ude/2014-01-01\",\"Neu gebaute Geb\\u00e4ude nach Geb\\u00e4udeart und Jahr seit 1901/Wohnhaus mit Gesch\\u00e4ftsr\\u00e4umen/2014-01-01\",\"Neu gebaute Geb\\u00e4ude nach Geb\\u00e4udeart und Jahr seit 1901/Einfamilienhaus/2015-01-01\",\"Neu gebaute Geb\\u00e4ude nach Geb\\u00e4udeart und Jahr seit 1901/Mehrfamilienhaus/2015-01-01\",\"Neu gebaute Geb\\u00e4ude nach Geb\\u00e4udeart und Jahr seit 1901/Nichtwohngeb\\u00e4ude/2015-01-01\",\"Neu gebaute Geb\\u00e4ude nach Geb\\u00e4udeart und Jahr seit 1901/Wohnhaus mit Gesch\\u00e4ftsr\\u00e4umen/2015-01-01\",\"Neu gebaute Geb\\u00e4ude nach Geb\\u00e4udeart und Jahr seit 1901/Einfamilienhaus/2016-01-01\",\"Neu gebaute Geb\\u00e4ude nach Geb\\u00e4udeart und Jahr seit 1901/Mehrfamilienhaus/2016-01-01\",\"Neu gebaute Geb\\u00e4ude nach Geb\\u00e4udeart und Jahr seit 1901/Nichtwohngeb\\u00e4ude/2016-01-01\",\"Neu gebaute Geb\\u00e4ude nach Geb\\u00e4udeart und Jahr seit 1901/Wohnhaus mit Gesch\\u00e4ftsr\\u00e4umen/2016-01-01\",\"Neu gebaute Geb\\u00e4ude nach Geb\\u00e4udeart und Jahr seit 1901/Einfamilienhaus/2017-01-01\",\"Neu gebaute Geb\\u00e4ude nach Geb\\u00e4udeart und Jahr seit 1901/Mehrfamilienhaus/2017-01-01\",\"Neu gebaute Geb\\u00e4ude nach Geb\\u00e4udeart und Jahr seit 1901/Nichtwohngeb\\u00e4ude/2017-01-01\",\"Neu gebaute Geb\\u00e4ude nach Geb\\u00e4udeart und Jahr seit 1901/Wohnhaus mit Gesch\\u00e4ftsr\\u00e4umen/2017-01-01\",\"Neu gebaute Geb\\u00e4ude nach Geb\\u00e4udeart und Jahr seit 1901/Einfamilienhaus/2018-01-01\",\"Neu gebaute Geb\\u00e4ude nach Geb\\u00e4udeart und Jahr seit 1901/Mehrfamilienhaus/2018-01-01\",\"Neu gebaute Geb\\u00e4ude nach Geb\\u00e4udeart und Jahr seit 1901/Nichtwohngeb\\u00e4ude/2018-01-01\",\"Neu gebaute Geb\\u00e4ude nach Geb\\u00e4udeart und Jahr seit 1901/Wohnhaus mit Gesch\\u00e4ftsr\\u00e4umen/2018-01-01\",\"Neu gebaute Geb\\u00e4ude nach Geb\\u00e4udeart und Jahr seit 1901/Einfamilienhaus/2019-01-01\",\"Neu gebaute Geb\\u00e4ude nach Geb\\u00e4udeart und Jahr seit 1901/Mehrfamilienhaus/2019-01-01\",\"Neu gebaute Geb\\u00e4ude nach Geb\\u00e4udeart und Jahr seit 1901/Nichtwohngeb\\u00e4ude/2019-01-01\",\"Neu gebaute Geb\\u00e4ude nach Geb\\u00e4udeart und Jahr seit 1901/Wohnhaus mit Gesch\\u00e4ftsr\\u00e4umen/2019-01-01\",\"Neu gebaute Geb\\u00e4ude nach Geb\\u00e4udeart und Jahr seit 1901/Einfamilienhaus/2020-01-01\",\"Neu gebaute Geb\\u00e4ude nach Geb\\u00e4udeart und Jahr seit 1901/Mehrfamilienhaus/2020-01-01\",\"Neu gebaute Geb\\u00e4ude nach Geb\\u00e4udeart und Jahr seit 1901/Nichtwohngeb\\u00e4ude/2020-01-01\",\"Neu gebaute Geb\\u00e4ude nach Geb\\u00e4udeart und Jahr seit 1901/Wohnhaus mit Gesch\\u00e4ftsr\\u00e4umen/2020-01-01\",\"Neu gebaute Geb\\u00e4ude nach Geb\\u00e4udeart und Jahr seit 1901/Einfamilienhaus/2021-01-01\",\"Neu gebaute Geb\\u00e4ude nach Geb\\u00e4udeart und Jahr seit 1901/Mehrfamilienhaus/2021-01-01\",\"Neu gebaute Geb\\u00e4ude nach Geb\\u00e4udeart und Jahr seit 1901/Nichtwohngeb\\u00e4ude/2021-01-01\",\"Neu gebaute Geb\\u00e4ude nach Geb\\u00e4udeart und Jahr seit 1901/Wohnhaus mit Gesch\\u00e4ftsr\\u00e4umen/2021-01-01\",\"Neu gebaute Geb\\u00e4ude nach Geb\\u00e4udeart und Jahr seit 1901/Einfamilienhaus\",\"Neu gebaute Geb\\u00e4ude nach Geb\\u00e4udeart und Jahr seit 1901/Mehrfamilienhaus\",\"Neu gebaute Geb\\u00e4ude nach Geb\\u00e4udeart und Jahr seit 1901/Nichtwohngeb\\u00e4ude\",\"Neu gebaute Geb\\u00e4ude nach Geb\\u00e4udeart und Jahr seit 1901/Wohnhaus mit Gesch\\u00e4ftsr\\u00e4umen\",\"Neu gebaute Geb\\u00e4ude nach Geb\\u00e4udeart und Jahr seit 1901\"],\"labels\":[\"1902-01-01\",\"1902-01-01\",\"1902-01-01\",\"1902-01-01\",\"1903-01-01\",\"1903-01-01\",\"1903-01-01\",\"1903-01-01\",\"1904-01-01\",\"1904-01-01\",\"1904-01-01\",\"1904-01-01\",\"1905-01-01\",\"1905-01-01\",\"1905-01-01\",\"1905-01-01\",\"1906-01-01\",\"1906-01-01\",\"1906-01-01\",\"1906-01-01\",\"1907-01-01\",\"1907-01-01\",\"1907-01-01\",\"1907-01-01\",\"1908-01-01\",\"1908-01-01\",\"1908-01-01\",\"1908-01-01\",\"1909-01-01\",\"1909-01-01\",\"1909-01-01\",\"1909-01-01\",\"1910-01-01\",\"1910-01-01\",\"1910-01-01\",\"1910-01-01\",\"1911-01-01\",\"1911-01-01\",\"1911-01-01\",\"1911-01-01\",\"1912-01-01\",\"1912-01-01\",\"1912-01-01\",\"1912-01-01\",\"1913-01-01\",\"1913-01-01\",\"1913-01-01\",\"1913-01-01\",\"1914-01-01\",\"1914-01-01\",\"1914-01-01\",\"1914-01-01\",\"1915-01-01\",\"1915-01-01\",\"1915-01-01\",\"1915-01-01\",\"1916-01-01\",\"1916-01-01\",\"1916-01-01\",\"1916-01-01\",\"1917-01-01\",\"1917-01-01\",\"1917-01-01\",\"1917-01-01\",\"1918-01-01\",\"1918-01-01\",\"1918-01-01\",\"1918-01-01\",\"1919-01-01\",\"1919-01-01\",\"1919-01-01\",\"1919-01-01\",\"1920-01-01\",\"1920-01-01\",\"1920-01-01\",\"1920-01-01\",\"1921-01-01\",\"1921-01-01\",\"1921-01-01\",\"1921-01-01\",\"1922-01-01\",\"1922-01-01\",\"1922-01-01\",\"1922-01-01\",\"1923-01-01\",\"1923-01-01\",\"1923-01-01\",\"1923-01-01\",\"1924-01-01\",\"1924-01-01\",\"1924-01-01\",\"1924-01-01\",\"1925-01-01\",\"1925-01-01\",\"1925-01-01\",\"1925-01-01\",\"1926-01-01\",\"1926-01-01\",\"1926-01-01\",\"1926-01-01\",\"1927-01-01\",\"1927-01-01\",\"1927-01-01\",\"1927-01-01\",\"1928-01-01\",\"1928-01-01\",\"1928-01-01\",\"1928-01-01\",\"1929-01-01\",\"1929-01-01\",\"1929-01-01\",\"1929-01-01\",\"1930-01-01\",\"1930-01-01\",\"1930-01-01\",\"1930-01-01\",\"1931-01-01\",\"1931-01-01\",\"1931-01-01\",\"1931-01-01\",\"1932-01-01\",\"1932-01-01\",\"1932-01-01\",\"1932-01-01\",\"1933-01-01\",\"1933-01-01\",\"1933-01-01\",\"1933-01-01\",\"1934-01-01\",\"1934-01-01\",\"1934-01-01\",\"1934-01-01\",\"1935-01-01\",\"1935-01-01\",\"1935-01-01\",\"1935-01-01\",\"1936-01-01\",\"1936-01-01\",\"1936-01-01\",\"1936-01-01\",\"1937-01-01\",\"1937-01-01\",\"1937-01-01\",\"1937-01-01\",\"1938-01-01\",\"1938-01-01\",\"1938-01-01\",\"1938-01-01\",\"1939-01-01\",\"1939-01-01\",\"1939-01-01\",\"1939-01-01\",\"1940-01-01\",\"1940-01-01\",\"1940-01-01\",\"1940-01-01\",\"1941-01-01\",\"1941-01-01\",\"1941-01-01\",\"1941-01-01\",\"1942-01-01\",\"1942-01-01\",\"1942-01-01\",\"1942-01-01\",\"1943-01-01\",\"1943-01-01\",\"1943-01-01\",\"1943-01-01\",\"1944-01-01\",\"1944-01-01\",\"1944-01-01\",\"1944-01-01\",\"1945-01-01\",\"1945-01-01\",\"1945-01-01\",\"1945-01-01\",\"1946-01-01\",\"1946-01-01\",\"1946-01-01\",\"1946-01-01\",\"1947-01-01\",\"1947-01-01\",\"1947-01-01\",\"1947-01-01\",\"1948-01-01\",\"1948-01-01\",\"1948-01-01\",\"1948-01-01\",\"1949-01-01\",\"1949-01-01\",\"1949-01-01\",\"1949-01-01\",\"1950-01-01\",\"1950-01-01\",\"1950-01-01\",\"1950-01-01\",\"1951-01-01\",\"1951-01-01\",\"1951-01-01\",\"1951-01-01\",\"1952-01-01\",\"1952-01-01\",\"1952-01-01\",\"1952-01-01\",\"1953-01-01\",\"1953-01-01\",\"1953-01-01\",\"1953-01-01\",\"1954-01-01\",\"1954-01-01\",\"1954-01-01\",\"1954-01-01\",\"1955-01-01\",\"1955-01-01\",\"1955-01-01\",\"1955-01-01\",\"1956-01-01\",\"1956-01-01\",\"1956-01-01\",\"1956-01-01\",\"1957-01-01\",\"1957-01-01\",\"1957-01-01\",\"1957-01-01\",\"1958-01-01\",\"1958-01-01\",\"1958-01-01\",\"1958-01-01\",\"1959-01-01\",\"1959-01-01\",\"1959-01-01\",\"1959-01-01\",\"1960-01-01\",\"1960-01-01\",\"1960-01-01\",\"1960-01-01\",\"1961-01-01\",\"1961-01-01\",\"1961-01-01\",\"1961-01-01\",\"1962-01-01\",\"1962-01-01\",\"1962-01-01\",\"1962-01-01\",\"1963-01-01\",\"1963-01-01\",\"1963-01-01\",\"1963-01-01\",\"1964-01-01\",\"1964-01-01\",\"1964-01-01\",\"1964-01-01\",\"1965-01-01\",\"1965-01-01\",\"1965-01-01\",\"1965-01-01\",\"1966-01-01\",\"1966-01-01\",\"1966-01-01\",\"1966-01-01\",\"1967-01-01\",\"1967-01-01\",\"1967-01-01\",\"1967-01-01\",\"1968-01-01\",\"1968-01-01\",\"1968-01-01\",\"1968-01-01\",\"1969-01-01\",\"1969-01-01\",\"1969-01-01\",\"1969-01-01\",\"1970-01-01\",\"1970-01-01\",\"1970-01-01\",\"1970-01-01\",\"1971-01-01\",\"1971-01-01\",\"1971-01-01\",\"1971-01-01\",\"1972-01-01\",\"1972-01-01\",\"1972-01-01\",\"1972-01-01\",\"1973-01-01\",\"1973-01-01\",\"1973-01-01\",\"1973-01-01\",\"1974-01-01\",\"1974-01-01\",\"1974-01-01\",\"1974-01-01\",\"1975-01-01\",\"1975-01-01\",\"1975-01-01\",\"1975-01-01\",\"1976-01-01\",\"1976-01-01\",\"1976-01-01\",\"1976-01-01\",\"1977-01-01\",\"1977-01-01\",\"1977-01-01\",\"1977-01-01\",\"1978-01-01\",\"1978-01-01\",\"1978-01-01\",\"1978-01-01\",\"1979-01-01\",\"1979-01-01\",\"1979-01-01\",\"1979-01-01\",\"1980-01-01\",\"1980-01-01\",\"1980-01-01\",\"1980-01-01\",\"1981-01-01\",\"1981-01-01\",\"1981-01-01\",\"1981-01-01\",\"1982-01-01\",\"1982-01-01\",\"1982-01-01\",\"1982-01-01\",\"1983-01-01\",\"1983-01-01\",\"1983-01-01\",\"1983-01-01\",\"1984-01-01\",\"1984-01-01\",\"1984-01-01\",\"1984-01-01\",\"1985-01-01\",\"1985-01-01\",\"1985-01-01\",\"1985-01-01\",\"1986-01-01\",\"1986-01-01\",\"1986-01-01\",\"1986-01-01\",\"1987-01-01\",\"1987-01-01\",\"1987-01-01\",\"1988-01-01\",\"1988-01-01\",\"1988-01-01\",\"1988-01-01\",\"1989-01-01\",\"1989-01-01\",\"1989-01-01\",\"1989-01-01\",\"1990-01-01\",\"1990-01-01\",\"1990-01-01\",\"1990-01-01\",\"1991-01-01\",\"1991-01-01\",\"1991-01-01\",\"1991-01-01\",\"1992-01-01\",\"1992-01-01\",\"1992-01-01\",\"1992-01-01\",\"1993-01-01\",\"1993-01-01\",\"1993-01-01\",\"1993-01-01\",\"1994-01-01\",\"1994-01-01\",\"1994-01-01\",\"1994-01-01\",\"1995-01-01\",\"1995-01-01\",\"1995-01-01\",\"1995-01-01\",\"1996-01-01\",\"1996-01-01\",\"1996-01-01\",\"1996-01-01\",\"1997-01-01\",\"1997-01-01\",\"1997-01-01\",\"1997-01-01\",\"1998-01-01\",\"1998-01-01\",\"1998-01-01\",\"1998-01-01\",\"1999-01-01\",\"1999-01-01\",\"1999-01-01\",\"1999-01-01\",\"2000-01-01\",\"2000-01-01\",\"2000-01-01\",\"2000-01-01\",\"2001-01-01\",\"2001-01-01\",\"2001-01-01\",\"2001-01-01\",\"2002-01-01\",\"2002-01-01\",\"2002-01-01\",\"2002-01-01\",\"2003-01-01\",\"2003-01-01\",\"2003-01-01\",\"2003-01-01\",\"2004-01-01\",\"2004-01-01\",\"2004-01-01\",\"2004-01-01\",\"2005-01-01\",\"2005-01-01\",\"2005-01-01\",\"2005-01-01\",\"2006-01-01\",\"2006-01-01\",\"2006-01-01\",\"2006-01-01\",\"2007-01-01\",\"2007-01-01\",\"2007-01-01\",\"2007-01-01\",\"2008-01-01\",\"2008-01-01\",\"2008-01-01\",\"2008-01-01\",\"2009-01-01\",\"2009-01-01\",\"2009-01-01\",\"2009-01-01\",\"2010-01-01\",\"2010-01-01\",\"2010-01-01\",\"2010-01-01\",\"2011-01-01\",\"2011-01-01\",\"2011-01-01\",\"2011-01-01\",\"2012-01-01\",\"2012-01-01\",\"2012-01-01\",\"2012-01-01\",\"2013-01-01\",\"2013-01-01\",\"2013-01-01\",\"2013-01-01\",\"2014-01-01\",\"2014-01-01\",\"2014-01-01\",\"2014-01-01\",\"2015-01-01\",\"2015-01-01\",\"2015-01-01\",\"2015-01-01\",\"2016-01-01\",\"2016-01-01\",\"2016-01-01\",\"2016-01-01\",\"2017-01-01\",\"2017-01-01\",\"2017-01-01\",\"2017-01-01\",\"2018-01-01\",\"2018-01-01\",\"2018-01-01\",\"2018-01-01\",\"2019-01-01\",\"2019-01-01\",\"2019-01-01\",\"2019-01-01\",\"2020-01-01\",\"2020-01-01\",\"2020-01-01\",\"2020-01-01\",\"2021-01-01\",\"2021-01-01\",\"2021-01-01\",\"2021-01-01\",\"Einfamilienhaus\",\"Mehrfamilienhaus\",\"Nichtwohngeb\\u00e4ude\",\"Wohnhaus mit Gesch\\u00e4ftsr\\u00e4umen\",\"Neu gebaute Geb\\u00e4ude nach Geb\\u00e4udeart und Jahr seit 1901\"],\"marker\":{\"coloraxis\":\"coloraxis\",\"colors\":[17.0,36.0,60.0,29.0,17.0,38.0,41.0,28.0,34.0,47.0,64.0,28.0,21.0,47.0,33.0,22.0,30.0,72.0,43.0,46.0,37.0,73.0,78.0,54.0,39.0,93.0,84.0,59.0,56.0,146.0,76.0,52.0,74.0,182.0,93.0,103.0,84.0,207.0,95.0,114.0,68.0,199.0,90.0,79.0,59.0,82.0,32.0,40.0,81.0,69.0,67.0,35.0,42.0,63.0,37.0,24.0,36.0,27.0,46.0,20.0,35.0,35.0,44.0,14.0,31.0,53.0,40.0,10.0,26.0,64.0,32.0,3.0,86.0,46.0,46.0,6.0,106.0,40.0,82.0,3.0,58.0,40.0,49.0,17.0,116.0,69.0,73.0,23.0,193.0,198.0,116.0,46.0,292.0,103.0,120.0,51.0,295.0,212.0,123.0,74.0,228.0,211.0,129.0,102.0,214.0,315.0,178.0,100.0,440.0,301.0,178.0,118.0,166.0,316.0,152.0,124.0,429.0,469.0,221.0,181.0,227.0,441.0,218.0,187.0,285.0,190.0,143.0,76.0,302.0,251.0,124.0,102.0,177.0,176.0,94.0,55.0,78.0,60.0,116.0,16.0,141.0,100.0,82.0,22.0,182.0,157.0,72.0,40.0,139.0,236.0,141.0,53.0,81.0,101.0,117.0,21.0,96.0,95.0,120.0,23.0,35.0,142.0,123.0,35.0,271.0,143.0,173.0,19.0,521.0,195.0,83.0,26.0,458.0,222.0,84.0,32.0,590.0,219.0,110.0,53.0,494.0,186.0,116.0,53.0,496.0,382.0,296.0,36.0,384.0,324.0,182.0,16.0,186.0,412.0,152.0,38.0,190.0,509.0,204.0,67.0,154.0,532.0,213.0,60.0,212.0,372.0,250.0,49.0,76.0,409.0,179.0,43.0,58.0,340.0,251.0,34.0,51.0,206.0,318.0,29.0,66.0,234.0,281.0,34.0,16.0,275.0,309.0,32.0,7.0,252.0,223.0,38.0,10.0,279.0,199.0,36.0,12.0,176.0,184.0,41.0,16.0,174.0,217.0,29.0,32.0,115.0,213.0,38.0,18.0,193.0,237.0,23.0,14.0,178.0,206.0,29.0,11.0,139.0,223.0,16.0,4.0,113.0,266.0,20.0,5.0,153.0,200.0,27.0,20.0,161.0,185.0,22.0,2.0,148.0,138.0,19.0,12.0,122.0,170.0,36.0,37.0,132.0,237.0,48.0,13.0,137.0,273.0,34.0,21.0,159.0,201.0,21.0,12.0,99.0,361.0,16.0,2.0,95.0,286.0,25.0,18.0,91.0,322.0,23.0,35.0,69.0,209.0,5.0,30.0,114.0,254.0,16.0,14.0,123.0,201.0,20.0,43.0,184.0,195.0,34.0,66.0,165.0,255.0,49.0,10.0,90.0,142.0,34.0,14.0,97.0,141.0,36.0,6.0,99.0,153.0,43.0,14.0,85.0,105.0,31.0,53.0,60.0,33.0,6.0,44.0,54.0,22.0,9.0,36.0,50.0,32.0,58.0,32.0,58.0,27.0,52.0,81.0,90.0,67.0,17.0,41.0,102.0,28.0,31.0,79.0,127.0,24.0,19.0,61.0,125.0,24.0,9.0,39.0,111.0,30.0,7.0,53.0,67.0,11.0,20.0,33.0,74.0,8.0,34.0,66.0,56.0,7.0,15.0,67.0,51.0,9.0,44.0,84.0,96.0,12.0,16.0,73.0,70.0,19.0,29.0,82.0,60.0,15.0,50.0,117.0,61.0,13.0,8.0,76.0,61.0,21.0,14.0,72.0,56.0,23.0,15.0,91.0,88.0,18.0,68.0,143.0,100.0,31.0,14.0,118.0,28.0,9.0,6.0,107.0,55.0,13.0,14.0,107.0,112.0,17.0,8.0,185.0,79.0,22.0,80.0,130.0,103.0,32.0,35.0,116.0,78.0,44.0,15.0,107.0,74.0,32.0,43.0,144.0,91.0,63.0,18.0,135.0,61.0,49.0,38.0,134.0,83.0,66.0,13.0,165.0,98.0,46.0,11.0,114.0,66.0,33.0,11.0,98.0,69.0,24.0,11.0,113.0,77.0,34.0,269.2305825242718,224.35698324022346,177.0951776649746,63.05321219987022,203.74534136136342]},\"name\":\"\",\"parents\":[\"Neu gebaute Geb\\u00e4ude nach Geb\\u00e4udeart und Jahr seit 1901/Einfamilienhaus\",\"Neu gebaute Geb\\u00e4ude nach Geb\\u00e4udeart und Jahr seit 1901/Mehrfamilienhaus\",\"Neu gebaute Geb\\u00e4ude nach Geb\\u00e4udeart und Jahr seit 1901/Nichtwohngeb\\u00e4ude\",\"Neu gebaute Geb\\u00e4ude nach Geb\\u00e4udeart und Jahr seit 1901/Wohnhaus mit Gesch\\u00e4ftsr\\u00e4umen\",\"Neu gebaute Geb\\u00e4ude nach Geb\\u00e4udeart und Jahr seit 1901/Einfamilienhaus\",\"Neu gebaute Geb\\u00e4ude nach Geb\\u00e4udeart und Jahr seit 1901/Mehrfamilienhaus\",\"Neu gebaute Geb\\u00e4ude nach Geb\\u00e4udeart und Jahr seit 1901/Nichtwohngeb\\u00e4ude\",\"Neu gebaute Geb\\u00e4ude nach Geb\\u00e4udeart und Jahr seit 1901/Wohnhaus mit Gesch\\u00e4ftsr\\u00e4umen\",\"Neu gebaute Geb\\u00e4ude nach Geb\\u00e4udeart und Jahr seit 1901/Einfamilienhaus\",\"Neu gebaute Geb\\u00e4ude nach Geb\\u00e4udeart und Jahr seit 1901/Mehrfamilienhaus\",\"Neu gebaute Geb\\u00e4ude nach Geb\\u00e4udeart und Jahr seit 1901/Nichtwohngeb\\u00e4ude\",\"Neu gebaute Geb\\u00e4ude nach Geb\\u00e4udeart und Jahr seit 1901/Wohnhaus mit Gesch\\u00e4ftsr\\u00e4umen\",\"Neu gebaute Geb\\u00e4ude nach Geb\\u00e4udeart und Jahr seit 1901/Einfamilienhaus\",\"Neu gebaute Geb\\u00e4ude nach Geb\\u00e4udeart und Jahr seit 1901/Mehrfamilienhaus\",\"Neu gebaute Geb\\u00e4ude nach Geb\\u00e4udeart und Jahr seit 1901/Nichtwohngeb\\u00e4ude\",\"Neu gebaute Geb\\u00e4ude nach Geb\\u00e4udeart und Jahr seit 1901/Wohnhaus mit Gesch\\u00e4ftsr\\u00e4umen\",\"Neu gebaute Geb\\u00e4ude nach Geb\\u00e4udeart und Jahr seit 1901/Einfamilienhaus\",\"Neu gebaute Geb\\u00e4ude nach Geb\\u00e4udeart und Jahr seit 1901/Mehrfamilienhaus\",\"Neu gebaute Geb\\u00e4ude nach Geb\\u00e4udeart und Jahr seit 1901/Nichtwohngeb\\u00e4ude\",\"Neu gebaute Geb\\u00e4ude nach Geb\\u00e4udeart und Jahr seit 1901/Wohnhaus mit Gesch\\u00e4ftsr\\u00e4umen\",\"Neu gebaute Geb\\u00e4ude nach Geb\\u00e4udeart und Jahr seit 1901/Einfamilienhaus\",\"Neu gebaute Geb\\u00e4ude nach Geb\\u00e4udeart und Jahr seit 1901/Mehrfamilienhaus\",\"Neu gebaute Geb\\u00e4ude nach Geb\\u00e4udeart und Jahr seit 1901/Nichtwohngeb\\u00e4ude\",\"Neu gebaute Geb\\u00e4ude nach Geb\\u00e4udeart und Jahr seit 1901/Wohnhaus mit Gesch\\u00e4ftsr\\u00e4umen\",\"Neu gebaute Geb\\u00e4ude nach Geb\\u00e4udeart und Jahr seit 1901/Einfamilienhaus\",\"Neu gebaute Geb\\u00e4ude nach Geb\\u00e4udeart und Jahr seit 1901/Mehrfamilienhaus\",\"Neu gebaute Geb\\u00e4ude nach Geb\\u00e4udeart und Jahr seit 1901/Nichtwohngeb\\u00e4ude\",\"Neu gebaute Geb\\u00e4ude nach Geb\\u00e4udeart und Jahr seit 1901/Wohnhaus mit Gesch\\u00e4ftsr\\u00e4umen\",\"Neu gebaute Geb\\u00e4ude nach Geb\\u00e4udeart und Jahr seit 1901/Einfamilienhaus\",\"Neu gebaute Geb\\u00e4ude nach Geb\\u00e4udeart und Jahr seit 1901/Mehrfamilienhaus\",\"Neu gebaute Geb\\u00e4ude nach Geb\\u00e4udeart und Jahr seit 1901/Nichtwohngeb\\u00e4ude\",\"Neu gebaute Geb\\u00e4ude nach Geb\\u00e4udeart und Jahr seit 1901/Wohnhaus mit Gesch\\u00e4ftsr\\u00e4umen\",\"Neu gebaute Geb\\u00e4ude nach Geb\\u00e4udeart und Jahr seit 1901/Einfamilienhaus\",\"Neu gebaute Geb\\u00e4ude nach Geb\\u00e4udeart und Jahr seit 1901/Mehrfamilienhaus\",\"Neu gebaute Geb\\u00e4ude nach Geb\\u00e4udeart und Jahr seit 1901/Nichtwohngeb\\u00e4ude\",\"Neu gebaute Geb\\u00e4ude nach Geb\\u00e4udeart und Jahr seit 1901/Wohnhaus mit Gesch\\u00e4ftsr\\u00e4umen\",\"Neu gebaute Geb\\u00e4ude nach Geb\\u00e4udeart und Jahr seit 1901/Einfamilienhaus\",\"Neu gebaute Geb\\u00e4ude nach Geb\\u00e4udeart und Jahr seit 1901/Mehrfamilienhaus\",\"Neu gebaute Geb\\u00e4ude nach Geb\\u00e4udeart und Jahr seit 1901/Nichtwohngeb\\u00e4ude\",\"Neu gebaute Geb\\u00e4ude nach Geb\\u00e4udeart und Jahr seit 1901/Wohnhaus mit Gesch\\u00e4ftsr\\u00e4umen\",\"Neu gebaute Geb\\u00e4ude nach Geb\\u00e4udeart und Jahr seit 1901/Einfamilienhaus\",\"Neu gebaute Geb\\u00e4ude nach Geb\\u00e4udeart und Jahr seit 1901/Mehrfamilienhaus\",\"Neu gebaute Geb\\u00e4ude nach Geb\\u00e4udeart und Jahr seit 1901/Nichtwohngeb\\u00e4ude\",\"Neu gebaute Geb\\u00e4ude nach Geb\\u00e4udeart und Jahr seit 1901/Wohnhaus mit Gesch\\u00e4ftsr\\u00e4umen\",\"Neu gebaute Geb\\u00e4ude nach Geb\\u00e4udeart und Jahr seit 1901/Einfamilienhaus\",\"Neu gebaute Geb\\u00e4ude nach Geb\\u00e4udeart und Jahr seit 1901/Mehrfamilienhaus\",\"Neu gebaute Geb\\u00e4ude nach Geb\\u00e4udeart und Jahr seit 1901/Nichtwohngeb\\u00e4ude\",\"Neu gebaute Geb\\u00e4ude nach Geb\\u00e4udeart und Jahr seit 1901/Wohnhaus mit Gesch\\u00e4ftsr\\u00e4umen\",\"Neu gebaute Geb\\u00e4ude nach Geb\\u00e4udeart und Jahr seit 1901/Einfamilienhaus\",\"Neu gebaute Geb\\u00e4ude nach Geb\\u00e4udeart und Jahr seit 1901/Mehrfamilienhaus\",\"Neu gebaute Geb\\u00e4ude nach Geb\\u00e4udeart und Jahr seit 1901/Nichtwohngeb\\u00e4ude\",\"Neu gebaute Geb\\u00e4ude nach Geb\\u00e4udeart und Jahr seit 1901/Wohnhaus mit Gesch\\u00e4ftsr\\u00e4umen\",\"Neu gebaute Geb\\u00e4ude nach Geb\\u00e4udeart und Jahr seit 1901/Einfamilienhaus\",\"Neu gebaute Geb\\u00e4ude nach Geb\\u00e4udeart und Jahr seit 1901/Mehrfamilienhaus\",\"Neu gebaute Geb\\u00e4ude nach Geb\\u00e4udeart und Jahr seit 1901/Nichtwohngeb\\u00e4ude\",\"Neu gebaute Geb\\u00e4ude nach Geb\\u00e4udeart und Jahr seit 1901/Wohnhaus mit Gesch\\u00e4ftsr\\u00e4umen\",\"Neu gebaute Geb\\u00e4ude nach Geb\\u00e4udeart und Jahr seit 1901/Einfamilienhaus\",\"Neu gebaute Geb\\u00e4ude nach Geb\\u00e4udeart und Jahr seit 1901/Mehrfamilienhaus\",\"Neu gebaute Geb\\u00e4ude nach Geb\\u00e4udeart und Jahr seit 1901/Nichtwohngeb\\u00e4ude\",\"Neu gebaute Geb\\u00e4ude nach Geb\\u00e4udeart und Jahr seit 1901/Wohnhaus mit Gesch\\u00e4ftsr\\u00e4umen\",\"Neu gebaute Geb\\u00e4ude nach Geb\\u00e4udeart und Jahr seit 1901/Einfamilienhaus\",\"Neu gebaute Geb\\u00e4ude nach Geb\\u00e4udeart und Jahr seit 1901/Mehrfamilienhaus\",\"Neu gebaute Geb\\u00e4ude nach Geb\\u00e4udeart und Jahr seit 1901/Nichtwohngeb\\u00e4ude\",\"Neu gebaute Geb\\u00e4ude nach Geb\\u00e4udeart und Jahr seit 1901/Wohnhaus mit Gesch\\u00e4ftsr\\u00e4umen\",\"Neu gebaute Geb\\u00e4ude nach Geb\\u00e4udeart und Jahr seit 1901/Einfamilienhaus\",\"Neu gebaute Geb\\u00e4ude nach Geb\\u00e4udeart und Jahr seit 1901/Mehrfamilienhaus\",\"Neu gebaute Geb\\u00e4ude nach Geb\\u00e4udeart und Jahr seit 1901/Nichtwohngeb\\u00e4ude\",\"Neu gebaute Geb\\u00e4ude nach Geb\\u00e4udeart und Jahr seit 1901/Wohnhaus mit Gesch\\u00e4ftsr\\u00e4umen\",\"Neu gebaute Geb\\u00e4ude nach Geb\\u00e4udeart und Jahr seit 1901/Einfamilienhaus\",\"Neu gebaute Geb\\u00e4ude nach Geb\\u00e4udeart und Jahr seit 1901/Mehrfamilienhaus\",\"Neu gebaute Geb\\u00e4ude nach Geb\\u00e4udeart und Jahr seit 1901/Nichtwohngeb\\u00e4ude\",\"Neu gebaute Geb\\u00e4ude nach Geb\\u00e4udeart und Jahr seit 1901/Wohnhaus mit Gesch\\u00e4ftsr\\u00e4umen\",\"Neu gebaute Geb\\u00e4ude nach Geb\\u00e4udeart und Jahr seit 1901/Einfamilienhaus\",\"Neu gebaute Geb\\u00e4ude nach Geb\\u00e4udeart und Jahr seit 1901/Mehrfamilienhaus\",\"Neu gebaute Geb\\u00e4ude nach Geb\\u00e4udeart und Jahr seit 1901/Nichtwohngeb\\u00e4ude\",\"Neu gebaute Geb\\u00e4ude nach Geb\\u00e4udeart und Jahr seit 1901/Wohnhaus mit Gesch\\u00e4ftsr\\u00e4umen\",\"Neu gebaute Geb\\u00e4ude nach Geb\\u00e4udeart und Jahr seit 1901/Einfamilienhaus\",\"Neu gebaute Geb\\u00e4ude nach Geb\\u00e4udeart und Jahr seit 1901/Mehrfamilienhaus\",\"Neu gebaute Geb\\u00e4ude nach Geb\\u00e4udeart und Jahr seit 1901/Nichtwohngeb\\u00e4ude\",\"Neu gebaute Geb\\u00e4ude nach Geb\\u00e4udeart und Jahr seit 1901/Wohnhaus mit Gesch\\u00e4ftsr\\u00e4umen\",\"Neu gebaute Geb\\u00e4ude nach Geb\\u00e4udeart und Jahr seit 1901/Einfamilienhaus\",\"Neu gebaute Geb\\u00e4ude nach Geb\\u00e4udeart und Jahr seit 1901/Mehrfamilienhaus\",\"Neu gebaute Geb\\u00e4ude nach Geb\\u00e4udeart und Jahr seit 1901/Nichtwohngeb\\u00e4ude\",\"Neu gebaute Geb\\u00e4ude nach Geb\\u00e4udeart und Jahr seit 1901/Wohnhaus mit Gesch\\u00e4ftsr\\u00e4umen\",\"Neu gebaute Geb\\u00e4ude nach Geb\\u00e4udeart und Jahr seit 1901/Einfamilienhaus\",\"Neu gebaute Geb\\u00e4ude nach Geb\\u00e4udeart und Jahr seit 1901/Mehrfamilienhaus\",\"Neu gebaute Geb\\u00e4ude nach Geb\\u00e4udeart und Jahr seit 1901/Nichtwohngeb\\u00e4ude\",\"Neu gebaute Geb\\u00e4ude nach Geb\\u00e4udeart und Jahr seit 1901/Wohnhaus mit Gesch\\u00e4ftsr\\u00e4umen\",\"Neu gebaute Geb\\u00e4ude nach Geb\\u00e4udeart und Jahr seit 1901/Einfamilienhaus\",\"Neu gebaute Geb\\u00e4ude nach Geb\\u00e4udeart und Jahr seit 1901/Mehrfamilienhaus\",\"Neu gebaute Geb\\u00e4ude nach Geb\\u00e4udeart und Jahr seit 1901/Nichtwohngeb\\u00e4ude\",\"Neu gebaute Geb\\u00e4ude nach Geb\\u00e4udeart und Jahr seit 1901/Wohnhaus mit Gesch\\u00e4ftsr\\u00e4umen\",\"Neu gebaute Geb\\u00e4ude nach Geb\\u00e4udeart und Jahr seit 1901/Einfamilienhaus\",\"Neu gebaute Geb\\u00e4ude nach Geb\\u00e4udeart und Jahr seit 1901/Mehrfamilienhaus\",\"Neu gebaute Geb\\u00e4ude nach Geb\\u00e4udeart und Jahr seit 1901/Nichtwohngeb\\u00e4ude\",\"Neu gebaute Geb\\u00e4ude nach Geb\\u00e4udeart und Jahr seit 1901/Wohnhaus mit Gesch\\u00e4ftsr\\u00e4umen\",\"Neu gebaute Geb\\u00e4ude nach Geb\\u00e4udeart und Jahr seit 1901/Einfamilienhaus\",\"Neu gebaute Geb\\u00e4ude nach Geb\\u00e4udeart und Jahr seit 1901/Mehrfamilienhaus\",\"Neu gebaute Geb\\u00e4ude nach Geb\\u00e4udeart und Jahr seit 1901/Nichtwohngeb\\u00e4ude\",\"Neu gebaute Geb\\u00e4ude nach Geb\\u00e4udeart und Jahr seit 1901/Wohnhaus mit Gesch\\u00e4ftsr\\u00e4umen\",\"Neu gebaute Geb\\u00e4ude nach Geb\\u00e4udeart und Jahr seit 1901/Einfamilienhaus\",\"Neu gebaute Geb\\u00e4ude nach Geb\\u00e4udeart und Jahr seit 1901/Mehrfamilienhaus\",\"Neu gebaute Geb\\u00e4ude nach Geb\\u00e4udeart und Jahr seit 1901/Nichtwohngeb\\u00e4ude\",\"Neu gebaute Geb\\u00e4ude nach Geb\\u00e4udeart und Jahr seit 1901/Wohnhaus mit Gesch\\u00e4ftsr\\u00e4umen\",\"Neu gebaute Geb\\u00e4ude nach Geb\\u00e4udeart und Jahr seit 1901/Einfamilienhaus\",\"Neu gebaute Geb\\u00e4ude nach Geb\\u00e4udeart und Jahr seit 1901/Mehrfamilienhaus\",\"Neu gebaute Geb\\u00e4ude nach Geb\\u00e4udeart und Jahr seit 1901/Nichtwohngeb\\u00e4ude\",\"Neu gebaute Geb\\u00e4ude nach Geb\\u00e4udeart und Jahr seit 1901/Wohnhaus mit Gesch\\u00e4ftsr\\u00e4umen\",\"Neu gebaute Geb\\u00e4ude nach Geb\\u00e4udeart und Jahr seit 1901/Einfamilienhaus\",\"Neu gebaute Geb\\u00e4ude nach Geb\\u00e4udeart und Jahr seit 1901/Mehrfamilienhaus\",\"Neu gebaute Geb\\u00e4ude nach Geb\\u00e4udeart und Jahr seit 1901/Nichtwohngeb\\u00e4ude\",\"Neu gebaute Geb\\u00e4ude nach Geb\\u00e4udeart und Jahr seit 1901/Wohnhaus mit Gesch\\u00e4ftsr\\u00e4umen\",\"Neu gebaute Geb\\u00e4ude nach Geb\\u00e4udeart und Jahr seit 1901/Einfamilienhaus\",\"Neu gebaute Geb\\u00e4ude nach Geb\\u00e4udeart und Jahr seit 1901/Mehrfamilienhaus\",\"Neu gebaute Geb\\u00e4ude nach Geb\\u00e4udeart und Jahr seit 1901/Nichtwohngeb\\u00e4ude\",\"Neu gebaute Geb\\u00e4ude nach Geb\\u00e4udeart und Jahr seit 1901/Wohnhaus mit Gesch\\u00e4ftsr\\u00e4umen\",\"Neu gebaute Geb\\u00e4ude nach Geb\\u00e4udeart und Jahr seit 1901/Einfamilienhaus\",\"Neu gebaute Geb\\u00e4ude nach Geb\\u00e4udeart und Jahr seit 1901/Mehrfamilienhaus\",\"Neu gebaute Geb\\u00e4ude nach Geb\\u00e4udeart und Jahr seit 1901/Nichtwohngeb\\u00e4ude\",\"Neu gebaute Geb\\u00e4ude nach Geb\\u00e4udeart und Jahr seit 1901/Wohnhaus mit Gesch\\u00e4ftsr\\u00e4umen\",\"Neu gebaute Geb\\u00e4ude nach Geb\\u00e4udeart und Jahr seit 1901/Einfamilienhaus\",\"Neu gebaute Geb\\u00e4ude nach Geb\\u00e4udeart und Jahr seit 1901/Mehrfamilienhaus\",\"Neu gebaute Geb\\u00e4ude nach Geb\\u00e4udeart und Jahr seit 1901/Nichtwohngeb\\u00e4ude\",\"Neu gebaute Geb\\u00e4ude nach Geb\\u00e4udeart und Jahr seit 1901/Wohnhaus mit Gesch\\u00e4ftsr\\u00e4umen\",\"Neu gebaute Geb\\u00e4ude nach Geb\\u00e4udeart und Jahr seit 1901/Einfamilienhaus\",\"Neu gebaute Geb\\u00e4ude nach Geb\\u00e4udeart und Jahr seit 1901/Mehrfamilienhaus\",\"Neu gebaute Geb\\u00e4ude nach Geb\\u00e4udeart und Jahr seit 1901/Nichtwohngeb\\u00e4ude\",\"Neu gebaute Geb\\u00e4ude nach Geb\\u00e4udeart und Jahr seit 1901/Wohnhaus mit Gesch\\u00e4ftsr\\u00e4umen\",\"Neu gebaute Geb\\u00e4ude nach Geb\\u00e4udeart und Jahr seit 1901/Einfamilienhaus\",\"Neu gebaute Geb\\u00e4ude nach Geb\\u00e4udeart und Jahr seit 1901/Mehrfamilienhaus\",\"Neu gebaute Geb\\u00e4ude nach Geb\\u00e4udeart und Jahr seit 1901/Nichtwohngeb\\u00e4ude\",\"Neu gebaute Geb\\u00e4ude nach Geb\\u00e4udeart und Jahr seit 1901/Wohnhaus mit Gesch\\u00e4ftsr\\u00e4umen\",\"Neu gebaute Geb\\u00e4ude nach Geb\\u00e4udeart und Jahr seit 1901/Einfamilienhaus\",\"Neu gebaute Geb\\u00e4ude nach Geb\\u00e4udeart und Jahr seit 1901/Mehrfamilienhaus\",\"Neu gebaute Geb\\u00e4ude nach Geb\\u00e4udeart und Jahr seit 1901/Nichtwohngeb\\u00e4ude\",\"Neu gebaute Geb\\u00e4ude nach Geb\\u00e4udeart und Jahr seit 1901/Wohnhaus mit Gesch\\u00e4ftsr\\u00e4umen\",\"Neu gebaute Geb\\u00e4ude nach Geb\\u00e4udeart und Jahr seit 1901/Einfamilienhaus\",\"Neu gebaute Geb\\u00e4ude nach Geb\\u00e4udeart und Jahr seit 1901/Mehrfamilienhaus\",\"Neu gebaute Geb\\u00e4ude nach Geb\\u00e4udeart und Jahr seit 1901/Nichtwohngeb\\u00e4ude\",\"Neu gebaute Geb\\u00e4ude nach Geb\\u00e4udeart und Jahr seit 1901/Wohnhaus mit Gesch\\u00e4ftsr\\u00e4umen\",\"Neu gebaute Geb\\u00e4ude nach Geb\\u00e4udeart und Jahr seit 1901/Einfamilienhaus\",\"Neu gebaute Geb\\u00e4ude nach Geb\\u00e4udeart und Jahr seit 1901/Mehrfamilienhaus\",\"Neu gebaute Geb\\u00e4ude nach Geb\\u00e4udeart und Jahr seit 1901/Nichtwohngeb\\u00e4ude\",\"Neu gebaute Geb\\u00e4ude nach Geb\\u00e4udeart und Jahr seit 1901/Wohnhaus mit Gesch\\u00e4ftsr\\u00e4umen\",\"Neu gebaute Geb\\u00e4ude nach Geb\\u00e4udeart und Jahr seit 1901/Einfamilienhaus\",\"Neu gebaute Geb\\u00e4ude nach Geb\\u00e4udeart und Jahr seit 1901/Mehrfamilienhaus\",\"Neu gebaute Geb\\u00e4ude nach Geb\\u00e4udeart und Jahr seit 1901/Nichtwohngeb\\u00e4ude\",\"Neu gebaute Geb\\u00e4ude nach Geb\\u00e4udeart und Jahr seit 1901/Wohnhaus mit Gesch\\u00e4ftsr\\u00e4umen\",\"Neu gebaute Geb\\u00e4ude nach Geb\\u00e4udeart und Jahr seit 1901/Einfamilienhaus\",\"Neu gebaute Geb\\u00e4ude nach Geb\\u00e4udeart und Jahr seit 1901/Mehrfamilienhaus\",\"Neu gebaute Geb\\u00e4ude nach Geb\\u00e4udeart und Jahr seit 1901/Nichtwohngeb\\u00e4ude\",\"Neu gebaute Geb\\u00e4ude nach Geb\\u00e4udeart und Jahr seit 1901/Wohnhaus mit Gesch\\u00e4ftsr\\u00e4umen\",\"Neu gebaute Geb\\u00e4ude nach Geb\\u00e4udeart und Jahr seit 1901/Einfamilienhaus\",\"Neu gebaute Geb\\u00e4ude nach Geb\\u00e4udeart und Jahr seit 1901/Mehrfamilienhaus\",\"Neu gebaute Geb\\u00e4ude nach Geb\\u00e4udeart und Jahr seit 1901/Nichtwohngeb\\u00e4ude\",\"Neu gebaute Geb\\u00e4ude nach Geb\\u00e4udeart und Jahr seit 1901/Wohnhaus mit Gesch\\u00e4ftsr\\u00e4umen\",\"Neu gebaute Geb\\u00e4ude nach Geb\\u00e4udeart und Jahr seit 1901/Einfamilienhaus\",\"Neu gebaute Geb\\u00e4ude nach Geb\\u00e4udeart und Jahr seit 1901/Mehrfamilienhaus\",\"Neu gebaute Geb\\u00e4ude nach Geb\\u00e4udeart und Jahr seit 1901/Nichtwohngeb\\u00e4ude\",\"Neu gebaute Geb\\u00e4ude nach Geb\\u00e4udeart und Jahr seit 1901/Wohnhaus mit Gesch\\u00e4ftsr\\u00e4umen\",\"Neu gebaute Geb\\u00e4ude nach Geb\\u00e4udeart und Jahr seit 1901/Einfamilienhaus\",\"Neu gebaute Geb\\u00e4ude nach Geb\\u00e4udeart und Jahr seit 1901/Mehrfamilienhaus\",\"Neu gebaute Geb\\u00e4ude nach Geb\\u00e4udeart und Jahr seit 1901/Nichtwohngeb\\u00e4ude\",\"Neu gebaute Geb\\u00e4ude nach Geb\\u00e4udeart und Jahr seit 1901/Wohnhaus mit Gesch\\u00e4ftsr\\u00e4umen\",\"Neu gebaute Geb\\u00e4ude nach Geb\\u00e4udeart und Jahr seit 1901/Einfamilienhaus\",\"Neu gebaute Geb\\u00e4ude nach Geb\\u00e4udeart und Jahr seit 1901/Mehrfamilienhaus\",\"Neu gebaute Geb\\u00e4ude nach Geb\\u00e4udeart und Jahr seit 1901/Nichtwohngeb\\u00e4ude\",\"Neu gebaute Geb\\u00e4ude nach Geb\\u00e4udeart und Jahr seit 1901/Wohnhaus mit Gesch\\u00e4ftsr\\u00e4umen\",\"Neu gebaute Geb\\u00e4ude nach Geb\\u00e4udeart und Jahr seit 1901/Einfamilienhaus\",\"Neu gebaute Geb\\u00e4ude nach Geb\\u00e4udeart und Jahr seit 1901/Mehrfamilienhaus\",\"Neu gebaute Geb\\u00e4ude nach Geb\\u00e4udeart und Jahr seit 1901/Nichtwohngeb\\u00e4ude\",\"Neu gebaute Geb\\u00e4ude nach Geb\\u00e4udeart und Jahr seit 1901/Wohnhaus mit Gesch\\u00e4ftsr\\u00e4umen\",\"Neu gebaute Geb\\u00e4ude nach Geb\\u00e4udeart und Jahr seit 1901/Einfamilienhaus\",\"Neu gebaute Geb\\u00e4ude nach Geb\\u00e4udeart und Jahr seit 1901/Mehrfamilienhaus\",\"Neu gebaute Geb\\u00e4ude nach Geb\\u00e4udeart und Jahr seit 1901/Nichtwohngeb\\u00e4ude\",\"Neu gebaute Geb\\u00e4ude nach Geb\\u00e4udeart und Jahr seit 1901/Wohnhaus mit Gesch\\u00e4ftsr\\u00e4umen\",\"Neu gebaute Geb\\u00e4ude nach Geb\\u00e4udeart und Jahr seit 1901/Einfamilienhaus\",\"Neu gebaute Geb\\u00e4ude nach Geb\\u00e4udeart und Jahr seit 1901/Mehrfamilienhaus\",\"Neu gebaute Geb\\u00e4ude nach Geb\\u00e4udeart und Jahr seit 1901/Nichtwohngeb\\u00e4ude\",\"Neu gebaute Geb\\u00e4ude nach Geb\\u00e4udeart und Jahr seit 1901/Wohnhaus mit Gesch\\u00e4ftsr\\u00e4umen\",\"Neu gebaute Geb\\u00e4ude nach Geb\\u00e4udeart und Jahr seit 1901/Einfamilienhaus\",\"Neu gebaute Geb\\u00e4ude nach Geb\\u00e4udeart und Jahr seit 1901/Mehrfamilienhaus\",\"Neu gebaute Geb\\u00e4ude nach Geb\\u00e4udeart und Jahr seit 1901/Nichtwohngeb\\u00e4ude\",\"Neu gebaute Geb\\u00e4ude nach Geb\\u00e4udeart und Jahr seit 1901/Wohnhaus mit Gesch\\u00e4ftsr\\u00e4umen\",\"Neu gebaute Geb\\u00e4ude nach Geb\\u00e4udeart und Jahr seit 1901/Einfamilienhaus\",\"Neu gebaute Geb\\u00e4ude nach Geb\\u00e4udeart und Jahr seit 1901/Mehrfamilienhaus\",\"Neu gebaute Geb\\u00e4ude nach Geb\\u00e4udeart und Jahr seit 1901/Nichtwohngeb\\u00e4ude\",\"Neu gebaute Geb\\u00e4ude nach Geb\\u00e4udeart und Jahr seit 1901/Wohnhaus mit Gesch\\u00e4ftsr\\u00e4umen\",\"Neu gebaute Geb\\u00e4ude nach Geb\\u00e4udeart und Jahr seit 1901/Einfamilienhaus\",\"Neu gebaute Geb\\u00e4ude nach Geb\\u00e4udeart und Jahr seit 1901/Mehrfamilienhaus\",\"Neu gebaute Geb\\u00e4ude nach Geb\\u00e4udeart und Jahr seit 1901/Nichtwohngeb\\u00e4ude\",\"Neu gebaute Geb\\u00e4ude nach Geb\\u00e4udeart und Jahr seit 1901/Wohnhaus mit Gesch\\u00e4ftsr\\u00e4umen\",\"Neu gebaute Geb\\u00e4ude nach Geb\\u00e4udeart und Jahr seit 1901/Einfamilienhaus\",\"Neu gebaute Geb\\u00e4ude nach Geb\\u00e4udeart und Jahr seit 1901/Mehrfamilienhaus\",\"Neu gebaute Geb\\u00e4ude nach Geb\\u00e4udeart und Jahr seit 1901/Nichtwohngeb\\u00e4ude\",\"Neu gebaute Geb\\u00e4ude nach Geb\\u00e4udeart und Jahr seit 1901/Wohnhaus mit Gesch\\u00e4ftsr\\u00e4umen\",\"Neu gebaute Geb\\u00e4ude nach Geb\\u00e4udeart und Jahr seit 1901/Einfamilienhaus\",\"Neu gebaute Geb\\u00e4ude nach Geb\\u00e4udeart und Jahr seit 1901/Mehrfamilienhaus\",\"Neu gebaute Geb\\u00e4ude nach Geb\\u00e4udeart und Jahr seit 1901/Nichtwohngeb\\u00e4ude\",\"Neu gebaute Geb\\u00e4ude nach Geb\\u00e4udeart und Jahr seit 1901/Wohnhaus mit Gesch\\u00e4ftsr\\u00e4umen\",\"Neu gebaute Geb\\u00e4ude nach Geb\\u00e4udeart und Jahr seit 1901/Einfamilienhaus\",\"Neu gebaute Geb\\u00e4ude nach Geb\\u00e4udeart und Jahr seit 1901/Mehrfamilienhaus\",\"Neu gebaute Geb\\u00e4ude nach Geb\\u00e4udeart und Jahr seit 1901/Nichtwohngeb\\u00e4ude\",\"Neu gebaute Geb\\u00e4ude nach Geb\\u00e4udeart und Jahr seit 1901/Wohnhaus mit Gesch\\u00e4ftsr\\u00e4umen\",\"Neu gebaute Geb\\u00e4ude nach Geb\\u00e4udeart und Jahr seit 1901/Einfamilienhaus\",\"Neu gebaute Geb\\u00e4ude nach Geb\\u00e4udeart und Jahr seit 1901/Mehrfamilienhaus\",\"Neu gebaute Geb\\u00e4ude nach Geb\\u00e4udeart und Jahr seit 1901/Nichtwohngeb\\u00e4ude\",\"Neu gebaute Geb\\u00e4ude nach Geb\\u00e4udeart und Jahr seit 1901/Wohnhaus mit Gesch\\u00e4ftsr\\u00e4umen\",\"Neu gebaute Geb\\u00e4ude nach Geb\\u00e4udeart und Jahr seit 1901/Einfamilienhaus\",\"Neu gebaute Geb\\u00e4ude nach Geb\\u00e4udeart und Jahr seit 1901/Mehrfamilienhaus\",\"Neu gebaute Geb\\u00e4ude nach Geb\\u00e4udeart und Jahr seit 1901/Nichtwohngeb\\u00e4ude\",\"Neu gebaute Geb\\u00e4ude nach Geb\\u00e4udeart und Jahr seit 1901/Wohnhaus mit Gesch\\u00e4ftsr\\u00e4umen\",\"Neu gebaute Geb\\u00e4ude nach Geb\\u00e4udeart und Jahr seit 1901/Einfamilienhaus\",\"Neu gebaute Geb\\u00e4ude nach Geb\\u00e4udeart und Jahr seit 1901/Mehrfamilienhaus\",\"Neu gebaute Geb\\u00e4ude nach Geb\\u00e4udeart und Jahr seit 1901/Nichtwohngeb\\u00e4ude\",\"Neu gebaute Geb\\u00e4ude nach Geb\\u00e4udeart und Jahr seit 1901/Wohnhaus mit Gesch\\u00e4ftsr\\u00e4umen\",\"Neu gebaute Geb\\u00e4ude nach Geb\\u00e4udeart und Jahr seit 1901/Einfamilienhaus\",\"Neu gebaute Geb\\u00e4ude nach Geb\\u00e4udeart und Jahr seit 1901/Mehrfamilienhaus\",\"Neu gebaute Geb\\u00e4ude nach Geb\\u00e4udeart und Jahr seit 1901/Nichtwohngeb\\u00e4ude\",\"Neu gebaute Geb\\u00e4ude nach Geb\\u00e4udeart und Jahr seit 1901/Wohnhaus mit Gesch\\u00e4ftsr\\u00e4umen\",\"Neu gebaute Geb\\u00e4ude nach Geb\\u00e4udeart und Jahr seit 1901/Einfamilienhaus\",\"Neu gebaute Geb\\u00e4ude nach Geb\\u00e4udeart und Jahr seit 1901/Mehrfamilienhaus\",\"Neu gebaute Geb\\u00e4ude nach Geb\\u00e4udeart und Jahr seit 1901/Nichtwohngeb\\u00e4ude\",\"Neu gebaute Geb\\u00e4ude nach Geb\\u00e4udeart und Jahr seit 1901/Wohnhaus mit Gesch\\u00e4ftsr\\u00e4umen\",\"Neu gebaute Geb\\u00e4ude nach Geb\\u00e4udeart und Jahr seit 1901/Einfamilienhaus\",\"Neu gebaute Geb\\u00e4ude nach Geb\\u00e4udeart und Jahr seit 1901/Mehrfamilienhaus\",\"Neu gebaute Geb\\u00e4ude nach Geb\\u00e4udeart und Jahr seit 1901/Nichtwohngeb\\u00e4ude\",\"Neu gebaute Geb\\u00e4ude nach Geb\\u00e4udeart und Jahr seit 1901/Wohnhaus mit Gesch\\u00e4ftsr\\u00e4umen\",\"Neu gebaute Geb\\u00e4ude nach Geb\\u00e4udeart und Jahr seit 1901/Einfamilienhaus\",\"Neu gebaute Geb\\u00e4ude nach Geb\\u00e4udeart und Jahr seit 1901/Mehrfamilienhaus\",\"Neu gebaute Geb\\u00e4ude nach Geb\\u00e4udeart und Jahr seit 1901/Nichtwohngeb\\u00e4ude\",\"Neu gebaute Geb\\u00e4ude nach Geb\\u00e4udeart und Jahr seit 1901/Wohnhaus mit Gesch\\u00e4ftsr\\u00e4umen\",\"Neu gebaute Geb\\u00e4ude nach Geb\\u00e4udeart und Jahr seit 1901/Einfamilienhaus\",\"Neu gebaute Geb\\u00e4ude nach Geb\\u00e4udeart und Jahr seit 1901/Mehrfamilienhaus\",\"Neu gebaute Geb\\u00e4ude nach Geb\\u00e4udeart und Jahr seit 1901/Nichtwohngeb\\u00e4ude\",\"Neu gebaute Geb\\u00e4ude nach Geb\\u00e4udeart und Jahr seit 1901/Wohnhaus mit Gesch\\u00e4ftsr\\u00e4umen\",\"Neu gebaute Geb\\u00e4ude nach Geb\\u00e4udeart und Jahr seit 1901/Einfamilienhaus\",\"Neu gebaute Geb\\u00e4ude nach Geb\\u00e4udeart und Jahr seit 1901/Mehrfamilienhaus\",\"Neu gebaute Geb\\u00e4ude nach Geb\\u00e4udeart und Jahr seit 1901/Nichtwohngeb\\u00e4ude\",\"Neu gebaute Geb\\u00e4ude nach Geb\\u00e4udeart und Jahr seit 1901/Wohnhaus mit Gesch\\u00e4ftsr\\u00e4umen\",\"Neu gebaute Geb\\u00e4ude nach Geb\\u00e4udeart und Jahr seit 1901/Einfamilienhaus\",\"Neu gebaute Geb\\u00e4ude nach Geb\\u00e4udeart und Jahr seit 1901/Mehrfamilienhaus\",\"Neu gebaute Geb\\u00e4ude nach Geb\\u00e4udeart und Jahr seit 1901/Nichtwohngeb\\u00e4ude\",\"Neu gebaute Geb\\u00e4ude nach Geb\\u00e4udeart und Jahr seit 1901/Wohnhaus mit Gesch\\u00e4ftsr\\u00e4umen\",\"Neu gebaute Geb\\u00e4ude nach Geb\\u00e4udeart und Jahr seit 1901/Einfamilienhaus\",\"Neu gebaute Geb\\u00e4ude nach Geb\\u00e4udeart und Jahr seit 1901/Mehrfamilienhaus\",\"Neu gebaute Geb\\u00e4ude nach Geb\\u00e4udeart und Jahr seit 1901/Nichtwohngeb\\u00e4ude\",\"Neu gebaute Geb\\u00e4ude nach Geb\\u00e4udeart und Jahr seit 1901/Wohnhaus mit Gesch\\u00e4ftsr\\u00e4umen\",\"Neu gebaute Geb\\u00e4ude nach Geb\\u00e4udeart und Jahr seit 1901/Einfamilienhaus\",\"Neu gebaute Geb\\u00e4ude nach Geb\\u00e4udeart und Jahr seit 1901/Mehrfamilienhaus\",\"Neu gebaute Geb\\u00e4ude nach Geb\\u00e4udeart und Jahr seit 1901/Nichtwohngeb\\u00e4ude\",\"Neu gebaute Geb\\u00e4ude nach Geb\\u00e4udeart und Jahr seit 1901/Wohnhaus mit Gesch\\u00e4ftsr\\u00e4umen\",\"Neu gebaute Geb\\u00e4ude nach Geb\\u00e4udeart und Jahr seit 1901/Einfamilienhaus\",\"Neu gebaute Geb\\u00e4ude nach Geb\\u00e4udeart und Jahr seit 1901/Mehrfamilienhaus\",\"Neu gebaute Geb\\u00e4ude nach Geb\\u00e4udeart und Jahr seit 1901/Nichtwohngeb\\u00e4ude\",\"Neu gebaute Geb\\u00e4ude nach Geb\\u00e4udeart und Jahr seit 1901/Wohnhaus mit Gesch\\u00e4ftsr\\u00e4umen\",\"Neu gebaute Geb\\u00e4ude nach Geb\\u00e4udeart und Jahr seit 1901/Einfamilienhaus\",\"Neu gebaute Geb\\u00e4ude nach Geb\\u00e4udeart und Jahr seit 1901/Mehrfamilienhaus\",\"Neu gebaute Geb\\u00e4ude nach Geb\\u00e4udeart und Jahr seit 1901/Nichtwohngeb\\u00e4ude\",\"Neu gebaute Geb\\u00e4ude nach Geb\\u00e4udeart und Jahr seit 1901/Wohnhaus mit Gesch\\u00e4ftsr\\u00e4umen\",\"Neu gebaute Geb\\u00e4ude nach Geb\\u00e4udeart und Jahr seit 1901/Einfamilienhaus\",\"Neu gebaute Geb\\u00e4ude nach Geb\\u00e4udeart und Jahr seit 1901/Mehrfamilienhaus\",\"Neu gebaute Geb\\u00e4ude nach Geb\\u00e4udeart und Jahr seit 1901/Nichtwohngeb\\u00e4ude\",\"Neu gebaute Geb\\u00e4ude nach Geb\\u00e4udeart und Jahr seit 1901/Wohnhaus mit Gesch\\u00e4ftsr\\u00e4umen\",\"Neu gebaute Geb\\u00e4ude nach Geb\\u00e4udeart und Jahr seit 1901/Einfamilienhaus\",\"Neu gebaute Geb\\u00e4ude nach Geb\\u00e4udeart und Jahr seit 1901/Mehrfamilienhaus\",\"Neu gebaute Geb\\u00e4ude nach Geb\\u00e4udeart und Jahr seit 1901/Nichtwohngeb\\u00e4ude\",\"Neu gebaute Geb\\u00e4ude nach Geb\\u00e4udeart und Jahr seit 1901/Wohnhaus mit Gesch\\u00e4ftsr\\u00e4umen\",\"Neu gebaute Geb\\u00e4ude nach Geb\\u00e4udeart und Jahr seit 1901/Einfamilienhaus\",\"Neu gebaute Geb\\u00e4ude nach Geb\\u00e4udeart und Jahr seit 1901/Mehrfamilienhaus\",\"Neu gebaute Geb\\u00e4ude nach Geb\\u00e4udeart und Jahr seit 1901/Nichtwohngeb\\u00e4ude\",\"Neu gebaute Geb\\u00e4ude nach Geb\\u00e4udeart und Jahr seit 1901/Wohnhaus mit Gesch\\u00e4ftsr\\u00e4umen\",\"Neu gebaute Geb\\u00e4ude nach Geb\\u00e4udeart und Jahr seit 1901/Einfamilienhaus\",\"Neu gebaute Geb\\u00e4ude nach Geb\\u00e4udeart und Jahr seit 1901/Mehrfamilienhaus\",\"Neu gebaute Geb\\u00e4ude nach Geb\\u00e4udeart und Jahr seit 1901/Nichtwohngeb\\u00e4ude\",\"Neu gebaute Geb\\u00e4ude nach Geb\\u00e4udeart und Jahr seit 1901/Wohnhaus mit Gesch\\u00e4ftsr\\u00e4umen\",\"Neu gebaute Geb\\u00e4ude nach Geb\\u00e4udeart und Jahr seit 1901/Einfamilienhaus\",\"Neu gebaute Geb\\u00e4ude nach Geb\\u00e4udeart und Jahr seit 1901/Mehrfamilienhaus\",\"Neu gebaute Geb\\u00e4ude nach Geb\\u00e4udeart und Jahr seit 1901/Nichtwohngeb\\u00e4ude\",\"Neu gebaute Geb\\u00e4ude nach Geb\\u00e4udeart und Jahr seit 1901/Wohnhaus mit Gesch\\u00e4ftsr\\u00e4umen\",\"Neu gebaute Geb\\u00e4ude nach Geb\\u00e4udeart und Jahr seit 1901/Einfamilienhaus\",\"Neu gebaute Geb\\u00e4ude nach Geb\\u00e4udeart und Jahr seit 1901/Mehrfamilienhaus\",\"Neu gebaute Geb\\u00e4ude nach Geb\\u00e4udeart und Jahr seit 1901/Nichtwohngeb\\u00e4ude\",\"Neu gebaute Geb\\u00e4ude nach Geb\\u00e4udeart und Jahr seit 1901/Wohnhaus mit Gesch\\u00e4ftsr\\u00e4umen\",\"Neu gebaute Geb\\u00e4ude nach Geb\\u00e4udeart und Jahr seit 1901/Einfamilienhaus\",\"Neu gebaute Geb\\u00e4ude nach Geb\\u00e4udeart und Jahr seit 1901/Mehrfamilienhaus\",\"Neu gebaute Geb\\u00e4ude nach Geb\\u00e4udeart und Jahr seit 1901/Nichtwohngeb\\u00e4ude\",\"Neu gebaute Geb\\u00e4ude nach Geb\\u00e4udeart und Jahr seit 1901/Wohnhaus mit Gesch\\u00e4ftsr\\u00e4umen\",\"Neu gebaute Geb\\u00e4ude nach Geb\\u00e4udeart und Jahr seit 1901/Einfamilienhaus\",\"Neu gebaute Geb\\u00e4ude nach Geb\\u00e4udeart und Jahr seit 1901/Mehrfamilienhaus\",\"Neu gebaute Geb\\u00e4ude nach Geb\\u00e4udeart und Jahr seit 1901/Nichtwohngeb\\u00e4ude\",\"Neu gebaute Geb\\u00e4ude nach Geb\\u00e4udeart und Jahr seit 1901/Wohnhaus mit Gesch\\u00e4ftsr\\u00e4umen\",\"Neu gebaute Geb\\u00e4ude nach Geb\\u00e4udeart und Jahr seit 1901/Einfamilienhaus\",\"Neu gebaute Geb\\u00e4ude nach Geb\\u00e4udeart und Jahr seit 1901/Mehrfamilienhaus\",\"Neu gebaute Geb\\u00e4ude nach Geb\\u00e4udeart und Jahr seit 1901/Nichtwohngeb\\u00e4ude\",\"Neu gebaute Geb\\u00e4ude nach Geb\\u00e4udeart und Jahr seit 1901/Wohnhaus mit Gesch\\u00e4ftsr\\u00e4umen\",\"Neu gebaute Geb\\u00e4ude nach Geb\\u00e4udeart und Jahr seit 1901/Einfamilienhaus\",\"Neu gebaute Geb\\u00e4ude nach Geb\\u00e4udeart und Jahr seit 1901/Mehrfamilienhaus\",\"Neu gebaute Geb\\u00e4ude nach Geb\\u00e4udeart und Jahr seit 1901/Nichtwohngeb\\u00e4ude\",\"Neu gebaute Geb\\u00e4ude nach Geb\\u00e4udeart und Jahr seit 1901/Wohnhaus mit Gesch\\u00e4ftsr\\u00e4umen\",\"Neu gebaute Geb\\u00e4ude nach Geb\\u00e4udeart und Jahr seit 1901/Einfamilienhaus\",\"Neu gebaute Geb\\u00e4ude nach Geb\\u00e4udeart und Jahr seit 1901/Mehrfamilienhaus\",\"Neu gebaute Geb\\u00e4ude nach Geb\\u00e4udeart und Jahr seit 1901/Nichtwohngeb\\u00e4ude\",\"Neu gebaute Geb\\u00e4ude nach Geb\\u00e4udeart und Jahr seit 1901/Wohnhaus mit Gesch\\u00e4ftsr\\u00e4umen\",\"Neu gebaute Geb\\u00e4ude nach Geb\\u00e4udeart und Jahr seit 1901/Einfamilienhaus\",\"Neu gebaute Geb\\u00e4ude nach Geb\\u00e4udeart und Jahr seit 1901/Mehrfamilienhaus\",\"Neu gebaute Geb\\u00e4ude nach Geb\\u00e4udeart und Jahr seit 1901/Nichtwohngeb\\u00e4ude\",\"Neu gebaute Geb\\u00e4ude nach Geb\\u00e4udeart und Jahr seit 1901/Wohnhaus mit Gesch\\u00e4ftsr\\u00e4umen\",\"Neu gebaute Geb\\u00e4ude nach Geb\\u00e4udeart und Jahr seit 1901/Einfamilienhaus\",\"Neu gebaute Geb\\u00e4ude nach Geb\\u00e4udeart und Jahr seit 1901/Mehrfamilienhaus\",\"Neu gebaute Geb\\u00e4ude nach Geb\\u00e4udeart und Jahr seit 1901/Nichtwohngeb\\u00e4ude\",\"Neu gebaute Geb\\u00e4ude nach Geb\\u00e4udeart und Jahr seit 1901/Wohnhaus mit Gesch\\u00e4ftsr\\u00e4umen\",\"Neu gebaute Geb\\u00e4ude nach Geb\\u00e4udeart und Jahr seit 1901/Einfamilienhaus\",\"Neu gebaute Geb\\u00e4ude nach Geb\\u00e4udeart und Jahr seit 1901/Mehrfamilienhaus\",\"Neu gebaute Geb\\u00e4ude nach Geb\\u00e4udeart und Jahr seit 1901/Nichtwohngeb\\u00e4ude\",\"Neu gebaute Geb\\u00e4ude nach Geb\\u00e4udeart und Jahr seit 1901/Wohnhaus mit Gesch\\u00e4ftsr\\u00e4umen\",\"Neu gebaute Geb\\u00e4ude nach Geb\\u00e4udeart und Jahr seit 1901/Einfamilienhaus\",\"Neu gebaute Geb\\u00e4ude nach Geb\\u00e4udeart und Jahr seit 1901/Mehrfamilienhaus\",\"Neu gebaute Geb\\u00e4ude nach Geb\\u00e4udeart und Jahr seit 1901/Nichtwohngeb\\u00e4ude\",\"Neu gebaute Geb\\u00e4ude nach Geb\\u00e4udeart und Jahr seit 1901/Wohnhaus mit Gesch\\u00e4ftsr\\u00e4umen\",\"Neu gebaute Geb\\u00e4ude nach Geb\\u00e4udeart und Jahr seit 1901/Einfamilienhaus\",\"Neu gebaute Geb\\u00e4ude nach Geb\\u00e4udeart und Jahr seit 1901/Mehrfamilienhaus\",\"Neu gebaute Geb\\u00e4ude nach Geb\\u00e4udeart und Jahr seit 1901/Nichtwohngeb\\u00e4ude\",\"Neu gebaute Geb\\u00e4ude nach Geb\\u00e4udeart und Jahr seit 1901/Wohnhaus mit Gesch\\u00e4ftsr\\u00e4umen\",\"Neu gebaute Geb\\u00e4ude nach Geb\\u00e4udeart und Jahr seit 1901/Einfamilienhaus\",\"Neu gebaute Geb\\u00e4ude nach Geb\\u00e4udeart und Jahr seit 1901/Mehrfamilienhaus\",\"Neu gebaute Geb\\u00e4ude nach Geb\\u00e4udeart und Jahr seit 1901/Nichtwohngeb\\u00e4ude\",\"Neu gebaute Geb\\u00e4ude nach Geb\\u00e4udeart und Jahr seit 1901/Wohnhaus mit Gesch\\u00e4ftsr\\u00e4umen\",\"Neu gebaute Geb\\u00e4ude nach Geb\\u00e4udeart und Jahr seit 1901/Einfamilienhaus\",\"Neu gebaute Geb\\u00e4ude nach Geb\\u00e4udeart und Jahr seit 1901/Mehrfamilienhaus\",\"Neu gebaute Geb\\u00e4ude nach Geb\\u00e4udeart und Jahr seit 1901/Nichtwohngeb\\u00e4ude\",\"Neu gebaute Geb\\u00e4ude nach Geb\\u00e4udeart und Jahr seit 1901/Wohnhaus mit Gesch\\u00e4ftsr\\u00e4umen\",\"Neu gebaute Geb\\u00e4ude nach Geb\\u00e4udeart und Jahr seit 1901/Einfamilienhaus\",\"Neu gebaute Geb\\u00e4ude nach Geb\\u00e4udeart und Jahr seit 1901/Mehrfamilienhaus\",\"Neu gebaute Geb\\u00e4ude nach Geb\\u00e4udeart und Jahr seit 1901/Nichtwohngeb\\u00e4ude\",\"Neu gebaute Geb\\u00e4ude nach Geb\\u00e4udeart und Jahr seit 1901/Wohnhaus mit Gesch\\u00e4ftsr\\u00e4umen\",\"Neu gebaute Geb\\u00e4ude nach Geb\\u00e4udeart und Jahr seit 1901/Einfamilienhaus\",\"Neu gebaute Geb\\u00e4ude nach Geb\\u00e4udeart und Jahr seit 1901/Mehrfamilienhaus\",\"Neu gebaute Geb\\u00e4ude nach Geb\\u00e4udeart und Jahr seit 1901/Nichtwohngeb\\u00e4ude\",\"Neu gebaute Geb\\u00e4ude nach Geb\\u00e4udeart und Jahr seit 1901/Wohnhaus mit Gesch\\u00e4ftsr\\u00e4umen\",\"Neu gebaute Geb\\u00e4ude nach Geb\\u00e4udeart und Jahr seit 1901/Mehrfamilienhaus\",\"Neu gebaute Geb\\u00e4ude nach Geb\\u00e4udeart und Jahr seit 1901/Nichtwohngeb\\u00e4ude\",\"Neu gebaute Geb\\u00e4ude nach Geb\\u00e4udeart und Jahr seit 1901/Wohnhaus mit Gesch\\u00e4ftsr\\u00e4umen\",\"Neu gebaute Geb\\u00e4ude nach Geb\\u00e4udeart und Jahr seit 1901/Einfamilienhaus\",\"Neu gebaute Geb\\u00e4ude nach Geb\\u00e4udeart und Jahr seit 1901/Mehrfamilienhaus\",\"Neu gebaute Geb\\u00e4ude nach Geb\\u00e4udeart und Jahr seit 1901/Nichtwohngeb\\u00e4ude\",\"Neu gebaute Geb\\u00e4ude nach Geb\\u00e4udeart und Jahr seit 1901/Wohnhaus mit Gesch\\u00e4ftsr\\u00e4umen\",\"Neu gebaute Geb\\u00e4ude nach Geb\\u00e4udeart und Jahr seit 1901/Einfamilienhaus\",\"Neu gebaute Geb\\u00e4ude nach Geb\\u00e4udeart und Jahr seit 1901/Mehrfamilienhaus\",\"Neu gebaute Geb\\u00e4ude nach Geb\\u00e4udeart und Jahr seit 1901/Nichtwohngeb\\u00e4ude\",\"Neu gebaute Geb\\u00e4ude nach Geb\\u00e4udeart und Jahr seit 1901/Wohnhaus mit Gesch\\u00e4ftsr\\u00e4umen\",\"Neu gebaute Geb\\u00e4ude nach Geb\\u00e4udeart und Jahr seit 1901/Einfamilienhaus\",\"Neu gebaute Geb\\u00e4ude nach Geb\\u00e4udeart und Jahr seit 1901/Mehrfamilienhaus\",\"Neu gebaute Geb\\u00e4ude nach Geb\\u00e4udeart und Jahr seit 1901/Nichtwohngeb\\u00e4ude\",\"Neu gebaute Geb\\u00e4ude nach Geb\\u00e4udeart und Jahr seit 1901/Wohnhaus mit Gesch\\u00e4ftsr\\u00e4umen\",\"Neu gebaute Geb\\u00e4ude nach Geb\\u00e4udeart und Jahr seit 1901/Einfamilienhaus\",\"Neu gebaute Geb\\u00e4ude nach Geb\\u00e4udeart und Jahr seit 1901/Mehrfamilienhaus\",\"Neu gebaute Geb\\u00e4ude nach Geb\\u00e4udeart und Jahr seit 1901/Nichtwohngeb\\u00e4ude\",\"Neu gebaute Geb\\u00e4ude nach Geb\\u00e4udeart und Jahr seit 1901/Wohnhaus mit Gesch\\u00e4ftsr\\u00e4umen\",\"Neu gebaute Geb\\u00e4ude nach Geb\\u00e4udeart und Jahr seit 1901/Einfamilienhaus\",\"Neu gebaute Geb\\u00e4ude nach Geb\\u00e4udeart und Jahr seit 1901/Mehrfamilienhaus\",\"Neu gebaute Geb\\u00e4ude nach Geb\\u00e4udeart und Jahr seit 1901/Nichtwohngeb\\u00e4ude\",\"Neu gebaute Geb\\u00e4ude nach Geb\\u00e4udeart und Jahr seit 1901/Wohnhaus mit Gesch\\u00e4ftsr\\u00e4umen\",\"Neu gebaute Geb\\u00e4ude nach Geb\\u00e4udeart und Jahr seit 1901/Einfamilienhaus\",\"Neu gebaute Geb\\u00e4ude nach Geb\\u00e4udeart und Jahr seit 1901/Mehrfamilienhaus\",\"Neu gebaute Geb\\u00e4ude nach Geb\\u00e4udeart und Jahr seit 1901/Nichtwohngeb\\u00e4ude\",\"Neu gebaute Geb\\u00e4ude nach Geb\\u00e4udeart und Jahr seit 1901/Wohnhaus mit Gesch\\u00e4ftsr\\u00e4umen\",\"Neu gebaute Geb\\u00e4ude nach Geb\\u00e4udeart und Jahr seit 1901/Einfamilienhaus\",\"Neu gebaute Geb\\u00e4ude nach Geb\\u00e4udeart und Jahr seit 1901/Mehrfamilienhaus\",\"Neu gebaute Geb\\u00e4ude nach Geb\\u00e4udeart und Jahr seit 1901/Nichtwohngeb\\u00e4ude\",\"Neu gebaute Geb\\u00e4ude nach Geb\\u00e4udeart und Jahr seit 1901/Wohnhaus mit Gesch\\u00e4ftsr\\u00e4umen\",\"Neu gebaute Geb\\u00e4ude nach Geb\\u00e4udeart und Jahr seit 1901/Einfamilienhaus\",\"Neu gebaute Geb\\u00e4ude nach Geb\\u00e4udeart und Jahr seit 1901/Mehrfamilienhaus\",\"Neu gebaute Geb\\u00e4ude nach Geb\\u00e4udeart und Jahr seit 1901/Nichtwohngeb\\u00e4ude\",\"Neu gebaute Geb\\u00e4ude nach Geb\\u00e4udeart und Jahr seit 1901/Wohnhaus mit Gesch\\u00e4ftsr\\u00e4umen\",\"Neu gebaute Geb\\u00e4ude nach Geb\\u00e4udeart und Jahr seit 1901/Einfamilienhaus\",\"Neu gebaute Geb\\u00e4ude nach Geb\\u00e4udeart und Jahr seit 1901/Mehrfamilienhaus\",\"Neu gebaute Geb\\u00e4ude nach Geb\\u00e4udeart und Jahr seit 1901/Nichtwohngeb\\u00e4ude\",\"Neu gebaute Geb\\u00e4ude nach Geb\\u00e4udeart und Jahr seit 1901/Wohnhaus mit Gesch\\u00e4ftsr\\u00e4umen\",\"Neu gebaute Geb\\u00e4ude nach Geb\\u00e4udeart und Jahr seit 1901/Einfamilienhaus\",\"Neu gebaute Geb\\u00e4ude nach Geb\\u00e4udeart und Jahr seit 1901/Mehrfamilienhaus\",\"Neu gebaute Geb\\u00e4ude nach Geb\\u00e4udeart und Jahr seit 1901/Nichtwohngeb\\u00e4ude\",\"Neu gebaute Geb\\u00e4ude nach Geb\\u00e4udeart und Jahr seit 1901/Wohnhaus mit Gesch\\u00e4ftsr\\u00e4umen\",\"Neu gebaute Geb\\u00e4ude nach Geb\\u00e4udeart und Jahr seit 1901/Einfamilienhaus\",\"Neu gebaute Geb\\u00e4ude nach Geb\\u00e4udeart und Jahr seit 1901/Mehrfamilienhaus\",\"Neu gebaute Geb\\u00e4ude nach Geb\\u00e4udeart und Jahr seit 1901/Nichtwohngeb\\u00e4ude\",\"Neu gebaute Geb\\u00e4ude nach Geb\\u00e4udeart und Jahr seit 1901/Wohnhaus mit Gesch\\u00e4ftsr\\u00e4umen\",\"Neu gebaute Geb\\u00e4ude nach Geb\\u00e4udeart und Jahr seit 1901/Einfamilienhaus\",\"Neu gebaute Geb\\u00e4ude nach Geb\\u00e4udeart und Jahr seit 1901/Mehrfamilienhaus\",\"Neu gebaute Geb\\u00e4ude nach Geb\\u00e4udeart und Jahr seit 1901/Nichtwohngeb\\u00e4ude\",\"Neu gebaute Geb\\u00e4ude nach Geb\\u00e4udeart und Jahr seit 1901/Wohnhaus mit Gesch\\u00e4ftsr\\u00e4umen\",\"Neu gebaute Geb\\u00e4ude nach Geb\\u00e4udeart und Jahr seit 1901/Einfamilienhaus\",\"Neu gebaute Geb\\u00e4ude nach Geb\\u00e4udeart und Jahr seit 1901/Mehrfamilienhaus\",\"Neu gebaute Geb\\u00e4ude nach Geb\\u00e4udeart und Jahr seit 1901/Nichtwohngeb\\u00e4ude\",\"Neu gebaute Geb\\u00e4ude nach Geb\\u00e4udeart und Jahr seit 1901/Wohnhaus mit Gesch\\u00e4ftsr\\u00e4umen\",\"Neu gebaute Geb\\u00e4ude nach Geb\\u00e4udeart und Jahr seit 1901/Einfamilienhaus\",\"Neu gebaute Geb\\u00e4ude nach Geb\\u00e4udeart und Jahr seit 1901/Mehrfamilienhaus\",\"Neu gebaute Geb\\u00e4ude nach Geb\\u00e4udeart und Jahr seit 1901/Nichtwohngeb\\u00e4ude\",\"Neu gebaute Geb\\u00e4ude nach Geb\\u00e4udeart und Jahr seit 1901/Wohnhaus mit Gesch\\u00e4ftsr\\u00e4umen\",\"Neu gebaute Geb\\u00e4ude nach Geb\\u00e4udeart und Jahr seit 1901/Einfamilienhaus\",\"Neu gebaute Geb\\u00e4ude nach Geb\\u00e4udeart und Jahr seit 1901/Mehrfamilienhaus\",\"Neu gebaute Geb\\u00e4ude nach Geb\\u00e4udeart und Jahr seit 1901/Nichtwohngeb\\u00e4ude\",\"Neu gebaute Geb\\u00e4ude nach Geb\\u00e4udeart und Jahr seit 1901/Wohnhaus mit Gesch\\u00e4ftsr\\u00e4umen\",\"Neu gebaute Geb\\u00e4ude nach Geb\\u00e4udeart und Jahr seit 1901/Einfamilienhaus\",\"Neu gebaute Geb\\u00e4ude nach Geb\\u00e4udeart und Jahr seit 1901/Mehrfamilienhaus\",\"Neu gebaute Geb\\u00e4ude nach Geb\\u00e4udeart und Jahr seit 1901/Nichtwohngeb\\u00e4ude\",\"Neu gebaute Geb\\u00e4ude nach Geb\\u00e4udeart und Jahr seit 1901/Wohnhaus mit Gesch\\u00e4ftsr\\u00e4umen\",\"Neu gebaute Geb\\u00e4ude nach Geb\\u00e4udeart und Jahr seit 1901/Einfamilienhaus\",\"Neu gebaute Geb\\u00e4ude nach Geb\\u00e4udeart und Jahr seit 1901/Mehrfamilienhaus\",\"Neu gebaute Geb\\u00e4ude nach Geb\\u00e4udeart und Jahr seit 1901/Nichtwohngeb\\u00e4ude\",\"Neu gebaute Geb\\u00e4ude nach Geb\\u00e4udeart und Jahr seit 1901/Wohnhaus mit Gesch\\u00e4ftsr\\u00e4umen\",\"Neu gebaute Geb\\u00e4ude nach Geb\\u00e4udeart und Jahr seit 1901/Einfamilienhaus\",\"Neu gebaute Geb\\u00e4ude nach Geb\\u00e4udeart und Jahr seit 1901/Mehrfamilienhaus\",\"Neu gebaute Geb\\u00e4ude nach Geb\\u00e4udeart und Jahr seit 1901/Nichtwohngeb\\u00e4ude\",\"Neu gebaute Geb\\u00e4ude nach Geb\\u00e4udeart und Jahr seit 1901/Wohnhaus mit Gesch\\u00e4ftsr\\u00e4umen\",\"Neu gebaute Geb\\u00e4ude nach Geb\\u00e4udeart und Jahr seit 1901/Einfamilienhaus\",\"Neu gebaute Geb\\u00e4ude nach Geb\\u00e4udeart und Jahr seit 1901/Mehrfamilienhaus\",\"Neu gebaute Geb\\u00e4ude nach Geb\\u00e4udeart und Jahr seit 1901/Nichtwohngeb\\u00e4ude\",\"Neu gebaute Geb\\u00e4ude nach Geb\\u00e4udeart und Jahr seit 1901/Wohnhaus mit Gesch\\u00e4ftsr\\u00e4umen\",\"Neu gebaute Geb\\u00e4ude nach Geb\\u00e4udeart und Jahr seit 1901/Einfamilienhaus\",\"Neu gebaute Geb\\u00e4ude nach Geb\\u00e4udeart und Jahr seit 1901/Mehrfamilienhaus\",\"Neu gebaute Geb\\u00e4ude nach Geb\\u00e4udeart und Jahr seit 1901/Nichtwohngeb\\u00e4ude\",\"Neu gebaute Geb\\u00e4ude nach Geb\\u00e4udeart und Jahr seit 1901/Wohnhaus mit Gesch\\u00e4ftsr\\u00e4umen\",\"Neu gebaute Geb\\u00e4ude nach Geb\\u00e4udeart und Jahr seit 1901/Einfamilienhaus\",\"Neu gebaute Geb\\u00e4ude nach Geb\\u00e4udeart und Jahr seit 1901/Mehrfamilienhaus\",\"Neu gebaute Geb\\u00e4ude nach Geb\\u00e4udeart und Jahr seit 1901/Nichtwohngeb\\u00e4ude\",\"Neu gebaute Geb\\u00e4ude nach Geb\\u00e4udeart und Jahr seit 1901/Wohnhaus mit Gesch\\u00e4ftsr\\u00e4umen\",\"Neu gebaute Geb\\u00e4ude nach Geb\\u00e4udeart und Jahr seit 1901/Einfamilienhaus\",\"Neu gebaute Geb\\u00e4ude nach Geb\\u00e4udeart und Jahr seit 1901/Mehrfamilienhaus\",\"Neu gebaute Geb\\u00e4ude nach Geb\\u00e4udeart und Jahr seit 1901/Nichtwohngeb\\u00e4ude\",\"Neu gebaute Geb\\u00e4ude nach Geb\\u00e4udeart und Jahr seit 1901/Wohnhaus mit Gesch\\u00e4ftsr\\u00e4umen\",\"Neu gebaute Geb\\u00e4ude nach Geb\\u00e4udeart und Jahr seit 1901/Einfamilienhaus\",\"Neu gebaute Geb\\u00e4ude nach Geb\\u00e4udeart und Jahr seit 1901/Mehrfamilienhaus\",\"Neu gebaute Geb\\u00e4ude nach Geb\\u00e4udeart und Jahr seit 1901/Nichtwohngeb\\u00e4ude\",\"Neu gebaute Geb\\u00e4ude nach Geb\\u00e4udeart und Jahr seit 1901/Wohnhaus mit Gesch\\u00e4ftsr\\u00e4umen\",\"Neu gebaute Geb\\u00e4ude nach Geb\\u00e4udeart und Jahr seit 1901/Einfamilienhaus\",\"Neu gebaute Geb\\u00e4ude nach Geb\\u00e4udeart und Jahr seit 1901/Mehrfamilienhaus\",\"Neu gebaute Geb\\u00e4ude nach Geb\\u00e4udeart und Jahr seit 1901/Nichtwohngeb\\u00e4ude\",\"Neu gebaute Geb\\u00e4ude nach Geb\\u00e4udeart und Jahr seit 1901/Wohnhaus mit Gesch\\u00e4ftsr\\u00e4umen\",\"Neu gebaute Geb\\u00e4ude nach Geb\\u00e4udeart und Jahr seit 1901/Einfamilienhaus\",\"Neu gebaute Geb\\u00e4ude nach Geb\\u00e4udeart und Jahr seit 1901/Mehrfamilienhaus\",\"Neu gebaute Geb\\u00e4ude nach Geb\\u00e4udeart und Jahr seit 1901/Nichtwohngeb\\u00e4ude\",\"Neu gebaute Geb\\u00e4ude nach Geb\\u00e4udeart und Jahr seit 1901/Wohnhaus mit Gesch\\u00e4ftsr\\u00e4umen\",\"Neu gebaute Geb\\u00e4ude nach Geb\\u00e4udeart und Jahr seit 1901/Einfamilienhaus\",\"Neu gebaute Geb\\u00e4ude nach Geb\\u00e4udeart und Jahr seit 1901/Mehrfamilienhaus\",\"Neu gebaute Geb\\u00e4ude nach Geb\\u00e4udeart und Jahr seit 1901/Nichtwohngeb\\u00e4ude\",\"Neu gebaute Geb\\u00e4ude nach Geb\\u00e4udeart und Jahr seit 1901/Wohnhaus mit Gesch\\u00e4ftsr\\u00e4umen\",\"Neu gebaute Geb\\u00e4ude nach Geb\\u00e4udeart und Jahr seit 1901/Einfamilienhaus\",\"Neu gebaute Geb\\u00e4ude nach Geb\\u00e4udeart und Jahr seit 1901/Mehrfamilienhaus\",\"Neu gebaute Geb\\u00e4ude nach Geb\\u00e4udeart und Jahr seit 1901/Nichtwohngeb\\u00e4ude\",\"Neu gebaute Geb\\u00e4ude nach Geb\\u00e4udeart und Jahr seit 1901/Wohnhaus mit Gesch\\u00e4ftsr\\u00e4umen\",\"Neu gebaute Geb\\u00e4ude nach Geb\\u00e4udeart und Jahr seit 1901/Einfamilienhaus\",\"Neu gebaute Geb\\u00e4ude nach Geb\\u00e4udeart und Jahr seit 1901/Mehrfamilienhaus\",\"Neu gebaute Geb\\u00e4ude nach Geb\\u00e4udeart und Jahr seit 1901/Nichtwohngeb\\u00e4ude\",\"Neu gebaute Geb\\u00e4ude nach Geb\\u00e4udeart und Jahr seit 1901/Wohnhaus mit Gesch\\u00e4ftsr\\u00e4umen\",\"Neu gebaute Geb\\u00e4ude nach Geb\\u00e4udeart und Jahr seit 1901/Einfamilienhaus\",\"Neu gebaute Geb\\u00e4ude nach Geb\\u00e4udeart und Jahr seit 1901/Mehrfamilienhaus\",\"Neu gebaute Geb\\u00e4ude nach Geb\\u00e4udeart und Jahr seit 1901/Nichtwohngeb\\u00e4ude\",\"Neu gebaute Geb\\u00e4ude nach Geb\\u00e4udeart und Jahr seit 1901/Wohnhaus mit Gesch\\u00e4ftsr\\u00e4umen\",\"Neu gebaute Geb\\u00e4ude nach Geb\\u00e4udeart und Jahr seit 1901/Einfamilienhaus\",\"Neu gebaute Geb\\u00e4ude nach Geb\\u00e4udeart und Jahr seit 1901/Mehrfamilienhaus\",\"Neu gebaute Geb\\u00e4ude nach Geb\\u00e4udeart und Jahr seit 1901/Nichtwohngeb\\u00e4ude\",\"Neu gebaute Geb\\u00e4ude nach Geb\\u00e4udeart und Jahr seit 1901/Wohnhaus mit Gesch\\u00e4ftsr\\u00e4umen\",\"Neu gebaute Geb\\u00e4ude nach Geb\\u00e4udeart und Jahr seit 1901/Einfamilienhaus\",\"Neu gebaute Geb\\u00e4ude nach Geb\\u00e4udeart und Jahr seit 1901/Mehrfamilienhaus\",\"Neu gebaute Geb\\u00e4ude nach Geb\\u00e4udeart und Jahr seit 1901/Nichtwohngeb\\u00e4ude\",\"Neu gebaute Geb\\u00e4ude nach Geb\\u00e4udeart und Jahr seit 1901/Wohnhaus mit Gesch\\u00e4ftsr\\u00e4umen\",\"Neu gebaute Geb\\u00e4ude nach Geb\\u00e4udeart und Jahr seit 1901/Einfamilienhaus\",\"Neu gebaute Geb\\u00e4ude nach Geb\\u00e4udeart und Jahr seit 1901/Mehrfamilienhaus\",\"Neu gebaute Geb\\u00e4ude nach Geb\\u00e4udeart und Jahr seit 1901/Nichtwohngeb\\u00e4ude\",\"Neu gebaute Geb\\u00e4ude nach Geb\\u00e4udeart und Jahr seit 1901/Wohnhaus mit Gesch\\u00e4ftsr\\u00e4umen\",\"Neu gebaute Geb\\u00e4ude nach Geb\\u00e4udeart und Jahr seit 1901/Einfamilienhaus\",\"Neu gebaute Geb\\u00e4ude nach Geb\\u00e4udeart und Jahr seit 1901/Mehrfamilienhaus\",\"Neu gebaute Geb\\u00e4ude nach Geb\\u00e4udeart und Jahr seit 1901/Nichtwohngeb\\u00e4ude\",\"Neu gebaute Geb\\u00e4ude nach Geb\\u00e4udeart und Jahr seit 1901/Wohnhaus mit Gesch\\u00e4ftsr\\u00e4umen\",\"Neu gebaute Geb\\u00e4ude nach Geb\\u00e4udeart und Jahr seit 1901/Einfamilienhaus\",\"Neu gebaute Geb\\u00e4ude nach Geb\\u00e4udeart und Jahr seit 1901/Mehrfamilienhaus\",\"Neu gebaute Geb\\u00e4ude nach Geb\\u00e4udeart und Jahr seit 1901/Nichtwohngeb\\u00e4ude\",\"Neu gebaute Geb\\u00e4ude nach Geb\\u00e4udeart und Jahr seit 1901/Wohnhaus mit Gesch\\u00e4ftsr\\u00e4umen\",\"Neu gebaute Geb\\u00e4ude nach Geb\\u00e4udeart und Jahr seit 1901\",\"Neu gebaute Geb\\u00e4ude nach Geb\\u00e4udeart und Jahr seit 1901\",\"Neu gebaute Geb\\u00e4ude nach Geb\\u00e4udeart und Jahr seit 1901\",\"Neu gebaute Geb\\u00e4ude nach Geb\\u00e4udeart und Jahr seit 1901\",\"\"],\"root\":{\"color\":\"grey\"},\"type\":\"treemap\",\"values\":[17,36,60,29,17,38,41,28,34,47,64,28,21,47,33,22,30,72,43,46,37,73,78,54,39,93,84,59,56,146,76,52,74,182,93,103,84,207,95,114,68,199,90,79,59,82,32,40,81,69,67,35,42,63,37,24,36,27,46,20,35,35,44,14,31,53,40,10,26,64,32,3,86,46,46,6,106,40,82,3,58,40,49,17,116,69,73,23,193,198,116,46,292,103,120,51,295,212,123,74,228,211,129,102,214,315,178,100,440,301,178,118,166,316,152,124,429,469,221,181,227,441,218,187,285,190,143,76,302,251,124,102,177,176,94,55,78,60,116,16,141,100,82,22,182,157,72,40,139,236,141,53,81,101,117,21,96,95,120,23,35,142,123,35,271,143,173,19,521,195,83,26,458,222,84,32,590,219,110,53,494,186,116,53,496,382,296,36,384,324,182,16,186,412,152,38,190,509,204,67,154,532,213,60,212,372,250,49,76,409,179,43,58,340,251,34,51,206,318,29,66,234,281,34,16,275,309,32,7,252,223,38,10,279,199,36,12,176,184,41,16,174,217,29,32,115,213,38,18,193,237,23,14,178,206,29,11,139,223,16,4,113,266,20,5,153,200,27,20,161,185,22,2,148,138,19,12,122,170,36,37,132,237,48,13,137,273,34,21,159,201,21,12,99,361,16,2,95,286,25,18,91,322,23,35,69,209,5,30,114,254,16,14,123,201,20,43,184,195,34,66,165,255,49,10,90,142,34,14,97,141,36,6,99,153,43,14,85,105,31,53,60,33,6,44,54,22,9,36,50,32,58,32,58,27,52,81,90,67,17,41,102,28,31,79,127,24,19,61,125,24,9,39,111,30,7,53,67,11,20,33,74,8,34,66,56,7,15,67,51,9,44,84,96,12,16,73,70,19,29,82,60,15,50,117,61,13,8,76,61,21,14,72,56,23,15,91,88,18,68,143,100,31,14,118,28,9,6,107,55,13,14,107,112,17,8,185,79,22,80,130,103,32,35,116,78,44,15,107,74,32,43,144,91,63,18,135,61,49,38,134,83,66,13,165,98,46,11,114,66,33,11,98,69,24,11,113,77,34,10712,17900,15760,4623,48995]}],                        {\"coloraxis\":{\"colorbar\":{\"title\":{\"text\":\"sum_Neubau\"}},\"colorscale\":[[0.0,\"#00224e\"],[0.1111111111111111,\"#123570\"],[0.2222222222222222,\"#3b496c\"],[0.3333333333333333,\"#575d6d\"],[0.4444444444444444,\"#707173\"],[0.5555555555555556,\"#8a8678\"],[0.6666666666666666,\"#a59c74\"],[0.7777777777777778,\"#c3b369\"],[0.8888888888888888,\"#e1cc55\"],[1.0,\"#fee838\"]]},\"height\":500,\"legend\":{\"tracegroupgap\":0},\"margin\":{\"b\":25,\"l\":25,\"r\":250,\"t\":50},\"template\":{\"data\":{\"bar\":[{\"error_x\":{\"color\":\"#2a3f5f\"},\"error_y\":{\"color\":\"#2a3f5f\"},\"marker\":{\"line\":{\"color\":\"#E5ECF6\",\"width\":0.5},\"pattern\":{\"fillmode\":\"overlay\",\"size\":10,\"solidity\":0.2}},\"type\":\"bar\"}],\"barpolar\":[{\"marker\":{\"line\":{\"color\":\"#E5ECF6\",\"width\":0.5},\"pattern\":{\"fillmode\":\"overlay\",\"size\":10,\"solidity\":0.2}},\"type\":\"barpolar\"}],\"carpet\":[{\"aaxis\":{\"endlinecolor\":\"#2a3f5f\",\"gridcolor\":\"white\",\"linecolor\":\"white\",\"minorgridcolor\":\"white\",\"startlinecolor\":\"#2a3f5f\"},\"baxis\":{\"endlinecolor\":\"#2a3f5f\",\"gridcolor\":\"white\",\"linecolor\":\"white\",\"minorgridcolor\":\"white\",\"startlinecolor\":\"#2a3f5f\"},\"type\":\"carpet\"}],\"choropleth\":[{\"colorbar\":{\"outlinewidth\":0,\"ticks\":\"\"},\"type\":\"choropleth\"}],\"contour\":[{\"colorbar\":{\"outlinewidth\":0,\"ticks\":\"\"},\"colorscale\":[[0.0,\"#0d0887\"],[0.1111111111111111,\"#46039f\"],[0.2222222222222222,\"#7201a8\"],[0.3333333333333333,\"#9c179e\"],[0.4444444444444444,\"#bd3786\"],[0.5555555555555556,\"#d8576b\"],[0.6666666666666666,\"#ed7953\"],[0.7777777777777778,\"#fb9f3a\"],[0.8888888888888888,\"#fdca26\"],[1.0,\"#f0f921\"]],\"type\":\"contour\"}],\"contourcarpet\":[{\"colorbar\":{\"outlinewidth\":0,\"ticks\":\"\"},\"type\":\"contourcarpet\"}],\"heatmap\":[{\"colorbar\":{\"outlinewidth\":0,\"ticks\":\"\"},\"colorscale\":[[0.0,\"#0d0887\"],[0.1111111111111111,\"#46039f\"],[0.2222222222222222,\"#7201a8\"],[0.3333333333333333,\"#9c179e\"],[0.4444444444444444,\"#bd3786\"],[0.5555555555555556,\"#d8576b\"],[0.6666666666666666,\"#ed7953\"],[0.7777777777777778,\"#fb9f3a\"],[0.8888888888888888,\"#fdca26\"],[1.0,\"#f0f921\"]],\"type\":\"heatmap\"}],\"heatmapgl\":[{\"colorbar\":{\"outlinewidth\":0,\"ticks\":\"\"},\"colorscale\":[[0.0,\"#0d0887\"],[0.1111111111111111,\"#46039f\"],[0.2222222222222222,\"#7201a8\"],[0.3333333333333333,\"#9c179e\"],[0.4444444444444444,\"#bd3786\"],[0.5555555555555556,\"#d8576b\"],[0.6666666666666666,\"#ed7953\"],[0.7777777777777778,\"#fb9f3a\"],[0.8888888888888888,\"#fdca26\"],[1.0,\"#f0f921\"]],\"type\":\"heatmapgl\"}],\"histogram\":[{\"marker\":{\"pattern\":{\"fillmode\":\"overlay\",\"size\":10,\"solidity\":0.2}},\"type\":\"histogram\"}],\"histogram2d\":[{\"colorbar\":{\"outlinewidth\":0,\"ticks\":\"\"},\"colorscale\":[[0.0,\"#0d0887\"],[0.1111111111111111,\"#46039f\"],[0.2222222222222222,\"#7201a8\"],[0.3333333333333333,\"#9c179e\"],[0.4444444444444444,\"#bd3786\"],[0.5555555555555556,\"#d8576b\"],[0.6666666666666666,\"#ed7953\"],[0.7777777777777778,\"#fb9f3a\"],[0.8888888888888888,\"#fdca26\"],[1.0,\"#f0f921\"]],\"type\":\"histogram2d\"}],\"histogram2dcontour\":[{\"colorbar\":{\"outlinewidth\":0,\"ticks\":\"\"},\"colorscale\":[[0.0,\"#0d0887\"],[0.1111111111111111,\"#46039f\"],[0.2222222222222222,\"#7201a8\"],[0.3333333333333333,\"#9c179e\"],[0.4444444444444444,\"#bd3786\"],[0.5555555555555556,\"#d8576b\"],[0.6666666666666666,\"#ed7953\"],[0.7777777777777778,\"#fb9f3a\"],[0.8888888888888888,\"#fdca26\"],[1.0,\"#f0f921\"]],\"type\":\"histogram2dcontour\"}],\"mesh3d\":[{\"colorbar\":{\"outlinewidth\":0,\"ticks\":\"\"},\"type\":\"mesh3d\"}],\"parcoords\":[{\"line\":{\"colorbar\":{\"outlinewidth\":0,\"ticks\":\"\"}},\"type\":\"parcoords\"}],\"pie\":[{\"automargin\":true,\"type\":\"pie\"}],\"scatter\":[{\"marker\":{\"colorbar\":{\"outlinewidth\":0,\"ticks\":\"\"}},\"type\":\"scatter\"}],\"scatter3d\":[{\"line\":{\"colorbar\":{\"outlinewidth\":0,\"ticks\":\"\"}},\"marker\":{\"colorbar\":{\"outlinewidth\":0,\"ticks\":\"\"}},\"type\":\"scatter3d\"}],\"scattercarpet\":[{\"marker\":{\"colorbar\":{\"outlinewidth\":0,\"ticks\":\"\"}},\"type\":\"scattercarpet\"}],\"scattergeo\":[{\"marker\":{\"colorbar\":{\"outlinewidth\":0,\"ticks\":\"\"}},\"type\":\"scattergeo\"}],\"scattergl\":[{\"marker\":{\"colorbar\":{\"outlinewidth\":0,\"ticks\":\"\"}},\"type\":\"scattergl\"}],\"scattermapbox\":[{\"marker\":{\"colorbar\":{\"outlinewidth\":0,\"ticks\":\"\"}},\"type\":\"scattermapbox\"}],\"scatterpolar\":[{\"marker\":{\"colorbar\":{\"outlinewidth\":0,\"ticks\":\"\"}},\"type\":\"scatterpolar\"}],\"scatterpolargl\":[{\"marker\":{\"colorbar\":{\"outlinewidth\":0,\"ticks\":\"\"}},\"type\":\"scatterpolargl\"}],\"scatterternary\":[{\"marker\":{\"colorbar\":{\"outlinewidth\":0,\"ticks\":\"\"}},\"type\":\"scatterternary\"}],\"surface\":[{\"colorbar\":{\"outlinewidth\":0,\"ticks\":\"\"},\"colorscale\":[[0.0,\"#0d0887\"],[0.1111111111111111,\"#46039f\"],[0.2222222222222222,\"#7201a8\"],[0.3333333333333333,\"#9c179e\"],[0.4444444444444444,\"#bd3786\"],[0.5555555555555556,\"#d8576b\"],[0.6666666666666666,\"#ed7953\"],[0.7777777777777778,\"#fb9f3a\"],[0.8888888888888888,\"#fdca26\"],[1.0,\"#f0f921\"]],\"type\":\"surface\"}],\"table\":[{\"cells\":{\"fill\":{\"color\":\"#EBF0F8\"},\"line\":{\"color\":\"white\"}},\"header\":{\"fill\":{\"color\":\"#C8D4E3\"},\"line\":{\"color\":\"white\"}},\"type\":\"table\"}]},\"layout\":{\"annotationdefaults\":{\"arrowcolor\":\"#2a3f5f\",\"arrowhead\":0,\"arrowwidth\":1},\"autotypenumbers\":\"strict\",\"coloraxis\":{\"colorbar\":{\"outlinewidth\":0,\"ticks\":\"\"}},\"colorscale\":{\"diverging\":[[0,\"#8e0152\"],[0.1,\"#c51b7d\"],[0.2,\"#de77ae\"],[0.3,\"#f1b6da\"],[0.4,\"#fde0ef\"],[0.5,\"#f7f7f7\"],[0.6,\"#e6f5d0\"],[0.7,\"#b8e186\"],[0.8,\"#7fbc41\"],[0.9,\"#4d9221\"],[1,\"#276419\"]],\"sequential\":[[0.0,\"#0d0887\"],[0.1111111111111111,\"#46039f\"],[0.2222222222222222,\"#7201a8\"],[0.3333333333333333,\"#9c179e\"],[0.4444444444444444,\"#bd3786\"],[0.5555555555555556,\"#d8576b\"],[0.6666666666666666,\"#ed7953\"],[0.7777777777777778,\"#fb9f3a\"],[0.8888888888888888,\"#fdca26\"],[1.0,\"#f0f921\"]],\"sequentialminus\":[[0.0,\"#0d0887\"],[0.1111111111111111,\"#46039f\"],[0.2222222222222222,\"#7201a8\"],[0.3333333333333333,\"#9c179e\"],[0.4444444444444444,\"#bd3786\"],[0.5555555555555556,\"#d8576b\"],[0.6666666666666666,\"#ed7953\"],[0.7777777777777778,\"#fb9f3a\"],[0.8888888888888888,\"#fdca26\"],[1.0,\"#f0f921\"]]},\"colorway\":[\"#636efa\",\"#EF553B\",\"#00cc96\",\"#ab63fa\",\"#FFA15A\",\"#19d3f3\",\"#FF6692\",\"#B6E880\",\"#FF97FF\",\"#FECB52\"],\"font\":{\"color\":\"#2a3f5f\"},\"geo\":{\"bgcolor\":\"white\",\"lakecolor\":\"white\",\"landcolor\":\"#E5ECF6\",\"showlakes\":true,\"showland\":true,\"subunitcolor\":\"white\"},\"hoverlabel\":{\"align\":\"left\"},\"hovermode\":\"closest\",\"mapbox\":{\"style\":\"light\"},\"paper_bgcolor\":\"white\",\"plot_bgcolor\":\"#E5ECF6\",\"polar\":{\"angularaxis\":{\"gridcolor\":\"white\",\"linecolor\":\"white\",\"ticks\":\"\"},\"bgcolor\":\"#E5ECF6\",\"radialaxis\":{\"gridcolor\":\"white\",\"linecolor\":\"white\",\"ticks\":\"\"}},\"scene\":{\"xaxis\":{\"backgroundcolor\":\"#E5ECF6\",\"gridcolor\":\"white\",\"gridwidth\":2,\"linecolor\":\"white\",\"showbackground\":true,\"ticks\":\"\",\"zerolinecolor\":\"white\"},\"yaxis\":{\"backgroundcolor\":\"#E5ECF6\",\"gridcolor\":\"white\",\"gridwidth\":2,\"linecolor\":\"white\",\"showbackground\":true,\"ticks\":\"\",\"zerolinecolor\":\"white\"},\"zaxis\":{\"backgroundcolor\":\"#E5ECF6\",\"gridcolor\":\"white\",\"gridwidth\":2,\"linecolor\":\"white\",\"showbackground\":true,\"ticks\":\"\",\"zerolinecolor\":\"white\"}},\"shapedefaults\":{\"line\":{\"color\":\"#2a3f5f\"}},\"ternary\":{\"aaxis\":{\"gridcolor\":\"white\",\"linecolor\":\"white\",\"ticks\":\"\"},\"baxis\":{\"gridcolor\":\"white\",\"linecolor\":\"white\",\"ticks\":\"\"},\"bgcolor\":\"#E5ECF6\",\"caxis\":{\"gridcolor\":\"white\",\"linecolor\":\"white\",\"ticks\":\"\"}},\"title\":{\"x\":0.05},\"xaxis\":{\"automargin\":true,\"gridcolor\":\"white\",\"linecolor\":\"white\",\"ticks\":\"\",\"title\":{\"standoff\":15},\"zerolinecolor\":\"white\",\"zerolinewidth\":2},\"yaxis\":{\"automargin\":true,\"gridcolor\":\"white\",\"linecolor\":\"white\",\"ticks\":\"\",\"title\":{\"standoff\":15},\"zerolinecolor\":\"white\",\"zerolinewidth\":2}}},\"width\":1100},                        {\"responsive\": true}                    ).then(function(){\n",
       "                            \n",
       "var gd = document.getElementById('2cd2b01a-b207-42e9-833e-92e2377ab731');\n",
       "var x = new MutationObserver(function (mutations, observer) {{\n",
       "        var display = window.getComputedStyle(gd).display;\n",
       "        if (!display || display === 'none') {{\n",
       "            console.log([gd, 'removed!']);\n",
       "            Plotly.purge(gd);\n",
       "            observer.disconnect();\n",
       "        }}\n",
       "}});\n",
       "\n",
       "// Listen for the removal of the full notebook cells\n",
       "var notebookContainer = gd.closest('#notebook-container');\n",
       "if (notebookContainer) {{\n",
       "    x.observe(notebookContainer, {childList: true});\n",
       "}}\n",
       "\n",
       "// Listen for the clearing of the current output cell\n",
       "var outputEl = gd.closest('.output');\n",
       "if (outputEl) {{\n",
       "    x.observe(outputEl, {childList: true});\n",
       "}}\n",
       "\n",
       "                        })                };                });            </script>        </div>"
      ]
     },
     "metadata": {},
     "output_type": "display_data"
    }
   ],
   "source": [
    "fig = px.treemap(myTreemapAgg.query('sum_Neubau >0').reset_index(), path=[px.Constant(\"Neu gebaute Gebäude nach Gebäudeart und Jahr seit 1901\")\n",
    "                                                                                      , 'GbdArt', 'Jahr']\n",
    "                 , values='sum_Neubau'\n",
    "                 , color='sum_Neubau'\n",
    "                 ## bei discrete scales (bei Klassen und Strings):                 \n",
    "                 #, color_discrete_map={'(?)':'lightgrey','EVP':'gold', 'SP':'#FF3030', 'PdA':'#EE3B3B', 'Grüne':'#A2CD5A','GLP':'#CAFF70','Die Mitte':'orange','FDP':'#104E8B','AL':'deeppink','SVP':'forestgreen', 'FL ZÜRI':'#8B864E','Volt':'#lightblue' }                \n",
    "                 ## bei continuous scales (bei Zahlenwerten):\n",
    "                , color_continuous_scale='cividis'\n",
    "                #, color_continuous_midpoint=np.average(df['AnzBestWir'], weights=df['AnzBestWir'])  \n",
    "                 ,height=500\n",
    "                 ,width=1100                 \n",
    "                )\n",
    "fig.update_traces(root_color=\"grey\")\n",
    "fig.update_layout(margin = dict(t=50, l=25, r=250, b=25))\n",
    "fig.show()"
   ]
  },
  {
   "cell_type": "code",
   "execution_count": 117,
   "metadata": {},
   "outputs": [],
   "source": [
    "#data2betested.dtypes"
   ]
  },
  {
   "cell_type": "markdown",
   "metadata": {},
   "source": [
    "**Sharepoint als gecheckt markieren!**"
   ]
  },
  {
   "cell_type": "markdown",
   "metadata": {},
   "source": [
    "Record auf Sharepoint: **[Link](https://kollaboration.intranet.stzh.ch/orga/ssz-produkte/Lists/SASA_Outputs/DispForm.aspx?ID=636&ContentTypeId=0x0100988EAF029F1EFE4CA675F53C32A5D53D01006DBC563E6FBE9E4EB6FDC780799752E1)**"
   ]
  },
  {
   "cell_type": "markdown",
   "metadata": {},
   "source": [
    "## ---------------------- hier Plausi beendet\n",
    "\n",
    "Liniendiagramm \n",
    "[Link zur Doku](https://altair-viz.github.io/gallery/multiline_highlight.html)"
   ]
  },
  {
   "cell_type": "markdown",
   "metadata": {
    "tags": []
   },
   "source": [
    "### Test: Choroplethenkarte\n",
    "Importiere die Geodaten als GeoJSON"
   ]
  },
  {
   "cell_type": "markdown",
   "metadata": {},
   "source": [
    "#### Stadtkreise"
   ]
  },
  {
   "cell_type": "code",
   "execution_count": 124,
   "metadata": {},
   "outputs": [
    {
     "data": {
      "text/html": [
       "<div>\n",
       "<style scoped>\n",
       "    .dataframe tbody tr th:only-of-type {\n",
       "        vertical-align: middle;\n",
       "    }\n",
       "\n",
       "    .dataframe tbody tr th {\n",
       "        vertical-align: top;\n",
       "    }\n",
       "\n",
       "    .dataframe thead th {\n",
       "        text-align: right;\n",
       "    }\n",
       "</style>\n",
       "<table border=\"1\" class=\"dataframe\">\n",
       "  <thead>\n",
       "    <tr style=\"text-align: right;\">\n",
       "      <th></th>\n",
       "      <th>id</th>\n",
       "      <th>kname</th>\n",
       "      <th>knr</th>\n",
       "      <th>objid</th>\n",
       "      <th>geometry</th>\n",
       "    </tr>\n",
       "  </thead>\n",
       "  <tbody>\n",
       "    <tr>\n",
       "      <th>0</th>\n",
       "      <td>adm_stadtkreise_v.6</td>\n",
       "      <td>Kreis 7</td>\n",
       "      <td>7</td>\n",
       "      <td>6</td>\n",
       "      <td>POLYGON ((8.54885 47.36602, 8.54901 47.36601, ...</td>\n",
       "    </tr>\n",
       "  </tbody>\n",
       "</table>\n",
       "</div>"
      ],
      "text/plain": [
       "                    id    kname  knr objid                                           geometry\n",
       "0  adm_stadtkreise_v.6  Kreis 7    7     6  POLYGON ((8.54885 47.36602, 8.54901 47.36601, ..."
      ]
     },
     "execution_count": 124,
     "metadata": {},
     "output_type": "execute_result"
    }
   ],
   "source": [
    "# Read abt. Geopandas https://geopandas.org/docs/user_guide/io.html\n",
    "geojson_url_kreise = \"https://www.ogd.stadt-zuerich.ch/wfs/geoportal/Stadtkreise?service=WFS&version=1.1.0&request=GetFeature&outputFormat=GeoJSON&typename=adm_stadtkreise_v\"\n",
    "adm_stadtkreise_v = gpd.read_file(geojson_url_kreise)\n",
    "\n",
    "adm_stadtkreise_v.head(1)\n"
   ]
  },
  {
   "cell_type": "markdown",
   "metadata": {},
   "source": [
    "#### Statistische Zonen"
   ]
  },
  {
   "cell_type": "code",
   "execution_count": 115,
   "metadata": {},
   "outputs": [
    {
     "data": {
      "text/html": [
       "<div>\n",
       "<style scoped>\n",
       "    .dataframe tbody tr th:only-of-type {\n",
       "        vertical-align: middle;\n",
       "    }\n",
       "\n",
       "    .dataframe tbody tr th {\n",
       "        vertical-align: top;\n",
       "    }\n",
       "\n",
       "    .dataframe thead th {\n",
       "        text-align: right;\n",
       "    }\n",
       "</style>\n",
       "<table border=\"1\" class=\"dataframe\">\n",
       "  <thead>\n",
       "    <tr style=\"text-align: right;\">\n",
       "      <th></th>\n",
       "      <th>id</th>\n",
       "      <th>kname</th>\n",
       "      <th>knr</th>\n",
       "      <th>objectid</th>\n",
       "      <th>objid</th>\n",
       "      <th>qname</th>\n",
       "      <th>qnr</th>\n",
       "      <th>stzname</th>\n",
       "      <th>stznr</th>\n",
       "      <th>geometry</th>\n",
       "    </tr>\n",
       "  </thead>\n",
       "  <tbody>\n",
       "    <tr>\n",
       "      <th>0</th>\n",
       "      <td>adm_statzonen_map.1</td>\n",
       "      <td>Kreis 7</td>\n",
       "      <td>7</td>\n",
       "      <td>1</td>\n",
       "      <td>154</td>\n",
       "      <td>Hirslanden</td>\n",
       "      <td>73</td>\n",
       "      <td>Hegibach</td>\n",
       "      <td>7303</td>\n",
       "      <td>POLYGON ((8.55670 47.36406, 8.55682 47.36410, ...</td>\n",
       "    </tr>\n",
       "    <tr>\n",
       "      <th>1</th>\n",
       "      <td>adm_statzonen_map.2</td>\n",
       "      <td>Kreis 7</td>\n",
       "      <td>7</td>\n",
       "      <td>2</td>\n",
       "      <td>89</td>\n",
       "      <td>Hirslanden</td>\n",
       "      <td>73</td>\n",
       "      <td>Klus</td>\n",
       "      <td>7302</td>\n",
       "      <td>POLYGON ((8.57281 47.35806, 8.57278 47.35807, ...</td>\n",
       "    </tr>\n",
       "  </tbody>\n",
       "</table>\n",
       "</div>"
      ],
      "text/plain": [
       "                    id    kname  knr  objectid objid       qname  qnr   stzname  stznr  \\\n",
       "0  adm_statzonen_map.1  Kreis 7    7         1   154  Hirslanden   73  Hegibach   7303   \n",
       "1  adm_statzonen_map.2  Kreis 7    7         2    89  Hirslanden   73      Klus   7302   \n",
       "\n",
       "                                            geometry  \n",
       "0  POLYGON ((8.55670 47.36406, 8.55682 47.36410, ...  \n",
       "1  POLYGON ((8.57281 47.35806, 8.57278 47.35807, ...  "
      ]
     },
     "execution_count": 115,
     "metadata": {},
     "output_type": "execute_result"
    }
   ],
   "source": [
    "# Read abt. Geopandas https://geopandas.org/docs/user_guide/io.html\n",
    "geojson_url_statzonen = \"https://www.ogd.stadt-zuerich.ch/wfs/geoportal/Statistische_Zonen?service=WFS&version=1.1.0&request=GetFeature&outputFormat=GeoJSON&typename=adm_statzonen_map\"\n",
    "adm_statzonen_map = gpd.read_file(geojson_url_statzonen)\n",
    "\n",
    "adm_statzonen_map.head(2)\n"
   ]
  },
  {
   "cell_type": "markdown",
   "metadata": {},
   "source": [
    "#### Statistische Quartiere"
   ]
  },
  {
   "cell_type": "code",
   "execution_count": 119,
   "metadata": {},
   "outputs": [
    {
     "data": {
      "text/html": [
       "<div>\n",
       "<style scoped>\n",
       "    .dataframe tbody tr th:only-of-type {\n",
       "        vertical-align: middle;\n",
       "    }\n",
       "\n",
       "    .dataframe tbody tr th {\n",
       "        vertical-align: top;\n",
       "    }\n",
       "\n",
       "    .dataframe thead th {\n",
       "        text-align: right;\n",
       "    }\n",
       "</style>\n",
       "<table border=\"1\" class=\"dataframe\">\n",
       "  <thead>\n",
       "    <tr style=\"text-align: right;\">\n",
       "      <th></th>\n",
       "      <th>id</th>\n",
       "      <th>kname</th>\n",
       "      <th>knr</th>\n",
       "      <th>objectid</th>\n",
       "      <th>objid</th>\n",
       "      <th>qname</th>\n",
       "      <th>qnr</th>\n",
       "      <th>geometry</th>\n",
       "    </tr>\n",
       "  </thead>\n",
       "  <tbody>\n",
       "    <tr>\n",
       "      <th>0</th>\n",
       "      <td>adm_statistische_quartiere_map.1</td>\n",
       "      <td>Kreis 7</td>\n",
       "      <td>7</td>\n",
       "      <td>1</td>\n",
       "      <td>34</td>\n",
       "      <td>Hirslanden</td>\n",
       "      <td>73</td>\n",
       "      <td>POLYGON ((8.55670 47.36406, 8.55682 47.36410, ...</td>\n",
       "    </tr>\n",
       "    <tr>\n",
       "      <th>1</th>\n",
       "      <td>adm_statistische_quartiere_map.2</td>\n",
       "      <td>Kreis 8</td>\n",
       "      <td>8</td>\n",
       "      <td>2</td>\n",
       "      <td>33</td>\n",
       "      <td>Weinegg</td>\n",
       "      <td>83</td>\n",
       "      <td>POLYGON ((8.55670 47.36405, 8.55672 47.36403, ...</td>\n",
       "    </tr>\n",
       "  </tbody>\n",
       "</table>\n",
       "</div>"
      ],
      "text/plain": [
       "                                 id    kname  knr  objectid objid       qname  qnr  \\\n",
       "0  adm_statistische_quartiere_map.1  Kreis 7    7         1    34  Hirslanden   73   \n",
       "1  adm_statistische_quartiere_map.2  Kreis 8    8         2    33     Weinegg   83   \n",
       "\n",
       "                                            geometry  \n",
       "0  POLYGON ((8.55670 47.36406, 8.55682 47.36410, ...  \n",
       "1  POLYGON ((8.55670 47.36405, 8.55672 47.36403, ...  "
      ]
     },
     "execution_count": 119,
     "metadata": {},
     "output_type": "execute_result"
    }
   ],
   "source": [
    "geojson_url_quartiere = \"https://www.ogd.stadt-zuerich.ch/wfs/geoportal/Statistische_Quartiere?service=WFS&version=1.1.0&request=GetFeature&outputFormat=GeoJSON&typename=adm_statistische_quartiere_map\"\n",
    "df_adm_statistische_quartiere_map = gpd.read_file(geojson_url_quartiere)\n",
    "\n",
    "df_adm_statistische_quartiere_map.head(2)\n"
   ]
  },
  {
   "cell_type": "markdown",
   "metadata": {},
   "source": [
    "### Joins\n",
    "Joine die importierten statistischen Daten des aktuellen Jahres zum Geodatensatz:\n",
    "\n",
    "*Siehe dazu Doku zu [Geopandas](https://geopandas.org/docs/user_guide/mergingdata.html)*"
   ]
  },
  {
   "cell_type": "code",
   "execution_count": 127,
   "metadata": {},
   "outputs": [
    {
     "data": {
      "text/plain": [
       "StatZoneCd             int64\n",
       "StatZone              object\n",
       "QuarCd                 int64\n",
       "QuarLang              object\n",
       "KreisCd                int64\n",
       "KreisLang             object\n",
       "EigentumsartSort       int64\n",
       "Eigentumsart          object\n",
       "Whg_abgebrochen        int64\n",
       "Whg_fertigerstellt     int64\n",
       "dtype: object"
      ]
     },
     "execution_count": 127,
     "metadata": {},
     "output_type": "execute_result"
    }
   ],
   "source": [
    "data2betested.dtypes"
   ]
  },
  {
   "cell_type": "code",
   "execution_count": 137,
   "metadata": {},
   "outputs": [
    {
     "data": {
      "text/html": [
       "<div>\n",
       "<style scoped>\n",
       "    .dataframe tbody tr th:only-of-type {\n",
       "        vertical-align: middle;\n",
       "    }\n",
       "\n",
       "    .dataframe tbody tr th {\n",
       "        vertical-align: top;\n",
       "    }\n",
       "\n",
       "    .dataframe thead th {\n",
       "        text-align: right;\n",
       "    }\n",
       "</style>\n",
       "<table border=\"1\" class=\"dataframe\">\n",
       "  <thead>\n",
       "    <tr style=\"text-align: right;\">\n",
       "      <th></th>\n",
       "      <th>QuarLang</th>\n",
       "      <th>QuarCd</th>\n",
       "      <th>sum_Whg_abgebrochen</th>\n",
       "      <th>sum_Whg_fertigerstellt</th>\n",
       "    </tr>\n",
       "  </thead>\n",
       "  <tbody>\n",
       "    <tr>\n",
       "      <th>0</th>\n",
       "      <td>Albisrieden</td>\n",
       "      <td>91</td>\n",
       "      <td>282</td>\n",
       "      <td>89</td>\n",
       "    </tr>\n",
       "  </tbody>\n",
       "</table>\n",
       "</div>"
      ],
      "text/plain": [
       "      QuarLang  QuarCd  sum_Whg_abgebrochen  sum_Whg_fertigerstellt\n",
       "0  Albisrieden      91                  282                      89"
      ]
     },
     "execution_count": 137,
     "metadata": {},
     "output_type": "execute_result"
    }
   ],
   "source": [
    "myAgg = data2betested.loc[\"2021\"]  \\\n",
    "    .groupby(['QuarLang', 'QuarCd']) \\\n",
    "    .agg(sum_Whg_abgebrochen=('Whg_abgebrochen', 'sum'),sum_Whg_fertigerstellt=('Whg_fertigerstellt', 'sum')) \\\n",
    "    .sort_values('sum_Whg_abgebrochen', ascending=False) \n",
    "\n",
    "myAgg.reset_index().head(1)\n"
   ]
  },
  {
   "cell_type": "code",
   "execution_count": 138,
   "metadata": {},
   "outputs": [
    {
     "data": {
      "text/html": [
       "<div>\n",
       "<style scoped>\n",
       "    .dataframe tbody tr th:only-of-type {\n",
       "        vertical-align: middle;\n",
       "    }\n",
       "\n",
       "    .dataframe tbody tr th {\n",
       "        vertical-align: top;\n",
       "    }\n",
       "\n",
       "    .dataframe thead th {\n",
       "        text-align: right;\n",
       "    }\n",
       "</style>\n",
       "<table border=\"1\" class=\"dataframe\">\n",
       "  <thead>\n",
       "    <tr style=\"text-align: right;\">\n",
       "      <th></th>\n",
       "      <th>geometry</th>\n",
       "      <th>QuarCd</th>\n",
       "      <th>qname</th>\n",
       "      <th>knr</th>\n",
       "    </tr>\n",
       "  </thead>\n",
       "  <tbody>\n",
       "    <tr>\n",
       "      <th>0</th>\n",
       "      <td>POLYGON ((8.55670 47.36406, 8.55682 47.36410, ...</td>\n",
       "      <td>73</td>\n",
       "      <td>Hirslanden</td>\n",
       "      <td>7</td>\n",
       "    </tr>\n",
       "  </tbody>\n",
       "</table>\n",
       "</div>"
      ],
      "text/plain": [
       "                                            geometry  QuarCd       qname  knr\n",
       "0  POLYGON ((8.55670 47.36406, 8.55682 47.36410, ...      73  Hirslanden    7"
      ]
     },
     "execution_count": 138,
     "metadata": {},
     "output_type": "execute_result"
    }
   ],
   "source": [
    "# Rename attribute stznr to StatZoneSort, so the IDs have the same name\n",
    "gdf_adm_statistische_quartiere_map = df_adm_statistische_quartiere_map[['geometry', 'qnr', 'qname', 'knr']].rename(columns={'qnr': 'QuarCd'})\n",
    "gdf_adm_statistische_quartiere_map.head(1)"
   ]
  },
  {
   "cell_type": "code",
   "execution_count": 139,
   "metadata": {},
   "outputs": [
    {
     "data": {
      "text/html": [
       "<div>\n",
       "<style scoped>\n",
       "    .dataframe tbody tr th:only-of-type {\n",
       "        vertical-align: middle;\n",
       "    }\n",
       "\n",
       "    .dataframe tbody tr th {\n",
       "        vertical-align: top;\n",
       "    }\n",
       "\n",
       "    .dataframe thead th {\n",
       "        text-align: right;\n",
       "    }\n",
       "</style>\n",
       "<table border=\"1\" class=\"dataframe\">\n",
       "  <thead>\n",
       "    <tr style=\"text-align: right;\">\n",
       "      <th></th>\n",
       "      <th>geometry</th>\n",
       "      <th>QuarCd</th>\n",
       "      <th>qname</th>\n",
       "      <th>knr</th>\n",
       "      <th>sum_Whg_abgebrochen</th>\n",
       "      <th>sum_Whg_fertigerstellt</th>\n",
       "    </tr>\n",
       "  </thead>\n",
       "  <tbody>\n",
       "    <tr>\n",
       "      <th>0</th>\n",
       "      <td>POLYGON ((8.55670 47.36406, 8.55682 47.36410, ...</td>\n",
       "      <td>73</td>\n",
       "      <td>Hirslanden</td>\n",
       "      <td>7</td>\n",
       "      <td>48</td>\n",
       "      <td>2</td>\n",
       "    </tr>\n",
       "    <tr>\n",
       "      <th>1</th>\n",
       "      <td>POLYGON ((8.55670 47.36405, 8.55672 47.36403, ...</td>\n",
       "      <td>83</td>\n",
       "      <td>Weinegg</td>\n",
       "      <td>8</td>\n",
       "      <td>2</td>\n",
       "      <td>0</td>\n",
       "    </tr>\n",
       "  </tbody>\n",
       "</table>\n",
       "</div>"
      ],
      "text/plain": [
       "                                            geometry  QuarCd       qname  knr  \\\n",
       "0  POLYGON ((8.55670 47.36406, 8.55682 47.36410, ...      73  Hirslanden    7   \n",
       "1  POLYGON ((8.55670 47.36405, 8.55672 47.36403, ...      83     Weinegg    8   \n",
       "\n",
       "   sum_Whg_abgebrochen  sum_Whg_fertigerstellt  \n",
       "0                   48                       2  \n",
       "1                    2                       0  "
      ]
     },
     "execution_count": 139,
     "metadata": {},
     "output_type": "execute_result"
    }
   ],
   "source": [
    "# Merge with `merge` method on shared variable (stznr und StatZoneSort):\n",
    "gdf_adm_statistische_quartiere_map_joined = gdf_adm_statistische_quartiere_map.merge(myAgg, on='QuarCd')\n",
    "gdf_adm_statistische_quartiere_map_joined.head(2)\n"
   ]
  },
  {
   "cell_type": "code",
   "execution_count": 142,
   "metadata": {},
   "outputs": [
    {
     "data": {
      "text/plain": [
       "<AxesSubplot:>"
      ]
     },
     "execution_count": 142,
     "metadata": {},
     "output_type": "execute_result"
    },
    {
     "data": {
      "image/png": "[encoded data removed]",
      "text/plain": [
       "<Figure size 432x288 with 1 Axes>"
      ]
     },
     "metadata": {
      "needs_background": "light"
     },
     "output_type": "display_data"
    },
    {
     "data": {
      "image/png": "[encoded data removed]",
      "text/plain": [
       "<Figure size 432x288 with 1 Axes>"
      ]
     },
     "metadata": {
      "needs_background": "light"
     },
     "output_type": "display_data"
    }
   ],
   "source": [
    "# Plot by StatQuartiere\n",
    "# Weitere Schemes: scheme='quantiles', scheme='fisherjenks', scheme='natural_breaks',\n",
    "\n",
    "gdf_adm_statistische_quartiere_map_joined.plot(column='sum_Whg_fertigerstellt', cmap='viridis', scheme='natural_breaks', legend=True )\n",
    "gdf_adm_statistische_quartiere_map_joined.plot(column='sum_Whg_abgebrochen', cmap='viridis', scheme='natural_breaks', legend=True )\n",
    "\n",
    "#gdf_adm_statistische_quartiere_map_joined.plot(column='sum_Whg_abgebrochen', cmap='plasma', scheme='fisherjenks', legend=True )\n",
    "#gdf_adm_statistische_quartiere_map_joined.plot(column='sum_Whg_fertigerstellt', cmap='cool', scheme='quantiles', legend=True )\n",
    "#scheme werte: https://matplotlib.org/2.0.2/users/colormaps.html\n",
    "\n",
    "#\n",
    "#Neuere Gallerie: https://matplotlib.org/stable/gallery/index.html"
   ]
  },
  {
   "cell_type": "code",
   "execution_count": 157,
   "metadata": {},
   "outputs": [
    {
     "data": {
      "text/plain": [
       "<AxesSubplot:>"
      ]
     },
     "execution_count": 157,
     "metadata": {},
     "output_type": "execute_result"
    },
    {
     "data": {
      "image/png": "[encoded data removed]",
      "text/plain": [
       "<Figure size 432x288 with 2 Axes>"
      ]
     },
     "metadata": {
      "needs_background": "light"
     },
     "output_type": "display_data"
    }
   ],
   "source": [
    "fig, ax = plt.subplots(1, 1)\n",
    "\n",
    "gdf_adm_statistische_quartiere_map_joined.plot(column='sum_Whg_abgebrochen', ax=ax, legend=True, legend_kwds={'label': \"Anzahl abgebrochene Wohnungen 2021\",'orientation': \"horizontal\"})\n",
    "gdf_adm_statistische_quartiere_map_joined.plot(column='sum_Whg_fertigerstellt', ax=ax, legend=False, legend_kwds={'label': \"Anzahl fertigerstellte Wohnungen 2021\",'orientation': \"horizontal\"})\n",
    "\n",
    "#gdf_adm_statistische_quartiere_map_joined.plot(column='sum_Whg_abgebrochen', cmap='viridis', scheme='natural_breaks', legend=True , ax=ax, legend_kwds={'label': \"Anzahl Personen\",'orientation': \"horizontal\"})"
   ]
  },
  {
   "cell_type": "markdown",
   "metadata": {},
   "source": [
    "Noch zu prüfen, folgendes schöne Beispiel: https://docs.bokeh.org/en/latest/docs/user_guide/interaction/legends.html\n",
    "\n",
    "Konkrete Beispiele von Bookeh in Jupyter NB: https://docs.bokeh.org/en/latest/docs/user_guide/jupyter.html"
   ]
  },
  {
   "cell_type": "markdown",
   "metadata": {},
   "source": [
    "**Sharepoint als gecheckt markieren!**"
   ]
  },
  {
   "cell_type": "markdown",
   "metadata": {},
   "source": [
    "Record auf Sharepoint: **[Link](https://kollaboration.intranet.stzh.ch/orga/ssz-produkte/Lists/SASA_Outputs/DispForm.aspx?ID=636&ContentTypeId=0x0100988EAF029F1EFE4CA675F53C32A5D53D01006DBC563E6FBE9E4EB6FDC780799752E1)**"
   ]
  },
  {
   "cell_type": "code",
   "execution_count": null,
   "metadata": {},
   "outputs": [],
   "source": []
  },
  {
   "cell_type": "raw",
   "metadata": {},
   "source": []
  },
  {
   "cell_type": "code",
   "execution_count": null,
   "metadata": {},
   "outputs": [],
   "source": []
  }
 ],
 "metadata": {
  "kernelspec": {
   "display_name": "Python 3 (ipykernel)",
   "language": "python",
   "name": "python3"
  },
  "language_info": {
   "codemirror_mode": {
    "name": "ipython",
    "version": 3
   },
   "file_extension": ".py",
   "mimetype": "text/x-python",
   "name": "python",
   "nbconvert_exporter": "python",
   "pygments_lexer": "ipython3",
   "version": "3.9.7"
  }
 },
 "nbformat": 4,
 "nbformat_minor": 4
}
