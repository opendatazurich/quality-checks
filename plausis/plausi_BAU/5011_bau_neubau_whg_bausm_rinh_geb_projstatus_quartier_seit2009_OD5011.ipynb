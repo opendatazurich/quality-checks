{
 "cells": [
  {
   "cell_type": "markdown",
   "metadata": {},
   "source": [
    "# Testing\n",
    "### Neubautätigkeit nach Bauprojektstatus und Stadtquartier seit 2009\n",
    "Datum: 03.02.2022"
   ]
  },
  {
   "cell_type": "markdown",
   "metadata": {},
   "source": [
    "### Importiere die notwendigen Packages"
   ]
  },
  {
   "cell_type": "code",
   "execution_count": 1,
   "metadata": {},
   "outputs": [],
   "source": [
    "#%pip install geopandas altair fiona requests folium mplleaflet contextily seaborn datetime plotly"
   ]
  },
  {
   "cell_type": "code",
   "execution_count": 2,
   "metadata": {},
   "outputs": [],
   "source": [
    "import pandas as pd\n",
    "import pivottablejs\n",
    "from pivottablejs import pivot_ui\n",
    "import numpy as np\n",
    "import altair as alt\n",
    "import matplotlib.pyplot as plt\n",
    "#from datetime import datetime\n",
    "import datetime\n",
    "import geopandas as gpd\n",
    "import folium \n",
    "import plotly.express as px\n",
    "import seaborn as sns\n"
   ]
  },
  {
   "cell_type": "markdown",
   "metadata": {},
   "source": [
    "Definiere Settings. Hier das Zahlenformat von Float-Werten (z.B. *'{:,.2f}'.format* mit Komma als Tausenderzeichen), "
   ]
  },
  {
   "cell_type": "code",
   "execution_count": 3,
   "metadata": {},
   "outputs": [],
   "source": [
    "pd.options.display.float_format = '{:.0f}'.format\n",
    "pd.set_option('display.width', 100)\n",
    "pd.set_option('display.max_columns', 15)"
   ]
  },
  {
   "cell_type": "markdown",
   "metadata": {},
   "source": [
    "### Zeitvariabeln\n",
    "Bestimme den aktuellst geladenen Monat. Hier ist es der Stand vor 2 Monaten. \n",
    "Bestimme noch weitere evt. sinnvolle Zeitvariabeln.\n",
    "\n",
    "Zum Unterschied zwischen import datetime und from datedtime import datetime, siehe https://stackoverflow.com/questions/15707532/import-datetime-v-s-from-datetime-import-datetime\n",
    "\n",
    "Zuerst die Zeitvariabeln als Strings"
   ]
  },
  {
   "cell_type": "code",
   "execution_count": 4,
   "metadata": {},
   "outputs": [],
   "source": [
    "#today_date = datetime.date.today()\n",
    "#date_time = datetime.datetime.strptime(date_time_string, '%Y-%m-%d %H:%M')\n",
    "now = datetime.date.today()\n",
    "date_today = now.strftime(\"%Y-%m-%d\")\n",
    "year_today = now.strftime(\"%Y\")\n",
    "month_today = now.strftime(\"%m\")\n",
    "day_today = now.strftime(\"%d\")\n"
   ]
  },
  {
   "cell_type": "markdown",
   "metadata": {},
   "source": [
    "Und hier noch die Zeitvariabeln als Integers:\n",
    "- `aktuellesJahr`\n",
    "- `aktuellerMonat`: Der gerade jetzt aktuelle Monat\n",
    "- `selectedMonat`: Der aktuellste Monat in den Daten. In der Regel zwei Monate her."
   ]
  },
  {
   "cell_type": "code",
   "execution_count": 5,
   "metadata": {},
   "outputs": [
    {
     "name": "stdout",
     "output_type": "stream",
     "text": [
      "2022 2 datenstand:  0 time.struct_time(tm_year=2022, tm_mon=2, tm_mday=3, tm_hour=0, tm_min=0, tm_sec=0, tm_wday=3, tm_yday=34, tm_isdst=-1)\n"
     ]
    }
   ],
   "source": [
    "#now = datetime.now() \n",
    "int_times = now.timetuple()\n",
    "\n",
    "aktuellesJahr = int_times[0]\n",
    "aktuellerMonat = int_times[1]\n",
    "selectedMonat = int_times[1]-2\n",
    "\n",
    "print(aktuellesJahr, \n",
    "      aktuellerMonat,\n",
    "    'datenstand: ', selectedMonat,\n",
    "     int_times)\n"
   ]
  },
  {
   "cell_type": "markdown",
   "metadata": {},
   "source": [
    "Berechne die Variable Epoche um später das SAS-Datum in ein Unix-Datum umzuwandeln. Bei SAS beginnt die Epoche am 1.1.1960. Bei Unix am 1.1.1970.\n",
    "Diese Variable wird beim CSV-Import benötigt."
   ]
  },
  {
   "cell_type": "code",
   "execution_count": 6,
   "metadata": {},
   "outputs": [],
   "source": [
    "epoch = datetime.datetime(1960, 1, 1)"
   ]
  },
  {
   "cell_type": "markdown",
   "metadata": {
    "tags": []
   },
   "source": [
    "### Importiere einen Datensatz \n",
    "\n",
    "- Beachte dabei die Notation des Pfades...\n",
    "- Definiere mal aktuell noch keine weiteren Parameter beim Import"
   ]
  },
  {
   "cell_type": "markdown",
   "metadata": {},
   "source": [
    "**Dataset auf INTEG Datenkatalog**:  https://data.integ.stadt-zuerich.ch/dataset/int_dwh_bau_neubau_whg_bausm_rinh_geb_projstatus_quartier_seit2009_od5011\n",
    "\n",
    "**Dataset auf PROD Datenkatalog**:  https://data.stadt-zuerich.ch/dataset/bau_neubau_whg_bausm_rinh_geb_projstatus_quartier_seit2009_od5011"
   ]
  },
  {
   "cell_type": "code",
   "execution_count": 33,
   "metadata": {},
   "outputs": [
    {
     "name": "stdout",
     "output_type": "stream",
     "text": [
      "int\n"
     ]
    }
   ],
   "source": [
    "#Die Datasets sind nur zum Testen auf INT-DWH-Dropzone. Wenn der Test vorbei ist, sind sie auf PROD. \n",
    "# Über den Status kann man einfach switchen\n",
    "\n",
    "status = \"int\";\n",
    "print(status)"
   ]
  },
  {
   "cell_type": "code",
   "execution_count": 34,
   "metadata": {
    "tags": []
   },
   "outputs": [
    {
     "name": "stdout",
     "output_type": "stream",
     "text": [
      "\\\\szh\\ssz\\applikationen\\OGD_Dropzone\\INT_DWH\\bau_neubau_whg_bausm_rinh_geb_projstatus_quartier_seit2009_OD5011\\BAU501OD5011.csv\n"
     ]
    }
   ],
   "source": [
    "# Filepath\n",
    "if status == \"prod\":\n",
    "    fp = r\"https://data.stadt-zuerich.ch/dataset/bau_neubau_whg_bausm_rinh_geb_projstatus_quartier_seit2009_od5011/download/BAU501OD5011.csv\"\n",
    "else:\n",
    "    fp = r\"\\\\szh\\ssz\\applikationen\\OGD_Dropzone\\INT_DWH\\bau_neubau_whg_bausm_rinh_geb_projstatus_quartier_seit2009_OD5011\\BAU501OD5011.csv\"   \n",
    "\n",
    "print(fp)"
   ]
  },
  {
   "cell_type": "markdown",
   "metadata": {},
   "source": [
    "Beachte, wie das SAS Datum (ohne Format) in ein UNIX Datum umgerechnet und als Datumsformat dargestellt wird! Siehe dazu `https://stackoverflow.com/questions/26923564/convert-sas-numeric-to-python-datetime`"
   ]
  },
  {
   "cell_type": "code",
   "execution_count": 35,
   "metadata": {},
   "outputs": [
    {
     "name": "stdout",
     "output_type": "stream",
     "text": [
      "done\n"
     ]
    }
   ],
   "source": [
    "# Read the data\n",
    "data2betested = pd.read_csv(\n",
    "    fp\n",
    "    , sep=','\n",
    "    ,parse_dates=['Jahr']\n",
    "    # KONVERTIERE DAS SAS DATUM IN EIN UNIXDATUM UND FORMATIERE ES\n",
    "    #, date_parser=lambda s: epoch + datetime.timedelta(days=int(s))\n",
    "    ,low_memory=False    \n",
    "    )\n",
    "\n",
    "print('done')"
   ]
  },
  {
   "cell_type": "markdown",
   "metadata": {},
   "source": [
    "In der Folge ein paar erste Tests:"
   ]
  },
  {
   "cell_type": "markdown",
   "metadata": {},
   "source": [
    " - 1) Zeige eine kurze Vorschau der importierten Daten\n",
    " - 2) Weise die Datentypen aus\n",
    " - 3) Zeige die Shape (Umfang) des Datensatzes an"
   ]
  },
  {
   "cell_type": "code",
   "execution_count": 36,
   "metadata": {},
   "outputs": [],
   "source": [
    "#data2betested.head(6)"
   ]
  },
  {
   "cell_type": "code",
   "execution_count": 37,
   "metadata": {},
   "outputs": [
    {
     "data": {
      "text/plain": [
       "Jahr              datetime64[ns]\n",
       "QuarSort                   int64\n",
       "QuarLang                  object\n",
       "KreisSort                  int64\n",
       "KreisLang                 object\n",
       "ProjStatus                object\n",
       "ProjAnzGbd                 int64\n",
       "ProjKosten                 int64\n",
       "ProjRauminhalt             int64\n",
       "ProjAnzWhg                 int64\n",
       "Whg_1_3_Zi                 int64\n",
       "Whg_4plus_Zi               int64\n",
       "dtype: object"
      ]
     },
     "execution_count": 37,
     "metadata": {},
     "output_type": "execute_result"
    }
   ],
   "source": [
    "data2betested.dtypes"
   ]
  },
  {
   "cell_type": "code",
   "execution_count": 38,
   "metadata": {},
   "outputs": [
    {
     "data": {
      "text/plain": [
       "(1119, 12)"
      ]
     },
     "execution_count": 38,
     "metadata": {},
     "output_type": "execute_result"
    }
   ],
   "source": [
    "data2betested.shape"
   ]
  },
  {
   "cell_type": "markdown",
   "metadata": {},
   "source": [
    "Beschreibe einzelne Attribute"
   ]
  },
  {
   "cell_type": "code",
   "execution_count": 39,
   "metadata": {},
   "outputs": [
    {
     "data": {
      "text/html": [
       "<div>\n",
       "<style scoped>\n",
       "    .dataframe tbody tr th:only-of-type {\n",
       "        vertical-align: middle;\n",
       "    }\n",
       "\n",
       "    .dataframe tbody tr th {\n",
       "        vertical-align: top;\n",
       "    }\n",
       "\n",
       "    .dataframe thead th {\n",
       "        text-align: right;\n",
       "    }\n",
       "</style>\n",
       "<table border=\"1\" class=\"dataframe\">\n",
       "  <thead>\n",
       "    <tr style=\"text-align: right;\">\n",
       "      <th></th>\n",
       "      <th>QuarSort</th>\n",
       "      <th>KreisSort</th>\n",
       "      <th>ProjAnzGbd</th>\n",
       "      <th>ProjKosten</th>\n",
       "      <th>ProjRauminhalt</th>\n",
       "      <th>ProjAnzWhg</th>\n",
       "      <th>Whg_1_3_Zi</th>\n",
       "      <th>Whg_4plus_Zi</th>\n",
       "    </tr>\n",
       "  </thead>\n",
       "  <tbody>\n",
       "    <tr>\n",
       "      <th>count</th>\n",
       "      <td>1119</td>\n",
       "      <td>1119</td>\n",
       "      <td>1119</td>\n",
       "      <td>1119</td>\n",
       "      <td>1119</td>\n",
       "      <td>1119</td>\n",
       "      <td>1119</td>\n",
       "      <td>1119</td>\n",
       "    </tr>\n",
       "    <tr>\n",
       "      <th>mean</th>\n",
       "      <td>70</td>\n",
       "      <td>7</td>\n",
       "      <td>20</td>\n",
       "      <td>91606</td>\n",
       "      <td>134488</td>\n",
       "      <td>133</td>\n",
       "      <td>91</td>\n",
       "      <td>43</td>\n",
       "    </tr>\n",
       "    <tr>\n",
       "      <th>std</th>\n",
       "      <td>34</td>\n",
       "      <td>3</td>\n",
       "      <td>26</td>\n",
       "      <td>134848</td>\n",
       "      <td>187792</td>\n",
       "      <td>195</td>\n",
       "      <td>137</td>\n",
       "      <td>67</td>\n",
       "    </tr>\n",
       "    <tr>\n",
       "      <th>min</th>\n",
       "      <td>11</td>\n",
       "      <td>1</td>\n",
       "      <td>0</td>\n",
       "      <td>0</td>\n",
       "      <td>20</td>\n",
       "      <td>0</td>\n",
       "      <td>0</td>\n",
       "      <td>0</td>\n",
       "    </tr>\n",
       "    <tr>\n",
       "      <th>25%</th>\n",
       "      <td>41</td>\n",
       "      <td>4</td>\n",
       "      <td>4</td>\n",
       "      <td>0</td>\n",
       "      <td>22326</td>\n",
       "      <td>18</td>\n",
       "      <td>11</td>\n",
       "      <td>4</td>\n",
       "    </tr>\n",
       "    <tr>\n",
       "      <th>50%</th>\n",
       "      <td>72</td>\n",
       "      <td>7</td>\n",
       "      <td>11</td>\n",
       "      <td>43160</td>\n",
       "      <td>63920</td>\n",
       "      <td>60</td>\n",
       "      <td>39</td>\n",
       "      <td>17</td>\n",
       "    </tr>\n",
       "    <tr>\n",
       "      <th>75%</th>\n",
       "      <td>101</td>\n",
       "      <td>10</td>\n",
       "      <td>25</td>\n",
       "      <td>116045</td>\n",
       "      <td>161404</td>\n",
       "      <td>165</td>\n",
       "      <td>113</td>\n",
       "      <td>52</td>\n",
       "    </tr>\n",
       "    <tr>\n",
       "      <th>max</th>\n",
       "      <td>123</td>\n",
       "      <td>12</td>\n",
       "      <td>243</td>\n",
       "      <td>938000</td>\n",
       "      <td>1899504</td>\n",
       "      <td>1659</td>\n",
       "      <td>1195</td>\n",
       "      <td>561</td>\n",
       "    </tr>\n",
       "  </tbody>\n",
       "</table>\n",
       "</div>"
      ],
      "text/plain": [
       "       QuarSort  KreisSort  ProjAnzGbd  ProjKosten  ProjRauminhalt  ProjAnzWhg  Whg_1_3_Zi  \\\n",
       "count      1119       1119        1119        1119            1119        1119        1119   \n",
       "mean         70          7          20       91606          134488         133          91   \n",
       "std          34          3          26      134848          187792         195         137   \n",
       "min          11          1           0           0              20           0           0   \n",
       "25%          41          4           4           0           22326          18          11   \n",
       "50%          72          7          11       43160           63920          60          39   \n",
       "75%         101         10          25      116045          161404         165         113   \n",
       "max         123         12         243      938000         1899504        1659        1195   \n",
       "\n",
       "       Whg_4plus_Zi  \n",
       "count          1119  \n",
       "mean             43  \n",
       "std              67  \n",
       "min               0  \n",
       "25%               4  \n",
       "50%              17  \n",
       "75%              52  \n",
       "max             561  "
      ]
     },
     "execution_count": 39,
     "metadata": {},
     "output_type": "execute_result"
    }
   ],
   "source": [
    "data2betested.describe()"
   ]
  },
  {
   "cell_type": "markdown",
   "metadata": {},
   "source": [
    "Wie viele Nullwerte gibt es im Datensatz?"
   ]
  },
  {
   "cell_type": "code",
   "execution_count": 40,
   "metadata": {
    "scrolled": true
   },
   "outputs": [
    {
     "data": {
      "text/plain": [
       "Jahr              0\n",
       "QuarSort          0\n",
       "QuarLang          0\n",
       "KreisSort         0\n",
       "KreisLang         0\n",
       "ProjStatus        0\n",
       "ProjAnzGbd        0\n",
       "ProjKosten        0\n",
       "ProjRauminhalt    0\n",
       "ProjAnzWhg        0\n",
       "Whg_1_3_Zi        0\n",
       "Whg_4plus_Zi      0\n",
       "dtype: int64"
      ]
     },
     "execution_count": 40,
     "metadata": {},
     "output_type": "execute_result"
    }
   ],
   "source": [
    "data2betested.isnull().sum()"
   ]
  },
  {
   "cell_type": "markdown",
   "metadata": {
    "colab_type": "text",
    "id": "1dTPVmmsgOVx"
   },
   "source": [
    "### Verwende das Datum als Index\n",
    "\n",
    "While we did already parse the `datetime` column into the respective datetime type, it currently is just a regular column. \n",
    "**To enable quick and convenient queries and aggregations, we need to turn it into the index of the DataFrame**"
   ]
  },
  {
   "cell_type": "code",
   "execution_count": 41,
   "metadata": {},
   "outputs": [],
   "source": [
    "data2betested = data2betested.set_index(\"Jahr\")"
   ]
  },
  {
   "cell_type": "code",
   "execution_count": 42,
   "metadata": {},
   "outputs": [
    {
     "name": "stdout",
     "output_type": "stream",
     "text": [
      "<class 'pandas.core.frame.DataFrame'>\n",
      "DatetimeIndex: 1119 entries, 2009-01-01 to 2021-01-01\n",
      "Data columns (total 11 columns):\n",
      " #   Column          Non-Null Count  Dtype \n",
      "---  ------          --------------  ----- \n",
      " 0   QuarSort        1119 non-null   int64 \n",
      " 1   QuarLang        1119 non-null   object\n",
      " 2   KreisSort       1119 non-null   int64 \n",
      " 3   KreisLang       1119 non-null   object\n",
      " 4   ProjStatus      1119 non-null   object\n",
      " 5   ProjAnzGbd      1119 non-null   int64 \n",
      " 6   ProjKosten      1119 non-null   int64 \n",
      " 7   ProjRauminhalt  1119 non-null   int64 \n",
      " 8   ProjAnzWhg      1119 non-null   int64 \n",
      " 9   Whg_1_3_Zi      1119 non-null   int64 \n",
      " 10  Whg_4plus_Zi    1119 non-null   int64 \n",
      "dtypes: int64(8), object(3)\n",
      "memory usage: 104.9+ KB\n"
     ]
    },
    {
     "data": {
      "text/plain": [
       "Int64Index([1], dtype='int64', name='Jahr')"
      ]
     },
     "execution_count": 42,
     "metadata": {},
     "output_type": "execute_result"
    }
   ],
   "source": [
    "data2betested.info()\n",
    "data2betested.index.day.unique()"
   ]
  },
  {
   "cell_type": "markdown",
   "metadata": {},
   "source": [
    "### Einfache Visualisierungen zur Plausi"
   ]
  },
  {
   "cell_type": "markdown",
   "metadata": {},
   "source": [
    "Exploriere die Daten mit Pivottable.JS"
   ]
  },
  {
   "cell_type": "code",
   "execution_count": 43,
   "metadata": {},
   "outputs": [
    {
     "data": {
      "text/html": [
       "\n",
       "        <iframe\n",
       "            width=\"100%\"\n",
       "            height=\"500\"\n",
       "            src=\"pivottablejs.html\"\n",
       "            frameborder=\"0\"\n",
       "            allowfullscreen\n",
       "        ></iframe>\n",
       "        "
      ],
      "text/plain": [
       "<IPython.lib.display.IFrame at 0x14fd7ee7760>"
      ]
     },
     "execution_count": 43,
     "metadata": {},
     "output_type": "execute_result"
    }
   ],
   "source": [
    "from pivottablejs import pivot_ui\n",
    "\n",
    "pivot_ui(data2betested)"
   ]
  },
  {
   "cell_type": "markdown",
   "metadata": {},
   "source": [
    "### Zeitpunkte und Zeiträume abfragen\n",
    "\n",
    "A particular powerful feature of the Pandas DataFrame is its indexing capability that also works using time-based entities, such as dates and times. We have already created the index above, so let's put it to use."
   ]
  },
  {
   "cell_type": "code",
   "execution_count": 45,
   "metadata": {},
   "outputs": [
    {
     "data": {
      "text/html": [
       "<div>\n",
       "<style scoped>\n",
       "    .dataframe tbody tr th:only-of-type {\n",
       "        vertical-align: middle;\n",
       "    }\n",
       "\n",
       "    .dataframe tbody tr th {\n",
       "        vertical-align: top;\n",
       "    }\n",
       "\n",
       "    .dataframe thead th {\n",
       "        text-align: right;\n",
       "    }\n",
       "</style>\n",
       "<table border=\"1\" class=\"dataframe\">\n",
       "  <thead>\n",
       "    <tr style=\"text-align: right;\">\n",
       "      <th></th>\n",
       "      <th>QuarSort</th>\n",
       "      <th>QuarLang</th>\n",
       "      <th>KreisSort</th>\n",
       "      <th>KreisLang</th>\n",
       "      <th>ProjStatus</th>\n",
       "      <th>ProjAnzGbd</th>\n",
       "      <th>ProjKosten</th>\n",
       "      <th>ProjRauminhalt</th>\n",
       "      <th>ProjAnzWhg</th>\n",
       "      <th>Whg_1_3_Zi</th>\n",
       "      <th>Whg_4plus_Zi</th>\n",
       "    </tr>\n",
       "    <tr>\n",
       "      <th>Jahr</th>\n",
       "      <th></th>\n",
       "      <th></th>\n",
       "      <th></th>\n",
       "      <th></th>\n",
       "      <th></th>\n",
       "      <th></th>\n",
       "      <th></th>\n",
       "      <th></th>\n",
       "      <th></th>\n",
       "      <th></th>\n",
       "      <th></th>\n",
       "    </tr>\n",
       "  </thead>\n",
       "  <tbody>\n",
       "    <tr>\n",
       "      <th>2009-01-01</th>\n",
       "      <td>11</td>\n",
       "      <td>Rathaus</td>\n",
       "      <td>1</td>\n",
       "      <td>Kreis 1</td>\n",
       "      <td>Fertigerstellt</td>\n",
       "      <td>1</td>\n",
       "      <td>0</td>\n",
       "      <td>1365</td>\n",
       "      <td>3</td>\n",
       "      <td>3</td>\n",
       "      <td>0</td>\n",
       "    </tr>\n",
       "    <tr>\n",
       "      <th>2009-01-01</th>\n",
       "      <td>11</td>\n",
       "      <td>Rathaus</td>\n",
       "      <td>1</td>\n",
       "      <td>Kreis 1</td>\n",
       "      <td>Im Bau</td>\n",
       "      <td>2</td>\n",
       "      <td>0</td>\n",
       "      <td>17690</td>\n",
       "      <td>0</td>\n",
       "      <td>0</td>\n",
       "      <td>0</td>\n",
       "    </tr>\n",
       "  </tbody>\n",
       "</table>\n",
       "</div>"
      ],
      "text/plain": [
       "            QuarSort QuarLang  KreisSort KreisLang      ProjStatus  ProjAnzGbd  ProjKosten  \\\n",
       "Jahr                                                                                         \n",
       "2009-01-01        11  Rathaus          1   Kreis 1  Fertigerstellt           1           0   \n",
       "2009-01-01        11  Rathaus          1   Kreis 1          Im Bau           2           0   \n",
       "\n",
       "            ProjRauminhalt  ProjAnzWhg  Whg_1_3_Zi  Whg_4plus_Zi  \n",
       "Jahr                                                              \n",
       "2009-01-01            1365           3           3             0  \n",
       "2009-01-01           17690           0           0             0  "
      ]
     },
     "execution_count": 45,
     "metadata": {},
     "output_type": "execute_result"
    }
   ],
   "source": [
    "data2betested.loc[\"2009\"].head(2)\n",
    "#data2betested.loc[\"2021-10-31\":\"2021-11-30\"].head(2)"
   ]
  },
  {
   "cell_type": "markdown",
   "metadata": {},
   "source": [
    "### Visualisierungen nach Zeitausschnitten"
   ]
  },
  {
   "cell_type": "markdown",
   "metadata": {
    "tags": []
   },
   "source": [
    "#### Entwicklung projektierter Gebäude und Wohnungen nach Projektstatus"
   ]
  },
  {
   "cell_type": "code",
   "execution_count": 61,
   "metadata": {
    "tags": []
   },
   "outputs": [
    {
     "data": {
      "text/html": [
       "<div>\n",
       "<style scoped>\n",
       "    .dataframe tbody tr th:only-of-type {\n",
       "        vertical-align: middle;\n",
       "    }\n",
       "\n",
       "    .dataframe tbody tr th {\n",
       "        vertical-align: top;\n",
       "    }\n",
       "\n",
       "    .dataframe thead th {\n",
       "        text-align: right;\n",
       "    }\n",
       "</style>\n",
       "<table border=\"1\" class=\"dataframe\">\n",
       "  <thead>\n",
       "    <tr style=\"text-align: right;\">\n",
       "      <th></th>\n",
       "      <th>Jahr</th>\n",
       "      <th>ProjStatus</th>\n",
       "      <th>sum_ProjAnzGbd</th>\n",
       "      <th>sum_ProjAnzWhg</th>\n",
       "    </tr>\n",
       "  </thead>\n",
       "  <tbody>\n",
       "    <tr>\n",
       "      <th>0</th>\n",
       "      <td>2009-01-01</td>\n",
       "      <td>Bewilligt</td>\n",
       "      <td>368</td>\n",
       "      <td>2903</td>\n",
       "    </tr>\n",
       "    <tr>\n",
       "      <th>1</th>\n",
       "      <td>2009-01-01</td>\n",
       "      <td>Fertigerstellt</td>\n",
       "      <td>169</td>\n",
       "      <td>1381</td>\n",
       "    </tr>\n",
       "    <tr>\n",
       "      <th>2</th>\n",
       "      <td>2009-01-01</td>\n",
       "      <td>Im Bau</td>\n",
       "      <td>434</td>\n",
       "      <td>4176</td>\n",
       "    </tr>\n",
       "  </tbody>\n",
       "</table>\n",
       "</div>"
      ],
      "text/plain": [
       "        Jahr      ProjStatus  sum_ProjAnzGbd  sum_ProjAnzWhg\n",
       "0 2009-01-01       Bewilligt             368            2903\n",
       "1 2009-01-01  Fertigerstellt             169            1381\n",
       "2 2009-01-01          Im Bau             434            4176"
      ]
     },
     "execution_count": 61,
     "metadata": {},
     "output_type": "execute_result"
    }
   ],
   "source": [
    "#myAgg = data2betested.loc[\"2008-11-30\":\"2021-10-31\"]\n",
    "myAgg = data2betested.loc[\"1996\":\"2021\"]\\\n",
    "    .groupby(['Jahr','ProjStatus']) \\\n",
    "    .agg(sum_ProjAnzGbd=('ProjAnzGbd', 'sum'),sum_ProjAnzWhg=('ProjAnzWhg', 'sum')) \\\n",
    "    .sort_values('Jahr', ascending=True) \n",
    "\n",
    "myAgg.reset_index().head(3)"
   ]
  },
  {
   "cell_type": "code",
   "execution_count": 62,
   "metadata": {},
   "outputs": [
    {
     "data": {
      "text/html": [
       "\n",
       "<div id=\"altair-viz-c7a28116f2d241de98b3e72f761a6670\"></div>\n",
       "<script type=\"text/javascript\">\n",
       "  (function(spec, embedOpt){\n",
       "    let outputDiv = document.currentScript.previousElementSibling;\n",
       "    if (outputDiv.id !== \"altair-viz-c7a28116f2d241de98b3e72f761a6670\") {\n",
       "      outputDiv = document.getElementById(\"altair-viz-c7a28116f2d241de98b3e72f761a6670\");\n",
       "    }\n",
       "    const paths = {\n",
       "      \"vega\": \"https://cdn.jsdelivr.net/npm//vega@5?noext\",\n",
       "      \"vega-lib\": \"https://cdn.jsdelivr.net/npm//vega-lib?noext\",\n",
       "      \"vega-lite\": \"https://cdn.jsdelivr.net/npm//vega-lite@4.8.1?noext\",\n",
       "      \"vega-embed\": \"https://cdn.jsdelivr.net/npm//vega-embed@6?noext\",\n",
       "    };\n",
       "\n",
       "    function loadScript(lib) {\n",
       "      return new Promise(function(resolve, reject) {\n",
       "        var s = document.createElement('script');\n",
       "        s.src = paths[lib];\n",
       "        s.async = true;\n",
       "        s.onload = () => resolve(paths[lib]);\n",
       "        s.onerror = () => reject(`Error loading script: ${paths[lib]}`);\n",
       "        document.getElementsByTagName(\"head\")[0].appendChild(s);\n",
       "      });\n",
       "    }\n",
       "\n",
       "    function showError(err) {\n",
       "      outputDiv.innerHTML = `<div class=\"error\" style=\"color:red;\">${err}</div>`;\n",
       "      throw err;\n",
       "    }\n",
       "\n",
       "    function displayChart(vegaEmbed) {\n",
       "      vegaEmbed(outputDiv, spec, embedOpt)\n",
       "        .catch(err => showError(`Javascript Error: ${err.message}<br>This usually means there's a typo in your chart specification. See the javascript console for the full traceback.`));\n",
       "    }\n",
       "\n",
       "    if(typeof define === \"function\" && define.amd) {\n",
       "      requirejs.config({paths});\n",
       "      require([\"vega-embed\"], displayChart, err => showError(`Error loading script: ${err.message}`));\n",
       "    } else if (typeof vegaEmbed === \"function\") {\n",
       "      displayChart(vegaEmbed);\n",
       "    } else {\n",
       "      loadScript(\"vega\")\n",
       "        .then(() => loadScript(\"vega-lite\"))\n",
       "        .then(() => loadScript(\"vega-embed\"))\n",
       "        .catch(showError)\n",
       "        .then(() => displayChart(vegaEmbed));\n",
       "    }\n",
       "  })({\"config\": {\"view\": {\"continuousWidth\": 400, \"continuousHeight\": 300}}, \"layer\": [{\"mark\": \"line\", \"encoding\": {\"color\": {\"type\": \"nominal\", \"field\": \"ProjStatus\", \"legend\": {\"orient\": \"right\", \"title\": \"Projektstatus\"}}, \"size\": {\"condition\": {\"value\": 0.5, \"selection\": {\"not\": \"selector020\"}}, \"value\": 4}, \"tooltip\": [{\"type\": \"temporal\", \"field\": \"Jahr\"}, {\"type\": \"nominal\", \"field\": \"ProjStatus\"}, {\"type\": \"quantitative\", \"field\": \"sum_ProjAnzGbd\"}, {\"type\": \"quantitative\", \"field\": \"sum_ProjAnzWhg\"}], \"x\": {\"type\": \"temporal\", \"axis\": {\"title\": \"Jahr\"}, \"field\": \"Jahr\"}, \"y\": {\"type\": \"quantitative\", \"axis\": {\"title\": \"Anz. Projektierte Geb\\u00e4ude\"}, \"field\": \"sum_ProjAnzGbd\"}}, \"selection\": {\"selector021\": {\"type\": \"interval\", \"bind\": \"scales\", \"encodings\": [\"x\", \"y\"]}}, \"title\": \"Title\"}, {\"mark\": \"circle\", \"encoding\": {\"color\": {\"type\": \"nominal\", \"field\": \"ProjStatus\", \"legend\": {\"orient\": \"right\", \"title\": \"Projektstatus\"}}, \"opacity\": {\"value\": 0.75}, \"tooltip\": [{\"type\": \"temporal\", \"field\": \"Jahr\"}, {\"type\": \"nominal\", \"field\": \"ProjStatus\"}, {\"type\": \"quantitative\", \"field\": \"sum_ProjAnzGbd\"}, {\"type\": \"quantitative\", \"field\": \"sum_ProjAnzWhg\"}], \"x\": {\"type\": \"temporal\", \"axis\": {\"title\": \"Jahr\"}, \"field\": \"Jahr\"}, \"y\": {\"type\": \"quantitative\", \"axis\": {\"title\": \"Anz. Projektierte Geb\\u00e4ude\"}, \"field\": \"sum_ProjAnzGbd\"}}, \"height\": 350, \"selection\": {\"selector020\": {\"type\": \"single\", \"on\": \"mouseover\", \"fields\": [\"ProjStatus\"], \"nearest\": true}}, \"title\": \"Title\", \"width\": 750}], \"data\": {\"name\": \"data-e09c2369761daa7b52728cfbddd167b7\"}, \"$schema\": \"https://vega.github.io/schema/vega-lite/v4.8.1.json\", \"datasets\": {\"data-e09c2369761daa7b52728cfbddd167b7\": [{\"Jahr\": \"2009-01-01T00:00:00\", \"ProjStatus\": \"Bewilligt\", \"sum_ProjAnzGbd\": 368, \"sum_ProjAnzWhg\": 2903}, {\"Jahr\": \"2009-01-01T00:00:00\", \"ProjStatus\": \"Fertigerstellt\", \"sum_ProjAnzGbd\": 169, \"sum_ProjAnzWhg\": 1381}, {\"Jahr\": \"2009-01-01T00:00:00\", \"ProjStatus\": \"Im Bau\", \"sum_ProjAnzGbd\": 434, \"sum_ProjAnzWhg\": 4176}, {\"Jahr\": \"2010-01-01T00:00:00\", \"ProjStatus\": \"Bewilligt\", \"sum_ProjAnzGbd\": 297, \"sum_ProjAnzWhg\": 2858}, {\"Jahr\": \"2010-01-01T00:00:00\", \"ProjStatus\": \"Fertigerstellt\", \"sum_ProjAnzGbd\": 202, \"sum_ProjAnzWhg\": 1202}, {\"Jahr\": \"2010-01-01T00:00:00\", \"ProjStatus\": \"Im Bau\", \"sum_ProjAnzGbd\": 536, \"sum_ProjAnzWhg\": 4951}, {\"Jahr\": \"2011-01-01T00:00:00\", \"ProjStatus\": \"Bewilligt\", \"sum_ProjAnzGbd\": 460, \"sum_ProjAnzWhg\": 3916}, {\"Jahr\": \"2011-01-01T00:00:00\", \"ProjStatus\": \"Fertigerstellt\", \"sum_ProjAnzGbd\": 275, \"sum_ProjAnzWhg\": 2256}, {\"Jahr\": \"2011-01-01T00:00:00\", \"ProjStatus\": \"Im Bau\", \"sum_ProjAnzGbd\": 494, \"sum_ProjAnzWhg\": 4579}, {\"Jahr\": \"2012-01-01T00:00:00\", \"ProjStatus\": \"Im Bau\", \"sum_ProjAnzGbd\": 468, \"sum_ProjAnzWhg\": 4272}, {\"Jahr\": \"2012-01-01T00:00:00\", \"ProjStatus\": \"Bewilligt\", \"sum_ProjAnzGbd\": 873, \"sum_ProjAnzWhg\": 4869}, {\"Jahr\": \"2012-01-01T00:00:00\", \"ProjStatus\": \"Fertigerstellt\", \"sum_ProjAnzGbd\": 295, \"sum_ProjAnzWhg\": 2255}, {\"Jahr\": \"2013-01-01T00:00:00\", \"ProjStatus\": \"Bewilligt\", \"sum_ProjAnzGbd\": 958, \"sum_ProjAnzWhg\": 4981}, {\"Jahr\": \"2013-01-01T00:00:00\", \"ProjStatus\": \"Fertigerstellt\", \"sum_ProjAnzGbd\": 268, \"sum_ProjAnzWhg\": 2502}, {\"Jahr\": \"2013-01-01T00:00:00\", \"ProjStatus\": \"Im Bau\", \"sum_ProjAnzGbd\": 686, \"sum_ProjAnzWhg\": 5377}, {\"Jahr\": \"2014-01-01T00:00:00\", \"ProjStatus\": \"Im Bau\", \"sum_ProjAnzGbd\": 1066, \"sum_ProjAnzWhg\": 6993}, {\"Jahr\": \"2014-01-01T00:00:00\", \"ProjStatus\": \"Bewilligt\", \"sum_ProjAnzGbd\": 725, \"sum_ProjAnzWhg\": 4096}, {\"Jahr\": \"2014-01-01T00:00:00\", \"ProjStatus\": \"Fertigerstellt\", \"sum_ProjAnzGbd\": 227, \"sum_ProjAnzWhg\": 1938}, {\"Jahr\": \"2015-01-01T00:00:00\", \"ProjStatus\": \"Im Bau\", \"sum_ProjAnzGbd\": 868, \"sum_ProjAnzWhg\": 5986}, {\"Jahr\": \"2015-01-01T00:00:00\", \"ProjStatus\": \"Fertigerstellt\", \"sum_ProjAnzGbd\": 339, \"sum_ProjAnzWhg\": 3210}, {\"Jahr\": \"2015-01-01T00:00:00\", \"ProjStatus\": \"Bewilligt\", \"sum_ProjAnzGbd\": 878, \"sum_ProjAnzWhg\": 4253}, {\"Jahr\": \"2016-01-01T00:00:00\", \"ProjStatus\": \"Bewilligt\", \"sum_ProjAnzGbd\": 828, \"sum_ProjAnzWhg\": 4020}, {\"Jahr\": \"2016-01-01T00:00:00\", \"ProjStatus\": \"Fertigerstellt\", \"sum_ProjAnzGbd\": 257, \"sum_ProjAnzWhg\": 2995}, {\"Jahr\": \"2016-01-01T00:00:00\", \"ProjStatus\": \"Im Bau\", \"sum_ProjAnzGbd\": 975, \"sum_ProjAnzWhg\": 5517}, {\"Jahr\": \"2017-01-01T00:00:00\", \"ProjStatus\": \"Bewilligt\", \"sum_ProjAnzGbd\": 620, \"sum_ProjAnzWhg\": 3206}, {\"Jahr\": \"2017-01-01T00:00:00\", \"ProjStatus\": \"Fertigerstellt\", \"sum_ProjAnzGbd\": 321, \"sum_ProjAnzWhg\": 2662}, {\"Jahr\": \"2017-01-01T00:00:00\", \"ProjStatus\": \"Im Bau\", \"sum_ProjAnzGbd\": 1044, \"sum_ProjAnzWhg\": 5913}, {\"Jahr\": \"2018-01-01T00:00:00\", \"ProjStatus\": \"Fertigerstellt\", \"sum_ProjAnzGbd\": 316, \"sum_ProjAnzWhg\": 3360}, {\"Jahr\": \"2018-01-01T00:00:00\", \"ProjStatus\": \"Im Bau\", \"sum_ProjAnzGbd\": 868, \"sum_ProjAnzWhg\": 4522}, {\"Jahr\": \"2018-01-01T00:00:00\", \"ProjStatus\": \"Bewilligt\", \"sum_ProjAnzGbd\": 556, \"sum_ProjAnzWhg\": 3083}, {\"Jahr\": \"2019-01-01T00:00:00\", \"ProjStatus\": \"Bewilligt\", \"sum_ProjAnzGbd\": 847, \"sum_ProjAnzWhg\": 4447}, {\"Jahr\": \"2019-01-01T00:00:00\", \"ProjStatus\": \"Fertigerstellt\", \"sum_ProjAnzGbd\": 214, \"sum_ProjAnzWhg\": 1979}, {\"Jahr\": \"2019-01-01T00:00:00\", \"ProjStatus\": \"Im Bau\", \"sum_ProjAnzGbd\": 722, \"sum_ProjAnzWhg\": 4321}, {\"Jahr\": \"2020-01-01T00:00:00\", \"ProjStatus\": \"Bewilligt\", \"sum_ProjAnzGbd\": 951, \"sum_ProjAnzWhg\": 5840}, {\"Jahr\": \"2020-01-01T00:00:00\", \"ProjStatus\": \"Fertigerstellt\", \"sum_ProjAnzGbd\": 181, \"sum_ProjAnzWhg\": 1770}, {\"Jahr\": \"2020-01-01T00:00:00\", \"ProjStatus\": \"Im Bau\", \"sum_ProjAnzGbd\": 902, \"sum_ProjAnzWhg\": 5421}, {\"Jahr\": \"2021-01-01T00:00:00\", \"ProjStatus\": \"Fertigerstellt\", \"sum_ProjAnzGbd\": 226, \"sum_ProjAnzWhg\": 1929}, {\"Jahr\": \"2021-01-01T00:00:00\", \"ProjStatus\": \"Bewilligt\", \"sum_ProjAnzGbd\": 391, \"sum_ProjAnzWhg\": 1990}, {\"Jahr\": \"2021-01-01T00:00:00\", \"ProjStatus\": \"Im Bau\", \"sum_ProjAnzGbd\": 1135, \"sum_ProjAnzWhg\": 7166}]}}, {\"mode\": \"vega-lite\"});\n",
       "</script>"
      ],
      "text/plain": [
       "alt.LayerChart(...)"
      ]
     },
     "execution_count": 62,
     "metadata": {},
     "output_type": "execute_result"
    }
   ],
   "source": [
    "highlight = alt.selection(type='single', on='mouseover',\n",
    "                          fields=['ProjStatus'], nearest=True)\n",
    "#x='date:StichtagDatJahr',\n",
    "base = alt.Chart(myAgg.reset_index().query('sum_ProjAnzGbd > 1'), title=\"Title\").encode(\n",
    "    x=alt.X('Jahr', axis=alt.Axis(title='Jahr'))# , axis=alt.Axis(format='%', title='percentage')\n",
    "    , y=alt.X('sum_ProjAnzGbd', axis=alt.Axis(title='Anz. Projektierte Gebäude'))\n",
    "    , color=alt.Color('ProjStatus', legend=alt.Legend(title=\"Projektstatus\", orient=\"right\"))  \n",
    "    ,tooltip=['Jahr', 'ProjStatus','sum_ProjAnzGbd', 'sum_ProjAnzWhg']    \n",
    ")\n",
    "points = base.mark_circle().encode(\n",
    "    opacity=alt.value(0.75)\n",
    ").add_selection(\n",
    "    highlight\n",
    ").properties(\n",
    "    width=750 , height=350\n",
    ")\n",
    "lines = base.mark_line().encode(\n",
    "    size=alt.condition(~highlight, alt.value(0.5), alt.value(4))\n",
    ").interactive()\n",
    "\n",
    "lines + points"
   ]
  },
  {
   "cell_type": "markdown",
   "metadata": {
    "tags": []
   },
   "source": [
    "#### Entwicklung fertigerstellter Projekte nach Stadtkreis"
   ]
  },
  {
   "cell_type": "code",
   "execution_count": 72,
   "metadata": {},
   "outputs": [
    {
     "data": {
      "text/html": [
       "<div>\n",
       "<style scoped>\n",
       "    .dataframe tbody tr th:only-of-type {\n",
       "        vertical-align: middle;\n",
       "    }\n",
       "\n",
       "    .dataframe tbody tr th {\n",
       "        vertical-align: top;\n",
       "    }\n",
       "\n",
       "    .dataframe thead th {\n",
       "        text-align: right;\n",
       "    }\n",
       "</style>\n",
       "<table border=\"1\" class=\"dataframe\">\n",
       "  <thead>\n",
       "    <tr style=\"text-align: right;\">\n",
       "      <th></th>\n",
       "      <th>Jahr</th>\n",
       "      <th>KreisLang</th>\n",
       "      <th>sum_ProjAnzGbd</th>\n",
       "      <th>sum_ProjAnzWhg</th>\n",
       "    </tr>\n",
       "  </thead>\n",
       "  <tbody>\n",
       "    <tr>\n",
       "      <th>0</th>\n",
       "      <td>2009-01-01</td>\n",
       "      <td>Kreis 1</td>\n",
       "      <td>1</td>\n",
       "      <td>3</td>\n",
       "    </tr>\n",
       "    <tr>\n",
       "      <th>1</th>\n",
       "      <td>2009-01-01</td>\n",
       "      <td>Kreis 9</td>\n",
       "      <td>24</td>\n",
       "      <td>243</td>\n",
       "    </tr>\n",
       "    <tr>\n",
       "      <th>2</th>\n",
       "      <td>2009-01-01</td>\n",
       "      <td>Kreis 8</td>\n",
       "      <td>10</td>\n",
       "      <td>111</td>\n",
       "    </tr>\n",
       "  </tbody>\n",
       "</table>\n",
       "</div>"
      ],
      "text/plain": [
       "        Jahr KreisLang  sum_ProjAnzGbd  sum_ProjAnzWhg\n",
       "0 2009-01-01   Kreis 1               1               3\n",
       "1 2009-01-01   Kreis 9              24             243\n",
       "2 2009-01-01   Kreis 8              10             111"
      ]
     },
     "execution_count": 72,
     "metadata": {},
     "output_type": "execute_result"
    }
   ],
   "source": [
    "#myAgg = data2betested.loc[\"2008-11-30\":\"2021-10-31\"]\n",
    "myAgg = data2betested.loc[\"1996\":\"2021\"].query('ProjStatus == \"Fertigerstellt\"')\\\n",
    "    .groupby(['Jahr','KreisLang']) \\\n",
    "    .agg(sum_ProjAnzGbd=('ProjAnzGbd', 'sum'),sum_ProjAnzWhg=('ProjAnzWhg', 'sum')) \\\n",
    "    .sort_values('Jahr', ascending=True) \n",
    "\n",
    "myAgg.reset_index().head(3)"
   ]
  },
  {
   "cell_type": "code",
   "execution_count": 73,
   "metadata": {},
   "outputs": [
    {
     "data": {
      "text/html": [
       "\n",
       "<div id=\"altair-viz-ad68da44503049d08a6b4fd533abb4a1\"></div>\n",
       "<script type=\"text/javascript\">\n",
       "  (function(spec, embedOpt){\n",
       "    let outputDiv = document.currentScript.previousElementSibling;\n",
       "    if (outputDiv.id !== \"altair-viz-ad68da44503049d08a6b4fd533abb4a1\") {\n",
       "      outputDiv = document.getElementById(\"altair-viz-ad68da44503049d08a6b4fd533abb4a1\");\n",
       "    }\n",
       "    const paths = {\n",
       "      \"vega\": \"https://cdn.jsdelivr.net/npm//vega@5?noext\",\n",
       "      \"vega-lib\": \"https://cdn.jsdelivr.net/npm//vega-lib?noext\",\n",
       "      \"vega-lite\": \"https://cdn.jsdelivr.net/npm//vega-lite@4.8.1?noext\",\n",
       "      \"vega-embed\": \"https://cdn.jsdelivr.net/npm//vega-embed@6?noext\",\n",
       "    };\n",
       "\n",
       "    function loadScript(lib) {\n",
       "      return new Promise(function(resolve, reject) {\n",
       "        var s = document.createElement('script');\n",
       "        s.src = paths[lib];\n",
       "        s.async = true;\n",
       "        s.onload = () => resolve(paths[lib]);\n",
       "        s.onerror = () => reject(`Error loading script: ${paths[lib]}`);\n",
       "        document.getElementsByTagName(\"head\")[0].appendChild(s);\n",
       "      });\n",
       "    }\n",
       "\n",
       "    function showError(err) {\n",
       "      outputDiv.innerHTML = `<div class=\"error\" style=\"color:red;\">${err}</div>`;\n",
       "      throw err;\n",
       "    }\n",
       "\n",
       "    function displayChart(vegaEmbed) {\n",
       "      vegaEmbed(outputDiv, spec, embedOpt)\n",
       "        .catch(err => showError(`Javascript Error: ${err.message}<br>This usually means there's a typo in your chart specification. See the javascript console for the full traceback.`));\n",
       "    }\n",
       "\n",
       "    if(typeof define === \"function\" && define.amd) {\n",
       "      requirejs.config({paths});\n",
       "      require([\"vega-embed\"], displayChart, err => showError(`Error loading script: ${err.message}`));\n",
       "    } else if (typeof vegaEmbed === \"function\") {\n",
       "      displayChart(vegaEmbed);\n",
       "    } else {\n",
       "      loadScript(\"vega\")\n",
       "        .then(() => loadScript(\"vega-lite\"))\n",
       "        .then(() => loadScript(\"vega-embed\"))\n",
       "        .catch(showError)\n",
       "        .then(() => displayChart(vegaEmbed));\n",
       "    }\n",
       "  })({\"config\": {\"view\": {\"continuousWidth\": 400, \"continuousHeight\": 300}}, \"layer\": [{\"mark\": \"line\", \"encoding\": {\"color\": {\"type\": \"nominal\", \"field\": \"KreisLang\", \"legend\": {\"orient\": \"right\", \"title\": \"Stadtkreis\"}}, \"size\": {\"condition\": {\"value\": 0.5, \"selection\": {\"not\": \"selector031\"}}, \"value\": 4}, \"tooltip\": [{\"type\": \"temporal\", \"field\": \"Jahr\"}, {\"type\": \"nominal\", \"field\": \"KreisLang\"}, {\"type\": \"quantitative\", \"field\": \"sum_ProjAnzGbd\"}, {\"type\": \"quantitative\", \"field\": \"sum_ProjAnzWhg\"}], \"x\": {\"type\": \"temporal\", \"axis\": {\"title\": \"Jahr\"}, \"field\": \"Jahr\"}, \"y\": {\"type\": \"quantitative\", \"axis\": {\"title\": \"Anz. Projektierte Geb\\u00e4ude\"}, \"field\": \"sum_ProjAnzGbd\"}}, \"selection\": {\"selector032\": {\"type\": \"interval\", \"bind\": \"scales\", \"encodings\": [\"x\", \"y\"]}}, \"title\": \"Title\"}, {\"mark\": \"circle\", \"encoding\": {\"color\": {\"type\": \"nominal\", \"field\": \"KreisLang\", \"legend\": {\"orient\": \"right\", \"title\": \"Stadtkreis\"}}, \"opacity\": {\"value\": 0.75}, \"tooltip\": [{\"type\": \"temporal\", \"field\": \"Jahr\"}, {\"type\": \"nominal\", \"field\": \"KreisLang\"}, {\"type\": \"quantitative\", \"field\": \"sum_ProjAnzGbd\"}, {\"type\": \"quantitative\", \"field\": \"sum_ProjAnzWhg\"}], \"x\": {\"type\": \"temporal\", \"axis\": {\"title\": \"Jahr\"}, \"field\": \"Jahr\"}, \"y\": {\"type\": \"quantitative\", \"axis\": {\"title\": \"Anz. Projektierte Geb\\u00e4ude\"}, \"field\": \"sum_ProjAnzGbd\"}}, \"height\": 350, \"selection\": {\"selector031\": {\"type\": \"single\", \"on\": \"mouseover\", \"fields\": [\"KreisLang\"], \"nearest\": true}}, \"title\": \"Title\", \"width\": 750}], \"data\": {\"name\": \"data-74be306ef52a7d4226237348939fd23c\"}, \"$schema\": \"https://vega.github.io/schema/vega-lite/v4.8.1.json\", \"datasets\": {\"data-74be306ef52a7d4226237348939fd23c\": [{\"Jahr\": \"2009-01-01T00:00:00\", \"KreisLang\": \"Kreis 1\", \"sum_ProjAnzGbd\": 1, \"sum_ProjAnzWhg\": 3}, {\"Jahr\": \"2009-01-01T00:00:00\", \"KreisLang\": \"Kreis 9\", \"sum_ProjAnzGbd\": 24, \"sum_ProjAnzWhg\": 243}, {\"Jahr\": \"2009-01-01T00:00:00\", \"KreisLang\": \"Kreis 8\", \"sum_ProjAnzGbd\": 10, \"sum_ProjAnzWhg\": 111}, {\"Jahr\": \"2009-01-01T00:00:00\", \"KreisLang\": \"Kreis 7\", \"sum_ProjAnzGbd\": 19, \"sum_ProjAnzWhg\": 109}, {\"Jahr\": \"2009-01-01T00:00:00\", \"KreisLang\": \"Kreis 5\", \"sum_ProjAnzGbd\": 7, \"sum_ProjAnzWhg\": 42}, {\"Jahr\": \"2009-01-01T00:00:00\", \"KreisLang\": \"Kreis 4\", \"sum_ProjAnzGbd\": 2, \"sum_ProjAnzWhg\": 24}, {\"Jahr\": \"2009-01-01T00:00:00\", \"KreisLang\": \"Kreis 6\", \"sum_ProjAnzGbd\": 4, \"sum_ProjAnzWhg\": 5}, {\"Jahr\": \"2009-01-01T00:00:00\", \"KreisLang\": \"Kreis 2\", \"sum_ProjAnzGbd\": 14, \"sum_ProjAnzWhg\": 78}, {\"Jahr\": \"2009-01-01T00:00:00\", \"KreisLang\": \"Kreis 12\", \"sum_ProjAnzGbd\": 12, \"sum_ProjAnzWhg\": 161}, {\"Jahr\": \"2009-01-01T00:00:00\", \"KreisLang\": \"Kreis 11\", \"sum_ProjAnzGbd\": 35, \"sum_ProjAnzWhg\": 346}, {\"Jahr\": \"2009-01-01T00:00:00\", \"KreisLang\": \"Kreis 10\", \"sum_ProjAnzGbd\": 22, \"sum_ProjAnzWhg\": 118}, {\"Jahr\": \"2009-01-01T00:00:00\", \"KreisLang\": \"Kreis 3\", \"sum_ProjAnzGbd\": 19, \"sum_ProjAnzWhg\": 141}, {\"Jahr\": \"2010-01-01T00:00:00\", \"KreisLang\": \"Kreis 5\", \"sum_ProjAnzGbd\": 0, \"sum_ProjAnzWhg\": 0}, {\"Jahr\": \"2010-01-01T00:00:00\", \"KreisLang\": \"Kreis 9\", \"sum_ProjAnzGbd\": 46, \"sum_ProjAnzWhg\": 301}, {\"Jahr\": \"2010-01-01T00:00:00\", \"KreisLang\": \"Kreis 8\", \"sum_ProjAnzGbd\": 5, \"sum_ProjAnzWhg\": 23}, {\"Jahr\": \"2010-01-01T00:00:00\", \"KreisLang\": \"Kreis 7\", \"sum_ProjAnzGbd\": 21, \"sum_ProjAnzWhg\": 53}, {\"Jahr\": \"2010-01-01T00:00:00\", \"KreisLang\": \"Kreis 4\", \"sum_ProjAnzGbd\": 3, \"sum_ProjAnzWhg\": 68}, {\"Jahr\": \"2010-01-01T00:00:00\", \"KreisLang\": \"Kreis 6\", \"sum_ProjAnzGbd\": 16, \"sum_ProjAnzWhg\": 74}, {\"Jahr\": \"2010-01-01T00:00:00\", \"KreisLang\": \"Kreis 2\", \"sum_ProjAnzGbd\": 17, \"sum_ProjAnzWhg\": 102}, {\"Jahr\": \"2010-01-01T00:00:00\", \"KreisLang\": \"Kreis 12\", \"sum_ProjAnzGbd\": 0, \"sum_ProjAnzWhg\": 0}, {\"Jahr\": \"2010-01-01T00:00:00\", \"KreisLang\": \"Kreis 11\", \"sum_ProjAnzGbd\": 66, \"sum_ProjAnzWhg\": 393}, {\"Jahr\": \"2010-01-01T00:00:00\", \"KreisLang\": \"Kreis 10\", \"sum_ProjAnzGbd\": 15, \"sum_ProjAnzWhg\": 60}, {\"Jahr\": \"2010-01-01T00:00:00\", \"KreisLang\": \"Kreis 1\", \"sum_ProjAnzGbd\": 1, \"sum_ProjAnzWhg\": 4}, {\"Jahr\": \"2010-01-01T00:00:00\", \"KreisLang\": \"Kreis 3\", \"sum_ProjAnzGbd\": 12, \"sum_ProjAnzWhg\": 124}, {\"Jahr\": \"2011-01-01T00:00:00\", \"KreisLang\": \"Kreis 9\", \"sum_ProjAnzGbd\": 63, \"sum_ProjAnzWhg\": 551}, {\"Jahr\": \"2011-01-01T00:00:00\", \"KreisLang\": \"Kreis 8\", \"sum_ProjAnzGbd\": 9, \"sum_ProjAnzWhg\": 77}, {\"Jahr\": \"2011-01-01T00:00:00\", \"KreisLang\": \"Kreis 7\", \"sum_ProjAnzGbd\": 41, \"sum_ProjAnzWhg\": 146}, {\"Jahr\": \"2011-01-01T00:00:00\", \"KreisLang\": \"Kreis 6\", \"sum_ProjAnzGbd\": 19, \"sum_ProjAnzWhg\": 100}, {\"Jahr\": \"2011-01-01T00:00:00\", \"KreisLang\": \"Kreis 5\", \"sum_ProjAnzGbd\": 2, \"sum_ProjAnzWhg\": 27}, {\"Jahr\": \"2011-01-01T00:00:00\", \"KreisLang\": \"Kreis 4\", \"sum_ProjAnzGbd\": 2, \"sum_ProjAnzWhg\": 8}, {\"Jahr\": \"2011-01-01T00:00:00\", \"KreisLang\": \"Kreis 2\", \"sum_ProjAnzGbd\": 8, \"sum_ProjAnzWhg\": 54}, {\"Jahr\": \"2011-01-01T00:00:00\", \"KreisLang\": \"Kreis 11\", \"sum_ProjAnzGbd\": 94, \"sum_ProjAnzWhg\": 974}, {\"Jahr\": \"2011-01-01T00:00:00\", \"KreisLang\": \"Kreis 10\", \"sum_ProjAnzGbd\": 24, \"sum_ProjAnzWhg\": 92}, {\"Jahr\": \"2011-01-01T00:00:00\", \"KreisLang\": \"Kreis 1\", \"sum_ProjAnzGbd\": 0, \"sum_ProjAnzWhg\": 0}, {\"Jahr\": \"2011-01-01T00:00:00\", \"KreisLang\": \"Kreis 3\", \"sum_ProjAnzGbd\": 13, \"sum_ProjAnzWhg\": 227}, {\"Jahr\": \"2012-01-01T00:00:00\", \"KreisLang\": \"Kreis 5\", \"sum_ProjAnzGbd\": 12, \"sum_ProjAnzWhg\": 303}, {\"Jahr\": \"2012-01-01T00:00:00\", \"KreisLang\": \"Kreis 9\", \"sum_ProjAnzGbd\": 53, \"sum_ProjAnzWhg\": 367}, {\"Jahr\": \"2012-01-01T00:00:00\", \"KreisLang\": \"Kreis 8\", \"sum_ProjAnzGbd\": 11, \"sum_ProjAnzWhg\": 67}, {\"Jahr\": \"2012-01-01T00:00:00\", \"KreisLang\": \"Kreis 7\", \"sum_ProjAnzGbd\": 21, \"sum_ProjAnzWhg\": 57}, {\"Jahr\": \"2012-01-01T00:00:00\", \"KreisLang\": \"Kreis 6\", \"sum_ProjAnzGbd\": 22, \"sum_ProjAnzWhg\": 125}, {\"Jahr\": \"2012-01-01T00:00:00\", \"KreisLang\": \"Kreis 4\", \"sum_ProjAnzGbd\": 7, \"sum_ProjAnzWhg\": 150}, {\"Jahr\": \"2012-01-01T00:00:00\", \"KreisLang\": \"Kreis 11\", \"sum_ProjAnzGbd\": 60, \"sum_ProjAnzWhg\": 692}, {\"Jahr\": \"2012-01-01T00:00:00\", \"KreisLang\": \"Kreis 2\", \"sum_ProjAnzGbd\": 16, \"sum_ProjAnzWhg\": 78}, {\"Jahr\": \"2012-01-01T00:00:00\", \"KreisLang\": \"Kreis 12\", \"sum_ProjAnzGbd\": 12, \"sum_ProjAnzWhg\": 91}, {\"Jahr\": \"2012-01-01T00:00:00\", \"KreisLang\": \"Kreis 3\", \"sum_ProjAnzGbd\": 71, \"sum_ProjAnzWhg\": 288}, {\"Jahr\": \"2012-01-01T00:00:00\", \"KreisLang\": \"Kreis 10\", \"sum_ProjAnzGbd\": 10, \"sum_ProjAnzWhg\": 37}, {\"Jahr\": \"2012-01-01T00:00:00\", \"KreisLang\": \"Kreis 1\", \"sum_ProjAnzGbd\": 0, \"sum_ProjAnzWhg\": 0}, {\"Jahr\": \"2013-01-01T00:00:00\", \"KreisLang\": \"Kreis 8\", \"sum_ProjAnzGbd\": 10, \"sum_ProjAnzWhg\": 64}, {\"Jahr\": \"2013-01-01T00:00:00\", \"KreisLang\": \"Kreis 7\", \"sum_ProjAnzGbd\": 8, \"sum_ProjAnzWhg\": 28}, {\"Jahr\": \"2013-01-01T00:00:00\", \"KreisLang\": \"Kreis 6\", \"sum_ProjAnzGbd\": 11, \"sum_ProjAnzWhg\": 90}, {\"Jahr\": \"2013-01-01T00:00:00\", \"KreisLang\": \"Kreis 5\", \"sum_ProjAnzGbd\": 26, \"sum_ProjAnzWhg\": 518}, {\"Jahr\": \"2013-01-01T00:00:00\", \"KreisLang\": \"Kreis 4\", \"sum_ProjAnzGbd\": 10, \"sum_ProjAnzWhg\": 99}, {\"Jahr\": \"2013-01-01T00:00:00\", \"KreisLang\": \"Kreis 9\", \"sum_ProjAnzGbd\": 27, \"sum_ProjAnzWhg\": 164}, {\"Jahr\": \"2013-01-01T00:00:00\", \"KreisLang\": \"Kreis 2\", \"sum_ProjAnzGbd\": 19, \"sum_ProjAnzWhg\": 178}, {\"Jahr\": \"2013-01-01T00:00:00\", \"KreisLang\": \"Kreis 12\", \"sum_ProjAnzGbd\": 23, \"sum_ProjAnzWhg\": 168}, {\"Jahr\": \"2013-01-01T00:00:00\", \"KreisLang\": \"Kreis 11\", \"sum_ProjAnzGbd\": 63, \"sum_ProjAnzWhg\": 655}, {\"Jahr\": \"2013-01-01T00:00:00\", \"KreisLang\": \"Kreis 10\", \"sum_ProjAnzGbd\": 18, \"sum_ProjAnzWhg\": 72}, {\"Jahr\": \"2013-01-01T00:00:00\", \"KreisLang\": \"Kreis 1\", \"sum_ProjAnzGbd\": 0, \"sum_ProjAnzWhg\": 0}, {\"Jahr\": \"2013-01-01T00:00:00\", \"KreisLang\": \"Kreis 3\", \"sum_ProjAnzGbd\": 53, \"sum_ProjAnzWhg\": 466}, {\"Jahr\": \"2014-01-01T00:00:00\", \"KreisLang\": \"Kreis 9\", \"sum_ProjAnzGbd\": 26, \"sum_ProjAnzWhg\": 111}, {\"Jahr\": \"2014-01-01T00:00:00\", \"KreisLang\": \"Kreis 8\", \"sum_ProjAnzGbd\": 11, \"sum_ProjAnzWhg\": 48}, {\"Jahr\": \"2014-01-01T00:00:00\", \"KreisLang\": \"Kreis 7\", \"sum_ProjAnzGbd\": 38, \"sum_ProjAnzWhg\": 154}, {\"Jahr\": \"2014-01-01T00:00:00\", \"KreisLang\": \"Kreis 6\", \"sum_ProjAnzGbd\": 5, \"sum_ProjAnzWhg\": 10}, {\"Jahr\": \"2014-01-01T00:00:00\", \"KreisLang\": \"Kreis 5\", \"sum_ProjAnzGbd\": 8, \"sum_ProjAnzWhg\": 208}, {\"Jahr\": \"2014-01-01T00:00:00\", \"KreisLang\": \"Kreis 4\", \"sum_ProjAnzGbd\": 6, \"sum_ProjAnzWhg\": 120}, {\"Jahr\": \"2014-01-01T00:00:00\", \"KreisLang\": \"Kreis 3\", \"sum_ProjAnzGbd\": 15, \"sum_ProjAnzWhg\": 82}, {\"Jahr\": \"2014-01-01T00:00:00\", \"KreisLang\": \"Kreis 12\", \"sum_ProjAnzGbd\": 48, \"sum_ProjAnzWhg\": 542}, {\"Jahr\": \"2014-01-01T00:00:00\", \"KreisLang\": \"Kreis 11\", \"sum_ProjAnzGbd\": 38, \"sum_ProjAnzWhg\": 473}, {\"Jahr\": \"2014-01-01T00:00:00\", \"KreisLang\": \"Kreis 10\", \"sum_ProjAnzGbd\": 10, \"sum_ProjAnzWhg\": 46}, {\"Jahr\": \"2014-01-01T00:00:00\", \"KreisLang\": \"Kreis 1\", \"sum_ProjAnzGbd\": 0, \"sum_ProjAnzWhg\": 0}, {\"Jahr\": \"2014-01-01T00:00:00\", \"KreisLang\": \"Kreis 2\", \"sum_ProjAnzGbd\": 22, \"sum_ProjAnzWhg\": 144}, {\"Jahr\": \"2015-01-01T00:00:00\", \"KreisLang\": \"Kreis 6\", \"sum_ProjAnzGbd\": 29, \"sum_ProjAnzWhg\": 261}, {\"Jahr\": \"2015-01-01T00:00:00\", \"KreisLang\": \"Kreis 9\", \"sum_ProjAnzGbd\": 38, \"sum_ProjAnzWhg\": 386}, {\"Jahr\": \"2015-01-01T00:00:00\", \"KreisLang\": \"Kreis 8\", \"sum_ProjAnzGbd\": 6, \"sum_ProjAnzWhg\": 39}, {\"Jahr\": \"2015-01-01T00:00:00\", \"KreisLang\": \"Kreis 7\", \"sum_ProjAnzGbd\": 36, \"sum_ProjAnzWhg\": 124}, {\"Jahr\": \"2015-01-01T00:00:00\", \"KreisLang\": \"Kreis 5\", \"sum_ProjAnzGbd\": 29, \"sum_ProjAnzWhg\": 466}, {\"Jahr\": \"2015-01-01T00:00:00\", \"KreisLang\": \"Kreis 2\", \"sum_ProjAnzGbd\": 42, \"sum_ProjAnzWhg\": 416}, {\"Jahr\": \"2015-01-01T00:00:00\", \"KreisLang\": \"Kreis 3\", \"sum_ProjAnzGbd\": 16, \"sum_ProjAnzWhg\": 79}, {\"Jahr\": \"2015-01-01T00:00:00\", \"KreisLang\": \"Kreis 4\", \"sum_ProjAnzGbd\": 9, \"sum_ProjAnzWhg\": 165}, {\"Jahr\": \"2015-01-01T00:00:00\", \"KreisLang\": \"Kreis 12\", \"sum_ProjAnzGbd\": 52, \"sum_ProjAnzWhg\": 525}, {\"Jahr\": \"2015-01-01T00:00:00\", \"KreisLang\": \"Kreis 11\", \"sum_ProjAnzGbd\": 49, \"sum_ProjAnzWhg\": 348}, {\"Jahr\": \"2015-01-01T00:00:00\", \"KreisLang\": \"Kreis 10\", \"sum_ProjAnzGbd\": 33, \"sum_ProjAnzWhg\": 401}, {\"Jahr\": \"2016-01-01T00:00:00\", \"KreisLang\": \"Kreis 9\", \"sum_ProjAnzGbd\": 73, \"sum_ProjAnzWhg\": 1335}, {\"Jahr\": \"2016-01-01T00:00:00\", \"KreisLang\": \"Kreis 7\", \"sum_ProjAnzGbd\": 14, \"sum_ProjAnzWhg\": 66}, {\"Jahr\": \"2016-01-01T00:00:00\", \"KreisLang\": \"Kreis 6\", \"sum_ProjAnzGbd\": 12, \"sum_ProjAnzWhg\": 104}, {\"Jahr\": \"2016-01-01T00:00:00\", \"KreisLang\": \"Kreis 5\", \"sum_ProjAnzGbd\": 1, \"sum_ProjAnzWhg\": 23}, {\"Jahr\": \"2016-01-01T00:00:00\", \"KreisLang\": \"Kreis 4\", \"sum_ProjAnzGbd\": 8, \"sum_ProjAnzWhg\": 62}, {\"Jahr\": \"2016-01-01T00:00:00\", \"KreisLang\": \"Kreis 8\", \"sum_ProjAnzGbd\": 14, \"sum_ProjAnzWhg\": 67}, {\"Jahr\": \"2016-01-01T00:00:00\", \"KreisLang\": \"Kreis 2\", \"sum_ProjAnzGbd\": 12, \"sum_ProjAnzWhg\": 107}, {\"Jahr\": \"2016-01-01T00:00:00\", \"KreisLang\": \"Kreis 12\", \"sum_ProjAnzGbd\": 41, \"sum_ProjAnzWhg\": 288}, {\"Jahr\": \"2016-01-01T00:00:00\", \"KreisLang\": \"Kreis 11\", \"sum_ProjAnzGbd\": 35, \"sum_ProjAnzWhg\": 342}, {\"Jahr\": \"2016-01-01T00:00:00\", \"KreisLang\": \"Kreis 10\", \"sum_ProjAnzGbd\": 35, \"sum_ProjAnzWhg\": 432}, {\"Jahr\": \"2016-01-01T00:00:00\", \"KreisLang\": \"Kreis 1\", \"sum_ProjAnzGbd\": 0, \"sum_ProjAnzWhg\": 0}, {\"Jahr\": \"2016-01-01T00:00:00\", \"KreisLang\": \"Kreis 3\", \"sum_ProjAnzGbd\": 12, \"sum_ProjAnzWhg\": 169}, {\"Jahr\": \"2017-01-01T00:00:00\", \"KreisLang\": \"Kreis 9\", \"sum_ProjAnzGbd\": 57, \"sum_ProjAnzWhg\": 560}, {\"Jahr\": \"2017-01-01T00:00:00\", \"KreisLang\": \"Kreis 8\", \"sum_ProjAnzGbd\": 20, \"sum_ProjAnzWhg\": 164}, {\"Jahr\": \"2017-01-01T00:00:00\", \"KreisLang\": \"Kreis 7\", \"sum_ProjAnzGbd\": 25, \"sum_ProjAnzWhg\": 94}, {\"Jahr\": \"2017-01-01T00:00:00\", \"KreisLang\": \"Kreis 6\", \"sum_ProjAnzGbd\": 13, \"sum_ProjAnzWhg\": 84}, {\"Jahr\": \"2017-01-01T00:00:00\", \"KreisLang\": \"Kreis 5\", \"sum_ProjAnzGbd\": 7, \"sum_ProjAnzWhg\": 108}, {\"Jahr\": \"2017-01-01T00:00:00\", \"KreisLang\": \"Kreis 3\", \"sum_ProjAnzGbd\": 17, \"sum_ProjAnzWhg\": 209}, {\"Jahr\": \"2017-01-01T00:00:00\", \"KreisLang\": \"Kreis 2\", \"sum_ProjAnzGbd\": 32, \"sum_ProjAnzWhg\": 343}, {\"Jahr\": \"2017-01-01T00:00:00\", \"KreisLang\": \"Kreis 12\", \"sum_ProjAnzGbd\": 67, \"sum_ProjAnzWhg\": 375}, {\"Jahr\": \"2017-01-01T00:00:00\", \"KreisLang\": \"Kreis 11\", \"sum_ProjAnzGbd\": 39, \"sum_ProjAnzWhg\": 306}, {\"Jahr\": \"2017-01-01T00:00:00\", \"KreisLang\": \"Kreis 10\", \"sum_ProjAnzGbd\": 26, \"sum_ProjAnzWhg\": 245}, {\"Jahr\": \"2017-01-01T00:00:00\", \"KreisLang\": \"Kreis 4\", \"sum_ProjAnzGbd\": 18, \"sum_ProjAnzWhg\": 174}, {\"Jahr\": \"2018-01-01T00:00:00\", \"KreisLang\": \"Kreis 6\", \"sum_ProjAnzGbd\": 23, \"sum_ProjAnzWhg\": 334}, {\"Jahr\": \"2018-01-01T00:00:00\", \"KreisLang\": \"Kreis 8\", \"sum_ProjAnzGbd\": 9, \"sum_ProjAnzWhg\": 38}, {\"Jahr\": \"2018-01-01T00:00:00\", \"KreisLang\": \"Kreis 9\", \"sum_ProjAnzGbd\": 57, \"sum_ProjAnzWhg\": 855}, {\"Jahr\": \"2018-01-01T00:00:00\", \"KreisLang\": \"Kreis 5\", \"sum_ProjAnzGbd\": 2, \"sum_ProjAnzWhg\": 12}, {\"Jahr\": \"2018-01-01T00:00:00\", \"KreisLang\": \"Kreis 7\", \"sum_ProjAnzGbd\": 33, \"sum_ProjAnzWhg\": 246}, {\"Jahr\": \"2018-01-01T00:00:00\", \"KreisLang\": \"Kreis 2\", \"sum_ProjAnzGbd\": 43, \"sum_ProjAnzWhg\": 582}, {\"Jahr\": \"2018-01-01T00:00:00\", \"KreisLang\": \"Kreis 12\", \"sum_ProjAnzGbd\": 31, \"sum_ProjAnzWhg\": 273}, {\"Jahr\": \"2018-01-01T00:00:00\", \"KreisLang\": \"Kreis 11\", \"sum_ProjAnzGbd\": 80, \"sum_ProjAnzWhg\": 543}, {\"Jahr\": \"2018-01-01T00:00:00\", \"KreisLang\": \"Kreis 10\", \"sum_ProjAnzGbd\": 17, \"sum_ProjAnzWhg\": 80}, {\"Jahr\": \"2018-01-01T00:00:00\", \"KreisLang\": \"Kreis 3\", \"sum_ProjAnzGbd\": 21, \"sum_ProjAnzWhg\": 397}, {\"Jahr\": \"2019-01-01T00:00:00\", \"KreisLang\": \"Kreis 9\", \"sum_ProjAnzGbd\": 43, \"sum_ProjAnzWhg\": 395}, {\"Jahr\": \"2019-01-01T00:00:00\", \"KreisLang\": \"Kreis 8\", \"sum_ProjAnzGbd\": 14, \"sum_ProjAnzWhg\": 91}, {\"Jahr\": \"2019-01-01T00:00:00\", \"KreisLang\": \"Kreis 7\", \"sum_ProjAnzGbd\": 29, \"sum_ProjAnzWhg\": 88}, {\"Jahr\": \"2019-01-01T00:00:00\", \"KreisLang\": \"Kreis 6\", \"sum_ProjAnzGbd\": 11, \"sum_ProjAnzWhg\": 73}, {\"Jahr\": \"2019-01-01T00:00:00\", \"KreisLang\": \"Kreis 5\", \"sum_ProjAnzGbd\": 3, \"sum_ProjAnzWhg\": 45}, {\"Jahr\": \"2019-01-01T00:00:00\", \"KreisLang\": \"Kreis 4\", \"sum_ProjAnzGbd\": 12, \"sum_ProjAnzWhg\": 309}, {\"Jahr\": \"2019-01-01T00:00:00\", \"KreisLang\": \"Kreis 2\", \"sum_ProjAnzGbd\": 10, \"sum_ProjAnzWhg\": 69}, {\"Jahr\": \"2019-01-01T00:00:00\", \"KreisLang\": \"Kreis 12\", \"sum_ProjAnzGbd\": 41, \"sum_ProjAnzWhg\": 386}, {\"Jahr\": \"2019-01-01T00:00:00\", \"KreisLang\": \"Kreis 11\", \"sum_ProjAnzGbd\": 23, \"sum_ProjAnzWhg\": 279}, {\"Jahr\": \"2019-01-01T00:00:00\", \"KreisLang\": \"Kreis 10\", \"sum_ProjAnzGbd\": 8, \"sum_ProjAnzWhg\": 18}, {\"Jahr\": \"2019-01-01T00:00:00\", \"KreisLang\": \"Kreis 3\", \"sum_ProjAnzGbd\": 20, \"sum_ProjAnzWhg\": 226}, {\"Jahr\": \"2020-01-01T00:00:00\", \"KreisLang\": \"Kreis 9\", \"sum_ProjAnzGbd\": 37, \"sum_ProjAnzWhg\": 266}, {\"Jahr\": \"2020-01-01T00:00:00\", \"KreisLang\": \"Kreis 8\", \"sum_ProjAnzGbd\": 10, \"sum_ProjAnzWhg\": 58}, {\"Jahr\": \"2020-01-01T00:00:00\", \"KreisLang\": \"Kreis 7\", \"sum_ProjAnzGbd\": 13, \"sum_ProjAnzWhg\": 103}, {\"Jahr\": \"2020-01-01T00:00:00\", \"KreisLang\": \"Kreis 6\", \"sum_ProjAnzGbd\": 25, \"sum_ProjAnzWhg\": 307}, {\"Jahr\": \"2020-01-01T00:00:00\", \"KreisLang\": \"Kreis 5\", \"sum_ProjAnzGbd\": 9, \"sum_ProjAnzWhg\": 27}, {\"Jahr\": \"2020-01-01T00:00:00\", \"KreisLang\": \"Kreis 2\", \"sum_ProjAnzGbd\": 18, \"sum_ProjAnzWhg\": 226}, {\"Jahr\": \"2020-01-01T00:00:00\", \"KreisLang\": \"Kreis 3\", \"sum_ProjAnzGbd\": 8, \"sum_ProjAnzWhg\": 91}, {\"Jahr\": \"2020-01-01T00:00:00\", \"KreisLang\": \"Kreis 12\", \"sum_ProjAnzGbd\": 6, \"sum_ProjAnzWhg\": 83}, {\"Jahr\": \"2020-01-01T00:00:00\", \"KreisLang\": \"Kreis 11\", \"sum_ProjAnzGbd\": 32, \"sum_ProjAnzWhg\": 536}, {\"Jahr\": \"2020-01-01T00:00:00\", \"KreisLang\": \"Kreis 10\", \"sum_ProjAnzGbd\": 21, \"sum_ProjAnzWhg\": 65}, {\"Jahr\": \"2020-01-01T00:00:00\", \"KreisLang\": \"Kreis 4\", \"sum_ProjAnzGbd\": 2, \"sum_ProjAnzWhg\": 8}, {\"Jahr\": \"2021-01-01T00:00:00\", \"KreisLang\": \"Kreis 7\", \"sum_ProjAnzGbd\": 20, \"sum_ProjAnzWhg\": 69}, {\"Jahr\": \"2021-01-01T00:00:00\", \"KreisLang\": \"Kreis 6\", \"sum_ProjAnzGbd\": 30, \"sum_ProjAnzWhg\": 216}, {\"Jahr\": \"2021-01-01T00:00:00\", \"KreisLang\": \"Kreis 5\", \"sum_ProjAnzGbd\": 1, \"sum_ProjAnzWhg\": 55}, {\"Jahr\": \"2021-01-01T00:00:00\", \"KreisLang\": \"Kreis 4\", \"sum_ProjAnzGbd\": 16, \"sum_ProjAnzWhg\": 171}, {\"Jahr\": \"2021-01-01T00:00:00\", \"KreisLang\": \"Kreis 3\", \"sum_ProjAnzGbd\": 8, \"sum_ProjAnzWhg\": 22}, {\"Jahr\": \"2021-01-01T00:00:00\", \"KreisLang\": \"Kreis 12\", \"sum_ProjAnzGbd\": 4, \"sum_ProjAnzWhg\": 14}, {\"Jahr\": \"2021-01-01T00:00:00\", \"KreisLang\": \"Kreis 11\", \"sum_ProjAnzGbd\": 34, \"sum_ProjAnzWhg\": 330}, {\"Jahr\": \"2021-01-01T00:00:00\", \"KreisLang\": \"Kreis 10\", \"sum_ProjAnzGbd\": 14, \"sum_ProjAnzWhg\": 86}, {\"Jahr\": \"2021-01-01T00:00:00\", \"KreisLang\": \"Kreis 1\", \"sum_ProjAnzGbd\": 0, \"sum_ProjAnzWhg\": 0}, {\"Jahr\": \"2021-01-01T00:00:00\", \"KreisLang\": \"Kreis 8\", \"sum_ProjAnzGbd\": 20, \"sum_ProjAnzWhg\": 121}, {\"Jahr\": \"2021-01-01T00:00:00\", \"KreisLang\": \"Kreis 2\", \"sum_ProjAnzGbd\": 40, \"sum_ProjAnzWhg\": 372}, {\"Jahr\": \"2021-01-01T00:00:00\", \"KreisLang\": \"Kreis 9\", \"sum_ProjAnzGbd\": 39, \"sum_ProjAnzWhg\": 473}]}}, {\"mode\": \"vega-lite\"});\n",
       "</script>"
      ],
      "text/plain": [
       "alt.LayerChart(...)"
      ]
     },
     "execution_count": 73,
     "metadata": {},
     "output_type": "execute_result"
    }
   ],
   "source": [
    "highlight = alt.selection(type='single', on='mouseover',\n",
    "                          fields=['KreisLang'], nearest=True)\n",
    "#x='date:StichtagDatJahr',\n",
    "base = alt.Chart(myAgg.reset_index(), title=\"Title\").encode(\n",
    "    x=alt.X('Jahr', axis=alt.Axis(title='Jahr'))# , axis=alt.Axis(format='%', title='percentage')\n",
    "    , y=alt.X('sum_ProjAnzGbd', axis=alt.Axis(title='Anz. Projektierte Gebäude'))\n",
    "    , color=alt.Color('KreisLang', legend=alt.Legend(title=\"Stadtkreis\", orient=\"right\"))  \n",
    "    ,tooltip=['Jahr', 'KreisLang','sum_ProjAnzGbd', 'sum_ProjAnzWhg']    \n",
    ")\n",
    "points = base.mark_circle().encode(\n",
    "    opacity=alt.value(0.75)\n",
    ").add_selection(\n",
    "    highlight\n",
    ").properties(\n",
    "    width=750 , height=350\n",
    ")\n",
    "lines = base.mark_line().encode(\n",
    "    size=alt.condition(~highlight, alt.value(0.5), alt.value(4))\n",
    ").interactive()\n",
    "\n",
    "lines + points"
   ]
  },
  {
   "cell_type": "markdown",
   "metadata": {
    "tags": []
   },
   "source": [
    "#### Barcharts mit Seaborn"
   ]
  },
  {
   "cell_type": "code",
   "execution_count": 78,
   "metadata": {},
   "outputs": [
    {
     "data": {
      "text/html": [
       "<div>\n",
       "<style scoped>\n",
       "    .dataframe tbody tr th:only-of-type {\n",
       "        vertical-align: middle;\n",
       "    }\n",
       "\n",
       "    .dataframe tbody tr th {\n",
       "        vertical-align: top;\n",
       "    }\n",
       "\n",
       "    .dataframe thead th {\n",
       "        text-align: right;\n",
       "    }\n",
       "</style>\n",
       "<table border=\"1\" class=\"dataframe\">\n",
       "  <thead>\n",
       "    <tr style=\"text-align: right;\">\n",
       "      <th></th>\n",
       "      <th>Jahr</th>\n",
       "      <th>KreisLang</th>\n",
       "      <th>ProjStatus</th>\n",
       "      <th>sum_ProjAnzGbd</th>\n",
       "      <th>sum_ProjAnzWhg</th>\n",
       "    </tr>\n",
       "  </thead>\n",
       "  <tbody>\n",
       "    <tr>\n",
       "      <th>0</th>\n",
       "      <td>2021-01-01</td>\n",
       "      <td>Kreis 1</td>\n",
       "      <td>Fertigerstellt</td>\n",
       "      <td>0</td>\n",
       "      <td>0</td>\n",
       "    </tr>\n",
       "    <tr>\n",
       "      <th>1</th>\n",
       "      <td>2021-01-01</td>\n",
       "      <td>Kreis 9</td>\n",
       "      <td>Bewilligt</td>\n",
       "      <td>74</td>\n",
       "      <td>602</td>\n",
       "    </tr>\n",
       "    <tr>\n",
       "      <th>2</th>\n",
       "      <td>2021-01-01</td>\n",
       "      <td>Kreis 8</td>\n",
       "      <td>Im Bau</td>\n",
       "      <td>37</td>\n",
       "      <td>98</td>\n",
       "    </tr>\n",
       "  </tbody>\n",
       "</table>\n",
       "</div>"
      ],
      "text/plain": [
       "        Jahr KreisLang      ProjStatus  sum_ProjAnzGbd  sum_ProjAnzWhg\n",
       "0 2021-01-01   Kreis 1  Fertigerstellt               0               0\n",
       "1 2021-01-01   Kreis 9       Bewilligt              74             602\n",
       "2 2021-01-01   Kreis 8          Im Bau              37              98"
      ]
     },
     "execution_count": 78,
     "metadata": {},
     "output_type": "execute_result"
    }
   ],
   "source": [
    "#myAgg = data2betested.loc[\"2008-11-30\":\"2021-10-31\"]\n",
    "myAggBar = data2betested.loc[\"2021\"]\\\n",
    "    .groupby(['Jahr', 'KreisLang', 'ProjStatus']) \\\n",
    "    .agg(sum_ProjAnzGbd=('ProjAnzGbd', 'sum'),sum_ProjAnzWhg=('ProjAnzWhg', 'sum')) \\\n",
    "    .sort_values('Jahr', ascending=True) \n",
    "\n",
    "myAggBar.reset_index().head(3)"
   ]
  },
  {
   "cell_type": "code",
   "execution_count": 314,
   "metadata": {},
   "outputs": [],
   "source": [
    "#help(sns.catplot)     "
   ]
  },
  {
   "cell_type": "code",
   "execution_count": 315,
   "metadata": {},
   "outputs": [],
   "source": [
    "#Stile for the following sns graphs\n",
    "sns.set_theme(style=\"whitegrid\")"
   ]
  },
  {
   "cell_type": "code",
   "execution_count": 81,
   "metadata": {},
   "outputs": [
    {
     "data": {
      "text/plain": [
       "<seaborn.axisgrid.FacetGrid at 0x14fd8152bb0>"
      ]
     },
     "execution_count": 81,
     "metadata": {},
     "output_type": "execute_result"
    },
    {
     "data": {
      "image/png": "[encoded data removed]",
      "text/plain": [
       "<Figure size 819.75x360 with 1 Axes>"
      ]
     },
     "metadata": {
      "needs_background": "light"
     },
     "output_type": "display_data"
    }
   ],
   "source": [
    "#sns.color_palette(\"flare\", as_cmap=True)\n",
    "myHist = sns.catplot(x=\"KreisLang\"\n",
    "            , y=\"sum_ProjAnzWhg\"\n",
    "            , hue=\"ProjStatus\"\n",
    "            , kind=\"bar\" #boxen, violin, --> wenn die aggregation nicht genau den werten in der grafik entspricht\n",
    "            , palette=\"pastel\" #, color=\"green\"\n",
    "            , height=5\n",
    "            , aspect=2\n",
    "            , order=None, legend_out=True\n",
    "            ,data=myAggBar.reset_index()\n",
    "           )\n",
    "myHist.set_xlabels('Stadtkreis', fontsize=11) # not set_label\n",
    "myHist.set_ylabels('Anz. Wohnungen', fontsize=11)\n"
   ]
  },
  {
   "cell_type": "code",
   "execution_count": 96,
   "metadata": {},
   "outputs": [],
   "source": [
    "#data2betested.dtypes"
   ]
  },
  {
   "cell_type": "code",
   "execution_count": 93,
   "metadata": {},
   "outputs": [],
   "source": [
    "myAggBar = data2betested.loc[\"2000\":\"2021\"]\\\n",
    "    .groupby(['Jahr', 'QuarLang', 'ProjStatus']) \\\n",
    "    .agg(sum_ProjAnzGbd=('ProjAnzGbd', 'sum'),sum_ProjAnzWhg=('ProjAnzWhg', 'sum')) \\\n",
    "    .sort_values('Jahr', ascending=True) "
   ]
  },
  {
   "cell_type": "code",
   "execution_count": 94,
   "metadata": {},
   "outputs": [],
   "source": [
    "#myAggBar.reset_index()"
   ]
  },
  {
   "cell_type": "code",
   "execution_count": 95,
   "metadata": {},
   "outputs": [
    {
     "data": {
      "text/plain": [
       "<seaborn.axisgrid.FacetGrid at 0x14fde5b4e50>"
      ]
     },
     "execution_count": 95,
     "metadata": {},
     "output_type": "execute_result"
    },
    {
     "data": {
      "image/png": "[encoded data removed]",
      "text/plain": [
       "<Figure size 1395.75x1296 with 34 Axes>"
      ]
     },
     "metadata": {
      "needs_background": "light"
     },
     "output_type": "display_data"
    }
   ],
   "source": [
    "g = sns.FacetGrid(myAggBar.reset_index(), col=\"QuarLang\", hue=\"ProjStatus\", col_wrap=6, height=3,)\n",
    "#g.map(sns.scatterplot, \"Jahr\", \"sum_ProjAnzWhg\", alpha=.8)\n",
    "g.map(sns.lineplot, \"Jahr\",\"sum_ProjAnzWhg\",alpha=.8)\n",
    "\n",
    "g.add_legend()"
   ]
  },
  {
   "cell_type": "code",
   "execution_count": null,
   "metadata": {},
   "outputs": [],
   "source": []
  },
  {
   "cell_type": "markdown",
   "metadata": {},
   "source": [
    "### Daten in interaktiver Treemap zeigen\n",
    "Dazu gibt es eine sehr nützliche Webseite https://plotly.com/python/treemaps/\n",
    "Zu Farbskalen, siehe: https://plotly.com/python/builtin-colorscales/"
   ]
  },
  {
   "cell_type": "markdown",
   "metadata": {},
   "source": [
    "#### Anzahl Wohnungen in BAUPROJEKTEN nach Projektstatus, Kreis und Quartier 2021"
   ]
  },
  {
   "cell_type": "code",
   "execution_count": 107,
   "metadata": {},
   "outputs": [
    {
     "data": {
      "text/plain": [
       "QuarSort           int64\n",
       "QuarLang          object\n",
       "KreisSort          int64\n",
       "KreisLang         object\n",
       "ProjStatus        object\n",
       "ProjAnzGbd         int64\n",
       "ProjKosten         int64\n",
       "ProjRauminhalt     int64\n",
       "ProjAnzWhg         int64\n",
       "Whg_1_3_Zi         int64\n",
       "Whg_4plus_Zi       int64\n",
       "dtype: object"
      ]
     },
     "execution_count": 107,
     "metadata": {},
     "output_type": "execute_result"
    }
   ],
   "source": [
    "data2betested.dtypes"
   ]
  },
  {
   "cell_type": "code",
   "execution_count": 108,
   "metadata": {
    "jupyter": {
     "source_hidden": true
    }
   },
   "outputs": [
    {
     "data": {
      "text/html": [
       "<div>\n",
       "<style scoped>\n",
       "    .dataframe tbody tr th:only-of-type {\n",
       "        vertical-align: middle;\n",
       "    }\n",
       "\n",
       "    .dataframe tbody tr th {\n",
       "        vertical-align: top;\n",
       "    }\n",
       "\n",
       "    .dataframe thead th {\n",
       "        text-align: right;\n",
       "    }\n",
       "</style>\n",
       "<table border=\"1\" class=\"dataframe\">\n",
       "  <thead>\n",
       "    <tr style=\"text-align: right;\">\n",
       "      <th></th>\n",
       "      <th>Jahr</th>\n",
       "      <th>QuarLang</th>\n",
       "      <th>KreisLang</th>\n",
       "      <th>ProjStatus</th>\n",
       "      <th>sum_ProjAnzGbd</th>\n",
       "      <th>sum_ProjAnzWhg</th>\n",
       "    </tr>\n",
       "  </thead>\n",
       "  <tbody>\n",
       "    <tr>\n",
       "      <th>0</th>\n",
       "      <td>2021-01-01</td>\n",
       "      <td>Seebach</td>\n",
       "      <td>Kreis 11</td>\n",
       "      <td>Im Bau</td>\n",
       "      <td>184</td>\n",
       "      <td>1659</td>\n",
       "    </tr>\n",
       "    <tr>\n",
       "      <th>1</th>\n",
       "      <td>2021-01-01</td>\n",
       "      <td>Wollishofen</td>\n",
       "      <td>Kreis 2</td>\n",
       "      <td>Im Bau</td>\n",
       "      <td>63</td>\n",
       "      <td>796</td>\n",
       "    </tr>\n",
       "    <tr>\n",
       "      <th>2</th>\n",
       "      <td>2021-01-01</td>\n",
       "      <td>Altstetten</td>\n",
       "      <td>Kreis 9</td>\n",
       "      <td>Im Bau</td>\n",
       "      <td>113</td>\n",
       "      <td>782</td>\n",
       "    </tr>\n",
       "  </tbody>\n",
       "</table>\n",
       "</div>"
      ],
      "text/plain": [
       "        Jahr     QuarLang KreisLang ProjStatus  sum_ProjAnzGbd  sum_ProjAnzWhg\n",
       "0 2021-01-01      Seebach  Kreis 11     Im Bau             184            1659\n",
       "1 2021-01-01  Wollishofen   Kreis 2     Im Bau              63             796\n",
       "2 2021-01-01   Altstetten   Kreis 9     Im Bau             113             782"
      ]
     },
     "execution_count": 108,
     "metadata": {},
     "output_type": "execute_result"
    }
   ],
   "source": [
    "myTreemapAgg = data2betested.loc[\"2021\"]  \\\n",
    "    .groupby(['Jahr', 'QuarLang', 'KreisLang', 'ProjStatus']) \\\n",
    "    .agg(sum_ProjAnzGbd=('ProjAnzGbd', 'sum'),sum_ProjAnzWhg=('ProjAnzWhg', 'sum'))\\\n",
    "    .sort_values('sum_ProjAnzWhg', ascending=False) \n",
    "\n",
    "myTreemapAgg.reset_index().head(3)"
   ]
  },
  {
   "cell_type": "code",
   "execution_count": 112,
   "metadata": {},
   "outputs": [
    {
     "data": {
      "application/vnd.plotly.v1+json": {
       "config": {
        "plotlyServerURL": "https://plot.ly"
       },
       "data": [
        {
         "branchvalues": "total",
         "customdata": [
          [
           17
          ],
          [
           58
          ],
          [
           567
          ],
          [
           173
          ],
          [
           89
          ],
          [
           652
          ],
          [
           395
          ],
          [
           5
          ],
          [
           73
          ],
          [
           429
          ],
          [
           384
          ],
          [
           782
          ],
          [
           92
          ],
          [
           18
          ],
          [
           15
          ],
          [
           189
          ],
          [
           21
          ],
          [
           32
          ],
          [
           57
          ],
          [
           3
          ],
          [
           48
          ],
          [
           55
          ],
          [
           64
          ],
          [
           76
          ],
          [
           325
          ],
          [
           33
          ],
          [
           2
          ],
          [
           111
          ],
          [
           29
          ],
          [
           192
          ],
          [
           13
          ],
          [
           10
          ],
          [
           66
          ],
          [
           31
          ],
          [
           63
          ],
          [
           145
          ],
          [
           15
          ],
          [
           105
          ],
          [
           9
          ],
          [
           140
          ],
          [
           48
          ],
          [
           51
          ],
          [
           17
          ],
          [
           37
          ],
          [
           37
          ],
          [
           110
          ],
          [
           58
          ],
          [
           152
          ],
          [
           3
          ],
          [
           14
          ],
          [
           371
          ],
          [
           50
          ],
          [
           214
          ],
          [
           1659
          ],
          [
           121
          ],
          [
           15
          ],
          [
           61
          ],
          [
           17
          ],
          [
           107
          ],
          [
           160
          ],
          [
           179
          ],
          [
           168
          ],
          [
           11
          ],
          [
           32
          ],
          [
           74
          ],
          [
           80
          ],
          [
           12
          ],
          [
           52
          ],
          [
           23
          ],
          [
           67
          ],
          [
           51
          ],
          [
           25
          ],
          [
           260
          ],
          [
           156
          ],
          [
           214
          ],
          [
           796
          ],
          [
           44.1566265060241
          ],
          [
           52.30232558139535
          ],
          [
           120.34905660377359
          ],
          [
           84.11864406779661
          ],
          [
           159.16363636363636
          ],
          [
           1302.3019343986543
          ],
          [
           26.5625
          ],
          [
           14
          ],
          [
           309.955595026643
          ],
          [
           127.94163424124514
          ],
          [
           176.66666666666666
          ],
          [
           740.5646100116414
          ],
          [
           348.05010893246185
          ],
          [
           14.272727272727273
          ],
          [
           83.69298245614036
          ],
          [
           74
          ],
          [
           72.52046783625731
          ],
          [
           264.23981900452486
          ],
          [
           55
          ],
          [
           157.37944664031622
          ],
          [
           146.26553672316385
          ],
          [
           154.67592592592592
          ],
          [
           144.3560975609756
          ],
          [
           36.440677966101696
          ],
          [
           25.405797101449274
          ],
          [
           177.17813765182186
          ],
          [
           11
          ],
          [
           121
          ],
          [
           39.285714285714285
          ],
          [
           355.43189368770766
          ],
          [
           328.492600422833
          ],
          [
           722.8926080892608
          ],
          [
           232.05829145728643
          ],
          [
           178.25764644893727
          ],
          [
           734.9048283561261
          ],
          [
           547.7657194406856
          ]
         ],
         "domain": {
          "x": [
           0,
           1
          ],
          "y": [
           0,
           1
          ]
         },
         "hovertemplate": "labels=%{label}<br>sum_ProjAnzWhg_sum=%{value}<br>parent=%{parent}<br>id=%{id}<br>sum_ProjAnzWhg=%{color}<extra></extra>",
         "ids": [
          "Anzahl Wohnungen nach Projektstatus, Kreis und Quartier/Bewilligt/Kreis 11/Affoltern",
          "Anzahl Wohnungen nach Projektstatus, Kreis und Quartier/Fertigerstellt/Kreis 11/Affoltern",
          "Anzahl Wohnungen nach Projektstatus, Kreis und Quartier/Im Bau/Kreis 11/Affoltern",
          "Anzahl Wohnungen nach Projektstatus, Kreis und Quartier/Bewilligt/Kreis 9/Albisrieden",
          "Anzahl Wohnungen nach Projektstatus, Kreis und Quartier/Fertigerstellt/Kreis 9/Albisrieden",
          "Anzahl Wohnungen nach Projektstatus, Kreis und Quartier/Im Bau/Kreis 9/Albisrieden",
          "Anzahl Wohnungen nach Projektstatus, Kreis und Quartier/Bewilligt/Kreis 3/Alt-Wiedikon",
          "Anzahl Wohnungen nach Projektstatus, Kreis und Quartier/Fertigerstellt/Kreis 3/Alt-Wiedikon",
          "Anzahl Wohnungen nach Projektstatus, Kreis und Quartier/Im Bau/Kreis 3/Alt-Wiedikon",
          "Anzahl Wohnungen nach Projektstatus, Kreis und Quartier/Bewilligt/Kreis 9/Altstetten",
          "Anzahl Wohnungen nach Projektstatus, Kreis und Quartier/Fertigerstellt/Kreis 9/Altstetten",
          "Anzahl Wohnungen nach Projektstatus, Kreis und Quartier/Im Bau/Kreis 9/Altstetten",
          "Anzahl Wohnungen nach Projektstatus, Kreis und Quartier/Bewilligt/Kreis 2/Enge",
          "Anzahl Wohnungen nach Projektstatus, Kreis und Quartier/Fertigerstellt/Kreis 2/Enge",
          "Anzahl Wohnungen nach Projektstatus, Kreis und Quartier/Im Bau/Kreis 2/Enge",
          "Anzahl Wohnungen nach Projektstatus, Kreis und Quartier/Im Bau/Kreis 5/Escher Wyss",
          "Anzahl Wohnungen nach Projektstatus, Kreis und Quartier/Bewilligt/Kreis 7/Fluntern",
          "Anzahl Wohnungen nach Projektstatus, Kreis und Quartier/Fertigerstellt/Kreis 7/Fluntern",
          "Anzahl Wohnungen nach Projektstatus, Kreis und Quartier/Im Bau/Kreis 7/Fluntern",
          "Anzahl Wohnungen nach Projektstatus, Kreis und Quartier/Bewilligt/Kreis 3/Friesenberg",
          "Anzahl Wohnungen nach Projektstatus, Kreis und Quartier/Im Bau/Kreis 3/Friesenberg",
          "Anzahl Wohnungen nach Projektstatus, Kreis und Quartier/Fertigerstellt/Kreis 5/Gewerbeschule",
          "Anzahl Wohnungen nach Projektstatus, Kreis und Quartier/Im Bau/Kreis 5/Gewerbeschule",
          "Anzahl Wohnungen nach Projektstatus, Kreis und Quartier/Fertigerstellt/Kreis 4/Hard",
          "Anzahl Wohnungen nach Projektstatus, Kreis und Quartier/Im Bau/Kreis 4/Hard",
          "Anzahl Wohnungen nach Projektstatus, Kreis und Quartier/Bewilligt/Kreis 7/Hirslanden",
          "Anzahl Wohnungen nach Projektstatus, Kreis und Quartier/Fertigerstellt/Kreis 7/Hirslanden",
          "Anzahl Wohnungen nach Projektstatus, Kreis und Quartier/Im Bau/Kreis 7/Hirslanden",
          "Anzahl Wohnungen nach Projektstatus, Kreis und Quartier/Bewilligt/Kreis 12/Hirzenbach",
          "Anzahl Wohnungen nach Projektstatus, Kreis und Quartier/Im Bau/Kreis 12/Hirzenbach",
          "Anzahl Wohnungen nach Projektstatus, Kreis und Quartier/Bewilligt/Kreis 7/Hottingen",
          "Anzahl Wohnungen nach Projektstatus, Kreis und Quartier/Fertigerstellt/Kreis 7/Hottingen",
          "Anzahl Wohnungen nach Projektstatus, Kreis und Quartier/Im Bau/Kreis 7/Hottingen",
          "Anzahl Wohnungen nach Projektstatus, Kreis und Quartier/Bewilligt/Kreis 10/Höngg",
          "Anzahl Wohnungen nach Projektstatus, Kreis und Quartier/Fertigerstellt/Kreis 10/Höngg",
          "Anzahl Wohnungen nach Projektstatus, Kreis und Quartier/Im Bau/Kreis 10/Höngg",
          "Anzahl Wohnungen nach Projektstatus, Kreis und Quartier/Fertigerstellt/Kreis 4/Langstrasse",
          "Anzahl Wohnungen nach Projektstatus, Kreis und Quartier/Im Bau/Kreis 4/Langstrasse",
          "Anzahl Wohnungen nach Projektstatus, Kreis und Quartier/Bewilligt/Kreis 2/Leimbach",
          "Anzahl Wohnungen nach Projektstatus, Kreis und Quartier/Fertigerstellt/Kreis 2/Leimbach",
          "Anzahl Wohnungen nach Projektstatus, Kreis und Quartier/Im Bau/Kreis 2/Leimbach",
          "Anzahl Wohnungen nach Projektstatus, Kreis und Quartier/Im Bau/Kreis 8/Mühlebach",
          "Anzahl Wohnungen nach Projektstatus, Kreis und Quartier/Bewilligt/Kreis 6/Oberstrass",
          "Anzahl Wohnungen nach Projektstatus, Kreis und Quartier/Fertigerstellt/Kreis 6/Oberstrass",
          "Anzahl Wohnungen nach Projektstatus, Kreis und Quartier/Im Bau/Kreis 6/Oberstrass",
          "Anzahl Wohnungen nach Projektstatus, Kreis und Quartier/Bewilligt/Kreis 11/Oerlikon",
          "Anzahl Wohnungen nach Projektstatus, Kreis und Quartier/Fertigerstellt/Kreis 11/Oerlikon",
          "Anzahl Wohnungen nach Projektstatus, Kreis und Quartier/Im Bau/Kreis 11/Oerlikon",
          "Anzahl Wohnungen nach Projektstatus, Kreis und Quartier/Bewilligt/Kreis 12/Schwamendingen-Mitte",
          "Anzahl Wohnungen nach Projektstatus, Kreis und Quartier/Fertigerstellt/Kreis 12/Schwamendingen-Mitte",
          "Anzahl Wohnungen nach Projektstatus, Kreis und Quartier/Im Bau/Kreis 12/Schwamendingen-Mitte",
          "Anzahl Wohnungen nach Projektstatus, Kreis und Quartier/Bewilligt/Kreis 11/Seebach",
          "Anzahl Wohnungen nach Projektstatus, Kreis und Quartier/Fertigerstellt/Kreis 11/Seebach",
          "Anzahl Wohnungen nach Projektstatus, Kreis und Quartier/Im Bau/Kreis 11/Seebach",
          "Anzahl Wohnungen nach Projektstatus, Kreis und Quartier/Fertigerstellt/Kreis 8/Seefeld",
          "Anzahl Wohnungen nach Projektstatus, Kreis und Quartier/Im Bau/Kreis 8/Seefeld",
          "Anzahl Wohnungen nach Projektstatus, Kreis und Quartier/Bewilligt/Kreis 3/Sihlfeld",
          "Anzahl Wohnungen nach Projektstatus, Kreis und Quartier/Fertigerstellt/Kreis 3/Sihlfeld",
          "Anzahl Wohnungen nach Projektstatus, Kreis und Quartier/Im Bau/Kreis 3/Sihlfeld",
          "Anzahl Wohnungen nach Projektstatus, Kreis und Quartier/Bewilligt/Kreis 6/Unterstrass",
          "Anzahl Wohnungen nach Projektstatus, Kreis und Quartier/Fertigerstellt/Kreis 6/Unterstrass",
          "Anzahl Wohnungen nach Projektstatus, Kreis und Quartier/Im Bau/Kreis 6/Unterstrass",
          "Anzahl Wohnungen nach Projektstatus, Kreis und Quartier/Bewilligt/Kreis 8/Weinegg",
          "Anzahl Wohnungen nach Projektstatus, Kreis und Quartier/Im Bau/Kreis 8/Weinegg",
          "Anzahl Wohnungen nach Projektstatus, Kreis und Quartier/Bewilligt/Kreis 4/Werd",
          "Anzahl Wohnungen nach Projektstatus, Kreis und Quartier/Fertigerstellt/Kreis 4/Werd",
          "Anzahl Wohnungen nach Projektstatus, Kreis und Quartier/Im Bau/Kreis 4/Werd",
          "Anzahl Wohnungen nach Projektstatus, Kreis und Quartier/Bewilligt/Kreis 10/Wipkingen",
          "Anzahl Wohnungen nach Projektstatus, Kreis und Quartier/Fertigerstellt/Kreis 10/Wipkingen",
          "Anzahl Wohnungen nach Projektstatus, Kreis und Quartier/Im Bau/Kreis 10/Wipkingen",
          "Anzahl Wohnungen nach Projektstatus, Kreis und Quartier/Bewilligt/Kreis 7/Witikon",
          "Anzahl Wohnungen nach Projektstatus, Kreis und Quartier/Fertigerstellt/Kreis 7/Witikon",
          "Anzahl Wohnungen nach Projektstatus, Kreis und Quartier/Im Bau/Kreis 7/Witikon",
          "Anzahl Wohnungen nach Projektstatus, Kreis und Quartier/Bewilligt/Kreis 2/Wollishofen",
          "Anzahl Wohnungen nach Projektstatus, Kreis und Quartier/Fertigerstellt/Kreis 2/Wollishofen",
          "Anzahl Wohnungen nach Projektstatus, Kreis und Quartier/Im Bau/Kreis 2/Wollishofen",
          "Anzahl Wohnungen nach Projektstatus, Kreis und Quartier/Bewilligt/Kreis 10",
          "Anzahl Wohnungen nach Projektstatus, Kreis und Quartier/Fertigerstellt/Kreis 10",
          "Anzahl Wohnungen nach Projektstatus, Kreis und Quartier/Im Bau/Kreis 10",
          "Anzahl Wohnungen nach Projektstatus, Kreis und Quartier/Bewilligt/Kreis 11",
          "Anzahl Wohnungen nach Projektstatus, Kreis und Quartier/Fertigerstellt/Kreis 11",
          "Anzahl Wohnungen nach Projektstatus, Kreis und Quartier/Im Bau/Kreis 11",
          "Anzahl Wohnungen nach Projektstatus, Kreis und Quartier/Bewilligt/Kreis 12",
          "Anzahl Wohnungen nach Projektstatus, Kreis und Quartier/Fertigerstellt/Kreis 12",
          "Anzahl Wohnungen nach Projektstatus, Kreis und Quartier/Im Bau/Kreis 12",
          "Anzahl Wohnungen nach Projektstatus, Kreis und Quartier/Bewilligt/Kreis 2",
          "Anzahl Wohnungen nach Projektstatus, Kreis und Quartier/Fertigerstellt/Kreis 2",
          "Anzahl Wohnungen nach Projektstatus, Kreis und Quartier/Im Bau/Kreis 2",
          "Anzahl Wohnungen nach Projektstatus, Kreis und Quartier/Bewilligt/Kreis 3",
          "Anzahl Wohnungen nach Projektstatus, Kreis und Quartier/Fertigerstellt/Kreis 3",
          "Anzahl Wohnungen nach Projektstatus, Kreis und Quartier/Im Bau/Kreis 3",
          "Anzahl Wohnungen nach Projektstatus, Kreis und Quartier/Bewilligt/Kreis 4",
          "Anzahl Wohnungen nach Projektstatus, Kreis und Quartier/Fertigerstellt/Kreis 4",
          "Anzahl Wohnungen nach Projektstatus, Kreis und Quartier/Im Bau/Kreis 4",
          "Anzahl Wohnungen nach Projektstatus, Kreis und Quartier/Fertigerstellt/Kreis 5",
          "Anzahl Wohnungen nach Projektstatus, Kreis und Quartier/Im Bau/Kreis 5",
          "Anzahl Wohnungen nach Projektstatus, Kreis und Quartier/Bewilligt/Kreis 6",
          "Anzahl Wohnungen nach Projektstatus, Kreis und Quartier/Fertigerstellt/Kreis 6",
          "Anzahl Wohnungen nach Projektstatus, Kreis und Quartier/Im Bau/Kreis 6",
          "Anzahl Wohnungen nach Projektstatus, Kreis und Quartier/Bewilligt/Kreis 7",
          "Anzahl Wohnungen nach Projektstatus, Kreis und Quartier/Fertigerstellt/Kreis 7",
          "Anzahl Wohnungen nach Projektstatus, Kreis und Quartier/Im Bau/Kreis 7",
          "Anzahl Wohnungen nach Projektstatus, Kreis und Quartier/Bewilligt/Kreis 8",
          "Anzahl Wohnungen nach Projektstatus, Kreis und Quartier/Fertigerstellt/Kreis 8",
          "Anzahl Wohnungen nach Projektstatus, Kreis und Quartier/Im Bau/Kreis 8",
          "Anzahl Wohnungen nach Projektstatus, Kreis und Quartier/Bewilligt/Kreis 9",
          "Anzahl Wohnungen nach Projektstatus, Kreis und Quartier/Fertigerstellt/Kreis 9",
          "Anzahl Wohnungen nach Projektstatus, Kreis und Quartier/Im Bau/Kreis 9",
          "Anzahl Wohnungen nach Projektstatus, Kreis und Quartier/Bewilligt",
          "Anzahl Wohnungen nach Projektstatus, Kreis und Quartier/Fertigerstellt",
          "Anzahl Wohnungen nach Projektstatus, Kreis und Quartier/Im Bau",
          "Anzahl Wohnungen nach Projektstatus, Kreis und Quartier"
         ],
         "labels": [
          "Affoltern",
          "Affoltern",
          "Affoltern",
          "Albisrieden",
          "Albisrieden",
          "Albisrieden",
          "Alt-Wiedikon",
          "Alt-Wiedikon",
          "Alt-Wiedikon",
          "Altstetten",
          "Altstetten",
          "Altstetten",
          "Enge",
          "Enge",
          "Enge",
          "Escher Wyss",
          "Fluntern",
          "Fluntern",
          "Fluntern",
          "Friesenberg",
          "Friesenberg",
          "Gewerbeschule",
          "Gewerbeschule",
          "Hard",
          "Hard",
          "Hirslanden",
          "Hirslanden",
          "Hirslanden",
          "Hirzenbach",
          "Hirzenbach",
          "Hottingen",
          "Hottingen",
          "Hottingen",
          "Höngg",
          "Höngg",
          "Höngg",
          "Langstrasse",
          "Langstrasse",
          "Leimbach",
          "Leimbach",
          "Leimbach",
          "Mühlebach",
          "Oberstrass",
          "Oberstrass",
          "Oberstrass",
          "Oerlikon",
          "Oerlikon",
          "Oerlikon",
          "Schwamendingen-Mitte",
          "Schwamendingen-Mitte",
          "Schwamendingen-Mitte",
          "Seebach",
          "Seebach",
          "Seebach",
          "Seefeld",
          "Seefeld",
          "Sihlfeld",
          "Sihlfeld",
          "Sihlfeld",
          "Unterstrass",
          "Unterstrass",
          "Unterstrass",
          "Weinegg",
          "Weinegg",
          "Werd",
          "Werd",
          "Werd",
          "Wipkingen",
          "Wipkingen",
          "Wipkingen",
          "Witikon",
          "Witikon",
          "Witikon",
          "Wollishofen",
          "Wollishofen",
          "Wollishofen",
          "Kreis 10",
          "Kreis 10",
          "Kreis 10",
          "Kreis 11",
          "Kreis 11",
          "Kreis 11",
          "Kreis 12",
          "Kreis 12",
          "Kreis 12",
          "Kreis 2",
          "Kreis 2",
          "Kreis 2",
          "Kreis 3",
          "Kreis 3",
          "Kreis 3",
          "Kreis 4",
          "Kreis 4",
          "Kreis 4",
          "Kreis 5",
          "Kreis 5",
          "Kreis 6",
          "Kreis 6",
          "Kreis 6",
          "Kreis 7",
          "Kreis 7",
          "Kreis 7",
          "Kreis 8",
          "Kreis 8",
          "Kreis 8",
          "Kreis 9",
          "Kreis 9",
          "Kreis 9",
          "Bewilligt",
          "Fertigerstellt",
          "Im Bau",
          "Anzahl Wohnungen nach Projektstatus, Kreis und Quartier"
         ],
         "level": "Anzahl Wohnungen nach Projektstatus, Kreis und Quartier",
         "marker": {
          "coloraxis": "coloraxis",
          "colors": [
           17,
           58,
           567,
           173,
           89,
           652,
           395,
           5,
           73,
           429,
           384,
           782,
           92,
           18,
           15,
           189,
           21,
           32,
           57,
           3,
           48,
           55,
           64,
           76,
           325,
           33,
           2,
           111,
           29,
           192,
           13,
           10,
           66,
           31,
           63,
           145,
           15,
           105,
           9,
           140,
           48,
           51,
           17,
           37,
           37,
           110,
           58,
           152,
           3,
           14,
           371,
           50,
           214,
           1659,
           121,
           15,
           61,
           17,
           107,
           160,
           179,
           168,
           11,
           32,
           74,
           80,
           12,
           52,
           23,
           67,
           51,
           25,
           260,
           156,
           214,
           796,
           44.1566265060241,
           52.30232558139535,
           120.34905660377359,
           84.11864406779661,
           159.16363636363636,
           1302.3019343986543,
           26.5625,
           14,
           309.955595026643,
           127.94163424124514,
           176.66666666666666,
           740.5646100116414,
           348.05010893246185,
           14.272727272727273,
           83.69298245614036,
           74,
           72.52046783625731,
           264.23981900452486,
           55,
           157.37944664031622,
           146.26553672316385,
           154.67592592592592,
           144.3560975609756,
           36.440677966101696,
           25.405797101449274,
           177.17813765182186,
           11,
           121,
           39.285714285714285,
           355.43189368770766,
           328.492600422833,
           722.8926080892608,
           232.05829145728643,
           178.25764644893727,
           734.9048283561261,
           547.7657194406856
          ]
         },
         "name": "",
         "parents": [
          "Anzahl Wohnungen nach Projektstatus, Kreis und Quartier/Bewilligt/Kreis 11",
          "Anzahl Wohnungen nach Projektstatus, Kreis und Quartier/Fertigerstellt/Kreis 11",
          "Anzahl Wohnungen nach Projektstatus, Kreis und Quartier/Im Bau/Kreis 11",
          "Anzahl Wohnungen nach Projektstatus, Kreis und Quartier/Bewilligt/Kreis 9",
          "Anzahl Wohnungen nach Projektstatus, Kreis und Quartier/Fertigerstellt/Kreis 9",
          "Anzahl Wohnungen nach Projektstatus, Kreis und Quartier/Im Bau/Kreis 9",
          "Anzahl Wohnungen nach Projektstatus, Kreis und Quartier/Bewilligt/Kreis 3",
          "Anzahl Wohnungen nach Projektstatus, Kreis und Quartier/Fertigerstellt/Kreis 3",
          "Anzahl Wohnungen nach Projektstatus, Kreis und Quartier/Im Bau/Kreis 3",
          "Anzahl Wohnungen nach Projektstatus, Kreis und Quartier/Bewilligt/Kreis 9",
          "Anzahl Wohnungen nach Projektstatus, Kreis und Quartier/Fertigerstellt/Kreis 9",
          "Anzahl Wohnungen nach Projektstatus, Kreis und Quartier/Im Bau/Kreis 9",
          "Anzahl Wohnungen nach Projektstatus, Kreis und Quartier/Bewilligt/Kreis 2",
          "Anzahl Wohnungen nach Projektstatus, Kreis und Quartier/Fertigerstellt/Kreis 2",
          "Anzahl Wohnungen nach Projektstatus, Kreis und Quartier/Im Bau/Kreis 2",
          "Anzahl Wohnungen nach Projektstatus, Kreis und Quartier/Im Bau/Kreis 5",
          "Anzahl Wohnungen nach Projektstatus, Kreis und Quartier/Bewilligt/Kreis 7",
          "Anzahl Wohnungen nach Projektstatus, Kreis und Quartier/Fertigerstellt/Kreis 7",
          "Anzahl Wohnungen nach Projektstatus, Kreis und Quartier/Im Bau/Kreis 7",
          "Anzahl Wohnungen nach Projektstatus, Kreis und Quartier/Bewilligt/Kreis 3",
          "Anzahl Wohnungen nach Projektstatus, Kreis und Quartier/Im Bau/Kreis 3",
          "Anzahl Wohnungen nach Projektstatus, Kreis und Quartier/Fertigerstellt/Kreis 5",
          "Anzahl Wohnungen nach Projektstatus, Kreis und Quartier/Im Bau/Kreis 5",
          "Anzahl Wohnungen nach Projektstatus, Kreis und Quartier/Fertigerstellt/Kreis 4",
          "Anzahl Wohnungen nach Projektstatus, Kreis und Quartier/Im Bau/Kreis 4",
          "Anzahl Wohnungen nach Projektstatus, Kreis und Quartier/Bewilligt/Kreis 7",
          "Anzahl Wohnungen nach Projektstatus, Kreis und Quartier/Fertigerstellt/Kreis 7",
          "Anzahl Wohnungen nach Projektstatus, Kreis und Quartier/Im Bau/Kreis 7",
          "Anzahl Wohnungen nach Projektstatus, Kreis und Quartier/Bewilligt/Kreis 12",
          "Anzahl Wohnungen nach Projektstatus, Kreis und Quartier/Im Bau/Kreis 12",
          "Anzahl Wohnungen nach Projektstatus, Kreis und Quartier/Bewilligt/Kreis 7",
          "Anzahl Wohnungen nach Projektstatus, Kreis und Quartier/Fertigerstellt/Kreis 7",
          "Anzahl Wohnungen nach Projektstatus, Kreis und Quartier/Im Bau/Kreis 7",
          "Anzahl Wohnungen nach Projektstatus, Kreis und Quartier/Bewilligt/Kreis 10",
          "Anzahl Wohnungen nach Projektstatus, Kreis und Quartier/Fertigerstellt/Kreis 10",
          "Anzahl Wohnungen nach Projektstatus, Kreis und Quartier/Im Bau/Kreis 10",
          "Anzahl Wohnungen nach Projektstatus, Kreis und Quartier/Fertigerstellt/Kreis 4",
          "Anzahl Wohnungen nach Projektstatus, Kreis und Quartier/Im Bau/Kreis 4",
          "Anzahl Wohnungen nach Projektstatus, Kreis und Quartier/Bewilligt/Kreis 2",
          "Anzahl Wohnungen nach Projektstatus, Kreis und Quartier/Fertigerstellt/Kreis 2",
          "Anzahl Wohnungen nach Projektstatus, Kreis und Quartier/Im Bau/Kreis 2",
          "Anzahl Wohnungen nach Projektstatus, Kreis und Quartier/Im Bau/Kreis 8",
          "Anzahl Wohnungen nach Projektstatus, Kreis und Quartier/Bewilligt/Kreis 6",
          "Anzahl Wohnungen nach Projektstatus, Kreis und Quartier/Fertigerstellt/Kreis 6",
          "Anzahl Wohnungen nach Projektstatus, Kreis und Quartier/Im Bau/Kreis 6",
          "Anzahl Wohnungen nach Projektstatus, Kreis und Quartier/Bewilligt/Kreis 11",
          "Anzahl Wohnungen nach Projektstatus, Kreis und Quartier/Fertigerstellt/Kreis 11",
          "Anzahl Wohnungen nach Projektstatus, Kreis und Quartier/Im Bau/Kreis 11",
          "Anzahl Wohnungen nach Projektstatus, Kreis und Quartier/Bewilligt/Kreis 12",
          "Anzahl Wohnungen nach Projektstatus, Kreis und Quartier/Fertigerstellt/Kreis 12",
          "Anzahl Wohnungen nach Projektstatus, Kreis und Quartier/Im Bau/Kreis 12",
          "Anzahl Wohnungen nach Projektstatus, Kreis und Quartier/Bewilligt/Kreis 11",
          "Anzahl Wohnungen nach Projektstatus, Kreis und Quartier/Fertigerstellt/Kreis 11",
          "Anzahl Wohnungen nach Projektstatus, Kreis und Quartier/Im Bau/Kreis 11",
          "Anzahl Wohnungen nach Projektstatus, Kreis und Quartier/Fertigerstellt/Kreis 8",
          "Anzahl Wohnungen nach Projektstatus, Kreis und Quartier/Im Bau/Kreis 8",
          "Anzahl Wohnungen nach Projektstatus, Kreis und Quartier/Bewilligt/Kreis 3",
          "Anzahl Wohnungen nach Projektstatus, Kreis und Quartier/Fertigerstellt/Kreis 3",
          "Anzahl Wohnungen nach Projektstatus, Kreis und Quartier/Im Bau/Kreis 3",
          "Anzahl Wohnungen nach Projektstatus, Kreis und Quartier/Bewilligt/Kreis 6",
          "Anzahl Wohnungen nach Projektstatus, Kreis und Quartier/Fertigerstellt/Kreis 6",
          "Anzahl Wohnungen nach Projektstatus, Kreis und Quartier/Im Bau/Kreis 6",
          "Anzahl Wohnungen nach Projektstatus, Kreis und Quartier/Bewilligt/Kreis 8",
          "Anzahl Wohnungen nach Projektstatus, Kreis und Quartier/Im Bau/Kreis 8",
          "Anzahl Wohnungen nach Projektstatus, Kreis und Quartier/Bewilligt/Kreis 4",
          "Anzahl Wohnungen nach Projektstatus, Kreis und Quartier/Fertigerstellt/Kreis 4",
          "Anzahl Wohnungen nach Projektstatus, Kreis und Quartier/Im Bau/Kreis 4",
          "Anzahl Wohnungen nach Projektstatus, Kreis und Quartier/Bewilligt/Kreis 10",
          "Anzahl Wohnungen nach Projektstatus, Kreis und Quartier/Fertigerstellt/Kreis 10",
          "Anzahl Wohnungen nach Projektstatus, Kreis und Quartier/Im Bau/Kreis 10",
          "Anzahl Wohnungen nach Projektstatus, Kreis und Quartier/Bewilligt/Kreis 7",
          "Anzahl Wohnungen nach Projektstatus, Kreis und Quartier/Fertigerstellt/Kreis 7",
          "Anzahl Wohnungen nach Projektstatus, Kreis und Quartier/Im Bau/Kreis 7",
          "Anzahl Wohnungen nach Projektstatus, Kreis und Quartier/Bewilligt/Kreis 2",
          "Anzahl Wohnungen nach Projektstatus, Kreis und Quartier/Fertigerstellt/Kreis 2",
          "Anzahl Wohnungen nach Projektstatus, Kreis und Quartier/Im Bau/Kreis 2",
          "Anzahl Wohnungen nach Projektstatus, Kreis und Quartier/Bewilligt",
          "Anzahl Wohnungen nach Projektstatus, Kreis und Quartier/Fertigerstellt",
          "Anzahl Wohnungen nach Projektstatus, Kreis und Quartier/Im Bau",
          "Anzahl Wohnungen nach Projektstatus, Kreis und Quartier/Bewilligt",
          "Anzahl Wohnungen nach Projektstatus, Kreis und Quartier/Fertigerstellt",
          "Anzahl Wohnungen nach Projektstatus, Kreis und Quartier/Im Bau",
          "Anzahl Wohnungen nach Projektstatus, Kreis und Quartier/Bewilligt",
          "Anzahl Wohnungen nach Projektstatus, Kreis und Quartier/Fertigerstellt",
          "Anzahl Wohnungen nach Projektstatus, Kreis und Quartier/Im Bau",
          "Anzahl Wohnungen nach Projektstatus, Kreis und Quartier/Bewilligt",
          "Anzahl Wohnungen nach Projektstatus, Kreis und Quartier/Fertigerstellt",
          "Anzahl Wohnungen nach Projektstatus, Kreis und Quartier/Im Bau",
          "Anzahl Wohnungen nach Projektstatus, Kreis und Quartier/Bewilligt",
          "Anzahl Wohnungen nach Projektstatus, Kreis und Quartier/Fertigerstellt",
          "Anzahl Wohnungen nach Projektstatus, Kreis und Quartier/Im Bau",
          "Anzahl Wohnungen nach Projektstatus, Kreis und Quartier/Bewilligt",
          "Anzahl Wohnungen nach Projektstatus, Kreis und Quartier/Fertigerstellt",
          "Anzahl Wohnungen nach Projektstatus, Kreis und Quartier/Im Bau",
          "Anzahl Wohnungen nach Projektstatus, Kreis und Quartier/Fertigerstellt",
          "Anzahl Wohnungen nach Projektstatus, Kreis und Quartier/Im Bau",
          "Anzahl Wohnungen nach Projektstatus, Kreis und Quartier/Bewilligt",
          "Anzahl Wohnungen nach Projektstatus, Kreis und Quartier/Fertigerstellt",
          "Anzahl Wohnungen nach Projektstatus, Kreis und Quartier/Im Bau",
          "Anzahl Wohnungen nach Projektstatus, Kreis und Quartier/Bewilligt",
          "Anzahl Wohnungen nach Projektstatus, Kreis und Quartier/Fertigerstellt",
          "Anzahl Wohnungen nach Projektstatus, Kreis und Quartier/Im Bau",
          "Anzahl Wohnungen nach Projektstatus, Kreis und Quartier/Bewilligt",
          "Anzahl Wohnungen nach Projektstatus, Kreis und Quartier/Fertigerstellt",
          "Anzahl Wohnungen nach Projektstatus, Kreis und Quartier/Im Bau",
          "Anzahl Wohnungen nach Projektstatus, Kreis und Quartier/Bewilligt",
          "Anzahl Wohnungen nach Projektstatus, Kreis und Quartier/Fertigerstellt",
          "Anzahl Wohnungen nach Projektstatus, Kreis und Quartier/Im Bau",
          "Anzahl Wohnungen nach Projektstatus, Kreis und Quartier",
          "Anzahl Wohnungen nach Projektstatus, Kreis und Quartier",
          "Anzahl Wohnungen nach Projektstatus, Kreis und Quartier",
          ""
         ],
         "root": {
          "color": "grey"
         },
         "type": "treemap",
         "values": [
          17,
          58,
          567,
          173,
          89,
          652,
          395,
          5,
          73,
          429,
          384,
          782,
          92,
          18,
          15,
          189,
          21,
          32,
          57,
          3,
          48,
          55,
          64,
          76,
          325,
          33,
          2,
          111,
          29,
          192,
          13,
          10,
          66,
          31,
          63,
          145,
          15,
          105,
          9,
          140,
          48,
          51,
          17,
          37,
          37,
          110,
          58,
          152,
          3,
          14,
          371,
          50,
          214,
          1659,
          121,
          15,
          61,
          17,
          107,
          160,
          179,
          168,
          11,
          32,
          74,
          80,
          12,
          52,
          23,
          67,
          51,
          25,
          260,
          156,
          214,
          796,
          83,
          86,
          212,
          177,
          330,
          2378,
          32,
          14,
          563,
          257,
          372,
          859,
          459,
          22,
          228,
          74,
          171,
          442,
          55,
          253,
          177,
          216,
          205,
          118,
          69,
          494,
          11,
          121,
          98,
          602,
          473,
          1434,
          1990,
          1929,
          7166,
          11085
         ]
        }
       ],
       "layout": {
        "coloraxis": {
         "colorbar": {
          "title": {
           "text": "sum_ProjAnzWhg"
          }
         },
         "colorscale": [
          [
           0,
           "#00224e"
          ],
          [
           0.1111111111111111,
           "#123570"
          ],
          [
           0.2222222222222222,
           "#3b496c"
          ],
          [
           0.3333333333333333,
           "#575d6d"
          ],
          [
           0.4444444444444444,
           "#707173"
          ],
          [
           0.5555555555555556,
           "#8a8678"
          ],
          [
           0.6666666666666666,
           "#a59c74"
          ],
          [
           0.7777777777777778,
           "#c3b369"
          ],
          [
           0.8888888888888888,
           "#e1cc55"
          ],
          [
           1,
           "#fee838"
          ]
         ]
        },
        "height": 400,
        "legend": {
         "tracegroupgap": 0
        },
        "margin": {
         "b": 25,
         "l": 25,
         "r": 250,
         "t": 50
        },
        "template": {
         "data": {
          "bar": [
           {
            "error_x": {
             "color": "#2a3f5f"
            },
            "error_y": {
             "color": "#2a3f5f"
            },
            "marker": {
             "line": {
              "color": "#E5ECF6",
              "width": 0.5
             },
             "pattern": {
              "fillmode": "overlay",
              "size": 10,
              "solidity": 0.2
             }
            },
            "type": "bar"
           }
          ],
          "barpolar": [
           {
            "marker": {
             "line": {
              "color": "#E5ECF6",
              "width": 0.5
             },
             "pattern": {
              "fillmode": "overlay",
              "size": 10,
              "solidity": 0.2
             }
            },
            "type": "barpolar"
           }
          ],
          "carpet": [
           {
            "aaxis": {
             "endlinecolor": "#2a3f5f",
             "gridcolor": "white",
             "linecolor": "white",
             "minorgridcolor": "white",
             "startlinecolor": "#2a3f5f"
            },
            "baxis": {
             "endlinecolor": "#2a3f5f",
             "gridcolor": "white",
             "linecolor": "white",
             "minorgridcolor": "white",
             "startlinecolor": "#2a3f5f"
            },
            "type": "carpet"
           }
          ],
          "choropleth": [
           {
            "colorbar": {
             "outlinewidth": 0,
             "ticks": ""
            },
            "type": "choropleth"
           }
          ],
          "contour": [
           {
            "colorbar": {
             "outlinewidth": 0,
             "ticks": ""
            },
            "colorscale": [
             [
              0,
              "#0d0887"
             ],
             [
              0.1111111111111111,
              "#46039f"
             ],
             [
              0.2222222222222222,
              "#7201a8"
             ],
             [
              0.3333333333333333,
              "#9c179e"
             ],
             [
              0.4444444444444444,
              "#bd3786"
             ],
             [
              0.5555555555555556,
              "#d8576b"
             ],
             [
              0.6666666666666666,
              "#ed7953"
             ],
             [
              0.7777777777777778,
              "#fb9f3a"
             ],
             [
              0.8888888888888888,
              "#fdca26"
             ],
             [
              1,
              "#f0f921"
             ]
            ],
            "type": "contour"
           }
          ],
          "contourcarpet": [
           {
            "colorbar": {
             "outlinewidth": 0,
             "ticks": ""
            },
            "type": "contourcarpet"
           }
          ],
          "heatmap": [
           {
            "colorbar": {
             "outlinewidth": 0,
             "ticks": ""
            },
            "colorscale": [
             [
              0,
              "#0d0887"
             ],
             [
              0.1111111111111111,
              "#46039f"
             ],
             [
              0.2222222222222222,
              "#7201a8"
             ],
             [
              0.3333333333333333,
              "#9c179e"
             ],
             [
              0.4444444444444444,
              "#bd3786"
             ],
             [
              0.5555555555555556,
              "#d8576b"
             ],
             [
              0.6666666666666666,
              "#ed7953"
             ],
             [
              0.7777777777777778,
              "#fb9f3a"
             ],
             [
              0.8888888888888888,
              "#fdca26"
             ],
             [
              1,
              "#f0f921"
             ]
            ],
            "type": "heatmap"
           }
          ],
          "heatmapgl": [
           {
            "colorbar": {
             "outlinewidth": 0,
             "ticks": ""
            },
            "colorscale": [
             [
              0,
              "#0d0887"
             ],
             [
              0.1111111111111111,
              "#46039f"
             ],
             [
              0.2222222222222222,
              "#7201a8"
             ],
             [
              0.3333333333333333,
              "#9c179e"
             ],
             [
              0.4444444444444444,
              "#bd3786"
             ],
             [
              0.5555555555555556,
              "#d8576b"
             ],
             [
              0.6666666666666666,
              "#ed7953"
             ],
             [
              0.7777777777777778,
              "#fb9f3a"
             ],
             [
              0.8888888888888888,
              "#fdca26"
             ],
             [
              1,
              "#f0f921"
             ]
            ],
            "type": "heatmapgl"
           }
          ],
          "histogram": [
           {
            "marker": {
             "pattern": {
              "fillmode": "overlay",
              "size": 10,
              "solidity": 0.2
             }
            },
            "type": "histogram"
           }
          ],
          "histogram2d": [
           {
            "colorbar": {
             "outlinewidth": 0,
             "ticks": ""
            },
            "colorscale": [
             [
              0,
              "#0d0887"
             ],
             [
              0.1111111111111111,
              "#46039f"
             ],
             [
              0.2222222222222222,
              "#7201a8"
             ],
             [
              0.3333333333333333,
              "#9c179e"
             ],
             [
              0.4444444444444444,
              "#bd3786"
             ],
             [
              0.5555555555555556,
              "#d8576b"
             ],
             [
              0.6666666666666666,
              "#ed7953"
             ],
             [
              0.7777777777777778,
              "#fb9f3a"
             ],
             [
              0.8888888888888888,
              "#fdca26"
             ],
             [
              1,
              "#f0f921"
             ]
            ],
            "type": "histogram2d"
           }
          ],
          "histogram2dcontour": [
           {
            "colorbar": {
             "outlinewidth": 0,
             "ticks": ""
            },
            "colorscale": [
             [
              0,
              "#0d0887"
             ],
             [
              0.1111111111111111,
              "#46039f"
             ],
             [
              0.2222222222222222,
              "#7201a8"
             ],
             [
              0.3333333333333333,
              "#9c179e"
             ],
             [
              0.4444444444444444,
              "#bd3786"
             ],
             [
              0.5555555555555556,
              "#d8576b"
             ],
             [
              0.6666666666666666,
              "#ed7953"
             ],
             [
              0.7777777777777778,
              "#fb9f3a"
             ],
             [
              0.8888888888888888,
              "#fdca26"
             ],
             [
              1,
              "#f0f921"
             ]
            ],
            "type": "histogram2dcontour"
           }
          ],
          "mesh3d": [
           {
            "colorbar": {
             "outlinewidth": 0,
             "ticks": ""
            },
            "type": "mesh3d"
           }
          ],
          "parcoords": [
           {
            "line": {
             "colorbar": {
              "outlinewidth": 0,
              "ticks": ""
             }
            },
            "type": "parcoords"
           }
          ],
          "pie": [
           {
            "automargin": true,
            "type": "pie"
           }
          ],
          "scatter": [
           {
            "marker": {
             "colorbar": {
              "outlinewidth": 0,
              "ticks": ""
             }
            },
            "type": "scatter"
           }
          ],
          "scatter3d": [
           {
            "line": {
             "colorbar": {
              "outlinewidth": 0,
              "ticks": ""
             }
            },
            "marker": {
             "colorbar": {
              "outlinewidth": 0,
              "ticks": ""
             }
            },
            "type": "scatter3d"
           }
          ],
          "scattercarpet": [
           {
            "marker": {
             "colorbar": {
              "outlinewidth": 0,
              "ticks": ""
             }
            },
            "type": "scattercarpet"
           }
          ],
          "scattergeo": [
           {
            "marker": {
             "colorbar": {
              "outlinewidth": 0,
              "ticks": ""
             }
            },
            "type": "scattergeo"
           }
          ],
          "scattergl": [
           {
            "marker": {
             "colorbar": {
              "outlinewidth": 0,
              "ticks": ""
             }
            },
            "type": "scattergl"
           }
          ],
          "scattermapbox": [
           {
            "marker": {
             "colorbar": {
              "outlinewidth": 0,
              "ticks": ""
             }
            },
            "type": "scattermapbox"
           }
          ],
          "scatterpolar": [
           {
            "marker": {
             "colorbar": {
              "outlinewidth": 0,
              "ticks": ""
             }
            },
            "type": "scatterpolar"
           }
          ],
          "scatterpolargl": [
           {
            "marker": {
             "colorbar": {
              "outlinewidth": 0,
              "ticks": ""
             }
            },
            "type": "scatterpolargl"
           }
          ],
          "scatterternary": [
           {
            "marker": {
             "colorbar": {
              "outlinewidth": 0,
              "ticks": ""
             }
            },
            "type": "scatterternary"
           }
          ],
          "surface": [
           {
            "colorbar": {
             "outlinewidth": 0,
             "ticks": ""
            },
            "colorscale": [
             [
              0,
              "#0d0887"
             ],
             [
              0.1111111111111111,
              "#46039f"
             ],
             [
              0.2222222222222222,
              "#7201a8"
             ],
             [
              0.3333333333333333,
              "#9c179e"
             ],
             [
              0.4444444444444444,
              "#bd3786"
             ],
             [
              0.5555555555555556,
              "#d8576b"
             ],
             [
              0.6666666666666666,
              "#ed7953"
             ],
             [
              0.7777777777777778,
              "#fb9f3a"
             ],
             [
              0.8888888888888888,
              "#fdca26"
             ],
             [
              1,
              "#f0f921"
             ]
            ],
            "type": "surface"
           }
          ],
          "table": [
           {
            "cells": {
             "fill": {
              "color": "#EBF0F8"
             },
             "line": {
              "color": "white"
             }
            },
            "header": {
             "fill": {
              "color": "#C8D4E3"
             },
             "line": {
              "color": "white"
             }
            },
            "type": "table"
           }
          ]
         },
         "layout": {
          "annotationdefaults": {
           "arrowcolor": "#2a3f5f",
           "arrowhead": 0,
           "arrowwidth": 1
          },
          "autotypenumbers": "strict",
          "coloraxis": {
           "colorbar": {
            "outlinewidth": 0,
            "ticks": ""
           }
          },
          "colorscale": {
           "diverging": [
            [
             0,
             "#8e0152"
            ],
            [
             0.1,
             "#c51b7d"
            ],
            [
             0.2,
             "#de77ae"
            ],
            [
             0.3,
             "#f1b6da"
            ],
            [
             0.4,
             "#fde0ef"
            ],
            [
             0.5,
             "#f7f7f7"
            ],
            [
             0.6,
             "#e6f5d0"
            ],
            [
             0.7,
             "#b8e186"
            ],
            [
             0.8,
             "#7fbc41"
            ],
            [
             0.9,
             "#4d9221"
            ],
            [
             1,
             "#276419"
            ]
           ],
           "sequential": [
            [
             0,
             "#0d0887"
            ],
            [
             0.1111111111111111,
             "#46039f"
            ],
            [
             0.2222222222222222,
             "#7201a8"
            ],
            [
             0.3333333333333333,
             "#9c179e"
            ],
            [
             0.4444444444444444,
             "#bd3786"
            ],
            [
             0.5555555555555556,
             "#d8576b"
            ],
            [
             0.6666666666666666,
             "#ed7953"
            ],
            [
             0.7777777777777778,
             "#fb9f3a"
            ],
            [
             0.8888888888888888,
             "#fdca26"
            ],
            [
             1,
             "#f0f921"
            ]
           ],
           "sequentialminus": [
            [
             0,
             "#0d0887"
            ],
            [
             0.1111111111111111,
             "#46039f"
            ],
            [
             0.2222222222222222,
             "#7201a8"
            ],
            [
             0.3333333333333333,
             "#9c179e"
            ],
            [
             0.4444444444444444,
             "#bd3786"
            ],
            [
             0.5555555555555556,
             "#d8576b"
            ],
            [
             0.6666666666666666,
             "#ed7953"
            ],
            [
             0.7777777777777778,
             "#fb9f3a"
            ],
            [
             0.8888888888888888,
             "#fdca26"
            ],
            [
             1,
             "#f0f921"
            ]
           ]
          },
          "colorway": [
           "#636efa",
           "#EF553B",
           "#00cc96",
           "#ab63fa",
           "#FFA15A",
           "#19d3f3",
           "#FF6692",
           "#B6E880",
           "#FF97FF",
           "#FECB52"
          ],
          "font": {
           "color": "#2a3f5f"
          },
          "geo": {
           "bgcolor": "white",
           "lakecolor": "white",
           "landcolor": "#E5ECF6",
           "showlakes": true,
           "showland": true,
           "subunitcolor": "white"
          },
          "hoverlabel": {
           "align": "left"
          },
          "hovermode": "closest",
          "mapbox": {
           "style": "light"
          },
          "paper_bgcolor": "white",
          "plot_bgcolor": "#E5ECF6",
          "polar": {
           "angularaxis": {
            "gridcolor": "white",
            "linecolor": "white",
            "ticks": ""
           },
           "bgcolor": "#E5ECF6",
           "radialaxis": {
            "gridcolor": "white",
            "linecolor": "white",
            "ticks": ""
           }
          },
          "scene": {
           "xaxis": {
            "backgroundcolor": "#E5ECF6",
            "gridcolor": "white",
            "gridwidth": 2,
            "linecolor": "white",
            "showbackground": true,
            "ticks": "",
            "zerolinecolor": "white"
           },
           "yaxis": {
            "backgroundcolor": "#E5ECF6",
            "gridcolor": "white",
            "gridwidth": 2,
            "linecolor": "white",
            "showbackground": true,
            "ticks": "",
            "zerolinecolor": "white"
           },
           "zaxis": {
            "backgroundcolor": "#E5ECF6",
            "gridcolor": "white",
            "gridwidth": 2,
            "linecolor": "white",
            "showbackground": true,
            "ticks": "",
            "zerolinecolor": "white"
           }
          },
          "shapedefaults": {
           "line": {
            "color": "#2a3f5f"
           }
          },
          "ternary": {
           "aaxis": {
            "gridcolor": "white",
            "linecolor": "white",
            "ticks": ""
           },
           "baxis": {
            "gridcolor": "white",
            "linecolor": "white",
            "ticks": ""
           },
           "bgcolor": "#E5ECF6",
           "caxis": {
            "gridcolor": "white",
            "linecolor": "white",
            "ticks": ""
           }
          },
          "title": {
           "x": 0.05
          },
          "xaxis": {
           "automargin": true,
           "gridcolor": "white",
           "linecolor": "white",
           "ticks": "",
           "title": {
            "standoff": 15
           },
           "zerolinecolor": "white",
           "zerolinewidth": 2
          },
          "yaxis": {
           "automargin": true,
           "gridcolor": "white",
           "linecolor": "white",
           "ticks": "",
           "title": {
            "standoff": 15
           },
           "zerolinecolor": "white",
           "zerolinewidth": 2
          }
         }
        },
        "width": 1100
       }
      },
      "image/png": "[encoded data removed]",
      "text/html": [
       "<div>                            <div id=\"7c2c95eb-f491-40b0-acd7-9c4217a4d781\" class=\"plotly-graph-div\" style=\"height:400px; width:1100px;\"></div>            <script type=\"text/javascript\">                require([\"plotly\"], function(Plotly) {                    window.PLOTLYENV=window.PLOTLYENV || {};                                    if (document.getElementById(\"7c2c95eb-f491-40b0-acd7-9c4217a4d781\")) {                    Plotly.newPlot(                        \"7c2c95eb-f491-40b0-acd7-9c4217a4d781\",                        [{\"branchvalues\":\"total\",\"customdata\":[[17.0],[58.0],[567.0],[173.0],[89.0],[652.0],[395.0],[5.0],[73.0],[429.0],[384.0],[782.0],[92.0],[18.0],[15.0],[189.0],[21.0],[32.0],[57.0],[3.0],[48.0],[55.0],[64.0],[76.0],[325.0],[33.0],[2.0],[111.0],[29.0],[192.0],[13.0],[10.0],[66.0],[31.0],[63.0],[145.0],[15.0],[105.0],[9.0],[140.0],[48.0],[51.0],[17.0],[37.0],[37.0],[110.0],[58.0],[152.0],[3.0],[14.0],[371.0],[50.0],[214.0],[1659.0],[121.0],[15.0],[61.0],[17.0],[107.0],[160.0],[179.0],[168.0],[11.0],[32.0],[74.0],[80.0],[12.0],[52.0],[23.0],[67.0],[51.0],[25.0],[260.0],[156.0],[214.0],[796.0],[44.1566265060241],[52.30232558139535],[120.34905660377359],[84.11864406779661],[159.16363636363636],[1302.3019343986543],[26.5625],[14.0],[309.955595026643],[127.94163424124514],[176.66666666666666],[740.5646100116414],[348.05010893246185],[14.272727272727273],[83.69298245614036],[74.0],[72.52046783625731],[264.23981900452486],[55.0],[157.37944664031622],[146.26553672316385],[154.67592592592592],[144.3560975609756],[36.440677966101696],[25.405797101449274],[177.17813765182186],[11.0],[121.0],[39.285714285714285],[355.43189368770766],[328.492600422833],[722.8926080892608],[232.05829145728643],[178.25764644893727],[734.9048283561261],[547.7657194406856]],\"domain\":{\"x\":[0.0,1.0],\"y\":[0.0,1.0]},\"hovertemplate\":\"labels=%{label}<br>sum_ProjAnzWhg_sum=%{value}<br>parent=%{parent}<br>id=%{id}<br>sum_ProjAnzWhg=%{color}<extra></extra>\",\"ids\":[\"Anzahl Wohnungen nach Projektstatus, Kreis und Quartier/Bewilligt/Kreis 11/Affoltern\",\"Anzahl Wohnungen nach Projektstatus, Kreis und Quartier/Fertigerstellt/Kreis 11/Affoltern\",\"Anzahl Wohnungen nach Projektstatus, Kreis und Quartier/Im Bau/Kreis 11/Affoltern\",\"Anzahl Wohnungen nach Projektstatus, Kreis und Quartier/Bewilligt/Kreis 9/Albisrieden\",\"Anzahl Wohnungen nach Projektstatus, Kreis und Quartier/Fertigerstellt/Kreis 9/Albisrieden\",\"Anzahl Wohnungen nach Projektstatus, Kreis und Quartier/Im Bau/Kreis 9/Albisrieden\",\"Anzahl Wohnungen nach Projektstatus, Kreis und Quartier/Bewilligt/Kreis 3/Alt-Wiedikon\",\"Anzahl Wohnungen nach Projektstatus, Kreis und Quartier/Fertigerstellt/Kreis 3/Alt-Wiedikon\",\"Anzahl Wohnungen nach Projektstatus, Kreis und Quartier/Im Bau/Kreis 3/Alt-Wiedikon\",\"Anzahl Wohnungen nach Projektstatus, Kreis und Quartier/Bewilligt/Kreis 9/Altstetten\",\"Anzahl Wohnungen nach Projektstatus, Kreis und Quartier/Fertigerstellt/Kreis 9/Altstetten\",\"Anzahl Wohnungen nach Projektstatus, Kreis und Quartier/Im Bau/Kreis 9/Altstetten\",\"Anzahl Wohnungen nach Projektstatus, Kreis und Quartier/Bewilligt/Kreis 2/Enge\",\"Anzahl Wohnungen nach Projektstatus, Kreis und Quartier/Fertigerstellt/Kreis 2/Enge\",\"Anzahl Wohnungen nach Projektstatus, Kreis und Quartier/Im Bau/Kreis 2/Enge\",\"Anzahl Wohnungen nach Projektstatus, Kreis und Quartier/Im Bau/Kreis 5/Escher Wyss\",\"Anzahl Wohnungen nach Projektstatus, Kreis und Quartier/Bewilligt/Kreis 7/Fluntern\",\"Anzahl Wohnungen nach Projektstatus, Kreis und Quartier/Fertigerstellt/Kreis 7/Fluntern\",\"Anzahl Wohnungen nach Projektstatus, Kreis und Quartier/Im Bau/Kreis 7/Fluntern\",\"Anzahl Wohnungen nach Projektstatus, Kreis und Quartier/Bewilligt/Kreis 3/Friesenberg\",\"Anzahl Wohnungen nach Projektstatus, Kreis und Quartier/Im Bau/Kreis 3/Friesenberg\",\"Anzahl Wohnungen nach Projektstatus, Kreis und Quartier/Fertigerstellt/Kreis 5/Gewerbeschule\",\"Anzahl Wohnungen nach Projektstatus, Kreis und Quartier/Im Bau/Kreis 5/Gewerbeschule\",\"Anzahl Wohnungen nach Projektstatus, Kreis und Quartier/Fertigerstellt/Kreis 4/Hard\",\"Anzahl Wohnungen nach Projektstatus, Kreis und Quartier/Im Bau/Kreis 4/Hard\",\"Anzahl Wohnungen nach Projektstatus, Kreis und Quartier/Bewilligt/Kreis 7/Hirslanden\",\"Anzahl Wohnungen nach Projektstatus, Kreis und Quartier/Fertigerstellt/Kreis 7/Hirslanden\",\"Anzahl Wohnungen nach Projektstatus, Kreis und Quartier/Im Bau/Kreis 7/Hirslanden\",\"Anzahl Wohnungen nach Projektstatus, Kreis und Quartier/Bewilligt/Kreis 12/Hirzenbach\",\"Anzahl Wohnungen nach Projektstatus, Kreis und Quartier/Im Bau/Kreis 12/Hirzenbach\",\"Anzahl Wohnungen nach Projektstatus, Kreis und Quartier/Bewilligt/Kreis 7/Hottingen\",\"Anzahl Wohnungen nach Projektstatus, Kreis und Quartier/Fertigerstellt/Kreis 7/Hottingen\",\"Anzahl Wohnungen nach Projektstatus, Kreis und Quartier/Im Bau/Kreis 7/Hottingen\",\"Anzahl Wohnungen nach Projektstatus, Kreis und Quartier/Bewilligt/Kreis 10/H\\u00f6ngg\",\"Anzahl Wohnungen nach Projektstatus, Kreis und Quartier/Fertigerstellt/Kreis 10/H\\u00f6ngg\",\"Anzahl Wohnungen nach Projektstatus, Kreis und Quartier/Im Bau/Kreis 10/H\\u00f6ngg\",\"Anzahl Wohnungen nach Projektstatus, Kreis und Quartier/Fertigerstellt/Kreis 4/Langstrasse\",\"Anzahl Wohnungen nach Projektstatus, Kreis und Quartier/Im Bau/Kreis 4/Langstrasse\",\"Anzahl Wohnungen nach Projektstatus, Kreis und Quartier/Bewilligt/Kreis 2/Leimbach\",\"Anzahl Wohnungen nach Projektstatus, Kreis und Quartier/Fertigerstellt/Kreis 2/Leimbach\",\"Anzahl Wohnungen nach Projektstatus, Kreis und Quartier/Im Bau/Kreis 2/Leimbach\",\"Anzahl Wohnungen nach Projektstatus, Kreis und Quartier/Im Bau/Kreis 8/M\\u00fchlebach\",\"Anzahl Wohnungen nach Projektstatus, Kreis und Quartier/Bewilligt/Kreis 6/Oberstrass\",\"Anzahl Wohnungen nach Projektstatus, Kreis und Quartier/Fertigerstellt/Kreis 6/Oberstrass\",\"Anzahl Wohnungen nach Projektstatus, Kreis und Quartier/Im Bau/Kreis 6/Oberstrass\",\"Anzahl Wohnungen nach Projektstatus, Kreis und Quartier/Bewilligt/Kreis 11/Oerlikon\",\"Anzahl Wohnungen nach Projektstatus, Kreis und Quartier/Fertigerstellt/Kreis 11/Oerlikon\",\"Anzahl Wohnungen nach Projektstatus, Kreis und Quartier/Im Bau/Kreis 11/Oerlikon\",\"Anzahl Wohnungen nach Projektstatus, Kreis und Quartier/Bewilligt/Kreis 12/Schwamendingen-Mitte\",\"Anzahl Wohnungen nach Projektstatus, Kreis und Quartier/Fertigerstellt/Kreis 12/Schwamendingen-Mitte\",\"Anzahl Wohnungen nach Projektstatus, Kreis und Quartier/Im Bau/Kreis 12/Schwamendingen-Mitte\",\"Anzahl Wohnungen nach Projektstatus, Kreis und Quartier/Bewilligt/Kreis 11/Seebach\",\"Anzahl Wohnungen nach Projektstatus, Kreis und Quartier/Fertigerstellt/Kreis 11/Seebach\",\"Anzahl Wohnungen nach Projektstatus, Kreis und Quartier/Im Bau/Kreis 11/Seebach\",\"Anzahl Wohnungen nach Projektstatus, Kreis und Quartier/Fertigerstellt/Kreis 8/Seefeld\",\"Anzahl Wohnungen nach Projektstatus, Kreis und Quartier/Im Bau/Kreis 8/Seefeld\",\"Anzahl Wohnungen nach Projektstatus, Kreis und Quartier/Bewilligt/Kreis 3/Sihlfeld\",\"Anzahl Wohnungen nach Projektstatus, Kreis und Quartier/Fertigerstellt/Kreis 3/Sihlfeld\",\"Anzahl Wohnungen nach Projektstatus, Kreis und Quartier/Im Bau/Kreis 3/Sihlfeld\",\"Anzahl Wohnungen nach Projektstatus, Kreis und Quartier/Bewilligt/Kreis 6/Unterstrass\",\"Anzahl Wohnungen nach Projektstatus, Kreis und Quartier/Fertigerstellt/Kreis 6/Unterstrass\",\"Anzahl Wohnungen nach Projektstatus, Kreis und Quartier/Im Bau/Kreis 6/Unterstrass\",\"Anzahl Wohnungen nach Projektstatus, Kreis und Quartier/Bewilligt/Kreis 8/Weinegg\",\"Anzahl Wohnungen nach Projektstatus, Kreis und Quartier/Im Bau/Kreis 8/Weinegg\",\"Anzahl Wohnungen nach Projektstatus, Kreis und Quartier/Bewilligt/Kreis 4/Werd\",\"Anzahl Wohnungen nach Projektstatus, Kreis und Quartier/Fertigerstellt/Kreis 4/Werd\",\"Anzahl Wohnungen nach Projektstatus, Kreis und Quartier/Im Bau/Kreis 4/Werd\",\"Anzahl Wohnungen nach Projektstatus, Kreis und Quartier/Bewilligt/Kreis 10/Wipkingen\",\"Anzahl Wohnungen nach Projektstatus, Kreis und Quartier/Fertigerstellt/Kreis 10/Wipkingen\",\"Anzahl Wohnungen nach Projektstatus, Kreis und Quartier/Im Bau/Kreis 10/Wipkingen\",\"Anzahl Wohnungen nach Projektstatus, Kreis und Quartier/Bewilligt/Kreis 7/Witikon\",\"Anzahl Wohnungen nach Projektstatus, Kreis und Quartier/Fertigerstellt/Kreis 7/Witikon\",\"Anzahl Wohnungen nach Projektstatus, Kreis und Quartier/Im Bau/Kreis 7/Witikon\",\"Anzahl Wohnungen nach Projektstatus, Kreis und Quartier/Bewilligt/Kreis 2/Wollishofen\",\"Anzahl Wohnungen nach Projektstatus, Kreis und Quartier/Fertigerstellt/Kreis 2/Wollishofen\",\"Anzahl Wohnungen nach Projektstatus, Kreis und Quartier/Im Bau/Kreis 2/Wollishofen\",\"Anzahl Wohnungen nach Projektstatus, Kreis und Quartier/Bewilligt/Kreis 10\",\"Anzahl Wohnungen nach Projektstatus, Kreis und Quartier/Fertigerstellt/Kreis 10\",\"Anzahl Wohnungen nach Projektstatus, Kreis und Quartier/Im Bau/Kreis 10\",\"Anzahl Wohnungen nach Projektstatus, Kreis und Quartier/Bewilligt/Kreis 11\",\"Anzahl Wohnungen nach Projektstatus, Kreis und Quartier/Fertigerstellt/Kreis 11\",\"Anzahl Wohnungen nach Projektstatus, Kreis und Quartier/Im Bau/Kreis 11\",\"Anzahl Wohnungen nach Projektstatus, Kreis und Quartier/Bewilligt/Kreis 12\",\"Anzahl Wohnungen nach Projektstatus, Kreis und Quartier/Fertigerstellt/Kreis 12\",\"Anzahl Wohnungen nach Projektstatus, Kreis und Quartier/Im Bau/Kreis 12\",\"Anzahl Wohnungen nach Projektstatus, Kreis und Quartier/Bewilligt/Kreis 2\",\"Anzahl Wohnungen nach Projektstatus, Kreis und Quartier/Fertigerstellt/Kreis 2\",\"Anzahl Wohnungen nach Projektstatus, Kreis und Quartier/Im Bau/Kreis 2\",\"Anzahl Wohnungen nach Projektstatus, Kreis und Quartier/Bewilligt/Kreis 3\",\"Anzahl Wohnungen nach Projektstatus, Kreis und Quartier/Fertigerstellt/Kreis 3\",\"Anzahl Wohnungen nach Projektstatus, Kreis und Quartier/Im Bau/Kreis 3\",\"Anzahl Wohnungen nach Projektstatus, Kreis und Quartier/Bewilligt/Kreis 4\",\"Anzahl Wohnungen nach Projektstatus, Kreis und Quartier/Fertigerstellt/Kreis 4\",\"Anzahl Wohnungen nach Projektstatus, Kreis und Quartier/Im Bau/Kreis 4\",\"Anzahl Wohnungen nach Projektstatus, Kreis und Quartier/Fertigerstellt/Kreis 5\",\"Anzahl Wohnungen nach Projektstatus, Kreis und Quartier/Im Bau/Kreis 5\",\"Anzahl Wohnungen nach Projektstatus, Kreis und Quartier/Bewilligt/Kreis 6\",\"Anzahl Wohnungen nach Projektstatus, Kreis und Quartier/Fertigerstellt/Kreis 6\",\"Anzahl Wohnungen nach Projektstatus, Kreis und Quartier/Im Bau/Kreis 6\",\"Anzahl Wohnungen nach Projektstatus, Kreis und Quartier/Bewilligt/Kreis 7\",\"Anzahl Wohnungen nach Projektstatus, Kreis und Quartier/Fertigerstellt/Kreis 7\",\"Anzahl Wohnungen nach Projektstatus, Kreis und Quartier/Im Bau/Kreis 7\",\"Anzahl Wohnungen nach Projektstatus, Kreis und Quartier/Bewilligt/Kreis 8\",\"Anzahl Wohnungen nach Projektstatus, Kreis und Quartier/Fertigerstellt/Kreis 8\",\"Anzahl Wohnungen nach Projektstatus, Kreis und Quartier/Im Bau/Kreis 8\",\"Anzahl Wohnungen nach Projektstatus, Kreis und Quartier/Bewilligt/Kreis 9\",\"Anzahl Wohnungen nach Projektstatus, Kreis und Quartier/Fertigerstellt/Kreis 9\",\"Anzahl Wohnungen nach Projektstatus, Kreis und Quartier/Im Bau/Kreis 9\",\"Anzahl Wohnungen nach Projektstatus, Kreis und Quartier/Bewilligt\",\"Anzahl Wohnungen nach Projektstatus, Kreis und Quartier/Fertigerstellt\",\"Anzahl Wohnungen nach Projektstatus, Kreis und Quartier/Im Bau\",\"Anzahl Wohnungen nach Projektstatus, Kreis und Quartier\"],\"labels\":[\"Affoltern\",\"Affoltern\",\"Affoltern\",\"Albisrieden\",\"Albisrieden\",\"Albisrieden\",\"Alt-Wiedikon\",\"Alt-Wiedikon\",\"Alt-Wiedikon\",\"Altstetten\",\"Altstetten\",\"Altstetten\",\"Enge\",\"Enge\",\"Enge\",\"Escher Wyss\",\"Fluntern\",\"Fluntern\",\"Fluntern\",\"Friesenberg\",\"Friesenberg\",\"Gewerbeschule\",\"Gewerbeschule\",\"Hard\",\"Hard\",\"Hirslanden\",\"Hirslanden\",\"Hirslanden\",\"Hirzenbach\",\"Hirzenbach\",\"Hottingen\",\"Hottingen\",\"Hottingen\",\"H\\u00f6ngg\",\"H\\u00f6ngg\",\"H\\u00f6ngg\",\"Langstrasse\",\"Langstrasse\",\"Leimbach\",\"Leimbach\",\"Leimbach\",\"M\\u00fchlebach\",\"Oberstrass\",\"Oberstrass\",\"Oberstrass\",\"Oerlikon\",\"Oerlikon\",\"Oerlikon\",\"Schwamendingen-Mitte\",\"Schwamendingen-Mitte\",\"Schwamendingen-Mitte\",\"Seebach\",\"Seebach\",\"Seebach\",\"Seefeld\",\"Seefeld\",\"Sihlfeld\",\"Sihlfeld\",\"Sihlfeld\",\"Unterstrass\",\"Unterstrass\",\"Unterstrass\",\"Weinegg\",\"Weinegg\",\"Werd\",\"Werd\",\"Werd\",\"Wipkingen\",\"Wipkingen\",\"Wipkingen\",\"Witikon\",\"Witikon\",\"Witikon\",\"Wollishofen\",\"Wollishofen\",\"Wollishofen\",\"Kreis 10\",\"Kreis 10\",\"Kreis 10\",\"Kreis 11\",\"Kreis 11\",\"Kreis 11\",\"Kreis 12\",\"Kreis 12\",\"Kreis 12\",\"Kreis 2\",\"Kreis 2\",\"Kreis 2\",\"Kreis 3\",\"Kreis 3\",\"Kreis 3\",\"Kreis 4\",\"Kreis 4\",\"Kreis 4\",\"Kreis 5\",\"Kreis 5\",\"Kreis 6\",\"Kreis 6\",\"Kreis 6\",\"Kreis 7\",\"Kreis 7\",\"Kreis 7\",\"Kreis 8\",\"Kreis 8\",\"Kreis 8\",\"Kreis 9\",\"Kreis 9\",\"Kreis 9\",\"Bewilligt\",\"Fertigerstellt\",\"Im Bau\",\"Anzahl Wohnungen nach Projektstatus, Kreis und Quartier\"],\"marker\":{\"coloraxis\":\"coloraxis\",\"colors\":[17.0,58.0,567.0,173.0,89.0,652.0,395.0,5.0,73.0,429.0,384.0,782.0,92.0,18.0,15.0,189.0,21.0,32.0,57.0,3.0,48.0,55.0,64.0,76.0,325.0,33.0,2.0,111.0,29.0,192.0,13.0,10.0,66.0,31.0,63.0,145.0,15.0,105.0,9.0,140.0,48.0,51.0,17.0,37.0,37.0,110.0,58.0,152.0,3.0,14.0,371.0,50.0,214.0,1659.0,121.0,15.0,61.0,17.0,107.0,160.0,179.0,168.0,11.0,32.0,74.0,80.0,12.0,52.0,23.0,67.0,51.0,25.0,260.0,156.0,214.0,796.0,44.1566265060241,52.30232558139535,120.34905660377359,84.11864406779661,159.16363636363636,1302.3019343986543,26.5625,14.0,309.955595026643,127.94163424124514,176.66666666666666,740.5646100116414,348.05010893246185,14.272727272727273,83.69298245614036,74.0,72.52046783625731,264.23981900452486,55.0,157.37944664031622,146.26553672316385,154.67592592592592,144.3560975609756,36.440677966101696,25.405797101449274,177.17813765182186,11.0,121.0,39.285714285714285,355.43189368770766,328.492600422833,722.8926080892608,232.05829145728643,178.25764644893727,734.9048283561261,547.7657194406856]},\"name\":\"\",\"parents\":[\"Anzahl Wohnungen nach Projektstatus, Kreis und Quartier/Bewilligt/Kreis 11\",\"Anzahl Wohnungen nach Projektstatus, Kreis und Quartier/Fertigerstellt/Kreis 11\",\"Anzahl Wohnungen nach Projektstatus, Kreis und Quartier/Im Bau/Kreis 11\",\"Anzahl Wohnungen nach Projektstatus, Kreis und Quartier/Bewilligt/Kreis 9\",\"Anzahl Wohnungen nach Projektstatus, Kreis und Quartier/Fertigerstellt/Kreis 9\",\"Anzahl Wohnungen nach Projektstatus, Kreis und Quartier/Im Bau/Kreis 9\",\"Anzahl Wohnungen nach Projektstatus, Kreis und Quartier/Bewilligt/Kreis 3\",\"Anzahl Wohnungen nach Projektstatus, Kreis und Quartier/Fertigerstellt/Kreis 3\",\"Anzahl Wohnungen nach Projektstatus, Kreis und Quartier/Im Bau/Kreis 3\",\"Anzahl Wohnungen nach Projektstatus, Kreis und Quartier/Bewilligt/Kreis 9\",\"Anzahl Wohnungen nach Projektstatus, Kreis und Quartier/Fertigerstellt/Kreis 9\",\"Anzahl Wohnungen nach Projektstatus, Kreis und Quartier/Im Bau/Kreis 9\",\"Anzahl Wohnungen nach Projektstatus, Kreis und Quartier/Bewilligt/Kreis 2\",\"Anzahl Wohnungen nach Projektstatus, Kreis und Quartier/Fertigerstellt/Kreis 2\",\"Anzahl Wohnungen nach Projektstatus, Kreis und Quartier/Im Bau/Kreis 2\",\"Anzahl Wohnungen nach Projektstatus, Kreis und Quartier/Im Bau/Kreis 5\",\"Anzahl Wohnungen nach Projektstatus, Kreis und Quartier/Bewilligt/Kreis 7\",\"Anzahl Wohnungen nach Projektstatus, Kreis und Quartier/Fertigerstellt/Kreis 7\",\"Anzahl Wohnungen nach Projektstatus, Kreis und Quartier/Im Bau/Kreis 7\",\"Anzahl Wohnungen nach Projektstatus, Kreis und Quartier/Bewilligt/Kreis 3\",\"Anzahl Wohnungen nach Projektstatus, Kreis und Quartier/Im Bau/Kreis 3\",\"Anzahl Wohnungen nach Projektstatus, Kreis und Quartier/Fertigerstellt/Kreis 5\",\"Anzahl Wohnungen nach Projektstatus, Kreis und Quartier/Im Bau/Kreis 5\",\"Anzahl Wohnungen nach Projektstatus, Kreis und Quartier/Fertigerstellt/Kreis 4\",\"Anzahl Wohnungen nach Projektstatus, Kreis und Quartier/Im Bau/Kreis 4\",\"Anzahl Wohnungen nach Projektstatus, Kreis und Quartier/Bewilligt/Kreis 7\",\"Anzahl Wohnungen nach Projektstatus, Kreis und Quartier/Fertigerstellt/Kreis 7\",\"Anzahl Wohnungen nach Projektstatus, Kreis und Quartier/Im Bau/Kreis 7\",\"Anzahl Wohnungen nach Projektstatus, Kreis und Quartier/Bewilligt/Kreis 12\",\"Anzahl Wohnungen nach Projektstatus, Kreis und Quartier/Im Bau/Kreis 12\",\"Anzahl Wohnungen nach Projektstatus, Kreis und Quartier/Bewilligt/Kreis 7\",\"Anzahl Wohnungen nach Projektstatus, Kreis und Quartier/Fertigerstellt/Kreis 7\",\"Anzahl Wohnungen nach Projektstatus, Kreis und Quartier/Im Bau/Kreis 7\",\"Anzahl Wohnungen nach Projektstatus, Kreis und Quartier/Bewilligt/Kreis 10\",\"Anzahl Wohnungen nach Projektstatus, Kreis und Quartier/Fertigerstellt/Kreis 10\",\"Anzahl Wohnungen nach Projektstatus, Kreis und Quartier/Im Bau/Kreis 10\",\"Anzahl Wohnungen nach Projektstatus, Kreis und Quartier/Fertigerstellt/Kreis 4\",\"Anzahl Wohnungen nach Projektstatus, Kreis und Quartier/Im Bau/Kreis 4\",\"Anzahl Wohnungen nach Projektstatus, Kreis und Quartier/Bewilligt/Kreis 2\",\"Anzahl Wohnungen nach Projektstatus, Kreis und Quartier/Fertigerstellt/Kreis 2\",\"Anzahl Wohnungen nach Projektstatus, Kreis und Quartier/Im Bau/Kreis 2\",\"Anzahl Wohnungen nach Projektstatus, Kreis und Quartier/Im Bau/Kreis 8\",\"Anzahl Wohnungen nach Projektstatus, Kreis und Quartier/Bewilligt/Kreis 6\",\"Anzahl Wohnungen nach Projektstatus, Kreis und Quartier/Fertigerstellt/Kreis 6\",\"Anzahl Wohnungen nach Projektstatus, Kreis und Quartier/Im Bau/Kreis 6\",\"Anzahl Wohnungen nach Projektstatus, Kreis und Quartier/Bewilligt/Kreis 11\",\"Anzahl Wohnungen nach Projektstatus, Kreis und Quartier/Fertigerstellt/Kreis 11\",\"Anzahl Wohnungen nach Projektstatus, Kreis und Quartier/Im Bau/Kreis 11\",\"Anzahl Wohnungen nach Projektstatus, Kreis und Quartier/Bewilligt/Kreis 12\",\"Anzahl Wohnungen nach Projektstatus, Kreis und Quartier/Fertigerstellt/Kreis 12\",\"Anzahl Wohnungen nach Projektstatus, Kreis und Quartier/Im Bau/Kreis 12\",\"Anzahl Wohnungen nach Projektstatus, Kreis und Quartier/Bewilligt/Kreis 11\",\"Anzahl Wohnungen nach Projektstatus, Kreis und Quartier/Fertigerstellt/Kreis 11\",\"Anzahl Wohnungen nach Projektstatus, Kreis und Quartier/Im Bau/Kreis 11\",\"Anzahl Wohnungen nach Projektstatus, Kreis und Quartier/Fertigerstellt/Kreis 8\",\"Anzahl Wohnungen nach Projektstatus, Kreis und Quartier/Im Bau/Kreis 8\",\"Anzahl Wohnungen nach Projektstatus, Kreis und Quartier/Bewilligt/Kreis 3\",\"Anzahl Wohnungen nach Projektstatus, Kreis und Quartier/Fertigerstellt/Kreis 3\",\"Anzahl Wohnungen nach Projektstatus, Kreis und Quartier/Im Bau/Kreis 3\",\"Anzahl Wohnungen nach Projektstatus, Kreis und Quartier/Bewilligt/Kreis 6\",\"Anzahl Wohnungen nach Projektstatus, Kreis und Quartier/Fertigerstellt/Kreis 6\",\"Anzahl Wohnungen nach Projektstatus, Kreis und Quartier/Im Bau/Kreis 6\",\"Anzahl Wohnungen nach Projektstatus, Kreis und Quartier/Bewilligt/Kreis 8\",\"Anzahl Wohnungen nach Projektstatus, Kreis und Quartier/Im Bau/Kreis 8\",\"Anzahl Wohnungen nach Projektstatus, Kreis und Quartier/Bewilligt/Kreis 4\",\"Anzahl Wohnungen nach Projektstatus, Kreis und Quartier/Fertigerstellt/Kreis 4\",\"Anzahl Wohnungen nach Projektstatus, Kreis und Quartier/Im Bau/Kreis 4\",\"Anzahl Wohnungen nach Projektstatus, Kreis und Quartier/Bewilligt/Kreis 10\",\"Anzahl Wohnungen nach Projektstatus, Kreis und Quartier/Fertigerstellt/Kreis 10\",\"Anzahl Wohnungen nach Projektstatus, Kreis und Quartier/Im Bau/Kreis 10\",\"Anzahl Wohnungen nach Projektstatus, Kreis und Quartier/Bewilligt/Kreis 7\",\"Anzahl Wohnungen nach Projektstatus, Kreis und Quartier/Fertigerstellt/Kreis 7\",\"Anzahl Wohnungen nach Projektstatus, Kreis und Quartier/Im Bau/Kreis 7\",\"Anzahl Wohnungen nach Projektstatus, Kreis und Quartier/Bewilligt/Kreis 2\",\"Anzahl Wohnungen nach Projektstatus, Kreis und Quartier/Fertigerstellt/Kreis 2\",\"Anzahl Wohnungen nach Projektstatus, Kreis und Quartier/Im Bau/Kreis 2\",\"Anzahl Wohnungen nach Projektstatus, Kreis und Quartier/Bewilligt\",\"Anzahl Wohnungen nach Projektstatus, Kreis und Quartier/Fertigerstellt\",\"Anzahl Wohnungen nach Projektstatus, Kreis und Quartier/Im Bau\",\"Anzahl Wohnungen nach Projektstatus, Kreis und Quartier/Bewilligt\",\"Anzahl Wohnungen nach Projektstatus, Kreis und Quartier/Fertigerstellt\",\"Anzahl Wohnungen nach Projektstatus, Kreis und Quartier/Im Bau\",\"Anzahl Wohnungen nach Projektstatus, Kreis und Quartier/Bewilligt\",\"Anzahl Wohnungen nach Projektstatus, Kreis und Quartier/Fertigerstellt\",\"Anzahl Wohnungen nach Projektstatus, Kreis und Quartier/Im Bau\",\"Anzahl Wohnungen nach Projektstatus, Kreis und Quartier/Bewilligt\",\"Anzahl Wohnungen nach Projektstatus, Kreis und Quartier/Fertigerstellt\",\"Anzahl Wohnungen nach Projektstatus, Kreis und Quartier/Im Bau\",\"Anzahl Wohnungen nach Projektstatus, Kreis und Quartier/Bewilligt\",\"Anzahl Wohnungen nach Projektstatus, Kreis und Quartier/Fertigerstellt\",\"Anzahl Wohnungen nach Projektstatus, Kreis und Quartier/Im Bau\",\"Anzahl Wohnungen nach Projektstatus, Kreis und Quartier/Bewilligt\",\"Anzahl Wohnungen nach Projektstatus, Kreis und Quartier/Fertigerstellt\",\"Anzahl Wohnungen nach Projektstatus, Kreis und Quartier/Im Bau\",\"Anzahl Wohnungen nach Projektstatus, Kreis und Quartier/Fertigerstellt\",\"Anzahl Wohnungen nach Projektstatus, Kreis und Quartier/Im Bau\",\"Anzahl Wohnungen nach Projektstatus, Kreis und Quartier/Bewilligt\",\"Anzahl Wohnungen nach Projektstatus, Kreis und Quartier/Fertigerstellt\",\"Anzahl Wohnungen nach Projektstatus, Kreis und Quartier/Im Bau\",\"Anzahl Wohnungen nach Projektstatus, Kreis und Quartier/Bewilligt\",\"Anzahl Wohnungen nach Projektstatus, Kreis und Quartier/Fertigerstellt\",\"Anzahl Wohnungen nach Projektstatus, Kreis und Quartier/Im Bau\",\"Anzahl Wohnungen nach Projektstatus, Kreis und Quartier/Bewilligt\",\"Anzahl Wohnungen nach Projektstatus, Kreis und Quartier/Fertigerstellt\",\"Anzahl Wohnungen nach Projektstatus, Kreis und Quartier/Im Bau\",\"Anzahl Wohnungen nach Projektstatus, Kreis und Quartier/Bewilligt\",\"Anzahl Wohnungen nach Projektstatus, Kreis und Quartier/Fertigerstellt\",\"Anzahl Wohnungen nach Projektstatus, Kreis und Quartier/Im Bau\",\"Anzahl Wohnungen nach Projektstatus, Kreis und Quartier\",\"Anzahl Wohnungen nach Projektstatus, Kreis und Quartier\",\"Anzahl Wohnungen nach Projektstatus, Kreis und Quartier\",\"\"],\"root\":{\"color\":\"grey\"},\"type\":\"treemap\",\"values\":[17,58,567,173,89,652,395,5,73,429,384,782,92,18,15,189,21,32,57,3,48,55,64,76,325,33,2,111,29,192,13,10,66,31,63,145,15,105,9,140,48,51,17,37,37,110,58,152,3,14,371,50,214,1659,121,15,61,17,107,160,179,168,11,32,74,80,12,52,23,67,51,25,260,156,214,796,83,86,212,177,330,2378,32,14,563,257,372,859,459,22,228,74,171,442,55,253,177,216,205,118,69,494,11,121,98,602,473,1434,1990,1929,7166,11085]}],                        {\"coloraxis\":{\"colorbar\":{\"title\":{\"text\":\"sum_ProjAnzWhg\"}},\"colorscale\":[[0.0,\"#00224e\"],[0.1111111111111111,\"#123570\"],[0.2222222222222222,\"#3b496c\"],[0.3333333333333333,\"#575d6d\"],[0.4444444444444444,\"#707173\"],[0.5555555555555556,\"#8a8678\"],[0.6666666666666666,\"#a59c74\"],[0.7777777777777778,\"#c3b369\"],[0.8888888888888888,\"#e1cc55\"],[1.0,\"#fee838\"]]},\"height\":400,\"legend\":{\"tracegroupgap\":0},\"margin\":{\"b\":25,\"l\":25,\"r\":250,\"t\":50},\"template\":{\"data\":{\"bar\":[{\"error_x\":{\"color\":\"#2a3f5f\"},\"error_y\":{\"color\":\"#2a3f5f\"},\"marker\":{\"line\":{\"color\":\"#E5ECF6\",\"width\":0.5},\"pattern\":{\"fillmode\":\"overlay\",\"size\":10,\"solidity\":0.2}},\"type\":\"bar\"}],\"barpolar\":[{\"marker\":{\"line\":{\"color\":\"#E5ECF6\",\"width\":0.5},\"pattern\":{\"fillmode\":\"overlay\",\"size\":10,\"solidity\":0.2}},\"type\":\"barpolar\"}],\"carpet\":[{\"aaxis\":{\"endlinecolor\":\"#2a3f5f\",\"gridcolor\":\"white\",\"linecolor\":\"white\",\"minorgridcolor\":\"white\",\"startlinecolor\":\"#2a3f5f\"},\"baxis\":{\"endlinecolor\":\"#2a3f5f\",\"gridcolor\":\"white\",\"linecolor\":\"white\",\"minorgridcolor\":\"white\",\"startlinecolor\":\"#2a3f5f\"},\"type\":\"carpet\"}],\"choropleth\":[{\"colorbar\":{\"outlinewidth\":0,\"ticks\":\"\"},\"type\":\"choropleth\"}],\"contour\":[{\"colorbar\":{\"outlinewidth\":0,\"ticks\":\"\"},\"colorscale\":[[0.0,\"#0d0887\"],[0.1111111111111111,\"#46039f\"],[0.2222222222222222,\"#7201a8\"],[0.3333333333333333,\"#9c179e\"],[0.4444444444444444,\"#bd3786\"],[0.5555555555555556,\"#d8576b\"],[0.6666666666666666,\"#ed7953\"],[0.7777777777777778,\"#fb9f3a\"],[0.8888888888888888,\"#fdca26\"],[1.0,\"#f0f921\"]],\"type\":\"contour\"}],\"contourcarpet\":[{\"colorbar\":{\"outlinewidth\":0,\"ticks\":\"\"},\"type\":\"contourcarpet\"}],\"heatmap\":[{\"colorbar\":{\"outlinewidth\":0,\"ticks\":\"\"},\"colorscale\":[[0.0,\"#0d0887\"],[0.1111111111111111,\"#46039f\"],[0.2222222222222222,\"#7201a8\"],[0.3333333333333333,\"#9c179e\"],[0.4444444444444444,\"#bd3786\"],[0.5555555555555556,\"#d8576b\"],[0.6666666666666666,\"#ed7953\"],[0.7777777777777778,\"#fb9f3a\"],[0.8888888888888888,\"#fdca26\"],[1.0,\"#f0f921\"]],\"type\":\"heatmap\"}],\"heatmapgl\":[{\"colorbar\":{\"outlinewidth\":0,\"ticks\":\"\"},\"colorscale\":[[0.0,\"#0d0887\"],[0.1111111111111111,\"#46039f\"],[0.2222222222222222,\"#7201a8\"],[0.3333333333333333,\"#9c179e\"],[0.4444444444444444,\"#bd3786\"],[0.5555555555555556,\"#d8576b\"],[0.6666666666666666,\"#ed7953\"],[0.7777777777777778,\"#fb9f3a\"],[0.8888888888888888,\"#fdca26\"],[1.0,\"#f0f921\"]],\"type\":\"heatmapgl\"}],\"histogram\":[{\"marker\":{\"pattern\":{\"fillmode\":\"overlay\",\"size\":10,\"solidity\":0.2}},\"type\":\"histogram\"}],\"histogram2d\":[{\"colorbar\":{\"outlinewidth\":0,\"ticks\":\"\"},\"colorscale\":[[0.0,\"#0d0887\"],[0.1111111111111111,\"#46039f\"],[0.2222222222222222,\"#7201a8\"],[0.3333333333333333,\"#9c179e\"],[0.4444444444444444,\"#bd3786\"],[0.5555555555555556,\"#d8576b\"],[0.6666666666666666,\"#ed7953\"],[0.7777777777777778,\"#fb9f3a\"],[0.8888888888888888,\"#fdca26\"],[1.0,\"#f0f921\"]],\"type\":\"histogram2d\"}],\"histogram2dcontour\":[{\"colorbar\":{\"outlinewidth\":0,\"ticks\":\"\"},\"colorscale\":[[0.0,\"#0d0887\"],[0.1111111111111111,\"#46039f\"],[0.2222222222222222,\"#7201a8\"],[0.3333333333333333,\"#9c179e\"],[0.4444444444444444,\"#bd3786\"],[0.5555555555555556,\"#d8576b\"],[0.6666666666666666,\"#ed7953\"],[0.7777777777777778,\"#fb9f3a\"],[0.8888888888888888,\"#fdca26\"],[1.0,\"#f0f921\"]],\"type\":\"histogram2dcontour\"}],\"mesh3d\":[{\"colorbar\":{\"outlinewidth\":0,\"ticks\":\"\"},\"type\":\"mesh3d\"}],\"parcoords\":[{\"line\":{\"colorbar\":{\"outlinewidth\":0,\"ticks\":\"\"}},\"type\":\"parcoords\"}],\"pie\":[{\"automargin\":true,\"type\":\"pie\"}],\"scatter\":[{\"marker\":{\"colorbar\":{\"outlinewidth\":0,\"ticks\":\"\"}},\"type\":\"scatter\"}],\"scatter3d\":[{\"line\":{\"colorbar\":{\"outlinewidth\":0,\"ticks\":\"\"}},\"marker\":{\"colorbar\":{\"outlinewidth\":0,\"ticks\":\"\"}},\"type\":\"scatter3d\"}],\"scattercarpet\":[{\"marker\":{\"colorbar\":{\"outlinewidth\":0,\"ticks\":\"\"}},\"type\":\"scattercarpet\"}],\"scattergeo\":[{\"marker\":{\"colorbar\":{\"outlinewidth\":0,\"ticks\":\"\"}},\"type\":\"scattergeo\"}],\"scattergl\":[{\"marker\":{\"colorbar\":{\"outlinewidth\":0,\"ticks\":\"\"}},\"type\":\"scattergl\"}],\"scattermapbox\":[{\"marker\":{\"colorbar\":{\"outlinewidth\":0,\"ticks\":\"\"}},\"type\":\"scattermapbox\"}],\"scatterpolar\":[{\"marker\":{\"colorbar\":{\"outlinewidth\":0,\"ticks\":\"\"}},\"type\":\"scatterpolar\"}],\"scatterpolargl\":[{\"marker\":{\"colorbar\":{\"outlinewidth\":0,\"ticks\":\"\"}},\"type\":\"scatterpolargl\"}],\"scatterternary\":[{\"marker\":{\"colorbar\":{\"outlinewidth\":0,\"ticks\":\"\"}},\"type\":\"scatterternary\"}],\"surface\":[{\"colorbar\":{\"outlinewidth\":0,\"ticks\":\"\"},\"colorscale\":[[0.0,\"#0d0887\"],[0.1111111111111111,\"#46039f\"],[0.2222222222222222,\"#7201a8\"],[0.3333333333333333,\"#9c179e\"],[0.4444444444444444,\"#bd3786\"],[0.5555555555555556,\"#d8576b\"],[0.6666666666666666,\"#ed7953\"],[0.7777777777777778,\"#fb9f3a\"],[0.8888888888888888,\"#fdca26\"],[1.0,\"#f0f921\"]],\"type\":\"surface\"}],\"table\":[{\"cells\":{\"fill\":{\"color\":\"#EBF0F8\"},\"line\":{\"color\":\"white\"}},\"header\":{\"fill\":{\"color\":\"#C8D4E3\"},\"line\":{\"color\":\"white\"}},\"type\":\"table\"}]},\"layout\":{\"annotationdefaults\":{\"arrowcolor\":\"#2a3f5f\",\"arrowhead\":0,\"arrowwidth\":1},\"autotypenumbers\":\"strict\",\"coloraxis\":{\"colorbar\":{\"outlinewidth\":0,\"ticks\":\"\"}},\"colorscale\":{\"diverging\":[[0,\"#8e0152\"],[0.1,\"#c51b7d\"],[0.2,\"#de77ae\"],[0.3,\"#f1b6da\"],[0.4,\"#fde0ef\"],[0.5,\"#f7f7f7\"],[0.6,\"#e6f5d0\"],[0.7,\"#b8e186\"],[0.8,\"#7fbc41\"],[0.9,\"#4d9221\"],[1,\"#276419\"]],\"sequential\":[[0.0,\"#0d0887\"],[0.1111111111111111,\"#46039f\"],[0.2222222222222222,\"#7201a8\"],[0.3333333333333333,\"#9c179e\"],[0.4444444444444444,\"#bd3786\"],[0.5555555555555556,\"#d8576b\"],[0.6666666666666666,\"#ed7953\"],[0.7777777777777778,\"#fb9f3a\"],[0.8888888888888888,\"#fdca26\"],[1.0,\"#f0f921\"]],\"sequentialminus\":[[0.0,\"#0d0887\"],[0.1111111111111111,\"#46039f\"],[0.2222222222222222,\"#7201a8\"],[0.3333333333333333,\"#9c179e\"],[0.4444444444444444,\"#bd3786\"],[0.5555555555555556,\"#d8576b\"],[0.6666666666666666,\"#ed7953\"],[0.7777777777777778,\"#fb9f3a\"],[0.8888888888888888,\"#fdca26\"],[1.0,\"#f0f921\"]]},\"colorway\":[\"#636efa\",\"#EF553B\",\"#00cc96\",\"#ab63fa\",\"#FFA15A\",\"#19d3f3\",\"#FF6692\",\"#B6E880\",\"#FF97FF\",\"#FECB52\"],\"font\":{\"color\":\"#2a3f5f\"},\"geo\":{\"bgcolor\":\"white\",\"lakecolor\":\"white\",\"landcolor\":\"#E5ECF6\",\"showlakes\":true,\"showland\":true,\"subunitcolor\":\"white\"},\"hoverlabel\":{\"align\":\"left\"},\"hovermode\":\"closest\",\"mapbox\":{\"style\":\"light\"},\"paper_bgcolor\":\"white\",\"plot_bgcolor\":\"#E5ECF6\",\"polar\":{\"angularaxis\":{\"gridcolor\":\"white\",\"linecolor\":\"white\",\"ticks\":\"\"},\"bgcolor\":\"#E5ECF6\",\"radialaxis\":{\"gridcolor\":\"white\",\"linecolor\":\"white\",\"ticks\":\"\"}},\"scene\":{\"xaxis\":{\"backgroundcolor\":\"#E5ECF6\",\"gridcolor\":\"white\",\"gridwidth\":2,\"linecolor\":\"white\",\"showbackground\":true,\"ticks\":\"\",\"zerolinecolor\":\"white\"},\"yaxis\":{\"backgroundcolor\":\"#E5ECF6\",\"gridcolor\":\"white\",\"gridwidth\":2,\"linecolor\":\"white\",\"showbackground\":true,\"ticks\":\"\",\"zerolinecolor\":\"white\"},\"zaxis\":{\"backgroundcolor\":\"#E5ECF6\",\"gridcolor\":\"white\",\"gridwidth\":2,\"linecolor\":\"white\",\"showbackground\":true,\"ticks\":\"\",\"zerolinecolor\":\"white\"}},\"shapedefaults\":{\"line\":{\"color\":\"#2a3f5f\"}},\"ternary\":{\"aaxis\":{\"gridcolor\":\"white\",\"linecolor\":\"white\",\"ticks\":\"\"},\"baxis\":{\"gridcolor\":\"white\",\"linecolor\":\"white\",\"ticks\":\"\"},\"bgcolor\":\"#E5ECF6\",\"caxis\":{\"gridcolor\":\"white\",\"linecolor\":\"white\",\"ticks\":\"\"}},\"title\":{\"x\":0.05},\"xaxis\":{\"automargin\":true,\"gridcolor\":\"white\",\"linecolor\":\"white\",\"ticks\":\"\",\"title\":{\"standoff\":15},\"zerolinecolor\":\"white\",\"zerolinewidth\":2},\"yaxis\":{\"automargin\":true,\"gridcolor\":\"white\",\"linecolor\":\"white\",\"ticks\":\"\",\"title\":{\"standoff\":15},\"zerolinecolor\":\"white\",\"zerolinewidth\":2}}},\"width\":1100},                        {\"responsive\": true}                    ).then(function(){\n",
       "                            \n",
       "var gd = document.getElementById('7c2c95eb-f491-40b0-acd7-9c4217a4d781');\n",
       "var x = new MutationObserver(function (mutations, observer) {{\n",
       "        var display = window.getComputedStyle(gd).display;\n",
       "        if (!display || display === 'none') {{\n",
       "            console.log([gd, 'removed!']);\n",
       "            Plotly.purge(gd);\n",
       "            observer.disconnect();\n",
       "        }}\n",
       "}});\n",
       "\n",
       "// Listen for the removal of the full notebook cells\n",
       "var notebookContainer = gd.closest('#notebook-container');\n",
       "if (notebookContainer) {{\n",
       "    x.observe(notebookContainer, {childList: true});\n",
       "}}\n",
       "\n",
       "// Listen for the clearing of the current output cell\n",
       "var outputEl = gd.closest('.output');\n",
       "if (outputEl) {{\n",
       "    x.observe(outputEl, {childList: true});\n",
       "}}\n",
       "\n",
       "                        })                };                });            </script>        </div>"
      ]
     },
     "metadata": {},
     "output_type": "display_data"
    }
   ],
   "source": [
    "fig = px.treemap(myTreemapAgg.query('sum_ProjAnzWhg >0').reset_index(), path=[px.Constant(\"Anzahl Wohnungen nach Projektstatus, Kreis und Quartier\"),'ProjStatus', 'KreisLang', 'QuarLang']\n",
    "                 , values='sum_ProjAnzWhg'\n",
    "                 , color='sum_ProjAnzWhg'\n",
    "                 ## bei discrete scales (bei Klassen und Strings):                 \n",
    "                 #, color_discrete_map={'(?)':'lightgrey','EVP':'gold', 'SP':'#FF3030', 'PdA':'#EE3B3B', 'Grüne':'#A2CD5A','GLP':'#CAFF70','Die Mitte':'orange','FDP':'#104E8B','AL':'deeppink','SVP':'forestgreen', 'FL ZÜRI':'#8B864E','Volt':'#lightblue' }                \n",
    "                 ## bei continuous scales (bei Zahlenwerten):\n",
    "                , color_continuous_scale='cividis'\n",
    "                #, color_continuous_midpoint=np.average(df['AnzBestWir'], weights=df['AnzBestWir'])  \n",
    "                 ,height=400\n",
    "                 ,width=1100                 \n",
    "                )\n",
    "fig.update_traces(root_color=\"grey\")\n",
    "fig.update_layout(margin = dict(t=50, l=25, r=250, b=25))\n",
    "fig.show()"
   ]
  },
  {
   "cell_type": "markdown",
   "metadata": {},
   "source": [
    "#### Anzahl Wohnungen nach Projektstatus, Kreis und Quartier"
   ]
  },
  {
   "cell_type": "code",
   "execution_count": 113,
   "metadata": {},
   "outputs": [
    {
     "data": {
      "text/plain": [
       "QuarSort           int64\n",
       "QuarLang          object\n",
       "KreisSort          int64\n",
       "KreisLang         object\n",
       "ProjStatus        object\n",
       "ProjAnzGbd         int64\n",
       "ProjKosten         int64\n",
       "ProjRauminhalt     int64\n",
       "ProjAnzWhg         int64\n",
       "Whg_1_3_Zi         int64\n",
       "Whg_4plus_Zi       int64\n",
       "dtype: object"
      ]
     },
     "execution_count": 113,
     "metadata": {},
     "output_type": "execute_result"
    }
   ],
   "source": [
    "data2betested.dtypes"
   ]
  },
  {
   "cell_type": "code",
   "execution_count": 123,
   "metadata": {
    "tags": []
   },
   "outputs": [
    {
     "data": {
      "text/html": [
       "<div>\n",
       "<style scoped>\n",
       "    .dataframe tbody tr th:only-of-type {\n",
       "        vertical-align: middle;\n",
       "    }\n",
       "\n",
       "    .dataframe tbody tr th {\n",
       "        vertical-align: top;\n",
       "    }\n",
       "\n",
       "    .dataframe thead th {\n",
       "        text-align: right;\n",
       "    }\n",
       "</style>\n",
       "<table border=\"1\" class=\"dataframe\">\n",
       "  <thead>\n",
       "    <tr style=\"text-align: right;\">\n",
       "      <th></th>\n",
       "      <th>Jahr</th>\n",
       "      <th>QuarLang</th>\n",
       "      <th>KreisLang</th>\n",
       "      <th>ProjStatus</th>\n",
       "      <th>sum_ProjKosten</th>\n",
       "      <th>sum_Whg_1_3_Zi</th>\n",
       "      <th>sum_Whg_4plus_Zi</th>\n",
       "    </tr>\n",
       "  </thead>\n",
       "  <tbody>\n",
       "    <tr>\n",
       "      <th>0</th>\n",
       "      <td>2021-01-01</td>\n",
       "      <td>Seebach</td>\n",
       "      <td>Kreis 11</td>\n",
       "      <td>Im Bau</td>\n",
       "      <td>867143</td>\n",
       "      <td>1098</td>\n",
       "      <td>561</td>\n",
       "    </tr>\n",
       "    <tr>\n",
       "      <th>1</th>\n",
       "      <td>2021-01-01</td>\n",
       "      <td>Wollishofen</td>\n",
       "      <td>Kreis 2</td>\n",
       "      <td>Im Bau</td>\n",
       "      <td>320688</td>\n",
       "      <td>611</td>\n",
       "      <td>185</td>\n",
       "    </tr>\n",
       "    <tr>\n",
       "      <th>2</th>\n",
       "      <td>2021-01-01</td>\n",
       "      <td>Altstetten</td>\n",
       "      <td>Kreis 9</td>\n",
       "      <td>Im Bau</td>\n",
       "      <td>593275</td>\n",
       "      <td>601</td>\n",
       "      <td>181</td>\n",
       "    </tr>\n",
       "  </tbody>\n",
       "</table>\n",
       "</div>"
      ],
      "text/plain": [
       "        Jahr     QuarLang KreisLang ProjStatus  sum_ProjKosten  sum_Whg_1_3_Zi  sum_Whg_4plus_Zi\n",
       "0 2021-01-01      Seebach  Kreis 11     Im Bau          867143            1098               561\n",
       "1 2021-01-01  Wollishofen   Kreis 2     Im Bau          320688             611               185\n",
       "2 2021-01-01   Altstetten   Kreis 9     Im Bau          593275             601               181"
      ]
     },
     "execution_count": 123,
     "metadata": {},
     "output_type": "execute_result"
    }
   ],
   "source": [
    "myTreemapAgg = data2betested.loc[\"2021\"]  \\\n",
    "    .groupby(['Jahr', 'QuarLang', 'KreisLang', 'ProjStatus']) \\\n",
    "    .agg(sum_ProjKosten=('ProjKosten', 'sum'), sum_Whg_1_3_Zi=('Whg_1_3_Zi', 'sum'),sum_Whg_4plus_Zi=('Whg_4plus_Zi', 'sum'))\\\n",
    "    .sort_values('sum_Whg_1_3_Zi', ascending=False) \n",
    "\n",
    "myTreemapAgg.reset_index().head(3)"
   ]
  },
  {
   "cell_type": "code",
   "execution_count": 125,
   "metadata": {},
   "outputs": [
    {
     "data": {
      "application/vnd.plotly.v1+json": {
       "config": {
        "plotlyServerURL": "https://plot.ly"
       },
       "data": [
        {
         "branchvalues": "total",
         "customdata": [
          [
           "Im Bau"
          ],
          [
           "Im Bau"
          ],
          [
           "Fertigerstellt"
          ],
          [
           "Bewilligt"
          ],
          [
           "Bewilligt"
          ],
          [
           "Im Bau"
          ],
          [
           "Fertigerstellt"
          ],
          [
           "Im Bau"
          ],
          [
           "Bewilligt"
          ],
          [
           "Im Bau"
          ],
          [
           "Fertigerstellt"
          ],
          [
           "Im Bau"
          ],
          [
           "Fertigerstellt"
          ],
          [
           "Im Bau"
          ],
          [
           "Im Bau"
          ],
          [
           "Im Bau"
          ],
          [
           "Im Bau"
          ],
          [
           "Bewilligt"
          ],
          [
           "Bewilligt"
          ],
          [
           "Fertigerstellt"
          ],
          [
           "Bewilligt"
          ],
          [
           "Fertigerstellt"
          ],
          [
           "Bewilligt"
          ],
          [
           "Bewilligt"
          ],
          [
           "Im Bau"
          ],
          [
           "Fertigerstellt"
          ],
          [
           "Bewilligt"
          ],
          [
           "Fertigerstellt"
          ],
          [
           "Bewilligt"
          ],
          [
           "Fertigerstellt"
          ],
          [
           "Im Bau"
          ],
          [
           "Bewilligt"
          ],
          [
           "Bewilligt"
          ],
          [
           "Fertigerstellt"
          ],
          [
           "Im Bau"
          ],
          [
           "Fertigerstellt"
          ],
          [
           "Im Bau"
          ],
          [
           "Fertigerstellt"
          ],
          [
           "Im Bau"
          ],
          [
           "Im Bau"
          ],
          [
           "Im Bau"
          ],
          [
           "Im Bau"
          ],
          [
           "Fertigerstellt"
          ],
          [
           "Bewilligt"
          ],
          [
           "Im Bau"
          ],
          [
           "Bewilligt"
          ],
          [
           "Bewilligt"
          ],
          [
           "Fertigerstellt"
          ],
          [
           "Fertigerstellt"
          ],
          [
           "Im Bau"
          ],
          [
           "Bewilligt"
          ],
          [
           "Fertigerstellt"
          ],
          [
           "Bewilligt"
          ],
          [
           "Fertigerstellt"
          ],
          [
           "Im Bau"
          ],
          [
           "Fertigerstellt"
          ],
          [
           "Fertigerstellt"
          ],
          [
           "Im Bau"
          ],
          [
           "Bewilligt"
          ],
          [
           "Im Bau"
          ],
          [
           "Bewilligt"
          ],
          [
           "Im Bau"
          ],
          [
           "Fertigerstellt"
          ],
          [
           "Fertigerstellt"
          ],
          [
           "Bewilligt"
          ],
          [
           "Fertigerstellt"
          ],
          [
           "Im Bau"
          ],
          [
           "Im Bau"
          ],
          [
           "Im Bau"
          ],
          [
           "Fertigerstellt"
          ],
          [
           "Bewilligt"
          ],
          [
           "Im Bau"
          ],
          [
           "Bewilligt"
          ],
          [
           "Fertigerstellt"
          ],
          [
           "Im Bau"
          ],
          [
           "Fertigerstellt"
          ],
          [
           "Im Bau"
          ],
          [
           "Bewilligt"
          ],
          [
           "Fertigerstellt"
          ],
          [
           "Im Bau"
          ],
          [
           "Bewilligt"
          ],
          [
           "Im Bau"
          ],
          [
           "Bewilligt"
          ],
          [
           "Fertigerstellt"
          ],
          [
           "Im Bau"
          ],
          [
           "Bewilligt"
          ],
          [
           "Fertigerstellt"
          ],
          [
           "Im Bau"
          ],
          [
           "Bewilligt"
          ],
          [
           "Fertigerstellt"
          ],
          [
           "Im Bau"
          ],
          [
           "Bewilligt"
          ],
          [
           "Fertigerstellt"
          ],
          [
           "Im Bau"
          ],
          [
           "Bewilligt"
          ],
          [
           "Fertigerstellt"
          ],
          [
           "Im Bau"
          ],
          [
           "Bewilligt"
          ],
          [
           "Fertigerstellt"
          ],
          [
           "Im Bau"
          ],
          [
           "Bewilligt"
          ],
          [
           "Fertigerstellt"
          ],
          [
           "Im Bau"
          ],
          [
           "(?)"
          ]
         ],
         "domain": {
          "x": [
           0,
           1
          ],
          "y": [
           0,
           1
          ]
         },
         "hovertemplate": "labels=%{label}<br>sum_ProjKosten=%{value}<br>parent=%{parent}<br>id=%{id}<br>ProjStatus=%{customdata[0]}<extra></extra>",
         "ids": [
          "Anzahl Wohnungen nach Projektstatus, Kreis und Quartier/Im Bau/Kreis 2/Wollishofen",
          "Anzahl Wohnungen nach Projektstatus, Kreis und Quartier/Im Bau/Kreis 6/Oberstrass",
          "Anzahl Wohnungen nach Projektstatus, Kreis und Quartier/Fertigerstellt/Kreis 6/Oberstrass",
          "Anzahl Wohnungen nach Projektstatus, Kreis und Quartier/Bewilligt/Kreis 6/Oberstrass",
          "Anzahl Wohnungen nach Projektstatus, Kreis und Quartier/Bewilligt/Kreis 11/Seebach",
          "Anzahl Wohnungen nach Projektstatus, Kreis und Quartier/Im Bau/Kreis 11/Seebach",
          "Anzahl Wohnungen nach Projektstatus, Kreis und Quartier/Fertigerstellt/Kreis 8/Seefeld",
          "Anzahl Wohnungen nach Projektstatus, Kreis und Quartier/Im Bau/Kreis 3/Sihlfeld",
          "Anzahl Wohnungen nach Projektstatus, Kreis und Quartier/Bewilligt/Kreis 7/Hottingen",
          "Anzahl Wohnungen nach Projektstatus, Kreis und Quartier/Im Bau/Kreis 12/Hirzenbach",
          "Anzahl Wohnungen nach Projektstatus, Kreis und Quartier/Fertigerstellt/Kreis 7/Hirslanden",
          "Anzahl Wohnungen nach Projektstatus, Kreis und Quartier/Im Bau/Kreis 3/Friesenberg",
          "Anzahl Wohnungen nach Projektstatus, Kreis und Quartier/Fertigerstellt/Kreis 7/Fluntern",
          "Anzahl Wohnungen nach Projektstatus, Kreis und Quartier/Im Bau/Kreis 8/Weinegg",
          "Anzahl Wohnungen nach Projektstatus, Kreis und Quartier/Im Bau/Kreis 4/Hard",
          "Anzahl Wohnungen nach Projektstatus, Kreis und Quartier/Im Bau/Kreis 3/Alt-Wiedikon",
          "Anzahl Wohnungen nach Projektstatus, Kreis und Quartier/Im Bau/Kreis 9/Albisrieden",
          "Anzahl Wohnungen nach Projektstatus, Kreis und Quartier/Bewilligt/Kreis 4/Werd",
          "Anzahl Wohnungen nach Projektstatus, Kreis und Quartier/Bewilligt/Kreis 10/Wipkingen",
          "Anzahl Wohnungen nach Projektstatus, Kreis und Quartier/Fertigerstellt/Kreis 12/Schwamendingen-Mitte",
          "Anzahl Wohnungen nach Projektstatus, Kreis und Quartier/Bewilligt/Kreis 5/Gewerbeschule",
          "Anzahl Wohnungen nach Projektstatus, Kreis und Quartier/Fertigerstellt/Kreis 11/Oerlikon",
          "Anzahl Wohnungen nach Projektstatus, Kreis und Quartier/Bewilligt/Kreis 11/Oerlikon",
          "Anzahl Wohnungen nach Projektstatus, Kreis und Quartier/Bewilligt/Kreis 2/Wollishofen",
          "Anzahl Wohnungen nach Projektstatus, Kreis und Quartier/Im Bau/Kreis 7/Witikon",
          "Anzahl Wohnungen nach Projektstatus, Kreis und Quartier/Fertigerstellt/Kreis 7/Witikon",
          "Anzahl Wohnungen nach Projektstatus, Kreis und Quartier/Bewilligt/Kreis 7/Witikon",
          "Anzahl Wohnungen nach Projektstatus, Kreis und Quartier/Fertigerstellt/Kreis 11/Seebach",
          "Anzahl Wohnungen nach Projektstatus, Kreis und Quartier/Bewilligt/Kreis 2/Leimbach",
          "Anzahl Wohnungen nach Projektstatus, Kreis und Quartier/Fertigerstellt/Kreis 2/Wollishofen",
          "Anzahl Wohnungen nach Projektstatus, Kreis und Quartier/Im Bau/Kreis 10/Höngg",
          "Anzahl Wohnungen nach Projektstatus, Kreis und Quartier/Bewilligt/Kreis 2/Enge",
          "Anzahl Wohnungen nach Projektstatus, Kreis und Quartier/Bewilligt/Kreis 3/Alt-Wiedikon",
          "Anzahl Wohnungen nach Projektstatus, Kreis und Quartier/Fertigerstellt/Kreis 4/Werd",
          "Anzahl Wohnungen nach Projektstatus, Kreis und Quartier/Im Bau/Kreis 10/Wipkingen",
          "Anzahl Wohnungen nach Projektstatus, Kreis und Quartier/Fertigerstellt/Kreis 1/Hochschulen",
          "Anzahl Wohnungen nach Projektstatus, Kreis und Quartier/Im Bau/Kreis 7/Fluntern",
          "Anzahl Wohnungen nach Projektstatus, Kreis und Quartier/Fertigerstellt/Kreis 6/Unterstrass",
          "Anzahl Wohnungen nach Projektstatus, Kreis und Quartier/Im Bau/Kreis 4/Werd",
          "Anzahl Wohnungen nach Projektstatus, Kreis und Quartier/Im Bau/Kreis 6/Unterstrass",
          "Anzahl Wohnungen nach Projektstatus, Kreis und Quartier/Im Bau/Kreis 7/Hottingen",
          "Anzahl Wohnungen nach Projektstatus, Kreis und Quartier/Im Bau/Kreis 2/Enge",
          "Anzahl Wohnungen nach Projektstatus, Kreis und Quartier/Fertigerstellt/Kreis 8/Weinegg",
          "Anzahl Wohnungen nach Projektstatus, Kreis und Quartier/Bewilligt/Kreis 6/Unterstrass",
          "Anzahl Wohnungen nach Projektstatus, Kreis und Quartier/Im Bau/Kreis 12/Schwamendingen-Mitte",
          "Anzahl Wohnungen nach Projektstatus, Kreis und Quartier/Bewilligt/Kreis 8/Weinegg",
          "Anzahl Wohnungen nach Projektstatus, Kreis und Quartier/Bewilligt/Kreis 11/Affoltern",
          "Anzahl Wohnungen nach Projektstatus, Kreis und Quartier/Fertigerstellt/Kreis 1/Lindenhof",
          "Anzahl Wohnungen nach Projektstatus, Kreis und Quartier/Fertigerstellt/Kreis 11/Affoltern",
          "Anzahl Wohnungen nach Projektstatus, Kreis und Quartier/Im Bau/Kreis 11/Affoltern",
          "Anzahl Wohnungen nach Projektstatus, Kreis und Quartier/Bewilligt/Kreis 9/Albisrieden",
          "Anzahl Wohnungen nach Projektstatus, Kreis und Quartier/Fertigerstellt/Kreis 9/Albisrieden",
          "Anzahl Wohnungen nach Projektstatus, Kreis und Quartier/Bewilligt/Kreis 9/Altstetten",
          "Anzahl Wohnungen nach Projektstatus, Kreis und Quartier/Fertigerstellt/Kreis 9/Altstetten",
          "Anzahl Wohnungen nach Projektstatus, Kreis und Quartier/Im Bau/Kreis 9/Altstetten",
          "Anzahl Wohnungen nach Projektstatus, Kreis und Quartier/Fertigerstellt/Kreis 2/Enge",
          "Anzahl Wohnungen nach Projektstatus, Kreis und Quartier/Fertigerstellt/Kreis 5/Escher Wyss",
          "Anzahl Wohnungen nach Projektstatus, Kreis und Quartier/Im Bau/Kreis 5/Escher Wyss",
          "Anzahl Wohnungen nach Projektstatus, Kreis und Quartier/Bewilligt/Kreis 7/Fluntern",
          "Anzahl Wohnungen nach Projektstatus, Kreis und Quartier/Im Bau/Kreis 5/Gewerbeschule",
          "Anzahl Wohnungen nach Projektstatus, Kreis und Quartier/Bewilligt/Kreis 7/Hirslanden",
          "Anzahl Wohnungen nach Projektstatus, Kreis und Quartier/Im Bau/Kreis 7/Hirslanden",
          "Anzahl Wohnungen nach Projektstatus, Kreis und Quartier/Fertigerstellt/Kreis 12/Hirzenbach",
          "Anzahl Wohnungen nach Projektstatus, Kreis und Quartier/Fertigerstellt/Kreis 7/Hottingen",
          "Anzahl Wohnungen nach Projektstatus, Kreis und Quartier/Bewilligt/Kreis 10/Höngg",
          "Anzahl Wohnungen nach Projektstatus, Kreis und Quartier/Fertigerstellt/Kreis 2/Leimbach",
          "Anzahl Wohnungen nach Projektstatus, Kreis und Quartier/Im Bau/Kreis 2/Leimbach",
          "Anzahl Wohnungen nach Projektstatus, Kreis und Quartier/Im Bau/Kreis 11/Oerlikon",
          "Anzahl Wohnungen nach Projektstatus, Kreis und Quartier/Im Bau/Kreis 4/Langstrasse",
          "Anzahl Wohnungen nach Projektstatus, Kreis und Quartier/Fertigerstellt/Kreis 1",
          "Anzahl Wohnungen nach Projektstatus, Kreis und Quartier/Bewilligt/Kreis 10",
          "Anzahl Wohnungen nach Projektstatus, Kreis und Quartier/Im Bau/Kreis 10",
          "Anzahl Wohnungen nach Projektstatus, Kreis und Quartier/Bewilligt/Kreis 11",
          "Anzahl Wohnungen nach Projektstatus, Kreis und Quartier/Fertigerstellt/Kreis 11",
          "Anzahl Wohnungen nach Projektstatus, Kreis und Quartier/Im Bau/Kreis 11",
          "Anzahl Wohnungen nach Projektstatus, Kreis und Quartier/Fertigerstellt/Kreis 12",
          "Anzahl Wohnungen nach Projektstatus, Kreis und Quartier/Im Bau/Kreis 12",
          "Anzahl Wohnungen nach Projektstatus, Kreis und Quartier/Bewilligt/Kreis 2",
          "Anzahl Wohnungen nach Projektstatus, Kreis und Quartier/Fertigerstellt/Kreis 2",
          "Anzahl Wohnungen nach Projektstatus, Kreis und Quartier/Im Bau/Kreis 2",
          "Anzahl Wohnungen nach Projektstatus, Kreis und Quartier/Bewilligt/Kreis 3",
          "Anzahl Wohnungen nach Projektstatus, Kreis und Quartier/Im Bau/Kreis 3",
          "Anzahl Wohnungen nach Projektstatus, Kreis und Quartier/Bewilligt/Kreis 4",
          "Anzahl Wohnungen nach Projektstatus, Kreis und Quartier/Fertigerstellt/Kreis 4",
          "Anzahl Wohnungen nach Projektstatus, Kreis und Quartier/Im Bau/Kreis 4",
          "Anzahl Wohnungen nach Projektstatus, Kreis und Quartier/Bewilligt/Kreis 5",
          "Anzahl Wohnungen nach Projektstatus, Kreis und Quartier/Fertigerstellt/Kreis 5",
          "Anzahl Wohnungen nach Projektstatus, Kreis und Quartier/Im Bau/Kreis 5",
          "Anzahl Wohnungen nach Projektstatus, Kreis und Quartier/Bewilligt/Kreis 6",
          "Anzahl Wohnungen nach Projektstatus, Kreis und Quartier/Fertigerstellt/Kreis 6",
          "Anzahl Wohnungen nach Projektstatus, Kreis und Quartier/Im Bau/Kreis 6",
          "Anzahl Wohnungen nach Projektstatus, Kreis und Quartier/Bewilligt/Kreis 7",
          "Anzahl Wohnungen nach Projektstatus, Kreis und Quartier/Fertigerstellt/Kreis 7",
          "Anzahl Wohnungen nach Projektstatus, Kreis und Quartier/Im Bau/Kreis 7",
          "Anzahl Wohnungen nach Projektstatus, Kreis und Quartier/Bewilligt/Kreis 8",
          "Anzahl Wohnungen nach Projektstatus, Kreis und Quartier/Fertigerstellt/Kreis 8",
          "Anzahl Wohnungen nach Projektstatus, Kreis und Quartier/Im Bau/Kreis 8",
          "Anzahl Wohnungen nach Projektstatus, Kreis und Quartier/Bewilligt/Kreis 9",
          "Anzahl Wohnungen nach Projektstatus, Kreis und Quartier/Fertigerstellt/Kreis 9",
          "Anzahl Wohnungen nach Projektstatus, Kreis und Quartier/Im Bau/Kreis 9",
          "Anzahl Wohnungen nach Projektstatus, Kreis und Quartier/Bewilligt",
          "Anzahl Wohnungen nach Projektstatus, Kreis und Quartier/Fertigerstellt",
          "Anzahl Wohnungen nach Projektstatus, Kreis und Quartier/Im Bau",
          "Anzahl Wohnungen nach Projektstatus, Kreis und Quartier"
         ],
         "labels": [
          "Wollishofen",
          "Oberstrass",
          "Oberstrass",
          "Oberstrass",
          "Seebach",
          "Seebach",
          "Seefeld",
          "Sihlfeld",
          "Hottingen",
          "Hirzenbach",
          "Hirslanden",
          "Friesenberg",
          "Fluntern",
          "Weinegg",
          "Hard",
          "Alt-Wiedikon",
          "Albisrieden",
          "Werd",
          "Wipkingen",
          "Schwamendingen-Mitte",
          "Gewerbeschule",
          "Oerlikon",
          "Oerlikon",
          "Wollishofen",
          "Witikon",
          "Witikon",
          "Witikon",
          "Seebach",
          "Leimbach",
          "Wollishofen",
          "Höngg",
          "Enge",
          "Alt-Wiedikon",
          "Werd",
          "Wipkingen",
          "Hochschulen",
          "Fluntern",
          "Unterstrass",
          "Werd",
          "Unterstrass",
          "Hottingen",
          "Enge",
          "Weinegg",
          "Unterstrass",
          "Schwamendingen-Mitte",
          "Weinegg",
          "Affoltern",
          "Lindenhof",
          "Affoltern",
          "Affoltern",
          "Albisrieden",
          "Albisrieden",
          "Altstetten",
          "Altstetten",
          "Altstetten",
          "Enge",
          "Escher Wyss",
          "Escher Wyss",
          "Fluntern",
          "Gewerbeschule",
          "Hirslanden",
          "Hirslanden",
          "Hirzenbach",
          "Hottingen",
          "Höngg",
          "Leimbach",
          "Leimbach",
          "Oerlikon",
          "Langstrasse",
          "Kreis 1",
          "Kreis 10",
          "Kreis 10",
          "Kreis 11",
          "Kreis 11",
          "Kreis 11",
          "Kreis 12",
          "Kreis 12",
          "Kreis 2",
          "Kreis 2",
          "Kreis 2",
          "Kreis 3",
          "Kreis 3",
          "Kreis 4",
          "Kreis 4",
          "Kreis 4",
          "Kreis 5",
          "Kreis 5",
          "Kreis 5",
          "Kreis 6",
          "Kreis 6",
          "Kreis 6",
          "Kreis 7",
          "Kreis 7",
          "Kreis 7",
          "Kreis 8",
          "Kreis 8",
          "Kreis 8",
          "Kreis 9",
          "Kreis 9",
          "Kreis 9",
          "Bewilligt",
          "Fertigerstellt",
          "Im Bau",
          "Anzahl Wohnungen nach Projektstatus, Kreis und Quartier"
         ],
         "marker": {
          "colors": [
           "#636efa",
           "#636efa",
           "#EF553B",
           "#00cc96",
           "#00cc96",
           "#636efa",
           "#EF553B",
           "#636efa",
           "#00cc96",
           "#636efa",
           "#EF553B",
           "#636efa",
           "#EF553B",
           "#636efa",
           "#636efa",
           "#636efa",
           "#636efa",
           "#00cc96",
           "#00cc96",
           "#EF553B",
           "#00cc96",
           "#EF553B",
           "#00cc96",
           "#00cc96",
           "#636efa",
           "#EF553B",
           "#00cc96",
           "#EF553B",
           "#00cc96",
           "#EF553B",
           "#636efa",
           "#00cc96",
           "#00cc96",
           "#EF553B",
           "#636efa",
           "#EF553B",
           "#636efa",
           "#EF553B",
           "#636efa",
           "#636efa",
           "#636efa",
           "#636efa",
           "#EF553B",
           "#00cc96",
           "#636efa",
           "#00cc96",
           "#00cc96",
           "#EF553B",
           "#EF553B",
           "#636efa",
           "#00cc96",
           "#EF553B",
           "#00cc96",
           "#EF553B",
           "#636efa",
           "#EF553B",
           "#EF553B",
           "#636efa",
           "#00cc96",
           "#636efa",
           "#00cc96",
           "#636efa",
           "#EF553B",
           "#EF553B",
           "#00cc96",
           "#EF553B",
           "#636efa",
           "#636efa",
           "#636efa",
           "#EF553B",
           "#00cc96",
           "#636efa",
           "#00cc96",
           "#EF553B",
           "#636efa",
           "#EF553B",
           "#636efa",
           "#00cc96",
           "#EF553B",
           "#636efa",
           "#00cc96",
           "#636efa",
           "#00cc96",
           "#EF553B",
           "#636efa",
           "#00cc96",
           "#EF553B",
           "#636efa",
           "#00cc96",
           "#EF553B",
           "#636efa",
           "#00cc96",
           "#EF553B",
           "#636efa",
           "#00cc96",
           "#EF553B",
           "#636efa",
           "#00cc96",
           "#EF553B",
           "#636efa",
           "#00cc96",
           "#EF553B",
           "#636efa",
           "#ab63fa"
          ]
         },
         "name": "",
         "parents": [
          "Anzahl Wohnungen nach Projektstatus, Kreis und Quartier/Im Bau/Kreis 2",
          "Anzahl Wohnungen nach Projektstatus, Kreis und Quartier/Im Bau/Kreis 6",
          "Anzahl Wohnungen nach Projektstatus, Kreis und Quartier/Fertigerstellt/Kreis 6",
          "Anzahl Wohnungen nach Projektstatus, Kreis und Quartier/Bewilligt/Kreis 6",
          "Anzahl Wohnungen nach Projektstatus, Kreis und Quartier/Bewilligt/Kreis 11",
          "Anzahl Wohnungen nach Projektstatus, Kreis und Quartier/Im Bau/Kreis 11",
          "Anzahl Wohnungen nach Projektstatus, Kreis und Quartier/Fertigerstellt/Kreis 8",
          "Anzahl Wohnungen nach Projektstatus, Kreis und Quartier/Im Bau/Kreis 3",
          "Anzahl Wohnungen nach Projektstatus, Kreis und Quartier/Bewilligt/Kreis 7",
          "Anzahl Wohnungen nach Projektstatus, Kreis und Quartier/Im Bau/Kreis 12",
          "Anzahl Wohnungen nach Projektstatus, Kreis und Quartier/Fertigerstellt/Kreis 7",
          "Anzahl Wohnungen nach Projektstatus, Kreis und Quartier/Im Bau/Kreis 3",
          "Anzahl Wohnungen nach Projektstatus, Kreis und Quartier/Fertigerstellt/Kreis 7",
          "Anzahl Wohnungen nach Projektstatus, Kreis und Quartier/Im Bau/Kreis 8",
          "Anzahl Wohnungen nach Projektstatus, Kreis und Quartier/Im Bau/Kreis 4",
          "Anzahl Wohnungen nach Projektstatus, Kreis und Quartier/Im Bau/Kreis 3",
          "Anzahl Wohnungen nach Projektstatus, Kreis und Quartier/Im Bau/Kreis 9",
          "Anzahl Wohnungen nach Projektstatus, Kreis und Quartier/Bewilligt/Kreis 4",
          "Anzahl Wohnungen nach Projektstatus, Kreis und Quartier/Bewilligt/Kreis 10",
          "Anzahl Wohnungen nach Projektstatus, Kreis und Quartier/Fertigerstellt/Kreis 12",
          "Anzahl Wohnungen nach Projektstatus, Kreis und Quartier/Bewilligt/Kreis 5",
          "Anzahl Wohnungen nach Projektstatus, Kreis und Quartier/Fertigerstellt/Kreis 11",
          "Anzahl Wohnungen nach Projektstatus, Kreis und Quartier/Bewilligt/Kreis 11",
          "Anzahl Wohnungen nach Projektstatus, Kreis und Quartier/Bewilligt/Kreis 2",
          "Anzahl Wohnungen nach Projektstatus, Kreis und Quartier/Im Bau/Kreis 7",
          "Anzahl Wohnungen nach Projektstatus, Kreis und Quartier/Fertigerstellt/Kreis 7",
          "Anzahl Wohnungen nach Projektstatus, Kreis und Quartier/Bewilligt/Kreis 7",
          "Anzahl Wohnungen nach Projektstatus, Kreis und Quartier/Fertigerstellt/Kreis 11",
          "Anzahl Wohnungen nach Projektstatus, Kreis und Quartier/Bewilligt/Kreis 2",
          "Anzahl Wohnungen nach Projektstatus, Kreis und Quartier/Fertigerstellt/Kreis 2",
          "Anzahl Wohnungen nach Projektstatus, Kreis und Quartier/Im Bau/Kreis 10",
          "Anzahl Wohnungen nach Projektstatus, Kreis und Quartier/Bewilligt/Kreis 2",
          "Anzahl Wohnungen nach Projektstatus, Kreis und Quartier/Bewilligt/Kreis 3",
          "Anzahl Wohnungen nach Projektstatus, Kreis und Quartier/Fertigerstellt/Kreis 4",
          "Anzahl Wohnungen nach Projektstatus, Kreis und Quartier/Im Bau/Kreis 10",
          "Anzahl Wohnungen nach Projektstatus, Kreis und Quartier/Fertigerstellt/Kreis 1",
          "Anzahl Wohnungen nach Projektstatus, Kreis und Quartier/Im Bau/Kreis 7",
          "Anzahl Wohnungen nach Projektstatus, Kreis und Quartier/Fertigerstellt/Kreis 6",
          "Anzahl Wohnungen nach Projektstatus, Kreis und Quartier/Im Bau/Kreis 4",
          "Anzahl Wohnungen nach Projektstatus, Kreis und Quartier/Im Bau/Kreis 6",
          "Anzahl Wohnungen nach Projektstatus, Kreis und Quartier/Im Bau/Kreis 7",
          "Anzahl Wohnungen nach Projektstatus, Kreis und Quartier/Im Bau/Kreis 2",
          "Anzahl Wohnungen nach Projektstatus, Kreis und Quartier/Fertigerstellt/Kreis 8",
          "Anzahl Wohnungen nach Projektstatus, Kreis und Quartier/Bewilligt/Kreis 6",
          "Anzahl Wohnungen nach Projektstatus, Kreis und Quartier/Im Bau/Kreis 12",
          "Anzahl Wohnungen nach Projektstatus, Kreis und Quartier/Bewilligt/Kreis 8",
          "Anzahl Wohnungen nach Projektstatus, Kreis und Quartier/Bewilligt/Kreis 11",
          "Anzahl Wohnungen nach Projektstatus, Kreis und Quartier/Fertigerstellt/Kreis 1",
          "Anzahl Wohnungen nach Projektstatus, Kreis und Quartier/Fertigerstellt/Kreis 11",
          "Anzahl Wohnungen nach Projektstatus, Kreis und Quartier/Im Bau/Kreis 11",
          "Anzahl Wohnungen nach Projektstatus, Kreis und Quartier/Bewilligt/Kreis 9",
          "Anzahl Wohnungen nach Projektstatus, Kreis und Quartier/Fertigerstellt/Kreis 9",
          "Anzahl Wohnungen nach Projektstatus, Kreis und Quartier/Bewilligt/Kreis 9",
          "Anzahl Wohnungen nach Projektstatus, Kreis und Quartier/Fertigerstellt/Kreis 9",
          "Anzahl Wohnungen nach Projektstatus, Kreis und Quartier/Im Bau/Kreis 9",
          "Anzahl Wohnungen nach Projektstatus, Kreis und Quartier/Fertigerstellt/Kreis 2",
          "Anzahl Wohnungen nach Projektstatus, Kreis und Quartier/Fertigerstellt/Kreis 5",
          "Anzahl Wohnungen nach Projektstatus, Kreis und Quartier/Im Bau/Kreis 5",
          "Anzahl Wohnungen nach Projektstatus, Kreis und Quartier/Bewilligt/Kreis 7",
          "Anzahl Wohnungen nach Projektstatus, Kreis und Quartier/Im Bau/Kreis 5",
          "Anzahl Wohnungen nach Projektstatus, Kreis und Quartier/Bewilligt/Kreis 7",
          "Anzahl Wohnungen nach Projektstatus, Kreis und Quartier/Im Bau/Kreis 7",
          "Anzahl Wohnungen nach Projektstatus, Kreis und Quartier/Fertigerstellt/Kreis 12",
          "Anzahl Wohnungen nach Projektstatus, Kreis und Quartier/Fertigerstellt/Kreis 7",
          "Anzahl Wohnungen nach Projektstatus, Kreis und Quartier/Bewilligt/Kreis 10",
          "Anzahl Wohnungen nach Projektstatus, Kreis und Quartier/Fertigerstellt/Kreis 2",
          "Anzahl Wohnungen nach Projektstatus, Kreis und Quartier/Im Bau/Kreis 2",
          "Anzahl Wohnungen nach Projektstatus, Kreis und Quartier/Im Bau/Kreis 11",
          "Anzahl Wohnungen nach Projektstatus, Kreis und Quartier/Im Bau/Kreis 4",
          "Anzahl Wohnungen nach Projektstatus, Kreis und Quartier/Fertigerstellt",
          "Anzahl Wohnungen nach Projektstatus, Kreis und Quartier/Bewilligt",
          "Anzahl Wohnungen nach Projektstatus, Kreis und Quartier/Im Bau",
          "Anzahl Wohnungen nach Projektstatus, Kreis und Quartier/Bewilligt",
          "Anzahl Wohnungen nach Projektstatus, Kreis und Quartier/Fertigerstellt",
          "Anzahl Wohnungen nach Projektstatus, Kreis und Quartier/Im Bau",
          "Anzahl Wohnungen nach Projektstatus, Kreis und Quartier/Fertigerstellt",
          "Anzahl Wohnungen nach Projektstatus, Kreis und Quartier/Im Bau",
          "Anzahl Wohnungen nach Projektstatus, Kreis und Quartier/Bewilligt",
          "Anzahl Wohnungen nach Projektstatus, Kreis und Quartier/Fertigerstellt",
          "Anzahl Wohnungen nach Projektstatus, Kreis und Quartier/Im Bau",
          "Anzahl Wohnungen nach Projektstatus, Kreis und Quartier/Bewilligt",
          "Anzahl Wohnungen nach Projektstatus, Kreis und Quartier/Im Bau",
          "Anzahl Wohnungen nach Projektstatus, Kreis und Quartier/Bewilligt",
          "Anzahl Wohnungen nach Projektstatus, Kreis und Quartier/Fertigerstellt",
          "Anzahl Wohnungen nach Projektstatus, Kreis und Quartier/Im Bau",
          "Anzahl Wohnungen nach Projektstatus, Kreis und Quartier/Bewilligt",
          "Anzahl Wohnungen nach Projektstatus, Kreis und Quartier/Fertigerstellt",
          "Anzahl Wohnungen nach Projektstatus, Kreis und Quartier/Im Bau",
          "Anzahl Wohnungen nach Projektstatus, Kreis und Quartier/Bewilligt",
          "Anzahl Wohnungen nach Projektstatus, Kreis und Quartier/Fertigerstellt",
          "Anzahl Wohnungen nach Projektstatus, Kreis und Quartier/Im Bau",
          "Anzahl Wohnungen nach Projektstatus, Kreis und Quartier/Bewilligt",
          "Anzahl Wohnungen nach Projektstatus, Kreis und Quartier/Fertigerstellt",
          "Anzahl Wohnungen nach Projektstatus, Kreis und Quartier/Im Bau",
          "Anzahl Wohnungen nach Projektstatus, Kreis und Quartier/Bewilligt",
          "Anzahl Wohnungen nach Projektstatus, Kreis und Quartier/Fertigerstellt",
          "Anzahl Wohnungen nach Projektstatus, Kreis und Quartier/Im Bau",
          "Anzahl Wohnungen nach Projektstatus, Kreis und Quartier/Bewilligt",
          "Anzahl Wohnungen nach Projektstatus, Kreis und Quartier/Fertigerstellt",
          "Anzahl Wohnungen nach Projektstatus, Kreis und Quartier/Im Bau",
          "Anzahl Wohnungen nach Projektstatus, Kreis und Quartier",
          "Anzahl Wohnungen nach Projektstatus, Kreis und Quartier",
          "Anzahl Wohnungen nach Projektstatus, Kreis und Quartier",
          ""
         ],
         "root": {
          "color": "grey"
         },
         "type": "treemap",
         "values": [
          320688,
          49900,
          216309,
          53700,
          18894,
          867143,
          95867,
          46200,
          131500,
          73696,
          34867,
          18260,
          26196,
          623100,
          734633,
          56140,
          347165,
          31524,
          19075,
          10100,
          38000,
          25820,
          131880,
          70846,
          93442,
          13626,
          33442,
          103780,
          3400,
          349456,
          103017,
          48895,
          134306,
          36000,
          33325,
          180000,
          63335,
          91245,
          13000,
          116700,
          38004,
          239800,
          2800,
          88254,
          120100,
          18000,
          6500,
          11630,
          10718,
          289760,
          71095,
          38700,
          165000,
          159670,
          593275,
          49480,
          190700,
          245415,
          22550,
          26450,
          22280,
          57200,
          11000,
          12016,
          18410,
          56200,
          10194,
          136891,
          47900,
          191630,
          37485,
          136342,
          157274,
          140318,
          1293794,
          21100,
          193796,
          123141,
          455136,
          570682,
          134306,
          120600,
          31524,
          36000,
          795533,
          38000,
          190700,
          271865,
          141954,
          307554,
          166600,
          209772,
          86705,
          251981,
          18000,
          98667,
          623100,
          236095,
          198370,
          940440,
          1127551,
          1726180,
          5364733,
          8218464
         ]
        }
       ],
       "layout": {
        "height": 400,
        "legend": {
         "tracegroupgap": 0
        },
        "margin": {
         "b": 25,
         "l": 25,
         "r": 250,
         "t": 50
        },
        "template": {
         "data": {
          "bar": [
           {
            "error_x": {
             "color": "#2a3f5f"
            },
            "error_y": {
             "color": "#2a3f5f"
            },
            "marker": {
             "line": {
              "color": "#E5ECF6",
              "width": 0.5
             },
             "pattern": {
              "fillmode": "overlay",
              "size": 10,
              "solidity": 0.2
             }
            },
            "type": "bar"
           }
          ],
          "barpolar": [
           {
            "marker": {
             "line": {
              "color": "#E5ECF6",
              "width": 0.5
             },
             "pattern": {
              "fillmode": "overlay",
              "size": 10,
              "solidity": 0.2
             }
            },
            "type": "barpolar"
           }
          ],
          "carpet": [
           {
            "aaxis": {
             "endlinecolor": "#2a3f5f",
             "gridcolor": "white",
             "linecolor": "white",
             "minorgridcolor": "white",
             "startlinecolor": "#2a3f5f"
            },
            "baxis": {
             "endlinecolor": "#2a3f5f",
             "gridcolor": "white",
             "linecolor": "white",
             "minorgridcolor": "white",
             "startlinecolor": "#2a3f5f"
            },
            "type": "carpet"
           }
          ],
          "choropleth": [
           {
            "colorbar": {
             "outlinewidth": 0,
             "ticks": ""
            },
            "type": "choropleth"
           }
          ],
          "contour": [
           {
            "colorbar": {
             "outlinewidth": 0,
             "ticks": ""
            },
            "colorscale": [
             [
              0,
              "#0d0887"
             ],
             [
              0.1111111111111111,
              "#46039f"
             ],
             [
              0.2222222222222222,
              "#7201a8"
             ],
             [
              0.3333333333333333,
              "#9c179e"
             ],
             [
              0.4444444444444444,
              "#bd3786"
             ],
             [
              0.5555555555555556,
              "#d8576b"
             ],
             [
              0.6666666666666666,
              "#ed7953"
             ],
             [
              0.7777777777777778,
              "#fb9f3a"
             ],
             [
              0.8888888888888888,
              "#fdca26"
             ],
             [
              1,
              "#f0f921"
             ]
            ],
            "type": "contour"
           }
          ],
          "contourcarpet": [
           {
            "colorbar": {
             "outlinewidth": 0,
             "ticks": ""
            },
            "type": "contourcarpet"
           }
          ],
          "heatmap": [
           {
            "colorbar": {
             "outlinewidth": 0,
             "ticks": ""
            },
            "colorscale": [
             [
              0,
              "#0d0887"
             ],
             [
              0.1111111111111111,
              "#46039f"
             ],
             [
              0.2222222222222222,
              "#7201a8"
             ],
             [
              0.3333333333333333,
              "#9c179e"
             ],
             [
              0.4444444444444444,
              "#bd3786"
             ],
             [
              0.5555555555555556,
              "#d8576b"
             ],
             [
              0.6666666666666666,
              "#ed7953"
             ],
             [
              0.7777777777777778,
              "#fb9f3a"
             ],
             [
              0.8888888888888888,
              "#fdca26"
             ],
             [
              1,
              "#f0f921"
             ]
            ],
            "type": "heatmap"
           }
          ],
          "heatmapgl": [
           {
            "colorbar": {
             "outlinewidth": 0,
             "ticks": ""
            },
            "colorscale": [
             [
              0,
              "#0d0887"
             ],
             [
              0.1111111111111111,
              "#46039f"
             ],
             [
              0.2222222222222222,
              "#7201a8"
             ],
             [
              0.3333333333333333,
              "#9c179e"
             ],
             [
              0.4444444444444444,
              "#bd3786"
             ],
             [
              0.5555555555555556,
              "#d8576b"
             ],
             [
              0.6666666666666666,
              "#ed7953"
             ],
             [
              0.7777777777777778,
              "#fb9f3a"
             ],
             [
              0.8888888888888888,
              "#fdca26"
             ],
             [
              1,
              "#f0f921"
             ]
            ],
            "type": "heatmapgl"
           }
          ],
          "histogram": [
           {
            "marker": {
             "pattern": {
              "fillmode": "overlay",
              "size": 10,
              "solidity": 0.2
             }
            },
            "type": "histogram"
           }
          ],
          "histogram2d": [
           {
            "colorbar": {
             "outlinewidth": 0,
             "ticks": ""
            },
            "colorscale": [
             [
              0,
              "#0d0887"
             ],
             [
              0.1111111111111111,
              "#46039f"
             ],
             [
              0.2222222222222222,
              "#7201a8"
             ],
             [
              0.3333333333333333,
              "#9c179e"
             ],
             [
              0.4444444444444444,
              "#bd3786"
             ],
             [
              0.5555555555555556,
              "#d8576b"
             ],
             [
              0.6666666666666666,
              "#ed7953"
             ],
             [
              0.7777777777777778,
              "#fb9f3a"
             ],
             [
              0.8888888888888888,
              "#fdca26"
             ],
             [
              1,
              "#f0f921"
             ]
            ],
            "type": "histogram2d"
           }
          ],
          "histogram2dcontour": [
           {
            "colorbar": {
             "outlinewidth": 0,
             "ticks": ""
            },
            "colorscale": [
             [
              0,
              "#0d0887"
             ],
             [
              0.1111111111111111,
              "#46039f"
             ],
             [
              0.2222222222222222,
              "#7201a8"
             ],
             [
              0.3333333333333333,
              "#9c179e"
             ],
             [
              0.4444444444444444,
              "#bd3786"
             ],
             [
              0.5555555555555556,
              "#d8576b"
             ],
             [
              0.6666666666666666,
              "#ed7953"
             ],
             [
              0.7777777777777778,
              "#fb9f3a"
             ],
             [
              0.8888888888888888,
              "#fdca26"
             ],
             [
              1,
              "#f0f921"
             ]
            ],
            "type": "histogram2dcontour"
           }
          ],
          "mesh3d": [
           {
            "colorbar": {
             "outlinewidth": 0,
             "ticks": ""
            },
            "type": "mesh3d"
           }
          ],
          "parcoords": [
           {
            "line": {
             "colorbar": {
              "outlinewidth": 0,
              "ticks": ""
             }
            },
            "type": "parcoords"
           }
          ],
          "pie": [
           {
            "automargin": true,
            "type": "pie"
           }
          ],
          "scatter": [
           {
            "marker": {
             "colorbar": {
              "outlinewidth": 0,
              "ticks": ""
             }
            },
            "type": "scatter"
           }
          ],
          "scatter3d": [
           {
            "line": {
             "colorbar": {
              "outlinewidth": 0,
              "ticks": ""
             }
            },
            "marker": {
             "colorbar": {
              "outlinewidth": 0,
              "ticks": ""
             }
            },
            "type": "scatter3d"
           }
          ],
          "scattercarpet": [
           {
            "marker": {
             "colorbar": {
              "outlinewidth": 0,
              "ticks": ""
             }
            },
            "type": "scattercarpet"
           }
          ],
          "scattergeo": [
           {
            "marker": {
             "colorbar": {
              "outlinewidth": 0,
              "ticks": ""
             }
            },
            "type": "scattergeo"
           }
          ],
          "scattergl": [
           {
            "marker": {
             "colorbar": {
              "outlinewidth": 0,
              "ticks": ""
             }
            },
            "type": "scattergl"
           }
          ],
          "scattermapbox": [
           {
            "marker": {
             "colorbar": {
              "outlinewidth": 0,
              "ticks": ""
             }
            },
            "type": "scattermapbox"
           }
          ],
          "scatterpolar": [
           {
            "marker": {
             "colorbar": {
              "outlinewidth": 0,
              "ticks": ""
             }
            },
            "type": "scatterpolar"
           }
          ],
          "scatterpolargl": [
           {
            "marker": {
             "colorbar": {
              "outlinewidth": 0,
              "ticks": ""
             }
            },
            "type": "scatterpolargl"
           }
          ],
          "scatterternary": [
           {
            "marker": {
             "colorbar": {
              "outlinewidth": 0,
              "ticks": ""
             }
            },
            "type": "scatterternary"
           }
          ],
          "surface": [
           {
            "colorbar": {
             "outlinewidth": 0,
             "ticks": ""
            },
            "colorscale": [
             [
              0,
              "#0d0887"
             ],
             [
              0.1111111111111111,
              "#46039f"
             ],
             [
              0.2222222222222222,
              "#7201a8"
             ],
             [
              0.3333333333333333,
              "#9c179e"
             ],
             [
              0.4444444444444444,
              "#bd3786"
             ],
             [
              0.5555555555555556,
              "#d8576b"
             ],
             [
              0.6666666666666666,
              "#ed7953"
             ],
             [
              0.7777777777777778,
              "#fb9f3a"
             ],
             [
              0.8888888888888888,
              "#fdca26"
             ],
             [
              1,
              "#f0f921"
             ]
            ],
            "type": "surface"
           }
          ],
          "table": [
           {
            "cells": {
             "fill": {
              "color": "#EBF0F8"
             },
             "line": {
              "color": "white"
             }
            },
            "header": {
             "fill": {
              "color": "#C8D4E3"
             },
             "line": {
              "color": "white"
             }
            },
            "type": "table"
           }
          ]
         },
         "layout": {
          "annotationdefaults": {
           "arrowcolor": "#2a3f5f",
           "arrowhead": 0,
           "arrowwidth": 1
          },
          "autotypenumbers": "strict",
          "coloraxis": {
           "colorbar": {
            "outlinewidth": 0,
            "ticks": ""
           }
          },
          "colorscale": {
           "diverging": [
            [
             0,
             "#8e0152"
            ],
            [
             0.1,
             "#c51b7d"
            ],
            [
             0.2,
             "#de77ae"
            ],
            [
             0.3,
             "#f1b6da"
            ],
            [
             0.4,
             "#fde0ef"
            ],
            [
             0.5,
             "#f7f7f7"
            ],
            [
             0.6,
             "#e6f5d0"
            ],
            [
             0.7,
             "#b8e186"
            ],
            [
             0.8,
             "#7fbc41"
            ],
            [
             0.9,
             "#4d9221"
            ],
            [
             1,
             "#276419"
            ]
           ],
           "sequential": [
            [
             0,
             "#0d0887"
            ],
            [
             0.1111111111111111,
             "#46039f"
            ],
            [
             0.2222222222222222,
             "#7201a8"
            ],
            [
             0.3333333333333333,
             "#9c179e"
            ],
            [
             0.4444444444444444,
             "#bd3786"
            ],
            [
             0.5555555555555556,
             "#d8576b"
            ],
            [
             0.6666666666666666,
             "#ed7953"
            ],
            [
             0.7777777777777778,
             "#fb9f3a"
            ],
            [
             0.8888888888888888,
             "#fdca26"
            ],
            [
             1,
             "#f0f921"
            ]
           ],
           "sequentialminus": [
            [
             0,
             "#0d0887"
            ],
            [
             0.1111111111111111,
             "#46039f"
            ],
            [
             0.2222222222222222,
             "#7201a8"
            ],
            [
             0.3333333333333333,
             "#9c179e"
            ],
            [
             0.4444444444444444,
             "#bd3786"
            ],
            [
             0.5555555555555556,
             "#d8576b"
            ],
            [
             0.6666666666666666,
             "#ed7953"
            ],
            [
             0.7777777777777778,
             "#fb9f3a"
            ],
            [
             0.8888888888888888,
             "#fdca26"
            ],
            [
             1,
             "#f0f921"
            ]
           ]
          },
          "colorway": [
           "#636efa",
           "#EF553B",
           "#00cc96",
           "#ab63fa",
           "#FFA15A",
           "#19d3f3",
           "#FF6692",
           "#B6E880",
           "#FF97FF",
           "#FECB52"
          ],
          "font": {
           "color": "#2a3f5f"
          },
          "geo": {
           "bgcolor": "white",
           "lakecolor": "white",
           "landcolor": "#E5ECF6",
           "showlakes": true,
           "showland": true,
           "subunitcolor": "white"
          },
          "hoverlabel": {
           "align": "left"
          },
          "hovermode": "closest",
          "mapbox": {
           "style": "light"
          },
          "paper_bgcolor": "white",
          "plot_bgcolor": "#E5ECF6",
          "polar": {
           "angularaxis": {
            "gridcolor": "white",
            "linecolor": "white",
            "ticks": ""
           },
           "bgcolor": "#E5ECF6",
           "radialaxis": {
            "gridcolor": "white",
            "linecolor": "white",
            "ticks": ""
           }
          },
          "scene": {
           "xaxis": {
            "backgroundcolor": "#E5ECF6",
            "gridcolor": "white",
            "gridwidth": 2,
            "linecolor": "white",
            "showbackground": true,
            "ticks": "",
            "zerolinecolor": "white"
           },
           "yaxis": {
            "backgroundcolor": "#E5ECF6",
            "gridcolor": "white",
            "gridwidth": 2,
            "linecolor": "white",
            "showbackground": true,
            "ticks": "",
            "zerolinecolor": "white"
           },
           "zaxis": {
            "backgroundcolor": "#E5ECF6",
            "gridcolor": "white",
            "gridwidth": 2,
            "linecolor": "white",
            "showbackground": true,
            "ticks": "",
            "zerolinecolor": "white"
           }
          },
          "shapedefaults": {
           "line": {
            "color": "#2a3f5f"
           }
          },
          "ternary": {
           "aaxis": {
            "gridcolor": "white",
            "linecolor": "white",
            "ticks": ""
           },
           "baxis": {
            "gridcolor": "white",
            "linecolor": "white",
            "ticks": ""
           },
           "bgcolor": "#E5ECF6",
           "caxis": {
            "gridcolor": "white",
            "linecolor": "white",
            "ticks": ""
           }
          },
          "title": {
           "x": 0.05
          },
          "xaxis": {
           "automargin": true,
           "gridcolor": "white",
           "linecolor": "white",
           "ticks": "",
           "title": {
            "standoff": 15
           },
           "zerolinecolor": "white",
           "zerolinewidth": 2
          },
          "yaxis": {
           "automargin": true,
           "gridcolor": "white",
           "linecolor": "white",
           "ticks": "",
           "title": {
            "standoff": 15
           },
           "zerolinecolor": "white",
           "zerolinewidth": 2
          }
         }
        },
        "width": 1100
       }
      },
      "image/png": "[encoded data removed]",
      "text/html": [
       "<div>                            <div id=\"1249cd43-ae41-4a82-8023-b1dbfa390001\" class=\"plotly-graph-div\" style=\"height:400px; width:1100px;\"></div>            <script type=\"text/javascript\">                require([\"plotly\"], function(Plotly) {                    window.PLOTLYENV=window.PLOTLYENV || {};                                    if (document.getElementById(\"1249cd43-ae41-4a82-8023-b1dbfa390001\")) {                    Plotly.newPlot(                        \"1249cd43-ae41-4a82-8023-b1dbfa390001\",                        [{\"branchvalues\":\"total\",\"customdata\":[[\"Im Bau\"],[\"Im Bau\"],[\"Fertigerstellt\"],[\"Bewilligt\"],[\"Bewilligt\"],[\"Im Bau\"],[\"Fertigerstellt\"],[\"Im Bau\"],[\"Bewilligt\"],[\"Im Bau\"],[\"Fertigerstellt\"],[\"Im Bau\"],[\"Fertigerstellt\"],[\"Im Bau\"],[\"Im Bau\"],[\"Im Bau\"],[\"Im Bau\"],[\"Bewilligt\"],[\"Bewilligt\"],[\"Fertigerstellt\"],[\"Bewilligt\"],[\"Fertigerstellt\"],[\"Bewilligt\"],[\"Bewilligt\"],[\"Im Bau\"],[\"Fertigerstellt\"],[\"Bewilligt\"],[\"Fertigerstellt\"],[\"Bewilligt\"],[\"Fertigerstellt\"],[\"Im Bau\"],[\"Bewilligt\"],[\"Bewilligt\"],[\"Fertigerstellt\"],[\"Im Bau\"],[\"Fertigerstellt\"],[\"Im Bau\"],[\"Fertigerstellt\"],[\"Im Bau\"],[\"Im Bau\"],[\"Im Bau\"],[\"Im Bau\"],[\"Fertigerstellt\"],[\"Bewilligt\"],[\"Im Bau\"],[\"Bewilligt\"],[\"Bewilligt\"],[\"Fertigerstellt\"],[\"Fertigerstellt\"],[\"Im Bau\"],[\"Bewilligt\"],[\"Fertigerstellt\"],[\"Bewilligt\"],[\"Fertigerstellt\"],[\"Im Bau\"],[\"Fertigerstellt\"],[\"Fertigerstellt\"],[\"Im Bau\"],[\"Bewilligt\"],[\"Im Bau\"],[\"Bewilligt\"],[\"Im Bau\"],[\"Fertigerstellt\"],[\"Fertigerstellt\"],[\"Bewilligt\"],[\"Fertigerstellt\"],[\"Im Bau\"],[\"Im Bau\"],[\"Im Bau\"],[\"Fertigerstellt\"],[\"Bewilligt\"],[\"Im Bau\"],[\"Bewilligt\"],[\"Fertigerstellt\"],[\"Im Bau\"],[\"Fertigerstellt\"],[\"Im Bau\"],[\"Bewilligt\"],[\"Fertigerstellt\"],[\"Im Bau\"],[\"Bewilligt\"],[\"Im Bau\"],[\"Bewilligt\"],[\"Fertigerstellt\"],[\"Im Bau\"],[\"Bewilligt\"],[\"Fertigerstellt\"],[\"Im Bau\"],[\"Bewilligt\"],[\"Fertigerstellt\"],[\"Im Bau\"],[\"Bewilligt\"],[\"Fertigerstellt\"],[\"Im Bau\"],[\"Bewilligt\"],[\"Fertigerstellt\"],[\"Im Bau\"],[\"Bewilligt\"],[\"Fertigerstellt\"],[\"Im Bau\"],[\"Bewilligt\"],[\"Fertigerstellt\"],[\"Im Bau\"],[\"(?)\"]],\"domain\":{\"x\":[0.0,1.0],\"y\":[0.0,1.0]},\"hovertemplate\":\"labels=%{label}<br>sum_ProjKosten=%{value}<br>parent=%{parent}<br>id=%{id}<br>ProjStatus=%{customdata[0]}<extra></extra>\",\"ids\":[\"Anzahl Wohnungen nach Projektstatus, Kreis und Quartier/Im Bau/Kreis 2/Wollishofen\",\"Anzahl Wohnungen nach Projektstatus, Kreis und Quartier/Im Bau/Kreis 6/Oberstrass\",\"Anzahl Wohnungen nach Projektstatus, Kreis und Quartier/Fertigerstellt/Kreis 6/Oberstrass\",\"Anzahl Wohnungen nach Projektstatus, Kreis und Quartier/Bewilligt/Kreis 6/Oberstrass\",\"Anzahl Wohnungen nach Projektstatus, Kreis und Quartier/Bewilligt/Kreis 11/Seebach\",\"Anzahl Wohnungen nach Projektstatus, Kreis und Quartier/Im Bau/Kreis 11/Seebach\",\"Anzahl Wohnungen nach Projektstatus, Kreis und Quartier/Fertigerstellt/Kreis 8/Seefeld\",\"Anzahl Wohnungen nach Projektstatus, Kreis und Quartier/Im Bau/Kreis 3/Sihlfeld\",\"Anzahl Wohnungen nach Projektstatus, Kreis und Quartier/Bewilligt/Kreis 7/Hottingen\",\"Anzahl Wohnungen nach Projektstatus, Kreis und Quartier/Im Bau/Kreis 12/Hirzenbach\",\"Anzahl Wohnungen nach Projektstatus, Kreis und Quartier/Fertigerstellt/Kreis 7/Hirslanden\",\"Anzahl Wohnungen nach Projektstatus, Kreis und Quartier/Im Bau/Kreis 3/Friesenberg\",\"Anzahl Wohnungen nach Projektstatus, Kreis und Quartier/Fertigerstellt/Kreis 7/Fluntern\",\"Anzahl Wohnungen nach Projektstatus, Kreis und Quartier/Im Bau/Kreis 8/Weinegg\",\"Anzahl Wohnungen nach Projektstatus, Kreis und Quartier/Im Bau/Kreis 4/Hard\",\"Anzahl Wohnungen nach Projektstatus, Kreis und Quartier/Im Bau/Kreis 3/Alt-Wiedikon\",\"Anzahl Wohnungen nach Projektstatus, Kreis und Quartier/Im Bau/Kreis 9/Albisrieden\",\"Anzahl Wohnungen nach Projektstatus, Kreis und Quartier/Bewilligt/Kreis 4/Werd\",\"Anzahl Wohnungen nach Projektstatus, Kreis und Quartier/Bewilligt/Kreis 10/Wipkingen\",\"Anzahl Wohnungen nach Projektstatus, Kreis und Quartier/Fertigerstellt/Kreis 12/Schwamendingen-Mitte\",\"Anzahl Wohnungen nach Projektstatus, Kreis und Quartier/Bewilligt/Kreis 5/Gewerbeschule\",\"Anzahl Wohnungen nach Projektstatus, Kreis und Quartier/Fertigerstellt/Kreis 11/Oerlikon\",\"Anzahl Wohnungen nach Projektstatus, Kreis und Quartier/Bewilligt/Kreis 11/Oerlikon\",\"Anzahl Wohnungen nach Projektstatus, Kreis und Quartier/Bewilligt/Kreis 2/Wollishofen\",\"Anzahl Wohnungen nach Projektstatus, Kreis und Quartier/Im Bau/Kreis 7/Witikon\",\"Anzahl Wohnungen nach Projektstatus, Kreis und Quartier/Fertigerstellt/Kreis 7/Witikon\",\"Anzahl Wohnungen nach Projektstatus, Kreis und Quartier/Bewilligt/Kreis 7/Witikon\",\"Anzahl Wohnungen nach Projektstatus, Kreis und Quartier/Fertigerstellt/Kreis 11/Seebach\",\"Anzahl Wohnungen nach Projektstatus, Kreis und Quartier/Bewilligt/Kreis 2/Leimbach\",\"Anzahl Wohnungen nach Projektstatus, Kreis und Quartier/Fertigerstellt/Kreis 2/Wollishofen\",\"Anzahl Wohnungen nach Projektstatus, Kreis und Quartier/Im Bau/Kreis 10/H\\u00f6ngg\",\"Anzahl Wohnungen nach Projektstatus, Kreis und Quartier/Bewilligt/Kreis 2/Enge\",\"Anzahl Wohnungen nach Projektstatus, Kreis und Quartier/Bewilligt/Kreis 3/Alt-Wiedikon\",\"Anzahl Wohnungen nach Projektstatus, Kreis und Quartier/Fertigerstellt/Kreis 4/Werd\",\"Anzahl Wohnungen nach Projektstatus, Kreis und Quartier/Im Bau/Kreis 10/Wipkingen\",\"Anzahl Wohnungen nach Projektstatus, Kreis und Quartier/Fertigerstellt/Kreis 1/Hochschulen\",\"Anzahl Wohnungen nach Projektstatus, Kreis und Quartier/Im Bau/Kreis 7/Fluntern\",\"Anzahl Wohnungen nach Projektstatus, Kreis und Quartier/Fertigerstellt/Kreis 6/Unterstrass\",\"Anzahl Wohnungen nach Projektstatus, Kreis und Quartier/Im Bau/Kreis 4/Werd\",\"Anzahl Wohnungen nach Projektstatus, Kreis und Quartier/Im Bau/Kreis 6/Unterstrass\",\"Anzahl Wohnungen nach Projektstatus, Kreis und Quartier/Im Bau/Kreis 7/Hottingen\",\"Anzahl Wohnungen nach Projektstatus, Kreis und Quartier/Im Bau/Kreis 2/Enge\",\"Anzahl Wohnungen nach Projektstatus, Kreis und Quartier/Fertigerstellt/Kreis 8/Weinegg\",\"Anzahl Wohnungen nach Projektstatus, Kreis und Quartier/Bewilligt/Kreis 6/Unterstrass\",\"Anzahl Wohnungen nach Projektstatus, Kreis und Quartier/Im Bau/Kreis 12/Schwamendingen-Mitte\",\"Anzahl Wohnungen nach Projektstatus, Kreis und Quartier/Bewilligt/Kreis 8/Weinegg\",\"Anzahl Wohnungen nach Projektstatus, Kreis und Quartier/Bewilligt/Kreis 11/Affoltern\",\"Anzahl Wohnungen nach Projektstatus, Kreis und Quartier/Fertigerstellt/Kreis 1/Lindenhof\",\"Anzahl Wohnungen nach Projektstatus, Kreis und Quartier/Fertigerstellt/Kreis 11/Affoltern\",\"Anzahl Wohnungen nach Projektstatus, Kreis und Quartier/Im Bau/Kreis 11/Affoltern\",\"Anzahl Wohnungen nach Projektstatus, Kreis und Quartier/Bewilligt/Kreis 9/Albisrieden\",\"Anzahl Wohnungen nach Projektstatus, Kreis und Quartier/Fertigerstellt/Kreis 9/Albisrieden\",\"Anzahl Wohnungen nach Projektstatus, Kreis und Quartier/Bewilligt/Kreis 9/Altstetten\",\"Anzahl Wohnungen nach Projektstatus, Kreis und Quartier/Fertigerstellt/Kreis 9/Altstetten\",\"Anzahl Wohnungen nach Projektstatus, Kreis und Quartier/Im Bau/Kreis 9/Altstetten\",\"Anzahl Wohnungen nach Projektstatus, Kreis und Quartier/Fertigerstellt/Kreis 2/Enge\",\"Anzahl Wohnungen nach Projektstatus, Kreis und Quartier/Fertigerstellt/Kreis 5/Escher Wyss\",\"Anzahl Wohnungen nach Projektstatus, Kreis und Quartier/Im Bau/Kreis 5/Escher Wyss\",\"Anzahl Wohnungen nach Projektstatus, Kreis und Quartier/Bewilligt/Kreis 7/Fluntern\",\"Anzahl Wohnungen nach Projektstatus, Kreis und Quartier/Im Bau/Kreis 5/Gewerbeschule\",\"Anzahl Wohnungen nach Projektstatus, Kreis und Quartier/Bewilligt/Kreis 7/Hirslanden\",\"Anzahl Wohnungen nach Projektstatus, Kreis und Quartier/Im Bau/Kreis 7/Hirslanden\",\"Anzahl Wohnungen nach Projektstatus, Kreis und Quartier/Fertigerstellt/Kreis 12/Hirzenbach\",\"Anzahl Wohnungen nach Projektstatus, Kreis und Quartier/Fertigerstellt/Kreis 7/Hottingen\",\"Anzahl Wohnungen nach Projektstatus, Kreis und Quartier/Bewilligt/Kreis 10/H\\u00f6ngg\",\"Anzahl Wohnungen nach Projektstatus, Kreis und Quartier/Fertigerstellt/Kreis 2/Leimbach\",\"Anzahl Wohnungen nach Projektstatus, Kreis und Quartier/Im Bau/Kreis 2/Leimbach\",\"Anzahl Wohnungen nach Projektstatus, Kreis und Quartier/Im Bau/Kreis 11/Oerlikon\",\"Anzahl Wohnungen nach Projektstatus, Kreis und Quartier/Im Bau/Kreis 4/Langstrasse\",\"Anzahl Wohnungen nach Projektstatus, Kreis und Quartier/Fertigerstellt/Kreis 1\",\"Anzahl Wohnungen nach Projektstatus, Kreis und Quartier/Bewilligt/Kreis 10\",\"Anzahl Wohnungen nach Projektstatus, Kreis und Quartier/Im Bau/Kreis 10\",\"Anzahl Wohnungen nach Projektstatus, Kreis und Quartier/Bewilligt/Kreis 11\",\"Anzahl Wohnungen nach Projektstatus, Kreis und Quartier/Fertigerstellt/Kreis 11\",\"Anzahl Wohnungen nach Projektstatus, Kreis und Quartier/Im Bau/Kreis 11\",\"Anzahl Wohnungen nach Projektstatus, Kreis und Quartier/Fertigerstellt/Kreis 12\",\"Anzahl Wohnungen nach Projektstatus, Kreis und Quartier/Im Bau/Kreis 12\",\"Anzahl Wohnungen nach Projektstatus, Kreis und Quartier/Bewilligt/Kreis 2\",\"Anzahl Wohnungen nach Projektstatus, Kreis und Quartier/Fertigerstellt/Kreis 2\",\"Anzahl Wohnungen nach Projektstatus, Kreis und Quartier/Im Bau/Kreis 2\",\"Anzahl Wohnungen nach Projektstatus, Kreis und Quartier/Bewilligt/Kreis 3\",\"Anzahl Wohnungen nach Projektstatus, Kreis und Quartier/Im Bau/Kreis 3\",\"Anzahl Wohnungen nach Projektstatus, Kreis und Quartier/Bewilligt/Kreis 4\",\"Anzahl Wohnungen nach Projektstatus, Kreis und Quartier/Fertigerstellt/Kreis 4\",\"Anzahl Wohnungen nach Projektstatus, Kreis und Quartier/Im Bau/Kreis 4\",\"Anzahl Wohnungen nach Projektstatus, Kreis und Quartier/Bewilligt/Kreis 5\",\"Anzahl Wohnungen nach Projektstatus, Kreis und Quartier/Fertigerstellt/Kreis 5\",\"Anzahl Wohnungen nach Projektstatus, Kreis und Quartier/Im Bau/Kreis 5\",\"Anzahl Wohnungen nach Projektstatus, Kreis und Quartier/Bewilligt/Kreis 6\",\"Anzahl Wohnungen nach Projektstatus, Kreis und Quartier/Fertigerstellt/Kreis 6\",\"Anzahl Wohnungen nach Projektstatus, Kreis und Quartier/Im Bau/Kreis 6\",\"Anzahl Wohnungen nach Projektstatus, Kreis und Quartier/Bewilligt/Kreis 7\",\"Anzahl Wohnungen nach Projektstatus, Kreis und Quartier/Fertigerstellt/Kreis 7\",\"Anzahl Wohnungen nach Projektstatus, Kreis und Quartier/Im Bau/Kreis 7\",\"Anzahl Wohnungen nach Projektstatus, Kreis und Quartier/Bewilligt/Kreis 8\",\"Anzahl Wohnungen nach Projektstatus, Kreis und Quartier/Fertigerstellt/Kreis 8\",\"Anzahl Wohnungen nach Projektstatus, Kreis und Quartier/Im Bau/Kreis 8\",\"Anzahl Wohnungen nach Projektstatus, Kreis und Quartier/Bewilligt/Kreis 9\",\"Anzahl Wohnungen nach Projektstatus, Kreis und Quartier/Fertigerstellt/Kreis 9\",\"Anzahl Wohnungen nach Projektstatus, Kreis und Quartier/Im Bau/Kreis 9\",\"Anzahl Wohnungen nach Projektstatus, Kreis und Quartier/Bewilligt\",\"Anzahl Wohnungen nach Projektstatus, Kreis und Quartier/Fertigerstellt\",\"Anzahl Wohnungen nach Projektstatus, Kreis und Quartier/Im Bau\",\"Anzahl Wohnungen nach Projektstatus, Kreis und Quartier\"],\"labels\":[\"Wollishofen\",\"Oberstrass\",\"Oberstrass\",\"Oberstrass\",\"Seebach\",\"Seebach\",\"Seefeld\",\"Sihlfeld\",\"Hottingen\",\"Hirzenbach\",\"Hirslanden\",\"Friesenberg\",\"Fluntern\",\"Weinegg\",\"Hard\",\"Alt-Wiedikon\",\"Albisrieden\",\"Werd\",\"Wipkingen\",\"Schwamendingen-Mitte\",\"Gewerbeschule\",\"Oerlikon\",\"Oerlikon\",\"Wollishofen\",\"Witikon\",\"Witikon\",\"Witikon\",\"Seebach\",\"Leimbach\",\"Wollishofen\",\"H\\u00f6ngg\",\"Enge\",\"Alt-Wiedikon\",\"Werd\",\"Wipkingen\",\"Hochschulen\",\"Fluntern\",\"Unterstrass\",\"Werd\",\"Unterstrass\",\"Hottingen\",\"Enge\",\"Weinegg\",\"Unterstrass\",\"Schwamendingen-Mitte\",\"Weinegg\",\"Affoltern\",\"Lindenhof\",\"Affoltern\",\"Affoltern\",\"Albisrieden\",\"Albisrieden\",\"Altstetten\",\"Altstetten\",\"Altstetten\",\"Enge\",\"Escher Wyss\",\"Escher Wyss\",\"Fluntern\",\"Gewerbeschule\",\"Hirslanden\",\"Hirslanden\",\"Hirzenbach\",\"Hottingen\",\"H\\u00f6ngg\",\"Leimbach\",\"Leimbach\",\"Oerlikon\",\"Langstrasse\",\"Kreis 1\",\"Kreis 10\",\"Kreis 10\",\"Kreis 11\",\"Kreis 11\",\"Kreis 11\",\"Kreis 12\",\"Kreis 12\",\"Kreis 2\",\"Kreis 2\",\"Kreis 2\",\"Kreis 3\",\"Kreis 3\",\"Kreis 4\",\"Kreis 4\",\"Kreis 4\",\"Kreis 5\",\"Kreis 5\",\"Kreis 5\",\"Kreis 6\",\"Kreis 6\",\"Kreis 6\",\"Kreis 7\",\"Kreis 7\",\"Kreis 7\",\"Kreis 8\",\"Kreis 8\",\"Kreis 8\",\"Kreis 9\",\"Kreis 9\",\"Kreis 9\",\"Bewilligt\",\"Fertigerstellt\",\"Im Bau\",\"Anzahl Wohnungen nach Projektstatus, Kreis und Quartier\"],\"marker\":{\"colors\":[\"#636efa\",\"#636efa\",\"#EF553B\",\"#00cc96\",\"#00cc96\",\"#636efa\",\"#EF553B\",\"#636efa\",\"#00cc96\",\"#636efa\",\"#EF553B\",\"#636efa\",\"#EF553B\",\"#636efa\",\"#636efa\",\"#636efa\",\"#636efa\",\"#00cc96\",\"#00cc96\",\"#EF553B\",\"#00cc96\",\"#EF553B\",\"#00cc96\",\"#00cc96\",\"#636efa\",\"#EF553B\",\"#00cc96\",\"#EF553B\",\"#00cc96\",\"#EF553B\",\"#636efa\",\"#00cc96\",\"#00cc96\",\"#EF553B\",\"#636efa\",\"#EF553B\",\"#636efa\",\"#EF553B\",\"#636efa\",\"#636efa\",\"#636efa\",\"#636efa\",\"#EF553B\",\"#00cc96\",\"#636efa\",\"#00cc96\",\"#00cc96\",\"#EF553B\",\"#EF553B\",\"#636efa\",\"#00cc96\",\"#EF553B\",\"#00cc96\",\"#EF553B\",\"#636efa\",\"#EF553B\",\"#EF553B\",\"#636efa\",\"#00cc96\",\"#636efa\",\"#00cc96\",\"#636efa\",\"#EF553B\",\"#EF553B\",\"#00cc96\",\"#EF553B\",\"#636efa\",\"#636efa\",\"#636efa\",\"#EF553B\",\"#00cc96\",\"#636efa\",\"#00cc96\",\"#EF553B\",\"#636efa\",\"#EF553B\",\"#636efa\",\"#00cc96\",\"#EF553B\",\"#636efa\",\"#00cc96\",\"#636efa\",\"#00cc96\",\"#EF553B\",\"#636efa\",\"#00cc96\",\"#EF553B\",\"#636efa\",\"#00cc96\",\"#EF553B\",\"#636efa\",\"#00cc96\",\"#EF553B\",\"#636efa\",\"#00cc96\",\"#EF553B\",\"#636efa\",\"#00cc96\",\"#EF553B\",\"#636efa\",\"#00cc96\",\"#EF553B\",\"#636efa\",\"#ab63fa\"]},\"name\":\"\",\"parents\":[\"Anzahl Wohnungen nach Projektstatus, Kreis und Quartier/Im Bau/Kreis 2\",\"Anzahl Wohnungen nach Projektstatus, Kreis und Quartier/Im Bau/Kreis 6\",\"Anzahl Wohnungen nach Projektstatus, Kreis und Quartier/Fertigerstellt/Kreis 6\",\"Anzahl Wohnungen nach Projektstatus, Kreis und Quartier/Bewilligt/Kreis 6\",\"Anzahl Wohnungen nach Projektstatus, Kreis und Quartier/Bewilligt/Kreis 11\",\"Anzahl Wohnungen nach Projektstatus, Kreis und Quartier/Im Bau/Kreis 11\",\"Anzahl Wohnungen nach Projektstatus, Kreis und Quartier/Fertigerstellt/Kreis 8\",\"Anzahl Wohnungen nach Projektstatus, Kreis und Quartier/Im Bau/Kreis 3\",\"Anzahl Wohnungen nach Projektstatus, Kreis und Quartier/Bewilligt/Kreis 7\",\"Anzahl Wohnungen nach Projektstatus, Kreis und Quartier/Im Bau/Kreis 12\",\"Anzahl Wohnungen nach Projektstatus, Kreis und Quartier/Fertigerstellt/Kreis 7\",\"Anzahl Wohnungen nach Projektstatus, Kreis und Quartier/Im Bau/Kreis 3\",\"Anzahl Wohnungen nach Projektstatus, Kreis und Quartier/Fertigerstellt/Kreis 7\",\"Anzahl Wohnungen nach Projektstatus, Kreis und Quartier/Im Bau/Kreis 8\",\"Anzahl Wohnungen nach Projektstatus, Kreis und Quartier/Im Bau/Kreis 4\",\"Anzahl Wohnungen nach Projektstatus, Kreis und Quartier/Im Bau/Kreis 3\",\"Anzahl Wohnungen nach Projektstatus, Kreis und Quartier/Im Bau/Kreis 9\",\"Anzahl Wohnungen nach Projektstatus, Kreis und Quartier/Bewilligt/Kreis 4\",\"Anzahl Wohnungen nach Projektstatus, Kreis und Quartier/Bewilligt/Kreis 10\",\"Anzahl Wohnungen nach Projektstatus, Kreis und Quartier/Fertigerstellt/Kreis 12\",\"Anzahl Wohnungen nach Projektstatus, Kreis und Quartier/Bewilligt/Kreis 5\",\"Anzahl Wohnungen nach Projektstatus, Kreis und Quartier/Fertigerstellt/Kreis 11\",\"Anzahl Wohnungen nach Projektstatus, Kreis und Quartier/Bewilligt/Kreis 11\",\"Anzahl Wohnungen nach Projektstatus, Kreis und Quartier/Bewilligt/Kreis 2\",\"Anzahl Wohnungen nach Projektstatus, Kreis und Quartier/Im Bau/Kreis 7\",\"Anzahl Wohnungen nach Projektstatus, Kreis und Quartier/Fertigerstellt/Kreis 7\",\"Anzahl Wohnungen nach Projektstatus, Kreis und Quartier/Bewilligt/Kreis 7\",\"Anzahl Wohnungen nach Projektstatus, Kreis und Quartier/Fertigerstellt/Kreis 11\",\"Anzahl Wohnungen nach Projektstatus, Kreis und Quartier/Bewilligt/Kreis 2\",\"Anzahl Wohnungen nach Projektstatus, Kreis und Quartier/Fertigerstellt/Kreis 2\",\"Anzahl Wohnungen nach Projektstatus, Kreis und Quartier/Im Bau/Kreis 10\",\"Anzahl Wohnungen nach Projektstatus, Kreis und Quartier/Bewilligt/Kreis 2\",\"Anzahl Wohnungen nach Projektstatus, Kreis und Quartier/Bewilligt/Kreis 3\",\"Anzahl Wohnungen nach Projektstatus, Kreis und Quartier/Fertigerstellt/Kreis 4\",\"Anzahl Wohnungen nach Projektstatus, Kreis und Quartier/Im Bau/Kreis 10\",\"Anzahl Wohnungen nach Projektstatus, Kreis und Quartier/Fertigerstellt/Kreis 1\",\"Anzahl Wohnungen nach Projektstatus, Kreis und Quartier/Im Bau/Kreis 7\",\"Anzahl Wohnungen nach Projektstatus, Kreis und Quartier/Fertigerstellt/Kreis 6\",\"Anzahl Wohnungen nach Projektstatus, Kreis und Quartier/Im Bau/Kreis 4\",\"Anzahl Wohnungen nach Projektstatus, Kreis und Quartier/Im Bau/Kreis 6\",\"Anzahl Wohnungen nach Projektstatus, Kreis und Quartier/Im Bau/Kreis 7\",\"Anzahl Wohnungen nach Projektstatus, Kreis und Quartier/Im Bau/Kreis 2\",\"Anzahl Wohnungen nach Projektstatus, Kreis und Quartier/Fertigerstellt/Kreis 8\",\"Anzahl Wohnungen nach Projektstatus, Kreis und Quartier/Bewilligt/Kreis 6\",\"Anzahl Wohnungen nach Projektstatus, Kreis und Quartier/Im Bau/Kreis 12\",\"Anzahl Wohnungen nach Projektstatus, Kreis und Quartier/Bewilligt/Kreis 8\",\"Anzahl Wohnungen nach Projektstatus, Kreis und Quartier/Bewilligt/Kreis 11\",\"Anzahl Wohnungen nach Projektstatus, Kreis und Quartier/Fertigerstellt/Kreis 1\",\"Anzahl Wohnungen nach Projektstatus, Kreis und Quartier/Fertigerstellt/Kreis 11\",\"Anzahl Wohnungen nach Projektstatus, Kreis und Quartier/Im Bau/Kreis 11\",\"Anzahl Wohnungen nach Projektstatus, Kreis und Quartier/Bewilligt/Kreis 9\",\"Anzahl Wohnungen nach Projektstatus, Kreis und Quartier/Fertigerstellt/Kreis 9\",\"Anzahl Wohnungen nach Projektstatus, Kreis und Quartier/Bewilligt/Kreis 9\",\"Anzahl Wohnungen nach Projektstatus, Kreis und Quartier/Fertigerstellt/Kreis 9\",\"Anzahl Wohnungen nach Projektstatus, Kreis und Quartier/Im Bau/Kreis 9\",\"Anzahl Wohnungen nach Projektstatus, Kreis und Quartier/Fertigerstellt/Kreis 2\",\"Anzahl Wohnungen nach Projektstatus, Kreis und Quartier/Fertigerstellt/Kreis 5\",\"Anzahl Wohnungen nach Projektstatus, Kreis und Quartier/Im Bau/Kreis 5\",\"Anzahl Wohnungen nach Projektstatus, Kreis und Quartier/Bewilligt/Kreis 7\",\"Anzahl Wohnungen nach Projektstatus, Kreis und Quartier/Im Bau/Kreis 5\",\"Anzahl Wohnungen nach Projektstatus, Kreis und Quartier/Bewilligt/Kreis 7\",\"Anzahl Wohnungen nach Projektstatus, Kreis und Quartier/Im Bau/Kreis 7\",\"Anzahl Wohnungen nach Projektstatus, Kreis und Quartier/Fertigerstellt/Kreis 12\",\"Anzahl Wohnungen nach Projektstatus, Kreis und Quartier/Fertigerstellt/Kreis 7\",\"Anzahl Wohnungen nach Projektstatus, Kreis und Quartier/Bewilligt/Kreis 10\",\"Anzahl Wohnungen nach Projektstatus, Kreis und Quartier/Fertigerstellt/Kreis 2\",\"Anzahl Wohnungen nach Projektstatus, Kreis und Quartier/Im Bau/Kreis 2\",\"Anzahl Wohnungen nach Projektstatus, Kreis und Quartier/Im Bau/Kreis 11\",\"Anzahl Wohnungen nach Projektstatus, Kreis und Quartier/Im Bau/Kreis 4\",\"Anzahl Wohnungen nach Projektstatus, Kreis und Quartier/Fertigerstellt\",\"Anzahl Wohnungen nach Projektstatus, Kreis und Quartier/Bewilligt\",\"Anzahl Wohnungen nach Projektstatus, Kreis und Quartier/Im Bau\",\"Anzahl Wohnungen nach Projektstatus, Kreis und Quartier/Bewilligt\",\"Anzahl Wohnungen nach Projektstatus, Kreis und Quartier/Fertigerstellt\",\"Anzahl Wohnungen nach Projektstatus, Kreis und Quartier/Im Bau\",\"Anzahl Wohnungen nach Projektstatus, Kreis und Quartier/Fertigerstellt\",\"Anzahl Wohnungen nach Projektstatus, Kreis und Quartier/Im Bau\",\"Anzahl Wohnungen nach Projektstatus, Kreis und Quartier/Bewilligt\",\"Anzahl Wohnungen nach Projektstatus, Kreis und Quartier/Fertigerstellt\",\"Anzahl Wohnungen nach Projektstatus, Kreis und Quartier/Im Bau\",\"Anzahl Wohnungen nach Projektstatus, Kreis und Quartier/Bewilligt\",\"Anzahl Wohnungen nach Projektstatus, Kreis und Quartier/Im Bau\",\"Anzahl Wohnungen nach Projektstatus, Kreis und Quartier/Bewilligt\",\"Anzahl Wohnungen nach Projektstatus, Kreis und Quartier/Fertigerstellt\",\"Anzahl Wohnungen nach Projektstatus, Kreis und Quartier/Im Bau\",\"Anzahl Wohnungen nach Projektstatus, Kreis und Quartier/Bewilligt\",\"Anzahl Wohnungen nach Projektstatus, Kreis und Quartier/Fertigerstellt\",\"Anzahl Wohnungen nach Projektstatus, Kreis und Quartier/Im Bau\",\"Anzahl Wohnungen nach Projektstatus, Kreis und Quartier/Bewilligt\",\"Anzahl Wohnungen nach Projektstatus, Kreis und Quartier/Fertigerstellt\",\"Anzahl Wohnungen nach Projektstatus, Kreis und Quartier/Im Bau\",\"Anzahl Wohnungen nach Projektstatus, Kreis und Quartier/Bewilligt\",\"Anzahl Wohnungen nach Projektstatus, Kreis und Quartier/Fertigerstellt\",\"Anzahl Wohnungen nach Projektstatus, Kreis und Quartier/Im Bau\",\"Anzahl Wohnungen nach Projektstatus, Kreis und Quartier/Bewilligt\",\"Anzahl Wohnungen nach Projektstatus, Kreis und Quartier/Fertigerstellt\",\"Anzahl Wohnungen nach Projektstatus, Kreis und Quartier/Im Bau\",\"Anzahl Wohnungen nach Projektstatus, Kreis und Quartier/Bewilligt\",\"Anzahl Wohnungen nach Projektstatus, Kreis und Quartier/Fertigerstellt\",\"Anzahl Wohnungen nach Projektstatus, Kreis und Quartier/Im Bau\",\"Anzahl Wohnungen nach Projektstatus, Kreis und Quartier\",\"Anzahl Wohnungen nach Projektstatus, Kreis und Quartier\",\"Anzahl Wohnungen nach Projektstatus, Kreis und Quartier\",\"\"],\"root\":{\"color\":\"grey\"},\"type\":\"treemap\",\"values\":[320688,49900,216309,53700,18894,867143,95867,46200,131500,73696,34867,18260,26196,623100,734633,56140,347165,31524,19075,10100,38000,25820,131880,70846,93442,13626,33442,103780,3400,349456,103017,48895,134306,36000,33325,180000,63335,91245,13000,116700,38004,239800,2800,88254,120100,18000,6500,11630,10718,289760,71095,38700,165000,159670,593275,49480,190700,245415,22550,26450,22280,57200,11000,12016,18410,56200,10194,136891,47900,191630,37485,136342,157274,140318,1293794,21100,193796,123141,455136,570682,134306,120600,31524,36000,795533,38000,190700,271865,141954,307554,166600,209772,86705,251981,18000,98667,623100,236095,198370,940440,1127551,1726180,5364733,8218464]}],                        {\"height\":400,\"legend\":{\"tracegroupgap\":0},\"margin\":{\"b\":25,\"l\":25,\"r\":250,\"t\":50},\"template\":{\"data\":{\"bar\":[{\"error_x\":{\"color\":\"#2a3f5f\"},\"error_y\":{\"color\":\"#2a3f5f\"},\"marker\":{\"line\":{\"color\":\"#E5ECF6\",\"width\":0.5},\"pattern\":{\"fillmode\":\"overlay\",\"size\":10,\"solidity\":0.2}},\"type\":\"bar\"}],\"barpolar\":[{\"marker\":{\"line\":{\"color\":\"#E5ECF6\",\"width\":0.5},\"pattern\":{\"fillmode\":\"overlay\",\"size\":10,\"solidity\":0.2}},\"type\":\"barpolar\"}],\"carpet\":[{\"aaxis\":{\"endlinecolor\":\"#2a3f5f\",\"gridcolor\":\"white\",\"linecolor\":\"white\",\"minorgridcolor\":\"white\",\"startlinecolor\":\"#2a3f5f\"},\"baxis\":{\"endlinecolor\":\"#2a3f5f\",\"gridcolor\":\"white\",\"linecolor\":\"white\",\"minorgridcolor\":\"white\",\"startlinecolor\":\"#2a3f5f\"},\"type\":\"carpet\"}],\"choropleth\":[{\"colorbar\":{\"outlinewidth\":0,\"ticks\":\"\"},\"type\":\"choropleth\"}],\"contour\":[{\"colorbar\":{\"outlinewidth\":0,\"ticks\":\"\"},\"colorscale\":[[0.0,\"#0d0887\"],[0.1111111111111111,\"#46039f\"],[0.2222222222222222,\"#7201a8\"],[0.3333333333333333,\"#9c179e\"],[0.4444444444444444,\"#bd3786\"],[0.5555555555555556,\"#d8576b\"],[0.6666666666666666,\"#ed7953\"],[0.7777777777777778,\"#fb9f3a\"],[0.8888888888888888,\"#fdca26\"],[1.0,\"#f0f921\"]],\"type\":\"contour\"}],\"contourcarpet\":[{\"colorbar\":{\"outlinewidth\":0,\"ticks\":\"\"},\"type\":\"contourcarpet\"}],\"heatmap\":[{\"colorbar\":{\"outlinewidth\":0,\"ticks\":\"\"},\"colorscale\":[[0.0,\"#0d0887\"],[0.1111111111111111,\"#46039f\"],[0.2222222222222222,\"#7201a8\"],[0.3333333333333333,\"#9c179e\"],[0.4444444444444444,\"#bd3786\"],[0.5555555555555556,\"#d8576b\"],[0.6666666666666666,\"#ed7953\"],[0.7777777777777778,\"#fb9f3a\"],[0.8888888888888888,\"#fdca26\"],[1.0,\"#f0f921\"]],\"type\":\"heatmap\"}],\"heatmapgl\":[{\"colorbar\":{\"outlinewidth\":0,\"ticks\":\"\"},\"colorscale\":[[0.0,\"#0d0887\"],[0.1111111111111111,\"#46039f\"],[0.2222222222222222,\"#7201a8\"],[0.3333333333333333,\"#9c179e\"],[0.4444444444444444,\"#bd3786\"],[0.5555555555555556,\"#d8576b\"],[0.6666666666666666,\"#ed7953\"],[0.7777777777777778,\"#fb9f3a\"],[0.8888888888888888,\"#fdca26\"],[1.0,\"#f0f921\"]],\"type\":\"heatmapgl\"}],\"histogram\":[{\"marker\":{\"pattern\":{\"fillmode\":\"overlay\",\"size\":10,\"solidity\":0.2}},\"type\":\"histogram\"}],\"histogram2d\":[{\"colorbar\":{\"outlinewidth\":0,\"ticks\":\"\"},\"colorscale\":[[0.0,\"#0d0887\"],[0.1111111111111111,\"#46039f\"],[0.2222222222222222,\"#7201a8\"],[0.3333333333333333,\"#9c179e\"],[0.4444444444444444,\"#bd3786\"],[0.5555555555555556,\"#d8576b\"],[0.6666666666666666,\"#ed7953\"],[0.7777777777777778,\"#fb9f3a\"],[0.8888888888888888,\"#fdca26\"],[1.0,\"#f0f921\"]],\"type\":\"histogram2d\"}],\"histogram2dcontour\":[{\"colorbar\":{\"outlinewidth\":0,\"ticks\":\"\"},\"colorscale\":[[0.0,\"#0d0887\"],[0.1111111111111111,\"#46039f\"],[0.2222222222222222,\"#7201a8\"],[0.3333333333333333,\"#9c179e\"],[0.4444444444444444,\"#bd3786\"],[0.5555555555555556,\"#d8576b\"],[0.6666666666666666,\"#ed7953\"],[0.7777777777777778,\"#fb9f3a\"],[0.8888888888888888,\"#fdca26\"],[1.0,\"#f0f921\"]],\"type\":\"histogram2dcontour\"}],\"mesh3d\":[{\"colorbar\":{\"outlinewidth\":0,\"ticks\":\"\"},\"type\":\"mesh3d\"}],\"parcoords\":[{\"line\":{\"colorbar\":{\"outlinewidth\":0,\"ticks\":\"\"}},\"type\":\"parcoords\"}],\"pie\":[{\"automargin\":true,\"type\":\"pie\"}],\"scatter\":[{\"marker\":{\"colorbar\":{\"outlinewidth\":0,\"ticks\":\"\"}},\"type\":\"scatter\"}],\"scatter3d\":[{\"line\":{\"colorbar\":{\"outlinewidth\":0,\"ticks\":\"\"}},\"marker\":{\"colorbar\":{\"outlinewidth\":0,\"ticks\":\"\"}},\"type\":\"scatter3d\"}],\"scattercarpet\":[{\"marker\":{\"colorbar\":{\"outlinewidth\":0,\"ticks\":\"\"}},\"type\":\"scattercarpet\"}],\"scattergeo\":[{\"marker\":{\"colorbar\":{\"outlinewidth\":0,\"ticks\":\"\"}},\"type\":\"scattergeo\"}],\"scattergl\":[{\"marker\":{\"colorbar\":{\"outlinewidth\":0,\"ticks\":\"\"}},\"type\":\"scattergl\"}],\"scattermapbox\":[{\"marker\":{\"colorbar\":{\"outlinewidth\":0,\"ticks\":\"\"}},\"type\":\"scattermapbox\"}],\"scatterpolar\":[{\"marker\":{\"colorbar\":{\"outlinewidth\":0,\"ticks\":\"\"}},\"type\":\"scatterpolar\"}],\"scatterpolargl\":[{\"marker\":{\"colorbar\":{\"outlinewidth\":0,\"ticks\":\"\"}},\"type\":\"scatterpolargl\"}],\"scatterternary\":[{\"marker\":{\"colorbar\":{\"outlinewidth\":0,\"ticks\":\"\"}},\"type\":\"scatterternary\"}],\"surface\":[{\"colorbar\":{\"outlinewidth\":0,\"ticks\":\"\"},\"colorscale\":[[0.0,\"#0d0887\"],[0.1111111111111111,\"#46039f\"],[0.2222222222222222,\"#7201a8\"],[0.3333333333333333,\"#9c179e\"],[0.4444444444444444,\"#bd3786\"],[0.5555555555555556,\"#d8576b\"],[0.6666666666666666,\"#ed7953\"],[0.7777777777777778,\"#fb9f3a\"],[0.8888888888888888,\"#fdca26\"],[1.0,\"#f0f921\"]],\"type\":\"surface\"}],\"table\":[{\"cells\":{\"fill\":{\"color\":\"#EBF0F8\"},\"line\":{\"color\":\"white\"}},\"header\":{\"fill\":{\"color\":\"#C8D4E3\"},\"line\":{\"color\":\"white\"}},\"type\":\"table\"}]},\"layout\":{\"annotationdefaults\":{\"arrowcolor\":\"#2a3f5f\",\"arrowhead\":0,\"arrowwidth\":1},\"autotypenumbers\":\"strict\",\"coloraxis\":{\"colorbar\":{\"outlinewidth\":0,\"ticks\":\"\"}},\"colorscale\":{\"diverging\":[[0,\"#8e0152\"],[0.1,\"#c51b7d\"],[0.2,\"#de77ae\"],[0.3,\"#f1b6da\"],[0.4,\"#fde0ef\"],[0.5,\"#f7f7f7\"],[0.6,\"#e6f5d0\"],[0.7,\"#b8e186\"],[0.8,\"#7fbc41\"],[0.9,\"#4d9221\"],[1,\"#276419\"]],\"sequential\":[[0.0,\"#0d0887\"],[0.1111111111111111,\"#46039f\"],[0.2222222222222222,\"#7201a8\"],[0.3333333333333333,\"#9c179e\"],[0.4444444444444444,\"#bd3786\"],[0.5555555555555556,\"#d8576b\"],[0.6666666666666666,\"#ed7953\"],[0.7777777777777778,\"#fb9f3a\"],[0.8888888888888888,\"#fdca26\"],[1.0,\"#f0f921\"]],\"sequentialminus\":[[0.0,\"#0d0887\"],[0.1111111111111111,\"#46039f\"],[0.2222222222222222,\"#7201a8\"],[0.3333333333333333,\"#9c179e\"],[0.4444444444444444,\"#bd3786\"],[0.5555555555555556,\"#d8576b\"],[0.6666666666666666,\"#ed7953\"],[0.7777777777777778,\"#fb9f3a\"],[0.8888888888888888,\"#fdca26\"],[1.0,\"#f0f921\"]]},\"colorway\":[\"#636efa\",\"#EF553B\",\"#00cc96\",\"#ab63fa\",\"#FFA15A\",\"#19d3f3\",\"#FF6692\",\"#B6E880\",\"#FF97FF\",\"#FECB52\"],\"font\":{\"color\":\"#2a3f5f\"},\"geo\":{\"bgcolor\":\"white\",\"lakecolor\":\"white\",\"landcolor\":\"#E5ECF6\",\"showlakes\":true,\"showland\":true,\"subunitcolor\":\"white\"},\"hoverlabel\":{\"align\":\"left\"},\"hovermode\":\"closest\",\"mapbox\":{\"style\":\"light\"},\"paper_bgcolor\":\"white\",\"plot_bgcolor\":\"#E5ECF6\",\"polar\":{\"angularaxis\":{\"gridcolor\":\"white\",\"linecolor\":\"white\",\"ticks\":\"\"},\"bgcolor\":\"#E5ECF6\",\"radialaxis\":{\"gridcolor\":\"white\",\"linecolor\":\"white\",\"ticks\":\"\"}},\"scene\":{\"xaxis\":{\"backgroundcolor\":\"#E5ECF6\",\"gridcolor\":\"white\",\"gridwidth\":2,\"linecolor\":\"white\",\"showbackground\":true,\"ticks\":\"\",\"zerolinecolor\":\"white\"},\"yaxis\":{\"backgroundcolor\":\"#E5ECF6\",\"gridcolor\":\"white\",\"gridwidth\":2,\"linecolor\":\"white\",\"showbackground\":true,\"ticks\":\"\",\"zerolinecolor\":\"white\"},\"zaxis\":{\"backgroundcolor\":\"#E5ECF6\",\"gridcolor\":\"white\",\"gridwidth\":2,\"linecolor\":\"white\",\"showbackground\":true,\"ticks\":\"\",\"zerolinecolor\":\"white\"}},\"shapedefaults\":{\"line\":{\"color\":\"#2a3f5f\"}},\"ternary\":{\"aaxis\":{\"gridcolor\":\"white\",\"linecolor\":\"white\",\"ticks\":\"\"},\"baxis\":{\"gridcolor\":\"white\",\"linecolor\":\"white\",\"ticks\":\"\"},\"bgcolor\":\"#E5ECF6\",\"caxis\":{\"gridcolor\":\"white\",\"linecolor\":\"white\",\"ticks\":\"\"}},\"title\":{\"x\":0.05},\"xaxis\":{\"automargin\":true,\"gridcolor\":\"white\",\"linecolor\":\"white\",\"ticks\":\"\",\"title\":{\"standoff\":15},\"zerolinecolor\":\"white\",\"zerolinewidth\":2},\"yaxis\":{\"automargin\":true,\"gridcolor\":\"white\",\"linecolor\":\"white\",\"ticks\":\"\",\"title\":{\"standoff\":15},\"zerolinecolor\":\"white\",\"zerolinewidth\":2}}},\"width\":1100},                        {\"responsive\": true}                    ).then(function(){\n",
       "                            \n",
       "var gd = document.getElementById('1249cd43-ae41-4a82-8023-b1dbfa390001');\n",
       "var x = new MutationObserver(function (mutations, observer) {{\n",
       "        var display = window.getComputedStyle(gd).display;\n",
       "        if (!display || display === 'none') {{\n",
       "            console.log([gd, 'removed!']);\n",
       "            Plotly.purge(gd);\n",
       "            observer.disconnect();\n",
       "        }}\n",
       "}});\n",
       "\n",
       "// Listen for the removal of the full notebook cells\n",
       "var notebookContainer = gd.closest('#notebook-container');\n",
       "if (notebookContainer) {{\n",
       "    x.observe(notebookContainer, {childList: true});\n",
       "}}\n",
       "\n",
       "// Listen for the clearing of the current output cell\n",
       "var outputEl = gd.closest('.output');\n",
       "if (outputEl) {{\n",
       "    x.observe(outputEl, {childList: true});\n",
       "}}\n",
       "\n",
       "                        })                };                });            </script>        </div>"
      ]
     },
     "metadata": {},
     "output_type": "display_data"
    }
   ],
   "source": [
    "fig = px.treemap(myTreemapAgg.query('sum_ProjKosten >0').reset_index(), path=[px.Constant(\"Anzahl Wohnungen nach Projektstatus, Kreis und Quartier\"),'ProjStatus', 'KreisLang', 'QuarLang']\n",
    "                 , values='sum_ProjKosten'\n",
    "                 , color='ProjStatus'\n",
    "                 ## bei discrete scales (bei Klassen und Strings):                 \n",
    "                 #, color_discrete_map={'(?)':'lightgrey','EVP':'gold', 'SP':'#FF3030', 'PdA':'#EE3B3B', 'Grüne':'#A2CD5A','GLP':'#CAFF70','Die Mitte':'orange','FDP':'#104E8B','AL':'deeppink','SVP':'forestgreen', 'FL ZÜRI':'#8B864E','Volt':'#lightblue' }                \n",
    "                 ## bei continuous scales (bei Zahlenwerten):\n",
    "                , color_continuous_scale='cividis'\n",
    "                #, color_continuous_midpoint=np.average(df['AnzBestWir'], weights=df['AnzBestWir'])  \n",
    "                 ,height=400\n",
    "                 ,width=1100                 \n",
    "                )\n",
    "fig.update_traces(root_color=\"grey\")\n",
    "fig.update_layout(margin = dict(t=50, l=25, r=250, b=25))\n",
    "fig.show()"
   ]
  },
  {
   "cell_type": "code",
   "execution_count": 117,
   "metadata": {},
   "outputs": [],
   "source": [
    "#data2betested.dtypes"
   ]
  },
  {
   "cell_type": "markdown",
   "metadata": {},
   "source": [
    "**Sharepoint als gecheckt markieren!**"
   ]
  },
  {
   "cell_type": "markdown",
   "metadata": {},
   "source": [
    "Record auf Sharepoint: **[Link](https://kollaboration.intranet.stzh.ch/orga/ssz-produkte/Lists/SASA_Outputs/DispForm.aspx?ID=140&ContentTypeId=0x0100988EAF029F1EFE4CA675F53C32A5D53D01006DBC563E6FBE9E4EB6FDC780799752E1)**"
   ]
  },
  {
   "cell_type": "markdown",
   "metadata": {},
   "source": [
    "## ---------------------- hier Plausi beendet\n",
    "\n",
    "Liniendiagramm \n",
    "[Link zur Doku](https://altair-viz.github.io/gallery/multiline_highlight.html)"
   ]
  },
  {
   "cell_type": "markdown",
   "metadata": {},
   "source": [
    "### Test: Choroplethenkarte\n",
    "Importiere die Geodaten als GeoJSON"
   ]
  },
  {
   "cell_type": "code",
   "execution_count": 153,
   "metadata": {},
   "outputs": [
    {
     "data": {
      "text/html": [
       "<div>\n",
       "<style scoped>\n",
       "    .dataframe tbody tr th:only-of-type {\n",
       "        vertical-align: middle;\n",
       "    }\n",
       "\n",
       "    .dataframe tbody tr th {\n",
       "        vertical-align: top;\n",
       "    }\n",
       "\n",
       "    .dataframe thead th {\n",
       "        text-align: right;\n",
       "    }\n",
       "</style>\n",
       "<table border=\"1\" class=\"dataframe\">\n",
       "  <thead>\n",
       "    <tr style=\"text-align: right;\">\n",
       "      <th></th>\n",
       "      <th>id</th>\n",
       "      <th>kname</th>\n",
       "      <th>knr</th>\n",
       "      <th>objectid</th>\n",
       "      <th>objid</th>\n",
       "      <th>qname</th>\n",
       "      <th>qnr</th>\n",
       "      <th>geometry</th>\n",
       "    </tr>\n",
       "  </thead>\n",
       "  <tbody>\n",
       "    <tr>\n",
       "      <th>0</th>\n",
       "      <td>adm_statistische_quartiere_map.1</td>\n",
       "      <td>Kreis 7</td>\n",
       "      <td>7</td>\n",
       "      <td>1</td>\n",
       "      <td>34</td>\n",
       "      <td>Hirslanden</td>\n",
       "      <td>73</td>\n",
       "      <td>POLYGON ((8.55670 47.36406, 8.55682 47.36410, ...</td>\n",
       "    </tr>\n",
       "    <tr>\n",
       "      <th>1</th>\n",
       "      <td>adm_statistische_quartiere_map.2</td>\n",
       "      <td>Kreis 8</td>\n",
       "      <td>8</td>\n",
       "      <td>2</td>\n",
       "      <td>33</td>\n",
       "      <td>Weinegg</td>\n",
       "      <td>83</td>\n",
       "      <td>POLYGON ((8.55670 47.36405, 8.55672 47.36403, ...</td>\n",
       "    </tr>\n",
       "    <tr>\n",
       "      <th>2</th>\n",
       "      <td>adm_statistische_quartiere_map.3</td>\n",
       "      <td>Kreis 8</td>\n",
       "      <td>8</td>\n",
       "      <td>3</td>\n",
       "      <td>32</td>\n",
       "      <td>Mühlebach</td>\n",
       "      <td>82</td>\n",
       "      <td>POLYGON ((8.55423 47.36456, 8.55426 47.36452, ...</td>\n",
       "    </tr>\n",
       "    <tr>\n",
       "      <th>3</th>\n",
       "      <td>adm_statistische_quartiere_map.4</td>\n",
       "      <td>Kreis 8</td>\n",
       "      <td>8</td>\n",
       "      <td>4</td>\n",
       "      <td>31</td>\n",
       "      <td>Seefeld</td>\n",
       "      <td>81</td>\n",
       "      <td>POLYGON ((8.54795 47.36500, 8.54805 47.36489, ...</td>\n",
       "    </tr>\n",
       "    <tr>\n",
       "      <th>4</th>\n",
       "      <td>adm_statistische_quartiere_map.7</td>\n",
       "      <td>Kreis 4</td>\n",
       "      <td>4</td>\n",
       "      <td>7</td>\n",
       "      <td>16</td>\n",
       "      <td>Werd</td>\n",
       "      <td>41</td>\n",
       "      <td>POLYGON ((8.53300 47.37394, 8.53299 47.37392, ...</td>\n",
       "    </tr>\n",
       "  </tbody>\n",
       "</table>\n",
       "</div>"
      ],
      "text/plain": [
       "                                 id    kname  knr  objectid objid       qname  qnr  \\\n",
       "0  adm_statistische_quartiere_map.1  Kreis 7    7         1    34  Hirslanden   73   \n",
       "1  adm_statistische_quartiere_map.2  Kreis 8    8         2    33     Weinegg   83   \n",
       "2  adm_statistische_quartiere_map.3  Kreis 8    8         3    32   Mühlebach   82   \n",
       "3  adm_statistische_quartiere_map.4  Kreis 8    8         4    31     Seefeld   81   \n",
       "4  adm_statistische_quartiere_map.7  Kreis 4    4         7    16        Werd   41   \n",
       "\n",
       "                                            geometry  \n",
       "0  POLYGON ((8.55670 47.36406, 8.55682 47.36410, ...  \n",
       "1  POLYGON ((8.55670 47.36405, 8.55672 47.36403, ...  \n",
       "2  POLYGON ((8.55423 47.36456, 8.55426 47.36452, ...  \n",
       "3  POLYGON ((8.54795 47.36500, 8.54805 47.36489, ...  \n",
       "4  POLYGON ((8.53300 47.37394, 8.53299 47.37392, ...  "
      ]
     },
     "execution_count": 153,
     "metadata": {},
     "output_type": "execute_result"
    }
   ],
   "source": [
    "# Read abt. Geopandas https://geopandas.org/docs/user_guide/io.html\n",
    "# Wenn die Daten lokal agelegt sind, dann kannst Du folgendes machen:\n",
    "##input_stadtquartiere = r\"//szh.loc/ssz/data/GIS/Daten/Vektor/_aktuell/stzh.adm_statistische_quartiere_map.json\"\n",
    "##df_stadtquartiere = gpd.read_file(input_stadtquartiere)\n",
    "##df_stadtquartiere.head(2)\n",
    "#df_stadtkreise.dtypes\n",
    "\n",
    "geojson_url = \"https://www.ogd.stadt-zuerich.ch/wfs/geoportal/Statistische_Quartiere?service=WFS&version=1.1.0&request=GetFeature&outputFormat=GeoJSON&typename=adm_statistische_quartiere_map\"\n",
    "df_adm_statistische_quartiere_map = gpd.read_file(geojson_url)\n",
    "\n",
    "df_adm_statistische_quartiere_map.head(5)\n"
   ]
  },
  {
   "cell_type": "markdown",
   "metadata": {},
   "source": [
    "Joine die importierten statistischen Daten des aktuellen Jahres zum Geodatensatz:\n",
    "\n",
    "*Siehe dazu Doku zu [Geopandas](https://geopandas.org/docs/user_guide/mergingdata.html)*"
   ]
  },
  {
   "cell_type": "code",
   "execution_count": 154,
   "metadata": {},
   "outputs": [
    {
     "data": {
      "text/html": [
       "<div>\n",
       "<style scoped>\n",
       "    .dataframe tbody tr th:only-of-type {\n",
       "        vertical-align: middle;\n",
       "    }\n",
       "\n",
       "    .dataframe tbody tr th {\n",
       "        vertical-align: top;\n",
       "    }\n",
       "\n",
       "    .dataframe thead th {\n",
       "        text-align: right;\n",
       "    }\n",
       "</style>\n",
       "<table border=\"1\" class=\"dataframe\">\n",
       "  <thead>\n",
       "    <tr style=\"text-align: right;\">\n",
       "      <th></th>\n",
       "      <th></th>\n",
       "      <th></th>\n",
       "      <th></th>\n",
       "      <th>AnzBestWir</th>\n",
       "    </tr>\n",
       "    <tr>\n",
       "      <th>StichtagDatJahr</th>\n",
       "      <th>StichtagDatMM</th>\n",
       "      <th>QuarCd</th>\n",
       "      <th>QuarLang</th>\n",
       "      <th></th>\n",
       "    </tr>\n",
       "  </thead>\n",
       "  <tbody>\n",
       "    <tr>\n",
       "      <th rowspan=\"5\" valign=\"top\">2021</th>\n",
       "      <th rowspan=\"5\" valign=\"top\">11</th>\n",
       "      <th>11</th>\n",
       "      <th>Rathaus</th>\n",
       "      <td>3283</td>\n",
       "    </tr>\n",
       "    <tr>\n",
       "      <th>12</th>\n",
       "      <th>Hochschulen</th>\n",
       "      <td>718</td>\n",
       "    </tr>\n",
       "    <tr>\n",
       "      <th>13</th>\n",
       "      <th>Lindenhof</th>\n",
       "      <td>1033</td>\n",
       "    </tr>\n",
       "    <tr>\n",
       "      <th>14</th>\n",
       "      <th>City</th>\n",
       "      <td>835</td>\n",
       "    </tr>\n",
       "    <tr>\n",
       "      <th>21</th>\n",
       "      <th>Wollishofen</th>\n",
       "      <td>20002</td>\n",
       "    </tr>\n",
       "  </tbody>\n",
       "</table>\n",
       "</div>"
      ],
      "text/plain": [
       "                                                  AnzBestWir\n",
       "StichtagDatJahr StichtagDatMM QuarCd QuarLang               \n",
       "2021            11            11     Rathaus            3283\n",
       "                              12     Hochschulen         718\n",
       "                              13     Lindenhof          1033\n",
       "                              14     City                835\n",
       "                              21     Wollishofen       20002"
      ]
     },
     "execution_count": 154,
     "metadata": {},
     "output_type": "execute_result"
    }
   ],
   "source": [
    "akt_wbev_quart = data2betested.loc[\"2021-11\"].groupby(\n",
    "    ['StichtagDatJahr','StichtagDatMM','QuarCd','QuarLang']\n",
    ").agg(\n",
    "    {'AnzBestWir':'sum'}\n",
    ")\n",
    "akt_wbev_quart.head()\n"
   ]
  },
  {
   "cell_type": "code",
   "execution_count": 158,
   "metadata": {},
   "outputs": [
    {
     "data": {
      "text/html": [
       "<div>\n",
       "<style scoped>\n",
       "    .dataframe tbody tr th:only-of-type {\n",
       "        vertical-align: middle;\n",
       "    }\n",
       "\n",
       "    .dataframe tbody tr th {\n",
       "        vertical-align: top;\n",
       "    }\n",
       "\n",
       "    .dataframe thead th {\n",
       "        text-align: right;\n",
       "    }\n",
       "</style>\n",
       "<table border=\"1\" class=\"dataframe\">\n",
       "  <thead>\n",
       "    <tr style=\"text-align: right;\">\n",
       "      <th></th>\n",
       "      <th>geometry</th>\n",
       "      <th>QuarCd</th>\n",
       "      <th>qname</th>\n",
       "      <th>knr</th>\n",
       "      <th>AnzBestWir</th>\n",
       "    </tr>\n",
       "  </thead>\n",
       "  <tbody>\n",
       "    <tr>\n",
       "      <th>0</th>\n",
       "      <td>POLYGON ((8.55670 47.36406, 8.55682 47.36410, ...</td>\n",
       "      <td>73</td>\n",
       "      <td>Hirslanden</td>\n",
       "      <td>7</td>\n",
       "      <td>7342</td>\n",
       "    </tr>\n",
       "    <tr>\n",
       "      <th>1</th>\n",
       "      <td>POLYGON ((8.55670 47.36405, 8.55672 47.36403, ...</td>\n",
       "      <td>83</td>\n",
       "      <td>Weinegg</td>\n",
       "      <td>8</td>\n",
       "      <td>5564</td>\n",
       "    </tr>\n",
       "  </tbody>\n",
       "</table>\n",
       "</div>"
      ],
      "text/plain": [
       "                                            geometry  QuarCd       qname  knr  AnzBestWir\n",
       "0  POLYGON ((8.55670 47.36406, 8.55682 47.36410, ...      73  Hirslanden    7        7342\n",
       "1  POLYGON ((8.55670 47.36405, 8.55672 47.36403, ...      83     Weinegg    8        5564"
      ]
     },
     "execution_count": 158,
     "metadata": {},
     "output_type": "execute_result"
    }
   ],
   "source": [
    "# Rename attribute stznr to StatZoneSort, so the IDs have the same name\n",
    "stadtquartiere_shapes = df_adm_statistische_quartiere_map[['geometry', 'qnr', 'qname', 'knr']].rename(columns={'qnr': 'QuarCd'})\n",
    "\n",
    "# Merge with `merge` method on shared variable (stznr und StatZoneSort):\n",
    "stadtquartiere_shapes_joined = stadtquartiere_shapes.merge(akt_wbev_quart, on='QuarCd')\n",
    "\n",
    "stadtquartiere_shapes_joined.head(2)\n"
   ]
  },
  {
   "cell_type": "code",
   "execution_count": 159,
   "metadata": {},
   "outputs": [
    {
     "data": {
      "text/plain": [
       "<AxesSubplot:>"
      ]
     },
     "execution_count": 159,
     "metadata": {},
     "output_type": "execute_result"
    },
    {
     "data": {
      "image/png": "[encoded data removed]",
      "text/plain": [
       "<Figure size 432x288 with 1 Axes>"
      ]
     },
     "metadata": {
      "needs_background": "light"
     },
     "output_type": "display_data"
    },
    {
     "data": {
      "image/png": "[encoded data removed]",
      "text/plain": [
       "<Figure size 432x288 with 1 Axes>"
      ]
     },
     "metadata": {
      "needs_background": "light"
     },
     "output_type": "display_data"
    },
    {
     "data": {
      "image/png": "[encoded data removed]",
      "text/plain": [
       "<Figure size 432x288 with 1 Axes>"
      ]
     },
     "metadata": {
      "needs_background": "light"
     },
     "output_type": "display_data"
    }
   ],
   "source": [
    "# Plot by StatQuartiere\n",
    "# Weitere Schemes: scheme='quantiles', scheme='fisherjenks', scheme='natural_breaks',\n",
    "\n",
    "stadtquartiere_shapes_joined.plot(column='AnzBestWir', cmap='viridis', scheme='natural_breaks', legend=True )\n",
    "#scheme werte: https://matplotlib.org/2.0.2/users/colormaps.html\n",
    "\n",
    "stadtquartiere_shapes_joined.plot(column='AnzBestWir', cmap='plasma', scheme='fisherjenks', legend=True )\n",
    "#scheme werte: https://matplotlib.org/2.0.2/users/colormaps.html\n",
    "stadtquartiere_shapes_joined.plot(column='AnzBestWir', cmap='cool', scheme='quantiles', legend=True )\n",
    "#scheme werte: https://matplotlib.org/2.0.2/users/colormaps.html\n",
    "\n",
    "#\n",
    "#Neuere Gallerie: https://matplotlib.org/stable/gallery/index.html"
   ]
  },
  {
   "cell_type": "raw",
   "metadata": {},
   "source": [
    "fig, ax = plt.subplots(1, 1)\n",
    "\n",
    "statzonen_shapes_aktJahr.plot(column='AnzWhg', ax=ax, legend=True, legend_kwds={'label': \"Anzahl Personen\",'orientation': \"horizontal\"})\n"
   ]
  },
  {
   "cell_type": "markdown",
   "metadata": {},
   "source": [
    "Noch zu prüfen, folgendes schöne Beispiel: https://docs.bokeh.org/en/latest/docs/user_guide/interaction/legends.html\n",
    "\n",
    "Konkrete Beispiele von Bookeh in Jupyter NB: https://docs.bokeh.org/en/latest/docs/user_guide/jupyter.html"
   ]
  },
  {
   "cell_type": "code",
   "execution_count": null,
   "metadata": {},
   "outputs": [],
   "source": []
  },
  {
   "cell_type": "raw",
   "metadata": {},
   "source": []
  },
  {
   "cell_type": "code",
   "execution_count": null,
   "metadata": {},
   "outputs": [],
   "source": []
  }
 ],
 "metadata": {
  "kernelspec": {
   "display_name": "Python 3 (ipykernel)",
   "language": "python",
   "name": "python3"
  },
  "language_info": {
   "codemirror_mode": {
    "name": "ipython",
    "version": 3
   },
   "file_extension": ".py",
   "mimetype": "text/x-python",
   "name": "python",
   "nbconvert_exporter": "python",
   "pygments_lexer": "ipython3",
   "version": "3.9.7"
  }
 },
 "nbformat": 4,
 "nbformat_minor": 4
}
