{
 "cells": [
  {
   "cell_type": "markdown",
   "metadata": {},
   "source": [
    "# Stehsatz(!)\n",
    "### Grundstückspreise (Median) der im Freihandkauf umgesetzten bebauten Grundstücke nach Stadtquartier und Zonenart (ohne StWE, nur BZO99), bis 2018\n",
    "Diese Daten beihnalten die die Medianpreise pro Quadratmeter Bauland von gehandelten Grundstücken in der Stadt Zürich nach Handänderungsjahr, Stadtquartier und Zonenart. Aufgrund der Einführung der neuen Bau- und Zonenordnung im November 2018 endet die Zeitreihe im November 2018.\n",
    "\n",
    "**Anpassung vom 07.11.2022: OD5125 wurde zu OD5173. Ab dem 3.2.2023 wird sich auch die Datenstruktur ändern.**\n",
    "\n",
    "Datum: 07.02.2022"
   ]
  },
  {
   "cell_type": "markdown",
   "metadata": {},
   "source": [
    "### Importiere die notwendigen Packages"
   ]
  },
  {
   "cell_type": "code",
   "execution_count": 1,
   "metadata": {},
   "outputs": [],
   "source": [
    "#%pip install geopandas altair fiona requests folium mplleaflet contextily seaborn datetime plotly leafmap"
   ]
  },
  {
   "cell_type": "code",
   "execution_count": 2,
   "metadata": {},
   "outputs": [],
   "source": [
    "import pandas as pd\n",
    "import pivottablejs\n",
    "from pivottablejs import pivot_ui\n",
    "import numpy as np\n",
    "import altair as alt\n",
    "import matplotlib.pyplot as plt\n",
    "#from datetime import datetime\n",
    "import datetime\n",
    "import geopandas as gpd\n",
    "import folium \n",
    "import plotly.express as px\n",
    "import seaborn as sns\n",
    "import leafmap\n"
   ]
  },
  {
   "cell_type": "markdown",
   "metadata": {},
   "source": [
    "Definiere Settings. Hier das Zahlenformat von Float-Werten (z.B. *'{:,.2f}'.format* mit Komma als Tausenderzeichen), "
   ]
  },
  {
   "cell_type": "code",
   "execution_count": 3,
   "metadata": {},
   "outputs": [],
   "source": [
    "pd.options.display.float_format = '{:.0f}'.format\n",
    "pd.set_option('display.width', 100)\n",
    "pd.set_option('display.max_columns', 15)"
   ]
  },
  {
   "cell_type": "markdown",
   "metadata": {},
   "source": [
    "### Zeitvariabeln\n",
    "Bestimme den aktuellst geladenen Monat. Hier ist es der Stand vor 2 Monaten. \n",
    "Bestimme noch weitere evt. sinnvolle Zeitvariabeln.\n",
    "\n",
    "Zum Unterschied zwischen import datetime und from datedtime import datetime, siehe https://stackoverflow.com/questions/15707532/import-datetime-v-s-from-datetime-import-datetime\n",
    "\n",
    "Zuerst die Zeitvariabeln als Strings"
   ]
  },
  {
   "cell_type": "code",
   "execution_count": 4,
   "metadata": {},
   "outputs": [],
   "source": [
    "#today_date = datetime.date.today()\n",
    "#date_time = datetime.datetime.strptime(date_time_string, '%Y-%m-%d %H:%M')\n",
    "now = datetime.date.today()\n",
    "date_today = now.strftime(\"%Y-%m-%d\")\n",
    "year_today = now.strftime(\"%Y\")\n",
    "month_today = now.strftime(\"%m\")\n",
    "day_today = now.strftime(\"%d\")\n"
   ]
  },
  {
   "cell_type": "markdown",
   "metadata": {},
   "source": [
    "Und hier noch die Zeitvariabeln als Integers:\n",
    "- `aktuellesJahr`\n",
    "- `aktuellerMonat`: Der gerade jetzt aktuelle Monat\n",
    "- `selectedMonat`: Der aktuellste Monat in den Daten. In der Regel zwei Monate her."
   ]
  },
  {
   "cell_type": "code",
   "execution_count": 5,
   "metadata": {},
   "outputs": [
    {
     "name": "stdout",
     "output_type": "stream",
     "text": [
      "2022 11 datenstand:  9 time.struct_time(tm_year=2022, tm_mon=11, tm_mday=11, tm_hour=0, tm_min=0, tm_sec=0, tm_wday=4, tm_yday=315, tm_isdst=-1)\n"
     ]
    }
   ],
   "source": [
    "#now = datetime.now() \n",
    "int_times = now.timetuple()\n",
    "\n",
    "aktuellesJahr = int_times[0]\n",
    "aktuellerMonat = int_times[1]\n",
    "selectedMonat = int_times[1]-2\n",
    "\n",
    "print(aktuellesJahr, \n",
    "      aktuellerMonat,\n",
    "    'datenstand: ', selectedMonat,\n",
    "     int_times)\n"
   ]
  },
  {
   "cell_type": "markdown",
   "metadata": {},
   "source": [
    "Berechne die Variable Epoche um später das SAS-Datum in ein Unix-Datum umzuwandeln. Bei SAS beginnt die Epoche am 1.1.1960. Bei Unix am 1.1.1970.\n",
    "Diese Variable wird beim CSV-Import benötigt."
   ]
  },
  {
   "cell_type": "code",
   "execution_count": 6,
   "metadata": {},
   "outputs": [],
   "source": [
    "epoch = datetime.datetime(1960, 1, 1)"
   ]
  },
  {
   "cell_type": "markdown",
   "metadata": {
    "tags": []
   },
   "source": [
    "### Importiere einen Datensatz \n",
    "\n",
    "- Beachte dabei die Notation des Pfades...\n",
    "- Definiere mal aktuell noch keine weiteren Parameter beim Import"
   ]
  },
  {
   "cell_type": "markdown",
   "metadata": {},
   "source": [
    "**Dataset auf INTEG Datenkatalog**:  https://data.integ.stadt-zuerich.ch/dataset/int_dwh_bau_hae_preis_quartier_zonenart_ohne_stwe_bzo99_bis2018_od5173\n",
    "\n",
    "**Dataset auf PROD Datenkatalog**:  https://data.stadt-zuerich.ch/dataset/bau_hae_preis_quartier_zonenart_ohne_stwe_bzo99_bis2018_od5173\n"
   ]
  },
  {
   "cell_type": "code",
   "execution_count": 7,
   "metadata": {},
   "outputs": [
    {
     "name": "stdout",
     "output_type": "stream",
     "text": [
      "prod\n"
     ]
    }
   ],
   "source": [
    "#Die Datasets sind nur zum Testen auf INT-DWH-Dropzone. Wenn der Test vorbei ist, sind sie auf PROD. \n",
    "# Über den Status kann man einfach switchen\n",
    "\n",
    "status = \"prod\";\n",
    "print(status)"
   ]
  },
  {
   "cell_type": "code",
   "execution_count": 8,
   "metadata": {
    "tags": []
   },
   "outputs": [
    {
     "name": "stdout",
     "output_type": "stream",
     "text": [
      "https://data.stadt-zuerich.ch/dataset/bau_hae_preis_quartier_zonenart_ohne_stwe_bzo99_bis2018_od5173/download/BAU517OD5173.csv\n"
     ]
    }
   ],
   "source": [
    "# Filepath\n",
    "if status == \"prod\":\n",
    "    fp = r\"https://data.stadt-zuerich.ch/dataset/bau_hae_preis_quartier_zonenart_ohne_stwe_bzo99_bis2018_od5173/download/BAU517OD5173.csv\"\n",
    "else:\n",
    "    fp = r\"\\\\szh\\ssz\\applikationen\\OGD_Dropzone\\INT_DWH\\bau_hae_preis_quartier_zonenart_ohne_stwe_bzo99_bis2018_od5173\\BAU517OD5173.csv\"   \n",
    "\n",
    "print(fp)"
   ]
  },
  {
   "cell_type": "code",
   "execution_count": 9,
   "metadata": {
    "tags": []
   },
   "outputs": [
    {
     "name": "stdout",
     "output_type": "stream",
     "text": [
      "done\n"
     ]
    }
   ],
   "source": [
    "# Read the data\n",
    "data2betested = pd.read_csv(\n",
    "    fp\n",
    "    , sep=','\n",
    "    ,parse_dates=['Stichtagdatjahr']\n",
    "    # KONVERTIERE DAS SAS DATUM IN EIN UNIXDATUM UND FORMATIERE ES\n",
    "    #, date_parser=lambda s: epoch + datetime.timedelta(days=int(s))\n",
    "    ,low_memory=False    \n",
    "    )\n",
    "\n",
    "print('done')"
   ]
  },
  {
   "cell_type": "code",
   "execution_count": 10,
   "metadata": {},
   "outputs": [
    {
     "data": {
      "text/html": [
       "<div>\n",
       "<style scoped>\n",
       "    .dataframe tbody tr th:only-of-type {\n",
       "        vertical-align: middle;\n",
       "    }\n",
       "\n",
       "    .dataframe tbody tr th {\n",
       "        vertical-align: top;\n",
       "    }\n",
       "\n",
       "    .dataframe thead th {\n",
       "        text-align: right;\n",
       "    }\n",
       "</style>\n",
       "<table border=\"1\" class=\"dataframe\">\n",
       "  <thead>\n",
       "    <tr style=\"text-align: right;\">\n",
       "      <th></th>\n",
       "      <th>Stichtagdatjahr</th>\n",
       "      <th>QuarLang</th>\n",
       "      <th>QuarCd</th>\n",
       "      <th>QuarSort</th>\n",
       "      <th>qmp_verk_grstfl</th>\n",
       "      <th>ZonenSSZPubl1Cd</th>\n",
       "      <th>ZonenSSZPubl1Lang</th>\n",
       "      <th>...</th>\n",
       "      <th>BetrachteteHALang</th>\n",
       "      <th>BetrachteteHASort</th>\n",
       "      <th>BZOCd</th>\n",
       "      <th>BZOLang</th>\n",
       "      <th>BZOSort</th>\n",
       "      <th>Jahr</th>\n",
       "      <th>StichtagDatJahr</th>\n",
       "    </tr>\n",
       "  </thead>\n",
       "  <tbody>\n",
       "    <tr>\n",
       "      <th>0</th>\n",
       "      <td>2014-01-01</td>\n",
       "      <td>Affoltern</td>\n",
       "      <td>111</td>\n",
       "      <td>111</td>\n",
       "      <td>4070</td>\n",
       "      <td>130</td>\n",
       "      <td>Kernzone</td>\n",
       "      <td>...</td>\n",
       "      <td>Freihandkäufe ohne Stockwerkeigentum</td>\n",
       "      <td>2</td>\n",
       "      <td>0</td>\n",
       "      <td>BZO99</td>\n",
       "      <td>0</td>\n",
       "      <td>2014-01-01</td>\n",
       "      <td>2014-01-01</td>\n",
       "    </tr>\n",
       "  </tbody>\n",
       "</table>\n",
       "<p>1 rows × 27 columns</p>\n",
       "</div>"
      ],
      "text/plain": [
       "  Stichtagdatjahr   QuarLang  QuarCd  QuarSort  qmp_verk_grstfl  ZonenSSZPubl1Cd  \\\n",
       "0      2014-01-01  Affoltern     111       111             4070              130   \n",
       "\n",
       "  ZonenSSZPubl1Lang  ...                     BetrachteteHALang BetrachteteHASort BZOCd  BZOLang  \\\n",
       "0          Kernzone  ...  Freihandkäufe ohne Stockwerkeigentum                 2     0    BZO99   \n",
       "\n",
       "   BZOSort       Jahr  StichtagDatJahr  \n",
       "0        0 2014-01-01       2014-01-01  \n",
       "\n",
       "[1 rows x 27 columns]"
      ]
     },
     "execution_count": 10,
     "metadata": {},
     "output_type": "execute_result"
    }
   ],
   "source": [
    "#Abfangen immer anderer Schreibweisen der Zeitvariabeln\n",
    "data2betested[\"Jahr\"] =data2betested[[\"Stichtagdatjahr\"]]\n",
    "data2betested[\"StichtagDatJahr\"] =data2betested[[\"Stichtagdatjahr\"]]\n",
    "data2betested.head(1)"
   ]
  },
  {
   "cell_type": "markdown",
   "metadata": {},
   "source": [
    "In der Folge ein paar erste Tests:"
   ]
  },
  {
   "cell_type": "markdown",
   "metadata": {},
   "source": [
    " - 1) Zeige eine kurze Vorschau der importierten Daten\n",
    " - 2) Weise die Datentypen aus\n",
    " - 3) Zeige die Shape (Umfang) des Datensatzes an"
   ]
  },
  {
   "cell_type": "code",
   "execution_count": 11,
   "metadata": {},
   "outputs": [],
   "source": [
    "#data2betested.head(6)"
   ]
  },
  {
   "cell_type": "code",
   "execution_count": 12,
   "metadata": {},
   "outputs": [
    {
     "data": {
      "text/plain": [
       "Stichtagdatjahr      datetime64[ns]\n",
       "QuarLang                     object\n",
       "QuarCd                        int64\n",
       "QuarSort                      int64\n",
       "qmp_verk_grstfl               int64\n",
       "ZonenSSZPubl1Cd               int64\n",
       "ZonenSSZPubl1Lang            object\n",
       "ZonenSSZPubl1Sort             int64\n",
       "Anzahl_HAE                   object\n",
       "HAArtLevel2Lang              object\n",
       "HAArtLevel2Sort               int64\n",
       "HAArtLevel2Cd                 int64\n",
       "DatenstandCd                 object\n",
       "HandaenderungCd               int64\n",
       "HandaenderungLang            object\n",
       "HandaenderungSort             int64\n",
       "AbzugGVZCd                    int64\n",
       "AbzugGVZSort                  int64\n",
       "AbzugGVZLang                 object\n",
       "BetrachteteHACd               int64\n",
       "BetrachteteHALang            object\n",
       "BetrachteteHASort             int64\n",
       "BZOCd                         int64\n",
       "BZOLang                      object\n",
       "BZOSort                       int64\n",
       "Jahr                 datetime64[ns]\n",
       "StichtagDatJahr      datetime64[ns]\n",
       "dtype: object"
      ]
     },
     "execution_count": 12,
     "metadata": {},
     "output_type": "execute_result"
    }
   ],
   "source": [
    "data2betested.dtypes"
   ]
  },
  {
   "cell_type": "code",
   "execution_count": 13,
   "metadata": {},
   "outputs": [
    {
     "data": {
      "text/plain": [
       "(874, 27)"
      ]
     },
     "execution_count": 13,
     "metadata": {},
     "output_type": "execute_result"
    }
   ],
   "source": [
    "data2betested.shape"
   ]
  },
  {
   "cell_type": "markdown",
   "metadata": {},
   "source": [
    "Beschreibe einzelne Attribute"
   ]
  },
  {
   "cell_type": "code",
   "execution_count": 14,
   "metadata": {},
   "outputs": [
    {
     "data": {
      "text/html": [
       "<div>\n",
       "<style scoped>\n",
       "    .dataframe tbody tr th:only-of-type {\n",
       "        vertical-align: middle;\n",
       "    }\n",
       "\n",
       "    .dataframe tbody tr th {\n",
       "        vertical-align: top;\n",
       "    }\n",
       "\n",
       "    .dataframe thead th {\n",
       "        text-align: right;\n",
       "    }\n",
       "</style>\n",
       "<table border=\"1\" class=\"dataframe\">\n",
       "  <thead>\n",
       "    <tr style=\"text-align: right;\">\n",
       "      <th></th>\n",
       "      <th>QuarCd</th>\n",
       "      <th>QuarSort</th>\n",
       "      <th>qmp_verk_grstfl</th>\n",
       "      <th>ZonenSSZPubl1Cd</th>\n",
       "      <th>ZonenSSZPubl1Sort</th>\n",
       "      <th>HAArtLevel2Sort</th>\n",
       "      <th>HAArtLevel2Cd</th>\n",
       "      <th>HandaenderungCd</th>\n",
       "      <th>HandaenderungSort</th>\n",
       "      <th>AbzugGVZCd</th>\n",
       "      <th>AbzugGVZSort</th>\n",
       "      <th>BetrachteteHACd</th>\n",
       "      <th>BetrachteteHASort</th>\n",
       "      <th>BZOCd</th>\n",
       "      <th>BZOSort</th>\n",
       "    </tr>\n",
       "  </thead>\n",
       "  <tbody>\n",
       "    <tr>\n",
       "      <th>count</th>\n",
       "      <td>874</td>\n",
       "      <td>874</td>\n",
       "      <td>874</td>\n",
       "      <td>874</td>\n",
       "      <td>874</td>\n",
       "      <td>874</td>\n",
       "      <td>874</td>\n",
       "      <td>874</td>\n",
       "      <td>874</td>\n",
       "      <td>874</td>\n",
       "      <td>874</td>\n",
       "      <td>874</td>\n",
       "      <td>874</td>\n",
       "      <td>874</td>\n",
       "      <td>874</td>\n",
       "    </tr>\n",
       "    <tr>\n",
       "      <th>mean</th>\n",
       "      <td>72</td>\n",
       "      <td>72</td>\n",
       "      <td>10879</td>\n",
       "      <td>117</td>\n",
       "      <td>118</td>\n",
       "      <td>1</td>\n",
       "      <td>1</td>\n",
       "      <td>1</td>\n",
       "      <td>1</td>\n",
       "      <td>0</td>\n",
       "      <td>0</td>\n",
       "      <td>2</td>\n",
       "      <td>2</td>\n",
       "      <td>0</td>\n",
       "      <td>0</td>\n",
       "    </tr>\n",
       "    <tr>\n",
       "      <th>std</th>\n",
       "      <td>35</td>\n",
       "      <td>35</td>\n",
       "      <td>14701</td>\n",
       "      <td>12</td>\n",
       "      <td>12</td>\n",
       "      <td>0</td>\n",
       "      <td>0</td>\n",
       "      <td>0</td>\n",
       "      <td>0</td>\n",
       "      <td>0</td>\n",
       "      <td>0</td>\n",
       "      <td>0</td>\n",
       "      <td>0</td>\n",
       "      <td>0</td>\n",
       "      <td>0</td>\n",
       "    </tr>\n",
       "    <tr>\n",
       "      <th>min</th>\n",
       "      <td>11</td>\n",
       "      <td>11</td>\n",
       "      <td>0</td>\n",
       "      <td>110</td>\n",
       "      <td>111</td>\n",
       "      <td>1</td>\n",
       "      <td>1</td>\n",
       "      <td>1</td>\n",
       "      <td>1</td>\n",
       "      <td>0</td>\n",
       "      <td>0</td>\n",
       "      <td>2</td>\n",
       "      <td>2</td>\n",
       "      <td>0</td>\n",
       "      <td>0</td>\n",
       "    </tr>\n",
       "    <tr>\n",
       "      <th>25%</th>\n",
       "      <td>34</td>\n",
       "      <td>34</td>\n",
       "      <td>3915</td>\n",
       "      <td>111</td>\n",
       "      <td>112</td>\n",
       "      <td>1</td>\n",
       "      <td>1</td>\n",
       "      <td>1</td>\n",
       "      <td>1</td>\n",
       "      <td>0</td>\n",
       "      <td>0</td>\n",
       "      <td>2</td>\n",
       "      <td>2</td>\n",
       "      <td>0</td>\n",
       "      <td>0</td>\n",
       "    </tr>\n",
       "    <tr>\n",
       "      <th>50%</th>\n",
       "      <td>73</td>\n",
       "      <td>73</td>\n",
       "      <td>6380</td>\n",
       "      <td>112</td>\n",
       "      <td>113</td>\n",
       "      <td>1</td>\n",
       "      <td>1</td>\n",
       "      <td>1</td>\n",
       "      <td>1</td>\n",
       "      <td>0</td>\n",
       "      <td>0</td>\n",
       "      <td>2</td>\n",
       "      <td>2</td>\n",
       "      <td>0</td>\n",
       "      <td>0</td>\n",
       "    </tr>\n",
       "    <tr>\n",
       "      <th>75%</th>\n",
       "      <td>102</td>\n",
       "      <td>102</td>\n",
       "      <td>12430</td>\n",
       "      <td>113</td>\n",
       "      <td>120</td>\n",
       "      <td>1</td>\n",
       "      <td>1</td>\n",
       "      <td>1</td>\n",
       "      <td>1</td>\n",
       "      <td>0</td>\n",
       "      <td>0</td>\n",
       "      <td>2</td>\n",
       "      <td>2</td>\n",
       "      <td>0</td>\n",
       "      <td>0</td>\n",
       "    </tr>\n",
       "    <tr>\n",
       "      <th>max</th>\n",
       "      <td>123</td>\n",
       "      <td>123</td>\n",
       "      <td>191430</td>\n",
       "      <td>161</td>\n",
       "      <td>161</td>\n",
       "      <td>1</td>\n",
       "      <td>1</td>\n",
       "      <td>1</td>\n",
       "      <td>1</td>\n",
       "      <td>0</td>\n",
       "      <td>0</td>\n",
       "      <td>2</td>\n",
       "      <td>2</td>\n",
       "      <td>0</td>\n",
       "      <td>0</td>\n",
       "    </tr>\n",
       "  </tbody>\n",
       "</table>\n",
       "</div>"
      ],
      "text/plain": [
       "       QuarCd  QuarSort  qmp_verk_grstfl  ZonenSSZPubl1Cd  ZonenSSZPubl1Sort  HAArtLevel2Sort  \\\n",
       "count     874       874              874              874                874              874   \n",
       "mean       72        72            10879              117                118                1   \n",
       "std        35        35            14701               12                 12                0   \n",
       "min        11        11                0              110                111                1   \n",
       "25%        34        34             3915              111                112                1   \n",
       "50%        73        73             6380              112                113                1   \n",
       "75%       102       102            12430              113                120                1   \n",
       "max       123       123           191430              161                161                1   \n",
       "\n",
       "       HAArtLevel2Cd  HandaenderungCd  HandaenderungSort  AbzugGVZCd  AbzugGVZSort  \\\n",
       "count            874              874                874         874           874   \n",
       "mean               1                1                  1           0             0   \n",
       "std                0                0                  0           0             0   \n",
       "min                1                1                  1           0             0   \n",
       "25%                1                1                  1           0             0   \n",
       "50%                1                1                  1           0             0   \n",
       "75%                1                1                  1           0             0   \n",
       "max                1                1                  1           0             0   \n",
       "\n",
       "       BetrachteteHACd  BetrachteteHASort  BZOCd  BZOSort  \n",
       "count              874                874    874      874  \n",
       "mean                 2                  2      0        0  \n",
       "std                  0                  0      0        0  \n",
       "min                  2                  2      0        0  \n",
       "25%                  2                  2      0        0  \n",
       "50%                  2                  2      0        0  \n",
       "75%                  2                  2      0        0  \n",
       "max                  2                  2      0        0  "
      ]
     },
     "execution_count": 14,
     "metadata": {},
     "output_type": "execute_result"
    }
   ],
   "source": [
    "data2betested.describe()"
   ]
  },
  {
   "cell_type": "markdown",
   "metadata": {},
   "source": [
    "Wie viele Nullwerte gibt es im Datensatz?"
   ]
  },
  {
   "cell_type": "code",
   "execution_count": 15,
   "metadata": {
    "scrolled": true
   },
   "outputs": [
    {
     "data": {
      "text/plain": [
       "Stichtagdatjahr      0\n",
       "QuarLang             0\n",
       "QuarCd               0\n",
       "QuarSort             0\n",
       "qmp_verk_grstfl      0\n",
       "ZonenSSZPubl1Cd      0\n",
       "ZonenSSZPubl1Lang    0\n",
       "ZonenSSZPubl1Sort    0\n",
       "Anzahl_HAE           0\n",
       "HAArtLevel2Lang      0\n",
       "HAArtLevel2Sort      0\n",
       "HAArtLevel2Cd        0\n",
       "DatenstandCd         0\n",
       "HandaenderungCd      0\n",
       "HandaenderungLang    0\n",
       "HandaenderungSort    0\n",
       "AbzugGVZCd           0\n",
       "AbzugGVZSort         0\n",
       "AbzugGVZLang         0\n",
       "BetrachteteHACd      0\n",
       "BetrachteteHALang    0\n",
       "BetrachteteHASort    0\n",
       "BZOCd                0\n",
       "BZOLang              0\n",
       "BZOSort              0\n",
       "Jahr                 0\n",
       "StichtagDatJahr      0\n",
       "dtype: int64"
      ]
     },
     "execution_count": 15,
     "metadata": {},
     "output_type": "execute_result"
    }
   ],
   "source": [
    "data2betested.isnull().sum()"
   ]
  },
  {
   "cell_type": "markdown",
   "metadata": {
    "colab_type": "text",
    "id": "1dTPVmmsgOVx"
   },
   "source": [
    "### Verwende das Datum als Index\n",
    "\n",
    "While we did already parse the `datetime` column into the respective datetime type, it currently is just a regular column. \n",
    "**To enable quick and convenient queries and aggregations, we need to turn it into the index of the DataFrame**"
   ]
  },
  {
   "cell_type": "code",
   "execution_count": 16,
   "metadata": {},
   "outputs": [],
   "source": [
    "data2betested = data2betested.set_index(\"Jahr\")"
   ]
  },
  {
   "cell_type": "code",
   "execution_count": 17,
   "metadata": {},
   "outputs": [
    {
     "name": "stdout",
     "output_type": "stream",
     "text": [
      "<class 'pandas.core.frame.DataFrame'>\n",
      "DatetimeIndex: 874 entries, 2014-01-01 to 2018-01-01\n",
      "Data columns (total 26 columns):\n",
      " #   Column             Non-Null Count  Dtype         \n",
      "---  ------             --------------  -----         \n",
      " 0   Stichtagdatjahr    874 non-null    datetime64[ns]\n",
      " 1   QuarLang           874 non-null    object        \n",
      " 2   QuarCd             874 non-null    int64         \n",
      " 3   QuarSort           874 non-null    int64         \n",
      " 4   qmp_verk_grstfl    874 non-null    int64         \n",
      " 5   ZonenSSZPubl1Cd    874 non-null    int64         \n",
      " 6   ZonenSSZPubl1Lang  874 non-null    object        \n",
      " 7   ZonenSSZPubl1Sort  874 non-null    int64         \n",
      " 8   Anzahl_HAE         874 non-null    object        \n",
      " 9   HAArtLevel2Lang    874 non-null    object        \n",
      " 10  HAArtLevel2Sort    874 non-null    int64         \n",
      " 11  HAArtLevel2Cd      874 non-null    int64         \n",
      " 12  DatenstandCd       874 non-null    object        \n",
      " 13  HandaenderungCd    874 non-null    int64         \n",
      " 14  HandaenderungLang  874 non-null    object        \n",
      " 15  HandaenderungSort  874 non-null    int64         \n",
      " 16  AbzugGVZCd         874 non-null    int64         \n",
      " 17  AbzugGVZSort       874 non-null    int64         \n",
      " 18  AbzugGVZLang       874 non-null    object        \n",
      " 19  BetrachteteHACd    874 non-null    int64         \n",
      " 20  BetrachteteHALang  874 non-null    object        \n",
      " 21  BetrachteteHASort  874 non-null    int64         \n",
      " 22  BZOCd              874 non-null    int64         \n",
      " 23  BZOLang            874 non-null    object        \n",
      " 24  BZOSort            874 non-null    int64         \n",
      " 25  StichtagDatJahr    874 non-null    datetime64[ns]\n",
      "dtypes: datetime64[ns](2), int64(15), object(9)\n",
      "memory usage: 184.4+ KB\n"
     ]
    },
    {
     "data": {
      "text/plain": [
       "Int64Index([1], dtype='int64', name='Jahr')"
      ]
     },
     "execution_count": 17,
     "metadata": {},
     "output_type": "execute_result"
    }
   ],
   "source": [
    "data2betested.info()\n",
    "data2betested.index.day.unique()"
   ]
  },
  {
   "cell_type": "markdown",
   "metadata": {},
   "source": [
    "### Einfache Visualisierungen zur Plausi"
   ]
  },
  {
   "cell_type": "markdown",
   "metadata": {},
   "source": [
    "Exploriere die Daten mit Pivottable.JS"
   ]
  },
  {
   "cell_type": "code",
   "execution_count": 18,
   "metadata": {},
   "outputs": [
    {
     "data": {
      "text/html": [
       "\n",
       "        <iframe\n",
       "            width=\"100%\"\n",
       "            height=\"500\"\n",
       "            src=\"pivottablejs.html\"\n",
       "            frameborder=\"0\"\n",
       "            allowfullscreen\n",
       "            \n",
       "        ></iframe>\n",
       "        "
      ],
      "text/plain": [
       "<IPython.lib.display.IFrame at 0x17270b18208>"
      ]
     },
     "execution_count": 18,
     "metadata": {},
     "output_type": "execute_result"
    }
   ],
   "source": [
    "from pivottablejs import pivot_ui\n",
    "\n",
    "pivot_ui(data2betested)"
   ]
  },
  {
   "cell_type": "markdown",
   "metadata": {},
   "source": [
    "### Zeitpunkte und Zeiträume abfragen\n",
    "\n",
    "A particular powerful feature of the Pandas DataFrame is its indexing capability that also works using time-based entities, such as dates and times. We have already created the index above, so let's put it to use."
   ]
  },
  {
   "cell_type": "code",
   "execution_count": 19,
   "metadata": {},
   "outputs": [
    {
     "data": {
      "text/html": [
       "<div>\n",
       "<style scoped>\n",
       "    .dataframe tbody tr th:only-of-type {\n",
       "        vertical-align: middle;\n",
       "    }\n",
       "\n",
       "    .dataframe tbody tr th {\n",
       "        vertical-align: top;\n",
       "    }\n",
       "\n",
       "    .dataframe thead th {\n",
       "        text-align: right;\n",
       "    }\n",
       "</style>\n",
       "<table border=\"1\" class=\"dataframe\">\n",
       "  <thead>\n",
       "    <tr style=\"text-align: right;\">\n",
       "      <th></th>\n",
       "      <th>Stichtagdatjahr</th>\n",
       "      <th>QuarLang</th>\n",
       "      <th>QuarCd</th>\n",
       "      <th>QuarSort</th>\n",
       "      <th>qmp_verk_grstfl</th>\n",
       "      <th>ZonenSSZPubl1Cd</th>\n",
       "      <th>ZonenSSZPubl1Lang</th>\n",
       "      <th>...</th>\n",
       "      <th>BetrachteteHACd</th>\n",
       "      <th>BetrachteteHALang</th>\n",
       "      <th>BetrachteteHASort</th>\n",
       "      <th>BZOCd</th>\n",
       "      <th>BZOLang</th>\n",
       "      <th>BZOSort</th>\n",
       "      <th>StichtagDatJahr</th>\n",
       "    </tr>\n",
       "    <tr>\n",
       "      <th>Jahr</th>\n",
       "      <th></th>\n",
       "      <th></th>\n",
       "      <th></th>\n",
       "      <th></th>\n",
       "      <th></th>\n",
       "      <th></th>\n",
       "      <th></th>\n",
       "      <th></th>\n",
       "      <th></th>\n",
       "      <th></th>\n",
       "      <th></th>\n",
       "      <th></th>\n",
       "      <th></th>\n",
       "      <th></th>\n",
       "      <th></th>\n",
       "    </tr>\n",
       "  </thead>\n",
       "  <tbody>\n",
       "    <tr>\n",
       "      <th>2018-01-01</th>\n",
       "      <td>2018-01-01</td>\n",
       "      <td>Affoltern</td>\n",
       "      <td>111</td>\n",
       "      <td>111</td>\n",
       "      <td>3810</td>\n",
       "      <td>111</td>\n",
       "      <td>Wohnzone 2</td>\n",
       "      <td>...</td>\n",
       "      <td>2</td>\n",
       "      <td>Freihandkäufe ohne Stockwerkeigentum</td>\n",
       "      <td>2</td>\n",
       "      <td>0</td>\n",
       "      <td>BZO99</td>\n",
       "      <td>0</td>\n",
       "      <td>2018-01-01</td>\n",
       "    </tr>\n",
       "    <tr>\n",
       "      <th>2018-01-01</th>\n",
       "      <td>2018-01-01</td>\n",
       "      <td>Affoltern</td>\n",
       "      <td>111</td>\n",
       "      <td>111</td>\n",
       "      <td>2380</td>\n",
       "      <td>112</td>\n",
       "      <td>Wohnzone 3</td>\n",
       "      <td>...</td>\n",
       "      <td>2</td>\n",
       "      <td>Freihandkäufe ohne Stockwerkeigentum</td>\n",
       "      <td>2</td>\n",
       "      <td>0</td>\n",
       "      <td>BZO99</td>\n",
       "      <td>0</td>\n",
       "      <td>2018-01-01</td>\n",
       "    </tr>\n",
       "  </tbody>\n",
       "</table>\n",
       "<p>2 rows × 26 columns</p>\n",
       "</div>"
      ],
      "text/plain": [
       "           Stichtagdatjahr   QuarLang  QuarCd  QuarSort  qmp_verk_grstfl  ZonenSSZPubl1Cd  \\\n",
       "Jahr                                                                                        \n",
       "2018-01-01      2018-01-01  Affoltern     111       111             3810              111   \n",
       "2018-01-01      2018-01-01  Affoltern     111       111             2380              112   \n",
       "\n",
       "           ZonenSSZPubl1Lang  ...  BetrachteteHACd                     BetrachteteHALang  \\\n",
       "Jahr                          ...                                                          \n",
       "2018-01-01        Wohnzone 2  ...                2  Freihandkäufe ohne Stockwerkeigentum   \n",
       "2018-01-01        Wohnzone 3  ...                2  Freihandkäufe ohne Stockwerkeigentum   \n",
       "\n",
       "           BetrachteteHASort  BZOCd  BZOLang BZOSort  StichtagDatJahr  \n",
       "Jahr                                                                   \n",
       "2018-01-01                 2      0    BZO99       0       2018-01-01  \n",
       "2018-01-01                 2      0    BZO99       0       2018-01-01  \n",
       "\n",
       "[2 rows x 26 columns]"
      ]
     },
     "execution_count": 19,
     "metadata": {},
     "output_type": "execute_result"
    }
   ],
   "source": [
    "data2betested.loc[\"2018\"].head(2)"
   ]
  },
  {
   "cell_type": "markdown",
   "metadata": {},
   "source": [
    "### Visualisierungen nach Zeitausschnitten"
   ]
  },
  {
   "cell_type": "markdown",
   "metadata": {
    "tags": []
   },
   "source": [
    "#### Entwicklung der Medianquadratmeterwerte in Alt-Wiedikon nach Zonenart seit 2009"
   ]
  },
  {
   "cell_type": "code",
   "execution_count": 26,
   "metadata": {},
   "outputs": [],
   "source": [
    "#data2betested.query('Quartier_Nummer == 33')"
   ]
  },
  {
   "cell_type": "code",
   "execution_count": 27,
   "metadata": {},
   "outputs": [
    {
     "data": {
      "text/html": [
       "\n",
       "<div id=\"altair-viz-8440789a34304e4e9310cf106d8c17f7\"></div>\n",
       "<script type=\"text/javascript\">\n",
       "  (function(spec, embedOpt){\n",
       "    let outputDiv = document.currentScript.previousElementSibling;\n",
       "    if (outputDiv.id !== \"altair-viz-8440789a34304e4e9310cf106d8c17f7\") {\n",
       "      outputDiv = document.getElementById(\"altair-viz-8440789a34304e4e9310cf106d8c17f7\");\n",
       "    }\n",
       "    const paths = {\n",
       "      \"vega\": \"https://cdn.jsdelivr.net/npm//vega@5?noext\",\n",
       "      \"vega-lib\": \"https://cdn.jsdelivr.net/npm//vega-lib?noext\",\n",
       "      \"vega-lite\": \"https://cdn.jsdelivr.net/npm//vega-lite@4.8.1?noext\",\n",
       "      \"vega-embed\": \"https://cdn.jsdelivr.net/npm//vega-embed@6?noext\",\n",
       "    };\n",
       "\n",
       "    function loadScript(lib) {\n",
       "      return new Promise(function(resolve, reject) {\n",
       "        var s = document.createElement('script');\n",
       "        s.src = paths[lib];\n",
       "        s.async = true;\n",
       "        s.onload = () => resolve(paths[lib]);\n",
       "        s.onerror = () => reject(`Error loading script: ${paths[lib]}`);\n",
       "        document.getElementsByTagName(\"head\")[0].appendChild(s);\n",
       "      });\n",
       "    }\n",
       "\n",
       "    function showError(err) {\n",
       "      outputDiv.innerHTML = `<div class=\"error\" style=\"color:red;\">${err}</div>`;\n",
       "      throw err;\n",
       "    }\n",
       "\n",
       "    function displayChart(vegaEmbed) {\n",
       "      vegaEmbed(outputDiv, spec, embedOpt)\n",
       "        .catch(err => showError(`Javascript Error: ${err.message}<br>This usually means there's a typo in your chart specification. See the javascript console for the full traceback.`));\n",
       "    }\n",
       "\n",
       "    if(typeof define === \"function\" && define.amd) {\n",
       "      requirejs.config({paths});\n",
       "      require([\"vega-embed\"], displayChart, err => showError(`Error loading script: ${err.message}`));\n",
       "    } else if (typeof vegaEmbed === \"function\") {\n",
       "      displayChart(vegaEmbed);\n",
       "    } else {\n",
       "      loadScript(\"vega\")\n",
       "        .then(() => loadScript(\"vega-lite\"))\n",
       "        .then(() => loadScript(\"vega-embed\"))\n",
       "        .catch(showError)\n",
       "        .then(() => displayChart(vegaEmbed));\n",
       "    }\n",
       "  })({\"config\": {\"view\": {\"continuousWidth\": 400, \"continuousHeight\": 300}}, \"layer\": [{\"mark\": \"line\", \"encoding\": {\"color\": {\"type\": \"nominal\", \"field\": \"Zonenart\", \"legend\": {\"orient\": \"right\", \"title\": \"HAE Grundst\\u00fccktypen\"}}, \"size\": {\"condition\": {\"value\": 0.5, \"selection\": {\"not\": \"selector001\"}}, \"value\": 4}, \"tooltip\": [{\"type\": \"temporal\", \"field\": \"Jahr\"}, {\"type\": \"nominal\", \"field\": \"Quartier_Name\"}, {\"type\": \"nominal\", \"field\": \"Zonenart\"}, {\"type\": \"quantitative\", \"field\": \"Medianqmp\"}], \"x\": {\"type\": \"temporal\", \"axis\": {\"title\": \"Jahr\"}, \"field\": \"Jahr\"}, \"y\": {\"type\": \"quantitative\", \"axis\": {\"title\": \"Umsatzwert der Grundst\\u00fccke\"}, \"field\": \"Medianqmp\"}}, \"selection\": {\"selector002\": {\"type\": \"interval\", \"bind\": \"scales\", \"encodings\": [\"x\", \"y\"]}}, \"title\": \"Title\"}, {\"mark\": \"circle\", \"encoding\": {\"color\": {\"type\": \"nominal\", \"field\": \"Zonenart\", \"legend\": {\"orient\": \"right\", \"title\": \"HAE Grundst\\u00fccktypen\"}}, \"opacity\": {\"value\": 0.75}, \"tooltip\": [{\"type\": \"temporal\", \"field\": \"Jahr\"}, {\"type\": \"nominal\", \"field\": \"Quartier_Name\"}, {\"type\": \"nominal\", \"field\": \"Zonenart\"}, {\"type\": \"quantitative\", \"field\": \"Medianqmp\"}], \"x\": {\"type\": \"temporal\", \"axis\": {\"title\": \"Jahr\"}, \"field\": \"Jahr\"}, \"y\": {\"type\": \"quantitative\", \"axis\": {\"title\": \"Umsatzwert der Grundst\\u00fccke\"}, \"field\": \"Medianqmp\"}}, \"height\": 350, \"selection\": {\"selector001\": {\"type\": \"single\", \"on\": \"mouseover\", \"fields\": [\"Zonenart\"], \"nearest\": true}}, \"title\": \"Title\", \"width\": 750}], \"data\": {\"name\": \"data-45218c1c6803430a7cf8b9f576e43c37\"}, \"$schema\": \"https://vega.github.io/schema/vega-lite/v4.8.1.json\", \"datasets\": {\"data-45218c1c6803430a7cf8b9f576e43c37\": [{\"Jahr\": \"2009-01-01T00:00:00\", \"Quartier_Name\": \"Alt-Wiedikon\", \"Quartier_Nummer\": 31, \"Medianqmp\": 7100, \"Zonenart\": \"Quartiererhaltungszone\", \"Anzahl_HAE\": \"5\"}, {\"Jahr\": \"2010-01-01T00:00:00\", \"Quartier_Name\": \"Alt-Wiedikon\", \"Quartier_Nummer\": 31, \"Medianqmp\": 8580, \"Zonenart\": \"Quartiererhaltungszone\", \"Anzahl_HAE\": \"7\"}, {\"Jahr\": \"2011-01-01T00:00:00\", \"Quartier_Name\": \"Alt-Wiedikon\", \"Quartier_Nummer\": 31, \"Medianqmp\": 14440, \"Zonenart\": \"Quartiererhaltungszone\", \"Anzahl_HAE\": \"6\"}, {\"Jahr\": \"2012-01-01T00:00:00\", \"Quartier_Name\": \"Alt-Wiedikon\", \"Quartier_Nummer\": 31, \"Medianqmp\": 8240, \"Zonenart\": \"Quartiererhaltungszone\", \"Anzahl_HAE\": \"1\\u20133\"}, {\"Jahr\": \"2013-01-01T00:00:00\", \"Quartier_Name\": \"Alt-Wiedikon\", \"Quartier_Nummer\": 31, \"Medianqmp\": 13530, \"Zonenart\": \"Quartiererhaltungszone\", \"Anzahl_HAE\": \"7\"}, {\"Jahr\": \"2014-01-01T00:00:00\", \"Quartier_Name\": \"Alt-Wiedikon\", \"Quartier_Nummer\": 31, \"Medianqmp\": 18500, \"Zonenart\": \"Quartiererhaltungszone\", \"Anzahl_HAE\": \"4\"}, {\"Jahr\": \"2015-01-01T00:00:00\", \"Quartier_Name\": \"Alt-Wiedikon\", \"Quartier_Nummer\": 31, \"Medianqmp\": 10660, \"Zonenart\": \"Quartiererhaltungszone\", \"Anzahl_HAE\": \"8\"}, {\"Jahr\": \"2016-01-01T00:00:00\", \"Quartier_Name\": \"Alt-Wiedikon\", \"Quartier_Nummer\": 31, \"Medianqmp\": 16800, \"Zonenart\": \"Quartiererhaltungszone\", \"Anzahl_HAE\": \"6\"}, {\"Jahr\": \"2017-01-01T00:00:00\", \"Quartier_Name\": \"Alt-Wiedikon\", \"Quartier_Nummer\": 31, \"Medianqmp\": 17860, \"Zonenart\": \"Quartiererhaltungszone\", \"Anzahl_HAE\": \"7\"}, {\"Jahr\": \"2018-01-01T00:00:00\", \"Quartier_Name\": \"Alt-Wiedikon\", \"Quartier_Nummer\": 31, \"Medianqmp\": 17230, \"Zonenart\": \"Quartiererhaltungszone\", \"Anzahl_HAE\": \"6-8\"}, {\"Jahr\": \"2009-01-01T00:00:00\", \"Quartier_Name\": \"Alt-Wiedikon\", \"Quartier_Nummer\": 31, \"Medianqmp\": 4660, \"Zonenart\": \"Wohnzone 2\", \"Anzahl_HAE\": \"1\\u20133\"}, {\"Jahr\": \"2010-01-01T00:00:00\", \"Quartier_Name\": \"Alt-Wiedikon\", \"Quartier_Nummer\": 31, \"Medianqmp\": 3120, \"Zonenart\": \"Wohnzone 2\", \"Anzahl_HAE\": \"1\\u20133\"}, {\"Jahr\": \"2011-01-01T00:00:00\", \"Quartier_Name\": \"Alt-Wiedikon\", \"Quartier_Nummer\": 31, \"Medianqmp\": 4790, \"Zonenart\": \"Wohnzone 2\", \"Anzahl_HAE\": \"1\\u20133\"}, {\"Jahr\": \"2012-01-01T00:00:00\", \"Quartier_Name\": \"Alt-Wiedikon\", \"Quartier_Nummer\": 31, \"Medianqmp\": 3860, \"Zonenart\": \"Wohnzone 2\", \"Anzahl_HAE\": \"5\"}, {\"Jahr\": \"2013-01-01T00:00:00\", \"Quartier_Name\": \"Alt-Wiedikon\", \"Quartier_Nummer\": 31, \"Medianqmp\": 2870, \"Zonenart\": \"Wohnzone 2\", \"Anzahl_HAE\": \"1\\u20133\"}, {\"Jahr\": \"2014-01-01T00:00:00\", \"Quartier_Name\": \"Alt-Wiedikon\", \"Quartier_Nummer\": 31, \"Medianqmp\": 4890, \"Zonenart\": \"Wohnzone 2\", \"Anzahl_HAE\": \"1\\u20133\"}, {\"Jahr\": \"2015-01-01T00:00:00\", \"Quartier_Name\": \"Alt-Wiedikon\", \"Quartier_Nummer\": 31, \"Medianqmp\": 5950, \"Zonenart\": \"Wohnzone 2\", \"Anzahl_HAE\": \"1\\u20133\"}, {\"Jahr\": \"2016-01-01T00:00:00\", \"Quartier_Name\": \"Alt-Wiedikon\", \"Quartier_Nummer\": 31, \"Medianqmp\": 4670, \"Zonenart\": \"Wohnzone 2\", \"Anzahl_HAE\": \"1\\u20133\"}, {\"Jahr\": \"2017-01-01T00:00:00\", \"Quartier_Name\": \"Alt-Wiedikon\", \"Quartier_Nummer\": 31, \"Medianqmp\": 5350, \"Zonenart\": \"Wohnzone 2\", \"Anzahl_HAE\": \"1\\u20133\"}, {\"Jahr\": \"2018-01-01T00:00:00\", \"Quartier_Name\": \"Alt-Wiedikon\", \"Quartier_Nummer\": 31, \"Medianqmp\": 5960, \"Zonenart\": \"Wohnzone 2\", \"Anzahl_HAE\": \"1\\u20133\"}, {\"Jahr\": \"2009-01-01T00:00:00\", \"Quartier_Name\": \"Alt-Wiedikon\", \"Quartier_Nummer\": 31, \"Medianqmp\": 2830, \"Zonenart\": \"Wohnzone 3\", \"Anzahl_HAE\": \"1\\u20133\"}, {\"Jahr\": \"2010-01-01T00:00:00\", \"Quartier_Name\": \"Alt-Wiedikon\", \"Quartier_Nummer\": 31, \"Medianqmp\": 3860, \"Zonenart\": \"Wohnzone 3\", \"Anzahl_HAE\": \"7\"}, {\"Jahr\": \"2011-01-01T00:00:00\", \"Quartier_Name\": \"Alt-Wiedikon\", \"Quartier_Nummer\": 31, \"Medianqmp\": 4630, \"Zonenart\": \"Wohnzone 3\", \"Anzahl_HAE\": \"7\"}, {\"Jahr\": \"2012-01-01T00:00:00\", \"Quartier_Name\": \"Alt-Wiedikon\", \"Quartier_Nummer\": 31, \"Medianqmp\": 5150, \"Zonenart\": \"Wohnzone 3\", \"Anzahl_HAE\": \"1\\u20133\"}, {\"Jahr\": \"2013-01-01T00:00:00\", \"Quartier_Name\": \"Alt-Wiedikon\", \"Quartier_Nummer\": 31, \"Medianqmp\": 4540, \"Zonenart\": \"Wohnzone 3\", \"Anzahl_HAE\": \"5-7\"}, {\"Jahr\": \"2014-01-01T00:00:00\", \"Quartier_Name\": \"Alt-Wiedikon\", \"Quartier_Nummer\": 31, \"Medianqmp\": 6900, \"Zonenart\": \"Wohnzone 3\", \"Anzahl_HAE\": \"0-4\"}, {\"Jahr\": \"2015-01-01T00:00:00\", \"Quartier_Name\": \"Alt-Wiedikon\", \"Quartier_Nummer\": 31, \"Medianqmp\": 4890, \"Zonenart\": \"Wohnzone 3\", \"Anzahl_HAE\": \"6-8\"}, {\"Jahr\": \"2016-01-01T00:00:00\", \"Quartier_Name\": \"Alt-Wiedikon\", \"Quartier_Nummer\": 31, \"Medianqmp\": 4310, \"Zonenart\": \"Wohnzone 3\", \"Anzahl_HAE\": \"7-9\"}, {\"Jahr\": \"2017-01-01T00:00:00\", \"Quartier_Name\": \"Alt-Wiedikon\", \"Quartier_Nummer\": 31, \"Medianqmp\": 7400, \"Zonenart\": \"Wohnzone 3\", \"Anzahl_HAE\": \"5\"}, {\"Jahr\": \"2009-01-01T00:00:00\", \"Quartier_Name\": \"Alt-Wiedikon\", \"Quartier_Nummer\": 31, \"Medianqmp\": 4200, \"Zonenart\": \"Wohnzone 4\", \"Anzahl_HAE\": \"1\\u20133\"}, {\"Jahr\": \"2010-01-01T00:00:00\", \"Quartier_Name\": \"Alt-Wiedikon\", \"Quartier_Nummer\": 31, \"Medianqmp\": 7230, \"Zonenart\": \"Wohnzone 4\", \"Anzahl_HAE\": \"1\\u20133\"}, {\"Jahr\": \"2012-01-01T00:00:00\", \"Quartier_Name\": \"Alt-Wiedikon\", \"Quartier_Nummer\": 31, \"Medianqmp\": 18340, \"Zonenart\": \"Wohnzone 4\", \"Anzahl_HAE\": \"1\\u20133\"}, {\"Jahr\": \"2013-01-01T00:00:00\", \"Quartier_Name\": \"Alt-Wiedikon\", \"Quartier_Nummer\": 31, \"Medianqmp\": 8570, \"Zonenart\": \"Wohnzone 4\", \"Anzahl_HAE\": \"1\\u20133\"}, {\"Jahr\": \"2016-01-01T00:00:00\", \"Quartier_Name\": \"Alt-Wiedikon\", \"Quartier_Nummer\": 31, \"Medianqmp\": 11870, \"Zonenart\": \"Wohnzone 4\", \"Anzahl_HAE\": \"1\\u20133\"}, {\"Jahr\": \"2018-01-01T00:00:00\", \"Quartier_Name\": \"Alt-Wiedikon\", \"Quartier_Nummer\": 31, \"Medianqmp\": 10180, \"Zonenart\": \"Wohnzone 4\", \"Anzahl_HAE\": \"1\\u20133\"}, {\"Jahr\": \"2018-01-01T00:00:00\", \"Quartier_Name\": \"Alt-Wiedikon\", \"Quartier_Nummer\": 31, \"Medianqmp\": 9980, \"Zonenart\": \"Wohnzone 5\", \"Anzahl_HAE\": \"1\\u20133\"}, {\"Jahr\": \"2009-01-01T00:00:00\", \"Quartier_Name\": \"Alt-Wiedikon\", \"Quartier_Nummer\": 31, \"Medianqmp\": 10660, \"Zonenart\": \"Zentrumszone\", \"Anzahl_HAE\": \"1\\u20133\"}, {\"Jahr\": \"2010-01-01T00:00:00\", \"Quartier_Name\": \"Alt-Wiedikon\", \"Quartier_Nummer\": 31, \"Medianqmp\": 3740, \"Zonenart\": \"Zentrumszone\", \"Anzahl_HAE\": \"1\\u20133\"}, {\"Jahr\": \"2012-01-01T00:00:00\", \"Quartier_Name\": \"Alt-Wiedikon\", \"Quartier_Nummer\": 31, \"Medianqmp\": 12650, \"Zonenart\": \"Zentrumszone\", \"Anzahl_HAE\": \"1\\u20133\"}, {\"Jahr\": \"2017-01-01T00:00:00\", \"Quartier_Name\": \"Alt-Wiedikon\", \"Quartier_Nummer\": 31, \"Medianqmp\": 11400, \"Zonenart\": \"Zentrumszone\", \"Anzahl_HAE\": \"1\\u20133\"}, {\"Jahr\": \"2018-01-01T00:00:00\", \"Quartier_Name\": \"Alt-Wiedikon\", \"Quartier_Nummer\": 31, \"Medianqmp\": 16190, \"Zonenart\": \"Zentrumszone\", \"Anzahl_HAE\": \"1\\u20133\"}]}}, {\"mode\": \"vega-lite\"});\n",
       "</script>"
      ],
      "text/plain": [
       "alt.LayerChart(...)"
      ]
     },
     "execution_count": 27,
     "metadata": {},
     "output_type": "execute_result"
    }
   ],
   "source": [
    "highlight = alt.selection(type='single', on='mouseover', fields=['Zonenart'], nearest=True)\n",
    "#x='date:StichtagDatJahr',\n",
    "base = alt.Chart(data2betested.reset_index().query('Quartier_Nummer == 31'), title=\"Title\").encode(\n",
    "    x=alt.X('Jahr', axis=alt.Axis(title='Jahr'))# , axis=alt.Axis(format='%', title='percentage')\n",
    "    , y=alt.X('Medianqmp', axis=alt.Axis(title='Umsatzwert der Grundstücke'))\n",
    "    , color=alt.Color('Zonenart', legend=alt.Legend(title=\"HAE Grundstücktypen\", orient=\"right\"))  \n",
    "    ,tooltip=['Jahr', 'Quartier_Name','Zonenart','Medianqmp']    \n",
    ")\n",
    "points = base.mark_circle().encode(\n",
    "    opacity=alt.value(0.75)\n",
    ").add_selection(\n",
    "    highlight\n",
    ").properties(\n",
    "    width=750 , height=350\n",
    ")\n",
    "lines = base.mark_line().encode(\n",
    "    size=alt.condition(~highlight, alt.value(0.5), alt.value(4))\n",
    ").interactive()\n",
    "\n",
    "lines + points"
   ]
  },
  {
   "cell_type": "markdown",
   "metadata": {
    "tags": []
   },
   "source": [
    "#### Barcharts mit Seaborn"
   ]
  },
  {
   "cell_type": "code",
   "execution_count": 28,
   "metadata": {},
   "outputs": [],
   "source": [
    "#help(sns.catplot)     "
   ]
  },
  {
   "cell_type": "code",
   "execution_count": 29,
   "metadata": {},
   "outputs": [],
   "source": [
    "#Stile for the following sns graphs\n",
    "sns.set_theme(style=\"whitegrid\")"
   ]
  },
  {
   "cell_type": "markdown",
   "metadata": {},
   "source": [
    "##### Medianquadratmeterpreise nach Quartier und Zonenart im 2018"
   ]
  },
  {
   "cell_type": "code",
   "execution_count": 30,
   "metadata": {},
   "outputs": [],
   "source": [
    "#data2betested.dtypes"
   ]
  },
  {
   "cell_type": "code",
   "execution_count": 31,
   "metadata": {},
   "outputs": [
    {
     "data": {
      "text/plain": [
       "<seaborn.axisgrid.FacetGrid at 0x1e97fd26b88>"
      ]
     },
     "execution_count": 31,
     "metadata": {},
     "output_type": "execute_result"
    },
    {
     "data": {
      "image/png": "[encoded data removed]",
      "text/plain": [
       "<Figure size 1234.97x360 with 1 Axes>"
      ]
     },
     "metadata": {},
     "output_type": "display_data"
    }
   ],
   "source": [
    "#sns.color_palette(\"flare\", as_cmap=True)\n",
    "myHist = sns.catplot(data=data2betested.loc[\"2018\"].reset_index().query('Quartier_Nummer > 60')\n",
    "                     , x=\"Quartier_Name\"\n",
    "            , y=\"Medianqmp\"\n",
    "            , hue=\"Zonenart\"\n",
    "            , kind=\"bar\" #boxen, violin, --> wenn die aggregation nicht genau den werten in der grafik entspricht\n",
    "            , palette=\"pastel\" #, color=\"green\"\n",
    "            , height=5\n",
    "            , aspect=3\n",
    "            , order=None, legend_out=True\n",
    "           )\n",
    "myHist.set_xlabels('Jahr', fontsize=11) # not set_label\n",
    "myHist.set_ylabels('Medianqmp', fontsize=11)\n"
   ]
  },
  {
   "cell_type": "code",
   "execution_count": 32,
   "metadata": {},
   "outputs": [
    {
     "data": {
      "text/plain": [
       "Quartier_Name      object\n",
       "Quartier_Nummer     int64\n",
       "Medianqmp           int64\n",
       "Zonenart           object\n",
       "Anzahl_HAE         object\n",
       "dtype: object"
      ]
     },
     "execution_count": 32,
     "metadata": {},
     "output_type": "execute_result"
    }
   ],
   "source": [
    "data2betested.dtypes"
   ]
  },
  {
   "cell_type": "markdown",
   "metadata": {},
   "source": [
    "##### Entwicklung aller Freihandkäufe nach Hauptgrundstücktyp seit 2009"
   ]
  },
  {
   "cell_type": "code",
   "execution_count": 33,
   "metadata": {},
   "outputs": [
    {
     "data": {
      "text/plain": [
       "<seaborn.axisgrid.FacetGrid at 0x1e901986248>"
      ]
     },
     "execution_count": 33,
     "metadata": {},
     "output_type": "execute_result"
    },
    {
     "data": {
      "image/png": "[encoded data removed]",
      "text/plain": [
       "<Figure size 1234.97x1296 with 30 Axes>"
      ]
     },
     "metadata": {},
     "output_type": "display_data"
    }
   ],
   "source": [
    "g = sns.FacetGrid(data=data2betested.loc[\"2009\":\"2018\"].query('Quartier_Nummer > 20').reset_index(), col=\"Quartier_Name\", hue=\"Zonenart\", col_wrap=5, height=3)\n",
    "#g.map(sns.scatterplot, \"Jahr\", \"Medianqmp\", alpha=.8)\n",
    "g.map(sns.lineplot, \"Jahr\",\"Medianqmp\", alpha=.9)\n",
    "g.add_legend()\n",
    "\n",
    "\n"
   ]
  },
  {
   "cell_type": "markdown",
   "metadata": {},
   "source": [
    "### Daten in interaktiver Treemap zeigen\n",
    "Dazu gibt es eine sehr nützliche Webseite https://plotly.com/python/treemaps/\n",
    "Zu Farbskalen, siehe: https://plotly.com/python/builtin-colorscales/"
   ]
  },
  {
   "cell_type": "markdown",
   "metadata": {
    "tags": []
   },
   "source": [
    "#### Medianquadratmeterpreis nach Zone und Quartier im 2017-2018"
   ]
  },
  {
   "cell_type": "code",
   "execution_count": 34,
   "metadata": {},
   "outputs": [
    {
     "data": {
      "text/html": [
       "<div>\n",
       "<style scoped>\n",
       "    .dataframe tbody tr th:only-of-type {\n",
       "        vertical-align: middle;\n",
       "    }\n",
       "\n",
       "    .dataframe tbody tr th {\n",
       "        vertical-align: top;\n",
       "    }\n",
       "\n",
       "    .dataframe thead th {\n",
       "        text-align: right;\n",
       "    }\n",
       "</style>\n",
       "<table border=\"1\" class=\"dataframe\">\n",
       "  <thead>\n",
       "    <tr style=\"text-align: right;\">\n",
       "      <th></th>\n",
       "      <th>Jahr</th>\n",
       "      <th>Quartier_Name</th>\n",
       "      <th>Quartier_Nummer</th>\n",
       "      <th>Zonenart</th>\n",
       "      <th>sum_Anzahl_HAE</th>\n",
       "    </tr>\n",
       "  </thead>\n",
       "  <tbody>\n",
       "    <tr>\n",
       "      <th>0</th>\n",
       "      <td>2018-01-01</td>\n",
       "      <td>Albisrieden</td>\n",
       "      <td>91</td>\n",
       "      <td>Zentrumszone</td>\n",
       "      <td>1–3</td>\n",
       "    </tr>\n",
       "    <tr>\n",
       "      <th>1</th>\n",
       "      <td>2018-01-01</td>\n",
       "      <td>Hottingen</td>\n",
       "      <td>72</td>\n",
       "      <td>Wohnzone 3</td>\n",
       "      <td>1–3</td>\n",
       "    </tr>\n",
       "  </tbody>\n",
       "</table>\n",
       "</div>"
      ],
      "text/plain": [
       "        Jahr Quartier_Name  Quartier_Nummer      Zonenart sum_Anzahl_HAE\n",
       "0 2018-01-01   Albisrieden               91  Zentrumszone            1–3\n",
       "1 2018-01-01     Hottingen               72    Wohnzone 3            1–3"
      ]
     },
     "execution_count": 34,
     "metadata": {},
     "output_type": "execute_result"
    }
   ],
   "source": [
    "myTreemap = data2betested.loc[\"2017\":\"2018\"]\\\n",
    "    .groupby(['Jahr', 'Quartier_Name', 'Quartier_Nummer', 'Zonenart' ]) \\\n",
    "    .agg(sum_Anzahl_HAE=('Anzahl_HAE', 'sum')) \\\n",
    "    .sort_values('Jahr', ascending=False) \n",
    "myTreemap.reset_index().head(2)"
   ]
  },
  {
   "cell_type": "code",
   "execution_count": 35,
   "metadata": {
    "tags": []
   },
   "outputs": [
    {
     "data": {
      "text/plain": [
       "Quartier_Name      object\n",
       "Quartier_Nummer     int64\n",
       "Medianqmp           int64\n",
       "Zonenart           object\n",
       "Anzahl_HAE         object\n",
       "dtype: object"
      ]
     },
     "execution_count": 35,
     "metadata": {},
     "output_type": "execute_result"
    }
   ],
   "source": [
    "data2betested.dtypes"
   ]
  },
  {
   "cell_type": "code",
   "execution_count": 38,
   "metadata": {
    "tags": []
   },
   "outputs": [
    {
     "data": {
      "application/vnd.plotly.v1+json": {
       "config": {
        "plotlyServerURL": "https://plot.ly"
       },
       "data": [
        {
         "branchvalues": "total",
         "customdata": [
          [
           3840
          ],
          [
           4030
          ],
          [
           4930
          ],
          [
           3820
          ],
          [
           8700
          ],
          [
           17860
          ],
          [
           5350
          ],
          [
           7400
          ],
          [
           11400
          ],
          [
           9050
          ],
          [
           3220
          ],
          [
           3740
          ],
          [
           6210
          ],
          [
           9210
          ],
          [
           20870
          ],
          [
           4430
          ],
          [
           10600
          ],
          [
           8530
          ],
          [
           7360
          ],
          [
           6020
          ],
          [
           3690
          ],
          [
           9450
          ],
          [
           1700
          ],
          [
           12370
          ],
          [
           11830
          ],
          [
           6100
          ],
          [
           6730
          ],
          [
           9440
          ],
          [
           2690
          ],
          [
           3530
          ],
          [
           3760
          ],
          [
           34380
          ],
          [
           8230
          ],
          [
           12950
          ],
          [
           13740
          ],
          [
           4210
          ],
          [
           25510
          ],
          [
           5190
          ],
          [
           3810
          ],
          [
           29610
          ],
          [
           11240
          ],
          [
           5200
          ],
          [
           5950
          ],
          [
           22340
          ],
          [
           26250
          ],
          [
           3820
          ],
          [
           3500
          ],
          [
           4610
          ],
          [
           5330
          ],
          [
           25770
          ],
          [
           4800
          ],
          [
           4330
          ],
          [
           3150
          ],
          [
           3520
          ],
          [
           14820
          ],
          [
           4190
          ],
          [
           4980
          ],
          [
           9200
          ],
          [
           2510
          ],
          [
           12320
          ],
          [
           51740
          ],
          [
           19620
          ],
          [
           19060
          ],
          [
           7900
          ],
          [
           13470
          ],
          [
           8190
          ],
          [
           6460
          ],
          [
           12950
          ],
          [
           20740
          ],
          [
           8660
          ],
          [
           16580
          ],
          [
           12010
          ],
          [
           4570
          ],
          [
           7440
          ],
          [
           12380
          ],
          [
           4410
          ],
          [
           4790
          ],
          [
           6050
          ],
          [
           3810
          ],
          [
           2380
          ],
          [
           3990
          ],
          [
           3180
          ],
          [
           4470
          ],
          [
           9200
          ],
          [
           10250
          ],
          [
           17230
          ],
          [
           5960
          ],
          [
           10180
          ],
          [
           9980
          ],
          [
           16190
          ],
          [
           4790
          ],
          [
           3420
          ],
          [
           5000
          ],
          [
           6880
          ],
          [
           8940
          ],
          [
           9930
          ],
          [
           102450
          ],
          [
           20490
          ],
          [
           6870
          ],
          [
           10560
          ],
          [
           9100
          ],
          [
           5410
          ],
          [
           7520
          ],
          [
           7950
          ],
          [
           6900
          ],
          [
           34190
          ],
          [
           20910
          ],
          [
           10690
          ],
          [
           12070
          ],
          [
           7130
          ],
          [
           3170
          ],
          [
           3470
          ],
          [
           4730
          ],
          [
           12450
          ],
          [
           8810
          ],
          [
           24240
          ],
          [
           25960
          ],
          [
           4670
          ],
          [
           10870
          ],
          [
           28700
          ],
          [
           2370
          ],
          [
           3780
          ],
          [
           8490
          ],
          [
           5700
          ],
          [
           11320
          ],
          [
           8200
          ],
          [
           7770
          ],
          [
           13050
          ],
          [
           13370
          ],
          [
           4230
          ],
          [
           4960
          ],
          [
           4770
          ],
          [
           8960
          ],
          [
           2960
          ],
          [
           5630
          ],
          [
           3160
          ],
          [
           3450
          ],
          [
           4110
          ],
          [
           4020
          ],
          [
           7280
          ],
          [
           2930
          ],
          [
           24390
          ],
          [
           35780
          ],
          [
           19880
          ],
          [
           18310
          ],
          [
           11050
          ],
          [
           18370
          ],
          [
           13890
          ],
          [
           9720
          ],
          [
           12950
          ],
          [
           12370
          ],
          [
           11220
          ],
          [
           7130
          ],
          [
           20340
          ],
          [
           29520
          ],
          [
           21690
          ],
          [
           4090
          ],
          [
           8040
          ],
          [
           3980
          ],
          [
           4760
          ],
          [
           7760
          ],
          [
           16710
          ],
          [
           5710
          ],
          [
           8610
          ],
          [
           13230
          ],
          [
           23120
          ],
          [
           7030
          ],
          [
           3825.0588235294117
          ],
          [
           2380
          ],
          [
           3990
          ],
          [
           3655.104022191401
          ],
          [
           4711.255319148936
          ],
          [
           7621.536098310292
          ],
          [
           9538.390501319262
          ],
          [
           17550.65545739527
          ],
          [
           5671.450044208665
          ],
          [
           7400
          ],
          [
           10180
          ],
          [
           9980
          ],
          [
           14210.804639362088
          ],
          [
           7575.621387283237
          ],
          [
           3323.012048192771
          ],
          [
           4460.823798627002
          ],
          [
           6562.146676852559
          ],
          [
           8940
          ],
          [
           9583.542319749216
          ],
          [
           88643.84852416477
          ],
          [
           20490
          ],
          [
           6870
          ],
          [
           8748.398932621747
          ],
          [
           9100
          ],
          [
           10600
          ],
          [
           7319.153515064562
          ],
          [
           7440.860215053764
          ],
          [
           7118.317823908375
          ],
          [
           5781.501416430595
          ],
          [
           28832.69019248396
          ],
          [
           1700
          ],
          [
           17735.72716346154
          ],
          [
           11830
          ],
          [
           9022.400238237045
          ],
          [
           10158.393617021276
          ],
          [
           8446.016898008449
          ],
          [
           2949.6587030716723
          ],
          [
           3500.2571428571428
          ],
          [
           4300.412249705536
          ],
          [
           28549.795003203075
          ],
          [
           8529.87089201878
          ],
          [
           20308.687819306266
          ],
          [
           21730.71032745592
          ],
          [
           4451.914414414415
          ],
          [
           10870
          ],
          [
           27198.858144253827
          ],
          [
           4305.952380952381
          ],
          [
           3795.0592885375495
          ],
          [
           8490
          ],
          [
           25750.271877655054
          ],
          [
           11240
          ],
          [
           11320
          ],
          [
           7035.820895522388
          ],
          [
           6980.714285714285
          ],
          [
           18914.328906470753
          ],
          [
           21903.568904593638
          ],
          [
           4035.44099378882
          ],
          [
           4355.981087470449
          ],
          [
           4691.36460554371
          ],
          [
           7606.053184044787
          ],
          [
           25770
          ],
          [
           4098.144329896907
          ],
          [
           5064.839357429719
          ],
          [
           3155.0079239302695
          ],
          [
           3485.351506456241
          ],
          [
           14820
          ],
          [
           4150.385542168675
          ],
          [
           4551.2
          ],
          [
           8351.844660194174
          ],
          [
           2510
          ],
          [
           10515.888524590164
          ],
          [
           42977.797189018784
          ],
          [
           30056.90974729242
          ],
          [
           19880
          ],
          [
           18692.52609044688
          ],
          [
           9736.807387862797
          ],
          [
           16297.041457286432
          ],
          [
           13890
          ],
          [
           9020.35175879397
          ],
          [
           10790.010303967027
          ],
          [
           12666.642969984203
          ],
          [
           17397.872340425532
          ],
          [
           7969.126029132362
          ],
          [
           18651.462621885155
          ],
          [
           24456.308692511437
          ],
          [
           21690
          ],
          [
           4343.302540415704
          ],
          [
           7751.627906976744
          ],
          [
           12380
          ],
          [
           3980
          ],
          [
           4591.679389312977
          ],
          [
           7760
          ],
          [
           16710
          ],
          [
           5290.304761904762
          ],
          [
           7553.519781718963
          ],
          [
           13230
          ],
          [
           23120
          ],
          [
           7030
          ],
          [
           58664.6273403029
          ],
          [
           23795.199018593994
          ],
          [
           6389.325609401603
          ],
          [
           10908.283118125299
          ],
          [
           13328.429250058407
          ],
          [
           14859.533274870895
          ],
          [
           13848.993890343569
          ],
          [
           21253.361560487152
          ]
         ],
         "domain": {
          "x": [
           0,
           1
          ],
          "y": [
           0,
           1
          ]
         },
         "hovertemplate": "labels=%{label}<br>Medianqmp_sum=%{value}<br>parent=%{parent}<br>id=%{id}<br>Medianqmp=%{color}<extra></extra>",
         "ids": [
          "Medianquadratmeterpreis nach Zone und Quartier im 2021/Wohnzone 2/Affoltern/2017-01-01",
          "Medianquadratmeterpreis nach Zone und Quartier im 2021/Wohnzone 2/Albisrieden/2017-01-01",
          "Medianquadratmeterpreis nach Zone und Quartier im 2021/Wohnzone 3/Albisrieden/2017-01-01",
          "Medianquadratmeterpreis nach Zone und Quartier im 2021/Wohnzone 4/Albisrieden/2017-01-01",
          "Medianquadratmeterpreis nach Zone und Quartier im 2021/Zentrumszone/Albisrieden/2017-01-01",
          "Medianquadratmeterpreis nach Zone und Quartier im 2021/Quartiererhaltungszone/Alt-Wiedikon/2017-01-01",
          "Medianquadratmeterpreis nach Zone und Quartier im 2021/Wohnzone 2/Alt-Wiedikon/2017-01-01",
          "Medianquadratmeterpreis nach Zone und Quartier im 2021/Wohnzone 3/Alt-Wiedikon/2017-01-01",
          "Medianquadratmeterpreis nach Zone und Quartier im 2021/Zentrumszone/Alt-Wiedikon/2017-01-01",
          "Medianquadratmeterpreis nach Zone und Quartier im 2021/Kernzone/Altstetten/2017-01-01",
          "Medianquadratmeterpreis nach Zone und Quartier im 2021/Wohnzone 2/Altstetten/2017-01-01",
          "Medianquadratmeterpreis nach Zone und Quartier im 2021/Wohnzone 3/Altstetten/2017-01-01",
          "Medianquadratmeterpreis nach Zone und Quartier im 2021/Wohnzone 4/Altstetten/2017-01-01",
          "Medianquadratmeterpreis nach Zone und Quartier im 2021/Zentrumszone/Altstetten/2017-01-01",
          "Medianquadratmeterpreis nach Zone und Quartier im 2021/Kernzone/Enge/2017-01-01",
          "Medianquadratmeterpreis nach Zone und Quartier im 2021/Wohnzone 3/Enge/2017-01-01",
          "Medianquadratmeterpreis nach Zone und Quartier im 2021/Zentrumszone/Escher Wyss/2017-01-01",
          "Medianquadratmeterpreis nach Zone und Quartier im 2021/Wohnzone 2/Fluntern/2017-01-01",
          "Medianquadratmeterpreis nach Zone und Quartier im 2021/Wohnzone 3/Fluntern/2017-01-01",
          "Medianquadratmeterpreis nach Zone und Quartier im 2021/Wohnzone 2/Friesenberg/2017-01-01",
          "Medianquadratmeterpreis nach Zone und Quartier im 2021/Wohnzone 3/Friesenberg/2017-01-01",
          "Medianquadratmeterpreis nach Zone und Quartier im 2021/Quartiererhaltungszone/Gewerbeschule/2017-01-01",
          "Medianquadratmeterpreis nach Zone und Quartier im 2021/Zentrumszone/Gewerbeschule/2017-01-01",
          "Medianquadratmeterpreis nach Zone und Quartier im 2021/Quartiererhaltungszone/Hard/2017-01-01",
          "Medianquadratmeterpreis nach Zone und Quartier im 2021/Wohnzone 5/Hard/2017-01-01",
          "Medianquadratmeterpreis nach Zone und Quartier im 2021/Wohnzone 2/Hirslanden/2017-01-01",
          "Medianquadratmeterpreis nach Zone und Quartier im 2021/Wohnzone 3/Hirslanden/2017-01-01",
          "Medianquadratmeterpreis nach Zone und Quartier im 2021/Wohnzone 4/Hirslanden/2017-01-01",
          "Medianquadratmeterpreis nach Zone und Quartier im 2021/Wohnzone 2/Hirzenbach/2017-01-01",
          "Medianquadratmeterpreis nach Zone und Quartier im 2021/Wohnzone 3/Hirzenbach/2017-01-01",
          "Medianquadratmeterpreis nach Zone und Quartier im 2021/Wohnzone 4/Hirzenbach/2017-01-01",
          "Medianquadratmeterpreis nach Zone und Quartier im 2021/Quartiererhaltungszone/Hottingen/2017-01-01",
          "Medianquadratmeterpreis nach Zone und Quartier im 2021/Wohnzone 2/Hottingen/2017-01-01",
          "Medianquadratmeterpreis nach Zone und Quartier im 2021/Wohnzone 3/Hottingen/2017-01-01",
          "Medianquadratmeterpreis nach Zone und Quartier im 2021/Wohnzone 4/Hottingen/2017-01-01",
          "Medianquadratmeterpreis nach Zone und Quartier im 2021/Wohnzone 2/Höngg/2017-01-01",
          "Medianquadratmeterpreis nach Zone und Quartier im 2021/Quartiererhaltungszone/Langstrasse/2017-01-01",
          "Medianquadratmeterpreis nach Zone und Quartier im 2021/Wohnzone 2/Leimbach/2017-01-01",
          "Medianquadratmeterpreis nach Zone und Quartier im 2021/Wohnzone 3/Leimbach/2017-01-01",
          "Medianquadratmeterpreis nach Zone und Quartier im 2021/Quartiererhaltungszone/Mühlebach/2017-01-01",
          "Medianquadratmeterpreis nach Zone und Quartier im 2021/Wohnzone 2/Mühlebach/2017-01-01",
          "Medianquadratmeterpreis nach Zone und Quartier im 2021/Wohnzone 2/Oberstrass/2017-01-01",
          "Medianquadratmeterpreis nach Zone und Quartier im 2021/Wohnzone 3/Oberstrass/2017-01-01",
          "Medianquadratmeterpreis nach Zone und Quartier im 2021/Wohnzone 4/Oberstrass/2017-01-01",
          "Medianquadratmeterpreis nach Zone und Quartier im 2021/Quartiererhaltungszone/Oerlikon/2017-01-01",
          "Medianquadratmeterpreis nach Zone und Quartier im 2021/Wohnzone 2/Oerlikon/2017-01-01",
          "Medianquadratmeterpreis nach Zone und Quartier im 2021/Wohnzone 3/Oerlikon/2017-01-01",
          "Medianquadratmeterpreis nach Zone und Quartier im 2021/Wohnzone 4/Oerlikon/2017-01-01",
          "Medianquadratmeterpreis nach Zone und Quartier im 2021/Wohnzone 5/Oerlikon/2017-01-01",
          "Medianquadratmeterpreis nach Zone und Quartier im 2021/Zentrumszone/Oerlikon/2017-01-01",
          "Medianquadratmeterpreis nach Zone und Quartier im 2021/Wohnzone 2/Saatlen/2017-01-01",
          "Medianquadratmeterpreis nach Zone und Quartier im 2021/Wohnzone 3/Saatlen/2017-01-01",
          "Medianquadratmeterpreis nach Zone und Quartier im 2021/Wohnzone 2/Schwamendingen-Mitte/2017-01-01",
          "Medianquadratmeterpreis nach Zone und Quartier im 2021/Wohnzone 3/Schwamendingen-Mitte/2017-01-01",
          "Medianquadratmeterpreis nach Zone und Quartier im 2021/Quartiererhaltungszone/Seebach/2017-01-01",
          "Medianquadratmeterpreis nach Zone und Quartier im 2021/Wohnzone 2/Seebach/2017-01-01",
          "Medianquadratmeterpreis nach Zone und Quartier im 2021/Wohnzone 3/Seebach/2017-01-01",
          "Medianquadratmeterpreis nach Zone und Quartier im 2021/Wohnzone 4/Seebach/2017-01-01",
          "Medianquadratmeterpreis nach Zone und Quartier im 2021/Wohnzone 5/Seebach/2017-01-01",
          "Medianquadratmeterpreis nach Zone und Quartier im 2021/Zentrumszone/Seebach/2017-01-01",
          "Medianquadratmeterpreis nach Zone und Quartier im 2021/Kernzone/Seefeld/2017-01-01",
          "Medianquadratmeterpreis nach Zone und Quartier im 2021/Quartiererhaltungszone/Seefeld/2017-01-01",
          "Medianquadratmeterpreis nach Zone und Quartier im 2021/Quartiererhaltungszone/Sihlfeld/2017-01-01",
          "Medianquadratmeterpreis nach Zone und Quartier im 2021/Wohnzone 3/Sihlfeld/2017-01-01",
          "Medianquadratmeterpreis nach Zone und Quartier im 2021/Wohnzone 4/Sihlfeld/2017-01-01",
          "Medianquadratmeterpreis nach Zone und Quartier im 2021/Wohnzone 2/Unterstrass/2017-01-01",
          "Medianquadratmeterpreis nach Zone und Quartier im 2021/Wohnzone 3/Unterstrass/2017-01-01",
          "Medianquadratmeterpreis nach Zone und Quartier im 2021/Wohnzone 4/Unterstrass/2017-01-01",
          "Medianquadratmeterpreis nach Zone und Quartier im 2021/Wohnzone 5/Unterstrass/2017-01-01",
          "Medianquadratmeterpreis nach Zone und Quartier im 2021/Wohnzone 2/Weinegg/2017-01-01",
          "Medianquadratmeterpreis nach Zone und Quartier im 2021/Wohnzone 3/Weinegg/2017-01-01",
          "Medianquadratmeterpreis nach Zone und Quartier im 2021/Quartiererhaltungszone/Werd/2017-01-01",
          "Medianquadratmeterpreis nach Zone und Quartier im 2021/Wohnzone 2/Wipkingen/2017-01-01",
          "Medianquadratmeterpreis nach Zone und Quartier im 2021/Wohnzone 3/Wipkingen/2017-01-01",
          "Medianquadratmeterpreis nach Zone und Quartier im 2021/Wohnzone 4/Wipkingen/2017-01-01",
          "Medianquadratmeterpreis nach Zone und Quartier im 2021/Wohnzone 2/Witikon/2017-01-01",
          "Medianquadratmeterpreis nach Zone und Quartier im 2021/Wohnzone 2/Wollishofen/2017-01-01",
          "Medianquadratmeterpreis nach Zone und Quartier im 2021/Wohnzone 3/Wollishofen/2017-01-01",
          "Medianquadratmeterpreis nach Zone und Quartier im 2021/Wohnzone 2/Affoltern/2018-01-01",
          "Medianquadratmeterpreis nach Zone und Quartier im 2021/Wohnzone 3/Affoltern/2018-01-01",
          "Medianquadratmeterpreis nach Zone und Quartier im 2021/Wohnzone 4/Affoltern/2018-01-01",
          "Medianquadratmeterpreis nach Zone und Quartier im 2021/Wohnzone 2/Albisrieden/2018-01-01",
          "Medianquadratmeterpreis nach Zone und Quartier im 2021/Wohnzone 3/Albisrieden/2018-01-01",
          "Medianquadratmeterpreis nach Zone und Quartier im 2021/Wohnzone 4/Albisrieden/2018-01-01",
          "Medianquadratmeterpreis nach Zone und Quartier im 2021/Zentrumszone/Albisrieden/2018-01-01",
          "Medianquadratmeterpreis nach Zone und Quartier im 2021/Quartiererhaltungszone/Alt-Wiedikon/2018-01-01",
          "Medianquadratmeterpreis nach Zone und Quartier im 2021/Wohnzone 2/Alt-Wiedikon/2018-01-01",
          "Medianquadratmeterpreis nach Zone und Quartier im 2021/Wohnzone 4/Alt-Wiedikon/2018-01-01",
          "Medianquadratmeterpreis nach Zone und Quartier im 2021/Wohnzone 5/Alt-Wiedikon/2018-01-01",
          "Medianquadratmeterpreis nach Zone und Quartier im 2021/Zentrumszone/Alt-Wiedikon/2018-01-01",
          "Medianquadratmeterpreis nach Zone und Quartier im 2021/Kernzone/Altstetten/2018-01-01",
          "Medianquadratmeterpreis nach Zone und Quartier im 2021/Wohnzone 2/Altstetten/2018-01-01",
          "Medianquadratmeterpreis nach Zone und Quartier im 2021/Wohnzone 3/Altstetten/2018-01-01",
          "Medianquadratmeterpreis nach Zone und Quartier im 2021/Wohnzone 4/Altstetten/2018-01-01",
          "Medianquadratmeterpreis nach Zone und Quartier im 2021/Wohnzone 5/Altstetten/2018-01-01",
          "Medianquadratmeterpreis nach Zone und Quartier im 2021/Zentrumszone/Altstetten/2018-01-01",
          "Medianquadratmeterpreis nach Zone und Quartier im 2021/Kernzone/Enge/2018-01-01",
          "Medianquadratmeterpreis nach Zone und Quartier im 2021/Quartiererhaltungszone/Enge/2018-01-01",
          "Medianquadratmeterpreis nach Zone und Quartier im 2021/Wohnzone 2/Enge/2018-01-01",
          "Medianquadratmeterpreis nach Zone und Quartier im 2021/Wohnzone 3/Enge/2018-01-01",
          "Medianquadratmeterpreis nach Zone und Quartier im 2021/Kernzone/Escher Wyss/2018-01-01",
          "Medianquadratmeterpreis nach Zone und Quartier im 2021/Wohnzone 2/Fluntern/2018-01-01",
          "Medianquadratmeterpreis nach Zone und Quartier im 2021/Wohnzone 3/Fluntern/2018-01-01",
          "Medianquadratmeterpreis nach Zone und Quartier im 2021/Wohnzone 2/Friesenberg/2018-01-01",
          "Medianquadratmeterpreis nach Zone und Quartier im 2021/Wohnzone 3/Friesenberg/2018-01-01",
          "Medianquadratmeterpreis nach Zone und Quartier im 2021/Quartiererhaltungszone/Gewerbeschule/2018-01-01",
          "Medianquadratmeterpreis nach Zone und Quartier im 2021/Quartiererhaltungszone/Hard/2018-01-01",
          "Medianquadratmeterpreis nach Zone und Quartier im 2021/Wohnzone 2/Hirslanden/2018-01-01",
          "Medianquadratmeterpreis nach Zone und Quartier im 2021/Wohnzone 3/Hirslanden/2018-01-01",
          "Medianquadratmeterpreis nach Zone und Quartier im 2021/Wohnzone 4/Hirslanden/2018-01-01",
          "Medianquadratmeterpreis nach Zone und Quartier im 2021/Wohnzone 2/Hirzenbach/2018-01-01",
          "Medianquadratmeterpreis nach Zone und Quartier im 2021/Wohnzone 3/Hirzenbach/2018-01-01",
          "Medianquadratmeterpreis nach Zone und Quartier im 2021/Wohnzone 4/Hirzenbach/2018-01-01",
          "Medianquadratmeterpreis nach Zone und Quartier im 2021/Quartiererhaltungszone/Hottingen/2018-01-01",
          "Medianquadratmeterpreis nach Zone und Quartier im 2021/Wohnzone 2/Hottingen/2018-01-01",
          "Medianquadratmeterpreis nach Zone und Quartier im 2021/Wohnzone 3/Hottingen/2018-01-01",
          "Medianquadratmeterpreis nach Zone und Quartier im 2021/Wohnzone 4/Hottingen/2018-01-01",
          "Medianquadratmeterpreis nach Zone und Quartier im 2021/Wohnzone 2/Höngg/2018-01-01",
          "Medianquadratmeterpreis nach Zone und Quartier im 2021/Wohnzone 3/Höngg/2018-01-01",
          "Medianquadratmeterpreis nach Zone und Quartier im 2021/Quartiererhaltungszone/Langstrasse/2018-01-01",
          "Medianquadratmeterpreis nach Zone und Quartier im 2021/Wohnzone 2/Leimbach/2018-01-01",
          "Medianquadratmeterpreis nach Zone und Quartier im 2021/Wohnzone 3/Leimbach/2018-01-01",
          "Medianquadratmeterpreis nach Zone und Quartier im 2021/Kernzone/Mühlebach/2018-01-01",
          "Medianquadratmeterpreis nach Zone und Quartier im 2021/Quartiererhaltungszone/Mühlebach/2018-01-01",
          "Medianquadratmeterpreis nach Zone und Quartier im 2021/Wohnzone 3/Mühlebach/2018-01-01",
          "Medianquadratmeterpreis nach Zone und Quartier im 2021/Wohnzone 2/Oberstrass/2018-01-01",
          "Medianquadratmeterpreis nach Zone und Quartier im 2021/Wohnzone 3/Oberstrass/2018-01-01",
          "Medianquadratmeterpreis nach Zone und Quartier im 2021/Wohnzone 4/Oberstrass/2018-01-01",
          "Medianquadratmeterpreis nach Zone und Quartier im 2021/Quartiererhaltungszone/Oerlikon/2018-01-01",
          "Medianquadratmeterpreis nach Zone und Quartier im 2021/Wohnzone 2/Oerlikon/2018-01-01",
          "Medianquadratmeterpreis nach Zone und Quartier im 2021/Wohnzone 3/Oerlikon/2018-01-01",
          "Medianquadratmeterpreis nach Zone und Quartier im 2021/Wohnzone 4/Oerlikon/2018-01-01",
          "Medianquadratmeterpreis nach Zone und Quartier im 2021/Wohnzone 5/Oerlikon/2018-01-01",
          "Medianquadratmeterpreis nach Zone und Quartier im 2021/Wohnzone 2/Saatlen/2018-01-01",
          "Medianquadratmeterpreis nach Zone und Quartier im 2021/Wohnzone 3/Saatlen/2018-01-01",
          "Medianquadratmeterpreis nach Zone und Quartier im 2021/Wohnzone 2/Schwamendingen-Mitte/2018-01-01",
          "Medianquadratmeterpreis nach Zone und Quartier im 2021/Wohnzone 3/Schwamendingen-Mitte/2018-01-01",
          "Medianquadratmeterpreis nach Zone und Quartier im 2021/Wohnzone 2/Seebach/2018-01-01",
          "Medianquadratmeterpreis nach Zone und Quartier im 2021/Wohnzone 3/Seebach/2018-01-01",
          "Medianquadratmeterpreis nach Zone und Quartier im 2021/Wohnzone 4/Seebach/2018-01-01",
          "Medianquadratmeterpreis nach Zone und Quartier im 2021/Zentrumszone/Seebach/2018-01-01",
          "Medianquadratmeterpreis nach Zone und Quartier im 2021/Kernzone/Seefeld/2018-01-01",
          "Medianquadratmeterpreis nach Zone und Quartier im 2021/Quartiererhaltungszone/Seefeld/2018-01-01",
          "Medianquadratmeterpreis nach Zone und Quartier im 2021/Wohnzone 3/Seefeld/2018-01-01",
          "Medianquadratmeterpreis nach Zone und Quartier im 2021/Quartiererhaltungszone/Sihlfeld/2018-01-01",
          "Medianquadratmeterpreis nach Zone und Quartier im 2021/Wohnzone 3/Sihlfeld/2018-01-01",
          "Medianquadratmeterpreis nach Zone und Quartier im 2021/Wohnzone 4/Sihlfeld/2018-01-01",
          "Medianquadratmeterpreis nach Zone und Quartier im 2021/Quartiererhaltungszone/Unterstrass/2018-01-01",
          "Medianquadratmeterpreis nach Zone und Quartier im 2021/Wohnzone 2/Unterstrass/2018-01-01",
          "Medianquadratmeterpreis nach Zone und Quartier im 2021/Wohnzone 3/Unterstrass/2018-01-01",
          "Medianquadratmeterpreis nach Zone und Quartier im 2021/Wohnzone 4/Unterstrass/2018-01-01",
          "Medianquadratmeterpreis nach Zone und Quartier im 2021/Wohnzone 5/Unterstrass/2018-01-01",
          "Medianquadratmeterpreis nach Zone und Quartier im 2021/Wohnzone 2/Weinegg/2018-01-01",
          "Medianquadratmeterpreis nach Zone und Quartier im 2021/Wohnzone 3/Weinegg/2018-01-01",
          "Medianquadratmeterpreis nach Zone und Quartier im 2021/Quartiererhaltungszone/Werd/2018-01-01",
          "Medianquadratmeterpreis nach Zone und Quartier im 2021/Quartiererhaltungszone/Wipkingen/2018-01-01",
          "Medianquadratmeterpreis nach Zone und Quartier im 2021/Wohnzone 2/Wipkingen/2018-01-01",
          "Medianquadratmeterpreis nach Zone und Quartier im 2021/Wohnzone 3/Wipkingen/2018-01-01",
          "Medianquadratmeterpreis nach Zone und Quartier im 2021/Kernzone/Witikon/2018-01-01",
          "Medianquadratmeterpreis nach Zone und Quartier im 2021/Wohnzone 2/Witikon/2018-01-01",
          "Medianquadratmeterpreis nach Zone und Quartier im 2021/Wohnzone 4/Witikon/2018-01-01",
          "Medianquadratmeterpreis nach Zone und Quartier im 2021/Kernzone/Wollishofen/2018-01-01",
          "Medianquadratmeterpreis nach Zone und Quartier im 2021/Wohnzone 2/Wollishofen/2018-01-01",
          "Medianquadratmeterpreis nach Zone und Quartier im 2021/Wohnzone 3/Wollishofen/2018-01-01",
          "Medianquadratmeterpreis nach Zone und Quartier im 2021/Wohnzone 4/Wollishofen/2018-01-01",
          "Medianquadratmeterpreis nach Zone und Quartier im 2021/Wohnzone 5/Wollishofen/2018-01-01",
          "Medianquadratmeterpreis nach Zone und Quartier im 2021/Zentrumszone/Wollishofen/2018-01-01",
          "Medianquadratmeterpreis nach Zone und Quartier im 2021/Wohnzone 2/Affoltern",
          "Medianquadratmeterpreis nach Zone und Quartier im 2021/Wohnzone 3/Affoltern",
          "Medianquadratmeterpreis nach Zone und Quartier im 2021/Wohnzone 4/Affoltern",
          "Medianquadratmeterpreis nach Zone und Quartier im 2021/Wohnzone 2/Albisrieden",
          "Medianquadratmeterpreis nach Zone und Quartier im 2021/Wohnzone 3/Albisrieden",
          "Medianquadratmeterpreis nach Zone und Quartier im 2021/Wohnzone 4/Albisrieden",
          "Medianquadratmeterpreis nach Zone und Quartier im 2021/Zentrumszone/Albisrieden",
          "Medianquadratmeterpreis nach Zone und Quartier im 2021/Quartiererhaltungszone/Alt-Wiedikon",
          "Medianquadratmeterpreis nach Zone und Quartier im 2021/Wohnzone 2/Alt-Wiedikon",
          "Medianquadratmeterpreis nach Zone und Quartier im 2021/Wohnzone 3/Alt-Wiedikon",
          "Medianquadratmeterpreis nach Zone und Quartier im 2021/Wohnzone 4/Alt-Wiedikon",
          "Medianquadratmeterpreis nach Zone und Quartier im 2021/Wohnzone 5/Alt-Wiedikon",
          "Medianquadratmeterpreis nach Zone und Quartier im 2021/Zentrumszone/Alt-Wiedikon",
          "Medianquadratmeterpreis nach Zone und Quartier im 2021/Kernzone/Altstetten",
          "Medianquadratmeterpreis nach Zone und Quartier im 2021/Wohnzone 2/Altstetten",
          "Medianquadratmeterpreis nach Zone und Quartier im 2021/Wohnzone 3/Altstetten",
          "Medianquadratmeterpreis nach Zone und Quartier im 2021/Wohnzone 4/Altstetten",
          "Medianquadratmeterpreis nach Zone und Quartier im 2021/Wohnzone 5/Altstetten",
          "Medianquadratmeterpreis nach Zone und Quartier im 2021/Zentrumszone/Altstetten",
          "Medianquadratmeterpreis nach Zone und Quartier im 2021/Kernzone/Enge",
          "Medianquadratmeterpreis nach Zone und Quartier im 2021/Quartiererhaltungszone/Enge",
          "Medianquadratmeterpreis nach Zone und Quartier im 2021/Wohnzone 2/Enge",
          "Medianquadratmeterpreis nach Zone und Quartier im 2021/Wohnzone 3/Enge",
          "Medianquadratmeterpreis nach Zone und Quartier im 2021/Kernzone/Escher Wyss",
          "Medianquadratmeterpreis nach Zone und Quartier im 2021/Zentrumszone/Escher Wyss",
          "Medianquadratmeterpreis nach Zone und Quartier im 2021/Wohnzone 2/Fluntern",
          "Medianquadratmeterpreis nach Zone und Quartier im 2021/Wohnzone 3/Fluntern",
          "Medianquadratmeterpreis nach Zone und Quartier im 2021/Wohnzone 2/Friesenberg",
          "Medianquadratmeterpreis nach Zone und Quartier im 2021/Wohnzone 3/Friesenberg",
          "Medianquadratmeterpreis nach Zone und Quartier im 2021/Quartiererhaltungszone/Gewerbeschule",
          "Medianquadratmeterpreis nach Zone und Quartier im 2021/Zentrumszone/Gewerbeschule",
          "Medianquadratmeterpreis nach Zone und Quartier im 2021/Quartiererhaltungszone/Hard",
          "Medianquadratmeterpreis nach Zone und Quartier im 2021/Wohnzone 5/Hard",
          "Medianquadratmeterpreis nach Zone und Quartier im 2021/Wohnzone 2/Hirslanden",
          "Medianquadratmeterpreis nach Zone und Quartier im 2021/Wohnzone 3/Hirslanden",
          "Medianquadratmeterpreis nach Zone und Quartier im 2021/Wohnzone 4/Hirslanden",
          "Medianquadratmeterpreis nach Zone und Quartier im 2021/Wohnzone 2/Hirzenbach",
          "Medianquadratmeterpreis nach Zone und Quartier im 2021/Wohnzone 3/Hirzenbach",
          "Medianquadratmeterpreis nach Zone und Quartier im 2021/Wohnzone 4/Hirzenbach",
          "Medianquadratmeterpreis nach Zone und Quartier im 2021/Quartiererhaltungszone/Hottingen",
          "Medianquadratmeterpreis nach Zone und Quartier im 2021/Wohnzone 2/Hottingen",
          "Medianquadratmeterpreis nach Zone und Quartier im 2021/Wohnzone 3/Hottingen",
          "Medianquadratmeterpreis nach Zone und Quartier im 2021/Wohnzone 4/Hottingen",
          "Medianquadratmeterpreis nach Zone und Quartier im 2021/Wohnzone 2/Höngg",
          "Medianquadratmeterpreis nach Zone und Quartier im 2021/Wohnzone 3/Höngg",
          "Medianquadratmeterpreis nach Zone und Quartier im 2021/Quartiererhaltungszone/Langstrasse",
          "Medianquadratmeterpreis nach Zone und Quartier im 2021/Wohnzone 2/Leimbach",
          "Medianquadratmeterpreis nach Zone und Quartier im 2021/Wohnzone 3/Leimbach",
          "Medianquadratmeterpreis nach Zone und Quartier im 2021/Kernzone/Mühlebach",
          "Medianquadratmeterpreis nach Zone und Quartier im 2021/Quartiererhaltungszone/Mühlebach",
          "Medianquadratmeterpreis nach Zone und Quartier im 2021/Wohnzone 2/Mühlebach",
          "Medianquadratmeterpreis nach Zone und Quartier im 2021/Wohnzone 3/Mühlebach",
          "Medianquadratmeterpreis nach Zone und Quartier im 2021/Wohnzone 2/Oberstrass",
          "Medianquadratmeterpreis nach Zone und Quartier im 2021/Wohnzone 3/Oberstrass",
          "Medianquadratmeterpreis nach Zone und Quartier im 2021/Wohnzone 4/Oberstrass",
          "Medianquadratmeterpreis nach Zone und Quartier im 2021/Quartiererhaltungszone/Oerlikon",
          "Medianquadratmeterpreis nach Zone und Quartier im 2021/Wohnzone 2/Oerlikon",
          "Medianquadratmeterpreis nach Zone und Quartier im 2021/Wohnzone 3/Oerlikon",
          "Medianquadratmeterpreis nach Zone und Quartier im 2021/Wohnzone 4/Oerlikon",
          "Medianquadratmeterpreis nach Zone und Quartier im 2021/Wohnzone 5/Oerlikon",
          "Medianquadratmeterpreis nach Zone und Quartier im 2021/Zentrumszone/Oerlikon",
          "Medianquadratmeterpreis nach Zone und Quartier im 2021/Wohnzone 2/Saatlen",
          "Medianquadratmeterpreis nach Zone und Quartier im 2021/Wohnzone 3/Saatlen",
          "Medianquadratmeterpreis nach Zone und Quartier im 2021/Wohnzone 2/Schwamendingen-Mitte",
          "Medianquadratmeterpreis nach Zone und Quartier im 2021/Wohnzone 3/Schwamendingen-Mitte",
          "Medianquadratmeterpreis nach Zone und Quartier im 2021/Quartiererhaltungszone/Seebach",
          "Medianquadratmeterpreis nach Zone und Quartier im 2021/Wohnzone 2/Seebach",
          "Medianquadratmeterpreis nach Zone und Quartier im 2021/Wohnzone 3/Seebach",
          "Medianquadratmeterpreis nach Zone und Quartier im 2021/Wohnzone 4/Seebach",
          "Medianquadratmeterpreis nach Zone und Quartier im 2021/Wohnzone 5/Seebach",
          "Medianquadratmeterpreis nach Zone und Quartier im 2021/Zentrumszone/Seebach",
          "Medianquadratmeterpreis nach Zone und Quartier im 2021/Kernzone/Seefeld",
          "Medianquadratmeterpreis nach Zone und Quartier im 2021/Quartiererhaltungszone/Seefeld",
          "Medianquadratmeterpreis nach Zone und Quartier im 2021/Wohnzone 3/Seefeld",
          "Medianquadratmeterpreis nach Zone und Quartier im 2021/Quartiererhaltungszone/Sihlfeld",
          "Medianquadratmeterpreis nach Zone und Quartier im 2021/Wohnzone 3/Sihlfeld",
          "Medianquadratmeterpreis nach Zone und Quartier im 2021/Wohnzone 4/Sihlfeld",
          "Medianquadratmeterpreis nach Zone und Quartier im 2021/Quartiererhaltungszone/Unterstrass",
          "Medianquadratmeterpreis nach Zone und Quartier im 2021/Wohnzone 2/Unterstrass",
          "Medianquadratmeterpreis nach Zone und Quartier im 2021/Wohnzone 3/Unterstrass",
          "Medianquadratmeterpreis nach Zone und Quartier im 2021/Wohnzone 4/Unterstrass",
          "Medianquadratmeterpreis nach Zone und Quartier im 2021/Wohnzone 5/Unterstrass",
          "Medianquadratmeterpreis nach Zone und Quartier im 2021/Wohnzone 2/Weinegg",
          "Medianquadratmeterpreis nach Zone und Quartier im 2021/Wohnzone 3/Weinegg",
          "Medianquadratmeterpreis nach Zone und Quartier im 2021/Quartiererhaltungszone/Werd",
          "Medianquadratmeterpreis nach Zone und Quartier im 2021/Quartiererhaltungszone/Wipkingen",
          "Medianquadratmeterpreis nach Zone und Quartier im 2021/Wohnzone 2/Wipkingen",
          "Medianquadratmeterpreis nach Zone und Quartier im 2021/Wohnzone 3/Wipkingen",
          "Medianquadratmeterpreis nach Zone und Quartier im 2021/Wohnzone 4/Wipkingen",
          "Medianquadratmeterpreis nach Zone und Quartier im 2021/Kernzone/Witikon",
          "Medianquadratmeterpreis nach Zone und Quartier im 2021/Wohnzone 2/Witikon",
          "Medianquadratmeterpreis nach Zone und Quartier im 2021/Wohnzone 4/Witikon",
          "Medianquadratmeterpreis nach Zone und Quartier im 2021/Kernzone/Wollishofen",
          "Medianquadratmeterpreis nach Zone und Quartier im 2021/Wohnzone 2/Wollishofen",
          "Medianquadratmeterpreis nach Zone und Quartier im 2021/Wohnzone 3/Wollishofen",
          "Medianquadratmeterpreis nach Zone und Quartier im 2021/Wohnzone 4/Wollishofen",
          "Medianquadratmeterpreis nach Zone und Quartier im 2021/Wohnzone 5/Wollishofen",
          "Medianquadratmeterpreis nach Zone und Quartier im 2021/Zentrumszone/Wollishofen",
          "Medianquadratmeterpreis nach Zone und Quartier im 2021/Kernzone",
          "Medianquadratmeterpreis nach Zone und Quartier im 2021/Quartiererhaltungszone",
          "Medianquadratmeterpreis nach Zone und Quartier im 2021/Wohnzone 2",
          "Medianquadratmeterpreis nach Zone und Quartier im 2021/Wohnzone 3",
          "Medianquadratmeterpreis nach Zone und Quartier im 2021/Wohnzone 4",
          "Medianquadratmeterpreis nach Zone und Quartier im 2021/Wohnzone 5",
          "Medianquadratmeterpreis nach Zone und Quartier im 2021/Zentrumszone",
          "Medianquadratmeterpreis nach Zone und Quartier im 2021"
         ],
         "labels": [
          "2017-01-01",
          "2017-01-01",
          "2017-01-01",
          "2017-01-01",
          "2017-01-01",
          "2017-01-01",
          "2017-01-01",
          "2017-01-01",
          "2017-01-01",
          "2017-01-01",
          "2017-01-01",
          "2017-01-01",
          "2017-01-01",
          "2017-01-01",
          "2017-01-01",
          "2017-01-01",
          "2017-01-01",
          "2017-01-01",
          "2017-01-01",
          "2017-01-01",
          "2017-01-01",
          "2017-01-01",
          "2017-01-01",
          "2017-01-01",
          "2017-01-01",
          "2017-01-01",
          "2017-01-01",
          "2017-01-01",
          "2017-01-01",
          "2017-01-01",
          "2017-01-01",
          "2017-01-01",
          "2017-01-01",
          "2017-01-01",
          "2017-01-01",
          "2017-01-01",
          "2017-01-01",
          "2017-01-01",
          "2017-01-01",
          "2017-01-01",
          "2017-01-01",
          "2017-01-01",
          "2017-01-01",
          "2017-01-01",
          "2017-01-01",
          "2017-01-01",
          "2017-01-01",
          "2017-01-01",
          "2017-01-01",
          "2017-01-01",
          "2017-01-01",
          "2017-01-01",
          "2017-01-01",
          "2017-01-01",
          "2017-01-01",
          "2017-01-01",
          "2017-01-01",
          "2017-01-01",
          "2017-01-01",
          "2017-01-01",
          "2017-01-01",
          "2017-01-01",
          "2017-01-01",
          "2017-01-01",
          "2017-01-01",
          "2017-01-01",
          "2017-01-01",
          "2017-01-01",
          "2017-01-01",
          "2017-01-01",
          "2017-01-01",
          "2017-01-01",
          "2017-01-01",
          "2017-01-01",
          "2017-01-01",
          "2017-01-01",
          "2017-01-01",
          "2017-01-01",
          "2018-01-01",
          "2018-01-01",
          "2018-01-01",
          "2018-01-01",
          "2018-01-01",
          "2018-01-01",
          "2018-01-01",
          "2018-01-01",
          "2018-01-01",
          "2018-01-01",
          "2018-01-01",
          "2018-01-01",
          "2018-01-01",
          "2018-01-01",
          "2018-01-01",
          "2018-01-01",
          "2018-01-01",
          "2018-01-01",
          "2018-01-01",
          "2018-01-01",
          "2018-01-01",
          "2018-01-01",
          "2018-01-01",
          "2018-01-01",
          "2018-01-01",
          "2018-01-01",
          "2018-01-01",
          "2018-01-01",
          "2018-01-01",
          "2018-01-01",
          "2018-01-01",
          "2018-01-01",
          "2018-01-01",
          "2018-01-01",
          "2018-01-01",
          "2018-01-01",
          "2018-01-01",
          "2018-01-01",
          "2018-01-01",
          "2018-01-01",
          "2018-01-01",
          "2018-01-01",
          "2018-01-01",
          "2018-01-01",
          "2018-01-01",
          "2018-01-01",
          "2018-01-01",
          "2018-01-01",
          "2018-01-01",
          "2018-01-01",
          "2018-01-01",
          "2018-01-01",
          "2018-01-01",
          "2018-01-01",
          "2018-01-01",
          "2018-01-01",
          "2018-01-01",
          "2018-01-01",
          "2018-01-01",
          "2018-01-01",
          "2018-01-01",
          "2018-01-01",
          "2018-01-01",
          "2018-01-01",
          "2018-01-01",
          "2018-01-01",
          "2018-01-01",
          "2018-01-01",
          "2018-01-01",
          "2018-01-01",
          "2018-01-01",
          "2018-01-01",
          "2018-01-01",
          "2018-01-01",
          "2018-01-01",
          "2018-01-01",
          "2018-01-01",
          "2018-01-01",
          "2018-01-01",
          "2018-01-01",
          "2018-01-01",
          "2018-01-01",
          "2018-01-01",
          "2018-01-01",
          "2018-01-01",
          "2018-01-01",
          "2018-01-01",
          "2018-01-01",
          "2018-01-01",
          "Affoltern",
          "Affoltern",
          "Affoltern",
          "Albisrieden",
          "Albisrieden",
          "Albisrieden",
          "Albisrieden",
          "Alt-Wiedikon",
          "Alt-Wiedikon",
          "Alt-Wiedikon",
          "Alt-Wiedikon",
          "Alt-Wiedikon",
          "Alt-Wiedikon",
          "Altstetten",
          "Altstetten",
          "Altstetten",
          "Altstetten",
          "Altstetten",
          "Altstetten",
          "Enge",
          "Enge",
          "Enge",
          "Enge",
          "Escher Wyss",
          "Escher Wyss",
          "Fluntern",
          "Fluntern",
          "Friesenberg",
          "Friesenberg",
          "Gewerbeschule",
          "Gewerbeschule",
          "Hard",
          "Hard",
          "Hirslanden",
          "Hirslanden",
          "Hirslanden",
          "Hirzenbach",
          "Hirzenbach",
          "Hirzenbach",
          "Hottingen",
          "Hottingen",
          "Hottingen",
          "Hottingen",
          "Höngg",
          "Höngg",
          "Langstrasse",
          "Leimbach",
          "Leimbach",
          "Mühlebach",
          "Mühlebach",
          "Mühlebach",
          "Mühlebach",
          "Oberstrass",
          "Oberstrass",
          "Oberstrass",
          "Oerlikon",
          "Oerlikon",
          "Oerlikon",
          "Oerlikon",
          "Oerlikon",
          "Oerlikon",
          "Saatlen",
          "Saatlen",
          "Schwamendingen-Mitte",
          "Schwamendingen-Mitte",
          "Seebach",
          "Seebach",
          "Seebach",
          "Seebach",
          "Seebach",
          "Seebach",
          "Seefeld",
          "Seefeld",
          "Seefeld",
          "Sihlfeld",
          "Sihlfeld",
          "Sihlfeld",
          "Unterstrass",
          "Unterstrass",
          "Unterstrass",
          "Unterstrass",
          "Unterstrass",
          "Weinegg",
          "Weinegg",
          "Werd",
          "Wipkingen",
          "Wipkingen",
          "Wipkingen",
          "Wipkingen",
          "Witikon",
          "Witikon",
          "Witikon",
          "Wollishofen",
          "Wollishofen",
          "Wollishofen",
          "Wollishofen",
          "Wollishofen",
          "Wollishofen",
          "Kernzone",
          "Quartiererhaltungszone",
          "Wohnzone 2",
          "Wohnzone 3",
          "Wohnzone 4",
          "Wohnzone 5",
          "Zentrumszone",
          "Medianquadratmeterpreis nach Zone und Quartier im 2021"
         ],
         "marker": {
          "coloraxis": "coloraxis",
          "colors": [
           3840,
           4030,
           4930,
           3820,
           8700,
           17860,
           5350,
           7400,
           11400,
           9050,
           3220,
           3740,
           6210,
           9210,
           20870,
           4430,
           10600,
           8530,
           7360,
           6020,
           3690,
           9450,
           1700,
           12370,
           11830,
           6100,
           6730,
           9440,
           2690,
           3530,
           3760,
           34380,
           8230,
           12950,
           13740,
           4210,
           25510,
           5190,
           3810,
           29610,
           11240,
           5200,
           5950,
           22340,
           26250,
           3820,
           3500,
           4610,
           5330,
           25770,
           4800,
           4330,
           3150,
           3520,
           14820,
           4190,
           4980,
           9200,
           2510,
           12320,
           51740,
           19620,
           19060,
           7900,
           13470,
           8190,
           6460,
           12950,
           20740,
           8660,
           16580,
           12010,
           4570,
           7440,
           12380,
           4410,
           4790,
           6050,
           3810,
           2380,
           3990,
           3180,
           4470,
           9200,
           10250,
           17230,
           5960,
           10180,
           9980,
           16190,
           4790,
           3420,
           5000,
           6880,
           8940,
           9930,
           102450,
           20490,
           6870,
           10560,
           9100,
           5410,
           7520,
           7950,
           6900,
           34190,
           20910,
           10690,
           12070,
           7130,
           3170,
           3470,
           4730,
           12450,
           8810,
           24240,
           25960,
           4670,
           10870,
           28700,
           2370,
           3780,
           8490,
           5700,
           11320,
           8200,
           7770,
           13050,
           13370,
           4230,
           4960,
           4770,
           8960,
           2960,
           5630,
           3160,
           3450,
           4110,
           4020,
           7280,
           2930,
           24390,
           35780,
           19880,
           18310,
           11050,
           18370,
           13890,
           9720,
           12950,
           12370,
           11220,
           7130,
           20340,
           29520,
           21690,
           4090,
           8040,
           3980,
           4760,
           7760,
           16710,
           5710,
           8610,
           13230,
           23120,
           7030,
           3825.0588235294117,
           2380,
           3990,
           3655.104022191401,
           4711.255319148936,
           7621.536098310292,
           9538.390501319262,
           17550.65545739527,
           5671.450044208665,
           7400,
           10180,
           9980,
           14210.804639362088,
           7575.621387283237,
           3323.012048192771,
           4460.823798627002,
           6562.146676852559,
           8940,
           9583.542319749216,
           88643.84852416477,
           20490,
           6870,
           8748.398932621747,
           9100,
           10600,
           7319.153515064562,
           7440.860215053764,
           7118.317823908375,
           5781.501416430595,
           28832.69019248396,
           1700,
           17735.72716346154,
           11830,
           9022.400238237045,
           10158.393617021276,
           8446.016898008449,
           2949.6587030716723,
           3500.2571428571428,
           4300.412249705536,
           28549.795003203075,
           8529.87089201878,
           20308.687819306266,
           21730.71032745592,
           4451.914414414415,
           10870,
           27198.858144253827,
           4305.952380952381,
           3795.0592885375495,
           8490,
           25750.271877655054,
           11240,
           11320,
           7035.820895522388,
           6980.714285714285,
           18914.328906470753,
           21903.568904593638,
           4035.44099378882,
           4355.981087470449,
           4691.36460554371,
           7606.053184044787,
           25770,
           4098.144329896907,
           5064.839357429719,
           3155.0079239302695,
           3485.351506456241,
           14820,
           4150.385542168675,
           4551.2,
           8351.844660194174,
           2510,
           10515.888524590164,
           42977.797189018784,
           30056.90974729242,
           19880,
           18692.52609044688,
           9736.807387862797,
           16297.041457286432,
           13890,
           9020.35175879397,
           10790.010303967027,
           12666.642969984203,
           17397.872340425532,
           7969.126029132362,
           18651.462621885155,
           24456.308692511437,
           21690,
           4343.302540415704,
           7751.627906976744,
           12380,
           3980,
           4591.679389312977,
           7760,
           16710,
           5290.304761904762,
           7553.519781718963,
           13230,
           23120,
           7030,
           58664.6273403029,
           23795.199018593994,
           6389.325609401603,
           10908.283118125299,
           13328.429250058407,
           14859.533274870895,
           13848.993890343569,
           21253.361560487152
          ]
         },
         "name": "",
         "parents": [
          "Medianquadratmeterpreis nach Zone und Quartier im 2021/Wohnzone 2/Affoltern",
          "Medianquadratmeterpreis nach Zone und Quartier im 2021/Wohnzone 2/Albisrieden",
          "Medianquadratmeterpreis nach Zone und Quartier im 2021/Wohnzone 3/Albisrieden",
          "Medianquadratmeterpreis nach Zone und Quartier im 2021/Wohnzone 4/Albisrieden",
          "Medianquadratmeterpreis nach Zone und Quartier im 2021/Zentrumszone/Albisrieden",
          "Medianquadratmeterpreis nach Zone und Quartier im 2021/Quartiererhaltungszone/Alt-Wiedikon",
          "Medianquadratmeterpreis nach Zone und Quartier im 2021/Wohnzone 2/Alt-Wiedikon",
          "Medianquadratmeterpreis nach Zone und Quartier im 2021/Wohnzone 3/Alt-Wiedikon",
          "Medianquadratmeterpreis nach Zone und Quartier im 2021/Zentrumszone/Alt-Wiedikon",
          "Medianquadratmeterpreis nach Zone und Quartier im 2021/Kernzone/Altstetten",
          "Medianquadratmeterpreis nach Zone und Quartier im 2021/Wohnzone 2/Altstetten",
          "Medianquadratmeterpreis nach Zone und Quartier im 2021/Wohnzone 3/Altstetten",
          "Medianquadratmeterpreis nach Zone und Quartier im 2021/Wohnzone 4/Altstetten",
          "Medianquadratmeterpreis nach Zone und Quartier im 2021/Zentrumszone/Altstetten",
          "Medianquadratmeterpreis nach Zone und Quartier im 2021/Kernzone/Enge",
          "Medianquadratmeterpreis nach Zone und Quartier im 2021/Wohnzone 3/Enge",
          "Medianquadratmeterpreis nach Zone und Quartier im 2021/Zentrumszone/Escher Wyss",
          "Medianquadratmeterpreis nach Zone und Quartier im 2021/Wohnzone 2/Fluntern",
          "Medianquadratmeterpreis nach Zone und Quartier im 2021/Wohnzone 3/Fluntern",
          "Medianquadratmeterpreis nach Zone und Quartier im 2021/Wohnzone 2/Friesenberg",
          "Medianquadratmeterpreis nach Zone und Quartier im 2021/Wohnzone 3/Friesenberg",
          "Medianquadratmeterpreis nach Zone und Quartier im 2021/Quartiererhaltungszone/Gewerbeschule",
          "Medianquadratmeterpreis nach Zone und Quartier im 2021/Zentrumszone/Gewerbeschule",
          "Medianquadratmeterpreis nach Zone und Quartier im 2021/Quartiererhaltungszone/Hard",
          "Medianquadratmeterpreis nach Zone und Quartier im 2021/Wohnzone 5/Hard",
          "Medianquadratmeterpreis nach Zone und Quartier im 2021/Wohnzone 2/Hirslanden",
          "Medianquadratmeterpreis nach Zone und Quartier im 2021/Wohnzone 3/Hirslanden",
          "Medianquadratmeterpreis nach Zone und Quartier im 2021/Wohnzone 4/Hirslanden",
          "Medianquadratmeterpreis nach Zone und Quartier im 2021/Wohnzone 2/Hirzenbach",
          "Medianquadratmeterpreis nach Zone und Quartier im 2021/Wohnzone 3/Hirzenbach",
          "Medianquadratmeterpreis nach Zone und Quartier im 2021/Wohnzone 4/Hirzenbach",
          "Medianquadratmeterpreis nach Zone und Quartier im 2021/Quartiererhaltungszone/Hottingen",
          "Medianquadratmeterpreis nach Zone und Quartier im 2021/Wohnzone 2/Hottingen",
          "Medianquadratmeterpreis nach Zone und Quartier im 2021/Wohnzone 3/Hottingen",
          "Medianquadratmeterpreis nach Zone und Quartier im 2021/Wohnzone 4/Hottingen",
          "Medianquadratmeterpreis nach Zone und Quartier im 2021/Wohnzone 2/Höngg",
          "Medianquadratmeterpreis nach Zone und Quartier im 2021/Quartiererhaltungszone/Langstrasse",
          "Medianquadratmeterpreis nach Zone und Quartier im 2021/Wohnzone 2/Leimbach",
          "Medianquadratmeterpreis nach Zone und Quartier im 2021/Wohnzone 3/Leimbach",
          "Medianquadratmeterpreis nach Zone und Quartier im 2021/Quartiererhaltungszone/Mühlebach",
          "Medianquadratmeterpreis nach Zone und Quartier im 2021/Wohnzone 2/Mühlebach",
          "Medianquadratmeterpreis nach Zone und Quartier im 2021/Wohnzone 2/Oberstrass",
          "Medianquadratmeterpreis nach Zone und Quartier im 2021/Wohnzone 3/Oberstrass",
          "Medianquadratmeterpreis nach Zone und Quartier im 2021/Wohnzone 4/Oberstrass",
          "Medianquadratmeterpreis nach Zone und Quartier im 2021/Quartiererhaltungszone/Oerlikon",
          "Medianquadratmeterpreis nach Zone und Quartier im 2021/Wohnzone 2/Oerlikon",
          "Medianquadratmeterpreis nach Zone und Quartier im 2021/Wohnzone 3/Oerlikon",
          "Medianquadratmeterpreis nach Zone und Quartier im 2021/Wohnzone 4/Oerlikon",
          "Medianquadratmeterpreis nach Zone und Quartier im 2021/Wohnzone 5/Oerlikon",
          "Medianquadratmeterpreis nach Zone und Quartier im 2021/Zentrumszone/Oerlikon",
          "Medianquadratmeterpreis nach Zone und Quartier im 2021/Wohnzone 2/Saatlen",
          "Medianquadratmeterpreis nach Zone und Quartier im 2021/Wohnzone 3/Saatlen",
          "Medianquadratmeterpreis nach Zone und Quartier im 2021/Wohnzone 2/Schwamendingen-Mitte",
          "Medianquadratmeterpreis nach Zone und Quartier im 2021/Wohnzone 3/Schwamendingen-Mitte",
          "Medianquadratmeterpreis nach Zone und Quartier im 2021/Quartiererhaltungszone/Seebach",
          "Medianquadratmeterpreis nach Zone und Quartier im 2021/Wohnzone 2/Seebach",
          "Medianquadratmeterpreis nach Zone und Quartier im 2021/Wohnzone 3/Seebach",
          "Medianquadratmeterpreis nach Zone und Quartier im 2021/Wohnzone 4/Seebach",
          "Medianquadratmeterpreis nach Zone und Quartier im 2021/Wohnzone 5/Seebach",
          "Medianquadratmeterpreis nach Zone und Quartier im 2021/Zentrumszone/Seebach",
          "Medianquadratmeterpreis nach Zone und Quartier im 2021/Kernzone/Seefeld",
          "Medianquadratmeterpreis nach Zone und Quartier im 2021/Quartiererhaltungszone/Seefeld",
          "Medianquadratmeterpreis nach Zone und Quartier im 2021/Quartiererhaltungszone/Sihlfeld",
          "Medianquadratmeterpreis nach Zone und Quartier im 2021/Wohnzone 3/Sihlfeld",
          "Medianquadratmeterpreis nach Zone und Quartier im 2021/Wohnzone 4/Sihlfeld",
          "Medianquadratmeterpreis nach Zone und Quartier im 2021/Wohnzone 2/Unterstrass",
          "Medianquadratmeterpreis nach Zone und Quartier im 2021/Wohnzone 3/Unterstrass",
          "Medianquadratmeterpreis nach Zone und Quartier im 2021/Wohnzone 4/Unterstrass",
          "Medianquadratmeterpreis nach Zone und Quartier im 2021/Wohnzone 5/Unterstrass",
          "Medianquadratmeterpreis nach Zone und Quartier im 2021/Wohnzone 2/Weinegg",
          "Medianquadratmeterpreis nach Zone und Quartier im 2021/Wohnzone 3/Weinegg",
          "Medianquadratmeterpreis nach Zone und Quartier im 2021/Quartiererhaltungszone/Werd",
          "Medianquadratmeterpreis nach Zone und Quartier im 2021/Wohnzone 2/Wipkingen",
          "Medianquadratmeterpreis nach Zone und Quartier im 2021/Wohnzone 3/Wipkingen",
          "Medianquadratmeterpreis nach Zone und Quartier im 2021/Wohnzone 4/Wipkingen",
          "Medianquadratmeterpreis nach Zone und Quartier im 2021/Wohnzone 2/Witikon",
          "Medianquadratmeterpreis nach Zone und Quartier im 2021/Wohnzone 2/Wollishofen",
          "Medianquadratmeterpreis nach Zone und Quartier im 2021/Wohnzone 3/Wollishofen",
          "Medianquadratmeterpreis nach Zone und Quartier im 2021/Wohnzone 2/Affoltern",
          "Medianquadratmeterpreis nach Zone und Quartier im 2021/Wohnzone 3/Affoltern",
          "Medianquadratmeterpreis nach Zone und Quartier im 2021/Wohnzone 4/Affoltern",
          "Medianquadratmeterpreis nach Zone und Quartier im 2021/Wohnzone 2/Albisrieden",
          "Medianquadratmeterpreis nach Zone und Quartier im 2021/Wohnzone 3/Albisrieden",
          "Medianquadratmeterpreis nach Zone und Quartier im 2021/Wohnzone 4/Albisrieden",
          "Medianquadratmeterpreis nach Zone und Quartier im 2021/Zentrumszone/Albisrieden",
          "Medianquadratmeterpreis nach Zone und Quartier im 2021/Quartiererhaltungszone/Alt-Wiedikon",
          "Medianquadratmeterpreis nach Zone und Quartier im 2021/Wohnzone 2/Alt-Wiedikon",
          "Medianquadratmeterpreis nach Zone und Quartier im 2021/Wohnzone 4/Alt-Wiedikon",
          "Medianquadratmeterpreis nach Zone und Quartier im 2021/Wohnzone 5/Alt-Wiedikon",
          "Medianquadratmeterpreis nach Zone und Quartier im 2021/Zentrumszone/Alt-Wiedikon",
          "Medianquadratmeterpreis nach Zone und Quartier im 2021/Kernzone/Altstetten",
          "Medianquadratmeterpreis nach Zone und Quartier im 2021/Wohnzone 2/Altstetten",
          "Medianquadratmeterpreis nach Zone und Quartier im 2021/Wohnzone 3/Altstetten",
          "Medianquadratmeterpreis nach Zone und Quartier im 2021/Wohnzone 4/Altstetten",
          "Medianquadratmeterpreis nach Zone und Quartier im 2021/Wohnzone 5/Altstetten",
          "Medianquadratmeterpreis nach Zone und Quartier im 2021/Zentrumszone/Altstetten",
          "Medianquadratmeterpreis nach Zone und Quartier im 2021/Kernzone/Enge",
          "Medianquadratmeterpreis nach Zone und Quartier im 2021/Quartiererhaltungszone/Enge",
          "Medianquadratmeterpreis nach Zone und Quartier im 2021/Wohnzone 2/Enge",
          "Medianquadratmeterpreis nach Zone und Quartier im 2021/Wohnzone 3/Enge",
          "Medianquadratmeterpreis nach Zone und Quartier im 2021/Kernzone/Escher Wyss",
          "Medianquadratmeterpreis nach Zone und Quartier im 2021/Wohnzone 2/Fluntern",
          "Medianquadratmeterpreis nach Zone und Quartier im 2021/Wohnzone 3/Fluntern",
          "Medianquadratmeterpreis nach Zone und Quartier im 2021/Wohnzone 2/Friesenberg",
          "Medianquadratmeterpreis nach Zone und Quartier im 2021/Wohnzone 3/Friesenberg",
          "Medianquadratmeterpreis nach Zone und Quartier im 2021/Quartiererhaltungszone/Gewerbeschule",
          "Medianquadratmeterpreis nach Zone und Quartier im 2021/Quartiererhaltungszone/Hard",
          "Medianquadratmeterpreis nach Zone und Quartier im 2021/Wohnzone 2/Hirslanden",
          "Medianquadratmeterpreis nach Zone und Quartier im 2021/Wohnzone 3/Hirslanden",
          "Medianquadratmeterpreis nach Zone und Quartier im 2021/Wohnzone 4/Hirslanden",
          "Medianquadratmeterpreis nach Zone und Quartier im 2021/Wohnzone 2/Hirzenbach",
          "Medianquadratmeterpreis nach Zone und Quartier im 2021/Wohnzone 3/Hirzenbach",
          "Medianquadratmeterpreis nach Zone und Quartier im 2021/Wohnzone 4/Hirzenbach",
          "Medianquadratmeterpreis nach Zone und Quartier im 2021/Quartiererhaltungszone/Hottingen",
          "Medianquadratmeterpreis nach Zone und Quartier im 2021/Wohnzone 2/Hottingen",
          "Medianquadratmeterpreis nach Zone und Quartier im 2021/Wohnzone 3/Hottingen",
          "Medianquadratmeterpreis nach Zone und Quartier im 2021/Wohnzone 4/Hottingen",
          "Medianquadratmeterpreis nach Zone und Quartier im 2021/Wohnzone 2/Höngg",
          "Medianquadratmeterpreis nach Zone und Quartier im 2021/Wohnzone 3/Höngg",
          "Medianquadratmeterpreis nach Zone und Quartier im 2021/Quartiererhaltungszone/Langstrasse",
          "Medianquadratmeterpreis nach Zone und Quartier im 2021/Wohnzone 2/Leimbach",
          "Medianquadratmeterpreis nach Zone und Quartier im 2021/Wohnzone 3/Leimbach",
          "Medianquadratmeterpreis nach Zone und Quartier im 2021/Kernzone/Mühlebach",
          "Medianquadratmeterpreis nach Zone und Quartier im 2021/Quartiererhaltungszone/Mühlebach",
          "Medianquadratmeterpreis nach Zone und Quartier im 2021/Wohnzone 3/Mühlebach",
          "Medianquadratmeterpreis nach Zone und Quartier im 2021/Wohnzone 2/Oberstrass",
          "Medianquadratmeterpreis nach Zone und Quartier im 2021/Wohnzone 3/Oberstrass",
          "Medianquadratmeterpreis nach Zone und Quartier im 2021/Wohnzone 4/Oberstrass",
          "Medianquadratmeterpreis nach Zone und Quartier im 2021/Quartiererhaltungszone/Oerlikon",
          "Medianquadratmeterpreis nach Zone und Quartier im 2021/Wohnzone 2/Oerlikon",
          "Medianquadratmeterpreis nach Zone und Quartier im 2021/Wohnzone 3/Oerlikon",
          "Medianquadratmeterpreis nach Zone und Quartier im 2021/Wohnzone 4/Oerlikon",
          "Medianquadratmeterpreis nach Zone und Quartier im 2021/Wohnzone 5/Oerlikon",
          "Medianquadratmeterpreis nach Zone und Quartier im 2021/Wohnzone 2/Saatlen",
          "Medianquadratmeterpreis nach Zone und Quartier im 2021/Wohnzone 3/Saatlen",
          "Medianquadratmeterpreis nach Zone und Quartier im 2021/Wohnzone 2/Schwamendingen-Mitte",
          "Medianquadratmeterpreis nach Zone und Quartier im 2021/Wohnzone 3/Schwamendingen-Mitte",
          "Medianquadratmeterpreis nach Zone und Quartier im 2021/Wohnzone 2/Seebach",
          "Medianquadratmeterpreis nach Zone und Quartier im 2021/Wohnzone 3/Seebach",
          "Medianquadratmeterpreis nach Zone und Quartier im 2021/Wohnzone 4/Seebach",
          "Medianquadratmeterpreis nach Zone und Quartier im 2021/Zentrumszone/Seebach",
          "Medianquadratmeterpreis nach Zone und Quartier im 2021/Kernzone/Seefeld",
          "Medianquadratmeterpreis nach Zone und Quartier im 2021/Quartiererhaltungszone/Seefeld",
          "Medianquadratmeterpreis nach Zone und Quartier im 2021/Wohnzone 3/Seefeld",
          "Medianquadratmeterpreis nach Zone und Quartier im 2021/Quartiererhaltungszone/Sihlfeld",
          "Medianquadratmeterpreis nach Zone und Quartier im 2021/Wohnzone 3/Sihlfeld",
          "Medianquadratmeterpreis nach Zone und Quartier im 2021/Wohnzone 4/Sihlfeld",
          "Medianquadratmeterpreis nach Zone und Quartier im 2021/Quartiererhaltungszone/Unterstrass",
          "Medianquadratmeterpreis nach Zone und Quartier im 2021/Wohnzone 2/Unterstrass",
          "Medianquadratmeterpreis nach Zone und Quartier im 2021/Wohnzone 3/Unterstrass",
          "Medianquadratmeterpreis nach Zone und Quartier im 2021/Wohnzone 4/Unterstrass",
          "Medianquadratmeterpreis nach Zone und Quartier im 2021/Wohnzone 5/Unterstrass",
          "Medianquadratmeterpreis nach Zone und Quartier im 2021/Wohnzone 2/Weinegg",
          "Medianquadratmeterpreis nach Zone und Quartier im 2021/Wohnzone 3/Weinegg",
          "Medianquadratmeterpreis nach Zone und Quartier im 2021/Quartiererhaltungszone/Werd",
          "Medianquadratmeterpreis nach Zone und Quartier im 2021/Quartiererhaltungszone/Wipkingen",
          "Medianquadratmeterpreis nach Zone und Quartier im 2021/Wohnzone 2/Wipkingen",
          "Medianquadratmeterpreis nach Zone und Quartier im 2021/Wohnzone 3/Wipkingen",
          "Medianquadratmeterpreis nach Zone und Quartier im 2021/Kernzone/Witikon",
          "Medianquadratmeterpreis nach Zone und Quartier im 2021/Wohnzone 2/Witikon",
          "Medianquadratmeterpreis nach Zone und Quartier im 2021/Wohnzone 4/Witikon",
          "Medianquadratmeterpreis nach Zone und Quartier im 2021/Kernzone/Wollishofen",
          "Medianquadratmeterpreis nach Zone und Quartier im 2021/Wohnzone 2/Wollishofen",
          "Medianquadratmeterpreis nach Zone und Quartier im 2021/Wohnzone 3/Wollishofen",
          "Medianquadratmeterpreis nach Zone und Quartier im 2021/Wohnzone 4/Wollishofen",
          "Medianquadratmeterpreis nach Zone und Quartier im 2021/Wohnzone 5/Wollishofen",
          "Medianquadratmeterpreis nach Zone und Quartier im 2021/Zentrumszone/Wollishofen",
          "Medianquadratmeterpreis nach Zone und Quartier im 2021/Wohnzone 2",
          "Medianquadratmeterpreis nach Zone und Quartier im 2021/Wohnzone 3",
          "Medianquadratmeterpreis nach Zone und Quartier im 2021/Wohnzone 4",
          "Medianquadratmeterpreis nach Zone und Quartier im 2021/Wohnzone 2",
          "Medianquadratmeterpreis nach Zone und Quartier im 2021/Wohnzone 3",
          "Medianquadratmeterpreis nach Zone und Quartier im 2021/Wohnzone 4",
          "Medianquadratmeterpreis nach Zone und Quartier im 2021/Zentrumszone",
          "Medianquadratmeterpreis nach Zone und Quartier im 2021/Quartiererhaltungszone",
          "Medianquadratmeterpreis nach Zone und Quartier im 2021/Wohnzone 2",
          "Medianquadratmeterpreis nach Zone und Quartier im 2021/Wohnzone 3",
          "Medianquadratmeterpreis nach Zone und Quartier im 2021/Wohnzone 4",
          "Medianquadratmeterpreis nach Zone und Quartier im 2021/Wohnzone 5",
          "Medianquadratmeterpreis nach Zone und Quartier im 2021/Zentrumszone",
          "Medianquadratmeterpreis nach Zone und Quartier im 2021/Kernzone",
          "Medianquadratmeterpreis nach Zone und Quartier im 2021/Wohnzone 2",
          "Medianquadratmeterpreis nach Zone und Quartier im 2021/Wohnzone 3",
          "Medianquadratmeterpreis nach Zone und Quartier im 2021/Wohnzone 4",
          "Medianquadratmeterpreis nach Zone und Quartier im 2021/Wohnzone 5",
          "Medianquadratmeterpreis nach Zone und Quartier im 2021/Zentrumszone",
          "Medianquadratmeterpreis nach Zone und Quartier im 2021/Kernzone",
          "Medianquadratmeterpreis nach Zone und Quartier im 2021/Quartiererhaltungszone",
          "Medianquadratmeterpreis nach Zone und Quartier im 2021/Wohnzone 2",
          "Medianquadratmeterpreis nach Zone und Quartier im 2021/Wohnzone 3",
          "Medianquadratmeterpreis nach Zone und Quartier im 2021/Kernzone",
          "Medianquadratmeterpreis nach Zone und Quartier im 2021/Zentrumszone",
          "Medianquadratmeterpreis nach Zone und Quartier im 2021/Wohnzone 2",
          "Medianquadratmeterpreis nach Zone und Quartier im 2021/Wohnzone 3",
          "Medianquadratmeterpreis nach Zone und Quartier im 2021/Wohnzone 2",
          "Medianquadratmeterpreis nach Zone und Quartier im 2021/Wohnzone 3",
          "Medianquadratmeterpreis nach Zone und Quartier im 2021/Quartiererhaltungszone",
          "Medianquadratmeterpreis nach Zone und Quartier im 2021/Zentrumszone",
          "Medianquadratmeterpreis nach Zone und Quartier im 2021/Quartiererhaltungszone",
          "Medianquadratmeterpreis nach Zone und Quartier im 2021/Wohnzone 5",
          "Medianquadratmeterpreis nach Zone und Quartier im 2021/Wohnzone 2",
          "Medianquadratmeterpreis nach Zone und Quartier im 2021/Wohnzone 3",
          "Medianquadratmeterpreis nach Zone und Quartier im 2021/Wohnzone 4",
          "Medianquadratmeterpreis nach Zone und Quartier im 2021/Wohnzone 2",
          "Medianquadratmeterpreis nach Zone und Quartier im 2021/Wohnzone 3",
          "Medianquadratmeterpreis nach Zone und Quartier im 2021/Wohnzone 4",
          "Medianquadratmeterpreis nach Zone und Quartier im 2021/Quartiererhaltungszone",
          "Medianquadratmeterpreis nach Zone und Quartier im 2021/Wohnzone 2",
          "Medianquadratmeterpreis nach Zone und Quartier im 2021/Wohnzone 3",
          "Medianquadratmeterpreis nach Zone und Quartier im 2021/Wohnzone 4",
          "Medianquadratmeterpreis nach Zone und Quartier im 2021/Wohnzone 2",
          "Medianquadratmeterpreis nach Zone und Quartier im 2021/Wohnzone 3",
          "Medianquadratmeterpreis nach Zone und Quartier im 2021/Quartiererhaltungszone",
          "Medianquadratmeterpreis nach Zone und Quartier im 2021/Wohnzone 2",
          "Medianquadratmeterpreis nach Zone und Quartier im 2021/Wohnzone 3",
          "Medianquadratmeterpreis nach Zone und Quartier im 2021/Kernzone",
          "Medianquadratmeterpreis nach Zone und Quartier im 2021/Quartiererhaltungszone",
          "Medianquadratmeterpreis nach Zone und Quartier im 2021/Wohnzone 2",
          "Medianquadratmeterpreis nach Zone und Quartier im 2021/Wohnzone 3",
          "Medianquadratmeterpreis nach Zone und Quartier im 2021/Wohnzone 2",
          "Medianquadratmeterpreis nach Zone und Quartier im 2021/Wohnzone 3",
          "Medianquadratmeterpreis nach Zone und Quartier im 2021/Wohnzone 4",
          "Medianquadratmeterpreis nach Zone und Quartier im 2021/Quartiererhaltungszone",
          "Medianquadratmeterpreis nach Zone und Quartier im 2021/Wohnzone 2",
          "Medianquadratmeterpreis nach Zone und Quartier im 2021/Wohnzone 3",
          "Medianquadratmeterpreis nach Zone und Quartier im 2021/Wohnzone 4",
          "Medianquadratmeterpreis nach Zone und Quartier im 2021/Wohnzone 5",
          "Medianquadratmeterpreis nach Zone und Quartier im 2021/Zentrumszone",
          "Medianquadratmeterpreis nach Zone und Quartier im 2021/Wohnzone 2",
          "Medianquadratmeterpreis nach Zone und Quartier im 2021/Wohnzone 3",
          "Medianquadratmeterpreis nach Zone und Quartier im 2021/Wohnzone 2",
          "Medianquadratmeterpreis nach Zone und Quartier im 2021/Wohnzone 3",
          "Medianquadratmeterpreis nach Zone und Quartier im 2021/Quartiererhaltungszone",
          "Medianquadratmeterpreis nach Zone und Quartier im 2021/Wohnzone 2",
          "Medianquadratmeterpreis nach Zone und Quartier im 2021/Wohnzone 3",
          "Medianquadratmeterpreis nach Zone und Quartier im 2021/Wohnzone 4",
          "Medianquadratmeterpreis nach Zone und Quartier im 2021/Wohnzone 5",
          "Medianquadratmeterpreis nach Zone und Quartier im 2021/Zentrumszone",
          "Medianquadratmeterpreis nach Zone und Quartier im 2021/Kernzone",
          "Medianquadratmeterpreis nach Zone und Quartier im 2021/Quartiererhaltungszone",
          "Medianquadratmeterpreis nach Zone und Quartier im 2021/Wohnzone 3",
          "Medianquadratmeterpreis nach Zone und Quartier im 2021/Quartiererhaltungszone",
          "Medianquadratmeterpreis nach Zone und Quartier im 2021/Wohnzone 3",
          "Medianquadratmeterpreis nach Zone und Quartier im 2021/Wohnzone 4",
          "Medianquadratmeterpreis nach Zone und Quartier im 2021/Quartiererhaltungszone",
          "Medianquadratmeterpreis nach Zone und Quartier im 2021/Wohnzone 2",
          "Medianquadratmeterpreis nach Zone und Quartier im 2021/Wohnzone 3",
          "Medianquadratmeterpreis nach Zone und Quartier im 2021/Wohnzone 4",
          "Medianquadratmeterpreis nach Zone und Quartier im 2021/Wohnzone 5",
          "Medianquadratmeterpreis nach Zone und Quartier im 2021/Wohnzone 2",
          "Medianquadratmeterpreis nach Zone und Quartier im 2021/Wohnzone 3",
          "Medianquadratmeterpreis nach Zone und Quartier im 2021/Quartiererhaltungszone",
          "Medianquadratmeterpreis nach Zone und Quartier im 2021/Quartiererhaltungszone",
          "Medianquadratmeterpreis nach Zone und Quartier im 2021/Wohnzone 2",
          "Medianquadratmeterpreis nach Zone und Quartier im 2021/Wohnzone 3",
          "Medianquadratmeterpreis nach Zone und Quartier im 2021/Wohnzone 4",
          "Medianquadratmeterpreis nach Zone und Quartier im 2021/Kernzone",
          "Medianquadratmeterpreis nach Zone und Quartier im 2021/Wohnzone 2",
          "Medianquadratmeterpreis nach Zone und Quartier im 2021/Wohnzone 4",
          "Medianquadratmeterpreis nach Zone und Quartier im 2021/Kernzone",
          "Medianquadratmeterpreis nach Zone und Quartier im 2021/Wohnzone 2",
          "Medianquadratmeterpreis nach Zone und Quartier im 2021/Wohnzone 3",
          "Medianquadratmeterpreis nach Zone und Quartier im 2021/Wohnzone 4",
          "Medianquadratmeterpreis nach Zone und Quartier im 2021/Wohnzone 5",
          "Medianquadratmeterpreis nach Zone und Quartier im 2021/Zentrumszone",
          "Medianquadratmeterpreis nach Zone und Quartier im 2021",
          "Medianquadratmeterpreis nach Zone und Quartier im 2021",
          "Medianquadratmeterpreis nach Zone und Quartier im 2021",
          "Medianquadratmeterpreis nach Zone und Quartier im 2021",
          "Medianquadratmeterpreis nach Zone und Quartier im 2021",
          "Medianquadratmeterpreis nach Zone und Quartier im 2021",
          "Medianquadratmeterpreis nach Zone und Quartier im 2021",
          ""
         ],
         "root": {
          "color": "grey"
         },
         "type": "treemap",
         "values": [
          3840,
          4030,
          4930,
          3820,
          8700,
          17860,
          5350,
          7400,
          11400,
          9050,
          3220,
          3740,
          6210,
          9210,
          20870,
          4430,
          10600,
          8530,
          7360,
          6020,
          3690,
          9450,
          1700,
          12370,
          11830,
          6100,
          6730,
          9440,
          2690,
          3530,
          3760,
          34380,
          8230,
          12950,
          13740,
          4210,
          25510,
          5190,
          3810,
          29610,
          11240,
          5200,
          5950,
          22340,
          26250,
          3820,
          3500,
          4610,
          5330,
          25770,
          4800,
          4330,
          3150,
          3520,
          14820,
          4190,
          4980,
          9200,
          2510,
          12320,
          51740,
          19620,
          19060,
          7900,
          13470,
          8190,
          6460,
          12950,
          20740,
          8660,
          16580,
          12010,
          4570,
          7440,
          12380,
          4410,
          4790,
          6050,
          3810,
          2380,
          3990,
          3180,
          4470,
          9200,
          10250,
          17230,
          5960,
          10180,
          9980,
          16190,
          4790,
          3420,
          5000,
          6880,
          8940,
          9930,
          102450,
          20490,
          6870,
          10560,
          9100,
          5410,
          7520,
          7950,
          6900,
          34190,
          20910,
          10690,
          12070,
          7130,
          3170,
          3470,
          4730,
          12450,
          8810,
          24240,
          25960,
          4670,
          10870,
          28700,
          2370,
          3780,
          8490,
          5700,
          11320,
          8200,
          7770,
          13050,
          13370,
          4230,
          4960,
          4770,
          8960,
          2960,
          5630,
          3160,
          3450,
          4110,
          4020,
          7280,
          2930,
          24390,
          35780,
          19880,
          18310,
          11050,
          18370,
          13890,
          9720,
          12950,
          12370,
          11220,
          7130,
          20340,
          29520,
          21690,
          4090,
          8040,
          3980,
          4760,
          7760,
          16710,
          5710,
          8610,
          13230,
          23120,
          7030,
          7650,
          2380,
          3990,
          7210,
          9400,
          13020,
          18950,
          35090,
          11310,
          7400,
          10180,
          9980,
          27590,
          13840,
          6640,
          8740,
          13090,
          8940,
          19140,
          123320,
          20490,
          6870,
          14990,
          9100,
          10600,
          13940,
          14880,
          13970,
          10590,
          43640,
          1700,
          33280,
          11830,
          16790,
          18800,
          16570,
          5860,
          7000,
          8490,
          46830,
          17040,
          37190,
          39700,
          8880,
          10870,
          54210,
          7560,
          7590,
          8490,
          35310,
          11240,
          11320,
          13400,
          13720,
          35390,
          39620,
          8050,
          8460,
          9380,
          14290,
          25770,
          7760,
          9960,
          6310,
          6970,
          14820,
          8300,
          9000,
          16480,
          2510,
          15250,
          76130,
          55400,
          19880,
          37370,
          18950,
          31840,
          13890,
          17910,
          19410,
          25320,
          31960,
          15790,
          36920,
          41530,
          21690,
          8660,
          15480,
          12380,
          3980,
          9170,
          7760,
          16710,
          10500,
          14660,
          13230,
          23120,
          7030,
          251570,
          493170,
          240810,
          334560,
          256820,
          102630,
          126030,
          1805590
         ]
        }
       ],
       "layout": {
        "coloraxis": {
         "colorbar": {
          "title": {
           "text": "Medianqmp"
          }
         },
         "colorscale": [
          [
           0,
           "#00224e"
          ],
          [
           0.1111111111111111,
           "#123570"
          ],
          [
           0.2222222222222222,
           "#3b496c"
          ],
          [
           0.3333333333333333,
           "#575d6d"
          ],
          [
           0.4444444444444444,
           "#707173"
          ],
          [
           0.5555555555555556,
           "#8a8678"
          ],
          [
           0.6666666666666666,
           "#a59c74"
          ],
          [
           0.7777777777777778,
           "#c3b369"
          ],
          [
           0.8888888888888888,
           "#e1cc55"
          ],
          [
           1,
           "#fee838"
          ]
         ]
        },
        "height": 500,
        "legend": {
         "tracegroupgap": 0
        },
        "margin": {
         "b": 25,
         "l": 25,
         "r": 250,
         "t": 50
        },
        "template": {
         "data": {
          "bar": [
           {
            "error_x": {
             "color": "#2a3f5f"
            },
            "error_y": {
             "color": "#2a3f5f"
            },
            "marker": {
             "line": {
              "color": "#E5ECF6",
              "width": 0.5
             },
             "pattern": {
              "fillmode": "overlay",
              "size": 10,
              "solidity": 0.2
             }
            },
            "type": "bar"
           }
          ],
          "barpolar": [
           {
            "marker": {
             "line": {
              "color": "#E5ECF6",
              "width": 0.5
             },
             "pattern": {
              "fillmode": "overlay",
              "size": 10,
              "solidity": 0.2
             }
            },
            "type": "barpolar"
           }
          ],
          "carpet": [
           {
            "aaxis": {
             "endlinecolor": "#2a3f5f",
             "gridcolor": "white",
             "linecolor": "white",
             "minorgridcolor": "white",
             "startlinecolor": "#2a3f5f"
            },
            "baxis": {
             "endlinecolor": "#2a3f5f",
             "gridcolor": "white",
             "linecolor": "white",
             "minorgridcolor": "white",
             "startlinecolor": "#2a3f5f"
            },
            "type": "carpet"
           }
          ],
          "choropleth": [
           {
            "colorbar": {
             "outlinewidth": 0,
             "ticks": ""
            },
            "type": "choropleth"
           }
          ],
          "contour": [
           {
            "colorbar": {
             "outlinewidth": 0,
             "ticks": ""
            },
            "colorscale": [
             [
              0,
              "#0d0887"
             ],
             [
              0.1111111111111111,
              "#46039f"
             ],
             [
              0.2222222222222222,
              "#7201a8"
             ],
             [
              0.3333333333333333,
              "#9c179e"
             ],
             [
              0.4444444444444444,
              "#bd3786"
             ],
             [
              0.5555555555555556,
              "#d8576b"
             ],
             [
              0.6666666666666666,
              "#ed7953"
             ],
             [
              0.7777777777777778,
              "#fb9f3a"
             ],
             [
              0.8888888888888888,
              "#fdca26"
             ],
             [
              1,
              "#f0f921"
             ]
            ],
            "type": "contour"
           }
          ],
          "contourcarpet": [
           {
            "colorbar": {
             "outlinewidth": 0,
             "ticks": ""
            },
            "type": "contourcarpet"
           }
          ],
          "heatmap": [
           {
            "colorbar": {
             "outlinewidth": 0,
             "ticks": ""
            },
            "colorscale": [
             [
              0,
              "#0d0887"
             ],
             [
              0.1111111111111111,
              "#46039f"
             ],
             [
              0.2222222222222222,
              "#7201a8"
             ],
             [
              0.3333333333333333,
              "#9c179e"
             ],
             [
              0.4444444444444444,
              "#bd3786"
             ],
             [
              0.5555555555555556,
              "#d8576b"
             ],
             [
              0.6666666666666666,
              "#ed7953"
             ],
             [
              0.7777777777777778,
              "#fb9f3a"
             ],
             [
              0.8888888888888888,
              "#fdca26"
             ],
             [
              1,
              "#f0f921"
             ]
            ],
            "type": "heatmap"
           }
          ],
          "heatmapgl": [
           {
            "colorbar": {
             "outlinewidth": 0,
             "ticks": ""
            },
            "colorscale": [
             [
              0,
              "#0d0887"
             ],
             [
              0.1111111111111111,
              "#46039f"
             ],
             [
              0.2222222222222222,
              "#7201a8"
             ],
             [
              0.3333333333333333,
              "#9c179e"
             ],
             [
              0.4444444444444444,
              "#bd3786"
             ],
             [
              0.5555555555555556,
              "#d8576b"
             ],
             [
              0.6666666666666666,
              "#ed7953"
             ],
             [
              0.7777777777777778,
              "#fb9f3a"
             ],
             [
              0.8888888888888888,
              "#fdca26"
             ],
             [
              1,
              "#f0f921"
             ]
            ],
            "type": "heatmapgl"
           }
          ],
          "histogram": [
           {
            "marker": {
             "pattern": {
              "fillmode": "overlay",
              "size": 10,
              "solidity": 0.2
             }
            },
            "type": "histogram"
           }
          ],
          "histogram2d": [
           {
            "colorbar": {
             "outlinewidth": 0,
             "ticks": ""
            },
            "colorscale": [
             [
              0,
              "#0d0887"
             ],
             [
              0.1111111111111111,
              "#46039f"
             ],
             [
              0.2222222222222222,
              "#7201a8"
             ],
             [
              0.3333333333333333,
              "#9c179e"
             ],
             [
              0.4444444444444444,
              "#bd3786"
             ],
             [
              0.5555555555555556,
              "#d8576b"
             ],
             [
              0.6666666666666666,
              "#ed7953"
             ],
             [
              0.7777777777777778,
              "#fb9f3a"
             ],
             [
              0.8888888888888888,
              "#fdca26"
             ],
             [
              1,
              "#f0f921"
             ]
            ],
            "type": "histogram2d"
           }
          ],
          "histogram2dcontour": [
           {
            "colorbar": {
             "outlinewidth": 0,
             "ticks": ""
            },
            "colorscale": [
             [
              0,
              "#0d0887"
             ],
             [
              0.1111111111111111,
              "#46039f"
             ],
             [
              0.2222222222222222,
              "#7201a8"
             ],
             [
              0.3333333333333333,
              "#9c179e"
             ],
             [
              0.4444444444444444,
              "#bd3786"
             ],
             [
              0.5555555555555556,
              "#d8576b"
             ],
             [
              0.6666666666666666,
              "#ed7953"
             ],
             [
              0.7777777777777778,
              "#fb9f3a"
             ],
             [
              0.8888888888888888,
              "#fdca26"
             ],
             [
              1,
              "#f0f921"
             ]
            ],
            "type": "histogram2dcontour"
           }
          ],
          "mesh3d": [
           {
            "colorbar": {
             "outlinewidth": 0,
             "ticks": ""
            },
            "type": "mesh3d"
           }
          ],
          "parcoords": [
           {
            "line": {
             "colorbar": {
              "outlinewidth": 0,
              "ticks": ""
             }
            },
            "type": "parcoords"
           }
          ],
          "pie": [
           {
            "automargin": true,
            "type": "pie"
           }
          ],
          "scatter": [
           {
            "marker": {
             "colorbar": {
              "outlinewidth": 0,
              "ticks": ""
             }
            },
            "type": "scatter"
           }
          ],
          "scatter3d": [
           {
            "line": {
             "colorbar": {
              "outlinewidth": 0,
              "ticks": ""
             }
            },
            "marker": {
             "colorbar": {
              "outlinewidth": 0,
              "ticks": ""
             }
            },
            "type": "scatter3d"
           }
          ],
          "scattercarpet": [
           {
            "marker": {
             "colorbar": {
              "outlinewidth": 0,
              "ticks": ""
             }
            },
            "type": "scattercarpet"
           }
          ],
          "scattergeo": [
           {
            "marker": {
             "colorbar": {
              "outlinewidth": 0,
              "ticks": ""
             }
            },
            "type": "scattergeo"
           }
          ],
          "scattergl": [
           {
            "marker": {
             "colorbar": {
              "outlinewidth": 0,
              "ticks": ""
             }
            },
            "type": "scattergl"
           }
          ],
          "scattermapbox": [
           {
            "marker": {
             "colorbar": {
              "outlinewidth": 0,
              "ticks": ""
             }
            },
            "type": "scattermapbox"
           }
          ],
          "scatterpolar": [
           {
            "marker": {
             "colorbar": {
              "outlinewidth": 0,
              "ticks": ""
             }
            },
            "type": "scatterpolar"
           }
          ],
          "scatterpolargl": [
           {
            "marker": {
             "colorbar": {
              "outlinewidth": 0,
              "ticks": ""
             }
            },
            "type": "scatterpolargl"
           }
          ],
          "scatterternary": [
           {
            "marker": {
             "colorbar": {
              "outlinewidth": 0,
              "ticks": ""
             }
            },
            "type": "scatterternary"
           }
          ],
          "surface": [
           {
            "colorbar": {
             "outlinewidth": 0,
             "ticks": ""
            },
            "colorscale": [
             [
              0,
              "#0d0887"
             ],
             [
              0.1111111111111111,
              "#46039f"
             ],
             [
              0.2222222222222222,
              "#7201a8"
             ],
             [
              0.3333333333333333,
              "#9c179e"
             ],
             [
              0.4444444444444444,
              "#bd3786"
             ],
             [
              0.5555555555555556,
              "#d8576b"
             ],
             [
              0.6666666666666666,
              "#ed7953"
             ],
             [
              0.7777777777777778,
              "#fb9f3a"
             ],
             [
              0.8888888888888888,
              "#fdca26"
             ],
             [
              1,
              "#f0f921"
             ]
            ],
            "type": "surface"
           }
          ],
          "table": [
           {
            "cells": {
             "fill": {
              "color": "#EBF0F8"
             },
             "line": {
              "color": "white"
             }
            },
            "header": {
             "fill": {
              "color": "#C8D4E3"
             },
             "line": {
              "color": "white"
             }
            },
            "type": "table"
           }
          ]
         },
         "layout": {
          "annotationdefaults": {
           "arrowcolor": "#2a3f5f",
           "arrowhead": 0,
           "arrowwidth": 1
          },
          "autotypenumbers": "strict",
          "coloraxis": {
           "colorbar": {
            "outlinewidth": 0,
            "ticks": ""
           }
          },
          "colorscale": {
           "diverging": [
            [
             0,
             "#8e0152"
            ],
            [
             0.1,
             "#c51b7d"
            ],
            [
             0.2,
             "#de77ae"
            ],
            [
             0.3,
             "#f1b6da"
            ],
            [
             0.4,
             "#fde0ef"
            ],
            [
             0.5,
             "#f7f7f7"
            ],
            [
             0.6,
             "#e6f5d0"
            ],
            [
             0.7,
             "#b8e186"
            ],
            [
             0.8,
             "#7fbc41"
            ],
            [
             0.9,
             "#4d9221"
            ],
            [
             1,
             "#276419"
            ]
           ],
           "sequential": [
            [
             0,
             "#0d0887"
            ],
            [
             0.1111111111111111,
             "#46039f"
            ],
            [
             0.2222222222222222,
             "#7201a8"
            ],
            [
             0.3333333333333333,
             "#9c179e"
            ],
            [
             0.4444444444444444,
             "#bd3786"
            ],
            [
             0.5555555555555556,
             "#d8576b"
            ],
            [
             0.6666666666666666,
             "#ed7953"
            ],
            [
             0.7777777777777778,
             "#fb9f3a"
            ],
            [
             0.8888888888888888,
             "#fdca26"
            ],
            [
             1,
             "#f0f921"
            ]
           ],
           "sequentialminus": [
            [
             0,
             "#0d0887"
            ],
            [
             0.1111111111111111,
             "#46039f"
            ],
            [
             0.2222222222222222,
             "#7201a8"
            ],
            [
             0.3333333333333333,
             "#9c179e"
            ],
            [
             0.4444444444444444,
             "#bd3786"
            ],
            [
             0.5555555555555556,
             "#d8576b"
            ],
            [
             0.6666666666666666,
             "#ed7953"
            ],
            [
             0.7777777777777778,
             "#fb9f3a"
            ],
            [
             0.8888888888888888,
             "#fdca26"
            ],
            [
             1,
             "#f0f921"
            ]
           ]
          },
          "colorway": [
           "#636efa",
           "#EF553B",
           "#00cc96",
           "#ab63fa",
           "#FFA15A",
           "#19d3f3",
           "#FF6692",
           "#B6E880",
           "#FF97FF",
           "#FECB52"
          ],
          "font": {
           "color": "#2a3f5f"
          },
          "geo": {
           "bgcolor": "white",
           "lakecolor": "white",
           "landcolor": "#E5ECF6",
           "showlakes": true,
           "showland": true,
           "subunitcolor": "white"
          },
          "hoverlabel": {
           "align": "left"
          },
          "hovermode": "closest",
          "mapbox": {
           "style": "light"
          },
          "paper_bgcolor": "white",
          "plot_bgcolor": "#E5ECF6",
          "polar": {
           "angularaxis": {
            "gridcolor": "white",
            "linecolor": "white",
            "ticks": ""
           },
           "bgcolor": "#E5ECF6",
           "radialaxis": {
            "gridcolor": "white",
            "linecolor": "white",
            "ticks": ""
           }
          },
          "scene": {
           "xaxis": {
            "backgroundcolor": "#E5ECF6",
            "gridcolor": "white",
            "gridwidth": 2,
            "linecolor": "white",
            "showbackground": true,
            "ticks": "",
            "zerolinecolor": "white"
           },
           "yaxis": {
            "backgroundcolor": "#E5ECF6",
            "gridcolor": "white",
            "gridwidth": 2,
            "linecolor": "white",
            "showbackground": true,
            "ticks": "",
            "zerolinecolor": "white"
           },
           "zaxis": {
            "backgroundcolor": "#E5ECF6",
            "gridcolor": "white",
            "gridwidth": 2,
            "linecolor": "white",
            "showbackground": true,
            "ticks": "",
            "zerolinecolor": "white"
           }
          },
          "shapedefaults": {
           "line": {
            "color": "#2a3f5f"
           }
          },
          "ternary": {
           "aaxis": {
            "gridcolor": "white",
            "linecolor": "white",
            "ticks": ""
           },
           "baxis": {
            "gridcolor": "white",
            "linecolor": "white",
            "ticks": ""
           },
           "bgcolor": "#E5ECF6",
           "caxis": {
            "gridcolor": "white",
            "linecolor": "white",
            "ticks": ""
           }
          },
          "title": {
           "x": 0.05
          },
          "xaxis": {
           "automargin": true,
           "gridcolor": "white",
           "linecolor": "white",
           "ticks": "",
           "title": {
            "standoff": 15
           },
           "zerolinecolor": "white",
           "zerolinewidth": 2
          },
          "yaxis": {
           "automargin": true,
           "gridcolor": "white",
           "linecolor": "white",
           "ticks": "",
           "title": {
            "standoff": 15
           },
           "zerolinecolor": "white",
           "zerolinewidth": 2
          }
         }
        },
        "width": 1100
       }
      },
      "image/png": "[encoded data removed]",
      "text/html": [
       "<div>                            <div id=\"8dd2b543-80ec-4232-aa8d-d4f8c7125b87\" class=\"plotly-graph-div\" style=\"height:500px; width:1100px;\"></div>            <script type=\"text/javascript\">                require([\"plotly\"], function(Plotly) {                    window.PLOTLYENV=window.PLOTLYENV || {};                                    if (document.getElementById(\"8dd2b543-80ec-4232-aa8d-d4f8c7125b87\")) {                    Plotly.newPlot(                        \"8dd2b543-80ec-4232-aa8d-d4f8c7125b87\",                        [{\"branchvalues\":\"total\",\"customdata\":[[3840.0],[4030.0],[4930.0],[3820.0],[8700.0],[17860.0],[5350.0],[7400.0],[11400.0],[9050.0],[3220.0],[3740.0],[6210.0],[9210.0],[20870.0],[4430.0],[10600.0],[8530.0],[7360.0],[6020.0],[3690.0],[9450.0],[1700.0],[12370.0],[11830.0],[6100.0],[6730.0],[9440.0],[2690.0],[3530.0],[3760.0],[34380.0],[8230.0],[12950.0],[13740.0],[4210.0],[25510.0],[5190.0],[3810.0],[29610.0],[11240.0],[5200.0],[5950.0],[22340.0],[26250.0],[3820.0],[3500.0],[4610.0],[5330.0],[25770.0],[4800.0],[4330.0],[3150.0],[3520.0],[14820.0],[4190.0],[4980.0],[9200.0],[2510.0],[12320.0],[51740.0],[19620.0],[19060.0],[7900.0],[13470.0],[8190.0],[6460.0],[12950.0],[20740.0],[8660.0],[16580.0],[12010.0],[4570.0],[7440.0],[12380.0],[4410.0],[4790.0],[6050.0],[3810.0],[2380.0],[3990.0],[3180.0],[4470.0],[9200.0],[10250.0],[17230.0],[5960.0],[10180.0],[9980.0],[16190.0],[4790.0],[3420.0],[5000.0],[6880.0],[8940.0],[9930.0],[102450.0],[20490.0],[6870.0],[10560.0],[9100.0],[5410.0],[7520.0],[7950.0],[6900.0],[34190.0],[20910.0],[10690.0],[12070.0],[7130.0],[3170.0],[3470.0],[4730.0],[12450.0],[8810.0],[24240.0],[25960.0],[4670.0],[10870.0],[28700.0],[2370.0],[3780.0],[8490.0],[5700.0],[11320.0],[8200.0],[7770.0],[13050.0],[13370.0],[4230.0],[4960.0],[4770.0],[8960.0],[2960.0],[5630.0],[3160.0],[3450.0],[4110.0],[4020.0],[7280.0],[2930.0],[24390.0],[35780.0],[19880.0],[18310.0],[11050.0],[18370.0],[13890.0],[9720.0],[12950.0],[12370.0],[11220.0],[7130.0],[20340.0],[29520.0],[21690.0],[4090.0],[8040.0],[3980.0],[4760.0],[7760.0],[16710.0],[5710.0],[8610.0],[13230.0],[23120.0],[7030.0],[3825.0588235294117],[2380.0],[3990.0],[3655.104022191401],[4711.255319148936],[7621.536098310292],[9538.390501319262],[17550.65545739527],[5671.450044208665],[7400.0],[10180.0],[9980.0],[14210.804639362088],[7575.621387283237],[3323.012048192771],[4460.823798627002],[6562.146676852559],[8940.0],[9583.542319749216],[88643.84852416477],[20490.0],[6870.0],[8748.398932621747],[9100.0],[10600.0],[7319.153515064562],[7440.860215053764],[7118.317823908375],[5781.501416430595],[28832.69019248396],[1700.0],[17735.72716346154],[11830.0],[9022.400238237045],[10158.393617021276],[8446.016898008449],[2949.6587030716723],[3500.2571428571428],[4300.412249705536],[28549.795003203075],[8529.87089201878],[20308.687819306266],[21730.71032745592],[4451.914414414415],[10870.0],[27198.858144253827],[4305.952380952381],[3795.0592885375495],[8490.0],[25750.271877655054],[11240.0],[11320.0],[7035.820895522388],[6980.714285714285],[18914.328906470753],[21903.568904593638],[4035.44099378882],[4355.981087470449],[4691.36460554371],[7606.053184044787],[25770.0],[4098.144329896907],[5064.839357429719],[3155.0079239302695],[3485.351506456241],[14820.0],[4150.385542168675],[4551.2],[8351.844660194174],[2510.0],[10515.888524590164],[42977.797189018784],[30056.90974729242],[19880.0],[18692.52609044688],[9736.807387862797],[16297.041457286432],[13890.0],[9020.35175879397],[10790.010303967027],[12666.642969984203],[17397.872340425532],[7969.126029132362],[18651.462621885155],[24456.308692511437],[21690.0],[4343.302540415704],[7751.627906976744],[12380.0],[3980.0],[4591.679389312977],[7760.0],[16710.0],[5290.304761904762],[7553.519781718963],[13230.0],[23120.0],[7030.0],[58664.6273403029],[23795.199018593994],[6389.325609401603],[10908.283118125299],[13328.429250058407],[14859.533274870895],[13848.993890343569],[21253.361560487152]],\"domain\":{\"x\":[0.0,1.0],\"y\":[0.0,1.0]},\"hovertemplate\":\"labels=%{label}<br>Medianqmp_sum=%{value}<br>parent=%{parent}<br>id=%{id}<br>Medianqmp=%{color}<extra></extra>\",\"ids\":[\"Medianquadratmeterpreis nach Zone und Quartier im 2021/Wohnzone 2/Affoltern/2017-01-01\",\"Medianquadratmeterpreis nach Zone und Quartier im 2021/Wohnzone 2/Albisrieden/2017-01-01\",\"Medianquadratmeterpreis nach Zone und Quartier im 2021/Wohnzone 3/Albisrieden/2017-01-01\",\"Medianquadratmeterpreis nach Zone und Quartier im 2021/Wohnzone 4/Albisrieden/2017-01-01\",\"Medianquadratmeterpreis nach Zone und Quartier im 2021/Zentrumszone/Albisrieden/2017-01-01\",\"Medianquadratmeterpreis nach Zone und Quartier im 2021/Quartiererhaltungszone/Alt-Wiedikon/2017-01-01\",\"Medianquadratmeterpreis nach Zone und Quartier im 2021/Wohnzone 2/Alt-Wiedikon/2017-01-01\",\"Medianquadratmeterpreis nach Zone und Quartier im 2021/Wohnzone 3/Alt-Wiedikon/2017-01-01\",\"Medianquadratmeterpreis nach Zone und Quartier im 2021/Zentrumszone/Alt-Wiedikon/2017-01-01\",\"Medianquadratmeterpreis nach Zone und Quartier im 2021/Kernzone/Altstetten/2017-01-01\",\"Medianquadratmeterpreis nach Zone und Quartier im 2021/Wohnzone 2/Altstetten/2017-01-01\",\"Medianquadratmeterpreis nach Zone und Quartier im 2021/Wohnzone 3/Altstetten/2017-01-01\",\"Medianquadratmeterpreis nach Zone und Quartier im 2021/Wohnzone 4/Altstetten/2017-01-01\",\"Medianquadratmeterpreis nach Zone und Quartier im 2021/Zentrumszone/Altstetten/2017-01-01\",\"Medianquadratmeterpreis nach Zone und Quartier im 2021/Kernzone/Enge/2017-01-01\",\"Medianquadratmeterpreis nach Zone und Quartier im 2021/Wohnzone 3/Enge/2017-01-01\",\"Medianquadratmeterpreis nach Zone und Quartier im 2021/Zentrumszone/Escher Wyss/2017-01-01\",\"Medianquadratmeterpreis nach Zone und Quartier im 2021/Wohnzone 2/Fluntern/2017-01-01\",\"Medianquadratmeterpreis nach Zone und Quartier im 2021/Wohnzone 3/Fluntern/2017-01-01\",\"Medianquadratmeterpreis nach Zone und Quartier im 2021/Wohnzone 2/Friesenberg/2017-01-01\",\"Medianquadratmeterpreis nach Zone und Quartier im 2021/Wohnzone 3/Friesenberg/2017-01-01\",\"Medianquadratmeterpreis nach Zone und Quartier im 2021/Quartiererhaltungszone/Gewerbeschule/2017-01-01\",\"Medianquadratmeterpreis nach Zone und Quartier im 2021/Zentrumszone/Gewerbeschule/2017-01-01\",\"Medianquadratmeterpreis nach Zone und Quartier im 2021/Quartiererhaltungszone/Hard/2017-01-01\",\"Medianquadratmeterpreis nach Zone und Quartier im 2021/Wohnzone 5/Hard/2017-01-01\",\"Medianquadratmeterpreis nach Zone und Quartier im 2021/Wohnzone 2/Hirslanden/2017-01-01\",\"Medianquadratmeterpreis nach Zone und Quartier im 2021/Wohnzone 3/Hirslanden/2017-01-01\",\"Medianquadratmeterpreis nach Zone und Quartier im 2021/Wohnzone 4/Hirslanden/2017-01-01\",\"Medianquadratmeterpreis nach Zone und Quartier im 2021/Wohnzone 2/Hirzenbach/2017-01-01\",\"Medianquadratmeterpreis nach Zone und Quartier im 2021/Wohnzone 3/Hirzenbach/2017-01-01\",\"Medianquadratmeterpreis nach Zone und Quartier im 2021/Wohnzone 4/Hirzenbach/2017-01-01\",\"Medianquadratmeterpreis nach Zone und Quartier im 2021/Quartiererhaltungszone/Hottingen/2017-01-01\",\"Medianquadratmeterpreis nach Zone und Quartier im 2021/Wohnzone 2/Hottingen/2017-01-01\",\"Medianquadratmeterpreis nach Zone und Quartier im 2021/Wohnzone 3/Hottingen/2017-01-01\",\"Medianquadratmeterpreis nach Zone und Quartier im 2021/Wohnzone 4/Hottingen/2017-01-01\",\"Medianquadratmeterpreis nach Zone und Quartier im 2021/Wohnzone 2/H\\u00f6ngg/2017-01-01\",\"Medianquadratmeterpreis nach Zone und Quartier im 2021/Quartiererhaltungszone/Langstrasse/2017-01-01\",\"Medianquadratmeterpreis nach Zone und Quartier im 2021/Wohnzone 2/Leimbach/2017-01-01\",\"Medianquadratmeterpreis nach Zone und Quartier im 2021/Wohnzone 3/Leimbach/2017-01-01\",\"Medianquadratmeterpreis nach Zone und Quartier im 2021/Quartiererhaltungszone/M\\u00fchlebach/2017-01-01\",\"Medianquadratmeterpreis nach Zone und Quartier im 2021/Wohnzone 2/M\\u00fchlebach/2017-01-01\",\"Medianquadratmeterpreis nach Zone und Quartier im 2021/Wohnzone 2/Oberstrass/2017-01-01\",\"Medianquadratmeterpreis nach Zone und Quartier im 2021/Wohnzone 3/Oberstrass/2017-01-01\",\"Medianquadratmeterpreis nach Zone und Quartier im 2021/Wohnzone 4/Oberstrass/2017-01-01\",\"Medianquadratmeterpreis nach Zone und Quartier im 2021/Quartiererhaltungszone/Oerlikon/2017-01-01\",\"Medianquadratmeterpreis nach Zone und Quartier im 2021/Wohnzone 2/Oerlikon/2017-01-01\",\"Medianquadratmeterpreis nach Zone und Quartier im 2021/Wohnzone 3/Oerlikon/2017-01-01\",\"Medianquadratmeterpreis nach Zone und Quartier im 2021/Wohnzone 4/Oerlikon/2017-01-01\",\"Medianquadratmeterpreis nach Zone und Quartier im 2021/Wohnzone 5/Oerlikon/2017-01-01\",\"Medianquadratmeterpreis nach Zone und Quartier im 2021/Zentrumszone/Oerlikon/2017-01-01\",\"Medianquadratmeterpreis nach Zone und Quartier im 2021/Wohnzone 2/Saatlen/2017-01-01\",\"Medianquadratmeterpreis nach Zone und Quartier im 2021/Wohnzone 3/Saatlen/2017-01-01\",\"Medianquadratmeterpreis nach Zone und Quartier im 2021/Wohnzone 2/Schwamendingen-Mitte/2017-01-01\",\"Medianquadratmeterpreis nach Zone und Quartier im 2021/Wohnzone 3/Schwamendingen-Mitte/2017-01-01\",\"Medianquadratmeterpreis nach Zone und Quartier im 2021/Quartiererhaltungszone/Seebach/2017-01-01\",\"Medianquadratmeterpreis nach Zone und Quartier im 2021/Wohnzone 2/Seebach/2017-01-01\",\"Medianquadratmeterpreis nach Zone und Quartier im 2021/Wohnzone 3/Seebach/2017-01-01\",\"Medianquadratmeterpreis nach Zone und Quartier im 2021/Wohnzone 4/Seebach/2017-01-01\",\"Medianquadratmeterpreis nach Zone und Quartier im 2021/Wohnzone 5/Seebach/2017-01-01\",\"Medianquadratmeterpreis nach Zone und Quartier im 2021/Zentrumszone/Seebach/2017-01-01\",\"Medianquadratmeterpreis nach Zone und Quartier im 2021/Kernzone/Seefeld/2017-01-01\",\"Medianquadratmeterpreis nach Zone und Quartier im 2021/Quartiererhaltungszone/Seefeld/2017-01-01\",\"Medianquadratmeterpreis nach Zone und Quartier im 2021/Quartiererhaltungszone/Sihlfeld/2017-01-01\",\"Medianquadratmeterpreis nach Zone und Quartier im 2021/Wohnzone 3/Sihlfeld/2017-01-01\",\"Medianquadratmeterpreis nach Zone und Quartier im 2021/Wohnzone 4/Sihlfeld/2017-01-01\",\"Medianquadratmeterpreis nach Zone und Quartier im 2021/Wohnzone 2/Unterstrass/2017-01-01\",\"Medianquadratmeterpreis nach Zone und Quartier im 2021/Wohnzone 3/Unterstrass/2017-01-01\",\"Medianquadratmeterpreis nach Zone und Quartier im 2021/Wohnzone 4/Unterstrass/2017-01-01\",\"Medianquadratmeterpreis nach Zone und Quartier im 2021/Wohnzone 5/Unterstrass/2017-01-01\",\"Medianquadratmeterpreis nach Zone und Quartier im 2021/Wohnzone 2/Weinegg/2017-01-01\",\"Medianquadratmeterpreis nach Zone und Quartier im 2021/Wohnzone 3/Weinegg/2017-01-01\",\"Medianquadratmeterpreis nach Zone und Quartier im 2021/Quartiererhaltungszone/Werd/2017-01-01\",\"Medianquadratmeterpreis nach Zone und Quartier im 2021/Wohnzone 2/Wipkingen/2017-01-01\",\"Medianquadratmeterpreis nach Zone und Quartier im 2021/Wohnzone 3/Wipkingen/2017-01-01\",\"Medianquadratmeterpreis nach Zone und Quartier im 2021/Wohnzone 4/Wipkingen/2017-01-01\",\"Medianquadratmeterpreis nach Zone und Quartier im 2021/Wohnzone 2/Witikon/2017-01-01\",\"Medianquadratmeterpreis nach Zone und Quartier im 2021/Wohnzone 2/Wollishofen/2017-01-01\",\"Medianquadratmeterpreis nach Zone und Quartier im 2021/Wohnzone 3/Wollishofen/2017-01-01\",\"Medianquadratmeterpreis nach Zone und Quartier im 2021/Wohnzone 2/Affoltern/2018-01-01\",\"Medianquadratmeterpreis nach Zone und Quartier im 2021/Wohnzone 3/Affoltern/2018-01-01\",\"Medianquadratmeterpreis nach Zone und Quartier im 2021/Wohnzone 4/Affoltern/2018-01-01\",\"Medianquadratmeterpreis nach Zone und Quartier im 2021/Wohnzone 2/Albisrieden/2018-01-01\",\"Medianquadratmeterpreis nach Zone und Quartier im 2021/Wohnzone 3/Albisrieden/2018-01-01\",\"Medianquadratmeterpreis nach Zone und Quartier im 2021/Wohnzone 4/Albisrieden/2018-01-01\",\"Medianquadratmeterpreis nach Zone und Quartier im 2021/Zentrumszone/Albisrieden/2018-01-01\",\"Medianquadratmeterpreis nach Zone und Quartier im 2021/Quartiererhaltungszone/Alt-Wiedikon/2018-01-01\",\"Medianquadratmeterpreis nach Zone und Quartier im 2021/Wohnzone 2/Alt-Wiedikon/2018-01-01\",\"Medianquadratmeterpreis nach Zone und Quartier im 2021/Wohnzone 4/Alt-Wiedikon/2018-01-01\",\"Medianquadratmeterpreis nach Zone und Quartier im 2021/Wohnzone 5/Alt-Wiedikon/2018-01-01\",\"Medianquadratmeterpreis nach Zone und Quartier im 2021/Zentrumszone/Alt-Wiedikon/2018-01-01\",\"Medianquadratmeterpreis nach Zone und Quartier im 2021/Kernzone/Altstetten/2018-01-01\",\"Medianquadratmeterpreis nach Zone und Quartier im 2021/Wohnzone 2/Altstetten/2018-01-01\",\"Medianquadratmeterpreis nach Zone und Quartier im 2021/Wohnzone 3/Altstetten/2018-01-01\",\"Medianquadratmeterpreis nach Zone und Quartier im 2021/Wohnzone 4/Altstetten/2018-01-01\",\"Medianquadratmeterpreis nach Zone und Quartier im 2021/Wohnzone 5/Altstetten/2018-01-01\",\"Medianquadratmeterpreis nach Zone und Quartier im 2021/Zentrumszone/Altstetten/2018-01-01\",\"Medianquadratmeterpreis nach Zone und Quartier im 2021/Kernzone/Enge/2018-01-01\",\"Medianquadratmeterpreis nach Zone und Quartier im 2021/Quartiererhaltungszone/Enge/2018-01-01\",\"Medianquadratmeterpreis nach Zone und Quartier im 2021/Wohnzone 2/Enge/2018-01-01\",\"Medianquadratmeterpreis nach Zone und Quartier im 2021/Wohnzone 3/Enge/2018-01-01\",\"Medianquadratmeterpreis nach Zone und Quartier im 2021/Kernzone/Escher Wyss/2018-01-01\",\"Medianquadratmeterpreis nach Zone und Quartier im 2021/Wohnzone 2/Fluntern/2018-01-01\",\"Medianquadratmeterpreis nach Zone und Quartier im 2021/Wohnzone 3/Fluntern/2018-01-01\",\"Medianquadratmeterpreis nach Zone und Quartier im 2021/Wohnzone 2/Friesenberg/2018-01-01\",\"Medianquadratmeterpreis nach Zone und Quartier im 2021/Wohnzone 3/Friesenberg/2018-01-01\",\"Medianquadratmeterpreis nach Zone und Quartier im 2021/Quartiererhaltungszone/Gewerbeschule/2018-01-01\",\"Medianquadratmeterpreis nach Zone und Quartier im 2021/Quartiererhaltungszone/Hard/2018-01-01\",\"Medianquadratmeterpreis nach Zone und Quartier im 2021/Wohnzone 2/Hirslanden/2018-01-01\",\"Medianquadratmeterpreis nach Zone und Quartier im 2021/Wohnzone 3/Hirslanden/2018-01-01\",\"Medianquadratmeterpreis nach Zone und Quartier im 2021/Wohnzone 4/Hirslanden/2018-01-01\",\"Medianquadratmeterpreis nach Zone und Quartier im 2021/Wohnzone 2/Hirzenbach/2018-01-01\",\"Medianquadratmeterpreis nach Zone und Quartier im 2021/Wohnzone 3/Hirzenbach/2018-01-01\",\"Medianquadratmeterpreis nach Zone und Quartier im 2021/Wohnzone 4/Hirzenbach/2018-01-01\",\"Medianquadratmeterpreis nach Zone und Quartier im 2021/Quartiererhaltungszone/Hottingen/2018-01-01\",\"Medianquadratmeterpreis nach Zone und Quartier im 2021/Wohnzone 2/Hottingen/2018-01-01\",\"Medianquadratmeterpreis nach Zone und Quartier im 2021/Wohnzone 3/Hottingen/2018-01-01\",\"Medianquadratmeterpreis nach Zone und Quartier im 2021/Wohnzone 4/Hottingen/2018-01-01\",\"Medianquadratmeterpreis nach Zone und Quartier im 2021/Wohnzone 2/H\\u00f6ngg/2018-01-01\",\"Medianquadratmeterpreis nach Zone und Quartier im 2021/Wohnzone 3/H\\u00f6ngg/2018-01-01\",\"Medianquadratmeterpreis nach Zone und Quartier im 2021/Quartiererhaltungszone/Langstrasse/2018-01-01\",\"Medianquadratmeterpreis nach Zone und Quartier im 2021/Wohnzone 2/Leimbach/2018-01-01\",\"Medianquadratmeterpreis nach Zone und Quartier im 2021/Wohnzone 3/Leimbach/2018-01-01\",\"Medianquadratmeterpreis nach Zone und Quartier im 2021/Kernzone/M\\u00fchlebach/2018-01-01\",\"Medianquadratmeterpreis nach Zone und Quartier im 2021/Quartiererhaltungszone/M\\u00fchlebach/2018-01-01\",\"Medianquadratmeterpreis nach Zone und Quartier im 2021/Wohnzone 3/M\\u00fchlebach/2018-01-01\",\"Medianquadratmeterpreis nach Zone und Quartier im 2021/Wohnzone 2/Oberstrass/2018-01-01\",\"Medianquadratmeterpreis nach Zone und Quartier im 2021/Wohnzone 3/Oberstrass/2018-01-01\",\"Medianquadratmeterpreis nach Zone und Quartier im 2021/Wohnzone 4/Oberstrass/2018-01-01\",\"Medianquadratmeterpreis nach Zone und Quartier im 2021/Quartiererhaltungszone/Oerlikon/2018-01-01\",\"Medianquadratmeterpreis nach Zone und Quartier im 2021/Wohnzone 2/Oerlikon/2018-01-01\",\"Medianquadratmeterpreis nach Zone und Quartier im 2021/Wohnzone 3/Oerlikon/2018-01-01\",\"Medianquadratmeterpreis nach Zone und Quartier im 2021/Wohnzone 4/Oerlikon/2018-01-01\",\"Medianquadratmeterpreis nach Zone und Quartier im 2021/Wohnzone 5/Oerlikon/2018-01-01\",\"Medianquadratmeterpreis nach Zone und Quartier im 2021/Wohnzone 2/Saatlen/2018-01-01\",\"Medianquadratmeterpreis nach Zone und Quartier im 2021/Wohnzone 3/Saatlen/2018-01-01\",\"Medianquadratmeterpreis nach Zone und Quartier im 2021/Wohnzone 2/Schwamendingen-Mitte/2018-01-01\",\"Medianquadratmeterpreis nach Zone und Quartier im 2021/Wohnzone 3/Schwamendingen-Mitte/2018-01-01\",\"Medianquadratmeterpreis nach Zone und Quartier im 2021/Wohnzone 2/Seebach/2018-01-01\",\"Medianquadratmeterpreis nach Zone und Quartier im 2021/Wohnzone 3/Seebach/2018-01-01\",\"Medianquadratmeterpreis nach Zone und Quartier im 2021/Wohnzone 4/Seebach/2018-01-01\",\"Medianquadratmeterpreis nach Zone und Quartier im 2021/Zentrumszone/Seebach/2018-01-01\",\"Medianquadratmeterpreis nach Zone und Quartier im 2021/Kernzone/Seefeld/2018-01-01\",\"Medianquadratmeterpreis nach Zone und Quartier im 2021/Quartiererhaltungszone/Seefeld/2018-01-01\",\"Medianquadratmeterpreis nach Zone und Quartier im 2021/Wohnzone 3/Seefeld/2018-01-01\",\"Medianquadratmeterpreis nach Zone und Quartier im 2021/Quartiererhaltungszone/Sihlfeld/2018-01-01\",\"Medianquadratmeterpreis nach Zone und Quartier im 2021/Wohnzone 3/Sihlfeld/2018-01-01\",\"Medianquadratmeterpreis nach Zone und Quartier im 2021/Wohnzone 4/Sihlfeld/2018-01-01\",\"Medianquadratmeterpreis nach Zone und Quartier im 2021/Quartiererhaltungszone/Unterstrass/2018-01-01\",\"Medianquadratmeterpreis nach Zone und Quartier im 2021/Wohnzone 2/Unterstrass/2018-01-01\",\"Medianquadratmeterpreis nach Zone und Quartier im 2021/Wohnzone 3/Unterstrass/2018-01-01\",\"Medianquadratmeterpreis nach Zone und Quartier im 2021/Wohnzone 4/Unterstrass/2018-01-01\",\"Medianquadratmeterpreis nach Zone und Quartier im 2021/Wohnzone 5/Unterstrass/2018-01-01\",\"Medianquadratmeterpreis nach Zone und Quartier im 2021/Wohnzone 2/Weinegg/2018-01-01\",\"Medianquadratmeterpreis nach Zone und Quartier im 2021/Wohnzone 3/Weinegg/2018-01-01\",\"Medianquadratmeterpreis nach Zone und Quartier im 2021/Quartiererhaltungszone/Werd/2018-01-01\",\"Medianquadratmeterpreis nach Zone und Quartier im 2021/Quartiererhaltungszone/Wipkingen/2018-01-01\",\"Medianquadratmeterpreis nach Zone und Quartier im 2021/Wohnzone 2/Wipkingen/2018-01-01\",\"Medianquadratmeterpreis nach Zone und Quartier im 2021/Wohnzone 3/Wipkingen/2018-01-01\",\"Medianquadratmeterpreis nach Zone und Quartier im 2021/Kernzone/Witikon/2018-01-01\",\"Medianquadratmeterpreis nach Zone und Quartier im 2021/Wohnzone 2/Witikon/2018-01-01\",\"Medianquadratmeterpreis nach Zone und Quartier im 2021/Wohnzone 4/Witikon/2018-01-01\",\"Medianquadratmeterpreis nach Zone und Quartier im 2021/Kernzone/Wollishofen/2018-01-01\",\"Medianquadratmeterpreis nach Zone und Quartier im 2021/Wohnzone 2/Wollishofen/2018-01-01\",\"Medianquadratmeterpreis nach Zone und Quartier im 2021/Wohnzone 3/Wollishofen/2018-01-01\",\"Medianquadratmeterpreis nach Zone und Quartier im 2021/Wohnzone 4/Wollishofen/2018-01-01\",\"Medianquadratmeterpreis nach Zone und Quartier im 2021/Wohnzone 5/Wollishofen/2018-01-01\",\"Medianquadratmeterpreis nach Zone und Quartier im 2021/Zentrumszone/Wollishofen/2018-01-01\",\"Medianquadratmeterpreis nach Zone und Quartier im 2021/Wohnzone 2/Affoltern\",\"Medianquadratmeterpreis nach Zone und Quartier im 2021/Wohnzone 3/Affoltern\",\"Medianquadratmeterpreis nach Zone und Quartier im 2021/Wohnzone 4/Affoltern\",\"Medianquadratmeterpreis nach Zone und Quartier im 2021/Wohnzone 2/Albisrieden\",\"Medianquadratmeterpreis nach Zone und Quartier im 2021/Wohnzone 3/Albisrieden\",\"Medianquadratmeterpreis nach Zone und Quartier im 2021/Wohnzone 4/Albisrieden\",\"Medianquadratmeterpreis nach Zone und Quartier im 2021/Zentrumszone/Albisrieden\",\"Medianquadratmeterpreis nach Zone und Quartier im 2021/Quartiererhaltungszone/Alt-Wiedikon\",\"Medianquadratmeterpreis nach Zone und Quartier im 2021/Wohnzone 2/Alt-Wiedikon\",\"Medianquadratmeterpreis nach Zone und Quartier im 2021/Wohnzone 3/Alt-Wiedikon\",\"Medianquadratmeterpreis nach Zone und Quartier im 2021/Wohnzone 4/Alt-Wiedikon\",\"Medianquadratmeterpreis nach Zone und Quartier im 2021/Wohnzone 5/Alt-Wiedikon\",\"Medianquadratmeterpreis nach Zone und Quartier im 2021/Zentrumszone/Alt-Wiedikon\",\"Medianquadratmeterpreis nach Zone und Quartier im 2021/Kernzone/Altstetten\",\"Medianquadratmeterpreis nach Zone und Quartier im 2021/Wohnzone 2/Altstetten\",\"Medianquadratmeterpreis nach Zone und Quartier im 2021/Wohnzone 3/Altstetten\",\"Medianquadratmeterpreis nach Zone und Quartier im 2021/Wohnzone 4/Altstetten\",\"Medianquadratmeterpreis nach Zone und Quartier im 2021/Wohnzone 5/Altstetten\",\"Medianquadratmeterpreis nach Zone und Quartier im 2021/Zentrumszone/Altstetten\",\"Medianquadratmeterpreis nach Zone und Quartier im 2021/Kernzone/Enge\",\"Medianquadratmeterpreis nach Zone und Quartier im 2021/Quartiererhaltungszone/Enge\",\"Medianquadratmeterpreis nach Zone und Quartier im 2021/Wohnzone 2/Enge\",\"Medianquadratmeterpreis nach Zone und Quartier im 2021/Wohnzone 3/Enge\",\"Medianquadratmeterpreis nach Zone und Quartier im 2021/Kernzone/Escher Wyss\",\"Medianquadratmeterpreis nach Zone und Quartier im 2021/Zentrumszone/Escher Wyss\",\"Medianquadratmeterpreis nach Zone und Quartier im 2021/Wohnzone 2/Fluntern\",\"Medianquadratmeterpreis nach Zone und Quartier im 2021/Wohnzone 3/Fluntern\",\"Medianquadratmeterpreis nach Zone und Quartier im 2021/Wohnzone 2/Friesenberg\",\"Medianquadratmeterpreis nach Zone und Quartier im 2021/Wohnzone 3/Friesenberg\",\"Medianquadratmeterpreis nach Zone und Quartier im 2021/Quartiererhaltungszone/Gewerbeschule\",\"Medianquadratmeterpreis nach Zone und Quartier im 2021/Zentrumszone/Gewerbeschule\",\"Medianquadratmeterpreis nach Zone und Quartier im 2021/Quartiererhaltungszone/Hard\",\"Medianquadratmeterpreis nach Zone und Quartier im 2021/Wohnzone 5/Hard\",\"Medianquadratmeterpreis nach Zone und Quartier im 2021/Wohnzone 2/Hirslanden\",\"Medianquadratmeterpreis nach Zone und Quartier im 2021/Wohnzone 3/Hirslanden\",\"Medianquadratmeterpreis nach Zone und Quartier im 2021/Wohnzone 4/Hirslanden\",\"Medianquadratmeterpreis nach Zone und Quartier im 2021/Wohnzone 2/Hirzenbach\",\"Medianquadratmeterpreis nach Zone und Quartier im 2021/Wohnzone 3/Hirzenbach\",\"Medianquadratmeterpreis nach Zone und Quartier im 2021/Wohnzone 4/Hirzenbach\",\"Medianquadratmeterpreis nach Zone und Quartier im 2021/Quartiererhaltungszone/Hottingen\",\"Medianquadratmeterpreis nach Zone und Quartier im 2021/Wohnzone 2/Hottingen\",\"Medianquadratmeterpreis nach Zone und Quartier im 2021/Wohnzone 3/Hottingen\",\"Medianquadratmeterpreis nach Zone und Quartier im 2021/Wohnzone 4/Hottingen\",\"Medianquadratmeterpreis nach Zone und Quartier im 2021/Wohnzone 2/H\\u00f6ngg\",\"Medianquadratmeterpreis nach Zone und Quartier im 2021/Wohnzone 3/H\\u00f6ngg\",\"Medianquadratmeterpreis nach Zone und Quartier im 2021/Quartiererhaltungszone/Langstrasse\",\"Medianquadratmeterpreis nach Zone und Quartier im 2021/Wohnzone 2/Leimbach\",\"Medianquadratmeterpreis nach Zone und Quartier im 2021/Wohnzone 3/Leimbach\",\"Medianquadratmeterpreis nach Zone und Quartier im 2021/Kernzone/M\\u00fchlebach\",\"Medianquadratmeterpreis nach Zone und Quartier im 2021/Quartiererhaltungszone/M\\u00fchlebach\",\"Medianquadratmeterpreis nach Zone und Quartier im 2021/Wohnzone 2/M\\u00fchlebach\",\"Medianquadratmeterpreis nach Zone und Quartier im 2021/Wohnzone 3/M\\u00fchlebach\",\"Medianquadratmeterpreis nach Zone und Quartier im 2021/Wohnzone 2/Oberstrass\",\"Medianquadratmeterpreis nach Zone und Quartier im 2021/Wohnzone 3/Oberstrass\",\"Medianquadratmeterpreis nach Zone und Quartier im 2021/Wohnzone 4/Oberstrass\",\"Medianquadratmeterpreis nach Zone und Quartier im 2021/Quartiererhaltungszone/Oerlikon\",\"Medianquadratmeterpreis nach Zone und Quartier im 2021/Wohnzone 2/Oerlikon\",\"Medianquadratmeterpreis nach Zone und Quartier im 2021/Wohnzone 3/Oerlikon\",\"Medianquadratmeterpreis nach Zone und Quartier im 2021/Wohnzone 4/Oerlikon\",\"Medianquadratmeterpreis nach Zone und Quartier im 2021/Wohnzone 5/Oerlikon\",\"Medianquadratmeterpreis nach Zone und Quartier im 2021/Zentrumszone/Oerlikon\",\"Medianquadratmeterpreis nach Zone und Quartier im 2021/Wohnzone 2/Saatlen\",\"Medianquadratmeterpreis nach Zone und Quartier im 2021/Wohnzone 3/Saatlen\",\"Medianquadratmeterpreis nach Zone und Quartier im 2021/Wohnzone 2/Schwamendingen-Mitte\",\"Medianquadratmeterpreis nach Zone und Quartier im 2021/Wohnzone 3/Schwamendingen-Mitte\",\"Medianquadratmeterpreis nach Zone und Quartier im 2021/Quartiererhaltungszone/Seebach\",\"Medianquadratmeterpreis nach Zone und Quartier im 2021/Wohnzone 2/Seebach\",\"Medianquadratmeterpreis nach Zone und Quartier im 2021/Wohnzone 3/Seebach\",\"Medianquadratmeterpreis nach Zone und Quartier im 2021/Wohnzone 4/Seebach\",\"Medianquadratmeterpreis nach Zone und Quartier im 2021/Wohnzone 5/Seebach\",\"Medianquadratmeterpreis nach Zone und Quartier im 2021/Zentrumszone/Seebach\",\"Medianquadratmeterpreis nach Zone und Quartier im 2021/Kernzone/Seefeld\",\"Medianquadratmeterpreis nach Zone und Quartier im 2021/Quartiererhaltungszone/Seefeld\",\"Medianquadratmeterpreis nach Zone und Quartier im 2021/Wohnzone 3/Seefeld\",\"Medianquadratmeterpreis nach Zone und Quartier im 2021/Quartiererhaltungszone/Sihlfeld\",\"Medianquadratmeterpreis nach Zone und Quartier im 2021/Wohnzone 3/Sihlfeld\",\"Medianquadratmeterpreis nach Zone und Quartier im 2021/Wohnzone 4/Sihlfeld\",\"Medianquadratmeterpreis nach Zone und Quartier im 2021/Quartiererhaltungszone/Unterstrass\",\"Medianquadratmeterpreis nach Zone und Quartier im 2021/Wohnzone 2/Unterstrass\",\"Medianquadratmeterpreis nach Zone und Quartier im 2021/Wohnzone 3/Unterstrass\",\"Medianquadratmeterpreis nach Zone und Quartier im 2021/Wohnzone 4/Unterstrass\",\"Medianquadratmeterpreis nach Zone und Quartier im 2021/Wohnzone 5/Unterstrass\",\"Medianquadratmeterpreis nach Zone und Quartier im 2021/Wohnzone 2/Weinegg\",\"Medianquadratmeterpreis nach Zone und Quartier im 2021/Wohnzone 3/Weinegg\",\"Medianquadratmeterpreis nach Zone und Quartier im 2021/Quartiererhaltungszone/Werd\",\"Medianquadratmeterpreis nach Zone und Quartier im 2021/Quartiererhaltungszone/Wipkingen\",\"Medianquadratmeterpreis nach Zone und Quartier im 2021/Wohnzone 2/Wipkingen\",\"Medianquadratmeterpreis nach Zone und Quartier im 2021/Wohnzone 3/Wipkingen\",\"Medianquadratmeterpreis nach Zone und Quartier im 2021/Wohnzone 4/Wipkingen\",\"Medianquadratmeterpreis nach Zone und Quartier im 2021/Kernzone/Witikon\",\"Medianquadratmeterpreis nach Zone und Quartier im 2021/Wohnzone 2/Witikon\",\"Medianquadratmeterpreis nach Zone und Quartier im 2021/Wohnzone 4/Witikon\",\"Medianquadratmeterpreis nach Zone und Quartier im 2021/Kernzone/Wollishofen\",\"Medianquadratmeterpreis nach Zone und Quartier im 2021/Wohnzone 2/Wollishofen\",\"Medianquadratmeterpreis nach Zone und Quartier im 2021/Wohnzone 3/Wollishofen\",\"Medianquadratmeterpreis nach Zone und Quartier im 2021/Wohnzone 4/Wollishofen\",\"Medianquadratmeterpreis nach Zone und Quartier im 2021/Wohnzone 5/Wollishofen\",\"Medianquadratmeterpreis nach Zone und Quartier im 2021/Zentrumszone/Wollishofen\",\"Medianquadratmeterpreis nach Zone und Quartier im 2021/Kernzone\",\"Medianquadratmeterpreis nach Zone und Quartier im 2021/Quartiererhaltungszone\",\"Medianquadratmeterpreis nach Zone und Quartier im 2021/Wohnzone 2\",\"Medianquadratmeterpreis nach Zone und Quartier im 2021/Wohnzone 3\",\"Medianquadratmeterpreis nach Zone und Quartier im 2021/Wohnzone 4\",\"Medianquadratmeterpreis nach Zone und Quartier im 2021/Wohnzone 5\",\"Medianquadratmeterpreis nach Zone und Quartier im 2021/Zentrumszone\",\"Medianquadratmeterpreis nach Zone und Quartier im 2021\"],\"labels\":[\"2017-01-01\",\"2017-01-01\",\"2017-01-01\",\"2017-01-01\",\"2017-01-01\",\"2017-01-01\",\"2017-01-01\",\"2017-01-01\",\"2017-01-01\",\"2017-01-01\",\"2017-01-01\",\"2017-01-01\",\"2017-01-01\",\"2017-01-01\",\"2017-01-01\",\"2017-01-01\",\"2017-01-01\",\"2017-01-01\",\"2017-01-01\",\"2017-01-01\",\"2017-01-01\",\"2017-01-01\",\"2017-01-01\",\"2017-01-01\",\"2017-01-01\",\"2017-01-01\",\"2017-01-01\",\"2017-01-01\",\"2017-01-01\",\"2017-01-01\",\"2017-01-01\",\"2017-01-01\",\"2017-01-01\",\"2017-01-01\",\"2017-01-01\",\"2017-01-01\",\"2017-01-01\",\"2017-01-01\",\"2017-01-01\",\"2017-01-01\",\"2017-01-01\",\"2017-01-01\",\"2017-01-01\",\"2017-01-01\",\"2017-01-01\",\"2017-01-01\",\"2017-01-01\",\"2017-01-01\",\"2017-01-01\",\"2017-01-01\",\"2017-01-01\",\"2017-01-01\",\"2017-01-01\",\"2017-01-01\",\"2017-01-01\",\"2017-01-01\",\"2017-01-01\",\"2017-01-01\",\"2017-01-01\",\"2017-01-01\",\"2017-01-01\",\"2017-01-01\",\"2017-01-01\",\"2017-01-01\",\"2017-01-01\",\"2017-01-01\",\"2017-01-01\",\"2017-01-01\",\"2017-01-01\",\"2017-01-01\",\"2017-01-01\",\"2017-01-01\",\"2017-01-01\",\"2017-01-01\",\"2017-01-01\",\"2017-01-01\",\"2017-01-01\",\"2017-01-01\",\"2018-01-01\",\"2018-01-01\",\"2018-01-01\",\"2018-01-01\",\"2018-01-01\",\"2018-01-01\",\"2018-01-01\",\"2018-01-01\",\"2018-01-01\",\"2018-01-01\",\"2018-01-01\",\"2018-01-01\",\"2018-01-01\",\"2018-01-01\",\"2018-01-01\",\"2018-01-01\",\"2018-01-01\",\"2018-01-01\",\"2018-01-01\",\"2018-01-01\",\"2018-01-01\",\"2018-01-01\",\"2018-01-01\",\"2018-01-01\",\"2018-01-01\",\"2018-01-01\",\"2018-01-01\",\"2018-01-01\",\"2018-01-01\",\"2018-01-01\",\"2018-01-01\",\"2018-01-01\",\"2018-01-01\",\"2018-01-01\",\"2018-01-01\",\"2018-01-01\",\"2018-01-01\",\"2018-01-01\",\"2018-01-01\",\"2018-01-01\",\"2018-01-01\",\"2018-01-01\",\"2018-01-01\",\"2018-01-01\",\"2018-01-01\",\"2018-01-01\",\"2018-01-01\",\"2018-01-01\",\"2018-01-01\",\"2018-01-01\",\"2018-01-01\",\"2018-01-01\",\"2018-01-01\",\"2018-01-01\",\"2018-01-01\",\"2018-01-01\",\"2018-01-01\",\"2018-01-01\",\"2018-01-01\",\"2018-01-01\",\"2018-01-01\",\"2018-01-01\",\"2018-01-01\",\"2018-01-01\",\"2018-01-01\",\"2018-01-01\",\"2018-01-01\",\"2018-01-01\",\"2018-01-01\",\"2018-01-01\",\"2018-01-01\",\"2018-01-01\",\"2018-01-01\",\"2018-01-01\",\"2018-01-01\",\"2018-01-01\",\"2018-01-01\",\"2018-01-01\",\"2018-01-01\",\"2018-01-01\",\"2018-01-01\",\"2018-01-01\",\"2018-01-01\",\"2018-01-01\",\"2018-01-01\",\"2018-01-01\",\"2018-01-01\",\"2018-01-01\",\"2018-01-01\",\"Affoltern\",\"Affoltern\",\"Affoltern\",\"Albisrieden\",\"Albisrieden\",\"Albisrieden\",\"Albisrieden\",\"Alt-Wiedikon\",\"Alt-Wiedikon\",\"Alt-Wiedikon\",\"Alt-Wiedikon\",\"Alt-Wiedikon\",\"Alt-Wiedikon\",\"Altstetten\",\"Altstetten\",\"Altstetten\",\"Altstetten\",\"Altstetten\",\"Altstetten\",\"Enge\",\"Enge\",\"Enge\",\"Enge\",\"Escher Wyss\",\"Escher Wyss\",\"Fluntern\",\"Fluntern\",\"Friesenberg\",\"Friesenberg\",\"Gewerbeschule\",\"Gewerbeschule\",\"Hard\",\"Hard\",\"Hirslanden\",\"Hirslanden\",\"Hirslanden\",\"Hirzenbach\",\"Hirzenbach\",\"Hirzenbach\",\"Hottingen\",\"Hottingen\",\"Hottingen\",\"Hottingen\",\"H\\u00f6ngg\",\"H\\u00f6ngg\",\"Langstrasse\",\"Leimbach\",\"Leimbach\",\"M\\u00fchlebach\",\"M\\u00fchlebach\",\"M\\u00fchlebach\",\"M\\u00fchlebach\",\"Oberstrass\",\"Oberstrass\",\"Oberstrass\",\"Oerlikon\",\"Oerlikon\",\"Oerlikon\",\"Oerlikon\",\"Oerlikon\",\"Oerlikon\",\"Saatlen\",\"Saatlen\",\"Schwamendingen-Mitte\",\"Schwamendingen-Mitte\",\"Seebach\",\"Seebach\",\"Seebach\",\"Seebach\",\"Seebach\",\"Seebach\",\"Seefeld\",\"Seefeld\",\"Seefeld\",\"Sihlfeld\",\"Sihlfeld\",\"Sihlfeld\",\"Unterstrass\",\"Unterstrass\",\"Unterstrass\",\"Unterstrass\",\"Unterstrass\",\"Weinegg\",\"Weinegg\",\"Werd\",\"Wipkingen\",\"Wipkingen\",\"Wipkingen\",\"Wipkingen\",\"Witikon\",\"Witikon\",\"Witikon\",\"Wollishofen\",\"Wollishofen\",\"Wollishofen\",\"Wollishofen\",\"Wollishofen\",\"Wollishofen\",\"Kernzone\",\"Quartiererhaltungszone\",\"Wohnzone 2\",\"Wohnzone 3\",\"Wohnzone 4\",\"Wohnzone 5\",\"Zentrumszone\",\"Medianquadratmeterpreis nach Zone und Quartier im 2021\"],\"marker\":{\"coloraxis\":\"coloraxis\",\"colors\":[3840.0,4030.0,4930.0,3820.0,8700.0,17860.0,5350.0,7400.0,11400.0,9050.0,3220.0,3740.0,6210.0,9210.0,20870.0,4430.0,10600.0,8530.0,7360.0,6020.0,3690.0,9450.0,1700.0,12370.0,11830.0,6100.0,6730.0,9440.0,2690.0,3530.0,3760.0,34380.0,8230.0,12950.0,13740.0,4210.0,25510.0,5190.0,3810.0,29610.0,11240.0,5200.0,5950.0,22340.0,26250.0,3820.0,3500.0,4610.0,5330.0,25770.0,4800.0,4330.0,3150.0,3520.0,14820.0,4190.0,4980.0,9200.0,2510.0,12320.0,51740.0,19620.0,19060.0,7900.0,13470.0,8190.0,6460.0,12950.0,20740.0,8660.0,16580.0,12010.0,4570.0,7440.0,12380.0,4410.0,4790.0,6050.0,3810.0,2380.0,3990.0,3180.0,4470.0,9200.0,10250.0,17230.0,5960.0,10180.0,9980.0,16190.0,4790.0,3420.0,5000.0,6880.0,8940.0,9930.0,102450.0,20490.0,6870.0,10560.0,9100.0,5410.0,7520.0,7950.0,6900.0,34190.0,20910.0,10690.0,12070.0,7130.0,3170.0,3470.0,4730.0,12450.0,8810.0,24240.0,25960.0,4670.0,10870.0,28700.0,2370.0,3780.0,8490.0,5700.0,11320.0,8200.0,7770.0,13050.0,13370.0,4230.0,4960.0,4770.0,8960.0,2960.0,5630.0,3160.0,3450.0,4110.0,4020.0,7280.0,2930.0,24390.0,35780.0,19880.0,18310.0,11050.0,18370.0,13890.0,9720.0,12950.0,12370.0,11220.0,7130.0,20340.0,29520.0,21690.0,4090.0,8040.0,3980.0,4760.0,7760.0,16710.0,5710.0,8610.0,13230.0,23120.0,7030.0,3825.0588235294117,2380.0,3990.0,3655.104022191401,4711.255319148936,7621.536098310292,9538.390501319262,17550.65545739527,5671.450044208665,7400.0,10180.0,9980.0,14210.804639362088,7575.621387283237,3323.012048192771,4460.823798627002,6562.146676852559,8940.0,9583.542319749216,88643.84852416477,20490.0,6870.0,8748.398932621747,9100.0,10600.0,7319.153515064562,7440.860215053764,7118.317823908375,5781.501416430595,28832.69019248396,1700.0,17735.72716346154,11830.0,9022.400238237045,10158.393617021276,8446.016898008449,2949.6587030716723,3500.2571428571428,4300.412249705536,28549.795003203075,8529.87089201878,20308.687819306266,21730.71032745592,4451.914414414415,10870.0,27198.858144253827,4305.952380952381,3795.0592885375495,8490.0,25750.271877655054,11240.0,11320.0,7035.820895522388,6980.714285714285,18914.328906470753,21903.568904593638,4035.44099378882,4355.981087470449,4691.36460554371,7606.053184044787,25770.0,4098.144329896907,5064.839357429719,3155.0079239302695,3485.351506456241,14820.0,4150.385542168675,4551.2,8351.844660194174,2510.0,10515.888524590164,42977.797189018784,30056.90974729242,19880.0,18692.52609044688,9736.807387862797,16297.041457286432,13890.0,9020.35175879397,10790.010303967027,12666.642969984203,17397.872340425532,7969.126029132362,18651.462621885155,24456.308692511437,21690.0,4343.302540415704,7751.627906976744,12380.0,3980.0,4591.679389312977,7760.0,16710.0,5290.304761904762,7553.519781718963,13230.0,23120.0,7030.0,58664.6273403029,23795.199018593994,6389.325609401603,10908.283118125299,13328.429250058407,14859.533274870895,13848.993890343569,21253.361560487152]},\"name\":\"\",\"parents\":[\"Medianquadratmeterpreis nach Zone und Quartier im 2021/Wohnzone 2/Affoltern\",\"Medianquadratmeterpreis nach Zone und Quartier im 2021/Wohnzone 2/Albisrieden\",\"Medianquadratmeterpreis nach Zone und Quartier im 2021/Wohnzone 3/Albisrieden\",\"Medianquadratmeterpreis nach Zone und Quartier im 2021/Wohnzone 4/Albisrieden\",\"Medianquadratmeterpreis nach Zone und Quartier im 2021/Zentrumszone/Albisrieden\",\"Medianquadratmeterpreis nach Zone und Quartier im 2021/Quartiererhaltungszone/Alt-Wiedikon\",\"Medianquadratmeterpreis nach Zone und Quartier im 2021/Wohnzone 2/Alt-Wiedikon\",\"Medianquadratmeterpreis nach Zone und Quartier im 2021/Wohnzone 3/Alt-Wiedikon\",\"Medianquadratmeterpreis nach Zone und Quartier im 2021/Zentrumszone/Alt-Wiedikon\",\"Medianquadratmeterpreis nach Zone und Quartier im 2021/Kernzone/Altstetten\",\"Medianquadratmeterpreis nach Zone und Quartier im 2021/Wohnzone 2/Altstetten\",\"Medianquadratmeterpreis nach Zone und Quartier im 2021/Wohnzone 3/Altstetten\",\"Medianquadratmeterpreis nach Zone und Quartier im 2021/Wohnzone 4/Altstetten\",\"Medianquadratmeterpreis nach Zone und Quartier im 2021/Zentrumszone/Altstetten\",\"Medianquadratmeterpreis nach Zone und Quartier im 2021/Kernzone/Enge\",\"Medianquadratmeterpreis nach Zone und Quartier im 2021/Wohnzone 3/Enge\",\"Medianquadratmeterpreis nach Zone und Quartier im 2021/Zentrumszone/Escher Wyss\",\"Medianquadratmeterpreis nach Zone und Quartier im 2021/Wohnzone 2/Fluntern\",\"Medianquadratmeterpreis nach Zone und Quartier im 2021/Wohnzone 3/Fluntern\",\"Medianquadratmeterpreis nach Zone und Quartier im 2021/Wohnzone 2/Friesenberg\",\"Medianquadratmeterpreis nach Zone und Quartier im 2021/Wohnzone 3/Friesenberg\",\"Medianquadratmeterpreis nach Zone und Quartier im 2021/Quartiererhaltungszone/Gewerbeschule\",\"Medianquadratmeterpreis nach Zone und Quartier im 2021/Zentrumszone/Gewerbeschule\",\"Medianquadratmeterpreis nach Zone und Quartier im 2021/Quartiererhaltungszone/Hard\",\"Medianquadratmeterpreis nach Zone und Quartier im 2021/Wohnzone 5/Hard\",\"Medianquadratmeterpreis nach Zone und Quartier im 2021/Wohnzone 2/Hirslanden\",\"Medianquadratmeterpreis nach Zone und Quartier im 2021/Wohnzone 3/Hirslanden\",\"Medianquadratmeterpreis nach Zone und Quartier im 2021/Wohnzone 4/Hirslanden\",\"Medianquadratmeterpreis nach Zone und Quartier im 2021/Wohnzone 2/Hirzenbach\",\"Medianquadratmeterpreis nach Zone und Quartier im 2021/Wohnzone 3/Hirzenbach\",\"Medianquadratmeterpreis nach Zone und Quartier im 2021/Wohnzone 4/Hirzenbach\",\"Medianquadratmeterpreis nach Zone und Quartier im 2021/Quartiererhaltungszone/Hottingen\",\"Medianquadratmeterpreis nach Zone und Quartier im 2021/Wohnzone 2/Hottingen\",\"Medianquadratmeterpreis nach Zone und Quartier im 2021/Wohnzone 3/Hottingen\",\"Medianquadratmeterpreis nach Zone und Quartier im 2021/Wohnzone 4/Hottingen\",\"Medianquadratmeterpreis nach Zone und Quartier im 2021/Wohnzone 2/H\\u00f6ngg\",\"Medianquadratmeterpreis nach Zone und Quartier im 2021/Quartiererhaltungszone/Langstrasse\",\"Medianquadratmeterpreis nach Zone und Quartier im 2021/Wohnzone 2/Leimbach\",\"Medianquadratmeterpreis nach Zone und Quartier im 2021/Wohnzone 3/Leimbach\",\"Medianquadratmeterpreis nach Zone und Quartier im 2021/Quartiererhaltungszone/M\\u00fchlebach\",\"Medianquadratmeterpreis nach Zone und Quartier im 2021/Wohnzone 2/M\\u00fchlebach\",\"Medianquadratmeterpreis nach Zone und Quartier im 2021/Wohnzone 2/Oberstrass\",\"Medianquadratmeterpreis nach Zone und Quartier im 2021/Wohnzone 3/Oberstrass\",\"Medianquadratmeterpreis nach Zone und Quartier im 2021/Wohnzone 4/Oberstrass\",\"Medianquadratmeterpreis nach Zone und Quartier im 2021/Quartiererhaltungszone/Oerlikon\",\"Medianquadratmeterpreis nach Zone und Quartier im 2021/Wohnzone 2/Oerlikon\",\"Medianquadratmeterpreis nach Zone und Quartier im 2021/Wohnzone 3/Oerlikon\",\"Medianquadratmeterpreis nach Zone und Quartier im 2021/Wohnzone 4/Oerlikon\",\"Medianquadratmeterpreis nach Zone und Quartier im 2021/Wohnzone 5/Oerlikon\",\"Medianquadratmeterpreis nach Zone und Quartier im 2021/Zentrumszone/Oerlikon\",\"Medianquadratmeterpreis nach Zone und Quartier im 2021/Wohnzone 2/Saatlen\",\"Medianquadratmeterpreis nach Zone und Quartier im 2021/Wohnzone 3/Saatlen\",\"Medianquadratmeterpreis nach Zone und Quartier im 2021/Wohnzone 2/Schwamendingen-Mitte\",\"Medianquadratmeterpreis nach Zone und Quartier im 2021/Wohnzone 3/Schwamendingen-Mitte\",\"Medianquadratmeterpreis nach Zone und Quartier im 2021/Quartiererhaltungszone/Seebach\",\"Medianquadratmeterpreis nach Zone und Quartier im 2021/Wohnzone 2/Seebach\",\"Medianquadratmeterpreis nach Zone und Quartier im 2021/Wohnzone 3/Seebach\",\"Medianquadratmeterpreis nach Zone und Quartier im 2021/Wohnzone 4/Seebach\",\"Medianquadratmeterpreis nach Zone und Quartier im 2021/Wohnzone 5/Seebach\",\"Medianquadratmeterpreis nach Zone und Quartier im 2021/Zentrumszone/Seebach\",\"Medianquadratmeterpreis nach Zone und Quartier im 2021/Kernzone/Seefeld\",\"Medianquadratmeterpreis nach Zone und Quartier im 2021/Quartiererhaltungszone/Seefeld\",\"Medianquadratmeterpreis nach Zone und Quartier im 2021/Quartiererhaltungszone/Sihlfeld\",\"Medianquadratmeterpreis nach Zone und Quartier im 2021/Wohnzone 3/Sihlfeld\",\"Medianquadratmeterpreis nach Zone und Quartier im 2021/Wohnzone 4/Sihlfeld\",\"Medianquadratmeterpreis nach Zone und Quartier im 2021/Wohnzone 2/Unterstrass\",\"Medianquadratmeterpreis nach Zone und Quartier im 2021/Wohnzone 3/Unterstrass\",\"Medianquadratmeterpreis nach Zone und Quartier im 2021/Wohnzone 4/Unterstrass\",\"Medianquadratmeterpreis nach Zone und Quartier im 2021/Wohnzone 5/Unterstrass\",\"Medianquadratmeterpreis nach Zone und Quartier im 2021/Wohnzone 2/Weinegg\",\"Medianquadratmeterpreis nach Zone und Quartier im 2021/Wohnzone 3/Weinegg\",\"Medianquadratmeterpreis nach Zone und Quartier im 2021/Quartiererhaltungszone/Werd\",\"Medianquadratmeterpreis nach Zone und Quartier im 2021/Wohnzone 2/Wipkingen\",\"Medianquadratmeterpreis nach Zone und Quartier im 2021/Wohnzone 3/Wipkingen\",\"Medianquadratmeterpreis nach Zone und Quartier im 2021/Wohnzone 4/Wipkingen\",\"Medianquadratmeterpreis nach Zone und Quartier im 2021/Wohnzone 2/Witikon\",\"Medianquadratmeterpreis nach Zone und Quartier im 2021/Wohnzone 2/Wollishofen\",\"Medianquadratmeterpreis nach Zone und Quartier im 2021/Wohnzone 3/Wollishofen\",\"Medianquadratmeterpreis nach Zone und Quartier im 2021/Wohnzone 2/Affoltern\",\"Medianquadratmeterpreis nach Zone und Quartier im 2021/Wohnzone 3/Affoltern\",\"Medianquadratmeterpreis nach Zone und Quartier im 2021/Wohnzone 4/Affoltern\",\"Medianquadratmeterpreis nach Zone und Quartier im 2021/Wohnzone 2/Albisrieden\",\"Medianquadratmeterpreis nach Zone und Quartier im 2021/Wohnzone 3/Albisrieden\",\"Medianquadratmeterpreis nach Zone und Quartier im 2021/Wohnzone 4/Albisrieden\",\"Medianquadratmeterpreis nach Zone und Quartier im 2021/Zentrumszone/Albisrieden\",\"Medianquadratmeterpreis nach Zone und Quartier im 2021/Quartiererhaltungszone/Alt-Wiedikon\",\"Medianquadratmeterpreis nach Zone und Quartier im 2021/Wohnzone 2/Alt-Wiedikon\",\"Medianquadratmeterpreis nach Zone und Quartier im 2021/Wohnzone 4/Alt-Wiedikon\",\"Medianquadratmeterpreis nach Zone und Quartier im 2021/Wohnzone 5/Alt-Wiedikon\",\"Medianquadratmeterpreis nach Zone und Quartier im 2021/Zentrumszone/Alt-Wiedikon\",\"Medianquadratmeterpreis nach Zone und Quartier im 2021/Kernzone/Altstetten\",\"Medianquadratmeterpreis nach Zone und Quartier im 2021/Wohnzone 2/Altstetten\",\"Medianquadratmeterpreis nach Zone und Quartier im 2021/Wohnzone 3/Altstetten\",\"Medianquadratmeterpreis nach Zone und Quartier im 2021/Wohnzone 4/Altstetten\",\"Medianquadratmeterpreis nach Zone und Quartier im 2021/Wohnzone 5/Altstetten\",\"Medianquadratmeterpreis nach Zone und Quartier im 2021/Zentrumszone/Altstetten\",\"Medianquadratmeterpreis nach Zone und Quartier im 2021/Kernzone/Enge\",\"Medianquadratmeterpreis nach Zone und Quartier im 2021/Quartiererhaltungszone/Enge\",\"Medianquadratmeterpreis nach Zone und Quartier im 2021/Wohnzone 2/Enge\",\"Medianquadratmeterpreis nach Zone und Quartier im 2021/Wohnzone 3/Enge\",\"Medianquadratmeterpreis nach Zone und Quartier im 2021/Kernzone/Escher Wyss\",\"Medianquadratmeterpreis nach Zone und Quartier im 2021/Wohnzone 2/Fluntern\",\"Medianquadratmeterpreis nach Zone und Quartier im 2021/Wohnzone 3/Fluntern\",\"Medianquadratmeterpreis nach Zone und Quartier im 2021/Wohnzone 2/Friesenberg\",\"Medianquadratmeterpreis nach Zone und Quartier im 2021/Wohnzone 3/Friesenberg\",\"Medianquadratmeterpreis nach Zone und Quartier im 2021/Quartiererhaltungszone/Gewerbeschule\",\"Medianquadratmeterpreis nach Zone und Quartier im 2021/Quartiererhaltungszone/Hard\",\"Medianquadratmeterpreis nach Zone und Quartier im 2021/Wohnzone 2/Hirslanden\",\"Medianquadratmeterpreis nach Zone und Quartier im 2021/Wohnzone 3/Hirslanden\",\"Medianquadratmeterpreis nach Zone und Quartier im 2021/Wohnzone 4/Hirslanden\",\"Medianquadratmeterpreis nach Zone und Quartier im 2021/Wohnzone 2/Hirzenbach\",\"Medianquadratmeterpreis nach Zone und Quartier im 2021/Wohnzone 3/Hirzenbach\",\"Medianquadratmeterpreis nach Zone und Quartier im 2021/Wohnzone 4/Hirzenbach\",\"Medianquadratmeterpreis nach Zone und Quartier im 2021/Quartiererhaltungszone/Hottingen\",\"Medianquadratmeterpreis nach Zone und Quartier im 2021/Wohnzone 2/Hottingen\",\"Medianquadratmeterpreis nach Zone und Quartier im 2021/Wohnzone 3/Hottingen\",\"Medianquadratmeterpreis nach Zone und Quartier im 2021/Wohnzone 4/Hottingen\",\"Medianquadratmeterpreis nach Zone und Quartier im 2021/Wohnzone 2/H\\u00f6ngg\",\"Medianquadratmeterpreis nach Zone und Quartier im 2021/Wohnzone 3/H\\u00f6ngg\",\"Medianquadratmeterpreis nach Zone und Quartier im 2021/Quartiererhaltungszone/Langstrasse\",\"Medianquadratmeterpreis nach Zone und Quartier im 2021/Wohnzone 2/Leimbach\",\"Medianquadratmeterpreis nach Zone und Quartier im 2021/Wohnzone 3/Leimbach\",\"Medianquadratmeterpreis nach Zone und Quartier im 2021/Kernzone/M\\u00fchlebach\",\"Medianquadratmeterpreis nach Zone und Quartier im 2021/Quartiererhaltungszone/M\\u00fchlebach\",\"Medianquadratmeterpreis nach Zone und Quartier im 2021/Wohnzone 3/M\\u00fchlebach\",\"Medianquadratmeterpreis nach Zone und Quartier im 2021/Wohnzone 2/Oberstrass\",\"Medianquadratmeterpreis nach Zone und Quartier im 2021/Wohnzone 3/Oberstrass\",\"Medianquadratmeterpreis nach Zone und Quartier im 2021/Wohnzone 4/Oberstrass\",\"Medianquadratmeterpreis nach Zone und Quartier im 2021/Quartiererhaltungszone/Oerlikon\",\"Medianquadratmeterpreis nach Zone und Quartier im 2021/Wohnzone 2/Oerlikon\",\"Medianquadratmeterpreis nach Zone und Quartier im 2021/Wohnzone 3/Oerlikon\",\"Medianquadratmeterpreis nach Zone und Quartier im 2021/Wohnzone 4/Oerlikon\",\"Medianquadratmeterpreis nach Zone und Quartier im 2021/Wohnzone 5/Oerlikon\",\"Medianquadratmeterpreis nach Zone und Quartier im 2021/Wohnzone 2/Saatlen\",\"Medianquadratmeterpreis nach Zone und Quartier im 2021/Wohnzone 3/Saatlen\",\"Medianquadratmeterpreis nach Zone und Quartier im 2021/Wohnzone 2/Schwamendingen-Mitte\",\"Medianquadratmeterpreis nach Zone und Quartier im 2021/Wohnzone 3/Schwamendingen-Mitte\",\"Medianquadratmeterpreis nach Zone und Quartier im 2021/Wohnzone 2/Seebach\",\"Medianquadratmeterpreis nach Zone und Quartier im 2021/Wohnzone 3/Seebach\",\"Medianquadratmeterpreis nach Zone und Quartier im 2021/Wohnzone 4/Seebach\",\"Medianquadratmeterpreis nach Zone und Quartier im 2021/Zentrumszone/Seebach\",\"Medianquadratmeterpreis nach Zone und Quartier im 2021/Kernzone/Seefeld\",\"Medianquadratmeterpreis nach Zone und Quartier im 2021/Quartiererhaltungszone/Seefeld\",\"Medianquadratmeterpreis nach Zone und Quartier im 2021/Wohnzone 3/Seefeld\",\"Medianquadratmeterpreis nach Zone und Quartier im 2021/Quartiererhaltungszone/Sihlfeld\",\"Medianquadratmeterpreis nach Zone und Quartier im 2021/Wohnzone 3/Sihlfeld\",\"Medianquadratmeterpreis nach Zone und Quartier im 2021/Wohnzone 4/Sihlfeld\",\"Medianquadratmeterpreis nach Zone und Quartier im 2021/Quartiererhaltungszone/Unterstrass\",\"Medianquadratmeterpreis nach Zone und Quartier im 2021/Wohnzone 2/Unterstrass\",\"Medianquadratmeterpreis nach Zone und Quartier im 2021/Wohnzone 3/Unterstrass\",\"Medianquadratmeterpreis nach Zone und Quartier im 2021/Wohnzone 4/Unterstrass\",\"Medianquadratmeterpreis nach Zone und Quartier im 2021/Wohnzone 5/Unterstrass\",\"Medianquadratmeterpreis nach Zone und Quartier im 2021/Wohnzone 2/Weinegg\",\"Medianquadratmeterpreis nach Zone und Quartier im 2021/Wohnzone 3/Weinegg\",\"Medianquadratmeterpreis nach Zone und Quartier im 2021/Quartiererhaltungszone/Werd\",\"Medianquadratmeterpreis nach Zone und Quartier im 2021/Quartiererhaltungszone/Wipkingen\",\"Medianquadratmeterpreis nach Zone und Quartier im 2021/Wohnzone 2/Wipkingen\",\"Medianquadratmeterpreis nach Zone und Quartier im 2021/Wohnzone 3/Wipkingen\",\"Medianquadratmeterpreis nach Zone und Quartier im 2021/Kernzone/Witikon\",\"Medianquadratmeterpreis nach Zone und Quartier im 2021/Wohnzone 2/Witikon\",\"Medianquadratmeterpreis nach Zone und Quartier im 2021/Wohnzone 4/Witikon\",\"Medianquadratmeterpreis nach Zone und Quartier im 2021/Kernzone/Wollishofen\",\"Medianquadratmeterpreis nach Zone und Quartier im 2021/Wohnzone 2/Wollishofen\",\"Medianquadratmeterpreis nach Zone und Quartier im 2021/Wohnzone 3/Wollishofen\",\"Medianquadratmeterpreis nach Zone und Quartier im 2021/Wohnzone 4/Wollishofen\",\"Medianquadratmeterpreis nach Zone und Quartier im 2021/Wohnzone 5/Wollishofen\",\"Medianquadratmeterpreis nach Zone und Quartier im 2021/Zentrumszone/Wollishofen\",\"Medianquadratmeterpreis nach Zone und Quartier im 2021/Wohnzone 2\",\"Medianquadratmeterpreis nach Zone und Quartier im 2021/Wohnzone 3\",\"Medianquadratmeterpreis nach Zone und Quartier im 2021/Wohnzone 4\",\"Medianquadratmeterpreis nach Zone und Quartier im 2021/Wohnzone 2\",\"Medianquadratmeterpreis nach Zone und Quartier im 2021/Wohnzone 3\",\"Medianquadratmeterpreis nach Zone und Quartier im 2021/Wohnzone 4\",\"Medianquadratmeterpreis nach Zone und Quartier im 2021/Zentrumszone\",\"Medianquadratmeterpreis nach Zone und Quartier im 2021/Quartiererhaltungszone\",\"Medianquadratmeterpreis nach Zone und Quartier im 2021/Wohnzone 2\",\"Medianquadratmeterpreis nach Zone und Quartier im 2021/Wohnzone 3\",\"Medianquadratmeterpreis nach Zone und Quartier im 2021/Wohnzone 4\",\"Medianquadratmeterpreis nach Zone und Quartier im 2021/Wohnzone 5\",\"Medianquadratmeterpreis nach Zone und Quartier im 2021/Zentrumszone\",\"Medianquadratmeterpreis nach Zone und Quartier im 2021/Kernzone\",\"Medianquadratmeterpreis nach Zone und Quartier im 2021/Wohnzone 2\",\"Medianquadratmeterpreis nach Zone und Quartier im 2021/Wohnzone 3\",\"Medianquadratmeterpreis nach Zone und Quartier im 2021/Wohnzone 4\",\"Medianquadratmeterpreis nach Zone und Quartier im 2021/Wohnzone 5\",\"Medianquadratmeterpreis nach Zone und Quartier im 2021/Zentrumszone\",\"Medianquadratmeterpreis nach Zone und Quartier im 2021/Kernzone\",\"Medianquadratmeterpreis nach Zone und Quartier im 2021/Quartiererhaltungszone\",\"Medianquadratmeterpreis nach Zone und Quartier im 2021/Wohnzone 2\",\"Medianquadratmeterpreis nach Zone und Quartier im 2021/Wohnzone 3\",\"Medianquadratmeterpreis nach Zone und Quartier im 2021/Kernzone\",\"Medianquadratmeterpreis nach Zone und Quartier im 2021/Zentrumszone\",\"Medianquadratmeterpreis nach Zone und Quartier im 2021/Wohnzone 2\",\"Medianquadratmeterpreis nach Zone und Quartier im 2021/Wohnzone 3\",\"Medianquadratmeterpreis nach Zone und Quartier im 2021/Wohnzone 2\",\"Medianquadratmeterpreis nach Zone und Quartier im 2021/Wohnzone 3\",\"Medianquadratmeterpreis nach Zone und Quartier im 2021/Quartiererhaltungszone\",\"Medianquadratmeterpreis nach Zone und Quartier im 2021/Zentrumszone\",\"Medianquadratmeterpreis nach Zone und Quartier im 2021/Quartiererhaltungszone\",\"Medianquadratmeterpreis nach Zone und Quartier im 2021/Wohnzone 5\",\"Medianquadratmeterpreis nach Zone und Quartier im 2021/Wohnzone 2\",\"Medianquadratmeterpreis nach Zone und Quartier im 2021/Wohnzone 3\",\"Medianquadratmeterpreis nach Zone und Quartier im 2021/Wohnzone 4\",\"Medianquadratmeterpreis nach Zone und Quartier im 2021/Wohnzone 2\",\"Medianquadratmeterpreis nach Zone und Quartier im 2021/Wohnzone 3\",\"Medianquadratmeterpreis nach Zone und Quartier im 2021/Wohnzone 4\",\"Medianquadratmeterpreis nach Zone und Quartier im 2021/Quartiererhaltungszone\",\"Medianquadratmeterpreis nach Zone und Quartier im 2021/Wohnzone 2\",\"Medianquadratmeterpreis nach Zone und Quartier im 2021/Wohnzone 3\",\"Medianquadratmeterpreis nach Zone und Quartier im 2021/Wohnzone 4\",\"Medianquadratmeterpreis nach Zone und Quartier im 2021/Wohnzone 2\",\"Medianquadratmeterpreis nach Zone und Quartier im 2021/Wohnzone 3\",\"Medianquadratmeterpreis nach Zone und Quartier im 2021/Quartiererhaltungszone\",\"Medianquadratmeterpreis nach Zone und Quartier im 2021/Wohnzone 2\",\"Medianquadratmeterpreis nach Zone und Quartier im 2021/Wohnzone 3\",\"Medianquadratmeterpreis nach Zone und Quartier im 2021/Kernzone\",\"Medianquadratmeterpreis nach Zone und Quartier im 2021/Quartiererhaltungszone\",\"Medianquadratmeterpreis nach Zone und Quartier im 2021/Wohnzone 2\",\"Medianquadratmeterpreis nach Zone und Quartier im 2021/Wohnzone 3\",\"Medianquadratmeterpreis nach Zone und Quartier im 2021/Wohnzone 2\",\"Medianquadratmeterpreis nach Zone und Quartier im 2021/Wohnzone 3\",\"Medianquadratmeterpreis nach Zone und Quartier im 2021/Wohnzone 4\",\"Medianquadratmeterpreis nach Zone und Quartier im 2021/Quartiererhaltungszone\",\"Medianquadratmeterpreis nach Zone und Quartier im 2021/Wohnzone 2\",\"Medianquadratmeterpreis nach Zone und Quartier im 2021/Wohnzone 3\",\"Medianquadratmeterpreis nach Zone und Quartier im 2021/Wohnzone 4\",\"Medianquadratmeterpreis nach Zone und Quartier im 2021/Wohnzone 5\",\"Medianquadratmeterpreis nach Zone und Quartier im 2021/Zentrumszone\",\"Medianquadratmeterpreis nach Zone und Quartier im 2021/Wohnzone 2\",\"Medianquadratmeterpreis nach Zone und Quartier im 2021/Wohnzone 3\",\"Medianquadratmeterpreis nach Zone und Quartier im 2021/Wohnzone 2\",\"Medianquadratmeterpreis nach Zone und Quartier im 2021/Wohnzone 3\",\"Medianquadratmeterpreis nach Zone und Quartier im 2021/Quartiererhaltungszone\",\"Medianquadratmeterpreis nach Zone und Quartier im 2021/Wohnzone 2\",\"Medianquadratmeterpreis nach Zone und Quartier im 2021/Wohnzone 3\",\"Medianquadratmeterpreis nach Zone und Quartier im 2021/Wohnzone 4\",\"Medianquadratmeterpreis nach Zone und Quartier im 2021/Wohnzone 5\",\"Medianquadratmeterpreis nach Zone und Quartier im 2021/Zentrumszone\",\"Medianquadratmeterpreis nach Zone und Quartier im 2021/Kernzone\",\"Medianquadratmeterpreis nach Zone und Quartier im 2021/Quartiererhaltungszone\",\"Medianquadratmeterpreis nach Zone und Quartier im 2021/Wohnzone 3\",\"Medianquadratmeterpreis nach Zone und Quartier im 2021/Quartiererhaltungszone\",\"Medianquadratmeterpreis nach Zone und Quartier im 2021/Wohnzone 3\",\"Medianquadratmeterpreis nach Zone und Quartier im 2021/Wohnzone 4\",\"Medianquadratmeterpreis nach Zone und Quartier im 2021/Quartiererhaltungszone\",\"Medianquadratmeterpreis nach Zone und Quartier im 2021/Wohnzone 2\",\"Medianquadratmeterpreis nach Zone und Quartier im 2021/Wohnzone 3\",\"Medianquadratmeterpreis nach Zone und Quartier im 2021/Wohnzone 4\",\"Medianquadratmeterpreis nach Zone und Quartier im 2021/Wohnzone 5\",\"Medianquadratmeterpreis nach Zone und Quartier im 2021/Wohnzone 2\",\"Medianquadratmeterpreis nach Zone und Quartier im 2021/Wohnzone 3\",\"Medianquadratmeterpreis nach Zone und Quartier im 2021/Quartiererhaltungszone\",\"Medianquadratmeterpreis nach Zone und Quartier im 2021/Quartiererhaltungszone\",\"Medianquadratmeterpreis nach Zone und Quartier im 2021/Wohnzone 2\",\"Medianquadratmeterpreis nach Zone und Quartier im 2021/Wohnzone 3\",\"Medianquadratmeterpreis nach Zone und Quartier im 2021/Wohnzone 4\",\"Medianquadratmeterpreis nach Zone und Quartier im 2021/Kernzone\",\"Medianquadratmeterpreis nach Zone und Quartier im 2021/Wohnzone 2\",\"Medianquadratmeterpreis nach Zone und Quartier im 2021/Wohnzone 4\",\"Medianquadratmeterpreis nach Zone und Quartier im 2021/Kernzone\",\"Medianquadratmeterpreis nach Zone und Quartier im 2021/Wohnzone 2\",\"Medianquadratmeterpreis nach Zone und Quartier im 2021/Wohnzone 3\",\"Medianquadratmeterpreis nach Zone und Quartier im 2021/Wohnzone 4\",\"Medianquadratmeterpreis nach Zone und Quartier im 2021/Wohnzone 5\",\"Medianquadratmeterpreis nach Zone und Quartier im 2021/Zentrumszone\",\"Medianquadratmeterpreis nach Zone und Quartier im 2021\",\"Medianquadratmeterpreis nach Zone und Quartier im 2021\",\"Medianquadratmeterpreis nach Zone und Quartier im 2021\",\"Medianquadratmeterpreis nach Zone und Quartier im 2021\",\"Medianquadratmeterpreis nach Zone und Quartier im 2021\",\"Medianquadratmeterpreis nach Zone und Quartier im 2021\",\"Medianquadratmeterpreis nach Zone und Quartier im 2021\",\"\"],\"values\":[3840,4030,4930,3820,8700,17860,5350,7400,11400,9050,3220,3740,6210,9210,20870,4430,10600,8530,7360,6020,3690,9450,1700,12370,11830,6100,6730,9440,2690,3530,3760,34380,8230,12950,13740,4210,25510,5190,3810,29610,11240,5200,5950,22340,26250,3820,3500,4610,5330,25770,4800,4330,3150,3520,14820,4190,4980,9200,2510,12320,51740,19620,19060,7900,13470,8190,6460,12950,20740,8660,16580,12010,4570,7440,12380,4410,4790,6050,3810,2380,3990,3180,4470,9200,10250,17230,5960,10180,9980,16190,4790,3420,5000,6880,8940,9930,102450,20490,6870,10560,9100,5410,7520,7950,6900,34190,20910,10690,12070,7130,3170,3470,4730,12450,8810,24240,25960,4670,10870,28700,2370,3780,8490,5700,11320,8200,7770,13050,13370,4230,4960,4770,8960,2960,5630,3160,3450,4110,4020,7280,2930,24390,35780,19880,18310,11050,18370,13890,9720,12950,12370,11220,7130,20340,29520,21690,4090,8040,3980,4760,7760,16710,5710,8610,13230,23120,7030,7650,2380,3990,7210,9400,13020,18950,35090,11310,7400,10180,9980,27590,13840,6640,8740,13090,8940,19140,123320,20490,6870,14990,9100,10600,13940,14880,13970,10590,43640,1700,33280,11830,16790,18800,16570,5860,7000,8490,46830,17040,37190,39700,8880,10870,54210,7560,7590,8490,35310,11240,11320,13400,13720,35390,39620,8050,8460,9380,14290,25770,7760,9960,6310,6970,14820,8300,9000,16480,2510,15250,76130,55400,19880,37370,18950,31840,13890,17910,19410,25320,31960,15790,36920,41530,21690,8660,15480,12380,3980,9170,7760,16710,10500,14660,13230,23120,7030,251570,493170,240810,334560,256820,102630,126030,1805590],\"type\":\"treemap\",\"root\":{\"color\":\"grey\"}}],                        {\"template\":{\"data\":{\"bar\":[{\"error_x\":{\"color\":\"#2a3f5f\"},\"error_y\":{\"color\":\"#2a3f5f\"},\"marker\":{\"line\":{\"color\":\"#E5ECF6\",\"width\":0.5},\"pattern\":{\"fillmode\":\"overlay\",\"size\":10,\"solidity\":0.2}},\"type\":\"bar\"}],\"barpolar\":[{\"marker\":{\"line\":{\"color\":\"#E5ECF6\",\"width\":0.5},\"pattern\":{\"fillmode\":\"overlay\",\"size\":10,\"solidity\":0.2}},\"type\":\"barpolar\"}],\"carpet\":[{\"aaxis\":{\"endlinecolor\":\"#2a3f5f\",\"gridcolor\":\"white\",\"linecolor\":\"white\",\"minorgridcolor\":\"white\",\"startlinecolor\":\"#2a3f5f\"},\"baxis\":{\"endlinecolor\":\"#2a3f5f\",\"gridcolor\":\"white\",\"linecolor\":\"white\",\"minorgridcolor\":\"white\",\"startlinecolor\":\"#2a3f5f\"},\"type\":\"carpet\"}],\"choropleth\":[{\"colorbar\":{\"outlinewidth\":0,\"ticks\":\"\"},\"type\":\"choropleth\"}],\"contour\":[{\"colorbar\":{\"outlinewidth\":0,\"ticks\":\"\"},\"colorscale\":[[0.0,\"#0d0887\"],[0.1111111111111111,\"#46039f\"],[0.2222222222222222,\"#7201a8\"],[0.3333333333333333,\"#9c179e\"],[0.4444444444444444,\"#bd3786\"],[0.5555555555555556,\"#d8576b\"],[0.6666666666666666,\"#ed7953\"],[0.7777777777777778,\"#fb9f3a\"],[0.8888888888888888,\"#fdca26\"],[1.0,\"#f0f921\"]],\"type\":\"contour\"}],\"contourcarpet\":[{\"colorbar\":{\"outlinewidth\":0,\"ticks\":\"\"},\"type\":\"contourcarpet\"}],\"heatmap\":[{\"colorbar\":{\"outlinewidth\":0,\"ticks\":\"\"},\"colorscale\":[[0.0,\"#0d0887\"],[0.1111111111111111,\"#46039f\"],[0.2222222222222222,\"#7201a8\"],[0.3333333333333333,\"#9c179e\"],[0.4444444444444444,\"#bd3786\"],[0.5555555555555556,\"#d8576b\"],[0.6666666666666666,\"#ed7953\"],[0.7777777777777778,\"#fb9f3a\"],[0.8888888888888888,\"#fdca26\"],[1.0,\"#f0f921\"]],\"type\":\"heatmap\"}],\"heatmapgl\":[{\"colorbar\":{\"outlinewidth\":0,\"ticks\":\"\"},\"colorscale\":[[0.0,\"#0d0887\"],[0.1111111111111111,\"#46039f\"],[0.2222222222222222,\"#7201a8\"],[0.3333333333333333,\"#9c179e\"],[0.4444444444444444,\"#bd3786\"],[0.5555555555555556,\"#d8576b\"],[0.6666666666666666,\"#ed7953\"],[0.7777777777777778,\"#fb9f3a\"],[0.8888888888888888,\"#fdca26\"],[1.0,\"#f0f921\"]],\"type\":\"heatmapgl\"}],\"histogram\":[{\"marker\":{\"pattern\":{\"fillmode\":\"overlay\",\"size\":10,\"solidity\":0.2}},\"type\":\"histogram\"}],\"histogram2d\":[{\"colorbar\":{\"outlinewidth\":0,\"ticks\":\"\"},\"colorscale\":[[0.0,\"#0d0887\"],[0.1111111111111111,\"#46039f\"],[0.2222222222222222,\"#7201a8\"],[0.3333333333333333,\"#9c179e\"],[0.4444444444444444,\"#bd3786\"],[0.5555555555555556,\"#d8576b\"],[0.6666666666666666,\"#ed7953\"],[0.7777777777777778,\"#fb9f3a\"],[0.8888888888888888,\"#fdca26\"],[1.0,\"#f0f921\"]],\"type\":\"histogram2d\"}],\"histogram2dcontour\":[{\"colorbar\":{\"outlinewidth\":0,\"ticks\":\"\"},\"colorscale\":[[0.0,\"#0d0887\"],[0.1111111111111111,\"#46039f\"],[0.2222222222222222,\"#7201a8\"],[0.3333333333333333,\"#9c179e\"],[0.4444444444444444,\"#bd3786\"],[0.5555555555555556,\"#d8576b\"],[0.6666666666666666,\"#ed7953\"],[0.7777777777777778,\"#fb9f3a\"],[0.8888888888888888,\"#fdca26\"],[1.0,\"#f0f921\"]],\"type\":\"histogram2dcontour\"}],\"mesh3d\":[{\"colorbar\":{\"outlinewidth\":0,\"ticks\":\"\"},\"type\":\"mesh3d\"}],\"parcoords\":[{\"line\":{\"colorbar\":{\"outlinewidth\":0,\"ticks\":\"\"}},\"type\":\"parcoords\"}],\"pie\":[{\"automargin\":true,\"type\":\"pie\"}],\"scatter\":[{\"marker\":{\"colorbar\":{\"outlinewidth\":0,\"ticks\":\"\"}},\"type\":\"scatter\"}],\"scatter3d\":[{\"line\":{\"colorbar\":{\"outlinewidth\":0,\"ticks\":\"\"}},\"marker\":{\"colorbar\":{\"outlinewidth\":0,\"ticks\":\"\"}},\"type\":\"scatter3d\"}],\"scattercarpet\":[{\"marker\":{\"colorbar\":{\"outlinewidth\":0,\"ticks\":\"\"}},\"type\":\"scattercarpet\"}],\"scattergeo\":[{\"marker\":{\"colorbar\":{\"outlinewidth\":0,\"ticks\":\"\"}},\"type\":\"scattergeo\"}],\"scattergl\":[{\"marker\":{\"colorbar\":{\"outlinewidth\":0,\"ticks\":\"\"}},\"type\":\"scattergl\"}],\"scattermapbox\":[{\"marker\":{\"colorbar\":{\"outlinewidth\":0,\"ticks\":\"\"}},\"type\":\"scattermapbox\"}],\"scatterpolar\":[{\"marker\":{\"colorbar\":{\"outlinewidth\":0,\"ticks\":\"\"}},\"type\":\"scatterpolar\"}],\"scatterpolargl\":[{\"marker\":{\"colorbar\":{\"outlinewidth\":0,\"ticks\":\"\"}},\"type\":\"scatterpolargl\"}],\"scatterternary\":[{\"marker\":{\"colorbar\":{\"outlinewidth\":0,\"ticks\":\"\"}},\"type\":\"scatterternary\"}],\"surface\":[{\"colorbar\":{\"outlinewidth\":0,\"ticks\":\"\"},\"colorscale\":[[0.0,\"#0d0887\"],[0.1111111111111111,\"#46039f\"],[0.2222222222222222,\"#7201a8\"],[0.3333333333333333,\"#9c179e\"],[0.4444444444444444,\"#bd3786\"],[0.5555555555555556,\"#d8576b\"],[0.6666666666666666,\"#ed7953\"],[0.7777777777777778,\"#fb9f3a\"],[0.8888888888888888,\"#fdca26\"],[1.0,\"#f0f921\"]],\"type\":\"surface\"}],\"table\":[{\"cells\":{\"fill\":{\"color\":\"#EBF0F8\"},\"line\":{\"color\":\"white\"}},\"header\":{\"fill\":{\"color\":\"#C8D4E3\"},\"line\":{\"color\":\"white\"}},\"type\":\"table\"}]},\"layout\":{\"annotationdefaults\":{\"arrowcolor\":\"#2a3f5f\",\"arrowhead\":0,\"arrowwidth\":1},\"autotypenumbers\":\"strict\",\"coloraxis\":{\"colorbar\":{\"outlinewidth\":0,\"ticks\":\"\"}},\"colorscale\":{\"diverging\":[[0,\"#8e0152\"],[0.1,\"#c51b7d\"],[0.2,\"#de77ae\"],[0.3,\"#f1b6da\"],[0.4,\"#fde0ef\"],[0.5,\"#f7f7f7\"],[0.6,\"#e6f5d0\"],[0.7,\"#b8e186\"],[0.8,\"#7fbc41\"],[0.9,\"#4d9221\"],[1,\"#276419\"]],\"sequential\":[[0.0,\"#0d0887\"],[0.1111111111111111,\"#46039f\"],[0.2222222222222222,\"#7201a8\"],[0.3333333333333333,\"#9c179e\"],[0.4444444444444444,\"#bd3786\"],[0.5555555555555556,\"#d8576b\"],[0.6666666666666666,\"#ed7953\"],[0.7777777777777778,\"#fb9f3a\"],[0.8888888888888888,\"#fdca26\"],[1.0,\"#f0f921\"]],\"sequentialminus\":[[0.0,\"#0d0887\"],[0.1111111111111111,\"#46039f\"],[0.2222222222222222,\"#7201a8\"],[0.3333333333333333,\"#9c179e\"],[0.4444444444444444,\"#bd3786\"],[0.5555555555555556,\"#d8576b\"],[0.6666666666666666,\"#ed7953\"],[0.7777777777777778,\"#fb9f3a\"],[0.8888888888888888,\"#fdca26\"],[1.0,\"#f0f921\"]]},\"colorway\":[\"#636efa\",\"#EF553B\",\"#00cc96\",\"#ab63fa\",\"#FFA15A\",\"#19d3f3\",\"#FF6692\",\"#B6E880\",\"#FF97FF\",\"#FECB52\"],\"font\":{\"color\":\"#2a3f5f\"},\"geo\":{\"bgcolor\":\"white\",\"lakecolor\":\"white\",\"landcolor\":\"#E5ECF6\",\"showlakes\":true,\"showland\":true,\"subunitcolor\":\"white\"},\"hoverlabel\":{\"align\":\"left\"},\"hovermode\":\"closest\",\"mapbox\":{\"style\":\"light\"},\"paper_bgcolor\":\"white\",\"plot_bgcolor\":\"#E5ECF6\",\"polar\":{\"angularaxis\":{\"gridcolor\":\"white\",\"linecolor\":\"white\",\"ticks\":\"\"},\"bgcolor\":\"#E5ECF6\",\"radialaxis\":{\"gridcolor\":\"white\",\"linecolor\":\"white\",\"ticks\":\"\"}},\"scene\":{\"xaxis\":{\"backgroundcolor\":\"#E5ECF6\",\"gridcolor\":\"white\",\"gridwidth\":2,\"linecolor\":\"white\",\"showbackground\":true,\"ticks\":\"\",\"zerolinecolor\":\"white\"},\"yaxis\":{\"backgroundcolor\":\"#E5ECF6\",\"gridcolor\":\"white\",\"gridwidth\":2,\"linecolor\":\"white\",\"showbackground\":true,\"ticks\":\"\",\"zerolinecolor\":\"white\"},\"zaxis\":{\"backgroundcolor\":\"#E5ECF6\",\"gridcolor\":\"white\",\"gridwidth\":2,\"linecolor\":\"white\",\"showbackground\":true,\"ticks\":\"\",\"zerolinecolor\":\"white\"}},\"shapedefaults\":{\"line\":{\"color\":\"#2a3f5f\"}},\"ternary\":{\"aaxis\":{\"gridcolor\":\"white\",\"linecolor\":\"white\",\"ticks\":\"\"},\"baxis\":{\"gridcolor\":\"white\",\"linecolor\":\"white\",\"ticks\":\"\"},\"bgcolor\":\"#E5ECF6\",\"caxis\":{\"gridcolor\":\"white\",\"linecolor\":\"white\",\"ticks\":\"\"}},\"title\":{\"x\":0.05},\"xaxis\":{\"automargin\":true,\"gridcolor\":\"white\",\"linecolor\":\"white\",\"ticks\":\"\",\"title\":{\"standoff\":15},\"zerolinecolor\":\"white\",\"zerolinewidth\":2},\"yaxis\":{\"automargin\":true,\"gridcolor\":\"white\",\"linecolor\":\"white\",\"ticks\":\"\",\"title\":{\"standoff\":15},\"zerolinecolor\":\"white\",\"zerolinewidth\":2}}},\"coloraxis\":{\"colorbar\":{\"title\":{\"text\":\"Medianqmp\"}},\"colorscale\":[[0.0,\"#00224e\"],[0.1111111111111111,\"#123570\"],[0.2222222222222222,\"#3b496c\"],[0.3333333333333333,\"#575d6d\"],[0.4444444444444444,\"#707173\"],[0.5555555555555556,\"#8a8678\"],[0.6666666666666666,\"#a59c74\"],[0.7777777777777778,\"#c3b369\"],[0.8888888888888888,\"#e1cc55\"],[1.0,\"#fee838\"]]},\"legend\":{\"tracegroupgap\":0},\"margin\":{\"t\":50,\"l\":25,\"r\":250,\"b\":25},\"height\":500,\"width\":1100},                        {\"responsive\": true}                    ).then(function(){\n",
       "                            \n",
       "var gd = document.getElementById('8dd2b543-80ec-4232-aa8d-d4f8c7125b87');\n",
       "var x = new MutationObserver(function (mutations, observer) {{\n",
       "        var display = window.getComputedStyle(gd).display;\n",
       "        if (!display || display === 'none') {{\n",
       "            console.log([gd, 'removed!']);\n",
       "            Plotly.purge(gd);\n",
       "            observer.disconnect();\n",
       "        }}\n",
       "}});\n",
       "\n",
       "// Listen for the removal of the full notebook cells\n",
       "var notebookContainer = gd.closest('#notebook-container');\n",
       "if (notebookContainer) {{\n",
       "    x.observe(notebookContainer, {childList: true});\n",
       "}}\n",
       "\n",
       "// Listen for the clearing of the current output cell\n",
       "var outputEl = gd.closest('.output');\n",
       "if (outputEl) {{\n",
       "    x.observe(outputEl, {childList: true});\n",
       "}}\n",
       "\n",
       "                        })                };                });            </script>        </div>"
      ]
     },
     "metadata": {},
     "output_type": "display_data"
    }
   ],
   "source": [
    "fig = px.treemap(data2betested.loc[\"2017\":\"2021\"].query('Quartier_Nummer > 20').reset_index()\n",
    "                 , path=[px.Constant(\"Medianquadratmeterpreis nach Zone und Quartier im 2021\")\n",
    "                         ,'Zonenart','Quartier_Name','Jahr']\n",
    "                 , values='Medianqmp'\n",
    "                 , color='Medianqmp'               \n",
    "                 #, color_discrete_map={'(?)':'lightgrey','EVP':'gold', 'SP':'#FF3030', 'PdA':'#EE3B3B', 'Grüne':'#A2CD5A','GLP':'#CAFF70','Die Mitte':'orange','FDP':'#104E8B','AL':'deeppink','SVP':'forestgreen', 'FL ZÜRI':'#8B864E','Volt':'#lightblue' }                \n",
    "                 ## bei continuous scales (bei Zahlenwerten):\n",
    "                 ,color_continuous_scale='cividis'\n",
    "                 ,height=500 , width=1100                 \n",
    "                )\n",
    "fig.update_traces(root_color=\"grey\")\n",
    "fig.update_layout(margin = dict(t=50, l=25, r=250, b=25))\n",
    "fig.show()"
   ]
  },
  {
   "cell_type": "code",
   "execution_count": 37,
   "metadata": {},
   "outputs": [],
   "source": [
    "#data2betested.dtypes"
   ]
  },
  {
   "cell_type": "markdown",
   "metadata": {},
   "source": [
    "**Sharepoint als gecheckt markieren!**"
   ]
  },
  {
   "cell_type": "markdown",
   "metadata": {},
   "source": [
    "Record auf Sharepoint: **[Link](https://kollaboration.intranet.stzh.ch/orga/ssz-produkte/Lists/SASA_Outputs/DispForm.aspx?ID=572&ContentTypeId=0x0100988EAF029F1EFE4CA675F53C32A5D53D01006DBC563E6FBE9E4EB6FDC780799752E1)**"
   ]
  },
  {
   "cell_type": "markdown",
   "metadata": {},
   "source": [
    "## ---------------------- hier Plausi beendet\n",
    "\n",
    "Liniendiagramm \n",
    "[Link zur Doku](https://altair-viz.github.io/gallery/multiline_highlight.html)"
   ]
  },
  {
   "cell_type": "markdown",
   "metadata": {
    "tags": []
   },
   "source": [
    "### Test: Choroplethenkarte\n",
    "Importiere die Geodaten als GeoJSON"
   ]
  },
  {
   "cell_type": "markdown",
   "metadata": {},
   "source": [
    "#### Stadtkreise"
   ]
  },
  {
   "cell_type": "code",
   "execution_count": 44,
   "metadata": {},
   "outputs": [
    {
     "data": {
      "text/html": [
       "<div>\n",
       "<style scoped>\n",
       "    .dataframe tbody tr th:only-of-type {\n",
       "        vertical-align: middle;\n",
       "    }\n",
       "\n",
       "    .dataframe tbody tr th {\n",
       "        vertical-align: top;\n",
       "    }\n",
       "\n",
       "    .dataframe thead th {\n",
       "        text-align: right;\n",
       "    }\n",
       "</style>\n",
       "<table border=\"1\" class=\"dataframe\">\n",
       "  <thead>\n",
       "    <tr style=\"text-align: right;\">\n",
       "      <th></th>\n",
       "      <th>id</th>\n",
       "      <th>kname</th>\n",
       "      <th>knr</th>\n",
       "      <th>objid</th>\n",
       "      <th>geometry</th>\n",
       "    </tr>\n",
       "  </thead>\n",
       "  <tbody>\n",
       "    <tr>\n",
       "      <th>0</th>\n",
       "      <td>adm_stadtkreise_v.6</td>\n",
       "      <td>Kreis 7</td>\n",
       "      <td>7</td>\n",
       "      <td>6</td>\n",
       "      <td>POLYGON ((8.54885 47.36602, 8.54901 47.36601, ...</td>\n",
       "    </tr>\n",
       "  </tbody>\n",
       "</table>\n",
       "</div>"
      ],
      "text/plain": [
       "                    id    kname  knr objid                                           geometry\n",
       "0  adm_stadtkreise_v.6  Kreis 7    7     6  POLYGON ((8.54885 47.36602, 8.54901 47.36601, ..."
      ]
     },
     "execution_count": 44,
     "metadata": {},
     "output_type": "execute_result"
    }
   ],
   "source": [
    "# Read abt. Geopandas https://geopandas.org/docs/user_guide/io.html\n",
    "geojson_url_kreise = \"https://www.ogd.stadt-zuerich.ch/wfs/geoportal/Stadtkreise?service=WFS&version=1.1.0&request=GetFeature&outputFormat=GeoJSON&typename=adm_stadtkreise_v\"\n",
    "adm_stadtkreise_v = gpd.read_file(geojson_url_kreise)\n",
    "\n",
    "adm_stadtkreise_v.head(1)\n"
   ]
  },
  {
   "cell_type": "markdown",
   "metadata": {},
   "source": [
    "#### Statistische Zonen"
   ]
  },
  {
   "cell_type": "code",
   "execution_count": 45,
   "metadata": {},
   "outputs": [
    {
     "data": {
      "text/html": [
       "<div>\n",
       "<style scoped>\n",
       "    .dataframe tbody tr th:only-of-type {\n",
       "        vertical-align: middle;\n",
       "    }\n",
       "\n",
       "    .dataframe tbody tr th {\n",
       "        vertical-align: top;\n",
       "    }\n",
       "\n",
       "    .dataframe thead th {\n",
       "        text-align: right;\n",
       "    }\n",
       "</style>\n",
       "<table border=\"1\" class=\"dataframe\">\n",
       "  <thead>\n",
       "    <tr style=\"text-align: right;\">\n",
       "      <th></th>\n",
       "      <th>id</th>\n",
       "      <th>kname</th>\n",
       "      <th>knr</th>\n",
       "      <th>objectid</th>\n",
       "      <th>objid</th>\n",
       "      <th>qname</th>\n",
       "      <th>qnr</th>\n",
       "      <th>stzname</th>\n",
       "      <th>stznr</th>\n",
       "      <th>geometry</th>\n",
       "    </tr>\n",
       "  </thead>\n",
       "  <tbody>\n",
       "    <tr>\n",
       "      <th>0</th>\n",
       "      <td>adm_statzonen_map.1</td>\n",
       "      <td>Kreis 7</td>\n",
       "      <td>7</td>\n",
       "      <td>1</td>\n",
       "      <td>154</td>\n",
       "      <td>Hirslanden</td>\n",
       "      <td>73</td>\n",
       "      <td>Hegibach</td>\n",
       "      <td>7303</td>\n",
       "      <td>POLYGON ((8.55670 47.36406, 8.55682 47.36410, ...</td>\n",
       "    </tr>\n",
       "    <tr>\n",
       "      <th>1</th>\n",
       "      <td>adm_statzonen_map.2</td>\n",
       "      <td>Kreis 7</td>\n",
       "      <td>7</td>\n",
       "      <td>2</td>\n",
       "      <td>89</td>\n",
       "      <td>Hirslanden</td>\n",
       "      <td>73</td>\n",
       "      <td>Klus</td>\n",
       "      <td>7302</td>\n",
       "      <td>POLYGON ((8.57281 47.35806, 8.57278 47.35807, ...</td>\n",
       "    </tr>\n",
       "  </tbody>\n",
       "</table>\n",
       "</div>"
      ],
      "text/plain": [
       "                    id    kname  knr  objectid objid       qname  qnr   stzname  stznr  \\\n",
       "0  adm_statzonen_map.1  Kreis 7    7         1   154  Hirslanden   73  Hegibach   7303   \n",
       "1  adm_statzonen_map.2  Kreis 7    7         2    89  Hirslanden   73      Klus   7302   \n",
       "\n",
       "                                            geometry  \n",
       "0  POLYGON ((8.55670 47.36406, 8.55682 47.36410, ...  \n",
       "1  POLYGON ((8.57281 47.35806, 8.57278 47.35807, ...  "
      ]
     },
     "execution_count": 45,
     "metadata": {},
     "output_type": "execute_result"
    }
   ],
   "source": [
    "# Read abt. Geopandas https://geopandas.org/docs/user_guide/io.html\n",
    "geojson_url_statzonen = \"https://www.ogd.stadt-zuerich.ch/wfs/geoportal/Statistische_Zonen?service=WFS&version=1.1.0&request=GetFeature&outputFormat=GeoJSON&typename=adm_statzonen_map\"\n",
    "adm_statzonen_map = gpd.read_file(geojson_url_statzonen)\n",
    "\n",
    "adm_statzonen_map.head(2)\n"
   ]
  },
  {
   "cell_type": "markdown",
   "metadata": {},
   "source": [
    "#### Statistische Quartiere"
   ]
  },
  {
   "cell_type": "code",
   "execution_count": 46,
   "metadata": {},
   "outputs": [
    {
     "data": {
      "text/html": [
       "<div>\n",
       "<style scoped>\n",
       "    .dataframe tbody tr th:only-of-type {\n",
       "        vertical-align: middle;\n",
       "    }\n",
       "\n",
       "    .dataframe tbody tr th {\n",
       "        vertical-align: top;\n",
       "    }\n",
       "\n",
       "    .dataframe thead th {\n",
       "        text-align: right;\n",
       "    }\n",
       "</style>\n",
       "<table border=\"1\" class=\"dataframe\">\n",
       "  <thead>\n",
       "    <tr style=\"text-align: right;\">\n",
       "      <th></th>\n",
       "      <th>id</th>\n",
       "      <th>kname</th>\n",
       "      <th>knr</th>\n",
       "      <th>objectid</th>\n",
       "      <th>objid</th>\n",
       "      <th>qname</th>\n",
       "      <th>qnr</th>\n",
       "      <th>geometry</th>\n",
       "    </tr>\n",
       "  </thead>\n",
       "  <tbody>\n",
       "    <tr>\n",
       "      <th>0</th>\n",
       "      <td>adm_statistische_quartiere_map.1</td>\n",
       "      <td>Kreis 7</td>\n",
       "      <td>7</td>\n",
       "      <td>1</td>\n",
       "      <td>34</td>\n",
       "      <td>Hirslanden</td>\n",
       "      <td>73</td>\n",
       "      <td>POLYGON ((8.55670 47.36406, 8.55682 47.36410, ...</td>\n",
       "    </tr>\n",
       "    <tr>\n",
       "      <th>1</th>\n",
       "      <td>adm_statistische_quartiere_map.2</td>\n",
       "      <td>Kreis 8</td>\n",
       "      <td>8</td>\n",
       "      <td>2</td>\n",
       "      <td>33</td>\n",
       "      <td>Weinegg</td>\n",
       "      <td>83</td>\n",
       "      <td>POLYGON ((8.55670 47.36405, 8.55672 47.36403, ...</td>\n",
       "    </tr>\n",
       "  </tbody>\n",
       "</table>\n",
       "</div>"
      ],
      "text/plain": [
       "                                 id    kname  knr  objectid objid       qname  qnr  \\\n",
       "0  adm_statistische_quartiere_map.1  Kreis 7    7         1    34  Hirslanden   73   \n",
       "1  adm_statistische_quartiere_map.2  Kreis 8    8         2    33     Weinegg   83   \n",
       "\n",
       "                                            geometry  \n",
       "0  POLYGON ((8.55670 47.36406, 8.55682 47.36410, ...  \n",
       "1  POLYGON ((8.55670 47.36405, 8.55672 47.36403, ...  "
      ]
     },
     "execution_count": 46,
     "metadata": {},
     "output_type": "execute_result"
    }
   ],
   "source": [
    "geojson_url_quartiere = \"https://www.ogd.stadt-zuerich.ch/wfs/geoportal/Statistische_Quartiere?service=WFS&version=1.1.0&request=GetFeature&outputFormat=GeoJSON&typename=adm_statistische_quartiere_map\"\n",
    "df_adm_statistische_quartiere_map = gpd.read_file(geojson_url_quartiere)\n",
    "\n",
    "df_adm_statistische_quartiere_map.head(2)\n"
   ]
  },
  {
   "cell_type": "markdown",
   "metadata": {},
   "source": [
    "### Teste LeafMap\n",
    "\n",
    "Mehr Infos: https://leafmap.org/leafmap/"
   ]
  },
  {
   "cell_type": "code",
   "execution_count": 47,
   "metadata": {},
   "outputs": [
    {
     "data": {
      "application/vnd.jupyter.widget-view+json": {
       "model_id": "f938c7f52f8449db8cdedb6d94263d72",
       "version_major": 2,
       "version_minor": 0
      },
      "text/plain": [
       "Map(center=[20, 0], controls=(ZoomControl(options=['position', 'zoom_in_text', 'zoom_in_title', 'zoom_out_text…"
      ]
     },
     "metadata": {},
     "output_type": "display_data"
    }
   ],
   "source": [
    "m = leafmap.Map()\n",
    "\n",
    "\n",
    "#m.add_geojson(geojson_url_kreise, layer_name=\"adm_stadtkreise_v\", fill_colors=['red', 'yellow', 'green', 'orange'], info_mode=True)\n",
    "m.add_gdf(df_adm_statistische_quartiere_map, layer_name='adm_statistische_quartiere_map', style={}, hover_style={}, style_callback=None, fill_colors=['black'], info_mode='on_hover', zoom_to_layer=True)\n",
    "m.add_gdf(adm_stadtkreise_v, layer_name='adm_stadtkreise_v', style={}, hover_style={}, style_callback=None, fill_colors=['none'], info_mode='on_hover', zoom_to_layer=False)\n",
    "\n",
    "m.add_legend(title='Legende', legend_dict=None, labels=None, colors=None, position='bottomright', builtin_legend=None, layer_name='adm_statistische_quartiere_map')\n",
    "m"
   ]
  },
  {
   "cell_type": "markdown",
   "metadata": {},
   "source": [
    "### Joins\n",
    "Joine die importierten statistischen Daten des aktuellen Jahres zum Geodatensatz:\n",
    "\n",
    "*Siehe dazu Doku zu [Geopandas](https://geopandas.org/docs/user_guide/mergingdata.html)*"
   ]
  },
  {
   "cell_type": "code",
   "execution_count": 38,
   "metadata": {},
   "outputs": [
    {
     "data": {
      "text/plain": [
       "Quartier_Name      object\n",
       "Quartier_Nummer     int64\n",
       "Medianqmp           int64\n",
       "Zonenart           object\n",
       "Anzahl_HAE         object\n",
       "dtype: object"
      ]
     },
     "execution_count": 38,
     "metadata": {},
     "output_type": "execute_result"
    }
   ],
   "source": [
    "data2betested.dtypes"
   ]
  },
  {
   "cell_type": "code",
   "execution_count": null,
   "metadata": {},
   "outputs": [],
   "source": [
    "myAgg = data2betested.loc[\"2021\"]  \\\n",
    "    .groupby(['QuarLang', 'QuarCd']) \\\n",
    "    .agg(sum_Whg_abgebrochen=('Whg_abgebrochen', 'sum'),sum_Whg_fertigerstellt=('Whg_fertigerstellt', 'sum')) \\\n",
    "    .sort_values('sum_Whg_abgebrochen', ascending=False) \n",
    "\n",
    "myAgg.reset_index().head(1)\n"
   ]
  },
  {
   "cell_type": "code",
   "execution_count": 40,
   "metadata": {},
   "outputs": [
    {
     "data": {
      "text/html": [
       "<div>\n",
       "<style scoped>\n",
       "    .dataframe tbody tr th:only-of-type {\n",
       "        vertical-align: middle;\n",
       "    }\n",
       "\n",
       "    .dataframe tbody tr th {\n",
       "        vertical-align: top;\n",
       "    }\n",
       "\n",
       "    .dataframe thead th {\n",
       "        text-align: right;\n",
       "    }\n",
       "</style>\n",
       "<table border=\"1\" class=\"dataframe\">\n",
       "  <thead>\n",
       "    <tr style=\"text-align: right;\">\n",
       "      <th></th>\n",
       "      <th>geometry</th>\n",
       "      <th>QuarCd</th>\n",
       "      <th>qname</th>\n",
       "      <th>knr</th>\n",
       "    </tr>\n",
       "  </thead>\n",
       "  <tbody>\n",
       "    <tr>\n",
       "      <th>0</th>\n",
       "      <td>POLYGON ((8.55670 47.36406, 8.55682 47.36410, ...</td>\n",
       "      <td>73</td>\n",
       "      <td>Hirslanden</td>\n",
       "      <td>7</td>\n",
       "    </tr>\n",
       "  </tbody>\n",
       "</table>\n",
       "</div>"
      ],
      "text/plain": [
       "                                            geometry  QuarCd       qname  knr\n",
       "0  POLYGON ((8.55670 47.36406, 8.55682 47.36410, ...      73  Hirslanden    7"
      ]
     },
     "execution_count": 40,
     "metadata": {},
     "output_type": "execute_result"
    }
   ],
   "source": [
    "# Rename attribute stznr to StatZoneSort, so the IDs have the same name\n",
    "gdf_adm_statistische_quartiere_map = df_adm_statistische_quartiere_map[['geometry', 'qnr', 'qname', 'knr']].rename(columns={'qnr': 'QuarCd'})\n",
    "gdf_adm_statistische_quartiere_map.head(1)"
   ]
  },
  {
   "cell_type": "code",
   "execution_count": null,
   "metadata": {},
   "outputs": [],
   "source": [
    "# Merge with `merge` method on shared variable (stznr und StatZoneSort):\n",
    "gdf_adm_statistische_quartiere_map_joined = gdf_adm_statistische_quartiere_map.merge(myAgg, on='QuarCd')\n",
    "gdf_adm_statistische_quartiere_map_joined.head(2)"
   ]
  },
  {
   "cell_type": "code",
   "execution_count": null,
   "metadata": {},
   "outputs": [],
   "source": [
    "# Plot by StatQuartiere\n",
    "# Weitere Schemes: scheme='quantiles', scheme='fisherjenks', scheme='natural_breaks',\n",
    "\n",
    "gdf_adm_statistische_quartiere_map_joined.plot(column='sum_Whg_fertigerstellt', cmap='viridis', scheme='natural_breaks', legend=True )\n",
    "gdf_adm_statistische_quartiere_map_joined.plot(column='sum_Whg_abgebrochen', cmap='viridis', scheme='natural_breaks', legend=True )\n",
    "\n",
    "#gdf_adm_statistische_quartiere_map_joined.plot(column='sum_Whg_abgebrochen', cmap='plasma', scheme='fisherjenks', legend=True )\n",
    "#gdf_adm_statistische_quartiere_map_joined.plot(column='sum_Whg_fertigerstellt', cmap='cool', scheme='quantiles', legend=True )\n",
    "#scheme werte: https://matplotlib.org/2.0.2/users/colormaps.html\n",
    "\n",
    "#\n",
    "#Neuere Gallerie: https://matplotlib.org/stable/gallery/index.html"
   ]
  },
  {
   "cell_type": "code",
   "execution_count": null,
   "metadata": {},
   "outputs": [],
   "source": [
    "fig, ax = plt.subplots(1, 1)\n",
    "\n",
    "gdf_adm_statistische_quartiere_map_joined.plot(column='sum_Whg_abgebrochen', ax=ax, legend=True, legend_kwds={'label': \"Anzahl abgebrochene Wohnungen 2021\",'orientation': \"horizontal\"})\n",
    "gdf_adm_statistische_quartiere_map_joined.plot(column='sum_Whg_fertigerstellt', ax=ax, legend=False, legend_kwds={'label': \"Anzahl fertigerstellte Wohnungen 2021\",'orientation': \"horizontal\"})\n",
    "\n",
    "#gdf_adm_statistische_quartiere_map_joined.plot(column='sum_Whg_abgebrochen', cmap='viridis', scheme='natural_breaks', legend=True , ax=ax, legend_kwds={'label': \"Anzahl Personen\",'orientation': \"horizontal\"})"
   ]
  },
  {
   "cell_type": "markdown",
   "metadata": {},
   "source": [
    "Noch zu prüfen, folgendes schöne Beispiel: https://docs.bokeh.org/en/latest/docs/user_guide/interaction/legends.html\n",
    "\n",
    "Konkrete Beispiele von Bookeh in Jupyter NB: https://docs.bokeh.org/en/latest/docs/user_guide/jupyter.html"
   ]
  },
  {
   "cell_type": "markdown",
   "metadata": {},
   "source": [
    "**Sharepoint als gecheckt markieren!**"
   ]
  },
  {
   "cell_type": "markdown",
   "metadata": {},
   "source": [
    "Record auf Sharepoint: **[Link](https://kollaboration.intranet.stzh.ch/orga/ssz-produkte/Lists/SASA_Outputs/DispForm.aspx?ID=572&ContentTypeId=0x0100988EAF029F1EFE4CA675F53C32A5D53D01006DBC563E6FBE9E4EB6FDC780799752E1)**"
   ]
  },
  {
   "cell_type": "code",
   "execution_count": null,
   "metadata": {},
   "outputs": [],
   "source": []
  },
  {
   "cell_type": "raw",
   "metadata": {},
   "source": []
  },
  {
   "cell_type": "code",
   "execution_count": null,
   "metadata": {},
   "outputs": [],
   "source": []
  }
 ],
 "metadata": {
  "kernelspec": {
   "display_name": "Python 3 (ipykernel)",
   "language": "python",
   "name": "python3"
  },
  "language_info": {
   "codemirror_mode": {
    "name": "ipython",
    "version": 3
   },
   "file_extension": ".py",
   "mimetype": "text/x-python",
   "name": "python",
   "nbconvert_exporter": "python",
   "pygments_lexer": "ipython3",
   "version": "3.7.11"
  }
 },
 "nbformat": 4,
 "nbformat_minor": 4
}
