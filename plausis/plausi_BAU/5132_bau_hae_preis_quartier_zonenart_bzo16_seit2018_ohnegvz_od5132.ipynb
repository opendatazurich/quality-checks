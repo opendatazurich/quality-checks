{
 "cells": [
  {
   "cell_type": "markdown",
   "metadata": {},
   "source": [
    "# Testing\n",
    "### Grundstückspreise (Median) der im Freihandkauf umgesetzten bebauten Grundstücke abzüglich Gebäudeversicherungswert nach Stadtquartier und Zonenart (nur BZO16), seit 2018.\n",
    "\n",
    "Diese Daten beinhalten die Medianpreise pro Quadratmeter Bauland abzüglich des Gebäudeversicherungswerts der Bebauung von gehandelten Grundstücken in der Stadt Zürich nach Handänderungsjahr, Stadtquartier und Zonenart. Aufgrund der Einführung der neuen Bau- und Zonenordnung im November 2018 beginnt die Zeitreihe erst im Dezember 2018.\n",
    "\n",
    "Datum: 03.02.2022"
   ]
  },
  {
   "cell_type": "markdown",
   "metadata": {},
   "source": [
    "### Importiere die notwendigen Packages"
   ]
  },
  {
   "cell_type": "code",
   "execution_count": 12,
   "metadata": {},
   "outputs": [],
   "source": [
    "#%pip install geopandas altair fiona requests folium mplleaflet contextily seaborn datetime plotly"
   ]
  },
  {
   "cell_type": "code",
   "execution_count": 13,
   "metadata": {},
   "outputs": [],
   "source": [
    "import pandas as pd\n",
    "import pivottablejs\n",
    "from pivottablejs import pivot_ui\n",
    "import numpy as np\n",
    "import altair as alt\n",
    "import matplotlib.pyplot as plt\n",
    "#from datetime import datetime\n",
    "import datetime\n",
    "import geopandas as gpd\n",
    "import folium \n",
    "import plotly.express as px\n",
    "import seaborn as sns\n"
   ]
  },
  {
   "cell_type": "markdown",
   "metadata": {},
   "source": [
    "Definiere Settings. Hier das Zahlenformat von Float-Werten (z.B. *'{:,.2f}'.format* mit Komma als Tausenderzeichen), "
   ]
  },
  {
   "cell_type": "code",
   "execution_count": 14,
   "metadata": {},
   "outputs": [],
   "source": [
    "pd.options.display.float_format = '{:.0f}'.format\n",
    "pd.set_option('display.width', 100)\n",
    "pd.set_option('display.max_columns', 15)"
   ]
  },
  {
   "cell_type": "markdown",
   "metadata": {},
   "source": [
    "### Zeitvariabeln\n",
    "Bestimme den aktuellst geladenen Monat. Hier ist es der Stand vor 2 Monaten. \n",
    "Bestimme noch weitere evt. sinnvolle Zeitvariabeln.\n",
    "\n",
    "Zum Unterschied zwischen import datetime und from datedtime import datetime, siehe https://stackoverflow.com/questions/15707532/import-datetime-v-s-from-datetime-import-datetime\n",
    "\n",
    "Zuerst die Zeitvariabeln als Strings"
   ]
  },
  {
   "cell_type": "code",
   "execution_count": 15,
   "metadata": {},
   "outputs": [],
   "source": [
    "#today_date = datetime.date.today()\n",
    "#date_time = datetime.datetime.strptime(date_time_string, '%Y-%m-%d %H:%M')\n",
    "now = datetime.date.today()\n",
    "date_today = now.strftime(\"%Y-%m-%d\")\n",
    "year_today = now.strftime(\"%Y\")\n",
    "month_today = now.strftime(\"%m\")\n",
    "day_today = now.strftime(\"%d\")\n"
   ]
  },
  {
   "cell_type": "markdown",
   "metadata": {},
   "source": [
    "Und hier noch die Zeitvariabeln als Integers:\n",
    "- `aktuellesJahr`\n",
    "- `aktuellerMonat`: Der gerade jetzt aktuelle Monat\n",
    "- `selectedMonat`: Der aktuellste Monat in den Daten. In der Regel zwei Monate her."
   ]
  },
  {
   "cell_type": "code",
   "execution_count": 16,
   "metadata": {},
   "outputs": [
    {
     "name": "stdout",
     "output_type": "stream",
     "text": [
      "2022 2 datenstand:  0 time.struct_time(tm_year=2022, tm_mon=2, tm_mday=7, tm_hour=0, tm_min=0, tm_sec=0, tm_wday=0, tm_yday=38, tm_isdst=-1)\n"
     ]
    }
   ],
   "source": [
    "#now = datetime.now() \n",
    "int_times = now.timetuple()\n",
    "\n",
    "aktuellesJahr = int_times[0]\n",
    "aktuellerMonat = int_times[1]\n",
    "selectedMonat = int_times[1]-2\n",
    "\n",
    "print(aktuellesJahr, \n",
    "      aktuellerMonat,\n",
    "    'datenstand: ', selectedMonat,\n",
    "     int_times)\n"
   ]
  },
  {
   "cell_type": "markdown",
   "metadata": {},
   "source": [
    "Berechne die Variable Epoche um später das SAS-Datum in ein Unix-Datum umzuwandeln. Bei SAS beginnt die Epoche am 1.1.1960. Bei Unix am 1.1.1970.\n",
    "Diese Variable wird beim CSV-Import benötigt."
   ]
  },
  {
   "cell_type": "code",
   "execution_count": 17,
   "metadata": {},
   "outputs": [],
   "source": [
    "epoch = datetime.datetime(1960, 1, 1)"
   ]
  },
  {
   "cell_type": "markdown",
   "metadata": {
    "tags": []
   },
   "source": [
    "### Importiere einen Datensatz \n",
    "\n",
    "- Beachte dabei die Notation des Pfades...\n",
    "- Definiere mal aktuell noch keine weiteren Parameter beim Import"
   ]
  },
  {
   "cell_type": "markdown",
   "metadata": {},
   "source": [
    "**Dataset auf INTEG Datenkatalog**:  https://data.integ.stadt-zuerich.ch/dataset/int_dwh_bau_hae_preis_quartier_zonenart_bzo16_seit2018_ohnegvz_od5132\n",
    "\n",
    "**Dataset auf PROD Datenkatalog**:  https://data.stadt-zuerich.ch/dataset/bau_hae_preis_quartier_zonenart_bzo16_seit2018_ohnegvz_od5132\n"
   ]
  },
  {
   "cell_type": "code",
   "execution_count": 18,
   "metadata": {},
   "outputs": [
    {
     "name": "stdout",
     "output_type": "stream",
     "text": [
      "int\n"
     ]
    }
   ],
   "source": [
    "#Die Datasets sind nur zum Testen auf INT-DWH-Dropzone. Wenn der Test vorbei ist, sind sie auf PROD. \n",
    "# Über den Status kann man einfach switchen\n",
    "\n",
    "status = \"int\";\n",
    "print(status)"
   ]
  },
  {
   "cell_type": "code",
   "execution_count": 19,
   "metadata": {
    "tags": []
   },
   "outputs": [
    {
     "name": "stdout",
     "output_type": "stream",
     "text": [
      "\\\\szh\\ssz\\applikationen\\OGD_Dropzone\\INT_DWH\\bau_hae_preis_quartier_zonenart_bzo16_seit2018_ohnegvz_od5132\\BAU513OD5132.csv\n"
     ]
    }
   ],
   "source": [
    "# Filepath\n",
    "if status == \"prod\":\n",
    "    fp = r\"https://data.stadt-zuerich.ch/dataset/bau_hae_preis_quartier_zonenart_bzo16_seit2018_ohnegvz_od5132/download/BAU513OD5132.csv\"\n",
    "else:\n",
    "    fp = r\"\\\\szh\\ssz\\applikationen\\OGD_Dropzone\\INT_DWH\\bau_hae_preis_quartier_zonenart_bzo16_seit2018_ohnegvz_od5132\\BAU513OD5132.csv\"   \n",
    "\n",
    "print(fp)"
   ]
  },
  {
   "cell_type": "code",
   "execution_count": 20,
   "metadata": {},
   "outputs": [
    {
     "name": "stdout",
     "output_type": "stream",
     "text": [
      "done\n"
     ]
    }
   ],
   "source": [
    "# Read the data\n",
    "data2betested = pd.read_csv(\n",
    "    fp\n",
    "    , sep=','\n",
    "    ,parse_dates=['Jahr']\n",
    "    # KONVERTIERE DAS SAS DATUM IN EIN UNIXDATUM UND FORMATIERE ES\n",
    "    #, date_parser=lambda s: epoch + datetime.timedelta(days=int(s))\n",
    "    ,low_memory=False    \n",
    "    )\n",
    "\n",
    "print('done')"
   ]
  },
  {
   "cell_type": "markdown",
   "metadata": {},
   "source": [
    "In der Folge ein paar erste Tests:"
   ]
  },
  {
   "cell_type": "markdown",
   "metadata": {},
   "source": [
    " - 1) Zeige eine kurze Vorschau der importierten Daten\n",
    " - 2) Weise die Datentypen aus\n",
    " - 3) Zeige die Shape (Umfang) des Datensatzes an"
   ]
  },
  {
   "cell_type": "code",
   "execution_count": 21,
   "metadata": {},
   "outputs": [],
   "source": [
    "#data2betested.head(6)"
   ]
  },
  {
   "cell_type": "code",
   "execution_count": 22,
   "metadata": {},
   "outputs": [
    {
     "data": {
      "text/plain": [
       "Jahr               datetime64[ns]\n",
       "Quartier_Name              object\n",
       "Quartier_Nummer             int64\n",
       "Medianqmp                   int64\n",
       "Zonenart                   object\n",
       "Anzahl_HAE                 object\n",
       "dtype: object"
      ]
     },
     "execution_count": 22,
     "metadata": {},
     "output_type": "execute_result"
    }
   ],
   "source": [
    "data2betested.dtypes"
   ]
  },
  {
   "cell_type": "code",
   "execution_count": 23,
   "metadata": {},
   "outputs": [
    {
     "data": {
      "text/plain": [
       "(364, 6)"
      ]
     },
     "execution_count": 23,
     "metadata": {},
     "output_type": "execute_result"
    }
   ],
   "source": [
    "data2betested.shape"
   ]
  },
  {
   "cell_type": "markdown",
   "metadata": {},
   "source": [
    "Beschreibe einzelne Attribute"
   ]
  },
  {
   "cell_type": "code",
   "execution_count": 24,
   "metadata": {},
   "outputs": [
    {
     "data": {
      "text/html": [
       "<div>\n",
       "<style scoped>\n",
       "    .dataframe tbody tr th:only-of-type {\n",
       "        vertical-align: middle;\n",
       "    }\n",
       "\n",
       "    .dataframe tbody tr th {\n",
       "        vertical-align: top;\n",
       "    }\n",
       "\n",
       "    .dataframe thead th {\n",
       "        text-align: right;\n",
       "    }\n",
       "</style>\n",
       "<table border=\"1\" class=\"dataframe\">\n",
       "  <thead>\n",
       "    <tr style=\"text-align: right;\">\n",
       "      <th></th>\n",
       "      <th>Quartier_Nummer</th>\n",
       "      <th>Medianqmp</th>\n",
       "    </tr>\n",
       "  </thead>\n",
       "  <tbody>\n",
       "    <tr>\n",
       "      <th>count</th>\n",
       "      <td>364</td>\n",
       "      <td>364</td>\n",
       "    </tr>\n",
       "    <tr>\n",
       "      <th>mean</th>\n",
       "      <td>71</td>\n",
       "      <td>11666</td>\n",
       "    </tr>\n",
       "    <tr>\n",
       "      <th>std</th>\n",
       "      <td>34</td>\n",
       "      <td>15370</td>\n",
       "    </tr>\n",
       "    <tr>\n",
       "      <th>min</th>\n",
       "      <td>11</td>\n",
       "      <td>410</td>\n",
       "    </tr>\n",
       "    <tr>\n",
       "      <th>25%</th>\n",
       "      <td>34</td>\n",
       "      <td>4250</td>\n",
       "    </tr>\n",
       "    <tr>\n",
       "      <th>50%</th>\n",
       "      <td>73</td>\n",
       "      <td>7165</td>\n",
       "    </tr>\n",
       "    <tr>\n",
       "      <th>75%</th>\n",
       "      <td>101</td>\n",
       "      <td>14122</td>\n",
       "    </tr>\n",
       "    <tr>\n",
       "      <th>max</th>\n",
       "      <td>123</td>\n",
       "      <td>161420</td>\n",
       "    </tr>\n",
       "  </tbody>\n",
       "</table>\n",
       "</div>"
      ],
      "text/plain": [
       "       Quartier_Nummer  Medianqmp\n",
       "count              364        364\n",
       "mean                71      11666\n",
       "std                 34      15370\n",
       "min                 11        410\n",
       "25%                 34       4250\n",
       "50%                 73       7165\n",
       "75%                101      14122\n",
       "max                123     161420"
      ]
     },
     "execution_count": 24,
     "metadata": {},
     "output_type": "execute_result"
    }
   ],
   "source": [
    "data2betested.describe()"
   ]
  },
  {
   "cell_type": "markdown",
   "metadata": {},
   "source": [
    "Wie viele Nullwerte gibt es im Datensatz?"
   ]
  },
  {
   "cell_type": "code",
   "execution_count": 25,
   "metadata": {
    "scrolled": true
   },
   "outputs": [
    {
     "data": {
      "text/plain": [
       "Jahr               0\n",
       "Quartier_Name      0\n",
       "Quartier_Nummer    0\n",
       "Medianqmp          0\n",
       "Zonenart           0\n",
       "Anzahl_HAE         0\n",
       "dtype: int64"
      ]
     },
     "execution_count": 25,
     "metadata": {},
     "output_type": "execute_result"
    }
   ],
   "source": [
    "data2betested.isnull().sum()"
   ]
  },
  {
   "cell_type": "markdown",
   "metadata": {
    "colab_type": "text",
    "id": "1dTPVmmsgOVx"
   },
   "source": [
    "### Verwende das Datum als Index\n",
    "\n",
    "While we did already parse the `datetime` column into the respective datetime type, it currently is just a regular column. \n",
    "**To enable quick and convenient queries and aggregations, we need to turn it into the index of the DataFrame**"
   ]
  },
  {
   "cell_type": "code",
   "execution_count": 26,
   "metadata": {},
   "outputs": [],
   "source": [
    "data2betested = data2betested.set_index(\"Jahr\")"
   ]
  },
  {
   "cell_type": "code",
   "execution_count": 27,
   "metadata": {},
   "outputs": [
    {
     "name": "stdout",
     "output_type": "stream",
     "text": [
      "<class 'pandas.core.frame.DataFrame'>\n",
      "DatetimeIndex: 364 entries, 2021-01-01 to 2021-01-01\n",
      "Data columns (total 5 columns):\n",
      " #   Column           Non-Null Count  Dtype \n",
      "---  ------           --------------  ----- \n",
      " 0   Quartier_Name    364 non-null    object\n",
      " 1   Quartier_Nummer  364 non-null    int64 \n",
      " 2   Medianqmp        364 non-null    int64 \n",
      " 3   Zonenart         364 non-null    object\n",
      " 4   Anzahl_HAE       364 non-null    object\n",
      "dtypes: int64(2), object(3)\n",
      "memory usage: 17.1+ KB\n"
     ]
    },
    {
     "data": {
      "text/plain": [
       "Int64Index([1], dtype='int64', name='Jahr')"
      ]
     },
     "execution_count": 27,
     "metadata": {},
     "output_type": "execute_result"
    }
   ],
   "source": [
    "data2betested.info()\n",
    "data2betested.index.day.unique()"
   ]
  },
  {
   "cell_type": "markdown",
   "metadata": {},
   "source": [
    "### Einfache Visualisierungen zur Plausi"
   ]
  },
  {
   "cell_type": "markdown",
   "metadata": {},
   "source": [
    "Exploriere die Daten mit Pivottable.JS"
   ]
  },
  {
   "cell_type": "code",
   "execution_count": 28,
   "metadata": {},
   "outputs": [
    {
     "data": {
      "text/html": [
       "\n",
       "        <iframe\n",
       "            width=\"100%\"\n",
       "            height=\"500\"\n",
       "            src=\"pivottablejs.html\"\n",
       "            frameborder=\"0\"\n",
       "            allowfullscreen\n",
       "        ></iframe>\n",
       "        "
      ],
      "text/plain": [
       "<IPython.lib.display.IFrame at 0x1e050b6fd90>"
      ]
     },
     "execution_count": 28,
     "metadata": {},
     "output_type": "execute_result"
    }
   ],
   "source": [
    "from pivottablejs import pivot_ui\n",
    "\n",
    "pivot_ui(data2betested)"
   ]
  },
  {
   "cell_type": "markdown",
   "metadata": {},
   "source": [
    "### Zeitpunkte und Zeiträume abfragen\n",
    "\n",
    "A particular powerful feature of the Pandas DataFrame is its indexing capability that also works using time-based entities, such as dates and times. We have already created the index above, so let's put it to use."
   ]
  },
  {
   "cell_type": "code",
   "execution_count": 29,
   "metadata": {},
   "outputs": [
    {
     "data": {
      "text/html": [
       "<div>\n",
       "<style scoped>\n",
       "    .dataframe tbody tr th:only-of-type {\n",
       "        vertical-align: middle;\n",
       "    }\n",
       "\n",
       "    .dataframe tbody tr th {\n",
       "        vertical-align: top;\n",
       "    }\n",
       "\n",
       "    .dataframe thead th {\n",
       "        text-align: right;\n",
       "    }\n",
       "</style>\n",
       "<table border=\"1\" class=\"dataframe\">\n",
       "  <thead>\n",
       "    <tr style=\"text-align: right;\">\n",
       "      <th></th>\n",
       "      <th>Quartier_Name</th>\n",
       "      <th>Quartier_Nummer</th>\n",
       "      <th>Medianqmp</th>\n",
       "      <th>Zonenart</th>\n",
       "      <th>Anzahl_HAE</th>\n",
       "    </tr>\n",
       "    <tr>\n",
       "      <th>Jahr</th>\n",
       "      <th></th>\n",
       "      <th></th>\n",
       "      <th></th>\n",
       "      <th></th>\n",
       "      <th></th>\n",
       "    </tr>\n",
       "  </thead>\n",
       "  <tbody>\n",
       "    <tr>\n",
       "      <th>2021-01-01</th>\n",
       "      <td>Affoltern</td>\n",
       "      <td>111</td>\n",
       "      <td>2740</td>\n",
       "      <td>Kernzone</td>\n",
       "      <td>1–3</td>\n",
       "    </tr>\n",
       "    <tr>\n",
       "      <th>2021-01-01</th>\n",
       "      <td>Affoltern</td>\n",
       "      <td>111</td>\n",
       "      <td>3910</td>\n",
       "      <td>Wohnzone 3</td>\n",
       "      <td>20</td>\n",
       "    </tr>\n",
       "  </tbody>\n",
       "</table>\n",
       "</div>"
      ],
      "text/plain": [
       "           Quartier_Name  Quartier_Nummer  Medianqmp    Zonenart Anzahl_HAE\n",
       "Jahr                                                                       \n",
       "2021-01-01     Affoltern              111       2740    Kernzone        1–3\n",
       "2021-01-01     Affoltern              111       3910  Wohnzone 3         20"
      ]
     },
     "execution_count": 29,
     "metadata": {},
     "output_type": "execute_result"
    }
   ],
   "source": [
    "data2betested.loc[\"2021\"].head(2)"
   ]
  },
  {
   "cell_type": "markdown",
   "metadata": {},
   "source": [
    "### Visualisierungen nach Zeitausschnitten"
   ]
  },
  {
   "cell_type": "markdown",
   "metadata": {
    "tags": []
   },
   "source": [
    "#### Entwicklung der Medianquadratmeterwerte in Alt-Wiedikon nach Zonenart seit 2009"
   ]
  },
  {
   "cell_type": "code",
   "execution_count": 30,
   "metadata": {},
   "outputs": [],
   "source": [
    "#data2betested.query('Quartier_Nummer == 33')"
   ]
  },
  {
   "cell_type": "code",
   "execution_count": 31,
   "metadata": {},
   "outputs": [
    {
     "data": {
      "text/html": [
       "\n",
       "<div id=\"altair-viz-8343074e9fc64ddaafe3d54b48640851\"></div>\n",
       "<script type=\"text/javascript\">\n",
       "  (function(spec, embedOpt){\n",
       "    let outputDiv = document.currentScript.previousElementSibling;\n",
       "    if (outputDiv.id !== \"altair-viz-8343074e9fc64ddaafe3d54b48640851\") {\n",
       "      outputDiv = document.getElementById(\"altair-viz-8343074e9fc64ddaafe3d54b48640851\");\n",
       "    }\n",
       "    const paths = {\n",
       "      \"vega\": \"https://cdn.jsdelivr.net/npm//vega@5?noext\",\n",
       "      \"vega-lib\": \"https://cdn.jsdelivr.net/npm//vega-lib?noext\",\n",
       "      \"vega-lite\": \"https://cdn.jsdelivr.net/npm//vega-lite@4.8.1?noext\",\n",
       "      \"vega-embed\": \"https://cdn.jsdelivr.net/npm//vega-embed@6?noext\",\n",
       "    };\n",
       "\n",
       "    function loadScript(lib) {\n",
       "      return new Promise(function(resolve, reject) {\n",
       "        var s = document.createElement('script');\n",
       "        s.src = paths[lib];\n",
       "        s.async = true;\n",
       "        s.onload = () => resolve(paths[lib]);\n",
       "        s.onerror = () => reject(`Error loading script: ${paths[lib]}`);\n",
       "        document.getElementsByTagName(\"head\")[0].appendChild(s);\n",
       "      });\n",
       "    }\n",
       "\n",
       "    function showError(err) {\n",
       "      outputDiv.innerHTML = `<div class=\"error\" style=\"color:red;\">${err}</div>`;\n",
       "      throw err;\n",
       "    }\n",
       "\n",
       "    function displayChart(vegaEmbed) {\n",
       "      vegaEmbed(outputDiv, spec, embedOpt)\n",
       "        .catch(err => showError(`Javascript Error: ${err.message}<br>This usually means there's a typo in your chart specification. See the javascript console for the full traceback.`));\n",
       "    }\n",
       "\n",
       "    if(typeof define === \"function\" && define.amd) {\n",
       "      requirejs.config({paths});\n",
       "      require([\"vega-embed\"], displayChart, err => showError(`Error loading script: ${err.message}`));\n",
       "    } else if (typeof vegaEmbed === \"function\") {\n",
       "      displayChart(vegaEmbed);\n",
       "    } else {\n",
       "      loadScript(\"vega\")\n",
       "        .then(() => loadScript(\"vega-lite\"))\n",
       "        .then(() => loadScript(\"vega-embed\"))\n",
       "        .catch(showError)\n",
       "        .then(() => displayChart(vegaEmbed));\n",
       "    }\n",
       "  })({\"config\": {\"view\": {\"continuousWidth\": 400, \"continuousHeight\": 300}}, \"layer\": [{\"mark\": \"line\", \"encoding\": {\"color\": {\"type\": \"nominal\", \"field\": \"Zonenart\", \"legend\": {\"orient\": \"right\", \"title\": \"HAE Grundst\\u00fccktypen\"}}, \"size\": {\"condition\": {\"value\": 0.5, \"selection\": {\"not\": \"selector001\"}}, \"value\": 4}, \"tooltip\": [{\"type\": \"temporal\", \"field\": \"Jahr\"}, {\"type\": \"nominal\", \"field\": \"Quartier_Name\"}, {\"type\": \"nominal\", \"field\": \"Zonenart\"}, {\"type\": \"quantitative\", \"field\": \"Medianqmp\"}], \"x\": {\"type\": \"temporal\", \"axis\": {\"title\": \"Jahr\"}, \"field\": \"Jahr\"}, \"y\": {\"type\": \"quantitative\", \"axis\": {\"title\": \"Umsatzwert der Grundst\\u00fccke\"}, \"field\": \"Medianqmp\"}}, \"selection\": {\"selector002\": {\"type\": \"interval\", \"bind\": \"scales\", \"encodings\": [\"x\", \"y\"]}}, \"title\": \"Title\"}, {\"mark\": \"circle\", \"encoding\": {\"color\": {\"type\": \"nominal\", \"field\": \"Zonenart\", \"legend\": {\"orient\": \"right\", \"title\": \"HAE Grundst\\u00fccktypen\"}}, \"opacity\": {\"value\": 0.75}, \"tooltip\": [{\"type\": \"temporal\", \"field\": \"Jahr\"}, {\"type\": \"nominal\", \"field\": \"Quartier_Name\"}, {\"type\": \"nominal\", \"field\": \"Zonenart\"}, {\"type\": \"quantitative\", \"field\": \"Medianqmp\"}], \"x\": {\"type\": \"temporal\", \"axis\": {\"title\": \"Jahr\"}, \"field\": \"Jahr\"}, \"y\": {\"type\": \"quantitative\", \"axis\": {\"title\": \"Umsatzwert der Grundst\\u00fccke\"}, \"field\": \"Medianqmp\"}}, \"height\": 350, \"selection\": {\"selector001\": {\"type\": \"single\", \"on\": \"mouseover\", \"fields\": [\"Zonenart\"], \"nearest\": true}}, \"title\": \"Title\", \"width\": 750}], \"data\": {\"name\": \"data-b4b3f1c7ee6f9ab765c7edb1c92ee2e3\"}, \"$schema\": \"https://vega.github.io/schema/vega-lite/v4.8.1.json\", \"datasets\": {\"data-b4b3f1c7ee6f9ab765c7edb1c92ee2e3\": [{\"Jahr\": \"2018-01-01T00:00:00\", \"Quartier_Name\": \"Alt-Wiedikon\", \"Quartier_Nummer\": 31, \"Medianqmp\": 23490, \"Zonenart\": \"Quartiererhaltungszone\", \"Anzahl_HAE\": \"1\\u20133\"}, {\"Jahr\": \"2019-01-01T00:00:00\", \"Quartier_Name\": \"Alt-Wiedikon\", \"Quartier_Nummer\": 31, \"Medianqmp\": 16410, \"Zonenart\": \"Quartiererhaltungszone\", \"Anzahl_HAE\": \"8\"}, {\"Jahr\": \"2020-01-01T00:00:00\", \"Quartier_Name\": \"Alt-Wiedikon\", \"Quartier_Nummer\": 31, \"Medianqmp\": 12420, \"Zonenart\": \"Quartiererhaltungszone\", \"Anzahl_HAE\": \"14\"}, {\"Jahr\": \"2021-01-01T00:00:00\", \"Quartier_Name\": \"Alt-Wiedikon\", \"Quartier_Nummer\": 31, \"Medianqmp\": 19420, \"Zonenart\": \"Quartiererhaltungszone\", \"Anzahl_HAE\": \"6\"}, {\"Jahr\": \"2021-01-01T00:00:00\", \"Quartier_Name\": \"Alt-Wiedikon\", \"Quartier_Nummer\": 31, \"Medianqmp\": 6400, \"Zonenart\": \"Wohnzone 2\", \"Anzahl_HAE\": \"1\\u20133\"}, {\"Jahr\": \"2019-01-01T00:00:00\", \"Quartier_Name\": \"Alt-Wiedikon\", \"Quartier_Nummer\": 31, \"Medianqmp\": 3780, \"Zonenart\": \"Wohnzone 4\", \"Anzahl_HAE\": \"13-17\"}, {\"Jahr\": \"2020-01-01T00:00:00\", \"Quartier_Name\": \"Alt-Wiedikon\", \"Quartier_Nummer\": 31, \"Medianqmp\": 7190, \"Zonenart\": \"Wohnzone 4\", \"Anzahl_HAE\": \"12-16\"}, {\"Jahr\": \"2021-01-01T00:00:00\", \"Quartier_Name\": \"Alt-Wiedikon\", \"Quartier_Nummer\": 31, \"Medianqmp\": 2670, \"Zonenart\": \"Wohnzone 4\", \"Anzahl_HAE\": \"11-13\"}, {\"Jahr\": \"2019-01-01T00:00:00\", \"Quartier_Name\": \"Alt-Wiedikon\", \"Quartier_Nummer\": 31, \"Medianqmp\": 12080, \"Zonenart\": \"Wohnzone 5\", \"Anzahl_HAE\": \"1\\u20133\"}, {\"Jahr\": \"2020-01-01T00:00:00\", \"Quartier_Name\": \"Alt-Wiedikon\", \"Quartier_Nummer\": 31, \"Medianqmp\": 3510, \"Zonenart\": \"Wohnzone 5\", \"Anzahl_HAE\": \"4-6\"}, {\"Jahr\": \"2021-01-01T00:00:00\", \"Quartier_Name\": \"Alt-Wiedikon\", \"Quartier_Nummer\": 31, \"Medianqmp\": 12520, \"Zonenart\": \"Wohnzone 5\", \"Anzahl_HAE\": \"7\"}, {\"Jahr\": \"2019-01-01T00:00:00\", \"Quartier_Name\": \"Alt-Wiedikon\", \"Quartier_Nummer\": 31, \"Medianqmp\": 23560, \"Zonenart\": \"Zentrumszone\", \"Anzahl_HAE\": \"1\\u20133\"}, {\"Jahr\": \"2020-01-01T00:00:00\", \"Quartier_Name\": \"Alt-Wiedikon\", \"Quartier_Nummer\": 31, \"Medianqmp\": 16880, \"Zonenart\": \"Zentrumszone\", \"Anzahl_HAE\": \"1\\u20133\"}, {\"Jahr\": \"2021-01-01T00:00:00\", \"Quartier_Name\": \"Alt-Wiedikon\", \"Quartier_Nummer\": 31, \"Medianqmp\": 18160, \"Zonenart\": \"Zentrumszone\", \"Anzahl_HAE\": \"8\"}]}}, {\"mode\": \"vega-lite\"});\n",
       "</script>"
      ],
      "text/plain": [
       "alt.LayerChart(...)"
      ]
     },
     "execution_count": 31,
     "metadata": {},
     "output_type": "execute_result"
    }
   ],
   "source": [
    "highlight = alt.selection(type='single', on='mouseover', fields=['Zonenart'], nearest=True)\n",
    "#x='date:StichtagDatJahr',\n",
    "base = alt.Chart(data2betested.reset_index().query('Quartier_Nummer == 31'), title=\"Title\").encode(\n",
    "    x=alt.X('Jahr', axis=alt.Axis(title='Jahr'))# , axis=alt.Axis(format='%', title='percentage')\n",
    "    , y=alt.X('Medianqmp', axis=alt.Axis(title='Umsatzwert der Grundstücke'))\n",
    "    , color=alt.Color('Zonenart', legend=alt.Legend(title=\"HAE Grundstücktypen\", orient=\"right\"))  \n",
    "    ,tooltip=['Jahr', 'Quartier_Name','Zonenart','Medianqmp']    \n",
    ")\n",
    "points = base.mark_circle().encode(\n",
    "    opacity=alt.value(0.75)\n",
    ").add_selection(\n",
    "    highlight\n",
    ").properties(\n",
    "    width=750 , height=350\n",
    ")\n",
    "lines = base.mark_line().encode(\n",
    "    size=alt.condition(~highlight, alt.value(0.5), alt.value(4))\n",
    ").interactive()\n",
    "\n",
    "lines + points"
   ]
  },
  {
   "cell_type": "markdown",
   "metadata": {
    "tags": []
   },
   "source": [
    "#### Barcharts mit Seaborn"
   ]
  },
  {
   "cell_type": "code",
   "execution_count": 32,
   "metadata": {},
   "outputs": [],
   "source": [
    "#help(sns.catplot)     "
   ]
  },
  {
   "cell_type": "code",
   "execution_count": 33,
   "metadata": {},
   "outputs": [],
   "source": [
    "#Stile for the following sns graphs\n",
    "sns.set_theme(style=\"whitegrid\")"
   ]
  },
  {
   "cell_type": "markdown",
   "metadata": {},
   "source": [
    "##### Medianquadratmeterpreise nach Quartier und Zonenart im 2021"
   ]
  },
  {
   "cell_type": "code",
   "execution_count": 34,
   "metadata": {},
   "outputs": [],
   "source": [
    "#data2betested.dtypes"
   ]
  },
  {
   "cell_type": "code",
   "execution_count": 35,
   "metadata": {},
   "outputs": [
    {
     "data": {
      "text/plain": [
       "<seaborn.axisgrid.FacetGrid at 0x1e050badf10>"
      ]
     },
     "execution_count": 35,
     "metadata": {},
     "output_type": "execute_result"
    },
    {
     "data": {
      "image/png": "[encoded data removed]",
      "text/plain": [
       "<Figure size 1234.97x360 with 1 Axes>"
      ]
     },
     "metadata": {},
     "output_type": "display_data"
    }
   ],
   "source": [
    "#sns.color_palette(\"flare\", as_cmap=True)\n",
    "myHist = sns.catplot(data=data2betested.loc[\"2021\"].reset_index().query('Quartier_Nummer > 90')\n",
    "                     , x=\"Quartier_Name\"\n",
    "            , y=\"Medianqmp\"\n",
    "            , hue=\"Zonenart\"\n",
    "            , kind=\"bar\" #boxen, violin, --> wenn die aggregation nicht genau den werten in der grafik entspricht\n",
    "            , palette=\"pastel\" #, color=\"green\"\n",
    "            , height=5\n",
    "            , aspect=3\n",
    "            , order=None, legend_out=True\n",
    "           )\n",
    "myHist.set_xlabels('Jahr', fontsize=11) # not set_label\n",
    "myHist.set_ylabels('Medianqmp', fontsize=11)\n"
   ]
  },
  {
   "cell_type": "code",
   "execution_count": 36,
   "metadata": {},
   "outputs": [
    {
     "data": {
      "text/plain": [
       "Quartier_Name      object\n",
       "Quartier_Nummer     int64\n",
       "Medianqmp           int64\n",
       "Zonenart           object\n",
       "Anzahl_HAE         object\n",
       "dtype: object"
      ]
     },
     "execution_count": 36,
     "metadata": {},
     "output_type": "execute_result"
    }
   ],
   "source": [
    "data2betested.dtypes"
   ]
  },
  {
   "cell_type": "markdown",
   "metadata": {},
   "source": [
    "##### Entwicklung aller Freihandkäufe nach Hauptgrundstücktyp seit 2009"
   ]
  },
  {
   "cell_type": "code",
   "execution_count": 37,
   "metadata": {},
   "outputs": [
    {
     "data": {
      "text/plain": [
       "<seaborn.axisgrid.FacetGrid at 0x1e050c328b0>"
      ]
     },
     "execution_count": 37,
     "metadata": {},
     "output_type": "execute_result"
    },
    {
     "data": {
      "image/png": "[encoded data removed]",
      "text/plain": [
       "<Figure size 1234.97x1296 with 30 Axes>"
      ]
     },
     "metadata": {},
     "output_type": "display_data"
    }
   ],
   "source": [
    "g = sns.FacetGrid(data=data2betested.loc[\"2019\":\"2021\"].query('Quartier_Nummer > 20').reset_index(), col=\"Quartier_Name\", hue=\"Zonenart\", col_wrap=5, height=3)\n",
    "#g.map(sns.scatterplot, \"Jahr\", \"Medianqmp\", alpha=.8)\n",
    "g.map(sns.lineplot, \"Jahr\",\"Medianqmp\", alpha=.9)\n",
    "g.add_legend()\n",
    "\n",
    "\n"
   ]
  },
  {
   "cell_type": "markdown",
   "metadata": {},
   "source": [
    "### Daten in interaktiver Treemap zeigen\n",
    "Dazu gibt es eine sehr nützliche Webseite https://plotly.com/python/treemaps/\n",
    "Zu Farbskalen, siehe: https://plotly.com/python/builtin-colorscales/"
   ]
  },
  {
   "cell_type": "markdown",
   "metadata": {
    "tags": []
   },
   "source": [
    "#### Medianquadratmeterpreis nach Zone und Quartier im 2021"
   ]
  },
  {
   "cell_type": "code",
   "execution_count": 43,
   "metadata": {},
   "outputs": [
    {
     "data": {
      "text/html": [
       "<div>\n",
       "<style scoped>\n",
       "    .dataframe tbody tr th:only-of-type {\n",
       "        vertical-align: middle;\n",
       "    }\n",
       "\n",
       "    .dataframe tbody tr th {\n",
       "        vertical-align: top;\n",
       "    }\n",
       "\n",
       "    .dataframe thead th {\n",
       "        text-align: right;\n",
       "    }\n",
       "</style>\n",
       "<table border=\"1\" class=\"dataframe\">\n",
       "  <thead>\n",
       "    <tr style=\"text-align: right;\">\n",
       "      <th></th>\n",
       "      <th>Jahr</th>\n",
       "      <th>Quartier_Name</th>\n",
       "      <th>Quartier_Nummer</th>\n",
       "      <th>Zonenart</th>\n",
       "      <th>sum_Anzahl_HAE</th>\n",
       "    </tr>\n",
       "  </thead>\n",
       "  <tbody>\n",
       "    <tr>\n",
       "      <th>0</th>\n",
       "      <td>2021-01-01</td>\n",
       "      <td>Wollishofen</td>\n",
       "      <td>21</td>\n",
       "      <td>Zentrumszone</td>\n",
       "      <td>1–3</td>\n",
       "    </tr>\n",
       "    <tr>\n",
       "      <th>1</th>\n",
       "      <td>2021-01-01</td>\n",
       "      <td>Langstrasse</td>\n",
       "      <td>42</td>\n",
       "      <td>Quartiererhaltungszone</td>\n",
       "      <td>20</td>\n",
       "    </tr>\n",
       "  </tbody>\n",
       "</table>\n",
       "</div>"
      ],
      "text/plain": [
       "        Jahr Quartier_Name  Quartier_Nummer                Zonenart sum_Anzahl_HAE\n",
       "0 2021-01-01   Wollishofen               21            Zentrumszone            1–3\n",
       "1 2021-01-01   Langstrasse               42  Quartiererhaltungszone             20"
      ]
     },
     "execution_count": 43,
     "metadata": {},
     "output_type": "execute_result"
    }
   ],
   "source": [
    "myTreemap = data2betested.loc[\"2019\":\"2021\"]\\\n",
    "    .groupby(['Jahr', 'Quartier_Name', 'Quartier_Nummer', 'Zonenart' ]) \\\n",
    "    .agg(sum_Anzahl_HAE=('Anzahl_HAE', 'sum')) \\\n",
    "    .sort_values('Jahr', ascending=False) \n",
    "myTreemap.reset_index().head(2)"
   ]
  },
  {
   "cell_type": "code",
   "execution_count": 39,
   "metadata": {
    "tags": []
   },
   "outputs": [
    {
     "data": {
      "text/plain": [
       "Quartier_Name      object\n",
       "Quartier_Nummer     int64\n",
       "Medianqmp           int64\n",
       "Zonenart           object\n",
       "Anzahl_HAE         object\n",
       "dtype: object"
      ]
     },
     "execution_count": 39,
     "metadata": {},
     "output_type": "execute_result"
    }
   ],
   "source": [
    "data2betested.dtypes"
   ]
  },
  {
   "cell_type": "code",
   "execution_count": 44,
   "metadata": {
    "tags": []
   },
   "outputs": [
    {
     "data": {
      "application/vnd.plotly.v1+json": {
       "config": {
        "plotlyServerURL": "https://plot.ly"
       },
       "data": [
        {
         "branchvalues": "total",
         "customdata": [
          [
           2740
          ],
          [
           3910
          ],
          [
           7380
          ],
          [
           6230
          ],
          [
           3320
          ],
          [
           4840
          ],
          [
           9960
          ],
          [
           6630
          ],
          [
           19420
          ],
          [
           6400
          ],
          [
           2670
          ],
          [
           12520
          ],
          [
           18160
          ],
          [
           4660
          ],
          [
           5850
          ],
          [
           4950
          ],
          [
           7210
          ],
          [
           13960
          ],
          [
           39610
          ],
          [
           37760
          ],
          [
           1110
          ],
          [
           13150
          ],
          [
           9490
          ],
          [
           5030
          ],
          [
           31850
          ],
          [
           6850
          ],
          [
           6890
          ],
          [
           13980
          ],
          [
           15190
          ],
          [
           7500
          ],
          [
           2760
          ],
          [
           20980
          ],
          [
           19930
          ],
          [
           14740
          ],
          [
           4320
          ],
          [
           11550
          ],
          [
           8990
          ],
          [
           17800
          ],
          [
           4020
          ],
          [
           4300
          ],
          [
           1870
          ],
          [
           33060
          ],
          [
           12350
          ],
          [
           8130
          ],
          [
           7260
          ],
          [
           8220
          ],
          [
           6000
          ],
          [
           6990
          ],
          [
           5780
          ],
          [
           23840
          ],
          [
           6200
          ],
          [
           1640
          ],
          [
           4780
          ],
          [
           15910
          ],
          [
           17670
          ],
          [
           5310
          ],
          [
           14120
          ],
          [
           6630
          ],
          [
           6010
          ],
          [
           16880
          ],
          [
           15350
          ],
          [
           3970
          ],
          [
           5850
          ],
          [
           4990
          ],
          [
           9700
          ],
          [
           11950
          ],
          [
           5090
          ],
          [
           3370
          ],
          [
           9230
          ],
          [
           4950
          ],
          [
           3210
          ],
          [
           5080
          ],
          [
           5200
          ],
          [
           5650
          ],
          [
           410
          ],
          [
           23080
          ],
          [
           26390
          ],
          [
           13100
          ],
          [
           23370
          ],
          [
           29940
          ],
          [
           7900
          ],
          [
           6730
          ],
          [
           17500
          ],
          [
           9130
          ],
          [
           6490
          ],
          [
           8970
          ],
          [
           9440
          ],
          [
           24450
          ],
          [
           7570
          ],
          [
           3030
          ],
          [
           680
          ],
          [
           5800
          ],
          [
           7400
          ],
          [
           2900
          ],
          [
           11520
          ],
          [
           6340
          ],
          [
           29410
          ],
          [
           44670
          ],
          [
           14890
          ],
          [
           2740
          ],
          [
           3910
          ],
          [
           7380
          ],
          [
           6230
          ],
          [
           3320
          ],
          [
           4840
          ],
          [
           9960
          ],
          [
           6630
          ],
          [
           19420
          ],
          [
           6400
          ],
          [
           2670
          ],
          [
           12520
          ],
          [
           18160
          ],
          [
           4660
          ],
          [
           5850
          ],
          [
           4950
          ],
          [
           7210
          ],
          [
           13960
          ],
          [
           39610
          ],
          [
           37760
          ],
          [
           1110
          ],
          [
           13150
          ],
          [
           9490
          ],
          [
           5030
          ],
          [
           31850
          ],
          [
           6850
          ],
          [
           6890
          ],
          [
           13980
          ],
          [
           15190
          ],
          [
           7500
          ],
          [
           2760
          ],
          [
           20980
          ],
          [
           19930
          ],
          [
           14740
          ],
          [
           4320
          ],
          [
           11550
          ],
          [
           8990
          ],
          [
           17800
          ],
          [
           4020
          ],
          [
           4300
          ],
          [
           1870
          ],
          [
           33060
          ],
          [
           12350
          ],
          [
           8130
          ],
          [
           7260
          ],
          [
           8220
          ],
          [
           6000
          ],
          [
           6990
          ],
          [
           5780
          ],
          [
           23840
          ],
          [
           6200
          ],
          [
           1640
          ],
          [
           4780
          ],
          [
           15910
          ],
          [
           17670
          ],
          [
           5310
          ],
          [
           14120
          ],
          [
           6630
          ],
          [
           6010
          ],
          [
           16880
          ],
          [
           15350
          ],
          [
           3970
          ],
          [
           5850
          ],
          [
           4990
          ],
          [
           9700
          ],
          [
           11950
          ],
          [
           5090
          ],
          [
           3370
          ],
          [
           9230
          ],
          [
           4950
          ],
          [
           3210
          ],
          [
           5080
          ],
          [
           5200
          ],
          [
           5650
          ],
          [
           410
          ],
          [
           23080
          ],
          [
           26390
          ],
          [
           13100
          ],
          [
           23370
          ],
          [
           29940
          ],
          [
           7900
          ],
          [
           6730
          ],
          [
           17500
          ],
          [
           9130
          ],
          [
           6490
          ],
          [
           8970
          ],
          [
           9440
          ],
          [
           24450
          ],
          [
           7570
          ],
          [
           3030
          ],
          [
           680
          ],
          [
           5800
          ],
          [
           7400
          ],
          [
           2900
          ],
          [
           11520
          ],
          [
           6340
          ],
          [
           29410
          ],
          [
           44670
          ],
          [
           14890
          ],
          [
           25687.30006053676
          ],
          [
           22869.047234854042
          ],
          [
           6522.2198120028925
          ],
          [
           8147.511888586957
          ],
          [
           8684.766957689724
          ],
          [
           16412.882254666958
          ],
          [
           33008.39405829596
          ],
          [
           22498.412791838335
          ],
          [
           18260.58079781138
          ]
         ],
         "domain": {
          "x": [
           0,
           1
          ],
          "y": [
           0,
           1
          ]
         },
         "hovertemplate": "labels=%{label}<br>Medianqmp_sum=%{value}<br>parent=%{parent}<br>id=%{id}<br>Medianqmp=%{color}<extra></extra>",
         "ids": [
          "Medianquadratmeterpreis nach Zone und Quartier im 2021/Kernzone/Affoltern/2021-01-01",
          "Medianquadratmeterpreis nach Zone und Quartier im 2021/Wohnzone 3/Affoltern/2021-01-01",
          "Medianquadratmeterpreis nach Zone und Quartier im 2021/Wohnzone 4/Affoltern/2021-01-01",
          "Medianquadratmeterpreis nach Zone und Quartier im 2021/Wohnzone 5/Affoltern/2021-01-01",
          "Medianquadratmeterpreis nach Zone und Quartier im 2021/Wohnzone 2/Albisrieden/2021-01-01",
          "Medianquadratmeterpreis nach Zone und Quartier im 2021/Wohnzone 3/Albisrieden/2021-01-01",
          "Medianquadratmeterpreis nach Zone und Quartier im 2021/Wohnzone 4/Albisrieden/2021-01-01",
          "Medianquadratmeterpreis nach Zone und Quartier im 2021/Wohnzone 5/Albisrieden/2021-01-01",
          "Medianquadratmeterpreis nach Zone und Quartier im 2021/Quartiererhaltungszone/Alt-Wiedikon/2021-01-01",
          "Medianquadratmeterpreis nach Zone und Quartier im 2021/Wohnzone 2/Alt-Wiedikon/2021-01-01",
          "Medianquadratmeterpreis nach Zone und Quartier im 2021/Wohnzone 4/Alt-Wiedikon/2021-01-01",
          "Medianquadratmeterpreis nach Zone und Quartier im 2021/Wohnzone 5/Alt-Wiedikon/2021-01-01",
          "Medianquadratmeterpreis nach Zone und Quartier im 2021/Zentrumszone/Alt-Wiedikon/2021-01-01",
          "Medianquadratmeterpreis nach Zone und Quartier im 2021/Kernzone/Altstetten/2021-01-01",
          "Medianquadratmeterpreis nach Zone und Quartier im 2021/Wohnzone 3/Altstetten/2021-01-01",
          "Medianquadratmeterpreis nach Zone und Quartier im 2021/Wohnzone 4/Altstetten/2021-01-01",
          "Medianquadratmeterpreis nach Zone und Quartier im 2021/Wohnzone 5/Altstetten/2021-01-01",
          "Medianquadratmeterpreis nach Zone und Quartier im 2021/Zentrumszone/Altstetten/2021-01-01",
          "Medianquadratmeterpreis nach Zone und Quartier im 2021/Kernzone/Enge/2021-01-01",
          "Medianquadratmeterpreis nach Zone und Quartier im 2021/Quartiererhaltungszone/Enge/2021-01-01",
          "Medianquadratmeterpreis nach Zone und Quartier im 2021/Wohnzone 3/Enge/2021-01-01",
          "Medianquadratmeterpreis nach Zone und Quartier im 2021/Wohnzone 4/Enge/2021-01-01",
          "Medianquadratmeterpreis nach Zone und Quartier im 2021/Wohnzone 5/Enge/2021-01-01",
          "Medianquadratmeterpreis nach Zone und Quartier im 2021/Kernzone/Escher Wyss/2021-01-01",
          "Medianquadratmeterpreis nach Zone und Quartier im 2021/Zentrumszone/Escher Wyss/2021-01-01",
          "Medianquadratmeterpreis nach Zone und Quartier im 2021/Kernzone/Fluntern/2021-01-01",
          "Medianquadratmeterpreis nach Zone und Quartier im 2021/Wohnzone 2/Fluntern/2021-01-01",
          "Medianquadratmeterpreis nach Zone und Quartier im 2021/Wohnzone 3/Fluntern/2021-01-01",
          "Medianquadratmeterpreis nach Zone und Quartier im 2021/Wohnzone 4/Fluntern/2021-01-01",
          "Medianquadratmeterpreis nach Zone und Quartier im 2021/Wohnzone 3/Friesenberg/2021-01-01",
          "Medianquadratmeterpreis nach Zone und Quartier im 2021/Wohnzone 4/Friesenberg/2021-01-01",
          "Medianquadratmeterpreis nach Zone und Quartier im 2021/Quartiererhaltungszone/Gewerbeschule/2021-01-01",
          "Medianquadratmeterpreis nach Zone und Quartier im 2021/Quartiererhaltungszone/Hard/2021-01-01",
          "Medianquadratmeterpreis nach Zone und Quartier im 2021/Wohnzone 6/Hard/2021-01-01",
          "Medianquadratmeterpreis nach Zone und Quartier im 2021/Wohnzone 2/Hirslanden/2021-01-01",
          "Medianquadratmeterpreis nach Zone und Quartier im 2021/Wohnzone 3/Hirslanden/2021-01-01",
          "Medianquadratmeterpreis nach Zone und Quartier im 2021/Wohnzone 4/Hirslanden/2021-01-01",
          "Medianquadratmeterpreis nach Zone und Quartier im 2021/Wohnzone 5/Hirslanden/2021-01-01",
          "Medianquadratmeterpreis nach Zone und Quartier im 2021/Wohnzone 2/Hirzenbach/2021-01-01",
          "Medianquadratmeterpreis nach Zone und Quartier im 2021/Wohnzone 3/Hirzenbach/2021-01-01",
          "Medianquadratmeterpreis nach Zone und Quartier im 2021/Wohnzone 4/Hirzenbach/2021-01-01",
          "Medianquadratmeterpreis nach Zone und Quartier im 2021/Kernzone/Hottingen/2021-01-01",
          "Medianquadratmeterpreis nach Zone und Quartier im 2021/Quartiererhaltungszone/Hottingen/2021-01-01",
          "Medianquadratmeterpreis nach Zone und Quartier im 2021/Wohnzone 2/Hottingen/2021-01-01",
          "Medianquadratmeterpreis nach Zone und Quartier im 2021/Wohnzone 4/Hottingen/2021-01-01",
          "Medianquadratmeterpreis nach Zone und Quartier im 2021/Kernzone/Höngg/2021-01-01",
          "Medianquadratmeterpreis nach Zone und Quartier im 2021/Wohnzone 2/Höngg/2021-01-01",
          "Medianquadratmeterpreis nach Zone und Quartier im 2021/Wohnzone 3/Höngg/2021-01-01",
          "Medianquadratmeterpreis nach Zone und Quartier im 2021/Wohnzone 4/Höngg/2021-01-01",
          "Medianquadratmeterpreis nach Zone und Quartier im 2021/Quartiererhaltungszone/Langstrasse/2021-01-01",
          "Medianquadratmeterpreis nach Zone und Quartier im 2021/Kernzone/Leimbach/2021-01-01",
          "Medianquadratmeterpreis nach Zone und Quartier im 2021/Wohnzone 3/Leimbach/2021-01-01",
          "Medianquadratmeterpreis nach Zone und Quartier im 2021/Wohnzone 4/Leimbach/2021-01-01",
          "Medianquadratmeterpreis nach Zone und Quartier im 2021/Kernzone/Mühlebach/2021-01-01",
          "Medianquadratmeterpreis nach Zone und Quartier im 2021/Quartiererhaltungszone/Mühlebach/2021-01-01",
          "Medianquadratmeterpreis nach Zone und Quartier im 2021/Wohnzone 3/Mühlebach/2021-01-01",
          "Medianquadratmeterpreis nach Zone und Quartier im 2021/Wohnzone 4/Mühlebach/2021-01-01",
          "Medianquadratmeterpreis nach Zone und Quartier im 2021/Wohnzone 2/Oberstrass/2021-01-01",
          "Medianquadratmeterpreis nach Zone und Quartier im 2021/Wohnzone 4/Oberstrass/2021-01-01",
          "Medianquadratmeterpreis nach Zone und Quartier im 2021/Wohnzone 5/Oberstrass/2021-01-01",
          "Medianquadratmeterpreis nach Zone und Quartier im 2021/Quartiererhaltungszone/Oerlikon/2021-01-01",
          "Medianquadratmeterpreis nach Zone und Quartier im 2021/Wohnzone 2/Oerlikon/2021-01-01",
          "Medianquadratmeterpreis nach Zone und Quartier im 2021/Wohnzone 3/Oerlikon/2021-01-01",
          "Medianquadratmeterpreis nach Zone und Quartier im 2021/Wohnzone 4/Oerlikon/2021-01-01",
          "Medianquadratmeterpreis nach Zone und Quartier im 2021/Wohnzone 5/Oerlikon/2021-01-01",
          "Medianquadratmeterpreis nach Zone und Quartier im 2021/Wohnzone 6/Oerlikon/2021-01-01",
          "Medianquadratmeterpreis nach Zone und Quartier im 2021/Wohnzone 3/Saatlen/2021-01-01",
          "Medianquadratmeterpreis nach Zone und Quartier im 2021/Wohnzone 4/Saatlen/2021-01-01",
          "Medianquadratmeterpreis nach Zone und Quartier im 2021/Wohnzone 3/Schwamendingen-Mitte/2021-01-01",
          "Medianquadratmeterpreis nach Zone und Quartier im 2021/Wohnzone 4/Schwamendingen-Mitte/2021-01-01",
          "Medianquadratmeterpreis nach Zone und Quartier im 2021/Wohnzone 5/Schwamendingen-Mitte/2021-01-01",
          "Medianquadratmeterpreis nach Zone und Quartier im 2021/Quartiererhaltungszone/Seebach/2021-01-01",
          "Medianquadratmeterpreis nach Zone und Quartier im 2021/Wohnzone 3/Seebach/2021-01-01",
          "Medianquadratmeterpreis nach Zone und Quartier im 2021/Wohnzone 4/Seebach/2021-01-01",
          "Medianquadratmeterpreis nach Zone und Quartier im 2021/Wohnzone 5/Seebach/2021-01-01",
          "Medianquadratmeterpreis nach Zone und Quartier im 2021/Zentrumszone/Seebach/2021-01-01",
          "Medianquadratmeterpreis nach Zone und Quartier im 2021/Kernzone/Seefeld/2021-01-01",
          "Medianquadratmeterpreis nach Zone und Quartier im 2021/Quartiererhaltungszone/Seefeld/2021-01-01",
          "Medianquadratmeterpreis nach Zone und Quartier im 2021/Quartiererhaltungszone/Sihlfeld/2021-01-01",
          "Medianquadratmeterpreis nach Zone und Quartier im 2021/Quartiererhaltungszone/Unterstrass/2021-01-01",
          "Medianquadratmeterpreis nach Zone und Quartier im 2021/Wohnzone 2/Unterstrass/2021-01-01",
          "Medianquadratmeterpreis nach Zone und Quartier im 2021/Wohnzone 4/Unterstrass/2021-01-01",
          "Medianquadratmeterpreis nach Zone und Quartier im 2021/Wohnzone 5/Unterstrass/2021-01-01",
          "Medianquadratmeterpreis nach Zone und Quartier im 2021/Wohnzone 2/Weinegg/2021-01-01",
          "Medianquadratmeterpreis nach Zone und Quartier im 2021/Wohnzone 3/Weinegg/2021-01-01",
          "Medianquadratmeterpreis nach Zone und Quartier im 2021/Wohnzone 4/Weinegg/2021-01-01",
          "Medianquadratmeterpreis nach Zone und Quartier im 2021/Quartiererhaltungszone/Werd/2021-01-01",
          "Medianquadratmeterpreis nach Zone und Quartier im 2021/Quartiererhaltungszone/Wipkingen/2021-01-01",
          "Medianquadratmeterpreis nach Zone und Quartier im 2021/Wohnzone 2/Wipkingen/2021-01-01",
          "Medianquadratmeterpreis nach Zone und Quartier im 2021/Wohnzone 4/Wipkingen/2021-01-01",
          "Medianquadratmeterpreis nach Zone und Quartier im 2021/Wohnzone 5/Wipkingen/2021-01-01",
          "Medianquadratmeterpreis nach Zone und Quartier im 2021/Wohnzone 2/Witikon/2021-01-01",
          "Medianquadratmeterpreis nach Zone und Quartier im 2021/Wohnzone 3/Witikon/2021-01-01",
          "Medianquadratmeterpreis nach Zone und Quartier im 2021/Wohnzone 2/Wollishofen/2021-01-01",
          "Medianquadratmeterpreis nach Zone und Quartier im 2021/Wohnzone 3/Wollishofen/2021-01-01",
          "Medianquadratmeterpreis nach Zone und Quartier im 2021/Wohnzone 4/Wollishofen/2021-01-01",
          "Medianquadratmeterpreis nach Zone und Quartier im 2021/Wohnzone 5/Wollishofen/2021-01-01",
          "Medianquadratmeterpreis nach Zone und Quartier im 2021/Wohnzone 6/Wollishofen/2021-01-01",
          "Medianquadratmeterpreis nach Zone und Quartier im 2021/Zentrumszone/Wollishofen/2021-01-01",
          "Medianquadratmeterpreis nach Zone und Quartier im 2021/Kernzone/Affoltern",
          "Medianquadratmeterpreis nach Zone und Quartier im 2021/Wohnzone 3/Affoltern",
          "Medianquadratmeterpreis nach Zone und Quartier im 2021/Wohnzone 4/Affoltern",
          "Medianquadratmeterpreis nach Zone und Quartier im 2021/Wohnzone 5/Affoltern",
          "Medianquadratmeterpreis nach Zone und Quartier im 2021/Wohnzone 2/Albisrieden",
          "Medianquadratmeterpreis nach Zone und Quartier im 2021/Wohnzone 3/Albisrieden",
          "Medianquadratmeterpreis nach Zone und Quartier im 2021/Wohnzone 4/Albisrieden",
          "Medianquadratmeterpreis nach Zone und Quartier im 2021/Wohnzone 5/Albisrieden",
          "Medianquadratmeterpreis nach Zone und Quartier im 2021/Quartiererhaltungszone/Alt-Wiedikon",
          "Medianquadratmeterpreis nach Zone und Quartier im 2021/Wohnzone 2/Alt-Wiedikon",
          "Medianquadratmeterpreis nach Zone und Quartier im 2021/Wohnzone 4/Alt-Wiedikon",
          "Medianquadratmeterpreis nach Zone und Quartier im 2021/Wohnzone 5/Alt-Wiedikon",
          "Medianquadratmeterpreis nach Zone und Quartier im 2021/Zentrumszone/Alt-Wiedikon",
          "Medianquadratmeterpreis nach Zone und Quartier im 2021/Kernzone/Altstetten",
          "Medianquadratmeterpreis nach Zone und Quartier im 2021/Wohnzone 3/Altstetten",
          "Medianquadratmeterpreis nach Zone und Quartier im 2021/Wohnzone 4/Altstetten",
          "Medianquadratmeterpreis nach Zone und Quartier im 2021/Wohnzone 5/Altstetten",
          "Medianquadratmeterpreis nach Zone und Quartier im 2021/Zentrumszone/Altstetten",
          "Medianquadratmeterpreis nach Zone und Quartier im 2021/Kernzone/Enge",
          "Medianquadratmeterpreis nach Zone und Quartier im 2021/Quartiererhaltungszone/Enge",
          "Medianquadratmeterpreis nach Zone und Quartier im 2021/Wohnzone 3/Enge",
          "Medianquadratmeterpreis nach Zone und Quartier im 2021/Wohnzone 4/Enge",
          "Medianquadratmeterpreis nach Zone und Quartier im 2021/Wohnzone 5/Enge",
          "Medianquadratmeterpreis nach Zone und Quartier im 2021/Kernzone/Escher Wyss",
          "Medianquadratmeterpreis nach Zone und Quartier im 2021/Zentrumszone/Escher Wyss",
          "Medianquadratmeterpreis nach Zone und Quartier im 2021/Kernzone/Fluntern",
          "Medianquadratmeterpreis nach Zone und Quartier im 2021/Wohnzone 2/Fluntern",
          "Medianquadratmeterpreis nach Zone und Quartier im 2021/Wohnzone 3/Fluntern",
          "Medianquadratmeterpreis nach Zone und Quartier im 2021/Wohnzone 4/Fluntern",
          "Medianquadratmeterpreis nach Zone und Quartier im 2021/Wohnzone 3/Friesenberg",
          "Medianquadratmeterpreis nach Zone und Quartier im 2021/Wohnzone 4/Friesenberg",
          "Medianquadratmeterpreis nach Zone und Quartier im 2021/Quartiererhaltungszone/Gewerbeschule",
          "Medianquadratmeterpreis nach Zone und Quartier im 2021/Quartiererhaltungszone/Hard",
          "Medianquadratmeterpreis nach Zone und Quartier im 2021/Wohnzone 6/Hard",
          "Medianquadratmeterpreis nach Zone und Quartier im 2021/Wohnzone 2/Hirslanden",
          "Medianquadratmeterpreis nach Zone und Quartier im 2021/Wohnzone 3/Hirslanden",
          "Medianquadratmeterpreis nach Zone und Quartier im 2021/Wohnzone 4/Hirslanden",
          "Medianquadratmeterpreis nach Zone und Quartier im 2021/Wohnzone 5/Hirslanden",
          "Medianquadratmeterpreis nach Zone und Quartier im 2021/Wohnzone 2/Hirzenbach",
          "Medianquadratmeterpreis nach Zone und Quartier im 2021/Wohnzone 3/Hirzenbach",
          "Medianquadratmeterpreis nach Zone und Quartier im 2021/Wohnzone 4/Hirzenbach",
          "Medianquadratmeterpreis nach Zone und Quartier im 2021/Kernzone/Hottingen",
          "Medianquadratmeterpreis nach Zone und Quartier im 2021/Quartiererhaltungszone/Hottingen",
          "Medianquadratmeterpreis nach Zone und Quartier im 2021/Wohnzone 2/Hottingen",
          "Medianquadratmeterpreis nach Zone und Quartier im 2021/Wohnzone 4/Hottingen",
          "Medianquadratmeterpreis nach Zone und Quartier im 2021/Kernzone/Höngg",
          "Medianquadratmeterpreis nach Zone und Quartier im 2021/Wohnzone 2/Höngg",
          "Medianquadratmeterpreis nach Zone und Quartier im 2021/Wohnzone 3/Höngg",
          "Medianquadratmeterpreis nach Zone und Quartier im 2021/Wohnzone 4/Höngg",
          "Medianquadratmeterpreis nach Zone und Quartier im 2021/Quartiererhaltungszone/Langstrasse",
          "Medianquadratmeterpreis nach Zone und Quartier im 2021/Kernzone/Leimbach",
          "Medianquadratmeterpreis nach Zone und Quartier im 2021/Wohnzone 3/Leimbach",
          "Medianquadratmeterpreis nach Zone und Quartier im 2021/Wohnzone 4/Leimbach",
          "Medianquadratmeterpreis nach Zone und Quartier im 2021/Kernzone/Mühlebach",
          "Medianquadratmeterpreis nach Zone und Quartier im 2021/Quartiererhaltungszone/Mühlebach",
          "Medianquadratmeterpreis nach Zone und Quartier im 2021/Wohnzone 3/Mühlebach",
          "Medianquadratmeterpreis nach Zone und Quartier im 2021/Wohnzone 4/Mühlebach",
          "Medianquadratmeterpreis nach Zone und Quartier im 2021/Wohnzone 2/Oberstrass",
          "Medianquadratmeterpreis nach Zone und Quartier im 2021/Wohnzone 4/Oberstrass",
          "Medianquadratmeterpreis nach Zone und Quartier im 2021/Wohnzone 5/Oberstrass",
          "Medianquadratmeterpreis nach Zone und Quartier im 2021/Quartiererhaltungszone/Oerlikon",
          "Medianquadratmeterpreis nach Zone und Quartier im 2021/Wohnzone 2/Oerlikon",
          "Medianquadratmeterpreis nach Zone und Quartier im 2021/Wohnzone 3/Oerlikon",
          "Medianquadratmeterpreis nach Zone und Quartier im 2021/Wohnzone 4/Oerlikon",
          "Medianquadratmeterpreis nach Zone und Quartier im 2021/Wohnzone 5/Oerlikon",
          "Medianquadratmeterpreis nach Zone und Quartier im 2021/Wohnzone 6/Oerlikon",
          "Medianquadratmeterpreis nach Zone und Quartier im 2021/Wohnzone 3/Saatlen",
          "Medianquadratmeterpreis nach Zone und Quartier im 2021/Wohnzone 4/Saatlen",
          "Medianquadratmeterpreis nach Zone und Quartier im 2021/Wohnzone 3/Schwamendingen-Mitte",
          "Medianquadratmeterpreis nach Zone und Quartier im 2021/Wohnzone 4/Schwamendingen-Mitte",
          "Medianquadratmeterpreis nach Zone und Quartier im 2021/Wohnzone 5/Schwamendingen-Mitte",
          "Medianquadratmeterpreis nach Zone und Quartier im 2021/Quartiererhaltungszone/Seebach",
          "Medianquadratmeterpreis nach Zone und Quartier im 2021/Wohnzone 3/Seebach",
          "Medianquadratmeterpreis nach Zone und Quartier im 2021/Wohnzone 4/Seebach",
          "Medianquadratmeterpreis nach Zone und Quartier im 2021/Wohnzone 5/Seebach",
          "Medianquadratmeterpreis nach Zone und Quartier im 2021/Zentrumszone/Seebach",
          "Medianquadratmeterpreis nach Zone und Quartier im 2021/Kernzone/Seefeld",
          "Medianquadratmeterpreis nach Zone und Quartier im 2021/Quartiererhaltungszone/Seefeld",
          "Medianquadratmeterpreis nach Zone und Quartier im 2021/Quartiererhaltungszone/Sihlfeld",
          "Medianquadratmeterpreis nach Zone und Quartier im 2021/Quartiererhaltungszone/Unterstrass",
          "Medianquadratmeterpreis nach Zone und Quartier im 2021/Wohnzone 2/Unterstrass",
          "Medianquadratmeterpreis nach Zone und Quartier im 2021/Wohnzone 4/Unterstrass",
          "Medianquadratmeterpreis nach Zone und Quartier im 2021/Wohnzone 5/Unterstrass",
          "Medianquadratmeterpreis nach Zone und Quartier im 2021/Wohnzone 2/Weinegg",
          "Medianquadratmeterpreis nach Zone und Quartier im 2021/Wohnzone 3/Weinegg",
          "Medianquadratmeterpreis nach Zone und Quartier im 2021/Wohnzone 4/Weinegg",
          "Medianquadratmeterpreis nach Zone und Quartier im 2021/Quartiererhaltungszone/Werd",
          "Medianquadratmeterpreis nach Zone und Quartier im 2021/Quartiererhaltungszone/Wipkingen",
          "Medianquadratmeterpreis nach Zone und Quartier im 2021/Wohnzone 2/Wipkingen",
          "Medianquadratmeterpreis nach Zone und Quartier im 2021/Wohnzone 4/Wipkingen",
          "Medianquadratmeterpreis nach Zone und Quartier im 2021/Wohnzone 5/Wipkingen",
          "Medianquadratmeterpreis nach Zone und Quartier im 2021/Wohnzone 2/Witikon",
          "Medianquadratmeterpreis nach Zone und Quartier im 2021/Wohnzone 3/Witikon",
          "Medianquadratmeterpreis nach Zone und Quartier im 2021/Wohnzone 2/Wollishofen",
          "Medianquadratmeterpreis nach Zone und Quartier im 2021/Wohnzone 3/Wollishofen",
          "Medianquadratmeterpreis nach Zone und Quartier im 2021/Wohnzone 4/Wollishofen",
          "Medianquadratmeterpreis nach Zone und Quartier im 2021/Wohnzone 5/Wollishofen",
          "Medianquadratmeterpreis nach Zone und Quartier im 2021/Wohnzone 6/Wollishofen",
          "Medianquadratmeterpreis nach Zone und Quartier im 2021/Zentrumszone/Wollishofen",
          "Medianquadratmeterpreis nach Zone und Quartier im 2021/Kernzone",
          "Medianquadratmeterpreis nach Zone und Quartier im 2021/Quartiererhaltungszone",
          "Medianquadratmeterpreis nach Zone und Quartier im 2021/Wohnzone 2",
          "Medianquadratmeterpreis nach Zone und Quartier im 2021/Wohnzone 3",
          "Medianquadratmeterpreis nach Zone und Quartier im 2021/Wohnzone 4",
          "Medianquadratmeterpreis nach Zone und Quartier im 2021/Wohnzone 5",
          "Medianquadratmeterpreis nach Zone und Quartier im 2021/Wohnzone 6",
          "Medianquadratmeterpreis nach Zone und Quartier im 2021/Zentrumszone",
          "Medianquadratmeterpreis nach Zone und Quartier im 2021"
         ],
         "labels": [
          "2021-01-01",
          "2021-01-01",
          "2021-01-01",
          "2021-01-01",
          "2021-01-01",
          "2021-01-01",
          "2021-01-01",
          "2021-01-01",
          "2021-01-01",
          "2021-01-01",
          "2021-01-01",
          "2021-01-01",
          "2021-01-01",
          "2021-01-01",
          "2021-01-01",
          "2021-01-01",
          "2021-01-01",
          "2021-01-01",
          "2021-01-01",
          "2021-01-01",
          "2021-01-01",
          "2021-01-01",
          "2021-01-01",
          "2021-01-01",
          "2021-01-01",
          "2021-01-01",
          "2021-01-01",
          "2021-01-01",
          "2021-01-01",
          "2021-01-01",
          "2021-01-01",
          "2021-01-01",
          "2021-01-01",
          "2021-01-01",
          "2021-01-01",
          "2021-01-01",
          "2021-01-01",
          "2021-01-01",
          "2021-01-01",
          "2021-01-01",
          "2021-01-01",
          "2021-01-01",
          "2021-01-01",
          "2021-01-01",
          "2021-01-01",
          "2021-01-01",
          "2021-01-01",
          "2021-01-01",
          "2021-01-01",
          "2021-01-01",
          "2021-01-01",
          "2021-01-01",
          "2021-01-01",
          "2021-01-01",
          "2021-01-01",
          "2021-01-01",
          "2021-01-01",
          "2021-01-01",
          "2021-01-01",
          "2021-01-01",
          "2021-01-01",
          "2021-01-01",
          "2021-01-01",
          "2021-01-01",
          "2021-01-01",
          "2021-01-01",
          "2021-01-01",
          "2021-01-01",
          "2021-01-01",
          "2021-01-01",
          "2021-01-01",
          "2021-01-01",
          "2021-01-01",
          "2021-01-01",
          "2021-01-01",
          "2021-01-01",
          "2021-01-01",
          "2021-01-01",
          "2021-01-01",
          "2021-01-01",
          "2021-01-01",
          "2021-01-01",
          "2021-01-01",
          "2021-01-01",
          "2021-01-01",
          "2021-01-01",
          "2021-01-01",
          "2021-01-01",
          "2021-01-01",
          "2021-01-01",
          "2021-01-01",
          "2021-01-01",
          "2021-01-01",
          "2021-01-01",
          "2021-01-01",
          "2021-01-01",
          "2021-01-01",
          "2021-01-01",
          "2021-01-01",
          "Affoltern",
          "Affoltern",
          "Affoltern",
          "Affoltern",
          "Albisrieden",
          "Albisrieden",
          "Albisrieden",
          "Albisrieden",
          "Alt-Wiedikon",
          "Alt-Wiedikon",
          "Alt-Wiedikon",
          "Alt-Wiedikon",
          "Alt-Wiedikon",
          "Altstetten",
          "Altstetten",
          "Altstetten",
          "Altstetten",
          "Altstetten",
          "Enge",
          "Enge",
          "Enge",
          "Enge",
          "Enge",
          "Escher Wyss",
          "Escher Wyss",
          "Fluntern",
          "Fluntern",
          "Fluntern",
          "Fluntern",
          "Friesenberg",
          "Friesenberg",
          "Gewerbeschule",
          "Hard",
          "Hard",
          "Hirslanden",
          "Hirslanden",
          "Hirslanden",
          "Hirslanden",
          "Hirzenbach",
          "Hirzenbach",
          "Hirzenbach",
          "Hottingen",
          "Hottingen",
          "Hottingen",
          "Hottingen",
          "Höngg",
          "Höngg",
          "Höngg",
          "Höngg",
          "Langstrasse",
          "Leimbach",
          "Leimbach",
          "Leimbach",
          "Mühlebach",
          "Mühlebach",
          "Mühlebach",
          "Mühlebach",
          "Oberstrass",
          "Oberstrass",
          "Oberstrass",
          "Oerlikon",
          "Oerlikon",
          "Oerlikon",
          "Oerlikon",
          "Oerlikon",
          "Oerlikon",
          "Saatlen",
          "Saatlen",
          "Schwamendingen-Mitte",
          "Schwamendingen-Mitte",
          "Schwamendingen-Mitte",
          "Seebach",
          "Seebach",
          "Seebach",
          "Seebach",
          "Seebach",
          "Seefeld",
          "Seefeld",
          "Sihlfeld",
          "Unterstrass",
          "Unterstrass",
          "Unterstrass",
          "Unterstrass",
          "Weinegg",
          "Weinegg",
          "Weinegg",
          "Werd",
          "Wipkingen",
          "Wipkingen",
          "Wipkingen",
          "Wipkingen",
          "Witikon",
          "Witikon",
          "Wollishofen",
          "Wollishofen",
          "Wollishofen",
          "Wollishofen",
          "Wollishofen",
          "Wollishofen",
          "Kernzone",
          "Quartiererhaltungszone",
          "Wohnzone 2",
          "Wohnzone 3",
          "Wohnzone 4",
          "Wohnzone 5",
          "Wohnzone 6",
          "Zentrumszone",
          "Medianquadratmeterpreis nach Zone und Quartier im 2021"
         ],
         "marker": {
          "coloraxis": "coloraxis",
          "colors": [
           2740,
           3910,
           7380,
           6230,
           3320,
           4840,
           9960,
           6630,
           19420,
           6400,
           2670,
           12520,
           18160,
           4660,
           5850,
           4950,
           7210,
           13960,
           39610,
           37760,
           1110,
           13150,
           9490,
           5030,
           31850,
           6850,
           6890,
           13980,
           15190,
           7500,
           2760,
           20980,
           19930,
           14740,
           4320,
           11550,
           8990,
           17800,
           4020,
           4300,
           1870,
           33060,
           12350,
           8130,
           7260,
           8220,
           6000,
           6990,
           5780,
           23840,
           6200,
           1640,
           4780,
           15910,
           17670,
           5310,
           14120,
           6630,
           6010,
           16880,
           15350,
           3970,
           5850,
           4990,
           9700,
           11950,
           5090,
           3370,
           9230,
           4950,
           3210,
           5080,
           5200,
           5650,
           410,
           23080,
           26390,
           13100,
           23370,
           29940,
           7900,
           6730,
           17500,
           9130,
           6490,
           8970,
           9440,
           24450,
           7570,
           3030,
           680,
           5800,
           7400,
           2900,
           11520,
           6340,
           29410,
           44670,
           14890,
           2740,
           3910,
           7380,
           6230,
           3320,
           4840,
           9960,
           6630,
           19420,
           6400,
           2670,
           12520,
           18160,
           4660,
           5850,
           4950,
           7210,
           13960,
           39610,
           37760,
           1110,
           13150,
           9490,
           5030,
           31850,
           6850,
           6890,
           13980,
           15190,
           7500,
           2760,
           20980,
           19930,
           14740,
           4320,
           11550,
           8990,
           17800,
           4020,
           4300,
           1870,
           33060,
           12350,
           8130,
           7260,
           8220,
           6000,
           6990,
           5780,
           23840,
           6200,
           1640,
           4780,
           15910,
           17670,
           5310,
           14120,
           6630,
           6010,
           16880,
           15350,
           3970,
           5850,
           4990,
           9700,
           11950,
           5090,
           3370,
           9230,
           4950,
           3210,
           5080,
           5200,
           5650,
           410,
           23080,
           26390,
           13100,
           23370,
           29940,
           7900,
           6730,
           17500,
           9130,
           6490,
           8970,
           9440,
           24450,
           7570,
           3030,
           680,
           5800,
           7400,
           2900,
           11520,
           6340,
           29410,
           44670,
           14890,
           25687.30006053676,
           22869.047234854042,
           6522.2198120028925,
           8147.511888586957,
           8684.766957689724,
           16412.882254666958,
           33008.39405829596,
           22498.412791838335,
           18260.58079781138
          ]
         },
         "name": "",
         "parents": [
          "Medianquadratmeterpreis nach Zone und Quartier im 2021/Kernzone/Affoltern",
          "Medianquadratmeterpreis nach Zone und Quartier im 2021/Wohnzone 3/Affoltern",
          "Medianquadratmeterpreis nach Zone und Quartier im 2021/Wohnzone 4/Affoltern",
          "Medianquadratmeterpreis nach Zone und Quartier im 2021/Wohnzone 5/Affoltern",
          "Medianquadratmeterpreis nach Zone und Quartier im 2021/Wohnzone 2/Albisrieden",
          "Medianquadratmeterpreis nach Zone und Quartier im 2021/Wohnzone 3/Albisrieden",
          "Medianquadratmeterpreis nach Zone und Quartier im 2021/Wohnzone 4/Albisrieden",
          "Medianquadratmeterpreis nach Zone und Quartier im 2021/Wohnzone 5/Albisrieden",
          "Medianquadratmeterpreis nach Zone und Quartier im 2021/Quartiererhaltungszone/Alt-Wiedikon",
          "Medianquadratmeterpreis nach Zone und Quartier im 2021/Wohnzone 2/Alt-Wiedikon",
          "Medianquadratmeterpreis nach Zone und Quartier im 2021/Wohnzone 4/Alt-Wiedikon",
          "Medianquadratmeterpreis nach Zone und Quartier im 2021/Wohnzone 5/Alt-Wiedikon",
          "Medianquadratmeterpreis nach Zone und Quartier im 2021/Zentrumszone/Alt-Wiedikon",
          "Medianquadratmeterpreis nach Zone und Quartier im 2021/Kernzone/Altstetten",
          "Medianquadratmeterpreis nach Zone und Quartier im 2021/Wohnzone 3/Altstetten",
          "Medianquadratmeterpreis nach Zone und Quartier im 2021/Wohnzone 4/Altstetten",
          "Medianquadratmeterpreis nach Zone und Quartier im 2021/Wohnzone 5/Altstetten",
          "Medianquadratmeterpreis nach Zone und Quartier im 2021/Zentrumszone/Altstetten",
          "Medianquadratmeterpreis nach Zone und Quartier im 2021/Kernzone/Enge",
          "Medianquadratmeterpreis nach Zone und Quartier im 2021/Quartiererhaltungszone/Enge",
          "Medianquadratmeterpreis nach Zone und Quartier im 2021/Wohnzone 3/Enge",
          "Medianquadratmeterpreis nach Zone und Quartier im 2021/Wohnzone 4/Enge",
          "Medianquadratmeterpreis nach Zone und Quartier im 2021/Wohnzone 5/Enge",
          "Medianquadratmeterpreis nach Zone und Quartier im 2021/Kernzone/Escher Wyss",
          "Medianquadratmeterpreis nach Zone und Quartier im 2021/Zentrumszone/Escher Wyss",
          "Medianquadratmeterpreis nach Zone und Quartier im 2021/Kernzone/Fluntern",
          "Medianquadratmeterpreis nach Zone und Quartier im 2021/Wohnzone 2/Fluntern",
          "Medianquadratmeterpreis nach Zone und Quartier im 2021/Wohnzone 3/Fluntern",
          "Medianquadratmeterpreis nach Zone und Quartier im 2021/Wohnzone 4/Fluntern",
          "Medianquadratmeterpreis nach Zone und Quartier im 2021/Wohnzone 3/Friesenberg",
          "Medianquadratmeterpreis nach Zone und Quartier im 2021/Wohnzone 4/Friesenberg",
          "Medianquadratmeterpreis nach Zone und Quartier im 2021/Quartiererhaltungszone/Gewerbeschule",
          "Medianquadratmeterpreis nach Zone und Quartier im 2021/Quartiererhaltungszone/Hard",
          "Medianquadratmeterpreis nach Zone und Quartier im 2021/Wohnzone 6/Hard",
          "Medianquadratmeterpreis nach Zone und Quartier im 2021/Wohnzone 2/Hirslanden",
          "Medianquadratmeterpreis nach Zone und Quartier im 2021/Wohnzone 3/Hirslanden",
          "Medianquadratmeterpreis nach Zone und Quartier im 2021/Wohnzone 4/Hirslanden",
          "Medianquadratmeterpreis nach Zone und Quartier im 2021/Wohnzone 5/Hirslanden",
          "Medianquadratmeterpreis nach Zone und Quartier im 2021/Wohnzone 2/Hirzenbach",
          "Medianquadratmeterpreis nach Zone und Quartier im 2021/Wohnzone 3/Hirzenbach",
          "Medianquadratmeterpreis nach Zone und Quartier im 2021/Wohnzone 4/Hirzenbach",
          "Medianquadratmeterpreis nach Zone und Quartier im 2021/Kernzone/Hottingen",
          "Medianquadratmeterpreis nach Zone und Quartier im 2021/Quartiererhaltungszone/Hottingen",
          "Medianquadratmeterpreis nach Zone und Quartier im 2021/Wohnzone 2/Hottingen",
          "Medianquadratmeterpreis nach Zone und Quartier im 2021/Wohnzone 4/Hottingen",
          "Medianquadratmeterpreis nach Zone und Quartier im 2021/Kernzone/Höngg",
          "Medianquadratmeterpreis nach Zone und Quartier im 2021/Wohnzone 2/Höngg",
          "Medianquadratmeterpreis nach Zone und Quartier im 2021/Wohnzone 3/Höngg",
          "Medianquadratmeterpreis nach Zone und Quartier im 2021/Wohnzone 4/Höngg",
          "Medianquadratmeterpreis nach Zone und Quartier im 2021/Quartiererhaltungszone/Langstrasse",
          "Medianquadratmeterpreis nach Zone und Quartier im 2021/Kernzone/Leimbach",
          "Medianquadratmeterpreis nach Zone und Quartier im 2021/Wohnzone 3/Leimbach",
          "Medianquadratmeterpreis nach Zone und Quartier im 2021/Wohnzone 4/Leimbach",
          "Medianquadratmeterpreis nach Zone und Quartier im 2021/Kernzone/Mühlebach",
          "Medianquadratmeterpreis nach Zone und Quartier im 2021/Quartiererhaltungszone/Mühlebach",
          "Medianquadratmeterpreis nach Zone und Quartier im 2021/Wohnzone 3/Mühlebach",
          "Medianquadratmeterpreis nach Zone und Quartier im 2021/Wohnzone 4/Mühlebach",
          "Medianquadratmeterpreis nach Zone und Quartier im 2021/Wohnzone 2/Oberstrass",
          "Medianquadratmeterpreis nach Zone und Quartier im 2021/Wohnzone 4/Oberstrass",
          "Medianquadratmeterpreis nach Zone und Quartier im 2021/Wohnzone 5/Oberstrass",
          "Medianquadratmeterpreis nach Zone und Quartier im 2021/Quartiererhaltungszone/Oerlikon",
          "Medianquadratmeterpreis nach Zone und Quartier im 2021/Wohnzone 2/Oerlikon",
          "Medianquadratmeterpreis nach Zone und Quartier im 2021/Wohnzone 3/Oerlikon",
          "Medianquadratmeterpreis nach Zone und Quartier im 2021/Wohnzone 4/Oerlikon",
          "Medianquadratmeterpreis nach Zone und Quartier im 2021/Wohnzone 5/Oerlikon",
          "Medianquadratmeterpreis nach Zone und Quartier im 2021/Wohnzone 6/Oerlikon",
          "Medianquadratmeterpreis nach Zone und Quartier im 2021/Wohnzone 3/Saatlen",
          "Medianquadratmeterpreis nach Zone und Quartier im 2021/Wohnzone 4/Saatlen",
          "Medianquadratmeterpreis nach Zone und Quartier im 2021/Wohnzone 3/Schwamendingen-Mitte",
          "Medianquadratmeterpreis nach Zone und Quartier im 2021/Wohnzone 4/Schwamendingen-Mitte",
          "Medianquadratmeterpreis nach Zone und Quartier im 2021/Wohnzone 5/Schwamendingen-Mitte",
          "Medianquadratmeterpreis nach Zone und Quartier im 2021/Quartiererhaltungszone/Seebach",
          "Medianquadratmeterpreis nach Zone und Quartier im 2021/Wohnzone 3/Seebach",
          "Medianquadratmeterpreis nach Zone und Quartier im 2021/Wohnzone 4/Seebach",
          "Medianquadratmeterpreis nach Zone und Quartier im 2021/Wohnzone 5/Seebach",
          "Medianquadratmeterpreis nach Zone und Quartier im 2021/Zentrumszone/Seebach",
          "Medianquadratmeterpreis nach Zone und Quartier im 2021/Kernzone/Seefeld",
          "Medianquadratmeterpreis nach Zone und Quartier im 2021/Quartiererhaltungszone/Seefeld",
          "Medianquadratmeterpreis nach Zone und Quartier im 2021/Quartiererhaltungszone/Sihlfeld",
          "Medianquadratmeterpreis nach Zone und Quartier im 2021/Quartiererhaltungszone/Unterstrass",
          "Medianquadratmeterpreis nach Zone und Quartier im 2021/Wohnzone 2/Unterstrass",
          "Medianquadratmeterpreis nach Zone und Quartier im 2021/Wohnzone 4/Unterstrass",
          "Medianquadratmeterpreis nach Zone und Quartier im 2021/Wohnzone 5/Unterstrass",
          "Medianquadratmeterpreis nach Zone und Quartier im 2021/Wohnzone 2/Weinegg",
          "Medianquadratmeterpreis nach Zone und Quartier im 2021/Wohnzone 3/Weinegg",
          "Medianquadratmeterpreis nach Zone und Quartier im 2021/Wohnzone 4/Weinegg",
          "Medianquadratmeterpreis nach Zone und Quartier im 2021/Quartiererhaltungszone/Werd",
          "Medianquadratmeterpreis nach Zone und Quartier im 2021/Quartiererhaltungszone/Wipkingen",
          "Medianquadratmeterpreis nach Zone und Quartier im 2021/Wohnzone 2/Wipkingen",
          "Medianquadratmeterpreis nach Zone und Quartier im 2021/Wohnzone 4/Wipkingen",
          "Medianquadratmeterpreis nach Zone und Quartier im 2021/Wohnzone 5/Wipkingen",
          "Medianquadratmeterpreis nach Zone und Quartier im 2021/Wohnzone 2/Witikon",
          "Medianquadratmeterpreis nach Zone und Quartier im 2021/Wohnzone 3/Witikon",
          "Medianquadratmeterpreis nach Zone und Quartier im 2021/Wohnzone 2/Wollishofen",
          "Medianquadratmeterpreis nach Zone und Quartier im 2021/Wohnzone 3/Wollishofen",
          "Medianquadratmeterpreis nach Zone und Quartier im 2021/Wohnzone 4/Wollishofen",
          "Medianquadratmeterpreis nach Zone und Quartier im 2021/Wohnzone 5/Wollishofen",
          "Medianquadratmeterpreis nach Zone und Quartier im 2021/Wohnzone 6/Wollishofen",
          "Medianquadratmeterpreis nach Zone und Quartier im 2021/Zentrumszone/Wollishofen",
          "Medianquadratmeterpreis nach Zone und Quartier im 2021/Kernzone",
          "Medianquadratmeterpreis nach Zone und Quartier im 2021/Wohnzone 3",
          "Medianquadratmeterpreis nach Zone und Quartier im 2021/Wohnzone 4",
          "Medianquadratmeterpreis nach Zone und Quartier im 2021/Wohnzone 5",
          "Medianquadratmeterpreis nach Zone und Quartier im 2021/Wohnzone 2",
          "Medianquadratmeterpreis nach Zone und Quartier im 2021/Wohnzone 3",
          "Medianquadratmeterpreis nach Zone und Quartier im 2021/Wohnzone 4",
          "Medianquadratmeterpreis nach Zone und Quartier im 2021/Wohnzone 5",
          "Medianquadratmeterpreis nach Zone und Quartier im 2021/Quartiererhaltungszone",
          "Medianquadratmeterpreis nach Zone und Quartier im 2021/Wohnzone 2",
          "Medianquadratmeterpreis nach Zone und Quartier im 2021/Wohnzone 4",
          "Medianquadratmeterpreis nach Zone und Quartier im 2021/Wohnzone 5",
          "Medianquadratmeterpreis nach Zone und Quartier im 2021/Zentrumszone",
          "Medianquadratmeterpreis nach Zone und Quartier im 2021/Kernzone",
          "Medianquadratmeterpreis nach Zone und Quartier im 2021/Wohnzone 3",
          "Medianquadratmeterpreis nach Zone und Quartier im 2021/Wohnzone 4",
          "Medianquadratmeterpreis nach Zone und Quartier im 2021/Wohnzone 5",
          "Medianquadratmeterpreis nach Zone und Quartier im 2021/Zentrumszone",
          "Medianquadratmeterpreis nach Zone und Quartier im 2021/Kernzone",
          "Medianquadratmeterpreis nach Zone und Quartier im 2021/Quartiererhaltungszone",
          "Medianquadratmeterpreis nach Zone und Quartier im 2021/Wohnzone 3",
          "Medianquadratmeterpreis nach Zone und Quartier im 2021/Wohnzone 4",
          "Medianquadratmeterpreis nach Zone und Quartier im 2021/Wohnzone 5",
          "Medianquadratmeterpreis nach Zone und Quartier im 2021/Kernzone",
          "Medianquadratmeterpreis nach Zone und Quartier im 2021/Zentrumszone",
          "Medianquadratmeterpreis nach Zone und Quartier im 2021/Kernzone",
          "Medianquadratmeterpreis nach Zone und Quartier im 2021/Wohnzone 2",
          "Medianquadratmeterpreis nach Zone und Quartier im 2021/Wohnzone 3",
          "Medianquadratmeterpreis nach Zone und Quartier im 2021/Wohnzone 4",
          "Medianquadratmeterpreis nach Zone und Quartier im 2021/Wohnzone 3",
          "Medianquadratmeterpreis nach Zone und Quartier im 2021/Wohnzone 4",
          "Medianquadratmeterpreis nach Zone und Quartier im 2021/Quartiererhaltungszone",
          "Medianquadratmeterpreis nach Zone und Quartier im 2021/Quartiererhaltungszone",
          "Medianquadratmeterpreis nach Zone und Quartier im 2021/Wohnzone 6",
          "Medianquadratmeterpreis nach Zone und Quartier im 2021/Wohnzone 2",
          "Medianquadratmeterpreis nach Zone und Quartier im 2021/Wohnzone 3",
          "Medianquadratmeterpreis nach Zone und Quartier im 2021/Wohnzone 4",
          "Medianquadratmeterpreis nach Zone und Quartier im 2021/Wohnzone 5",
          "Medianquadratmeterpreis nach Zone und Quartier im 2021/Wohnzone 2",
          "Medianquadratmeterpreis nach Zone und Quartier im 2021/Wohnzone 3",
          "Medianquadratmeterpreis nach Zone und Quartier im 2021/Wohnzone 4",
          "Medianquadratmeterpreis nach Zone und Quartier im 2021/Kernzone",
          "Medianquadratmeterpreis nach Zone und Quartier im 2021/Quartiererhaltungszone",
          "Medianquadratmeterpreis nach Zone und Quartier im 2021/Wohnzone 2",
          "Medianquadratmeterpreis nach Zone und Quartier im 2021/Wohnzone 4",
          "Medianquadratmeterpreis nach Zone und Quartier im 2021/Kernzone",
          "Medianquadratmeterpreis nach Zone und Quartier im 2021/Wohnzone 2",
          "Medianquadratmeterpreis nach Zone und Quartier im 2021/Wohnzone 3",
          "Medianquadratmeterpreis nach Zone und Quartier im 2021/Wohnzone 4",
          "Medianquadratmeterpreis nach Zone und Quartier im 2021/Quartiererhaltungszone",
          "Medianquadratmeterpreis nach Zone und Quartier im 2021/Kernzone",
          "Medianquadratmeterpreis nach Zone und Quartier im 2021/Wohnzone 3",
          "Medianquadratmeterpreis nach Zone und Quartier im 2021/Wohnzone 4",
          "Medianquadratmeterpreis nach Zone und Quartier im 2021/Kernzone",
          "Medianquadratmeterpreis nach Zone und Quartier im 2021/Quartiererhaltungszone",
          "Medianquadratmeterpreis nach Zone und Quartier im 2021/Wohnzone 3",
          "Medianquadratmeterpreis nach Zone und Quartier im 2021/Wohnzone 4",
          "Medianquadratmeterpreis nach Zone und Quartier im 2021/Wohnzone 2",
          "Medianquadratmeterpreis nach Zone und Quartier im 2021/Wohnzone 4",
          "Medianquadratmeterpreis nach Zone und Quartier im 2021/Wohnzone 5",
          "Medianquadratmeterpreis nach Zone und Quartier im 2021/Quartiererhaltungszone",
          "Medianquadratmeterpreis nach Zone und Quartier im 2021/Wohnzone 2",
          "Medianquadratmeterpreis nach Zone und Quartier im 2021/Wohnzone 3",
          "Medianquadratmeterpreis nach Zone und Quartier im 2021/Wohnzone 4",
          "Medianquadratmeterpreis nach Zone und Quartier im 2021/Wohnzone 5",
          "Medianquadratmeterpreis nach Zone und Quartier im 2021/Wohnzone 6",
          "Medianquadratmeterpreis nach Zone und Quartier im 2021/Wohnzone 3",
          "Medianquadratmeterpreis nach Zone und Quartier im 2021/Wohnzone 4",
          "Medianquadratmeterpreis nach Zone und Quartier im 2021/Wohnzone 3",
          "Medianquadratmeterpreis nach Zone und Quartier im 2021/Wohnzone 4",
          "Medianquadratmeterpreis nach Zone und Quartier im 2021/Wohnzone 5",
          "Medianquadratmeterpreis nach Zone und Quartier im 2021/Quartiererhaltungszone",
          "Medianquadratmeterpreis nach Zone und Quartier im 2021/Wohnzone 3",
          "Medianquadratmeterpreis nach Zone und Quartier im 2021/Wohnzone 4",
          "Medianquadratmeterpreis nach Zone und Quartier im 2021/Wohnzone 5",
          "Medianquadratmeterpreis nach Zone und Quartier im 2021/Zentrumszone",
          "Medianquadratmeterpreis nach Zone und Quartier im 2021/Kernzone",
          "Medianquadratmeterpreis nach Zone und Quartier im 2021/Quartiererhaltungszone",
          "Medianquadratmeterpreis nach Zone und Quartier im 2021/Quartiererhaltungszone",
          "Medianquadratmeterpreis nach Zone und Quartier im 2021/Quartiererhaltungszone",
          "Medianquadratmeterpreis nach Zone und Quartier im 2021/Wohnzone 2",
          "Medianquadratmeterpreis nach Zone und Quartier im 2021/Wohnzone 4",
          "Medianquadratmeterpreis nach Zone und Quartier im 2021/Wohnzone 5",
          "Medianquadratmeterpreis nach Zone und Quartier im 2021/Wohnzone 2",
          "Medianquadratmeterpreis nach Zone und Quartier im 2021/Wohnzone 3",
          "Medianquadratmeterpreis nach Zone und Quartier im 2021/Wohnzone 4",
          "Medianquadratmeterpreis nach Zone und Quartier im 2021/Quartiererhaltungszone",
          "Medianquadratmeterpreis nach Zone und Quartier im 2021/Quartiererhaltungszone",
          "Medianquadratmeterpreis nach Zone und Quartier im 2021/Wohnzone 2",
          "Medianquadratmeterpreis nach Zone und Quartier im 2021/Wohnzone 4",
          "Medianquadratmeterpreis nach Zone und Quartier im 2021/Wohnzone 5",
          "Medianquadratmeterpreis nach Zone und Quartier im 2021/Wohnzone 2",
          "Medianquadratmeterpreis nach Zone und Quartier im 2021/Wohnzone 3",
          "Medianquadratmeterpreis nach Zone und Quartier im 2021/Wohnzone 2",
          "Medianquadratmeterpreis nach Zone und Quartier im 2021/Wohnzone 3",
          "Medianquadratmeterpreis nach Zone und Quartier im 2021/Wohnzone 4",
          "Medianquadratmeterpreis nach Zone und Quartier im 2021/Wohnzone 5",
          "Medianquadratmeterpreis nach Zone und Quartier im 2021/Wohnzone 6",
          "Medianquadratmeterpreis nach Zone und Quartier im 2021/Zentrumszone",
          "Medianquadratmeterpreis nach Zone und Quartier im 2021",
          "Medianquadratmeterpreis nach Zone und Quartier im 2021",
          "Medianquadratmeterpreis nach Zone und Quartier im 2021",
          "Medianquadratmeterpreis nach Zone und Quartier im 2021",
          "Medianquadratmeterpreis nach Zone und Quartier im 2021",
          "Medianquadratmeterpreis nach Zone und Quartier im 2021",
          "Medianquadratmeterpreis nach Zone und Quartier im 2021",
          "Medianquadratmeterpreis nach Zone und Quartier im 2021",
          ""
         ],
         "root": {
          "color": "grey"
         },
         "type": "treemap",
         "values": [
          2740,
          3910,
          7380,
          6230,
          3320,
          4840,
          9960,
          6630,
          19420,
          6400,
          2670,
          12520,
          18160,
          4660,
          5850,
          4950,
          7210,
          13960,
          39610,
          37760,
          1110,
          13150,
          9490,
          5030,
          31850,
          6850,
          6890,
          13980,
          15190,
          7500,
          2760,
          20980,
          19930,
          14740,
          4320,
          11550,
          8990,
          17800,
          4020,
          4300,
          1870,
          33060,
          12350,
          8130,
          7260,
          8220,
          6000,
          6990,
          5780,
          23840,
          6200,
          1640,
          4780,
          15910,
          17670,
          5310,
          14120,
          6630,
          6010,
          16880,
          15350,
          3970,
          5850,
          4990,
          9700,
          11950,
          5090,
          3370,
          9230,
          4950,
          3210,
          5080,
          5200,
          5650,
          410,
          23080,
          26390,
          13100,
          23370,
          29940,
          7900,
          6730,
          17500,
          9130,
          6490,
          8970,
          9440,
          24450,
          7570,
          3030,
          680,
          5800,
          7400,
          2900,
          11520,
          6340,
          29410,
          44670,
          14890,
          2740,
          3910,
          7380,
          6230,
          3320,
          4840,
          9960,
          6630,
          19420,
          6400,
          2670,
          12520,
          18160,
          4660,
          5850,
          4950,
          7210,
          13960,
          39610,
          37760,
          1110,
          13150,
          9490,
          5030,
          31850,
          6850,
          6890,
          13980,
          15190,
          7500,
          2760,
          20980,
          19930,
          14740,
          4320,
          11550,
          8990,
          17800,
          4020,
          4300,
          1870,
          33060,
          12350,
          8130,
          7260,
          8220,
          6000,
          6990,
          5780,
          23840,
          6200,
          1640,
          4780,
          15910,
          17670,
          5310,
          14120,
          6630,
          6010,
          16880,
          15350,
          3970,
          5850,
          4990,
          9700,
          11950,
          5090,
          3370,
          9230,
          4950,
          3210,
          5080,
          5200,
          5650,
          410,
          23080,
          26390,
          13100,
          23370,
          29940,
          7900,
          6730,
          17500,
          9130,
          6490,
          8970,
          9440,
          24450,
          7570,
          3030,
          680,
          5800,
          7400,
          2900,
          11520,
          6340,
          29410,
          44670,
          14890,
          148670,
          272680,
          82980,
          117760,
          148900,
          137670,
          71360,
          101940,
          1081960
         ]
        }
       ],
       "layout": {
        "coloraxis": {
         "colorbar": {
          "title": {
           "text": "Medianqmp"
          }
         },
         "colorscale": [
          [
           0,
           "#00224e"
          ],
          [
           0.1111111111111111,
           "#123570"
          ],
          [
           0.2222222222222222,
           "#3b496c"
          ],
          [
           0.3333333333333333,
           "#575d6d"
          ],
          [
           0.4444444444444444,
           "#707173"
          ],
          [
           0.5555555555555556,
           "#8a8678"
          ],
          [
           0.6666666666666666,
           "#a59c74"
          ],
          [
           0.7777777777777778,
           "#c3b369"
          ],
          [
           0.8888888888888888,
           "#e1cc55"
          ],
          [
           1,
           "#fee838"
          ]
         ]
        },
        "height": 500,
        "legend": {
         "tracegroupgap": 0
        },
        "margin": {
         "b": 25,
         "l": 25,
         "r": 250,
         "t": 50
        },
        "template": {
         "data": {
          "bar": [
           {
            "error_x": {
             "color": "#2a3f5f"
            },
            "error_y": {
             "color": "#2a3f5f"
            },
            "marker": {
             "line": {
              "color": "#E5ECF6",
              "width": 0.5
             },
             "pattern": {
              "fillmode": "overlay",
              "size": 10,
              "solidity": 0.2
             }
            },
            "type": "bar"
           }
          ],
          "barpolar": [
           {
            "marker": {
             "line": {
              "color": "#E5ECF6",
              "width": 0.5
             },
             "pattern": {
              "fillmode": "overlay",
              "size": 10,
              "solidity": 0.2
             }
            },
            "type": "barpolar"
           }
          ],
          "carpet": [
           {
            "aaxis": {
             "endlinecolor": "#2a3f5f",
             "gridcolor": "white",
             "linecolor": "white",
             "minorgridcolor": "white",
             "startlinecolor": "#2a3f5f"
            },
            "baxis": {
             "endlinecolor": "#2a3f5f",
             "gridcolor": "white",
             "linecolor": "white",
             "minorgridcolor": "white",
             "startlinecolor": "#2a3f5f"
            },
            "type": "carpet"
           }
          ],
          "choropleth": [
           {
            "colorbar": {
             "outlinewidth": 0,
             "ticks": ""
            },
            "type": "choropleth"
           }
          ],
          "contour": [
           {
            "colorbar": {
             "outlinewidth": 0,
             "ticks": ""
            },
            "colorscale": [
             [
              0,
              "#0d0887"
             ],
             [
              0.1111111111111111,
              "#46039f"
             ],
             [
              0.2222222222222222,
              "#7201a8"
             ],
             [
              0.3333333333333333,
              "#9c179e"
             ],
             [
              0.4444444444444444,
              "#bd3786"
             ],
             [
              0.5555555555555556,
              "#d8576b"
             ],
             [
              0.6666666666666666,
              "#ed7953"
             ],
             [
              0.7777777777777778,
              "#fb9f3a"
             ],
             [
              0.8888888888888888,
              "#fdca26"
             ],
             [
              1,
              "#f0f921"
             ]
            ],
            "type": "contour"
           }
          ],
          "contourcarpet": [
           {
            "colorbar": {
             "outlinewidth": 0,
             "ticks": ""
            },
            "type": "contourcarpet"
           }
          ],
          "heatmap": [
           {
            "colorbar": {
             "outlinewidth": 0,
             "ticks": ""
            },
            "colorscale": [
             [
              0,
              "#0d0887"
             ],
             [
              0.1111111111111111,
              "#46039f"
             ],
             [
              0.2222222222222222,
              "#7201a8"
             ],
             [
              0.3333333333333333,
              "#9c179e"
             ],
             [
              0.4444444444444444,
              "#bd3786"
             ],
             [
              0.5555555555555556,
              "#d8576b"
             ],
             [
              0.6666666666666666,
              "#ed7953"
             ],
             [
              0.7777777777777778,
              "#fb9f3a"
             ],
             [
              0.8888888888888888,
              "#fdca26"
             ],
             [
              1,
              "#f0f921"
             ]
            ],
            "type": "heatmap"
           }
          ],
          "heatmapgl": [
           {
            "colorbar": {
             "outlinewidth": 0,
             "ticks": ""
            },
            "colorscale": [
             [
              0,
              "#0d0887"
             ],
             [
              0.1111111111111111,
              "#46039f"
             ],
             [
              0.2222222222222222,
              "#7201a8"
             ],
             [
              0.3333333333333333,
              "#9c179e"
             ],
             [
              0.4444444444444444,
              "#bd3786"
             ],
             [
              0.5555555555555556,
              "#d8576b"
             ],
             [
              0.6666666666666666,
              "#ed7953"
             ],
             [
              0.7777777777777778,
              "#fb9f3a"
             ],
             [
              0.8888888888888888,
              "#fdca26"
             ],
             [
              1,
              "#f0f921"
             ]
            ],
            "type": "heatmapgl"
           }
          ],
          "histogram": [
           {
            "marker": {
             "pattern": {
              "fillmode": "overlay",
              "size": 10,
              "solidity": 0.2
             }
            },
            "type": "histogram"
           }
          ],
          "histogram2d": [
           {
            "colorbar": {
             "outlinewidth": 0,
             "ticks": ""
            },
            "colorscale": [
             [
              0,
              "#0d0887"
             ],
             [
              0.1111111111111111,
              "#46039f"
             ],
             [
              0.2222222222222222,
              "#7201a8"
             ],
             [
              0.3333333333333333,
              "#9c179e"
             ],
             [
              0.4444444444444444,
              "#bd3786"
             ],
             [
              0.5555555555555556,
              "#d8576b"
             ],
             [
              0.6666666666666666,
              "#ed7953"
             ],
             [
              0.7777777777777778,
              "#fb9f3a"
             ],
             [
              0.8888888888888888,
              "#fdca26"
             ],
             [
              1,
              "#f0f921"
             ]
            ],
            "type": "histogram2d"
           }
          ],
          "histogram2dcontour": [
           {
            "colorbar": {
             "outlinewidth": 0,
             "ticks": ""
            },
            "colorscale": [
             [
              0,
              "#0d0887"
             ],
             [
              0.1111111111111111,
              "#46039f"
             ],
             [
              0.2222222222222222,
              "#7201a8"
             ],
             [
              0.3333333333333333,
              "#9c179e"
             ],
             [
              0.4444444444444444,
              "#bd3786"
             ],
             [
              0.5555555555555556,
              "#d8576b"
             ],
             [
              0.6666666666666666,
              "#ed7953"
             ],
             [
              0.7777777777777778,
              "#fb9f3a"
             ],
             [
              0.8888888888888888,
              "#fdca26"
             ],
             [
              1,
              "#f0f921"
             ]
            ],
            "type": "histogram2dcontour"
           }
          ],
          "mesh3d": [
           {
            "colorbar": {
             "outlinewidth": 0,
             "ticks": ""
            },
            "type": "mesh3d"
           }
          ],
          "parcoords": [
           {
            "line": {
             "colorbar": {
              "outlinewidth": 0,
              "ticks": ""
             }
            },
            "type": "parcoords"
           }
          ],
          "pie": [
           {
            "automargin": true,
            "type": "pie"
           }
          ],
          "scatter": [
           {
            "marker": {
             "colorbar": {
              "outlinewidth": 0,
              "ticks": ""
             }
            },
            "type": "scatter"
           }
          ],
          "scatter3d": [
           {
            "line": {
             "colorbar": {
              "outlinewidth": 0,
              "ticks": ""
             }
            },
            "marker": {
             "colorbar": {
              "outlinewidth": 0,
              "ticks": ""
             }
            },
            "type": "scatter3d"
           }
          ],
          "scattercarpet": [
           {
            "marker": {
             "colorbar": {
              "outlinewidth": 0,
              "ticks": ""
             }
            },
            "type": "scattercarpet"
           }
          ],
          "scattergeo": [
           {
            "marker": {
             "colorbar": {
              "outlinewidth": 0,
              "ticks": ""
             }
            },
            "type": "scattergeo"
           }
          ],
          "scattergl": [
           {
            "marker": {
             "colorbar": {
              "outlinewidth": 0,
              "ticks": ""
             }
            },
            "type": "scattergl"
           }
          ],
          "scattermapbox": [
           {
            "marker": {
             "colorbar": {
              "outlinewidth": 0,
              "ticks": ""
             }
            },
            "type": "scattermapbox"
           }
          ],
          "scatterpolar": [
           {
            "marker": {
             "colorbar": {
              "outlinewidth": 0,
              "ticks": ""
             }
            },
            "type": "scatterpolar"
           }
          ],
          "scatterpolargl": [
           {
            "marker": {
             "colorbar": {
              "outlinewidth": 0,
              "ticks": ""
             }
            },
            "type": "scatterpolargl"
           }
          ],
          "scatterternary": [
           {
            "marker": {
             "colorbar": {
              "outlinewidth": 0,
              "ticks": ""
             }
            },
            "type": "scatterternary"
           }
          ],
          "surface": [
           {
            "colorbar": {
             "outlinewidth": 0,
             "ticks": ""
            },
            "colorscale": [
             [
              0,
              "#0d0887"
             ],
             [
              0.1111111111111111,
              "#46039f"
             ],
             [
              0.2222222222222222,
              "#7201a8"
             ],
             [
              0.3333333333333333,
              "#9c179e"
             ],
             [
              0.4444444444444444,
              "#bd3786"
             ],
             [
              0.5555555555555556,
              "#d8576b"
             ],
             [
              0.6666666666666666,
              "#ed7953"
             ],
             [
              0.7777777777777778,
              "#fb9f3a"
             ],
             [
              0.8888888888888888,
              "#fdca26"
             ],
             [
              1,
              "#f0f921"
             ]
            ],
            "type": "surface"
           }
          ],
          "table": [
           {
            "cells": {
             "fill": {
              "color": "#EBF0F8"
             },
             "line": {
              "color": "white"
             }
            },
            "header": {
             "fill": {
              "color": "#C8D4E3"
             },
             "line": {
              "color": "white"
             }
            },
            "type": "table"
           }
          ]
         },
         "layout": {
          "annotationdefaults": {
           "arrowcolor": "#2a3f5f",
           "arrowhead": 0,
           "arrowwidth": 1
          },
          "autotypenumbers": "strict",
          "coloraxis": {
           "colorbar": {
            "outlinewidth": 0,
            "ticks": ""
           }
          },
          "colorscale": {
           "diverging": [
            [
             0,
             "#8e0152"
            ],
            [
             0.1,
             "#c51b7d"
            ],
            [
             0.2,
             "#de77ae"
            ],
            [
             0.3,
             "#f1b6da"
            ],
            [
             0.4,
             "#fde0ef"
            ],
            [
             0.5,
             "#f7f7f7"
            ],
            [
             0.6,
             "#e6f5d0"
            ],
            [
             0.7,
             "#b8e186"
            ],
            [
             0.8,
             "#7fbc41"
            ],
            [
             0.9,
             "#4d9221"
            ],
            [
             1,
             "#276419"
            ]
           ],
           "sequential": [
            [
             0,
             "#0d0887"
            ],
            [
             0.1111111111111111,
             "#46039f"
            ],
            [
             0.2222222222222222,
             "#7201a8"
            ],
            [
             0.3333333333333333,
             "#9c179e"
            ],
            [
             0.4444444444444444,
             "#bd3786"
            ],
            [
             0.5555555555555556,
             "#d8576b"
            ],
            [
             0.6666666666666666,
             "#ed7953"
            ],
            [
             0.7777777777777778,
             "#fb9f3a"
            ],
            [
             0.8888888888888888,
             "#fdca26"
            ],
            [
             1,
             "#f0f921"
            ]
           ],
           "sequentialminus": [
            [
             0,
             "#0d0887"
            ],
            [
             0.1111111111111111,
             "#46039f"
            ],
            [
             0.2222222222222222,
             "#7201a8"
            ],
            [
             0.3333333333333333,
             "#9c179e"
            ],
            [
             0.4444444444444444,
             "#bd3786"
            ],
            [
             0.5555555555555556,
             "#d8576b"
            ],
            [
             0.6666666666666666,
             "#ed7953"
            ],
            [
             0.7777777777777778,
             "#fb9f3a"
            ],
            [
             0.8888888888888888,
             "#fdca26"
            ],
            [
             1,
             "#f0f921"
            ]
           ]
          },
          "colorway": [
           "#636efa",
           "#EF553B",
           "#00cc96",
           "#ab63fa",
           "#FFA15A",
           "#19d3f3",
           "#FF6692",
           "#B6E880",
           "#FF97FF",
           "#FECB52"
          ],
          "font": {
           "color": "#2a3f5f"
          },
          "geo": {
           "bgcolor": "white",
           "lakecolor": "white",
           "landcolor": "#E5ECF6",
           "showlakes": true,
           "showland": true,
           "subunitcolor": "white"
          },
          "hoverlabel": {
           "align": "left"
          },
          "hovermode": "closest",
          "mapbox": {
           "style": "light"
          },
          "paper_bgcolor": "white",
          "plot_bgcolor": "#E5ECF6",
          "polar": {
           "angularaxis": {
            "gridcolor": "white",
            "linecolor": "white",
            "ticks": ""
           },
           "bgcolor": "#E5ECF6",
           "radialaxis": {
            "gridcolor": "white",
            "linecolor": "white",
            "ticks": ""
           }
          },
          "scene": {
           "xaxis": {
            "backgroundcolor": "#E5ECF6",
            "gridcolor": "white",
            "gridwidth": 2,
            "linecolor": "white",
            "showbackground": true,
            "ticks": "",
            "zerolinecolor": "white"
           },
           "yaxis": {
            "backgroundcolor": "#E5ECF6",
            "gridcolor": "white",
            "gridwidth": 2,
            "linecolor": "white",
            "showbackground": true,
            "ticks": "",
            "zerolinecolor": "white"
           },
           "zaxis": {
            "backgroundcolor": "#E5ECF6",
            "gridcolor": "white",
            "gridwidth": 2,
            "linecolor": "white",
            "showbackground": true,
            "ticks": "",
            "zerolinecolor": "white"
           }
          },
          "shapedefaults": {
           "line": {
            "color": "#2a3f5f"
           }
          },
          "ternary": {
           "aaxis": {
            "gridcolor": "white",
            "linecolor": "white",
            "ticks": ""
           },
           "baxis": {
            "gridcolor": "white",
            "linecolor": "white",
            "ticks": ""
           },
           "bgcolor": "#E5ECF6",
           "caxis": {
            "gridcolor": "white",
            "linecolor": "white",
            "ticks": ""
           }
          },
          "title": {
           "x": 0.05
          },
          "xaxis": {
           "automargin": true,
           "gridcolor": "white",
           "linecolor": "white",
           "ticks": "",
           "title": {
            "standoff": 15
           },
           "zerolinecolor": "white",
           "zerolinewidth": 2
          },
          "yaxis": {
           "automargin": true,
           "gridcolor": "white",
           "linecolor": "white",
           "ticks": "",
           "title": {
            "standoff": 15
           },
           "zerolinecolor": "white",
           "zerolinewidth": 2
          }
         }
        },
        "width": 1100
       }
      },
      "image/png": "[encoded data removed]",
      "text/html": [
       "<div>                            <div id=\"8dacd85c-81d6-4211-bb2d-429e3551169d\" class=\"plotly-graph-div\" style=\"height:500px; width:1100px;\"></div>            <script type=\"text/javascript\">                require([\"plotly\"], function(Plotly) {                    window.PLOTLYENV=window.PLOTLYENV || {};                                    if (document.getElementById(\"8dacd85c-81d6-4211-bb2d-429e3551169d\")) {                    Plotly.newPlot(                        \"8dacd85c-81d6-4211-bb2d-429e3551169d\",                        [{\"branchvalues\":\"total\",\"customdata\":[[2740.0],[3910.0],[7380.0],[6230.0],[3320.0],[4840.0],[9960.0],[6630.0],[19420.0],[6400.0],[2670.0],[12520.0],[18160.0],[4660.0],[5850.0],[4950.0],[7210.0],[13960.0],[39610.0],[37760.0],[1110.0],[13150.0],[9490.0],[5030.0],[31850.0],[6850.0],[6890.0],[13980.0],[15190.0],[7500.0],[2760.0],[20980.0],[19930.0],[14740.0],[4320.0],[11550.0],[8990.0],[17800.0],[4020.0],[4300.0],[1870.0],[33060.0],[12350.0],[8130.0],[7260.0],[8220.0],[6000.0],[6990.0],[5780.0],[23840.0],[6200.0],[1640.0],[4780.0],[15910.0],[17670.0],[5310.0],[14120.0],[6630.0],[6010.0],[16880.0],[15350.0],[3970.0],[5850.0],[4990.0],[9700.0],[11950.0],[5090.0],[3370.0],[9230.0],[4950.0],[3210.0],[5080.0],[5200.0],[5650.0],[410.0],[23080.0],[26390.0],[13100.0],[23370.0],[29940.0],[7900.0],[6730.0],[17500.0],[9130.0],[6490.0],[8970.0],[9440.0],[24450.0],[7570.0],[3030.0],[680.0],[5800.0],[7400.0],[2900.0],[11520.0],[6340.0],[29410.0],[44670.0],[14890.0],[2740.0],[3910.0],[7380.0],[6230.0],[3320.0],[4840.0],[9960.0],[6630.0],[19420.0],[6400.0],[2670.0],[12520.0],[18160.0],[4660.0],[5850.0],[4950.0],[7210.0],[13960.0],[39610.0],[37760.0],[1110.0],[13150.0],[9490.0],[5030.0],[31850.0],[6850.0],[6890.0],[13980.0],[15190.0],[7500.0],[2760.0],[20980.0],[19930.0],[14740.0],[4320.0],[11550.0],[8990.0],[17800.0],[4020.0],[4300.0],[1870.0],[33060.0],[12350.0],[8130.0],[7260.0],[8220.0],[6000.0],[6990.0],[5780.0],[23840.0],[6200.0],[1640.0],[4780.0],[15910.0],[17670.0],[5310.0],[14120.0],[6630.0],[6010.0],[16880.0],[15350.0],[3970.0],[5850.0],[4990.0],[9700.0],[11950.0],[5090.0],[3370.0],[9230.0],[4950.0],[3210.0],[5080.0],[5200.0],[5650.0],[410.0],[23080.0],[26390.0],[13100.0],[23370.0],[29940.0],[7900.0],[6730.0],[17500.0],[9130.0],[6490.0],[8970.0],[9440.0],[24450.0],[7570.0],[3030.0],[680.0],[5800.0],[7400.0],[2900.0],[11520.0],[6340.0],[29410.0],[44670.0],[14890.0],[25687.30006053676],[22869.047234854042],[6522.2198120028925],[8147.511888586957],[8684.766957689724],[16412.882254666958],[33008.39405829596],[22498.412791838335],[18260.58079781138]],\"domain\":{\"x\":[0.0,1.0],\"y\":[0.0,1.0]},\"hovertemplate\":\"labels=%{label}<br>Medianqmp_sum=%{value}<br>parent=%{parent}<br>id=%{id}<br>Medianqmp=%{color}<extra></extra>\",\"ids\":[\"Medianquadratmeterpreis nach Zone und Quartier im 2021/Kernzone/Affoltern/2021-01-01\",\"Medianquadratmeterpreis nach Zone und Quartier im 2021/Wohnzone 3/Affoltern/2021-01-01\",\"Medianquadratmeterpreis nach Zone und Quartier im 2021/Wohnzone 4/Affoltern/2021-01-01\",\"Medianquadratmeterpreis nach Zone und Quartier im 2021/Wohnzone 5/Affoltern/2021-01-01\",\"Medianquadratmeterpreis nach Zone und Quartier im 2021/Wohnzone 2/Albisrieden/2021-01-01\",\"Medianquadratmeterpreis nach Zone und Quartier im 2021/Wohnzone 3/Albisrieden/2021-01-01\",\"Medianquadratmeterpreis nach Zone und Quartier im 2021/Wohnzone 4/Albisrieden/2021-01-01\",\"Medianquadratmeterpreis nach Zone und Quartier im 2021/Wohnzone 5/Albisrieden/2021-01-01\",\"Medianquadratmeterpreis nach Zone und Quartier im 2021/Quartiererhaltungszone/Alt-Wiedikon/2021-01-01\",\"Medianquadratmeterpreis nach Zone und Quartier im 2021/Wohnzone 2/Alt-Wiedikon/2021-01-01\",\"Medianquadratmeterpreis nach Zone und Quartier im 2021/Wohnzone 4/Alt-Wiedikon/2021-01-01\",\"Medianquadratmeterpreis nach Zone und Quartier im 2021/Wohnzone 5/Alt-Wiedikon/2021-01-01\",\"Medianquadratmeterpreis nach Zone und Quartier im 2021/Zentrumszone/Alt-Wiedikon/2021-01-01\",\"Medianquadratmeterpreis nach Zone und Quartier im 2021/Kernzone/Altstetten/2021-01-01\",\"Medianquadratmeterpreis nach Zone und Quartier im 2021/Wohnzone 3/Altstetten/2021-01-01\",\"Medianquadratmeterpreis nach Zone und Quartier im 2021/Wohnzone 4/Altstetten/2021-01-01\",\"Medianquadratmeterpreis nach Zone und Quartier im 2021/Wohnzone 5/Altstetten/2021-01-01\",\"Medianquadratmeterpreis nach Zone und Quartier im 2021/Zentrumszone/Altstetten/2021-01-01\",\"Medianquadratmeterpreis nach Zone und Quartier im 2021/Kernzone/Enge/2021-01-01\",\"Medianquadratmeterpreis nach Zone und Quartier im 2021/Quartiererhaltungszone/Enge/2021-01-01\",\"Medianquadratmeterpreis nach Zone und Quartier im 2021/Wohnzone 3/Enge/2021-01-01\",\"Medianquadratmeterpreis nach Zone und Quartier im 2021/Wohnzone 4/Enge/2021-01-01\",\"Medianquadratmeterpreis nach Zone und Quartier im 2021/Wohnzone 5/Enge/2021-01-01\",\"Medianquadratmeterpreis nach Zone und Quartier im 2021/Kernzone/Escher Wyss/2021-01-01\",\"Medianquadratmeterpreis nach Zone und Quartier im 2021/Zentrumszone/Escher Wyss/2021-01-01\",\"Medianquadratmeterpreis nach Zone und Quartier im 2021/Kernzone/Fluntern/2021-01-01\",\"Medianquadratmeterpreis nach Zone und Quartier im 2021/Wohnzone 2/Fluntern/2021-01-01\",\"Medianquadratmeterpreis nach Zone und Quartier im 2021/Wohnzone 3/Fluntern/2021-01-01\",\"Medianquadratmeterpreis nach Zone und Quartier im 2021/Wohnzone 4/Fluntern/2021-01-01\",\"Medianquadratmeterpreis nach Zone und Quartier im 2021/Wohnzone 3/Friesenberg/2021-01-01\",\"Medianquadratmeterpreis nach Zone und Quartier im 2021/Wohnzone 4/Friesenberg/2021-01-01\",\"Medianquadratmeterpreis nach Zone und Quartier im 2021/Quartiererhaltungszone/Gewerbeschule/2021-01-01\",\"Medianquadratmeterpreis nach Zone und Quartier im 2021/Quartiererhaltungszone/Hard/2021-01-01\",\"Medianquadratmeterpreis nach Zone und Quartier im 2021/Wohnzone 6/Hard/2021-01-01\",\"Medianquadratmeterpreis nach Zone und Quartier im 2021/Wohnzone 2/Hirslanden/2021-01-01\",\"Medianquadratmeterpreis nach Zone und Quartier im 2021/Wohnzone 3/Hirslanden/2021-01-01\",\"Medianquadratmeterpreis nach Zone und Quartier im 2021/Wohnzone 4/Hirslanden/2021-01-01\",\"Medianquadratmeterpreis nach Zone und Quartier im 2021/Wohnzone 5/Hirslanden/2021-01-01\",\"Medianquadratmeterpreis nach Zone und Quartier im 2021/Wohnzone 2/Hirzenbach/2021-01-01\",\"Medianquadratmeterpreis nach Zone und Quartier im 2021/Wohnzone 3/Hirzenbach/2021-01-01\",\"Medianquadratmeterpreis nach Zone und Quartier im 2021/Wohnzone 4/Hirzenbach/2021-01-01\",\"Medianquadratmeterpreis nach Zone und Quartier im 2021/Kernzone/Hottingen/2021-01-01\",\"Medianquadratmeterpreis nach Zone und Quartier im 2021/Quartiererhaltungszone/Hottingen/2021-01-01\",\"Medianquadratmeterpreis nach Zone und Quartier im 2021/Wohnzone 2/Hottingen/2021-01-01\",\"Medianquadratmeterpreis nach Zone und Quartier im 2021/Wohnzone 4/Hottingen/2021-01-01\",\"Medianquadratmeterpreis nach Zone und Quartier im 2021/Kernzone/H\\u00f6ngg/2021-01-01\",\"Medianquadratmeterpreis nach Zone und Quartier im 2021/Wohnzone 2/H\\u00f6ngg/2021-01-01\",\"Medianquadratmeterpreis nach Zone und Quartier im 2021/Wohnzone 3/H\\u00f6ngg/2021-01-01\",\"Medianquadratmeterpreis nach Zone und Quartier im 2021/Wohnzone 4/H\\u00f6ngg/2021-01-01\",\"Medianquadratmeterpreis nach Zone und Quartier im 2021/Quartiererhaltungszone/Langstrasse/2021-01-01\",\"Medianquadratmeterpreis nach Zone und Quartier im 2021/Kernzone/Leimbach/2021-01-01\",\"Medianquadratmeterpreis nach Zone und Quartier im 2021/Wohnzone 3/Leimbach/2021-01-01\",\"Medianquadratmeterpreis nach Zone und Quartier im 2021/Wohnzone 4/Leimbach/2021-01-01\",\"Medianquadratmeterpreis nach Zone und Quartier im 2021/Kernzone/M\\u00fchlebach/2021-01-01\",\"Medianquadratmeterpreis nach Zone und Quartier im 2021/Quartiererhaltungszone/M\\u00fchlebach/2021-01-01\",\"Medianquadratmeterpreis nach Zone und Quartier im 2021/Wohnzone 3/M\\u00fchlebach/2021-01-01\",\"Medianquadratmeterpreis nach Zone und Quartier im 2021/Wohnzone 4/M\\u00fchlebach/2021-01-01\",\"Medianquadratmeterpreis nach Zone und Quartier im 2021/Wohnzone 2/Oberstrass/2021-01-01\",\"Medianquadratmeterpreis nach Zone und Quartier im 2021/Wohnzone 4/Oberstrass/2021-01-01\",\"Medianquadratmeterpreis nach Zone und Quartier im 2021/Wohnzone 5/Oberstrass/2021-01-01\",\"Medianquadratmeterpreis nach Zone und Quartier im 2021/Quartiererhaltungszone/Oerlikon/2021-01-01\",\"Medianquadratmeterpreis nach Zone und Quartier im 2021/Wohnzone 2/Oerlikon/2021-01-01\",\"Medianquadratmeterpreis nach Zone und Quartier im 2021/Wohnzone 3/Oerlikon/2021-01-01\",\"Medianquadratmeterpreis nach Zone und Quartier im 2021/Wohnzone 4/Oerlikon/2021-01-01\",\"Medianquadratmeterpreis nach Zone und Quartier im 2021/Wohnzone 5/Oerlikon/2021-01-01\",\"Medianquadratmeterpreis nach Zone und Quartier im 2021/Wohnzone 6/Oerlikon/2021-01-01\",\"Medianquadratmeterpreis nach Zone und Quartier im 2021/Wohnzone 3/Saatlen/2021-01-01\",\"Medianquadratmeterpreis nach Zone und Quartier im 2021/Wohnzone 4/Saatlen/2021-01-01\",\"Medianquadratmeterpreis nach Zone und Quartier im 2021/Wohnzone 3/Schwamendingen-Mitte/2021-01-01\",\"Medianquadratmeterpreis nach Zone und Quartier im 2021/Wohnzone 4/Schwamendingen-Mitte/2021-01-01\",\"Medianquadratmeterpreis nach Zone und Quartier im 2021/Wohnzone 5/Schwamendingen-Mitte/2021-01-01\",\"Medianquadratmeterpreis nach Zone und Quartier im 2021/Quartiererhaltungszone/Seebach/2021-01-01\",\"Medianquadratmeterpreis nach Zone und Quartier im 2021/Wohnzone 3/Seebach/2021-01-01\",\"Medianquadratmeterpreis nach Zone und Quartier im 2021/Wohnzone 4/Seebach/2021-01-01\",\"Medianquadratmeterpreis nach Zone und Quartier im 2021/Wohnzone 5/Seebach/2021-01-01\",\"Medianquadratmeterpreis nach Zone und Quartier im 2021/Zentrumszone/Seebach/2021-01-01\",\"Medianquadratmeterpreis nach Zone und Quartier im 2021/Kernzone/Seefeld/2021-01-01\",\"Medianquadratmeterpreis nach Zone und Quartier im 2021/Quartiererhaltungszone/Seefeld/2021-01-01\",\"Medianquadratmeterpreis nach Zone und Quartier im 2021/Quartiererhaltungszone/Sihlfeld/2021-01-01\",\"Medianquadratmeterpreis nach Zone und Quartier im 2021/Quartiererhaltungszone/Unterstrass/2021-01-01\",\"Medianquadratmeterpreis nach Zone und Quartier im 2021/Wohnzone 2/Unterstrass/2021-01-01\",\"Medianquadratmeterpreis nach Zone und Quartier im 2021/Wohnzone 4/Unterstrass/2021-01-01\",\"Medianquadratmeterpreis nach Zone und Quartier im 2021/Wohnzone 5/Unterstrass/2021-01-01\",\"Medianquadratmeterpreis nach Zone und Quartier im 2021/Wohnzone 2/Weinegg/2021-01-01\",\"Medianquadratmeterpreis nach Zone und Quartier im 2021/Wohnzone 3/Weinegg/2021-01-01\",\"Medianquadratmeterpreis nach Zone und Quartier im 2021/Wohnzone 4/Weinegg/2021-01-01\",\"Medianquadratmeterpreis nach Zone und Quartier im 2021/Quartiererhaltungszone/Werd/2021-01-01\",\"Medianquadratmeterpreis nach Zone und Quartier im 2021/Quartiererhaltungszone/Wipkingen/2021-01-01\",\"Medianquadratmeterpreis nach Zone und Quartier im 2021/Wohnzone 2/Wipkingen/2021-01-01\",\"Medianquadratmeterpreis nach Zone und Quartier im 2021/Wohnzone 4/Wipkingen/2021-01-01\",\"Medianquadratmeterpreis nach Zone und Quartier im 2021/Wohnzone 5/Wipkingen/2021-01-01\",\"Medianquadratmeterpreis nach Zone und Quartier im 2021/Wohnzone 2/Witikon/2021-01-01\",\"Medianquadratmeterpreis nach Zone und Quartier im 2021/Wohnzone 3/Witikon/2021-01-01\",\"Medianquadratmeterpreis nach Zone und Quartier im 2021/Wohnzone 2/Wollishofen/2021-01-01\",\"Medianquadratmeterpreis nach Zone und Quartier im 2021/Wohnzone 3/Wollishofen/2021-01-01\",\"Medianquadratmeterpreis nach Zone und Quartier im 2021/Wohnzone 4/Wollishofen/2021-01-01\",\"Medianquadratmeterpreis nach Zone und Quartier im 2021/Wohnzone 5/Wollishofen/2021-01-01\",\"Medianquadratmeterpreis nach Zone und Quartier im 2021/Wohnzone 6/Wollishofen/2021-01-01\",\"Medianquadratmeterpreis nach Zone und Quartier im 2021/Zentrumszone/Wollishofen/2021-01-01\",\"Medianquadratmeterpreis nach Zone und Quartier im 2021/Kernzone/Affoltern\",\"Medianquadratmeterpreis nach Zone und Quartier im 2021/Wohnzone 3/Affoltern\",\"Medianquadratmeterpreis nach Zone und Quartier im 2021/Wohnzone 4/Affoltern\",\"Medianquadratmeterpreis nach Zone und Quartier im 2021/Wohnzone 5/Affoltern\",\"Medianquadratmeterpreis nach Zone und Quartier im 2021/Wohnzone 2/Albisrieden\",\"Medianquadratmeterpreis nach Zone und Quartier im 2021/Wohnzone 3/Albisrieden\",\"Medianquadratmeterpreis nach Zone und Quartier im 2021/Wohnzone 4/Albisrieden\",\"Medianquadratmeterpreis nach Zone und Quartier im 2021/Wohnzone 5/Albisrieden\",\"Medianquadratmeterpreis nach Zone und Quartier im 2021/Quartiererhaltungszone/Alt-Wiedikon\",\"Medianquadratmeterpreis nach Zone und Quartier im 2021/Wohnzone 2/Alt-Wiedikon\",\"Medianquadratmeterpreis nach Zone und Quartier im 2021/Wohnzone 4/Alt-Wiedikon\",\"Medianquadratmeterpreis nach Zone und Quartier im 2021/Wohnzone 5/Alt-Wiedikon\",\"Medianquadratmeterpreis nach Zone und Quartier im 2021/Zentrumszone/Alt-Wiedikon\",\"Medianquadratmeterpreis nach Zone und Quartier im 2021/Kernzone/Altstetten\",\"Medianquadratmeterpreis nach Zone und Quartier im 2021/Wohnzone 3/Altstetten\",\"Medianquadratmeterpreis nach Zone und Quartier im 2021/Wohnzone 4/Altstetten\",\"Medianquadratmeterpreis nach Zone und Quartier im 2021/Wohnzone 5/Altstetten\",\"Medianquadratmeterpreis nach Zone und Quartier im 2021/Zentrumszone/Altstetten\",\"Medianquadratmeterpreis nach Zone und Quartier im 2021/Kernzone/Enge\",\"Medianquadratmeterpreis nach Zone und Quartier im 2021/Quartiererhaltungszone/Enge\",\"Medianquadratmeterpreis nach Zone und Quartier im 2021/Wohnzone 3/Enge\",\"Medianquadratmeterpreis nach Zone und Quartier im 2021/Wohnzone 4/Enge\",\"Medianquadratmeterpreis nach Zone und Quartier im 2021/Wohnzone 5/Enge\",\"Medianquadratmeterpreis nach Zone und Quartier im 2021/Kernzone/Escher Wyss\",\"Medianquadratmeterpreis nach Zone und Quartier im 2021/Zentrumszone/Escher Wyss\",\"Medianquadratmeterpreis nach Zone und Quartier im 2021/Kernzone/Fluntern\",\"Medianquadratmeterpreis nach Zone und Quartier im 2021/Wohnzone 2/Fluntern\",\"Medianquadratmeterpreis nach Zone und Quartier im 2021/Wohnzone 3/Fluntern\",\"Medianquadratmeterpreis nach Zone und Quartier im 2021/Wohnzone 4/Fluntern\",\"Medianquadratmeterpreis nach Zone und Quartier im 2021/Wohnzone 3/Friesenberg\",\"Medianquadratmeterpreis nach Zone und Quartier im 2021/Wohnzone 4/Friesenberg\",\"Medianquadratmeterpreis nach Zone und Quartier im 2021/Quartiererhaltungszone/Gewerbeschule\",\"Medianquadratmeterpreis nach Zone und Quartier im 2021/Quartiererhaltungszone/Hard\",\"Medianquadratmeterpreis nach Zone und Quartier im 2021/Wohnzone 6/Hard\",\"Medianquadratmeterpreis nach Zone und Quartier im 2021/Wohnzone 2/Hirslanden\",\"Medianquadratmeterpreis nach Zone und Quartier im 2021/Wohnzone 3/Hirslanden\",\"Medianquadratmeterpreis nach Zone und Quartier im 2021/Wohnzone 4/Hirslanden\",\"Medianquadratmeterpreis nach Zone und Quartier im 2021/Wohnzone 5/Hirslanden\",\"Medianquadratmeterpreis nach Zone und Quartier im 2021/Wohnzone 2/Hirzenbach\",\"Medianquadratmeterpreis nach Zone und Quartier im 2021/Wohnzone 3/Hirzenbach\",\"Medianquadratmeterpreis nach Zone und Quartier im 2021/Wohnzone 4/Hirzenbach\",\"Medianquadratmeterpreis nach Zone und Quartier im 2021/Kernzone/Hottingen\",\"Medianquadratmeterpreis nach Zone und Quartier im 2021/Quartiererhaltungszone/Hottingen\",\"Medianquadratmeterpreis nach Zone und Quartier im 2021/Wohnzone 2/Hottingen\",\"Medianquadratmeterpreis nach Zone und Quartier im 2021/Wohnzone 4/Hottingen\",\"Medianquadratmeterpreis nach Zone und Quartier im 2021/Kernzone/H\\u00f6ngg\",\"Medianquadratmeterpreis nach Zone und Quartier im 2021/Wohnzone 2/H\\u00f6ngg\",\"Medianquadratmeterpreis nach Zone und Quartier im 2021/Wohnzone 3/H\\u00f6ngg\",\"Medianquadratmeterpreis nach Zone und Quartier im 2021/Wohnzone 4/H\\u00f6ngg\",\"Medianquadratmeterpreis nach Zone und Quartier im 2021/Quartiererhaltungszone/Langstrasse\",\"Medianquadratmeterpreis nach Zone und Quartier im 2021/Kernzone/Leimbach\",\"Medianquadratmeterpreis nach Zone und Quartier im 2021/Wohnzone 3/Leimbach\",\"Medianquadratmeterpreis nach Zone und Quartier im 2021/Wohnzone 4/Leimbach\",\"Medianquadratmeterpreis nach Zone und Quartier im 2021/Kernzone/M\\u00fchlebach\",\"Medianquadratmeterpreis nach Zone und Quartier im 2021/Quartiererhaltungszone/M\\u00fchlebach\",\"Medianquadratmeterpreis nach Zone und Quartier im 2021/Wohnzone 3/M\\u00fchlebach\",\"Medianquadratmeterpreis nach Zone und Quartier im 2021/Wohnzone 4/M\\u00fchlebach\",\"Medianquadratmeterpreis nach Zone und Quartier im 2021/Wohnzone 2/Oberstrass\",\"Medianquadratmeterpreis nach Zone und Quartier im 2021/Wohnzone 4/Oberstrass\",\"Medianquadratmeterpreis nach Zone und Quartier im 2021/Wohnzone 5/Oberstrass\",\"Medianquadratmeterpreis nach Zone und Quartier im 2021/Quartiererhaltungszone/Oerlikon\",\"Medianquadratmeterpreis nach Zone und Quartier im 2021/Wohnzone 2/Oerlikon\",\"Medianquadratmeterpreis nach Zone und Quartier im 2021/Wohnzone 3/Oerlikon\",\"Medianquadratmeterpreis nach Zone und Quartier im 2021/Wohnzone 4/Oerlikon\",\"Medianquadratmeterpreis nach Zone und Quartier im 2021/Wohnzone 5/Oerlikon\",\"Medianquadratmeterpreis nach Zone und Quartier im 2021/Wohnzone 6/Oerlikon\",\"Medianquadratmeterpreis nach Zone und Quartier im 2021/Wohnzone 3/Saatlen\",\"Medianquadratmeterpreis nach Zone und Quartier im 2021/Wohnzone 4/Saatlen\",\"Medianquadratmeterpreis nach Zone und Quartier im 2021/Wohnzone 3/Schwamendingen-Mitte\",\"Medianquadratmeterpreis nach Zone und Quartier im 2021/Wohnzone 4/Schwamendingen-Mitte\",\"Medianquadratmeterpreis nach Zone und Quartier im 2021/Wohnzone 5/Schwamendingen-Mitte\",\"Medianquadratmeterpreis nach Zone und Quartier im 2021/Quartiererhaltungszone/Seebach\",\"Medianquadratmeterpreis nach Zone und Quartier im 2021/Wohnzone 3/Seebach\",\"Medianquadratmeterpreis nach Zone und Quartier im 2021/Wohnzone 4/Seebach\",\"Medianquadratmeterpreis nach Zone und Quartier im 2021/Wohnzone 5/Seebach\",\"Medianquadratmeterpreis nach Zone und Quartier im 2021/Zentrumszone/Seebach\",\"Medianquadratmeterpreis nach Zone und Quartier im 2021/Kernzone/Seefeld\",\"Medianquadratmeterpreis nach Zone und Quartier im 2021/Quartiererhaltungszone/Seefeld\",\"Medianquadratmeterpreis nach Zone und Quartier im 2021/Quartiererhaltungszone/Sihlfeld\",\"Medianquadratmeterpreis nach Zone und Quartier im 2021/Quartiererhaltungszone/Unterstrass\",\"Medianquadratmeterpreis nach Zone und Quartier im 2021/Wohnzone 2/Unterstrass\",\"Medianquadratmeterpreis nach Zone und Quartier im 2021/Wohnzone 4/Unterstrass\",\"Medianquadratmeterpreis nach Zone und Quartier im 2021/Wohnzone 5/Unterstrass\",\"Medianquadratmeterpreis nach Zone und Quartier im 2021/Wohnzone 2/Weinegg\",\"Medianquadratmeterpreis nach Zone und Quartier im 2021/Wohnzone 3/Weinegg\",\"Medianquadratmeterpreis nach Zone und Quartier im 2021/Wohnzone 4/Weinegg\",\"Medianquadratmeterpreis nach Zone und Quartier im 2021/Quartiererhaltungszone/Werd\",\"Medianquadratmeterpreis nach Zone und Quartier im 2021/Quartiererhaltungszone/Wipkingen\",\"Medianquadratmeterpreis nach Zone und Quartier im 2021/Wohnzone 2/Wipkingen\",\"Medianquadratmeterpreis nach Zone und Quartier im 2021/Wohnzone 4/Wipkingen\",\"Medianquadratmeterpreis nach Zone und Quartier im 2021/Wohnzone 5/Wipkingen\",\"Medianquadratmeterpreis nach Zone und Quartier im 2021/Wohnzone 2/Witikon\",\"Medianquadratmeterpreis nach Zone und Quartier im 2021/Wohnzone 3/Witikon\",\"Medianquadratmeterpreis nach Zone und Quartier im 2021/Wohnzone 2/Wollishofen\",\"Medianquadratmeterpreis nach Zone und Quartier im 2021/Wohnzone 3/Wollishofen\",\"Medianquadratmeterpreis nach Zone und Quartier im 2021/Wohnzone 4/Wollishofen\",\"Medianquadratmeterpreis nach Zone und Quartier im 2021/Wohnzone 5/Wollishofen\",\"Medianquadratmeterpreis nach Zone und Quartier im 2021/Wohnzone 6/Wollishofen\",\"Medianquadratmeterpreis nach Zone und Quartier im 2021/Zentrumszone/Wollishofen\",\"Medianquadratmeterpreis nach Zone und Quartier im 2021/Kernzone\",\"Medianquadratmeterpreis nach Zone und Quartier im 2021/Quartiererhaltungszone\",\"Medianquadratmeterpreis nach Zone und Quartier im 2021/Wohnzone 2\",\"Medianquadratmeterpreis nach Zone und Quartier im 2021/Wohnzone 3\",\"Medianquadratmeterpreis nach Zone und Quartier im 2021/Wohnzone 4\",\"Medianquadratmeterpreis nach Zone und Quartier im 2021/Wohnzone 5\",\"Medianquadratmeterpreis nach Zone und Quartier im 2021/Wohnzone 6\",\"Medianquadratmeterpreis nach Zone und Quartier im 2021/Zentrumszone\",\"Medianquadratmeterpreis nach Zone und Quartier im 2021\"],\"labels\":[\"2021-01-01\",\"2021-01-01\",\"2021-01-01\",\"2021-01-01\",\"2021-01-01\",\"2021-01-01\",\"2021-01-01\",\"2021-01-01\",\"2021-01-01\",\"2021-01-01\",\"2021-01-01\",\"2021-01-01\",\"2021-01-01\",\"2021-01-01\",\"2021-01-01\",\"2021-01-01\",\"2021-01-01\",\"2021-01-01\",\"2021-01-01\",\"2021-01-01\",\"2021-01-01\",\"2021-01-01\",\"2021-01-01\",\"2021-01-01\",\"2021-01-01\",\"2021-01-01\",\"2021-01-01\",\"2021-01-01\",\"2021-01-01\",\"2021-01-01\",\"2021-01-01\",\"2021-01-01\",\"2021-01-01\",\"2021-01-01\",\"2021-01-01\",\"2021-01-01\",\"2021-01-01\",\"2021-01-01\",\"2021-01-01\",\"2021-01-01\",\"2021-01-01\",\"2021-01-01\",\"2021-01-01\",\"2021-01-01\",\"2021-01-01\",\"2021-01-01\",\"2021-01-01\",\"2021-01-01\",\"2021-01-01\",\"2021-01-01\",\"2021-01-01\",\"2021-01-01\",\"2021-01-01\",\"2021-01-01\",\"2021-01-01\",\"2021-01-01\",\"2021-01-01\",\"2021-01-01\",\"2021-01-01\",\"2021-01-01\",\"2021-01-01\",\"2021-01-01\",\"2021-01-01\",\"2021-01-01\",\"2021-01-01\",\"2021-01-01\",\"2021-01-01\",\"2021-01-01\",\"2021-01-01\",\"2021-01-01\",\"2021-01-01\",\"2021-01-01\",\"2021-01-01\",\"2021-01-01\",\"2021-01-01\",\"2021-01-01\",\"2021-01-01\",\"2021-01-01\",\"2021-01-01\",\"2021-01-01\",\"2021-01-01\",\"2021-01-01\",\"2021-01-01\",\"2021-01-01\",\"2021-01-01\",\"2021-01-01\",\"2021-01-01\",\"2021-01-01\",\"2021-01-01\",\"2021-01-01\",\"2021-01-01\",\"2021-01-01\",\"2021-01-01\",\"2021-01-01\",\"2021-01-01\",\"2021-01-01\",\"2021-01-01\",\"2021-01-01\",\"2021-01-01\",\"Affoltern\",\"Affoltern\",\"Affoltern\",\"Affoltern\",\"Albisrieden\",\"Albisrieden\",\"Albisrieden\",\"Albisrieden\",\"Alt-Wiedikon\",\"Alt-Wiedikon\",\"Alt-Wiedikon\",\"Alt-Wiedikon\",\"Alt-Wiedikon\",\"Altstetten\",\"Altstetten\",\"Altstetten\",\"Altstetten\",\"Altstetten\",\"Enge\",\"Enge\",\"Enge\",\"Enge\",\"Enge\",\"Escher Wyss\",\"Escher Wyss\",\"Fluntern\",\"Fluntern\",\"Fluntern\",\"Fluntern\",\"Friesenberg\",\"Friesenberg\",\"Gewerbeschule\",\"Hard\",\"Hard\",\"Hirslanden\",\"Hirslanden\",\"Hirslanden\",\"Hirslanden\",\"Hirzenbach\",\"Hirzenbach\",\"Hirzenbach\",\"Hottingen\",\"Hottingen\",\"Hottingen\",\"Hottingen\",\"H\\u00f6ngg\",\"H\\u00f6ngg\",\"H\\u00f6ngg\",\"H\\u00f6ngg\",\"Langstrasse\",\"Leimbach\",\"Leimbach\",\"Leimbach\",\"M\\u00fchlebach\",\"M\\u00fchlebach\",\"M\\u00fchlebach\",\"M\\u00fchlebach\",\"Oberstrass\",\"Oberstrass\",\"Oberstrass\",\"Oerlikon\",\"Oerlikon\",\"Oerlikon\",\"Oerlikon\",\"Oerlikon\",\"Oerlikon\",\"Saatlen\",\"Saatlen\",\"Schwamendingen-Mitte\",\"Schwamendingen-Mitte\",\"Schwamendingen-Mitte\",\"Seebach\",\"Seebach\",\"Seebach\",\"Seebach\",\"Seebach\",\"Seefeld\",\"Seefeld\",\"Sihlfeld\",\"Unterstrass\",\"Unterstrass\",\"Unterstrass\",\"Unterstrass\",\"Weinegg\",\"Weinegg\",\"Weinegg\",\"Werd\",\"Wipkingen\",\"Wipkingen\",\"Wipkingen\",\"Wipkingen\",\"Witikon\",\"Witikon\",\"Wollishofen\",\"Wollishofen\",\"Wollishofen\",\"Wollishofen\",\"Wollishofen\",\"Wollishofen\",\"Kernzone\",\"Quartiererhaltungszone\",\"Wohnzone 2\",\"Wohnzone 3\",\"Wohnzone 4\",\"Wohnzone 5\",\"Wohnzone 6\",\"Zentrumszone\",\"Medianquadratmeterpreis nach Zone und Quartier im 2021\"],\"marker\":{\"coloraxis\":\"coloraxis\",\"colors\":[2740.0,3910.0,7380.0,6230.0,3320.0,4840.0,9960.0,6630.0,19420.0,6400.0,2670.0,12520.0,18160.0,4660.0,5850.0,4950.0,7210.0,13960.0,39610.0,37760.0,1110.0,13150.0,9490.0,5030.0,31850.0,6850.0,6890.0,13980.0,15190.0,7500.0,2760.0,20980.0,19930.0,14740.0,4320.0,11550.0,8990.0,17800.0,4020.0,4300.0,1870.0,33060.0,12350.0,8130.0,7260.0,8220.0,6000.0,6990.0,5780.0,23840.0,6200.0,1640.0,4780.0,15910.0,17670.0,5310.0,14120.0,6630.0,6010.0,16880.0,15350.0,3970.0,5850.0,4990.0,9700.0,11950.0,5090.0,3370.0,9230.0,4950.0,3210.0,5080.0,5200.0,5650.0,410.0,23080.0,26390.0,13100.0,23370.0,29940.0,7900.0,6730.0,17500.0,9130.0,6490.0,8970.0,9440.0,24450.0,7570.0,3030.0,680.0,5800.0,7400.0,2900.0,11520.0,6340.0,29410.0,44670.0,14890.0,2740.0,3910.0,7380.0,6230.0,3320.0,4840.0,9960.0,6630.0,19420.0,6400.0,2670.0,12520.0,18160.0,4660.0,5850.0,4950.0,7210.0,13960.0,39610.0,37760.0,1110.0,13150.0,9490.0,5030.0,31850.0,6850.0,6890.0,13980.0,15190.0,7500.0,2760.0,20980.0,19930.0,14740.0,4320.0,11550.0,8990.0,17800.0,4020.0,4300.0,1870.0,33060.0,12350.0,8130.0,7260.0,8220.0,6000.0,6990.0,5780.0,23840.0,6200.0,1640.0,4780.0,15910.0,17670.0,5310.0,14120.0,6630.0,6010.0,16880.0,15350.0,3970.0,5850.0,4990.0,9700.0,11950.0,5090.0,3370.0,9230.0,4950.0,3210.0,5080.0,5200.0,5650.0,410.0,23080.0,26390.0,13100.0,23370.0,29940.0,7900.0,6730.0,17500.0,9130.0,6490.0,8970.0,9440.0,24450.0,7570.0,3030.0,680.0,5800.0,7400.0,2900.0,11520.0,6340.0,29410.0,44670.0,14890.0,25687.30006053676,22869.047234854042,6522.2198120028925,8147.511888586957,8684.766957689724,16412.882254666958,33008.39405829596,22498.412791838335,18260.58079781138]},\"name\":\"\",\"parents\":[\"Medianquadratmeterpreis nach Zone und Quartier im 2021/Kernzone/Affoltern\",\"Medianquadratmeterpreis nach Zone und Quartier im 2021/Wohnzone 3/Affoltern\",\"Medianquadratmeterpreis nach Zone und Quartier im 2021/Wohnzone 4/Affoltern\",\"Medianquadratmeterpreis nach Zone und Quartier im 2021/Wohnzone 5/Affoltern\",\"Medianquadratmeterpreis nach Zone und Quartier im 2021/Wohnzone 2/Albisrieden\",\"Medianquadratmeterpreis nach Zone und Quartier im 2021/Wohnzone 3/Albisrieden\",\"Medianquadratmeterpreis nach Zone und Quartier im 2021/Wohnzone 4/Albisrieden\",\"Medianquadratmeterpreis nach Zone und Quartier im 2021/Wohnzone 5/Albisrieden\",\"Medianquadratmeterpreis nach Zone und Quartier im 2021/Quartiererhaltungszone/Alt-Wiedikon\",\"Medianquadratmeterpreis nach Zone und Quartier im 2021/Wohnzone 2/Alt-Wiedikon\",\"Medianquadratmeterpreis nach Zone und Quartier im 2021/Wohnzone 4/Alt-Wiedikon\",\"Medianquadratmeterpreis nach Zone und Quartier im 2021/Wohnzone 5/Alt-Wiedikon\",\"Medianquadratmeterpreis nach Zone und Quartier im 2021/Zentrumszone/Alt-Wiedikon\",\"Medianquadratmeterpreis nach Zone und Quartier im 2021/Kernzone/Altstetten\",\"Medianquadratmeterpreis nach Zone und Quartier im 2021/Wohnzone 3/Altstetten\",\"Medianquadratmeterpreis nach Zone und Quartier im 2021/Wohnzone 4/Altstetten\",\"Medianquadratmeterpreis nach Zone und Quartier im 2021/Wohnzone 5/Altstetten\",\"Medianquadratmeterpreis nach Zone und Quartier im 2021/Zentrumszone/Altstetten\",\"Medianquadratmeterpreis nach Zone und Quartier im 2021/Kernzone/Enge\",\"Medianquadratmeterpreis nach Zone und Quartier im 2021/Quartiererhaltungszone/Enge\",\"Medianquadratmeterpreis nach Zone und Quartier im 2021/Wohnzone 3/Enge\",\"Medianquadratmeterpreis nach Zone und Quartier im 2021/Wohnzone 4/Enge\",\"Medianquadratmeterpreis nach Zone und Quartier im 2021/Wohnzone 5/Enge\",\"Medianquadratmeterpreis nach Zone und Quartier im 2021/Kernzone/Escher Wyss\",\"Medianquadratmeterpreis nach Zone und Quartier im 2021/Zentrumszone/Escher Wyss\",\"Medianquadratmeterpreis nach Zone und Quartier im 2021/Kernzone/Fluntern\",\"Medianquadratmeterpreis nach Zone und Quartier im 2021/Wohnzone 2/Fluntern\",\"Medianquadratmeterpreis nach Zone und Quartier im 2021/Wohnzone 3/Fluntern\",\"Medianquadratmeterpreis nach Zone und Quartier im 2021/Wohnzone 4/Fluntern\",\"Medianquadratmeterpreis nach Zone und Quartier im 2021/Wohnzone 3/Friesenberg\",\"Medianquadratmeterpreis nach Zone und Quartier im 2021/Wohnzone 4/Friesenberg\",\"Medianquadratmeterpreis nach Zone und Quartier im 2021/Quartiererhaltungszone/Gewerbeschule\",\"Medianquadratmeterpreis nach Zone und Quartier im 2021/Quartiererhaltungszone/Hard\",\"Medianquadratmeterpreis nach Zone und Quartier im 2021/Wohnzone 6/Hard\",\"Medianquadratmeterpreis nach Zone und Quartier im 2021/Wohnzone 2/Hirslanden\",\"Medianquadratmeterpreis nach Zone und Quartier im 2021/Wohnzone 3/Hirslanden\",\"Medianquadratmeterpreis nach Zone und Quartier im 2021/Wohnzone 4/Hirslanden\",\"Medianquadratmeterpreis nach Zone und Quartier im 2021/Wohnzone 5/Hirslanden\",\"Medianquadratmeterpreis nach Zone und Quartier im 2021/Wohnzone 2/Hirzenbach\",\"Medianquadratmeterpreis nach Zone und Quartier im 2021/Wohnzone 3/Hirzenbach\",\"Medianquadratmeterpreis nach Zone und Quartier im 2021/Wohnzone 4/Hirzenbach\",\"Medianquadratmeterpreis nach Zone und Quartier im 2021/Kernzone/Hottingen\",\"Medianquadratmeterpreis nach Zone und Quartier im 2021/Quartiererhaltungszone/Hottingen\",\"Medianquadratmeterpreis nach Zone und Quartier im 2021/Wohnzone 2/Hottingen\",\"Medianquadratmeterpreis nach Zone und Quartier im 2021/Wohnzone 4/Hottingen\",\"Medianquadratmeterpreis nach Zone und Quartier im 2021/Kernzone/H\\u00f6ngg\",\"Medianquadratmeterpreis nach Zone und Quartier im 2021/Wohnzone 2/H\\u00f6ngg\",\"Medianquadratmeterpreis nach Zone und Quartier im 2021/Wohnzone 3/H\\u00f6ngg\",\"Medianquadratmeterpreis nach Zone und Quartier im 2021/Wohnzone 4/H\\u00f6ngg\",\"Medianquadratmeterpreis nach Zone und Quartier im 2021/Quartiererhaltungszone/Langstrasse\",\"Medianquadratmeterpreis nach Zone und Quartier im 2021/Kernzone/Leimbach\",\"Medianquadratmeterpreis nach Zone und Quartier im 2021/Wohnzone 3/Leimbach\",\"Medianquadratmeterpreis nach Zone und Quartier im 2021/Wohnzone 4/Leimbach\",\"Medianquadratmeterpreis nach Zone und Quartier im 2021/Kernzone/M\\u00fchlebach\",\"Medianquadratmeterpreis nach Zone und Quartier im 2021/Quartiererhaltungszone/M\\u00fchlebach\",\"Medianquadratmeterpreis nach Zone und Quartier im 2021/Wohnzone 3/M\\u00fchlebach\",\"Medianquadratmeterpreis nach Zone und Quartier im 2021/Wohnzone 4/M\\u00fchlebach\",\"Medianquadratmeterpreis nach Zone und Quartier im 2021/Wohnzone 2/Oberstrass\",\"Medianquadratmeterpreis nach Zone und Quartier im 2021/Wohnzone 4/Oberstrass\",\"Medianquadratmeterpreis nach Zone und Quartier im 2021/Wohnzone 5/Oberstrass\",\"Medianquadratmeterpreis nach Zone und Quartier im 2021/Quartiererhaltungszone/Oerlikon\",\"Medianquadratmeterpreis nach Zone und Quartier im 2021/Wohnzone 2/Oerlikon\",\"Medianquadratmeterpreis nach Zone und Quartier im 2021/Wohnzone 3/Oerlikon\",\"Medianquadratmeterpreis nach Zone und Quartier im 2021/Wohnzone 4/Oerlikon\",\"Medianquadratmeterpreis nach Zone und Quartier im 2021/Wohnzone 5/Oerlikon\",\"Medianquadratmeterpreis nach Zone und Quartier im 2021/Wohnzone 6/Oerlikon\",\"Medianquadratmeterpreis nach Zone und Quartier im 2021/Wohnzone 3/Saatlen\",\"Medianquadratmeterpreis nach Zone und Quartier im 2021/Wohnzone 4/Saatlen\",\"Medianquadratmeterpreis nach Zone und Quartier im 2021/Wohnzone 3/Schwamendingen-Mitte\",\"Medianquadratmeterpreis nach Zone und Quartier im 2021/Wohnzone 4/Schwamendingen-Mitte\",\"Medianquadratmeterpreis nach Zone und Quartier im 2021/Wohnzone 5/Schwamendingen-Mitte\",\"Medianquadratmeterpreis nach Zone und Quartier im 2021/Quartiererhaltungszone/Seebach\",\"Medianquadratmeterpreis nach Zone und Quartier im 2021/Wohnzone 3/Seebach\",\"Medianquadratmeterpreis nach Zone und Quartier im 2021/Wohnzone 4/Seebach\",\"Medianquadratmeterpreis nach Zone und Quartier im 2021/Wohnzone 5/Seebach\",\"Medianquadratmeterpreis nach Zone und Quartier im 2021/Zentrumszone/Seebach\",\"Medianquadratmeterpreis nach Zone und Quartier im 2021/Kernzone/Seefeld\",\"Medianquadratmeterpreis nach Zone und Quartier im 2021/Quartiererhaltungszone/Seefeld\",\"Medianquadratmeterpreis nach Zone und Quartier im 2021/Quartiererhaltungszone/Sihlfeld\",\"Medianquadratmeterpreis nach Zone und Quartier im 2021/Quartiererhaltungszone/Unterstrass\",\"Medianquadratmeterpreis nach Zone und Quartier im 2021/Wohnzone 2/Unterstrass\",\"Medianquadratmeterpreis nach Zone und Quartier im 2021/Wohnzone 4/Unterstrass\",\"Medianquadratmeterpreis nach Zone und Quartier im 2021/Wohnzone 5/Unterstrass\",\"Medianquadratmeterpreis nach Zone und Quartier im 2021/Wohnzone 2/Weinegg\",\"Medianquadratmeterpreis nach Zone und Quartier im 2021/Wohnzone 3/Weinegg\",\"Medianquadratmeterpreis nach Zone und Quartier im 2021/Wohnzone 4/Weinegg\",\"Medianquadratmeterpreis nach Zone und Quartier im 2021/Quartiererhaltungszone/Werd\",\"Medianquadratmeterpreis nach Zone und Quartier im 2021/Quartiererhaltungszone/Wipkingen\",\"Medianquadratmeterpreis nach Zone und Quartier im 2021/Wohnzone 2/Wipkingen\",\"Medianquadratmeterpreis nach Zone und Quartier im 2021/Wohnzone 4/Wipkingen\",\"Medianquadratmeterpreis nach Zone und Quartier im 2021/Wohnzone 5/Wipkingen\",\"Medianquadratmeterpreis nach Zone und Quartier im 2021/Wohnzone 2/Witikon\",\"Medianquadratmeterpreis nach Zone und Quartier im 2021/Wohnzone 3/Witikon\",\"Medianquadratmeterpreis nach Zone und Quartier im 2021/Wohnzone 2/Wollishofen\",\"Medianquadratmeterpreis nach Zone und Quartier im 2021/Wohnzone 3/Wollishofen\",\"Medianquadratmeterpreis nach Zone und Quartier im 2021/Wohnzone 4/Wollishofen\",\"Medianquadratmeterpreis nach Zone und Quartier im 2021/Wohnzone 5/Wollishofen\",\"Medianquadratmeterpreis nach Zone und Quartier im 2021/Wohnzone 6/Wollishofen\",\"Medianquadratmeterpreis nach Zone und Quartier im 2021/Zentrumszone/Wollishofen\",\"Medianquadratmeterpreis nach Zone und Quartier im 2021/Kernzone\",\"Medianquadratmeterpreis nach Zone und Quartier im 2021/Wohnzone 3\",\"Medianquadratmeterpreis nach Zone und Quartier im 2021/Wohnzone 4\",\"Medianquadratmeterpreis nach Zone und Quartier im 2021/Wohnzone 5\",\"Medianquadratmeterpreis nach Zone und Quartier im 2021/Wohnzone 2\",\"Medianquadratmeterpreis nach Zone und Quartier im 2021/Wohnzone 3\",\"Medianquadratmeterpreis nach Zone und Quartier im 2021/Wohnzone 4\",\"Medianquadratmeterpreis nach Zone und Quartier im 2021/Wohnzone 5\",\"Medianquadratmeterpreis nach Zone und Quartier im 2021/Quartiererhaltungszone\",\"Medianquadratmeterpreis nach Zone und Quartier im 2021/Wohnzone 2\",\"Medianquadratmeterpreis nach Zone und Quartier im 2021/Wohnzone 4\",\"Medianquadratmeterpreis nach Zone und Quartier im 2021/Wohnzone 5\",\"Medianquadratmeterpreis nach Zone und Quartier im 2021/Zentrumszone\",\"Medianquadratmeterpreis nach Zone und Quartier im 2021/Kernzone\",\"Medianquadratmeterpreis nach Zone und Quartier im 2021/Wohnzone 3\",\"Medianquadratmeterpreis nach Zone und Quartier im 2021/Wohnzone 4\",\"Medianquadratmeterpreis nach Zone und Quartier im 2021/Wohnzone 5\",\"Medianquadratmeterpreis nach Zone und Quartier im 2021/Zentrumszone\",\"Medianquadratmeterpreis nach Zone und Quartier im 2021/Kernzone\",\"Medianquadratmeterpreis nach Zone und Quartier im 2021/Quartiererhaltungszone\",\"Medianquadratmeterpreis nach Zone und Quartier im 2021/Wohnzone 3\",\"Medianquadratmeterpreis nach Zone und Quartier im 2021/Wohnzone 4\",\"Medianquadratmeterpreis nach Zone und Quartier im 2021/Wohnzone 5\",\"Medianquadratmeterpreis nach Zone und Quartier im 2021/Kernzone\",\"Medianquadratmeterpreis nach Zone und Quartier im 2021/Zentrumszone\",\"Medianquadratmeterpreis nach Zone und Quartier im 2021/Kernzone\",\"Medianquadratmeterpreis nach Zone und Quartier im 2021/Wohnzone 2\",\"Medianquadratmeterpreis nach Zone und Quartier im 2021/Wohnzone 3\",\"Medianquadratmeterpreis nach Zone und Quartier im 2021/Wohnzone 4\",\"Medianquadratmeterpreis nach Zone und Quartier im 2021/Wohnzone 3\",\"Medianquadratmeterpreis nach Zone und Quartier im 2021/Wohnzone 4\",\"Medianquadratmeterpreis nach Zone und Quartier im 2021/Quartiererhaltungszone\",\"Medianquadratmeterpreis nach Zone und Quartier im 2021/Quartiererhaltungszone\",\"Medianquadratmeterpreis nach Zone und Quartier im 2021/Wohnzone 6\",\"Medianquadratmeterpreis nach Zone und Quartier im 2021/Wohnzone 2\",\"Medianquadratmeterpreis nach Zone und Quartier im 2021/Wohnzone 3\",\"Medianquadratmeterpreis nach Zone und Quartier im 2021/Wohnzone 4\",\"Medianquadratmeterpreis nach Zone und Quartier im 2021/Wohnzone 5\",\"Medianquadratmeterpreis nach Zone und Quartier im 2021/Wohnzone 2\",\"Medianquadratmeterpreis nach Zone und Quartier im 2021/Wohnzone 3\",\"Medianquadratmeterpreis nach Zone und Quartier im 2021/Wohnzone 4\",\"Medianquadratmeterpreis nach Zone und Quartier im 2021/Kernzone\",\"Medianquadratmeterpreis nach Zone und Quartier im 2021/Quartiererhaltungszone\",\"Medianquadratmeterpreis nach Zone und Quartier im 2021/Wohnzone 2\",\"Medianquadratmeterpreis nach Zone und Quartier im 2021/Wohnzone 4\",\"Medianquadratmeterpreis nach Zone und Quartier im 2021/Kernzone\",\"Medianquadratmeterpreis nach Zone und Quartier im 2021/Wohnzone 2\",\"Medianquadratmeterpreis nach Zone und Quartier im 2021/Wohnzone 3\",\"Medianquadratmeterpreis nach Zone und Quartier im 2021/Wohnzone 4\",\"Medianquadratmeterpreis nach Zone und Quartier im 2021/Quartiererhaltungszone\",\"Medianquadratmeterpreis nach Zone und Quartier im 2021/Kernzone\",\"Medianquadratmeterpreis nach Zone und Quartier im 2021/Wohnzone 3\",\"Medianquadratmeterpreis nach Zone und Quartier im 2021/Wohnzone 4\",\"Medianquadratmeterpreis nach Zone und Quartier im 2021/Kernzone\",\"Medianquadratmeterpreis nach Zone und Quartier im 2021/Quartiererhaltungszone\",\"Medianquadratmeterpreis nach Zone und Quartier im 2021/Wohnzone 3\",\"Medianquadratmeterpreis nach Zone und Quartier im 2021/Wohnzone 4\",\"Medianquadratmeterpreis nach Zone und Quartier im 2021/Wohnzone 2\",\"Medianquadratmeterpreis nach Zone und Quartier im 2021/Wohnzone 4\",\"Medianquadratmeterpreis nach Zone und Quartier im 2021/Wohnzone 5\",\"Medianquadratmeterpreis nach Zone und Quartier im 2021/Quartiererhaltungszone\",\"Medianquadratmeterpreis nach Zone und Quartier im 2021/Wohnzone 2\",\"Medianquadratmeterpreis nach Zone und Quartier im 2021/Wohnzone 3\",\"Medianquadratmeterpreis nach Zone und Quartier im 2021/Wohnzone 4\",\"Medianquadratmeterpreis nach Zone und Quartier im 2021/Wohnzone 5\",\"Medianquadratmeterpreis nach Zone und Quartier im 2021/Wohnzone 6\",\"Medianquadratmeterpreis nach Zone und Quartier im 2021/Wohnzone 3\",\"Medianquadratmeterpreis nach Zone und Quartier im 2021/Wohnzone 4\",\"Medianquadratmeterpreis nach Zone und Quartier im 2021/Wohnzone 3\",\"Medianquadratmeterpreis nach Zone und Quartier im 2021/Wohnzone 4\",\"Medianquadratmeterpreis nach Zone und Quartier im 2021/Wohnzone 5\",\"Medianquadratmeterpreis nach Zone und Quartier im 2021/Quartiererhaltungszone\",\"Medianquadratmeterpreis nach Zone und Quartier im 2021/Wohnzone 3\",\"Medianquadratmeterpreis nach Zone und Quartier im 2021/Wohnzone 4\",\"Medianquadratmeterpreis nach Zone und Quartier im 2021/Wohnzone 5\",\"Medianquadratmeterpreis nach Zone und Quartier im 2021/Zentrumszone\",\"Medianquadratmeterpreis nach Zone und Quartier im 2021/Kernzone\",\"Medianquadratmeterpreis nach Zone und Quartier im 2021/Quartiererhaltungszone\",\"Medianquadratmeterpreis nach Zone und Quartier im 2021/Quartiererhaltungszone\",\"Medianquadratmeterpreis nach Zone und Quartier im 2021/Quartiererhaltungszone\",\"Medianquadratmeterpreis nach Zone und Quartier im 2021/Wohnzone 2\",\"Medianquadratmeterpreis nach Zone und Quartier im 2021/Wohnzone 4\",\"Medianquadratmeterpreis nach Zone und Quartier im 2021/Wohnzone 5\",\"Medianquadratmeterpreis nach Zone und Quartier im 2021/Wohnzone 2\",\"Medianquadratmeterpreis nach Zone und Quartier im 2021/Wohnzone 3\",\"Medianquadratmeterpreis nach Zone und Quartier im 2021/Wohnzone 4\",\"Medianquadratmeterpreis nach Zone und Quartier im 2021/Quartiererhaltungszone\",\"Medianquadratmeterpreis nach Zone und Quartier im 2021/Quartiererhaltungszone\",\"Medianquadratmeterpreis nach Zone und Quartier im 2021/Wohnzone 2\",\"Medianquadratmeterpreis nach Zone und Quartier im 2021/Wohnzone 4\",\"Medianquadratmeterpreis nach Zone und Quartier im 2021/Wohnzone 5\",\"Medianquadratmeterpreis nach Zone und Quartier im 2021/Wohnzone 2\",\"Medianquadratmeterpreis nach Zone und Quartier im 2021/Wohnzone 3\",\"Medianquadratmeterpreis nach Zone und Quartier im 2021/Wohnzone 2\",\"Medianquadratmeterpreis nach Zone und Quartier im 2021/Wohnzone 3\",\"Medianquadratmeterpreis nach Zone und Quartier im 2021/Wohnzone 4\",\"Medianquadratmeterpreis nach Zone und Quartier im 2021/Wohnzone 5\",\"Medianquadratmeterpreis nach Zone und Quartier im 2021/Wohnzone 6\",\"Medianquadratmeterpreis nach Zone und Quartier im 2021/Zentrumszone\",\"Medianquadratmeterpreis nach Zone und Quartier im 2021\",\"Medianquadratmeterpreis nach Zone und Quartier im 2021\",\"Medianquadratmeterpreis nach Zone und Quartier im 2021\",\"Medianquadratmeterpreis nach Zone und Quartier im 2021\",\"Medianquadratmeterpreis nach Zone und Quartier im 2021\",\"Medianquadratmeterpreis nach Zone und Quartier im 2021\",\"Medianquadratmeterpreis nach Zone und Quartier im 2021\",\"Medianquadratmeterpreis nach Zone und Quartier im 2021\",\"\"],\"root\":{\"color\":\"grey\"},\"type\":\"treemap\",\"values\":[2740,3910,7380,6230,3320,4840,9960,6630,19420,6400,2670,12520,18160,4660,5850,4950,7210,13960,39610,37760,1110,13150,9490,5030,31850,6850,6890,13980,15190,7500,2760,20980,19930,14740,4320,11550,8990,17800,4020,4300,1870,33060,12350,8130,7260,8220,6000,6990,5780,23840,6200,1640,4780,15910,17670,5310,14120,6630,6010,16880,15350,3970,5850,4990,9700,11950,5090,3370,9230,4950,3210,5080,5200,5650,410,23080,26390,13100,23370,29940,7900,6730,17500,9130,6490,8970,9440,24450,7570,3030,680,5800,7400,2900,11520,6340,29410,44670,14890,2740,3910,7380,6230,3320,4840,9960,6630,19420,6400,2670,12520,18160,4660,5850,4950,7210,13960,39610,37760,1110,13150,9490,5030,31850,6850,6890,13980,15190,7500,2760,20980,19930,14740,4320,11550,8990,17800,4020,4300,1870,33060,12350,8130,7260,8220,6000,6990,5780,23840,6200,1640,4780,15910,17670,5310,14120,6630,6010,16880,15350,3970,5850,4990,9700,11950,5090,3370,9230,4950,3210,5080,5200,5650,410,23080,26390,13100,23370,29940,7900,6730,17500,9130,6490,8970,9440,24450,7570,3030,680,5800,7400,2900,11520,6340,29410,44670,14890,148670,272680,82980,117760,148900,137670,71360,101940,1081960]}],                        {\"coloraxis\":{\"colorbar\":{\"title\":{\"text\":\"Medianqmp\"}},\"colorscale\":[[0.0,\"#00224e\"],[0.1111111111111111,\"#123570\"],[0.2222222222222222,\"#3b496c\"],[0.3333333333333333,\"#575d6d\"],[0.4444444444444444,\"#707173\"],[0.5555555555555556,\"#8a8678\"],[0.6666666666666666,\"#a59c74\"],[0.7777777777777778,\"#c3b369\"],[0.8888888888888888,\"#e1cc55\"],[1.0,\"#fee838\"]]},\"height\":500,\"legend\":{\"tracegroupgap\":0},\"margin\":{\"b\":25,\"l\":25,\"r\":250,\"t\":50},\"template\":{\"data\":{\"bar\":[{\"error_x\":{\"color\":\"#2a3f5f\"},\"error_y\":{\"color\":\"#2a3f5f\"},\"marker\":{\"line\":{\"color\":\"#E5ECF6\",\"width\":0.5},\"pattern\":{\"fillmode\":\"overlay\",\"size\":10,\"solidity\":0.2}},\"type\":\"bar\"}],\"barpolar\":[{\"marker\":{\"line\":{\"color\":\"#E5ECF6\",\"width\":0.5},\"pattern\":{\"fillmode\":\"overlay\",\"size\":10,\"solidity\":0.2}},\"type\":\"barpolar\"}],\"carpet\":[{\"aaxis\":{\"endlinecolor\":\"#2a3f5f\",\"gridcolor\":\"white\",\"linecolor\":\"white\",\"minorgridcolor\":\"white\",\"startlinecolor\":\"#2a3f5f\"},\"baxis\":{\"endlinecolor\":\"#2a3f5f\",\"gridcolor\":\"white\",\"linecolor\":\"white\",\"minorgridcolor\":\"white\",\"startlinecolor\":\"#2a3f5f\"},\"type\":\"carpet\"}],\"choropleth\":[{\"colorbar\":{\"outlinewidth\":0,\"ticks\":\"\"},\"type\":\"choropleth\"}],\"contour\":[{\"colorbar\":{\"outlinewidth\":0,\"ticks\":\"\"},\"colorscale\":[[0.0,\"#0d0887\"],[0.1111111111111111,\"#46039f\"],[0.2222222222222222,\"#7201a8\"],[0.3333333333333333,\"#9c179e\"],[0.4444444444444444,\"#bd3786\"],[0.5555555555555556,\"#d8576b\"],[0.6666666666666666,\"#ed7953\"],[0.7777777777777778,\"#fb9f3a\"],[0.8888888888888888,\"#fdca26\"],[1.0,\"#f0f921\"]],\"type\":\"contour\"}],\"contourcarpet\":[{\"colorbar\":{\"outlinewidth\":0,\"ticks\":\"\"},\"type\":\"contourcarpet\"}],\"heatmap\":[{\"colorbar\":{\"outlinewidth\":0,\"ticks\":\"\"},\"colorscale\":[[0.0,\"#0d0887\"],[0.1111111111111111,\"#46039f\"],[0.2222222222222222,\"#7201a8\"],[0.3333333333333333,\"#9c179e\"],[0.4444444444444444,\"#bd3786\"],[0.5555555555555556,\"#d8576b\"],[0.6666666666666666,\"#ed7953\"],[0.7777777777777778,\"#fb9f3a\"],[0.8888888888888888,\"#fdca26\"],[1.0,\"#f0f921\"]],\"type\":\"heatmap\"}],\"heatmapgl\":[{\"colorbar\":{\"outlinewidth\":0,\"ticks\":\"\"},\"colorscale\":[[0.0,\"#0d0887\"],[0.1111111111111111,\"#46039f\"],[0.2222222222222222,\"#7201a8\"],[0.3333333333333333,\"#9c179e\"],[0.4444444444444444,\"#bd3786\"],[0.5555555555555556,\"#d8576b\"],[0.6666666666666666,\"#ed7953\"],[0.7777777777777778,\"#fb9f3a\"],[0.8888888888888888,\"#fdca26\"],[1.0,\"#f0f921\"]],\"type\":\"heatmapgl\"}],\"histogram\":[{\"marker\":{\"pattern\":{\"fillmode\":\"overlay\",\"size\":10,\"solidity\":0.2}},\"type\":\"histogram\"}],\"histogram2d\":[{\"colorbar\":{\"outlinewidth\":0,\"ticks\":\"\"},\"colorscale\":[[0.0,\"#0d0887\"],[0.1111111111111111,\"#46039f\"],[0.2222222222222222,\"#7201a8\"],[0.3333333333333333,\"#9c179e\"],[0.4444444444444444,\"#bd3786\"],[0.5555555555555556,\"#d8576b\"],[0.6666666666666666,\"#ed7953\"],[0.7777777777777778,\"#fb9f3a\"],[0.8888888888888888,\"#fdca26\"],[1.0,\"#f0f921\"]],\"type\":\"histogram2d\"}],\"histogram2dcontour\":[{\"colorbar\":{\"outlinewidth\":0,\"ticks\":\"\"},\"colorscale\":[[0.0,\"#0d0887\"],[0.1111111111111111,\"#46039f\"],[0.2222222222222222,\"#7201a8\"],[0.3333333333333333,\"#9c179e\"],[0.4444444444444444,\"#bd3786\"],[0.5555555555555556,\"#d8576b\"],[0.6666666666666666,\"#ed7953\"],[0.7777777777777778,\"#fb9f3a\"],[0.8888888888888888,\"#fdca26\"],[1.0,\"#f0f921\"]],\"type\":\"histogram2dcontour\"}],\"mesh3d\":[{\"colorbar\":{\"outlinewidth\":0,\"ticks\":\"\"},\"type\":\"mesh3d\"}],\"parcoords\":[{\"line\":{\"colorbar\":{\"outlinewidth\":0,\"ticks\":\"\"}},\"type\":\"parcoords\"}],\"pie\":[{\"automargin\":true,\"type\":\"pie\"}],\"scatter\":[{\"marker\":{\"colorbar\":{\"outlinewidth\":0,\"ticks\":\"\"}},\"type\":\"scatter\"}],\"scatter3d\":[{\"line\":{\"colorbar\":{\"outlinewidth\":0,\"ticks\":\"\"}},\"marker\":{\"colorbar\":{\"outlinewidth\":0,\"ticks\":\"\"}},\"type\":\"scatter3d\"}],\"scattercarpet\":[{\"marker\":{\"colorbar\":{\"outlinewidth\":0,\"ticks\":\"\"}},\"type\":\"scattercarpet\"}],\"scattergeo\":[{\"marker\":{\"colorbar\":{\"outlinewidth\":0,\"ticks\":\"\"}},\"type\":\"scattergeo\"}],\"scattergl\":[{\"marker\":{\"colorbar\":{\"outlinewidth\":0,\"ticks\":\"\"}},\"type\":\"scattergl\"}],\"scattermapbox\":[{\"marker\":{\"colorbar\":{\"outlinewidth\":0,\"ticks\":\"\"}},\"type\":\"scattermapbox\"}],\"scatterpolar\":[{\"marker\":{\"colorbar\":{\"outlinewidth\":0,\"ticks\":\"\"}},\"type\":\"scatterpolar\"}],\"scatterpolargl\":[{\"marker\":{\"colorbar\":{\"outlinewidth\":0,\"ticks\":\"\"}},\"type\":\"scatterpolargl\"}],\"scatterternary\":[{\"marker\":{\"colorbar\":{\"outlinewidth\":0,\"ticks\":\"\"}},\"type\":\"scatterternary\"}],\"surface\":[{\"colorbar\":{\"outlinewidth\":0,\"ticks\":\"\"},\"colorscale\":[[0.0,\"#0d0887\"],[0.1111111111111111,\"#46039f\"],[0.2222222222222222,\"#7201a8\"],[0.3333333333333333,\"#9c179e\"],[0.4444444444444444,\"#bd3786\"],[0.5555555555555556,\"#d8576b\"],[0.6666666666666666,\"#ed7953\"],[0.7777777777777778,\"#fb9f3a\"],[0.8888888888888888,\"#fdca26\"],[1.0,\"#f0f921\"]],\"type\":\"surface\"}],\"table\":[{\"cells\":{\"fill\":{\"color\":\"#EBF0F8\"},\"line\":{\"color\":\"white\"}},\"header\":{\"fill\":{\"color\":\"#C8D4E3\"},\"line\":{\"color\":\"white\"}},\"type\":\"table\"}]},\"layout\":{\"annotationdefaults\":{\"arrowcolor\":\"#2a3f5f\",\"arrowhead\":0,\"arrowwidth\":1},\"autotypenumbers\":\"strict\",\"coloraxis\":{\"colorbar\":{\"outlinewidth\":0,\"ticks\":\"\"}},\"colorscale\":{\"diverging\":[[0,\"#8e0152\"],[0.1,\"#c51b7d\"],[0.2,\"#de77ae\"],[0.3,\"#f1b6da\"],[0.4,\"#fde0ef\"],[0.5,\"#f7f7f7\"],[0.6,\"#e6f5d0\"],[0.7,\"#b8e186\"],[0.8,\"#7fbc41\"],[0.9,\"#4d9221\"],[1,\"#276419\"]],\"sequential\":[[0.0,\"#0d0887\"],[0.1111111111111111,\"#46039f\"],[0.2222222222222222,\"#7201a8\"],[0.3333333333333333,\"#9c179e\"],[0.4444444444444444,\"#bd3786\"],[0.5555555555555556,\"#d8576b\"],[0.6666666666666666,\"#ed7953\"],[0.7777777777777778,\"#fb9f3a\"],[0.8888888888888888,\"#fdca26\"],[1.0,\"#f0f921\"]],\"sequentialminus\":[[0.0,\"#0d0887\"],[0.1111111111111111,\"#46039f\"],[0.2222222222222222,\"#7201a8\"],[0.3333333333333333,\"#9c179e\"],[0.4444444444444444,\"#bd3786\"],[0.5555555555555556,\"#d8576b\"],[0.6666666666666666,\"#ed7953\"],[0.7777777777777778,\"#fb9f3a\"],[0.8888888888888888,\"#fdca26\"],[1.0,\"#f0f921\"]]},\"colorway\":[\"#636efa\",\"#EF553B\",\"#00cc96\",\"#ab63fa\",\"#FFA15A\",\"#19d3f3\",\"#FF6692\",\"#B6E880\",\"#FF97FF\",\"#FECB52\"],\"font\":{\"color\":\"#2a3f5f\"},\"geo\":{\"bgcolor\":\"white\",\"lakecolor\":\"white\",\"landcolor\":\"#E5ECF6\",\"showlakes\":true,\"showland\":true,\"subunitcolor\":\"white\"},\"hoverlabel\":{\"align\":\"left\"},\"hovermode\":\"closest\",\"mapbox\":{\"style\":\"light\"},\"paper_bgcolor\":\"white\",\"plot_bgcolor\":\"#E5ECF6\",\"polar\":{\"angularaxis\":{\"gridcolor\":\"white\",\"linecolor\":\"white\",\"ticks\":\"\"},\"bgcolor\":\"#E5ECF6\",\"radialaxis\":{\"gridcolor\":\"white\",\"linecolor\":\"white\",\"ticks\":\"\"}},\"scene\":{\"xaxis\":{\"backgroundcolor\":\"#E5ECF6\",\"gridcolor\":\"white\",\"gridwidth\":2,\"linecolor\":\"white\",\"showbackground\":true,\"ticks\":\"\",\"zerolinecolor\":\"white\"},\"yaxis\":{\"backgroundcolor\":\"#E5ECF6\",\"gridcolor\":\"white\",\"gridwidth\":2,\"linecolor\":\"white\",\"showbackground\":true,\"ticks\":\"\",\"zerolinecolor\":\"white\"},\"zaxis\":{\"backgroundcolor\":\"#E5ECF6\",\"gridcolor\":\"white\",\"gridwidth\":2,\"linecolor\":\"white\",\"showbackground\":true,\"ticks\":\"\",\"zerolinecolor\":\"white\"}},\"shapedefaults\":{\"line\":{\"color\":\"#2a3f5f\"}},\"ternary\":{\"aaxis\":{\"gridcolor\":\"white\",\"linecolor\":\"white\",\"ticks\":\"\"},\"baxis\":{\"gridcolor\":\"white\",\"linecolor\":\"white\",\"ticks\":\"\"},\"bgcolor\":\"#E5ECF6\",\"caxis\":{\"gridcolor\":\"white\",\"linecolor\":\"white\",\"ticks\":\"\"}},\"title\":{\"x\":0.05},\"xaxis\":{\"automargin\":true,\"gridcolor\":\"white\",\"linecolor\":\"white\",\"ticks\":\"\",\"title\":{\"standoff\":15},\"zerolinecolor\":\"white\",\"zerolinewidth\":2},\"yaxis\":{\"automargin\":true,\"gridcolor\":\"white\",\"linecolor\":\"white\",\"ticks\":\"\",\"title\":{\"standoff\":15},\"zerolinecolor\":\"white\",\"zerolinewidth\":2}}},\"width\":1100},                        {\"responsive\": true}                    ).then(function(){\n",
       "                            \n",
       "var gd = document.getElementById('8dacd85c-81d6-4211-bb2d-429e3551169d');\n",
       "var x = new MutationObserver(function (mutations, observer) {{\n",
       "        var display = window.getComputedStyle(gd).display;\n",
       "        if (!display || display === 'none') {{\n",
       "            console.log([gd, 'removed!']);\n",
       "            Plotly.purge(gd);\n",
       "            observer.disconnect();\n",
       "        }}\n",
       "}});\n",
       "\n",
       "// Listen for the removal of the full notebook cells\n",
       "var notebookContainer = gd.closest('#notebook-container');\n",
       "if (notebookContainer) {{\n",
       "    x.observe(notebookContainer, {childList: true});\n",
       "}}\n",
       "\n",
       "// Listen for the clearing of the current output cell\n",
       "var outputEl = gd.closest('.output');\n",
       "if (outputEl) {{\n",
       "    x.observe(outputEl, {childList: true});\n",
       "}}\n",
       "\n",
       "                        })                };                });            </script>        </div>"
      ]
     },
     "metadata": {},
     "output_type": "display_data"
    }
   ],
   "source": [
    "fig = px.treemap(data2betested.loc[\"2021\"].query('Quartier_Nummer > 20').reset_index()\n",
    "                 , path=[px.Constant(\"Medianquadratmeterpreis nach Zone und Quartier im 2021\")\n",
    "                         ,'Zonenart','Quartier_Name','Jahr']\n",
    "                 , values='Medianqmp'\n",
    "                 , color='Medianqmp'               \n",
    "                 #, color_discrete_map={'(?)':'lightgrey','EVP':'gold', 'SP':'#FF3030', 'PdA':'#EE3B3B', 'Grüne':'#A2CD5A','GLP':'#CAFF70','Die Mitte':'orange','FDP':'#104E8B','AL':'deeppink','SVP':'forestgreen', 'FL ZÜRI':'#8B864E','Volt':'#lightblue' }                \n",
    "                 ## bei continuous scales (bei Zahlenwerten):\n",
    "                 ,color_continuous_scale='cividis'\n",
    "                 ,height=500 , width=1100                 \n",
    "                )\n",
    "fig.update_traces(root_color=\"grey\")\n",
    "fig.update_layout(margin = dict(t=50, l=25, r=250, b=25))\n",
    "fig.show()"
   ]
  },
  {
   "cell_type": "code",
   "execution_count": 45,
   "metadata": {},
   "outputs": [],
   "source": [
    "#data2betested.dtypes"
   ]
  },
  {
   "cell_type": "markdown",
   "metadata": {},
   "source": [
    "**Sharepoint als gecheckt markieren!**"
   ]
  },
  {
   "cell_type": "markdown",
   "metadata": {},
   "source": [
    "Record auf Sharepoint: **[Link](https://kollaboration.intranet.stzh.ch/orga/ssz-produkte/Lists/SASA_Outputs/DispForm.aspx?ID=281&ContentTypeId=0x0100988EAF029F1EFE4CA675F53C32A5D53D01006DBC563E6FBE9E4EB6FDC780799752E1)**"
   ]
  },
  {
   "cell_type": "markdown",
   "metadata": {},
   "source": [
    "## ---------------------- hier Plausi beendet\n",
    "\n",
    "Liniendiagramm \n",
    "[Link zur Doku](https://altair-viz.github.io/gallery/multiline_highlight.html)"
   ]
  },
  {
   "cell_type": "markdown",
   "metadata": {
    "tags": []
   },
   "source": [
    "### Test: Choroplethenkarte\n",
    "Importiere die Geodaten als GeoJSON"
   ]
  },
  {
   "cell_type": "markdown",
   "metadata": {},
   "source": [
    "#### Stadtkreise"
   ]
  },
  {
   "cell_type": "code",
   "execution_count": 124,
   "metadata": {},
   "outputs": [
    {
     "data": {
      "text/html": [
       "<div>\n",
       "<style scoped>\n",
       "    .dataframe tbody tr th:only-of-type {\n",
       "        vertical-align: middle;\n",
       "    }\n",
       "\n",
       "    .dataframe tbody tr th {\n",
       "        vertical-align: top;\n",
       "    }\n",
       "\n",
       "    .dataframe thead th {\n",
       "        text-align: right;\n",
       "    }\n",
       "</style>\n",
       "<table border=\"1\" class=\"dataframe\">\n",
       "  <thead>\n",
       "    <tr style=\"text-align: right;\">\n",
       "      <th></th>\n",
       "      <th>id</th>\n",
       "      <th>kname</th>\n",
       "      <th>knr</th>\n",
       "      <th>objid</th>\n",
       "      <th>geometry</th>\n",
       "    </tr>\n",
       "  </thead>\n",
       "  <tbody>\n",
       "    <tr>\n",
       "      <th>0</th>\n",
       "      <td>adm_stadtkreise_v.6</td>\n",
       "      <td>Kreis 7</td>\n",
       "      <td>7</td>\n",
       "      <td>6</td>\n",
       "      <td>POLYGON ((8.54885 47.36602, 8.54901 47.36601, ...</td>\n",
       "    </tr>\n",
       "  </tbody>\n",
       "</table>\n",
       "</div>"
      ],
      "text/plain": [
       "                    id    kname  knr objid                                           geometry\n",
       "0  adm_stadtkreise_v.6  Kreis 7    7     6  POLYGON ((8.54885 47.36602, 8.54901 47.36601, ..."
      ]
     },
     "execution_count": 124,
     "metadata": {},
     "output_type": "execute_result"
    }
   ],
   "source": [
    "# Read abt. Geopandas https://geopandas.org/docs/user_guide/io.html\n",
    "geojson_url_kreise = \"https://www.ogd.stadt-zuerich.ch/wfs/geoportal/Stadtkreise?service=WFS&version=1.1.0&request=GetFeature&outputFormat=GeoJSON&typename=adm_stadtkreise_v\"\n",
    "adm_stadtkreise_v = gpd.read_file(geojson_url_kreise)\n",
    "\n",
    "adm_stadtkreise_v.head(1)\n"
   ]
  },
  {
   "cell_type": "markdown",
   "metadata": {},
   "source": [
    "#### Statistische Zonen"
   ]
  },
  {
   "cell_type": "code",
   "execution_count": 115,
   "metadata": {},
   "outputs": [
    {
     "data": {
      "text/html": [
       "<div>\n",
       "<style scoped>\n",
       "    .dataframe tbody tr th:only-of-type {\n",
       "        vertical-align: middle;\n",
       "    }\n",
       "\n",
       "    .dataframe tbody tr th {\n",
       "        vertical-align: top;\n",
       "    }\n",
       "\n",
       "    .dataframe thead th {\n",
       "        text-align: right;\n",
       "    }\n",
       "</style>\n",
       "<table border=\"1\" class=\"dataframe\">\n",
       "  <thead>\n",
       "    <tr style=\"text-align: right;\">\n",
       "      <th></th>\n",
       "      <th>id</th>\n",
       "      <th>kname</th>\n",
       "      <th>knr</th>\n",
       "      <th>objectid</th>\n",
       "      <th>objid</th>\n",
       "      <th>qname</th>\n",
       "      <th>qnr</th>\n",
       "      <th>stzname</th>\n",
       "      <th>stznr</th>\n",
       "      <th>geometry</th>\n",
       "    </tr>\n",
       "  </thead>\n",
       "  <tbody>\n",
       "    <tr>\n",
       "      <th>0</th>\n",
       "      <td>adm_statzonen_map.1</td>\n",
       "      <td>Kreis 7</td>\n",
       "      <td>7</td>\n",
       "      <td>1</td>\n",
       "      <td>154</td>\n",
       "      <td>Hirslanden</td>\n",
       "      <td>73</td>\n",
       "      <td>Hegibach</td>\n",
       "      <td>7303</td>\n",
       "      <td>POLYGON ((8.55670 47.36406, 8.55682 47.36410, ...</td>\n",
       "    </tr>\n",
       "    <tr>\n",
       "      <th>1</th>\n",
       "      <td>adm_statzonen_map.2</td>\n",
       "      <td>Kreis 7</td>\n",
       "      <td>7</td>\n",
       "      <td>2</td>\n",
       "      <td>89</td>\n",
       "      <td>Hirslanden</td>\n",
       "      <td>73</td>\n",
       "      <td>Klus</td>\n",
       "      <td>7302</td>\n",
       "      <td>POLYGON ((8.57281 47.35806, 8.57278 47.35807, ...</td>\n",
       "    </tr>\n",
       "  </tbody>\n",
       "</table>\n",
       "</div>"
      ],
      "text/plain": [
       "                    id    kname  knr  objectid objid       qname  qnr   stzname  stznr  \\\n",
       "0  adm_statzonen_map.1  Kreis 7    7         1   154  Hirslanden   73  Hegibach   7303   \n",
       "1  adm_statzonen_map.2  Kreis 7    7         2    89  Hirslanden   73      Klus   7302   \n",
       "\n",
       "                                            geometry  \n",
       "0  POLYGON ((8.55670 47.36406, 8.55682 47.36410, ...  \n",
       "1  POLYGON ((8.57281 47.35806, 8.57278 47.35807, ...  "
      ]
     },
     "execution_count": 115,
     "metadata": {},
     "output_type": "execute_result"
    }
   ],
   "source": [
    "# Read abt. Geopandas https://geopandas.org/docs/user_guide/io.html\n",
    "geojson_url_statzonen = \"https://www.ogd.stadt-zuerich.ch/wfs/geoportal/Statistische_Zonen?service=WFS&version=1.1.0&request=GetFeature&outputFormat=GeoJSON&typename=adm_statzonen_map\"\n",
    "adm_statzonen_map = gpd.read_file(geojson_url_statzonen)\n",
    "\n",
    "adm_statzonen_map.head(2)\n"
   ]
  },
  {
   "cell_type": "markdown",
   "metadata": {},
   "source": [
    "#### Statistische Quartiere"
   ]
  },
  {
   "cell_type": "code",
   "execution_count": 119,
   "metadata": {},
   "outputs": [
    {
     "data": {
      "text/html": [
       "<div>\n",
       "<style scoped>\n",
       "    .dataframe tbody tr th:only-of-type {\n",
       "        vertical-align: middle;\n",
       "    }\n",
       "\n",
       "    .dataframe tbody tr th {\n",
       "        vertical-align: top;\n",
       "    }\n",
       "\n",
       "    .dataframe thead th {\n",
       "        text-align: right;\n",
       "    }\n",
       "</style>\n",
       "<table border=\"1\" class=\"dataframe\">\n",
       "  <thead>\n",
       "    <tr style=\"text-align: right;\">\n",
       "      <th></th>\n",
       "      <th>id</th>\n",
       "      <th>kname</th>\n",
       "      <th>knr</th>\n",
       "      <th>objectid</th>\n",
       "      <th>objid</th>\n",
       "      <th>qname</th>\n",
       "      <th>qnr</th>\n",
       "      <th>geometry</th>\n",
       "    </tr>\n",
       "  </thead>\n",
       "  <tbody>\n",
       "    <tr>\n",
       "      <th>0</th>\n",
       "      <td>adm_statistische_quartiere_map.1</td>\n",
       "      <td>Kreis 7</td>\n",
       "      <td>7</td>\n",
       "      <td>1</td>\n",
       "      <td>34</td>\n",
       "      <td>Hirslanden</td>\n",
       "      <td>73</td>\n",
       "      <td>POLYGON ((8.55670 47.36406, 8.55682 47.36410, ...</td>\n",
       "    </tr>\n",
       "    <tr>\n",
       "      <th>1</th>\n",
       "      <td>adm_statistische_quartiere_map.2</td>\n",
       "      <td>Kreis 8</td>\n",
       "      <td>8</td>\n",
       "      <td>2</td>\n",
       "      <td>33</td>\n",
       "      <td>Weinegg</td>\n",
       "      <td>83</td>\n",
       "      <td>POLYGON ((8.55670 47.36405, 8.55672 47.36403, ...</td>\n",
       "    </tr>\n",
       "  </tbody>\n",
       "</table>\n",
       "</div>"
      ],
      "text/plain": [
       "                                 id    kname  knr  objectid objid       qname  qnr  \\\n",
       "0  adm_statistische_quartiere_map.1  Kreis 7    7         1    34  Hirslanden   73   \n",
       "1  adm_statistische_quartiere_map.2  Kreis 8    8         2    33     Weinegg   83   \n",
       "\n",
       "                                            geometry  \n",
       "0  POLYGON ((8.55670 47.36406, 8.55682 47.36410, ...  \n",
       "1  POLYGON ((8.55670 47.36405, 8.55672 47.36403, ...  "
      ]
     },
     "execution_count": 119,
     "metadata": {},
     "output_type": "execute_result"
    }
   ],
   "source": [
    "geojson_url_quartiere = \"https://www.ogd.stadt-zuerich.ch/wfs/geoportal/Statistische_Quartiere?service=WFS&version=1.1.0&request=GetFeature&outputFormat=GeoJSON&typename=adm_statistische_quartiere_map\"\n",
    "df_adm_statistische_quartiere_map = gpd.read_file(geojson_url_quartiere)\n",
    "\n",
    "df_adm_statistische_quartiere_map.head(2)\n"
   ]
  },
  {
   "cell_type": "markdown",
   "metadata": {},
   "source": [
    "### Joins\n",
    "Joine die importierten statistischen Daten des aktuellen Jahres zum Geodatensatz:\n",
    "\n",
    "*Siehe dazu Doku zu [Geopandas](https://geopandas.org/docs/user_guide/mergingdata.html)*"
   ]
  },
  {
   "cell_type": "code",
   "execution_count": 127,
   "metadata": {},
   "outputs": [
    {
     "data": {
      "text/plain": [
       "StatZoneCd             int64\n",
       "StatZone              object\n",
       "QuarCd                 int64\n",
       "QuarLang              object\n",
       "KreisCd                int64\n",
       "KreisLang             object\n",
       "EigentumsartSort       int64\n",
       "Eigentumsart          object\n",
       "Whg_abgebrochen        int64\n",
       "Whg_fertigerstellt     int64\n",
       "dtype: object"
      ]
     },
     "execution_count": 127,
     "metadata": {},
     "output_type": "execute_result"
    }
   ],
   "source": [
    "data2betested.dtypes"
   ]
  },
  {
   "cell_type": "code",
   "execution_count": 137,
   "metadata": {},
   "outputs": [
    {
     "data": {
      "text/html": [
       "<div>\n",
       "<style scoped>\n",
       "    .dataframe tbody tr th:only-of-type {\n",
       "        vertical-align: middle;\n",
       "    }\n",
       "\n",
       "    .dataframe tbody tr th {\n",
       "        vertical-align: top;\n",
       "    }\n",
       "\n",
       "    .dataframe thead th {\n",
       "        text-align: right;\n",
       "    }\n",
       "</style>\n",
       "<table border=\"1\" class=\"dataframe\">\n",
       "  <thead>\n",
       "    <tr style=\"text-align: right;\">\n",
       "      <th></th>\n",
       "      <th>QuarLang</th>\n",
       "      <th>QuarCd</th>\n",
       "      <th>sum_Whg_abgebrochen</th>\n",
       "      <th>sum_Whg_fertigerstellt</th>\n",
       "    </tr>\n",
       "  </thead>\n",
       "  <tbody>\n",
       "    <tr>\n",
       "      <th>0</th>\n",
       "      <td>Albisrieden</td>\n",
       "      <td>91</td>\n",
       "      <td>282</td>\n",
       "      <td>89</td>\n",
       "    </tr>\n",
       "  </tbody>\n",
       "</table>\n",
       "</div>"
      ],
      "text/plain": [
       "      QuarLang  QuarCd  sum_Whg_abgebrochen  sum_Whg_fertigerstellt\n",
       "0  Albisrieden      91                  282                      89"
      ]
     },
     "execution_count": 137,
     "metadata": {},
     "output_type": "execute_result"
    }
   ],
   "source": [
    "myAgg = data2betested.loc[\"2021\"]  \\\n",
    "    .groupby(['QuarLang', 'QuarCd']) \\\n",
    "    .agg(sum_Whg_abgebrochen=('Whg_abgebrochen', 'sum'),sum_Whg_fertigerstellt=('Whg_fertigerstellt', 'sum')) \\\n",
    "    .sort_values('sum_Whg_abgebrochen', ascending=False) \n",
    "\n",
    "myAgg.reset_index().head(1)\n"
   ]
  },
  {
   "cell_type": "code",
   "execution_count": 138,
   "metadata": {},
   "outputs": [
    {
     "data": {
      "text/html": [
       "<div>\n",
       "<style scoped>\n",
       "    .dataframe tbody tr th:only-of-type {\n",
       "        vertical-align: middle;\n",
       "    }\n",
       "\n",
       "    .dataframe tbody tr th {\n",
       "        vertical-align: top;\n",
       "    }\n",
       "\n",
       "    .dataframe thead th {\n",
       "        text-align: right;\n",
       "    }\n",
       "</style>\n",
       "<table border=\"1\" class=\"dataframe\">\n",
       "  <thead>\n",
       "    <tr style=\"text-align: right;\">\n",
       "      <th></th>\n",
       "      <th>geometry</th>\n",
       "      <th>QuarCd</th>\n",
       "      <th>qname</th>\n",
       "      <th>knr</th>\n",
       "    </tr>\n",
       "  </thead>\n",
       "  <tbody>\n",
       "    <tr>\n",
       "      <th>0</th>\n",
       "      <td>POLYGON ((8.55670 47.36406, 8.55682 47.36410, ...</td>\n",
       "      <td>73</td>\n",
       "      <td>Hirslanden</td>\n",
       "      <td>7</td>\n",
       "    </tr>\n",
       "  </tbody>\n",
       "</table>\n",
       "</div>"
      ],
      "text/plain": [
       "                                            geometry  QuarCd       qname  knr\n",
       "0  POLYGON ((8.55670 47.36406, 8.55682 47.36410, ...      73  Hirslanden    7"
      ]
     },
     "execution_count": 138,
     "metadata": {},
     "output_type": "execute_result"
    }
   ],
   "source": [
    "# Rename attribute stznr to StatZoneSort, so the IDs have the same name\n",
    "gdf_adm_statistische_quartiere_map = df_adm_statistische_quartiere_map[['geometry', 'qnr', 'qname', 'knr']].rename(columns={'qnr': 'QuarCd'})\n",
    "gdf_adm_statistische_quartiere_map.head(1)"
   ]
  },
  {
   "cell_type": "code",
   "execution_count": 139,
   "metadata": {},
   "outputs": [
    {
     "data": {
      "text/html": [
       "<div>\n",
       "<style scoped>\n",
       "    .dataframe tbody tr th:only-of-type {\n",
       "        vertical-align: middle;\n",
       "    }\n",
       "\n",
       "    .dataframe tbody tr th {\n",
       "        vertical-align: top;\n",
       "    }\n",
       "\n",
       "    .dataframe thead th {\n",
       "        text-align: right;\n",
       "    }\n",
       "</style>\n",
       "<table border=\"1\" class=\"dataframe\">\n",
       "  <thead>\n",
       "    <tr style=\"text-align: right;\">\n",
       "      <th></th>\n",
       "      <th>geometry</th>\n",
       "      <th>QuarCd</th>\n",
       "      <th>qname</th>\n",
       "      <th>knr</th>\n",
       "      <th>sum_Whg_abgebrochen</th>\n",
       "      <th>sum_Whg_fertigerstellt</th>\n",
       "    </tr>\n",
       "  </thead>\n",
       "  <tbody>\n",
       "    <tr>\n",
       "      <th>0</th>\n",
       "      <td>POLYGON ((8.55670 47.36406, 8.55682 47.36410, ...</td>\n",
       "      <td>73</td>\n",
       "      <td>Hirslanden</td>\n",
       "      <td>7</td>\n",
       "      <td>48</td>\n",
       "      <td>2</td>\n",
       "    </tr>\n",
       "    <tr>\n",
       "      <th>1</th>\n",
       "      <td>POLYGON ((8.55670 47.36405, 8.55672 47.36403, ...</td>\n",
       "      <td>83</td>\n",
       "      <td>Weinegg</td>\n",
       "      <td>8</td>\n",
       "      <td>2</td>\n",
       "      <td>0</td>\n",
       "    </tr>\n",
       "  </tbody>\n",
       "</table>\n",
       "</div>"
      ],
      "text/plain": [
       "                                            geometry  QuarCd       qname  knr  \\\n",
       "0  POLYGON ((8.55670 47.36406, 8.55682 47.36410, ...      73  Hirslanden    7   \n",
       "1  POLYGON ((8.55670 47.36405, 8.55672 47.36403, ...      83     Weinegg    8   \n",
       "\n",
       "   sum_Whg_abgebrochen  sum_Whg_fertigerstellt  \n",
       "0                   48                       2  \n",
       "1                    2                       0  "
      ]
     },
     "execution_count": 139,
     "metadata": {},
     "output_type": "execute_result"
    }
   ],
   "source": [
    "# Merge with `merge` method on shared variable (stznr und StatZoneSort):\n",
    "gdf_adm_statistische_quartiere_map_joined = gdf_adm_statistische_quartiere_map.merge(myAgg, on='QuarCd')\n",
    "gdf_adm_statistische_quartiere_map_joined.head(2)\n"
   ]
  },
  {
   "cell_type": "code",
   "execution_count": 142,
   "metadata": {},
   "outputs": [
    {
     "data": {
      "text/plain": [
       "<AxesSubplot:>"
      ]
     },
     "execution_count": 142,
     "metadata": {},
     "output_type": "execute_result"
    },
    {
     "data": {
      "image/png": "[encoded data removed]",
      "text/plain": [
       "<Figure size 432x288 with 1 Axes>"
      ]
     },
     "metadata": {
      "needs_background": "light"
     },
     "output_type": "display_data"
    },
    {
     "data": {
      "image/png": "[encoded data removed]",
      "text/plain": [
       "<Figure size 432x288 with 1 Axes>"
      ]
     },
     "metadata": {
      "needs_background": "light"
     },
     "output_type": "display_data"
    }
   ],
   "source": [
    "# Plot by StatQuartiere\n",
    "# Weitere Schemes: scheme='quantiles', scheme='fisherjenks', scheme='natural_breaks',\n",
    "\n",
    "gdf_adm_statistische_quartiere_map_joined.plot(column='sum_Whg_fertigerstellt', cmap='viridis', scheme='natural_breaks', legend=True )\n",
    "gdf_adm_statistische_quartiere_map_joined.plot(column='sum_Whg_abgebrochen', cmap='viridis', scheme='natural_breaks', legend=True )\n",
    "\n",
    "#gdf_adm_statistische_quartiere_map_joined.plot(column='sum_Whg_abgebrochen', cmap='plasma', scheme='fisherjenks', legend=True )\n",
    "#gdf_adm_statistische_quartiere_map_joined.plot(column='sum_Whg_fertigerstellt', cmap='cool', scheme='quantiles', legend=True )\n",
    "#scheme werte: https://matplotlib.org/2.0.2/users/colormaps.html\n",
    "\n",
    "#\n",
    "#Neuere Gallerie: https://matplotlib.org/stable/gallery/index.html"
   ]
  },
  {
   "cell_type": "code",
   "execution_count": 157,
   "metadata": {},
   "outputs": [
    {
     "data": {
      "text/plain": [
       "<AxesSubplot:>"
      ]
     },
     "execution_count": 157,
     "metadata": {},
     "output_type": "execute_result"
    },
    {
     "data": {
      "image/png": "[encoded data removed]",
      "text/plain": [
       "<Figure size 432x288 with 2 Axes>"
      ]
     },
     "metadata": {
      "needs_background": "light"
     },
     "output_type": "display_data"
    }
   ],
   "source": [
    "fig, ax = plt.subplots(1, 1)\n",
    "\n",
    "gdf_adm_statistische_quartiere_map_joined.plot(column='sum_Whg_abgebrochen', ax=ax, legend=True, legend_kwds={'label': \"Anzahl abgebrochene Wohnungen 2021\",'orientation': \"horizontal\"})\n",
    "gdf_adm_statistische_quartiere_map_joined.plot(column='sum_Whg_fertigerstellt', ax=ax, legend=False, legend_kwds={'label': \"Anzahl fertigerstellte Wohnungen 2021\",'orientation': \"horizontal\"})\n",
    "\n",
    "#gdf_adm_statistische_quartiere_map_joined.plot(column='sum_Whg_abgebrochen', cmap='viridis', scheme='natural_breaks', legend=True , ax=ax, legend_kwds={'label': \"Anzahl Personen\",'orientation': \"horizontal\"})"
   ]
  },
  {
   "cell_type": "markdown",
   "metadata": {},
   "source": [
    "Noch zu prüfen, folgendes schöne Beispiel: https://docs.bokeh.org/en/latest/docs/user_guide/interaction/legends.html\n",
    "\n",
    "Konkrete Beispiele von Bookeh in Jupyter NB: https://docs.bokeh.org/en/latest/docs/user_guide/jupyter.html"
   ]
  },
  {
   "cell_type": "markdown",
   "metadata": {},
   "source": [
    "**Sharepoint als gecheckt markieren!**"
   ]
  },
  {
   "cell_type": "markdown",
   "metadata": {},
   "source": [
    "Record auf Sharepoint: **[Link](https://kollaboration.intranet.stzh.ch/orga/ssz-produkte/Lists/SASA_Outputs/DispForm.aspx?ID=281&ContentTypeId=0x0100988EAF029F1EFE4CA675F53C32A5D53D01006DBC563E6FBE9E4EB6FDC780799752E1)**"
   ]
  },
  {
   "cell_type": "code",
   "execution_count": null,
   "metadata": {},
   "outputs": [],
   "source": []
  },
  {
   "cell_type": "raw",
   "metadata": {},
   "source": []
  },
  {
   "cell_type": "code",
   "execution_count": null,
   "metadata": {},
   "outputs": [],
   "source": []
  }
 ],
 "metadata": {
  "kernelspec": {
   "display_name": "Python 3 (ipykernel)",
   "language": "python",
   "name": "python3"
  },
  "language_info": {
   "codemirror_mode": {
    "name": "ipython",
    "version": 3
   },
   "file_extension": ".py",
   "mimetype": "text/x-python",
   "name": "python",
   "nbconvert_exporter": "python",
   "pygments_lexer": "ipython3",
   "version": "3.9.7"
  }
 },
 "nbformat": 4,
 "nbformat_minor": 4
}
