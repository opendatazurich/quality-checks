{
 "cells": [
  {
   "cell_type": "markdown",
   "metadata": {},
   "source": [
    "# Testing\n",
    "### Wohnungsbau nach Zimmerzahl, Bauprojektstatus und Stadtquartier seit 2009\n",
    "Datum: 03.02.2022"
   ]
  },
  {
   "cell_type": "markdown",
   "metadata": {},
   "source": [
    "**Dataset auf INTEG Datenkatalog**:  https://data.integ.stadt-zuerich.ch/dataset/int_dwh_bau_neubau_whg-projektiert_projstatus_zizahl_quartier_seit2009_od5022\n",
    "\n",
    "**Dataset auf PROD Datenkatalog**:  https://data.stadt-zuerich.ch/dataset/bau_neubau_whg-projektiert_projstatus_zizahl_quartier_seit2009_od5022\n"
   ]
  },
  {
   "cell_type": "markdown",
   "metadata": {},
   "source": [
    "### Importiere die notwendigen Packages"
   ]
  },
  {
   "cell_type": "code",
   "execution_count": 1,
   "metadata": {},
   "outputs": [],
   "source": [
    "#%pip install geopandas altair fiona requests folium mplleaflet contextily seaborn datetime plotly leafmap"
   ]
  },
  {
   "cell_type": "code",
   "execution_count": 2,
   "metadata": {},
   "outputs": [],
   "source": [
    "import pandas as pd\n",
    "import pivottablejs\n",
    "from pivottablejs import pivot_ui\n",
    "import numpy as np\n",
    "import altair as alt\n",
    "import matplotlib.pyplot as plt\n",
    "\n",
    "import datetime\n",
    "import geopandas as gpd\n",
    "import folium \n",
    "import plotly.express as px\n",
    "import seaborn as sns\n",
    "import leafmap\n",
    "\n",
    "import requests\n",
    "import io\n",
    "\n",
    "import plotly.express as px\n"
   ]
  },
  {
   "cell_type": "code",
   "execution_count": 3,
   "metadata": {},
   "outputs": [],
   "source": [
    "SSL_VERIFY = False\n",
    "# evtl. SSL_VERIFY auf False setzen wenn die Verbindung zu https://www.gemeinderat-zuerich.ch nicht klappt (z.B. wegen Proxy)\n",
    "# Um die SSL Verifikation auszustellen, bitte die nächste Zeile einkommentieren (\"#\" entfernen)\n",
    "# SSL_VERIFY = False"
   ]
  },
  {
   "cell_type": "code",
   "execution_count": 4,
   "metadata": {},
   "outputs": [],
   "source": [
    "if not SSL_VERIFY:\n",
    "    import urllib3\n",
    "    urllib3.disable_warnings()"
   ]
  },
  {
   "cell_type": "markdown",
   "metadata": {},
   "source": [
    "Definiere Settings. Hier das Zahlenformat von Float-Werten (z.B. *'{:,.2f}'.format* mit Komma als Tausenderzeichen), "
   ]
  },
  {
   "cell_type": "code",
   "execution_count": 5,
   "metadata": {},
   "outputs": [],
   "source": [
    "#pd.options.display.float_format = lambda x : '{:,.1f}'.format(x) if (np.isnan(x) | np.isinf(x)) else '{:,.0f}'.format(x) if int(x) == x else '{:,.1f}'.format(x)\n",
    "pd.options.display.float_format = '{:.0f}'.format\n",
    "pd.set_option('display.width', 100)\n",
    "pd.set_option('display.max_columns', 15)"
   ]
  },
  {
   "cell_type": "markdown",
   "metadata": {},
   "source": [
    "### Zeitvariabeln\n",
    "Bestimme den aktuellst geladenen Monat. Hier ist es der Stand vor 2 Monaten. \n",
    "Bestimme noch weitere evt. sinnvolle Zeitvariabeln.\n",
    "\n",
    "Zum Unterschied zwischen import datetime und from datedtime import datetime, siehe https://stackoverflow.com/questions/15707532/import-datetime-v-s-from-datetime-import-datetime\n",
    "\n",
    "Zuerst die Zeitvariabeln als Strings"
   ]
  },
  {
   "cell_type": "code",
   "execution_count": 6,
   "metadata": {},
   "outputs": [],
   "source": [
    "#today_date = datetime.date.today()\n",
    "#date_time = datetime.datetime.strptime(date_time_string, '%Y-%m-%d %H:%M')\n",
    "now = datetime.date.today()\n",
    "date_today = now.strftime(\"%Y-%m-%d\")\n",
    "year_today = now.strftime(\"%Y\")\n",
    "month_today = now.strftime(\"%m\")\n",
    "day_today = now.strftime(\"%d\")\n"
   ]
  },
  {
   "cell_type": "markdown",
   "metadata": {},
   "source": [
    "Und hier noch die Zeitvariabeln als Integers:\n",
    "- `aktuellesJahr`\n",
    "- `aktuellerMonat`: Der gerade jetzt aktuelle Monat\n",
    "- `selectedMonat`: Der aktuellste Monat in den Daten. In der Regel zwei Monate her."
   ]
  },
  {
   "cell_type": "code",
   "execution_count": 7,
   "metadata": {},
   "outputs": [
    {
     "name": "stdout",
     "output_type": "stream",
     "text": [
      "2022 8 datenstand:  6 time.struct_time(tm_year=2022, tm_mon=8, tm_mday=25, tm_hour=0, tm_min=0, tm_sec=0, tm_wday=3, tm_yday=237, tm_isdst=-1)\n"
     ]
    }
   ],
   "source": [
    "#now = datetime.now() \n",
    "int_times = now.timetuple()\n",
    "\n",
    "aktuellesJahr = int_times[0]\n",
    "aktuellerMonat = int_times[1]\n",
    "selectedMonat = int_times[1]-2\n",
    "\n",
    "print(aktuellesJahr, \n",
    "      aktuellerMonat,\n",
    "    'datenstand: ', selectedMonat,\n",
    "     int_times)\n"
   ]
  },
  {
   "cell_type": "markdown",
   "metadata": {},
   "source": [
    "Berechne die Variable Epoche um später das SAS-Datum in ein Unix-Datum umzuwandeln. Bei SAS beginnt die Epoche am 1.1.1960. Bei Unix am 1.1.1970.\n",
    "Diese Variable wird beim CSV-Import benötigt."
   ]
  },
  {
   "cell_type": "code",
   "execution_count": 8,
   "metadata": {},
   "outputs": [],
   "source": [
    "epoch = datetime.datetime(1960, 1, 1)"
   ]
  },
  {
   "cell_type": "markdown",
   "metadata": {},
   "source": [
    "### Setze einige Pfadvariabeln"
   ]
  },
  {
   "cell_type": "markdown",
   "metadata": {
    "tags": []
   },
   "source": [
    "- Der Packagename ist eigentlich der **Verzeichnisname** unter dem die Daten und Metadaten auf der Dropzone abgelegt werden.\n",
    "- Definiert wird er bei SASA-Prozessen auf dem **Produkte-Sharepoint ([Link](https://kollaboration.intranet.stzh.ch/orga/ssz-produkte/Lists/SASA_Outputs/PersonalViews.aspx?PageView=Personal&ShowWebPart={6087A3E7-8AC8-40BA-8278-DECFACE124FF}))**.\n",
    "- Der Packagename wird auf CKAN teil der URL, daher ist die exakte Schreibweise wichtig.\n",
    "\n",
    "Beachte: im Packagename müssen alle Buchstaben **klein** geschrieben werden. Dies weil CKAN aus grossen kleine Buchstaben macht."
   ]
  },
  {
   "cell_type": "markdown",
   "metadata": {},
   "source": [
    "**BITTE HIER ANPASSEN**"
   ]
  },
  {
   "cell_type": "code",
   "execution_count": 9,
   "metadata": {},
   "outputs": [],
   "source": [
    "package_name = \"bau_neubau_whg-projektiert_projstatus_zizahl_quartier_seit2009_od5022\""
   ]
  },
  {
   "cell_type": "code",
   "execution_count": 10,
   "metadata": {
    "tags": []
   },
   "outputs": [],
   "source": [
    "dataset_name = \"BAU502OD5022.csv\""
   ]
  },
  {
   "cell_type": "markdown",
   "metadata": {},
   "source": [
    "**Statische Pfade in DWH-Dropzones**"
   ]
  },
  {
   "cell_type": "code",
   "execution_count": 11,
   "metadata": {},
   "outputs": [],
   "source": [
    "dropzone_path_integ = r\"\\\\szh\\ssz\\applikationen\\OGD_Dropzone\\INT_DWH\""
   ]
  },
  {
   "cell_type": "code",
   "execution_count": 12,
   "metadata": {
    "tags": []
   },
   "outputs": [],
   "source": [
    "dropzone_path_prod = r\"\\\\szh\\ssz\\applikationen\\OGD_Dropzone\\DWH\""
   ]
  },
  {
   "cell_type": "markdown",
   "metadata": {
    "tags": []
   },
   "source": [
    "**Statische Pfade CKAN-URLs**"
   ]
  },
  {
   "cell_type": "code",
   "execution_count": 13,
   "metadata": {
    "tags": []
   },
   "outputs": [],
   "source": [
    "ckan_integ_url =\"https://data.integ.stadt-zuerich.ch/dataset/int_dwh_\""
   ]
  },
  {
   "cell_type": "code",
   "execution_count": 14,
   "metadata": {},
   "outputs": [],
   "source": [
    "ckan_prod_url =\"https://data.stadt-zuerich.ch/dataset/\""
   ]
  },
  {
   "cell_type": "markdown",
   "metadata": {},
   "source": [
    "### Checke die Metadaten auf der CKAN INTEG- oder PROD-Webseite\n",
    "\n",
    "Offenbar lassen sich aktuell im Markdownteil keine Variabeln ausführen, daher gehen wir wie unten gezeigt vor. Siehe dazu: https://data-dive.com/jupyterlab-markdown-cells-include-variables\n",
    "Instead of setting the cell to Markdown, create Markdown from withnin a code cell! We can just use python variable replacement syntax to make the text dynamic"
   ]
  },
  {
   "cell_type": "code",
   "execution_count": 15,
   "metadata": {},
   "outputs": [],
   "source": [
    "from IPython.display import Markdown as md"
   ]
  },
  {
   "cell_type": "code",
   "execution_count": 16,
   "metadata": {},
   "outputs": [
    {
     "data": {
      "text/markdown": [
       " **1. Dataset auf INTEG-Datakatalog:** Link https://data.integ.stadt-zuerich.ch/dataset/int_dwh_bau_neubau_whg-projektiert_projstatus_zizahl_quartier_seit2009_od5022 "
      ],
      "text/plain": [
       "<IPython.core.display.Markdown object>"
      ]
     },
     "execution_count": 16,
     "metadata": {},
     "output_type": "execute_result"
    }
   ],
   "source": [
    "md(\" **1. Dataset auf INTEG-Datakatalog:** Link {} \".format(ckan_integ_url+package_name))"
   ]
  },
  {
   "cell_type": "code",
   "execution_count": 17,
   "metadata": {
    "tags": []
   },
   "outputs": [
    {
     "data": {
      "text/markdown": [
       " **2. Dataset auf PROD-Datakatalog:** Link https://data.stadt-zuerich.ch/dataset/bau_neubau_whg-projektiert_projstatus_zizahl_quartier_seit2009_od5022 "
      ],
      "text/plain": [
       "<IPython.core.display.Markdown object>"
      ]
     },
     "execution_count": 17,
     "metadata": {},
     "output_type": "execute_result"
    }
   ],
   "source": [
    "md(\" **2. Dataset auf PROD-Datakatalog:** Link {} \".format(ckan_prod_url+package_name))"
   ]
  },
  {
   "cell_type": "markdown",
   "metadata": {
    "tags": []
   },
   "source": [
    "### Importiere einen Datensatz \n",
    "\n",
    "Definiere zuerst folgende Werte:\n",
    "1) Kommt der Datensatz von PROD oder INTEG?\n",
    "2) Beziehst Du den Datensatz direkt ab der DROPZONE oder aus dem INTERNET?"
   ]
  },
  {
   "cell_type": "code",
   "execution_count": 18,
   "metadata": {},
   "outputs": [
    {
     "name": "stdout",
     "output_type": "stream",
     "text": [
      "prod - web\n"
     ]
    }
   ],
   "source": [
    "#Die Datasets sind nur zum Testen auf INT-DWH-Dropzone. Wenn der Test vorbei ist, sind sie auf PROD. \n",
    "# Über den Status kann man einfach switchen\n",
    "\n",
    "status = \"prod\"; #prod vs something else\n",
    "data_source = \"web\"; #dropzone vs something else\n",
    "print(status+\" - \"+ data_source)"
   ]
  },
  {
   "cell_type": "code",
   "execution_count": 19,
   "metadata": {
    "tags": []
   },
   "outputs": [
    {
     "name": "stdout",
     "output_type": "stream",
     "text": [
      "fp lautet:https://data.stadt-zuerich.ch/dataset/bau_neubau_whg-projektiert_projstatus_zizahl_quartier_seit2009_od5022/download/BAU502OD5022.csv\n"
     ]
    }
   ],
   "source": [
    "# Filepath\n",
    "if status == \"prod\":\n",
    "    if data_source == \"dropzone\":\n",
    "            fp = dropzone_path_prod+\"\\\\\"+ package_name +\"\\\\\"+dataset_name\n",
    "            print(\"fp lautet:\"+fp)\n",
    "    else:\n",
    "        #fp = r\"https://data.stadt-zuerich.ch/dataset/bau_neubau_whg_bausm_rinh_geb_projstatus_quartier_seit2009_od5011/download/BAU501OD5011.csv\"\n",
    "        fp = ckan_prod_url+package_name+'/download/'+dataset_name\n",
    "        print(\"fp lautet:\"+fp)\n",
    "else:\n",
    "    if data_source == \"dropzone\":\n",
    "        fp = dropzone_path_integ+\"\\\\\"+ package_name +\"\\\\\"+dataset_name\n",
    "        print(\"fp lautet:\"+fp)\n",
    "    else:\n",
    "        #fp = r\"https://data.stadt-zuerich.ch/dataset/bau_neubau_whg_bausm_rinh_geb_projstatus_quartier_seit2009_od5011/download/BAU501OD5011.csv\"\n",
    "        fp = ckan_integ_url+package_name+'/download/'+dataset_name\n",
    "        print(\"fp lautet:\"+fp)\n"
   ]
  },
  {
   "cell_type": "markdown",
   "metadata": {},
   "source": [
    "Beachte, wie das SAS Datum (ohne Format) in ein UNIX Datum umgerechnet und als Datumsformat dargestellt wird! Siehe dazu `https://stackoverflow.com/questions/26923564/convert-sas-numeric-to-python-datetime`"
   ]
  },
  {
   "cell_type": "code",
   "execution_count": 20,
   "metadata": {},
   "outputs": [
    {
     "name": "stdout",
     "output_type": "stream",
     "text": [
      "web\n"
     ]
    },
    {
     "data": {
      "text/plain": [
       "Jahr              datetime64[ns]\n",
       "QuarSort                   int64\n",
       "QuarCd                     int64\n",
       "QuarLang                  object\n",
       "KreisSort                  int64\n",
       "KreisCd                    int64\n",
       "KreisLang                 object\n",
       "ProjStatus                object\n",
       "ProjStatusSort             int64\n",
       "Whg1Zi                     int64\n",
       "Whg2Zi                     int64\n",
       "Whg3Zi                     int64\n",
       "Whg4Zi                     int64\n",
       "Whg5Ziplus                 int64\n",
       "dtype: object"
      ]
     },
     "execution_count": 20,
     "metadata": {},
     "output_type": "execute_result"
    }
   ],
   "source": [
    "# Read the data\n",
    "if data_source == \"dropzone\":\n",
    "    data2betested = pd.read_csv(\n",
    "        fp\n",
    "        , sep=','\n",
    "        ,parse_dates=['Jahr']\n",
    "        ,low_memory=False\n",
    "    )\n",
    "    print(\"dropzone\")\n",
    "else:\n",
    "    r = requests.get(fp, verify=False)  \n",
    "    r.encoding = 'utf-8'\n",
    "    data2betested = pd.read_csv(\n",
    "        io.StringIO(r.text)\n",
    "        ,parse_dates=['Jahr']\n",
    "        # KONVERTIERE DAS SAS DATUM IN EIN UNIXDATUM UND FORMATIERE ES\n",
    "        #, date_parser=lambda s: epoch + datetime.timedelta(days=int(s))\n",
    "        ,low_memory=False)\n",
    "    print(\"web\")\n",
    "\n",
    "data2betested.dtypes"
   ]
  },
  {
   "cell_type": "markdown",
   "metadata": {},
   "source": [
    "Berechne weitere Attribute falls notwendig"
   ]
  },
  {
   "cell_type": "code",
   "execution_count": 21,
   "metadata": {},
   "outputs": [
    {
     "data": {
      "text/plain": [
       "Jahr              datetime64[ns]\n",
       "QuarSort                   int64\n",
       "QuarCd                     int64\n",
       "QuarLang                  object\n",
       "KreisSort                  int64\n",
       "KreisCd                    int64\n",
       "KreisLang                 object\n",
       "ProjStatus                object\n",
       "ProjStatusSort             int64\n",
       "Whg1Zi                     int64\n",
       "Whg2Zi                     int64\n",
       "Whg3Zi                     int64\n",
       "Whg4Zi                     int64\n",
       "Whg5Ziplus                 int64\n",
       "Jahr_str                  object\n",
       "dtype: object"
      ]
     },
     "execution_count": 21,
     "metadata": {},
     "output_type": "execute_result"
    }
   ],
   "source": [
    "data2betested = (\n",
    "    data2betested\n",
    "    .copy()\n",
    "    .assign(\n",
    "        #Aktualisierungs_Datum_str= lambda x: x.Aktualisierungs_Datum.astype(str),\n",
    "        Jahr_str = lambda x: x.Jahr.astype(str),\n",
    "    )\n",
    "    .sort_values('Jahr', ascending=False)\n",
    "    )\n",
    "data2betested.dtypes"
   ]
  },
  {
   "cell_type": "markdown",
   "metadata": {},
   "source": [
    " - 1) Zeige eine kurze Vorschau der importierten Daten\n",
    " - 2) Weise die Datentypen aus\n",
    " - 3) Zeige die Shape (Umfang) des Datensatzes an"
   ]
  },
  {
   "cell_type": "code",
   "execution_count": 22,
   "metadata": {},
   "outputs": [],
   "source": [
    "#data2betested.head(6)"
   ]
  },
  {
   "cell_type": "code",
   "execution_count": 23,
   "metadata": {},
   "outputs": [
    {
     "data": {
      "text/plain": [
       "Jahr              datetime64[ns]\n",
       "QuarSort                   int64\n",
       "QuarCd                     int64\n",
       "QuarLang                  object\n",
       "KreisSort                  int64\n",
       "KreisCd                    int64\n",
       "KreisLang                 object\n",
       "ProjStatus                object\n",
       "ProjStatusSort             int64\n",
       "Whg1Zi                     int64\n",
       "Whg2Zi                     int64\n",
       "Whg3Zi                     int64\n",
       "Whg4Zi                     int64\n",
       "Whg5Ziplus                 int64\n",
       "Jahr_str                  object\n",
       "dtype: object"
      ]
     },
     "execution_count": 23,
     "metadata": {},
     "output_type": "execute_result"
    }
   ],
   "source": [
    "data2betested.dtypes"
   ]
  },
  {
   "cell_type": "code",
   "execution_count": 24,
   "metadata": {},
   "outputs": [
    {
     "data": {
      "text/plain": [
       "(884, 15)"
      ]
     },
     "execution_count": 24,
     "metadata": {},
     "output_type": "execute_result"
    }
   ],
   "source": [
    "data2betested.shape"
   ]
  },
  {
   "cell_type": "markdown",
   "metadata": {},
   "source": [
    "Beschreibe einzelne Attribute"
   ]
  },
  {
   "cell_type": "code",
   "execution_count": 25,
   "metadata": {},
   "outputs": [
    {
     "data": {
      "text/html": [
       "<div>\n",
       "<style scoped>\n",
       "    .dataframe tbody tr th:only-of-type {\n",
       "        vertical-align: middle;\n",
       "    }\n",
       "\n",
       "    .dataframe tbody tr th {\n",
       "        vertical-align: top;\n",
       "    }\n",
       "\n",
       "    .dataframe thead th {\n",
       "        text-align: right;\n",
       "    }\n",
       "</style>\n",
       "<table border=\"1\" class=\"dataframe\">\n",
       "  <thead>\n",
       "    <tr style=\"text-align: right;\">\n",
       "      <th></th>\n",
       "      <th>QuarSort</th>\n",
       "      <th>QuarCd</th>\n",
       "      <th>KreisSort</th>\n",
       "      <th>KreisCd</th>\n",
       "      <th>ProjStatusSort</th>\n",
       "      <th>Whg1Zi</th>\n",
       "      <th>Whg2Zi</th>\n",
       "      <th>Whg3Zi</th>\n",
       "      <th>Whg4Zi</th>\n",
       "      <th>Whg5Ziplus</th>\n",
       "    </tr>\n",
       "  </thead>\n",
       "  <tbody>\n",
       "    <tr>\n",
       "      <th>count</th>\n",
       "      <td>884</td>\n",
       "      <td>884</td>\n",
       "      <td>884</td>\n",
       "      <td>884</td>\n",
       "      <td>884</td>\n",
       "      <td>884</td>\n",
       "      <td>884</td>\n",
       "      <td>884</td>\n",
       "      <td>884</td>\n",
       "      <td>884</td>\n",
       "    </tr>\n",
       "    <tr>\n",
       "      <th>mean</th>\n",
       "      <td>65</td>\n",
       "      <td>65</td>\n",
       "      <td>6</td>\n",
       "      <td>6</td>\n",
       "      <td>6702</td>\n",
       "      <td>10</td>\n",
       "      <td>37</td>\n",
       "      <td>46</td>\n",
       "      <td>33</td>\n",
       "      <td>10</td>\n",
       "    </tr>\n",
       "    <tr>\n",
       "      <th>std</th>\n",
       "      <td>36</td>\n",
       "      <td>36</td>\n",
       "      <td>4</td>\n",
       "      <td>4</td>\n",
       "      <td>1</td>\n",
       "      <td>26</td>\n",
       "      <td>62</td>\n",
       "      <td>74</td>\n",
       "      <td>56</td>\n",
       "      <td>18</td>\n",
       "    </tr>\n",
       "    <tr>\n",
       "      <th>min</th>\n",
       "      <td>11</td>\n",
       "      <td>11</td>\n",
       "      <td>1</td>\n",
       "      <td>1</td>\n",
       "      <td>6702</td>\n",
       "      <td>0</td>\n",
       "      <td>0</td>\n",
       "      <td>0</td>\n",
       "      <td>0</td>\n",
       "      <td>0</td>\n",
       "    </tr>\n",
       "    <tr>\n",
       "      <th>25%</th>\n",
       "      <td>33</td>\n",
       "      <td>33</td>\n",
       "      <td>3</td>\n",
       "      <td>3</td>\n",
       "      <td>6702</td>\n",
       "      <td>0</td>\n",
       "      <td>0</td>\n",
       "      <td>2</td>\n",
       "      <td>0</td>\n",
       "      <td>0</td>\n",
       "    </tr>\n",
       "    <tr>\n",
       "      <th>50%</th>\n",
       "      <td>67</td>\n",
       "      <td>67</td>\n",
       "      <td>6</td>\n",
       "      <td>6</td>\n",
       "      <td>6702</td>\n",
       "      <td>1</td>\n",
       "      <td>11</td>\n",
       "      <td>16</td>\n",
       "      <td>11</td>\n",
       "      <td>3</td>\n",
       "    </tr>\n",
       "    <tr>\n",
       "      <th>75%</th>\n",
       "      <td>92</td>\n",
       "      <td>92</td>\n",
       "      <td>9</td>\n",
       "      <td>9</td>\n",
       "      <td>6703</td>\n",
       "      <td>7</td>\n",
       "      <td>47</td>\n",
       "      <td>57</td>\n",
       "      <td>39</td>\n",
       "      <td>11</td>\n",
       "    </tr>\n",
       "    <tr>\n",
       "      <th>max</th>\n",
       "      <td>123</td>\n",
       "      <td>123</td>\n",
       "      <td>12</td>\n",
       "      <td>12</td>\n",
       "      <td>6703</td>\n",
       "      <td>280</td>\n",
       "      <td>637</td>\n",
       "      <td>564</td>\n",
       "      <td>456</td>\n",
       "      <td>160</td>\n",
       "    </tr>\n",
       "  </tbody>\n",
       "</table>\n",
       "</div>"
      ],
      "text/plain": [
       "       QuarSort  QuarCd  KreisSort  KreisCd  ProjStatusSort  Whg1Zi  Whg2Zi  Whg3Zi  Whg4Zi  \\\n",
       "count       884     884        884      884             884     884     884     884     884   \n",
       "mean         65      65          6        6            6702      10      37      46      33   \n",
       "std          36      36          4        4               1      26      62      74      56   \n",
       "min          11      11          1        1            6702       0       0       0       0   \n",
       "25%          33      33          3        3            6702       0       0       2       0   \n",
       "50%          67      67          6        6            6702       1      11      16      11   \n",
       "75%          92      92          9        9            6703       7      47      57      39   \n",
       "max         123     123         12       12            6703     280     637     564     456   \n",
       "\n",
       "       Whg5Ziplus  \n",
       "count         884  \n",
       "mean           10  \n",
       "std            18  \n",
       "min             0  \n",
       "25%             0  \n",
       "50%             3  \n",
       "75%            11  \n",
       "max           160  "
      ]
     },
     "execution_count": 25,
     "metadata": {},
     "output_type": "execute_result"
    }
   ],
   "source": [
    "data2betested.describe()"
   ]
  },
  {
   "cell_type": "markdown",
   "metadata": {},
   "source": [
    "Wie viele Nullwerte gibt es im Datensatz?"
   ]
  },
  {
   "cell_type": "code",
   "execution_count": 26,
   "metadata": {
    "scrolled": true
   },
   "outputs": [
    {
     "data": {
      "text/plain": [
       "Jahr              0\n",
       "QuarSort          0\n",
       "QuarCd            0\n",
       "QuarLang          0\n",
       "KreisSort         0\n",
       "KreisCd           0\n",
       "KreisLang         0\n",
       "ProjStatus        0\n",
       "ProjStatusSort    0\n",
       "Whg1Zi            0\n",
       "Whg2Zi            0\n",
       "Whg3Zi            0\n",
       "Whg4Zi            0\n",
       "Whg5Ziplus        0\n",
       "Jahr_str          0\n",
       "dtype: int64"
      ]
     },
     "execution_count": 26,
     "metadata": {},
     "output_type": "execute_result"
    }
   ],
   "source": [
    "data2betested.isnull().sum()"
   ]
  },
  {
   "cell_type": "markdown",
   "metadata": {
    "colab_type": "text",
    "id": "1dTPVmmsgOVx"
   },
   "source": [
    "### Verwende das Datum als Index\n",
    "\n",
    "While we did already parse the `datetime` column into the respective datetime type, it currently is just a regular column. \n",
    "**To enable quick and convenient queries and aggregations, we need to turn it into the index of the DataFrame**"
   ]
  },
  {
   "cell_type": "code",
   "execution_count": 27,
   "metadata": {},
   "outputs": [],
   "source": [
    "data2betested = data2betested.set_index(\"Jahr\")"
   ]
  },
  {
   "cell_type": "code",
   "execution_count": 28,
   "metadata": {},
   "outputs": [
    {
     "name": "stdout",
     "output_type": "stream",
     "text": [
      "<class 'pandas.core.frame.DataFrame'>\n",
      "DatetimeIndex: 884 entries, 2021-01-01 to 2009-01-01\n",
      "Data columns (total 14 columns):\n",
      " #   Column          Non-Null Count  Dtype \n",
      "---  ------          --------------  ----- \n",
      " 0   QuarSort        884 non-null    int64 \n",
      " 1   QuarCd          884 non-null    int64 \n",
      " 2   QuarLang        884 non-null    object\n",
      " 3   KreisSort       884 non-null    int64 \n",
      " 4   KreisCd         884 non-null    int64 \n",
      " 5   KreisLang       884 non-null    object\n",
      " 6   ProjStatus      884 non-null    object\n",
      " 7   ProjStatusSort  884 non-null    int64 \n",
      " 8   Whg1Zi          884 non-null    int64 \n",
      " 9   Whg2Zi          884 non-null    int64 \n",
      " 10  Whg3Zi          884 non-null    int64 \n",
      " 11  Whg4Zi          884 non-null    int64 \n",
      " 12  Whg5Ziplus      884 non-null    int64 \n",
      " 13  Jahr_str        884 non-null    object\n",
      "dtypes: int64(10), object(4)\n",
      "memory usage: 103.6+ KB\n"
     ]
    },
    {
     "data": {
      "text/plain": [
       "Int64Index([1], dtype='int64', name='Jahr')"
      ]
     },
     "execution_count": 28,
     "metadata": {},
     "output_type": "execute_result"
    }
   ],
   "source": [
    "data2betested.info()\n",
    "data2betested.index.day.unique()"
   ]
  },
  {
   "cell_type": "markdown",
   "metadata": {},
   "source": [
    "### Einfache Visualisierungen zur Plausi"
   ]
  },
  {
   "cell_type": "markdown",
   "metadata": {},
   "source": [
    "Exploriere die Daten mit Pivottable.JS"
   ]
  },
  {
   "cell_type": "code",
   "execution_count": 29,
   "metadata": {},
   "outputs": [
    {
     "data": {
      "text/html": [
       "\n",
       "        <iframe\n",
       "            width=\"100%\"\n",
       "            height=\"500\"\n",
       "            src=\"pivottablejs.html\"\n",
       "            frameborder=\"0\"\n",
       "            allowfullscreen\n",
       "            \n",
       "        ></iframe>\n",
       "        "
      ],
      "text/plain": [
       "<IPython.lib.display.IFrame at 0x1bb45eaaa48>"
      ]
     },
     "execution_count": 29,
     "metadata": {},
     "output_type": "execute_result"
    }
   ],
   "source": [
    "from pivottablejs import pivot_ui\n",
    "\n",
    "pivot_ui(data2betested)"
   ]
  },
  {
   "cell_type": "markdown",
   "metadata": {},
   "source": [
    "### Zeitpunkte und Zeiträume abfragen\n",
    "\n",
    "A particular powerful feature of the Pandas DataFrame is its indexing capability that also works using time-based entities, such as dates and times. We have already created the index above, so let's put it to use."
   ]
  },
  {
   "cell_type": "code",
   "execution_count": 30,
   "metadata": {},
   "outputs": [
    {
     "data": {
      "text/html": [
       "<div>\n",
       "<style scoped>\n",
       "    .dataframe tbody tr th:only-of-type {\n",
       "        vertical-align: middle;\n",
       "    }\n",
       "\n",
       "    .dataframe tbody tr th {\n",
       "        vertical-align: top;\n",
       "    }\n",
       "\n",
       "    .dataframe thead th {\n",
       "        text-align: right;\n",
       "    }\n",
       "</style>\n",
       "<table border=\"1\" class=\"dataframe\">\n",
       "  <thead>\n",
       "    <tr style=\"text-align: right;\">\n",
       "      <th></th>\n",
       "      <th>QuarSort</th>\n",
       "      <th>QuarCd</th>\n",
       "      <th>QuarLang</th>\n",
       "      <th>KreisSort</th>\n",
       "      <th>KreisCd</th>\n",
       "      <th>KreisLang</th>\n",
       "      <th>ProjStatus</th>\n",
       "      <th>ProjStatusSort</th>\n",
       "      <th>Whg1Zi</th>\n",
       "      <th>Whg2Zi</th>\n",
       "      <th>Whg3Zi</th>\n",
       "      <th>Whg4Zi</th>\n",
       "      <th>Whg5Ziplus</th>\n",
       "      <th>Jahr_str</th>\n",
       "    </tr>\n",
       "    <tr>\n",
       "      <th>Jahr</th>\n",
       "      <th></th>\n",
       "      <th></th>\n",
       "      <th></th>\n",
       "      <th></th>\n",
       "      <th></th>\n",
       "      <th></th>\n",
       "      <th></th>\n",
       "      <th></th>\n",
       "      <th></th>\n",
       "      <th></th>\n",
       "      <th></th>\n",
       "      <th></th>\n",
       "      <th></th>\n",
       "      <th></th>\n",
       "    </tr>\n",
       "  </thead>\n",
       "  <tbody>\n",
       "    <tr>\n",
       "      <th>2021-01-01</th>\n",
       "      <td>123</td>\n",
       "      <td>123</td>\n",
       "      <td>Hirzenbach</td>\n",
       "      <td>12</td>\n",
       "      <td>12</td>\n",
       "      <td>Kreis 12</td>\n",
       "      <td>Bewilligt</td>\n",
       "      <td>6702</td>\n",
       "      <td>0</td>\n",
       "      <td>9</td>\n",
       "      <td>10</td>\n",
       "      <td>10</td>\n",
       "      <td>0</td>\n",
       "      <td>2021-01-01</td>\n",
       "    </tr>\n",
       "    <tr>\n",
       "      <th>2021-01-01</th>\n",
       "      <td>44</td>\n",
       "      <td>44</td>\n",
       "      <td>Hard</td>\n",
       "      <td>4</td>\n",
       "      <td>4</td>\n",
       "      <td>Kreis 4</td>\n",
       "      <td>Baubegonnen</td>\n",
       "      <td>6703</td>\n",
       "      <td>2</td>\n",
       "      <td>106</td>\n",
       "      <td>126</td>\n",
       "      <td>57</td>\n",
       "      <td>34</td>\n",
       "      <td>2021-01-01</td>\n",
       "    </tr>\n",
       "    <tr>\n",
       "      <th>2021-01-01</th>\n",
       "      <td>34</td>\n",
       "      <td>34</td>\n",
       "      <td>Sihlfeld</td>\n",
       "      <td>3</td>\n",
       "      <td>3</td>\n",
       "      <td>Kreis 3</td>\n",
       "      <td>Baubegonnen</td>\n",
       "      <td>6703</td>\n",
       "      <td>49</td>\n",
       "      <td>32</td>\n",
       "      <td>9</td>\n",
       "      <td>16</td>\n",
       "      <td>1</td>\n",
       "      <td>2021-01-01</td>\n",
       "    </tr>\n",
       "    <tr>\n",
       "      <th>2021-01-01</th>\n",
       "      <td>34</td>\n",
       "      <td>34</td>\n",
       "      <td>Sihlfeld</td>\n",
       "      <td>3</td>\n",
       "      <td>3</td>\n",
       "      <td>Kreis 3</td>\n",
       "      <td>Bewilligt</td>\n",
       "      <td>6702</td>\n",
       "      <td>7</td>\n",
       "      <td>37</td>\n",
       "      <td>16</td>\n",
       "      <td>0</td>\n",
       "      <td>1</td>\n",
       "      <td>2021-01-01</td>\n",
       "    </tr>\n",
       "    <tr>\n",
       "      <th>2021-01-01</th>\n",
       "      <td>41</td>\n",
       "      <td>41</td>\n",
       "      <td>Werd</td>\n",
       "      <td>4</td>\n",
       "      <td>4</td>\n",
       "      <td>Kreis 4</td>\n",
       "      <td>Baubegonnen</td>\n",
       "      <td>6703</td>\n",
       "      <td>0</td>\n",
       "      <td>7</td>\n",
       "      <td>5</td>\n",
       "      <td>0</td>\n",
       "      <td>0</td>\n",
       "      <td>2021-01-01</td>\n",
       "    </tr>\n",
       "    <tr>\n",
       "      <th>...</th>\n",
       "      <td>...</td>\n",
       "      <td>...</td>\n",
       "      <td>...</td>\n",
       "      <td>...</td>\n",
       "      <td>...</td>\n",
       "      <td>...</td>\n",
       "      <td>...</td>\n",
       "      <td>...</td>\n",
       "      <td>...</td>\n",
       "      <td>...</td>\n",
       "      <td>...</td>\n",
       "      <td>...</td>\n",
       "      <td>...</td>\n",
       "      <td>...</td>\n",
       "    </tr>\n",
       "    <tr>\n",
       "      <th>2009-01-01</th>\n",
       "      <td>74</td>\n",
       "      <td>74</td>\n",
       "      <td>Witikon</td>\n",
       "      <td>7</td>\n",
       "      <td>7</td>\n",
       "      <td>Kreis 7</td>\n",
       "      <td>Baubegonnen</td>\n",
       "      <td>6703</td>\n",
       "      <td>0</td>\n",
       "      <td>0</td>\n",
       "      <td>2</td>\n",
       "      <td>3</td>\n",
       "      <td>2</td>\n",
       "      <td>2009-01-01</td>\n",
       "    </tr>\n",
       "    <tr>\n",
       "      <th>2009-01-01</th>\n",
       "      <td>73</td>\n",
       "      <td>73</td>\n",
       "      <td>Hirslanden</td>\n",
       "      <td>7</td>\n",
       "      <td>7</td>\n",
       "      <td>Kreis 7</td>\n",
       "      <td>Bewilligt</td>\n",
       "      <td>6702</td>\n",
       "      <td>1</td>\n",
       "      <td>0</td>\n",
       "      <td>9</td>\n",
       "      <td>7</td>\n",
       "      <td>0</td>\n",
       "      <td>2009-01-01</td>\n",
       "    </tr>\n",
       "    <tr>\n",
       "      <th>2009-01-01</th>\n",
       "      <td>73</td>\n",
       "      <td>73</td>\n",
       "      <td>Hirslanden</td>\n",
       "      <td>7</td>\n",
       "      <td>7</td>\n",
       "      <td>Kreis 7</td>\n",
       "      <td>Baubegonnen</td>\n",
       "      <td>6703</td>\n",
       "      <td>0</td>\n",
       "      <td>6</td>\n",
       "      <td>12</td>\n",
       "      <td>13</td>\n",
       "      <td>8</td>\n",
       "      <td>2009-01-01</td>\n",
       "    </tr>\n",
       "    <tr>\n",
       "      <th>2009-01-01</th>\n",
       "      <td>72</td>\n",
       "      <td>72</td>\n",
       "      <td>Hottingen</td>\n",
       "      <td>7</td>\n",
       "      <td>7</td>\n",
       "      <td>Kreis 7</td>\n",
       "      <td>Bewilligt</td>\n",
       "      <td>6702</td>\n",
       "      <td>0</td>\n",
       "      <td>1</td>\n",
       "      <td>1</td>\n",
       "      <td>1</td>\n",
       "      <td>5</td>\n",
       "      <td>2009-01-01</td>\n",
       "    </tr>\n",
       "    <tr>\n",
       "      <th>2009-01-01</th>\n",
       "      <td>11</td>\n",
       "      <td>11</td>\n",
       "      <td>Rathaus</td>\n",
       "      <td>1</td>\n",
       "      <td>1</td>\n",
       "      <td>Kreis 1</td>\n",
       "      <td>Baubegonnen</td>\n",
       "      <td>6703</td>\n",
       "      <td>0</td>\n",
       "      <td>0</td>\n",
       "      <td>0</td>\n",
       "      <td>0</td>\n",
       "      <td>0</td>\n",
       "      <td>2009-01-01</td>\n",
       "    </tr>\n",
       "  </tbody>\n",
       "</table>\n",
       "<p>884 rows × 14 columns</p>\n",
       "</div>"
      ],
      "text/plain": [
       "            QuarSort  QuarCd    QuarLang  KreisSort  KreisCd KreisLang   ProjStatus  \\\n",
       "Jahr                                                                                  \n",
       "2021-01-01       123     123  Hirzenbach         12       12  Kreis 12    Bewilligt   \n",
       "2021-01-01        44      44        Hard          4        4   Kreis 4  Baubegonnen   \n",
       "2021-01-01        34      34    Sihlfeld          3        3   Kreis 3  Baubegonnen   \n",
       "2021-01-01        34      34    Sihlfeld          3        3   Kreis 3    Bewilligt   \n",
       "2021-01-01        41      41        Werd          4        4   Kreis 4  Baubegonnen   \n",
       "...              ...     ...         ...        ...      ...       ...          ...   \n",
       "2009-01-01        74      74     Witikon          7        7   Kreis 7  Baubegonnen   \n",
       "2009-01-01        73      73  Hirslanden          7        7   Kreis 7    Bewilligt   \n",
       "2009-01-01        73      73  Hirslanden          7        7   Kreis 7  Baubegonnen   \n",
       "2009-01-01        72      72   Hottingen          7        7   Kreis 7    Bewilligt   \n",
       "2009-01-01        11      11     Rathaus          1        1   Kreis 1  Baubegonnen   \n",
       "\n",
       "            ProjStatusSort  Whg1Zi  Whg2Zi  Whg3Zi  Whg4Zi  Whg5Ziplus    Jahr_str  \n",
       "Jahr                                                                                \n",
       "2021-01-01            6702       0       9      10      10           0  2021-01-01  \n",
       "2021-01-01            6703       2     106     126      57          34  2021-01-01  \n",
       "2021-01-01            6703      49      32       9      16           1  2021-01-01  \n",
       "2021-01-01            6702       7      37      16       0           1  2021-01-01  \n",
       "2021-01-01            6703       0       7       5       0           0  2021-01-01  \n",
       "...                    ...     ...     ...     ...     ...         ...         ...  \n",
       "2009-01-01            6703       0       0       2       3           2  2009-01-01  \n",
       "2009-01-01            6702       1       0       9       7           0  2009-01-01  \n",
       "2009-01-01            6703       0       6      12      13           8  2009-01-01  \n",
       "2009-01-01            6702       0       1       1       1           5  2009-01-01  \n",
       "2009-01-01            6703       0       0       0       0           0  2009-01-01  \n",
       "\n",
       "[884 rows x 14 columns]"
      ]
     },
     "execution_count": 30,
     "metadata": {},
     "output_type": "execute_result"
    }
   ],
   "source": [
    "data2betested.loc[\"2009\":\"2021\"].query('ProjStatus != \"Im Bau\"')\n",
    "#data2betested.loc[\"2021-10-31\":\"2021-11-30\"].head(2)"
   ]
  },
  {
   "cell_type": "markdown",
   "metadata": {},
   "source": [
    "### Visualisierungen nach Zeitausschnitten"
   ]
  },
  {
   "cell_type": "markdown",
   "metadata": {
    "tags": []
   },
   "source": [
    "#### Entwicklung Wohnungen nach Projektstatus und Zimmerzahl"
   ]
  },
  {
   "cell_type": "code",
   "execution_count": 31,
   "metadata": {},
   "outputs": [
    {
     "data": {
      "text/plain": [
       "Index(['QuarSort', 'QuarCd', 'QuarLang', 'KreisSort', 'KreisCd', 'KreisLang', 'ProjStatus',\n",
       "       'ProjStatusSort', 'Whg1Zi', 'Whg2Zi', 'Whg3Zi', 'Whg4Zi', 'Whg5Ziplus', 'Jahr_str'],\n",
       "      dtype='object')"
      ]
     },
     "execution_count": 31,
     "metadata": {},
     "output_type": "execute_result"
    }
   ],
   "source": [
    "data2betested.columns"
   ]
  },
  {
   "cell_type": "code",
   "execution_count": 32,
   "metadata": {
    "tags": []
   },
   "outputs": [
    {
     "data": {
      "text/html": [
       "<div>\n",
       "<style scoped>\n",
       "    .dataframe tbody tr th:only-of-type {\n",
       "        vertical-align: middle;\n",
       "    }\n",
       "\n",
       "    .dataframe tbody tr th {\n",
       "        vertical-align: top;\n",
       "    }\n",
       "\n",
       "    .dataframe thead th {\n",
       "        text-align: right;\n",
       "    }\n",
       "</style>\n",
       "<table border=\"1\" class=\"dataframe\">\n",
       "  <thead>\n",
       "    <tr style=\"text-align: right;\">\n",
       "      <th></th>\n",
       "      <th>Jahr</th>\n",
       "      <th>ProjStatus</th>\n",
       "      <th>ProjStatusSort</th>\n",
       "      <th>sum_Whg1Zi</th>\n",
       "      <th>sum_Whg2Zi</th>\n",
       "      <th>sum_Whg3Zi</th>\n",
       "      <th>sum_Whg4Zi</th>\n",
       "      <th>sum_Whg5Ziplus</th>\n",
       "    </tr>\n",
       "  </thead>\n",
       "  <tbody>\n",
       "    <tr>\n",
       "      <th>0</th>\n",
       "      <td>2009-01-01</td>\n",
       "      <td>Baubegonnen</td>\n",
       "      <td>6703</td>\n",
       "      <td>80</td>\n",
       "      <td>737</td>\n",
       "      <td>1457</td>\n",
       "      <td>1473</td>\n",
       "      <td>429</td>\n",
       "    </tr>\n",
       "    <tr>\n",
       "      <th>1</th>\n",
       "      <td>2009-01-01</td>\n",
       "      <td>Bewilligt</td>\n",
       "      <td>6702</td>\n",
       "      <td>122</td>\n",
       "      <td>778</td>\n",
       "      <td>890</td>\n",
       "      <td>823</td>\n",
       "      <td>290</td>\n",
       "    </tr>\n",
       "    <tr>\n",
       "      <th>2</th>\n",
       "      <td>2010-01-01</td>\n",
       "      <td>Baubegonnen</td>\n",
       "      <td>6703</td>\n",
       "      <td>152</td>\n",
       "      <td>1105</td>\n",
       "      <td>1622</td>\n",
       "      <td>1632</td>\n",
       "      <td>440</td>\n",
       "    </tr>\n",
       "    <tr>\n",
       "      <th>3</th>\n",
       "      <td>2010-01-01</td>\n",
       "      <td>Bewilligt</td>\n",
       "      <td>6702</td>\n",
       "      <td>126</td>\n",
       "      <td>882</td>\n",
       "      <td>951</td>\n",
       "      <td>677</td>\n",
       "      <td>222</td>\n",
       "    </tr>\n",
       "    <tr>\n",
       "      <th>4</th>\n",
       "      <td>2011-01-01</td>\n",
       "      <td>Baubegonnen</td>\n",
       "      <td>6703</td>\n",
       "      <td>348</td>\n",
       "      <td>1225</td>\n",
       "      <td>1452</td>\n",
       "      <td>1235</td>\n",
       "      <td>319</td>\n",
       "    </tr>\n",
       "    <tr>\n",
       "      <th>5</th>\n",
       "      <td>2011-01-01</td>\n",
       "      <td>Bewilligt</td>\n",
       "      <td>6702</td>\n",
       "      <td>213</td>\n",
       "      <td>1120</td>\n",
       "      <td>1230</td>\n",
       "      <td>958</td>\n",
       "      <td>395</td>\n",
       "    </tr>\n",
       "    <tr>\n",
       "      <th>6</th>\n",
       "      <td>2012-01-01</td>\n",
       "      <td>Baubegonnen</td>\n",
       "      <td>6703</td>\n",
       "      <td>335</td>\n",
       "      <td>1340</td>\n",
       "      <td>1471</td>\n",
       "      <td>844</td>\n",
       "      <td>282</td>\n",
       "    </tr>\n",
       "    <tr>\n",
       "      <th>7</th>\n",
       "      <td>2012-01-01</td>\n",
       "      <td>Bewilligt</td>\n",
       "      <td>6702</td>\n",
       "      <td>148</td>\n",
       "      <td>1170</td>\n",
       "      <td>1653</td>\n",
       "      <td>1438</td>\n",
       "      <td>460</td>\n",
       "    </tr>\n",
       "    <tr>\n",
       "      <th>8</th>\n",
       "      <td>2013-01-01</td>\n",
       "      <td>Baubegonnen</td>\n",
       "      <td>6703</td>\n",
       "      <td>202</td>\n",
       "      <td>1436</td>\n",
       "      <td>1752</td>\n",
       "      <td>1446</td>\n",
       "      <td>541</td>\n",
       "    </tr>\n",
       "    <tr>\n",
       "      <th>9</th>\n",
       "      <td>2013-01-01</td>\n",
       "      <td>Bewilligt</td>\n",
       "      <td>6702</td>\n",
       "      <td>104</td>\n",
       "      <td>1181</td>\n",
       "      <td>1837</td>\n",
       "      <td>1435</td>\n",
       "      <td>424</td>\n",
       "    </tr>\n",
       "    <tr>\n",
       "      <th>10</th>\n",
       "      <td>2014-01-01</td>\n",
       "      <td>Baubegonnen</td>\n",
       "      <td>6703</td>\n",
       "      <td>369</td>\n",
       "      <td>1785</td>\n",
       "      <td>2333</td>\n",
       "      <td>1831</td>\n",
       "      <td>675</td>\n",
       "    </tr>\n",
       "    <tr>\n",
       "      <th>11</th>\n",
       "      <td>2014-01-01</td>\n",
       "      <td>Bewilligt</td>\n",
       "      <td>6702</td>\n",
       "      <td>218</td>\n",
       "      <td>1275</td>\n",
       "      <td>1423</td>\n",
       "      <td>937</td>\n",
       "      <td>243</td>\n",
       "    </tr>\n",
       "    <tr>\n",
       "      <th>12</th>\n",
       "      <td>2015-01-01</td>\n",
       "      <td>Bewilligt</td>\n",
       "      <td>6702</td>\n",
       "      <td>324</td>\n",
       "      <td>1071</td>\n",
       "      <td>1446</td>\n",
       "      <td>1136</td>\n",
       "      <td>276</td>\n",
       "    </tr>\n",
       "    <tr>\n",
       "      <th>13</th>\n",
       "      <td>2015-01-01</td>\n",
       "      <td>Baubegonnen</td>\n",
       "      <td>6703</td>\n",
       "      <td>378</td>\n",
       "      <td>1873</td>\n",
       "      <td>2033</td>\n",
       "      <td>1273</td>\n",
       "      <td>429</td>\n",
       "    </tr>\n",
       "    <tr>\n",
       "      <th>14</th>\n",
       "      <td>2016-01-01</td>\n",
       "      <td>Baubegonnen</td>\n",
       "      <td>6703</td>\n",
       "      <td>292</td>\n",
       "      <td>1697</td>\n",
       "      <td>1945</td>\n",
       "      <td>1232</td>\n",
       "      <td>351</td>\n",
       "    </tr>\n",
       "    <tr>\n",
       "      <th>15</th>\n",
       "      <td>2016-01-01</td>\n",
       "      <td>Bewilligt</td>\n",
       "      <td>6702</td>\n",
       "      <td>620</td>\n",
       "      <td>895</td>\n",
       "      <td>1295</td>\n",
       "      <td>970</td>\n",
       "      <td>240</td>\n",
       "    </tr>\n",
       "    <tr>\n",
       "      <th>16</th>\n",
       "      <td>2017-01-01</td>\n",
       "      <td>Baubegonnen</td>\n",
       "      <td>6703</td>\n",
       "      <td>611</td>\n",
       "      <td>1580</td>\n",
       "      <td>1980</td>\n",
       "      <td>1397</td>\n",
       "      <td>345</td>\n",
       "    </tr>\n",
       "    <tr>\n",
       "      <th>17</th>\n",
       "      <td>2017-01-01</td>\n",
       "      <td>Bewilligt</td>\n",
       "      <td>6702</td>\n",
       "      <td>403</td>\n",
       "      <td>887</td>\n",
       "      <td>1048</td>\n",
       "      <td>680</td>\n",
       "      <td>188</td>\n",
       "    </tr>\n",
       "    <tr>\n",
       "      <th>18</th>\n",
       "      <td>2018-01-01</td>\n",
       "      <td>Baubegonnen</td>\n",
       "      <td>6703</td>\n",
       "      <td>285</td>\n",
       "      <td>1207</td>\n",
       "      <td>1597</td>\n",
       "      <td>1137</td>\n",
       "      <td>296</td>\n",
       "    </tr>\n",
       "    <tr>\n",
       "      <th>19</th>\n",
       "      <td>2018-01-01</td>\n",
       "      <td>Bewilligt</td>\n",
       "      <td>6702</td>\n",
       "      <td>435</td>\n",
       "      <td>919</td>\n",
       "      <td>999</td>\n",
       "      <td>601</td>\n",
       "      <td>129</td>\n",
       "    </tr>\n",
       "    <tr>\n",
       "      <th>20</th>\n",
       "      <td>2019-01-01</td>\n",
       "      <td>Baubegonnen</td>\n",
       "      <td>6703</td>\n",
       "      <td>468</td>\n",
       "      <td>1092</td>\n",
       "      <td>1441</td>\n",
       "      <td>1048</td>\n",
       "      <td>272</td>\n",
       "    </tr>\n",
       "    <tr>\n",
       "      <th>21</th>\n",
       "      <td>2019-01-01</td>\n",
       "      <td>Bewilligt</td>\n",
       "      <td>6702</td>\n",
       "      <td>390</td>\n",
       "      <td>1396</td>\n",
       "      <td>1503</td>\n",
       "      <td>884</td>\n",
       "      <td>274</td>\n",
       "    </tr>\n",
       "    <tr>\n",
       "      <th>22</th>\n",
       "      <td>2020-01-01</td>\n",
       "      <td>Baubegonnen</td>\n",
       "      <td>6703</td>\n",
       "      <td>665</td>\n",
       "      <td>1463</td>\n",
       "      <td>1803</td>\n",
       "      <td>1184</td>\n",
       "      <td>306</td>\n",
       "    </tr>\n",
       "    <tr>\n",
       "      <th>23</th>\n",
       "      <td>2020-01-01</td>\n",
       "      <td>Bewilligt</td>\n",
       "      <td>6702</td>\n",
       "      <td>410</td>\n",
       "      <td>1842</td>\n",
       "      <td>1978</td>\n",
       "      <td>1264</td>\n",
       "      <td>346</td>\n",
       "    </tr>\n",
       "    <tr>\n",
       "      <th>24</th>\n",
       "      <td>2021-01-01</td>\n",
       "      <td>Baubegonnen</td>\n",
       "      <td>6703</td>\n",
       "      <td>808</td>\n",
       "      <td>1970</td>\n",
       "      <td>2449</td>\n",
       "      <td>1528</td>\n",
       "      <td>411</td>\n",
       "    </tr>\n",
       "    <tr>\n",
       "      <th>25</th>\n",
       "      <td>2021-01-01</td>\n",
       "      <td>Bewilligt</td>\n",
       "      <td>6702</td>\n",
       "      <td>351</td>\n",
       "      <td>764</td>\n",
       "      <td>711</td>\n",
       "      <td>524</td>\n",
       "      <td>194</td>\n",
       "    </tr>\n",
       "  </tbody>\n",
       "</table>\n",
       "</div>"
      ],
      "text/plain": [
       "         Jahr   ProjStatus  ProjStatusSort  sum_Whg1Zi  sum_Whg2Zi  sum_Whg3Zi  sum_Whg4Zi  \\\n",
       "0  2009-01-01  Baubegonnen            6703          80         737        1457        1473   \n",
       "1  2009-01-01    Bewilligt            6702         122         778         890         823   \n",
       "2  2010-01-01  Baubegonnen            6703         152        1105        1622        1632   \n",
       "3  2010-01-01    Bewilligt            6702         126         882         951         677   \n",
       "4  2011-01-01  Baubegonnen            6703         348        1225        1452        1235   \n",
       "5  2011-01-01    Bewilligt            6702         213        1120        1230         958   \n",
       "6  2012-01-01  Baubegonnen            6703         335        1340        1471         844   \n",
       "7  2012-01-01    Bewilligt            6702         148        1170        1653        1438   \n",
       "8  2013-01-01  Baubegonnen            6703         202        1436        1752        1446   \n",
       "9  2013-01-01    Bewilligt            6702         104        1181        1837        1435   \n",
       "10 2014-01-01  Baubegonnen            6703         369        1785        2333        1831   \n",
       "11 2014-01-01    Bewilligt            6702         218        1275        1423         937   \n",
       "12 2015-01-01    Bewilligt            6702         324        1071        1446        1136   \n",
       "13 2015-01-01  Baubegonnen            6703         378        1873        2033        1273   \n",
       "14 2016-01-01  Baubegonnen            6703         292        1697        1945        1232   \n",
       "15 2016-01-01    Bewilligt            6702         620         895        1295         970   \n",
       "16 2017-01-01  Baubegonnen            6703         611        1580        1980        1397   \n",
       "17 2017-01-01    Bewilligt            6702         403         887        1048         680   \n",
       "18 2018-01-01  Baubegonnen            6703         285        1207        1597        1137   \n",
       "19 2018-01-01    Bewilligt            6702         435         919         999         601   \n",
       "20 2019-01-01  Baubegonnen            6703         468        1092        1441        1048   \n",
       "21 2019-01-01    Bewilligt            6702         390        1396        1503         884   \n",
       "22 2020-01-01  Baubegonnen            6703         665        1463        1803        1184   \n",
       "23 2020-01-01    Bewilligt            6702         410        1842        1978        1264   \n",
       "24 2021-01-01  Baubegonnen            6703         808        1970        2449        1528   \n",
       "25 2021-01-01    Bewilligt            6702         351         764         711         524   \n",
       "\n",
       "    sum_Whg5Ziplus  \n",
       "0              429  \n",
       "1              290  \n",
       "2              440  \n",
       "3              222  \n",
       "4              319  \n",
       "5              395  \n",
       "6              282  \n",
       "7              460  \n",
       "8              541  \n",
       "9              424  \n",
       "10             675  \n",
       "11             243  \n",
       "12             276  \n",
       "13             429  \n",
       "14             351  \n",
       "15             240  \n",
       "16             345  \n",
       "17             188  \n",
       "18             296  \n",
       "19             129  \n",
       "20             272  \n",
       "21             274  \n",
       "22             306  \n",
       "23             346  \n",
       "24             411  \n",
       "25             194  "
      ]
     },
     "execution_count": 32,
     "metadata": {},
     "output_type": "execute_result"
    }
   ],
   "source": [
    "#myAgg = data2betested.loc[\"2008-11-30\":\"2021-10-31\"]\n",
    "myAgg = data2betested.loc[\"2009\":\"2021\"]\\\n",
    "    .groupby(['Jahr','ProjStatus', 'ProjStatusSort']) \\\n",
    "    .agg(sum_Whg1Zi=('Whg1Zi', 'sum'),sum_Whg2Zi=('Whg2Zi', 'sum'),sum_Whg3Zi=('Whg3Zi', 'sum'),sum_Whg4Zi=('Whg4Zi', 'sum'),sum_Whg5Ziplus=('Whg5Ziplus', 'sum'),) \\\n",
    "    .sort_values('Jahr', ascending=True) \n",
    "myAgg.reset_index()"
   ]
  },
  {
   "cell_type": "code",
   "execution_count": 33,
   "metadata": {},
   "outputs": [
    {
     "data": {
      "text/html": [
       "\n",
       "<div id=\"altair-viz-da5e16a670754d538eb265a39979a9b8\"></div>\n",
       "<script type=\"text/javascript\">\n",
       "  (function(spec, embedOpt){\n",
       "    let outputDiv = document.currentScript.previousElementSibling;\n",
       "    if (outputDiv.id !== \"altair-viz-da5e16a670754d538eb265a39979a9b8\") {\n",
       "      outputDiv = document.getElementById(\"altair-viz-da5e16a670754d538eb265a39979a9b8\");\n",
       "    }\n",
       "    const paths = {\n",
       "      \"vega\": \"https://cdn.jsdelivr.net/npm//vega@5?noext\",\n",
       "      \"vega-lib\": \"https://cdn.jsdelivr.net/npm//vega-lib?noext\",\n",
       "      \"vega-lite\": \"https://cdn.jsdelivr.net/npm//vega-lite@4.8.1?noext\",\n",
       "      \"vega-embed\": \"https://cdn.jsdelivr.net/npm//vega-embed@6?noext\",\n",
       "    };\n",
       "\n",
       "    function loadScript(lib) {\n",
       "      return new Promise(function(resolve, reject) {\n",
       "        var s = document.createElement('script');\n",
       "        s.src = paths[lib];\n",
       "        s.async = true;\n",
       "        s.onload = () => resolve(paths[lib]);\n",
       "        s.onerror = () => reject(`Error loading script: ${paths[lib]}`);\n",
       "        document.getElementsByTagName(\"head\")[0].appendChild(s);\n",
       "      });\n",
       "    }\n",
       "\n",
       "    function showError(err) {\n",
       "      outputDiv.innerHTML = `<div class=\"error\" style=\"color:red;\">${err}</div>`;\n",
       "      throw err;\n",
       "    }\n",
       "\n",
       "    function displayChart(vegaEmbed) {\n",
       "      vegaEmbed(outputDiv, spec, embedOpt)\n",
       "        .catch(err => showError(`Javascript Error: ${err.message}<br>This usually means there's a typo in your chart specification. See the javascript console for the full traceback.`));\n",
       "    }\n",
       "\n",
       "    if(typeof define === \"function\" && define.amd) {\n",
       "      requirejs.config({paths});\n",
       "      require([\"vega-embed\"], displayChart, err => showError(`Error loading script: ${err.message}`));\n",
       "    } else if (typeof vegaEmbed === \"function\") {\n",
       "      displayChart(vegaEmbed);\n",
       "    } else {\n",
       "      loadScript(\"vega\")\n",
       "        .then(() => loadScript(\"vega-lite\"))\n",
       "        .then(() => loadScript(\"vega-embed\"))\n",
       "        .catch(showError)\n",
       "        .then(() => displayChart(vegaEmbed));\n",
       "    }\n",
       "  })({\"config\": {\"view\": {\"continuousWidth\": 400, \"continuousHeight\": 300}}, \"layer\": [{\"mark\": \"line\", \"encoding\": {\"color\": {\"type\": \"nominal\", \"field\": \"ProjStatus\", \"legend\": {\"orient\": \"right\", \"title\": \"ProjStatus\"}}, \"size\": {\"condition\": {\"value\": 0.5, \"selection\": {\"not\": \"selector001\"}}, \"value\": 4}, \"tooltip\": [{\"type\": \"temporal\", \"field\": \"Jahr\"}, {\"type\": \"nominal\", \"field\": \"ProjStatus\"}, {\"type\": \"quantitative\", \"field\": \"sum_Whg1Zi\"}, {\"type\": \"quantitative\", \"field\": \"sum_Whg2Zi\"}, {\"type\": \"quantitative\", \"field\": \"sum_Whg3Zi\"}], \"x\": {\"type\": \"temporal\", \"axis\": {\"title\": \"Jahr\"}, \"field\": \"Jahr\"}, \"y\": {\"type\": \"quantitative\", \"axis\": {\"title\": \"Anz. abgebrochener Wohnungen\"}, \"field\": \"sum_Whg2Zi\"}}, \"selection\": {\"selector002\": {\"type\": \"interval\", \"bind\": \"scales\", \"encodings\": [\"x\", \"y\"]}}, \"title\": \"Title\"}, {\"mark\": \"circle\", \"encoding\": {\"color\": {\"type\": \"nominal\", \"field\": \"ProjStatus\", \"legend\": {\"orient\": \"right\", \"title\": \"ProjStatus\"}}, \"opacity\": {\"value\": 0.75}, \"tooltip\": [{\"type\": \"temporal\", \"field\": \"Jahr\"}, {\"type\": \"nominal\", \"field\": \"ProjStatus\"}, {\"type\": \"quantitative\", \"field\": \"sum_Whg1Zi\"}, {\"type\": \"quantitative\", \"field\": \"sum_Whg2Zi\"}, {\"type\": \"quantitative\", \"field\": \"sum_Whg3Zi\"}], \"x\": {\"type\": \"temporal\", \"axis\": {\"title\": \"Jahr\"}, \"field\": \"Jahr\"}, \"y\": {\"type\": \"quantitative\", \"axis\": {\"title\": \"Anz. abgebrochener Wohnungen\"}, \"field\": \"sum_Whg2Zi\"}}, \"height\": 350, \"selection\": {\"selector001\": {\"type\": \"single\", \"on\": \"mouseover\", \"fields\": [\"ProjStatus\"], \"nearest\": true}}, \"title\": \"Title\", \"width\": 750}], \"data\": {\"name\": \"data-d8d52fd3952afd3841ea8d66ec8b8981\"}, \"$schema\": \"https://vega.github.io/schema/vega-lite/v4.8.1.json\", \"datasets\": {\"data-d8d52fd3952afd3841ea8d66ec8b8981\": [{\"Jahr\": \"2009-01-01T00:00:00\", \"ProjStatus\": \"Baubegonnen\", \"ProjStatusSort\": 6703, \"sum_Whg1Zi\": 80, \"sum_Whg2Zi\": 737, \"sum_Whg3Zi\": 1457, \"sum_Whg4Zi\": 1473, \"sum_Whg5Ziplus\": 429}, {\"Jahr\": \"2009-01-01T00:00:00\", \"ProjStatus\": \"Bewilligt\", \"ProjStatusSort\": 6702, \"sum_Whg1Zi\": 122, \"sum_Whg2Zi\": 778, \"sum_Whg3Zi\": 890, \"sum_Whg4Zi\": 823, \"sum_Whg5Ziplus\": 290}, {\"Jahr\": \"2010-01-01T00:00:00\", \"ProjStatus\": \"Baubegonnen\", \"ProjStatusSort\": 6703, \"sum_Whg1Zi\": 152, \"sum_Whg2Zi\": 1105, \"sum_Whg3Zi\": 1622, \"sum_Whg4Zi\": 1632, \"sum_Whg5Ziplus\": 440}, {\"Jahr\": \"2010-01-01T00:00:00\", \"ProjStatus\": \"Bewilligt\", \"ProjStatusSort\": 6702, \"sum_Whg1Zi\": 126, \"sum_Whg2Zi\": 882, \"sum_Whg3Zi\": 951, \"sum_Whg4Zi\": 677, \"sum_Whg5Ziplus\": 222}, {\"Jahr\": \"2011-01-01T00:00:00\", \"ProjStatus\": \"Baubegonnen\", \"ProjStatusSort\": 6703, \"sum_Whg1Zi\": 348, \"sum_Whg2Zi\": 1225, \"sum_Whg3Zi\": 1452, \"sum_Whg4Zi\": 1235, \"sum_Whg5Ziplus\": 319}, {\"Jahr\": \"2011-01-01T00:00:00\", \"ProjStatus\": \"Bewilligt\", \"ProjStatusSort\": 6702, \"sum_Whg1Zi\": 213, \"sum_Whg2Zi\": 1120, \"sum_Whg3Zi\": 1230, \"sum_Whg4Zi\": 958, \"sum_Whg5Ziplus\": 395}, {\"Jahr\": \"2012-01-01T00:00:00\", \"ProjStatus\": \"Baubegonnen\", \"ProjStatusSort\": 6703, \"sum_Whg1Zi\": 335, \"sum_Whg2Zi\": 1340, \"sum_Whg3Zi\": 1471, \"sum_Whg4Zi\": 844, \"sum_Whg5Ziplus\": 282}, {\"Jahr\": \"2012-01-01T00:00:00\", \"ProjStatus\": \"Bewilligt\", \"ProjStatusSort\": 6702, \"sum_Whg1Zi\": 148, \"sum_Whg2Zi\": 1170, \"sum_Whg3Zi\": 1653, \"sum_Whg4Zi\": 1438, \"sum_Whg5Ziplus\": 460}, {\"Jahr\": \"2013-01-01T00:00:00\", \"ProjStatus\": \"Baubegonnen\", \"ProjStatusSort\": 6703, \"sum_Whg1Zi\": 202, \"sum_Whg2Zi\": 1436, \"sum_Whg3Zi\": 1752, \"sum_Whg4Zi\": 1446, \"sum_Whg5Ziplus\": 541}, {\"Jahr\": \"2013-01-01T00:00:00\", \"ProjStatus\": \"Bewilligt\", \"ProjStatusSort\": 6702, \"sum_Whg1Zi\": 104, \"sum_Whg2Zi\": 1181, \"sum_Whg3Zi\": 1837, \"sum_Whg4Zi\": 1435, \"sum_Whg5Ziplus\": 424}, {\"Jahr\": \"2014-01-01T00:00:00\", \"ProjStatus\": \"Baubegonnen\", \"ProjStatusSort\": 6703, \"sum_Whg1Zi\": 369, \"sum_Whg2Zi\": 1785, \"sum_Whg3Zi\": 2333, \"sum_Whg4Zi\": 1831, \"sum_Whg5Ziplus\": 675}, {\"Jahr\": \"2014-01-01T00:00:00\", \"ProjStatus\": \"Bewilligt\", \"ProjStatusSort\": 6702, \"sum_Whg1Zi\": 218, \"sum_Whg2Zi\": 1275, \"sum_Whg3Zi\": 1423, \"sum_Whg4Zi\": 937, \"sum_Whg5Ziplus\": 243}, {\"Jahr\": \"2015-01-01T00:00:00\", \"ProjStatus\": \"Bewilligt\", \"ProjStatusSort\": 6702, \"sum_Whg1Zi\": 324, \"sum_Whg2Zi\": 1071, \"sum_Whg3Zi\": 1446, \"sum_Whg4Zi\": 1136, \"sum_Whg5Ziplus\": 276}, {\"Jahr\": \"2015-01-01T00:00:00\", \"ProjStatus\": \"Baubegonnen\", \"ProjStatusSort\": 6703, \"sum_Whg1Zi\": 378, \"sum_Whg2Zi\": 1873, \"sum_Whg3Zi\": 2033, \"sum_Whg4Zi\": 1273, \"sum_Whg5Ziplus\": 429}, {\"Jahr\": \"2016-01-01T00:00:00\", \"ProjStatus\": \"Baubegonnen\", \"ProjStatusSort\": 6703, \"sum_Whg1Zi\": 292, \"sum_Whg2Zi\": 1697, \"sum_Whg3Zi\": 1945, \"sum_Whg4Zi\": 1232, \"sum_Whg5Ziplus\": 351}, {\"Jahr\": \"2016-01-01T00:00:00\", \"ProjStatus\": \"Bewilligt\", \"ProjStatusSort\": 6702, \"sum_Whg1Zi\": 620, \"sum_Whg2Zi\": 895, \"sum_Whg3Zi\": 1295, \"sum_Whg4Zi\": 970, \"sum_Whg5Ziplus\": 240}, {\"Jahr\": \"2017-01-01T00:00:00\", \"ProjStatus\": \"Baubegonnen\", \"ProjStatusSort\": 6703, \"sum_Whg1Zi\": 611, \"sum_Whg2Zi\": 1580, \"sum_Whg3Zi\": 1980, \"sum_Whg4Zi\": 1397, \"sum_Whg5Ziplus\": 345}, {\"Jahr\": \"2017-01-01T00:00:00\", \"ProjStatus\": \"Bewilligt\", \"ProjStatusSort\": 6702, \"sum_Whg1Zi\": 403, \"sum_Whg2Zi\": 887, \"sum_Whg3Zi\": 1048, \"sum_Whg4Zi\": 680, \"sum_Whg5Ziplus\": 188}, {\"Jahr\": \"2018-01-01T00:00:00\", \"ProjStatus\": \"Baubegonnen\", \"ProjStatusSort\": 6703, \"sum_Whg1Zi\": 285, \"sum_Whg2Zi\": 1207, \"sum_Whg3Zi\": 1597, \"sum_Whg4Zi\": 1137, \"sum_Whg5Ziplus\": 296}, {\"Jahr\": \"2018-01-01T00:00:00\", \"ProjStatus\": \"Bewilligt\", \"ProjStatusSort\": 6702, \"sum_Whg1Zi\": 435, \"sum_Whg2Zi\": 919, \"sum_Whg3Zi\": 999, \"sum_Whg4Zi\": 601, \"sum_Whg5Ziplus\": 129}, {\"Jahr\": \"2019-01-01T00:00:00\", \"ProjStatus\": \"Baubegonnen\", \"ProjStatusSort\": 6703, \"sum_Whg1Zi\": 468, \"sum_Whg2Zi\": 1092, \"sum_Whg3Zi\": 1441, \"sum_Whg4Zi\": 1048, \"sum_Whg5Ziplus\": 272}, {\"Jahr\": \"2019-01-01T00:00:00\", \"ProjStatus\": \"Bewilligt\", \"ProjStatusSort\": 6702, \"sum_Whg1Zi\": 390, \"sum_Whg2Zi\": 1396, \"sum_Whg3Zi\": 1503, \"sum_Whg4Zi\": 884, \"sum_Whg5Ziplus\": 274}, {\"Jahr\": \"2020-01-01T00:00:00\", \"ProjStatus\": \"Baubegonnen\", \"ProjStatusSort\": 6703, \"sum_Whg1Zi\": 665, \"sum_Whg2Zi\": 1463, \"sum_Whg3Zi\": 1803, \"sum_Whg4Zi\": 1184, \"sum_Whg5Ziplus\": 306}, {\"Jahr\": \"2020-01-01T00:00:00\", \"ProjStatus\": \"Bewilligt\", \"ProjStatusSort\": 6702, \"sum_Whg1Zi\": 410, \"sum_Whg2Zi\": 1842, \"sum_Whg3Zi\": 1978, \"sum_Whg4Zi\": 1264, \"sum_Whg5Ziplus\": 346}, {\"Jahr\": \"2021-01-01T00:00:00\", \"ProjStatus\": \"Baubegonnen\", \"ProjStatusSort\": 6703, \"sum_Whg1Zi\": 808, \"sum_Whg2Zi\": 1970, \"sum_Whg3Zi\": 2449, \"sum_Whg4Zi\": 1528, \"sum_Whg5Ziplus\": 411}, {\"Jahr\": \"2021-01-01T00:00:00\", \"ProjStatus\": \"Bewilligt\", \"ProjStatusSort\": 6702, \"sum_Whg1Zi\": 351, \"sum_Whg2Zi\": 764, \"sum_Whg3Zi\": 711, \"sum_Whg4Zi\": 524, \"sum_Whg5Ziplus\": 194}]}}, {\"mode\": \"vega-lite\"});\n",
       "</script>"
      ],
      "text/plain": [
       "alt.LayerChart(...)"
      ]
     },
     "execution_count": 33,
     "metadata": {},
     "output_type": "execute_result"
    }
   ],
   "source": [
    "highlight = alt.selection(type='single', on='mouseover',\n",
    "                          fields=['ProjStatus'], nearest=True)\n",
    "#x='date:StichtagDatJahr',\n",
    "base = alt.Chart(myAgg.reset_index(), title=\"Title\").encode(\n",
    "    x=alt.X('Jahr', axis=alt.Axis(title='Jahr'))# , axis=alt.Axis(format='%', title='percentage')\n",
    "    , y=alt.X('sum_Whg2Zi', axis=alt.Axis(title='Anz. abgebrochener Wohnungen'))\n",
    "    , color=alt.Color('ProjStatus', legend=alt.Legend(title=\"ProjStatus\", orient=\"right\"))  \n",
    "    ,tooltip=['Jahr', 'ProjStatus','sum_Whg1Zi', 'sum_Whg2Zi', 'sum_Whg3Zi']    \n",
    ")\n",
    "points = base.mark_circle().encode(\n",
    "    opacity=alt.value(0.75)\n",
    ").add_selection(\n",
    "    highlight\n",
    ").properties(\n",
    "    width=750 , height=350\n",
    ")\n",
    "lines = base.mark_line().encode(\n",
    "    size=alt.condition(~highlight, alt.value(0.5), alt.value(4))\n",
    ").interactive()\n",
    "\n",
    "lines + points"
   ]
  },
  {
   "cell_type": "markdown",
   "metadata": {
    "tags": []
   },
   "source": [
    "#### Entwicklung neuerstellter Wohnungen nach Eigentumsart"
   ]
  },
  {
   "cell_type": "code",
   "execution_count": 34,
   "metadata": {},
   "outputs": [
    {
     "data": {
      "text/plain": [
       "QuarSort           int64\n",
       "QuarCd             int64\n",
       "QuarLang          object\n",
       "KreisSort          int64\n",
       "KreisCd            int64\n",
       "KreisLang         object\n",
       "ProjStatus        object\n",
       "ProjStatusSort     int64\n",
       "Whg1Zi             int64\n",
       "Whg2Zi             int64\n",
       "Whg3Zi             int64\n",
       "Whg4Zi             int64\n",
       "Whg5Ziplus         int64\n",
       "Jahr_str          object\n",
       "dtype: object"
      ]
     },
     "execution_count": 34,
     "metadata": {},
     "output_type": "execute_result"
    }
   ],
   "source": [
    "data2betested.dtypes\n"
   ]
  },
  {
   "cell_type": "code",
   "execution_count": 35,
   "metadata": {
    "tags": []
   },
   "outputs": [
    {
     "data": {
      "text/html": [
       "<div>\n",
       "<style scoped>\n",
       "    .dataframe tbody tr th:only-of-type {\n",
       "        vertical-align: middle;\n",
       "    }\n",
       "\n",
       "    .dataframe tbody tr th {\n",
       "        vertical-align: top;\n",
       "    }\n",
       "\n",
       "    .dataframe thead th {\n",
       "        text-align: right;\n",
       "    }\n",
       "</style>\n",
       "<table border=\"1\" class=\"dataframe\">\n",
       "  <thead>\n",
       "    <tr style=\"text-align: right;\">\n",
       "      <th></th>\n",
       "      <th>Jahr</th>\n",
       "      <th>ProjStatus</th>\n",
       "      <th>ProjStatusSort</th>\n",
       "      <th>sum_Whg1Zi</th>\n",
       "      <th>sum_Whg2Zi</th>\n",
       "      <th>sum_Whg3Zi</th>\n",
       "      <th>sum_Whg4Zi</th>\n",
       "      <th>sum_Whg5Ziplus</th>\n",
       "    </tr>\n",
       "  </thead>\n",
       "  <tbody>\n",
       "  </tbody>\n",
       "</table>\n",
       "</div>"
      ],
      "text/plain": [
       "Empty DataFrame\n",
       "Columns: [Jahr, ProjStatus, ProjStatusSort, sum_Whg1Zi, sum_Whg2Zi, sum_Whg3Zi, sum_Whg4Zi, sum_Whg5Ziplus]\n",
       "Index: []"
      ]
     },
     "execution_count": 35,
     "metadata": {},
     "output_type": "execute_result"
    }
   ],
   "source": [
    "#myAgg = data2betested.loc[\"2008-11-30\":\"2021-10-31\"]\n",
    "myAgg = data2betested.loc[\"2009\":\"2021\"].query('ProjStatus == \"Im Bau\"')\\\n",
    "    .groupby(['Jahr','ProjStatus', 'ProjStatusSort']) \\\n",
    "    .agg(sum_Whg1Zi=('Whg1Zi', 'sum'),sum_Whg2Zi=('Whg2Zi', 'sum'),sum_Whg3Zi=('Whg3Zi', 'sum'),sum_Whg4Zi=('Whg4Zi', 'sum'),sum_Whg5Ziplus=('Whg5Ziplus', 'sum'),) \\\n",
    "    .sort_values('Jahr', ascending=False) \n",
    "myAgg.reset_index()"
   ]
  },
  {
   "cell_type": "markdown",
   "metadata": {
    "tags": []
   },
   "source": [
    "#### Barcharts mit Seaborn"
   ]
  },
  {
   "cell_type": "code",
   "execution_count": 36,
   "metadata": {},
   "outputs": [
    {
     "data": {
      "text/html": [
       "<div>\n",
       "<style scoped>\n",
       "    .dataframe tbody tr th:only-of-type {\n",
       "        vertical-align: middle;\n",
       "    }\n",
       "\n",
       "    .dataframe tbody tr th {\n",
       "        vertical-align: top;\n",
       "    }\n",
       "\n",
       "    .dataframe thead th {\n",
       "        text-align: right;\n",
       "    }\n",
       "</style>\n",
       "<table border=\"1\" class=\"dataframe\">\n",
       "  <thead>\n",
       "    <tr style=\"text-align: right;\">\n",
       "      <th></th>\n",
       "      <th>Jahr</th>\n",
       "      <th>ProjStatus</th>\n",
       "      <th>ProjStatusSort</th>\n",
       "      <th>sum_Whg1Zi</th>\n",
       "      <th>sum_Whg2Zi</th>\n",
       "      <th>sum_Whg3Zi</th>\n",
       "      <th>sum_Whg4Zi</th>\n",
       "      <th>sum_Whg5Ziplus</th>\n",
       "    </tr>\n",
       "  </thead>\n",
       "  <tbody>\n",
       "    <tr>\n",
       "      <th>0</th>\n",
       "      <td>2021-01-01</td>\n",
       "      <td>Bewilligt</td>\n",
       "      <td>6702</td>\n",
       "      <td>351</td>\n",
       "      <td>764</td>\n",
       "      <td>711</td>\n",
       "      <td>524</td>\n",
       "      <td>194</td>\n",
       "    </tr>\n",
       "    <tr>\n",
       "      <th>1</th>\n",
       "      <td>2021-01-01</td>\n",
       "      <td>Baubegonnen</td>\n",
       "      <td>6703</td>\n",
       "      <td>808</td>\n",
       "      <td>1970</td>\n",
       "      <td>2449</td>\n",
       "      <td>1528</td>\n",
       "      <td>411</td>\n",
       "    </tr>\n",
       "  </tbody>\n",
       "</table>\n",
       "</div>"
      ],
      "text/plain": [
       "        Jahr   ProjStatus  ProjStatusSort  sum_Whg1Zi  sum_Whg2Zi  sum_Whg3Zi  sum_Whg4Zi  \\\n",
       "0 2021-01-01    Bewilligt            6702         351         764         711         524   \n",
       "1 2021-01-01  Baubegonnen            6703         808        1970        2449        1528   \n",
       "\n",
       "   sum_Whg5Ziplus  \n",
       "0             194  \n",
       "1             411  "
      ]
     },
     "execution_count": 36,
     "metadata": {},
     "output_type": "execute_result"
    }
   ],
   "source": [
    "#myAgg = data2betested.loc[\"2008-11-30\":\"2021-10-31\"]\n",
    "myAggBar = data2betested.loc[\"2009\":\"2021\"]\\\n",
    "    .groupby(['Jahr','ProjStatus', 'ProjStatusSort']) \\\n",
    "    .agg(sum_Whg1Zi=('Whg1Zi', 'sum'),sum_Whg2Zi=('Whg2Zi', 'sum'),sum_Whg3Zi=('Whg3Zi', 'sum'),sum_Whg4Zi=('Whg4Zi', 'sum'),sum_Whg5Ziplus=('Whg5Ziplus', 'sum'),) \\\n",
    "    .sort_values('Jahr', ascending=False) \n",
    "\n",
    "myAggBar.reset_index().head(2)"
   ]
  },
  {
   "cell_type": "code",
   "execution_count": 37,
   "metadata": {},
   "outputs": [],
   "source": [
    "#help(sns.catplot)     "
   ]
  },
  {
   "cell_type": "code",
   "execution_count": 38,
   "metadata": {},
   "outputs": [],
   "source": [
    "#Stile for the following sns graphs\n",
    "sns.set_theme(style=\"whitegrid\")"
   ]
  },
  {
   "cell_type": "code",
   "execution_count": 39,
   "metadata": {},
   "outputs": [
    {
     "data": {
      "text/plain": [
       "<seaborn.axisgrid.FacetGrid at 0x1bb46f73f08>"
      ]
     },
     "execution_count": 39,
     "metadata": {},
     "output_type": "execute_result"
    },
    {
     "data": {
      "image/png": "[encoded data removed]",
      "text/plain": [
       "<Figure size 828.35x360 with 1 Axes>"
      ]
     },
     "metadata": {},
     "output_type": "display_data"
    }
   ],
   "source": [
    "#sns.color_palette(\"flare\", as_cmap=True)\n",
    "myHist = sns.catplot(x=\"Jahr\"\n",
    "            , y=\"sum_Whg5Ziplus\"\n",
    "            , hue=\"ProjStatus\"\n",
    "            , kind=\"bar\" #boxen, violin, --> wenn die aggregation nicht genau den werten in der grafik entspricht\n",
    "            , palette=\"pastel\" #, color=\"green\"\n",
    "            , height=5\n",
    "            , aspect=2\n",
    "            , order=None, legend_out=True\n",
    "            ,data=myAggBar.reset_index()\n",
    "           )\n",
    "myHist.set_xlabels('Jahr', fontsize=11) # not set_label\n",
    "myHist.set_ylabels('Anz. sum_Whg5Ziplus', fontsize=11)\n"
   ]
  },
  {
   "cell_type": "code",
   "execution_count": 43,
   "metadata": {},
   "outputs": [
    {
     "data": {
      "text/plain": [
       "Index(['QuarSort', 'QuarCd', 'QuarLang', 'KreisSort', 'KreisCd', 'KreisLang', 'ProjStatus',\n",
       "       'ProjStatusSort', 'Whg1Zi', 'Whg2Zi', 'Whg3Zi', 'Whg4Zi', 'Whg5Ziplus', 'Jahr_str'],\n",
       "      dtype='object')"
      ]
     },
     "execution_count": 43,
     "metadata": {},
     "output_type": "execute_result"
    }
   ],
   "source": [
    "#data2betested.dtypes\n",
    "data2betested.columns"
   ]
  },
  {
   "cell_type": "markdown",
   "metadata": {},
   "source": [
    "##### ------------------ STOP Plausi 2022\n",
    "\n",
    "##### Anzahl abgebrochene und fertig erstellte Wohnungen der letzten 2 Jahre pro Kreis nach StatZone und Eigentumsart"
   ]
  },
  {
   "cell_type": "code",
   "execution_count": 44,
   "metadata": {},
   "outputs": [
    {
     "ename": "KeyError",
     "evalue": "'QuarLangEigentumsart'",
     "output_type": "error",
     "traceback": [
      "\u001b[1;31m---------------------------------------------------------------------------\u001b[0m",
      "\u001b[1;31mKeyError\u001b[0m                                  Traceback (most recent call last)",
      "\u001b[1;32m~\\AppData\\Local\\Temp\\ipykernel_16092\\2133463019.py\u001b[0m in \u001b[0;36m<module>\u001b[1;34m\u001b[0m\n\u001b[0;32m      1\u001b[0m \u001b[0mmyAggBar\u001b[0m \u001b[1;33m=\u001b[0m \u001b[0mdata2betested\u001b[0m\u001b[1;33m.\u001b[0m\u001b[0mloc\u001b[0m\u001b[1;33m[\u001b[0m\u001b[1;34m\"2019\"\u001b[0m\u001b[1;33m:\u001b[0m\u001b[1;34m\"2021\"\u001b[0m\u001b[1;33m]\u001b[0m\u001b[0;31m\\\u001b[0m\u001b[1;33m\u001b[0m\u001b[1;33m\u001b[0m\u001b[0m\n\u001b[1;32m----> 2\u001b[1;33m     \u001b[1;33m.\u001b[0m\u001b[0mgroupby\u001b[0m\u001b[1;33m(\u001b[0m\u001b[1;33m[\u001b[0m\u001b[1;34m'KreisLang'\u001b[0m\u001b[1;33m,\u001b[0m\u001b[1;34m'QuarLang'\u001b[0m\u001b[1;34m'Eigentumsart'\u001b[0m\u001b[1;33m]\u001b[0m\u001b[1;33m)\u001b[0m\u001b[0;31m \u001b[0m\u001b[0;31m\\\u001b[0m\u001b[1;33m\u001b[0m\u001b[1;33m\u001b[0m\u001b[0m\n\u001b[0m\u001b[0;32m      3\u001b[0m     \u001b[1;33m.\u001b[0m\u001b[0magg\u001b[0m\u001b[1;33m(\u001b[0m\u001b[0msum_Whg_abgebrochen\u001b[0m\u001b[1;33m=\u001b[0m\u001b[1;33m(\u001b[0m\u001b[1;34m'Whg_abgebrochen'\u001b[0m\u001b[1;33m,\u001b[0m \u001b[1;34m'sum'\u001b[0m\u001b[1;33m)\u001b[0m\u001b[1;33m,\u001b[0m\u001b[0msum_Whg_fertigerstellt\u001b[0m\u001b[1;33m=\u001b[0m\u001b[1;33m(\u001b[0m\u001b[1;34m'Whg_fertigerstellt'\u001b[0m\u001b[1;33m,\u001b[0m \u001b[1;34m'sum'\u001b[0m\u001b[1;33m)\u001b[0m\u001b[1;33m)\u001b[0m\u001b[0;31m \u001b[0m\u001b[0;31m\\\u001b[0m\u001b[1;33m\u001b[0m\u001b[1;33m\u001b[0m\u001b[0m\n\u001b[0;32m      4\u001b[0m     \u001b[1;33m.\u001b[0m\u001b[0msort_values\u001b[0m\u001b[1;33m(\u001b[0m\u001b[1;34m'sum_Whg_abgebrochen'\u001b[0m\u001b[1;33m,\u001b[0m \u001b[0mascending\u001b[0m\u001b[1;33m=\u001b[0m\u001b[1;32mTrue\u001b[0m\u001b[1;33m)\u001b[0m\u001b[1;33m\u001b[0m\u001b[1;33m\u001b[0m\u001b[0m\n",
      "\u001b[1;32mC:\\ProgramData\\Anaconda3\\envs\\gogo_gis\\lib\\site-packages\\pandas\\core\\frame.py\u001b[0m in \u001b[0;36mgroupby\u001b[1;34m(self, by, axis, level, as_index, sort, group_keys, squeeze, observed, dropna)\u001b[0m\n\u001b[0;32m   7639\u001b[0m             \u001b[0msqueeze\u001b[0m\u001b[1;33m=\u001b[0m\u001b[0msqueeze\u001b[0m\u001b[1;33m,\u001b[0m  \u001b[1;31m# type: ignore[arg-type]\u001b[0m\u001b[1;33m\u001b[0m\u001b[1;33m\u001b[0m\u001b[0m\n\u001b[0;32m   7640\u001b[0m             \u001b[0mobserved\u001b[0m\u001b[1;33m=\u001b[0m\u001b[0mobserved\u001b[0m\u001b[1;33m,\u001b[0m\u001b[1;33m\u001b[0m\u001b[1;33m\u001b[0m\u001b[0m\n\u001b[1;32m-> 7641\u001b[1;33m             \u001b[0mdropna\u001b[0m\u001b[1;33m=\u001b[0m\u001b[0mdropna\u001b[0m\u001b[1;33m,\u001b[0m\u001b[1;33m\u001b[0m\u001b[1;33m\u001b[0m\u001b[0m\n\u001b[0m\u001b[0;32m   7642\u001b[0m         )\n\u001b[0;32m   7643\u001b[0m \u001b[1;33m\u001b[0m\u001b[0m\n",
      "\u001b[1;32mC:\\ProgramData\\Anaconda3\\envs\\gogo_gis\\lib\\site-packages\\pandas\\core\\groupby\\groupby.py\u001b[0m in \u001b[0;36m__init__\u001b[1;34m(self, obj, keys, axis, level, grouper, exclusions, selection, as_index, sort, group_keys, squeeze, observed, mutated, dropna)\u001b[0m\n\u001b[0;32m    895\u001b[0m                 \u001b[0mobserved\u001b[0m\u001b[1;33m=\u001b[0m\u001b[0mobserved\u001b[0m\u001b[1;33m,\u001b[0m\u001b[1;33m\u001b[0m\u001b[1;33m\u001b[0m\u001b[0m\n\u001b[0;32m    896\u001b[0m                 \u001b[0mmutated\u001b[0m\u001b[1;33m=\u001b[0m\u001b[0mself\u001b[0m\u001b[1;33m.\u001b[0m\u001b[0mmutated\u001b[0m\u001b[1;33m,\u001b[0m\u001b[1;33m\u001b[0m\u001b[1;33m\u001b[0m\u001b[0m\n\u001b[1;32m--> 897\u001b[1;33m                 \u001b[0mdropna\u001b[0m\u001b[1;33m=\u001b[0m\u001b[0mself\u001b[0m\u001b[1;33m.\u001b[0m\u001b[0mdropna\u001b[0m\u001b[1;33m,\u001b[0m\u001b[1;33m\u001b[0m\u001b[1;33m\u001b[0m\u001b[0m\n\u001b[0m\u001b[0;32m    898\u001b[0m             )\n\u001b[0;32m    899\u001b[0m \u001b[1;33m\u001b[0m\u001b[0m\n",
      "\u001b[1;32mC:\\ProgramData\\Anaconda3\\envs\\gogo_gis\\lib\\site-packages\\pandas\\core\\groupby\\grouper.py\u001b[0m in \u001b[0;36mget_grouper\u001b[1;34m(obj, key, axis, level, sort, observed, mutated, validate, dropna)\u001b[0m\n\u001b[0;32m    860\u001b[0m                 \u001b[0min_axis\u001b[0m\u001b[1;33m,\u001b[0m \u001b[0mlevel\u001b[0m\u001b[1;33m,\u001b[0m \u001b[0mgpr\u001b[0m \u001b[1;33m=\u001b[0m \u001b[1;32mFalse\u001b[0m\u001b[1;33m,\u001b[0m \u001b[0mgpr\u001b[0m\u001b[1;33m,\u001b[0m \u001b[1;32mNone\u001b[0m\u001b[1;33m\u001b[0m\u001b[1;33m\u001b[0m\u001b[0m\n\u001b[0;32m    861\u001b[0m             \u001b[1;32melse\u001b[0m\u001b[1;33m:\u001b[0m\u001b[1;33m\u001b[0m\u001b[1;33m\u001b[0m\u001b[0m\n\u001b[1;32m--> 862\u001b[1;33m                 \u001b[1;32mraise\u001b[0m \u001b[0mKeyError\u001b[0m\u001b[1;33m(\u001b[0m\u001b[0mgpr\u001b[0m\u001b[1;33m)\u001b[0m\u001b[1;33m\u001b[0m\u001b[1;33m\u001b[0m\u001b[0m\n\u001b[0m\u001b[0;32m    863\u001b[0m         \u001b[1;32melif\u001b[0m \u001b[0misinstance\u001b[0m\u001b[1;33m(\u001b[0m\u001b[0mgpr\u001b[0m\u001b[1;33m,\u001b[0m \u001b[0mGrouper\u001b[0m\u001b[1;33m)\u001b[0m \u001b[1;32mand\u001b[0m \u001b[0mgpr\u001b[0m\u001b[1;33m.\u001b[0m\u001b[0mkey\u001b[0m \u001b[1;32mis\u001b[0m \u001b[1;32mnot\u001b[0m \u001b[1;32mNone\u001b[0m\u001b[1;33m:\u001b[0m\u001b[1;33m\u001b[0m\u001b[1;33m\u001b[0m\u001b[0m\n\u001b[0;32m    864\u001b[0m             \u001b[1;31m# Add key to exclusions\u001b[0m\u001b[1;33m\u001b[0m\u001b[1;33m\u001b[0m\u001b[1;33m\u001b[0m\u001b[0m\n",
      "\u001b[1;31mKeyError\u001b[0m: 'QuarLangEigentumsart'"
     ]
    }
   ],
   "source": [
    "myAggBar = data2betested.loc[\"2019\":\"2021\"]\\\n",
    "    .groupby(['KreisLang','QuarLang','ProjStatus']) \\\n",
    "    .agg(sum_Whg_abgebrochen=('Whg_abgebrochen', 'sum'),sum_Whg_fertigerstellt=('Whg_fertigerstellt', 'sum')) \\\n",
    "    .sort_values('sum_Whg_abgebrochen', ascending=True) "
   ]
  },
  {
   "cell_type": "code",
   "execution_count": 42,
   "metadata": {},
   "outputs": [
    {
     "ename": "KeyError",
     "evalue": "'Eigentumsart'",
     "output_type": "error",
     "traceback": [
      "\u001b[1;31m---------------------------------------------------------------------------\u001b[0m",
      "\u001b[1;31mKeyError\u001b[0m                                  Traceback (most recent call last)",
      "\u001b[1;32mC:\\ProgramData\\Anaconda3\\envs\\gogo_gis\\lib\\site-packages\\pandas\\core\\indexes\\base.py\u001b[0m in \u001b[0;36mget_loc\u001b[1;34m(self, key, method, tolerance)\u001b[0m\n\u001b[0;32m   3360\u001b[0m             \u001b[1;32mtry\u001b[0m\u001b[1;33m:\u001b[0m\u001b[1;33m\u001b[0m\u001b[1;33m\u001b[0m\u001b[0m\n\u001b[1;32m-> 3361\u001b[1;33m                 \u001b[1;32mreturn\u001b[0m \u001b[0mself\u001b[0m\u001b[1;33m.\u001b[0m\u001b[0m_engine\u001b[0m\u001b[1;33m.\u001b[0m\u001b[0mget_loc\u001b[0m\u001b[1;33m(\u001b[0m\u001b[0mcasted_key\u001b[0m\u001b[1;33m)\u001b[0m\u001b[1;33m\u001b[0m\u001b[1;33m\u001b[0m\u001b[0m\n\u001b[0m\u001b[0;32m   3362\u001b[0m             \u001b[1;32mexcept\u001b[0m \u001b[0mKeyError\u001b[0m \u001b[1;32mas\u001b[0m \u001b[0merr\u001b[0m\u001b[1;33m:\u001b[0m\u001b[1;33m\u001b[0m\u001b[1;33m\u001b[0m\u001b[0m\n",
      "\u001b[1;32mC:\\ProgramData\\Anaconda3\\envs\\gogo_gis\\lib\\site-packages\\pandas\\_libs\\index.pyx\u001b[0m in \u001b[0;36mpandas._libs.index.IndexEngine.get_loc\u001b[1;34m()\u001b[0m\n",
      "\u001b[1;32mC:\\ProgramData\\Anaconda3\\envs\\gogo_gis\\lib\\site-packages\\pandas\\_libs\\index.pyx\u001b[0m in \u001b[0;36mpandas._libs.index.IndexEngine.get_loc\u001b[1;34m()\u001b[0m\n",
      "\u001b[1;32mpandas\\_libs\\hashtable_class_helper.pxi\u001b[0m in \u001b[0;36mpandas._libs.hashtable.PyObjectHashTable.get_item\u001b[1;34m()\u001b[0m\n",
      "\u001b[1;32mpandas\\_libs\\hashtable_class_helper.pxi\u001b[0m in \u001b[0;36mpandas._libs.hashtable.PyObjectHashTable.get_item\u001b[1;34m()\u001b[0m\n",
      "\u001b[1;31mKeyError\u001b[0m: 'Eigentumsart'",
      "\nThe above exception was the direct cause of the following exception:\n",
      "\u001b[1;31mKeyError\u001b[0m                                  Traceback (most recent call last)",
      "\u001b[1;32m~\\AppData\\Local\\Temp\\ipykernel_16092\\2932648889.py\u001b[0m in \u001b[0;36m<module>\u001b[1;34m\u001b[0m\n\u001b[1;32m----> 1\u001b[1;33m \u001b[0mg\u001b[0m \u001b[1;33m=\u001b[0m \u001b[0msns\u001b[0m\u001b[1;33m.\u001b[0m\u001b[0mFacetGrid\u001b[0m\u001b[1;33m(\u001b[0m\u001b[0mmyAggBar\u001b[0m\u001b[1;33m.\u001b[0m\u001b[0mreset_index\u001b[0m\u001b[1;33m(\u001b[0m\u001b[1;33m)\u001b[0m\u001b[1;33m,\u001b[0m \u001b[0mcol\u001b[0m\u001b[1;33m=\u001b[0m\u001b[1;34m\"KreisLang\"\u001b[0m\u001b[1;33m,\u001b[0m \u001b[0mhue\u001b[0m\u001b[1;33m=\u001b[0m\u001b[1;34m\"Eigentumsart\"\u001b[0m\u001b[1;33m,\u001b[0m \u001b[0mcol_wrap\u001b[0m\u001b[1;33m=\u001b[0m\u001b[1;36m4\u001b[0m\u001b[1;33m,\u001b[0m \u001b[0mheight\u001b[0m\u001b[1;33m=\u001b[0m\u001b[1;36m3\u001b[0m\u001b[1;33m,\u001b[0m\u001b[1;33m)\u001b[0m\u001b[1;33m\u001b[0m\u001b[1;33m\u001b[0m\u001b[0m\n\u001b[0m\u001b[0;32m      2\u001b[0m \u001b[0mg\u001b[0m\u001b[1;33m.\u001b[0m\u001b[0mmap\u001b[0m\u001b[1;33m(\u001b[0m\u001b[0msns\u001b[0m\u001b[1;33m.\u001b[0m\u001b[0mscatterplot\u001b[0m\u001b[1;33m,\u001b[0m \u001b[1;34m\"sum_Whg_abgebrochen\"\u001b[0m\u001b[1;33m,\u001b[0m \u001b[1;34m\"sum_Whg_fertigerstellt\"\u001b[0m\u001b[1;33m,\u001b[0m \u001b[0malpha\u001b[0m\u001b[1;33m=\u001b[0m\u001b[1;36m.8\u001b[0m\u001b[1;33m)\u001b[0m\u001b[1;33m\u001b[0m\u001b[1;33m\u001b[0m\u001b[0m\n\u001b[0;32m      3\u001b[0m \u001b[1;31m#g.map(sns.lineplot, \"sum_Whg_abgebrochen\",\"sum_Whg_fertigerstellt\",alpha=.8)\u001b[0m\u001b[1;33m\u001b[0m\u001b[1;33m\u001b[0m\u001b[1;33m\u001b[0m\u001b[0m\n\u001b[0;32m      4\u001b[0m \u001b[1;33m\u001b[0m\u001b[0m\n\u001b[0;32m      5\u001b[0m \u001b[0mg\u001b[0m\u001b[1;33m.\u001b[0m\u001b[0madd_legend\u001b[0m\u001b[1;33m(\u001b[0m\u001b[1;33m)\u001b[0m\u001b[1;33m\u001b[0m\u001b[1;33m\u001b[0m\u001b[0m\n",
      "\u001b[1;32mC:\\ProgramData\\Anaconda3\\envs\\gogo_gis\\lib\\site-packages\\seaborn\\_decorators.py\u001b[0m in \u001b[0;36minner_f\u001b[1;34m(*args, **kwargs)\u001b[0m\n\u001b[0;32m     44\u001b[0m             )\n\u001b[0;32m     45\u001b[0m         \u001b[0mkwargs\u001b[0m\u001b[1;33m.\u001b[0m\u001b[0mupdate\u001b[0m\u001b[1;33m(\u001b[0m\u001b[1;33m{\u001b[0m\u001b[0mk\u001b[0m\u001b[1;33m:\u001b[0m \u001b[0marg\u001b[0m \u001b[1;32mfor\u001b[0m \u001b[0mk\u001b[0m\u001b[1;33m,\u001b[0m \u001b[0marg\u001b[0m \u001b[1;32min\u001b[0m \u001b[0mzip\u001b[0m\u001b[1;33m(\u001b[0m\u001b[0msig\u001b[0m\u001b[1;33m.\u001b[0m\u001b[0mparameters\u001b[0m\u001b[1;33m,\u001b[0m \u001b[0margs\u001b[0m\u001b[1;33m)\u001b[0m\u001b[1;33m}\u001b[0m\u001b[1;33m)\u001b[0m\u001b[1;33m\u001b[0m\u001b[1;33m\u001b[0m\u001b[0m\n\u001b[1;32m---> 46\u001b[1;33m         \u001b[1;32mreturn\u001b[0m \u001b[0mf\u001b[0m\u001b[1;33m(\u001b[0m\u001b[1;33m**\u001b[0m\u001b[0mkwargs\u001b[0m\u001b[1;33m)\u001b[0m\u001b[1;33m\u001b[0m\u001b[1;33m\u001b[0m\u001b[0m\n\u001b[0m\u001b[0;32m     47\u001b[0m     \u001b[1;32mreturn\u001b[0m \u001b[0minner_f\u001b[0m\u001b[1;33m\u001b[0m\u001b[1;33m\u001b[0m\u001b[0m\n\u001b[0;32m     48\u001b[0m \u001b[1;33m\u001b[0m\u001b[0m\n",
      "\u001b[1;32mC:\\ProgramData\\Anaconda3\\envs\\gogo_gis\\lib\\site-packages\\seaborn\\axisgrid.py\u001b[0m in \u001b[0;36m__init__\u001b[1;34m(self, data, row, col, hue, col_wrap, sharex, sharey, height, aspect, palette, row_order, col_order, hue_order, hue_kws, dropna, legend_out, despine, margin_titles, xlim, ylim, subplot_kws, gridspec_kws, size)\u001b[0m\n\u001b[0;32m    342\u001b[0m             \u001b[0mhue_names\u001b[0m \u001b[1;33m=\u001b[0m \u001b[1;32mNone\u001b[0m\u001b[1;33m\u001b[0m\u001b[1;33m\u001b[0m\u001b[0m\n\u001b[0;32m    343\u001b[0m         \u001b[1;32melse\u001b[0m\u001b[1;33m:\u001b[0m\u001b[1;33m\u001b[0m\u001b[1;33m\u001b[0m\u001b[0m\n\u001b[1;32m--> 344\u001b[1;33m             \u001b[0mhue_names\u001b[0m \u001b[1;33m=\u001b[0m \u001b[0mcategorical_order\u001b[0m\u001b[1;33m(\u001b[0m\u001b[0mdata\u001b[0m\u001b[1;33m[\u001b[0m\u001b[0mhue\u001b[0m\u001b[1;33m]\u001b[0m\u001b[1;33m,\u001b[0m \u001b[0mhue_order\u001b[0m\u001b[1;33m)\u001b[0m\u001b[1;33m\u001b[0m\u001b[1;33m\u001b[0m\u001b[0m\n\u001b[0m\u001b[0;32m    345\u001b[0m \u001b[1;33m\u001b[0m\u001b[0m\n\u001b[0;32m    346\u001b[0m         \u001b[0mcolors\u001b[0m \u001b[1;33m=\u001b[0m \u001b[0mself\u001b[0m\u001b[1;33m.\u001b[0m\u001b[0m_get_palette\u001b[0m\u001b[1;33m(\u001b[0m\u001b[0mdata\u001b[0m\u001b[1;33m,\u001b[0m \u001b[0mhue\u001b[0m\u001b[1;33m,\u001b[0m \u001b[0mhue_order\u001b[0m\u001b[1;33m,\u001b[0m \u001b[0mpalette\u001b[0m\u001b[1;33m)\u001b[0m\u001b[1;33m\u001b[0m\u001b[1;33m\u001b[0m\u001b[0m\n",
      "\u001b[1;32mC:\\ProgramData\\Anaconda3\\envs\\gogo_gis\\lib\\site-packages\\pandas\\core\\frame.py\u001b[0m in \u001b[0;36m__getitem__\u001b[1;34m(self, key)\u001b[0m\n\u001b[0;32m   3456\u001b[0m             \u001b[1;32mif\u001b[0m \u001b[0mself\u001b[0m\u001b[1;33m.\u001b[0m\u001b[0mcolumns\u001b[0m\u001b[1;33m.\u001b[0m\u001b[0mnlevels\u001b[0m \u001b[1;33m>\u001b[0m \u001b[1;36m1\u001b[0m\u001b[1;33m:\u001b[0m\u001b[1;33m\u001b[0m\u001b[1;33m\u001b[0m\u001b[0m\n\u001b[0;32m   3457\u001b[0m                 \u001b[1;32mreturn\u001b[0m \u001b[0mself\u001b[0m\u001b[1;33m.\u001b[0m\u001b[0m_getitem_multilevel\u001b[0m\u001b[1;33m(\u001b[0m\u001b[0mkey\u001b[0m\u001b[1;33m)\u001b[0m\u001b[1;33m\u001b[0m\u001b[1;33m\u001b[0m\u001b[0m\n\u001b[1;32m-> 3458\u001b[1;33m             \u001b[0mindexer\u001b[0m \u001b[1;33m=\u001b[0m \u001b[0mself\u001b[0m\u001b[1;33m.\u001b[0m\u001b[0mcolumns\u001b[0m\u001b[1;33m.\u001b[0m\u001b[0mget_loc\u001b[0m\u001b[1;33m(\u001b[0m\u001b[0mkey\u001b[0m\u001b[1;33m)\u001b[0m\u001b[1;33m\u001b[0m\u001b[1;33m\u001b[0m\u001b[0m\n\u001b[0m\u001b[0;32m   3459\u001b[0m             \u001b[1;32mif\u001b[0m \u001b[0mis_integer\u001b[0m\u001b[1;33m(\u001b[0m\u001b[0mindexer\u001b[0m\u001b[1;33m)\u001b[0m\u001b[1;33m:\u001b[0m\u001b[1;33m\u001b[0m\u001b[1;33m\u001b[0m\u001b[0m\n\u001b[0;32m   3460\u001b[0m                 \u001b[0mindexer\u001b[0m \u001b[1;33m=\u001b[0m \u001b[1;33m[\u001b[0m\u001b[0mindexer\u001b[0m\u001b[1;33m]\u001b[0m\u001b[1;33m\u001b[0m\u001b[1;33m\u001b[0m\u001b[0m\n",
      "\u001b[1;32mC:\\ProgramData\\Anaconda3\\envs\\gogo_gis\\lib\\site-packages\\pandas\\core\\indexes\\base.py\u001b[0m in \u001b[0;36mget_loc\u001b[1;34m(self, key, method, tolerance)\u001b[0m\n\u001b[0;32m   3361\u001b[0m                 \u001b[1;32mreturn\u001b[0m \u001b[0mself\u001b[0m\u001b[1;33m.\u001b[0m\u001b[0m_engine\u001b[0m\u001b[1;33m.\u001b[0m\u001b[0mget_loc\u001b[0m\u001b[1;33m(\u001b[0m\u001b[0mcasted_key\u001b[0m\u001b[1;33m)\u001b[0m\u001b[1;33m\u001b[0m\u001b[1;33m\u001b[0m\u001b[0m\n\u001b[0;32m   3362\u001b[0m             \u001b[1;32mexcept\u001b[0m \u001b[0mKeyError\u001b[0m \u001b[1;32mas\u001b[0m \u001b[0merr\u001b[0m\u001b[1;33m:\u001b[0m\u001b[1;33m\u001b[0m\u001b[1;33m\u001b[0m\u001b[0m\n\u001b[1;32m-> 3363\u001b[1;33m                 \u001b[1;32mraise\u001b[0m \u001b[0mKeyError\u001b[0m\u001b[1;33m(\u001b[0m\u001b[0mkey\u001b[0m\u001b[1;33m)\u001b[0m \u001b[1;32mfrom\u001b[0m \u001b[0merr\u001b[0m\u001b[1;33m\u001b[0m\u001b[1;33m\u001b[0m\u001b[0m\n\u001b[0m\u001b[0;32m   3364\u001b[0m \u001b[1;33m\u001b[0m\u001b[0m\n\u001b[0;32m   3365\u001b[0m         \u001b[1;32mif\u001b[0m \u001b[0mis_scalar\u001b[0m\u001b[1;33m(\u001b[0m\u001b[0mkey\u001b[0m\u001b[1;33m)\u001b[0m \u001b[1;32mand\u001b[0m \u001b[0misna\u001b[0m\u001b[1;33m(\u001b[0m\u001b[0mkey\u001b[0m\u001b[1;33m)\u001b[0m \u001b[1;32mand\u001b[0m \u001b[1;32mnot\u001b[0m \u001b[0mself\u001b[0m\u001b[1;33m.\u001b[0m\u001b[0mhasnans\u001b[0m\u001b[1;33m:\u001b[0m\u001b[1;33m\u001b[0m\u001b[1;33m\u001b[0m\u001b[0m\n",
      "\u001b[1;31mKeyError\u001b[0m: 'Eigentumsart'"
     ]
    }
   ],
   "source": [
    "g = sns.FacetGrid(myAggBar.reset_index(), col=\"KreisLang\", hue=\"Eigentumsart\", col_wrap=4, height=3,)\n",
    "g.map(sns.scatterplot, \"sum_Whg_abgebrochen\", \"sum_Whg_fertigerstellt\", alpha=.8)\n",
    "#g.map(sns.lineplot, \"sum_Whg_abgebrochen\",\"sum_Whg_fertigerstellt\",alpha=.8)\n",
    "\n",
    "g.add_legend()"
   ]
  },
  {
   "cell_type": "code",
   "execution_count": null,
   "metadata": {},
   "outputs": [],
   "source": []
  },
  {
   "cell_type": "markdown",
   "metadata": {},
   "source": [
    "### Daten in interaktiver Treemap zeigen\n",
    "Dazu gibt es eine sehr nützliche Webseite https://plotly.com/python/treemaps/\n",
    "Zu Farbskalen, siehe: https://plotly.com/python/builtin-colorscales/"
   ]
  },
  {
   "cell_type": "markdown",
   "metadata": {
    "tags": []
   },
   "source": [
    "#### Fertig erstellte Wohnungen nach Eigentumsart, Quartier und StatZone 2021"
   ]
  },
  {
   "cell_type": "code",
   "execution_count": 71,
   "metadata": {},
   "outputs": [],
   "source": [
    "#data2betested.dtypes"
   ]
  },
  {
   "cell_type": "code",
   "execution_count": 72,
   "metadata": {
    "tags": []
   },
   "outputs": [
    {
     "data": {
      "text/html": [
       "<div>\n",
       "<style scoped>\n",
       "    .dataframe tbody tr th:only-of-type {\n",
       "        vertical-align: middle;\n",
       "    }\n",
       "\n",
       "    .dataframe tbody tr th {\n",
       "        vertical-align: top;\n",
       "    }\n",
       "\n",
       "    .dataframe thead th {\n",
       "        text-align: right;\n",
       "    }\n",
       "</style>\n",
       "<table border=\"1\" class=\"dataframe\">\n",
       "  <thead>\n",
       "    <tr style=\"text-align: right;\">\n",
       "      <th></th>\n",
       "      <th>StatZone</th>\n",
       "      <th>QuarLang</th>\n",
       "      <th>Eigentumsart</th>\n",
       "      <th>sum_Whg_abgebrochen</th>\n",
       "      <th>sum_Whg_fertigerstellt</th>\n",
       "    </tr>\n",
       "  </thead>\n",
       "  <tbody>\n",
       "    <tr>\n",
       "      <th>0</th>\n",
       "      <td>Zähringerstrasse</td>\n",
       "      <td>Rathaus</td>\n",
       "      <td>Übrige private Gesellschaften</td>\n",
       "      <td>0</td>\n",
       "      <td>0</td>\n",
       "    </tr>\n",
       "    <tr>\n",
       "      <th>1</th>\n",
       "      <td>ETH Hönggerberg</td>\n",
       "      <td>Höngg</td>\n",
       "      <td>Übrige private Gesellschaften</td>\n",
       "      <td>0</td>\n",
       "      <td>0</td>\n",
       "    </tr>\n",
       "    <tr>\n",
       "      <th>2</th>\n",
       "      <td>Neu-Oerlikon</td>\n",
       "      <td>Oerlikon</td>\n",
       "      <td>Übrige private Gesellschaften</td>\n",
       "      <td>3</td>\n",
       "      <td>0</td>\n",
       "    </tr>\n",
       "  </tbody>\n",
       "</table>\n",
       "</div>"
      ],
      "text/plain": [
       "           StatZone  QuarLang                   Eigentumsart  sum_Whg_abgebrochen  \\\n",
       "0  Zähringerstrasse   Rathaus  Übrige private Gesellschaften                    0   \n",
       "1   ETH Hönggerberg     Höngg  Übrige private Gesellschaften                    0   \n",
       "2      Neu-Oerlikon  Oerlikon  Übrige private Gesellschaften                    3   \n",
       "\n",
       "   sum_Whg_fertigerstellt  \n",
       "0                       0  \n",
       "1                       0  \n",
       "2                       0  "
      ]
     },
     "execution_count": 72,
     "metadata": {},
     "output_type": "execute_result"
    }
   ],
   "source": [
    "myTreemapAgg = data2betested.loc[\"2021\"]  \\\n",
    "    .groupby(['StatZone', 'QuarLang', 'Eigentumsart']) \\\n",
    "    .agg(sum_Whg_abgebrochen=('Whg_abgebrochen', 'sum'),sum_Whg_fertigerstellt=('Whg_fertigerstellt', 'sum')) \\\n",
    "    .sort_values('Eigentumsart', ascending=False) \n",
    "\n",
    "myTreemapAgg.reset_index().head(3)"
   ]
  },
  {
   "cell_type": "code",
   "execution_count": 73,
   "metadata": {},
   "outputs": [
    {
     "data": {
      "application/vnd.plotly.v1+json": {
       "config": {
        "plotlyServerURL": "https://plot.ly"
       },
       "data": [
        {
         "branchvalues": "total",
         "customdata": [
          [
           55
          ],
          [
           15
          ],
          [
           13
          ],
          [
           6
          ],
          [
           20
          ],
          [
           6
          ],
          [
           180
          ],
          [
           61
          ],
          [
           18
          ],
          [
           1
          ],
          [
           30
          ],
          [
           11
          ],
          [
           9
          ],
          [
           57
          ],
          [
           2
          ],
          [
           13
          ],
          [
           7
          ],
          [
           7
          ],
          [
           66
          ],
          [
           3
          ],
          [
           9
          ],
          [
           4
          ],
          [
           66
          ],
          [
           135
          ],
          [
           16
          ],
          [
           2
          ],
          [
           11
          ],
          [
           6
          ],
          [
           46
          ],
          [
           9
          ],
          [
           1
          ],
          [
           9
          ],
          [
           8
          ],
          [
           35
          ],
          [
           80
          ],
          [
           10
          ],
          [
           7
          ],
          [
           15
          ],
          [
           5
          ],
          [
           173
          ],
          [
           4
          ],
          [
           10
          ],
          [
           24
          ],
          [
           11
          ],
          [
           129
          ],
          [
           18
          ],
          [
           14
          ],
          [
           14
          ],
          [
           21
          ],
          [
           2
          ],
          [
           5
          ],
          [
           5
          ],
          [
           8
          ],
          [
           11
          ],
          [
           5
          ],
          [
           10
          ],
          [
           42
          ],
          [
           14
          ],
          [
           24
          ],
          [
           36
          ],
          [
           67
          ],
          [
           60
          ],
          [
           9
          ],
          [
           10
          ],
          [
           4
          ],
          [
           14
          ],
          [
           15
          ],
          [
           10
          ],
          [
           57
          ],
          [
           23
          ],
          [
           9
          ],
          [
           17
          ],
          [
           56.03448275862069
          ],
          [
           11.818181818181818
          ],
          [
           35
          ],
          [
           19.0625
          ],
          [
           5
          ],
          [
           12.657142857142857
          ],
          [
           8.333333333333334
          ],
          [
           173
          ],
          [
           50.734177215189874
          ],
          [
           18
          ],
          [
           14
          ],
          [
           9
          ],
          [
           55
          ],
          [
           30
          ],
          [
           46
          ],
          [
           2
          ],
          [
           10
          ],
          [
           8.333333333333334
          ],
          [
           8.473684210526315
          ],
          [
           20
          ],
          [
           15
          ],
          [
           11
          ],
          [
           129
          ],
          [
           16.785714285714285
          ],
          [
           9
          ],
          [
           21.428571428571427
          ],
          [
           16
          ],
          [
           14
          ],
          [
           4
          ],
          [
           4
          ],
          [
           109.7378640776699
          ],
          [
           60.50413223140496
          ],
          [
           17
          ],
          [
           19.88235294117647
          ],
          [
           39.23076923076923
          ],
          [
           67
          ],
          [
           80
          ],
          [
           8.130434782608695
          ],
          [
           7
          ],
          [
           13
          ],
          [
           10
          ],
          [
           5.2
          ],
          [
           168.02061855670104
          ],
          [
           10.603053435114504
          ],
          [
           24.30857142857143
          ],
          [
           117.69281045751634
          ],
          [
           56.50898203592814
          ],
          [
           95.51692307692308
          ],
          [
           76.97096941420425
          ]
         ],
         "domain": {
          "x": [
           0,
           1
          ],
          "y": [
           0,
           1
          ]
         },
         "hovertemplate": "labels=%{label}<br>sum_Whg_fertigerstellt_sum=%{value}<br>parent=%{parent}<br>id=%{id}<br>sum_Whg_fertigerstellt=%{color}<extra></extra>",
         "ids": [
          "Fertig erstellte Wohnungen nach Eigentumsart, Quartier und StatZone 2021/Wohnbaugenossenschaften/Gewerbeschule/Ackerstrasse",
          "Fertig erstellte Wohnungen nach Eigentumsart, Quartier und StatZone 2021/Im Stockwerkeigentum/Altstetten/Bachmatt",
          "Fertig erstellte Wohnungen nach Eigentumsart, Quartier und StatZone 2021/Übrige private Gesellschaften/Altstetten/Bachmatt",
          "Fertig erstellte Wohnungen nach Eigentumsart, Quartier und StatZone 2021/Natürliche Personen/Höngg/Bauherrenstrasse",
          "Fertig erstellte Wohnungen nach Eigentumsart, Quartier und StatZone 2021/Übrige private Gesellschaften/Höngg/Bauherrenstrasse",
          "Fertig erstellte Wohnungen nach Eigentumsart, Quartier und StatZone 2021/Natürliche Personen/Wollishofen/Bellariastrasse",
          "Fertig erstellte Wohnungen nach Eigentumsart, Quartier und StatZone 2021/Übrige private Gesellschaften/Wollishofen/Bellariastrasse",
          "Fertig erstellte Wohnungen nach Eigentumsart, Quartier und StatZone 2021/Öffentliche Hand/Seefeld/Bellerive",
          "Fertig erstellte Wohnungen nach Eigentumsart, Quartier und StatZone 2021/Übrige private Gesellschaften/Enge/Belvoir-Park",
          "Fertig erstellte Wohnungen nach Eigentumsart, Quartier und StatZone 2021/Natürliche Personen/Altstetten/Buchlern",
          "Fertig erstellte Wohnungen nach Eigentumsart, Quartier und StatZone 2021/Natürliche Personen/Hard/Bullingerhof",
          "Fertig erstellte Wohnungen nach Eigentumsart, Quartier und StatZone 2021/Übrige private Gesellschaften/Altstetten/Calanda",
          "Fertig erstellte Wohnungen nach Eigentumsart, Quartier und StatZone 2021/Übrige private Gesellschaften/Oberstrass/Culmannstrasse",
          "Fertig erstellte Wohnungen nach Eigentumsart, Quartier und StatZone 2021/Übrige private Gesellschaften/Altstetten/Dachslern",
          "Fertig erstellte Wohnungen nach Eigentumsart, Quartier und StatZone 2021/Natürliche Personen/Hirslanden/Degenried",
          "Fertig erstellte Wohnungen nach Eigentumsart, Quartier und StatZone 2021/Im Stockwerkeigentum/Altstetten/Dunkelhölzli",
          "Fertig erstellte Wohnungen nach Eigentumsart, Quartier und StatZone 2021/Im Stockwerkeigentum/Altstetten/Eichbühl",
          "Fertig erstellte Wohnungen nach Eigentumsart, Quartier und StatZone 2021/Natürliche Personen/Altstetten/Eichbühl",
          "Fertig erstellte Wohnungen nach Eigentumsart, Quartier und StatZone 2021/Übrige private Gesellschaften/Altstetten/Eichbühl",
          "Fertig erstellte Wohnungen nach Eigentumsart, Quartier und StatZone 2021/Natürliche Personen/Witikon/Eierbrecht",
          "Fertig erstellte Wohnungen nach Eigentumsart, Quartier und StatZone 2021/Übrige private Gesellschaften/Albisrieden/Espenhof",
          "Fertig erstellte Wohnungen nach Eigentumsart, Quartier und StatZone 2021/Natürliche Personen/Seebach/Ettenfeld",
          "Fertig erstellte Wohnungen nach Eigentumsart, Quartier und StatZone 2021/Übrige private Gesellschaften/Seebach/Ettenfeld",
          "Fertig erstellte Wohnungen nach Eigentumsart, Quartier und StatZone 2021/Übrige private Gesellschaften/Seebach/Felsenrain",
          "Fertig erstellte Wohnungen nach Eigentumsart, Quartier und StatZone 2021/Übrige private Gesellschaften/Oerlikon/Gorwiden",
          "Fertig erstellte Wohnungen nach Eigentumsart, Quartier und StatZone 2021/Natürliche Personen/Höngg/Grossmannstrasse",
          "Fertig erstellte Wohnungen nach Eigentumsart, Quartier und StatZone 2021/Übrige private Gesellschaften/Altstetten/Grünaustrasse",
          "Fertig erstellte Wohnungen nach Eigentumsart, Quartier und StatZone 2021/Im Stockwerkeigentum/Höngg/Gsteigstrasse",
          "Fertig erstellte Wohnungen nach Eigentumsart, Quartier und StatZone 2021/Öffentliche Hand/Hard/Hardau",
          "Fertig erstellte Wohnungen nach Eigentumsart, Quartier und StatZone 2021/Natürliche Personen/Fluntern/Hochstrasse",
          "Fertig erstellte Wohnungen nach Eigentumsart, Quartier und StatZone 2021/Natürliche Personen/Affoltern/Hürst",
          "Fertig erstellte Wohnungen nach Eigentumsart, Quartier und StatZone 2021/Natürliche Personen/Wipkingen/Im Sydefädeli",
          "Fertig erstellte Wohnungen nach Eigentumsart, Quartier und StatZone 2021/Im Stockwerkeigentum/Albisrieden/In der Ey",
          "Fertig erstellte Wohnungen nach Eigentumsart, Quartier und StatZone 2021/Natürliche Personen/Albisrieden/In der Ey",
          "Fertig erstellte Wohnungen nach Eigentumsart, Quartier und StatZone 2021/Übrige private Gesellschaften/Werd/Kalkbreite",
          "Fertig erstellte Wohnungen nach Eigentumsart, Quartier und StatZone 2021/Im Stockwerkeigentum/Hottingen/Kantonsschule",
          "Fertig erstellte Wohnungen nach Eigentumsart, Quartier und StatZone 2021/Im Stockwerkeigentum/Witikon/Kienastenwies",
          "Fertig erstellte Wohnungen nach Eigentumsart, Quartier und StatZone 2021/Natürliche Personen/Witikon/Kienastenwies",
          "Fertig erstellte Wohnungen nach Eigentumsart, Quartier und StatZone 2021/Übrige private Gesellschaften/Seebach/Köschenrüti",
          "Fertig erstellte Wohnungen nach Eigentumsart, Quartier und StatZone 2021/Wohnbaugenossenschaften/Altstetten/Letzigrund",
          "Fertig erstellte Wohnungen nach Eigentumsart, Quartier und StatZone 2021/Im Stockwerkeigentum/Seebach/Leutschenbach",
          "Fertig erstellte Wohnungen nach Eigentumsart, Quartier und StatZone 2021/Natürliche Personen/Altstetten/Loogarten",
          "Fertig erstellte Wohnungen nach Eigentumsart, Quartier und StatZone 2021/Natürliche Personen/Oerlikon/Magdalenenstrasse",
          "Fertig erstellte Wohnungen nach Eigentumsart, Quartier und StatZone 2021/Natürliche Personen/Leimbach/Marbachweg",
          "Fertig erstellte Wohnungen nach Eigentumsart, Quartier und StatZone 2021/Übrige private Gesellschaften/Leimbach/Marbachweg",
          "Fertig erstellte Wohnungen nach Eigentumsart, Quartier und StatZone 2021/Natürliche Personen/Oerlikon/Marktplatz Oerlikon",
          "Fertig erstellte Wohnungen nach Eigentumsart, Quartier und StatZone 2021/Im Stockwerkeigentum/Albisrieden/Mühlezelgstrasse",
          "Fertig erstellte Wohnungen nach Eigentumsart, Quartier und StatZone 2021/Im Stockwerkeigentum/Fluntern/Platte",
          "Fertig erstellte Wohnungen nach Eigentumsart, Quartier und StatZone 2021/Natürliche Personen/Oberstrass/Riedtli",
          "Fertig erstellte Wohnungen nach Eigentumsart, Quartier und StatZone 2021/Natürliche Personen/Oberstrass/Rigiblick",
          "Fertig erstellte Wohnungen nach Eigentumsart, Quartier und StatZone 2021/Natürliche Personen/Oberstrass/Rigiviertel",
          "Fertig erstellte Wohnungen nach Eigentumsart, Quartier und StatZone 2021/Natürliche Personen/Wipkingen/Rosengartenstrasse",
          "Fertig erstellte Wohnungen nach Eigentumsart, Quartier und StatZone 2021/Im Stockwerkeigentum/Höngg/Rütihof",
          "Fertig erstellte Wohnungen nach Eigentumsart, Quartier und StatZone 2021/Natürliche Personen/Höngg/Rütihof",
          "Fertig erstellte Wohnungen nach Eigentumsart, Quartier und StatZone 2021/Im Stockwerkeigentum/Alt-Wiedikon/Saalsporthalle",
          "Fertig erstellte Wohnungen nach Eigentumsart, Quartier und StatZone 2021/Natürliche Personen/Unterstrass/Scheuchzerstrasse",
          "Fertig erstellte Wohnungen nach Eigentumsart, Quartier und StatZone 2021/Wohnbaugenossenschaften/Unterstrass/Scheuchzerstrasse",
          "Fertig erstellte Wohnungen nach Eigentumsart, Quartier und StatZone 2021/Übrige private Gesellschaften/Schwamendingen-Mitte/Schürgistrasse",
          "Fertig erstellte Wohnungen nach Eigentumsart, Quartier und StatZone 2021/Natürliche Personen/Unterstrass/Steinkluppe",
          "Fertig erstellte Wohnungen nach Eigentumsart, Quartier und StatZone 2021/Wohnbaugenossenschaften/Unterstrass/Steinkluppe",
          "Fertig erstellte Wohnungen nach Eigentumsart, Quartier und StatZone 2021/Übrige private Gesellschaften/Unterstrass/Steinkluppe",
          "Fertig erstellte Wohnungen nach Eigentumsart, Quartier und StatZone 2021/Öffentliche Hand/Seefeld/Tiefenbrunnen",
          "Fertig erstellte Wohnungen nach Eigentumsart, Quartier und StatZone 2021/Natürliche Personen/Fluntern/Toblerstrasse",
          "Fertig erstellte Wohnungen nach Eigentumsart, Quartier und StatZone 2021/Im Stockwerkeigentum/Wollishofen/Verenastrasse",
          "Fertig erstellte Wohnungen nach Eigentumsart, Quartier und StatZone 2021/Natürliche Personen/Wollishofen/Verenastrasse",
          "Fertig erstellte Wohnungen nach Eigentumsart, Quartier und StatZone 2021/Übrige private Gesellschaften/Wollishofen/Verenastrasse",
          "Fertig erstellte Wohnungen nach Eigentumsart, Quartier und StatZone 2021/Übrige private Gesellschaften/Langstrasse/Wengi",
          "Fertig erstellte Wohnungen nach Eigentumsart, Quartier und StatZone 2021/Im Stockwerkeigentum/Höngg/Werdinsel",
          "Fertig erstellte Wohnungen nach Eigentumsart, Quartier und StatZone 2021/Natürliche Personen/Affoltern/Zehntenhausplatz",
          "Fertig erstellte Wohnungen nach Eigentumsart, Quartier und StatZone 2021/Übrige private Gesellschaften/Albisrieden/Zollfreilager",
          "Fertig erstellte Wohnungen nach Eigentumsart, Quartier und StatZone 2021/Natürliche Personen/Wipkingen/Zschokkestrasse",
          "Fertig erstellte Wohnungen nach Eigentumsart, Quartier und StatZone 2021/Übrige private Gesellschaften/Sihlfeld/Zwinglihaus",
          "Fertig erstellte Wohnungen nach Eigentumsart, Quartier und StatZone 2021/Natürliche Personen/Affoltern",
          "Fertig erstellte Wohnungen nach Eigentumsart, Quartier und StatZone 2021/Im Stockwerkeigentum/Albisrieden",
          "Fertig erstellte Wohnungen nach Eigentumsart, Quartier und StatZone 2021/Natürliche Personen/Albisrieden",
          "Fertig erstellte Wohnungen nach Eigentumsart, Quartier und StatZone 2021/Übrige private Gesellschaften/Albisrieden",
          "Fertig erstellte Wohnungen nach Eigentumsart, Quartier und StatZone 2021/Im Stockwerkeigentum/Alt-Wiedikon",
          "Fertig erstellte Wohnungen nach Eigentumsart, Quartier und StatZone 2021/Im Stockwerkeigentum/Altstetten",
          "Fertig erstellte Wohnungen nach Eigentumsart, Quartier und StatZone 2021/Natürliche Personen/Altstetten",
          "Fertig erstellte Wohnungen nach Eigentumsart, Quartier und StatZone 2021/Wohnbaugenossenschaften/Altstetten",
          "Fertig erstellte Wohnungen nach Eigentumsart, Quartier und StatZone 2021/Übrige private Gesellschaften/Altstetten",
          "Fertig erstellte Wohnungen nach Eigentumsart, Quartier und StatZone 2021/Übrige private Gesellschaften/Enge",
          "Fertig erstellte Wohnungen nach Eigentumsart, Quartier und StatZone 2021/Im Stockwerkeigentum/Fluntern",
          "Fertig erstellte Wohnungen nach Eigentumsart, Quartier und StatZone 2021/Natürliche Personen/Fluntern",
          "Fertig erstellte Wohnungen nach Eigentumsart, Quartier und StatZone 2021/Wohnbaugenossenschaften/Gewerbeschule",
          "Fertig erstellte Wohnungen nach Eigentumsart, Quartier und StatZone 2021/Natürliche Personen/Hard",
          "Fertig erstellte Wohnungen nach Eigentumsart, Quartier und StatZone 2021/Öffentliche Hand/Hard",
          "Fertig erstellte Wohnungen nach Eigentumsart, Quartier und StatZone 2021/Natürliche Personen/Hirslanden",
          "Fertig erstellte Wohnungen nach Eigentumsart, Quartier und StatZone 2021/Im Stockwerkeigentum/Hottingen",
          "Fertig erstellte Wohnungen nach Eigentumsart, Quartier und StatZone 2021/Im Stockwerkeigentum/Höngg",
          "Fertig erstellte Wohnungen nach Eigentumsart, Quartier und StatZone 2021/Natürliche Personen/Höngg",
          "Fertig erstellte Wohnungen nach Eigentumsart, Quartier und StatZone 2021/Übrige private Gesellschaften/Höngg",
          "Fertig erstellte Wohnungen nach Eigentumsart, Quartier und StatZone 2021/Übrige private Gesellschaften/Langstrasse",
          "Fertig erstellte Wohnungen nach Eigentumsart, Quartier und StatZone 2021/Natürliche Personen/Leimbach",
          "Fertig erstellte Wohnungen nach Eigentumsart, Quartier und StatZone 2021/Übrige private Gesellschaften/Leimbach",
          "Fertig erstellte Wohnungen nach Eigentumsart, Quartier und StatZone 2021/Natürliche Personen/Oberstrass",
          "Fertig erstellte Wohnungen nach Eigentumsart, Quartier und StatZone 2021/Übrige private Gesellschaften/Oberstrass",
          "Fertig erstellte Wohnungen nach Eigentumsart, Quartier und StatZone 2021/Natürliche Personen/Oerlikon",
          "Fertig erstellte Wohnungen nach Eigentumsart, Quartier und StatZone 2021/Übrige private Gesellschaften/Oerlikon",
          "Fertig erstellte Wohnungen nach Eigentumsart, Quartier und StatZone 2021/Übrige private Gesellschaften/Schwamendingen-Mitte",
          "Fertig erstellte Wohnungen nach Eigentumsart, Quartier und StatZone 2021/Im Stockwerkeigentum/Seebach",
          "Fertig erstellte Wohnungen nach Eigentumsart, Quartier und StatZone 2021/Natürliche Personen/Seebach",
          "Fertig erstellte Wohnungen nach Eigentumsart, Quartier und StatZone 2021/Übrige private Gesellschaften/Seebach",
          "Fertig erstellte Wohnungen nach Eigentumsart, Quartier und StatZone 2021/Öffentliche Hand/Seefeld",
          "Fertig erstellte Wohnungen nach Eigentumsart, Quartier und StatZone 2021/Übrige private Gesellschaften/Sihlfeld",
          "Fertig erstellte Wohnungen nach Eigentumsart, Quartier und StatZone 2021/Natürliche Personen/Unterstrass",
          "Fertig erstellte Wohnungen nach Eigentumsart, Quartier und StatZone 2021/Wohnbaugenossenschaften/Unterstrass",
          "Fertig erstellte Wohnungen nach Eigentumsart, Quartier und StatZone 2021/Übrige private Gesellschaften/Unterstrass",
          "Fertig erstellte Wohnungen nach Eigentumsart, Quartier und StatZone 2021/Übrige private Gesellschaften/Werd",
          "Fertig erstellte Wohnungen nach Eigentumsart, Quartier und StatZone 2021/Natürliche Personen/Wipkingen",
          "Fertig erstellte Wohnungen nach Eigentumsart, Quartier und StatZone 2021/Im Stockwerkeigentum/Witikon",
          "Fertig erstellte Wohnungen nach Eigentumsart, Quartier und StatZone 2021/Natürliche Personen/Witikon",
          "Fertig erstellte Wohnungen nach Eigentumsart, Quartier und StatZone 2021/Im Stockwerkeigentum/Wollishofen",
          "Fertig erstellte Wohnungen nach Eigentumsart, Quartier und StatZone 2021/Natürliche Personen/Wollishofen",
          "Fertig erstellte Wohnungen nach Eigentumsart, Quartier und StatZone 2021/Übrige private Gesellschaften/Wollishofen",
          "Fertig erstellte Wohnungen nach Eigentumsart, Quartier und StatZone 2021/Im Stockwerkeigentum",
          "Fertig erstellte Wohnungen nach Eigentumsart, Quartier und StatZone 2021/Natürliche Personen",
          "Fertig erstellte Wohnungen nach Eigentumsart, Quartier und StatZone 2021/Wohnbaugenossenschaften",
          "Fertig erstellte Wohnungen nach Eigentumsart, Quartier und StatZone 2021/Öffentliche Hand",
          "Fertig erstellte Wohnungen nach Eigentumsart, Quartier und StatZone 2021/Übrige private Gesellschaften",
          "Fertig erstellte Wohnungen nach Eigentumsart, Quartier und StatZone 2021"
         ],
         "labels": [
          "Ackerstrasse",
          "Bachmatt",
          "Bachmatt",
          "Bauherrenstrasse",
          "Bauherrenstrasse",
          "Bellariastrasse",
          "Bellariastrasse",
          "Bellerive",
          "Belvoir-Park",
          "Buchlern",
          "Bullingerhof",
          "Calanda",
          "Culmannstrasse",
          "Dachslern",
          "Degenried",
          "Dunkelhölzli",
          "Eichbühl",
          "Eichbühl",
          "Eichbühl",
          "Eierbrecht",
          "Espenhof",
          "Ettenfeld",
          "Ettenfeld",
          "Felsenrain",
          "Gorwiden",
          "Grossmannstrasse",
          "Grünaustrasse",
          "Gsteigstrasse",
          "Hardau",
          "Hochstrasse",
          "Hürst",
          "Im Sydefädeli",
          "In der Ey",
          "In der Ey",
          "Kalkbreite",
          "Kantonsschule",
          "Kienastenwies",
          "Kienastenwies",
          "Köschenrüti",
          "Letzigrund",
          "Leutschenbach",
          "Loogarten",
          "Magdalenenstrasse",
          "Marbachweg",
          "Marbachweg",
          "Marktplatz Oerlikon",
          "Mühlezelgstrasse",
          "Platte",
          "Riedtli",
          "Rigiblick",
          "Rigiviertel",
          "Rosengartenstrasse",
          "Rütihof",
          "Rütihof",
          "Saalsporthalle",
          "Scheuchzerstrasse",
          "Scheuchzerstrasse",
          "Schürgistrasse",
          "Steinkluppe",
          "Steinkluppe",
          "Steinkluppe",
          "Tiefenbrunnen",
          "Toblerstrasse",
          "Verenastrasse",
          "Verenastrasse",
          "Verenastrasse",
          "Wengi",
          "Werdinsel",
          "Zehntenhausplatz",
          "Zollfreilager",
          "Zschokkestrasse",
          "Zwinglihaus",
          "Affoltern",
          "Albisrieden",
          "Albisrieden",
          "Albisrieden",
          "Alt-Wiedikon",
          "Altstetten",
          "Altstetten",
          "Altstetten",
          "Altstetten",
          "Enge",
          "Fluntern",
          "Fluntern",
          "Gewerbeschule",
          "Hard",
          "Hard",
          "Hirslanden",
          "Hottingen",
          "Höngg",
          "Höngg",
          "Höngg",
          "Langstrasse",
          "Leimbach",
          "Leimbach",
          "Oberstrass",
          "Oberstrass",
          "Oerlikon",
          "Oerlikon",
          "Schwamendingen-Mitte",
          "Seebach",
          "Seebach",
          "Seebach",
          "Seefeld",
          "Sihlfeld",
          "Unterstrass",
          "Unterstrass",
          "Unterstrass",
          "Werd",
          "Wipkingen",
          "Witikon",
          "Witikon",
          "Wollishofen",
          "Wollishofen",
          "Wollishofen",
          "Im Stockwerkeigentum",
          "Natürliche Personen",
          "Wohnbaugenossenschaften",
          "Öffentliche Hand",
          "Übrige private Gesellschaften",
          "Fertig erstellte Wohnungen nach Eigentumsart, Quartier und StatZone 2021"
         ],
         "marker": {
          "coloraxis": "coloraxis",
          "colors": [
           55,
           15,
           13,
           6,
           20,
           6,
           180,
           61,
           18,
           1,
           30,
           11,
           9,
           57,
           2,
           13,
           7,
           7,
           66,
           3,
           9,
           4,
           66,
           135,
           16,
           2,
           11,
           6,
           46,
           9,
           1,
           9,
           8,
           35,
           80,
           10,
           7,
           15,
           5,
           173,
           4,
           10,
           24,
           11,
           129,
           18,
           14,
           14,
           21,
           2,
           5,
           5,
           8,
           11,
           5,
           10,
           42,
           14,
           24,
           36,
           67,
           60,
           9,
           10,
           4,
           14,
           15,
           10,
           57,
           23,
           9,
           17,
           56.03448275862069,
           11.818181818181818,
           35,
           19.0625,
           5,
           12.657142857142857,
           8.333333333333334,
           173,
           50.734177215189874,
           18,
           14,
           9,
           55,
           30,
           46,
           2,
           10,
           8.333333333333334,
           8.473684210526315,
           20,
           15,
           11,
           129,
           16.785714285714285,
           9,
           21.428571428571427,
           16,
           14,
           4,
           4,
           109.7378640776699,
           60.50413223140496,
           17,
           19.88235294117647,
           39.23076923076923,
           67,
           80,
           8.130434782608695,
           7,
           13,
           10,
           5.2,
           168.02061855670104,
           10.603053435114504,
           24.30857142857143,
           117.69281045751634,
           56.50898203592814,
           95.51692307692308,
           76.97096941420425
          ]
         },
         "name": "",
         "parents": [
          "Fertig erstellte Wohnungen nach Eigentumsart, Quartier und StatZone 2021/Wohnbaugenossenschaften/Gewerbeschule",
          "Fertig erstellte Wohnungen nach Eigentumsart, Quartier und StatZone 2021/Im Stockwerkeigentum/Altstetten",
          "Fertig erstellte Wohnungen nach Eigentumsart, Quartier und StatZone 2021/Übrige private Gesellschaften/Altstetten",
          "Fertig erstellte Wohnungen nach Eigentumsart, Quartier und StatZone 2021/Natürliche Personen/Höngg",
          "Fertig erstellte Wohnungen nach Eigentumsart, Quartier und StatZone 2021/Übrige private Gesellschaften/Höngg",
          "Fertig erstellte Wohnungen nach Eigentumsart, Quartier und StatZone 2021/Natürliche Personen/Wollishofen",
          "Fertig erstellte Wohnungen nach Eigentumsart, Quartier und StatZone 2021/Übrige private Gesellschaften/Wollishofen",
          "Fertig erstellte Wohnungen nach Eigentumsart, Quartier und StatZone 2021/Öffentliche Hand/Seefeld",
          "Fertig erstellte Wohnungen nach Eigentumsart, Quartier und StatZone 2021/Übrige private Gesellschaften/Enge",
          "Fertig erstellte Wohnungen nach Eigentumsart, Quartier und StatZone 2021/Natürliche Personen/Altstetten",
          "Fertig erstellte Wohnungen nach Eigentumsart, Quartier und StatZone 2021/Natürliche Personen/Hard",
          "Fertig erstellte Wohnungen nach Eigentumsart, Quartier und StatZone 2021/Übrige private Gesellschaften/Altstetten",
          "Fertig erstellte Wohnungen nach Eigentumsart, Quartier und StatZone 2021/Übrige private Gesellschaften/Oberstrass",
          "Fertig erstellte Wohnungen nach Eigentumsart, Quartier und StatZone 2021/Übrige private Gesellschaften/Altstetten",
          "Fertig erstellte Wohnungen nach Eigentumsart, Quartier und StatZone 2021/Natürliche Personen/Hirslanden",
          "Fertig erstellte Wohnungen nach Eigentumsart, Quartier und StatZone 2021/Im Stockwerkeigentum/Altstetten",
          "Fertig erstellte Wohnungen nach Eigentumsart, Quartier und StatZone 2021/Im Stockwerkeigentum/Altstetten",
          "Fertig erstellte Wohnungen nach Eigentumsart, Quartier und StatZone 2021/Natürliche Personen/Altstetten",
          "Fertig erstellte Wohnungen nach Eigentumsart, Quartier und StatZone 2021/Übrige private Gesellschaften/Altstetten",
          "Fertig erstellte Wohnungen nach Eigentumsart, Quartier und StatZone 2021/Natürliche Personen/Witikon",
          "Fertig erstellte Wohnungen nach Eigentumsart, Quartier und StatZone 2021/Übrige private Gesellschaften/Albisrieden",
          "Fertig erstellte Wohnungen nach Eigentumsart, Quartier und StatZone 2021/Natürliche Personen/Seebach",
          "Fertig erstellte Wohnungen nach Eigentumsart, Quartier und StatZone 2021/Übrige private Gesellschaften/Seebach",
          "Fertig erstellte Wohnungen nach Eigentumsart, Quartier und StatZone 2021/Übrige private Gesellschaften/Seebach",
          "Fertig erstellte Wohnungen nach Eigentumsart, Quartier und StatZone 2021/Übrige private Gesellschaften/Oerlikon",
          "Fertig erstellte Wohnungen nach Eigentumsart, Quartier und StatZone 2021/Natürliche Personen/Höngg",
          "Fertig erstellte Wohnungen nach Eigentumsart, Quartier und StatZone 2021/Übrige private Gesellschaften/Altstetten",
          "Fertig erstellte Wohnungen nach Eigentumsart, Quartier und StatZone 2021/Im Stockwerkeigentum/Höngg",
          "Fertig erstellte Wohnungen nach Eigentumsart, Quartier und StatZone 2021/Öffentliche Hand/Hard",
          "Fertig erstellte Wohnungen nach Eigentumsart, Quartier und StatZone 2021/Natürliche Personen/Fluntern",
          "Fertig erstellte Wohnungen nach Eigentumsart, Quartier und StatZone 2021/Natürliche Personen/Affoltern",
          "Fertig erstellte Wohnungen nach Eigentumsart, Quartier und StatZone 2021/Natürliche Personen/Wipkingen",
          "Fertig erstellte Wohnungen nach Eigentumsart, Quartier und StatZone 2021/Im Stockwerkeigentum/Albisrieden",
          "Fertig erstellte Wohnungen nach Eigentumsart, Quartier und StatZone 2021/Natürliche Personen/Albisrieden",
          "Fertig erstellte Wohnungen nach Eigentumsart, Quartier und StatZone 2021/Übrige private Gesellschaften/Werd",
          "Fertig erstellte Wohnungen nach Eigentumsart, Quartier und StatZone 2021/Im Stockwerkeigentum/Hottingen",
          "Fertig erstellte Wohnungen nach Eigentumsart, Quartier und StatZone 2021/Im Stockwerkeigentum/Witikon",
          "Fertig erstellte Wohnungen nach Eigentumsart, Quartier und StatZone 2021/Natürliche Personen/Witikon",
          "Fertig erstellte Wohnungen nach Eigentumsart, Quartier und StatZone 2021/Übrige private Gesellschaften/Seebach",
          "Fertig erstellte Wohnungen nach Eigentumsart, Quartier und StatZone 2021/Wohnbaugenossenschaften/Altstetten",
          "Fertig erstellte Wohnungen nach Eigentumsart, Quartier und StatZone 2021/Im Stockwerkeigentum/Seebach",
          "Fertig erstellte Wohnungen nach Eigentumsart, Quartier und StatZone 2021/Natürliche Personen/Altstetten",
          "Fertig erstellte Wohnungen nach Eigentumsart, Quartier und StatZone 2021/Natürliche Personen/Oerlikon",
          "Fertig erstellte Wohnungen nach Eigentumsart, Quartier und StatZone 2021/Natürliche Personen/Leimbach",
          "Fertig erstellte Wohnungen nach Eigentumsart, Quartier und StatZone 2021/Übrige private Gesellschaften/Leimbach",
          "Fertig erstellte Wohnungen nach Eigentumsart, Quartier und StatZone 2021/Natürliche Personen/Oerlikon",
          "Fertig erstellte Wohnungen nach Eigentumsart, Quartier und StatZone 2021/Im Stockwerkeigentum/Albisrieden",
          "Fertig erstellte Wohnungen nach Eigentumsart, Quartier und StatZone 2021/Im Stockwerkeigentum/Fluntern",
          "Fertig erstellte Wohnungen nach Eigentumsart, Quartier und StatZone 2021/Natürliche Personen/Oberstrass",
          "Fertig erstellte Wohnungen nach Eigentumsart, Quartier und StatZone 2021/Natürliche Personen/Oberstrass",
          "Fertig erstellte Wohnungen nach Eigentumsart, Quartier und StatZone 2021/Natürliche Personen/Oberstrass",
          "Fertig erstellte Wohnungen nach Eigentumsart, Quartier und StatZone 2021/Natürliche Personen/Wipkingen",
          "Fertig erstellte Wohnungen nach Eigentumsart, Quartier und StatZone 2021/Im Stockwerkeigentum/Höngg",
          "Fertig erstellte Wohnungen nach Eigentumsart, Quartier und StatZone 2021/Natürliche Personen/Höngg",
          "Fertig erstellte Wohnungen nach Eigentumsart, Quartier und StatZone 2021/Im Stockwerkeigentum/Alt-Wiedikon",
          "Fertig erstellte Wohnungen nach Eigentumsart, Quartier und StatZone 2021/Natürliche Personen/Unterstrass",
          "Fertig erstellte Wohnungen nach Eigentumsart, Quartier und StatZone 2021/Wohnbaugenossenschaften/Unterstrass",
          "Fertig erstellte Wohnungen nach Eigentumsart, Quartier und StatZone 2021/Übrige private Gesellschaften/Schwamendingen-Mitte",
          "Fertig erstellte Wohnungen nach Eigentumsart, Quartier und StatZone 2021/Natürliche Personen/Unterstrass",
          "Fertig erstellte Wohnungen nach Eigentumsart, Quartier und StatZone 2021/Wohnbaugenossenschaften/Unterstrass",
          "Fertig erstellte Wohnungen nach Eigentumsart, Quartier und StatZone 2021/Übrige private Gesellschaften/Unterstrass",
          "Fertig erstellte Wohnungen nach Eigentumsart, Quartier und StatZone 2021/Öffentliche Hand/Seefeld",
          "Fertig erstellte Wohnungen nach Eigentumsart, Quartier und StatZone 2021/Natürliche Personen/Fluntern",
          "Fertig erstellte Wohnungen nach Eigentumsart, Quartier und StatZone 2021/Im Stockwerkeigentum/Wollishofen",
          "Fertig erstellte Wohnungen nach Eigentumsart, Quartier und StatZone 2021/Natürliche Personen/Wollishofen",
          "Fertig erstellte Wohnungen nach Eigentumsart, Quartier und StatZone 2021/Übrige private Gesellschaften/Wollishofen",
          "Fertig erstellte Wohnungen nach Eigentumsart, Quartier und StatZone 2021/Übrige private Gesellschaften/Langstrasse",
          "Fertig erstellte Wohnungen nach Eigentumsart, Quartier und StatZone 2021/Im Stockwerkeigentum/Höngg",
          "Fertig erstellte Wohnungen nach Eigentumsart, Quartier und StatZone 2021/Natürliche Personen/Affoltern",
          "Fertig erstellte Wohnungen nach Eigentumsart, Quartier und StatZone 2021/Übrige private Gesellschaften/Albisrieden",
          "Fertig erstellte Wohnungen nach Eigentumsart, Quartier und StatZone 2021/Natürliche Personen/Wipkingen",
          "Fertig erstellte Wohnungen nach Eigentumsart, Quartier und StatZone 2021/Übrige private Gesellschaften/Sihlfeld",
          "Fertig erstellte Wohnungen nach Eigentumsart, Quartier und StatZone 2021/Natürliche Personen",
          "Fertig erstellte Wohnungen nach Eigentumsart, Quartier und StatZone 2021/Im Stockwerkeigentum",
          "Fertig erstellte Wohnungen nach Eigentumsart, Quartier und StatZone 2021/Natürliche Personen",
          "Fertig erstellte Wohnungen nach Eigentumsart, Quartier und StatZone 2021/Übrige private Gesellschaften",
          "Fertig erstellte Wohnungen nach Eigentumsart, Quartier und StatZone 2021/Im Stockwerkeigentum",
          "Fertig erstellte Wohnungen nach Eigentumsart, Quartier und StatZone 2021/Im Stockwerkeigentum",
          "Fertig erstellte Wohnungen nach Eigentumsart, Quartier und StatZone 2021/Natürliche Personen",
          "Fertig erstellte Wohnungen nach Eigentumsart, Quartier und StatZone 2021/Wohnbaugenossenschaften",
          "Fertig erstellte Wohnungen nach Eigentumsart, Quartier und StatZone 2021/Übrige private Gesellschaften",
          "Fertig erstellte Wohnungen nach Eigentumsart, Quartier und StatZone 2021/Übrige private Gesellschaften",
          "Fertig erstellte Wohnungen nach Eigentumsart, Quartier und StatZone 2021/Im Stockwerkeigentum",
          "Fertig erstellte Wohnungen nach Eigentumsart, Quartier und StatZone 2021/Natürliche Personen",
          "Fertig erstellte Wohnungen nach Eigentumsart, Quartier und StatZone 2021/Wohnbaugenossenschaften",
          "Fertig erstellte Wohnungen nach Eigentumsart, Quartier und StatZone 2021/Natürliche Personen",
          "Fertig erstellte Wohnungen nach Eigentumsart, Quartier und StatZone 2021/Öffentliche Hand",
          "Fertig erstellte Wohnungen nach Eigentumsart, Quartier und StatZone 2021/Natürliche Personen",
          "Fertig erstellte Wohnungen nach Eigentumsart, Quartier und StatZone 2021/Im Stockwerkeigentum",
          "Fertig erstellte Wohnungen nach Eigentumsart, Quartier und StatZone 2021/Im Stockwerkeigentum",
          "Fertig erstellte Wohnungen nach Eigentumsart, Quartier und StatZone 2021/Natürliche Personen",
          "Fertig erstellte Wohnungen nach Eigentumsart, Quartier und StatZone 2021/Übrige private Gesellschaften",
          "Fertig erstellte Wohnungen nach Eigentumsart, Quartier und StatZone 2021/Übrige private Gesellschaften",
          "Fertig erstellte Wohnungen nach Eigentumsart, Quartier und StatZone 2021/Natürliche Personen",
          "Fertig erstellte Wohnungen nach Eigentumsart, Quartier und StatZone 2021/Übrige private Gesellschaften",
          "Fertig erstellte Wohnungen nach Eigentumsart, Quartier und StatZone 2021/Natürliche Personen",
          "Fertig erstellte Wohnungen nach Eigentumsart, Quartier und StatZone 2021/Übrige private Gesellschaften",
          "Fertig erstellte Wohnungen nach Eigentumsart, Quartier und StatZone 2021/Natürliche Personen",
          "Fertig erstellte Wohnungen nach Eigentumsart, Quartier und StatZone 2021/Übrige private Gesellschaften",
          "Fertig erstellte Wohnungen nach Eigentumsart, Quartier und StatZone 2021/Übrige private Gesellschaften",
          "Fertig erstellte Wohnungen nach Eigentumsart, Quartier und StatZone 2021/Im Stockwerkeigentum",
          "Fertig erstellte Wohnungen nach Eigentumsart, Quartier und StatZone 2021/Natürliche Personen",
          "Fertig erstellte Wohnungen nach Eigentumsart, Quartier und StatZone 2021/Übrige private Gesellschaften",
          "Fertig erstellte Wohnungen nach Eigentumsart, Quartier und StatZone 2021/Öffentliche Hand",
          "Fertig erstellte Wohnungen nach Eigentumsart, Quartier und StatZone 2021/Übrige private Gesellschaften",
          "Fertig erstellte Wohnungen nach Eigentumsart, Quartier und StatZone 2021/Natürliche Personen",
          "Fertig erstellte Wohnungen nach Eigentumsart, Quartier und StatZone 2021/Wohnbaugenossenschaften",
          "Fertig erstellte Wohnungen nach Eigentumsart, Quartier und StatZone 2021/Übrige private Gesellschaften",
          "Fertig erstellte Wohnungen nach Eigentumsart, Quartier und StatZone 2021/Übrige private Gesellschaften",
          "Fertig erstellte Wohnungen nach Eigentumsart, Quartier und StatZone 2021/Natürliche Personen",
          "Fertig erstellte Wohnungen nach Eigentumsart, Quartier und StatZone 2021/Im Stockwerkeigentum",
          "Fertig erstellte Wohnungen nach Eigentumsart, Quartier und StatZone 2021/Natürliche Personen",
          "Fertig erstellte Wohnungen nach Eigentumsart, Quartier und StatZone 2021/Im Stockwerkeigentum",
          "Fertig erstellte Wohnungen nach Eigentumsart, Quartier und StatZone 2021/Natürliche Personen",
          "Fertig erstellte Wohnungen nach Eigentumsart, Quartier und StatZone 2021/Übrige private Gesellschaften",
          "Fertig erstellte Wohnungen nach Eigentumsart, Quartier und StatZone 2021",
          "Fertig erstellte Wohnungen nach Eigentumsart, Quartier und StatZone 2021",
          "Fertig erstellte Wohnungen nach Eigentumsart, Quartier und StatZone 2021",
          "Fertig erstellte Wohnungen nach Eigentumsart, Quartier und StatZone 2021",
          "Fertig erstellte Wohnungen nach Eigentumsart, Quartier und StatZone 2021",
          ""
         ],
         "root": {
          "color": "grey"
         },
         "type": "treemap",
         "values": [
          55,
          15,
          13,
          6,
          20,
          6,
          180,
          61,
          18,
          1,
          30,
          11,
          9,
          57,
          2,
          13,
          7,
          7,
          66,
          3,
          9,
          4,
          66,
          135,
          16,
          2,
          11,
          6,
          46,
          9,
          1,
          9,
          8,
          35,
          80,
          10,
          7,
          15,
          5,
          173,
          4,
          10,
          24,
          11,
          129,
          18,
          14,
          14,
          21,
          2,
          5,
          5,
          8,
          11,
          5,
          10,
          42,
          14,
          24,
          36,
          67,
          60,
          9,
          10,
          4,
          14,
          15,
          10,
          57,
          23,
          9,
          17,
          58,
          22,
          35,
          32,
          5,
          35,
          18,
          173,
          158,
          18,
          14,
          18,
          55,
          30,
          46,
          2,
          10,
          24,
          19,
          20,
          15,
          11,
          129,
          28,
          9,
          42,
          16,
          14,
          4,
          4,
          206,
          121,
          17,
          34,
          78,
          67,
          80,
          23,
          7,
          18,
          10,
          10,
          194,
          131,
          350,
          306,
          167,
          975,
          1929
         ]
        }
       ],
       "layout": {
        "coloraxis": {
         "colorbar": {
          "title": {
           "text": "sum_Whg_fertigerstellt"
          }
         },
         "colorscale": [
          [
           0,
           "#00224e"
          ],
          [
           0.1111111111111111,
           "#123570"
          ],
          [
           0.2222222222222222,
           "#3b496c"
          ],
          [
           0.3333333333333333,
           "#575d6d"
          ],
          [
           0.4444444444444444,
           "#707173"
          ],
          [
           0.5555555555555556,
           "#8a8678"
          ],
          [
           0.6666666666666666,
           "#a59c74"
          ],
          [
           0.7777777777777778,
           "#c3b369"
          ],
          [
           0.8888888888888888,
           "#e1cc55"
          ],
          [
           1,
           "#fee838"
          ]
         ]
        },
        "height": 500,
        "legend": {
         "tracegroupgap": 0
        },
        "margin": {
         "b": 25,
         "l": 25,
         "r": 250,
         "t": 50
        },
        "template": {
         "data": {
          "bar": [
           {
            "error_x": {
             "color": "#2a3f5f"
            },
            "error_y": {
             "color": "#2a3f5f"
            },
            "marker": {
             "line": {
              "color": "#E5ECF6",
              "width": 0.5
             },
             "pattern": {
              "fillmode": "overlay",
              "size": 10,
              "solidity": 0.2
             }
            },
            "type": "bar"
           }
          ],
          "barpolar": [
           {
            "marker": {
             "line": {
              "color": "#E5ECF6",
              "width": 0.5
             },
             "pattern": {
              "fillmode": "overlay",
              "size": 10,
              "solidity": 0.2
             }
            },
            "type": "barpolar"
           }
          ],
          "carpet": [
           {
            "aaxis": {
             "endlinecolor": "#2a3f5f",
             "gridcolor": "white",
             "linecolor": "white",
             "minorgridcolor": "white",
             "startlinecolor": "#2a3f5f"
            },
            "baxis": {
             "endlinecolor": "#2a3f5f",
             "gridcolor": "white",
             "linecolor": "white",
             "minorgridcolor": "white",
             "startlinecolor": "#2a3f5f"
            },
            "type": "carpet"
           }
          ],
          "choropleth": [
           {
            "colorbar": {
             "outlinewidth": 0,
             "ticks": ""
            },
            "type": "choropleth"
           }
          ],
          "contour": [
           {
            "colorbar": {
             "outlinewidth": 0,
             "ticks": ""
            },
            "colorscale": [
             [
              0,
              "#0d0887"
             ],
             [
              0.1111111111111111,
              "#46039f"
             ],
             [
              0.2222222222222222,
              "#7201a8"
             ],
             [
              0.3333333333333333,
              "#9c179e"
             ],
             [
              0.4444444444444444,
              "#bd3786"
             ],
             [
              0.5555555555555556,
              "#d8576b"
             ],
             [
              0.6666666666666666,
              "#ed7953"
             ],
             [
              0.7777777777777778,
              "#fb9f3a"
             ],
             [
              0.8888888888888888,
              "#fdca26"
             ],
             [
              1,
              "#f0f921"
             ]
            ],
            "type": "contour"
           }
          ],
          "contourcarpet": [
           {
            "colorbar": {
             "outlinewidth": 0,
             "ticks": ""
            },
            "type": "contourcarpet"
           }
          ],
          "heatmap": [
           {
            "colorbar": {
             "outlinewidth": 0,
             "ticks": ""
            },
            "colorscale": [
             [
              0,
              "#0d0887"
             ],
             [
              0.1111111111111111,
              "#46039f"
             ],
             [
              0.2222222222222222,
              "#7201a8"
             ],
             [
              0.3333333333333333,
              "#9c179e"
             ],
             [
              0.4444444444444444,
              "#bd3786"
             ],
             [
              0.5555555555555556,
              "#d8576b"
             ],
             [
              0.6666666666666666,
              "#ed7953"
             ],
             [
              0.7777777777777778,
              "#fb9f3a"
             ],
             [
              0.8888888888888888,
              "#fdca26"
             ],
             [
              1,
              "#f0f921"
             ]
            ],
            "type": "heatmap"
           }
          ],
          "heatmapgl": [
           {
            "colorbar": {
             "outlinewidth": 0,
             "ticks": ""
            },
            "colorscale": [
             [
              0,
              "#0d0887"
             ],
             [
              0.1111111111111111,
              "#46039f"
             ],
             [
              0.2222222222222222,
              "#7201a8"
             ],
             [
              0.3333333333333333,
              "#9c179e"
             ],
             [
              0.4444444444444444,
              "#bd3786"
             ],
             [
              0.5555555555555556,
              "#d8576b"
             ],
             [
              0.6666666666666666,
              "#ed7953"
             ],
             [
              0.7777777777777778,
              "#fb9f3a"
             ],
             [
              0.8888888888888888,
              "#fdca26"
             ],
             [
              1,
              "#f0f921"
             ]
            ],
            "type": "heatmapgl"
           }
          ],
          "histogram": [
           {
            "marker": {
             "pattern": {
              "fillmode": "overlay",
              "size": 10,
              "solidity": 0.2
             }
            },
            "type": "histogram"
           }
          ],
          "histogram2d": [
           {
            "colorbar": {
             "outlinewidth": 0,
             "ticks": ""
            },
            "colorscale": [
             [
              0,
              "#0d0887"
             ],
             [
              0.1111111111111111,
              "#46039f"
             ],
             [
              0.2222222222222222,
              "#7201a8"
             ],
             [
              0.3333333333333333,
              "#9c179e"
             ],
             [
              0.4444444444444444,
              "#bd3786"
             ],
             [
              0.5555555555555556,
              "#d8576b"
             ],
             [
              0.6666666666666666,
              "#ed7953"
             ],
             [
              0.7777777777777778,
              "#fb9f3a"
             ],
             [
              0.8888888888888888,
              "#fdca26"
             ],
             [
              1,
              "#f0f921"
             ]
            ],
            "type": "histogram2d"
           }
          ],
          "histogram2dcontour": [
           {
            "colorbar": {
             "outlinewidth": 0,
             "ticks": ""
            },
            "colorscale": [
             [
              0,
              "#0d0887"
             ],
             [
              0.1111111111111111,
              "#46039f"
             ],
             [
              0.2222222222222222,
              "#7201a8"
             ],
             [
              0.3333333333333333,
              "#9c179e"
             ],
             [
              0.4444444444444444,
              "#bd3786"
             ],
             [
              0.5555555555555556,
              "#d8576b"
             ],
             [
              0.6666666666666666,
              "#ed7953"
             ],
             [
              0.7777777777777778,
              "#fb9f3a"
             ],
             [
              0.8888888888888888,
              "#fdca26"
             ],
             [
              1,
              "#f0f921"
             ]
            ],
            "type": "histogram2dcontour"
           }
          ],
          "mesh3d": [
           {
            "colorbar": {
             "outlinewidth": 0,
             "ticks": ""
            },
            "type": "mesh3d"
           }
          ],
          "parcoords": [
           {
            "line": {
             "colorbar": {
              "outlinewidth": 0,
              "ticks": ""
             }
            },
            "type": "parcoords"
           }
          ],
          "pie": [
           {
            "automargin": true,
            "type": "pie"
           }
          ],
          "scatter": [
           {
            "marker": {
             "colorbar": {
              "outlinewidth": 0,
              "ticks": ""
             }
            },
            "type": "scatter"
           }
          ],
          "scatter3d": [
           {
            "line": {
             "colorbar": {
              "outlinewidth": 0,
              "ticks": ""
             }
            },
            "marker": {
             "colorbar": {
              "outlinewidth": 0,
              "ticks": ""
             }
            },
            "type": "scatter3d"
           }
          ],
          "scattercarpet": [
           {
            "marker": {
             "colorbar": {
              "outlinewidth": 0,
              "ticks": ""
             }
            },
            "type": "scattercarpet"
           }
          ],
          "scattergeo": [
           {
            "marker": {
             "colorbar": {
              "outlinewidth": 0,
              "ticks": ""
             }
            },
            "type": "scattergeo"
           }
          ],
          "scattergl": [
           {
            "marker": {
             "colorbar": {
              "outlinewidth": 0,
              "ticks": ""
             }
            },
            "type": "scattergl"
           }
          ],
          "scattermapbox": [
           {
            "marker": {
             "colorbar": {
              "outlinewidth": 0,
              "ticks": ""
             }
            },
            "type": "scattermapbox"
           }
          ],
          "scatterpolar": [
           {
            "marker": {
             "colorbar": {
              "outlinewidth": 0,
              "ticks": ""
             }
            },
            "type": "scatterpolar"
           }
          ],
          "scatterpolargl": [
           {
            "marker": {
             "colorbar": {
              "outlinewidth": 0,
              "ticks": ""
             }
            },
            "type": "scatterpolargl"
           }
          ],
          "scatterternary": [
           {
            "marker": {
             "colorbar": {
              "outlinewidth": 0,
              "ticks": ""
             }
            },
            "type": "scatterternary"
           }
          ],
          "surface": [
           {
            "colorbar": {
             "outlinewidth": 0,
             "ticks": ""
            },
            "colorscale": [
             [
              0,
              "#0d0887"
             ],
             [
              0.1111111111111111,
              "#46039f"
             ],
             [
              0.2222222222222222,
              "#7201a8"
             ],
             [
              0.3333333333333333,
              "#9c179e"
             ],
             [
              0.4444444444444444,
              "#bd3786"
             ],
             [
              0.5555555555555556,
              "#d8576b"
             ],
             [
              0.6666666666666666,
              "#ed7953"
             ],
             [
              0.7777777777777778,
              "#fb9f3a"
             ],
             [
              0.8888888888888888,
              "#fdca26"
             ],
             [
              1,
              "#f0f921"
             ]
            ],
            "type": "surface"
           }
          ],
          "table": [
           {
            "cells": {
             "fill": {
              "color": "#EBF0F8"
             },
             "line": {
              "color": "white"
             }
            },
            "header": {
             "fill": {
              "color": "#C8D4E3"
             },
             "line": {
              "color": "white"
             }
            },
            "type": "table"
           }
          ]
         },
         "layout": {
          "annotationdefaults": {
           "arrowcolor": "#2a3f5f",
           "arrowhead": 0,
           "arrowwidth": 1
          },
          "autotypenumbers": "strict",
          "coloraxis": {
           "colorbar": {
            "outlinewidth": 0,
            "ticks": ""
           }
          },
          "colorscale": {
           "diverging": [
            [
             0,
             "#8e0152"
            ],
            [
             0.1,
             "#c51b7d"
            ],
            [
             0.2,
             "#de77ae"
            ],
            [
             0.3,
             "#f1b6da"
            ],
            [
             0.4,
             "#fde0ef"
            ],
            [
             0.5,
             "#f7f7f7"
            ],
            [
             0.6,
             "#e6f5d0"
            ],
            [
             0.7,
             "#b8e186"
            ],
            [
             0.8,
             "#7fbc41"
            ],
            [
             0.9,
             "#4d9221"
            ],
            [
             1,
             "#276419"
            ]
           ],
           "sequential": [
            [
             0,
             "#0d0887"
            ],
            [
             0.1111111111111111,
             "#46039f"
            ],
            [
             0.2222222222222222,
             "#7201a8"
            ],
            [
             0.3333333333333333,
             "#9c179e"
            ],
            [
             0.4444444444444444,
             "#bd3786"
            ],
            [
             0.5555555555555556,
             "#d8576b"
            ],
            [
             0.6666666666666666,
             "#ed7953"
            ],
            [
             0.7777777777777778,
             "#fb9f3a"
            ],
            [
             0.8888888888888888,
             "#fdca26"
            ],
            [
             1,
             "#f0f921"
            ]
           ],
           "sequentialminus": [
            [
             0,
             "#0d0887"
            ],
            [
             0.1111111111111111,
             "#46039f"
            ],
            [
             0.2222222222222222,
             "#7201a8"
            ],
            [
             0.3333333333333333,
             "#9c179e"
            ],
            [
             0.4444444444444444,
             "#bd3786"
            ],
            [
             0.5555555555555556,
             "#d8576b"
            ],
            [
             0.6666666666666666,
             "#ed7953"
            ],
            [
             0.7777777777777778,
             "#fb9f3a"
            ],
            [
             0.8888888888888888,
             "#fdca26"
            ],
            [
             1,
             "#f0f921"
            ]
           ]
          },
          "colorway": [
           "#636efa",
           "#EF553B",
           "#00cc96",
           "#ab63fa",
           "#FFA15A",
           "#19d3f3",
           "#FF6692",
           "#B6E880",
           "#FF97FF",
           "#FECB52"
          ],
          "font": {
           "color": "#2a3f5f"
          },
          "geo": {
           "bgcolor": "white",
           "lakecolor": "white",
           "landcolor": "#E5ECF6",
           "showlakes": true,
           "showland": true,
           "subunitcolor": "white"
          },
          "hoverlabel": {
           "align": "left"
          },
          "hovermode": "closest",
          "mapbox": {
           "style": "light"
          },
          "paper_bgcolor": "white",
          "plot_bgcolor": "#E5ECF6",
          "polar": {
           "angularaxis": {
            "gridcolor": "white",
            "linecolor": "white",
            "ticks": ""
           },
           "bgcolor": "#E5ECF6",
           "radialaxis": {
            "gridcolor": "white",
            "linecolor": "white",
            "ticks": ""
           }
          },
          "scene": {
           "xaxis": {
            "backgroundcolor": "#E5ECF6",
            "gridcolor": "white",
            "gridwidth": 2,
            "linecolor": "white",
            "showbackground": true,
            "ticks": "",
            "zerolinecolor": "white"
           },
           "yaxis": {
            "backgroundcolor": "#E5ECF6",
            "gridcolor": "white",
            "gridwidth": 2,
            "linecolor": "white",
            "showbackground": true,
            "ticks": "",
            "zerolinecolor": "white"
           },
           "zaxis": {
            "backgroundcolor": "#E5ECF6",
            "gridcolor": "white",
            "gridwidth": 2,
            "linecolor": "white",
            "showbackground": true,
            "ticks": "",
            "zerolinecolor": "white"
           }
          },
          "shapedefaults": {
           "line": {
            "color": "#2a3f5f"
           }
          },
          "ternary": {
           "aaxis": {
            "gridcolor": "white",
            "linecolor": "white",
            "ticks": ""
           },
           "baxis": {
            "gridcolor": "white",
            "linecolor": "white",
            "ticks": ""
           },
           "bgcolor": "#E5ECF6",
           "caxis": {
            "gridcolor": "white",
            "linecolor": "white",
            "ticks": ""
           }
          },
          "title": {
           "x": 0.05
          },
          "xaxis": {
           "automargin": true,
           "gridcolor": "white",
           "linecolor": "white",
           "ticks": "",
           "title": {
            "standoff": 15
           },
           "zerolinecolor": "white",
           "zerolinewidth": 2
          },
          "yaxis": {
           "automargin": true,
           "gridcolor": "white",
           "linecolor": "white",
           "ticks": "",
           "title": {
            "standoff": 15
           },
           "zerolinecolor": "white",
           "zerolinewidth": 2
          }
         }
        },
        "width": 1100
       }
      },
      "image/png": "[encoded data removed]",
      "text/html": [
       "<div>                            <div id=\"60cc092d-fbbd-46b6-9a10-2172f7cbc9b6\" class=\"plotly-graph-div\" style=\"height:500px; width:1100px;\"></div>            <script type=\"text/javascript\">                require([\"plotly\"], function(Plotly) {                    window.PLOTLYENV=window.PLOTLYENV || {};                                    if (document.getElementById(\"60cc092d-fbbd-46b6-9a10-2172f7cbc9b6\")) {                    Plotly.newPlot(                        \"60cc092d-fbbd-46b6-9a10-2172f7cbc9b6\",                        [{\"branchvalues\":\"total\",\"customdata\":[[55.0],[15.0],[13.0],[6.0],[20.0],[6.0],[180.0],[61.0],[18.0],[1.0],[30.0],[11.0],[9.0],[57.0],[2.0],[13.0],[7.0],[7.0],[66.0],[3.0],[9.0],[4.0],[66.0],[135.0],[16.0],[2.0],[11.0],[6.0],[46.0],[9.0],[1.0],[9.0],[8.0],[35.0],[80.0],[10.0],[7.0],[15.0],[5.0],[173.0],[4.0],[10.0],[24.0],[11.0],[129.0],[18.0],[14.0],[14.0],[21.0],[2.0],[5.0],[5.0],[8.0],[11.0],[5.0],[10.0],[42.0],[14.0],[24.0],[36.0],[67.0],[60.0],[9.0],[10.0],[4.0],[14.0],[15.0],[10.0],[57.0],[23.0],[9.0],[17.0],[56.03448275862069],[11.818181818181818],[35.0],[19.0625],[5.0],[12.657142857142857],[8.333333333333334],[173.0],[50.734177215189874],[18.0],[14.0],[9.0],[55.0],[30.0],[46.0],[2.0],[10.0],[8.333333333333334],[8.473684210526315],[20.0],[15.0],[11.0],[129.0],[16.785714285714285],[9.0],[21.428571428571427],[16.0],[14.0],[4.0],[4.0],[109.7378640776699],[60.50413223140496],[17.0],[19.88235294117647],[39.23076923076923],[67.0],[80.0],[8.130434782608695],[7.0],[13.0],[10.0],[5.2],[168.02061855670104],[10.603053435114504],[24.30857142857143],[117.69281045751634],[56.50898203592814],[95.51692307692308],[76.97096941420425]],\"domain\":{\"x\":[0.0,1.0],\"y\":[0.0,1.0]},\"hovertemplate\":\"labels=%{label}<br>sum_Whg_fertigerstellt_sum=%{value}<br>parent=%{parent}<br>id=%{id}<br>sum_Whg_fertigerstellt=%{color}<extra></extra>\",\"ids\":[\"Fertig erstellte Wohnungen nach Eigentumsart, Quartier und StatZone 2021/Wohnbaugenossenschaften/Gewerbeschule/Ackerstrasse\",\"Fertig erstellte Wohnungen nach Eigentumsart, Quartier und StatZone 2021/Im Stockwerkeigentum/Altstetten/Bachmatt\",\"Fertig erstellte Wohnungen nach Eigentumsart, Quartier und StatZone 2021/\\u00dcbrige private Gesellschaften/Altstetten/Bachmatt\",\"Fertig erstellte Wohnungen nach Eigentumsart, Quartier und StatZone 2021/Nat\\u00fcrliche Personen/H\\u00f6ngg/Bauherrenstrasse\",\"Fertig erstellte Wohnungen nach Eigentumsart, Quartier und StatZone 2021/\\u00dcbrige private Gesellschaften/H\\u00f6ngg/Bauherrenstrasse\",\"Fertig erstellte Wohnungen nach Eigentumsart, Quartier und StatZone 2021/Nat\\u00fcrliche Personen/Wollishofen/Bellariastrasse\",\"Fertig erstellte Wohnungen nach Eigentumsart, Quartier und StatZone 2021/\\u00dcbrige private Gesellschaften/Wollishofen/Bellariastrasse\",\"Fertig erstellte Wohnungen nach Eigentumsart, Quartier und StatZone 2021/\\u00d6ffentliche Hand/Seefeld/Bellerive\",\"Fertig erstellte Wohnungen nach Eigentumsart, Quartier und StatZone 2021/\\u00dcbrige private Gesellschaften/Enge/Belvoir-Park\",\"Fertig erstellte Wohnungen nach Eigentumsart, Quartier und StatZone 2021/Nat\\u00fcrliche Personen/Altstetten/Buchlern\",\"Fertig erstellte Wohnungen nach Eigentumsart, Quartier und StatZone 2021/Nat\\u00fcrliche Personen/Hard/Bullingerhof\",\"Fertig erstellte Wohnungen nach Eigentumsart, Quartier und StatZone 2021/\\u00dcbrige private Gesellschaften/Altstetten/Calanda\",\"Fertig erstellte Wohnungen nach Eigentumsart, Quartier und StatZone 2021/\\u00dcbrige private Gesellschaften/Oberstrass/Culmannstrasse\",\"Fertig erstellte Wohnungen nach Eigentumsart, Quartier und StatZone 2021/\\u00dcbrige private Gesellschaften/Altstetten/Dachslern\",\"Fertig erstellte Wohnungen nach Eigentumsart, Quartier und StatZone 2021/Nat\\u00fcrliche Personen/Hirslanden/Degenried\",\"Fertig erstellte Wohnungen nach Eigentumsart, Quartier und StatZone 2021/Im Stockwerkeigentum/Altstetten/Dunkelh\\u00f6lzli\",\"Fertig erstellte Wohnungen nach Eigentumsart, Quartier und StatZone 2021/Im Stockwerkeigentum/Altstetten/Eichb\\u00fchl\",\"Fertig erstellte Wohnungen nach Eigentumsart, Quartier und StatZone 2021/Nat\\u00fcrliche Personen/Altstetten/Eichb\\u00fchl\",\"Fertig erstellte Wohnungen nach Eigentumsart, Quartier und StatZone 2021/\\u00dcbrige private Gesellschaften/Altstetten/Eichb\\u00fchl\",\"Fertig erstellte Wohnungen nach Eigentumsart, Quartier und StatZone 2021/Nat\\u00fcrliche Personen/Witikon/Eierbrecht\",\"Fertig erstellte Wohnungen nach Eigentumsart, Quartier und StatZone 2021/\\u00dcbrige private Gesellschaften/Albisrieden/Espenhof\",\"Fertig erstellte Wohnungen nach Eigentumsart, Quartier und StatZone 2021/Nat\\u00fcrliche Personen/Seebach/Ettenfeld\",\"Fertig erstellte Wohnungen nach Eigentumsart, Quartier und StatZone 2021/\\u00dcbrige private Gesellschaften/Seebach/Ettenfeld\",\"Fertig erstellte Wohnungen nach Eigentumsart, Quartier und StatZone 2021/\\u00dcbrige private Gesellschaften/Seebach/Felsenrain\",\"Fertig erstellte Wohnungen nach Eigentumsart, Quartier und StatZone 2021/\\u00dcbrige private Gesellschaften/Oerlikon/Gorwiden\",\"Fertig erstellte Wohnungen nach Eigentumsart, Quartier und StatZone 2021/Nat\\u00fcrliche Personen/H\\u00f6ngg/Grossmannstrasse\",\"Fertig erstellte Wohnungen nach Eigentumsart, Quartier und StatZone 2021/\\u00dcbrige private Gesellschaften/Altstetten/Gr\\u00fcnaustrasse\",\"Fertig erstellte Wohnungen nach Eigentumsart, Quartier und StatZone 2021/Im Stockwerkeigentum/H\\u00f6ngg/Gsteigstrasse\",\"Fertig erstellte Wohnungen nach Eigentumsart, Quartier und StatZone 2021/\\u00d6ffentliche Hand/Hard/Hardau\",\"Fertig erstellte Wohnungen nach Eigentumsart, Quartier und StatZone 2021/Nat\\u00fcrliche Personen/Fluntern/Hochstrasse\",\"Fertig erstellte Wohnungen nach Eigentumsart, Quartier und StatZone 2021/Nat\\u00fcrliche Personen/Affoltern/H\\u00fcrst\",\"Fertig erstellte Wohnungen nach Eigentumsart, Quartier und StatZone 2021/Nat\\u00fcrliche Personen/Wipkingen/Im Sydef\\u00e4deli\",\"Fertig erstellte Wohnungen nach Eigentumsart, Quartier und StatZone 2021/Im Stockwerkeigentum/Albisrieden/In der Ey\",\"Fertig erstellte Wohnungen nach Eigentumsart, Quartier und StatZone 2021/Nat\\u00fcrliche Personen/Albisrieden/In der Ey\",\"Fertig erstellte Wohnungen nach Eigentumsart, Quartier und StatZone 2021/\\u00dcbrige private Gesellschaften/Werd/Kalkbreite\",\"Fertig erstellte Wohnungen nach Eigentumsart, Quartier und StatZone 2021/Im Stockwerkeigentum/Hottingen/Kantonsschule\",\"Fertig erstellte Wohnungen nach Eigentumsart, Quartier und StatZone 2021/Im Stockwerkeigentum/Witikon/Kienastenwies\",\"Fertig erstellte Wohnungen nach Eigentumsart, Quartier und StatZone 2021/Nat\\u00fcrliche Personen/Witikon/Kienastenwies\",\"Fertig erstellte Wohnungen nach Eigentumsart, Quartier und StatZone 2021/\\u00dcbrige private Gesellschaften/Seebach/K\\u00f6schenr\\u00fcti\",\"Fertig erstellte Wohnungen nach Eigentumsart, Quartier und StatZone 2021/Wohnbaugenossenschaften/Altstetten/Letzigrund\",\"Fertig erstellte Wohnungen nach Eigentumsart, Quartier und StatZone 2021/Im Stockwerkeigentum/Seebach/Leutschenbach\",\"Fertig erstellte Wohnungen nach Eigentumsart, Quartier und StatZone 2021/Nat\\u00fcrliche Personen/Altstetten/Loogarten\",\"Fertig erstellte Wohnungen nach Eigentumsart, Quartier und StatZone 2021/Nat\\u00fcrliche Personen/Oerlikon/Magdalenenstrasse\",\"Fertig erstellte Wohnungen nach Eigentumsart, Quartier und StatZone 2021/Nat\\u00fcrliche Personen/Leimbach/Marbachweg\",\"Fertig erstellte Wohnungen nach Eigentumsart, Quartier und StatZone 2021/\\u00dcbrige private Gesellschaften/Leimbach/Marbachweg\",\"Fertig erstellte Wohnungen nach Eigentumsart, Quartier und StatZone 2021/Nat\\u00fcrliche Personen/Oerlikon/Marktplatz Oerlikon\",\"Fertig erstellte Wohnungen nach Eigentumsart, Quartier und StatZone 2021/Im Stockwerkeigentum/Albisrieden/M\\u00fchlezelgstrasse\",\"Fertig erstellte Wohnungen nach Eigentumsart, Quartier und StatZone 2021/Im Stockwerkeigentum/Fluntern/Platte\",\"Fertig erstellte Wohnungen nach Eigentumsart, Quartier und StatZone 2021/Nat\\u00fcrliche Personen/Oberstrass/Riedtli\",\"Fertig erstellte Wohnungen nach Eigentumsart, Quartier und StatZone 2021/Nat\\u00fcrliche Personen/Oberstrass/Rigiblick\",\"Fertig erstellte Wohnungen nach Eigentumsart, Quartier und StatZone 2021/Nat\\u00fcrliche Personen/Oberstrass/Rigiviertel\",\"Fertig erstellte Wohnungen nach Eigentumsart, Quartier und StatZone 2021/Nat\\u00fcrliche Personen/Wipkingen/Rosengartenstrasse\",\"Fertig erstellte Wohnungen nach Eigentumsart, Quartier und StatZone 2021/Im Stockwerkeigentum/H\\u00f6ngg/R\\u00fctihof\",\"Fertig erstellte Wohnungen nach Eigentumsart, Quartier und StatZone 2021/Nat\\u00fcrliche Personen/H\\u00f6ngg/R\\u00fctihof\",\"Fertig erstellte Wohnungen nach Eigentumsart, Quartier und StatZone 2021/Im Stockwerkeigentum/Alt-Wiedikon/Saalsporthalle\",\"Fertig erstellte Wohnungen nach Eigentumsart, Quartier und StatZone 2021/Nat\\u00fcrliche Personen/Unterstrass/Scheuchzerstrasse\",\"Fertig erstellte Wohnungen nach Eigentumsart, Quartier und StatZone 2021/Wohnbaugenossenschaften/Unterstrass/Scheuchzerstrasse\",\"Fertig erstellte Wohnungen nach Eigentumsart, Quartier und StatZone 2021/\\u00dcbrige private Gesellschaften/Schwamendingen-Mitte/Sch\\u00fcrgistrasse\",\"Fertig erstellte Wohnungen nach Eigentumsart, Quartier und StatZone 2021/Nat\\u00fcrliche Personen/Unterstrass/Steinkluppe\",\"Fertig erstellte Wohnungen nach Eigentumsart, Quartier und StatZone 2021/Wohnbaugenossenschaften/Unterstrass/Steinkluppe\",\"Fertig erstellte Wohnungen nach Eigentumsart, Quartier und StatZone 2021/\\u00dcbrige private Gesellschaften/Unterstrass/Steinkluppe\",\"Fertig erstellte Wohnungen nach Eigentumsart, Quartier und StatZone 2021/\\u00d6ffentliche Hand/Seefeld/Tiefenbrunnen\",\"Fertig erstellte Wohnungen nach Eigentumsart, Quartier und StatZone 2021/Nat\\u00fcrliche Personen/Fluntern/Toblerstrasse\",\"Fertig erstellte Wohnungen nach Eigentumsart, Quartier und StatZone 2021/Im Stockwerkeigentum/Wollishofen/Verenastrasse\",\"Fertig erstellte Wohnungen nach Eigentumsart, Quartier und StatZone 2021/Nat\\u00fcrliche Personen/Wollishofen/Verenastrasse\",\"Fertig erstellte Wohnungen nach Eigentumsart, Quartier und StatZone 2021/\\u00dcbrige private Gesellschaften/Wollishofen/Verenastrasse\",\"Fertig erstellte Wohnungen nach Eigentumsart, Quartier und StatZone 2021/\\u00dcbrige private Gesellschaften/Langstrasse/Wengi\",\"Fertig erstellte Wohnungen nach Eigentumsart, Quartier und StatZone 2021/Im Stockwerkeigentum/H\\u00f6ngg/Werdinsel\",\"Fertig erstellte Wohnungen nach Eigentumsart, Quartier und StatZone 2021/Nat\\u00fcrliche Personen/Affoltern/Zehntenhausplatz\",\"Fertig erstellte Wohnungen nach Eigentumsart, Quartier und StatZone 2021/\\u00dcbrige private Gesellschaften/Albisrieden/Zollfreilager\",\"Fertig erstellte Wohnungen nach Eigentumsart, Quartier und StatZone 2021/Nat\\u00fcrliche Personen/Wipkingen/Zschokkestrasse\",\"Fertig erstellte Wohnungen nach Eigentumsart, Quartier und StatZone 2021/\\u00dcbrige private Gesellschaften/Sihlfeld/Zwinglihaus\",\"Fertig erstellte Wohnungen nach Eigentumsart, Quartier und StatZone 2021/Nat\\u00fcrliche Personen/Affoltern\",\"Fertig erstellte Wohnungen nach Eigentumsart, Quartier und StatZone 2021/Im Stockwerkeigentum/Albisrieden\",\"Fertig erstellte Wohnungen nach Eigentumsart, Quartier und StatZone 2021/Nat\\u00fcrliche Personen/Albisrieden\",\"Fertig erstellte Wohnungen nach Eigentumsart, Quartier und StatZone 2021/\\u00dcbrige private Gesellschaften/Albisrieden\",\"Fertig erstellte Wohnungen nach Eigentumsart, Quartier und StatZone 2021/Im Stockwerkeigentum/Alt-Wiedikon\",\"Fertig erstellte Wohnungen nach Eigentumsart, Quartier und StatZone 2021/Im Stockwerkeigentum/Altstetten\",\"Fertig erstellte Wohnungen nach Eigentumsart, Quartier und StatZone 2021/Nat\\u00fcrliche Personen/Altstetten\",\"Fertig erstellte Wohnungen nach Eigentumsart, Quartier und StatZone 2021/Wohnbaugenossenschaften/Altstetten\",\"Fertig erstellte Wohnungen nach Eigentumsart, Quartier und StatZone 2021/\\u00dcbrige private Gesellschaften/Altstetten\",\"Fertig erstellte Wohnungen nach Eigentumsart, Quartier und StatZone 2021/\\u00dcbrige private Gesellschaften/Enge\",\"Fertig erstellte Wohnungen nach Eigentumsart, Quartier und StatZone 2021/Im Stockwerkeigentum/Fluntern\",\"Fertig erstellte Wohnungen nach Eigentumsart, Quartier und StatZone 2021/Nat\\u00fcrliche Personen/Fluntern\",\"Fertig erstellte Wohnungen nach Eigentumsart, Quartier und StatZone 2021/Wohnbaugenossenschaften/Gewerbeschule\",\"Fertig erstellte Wohnungen nach Eigentumsart, Quartier und StatZone 2021/Nat\\u00fcrliche Personen/Hard\",\"Fertig erstellte Wohnungen nach Eigentumsart, Quartier und StatZone 2021/\\u00d6ffentliche Hand/Hard\",\"Fertig erstellte Wohnungen nach Eigentumsart, Quartier und StatZone 2021/Nat\\u00fcrliche Personen/Hirslanden\",\"Fertig erstellte Wohnungen nach Eigentumsart, Quartier und StatZone 2021/Im Stockwerkeigentum/Hottingen\",\"Fertig erstellte Wohnungen nach Eigentumsart, Quartier und StatZone 2021/Im Stockwerkeigentum/H\\u00f6ngg\",\"Fertig erstellte Wohnungen nach Eigentumsart, Quartier und StatZone 2021/Nat\\u00fcrliche Personen/H\\u00f6ngg\",\"Fertig erstellte Wohnungen nach Eigentumsart, Quartier und StatZone 2021/\\u00dcbrige private Gesellschaften/H\\u00f6ngg\",\"Fertig erstellte Wohnungen nach Eigentumsart, Quartier und StatZone 2021/\\u00dcbrige private Gesellschaften/Langstrasse\",\"Fertig erstellte Wohnungen nach Eigentumsart, Quartier und StatZone 2021/Nat\\u00fcrliche Personen/Leimbach\",\"Fertig erstellte Wohnungen nach Eigentumsart, Quartier und StatZone 2021/\\u00dcbrige private Gesellschaften/Leimbach\",\"Fertig erstellte Wohnungen nach Eigentumsart, Quartier und StatZone 2021/Nat\\u00fcrliche Personen/Oberstrass\",\"Fertig erstellte Wohnungen nach Eigentumsart, Quartier und StatZone 2021/\\u00dcbrige private Gesellschaften/Oberstrass\",\"Fertig erstellte Wohnungen nach Eigentumsart, Quartier und StatZone 2021/Nat\\u00fcrliche Personen/Oerlikon\",\"Fertig erstellte Wohnungen nach Eigentumsart, Quartier und StatZone 2021/\\u00dcbrige private Gesellschaften/Oerlikon\",\"Fertig erstellte Wohnungen nach Eigentumsart, Quartier und StatZone 2021/\\u00dcbrige private Gesellschaften/Schwamendingen-Mitte\",\"Fertig erstellte Wohnungen nach Eigentumsart, Quartier und StatZone 2021/Im Stockwerkeigentum/Seebach\",\"Fertig erstellte Wohnungen nach Eigentumsart, Quartier und StatZone 2021/Nat\\u00fcrliche Personen/Seebach\",\"Fertig erstellte Wohnungen nach Eigentumsart, Quartier und StatZone 2021/\\u00dcbrige private Gesellschaften/Seebach\",\"Fertig erstellte Wohnungen nach Eigentumsart, Quartier und StatZone 2021/\\u00d6ffentliche Hand/Seefeld\",\"Fertig erstellte Wohnungen nach Eigentumsart, Quartier und StatZone 2021/\\u00dcbrige private Gesellschaften/Sihlfeld\",\"Fertig erstellte Wohnungen nach Eigentumsart, Quartier und StatZone 2021/Nat\\u00fcrliche Personen/Unterstrass\",\"Fertig erstellte Wohnungen nach Eigentumsart, Quartier und StatZone 2021/Wohnbaugenossenschaften/Unterstrass\",\"Fertig erstellte Wohnungen nach Eigentumsart, Quartier und StatZone 2021/\\u00dcbrige private Gesellschaften/Unterstrass\",\"Fertig erstellte Wohnungen nach Eigentumsart, Quartier und StatZone 2021/\\u00dcbrige private Gesellschaften/Werd\",\"Fertig erstellte Wohnungen nach Eigentumsart, Quartier und StatZone 2021/Nat\\u00fcrliche Personen/Wipkingen\",\"Fertig erstellte Wohnungen nach Eigentumsart, Quartier und StatZone 2021/Im Stockwerkeigentum/Witikon\",\"Fertig erstellte Wohnungen nach Eigentumsart, Quartier und StatZone 2021/Nat\\u00fcrliche Personen/Witikon\",\"Fertig erstellte Wohnungen nach Eigentumsart, Quartier und StatZone 2021/Im Stockwerkeigentum/Wollishofen\",\"Fertig erstellte Wohnungen nach Eigentumsart, Quartier und StatZone 2021/Nat\\u00fcrliche Personen/Wollishofen\",\"Fertig erstellte Wohnungen nach Eigentumsart, Quartier und StatZone 2021/\\u00dcbrige private Gesellschaften/Wollishofen\",\"Fertig erstellte Wohnungen nach Eigentumsart, Quartier und StatZone 2021/Im Stockwerkeigentum\",\"Fertig erstellte Wohnungen nach Eigentumsart, Quartier und StatZone 2021/Nat\\u00fcrliche Personen\",\"Fertig erstellte Wohnungen nach Eigentumsart, Quartier und StatZone 2021/Wohnbaugenossenschaften\",\"Fertig erstellte Wohnungen nach Eigentumsart, Quartier und StatZone 2021/\\u00d6ffentliche Hand\",\"Fertig erstellte Wohnungen nach Eigentumsart, Quartier und StatZone 2021/\\u00dcbrige private Gesellschaften\",\"Fertig erstellte Wohnungen nach Eigentumsart, Quartier und StatZone 2021\"],\"labels\":[\"Ackerstrasse\",\"Bachmatt\",\"Bachmatt\",\"Bauherrenstrasse\",\"Bauherrenstrasse\",\"Bellariastrasse\",\"Bellariastrasse\",\"Bellerive\",\"Belvoir-Park\",\"Buchlern\",\"Bullingerhof\",\"Calanda\",\"Culmannstrasse\",\"Dachslern\",\"Degenried\",\"Dunkelh\\u00f6lzli\",\"Eichb\\u00fchl\",\"Eichb\\u00fchl\",\"Eichb\\u00fchl\",\"Eierbrecht\",\"Espenhof\",\"Ettenfeld\",\"Ettenfeld\",\"Felsenrain\",\"Gorwiden\",\"Grossmannstrasse\",\"Gr\\u00fcnaustrasse\",\"Gsteigstrasse\",\"Hardau\",\"Hochstrasse\",\"H\\u00fcrst\",\"Im Sydef\\u00e4deli\",\"In der Ey\",\"In der Ey\",\"Kalkbreite\",\"Kantonsschule\",\"Kienastenwies\",\"Kienastenwies\",\"K\\u00f6schenr\\u00fcti\",\"Letzigrund\",\"Leutschenbach\",\"Loogarten\",\"Magdalenenstrasse\",\"Marbachweg\",\"Marbachweg\",\"Marktplatz Oerlikon\",\"M\\u00fchlezelgstrasse\",\"Platte\",\"Riedtli\",\"Rigiblick\",\"Rigiviertel\",\"Rosengartenstrasse\",\"R\\u00fctihof\",\"R\\u00fctihof\",\"Saalsporthalle\",\"Scheuchzerstrasse\",\"Scheuchzerstrasse\",\"Sch\\u00fcrgistrasse\",\"Steinkluppe\",\"Steinkluppe\",\"Steinkluppe\",\"Tiefenbrunnen\",\"Toblerstrasse\",\"Verenastrasse\",\"Verenastrasse\",\"Verenastrasse\",\"Wengi\",\"Werdinsel\",\"Zehntenhausplatz\",\"Zollfreilager\",\"Zschokkestrasse\",\"Zwinglihaus\",\"Affoltern\",\"Albisrieden\",\"Albisrieden\",\"Albisrieden\",\"Alt-Wiedikon\",\"Altstetten\",\"Altstetten\",\"Altstetten\",\"Altstetten\",\"Enge\",\"Fluntern\",\"Fluntern\",\"Gewerbeschule\",\"Hard\",\"Hard\",\"Hirslanden\",\"Hottingen\",\"H\\u00f6ngg\",\"H\\u00f6ngg\",\"H\\u00f6ngg\",\"Langstrasse\",\"Leimbach\",\"Leimbach\",\"Oberstrass\",\"Oberstrass\",\"Oerlikon\",\"Oerlikon\",\"Schwamendingen-Mitte\",\"Seebach\",\"Seebach\",\"Seebach\",\"Seefeld\",\"Sihlfeld\",\"Unterstrass\",\"Unterstrass\",\"Unterstrass\",\"Werd\",\"Wipkingen\",\"Witikon\",\"Witikon\",\"Wollishofen\",\"Wollishofen\",\"Wollishofen\",\"Im Stockwerkeigentum\",\"Nat\\u00fcrliche Personen\",\"Wohnbaugenossenschaften\",\"\\u00d6ffentliche Hand\",\"\\u00dcbrige private Gesellschaften\",\"Fertig erstellte Wohnungen nach Eigentumsart, Quartier und StatZone 2021\"],\"marker\":{\"coloraxis\":\"coloraxis\",\"colors\":[55.0,15.0,13.0,6.0,20.0,6.0,180.0,61.0,18.0,1.0,30.0,11.0,9.0,57.0,2.0,13.0,7.0,7.0,66.0,3.0,9.0,4.0,66.0,135.0,16.0,2.0,11.0,6.0,46.0,9.0,1.0,9.0,8.0,35.0,80.0,10.0,7.0,15.0,5.0,173.0,4.0,10.0,24.0,11.0,129.0,18.0,14.0,14.0,21.0,2.0,5.0,5.0,8.0,11.0,5.0,10.0,42.0,14.0,24.0,36.0,67.0,60.0,9.0,10.0,4.0,14.0,15.0,10.0,57.0,23.0,9.0,17.0,56.03448275862069,11.818181818181818,35.0,19.0625,5.0,12.657142857142857,8.333333333333334,173.0,50.734177215189874,18.0,14.0,9.0,55.0,30.0,46.0,2.0,10.0,8.333333333333334,8.473684210526315,20.0,15.0,11.0,129.0,16.785714285714285,9.0,21.428571428571427,16.0,14.0,4.0,4.0,109.7378640776699,60.50413223140496,17.0,19.88235294117647,39.23076923076923,67.0,80.0,8.130434782608695,7.0,13.0,10.0,5.2,168.02061855670104,10.603053435114504,24.30857142857143,117.69281045751634,56.50898203592814,95.51692307692308,76.97096941420425]},\"name\":\"\",\"parents\":[\"Fertig erstellte Wohnungen nach Eigentumsart, Quartier und StatZone 2021/Wohnbaugenossenschaften/Gewerbeschule\",\"Fertig erstellte Wohnungen nach Eigentumsart, Quartier und StatZone 2021/Im Stockwerkeigentum/Altstetten\",\"Fertig erstellte Wohnungen nach Eigentumsart, Quartier und StatZone 2021/\\u00dcbrige private Gesellschaften/Altstetten\",\"Fertig erstellte Wohnungen nach Eigentumsart, Quartier und StatZone 2021/Nat\\u00fcrliche Personen/H\\u00f6ngg\",\"Fertig erstellte Wohnungen nach Eigentumsart, Quartier und StatZone 2021/\\u00dcbrige private Gesellschaften/H\\u00f6ngg\",\"Fertig erstellte Wohnungen nach Eigentumsart, Quartier und StatZone 2021/Nat\\u00fcrliche Personen/Wollishofen\",\"Fertig erstellte Wohnungen nach Eigentumsart, Quartier und StatZone 2021/\\u00dcbrige private Gesellschaften/Wollishofen\",\"Fertig erstellte Wohnungen nach Eigentumsart, Quartier und StatZone 2021/\\u00d6ffentliche Hand/Seefeld\",\"Fertig erstellte Wohnungen nach Eigentumsart, Quartier und StatZone 2021/\\u00dcbrige private Gesellschaften/Enge\",\"Fertig erstellte Wohnungen nach Eigentumsart, Quartier und StatZone 2021/Nat\\u00fcrliche Personen/Altstetten\",\"Fertig erstellte Wohnungen nach Eigentumsart, Quartier und StatZone 2021/Nat\\u00fcrliche Personen/Hard\",\"Fertig erstellte Wohnungen nach Eigentumsart, Quartier und StatZone 2021/\\u00dcbrige private Gesellschaften/Altstetten\",\"Fertig erstellte Wohnungen nach Eigentumsart, Quartier und StatZone 2021/\\u00dcbrige private Gesellschaften/Oberstrass\",\"Fertig erstellte Wohnungen nach Eigentumsart, Quartier und StatZone 2021/\\u00dcbrige private Gesellschaften/Altstetten\",\"Fertig erstellte Wohnungen nach Eigentumsart, Quartier und StatZone 2021/Nat\\u00fcrliche Personen/Hirslanden\",\"Fertig erstellte Wohnungen nach Eigentumsart, Quartier und StatZone 2021/Im Stockwerkeigentum/Altstetten\",\"Fertig erstellte Wohnungen nach Eigentumsart, Quartier und StatZone 2021/Im Stockwerkeigentum/Altstetten\",\"Fertig erstellte Wohnungen nach Eigentumsart, Quartier und StatZone 2021/Nat\\u00fcrliche Personen/Altstetten\",\"Fertig erstellte Wohnungen nach Eigentumsart, Quartier und StatZone 2021/\\u00dcbrige private Gesellschaften/Altstetten\",\"Fertig erstellte Wohnungen nach Eigentumsart, Quartier und StatZone 2021/Nat\\u00fcrliche Personen/Witikon\",\"Fertig erstellte Wohnungen nach Eigentumsart, Quartier und StatZone 2021/\\u00dcbrige private Gesellschaften/Albisrieden\",\"Fertig erstellte Wohnungen nach Eigentumsart, Quartier und StatZone 2021/Nat\\u00fcrliche Personen/Seebach\",\"Fertig erstellte Wohnungen nach Eigentumsart, Quartier und StatZone 2021/\\u00dcbrige private Gesellschaften/Seebach\",\"Fertig erstellte Wohnungen nach Eigentumsart, Quartier und StatZone 2021/\\u00dcbrige private Gesellschaften/Seebach\",\"Fertig erstellte Wohnungen nach Eigentumsart, Quartier und StatZone 2021/\\u00dcbrige private Gesellschaften/Oerlikon\",\"Fertig erstellte Wohnungen nach Eigentumsart, Quartier und StatZone 2021/Nat\\u00fcrliche Personen/H\\u00f6ngg\",\"Fertig erstellte Wohnungen nach Eigentumsart, Quartier und StatZone 2021/\\u00dcbrige private Gesellschaften/Altstetten\",\"Fertig erstellte Wohnungen nach Eigentumsart, Quartier und StatZone 2021/Im Stockwerkeigentum/H\\u00f6ngg\",\"Fertig erstellte Wohnungen nach Eigentumsart, Quartier und StatZone 2021/\\u00d6ffentliche Hand/Hard\",\"Fertig erstellte Wohnungen nach Eigentumsart, Quartier und StatZone 2021/Nat\\u00fcrliche Personen/Fluntern\",\"Fertig erstellte Wohnungen nach Eigentumsart, Quartier und StatZone 2021/Nat\\u00fcrliche Personen/Affoltern\",\"Fertig erstellte Wohnungen nach Eigentumsart, Quartier und StatZone 2021/Nat\\u00fcrliche Personen/Wipkingen\",\"Fertig erstellte Wohnungen nach Eigentumsart, Quartier und StatZone 2021/Im Stockwerkeigentum/Albisrieden\",\"Fertig erstellte Wohnungen nach Eigentumsart, Quartier und StatZone 2021/Nat\\u00fcrliche Personen/Albisrieden\",\"Fertig erstellte Wohnungen nach Eigentumsart, Quartier und StatZone 2021/\\u00dcbrige private Gesellschaften/Werd\",\"Fertig erstellte Wohnungen nach Eigentumsart, Quartier und StatZone 2021/Im Stockwerkeigentum/Hottingen\",\"Fertig erstellte Wohnungen nach Eigentumsart, Quartier und StatZone 2021/Im Stockwerkeigentum/Witikon\",\"Fertig erstellte Wohnungen nach Eigentumsart, Quartier und StatZone 2021/Nat\\u00fcrliche Personen/Witikon\",\"Fertig erstellte Wohnungen nach Eigentumsart, Quartier und StatZone 2021/\\u00dcbrige private Gesellschaften/Seebach\",\"Fertig erstellte Wohnungen nach Eigentumsart, Quartier und StatZone 2021/Wohnbaugenossenschaften/Altstetten\",\"Fertig erstellte Wohnungen nach Eigentumsart, Quartier und StatZone 2021/Im Stockwerkeigentum/Seebach\",\"Fertig erstellte Wohnungen nach Eigentumsart, Quartier und StatZone 2021/Nat\\u00fcrliche Personen/Altstetten\",\"Fertig erstellte Wohnungen nach Eigentumsart, Quartier und StatZone 2021/Nat\\u00fcrliche Personen/Oerlikon\",\"Fertig erstellte Wohnungen nach Eigentumsart, Quartier und StatZone 2021/Nat\\u00fcrliche Personen/Leimbach\",\"Fertig erstellte Wohnungen nach Eigentumsart, Quartier und StatZone 2021/\\u00dcbrige private Gesellschaften/Leimbach\",\"Fertig erstellte Wohnungen nach Eigentumsart, Quartier und StatZone 2021/Nat\\u00fcrliche Personen/Oerlikon\",\"Fertig erstellte Wohnungen nach Eigentumsart, Quartier und StatZone 2021/Im Stockwerkeigentum/Albisrieden\",\"Fertig erstellte Wohnungen nach Eigentumsart, Quartier und StatZone 2021/Im Stockwerkeigentum/Fluntern\",\"Fertig erstellte Wohnungen nach Eigentumsart, Quartier und StatZone 2021/Nat\\u00fcrliche Personen/Oberstrass\",\"Fertig erstellte Wohnungen nach Eigentumsart, Quartier und StatZone 2021/Nat\\u00fcrliche Personen/Oberstrass\",\"Fertig erstellte Wohnungen nach Eigentumsart, Quartier und StatZone 2021/Nat\\u00fcrliche Personen/Oberstrass\",\"Fertig erstellte Wohnungen nach Eigentumsart, Quartier und StatZone 2021/Nat\\u00fcrliche Personen/Wipkingen\",\"Fertig erstellte Wohnungen nach Eigentumsart, Quartier und StatZone 2021/Im Stockwerkeigentum/H\\u00f6ngg\",\"Fertig erstellte Wohnungen nach Eigentumsart, Quartier und StatZone 2021/Nat\\u00fcrliche Personen/H\\u00f6ngg\",\"Fertig erstellte Wohnungen nach Eigentumsart, Quartier und StatZone 2021/Im Stockwerkeigentum/Alt-Wiedikon\",\"Fertig erstellte Wohnungen nach Eigentumsart, Quartier und StatZone 2021/Nat\\u00fcrliche Personen/Unterstrass\",\"Fertig erstellte Wohnungen nach Eigentumsart, Quartier und StatZone 2021/Wohnbaugenossenschaften/Unterstrass\",\"Fertig erstellte Wohnungen nach Eigentumsart, Quartier und StatZone 2021/\\u00dcbrige private Gesellschaften/Schwamendingen-Mitte\",\"Fertig erstellte Wohnungen nach Eigentumsart, Quartier und StatZone 2021/Nat\\u00fcrliche Personen/Unterstrass\",\"Fertig erstellte Wohnungen nach Eigentumsart, Quartier und StatZone 2021/Wohnbaugenossenschaften/Unterstrass\",\"Fertig erstellte Wohnungen nach Eigentumsart, Quartier und StatZone 2021/\\u00dcbrige private Gesellschaften/Unterstrass\",\"Fertig erstellte Wohnungen nach Eigentumsart, Quartier und StatZone 2021/\\u00d6ffentliche Hand/Seefeld\",\"Fertig erstellte Wohnungen nach Eigentumsart, Quartier und StatZone 2021/Nat\\u00fcrliche Personen/Fluntern\",\"Fertig erstellte Wohnungen nach Eigentumsart, Quartier und StatZone 2021/Im Stockwerkeigentum/Wollishofen\",\"Fertig erstellte Wohnungen nach Eigentumsart, Quartier und StatZone 2021/Nat\\u00fcrliche Personen/Wollishofen\",\"Fertig erstellte Wohnungen nach Eigentumsart, Quartier und StatZone 2021/\\u00dcbrige private Gesellschaften/Wollishofen\",\"Fertig erstellte Wohnungen nach Eigentumsart, Quartier und StatZone 2021/\\u00dcbrige private Gesellschaften/Langstrasse\",\"Fertig erstellte Wohnungen nach Eigentumsart, Quartier und StatZone 2021/Im Stockwerkeigentum/H\\u00f6ngg\",\"Fertig erstellte Wohnungen nach Eigentumsart, Quartier und StatZone 2021/Nat\\u00fcrliche Personen/Affoltern\",\"Fertig erstellte Wohnungen nach Eigentumsart, Quartier und StatZone 2021/\\u00dcbrige private Gesellschaften/Albisrieden\",\"Fertig erstellte Wohnungen nach Eigentumsart, Quartier und StatZone 2021/Nat\\u00fcrliche Personen/Wipkingen\",\"Fertig erstellte Wohnungen nach Eigentumsart, Quartier und StatZone 2021/\\u00dcbrige private Gesellschaften/Sihlfeld\",\"Fertig erstellte Wohnungen nach Eigentumsart, Quartier und StatZone 2021/Nat\\u00fcrliche Personen\",\"Fertig erstellte Wohnungen nach Eigentumsart, Quartier und StatZone 2021/Im Stockwerkeigentum\",\"Fertig erstellte Wohnungen nach Eigentumsart, Quartier und StatZone 2021/Nat\\u00fcrliche Personen\",\"Fertig erstellte Wohnungen nach Eigentumsart, Quartier und StatZone 2021/\\u00dcbrige private Gesellschaften\",\"Fertig erstellte Wohnungen nach Eigentumsart, Quartier und StatZone 2021/Im Stockwerkeigentum\",\"Fertig erstellte Wohnungen nach Eigentumsart, Quartier und StatZone 2021/Im Stockwerkeigentum\",\"Fertig erstellte Wohnungen nach Eigentumsart, Quartier und StatZone 2021/Nat\\u00fcrliche Personen\",\"Fertig erstellte Wohnungen nach Eigentumsart, Quartier und StatZone 2021/Wohnbaugenossenschaften\",\"Fertig erstellte Wohnungen nach Eigentumsart, Quartier und StatZone 2021/\\u00dcbrige private Gesellschaften\",\"Fertig erstellte Wohnungen nach Eigentumsart, Quartier und StatZone 2021/\\u00dcbrige private Gesellschaften\",\"Fertig erstellte Wohnungen nach Eigentumsart, Quartier und StatZone 2021/Im Stockwerkeigentum\",\"Fertig erstellte Wohnungen nach Eigentumsart, Quartier und StatZone 2021/Nat\\u00fcrliche Personen\",\"Fertig erstellte Wohnungen nach Eigentumsart, Quartier und StatZone 2021/Wohnbaugenossenschaften\",\"Fertig erstellte Wohnungen nach Eigentumsart, Quartier und StatZone 2021/Nat\\u00fcrliche Personen\",\"Fertig erstellte Wohnungen nach Eigentumsart, Quartier und StatZone 2021/\\u00d6ffentliche Hand\",\"Fertig erstellte Wohnungen nach Eigentumsart, Quartier und StatZone 2021/Nat\\u00fcrliche Personen\",\"Fertig erstellte Wohnungen nach Eigentumsart, Quartier und StatZone 2021/Im Stockwerkeigentum\",\"Fertig erstellte Wohnungen nach Eigentumsart, Quartier und StatZone 2021/Im Stockwerkeigentum\",\"Fertig erstellte Wohnungen nach Eigentumsart, Quartier und StatZone 2021/Nat\\u00fcrliche Personen\",\"Fertig erstellte Wohnungen nach Eigentumsart, Quartier und StatZone 2021/\\u00dcbrige private Gesellschaften\",\"Fertig erstellte Wohnungen nach Eigentumsart, Quartier und StatZone 2021/\\u00dcbrige private Gesellschaften\",\"Fertig erstellte Wohnungen nach Eigentumsart, Quartier und StatZone 2021/Nat\\u00fcrliche Personen\",\"Fertig erstellte Wohnungen nach Eigentumsart, Quartier und StatZone 2021/\\u00dcbrige private Gesellschaften\",\"Fertig erstellte Wohnungen nach Eigentumsart, Quartier und StatZone 2021/Nat\\u00fcrliche Personen\",\"Fertig erstellte Wohnungen nach Eigentumsart, Quartier und StatZone 2021/\\u00dcbrige private Gesellschaften\",\"Fertig erstellte Wohnungen nach Eigentumsart, Quartier und StatZone 2021/Nat\\u00fcrliche Personen\",\"Fertig erstellte Wohnungen nach Eigentumsart, Quartier und StatZone 2021/\\u00dcbrige private Gesellschaften\",\"Fertig erstellte Wohnungen nach Eigentumsart, Quartier und StatZone 2021/\\u00dcbrige private Gesellschaften\",\"Fertig erstellte Wohnungen nach Eigentumsart, Quartier und StatZone 2021/Im Stockwerkeigentum\",\"Fertig erstellte Wohnungen nach Eigentumsart, Quartier und StatZone 2021/Nat\\u00fcrliche Personen\",\"Fertig erstellte Wohnungen nach Eigentumsart, Quartier und StatZone 2021/\\u00dcbrige private Gesellschaften\",\"Fertig erstellte Wohnungen nach Eigentumsart, Quartier und StatZone 2021/\\u00d6ffentliche Hand\",\"Fertig erstellte Wohnungen nach Eigentumsart, Quartier und StatZone 2021/\\u00dcbrige private Gesellschaften\",\"Fertig erstellte Wohnungen nach Eigentumsart, Quartier und StatZone 2021/Nat\\u00fcrliche Personen\",\"Fertig erstellte Wohnungen nach Eigentumsart, Quartier und StatZone 2021/Wohnbaugenossenschaften\",\"Fertig erstellte Wohnungen nach Eigentumsart, Quartier und StatZone 2021/\\u00dcbrige private Gesellschaften\",\"Fertig erstellte Wohnungen nach Eigentumsart, Quartier und StatZone 2021/\\u00dcbrige private Gesellschaften\",\"Fertig erstellte Wohnungen nach Eigentumsart, Quartier und StatZone 2021/Nat\\u00fcrliche Personen\",\"Fertig erstellte Wohnungen nach Eigentumsart, Quartier und StatZone 2021/Im Stockwerkeigentum\",\"Fertig erstellte Wohnungen nach Eigentumsart, Quartier und StatZone 2021/Nat\\u00fcrliche Personen\",\"Fertig erstellte Wohnungen nach Eigentumsart, Quartier und StatZone 2021/Im Stockwerkeigentum\",\"Fertig erstellte Wohnungen nach Eigentumsart, Quartier und StatZone 2021/Nat\\u00fcrliche Personen\",\"Fertig erstellte Wohnungen nach Eigentumsart, Quartier und StatZone 2021/\\u00dcbrige private Gesellschaften\",\"Fertig erstellte Wohnungen nach Eigentumsart, Quartier und StatZone 2021\",\"Fertig erstellte Wohnungen nach Eigentumsart, Quartier und StatZone 2021\",\"Fertig erstellte Wohnungen nach Eigentumsart, Quartier und StatZone 2021\",\"Fertig erstellte Wohnungen nach Eigentumsart, Quartier und StatZone 2021\",\"Fertig erstellte Wohnungen nach Eigentumsart, Quartier und StatZone 2021\",\"\"],\"root\":{\"color\":\"grey\"},\"type\":\"treemap\",\"values\":[55,15,13,6,20,6,180,61,18,1,30,11,9,57,2,13,7,7,66,3,9,4,66,135,16,2,11,6,46,9,1,9,8,35,80,10,7,15,5,173,4,10,24,11,129,18,14,14,21,2,5,5,8,11,5,10,42,14,24,36,67,60,9,10,4,14,15,10,57,23,9,17,58,22,35,32,5,35,18,173,158,18,14,18,55,30,46,2,10,24,19,20,15,11,129,28,9,42,16,14,4,4,206,121,17,34,78,67,80,23,7,18,10,10,194,131,350,306,167,975,1929]}],                        {\"coloraxis\":{\"colorbar\":{\"title\":{\"text\":\"sum_Whg_fertigerstellt\"}},\"colorscale\":[[0.0,\"#00224e\"],[0.1111111111111111,\"#123570\"],[0.2222222222222222,\"#3b496c\"],[0.3333333333333333,\"#575d6d\"],[0.4444444444444444,\"#707173\"],[0.5555555555555556,\"#8a8678\"],[0.6666666666666666,\"#a59c74\"],[0.7777777777777778,\"#c3b369\"],[0.8888888888888888,\"#e1cc55\"],[1.0,\"#fee838\"]]},\"height\":500,\"legend\":{\"tracegroupgap\":0},\"margin\":{\"b\":25,\"l\":25,\"r\":250,\"t\":50},\"template\":{\"data\":{\"bar\":[{\"error_x\":{\"color\":\"#2a3f5f\"},\"error_y\":{\"color\":\"#2a3f5f\"},\"marker\":{\"line\":{\"color\":\"#E5ECF6\",\"width\":0.5},\"pattern\":{\"fillmode\":\"overlay\",\"size\":10,\"solidity\":0.2}},\"type\":\"bar\"}],\"barpolar\":[{\"marker\":{\"line\":{\"color\":\"#E5ECF6\",\"width\":0.5},\"pattern\":{\"fillmode\":\"overlay\",\"size\":10,\"solidity\":0.2}},\"type\":\"barpolar\"}],\"carpet\":[{\"aaxis\":{\"endlinecolor\":\"#2a3f5f\",\"gridcolor\":\"white\",\"linecolor\":\"white\",\"minorgridcolor\":\"white\",\"startlinecolor\":\"#2a3f5f\"},\"baxis\":{\"endlinecolor\":\"#2a3f5f\",\"gridcolor\":\"white\",\"linecolor\":\"white\",\"minorgridcolor\":\"white\",\"startlinecolor\":\"#2a3f5f\"},\"type\":\"carpet\"}],\"choropleth\":[{\"colorbar\":{\"outlinewidth\":0,\"ticks\":\"\"},\"type\":\"choropleth\"}],\"contour\":[{\"colorbar\":{\"outlinewidth\":0,\"ticks\":\"\"},\"colorscale\":[[0.0,\"#0d0887\"],[0.1111111111111111,\"#46039f\"],[0.2222222222222222,\"#7201a8\"],[0.3333333333333333,\"#9c179e\"],[0.4444444444444444,\"#bd3786\"],[0.5555555555555556,\"#d8576b\"],[0.6666666666666666,\"#ed7953\"],[0.7777777777777778,\"#fb9f3a\"],[0.8888888888888888,\"#fdca26\"],[1.0,\"#f0f921\"]],\"type\":\"contour\"}],\"contourcarpet\":[{\"colorbar\":{\"outlinewidth\":0,\"ticks\":\"\"},\"type\":\"contourcarpet\"}],\"heatmap\":[{\"colorbar\":{\"outlinewidth\":0,\"ticks\":\"\"},\"colorscale\":[[0.0,\"#0d0887\"],[0.1111111111111111,\"#46039f\"],[0.2222222222222222,\"#7201a8\"],[0.3333333333333333,\"#9c179e\"],[0.4444444444444444,\"#bd3786\"],[0.5555555555555556,\"#d8576b\"],[0.6666666666666666,\"#ed7953\"],[0.7777777777777778,\"#fb9f3a\"],[0.8888888888888888,\"#fdca26\"],[1.0,\"#f0f921\"]],\"type\":\"heatmap\"}],\"heatmapgl\":[{\"colorbar\":{\"outlinewidth\":0,\"ticks\":\"\"},\"colorscale\":[[0.0,\"#0d0887\"],[0.1111111111111111,\"#46039f\"],[0.2222222222222222,\"#7201a8\"],[0.3333333333333333,\"#9c179e\"],[0.4444444444444444,\"#bd3786\"],[0.5555555555555556,\"#d8576b\"],[0.6666666666666666,\"#ed7953\"],[0.7777777777777778,\"#fb9f3a\"],[0.8888888888888888,\"#fdca26\"],[1.0,\"#f0f921\"]],\"type\":\"heatmapgl\"}],\"histogram\":[{\"marker\":{\"pattern\":{\"fillmode\":\"overlay\",\"size\":10,\"solidity\":0.2}},\"type\":\"histogram\"}],\"histogram2d\":[{\"colorbar\":{\"outlinewidth\":0,\"ticks\":\"\"},\"colorscale\":[[0.0,\"#0d0887\"],[0.1111111111111111,\"#46039f\"],[0.2222222222222222,\"#7201a8\"],[0.3333333333333333,\"#9c179e\"],[0.4444444444444444,\"#bd3786\"],[0.5555555555555556,\"#d8576b\"],[0.6666666666666666,\"#ed7953\"],[0.7777777777777778,\"#fb9f3a\"],[0.8888888888888888,\"#fdca26\"],[1.0,\"#f0f921\"]],\"type\":\"histogram2d\"}],\"histogram2dcontour\":[{\"colorbar\":{\"outlinewidth\":0,\"ticks\":\"\"},\"colorscale\":[[0.0,\"#0d0887\"],[0.1111111111111111,\"#46039f\"],[0.2222222222222222,\"#7201a8\"],[0.3333333333333333,\"#9c179e\"],[0.4444444444444444,\"#bd3786\"],[0.5555555555555556,\"#d8576b\"],[0.6666666666666666,\"#ed7953\"],[0.7777777777777778,\"#fb9f3a\"],[0.8888888888888888,\"#fdca26\"],[1.0,\"#f0f921\"]],\"type\":\"histogram2dcontour\"}],\"mesh3d\":[{\"colorbar\":{\"outlinewidth\":0,\"ticks\":\"\"},\"type\":\"mesh3d\"}],\"parcoords\":[{\"line\":{\"colorbar\":{\"outlinewidth\":0,\"ticks\":\"\"}},\"type\":\"parcoords\"}],\"pie\":[{\"automargin\":true,\"type\":\"pie\"}],\"scatter\":[{\"marker\":{\"colorbar\":{\"outlinewidth\":0,\"ticks\":\"\"}},\"type\":\"scatter\"}],\"scatter3d\":[{\"line\":{\"colorbar\":{\"outlinewidth\":0,\"ticks\":\"\"}},\"marker\":{\"colorbar\":{\"outlinewidth\":0,\"ticks\":\"\"}},\"type\":\"scatter3d\"}],\"scattercarpet\":[{\"marker\":{\"colorbar\":{\"outlinewidth\":0,\"ticks\":\"\"}},\"type\":\"scattercarpet\"}],\"scattergeo\":[{\"marker\":{\"colorbar\":{\"outlinewidth\":0,\"ticks\":\"\"}},\"type\":\"scattergeo\"}],\"scattergl\":[{\"marker\":{\"colorbar\":{\"outlinewidth\":0,\"ticks\":\"\"}},\"type\":\"scattergl\"}],\"scattermapbox\":[{\"marker\":{\"colorbar\":{\"outlinewidth\":0,\"ticks\":\"\"}},\"type\":\"scattermapbox\"}],\"scatterpolar\":[{\"marker\":{\"colorbar\":{\"outlinewidth\":0,\"ticks\":\"\"}},\"type\":\"scatterpolar\"}],\"scatterpolargl\":[{\"marker\":{\"colorbar\":{\"outlinewidth\":0,\"ticks\":\"\"}},\"type\":\"scatterpolargl\"}],\"scatterternary\":[{\"marker\":{\"colorbar\":{\"outlinewidth\":0,\"ticks\":\"\"}},\"type\":\"scatterternary\"}],\"surface\":[{\"colorbar\":{\"outlinewidth\":0,\"ticks\":\"\"},\"colorscale\":[[0.0,\"#0d0887\"],[0.1111111111111111,\"#46039f\"],[0.2222222222222222,\"#7201a8\"],[0.3333333333333333,\"#9c179e\"],[0.4444444444444444,\"#bd3786\"],[0.5555555555555556,\"#d8576b\"],[0.6666666666666666,\"#ed7953\"],[0.7777777777777778,\"#fb9f3a\"],[0.8888888888888888,\"#fdca26\"],[1.0,\"#f0f921\"]],\"type\":\"surface\"}],\"table\":[{\"cells\":{\"fill\":{\"color\":\"#EBF0F8\"},\"line\":{\"color\":\"white\"}},\"header\":{\"fill\":{\"color\":\"#C8D4E3\"},\"line\":{\"color\":\"white\"}},\"type\":\"table\"}]},\"layout\":{\"annotationdefaults\":{\"arrowcolor\":\"#2a3f5f\",\"arrowhead\":0,\"arrowwidth\":1},\"autotypenumbers\":\"strict\",\"coloraxis\":{\"colorbar\":{\"outlinewidth\":0,\"ticks\":\"\"}},\"colorscale\":{\"diverging\":[[0,\"#8e0152\"],[0.1,\"#c51b7d\"],[0.2,\"#de77ae\"],[0.3,\"#f1b6da\"],[0.4,\"#fde0ef\"],[0.5,\"#f7f7f7\"],[0.6,\"#e6f5d0\"],[0.7,\"#b8e186\"],[0.8,\"#7fbc41\"],[0.9,\"#4d9221\"],[1,\"#276419\"]],\"sequential\":[[0.0,\"#0d0887\"],[0.1111111111111111,\"#46039f\"],[0.2222222222222222,\"#7201a8\"],[0.3333333333333333,\"#9c179e\"],[0.4444444444444444,\"#bd3786\"],[0.5555555555555556,\"#d8576b\"],[0.6666666666666666,\"#ed7953\"],[0.7777777777777778,\"#fb9f3a\"],[0.8888888888888888,\"#fdca26\"],[1.0,\"#f0f921\"]],\"sequentialminus\":[[0.0,\"#0d0887\"],[0.1111111111111111,\"#46039f\"],[0.2222222222222222,\"#7201a8\"],[0.3333333333333333,\"#9c179e\"],[0.4444444444444444,\"#bd3786\"],[0.5555555555555556,\"#d8576b\"],[0.6666666666666666,\"#ed7953\"],[0.7777777777777778,\"#fb9f3a\"],[0.8888888888888888,\"#fdca26\"],[1.0,\"#f0f921\"]]},\"colorway\":[\"#636efa\",\"#EF553B\",\"#00cc96\",\"#ab63fa\",\"#FFA15A\",\"#19d3f3\",\"#FF6692\",\"#B6E880\",\"#FF97FF\",\"#FECB52\"],\"font\":{\"color\":\"#2a3f5f\"},\"geo\":{\"bgcolor\":\"white\",\"lakecolor\":\"white\",\"landcolor\":\"#E5ECF6\",\"showlakes\":true,\"showland\":true,\"subunitcolor\":\"white\"},\"hoverlabel\":{\"align\":\"left\"},\"hovermode\":\"closest\",\"mapbox\":{\"style\":\"light\"},\"paper_bgcolor\":\"white\",\"plot_bgcolor\":\"#E5ECF6\",\"polar\":{\"angularaxis\":{\"gridcolor\":\"white\",\"linecolor\":\"white\",\"ticks\":\"\"},\"bgcolor\":\"#E5ECF6\",\"radialaxis\":{\"gridcolor\":\"white\",\"linecolor\":\"white\",\"ticks\":\"\"}},\"scene\":{\"xaxis\":{\"backgroundcolor\":\"#E5ECF6\",\"gridcolor\":\"white\",\"gridwidth\":2,\"linecolor\":\"white\",\"showbackground\":true,\"ticks\":\"\",\"zerolinecolor\":\"white\"},\"yaxis\":{\"backgroundcolor\":\"#E5ECF6\",\"gridcolor\":\"white\",\"gridwidth\":2,\"linecolor\":\"white\",\"showbackground\":true,\"ticks\":\"\",\"zerolinecolor\":\"white\"},\"zaxis\":{\"backgroundcolor\":\"#E5ECF6\",\"gridcolor\":\"white\",\"gridwidth\":2,\"linecolor\":\"white\",\"showbackground\":true,\"ticks\":\"\",\"zerolinecolor\":\"white\"}},\"shapedefaults\":{\"line\":{\"color\":\"#2a3f5f\"}},\"ternary\":{\"aaxis\":{\"gridcolor\":\"white\",\"linecolor\":\"white\",\"ticks\":\"\"},\"baxis\":{\"gridcolor\":\"white\",\"linecolor\":\"white\",\"ticks\":\"\"},\"bgcolor\":\"#E5ECF6\",\"caxis\":{\"gridcolor\":\"white\",\"linecolor\":\"white\",\"ticks\":\"\"}},\"title\":{\"x\":0.05},\"xaxis\":{\"automargin\":true,\"gridcolor\":\"white\",\"linecolor\":\"white\",\"ticks\":\"\",\"title\":{\"standoff\":15},\"zerolinecolor\":\"white\",\"zerolinewidth\":2},\"yaxis\":{\"automargin\":true,\"gridcolor\":\"white\",\"linecolor\":\"white\",\"ticks\":\"\",\"title\":{\"standoff\":15},\"zerolinecolor\":\"white\",\"zerolinewidth\":2}}},\"width\":1100},                        {\"responsive\": true}                    ).then(function(){\n",
       "                            \n",
       "var gd = document.getElementById('60cc092d-fbbd-46b6-9a10-2172f7cbc9b6');\n",
       "var x = new MutationObserver(function (mutations, observer) {{\n",
       "        var display = window.getComputedStyle(gd).display;\n",
       "        if (!display || display === 'none') {{\n",
       "            console.log([gd, 'removed!']);\n",
       "            Plotly.purge(gd);\n",
       "            observer.disconnect();\n",
       "        }}\n",
       "}});\n",
       "\n",
       "// Listen for the removal of the full notebook cells\n",
       "var notebookContainer = gd.closest('#notebook-container');\n",
       "if (notebookContainer) {{\n",
       "    x.observe(notebookContainer, {childList: true});\n",
       "}}\n",
       "\n",
       "// Listen for the clearing of the current output cell\n",
       "var outputEl = gd.closest('.output');\n",
       "if (outputEl) {{\n",
       "    x.observe(outputEl, {childList: true});\n",
       "}}\n",
       "\n",
       "                        })                };                });            </script>        </div>"
      ]
     },
     "metadata": {},
     "output_type": "display_data"
    }
   ],
   "source": [
    "fig = px.treemap(myTreemapAgg.query('sum_Whg_fertigerstellt >0').reset_index(), path=[px.Constant(\"Fertig erstellte Wohnungen nach Eigentumsart, Quartier und StatZone 2021\")\n",
    "                                                                                      , 'Eigentumsart','QuarLang','StatZone']\n",
    "                 , values='sum_Whg_fertigerstellt'\n",
    "                 , color='sum_Whg_fertigerstellt'\n",
    "                 ## bei discrete scales (bei Klassen und Strings):                 \n",
    "                 #, color_discrete_map={'(?)':'lightgrey','EVP':'gold', 'SP':'#FF3030', 'PdA':'#EE3B3B', 'Grüne':'#A2CD5A','GLP':'#CAFF70','Die Mitte':'orange','FDP':'#104E8B','AL':'deeppink','SVP':'forestgreen', 'FL ZÜRI':'#8B864E','Volt':'#lightblue' }                \n",
    "                 ## bei continuous scales (bei Zahlenwerten):\n",
    "                , color_continuous_scale='cividis'\n",
    "                #, color_continuous_midpoint=np.average(df['AnzBestWir'], weights=df['AnzBestWir'])  \n",
    "                 ,height=500\n",
    "                 ,width=1100                 \n",
    "                )\n",
    "fig.update_traces(root_color=\"grey\")\n",
    "fig.update_layout(margin = dict(t=50, l=25, r=250, b=25))\n",
    "fig.show()"
   ]
  },
  {
   "cell_type": "markdown",
   "metadata": {
    "tags": []
   },
   "source": [
    "#### Fertig erstellte Wohnungen nach Jahr und Quartier seit 2009"
   ]
  },
  {
   "cell_type": "code",
   "execution_count": 108,
   "metadata": {},
   "outputs": [],
   "source": [
    "#data2betested.dtypes"
   ]
  },
  {
   "cell_type": "code",
   "execution_count": 109,
   "metadata": {
    "tags": []
   },
   "outputs": [
    {
     "data": {
      "text/html": [
       "<div>\n",
       "<style scoped>\n",
       "    .dataframe tbody tr th:only-of-type {\n",
       "        vertical-align: middle;\n",
       "    }\n",
       "\n",
       "    .dataframe tbody tr th {\n",
       "        vertical-align: top;\n",
       "    }\n",
       "\n",
       "    .dataframe thead th {\n",
       "        text-align: right;\n",
       "    }\n",
       "</style>\n",
       "<table border=\"1\" class=\"dataframe\">\n",
       "  <thead>\n",
       "    <tr style=\"text-align: right;\">\n",
       "      <th></th>\n",
       "      <th>Jahr</th>\n",
       "      <th>QuarLang</th>\n",
       "      <th>sum_Whg_abgebrochen</th>\n",
       "      <th>sum_Whg_fertigerstellt</th>\n",
       "    </tr>\n",
       "  </thead>\n",
       "  <tbody>\n",
       "    <tr>\n",
       "      <th>0</th>\n",
       "      <td>2021-01-01</td>\n",
       "      <td>Wollishofen</td>\n",
       "      <td>4</td>\n",
       "      <td>214</td>\n",
       "    </tr>\n",
       "    <tr>\n",
       "      <th>1</th>\n",
       "      <td>2014-01-01</td>\n",
       "      <td>Wollishofen</td>\n",
       "      <td>91</td>\n",
       "      <td>75</td>\n",
       "    </tr>\n",
       "    <tr>\n",
       "      <th>2</th>\n",
       "      <td>2012-01-01</td>\n",
       "      <td>Wollishofen</td>\n",
       "      <td>30</td>\n",
       "      <td>38</td>\n",
       "    </tr>\n",
       "  </tbody>\n",
       "</table>\n",
       "</div>"
      ],
      "text/plain": [
       "        Jahr     QuarLang  sum_Whg_abgebrochen  sum_Whg_fertigerstellt\n",
       "0 2021-01-01  Wollishofen                    4                     214\n",
       "1 2014-01-01  Wollishofen                   91                      75\n",
       "2 2012-01-01  Wollishofen                   30                      38"
      ]
     },
     "execution_count": 109,
     "metadata": {},
     "output_type": "execute_result"
    }
   ],
   "source": [
    "myTreemapAgg = data2betested.loc[\"2009\":\"2021\"].reset_index()  \\\n",
    "    .groupby(['Jahr', 'QuarLang']) \\\n",
    "    .agg(sum_Whg_abgebrochen=('Whg_abgebrochen', 'sum'),sum_Whg_fertigerstellt=('Whg_fertigerstellt', 'sum')) \\\n",
    "    .sort_values('QuarLang', ascending=False) \n",
    "\n",
    "myTreemapAgg.reset_index().head(3)"
   ]
  },
  {
   "cell_type": "code",
   "execution_count": 112,
   "metadata": {},
   "outputs": [
    {
     "data": {
      "application/vnd.plotly.v1+json": {
       "config": {
        "plotlyServerURL": "https://plot.ly"
       },
       "data": [
        {
         "branchvalues": "total",
         "customdata": [
          [
           "Wollishofen"
          ],
          [
           "Wollishofen"
          ],
          [
           "Wollishofen"
          ],
          [
           "Wollishofen"
          ],
          [
           "Wollishofen"
          ],
          [
           "Wollishofen"
          ],
          [
           "Wollishofen"
          ],
          [
           "Wollishofen"
          ],
          [
           "Wollishofen"
          ],
          [
           "Wollishofen"
          ],
          [
           "Wollishofen"
          ],
          [
           "Wollishofen"
          ],
          [
           "Wollishofen"
          ],
          [
           "Witikon"
          ],
          [
           "Witikon"
          ],
          [
           "Witikon"
          ],
          [
           "Witikon"
          ],
          [
           "Witikon"
          ],
          [
           "Wipkingen"
          ],
          [
           "Witikon"
          ],
          [
           "Witikon"
          ],
          [
           "Witikon"
          ],
          [
           "Witikon"
          ],
          [
           "Witikon"
          ],
          [
           "Witikon"
          ],
          [
           "Witikon"
          ],
          [
           "Wipkingen"
          ],
          [
           "Wipkingen"
          ],
          [
           "Wipkingen"
          ],
          [
           "Wipkingen"
          ],
          [
           "Wipkingen"
          ],
          [
           "Wipkingen"
          ],
          [
           "Wipkingen"
          ],
          [
           "Wipkingen"
          ],
          [
           "Werd"
          ],
          [
           "Weinegg"
          ],
          [
           "Weinegg"
          ],
          [
           "Werd"
          ],
          [
           "Werd"
          ],
          [
           "Weinegg"
          ],
          [
           "Werd"
          ],
          [
           "Werd"
          ],
          [
           "Werd"
          ],
          [
           "Werd"
          ],
          [
           "Werd"
          ],
          [
           "Wipkingen"
          ],
          [
           "Wipkingen"
          ],
          [
           "Weinegg"
          ],
          [
           "Weinegg"
          ],
          [
           "Weinegg"
          ],
          [
           "Weinegg"
          ],
          [
           "Weinegg"
          ],
          [
           "Unterstrass"
          ],
          [
           "Unterstrass"
          ],
          [
           "Unterstrass"
          ],
          [
           "Unterstrass"
          ],
          [
           "Weinegg"
          ],
          [
           "Unterstrass"
          ],
          [
           "Unterstrass"
          ],
          [
           "Unterstrass"
          ],
          [
           "Unterstrass"
          ],
          [
           "Unterstrass"
          ],
          [
           "Unterstrass"
          ],
          [
           "Unterstrass"
          ],
          [
           "Unterstrass"
          ],
          [
           "Seefeld"
          ],
          [
           "Sihlfeld"
          ],
          [
           "Sihlfeld"
          ],
          [
           "Sihlfeld"
          ],
          [
           "Sihlfeld"
          ],
          [
           "Sihlfeld"
          ],
          [
           "Sihlfeld"
          ],
          [
           "Sihlfeld"
          ],
          [
           "Sihlfeld"
          ],
          [
           "Sihlfeld"
          ],
          [
           "Sihlfeld"
          ],
          [
           "Sihlfeld"
          ],
          [
           "Seebach"
          ],
          [
           "Seebach"
          ],
          [
           "Seebach"
          ],
          [
           "Seebach"
          ],
          [
           "Seebach"
          ],
          [
           "Seefeld"
          ],
          [
           "Seefeld"
          ],
          [
           "Seefeld"
          ],
          [
           "Seefeld"
          ],
          [
           "Seefeld"
          ],
          [
           "Seefeld"
          ],
          [
           "Seebach"
          ],
          [
           "Seebach"
          ],
          [
           "Seebach"
          ],
          [
           "Seebach"
          ],
          [
           "Seebach"
          ],
          [
           "Seebach"
          ],
          [
           "Seebach"
          ],
          [
           "Schwamendingen-Mitte"
          ],
          [
           "Schwamendingen-Mitte"
          ],
          [
           "Schwamendingen-Mitte"
          ],
          [
           "Seebach"
          ],
          [
           "Schwamendingen-Mitte"
          ],
          [
           "Saatlen"
          ],
          [
           "Saatlen"
          ],
          [
           "Saatlen"
          ],
          [
           "Saatlen"
          ],
          [
           "Saatlen"
          ],
          [
           "Schwamendingen-Mitte"
          ],
          [
           "Schwamendingen-Mitte"
          ],
          [
           "Schwamendingen-Mitte"
          ],
          [
           "Schwamendingen-Mitte"
          ],
          [
           "Schwamendingen-Mitte"
          ],
          [
           "Schwamendingen-Mitte"
          ],
          [
           "Oerlikon"
          ],
          [
           "Oerlikon"
          ],
          [
           "Oerlikon"
          ],
          [
           "Oerlikon"
          ],
          [
           "Oerlikon"
          ],
          [
           "Saatlen"
          ],
          [
           "Saatlen"
          ],
          [
           "Saatlen"
          ],
          [
           "Rathaus"
          ],
          [
           "Saatlen"
          ],
          [
           "Oerlikon"
          ],
          [
           "Oberstrass"
          ],
          [
           "Oberstrass"
          ],
          [
           "Oberstrass"
          ],
          [
           "Oerlikon"
          ],
          [
           "Oerlikon"
          ],
          [
           "Oerlikon"
          ],
          [
           "Oerlikon"
          ],
          [
           "Oerlikon"
          ],
          [
           "Oerlikon"
          ],
          [
           "Oerlikon"
          ],
          [
           "Mühlebach"
          ],
          [
           "Mühlebach"
          ],
          [
           "Mühlebach"
          ],
          [
           "Oberstrass"
          ],
          [
           "Oberstrass"
          ],
          [
           "Mühlebach"
          ],
          [
           "Oberstrass"
          ],
          [
           "Oberstrass"
          ],
          [
           "Oberstrass"
          ],
          [
           "Oberstrass"
          ],
          [
           "Oberstrass"
          ],
          [
           "Oberstrass"
          ],
          [
           "Oberstrass"
          ],
          [
           "Leimbach"
          ],
          [
           "Leimbach"
          ],
          [
           "Leimbach"
          ],
          [
           "Mühlebach"
          ],
          [
           "Mühlebach"
          ],
          [
           "Mühlebach"
          ],
          [
           "Mühlebach"
          ],
          [
           "Mühlebach"
          ],
          [
           "Mühlebach"
          ],
          [
           "Leimbach"
          ],
          [
           "Leimbach"
          ],
          [
           "Leimbach"
          ],
          [
           "Leimbach"
          ],
          [
           "Leimbach"
          ],
          [
           "Langstrasse"
          ],
          [
           "Langstrasse"
          ],
          [
           "Langstrasse"
          ],
          [
           "Leimbach"
          ],
          [
           "Höngg"
          ],
          [
           "Höngg"
          ],
          [
           "Höngg"
          ],
          [
           "Höngg"
          ],
          [
           "Langstrasse"
          ],
          [
           "Langstrasse"
          ],
          [
           "Langstrasse"
          ],
          [
           "Langstrasse"
          ],
          [
           "Langstrasse"
          ],
          [
           "Langstrasse"
          ],
          [
           "Hottingen"
          ],
          [
           "Hottingen"
          ],
          [
           "Hottingen"
          ],
          [
           "Höngg"
          ],
          [
           "Höngg"
          ],
          [
           "Höngg"
          ],
          [
           "Höngg"
          ],
          [
           "Höngg"
          ],
          [
           "Höngg"
          ],
          [
           "Höngg"
          ],
          [
           "Höngg"
          ],
          [
           "Höngg"
          ],
          [
           "Hirzenbach"
          ],
          [
           "Hirzenbach"
          ],
          [
           "Hirzenbach"
          ],
          [
           "Hirzenbach"
          ],
          [
           "Hochschulen"
          ],
          [
           "Hirzenbach"
          ],
          [
           "Hottingen"
          ],
          [
           "Hottingen"
          ],
          [
           "Hottingen"
          ],
          [
           "Hottingen"
          ],
          [
           "Hottingen"
          ],
          [
           "Hottingen"
          ],
          [
           "Hottingen"
          ],
          [
           "Hirzenbach"
          ],
          [
           "Hirslanden"
          ],
          [
           "Hirslanden"
          ],
          [
           "Hirslanden"
          ],
          [
           "Hirslanden"
          ],
          [
           "Hirzenbach"
          ],
          [
           "Hirzenbach"
          ],
          [
           "Hirzenbach"
          ],
          [
           "Hirslanden"
          ],
          [
           "Hirzenbach"
          ],
          [
           "Hard"
          ],
          [
           "Hard"
          ],
          [
           "Hard"
          ],
          [
           "Hard"
          ],
          [
           "Hirslanden"
          ],
          [
           "Hirslanden"
          ],
          [
           "Hirslanden"
          ],
          [
           "Hirslanden"
          ],
          [
           "Hirslanden"
          ],
          [
           "Hirslanden"
          ],
          [
           "Friesenberg"
          ],
          [
           "Friesenberg"
          ],
          [
           "Friesenberg"
          ],
          [
           "Friesenberg"
          ],
          [
           "Friesenberg"
          ],
          [
           "Gewerbeschule"
          ],
          [
           "Gewerbeschule"
          ],
          [
           "Gewerbeschule"
          ],
          [
           "Gewerbeschule"
          ],
          [
           "Gewerbeschule"
          ],
          [
           "Gewerbeschule"
          ],
          [
           "Hard"
          ],
          [
           "Gewerbeschule"
          ],
          [
           "Fluntern"
          ],
          [
           "Friesenberg"
          ],
          [
           "Friesenberg"
          ],
          [
           "Friesenberg"
          ],
          [
           "Friesenberg"
          ],
          [
           "Friesenberg"
          ],
          [
           "Friesenberg"
          ],
          [
           "Fluntern"
          ],
          [
           "Fluntern"
          ],
          [
           "Fluntern"
          ],
          [
           "Fluntern"
          ],
          [
           "Fluntern"
          ],
          [
           "Fluntern"
          ],
          [
           "Fluntern"
          ],
          [
           "Fluntern"
          ],
          [
           "Fluntern"
          ],
          [
           "Fluntern"
          ],
          [
           "Fluntern"
          ],
          [
           "Escher Wyss"
          ],
          [
           "Enge"
          ],
          [
           "Enge"
          ],
          [
           "Enge"
          ],
          [
           "Enge"
          ],
          [
           "Escher Wyss"
          ],
          [
           "Escher Wyss"
          ],
          [
           "Escher Wyss"
          ],
          [
           "Escher Wyss"
          ],
          [
           "Escher Wyss"
          ],
          [
           "Escher Wyss"
          ],
          [
           "Escher Wyss"
          ],
          [
           "Enge"
          ],
          [
           "Enge"
          ],
          [
           "Enge"
          ],
          [
           "Enge"
          ],
          [
           "City"
          ],
          [
           "Altstetten"
          ],
          [
           "Altstetten"
          ],
          [
           "Altstetten"
          ],
          [
           "Enge"
          ],
          [
           "Altstetten"
          ],
          [
           "Altstetten"
          ],
          [
           "Altstetten"
          ],
          [
           "Altstetten"
          ],
          [
           "Altstetten"
          ],
          [
           "Altstetten"
          ],
          [
           "Altstetten"
          ],
          [
           "Altstetten"
          ],
          [
           "Altstetten"
          ],
          [
           "Albisrieden"
          ],
          [
           "Alt-Wiedikon"
          ],
          [
           "Alt-Wiedikon"
          ],
          [
           "Alt-Wiedikon"
          ],
          [
           "Alt-Wiedikon"
          ],
          [
           "Alt-Wiedikon"
          ],
          [
           "Alt-Wiedikon"
          ],
          [
           "Altstetten"
          ],
          [
           "Alt-Wiedikon"
          ],
          [
           "Alt-Wiedikon"
          ],
          [
           "Albisrieden"
          ],
          [
           "Albisrieden"
          ],
          [
           "Albisrieden"
          ],
          [
           "Albisrieden"
          ],
          [
           "Albisrieden"
          ],
          [
           "Albisrieden"
          ],
          [
           "Albisrieden"
          ],
          [
           "Albisrieden"
          ],
          [
           "Albisrieden"
          ],
          [
           "Albisrieden"
          ],
          [
           "Albisrieden"
          ],
          [
           "Albisrieden"
          ],
          [
           "Affoltern"
          ],
          [
           "Affoltern"
          ],
          [
           "Affoltern"
          ],
          [
           "Affoltern"
          ],
          [
           "Affoltern"
          ],
          [
           "Affoltern"
          ],
          [
           "Affoltern"
          ],
          [
           "Affoltern"
          ],
          [
           "Affoltern"
          ],
          [
           "Affoltern"
          ],
          [
           "Affoltern"
          ],
          [
           "Affoltern"
          ],
          [
           "Affoltern"
          ],
          [
           "(?)"
          ],
          [
           "(?)"
          ],
          [
           "(?)"
          ],
          [
           "(?)"
          ],
          [
           "(?)"
          ],
          [
           "(?)"
          ],
          [
           "(?)"
          ],
          [
           "(?)"
          ],
          [
           "(?)"
          ],
          [
           "(?)"
          ],
          [
           "(?)"
          ],
          [
           "(?)"
          ],
          [
           "(?)"
          ],
          [
           "(?)"
          ]
         ],
         "domain": {
          "x": [
           0,
           1
          ],
          "y": [
           0,
           1
          ]
         },
         "hovertemplate": "labels=%{label}<br>sum_Whg_fertigerstellt=%{value}<br>parent=%{parent}<br>id=%{id}<br>QuarLang=%{customdata[0]}<extra></extra>",
         "ids": [
          "Fertig erstellte Wohnungen Baujahr und  Quartier/2021-01-01/Wollishofen",
          "Fertig erstellte Wohnungen Baujahr und  Quartier/2009-01-01/Wollishofen",
          "Fertig erstellte Wohnungen Baujahr und  Quartier/2010-01-01/Wollishofen",
          "Fertig erstellte Wohnungen Baujahr und  Quartier/2011-01-01/Wollishofen",
          "Fertig erstellte Wohnungen Baujahr und  Quartier/2012-01-01/Wollishofen",
          "Fertig erstellte Wohnungen Baujahr und  Quartier/2013-01-01/Wollishofen",
          "Fertig erstellte Wohnungen Baujahr und  Quartier/2020-01-01/Wollishofen",
          "Fertig erstellte Wohnungen Baujahr und  Quartier/2015-01-01/Wollishofen",
          "Fertig erstellte Wohnungen Baujahr und  Quartier/2019-01-01/Wollishofen",
          "Fertig erstellte Wohnungen Baujahr und  Quartier/2018-01-01/Wollishofen",
          "Fertig erstellte Wohnungen Baujahr und  Quartier/2014-01-01/Wollishofen",
          "Fertig erstellte Wohnungen Baujahr und  Quartier/2016-01-01/Wollishofen",
          "Fertig erstellte Wohnungen Baujahr und  Quartier/2017-01-01/Wollishofen",
          "Fertig erstellte Wohnungen Baujahr und  Quartier/2009-01-01/Witikon",
          "Fertig erstellte Wohnungen Baujahr und  Quartier/2011-01-01/Witikon",
          "Fertig erstellte Wohnungen Baujahr und  Quartier/2012-01-01/Witikon",
          "Fertig erstellte Wohnungen Baujahr und  Quartier/2013-01-01/Witikon",
          "Fertig erstellte Wohnungen Baujahr und  Quartier/2014-01-01/Witikon",
          "Fertig erstellte Wohnungen Baujahr und  Quartier/2021-01-01/Wipkingen",
          "Fertig erstellte Wohnungen Baujahr und  Quartier/2016-01-01/Witikon",
          "Fertig erstellte Wohnungen Baujahr und  Quartier/2017-01-01/Witikon",
          "Fertig erstellte Wohnungen Baujahr und  Quartier/2018-01-01/Witikon",
          "Fertig erstellte Wohnungen Baujahr und  Quartier/2019-01-01/Witikon",
          "Fertig erstellte Wohnungen Baujahr und  Quartier/2020-01-01/Witikon",
          "Fertig erstellte Wohnungen Baujahr und  Quartier/2021-01-01/Witikon",
          "Fertig erstellte Wohnungen Baujahr und  Quartier/2015-01-01/Witikon",
          "Fertig erstellte Wohnungen Baujahr und  Quartier/2011-01-01/Wipkingen",
          "Fertig erstellte Wohnungen Baujahr und  Quartier/2012-01-01/Wipkingen",
          "Fertig erstellte Wohnungen Baujahr und  Quartier/2013-01-01/Wipkingen",
          "Fertig erstellte Wohnungen Baujahr und  Quartier/2016-01-01/Wipkingen",
          "Fertig erstellte Wohnungen Baujahr und  Quartier/2017-01-01/Wipkingen",
          "Fertig erstellte Wohnungen Baujahr und  Quartier/2018-01-01/Wipkingen",
          "Fertig erstellte Wohnungen Baujahr und  Quartier/2020-01-01/Wipkingen",
          "Fertig erstellte Wohnungen Baujahr und  Quartier/2015-01-01/Wipkingen",
          "Fertig erstellte Wohnungen Baujahr und  Quartier/2013-01-01/Werd",
          "Fertig erstellte Wohnungen Baujahr und  Quartier/2018-01-01/Weinegg",
          "Fertig erstellte Wohnungen Baujahr und  Quartier/2020-01-01/Weinegg",
          "Fertig erstellte Wohnungen Baujahr und  Quartier/2009-01-01/Werd",
          "Fertig erstellte Wohnungen Baujahr und  Quartier/2014-01-01/Werd",
          "Fertig erstellte Wohnungen Baujahr und  Quartier/2019-01-01/Weinegg",
          "Fertig erstellte Wohnungen Baujahr und  Quartier/2017-01-01/Werd",
          "Fertig erstellte Wohnungen Baujahr und  Quartier/2019-01-01/Werd",
          "Fertig erstellte Wohnungen Baujahr und  Quartier/2020-01-01/Werd",
          "Fertig erstellte Wohnungen Baujahr und  Quartier/2021-01-01/Werd",
          "Fertig erstellte Wohnungen Baujahr und  Quartier/2016-01-01/Werd",
          "Fertig erstellte Wohnungen Baujahr und  Quartier/2009-01-01/Wipkingen",
          "Fertig erstellte Wohnungen Baujahr und  Quartier/2010-01-01/Wipkingen",
          "Fertig erstellte Wohnungen Baujahr und  Quartier/2017-01-01/Weinegg",
          "Fertig erstellte Wohnungen Baujahr und  Quartier/2015-01-01/Weinegg",
          "Fertig erstellte Wohnungen Baujahr und  Quartier/2014-01-01/Weinegg",
          "Fertig erstellte Wohnungen Baujahr und  Quartier/2013-01-01/Weinegg",
          "Fertig erstellte Wohnungen Baujahr und  Quartier/2009-01-01/Weinegg",
          "Fertig erstellte Wohnungen Baujahr und  Quartier/2021-01-01/Unterstrass",
          "Fertig erstellte Wohnungen Baujahr und  Quartier/2020-01-01/Unterstrass",
          "Fertig erstellte Wohnungen Baujahr und  Quartier/2019-01-01/Unterstrass",
          "Fertig erstellte Wohnungen Baujahr und  Quartier/2018-01-01/Unterstrass",
          "Fertig erstellte Wohnungen Baujahr und  Quartier/2016-01-01/Weinegg",
          "Fertig erstellte Wohnungen Baujahr und  Quartier/2010-01-01/Unterstrass",
          "Fertig erstellte Wohnungen Baujahr und  Quartier/2011-01-01/Unterstrass",
          "Fertig erstellte Wohnungen Baujahr und  Quartier/2012-01-01/Unterstrass",
          "Fertig erstellte Wohnungen Baujahr und  Quartier/2013-01-01/Unterstrass",
          "Fertig erstellte Wohnungen Baujahr und  Quartier/2014-01-01/Unterstrass",
          "Fertig erstellte Wohnungen Baujahr und  Quartier/2015-01-01/Unterstrass",
          "Fertig erstellte Wohnungen Baujahr und  Quartier/2016-01-01/Unterstrass",
          "Fertig erstellte Wohnungen Baujahr und  Quartier/2017-01-01/Unterstrass",
          "Fertig erstellte Wohnungen Baujahr und  Quartier/2021-01-01/Seefeld",
          "Fertig erstellte Wohnungen Baujahr und  Quartier/2009-01-01/Sihlfeld",
          "Fertig erstellte Wohnungen Baujahr und  Quartier/2011-01-01/Sihlfeld",
          "Fertig erstellte Wohnungen Baujahr und  Quartier/2012-01-01/Sihlfeld",
          "Fertig erstellte Wohnungen Baujahr und  Quartier/2014-01-01/Sihlfeld",
          "Fertig erstellte Wohnungen Baujahr und  Quartier/2013-01-01/Sihlfeld",
          "Fertig erstellte Wohnungen Baujahr und  Quartier/2017-01-01/Sihlfeld",
          "Fertig erstellte Wohnungen Baujahr und  Quartier/2018-01-01/Sihlfeld",
          "Fertig erstellte Wohnungen Baujahr und  Quartier/2019-01-01/Sihlfeld",
          "Fertig erstellte Wohnungen Baujahr und  Quartier/2020-01-01/Sihlfeld",
          "Fertig erstellte Wohnungen Baujahr und  Quartier/2015-01-01/Sihlfeld",
          "Fertig erstellte Wohnungen Baujahr und  Quartier/2021-01-01/Sihlfeld",
          "Fertig erstellte Wohnungen Baujahr und  Quartier/2021-01-01/Seebach",
          "Fertig erstellte Wohnungen Baujahr und  Quartier/2017-01-01/Seebach",
          "Fertig erstellte Wohnungen Baujahr und  Quartier/2018-01-01/Seebach",
          "Fertig erstellte Wohnungen Baujahr und  Quartier/2019-01-01/Seebach",
          "Fertig erstellte Wohnungen Baujahr und  Quartier/2020-01-01/Seebach",
          "Fertig erstellte Wohnungen Baujahr und  Quartier/2009-01-01/Seefeld",
          "Fertig erstellte Wohnungen Baujahr und  Quartier/2011-01-01/Seefeld",
          "Fertig erstellte Wohnungen Baujahr und  Quartier/2010-01-01/Seefeld",
          "Fertig erstellte Wohnungen Baujahr und  Quartier/2017-01-01/Seefeld",
          "Fertig erstellte Wohnungen Baujahr und  Quartier/2013-01-01/Seefeld",
          "Fertig erstellte Wohnungen Baujahr und  Quartier/2014-01-01/Seefeld",
          "Fertig erstellte Wohnungen Baujahr und  Quartier/2016-01-01/Seebach",
          "Fertig erstellte Wohnungen Baujahr und  Quartier/2015-01-01/Seebach",
          "Fertig erstellte Wohnungen Baujahr und  Quartier/2014-01-01/Seebach",
          "Fertig erstellte Wohnungen Baujahr und  Quartier/2013-01-01/Seebach",
          "Fertig erstellte Wohnungen Baujahr und  Quartier/2012-01-01/Seebach",
          "Fertig erstellte Wohnungen Baujahr und  Quartier/2011-01-01/Seebach",
          "Fertig erstellte Wohnungen Baujahr und  Quartier/2010-01-01/Seebach",
          "Fertig erstellte Wohnungen Baujahr und  Quartier/2017-01-01/Schwamendingen-Mitte",
          "Fertig erstellte Wohnungen Baujahr und  Quartier/2018-01-01/Schwamendingen-Mitte",
          "Fertig erstellte Wohnungen Baujahr und  Quartier/2021-01-01/Schwamendingen-Mitte",
          "Fertig erstellte Wohnungen Baujahr und  Quartier/2009-01-01/Seebach",
          "Fertig erstellte Wohnungen Baujahr und  Quartier/2019-01-01/Schwamendingen-Mitte",
          "Fertig erstellte Wohnungen Baujahr und  Quartier/2019-01-01/Saatlen",
          "Fertig erstellte Wohnungen Baujahr und  Quartier/2016-01-01/Saatlen",
          "Fertig erstellte Wohnungen Baujahr und  Quartier/2017-01-01/Saatlen",
          "Fertig erstellte Wohnungen Baujahr und  Quartier/2018-01-01/Saatlen",
          "Fertig erstellte Wohnungen Baujahr und  Quartier/2020-01-01/Saatlen",
          "Fertig erstellte Wohnungen Baujahr und  Quartier/2015-01-01/Schwamendingen-Mitte",
          "Fertig erstellte Wohnungen Baujahr und  Quartier/2012-01-01/Schwamendingen-Mitte",
          "Fertig erstellte Wohnungen Baujahr und  Quartier/2013-01-01/Schwamendingen-Mitte",
          "Fertig erstellte Wohnungen Baujahr und  Quartier/2014-01-01/Schwamendingen-Mitte",
          "Fertig erstellte Wohnungen Baujahr und  Quartier/2016-01-01/Schwamendingen-Mitte",
          "Fertig erstellte Wohnungen Baujahr und  Quartier/2009-01-01/Schwamendingen-Mitte",
          "Fertig erstellte Wohnungen Baujahr und  Quartier/2020-01-01/Oerlikon",
          "Fertig erstellte Wohnungen Baujahr und  Quartier/2018-01-01/Oerlikon",
          "Fertig erstellte Wohnungen Baujahr und  Quartier/2019-01-01/Oerlikon",
          "Fertig erstellte Wohnungen Baujahr und  Quartier/2021-01-01/Oerlikon",
          "Fertig erstellte Wohnungen Baujahr und  Quartier/2017-01-01/Oerlikon",
          "Fertig erstellte Wohnungen Baujahr und  Quartier/2009-01-01/Saatlen",
          "Fertig erstellte Wohnungen Baujahr und  Quartier/2013-01-01/Saatlen",
          "Fertig erstellte Wohnungen Baujahr und  Quartier/2014-01-01/Saatlen",
          "Fertig erstellte Wohnungen Baujahr und  Quartier/2009-01-01/Rathaus",
          "Fertig erstellte Wohnungen Baujahr und  Quartier/2015-01-01/Saatlen",
          "Fertig erstellte Wohnungen Baujahr und  Quartier/2016-01-01/Oerlikon",
          "Fertig erstellte Wohnungen Baujahr und  Quartier/2018-01-01/Oberstrass",
          "Fertig erstellte Wohnungen Baujahr und  Quartier/2019-01-01/Oberstrass",
          "Fertig erstellte Wohnungen Baujahr und  Quartier/2021-01-01/Oberstrass",
          "Fertig erstellte Wohnungen Baujahr und  Quartier/2009-01-01/Oerlikon",
          "Fertig erstellte Wohnungen Baujahr und  Quartier/2015-01-01/Oerlikon",
          "Fertig erstellte Wohnungen Baujahr und  Quartier/2011-01-01/Oerlikon",
          "Fertig erstellte Wohnungen Baujahr und  Quartier/2012-01-01/Oerlikon",
          "Fertig erstellte Wohnungen Baujahr und  Quartier/2013-01-01/Oerlikon",
          "Fertig erstellte Wohnungen Baujahr und  Quartier/2014-01-01/Oerlikon",
          "Fertig erstellte Wohnungen Baujahr und  Quartier/2010-01-01/Oerlikon",
          "Fertig erstellte Wohnungen Baujahr und  Quartier/2016-01-01/Mühlebach",
          "Fertig erstellte Wohnungen Baujahr und  Quartier/2017-01-01/Mühlebach",
          "Fertig erstellte Wohnungen Baujahr und  Quartier/2019-01-01/Mühlebach",
          "Fertig erstellte Wohnungen Baujahr und  Quartier/2009-01-01/Oberstrass",
          "Fertig erstellte Wohnungen Baujahr und  Quartier/2010-01-01/Oberstrass",
          "Fertig erstellte Wohnungen Baujahr und  Quartier/2018-01-01/Mühlebach",
          "Fertig erstellte Wohnungen Baujahr und  Quartier/2012-01-01/Oberstrass",
          "Fertig erstellte Wohnungen Baujahr und  Quartier/2013-01-01/Oberstrass",
          "Fertig erstellte Wohnungen Baujahr und  Quartier/2014-01-01/Oberstrass",
          "Fertig erstellte Wohnungen Baujahr und  Quartier/2015-01-01/Oberstrass",
          "Fertig erstellte Wohnungen Baujahr und  Quartier/2016-01-01/Oberstrass",
          "Fertig erstellte Wohnungen Baujahr und  Quartier/2017-01-01/Oberstrass",
          "Fertig erstellte Wohnungen Baujahr und  Quartier/2011-01-01/Oberstrass",
          "Fertig erstellte Wohnungen Baujahr und  Quartier/2018-01-01/Leimbach",
          "Fertig erstellte Wohnungen Baujahr und  Quartier/2019-01-01/Leimbach",
          "Fertig erstellte Wohnungen Baujahr und  Quartier/2021-01-01/Leimbach",
          "Fertig erstellte Wohnungen Baujahr und  Quartier/2009-01-01/Mühlebach",
          "Fertig erstellte Wohnungen Baujahr und  Quartier/2011-01-01/Mühlebach",
          "Fertig erstellte Wohnungen Baujahr und  Quartier/2012-01-01/Mühlebach",
          "Fertig erstellte Wohnungen Baujahr und  Quartier/2013-01-01/Mühlebach",
          "Fertig erstellte Wohnungen Baujahr und  Quartier/2014-01-01/Mühlebach",
          "Fertig erstellte Wohnungen Baujahr und  Quartier/2010-01-01/Mühlebach",
          "Fertig erstellte Wohnungen Baujahr und  Quartier/2017-01-01/Leimbach",
          "Fertig erstellte Wohnungen Baujahr und  Quartier/2016-01-01/Leimbach",
          "Fertig erstellte Wohnungen Baujahr und  Quartier/2015-01-01/Leimbach",
          "Fertig erstellte Wohnungen Baujahr und  Quartier/2013-01-01/Leimbach",
          "Fertig erstellte Wohnungen Baujahr und  Quartier/2010-01-01/Leimbach",
          "Fertig erstellte Wohnungen Baujahr und  Quartier/2021-01-01/Langstrasse",
          "Fertig erstellte Wohnungen Baujahr und  Quartier/2019-01-01/Langstrasse",
          "Fertig erstellte Wohnungen Baujahr und  Quartier/2017-01-01/Langstrasse",
          "Fertig erstellte Wohnungen Baujahr und  Quartier/2011-01-01/Leimbach",
          "Fertig erstellte Wohnungen Baujahr und  Quartier/2018-01-01/Höngg",
          "Fertig erstellte Wohnungen Baujahr und  Quartier/2019-01-01/Höngg",
          "Fertig erstellte Wohnungen Baujahr und  Quartier/2020-01-01/Höngg",
          "Fertig erstellte Wohnungen Baujahr und  Quartier/2021-01-01/Höngg",
          "Fertig erstellte Wohnungen Baujahr und  Quartier/2011-01-01/Langstrasse",
          "Fertig erstellte Wohnungen Baujahr und  Quartier/2012-01-01/Langstrasse",
          "Fertig erstellte Wohnungen Baujahr und  Quartier/2013-01-01/Langstrasse",
          "Fertig erstellte Wohnungen Baujahr und  Quartier/2014-01-01/Langstrasse",
          "Fertig erstellte Wohnungen Baujahr und  Quartier/2015-01-01/Langstrasse",
          "Fertig erstellte Wohnungen Baujahr und  Quartier/2016-01-01/Langstrasse",
          "Fertig erstellte Wohnungen Baujahr und  Quartier/2017-01-01/Hottingen",
          "Fertig erstellte Wohnungen Baujahr und  Quartier/2019-01-01/Hottingen",
          "Fertig erstellte Wohnungen Baujahr und  Quartier/2021-01-01/Hottingen",
          "Fertig erstellte Wohnungen Baujahr und  Quartier/2009-01-01/Höngg",
          "Fertig erstellte Wohnungen Baujahr und  Quartier/2010-01-01/Höngg",
          "Fertig erstellte Wohnungen Baujahr und  Quartier/2016-01-01/Höngg",
          "Fertig erstellte Wohnungen Baujahr und  Quartier/2012-01-01/Höngg",
          "Fertig erstellte Wohnungen Baujahr und  Quartier/2013-01-01/Höngg",
          "Fertig erstellte Wohnungen Baujahr und  Quartier/2014-01-01/Höngg",
          "Fertig erstellte Wohnungen Baujahr und  Quartier/2015-01-01/Höngg",
          "Fertig erstellte Wohnungen Baujahr und  Quartier/2017-01-01/Höngg",
          "Fertig erstellte Wohnungen Baujahr und  Quartier/2011-01-01/Höngg",
          "Fertig erstellte Wohnungen Baujahr und  Quartier/2020-01-01/Hirzenbach",
          "Fertig erstellte Wohnungen Baujahr und  Quartier/2016-01-01/Hirzenbach",
          "Fertig erstellte Wohnungen Baujahr und  Quartier/2018-01-01/Hirzenbach",
          "Fertig erstellte Wohnungen Baujahr und  Quartier/2019-01-01/Hirzenbach",
          "Fertig erstellte Wohnungen Baujahr und  Quartier/2010-01-01/Hochschulen",
          "Fertig erstellte Wohnungen Baujahr und  Quartier/2017-01-01/Hirzenbach",
          "Fertig erstellte Wohnungen Baujahr und  Quartier/2010-01-01/Hottingen",
          "Fertig erstellte Wohnungen Baujahr und  Quartier/2016-01-01/Hottingen",
          "Fertig erstellte Wohnungen Baujahr und  Quartier/2015-01-01/Hottingen",
          "Fertig erstellte Wohnungen Baujahr und  Quartier/2009-01-01/Hottingen",
          "Fertig erstellte Wohnungen Baujahr und  Quartier/2012-01-01/Hottingen",
          "Fertig erstellte Wohnungen Baujahr und  Quartier/2011-01-01/Hottingen",
          "Fertig erstellte Wohnungen Baujahr und  Quartier/2014-01-01/Hottingen",
          "Fertig erstellte Wohnungen Baujahr und  Quartier/2015-01-01/Hirzenbach",
          "Fertig erstellte Wohnungen Baujahr und  Quartier/2015-01-01/Hirslanden",
          "Fertig erstellte Wohnungen Baujahr und  Quartier/2017-01-01/Hirslanden",
          "Fertig erstellte Wohnungen Baujahr und  Quartier/2019-01-01/Hirslanden",
          "Fertig erstellte Wohnungen Baujahr und  Quartier/2020-01-01/Hirslanden",
          "Fertig erstellte Wohnungen Baujahr und  Quartier/2012-01-01/Hirzenbach",
          "Fertig erstellte Wohnungen Baujahr und  Quartier/2013-01-01/Hirzenbach",
          "Fertig erstellte Wohnungen Baujahr und  Quartier/2014-01-01/Hirzenbach",
          "Fertig erstellte Wohnungen Baujahr und  Quartier/2021-01-01/Hirslanden",
          "Fertig erstellte Wohnungen Baujahr und  Quartier/2009-01-01/Hirzenbach",
          "Fertig erstellte Wohnungen Baujahr und  Quartier/2021-01-01/Hard",
          "Fertig erstellte Wohnungen Baujahr und  Quartier/2012-01-01/Hard",
          "Fertig erstellte Wohnungen Baujahr und  Quartier/2016-01-01/Hard",
          "Fertig erstellte Wohnungen Baujahr und  Quartier/2017-01-01/Hard",
          "Fertig erstellte Wohnungen Baujahr und  Quartier/2010-01-01/Hirslanden",
          "Fertig erstellte Wohnungen Baujahr und  Quartier/2011-01-01/Hirslanden",
          "Fertig erstellte Wohnungen Baujahr und  Quartier/2012-01-01/Hirslanden",
          "Fertig erstellte Wohnungen Baujahr und  Quartier/2013-01-01/Hirslanden",
          "Fertig erstellte Wohnungen Baujahr und  Quartier/2014-01-01/Hirslanden",
          "Fertig erstellte Wohnungen Baujahr und  Quartier/2009-01-01/Hirslanden",
          "Fertig erstellte Wohnungen Baujahr und  Quartier/2016-01-01/Friesenberg",
          "Fertig erstellte Wohnungen Baujahr und  Quartier/2017-01-01/Friesenberg",
          "Fertig erstellte Wohnungen Baujahr und  Quartier/2018-01-01/Friesenberg",
          "Fertig erstellte Wohnungen Baujahr und  Quartier/2019-01-01/Friesenberg",
          "Fertig erstellte Wohnungen Baujahr und  Quartier/2020-01-01/Friesenberg",
          "Fertig erstellte Wohnungen Baujahr und  Quartier/2009-01-01/Gewerbeschule",
          "Fertig erstellte Wohnungen Baujahr und  Quartier/2014-01-01/Gewerbeschule",
          "Fertig erstellte Wohnungen Baujahr und  Quartier/2018-01-01/Gewerbeschule",
          "Fertig erstellte Wohnungen Baujahr und  Quartier/2019-01-01/Gewerbeschule",
          "Fertig erstellte Wohnungen Baujahr und  Quartier/2020-01-01/Gewerbeschule",
          "Fertig erstellte Wohnungen Baujahr und  Quartier/2021-01-01/Gewerbeschule",
          "Fertig erstellte Wohnungen Baujahr und  Quartier/2010-01-01/Hard",
          "Fertig erstellte Wohnungen Baujahr und  Quartier/2011-01-01/Gewerbeschule",
          "Fertig erstellte Wohnungen Baujahr und  Quartier/2021-01-01/Fluntern",
          "Fertig erstellte Wohnungen Baujahr und  Quartier/2011-01-01/Friesenberg",
          "Fertig erstellte Wohnungen Baujahr und  Quartier/2009-01-01/Friesenberg",
          "Fertig erstellte Wohnungen Baujahr und  Quartier/2013-01-01/Friesenberg",
          "Fertig erstellte Wohnungen Baujahr und  Quartier/2015-01-01/Friesenberg",
          "Fertig erstellte Wohnungen Baujahr und  Quartier/2012-01-01/Friesenberg",
          "Fertig erstellte Wohnungen Baujahr und  Quartier/2014-01-01/Friesenberg",
          "Fertig erstellte Wohnungen Baujahr und  Quartier/2009-01-01/Fluntern",
          "Fertig erstellte Wohnungen Baujahr und  Quartier/2010-01-01/Fluntern",
          "Fertig erstellte Wohnungen Baujahr und  Quartier/2012-01-01/Fluntern",
          "Fertig erstellte Wohnungen Baujahr und  Quartier/2013-01-01/Fluntern",
          "Fertig erstellte Wohnungen Baujahr und  Quartier/2019-01-01/Fluntern",
          "Fertig erstellte Wohnungen Baujahr und  Quartier/2015-01-01/Fluntern",
          "Fertig erstellte Wohnungen Baujahr und  Quartier/2016-01-01/Fluntern",
          "Fertig erstellte Wohnungen Baujahr und  Quartier/2017-01-01/Fluntern",
          "Fertig erstellte Wohnungen Baujahr und  Quartier/2018-01-01/Fluntern",
          "Fertig erstellte Wohnungen Baujahr und  Quartier/2014-01-01/Fluntern",
          "Fertig erstellte Wohnungen Baujahr und  Quartier/2011-01-01/Fluntern",
          "Fertig erstellte Wohnungen Baujahr und  Quartier/2009-01-01/Escher Wyss",
          "Fertig erstellte Wohnungen Baujahr und  Quartier/2018-01-01/Enge",
          "Fertig erstellte Wohnungen Baujahr und  Quartier/2019-01-01/Enge",
          "Fertig erstellte Wohnungen Baujahr und  Quartier/2020-01-01/Enge",
          "Fertig erstellte Wohnungen Baujahr und  Quartier/2021-01-01/Enge",
          "Fertig erstellte Wohnungen Baujahr und  Quartier/2011-01-01/Escher Wyss",
          "Fertig erstellte Wohnungen Baujahr und  Quartier/2013-01-01/Escher Wyss",
          "Fertig erstellte Wohnungen Baujahr und  Quartier/2017-01-01/Escher Wyss",
          "Fertig erstellte Wohnungen Baujahr und  Quartier/2016-01-01/Escher Wyss",
          "Fertig erstellte Wohnungen Baujahr und  Quartier/2012-01-01/Escher Wyss",
          "Fertig erstellte Wohnungen Baujahr und  Quartier/2014-01-01/Escher Wyss",
          "Fertig erstellte Wohnungen Baujahr und  Quartier/2015-01-01/Escher Wyss",
          "Fertig erstellte Wohnungen Baujahr und  Quartier/2017-01-01/Enge",
          "Fertig erstellte Wohnungen Baujahr und  Quartier/2016-01-01/Enge",
          "Fertig erstellte Wohnungen Baujahr und  Quartier/2015-01-01/Enge",
          "Fertig erstellte Wohnungen Baujahr und  Quartier/2012-01-01/Enge",
          "Fertig erstellte Wohnungen Baujahr und  Quartier/2014-01-01/City",
          "Fertig erstellte Wohnungen Baujahr und  Quartier/2021-01-01/Altstetten",
          "Fertig erstellte Wohnungen Baujahr und  Quartier/2020-01-01/Altstetten",
          "Fertig erstellte Wohnungen Baujahr und  Quartier/2019-01-01/Altstetten",
          "Fertig erstellte Wohnungen Baujahr und  Quartier/2014-01-01/Enge",
          "Fertig erstellte Wohnungen Baujahr und  Quartier/2013-01-01/Altstetten",
          "Fertig erstellte Wohnungen Baujahr und  Quartier/2011-01-01/Altstetten",
          "Fertig erstellte Wohnungen Baujahr und  Quartier/2012-01-01/Altstetten",
          "Fertig erstellte Wohnungen Baujahr und  Quartier/2014-01-01/Altstetten",
          "Fertig erstellte Wohnungen Baujahr und  Quartier/2016-01-01/Altstetten",
          "Fertig erstellte Wohnungen Baujahr und  Quartier/2018-01-01/Altstetten",
          "Fertig erstellte Wohnungen Baujahr und  Quartier/2015-01-01/Altstetten",
          "Fertig erstellte Wohnungen Baujahr und  Quartier/2017-01-01/Altstetten",
          "Fertig erstellte Wohnungen Baujahr und  Quartier/2010-01-01/Altstetten",
          "Fertig erstellte Wohnungen Baujahr und  Quartier/2021-01-01/Albisrieden",
          "Fertig erstellte Wohnungen Baujahr und  Quartier/2010-01-01/Alt-Wiedikon",
          "Fertig erstellte Wohnungen Baujahr und  Quartier/2012-01-01/Alt-Wiedikon",
          "Fertig erstellte Wohnungen Baujahr und  Quartier/2011-01-01/Alt-Wiedikon",
          "Fertig erstellte Wohnungen Baujahr und  Quartier/2017-01-01/Alt-Wiedikon",
          "Fertig erstellte Wohnungen Baujahr und  Quartier/2018-01-01/Alt-Wiedikon",
          "Fertig erstellte Wohnungen Baujahr und  Quartier/2021-01-01/Alt-Wiedikon",
          "Fertig erstellte Wohnungen Baujahr und  Quartier/2009-01-01/Altstetten",
          "Fertig erstellte Wohnungen Baujahr und  Quartier/2015-01-01/Alt-Wiedikon",
          "Fertig erstellte Wohnungen Baujahr und  Quartier/2013-01-01/Alt-Wiedikon",
          "Fertig erstellte Wohnungen Baujahr und  Quartier/2013-01-01/Albisrieden",
          "Fertig erstellte Wohnungen Baujahr und  Quartier/2009-01-01/Albisrieden",
          "Fertig erstellte Wohnungen Baujahr und  Quartier/2010-01-01/Albisrieden",
          "Fertig erstellte Wohnungen Baujahr und  Quartier/2011-01-01/Albisrieden",
          "Fertig erstellte Wohnungen Baujahr und  Quartier/2012-01-01/Albisrieden",
          "Fertig erstellte Wohnungen Baujahr und  Quartier/2015-01-01/Albisrieden",
          "Fertig erstellte Wohnungen Baujahr und  Quartier/2016-01-01/Albisrieden",
          "Fertig erstellte Wohnungen Baujahr und  Quartier/2017-01-01/Albisrieden",
          "Fertig erstellte Wohnungen Baujahr und  Quartier/2018-01-01/Albisrieden",
          "Fertig erstellte Wohnungen Baujahr und  Quartier/2019-01-01/Albisrieden",
          "Fertig erstellte Wohnungen Baujahr und  Quartier/2020-01-01/Albisrieden",
          "Fertig erstellte Wohnungen Baujahr und  Quartier/2014-01-01/Albisrieden",
          "Fertig erstellte Wohnungen Baujahr und  Quartier/2010-01-01/Affoltern",
          "Fertig erstellte Wohnungen Baujahr und  Quartier/2011-01-01/Affoltern",
          "Fertig erstellte Wohnungen Baujahr und  Quartier/2012-01-01/Affoltern",
          "Fertig erstellte Wohnungen Baujahr und  Quartier/2013-01-01/Affoltern",
          "Fertig erstellte Wohnungen Baujahr und  Quartier/2014-01-01/Affoltern",
          "Fertig erstellte Wohnungen Baujahr und  Quartier/2017-01-01/Affoltern",
          "Fertig erstellte Wohnungen Baujahr und  Quartier/2016-01-01/Affoltern",
          "Fertig erstellte Wohnungen Baujahr und  Quartier/2018-01-01/Affoltern",
          "Fertig erstellte Wohnungen Baujahr und  Quartier/2019-01-01/Affoltern",
          "Fertig erstellte Wohnungen Baujahr und  Quartier/2020-01-01/Affoltern",
          "Fertig erstellte Wohnungen Baujahr und  Quartier/2021-01-01/Affoltern",
          "Fertig erstellte Wohnungen Baujahr und  Quartier/2015-01-01/Affoltern",
          "Fertig erstellte Wohnungen Baujahr und  Quartier/2009-01-01/Affoltern",
          "Fertig erstellte Wohnungen Baujahr und  Quartier/2009-01-01",
          "Fertig erstellte Wohnungen Baujahr und  Quartier/2010-01-01",
          "Fertig erstellte Wohnungen Baujahr und  Quartier/2011-01-01",
          "Fertig erstellte Wohnungen Baujahr und  Quartier/2012-01-01",
          "Fertig erstellte Wohnungen Baujahr und  Quartier/2013-01-01",
          "Fertig erstellte Wohnungen Baujahr und  Quartier/2014-01-01",
          "Fertig erstellte Wohnungen Baujahr und  Quartier/2015-01-01",
          "Fertig erstellte Wohnungen Baujahr und  Quartier/2016-01-01",
          "Fertig erstellte Wohnungen Baujahr und  Quartier/2017-01-01",
          "Fertig erstellte Wohnungen Baujahr und  Quartier/2018-01-01",
          "Fertig erstellte Wohnungen Baujahr und  Quartier/2019-01-01",
          "Fertig erstellte Wohnungen Baujahr und  Quartier/2020-01-01",
          "Fertig erstellte Wohnungen Baujahr und  Quartier/2021-01-01",
          "Fertig erstellte Wohnungen Baujahr und  Quartier"
         ],
         "labels": [
          "Wollishofen",
          "Wollishofen",
          "Wollishofen",
          "Wollishofen",
          "Wollishofen",
          "Wollishofen",
          "Wollishofen",
          "Wollishofen",
          "Wollishofen",
          "Wollishofen",
          "Wollishofen",
          "Wollishofen",
          "Wollishofen",
          "Witikon",
          "Witikon",
          "Witikon",
          "Witikon",
          "Witikon",
          "Wipkingen",
          "Witikon",
          "Witikon",
          "Witikon",
          "Witikon",
          "Witikon",
          "Witikon",
          "Witikon",
          "Wipkingen",
          "Wipkingen",
          "Wipkingen",
          "Wipkingen",
          "Wipkingen",
          "Wipkingen",
          "Wipkingen",
          "Wipkingen",
          "Werd",
          "Weinegg",
          "Weinegg",
          "Werd",
          "Werd",
          "Weinegg",
          "Werd",
          "Werd",
          "Werd",
          "Werd",
          "Werd",
          "Wipkingen",
          "Wipkingen",
          "Weinegg",
          "Weinegg",
          "Weinegg",
          "Weinegg",
          "Weinegg",
          "Unterstrass",
          "Unterstrass",
          "Unterstrass",
          "Unterstrass",
          "Weinegg",
          "Unterstrass",
          "Unterstrass",
          "Unterstrass",
          "Unterstrass",
          "Unterstrass",
          "Unterstrass",
          "Unterstrass",
          "Unterstrass",
          "Seefeld",
          "Sihlfeld",
          "Sihlfeld",
          "Sihlfeld",
          "Sihlfeld",
          "Sihlfeld",
          "Sihlfeld",
          "Sihlfeld",
          "Sihlfeld",
          "Sihlfeld",
          "Sihlfeld",
          "Sihlfeld",
          "Seebach",
          "Seebach",
          "Seebach",
          "Seebach",
          "Seebach",
          "Seefeld",
          "Seefeld",
          "Seefeld",
          "Seefeld",
          "Seefeld",
          "Seefeld",
          "Seebach",
          "Seebach",
          "Seebach",
          "Seebach",
          "Seebach",
          "Seebach",
          "Seebach",
          "Schwamendingen-Mitte",
          "Schwamendingen-Mitte",
          "Schwamendingen-Mitte",
          "Seebach",
          "Schwamendingen-Mitte",
          "Saatlen",
          "Saatlen",
          "Saatlen",
          "Saatlen",
          "Saatlen",
          "Schwamendingen-Mitte",
          "Schwamendingen-Mitte",
          "Schwamendingen-Mitte",
          "Schwamendingen-Mitte",
          "Schwamendingen-Mitte",
          "Schwamendingen-Mitte",
          "Oerlikon",
          "Oerlikon",
          "Oerlikon",
          "Oerlikon",
          "Oerlikon",
          "Saatlen",
          "Saatlen",
          "Saatlen",
          "Rathaus",
          "Saatlen",
          "Oerlikon",
          "Oberstrass",
          "Oberstrass",
          "Oberstrass",
          "Oerlikon",
          "Oerlikon",
          "Oerlikon",
          "Oerlikon",
          "Oerlikon",
          "Oerlikon",
          "Oerlikon",
          "Mühlebach",
          "Mühlebach",
          "Mühlebach",
          "Oberstrass",
          "Oberstrass",
          "Mühlebach",
          "Oberstrass",
          "Oberstrass",
          "Oberstrass",
          "Oberstrass",
          "Oberstrass",
          "Oberstrass",
          "Oberstrass",
          "Leimbach",
          "Leimbach",
          "Leimbach",
          "Mühlebach",
          "Mühlebach",
          "Mühlebach",
          "Mühlebach",
          "Mühlebach",
          "Mühlebach",
          "Leimbach",
          "Leimbach",
          "Leimbach",
          "Leimbach",
          "Leimbach",
          "Langstrasse",
          "Langstrasse",
          "Langstrasse",
          "Leimbach",
          "Höngg",
          "Höngg",
          "Höngg",
          "Höngg",
          "Langstrasse",
          "Langstrasse",
          "Langstrasse",
          "Langstrasse",
          "Langstrasse",
          "Langstrasse",
          "Hottingen",
          "Hottingen",
          "Hottingen",
          "Höngg",
          "Höngg",
          "Höngg",
          "Höngg",
          "Höngg",
          "Höngg",
          "Höngg",
          "Höngg",
          "Höngg",
          "Hirzenbach",
          "Hirzenbach",
          "Hirzenbach",
          "Hirzenbach",
          "Hochschulen",
          "Hirzenbach",
          "Hottingen",
          "Hottingen",
          "Hottingen",
          "Hottingen",
          "Hottingen",
          "Hottingen",
          "Hottingen",
          "Hirzenbach",
          "Hirslanden",
          "Hirslanden",
          "Hirslanden",
          "Hirslanden",
          "Hirzenbach",
          "Hirzenbach",
          "Hirzenbach",
          "Hirslanden",
          "Hirzenbach",
          "Hard",
          "Hard",
          "Hard",
          "Hard",
          "Hirslanden",
          "Hirslanden",
          "Hirslanden",
          "Hirslanden",
          "Hirslanden",
          "Hirslanden",
          "Friesenberg",
          "Friesenberg",
          "Friesenberg",
          "Friesenberg",
          "Friesenberg",
          "Gewerbeschule",
          "Gewerbeschule",
          "Gewerbeschule",
          "Gewerbeschule",
          "Gewerbeschule",
          "Gewerbeschule",
          "Hard",
          "Gewerbeschule",
          "Fluntern",
          "Friesenberg",
          "Friesenberg",
          "Friesenberg",
          "Friesenberg",
          "Friesenberg",
          "Friesenberg",
          "Fluntern",
          "Fluntern",
          "Fluntern",
          "Fluntern",
          "Fluntern",
          "Fluntern",
          "Fluntern",
          "Fluntern",
          "Fluntern",
          "Fluntern",
          "Fluntern",
          "Escher Wyss",
          "Enge",
          "Enge",
          "Enge",
          "Enge",
          "Escher Wyss",
          "Escher Wyss",
          "Escher Wyss",
          "Escher Wyss",
          "Escher Wyss",
          "Escher Wyss",
          "Escher Wyss",
          "Enge",
          "Enge",
          "Enge",
          "Enge",
          "City",
          "Altstetten",
          "Altstetten",
          "Altstetten",
          "Enge",
          "Altstetten",
          "Altstetten",
          "Altstetten",
          "Altstetten",
          "Altstetten",
          "Altstetten",
          "Altstetten",
          "Altstetten",
          "Altstetten",
          "Albisrieden",
          "Alt-Wiedikon",
          "Alt-Wiedikon",
          "Alt-Wiedikon",
          "Alt-Wiedikon",
          "Alt-Wiedikon",
          "Alt-Wiedikon",
          "Altstetten",
          "Alt-Wiedikon",
          "Alt-Wiedikon",
          "Albisrieden",
          "Albisrieden",
          "Albisrieden",
          "Albisrieden",
          "Albisrieden",
          "Albisrieden",
          "Albisrieden",
          "Albisrieden",
          "Albisrieden",
          "Albisrieden",
          "Albisrieden",
          "Albisrieden",
          "Affoltern",
          "Affoltern",
          "Affoltern",
          "Affoltern",
          "Affoltern",
          "Affoltern",
          "Affoltern",
          "Affoltern",
          "Affoltern",
          "Affoltern",
          "Affoltern",
          "Affoltern",
          "Affoltern",
          "2009-01-01",
          "2010-01-01",
          "2011-01-01",
          "2012-01-01",
          "2013-01-01",
          "2014-01-01",
          "2015-01-01",
          "2016-01-01",
          "2017-01-01",
          "2018-01-01",
          "2019-01-01",
          "2020-01-01",
          "2021-01-01",
          "Fertig erstellte Wohnungen Baujahr und  Quartier"
         ],
         "marker": {
          "colors": [
           "#00cc96",
           "#00cc96",
           "#00cc96",
           "#00cc96",
           "#00cc96",
           "#00cc96",
           "#00cc96",
           "#00cc96",
           "#00cc96",
           "#00cc96",
           "#00cc96",
           "#00cc96",
           "#00cc96",
           "#ab63fa",
           "#ab63fa",
           "#ab63fa",
           "#ab63fa",
           "#ab63fa",
           "#FFA15A",
           "#ab63fa",
           "#ab63fa",
           "#ab63fa",
           "#ab63fa",
           "#ab63fa",
           "#ab63fa",
           "#ab63fa",
           "#FFA15A",
           "#FFA15A",
           "#FFA15A",
           "#FFA15A",
           "#FFA15A",
           "#FFA15A",
           "#FFA15A",
           "#FFA15A",
           "#19d3f3",
           "#FF6692",
           "#FF6692",
           "#19d3f3",
           "#19d3f3",
           "#FF6692",
           "#19d3f3",
           "#19d3f3",
           "#19d3f3",
           "#19d3f3",
           "#19d3f3",
           "#FFA15A",
           "#FFA15A",
           "#FF6692",
           "#FF6692",
           "#FF6692",
           "#FF6692",
           "#FF6692",
           "#B6E880",
           "#B6E880",
           "#B6E880",
           "#B6E880",
           "#FF6692",
           "#B6E880",
           "#B6E880",
           "#B6E880",
           "#B6E880",
           "#B6E880",
           "#B6E880",
           "#B6E880",
           "#B6E880",
           "#FF97FF",
           "#FECB52",
           "#FECB52",
           "#FECB52",
           "#FECB52",
           "#FECB52",
           "#FECB52",
           "#FECB52",
           "#FECB52",
           "#FECB52",
           "#FECB52",
           "#FECB52",
           "#636efa",
           "#636efa",
           "#636efa",
           "#636efa",
           "#636efa",
           "#FF97FF",
           "#FF97FF",
           "#FF97FF",
           "#FF97FF",
           "#FF97FF",
           "#FF97FF",
           "#636efa",
           "#636efa",
           "#636efa",
           "#636efa",
           "#636efa",
           "#636efa",
           "#636efa",
           "#EF553B",
           "#EF553B",
           "#EF553B",
           "#636efa",
           "#EF553B",
           "#00cc96",
           "#00cc96",
           "#00cc96",
           "#00cc96",
           "#00cc96",
           "#EF553B",
           "#EF553B",
           "#EF553B",
           "#EF553B",
           "#EF553B",
           "#EF553B",
           "#ab63fa",
           "#ab63fa",
           "#ab63fa",
           "#ab63fa",
           "#ab63fa",
           "#00cc96",
           "#00cc96",
           "#00cc96",
           "#FFA15A",
           "#00cc96",
           "#ab63fa",
           "#19d3f3",
           "#19d3f3",
           "#19d3f3",
           "#ab63fa",
           "#ab63fa",
           "#ab63fa",
           "#ab63fa",
           "#ab63fa",
           "#ab63fa",
           "#ab63fa",
           "#FF6692",
           "#FF6692",
           "#FF6692",
           "#19d3f3",
           "#19d3f3",
           "#FF6692",
           "#19d3f3",
           "#19d3f3",
           "#19d3f3",
           "#19d3f3",
           "#19d3f3",
           "#19d3f3",
           "#19d3f3",
           "#B6E880",
           "#B6E880",
           "#B6E880",
           "#FF6692",
           "#FF6692",
           "#FF6692",
           "#FF6692",
           "#FF6692",
           "#FF6692",
           "#B6E880",
           "#B6E880",
           "#B6E880",
           "#B6E880",
           "#B6E880",
           "#FF97FF",
           "#FF97FF",
           "#FF97FF",
           "#B6E880",
           "#FECB52",
           "#FECB52",
           "#FECB52",
           "#FECB52",
           "#FF97FF",
           "#FF97FF",
           "#FF97FF",
           "#FF97FF",
           "#FF97FF",
           "#FF97FF",
           "#636efa",
           "#636efa",
           "#636efa",
           "#FECB52",
           "#FECB52",
           "#FECB52",
           "#FECB52",
           "#FECB52",
           "#FECB52",
           "#FECB52",
           "#FECB52",
           "#FECB52",
           "#EF553B",
           "#EF553B",
           "#EF553B",
           "#EF553B",
           "#00cc96",
           "#EF553B",
           "#636efa",
           "#636efa",
           "#636efa",
           "#636efa",
           "#636efa",
           "#636efa",
           "#636efa",
           "#EF553B",
           "#ab63fa",
           "#ab63fa",
           "#ab63fa",
           "#ab63fa",
           "#EF553B",
           "#EF553B",
           "#EF553B",
           "#ab63fa",
           "#EF553B",
           "#FFA15A",
           "#FFA15A",
           "#FFA15A",
           "#FFA15A",
           "#ab63fa",
           "#ab63fa",
           "#ab63fa",
           "#ab63fa",
           "#ab63fa",
           "#ab63fa",
           "#19d3f3",
           "#19d3f3",
           "#19d3f3",
           "#19d3f3",
           "#19d3f3",
           "#FF6692",
           "#FF6692",
           "#FF6692",
           "#FF6692",
           "#FF6692",
           "#FF6692",
           "#FFA15A",
           "#FF6692",
           "#B6E880",
           "#19d3f3",
           "#19d3f3",
           "#19d3f3",
           "#19d3f3",
           "#19d3f3",
           "#19d3f3",
           "#B6E880",
           "#B6E880",
           "#B6E880",
           "#B6E880",
           "#B6E880",
           "#B6E880",
           "#B6E880",
           "#B6E880",
           "#B6E880",
           "#B6E880",
           "#B6E880",
           "#FF97FF",
           "#FECB52",
           "#FECB52",
           "#FECB52",
           "#FECB52",
           "#FF97FF",
           "#FF97FF",
           "#FF97FF",
           "#FF97FF",
           "#FF97FF",
           "#FF97FF",
           "#FF97FF",
           "#FECB52",
           "#FECB52",
           "#FECB52",
           "#FECB52",
           "#636efa",
           "#EF553B",
           "#EF553B",
           "#EF553B",
           "#FECB52",
           "#EF553B",
           "#EF553B",
           "#EF553B",
           "#EF553B",
           "#EF553B",
           "#EF553B",
           "#EF553B",
           "#EF553B",
           "#EF553B",
           "#00cc96",
           "gold",
           "gold",
           "gold",
           "gold",
           "gold",
           "gold",
           "#EF553B",
           "gold",
           "gold",
           "#00cc96",
           "#00cc96",
           "#00cc96",
           "#00cc96",
           "#00cc96",
           "#00cc96",
           "#00cc96",
           "#00cc96",
           "#00cc96",
           "#00cc96",
           "#00cc96",
           "#00cc96",
           "#ab63fa",
           "#ab63fa",
           "#ab63fa",
           "#ab63fa",
           "#ab63fa",
           "#ab63fa",
           "#ab63fa",
           "#ab63fa",
           "#ab63fa",
           "#ab63fa",
           "#ab63fa",
           "#ab63fa",
           "#ab63fa",
           "lightgrey",
           "lightgrey",
           "lightgrey",
           "lightgrey",
           "lightgrey",
           "lightgrey",
           "lightgrey",
           "lightgrey",
           "lightgrey",
           "lightgrey",
           "lightgrey",
           "lightgrey",
           "lightgrey",
           "lightgrey"
          ]
         },
         "name": "",
         "parents": [
          "Fertig erstellte Wohnungen Baujahr und  Quartier/2021-01-01",
          "Fertig erstellte Wohnungen Baujahr und  Quartier/2009-01-01",
          "Fertig erstellte Wohnungen Baujahr und  Quartier/2010-01-01",
          "Fertig erstellte Wohnungen Baujahr und  Quartier/2011-01-01",
          "Fertig erstellte Wohnungen Baujahr und  Quartier/2012-01-01",
          "Fertig erstellte Wohnungen Baujahr und  Quartier/2013-01-01",
          "Fertig erstellte Wohnungen Baujahr und  Quartier/2020-01-01",
          "Fertig erstellte Wohnungen Baujahr und  Quartier/2015-01-01",
          "Fertig erstellte Wohnungen Baujahr und  Quartier/2019-01-01",
          "Fertig erstellte Wohnungen Baujahr und  Quartier/2018-01-01",
          "Fertig erstellte Wohnungen Baujahr und  Quartier/2014-01-01",
          "Fertig erstellte Wohnungen Baujahr und  Quartier/2016-01-01",
          "Fertig erstellte Wohnungen Baujahr und  Quartier/2017-01-01",
          "Fertig erstellte Wohnungen Baujahr und  Quartier/2009-01-01",
          "Fertig erstellte Wohnungen Baujahr und  Quartier/2011-01-01",
          "Fertig erstellte Wohnungen Baujahr und  Quartier/2012-01-01",
          "Fertig erstellte Wohnungen Baujahr und  Quartier/2013-01-01",
          "Fertig erstellte Wohnungen Baujahr und  Quartier/2014-01-01",
          "Fertig erstellte Wohnungen Baujahr und  Quartier/2021-01-01",
          "Fertig erstellte Wohnungen Baujahr und  Quartier/2016-01-01",
          "Fertig erstellte Wohnungen Baujahr und  Quartier/2017-01-01",
          "Fertig erstellte Wohnungen Baujahr und  Quartier/2018-01-01",
          "Fertig erstellte Wohnungen Baujahr und  Quartier/2019-01-01",
          "Fertig erstellte Wohnungen Baujahr und  Quartier/2020-01-01",
          "Fertig erstellte Wohnungen Baujahr und  Quartier/2021-01-01",
          "Fertig erstellte Wohnungen Baujahr und  Quartier/2015-01-01",
          "Fertig erstellte Wohnungen Baujahr und  Quartier/2011-01-01",
          "Fertig erstellte Wohnungen Baujahr und  Quartier/2012-01-01",
          "Fertig erstellte Wohnungen Baujahr und  Quartier/2013-01-01",
          "Fertig erstellte Wohnungen Baujahr und  Quartier/2016-01-01",
          "Fertig erstellte Wohnungen Baujahr und  Quartier/2017-01-01",
          "Fertig erstellte Wohnungen Baujahr und  Quartier/2018-01-01",
          "Fertig erstellte Wohnungen Baujahr und  Quartier/2020-01-01",
          "Fertig erstellte Wohnungen Baujahr und  Quartier/2015-01-01",
          "Fertig erstellte Wohnungen Baujahr und  Quartier/2013-01-01",
          "Fertig erstellte Wohnungen Baujahr und  Quartier/2018-01-01",
          "Fertig erstellte Wohnungen Baujahr und  Quartier/2020-01-01",
          "Fertig erstellte Wohnungen Baujahr und  Quartier/2009-01-01",
          "Fertig erstellte Wohnungen Baujahr und  Quartier/2014-01-01",
          "Fertig erstellte Wohnungen Baujahr und  Quartier/2019-01-01",
          "Fertig erstellte Wohnungen Baujahr und  Quartier/2017-01-01",
          "Fertig erstellte Wohnungen Baujahr und  Quartier/2019-01-01",
          "Fertig erstellte Wohnungen Baujahr und  Quartier/2020-01-01",
          "Fertig erstellte Wohnungen Baujahr und  Quartier/2021-01-01",
          "Fertig erstellte Wohnungen Baujahr und  Quartier/2016-01-01",
          "Fertig erstellte Wohnungen Baujahr und  Quartier/2009-01-01",
          "Fertig erstellte Wohnungen Baujahr und  Quartier/2010-01-01",
          "Fertig erstellte Wohnungen Baujahr und  Quartier/2017-01-01",
          "Fertig erstellte Wohnungen Baujahr und  Quartier/2015-01-01",
          "Fertig erstellte Wohnungen Baujahr und  Quartier/2014-01-01",
          "Fertig erstellte Wohnungen Baujahr und  Quartier/2013-01-01",
          "Fertig erstellte Wohnungen Baujahr und  Quartier/2009-01-01",
          "Fertig erstellte Wohnungen Baujahr und  Quartier/2021-01-01",
          "Fertig erstellte Wohnungen Baujahr und  Quartier/2020-01-01",
          "Fertig erstellte Wohnungen Baujahr und  Quartier/2019-01-01",
          "Fertig erstellte Wohnungen Baujahr und  Quartier/2018-01-01",
          "Fertig erstellte Wohnungen Baujahr und  Quartier/2016-01-01",
          "Fertig erstellte Wohnungen Baujahr und  Quartier/2010-01-01",
          "Fertig erstellte Wohnungen Baujahr und  Quartier/2011-01-01",
          "Fertig erstellte Wohnungen Baujahr und  Quartier/2012-01-01",
          "Fertig erstellte Wohnungen Baujahr und  Quartier/2013-01-01",
          "Fertig erstellte Wohnungen Baujahr und  Quartier/2014-01-01",
          "Fertig erstellte Wohnungen Baujahr und  Quartier/2015-01-01",
          "Fertig erstellte Wohnungen Baujahr und  Quartier/2016-01-01",
          "Fertig erstellte Wohnungen Baujahr und  Quartier/2017-01-01",
          "Fertig erstellte Wohnungen Baujahr und  Quartier/2021-01-01",
          "Fertig erstellte Wohnungen Baujahr und  Quartier/2009-01-01",
          "Fertig erstellte Wohnungen Baujahr und  Quartier/2011-01-01",
          "Fertig erstellte Wohnungen Baujahr und  Quartier/2012-01-01",
          "Fertig erstellte Wohnungen Baujahr und  Quartier/2014-01-01",
          "Fertig erstellte Wohnungen Baujahr und  Quartier/2013-01-01",
          "Fertig erstellte Wohnungen Baujahr und  Quartier/2017-01-01",
          "Fertig erstellte Wohnungen Baujahr und  Quartier/2018-01-01",
          "Fertig erstellte Wohnungen Baujahr und  Quartier/2019-01-01",
          "Fertig erstellte Wohnungen Baujahr und  Quartier/2020-01-01",
          "Fertig erstellte Wohnungen Baujahr und  Quartier/2015-01-01",
          "Fertig erstellte Wohnungen Baujahr und  Quartier/2021-01-01",
          "Fertig erstellte Wohnungen Baujahr und  Quartier/2021-01-01",
          "Fertig erstellte Wohnungen Baujahr und  Quartier/2017-01-01",
          "Fertig erstellte Wohnungen Baujahr und  Quartier/2018-01-01",
          "Fertig erstellte Wohnungen Baujahr und  Quartier/2019-01-01",
          "Fertig erstellte Wohnungen Baujahr und  Quartier/2020-01-01",
          "Fertig erstellte Wohnungen Baujahr und  Quartier/2009-01-01",
          "Fertig erstellte Wohnungen Baujahr und  Quartier/2011-01-01",
          "Fertig erstellte Wohnungen Baujahr und  Quartier/2010-01-01",
          "Fertig erstellte Wohnungen Baujahr und  Quartier/2017-01-01",
          "Fertig erstellte Wohnungen Baujahr und  Quartier/2013-01-01",
          "Fertig erstellte Wohnungen Baujahr und  Quartier/2014-01-01",
          "Fertig erstellte Wohnungen Baujahr und  Quartier/2016-01-01",
          "Fertig erstellte Wohnungen Baujahr und  Quartier/2015-01-01",
          "Fertig erstellte Wohnungen Baujahr und  Quartier/2014-01-01",
          "Fertig erstellte Wohnungen Baujahr und  Quartier/2013-01-01",
          "Fertig erstellte Wohnungen Baujahr und  Quartier/2012-01-01",
          "Fertig erstellte Wohnungen Baujahr und  Quartier/2011-01-01",
          "Fertig erstellte Wohnungen Baujahr und  Quartier/2010-01-01",
          "Fertig erstellte Wohnungen Baujahr und  Quartier/2017-01-01",
          "Fertig erstellte Wohnungen Baujahr und  Quartier/2018-01-01",
          "Fertig erstellte Wohnungen Baujahr und  Quartier/2021-01-01",
          "Fertig erstellte Wohnungen Baujahr und  Quartier/2009-01-01",
          "Fertig erstellte Wohnungen Baujahr und  Quartier/2019-01-01",
          "Fertig erstellte Wohnungen Baujahr und  Quartier/2019-01-01",
          "Fertig erstellte Wohnungen Baujahr und  Quartier/2016-01-01",
          "Fertig erstellte Wohnungen Baujahr und  Quartier/2017-01-01",
          "Fertig erstellte Wohnungen Baujahr und  Quartier/2018-01-01",
          "Fertig erstellte Wohnungen Baujahr und  Quartier/2020-01-01",
          "Fertig erstellte Wohnungen Baujahr und  Quartier/2015-01-01",
          "Fertig erstellte Wohnungen Baujahr und  Quartier/2012-01-01",
          "Fertig erstellte Wohnungen Baujahr und  Quartier/2013-01-01",
          "Fertig erstellte Wohnungen Baujahr und  Quartier/2014-01-01",
          "Fertig erstellte Wohnungen Baujahr und  Quartier/2016-01-01",
          "Fertig erstellte Wohnungen Baujahr und  Quartier/2009-01-01",
          "Fertig erstellte Wohnungen Baujahr und  Quartier/2020-01-01",
          "Fertig erstellte Wohnungen Baujahr und  Quartier/2018-01-01",
          "Fertig erstellte Wohnungen Baujahr und  Quartier/2019-01-01",
          "Fertig erstellte Wohnungen Baujahr und  Quartier/2021-01-01",
          "Fertig erstellte Wohnungen Baujahr und  Quartier/2017-01-01",
          "Fertig erstellte Wohnungen Baujahr und  Quartier/2009-01-01",
          "Fertig erstellte Wohnungen Baujahr und  Quartier/2013-01-01",
          "Fertig erstellte Wohnungen Baujahr und  Quartier/2014-01-01",
          "Fertig erstellte Wohnungen Baujahr und  Quartier/2009-01-01",
          "Fertig erstellte Wohnungen Baujahr und  Quartier/2015-01-01",
          "Fertig erstellte Wohnungen Baujahr und  Quartier/2016-01-01",
          "Fertig erstellte Wohnungen Baujahr und  Quartier/2018-01-01",
          "Fertig erstellte Wohnungen Baujahr und  Quartier/2019-01-01",
          "Fertig erstellte Wohnungen Baujahr und  Quartier/2021-01-01",
          "Fertig erstellte Wohnungen Baujahr und  Quartier/2009-01-01",
          "Fertig erstellte Wohnungen Baujahr und  Quartier/2015-01-01",
          "Fertig erstellte Wohnungen Baujahr und  Quartier/2011-01-01",
          "Fertig erstellte Wohnungen Baujahr und  Quartier/2012-01-01",
          "Fertig erstellte Wohnungen Baujahr und  Quartier/2013-01-01",
          "Fertig erstellte Wohnungen Baujahr und  Quartier/2014-01-01",
          "Fertig erstellte Wohnungen Baujahr und  Quartier/2010-01-01",
          "Fertig erstellte Wohnungen Baujahr und  Quartier/2016-01-01",
          "Fertig erstellte Wohnungen Baujahr und  Quartier/2017-01-01",
          "Fertig erstellte Wohnungen Baujahr und  Quartier/2019-01-01",
          "Fertig erstellte Wohnungen Baujahr und  Quartier/2009-01-01",
          "Fertig erstellte Wohnungen Baujahr und  Quartier/2010-01-01",
          "Fertig erstellte Wohnungen Baujahr und  Quartier/2018-01-01",
          "Fertig erstellte Wohnungen Baujahr und  Quartier/2012-01-01",
          "Fertig erstellte Wohnungen Baujahr und  Quartier/2013-01-01",
          "Fertig erstellte Wohnungen Baujahr und  Quartier/2014-01-01",
          "Fertig erstellte Wohnungen Baujahr und  Quartier/2015-01-01",
          "Fertig erstellte Wohnungen Baujahr und  Quartier/2016-01-01",
          "Fertig erstellte Wohnungen Baujahr und  Quartier/2017-01-01",
          "Fertig erstellte Wohnungen Baujahr und  Quartier/2011-01-01",
          "Fertig erstellte Wohnungen Baujahr und  Quartier/2018-01-01",
          "Fertig erstellte Wohnungen Baujahr und  Quartier/2019-01-01",
          "Fertig erstellte Wohnungen Baujahr und  Quartier/2021-01-01",
          "Fertig erstellte Wohnungen Baujahr und  Quartier/2009-01-01",
          "Fertig erstellte Wohnungen Baujahr und  Quartier/2011-01-01",
          "Fertig erstellte Wohnungen Baujahr und  Quartier/2012-01-01",
          "Fertig erstellte Wohnungen Baujahr und  Quartier/2013-01-01",
          "Fertig erstellte Wohnungen Baujahr und  Quartier/2014-01-01",
          "Fertig erstellte Wohnungen Baujahr und  Quartier/2010-01-01",
          "Fertig erstellte Wohnungen Baujahr und  Quartier/2017-01-01",
          "Fertig erstellte Wohnungen Baujahr und  Quartier/2016-01-01",
          "Fertig erstellte Wohnungen Baujahr und  Quartier/2015-01-01",
          "Fertig erstellte Wohnungen Baujahr und  Quartier/2013-01-01",
          "Fertig erstellte Wohnungen Baujahr und  Quartier/2010-01-01",
          "Fertig erstellte Wohnungen Baujahr und  Quartier/2021-01-01",
          "Fertig erstellte Wohnungen Baujahr und  Quartier/2019-01-01",
          "Fertig erstellte Wohnungen Baujahr und  Quartier/2017-01-01",
          "Fertig erstellte Wohnungen Baujahr und  Quartier/2011-01-01",
          "Fertig erstellte Wohnungen Baujahr und  Quartier/2018-01-01",
          "Fertig erstellte Wohnungen Baujahr und  Quartier/2019-01-01",
          "Fertig erstellte Wohnungen Baujahr und  Quartier/2020-01-01",
          "Fertig erstellte Wohnungen Baujahr und  Quartier/2021-01-01",
          "Fertig erstellte Wohnungen Baujahr und  Quartier/2011-01-01",
          "Fertig erstellte Wohnungen Baujahr und  Quartier/2012-01-01",
          "Fertig erstellte Wohnungen Baujahr und  Quartier/2013-01-01",
          "Fertig erstellte Wohnungen Baujahr und  Quartier/2014-01-01",
          "Fertig erstellte Wohnungen Baujahr und  Quartier/2015-01-01",
          "Fertig erstellte Wohnungen Baujahr und  Quartier/2016-01-01",
          "Fertig erstellte Wohnungen Baujahr und  Quartier/2017-01-01",
          "Fertig erstellte Wohnungen Baujahr und  Quartier/2019-01-01",
          "Fertig erstellte Wohnungen Baujahr und  Quartier/2021-01-01",
          "Fertig erstellte Wohnungen Baujahr und  Quartier/2009-01-01",
          "Fertig erstellte Wohnungen Baujahr und  Quartier/2010-01-01",
          "Fertig erstellte Wohnungen Baujahr und  Quartier/2016-01-01",
          "Fertig erstellte Wohnungen Baujahr und  Quartier/2012-01-01",
          "Fertig erstellte Wohnungen Baujahr und  Quartier/2013-01-01",
          "Fertig erstellte Wohnungen Baujahr und  Quartier/2014-01-01",
          "Fertig erstellte Wohnungen Baujahr und  Quartier/2015-01-01",
          "Fertig erstellte Wohnungen Baujahr und  Quartier/2017-01-01",
          "Fertig erstellte Wohnungen Baujahr und  Quartier/2011-01-01",
          "Fertig erstellte Wohnungen Baujahr und  Quartier/2020-01-01",
          "Fertig erstellte Wohnungen Baujahr und  Quartier/2016-01-01",
          "Fertig erstellte Wohnungen Baujahr und  Quartier/2018-01-01",
          "Fertig erstellte Wohnungen Baujahr und  Quartier/2019-01-01",
          "Fertig erstellte Wohnungen Baujahr und  Quartier/2010-01-01",
          "Fertig erstellte Wohnungen Baujahr und  Quartier/2017-01-01",
          "Fertig erstellte Wohnungen Baujahr und  Quartier/2010-01-01",
          "Fertig erstellte Wohnungen Baujahr und  Quartier/2016-01-01",
          "Fertig erstellte Wohnungen Baujahr und  Quartier/2015-01-01",
          "Fertig erstellte Wohnungen Baujahr und  Quartier/2009-01-01",
          "Fertig erstellte Wohnungen Baujahr und  Quartier/2012-01-01",
          "Fertig erstellte Wohnungen Baujahr und  Quartier/2011-01-01",
          "Fertig erstellte Wohnungen Baujahr und  Quartier/2014-01-01",
          "Fertig erstellte Wohnungen Baujahr und  Quartier/2015-01-01",
          "Fertig erstellte Wohnungen Baujahr und  Quartier/2015-01-01",
          "Fertig erstellte Wohnungen Baujahr und  Quartier/2017-01-01",
          "Fertig erstellte Wohnungen Baujahr und  Quartier/2019-01-01",
          "Fertig erstellte Wohnungen Baujahr und  Quartier/2020-01-01",
          "Fertig erstellte Wohnungen Baujahr und  Quartier/2012-01-01",
          "Fertig erstellte Wohnungen Baujahr und  Quartier/2013-01-01",
          "Fertig erstellte Wohnungen Baujahr und  Quartier/2014-01-01",
          "Fertig erstellte Wohnungen Baujahr und  Quartier/2021-01-01",
          "Fertig erstellte Wohnungen Baujahr und  Quartier/2009-01-01",
          "Fertig erstellte Wohnungen Baujahr und  Quartier/2021-01-01",
          "Fertig erstellte Wohnungen Baujahr und  Quartier/2012-01-01",
          "Fertig erstellte Wohnungen Baujahr und  Quartier/2016-01-01",
          "Fertig erstellte Wohnungen Baujahr und  Quartier/2017-01-01",
          "Fertig erstellte Wohnungen Baujahr und  Quartier/2010-01-01",
          "Fertig erstellte Wohnungen Baujahr und  Quartier/2011-01-01",
          "Fertig erstellte Wohnungen Baujahr und  Quartier/2012-01-01",
          "Fertig erstellte Wohnungen Baujahr und  Quartier/2013-01-01",
          "Fertig erstellte Wohnungen Baujahr und  Quartier/2014-01-01",
          "Fertig erstellte Wohnungen Baujahr und  Quartier/2009-01-01",
          "Fertig erstellte Wohnungen Baujahr und  Quartier/2016-01-01",
          "Fertig erstellte Wohnungen Baujahr und  Quartier/2017-01-01",
          "Fertig erstellte Wohnungen Baujahr und  Quartier/2018-01-01",
          "Fertig erstellte Wohnungen Baujahr und  Quartier/2019-01-01",
          "Fertig erstellte Wohnungen Baujahr und  Quartier/2020-01-01",
          "Fertig erstellte Wohnungen Baujahr und  Quartier/2009-01-01",
          "Fertig erstellte Wohnungen Baujahr und  Quartier/2014-01-01",
          "Fertig erstellte Wohnungen Baujahr und  Quartier/2018-01-01",
          "Fertig erstellte Wohnungen Baujahr und  Quartier/2019-01-01",
          "Fertig erstellte Wohnungen Baujahr und  Quartier/2020-01-01",
          "Fertig erstellte Wohnungen Baujahr und  Quartier/2021-01-01",
          "Fertig erstellte Wohnungen Baujahr und  Quartier/2010-01-01",
          "Fertig erstellte Wohnungen Baujahr und  Quartier/2011-01-01",
          "Fertig erstellte Wohnungen Baujahr und  Quartier/2021-01-01",
          "Fertig erstellte Wohnungen Baujahr und  Quartier/2011-01-01",
          "Fertig erstellte Wohnungen Baujahr und  Quartier/2009-01-01",
          "Fertig erstellte Wohnungen Baujahr und  Quartier/2013-01-01",
          "Fertig erstellte Wohnungen Baujahr und  Quartier/2015-01-01",
          "Fertig erstellte Wohnungen Baujahr und  Quartier/2012-01-01",
          "Fertig erstellte Wohnungen Baujahr und  Quartier/2014-01-01",
          "Fertig erstellte Wohnungen Baujahr und  Quartier/2009-01-01",
          "Fertig erstellte Wohnungen Baujahr und  Quartier/2010-01-01",
          "Fertig erstellte Wohnungen Baujahr und  Quartier/2012-01-01",
          "Fertig erstellte Wohnungen Baujahr und  Quartier/2013-01-01",
          "Fertig erstellte Wohnungen Baujahr und  Quartier/2019-01-01",
          "Fertig erstellte Wohnungen Baujahr und  Quartier/2015-01-01",
          "Fertig erstellte Wohnungen Baujahr und  Quartier/2016-01-01",
          "Fertig erstellte Wohnungen Baujahr und  Quartier/2017-01-01",
          "Fertig erstellte Wohnungen Baujahr und  Quartier/2018-01-01",
          "Fertig erstellte Wohnungen Baujahr und  Quartier/2014-01-01",
          "Fertig erstellte Wohnungen Baujahr und  Quartier/2011-01-01",
          "Fertig erstellte Wohnungen Baujahr und  Quartier/2009-01-01",
          "Fertig erstellte Wohnungen Baujahr und  Quartier/2018-01-01",
          "Fertig erstellte Wohnungen Baujahr und  Quartier/2019-01-01",
          "Fertig erstellte Wohnungen Baujahr und  Quartier/2020-01-01",
          "Fertig erstellte Wohnungen Baujahr und  Quartier/2021-01-01",
          "Fertig erstellte Wohnungen Baujahr und  Quartier/2011-01-01",
          "Fertig erstellte Wohnungen Baujahr und  Quartier/2013-01-01",
          "Fertig erstellte Wohnungen Baujahr und  Quartier/2017-01-01",
          "Fertig erstellte Wohnungen Baujahr und  Quartier/2016-01-01",
          "Fertig erstellte Wohnungen Baujahr und  Quartier/2012-01-01",
          "Fertig erstellte Wohnungen Baujahr und  Quartier/2014-01-01",
          "Fertig erstellte Wohnungen Baujahr und  Quartier/2015-01-01",
          "Fertig erstellte Wohnungen Baujahr und  Quartier/2017-01-01",
          "Fertig erstellte Wohnungen Baujahr und  Quartier/2016-01-01",
          "Fertig erstellte Wohnungen Baujahr und  Quartier/2015-01-01",
          "Fertig erstellte Wohnungen Baujahr und  Quartier/2012-01-01",
          "Fertig erstellte Wohnungen Baujahr und  Quartier/2014-01-01",
          "Fertig erstellte Wohnungen Baujahr und  Quartier/2021-01-01",
          "Fertig erstellte Wohnungen Baujahr und  Quartier/2020-01-01",
          "Fertig erstellte Wohnungen Baujahr und  Quartier/2019-01-01",
          "Fertig erstellte Wohnungen Baujahr und  Quartier/2014-01-01",
          "Fertig erstellte Wohnungen Baujahr und  Quartier/2013-01-01",
          "Fertig erstellte Wohnungen Baujahr und  Quartier/2011-01-01",
          "Fertig erstellte Wohnungen Baujahr und  Quartier/2012-01-01",
          "Fertig erstellte Wohnungen Baujahr und  Quartier/2014-01-01",
          "Fertig erstellte Wohnungen Baujahr und  Quartier/2016-01-01",
          "Fertig erstellte Wohnungen Baujahr und  Quartier/2018-01-01",
          "Fertig erstellte Wohnungen Baujahr und  Quartier/2015-01-01",
          "Fertig erstellte Wohnungen Baujahr und  Quartier/2017-01-01",
          "Fertig erstellte Wohnungen Baujahr und  Quartier/2010-01-01",
          "Fertig erstellte Wohnungen Baujahr und  Quartier/2021-01-01",
          "Fertig erstellte Wohnungen Baujahr und  Quartier/2010-01-01",
          "Fertig erstellte Wohnungen Baujahr und  Quartier/2012-01-01",
          "Fertig erstellte Wohnungen Baujahr und  Quartier/2011-01-01",
          "Fertig erstellte Wohnungen Baujahr und  Quartier/2017-01-01",
          "Fertig erstellte Wohnungen Baujahr und  Quartier/2018-01-01",
          "Fertig erstellte Wohnungen Baujahr und  Quartier/2021-01-01",
          "Fertig erstellte Wohnungen Baujahr und  Quartier/2009-01-01",
          "Fertig erstellte Wohnungen Baujahr und  Quartier/2015-01-01",
          "Fertig erstellte Wohnungen Baujahr und  Quartier/2013-01-01",
          "Fertig erstellte Wohnungen Baujahr und  Quartier/2013-01-01",
          "Fertig erstellte Wohnungen Baujahr und  Quartier/2009-01-01",
          "Fertig erstellte Wohnungen Baujahr und  Quartier/2010-01-01",
          "Fertig erstellte Wohnungen Baujahr und  Quartier/2011-01-01",
          "Fertig erstellte Wohnungen Baujahr und  Quartier/2012-01-01",
          "Fertig erstellte Wohnungen Baujahr und  Quartier/2015-01-01",
          "Fertig erstellte Wohnungen Baujahr und  Quartier/2016-01-01",
          "Fertig erstellte Wohnungen Baujahr und  Quartier/2017-01-01",
          "Fertig erstellte Wohnungen Baujahr und  Quartier/2018-01-01",
          "Fertig erstellte Wohnungen Baujahr und  Quartier/2019-01-01",
          "Fertig erstellte Wohnungen Baujahr und  Quartier/2020-01-01",
          "Fertig erstellte Wohnungen Baujahr und  Quartier/2014-01-01",
          "Fertig erstellte Wohnungen Baujahr und  Quartier/2010-01-01",
          "Fertig erstellte Wohnungen Baujahr und  Quartier/2011-01-01",
          "Fertig erstellte Wohnungen Baujahr und  Quartier/2012-01-01",
          "Fertig erstellte Wohnungen Baujahr und  Quartier/2013-01-01",
          "Fertig erstellte Wohnungen Baujahr und  Quartier/2014-01-01",
          "Fertig erstellte Wohnungen Baujahr und  Quartier/2017-01-01",
          "Fertig erstellte Wohnungen Baujahr und  Quartier/2016-01-01",
          "Fertig erstellte Wohnungen Baujahr und  Quartier/2018-01-01",
          "Fertig erstellte Wohnungen Baujahr und  Quartier/2019-01-01",
          "Fertig erstellte Wohnungen Baujahr und  Quartier/2020-01-01",
          "Fertig erstellte Wohnungen Baujahr und  Quartier/2021-01-01",
          "Fertig erstellte Wohnungen Baujahr und  Quartier/2015-01-01",
          "Fertig erstellte Wohnungen Baujahr und  Quartier/2009-01-01",
          "Fertig erstellte Wohnungen Baujahr und  Quartier",
          "Fertig erstellte Wohnungen Baujahr und  Quartier",
          "Fertig erstellte Wohnungen Baujahr und  Quartier",
          "Fertig erstellte Wohnungen Baujahr und  Quartier",
          "Fertig erstellte Wohnungen Baujahr und  Quartier",
          "Fertig erstellte Wohnungen Baujahr und  Quartier",
          "Fertig erstellte Wohnungen Baujahr und  Quartier",
          "Fertig erstellte Wohnungen Baujahr und  Quartier",
          "Fertig erstellte Wohnungen Baujahr und  Quartier",
          "Fertig erstellte Wohnungen Baujahr und  Quartier",
          "Fertig erstellte Wohnungen Baujahr und  Quartier",
          "Fertig erstellte Wohnungen Baujahr und  Quartier",
          "Fertig erstellte Wohnungen Baujahr und  Quartier",
          ""
         ],
         "root": {
          "color": "grey"
         },
         "type": "treemap",
         "values": [
          214,
          78,
          66,
          25,
          38,
          13,
          226,
          183,
          32,
          561,
          75,
          89,
          321,
          34,
          44,
          25,
          9,
          84,
          23,
          27,
          9,
          126,
          33,
          87,
          25,
          44,
          20,
          19,
          29,
          68,
          144,
          1,
          30,
          180,
          6,
          15,
          58,
          24,
          55,
          79,
          6,
          2,
          8,
          80,
          41,
          4,
          39,
          10,
          39,
          21,
          11,
          2,
          179,
          307,
          72,
          292,
          57,
          63,
          87,
          100,
          87,
          4,
          236,
          99,
          78,
          121,
          27,
          85,
          142,
          70,
          94,
          137,
          15,
          193,
          61,
          43,
          17,
          214,
          108,
          12,
          147,
          391,
          20,
          40,
          23,
          116,
          29,
          22,
          200,
          223,
          230,
          489,
          396,
          193,
          158,
          27,
          134,
          14,
          165,
          33,
          229,
          64,
          92,
          24,
          4,
          19,
          58,
          125,
          57,
          58,
          51,
          144,
          223,
          100,
          58,
          169,
          48,
          35,
          121,
          3,
          301,
          59,
          42,
          1,
          37,
          10,
          113,
          119,
          88,
          98,
          93,
          31,
          10,
          38,
          12,
          5,
          11,
          23,
          25,
          3,
          6,
          25,
          5,
          6,
          13,
          14,
          3,
          140,
          89,
          37,
          67,
          24,
          5,
          3,
          17,
          1,
          87,
          165,
          36,
          15,
          307,
          95,
          29,
          79,
          18,
          35,
          63,
          8,
          31,
          93,
          65,
          165,
          11,
          4,
          12,
          10,
          114,
          21,
          364,
          18,
          43,
          46,
          221,
          101,
          72,
          79,
          166,
          115,
          124,
          4,
          256,
          3,
          8,
          8,
          67,
          13,
          7,
          31,
          205,
          4,
          26,
          28,
          16,
          33,
          8,
          364,
          2,
          62,
          76,
          119,
          10,
          73,
          17,
          22,
          1,
          11,
          21,
          1,
          169,
          38,
          1,
          33,
          30,
          4,
          22,
          12,
          45,
          27,
          55,
          68,
          27,
          32,
          5,
          114,
          26,
          5,
          117,
          12,
          7,
          33,
          18,
          8,
          15,
          68,
          31,
          55,
          120,
          18,
          73,
          38,
          7,
          34,
          2,
          18,
          51,
          518,
          108,
          23,
          303,
          186,
          466,
          5,
          17,
          146,
          40,
          1,
          384,
          221,
          269,
          69,
          112,
          373,
          52,
          84,
          263,
          751,
          266,
          381,
          264,
          89,
          124,
          29,
          137,
          34,
          381,
          5,
          15,
          36,
          346,
          52,
          228,
          37,
          178,
          315,
          120,
          1072,
          179,
          104,
          126,
          45,
          27,
          204,
          662,
          208,
          68,
          150,
          29,
          83,
          308,
          32,
          1,
          58,
          12,
          171,
          1381,
          1205,
          2307,
          2255,
          2502,
          1939,
          3215,
          2995,
          2662,
          3360,
          1979,
          1772,
          1929,
          29501
         ]
        }
       ],
       "layout": {
        "height": 500,
        "legend": {
         "tracegroupgap": 0
        },
        "margin": {
         "b": 25,
         "l": 25,
         "r": 250,
         "t": 50
        },
        "template": {
         "data": {
          "bar": [
           {
            "error_x": {
             "color": "#2a3f5f"
            },
            "error_y": {
             "color": "#2a3f5f"
            },
            "marker": {
             "line": {
              "color": "#E5ECF6",
              "width": 0.5
             },
             "pattern": {
              "fillmode": "overlay",
              "size": 10,
              "solidity": 0.2
             }
            },
            "type": "bar"
           }
          ],
          "barpolar": [
           {
            "marker": {
             "line": {
              "color": "#E5ECF6",
              "width": 0.5
             },
             "pattern": {
              "fillmode": "overlay",
              "size": 10,
              "solidity": 0.2
             }
            },
            "type": "barpolar"
           }
          ],
          "carpet": [
           {
            "aaxis": {
             "endlinecolor": "#2a3f5f",
             "gridcolor": "white",
             "linecolor": "white",
             "minorgridcolor": "white",
             "startlinecolor": "#2a3f5f"
            },
            "baxis": {
             "endlinecolor": "#2a3f5f",
             "gridcolor": "white",
             "linecolor": "white",
             "minorgridcolor": "white",
             "startlinecolor": "#2a3f5f"
            },
            "type": "carpet"
           }
          ],
          "choropleth": [
           {
            "colorbar": {
             "outlinewidth": 0,
             "ticks": ""
            },
            "type": "choropleth"
           }
          ],
          "contour": [
           {
            "colorbar": {
             "outlinewidth": 0,
             "ticks": ""
            },
            "colorscale": [
             [
              0,
              "#0d0887"
             ],
             [
              0.1111111111111111,
              "#46039f"
             ],
             [
              0.2222222222222222,
              "#7201a8"
             ],
             [
              0.3333333333333333,
              "#9c179e"
             ],
             [
              0.4444444444444444,
              "#bd3786"
             ],
             [
              0.5555555555555556,
              "#d8576b"
             ],
             [
              0.6666666666666666,
              "#ed7953"
             ],
             [
              0.7777777777777778,
              "#fb9f3a"
             ],
             [
              0.8888888888888888,
              "#fdca26"
             ],
             [
              1,
              "#f0f921"
             ]
            ],
            "type": "contour"
           }
          ],
          "contourcarpet": [
           {
            "colorbar": {
             "outlinewidth": 0,
             "ticks": ""
            },
            "type": "contourcarpet"
           }
          ],
          "heatmap": [
           {
            "colorbar": {
             "outlinewidth": 0,
             "ticks": ""
            },
            "colorscale": [
             [
              0,
              "#0d0887"
             ],
             [
              0.1111111111111111,
              "#46039f"
             ],
             [
              0.2222222222222222,
              "#7201a8"
             ],
             [
              0.3333333333333333,
              "#9c179e"
             ],
             [
              0.4444444444444444,
              "#bd3786"
             ],
             [
              0.5555555555555556,
              "#d8576b"
             ],
             [
              0.6666666666666666,
              "#ed7953"
             ],
             [
              0.7777777777777778,
              "#fb9f3a"
             ],
             [
              0.8888888888888888,
              "#fdca26"
             ],
             [
              1,
              "#f0f921"
             ]
            ],
            "type": "heatmap"
           }
          ],
          "heatmapgl": [
           {
            "colorbar": {
             "outlinewidth": 0,
             "ticks": ""
            },
            "colorscale": [
             [
              0,
              "#0d0887"
             ],
             [
              0.1111111111111111,
              "#46039f"
             ],
             [
              0.2222222222222222,
              "#7201a8"
             ],
             [
              0.3333333333333333,
              "#9c179e"
             ],
             [
              0.4444444444444444,
              "#bd3786"
             ],
             [
              0.5555555555555556,
              "#d8576b"
             ],
             [
              0.6666666666666666,
              "#ed7953"
             ],
             [
              0.7777777777777778,
              "#fb9f3a"
             ],
             [
              0.8888888888888888,
              "#fdca26"
             ],
             [
              1,
              "#f0f921"
             ]
            ],
            "type": "heatmapgl"
           }
          ],
          "histogram": [
           {
            "marker": {
             "pattern": {
              "fillmode": "overlay",
              "size": 10,
              "solidity": 0.2
             }
            },
            "type": "histogram"
           }
          ],
          "histogram2d": [
           {
            "colorbar": {
             "outlinewidth": 0,
             "ticks": ""
            },
            "colorscale": [
             [
              0,
              "#0d0887"
             ],
             [
              0.1111111111111111,
              "#46039f"
             ],
             [
              0.2222222222222222,
              "#7201a8"
             ],
             [
              0.3333333333333333,
              "#9c179e"
             ],
             [
              0.4444444444444444,
              "#bd3786"
             ],
             [
              0.5555555555555556,
              "#d8576b"
             ],
             [
              0.6666666666666666,
              "#ed7953"
             ],
             [
              0.7777777777777778,
              "#fb9f3a"
             ],
             [
              0.8888888888888888,
              "#fdca26"
             ],
             [
              1,
              "#f0f921"
             ]
            ],
            "type": "histogram2d"
           }
          ],
          "histogram2dcontour": [
           {
            "colorbar": {
             "outlinewidth": 0,
             "ticks": ""
            },
            "colorscale": [
             [
              0,
              "#0d0887"
             ],
             [
              0.1111111111111111,
              "#46039f"
             ],
             [
              0.2222222222222222,
              "#7201a8"
             ],
             [
              0.3333333333333333,
              "#9c179e"
             ],
             [
              0.4444444444444444,
              "#bd3786"
             ],
             [
              0.5555555555555556,
              "#d8576b"
             ],
             [
              0.6666666666666666,
              "#ed7953"
             ],
             [
              0.7777777777777778,
              "#fb9f3a"
             ],
             [
              0.8888888888888888,
              "#fdca26"
             ],
             [
              1,
              "#f0f921"
             ]
            ],
            "type": "histogram2dcontour"
           }
          ],
          "mesh3d": [
           {
            "colorbar": {
             "outlinewidth": 0,
             "ticks": ""
            },
            "type": "mesh3d"
           }
          ],
          "parcoords": [
           {
            "line": {
             "colorbar": {
              "outlinewidth": 0,
              "ticks": ""
             }
            },
            "type": "parcoords"
           }
          ],
          "pie": [
           {
            "automargin": true,
            "type": "pie"
           }
          ],
          "scatter": [
           {
            "marker": {
             "colorbar": {
              "outlinewidth": 0,
              "ticks": ""
             }
            },
            "type": "scatter"
           }
          ],
          "scatter3d": [
           {
            "line": {
             "colorbar": {
              "outlinewidth": 0,
              "ticks": ""
             }
            },
            "marker": {
             "colorbar": {
              "outlinewidth": 0,
              "ticks": ""
             }
            },
            "type": "scatter3d"
           }
          ],
          "scattercarpet": [
           {
            "marker": {
             "colorbar": {
              "outlinewidth": 0,
              "ticks": ""
             }
            },
            "type": "scattercarpet"
           }
          ],
          "scattergeo": [
           {
            "marker": {
             "colorbar": {
              "outlinewidth": 0,
              "ticks": ""
             }
            },
            "type": "scattergeo"
           }
          ],
          "scattergl": [
           {
            "marker": {
             "colorbar": {
              "outlinewidth": 0,
              "ticks": ""
             }
            },
            "type": "scattergl"
           }
          ],
          "scattermapbox": [
           {
            "marker": {
             "colorbar": {
              "outlinewidth": 0,
              "ticks": ""
             }
            },
            "type": "scattermapbox"
           }
          ],
          "scatterpolar": [
           {
            "marker": {
             "colorbar": {
              "outlinewidth": 0,
              "ticks": ""
             }
            },
            "type": "scatterpolar"
           }
          ],
          "scatterpolargl": [
           {
            "marker": {
             "colorbar": {
              "outlinewidth": 0,
              "ticks": ""
             }
            },
            "type": "scatterpolargl"
           }
          ],
          "scatterternary": [
           {
            "marker": {
             "colorbar": {
              "outlinewidth": 0,
              "ticks": ""
             }
            },
            "type": "scatterternary"
           }
          ],
          "surface": [
           {
            "colorbar": {
             "outlinewidth": 0,
             "ticks": ""
            },
            "colorscale": [
             [
              0,
              "#0d0887"
             ],
             [
              0.1111111111111111,
              "#46039f"
             ],
             [
              0.2222222222222222,
              "#7201a8"
             ],
             [
              0.3333333333333333,
              "#9c179e"
             ],
             [
              0.4444444444444444,
              "#bd3786"
             ],
             [
              0.5555555555555556,
              "#d8576b"
             ],
             [
              0.6666666666666666,
              "#ed7953"
             ],
             [
              0.7777777777777778,
              "#fb9f3a"
             ],
             [
              0.8888888888888888,
              "#fdca26"
             ],
             [
              1,
              "#f0f921"
             ]
            ],
            "type": "surface"
           }
          ],
          "table": [
           {
            "cells": {
             "fill": {
              "color": "#EBF0F8"
             },
             "line": {
              "color": "white"
             }
            },
            "header": {
             "fill": {
              "color": "#C8D4E3"
             },
             "line": {
              "color": "white"
             }
            },
            "type": "table"
           }
          ]
         },
         "layout": {
          "annotationdefaults": {
           "arrowcolor": "#2a3f5f",
           "arrowhead": 0,
           "arrowwidth": 1
          },
          "autotypenumbers": "strict",
          "coloraxis": {
           "colorbar": {
            "outlinewidth": 0,
            "ticks": ""
           }
          },
          "colorscale": {
           "diverging": [
            [
             0,
             "#8e0152"
            ],
            [
             0.1,
             "#c51b7d"
            ],
            [
             0.2,
             "#de77ae"
            ],
            [
             0.3,
             "#f1b6da"
            ],
            [
             0.4,
             "#fde0ef"
            ],
            [
             0.5,
             "#f7f7f7"
            ],
            [
             0.6,
             "#e6f5d0"
            ],
            [
             0.7,
             "#b8e186"
            ],
            [
             0.8,
             "#7fbc41"
            ],
            [
             0.9,
             "#4d9221"
            ],
            [
             1,
             "#276419"
            ]
           ],
           "sequential": [
            [
             0,
             "#0d0887"
            ],
            [
             0.1111111111111111,
             "#46039f"
            ],
            [
             0.2222222222222222,
             "#7201a8"
            ],
            [
             0.3333333333333333,
             "#9c179e"
            ],
            [
             0.4444444444444444,
             "#bd3786"
            ],
            [
             0.5555555555555556,
             "#d8576b"
            ],
            [
             0.6666666666666666,
             "#ed7953"
            ],
            [
             0.7777777777777778,
             "#fb9f3a"
            ],
            [
             0.8888888888888888,
             "#fdca26"
            ],
            [
             1,
             "#f0f921"
            ]
           ],
           "sequentialminus": [
            [
             0,
             "#0d0887"
            ],
            [
             0.1111111111111111,
             "#46039f"
            ],
            [
             0.2222222222222222,
             "#7201a8"
            ],
            [
             0.3333333333333333,
             "#9c179e"
            ],
            [
             0.4444444444444444,
             "#bd3786"
            ],
            [
             0.5555555555555556,
             "#d8576b"
            ],
            [
             0.6666666666666666,
             "#ed7953"
            ],
            [
             0.7777777777777778,
             "#fb9f3a"
            ],
            [
             0.8888888888888888,
             "#fdca26"
            ],
            [
             1,
             "#f0f921"
            ]
           ]
          },
          "colorway": [
           "#636efa",
           "#EF553B",
           "#00cc96",
           "#ab63fa",
           "#FFA15A",
           "#19d3f3",
           "#FF6692",
           "#B6E880",
           "#FF97FF",
           "#FECB52"
          ],
          "font": {
           "color": "#2a3f5f"
          },
          "geo": {
           "bgcolor": "white",
           "lakecolor": "white",
           "landcolor": "#E5ECF6",
           "showlakes": true,
           "showland": true,
           "subunitcolor": "white"
          },
          "hoverlabel": {
           "align": "left"
          },
          "hovermode": "closest",
          "mapbox": {
           "style": "light"
          },
          "paper_bgcolor": "white",
          "plot_bgcolor": "#E5ECF6",
          "polar": {
           "angularaxis": {
            "gridcolor": "white",
            "linecolor": "white",
            "ticks": ""
           },
           "bgcolor": "#E5ECF6",
           "radialaxis": {
            "gridcolor": "white",
            "linecolor": "white",
            "ticks": ""
           }
          },
          "scene": {
           "xaxis": {
            "backgroundcolor": "#E5ECF6",
            "gridcolor": "white",
            "gridwidth": 2,
            "linecolor": "white",
            "showbackground": true,
            "ticks": "",
            "zerolinecolor": "white"
           },
           "yaxis": {
            "backgroundcolor": "#E5ECF6",
            "gridcolor": "white",
            "gridwidth": 2,
            "linecolor": "white",
            "showbackground": true,
            "ticks": "",
            "zerolinecolor": "white"
           },
           "zaxis": {
            "backgroundcolor": "#E5ECF6",
            "gridcolor": "white",
            "gridwidth": 2,
            "linecolor": "white",
            "showbackground": true,
            "ticks": "",
            "zerolinecolor": "white"
           }
          },
          "shapedefaults": {
           "line": {
            "color": "#2a3f5f"
           }
          },
          "ternary": {
           "aaxis": {
            "gridcolor": "white",
            "linecolor": "white",
            "ticks": ""
           },
           "baxis": {
            "gridcolor": "white",
            "linecolor": "white",
            "ticks": ""
           },
           "bgcolor": "#E5ECF6",
           "caxis": {
            "gridcolor": "white",
            "linecolor": "white",
            "ticks": ""
           }
          },
          "title": {
           "x": 0.05
          },
          "xaxis": {
           "automargin": true,
           "gridcolor": "white",
           "linecolor": "white",
           "ticks": "",
           "title": {
            "standoff": 15
           },
           "zerolinecolor": "white",
           "zerolinewidth": 2
          },
          "yaxis": {
           "automargin": true,
           "gridcolor": "white",
           "linecolor": "white",
           "ticks": "",
           "title": {
            "standoff": 15
           },
           "zerolinecolor": "white",
           "zerolinewidth": 2
          }
         }
        },
        "width": 1100
       }
      },
      "image/png": "[encoded data removed]",
      "text/html": [
       "<div>                            <div id=\"7d965de4-232b-4108-b31a-e13aa752b6df\" class=\"plotly-graph-div\" style=\"height:500px; width:1100px;\"></div>            <script type=\"text/javascript\">                require([\"plotly\"], function(Plotly) {                    window.PLOTLYENV=window.PLOTLYENV || {};                                    if (document.getElementById(\"7d965de4-232b-4108-b31a-e13aa752b6df\")) {                    Plotly.newPlot(                        \"7d965de4-232b-4108-b31a-e13aa752b6df\",                        [{\"branchvalues\":\"total\",\"customdata\":[[\"Wollishofen\"],[\"Wollishofen\"],[\"Wollishofen\"],[\"Wollishofen\"],[\"Wollishofen\"],[\"Wollishofen\"],[\"Wollishofen\"],[\"Wollishofen\"],[\"Wollishofen\"],[\"Wollishofen\"],[\"Wollishofen\"],[\"Wollishofen\"],[\"Wollishofen\"],[\"Witikon\"],[\"Witikon\"],[\"Witikon\"],[\"Witikon\"],[\"Witikon\"],[\"Wipkingen\"],[\"Witikon\"],[\"Witikon\"],[\"Witikon\"],[\"Witikon\"],[\"Witikon\"],[\"Witikon\"],[\"Witikon\"],[\"Wipkingen\"],[\"Wipkingen\"],[\"Wipkingen\"],[\"Wipkingen\"],[\"Wipkingen\"],[\"Wipkingen\"],[\"Wipkingen\"],[\"Wipkingen\"],[\"Werd\"],[\"Weinegg\"],[\"Weinegg\"],[\"Werd\"],[\"Werd\"],[\"Weinegg\"],[\"Werd\"],[\"Werd\"],[\"Werd\"],[\"Werd\"],[\"Werd\"],[\"Wipkingen\"],[\"Wipkingen\"],[\"Weinegg\"],[\"Weinegg\"],[\"Weinegg\"],[\"Weinegg\"],[\"Weinegg\"],[\"Unterstrass\"],[\"Unterstrass\"],[\"Unterstrass\"],[\"Unterstrass\"],[\"Weinegg\"],[\"Unterstrass\"],[\"Unterstrass\"],[\"Unterstrass\"],[\"Unterstrass\"],[\"Unterstrass\"],[\"Unterstrass\"],[\"Unterstrass\"],[\"Unterstrass\"],[\"Seefeld\"],[\"Sihlfeld\"],[\"Sihlfeld\"],[\"Sihlfeld\"],[\"Sihlfeld\"],[\"Sihlfeld\"],[\"Sihlfeld\"],[\"Sihlfeld\"],[\"Sihlfeld\"],[\"Sihlfeld\"],[\"Sihlfeld\"],[\"Sihlfeld\"],[\"Seebach\"],[\"Seebach\"],[\"Seebach\"],[\"Seebach\"],[\"Seebach\"],[\"Seefeld\"],[\"Seefeld\"],[\"Seefeld\"],[\"Seefeld\"],[\"Seefeld\"],[\"Seefeld\"],[\"Seebach\"],[\"Seebach\"],[\"Seebach\"],[\"Seebach\"],[\"Seebach\"],[\"Seebach\"],[\"Seebach\"],[\"Schwamendingen-Mitte\"],[\"Schwamendingen-Mitte\"],[\"Schwamendingen-Mitte\"],[\"Seebach\"],[\"Schwamendingen-Mitte\"],[\"Saatlen\"],[\"Saatlen\"],[\"Saatlen\"],[\"Saatlen\"],[\"Saatlen\"],[\"Schwamendingen-Mitte\"],[\"Schwamendingen-Mitte\"],[\"Schwamendingen-Mitte\"],[\"Schwamendingen-Mitte\"],[\"Schwamendingen-Mitte\"],[\"Schwamendingen-Mitte\"],[\"Oerlikon\"],[\"Oerlikon\"],[\"Oerlikon\"],[\"Oerlikon\"],[\"Oerlikon\"],[\"Saatlen\"],[\"Saatlen\"],[\"Saatlen\"],[\"Rathaus\"],[\"Saatlen\"],[\"Oerlikon\"],[\"Oberstrass\"],[\"Oberstrass\"],[\"Oberstrass\"],[\"Oerlikon\"],[\"Oerlikon\"],[\"Oerlikon\"],[\"Oerlikon\"],[\"Oerlikon\"],[\"Oerlikon\"],[\"Oerlikon\"],[\"M\\u00fchlebach\"],[\"M\\u00fchlebach\"],[\"M\\u00fchlebach\"],[\"Oberstrass\"],[\"Oberstrass\"],[\"M\\u00fchlebach\"],[\"Oberstrass\"],[\"Oberstrass\"],[\"Oberstrass\"],[\"Oberstrass\"],[\"Oberstrass\"],[\"Oberstrass\"],[\"Oberstrass\"],[\"Leimbach\"],[\"Leimbach\"],[\"Leimbach\"],[\"M\\u00fchlebach\"],[\"M\\u00fchlebach\"],[\"M\\u00fchlebach\"],[\"M\\u00fchlebach\"],[\"M\\u00fchlebach\"],[\"M\\u00fchlebach\"],[\"Leimbach\"],[\"Leimbach\"],[\"Leimbach\"],[\"Leimbach\"],[\"Leimbach\"],[\"Langstrasse\"],[\"Langstrasse\"],[\"Langstrasse\"],[\"Leimbach\"],[\"H\\u00f6ngg\"],[\"H\\u00f6ngg\"],[\"H\\u00f6ngg\"],[\"H\\u00f6ngg\"],[\"Langstrasse\"],[\"Langstrasse\"],[\"Langstrasse\"],[\"Langstrasse\"],[\"Langstrasse\"],[\"Langstrasse\"],[\"Hottingen\"],[\"Hottingen\"],[\"Hottingen\"],[\"H\\u00f6ngg\"],[\"H\\u00f6ngg\"],[\"H\\u00f6ngg\"],[\"H\\u00f6ngg\"],[\"H\\u00f6ngg\"],[\"H\\u00f6ngg\"],[\"H\\u00f6ngg\"],[\"H\\u00f6ngg\"],[\"H\\u00f6ngg\"],[\"Hirzenbach\"],[\"Hirzenbach\"],[\"Hirzenbach\"],[\"Hirzenbach\"],[\"Hochschulen\"],[\"Hirzenbach\"],[\"Hottingen\"],[\"Hottingen\"],[\"Hottingen\"],[\"Hottingen\"],[\"Hottingen\"],[\"Hottingen\"],[\"Hottingen\"],[\"Hirzenbach\"],[\"Hirslanden\"],[\"Hirslanden\"],[\"Hirslanden\"],[\"Hirslanden\"],[\"Hirzenbach\"],[\"Hirzenbach\"],[\"Hirzenbach\"],[\"Hirslanden\"],[\"Hirzenbach\"],[\"Hard\"],[\"Hard\"],[\"Hard\"],[\"Hard\"],[\"Hirslanden\"],[\"Hirslanden\"],[\"Hirslanden\"],[\"Hirslanden\"],[\"Hirslanden\"],[\"Hirslanden\"],[\"Friesenberg\"],[\"Friesenberg\"],[\"Friesenberg\"],[\"Friesenberg\"],[\"Friesenberg\"],[\"Gewerbeschule\"],[\"Gewerbeschule\"],[\"Gewerbeschule\"],[\"Gewerbeschule\"],[\"Gewerbeschule\"],[\"Gewerbeschule\"],[\"Hard\"],[\"Gewerbeschule\"],[\"Fluntern\"],[\"Friesenberg\"],[\"Friesenberg\"],[\"Friesenberg\"],[\"Friesenberg\"],[\"Friesenberg\"],[\"Friesenberg\"],[\"Fluntern\"],[\"Fluntern\"],[\"Fluntern\"],[\"Fluntern\"],[\"Fluntern\"],[\"Fluntern\"],[\"Fluntern\"],[\"Fluntern\"],[\"Fluntern\"],[\"Fluntern\"],[\"Fluntern\"],[\"Escher Wyss\"],[\"Enge\"],[\"Enge\"],[\"Enge\"],[\"Enge\"],[\"Escher Wyss\"],[\"Escher Wyss\"],[\"Escher Wyss\"],[\"Escher Wyss\"],[\"Escher Wyss\"],[\"Escher Wyss\"],[\"Escher Wyss\"],[\"Enge\"],[\"Enge\"],[\"Enge\"],[\"Enge\"],[\"City\"],[\"Altstetten\"],[\"Altstetten\"],[\"Altstetten\"],[\"Enge\"],[\"Altstetten\"],[\"Altstetten\"],[\"Altstetten\"],[\"Altstetten\"],[\"Altstetten\"],[\"Altstetten\"],[\"Altstetten\"],[\"Altstetten\"],[\"Altstetten\"],[\"Albisrieden\"],[\"Alt-Wiedikon\"],[\"Alt-Wiedikon\"],[\"Alt-Wiedikon\"],[\"Alt-Wiedikon\"],[\"Alt-Wiedikon\"],[\"Alt-Wiedikon\"],[\"Altstetten\"],[\"Alt-Wiedikon\"],[\"Alt-Wiedikon\"],[\"Albisrieden\"],[\"Albisrieden\"],[\"Albisrieden\"],[\"Albisrieden\"],[\"Albisrieden\"],[\"Albisrieden\"],[\"Albisrieden\"],[\"Albisrieden\"],[\"Albisrieden\"],[\"Albisrieden\"],[\"Albisrieden\"],[\"Albisrieden\"],[\"Affoltern\"],[\"Affoltern\"],[\"Affoltern\"],[\"Affoltern\"],[\"Affoltern\"],[\"Affoltern\"],[\"Affoltern\"],[\"Affoltern\"],[\"Affoltern\"],[\"Affoltern\"],[\"Affoltern\"],[\"Affoltern\"],[\"Affoltern\"],[\"(?)\"],[\"(?)\"],[\"(?)\"],[\"(?)\"],[\"(?)\"],[\"(?)\"],[\"(?)\"],[\"(?)\"],[\"(?)\"],[\"(?)\"],[\"(?)\"],[\"(?)\"],[\"(?)\"],[\"(?)\"]],\"domain\":{\"x\":[0.0,1.0],\"y\":[0.0,1.0]},\"hovertemplate\":\"labels=%{label}<br>sum_Whg_fertigerstellt=%{value}<br>parent=%{parent}<br>id=%{id}<br>QuarLang=%{customdata[0]}<extra></extra>\",\"ids\":[\"Fertig erstellte Wohnungen Baujahr und  Quartier/2021-01-01/Wollishofen\",\"Fertig erstellte Wohnungen Baujahr und  Quartier/2009-01-01/Wollishofen\",\"Fertig erstellte Wohnungen Baujahr und  Quartier/2010-01-01/Wollishofen\",\"Fertig erstellte Wohnungen Baujahr und  Quartier/2011-01-01/Wollishofen\",\"Fertig erstellte Wohnungen Baujahr und  Quartier/2012-01-01/Wollishofen\",\"Fertig erstellte Wohnungen Baujahr und  Quartier/2013-01-01/Wollishofen\",\"Fertig erstellte Wohnungen Baujahr und  Quartier/2020-01-01/Wollishofen\",\"Fertig erstellte Wohnungen Baujahr und  Quartier/2015-01-01/Wollishofen\",\"Fertig erstellte Wohnungen Baujahr und  Quartier/2019-01-01/Wollishofen\",\"Fertig erstellte Wohnungen Baujahr und  Quartier/2018-01-01/Wollishofen\",\"Fertig erstellte Wohnungen Baujahr und  Quartier/2014-01-01/Wollishofen\",\"Fertig erstellte Wohnungen Baujahr und  Quartier/2016-01-01/Wollishofen\",\"Fertig erstellte Wohnungen Baujahr und  Quartier/2017-01-01/Wollishofen\",\"Fertig erstellte Wohnungen Baujahr und  Quartier/2009-01-01/Witikon\",\"Fertig erstellte Wohnungen Baujahr und  Quartier/2011-01-01/Witikon\",\"Fertig erstellte Wohnungen Baujahr und  Quartier/2012-01-01/Witikon\",\"Fertig erstellte Wohnungen Baujahr und  Quartier/2013-01-01/Witikon\",\"Fertig erstellte Wohnungen Baujahr und  Quartier/2014-01-01/Witikon\",\"Fertig erstellte Wohnungen Baujahr und  Quartier/2021-01-01/Wipkingen\",\"Fertig erstellte Wohnungen Baujahr und  Quartier/2016-01-01/Witikon\",\"Fertig erstellte Wohnungen Baujahr und  Quartier/2017-01-01/Witikon\",\"Fertig erstellte Wohnungen Baujahr und  Quartier/2018-01-01/Witikon\",\"Fertig erstellte Wohnungen Baujahr und  Quartier/2019-01-01/Witikon\",\"Fertig erstellte Wohnungen Baujahr und  Quartier/2020-01-01/Witikon\",\"Fertig erstellte Wohnungen Baujahr und  Quartier/2021-01-01/Witikon\",\"Fertig erstellte Wohnungen Baujahr und  Quartier/2015-01-01/Witikon\",\"Fertig erstellte Wohnungen Baujahr und  Quartier/2011-01-01/Wipkingen\",\"Fertig erstellte Wohnungen Baujahr und  Quartier/2012-01-01/Wipkingen\",\"Fertig erstellte Wohnungen Baujahr und  Quartier/2013-01-01/Wipkingen\",\"Fertig erstellte Wohnungen Baujahr und  Quartier/2016-01-01/Wipkingen\",\"Fertig erstellte Wohnungen Baujahr und  Quartier/2017-01-01/Wipkingen\",\"Fertig erstellte Wohnungen Baujahr und  Quartier/2018-01-01/Wipkingen\",\"Fertig erstellte Wohnungen Baujahr und  Quartier/2020-01-01/Wipkingen\",\"Fertig erstellte Wohnungen Baujahr und  Quartier/2015-01-01/Wipkingen\",\"Fertig erstellte Wohnungen Baujahr und  Quartier/2013-01-01/Werd\",\"Fertig erstellte Wohnungen Baujahr und  Quartier/2018-01-01/Weinegg\",\"Fertig erstellte Wohnungen Baujahr und  Quartier/2020-01-01/Weinegg\",\"Fertig erstellte Wohnungen Baujahr und  Quartier/2009-01-01/Werd\",\"Fertig erstellte Wohnungen Baujahr und  Quartier/2014-01-01/Werd\",\"Fertig erstellte Wohnungen Baujahr und  Quartier/2019-01-01/Weinegg\",\"Fertig erstellte Wohnungen Baujahr und  Quartier/2017-01-01/Werd\",\"Fertig erstellte Wohnungen Baujahr und  Quartier/2019-01-01/Werd\",\"Fertig erstellte Wohnungen Baujahr und  Quartier/2020-01-01/Werd\",\"Fertig erstellte Wohnungen Baujahr und  Quartier/2021-01-01/Werd\",\"Fertig erstellte Wohnungen Baujahr und  Quartier/2016-01-01/Werd\",\"Fertig erstellte Wohnungen Baujahr und  Quartier/2009-01-01/Wipkingen\",\"Fertig erstellte Wohnungen Baujahr und  Quartier/2010-01-01/Wipkingen\",\"Fertig erstellte Wohnungen Baujahr und  Quartier/2017-01-01/Weinegg\",\"Fertig erstellte Wohnungen Baujahr und  Quartier/2015-01-01/Weinegg\",\"Fertig erstellte Wohnungen Baujahr und  Quartier/2014-01-01/Weinegg\",\"Fertig erstellte Wohnungen Baujahr und  Quartier/2013-01-01/Weinegg\",\"Fertig erstellte Wohnungen Baujahr und  Quartier/2009-01-01/Weinegg\",\"Fertig erstellte Wohnungen Baujahr und  Quartier/2021-01-01/Unterstrass\",\"Fertig erstellte Wohnungen Baujahr und  Quartier/2020-01-01/Unterstrass\",\"Fertig erstellte Wohnungen Baujahr und  Quartier/2019-01-01/Unterstrass\",\"Fertig erstellte Wohnungen Baujahr und  Quartier/2018-01-01/Unterstrass\",\"Fertig erstellte Wohnungen Baujahr und  Quartier/2016-01-01/Weinegg\",\"Fertig erstellte Wohnungen Baujahr und  Quartier/2010-01-01/Unterstrass\",\"Fertig erstellte Wohnungen Baujahr und  Quartier/2011-01-01/Unterstrass\",\"Fertig erstellte Wohnungen Baujahr und  Quartier/2012-01-01/Unterstrass\",\"Fertig erstellte Wohnungen Baujahr und  Quartier/2013-01-01/Unterstrass\",\"Fertig erstellte Wohnungen Baujahr und  Quartier/2014-01-01/Unterstrass\",\"Fertig erstellte Wohnungen Baujahr und  Quartier/2015-01-01/Unterstrass\",\"Fertig erstellte Wohnungen Baujahr und  Quartier/2016-01-01/Unterstrass\",\"Fertig erstellte Wohnungen Baujahr und  Quartier/2017-01-01/Unterstrass\",\"Fertig erstellte Wohnungen Baujahr und  Quartier/2021-01-01/Seefeld\",\"Fertig erstellte Wohnungen Baujahr und  Quartier/2009-01-01/Sihlfeld\",\"Fertig erstellte Wohnungen Baujahr und  Quartier/2011-01-01/Sihlfeld\",\"Fertig erstellte Wohnungen Baujahr und  Quartier/2012-01-01/Sihlfeld\",\"Fertig erstellte Wohnungen Baujahr und  Quartier/2014-01-01/Sihlfeld\",\"Fertig erstellte Wohnungen Baujahr und  Quartier/2013-01-01/Sihlfeld\",\"Fertig erstellte Wohnungen Baujahr und  Quartier/2017-01-01/Sihlfeld\",\"Fertig erstellte Wohnungen Baujahr und  Quartier/2018-01-01/Sihlfeld\",\"Fertig erstellte Wohnungen Baujahr und  Quartier/2019-01-01/Sihlfeld\",\"Fertig erstellte Wohnungen Baujahr und  Quartier/2020-01-01/Sihlfeld\",\"Fertig erstellte Wohnungen Baujahr und  Quartier/2015-01-01/Sihlfeld\",\"Fertig erstellte Wohnungen Baujahr und  Quartier/2021-01-01/Sihlfeld\",\"Fertig erstellte Wohnungen Baujahr und  Quartier/2021-01-01/Seebach\",\"Fertig erstellte Wohnungen Baujahr und  Quartier/2017-01-01/Seebach\",\"Fertig erstellte Wohnungen Baujahr und  Quartier/2018-01-01/Seebach\",\"Fertig erstellte Wohnungen Baujahr und  Quartier/2019-01-01/Seebach\",\"Fertig erstellte Wohnungen Baujahr und  Quartier/2020-01-01/Seebach\",\"Fertig erstellte Wohnungen Baujahr und  Quartier/2009-01-01/Seefeld\",\"Fertig erstellte Wohnungen Baujahr und  Quartier/2011-01-01/Seefeld\",\"Fertig erstellte Wohnungen Baujahr und  Quartier/2010-01-01/Seefeld\",\"Fertig erstellte Wohnungen Baujahr und  Quartier/2017-01-01/Seefeld\",\"Fertig erstellte Wohnungen Baujahr und  Quartier/2013-01-01/Seefeld\",\"Fertig erstellte Wohnungen Baujahr und  Quartier/2014-01-01/Seefeld\",\"Fertig erstellte Wohnungen Baujahr und  Quartier/2016-01-01/Seebach\",\"Fertig erstellte Wohnungen Baujahr und  Quartier/2015-01-01/Seebach\",\"Fertig erstellte Wohnungen Baujahr und  Quartier/2014-01-01/Seebach\",\"Fertig erstellte Wohnungen Baujahr und  Quartier/2013-01-01/Seebach\",\"Fertig erstellte Wohnungen Baujahr und  Quartier/2012-01-01/Seebach\",\"Fertig erstellte Wohnungen Baujahr und  Quartier/2011-01-01/Seebach\",\"Fertig erstellte Wohnungen Baujahr und  Quartier/2010-01-01/Seebach\",\"Fertig erstellte Wohnungen Baujahr und  Quartier/2017-01-01/Schwamendingen-Mitte\",\"Fertig erstellte Wohnungen Baujahr und  Quartier/2018-01-01/Schwamendingen-Mitte\",\"Fertig erstellte Wohnungen Baujahr und  Quartier/2021-01-01/Schwamendingen-Mitte\",\"Fertig erstellte Wohnungen Baujahr und  Quartier/2009-01-01/Seebach\",\"Fertig erstellte Wohnungen Baujahr und  Quartier/2019-01-01/Schwamendingen-Mitte\",\"Fertig erstellte Wohnungen Baujahr und  Quartier/2019-01-01/Saatlen\",\"Fertig erstellte Wohnungen Baujahr und  Quartier/2016-01-01/Saatlen\",\"Fertig erstellte Wohnungen Baujahr und  Quartier/2017-01-01/Saatlen\",\"Fertig erstellte Wohnungen Baujahr und  Quartier/2018-01-01/Saatlen\",\"Fertig erstellte Wohnungen Baujahr und  Quartier/2020-01-01/Saatlen\",\"Fertig erstellte Wohnungen Baujahr und  Quartier/2015-01-01/Schwamendingen-Mitte\",\"Fertig erstellte Wohnungen Baujahr und  Quartier/2012-01-01/Schwamendingen-Mitte\",\"Fertig erstellte Wohnungen Baujahr und  Quartier/2013-01-01/Schwamendingen-Mitte\",\"Fertig erstellte Wohnungen Baujahr und  Quartier/2014-01-01/Schwamendingen-Mitte\",\"Fertig erstellte Wohnungen Baujahr und  Quartier/2016-01-01/Schwamendingen-Mitte\",\"Fertig erstellte Wohnungen Baujahr und  Quartier/2009-01-01/Schwamendingen-Mitte\",\"Fertig erstellte Wohnungen Baujahr und  Quartier/2020-01-01/Oerlikon\",\"Fertig erstellte Wohnungen Baujahr und  Quartier/2018-01-01/Oerlikon\",\"Fertig erstellte Wohnungen Baujahr und  Quartier/2019-01-01/Oerlikon\",\"Fertig erstellte Wohnungen Baujahr und  Quartier/2021-01-01/Oerlikon\",\"Fertig erstellte Wohnungen Baujahr und  Quartier/2017-01-01/Oerlikon\",\"Fertig erstellte Wohnungen Baujahr und  Quartier/2009-01-01/Saatlen\",\"Fertig erstellte Wohnungen Baujahr und  Quartier/2013-01-01/Saatlen\",\"Fertig erstellte Wohnungen Baujahr und  Quartier/2014-01-01/Saatlen\",\"Fertig erstellte Wohnungen Baujahr und  Quartier/2009-01-01/Rathaus\",\"Fertig erstellte Wohnungen Baujahr und  Quartier/2015-01-01/Saatlen\",\"Fertig erstellte Wohnungen Baujahr und  Quartier/2016-01-01/Oerlikon\",\"Fertig erstellte Wohnungen Baujahr und  Quartier/2018-01-01/Oberstrass\",\"Fertig erstellte Wohnungen Baujahr und  Quartier/2019-01-01/Oberstrass\",\"Fertig erstellte Wohnungen Baujahr und  Quartier/2021-01-01/Oberstrass\",\"Fertig erstellte Wohnungen Baujahr und  Quartier/2009-01-01/Oerlikon\",\"Fertig erstellte Wohnungen Baujahr und  Quartier/2015-01-01/Oerlikon\",\"Fertig erstellte Wohnungen Baujahr und  Quartier/2011-01-01/Oerlikon\",\"Fertig erstellte Wohnungen Baujahr und  Quartier/2012-01-01/Oerlikon\",\"Fertig erstellte Wohnungen Baujahr und  Quartier/2013-01-01/Oerlikon\",\"Fertig erstellte Wohnungen Baujahr und  Quartier/2014-01-01/Oerlikon\",\"Fertig erstellte Wohnungen Baujahr und  Quartier/2010-01-01/Oerlikon\",\"Fertig erstellte Wohnungen Baujahr und  Quartier/2016-01-01/M\\u00fchlebach\",\"Fertig erstellte Wohnungen Baujahr und  Quartier/2017-01-01/M\\u00fchlebach\",\"Fertig erstellte Wohnungen Baujahr und  Quartier/2019-01-01/M\\u00fchlebach\",\"Fertig erstellte Wohnungen Baujahr und  Quartier/2009-01-01/Oberstrass\",\"Fertig erstellte Wohnungen Baujahr und  Quartier/2010-01-01/Oberstrass\",\"Fertig erstellte Wohnungen Baujahr und  Quartier/2018-01-01/M\\u00fchlebach\",\"Fertig erstellte Wohnungen Baujahr und  Quartier/2012-01-01/Oberstrass\",\"Fertig erstellte Wohnungen Baujahr und  Quartier/2013-01-01/Oberstrass\",\"Fertig erstellte Wohnungen Baujahr und  Quartier/2014-01-01/Oberstrass\",\"Fertig erstellte Wohnungen Baujahr und  Quartier/2015-01-01/Oberstrass\",\"Fertig erstellte Wohnungen Baujahr und  Quartier/2016-01-01/Oberstrass\",\"Fertig erstellte Wohnungen Baujahr und  Quartier/2017-01-01/Oberstrass\",\"Fertig erstellte Wohnungen Baujahr und  Quartier/2011-01-01/Oberstrass\",\"Fertig erstellte Wohnungen Baujahr und  Quartier/2018-01-01/Leimbach\",\"Fertig erstellte Wohnungen Baujahr und  Quartier/2019-01-01/Leimbach\",\"Fertig erstellte Wohnungen Baujahr und  Quartier/2021-01-01/Leimbach\",\"Fertig erstellte Wohnungen Baujahr und  Quartier/2009-01-01/M\\u00fchlebach\",\"Fertig erstellte Wohnungen Baujahr und  Quartier/2011-01-01/M\\u00fchlebach\",\"Fertig erstellte Wohnungen Baujahr und  Quartier/2012-01-01/M\\u00fchlebach\",\"Fertig erstellte Wohnungen Baujahr und  Quartier/2013-01-01/M\\u00fchlebach\",\"Fertig erstellte Wohnungen Baujahr und  Quartier/2014-01-01/M\\u00fchlebach\",\"Fertig erstellte Wohnungen Baujahr und  Quartier/2010-01-01/M\\u00fchlebach\",\"Fertig erstellte Wohnungen Baujahr und  Quartier/2017-01-01/Leimbach\",\"Fertig erstellte Wohnungen Baujahr und  Quartier/2016-01-01/Leimbach\",\"Fertig erstellte Wohnungen Baujahr und  Quartier/2015-01-01/Leimbach\",\"Fertig erstellte Wohnungen Baujahr und  Quartier/2013-01-01/Leimbach\",\"Fertig erstellte Wohnungen Baujahr und  Quartier/2010-01-01/Leimbach\",\"Fertig erstellte Wohnungen Baujahr und  Quartier/2021-01-01/Langstrasse\",\"Fertig erstellte Wohnungen Baujahr und  Quartier/2019-01-01/Langstrasse\",\"Fertig erstellte Wohnungen Baujahr und  Quartier/2017-01-01/Langstrasse\",\"Fertig erstellte Wohnungen Baujahr und  Quartier/2011-01-01/Leimbach\",\"Fertig erstellte Wohnungen Baujahr und  Quartier/2018-01-01/H\\u00f6ngg\",\"Fertig erstellte Wohnungen Baujahr und  Quartier/2019-01-01/H\\u00f6ngg\",\"Fertig erstellte Wohnungen Baujahr und  Quartier/2020-01-01/H\\u00f6ngg\",\"Fertig erstellte Wohnungen Baujahr und  Quartier/2021-01-01/H\\u00f6ngg\",\"Fertig erstellte Wohnungen Baujahr und  Quartier/2011-01-01/Langstrasse\",\"Fertig erstellte Wohnungen Baujahr und  Quartier/2012-01-01/Langstrasse\",\"Fertig erstellte Wohnungen Baujahr und  Quartier/2013-01-01/Langstrasse\",\"Fertig erstellte Wohnungen Baujahr und  Quartier/2014-01-01/Langstrasse\",\"Fertig erstellte Wohnungen Baujahr und  Quartier/2015-01-01/Langstrasse\",\"Fertig erstellte Wohnungen Baujahr und  Quartier/2016-01-01/Langstrasse\",\"Fertig erstellte Wohnungen Baujahr und  Quartier/2017-01-01/Hottingen\",\"Fertig erstellte Wohnungen Baujahr und  Quartier/2019-01-01/Hottingen\",\"Fertig erstellte Wohnungen Baujahr und  Quartier/2021-01-01/Hottingen\",\"Fertig erstellte Wohnungen Baujahr und  Quartier/2009-01-01/H\\u00f6ngg\",\"Fertig erstellte Wohnungen Baujahr und  Quartier/2010-01-01/H\\u00f6ngg\",\"Fertig erstellte Wohnungen Baujahr und  Quartier/2016-01-01/H\\u00f6ngg\",\"Fertig erstellte Wohnungen Baujahr und  Quartier/2012-01-01/H\\u00f6ngg\",\"Fertig erstellte Wohnungen Baujahr und  Quartier/2013-01-01/H\\u00f6ngg\",\"Fertig erstellte Wohnungen Baujahr und  Quartier/2014-01-01/H\\u00f6ngg\",\"Fertig erstellte Wohnungen Baujahr und  Quartier/2015-01-01/H\\u00f6ngg\",\"Fertig erstellte Wohnungen Baujahr und  Quartier/2017-01-01/H\\u00f6ngg\",\"Fertig erstellte Wohnungen Baujahr und  Quartier/2011-01-01/H\\u00f6ngg\",\"Fertig erstellte Wohnungen Baujahr und  Quartier/2020-01-01/Hirzenbach\",\"Fertig erstellte Wohnungen Baujahr und  Quartier/2016-01-01/Hirzenbach\",\"Fertig erstellte Wohnungen Baujahr und  Quartier/2018-01-01/Hirzenbach\",\"Fertig erstellte Wohnungen Baujahr und  Quartier/2019-01-01/Hirzenbach\",\"Fertig erstellte Wohnungen Baujahr und  Quartier/2010-01-01/Hochschulen\",\"Fertig erstellte Wohnungen Baujahr und  Quartier/2017-01-01/Hirzenbach\",\"Fertig erstellte Wohnungen Baujahr und  Quartier/2010-01-01/Hottingen\",\"Fertig erstellte Wohnungen Baujahr und  Quartier/2016-01-01/Hottingen\",\"Fertig erstellte Wohnungen Baujahr und  Quartier/2015-01-01/Hottingen\",\"Fertig erstellte Wohnungen Baujahr und  Quartier/2009-01-01/Hottingen\",\"Fertig erstellte Wohnungen Baujahr und  Quartier/2012-01-01/Hottingen\",\"Fertig erstellte Wohnungen Baujahr und  Quartier/2011-01-01/Hottingen\",\"Fertig erstellte Wohnungen Baujahr und  Quartier/2014-01-01/Hottingen\",\"Fertig erstellte Wohnungen Baujahr und  Quartier/2015-01-01/Hirzenbach\",\"Fertig erstellte Wohnungen Baujahr und  Quartier/2015-01-01/Hirslanden\",\"Fertig erstellte Wohnungen Baujahr und  Quartier/2017-01-01/Hirslanden\",\"Fertig erstellte Wohnungen Baujahr und  Quartier/2019-01-01/Hirslanden\",\"Fertig erstellte Wohnungen Baujahr und  Quartier/2020-01-01/Hirslanden\",\"Fertig erstellte Wohnungen Baujahr und  Quartier/2012-01-01/Hirzenbach\",\"Fertig erstellte Wohnungen Baujahr und  Quartier/2013-01-01/Hirzenbach\",\"Fertig erstellte Wohnungen Baujahr und  Quartier/2014-01-01/Hirzenbach\",\"Fertig erstellte Wohnungen Baujahr und  Quartier/2021-01-01/Hirslanden\",\"Fertig erstellte Wohnungen Baujahr und  Quartier/2009-01-01/Hirzenbach\",\"Fertig erstellte Wohnungen Baujahr und  Quartier/2021-01-01/Hard\",\"Fertig erstellte Wohnungen Baujahr und  Quartier/2012-01-01/Hard\",\"Fertig erstellte Wohnungen Baujahr und  Quartier/2016-01-01/Hard\",\"Fertig erstellte Wohnungen Baujahr und  Quartier/2017-01-01/Hard\",\"Fertig erstellte Wohnungen Baujahr und  Quartier/2010-01-01/Hirslanden\",\"Fertig erstellte Wohnungen Baujahr und  Quartier/2011-01-01/Hirslanden\",\"Fertig erstellte Wohnungen Baujahr und  Quartier/2012-01-01/Hirslanden\",\"Fertig erstellte Wohnungen Baujahr und  Quartier/2013-01-01/Hirslanden\",\"Fertig erstellte Wohnungen Baujahr und  Quartier/2014-01-01/Hirslanden\",\"Fertig erstellte Wohnungen Baujahr und  Quartier/2009-01-01/Hirslanden\",\"Fertig erstellte Wohnungen Baujahr und  Quartier/2016-01-01/Friesenberg\",\"Fertig erstellte Wohnungen Baujahr und  Quartier/2017-01-01/Friesenberg\",\"Fertig erstellte Wohnungen Baujahr und  Quartier/2018-01-01/Friesenberg\",\"Fertig erstellte Wohnungen Baujahr und  Quartier/2019-01-01/Friesenberg\",\"Fertig erstellte Wohnungen Baujahr und  Quartier/2020-01-01/Friesenberg\",\"Fertig erstellte Wohnungen Baujahr und  Quartier/2009-01-01/Gewerbeschule\",\"Fertig erstellte Wohnungen Baujahr und  Quartier/2014-01-01/Gewerbeschule\",\"Fertig erstellte Wohnungen Baujahr und  Quartier/2018-01-01/Gewerbeschule\",\"Fertig erstellte Wohnungen Baujahr und  Quartier/2019-01-01/Gewerbeschule\",\"Fertig erstellte Wohnungen Baujahr und  Quartier/2020-01-01/Gewerbeschule\",\"Fertig erstellte Wohnungen Baujahr und  Quartier/2021-01-01/Gewerbeschule\",\"Fertig erstellte Wohnungen Baujahr und  Quartier/2010-01-01/Hard\",\"Fertig erstellte Wohnungen Baujahr und  Quartier/2011-01-01/Gewerbeschule\",\"Fertig erstellte Wohnungen Baujahr und  Quartier/2021-01-01/Fluntern\",\"Fertig erstellte Wohnungen Baujahr und  Quartier/2011-01-01/Friesenberg\",\"Fertig erstellte Wohnungen Baujahr und  Quartier/2009-01-01/Friesenberg\",\"Fertig erstellte Wohnungen Baujahr und  Quartier/2013-01-01/Friesenberg\",\"Fertig erstellte Wohnungen Baujahr und  Quartier/2015-01-01/Friesenberg\",\"Fertig erstellte Wohnungen Baujahr und  Quartier/2012-01-01/Friesenberg\",\"Fertig erstellte Wohnungen Baujahr und  Quartier/2014-01-01/Friesenberg\",\"Fertig erstellte Wohnungen Baujahr und  Quartier/2009-01-01/Fluntern\",\"Fertig erstellte Wohnungen Baujahr und  Quartier/2010-01-01/Fluntern\",\"Fertig erstellte Wohnungen Baujahr und  Quartier/2012-01-01/Fluntern\",\"Fertig erstellte Wohnungen Baujahr und  Quartier/2013-01-01/Fluntern\",\"Fertig erstellte Wohnungen Baujahr und  Quartier/2019-01-01/Fluntern\",\"Fertig erstellte Wohnungen Baujahr und  Quartier/2015-01-01/Fluntern\",\"Fertig erstellte Wohnungen Baujahr und  Quartier/2016-01-01/Fluntern\",\"Fertig erstellte Wohnungen Baujahr und  Quartier/2017-01-01/Fluntern\",\"Fertig erstellte Wohnungen Baujahr und  Quartier/2018-01-01/Fluntern\",\"Fertig erstellte Wohnungen Baujahr und  Quartier/2014-01-01/Fluntern\",\"Fertig erstellte Wohnungen Baujahr und  Quartier/2011-01-01/Fluntern\",\"Fertig erstellte Wohnungen Baujahr und  Quartier/2009-01-01/Escher Wyss\",\"Fertig erstellte Wohnungen Baujahr und  Quartier/2018-01-01/Enge\",\"Fertig erstellte Wohnungen Baujahr und  Quartier/2019-01-01/Enge\",\"Fertig erstellte Wohnungen Baujahr und  Quartier/2020-01-01/Enge\",\"Fertig erstellte Wohnungen Baujahr und  Quartier/2021-01-01/Enge\",\"Fertig erstellte Wohnungen Baujahr und  Quartier/2011-01-01/Escher Wyss\",\"Fertig erstellte Wohnungen Baujahr und  Quartier/2013-01-01/Escher Wyss\",\"Fertig erstellte Wohnungen Baujahr und  Quartier/2017-01-01/Escher Wyss\",\"Fertig erstellte Wohnungen Baujahr und  Quartier/2016-01-01/Escher Wyss\",\"Fertig erstellte Wohnungen Baujahr und  Quartier/2012-01-01/Escher Wyss\",\"Fertig erstellte Wohnungen Baujahr und  Quartier/2014-01-01/Escher Wyss\",\"Fertig erstellte Wohnungen Baujahr und  Quartier/2015-01-01/Escher Wyss\",\"Fertig erstellte Wohnungen Baujahr und  Quartier/2017-01-01/Enge\",\"Fertig erstellte Wohnungen Baujahr und  Quartier/2016-01-01/Enge\",\"Fertig erstellte Wohnungen Baujahr und  Quartier/2015-01-01/Enge\",\"Fertig erstellte Wohnungen Baujahr und  Quartier/2012-01-01/Enge\",\"Fertig erstellte Wohnungen Baujahr und  Quartier/2014-01-01/City\",\"Fertig erstellte Wohnungen Baujahr und  Quartier/2021-01-01/Altstetten\",\"Fertig erstellte Wohnungen Baujahr und  Quartier/2020-01-01/Altstetten\",\"Fertig erstellte Wohnungen Baujahr und  Quartier/2019-01-01/Altstetten\",\"Fertig erstellte Wohnungen Baujahr und  Quartier/2014-01-01/Enge\",\"Fertig erstellte Wohnungen Baujahr und  Quartier/2013-01-01/Altstetten\",\"Fertig erstellte Wohnungen Baujahr und  Quartier/2011-01-01/Altstetten\",\"Fertig erstellte Wohnungen Baujahr und  Quartier/2012-01-01/Altstetten\",\"Fertig erstellte Wohnungen Baujahr und  Quartier/2014-01-01/Altstetten\",\"Fertig erstellte Wohnungen Baujahr und  Quartier/2016-01-01/Altstetten\",\"Fertig erstellte Wohnungen Baujahr und  Quartier/2018-01-01/Altstetten\",\"Fertig erstellte Wohnungen Baujahr und  Quartier/2015-01-01/Altstetten\",\"Fertig erstellte Wohnungen Baujahr und  Quartier/2017-01-01/Altstetten\",\"Fertig erstellte Wohnungen Baujahr und  Quartier/2010-01-01/Altstetten\",\"Fertig erstellte Wohnungen Baujahr und  Quartier/2021-01-01/Albisrieden\",\"Fertig erstellte Wohnungen Baujahr und  Quartier/2010-01-01/Alt-Wiedikon\",\"Fertig erstellte Wohnungen Baujahr und  Quartier/2012-01-01/Alt-Wiedikon\",\"Fertig erstellte Wohnungen Baujahr und  Quartier/2011-01-01/Alt-Wiedikon\",\"Fertig erstellte Wohnungen Baujahr und  Quartier/2017-01-01/Alt-Wiedikon\",\"Fertig erstellte Wohnungen Baujahr und  Quartier/2018-01-01/Alt-Wiedikon\",\"Fertig erstellte Wohnungen Baujahr und  Quartier/2021-01-01/Alt-Wiedikon\",\"Fertig erstellte Wohnungen Baujahr und  Quartier/2009-01-01/Altstetten\",\"Fertig erstellte Wohnungen Baujahr und  Quartier/2015-01-01/Alt-Wiedikon\",\"Fertig erstellte Wohnungen Baujahr und  Quartier/2013-01-01/Alt-Wiedikon\",\"Fertig erstellte Wohnungen Baujahr und  Quartier/2013-01-01/Albisrieden\",\"Fertig erstellte Wohnungen Baujahr und  Quartier/2009-01-01/Albisrieden\",\"Fertig erstellte Wohnungen Baujahr und  Quartier/2010-01-01/Albisrieden\",\"Fertig erstellte Wohnungen Baujahr und  Quartier/2011-01-01/Albisrieden\",\"Fertig erstellte Wohnungen Baujahr und  Quartier/2012-01-01/Albisrieden\",\"Fertig erstellte Wohnungen Baujahr und  Quartier/2015-01-01/Albisrieden\",\"Fertig erstellte Wohnungen Baujahr und  Quartier/2016-01-01/Albisrieden\",\"Fertig erstellte Wohnungen Baujahr und  Quartier/2017-01-01/Albisrieden\",\"Fertig erstellte Wohnungen Baujahr und  Quartier/2018-01-01/Albisrieden\",\"Fertig erstellte Wohnungen Baujahr und  Quartier/2019-01-01/Albisrieden\",\"Fertig erstellte Wohnungen Baujahr und  Quartier/2020-01-01/Albisrieden\",\"Fertig erstellte Wohnungen Baujahr und  Quartier/2014-01-01/Albisrieden\",\"Fertig erstellte Wohnungen Baujahr und  Quartier/2010-01-01/Affoltern\",\"Fertig erstellte Wohnungen Baujahr und  Quartier/2011-01-01/Affoltern\",\"Fertig erstellte Wohnungen Baujahr und  Quartier/2012-01-01/Affoltern\",\"Fertig erstellte Wohnungen Baujahr und  Quartier/2013-01-01/Affoltern\",\"Fertig erstellte Wohnungen Baujahr und  Quartier/2014-01-01/Affoltern\",\"Fertig erstellte Wohnungen Baujahr und  Quartier/2017-01-01/Affoltern\",\"Fertig erstellte Wohnungen Baujahr und  Quartier/2016-01-01/Affoltern\",\"Fertig erstellte Wohnungen Baujahr und  Quartier/2018-01-01/Affoltern\",\"Fertig erstellte Wohnungen Baujahr und  Quartier/2019-01-01/Affoltern\",\"Fertig erstellte Wohnungen Baujahr und  Quartier/2020-01-01/Affoltern\",\"Fertig erstellte Wohnungen Baujahr und  Quartier/2021-01-01/Affoltern\",\"Fertig erstellte Wohnungen Baujahr und  Quartier/2015-01-01/Affoltern\",\"Fertig erstellte Wohnungen Baujahr und  Quartier/2009-01-01/Affoltern\",\"Fertig erstellte Wohnungen Baujahr und  Quartier/2009-01-01\",\"Fertig erstellte Wohnungen Baujahr und  Quartier/2010-01-01\",\"Fertig erstellte Wohnungen Baujahr und  Quartier/2011-01-01\",\"Fertig erstellte Wohnungen Baujahr und  Quartier/2012-01-01\",\"Fertig erstellte Wohnungen Baujahr und  Quartier/2013-01-01\",\"Fertig erstellte Wohnungen Baujahr und  Quartier/2014-01-01\",\"Fertig erstellte Wohnungen Baujahr und  Quartier/2015-01-01\",\"Fertig erstellte Wohnungen Baujahr und  Quartier/2016-01-01\",\"Fertig erstellte Wohnungen Baujahr und  Quartier/2017-01-01\",\"Fertig erstellte Wohnungen Baujahr und  Quartier/2018-01-01\",\"Fertig erstellte Wohnungen Baujahr und  Quartier/2019-01-01\",\"Fertig erstellte Wohnungen Baujahr und  Quartier/2020-01-01\",\"Fertig erstellte Wohnungen Baujahr und  Quartier/2021-01-01\",\"Fertig erstellte Wohnungen Baujahr und  Quartier\"],\"labels\":[\"Wollishofen\",\"Wollishofen\",\"Wollishofen\",\"Wollishofen\",\"Wollishofen\",\"Wollishofen\",\"Wollishofen\",\"Wollishofen\",\"Wollishofen\",\"Wollishofen\",\"Wollishofen\",\"Wollishofen\",\"Wollishofen\",\"Witikon\",\"Witikon\",\"Witikon\",\"Witikon\",\"Witikon\",\"Wipkingen\",\"Witikon\",\"Witikon\",\"Witikon\",\"Witikon\",\"Witikon\",\"Witikon\",\"Witikon\",\"Wipkingen\",\"Wipkingen\",\"Wipkingen\",\"Wipkingen\",\"Wipkingen\",\"Wipkingen\",\"Wipkingen\",\"Wipkingen\",\"Werd\",\"Weinegg\",\"Weinegg\",\"Werd\",\"Werd\",\"Weinegg\",\"Werd\",\"Werd\",\"Werd\",\"Werd\",\"Werd\",\"Wipkingen\",\"Wipkingen\",\"Weinegg\",\"Weinegg\",\"Weinegg\",\"Weinegg\",\"Weinegg\",\"Unterstrass\",\"Unterstrass\",\"Unterstrass\",\"Unterstrass\",\"Weinegg\",\"Unterstrass\",\"Unterstrass\",\"Unterstrass\",\"Unterstrass\",\"Unterstrass\",\"Unterstrass\",\"Unterstrass\",\"Unterstrass\",\"Seefeld\",\"Sihlfeld\",\"Sihlfeld\",\"Sihlfeld\",\"Sihlfeld\",\"Sihlfeld\",\"Sihlfeld\",\"Sihlfeld\",\"Sihlfeld\",\"Sihlfeld\",\"Sihlfeld\",\"Sihlfeld\",\"Seebach\",\"Seebach\",\"Seebach\",\"Seebach\",\"Seebach\",\"Seefeld\",\"Seefeld\",\"Seefeld\",\"Seefeld\",\"Seefeld\",\"Seefeld\",\"Seebach\",\"Seebach\",\"Seebach\",\"Seebach\",\"Seebach\",\"Seebach\",\"Seebach\",\"Schwamendingen-Mitte\",\"Schwamendingen-Mitte\",\"Schwamendingen-Mitte\",\"Seebach\",\"Schwamendingen-Mitte\",\"Saatlen\",\"Saatlen\",\"Saatlen\",\"Saatlen\",\"Saatlen\",\"Schwamendingen-Mitte\",\"Schwamendingen-Mitte\",\"Schwamendingen-Mitte\",\"Schwamendingen-Mitte\",\"Schwamendingen-Mitte\",\"Schwamendingen-Mitte\",\"Oerlikon\",\"Oerlikon\",\"Oerlikon\",\"Oerlikon\",\"Oerlikon\",\"Saatlen\",\"Saatlen\",\"Saatlen\",\"Rathaus\",\"Saatlen\",\"Oerlikon\",\"Oberstrass\",\"Oberstrass\",\"Oberstrass\",\"Oerlikon\",\"Oerlikon\",\"Oerlikon\",\"Oerlikon\",\"Oerlikon\",\"Oerlikon\",\"Oerlikon\",\"M\\u00fchlebach\",\"M\\u00fchlebach\",\"M\\u00fchlebach\",\"Oberstrass\",\"Oberstrass\",\"M\\u00fchlebach\",\"Oberstrass\",\"Oberstrass\",\"Oberstrass\",\"Oberstrass\",\"Oberstrass\",\"Oberstrass\",\"Oberstrass\",\"Leimbach\",\"Leimbach\",\"Leimbach\",\"M\\u00fchlebach\",\"M\\u00fchlebach\",\"M\\u00fchlebach\",\"M\\u00fchlebach\",\"M\\u00fchlebach\",\"M\\u00fchlebach\",\"Leimbach\",\"Leimbach\",\"Leimbach\",\"Leimbach\",\"Leimbach\",\"Langstrasse\",\"Langstrasse\",\"Langstrasse\",\"Leimbach\",\"H\\u00f6ngg\",\"H\\u00f6ngg\",\"H\\u00f6ngg\",\"H\\u00f6ngg\",\"Langstrasse\",\"Langstrasse\",\"Langstrasse\",\"Langstrasse\",\"Langstrasse\",\"Langstrasse\",\"Hottingen\",\"Hottingen\",\"Hottingen\",\"H\\u00f6ngg\",\"H\\u00f6ngg\",\"H\\u00f6ngg\",\"H\\u00f6ngg\",\"H\\u00f6ngg\",\"H\\u00f6ngg\",\"H\\u00f6ngg\",\"H\\u00f6ngg\",\"H\\u00f6ngg\",\"Hirzenbach\",\"Hirzenbach\",\"Hirzenbach\",\"Hirzenbach\",\"Hochschulen\",\"Hirzenbach\",\"Hottingen\",\"Hottingen\",\"Hottingen\",\"Hottingen\",\"Hottingen\",\"Hottingen\",\"Hottingen\",\"Hirzenbach\",\"Hirslanden\",\"Hirslanden\",\"Hirslanden\",\"Hirslanden\",\"Hirzenbach\",\"Hirzenbach\",\"Hirzenbach\",\"Hirslanden\",\"Hirzenbach\",\"Hard\",\"Hard\",\"Hard\",\"Hard\",\"Hirslanden\",\"Hirslanden\",\"Hirslanden\",\"Hirslanden\",\"Hirslanden\",\"Hirslanden\",\"Friesenberg\",\"Friesenberg\",\"Friesenberg\",\"Friesenberg\",\"Friesenberg\",\"Gewerbeschule\",\"Gewerbeschule\",\"Gewerbeschule\",\"Gewerbeschule\",\"Gewerbeschule\",\"Gewerbeschule\",\"Hard\",\"Gewerbeschule\",\"Fluntern\",\"Friesenberg\",\"Friesenberg\",\"Friesenberg\",\"Friesenberg\",\"Friesenberg\",\"Friesenberg\",\"Fluntern\",\"Fluntern\",\"Fluntern\",\"Fluntern\",\"Fluntern\",\"Fluntern\",\"Fluntern\",\"Fluntern\",\"Fluntern\",\"Fluntern\",\"Fluntern\",\"Escher Wyss\",\"Enge\",\"Enge\",\"Enge\",\"Enge\",\"Escher Wyss\",\"Escher Wyss\",\"Escher Wyss\",\"Escher Wyss\",\"Escher Wyss\",\"Escher Wyss\",\"Escher Wyss\",\"Enge\",\"Enge\",\"Enge\",\"Enge\",\"City\",\"Altstetten\",\"Altstetten\",\"Altstetten\",\"Enge\",\"Altstetten\",\"Altstetten\",\"Altstetten\",\"Altstetten\",\"Altstetten\",\"Altstetten\",\"Altstetten\",\"Altstetten\",\"Altstetten\",\"Albisrieden\",\"Alt-Wiedikon\",\"Alt-Wiedikon\",\"Alt-Wiedikon\",\"Alt-Wiedikon\",\"Alt-Wiedikon\",\"Alt-Wiedikon\",\"Altstetten\",\"Alt-Wiedikon\",\"Alt-Wiedikon\",\"Albisrieden\",\"Albisrieden\",\"Albisrieden\",\"Albisrieden\",\"Albisrieden\",\"Albisrieden\",\"Albisrieden\",\"Albisrieden\",\"Albisrieden\",\"Albisrieden\",\"Albisrieden\",\"Albisrieden\",\"Affoltern\",\"Affoltern\",\"Affoltern\",\"Affoltern\",\"Affoltern\",\"Affoltern\",\"Affoltern\",\"Affoltern\",\"Affoltern\",\"Affoltern\",\"Affoltern\",\"Affoltern\",\"Affoltern\",\"2009-01-01\",\"2010-01-01\",\"2011-01-01\",\"2012-01-01\",\"2013-01-01\",\"2014-01-01\",\"2015-01-01\",\"2016-01-01\",\"2017-01-01\",\"2018-01-01\",\"2019-01-01\",\"2020-01-01\",\"2021-01-01\",\"Fertig erstellte Wohnungen Baujahr und  Quartier\"],\"marker\":{\"colors\":[\"#00cc96\",\"#00cc96\",\"#00cc96\",\"#00cc96\",\"#00cc96\",\"#00cc96\",\"#00cc96\",\"#00cc96\",\"#00cc96\",\"#00cc96\",\"#00cc96\",\"#00cc96\",\"#00cc96\",\"#ab63fa\",\"#ab63fa\",\"#ab63fa\",\"#ab63fa\",\"#ab63fa\",\"#FFA15A\",\"#ab63fa\",\"#ab63fa\",\"#ab63fa\",\"#ab63fa\",\"#ab63fa\",\"#ab63fa\",\"#ab63fa\",\"#FFA15A\",\"#FFA15A\",\"#FFA15A\",\"#FFA15A\",\"#FFA15A\",\"#FFA15A\",\"#FFA15A\",\"#FFA15A\",\"#19d3f3\",\"#FF6692\",\"#FF6692\",\"#19d3f3\",\"#19d3f3\",\"#FF6692\",\"#19d3f3\",\"#19d3f3\",\"#19d3f3\",\"#19d3f3\",\"#19d3f3\",\"#FFA15A\",\"#FFA15A\",\"#FF6692\",\"#FF6692\",\"#FF6692\",\"#FF6692\",\"#FF6692\",\"#B6E880\",\"#B6E880\",\"#B6E880\",\"#B6E880\",\"#FF6692\",\"#B6E880\",\"#B6E880\",\"#B6E880\",\"#B6E880\",\"#B6E880\",\"#B6E880\",\"#B6E880\",\"#B6E880\",\"#FF97FF\",\"#FECB52\",\"#FECB52\",\"#FECB52\",\"#FECB52\",\"#FECB52\",\"#FECB52\",\"#FECB52\",\"#FECB52\",\"#FECB52\",\"#FECB52\",\"#FECB52\",\"#636efa\",\"#636efa\",\"#636efa\",\"#636efa\",\"#636efa\",\"#FF97FF\",\"#FF97FF\",\"#FF97FF\",\"#FF97FF\",\"#FF97FF\",\"#FF97FF\",\"#636efa\",\"#636efa\",\"#636efa\",\"#636efa\",\"#636efa\",\"#636efa\",\"#636efa\",\"#EF553B\",\"#EF553B\",\"#EF553B\",\"#636efa\",\"#EF553B\",\"#00cc96\",\"#00cc96\",\"#00cc96\",\"#00cc96\",\"#00cc96\",\"#EF553B\",\"#EF553B\",\"#EF553B\",\"#EF553B\",\"#EF553B\",\"#EF553B\",\"#ab63fa\",\"#ab63fa\",\"#ab63fa\",\"#ab63fa\",\"#ab63fa\",\"#00cc96\",\"#00cc96\",\"#00cc96\",\"#FFA15A\",\"#00cc96\",\"#ab63fa\",\"#19d3f3\",\"#19d3f3\",\"#19d3f3\",\"#ab63fa\",\"#ab63fa\",\"#ab63fa\",\"#ab63fa\",\"#ab63fa\",\"#ab63fa\",\"#ab63fa\",\"#FF6692\",\"#FF6692\",\"#FF6692\",\"#19d3f3\",\"#19d3f3\",\"#FF6692\",\"#19d3f3\",\"#19d3f3\",\"#19d3f3\",\"#19d3f3\",\"#19d3f3\",\"#19d3f3\",\"#19d3f3\",\"#B6E880\",\"#B6E880\",\"#B6E880\",\"#FF6692\",\"#FF6692\",\"#FF6692\",\"#FF6692\",\"#FF6692\",\"#FF6692\",\"#B6E880\",\"#B6E880\",\"#B6E880\",\"#B6E880\",\"#B6E880\",\"#FF97FF\",\"#FF97FF\",\"#FF97FF\",\"#B6E880\",\"#FECB52\",\"#FECB52\",\"#FECB52\",\"#FECB52\",\"#FF97FF\",\"#FF97FF\",\"#FF97FF\",\"#FF97FF\",\"#FF97FF\",\"#FF97FF\",\"#636efa\",\"#636efa\",\"#636efa\",\"#FECB52\",\"#FECB52\",\"#FECB52\",\"#FECB52\",\"#FECB52\",\"#FECB52\",\"#FECB52\",\"#FECB52\",\"#FECB52\",\"#EF553B\",\"#EF553B\",\"#EF553B\",\"#EF553B\",\"#00cc96\",\"#EF553B\",\"#636efa\",\"#636efa\",\"#636efa\",\"#636efa\",\"#636efa\",\"#636efa\",\"#636efa\",\"#EF553B\",\"#ab63fa\",\"#ab63fa\",\"#ab63fa\",\"#ab63fa\",\"#EF553B\",\"#EF553B\",\"#EF553B\",\"#ab63fa\",\"#EF553B\",\"#FFA15A\",\"#FFA15A\",\"#FFA15A\",\"#FFA15A\",\"#ab63fa\",\"#ab63fa\",\"#ab63fa\",\"#ab63fa\",\"#ab63fa\",\"#ab63fa\",\"#19d3f3\",\"#19d3f3\",\"#19d3f3\",\"#19d3f3\",\"#19d3f3\",\"#FF6692\",\"#FF6692\",\"#FF6692\",\"#FF6692\",\"#FF6692\",\"#FF6692\",\"#FFA15A\",\"#FF6692\",\"#B6E880\",\"#19d3f3\",\"#19d3f3\",\"#19d3f3\",\"#19d3f3\",\"#19d3f3\",\"#19d3f3\",\"#B6E880\",\"#B6E880\",\"#B6E880\",\"#B6E880\",\"#B6E880\",\"#B6E880\",\"#B6E880\",\"#B6E880\",\"#B6E880\",\"#B6E880\",\"#B6E880\",\"#FF97FF\",\"#FECB52\",\"#FECB52\",\"#FECB52\",\"#FECB52\",\"#FF97FF\",\"#FF97FF\",\"#FF97FF\",\"#FF97FF\",\"#FF97FF\",\"#FF97FF\",\"#FF97FF\",\"#FECB52\",\"#FECB52\",\"#FECB52\",\"#FECB52\",\"#636efa\",\"#EF553B\",\"#EF553B\",\"#EF553B\",\"#FECB52\",\"#EF553B\",\"#EF553B\",\"#EF553B\",\"#EF553B\",\"#EF553B\",\"#EF553B\",\"#EF553B\",\"#EF553B\",\"#EF553B\",\"#00cc96\",\"gold\",\"gold\",\"gold\",\"gold\",\"gold\",\"gold\",\"#EF553B\",\"gold\",\"gold\",\"#00cc96\",\"#00cc96\",\"#00cc96\",\"#00cc96\",\"#00cc96\",\"#00cc96\",\"#00cc96\",\"#00cc96\",\"#00cc96\",\"#00cc96\",\"#00cc96\",\"#00cc96\",\"#ab63fa\",\"#ab63fa\",\"#ab63fa\",\"#ab63fa\",\"#ab63fa\",\"#ab63fa\",\"#ab63fa\",\"#ab63fa\",\"#ab63fa\",\"#ab63fa\",\"#ab63fa\",\"#ab63fa\",\"#ab63fa\",\"lightgrey\",\"lightgrey\",\"lightgrey\",\"lightgrey\",\"lightgrey\",\"lightgrey\",\"lightgrey\",\"lightgrey\",\"lightgrey\",\"lightgrey\",\"lightgrey\",\"lightgrey\",\"lightgrey\",\"lightgrey\"]},\"name\":\"\",\"parents\":[\"Fertig erstellte Wohnungen Baujahr und  Quartier/2021-01-01\",\"Fertig erstellte Wohnungen Baujahr und  Quartier/2009-01-01\",\"Fertig erstellte Wohnungen Baujahr und  Quartier/2010-01-01\",\"Fertig erstellte Wohnungen Baujahr und  Quartier/2011-01-01\",\"Fertig erstellte Wohnungen Baujahr und  Quartier/2012-01-01\",\"Fertig erstellte Wohnungen Baujahr und  Quartier/2013-01-01\",\"Fertig erstellte Wohnungen Baujahr und  Quartier/2020-01-01\",\"Fertig erstellte Wohnungen Baujahr und  Quartier/2015-01-01\",\"Fertig erstellte Wohnungen Baujahr und  Quartier/2019-01-01\",\"Fertig erstellte Wohnungen Baujahr und  Quartier/2018-01-01\",\"Fertig erstellte Wohnungen Baujahr und  Quartier/2014-01-01\",\"Fertig erstellte Wohnungen Baujahr und  Quartier/2016-01-01\",\"Fertig erstellte Wohnungen Baujahr und  Quartier/2017-01-01\",\"Fertig erstellte Wohnungen Baujahr und  Quartier/2009-01-01\",\"Fertig erstellte Wohnungen Baujahr und  Quartier/2011-01-01\",\"Fertig erstellte Wohnungen Baujahr und  Quartier/2012-01-01\",\"Fertig erstellte Wohnungen Baujahr und  Quartier/2013-01-01\",\"Fertig erstellte Wohnungen Baujahr und  Quartier/2014-01-01\",\"Fertig erstellte Wohnungen Baujahr und  Quartier/2021-01-01\",\"Fertig erstellte Wohnungen Baujahr und  Quartier/2016-01-01\",\"Fertig erstellte Wohnungen Baujahr und  Quartier/2017-01-01\",\"Fertig erstellte Wohnungen Baujahr und  Quartier/2018-01-01\",\"Fertig erstellte Wohnungen Baujahr und  Quartier/2019-01-01\",\"Fertig erstellte Wohnungen Baujahr und  Quartier/2020-01-01\",\"Fertig erstellte Wohnungen Baujahr und  Quartier/2021-01-01\",\"Fertig erstellte Wohnungen Baujahr und  Quartier/2015-01-01\",\"Fertig erstellte Wohnungen Baujahr und  Quartier/2011-01-01\",\"Fertig erstellte Wohnungen Baujahr und  Quartier/2012-01-01\",\"Fertig erstellte Wohnungen Baujahr und  Quartier/2013-01-01\",\"Fertig erstellte Wohnungen Baujahr und  Quartier/2016-01-01\",\"Fertig erstellte Wohnungen Baujahr und  Quartier/2017-01-01\",\"Fertig erstellte Wohnungen Baujahr und  Quartier/2018-01-01\",\"Fertig erstellte Wohnungen Baujahr und  Quartier/2020-01-01\",\"Fertig erstellte Wohnungen Baujahr und  Quartier/2015-01-01\",\"Fertig erstellte Wohnungen Baujahr und  Quartier/2013-01-01\",\"Fertig erstellte Wohnungen Baujahr und  Quartier/2018-01-01\",\"Fertig erstellte Wohnungen Baujahr und  Quartier/2020-01-01\",\"Fertig erstellte Wohnungen Baujahr und  Quartier/2009-01-01\",\"Fertig erstellte Wohnungen Baujahr und  Quartier/2014-01-01\",\"Fertig erstellte Wohnungen Baujahr und  Quartier/2019-01-01\",\"Fertig erstellte Wohnungen Baujahr und  Quartier/2017-01-01\",\"Fertig erstellte Wohnungen Baujahr und  Quartier/2019-01-01\",\"Fertig erstellte Wohnungen Baujahr und  Quartier/2020-01-01\",\"Fertig erstellte Wohnungen Baujahr und  Quartier/2021-01-01\",\"Fertig erstellte Wohnungen Baujahr und  Quartier/2016-01-01\",\"Fertig erstellte Wohnungen Baujahr und  Quartier/2009-01-01\",\"Fertig erstellte Wohnungen Baujahr und  Quartier/2010-01-01\",\"Fertig erstellte Wohnungen Baujahr und  Quartier/2017-01-01\",\"Fertig erstellte Wohnungen Baujahr und  Quartier/2015-01-01\",\"Fertig erstellte Wohnungen Baujahr und  Quartier/2014-01-01\",\"Fertig erstellte Wohnungen Baujahr und  Quartier/2013-01-01\",\"Fertig erstellte Wohnungen Baujahr und  Quartier/2009-01-01\",\"Fertig erstellte Wohnungen Baujahr und  Quartier/2021-01-01\",\"Fertig erstellte Wohnungen Baujahr und  Quartier/2020-01-01\",\"Fertig erstellte Wohnungen Baujahr und  Quartier/2019-01-01\",\"Fertig erstellte Wohnungen Baujahr und  Quartier/2018-01-01\",\"Fertig erstellte Wohnungen Baujahr und  Quartier/2016-01-01\",\"Fertig erstellte Wohnungen Baujahr und  Quartier/2010-01-01\",\"Fertig erstellte Wohnungen Baujahr und  Quartier/2011-01-01\",\"Fertig erstellte Wohnungen Baujahr und  Quartier/2012-01-01\",\"Fertig erstellte Wohnungen Baujahr und  Quartier/2013-01-01\",\"Fertig erstellte Wohnungen Baujahr und  Quartier/2014-01-01\",\"Fertig erstellte Wohnungen Baujahr und  Quartier/2015-01-01\",\"Fertig erstellte Wohnungen Baujahr und  Quartier/2016-01-01\",\"Fertig erstellte Wohnungen Baujahr und  Quartier/2017-01-01\",\"Fertig erstellte Wohnungen Baujahr und  Quartier/2021-01-01\",\"Fertig erstellte Wohnungen Baujahr und  Quartier/2009-01-01\",\"Fertig erstellte Wohnungen Baujahr und  Quartier/2011-01-01\",\"Fertig erstellte Wohnungen Baujahr und  Quartier/2012-01-01\",\"Fertig erstellte Wohnungen Baujahr und  Quartier/2014-01-01\",\"Fertig erstellte Wohnungen Baujahr und  Quartier/2013-01-01\",\"Fertig erstellte Wohnungen Baujahr und  Quartier/2017-01-01\",\"Fertig erstellte Wohnungen Baujahr und  Quartier/2018-01-01\",\"Fertig erstellte Wohnungen Baujahr und  Quartier/2019-01-01\",\"Fertig erstellte Wohnungen Baujahr und  Quartier/2020-01-01\",\"Fertig erstellte Wohnungen Baujahr und  Quartier/2015-01-01\",\"Fertig erstellte Wohnungen Baujahr und  Quartier/2021-01-01\",\"Fertig erstellte Wohnungen Baujahr und  Quartier/2021-01-01\",\"Fertig erstellte Wohnungen Baujahr und  Quartier/2017-01-01\",\"Fertig erstellte Wohnungen Baujahr und  Quartier/2018-01-01\",\"Fertig erstellte Wohnungen Baujahr und  Quartier/2019-01-01\",\"Fertig erstellte Wohnungen Baujahr und  Quartier/2020-01-01\",\"Fertig erstellte Wohnungen Baujahr und  Quartier/2009-01-01\",\"Fertig erstellte Wohnungen Baujahr und  Quartier/2011-01-01\",\"Fertig erstellte Wohnungen Baujahr und  Quartier/2010-01-01\",\"Fertig erstellte Wohnungen Baujahr und  Quartier/2017-01-01\",\"Fertig erstellte Wohnungen Baujahr und  Quartier/2013-01-01\",\"Fertig erstellte Wohnungen Baujahr und  Quartier/2014-01-01\",\"Fertig erstellte Wohnungen Baujahr und  Quartier/2016-01-01\",\"Fertig erstellte Wohnungen Baujahr und  Quartier/2015-01-01\",\"Fertig erstellte Wohnungen Baujahr und  Quartier/2014-01-01\",\"Fertig erstellte Wohnungen Baujahr und  Quartier/2013-01-01\",\"Fertig erstellte Wohnungen Baujahr und  Quartier/2012-01-01\",\"Fertig erstellte Wohnungen Baujahr und  Quartier/2011-01-01\",\"Fertig erstellte Wohnungen Baujahr und  Quartier/2010-01-01\",\"Fertig erstellte Wohnungen Baujahr und  Quartier/2017-01-01\",\"Fertig erstellte Wohnungen Baujahr und  Quartier/2018-01-01\",\"Fertig erstellte Wohnungen Baujahr und  Quartier/2021-01-01\",\"Fertig erstellte Wohnungen Baujahr und  Quartier/2009-01-01\",\"Fertig erstellte Wohnungen Baujahr und  Quartier/2019-01-01\",\"Fertig erstellte Wohnungen Baujahr und  Quartier/2019-01-01\",\"Fertig erstellte Wohnungen Baujahr und  Quartier/2016-01-01\",\"Fertig erstellte Wohnungen Baujahr und  Quartier/2017-01-01\",\"Fertig erstellte Wohnungen Baujahr und  Quartier/2018-01-01\",\"Fertig erstellte Wohnungen Baujahr und  Quartier/2020-01-01\",\"Fertig erstellte Wohnungen Baujahr und  Quartier/2015-01-01\",\"Fertig erstellte Wohnungen Baujahr und  Quartier/2012-01-01\",\"Fertig erstellte Wohnungen Baujahr und  Quartier/2013-01-01\",\"Fertig erstellte Wohnungen Baujahr und  Quartier/2014-01-01\",\"Fertig erstellte Wohnungen Baujahr und  Quartier/2016-01-01\",\"Fertig erstellte Wohnungen Baujahr und  Quartier/2009-01-01\",\"Fertig erstellte Wohnungen Baujahr und  Quartier/2020-01-01\",\"Fertig erstellte Wohnungen Baujahr und  Quartier/2018-01-01\",\"Fertig erstellte Wohnungen Baujahr und  Quartier/2019-01-01\",\"Fertig erstellte Wohnungen Baujahr und  Quartier/2021-01-01\",\"Fertig erstellte Wohnungen Baujahr und  Quartier/2017-01-01\",\"Fertig erstellte Wohnungen Baujahr und  Quartier/2009-01-01\",\"Fertig erstellte Wohnungen Baujahr und  Quartier/2013-01-01\",\"Fertig erstellte Wohnungen Baujahr und  Quartier/2014-01-01\",\"Fertig erstellte Wohnungen Baujahr und  Quartier/2009-01-01\",\"Fertig erstellte Wohnungen Baujahr und  Quartier/2015-01-01\",\"Fertig erstellte Wohnungen Baujahr und  Quartier/2016-01-01\",\"Fertig erstellte Wohnungen Baujahr und  Quartier/2018-01-01\",\"Fertig erstellte Wohnungen Baujahr und  Quartier/2019-01-01\",\"Fertig erstellte Wohnungen Baujahr und  Quartier/2021-01-01\",\"Fertig erstellte Wohnungen Baujahr und  Quartier/2009-01-01\",\"Fertig erstellte Wohnungen Baujahr und  Quartier/2015-01-01\",\"Fertig erstellte Wohnungen Baujahr und  Quartier/2011-01-01\",\"Fertig erstellte Wohnungen Baujahr und  Quartier/2012-01-01\",\"Fertig erstellte Wohnungen Baujahr und  Quartier/2013-01-01\",\"Fertig erstellte Wohnungen Baujahr und  Quartier/2014-01-01\",\"Fertig erstellte Wohnungen Baujahr und  Quartier/2010-01-01\",\"Fertig erstellte Wohnungen Baujahr und  Quartier/2016-01-01\",\"Fertig erstellte Wohnungen Baujahr und  Quartier/2017-01-01\",\"Fertig erstellte Wohnungen Baujahr und  Quartier/2019-01-01\",\"Fertig erstellte Wohnungen Baujahr und  Quartier/2009-01-01\",\"Fertig erstellte Wohnungen Baujahr und  Quartier/2010-01-01\",\"Fertig erstellte Wohnungen Baujahr und  Quartier/2018-01-01\",\"Fertig erstellte Wohnungen Baujahr und  Quartier/2012-01-01\",\"Fertig erstellte Wohnungen Baujahr und  Quartier/2013-01-01\",\"Fertig erstellte Wohnungen Baujahr und  Quartier/2014-01-01\",\"Fertig erstellte Wohnungen Baujahr und  Quartier/2015-01-01\",\"Fertig erstellte Wohnungen Baujahr und  Quartier/2016-01-01\",\"Fertig erstellte Wohnungen Baujahr und  Quartier/2017-01-01\",\"Fertig erstellte Wohnungen Baujahr und  Quartier/2011-01-01\",\"Fertig erstellte Wohnungen Baujahr und  Quartier/2018-01-01\",\"Fertig erstellte Wohnungen Baujahr und  Quartier/2019-01-01\",\"Fertig erstellte Wohnungen Baujahr und  Quartier/2021-01-01\",\"Fertig erstellte Wohnungen Baujahr und  Quartier/2009-01-01\",\"Fertig erstellte Wohnungen Baujahr und  Quartier/2011-01-01\",\"Fertig erstellte Wohnungen Baujahr und  Quartier/2012-01-01\",\"Fertig erstellte Wohnungen Baujahr und  Quartier/2013-01-01\",\"Fertig erstellte Wohnungen Baujahr und  Quartier/2014-01-01\",\"Fertig erstellte Wohnungen Baujahr und  Quartier/2010-01-01\",\"Fertig erstellte Wohnungen Baujahr und  Quartier/2017-01-01\",\"Fertig erstellte Wohnungen Baujahr und  Quartier/2016-01-01\",\"Fertig erstellte Wohnungen Baujahr und  Quartier/2015-01-01\",\"Fertig erstellte Wohnungen Baujahr und  Quartier/2013-01-01\",\"Fertig erstellte Wohnungen Baujahr und  Quartier/2010-01-01\",\"Fertig erstellte Wohnungen Baujahr und  Quartier/2021-01-01\",\"Fertig erstellte Wohnungen Baujahr und  Quartier/2019-01-01\",\"Fertig erstellte Wohnungen Baujahr und  Quartier/2017-01-01\",\"Fertig erstellte Wohnungen Baujahr und  Quartier/2011-01-01\",\"Fertig erstellte Wohnungen Baujahr und  Quartier/2018-01-01\",\"Fertig erstellte Wohnungen Baujahr und  Quartier/2019-01-01\",\"Fertig erstellte Wohnungen Baujahr und  Quartier/2020-01-01\",\"Fertig erstellte Wohnungen Baujahr und  Quartier/2021-01-01\",\"Fertig erstellte Wohnungen Baujahr und  Quartier/2011-01-01\",\"Fertig erstellte Wohnungen Baujahr und  Quartier/2012-01-01\",\"Fertig erstellte Wohnungen Baujahr und  Quartier/2013-01-01\",\"Fertig erstellte Wohnungen Baujahr und  Quartier/2014-01-01\",\"Fertig erstellte Wohnungen Baujahr und  Quartier/2015-01-01\",\"Fertig erstellte Wohnungen Baujahr und  Quartier/2016-01-01\",\"Fertig erstellte Wohnungen Baujahr und  Quartier/2017-01-01\",\"Fertig erstellte Wohnungen Baujahr und  Quartier/2019-01-01\",\"Fertig erstellte Wohnungen Baujahr und  Quartier/2021-01-01\",\"Fertig erstellte Wohnungen Baujahr und  Quartier/2009-01-01\",\"Fertig erstellte Wohnungen Baujahr und  Quartier/2010-01-01\",\"Fertig erstellte Wohnungen Baujahr und  Quartier/2016-01-01\",\"Fertig erstellte Wohnungen Baujahr und  Quartier/2012-01-01\",\"Fertig erstellte Wohnungen Baujahr und  Quartier/2013-01-01\",\"Fertig erstellte Wohnungen Baujahr und  Quartier/2014-01-01\",\"Fertig erstellte Wohnungen Baujahr und  Quartier/2015-01-01\",\"Fertig erstellte Wohnungen Baujahr und  Quartier/2017-01-01\",\"Fertig erstellte Wohnungen Baujahr und  Quartier/2011-01-01\",\"Fertig erstellte Wohnungen Baujahr und  Quartier/2020-01-01\",\"Fertig erstellte Wohnungen Baujahr und  Quartier/2016-01-01\",\"Fertig erstellte Wohnungen Baujahr und  Quartier/2018-01-01\",\"Fertig erstellte Wohnungen Baujahr und  Quartier/2019-01-01\",\"Fertig erstellte Wohnungen Baujahr und  Quartier/2010-01-01\",\"Fertig erstellte Wohnungen Baujahr und  Quartier/2017-01-01\",\"Fertig erstellte Wohnungen Baujahr und  Quartier/2010-01-01\",\"Fertig erstellte Wohnungen Baujahr und  Quartier/2016-01-01\",\"Fertig erstellte Wohnungen Baujahr und  Quartier/2015-01-01\",\"Fertig erstellte Wohnungen Baujahr und  Quartier/2009-01-01\",\"Fertig erstellte Wohnungen Baujahr und  Quartier/2012-01-01\",\"Fertig erstellte Wohnungen Baujahr und  Quartier/2011-01-01\",\"Fertig erstellte Wohnungen Baujahr und  Quartier/2014-01-01\",\"Fertig erstellte Wohnungen Baujahr und  Quartier/2015-01-01\",\"Fertig erstellte Wohnungen Baujahr und  Quartier/2015-01-01\",\"Fertig erstellte Wohnungen Baujahr und  Quartier/2017-01-01\",\"Fertig erstellte Wohnungen Baujahr und  Quartier/2019-01-01\",\"Fertig erstellte Wohnungen Baujahr und  Quartier/2020-01-01\",\"Fertig erstellte Wohnungen Baujahr und  Quartier/2012-01-01\",\"Fertig erstellte Wohnungen Baujahr und  Quartier/2013-01-01\",\"Fertig erstellte Wohnungen Baujahr und  Quartier/2014-01-01\",\"Fertig erstellte Wohnungen Baujahr und  Quartier/2021-01-01\",\"Fertig erstellte Wohnungen Baujahr und  Quartier/2009-01-01\",\"Fertig erstellte Wohnungen Baujahr und  Quartier/2021-01-01\",\"Fertig erstellte Wohnungen Baujahr und  Quartier/2012-01-01\",\"Fertig erstellte Wohnungen Baujahr und  Quartier/2016-01-01\",\"Fertig erstellte Wohnungen Baujahr und  Quartier/2017-01-01\",\"Fertig erstellte Wohnungen Baujahr und  Quartier/2010-01-01\",\"Fertig erstellte Wohnungen Baujahr und  Quartier/2011-01-01\",\"Fertig erstellte Wohnungen Baujahr und  Quartier/2012-01-01\",\"Fertig erstellte Wohnungen Baujahr und  Quartier/2013-01-01\",\"Fertig erstellte Wohnungen Baujahr und  Quartier/2014-01-01\",\"Fertig erstellte Wohnungen Baujahr und  Quartier/2009-01-01\",\"Fertig erstellte Wohnungen Baujahr und  Quartier/2016-01-01\",\"Fertig erstellte Wohnungen Baujahr und  Quartier/2017-01-01\",\"Fertig erstellte Wohnungen Baujahr und  Quartier/2018-01-01\",\"Fertig erstellte Wohnungen Baujahr und  Quartier/2019-01-01\",\"Fertig erstellte Wohnungen Baujahr und  Quartier/2020-01-01\",\"Fertig erstellte Wohnungen Baujahr und  Quartier/2009-01-01\",\"Fertig erstellte Wohnungen Baujahr und  Quartier/2014-01-01\",\"Fertig erstellte Wohnungen Baujahr und  Quartier/2018-01-01\",\"Fertig erstellte Wohnungen Baujahr und  Quartier/2019-01-01\",\"Fertig erstellte Wohnungen Baujahr und  Quartier/2020-01-01\",\"Fertig erstellte Wohnungen Baujahr und  Quartier/2021-01-01\",\"Fertig erstellte Wohnungen Baujahr und  Quartier/2010-01-01\",\"Fertig erstellte Wohnungen Baujahr und  Quartier/2011-01-01\",\"Fertig erstellte Wohnungen Baujahr und  Quartier/2021-01-01\",\"Fertig erstellte Wohnungen Baujahr und  Quartier/2011-01-01\",\"Fertig erstellte Wohnungen Baujahr und  Quartier/2009-01-01\",\"Fertig erstellte Wohnungen Baujahr und  Quartier/2013-01-01\",\"Fertig erstellte Wohnungen Baujahr und  Quartier/2015-01-01\",\"Fertig erstellte Wohnungen Baujahr und  Quartier/2012-01-01\",\"Fertig erstellte Wohnungen Baujahr und  Quartier/2014-01-01\",\"Fertig erstellte Wohnungen Baujahr und  Quartier/2009-01-01\",\"Fertig erstellte Wohnungen Baujahr und  Quartier/2010-01-01\",\"Fertig erstellte Wohnungen Baujahr und  Quartier/2012-01-01\",\"Fertig erstellte Wohnungen Baujahr und  Quartier/2013-01-01\",\"Fertig erstellte Wohnungen Baujahr und  Quartier/2019-01-01\",\"Fertig erstellte Wohnungen Baujahr und  Quartier/2015-01-01\",\"Fertig erstellte Wohnungen Baujahr und  Quartier/2016-01-01\",\"Fertig erstellte Wohnungen Baujahr und  Quartier/2017-01-01\",\"Fertig erstellte Wohnungen Baujahr und  Quartier/2018-01-01\",\"Fertig erstellte Wohnungen Baujahr und  Quartier/2014-01-01\",\"Fertig erstellte Wohnungen Baujahr und  Quartier/2011-01-01\",\"Fertig erstellte Wohnungen Baujahr und  Quartier/2009-01-01\",\"Fertig erstellte Wohnungen Baujahr und  Quartier/2018-01-01\",\"Fertig erstellte Wohnungen Baujahr und  Quartier/2019-01-01\",\"Fertig erstellte Wohnungen Baujahr und  Quartier/2020-01-01\",\"Fertig erstellte Wohnungen Baujahr und  Quartier/2021-01-01\",\"Fertig erstellte Wohnungen Baujahr und  Quartier/2011-01-01\",\"Fertig erstellte Wohnungen Baujahr und  Quartier/2013-01-01\",\"Fertig erstellte Wohnungen Baujahr und  Quartier/2017-01-01\",\"Fertig erstellte Wohnungen Baujahr und  Quartier/2016-01-01\",\"Fertig erstellte Wohnungen Baujahr und  Quartier/2012-01-01\",\"Fertig erstellte Wohnungen Baujahr und  Quartier/2014-01-01\",\"Fertig erstellte Wohnungen Baujahr und  Quartier/2015-01-01\",\"Fertig erstellte Wohnungen Baujahr und  Quartier/2017-01-01\",\"Fertig erstellte Wohnungen Baujahr und  Quartier/2016-01-01\",\"Fertig erstellte Wohnungen Baujahr und  Quartier/2015-01-01\",\"Fertig erstellte Wohnungen Baujahr und  Quartier/2012-01-01\",\"Fertig erstellte Wohnungen Baujahr und  Quartier/2014-01-01\",\"Fertig erstellte Wohnungen Baujahr und  Quartier/2021-01-01\",\"Fertig erstellte Wohnungen Baujahr und  Quartier/2020-01-01\",\"Fertig erstellte Wohnungen Baujahr und  Quartier/2019-01-01\",\"Fertig erstellte Wohnungen Baujahr und  Quartier/2014-01-01\",\"Fertig erstellte Wohnungen Baujahr und  Quartier/2013-01-01\",\"Fertig erstellte Wohnungen Baujahr und  Quartier/2011-01-01\",\"Fertig erstellte Wohnungen Baujahr und  Quartier/2012-01-01\",\"Fertig erstellte Wohnungen Baujahr und  Quartier/2014-01-01\",\"Fertig erstellte Wohnungen Baujahr und  Quartier/2016-01-01\",\"Fertig erstellte Wohnungen Baujahr und  Quartier/2018-01-01\",\"Fertig erstellte Wohnungen Baujahr und  Quartier/2015-01-01\",\"Fertig erstellte Wohnungen Baujahr und  Quartier/2017-01-01\",\"Fertig erstellte Wohnungen Baujahr und  Quartier/2010-01-01\",\"Fertig erstellte Wohnungen Baujahr und  Quartier/2021-01-01\",\"Fertig erstellte Wohnungen Baujahr und  Quartier/2010-01-01\",\"Fertig erstellte Wohnungen Baujahr und  Quartier/2012-01-01\",\"Fertig erstellte Wohnungen Baujahr und  Quartier/2011-01-01\",\"Fertig erstellte Wohnungen Baujahr und  Quartier/2017-01-01\",\"Fertig erstellte Wohnungen Baujahr und  Quartier/2018-01-01\",\"Fertig erstellte Wohnungen Baujahr und  Quartier/2021-01-01\",\"Fertig erstellte Wohnungen Baujahr und  Quartier/2009-01-01\",\"Fertig erstellte Wohnungen Baujahr und  Quartier/2015-01-01\",\"Fertig erstellte Wohnungen Baujahr und  Quartier/2013-01-01\",\"Fertig erstellte Wohnungen Baujahr und  Quartier/2013-01-01\",\"Fertig erstellte Wohnungen Baujahr und  Quartier/2009-01-01\",\"Fertig erstellte Wohnungen Baujahr und  Quartier/2010-01-01\",\"Fertig erstellte Wohnungen Baujahr und  Quartier/2011-01-01\",\"Fertig erstellte Wohnungen Baujahr und  Quartier/2012-01-01\",\"Fertig erstellte Wohnungen Baujahr und  Quartier/2015-01-01\",\"Fertig erstellte Wohnungen Baujahr und  Quartier/2016-01-01\",\"Fertig erstellte Wohnungen Baujahr und  Quartier/2017-01-01\",\"Fertig erstellte Wohnungen Baujahr und  Quartier/2018-01-01\",\"Fertig erstellte Wohnungen Baujahr und  Quartier/2019-01-01\",\"Fertig erstellte Wohnungen Baujahr und  Quartier/2020-01-01\",\"Fertig erstellte Wohnungen Baujahr und  Quartier/2014-01-01\",\"Fertig erstellte Wohnungen Baujahr und  Quartier/2010-01-01\",\"Fertig erstellte Wohnungen Baujahr und  Quartier/2011-01-01\",\"Fertig erstellte Wohnungen Baujahr und  Quartier/2012-01-01\",\"Fertig erstellte Wohnungen Baujahr und  Quartier/2013-01-01\",\"Fertig erstellte Wohnungen Baujahr und  Quartier/2014-01-01\",\"Fertig erstellte Wohnungen Baujahr und  Quartier/2017-01-01\",\"Fertig erstellte Wohnungen Baujahr und  Quartier/2016-01-01\",\"Fertig erstellte Wohnungen Baujahr und  Quartier/2018-01-01\",\"Fertig erstellte Wohnungen Baujahr und  Quartier/2019-01-01\",\"Fertig erstellte Wohnungen Baujahr und  Quartier/2020-01-01\",\"Fertig erstellte Wohnungen Baujahr und  Quartier/2021-01-01\",\"Fertig erstellte Wohnungen Baujahr und  Quartier/2015-01-01\",\"Fertig erstellte Wohnungen Baujahr und  Quartier/2009-01-01\",\"Fertig erstellte Wohnungen Baujahr und  Quartier\",\"Fertig erstellte Wohnungen Baujahr und  Quartier\",\"Fertig erstellte Wohnungen Baujahr und  Quartier\",\"Fertig erstellte Wohnungen Baujahr und  Quartier\",\"Fertig erstellte Wohnungen Baujahr und  Quartier\",\"Fertig erstellte Wohnungen Baujahr und  Quartier\",\"Fertig erstellte Wohnungen Baujahr und  Quartier\",\"Fertig erstellte Wohnungen Baujahr und  Quartier\",\"Fertig erstellte Wohnungen Baujahr und  Quartier\",\"Fertig erstellte Wohnungen Baujahr und  Quartier\",\"Fertig erstellte Wohnungen Baujahr und  Quartier\",\"Fertig erstellte Wohnungen Baujahr und  Quartier\",\"Fertig erstellte Wohnungen Baujahr und  Quartier\",\"\"],\"root\":{\"color\":\"grey\"},\"type\":\"treemap\",\"values\":[214,78,66,25,38,13,226,183,32,561,75,89,321,34,44,25,9,84,23,27,9,126,33,87,25,44,20,19,29,68,144,1,30,180,6,15,58,24,55,79,6,2,8,80,41,4,39,10,39,21,11,2,179,307,72,292,57,63,87,100,87,4,236,99,78,121,27,85,142,70,94,137,15,193,61,43,17,214,108,12,147,391,20,40,23,116,29,22,200,223,230,489,396,193,158,27,134,14,165,33,229,64,92,24,4,19,58,125,57,58,51,144,223,100,58,169,48,35,121,3,301,59,42,1,37,10,113,119,88,98,93,31,10,38,12,5,11,23,25,3,6,25,5,6,13,14,3,140,89,37,67,24,5,3,17,1,87,165,36,15,307,95,29,79,18,35,63,8,31,93,65,165,11,4,12,10,114,21,364,18,43,46,221,101,72,79,166,115,124,4,256,3,8,8,67,13,7,31,205,4,26,28,16,33,8,364,2,62,76,119,10,73,17,22,1,11,21,1,169,38,1,33,30,4,22,12,45,27,55,68,27,32,5,114,26,5,117,12,7,33,18,8,15,68,31,55,120,18,73,38,7,34,2,18,51,518,108,23,303,186,466,5,17,146,40,1,384,221,269,69,112,373,52,84,263,751,266,381,264,89,124,29,137,34,381,5,15,36,346,52,228,37,178,315,120,1072,179,104,126,45,27,204,662,208,68,150,29,83,308,32,1,58,12,171,1381,1205,2307,2255,2502,1939,3215,2995,2662,3360,1979,1772,1929,29501]}],                        {\"height\":500,\"legend\":{\"tracegroupgap\":0},\"margin\":{\"b\":25,\"l\":25,\"r\":250,\"t\":50},\"template\":{\"data\":{\"bar\":[{\"error_x\":{\"color\":\"#2a3f5f\"},\"error_y\":{\"color\":\"#2a3f5f\"},\"marker\":{\"line\":{\"color\":\"#E5ECF6\",\"width\":0.5},\"pattern\":{\"fillmode\":\"overlay\",\"size\":10,\"solidity\":0.2}},\"type\":\"bar\"}],\"barpolar\":[{\"marker\":{\"line\":{\"color\":\"#E5ECF6\",\"width\":0.5},\"pattern\":{\"fillmode\":\"overlay\",\"size\":10,\"solidity\":0.2}},\"type\":\"barpolar\"}],\"carpet\":[{\"aaxis\":{\"endlinecolor\":\"#2a3f5f\",\"gridcolor\":\"white\",\"linecolor\":\"white\",\"minorgridcolor\":\"white\",\"startlinecolor\":\"#2a3f5f\"},\"baxis\":{\"endlinecolor\":\"#2a3f5f\",\"gridcolor\":\"white\",\"linecolor\":\"white\",\"minorgridcolor\":\"white\",\"startlinecolor\":\"#2a3f5f\"},\"type\":\"carpet\"}],\"choropleth\":[{\"colorbar\":{\"outlinewidth\":0,\"ticks\":\"\"},\"type\":\"choropleth\"}],\"contour\":[{\"colorbar\":{\"outlinewidth\":0,\"ticks\":\"\"},\"colorscale\":[[0.0,\"#0d0887\"],[0.1111111111111111,\"#46039f\"],[0.2222222222222222,\"#7201a8\"],[0.3333333333333333,\"#9c179e\"],[0.4444444444444444,\"#bd3786\"],[0.5555555555555556,\"#d8576b\"],[0.6666666666666666,\"#ed7953\"],[0.7777777777777778,\"#fb9f3a\"],[0.8888888888888888,\"#fdca26\"],[1.0,\"#f0f921\"]],\"type\":\"contour\"}],\"contourcarpet\":[{\"colorbar\":{\"outlinewidth\":0,\"ticks\":\"\"},\"type\":\"contourcarpet\"}],\"heatmap\":[{\"colorbar\":{\"outlinewidth\":0,\"ticks\":\"\"},\"colorscale\":[[0.0,\"#0d0887\"],[0.1111111111111111,\"#46039f\"],[0.2222222222222222,\"#7201a8\"],[0.3333333333333333,\"#9c179e\"],[0.4444444444444444,\"#bd3786\"],[0.5555555555555556,\"#d8576b\"],[0.6666666666666666,\"#ed7953\"],[0.7777777777777778,\"#fb9f3a\"],[0.8888888888888888,\"#fdca26\"],[1.0,\"#f0f921\"]],\"type\":\"heatmap\"}],\"heatmapgl\":[{\"colorbar\":{\"outlinewidth\":0,\"ticks\":\"\"},\"colorscale\":[[0.0,\"#0d0887\"],[0.1111111111111111,\"#46039f\"],[0.2222222222222222,\"#7201a8\"],[0.3333333333333333,\"#9c179e\"],[0.4444444444444444,\"#bd3786\"],[0.5555555555555556,\"#d8576b\"],[0.6666666666666666,\"#ed7953\"],[0.7777777777777778,\"#fb9f3a\"],[0.8888888888888888,\"#fdca26\"],[1.0,\"#f0f921\"]],\"type\":\"heatmapgl\"}],\"histogram\":[{\"marker\":{\"pattern\":{\"fillmode\":\"overlay\",\"size\":10,\"solidity\":0.2}},\"type\":\"histogram\"}],\"histogram2d\":[{\"colorbar\":{\"outlinewidth\":0,\"ticks\":\"\"},\"colorscale\":[[0.0,\"#0d0887\"],[0.1111111111111111,\"#46039f\"],[0.2222222222222222,\"#7201a8\"],[0.3333333333333333,\"#9c179e\"],[0.4444444444444444,\"#bd3786\"],[0.5555555555555556,\"#d8576b\"],[0.6666666666666666,\"#ed7953\"],[0.7777777777777778,\"#fb9f3a\"],[0.8888888888888888,\"#fdca26\"],[1.0,\"#f0f921\"]],\"type\":\"histogram2d\"}],\"histogram2dcontour\":[{\"colorbar\":{\"outlinewidth\":0,\"ticks\":\"\"},\"colorscale\":[[0.0,\"#0d0887\"],[0.1111111111111111,\"#46039f\"],[0.2222222222222222,\"#7201a8\"],[0.3333333333333333,\"#9c179e\"],[0.4444444444444444,\"#bd3786\"],[0.5555555555555556,\"#d8576b\"],[0.6666666666666666,\"#ed7953\"],[0.7777777777777778,\"#fb9f3a\"],[0.8888888888888888,\"#fdca26\"],[1.0,\"#f0f921\"]],\"type\":\"histogram2dcontour\"}],\"mesh3d\":[{\"colorbar\":{\"outlinewidth\":0,\"ticks\":\"\"},\"type\":\"mesh3d\"}],\"parcoords\":[{\"line\":{\"colorbar\":{\"outlinewidth\":0,\"ticks\":\"\"}},\"type\":\"parcoords\"}],\"pie\":[{\"automargin\":true,\"type\":\"pie\"}],\"scatter\":[{\"marker\":{\"colorbar\":{\"outlinewidth\":0,\"ticks\":\"\"}},\"type\":\"scatter\"}],\"scatter3d\":[{\"line\":{\"colorbar\":{\"outlinewidth\":0,\"ticks\":\"\"}},\"marker\":{\"colorbar\":{\"outlinewidth\":0,\"ticks\":\"\"}},\"type\":\"scatter3d\"}],\"scattercarpet\":[{\"marker\":{\"colorbar\":{\"outlinewidth\":0,\"ticks\":\"\"}},\"type\":\"scattercarpet\"}],\"scattergeo\":[{\"marker\":{\"colorbar\":{\"outlinewidth\":0,\"ticks\":\"\"}},\"type\":\"scattergeo\"}],\"scattergl\":[{\"marker\":{\"colorbar\":{\"outlinewidth\":0,\"ticks\":\"\"}},\"type\":\"scattergl\"}],\"scattermapbox\":[{\"marker\":{\"colorbar\":{\"outlinewidth\":0,\"ticks\":\"\"}},\"type\":\"scattermapbox\"}],\"scatterpolar\":[{\"marker\":{\"colorbar\":{\"outlinewidth\":0,\"ticks\":\"\"}},\"type\":\"scatterpolar\"}],\"scatterpolargl\":[{\"marker\":{\"colorbar\":{\"outlinewidth\":0,\"ticks\":\"\"}},\"type\":\"scatterpolargl\"}],\"scatterternary\":[{\"marker\":{\"colorbar\":{\"outlinewidth\":0,\"ticks\":\"\"}},\"type\":\"scatterternary\"}],\"surface\":[{\"colorbar\":{\"outlinewidth\":0,\"ticks\":\"\"},\"colorscale\":[[0.0,\"#0d0887\"],[0.1111111111111111,\"#46039f\"],[0.2222222222222222,\"#7201a8\"],[0.3333333333333333,\"#9c179e\"],[0.4444444444444444,\"#bd3786\"],[0.5555555555555556,\"#d8576b\"],[0.6666666666666666,\"#ed7953\"],[0.7777777777777778,\"#fb9f3a\"],[0.8888888888888888,\"#fdca26\"],[1.0,\"#f0f921\"]],\"type\":\"surface\"}],\"table\":[{\"cells\":{\"fill\":{\"color\":\"#EBF0F8\"},\"line\":{\"color\":\"white\"}},\"header\":{\"fill\":{\"color\":\"#C8D4E3\"},\"line\":{\"color\":\"white\"}},\"type\":\"table\"}]},\"layout\":{\"annotationdefaults\":{\"arrowcolor\":\"#2a3f5f\",\"arrowhead\":0,\"arrowwidth\":1},\"autotypenumbers\":\"strict\",\"coloraxis\":{\"colorbar\":{\"outlinewidth\":0,\"ticks\":\"\"}},\"colorscale\":{\"diverging\":[[0,\"#8e0152\"],[0.1,\"#c51b7d\"],[0.2,\"#de77ae\"],[0.3,\"#f1b6da\"],[0.4,\"#fde0ef\"],[0.5,\"#f7f7f7\"],[0.6,\"#e6f5d0\"],[0.7,\"#b8e186\"],[0.8,\"#7fbc41\"],[0.9,\"#4d9221\"],[1,\"#276419\"]],\"sequential\":[[0.0,\"#0d0887\"],[0.1111111111111111,\"#46039f\"],[0.2222222222222222,\"#7201a8\"],[0.3333333333333333,\"#9c179e\"],[0.4444444444444444,\"#bd3786\"],[0.5555555555555556,\"#d8576b\"],[0.6666666666666666,\"#ed7953\"],[0.7777777777777778,\"#fb9f3a\"],[0.8888888888888888,\"#fdca26\"],[1.0,\"#f0f921\"]],\"sequentialminus\":[[0.0,\"#0d0887\"],[0.1111111111111111,\"#46039f\"],[0.2222222222222222,\"#7201a8\"],[0.3333333333333333,\"#9c179e\"],[0.4444444444444444,\"#bd3786\"],[0.5555555555555556,\"#d8576b\"],[0.6666666666666666,\"#ed7953\"],[0.7777777777777778,\"#fb9f3a\"],[0.8888888888888888,\"#fdca26\"],[1.0,\"#f0f921\"]]},\"colorway\":[\"#636efa\",\"#EF553B\",\"#00cc96\",\"#ab63fa\",\"#FFA15A\",\"#19d3f3\",\"#FF6692\",\"#B6E880\",\"#FF97FF\",\"#FECB52\"],\"font\":{\"color\":\"#2a3f5f\"},\"geo\":{\"bgcolor\":\"white\",\"lakecolor\":\"white\",\"landcolor\":\"#E5ECF6\",\"showlakes\":true,\"showland\":true,\"subunitcolor\":\"white\"},\"hoverlabel\":{\"align\":\"left\"},\"hovermode\":\"closest\",\"mapbox\":{\"style\":\"light\"},\"paper_bgcolor\":\"white\",\"plot_bgcolor\":\"#E5ECF6\",\"polar\":{\"angularaxis\":{\"gridcolor\":\"white\",\"linecolor\":\"white\",\"ticks\":\"\"},\"bgcolor\":\"#E5ECF6\",\"radialaxis\":{\"gridcolor\":\"white\",\"linecolor\":\"white\",\"ticks\":\"\"}},\"scene\":{\"xaxis\":{\"backgroundcolor\":\"#E5ECF6\",\"gridcolor\":\"white\",\"gridwidth\":2,\"linecolor\":\"white\",\"showbackground\":true,\"ticks\":\"\",\"zerolinecolor\":\"white\"},\"yaxis\":{\"backgroundcolor\":\"#E5ECF6\",\"gridcolor\":\"white\",\"gridwidth\":2,\"linecolor\":\"white\",\"showbackground\":true,\"ticks\":\"\",\"zerolinecolor\":\"white\"},\"zaxis\":{\"backgroundcolor\":\"#E5ECF6\",\"gridcolor\":\"white\",\"gridwidth\":2,\"linecolor\":\"white\",\"showbackground\":true,\"ticks\":\"\",\"zerolinecolor\":\"white\"}},\"shapedefaults\":{\"line\":{\"color\":\"#2a3f5f\"}},\"ternary\":{\"aaxis\":{\"gridcolor\":\"white\",\"linecolor\":\"white\",\"ticks\":\"\"},\"baxis\":{\"gridcolor\":\"white\",\"linecolor\":\"white\",\"ticks\":\"\"},\"bgcolor\":\"#E5ECF6\",\"caxis\":{\"gridcolor\":\"white\",\"linecolor\":\"white\",\"ticks\":\"\"}},\"title\":{\"x\":0.05},\"xaxis\":{\"automargin\":true,\"gridcolor\":\"white\",\"linecolor\":\"white\",\"ticks\":\"\",\"title\":{\"standoff\":15},\"zerolinecolor\":\"white\",\"zerolinewidth\":2},\"yaxis\":{\"automargin\":true,\"gridcolor\":\"white\",\"linecolor\":\"white\",\"ticks\":\"\",\"title\":{\"standoff\":15},\"zerolinecolor\":\"white\",\"zerolinewidth\":2}}},\"width\":1100},                        {\"responsive\": true}                    ).then(function(){\n",
       "                            \n",
       "var gd = document.getElementById('7d965de4-232b-4108-b31a-e13aa752b6df');\n",
       "var x = new MutationObserver(function (mutations, observer) {{\n",
       "        var display = window.getComputedStyle(gd).display;\n",
       "        if (!display || display === 'none') {{\n",
       "            console.log([gd, 'removed!']);\n",
       "            Plotly.purge(gd);\n",
       "            observer.disconnect();\n",
       "        }}\n",
       "}});\n",
       "\n",
       "// Listen for the removal of the full notebook cells\n",
       "var notebookContainer = gd.closest('#notebook-container');\n",
       "if (notebookContainer) {{\n",
       "    x.observe(notebookContainer, {childList: true});\n",
       "}}\n",
       "\n",
       "// Listen for the clearing of the current output cell\n",
       "var outputEl = gd.closest('.output');\n",
       "if (outputEl) {{\n",
       "    x.observe(outputEl, {childList: true});\n",
       "}}\n",
       "\n",
       "                        })                };                });            </script>        </div>"
      ]
     },
     "metadata": {},
     "output_type": "display_data"
    }
   ],
   "source": [
    "fig = px.treemap(myTreemapAgg.query('sum_Whg_fertigerstellt >0').reset_index(), path=[px.Constant(\"Fertig erstellte Wohnungen Baujahr und  Quartier\")\n",
    "                                                                                      , 'Jahr','QuarLang']\n",
    "                 , values='sum_Whg_fertigerstellt'\n",
    "                 , color='QuarLang'\n",
    "                 ## bei discrete scales (bei Klassen und Strings):                 \n",
    "                 , color_discrete_map={'(?)':'lightgrey','Alt-Wiedikon':'gold', 'SP':'#FF3030', 'PdA':'#EE3B3B', 'Grüne':'#A2CD5A','GLP':'#CAFF70','Die Mitte':'orange','FDP':'#104E8B','AL':'deeppink','SVP':'forestgreen', 'FL ZÜRI':'#8B864E','Volt':'#lightblue' }                \n",
    "                 ## bei continuous scales (bei Zahlenwerten):\n",
    "                #, color_continuous_scale='cividis'\n",
    "                #, color_continuous_midpoint=np.average(df['AnzBestWir'], weights=df['AnzBestWir'])  \n",
    "                 ,height=500\n",
    "                 ,width=1100                 \n",
    "                )\n",
    "fig.update_traces(root_color=\"grey\")\n",
    "fig.update_layout(margin = dict(t=50, l=25, r=250, b=25))\n",
    "fig.show()"
   ]
  },
  {
   "cell_type": "code",
   "execution_count": 117,
   "metadata": {},
   "outputs": [],
   "source": [
    "#data2betested.dtypes"
   ]
  },
  {
   "cell_type": "markdown",
   "metadata": {},
   "source": [
    "## ---------------------- hier Plausi beendet\n",
    "\n",
    "Liniendiagramm \n",
    "[Link zur Doku](https://altair-viz.github.io/gallery/multiline_highlight.html)"
   ]
  },
  {
   "cell_type": "markdown",
   "metadata": {
    "tags": []
   },
   "source": [
    "### Test: Choroplethenkarte\n",
    "Importiere die Geodaten als GeoJSON"
   ]
  },
  {
   "cell_type": "markdown",
   "metadata": {},
   "source": [
    "#### Stadtkreise"
   ]
  },
  {
   "cell_type": "code",
   "execution_count": 124,
   "metadata": {},
   "outputs": [
    {
     "data": {
      "text/html": [
       "<div>\n",
       "<style scoped>\n",
       "    .dataframe tbody tr th:only-of-type {\n",
       "        vertical-align: middle;\n",
       "    }\n",
       "\n",
       "    .dataframe tbody tr th {\n",
       "        vertical-align: top;\n",
       "    }\n",
       "\n",
       "    .dataframe thead th {\n",
       "        text-align: right;\n",
       "    }\n",
       "</style>\n",
       "<table border=\"1\" class=\"dataframe\">\n",
       "  <thead>\n",
       "    <tr style=\"text-align: right;\">\n",
       "      <th></th>\n",
       "      <th>id</th>\n",
       "      <th>kname</th>\n",
       "      <th>knr</th>\n",
       "      <th>objid</th>\n",
       "      <th>geometry</th>\n",
       "    </tr>\n",
       "  </thead>\n",
       "  <tbody>\n",
       "    <tr>\n",
       "      <th>0</th>\n",
       "      <td>adm_stadtkreise_v.6</td>\n",
       "      <td>Kreis 7</td>\n",
       "      <td>7</td>\n",
       "      <td>6</td>\n",
       "      <td>POLYGON ((8.54885 47.36602, 8.54901 47.36601, ...</td>\n",
       "    </tr>\n",
       "  </tbody>\n",
       "</table>\n",
       "</div>"
      ],
      "text/plain": [
       "                    id    kname  knr objid                                           geometry\n",
       "0  adm_stadtkreise_v.6  Kreis 7    7     6  POLYGON ((8.54885 47.36602, 8.54901 47.36601, ..."
      ]
     },
     "execution_count": 124,
     "metadata": {},
     "output_type": "execute_result"
    }
   ],
   "source": [
    "# Read abt. Geopandas https://geopandas.org/docs/user_guide/io.html\n",
    "geojson_url_kreise = \"https://www.ogd.stadt-zuerich.ch/wfs/geoportal/Stadtkreise?service=WFS&version=1.1.0&request=GetFeature&outputFormat=GeoJSON&typename=adm_stadtkreise_v\"\n",
    "adm_stadtkreise_v = gpd.read_file(geojson_url_kreise)\n",
    "\n",
    "adm_stadtkreise_v.head(1)\n"
   ]
  },
  {
   "cell_type": "markdown",
   "metadata": {},
   "source": [
    "#### Statistische Zonen"
   ]
  },
  {
   "cell_type": "code",
   "execution_count": 115,
   "metadata": {},
   "outputs": [
    {
     "data": {
      "text/html": [
       "<div>\n",
       "<style scoped>\n",
       "    .dataframe tbody tr th:only-of-type {\n",
       "        vertical-align: middle;\n",
       "    }\n",
       "\n",
       "    .dataframe tbody tr th {\n",
       "        vertical-align: top;\n",
       "    }\n",
       "\n",
       "    .dataframe thead th {\n",
       "        text-align: right;\n",
       "    }\n",
       "</style>\n",
       "<table border=\"1\" class=\"dataframe\">\n",
       "  <thead>\n",
       "    <tr style=\"text-align: right;\">\n",
       "      <th></th>\n",
       "      <th>id</th>\n",
       "      <th>kname</th>\n",
       "      <th>knr</th>\n",
       "      <th>objectid</th>\n",
       "      <th>objid</th>\n",
       "      <th>qname</th>\n",
       "      <th>qnr</th>\n",
       "      <th>stzname</th>\n",
       "      <th>stznr</th>\n",
       "      <th>geometry</th>\n",
       "    </tr>\n",
       "  </thead>\n",
       "  <tbody>\n",
       "    <tr>\n",
       "      <th>0</th>\n",
       "      <td>adm_statzonen_map.1</td>\n",
       "      <td>Kreis 7</td>\n",
       "      <td>7</td>\n",
       "      <td>1</td>\n",
       "      <td>154</td>\n",
       "      <td>Hirslanden</td>\n",
       "      <td>73</td>\n",
       "      <td>Hegibach</td>\n",
       "      <td>7303</td>\n",
       "      <td>POLYGON ((8.55670 47.36406, 8.55682 47.36410, ...</td>\n",
       "    </tr>\n",
       "    <tr>\n",
       "      <th>1</th>\n",
       "      <td>adm_statzonen_map.2</td>\n",
       "      <td>Kreis 7</td>\n",
       "      <td>7</td>\n",
       "      <td>2</td>\n",
       "      <td>89</td>\n",
       "      <td>Hirslanden</td>\n",
       "      <td>73</td>\n",
       "      <td>Klus</td>\n",
       "      <td>7302</td>\n",
       "      <td>POLYGON ((8.57281 47.35806, 8.57278 47.35807, ...</td>\n",
       "    </tr>\n",
       "  </tbody>\n",
       "</table>\n",
       "</div>"
      ],
      "text/plain": [
       "                    id    kname  knr  objectid objid       qname  qnr   stzname  stznr  \\\n",
       "0  adm_statzonen_map.1  Kreis 7    7         1   154  Hirslanden   73  Hegibach   7303   \n",
       "1  adm_statzonen_map.2  Kreis 7    7         2    89  Hirslanden   73      Klus   7302   \n",
       "\n",
       "                                            geometry  \n",
       "0  POLYGON ((8.55670 47.36406, 8.55682 47.36410, ...  \n",
       "1  POLYGON ((8.57281 47.35806, 8.57278 47.35807, ...  "
      ]
     },
     "execution_count": 115,
     "metadata": {},
     "output_type": "execute_result"
    }
   ],
   "source": [
    "# Read abt. Geopandas https://geopandas.org/docs/user_guide/io.html\n",
    "geojson_url_statzonen = \"https://www.ogd.stadt-zuerich.ch/wfs/geoportal/Statistische_Zonen?service=WFS&version=1.1.0&request=GetFeature&outputFormat=GeoJSON&typename=adm_statzonen_map\"\n",
    "adm_statzonen_map = gpd.read_file(geojson_url_statzonen)\n",
    "\n",
    "adm_statzonen_map.head(2)\n"
   ]
  },
  {
   "cell_type": "markdown",
   "metadata": {},
   "source": [
    "#### Statistische Quartiere"
   ]
  },
  {
   "cell_type": "code",
   "execution_count": 119,
   "metadata": {},
   "outputs": [
    {
     "data": {
      "text/html": [
       "<div>\n",
       "<style scoped>\n",
       "    .dataframe tbody tr th:only-of-type {\n",
       "        vertical-align: middle;\n",
       "    }\n",
       "\n",
       "    .dataframe tbody tr th {\n",
       "        vertical-align: top;\n",
       "    }\n",
       "\n",
       "    .dataframe thead th {\n",
       "        text-align: right;\n",
       "    }\n",
       "</style>\n",
       "<table border=\"1\" class=\"dataframe\">\n",
       "  <thead>\n",
       "    <tr style=\"text-align: right;\">\n",
       "      <th></th>\n",
       "      <th>id</th>\n",
       "      <th>kname</th>\n",
       "      <th>knr</th>\n",
       "      <th>objectid</th>\n",
       "      <th>objid</th>\n",
       "      <th>qname</th>\n",
       "      <th>qnr</th>\n",
       "      <th>geometry</th>\n",
       "    </tr>\n",
       "  </thead>\n",
       "  <tbody>\n",
       "    <tr>\n",
       "      <th>0</th>\n",
       "      <td>adm_statistische_quartiere_map.1</td>\n",
       "      <td>Kreis 7</td>\n",
       "      <td>7</td>\n",
       "      <td>1</td>\n",
       "      <td>34</td>\n",
       "      <td>Hirslanden</td>\n",
       "      <td>73</td>\n",
       "      <td>POLYGON ((8.55670 47.36406, 8.55682 47.36410, ...</td>\n",
       "    </tr>\n",
       "    <tr>\n",
       "      <th>1</th>\n",
       "      <td>adm_statistische_quartiere_map.2</td>\n",
       "      <td>Kreis 8</td>\n",
       "      <td>8</td>\n",
       "      <td>2</td>\n",
       "      <td>33</td>\n",
       "      <td>Weinegg</td>\n",
       "      <td>83</td>\n",
       "      <td>POLYGON ((8.55670 47.36405, 8.55672 47.36403, ...</td>\n",
       "    </tr>\n",
       "  </tbody>\n",
       "</table>\n",
       "</div>"
      ],
      "text/plain": [
       "                                 id    kname  knr  objectid objid       qname  qnr  \\\n",
       "0  adm_statistische_quartiere_map.1  Kreis 7    7         1    34  Hirslanden   73   \n",
       "1  adm_statistische_quartiere_map.2  Kreis 8    8         2    33     Weinegg   83   \n",
       "\n",
       "                                            geometry  \n",
       "0  POLYGON ((8.55670 47.36406, 8.55682 47.36410, ...  \n",
       "1  POLYGON ((8.55670 47.36405, 8.55672 47.36403, ...  "
      ]
     },
     "execution_count": 119,
     "metadata": {},
     "output_type": "execute_result"
    }
   ],
   "source": [
    "geojson_url_quartiere = \"https://www.ogd.stadt-zuerich.ch/wfs/geoportal/Statistische_Quartiere?service=WFS&version=1.1.0&request=GetFeature&outputFormat=GeoJSON&typename=adm_statistische_quartiere_map\"\n",
    "df_adm_statistische_quartiere_map = gpd.read_file(geojson_url_quartiere)\n",
    "\n",
    "df_adm_statistische_quartiere_map.head(2)\n"
   ]
  },
  {
   "cell_type": "markdown",
   "metadata": {},
   "source": [
    "### Joins\n",
    "Joine die importierten statistischen Daten des aktuellen Jahres zum Geodatensatz:\n",
    "\n",
    "*Siehe dazu Doku zu [Geopandas](https://geopandas.org/docs/user_guide/mergingdata.html)*"
   ]
  },
  {
   "cell_type": "code",
   "execution_count": 127,
   "metadata": {},
   "outputs": [
    {
     "data": {
      "text/plain": [
       "StatZoneCd             int64\n",
       "StatZone              object\n",
       "QuarCd                 int64\n",
       "QuarLang              object\n",
       "KreisCd                int64\n",
       "KreisLang             object\n",
       "EigentumsartSort       int64\n",
       "Eigentumsart          object\n",
       "Whg_abgebrochen        int64\n",
       "Whg_fertigerstellt     int64\n",
       "dtype: object"
      ]
     },
     "execution_count": 127,
     "metadata": {},
     "output_type": "execute_result"
    }
   ],
   "source": [
    "data2betested.dtypes"
   ]
  },
  {
   "cell_type": "code",
   "execution_count": 137,
   "metadata": {},
   "outputs": [
    {
     "data": {
      "text/html": [
       "<div>\n",
       "<style scoped>\n",
       "    .dataframe tbody tr th:only-of-type {\n",
       "        vertical-align: middle;\n",
       "    }\n",
       "\n",
       "    .dataframe tbody tr th {\n",
       "        vertical-align: top;\n",
       "    }\n",
       "\n",
       "    .dataframe thead th {\n",
       "        text-align: right;\n",
       "    }\n",
       "</style>\n",
       "<table border=\"1\" class=\"dataframe\">\n",
       "  <thead>\n",
       "    <tr style=\"text-align: right;\">\n",
       "      <th></th>\n",
       "      <th>QuarLang</th>\n",
       "      <th>QuarCd</th>\n",
       "      <th>sum_Whg_abgebrochen</th>\n",
       "      <th>sum_Whg_fertigerstellt</th>\n",
       "    </tr>\n",
       "  </thead>\n",
       "  <tbody>\n",
       "    <tr>\n",
       "      <th>0</th>\n",
       "      <td>Albisrieden</td>\n",
       "      <td>91</td>\n",
       "      <td>282</td>\n",
       "      <td>89</td>\n",
       "    </tr>\n",
       "  </tbody>\n",
       "</table>\n",
       "</div>"
      ],
      "text/plain": [
       "      QuarLang  QuarCd  sum_Whg_abgebrochen  sum_Whg_fertigerstellt\n",
       "0  Albisrieden      91                  282                      89"
      ]
     },
     "execution_count": 137,
     "metadata": {},
     "output_type": "execute_result"
    }
   ],
   "source": [
    "myAgg = data2betested.loc[\"2021\"]  \\\n",
    "    .groupby(['QuarLang', 'QuarCd']) \\\n",
    "    .agg(sum_Whg_abgebrochen=('Whg_abgebrochen', 'sum'),sum_Whg_fertigerstellt=('Whg_fertigerstellt', 'sum')) \\\n",
    "    .sort_values('sum_Whg_abgebrochen', ascending=False) \n",
    "\n",
    "myAgg.reset_index().head(1)\n"
   ]
  },
  {
   "cell_type": "code",
   "execution_count": 138,
   "metadata": {},
   "outputs": [
    {
     "data": {
      "text/html": [
       "<div>\n",
       "<style scoped>\n",
       "    .dataframe tbody tr th:only-of-type {\n",
       "        vertical-align: middle;\n",
       "    }\n",
       "\n",
       "    .dataframe tbody tr th {\n",
       "        vertical-align: top;\n",
       "    }\n",
       "\n",
       "    .dataframe thead th {\n",
       "        text-align: right;\n",
       "    }\n",
       "</style>\n",
       "<table border=\"1\" class=\"dataframe\">\n",
       "  <thead>\n",
       "    <tr style=\"text-align: right;\">\n",
       "      <th></th>\n",
       "      <th>geometry</th>\n",
       "      <th>QuarCd</th>\n",
       "      <th>qname</th>\n",
       "      <th>knr</th>\n",
       "    </tr>\n",
       "  </thead>\n",
       "  <tbody>\n",
       "    <tr>\n",
       "      <th>0</th>\n",
       "      <td>POLYGON ((8.55670 47.36406, 8.55682 47.36410, ...</td>\n",
       "      <td>73</td>\n",
       "      <td>Hirslanden</td>\n",
       "      <td>7</td>\n",
       "    </tr>\n",
       "  </tbody>\n",
       "</table>\n",
       "</div>"
      ],
      "text/plain": [
       "                                            geometry  QuarCd       qname  knr\n",
       "0  POLYGON ((8.55670 47.36406, 8.55682 47.36410, ...      73  Hirslanden    7"
      ]
     },
     "execution_count": 138,
     "metadata": {},
     "output_type": "execute_result"
    }
   ],
   "source": [
    "# Rename attribute stznr to StatZoneSort, so the IDs have the same name\n",
    "gdf_adm_statistische_quartiere_map = df_adm_statistische_quartiere_map[['geometry', 'qnr', 'qname', 'knr']].rename(columns={'qnr': 'QuarCd'})\n",
    "gdf_adm_statistische_quartiere_map.head(1)"
   ]
  },
  {
   "cell_type": "code",
   "execution_count": 139,
   "metadata": {},
   "outputs": [
    {
     "data": {
      "text/html": [
       "<div>\n",
       "<style scoped>\n",
       "    .dataframe tbody tr th:only-of-type {\n",
       "        vertical-align: middle;\n",
       "    }\n",
       "\n",
       "    .dataframe tbody tr th {\n",
       "        vertical-align: top;\n",
       "    }\n",
       "\n",
       "    .dataframe thead th {\n",
       "        text-align: right;\n",
       "    }\n",
       "</style>\n",
       "<table border=\"1\" class=\"dataframe\">\n",
       "  <thead>\n",
       "    <tr style=\"text-align: right;\">\n",
       "      <th></th>\n",
       "      <th>geometry</th>\n",
       "      <th>QuarCd</th>\n",
       "      <th>qname</th>\n",
       "      <th>knr</th>\n",
       "      <th>sum_Whg_abgebrochen</th>\n",
       "      <th>sum_Whg_fertigerstellt</th>\n",
       "    </tr>\n",
       "  </thead>\n",
       "  <tbody>\n",
       "    <tr>\n",
       "      <th>0</th>\n",
       "      <td>POLYGON ((8.55670 47.36406, 8.55682 47.36410, ...</td>\n",
       "      <td>73</td>\n",
       "      <td>Hirslanden</td>\n",
       "      <td>7</td>\n",
       "      <td>48</td>\n",
       "      <td>2</td>\n",
       "    </tr>\n",
       "    <tr>\n",
       "      <th>1</th>\n",
       "      <td>POLYGON ((8.55670 47.36405, 8.55672 47.36403, ...</td>\n",
       "      <td>83</td>\n",
       "      <td>Weinegg</td>\n",
       "      <td>8</td>\n",
       "      <td>2</td>\n",
       "      <td>0</td>\n",
       "    </tr>\n",
       "  </tbody>\n",
       "</table>\n",
       "</div>"
      ],
      "text/plain": [
       "                                            geometry  QuarCd       qname  knr  \\\n",
       "0  POLYGON ((8.55670 47.36406, 8.55682 47.36410, ...      73  Hirslanden    7   \n",
       "1  POLYGON ((8.55670 47.36405, 8.55672 47.36403, ...      83     Weinegg    8   \n",
       "\n",
       "   sum_Whg_abgebrochen  sum_Whg_fertigerstellt  \n",
       "0                   48                       2  \n",
       "1                    2                       0  "
      ]
     },
     "execution_count": 139,
     "metadata": {},
     "output_type": "execute_result"
    }
   ],
   "source": [
    "# Merge with `merge` method on shared variable (stznr und StatZoneSort):\n",
    "gdf_adm_statistische_quartiere_map_joined = gdf_adm_statistische_quartiere_map.merge(myAgg, on='QuarCd')\n",
    "gdf_adm_statistische_quartiere_map_joined.head(2)\n"
   ]
  },
  {
   "cell_type": "code",
   "execution_count": 142,
   "metadata": {},
   "outputs": [
    {
     "data": {
      "text/plain": [
       "<AxesSubplot:>"
      ]
     },
     "execution_count": 142,
     "metadata": {},
     "output_type": "execute_result"
    },
    {
     "data": {
      "image/png": "[encoded data removed]",
      "text/plain": [
       "<Figure size 432x288 with 1 Axes>"
      ]
     },
     "metadata": {
      "needs_background": "light"
     },
     "output_type": "display_data"
    },
    {
     "data": {
      "image/png": "[encoded data removed]",
      "text/plain": [
       "<Figure size 432x288 with 1 Axes>"
      ]
     },
     "metadata": {
      "needs_background": "light"
     },
     "output_type": "display_data"
    }
   ],
   "source": [
    "# Plot by StatQuartiere\n",
    "# Weitere Schemes: scheme='quantiles', scheme='fisherjenks', scheme='natural_breaks',\n",
    "\n",
    "gdf_adm_statistische_quartiere_map_joined.plot(column='sum_Whg_fertigerstellt', cmap='viridis', scheme='natural_breaks', legend=True )\n",
    "gdf_adm_statistische_quartiere_map_joined.plot(column='sum_Whg_abgebrochen', cmap='viridis', scheme='natural_breaks', legend=True )\n",
    "\n",
    "#gdf_adm_statistische_quartiere_map_joined.plot(column='sum_Whg_abgebrochen', cmap='plasma', scheme='fisherjenks', legend=True )\n",
    "#gdf_adm_statistische_quartiere_map_joined.plot(column='sum_Whg_fertigerstellt', cmap='cool', scheme='quantiles', legend=True )\n",
    "#scheme werte: https://matplotlib.org/2.0.2/users/colormaps.html\n",
    "\n",
    "#\n",
    "#Neuere Gallerie: https://matplotlib.org/stable/gallery/index.html"
   ]
  },
  {
   "cell_type": "code",
   "execution_count": 157,
   "metadata": {},
   "outputs": [
    {
     "data": {
      "text/plain": [
       "<AxesSubplot:>"
      ]
     },
     "execution_count": 157,
     "metadata": {},
     "output_type": "execute_result"
    },
    {
     "data": {
      "image/png": "[encoded data removed]",
      "text/plain": [
       "<Figure size 432x288 with 2 Axes>"
      ]
     },
     "metadata": {
      "needs_background": "light"
     },
     "output_type": "display_data"
    }
   ],
   "source": [
    "fig, ax = plt.subplots(1, 1)\n",
    "\n",
    "gdf_adm_statistische_quartiere_map_joined.plot(column='sum_Whg_abgebrochen', ax=ax, legend=True, legend_kwds={'label': \"Anzahl abgebrochene Wohnungen 2021\",'orientation': \"horizontal\"})\n",
    "gdf_adm_statistische_quartiere_map_joined.plot(column='sum_Whg_fertigerstellt', ax=ax, legend=False, legend_kwds={'label': \"Anzahl fertigerstellte Wohnungen 2021\",'orientation': \"horizontal\"})\n",
    "\n",
    "#gdf_adm_statistische_quartiere_map_joined.plot(column='sum_Whg_abgebrochen', cmap='viridis', scheme='natural_breaks', legend=True , ax=ax, legend_kwds={'label': \"Anzahl Personen\",'orientation': \"horizontal\"})"
   ]
  },
  {
   "cell_type": "markdown",
   "metadata": {},
   "source": [
    "Noch zu prüfen, folgendes schöne Beispiel: https://docs.bokeh.org/en/latest/docs/user_guide/interaction/legends.html\n",
    "\n",
    "Konkrete Beispiele von Bookeh in Jupyter NB: https://docs.bokeh.org/en/latest/docs/user_guide/jupyter.html"
   ]
  },
  {
   "cell_type": "markdown",
   "metadata": {},
   "source": [
    "**Sharepoint als gecheckt markieren!**"
   ]
  },
  {
   "cell_type": "markdown",
   "metadata": {},
   "source": [
    "Record auf Sharepoint: **[Link](http://kollaboration.intranet.stzh.ch/orga/ssz-produkte/Lists/SASA_Outputs/EditForm.aspx?ID=172&Source=%2Forga%2Fssz%2Dprodukte%2FLists%2FSASA%5FOutputs)**"
   ]
  },
  {
   "cell_type": "code",
   "execution_count": null,
   "metadata": {},
   "outputs": [],
   "source": []
  },
  {
   "cell_type": "raw",
   "metadata": {},
   "source": []
  },
  {
   "cell_type": "code",
   "execution_count": null,
   "metadata": {},
   "outputs": [],
   "source": []
  }
 ],
 "metadata": {
  "kernelspec": {
   "display_name": "Python 3 (ipykernel)",
   "language": "python",
   "name": "python3"
  },
  "language_info": {
   "codemirror_mode": {
    "name": "ipython",
    "version": 3
   },
   "file_extension": ".py",
   "mimetype": "text/x-python",
   "name": "python",
   "nbconvert_exporter": "python",
   "pygments_lexer": "ipython3",
   "version": "3.7.11"
  }
 },
 "nbformat": 4,
 "nbformat_minor": 4
}
