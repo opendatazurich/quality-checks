{
 "cells": [
  {
   "cell_type": "code",
   "execution_count": null,
   "metadata": {},
   "outputs": [],
   "source": []
  },
  {
   "cell_type": "markdown",
   "metadata": {},
   "source": [
    "# Testing\n",
    "### Nationalität und Geburtsland der Bewohnenden nach Gebäudeeigentum und Stadtquartieren in der Stadt Zürich seit 2008\n",
    "\n",
    "Diese Daten zeigen die Personen nach Nationalität und Geburtsland nach Stadtquartier und Gebäude-Eigentumsgruppe in der Stadt Zürich. Die Daten liegen ab dem Jahr 2008 jährlich vor.\n",
    "\n",
    "Datum: 15.03.2022"
   ]
  },
  {
   "cell_type": "markdown",
   "metadata": {},
   "source": [
    "### Importiere die notwendigen Packages"
   ]
  },
  {
   "cell_type": "code",
   "execution_count": 24,
   "metadata": {},
   "outputs": [],
   "source": [
    "#%pip install geopandas altair fiona requests folium mplleaflet contextily seaborn datetime plotly leafmap"
   ]
  },
  {
   "cell_type": "code",
   "execution_count": 25,
   "metadata": {},
   "outputs": [],
   "source": [
    "import pandas as pd\n",
    "import pivottablejs\n",
    "from pivottablejs import pivot_ui\n",
    "import numpy as np\n",
    "import altair as alt\n",
    "import matplotlib.pyplot as plt\n",
    "#from datetime import datetime\n",
    "import datetime\n",
    "import geopandas as gpd\n",
    "import folium \n",
    "import seaborn as sns\n",
    "\n",
    "\n",
    "import requests\n",
    "import io"
   ]
  },
  {
   "cell_type": "code",
   "execution_count": 26,
   "metadata": {},
   "outputs": [],
   "source": [
    "SSL_VERIFY = False\n",
    "# evtl. SSL_VERIFY auf False setzen wenn die Verbindung zu https://www.gemeinderat-zuerich.ch nicht klappt (z.B. wegen Proxy)\n",
    "# Um die SSL Verifikation auszustellen, bitte die nächste Zeile einkommentieren (\"#\" entfernen)\n",
    "# SSL_VERIFY = False"
   ]
  },
  {
   "cell_type": "code",
   "execution_count": 27,
   "metadata": {},
   "outputs": [],
   "source": [
    "if not SSL_VERIFY:\n",
    "    import urllib3\n",
    "    urllib3.disable_warnings()"
   ]
  },
  {
   "cell_type": "markdown",
   "metadata": {},
   "source": [
    "Definiere Settings. Hier das Zahlenformat von Float-Werten (z.B. *'{:,.2f}'.format* mit Komma als Tausenderzeichen), "
   ]
  },
  {
   "cell_type": "code",
   "execution_count": 28,
   "metadata": {},
   "outputs": [],
   "source": [
    "#pd.options.display.float_format = lambda x : '{:,.1f}'.format(x) if (np.isnan(x) | np.isinf(x)) else '{:,.0f}'.format(x) if int(x) == x else '{:,.1f}'.format(x)\n",
    "pd.options.display.float_format = '{:.0f}'.format\n",
    "pd.set_option('display.width', 100)\n",
    "pd.set_option('display.max_columns', 15)"
   ]
  },
  {
   "cell_type": "markdown",
   "metadata": {},
   "source": [
    "### Zeitvariabeln\n",
    "Bestimme den aktuellst geladenen Monat. Hier ist es der Stand vor 2 Monaten. \n",
    "Bestimme noch weitere evt. sinnvolle Zeitvariabeln.\n",
    "\n",
    "Zum Unterschied zwischen import datetime und from datedtime import datetime, siehe https://stackoverflow.com/questions/15707532/import-datetime-v-s-from-datetime-import-datetime\n",
    "\n",
    "Zuerst die Zeitvariabeln als Strings"
   ]
  },
  {
   "cell_type": "code",
   "execution_count": 29,
   "metadata": {},
   "outputs": [],
   "source": [
    "#today_date = datetime.date.today()\n",
    "#date_time = datetime.datetime.strptime(date_time_string, '%Y-%m-%d %H:%M')\n",
    "now = datetime.date.today()\n",
    "date_today = now.strftime(\"%Y-%m-%d\")\n",
    "year_today = now.strftime(\"%Y\")\n",
    "month_today = now.strftime(\"%m\")\n",
    "day_today = now.strftime(\"%d\")\n"
   ]
  },
  {
   "cell_type": "markdown",
   "metadata": {},
   "source": [
    "Und hier noch die Zeitvariabeln als Integers:\n",
    "- `aktuellesJahr`\n",
    "- `aktuellerMonat`: Der gerade jetzt aktuelle Monat\n",
    "- `selectedMonat`: Der aktuellste Monat in den Daten. In der Regel zwei Monate her."
   ]
  },
  {
   "cell_type": "code",
   "execution_count": 30,
   "metadata": {},
   "outputs": [
    {
     "name": "stdout",
     "output_type": "stream",
     "text": [
      "2022 3 datenstand:  1 time.struct_time(tm_year=2022, tm_mon=3, tm_mday=15, tm_hour=0, tm_min=0, tm_sec=0, tm_wday=1, tm_yday=74, tm_isdst=-1)\n"
     ]
    }
   ],
   "source": [
    "#now = datetime.now() \n",
    "int_times = now.timetuple()\n",
    "\n",
    "aktuellesJahr = int_times[0]\n",
    "aktuellerMonat = int_times[1]\n",
    "selectedMonat = int_times[1]-2\n",
    "\n",
    "print(aktuellesJahr, \n",
    "      aktuellerMonat,\n",
    "    'datenstand: ', selectedMonat,\n",
    "     int_times)\n"
   ]
  },
  {
   "cell_type": "markdown",
   "metadata": {},
   "source": [
    "Berechne die Variable Epoche um später das SAS-Datum in ein Unix-Datum umzuwandeln. Bei SAS beginnt die Epoche am 1.1.1960. Bei Unix am 1.1.1970.\n",
    "Diese Variable wird beim CSV-Import benötigt."
   ]
  },
  {
   "cell_type": "code",
   "execution_count": 31,
   "metadata": {},
   "outputs": [],
   "source": [
    "epoch = datetime.datetime(1960, 1, 1)"
   ]
  },
  {
   "cell_type": "markdown",
   "metadata": {},
   "source": [
    "### Setze einige Pfadvariabeln"
   ]
  },
  {
   "cell_type": "markdown",
   "metadata": {},
   "source": [
    "- Der Packagename ist eigentlich der **Verzeichnisname** unter dem die Daten und Metadaten auf der Dropzone abgelegt werden.\n",
    "- Definiert wird er bei SASA-Prozessen auf dem **Produkte-Sharepoint ([Link](https://kollaboration.intranet.stzh.ch/orga/ssz-produkte/Lists/SASA_Outputs/PersonalViews.aspx?PageView=Personal&ShowWebPart={6087A3E7-8AC8-40BA-8278-DECFACE124FF}))**.\n",
    "- Der Packagename wird auf CKAN teil der URL, daher ist die exakte Schreibweise wichtig.\n",
    "\n",
    "Beachte: im Packagename müssen alle Buchstaben **klein** geschrieben werden. Dies weil CKAN aus grossen kleine Buchstaben macht."
   ]
  },
  {
   "cell_type": "markdown",
   "metadata": {},
   "source": [
    "**BITTE HIER ANPASSEN**"
   ]
  },
  {
   "cell_type": "code",
   "execution_count": 32,
   "metadata": {},
   "outputs": [],
   "source": [
    "package_name = \"bau_best_geb_ea_pers_nat_gebland_quartier_jahr_od6984\""
   ]
  },
  {
   "cell_type": "code",
   "execution_count": 33,
   "metadata": {
    "tags": []
   },
   "outputs": [],
   "source": [
    "dataset_name = \"BAU698OD6984.csv\""
   ]
  },
  {
   "cell_type": "markdown",
   "metadata": {},
   "source": [
    "**Statische Pfade in DWH-Dropzones**"
   ]
  },
  {
   "cell_type": "code",
   "execution_count": 34,
   "metadata": {},
   "outputs": [],
   "source": [
    "dropzone_path_integ = r\"\\\\szh\\ssz\\applikationen\\OGD_Dropzone\\INT_DWH\""
   ]
  },
  {
   "cell_type": "code",
   "execution_count": 35,
   "metadata": {
    "tags": []
   },
   "outputs": [],
   "source": [
    "dropzone_path_prod = r\"\\\\szh\\ssz\\applikationen\\OGD_Dropzone\\DWH\""
   ]
  },
  {
   "cell_type": "markdown",
   "metadata": {},
   "source": [
    "**Statische Pfade CKAN-URLs**"
   ]
  },
  {
   "cell_type": "code",
   "execution_count": 36,
   "metadata": {
    "tags": []
   },
   "outputs": [],
   "source": [
    "ckan_integ_url =\"https://data.integ.stadt-zuerich.ch/dataset/int_dwh_\""
   ]
  },
  {
   "cell_type": "code",
   "execution_count": 37,
   "metadata": {},
   "outputs": [],
   "source": [
    "ckan_prod_url =\"https://data.stadt-zuerich.ch/dataset/\""
   ]
  },
  {
   "cell_type": "markdown",
   "metadata": {},
   "source": [
    "### Checke die Metadaten auf der CKAN INTEG- oder PROD-Webseite\n",
    "\n",
    "Offenbar lassen sich aktuell im Markdownteil keine Variabeln ausführen, daher gehen wir wie unten gezeigt vor. Siehe dazu: https://data-dive.com/jupyterlab-markdown-cells-include-variables\n",
    "Instead of setting the cell to Markdown, create Markdown from withnin a code cell! We can just use python variable replacement syntax to make the text dynamic"
   ]
  },
  {
   "cell_type": "code",
   "execution_count": 38,
   "metadata": {},
   "outputs": [],
   "source": [
    "from IPython.display import Markdown as md"
   ]
  },
  {
   "cell_type": "code",
   "execution_count": 39,
   "metadata": {},
   "outputs": [
    {
     "data": {
      "text/markdown": [
       " **1. Dataset auf INTEG-Datakatalog:** Link https://data.integ.stadt-zuerich.ch/dataset/int_dwh_bau_best_geb_ea_pers_nat_gebland_quartier_jahr_od6984 "
      ],
      "text/plain": [
       "<IPython.core.display.Markdown object>"
      ]
     },
     "execution_count": 39,
     "metadata": {},
     "output_type": "execute_result"
    }
   ],
   "source": [
    "md(\" **1. Dataset auf INTEG-Datakatalog:** Link {} \".format(ckan_integ_url+package_name))"
   ]
  },
  {
   "cell_type": "code",
   "execution_count": 40,
   "metadata": {},
   "outputs": [
    {
     "data": {
      "text/markdown": [
       " **2. Dataset auf PROD-Datakatalog:** Link https://data.stadt-zuerich.ch/dataset/bau_best_geb_ea_pers_nat_gebland_quartier_jahr_od6984 "
      ],
      "text/plain": [
       "<IPython.core.display.Markdown object>"
      ]
     },
     "execution_count": 40,
     "metadata": {},
     "output_type": "execute_result"
    }
   ],
   "source": [
    "md(\" **2. Dataset auf PROD-Datakatalog:** Link {} \".format(ckan_prod_url+package_name))"
   ]
  },
  {
   "cell_type": "markdown",
   "metadata": {
    "tags": []
   },
   "source": [
    "### Importiere einen Datensatz \n",
    "\n",
    "Definiere zuerst folgende Werte:\n",
    "1) Kommt der Datensatz von PROD oder INTEG?\n",
    "2) Beziehst Du den Datensatz direkt ab der DROPZONE oder aus dem INTERNET?"
   ]
  },
  {
   "cell_type": "code",
   "execution_count": 41,
   "metadata": {},
   "outputs": [
    {
     "name": "stdout",
     "output_type": "stream",
     "text": [
      "integ - web\n"
     ]
    }
   ],
   "source": [
    "#Die Datasets sind nur zum Testen auf INT-DWH-Dropzone. Wenn der Test vorbei ist, sind sie auf PROD. \n",
    "# Über den Status kann man einfach switchen\n",
    "\n",
    "status = \"integ\"; #prod vs something else\n",
    "data_source = \"web\"; #dropzone vs something else\n",
    "print(status+\" - \"+ data_source)"
   ]
  },
  {
   "cell_type": "code",
   "execution_count": 42,
   "metadata": {
    "tags": []
   },
   "outputs": [
    {
     "name": "stdout",
     "output_type": "stream",
     "text": [
      "fp lautet:https://data.integ.stadt-zuerich.ch/dataset/int_dwh_bau_best_geb_ea_pers_nat_gebland_quartier_jahr_od6984/download/BAU698OD6984.csv\n"
     ]
    }
   ],
   "source": [
    "# Filepath\n",
    "if status == \"prod\":\n",
    "    if data_source == \"dropzone\":\n",
    "            fp = dropzone_path_prod+\"\\\\\"+ package_name +\"\\\\\"+dataset_name\n",
    "            print(\"fp lautet:\"+fp)\n",
    "    else:\n",
    "        #fp = r\"https://data.stadt-zuerich.ch/dataset/bau_neubau_whg_bausm_rinh_geb_projstatus_quartier_seit2009_od5011/download/BAU501OD5011.csv\"\n",
    "        fp = ckan_prod_url+package_name+'/download/'+dataset_name\n",
    "        print(\"fp lautet:\"+fp)\n",
    "else:\n",
    "    if data_source == \"dropzone\":\n",
    "        fp = dropzone_path_integ+\"\\\\\"+ package_name +\"\\\\\"+dataset_name\n",
    "        print(\"fp lautet:\"+fp)\n",
    "    else:\n",
    "        #fp = r\"https://data.stadt-zuerich.ch/dataset/bau_neubau_whg_bausm_rinh_geb_projstatus_quartier_seit2009_od5011/download/BAU501OD5011.csv\"\n",
    "        fp = ckan_integ_url+package_name+'/download/'+dataset_name\n",
    "        print(\"fp lautet:\"+fp)\n"
   ]
  },
  {
   "cell_type": "markdown",
   "metadata": {},
   "source": [
    "Beachte, wie das SAS Datum (ohne Format) in ein UNIX Datum umgerechnet und als Datumsformat dargestellt wird! Siehe dazu `https://stackoverflow.com/questions/26923564/convert-sas-numeric-to-python-datetime`"
   ]
  },
  {
   "cell_type": "code",
   "execution_count": 43,
   "metadata": {},
   "outputs": [
    {
     "name": "stdout",
     "output_type": "stream",
     "text": [
      "web\n"
     ]
    },
    {
     "data": {
      "text/plain": [
       "StichtagDatJahr    datetime64[ns]\n",
       "QuarSort18                  int64\n",
       "QuarLang18                 object\n",
       "KreisSort                   int64\n",
       "KreisLang                  object\n",
       "EigGruSort                  int64\n",
       "EigGruLang                 object\n",
       "AnzGebMitPers               int64\n",
       "PersTotal                   int64\n",
       "NatCHGebCH                  int64\n",
       "NatCHGebAu                  int64\n",
       "NatAuGebCH                  int64\n",
       "NatAuGebAu                  int64\n",
       "dtype: object"
      ]
     },
     "execution_count": 43,
     "metadata": {},
     "output_type": "execute_result"
    }
   ],
   "source": [
    "# Read the data\n",
    "if data_source == \"dropzone\":\n",
    "    data2betested = pd.read_csv(\n",
    "        fp\n",
    "        , sep=','\n",
    "        ,parse_dates=['StichtagDatJahr']\n",
    "        ,low_memory=False\n",
    "    )\n",
    "    print(\"dropzone\")\n",
    "else:\n",
    "    r = requests.get(fp, verify=False)  \n",
    "    r.encoding = 'utf-8'\n",
    "    data2betested = pd.read_csv(\n",
    "        io.StringIO(r.text)\n",
    "        ,parse_dates=['StichtagDatJahr']\n",
    "        # KONVERTIERE DAS SAS DATUM IN EIN UNIXDATUM UND FORMATIERE ES\n",
    "        #, date_parser=lambda s: epoch + datetime.timedelta(days=int(s))\n",
    "        ,low_memory=False)\n",
    "    print(\"web\")\n",
    "\n",
    "data2betested.dtypes"
   ]
  },
  {
   "cell_type": "markdown",
   "metadata": {},
   "source": [
    "Berechne weitere Attribute falls notwendig"
   ]
  },
  {
   "cell_type": "code",
   "execution_count": 44,
   "metadata": {},
   "outputs": [
    {
     "data": {
      "text/plain": [
       "StichtagDatJahr        datetime64[ns]\n",
       "QuarSort18                      int64\n",
       "QuarLang18                     object\n",
       "KreisSort                       int64\n",
       "KreisLang                      object\n",
       "EigGruSort                      int64\n",
       "EigGruLang                     object\n",
       "AnzGebMitPers                   int64\n",
       "PersTotal                       int64\n",
       "NatCHGebCH                      int64\n",
       "NatCHGebAu                      int64\n",
       "NatAuGebCH                      int64\n",
       "NatAuGebAu                      int64\n",
       "StichtagDatJahr_str            object\n",
       "dtype: object"
      ]
     },
     "execution_count": 44,
     "metadata": {},
     "output_type": "execute_result"
    }
   ],
   "source": [
    "data2betested = (\n",
    "    data2betested\n",
    "    .copy()\n",
    "    .assign(\n",
    "        #Aktualisierungs_Datum_str= lambda x: x.Aktualisierungs_Datum.astype(str),\n",
    "        StichtagDatJahr_str = lambda x: x.StichtagDatJahr.astype(str),\n",
    "    )\n",
    "    .sort_values('StichtagDatJahr', ascending=False)\n",
    "    )\n",
    "data2betested.dtypes"
   ]
  },
  {
   "cell_type": "markdown",
   "metadata": {},
   "source": [
    "### Einfache Datentests"
   ]
  },
  {
   "cell_type": "markdown",
   "metadata": {},
   "source": [
    " - 1) Zeige eine kurze Vorschau der importierten Daten\n",
    " - 2) Weise die Datentypen aus\n",
    " - 3) Zeige die Shape (Umfang) des Datensatzes an"
   ]
  },
  {
   "cell_type": "code",
   "execution_count": 45,
   "metadata": {},
   "outputs": [],
   "source": [
    "#data2betested.head(6)"
   ]
  },
  {
   "cell_type": "code",
   "execution_count": 46,
   "metadata": {},
   "outputs": [
    {
     "data": {
      "text/plain": [
       "StichtagDatJahr        datetime64[ns]\n",
       "QuarSort18                      int64\n",
       "QuarLang18                     object\n",
       "KreisSort                       int64\n",
       "KreisLang                      object\n",
       "EigGruSort                      int64\n",
       "EigGruLang                     object\n",
       "AnzGebMitPers                   int64\n",
       "PersTotal                       int64\n",
       "NatCHGebCH                      int64\n",
       "NatCHGebAu                      int64\n",
       "NatAuGebCH                      int64\n",
       "NatAuGebAu                      int64\n",
       "StichtagDatJahr_str            object\n",
       "dtype: object"
      ]
     },
     "execution_count": 46,
     "metadata": {},
     "output_type": "execute_result"
    }
   ],
   "source": [
    "data2betested.dtypes"
   ]
  },
  {
   "cell_type": "code",
   "execution_count": 47,
   "metadata": {},
   "outputs": [
    {
     "data": {
      "text/plain": [
       "(1624, 14)"
      ]
     },
     "execution_count": 47,
     "metadata": {},
     "output_type": "execute_result"
    }
   ],
   "source": [
    "data2betested.shape"
   ]
  },
  {
   "cell_type": "markdown",
   "metadata": {},
   "source": [
    "Beschreibe einzelne Attribute"
   ]
  },
  {
   "cell_type": "code",
   "execution_count": 48,
   "metadata": {},
   "outputs": [
    {
     "data": {
      "text/html": [
       "<div>\n",
       "<style scoped>\n",
       "    .dataframe tbody tr th:only-of-type {\n",
       "        vertical-align: middle;\n",
       "    }\n",
       "\n",
       "    .dataframe tbody tr th {\n",
       "        vertical-align: top;\n",
       "    }\n",
       "\n",
       "    .dataframe thead th {\n",
       "        text-align: right;\n",
       "    }\n",
       "</style>\n",
       "<table border=\"1\" class=\"dataframe\">\n",
       "  <thead>\n",
       "    <tr style=\"text-align: right;\">\n",
       "      <th></th>\n",
       "      <th>QuarSort18</th>\n",
       "      <th>KreisSort</th>\n",
       "      <th>EigGruSort</th>\n",
       "      <th>AnzGebMitPers</th>\n",
       "      <th>PersTotal</th>\n",
       "      <th>NatCHGebCH</th>\n",
       "      <th>NatCHGebAu</th>\n",
       "      <th>NatAuGebCH</th>\n",
       "      <th>NatAuGebAu</th>\n",
       "    </tr>\n",
       "  </thead>\n",
       "  <tbody>\n",
       "    <tr>\n",
       "      <th>count</th>\n",
       "      <td>1624</td>\n",
       "      <td>1624</td>\n",
       "      <td>1624</td>\n",
       "      <td>1624</td>\n",
       "      <td>1624</td>\n",
       "      <td>1624</td>\n",
       "      <td>1624</td>\n",
       "      <td>1624</td>\n",
       "      <td>1624</td>\n",
       "    </tr>\n",
       "    <tr>\n",
       "      <th>mean</th>\n",
       "      <td>69</td>\n",
       "      <td>7</td>\n",
       "      <td>2</td>\n",
       "      <td>310</td>\n",
       "      <td>3517</td>\n",
       "      <td>1944</td>\n",
       "      <td>459</td>\n",
       "      <td>152</td>\n",
       "      <td>962</td>\n",
       "    </tr>\n",
       "    <tr>\n",
       "      <th>std</th>\n",
       "      <td>35</td>\n",
       "      <td>3</td>\n",
       "      <td>1</td>\n",
       "      <td>288</td>\n",
       "      <td>2754</td>\n",
       "      <td>1544</td>\n",
       "      <td>384</td>\n",
       "      <td>148</td>\n",
       "      <td>839</td>\n",
       "    </tr>\n",
       "    <tr>\n",
       "      <th>min</th>\n",
       "      <td>10</td>\n",
       "      <td>1</td>\n",
       "      <td>1</td>\n",
       "      <td>6</td>\n",
       "      <td>118</td>\n",
       "      <td>59</td>\n",
       "      <td>17</td>\n",
       "      <td>0</td>\n",
       "      <td>23</td>\n",
       "    </tr>\n",
       "    <tr>\n",
       "      <th>25%</th>\n",
       "      <td>41</td>\n",
       "      <td>4</td>\n",
       "      <td>2</td>\n",
       "      <td>102</td>\n",
       "      <td>1313</td>\n",
       "      <td>732</td>\n",
       "      <td>161</td>\n",
       "      <td>41</td>\n",
       "      <td>295</td>\n",
       "    </tr>\n",
       "    <tr>\n",
       "      <th>50%</th>\n",
       "      <td>71</td>\n",
       "      <td>7</td>\n",
       "      <td>2</td>\n",
       "      <td>204</td>\n",
       "      <td>2726</td>\n",
       "      <td>1299</td>\n",
       "      <td>356</td>\n",
       "      <td>101</td>\n",
       "      <td>714</td>\n",
       "    </tr>\n",
       "    <tr>\n",
       "      <th>75%</th>\n",
       "      <td>101</td>\n",
       "      <td>10</td>\n",
       "      <td>3</td>\n",
       "      <td>424</td>\n",
       "      <td>5677</td>\n",
       "      <td>3109</td>\n",
       "      <td>659</td>\n",
       "      <td>222</td>\n",
       "      <td>1388</td>\n",
       "    </tr>\n",
       "    <tr>\n",
       "      <th>max</th>\n",
       "      <td>123</td>\n",
       "      <td>12</td>\n",
       "      <td>4</td>\n",
       "      <td>1274</td>\n",
       "      <td>12181</td>\n",
       "      <td>6206</td>\n",
       "      <td>2095</td>\n",
       "      <td>833</td>\n",
       "      <td>4330</td>\n",
       "    </tr>\n",
       "  </tbody>\n",
       "</table>\n",
       "</div>"
      ],
      "text/plain": [
       "       QuarSort18  KreisSort  EigGruSort  AnzGebMitPers  PersTotal  NatCHGebCH  NatCHGebAu  \\\n",
       "count        1624       1624        1624           1624       1624        1624        1624   \n",
       "mean           69          7           2            310       3517        1944         459   \n",
       "std            35          3           1            288       2754        1544         384   \n",
       "min            10          1           1              6        118          59          17   \n",
       "25%            41          4           2            102       1313         732         161   \n",
       "50%            71          7           2            204       2726        1299         356   \n",
       "75%           101         10           3            424       5677        3109         659   \n",
       "max           123         12           4           1274      12181        6206        2095   \n",
       "\n",
       "       NatAuGebCH  NatAuGebAu  \n",
       "count        1624        1624  \n",
       "mean          152         962  \n",
       "std           148         839  \n",
       "min             0          23  \n",
       "25%            41         295  \n",
       "50%           101         714  \n",
       "75%           222        1388  \n",
       "max           833        4330  "
      ]
     },
     "execution_count": 48,
     "metadata": {},
     "output_type": "execute_result"
    }
   ],
   "source": [
    "data2betested.describe()"
   ]
  },
  {
   "cell_type": "markdown",
   "metadata": {},
   "source": [
    "Wie viele Nullwerte gibt es im Datensatz?"
   ]
  },
  {
   "cell_type": "code",
   "execution_count": 49,
   "metadata": {
    "scrolled": true
   },
   "outputs": [
    {
     "data": {
      "text/plain": [
       "StichtagDatJahr        0\n",
       "QuarSort18             0\n",
       "QuarLang18             0\n",
       "KreisSort              0\n",
       "KreisLang              0\n",
       "EigGruSort             0\n",
       "EigGruLang             0\n",
       "AnzGebMitPers          0\n",
       "PersTotal              0\n",
       "NatCHGebCH             0\n",
       "NatCHGebAu             0\n",
       "NatAuGebCH             0\n",
       "NatAuGebAu             0\n",
       "StichtagDatJahr_str    0\n",
       "dtype: int64"
      ]
     },
     "execution_count": 49,
     "metadata": {},
     "output_type": "execute_result"
    }
   ],
   "source": [
    "data2betested.isnull().sum()"
   ]
  },
  {
   "cell_type": "markdown",
   "metadata": {
    "colab_type": "text",
    "id": "1dTPVmmsgOVx"
   },
   "source": [
    "### Verwende das Datum als Index\n",
    "\n",
    "While we did already parse the `datetime` column into the respective datetime type, it currently is just a regular column. \n",
    "**To enable quick and convenient queries and aggregations, we need to turn it into the index of the DataFrame**"
   ]
  },
  {
   "cell_type": "code",
   "execution_count": 50,
   "metadata": {},
   "outputs": [],
   "source": [
    "data2betested = data2betested.set_index(\"StichtagDatJahr\")"
   ]
  },
  {
   "cell_type": "code",
   "execution_count": 51,
   "metadata": {},
   "outputs": [
    {
     "name": "stdout",
     "output_type": "stream",
     "text": [
      "<class 'pandas.core.frame.DataFrame'>\n",
      "DatetimeIndex: 1624 entries, 2021-01-01 to 2008-01-01\n",
      "Data columns (total 13 columns):\n",
      " #   Column               Non-Null Count  Dtype \n",
      "---  ------               --------------  ----- \n",
      " 0   QuarSort18           1624 non-null   int64 \n",
      " 1   QuarLang18           1624 non-null   object\n",
      " 2   KreisSort            1624 non-null   int64 \n",
      " 3   KreisLang            1624 non-null   object\n",
      " 4   EigGruSort           1624 non-null   int64 \n",
      " 5   EigGruLang           1624 non-null   object\n",
      " 6   AnzGebMitPers        1624 non-null   int64 \n",
      " 7   PersTotal            1624 non-null   int64 \n",
      " 8   NatCHGebCH           1624 non-null   int64 \n",
      " 9   NatCHGebAu           1624 non-null   int64 \n",
      " 10  NatAuGebCH           1624 non-null   int64 \n",
      " 11  NatAuGebAu           1624 non-null   int64 \n",
      " 12  StichtagDatJahr_str  1624 non-null   object\n",
      "dtypes: int64(9), object(4)\n",
      "memory usage: 177.6+ KB\n"
     ]
    },
    {
     "data": {
      "text/plain": [
       "Int64Index([1], dtype='int64', name='StichtagDatJahr')"
      ]
     },
     "execution_count": 51,
     "metadata": {},
     "output_type": "execute_result"
    }
   ],
   "source": [
    "data2betested.info()\n",
    "data2betested.index.day.unique()"
   ]
  },
  {
   "cell_type": "markdown",
   "metadata": {},
   "source": [
    "### Einfache Visualisierungen zur Plausi"
   ]
  },
  {
   "cell_type": "markdown",
   "metadata": {},
   "source": [
    "Exploriere die Daten mit Pivottable.JS"
   ]
  },
  {
   "cell_type": "code",
   "execution_count": 52,
   "metadata": {},
   "outputs": [
    {
     "data": {
      "text/html": [
       "\n",
       "        <iframe\n",
       "            width=\"100%\"\n",
       "            height=\"500\"\n",
       "            src=\"pivottablejs.html\"\n",
       "            frameborder=\"0\"\n",
       "            allowfullscreen\n",
       "            \n",
       "        ></iframe>\n",
       "        "
      ],
      "text/plain": [
       "<IPython.lib.display.IFrame at 0x25bddec8d08>"
      ]
     },
     "execution_count": 52,
     "metadata": {},
     "output_type": "execute_result"
    }
   ],
   "source": [
    "from pivottablejs import pivot_ui\n",
    "\n",
    "pivot_ui(data2betested)"
   ]
  },
  {
   "cell_type": "markdown",
   "metadata": {},
   "source": [
    "### Zeitpunkte und Zeiträume abfragen\n",
    "\n",
    "A particular powerful feature of the Pandas DataFrame is its indexing capability that also works using time-based entities, such as dates and times. We have already created the index above, so let's put it to use."
   ]
  },
  {
   "cell_type": "code",
   "execution_count": 56,
   "metadata": {},
   "outputs": [
    {
     "data": {
      "text/html": [
       "<div>\n",
       "<style scoped>\n",
       "    .dataframe tbody tr th:only-of-type {\n",
       "        vertical-align: middle;\n",
       "    }\n",
       "\n",
       "    .dataframe tbody tr th {\n",
       "        vertical-align: top;\n",
       "    }\n",
       "\n",
       "    .dataframe thead th {\n",
       "        text-align: right;\n",
       "    }\n",
       "</style>\n",
       "<table border=\"1\" class=\"dataframe\">\n",
       "  <thead>\n",
       "    <tr style=\"text-align: right;\">\n",
       "      <th></th>\n",
       "      <th>QuarSort18</th>\n",
       "      <th>QuarLang18</th>\n",
       "      <th>KreisSort</th>\n",
       "      <th>KreisLang</th>\n",
       "      <th>EigGruSort</th>\n",
       "      <th>EigGruLang</th>\n",
       "      <th>AnzGebMitPers</th>\n",
       "      <th>PersTotal</th>\n",
       "      <th>NatCHGebCH</th>\n",
       "      <th>NatCHGebAu</th>\n",
       "      <th>NatAuGebCH</th>\n",
       "      <th>NatAuGebAu</th>\n",
       "      <th>StichtagDatJahr_str</th>\n",
       "    </tr>\n",
       "    <tr>\n",
       "      <th>StichtagDatJahr</th>\n",
       "      <th></th>\n",
       "      <th></th>\n",
       "      <th></th>\n",
       "      <th></th>\n",
       "      <th></th>\n",
       "      <th></th>\n",
       "      <th></th>\n",
       "      <th></th>\n",
       "      <th></th>\n",
       "      <th></th>\n",
       "      <th></th>\n",
       "      <th></th>\n",
       "      <th></th>\n",
       "    </tr>\n",
       "  </thead>\n",
       "  <tbody>\n",
       "    <tr>\n",
       "      <th>2021-01-01</th>\n",
       "      <td>123</td>\n",
       "      <td>Hirzenbach</td>\n",
       "      <td>12</td>\n",
       "      <td>Kreis 12</td>\n",
       "      <td>4</td>\n",
       "      <td>Im Stockwerkeigentum</td>\n",
       "      <td>20</td>\n",
       "      <td>538</td>\n",
       "      <td>228</td>\n",
       "      <td>120</td>\n",
       "      <td>37</td>\n",
       "      <td>153</td>\n",
       "      <td>2021-01-01</td>\n",
       "    </tr>\n",
       "    <tr>\n",
       "      <th>2021-01-01</th>\n",
       "      <td>21</td>\n",
       "      <td>Wollishofen</td>\n",
       "      <td>2</td>\n",
       "      <td>Kreis 2</td>\n",
       "      <td>1</td>\n",
       "      <td>Öffentlich/Genossenschaftlich</td>\n",
       "      <td>575</td>\n",
       "      <td>7176</td>\n",
       "      <td>4686</td>\n",
       "      <td>1167</td>\n",
       "      <td>257</td>\n",
       "      <td>1066</td>\n",
       "      <td>2021-01-01</td>\n",
       "    </tr>\n",
       "  </tbody>\n",
       "</table>\n",
       "</div>"
      ],
      "text/plain": [
       "                 QuarSort18   QuarLang18  KreisSort KreisLang  EigGruSort  \\\n",
       "StichtagDatJahr                                                             \n",
       "2021-01-01              123   Hirzenbach         12  Kreis 12           4   \n",
       "2021-01-01               21  Wollishofen          2   Kreis 2           1   \n",
       "\n",
       "                                    EigGruLang  AnzGebMitPers  PersTotal  NatCHGebCH  NatCHGebAu  \\\n",
       "StichtagDatJahr                                                                                    \n",
       "2021-01-01                Im Stockwerkeigentum             20        538         228         120   \n",
       "2021-01-01       Öffentlich/Genossenschaftlich            575       7176        4686        1167   \n",
       "\n",
       "                 NatAuGebCH  NatAuGebAu StichtagDatJahr_str  \n",
       "StichtagDatJahr                                              \n",
       "2021-01-01               37         153          2021-01-01  \n",
       "2021-01-01              257        1066          2021-01-01  "
      ]
     },
     "execution_count": 56,
     "metadata": {},
     "output_type": "execute_result"
    }
   ],
   "source": [
    "data2betested.loc[\"2008\":\"2021\"].head(2)\n",
    "#data2betested.loc[\"2021-10-31\":\"2021-11-30\"].head(2)"
   ]
  },
  {
   "cell_type": "markdown",
   "metadata": {},
   "source": [
    "### Visualisierungen nach Zeitausschnitten"
   ]
  },
  {
   "cell_type": "markdown",
   "metadata": {
    "tags": []
   },
   "source": [
    "#### Entwicklung Quartier Anzahl Bewohner 60-69"
   ]
  },
  {
   "cell_type": "code",
   "execution_count": 57,
   "metadata": {
    "tags": []
   },
   "outputs": [
    {
     "data": {
      "text/html": [
       "<div>\n",
       "<style scoped>\n",
       "    .dataframe tbody tr th:only-of-type {\n",
       "        vertical-align: middle;\n",
       "    }\n",
       "\n",
       "    .dataframe tbody tr th {\n",
       "        vertical-align: top;\n",
       "    }\n",
       "\n",
       "    .dataframe thead th {\n",
       "        text-align: right;\n",
       "    }\n",
       "</style>\n",
       "<table border=\"1\" class=\"dataframe\">\n",
       "  <thead>\n",
       "    <tr style=\"text-align: right;\">\n",
       "      <th></th>\n",
       "      <th>StichtagDatJahr</th>\n",
       "      <th>EigGruSort</th>\n",
       "      <th>EigGruLang</th>\n",
       "      <th>sum_PersTotal</th>\n",
       "      <th>sum_NatCHGebCH</th>\n",
       "      <th>sum_NatAuGebAu</th>\n",
       "    </tr>\n",
       "  </thead>\n",
       "  <tbody>\n",
       "    <tr>\n",
       "      <th>0</th>\n",
       "      <td>2008-01-01</td>\n",
       "      <td>1</td>\n",
       "      <td>Öffentlich/Genossenschaftlich</td>\n",
       "      <td>111566</td>\n",
       "      <td>68919</td>\n",
       "      <td>21058</td>\n",
       "    </tr>\n",
       "    <tr>\n",
       "      <th>1</th>\n",
       "      <td>2008-01-01</td>\n",
       "      <td>2</td>\n",
       "      <td>Übrige private Gesellschaften</td>\n",
       "      <td>91361</td>\n",
       "      <td>48513</td>\n",
       "      <td>28145</td>\n",
       "    </tr>\n",
       "    <tr>\n",
       "      <th>2</th>\n",
       "      <td>2008-01-01</td>\n",
       "      <td>3</td>\n",
       "      <td>Natürliche Personen</td>\n",
       "      <td>150271</td>\n",
       "      <td>84134</td>\n",
       "      <td>43925</td>\n",
       "    </tr>\n",
       "  </tbody>\n",
       "</table>\n",
       "</div>"
      ],
      "text/plain": [
       "  StichtagDatJahr  EigGruSort                     EigGruLang  sum_PersTotal  sum_NatCHGebCH  \\\n",
       "0      2008-01-01           1  Öffentlich/Genossenschaftlich         111566           68919   \n",
       "1      2008-01-01           2  Übrige private Gesellschaften          91361           48513   \n",
       "2      2008-01-01           3            Natürliche Personen         150271           84134   \n",
       "\n",
       "   sum_NatAuGebAu  \n",
       "0           21058  \n",
       "1           28145  \n",
       "2           43925  "
      ]
     },
     "execution_count": 57,
     "metadata": {},
     "output_type": "execute_result"
    }
   ],
   "source": [
    "myAgg = data2betested.loc[\"2008\":\"2021\"]\\\n",
    "    .groupby(['StichtagDatJahr', 'EigGruSort', 'EigGruLang']) \\\n",
    "    .agg(sum_PersTotal=('PersTotal', 'sum'), sum_NatCHGebCH=('NatCHGebCH', 'sum'), sum_NatAuGebAu=('NatAuGebAu', 'sum')) \\\n",
    "    .sort_values('StichtagDatJahr', ascending=True) \n",
    "\n",
    "myAgg.reset_index().head(3)"
   ]
  },
  {
   "cell_type": "code",
   "execution_count": 59,
   "metadata": {},
   "outputs": [
    {
     "data": {
      "text/html": [
       "\n",
       "<div id=\"altair-viz-a70a0734e89f489fa8296ed4a028d132\"></div>\n",
       "<script type=\"text/javascript\">\n",
       "  (function(spec, embedOpt){\n",
       "    let outputDiv = document.currentScript.previousElementSibling;\n",
       "    if (outputDiv.id !== \"altair-viz-a70a0734e89f489fa8296ed4a028d132\") {\n",
       "      outputDiv = document.getElementById(\"altair-viz-a70a0734e89f489fa8296ed4a028d132\");\n",
       "    }\n",
       "    const paths = {\n",
       "      \"vega\": \"https://cdn.jsdelivr.net/npm//vega@5?noext\",\n",
       "      \"vega-lib\": \"https://cdn.jsdelivr.net/npm//vega-lib?noext\",\n",
       "      \"vega-lite\": \"https://cdn.jsdelivr.net/npm//vega-lite@4.8.1?noext\",\n",
       "      \"vega-embed\": \"https://cdn.jsdelivr.net/npm//vega-embed@6?noext\",\n",
       "    };\n",
       "\n",
       "    function loadScript(lib) {\n",
       "      return new Promise(function(resolve, reject) {\n",
       "        var s = document.createElement('script');\n",
       "        s.src = paths[lib];\n",
       "        s.async = true;\n",
       "        s.onload = () => resolve(paths[lib]);\n",
       "        s.onerror = () => reject(`Error loading script: ${paths[lib]}`);\n",
       "        document.getElementsByTagName(\"head\")[0].appendChild(s);\n",
       "      });\n",
       "    }\n",
       "\n",
       "    function showError(err) {\n",
       "      outputDiv.innerHTML = `<div class=\"error\" style=\"color:red;\">${err}</div>`;\n",
       "      throw err;\n",
       "    }\n",
       "\n",
       "    function displayChart(vegaEmbed) {\n",
       "      vegaEmbed(outputDiv, spec, embedOpt)\n",
       "        .catch(err => showError(`Javascript Error: ${err.message}<br>This usually means there's a typo in your chart specification. See the javascript console for the full traceback.`));\n",
       "    }\n",
       "\n",
       "    if(typeof define === \"function\" && define.amd) {\n",
       "      requirejs.config({paths});\n",
       "      require([\"vega-embed\"], displayChart, err => showError(`Error loading script: ${err.message}`));\n",
       "    } else if (typeof vegaEmbed === \"function\") {\n",
       "      displayChart(vegaEmbed);\n",
       "    } else {\n",
       "      loadScript(\"vega\")\n",
       "        .then(() => loadScript(\"vega-lite\"))\n",
       "        .then(() => loadScript(\"vega-embed\"))\n",
       "        .catch(showError)\n",
       "        .then(() => displayChart(vegaEmbed));\n",
       "    }\n",
       "  })({\"config\": {\"view\": {\"continuousWidth\": 400, \"continuousHeight\": 300}}, \"layer\": [{\"mark\": \"line\", \"encoding\": {\"color\": {\"type\": \"nominal\", \"field\": \"EigGruLang\", \"legend\": {\"orient\": \"right\", \"title\": \"Projektstatus\"}}, \"size\": {\"condition\": {\"value\": 0.5, \"selection\": {\"not\": \"selector003\"}}, \"value\": 4}, \"tooltip\": [{\"type\": \"temporal\", \"field\": \"StichtagDatJahr\"}, {\"type\": \"temporal\", \"field\": \"StichtagDatJahr\"}, {\"type\": \"quantitative\", \"field\": \"EigGruSort\"}, {\"type\": \"nominal\", \"field\": \"EigGruLang\"}, {\"type\": \"quantitative\", \"field\": \"sum_PersTotal\"}, {\"type\": \"quantitative\", \"field\": \"sum_NatAuGebAu\"}], \"x\": {\"type\": \"temporal\", \"axis\": {\"title\": \"Jahr\"}, \"field\": \"StichtagDatJahr\"}, \"y\": {\"type\": \"quantitative\", \"axis\": {\"title\": \"Anz. Projektierte Geb\\u00e4ude\"}, \"field\": \"sum_PersTotal\"}}, \"selection\": {\"selector004\": {\"type\": \"interval\", \"bind\": \"scales\", \"encodings\": [\"x\", \"y\"]}}, \"title\": \"Titel\"}, {\"mark\": \"circle\", \"encoding\": {\"color\": {\"type\": \"nominal\", \"field\": \"EigGruLang\", \"legend\": {\"orient\": \"right\", \"title\": \"Projektstatus\"}}, \"opacity\": {\"value\": 0.75}, \"tooltip\": [{\"type\": \"temporal\", \"field\": \"StichtagDatJahr\"}, {\"type\": \"temporal\", \"field\": \"StichtagDatJahr\"}, {\"type\": \"quantitative\", \"field\": \"EigGruSort\"}, {\"type\": \"nominal\", \"field\": \"EigGruLang\"}, {\"type\": \"quantitative\", \"field\": \"sum_PersTotal\"}, {\"type\": \"quantitative\", \"field\": \"sum_NatAuGebAu\"}], \"x\": {\"type\": \"temporal\", \"axis\": {\"title\": \"Jahr\"}, \"field\": \"StichtagDatJahr\"}, \"y\": {\"type\": \"quantitative\", \"axis\": {\"title\": \"Anz. Projektierte Geb\\u00e4ude\"}, \"field\": \"sum_PersTotal\"}}, \"height\": 350, \"selection\": {\"selector003\": {\"type\": \"single\", \"on\": \"mouseover\", \"fields\": [\"EigGruLang\"], \"nearest\": true}}, \"title\": \"Titel\", \"width\": 750}], \"data\": {\"name\": \"data-d3d23f5805fef56f85b06ff6b2c544d3\"}, \"$schema\": \"https://vega.github.io/schema/vega-lite/v4.8.1.json\", \"datasets\": {\"data-d3d23f5805fef56f85b06ff6b2c544d3\": [{\"StichtagDatJahr\": \"2008-01-01T00:00:00\", \"EigGruSort\": 1, \"EigGruLang\": \"\\u00d6ffentlich/Genossenschaftlich\", \"sum_PersTotal\": 111566, \"sum_NatCHGebCH\": 68919, \"sum_NatAuGebAu\": 21058}, {\"StichtagDatJahr\": \"2008-01-01T00:00:00\", \"EigGruSort\": 2, \"EigGruLang\": \"\\u00dcbrige private Gesellschaften\", \"sum_PersTotal\": 91361, \"sum_NatCHGebCH\": 48513, \"sum_NatAuGebAu\": 28145}, {\"StichtagDatJahr\": \"2008-01-01T00:00:00\", \"EigGruSort\": 3, \"EigGruLang\": \"Nat\\u00fcrliche Personen\", \"sum_PersTotal\": 150271, \"sum_NatCHGebCH\": 84134, \"sum_NatAuGebAu\": 43925}, {\"StichtagDatJahr\": \"2008-01-01T00:00:00\", \"EigGruSort\": 4, \"EigGruLang\": \"Im Stockwerkeigentum\", \"sum_PersTotal\": 26114, \"sum_NatCHGebCH\": 15960, \"sum_NatAuGebAu\": 5855}, {\"StichtagDatJahr\": \"2009-01-01T00:00:00\", \"EigGruSort\": 1, \"EigGruLang\": \"\\u00d6ffentlich/Genossenschaftlich\", \"sum_PersTotal\": 111213, \"sum_NatCHGebCH\": 68877, \"sum_NatAuGebAu\": 20605}, {\"StichtagDatJahr\": \"2009-01-01T00:00:00\", \"EigGruSort\": 2, \"EigGruLang\": \"\\u00dcbrige private Gesellschaften\", \"sum_PersTotal\": 92847, \"sum_NatCHGebCH\": 48874, \"sum_NatAuGebAu\": 28936}, {\"StichtagDatJahr\": \"2009-01-01T00:00:00\", \"EigGruSort\": 3, \"EigGruLang\": \"Nat\\u00fcrliche Personen\", \"sum_PersTotal\": 149658, \"sum_NatCHGebCH\": 83770, \"sum_NatAuGebAu\": 43487}, {\"StichtagDatJahr\": \"2009-01-01T00:00:00\", \"EigGruSort\": 4, \"EigGruLang\": \"Im Stockwerkeigentum\", \"sum_PersTotal\": 27457, \"sum_NatCHGebCH\": 16555, \"sum_NatAuGebAu\": 6246}, {\"StichtagDatJahr\": \"2010-01-01T00:00:00\", \"EigGruSort\": 1, \"EigGruLang\": \"\\u00d6ffentlich/Genossenschaftlich\", \"sum_PersTotal\": 111926, \"sum_NatCHGebCH\": 69297, \"sum_NatAuGebAu\": 20462}, {\"StichtagDatJahr\": \"2010-01-01T00:00:00\", \"EigGruSort\": 2, \"EigGruLang\": \"\\u00dcbrige private Gesellschaften\", \"sum_PersTotal\": 93383, \"sum_NatCHGebCH\": 49065, \"sum_NatAuGebAu\": 29093}, {\"StichtagDatJahr\": \"2010-01-01T00:00:00\", \"EigGruSort\": 3, \"EigGruLang\": \"Nat\\u00fcrliche Personen\", \"sum_PersTotal\": 149912, \"sum_NatCHGebCH\": 83305, \"sum_NatAuGebAu\": 43869}, {\"StichtagDatJahr\": \"2010-01-01T00:00:00\", \"EigGruSort\": 4, \"EigGruLang\": \"Im Stockwerkeigentum\", \"sum_PersTotal\": 29287, \"sum_NatCHGebCH\": 17435, \"sum_NatAuGebAu\": 6730}, {\"StichtagDatJahr\": \"2011-01-01T00:00:00\", \"EigGruSort\": 4, \"EigGruLang\": \"Im Stockwerkeigentum\", \"sum_PersTotal\": 30436, \"sum_NatCHGebCH\": 17913, \"sum_NatAuGebAu\": 7131}, {\"StichtagDatJahr\": \"2011-01-01T00:00:00\", \"EigGruSort\": 3, \"EigGruLang\": \"Nat\\u00fcrliche Personen\", \"sum_PersTotal\": 149303, \"sum_NatCHGebCH\": 82309, \"sum_NatAuGebAu\": 44491}, {\"StichtagDatJahr\": \"2011-01-01T00:00:00\", \"EigGruSort\": 1, \"EigGruLang\": \"\\u00d6ffentlich/Genossenschaftlich\", \"sum_PersTotal\": 113894, \"sum_NatCHGebCH\": 69932, \"sum_NatAuGebAu\": 21239}, {\"StichtagDatJahr\": \"2011-01-01T00:00:00\", \"EigGruSort\": 2, \"EigGruLang\": \"\\u00dcbrige private Gesellschaften\", \"sum_PersTotal\": 95731, \"sum_NatCHGebCH\": 49191, \"sum_NatAuGebAu\": 30977}, {\"StichtagDatJahr\": \"2012-01-01T00:00:00\", \"EigGruSort\": 1, \"EigGruLang\": \"\\u00d6ffentlich/Genossenschaftlich\", \"sum_PersTotal\": 115560, \"sum_NatCHGebCH\": 71079, \"sum_NatAuGebAu\": 21279}, {\"StichtagDatJahr\": \"2012-01-01T00:00:00\", \"EigGruSort\": 2, \"EigGruLang\": \"\\u00dcbrige private Gesellschaften\", \"sum_PersTotal\": 99406, \"sum_NatCHGebCH\": 50228, \"sum_NatAuGebAu\": 32957}, {\"StichtagDatJahr\": \"2012-01-01T00:00:00\", \"EigGruSort\": 3, \"EigGruLang\": \"Nat\\u00fcrliche Personen\", \"sum_PersTotal\": 147496, \"sum_NatCHGebCH\": 80940, \"sum_NatAuGebAu\": 44391}, {\"StichtagDatJahr\": \"2012-01-01T00:00:00\", \"EigGruSort\": 4, \"EigGruLang\": \"Im Stockwerkeigentum\", \"sum_PersTotal\": 31255, \"sum_NatCHGebCH\": 18251, \"sum_NatAuGebAu\": 7451}, {\"StichtagDatJahr\": \"2013-01-01T00:00:00\", \"EigGruSort\": 4, \"EigGruLang\": \"Im Stockwerkeigentum\", \"sum_PersTotal\": 32968, \"sum_NatCHGebCH\": 19147, \"sum_NatAuGebAu\": 8028}, {\"StichtagDatJahr\": \"2013-01-01T00:00:00\", \"EigGruSort\": 1, \"EigGruLang\": \"\\u00d6ffentlich/Genossenschaftlich\", \"sum_PersTotal\": 117357, \"sum_NatCHGebCH\": 71923, \"sum_NatAuGebAu\": 21636}, {\"StichtagDatJahr\": \"2013-01-01T00:00:00\", \"EigGruSort\": 2, \"EigGruLang\": \"\\u00dcbrige private Gesellschaften\", \"sum_PersTotal\": 102575, \"sum_NatCHGebCH\": 51339, \"sum_NatAuGebAu\": 34469}, {\"StichtagDatJahr\": \"2013-01-01T00:00:00\", \"EigGruSort\": 3, \"EigGruLang\": \"Nat\\u00fcrliche Personen\", \"sum_PersTotal\": 145421, \"sum_NatCHGebCH\": 79024, \"sum_NatAuGebAu\": 44604}, {\"StichtagDatJahr\": \"2014-01-01T00:00:00\", \"EigGruSort\": 3, \"EigGruLang\": \"Nat\\u00fcrliche Personen\", \"sum_PersTotal\": 145753, \"sum_NatCHGebCH\": 78791, \"sum_NatAuGebAu\": 45024}, {\"StichtagDatJahr\": \"2014-01-01T00:00:00\", \"EigGruSort\": 4, \"EigGruLang\": \"Im Stockwerkeigentum\", \"sum_PersTotal\": 34131, \"sum_NatCHGebCH\": 19647, \"sum_NatAuGebAu\": 8438}, {\"StichtagDatJahr\": \"2014-01-01T00:00:00\", \"EigGruSort\": 1, \"EigGruLang\": \"\\u00d6ffentlich/Genossenschaftlich\", \"sum_PersTotal\": 117344, \"sum_NatCHGebCH\": 71887, \"sum_NatAuGebAu\": 21363}, {\"StichtagDatJahr\": \"2014-01-01T00:00:00\", \"EigGruSort\": 2, \"EigGruLang\": \"\\u00dcbrige private Gesellschaften\", \"sum_PersTotal\": 106884, \"sum_NatCHGebCH\": 52884, \"sum_NatAuGebAu\": 36677}, {\"StichtagDatJahr\": \"2015-01-01T00:00:00\", \"EigGruSort\": 1, \"EigGruLang\": \"\\u00d6ffentlich/Genossenschaftlich\", \"sum_PersTotal\": 119443, \"sum_NatCHGebCH\": 73055, \"sum_NatAuGebAu\": 21674}, {\"StichtagDatJahr\": \"2015-01-01T00:00:00\", \"EigGruSort\": 2, \"EigGruLang\": \"\\u00dcbrige private Gesellschaften\", \"sum_PersTotal\": 109197, \"sum_NatCHGebCH\": 53622, \"sum_NatAuGebAu\": 37712}, {\"StichtagDatJahr\": \"2015-01-01T00:00:00\", \"EigGruSort\": 3, \"EigGruLang\": \"Nat\\u00fcrliche Personen\", \"sum_PersTotal\": 145788, \"sum_NatCHGebCH\": 78225, \"sum_NatAuGebAu\": 45409}, {\"StichtagDatJahr\": \"2015-01-01T00:00:00\", \"EigGruSort\": 4, \"EigGruLang\": \"Im Stockwerkeigentum\", \"sum_PersTotal\": 35900, \"sum_NatCHGebCH\": 20599, \"sum_NatAuGebAu\": 8921}, {\"StichtagDatJahr\": \"2016-01-01T00:00:00\", \"EigGruSort\": 1, \"EigGruLang\": \"\\u00d6ffentlich/Genossenschaftlich\", \"sum_PersTotal\": 119341, \"sum_NatCHGebCH\": 72896, \"sum_NatAuGebAu\": 21451}, {\"StichtagDatJahr\": \"2016-01-01T00:00:00\", \"EigGruSort\": 2, \"EigGruLang\": \"\\u00dcbrige private Gesellschaften\", \"sum_PersTotal\": 115199, \"sum_NatCHGebCH\": 56018, \"sum_NatAuGebAu\": 40418}, {\"StichtagDatJahr\": \"2016-01-01T00:00:00\", \"EigGruSort\": 3, \"EigGruLang\": \"Nat\\u00fcrliche Personen\", \"sum_PersTotal\": 143685, \"sum_NatCHGebCH\": 77270, \"sum_NatAuGebAu\": 44557}, {\"StichtagDatJahr\": \"2016-01-01T00:00:00\", \"EigGruSort\": 4, \"EigGruLang\": \"Im Stockwerkeigentum\", \"sum_PersTotal\": 36956, \"sum_NatCHGebCH\": 21087, \"sum_NatAuGebAu\": 9251}, {\"StichtagDatJahr\": \"2017-01-01T00:00:00\", \"EigGruSort\": 1, \"EigGruLang\": \"\\u00d6ffentlich/Genossenschaftlich\", \"sum_PersTotal\": 121557, \"sum_NatCHGebCH\": 74046, \"sum_NatAuGebAu\": 21970}, {\"StichtagDatJahr\": \"2017-01-01T00:00:00\", \"EigGruSort\": 2, \"EigGruLang\": \"\\u00dcbrige private Gesellschaften\", \"sum_PersTotal\": 121387, \"sum_NatCHGebCH\": 57977, \"sum_NatAuGebAu\": 43534}, {\"StichtagDatJahr\": \"2017-01-01T00:00:00\", \"EigGruSort\": 3, \"EigGruLang\": \"Nat\\u00fcrliche Personen\", \"sum_PersTotal\": 141703, \"sum_NatCHGebCH\": 76081, \"sum_NatAuGebAu\": 43940}, {\"StichtagDatJahr\": \"2017-01-01T00:00:00\", \"EigGruSort\": 4, \"EigGruLang\": \"Im Stockwerkeigentum\", \"sum_PersTotal\": 38080, \"sum_NatCHGebCH\": 21691, \"sum_NatAuGebAu\": 9529}, {\"StichtagDatJahr\": \"2018-01-01T00:00:00\", \"EigGruSort\": 4, \"EigGruLang\": \"Im Stockwerkeigentum\", \"sum_PersTotal\": 39145, \"sum_NatCHGebCH\": 22129, \"sum_NatAuGebAu\": 9765}, {\"StichtagDatJahr\": \"2018-01-01T00:00:00\", \"EigGruSort\": 3, \"EigGruLang\": \"Nat\\u00fcrliche Personen\", \"sum_PersTotal\": 141042, \"sum_NatCHGebCH\": 75552, \"sum_NatAuGebAu\": 43739}, {\"StichtagDatJahr\": \"2018-01-01T00:00:00\", \"EigGruSort\": 1, \"EigGruLang\": \"\\u00d6ffentlich/Genossenschaftlich\", \"sum_PersTotal\": 123432, \"sum_NatCHGebCH\": 75333, \"sum_NatAuGebAu\": 21875}, {\"StichtagDatJahr\": \"2018-01-01T00:00:00\", \"EigGruSort\": 2, \"EigGruLang\": \"\\u00dcbrige private Gesellschaften\", \"sum_PersTotal\": 124530, \"sum_NatCHGebCH\": 59004, \"sum_NatAuGebAu\": 44913}, {\"StichtagDatJahr\": \"2019-01-01T00:00:00\", \"EigGruSort\": 1, \"EigGruLang\": \"\\u00d6ffentlich/Genossenschaftlich\", \"sum_PersTotal\": 126024, \"sum_NatCHGebCH\": 76813, \"sum_NatAuGebAu\": 22225}, {\"StichtagDatJahr\": \"2019-01-01T00:00:00\", \"EigGruSort\": 2, \"EigGruLang\": \"\\u00dcbrige private Gesellschaften\", \"sum_PersTotal\": 127818, \"sum_NatCHGebCH\": 60230, \"sum_NatAuGebAu\": 46290}, {\"StichtagDatJahr\": \"2019-01-01T00:00:00\", \"EigGruSort\": 3, \"EigGruLang\": \"Nat\\u00fcrliche Personen\", \"sum_PersTotal\": 139904, \"sum_NatCHGebCH\": 74928, \"sum_NatAuGebAu\": 43302}, {\"StichtagDatJahr\": \"2019-01-01T00:00:00\", \"EigGruSort\": 4, \"EigGruLang\": \"Im Stockwerkeigentum\", \"sum_PersTotal\": 39786, \"sum_NatCHGebCH\": 22317, \"sum_NatAuGebAu\": 9931}, {\"StichtagDatJahr\": \"2020-01-01T00:00:00\", \"EigGruSort\": 1, \"EigGruLang\": \"\\u00d6ffentlich/Genossenschaftlich\", \"sum_PersTotal\": 126742, \"sum_NatCHGebCH\": 77256, \"sum_NatAuGebAu\": 22183}, {\"StichtagDatJahr\": \"2020-01-01T00:00:00\", \"EigGruSort\": 2, \"EigGruLang\": \"\\u00dcbrige private Gesellschaften\", \"sum_PersTotal\": 129625, \"sum_NatCHGebCH\": 60705, \"sum_NatAuGebAu\": 47002}, {\"StichtagDatJahr\": \"2020-01-01T00:00:00\", \"EigGruSort\": 3, \"EigGruLang\": \"Nat\\u00fcrliche Personen\", \"sum_PersTotal\": 138019, \"sum_NatCHGebCH\": 74131, \"sum_NatAuGebAu\": 42255}, {\"StichtagDatJahr\": \"2020-01-01T00:00:00\", \"EigGruSort\": 4, \"EigGruLang\": \"Im Stockwerkeigentum\", \"sum_PersTotal\": 40137, \"sum_NatCHGebCH\": 22513, \"sum_NatAuGebAu\": 9937}, {\"StichtagDatJahr\": \"2021-01-01T00:00:00\", \"EigGruSort\": 3, \"EigGruLang\": \"Nat\\u00fcrliche Personen\", \"sum_PersTotal\": 135580, \"sum_NatCHGebCH\": 72891, \"sum_NatAuGebAu\": 41208}, {\"StichtagDatJahr\": \"2021-01-01T00:00:00\", \"EigGruSort\": 1, \"EigGruLang\": \"\\u00d6ffentlich/Genossenschaftlich\", \"sum_PersTotal\": 126645, \"sum_NatCHGebCH\": 76959, \"sum_NatAuGebAu\": 22261}, {\"StichtagDatJahr\": \"2021-01-01T00:00:00\", \"EigGruSort\": 2, \"EigGruLang\": \"\\u00dcbrige private Gesellschaften\", \"sum_PersTotal\": 132866, \"sum_NatCHGebCH\": 61540, \"sum_NatAuGebAu\": 48824}, {\"StichtagDatJahr\": \"2021-01-01T00:00:00\", \"EigGruSort\": 4, \"EigGruLang\": \"Im Stockwerkeigentum\", \"sum_PersTotal\": 41030, \"sum_NatCHGebCH\": 22825, \"sum_NatAuGebAu\": 10271}]}}, {\"mode\": \"vega-lite\"});\n",
       "</script>"
      ],
      "text/plain": [
       "alt.LayerChart(...)"
      ]
     },
     "execution_count": 59,
     "metadata": {},
     "output_type": "execute_result"
    }
   ],
   "source": [
    "myTitle=\"Titel\"\n",
    "\n",
    "highlight = alt.selection(type='single', on='mouseover',\n",
    "                          fields=['EigGruLang'], nearest=True)\n",
    "#x='date:StichtagDatJahr',\n",
    "base = alt.Chart(myAgg.reset_index().query('sum_PersTotal > 1'), title=myTitle).encode(\n",
    "    x=alt.X('StichtagDatJahr', axis=alt.Axis(title='Jahr'))# , axis=alt.Axis(format='%', title='percentage')\n",
    "    , y=alt.X('sum_PersTotal', axis=alt.Axis(title='Anz. Projektierte Gebäude'))\n",
    "    , color=alt.Color('EigGruLang', legend=alt.Legend(title=\"Projektstatus\", orient=\"right\"))  \n",
    "    ,tooltip=['StichtagDatJahr', 'StichtagDatJahr', 'EigGruSort', 'EigGruLang','sum_PersTotal','sum_NatAuGebAu']    \n",
    ")\n",
    "points = base.mark_circle().encode(\n",
    "    opacity=alt.value(0.75)\n",
    ").add_selection(\n",
    "    highlight\n",
    ").properties(\n",
    "    width=750 , height=350\n",
    ")\n",
    "lines = base.mark_line().encode(\n",
    "    size=alt.condition(~highlight, alt.value(0.5), alt.value(4))\n",
    ").interactive()\n",
    "\n",
    "lines + points"
   ]
  },
  {
   "cell_type": "markdown",
   "metadata": {
    "tags": []
   },
   "source": [
    "#### Barcharts mit Seaborn"
   ]
  },
  {
   "cell_type": "code",
   "execution_count": 60,
   "metadata": {},
   "outputs": [
    {
     "data": {
      "text/plain": [
       "Index(['QuarSort18', 'QuarLang18', 'KreisSort', 'KreisLang', 'EigGruSort', 'EigGruLang',\n",
       "       'AnzGebMitPers', 'PersTotal', 'NatCHGebCH', 'NatCHGebAu', 'NatAuGebCH', 'NatAuGebAu',\n",
       "       'StichtagDatJahr_str'],\n",
       "      dtype='object')"
      ]
     },
     "execution_count": 60,
     "metadata": {},
     "output_type": "execute_result"
    }
   ],
   "source": [
    "data2betested.columns"
   ]
  },
  {
   "cell_type": "code",
   "execution_count": 66,
   "metadata": {},
   "outputs": [
    {
     "data": {
      "text/html": [
       "<div>\n",
       "<style scoped>\n",
       "    .dataframe tbody tr th:only-of-type {\n",
       "        vertical-align: middle;\n",
       "    }\n",
       "\n",
       "    .dataframe tbody tr th {\n",
       "        vertical-align: top;\n",
       "    }\n",
       "\n",
       "    .dataframe thead th {\n",
       "        text-align: right;\n",
       "    }\n",
       "</style>\n",
       "<table border=\"1\" class=\"dataframe\">\n",
       "  <thead>\n",
       "    <tr style=\"text-align: right;\">\n",
       "      <th></th>\n",
       "      <th>StichtagDatJahr</th>\n",
       "      <th>StichtagDatJahr_str</th>\n",
       "      <th>EigGruSort</th>\n",
       "      <th>EigGruLang</th>\n",
       "      <th>sum_PersTotal</th>\n",
       "      <th>sum_NatCHGebCH</th>\n",
       "      <th>sum_NatAuGebAu</th>\n",
       "    </tr>\n",
       "  </thead>\n",
       "  <tbody>\n",
       "    <tr>\n",
       "      <th>0</th>\n",
       "      <td>2008-01-01</td>\n",
       "      <td>2008-01-01</td>\n",
       "      <td>1</td>\n",
       "      <td>Öffentlich/Genossenschaftlich</td>\n",
       "      <td>111566</td>\n",
       "      <td>68919</td>\n",
       "      <td>21058</td>\n",
       "    </tr>\n",
       "    <tr>\n",
       "      <th>1</th>\n",
       "      <td>2008-01-01</td>\n",
       "      <td>2008-01-01</td>\n",
       "      <td>2</td>\n",
       "      <td>Übrige private Gesellschaften</td>\n",
       "      <td>91361</td>\n",
       "      <td>48513</td>\n",
       "      <td>28145</td>\n",
       "    </tr>\n",
       "    <tr>\n",
       "      <th>2</th>\n",
       "      <td>2008-01-01</td>\n",
       "      <td>2008-01-01</td>\n",
       "      <td>3</td>\n",
       "      <td>Natürliche Personen</td>\n",
       "      <td>150271</td>\n",
       "      <td>84134</td>\n",
       "      <td>43925</td>\n",
       "    </tr>\n",
       "  </tbody>\n",
       "</table>\n",
       "</div>"
      ],
      "text/plain": [
       "  StichtagDatJahr StichtagDatJahr_str  EigGruSort                     EigGruLang  sum_PersTotal  \\\n",
       "0      2008-01-01          2008-01-01           1  Öffentlich/Genossenschaftlich         111566   \n",
       "1      2008-01-01          2008-01-01           2  Übrige private Gesellschaften          91361   \n",
       "2      2008-01-01          2008-01-01           3            Natürliche Personen         150271   \n",
       "\n",
       "   sum_NatCHGebCH  sum_NatAuGebAu  \n",
       "0           68919           21058  \n",
       "1           48513           28145  \n",
       "2           84134           43925  "
      ]
     },
     "execution_count": 66,
     "metadata": {},
     "output_type": "execute_result"
    }
   ],
   "source": [
    "myAggBar = data2betested.loc[\"2008\":\"2021\"]\\\n",
    "    .groupby(['StichtagDatJahr','StichtagDatJahr_str', 'EigGruSort', 'EigGruLang']) \\\n",
    "    .agg(sum_PersTotal=('PersTotal', 'sum'), sum_NatCHGebCH=('NatCHGebCH', 'sum'), sum_NatAuGebAu=('NatAuGebAu', 'sum')) \\\n",
    "    .sort_values('StichtagDatJahr', ascending=True) \n",
    "myAggBar.reset_index().head(3)"
   ]
  },
  {
   "cell_type": "code",
   "execution_count": 62,
   "metadata": {},
   "outputs": [],
   "source": [
    "#help(sns.catplot)     "
   ]
  },
  {
   "cell_type": "code",
   "execution_count": 63,
   "metadata": {},
   "outputs": [],
   "source": [
    "#Stile for the following sns graphs\n",
    "sns.set_theme(style=\"whitegrid\")"
   ]
  },
  {
   "cell_type": "code",
   "execution_count": 67,
   "metadata": {},
   "outputs": [
    {
     "data": {
      "text/plain": [
       "<seaborn.axisgrid.FacetGrid at 0x25be55fcfc8>"
      ]
     },
     "execution_count": 67,
     "metadata": {},
     "output_type": "execute_result"
    },
    {
     "data": {
      "image/png": "[encoded data removed]",
      "text/plain": [
       "<Figure size 833.925x360 with 1 Axes>"
      ]
     },
     "metadata": {},
     "output_type": "display_data"
    }
   ],
   "source": [
    "#sns.color_palette(\"flare\", as_cmap=True)\n",
    "myHist = sns.catplot(x=\"EigGruLang\"\n",
    "            , y=\"sum_NatAuGebAu\"\n",
    "            , hue=\"StichtagDatJahr_str\"\n",
    "            , kind=\"bar\" #boxen, violin, --> wenn die aggregation nicht genau den werten in der grafik entspricht\n",
    "            , palette=\"pastel\" #, color=\"green\"\n",
    "            , height=5\n",
    "            , aspect=2\n",
    "            , order=None, legend_out=True\n",
    "            ,data=myAggBar.sort_values('EigGruSort', ascending=True).reset_index()\n",
    "           )\n",
    "myHist.set_xlabels('Jahr', fontsize=11) # not set_label\n",
    "myHist.set_ylabels('Anz. Personen', fontsize=11)\n"
   ]
  },
  {
   "cell_type": "code",
   "execution_count": 69,
   "metadata": {},
   "outputs": [
    {
     "data": {
      "text/plain": [
       "Index(['QuarSort18', 'QuarLang18', 'KreisSort', 'KreisLang', 'EigGruSort', 'EigGruLang',\n",
       "       'AnzGebMitPers', 'PersTotal', 'NatCHGebCH', 'NatCHGebAu', 'NatAuGebCH', 'NatAuGebAu',\n",
       "       'StichtagDatJahr_str'],\n",
       "      dtype='object')"
      ]
     },
     "execution_count": 69,
     "metadata": {},
     "output_type": "execute_result"
    }
   ],
   "source": [
    "data2betested.columns"
   ]
  },
  {
   "cell_type": "code",
   "execution_count": 74,
   "metadata": {},
   "outputs": [
    {
     "data": {
      "text/html": [
       "<div>\n",
       "<style scoped>\n",
       "    .dataframe tbody tr th:only-of-type {\n",
       "        vertical-align: middle;\n",
       "    }\n",
       "\n",
       "    .dataframe tbody tr th {\n",
       "        vertical-align: top;\n",
       "    }\n",
       "\n",
       "    .dataframe thead th {\n",
       "        text-align: right;\n",
       "    }\n",
       "</style>\n",
       "<table border=\"1\" class=\"dataframe\">\n",
       "  <thead>\n",
       "    <tr style=\"text-align: right;\">\n",
       "      <th></th>\n",
       "      <th>StichtagDatJahr</th>\n",
       "      <th>StichtagDatJahr_str</th>\n",
       "      <th>KreisSort</th>\n",
       "      <th>KreisLang</th>\n",
       "      <th>EigGruSort</th>\n",
       "      <th>EigGruLang</th>\n",
       "      <th>sum_PersTotal</th>\n",
       "      <th>sum_NatCHGebCH</th>\n",
       "      <th>sum_NatAuGebAu</th>\n",
       "      <th>sum_NatCHGebAu</th>\n",
       "      <th>sum_NatAuGebCH</th>\n",
       "    </tr>\n",
       "  </thead>\n",
       "  <tbody>\n",
       "    <tr>\n",
       "      <th>0</th>\n",
       "      <td>2008-01-01</td>\n",
       "      <td>2008-01-01</td>\n",
       "      <td>1</td>\n",
       "      <td>Kreis 1</td>\n",
       "      <td>1</td>\n",
       "      <td>Öffentlich/Genossenschaftlich</td>\n",
       "      <td>1689</td>\n",
       "      <td>1310</td>\n",
       "      <td>156</td>\n",
       "      <td>191</td>\n",
       "      <td>32</td>\n",
       "    </tr>\n",
       "    <tr>\n",
       "      <th>1</th>\n",
       "      <td>2008-01-01</td>\n",
       "      <td>2008-01-01</td>\n",
       "      <td>1</td>\n",
       "      <td>Kreis 1</td>\n",
       "      <td>2</td>\n",
       "      <td>Übrige private Gesellschaften</td>\n",
       "      <td>1320</td>\n",
       "      <td>665</td>\n",
       "      <td>525</td>\n",
       "      <td>111</td>\n",
       "      <td>19</td>\n",
       "    </tr>\n",
       "    <tr>\n",
       "      <th>2</th>\n",
       "      <td>2008-01-01</td>\n",
       "      <td>2008-01-01</td>\n",
       "      <td>1</td>\n",
       "      <td>Kreis 1</td>\n",
       "      <td>3</td>\n",
       "      <td>Natürliche Personen</td>\n",
       "      <td>2117</td>\n",
       "      <td>1245</td>\n",
       "      <td>645</td>\n",
       "      <td>183</td>\n",
       "      <td>44</td>\n",
       "    </tr>\n",
       "  </tbody>\n",
       "</table>\n",
       "</div>"
      ],
      "text/plain": [
       "  StichtagDatJahr StichtagDatJahr_str  KreisSort KreisLang  EigGruSort  \\\n",
       "0      2008-01-01          2008-01-01          1   Kreis 1           1   \n",
       "1      2008-01-01          2008-01-01          1   Kreis 1           2   \n",
       "2      2008-01-01          2008-01-01          1   Kreis 1           3   \n",
       "\n",
       "                      EigGruLang  sum_PersTotal  sum_NatCHGebCH  sum_NatAuGebAu  sum_NatCHGebAu  \\\n",
       "0  Öffentlich/Genossenschaftlich           1689            1310             156             191   \n",
       "1  Übrige private Gesellschaften           1320             665             525             111   \n",
       "2            Natürliche Personen           2117            1245             645             183   \n",
       "\n",
       "   sum_NatAuGebCH  \n",
       "0              32  \n",
       "1              19  \n",
       "2              44  "
      ]
     },
     "execution_count": 74,
     "metadata": {},
     "output_type": "execute_result"
    }
   ],
   "source": [
    "myAggBar = data2betested.loc[\"2008\":\"2021\"]\\\n",
    "    .groupby(['StichtagDatJahr','StichtagDatJahr_str','KreisSort', 'KreisLang', 'EigGruSort', 'EigGruLang']) \\\n",
    "    .agg(sum_PersTotal=('PersTotal', 'sum')\n",
    "         , sum_NatCHGebCH=('NatCHGebCH', 'sum')\n",
    "         , sum_NatAuGebAu=('NatAuGebAu', 'sum')\n",
    "         , sum_NatCHGebAu=('NatCHGebAu', 'sum')\n",
    "         , sum_NatAuGebCH=('NatAuGebCH', 'sum')) \\\n",
    "\n",
    "myAggBar.reset_index().head(3)"
   ]
  },
  {
   "cell_type": "code",
   "execution_count": 72,
   "metadata": {},
   "outputs": [],
   "source": [
    "#myAggBar.reset_index()"
   ]
  },
  {
   "cell_type": "code",
   "execution_count": 75,
   "metadata": {},
   "outputs": [
    {
     "data": {
      "text/plain": [
       "<seaborn.axisgrid.FacetGrid at 0x25be54d2508>"
      ]
     },
     "execution_count": 75,
     "metadata": {},
     "output_type": "execute_result"
    },
    {
     "data": {
      "image/png": "[encoded data removed]",
      "text/plain": [
       "<Figure size 1481.1x432 with 12 Axes>"
      ]
     },
     "metadata": {},
     "output_type": "display_data"
    }
   ],
   "source": [
    "g = sns.FacetGrid(myAggBar.sort_values('KreisSort', ascending=True).reset_index(), col=\"KreisLang\", hue=\"EigGruLang\", col_wrap=6, height=3,)\n",
    "#g.map(sns.scatterplot, \"Jahr\", \"sum_ProjAnzWhg\", alpha=.8)\n",
    "g.map(sns.lineplot, \"StichtagDatJahr\",\"sum_NatCHGebCH\",alpha=.8)\n",
    "\n",
    "g.add_legend()"
   ]
  },
  {
   "cell_type": "code",
   "execution_count": 76,
   "metadata": {},
   "outputs": [
    {
     "data": {
      "text/plain": [
       "<seaborn.axisgrid.FacetGrid at 0x25be51683c8>"
      ]
     },
     "execution_count": 76,
     "metadata": {},
     "output_type": "execute_result"
    },
    {
     "data": {
      "image/png": "[encoded data removed]",
      "text/plain": [
       "<Figure size 1481.1x432 with 12 Axes>"
      ]
     },
     "metadata": {},
     "output_type": "display_data"
    }
   ],
   "source": [
    "g2 = sns.FacetGrid(myAggBar.sort_values('KreisSort', ascending=True).reset_index(), col=\"KreisLang\", hue=\"EigGruLang\", col_wrap=6, height=3,)\n",
    "#g.map(sns.scatterplot, \"Jahr\", \"sum_ProjAnzWhg\", alpha=.8)\n",
    "g2.map(sns.lineplot, \"StichtagDatJahr\",\"sum_NatAuGebAu\",alpha=.8)\n",
    "\n",
    "g2.add_legend()"
   ]
  },
  {
   "cell_type": "code",
   "execution_count": null,
   "metadata": {},
   "outputs": [],
   "source": []
  },
  {
   "cell_type": "markdown",
   "metadata": {},
   "source": [
    "## ---------------------- hier Plausi beendet ---------------------- \n",
    "\n",
    "**Sharepoint als gecheckt markieren!**\n"
   ]
  },
  {
   "cell_type": "markdown",
   "metadata": {
    "tags": []
   },
   "source": [
    "Record auf Sharepoint: **[Link](https://kollaboration.intranet.stzh.ch/orga/ssz-produkte/Lists/SASA_Outputs/DispForm.aspx?ID=902&ContentTypeId=0x0100988EAF029F1EFE4CA675F53C32A5D53D01006DBC563E6FBE9E4EB6FDC780799752E1)**\n",
    "\n",
    "---------------------- "
   ]
  },
  {
   "cell_type": "code",
   "execution_count": null,
   "metadata": {},
   "outputs": [],
   "source": []
  },
  {
   "cell_type": "raw",
   "metadata": {},
   "source": []
  },
  {
   "cell_type": "code",
   "execution_count": null,
   "metadata": {},
   "outputs": [],
   "source": []
  }
 ],
 "metadata": {
  "kernelspec": {
   "display_name": "Python 3 (ipykernel)",
   "language": "python",
   "name": "python3"
  },
  "language_info": {
   "codemirror_mode": {
    "name": "ipython",
    "version": 3
   },
   "file_extension": ".py",
   "mimetype": "text/x-python",
   "name": "python",
   "nbconvert_exporter": "python",
   "pygments_lexer": "ipython3",
   "version": "3.7.11"
  }
 },
 "nbformat": 4,
 "nbformat_minor": 4
}
