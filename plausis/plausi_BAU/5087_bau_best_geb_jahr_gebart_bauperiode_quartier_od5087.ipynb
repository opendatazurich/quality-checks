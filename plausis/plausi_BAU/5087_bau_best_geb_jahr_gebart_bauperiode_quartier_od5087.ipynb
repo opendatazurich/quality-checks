{
 "cells": [
  {
   "cell_type": "markdown",
   "metadata": {},
   "source": [
    "# Testing\n",
    "### Gebäudebestand nach Gebäudeart, Bauperiode und Stadtquartier, seit 2008\n",
    "Datum: 03.02.2022"
   ]
  },
  {
   "cell_type": "markdown",
   "metadata": {},
   "source": [
    "### Importiere die notwendigen Packages"
   ]
  },
  {
   "cell_type": "code",
   "execution_count": null,
   "metadata": {},
   "outputs": [],
   "source": [
    "#%pip install geopandas altair fiona requests folium mplleaflet contextily seaborn datetime plotly"
   ]
  },
  {
   "cell_type": "code",
   "execution_count": 148,
   "metadata": {},
   "outputs": [],
   "source": [
    "import pandas as pd\n",
    "import pivottablejs\n",
    "from pivottablejs import pivot_ui\n",
    "import numpy as np\n",
    "import altair as alt\n",
    "import matplotlib.pyplot as plt\n",
    "#from datetime import datetime\n",
    "import datetime\n",
    "import geopandas as gpd\n",
    "import folium \n",
    "import plotly.express as px\n",
    "import seaborn as sns\n"
   ]
  },
  {
   "cell_type": "markdown",
   "metadata": {},
   "source": [
    "Definiere Settings. Hier das Zahlenformat von Float-Werten (z.B. *'{:,.2f}'.format* mit Komma als Tausenderzeichen), "
   ]
  },
  {
   "cell_type": "code",
   "execution_count": 149,
   "metadata": {},
   "outputs": [],
   "source": [
    "pd.options.display.float_format = '{:.0f}'.format\n",
    "pd.set_option('display.width', 100)\n",
    "pd.set_option('display.max_columns', 15)"
   ]
  },
  {
   "cell_type": "markdown",
   "metadata": {},
   "source": [
    "### Zeitvariabeln\n",
    "Bestimme den aktuellst geladenen Monat. Hier ist es der Stand vor 2 Monaten. \n",
    "Bestimme noch weitere evt. sinnvolle Zeitvariabeln.\n",
    "\n",
    "Zum Unterschied zwischen import datetime und from datedtime import datetime, siehe https://stackoverflow.com/questions/15707532/import-datetime-v-s-from-datetime-import-datetime\n",
    "\n",
    "Zuerst die Zeitvariabeln als Strings"
   ]
  },
  {
   "cell_type": "code",
   "execution_count": 150,
   "metadata": {},
   "outputs": [],
   "source": [
    "#today_date = datetime.date.today()\n",
    "#date_time = datetime.datetime.strptime(date_time_string, '%Y-%m-%d %H:%M')\n",
    "now = datetime.date.today()\n",
    "date_today = now.strftime(\"%Y-%m-%d\")\n",
    "year_today = now.strftime(\"%Y\")\n",
    "month_today = now.strftime(\"%m\")\n",
    "day_today = now.strftime(\"%d\")\n"
   ]
  },
  {
   "cell_type": "markdown",
   "metadata": {},
   "source": [
    "Und hier noch die Zeitvariabeln als Integers:\n",
    "- `aktuellesJahr`\n",
    "- `aktuellerMonat`: Der gerade jetzt aktuelle Monat\n",
    "- `selectedMonat`: Der aktuellste Monat in den Daten. In der Regel zwei Monate her."
   ]
  },
  {
   "cell_type": "code",
   "execution_count": 151,
   "metadata": {},
   "outputs": [
    {
     "name": "stdout",
     "output_type": "stream",
     "text": [
      "2022 2 datenstand:  0 time.struct_time(tm_year=2022, tm_mon=2, tm_mday=4, tm_hour=0, tm_min=0, tm_sec=0, tm_wday=4, tm_yday=35, tm_isdst=-1)\n"
     ]
    }
   ],
   "source": [
    "#now = datetime.now() \n",
    "int_times = now.timetuple()\n",
    "\n",
    "aktuellesJahr = int_times[0]\n",
    "aktuellerMonat = int_times[1]\n",
    "selectedMonat = int_times[1]-2\n",
    "\n",
    "print(aktuellesJahr, \n",
    "      aktuellerMonat,\n",
    "    'datenstand: ', selectedMonat,\n",
    "     int_times)\n"
   ]
  },
  {
   "cell_type": "markdown",
   "metadata": {},
   "source": [
    "Berechne die Variable Epoche um später das SAS-Datum in ein Unix-Datum umzuwandeln. Bei SAS beginnt die Epoche am 1.1.1960. Bei Unix am 1.1.1970.\n",
    "Diese Variable wird beim CSV-Import benötigt."
   ]
  },
  {
   "cell_type": "code",
   "execution_count": 152,
   "metadata": {},
   "outputs": [],
   "source": [
    "epoch = datetime.datetime(1960, 1, 1)"
   ]
  },
  {
   "cell_type": "markdown",
   "metadata": {
    "tags": []
   },
   "source": [
    "### Importiere einen Datensatz \n",
    "\n",
    "- Beachte dabei die Notation des Pfades...\n",
    "- Definiere mal aktuell noch keine weiteren Parameter beim Import"
   ]
  },
  {
   "cell_type": "markdown",
   "metadata": {},
   "source": [
    "**Dataset auf INTEG Datenkatalog**:  https://data.integ.stadt-zuerich.ch/dataset/int_dwh_bau_best_geb_jahr_gebart_bauperiode_quartier_od5087\n",
    "\n",
    "**Dataset auf PROD Datenkatalog**:  https://data.stadt-zuerich.ch/dataset/bau_best_geb_jahr_gebart_bauperiode_quartier_od5087\n"
   ]
  },
  {
   "cell_type": "code",
   "execution_count": 153,
   "metadata": {},
   "outputs": [
    {
     "name": "stdout",
     "output_type": "stream",
     "text": [
      "int\n"
     ]
    }
   ],
   "source": [
    "#Die Datasets sind nur zum Testen auf INT-DWH-Dropzone. Wenn der Test vorbei ist, sind sie auf PROD. \n",
    "# Über den Status kann man einfach switchen\n",
    "\n",
    "status = \"int\";\n",
    "print(status)"
   ]
  },
  {
   "cell_type": "code",
   "execution_count": 154,
   "metadata": {
    "tags": []
   },
   "outputs": [
    {
     "name": "stdout",
     "output_type": "stream",
     "text": [
      "\\\\szh\\ssz\\applikationen\\OGD_Dropzone\\INT_DWH\\bau_best_geb_jahr_gebart_bauperiode_quartier_od5087\\BAU508OD5087.csv\n"
     ]
    }
   ],
   "source": [
    "# Filepath\n",
    "if status == \"prod\":\n",
    "    fp = r\"https://data.stadt-zuerich.ch/dataset/bau_best_geb_jahr_gebart_bauperiode_quartier_od5087/download/BAU508OD5087.csv\"\n",
    "else:\n",
    "    fp = r\"\\\\szh\\ssz\\applikationen\\OGD_Dropzone\\INT_DWH\\bau_best_geb_jahr_gebart_bauperiode_quartier_od5087\\BAU508OD5087.csv\"   \n",
    "\n",
    "print(fp)"
   ]
  },
  {
   "cell_type": "code",
   "execution_count": 155,
   "metadata": {},
   "outputs": [
    {
     "name": "stdout",
     "output_type": "stream",
     "text": [
      "done\n"
     ]
    }
   ],
   "source": [
    "# Read the data\n",
    "data2betested = pd.read_csv(\n",
    "    fp\n",
    "    , sep=','\n",
    "    ,parse_dates=['Jahr']\n",
    "    # KONVERTIERE DAS SAS DATUM IN EIN UNIXDATUM UND FORMATIERE ES\n",
    "    #, date_parser=lambda s: epoch + datetime.timedelta(days=int(s))\n",
    "    ,low_memory=False    \n",
    "    )\n",
    "\n",
    "print('done')"
   ]
  },
  {
   "cell_type": "markdown",
   "metadata": {},
   "source": [
    "In der Folge ein paar erste Tests:"
   ]
  },
  {
   "cell_type": "markdown",
   "metadata": {},
   "source": [
    " - 1) Zeige eine kurze Vorschau der importierten Daten\n",
    " - 2) Weise die Datentypen aus\n",
    " - 3) Zeige die Shape (Umfang) des Datensatzes an"
   ]
  },
  {
   "cell_type": "code",
   "execution_count": 156,
   "metadata": {},
   "outputs": [],
   "source": [
    "#data2betested.head(6)"
   ]
  },
  {
   "cell_type": "code",
   "execution_count": 157,
   "metadata": {},
   "outputs": [
    {
     "data": {
      "text/plain": [
       "Jahr                      datetime64[ns]\n",
       "QuarSort                           int64\n",
       "QuarLang                          object\n",
       "KreisSort                          int64\n",
       "KreisLang                         object\n",
       "GebaeudeartLevel1Sort            float64\n",
       "GebaeudeartLevel1Name             object\n",
       "GebaeudeartLevel2Sort              int64\n",
       "GebaeudeartLevel2Name             object\n",
       "GebaeudeartLevel3Sort              int64\n",
       "GebaeudeartLevel3Name             object\n",
       "GebaeudeartLevel4Sort              int64\n",
       "GebaeudeartLevel4Name             object\n",
       "GebaeudeartSpezialSort             int64\n",
       "GebaeudeartSpezialName            object\n",
       "BauperiodeSort                     int64\n",
       "BauperiodeName                    object\n",
       "AnzGbd                             int64\n",
       "Rauminhalt                         int64\n",
       "Grundflaeche                       int64\n",
       "dtype: object"
      ]
     },
     "execution_count": 157,
     "metadata": {},
     "output_type": "execute_result"
    }
   ],
   "source": [
    "data2betested.dtypes"
   ]
  },
  {
   "cell_type": "code",
   "execution_count": 158,
   "metadata": {},
   "outputs": [
    {
     "data": {
      "text/plain": [
       "(75460, 20)"
      ]
     },
     "execution_count": 158,
     "metadata": {},
     "output_type": "execute_result"
    }
   ],
   "source": [
    "data2betested.shape"
   ]
  },
  {
   "cell_type": "markdown",
   "metadata": {},
   "source": [
    "Beschreibe einzelne Attribute"
   ]
  },
  {
   "cell_type": "code",
   "execution_count": 159,
   "metadata": {},
   "outputs": [
    {
     "data": {
      "text/html": [
       "<div>\n",
       "<style scoped>\n",
       "    .dataframe tbody tr th:only-of-type {\n",
       "        vertical-align: middle;\n",
       "    }\n",
       "\n",
       "    .dataframe tbody tr th {\n",
       "        vertical-align: top;\n",
       "    }\n",
       "\n",
       "    .dataframe thead th {\n",
       "        text-align: right;\n",
       "    }\n",
       "</style>\n",
       "<table border=\"1\" class=\"dataframe\">\n",
       "  <thead>\n",
       "    <tr style=\"text-align: right;\">\n",
       "      <th></th>\n",
       "      <th>QuarSort</th>\n",
       "      <th>KreisSort</th>\n",
       "      <th>GebaeudeartLevel1Sort</th>\n",
       "      <th>GebaeudeartLevel2Sort</th>\n",
       "      <th>GebaeudeartLevel3Sort</th>\n",
       "      <th>GebaeudeartLevel4Sort</th>\n",
       "      <th>GebaeudeartSpezialSort</th>\n",
       "      <th>BauperiodeSort</th>\n",
       "      <th>AnzGbd</th>\n",
       "      <th>Rauminhalt</th>\n",
       "      <th>Grundflaeche</th>\n",
       "    </tr>\n",
       "  </thead>\n",
       "  <tbody>\n",
       "    <tr>\n",
       "      <th>count</th>\n",
       "      <td>75460</td>\n",
       "      <td>75460</td>\n",
       "      <td>75460</td>\n",
       "      <td>75460</td>\n",
       "      <td>75460</td>\n",
       "      <td>75460</td>\n",
       "      <td>75460</td>\n",
       "      <td>75460</td>\n",
       "      <td>75460</td>\n",
       "      <td>75460</td>\n",
       "      <td>75460</td>\n",
       "    </tr>\n",
       "    <tr>\n",
       "      <th>mean</th>\n",
       "      <td>70</td>\n",
       "      <td>7</td>\n",
       "      <td>1215</td>\n",
       "      <td>1215</td>\n",
       "      <td>121</td>\n",
       "      <td>12</td>\n",
       "      <td>6</td>\n",
       "      <td>5</td>\n",
       "      <td>10</td>\n",
       "      <td>34194</td>\n",
       "      <td>2040</td>\n",
       "    </tr>\n",
       "    <tr>\n",
       "      <th>std</th>\n",
       "      <td>35</td>\n",
       "      <td>3</td>\n",
       "      <td>60</td>\n",
       "      <td>60</td>\n",
       "      <td>6</td>\n",
       "      <td>0</td>\n",
       "      <td>3</td>\n",
       "      <td>3</td>\n",
       "      <td>29</td>\n",
       "      <td>97945</td>\n",
       "      <td>5303</td>\n",
       "    </tr>\n",
       "    <tr>\n",
       "      <th>min</th>\n",
       "      <td>11</td>\n",
       "      <td>1</td>\n",
       "      <td>1110</td>\n",
       "      <td>1110</td>\n",
       "      <td>111</td>\n",
       "      <td>11</td>\n",
       "      <td>1</td>\n",
       "      <td>1</td>\n",
       "      <td>1</td>\n",
       "      <td>5</td>\n",
       "      <td>0</td>\n",
       "    </tr>\n",
       "    <tr>\n",
       "      <th>25%</th>\n",
       "      <td>41</td>\n",
       "      <td>4</td>\n",
       "      <td>1130</td>\n",
       "      <td>1130</td>\n",
       "      <td>113</td>\n",
       "      <td>11</td>\n",
       "      <td>3</td>\n",
       "      <td>3</td>\n",
       "      <td>1</td>\n",
       "      <td>1374</td>\n",
       "      <td>130</td>\n",
       "    </tr>\n",
       "    <tr>\n",
       "      <th>50%</th>\n",
       "      <td>72</td>\n",
       "      <td>7</td>\n",
       "      <td>1242</td>\n",
       "      <td>1242</td>\n",
       "      <td>124</td>\n",
       "      <td>12</td>\n",
       "      <td>6</td>\n",
       "      <td>5</td>\n",
       "      <td>2</td>\n",
       "      <td>4922</td>\n",
       "      <td>435</td>\n",
       "    </tr>\n",
       "    <tr>\n",
       "      <th>75%</th>\n",
       "      <td>101</td>\n",
       "      <td>10</td>\n",
       "      <td>1263</td>\n",
       "      <td>1263</td>\n",
       "      <td>126</td>\n",
       "      <td>12</td>\n",
       "      <td>8</td>\n",
       "      <td>8</td>\n",
       "      <td>7</td>\n",
       "      <td>22300</td>\n",
       "      <td>1521</td>\n",
       "    </tr>\n",
       "    <tr>\n",
       "      <th>max</th>\n",
       "      <td>123</td>\n",
       "      <td>12</td>\n",
       "      <td>1274</td>\n",
       "      <td>1274</td>\n",
       "      <td>127</td>\n",
       "      <td>12</td>\n",
       "      <td>10</td>\n",
       "      <td>12</td>\n",
       "      <td>482</td>\n",
       "      <td>8113799</td>\n",
       "      <td>81492</td>\n",
       "    </tr>\n",
       "  </tbody>\n",
       "</table>\n",
       "</div>"
      ],
      "text/plain": [
       "       QuarSort  KreisSort  GebaeudeartLevel1Sort  GebaeudeartLevel2Sort  GebaeudeartLevel3Sort  \\\n",
       "count     75460      75460                  75460                  75460                  75460   \n",
       "mean         70          7                   1215                   1215                    121   \n",
       "std          35          3                     60                     60                      6   \n",
       "min          11          1                   1110                   1110                    111   \n",
       "25%          41          4                   1130                   1130                    113   \n",
       "50%          72          7                   1242                   1242                    124   \n",
       "75%         101         10                   1263                   1263                    126   \n",
       "max         123         12                   1274                   1274                    127   \n",
       "\n",
       "       GebaeudeartLevel4Sort  GebaeudeartSpezialSort  BauperiodeSort  AnzGbd  Rauminhalt  \\\n",
       "count                  75460                   75460           75460   75460       75460   \n",
       "mean                      12                       6               5      10       34194   \n",
       "std                        0                       3               3      29       97945   \n",
       "min                       11                       1               1       1           5   \n",
       "25%                       11                       3               3       1        1374   \n",
       "50%                       12                       6               5       2        4922   \n",
       "75%                       12                       8               8       7       22300   \n",
       "max                       12                      10              12     482     8113799   \n",
       "\n",
       "       Grundflaeche  \n",
       "count         75460  \n",
       "mean           2040  \n",
       "std            5303  \n",
       "min               0  \n",
       "25%             130  \n",
       "50%             435  \n",
       "75%            1521  \n",
       "max           81492  "
      ]
     },
     "execution_count": 159,
     "metadata": {},
     "output_type": "execute_result"
    }
   ],
   "source": [
    "data2betested.describe()"
   ]
  },
  {
   "cell_type": "markdown",
   "metadata": {},
   "source": [
    "Wie viele Nullwerte gibt es im Datensatz?"
   ]
  },
  {
   "cell_type": "code",
   "execution_count": 160,
   "metadata": {
    "scrolled": true
   },
   "outputs": [
    {
     "data": {
      "text/plain": [
       "Jahr                      0\n",
       "QuarSort                  0\n",
       "QuarLang                  0\n",
       "KreisSort                 0\n",
       "KreisLang                 0\n",
       "GebaeudeartLevel1Sort     0\n",
       "GebaeudeartLevel1Name     0\n",
       "GebaeudeartLevel2Sort     0\n",
       "GebaeudeartLevel2Name     0\n",
       "GebaeudeartLevel3Sort     0\n",
       "GebaeudeartLevel3Name     0\n",
       "GebaeudeartLevel4Sort     0\n",
       "GebaeudeartLevel4Name     0\n",
       "GebaeudeartSpezialSort    0\n",
       "GebaeudeartSpezialName    0\n",
       "BauperiodeSort            0\n",
       "BauperiodeName            0\n",
       "AnzGbd                    0\n",
       "Rauminhalt                0\n",
       "Grundflaeche              0\n",
       "dtype: int64"
      ]
     },
     "execution_count": 160,
     "metadata": {},
     "output_type": "execute_result"
    }
   ],
   "source": [
    "data2betested.isnull().sum()"
   ]
  },
  {
   "cell_type": "markdown",
   "metadata": {
    "colab_type": "text",
    "id": "1dTPVmmsgOVx"
   },
   "source": [
    "### Verwende das Datum als Index\n",
    "\n",
    "While we did already parse the `datetime` column into the respective datetime type, it currently is just a regular column. \n",
    "**To enable quick and convenient queries and aggregations, we need to turn it into the index of the DataFrame**"
   ]
  },
  {
   "cell_type": "code",
   "execution_count": 161,
   "metadata": {},
   "outputs": [],
   "source": [
    "data2betested = data2betested.set_index(\"Jahr\")"
   ]
  },
  {
   "cell_type": "code",
   "execution_count": 162,
   "metadata": {},
   "outputs": [
    {
     "name": "stdout",
     "output_type": "stream",
     "text": [
      "<class 'pandas.core.frame.DataFrame'>\n",
      "DatetimeIndex: 75460 entries, 2008-01-01 to 2021-01-01\n",
      "Data columns (total 19 columns):\n",
      " #   Column                  Non-Null Count  Dtype  \n",
      "---  ------                  --------------  -----  \n",
      " 0   QuarSort                75460 non-null  int64  \n",
      " 1   QuarLang                75460 non-null  object \n",
      " 2   KreisSort               75460 non-null  int64  \n",
      " 3   KreisLang               75460 non-null  object \n",
      " 4   GebaeudeartLevel1Sort   75460 non-null  float64\n",
      " 5   GebaeudeartLevel1Name   75460 non-null  object \n",
      " 6   GebaeudeartLevel2Sort   75460 non-null  int64  \n",
      " 7   GebaeudeartLevel2Name   75460 non-null  object \n",
      " 8   GebaeudeartLevel3Sort   75460 non-null  int64  \n",
      " 9   GebaeudeartLevel3Name   75460 non-null  object \n",
      " 10  GebaeudeartLevel4Sort   75460 non-null  int64  \n",
      " 11  GebaeudeartLevel4Name   75460 non-null  object \n",
      " 12  GebaeudeartSpezialSort  75460 non-null  int64  \n",
      " 13  GebaeudeartSpezialName  75460 non-null  object \n",
      " 14  BauperiodeSort          75460 non-null  int64  \n",
      " 15  BauperiodeName          75460 non-null  object \n",
      " 16  AnzGbd                  75460 non-null  int64  \n",
      " 17  Rauminhalt              75460 non-null  int64  \n",
      " 18  Grundflaeche            75460 non-null  int64  \n",
      "dtypes: float64(1), int64(10), object(8)\n",
      "memory usage: 11.5+ MB\n"
     ]
    },
    {
     "data": {
      "text/plain": [
       "Int64Index([1], dtype='int64', name='Jahr')"
      ]
     },
     "execution_count": 162,
     "metadata": {},
     "output_type": "execute_result"
    }
   ],
   "source": [
    "data2betested.info()\n",
    "data2betested.index.day.unique()"
   ]
  },
  {
   "cell_type": "markdown",
   "metadata": {},
   "source": [
    "### Einfache Visualisierungen zur Plausi"
   ]
  },
  {
   "cell_type": "markdown",
   "metadata": {},
   "source": [
    "Exploriere die Daten mit Pivottable.JS"
   ]
  },
  {
   "cell_type": "code",
   "execution_count": 163,
   "metadata": {},
   "outputs": [
    {
     "data": {
      "text/html": [
       "\n",
       "        <iframe\n",
       "            width=\"100%\"\n",
       "            height=\"500\"\n",
       "            src=\"pivottablejs.html\"\n",
       "            frameborder=\"0\"\n",
       "            allowfullscreen\n",
       "        ></iframe>\n",
       "        "
      ],
      "text/plain": [
       "<IPython.lib.display.IFrame at 0x15a8a37cf10>"
      ]
     },
     "execution_count": 163,
     "metadata": {},
     "output_type": "execute_result"
    }
   ],
   "source": [
    "from pivottablejs import pivot_ui\n",
    "\n",
    "pivot_ui(data2betested)"
   ]
  },
  {
   "cell_type": "markdown",
   "metadata": {},
   "source": [
    "### Zeitpunkte und Zeiträume abfragen\n",
    "\n",
    "A particular powerful feature of the Pandas DataFrame is its indexing capability that also works using time-based entities, such as dates and times. We have already created the index above, so let's put it to use."
   ]
  },
  {
   "cell_type": "code",
   "execution_count": 164,
   "metadata": {},
   "outputs": [
    {
     "data": {
      "text/html": [
       "<div>\n",
       "<style scoped>\n",
       "    .dataframe tbody tr th:only-of-type {\n",
       "        vertical-align: middle;\n",
       "    }\n",
       "\n",
       "    .dataframe tbody tr th {\n",
       "        vertical-align: top;\n",
       "    }\n",
       "\n",
       "    .dataframe thead th {\n",
       "        text-align: right;\n",
       "    }\n",
       "</style>\n",
       "<table border=\"1\" class=\"dataframe\">\n",
       "  <thead>\n",
       "    <tr style=\"text-align: right;\">\n",
       "      <th></th>\n",
       "      <th>QuarSort</th>\n",
       "      <th>QuarLang</th>\n",
       "      <th>KreisSort</th>\n",
       "      <th>KreisLang</th>\n",
       "      <th>GebaeudeartLevel1Sort</th>\n",
       "      <th>GebaeudeartLevel1Name</th>\n",
       "      <th>GebaeudeartLevel2Sort</th>\n",
       "      <th>...</th>\n",
       "      <th>GebaeudeartSpezialSort</th>\n",
       "      <th>GebaeudeartSpezialName</th>\n",
       "      <th>BauperiodeSort</th>\n",
       "      <th>BauperiodeName</th>\n",
       "      <th>AnzGbd</th>\n",
       "      <th>Rauminhalt</th>\n",
       "      <th>Grundflaeche</th>\n",
       "    </tr>\n",
       "    <tr>\n",
       "      <th>Jahr</th>\n",
       "      <th></th>\n",
       "      <th></th>\n",
       "      <th></th>\n",
       "      <th></th>\n",
       "      <th></th>\n",
       "      <th></th>\n",
       "      <th></th>\n",
       "      <th></th>\n",
       "      <th></th>\n",
       "      <th></th>\n",
       "      <th></th>\n",
       "      <th></th>\n",
       "      <th></th>\n",
       "      <th></th>\n",
       "      <th></th>\n",
       "    </tr>\n",
       "  </thead>\n",
       "  <tbody>\n",
       "    <tr>\n",
       "      <th>2009-01-01</th>\n",
       "      <td>11</td>\n",
       "      <td>Rathaus</td>\n",
       "      <td>1</td>\n",
       "      <td>Kreis 1</td>\n",
       "      <td>1110</td>\n",
       "      <td>Einfamilienhaus freistehend</td>\n",
       "      <td>1110</td>\n",
       "      <td>...</td>\n",
       "      <td>1</td>\n",
       "      <td>Einfamilienhäuser</td>\n",
       "      <td>1</td>\n",
       "      <td>Vor 1893</td>\n",
       "      <td>1</td>\n",
       "      <td>265</td>\n",
       "      <td>53</td>\n",
       "    </tr>\n",
       "    <tr>\n",
       "      <th>2009-01-01</th>\n",
       "      <td>11</td>\n",
       "      <td>Rathaus</td>\n",
       "      <td>1</td>\n",
       "      <td>Kreis 1</td>\n",
       "      <td>1110</td>\n",
       "      <td>Einfamilienhaus angebaut</td>\n",
       "      <td>1110</td>\n",
       "      <td>...</td>\n",
       "      <td>1</td>\n",
       "      <td>Einfamilienhäuser</td>\n",
       "      <td>1</td>\n",
       "      <td>Vor 1893</td>\n",
       "      <td>16</td>\n",
       "      <td>13746</td>\n",
       "      <td>1285</td>\n",
       "    </tr>\n",
       "  </tbody>\n",
       "</table>\n",
       "<p>2 rows × 19 columns</p>\n",
       "</div>"
      ],
      "text/plain": [
       "            QuarSort QuarLang  KreisSort KreisLang  GebaeudeartLevel1Sort  \\\n",
       "Jahr                                                                        \n",
       "2009-01-01        11  Rathaus          1   Kreis 1                   1110   \n",
       "2009-01-01        11  Rathaus          1   Kreis 1                   1110   \n",
       "\n",
       "                  GebaeudeartLevel1Name  GebaeudeartLevel2Sort  ... GebaeudeartSpezialSort  \\\n",
       "Jahr                                                            ...                          \n",
       "2009-01-01  Einfamilienhaus freistehend                   1110  ...                      1   \n",
       "2009-01-01     Einfamilienhaus angebaut                   1110  ...                      1   \n",
       "\n",
       "            GebaeudeartSpezialName BauperiodeSort  BauperiodeName AnzGbd  Rauminhalt Grundflaeche  \n",
       "Jahr                                                                                               \n",
       "2009-01-01       Einfamilienhäuser              1        Vor 1893      1         265           53  \n",
       "2009-01-01       Einfamilienhäuser              1        Vor 1893     16       13746         1285  \n",
       "\n",
       "[2 rows x 19 columns]"
      ]
     },
     "execution_count": 164,
     "metadata": {},
     "output_type": "execute_result"
    }
   ],
   "source": [
    "data2betested.loc[\"2009\"].head(2)\n",
    "#data2betested.loc[\"2021-10-31\":\"2021-11-30\"].head(2)"
   ]
  },
  {
   "cell_type": "markdown",
   "metadata": {},
   "source": [
    "### Visualisierungen nach Zeitausschnitten"
   ]
  },
  {
   "cell_type": "markdown",
   "metadata": {
    "tags": []
   },
   "source": [
    "#### Entwicklung des Gebäudebestands nach Gebäudeart Level 2 seit 2008"
   ]
  },
  {
   "cell_type": "code",
   "execution_count": 165,
   "metadata": {},
   "outputs": [],
   "source": [
    "#data2betested.dtypes"
   ]
  },
  {
   "cell_type": "code",
   "execution_count": 166,
   "metadata": {
    "tags": []
   },
   "outputs": [
    {
     "data": {
      "text/html": [
       "<div>\n",
       "<style scoped>\n",
       "    .dataframe tbody tr th:only-of-type {\n",
       "        vertical-align: middle;\n",
       "    }\n",
       "\n",
       "    .dataframe tbody tr th {\n",
       "        vertical-align: top;\n",
       "    }\n",
       "\n",
       "    .dataframe thead th {\n",
       "        text-align: right;\n",
       "    }\n",
       "</style>\n",
       "<table border=\"1\" class=\"dataframe\">\n",
       "  <thead>\n",
       "    <tr style=\"text-align: right;\">\n",
       "      <th></th>\n",
       "      <th>Jahr</th>\n",
       "      <th>GebaeudeartLevel2Name</th>\n",
       "      <th>sum_AnzGbd</th>\n",
       "      <th>sum_Rauminhalt</th>\n",
       "      <th>sum_Grundflaeche</th>\n",
       "    </tr>\n",
       "  </thead>\n",
       "  <tbody>\n",
       "    <tr>\n",
       "      <th>0</th>\n",
       "      <td>2008-01-01</td>\n",
       "      <td>Andere Gebäude für kurzfristige Beherbergung</td>\n",
       "      <td>99</td>\n",
       "      <td>219883</td>\n",
       "      <td>14103</td>\n",
       "    </tr>\n",
       "    <tr>\n",
       "      <th>1</th>\n",
       "      <td>2008-01-01</td>\n",
       "      <td>Wohngebäude für Gemeinschaften</td>\n",
       "      <td>337</td>\n",
       "      <td>2249116</td>\n",
       "      <td>142818</td>\n",
       "    </tr>\n",
       "    <tr>\n",
       "      <th>2</th>\n",
       "      <td>2008-01-01</td>\n",
       "      <td>Sporthallen</td>\n",
       "      <td>401</td>\n",
       "      <td>2152613</td>\n",
       "      <td>197704</td>\n",
       "    </tr>\n",
       "    <tr>\n",
       "      <th>3</th>\n",
       "      <td>2008-01-01</td>\n",
       "      <td>Sonstige Hochbauten</td>\n",
       "      <td>4767</td>\n",
       "      <td>1530588</td>\n",
       "      <td>153372</td>\n",
       "    </tr>\n",
       "    <tr>\n",
       "      <th>4</th>\n",
       "      <td>2008-01-01</td>\n",
       "      <td>Schul- und Hochschulgebäude, Forschungseinrich...</td>\n",
       "      <td>810</td>\n",
       "      <td>9192347</td>\n",
       "      <td>562171</td>\n",
       "    </tr>\n",
       "    <tr>\n",
       "      <th>...</th>\n",
       "      <td>...</td>\n",
       "      <td>...</td>\n",
       "      <td>...</td>\n",
       "      <td>...</td>\n",
       "      <td>...</td>\n",
       "    </tr>\n",
       "    <tr>\n",
       "      <th>276</th>\n",
       "      <td>2021-01-01</td>\n",
       "      <td>Behälter, Silos, Lagergebäude</td>\n",
       "      <td>443</td>\n",
       "      <td>1700414</td>\n",
       "      <td>131726</td>\n",
       "    </tr>\n",
       "    <tr>\n",
       "      <th>277</th>\n",
       "      <td>2021-01-01</td>\n",
       "      <td>Andere Gebäude für kurzfristige Beherbergung</td>\n",
       "      <td>187</td>\n",
       "      <td>771105</td>\n",
       "      <td>41070</td>\n",
       "    </tr>\n",
       "    <tr>\n",
       "      <th>278</th>\n",
       "      <td>2021-01-01</td>\n",
       "      <td>Sporthallen</td>\n",
       "      <td>387</td>\n",
       "      <td>2093023</td>\n",
       "      <td>196050</td>\n",
       "    </tr>\n",
       "    <tr>\n",
       "      <th>279</th>\n",
       "      <td>2021-01-01</td>\n",
       "      <td>Gross- und Einzelhandelsgebäude</td>\n",
       "      <td>407</td>\n",
       "      <td>1768629</td>\n",
       "      <td>110695</td>\n",
       "    </tr>\n",
       "    <tr>\n",
       "      <th>280</th>\n",
       "      <td>2021-01-01</td>\n",
       "      <td>Wohngebäude für Gemeinschaften</td>\n",
       "      <td>590</td>\n",
       "      <td>3937127</td>\n",
       "      <td>222693</td>\n",
       "    </tr>\n",
       "  </tbody>\n",
       "</table>\n",
       "<p>281 rows × 5 columns</p>\n",
       "</div>"
      ],
      "text/plain": [
       "          Jahr                              GebaeudeartLevel2Name  sum_AnzGbd  sum_Rauminhalt  \\\n",
       "0   2008-01-01       Andere Gebäude für kurzfristige Beherbergung          99          219883   \n",
       "1   2008-01-01                     Wohngebäude für Gemeinschaften         337         2249116   \n",
       "2   2008-01-01                                        Sporthallen         401         2152613   \n",
       "3   2008-01-01                                Sonstige Hochbauten        4767         1530588   \n",
       "4   2008-01-01  Schul- und Hochschulgebäude, Forschungseinrich...         810         9192347   \n",
       "..         ...                                                ...         ...             ...   \n",
       "276 2021-01-01                      Behälter, Silos, Lagergebäude         443         1700414   \n",
       "277 2021-01-01       Andere Gebäude für kurzfristige Beherbergung         187          771105   \n",
       "278 2021-01-01                                        Sporthallen         387         2093023   \n",
       "279 2021-01-01                    Gross- und Einzelhandelsgebäude         407         1768629   \n",
       "280 2021-01-01                     Wohngebäude für Gemeinschaften         590         3937127   \n",
       "\n",
       "     sum_Grundflaeche  \n",
       "0               14103  \n",
       "1              142818  \n",
       "2              197704  \n",
       "3              153372  \n",
       "4              562171  \n",
       "..                ...  \n",
       "276            131726  \n",
       "277             41070  \n",
       "278            196050  \n",
       "279            110695  \n",
       "280            222693  \n",
       "\n",
       "[281 rows x 5 columns]"
      ]
     },
     "execution_count": 166,
     "metadata": {},
     "output_type": "execute_result"
    }
   ],
   "source": [
    "#myAgg = data2betested.loc[\"2008-11-30\":\"2021-10-31\"]\n",
    "myAgg = data2betested.loc[\"2008\":\"2021\"]\\\n",
    "    .groupby(['Jahr', 'GebaeudeartLevel2Name']) \\\n",
    "    .agg(sum_AnzGbd=('AnzGbd', 'sum'), sum_Rauminhalt=('Rauminhalt', 'sum'), sum_Grundflaeche=('Grundflaeche', 'sum')) \\\n",
    "    .sort_values('Jahr', ascending=True) \n",
    "\n",
    "myAgg.reset_index()\n",
    "#myAgg.reset_index().melt()"
   ]
  },
  {
   "cell_type": "code",
   "execution_count": 167,
   "metadata": {},
   "outputs": [
    {
     "data": {
      "text/html": [
       "\n",
       "<div id=\"altair-viz-7d0d544e97bd463198e604dab8be5853\"></div>\n",
       "<script type=\"text/javascript\">\n",
       "  (function(spec, embedOpt){\n",
       "    let outputDiv = document.currentScript.previousElementSibling;\n",
       "    if (outputDiv.id !== \"altair-viz-7d0d544e97bd463198e604dab8be5853\") {\n",
       "      outputDiv = document.getElementById(\"altair-viz-7d0d544e97bd463198e604dab8be5853\");\n",
       "    }\n",
       "    const paths = {\n",
       "      \"vega\": \"https://cdn.jsdelivr.net/npm//vega@5?noext\",\n",
       "      \"vega-lib\": \"https://cdn.jsdelivr.net/npm//vega-lib?noext\",\n",
       "      \"vega-lite\": \"https://cdn.jsdelivr.net/npm//vega-lite@4.8.1?noext\",\n",
       "      \"vega-embed\": \"https://cdn.jsdelivr.net/npm//vega-embed@6?noext\",\n",
       "    };\n",
       "\n",
       "    function loadScript(lib) {\n",
       "      return new Promise(function(resolve, reject) {\n",
       "        var s = document.createElement('script');\n",
       "        s.src = paths[lib];\n",
       "        s.async = true;\n",
       "        s.onload = () => resolve(paths[lib]);\n",
       "        s.onerror = () => reject(`Error loading script: ${paths[lib]}`);\n",
       "        document.getElementsByTagName(\"head\")[0].appendChild(s);\n",
       "      });\n",
       "    }\n",
       "\n",
       "    function showError(err) {\n",
       "      outputDiv.innerHTML = `<div class=\"error\" style=\"color:red;\">${err}</div>`;\n",
       "      throw err;\n",
       "    }\n",
       "\n",
       "    function displayChart(vegaEmbed) {\n",
       "      vegaEmbed(outputDiv, spec, embedOpt)\n",
       "        .catch(err => showError(`Javascript Error: ${err.message}<br>This usually means there's a typo in your chart specification. See the javascript console for the full traceback.`));\n",
       "    }\n",
       "\n",
       "    if(typeof define === \"function\" && define.amd) {\n",
       "      requirejs.config({paths});\n",
       "      require([\"vega-embed\"], displayChart, err => showError(`Error loading script: ${err.message}`));\n",
       "    } else if (typeof vegaEmbed === \"function\") {\n",
       "      displayChart(vegaEmbed);\n",
       "    } else {\n",
       "      loadScript(\"vega\")\n",
       "        .then(() => loadScript(\"vega-lite\"))\n",
       "        .then(() => loadScript(\"vega-embed\"))\n",
       "        .catch(showError)\n",
       "        .then(() => displayChart(vegaEmbed));\n",
       "    }\n",
       "  })({\"config\": {\"view\": {\"continuousWidth\": 400, \"continuousHeight\": 300}}, \"layer\": [{\"mark\": \"line\", \"encoding\": {\"color\": {\"type\": \"nominal\", \"field\": \"GebaeudeartLevel2Name\", \"legend\": {\"orient\": \"right\", \"title\": \"Geb\\u00e4udearten\"}}, \"size\": {\"condition\": {\"value\": 0.5, \"selection\": {\"not\": \"selector023\"}}, \"value\": 4}, \"tooltip\": [{\"type\": \"temporal\", \"field\": \"Jahr\"}, {\"type\": \"nominal\", \"field\": \"GebaeudeartLevel2Name\"}, {\"type\": \"quantitative\", \"field\": \"sum_AnzGbd\"}], \"x\": {\"type\": \"temporal\", \"axis\": {\"title\": \"Jahr\"}, \"field\": \"Jahr\"}, \"y\": {\"type\": \"quantitative\", \"axis\": {\"title\": \"Anz. Geb\\u00e4ude\"}, \"field\": \"sum_AnzGbd\"}}, \"selection\": {\"selector024\": {\"type\": \"interval\", \"bind\": \"scales\", \"encodings\": [\"x\", \"y\"]}}, \"title\": \"Title\"}, {\"mark\": \"circle\", \"encoding\": {\"color\": {\"type\": \"nominal\", \"field\": \"GebaeudeartLevel2Name\", \"legend\": {\"orient\": \"right\", \"title\": \"Geb\\u00e4udearten\"}}, \"opacity\": {\"value\": 0.75}, \"tooltip\": [{\"type\": \"temporal\", \"field\": \"Jahr\"}, {\"type\": \"nominal\", \"field\": \"GebaeudeartLevel2Name\"}, {\"type\": \"quantitative\", \"field\": \"sum_AnzGbd\"}], \"x\": {\"type\": \"temporal\", \"axis\": {\"title\": \"Jahr\"}, \"field\": \"Jahr\"}, \"y\": {\"type\": \"quantitative\", \"axis\": {\"title\": \"Anz. Geb\\u00e4ude\"}, \"field\": \"sum_AnzGbd\"}}, \"height\": 350, \"selection\": {\"selector023\": {\"type\": \"single\", \"on\": \"mouseover\", \"fields\": [\"GebaeudeartLevel2Name\"], \"nearest\": true}}, \"title\": \"Title\", \"width\": 750}], \"data\": {\"name\": \"data-9786b2c546cabde680db5b179eafce6d\"}, \"$schema\": \"https://vega.github.io/schema/vega-lite/v4.8.1.json\", \"datasets\": {\"data-9786b2c546cabde680db5b179eafce6d\": [{\"Jahr\": \"2008-01-01T00:00:00\", \"GebaeudeartLevel2Name\": \"Andere Geb\\u00e4ude f\\u00fcr kurzfristige Beherbergung\", \"sum_AnzGbd\": 99, \"sum_Rauminhalt\": 219883, \"sum_Grundflaeche\": 14103}, {\"Jahr\": \"2008-01-01T00:00:00\", \"GebaeudeartLevel2Name\": \"Wohngeb\\u00e4ude f\\u00fcr Gemeinschaften\", \"sum_AnzGbd\": 337, \"sum_Rauminhalt\": 2249116, \"sum_Grundflaeche\": 142818}, {\"Jahr\": \"2008-01-01T00:00:00\", \"GebaeudeartLevel2Name\": \"Sporthallen\", \"sum_AnzGbd\": 401, \"sum_Rauminhalt\": 2152613, \"sum_Grundflaeche\": 197704}, {\"Jahr\": \"2008-01-01T00:00:00\", \"GebaeudeartLevel2Name\": \"Sonstige Hochbauten\", \"sum_AnzGbd\": 4767, \"sum_Rauminhalt\": 1530588, \"sum_Grundflaeche\": 153372}, {\"Jahr\": \"2008-01-01T00:00:00\", \"GebaeudeartLevel2Name\": \"Schul- und Hochschulgeb\\u00e4ude, Forschungseinrichtungen\", \"sum_AnzGbd\": 810, \"sum_Rauminhalt\": 9192347, \"sum_Grundflaeche\": 562171}, {\"Jahr\": \"2008-01-01T00:00:00\", \"GebaeudeartLevel2Name\": \"Museen und Bibliotheken\", \"sum_AnzGbd\": 42, \"sum_Rauminhalt\": 492860, \"sum_Grundflaeche\": 26498}, {\"Jahr\": \"2008-01-01T00:00:00\", \"GebaeudeartLevel2Name\": \"Krankenh\\u00e4user und Facheinrichtungen des Gesundheitswesens\", \"sum_AnzGbd\": 273, \"sum_Rauminhalt\": 3603086, \"sum_Grundflaeche\": 192305}, {\"Jahr\": \"2008-01-01T00:00:00\", \"GebaeudeartLevel2Name\": \"Kirchen und sonstige Kultgeb\\u00e4ude\", \"sum_AnzGbd\": 244, \"sum_Rauminhalt\": 1433711, \"sum_Grundflaeche\": 113576}, {\"Jahr\": \"2008-01-01T00:00:00\", \"GebaeudeartLevel2Name\": \"Industriegeb\\u00e4ude\", \"sum_AnzGbd\": 1447, \"sum_Rauminhalt\": 7071247, \"sum_Grundflaeche\": 562045}, {\"Jahr\": \"2008-01-01T00:00:00\", \"GebaeudeartLevel2Name\": \"Hotelgeb\\u00e4ude\", \"sum_AnzGbd\": 285, \"sum_Rauminhalt\": 2422800, \"sum_Grundflaeche\": 133569}, {\"Jahr\": \"2008-01-01T00:00:00\", \"GebaeudeartLevel2Name\": \"Landwirtschaftliche Betriebsgeb\\u00e4ude\", \"sum_AnzGbd\": 456, \"sum_Rauminhalt\": 475592, \"sum_Grundflaeche\": 83001}, {\"Jahr\": \"2008-01-01T00:00:00\", \"GebaeudeartLevel2Name\": \"Geb\\u00e4ude mit mehr als 2 Wohnungen\", \"sum_AnzGbd\": 23811, \"sum_Rauminhalt\": 76867115, \"sum_Grundflaeche\": 5043708}, {\"Jahr\": \"2008-01-01T00:00:00\", \"GebaeudeartLevel2Name\": \"Gross- und Einzelhandelsgeb\\u00e4ude\", \"sum_AnzGbd\": 374, \"sum_Rauminhalt\": 1677541, \"sum_Grundflaeche\": 101538}, {\"Jahr\": \"2008-01-01T00:00:00\", \"GebaeudeartLevel2Name\": \"B\\u00fcrogeb\\u00e4ude\", \"sum_AnzGbd\": 3039, \"sum_Rauminhalt\": 40961291, \"sum_Grundflaeche\": 1852983}, {\"Jahr\": \"2008-01-01T00:00:00\", \"GebaeudeartLevel2Name\": \"Garagengeb\\u00e4ude\", \"sum_AnzGbd\": 5541, \"sum_Rauminhalt\": 6121208, \"sum_Grundflaeche\": 184047}, {\"Jahr\": \"2008-01-01T00:00:00\", \"GebaeudeartLevel2Name\": \"Geb\\u00e4ude des Nachrichtenwesens, Bahnh\\u00f6fe\", \"sum_AnzGbd\": 222, \"sum_Rauminhalt\": 3328683, \"sum_Grundflaeche\": 208700}, {\"Jahr\": \"2008-01-01T00:00:00\", \"GebaeudeartLevel2Name\": \"Beh\\u00e4lter, Silos, Lagergeb\\u00e4ude\", \"sum_AnzGbd\": 610, \"sum_Rauminhalt\": 2495173, \"sum_Grundflaeche\": 220590}, {\"Jahr\": \"2008-01-01T00:00:00\", \"GebaeudeartLevel2Name\": \"Geb\\u00e4ude mit 2 Wohnungen\", \"sum_AnzGbd\": 1270, \"sum_Rauminhalt\": 1483152, \"sum_Grundflaeche\": 144264}, {\"Jahr\": \"2008-01-01T00:00:00\", \"GebaeudeartLevel2Name\": \"Geb\\u00e4ude mit einer Wohnung\", \"sum_AnzGbd\": 9899, \"sum_Rauminhalt\": 6623628, \"sum_Grundflaeche\": 749508}, {\"Jahr\": \"2008-01-01T00:00:00\", \"GebaeudeartLevel2Name\": \"Geb\\u00e4ude f\\u00fcr Kultur- und Freizeitzwecke\", \"sum_AnzGbd\": 140, \"sum_Rauminhalt\": 1074964, \"sum_Grundflaeche\": 82209}, {\"Jahr\": \"2009-01-01T00:00:00\", \"GebaeudeartLevel2Name\": \"Industriegeb\\u00e4ude\", \"sum_AnzGbd\": 1439, \"sum_Rauminhalt\": 7319228, \"sum_Grundflaeche\": 579300}, {\"Jahr\": \"2009-01-01T00:00:00\", \"GebaeudeartLevel2Name\": \"Wohngeb\\u00e4ude f\\u00fcr Gemeinschaften\", \"sum_AnzGbd\": 334, \"sum_Rauminhalt\": 2322922, \"sum_Grundflaeche\": 144676}, {\"Jahr\": \"2009-01-01T00:00:00\", \"GebaeudeartLevel2Name\": \"Sporthallen\", \"sum_AnzGbd\": 399, \"sum_Rauminhalt\": 2045333, \"sum_Grundflaeche\": 198647}, {\"Jahr\": \"2009-01-01T00:00:00\", \"GebaeudeartLevel2Name\": \"Sonstige Hochbauten\", \"sum_AnzGbd\": 4753, \"sum_Rauminhalt\": 1521592, \"sum_Grundflaeche\": 152461}, {\"Jahr\": \"2009-01-01T00:00:00\", \"GebaeudeartLevel2Name\": \"Schul- und Hochschulgeb\\u00e4ude, Forschungseinrichtungen\", \"sum_AnzGbd\": 812, \"sum_Rauminhalt\": 9282072, \"sum_Grundflaeche\": 565133}, {\"Jahr\": \"2009-01-01T00:00:00\", \"GebaeudeartLevel2Name\": \"Museen und Bibliotheken\", \"sum_AnzGbd\": 43, \"sum_Rauminhalt\": 493592, \"sum_Grundflaeche\": 26561}, {\"Jahr\": \"2009-01-01T00:00:00\", \"GebaeudeartLevel2Name\": \"Krankenh\\u00e4user und Facheinrichtungen des Gesundheitswesens\", \"sum_AnzGbd\": 270, \"sum_Rauminhalt\": 3582846, \"sum_Grundflaeche\": 191110}, {\"Jahr\": \"2009-01-01T00:00:00\", \"GebaeudeartLevel2Name\": \"Kirchen und sonstige Kultgeb\\u00e4ude\", \"sum_AnzGbd\": 245, \"sum_Rauminhalt\": 1476105, \"sum_Grundflaeche\": 113805}, {\"Jahr\": \"2009-01-01T00:00:00\", \"GebaeudeartLevel2Name\": \"Hotelgeb\\u00e4ude\", \"sum_AnzGbd\": 288, \"sum_Rauminhalt\": 2430283, \"sum_Grundflaeche\": 134288}, {\"Jahr\": \"2009-01-01T00:00:00\", \"GebaeudeartLevel2Name\": \"Landwirtschaftliche Betriebsgeb\\u00e4ude\", \"sum_AnzGbd\": 452, \"sum_Rauminhalt\": 468864, \"sum_Grundflaeche\": 82447}, {\"Jahr\": \"2009-01-01T00:00:00\", \"GebaeudeartLevel2Name\": \"Geb\\u00e4ude mit mehr als 2 Wohnungen\", \"sum_AnzGbd\": 23837, \"sum_Rauminhalt\": 77708422, \"sum_Grundflaeche\": 5070238}, {\"Jahr\": \"2009-01-01T00:00:00\", \"GebaeudeartLevel2Name\": \"Beh\\u00e4lter, Silos, Lagergeb\\u00e4ude\", \"sum_AnzGbd\": 596, \"sum_Rauminhalt\": 2353201, \"sum_Grundflaeche\": 208329}, {\"Jahr\": \"2009-01-01T00:00:00\", \"GebaeudeartLevel2Name\": \"B\\u00fcrogeb\\u00e4ude\", \"sum_AnzGbd\": 3027, \"sum_Rauminhalt\": 41231308, \"sum_Grundflaeche\": 1851744}, {\"Jahr\": \"2009-01-01T00:00:00\", \"GebaeudeartLevel2Name\": \"Garagengeb\\u00e4ude\", \"sum_AnzGbd\": 5542, \"sum_Rauminhalt\": 6171257, \"sum_Grundflaeche\": 183867}, {\"Jahr\": \"2009-01-01T00:00:00\", \"GebaeudeartLevel2Name\": \"Geb\\u00e4ude des Nachrichtenwesens, Bahnh\\u00f6fe\", \"sum_AnzGbd\": 219, \"sum_Rauminhalt\": 3094201, \"sum_Grundflaeche\": 193129}, {\"Jahr\": \"2009-01-01T00:00:00\", \"GebaeudeartLevel2Name\": \"Andere Geb\\u00e4ude f\\u00fcr kurzfristige Beherbergung\", \"sum_AnzGbd\": 99, \"sum_Rauminhalt\": 220007, \"sum_Grundflaeche\": 14103}, {\"Jahr\": \"2009-01-01T00:00:00\", \"GebaeudeartLevel2Name\": \"Geb\\u00e4ude f\\u00fcr Kultur- und Freizeitzwecke\", \"sum_AnzGbd\": 141, \"sum_Rauminhalt\": 1140888, \"sum_Grundflaeche\": 82357}, {\"Jahr\": \"2009-01-01T00:00:00\", \"GebaeudeartLevel2Name\": \"Geb\\u00e4ude mit 2 Wohnungen\", \"sum_AnzGbd\": 1274, \"sum_Rauminhalt\": 1491573, \"sum_Grundflaeche\": 144680}, {\"Jahr\": \"2009-01-01T00:00:00\", \"GebaeudeartLevel2Name\": \"Geb\\u00e4ude mit einer Wohnung\", \"sum_AnzGbd\": 9757, \"sum_Rauminhalt\": 6657687, \"sum_Grundflaeche\": 741418}, {\"Jahr\": \"2009-01-01T00:00:00\", \"GebaeudeartLevel2Name\": \"Gross- und Einzelhandelsgeb\\u00e4ude\", \"sum_AnzGbd\": 371, \"sum_Rauminhalt\": 1623146, \"sum_Grundflaeche\": 101543}, {\"Jahr\": \"2010-01-01T00:00:00\", \"GebaeudeartLevel2Name\": \"Hotelgeb\\u00e4ude\", \"sum_AnzGbd\": 295, \"sum_Rauminhalt\": 2488771, \"sum_Grundflaeche\": 136285}, {\"Jahr\": \"2010-01-01T00:00:00\", \"GebaeudeartLevel2Name\": \"Sporthallen\", \"sum_AnzGbd\": 401, \"sum_Rauminhalt\": 2070009, \"sum_Grundflaeche\": 200275}, {\"Jahr\": \"2010-01-01T00:00:00\", \"GebaeudeartLevel2Name\": \"Sonstige Hochbauten\", \"sum_AnzGbd\": 4841, \"sum_Rauminhalt\": 1622834, \"sum_Grundflaeche\": 143474}, {\"Jahr\": \"2010-01-01T00:00:00\", \"GebaeudeartLevel2Name\": \"Schul- und Hochschulgeb\\u00e4ude, Forschungseinrichtungen\", \"sum_AnzGbd\": 817, \"sum_Rauminhalt\": 9385017, \"sum_Grundflaeche\": 567517}, {\"Jahr\": \"2010-01-01T00:00:00\", \"GebaeudeartLevel2Name\": \"Museen und Bibliotheken\", \"sum_AnzGbd\": 43, \"sum_Rauminhalt\": 502006, \"sum_Grundflaeche\": 26753}, {\"Jahr\": \"2010-01-01T00:00:00\", \"GebaeudeartLevel2Name\": \"Landwirtschaftliche Betriebsgeb\\u00e4ude\", \"sum_AnzGbd\": 444, \"sum_Rauminhalt\": 466495, \"sum_Grundflaeche\": 83827}, {\"Jahr\": \"2010-01-01T00:00:00\", \"GebaeudeartLevel2Name\": \"Krankenh\\u00e4user und Facheinrichtungen des Gesundheitswesens\", \"sum_AnzGbd\": 273, \"sum_Rauminhalt\": 3598141, \"sum_Grundflaeche\": 191541}, {\"Jahr\": \"2010-01-01T00:00:00\", \"GebaeudeartLevel2Name\": \"Kirchen und sonstige Kultgeb\\u00e4ude\", \"sum_AnzGbd\": 244, \"sum_Rauminhalt\": 1445295, \"sum_Grundflaeche\": 112493}, {\"Jahr\": \"2010-01-01T00:00:00\", \"GebaeudeartLevel2Name\": \"Industriegeb\\u00e4ude\", \"sum_AnzGbd\": 1403, \"sum_Rauminhalt\": 7225378, \"sum_Grundflaeche\": 589574}, {\"Jahr\": \"2010-01-01T00:00:00\", \"GebaeudeartLevel2Name\": \"Wohngeb\\u00e4ude f\\u00fcr Gemeinschaften\", \"sum_AnzGbd\": 367, \"sum_Rauminhalt\": 2400585, \"sum_Grundflaeche\": 150204}, {\"Jahr\": \"2010-01-01T00:00:00\", \"GebaeudeartLevel2Name\": \"Gross- und Einzelhandelsgeb\\u00e4ude\", \"sum_AnzGbd\": 402, \"sum_Rauminhalt\": 1713170, \"sum_Grundflaeche\": 107354}, {\"Jahr\": \"2010-01-01T00:00:00\", \"GebaeudeartLevel2Name\": \"Geb\\u00e4ude mit einer Wohnung\", \"sum_AnzGbd\": 9711, \"sum_Rauminhalt\": 6657212, \"sum_Grundflaeche\": 737633}, {\"Jahr\": \"2010-01-01T00:00:00\", \"GebaeudeartLevel2Name\": \"Geb\\u00e4ude mit 2 Wohnungen\", \"sum_AnzGbd\": 1268, \"sum_Rauminhalt\": 1496808, \"sum_Grundflaeche\": 144637}, {\"Jahr\": \"2010-01-01T00:00:00\", \"GebaeudeartLevel2Name\": \"Geb\\u00e4ude f\\u00fcr Kultur- und Freizeitzwecke\", \"sum_AnzGbd\": 145, \"sum_Rauminhalt\": 1162012, \"sum_Grundflaeche\": 82877}, {\"Jahr\": \"2010-01-01T00:00:00\", \"GebaeudeartLevel2Name\": \"Geb\\u00e4ude des Nachrichtenwesens, Bahnh\\u00f6fe\", \"sum_AnzGbd\": 215, \"sum_Rauminhalt\": 2759680, \"sum_Grundflaeche\": 171909}, {\"Jahr\": \"2010-01-01T00:00:00\", \"GebaeudeartLevel2Name\": \"Garagengeb\\u00e4ude\", \"sum_AnzGbd\": 5549, \"sum_Rauminhalt\": 6427229, \"sum_Grundflaeche\": 183374}, {\"Jahr\": \"2010-01-01T00:00:00\", \"GebaeudeartLevel2Name\": \"B\\u00fcrogeb\\u00e4ude\", \"sum_AnzGbd\": 2997, \"sum_Rauminhalt\": 40919167, \"sum_Grundflaeche\": 1834859}, {\"Jahr\": \"2010-01-01T00:00:00\", \"GebaeudeartLevel2Name\": \"Beh\\u00e4lter, Silos, Lagergeb\\u00e4ude\", \"sum_AnzGbd\": 578, \"sum_Rauminhalt\": 2348309, \"sum_Grundflaeche\": 210821}, {\"Jahr\": \"2010-01-01T00:00:00\", \"GebaeudeartLevel2Name\": \"Andere Geb\\u00e4ude f\\u00fcr kurzfristige Beherbergung\", \"sum_AnzGbd\": 98, \"sum_Rauminhalt\": 216012, \"sum_Grundflaeche\": 13868}, {\"Jahr\": \"2010-01-01T00:00:00\", \"GebaeudeartLevel2Name\": \"Geb\\u00e4ude mit mehr als 2 Wohnungen\", \"sum_AnzGbd\": 23821, \"sum_Rauminhalt\": 78266656, \"sum_Grundflaeche\": 5084390}, {\"Jahr\": \"2011-01-01T00:00:00\", \"GebaeudeartLevel2Name\": \"Kirchen und sonstige Kultgeb\\u00e4ude\", \"sum_AnzGbd\": 245, \"sum_Rauminhalt\": 1449268, \"sum_Grundflaeche\": 113136}, {\"Jahr\": \"2011-01-01T00:00:00\", \"GebaeudeartLevel2Name\": \"Krankenh\\u00e4user und Facheinrichtungen des Gesundheitswesens\", \"sum_AnzGbd\": 262, \"sum_Rauminhalt\": 3607588, \"sum_Grundflaeche\": 197463}, {\"Jahr\": \"2011-01-01T00:00:00\", \"GebaeudeartLevel2Name\": \"Museen und Bibliotheken\", \"sum_AnzGbd\": 46, \"sum_Rauminhalt\": 513002, \"sum_Grundflaeche\": 27467}, {\"Jahr\": \"2011-01-01T00:00:00\", \"GebaeudeartLevel2Name\": \"Industriegeb\\u00e4ude\", \"sum_AnzGbd\": 1448, \"sum_Rauminhalt\": 7560598, \"sum_Grundflaeche\": 600823}, {\"Jahr\": \"2011-01-01T00:00:00\", \"GebaeudeartLevel2Name\": \"Sonstige Hochbauten\", \"sum_AnzGbd\": 4851, \"sum_Rauminhalt\": 1477610, \"sum_Grundflaeche\": 131765}, {\"Jahr\": \"2011-01-01T00:00:00\", \"GebaeudeartLevel2Name\": \"Sporthallen\", \"sum_AnzGbd\": 402, \"sum_Rauminhalt\": 2073927, \"sum_Grundflaeche\": 200709}, {\"Jahr\": \"2011-01-01T00:00:00\", \"GebaeudeartLevel2Name\": \"Wohngeb\\u00e4ude f\\u00fcr Gemeinschaften\", \"sum_AnzGbd\": 454, \"sum_Rauminhalt\": 2735810, \"sum_Grundflaeche\": 174670}, {\"Jahr\": \"2011-01-01T00:00:00\", \"GebaeudeartLevel2Name\": \"Schul- und Hochschulgeb\\u00e4ude, Forschungseinrichtungen\", \"sum_AnzGbd\": 831, \"sum_Rauminhalt\": 9573449, \"sum_Grundflaeche\": 573174}, {\"Jahr\": \"2011-01-01T00:00:00\", \"GebaeudeartLevel2Name\": \"Hotelgeb\\u00e4ude\", \"sum_AnzGbd\": 298, \"sum_Rauminhalt\": 2701932, \"sum_Grundflaeche\": 140855}, {\"Jahr\": \"2011-01-01T00:00:00\", \"GebaeudeartLevel2Name\": \"Landwirtschaftliche Betriebsgeb\\u00e4ude\", \"sum_AnzGbd\": 441, \"sum_Rauminhalt\": 482735, \"sum_Grundflaeche\": 84751}, {\"Jahr\": \"2011-01-01T00:00:00\", \"GebaeudeartLevel2Name\": \"Geb\\u00e4ude mit mehr als 2 Wohnungen\", \"sum_AnzGbd\": 23914, \"sum_Rauminhalt\": 79127299, \"sum_Grundflaeche\": 5125164}, {\"Jahr\": \"2011-01-01T00:00:00\", \"GebaeudeartLevel2Name\": \"Andere Geb\\u00e4ude f\\u00fcr kurzfristige Beherbergung\", \"sum_AnzGbd\": 98, \"sum_Rauminhalt\": 271429, \"sum_Grundflaeche\": 16925}, {\"Jahr\": \"2011-01-01T00:00:00\", \"GebaeudeartLevel2Name\": \"Beh\\u00e4lter, Silos, Lagergeb\\u00e4ude\", \"sum_AnzGbd\": 553, \"sum_Rauminhalt\": 2212092, \"sum_Grundflaeche\": 202557}, {\"Jahr\": \"2011-01-01T00:00:00\", \"GebaeudeartLevel2Name\": \"B\\u00fcrogeb\\u00e4ude\", \"sum_AnzGbd\": 3072, \"sum_Rauminhalt\": 41410102, \"sum_Grundflaeche\": 1845797}, {\"Jahr\": \"2011-01-01T00:00:00\", \"GebaeudeartLevel2Name\": \"Garagengeb\\u00e4ude\", \"sum_AnzGbd\": 5537, \"sum_Rauminhalt\": 6637499, \"sum_Grundflaeche\": 183120}, {\"Jahr\": \"2011-01-01T00:00:00\", \"GebaeudeartLevel2Name\": \"Gross- und Einzelhandelsgeb\\u00e4ude\", \"sum_AnzGbd\": 397, \"sum_Rauminhalt\": 1736441, \"sum_Grundflaeche\": 107550}, {\"Jahr\": \"2011-01-01T00:00:00\", \"GebaeudeartLevel2Name\": \"Geb\\u00e4ude f\\u00fcr Kultur- und Freizeitzwecke\", \"sum_AnzGbd\": 150, \"sum_Rauminhalt\": 1231525, \"sum_Grundflaeche\": 88393}, {\"Jahr\": \"2011-01-01T00:00:00\", \"GebaeudeartLevel2Name\": \"Geb\\u00e4ude mit 2 Wohnungen\", \"sum_AnzGbd\": 1060, \"sum_Rauminhalt\": 1258010, \"sum_Grundflaeche\": 121518}, {\"Jahr\": \"2011-01-01T00:00:00\", \"GebaeudeartLevel2Name\": \"Geb\\u00e4ude mit einer Wohnung\", \"sum_AnzGbd\": 9744, \"sum_Rauminhalt\": 6745368, \"sum_Grundflaeche\": 744502}, {\"Jahr\": \"2011-01-01T00:00:00\", \"GebaeudeartLevel2Name\": \"Geb\\u00e4ude des Nachrichtenwesens, Bahnh\\u00f6fe\", \"sum_AnzGbd\": 282, \"sum_Rauminhalt\": 2970998, \"sum_Grundflaeche\": 171271}, {\"Jahr\": \"2012-01-01T00:00:00\", \"GebaeudeartLevel2Name\": \"Kirchen und sonstige Kultgeb\\u00e4ude\", \"sum_AnzGbd\": 246, \"sum_Rauminhalt\": 1481919, \"sum_Grundflaeche\": 114388}, {\"Jahr\": \"2012-01-01T00:00:00\", \"GebaeudeartLevel2Name\": \"Wohngeb\\u00e4ude f\\u00fcr Gemeinschaften\", \"sum_AnzGbd\": 499, \"sum_Rauminhalt\": 2938471, \"sum_Grundflaeche\": 186466}, {\"Jahr\": \"2012-01-01T00:00:00\", \"GebaeudeartLevel2Name\": \"Sporthallen\", \"sum_AnzGbd\": 397, \"sum_Rauminhalt\": 2071241, \"sum_Grundflaeche\": 199159}, {\"Jahr\": \"2012-01-01T00:00:00\", \"GebaeudeartLevel2Name\": \"Sonstige Hochbauten\", \"sum_AnzGbd\": 4867, \"sum_Rauminhalt\": 1447395, \"sum_Grundflaeche\": 128400}, {\"Jahr\": \"2012-01-01T00:00:00\", \"GebaeudeartLevel2Name\": \"Schul- und Hochschulgeb\\u00e4ude, Forschungseinrichtungen\", \"sum_AnzGbd\": 833, \"sum_Rauminhalt\": 9833508, \"sum_Grundflaeche\": 582757}, {\"Jahr\": \"2012-01-01T00:00:00\", \"GebaeudeartLevel2Name\": \"Museen und Bibliotheken\", \"sum_AnzGbd\": 45, \"sum_Rauminhalt\": 512204, \"sum_Grundflaeche\": 27160}, {\"Jahr\": \"2012-01-01T00:00:00\", \"GebaeudeartLevel2Name\": \"Landwirtschaftliche Betriebsgeb\\u00e4ude\", \"sum_AnzGbd\": 435, \"sum_Rauminhalt\": 476433, \"sum_Grundflaeche\": 85060}, {\"Jahr\": \"2012-01-01T00:00:00\", \"GebaeudeartLevel2Name\": \"Krankenh\\u00e4user und Facheinrichtungen des Gesundheitswesens\", \"sum_AnzGbd\": 262, \"sum_Rauminhalt\": 3590609, \"sum_Grundflaeche\": 196917}, {\"Jahr\": \"2012-01-01T00:00:00\", \"GebaeudeartLevel2Name\": \"Industriegeb\\u00e4ude\", \"sum_AnzGbd\": 1433, \"sum_Rauminhalt\": 7662287, \"sum_Grundflaeche\": 603018}, {\"Jahr\": \"2012-01-01T00:00:00\", \"GebaeudeartLevel2Name\": \"Hotelgeb\\u00e4ude\", \"sum_AnzGbd\": 293, \"sum_Rauminhalt\": 2725071, \"sum_Grundflaeche\": 142560}, {\"Jahr\": \"2012-01-01T00:00:00\", \"GebaeudeartLevel2Name\": \"Gross- und Einzelhandelsgeb\\u00e4ude\", \"sum_AnzGbd\": 389, \"sum_Rauminhalt\": 1744648, \"sum_Grundflaeche\": 106718}, {\"Jahr\": \"2012-01-01T00:00:00\", \"GebaeudeartLevel2Name\": \"Geb\\u00e4ude mit mehr als 2 Wohnungen\", \"sum_AnzGbd\": 23937, \"sum_Rauminhalt\": 80599109, \"sum_Grundflaeche\": 5175569}, {\"Jahr\": \"2012-01-01T00:00:00\", \"GebaeudeartLevel2Name\": \"Geb\\u00e4ude mit einer Wohnung\", \"sum_AnzGbd\": 9774, \"sum_Rauminhalt\": 6789497, \"sum_Grundflaeche\": 746947}, {\"Jahr\": \"2012-01-01T00:00:00\", \"GebaeudeartLevel2Name\": \"Geb\\u00e4ude mit 2 Wohnungen\", \"sum_AnzGbd\": 1065, \"sum_Rauminhalt\": 1266542, \"sum_Grundflaeche\": 121965}, {\"Jahr\": \"2012-01-01T00:00:00\", \"GebaeudeartLevel2Name\": \"Geb\\u00e4ude f\\u00fcr Kultur- und Freizeitzwecke\", \"sum_AnzGbd\": 149, \"sum_Rauminhalt\": 1201267, \"sum_Grundflaeche\": 87672}, {\"Jahr\": \"2012-01-01T00:00:00\", \"GebaeudeartLevel2Name\": \"Geb\\u00e4ude des Nachrichtenwesens, Bahnh\\u00f6fe\", \"sum_AnzGbd\": 307, \"sum_Rauminhalt\": 2866988, \"sum_Grundflaeche\": 165369}, {\"Jahr\": \"2012-01-01T00:00:00\", \"GebaeudeartLevel2Name\": \"Garagengeb\\u00e4ude\", \"sum_AnzGbd\": 5538, \"sum_Rauminhalt\": 6840734, \"sum_Grundflaeche\": 181772}, {\"Jahr\": \"2012-01-01T00:00:00\", \"GebaeudeartLevel2Name\": \"B\\u00fcrogeb\\u00e4ude\", \"sum_AnzGbd\": 3050, \"sum_Rauminhalt\": 49227942, \"sum_Grundflaeche\": 1840141}, {\"Jahr\": \"2012-01-01T00:00:00\", \"GebaeudeartLevel2Name\": \"Beh\\u00e4lter, Silos, Lagergeb\\u00e4ude\", \"sum_AnzGbd\": 538, \"sum_Rauminhalt\": 2133432, \"sum_Grundflaeche\": 193051}, {\"Jahr\": \"2012-01-01T00:00:00\", \"GebaeudeartLevel2Name\": \"Andere Geb\\u00e4ude f\\u00fcr kurzfristige Beherbergung\", \"sum_AnzGbd\": 95, \"sum_Rauminhalt\": 306879, \"sum_Grundflaeche\": 18363}, {\"Jahr\": \"2013-01-01T00:00:00\", \"GebaeudeartLevel2Name\": \"Industriegeb\\u00e4ude\", \"sum_AnzGbd\": 1430, \"sum_Rauminhalt\": 7771961, \"sum_Grundflaeche\": 599591}, {\"Jahr\": \"2013-01-01T00:00:00\", \"GebaeudeartLevel2Name\": \"Kirchen und sonstige Kultgeb\\u00e4ude\", \"sum_AnzGbd\": 246, \"sum_Rauminhalt\": 1464689, \"sum_Grundflaeche\": 116298}, {\"Jahr\": \"2013-01-01T00:00:00\", \"GebaeudeartLevel2Name\": \"Krankenh\\u00e4user und Facheinrichtungen des Gesundheitswesens\", \"sum_AnzGbd\": 261, \"sum_Rauminhalt\": 3674773, \"sum_Grundflaeche\": 196309}, {\"Jahr\": \"2013-01-01T00:00:00\", \"GebaeudeartLevel2Name\": \"Landwirtschaftliche Betriebsgeb\\u00e4ude\", \"sum_AnzGbd\": 432, \"sum_Rauminhalt\": 477816, \"sum_Grundflaeche\": 84037}, {\"Jahr\": \"2013-01-01T00:00:00\", \"GebaeudeartLevel2Name\": \"Sporthallen\", \"sum_AnzGbd\": 394, \"sum_Rauminhalt\": 2096511, \"sum_Grundflaeche\": 198568}, {\"Jahr\": \"2013-01-01T00:00:00\", \"GebaeudeartLevel2Name\": \"Schul- und Hochschulgeb\\u00e4ude, Forschungseinrichtungen\", \"sum_AnzGbd\": 835, \"sum_Rauminhalt\": 10209163, \"sum_Grundflaeche\": 585363}, {\"Jahr\": \"2013-01-01T00:00:00\", \"GebaeudeartLevel2Name\": \"Sonstige Hochbauten\", \"sum_AnzGbd\": 4872, \"sum_Rauminhalt\": 1409314, \"sum_Grundflaeche\": 127766}, {\"Jahr\": \"2013-01-01T00:00:00\", \"GebaeudeartLevel2Name\": \"Hotelgeb\\u00e4ude\", \"sum_AnzGbd\": 291, \"sum_Rauminhalt\": 2730939, \"sum_Grundflaeche\": 140127}, {\"Jahr\": \"2013-01-01T00:00:00\", \"GebaeudeartLevel2Name\": \"Museen und Bibliotheken\", \"sum_AnzGbd\": 46, \"sum_Rauminhalt\": 534501, \"sum_Grundflaeche\": 27527}, {\"Jahr\": \"2013-01-01T00:00:00\", \"GebaeudeartLevel2Name\": \"Wohngeb\\u00e4ude f\\u00fcr Gemeinschaften\", \"sum_AnzGbd\": 504, \"sum_Rauminhalt\": 2971978, \"sum_Grundflaeche\": 189345}, {\"Jahr\": \"2013-01-01T00:00:00\", \"GebaeudeartLevel2Name\": \"Gross- und Einzelhandelsgeb\\u00e4ude\", \"sum_AnzGbd\": 383, \"sum_Rauminhalt\": 1746099, \"sum_Grundflaeche\": 106539}, {\"Jahr\": \"2013-01-01T00:00:00\", \"GebaeudeartLevel2Name\": \"Geb\\u00e4ude mit einer Wohnung\", \"sum_AnzGbd\": 9775, \"sum_Rauminhalt\": 6754846, \"sum_Grundflaeche\": 747148}, {\"Jahr\": \"2013-01-01T00:00:00\", \"GebaeudeartLevel2Name\": \"Andere Geb\\u00e4ude f\\u00fcr kurzfristige Beherbergung\", \"sum_AnzGbd\": 86, \"sum_Rauminhalt\": 307872, \"sum_Grundflaeche\": 18080}, {\"Jahr\": \"2013-01-01T00:00:00\", \"GebaeudeartLevel2Name\": \"Beh\\u00e4lter, Silos, Lagergeb\\u00e4ude\", \"sum_AnzGbd\": 516, \"sum_Rauminhalt\": 1943373, \"sum_Grundflaeche\": 162741}, {\"Jahr\": \"2013-01-01T00:00:00\", \"GebaeudeartLevel2Name\": \"B\\u00fcrogeb\\u00e4ude\", \"sum_AnzGbd\": 3035, \"sum_Rauminhalt\": 41978913, \"sum_Grundflaeche\": 1837159}, {\"Jahr\": \"2013-01-01T00:00:00\", \"GebaeudeartLevel2Name\": \"Geb\\u00e4ude mit mehr als 2 Wohnungen\", \"sum_AnzGbd\": 24032, \"sum_Rauminhalt\": 81982183, \"sum_Grundflaeche\": 5229731}, {\"Jahr\": \"2013-01-01T00:00:00\", \"GebaeudeartLevel2Name\": \"Geb\\u00e4ude des Nachrichtenwesens, Bahnh\\u00f6fe\", \"sum_AnzGbd\": 325, \"sum_Rauminhalt\": 2871836, \"sum_Grundflaeche\": 154038}, {\"Jahr\": \"2013-01-01T00:00:00\", \"GebaeudeartLevel2Name\": \"Geb\\u00e4ude f\\u00fcr Kultur- und Freizeitzwecke\", \"sum_AnzGbd\": 147, \"sum_Rauminhalt\": 1193736, \"sum_Grundflaeche\": 87326}, {\"Jahr\": \"2013-01-01T00:00:00\", \"GebaeudeartLevel2Name\": \"Geb\\u00e4ude mit 2 Wohnungen\", \"sum_AnzGbd\": 1070, \"sum_Rauminhalt\": 1278858, \"sum_Grundflaeche\": 122105}, {\"Jahr\": \"2013-01-01T00:00:00\", \"GebaeudeartLevel2Name\": \"Garagengeb\\u00e4ude\", \"sum_AnzGbd\": 5543, \"sum_Rauminhalt\": 7051531, \"sum_Grundflaeche\": 178518}, {\"Jahr\": \"2014-01-01T00:00:00\", \"GebaeudeartLevel2Name\": \"Industriegeb\\u00e4ude\", \"sum_AnzGbd\": 1416, \"sum_Rauminhalt\": 7651265, \"sum_Grundflaeche\": 588392}, {\"Jahr\": \"2014-01-01T00:00:00\", \"GebaeudeartLevel2Name\": \"Sporthallen\", \"sum_AnzGbd\": 390, \"sum_Rauminhalt\": 2042718, \"sum_Grundflaeche\": 193644}, {\"Jahr\": \"2014-01-01T00:00:00\", \"GebaeudeartLevel2Name\": \"Sonstige Hochbauten\", \"sum_AnzGbd\": 4948, \"sum_Rauminhalt\": 1359745, \"sum_Grundflaeche\": 124240}, {\"Jahr\": \"2014-01-01T00:00:00\", \"GebaeudeartLevel2Name\": \"Schul- und Hochschulgeb\\u00e4ude, Forschungseinrichtungen\", \"sum_AnzGbd\": 834, \"sum_Rauminhalt\": 11119888, \"sum_Grundflaeche\": 599783}, {\"Jahr\": \"2014-01-01T00:00:00\", \"GebaeudeartLevel2Name\": \"Museen und Bibliotheken\", \"sum_AnzGbd\": 45, \"sum_Rauminhalt\": 533180, \"sum_Grundflaeche\": 27385}, {\"Jahr\": \"2014-01-01T00:00:00\", \"GebaeudeartLevel2Name\": \"Landwirtschaftliche Betriebsgeb\\u00e4ude\", \"sum_AnzGbd\": 431, \"sum_Rauminhalt\": 478348, \"sum_Grundflaeche\": 84533}, {\"Jahr\": \"2014-01-01T00:00:00\", \"GebaeudeartLevel2Name\": \"Krankenh\\u00e4user und Facheinrichtungen des Gesundheitswesens\", \"sum_AnzGbd\": 263, \"sum_Rauminhalt\": 3828258, \"sum_Grundflaeche\": 196322}, {\"Jahr\": \"2014-01-01T00:00:00\", \"GebaeudeartLevel2Name\": \"Kirchen und sonstige Kultgeb\\u00e4ude\", \"sum_AnzGbd\": 245, \"sum_Rauminhalt\": 1460642, \"sum_Grundflaeche\": 114620}, {\"Jahr\": \"2014-01-01T00:00:00\", \"GebaeudeartLevel2Name\": \"Wohngeb\\u00e4ude f\\u00fcr Gemeinschaften\", \"sum_AnzGbd\": 504, \"sum_Rauminhalt\": 3077910, \"sum_Grundflaeche\": 194393}, {\"Jahr\": \"2014-01-01T00:00:00\", \"GebaeudeartLevel2Name\": \"Hotelgeb\\u00e4ude\", \"sum_AnzGbd\": 291, \"sum_Rauminhalt\": 2715095, \"sum_Grundflaeche\": 140606}, {\"Jahr\": \"2014-01-01T00:00:00\", \"GebaeudeartLevel2Name\": \"Geb\\u00e4ude mit mehr als 2 Wohnungen\", \"sum_AnzGbd\": 24006, \"sum_Rauminhalt\": 83184492, \"sum_Grundflaeche\": 5265583}, {\"Jahr\": \"2014-01-01T00:00:00\", \"GebaeudeartLevel2Name\": \"Geb\\u00e4ude mit einer Wohnung\", \"sum_AnzGbd\": 9667, \"sum_Rauminhalt\": 6735480, \"sum_Grundflaeche\": 743159}, {\"Jahr\": \"2014-01-01T00:00:00\", \"GebaeudeartLevel2Name\": \"Geb\\u00e4ude mit 2 Wohnungen\", \"sum_AnzGbd\": 1071, \"sum_Rauminhalt\": 1288205, \"sum_Grundflaeche\": 122655}, {\"Jahr\": \"2014-01-01T00:00:00\", \"GebaeudeartLevel2Name\": \"Geb\\u00e4ude f\\u00fcr Kultur- und Freizeitzwecke\", \"sum_AnzGbd\": 150, \"sum_Rauminhalt\": 1226769, \"sum_Grundflaeche\": 93091}, {\"Jahr\": \"2014-01-01T00:00:00\", \"GebaeudeartLevel2Name\": \"Geb\\u00e4ude des Nachrichtenwesens, Bahnh\\u00f6fe\", \"sum_AnzGbd\": 352, \"sum_Rauminhalt\": 2882007, \"sum_Grundflaeche\": 153893}, {\"Jahr\": \"2014-01-01T00:00:00\", \"GebaeudeartLevel2Name\": \"Garagengeb\\u00e4ude\", \"sum_AnzGbd\": 5539, \"sum_Rauminhalt\": 7136142, \"sum_Grundflaeche\": 178637}, {\"Jahr\": \"2014-01-01T00:00:00\", \"GebaeudeartLevel2Name\": \"B\\u00fcrogeb\\u00e4ude\", \"sum_AnzGbd\": 3042, \"sum_Rauminhalt\": 42497761, \"sum_Grundflaeche\": 1847097}, {\"Jahr\": \"2014-01-01T00:00:00\", \"GebaeudeartLevel2Name\": \"Beh\\u00e4lter, Silos, Lagergeb\\u00e4ude\", \"sum_AnzGbd\": 506, \"sum_Rauminhalt\": 1861836, \"sum_Grundflaeche\": 158604}, {\"Jahr\": \"2014-01-01T00:00:00\", \"GebaeudeartLevel2Name\": \"Andere Geb\\u00e4ude f\\u00fcr kurzfristige Beherbergung\", \"sum_AnzGbd\": 81, \"sum_Rauminhalt\": 309551, \"sum_Grundflaeche\": 17622}, {\"Jahr\": \"2014-01-01T00:00:00\", \"GebaeudeartLevel2Name\": \"Gross- und Einzelhandelsgeb\\u00e4ude\", \"sum_AnzGbd\": 374, \"sum_Rauminhalt\": 1749434, \"sum_Grundflaeche\": 106755}, {\"Jahr\": \"2015-01-01T00:00:00\", \"GebaeudeartLevel2Name\": \"Kirchen und sonstige Kultgeb\\u00e4ude\", \"sum_AnzGbd\": 247, \"sum_Rauminhalt\": 1477387, \"sum_Grundflaeche\": 116278}, {\"Jahr\": \"2015-01-01T00:00:00\", \"GebaeudeartLevel2Name\": \"Krankenh\\u00e4user und Facheinrichtungen des Gesundheitswesens\", \"sum_AnzGbd\": 262, \"sum_Rauminhalt\": 3837665, \"sum_Grundflaeche\": 195780}, {\"Jahr\": \"2015-01-01T00:00:00\", \"GebaeudeartLevel2Name\": \"Landwirtschaftliche Betriebsgeb\\u00e4ude\", \"sum_AnzGbd\": 433, \"sum_Rauminhalt\": 488995, \"sum_Grundflaeche\": 85223}, {\"Jahr\": \"2015-01-01T00:00:00\", \"GebaeudeartLevel2Name\": \"Museen und Bibliotheken\", \"sum_AnzGbd\": 46, \"sum_Rauminhalt\": 522761, \"sum_Grundflaeche\": 27524}, {\"Jahr\": \"2015-01-01T00:00:00\", \"GebaeudeartLevel2Name\": \"Industriegeb\\u00e4ude\", \"sum_AnzGbd\": 1378, \"sum_Rauminhalt\": 7396418, \"sum_Grundflaeche\": 552443}, {\"Jahr\": \"2015-01-01T00:00:00\", \"GebaeudeartLevel2Name\": \"Sonstige Hochbauten\", \"sum_AnzGbd\": 5000, \"sum_Rauminhalt\": 1347561, \"sum_Grundflaeche\": 122609}, {\"Jahr\": \"2015-01-01T00:00:00\", \"GebaeudeartLevel2Name\": \"Sporthallen\", \"sum_AnzGbd\": 386, \"sum_Rauminhalt\": 2059024, \"sum_Grundflaeche\": 194295}, {\"Jahr\": \"2015-01-01T00:00:00\", \"GebaeudeartLevel2Name\": \"Wohngeb\\u00e4ude f\\u00fcr Gemeinschaften\", \"sum_AnzGbd\": 514, \"sum_Rauminhalt\": 3113526, \"sum_Grundflaeche\": 195941}, {\"Jahr\": \"2015-01-01T00:00:00\", \"GebaeudeartLevel2Name\": \"Schul- und Hochschulgeb\\u00e4ude, Forschungseinrichtungen\", \"sum_AnzGbd\": 847, \"sum_Rauminhalt\": 11730899, \"sum_Grundflaeche\": 623744}, {\"Jahr\": \"2015-01-01T00:00:00\", \"GebaeudeartLevel2Name\": \"Hotelgeb\\u00e4ude\", \"sum_AnzGbd\": 282, \"sum_Rauminhalt\": 2679255, \"sum_Grundflaeche\": 138507}, {\"Jahr\": \"2015-01-01T00:00:00\", \"GebaeudeartLevel2Name\": \"Andere Geb\\u00e4ude f\\u00fcr kurzfristige Beherbergung\", \"sum_AnzGbd\": 73, \"sum_Rauminhalt\": 315829, \"sum_Grundflaeche\": 16733}, {\"Jahr\": \"2015-01-01T00:00:00\", \"GebaeudeartLevel2Name\": \"Geb\\u00e4ude mit mehr als 2 Wohnungen\", \"sum_AnzGbd\": 24107, \"sum_Rauminhalt\": 85282560, \"sum_Grundflaeche\": 5340352}, {\"Jahr\": \"2015-01-01T00:00:00\", \"GebaeudeartLevel2Name\": \"Beh\\u00e4lter, Silos, Lagergeb\\u00e4ude\", \"sum_AnzGbd\": 486, \"sum_Rauminhalt\": 1794345, \"sum_Grundflaeche\": 147329}, {\"Jahr\": \"2015-01-01T00:00:00\", \"GebaeudeartLevel2Name\": \"B\\u00fcrogeb\\u00e4ude\", \"sum_AnzGbd\": 3053, \"sum_Rauminhalt\": 42448405, \"sum_Grundflaeche\": 1836913}, {\"Jahr\": \"2015-01-01T00:00:00\", \"GebaeudeartLevel2Name\": \"Garagengeb\\u00e4ude\", \"sum_AnzGbd\": 5541, \"sum_Rauminhalt\": 7392487, \"sum_Grundflaeche\": 172770}, {\"Jahr\": \"2015-01-01T00:00:00\", \"GebaeudeartLevel2Name\": \"Gross- und Einzelhandelsgeb\\u00e4ude\", \"sum_AnzGbd\": 371, \"sum_Rauminhalt\": 1762483, \"sum_Grundflaeche\": 106942}, {\"Jahr\": \"2015-01-01T00:00:00\", \"GebaeudeartLevel2Name\": \"Geb\\u00e4ude f\\u00fcr Kultur- und Freizeitzwecke\", \"sum_AnzGbd\": 170, \"sum_Rauminhalt\": 1423557, \"sum_Grundflaeche\": 104920}, {\"Jahr\": \"2015-01-01T00:00:00\", \"GebaeudeartLevel2Name\": \"Geb\\u00e4ude mit 2 Wohnungen\", \"sum_AnzGbd\": 1073, \"sum_Rauminhalt\": 1299144, \"sum_Grundflaeche\": 123579}, {\"Jahr\": \"2015-01-01T00:00:00\", \"GebaeudeartLevel2Name\": \"Geb\\u00e4ude mit einer Wohnung\", \"sum_AnzGbd\": 9656, \"sum_Rauminhalt\": 6758283, \"sum_Grundflaeche\": 742800}, {\"Jahr\": \"2015-01-01T00:00:00\", \"GebaeudeartLevel2Name\": \"Geb\\u00e4ude des Nachrichtenwesens, Bahnh\\u00f6fe\", \"sum_AnzGbd\": 366, \"sum_Rauminhalt\": 3089823, \"sum_Grundflaeche\": 166185}, {\"Jahr\": \"2016-01-01T00:00:00\", \"GebaeudeartLevel2Name\": \"Industriegeb\\u00e4ude\", \"sum_AnzGbd\": 1381, \"sum_Rauminhalt\": 6835712, \"sum_Grundflaeche\": 529435}, {\"Jahr\": \"2016-01-01T00:00:00\", \"GebaeudeartLevel2Name\": \"Sporthallen\", \"sum_AnzGbd\": 383, \"sum_Rauminhalt\": 2000537, \"sum_Grundflaeche\": 189576}, {\"Jahr\": \"2016-01-01T00:00:00\", \"GebaeudeartLevel2Name\": \"Sonstige Hochbauten\", \"sum_AnzGbd\": 4979, \"sum_Rauminhalt\": 1295756, \"sum_Grundflaeche\": 117727}, {\"Jahr\": \"2016-01-01T00:00:00\", \"GebaeudeartLevel2Name\": \"Schul- und Hochschulgeb\\u00e4ude, Forschungseinrichtungen\", \"sum_AnzGbd\": 854, \"sum_Rauminhalt\": 11804577, \"sum_Grundflaeche\": 627978}, {\"Jahr\": \"2016-01-01T00:00:00\", \"GebaeudeartLevel2Name\": \"Museen und Bibliotheken\", \"sum_AnzGbd\": 47, \"sum_Rauminhalt\": 657761, \"sum_Grundflaeche\": 29564}, {\"Jahr\": \"2016-01-01T00:00:00\", \"GebaeudeartLevel2Name\": \"Landwirtschaftliche Betriebsgeb\\u00e4ude\", \"sum_AnzGbd\": 431, \"sum_Rauminhalt\": 490929, \"sum_Grundflaeche\": 84946}, {\"Jahr\": \"2016-01-01T00:00:00\", \"GebaeudeartLevel2Name\": \"Krankenh\\u00e4user und Facheinrichtungen des Gesundheitswesens\", \"sum_AnzGbd\": 266, \"sum_Rauminhalt\": 4108020, \"sum_Grundflaeche\": 200719}, {\"Jahr\": \"2016-01-01T00:00:00\", \"GebaeudeartLevel2Name\": \"Kirchen und sonstige Kultgeb\\u00e4ude\", \"sum_AnzGbd\": 249, \"sum_Rauminhalt\": 1501519, \"sum_Grundflaeche\": 117948}, {\"Jahr\": \"2016-01-01T00:00:00\", \"GebaeudeartLevel2Name\": \"Hotelgeb\\u00e4ude\", \"sum_AnzGbd\": 284, \"sum_Rauminhalt\": 2668042, \"sum_Grundflaeche\": 138415}, {\"Jahr\": \"2016-01-01T00:00:00\", \"GebaeudeartLevel2Name\": \"Wohngeb\\u00e4ude f\\u00fcr Gemeinschaften\", \"sum_AnzGbd\": 535, \"sum_Rauminhalt\": 3414186, \"sum_Grundflaeche\": 215203}, {\"Jahr\": \"2016-01-01T00:00:00\", \"GebaeudeartLevel2Name\": \"Geb\\u00e4ude mit mehr als 2 Wohnungen\", \"sum_AnzGbd\": 24106, \"sum_Rauminhalt\": 85723949, \"sum_Grundflaeche\": 5370331}, {\"Jahr\": \"2016-01-01T00:00:00\", \"GebaeudeartLevel2Name\": \"Andere Geb\\u00e4ude f\\u00fcr kurzfristige Beherbergung\", \"sum_AnzGbd\": 80, \"sum_Rauminhalt\": 339644, \"sum_Grundflaeche\": 18001}, {\"Jahr\": \"2016-01-01T00:00:00\", \"GebaeudeartLevel2Name\": \"Beh\\u00e4lter, Silos, Lagergeb\\u00e4ude\", \"sum_AnzGbd\": 471, \"sum_Rauminhalt\": 1659494, \"sum_Grundflaeche\": 141811}, {\"Jahr\": \"2016-01-01T00:00:00\", \"GebaeudeartLevel2Name\": \"B\\u00fcrogeb\\u00e4ude\", \"sum_AnzGbd\": 3068, \"sum_Rauminhalt\": 43079976, \"sum_Grundflaeche\": 1869364}, {\"Jahr\": \"2016-01-01T00:00:00\", \"GebaeudeartLevel2Name\": \"Garagengeb\\u00e4ude\", \"sum_AnzGbd\": 5541, \"sum_Rauminhalt\": 7505883, \"sum_Grundflaeche\": 170289}, {\"Jahr\": \"2016-01-01T00:00:00\", \"GebaeudeartLevel2Name\": \"Gross- und Einzelhandelsgeb\\u00e4ude\", \"sum_AnzGbd\": 368, \"sum_Rauminhalt\": 1738073, \"sum_Grundflaeche\": 106355}, {\"Jahr\": \"2016-01-01T00:00:00\", \"GebaeudeartLevel2Name\": \"Geb\\u00e4ude f\\u00fcr Kultur- und Freizeitzwecke\", \"sum_AnzGbd\": 172, \"sum_Rauminhalt\": 1387153, \"sum_Grundflaeche\": 105232}, {\"Jahr\": \"2016-01-01T00:00:00\", \"GebaeudeartLevel2Name\": \"Geb\\u00e4ude mit 2 Wohnungen\", \"sum_AnzGbd\": 1071, \"sum_Rauminhalt\": 1295123, \"sum_Grundflaeche\": 123149}, {\"Jahr\": \"2016-01-01T00:00:00\", \"GebaeudeartLevel2Name\": \"Geb\\u00e4ude mit einer Wohnung\", \"sum_AnzGbd\": 9494, \"sum_Rauminhalt\": 6691404, \"sum_Grundflaeche\": 733662}, {\"Jahr\": \"2016-01-01T00:00:00\", \"GebaeudeartLevel2Name\": \"Geb\\u00e4ude des Nachrichtenwesens, Bahnh\\u00f6fe\", \"sum_AnzGbd\": 378, \"sum_Rauminhalt\": 3089418, \"sum_Grundflaeche\": 166399}, {\"Jahr\": \"2017-01-01T00:00:00\", \"GebaeudeartLevel2Name\": \"Hotelgeb\\u00e4ude\", \"sum_AnzGbd\": 298, \"sum_Rauminhalt\": 2905085, \"sum_Grundflaeche\": 147038}, {\"Jahr\": \"2017-01-01T00:00:00\", \"GebaeudeartLevel2Name\": \"Sporthallen\", \"sum_AnzGbd\": 388, \"sum_Rauminhalt\": 2068814, \"sum_Grundflaeche\": 195848}, {\"Jahr\": \"2017-01-01T00:00:00\", \"GebaeudeartLevel2Name\": \"Sonstige Hochbauten\", \"sum_AnzGbd\": 4946, \"sum_Rauminhalt\": 1295254, \"sum_Grundflaeche\": 116397}, {\"Jahr\": \"2017-01-01T00:00:00\", \"GebaeudeartLevel2Name\": \"Schul- und Hochschulgeb\\u00e4ude, Forschungseinrichtungen\", \"sum_AnzGbd\": 862, \"sum_Rauminhalt\": 11974565, \"sum_Grundflaeche\": 631142}, {\"Jahr\": \"2017-01-01T00:00:00\", \"GebaeudeartLevel2Name\": \"Museen und Bibliotheken\", \"sum_AnzGbd\": 49, \"sum_Rauminhalt\": 551926, \"sum_Grundflaeche\": 29963}, {\"Jahr\": \"2017-01-01T00:00:00\", \"GebaeudeartLevel2Name\": \"Landwirtschaftliche Betriebsgeb\\u00e4ude\", \"sum_AnzGbd\": 424, \"sum_Rauminhalt\": 486495, \"sum_Grundflaeche\": 84780}, {\"Jahr\": \"2017-01-01T00:00:00\", \"GebaeudeartLevel2Name\": \"Krankenh\\u00e4user und Facheinrichtungen des Gesundheitswesens\", \"sum_AnzGbd\": 258, \"sum_Rauminhalt\": 4158987, \"sum_Grundflaeche\": 201080}, {\"Jahr\": \"2017-01-01T00:00:00\", \"GebaeudeartLevel2Name\": \"Kirchen und sonstige Kultgeb\\u00e4ude\", \"sum_AnzGbd\": 250, \"sum_Rauminhalt\": 1509011, \"sum_Grundflaeche\": 118340}, {\"Jahr\": \"2017-01-01T00:00:00\", \"GebaeudeartLevel2Name\": \"Industriegeb\\u00e4ude\", \"sum_AnzGbd\": 1368, \"sum_Rauminhalt\": 6819480, \"sum_Grundflaeche\": 521698}, {\"Jahr\": \"2017-01-01T00:00:00\", \"GebaeudeartLevel2Name\": \"Wohngeb\\u00e4ude f\\u00fcr Gemeinschaften\", \"sum_AnzGbd\": 550, \"sum_Rauminhalt\": 3329722, \"sum_Grundflaeche\": 209785}, {\"Jahr\": \"2017-01-01T00:00:00\", \"GebaeudeartLevel2Name\": \"Gross- und Einzelhandelsgeb\\u00e4ude\", \"sum_AnzGbd\": 368, \"sum_Rauminhalt\": 1711379, \"sum_Grundflaeche\": 104476}, {\"Jahr\": \"2017-01-01T00:00:00\", \"GebaeudeartLevel2Name\": \"Geb\\u00e4ude mit einer Wohnung\", \"sum_AnzGbd\": 9514, \"sum_Rauminhalt\": 6740763, \"sum_Grundflaeche\": 734746}, {\"Jahr\": \"2017-01-01T00:00:00\", \"GebaeudeartLevel2Name\": \"Geb\\u00e4ude mit 2 Wohnungen\", \"sum_AnzGbd\": 1070, \"sum_Rauminhalt\": 1291408, \"sum_Grundflaeche\": 122652}, {\"Jahr\": \"2017-01-01T00:00:00\", \"GebaeudeartLevel2Name\": \"Geb\\u00e4ude f\\u00fcr Kultur- und Freizeitzwecke\", \"sum_AnzGbd\": 176, \"sum_Rauminhalt\": 1403581, \"sum_Grundflaeche\": 105945}, {\"Jahr\": \"2017-01-01T00:00:00\", \"GebaeudeartLevel2Name\": \"Geb\\u00e4ude des Nachrichtenwesens, Bahnh\\u00f6fe\", \"sum_AnzGbd\": 385, \"sum_Rauminhalt\": 3030703, \"sum_Grundflaeche\": 163929}, {\"Jahr\": \"2017-01-01T00:00:00\", \"GebaeudeartLevel2Name\": \"Garagengeb\\u00e4ude\", \"sum_AnzGbd\": 5547, \"sum_Rauminhalt\": 7592044, \"sum_Grundflaeche\": 167918}, {\"Jahr\": \"2017-01-01T00:00:00\", \"GebaeudeartLevel2Name\": \"B\\u00fcrogeb\\u00e4ude\", \"sum_AnzGbd\": 3039, \"sum_Rauminhalt\": 43191918, \"sum_Grundflaeche\": 1860454}, {\"Jahr\": \"2017-01-01T00:00:00\", \"GebaeudeartLevel2Name\": \"Beh\\u00e4lter, Silos, Lagergeb\\u00e4ude\", \"sum_AnzGbd\": 463, \"sum_Rauminhalt\": 1690019, \"sum_Grundflaeche\": 139485}, {\"Jahr\": \"2017-01-01T00:00:00\", \"GebaeudeartLevel2Name\": \"Andere Geb\\u00e4ude f\\u00fcr kurzfristige Beherbergung\", \"sum_AnzGbd\": 102, \"sum_Rauminhalt\": 420250, \"sum_Grundflaeche\": 23011}, {\"Jahr\": \"2017-01-01T00:00:00\", \"GebaeudeartLevel2Name\": \"Geb\\u00e4ude mit mehr als 2 Wohnungen\", \"sum_AnzGbd\": 24130, \"sum_Rauminhalt\": 87083189, \"sum_Grundflaeche\": 5426919}, {\"Jahr\": \"2018-01-01T00:00:00\", \"GebaeudeartLevel2Name\": \"Kirchen und sonstige Kultgeb\\u00e4ude\", \"sum_AnzGbd\": 250, \"sum_Rauminhalt\": 1509459, \"sum_Grundflaeche\": 118463}, {\"Jahr\": \"2018-01-01T00:00:00\", \"GebaeudeartLevel2Name\": \"Krankenh\\u00e4user und Facheinrichtungen des Gesundheitswesens\", \"sum_AnzGbd\": 256, \"sum_Rauminhalt\": 4222801, \"sum_Grundflaeche\": 201686}, {\"Jahr\": \"2018-01-01T00:00:00\", \"GebaeudeartLevel2Name\": \"Landwirtschaftliche Betriebsgeb\\u00e4ude\", \"sum_AnzGbd\": 428, \"sum_Rauminhalt\": 482712, \"sum_Grundflaeche\": 85030}, {\"Jahr\": \"2018-01-01T00:00:00\", \"GebaeudeartLevel2Name\": \"Industriegeb\\u00e4ude\", \"sum_AnzGbd\": 1360, \"sum_Rauminhalt\": 6787192, \"sum_Grundflaeche\": 516313}, {\"Jahr\": \"2018-01-01T00:00:00\", \"GebaeudeartLevel2Name\": \"Schul- und Hochschulgeb\\u00e4ude, Forschungseinrichtungen\", \"sum_AnzGbd\": 875, \"sum_Rauminhalt\": 11363585, \"sum_Grundflaeche\": 618560}, {\"Jahr\": \"2018-01-01T00:00:00\", \"GebaeudeartLevel2Name\": \"Sonstige Hochbauten\", \"sum_AnzGbd\": 5070, \"sum_Rauminhalt\": 1325647, \"sum_Grundflaeche\": 116996}, {\"Jahr\": \"2018-01-01T00:00:00\", \"GebaeudeartLevel2Name\": \"Sporthallen\", \"sum_AnzGbd\": 386, \"sum_Rauminhalt\": 2059264, \"sum_Grundflaeche\": 195061}, {\"Jahr\": \"2018-01-01T00:00:00\", \"GebaeudeartLevel2Name\": \"Wohngeb\\u00e4ude f\\u00fcr Gemeinschaften\", \"sum_AnzGbd\": 556, \"sum_Rauminhalt\": 3474815, \"sum_Grundflaeche\": 212250}, {\"Jahr\": \"2018-01-01T00:00:00\", \"GebaeudeartLevel2Name\": \"Hotelgeb\\u00e4ude\", \"sum_AnzGbd\": 305, \"sum_Rauminhalt\": 2893329, \"sum_Grundflaeche\": 150599}, {\"Jahr\": \"2018-01-01T00:00:00\", \"GebaeudeartLevel2Name\": \"Museen und Bibliotheken\", \"sum_AnzGbd\": 50, \"sum_Rauminhalt\": 563766, \"sum_Grundflaeche\": 30537}, {\"Jahr\": \"2018-01-01T00:00:00\", \"GebaeudeartLevel2Name\": \"Geb\\u00e4ude mit mehr als 2 Wohnungen\", \"sum_AnzGbd\": 24231, \"sum_Rauminhalt\": 88440144, \"sum_Grundflaeche\": 5482862}, {\"Jahr\": \"2018-01-01T00:00:00\", \"GebaeudeartLevel2Name\": \"Andere Geb\\u00e4ude f\\u00fcr kurzfristige Beherbergung\", \"sum_AnzGbd\": 113, \"sum_Rauminhalt\": 461945, \"sum_Grundflaeche\": 25285}, {\"Jahr\": \"2018-01-01T00:00:00\", \"GebaeudeartLevel2Name\": \"Beh\\u00e4lter, Silos, Lagergeb\\u00e4ude\", \"sum_AnzGbd\": 456, \"sum_Rauminhalt\": 1708061, \"sum_Grundflaeche\": 139605}, {\"Jahr\": \"2018-01-01T00:00:00\", \"GebaeudeartLevel2Name\": \"B\\u00fcrogeb\\u00e4ude\", \"sum_AnzGbd\": 3029, \"sum_Rauminhalt\": 43228411, \"sum_Grundflaeche\": 1850886}, {\"Jahr\": \"2018-01-01T00:00:00\", \"GebaeudeartLevel2Name\": \"Garagengeb\\u00e4ude\", \"sum_AnzGbd\": 5562, \"sum_Rauminhalt\": 7965483, \"sum_Grundflaeche\": 166592}, {\"Jahr\": \"2018-01-01T00:00:00\", \"GebaeudeartLevel2Name\": \"Gross- und Einzelhandelsgeb\\u00e4ude\", \"sum_AnzGbd\": 367, \"sum_Rauminhalt\": 1714307, \"sum_Grundflaeche\": 104528}, {\"Jahr\": \"2018-01-01T00:00:00\", \"GebaeudeartLevel2Name\": \"Geb\\u00e4ude f\\u00fcr Kultur- und Freizeitzwecke\", \"sum_AnzGbd\": 178, \"sum_Rauminhalt\": 1405982, \"sum_Grundflaeche\": 106014}, {\"Jahr\": \"2018-01-01T00:00:00\", \"GebaeudeartLevel2Name\": \"Geb\\u00e4ude mit 2 Wohnungen\", \"sum_AnzGbd\": 1068, \"sum_Rauminhalt\": 1287934, \"sum_Grundflaeche\": 122270}, {\"Jahr\": \"2018-01-01T00:00:00\", \"GebaeudeartLevel2Name\": \"Geb\\u00e4ude mit einer Wohnung\", \"sum_AnzGbd\": 9511, \"sum_Rauminhalt\": 6708502, \"sum_Grundflaeche\": 734828}, {\"Jahr\": \"2018-01-01T00:00:00\", \"GebaeudeartLevel2Name\": \"Geb\\u00e4ude des Nachrichtenwesens, Bahnh\\u00f6fe\", \"sum_AnzGbd\": 404, \"sum_Rauminhalt\": 3206540, \"sum_Grundflaeche\": 166918}, {\"Jahr\": \"2019-01-01T00:00:00\", \"GebaeudeartLevel2Name\": \"Industriegeb\\u00e4ude\", \"sum_AnzGbd\": 1356, \"sum_Rauminhalt\": 6802256, \"sum_Grundflaeche\": 511786}, {\"Jahr\": \"2019-01-01T00:00:00\", \"GebaeudeartLevel2Name\": \"Wohngeb\\u00e4ude f\\u00fcr Gemeinschaften\", \"sum_AnzGbd\": 579, \"sum_Rauminhalt\": 3661539, \"sum_Grundflaeche\": 218566}, {\"Jahr\": \"2019-01-01T00:00:00\", \"GebaeudeartLevel2Name\": \"Sporthallen\", \"sum_AnzGbd\": 387, \"sum_Rauminhalt\": 2062801, \"sum_Grundflaeche\": 195699}, {\"Jahr\": \"2019-01-01T00:00:00\", \"GebaeudeartLevel2Name\": \"Sonstige Hochbauten\", \"sum_AnzGbd\": 5101, \"sum_Rauminhalt\": 1360808, \"sum_Grundflaeche\": 114949}, {\"Jahr\": \"2019-01-01T00:00:00\", \"GebaeudeartLevel2Name\": \"Schul- und Hochschulgeb\\u00e4ude, Forschungseinrichtungen\", \"sum_AnzGbd\": 889, \"sum_Rauminhalt\": 11761640, \"sum_Grundflaeche\": 624926}, {\"Jahr\": \"2019-01-01T00:00:00\", \"GebaeudeartLevel2Name\": \"Museen und Bibliotheken\", \"sum_AnzGbd\": 49, \"sum_Rauminhalt\": 559844, \"sum_Grundflaeche\": 30237}, {\"Jahr\": \"2019-01-01T00:00:00\", \"GebaeudeartLevel2Name\": \"Landwirtschaftliche Betriebsgeb\\u00e4ude\", \"sum_AnzGbd\": 427, \"sum_Rauminhalt\": 491607, \"sum_Grundflaeche\": 85006}, {\"Jahr\": \"2019-01-01T00:00:00\", \"GebaeudeartLevel2Name\": \"Krankenh\\u00e4user und Facheinrichtungen des Gesundheitswesens\", \"sum_AnzGbd\": 255, \"sum_Rauminhalt\": 4171843, \"sum_Grundflaeche\": 204066}, {\"Jahr\": \"2019-01-01T00:00:00\", \"GebaeudeartLevel2Name\": \"Kirchen und sonstige Kultgeb\\u00e4ude\", \"sum_AnzGbd\": 250, \"sum_Rauminhalt\": 1511325, \"sum_Grundflaeche\": 118398}, {\"Jahr\": \"2019-01-01T00:00:00\", \"GebaeudeartLevel2Name\": \"Hotelgeb\\u00e4ude\", \"sum_AnzGbd\": 306, \"sum_Rauminhalt\": 2883898, \"sum_Grundflaeche\": 150738}, {\"Jahr\": \"2019-01-01T00:00:00\", \"GebaeudeartLevel2Name\": \"Gross- und Einzelhandelsgeb\\u00e4ude\", \"sum_AnzGbd\": 362, \"sum_Rauminhalt\": 1706449, \"sum_Grundflaeche\": 102996}, {\"Jahr\": \"2019-01-01T00:00:00\", \"GebaeudeartLevel2Name\": \"Geb\\u00e4ude mit mehr als 2 Wohnungen\", \"sum_AnzGbd\": 24279, \"sum_Rauminhalt\": 89576280, \"sum_Grundflaeche\": 5517833}, {\"Jahr\": \"2019-01-01T00:00:00\", \"GebaeudeartLevel2Name\": \"Geb\\u00e4ude mit einer Wohnung\", \"sum_AnzGbd\": 9481, \"sum_Rauminhalt\": 6696819, \"sum_Grundflaeche\": 731937}, {\"Jahr\": \"2019-01-01T00:00:00\", \"GebaeudeartLevel2Name\": \"Geb\\u00e4ude mit 2 Wohnungen\", \"sum_AnzGbd\": 1078, \"sum_Rauminhalt\": 1305026, \"sum_Grundflaeche\": 123846}, {\"Jahr\": \"2019-01-01T00:00:00\", \"GebaeudeartLevel2Name\": \"Geb\\u00e4ude f\\u00fcr Kultur- und Freizeitzwecke\", \"sum_AnzGbd\": 195, \"sum_Rauminhalt\": 1433146, \"sum_Grundflaeche\": 111637}, {\"Jahr\": \"2019-01-01T00:00:00\", \"GebaeudeartLevel2Name\": \"Geb\\u00e4ude des Nachrichtenwesens, Bahnh\\u00f6fe\", \"sum_AnzGbd\": 407, \"sum_Rauminhalt\": 3210104, \"sum_Grundflaeche\": 167231}, {\"Jahr\": \"2019-01-01T00:00:00\", \"GebaeudeartLevel2Name\": \"Garagengeb\\u00e4ude\", \"sum_AnzGbd\": 5562, \"sum_Rauminhalt\": 8091387, \"sum_Grundflaeche\": 165612}, {\"Jahr\": \"2019-01-01T00:00:00\", \"GebaeudeartLevel2Name\": \"B\\u00fcrogeb\\u00e4ude\", \"sum_AnzGbd\": 3012, \"sum_Rauminhalt\": 43267264, \"sum_Grundflaeche\": 1846540}, {\"Jahr\": \"2019-01-01T00:00:00\", \"GebaeudeartLevel2Name\": \"Beh\\u00e4lter, Silos, Lagergeb\\u00e4ude\", \"sum_AnzGbd\": 450, \"sum_Rauminhalt\": 1717519, \"sum_Grundflaeche\": 137305}, {\"Jahr\": \"2019-01-01T00:00:00\", \"GebaeudeartLevel2Name\": \"Andere Geb\\u00e4ude f\\u00fcr kurzfristige Beherbergung\", \"sum_AnzGbd\": 139, \"sum_Rauminhalt\": 625890, \"sum_Grundflaeche\": 32643}, {\"Jahr\": \"2020-01-01T00:00:00\", \"GebaeudeartLevel2Name\": \"Kirchen und sonstige Kultgeb\\u00e4ude\", \"sum_AnzGbd\": 251, \"sum_Rauminhalt\": 1511806, \"sum_Grundflaeche\": 118472}, {\"Jahr\": \"2020-01-01T00:00:00\", \"GebaeudeartLevel2Name\": \"Krankenh\\u00e4user und Facheinrichtungen des Gesundheitswesens\", \"sum_AnzGbd\": 250, \"sum_Rauminhalt\": 4087461, \"sum_Grundflaeche\": 203346}, {\"Jahr\": \"2020-01-01T00:00:00\", \"GebaeudeartLevel2Name\": \"Wohngeb\\u00e4ude f\\u00fcr Gemeinschaften\", \"sum_AnzGbd\": 591, \"sum_Rauminhalt\": 3769356, \"sum_Grundflaeche\": 224037}, {\"Jahr\": \"2020-01-01T00:00:00\", \"GebaeudeartLevel2Name\": \"Landwirtschaftliche Betriebsgeb\\u00e4ude\", \"sum_AnzGbd\": 426, \"sum_Rauminhalt\": 487257, \"sum_Grundflaeche\": 84723}, {\"Jahr\": \"2020-01-01T00:00:00\", \"GebaeudeartLevel2Name\": \"Sporthallen\", \"sum_AnzGbd\": 386, \"sum_Rauminhalt\": 2062197, \"sum_Grundflaeche\": 195629}, {\"Jahr\": \"2020-01-01T00:00:00\", \"GebaeudeartLevel2Name\": \"Schul- und Hochschulgeb\\u00e4ude, Forschungseinrichtungen\", \"sum_AnzGbd\": 896, \"sum_Rauminhalt\": 11829218, \"sum_Grundflaeche\": 629996}, {\"Jahr\": \"2020-01-01T00:00:00\", \"GebaeudeartLevel2Name\": \"Sonstige Hochbauten\", \"sum_AnzGbd\": 5131, \"sum_Rauminhalt\": 1492420, \"sum_Grundflaeche\": 114751}, {\"Jahr\": \"2020-01-01T00:00:00\", \"GebaeudeartLevel2Name\": \"Industriegeb\\u00e4ude\", \"sum_AnzGbd\": 1355, \"sum_Rauminhalt\": 6779052, \"sum_Grundflaeche\": 512783}, {\"Jahr\": \"2020-01-01T00:00:00\", \"GebaeudeartLevel2Name\": \"Museen und Bibliotheken\", \"sum_AnzGbd\": 49, \"sum_Rauminhalt\": 559844, \"sum_Grundflaeche\": 30237}, {\"Jahr\": \"2020-01-01T00:00:00\", \"GebaeudeartLevel2Name\": \"Hotelgeb\\u00e4ude\", \"sum_AnzGbd\": 306, \"sum_Rauminhalt\": 2897245, \"sum_Grundflaeche\": 151012}, {\"Jahr\": \"2020-01-01T00:00:00\", \"GebaeudeartLevel2Name\": \"Geb\\u00e4ude f\\u00fcr Kultur- und Freizeitzwecke\", \"sum_AnzGbd\": 195, \"sum_Rauminhalt\": 1378170, \"sum_Grundflaeche\": 111631}, {\"Jahr\": \"2020-01-01T00:00:00\", \"GebaeudeartLevel2Name\": \"Geb\\u00e4ude mit mehr als 2 Wohnungen\", \"sum_AnzGbd\": 24279, \"sum_Rauminhalt\": 90837617, \"sum_Grundflaeche\": 5536017}, {\"Jahr\": \"2020-01-01T00:00:00\", \"GebaeudeartLevel2Name\": \"Geb\\u00e4ude mit einer Wohnung\", \"sum_AnzGbd\": 9472, \"sum_Rauminhalt\": 6700280, \"sum_Grundflaeche\": 731283}, {\"Jahr\": \"2020-01-01T00:00:00\", \"GebaeudeartLevel2Name\": \"Geb\\u00e4ude mit 2 Wohnungen\", \"sum_AnzGbd\": 1072, \"sum_Rauminhalt\": 1303574, \"sum_Grundflaeche\": 123400}, {\"Jahr\": \"2020-01-01T00:00:00\", \"GebaeudeartLevel2Name\": \"Geb\\u00e4ude des Nachrichtenwesens, Bahnh\\u00f6fe\", \"sum_AnzGbd\": 408, \"sum_Rauminhalt\": 3212479, \"sum_Grundflaeche\": 167080}, {\"Jahr\": \"2020-01-01T00:00:00\", \"GebaeudeartLevel2Name\": \"Garagengeb\\u00e4ude\", \"sum_AnzGbd\": 5545, \"sum_Rauminhalt\": 8390633, \"sum_Grundflaeche\": 163945}, {\"Jahr\": \"2020-01-01T00:00:00\", \"GebaeudeartLevel2Name\": \"B\\u00fcrogeb\\u00e4ude\", \"sum_AnzGbd\": 3006, \"sum_Rauminhalt\": 43657216, \"sum_Grundflaeche\": 1860437}, {\"Jahr\": \"2020-01-01T00:00:00\", \"GebaeudeartLevel2Name\": \"Beh\\u00e4lter, Silos, Lagergeb\\u00e4ude\", \"sum_AnzGbd\": 450, \"sum_Rauminhalt\": 1770789, \"sum_Grundflaeche\": 135494}, {\"Jahr\": \"2020-01-01T00:00:00\", \"GebaeudeartLevel2Name\": \"Andere Geb\\u00e4ude f\\u00fcr kurzfristige Beherbergung\", \"sum_AnzGbd\": 151, \"sum_Rauminhalt\": 663230, \"sum_Grundflaeche\": 34257}, {\"Jahr\": \"2020-01-01T00:00:00\", \"GebaeudeartLevel2Name\": \"Gross- und Einzelhandelsgeb\\u00e4ude\", \"sum_AnzGbd\": 354, \"sum_Rauminhalt\": 1632899, \"sum_Grundflaeche\": 101203}, {\"Jahr\": \"2021-01-01T00:00:00\", \"GebaeudeartLevel2Name\": \"Kirchen und sonstige Kultgeb\\u00e4ude\", \"sum_AnzGbd\": 249, \"sum_Rauminhalt\": 1504860, \"sum_Grundflaeche\": 117466}, {\"Jahr\": \"2021-01-01T00:00:00\", \"GebaeudeartLevel2Name\": \"Krankenh\\u00e4user und Facheinrichtungen des Gesundheitswesens\", \"sum_AnzGbd\": 241, \"sum_Rauminhalt\": 4022092, \"sum_Grundflaeche\": 203764}, {\"Jahr\": \"2021-01-01T00:00:00\", \"GebaeudeartLevel2Name\": \"Landwirtschaftliche Betriebsgeb\\u00e4ude\", \"sum_AnzGbd\": 425, \"sum_Rauminhalt\": 492339, \"sum_Grundflaeche\": 85123}, {\"Jahr\": \"2021-01-01T00:00:00\", \"GebaeudeartLevel2Name\": \"Sonstige Hochbauten\", \"sum_AnzGbd\": 5409, \"sum_Rauminhalt\": 2002563, \"sum_Grundflaeche\": 146971}, {\"Jahr\": \"2021-01-01T00:00:00\", \"GebaeudeartLevel2Name\": \"Restaurant in Nichtwohngeb\\u00e4ude\", \"sum_AnzGbd\": 97, \"sum_Rauminhalt\": 381855, \"sum_Grundflaeche\": 39848}, {\"Jahr\": \"2021-01-01T00:00:00\", \"GebaeudeartLevel2Name\": \"Schul- und Hochschulgeb\\u00e4ude, Forschungseinrichtungen\", \"sum_AnzGbd\": 906, \"sum_Rauminhalt\": 11999262, \"sum_Grundflaeche\": 640040}, {\"Jahr\": \"2021-01-01T00:00:00\", \"GebaeudeartLevel2Name\": \"Industriegeb\\u00e4ude\", \"sum_AnzGbd\": 1332, \"sum_Rauminhalt\": 6803104, \"sum_Grundflaeche\": 507882}, {\"Jahr\": \"2021-01-01T00:00:00\", \"GebaeudeartLevel2Name\": \"Museen und Bibliotheken\", \"sum_AnzGbd\": 50, \"sum_Rauminhalt\": 679302, \"sum_Grundflaeche\": 33990}, {\"Jahr\": \"2021-01-01T00:00:00\", \"GebaeudeartLevel2Name\": \"Hotelgeb\\u00e4ude\", \"sum_AnzGbd\": 193, \"sum_Rauminhalt\": 2522095, \"sum_Grundflaeche\": 108352}, {\"Jahr\": \"2021-01-01T00:00:00\", \"GebaeudeartLevel2Name\": \"Geb\\u00e4ude f\\u00fcr Kultur- und Freizeitzwecke\", \"sum_AnzGbd\": 214, \"sum_Rauminhalt\": 1382878, \"sum_Grundflaeche\": 112876}, {\"Jahr\": \"2021-01-01T00:00:00\", \"GebaeudeartLevel2Name\": \"Geb\\u00e4ude mit mehr als 2 Wohnungen\", \"sum_AnzGbd\": 23393, \"sum_Rauminhalt\": 89873662, \"sum_Grundflaeche\": 5424102}, {\"Jahr\": \"2021-01-01T00:00:00\", \"GebaeudeartLevel2Name\": \"Geb\\u00e4ude mit einer Wohnung\", \"sum_AnzGbd\": 9562, \"sum_Rauminhalt\": 6812059, \"sum_Grundflaeche\": 741831}, {\"Jahr\": \"2021-01-01T00:00:00\", \"GebaeudeartLevel2Name\": \"Geb\\u00e4ude mit 2 Wohnungen\", \"sum_AnzGbd\": 1370, \"sum_Rauminhalt\": 1750397, \"sum_Grundflaeche\": 162289}, {\"Jahr\": \"2021-01-01T00:00:00\", \"GebaeudeartLevel2Name\": \"Geb\\u00e4ude des Nachrichtenwesens, Bahnh\\u00f6fe\", \"sum_AnzGbd\": 157, \"sum_Rauminhalt\": 2815288, \"sum_Grundflaeche\": 143182}, {\"Jahr\": \"2021-01-01T00:00:00\", \"GebaeudeartLevel2Name\": \"Garagengeb\\u00e4ude\", \"sum_AnzGbd\": 5520, \"sum_Rauminhalt\": 8785153, \"sum_Grundflaeche\": 162608}, {\"Jahr\": \"2021-01-01T00:00:00\", \"GebaeudeartLevel2Name\": \"B\\u00fcrogeb\\u00e4ude\", \"sum_AnzGbd\": 3283, \"sum_Rauminhalt\": 44348605, \"sum_Grundflaeche\": 1915622}, {\"Jahr\": \"2021-01-01T00:00:00\", \"GebaeudeartLevel2Name\": \"Beh\\u00e4lter, Silos, Lagergeb\\u00e4ude\", \"sum_AnzGbd\": 443, \"sum_Rauminhalt\": 1700414, \"sum_Grundflaeche\": 131726}, {\"Jahr\": \"2021-01-01T00:00:00\", \"GebaeudeartLevel2Name\": \"Andere Geb\\u00e4ude f\\u00fcr kurzfristige Beherbergung\", \"sum_AnzGbd\": 187, \"sum_Rauminhalt\": 771105, \"sum_Grundflaeche\": 41070}, {\"Jahr\": \"2021-01-01T00:00:00\", \"GebaeudeartLevel2Name\": \"Sporthallen\", \"sum_AnzGbd\": 387, \"sum_Rauminhalt\": 2093023, \"sum_Grundflaeche\": 196050}, {\"Jahr\": \"2021-01-01T00:00:00\", \"GebaeudeartLevel2Name\": \"Gross- und Einzelhandelsgeb\\u00e4ude\", \"sum_AnzGbd\": 407, \"sum_Rauminhalt\": 1768629, \"sum_Grundflaeche\": 110695}, {\"Jahr\": \"2021-01-01T00:00:00\", \"GebaeudeartLevel2Name\": \"Wohngeb\\u00e4ude f\\u00fcr Gemeinschaften\", \"sum_AnzGbd\": 590, \"sum_Rauminhalt\": 3937127, \"sum_Grundflaeche\": 222693}]}}, {\"mode\": \"vega-lite\"});\n",
       "</script>"
      ],
      "text/plain": [
       "alt.LayerChart(...)"
      ]
     },
     "execution_count": 167,
     "metadata": {},
     "output_type": "execute_result"
    }
   ],
   "source": [
    "highlight = alt.selection(type='single', on='mouseover',\n",
    "                          fields=['GebaeudeartLevel2Name'], nearest=True)\n",
    "#x='date:StichtagDatJahr',\n",
    "base = alt.Chart(myAgg.reset_index().query('sum_AnzGbd > 1'), title=\"Title\").encode(\n",
    "    x=alt.X('Jahr', axis=alt.Axis(title='Jahr'))# , axis=alt.Axis(format='%', title='percentage')\n",
    "    , y=alt.X('sum_AnzGbd', axis=alt.Axis(title='Anz. Gebäude'))\n",
    "    , color=alt.Color('GebaeudeartLevel2Name', legend=alt.Legend(title=\"Gebäudearten\", orient=\"right\"))  \n",
    "    ,tooltip=['Jahr', 'GebaeudeartLevel2Name','sum_AnzGbd']    \n",
    ")\n",
    "points = base.mark_circle().encode(\n",
    "    opacity=alt.value(0.75)\n",
    ").add_selection(\n",
    "    highlight\n",
    ").properties(\n",
    "    width=750 , height=350\n",
    ")\n",
    "lines = base.mark_line().encode(\n",
    "    size=alt.condition(~highlight, alt.value(0.5), alt.value(4))\n",
    ").interactive()\n",
    "\n",
    "lines + points"
   ]
  },
  {
   "cell_type": "markdown",
   "metadata": {
    "tags": []
   },
   "source": [
    "#### Barcharts mit Seaborn"
   ]
  },
  {
   "cell_type": "code",
   "execution_count": 170,
   "metadata": {},
   "outputs": [],
   "source": [
    "#data2betested.dtypes"
   ]
  },
  {
   "cell_type": "code",
   "execution_count": 172,
   "metadata": {},
   "outputs": [],
   "source": [
    "myAggBar = data2betested.loc[\"2021\"]\\\n",
    "    .groupby(['Jahr', 'GebaeudeartSpezialName']) \\\n",
    "    .agg(sum_AnzGbd=('AnzGbd', 'sum'), sum_Rauminhalt=('Rauminhalt', 'sum'), sum_Grundflaeche=('Grundflaeche', 'sum')) \\\n",
    "    .sort_values('sum_Rauminhalt', ascending=True) \n",
    "\n",
    "#myAggBar.reset_index().dtypes\n"
   ]
  },
  {
   "cell_type": "code",
   "execution_count": 173,
   "metadata": {},
   "outputs": [],
   "source": [
    "#help(sns.catplot)     "
   ]
  },
  {
   "cell_type": "code",
   "execution_count": 174,
   "metadata": {},
   "outputs": [],
   "source": [
    "#Stile for the following sns graphs\n",
    "sns.set_theme(style=\"whitegrid\")"
   ]
  },
  {
   "cell_type": "code",
   "execution_count": 175,
   "metadata": {},
   "outputs": [
    {
     "data": {
      "text/plain": [
       "<seaborn.axisgrid.FacetGrid at 0x15a803e0b50>"
      ]
     },
     "execution_count": 175,
     "metadata": {},
     "output_type": "execute_result"
    },
    {
     "data": {
      "image/png": "[encoded data removed]",
      "text/plain": [
       "<Figure size 870.3x360 with 1 Axes>"
      ]
     },
     "metadata": {},
     "output_type": "display_data"
    }
   ],
   "source": [
    "#sns.color_palette(\"flare\", as_cmap=True)\n",
    "myHist = sns.catplot(x=\"Jahr\"\n",
    "            , y=\"sum_Rauminhalt\"\n",
    "            , hue=\"GebaeudeartSpezialName\"\n",
    "            , kind=\"bar\" #boxen, violin, --> wenn die aggregation nicht genau den werten in der grafik entspricht\n",
    "            , palette=\"pastel\" #, color=\"green\"\n",
    "            , height=5\n",
    "            , aspect=2\n",
    "            , order=None, legend_out=True\n",
    "            ,data=myAggBar.query(\"GebaeudeartSpezialName !='Mehrfamilienhäuser'\").reset_index()\n",
    "           )\n",
    "myHist.set_xlabels('Jahr', fontsize=11) # not set_label\n",
    "myHist.set_ylabels('Rauminhalt', fontsize=11)\n"
   ]
  },
  {
   "cell_type": "code",
   "execution_count": 181,
   "metadata": {},
   "outputs": [
    {
     "data": {
      "text/plain": [
       "QuarSort                    int64\n",
       "QuarLang                   object\n",
       "KreisSort                   int64\n",
       "KreisLang                  object\n",
       "GebaeudeartLevel1Sort     float64\n",
       "GebaeudeartLevel1Name      object\n",
       "GebaeudeartLevel2Sort       int64\n",
       "GebaeudeartLevel2Name      object\n",
       "GebaeudeartLevel3Sort       int64\n",
       "GebaeudeartLevel3Name      object\n",
       "GebaeudeartLevel4Sort       int64\n",
       "GebaeudeartLevel4Name      object\n",
       "GebaeudeartSpezialSort      int64\n",
       "GebaeudeartSpezialName     object\n",
       "BauperiodeSort              int64\n",
       "BauperiodeName             object\n",
       "AnzGbd                      int64\n",
       "Rauminhalt                  int64\n",
       "Grundflaeche                int64\n",
       "dtype: object"
      ]
     },
     "execution_count": 181,
     "metadata": {},
     "output_type": "execute_result"
    }
   ],
   "source": [
    "data2betested.dtypes"
   ]
  },
  {
   "cell_type": "markdown",
   "metadata": {},
   "source": [
    "##### Entwicklung der Anzahl projektierter Wohnungen pro Kreis nach Eigentumsart"
   ]
  },
  {
   "cell_type": "code",
   "execution_count": 189,
   "metadata": {},
   "outputs": [
    {
     "data": {
      "text/plain": [
       "Jahr                     datetime64[ns]\n",
       "GebaeudeartLevel4Name            object\n",
       "KreisLang                        object\n",
       "sum_AnzGbd                        int64\n",
       "sum_Rauminhalt                    int64\n",
       "sum_Grundflaeche                  int64\n",
       "dtype: object"
      ]
     },
     "execution_count": 189,
     "metadata": {},
     "output_type": "execute_result"
    }
   ],
   "source": [
    "myAggBar = data2betested.loc[\"2008\":\"2021\"]\\\n",
    "    .groupby(['Jahr', 'GebaeudeartLevel4Name', 'KreisLang']) \\\n",
    "    .agg(sum_AnzGbd=('AnzGbd', 'sum'), sum_Rauminhalt=('Rauminhalt', 'sum'), sum_Grundflaeche=('Grundflaeche', 'sum')) \\\n",
    "    .sort_values('sum_Rauminhalt', ascending=True) \n",
    "\n",
    "myAggBar.reset_index().dtypes"
   ]
  },
  {
   "cell_type": "code",
   "execution_count": 190,
   "metadata": {},
   "outputs": [
    {
     "data": {
      "text/plain": [
       "<seaborn.axisgrid.FacetGrid at 0x15a98119fa0>"
      ]
     },
     "execution_count": 190,
     "metadata": {},
     "output_type": "execute_result"
    },
    {
     "data": {
      "image/png": "[encoded data removed]",
      "text/plain": [
       "<Figure size 1442.42x432 with 12 Axes>"
      ]
     },
     "metadata": {},
     "output_type": "display_data"
    },
    {
     "data": {
      "image/png": "[encoded data removed]",
      "text/plain": [
       "<Figure size 1442.42x432 with 12 Axes>"
      ]
     },
     "metadata": {},
     "output_type": "display_data"
    },
    {
     "data": {
      "image/png": "[encoded data removed]",
      "text/plain": [
       "<Figure size 1442.42x432 with 12 Axes>"
      ]
     },
     "metadata": {},
     "output_type": "display_data"
    }
   ],
   "source": [
    "g = sns.FacetGrid(myAggBar.reset_index(), col=\"KreisLang\", hue=\"GebaeudeartLevel4Name\", col_wrap=6, height=3,)\n",
    "#g.map(sns.scatterplot, \"Jahr\", \"sum_AnzWhg\", alpha=.8)\n",
    "g.map(sns.lineplot, \"Jahr\",\"sum_AnzGbd\", alpha=.8)\n",
    "g.add_legend()\n",
    "\n",
    "g2 = sns.FacetGrid(myAggBar.reset_index(), col=\"KreisLang\", hue=\"GebaeudeartLevel4Name\", col_wrap=6, height=3,)\n",
    "g2.map(sns.lineplot, \"Jahr\",\"sum_Rauminhalt\", alpha=.8)\n",
    "g2.add_legend()\n",
    "\n",
    "g3 = sns.FacetGrid(myAggBar.reset_index(), col=\"KreisLang\", hue=\"GebaeudeartLevel4Name\", col_wrap=6, height=3,)\n",
    "g3.map(sns.lineplot, \"Jahr\",\"sum_Grundflaeche\", alpha=.8)\n",
    "g3.add_legend()\n"
   ]
  },
  {
   "cell_type": "markdown",
   "metadata": {},
   "source": [
    "### Daten in interaktiver Treemap zeigen\n",
    "Dazu gibt es eine sehr nützliche Webseite https://plotly.com/python/treemaps/\n",
    "Zu Farbskalen, siehe: https://plotly.com/python/builtin-colorscales/"
   ]
  },
  {
   "cell_type": "markdown",
   "metadata": {
    "tags": []
   },
   "source": [
    "#### Rauminhalt der Gebäude nach Gebäudearten 2021"
   ]
  },
  {
   "cell_type": "code",
   "execution_count": 209,
   "metadata": {
    "tags": []
   },
   "outputs": [],
   "source": [
    "#data2betested.dtypes"
   ]
  },
  {
   "cell_type": "code",
   "execution_count": 210,
   "metadata": {
    "tags": []
   },
   "outputs": [
    {
     "data": {
      "text/plain": [
       "Jahr                     datetime64[ns]\n",
       "GebaeudeartLevel4Name            object\n",
       "GebaeudeartLevel1Name            object\n",
       "sum_AnzGbd                        int64\n",
       "sum_Rauminhalt                    int64\n",
       "sum_Grundflaeche                  int64\n",
       "dtype: object"
      ]
     },
     "execution_count": 210,
     "metadata": {},
     "output_type": "execute_result"
    }
   ],
   "source": [
    "myTreemapAgg = data2betested.loc[\"2021\"]\\\n",
    "    .groupby(['Jahr', 'GebaeudeartLevel4Name','GebaeudeartLevel1Name']) \\\n",
    "    .agg(sum_AnzGbd=('AnzGbd', 'sum'), sum_Rauminhalt=('Rauminhalt', 'sum'), sum_Grundflaeche=('Grundflaeche', 'sum')) \\\n",
    "    .sort_values('sum_Rauminhalt', ascending=True) \n",
    "\n",
    "myTreemapAgg.reset_index().dtypes"
   ]
  },
  {
   "cell_type": "code",
   "execution_count": 211,
   "metadata": {},
   "outputs": [
    {
     "data": {
      "application/vnd.plotly.v1+json": {
       "config": {
        "plotlyServerURL": "https://plot.ly"
       },
       "data": [
        {
         "branchvalues": "total",
         "customdata": [
          [
           "Tram und Bus Wartehalle"
          ],
          [
           "Mehrfamilienhaus mit Geschäftsräumen"
          ],
          [
           "Theater-, Konzert- und Kinogebäude"
          ],
          [
           "Übriges Gebäude für Industrie"
          ],
          [
           "Zoologischer Garten"
          ],
          [
           "Versammlungsgebäude, Mehrzweckhalle"
          ],
          [
           "Bahngebäude"
          ],
          [
           "Mehrfamilienhaus"
          ],
          [
           "Übriges Gebäude des Gesundheitswesens"
          ],
          [
           "Übriges Gebäude für Schulzwecke"
          ],
          [
           "Sporthalle, Hallenbad, Turnhalle"
          ],
          [
           "Übrige Kleingebäude"
          ],
          [
           "Hort, Kindergarten"
          ],
          [
           "Werkstattgebäude"
          ],
          [
           "Zweifamilienhaus"
          ],
          [
           "Militär-, Luftschutz-, Polizei- und Feuerwehrgebäude"
          ],
          [
           "Hotel"
          ],
          [
           "Landwirtschafts-, Gärtnerei- und Oekonomiegebäude"
          ],
          [
           "Spital- und Klinikgebäude"
          ],
          [
           "Kirche, Moschee, Synagoge"
          ],
          [
           "Übriges Kultusgebäude"
          ],
          [
           "Übriges Gebäude für Sport"
          ],
          [
           "Garagen (mehr als 9 Parkplätze)"
          ],
          [
           "Lager, Silo"
          ],
          [
           "Kranken- und Pflegeheime"
          ],
          [
           "Gross- und Einzelhandelsgebäude"
          ],
          [
           "Andere Gebäude für kurzfristige Beherbergung"
          ],
          [
           "Zweifamilienhaus mit Geschäftsräumen"
          ],
          [
           "Wohngebäude für Gemeinschaften"
          ],
          [
           "Strafvollzugs- und Untersuchungshaftanstalt"
          ],
          [
           "Alterswohnhaus-/heim"
          ],
          [
           "Kirchgemeindehaus"
          ],
          [
           "Geschäftshaus"
          ],
          [
           "Industriegebäude"
          ],
          [
           "Restaurant in Nichtwohngebäude"
          ],
          [
           "Schulhaus"
          ],
          [
           "Hochschulgebäude"
          ],
          [
           "Restaurant in Wohngebäude"
          ],
          [
           "Einfamilienhaus mit Geschäftsräumen"
          ],
          [
           "Radio und Fernsehen"
          ],
          [
           "Bürogebäude"
          ],
          [
           "Museen und Bibliotheken"
          ],
          [
           "Einfamilienhaus freistehend"
          ],
          [
           "Garagen (1-9 Parkplätze)"
          ],
          [
           "Einfamilienhaus angebaut"
          ],
          [
           "(?)"
          ],
          [
           "(?)"
          ],
          [
           "(?)"
          ]
         ],
         "domain": {
          "x": [
           0,
           1
          ],
          "y": [
           0,
           1
          ]
         },
         "hovertemplate": "labels=%{label}<br>sum_Rauminhalt=%{value}<br>parent=%{parent}<br>id=%{id}<br>GebaeudeartLevel1Name=%{customdata[0]}<extra></extra>",
         "ids": [
          "Rauminhalt der Gebäude nach Gebäudearten 2021/Nichtwohngebäude/Tram und Bus Wartehalle",
          "Rauminhalt der Gebäude nach Gebäudearten 2021/Wohngebäude/Mehrfamilienhaus mit Geschäftsräumen",
          "Rauminhalt der Gebäude nach Gebäudearten 2021/Nichtwohngebäude/Theater-, Konzert- und Kinogebäude",
          "Rauminhalt der Gebäude nach Gebäudearten 2021/Nichtwohngebäude/Übriges Gebäude für Industrie",
          "Rauminhalt der Gebäude nach Gebäudearten 2021/Nichtwohngebäude/Zoologischer Garten",
          "Rauminhalt der Gebäude nach Gebäudearten 2021/Nichtwohngebäude/Versammlungsgebäude, Mehrzweckhalle",
          "Rauminhalt der Gebäude nach Gebäudearten 2021/Nichtwohngebäude/Bahngebäude",
          "Rauminhalt der Gebäude nach Gebäudearten 2021/Wohngebäude/Mehrfamilienhaus",
          "Rauminhalt der Gebäude nach Gebäudearten 2021/Nichtwohngebäude/Übriges Gebäude des Gesundheitswesens",
          "Rauminhalt der Gebäude nach Gebäudearten 2021/Nichtwohngebäude/Übriges Gebäude für Schulzwecke",
          "Rauminhalt der Gebäude nach Gebäudearten 2021/Nichtwohngebäude/Sporthalle, Hallenbad, Turnhalle",
          "Rauminhalt der Gebäude nach Gebäudearten 2021/Nichtwohngebäude/Übrige Kleingebäude",
          "Rauminhalt der Gebäude nach Gebäudearten 2021/Nichtwohngebäude/Hort, Kindergarten",
          "Rauminhalt der Gebäude nach Gebäudearten 2021/Nichtwohngebäude/Werkstattgebäude",
          "Rauminhalt der Gebäude nach Gebäudearten 2021/Wohngebäude/Zweifamilienhaus",
          "Rauminhalt der Gebäude nach Gebäudearten 2021/Nichtwohngebäude/Militär-, Luftschutz-, Polizei- und Feuerwehrgebäude",
          "Rauminhalt der Gebäude nach Gebäudearten 2021/Nichtwohngebäude/Hotel",
          "Rauminhalt der Gebäude nach Gebäudearten 2021/Nichtwohngebäude/Landwirtschafts-, Gärtnerei- und Oekonomiegebäude",
          "Rauminhalt der Gebäude nach Gebäudearten 2021/Nichtwohngebäude/Spital- und Klinikgebäude",
          "Rauminhalt der Gebäude nach Gebäudearten 2021/Nichtwohngebäude/Kirche, Moschee, Synagoge",
          "Rauminhalt der Gebäude nach Gebäudearten 2021/Nichtwohngebäude/Übriges Kultusgebäude",
          "Rauminhalt der Gebäude nach Gebäudearten 2021/Nichtwohngebäude/Übriges Gebäude für Sport",
          "Rauminhalt der Gebäude nach Gebäudearten 2021/Nichtwohngebäude/Garagen (mehr als 9 Parkplätze)",
          "Rauminhalt der Gebäude nach Gebäudearten 2021/Nichtwohngebäude/Lager, Silo",
          "Rauminhalt der Gebäude nach Gebäudearten 2021/Nichtwohngebäude/Kranken- und Pflegeheime",
          "Rauminhalt der Gebäude nach Gebäudearten 2021/Nichtwohngebäude/Gross- und Einzelhandelsgebäude",
          "Rauminhalt der Gebäude nach Gebäudearten 2021/Nichtwohngebäude/Andere Gebäude für kurzfristige Beherbergung",
          "Rauminhalt der Gebäude nach Gebäudearten 2021/Wohngebäude/Zweifamilienhaus mit Geschäftsräumen",
          "Rauminhalt der Gebäude nach Gebäudearten 2021/Wohngebäude/Wohngebäude für Gemeinschaften",
          "Rauminhalt der Gebäude nach Gebäudearten 2021/Nichtwohngebäude/Strafvollzugs- und Untersuchungshaftanstalt",
          "Rauminhalt der Gebäude nach Gebäudearten 2021/Wohngebäude/Alterswohnhaus-/heim",
          "Rauminhalt der Gebäude nach Gebäudearten 2021/Nichtwohngebäude/Kirchgemeindehaus",
          "Rauminhalt der Gebäude nach Gebäudearten 2021/Nichtwohngebäude/Geschäftshaus",
          "Rauminhalt der Gebäude nach Gebäudearten 2021/Nichtwohngebäude/Industriegebäude",
          "Rauminhalt der Gebäude nach Gebäudearten 2021/Nichtwohngebäude/Restaurant in Nichtwohngebäude",
          "Rauminhalt der Gebäude nach Gebäudearten 2021/Nichtwohngebäude/Schulhaus",
          "Rauminhalt der Gebäude nach Gebäudearten 2021/Nichtwohngebäude/Hochschulgebäude",
          "Rauminhalt der Gebäude nach Gebäudearten 2021/Nichtwohngebäude/Restaurant in Wohngebäude",
          "Rauminhalt der Gebäude nach Gebäudearten 2021/Wohngebäude/Einfamilienhaus mit Geschäftsräumen",
          "Rauminhalt der Gebäude nach Gebäudearten 2021/Nichtwohngebäude/Radio und Fernsehen",
          "Rauminhalt der Gebäude nach Gebäudearten 2021/Nichtwohngebäude/Bürogebäude",
          "Rauminhalt der Gebäude nach Gebäudearten 2021/Nichtwohngebäude/Museen und Bibliotheken",
          "Rauminhalt der Gebäude nach Gebäudearten 2021/Wohngebäude/Einfamilienhaus freistehend",
          "Rauminhalt der Gebäude nach Gebäudearten 2021/Nichtwohngebäude/Garagen (1-9 Parkplätze)",
          "Rauminhalt der Gebäude nach Gebäudearten 2021/Wohngebäude/Einfamilienhaus angebaut",
          "Rauminhalt der Gebäude nach Gebäudearten 2021/Nichtwohngebäude",
          "Rauminhalt der Gebäude nach Gebäudearten 2021/Wohngebäude",
          "Rauminhalt der Gebäude nach Gebäudearten 2021"
         ],
         "labels": [
          "Tram und Bus Wartehalle",
          "Mehrfamilienhaus mit Geschäftsräumen",
          "Theater-, Konzert- und Kinogebäude",
          "Übriges Gebäude für Industrie",
          "Zoologischer Garten",
          "Versammlungsgebäude, Mehrzweckhalle",
          "Bahngebäude",
          "Mehrfamilienhaus",
          "Übriges Gebäude des Gesundheitswesens",
          "Übriges Gebäude für Schulzwecke",
          "Sporthalle, Hallenbad, Turnhalle",
          "Übrige Kleingebäude",
          "Hort, Kindergarten",
          "Werkstattgebäude",
          "Zweifamilienhaus",
          "Militär-, Luftschutz-, Polizei- und Feuerwehrgebäude",
          "Hotel",
          "Landwirtschafts-, Gärtnerei- und Oekonomiegebäude",
          "Spital- und Klinikgebäude",
          "Kirche, Moschee, Synagoge",
          "Übriges Kultusgebäude",
          "Übriges Gebäude für Sport",
          "Garagen (mehr als 9 Parkplätze)",
          "Lager, Silo",
          "Kranken- und Pflegeheime",
          "Gross- und Einzelhandelsgebäude",
          "Andere Gebäude für kurzfristige Beherbergung",
          "Zweifamilienhaus mit Geschäftsräumen",
          "Wohngebäude für Gemeinschaften",
          "Strafvollzugs- und Untersuchungshaftanstalt",
          "Alterswohnhaus-/heim",
          "Kirchgemeindehaus",
          "Geschäftshaus",
          "Industriegebäude",
          "Restaurant in Nichtwohngebäude",
          "Schulhaus",
          "Hochschulgebäude",
          "Restaurant in Wohngebäude",
          "Einfamilienhaus mit Geschäftsräumen",
          "Radio und Fernsehen",
          "Bürogebäude",
          "Museen und Bibliotheken",
          "Einfamilienhaus freistehend",
          "Garagen (1-9 Parkplätze)",
          "Einfamilienhaus angebaut",
          "Nichtwohngebäude",
          "Wohngebäude",
          "Rauminhalt der Gebäude nach Gebäudearten 2021"
         ],
         "level": "Rauminhalt der Gebäude nach Gebäudearten 2021/Nichtwohngebäude",
         "marker": {
          "colors": [
           "#00cc96",
           "#ab63fa",
           "#FFA15A",
           "#19d3f3",
           "#FF6692",
           "#B6E880",
           "#FF97FF",
           "#FECB52",
           "#636efa",
           "#EF553B",
           "#00cc96",
           "#ab63fa",
           "#FFA15A",
           "#19d3f3",
           "#FF6692",
           "#B6E880",
           "#FF97FF",
           "#FECB52",
           "#636efa",
           "#EF553B",
           "#00cc96",
           "#ab63fa",
           "#FFA15A",
           "#19d3f3",
           "#FF6692",
           "#B6E880",
           "#FF97FF",
           "#FECB52",
           "#636efa",
           "#EF553B",
           "#00cc96",
           "#ab63fa",
           "#FFA15A",
           "#19d3f3",
           "#FF6692",
           "#B6E880",
           "#FF97FF",
           "#FECB52",
           "#636efa",
           "#EF553B",
           "#00cc96",
           "#ab63fa",
           "#FFA15A",
           "#19d3f3",
           "#FF6692",
           "lightgrey",
           "lightgrey",
           "lightgrey"
          ]
         },
         "name": "",
         "parents": [
          "Rauminhalt der Gebäude nach Gebäudearten 2021/Nichtwohngebäude",
          "Rauminhalt der Gebäude nach Gebäudearten 2021/Wohngebäude",
          "Rauminhalt der Gebäude nach Gebäudearten 2021/Nichtwohngebäude",
          "Rauminhalt der Gebäude nach Gebäudearten 2021/Nichtwohngebäude",
          "Rauminhalt der Gebäude nach Gebäudearten 2021/Nichtwohngebäude",
          "Rauminhalt der Gebäude nach Gebäudearten 2021/Nichtwohngebäude",
          "Rauminhalt der Gebäude nach Gebäudearten 2021/Nichtwohngebäude",
          "Rauminhalt der Gebäude nach Gebäudearten 2021/Wohngebäude",
          "Rauminhalt der Gebäude nach Gebäudearten 2021/Nichtwohngebäude",
          "Rauminhalt der Gebäude nach Gebäudearten 2021/Nichtwohngebäude",
          "Rauminhalt der Gebäude nach Gebäudearten 2021/Nichtwohngebäude",
          "Rauminhalt der Gebäude nach Gebäudearten 2021/Nichtwohngebäude",
          "Rauminhalt der Gebäude nach Gebäudearten 2021/Nichtwohngebäude",
          "Rauminhalt der Gebäude nach Gebäudearten 2021/Nichtwohngebäude",
          "Rauminhalt der Gebäude nach Gebäudearten 2021/Wohngebäude",
          "Rauminhalt der Gebäude nach Gebäudearten 2021/Nichtwohngebäude",
          "Rauminhalt der Gebäude nach Gebäudearten 2021/Nichtwohngebäude",
          "Rauminhalt der Gebäude nach Gebäudearten 2021/Nichtwohngebäude",
          "Rauminhalt der Gebäude nach Gebäudearten 2021/Nichtwohngebäude",
          "Rauminhalt der Gebäude nach Gebäudearten 2021/Nichtwohngebäude",
          "Rauminhalt der Gebäude nach Gebäudearten 2021/Nichtwohngebäude",
          "Rauminhalt der Gebäude nach Gebäudearten 2021/Nichtwohngebäude",
          "Rauminhalt der Gebäude nach Gebäudearten 2021/Nichtwohngebäude",
          "Rauminhalt der Gebäude nach Gebäudearten 2021/Nichtwohngebäude",
          "Rauminhalt der Gebäude nach Gebäudearten 2021/Nichtwohngebäude",
          "Rauminhalt der Gebäude nach Gebäudearten 2021/Nichtwohngebäude",
          "Rauminhalt der Gebäude nach Gebäudearten 2021/Nichtwohngebäude",
          "Rauminhalt der Gebäude nach Gebäudearten 2021/Wohngebäude",
          "Rauminhalt der Gebäude nach Gebäudearten 2021/Wohngebäude",
          "Rauminhalt der Gebäude nach Gebäudearten 2021/Nichtwohngebäude",
          "Rauminhalt der Gebäude nach Gebäudearten 2021/Wohngebäude",
          "Rauminhalt der Gebäude nach Gebäudearten 2021/Nichtwohngebäude",
          "Rauminhalt der Gebäude nach Gebäudearten 2021/Nichtwohngebäude",
          "Rauminhalt der Gebäude nach Gebäudearten 2021/Nichtwohngebäude",
          "Rauminhalt der Gebäude nach Gebäudearten 2021/Nichtwohngebäude",
          "Rauminhalt der Gebäude nach Gebäudearten 2021/Nichtwohngebäude",
          "Rauminhalt der Gebäude nach Gebäudearten 2021/Nichtwohngebäude",
          "Rauminhalt der Gebäude nach Gebäudearten 2021/Nichtwohngebäude",
          "Rauminhalt der Gebäude nach Gebäudearten 2021/Wohngebäude",
          "Rauminhalt der Gebäude nach Gebäudearten 2021/Nichtwohngebäude",
          "Rauminhalt der Gebäude nach Gebäudearten 2021/Nichtwohngebäude",
          "Rauminhalt der Gebäude nach Gebäudearten 2021/Nichtwohngebäude",
          "Rauminhalt der Gebäude nach Gebäudearten 2021/Wohngebäude",
          "Rauminhalt der Gebäude nach Gebäudearten 2021/Nichtwohngebäude",
          "Rauminhalt der Gebäude nach Gebäudearten 2021/Wohngebäude",
          "Rauminhalt der Gebäude nach Gebäudearten 2021",
          "Rauminhalt der Gebäude nach Gebäudearten 2021",
          ""
         ],
         "root": {
          "color": "grey"
         },
         "type": "treemap",
         "values": [
          373698,
          35794270,
          510179,
          988732,
          386672,
          486027,
          2182511,
          54079392,
          194031,
          244153,
          1796180,
          1240041,
          404502,
          1451553,
          1457600,
          339923,
          2439961,
          492339,
          3144081,
          853506,
          231184,
          296843,
          8041902,
          1700414,
          683980,
          1768629,
          771105,
          292797,
          1630507,
          48901,
          2306620,
          420170,
          28303142,
          4362819,
          381855,
          4709364,
          6641243,
          82134,
          143729,
          632777,
          16045463,
          679302,
          2397438,
          743251,
          4270892,
          94072567,
          102373245,
          196445812
         ]
        }
       ],
       "layout": {
        "height": 500,
        "legend": {
         "tracegroupgap": 0
        },
        "margin": {
         "b": 25,
         "l": 25,
         "r": 250,
         "t": 50
        },
        "template": {
         "data": {
          "bar": [
           {
            "error_x": {
             "color": "#2a3f5f"
            },
            "error_y": {
             "color": "#2a3f5f"
            },
            "marker": {
             "line": {
              "color": "#E5ECF6",
              "width": 0.5
             },
             "pattern": {
              "fillmode": "overlay",
              "size": 10,
              "solidity": 0.2
             }
            },
            "type": "bar"
           }
          ],
          "barpolar": [
           {
            "marker": {
             "line": {
              "color": "#E5ECF6",
              "width": 0.5
             },
             "pattern": {
              "fillmode": "overlay",
              "size": 10,
              "solidity": 0.2
             }
            },
            "type": "barpolar"
           }
          ],
          "carpet": [
           {
            "aaxis": {
             "endlinecolor": "#2a3f5f",
             "gridcolor": "white",
             "linecolor": "white",
             "minorgridcolor": "white",
             "startlinecolor": "#2a3f5f"
            },
            "baxis": {
             "endlinecolor": "#2a3f5f",
             "gridcolor": "white",
             "linecolor": "white",
             "minorgridcolor": "white",
             "startlinecolor": "#2a3f5f"
            },
            "type": "carpet"
           }
          ],
          "choropleth": [
           {
            "colorbar": {
             "outlinewidth": 0,
             "ticks": ""
            },
            "type": "choropleth"
           }
          ],
          "contour": [
           {
            "colorbar": {
             "outlinewidth": 0,
             "ticks": ""
            },
            "colorscale": [
             [
              0,
              "#0d0887"
             ],
             [
              0.1111111111111111,
              "#46039f"
             ],
             [
              0.2222222222222222,
              "#7201a8"
             ],
             [
              0.3333333333333333,
              "#9c179e"
             ],
             [
              0.4444444444444444,
              "#bd3786"
             ],
             [
              0.5555555555555556,
              "#d8576b"
             ],
             [
              0.6666666666666666,
              "#ed7953"
             ],
             [
              0.7777777777777778,
              "#fb9f3a"
             ],
             [
              0.8888888888888888,
              "#fdca26"
             ],
             [
              1,
              "#f0f921"
             ]
            ],
            "type": "contour"
           }
          ],
          "contourcarpet": [
           {
            "colorbar": {
             "outlinewidth": 0,
             "ticks": ""
            },
            "type": "contourcarpet"
           }
          ],
          "heatmap": [
           {
            "colorbar": {
             "outlinewidth": 0,
             "ticks": ""
            },
            "colorscale": [
             [
              0,
              "#0d0887"
             ],
             [
              0.1111111111111111,
              "#46039f"
             ],
             [
              0.2222222222222222,
              "#7201a8"
             ],
             [
              0.3333333333333333,
              "#9c179e"
             ],
             [
              0.4444444444444444,
              "#bd3786"
             ],
             [
              0.5555555555555556,
              "#d8576b"
             ],
             [
              0.6666666666666666,
              "#ed7953"
             ],
             [
              0.7777777777777778,
              "#fb9f3a"
             ],
             [
              0.8888888888888888,
              "#fdca26"
             ],
             [
              1,
              "#f0f921"
             ]
            ],
            "type": "heatmap"
           }
          ],
          "heatmapgl": [
           {
            "colorbar": {
             "outlinewidth": 0,
             "ticks": ""
            },
            "colorscale": [
             [
              0,
              "#0d0887"
             ],
             [
              0.1111111111111111,
              "#46039f"
             ],
             [
              0.2222222222222222,
              "#7201a8"
             ],
             [
              0.3333333333333333,
              "#9c179e"
             ],
             [
              0.4444444444444444,
              "#bd3786"
             ],
             [
              0.5555555555555556,
              "#d8576b"
             ],
             [
              0.6666666666666666,
              "#ed7953"
             ],
             [
              0.7777777777777778,
              "#fb9f3a"
             ],
             [
              0.8888888888888888,
              "#fdca26"
             ],
             [
              1,
              "#f0f921"
             ]
            ],
            "type": "heatmapgl"
           }
          ],
          "histogram": [
           {
            "marker": {
             "pattern": {
              "fillmode": "overlay",
              "size": 10,
              "solidity": 0.2
             }
            },
            "type": "histogram"
           }
          ],
          "histogram2d": [
           {
            "colorbar": {
             "outlinewidth": 0,
             "ticks": ""
            },
            "colorscale": [
             [
              0,
              "#0d0887"
             ],
             [
              0.1111111111111111,
              "#46039f"
             ],
             [
              0.2222222222222222,
              "#7201a8"
             ],
             [
              0.3333333333333333,
              "#9c179e"
             ],
             [
              0.4444444444444444,
              "#bd3786"
             ],
             [
              0.5555555555555556,
              "#d8576b"
             ],
             [
              0.6666666666666666,
              "#ed7953"
             ],
             [
              0.7777777777777778,
              "#fb9f3a"
             ],
             [
              0.8888888888888888,
              "#fdca26"
             ],
             [
              1,
              "#f0f921"
             ]
            ],
            "type": "histogram2d"
           }
          ],
          "histogram2dcontour": [
           {
            "colorbar": {
             "outlinewidth": 0,
             "ticks": ""
            },
            "colorscale": [
             [
              0,
              "#0d0887"
             ],
             [
              0.1111111111111111,
              "#46039f"
             ],
             [
              0.2222222222222222,
              "#7201a8"
             ],
             [
              0.3333333333333333,
              "#9c179e"
             ],
             [
              0.4444444444444444,
              "#bd3786"
             ],
             [
              0.5555555555555556,
              "#d8576b"
             ],
             [
              0.6666666666666666,
              "#ed7953"
             ],
             [
              0.7777777777777778,
              "#fb9f3a"
             ],
             [
              0.8888888888888888,
              "#fdca26"
             ],
             [
              1,
              "#f0f921"
             ]
            ],
            "type": "histogram2dcontour"
           }
          ],
          "mesh3d": [
           {
            "colorbar": {
             "outlinewidth": 0,
             "ticks": ""
            },
            "type": "mesh3d"
           }
          ],
          "parcoords": [
           {
            "line": {
             "colorbar": {
              "outlinewidth": 0,
              "ticks": ""
             }
            },
            "type": "parcoords"
           }
          ],
          "pie": [
           {
            "automargin": true,
            "type": "pie"
           }
          ],
          "scatter": [
           {
            "marker": {
             "colorbar": {
              "outlinewidth": 0,
              "ticks": ""
             }
            },
            "type": "scatter"
           }
          ],
          "scatter3d": [
           {
            "line": {
             "colorbar": {
              "outlinewidth": 0,
              "ticks": ""
             }
            },
            "marker": {
             "colorbar": {
              "outlinewidth": 0,
              "ticks": ""
             }
            },
            "type": "scatter3d"
           }
          ],
          "scattercarpet": [
           {
            "marker": {
             "colorbar": {
              "outlinewidth": 0,
              "ticks": ""
             }
            },
            "type": "scattercarpet"
           }
          ],
          "scattergeo": [
           {
            "marker": {
             "colorbar": {
              "outlinewidth": 0,
              "ticks": ""
             }
            },
            "type": "scattergeo"
           }
          ],
          "scattergl": [
           {
            "marker": {
             "colorbar": {
              "outlinewidth": 0,
              "ticks": ""
             }
            },
            "type": "scattergl"
           }
          ],
          "scattermapbox": [
           {
            "marker": {
             "colorbar": {
              "outlinewidth": 0,
              "ticks": ""
             }
            },
            "type": "scattermapbox"
           }
          ],
          "scatterpolar": [
           {
            "marker": {
             "colorbar": {
              "outlinewidth": 0,
              "ticks": ""
             }
            },
            "type": "scatterpolar"
           }
          ],
          "scatterpolargl": [
           {
            "marker": {
             "colorbar": {
              "outlinewidth": 0,
              "ticks": ""
             }
            },
            "type": "scatterpolargl"
           }
          ],
          "scatterternary": [
           {
            "marker": {
             "colorbar": {
              "outlinewidth": 0,
              "ticks": ""
             }
            },
            "type": "scatterternary"
           }
          ],
          "surface": [
           {
            "colorbar": {
             "outlinewidth": 0,
             "ticks": ""
            },
            "colorscale": [
             [
              0,
              "#0d0887"
             ],
             [
              0.1111111111111111,
              "#46039f"
             ],
             [
              0.2222222222222222,
              "#7201a8"
             ],
             [
              0.3333333333333333,
              "#9c179e"
             ],
             [
              0.4444444444444444,
              "#bd3786"
             ],
             [
              0.5555555555555556,
              "#d8576b"
             ],
             [
              0.6666666666666666,
              "#ed7953"
             ],
             [
              0.7777777777777778,
              "#fb9f3a"
             ],
             [
              0.8888888888888888,
              "#fdca26"
             ],
             [
              1,
              "#f0f921"
             ]
            ],
            "type": "surface"
           }
          ],
          "table": [
           {
            "cells": {
             "fill": {
              "color": "#EBF0F8"
             },
             "line": {
              "color": "white"
             }
            },
            "header": {
             "fill": {
              "color": "#C8D4E3"
             },
             "line": {
              "color": "white"
             }
            },
            "type": "table"
           }
          ]
         },
         "layout": {
          "annotationdefaults": {
           "arrowcolor": "#2a3f5f",
           "arrowhead": 0,
           "arrowwidth": 1
          },
          "autotypenumbers": "strict",
          "coloraxis": {
           "colorbar": {
            "outlinewidth": 0,
            "ticks": ""
           }
          },
          "colorscale": {
           "diverging": [
            [
             0,
             "#8e0152"
            ],
            [
             0.1,
             "#c51b7d"
            ],
            [
             0.2,
             "#de77ae"
            ],
            [
             0.3,
             "#f1b6da"
            ],
            [
             0.4,
             "#fde0ef"
            ],
            [
             0.5,
             "#f7f7f7"
            ],
            [
             0.6,
             "#e6f5d0"
            ],
            [
             0.7,
             "#b8e186"
            ],
            [
             0.8,
             "#7fbc41"
            ],
            [
             0.9,
             "#4d9221"
            ],
            [
             1,
             "#276419"
            ]
           ],
           "sequential": [
            [
             0,
             "#0d0887"
            ],
            [
             0.1111111111111111,
             "#46039f"
            ],
            [
             0.2222222222222222,
             "#7201a8"
            ],
            [
             0.3333333333333333,
             "#9c179e"
            ],
            [
             0.4444444444444444,
             "#bd3786"
            ],
            [
             0.5555555555555556,
             "#d8576b"
            ],
            [
             0.6666666666666666,
             "#ed7953"
            ],
            [
             0.7777777777777778,
             "#fb9f3a"
            ],
            [
             0.8888888888888888,
             "#fdca26"
            ],
            [
             1,
             "#f0f921"
            ]
           ],
           "sequentialminus": [
            [
             0,
             "#0d0887"
            ],
            [
             0.1111111111111111,
             "#46039f"
            ],
            [
             0.2222222222222222,
             "#7201a8"
            ],
            [
             0.3333333333333333,
             "#9c179e"
            ],
            [
             0.4444444444444444,
             "#bd3786"
            ],
            [
             0.5555555555555556,
             "#d8576b"
            ],
            [
             0.6666666666666666,
             "#ed7953"
            ],
            [
             0.7777777777777778,
             "#fb9f3a"
            ],
            [
             0.8888888888888888,
             "#fdca26"
            ],
            [
             1,
             "#f0f921"
            ]
           ]
          },
          "colorway": [
           "#636efa",
           "#EF553B",
           "#00cc96",
           "#ab63fa",
           "#FFA15A",
           "#19d3f3",
           "#FF6692",
           "#B6E880",
           "#FF97FF",
           "#FECB52"
          ],
          "font": {
           "color": "#2a3f5f"
          },
          "geo": {
           "bgcolor": "white",
           "lakecolor": "white",
           "landcolor": "#E5ECF6",
           "showlakes": true,
           "showland": true,
           "subunitcolor": "white"
          },
          "hoverlabel": {
           "align": "left"
          },
          "hovermode": "closest",
          "mapbox": {
           "style": "light"
          },
          "paper_bgcolor": "white",
          "plot_bgcolor": "#E5ECF6",
          "polar": {
           "angularaxis": {
            "gridcolor": "white",
            "linecolor": "white",
            "ticks": ""
           },
           "bgcolor": "#E5ECF6",
           "radialaxis": {
            "gridcolor": "white",
            "linecolor": "white",
            "ticks": ""
           }
          },
          "scene": {
           "xaxis": {
            "backgroundcolor": "#E5ECF6",
            "gridcolor": "white",
            "gridwidth": 2,
            "linecolor": "white",
            "showbackground": true,
            "ticks": "",
            "zerolinecolor": "white"
           },
           "yaxis": {
            "backgroundcolor": "#E5ECF6",
            "gridcolor": "white",
            "gridwidth": 2,
            "linecolor": "white",
            "showbackground": true,
            "ticks": "",
            "zerolinecolor": "white"
           },
           "zaxis": {
            "backgroundcolor": "#E5ECF6",
            "gridcolor": "white",
            "gridwidth": 2,
            "linecolor": "white",
            "showbackground": true,
            "ticks": "",
            "zerolinecolor": "white"
           }
          },
          "shapedefaults": {
           "line": {
            "color": "#2a3f5f"
           }
          },
          "ternary": {
           "aaxis": {
            "gridcolor": "white",
            "linecolor": "white",
            "ticks": ""
           },
           "baxis": {
            "gridcolor": "white",
            "linecolor": "white",
            "ticks": ""
           },
           "bgcolor": "#E5ECF6",
           "caxis": {
            "gridcolor": "white",
            "linecolor": "white",
            "ticks": ""
           }
          },
          "title": {
           "x": 0.05
          },
          "xaxis": {
           "automargin": true,
           "gridcolor": "white",
           "linecolor": "white",
           "ticks": "",
           "title": {
            "standoff": 15
           },
           "zerolinecolor": "white",
           "zerolinewidth": 2
          },
          "yaxis": {
           "automargin": true,
           "gridcolor": "white",
           "linecolor": "white",
           "ticks": "",
           "title": {
            "standoff": 15
           },
           "zerolinecolor": "white",
           "zerolinewidth": 2
          }
         }
        },
        "width": 1300
       }
      },
      "image/png": "[encoded data removed]",
      "text/html": [
       "<div>                            <div id=\"705d2765-cece-4c9f-9fb3-9925e26f95fb\" class=\"plotly-graph-div\" style=\"height:500px; width:1300px;\"></div>            <script type=\"text/javascript\">                require([\"plotly\"], function(Plotly) {                    window.PLOTLYENV=window.PLOTLYENV || {};                                    if (document.getElementById(\"705d2765-cece-4c9f-9fb3-9925e26f95fb\")) {                    Plotly.newPlot(                        \"705d2765-cece-4c9f-9fb3-9925e26f95fb\",                        [{\"branchvalues\":\"total\",\"customdata\":[[\"Tram und Bus Wartehalle\"],[\"Mehrfamilienhaus mit Gesch\\u00e4ftsr\\u00e4umen\"],[\"Theater-, Konzert- und Kinogeb\\u00e4ude\"],[\"\\u00dcbriges Geb\\u00e4ude f\\u00fcr Industrie\"],[\"Zoologischer Garten\"],[\"Versammlungsgeb\\u00e4ude, Mehrzweckhalle\"],[\"Bahngeb\\u00e4ude\"],[\"Mehrfamilienhaus\"],[\"\\u00dcbriges Geb\\u00e4ude des Gesundheitswesens\"],[\"\\u00dcbriges Geb\\u00e4ude f\\u00fcr Schulzwecke\"],[\"Sporthalle, Hallenbad, Turnhalle\"],[\"\\u00dcbrige Kleingeb\\u00e4ude\"],[\"Hort, Kindergarten\"],[\"Werkstattgeb\\u00e4ude\"],[\"Zweifamilienhaus\"],[\"Milit\\u00e4r-, Luftschutz-, Polizei- und Feuerwehrgeb\\u00e4ude\"],[\"Hotel\"],[\"Landwirtschafts-, G\\u00e4rtnerei- und Oekonomiegeb\\u00e4ude\"],[\"Spital- und Klinikgeb\\u00e4ude\"],[\"Kirche, Moschee, Synagoge\"],[\"\\u00dcbriges Kultusgeb\\u00e4ude\"],[\"\\u00dcbriges Geb\\u00e4ude f\\u00fcr Sport\"],[\"Garagen (mehr als 9 Parkpl\\u00e4tze)\"],[\"Lager, Silo\"],[\"Kranken- und Pflegeheime\"],[\"Gross- und Einzelhandelsgeb\\u00e4ude\"],[\"Andere Geb\\u00e4ude f\\u00fcr kurzfristige Beherbergung\"],[\"Zweifamilienhaus mit Gesch\\u00e4ftsr\\u00e4umen\"],[\"Wohngeb\\u00e4ude f\\u00fcr Gemeinschaften\"],[\"Strafvollzugs- und Untersuchungshaftanstalt\"],[\"Alterswohnhaus-/heim\"],[\"Kirchgemeindehaus\"],[\"Gesch\\u00e4ftshaus\"],[\"Industriegeb\\u00e4ude\"],[\"Restaurant in Nichtwohngeb\\u00e4ude\"],[\"Schulhaus\"],[\"Hochschulgeb\\u00e4ude\"],[\"Restaurant in Wohngeb\\u00e4ude\"],[\"Einfamilienhaus mit Gesch\\u00e4ftsr\\u00e4umen\"],[\"Radio und Fernsehen\"],[\"B\\u00fcrogeb\\u00e4ude\"],[\"Museen und Bibliotheken\"],[\"Einfamilienhaus freistehend\"],[\"Garagen (1-9 Parkpl\\u00e4tze)\"],[\"Einfamilienhaus angebaut\"],[\"(?)\"],[\"(?)\"],[\"(?)\"]],\"domain\":{\"x\":[0.0,1.0],\"y\":[0.0,1.0]},\"hovertemplate\":\"labels=%{label}<br>sum_Rauminhalt=%{value}<br>parent=%{parent}<br>id=%{id}<br>GebaeudeartLevel1Name=%{customdata[0]}<extra></extra>\",\"ids\":[\"Rauminhalt der Geb\\u00e4ude nach Geb\\u00e4udearten 2021/Nichtwohngeb\\u00e4ude/Tram und Bus Wartehalle\",\"Rauminhalt der Geb\\u00e4ude nach Geb\\u00e4udearten 2021/Wohngeb\\u00e4ude/Mehrfamilienhaus mit Gesch\\u00e4ftsr\\u00e4umen\",\"Rauminhalt der Geb\\u00e4ude nach Geb\\u00e4udearten 2021/Nichtwohngeb\\u00e4ude/Theater-, Konzert- und Kinogeb\\u00e4ude\",\"Rauminhalt der Geb\\u00e4ude nach Geb\\u00e4udearten 2021/Nichtwohngeb\\u00e4ude/\\u00dcbriges Geb\\u00e4ude f\\u00fcr Industrie\",\"Rauminhalt der Geb\\u00e4ude nach Geb\\u00e4udearten 2021/Nichtwohngeb\\u00e4ude/Zoologischer Garten\",\"Rauminhalt der Geb\\u00e4ude nach Geb\\u00e4udearten 2021/Nichtwohngeb\\u00e4ude/Versammlungsgeb\\u00e4ude, Mehrzweckhalle\",\"Rauminhalt der Geb\\u00e4ude nach Geb\\u00e4udearten 2021/Nichtwohngeb\\u00e4ude/Bahngeb\\u00e4ude\",\"Rauminhalt der Geb\\u00e4ude nach Geb\\u00e4udearten 2021/Wohngeb\\u00e4ude/Mehrfamilienhaus\",\"Rauminhalt der Geb\\u00e4ude nach Geb\\u00e4udearten 2021/Nichtwohngeb\\u00e4ude/\\u00dcbriges Geb\\u00e4ude des Gesundheitswesens\",\"Rauminhalt der Geb\\u00e4ude nach Geb\\u00e4udearten 2021/Nichtwohngeb\\u00e4ude/\\u00dcbriges Geb\\u00e4ude f\\u00fcr Schulzwecke\",\"Rauminhalt der Geb\\u00e4ude nach Geb\\u00e4udearten 2021/Nichtwohngeb\\u00e4ude/Sporthalle, Hallenbad, Turnhalle\",\"Rauminhalt der Geb\\u00e4ude nach Geb\\u00e4udearten 2021/Nichtwohngeb\\u00e4ude/\\u00dcbrige Kleingeb\\u00e4ude\",\"Rauminhalt der Geb\\u00e4ude nach Geb\\u00e4udearten 2021/Nichtwohngeb\\u00e4ude/Hort, Kindergarten\",\"Rauminhalt der Geb\\u00e4ude nach Geb\\u00e4udearten 2021/Nichtwohngeb\\u00e4ude/Werkstattgeb\\u00e4ude\",\"Rauminhalt der Geb\\u00e4ude nach Geb\\u00e4udearten 2021/Wohngeb\\u00e4ude/Zweifamilienhaus\",\"Rauminhalt der Geb\\u00e4ude nach Geb\\u00e4udearten 2021/Nichtwohngeb\\u00e4ude/Milit\\u00e4r-, Luftschutz-, Polizei- und Feuerwehrgeb\\u00e4ude\",\"Rauminhalt der Geb\\u00e4ude nach Geb\\u00e4udearten 2021/Nichtwohngeb\\u00e4ude/Hotel\",\"Rauminhalt der Geb\\u00e4ude nach Geb\\u00e4udearten 2021/Nichtwohngeb\\u00e4ude/Landwirtschafts-, G\\u00e4rtnerei- und Oekonomiegeb\\u00e4ude\",\"Rauminhalt der Geb\\u00e4ude nach Geb\\u00e4udearten 2021/Nichtwohngeb\\u00e4ude/Spital- und Klinikgeb\\u00e4ude\",\"Rauminhalt der Geb\\u00e4ude nach Geb\\u00e4udearten 2021/Nichtwohngeb\\u00e4ude/Kirche, Moschee, Synagoge\",\"Rauminhalt der Geb\\u00e4ude nach Geb\\u00e4udearten 2021/Nichtwohngeb\\u00e4ude/\\u00dcbriges Kultusgeb\\u00e4ude\",\"Rauminhalt der Geb\\u00e4ude nach Geb\\u00e4udearten 2021/Nichtwohngeb\\u00e4ude/\\u00dcbriges Geb\\u00e4ude f\\u00fcr Sport\",\"Rauminhalt der Geb\\u00e4ude nach Geb\\u00e4udearten 2021/Nichtwohngeb\\u00e4ude/Garagen (mehr als 9 Parkpl\\u00e4tze)\",\"Rauminhalt der Geb\\u00e4ude nach Geb\\u00e4udearten 2021/Nichtwohngeb\\u00e4ude/Lager, Silo\",\"Rauminhalt der Geb\\u00e4ude nach Geb\\u00e4udearten 2021/Nichtwohngeb\\u00e4ude/Kranken- und Pflegeheime\",\"Rauminhalt der Geb\\u00e4ude nach Geb\\u00e4udearten 2021/Nichtwohngeb\\u00e4ude/Gross- und Einzelhandelsgeb\\u00e4ude\",\"Rauminhalt der Geb\\u00e4ude nach Geb\\u00e4udearten 2021/Nichtwohngeb\\u00e4ude/Andere Geb\\u00e4ude f\\u00fcr kurzfristige Beherbergung\",\"Rauminhalt der Geb\\u00e4ude nach Geb\\u00e4udearten 2021/Wohngeb\\u00e4ude/Zweifamilienhaus mit Gesch\\u00e4ftsr\\u00e4umen\",\"Rauminhalt der Geb\\u00e4ude nach Geb\\u00e4udearten 2021/Wohngeb\\u00e4ude/Wohngeb\\u00e4ude f\\u00fcr Gemeinschaften\",\"Rauminhalt der Geb\\u00e4ude nach Geb\\u00e4udearten 2021/Nichtwohngeb\\u00e4ude/Strafvollzugs- und Untersuchungshaftanstalt\",\"Rauminhalt der Geb\\u00e4ude nach Geb\\u00e4udearten 2021/Wohngeb\\u00e4ude/Alterswohnhaus-/heim\",\"Rauminhalt der Geb\\u00e4ude nach Geb\\u00e4udearten 2021/Nichtwohngeb\\u00e4ude/Kirchgemeindehaus\",\"Rauminhalt der Geb\\u00e4ude nach Geb\\u00e4udearten 2021/Nichtwohngeb\\u00e4ude/Gesch\\u00e4ftshaus\",\"Rauminhalt der Geb\\u00e4ude nach Geb\\u00e4udearten 2021/Nichtwohngeb\\u00e4ude/Industriegeb\\u00e4ude\",\"Rauminhalt der Geb\\u00e4ude nach Geb\\u00e4udearten 2021/Nichtwohngeb\\u00e4ude/Restaurant in Nichtwohngeb\\u00e4ude\",\"Rauminhalt der Geb\\u00e4ude nach Geb\\u00e4udearten 2021/Nichtwohngeb\\u00e4ude/Schulhaus\",\"Rauminhalt der Geb\\u00e4ude nach Geb\\u00e4udearten 2021/Nichtwohngeb\\u00e4ude/Hochschulgeb\\u00e4ude\",\"Rauminhalt der Geb\\u00e4ude nach Geb\\u00e4udearten 2021/Nichtwohngeb\\u00e4ude/Restaurant in Wohngeb\\u00e4ude\",\"Rauminhalt der Geb\\u00e4ude nach Geb\\u00e4udearten 2021/Wohngeb\\u00e4ude/Einfamilienhaus mit Gesch\\u00e4ftsr\\u00e4umen\",\"Rauminhalt der Geb\\u00e4ude nach Geb\\u00e4udearten 2021/Nichtwohngeb\\u00e4ude/Radio und Fernsehen\",\"Rauminhalt der Geb\\u00e4ude nach Geb\\u00e4udearten 2021/Nichtwohngeb\\u00e4ude/B\\u00fcrogeb\\u00e4ude\",\"Rauminhalt der Geb\\u00e4ude nach Geb\\u00e4udearten 2021/Nichtwohngeb\\u00e4ude/Museen und Bibliotheken\",\"Rauminhalt der Geb\\u00e4ude nach Geb\\u00e4udearten 2021/Wohngeb\\u00e4ude/Einfamilienhaus freistehend\",\"Rauminhalt der Geb\\u00e4ude nach Geb\\u00e4udearten 2021/Nichtwohngeb\\u00e4ude/Garagen (1-9 Parkpl\\u00e4tze)\",\"Rauminhalt der Geb\\u00e4ude nach Geb\\u00e4udearten 2021/Wohngeb\\u00e4ude/Einfamilienhaus angebaut\",\"Rauminhalt der Geb\\u00e4ude nach Geb\\u00e4udearten 2021/Nichtwohngeb\\u00e4ude\",\"Rauminhalt der Geb\\u00e4ude nach Geb\\u00e4udearten 2021/Wohngeb\\u00e4ude\",\"Rauminhalt der Geb\\u00e4ude nach Geb\\u00e4udearten 2021\"],\"labels\":[\"Tram und Bus Wartehalle\",\"Mehrfamilienhaus mit Gesch\\u00e4ftsr\\u00e4umen\",\"Theater-, Konzert- und Kinogeb\\u00e4ude\",\"\\u00dcbriges Geb\\u00e4ude f\\u00fcr Industrie\",\"Zoologischer Garten\",\"Versammlungsgeb\\u00e4ude, Mehrzweckhalle\",\"Bahngeb\\u00e4ude\",\"Mehrfamilienhaus\",\"\\u00dcbriges Geb\\u00e4ude des Gesundheitswesens\",\"\\u00dcbriges Geb\\u00e4ude f\\u00fcr Schulzwecke\",\"Sporthalle, Hallenbad, Turnhalle\",\"\\u00dcbrige Kleingeb\\u00e4ude\",\"Hort, Kindergarten\",\"Werkstattgeb\\u00e4ude\",\"Zweifamilienhaus\",\"Milit\\u00e4r-, Luftschutz-, Polizei- und Feuerwehrgeb\\u00e4ude\",\"Hotel\",\"Landwirtschafts-, G\\u00e4rtnerei- und Oekonomiegeb\\u00e4ude\",\"Spital- und Klinikgeb\\u00e4ude\",\"Kirche, Moschee, Synagoge\",\"\\u00dcbriges Kultusgeb\\u00e4ude\",\"\\u00dcbriges Geb\\u00e4ude f\\u00fcr Sport\",\"Garagen (mehr als 9 Parkpl\\u00e4tze)\",\"Lager, Silo\",\"Kranken- und Pflegeheime\",\"Gross- und Einzelhandelsgeb\\u00e4ude\",\"Andere Geb\\u00e4ude f\\u00fcr kurzfristige Beherbergung\",\"Zweifamilienhaus mit Gesch\\u00e4ftsr\\u00e4umen\",\"Wohngeb\\u00e4ude f\\u00fcr Gemeinschaften\",\"Strafvollzugs- und Untersuchungshaftanstalt\",\"Alterswohnhaus-/heim\",\"Kirchgemeindehaus\",\"Gesch\\u00e4ftshaus\",\"Industriegeb\\u00e4ude\",\"Restaurant in Nichtwohngeb\\u00e4ude\",\"Schulhaus\",\"Hochschulgeb\\u00e4ude\",\"Restaurant in Wohngeb\\u00e4ude\",\"Einfamilienhaus mit Gesch\\u00e4ftsr\\u00e4umen\",\"Radio und Fernsehen\",\"B\\u00fcrogeb\\u00e4ude\",\"Museen und Bibliotheken\",\"Einfamilienhaus freistehend\",\"Garagen (1-9 Parkpl\\u00e4tze)\",\"Einfamilienhaus angebaut\",\"Nichtwohngeb\\u00e4ude\",\"Wohngeb\\u00e4ude\",\"Rauminhalt der Geb\\u00e4ude nach Geb\\u00e4udearten 2021\"],\"marker\":{\"colors\":[\"#00cc96\",\"#ab63fa\",\"#FFA15A\",\"#19d3f3\",\"#FF6692\",\"#B6E880\",\"#FF97FF\",\"#FECB52\",\"#636efa\",\"#EF553B\",\"#00cc96\",\"#ab63fa\",\"#FFA15A\",\"#19d3f3\",\"#FF6692\",\"#B6E880\",\"#FF97FF\",\"#FECB52\",\"#636efa\",\"#EF553B\",\"#00cc96\",\"#ab63fa\",\"#FFA15A\",\"#19d3f3\",\"#FF6692\",\"#B6E880\",\"#FF97FF\",\"#FECB52\",\"#636efa\",\"#EF553B\",\"#00cc96\",\"#ab63fa\",\"#FFA15A\",\"#19d3f3\",\"#FF6692\",\"#B6E880\",\"#FF97FF\",\"#FECB52\",\"#636efa\",\"#EF553B\",\"#00cc96\",\"#ab63fa\",\"#FFA15A\",\"#19d3f3\",\"#FF6692\",\"lightgrey\",\"lightgrey\",\"lightgrey\"]},\"name\":\"\",\"parents\":[\"Rauminhalt der Geb\\u00e4ude nach Geb\\u00e4udearten 2021/Nichtwohngeb\\u00e4ude\",\"Rauminhalt der Geb\\u00e4ude nach Geb\\u00e4udearten 2021/Wohngeb\\u00e4ude\",\"Rauminhalt der Geb\\u00e4ude nach Geb\\u00e4udearten 2021/Nichtwohngeb\\u00e4ude\",\"Rauminhalt der Geb\\u00e4ude nach Geb\\u00e4udearten 2021/Nichtwohngeb\\u00e4ude\",\"Rauminhalt der Geb\\u00e4ude nach Geb\\u00e4udearten 2021/Nichtwohngeb\\u00e4ude\",\"Rauminhalt der Geb\\u00e4ude nach Geb\\u00e4udearten 2021/Nichtwohngeb\\u00e4ude\",\"Rauminhalt der Geb\\u00e4ude nach Geb\\u00e4udearten 2021/Nichtwohngeb\\u00e4ude\",\"Rauminhalt der Geb\\u00e4ude nach Geb\\u00e4udearten 2021/Wohngeb\\u00e4ude\",\"Rauminhalt der Geb\\u00e4ude nach Geb\\u00e4udearten 2021/Nichtwohngeb\\u00e4ude\",\"Rauminhalt der Geb\\u00e4ude nach Geb\\u00e4udearten 2021/Nichtwohngeb\\u00e4ude\",\"Rauminhalt der Geb\\u00e4ude nach Geb\\u00e4udearten 2021/Nichtwohngeb\\u00e4ude\",\"Rauminhalt der Geb\\u00e4ude nach Geb\\u00e4udearten 2021/Nichtwohngeb\\u00e4ude\",\"Rauminhalt der Geb\\u00e4ude nach Geb\\u00e4udearten 2021/Nichtwohngeb\\u00e4ude\",\"Rauminhalt der Geb\\u00e4ude nach Geb\\u00e4udearten 2021/Nichtwohngeb\\u00e4ude\",\"Rauminhalt der Geb\\u00e4ude nach Geb\\u00e4udearten 2021/Wohngeb\\u00e4ude\",\"Rauminhalt der Geb\\u00e4ude nach Geb\\u00e4udearten 2021/Nichtwohngeb\\u00e4ude\",\"Rauminhalt der Geb\\u00e4ude nach Geb\\u00e4udearten 2021/Nichtwohngeb\\u00e4ude\",\"Rauminhalt der Geb\\u00e4ude nach Geb\\u00e4udearten 2021/Nichtwohngeb\\u00e4ude\",\"Rauminhalt der Geb\\u00e4ude nach Geb\\u00e4udearten 2021/Nichtwohngeb\\u00e4ude\",\"Rauminhalt der Geb\\u00e4ude nach Geb\\u00e4udearten 2021/Nichtwohngeb\\u00e4ude\",\"Rauminhalt der Geb\\u00e4ude nach Geb\\u00e4udearten 2021/Nichtwohngeb\\u00e4ude\",\"Rauminhalt der Geb\\u00e4ude nach Geb\\u00e4udearten 2021/Nichtwohngeb\\u00e4ude\",\"Rauminhalt der Geb\\u00e4ude nach Geb\\u00e4udearten 2021/Nichtwohngeb\\u00e4ude\",\"Rauminhalt der Geb\\u00e4ude nach Geb\\u00e4udearten 2021/Nichtwohngeb\\u00e4ude\",\"Rauminhalt der Geb\\u00e4ude nach Geb\\u00e4udearten 2021/Nichtwohngeb\\u00e4ude\",\"Rauminhalt der Geb\\u00e4ude nach Geb\\u00e4udearten 2021/Nichtwohngeb\\u00e4ude\",\"Rauminhalt der Geb\\u00e4ude nach Geb\\u00e4udearten 2021/Nichtwohngeb\\u00e4ude\",\"Rauminhalt der Geb\\u00e4ude nach Geb\\u00e4udearten 2021/Wohngeb\\u00e4ude\",\"Rauminhalt der Geb\\u00e4ude nach Geb\\u00e4udearten 2021/Wohngeb\\u00e4ude\",\"Rauminhalt der Geb\\u00e4ude nach Geb\\u00e4udearten 2021/Nichtwohngeb\\u00e4ude\",\"Rauminhalt der Geb\\u00e4ude nach Geb\\u00e4udearten 2021/Wohngeb\\u00e4ude\",\"Rauminhalt der Geb\\u00e4ude nach Geb\\u00e4udearten 2021/Nichtwohngeb\\u00e4ude\",\"Rauminhalt der Geb\\u00e4ude nach Geb\\u00e4udearten 2021/Nichtwohngeb\\u00e4ude\",\"Rauminhalt der Geb\\u00e4ude nach Geb\\u00e4udearten 2021/Nichtwohngeb\\u00e4ude\",\"Rauminhalt der Geb\\u00e4ude nach Geb\\u00e4udearten 2021/Nichtwohngeb\\u00e4ude\",\"Rauminhalt der Geb\\u00e4ude nach Geb\\u00e4udearten 2021/Nichtwohngeb\\u00e4ude\",\"Rauminhalt der Geb\\u00e4ude nach Geb\\u00e4udearten 2021/Nichtwohngeb\\u00e4ude\",\"Rauminhalt der Geb\\u00e4ude nach Geb\\u00e4udearten 2021/Nichtwohngeb\\u00e4ude\",\"Rauminhalt der Geb\\u00e4ude nach Geb\\u00e4udearten 2021/Wohngeb\\u00e4ude\",\"Rauminhalt der Geb\\u00e4ude nach Geb\\u00e4udearten 2021/Nichtwohngeb\\u00e4ude\",\"Rauminhalt der Geb\\u00e4ude nach Geb\\u00e4udearten 2021/Nichtwohngeb\\u00e4ude\",\"Rauminhalt der Geb\\u00e4ude nach Geb\\u00e4udearten 2021/Nichtwohngeb\\u00e4ude\",\"Rauminhalt der Geb\\u00e4ude nach Geb\\u00e4udearten 2021/Wohngeb\\u00e4ude\",\"Rauminhalt der Geb\\u00e4ude nach Geb\\u00e4udearten 2021/Nichtwohngeb\\u00e4ude\",\"Rauminhalt der Geb\\u00e4ude nach Geb\\u00e4udearten 2021/Wohngeb\\u00e4ude\",\"Rauminhalt der Geb\\u00e4ude nach Geb\\u00e4udearten 2021\",\"Rauminhalt der Geb\\u00e4ude nach Geb\\u00e4udearten 2021\",\"\"],\"root\":{\"color\":\"grey\"},\"type\":\"treemap\",\"values\":[373698,35794270,510179,988732,386672,486027,2182511,54079392,194031,244153,1796180,1240041,404502,1451553,1457600,339923,2439961,492339,3144081,853506,231184,296843,8041902,1700414,683980,1768629,771105,292797,1630507,48901,2306620,420170,28303142,4362819,381855,4709364,6641243,82134,143729,632777,16045463,679302,2397438,743251,4270892,94072567,102373245,196445812]}],                        {\"height\":500,\"legend\":{\"tracegroupgap\":0},\"margin\":{\"b\":25,\"l\":25,\"r\":250,\"t\":50},\"template\":{\"data\":{\"bar\":[{\"error_x\":{\"color\":\"#2a3f5f\"},\"error_y\":{\"color\":\"#2a3f5f\"},\"marker\":{\"line\":{\"color\":\"#E5ECF6\",\"width\":0.5},\"pattern\":{\"fillmode\":\"overlay\",\"size\":10,\"solidity\":0.2}},\"type\":\"bar\"}],\"barpolar\":[{\"marker\":{\"line\":{\"color\":\"#E5ECF6\",\"width\":0.5},\"pattern\":{\"fillmode\":\"overlay\",\"size\":10,\"solidity\":0.2}},\"type\":\"barpolar\"}],\"carpet\":[{\"aaxis\":{\"endlinecolor\":\"#2a3f5f\",\"gridcolor\":\"white\",\"linecolor\":\"white\",\"minorgridcolor\":\"white\",\"startlinecolor\":\"#2a3f5f\"},\"baxis\":{\"endlinecolor\":\"#2a3f5f\",\"gridcolor\":\"white\",\"linecolor\":\"white\",\"minorgridcolor\":\"white\",\"startlinecolor\":\"#2a3f5f\"},\"type\":\"carpet\"}],\"choropleth\":[{\"colorbar\":{\"outlinewidth\":0,\"ticks\":\"\"},\"type\":\"choropleth\"}],\"contour\":[{\"colorbar\":{\"outlinewidth\":0,\"ticks\":\"\"},\"colorscale\":[[0.0,\"#0d0887\"],[0.1111111111111111,\"#46039f\"],[0.2222222222222222,\"#7201a8\"],[0.3333333333333333,\"#9c179e\"],[0.4444444444444444,\"#bd3786\"],[0.5555555555555556,\"#d8576b\"],[0.6666666666666666,\"#ed7953\"],[0.7777777777777778,\"#fb9f3a\"],[0.8888888888888888,\"#fdca26\"],[1.0,\"#f0f921\"]],\"type\":\"contour\"}],\"contourcarpet\":[{\"colorbar\":{\"outlinewidth\":0,\"ticks\":\"\"},\"type\":\"contourcarpet\"}],\"heatmap\":[{\"colorbar\":{\"outlinewidth\":0,\"ticks\":\"\"},\"colorscale\":[[0.0,\"#0d0887\"],[0.1111111111111111,\"#46039f\"],[0.2222222222222222,\"#7201a8\"],[0.3333333333333333,\"#9c179e\"],[0.4444444444444444,\"#bd3786\"],[0.5555555555555556,\"#d8576b\"],[0.6666666666666666,\"#ed7953\"],[0.7777777777777778,\"#fb9f3a\"],[0.8888888888888888,\"#fdca26\"],[1.0,\"#f0f921\"]],\"type\":\"heatmap\"}],\"heatmapgl\":[{\"colorbar\":{\"outlinewidth\":0,\"ticks\":\"\"},\"colorscale\":[[0.0,\"#0d0887\"],[0.1111111111111111,\"#46039f\"],[0.2222222222222222,\"#7201a8\"],[0.3333333333333333,\"#9c179e\"],[0.4444444444444444,\"#bd3786\"],[0.5555555555555556,\"#d8576b\"],[0.6666666666666666,\"#ed7953\"],[0.7777777777777778,\"#fb9f3a\"],[0.8888888888888888,\"#fdca26\"],[1.0,\"#f0f921\"]],\"type\":\"heatmapgl\"}],\"histogram\":[{\"marker\":{\"pattern\":{\"fillmode\":\"overlay\",\"size\":10,\"solidity\":0.2}},\"type\":\"histogram\"}],\"histogram2d\":[{\"colorbar\":{\"outlinewidth\":0,\"ticks\":\"\"},\"colorscale\":[[0.0,\"#0d0887\"],[0.1111111111111111,\"#46039f\"],[0.2222222222222222,\"#7201a8\"],[0.3333333333333333,\"#9c179e\"],[0.4444444444444444,\"#bd3786\"],[0.5555555555555556,\"#d8576b\"],[0.6666666666666666,\"#ed7953\"],[0.7777777777777778,\"#fb9f3a\"],[0.8888888888888888,\"#fdca26\"],[1.0,\"#f0f921\"]],\"type\":\"histogram2d\"}],\"histogram2dcontour\":[{\"colorbar\":{\"outlinewidth\":0,\"ticks\":\"\"},\"colorscale\":[[0.0,\"#0d0887\"],[0.1111111111111111,\"#46039f\"],[0.2222222222222222,\"#7201a8\"],[0.3333333333333333,\"#9c179e\"],[0.4444444444444444,\"#bd3786\"],[0.5555555555555556,\"#d8576b\"],[0.6666666666666666,\"#ed7953\"],[0.7777777777777778,\"#fb9f3a\"],[0.8888888888888888,\"#fdca26\"],[1.0,\"#f0f921\"]],\"type\":\"histogram2dcontour\"}],\"mesh3d\":[{\"colorbar\":{\"outlinewidth\":0,\"ticks\":\"\"},\"type\":\"mesh3d\"}],\"parcoords\":[{\"line\":{\"colorbar\":{\"outlinewidth\":0,\"ticks\":\"\"}},\"type\":\"parcoords\"}],\"pie\":[{\"automargin\":true,\"type\":\"pie\"}],\"scatter\":[{\"marker\":{\"colorbar\":{\"outlinewidth\":0,\"ticks\":\"\"}},\"type\":\"scatter\"}],\"scatter3d\":[{\"line\":{\"colorbar\":{\"outlinewidth\":0,\"ticks\":\"\"}},\"marker\":{\"colorbar\":{\"outlinewidth\":0,\"ticks\":\"\"}},\"type\":\"scatter3d\"}],\"scattercarpet\":[{\"marker\":{\"colorbar\":{\"outlinewidth\":0,\"ticks\":\"\"}},\"type\":\"scattercarpet\"}],\"scattergeo\":[{\"marker\":{\"colorbar\":{\"outlinewidth\":0,\"ticks\":\"\"}},\"type\":\"scattergeo\"}],\"scattergl\":[{\"marker\":{\"colorbar\":{\"outlinewidth\":0,\"ticks\":\"\"}},\"type\":\"scattergl\"}],\"scattermapbox\":[{\"marker\":{\"colorbar\":{\"outlinewidth\":0,\"ticks\":\"\"}},\"type\":\"scattermapbox\"}],\"scatterpolar\":[{\"marker\":{\"colorbar\":{\"outlinewidth\":0,\"ticks\":\"\"}},\"type\":\"scatterpolar\"}],\"scatterpolargl\":[{\"marker\":{\"colorbar\":{\"outlinewidth\":0,\"ticks\":\"\"}},\"type\":\"scatterpolargl\"}],\"scatterternary\":[{\"marker\":{\"colorbar\":{\"outlinewidth\":0,\"ticks\":\"\"}},\"type\":\"scatterternary\"}],\"surface\":[{\"colorbar\":{\"outlinewidth\":0,\"ticks\":\"\"},\"colorscale\":[[0.0,\"#0d0887\"],[0.1111111111111111,\"#46039f\"],[0.2222222222222222,\"#7201a8\"],[0.3333333333333333,\"#9c179e\"],[0.4444444444444444,\"#bd3786\"],[0.5555555555555556,\"#d8576b\"],[0.6666666666666666,\"#ed7953\"],[0.7777777777777778,\"#fb9f3a\"],[0.8888888888888888,\"#fdca26\"],[1.0,\"#f0f921\"]],\"type\":\"surface\"}],\"table\":[{\"cells\":{\"fill\":{\"color\":\"#EBF0F8\"},\"line\":{\"color\":\"white\"}},\"header\":{\"fill\":{\"color\":\"#C8D4E3\"},\"line\":{\"color\":\"white\"}},\"type\":\"table\"}]},\"layout\":{\"annotationdefaults\":{\"arrowcolor\":\"#2a3f5f\",\"arrowhead\":0,\"arrowwidth\":1},\"autotypenumbers\":\"strict\",\"coloraxis\":{\"colorbar\":{\"outlinewidth\":0,\"ticks\":\"\"}},\"colorscale\":{\"diverging\":[[0,\"#8e0152\"],[0.1,\"#c51b7d\"],[0.2,\"#de77ae\"],[0.3,\"#f1b6da\"],[0.4,\"#fde0ef\"],[0.5,\"#f7f7f7\"],[0.6,\"#e6f5d0\"],[0.7,\"#b8e186\"],[0.8,\"#7fbc41\"],[0.9,\"#4d9221\"],[1,\"#276419\"]],\"sequential\":[[0.0,\"#0d0887\"],[0.1111111111111111,\"#46039f\"],[0.2222222222222222,\"#7201a8\"],[0.3333333333333333,\"#9c179e\"],[0.4444444444444444,\"#bd3786\"],[0.5555555555555556,\"#d8576b\"],[0.6666666666666666,\"#ed7953\"],[0.7777777777777778,\"#fb9f3a\"],[0.8888888888888888,\"#fdca26\"],[1.0,\"#f0f921\"]],\"sequentialminus\":[[0.0,\"#0d0887\"],[0.1111111111111111,\"#46039f\"],[0.2222222222222222,\"#7201a8\"],[0.3333333333333333,\"#9c179e\"],[0.4444444444444444,\"#bd3786\"],[0.5555555555555556,\"#d8576b\"],[0.6666666666666666,\"#ed7953\"],[0.7777777777777778,\"#fb9f3a\"],[0.8888888888888888,\"#fdca26\"],[1.0,\"#f0f921\"]]},\"colorway\":[\"#636efa\",\"#EF553B\",\"#00cc96\",\"#ab63fa\",\"#FFA15A\",\"#19d3f3\",\"#FF6692\",\"#B6E880\",\"#FF97FF\",\"#FECB52\"],\"font\":{\"color\":\"#2a3f5f\"},\"geo\":{\"bgcolor\":\"white\",\"lakecolor\":\"white\",\"landcolor\":\"#E5ECF6\",\"showlakes\":true,\"showland\":true,\"subunitcolor\":\"white\"},\"hoverlabel\":{\"align\":\"left\"},\"hovermode\":\"closest\",\"mapbox\":{\"style\":\"light\"},\"paper_bgcolor\":\"white\",\"plot_bgcolor\":\"#E5ECF6\",\"polar\":{\"angularaxis\":{\"gridcolor\":\"white\",\"linecolor\":\"white\",\"ticks\":\"\"},\"bgcolor\":\"#E5ECF6\",\"radialaxis\":{\"gridcolor\":\"white\",\"linecolor\":\"white\",\"ticks\":\"\"}},\"scene\":{\"xaxis\":{\"backgroundcolor\":\"#E5ECF6\",\"gridcolor\":\"white\",\"gridwidth\":2,\"linecolor\":\"white\",\"showbackground\":true,\"ticks\":\"\",\"zerolinecolor\":\"white\"},\"yaxis\":{\"backgroundcolor\":\"#E5ECF6\",\"gridcolor\":\"white\",\"gridwidth\":2,\"linecolor\":\"white\",\"showbackground\":true,\"ticks\":\"\",\"zerolinecolor\":\"white\"},\"zaxis\":{\"backgroundcolor\":\"#E5ECF6\",\"gridcolor\":\"white\",\"gridwidth\":2,\"linecolor\":\"white\",\"showbackground\":true,\"ticks\":\"\",\"zerolinecolor\":\"white\"}},\"shapedefaults\":{\"line\":{\"color\":\"#2a3f5f\"}},\"ternary\":{\"aaxis\":{\"gridcolor\":\"white\",\"linecolor\":\"white\",\"ticks\":\"\"},\"baxis\":{\"gridcolor\":\"white\",\"linecolor\":\"white\",\"ticks\":\"\"},\"bgcolor\":\"#E5ECF6\",\"caxis\":{\"gridcolor\":\"white\",\"linecolor\":\"white\",\"ticks\":\"\"}},\"title\":{\"x\":0.05},\"xaxis\":{\"automargin\":true,\"gridcolor\":\"white\",\"linecolor\":\"white\",\"ticks\":\"\",\"title\":{\"standoff\":15},\"zerolinecolor\":\"white\",\"zerolinewidth\":2},\"yaxis\":{\"automargin\":true,\"gridcolor\":\"white\",\"linecolor\":\"white\",\"ticks\":\"\",\"title\":{\"standoff\":15},\"zerolinecolor\":\"white\",\"zerolinewidth\":2}}},\"width\":1300},                        {\"responsive\": true}                    ).then(function(){\n",
       "                            \n",
       "var gd = document.getElementById('705d2765-cece-4c9f-9fb3-9925e26f95fb');\n",
       "var x = new MutationObserver(function (mutations, observer) {{\n",
       "        var display = window.getComputedStyle(gd).display;\n",
       "        if (!display || display === 'none') {{\n",
       "            console.log([gd, 'removed!']);\n",
       "            Plotly.purge(gd);\n",
       "            observer.disconnect();\n",
       "        }}\n",
       "}});\n",
       "\n",
       "// Listen for the removal of the full notebook cells\n",
       "var notebookContainer = gd.closest('#notebook-container');\n",
       "if (notebookContainer) {{\n",
       "    x.observe(notebookContainer, {childList: true});\n",
       "}}\n",
       "\n",
       "// Listen for the clearing of the current output cell\n",
       "var outputEl = gd.closest('.output');\n",
       "if (outputEl) {{\n",
       "    x.observe(outputEl, {childList: true});\n",
       "}}\n",
       "\n",
       "                        })                };                });            </script>        </div>"
      ]
     },
     "metadata": {},
     "output_type": "display_data"
    }
   ],
   "source": [
    "fig = px.treemap(myTreemapAgg.query('sum_AnzGbd >0').reset_index(), path=[px.Constant(\"Rauminhalt der Gebäude nach Gebäudearten 2021\")\n",
    "                                                                                      ,'GebaeudeartLevel4Name','GebaeudeartLevel1Name']\n",
    "                 , values='sum_Rauminhalt'\n",
    "                 , color='GebaeudeartLevel1Name'\n",
    "                 ## bei discrete scales (bei Klassen und Strings):                 \n",
    "                 , color_discrete_map={'(?)':'lightgrey','EVP':'gold', 'SP':'#FF3030', 'PdA':'#EE3B3B', 'Grüne':'#A2CD5A','GLP':'#CAFF70','Die Mitte':'orange','FDP':'#104E8B','AL':'deeppink','SVP':'forestgreen', 'FL ZÜRI':'#8B864E','Volt':'#lightblue' }                \n",
    "                 ## bei continuous scales (bei Zahlenwerten):\n",
    "                , color_continuous_scale='cividis'\n",
    "                #, color_continuous_midpoint=np.average(df['AnzBestWir'], weights=df['AnzBestWir'])  \n",
    "                 ,height=500\n",
    "                 ,width=1300                 \n",
    "                )\n",
    "fig.update_traces(root_color=\"grey\")\n",
    "fig.update_layout(margin = dict(t=50, l=25, r=250, b=25))\n",
    "fig.show()"
   ]
  },
  {
   "cell_type": "code",
   "execution_count": 212,
   "metadata": {},
   "outputs": [],
   "source": [
    "#data2betested.dtypes"
   ]
  },
  {
   "cell_type": "markdown",
   "metadata": {},
   "source": [
    "**Sharepoint als gecheckt markieren!**"
   ]
  },
  {
   "cell_type": "markdown",
   "metadata": {},
   "source": [
    "Record auf Sharepoint: **[Link](https://kollaboration.intranet.stzh.ch/orga/ssz-produkte/Lists/SASA_Outputs/DispForm.aspx?ID=635&ContentTypeId=0x0100988EAF029F1EFE4CA675F53C32A5D53D01006DBC563E6FBE9E4EB6FDC780799752E1)**"
   ]
  },
  {
   "cell_type": "markdown",
   "metadata": {},
   "source": [
    "## ---------------------- hier Plausi beendet\n",
    "\n",
    "Liniendiagramm \n",
    "[Link zur Doku](https://altair-viz.github.io/gallery/multiline_highlight.html)"
   ]
  },
  {
   "cell_type": "markdown",
   "metadata": {
    "tags": []
   },
   "source": [
    "### Test: Choroplethenkarte\n",
    "Importiere die Geodaten als GeoJSON"
   ]
  },
  {
   "cell_type": "markdown",
   "metadata": {},
   "source": [
    "#### Stadtkreise"
   ]
  },
  {
   "cell_type": "code",
   "execution_count": 124,
   "metadata": {},
   "outputs": [
    {
     "data": {
      "text/html": [
       "<div>\n",
       "<style scoped>\n",
       "    .dataframe tbody tr th:only-of-type {\n",
       "        vertical-align: middle;\n",
       "    }\n",
       "\n",
       "    .dataframe tbody tr th {\n",
       "        vertical-align: top;\n",
       "    }\n",
       "\n",
       "    .dataframe thead th {\n",
       "        text-align: right;\n",
       "    }\n",
       "</style>\n",
       "<table border=\"1\" class=\"dataframe\">\n",
       "  <thead>\n",
       "    <tr style=\"text-align: right;\">\n",
       "      <th></th>\n",
       "      <th>id</th>\n",
       "      <th>kname</th>\n",
       "      <th>knr</th>\n",
       "      <th>objid</th>\n",
       "      <th>geometry</th>\n",
       "    </tr>\n",
       "  </thead>\n",
       "  <tbody>\n",
       "    <tr>\n",
       "      <th>0</th>\n",
       "      <td>adm_stadtkreise_v.6</td>\n",
       "      <td>Kreis 7</td>\n",
       "      <td>7</td>\n",
       "      <td>6</td>\n",
       "      <td>POLYGON ((8.54885 47.36602, 8.54901 47.36601, ...</td>\n",
       "    </tr>\n",
       "  </tbody>\n",
       "</table>\n",
       "</div>"
      ],
      "text/plain": [
       "                    id    kname  knr objid                                           geometry\n",
       "0  adm_stadtkreise_v.6  Kreis 7    7     6  POLYGON ((8.54885 47.36602, 8.54901 47.36601, ..."
      ]
     },
     "execution_count": 124,
     "metadata": {},
     "output_type": "execute_result"
    }
   ],
   "source": [
    "# Read abt. Geopandas https://geopandas.org/docs/user_guide/io.html\n",
    "geojson_url_kreise = \"https://www.ogd.stadt-zuerich.ch/wfs/geoportal/Stadtkreise?service=WFS&version=1.1.0&request=GetFeature&outputFormat=GeoJSON&typename=adm_stadtkreise_v\"\n",
    "adm_stadtkreise_v = gpd.read_file(geojson_url_kreise)\n",
    "\n",
    "adm_stadtkreise_v.head(1)\n"
   ]
  },
  {
   "cell_type": "markdown",
   "metadata": {},
   "source": [
    "#### Statistische Zonen"
   ]
  },
  {
   "cell_type": "code",
   "execution_count": 115,
   "metadata": {},
   "outputs": [
    {
     "data": {
      "text/html": [
       "<div>\n",
       "<style scoped>\n",
       "    .dataframe tbody tr th:only-of-type {\n",
       "        vertical-align: middle;\n",
       "    }\n",
       "\n",
       "    .dataframe tbody tr th {\n",
       "        vertical-align: top;\n",
       "    }\n",
       "\n",
       "    .dataframe thead th {\n",
       "        text-align: right;\n",
       "    }\n",
       "</style>\n",
       "<table border=\"1\" class=\"dataframe\">\n",
       "  <thead>\n",
       "    <tr style=\"text-align: right;\">\n",
       "      <th></th>\n",
       "      <th>id</th>\n",
       "      <th>kname</th>\n",
       "      <th>knr</th>\n",
       "      <th>objectid</th>\n",
       "      <th>objid</th>\n",
       "      <th>qname</th>\n",
       "      <th>qnr</th>\n",
       "      <th>stzname</th>\n",
       "      <th>stznr</th>\n",
       "      <th>geometry</th>\n",
       "    </tr>\n",
       "  </thead>\n",
       "  <tbody>\n",
       "    <tr>\n",
       "      <th>0</th>\n",
       "      <td>adm_statzonen_map.1</td>\n",
       "      <td>Kreis 7</td>\n",
       "      <td>7</td>\n",
       "      <td>1</td>\n",
       "      <td>154</td>\n",
       "      <td>Hirslanden</td>\n",
       "      <td>73</td>\n",
       "      <td>Hegibach</td>\n",
       "      <td>7303</td>\n",
       "      <td>POLYGON ((8.55670 47.36406, 8.55682 47.36410, ...</td>\n",
       "    </tr>\n",
       "    <tr>\n",
       "      <th>1</th>\n",
       "      <td>adm_statzonen_map.2</td>\n",
       "      <td>Kreis 7</td>\n",
       "      <td>7</td>\n",
       "      <td>2</td>\n",
       "      <td>89</td>\n",
       "      <td>Hirslanden</td>\n",
       "      <td>73</td>\n",
       "      <td>Klus</td>\n",
       "      <td>7302</td>\n",
       "      <td>POLYGON ((8.57281 47.35806, 8.57278 47.35807, ...</td>\n",
       "    </tr>\n",
       "  </tbody>\n",
       "</table>\n",
       "</div>"
      ],
      "text/plain": [
       "                    id    kname  knr  objectid objid       qname  qnr   stzname  stznr  \\\n",
       "0  adm_statzonen_map.1  Kreis 7    7         1   154  Hirslanden   73  Hegibach   7303   \n",
       "1  adm_statzonen_map.2  Kreis 7    7         2    89  Hirslanden   73      Klus   7302   \n",
       "\n",
       "                                            geometry  \n",
       "0  POLYGON ((8.55670 47.36406, 8.55682 47.36410, ...  \n",
       "1  POLYGON ((8.57281 47.35806, 8.57278 47.35807, ...  "
      ]
     },
     "execution_count": 115,
     "metadata": {},
     "output_type": "execute_result"
    }
   ],
   "source": [
    "# Read abt. Geopandas https://geopandas.org/docs/user_guide/io.html\n",
    "geojson_url_statzonen = \"https://www.ogd.stadt-zuerich.ch/wfs/geoportal/Statistische_Zonen?service=WFS&version=1.1.0&request=GetFeature&outputFormat=GeoJSON&typename=adm_statzonen_map\"\n",
    "adm_statzonen_map = gpd.read_file(geojson_url_statzonen)\n",
    "\n",
    "adm_statzonen_map.head(2)\n"
   ]
  },
  {
   "cell_type": "markdown",
   "metadata": {},
   "source": [
    "#### Statistische Quartiere"
   ]
  },
  {
   "cell_type": "code",
   "execution_count": 119,
   "metadata": {},
   "outputs": [
    {
     "data": {
      "text/html": [
       "<div>\n",
       "<style scoped>\n",
       "    .dataframe tbody tr th:only-of-type {\n",
       "        vertical-align: middle;\n",
       "    }\n",
       "\n",
       "    .dataframe tbody tr th {\n",
       "        vertical-align: top;\n",
       "    }\n",
       "\n",
       "    .dataframe thead th {\n",
       "        text-align: right;\n",
       "    }\n",
       "</style>\n",
       "<table border=\"1\" class=\"dataframe\">\n",
       "  <thead>\n",
       "    <tr style=\"text-align: right;\">\n",
       "      <th></th>\n",
       "      <th>id</th>\n",
       "      <th>kname</th>\n",
       "      <th>knr</th>\n",
       "      <th>objectid</th>\n",
       "      <th>objid</th>\n",
       "      <th>qname</th>\n",
       "      <th>qnr</th>\n",
       "      <th>geometry</th>\n",
       "    </tr>\n",
       "  </thead>\n",
       "  <tbody>\n",
       "    <tr>\n",
       "      <th>0</th>\n",
       "      <td>adm_statistische_quartiere_map.1</td>\n",
       "      <td>Kreis 7</td>\n",
       "      <td>7</td>\n",
       "      <td>1</td>\n",
       "      <td>34</td>\n",
       "      <td>Hirslanden</td>\n",
       "      <td>73</td>\n",
       "      <td>POLYGON ((8.55670 47.36406, 8.55682 47.36410, ...</td>\n",
       "    </tr>\n",
       "    <tr>\n",
       "      <th>1</th>\n",
       "      <td>adm_statistische_quartiere_map.2</td>\n",
       "      <td>Kreis 8</td>\n",
       "      <td>8</td>\n",
       "      <td>2</td>\n",
       "      <td>33</td>\n",
       "      <td>Weinegg</td>\n",
       "      <td>83</td>\n",
       "      <td>POLYGON ((8.55670 47.36405, 8.55672 47.36403, ...</td>\n",
       "    </tr>\n",
       "  </tbody>\n",
       "</table>\n",
       "</div>"
      ],
      "text/plain": [
       "                                 id    kname  knr  objectid objid       qname  qnr  \\\n",
       "0  adm_statistische_quartiere_map.1  Kreis 7    7         1    34  Hirslanden   73   \n",
       "1  adm_statistische_quartiere_map.2  Kreis 8    8         2    33     Weinegg   83   \n",
       "\n",
       "                                            geometry  \n",
       "0  POLYGON ((8.55670 47.36406, 8.55682 47.36410, ...  \n",
       "1  POLYGON ((8.55670 47.36405, 8.55672 47.36403, ...  "
      ]
     },
     "execution_count": 119,
     "metadata": {},
     "output_type": "execute_result"
    }
   ],
   "source": [
    "geojson_url_quartiere = \"https://www.ogd.stadt-zuerich.ch/wfs/geoportal/Statistische_Quartiere?service=WFS&version=1.1.0&request=GetFeature&outputFormat=GeoJSON&typename=adm_statistische_quartiere_map\"\n",
    "df_adm_statistische_quartiere_map = gpd.read_file(geojson_url_quartiere)\n",
    "\n",
    "df_adm_statistische_quartiere_map.head(2)\n"
   ]
  },
  {
   "cell_type": "markdown",
   "metadata": {},
   "source": [
    "### Joins\n",
    "Joine die importierten statistischen Daten des aktuellen Jahres zum Geodatensatz:\n",
    "\n",
    "*Siehe dazu Doku zu [Geopandas](https://geopandas.org/docs/user_guide/mergingdata.html)*"
   ]
  },
  {
   "cell_type": "code",
   "execution_count": 127,
   "metadata": {},
   "outputs": [
    {
     "data": {
      "text/plain": [
       "StatZoneCd             int64\n",
       "StatZone              object\n",
       "QuarCd                 int64\n",
       "QuarLang              object\n",
       "KreisCd                int64\n",
       "KreisLang             object\n",
       "EigentumsartSort       int64\n",
       "Eigentumsart          object\n",
       "Whg_abgebrochen        int64\n",
       "Whg_fertigerstellt     int64\n",
       "dtype: object"
      ]
     },
     "execution_count": 127,
     "metadata": {},
     "output_type": "execute_result"
    }
   ],
   "source": [
    "data2betested.dtypes"
   ]
  },
  {
   "cell_type": "code",
   "execution_count": 137,
   "metadata": {},
   "outputs": [
    {
     "data": {
      "text/html": [
       "<div>\n",
       "<style scoped>\n",
       "    .dataframe tbody tr th:only-of-type {\n",
       "        vertical-align: middle;\n",
       "    }\n",
       "\n",
       "    .dataframe tbody tr th {\n",
       "        vertical-align: top;\n",
       "    }\n",
       "\n",
       "    .dataframe thead th {\n",
       "        text-align: right;\n",
       "    }\n",
       "</style>\n",
       "<table border=\"1\" class=\"dataframe\">\n",
       "  <thead>\n",
       "    <tr style=\"text-align: right;\">\n",
       "      <th></th>\n",
       "      <th>QuarLang</th>\n",
       "      <th>QuarCd</th>\n",
       "      <th>sum_Whg_abgebrochen</th>\n",
       "      <th>sum_Whg_fertigerstellt</th>\n",
       "    </tr>\n",
       "  </thead>\n",
       "  <tbody>\n",
       "    <tr>\n",
       "      <th>0</th>\n",
       "      <td>Albisrieden</td>\n",
       "      <td>91</td>\n",
       "      <td>282</td>\n",
       "      <td>89</td>\n",
       "    </tr>\n",
       "  </tbody>\n",
       "</table>\n",
       "</div>"
      ],
      "text/plain": [
       "      QuarLang  QuarCd  sum_Whg_abgebrochen  sum_Whg_fertigerstellt\n",
       "0  Albisrieden      91                  282                      89"
      ]
     },
     "execution_count": 137,
     "metadata": {},
     "output_type": "execute_result"
    }
   ],
   "source": [
    "myAgg = data2betested.loc[\"2021\"]  \\\n",
    "    .groupby(['QuarLang', 'QuarCd']) \\\n",
    "    .agg(sum_Whg_abgebrochen=('Whg_abgebrochen', 'sum'),sum_Whg_fertigerstellt=('Whg_fertigerstellt', 'sum')) \\\n",
    "    .sort_values('sum_Whg_abgebrochen', ascending=False) \n",
    "\n",
    "myAgg.reset_index().head(1)\n"
   ]
  },
  {
   "cell_type": "code",
   "execution_count": 138,
   "metadata": {},
   "outputs": [
    {
     "data": {
      "text/html": [
       "<div>\n",
       "<style scoped>\n",
       "    .dataframe tbody tr th:only-of-type {\n",
       "        vertical-align: middle;\n",
       "    }\n",
       "\n",
       "    .dataframe tbody tr th {\n",
       "        vertical-align: top;\n",
       "    }\n",
       "\n",
       "    .dataframe thead th {\n",
       "        text-align: right;\n",
       "    }\n",
       "</style>\n",
       "<table border=\"1\" class=\"dataframe\">\n",
       "  <thead>\n",
       "    <tr style=\"text-align: right;\">\n",
       "      <th></th>\n",
       "      <th>geometry</th>\n",
       "      <th>QuarCd</th>\n",
       "      <th>qname</th>\n",
       "      <th>knr</th>\n",
       "    </tr>\n",
       "  </thead>\n",
       "  <tbody>\n",
       "    <tr>\n",
       "      <th>0</th>\n",
       "      <td>POLYGON ((8.55670 47.36406, 8.55682 47.36410, ...</td>\n",
       "      <td>73</td>\n",
       "      <td>Hirslanden</td>\n",
       "      <td>7</td>\n",
       "    </tr>\n",
       "  </tbody>\n",
       "</table>\n",
       "</div>"
      ],
      "text/plain": [
       "                                            geometry  QuarCd       qname  knr\n",
       "0  POLYGON ((8.55670 47.36406, 8.55682 47.36410, ...      73  Hirslanden    7"
      ]
     },
     "execution_count": 138,
     "metadata": {},
     "output_type": "execute_result"
    }
   ],
   "source": [
    "# Rename attribute stznr to StatZoneSort, so the IDs have the same name\n",
    "gdf_adm_statistische_quartiere_map = df_adm_statistische_quartiere_map[['geometry', 'qnr', 'qname', 'knr']].rename(columns={'qnr': 'QuarCd'})\n",
    "gdf_adm_statistische_quartiere_map.head(1)"
   ]
  },
  {
   "cell_type": "code",
   "execution_count": 139,
   "metadata": {},
   "outputs": [
    {
     "data": {
      "text/html": [
       "<div>\n",
       "<style scoped>\n",
       "    .dataframe tbody tr th:only-of-type {\n",
       "        vertical-align: middle;\n",
       "    }\n",
       "\n",
       "    .dataframe tbody tr th {\n",
       "        vertical-align: top;\n",
       "    }\n",
       "\n",
       "    .dataframe thead th {\n",
       "        text-align: right;\n",
       "    }\n",
       "</style>\n",
       "<table border=\"1\" class=\"dataframe\">\n",
       "  <thead>\n",
       "    <tr style=\"text-align: right;\">\n",
       "      <th></th>\n",
       "      <th>geometry</th>\n",
       "      <th>QuarCd</th>\n",
       "      <th>qname</th>\n",
       "      <th>knr</th>\n",
       "      <th>sum_Whg_abgebrochen</th>\n",
       "      <th>sum_Whg_fertigerstellt</th>\n",
       "    </tr>\n",
       "  </thead>\n",
       "  <tbody>\n",
       "    <tr>\n",
       "      <th>0</th>\n",
       "      <td>POLYGON ((8.55670 47.36406, 8.55682 47.36410, ...</td>\n",
       "      <td>73</td>\n",
       "      <td>Hirslanden</td>\n",
       "      <td>7</td>\n",
       "      <td>48</td>\n",
       "      <td>2</td>\n",
       "    </tr>\n",
       "    <tr>\n",
       "      <th>1</th>\n",
       "      <td>POLYGON ((8.55670 47.36405, 8.55672 47.36403, ...</td>\n",
       "      <td>83</td>\n",
       "      <td>Weinegg</td>\n",
       "      <td>8</td>\n",
       "      <td>2</td>\n",
       "      <td>0</td>\n",
       "    </tr>\n",
       "  </tbody>\n",
       "</table>\n",
       "</div>"
      ],
      "text/plain": [
       "                                            geometry  QuarCd       qname  knr  \\\n",
       "0  POLYGON ((8.55670 47.36406, 8.55682 47.36410, ...      73  Hirslanden    7   \n",
       "1  POLYGON ((8.55670 47.36405, 8.55672 47.36403, ...      83     Weinegg    8   \n",
       "\n",
       "   sum_Whg_abgebrochen  sum_Whg_fertigerstellt  \n",
       "0                   48                       2  \n",
       "1                    2                       0  "
      ]
     },
     "execution_count": 139,
     "metadata": {},
     "output_type": "execute_result"
    }
   ],
   "source": [
    "# Merge with `merge` method on shared variable (stznr und StatZoneSort):\n",
    "gdf_adm_statistische_quartiere_map_joined = gdf_adm_statistische_quartiere_map.merge(myAgg, on='QuarCd')\n",
    "gdf_adm_statistische_quartiere_map_joined.head(2)\n"
   ]
  },
  {
   "cell_type": "code",
   "execution_count": 142,
   "metadata": {},
   "outputs": [
    {
     "data": {
      "text/plain": [
       "<AxesSubplot:>"
      ]
     },
     "execution_count": 142,
     "metadata": {},
     "output_type": "execute_result"
    },
    {
     "data": {
      "image/png": "[encoded data removed]",
      "text/plain": [
       "<Figure size 432x288 with 1 Axes>"
      ]
     },
     "metadata": {
      "needs_background": "light"
     },
     "output_type": "display_data"
    },
    {
     "data": {
      "image/png": "[encoded data removed]",
      "text/plain": [
       "<Figure size 432x288 with 1 Axes>"
      ]
     },
     "metadata": {
      "needs_background": "light"
     },
     "output_type": "display_data"
    }
   ],
   "source": [
    "# Plot by StatQuartiere\n",
    "# Weitere Schemes: scheme='quantiles', scheme='fisherjenks', scheme='natural_breaks',\n",
    "\n",
    "gdf_adm_statistische_quartiere_map_joined.plot(column='sum_Whg_fertigerstellt', cmap='viridis', scheme='natural_breaks', legend=True )\n",
    "gdf_adm_statistische_quartiere_map_joined.plot(column='sum_Whg_abgebrochen', cmap='viridis', scheme='natural_breaks', legend=True )\n",
    "\n",
    "#gdf_adm_statistische_quartiere_map_joined.plot(column='sum_Whg_abgebrochen', cmap='plasma', scheme='fisherjenks', legend=True )\n",
    "#gdf_adm_statistische_quartiere_map_joined.plot(column='sum_Whg_fertigerstellt', cmap='cool', scheme='quantiles', legend=True )\n",
    "#scheme werte: https://matplotlib.org/2.0.2/users/colormaps.html\n",
    "\n",
    "#\n",
    "#Neuere Gallerie: https://matplotlib.org/stable/gallery/index.html"
   ]
  },
  {
   "cell_type": "code",
   "execution_count": 157,
   "metadata": {},
   "outputs": [
    {
     "data": {
      "text/plain": [
       "<AxesSubplot:>"
      ]
     },
     "execution_count": 157,
     "metadata": {},
     "output_type": "execute_result"
    },
    {
     "data": {
      "image/png": "[encoded data removed]",
      "text/plain": [
       "<Figure size 432x288 with 2 Axes>"
      ]
     },
     "metadata": {
      "needs_background": "light"
     },
     "output_type": "display_data"
    }
   ],
   "source": [
    "fig, ax = plt.subplots(1, 1)\n",
    "\n",
    "gdf_adm_statistische_quartiere_map_joined.plot(column='sum_Whg_abgebrochen', ax=ax, legend=True, legend_kwds={'label': \"Anzahl abgebrochene Wohnungen 2021\",'orientation': \"horizontal\"})\n",
    "gdf_adm_statistische_quartiere_map_joined.plot(column='sum_Whg_fertigerstellt', ax=ax, legend=False, legend_kwds={'label': \"Anzahl fertigerstellte Wohnungen 2021\",'orientation': \"horizontal\"})\n",
    "\n",
    "#gdf_adm_statistische_quartiere_map_joined.plot(column='sum_Whg_abgebrochen', cmap='viridis', scheme='natural_breaks', legend=True , ax=ax, legend_kwds={'label': \"Anzahl Personen\",'orientation': \"horizontal\"})"
   ]
  },
  {
   "cell_type": "markdown",
   "metadata": {},
   "source": [
    "Noch zu prüfen, folgendes schöne Beispiel: https://docs.bokeh.org/en/latest/docs/user_guide/interaction/legends.html\n",
    "\n",
    "Konkrete Beispiele von Bookeh in Jupyter NB: https://docs.bokeh.org/en/latest/docs/user_guide/jupyter.html"
   ]
  },
  {
   "cell_type": "markdown",
   "metadata": {},
   "source": [
    "**Sharepoint als gecheckt markieren!**"
   ]
  },
  {
   "cell_type": "markdown",
   "metadata": {},
   "source": [
    "Record auf Sharepoint: **[Link](https://kollaboration.intranet.stzh.ch/orga/ssz-produkte/Lists/SASA_Outputs/DispForm.aspx?ID=636&ContentTypeId=0x0100988EAF029F1EFE4CA675F53C32A5D53D01006DBC563E6FBE9E4EB6FDC780799752E1)**"
   ]
  },
  {
   "cell_type": "code",
   "execution_count": null,
   "metadata": {},
   "outputs": [],
   "source": []
  },
  {
   "cell_type": "raw",
   "metadata": {},
   "source": []
  },
  {
   "cell_type": "code",
   "execution_count": null,
   "metadata": {},
   "outputs": [],
   "source": []
  }
 ],
 "metadata": {
  "kernelspec": {
   "display_name": "Python 3 (ipykernel)",
   "language": "python",
   "name": "python3"
  },
  "language_info": {
   "codemirror_mode": {
    "name": "ipython",
    "version": 3
   },
   "file_extension": ".py",
   "mimetype": "text/x-python",
   "name": "python",
   "nbconvert_exporter": "python",
   "pygments_lexer": "ipython3",
   "version": "3.9.7"
  }
 },
 "nbformat": 4,
 "nbformat_minor": 4
}
