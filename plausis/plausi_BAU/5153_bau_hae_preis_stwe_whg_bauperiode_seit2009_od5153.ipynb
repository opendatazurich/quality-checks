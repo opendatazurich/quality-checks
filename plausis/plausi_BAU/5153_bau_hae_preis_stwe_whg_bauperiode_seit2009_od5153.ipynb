{
 "cells": [
  {
   "cell_type": "markdown",
   "metadata": {},
   "source": [
    "# Testing\n",
    "### Wohnflächenpreise (Median) der im Freihandkauf umgesetzten Wohnungen im Stockwerkeigentum nach Zimmerzahl seit 2009\n",
    "\n",
    "Diese Daten beinhalten die Medianpreise pro Quadratmeter Wohnfläche von im Freihandkauf gehandelten Wohnungen im Stockwerkeigentum in der Stadt Zürich nach Handänderungsjahr und Zimmerzahl. Zusätzlich sind noch die absoluten Preise von im Freihandgekauf gehandelten Wohnungen im Stockwerkeigentum nach Zimmerzahl aufgeführt.\n",
    "\n",
    "Datum: 07.02.2022"
   ]
  },
  {
   "cell_type": "markdown",
   "metadata": {},
   "source": [
    "### Importiere die notwendigen Packages"
   ]
  },
  {
   "cell_type": "code",
   "execution_count": 1,
   "metadata": {},
   "outputs": [],
   "source": [
    "#%pip install geopandas altair fiona requests folium mplleaflet contextily seaborn datetime plotly leafmap"
   ]
  },
  {
   "cell_type": "code",
   "execution_count": 2,
   "metadata": {},
   "outputs": [],
   "source": [
    "import pandas as pd\n",
    "import pivottablejs\n",
    "from pivottablejs import pivot_ui\n",
    "import numpy as np\n",
    "import altair as alt\n",
    "import matplotlib.pyplot as plt\n",
    "#from datetime import datetime\n",
    "import datetime\n",
    "import geopandas as gpd\n",
    "import folium \n",
    "import plotly.express as px\n",
    "import seaborn as sns\n",
    "import leafmap\n"
   ]
  },
  {
   "cell_type": "markdown",
   "metadata": {},
   "source": [
    "Definiere Settings. Hier das Zahlenformat von Float-Werten (z.B. *'{:,.2f}'.format* mit Komma als Tausenderzeichen), "
   ]
  },
  {
   "cell_type": "code",
   "execution_count": 3,
   "metadata": {},
   "outputs": [],
   "source": [
    "pd.options.display.float_format = '{:.0f}'.format\n",
    "pd.set_option('display.width', 100)\n",
    "pd.set_option('display.max_columns', 15)"
   ]
  },
  {
   "cell_type": "markdown",
   "metadata": {},
   "source": [
    "### Zeitvariabeln\n",
    "Bestimme den aktuellst geladenen Monat. Hier ist es der Stand vor 2 Monaten. \n",
    "Bestimme noch weitere evt. sinnvolle Zeitvariabeln.\n",
    "\n",
    "Zum Unterschied zwischen import datetime und from datedtime import datetime, siehe https://stackoverflow.com/questions/15707532/import-datetime-v-s-from-datetime-import-datetime\n",
    "\n",
    "Zuerst die Zeitvariabeln als Strings"
   ]
  },
  {
   "cell_type": "code",
   "execution_count": 4,
   "metadata": {},
   "outputs": [],
   "source": [
    "#today_date = datetime.date.today()\n",
    "#date_time = datetime.datetime.strptime(date_time_string, '%Y-%m-%d %H:%M')\n",
    "now = datetime.date.today()\n",
    "date_today = now.strftime(\"%Y-%m-%d\")\n",
    "year_today = now.strftime(\"%Y\")\n",
    "month_today = now.strftime(\"%m\")\n",
    "day_today = now.strftime(\"%d\")\n"
   ]
  },
  {
   "cell_type": "markdown",
   "metadata": {},
   "source": [
    "Und hier noch die Zeitvariabeln als Integers:\n",
    "- `aktuellesJahr`\n",
    "- `aktuellerMonat`: Der gerade jetzt aktuelle Monat\n",
    "- `selectedMonat`: Der aktuellste Monat in den Daten. In der Regel zwei Monate her."
   ]
  },
  {
   "cell_type": "code",
   "execution_count": 5,
   "metadata": {},
   "outputs": [
    {
     "name": "stdout",
     "output_type": "stream",
     "text": [
      "2022 2 datenstand:  0 time.struct_time(tm_year=2022, tm_mon=2, tm_mday=7, tm_hour=0, tm_min=0, tm_sec=0, tm_wday=0, tm_yday=38, tm_isdst=-1)\n"
     ]
    }
   ],
   "source": [
    "#now = datetime.now() \n",
    "int_times = now.timetuple()\n",
    "\n",
    "aktuellesJahr = int_times[0]\n",
    "aktuellerMonat = int_times[1]\n",
    "selectedMonat = int_times[1]-2\n",
    "\n",
    "print(aktuellesJahr, \n",
    "      aktuellerMonat,\n",
    "    'datenstand: ', selectedMonat,\n",
    "     int_times)\n"
   ]
  },
  {
   "cell_type": "markdown",
   "metadata": {},
   "source": [
    "Berechne die Variable Epoche um später das SAS-Datum in ein Unix-Datum umzuwandeln. Bei SAS beginnt die Epoche am 1.1.1960. Bei Unix am 1.1.1970.\n",
    "Diese Variable wird beim CSV-Import benötigt."
   ]
  },
  {
   "cell_type": "code",
   "execution_count": 6,
   "metadata": {},
   "outputs": [],
   "source": [
    "epoch = datetime.datetime(1960, 1, 1)"
   ]
  },
  {
   "cell_type": "markdown",
   "metadata": {
    "tags": []
   },
   "source": [
    "### Importiere einen Datensatz \n",
    "\n",
    "- Beachte dabei die Notation des Pfades...\n",
    "- Definiere mal aktuell noch keine weiteren Parameter beim Import"
   ]
  },
  {
   "cell_type": "markdown",
   "metadata": {},
   "source": [
    "**Dataset auf INTEG Datenkatalog**:  https://data.integ.stadt-zuerich.ch/dataset/int_dwh_bau_hae_preis_stwe_whg_bauperiode_seit2009_od5153\n",
    "\n",
    "**Dataset auf PROD Datenkatalog**:  https://data.stadt-zuerich.ch/dataset/bau_hae_preis_stwe_whg_bauperiode_seit2009_od5153\n"
   ]
  },
  {
   "cell_type": "code",
   "execution_count": 7,
   "metadata": {},
   "outputs": [
    {
     "name": "stdout",
     "output_type": "stream",
     "text": [
      "int\n"
     ]
    }
   ],
   "source": [
    "#Die Datasets sind nur zum Testen auf INT-DWH-Dropzone. Wenn der Test vorbei ist, sind sie auf PROD. \n",
    "# Über den Status kann man einfach switchen\n",
    "\n",
    "status = \"int\";\n",
    "print(status)"
   ]
  },
  {
   "cell_type": "code",
   "execution_count": 9,
   "metadata": {
    "tags": []
   },
   "outputs": [
    {
     "name": "stdout",
     "output_type": "stream",
     "text": [
      "\\\\szh\\ssz\\applikationen\\OGD_Dropzone\\INT_DWH\\bau_hae_preis_stwe_whg_bauperiode_seit2009_od5153\\BAU515OD5153.csv\n"
     ]
    }
   ],
   "source": [
    "# Filepath\n",
    "if status == \"prod\":\n",
    "    fp = r\"https://data.stadt-zuerich.ch/dataset/bau_hae_preis_stwe_whg_bauperiode_seit2009_od5153/download/BAU515OD5153.csv\"\n",
    "else:\n",
    "    fp = r\"\\\\szh\\ssz\\applikationen\\OGD_Dropzone\\INT_DWH\\bau_hae_preis_stwe_whg_bauperiode_seit2009_od5153\\BAU515OD5153.csv\"   \n",
    "\n",
    "print(fp)"
   ]
  },
  {
   "cell_type": "code",
   "execution_count": 10,
   "metadata": {},
   "outputs": [
    {
     "name": "stdout",
     "output_type": "stream",
     "text": [
      "done\n"
     ]
    }
   ],
   "source": [
    "# Read the data\n",
    "data2betested = pd.read_csv(\n",
    "    fp\n",
    "    , sep=','\n",
    "    ,parse_dates=['Jahr']\n",
    "    # KONVERTIERE DAS SAS DATUM IN EIN UNIXDATUM UND FORMATIERE ES\n",
    "    #, date_parser=lambda s: epoch + datetime.timedelta(days=int(s))\n",
    "    ,low_memory=False    \n",
    "    )\n",
    "\n",
    "print('done')"
   ]
  },
  {
   "cell_type": "markdown",
   "metadata": {},
   "source": [
    "In der Folge ein paar erste Tests:"
   ]
  },
  {
   "cell_type": "markdown",
   "metadata": {},
   "source": [
    " - 1) Zeige eine kurze Vorschau der importierten Daten\n",
    " - 2) Weise die Datentypen aus\n",
    " - 3) Zeige die Shape (Umfang) des Datensatzes an"
   ]
  },
  {
   "cell_type": "code",
   "execution_count": 11,
   "metadata": {},
   "outputs": [],
   "source": [
    "#data2betested.head(6)"
   ]
  },
  {
   "cell_type": "code",
   "execution_count": 12,
   "metadata": {},
   "outputs": [
    {
     "data": {
      "text/plain": [
       "Jahr          datetime64[ns]\n",
       "Bauperiode            object\n",
       "Medianqmp              int64\n",
       "Anzahl_HAE             int64\n",
       "dtype: object"
      ]
     },
     "execution_count": 12,
     "metadata": {},
     "output_type": "execute_result"
    }
   ],
   "source": [
    "data2betested.dtypes"
   ]
  },
  {
   "cell_type": "code",
   "execution_count": 13,
   "metadata": {},
   "outputs": [
    {
     "data": {
      "text/plain": [
       "(64, 4)"
      ]
     },
     "execution_count": 13,
     "metadata": {},
     "output_type": "execute_result"
    }
   ],
   "source": [
    "data2betested.shape"
   ]
  },
  {
   "cell_type": "markdown",
   "metadata": {},
   "source": [
    "Beschreibe einzelne Attribute"
   ]
  },
  {
   "cell_type": "code",
   "execution_count": 14,
   "metadata": {},
   "outputs": [
    {
     "data": {
      "text/html": [
       "<div>\n",
       "<style scoped>\n",
       "    .dataframe tbody tr th:only-of-type {\n",
       "        vertical-align: middle;\n",
       "    }\n",
       "\n",
       "    .dataframe tbody tr th {\n",
       "        vertical-align: top;\n",
       "    }\n",
       "\n",
       "    .dataframe thead th {\n",
       "        text-align: right;\n",
       "    }\n",
       "</style>\n",
       "<table border=\"1\" class=\"dataframe\">\n",
       "  <thead>\n",
       "    <tr style=\"text-align: right;\">\n",
       "      <th></th>\n",
       "      <th>Medianqmp</th>\n",
       "      <th>Anzahl_HAE</th>\n",
       "    </tr>\n",
       "  </thead>\n",
       "  <tbody>\n",
       "    <tr>\n",
       "      <th>count</th>\n",
       "      <td>64</td>\n",
       "      <td>64</td>\n",
       "    </tr>\n",
       "    <tr>\n",
       "      <th>mean</th>\n",
       "      <td>10818</td>\n",
       "      <td>126</td>\n",
       "    </tr>\n",
       "    <tr>\n",
       "      <th>std</th>\n",
       "      <td>1980</td>\n",
       "      <td>101</td>\n",
       "    </tr>\n",
       "    <tr>\n",
       "      <th>min</th>\n",
       "      <td>7110</td>\n",
       "      <td>32</td>\n",
       "    </tr>\n",
       "    <tr>\n",
       "      <th>25%</th>\n",
       "      <td>9668</td>\n",
       "      <td>54</td>\n",
       "    </tr>\n",
       "    <tr>\n",
       "      <th>50%</th>\n",
       "      <td>10745</td>\n",
       "      <td>96</td>\n",
       "    </tr>\n",
       "    <tr>\n",
       "      <th>75%</th>\n",
       "      <td>12080</td>\n",
       "      <td>136</td>\n",
       "    </tr>\n",
       "    <tr>\n",
       "      <th>max</th>\n",
       "      <td>15640</td>\n",
       "      <td>517</td>\n",
       "    </tr>\n",
       "  </tbody>\n",
       "</table>\n",
       "</div>"
      ],
      "text/plain": [
       "       Medianqmp  Anzahl_HAE\n",
       "count         64          64\n",
       "mean       10818         126\n",
       "std         1980         101\n",
       "min         7110          32\n",
       "25%         9668          54\n",
       "50%        10745          96\n",
       "75%        12080         136\n",
       "max        15640         517"
      ]
     },
     "execution_count": 14,
     "metadata": {},
     "output_type": "execute_result"
    }
   ],
   "source": [
    "data2betested.describe()"
   ]
  },
  {
   "cell_type": "markdown",
   "metadata": {},
   "source": [
    "Wie viele Nullwerte gibt es im Datensatz?"
   ]
  },
  {
   "cell_type": "code",
   "execution_count": 15,
   "metadata": {
    "scrolled": true
   },
   "outputs": [
    {
     "data": {
      "text/plain": [
       "Jahr          0\n",
       "Bauperiode    0\n",
       "Medianqmp     0\n",
       "Anzahl_HAE    0\n",
       "dtype: int64"
      ]
     },
     "execution_count": 15,
     "metadata": {},
     "output_type": "execute_result"
    }
   ],
   "source": [
    "data2betested.isnull().sum()"
   ]
  },
  {
   "cell_type": "markdown",
   "metadata": {
    "colab_type": "text",
    "id": "1dTPVmmsgOVx"
   },
   "source": [
    "### Verwende das Datum als Index\n",
    "\n",
    "While we did already parse the `datetime` column into the respective datetime type, it currently is just a regular column. \n",
    "**To enable quick and convenient queries and aggregations, we need to turn it into the index of the DataFrame**"
   ]
  },
  {
   "cell_type": "code",
   "execution_count": 16,
   "metadata": {},
   "outputs": [],
   "source": [
    "data2betested = data2betested.set_index(\"Jahr\")"
   ]
  },
  {
   "cell_type": "code",
   "execution_count": 17,
   "metadata": {},
   "outputs": [
    {
     "name": "stdout",
     "output_type": "stream",
     "text": [
      "<class 'pandas.core.frame.DataFrame'>\n",
      "DatetimeIndex: 64 entries, 2009-01-01 to 2021-01-01\n",
      "Data columns (total 3 columns):\n",
      " #   Column      Non-Null Count  Dtype \n",
      "---  ------      --------------  ----- \n",
      " 0   Bauperiode  64 non-null     object\n",
      " 1   Medianqmp   64 non-null     int64 \n",
      " 2   Anzahl_HAE  64 non-null     int64 \n",
      "dtypes: int64(2), object(1)\n",
      "memory usage: 2.0+ KB\n"
     ]
    },
    {
     "data": {
      "text/plain": [
       "Int64Index([1], dtype='int64', name='Jahr')"
      ]
     },
     "execution_count": 17,
     "metadata": {},
     "output_type": "execute_result"
    }
   ],
   "source": [
    "data2betested.info()\n",
    "data2betested.index.day.unique()"
   ]
  },
  {
   "cell_type": "markdown",
   "metadata": {},
   "source": [
    "### Einfache Visualisierungen zur Plausi"
   ]
  },
  {
   "cell_type": "markdown",
   "metadata": {},
   "source": [
    "Exploriere die Daten mit Pivottable.JS"
   ]
  },
  {
   "cell_type": "code",
   "execution_count": 18,
   "metadata": {},
   "outputs": [
    {
     "data": {
      "text/html": [
       "\n",
       "        <iframe\n",
       "            width=\"100%\"\n",
       "            height=\"500\"\n",
       "            src=\"pivottablejs.html\"\n",
       "            frameborder=\"0\"\n",
       "            allowfullscreen\n",
       "        ></iframe>\n",
       "        "
      ],
      "text/plain": [
       "<IPython.lib.display.IFrame at 0x2085afa4820>"
      ]
     },
     "execution_count": 18,
     "metadata": {},
     "output_type": "execute_result"
    }
   ],
   "source": [
    "from pivottablejs import pivot_ui\n",
    "\n",
    "pivot_ui(data2betested)"
   ]
  },
  {
   "cell_type": "markdown",
   "metadata": {},
   "source": [
    "### Zeitpunkte und Zeiträume abfragen\n",
    "\n",
    "A particular powerful feature of the Pandas DataFrame is its indexing capability that also works using time-based entities, such as dates and times. We have already created the index above, so let's put it to use."
   ]
  },
  {
   "cell_type": "code",
   "execution_count": 19,
   "metadata": {},
   "outputs": [
    {
     "data": {
      "text/html": [
       "<div>\n",
       "<style scoped>\n",
       "    .dataframe tbody tr th:only-of-type {\n",
       "        vertical-align: middle;\n",
       "    }\n",
       "\n",
       "    .dataframe tbody tr th {\n",
       "        vertical-align: top;\n",
       "    }\n",
       "\n",
       "    .dataframe thead th {\n",
       "        text-align: right;\n",
       "    }\n",
       "</style>\n",
       "<table border=\"1\" class=\"dataframe\">\n",
       "  <thead>\n",
       "    <tr style=\"text-align: right;\">\n",
       "      <th></th>\n",
       "      <th>Bauperiode</th>\n",
       "      <th>Medianqmp</th>\n",
       "      <th>Anzahl_HAE</th>\n",
       "    </tr>\n",
       "    <tr>\n",
       "      <th>Jahr</th>\n",
       "      <th></th>\n",
       "      <th></th>\n",
       "      <th></th>\n",
       "    </tr>\n",
       "  </thead>\n",
       "  <tbody>\n",
       "    <tr>\n",
       "      <th>2021-01-01</th>\n",
       "      <td>1_vor 1950</td>\n",
       "      <td>15640</td>\n",
       "      <td>105</td>\n",
       "    </tr>\n",
       "    <tr>\n",
       "      <th>2021-01-01</th>\n",
       "      <td>2_1950-1979</td>\n",
       "      <td>12070</td>\n",
       "      <td>178</td>\n",
       "    </tr>\n",
       "    <tr>\n",
       "      <th>2021-01-01</th>\n",
       "      <td>3_1980-1999</td>\n",
       "      <td>13370</td>\n",
       "      <td>63</td>\n",
       "    </tr>\n",
       "    <tr>\n",
       "      <th>2021-01-01</th>\n",
       "      <td>4_2000-2009</td>\n",
       "      <td>13950</td>\n",
       "      <td>34</td>\n",
       "    </tr>\n",
       "    <tr>\n",
       "      <th>2021-01-01</th>\n",
       "      <td>5_ab 2010</td>\n",
       "      <td>12990</td>\n",
       "      <td>440</td>\n",
       "    </tr>\n",
       "  </tbody>\n",
       "</table>\n",
       "</div>"
      ],
      "text/plain": [
       "             Bauperiode  Medianqmp  Anzahl_HAE\n",
       "Jahr                                          \n",
       "2021-01-01   1_vor 1950      15640         105\n",
       "2021-01-01  2_1950-1979      12070         178\n",
       "2021-01-01  3_1980-1999      13370          63\n",
       "2021-01-01  4_2000-2009      13950          34\n",
       "2021-01-01    5_ab 2010      12990         440"
      ]
     },
     "execution_count": 19,
     "metadata": {},
     "output_type": "execute_result"
    }
   ],
   "source": [
    "data2betested.loc[\"2021\"].head(20)"
   ]
  },
  {
   "cell_type": "markdown",
   "metadata": {},
   "source": [
    "### Visualisierungen nach Zeitausschnitten"
   ]
  },
  {
   "cell_type": "markdown",
   "metadata": {
    "tags": []
   },
   "source": [
    "#### Entwicklung der Medianquadratmeterwerte nach Bauperiode seit 2009"
   ]
  },
  {
   "cell_type": "code",
   "execution_count": 20,
   "metadata": {},
   "outputs": [],
   "source": [
    "#data2betested.query('Quartier_Nummer == 33')"
   ]
  },
  {
   "cell_type": "code",
   "execution_count": 21,
   "metadata": {},
   "outputs": [
    {
     "data": {
      "text/html": [
       "\n",
       "<div id=\"altair-viz-b97891067ca8462d9f03371150596b21\"></div>\n",
       "<script type=\"text/javascript\">\n",
       "  (function(spec, embedOpt){\n",
       "    let outputDiv = document.currentScript.previousElementSibling;\n",
       "    if (outputDiv.id !== \"altair-viz-b97891067ca8462d9f03371150596b21\") {\n",
       "      outputDiv = document.getElementById(\"altair-viz-b97891067ca8462d9f03371150596b21\");\n",
       "    }\n",
       "    const paths = {\n",
       "      \"vega\": \"https://cdn.jsdelivr.net/npm//vega@5?noext\",\n",
       "      \"vega-lib\": \"https://cdn.jsdelivr.net/npm//vega-lib?noext\",\n",
       "      \"vega-lite\": \"https://cdn.jsdelivr.net/npm//vega-lite@4.8.1?noext\",\n",
       "      \"vega-embed\": \"https://cdn.jsdelivr.net/npm//vega-embed@6?noext\",\n",
       "    };\n",
       "\n",
       "    function loadScript(lib) {\n",
       "      return new Promise(function(resolve, reject) {\n",
       "        var s = document.createElement('script');\n",
       "        s.src = paths[lib];\n",
       "        s.async = true;\n",
       "        s.onload = () => resolve(paths[lib]);\n",
       "        s.onerror = () => reject(`Error loading script: ${paths[lib]}`);\n",
       "        document.getElementsByTagName(\"head\")[0].appendChild(s);\n",
       "      });\n",
       "    }\n",
       "\n",
       "    function showError(err) {\n",
       "      outputDiv.innerHTML = `<div class=\"error\" style=\"color:red;\">${err}</div>`;\n",
       "      throw err;\n",
       "    }\n",
       "\n",
       "    function displayChart(vegaEmbed) {\n",
       "      vegaEmbed(outputDiv, spec, embedOpt)\n",
       "        .catch(err => showError(`Javascript Error: ${err.message}<br>This usually means there's a typo in your chart specification. See the javascript console for the full traceback.`));\n",
       "    }\n",
       "\n",
       "    if(typeof define === \"function\" && define.amd) {\n",
       "      requirejs.config({paths});\n",
       "      require([\"vega-embed\"], displayChart, err => showError(`Error loading script: ${err.message}`));\n",
       "    } else if (typeof vegaEmbed === \"function\") {\n",
       "      displayChart(vegaEmbed);\n",
       "    } else {\n",
       "      loadScript(\"vega\")\n",
       "        .then(() => loadScript(\"vega-lite\"))\n",
       "        .then(() => loadScript(\"vega-embed\"))\n",
       "        .catch(showError)\n",
       "        .then(() => displayChart(vegaEmbed));\n",
       "    }\n",
       "  })({\"config\": {\"view\": {\"continuousWidth\": 400, \"continuousHeight\": 300}}, \"layer\": [{\"mark\": \"line\", \"encoding\": {\"color\": {\"type\": \"nominal\", \"field\": \"Bauperiode\", \"legend\": {\"orient\": \"right\", \"title\": \"Zimmerzahl\"}}, \"size\": {\"condition\": {\"value\": 0.5, \"selection\": {\"not\": \"selector001\"}}, \"value\": 4}, \"tooltip\": [{\"type\": \"temporal\", \"field\": \"Jahr\"}, {\"type\": \"nominal\", \"field\": \"Bauperiode\"}, {\"type\": \"quantitative\", \"field\": \"Medianqmp\"}, {\"type\": \"quantitative\", \"field\": \"Anzahl_HAE\"}], \"x\": {\"type\": \"temporal\", \"axis\": {\"title\": \"Jahr\"}, \"field\": \"Jahr\"}, \"y\": {\"type\": \"quantitative\", \"axis\": {\"title\": \"Medianquadratmeterpreis\"}, \"field\": \"Medianqmp\"}}, \"selection\": {\"selector002\": {\"type\": \"interval\", \"bind\": \"scales\", \"encodings\": [\"x\", \"y\"]}}, \"title\": \"Title\"}, {\"mark\": \"circle\", \"encoding\": {\"color\": {\"type\": \"nominal\", \"field\": \"Bauperiode\", \"legend\": {\"orient\": \"right\", \"title\": \"Zimmerzahl\"}}, \"opacity\": {\"value\": 0.75}, \"tooltip\": [{\"type\": \"temporal\", \"field\": \"Jahr\"}, {\"type\": \"nominal\", \"field\": \"Bauperiode\"}, {\"type\": \"quantitative\", \"field\": \"Medianqmp\"}, {\"type\": \"quantitative\", \"field\": \"Anzahl_HAE\"}], \"x\": {\"type\": \"temporal\", \"axis\": {\"title\": \"Jahr\"}, \"field\": \"Jahr\"}, \"y\": {\"type\": \"quantitative\", \"axis\": {\"title\": \"Medianquadratmeterpreis\"}, \"field\": \"Medianqmp\"}}, \"height\": 350, \"selection\": {\"selector001\": {\"type\": \"single\", \"on\": \"mouseover\", \"fields\": [\"Bauperiode\"], \"nearest\": true}}, \"title\": \"Title\", \"width\": 750}], \"data\": {\"name\": \"data-14cf80e4ac7f949ea59a498813fa360a\"}, \"$schema\": \"https://vega.github.io/schema/vega-lite/v4.8.1.json\", \"datasets\": {\"data-14cf80e4ac7f949ea59a498813fa360a\": [{\"Jahr\": \"2009-01-01T00:00:00\", \"Bauperiode\": \"1_vor 1950\", \"Medianqmp\": 10020, \"Anzahl_HAE\": 105}, {\"Jahr\": \"2009-01-01T00:00:00\", \"Bauperiode\": \"2_1950-1979\", \"Medianqmp\": 7110, \"Anzahl_HAE\": 140}, {\"Jahr\": \"2009-01-01T00:00:00\", \"Bauperiode\": \"3_1980-1999\", \"Medianqmp\": 7810, \"Anzahl_HAE\": 87}, {\"Jahr\": \"2009-01-01T00:00:00\", \"Bauperiode\": \"4_2000-2009\", \"Medianqmp\": 7500, \"Anzahl_HAE\": 259}, {\"Jahr\": \"2010-01-01T00:00:00\", \"Bauperiode\": \"1_vor 1950\", \"Medianqmp\": 9450, \"Anzahl_HAE\": 120}, {\"Jahr\": \"2010-01-01T00:00:00\", \"Bauperiode\": \"2_1950-1979\", \"Medianqmp\": 8080, \"Anzahl_HAE\": 113}, {\"Jahr\": \"2010-01-01T00:00:00\", \"Bauperiode\": \"3_1980-1999\", \"Medianqmp\": 7630, \"Anzahl_HAE\": 76}, {\"Jahr\": \"2010-01-01T00:00:00\", \"Bauperiode\": \"4_2000-2009\", \"Medianqmp\": 7980, \"Anzahl_HAE\": 164}, {\"Jahr\": \"2010-01-01T00:00:00\", \"Bauperiode\": \"5_ab 2010\", \"Medianqmp\": 7670, \"Anzahl_HAE\": 269}, {\"Jahr\": \"2011-01-01T00:00:00\", \"Bauperiode\": \"1_vor 1950\", \"Medianqmp\": 9680, \"Anzahl_HAE\": 128}, {\"Jahr\": \"2011-01-01T00:00:00\", \"Bauperiode\": \"2_1950-1979\", \"Medianqmp\": 8630, \"Anzahl_HAE\": 116}, {\"Jahr\": \"2011-01-01T00:00:00\", \"Bauperiode\": \"3_1980-1999\", \"Medianqmp\": 9910, \"Anzahl_HAE\": 57}, {\"Jahr\": \"2011-01-01T00:00:00\", \"Bauperiode\": \"4_2000-2009\", \"Medianqmp\": 10630, \"Anzahl_HAE\": 48}, {\"Jahr\": \"2011-01-01T00:00:00\", \"Bauperiode\": \"5_ab 2010\", \"Medianqmp\": 7890, \"Anzahl_HAE\": 218}, {\"Jahr\": \"2012-01-01T00:00:00\", \"Bauperiode\": \"1_vor 1950\", \"Medianqmp\": 11350, \"Anzahl_HAE\": 82}, {\"Jahr\": \"2012-01-01T00:00:00\", \"Bauperiode\": \"2_1950-1979\", \"Medianqmp\": 7120, \"Anzahl_HAE\": 100}, {\"Jahr\": \"2012-01-01T00:00:00\", \"Bauperiode\": \"3_1980-1999\", \"Medianqmp\": 9150, \"Anzahl_HAE\": 80}, {\"Jahr\": \"2012-01-01T00:00:00\", \"Bauperiode\": \"4_2000-2009\", \"Medianqmp\": 10120, \"Anzahl_HAE\": 42}, {\"Jahr\": \"2012-01-01T00:00:00\", \"Bauperiode\": \"5_ab 2010\", \"Medianqmp\": 10530, \"Anzahl_HAE\": 190}, {\"Jahr\": \"2013-01-01T00:00:00\", \"Bauperiode\": \"1_vor 1950\", \"Medianqmp\": 10600, \"Anzahl_HAE\": 90}, {\"Jahr\": \"2013-01-01T00:00:00\", \"Bauperiode\": \"2_1950-1979\", \"Medianqmp\": 8380, \"Anzahl_HAE\": 71}, {\"Jahr\": \"2013-01-01T00:00:00\", \"Bauperiode\": \"3_1980-1999\", \"Medianqmp\": 9710, \"Anzahl_HAE\": 47}, {\"Jahr\": \"2013-01-01T00:00:00\", \"Bauperiode\": \"4_2000-2009\", \"Medianqmp\": 11380, \"Anzahl_HAE\": 32}, {\"Jahr\": \"2013-01-01T00:00:00\", \"Bauperiode\": \"5_ab 2010\", \"Medianqmp\": 9100, \"Anzahl_HAE\": 280}, {\"Jahr\": \"2014-01-01T00:00:00\", \"Bauperiode\": \"1_vor 1950\", \"Medianqmp\": 10400, \"Anzahl_HAE\": 94}, {\"Jahr\": \"2014-01-01T00:00:00\", \"Bauperiode\": \"2_1950-1979\", \"Medianqmp\": 9630, \"Anzahl_HAE\": 134}, {\"Jahr\": \"2014-01-01T00:00:00\", \"Bauperiode\": \"3_1980-1999\", \"Medianqmp\": 10880, \"Anzahl_HAE\": 51}, {\"Jahr\": \"2014-01-01T00:00:00\", \"Bauperiode\": \"4_2000-2009\", \"Medianqmp\": 11390, \"Anzahl_HAE\": 63}, {\"Jahr\": \"2014-01-01T00:00:00\", \"Bauperiode\": \"5_ab 2010\", \"Medianqmp\": 11480, \"Anzahl_HAE\": 336}, {\"Jahr\": \"2015-01-01T00:00:00\", \"Bauperiode\": \"1_vor 1950\", \"Medianqmp\": 10730, \"Anzahl_HAE\": 111}, {\"Jahr\": \"2015-01-01T00:00:00\", \"Bauperiode\": \"2_1950-1979\", \"Medianqmp\": 9570, \"Anzahl_HAE\": 111}, {\"Jahr\": \"2015-01-01T00:00:00\", \"Bauperiode\": \"3_1980-1999\", \"Medianqmp\": 11170, \"Anzahl_HAE\": 64}, {\"Jahr\": \"2015-01-01T00:00:00\", \"Bauperiode\": \"4_2000-2009\", \"Medianqmp\": 10540, \"Anzahl_HAE\": 47}, {\"Jahr\": \"2015-01-01T00:00:00\", \"Bauperiode\": \"5_ab 2010\", \"Medianqmp\": 11240, \"Anzahl_HAE\": 517}, {\"Jahr\": \"2016-01-01T00:00:00\", \"Bauperiode\": \"1_vor 1950\", \"Medianqmp\": 11010, \"Anzahl_HAE\": 105}, {\"Jahr\": \"2016-01-01T00:00:00\", \"Bauperiode\": \"2_1950-1979\", \"Medianqmp\": 9890, \"Anzahl_HAE\": 113}, {\"Jahr\": \"2016-01-01T00:00:00\", \"Bauperiode\": \"3_1980-1999\", \"Medianqmp\": 11610, \"Anzahl_HAE\": 45}, {\"Jahr\": \"2016-01-01T00:00:00\", \"Bauperiode\": \"4_2000-2009\", \"Medianqmp\": 12330, \"Anzahl_HAE\": 49}, {\"Jahr\": \"2016-01-01T00:00:00\", \"Bauperiode\": \"5_ab 2010\", \"Medianqmp\": 11040, \"Anzahl_HAE\": 360}, {\"Jahr\": \"2017-01-01T00:00:00\", \"Bauperiode\": \"1_vor 1950\", \"Medianqmp\": 13230, \"Anzahl_HAE\": 90}, {\"Jahr\": \"2017-01-01T00:00:00\", \"Bauperiode\": \"2_1950-1979\", \"Medianqmp\": 12110, \"Anzahl_HAE\": 118}, {\"Jahr\": \"2017-01-01T00:00:00\", \"Bauperiode\": \"3_1980-1999\", \"Medianqmp\": 10290, \"Anzahl_HAE\": 44}, {\"Jahr\": \"2017-01-01T00:00:00\", \"Bauperiode\": \"4_2000-2009\", \"Medianqmp\": 12710, \"Anzahl_HAE\": 41}, {\"Jahr\": \"2017-01-01T00:00:00\", \"Bauperiode\": \"5_ab 2010\", \"Medianqmp\": 12060, \"Anzahl_HAE\": 253}, {\"Jahr\": \"2018-01-01T00:00:00\", \"Bauperiode\": \"1_vor 1950\", \"Medianqmp\": 11830, \"Anzahl_HAE\": 94}, {\"Jahr\": \"2018-01-01T00:00:00\", \"Bauperiode\": \"2_1950-1979\", \"Medianqmp\": 10760, \"Anzahl_HAE\": 91}, {\"Jahr\": \"2018-01-01T00:00:00\", \"Bauperiode\": \"3_1980-1999\", \"Medianqmp\": 9900, \"Anzahl_HAE\": 49}, {\"Jahr\": \"2018-01-01T00:00:00\", \"Bauperiode\": \"4_2000-2009\", \"Medianqmp\": 12450, \"Anzahl_HAE\": 46}, {\"Jahr\": \"2018-01-01T00:00:00\", \"Bauperiode\": \"5_ab 2010\", \"Medianqmp\": 11740, \"Anzahl_HAE\": 304}, {\"Jahr\": \"2019-01-01T00:00:00\", \"Bauperiode\": \"1_vor 1950\", \"Medianqmp\": 13490, \"Anzahl_HAE\": 74}, {\"Jahr\": \"2019-01-01T00:00:00\", \"Bauperiode\": \"2_1950-1979\", \"Medianqmp\": 10530, \"Anzahl_HAE\": 99}, {\"Jahr\": \"2019-01-01T00:00:00\", \"Bauperiode\": \"3_1980-1999\", \"Medianqmp\": 12380, \"Anzahl_HAE\": 55}, {\"Jahr\": \"2019-01-01T00:00:00\", \"Bauperiode\": \"4_2000-2009\", \"Medianqmp\": 11170, \"Anzahl_HAE\": 40}, {\"Jahr\": \"2019-01-01T00:00:00\", \"Bauperiode\": \"5_ab 2010\", \"Medianqmp\": 14380, \"Anzahl_HAE\": 180}, {\"Jahr\": \"2020-01-01T00:00:00\", \"Bauperiode\": \"1_vor 1950\", \"Medianqmp\": 12990, \"Anzahl_HAE\": 126}, {\"Jahr\": \"2020-01-01T00:00:00\", \"Bauperiode\": \"2_1950-1979\", \"Medianqmp\": 10320, \"Anzahl_HAE\": 116}, {\"Jahr\": \"2020-01-01T00:00:00\", \"Bauperiode\": \"3_1980-1999\", \"Medianqmp\": 12500, \"Anzahl_HAE\": 49}, {\"Jahr\": \"2020-01-01T00:00:00\", \"Bauperiode\": \"4_2000-2009\", \"Medianqmp\": 15340, \"Anzahl_HAE\": 45}, {\"Jahr\": \"2020-01-01T00:00:00\", \"Bauperiode\": \"5_ab 2010\", \"Medianqmp\": 13780, \"Anzahl_HAE\": 217}, {\"Jahr\": \"2021-01-01T00:00:00\", \"Bauperiode\": \"1_vor 1950\", \"Medianqmp\": 15640, \"Anzahl_HAE\": 105}, {\"Jahr\": \"2021-01-01T00:00:00\", \"Bauperiode\": \"2_1950-1979\", \"Medianqmp\": 12070, \"Anzahl_HAE\": 178}, {\"Jahr\": \"2021-01-01T00:00:00\", \"Bauperiode\": \"3_1980-1999\", \"Medianqmp\": 13370, \"Anzahl_HAE\": 63}, {\"Jahr\": \"2021-01-01T00:00:00\", \"Bauperiode\": \"4_2000-2009\", \"Medianqmp\": 13950, \"Anzahl_HAE\": 34}, {\"Jahr\": \"2021-01-01T00:00:00\", \"Bauperiode\": \"5_ab 2010\", \"Medianqmp\": 12990, \"Anzahl_HAE\": 440}]}}, {\"mode\": \"vega-lite\"});\n",
       "</script>"
      ],
      "text/plain": [
       "alt.LayerChart(...)"
      ]
     },
     "execution_count": 21,
     "metadata": {},
     "output_type": "execute_result"
    }
   ],
   "source": [
    "highlight = alt.selection(type='single', on='mouseover', fields=['Bauperiode'], nearest=True)\n",
    "#x='date:StichtagDatJahr',\n",
    "base = alt.Chart(data2betested.reset_index().query('Anzahl_HAE != \"1–3\"'), title=\"Title\").encode(\n",
    "    x=alt.X('Jahr', axis=alt.Axis(title='Jahr'))# , axis=alt.Axis(format='%', title='percentage')\n",
    "    , y=alt.X('Medianqmp', axis=alt.Axis(title='Medianquadratmeterpreis'))\n",
    "    , color=alt.Color('Bauperiode', legend=alt.Legend(title=\"Zimmerzahl\", orient=\"right\"))  \n",
    "    ,tooltip=['Jahr', 'Bauperiode','Medianqmp','Anzahl_HAE']    \n",
    ")\n",
    "points = base.mark_circle().encode(\n",
    "    opacity=alt.value(0.75)\n",
    ").add_selection(\n",
    "    highlight\n",
    ").properties(\n",
    "    width=750 , height=350\n",
    ")\n",
    "lines = base.mark_line().encode(\n",
    "    size=alt.condition(~highlight, alt.value(0.5), alt.value(4))\n",
    ").interactive()\n",
    "\n",
    "lines + points"
   ]
  },
  {
   "cell_type": "markdown",
   "metadata": {
    "tags": []
   },
   "source": [
    "#### Entwicklung der Anzahl HAE nach Bauperiode seit 2009"
   ]
  },
  {
   "cell_type": "code",
   "execution_count": 28,
   "metadata": {},
   "outputs": [
    {
     "data": {
      "text/plain": [
       "Index(['Bauperiode', 'Medianqmp', 'Anzahl_HAE'], dtype='object')"
      ]
     },
     "execution_count": 28,
     "metadata": {},
     "output_type": "execute_result"
    }
   ],
   "source": [
    "data2betested.columns"
   ]
  },
  {
   "cell_type": "code",
   "execution_count": 29,
   "metadata": {},
   "outputs": [
    {
     "data": {
      "text/html": [
       "\n",
       "<div id=\"altair-viz-fc9e2647b4784fb38e596b449049b5ce\"></div>\n",
       "<script type=\"text/javascript\">\n",
       "  (function(spec, embedOpt){\n",
       "    let outputDiv = document.currentScript.previousElementSibling;\n",
       "    if (outputDiv.id !== \"altair-viz-fc9e2647b4784fb38e596b449049b5ce\") {\n",
       "      outputDiv = document.getElementById(\"altair-viz-fc9e2647b4784fb38e596b449049b5ce\");\n",
       "    }\n",
       "    const paths = {\n",
       "      \"vega\": \"https://cdn.jsdelivr.net/npm//vega@5?noext\",\n",
       "      \"vega-lib\": \"https://cdn.jsdelivr.net/npm//vega-lib?noext\",\n",
       "      \"vega-lite\": \"https://cdn.jsdelivr.net/npm//vega-lite@4.8.1?noext\",\n",
       "      \"vega-embed\": \"https://cdn.jsdelivr.net/npm//vega-embed@6?noext\",\n",
       "    };\n",
       "\n",
       "    function loadScript(lib) {\n",
       "      return new Promise(function(resolve, reject) {\n",
       "        var s = document.createElement('script');\n",
       "        s.src = paths[lib];\n",
       "        s.async = true;\n",
       "        s.onload = () => resolve(paths[lib]);\n",
       "        s.onerror = () => reject(`Error loading script: ${paths[lib]}`);\n",
       "        document.getElementsByTagName(\"head\")[0].appendChild(s);\n",
       "      });\n",
       "    }\n",
       "\n",
       "    function showError(err) {\n",
       "      outputDiv.innerHTML = `<div class=\"error\" style=\"color:red;\">${err}</div>`;\n",
       "      throw err;\n",
       "    }\n",
       "\n",
       "    function displayChart(vegaEmbed) {\n",
       "      vegaEmbed(outputDiv, spec, embedOpt)\n",
       "        .catch(err => showError(`Javascript Error: ${err.message}<br>This usually means there's a typo in your chart specification. See the javascript console for the full traceback.`));\n",
       "    }\n",
       "\n",
       "    if(typeof define === \"function\" && define.amd) {\n",
       "      requirejs.config({paths});\n",
       "      require([\"vega-embed\"], displayChart, err => showError(`Error loading script: ${err.message}`));\n",
       "    } else if (typeof vegaEmbed === \"function\") {\n",
       "      displayChart(vegaEmbed);\n",
       "    } else {\n",
       "      loadScript(\"vega\")\n",
       "        .then(() => loadScript(\"vega-lite\"))\n",
       "        .then(() => loadScript(\"vega-embed\"))\n",
       "        .catch(showError)\n",
       "        .then(() => displayChart(vegaEmbed));\n",
       "    }\n",
       "  })({\"config\": {\"view\": {\"continuousWidth\": 400, \"continuousHeight\": 300}}, \"layer\": [{\"mark\": \"line\", \"encoding\": {\"color\": {\"type\": \"nominal\", \"field\": \"Bauperiode\", \"legend\": {\"orient\": \"right\", \"title\": \"Anzahl_HAE\"}}, \"size\": {\"condition\": {\"value\": 0.5, \"selection\": {\"not\": \"selector015\"}}, \"value\": 4}, \"tooltip\": [{\"type\": \"temporal\", \"field\": \"Jahr\"}, {\"type\": \"nominal\", \"field\": \"Bauperiode\"}, {\"type\": \"quantitative\", \"field\": \"Medianqmp\"}, {\"type\": \"quantitative\", \"field\": \"Anzahl_HAE\"}], \"x\": {\"type\": \"temporal\", \"axis\": {\"title\": \"Jahr\"}, \"field\": \"Jahr\"}, \"y\": {\"type\": \"quantitative\", \"axis\": {\"title\": \"Medianqmp\"}, \"field\": \"Anzahl_HAE\"}}, \"selection\": {\"selector016\": {\"type\": \"interval\", \"bind\": \"scales\", \"encodings\": [\"x\", \"y\"]}}, \"title\": \"Title\"}, {\"mark\": \"circle\", \"encoding\": {\"color\": {\"type\": \"nominal\", \"field\": \"Bauperiode\", \"legend\": {\"orient\": \"right\", \"title\": \"Anzahl_HAE\"}}, \"opacity\": {\"value\": 0.75}, \"tooltip\": [{\"type\": \"temporal\", \"field\": \"Jahr\"}, {\"type\": \"nominal\", \"field\": \"Bauperiode\"}, {\"type\": \"quantitative\", \"field\": \"Medianqmp\"}, {\"type\": \"quantitative\", \"field\": \"Anzahl_HAE\"}], \"x\": {\"type\": \"temporal\", \"axis\": {\"title\": \"Jahr\"}, \"field\": \"Jahr\"}, \"y\": {\"type\": \"quantitative\", \"axis\": {\"title\": \"Medianqmp\"}, \"field\": \"Anzahl_HAE\"}}, \"height\": 350, \"selection\": {\"selector015\": {\"type\": \"single\", \"on\": \"mouseover\", \"fields\": [\"Bauperiode\"], \"nearest\": true}}, \"title\": \"Title\", \"width\": 750}], \"data\": {\"name\": \"data-14cf80e4ac7f949ea59a498813fa360a\"}, \"$schema\": \"https://vega.github.io/schema/vega-lite/v4.8.1.json\", \"datasets\": {\"data-14cf80e4ac7f949ea59a498813fa360a\": [{\"Jahr\": \"2009-01-01T00:00:00\", \"Bauperiode\": \"1_vor 1950\", \"Medianqmp\": 10020, \"Anzahl_HAE\": 105}, {\"Jahr\": \"2009-01-01T00:00:00\", \"Bauperiode\": \"2_1950-1979\", \"Medianqmp\": 7110, \"Anzahl_HAE\": 140}, {\"Jahr\": \"2009-01-01T00:00:00\", \"Bauperiode\": \"3_1980-1999\", \"Medianqmp\": 7810, \"Anzahl_HAE\": 87}, {\"Jahr\": \"2009-01-01T00:00:00\", \"Bauperiode\": \"4_2000-2009\", \"Medianqmp\": 7500, \"Anzahl_HAE\": 259}, {\"Jahr\": \"2010-01-01T00:00:00\", \"Bauperiode\": \"1_vor 1950\", \"Medianqmp\": 9450, \"Anzahl_HAE\": 120}, {\"Jahr\": \"2010-01-01T00:00:00\", \"Bauperiode\": \"2_1950-1979\", \"Medianqmp\": 8080, \"Anzahl_HAE\": 113}, {\"Jahr\": \"2010-01-01T00:00:00\", \"Bauperiode\": \"3_1980-1999\", \"Medianqmp\": 7630, \"Anzahl_HAE\": 76}, {\"Jahr\": \"2010-01-01T00:00:00\", \"Bauperiode\": \"4_2000-2009\", \"Medianqmp\": 7980, \"Anzahl_HAE\": 164}, {\"Jahr\": \"2010-01-01T00:00:00\", \"Bauperiode\": \"5_ab 2010\", \"Medianqmp\": 7670, \"Anzahl_HAE\": 269}, {\"Jahr\": \"2011-01-01T00:00:00\", \"Bauperiode\": \"1_vor 1950\", \"Medianqmp\": 9680, \"Anzahl_HAE\": 128}, {\"Jahr\": \"2011-01-01T00:00:00\", \"Bauperiode\": \"2_1950-1979\", \"Medianqmp\": 8630, \"Anzahl_HAE\": 116}, {\"Jahr\": \"2011-01-01T00:00:00\", \"Bauperiode\": \"3_1980-1999\", \"Medianqmp\": 9910, \"Anzahl_HAE\": 57}, {\"Jahr\": \"2011-01-01T00:00:00\", \"Bauperiode\": \"4_2000-2009\", \"Medianqmp\": 10630, \"Anzahl_HAE\": 48}, {\"Jahr\": \"2011-01-01T00:00:00\", \"Bauperiode\": \"5_ab 2010\", \"Medianqmp\": 7890, \"Anzahl_HAE\": 218}, {\"Jahr\": \"2012-01-01T00:00:00\", \"Bauperiode\": \"1_vor 1950\", \"Medianqmp\": 11350, \"Anzahl_HAE\": 82}, {\"Jahr\": \"2012-01-01T00:00:00\", \"Bauperiode\": \"2_1950-1979\", \"Medianqmp\": 7120, \"Anzahl_HAE\": 100}, {\"Jahr\": \"2012-01-01T00:00:00\", \"Bauperiode\": \"3_1980-1999\", \"Medianqmp\": 9150, \"Anzahl_HAE\": 80}, {\"Jahr\": \"2012-01-01T00:00:00\", \"Bauperiode\": \"4_2000-2009\", \"Medianqmp\": 10120, \"Anzahl_HAE\": 42}, {\"Jahr\": \"2012-01-01T00:00:00\", \"Bauperiode\": \"5_ab 2010\", \"Medianqmp\": 10530, \"Anzahl_HAE\": 190}, {\"Jahr\": \"2013-01-01T00:00:00\", \"Bauperiode\": \"1_vor 1950\", \"Medianqmp\": 10600, \"Anzahl_HAE\": 90}, {\"Jahr\": \"2013-01-01T00:00:00\", \"Bauperiode\": \"2_1950-1979\", \"Medianqmp\": 8380, \"Anzahl_HAE\": 71}, {\"Jahr\": \"2013-01-01T00:00:00\", \"Bauperiode\": \"3_1980-1999\", \"Medianqmp\": 9710, \"Anzahl_HAE\": 47}, {\"Jahr\": \"2013-01-01T00:00:00\", \"Bauperiode\": \"4_2000-2009\", \"Medianqmp\": 11380, \"Anzahl_HAE\": 32}, {\"Jahr\": \"2013-01-01T00:00:00\", \"Bauperiode\": \"5_ab 2010\", \"Medianqmp\": 9100, \"Anzahl_HAE\": 280}, {\"Jahr\": \"2014-01-01T00:00:00\", \"Bauperiode\": \"1_vor 1950\", \"Medianqmp\": 10400, \"Anzahl_HAE\": 94}, {\"Jahr\": \"2014-01-01T00:00:00\", \"Bauperiode\": \"2_1950-1979\", \"Medianqmp\": 9630, \"Anzahl_HAE\": 134}, {\"Jahr\": \"2014-01-01T00:00:00\", \"Bauperiode\": \"3_1980-1999\", \"Medianqmp\": 10880, \"Anzahl_HAE\": 51}, {\"Jahr\": \"2014-01-01T00:00:00\", \"Bauperiode\": \"4_2000-2009\", \"Medianqmp\": 11390, \"Anzahl_HAE\": 63}, {\"Jahr\": \"2014-01-01T00:00:00\", \"Bauperiode\": \"5_ab 2010\", \"Medianqmp\": 11480, \"Anzahl_HAE\": 336}, {\"Jahr\": \"2015-01-01T00:00:00\", \"Bauperiode\": \"1_vor 1950\", \"Medianqmp\": 10730, \"Anzahl_HAE\": 111}, {\"Jahr\": \"2015-01-01T00:00:00\", \"Bauperiode\": \"2_1950-1979\", \"Medianqmp\": 9570, \"Anzahl_HAE\": 111}, {\"Jahr\": \"2015-01-01T00:00:00\", \"Bauperiode\": \"3_1980-1999\", \"Medianqmp\": 11170, \"Anzahl_HAE\": 64}, {\"Jahr\": \"2015-01-01T00:00:00\", \"Bauperiode\": \"4_2000-2009\", \"Medianqmp\": 10540, \"Anzahl_HAE\": 47}, {\"Jahr\": \"2015-01-01T00:00:00\", \"Bauperiode\": \"5_ab 2010\", \"Medianqmp\": 11240, \"Anzahl_HAE\": 517}, {\"Jahr\": \"2016-01-01T00:00:00\", \"Bauperiode\": \"1_vor 1950\", \"Medianqmp\": 11010, \"Anzahl_HAE\": 105}, {\"Jahr\": \"2016-01-01T00:00:00\", \"Bauperiode\": \"2_1950-1979\", \"Medianqmp\": 9890, \"Anzahl_HAE\": 113}, {\"Jahr\": \"2016-01-01T00:00:00\", \"Bauperiode\": \"3_1980-1999\", \"Medianqmp\": 11610, \"Anzahl_HAE\": 45}, {\"Jahr\": \"2016-01-01T00:00:00\", \"Bauperiode\": \"4_2000-2009\", \"Medianqmp\": 12330, \"Anzahl_HAE\": 49}, {\"Jahr\": \"2016-01-01T00:00:00\", \"Bauperiode\": \"5_ab 2010\", \"Medianqmp\": 11040, \"Anzahl_HAE\": 360}, {\"Jahr\": \"2017-01-01T00:00:00\", \"Bauperiode\": \"1_vor 1950\", \"Medianqmp\": 13230, \"Anzahl_HAE\": 90}, {\"Jahr\": \"2017-01-01T00:00:00\", \"Bauperiode\": \"2_1950-1979\", \"Medianqmp\": 12110, \"Anzahl_HAE\": 118}, {\"Jahr\": \"2017-01-01T00:00:00\", \"Bauperiode\": \"3_1980-1999\", \"Medianqmp\": 10290, \"Anzahl_HAE\": 44}, {\"Jahr\": \"2017-01-01T00:00:00\", \"Bauperiode\": \"4_2000-2009\", \"Medianqmp\": 12710, \"Anzahl_HAE\": 41}, {\"Jahr\": \"2017-01-01T00:00:00\", \"Bauperiode\": \"5_ab 2010\", \"Medianqmp\": 12060, \"Anzahl_HAE\": 253}, {\"Jahr\": \"2018-01-01T00:00:00\", \"Bauperiode\": \"1_vor 1950\", \"Medianqmp\": 11830, \"Anzahl_HAE\": 94}, {\"Jahr\": \"2018-01-01T00:00:00\", \"Bauperiode\": \"2_1950-1979\", \"Medianqmp\": 10760, \"Anzahl_HAE\": 91}, {\"Jahr\": \"2018-01-01T00:00:00\", \"Bauperiode\": \"3_1980-1999\", \"Medianqmp\": 9900, \"Anzahl_HAE\": 49}, {\"Jahr\": \"2018-01-01T00:00:00\", \"Bauperiode\": \"4_2000-2009\", \"Medianqmp\": 12450, \"Anzahl_HAE\": 46}, {\"Jahr\": \"2018-01-01T00:00:00\", \"Bauperiode\": \"5_ab 2010\", \"Medianqmp\": 11740, \"Anzahl_HAE\": 304}, {\"Jahr\": \"2019-01-01T00:00:00\", \"Bauperiode\": \"1_vor 1950\", \"Medianqmp\": 13490, \"Anzahl_HAE\": 74}, {\"Jahr\": \"2019-01-01T00:00:00\", \"Bauperiode\": \"2_1950-1979\", \"Medianqmp\": 10530, \"Anzahl_HAE\": 99}, {\"Jahr\": \"2019-01-01T00:00:00\", \"Bauperiode\": \"3_1980-1999\", \"Medianqmp\": 12380, \"Anzahl_HAE\": 55}, {\"Jahr\": \"2019-01-01T00:00:00\", \"Bauperiode\": \"4_2000-2009\", \"Medianqmp\": 11170, \"Anzahl_HAE\": 40}, {\"Jahr\": \"2019-01-01T00:00:00\", \"Bauperiode\": \"5_ab 2010\", \"Medianqmp\": 14380, \"Anzahl_HAE\": 180}, {\"Jahr\": \"2020-01-01T00:00:00\", \"Bauperiode\": \"1_vor 1950\", \"Medianqmp\": 12990, \"Anzahl_HAE\": 126}, {\"Jahr\": \"2020-01-01T00:00:00\", \"Bauperiode\": \"2_1950-1979\", \"Medianqmp\": 10320, \"Anzahl_HAE\": 116}, {\"Jahr\": \"2020-01-01T00:00:00\", \"Bauperiode\": \"3_1980-1999\", \"Medianqmp\": 12500, \"Anzahl_HAE\": 49}, {\"Jahr\": \"2020-01-01T00:00:00\", \"Bauperiode\": \"4_2000-2009\", \"Medianqmp\": 15340, \"Anzahl_HAE\": 45}, {\"Jahr\": \"2020-01-01T00:00:00\", \"Bauperiode\": \"5_ab 2010\", \"Medianqmp\": 13780, \"Anzahl_HAE\": 217}, {\"Jahr\": \"2021-01-01T00:00:00\", \"Bauperiode\": \"1_vor 1950\", \"Medianqmp\": 15640, \"Anzahl_HAE\": 105}, {\"Jahr\": \"2021-01-01T00:00:00\", \"Bauperiode\": \"2_1950-1979\", \"Medianqmp\": 12070, \"Anzahl_HAE\": 178}, {\"Jahr\": \"2021-01-01T00:00:00\", \"Bauperiode\": \"3_1980-1999\", \"Medianqmp\": 13370, \"Anzahl_HAE\": 63}, {\"Jahr\": \"2021-01-01T00:00:00\", \"Bauperiode\": \"4_2000-2009\", \"Medianqmp\": 13950, \"Anzahl_HAE\": 34}, {\"Jahr\": \"2021-01-01T00:00:00\", \"Bauperiode\": \"5_ab 2010\", \"Medianqmp\": 12990, \"Anzahl_HAE\": 440}]}}, {\"mode\": \"vega-lite\"});\n",
       "</script>"
      ],
      "text/plain": [
       "alt.LayerChart(...)"
      ]
     },
     "execution_count": 29,
     "metadata": {},
     "output_type": "execute_result"
    }
   ],
   "source": [
    "highlight = alt.selection(type='single', on='mouseover', fields=['Bauperiode'], nearest=True)\n",
    "#x='date:StichtagDatJahr',\n",
    "base = alt.Chart(data2betested.reset_index().query('Bauperiode != \"1–3\"'), title=\"Title\").encode(\n",
    "    x=alt.X('Jahr', axis=alt.Axis(title='Jahr'))# , axis=alt.Axis(format='%', title='percentage')\n",
    "    , y=alt.X('Anzahl_HAE', axis=alt.Axis(title='Medianqmp'))\n",
    "    , color=alt.Color('Bauperiode', legend=alt.Legend(title=\"Anzahl_HAE\", orient=\"right\"))  \n",
    "    ,tooltip=['Jahr','Bauperiode','Medianqmp','Anzahl_HAE']    \n",
    ")\n",
    "points = base.mark_circle().encode(\n",
    "    opacity=alt.value(0.75)\n",
    ").add_selection(\n",
    "    highlight\n",
    ").properties(\n",
    "    width=750 , height=350\n",
    ")\n",
    "lines = base.mark_line().encode(\n",
    "    size=alt.condition(~highlight, alt.value(0.5), alt.value(4))\n",
    ").interactive()\n",
    "\n",
    "lines + points"
   ]
  },
  {
   "cell_type": "markdown",
   "metadata": {
    "tags": []
   },
   "source": [
    "#### Barcharts mit Seaborn"
   ]
  },
  {
   "cell_type": "code",
   "execution_count": 30,
   "metadata": {},
   "outputs": [],
   "source": [
    "#help(sns.catplot)     "
   ]
  },
  {
   "cell_type": "code",
   "execution_count": 31,
   "metadata": {},
   "outputs": [],
   "source": [
    "#Stile for the following sns graphs\n",
    "sns.set_theme(style=\"whitegrid\")"
   ]
  },
  {
   "cell_type": "markdown",
   "metadata": {},
   "source": [
    "##### Medianquadratmeterpreise nach Bauperiode und Jahr"
   ]
  },
  {
   "cell_type": "code",
   "execution_count": 36,
   "metadata": {},
   "outputs": [
    {
     "data": {
      "text/plain": [
       "Bauperiode    object\n",
       "Medianqmp      int64\n",
       "Anzahl_HAE     int64\n",
       "dtype: object"
      ]
     },
     "execution_count": 36,
     "metadata": {},
     "output_type": "execute_result"
    }
   ],
   "source": [
    "data2betested.dtypes"
   ]
  },
  {
   "cell_type": "code",
   "execution_count": 37,
   "metadata": {},
   "outputs": [
    {
     "data": {
      "text/plain": [
       "<seaborn.axisgrid.FacetGrid at 0x208638f6130>"
      ]
     },
     "execution_count": 37,
     "metadata": {},
     "output_type": "execute_result"
    },
    {
     "data": {
      "image/png": "[encoded data removed]",
      "text/plain": [
       "<Figure size 1284.1x360 with 1 Axes>"
      ]
     },
     "metadata": {},
     "output_type": "display_data"
    }
   ],
   "source": [
    "#sns.color_palette(\"flare\", as_cmap=True)\n",
    "myHist = sns.catplot(data=data2betested.loc[\"2009\":\"2021\"].reset_index().query('Bauperiode != \"0\"')\n",
    "                     , x=\"Bauperiode\"\n",
    "            , y=\"Medianqmp\"\n",
    "            , hue=\"Jahr\"\n",
    "            , kind=\"bar\" #boxen, violin, --> wenn die aggregation nicht genau den werten in der grafik entspricht\n",
    "            , palette=\"pastel\" #, color=\"green\"\n",
    "            , height=5\n",
    "            , aspect=3\n",
    "            , order=None, legend_out=True\n",
    "           )\n",
    "myHist.set_xlabels('Bauperiode', fontsize=11) # not set_label\n",
    "myHist.set_ylabels('Medianqmp', fontsize=11)\n"
   ]
  },
  {
   "cell_type": "code",
   "execution_count": 39,
   "metadata": {},
   "outputs": [
    {
     "data": {
      "text/plain": [
       "Bauperiode    object\n",
       "Medianqmp      int64\n",
       "Anzahl_HAE     int64\n",
       "dtype: object"
      ]
     },
     "execution_count": 39,
     "metadata": {},
     "output_type": "execute_result"
    }
   ],
   "source": [
    "data2betested.dtypes"
   ]
  },
  {
   "cell_type": "markdown",
   "metadata": {},
   "source": [
    "##### Entwicklung aller Medianquadratmeterpreise und Anzahl HAE nach Bauperiode seit 2009"
   ]
  },
  {
   "cell_type": "code",
   "execution_count": 41,
   "metadata": {},
   "outputs": [
    {
     "data": {
      "text/plain": [
       "<seaborn.axisgrid.FacetGrid at 0x20861bcd220>"
      ]
     },
     "execution_count": 41,
     "metadata": {},
     "output_type": "execute_result"
    },
    {
     "data": {
      "image/png": "[encoded data removed]",
      "text/plain": [
       "<Figure size 1184.6x216 with 5 Axes>"
      ]
     },
     "metadata": {},
     "output_type": "display_data"
    },
    {
     "data": {
      "image/png": "[encoded data removed]",
      "text/plain": [
       "<Figure size 1184.6x216 with 5 Axes>"
      ]
     },
     "metadata": {},
     "output_type": "display_data"
    }
   ],
   "source": [
    "g = sns.FacetGrid(data=data2betested.loc[\"2009\":\"2021\"].query('Medianqmp > 0').reset_index(), col=\"Bauperiode\", hue=\"Bauperiode\", col_wrap=5, height=3)\n",
    "#g.map(sns.scatterplot, \"Jahr\", \"Medianqmp\", alpha=.8)\n",
    "g.map(sns.lineplot, \"Jahr\",\"Medianqmp\", alpha=.9)\n",
    "g.add_legend()\n",
    "\n",
    "\n",
    "g2 = sns.FacetGrid(data=data2betested.loc[\"2009\":\"2021\"].query('Medianqmp > 0').reset_index(), col=\"Bauperiode\", hue=\"Bauperiode\", col_wrap=5, height=3)\n",
    "#g.map(sns.scatterplot, \"Jahr\", \"Medianqmp\", alpha=.8)\n",
    "g2.map(sns.lineplot, \"Jahr\",\"Anzahl_HAE\", alpha=.9)\n",
    "g2.add_legend()\n",
    "\n"
   ]
  },
  {
   "cell_type": "markdown",
   "metadata": {},
   "source": [
    "### Daten in interaktiver Treemap zeigen\n",
    "Dazu gibt es eine sehr nützliche Webseite https://plotly.com/python/treemaps/\n",
    "Zu Farbskalen, siehe: https://plotly.com/python/builtin-colorscales/"
   ]
  },
  {
   "cell_type": "markdown",
   "metadata": {
    "tags": []
   },
   "source": [
    "#### Medianquadratmeterpreis nach Zimmerzahl 2021 (Macht hier keinen SINN... Weil nicht aggregierbar)"
   ]
  },
  {
   "cell_type": "code",
   "execution_count": 42,
   "metadata": {
    "tags": []
   },
   "outputs": [
    {
     "data": {
      "text/plain": [
       "Bauperiode    object\n",
       "Medianqmp      int64\n",
       "Anzahl_HAE     int64\n",
       "dtype: object"
      ]
     },
     "execution_count": 42,
     "metadata": {},
     "output_type": "execute_result"
    }
   ],
   "source": [
    "data2betested.dtypes"
   ]
  },
  {
   "cell_type": "code",
   "execution_count": 44,
   "metadata": {
    "tags": []
   },
   "outputs": [
    {
     "data": {
      "application/vnd.plotly.v1+json": {
       "config": {
        "plotlyServerURL": "https://plot.ly"
       },
       "data": [
        {
         "branchvalues": "total",
         "customdata": [
          [
           11380
          ],
          [
           13950
          ],
          [
           11170
          ],
          [
           12710
          ],
          [
           10120
          ],
          [
           10290
          ],
          [
           11610
          ],
          [
           15340
          ],
          [
           12450
          ],
          [
           9710
          ],
          [
           10540
          ],
          [
           10630
          ],
          [
           11350.892857142857
          ],
          [
           12330
          ],
          [
           10880
          ],
          [
           12380
          ],
          [
           9910
          ],
          [
           13370
          ],
          [
           11390
          ],
          [
           11170
          ],
          [
           8380
          ],
          [
           13490
          ],
          [
           7630
          ],
          [
           9150
          ],
          [
           11350
          ],
          [
           7810
          ],
          [
           12060.130088124213
          ],
          [
           10760
          ],
          [
           11160.994152046784
          ],
          [
           10530
          ],
          [
           7120
          ],
          [
           12714.21052631579
          ],
          [
           10730
          ],
          [
           9570
          ],
          [
           9076.154702281581
          ],
          [
           9550.358839050132
          ],
          [
           12110
          ],
          [
           9450
          ],
          [
           12990
          ],
          [
           9680
          ],
          [
           9630
          ],
          [
           7110
          ],
          [
           7980
          ],
          [
           12070
          ],
          [
           14380
          ],
          [
           10530
          ],
          [
           13780
          ],
          [
           7890
          ],
          [
           12060
          ],
          [
           7500
          ],
          [
           7670
          ],
          [
           9100
          ],
          [
           11740
          ],
          [
           11480
          ],
          [
           11040
          ],
          [
           12990
          ],
          [
           11240
          ],
          [
           11829.626379470816
          ],
          [
           9813.735909822866
          ],
          [
           10751.437898906903
          ],
          [
           11722.369652179808
          ],
          [
           11527.002240477968
          ],
          [
           11174.319389877513
          ]
         ],
         "domain": {
          "x": [
           0,
           1
          ],
          "y": [
           0,
           1
          ]
         },
         "hovertemplate": "labels=%{label}<br>Medianqmp_sum=%{value}<br>parent=%{parent}<br>id=%{id}<br>Medianqmp=%{color}<extra></extra>",
         "ids": [
          "nix sinnvolles hier/4_2000-2009/32",
          "nix sinnvolles hier/4_2000-2009/34",
          "nix sinnvolles hier/4_2000-2009/40",
          "nix sinnvolles hier/4_2000-2009/41",
          "nix sinnvolles hier/4_2000-2009/42",
          "nix sinnvolles hier/3_1980-1999/44",
          "nix sinnvolles hier/3_1980-1999/45",
          "nix sinnvolles hier/4_2000-2009/45",
          "nix sinnvolles hier/4_2000-2009/46",
          "nix sinnvolles hier/3_1980-1999/47",
          "nix sinnvolles hier/4_2000-2009/47",
          "nix sinnvolles hier/4_2000-2009/48",
          "nix sinnvolles hier/3_1980-1999/49",
          "nix sinnvolles hier/4_2000-2009/49",
          "nix sinnvolles hier/3_1980-1999/51",
          "nix sinnvolles hier/3_1980-1999/55",
          "nix sinnvolles hier/3_1980-1999/57",
          "nix sinnvolles hier/3_1980-1999/63",
          "nix sinnvolles hier/4_2000-2009/63",
          "nix sinnvolles hier/3_1980-1999/64",
          "nix sinnvolles hier/2_1950-1979/71",
          "nix sinnvolles hier/1_vor 1950/74",
          "nix sinnvolles hier/3_1980-1999/76",
          "nix sinnvolles hier/3_1980-1999/80",
          "nix sinnvolles hier/1_vor 1950/82",
          "nix sinnvolles hier/3_1980-1999/87",
          "nix sinnvolles hier/1_vor 1950/90",
          "nix sinnvolles hier/2_1950-1979/91",
          "nix sinnvolles hier/1_vor 1950/94",
          "nix sinnvolles hier/2_1950-1979/99",
          "nix sinnvolles hier/2_1950-1979/100",
          "nix sinnvolles hier/1_vor 1950/105",
          "nix sinnvolles hier/1_vor 1950/111",
          "nix sinnvolles hier/2_1950-1979/111",
          "nix sinnvolles hier/2_1950-1979/113",
          "nix sinnvolles hier/2_1950-1979/116",
          "nix sinnvolles hier/2_1950-1979/118",
          "nix sinnvolles hier/1_vor 1950/120",
          "nix sinnvolles hier/1_vor 1950/126",
          "nix sinnvolles hier/1_vor 1950/128",
          "nix sinnvolles hier/2_1950-1979/134",
          "nix sinnvolles hier/2_1950-1979/140",
          "nix sinnvolles hier/4_2000-2009/164",
          "nix sinnvolles hier/2_1950-1979/178",
          "nix sinnvolles hier/5_ab 2010/180",
          "nix sinnvolles hier/5_ab 2010/190",
          "nix sinnvolles hier/5_ab 2010/217",
          "nix sinnvolles hier/5_ab 2010/218",
          "nix sinnvolles hier/5_ab 2010/253",
          "nix sinnvolles hier/4_2000-2009/259",
          "nix sinnvolles hier/5_ab 2010/269",
          "nix sinnvolles hier/5_ab 2010/280",
          "nix sinnvolles hier/5_ab 2010/304",
          "nix sinnvolles hier/5_ab 2010/336",
          "nix sinnvolles hier/5_ab 2010/360",
          "nix sinnvolles hier/5_ab 2010/440",
          "nix sinnvolles hier/5_ab 2010/517",
          "nix sinnvolles hier/1_vor 1950",
          "nix sinnvolles hier/2_1950-1979",
          "nix sinnvolles hier/3_1980-1999",
          "nix sinnvolles hier/4_2000-2009",
          "nix sinnvolles hier/5_ab 2010",
          "nix sinnvolles hier"
         ],
         "labels": [
          "32",
          "34",
          "40",
          "41",
          "42",
          "44",
          "45",
          "45",
          "46",
          "47",
          "47",
          "48",
          "49",
          "49",
          "51",
          "55",
          "57",
          "63",
          "63",
          "64",
          "71",
          "74",
          "76",
          "80",
          "82",
          "87",
          "90",
          "91",
          "94",
          "99",
          "100",
          "105",
          "111",
          "111",
          "113",
          "116",
          "118",
          "120",
          "126",
          "128",
          "134",
          "140",
          "164",
          "178",
          "180",
          "190",
          "217",
          "218",
          "253",
          "259",
          "269",
          "280",
          "304",
          "336",
          "360",
          "440",
          "517",
          "1_vor 1950",
          "2_1950-1979",
          "3_1980-1999",
          "4_2000-2009",
          "5_ab 2010",
          "nix sinnvolles hier"
         ],
         "marker": {
          "coloraxis": "coloraxis",
          "colors": [
           11380,
           13950,
           11170,
           12710,
           10120,
           10290,
           11610,
           15340,
           12450,
           9710,
           10540,
           10630,
           11350.892857142857,
           12330,
           10880,
           12380,
           9910,
           13370,
           11390,
           11170,
           8380,
           13490,
           7630,
           9150,
           11350,
           7810,
           12060.130088124213,
           10760,
           11160.994152046784,
           10530,
           7120,
           12714.21052631579,
           10730,
           9570,
           9076.154702281581,
           9550.358839050132,
           12110,
           9450,
           12990,
           9680,
           9630,
           7110,
           7980,
           12070,
           14380,
           10530,
           13780,
           7890,
           12060,
           7500,
           7670,
           9100,
           11740,
           11480,
           11040,
           12990,
           11240,
           11829.626379470816,
           9813.735909822866,
           10751.437898906903,
           11722.369652179808,
           11527.002240477968,
           11174.319389877513
          ]
         },
         "name": "",
         "parents": [
          "nix sinnvolles hier/4_2000-2009",
          "nix sinnvolles hier/4_2000-2009",
          "nix sinnvolles hier/4_2000-2009",
          "nix sinnvolles hier/4_2000-2009",
          "nix sinnvolles hier/4_2000-2009",
          "nix sinnvolles hier/3_1980-1999",
          "nix sinnvolles hier/3_1980-1999",
          "nix sinnvolles hier/4_2000-2009",
          "nix sinnvolles hier/4_2000-2009",
          "nix sinnvolles hier/3_1980-1999",
          "nix sinnvolles hier/4_2000-2009",
          "nix sinnvolles hier/4_2000-2009",
          "nix sinnvolles hier/3_1980-1999",
          "nix sinnvolles hier/4_2000-2009",
          "nix sinnvolles hier/3_1980-1999",
          "nix sinnvolles hier/3_1980-1999",
          "nix sinnvolles hier/3_1980-1999",
          "nix sinnvolles hier/3_1980-1999",
          "nix sinnvolles hier/4_2000-2009",
          "nix sinnvolles hier/3_1980-1999",
          "nix sinnvolles hier/2_1950-1979",
          "nix sinnvolles hier/1_vor 1950",
          "nix sinnvolles hier/3_1980-1999",
          "nix sinnvolles hier/3_1980-1999",
          "nix sinnvolles hier/1_vor 1950",
          "nix sinnvolles hier/3_1980-1999",
          "nix sinnvolles hier/1_vor 1950",
          "nix sinnvolles hier/2_1950-1979",
          "nix sinnvolles hier/1_vor 1950",
          "nix sinnvolles hier/2_1950-1979",
          "nix sinnvolles hier/2_1950-1979",
          "nix sinnvolles hier/1_vor 1950",
          "nix sinnvolles hier/1_vor 1950",
          "nix sinnvolles hier/2_1950-1979",
          "nix sinnvolles hier/2_1950-1979",
          "nix sinnvolles hier/2_1950-1979",
          "nix sinnvolles hier/2_1950-1979",
          "nix sinnvolles hier/1_vor 1950",
          "nix sinnvolles hier/1_vor 1950",
          "nix sinnvolles hier/1_vor 1950",
          "nix sinnvolles hier/2_1950-1979",
          "nix sinnvolles hier/2_1950-1979",
          "nix sinnvolles hier/4_2000-2009",
          "nix sinnvolles hier/2_1950-1979",
          "nix sinnvolles hier/5_ab 2010",
          "nix sinnvolles hier/5_ab 2010",
          "nix sinnvolles hier/5_ab 2010",
          "nix sinnvolles hier/5_ab 2010",
          "nix sinnvolles hier/5_ab 2010",
          "nix sinnvolles hier/4_2000-2009",
          "nix sinnvolles hier/5_ab 2010",
          "nix sinnvolles hier/5_ab 2010",
          "nix sinnvolles hier/5_ab 2010",
          "nix sinnvolles hier/5_ab 2010",
          "nix sinnvolles hier/5_ab 2010",
          "nix sinnvolles hier/5_ab 2010",
          "nix sinnvolles hier/5_ab 2010",
          "nix sinnvolles hier",
          "nix sinnvolles hier",
          "nix sinnvolles hier",
          "nix sinnvolles hier",
          "nix sinnvolles hier",
          ""
         ],
         "root": {
          "color": "grey"
         },
         "type": "treemap",
         "values": [
          11380,
          13950,
          11170,
          12710,
          10120,
          10290,
          11610,
          15340,
          12450,
          9710,
          10540,
          10630,
          22400,
          12330,
          10880,
          12380,
          9910,
          13370,
          11390,
          11170,
          8380,
          13490,
          7630,
          9150,
          11350,
          7810,
          23830,
          10760,
          22230,
          10530,
          7120,
          36670,
          10730,
          9570,
          17970,
          18950,
          12110,
          9450,
          12990,
          9680,
          9630,
          7110,
          7980,
          12070,
          14380,
          10530,
          13780,
          7890,
          12060,
          7500,
          7670,
          9100,
          11740,
          11480,
          11040,
          12990,
          11240,
          150420,
          124200,
          136310,
          147490,
          133900,
          692320
         ]
        }
       ],
       "layout": {
        "coloraxis": {
         "colorbar": {
          "title": {
           "text": "Medianqmp"
          }
         },
         "colorscale": [
          [
           0,
           "#00224e"
          ],
          [
           0.1111111111111111,
           "#123570"
          ],
          [
           0.2222222222222222,
           "#3b496c"
          ],
          [
           0.3333333333333333,
           "#575d6d"
          ],
          [
           0.4444444444444444,
           "#707173"
          ],
          [
           0.5555555555555556,
           "#8a8678"
          ],
          [
           0.6666666666666666,
           "#a59c74"
          ],
          [
           0.7777777777777778,
           "#c3b369"
          ],
          [
           0.8888888888888888,
           "#e1cc55"
          ],
          [
           1,
           "#fee838"
          ]
         ]
        },
        "height": 500,
        "legend": {
         "tracegroupgap": 0
        },
        "margin": {
         "b": 25,
         "l": 25,
         "r": 250,
         "t": 50
        },
        "template": {
         "data": {
          "bar": [
           {
            "error_x": {
             "color": "#2a3f5f"
            },
            "error_y": {
             "color": "#2a3f5f"
            },
            "marker": {
             "line": {
              "color": "#E5ECF6",
              "width": 0.5
             },
             "pattern": {
              "fillmode": "overlay",
              "size": 10,
              "solidity": 0.2
             }
            },
            "type": "bar"
           }
          ],
          "barpolar": [
           {
            "marker": {
             "line": {
              "color": "#E5ECF6",
              "width": 0.5
             },
             "pattern": {
              "fillmode": "overlay",
              "size": 10,
              "solidity": 0.2
             }
            },
            "type": "barpolar"
           }
          ],
          "carpet": [
           {
            "aaxis": {
             "endlinecolor": "#2a3f5f",
             "gridcolor": "white",
             "linecolor": "white",
             "minorgridcolor": "white",
             "startlinecolor": "#2a3f5f"
            },
            "baxis": {
             "endlinecolor": "#2a3f5f",
             "gridcolor": "white",
             "linecolor": "white",
             "minorgridcolor": "white",
             "startlinecolor": "#2a3f5f"
            },
            "type": "carpet"
           }
          ],
          "choropleth": [
           {
            "colorbar": {
             "outlinewidth": 0,
             "ticks": ""
            },
            "type": "choropleth"
           }
          ],
          "contour": [
           {
            "colorbar": {
             "outlinewidth": 0,
             "ticks": ""
            },
            "colorscale": [
             [
              0,
              "#0d0887"
             ],
             [
              0.1111111111111111,
              "#46039f"
             ],
             [
              0.2222222222222222,
              "#7201a8"
             ],
             [
              0.3333333333333333,
              "#9c179e"
             ],
             [
              0.4444444444444444,
              "#bd3786"
             ],
             [
              0.5555555555555556,
              "#d8576b"
             ],
             [
              0.6666666666666666,
              "#ed7953"
             ],
             [
              0.7777777777777778,
              "#fb9f3a"
             ],
             [
              0.8888888888888888,
              "#fdca26"
             ],
             [
              1,
              "#f0f921"
             ]
            ],
            "type": "contour"
           }
          ],
          "contourcarpet": [
           {
            "colorbar": {
             "outlinewidth": 0,
             "ticks": ""
            },
            "type": "contourcarpet"
           }
          ],
          "heatmap": [
           {
            "colorbar": {
             "outlinewidth": 0,
             "ticks": ""
            },
            "colorscale": [
             [
              0,
              "#0d0887"
             ],
             [
              0.1111111111111111,
              "#46039f"
             ],
             [
              0.2222222222222222,
              "#7201a8"
             ],
             [
              0.3333333333333333,
              "#9c179e"
             ],
             [
              0.4444444444444444,
              "#bd3786"
             ],
             [
              0.5555555555555556,
              "#d8576b"
             ],
             [
              0.6666666666666666,
              "#ed7953"
             ],
             [
              0.7777777777777778,
              "#fb9f3a"
             ],
             [
              0.8888888888888888,
              "#fdca26"
             ],
             [
              1,
              "#f0f921"
             ]
            ],
            "type": "heatmap"
           }
          ],
          "heatmapgl": [
           {
            "colorbar": {
             "outlinewidth": 0,
             "ticks": ""
            },
            "colorscale": [
             [
              0,
              "#0d0887"
             ],
             [
              0.1111111111111111,
              "#46039f"
             ],
             [
              0.2222222222222222,
              "#7201a8"
             ],
             [
              0.3333333333333333,
              "#9c179e"
             ],
             [
              0.4444444444444444,
              "#bd3786"
             ],
             [
              0.5555555555555556,
              "#d8576b"
             ],
             [
              0.6666666666666666,
              "#ed7953"
             ],
             [
              0.7777777777777778,
              "#fb9f3a"
             ],
             [
              0.8888888888888888,
              "#fdca26"
             ],
             [
              1,
              "#f0f921"
             ]
            ],
            "type": "heatmapgl"
           }
          ],
          "histogram": [
           {
            "marker": {
             "pattern": {
              "fillmode": "overlay",
              "size": 10,
              "solidity": 0.2
             }
            },
            "type": "histogram"
           }
          ],
          "histogram2d": [
           {
            "colorbar": {
             "outlinewidth": 0,
             "ticks": ""
            },
            "colorscale": [
             [
              0,
              "#0d0887"
             ],
             [
              0.1111111111111111,
              "#46039f"
             ],
             [
              0.2222222222222222,
              "#7201a8"
             ],
             [
              0.3333333333333333,
              "#9c179e"
             ],
             [
              0.4444444444444444,
              "#bd3786"
             ],
             [
              0.5555555555555556,
              "#d8576b"
             ],
             [
              0.6666666666666666,
              "#ed7953"
             ],
             [
              0.7777777777777778,
              "#fb9f3a"
             ],
             [
              0.8888888888888888,
              "#fdca26"
             ],
             [
              1,
              "#f0f921"
             ]
            ],
            "type": "histogram2d"
           }
          ],
          "histogram2dcontour": [
           {
            "colorbar": {
             "outlinewidth": 0,
             "ticks": ""
            },
            "colorscale": [
             [
              0,
              "#0d0887"
             ],
             [
              0.1111111111111111,
              "#46039f"
             ],
             [
              0.2222222222222222,
              "#7201a8"
             ],
             [
              0.3333333333333333,
              "#9c179e"
             ],
             [
              0.4444444444444444,
              "#bd3786"
             ],
             [
              0.5555555555555556,
              "#d8576b"
             ],
             [
              0.6666666666666666,
              "#ed7953"
             ],
             [
              0.7777777777777778,
              "#fb9f3a"
             ],
             [
              0.8888888888888888,
              "#fdca26"
             ],
             [
              1,
              "#f0f921"
             ]
            ],
            "type": "histogram2dcontour"
           }
          ],
          "mesh3d": [
           {
            "colorbar": {
             "outlinewidth": 0,
             "ticks": ""
            },
            "type": "mesh3d"
           }
          ],
          "parcoords": [
           {
            "line": {
             "colorbar": {
              "outlinewidth": 0,
              "ticks": ""
             }
            },
            "type": "parcoords"
           }
          ],
          "pie": [
           {
            "automargin": true,
            "type": "pie"
           }
          ],
          "scatter": [
           {
            "marker": {
             "colorbar": {
              "outlinewidth": 0,
              "ticks": ""
             }
            },
            "type": "scatter"
           }
          ],
          "scatter3d": [
           {
            "line": {
             "colorbar": {
              "outlinewidth": 0,
              "ticks": ""
             }
            },
            "marker": {
             "colorbar": {
              "outlinewidth": 0,
              "ticks": ""
             }
            },
            "type": "scatter3d"
           }
          ],
          "scattercarpet": [
           {
            "marker": {
             "colorbar": {
              "outlinewidth": 0,
              "ticks": ""
             }
            },
            "type": "scattercarpet"
           }
          ],
          "scattergeo": [
           {
            "marker": {
             "colorbar": {
              "outlinewidth": 0,
              "ticks": ""
             }
            },
            "type": "scattergeo"
           }
          ],
          "scattergl": [
           {
            "marker": {
             "colorbar": {
              "outlinewidth": 0,
              "ticks": ""
             }
            },
            "type": "scattergl"
           }
          ],
          "scattermapbox": [
           {
            "marker": {
             "colorbar": {
              "outlinewidth": 0,
              "ticks": ""
             }
            },
            "type": "scattermapbox"
           }
          ],
          "scatterpolar": [
           {
            "marker": {
             "colorbar": {
              "outlinewidth": 0,
              "ticks": ""
             }
            },
            "type": "scatterpolar"
           }
          ],
          "scatterpolargl": [
           {
            "marker": {
             "colorbar": {
              "outlinewidth": 0,
              "ticks": ""
             }
            },
            "type": "scatterpolargl"
           }
          ],
          "scatterternary": [
           {
            "marker": {
             "colorbar": {
              "outlinewidth": 0,
              "ticks": ""
             }
            },
            "type": "scatterternary"
           }
          ],
          "surface": [
           {
            "colorbar": {
             "outlinewidth": 0,
             "ticks": ""
            },
            "colorscale": [
             [
              0,
              "#0d0887"
             ],
             [
              0.1111111111111111,
              "#46039f"
             ],
             [
              0.2222222222222222,
              "#7201a8"
             ],
             [
              0.3333333333333333,
              "#9c179e"
             ],
             [
              0.4444444444444444,
              "#bd3786"
             ],
             [
              0.5555555555555556,
              "#d8576b"
             ],
             [
              0.6666666666666666,
              "#ed7953"
             ],
             [
              0.7777777777777778,
              "#fb9f3a"
             ],
             [
              0.8888888888888888,
              "#fdca26"
             ],
             [
              1,
              "#f0f921"
             ]
            ],
            "type": "surface"
           }
          ],
          "table": [
           {
            "cells": {
             "fill": {
              "color": "#EBF0F8"
             },
             "line": {
              "color": "white"
             }
            },
            "header": {
             "fill": {
              "color": "#C8D4E3"
             },
             "line": {
              "color": "white"
             }
            },
            "type": "table"
           }
          ]
         },
         "layout": {
          "annotationdefaults": {
           "arrowcolor": "#2a3f5f",
           "arrowhead": 0,
           "arrowwidth": 1
          },
          "autotypenumbers": "strict",
          "coloraxis": {
           "colorbar": {
            "outlinewidth": 0,
            "ticks": ""
           }
          },
          "colorscale": {
           "diverging": [
            [
             0,
             "#8e0152"
            ],
            [
             0.1,
             "#c51b7d"
            ],
            [
             0.2,
             "#de77ae"
            ],
            [
             0.3,
             "#f1b6da"
            ],
            [
             0.4,
             "#fde0ef"
            ],
            [
             0.5,
             "#f7f7f7"
            ],
            [
             0.6,
             "#e6f5d0"
            ],
            [
             0.7,
             "#b8e186"
            ],
            [
             0.8,
             "#7fbc41"
            ],
            [
             0.9,
             "#4d9221"
            ],
            [
             1,
             "#276419"
            ]
           ],
           "sequential": [
            [
             0,
             "#0d0887"
            ],
            [
             0.1111111111111111,
             "#46039f"
            ],
            [
             0.2222222222222222,
             "#7201a8"
            ],
            [
             0.3333333333333333,
             "#9c179e"
            ],
            [
             0.4444444444444444,
             "#bd3786"
            ],
            [
             0.5555555555555556,
             "#d8576b"
            ],
            [
             0.6666666666666666,
             "#ed7953"
            ],
            [
             0.7777777777777778,
             "#fb9f3a"
            ],
            [
             0.8888888888888888,
             "#fdca26"
            ],
            [
             1,
             "#f0f921"
            ]
           ],
           "sequentialminus": [
            [
             0,
             "#0d0887"
            ],
            [
             0.1111111111111111,
             "#46039f"
            ],
            [
             0.2222222222222222,
             "#7201a8"
            ],
            [
             0.3333333333333333,
             "#9c179e"
            ],
            [
             0.4444444444444444,
             "#bd3786"
            ],
            [
             0.5555555555555556,
             "#d8576b"
            ],
            [
             0.6666666666666666,
             "#ed7953"
            ],
            [
             0.7777777777777778,
             "#fb9f3a"
            ],
            [
             0.8888888888888888,
             "#fdca26"
            ],
            [
             1,
             "#f0f921"
            ]
           ]
          },
          "colorway": [
           "#636efa",
           "#EF553B",
           "#00cc96",
           "#ab63fa",
           "#FFA15A",
           "#19d3f3",
           "#FF6692",
           "#B6E880",
           "#FF97FF",
           "#FECB52"
          ],
          "font": {
           "color": "#2a3f5f"
          },
          "geo": {
           "bgcolor": "white",
           "lakecolor": "white",
           "landcolor": "#E5ECF6",
           "showlakes": true,
           "showland": true,
           "subunitcolor": "white"
          },
          "hoverlabel": {
           "align": "left"
          },
          "hovermode": "closest",
          "mapbox": {
           "style": "light"
          },
          "paper_bgcolor": "white",
          "plot_bgcolor": "#E5ECF6",
          "polar": {
           "angularaxis": {
            "gridcolor": "white",
            "linecolor": "white",
            "ticks": ""
           },
           "bgcolor": "#E5ECF6",
           "radialaxis": {
            "gridcolor": "white",
            "linecolor": "white",
            "ticks": ""
           }
          },
          "scene": {
           "xaxis": {
            "backgroundcolor": "#E5ECF6",
            "gridcolor": "white",
            "gridwidth": 2,
            "linecolor": "white",
            "showbackground": true,
            "ticks": "",
            "zerolinecolor": "white"
           },
           "yaxis": {
            "backgroundcolor": "#E5ECF6",
            "gridcolor": "white",
            "gridwidth": 2,
            "linecolor": "white",
            "showbackground": true,
            "ticks": "",
            "zerolinecolor": "white"
           },
           "zaxis": {
            "backgroundcolor": "#E5ECF6",
            "gridcolor": "white",
            "gridwidth": 2,
            "linecolor": "white",
            "showbackground": true,
            "ticks": "",
            "zerolinecolor": "white"
           }
          },
          "shapedefaults": {
           "line": {
            "color": "#2a3f5f"
           }
          },
          "ternary": {
           "aaxis": {
            "gridcolor": "white",
            "linecolor": "white",
            "ticks": ""
           },
           "baxis": {
            "gridcolor": "white",
            "linecolor": "white",
            "ticks": ""
           },
           "bgcolor": "#E5ECF6",
           "caxis": {
            "gridcolor": "white",
            "linecolor": "white",
            "ticks": ""
           }
          },
          "title": {
           "x": 0.05
          },
          "xaxis": {
           "automargin": true,
           "gridcolor": "white",
           "linecolor": "white",
           "ticks": "",
           "title": {
            "standoff": 15
           },
           "zerolinecolor": "white",
           "zerolinewidth": 2
          },
          "yaxis": {
           "automargin": true,
           "gridcolor": "white",
           "linecolor": "white",
           "ticks": "",
           "title": {
            "standoff": 15
           },
           "zerolinecolor": "white",
           "zerolinewidth": 2
          }
         }
        },
        "width": 1100
       }
      },
      "image/png": "[encoded data removed]",
      "text/html": [
       "<div>                            <div id=\"6bd1edea-c238-4942-aa9c-b6d5f373670b\" class=\"plotly-graph-div\" style=\"height:500px; width:1100px;\"></div>            <script type=\"text/javascript\">                require([\"plotly\"], function(Plotly) {                    window.PLOTLYENV=window.PLOTLYENV || {};                                    if (document.getElementById(\"6bd1edea-c238-4942-aa9c-b6d5f373670b\")) {                    Plotly.newPlot(                        \"6bd1edea-c238-4942-aa9c-b6d5f373670b\",                        [{\"branchvalues\":\"total\",\"customdata\":[[11380.0],[13950.0],[11170.0],[12710.0],[10120.0],[10290.0],[11610.0],[15340.0],[12450.0],[9710.0],[10540.0],[10630.0],[11350.892857142857],[12330.0],[10880.0],[12380.0],[9910.0],[13370.0],[11390.0],[11170.0],[8380.0],[13490.0],[7630.0],[9150.0],[11350.0],[7810.0],[12060.130088124213],[10760.0],[11160.994152046784],[10530.0],[7120.0],[12714.21052631579],[10730.0],[9570.0],[9076.154702281581],[9550.358839050132],[12110.0],[9450.0],[12990.0],[9680.0],[9630.0],[7110.0],[7980.0],[12070.0],[14380.0],[10530.0],[13780.0],[7890.0],[12060.0],[7500.0],[7670.0],[9100.0],[11740.0],[11480.0],[11040.0],[12990.0],[11240.0],[11829.626379470816],[9813.735909822866],[10751.437898906903],[11722.369652179808],[11527.002240477968],[11174.319389877513]],\"domain\":{\"x\":[0.0,1.0],\"y\":[0.0,1.0]},\"hovertemplate\":\"labels=%{label}<br>Medianqmp_sum=%{value}<br>parent=%{parent}<br>id=%{id}<br>Medianqmp=%{color}<extra></extra>\",\"ids\":[\"nix sinnvolles hier/4_2000-2009/32\",\"nix sinnvolles hier/4_2000-2009/34\",\"nix sinnvolles hier/4_2000-2009/40\",\"nix sinnvolles hier/4_2000-2009/41\",\"nix sinnvolles hier/4_2000-2009/42\",\"nix sinnvolles hier/3_1980-1999/44\",\"nix sinnvolles hier/3_1980-1999/45\",\"nix sinnvolles hier/4_2000-2009/45\",\"nix sinnvolles hier/4_2000-2009/46\",\"nix sinnvolles hier/3_1980-1999/47\",\"nix sinnvolles hier/4_2000-2009/47\",\"nix sinnvolles hier/4_2000-2009/48\",\"nix sinnvolles hier/3_1980-1999/49\",\"nix sinnvolles hier/4_2000-2009/49\",\"nix sinnvolles hier/3_1980-1999/51\",\"nix sinnvolles hier/3_1980-1999/55\",\"nix sinnvolles hier/3_1980-1999/57\",\"nix sinnvolles hier/3_1980-1999/63\",\"nix sinnvolles hier/4_2000-2009/63\",\"nix sinnvolles hier/3_1980-1999/64\",\"nix sinnvolles hier/2_1950-1979/71\",\"nix sinnvolles hier/1_vor 1950/74\",\"nix sinnvolles hier/3_1980-1999/76\",\"nix sinnvolles hier/3_1980-1999/80\",\"nix sinnvolles hier/1_vor 1950/82\",\"nix sinnvolles hier/3_1980-1999/87\",\"nix sinnvolles hier/1_vor 1950/90\",\"nix sinnvolles hier/2_1950-1979/91\",\"nix sinnvolles hier/1_vor 1950/94\",\"nix sinnvolles hier/2_1950-1979/99\",\"nix sinnvolles hier/2_1950-1979/100\",\"nix sinnvolles hier/1_vor 1950/105\",\"nix sinnvolles hier/1_vor 1950/111\",\"nix sinnvolles hier/2_1950-1979/111\",\"nix sinnvolles hier/2_1950-1979/113\",\"nix sinnvolles hier/2_1950-1979/116\",\"nix sinnvolles hier/2_1950-1979/118\",\"nix sinnvolles hier/1_vor 1950/120\",\"nix sinnvolles hier/1_vor 1950/126\",\"nix sinnvolles hier/1_vor 1950/128\",\"nix sinnvolles hier/2_1950-1979/134\",\"nix sinnvolles hier/2_1950-1979/140\",\"nix sinnvolles hier/4_2000-2009/164\",\"nix sinnvolles hier/2_1950-1979/178\",\"nix sinnvolles hier/5_ab 2010/180\",\"nix sinnvolles hier/5_ab 2010/190\",\"nix sinnvolles hier/5_ab 2010/217\",\"nix sinnvolles hier/5_ab 2010/218\",\"nix sinnvolles hier/5_ab 2010/253\",\"nix sinnvolles hier/4_2000-2009/259\",\"nix sinnvolles hier/5_ab 2010/269\",\"nix sinnvolles hier/5_ab 2010/280\",\"nix sinnvolles hier/5_ab 2010/304\",\"nix sinnvolles hier/5_ab 2010/336\",\"nix sinnvolles hier/5_ab 2010/360\",\"nix sinnvolles hier/5_ab 2010/440\",\"nix sinnvolles hier/5_ab 2010/517\",\"nix sinnvolles hier/1_vor 1950\",\"nix sinnvolles hier/2_1950-1979\",\"nix sinnvolles hier/3_1980-1999\",\"nix sinnvolles hier/4_2000-2009\",\"nix sinnvolles hier/5_ab 2010\",\"nix sinnvolles hier\"],\"labels\":[\"32\",\"34\",\"40\",\"41\",\"42\",\"44\",\"45\",\"45\",\"46\",\"47\",\"47\",\"48\",\"49\",\"49\",\"51\",\"55\",\"57\",\"63\",\"63\",\"64\",\"71\",\"74\",\"76\",\"80\",\"82\",\"87\",\"90\",\"91\",\"94\",\"99\",\"100\",\"105\",\"111\",\"111\",\"113\",\"116\",\"118\",\"120\",\"126\",\"128\",\"134\",\"140\",\"164\",\"178\",\"180\",\"190\",\"217\",\"218\",\"253\",\"259\",\"269\",\"280\",\"304\",\"336\",\"360\",\"440\",\"517\",\"1_vor 1950\",\"2_1950-1979\",\"3_1980-1999\",\"4_2000-2009\",\"5_ab 2010\",\"nix sinnvolles hier\"],\"marker\":{\"coloraxis\":\"coloraxis\",\"colors\":[11380.0,13950.0,11170.0,12710.0,10120.0,10290.0,11610.0,15340.0,12450.0,9710.0,10540.0,10630.0,11350.892857142857,12330.0,10880.0,12380.0,9910.0,13370.0,11390.0,11170.0,8380.0,13490.0,7630.0,9150.0,11350.0,7810.0,12060.130088124213,10760.0,11160.994152046784,10530.0,7120.0,12714.21052631579,10730.0,9570.0,9076.154702281581,9550.358839050132,12110.0,9450.0,12990.0,9680.0,9630.0,7110.0,7980.0,12070.0,14380.0,10530.0,13780.0,7890.0,12060.0,7500.0,7670.0,9100.0,11740.0,11480.0,11040.0,12990.0,11240.0,11829.626379470816,9813.735909822866,10751.437898906903,11722.369652179808,11527.002240477968,11174.319389877513]},\"name\":\"\",\"parents\":[\"nix sinnvolles hier/4_2000-2009\",\"nix sinnvolles hier/4_2000-2009\",\"nix sinnvolles hier/4_2000-2009\",\"nix sinnvolles hier/4_2000-2009\",\"nix sinnvolles hier/4_2000-2009\",\"nix sinnvolles hier/3_1980-1999\",\"nix sinnvolles hier/3_1980-1999\",\"nix sinnvolles hier/4_2000-2009\",\"nix sinnvolles hier/4_2000-2009\",\"nix sinnvolles hier/3_1980-1999\",\"nix sinnvolles hier/4_2000-2009\",\"nix sinnvolles hier/4_2000-2009\",\"nix sinnvolles hier/3_1980-1999\",\"nix sinnvolles hier/4_2000-2009\",\"nix sinnvolles hier/3_1980-1999\",\"nix sinnvolles hier/3_1980-1999\",\"nix sinnvolles hier/3_1980-1999\",\"nix sinnvolles hier/3_1980-1999\",\"nix sinnvolles hier/4_2000-2009\",\"nix sinnvolles hier/3_1980-1999\",\"nix sinnvolles hier/2_1950-1979\",\"nix sinnvolles hier/1_vor 1950\",\"nix sinnvolles hier/3_1980-1999\",\"nix sinnvolles hier/3_1980-1999\",\"nix sinnvolles hier/1_vor 1950\",\"nix sinnvolles hier/3_1980-1999\",\"nix sinnvolles hier/1_vor 1950\",\"nix sinnvolles hier/2_1950-1979\",\"nix sinnvolles hier/1_vor 1950\",\"nix sinnvolles hier/2_1950-1979\",\"nix sinnvolles hier/2_1950-1979\",\"nix sinnvolles hier/1_vor 1950\",\"nix sinnvolles hier/1_vor 1950\",\"nix sinnvolles hier/2_1950-1979\",\"nix sinnvolles hier/2_1950-1979\",\"nix sinnvolles hier/2_1950-1979\",\"nix sinnvolles hier/2_1950-1979\",\"nix sinnvolles hier/1_vor 1950\",\"nix sinnvolles hier/1_vor 1950\",\"nix sinnvolles hier/1_vor 1950\",\"nix sinnvolles hier/2_1950-1979\",\"nix sinnvolles hier/2_1950-1979\",\"nix sinnvolles hier/4_2000-2009\",\"nix sinnvolles hier/2_1950-1979\",\"nix sinnvolles hier/5_ab 2010\",\"nix sinnvolles hier/5_ab 2010\",\"nix sinnvolles hier/5_ab 2010\",\"nix sinnvolles hier/5_ab 2010\",\"nix sinnvolles hier/5_ab 2010\",\"nix sinnvolles hier/4_2000-2009\",\"nix sinnvolles hier/5_ab 2010\",\"nix sinnvolles hier/5_ab 2010\",\"nix sinnvolles hier/5_ab 2010\",\"nix sinnvolles hier/5_ab 2010\",\"nix sinnvolles hier/5_ab 2010\",\"nix sinnvolles hier/5_ab 2010\",\"nix sinnvolles hier/5_ab 2010\",\"nix sinnvolles hier\",\"nix sinnvolles hier\",\"nix sinnvolles hier\",\"nix sinnvolles hier\",\"nix sinnvolles hier\",\"\"],\"root\":{\"color\":\"grey\"},\"type\":\"treemap\",\"values\":[11380,13950,11170,12710,10120,10290,11610,15340,12450,9710,10540,10630,22400,12330,10880,12380,9910,13370,11390,11170,8380,13490,7630,9150,11350,7810,23830,10760,22230,10530,7120,36670,10730,9570,17970,18950,12110,9450,12990,9680,9630,7110,7980,12070,14380,10530,13780,7890,12060,7500,7670,9100,11740,11480,11040,12990,11240,150420,124200,136310,147490,133900,692320]}],                        {\"coloraxis\":{\"colorbar\":{\"title\":{\"text\":\"Medianqmp\"}},\"colorscale\":[[0.0,\"#00224e\"],[0.1111111111111111,\"#123570\"],[0.2222222222222222,\"#3b496c\"],[0.3333333333333333,\"#575d6d\"],[0.4444444444444444,\"#707173\"],[0.5555555555555556,\"#8a8678\"],[0.6666666666666666,\"#a59c74\"],[0.7777777777777778,\"#c3b369\"],[0.8888888888888888,\"#e1cc55\"],[1.0,\"#fee838\"]]},\"height\":500,\"legend\":{\"tracegroupgap\":0},\"margin\":{\"b\":25,\"l\":25,\"r\":250,\"t\":50},\"template\":{\"data\":{\"bar\":[{\"error_x\":{\"color\":\"#2a3f5f\"},\"error_y\":{\"color\":\"#2a3f5f\"},\"marker\":{\"line\":{\"color\":\"#E5ECF6\",\"width\":0.5},\"pattern\":{\"fillmode\":\"overlay\",\"size\":10,\"solidity\":0.2}},\"type\":\"bar\"}],\"barpolar\":[{\"marker\":{\"line\":{\"color\":\"#E5ECF6\",\"width\":0.5},\"pattern\":{\"fillmode\":\"overlay\",\"size\":10,\"solidity\":0.2}},\"type\":\"barpolar\"}],\"carpet\":[{\"aaxis\":{\"endlinecolor\":\"#2a3f5f\",\"gridcolor\":\"white\",\"linecolor\":\"white\",\"minorgridcolor\":\"white\",\"startlinecolor\":\"#2a3f5f\"},\"baxis\":{\"endlinecolor\":\"#2a3f5f\",\"gridcolor\":\"white\",\"linecolor\":\"white\",\"minorgridcolor\":\"white\",\"startlinecolor\":\"#2a3f5f\"},\"type\":\"carpet\"}],\"choropleth\":[{\"colorbar\":{\"outlinewidth\":0,\"ticks\":\"\"},\"type\":\"choropleth\"}],\"contour\":[{\"colorbar\":{\"outlinewidth\":0,\"ticks\":\"\"},\"colorscale\":[[0.0,\"#0d0887\"],[0.1111111111111111,\"#46039f\"],[0.2222222222222222,\"#7201a8\"],[0.3333333333333333,\"#9c179e\"],[0.4444444444444444,\"#bd3786\"],[0.5555555555555556,\"#d8576b\"],[0.6666666666666666,\"#ed7953\"],[0.7777777777777778,\"#fb9f3a\"],[0.8888888888888888,\"#fdca26\"],[1.0,\"#f0f921\"]],\"type\":\"contour\"}],\"contourcarpet\":[{\"colorbar\":{\"outlinewidth\":0,\"ticks\":\"\"},\"type\":\"contourcarpet\"}],\"heatmap\":[{\"colorbar\":{\"outlinewidth\":0,\"ticks\":\"\"},\"colorscale\":[[0.0,\"#0d0887\"],[0.1111111111111111,\"#46039f\"],[0.2222222222222222,\"#7201a8\"],[0.3333333333333333,\"#9c179e\"],[0.4444444444444444,\"#bd3786\"],[0.5555555555555556,\"#d8576b\"],[0.6666666666666666,\"#ed7953\"],[0.7777777777777778,\"#fb9f3a\"],[0.8888888888888888,\"#fdca26\"],[1.0,\"#f0f921\"]],\"type\":\"heatmap\"}],\"heatmapgl\":[{\"colorbar\":{\"outlinewidth\":0,\"ticks\":\"\"},\"colorscale\":[[0.0,\"#0d0887\"],[0.1111111111111111,\"#46039f\"],[0.2222222222222222,\"#7201a8\"],[0.3333333333333333,\"#9c179e\"],[0.4444444444444444,\"#bd3786\"],[0.5555555555555556,\"#d8576b\"],[0.6666666666666666,\"#ed7953\"],[0.7777777777777778,\"#fb9f3a\"],[0.8888888888888888,\"#fdca26\"],[1.0,\"#f0f921\"]],\"type\":\"heatmapgl\"}],\"histogram\":[{\"marker\":{\"pattern\":{\"fillmode\":\"overlay\",\"size\":10,\"solidity\":0.2}},\"type\":\"histogram\"}],\"histogram2d\":[{\"colorbar\":{\"outlinewidth\":0,\"ticks\":\"\"},\"colorscale\":[[0.0,\"#0d0887\"],[0.1111111111111111,\"#46039f\"],[0.2222222222222222,\"#7201a8\"],[0.3333333333333333,\"#9c179e\"],[0.4444444444444444,\"#bd3786\"],[0.5555555555555556,\"#d8576b\"],[0.6666666666666666,\"#ed7953\"],[0.7777777777777778,\"#fb9f3a\"],[0.8888888888888888,\"#fdca26\"],[1.0,\"#f0f921\"]],\"type\":\"histogram2d\"}],\"histogram2dcontour\":[{\"colorbar\":{\"outlinewidth\":0,\"ticks\":\"\"},\"colorscale\":[[0.0,\"#0d0887\"],[0.1111111111111111,\"#46039f\"],[0.2222222222222222,\"#7201a8\"],[0.3333333333333333,\"#9c179e\"],[0.4444444444444444,\"#bd3786\"],[0.5555555555555556,\"#d8576b\"],[0.6666666666666666,\"#ed7953\"],[0.7777777777777778,\"#fb9f3a\"],[0.8888888888888888,\"#fdca26\"],[1.0,\"#f0f921\"]],\"type\":\"histogram2dcontour\"}],\"mesh3d\":[{\"colorbar\":{\"outlinewidth\":0,\"ticks\":\"\"},\"type\":\"mesh3d\"}],\"parcoords\":[{\"line\":{\"colorbar\":{\"outlinewidth\":0,\"ticks\":\"\"}},\"type\":\"parcoords\"}],\"pie\":[{\"automargin\":true,\"type\":\"pie\"}],\"scatter\":[{\"marker\":{\"colorbar\":{\"outlinewidth\":0,\"ticks\":\"\"}},\"type\":\"scatter\"}],\"scatter3d\":[{\"line\":{\"colorbar\":{\"outlinewidth\":0,\"ticks\":\"\"}},\"marker\":{\"colorbar\":{\"outlinewidth\":0,\"ticks\":\"\"}},\"type\":\"scatter3d\"}],\"scattercarpet\":[{\"marker\":{\"colorbar\":{\"outlinewidth\":0,\"ticks\":\"\"}},\"type\":\"scattercarpet\"}],\"scattergeo\":[{\"marker\":{\"colorbar\":{\"outlinewidth\":0,\"ticks\":\"\"}},\"type\":\"scattergeo\"}],\"scattergl\":[{\"marker\":{\"colorbar\":{\"outlinewidth\":0,\"ticks\":\"\"}},\"type\":\"scattergl\"}],\"scattermapbox\":[{\"marker\":{\"colorbar\":{\"outlinewidth\":0,\"ticks\":\"\"}},\"type\":\"scattermapbox\"}],\"scatterpolar\":[{\"marker\":{\"colorbar\":{\"outlinewidth\":0,\"ticks\":\"\"}},\"type\":\"scatterpolar\"}],\"scatterpolargl\":[{\"marker\":{\"colorbar\":{\"outlinewidth\":0,\"ticks\":\"\"}},\"type\":\"scatterpolargl\"}],\"scatterternary\":[{\"marker\":{\"colorbar\":{\"outlinewidth\":0,\"ticks\":\"\"}},\"type\":\"scatterternary\"}],\"surface\":[{\"colorbar\":{\"outlinewidth\":0,\"ticks\":\"\"},\"colorscale\":[[0.0,\"#0d0887\"],[0.1111111111111111,\"#46039f\"],[0.2222222222222222,\"#7201a8\"],[0.3333333333333333,\"#9c179e\"],[0.4444444444444444,\"#bd3786\"],[0.5555555555555556,\"#d8576b\"],[0.6666666666666666,\"#ed7953\"],[0.7777777777777778,\"#fb9f3a\"],[0.8888888888888888,\"#fdca26\"],[1.0,\"#f0f921\"]],\"type\":\"surface\"}],\"table\":[{\"cells\":{\"fill\":{\"color\":\"#EBF0F8\"},\"line\":{\"color\":\"white\"}},\"header\":{\"fill\":{\"color\":\"#C8D4E3\"},\"line\":{\"color\":\"white\"}},\"type\":\"table\"}]},\"layout\":{\"annotationdefaults\":{\"arrowcolor\":\"#2a3f5f\",\"arrowhead\":0,\"arrowwidth\":1},\"autotypenumbers\":\"strict\",\"coloraxis\":{\"colorbar\":{\"outlinewidth\":0,\"ticks\":\"\"}},\"colorscale\":{\"diverging\":[[0,\"#8e0152\"],[0.1,\"#c51b7d\"],[0.2,\"#de77ae\"],[0.3,\"#f1b6da\"],[0.4,\"#fde0ef\"],[0.5,\"#f7f7f7\"],[0.6,\"#e6f5d0\"],[0.7,\"#b8e186\"],[0.8,\"#7fbc41\"],[0.9,\"#4d9221\"],[1,\"#276419\"]],\"sequential\":[[0.0,\"#0d0887\"],[0.1111111111111111,\"#46039f\"],[0.2222222222222222,\"#7201a8\"],[0.3333333333333333,\"#9c179e\"],[0.4444444444444444,\"#bd3786\"],[0.5555555555555556,\"#d8576b\"],[0.6666666666666666,\"#ed7953\"],[0.7777777777777778,\"#fb9f3a\"],[0.8888888888888888,\"#fdca26\"],[1.0,\"#f0f921\"]],\"sequentialminus\":[[0.0,\"#0d0887\"],[0.1111111111111111,\"#46039f\"],[0.2222222222222222,\"#7201a8\"],[0.3333333333333333,\"#9c179e\"],[0.4444444444444444,\"#bd3786\"],[0.5555555555555556,\"#d8576b\"],[0.6666666666666666,\"#ed7953\"],[0.7777777777777778,\"#fb9f3a\"],[0.8888888888888888,\"#fdca26\"],[1.0,\"#f0f921\"]]},\"colorway\":[\"#636efa\",\"#EF553B\",\"#00cc96\",\"#ab63fa\",\"#FFA15A\",\"#19d3f3\",\"#FF6692\",\"#B6E880\",\"#FF97FF\",\"#FECB52\"],\"font\":{\"color\":\"#2a3f5f\"},\"geo\":{\"bgcolor\":\"white\",\"lakecolor\":\"white\",\"landcolor\":\"#E5ECF6\",\"showlakes\":true,\"showland\":true,\"subunitcolor\":\"white\"},\"hoverlabel\":{\"align\":\"left\"},\"hovermode\":\"closest\",\"mapbox\":{\"style\":\"light\"},\"paper_bgcolor\":\"white\",\"plot_bgcolor\":\"#E5ECF6\",\"polar\":{\"angularaxis\":{\"gridcolor\":\"white\",\"linecolor\":\"white\",\"ticks\":\"\"},\"bgcolor\":\"#E5ECF6\",\"radialaxis\":{\"gridcolor\":\"white\",\"linecolor\":\"white\",\"ticks\":\"\"}},\"scene\":{\"xaxis\":{\"backgroundcolor\":\"#E5ECF6\",\"gridcolor\":\"white\",\"gridwidth\":2,\"linecolor\":\"white\",\"showbackground\":true,\"ticks\":\"\",\"zerolinecolor\":\"white\"},\"yaxis\":{\"backgroundcolor\":\"#E5ECF6\",\"gridcolor\":\"white\",\"gridwidth\":2,\"linecolor\":\"white\",\"showbackground\":true,\"ticks\":\"\",\"zerolinecolor\":\"white\"},\"zaxis\":{\"backgroundcolor\":\"#E5ECF6\",\"gridcolor\":\"white\",\"gridwidth\":2,\"linecolor\":\"white\",\"showbackground\":true,\"ticks\":\"\",\"zerolinecolor\":\"white\"}},\"shapedefaults\":{\"line\":{\"color\":\"#2a3f5f\"}},\"ternary\":{\"aaxis\":{\"gridcolor\":\"white\",\"linecolor\":\"white\",\"ticks\":\"\"},\"baxis\":{\"gridcolor\":\"white\",\"linecolor\":\"white\",\"ticks\":\"\"},\"bgcolor\":\"#E5ECF6\",\"caxis\":{\"gridcolor\":\"white\",\"linecolor\":\"white\",\"ticks\":\"\"}},\"title\":{\"x\":0.05},\"xaxis\":{\"automargin\":true,\"gridcolor\":\"white\",\"linecolor\":\"white\",\"ticks\":\"\",\"title\":{\"standoff\":15},\"zerolinecolor\":\"white\",\"zerolinewidth\":2},\"yaxis\":{\"automargin\":true,\"gridcolor\":\"white\",\"linecolor\":\"white\",\"ticks\":\"\",\"title\":{\"standoff\":15},\"zerolinecolor\":\"white\",\"zerolinewidth\":2}}},\"width\":1100},                        {\"responsive\": true}                    ).then(function(){\n",
       "                            \n",
       "var gd = document.getElementById('6bd1edea-c238-4942-aa9c-b6d5f373670b');\n",
       "var x = new MutationObserver(function (mutations, observer) {{\n",
       "        var display = window.getComputedStyle(gd).display;\n",
       "        if (!display || display === 'none') {{\n",
       "            console.log([gd, 'removed!']);\n",
       "            Plotly.purge(gd);\n",
       "            observer.disconnect();\n",
       "        }}\n",
       "}});\n",
       "\n",
       "// Listen for the removal of the full notebook cells\n",
       "var notebookContainer = gd.closest('#notebook-container');\n",
       "if (notebookContainer) {{\n",
       "    x.observe(notebookContainer, {childList: true});\n",
       "}}\n",
       "\n",
       "// Listen for the clearing of the current output cell\n",
       "var outputEl = gd.closest('.output');\n",
       "if (outputEl) {{\n",
       "    x.observe(outputEl, {childList: true});\n",
       "}}\n",
       "\n",
       "                        })                };                });            </script>        </div>"
      ]
     },
     "metadata": {},
     "output_type": "display_data"
    }
   ],
   "source": [
    "fig = px.treemap(data2betested.loc[\"2009\":\"2021\"].query('Medianqmp > 0').reset_index()\n",
    "                 , path=[px.Constant(\"nix sinnvolles hier\")\n",
    "                         ,'Bauperiode', 'Anzahl_HAE']\n",
    "                 , values='Medianqmp'\n",
    "                 , color='Medianqmp'               \n",
    "                 #, color_discrete_map={'(?)':'lightgrey','EVP':'gold', 'SP':'#FF3030', 'PdA':'#EE3B3B', 'Grüne':'#A2CD5A','GLP':'#CAFF70','Die Mitte':'orange','FDP':'#104E8B','AL':'deeppink','SVP':'forestgreen', 'FL ZÜRI':'#8B864E','Volt':'#lightblue' }                \n",
    "                 ## bei continuous scales (bei Zahlenwerten):\n",
    "                 ,color_continuous_scale='cividis'\n",
    "                 ,height=500 , width=1100                 \n",
    "                )\n",
    "fig.update_traces(root_color=\"grey\")\n",
    "fig.update_layout(margin = dict(t=50, l=25, r=250, b=25))\n",
    "fig.show()"
   ]
  },
  {
   "cell_type": "code",
   "execution_count": 93,
   "metadata": {},
   "outputs": [],
   "source": [
    "#data2betested.dtypes"
   ]
  },
  {
   "cell_type": "markdown",
   "metadata": {},
   "source": [
    "**Sharepoint als gecheckt markieren!**"
   ]
  },
  {
   "cell_type": "markdown",
   "metadata": {},
   "source": [
    "Record auf Sharepoint: **[Link](https://kollaboration.intranet.stzh.ch/orga/ssz-produkte/Lists/SASA_Outputs/DispForm.aspx?ID=508&ContentTypeId=0x0100988EAF029F1EFE4CA675F53C32A5D53D01006DBC563E6FBE9E4EB6FDC780799752E1)**"
   ]
  },
  {
   "cell_type": "markdown",
   "metadata": {},
   "source": [
    "## ---------------------- hier Plausi beendet\n",
    "\n",
    "Liniendiagramm \n",
    "[Link zur Doku](https://altair-viz.github.io/gallery/multiline_highlight.html)"
   ]
  },
  {
   "cell_type": "markdown",
   "metadata": {
    "tags": []
   },
   "source": [
    "### Test: Choroplethenkarte\n",
    "Importiere die Geodaten als GeoJSON"
   ]
  },
  {
   "cell_type": "markdown",
   "metadata": {},
   "source": [
    "#### Stadtkreise"
   ]
  },
  {
   "cell_type": "code",
   "execution_count": 44,
   "metadata": {},
   "outputs": [
    {
     "data": {
      "text/html": [
       "<div>\n",
       "<style scoped>\n",
       "    .dataframe tbody tr th:only-of-type {\n",
       "        vertical-align: middle;\n",
       "    }\n",
       "\n",
       "    .dataframe tbody tr th {\n",
       "        vertical-align: top;\n",
       "    }\n",
       "\n",
       "    .dataframe thead th {\n",
       "        text-align: right;\n",
       "    }\n",
       "</style>\n",
       "<table border=\"1\" class=\"dataframe\">\n",
       "  <thead>\n",
       "    <tr style=\"text-align: right;\">\n",
       "      <th></th>\n",
       "      <th>id</th>\n",
       "      <th>kname</th>\n",
       "      <th>knr</th>\n",
       "      <th>objid</th>\n",
       "      <th>geometry</th>\n",
       "    </tr>\n",
       "  </thead>\n",
       "  <tbody>\n",
       "    <tr>\n",
       "      <th>0</th>\n",
       "      <td>adm_stadtkreise_v.6</td>\n",
       "      <td>Kreis 7</td>\n",
       "      <td>7</td>\n",
       "      <td>6</td>\n",
       "      <td>POLYGON ((8.54885 47.36602, 8.54901 47.36601, ...</td>\n",
       "    </tr>\n",
       "  </tbody>\n",
       "</table>\n",
       "</div>"
      ],
      "text/plain": [
       "                    id    kname  knr objid                                           geometry\n",
       "0  adm_stadtkreise_v.6  Kreis 7    7     6  POLYGON ((8.54885 47.36602, 8.54901 47.36601, ..."
      ]
     },
     "execution_count": 44,
     "metadata": {},
     "output_type": "execute_result"
    }
   ],
   "source": [
    "# Read abt. Geopandas https://geopandas.org/docs/user_guide/io.html\n",
    "geojson_url_kreise = \"https://www.ogd.stadt-zuerich.ch/wfs/geoportal/Stadtkreise?service=WFS&version=1.1.0&request=GetFeature&outputFormat=GeoJSON&typename=adm_stadtkreise_v\"\n",
    "adm_stadtkreise_v = gpd.read_file(geojson_url_kreise)\n",
    "\n",
    "adm_stadtkreise_v.head(1)\n"
   ]
  },
  {
   "cell_type": "markdown",
   "metadata": {},
   "source": [
    "#### Statistische Zonen"
   ]
  },
  {
   "cell_type": "code",
   "execution_count": 45,
   "metadata": {},
   "outputs": [
    {
     "data": {
      "text/html": [
       "<div>\n",
       "<style scoped>\n",
       "    .dataframe tbody tr th:only-of-type {\n",
       "        vertical-align: middle;\n",
       "    }\n",
       "\n",
       "    .dataframe tbody tr th {\n",
       "        vertical-align: top;\n",
       "    }\n",
       "\n",
       "    .dataframe thead th {\n",
       "        text-align: right;\n",
       "    }\n",
       "</style>\n",
       "<table border=\"1\" class=\"dataframe\">\n",
       "  <thead>\n",
       "    <tr style=\"text-align: right;\">\n",
       "      <th></th>\n",
       "      <th>id</th>\n",
       "      <th>kname</th>\n",
       "      <th>knr</th>\n",
       "      <th>objectid</th>\n",
       "      <th>objid</th>\n",
       "      <th>qname</th>\n",
       "      <th>qnr</th>\n",
       "      <th>stzname</th>\n",
       "      <th>stznr</th>\n",
       "      <th>geometry</th>\n",
       "    </tr>\n",
       "  </thead>\n",
       "  <tbody>\n",
       "    <tr>\n",
       "      <th>0</th>\n",
       "      <td>adm_statzonen_map.1</td>\n",
       "      <td>Kreis 7</td>\n",
       "      <td>7</td>\n",
       "      <td>1</td>\n",
       "      <td>154</td>\n",
       "      <td>Hirslanden</td>\n",
       "      <td>73</td>\n",
       "      <td>Hegibach</td>\n",
       "      <td>7303</td>\n",
       "      <td>POLYGON ((8.55670 47.36406, 8.55682 47.36410, ...</td>\n",
       "    </tr>\n",
       "    <tr>\n",
       "      <th>1</th>\n",
       "      <td>adm_statzonen_map.2</td>\n",
       "      <td>Kreis 7</td>\n",
       "      <td>7</td>\n",
       "      <td>2</td>\n",
       "      <td>89</td>\n",
       "      <td>Hirslanden</td>\n",
       "      <td>73</td>\n",
       "      <td>Klus</td>\n",
       "      <td>7302</td>\n",
       "      <td>POLYGON ((8.57281 47.35806, 8.57278 47.35807, ...</td>\n",
       "    </tr>\n",
       "  </tbody>\n",
       "</table>\n",
       "</div>"
      ],
      "text/plain": [
       "                    id    kname  knr  objectid objid       qname  qnr   stzname  stznr  \\\n",
       "0  adm_statzonen_map.1  Kreis 7    7         1   154  Hirslanden   73  Hegibach   7303   \n",
       "1  adm_statzonen_map.2  Kreis 7    7         2    89  Hirslanden   73      Klus   7302   \n",
       "\n",
       "                                            geometry  \n",
       "0  POLYGON ((8.55670 47.36406, 8.55682 47.36410, ...  \n",
       "1  POLYGON ((8.57281 47.35806, 8.57278 47.35807, ...  "
      ]
     },
     "execution_count": 45,
     "metadata": {},
     "output_type": "execute_result"
    }
   ],
   "source": [
    "# Read abt. Geopandas https://geopandas.org/docs/user_guide/io.html\n",
    "geojson_url_statzonen = \"https://www.ogd.stadt-zuerich.ch/wfs/geoportal/Statistische_Zonen?service=WFS&version=1.1.0&request=GetFeature&outputFormat=GeoJSON&typename=adm_statzonen_map\"\n",
    "adm_statzonen_map = gpd.read_file(geojson_url_statzonen)\n",
    "\n",
    "adm_statzonen_map.head(2)\n"
   ]
  },
  {
   "cell_type": "markdown",
   "metadata": {},
   "source": [
    "#### Statistische Quartiere"
   ]
  },
  {
   "cell_type": "code",
   "execution_count": 46,
   "metadata": {},
   "outputs": [
    {
     "data": {
      "text/html": [
       "<div>\n",
       "<style scoped>\n",
       "    .dataframe tbody tr th:only-of-type {\n",
       "        vertical-align: middle;\n",
       "    }\n",
       "\n",
       "    .dataframe tbody tr th {\n",
       "        vertical-align: top;\n",
       "    }\n",
       "\n",
       "    .dataframe thead th {\n",
       "        text-align: right;\n",
       "    }\n",
       "</style>\n",
       "<table border=\"1\" class=\"dataframe\">\n",
       "  <thead>\n",
       "    <tr style=\"text-align: right;\">\n",
       "      <th></th>\n",
       "      <th>id</th>\n",
       "      <th>kname</th>\n",
       "      <th>knr</th>\n",
       "      <th>objectid</th>\n",
       "      <th>objid</th>\n",
       "      <th>qname</th>\n",
       "      <th>qnr</th>\n",
       "      <th>geometry</th>\n",
       "    </tr>\n",
       "  </thead>\n",
       "  <tbody>\n",
       "    <tr>\n",
       "      <th>0</th>\n",
       "      <td>adm_statistische_quartiere_map.1</td>\n",
       "      <td>Kreis 7</td>\n",
       "      <td>7</td>\n",
       "      <td>1</td>\n",
       "      <td>34</td>\n",
       "      <td>Hirslanden</td>\n",
       "      <td>73</td>\n",
       "      <td>POLYGON ((8.55670 47.36406, 8.55682 47.36410, ...</td>\n",
       "    </tr>\n",
       "    <tr>\n",
       "      <th>1</th>\n",
       "      <td>adm_statistische_quartiere_map.2</td>\n",
       "      <td>Kreis 8</td>\n",
       "      <td>8</td>\n",
       "      <td>2</td>\n",
       "      <td>33</td>\n",
       "      <td>Weinegg</td>\n",
       "      <td>83</td>\n",
       "      <td>POLYGON ((8.55670 47.36405, 8.55672 47.36403, ...</td>\n",
       "    </tr>\n",
       "  </tbody>\n",
       "</table>\n",
       "</div>"
      ],
      "text/plain": [
       "                                 id    kname  knr  objectid objid       qname  qnr  \\\n",
       "0  adm_statistische_quartiere_map.1  Kreis 7    7         1    34  Hirslanden   73   \n",
       "1  adm_statistische_quartiere_map.2  Kreis 8    8         2    33     Weinegg   83   \n",
       "\n",
       "                                            geometry  \n",
       "0  POLYGON ((8.55670 47.36406, 8.55682 47.36410, ...  \n",
       "1  POLYGON ((8.55670 47.36405, 8.55672 47.36403, ...  "
      ]
     },
     "execution_count": 46,
     "metadata": {},
     "output_type": "execute_result"
    }
   ],
   "source": [
    "geojson_url_quartiere = \"https://www.ogd.stadt-zuerich.ch/wfs/geoportal/Statistische_Quartiere?service=WFS&version=1.1.0&request=GetFeature&outputFormat=GeoJSON&typename=adm_statistische_quartiere_map\"\n",
    "df_adm_statistische_quartiere_map = gpd.read_file(geojson_url_quartiere)\n",
    "\n",
    "df_adm_statistische_quartiere_map.head(2)\n"
   ]
  },
  {
   "cell_type": "markdown",
   "metadata": {},
   "source": [
    "### Teste LeafMap\n",
    "\n",
    "Mehr Infos: https://leafmap.org/leafmap/"
   ]
  },
  {
   "cell_type": "code",
   "execution_count": 47,
   "metadata": {},
   "outputs": [
    {
     "data": {
      "application/vnd.jupyter.widget-view+json": {
       "model_id": "f938c7f52f8449db8cdedb6d94263d72",
       "version_major": 2,
       "version_minor": 0
      },
      "text/plain": [
       "Map(center=[20, 0], controls=(ZoomControl(options=['position', 'zoom_in_text', 'zoom_in_title', 'zoom_out_text…"
      ]
     },
     "metadata": {},
     "output_type": "display_data"
    }
   ],
   "source": [
    "m = leafmap.Map()\n",
    "\n",
    "\n",
    "#m.add_geojson(geojson_url_kreise, layer_name=\"adm_stadtkreise_v\", fill_colors=['red', 'yellow', 'green', 'orange'], info_mode=True)\n",
    "m.add_gdf(df_adm_statistische_quartiere_map, layer_name='adm_statistische_quartiere_map', style={}, hover_style={}, style_callback=None, fill_colors=['black'], info_mode='on_hover', zoom_to_layer=True)\n",
    "m.add_gdf(adm_stadtkreise_v, layer_name='adm_stadtkreise_v', style={}, hover_style={}, style_callback=None, fill_colors=['none'], info_mode='on_hover', zoom_to_layer=False)\n",
    "\n",
    "m.add_legend(title='Legende', legend_dict=None, labels=None, colors=None, position='bottomright', builtin_legend=None, layer_name='adm_statistische_quartiere_map')\n",
    "m"
   ]
  },
  {
   "cell_type": "markdown",
   "metadata": {},
   "source": [
    "### Joins\n",
    "Joine die importierten statistischen Daten des aktuellen Jahres zum Geodatensatz:\n",
    "\n",
    "*Siehe dazu Doku zu [Geopandas](https://geopandas.org/docs/user_guide/mergingdata.html)*"
   ]
  },
  {
   "cell_type": "code",
   "execution_count": 38,
   "metadata": {},
   "outputs": [
    {
     "data": {
      "text/plain": [
       "Quartier_Name      object\n",
       "Quartier_Nummer     int64\n",
       "Medianqmp           int64\n",
       "Zonenart           object\n",
       "Anzahl_HAE         object\n",
       "dtype: object"
      ]
     },
     "execution_count": 38,
     "metadata": {},
     "output_type": "execute_result"
    }
   ],
   "source": [
    "data2betested.dtypes"
   ]
  },
  {
   "cell_type": "code",
   "execution_count": null,
   "metadata": {},
   "outputs": [],
   "source": [
    "myAgg = data2betested.loc[\"2021\"]  \\\n",
    "    .groupby(['QuarLang', 'QuarCd']) \\\n",
    "    .agg(sum_Whg_abgebrochen=('Whg_abgebrochen', 'sum'),sum_Whg_fertigerstellt=('Whg_fertigerstellt', 'sum')) \\\n",
    "    .sort_values('sum_Whg_abgebrochen', ascending=False) \n",
    "\n",
    "myAgg.reset_index().head(1)\n"
   ]
  },
  {
   "cell_type": "code",
   "execution_count": 40,
   "metadata": {},
   "outputs": [
    {
     "data": {
      "text/html": [
       "<div>\n",
       "<style scoped>\n",
       "    .dataframe tbody tr th:only-of-type {\n",
       "        vertical-align: middle;\n",
       "    }\n",
       "\n",
       "    .dataframe tbody tr th {\n",
       "        vertical-align: top;\n",
       "    }\n",
       "\n",
       "    .dataframe thead th {\n",
       "        text-align: right;\n",
       "    }\n",
       "</style>\n",
       "<table border=\"1\" class=\"dataframe\">\n",
       "  <thead>\n",
       "    <tr style=\"text-align: right;\">\n",
       "      <th></th>\n",
       "      <th>geometry</th>\n",
       "      <th>QuarCd</th>\n",
       "      <th>qname</th>\n",
       "      <th>knr</th>\n",
       "    </tr>\n",
       "  </thead>\n",
       "  <tbody>\n",
       "    <tr>\n",
       "      <th>0</th>\n",
       "      <td>POLYGON ((8.55670 47.36406, 8.55682 47.36410, ...</td>\n",
       "      <td>73</td>\n",
       "      <td>Hirslanden</td>\n",
       "      <td>7</td>\n",
       "    </tr>\n",
       "  </tbody>\n",
       "</table>\n",
       "</div>"
      ],
      "text/plain": [
       "                                            geometry  QuarCd       qname  knr\n",
       "0  POLYGON ((8.55670 47.36406, 8.55682 47.36410, ...      73  Hirslanden    7"
      ]
     },
     "execution_count": 40,
     "metadata": {},
     "output_type": "execute_result"
    }
   ],
   "source": [
    "# Rename attribute stznr to StatZoneSort, so the IDs have the same name\n",
    "gdf_adm_statistische_quartiere_map = df_adm_statistische_quartiere_map[['geometry', 'qnr', 'qname', 'knr']].rename(columns={'qnr': 'QuarCd'})\n",
    "gdf_adm_statistische_quartiere_map.head(1)"
   ]
  },
  {
   "cell_type": "code",
   "execution_count": null,
   "metadata": {},
   "outputs": [],
   "source": [
    "# Merge with `merge` method on shared variable (stznr und StatZoneSort):\n",
    "gdf_adm_statistische_quartiere_map_joined = gdf_adm_statistische_quartiere_map.merge(myAgg, on='QuarCd')\n",
    "gdf_adm_statistische_quartiere_map_joined.head(2)"
   ]
  },
  {
   "cell_type": "code",
   "execution_count": null,
   "metadata": {},
   "outputs": [],
   "source": [
    "# Plot by StatQuartiere\n",
    "# Weitere Schemes: scheme='quantiles', scheme='fisherjenks', scheme='natural_breaks',\n",
    "\n",
    "gdf_adm_statistische_quartiere_map_joined.plot(column='sum_Whg_fertigerstellt', cmap='viridis', scheme='natural_breaks', legend=True )\n",
    "gdf_adm_statistische_quartiere_map_joined.plot(column='sum_Whg_abgebrochen', cmap='viridis', scheme='natural_breaks', legend=True )\n",
    "\n",
    "#gdf_adm_statistische_quartiere_map_joined.plot(column='sum_Whg_abgebrochen', cmap='plasma', scheme='fisherjenks', legend=True )\n",
    "#gdf_adm_statistische_quartiere_map_joined.plot(column='sum_Whg_fertigerstellt', cmap='cool', scheme='quantiles', legend=True )\n",
    "#scheme werte: https://matplotlib.org/2.0.2/users/colormaps.html\n",
    "\n",
    "#\n",
    "#Neuere Gallerie: https://matplotlib.org/stable/gallery/index.html"
   ]
  },
  {
   "cell_type": "code",
   "execution_count": null,
   "metadata": {},
   "outputs": [],
   "source": [
    "fig, ax = plt.subplots(1, 1)\n",
    "\n",
    "gdf_adm_statistische_quartiere_map_joined.plot(column='sum_Whg_abgebrochen', ax=ax, legend=True, legend_kwds={'label': \"Anzahl abgebrochene Wohnungen 2021\",'orientation': \"horizontal\"})\n",
    "gdf_adm_statistische_quartiere_map_joined.plot(column='sum_Whg_fertigerstellt', ax=ax, legend=False, legend_kwds={'label': \"Anzahl fertigerstellte Wohnungen 2021\",'orientation': \"horizontal\"})\n",
    "\n",
    "#gdf_adm_statistische_quartiere_map_joined.plot(column='sum_Whg_abgebrochen', cmap='viridis', scheme='natural_breaks', legend=True , ax=ax, legend_kwds={'label': \"Anzahl Personen\",'orientation': \"horizontal\"})"
   ]
  },
  {
   "cell_type": "markdown",
   "metadata": {},
   "source": [
    "Noch zu prüfen, folgendes schöne Beispiel: https://docs.bokeh.org/en/latest/docs/user_guide/interaction/legends.html\n",
    "\n",
    "Konkrete Beispiele von Bookeh in Jupyter NB: https://docs.bokeh.org/en/latest/docs/user_guide/jupyter.html"
   ]
  },
  {
   "cell_type": "markdown",
   "metadata": {},
   "source": [
    "**Sharepoint als gecheckt markieren!**"
   ]
  },
  {
   "cell_type": "markdown",
   "metadata": {},
   "source": [
    "Record auf Sharepoint: **[Link](https://kollaboration.intranet.stzh.ch/orga/ssz-produkte/Lists/SASA_Outputs/DispForm.aspx?ID=508&ContentTypeId=0x0100988EAF029F1EFE4CA675F53C32A5D53D01006DBC563E6FBE9E4EB6FDC780799752E1)**"
   ]
  },
  {
   "cell_type": "code",
   "execution_count": null,
   "metadata": {},
   "outputs": [],
   "source": []
  },
  {
   "cell_type": "raw",
   "metadata": {},
   "source": []
  },
  {
   "cell_type": "code",
   "execution_count": null,
   "metadata": {},
   "outputs": [],
   "source": []
  }
 ],
 "metadata": {
  "kernelspec": {
   "display_name": "Python 3 (ipykernel)",
   "language": "python",
   "name": "python3"
  },
  "language_info": {
   "codemirror_mode": {
    "name": "ipython",
    "version": 3
   },
   "file_extension": ".py",
   "mimetype": "text/x-python",
   "name": "python",
   "nbconvert_exporter": "python",
   "pygments_lexer": "ipython3",
   "version": "3.9.7"
  }
 },
 "nbformat": 4,
 "nbformat_minor": 4
}
