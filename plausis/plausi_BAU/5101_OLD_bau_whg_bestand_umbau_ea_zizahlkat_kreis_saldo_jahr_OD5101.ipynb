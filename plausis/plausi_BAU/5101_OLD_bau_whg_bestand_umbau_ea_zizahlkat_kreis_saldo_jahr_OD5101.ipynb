{
 "cells": [
  {
   "cell_type": "markdown",
   "metadata": {},
   "source": [
    "**Importiere die notwendigen Packages**"
   ]
  },
  {
   "cell_type": "code",
   "execution_count": 1,
   "metadata": {},
   "outputs": [],
   "source": [
    "# Empfehlung für Colab: Installiere alles was Du brauchst\n",
    "# %pip install pandas pivottablejs numpy altair matplotlib geopandas folium"
   ]
  },
  {
   "cell_type": "code",
   "execution_count": 2,
   "metadata": {},
   "outputs": [],
   "source": [
    "import pandas as pd\n",
    "import pivottablejs\n",
    "from pivottablejs import pivot_ui\n",
    "import numpy as np\n",
    "import altair as alt\n",
    "import matplotlib.pyplot as plt\n",
    "from datetime import datetime\n",
    "import geopandas as gpd\n",
    "import folium \n",
    "\n"
   ]
  },
  {
   "cell_type": "markdown",
   "metadata": {},
   "source": [
    "Definiere Settings. Hier das Zahlenformat von Float-Werten (z.B. *'{:,.2f}'.format* mit Komma als Tausenderzeichen), "
   ]
  },
  {
   "cell_type": "code",
   "execution_count": 3,
   "metadata": {},
   "outputs": [],
   "source": [
    "pd.options.display.float_format = '{:.0f}'.format\n",
    "pd.set_option('display.width', 100)\n",
    "pd.set_option('display.max_columns', 15)"
   ]
  },
  {
   "cell_type": "markdown",
   "metadata": {},
   "source": [
    "Importiere einen Datensatz von der **DWH_INT** Dropzone.\n",
    "\n",
    "- Beachte dabei die Notation des Pfades...\n",
    "- Definiere mal aktuell noch keine weiteren Parameter beim Import"
   ]
  },
  {
   "cell_type": "markdown",
   "metadata": {},
   "source": [
    "**Dataset auf INTEG Datenkatalog**: https://data.integ.stadt-zuerich.ch/dataset/int_dwh_bau_whg_bestand_umbau_ea_zizahlkat_kreis_saldo_jahr_od5101\n",
    "\n",
    "(int_dwh)"
   ]
  },
  {
   "cell_type": "code",
   "execution_count": 4,
   "metadata": {},
   "outputs": [
    {
     "name": "stdout",
     "output_type": "stream",
     "text": [
      "int\n"
     ]
    }
   ],
   "source": [
    "#Die Datasets sind nur zum Testen auf INT-DWH-Dropzone. Wenn der Test vorbei ist, sind sie auf PROD. \n",
    "# Über den Status kann man einfach switchen\n",
    "\n",
    "status = \"int\";\n",
    "print(status)"
   ]
  },
  {
   "cell_type": "code",
   "execution_count": 5,
   "metadata": {},
   "outputs": [
    {
     "name": "stdout",
     "output_type": "stream",
     "text": [
      "\\\\szh\\ssz\\applikationen\\OGD_Dropzone\\INT_DWH\\bau_whg_bestand_umbau_ea_zizahlkat_kreis_saldo_jahr_OD5101\\BAU510OD5101.csv\n"
     ]
    }
   ],
   "source": [
    "# Filepath\n",
    "if status == \"prod\":\n",
    "    fp = r\"\\\\szh\\ssz\\applikationen\\OGD_Dropzone\\DWH\\bau_whg_bestand_umbau_ea_zizahlkat_kreis_saldo_jahr_OD5101\\BAU510OD5101.csv\"\n",
    "else:\n",
    "    fp = r\"\\\\szh\\ssz\\applikationen\\OGD_Dropzone\\INT_DWH\\bau_whg_bestand_umbau_ea_zizahlkat_kreis_saldo_jahr_OD5101\\BAU510OD5101.csv\"\n",
    "print(fp)"
   ]
  },
  {
   "cell_type": "code",
   "execution_count": 6,
   "metadata": {},
   "outputs": [
    {
     "name": "stdout",
     "output_type": "stream",
     "text": [
      "done\n"
     ]
    }
   ],
   "source": [
    "# Read the data\n",
    "data2betested = pd.read_csv(\n",
    "    fp, \n",
    "    sep=',',\n",
    "   #usecols=[0,1,2,3,4,6],\n",
    "   #names=['stationid','year','month','avgtemp','latitude','longitude','elevation','station','countryid','country'],\n",
    "   #skiprows=1,\n",
    "   # parse_dates=[0],\n",
    "    parse_dates=True,\n",
    "    #date_parser=lambda x: pd.to_datetime(x, format=\"%Y\"), \n",
    "    #index_col=\"date_time\",\n",
    "    low_memory=False    \n",
    "    )\n",
    "print('done')"
   ]
  },
  {
   "cell_type": "markdown",
   "metadata": {},
   "source": [
    "In der Folge ein paar erste Tests:"
   ]
  },
  {
   "cell_type": "code",
   "execution_count": 7,
   "metadata": {},
   "outputs": [
    {
     "data": {
      "text/plain": [
       "pandas.core.frame.DataFrame"
      ]
     },
     "execution_count": 7,
     "metadata": {},
     "output_type": "execute_result"
    }
   ],
   "source": [
    "type(data2betested)"
   ]
  },
  {
   "cell_type": "markdown",
   "metadata": {},
   "source": [
    " - 1) Zeige eine kurze Vorschau der importierten Daten\n",
    " - 2) Weise die Datentypen aus\n",
    " - 3) Zeige die Shape (Umfang) des Datensatzes an"
   ]
  },
  {
   "cell_type": "code",
   "execution_count": 10,
   "metadata": {},
   "outputs": [],
   "source": [
    "#data2betested.head(3)"
   ]
  },
  {
   "cell_type": "code",
   "execution_count": 11,
   "metadata": {},
   "outputs": [
    {
     "data": {
      "text/plain": [
       "Jahr                 int64\n",
       "KreisCd              int64\n",
       "KreisLang           object\n",
       "EigentumsartCd       int64\n",
       "EigentumsartLang    object\n",
       "Wohnungsgroesse     object\n",
       "Wohnungssaldo        int64\n",
       "dtype: object"
      ]
     },
     "execution_count": 11,
     "metadata": {},
     "output_type": "execute_result"
    }
   ],
   "source": [
    "data2betested.dtypes"
   ]
  },
  {
   "cell_type": "code",
   "execution_count": 12,
   "metadata": {},
   "outputs": [
    {
     "data": {
      "text/plain": [
       "(486, 7)"
      ]
     },
     "execution_count": 12,
     "metadata": {},
     "output_type": "execute_result"
    }
   ],
   "source": [
    "data2betested.shape"
   ]
  },
  {
   "cell_type": "markdown",
   "metadata": {},
   "source": [
    "Beschreibe einzelne Attribute"
   ]
  },
  {
   "cell_type": "code",
   "execution_count": 13,
   "metadata": {},
   "outputs": [
    {
     "data": {
      "text/html": [
       "<div>\n",
       "<style scoped>\n",
       "    .dataframe tbody tr th:only-of-type {\n",
       "        vertical-align: middle;\n",
       "    }\n",
       "\n",
       "    .dataframe tbody tr th {\n",
       "        vertical-align: top;\n",
       "    }\n",
       "\n",
       "    .dataframe thead th {\n",
       "        text-align: right;\n",
       "    }\n",
       "</style>\n",
       "<table border=\"1\" class=\"dataframe\">\n",
       "  <thead>\n",
       "    <tr style=\"text-align: right;\">\n",
       "      <th></th>\n",
       "      <th>Jahr</th>\n",
       "      <th>KreisCd</th>\n",
       "      <th>EigentumsartCd</th>\n",
       "      <th>Wohnungssaldo</th>\n",
       "    </tr>\n",
       "  </thead>\n",
       "  <tbody>\n",
       "    <tr>\n",
       "      <th>count</th>\n",
       "      <td>486</td>\n",
       "      <td>486</td>\n",
       "      <td>486</td>\n",
       "      <td>486</td>\n",
       "    </tr>\n",
       "    <tr>\n",
       "      <th>mean</th>\n",
       "      <td>2018</td>\n",
       "      <td>7</td>\n",
       "      <td>3</td>\n",
       "      <td>4</td>\n",
       "    </tr>\n",
       "    <tr>\n",
       "      <th>std</th>\n",
       "      <td>2</td>\n",
       "      <td>3</td>\n",
       "      <td>1</td>\n",
       "      <td>14</td>\n",
       "    </tr>\n",
       "    <tr>\n",
       "      <th>min</th>\n",
       "      <td>2015</td>\n",
       "      <td>1</td>\n",
       "      <td>1</td>\n",
       "      <td>-69</td>\n",
       "    </tr>\n",
       "    <tr>\n",
       "      <th>25%</th>\n",
       "      <td>2016</td>\n",
       "      <td>3</td>\n",
       "      <td>3</td>\n",
       "      <td>0</td>\n",
       "    </tr>\n",
       "    <tr>\n",
       "      <th>50%</th>\n",
       "      <td>2018</td>\n",
       "      <td>7</td>\n",
       "      <td>3</td>\n",
       "      <td>1</td>\n",
       "    </tr>\n",
       "    <tr>\n",
       "      <th>75%</th>\n",
       "      <td>2020</td>\n",
       "      <td>10</td>\n",
       "      <td>4</td>\n",
       "      <td>5</td>\n",
       "    </tr>\n",
       "    <tr>\n",
       "      <th>max</th>\n",
       "      <td>2021</td>\n",
       "      <td>12</td>\n",
       "      <td>5</td>\n",
       "      <td>92</td>\n",
       "    </tr>\n",
       "  </tbody>\n",
       "</table>\n",
       "</div>"
      ],
      "text/plain": [
       "       Jahr  KreisCd  EigentumsartCd  Wohnungssaldo\n",
       "count   486      486             486            486\n",
       "mean   2018        7               3              4\n",
       "std       2        3               1             14\n",
       "min    2015        1               1            -69\n",
       "25%    2016        3               3              0\n",
       "50%    2018        7               3              1\n",
       "75%    2020       10               4              5\n",
       "max    2021       12               5             92"
      ]
     },
     "execution_count": 13,
     "metadata": {},
     "output_type": "execute_result"
    }
   ],
   "source": [
    "data2betested.describe()"
   ]
  },
  {
   "cell_type": "markdown",
   "metadata": {},
   "source": [
    "Wie viele Nullwerte gibt es im Datensatz?"
   ]
  },
  {
   "cell_type": "code",
   "execution_count": 14,
   "metadata": {
    "scrolled": true
   },
   "outputs": [
    {
     "data": {
      "text/plain": [
       "Jahr                0\n",
       "KreisCd             0\n",
       "KreisLang           0\n",
       "EigentumsartCd      0\n",
       "EigentumsartLang    0\n",
       "Wohnungsgroesse     0\n",
       "Wohnungssaldo       0\n",
       "dtype: int64"
      ]
     },
     "execution_count": 14,
     "metadata": {},
     "output_type": "execute_result"
    }
   ],
   "source": [
    "data2betested.isnull().sum()"
   ]
  },
  {
   "cell_type": "markdown",
   "metadata": {},
   "source": [
    "Wandle die Spalte Jahr von Int zu **Datetime** um. Dies wird in den meisten Grafiken so benötigt."
   ]
  },
  {
   "cell_type": "code",
   "execution_count": 15,
   "metadata": {
    "scrolled": true
   },
   "outputs": [
    {
     "data": {
      "text/html": [
       "<div>\n",
       "<style scoped>\n",
       "    .dataframe tbody tr th:only-of-type {\n",
       "        vertical-align: middle;\n",
       "    }\n",
       "\n",
       "    .dataframe tbody tr th {\n",
       "        vertical-align: top;\n",
       "    }\n",
       "\n",
       "    .dataframe thead th {\n",
       "        text-align: right;\n",
       "    }\n",
       "</style>\n",
       "<table border=\"1\" class=\"dataframe\">\n",
       "  <thead>\n",
       "    <tr style=\"text-align: right;\">\n",
       "      <th></th>\n",
       "      <th>Jahr</th>\n",
       "      <th>KreisCd</th>\n",
       "      <th>KreisLang</th>\n",
       "      <th>EigentumsartCd</th>\n",
       "      <th>EigentumsartLang</th>\n",
       "      <th>Wohnungsgroesse</th>\n",
       "      <th>Wohnungssaldo</th>\n",
       "    </tr>\n",
       "  </thead>\n",
       "  <tbody>\n",
       "    <tr>\n",
       "      <th>0</th>\n",
       "      <td>2015-01-01</td>\n",
       "      <td>1</td>\n",
       "      <td>Kreis 1</td>\n",
       "      <td>3</td>\n",
       "      <td>Übrige private Gesellschaften</td>\n",
       "      <td>AnzGbdWhgStatZim1_3_saldo</td>\n",
       "      <td>12</td>\n",
       "    </tr>\n",
       "    <tr>\n",
       "      <th>1</th>\n",
       "      <td>2015-01-01</td>\n",
       "      <td>1</td>\n",
       "      <td>Kreis 1</td>\n",
       "      <td>3</td>\n",
       "      <td>Übrige private Gesellschaften</td>\n",
       "      <td>AnzGbdWhgStatZim4plus_saldo</td>\n",
       "      <td>0</td>\n",
       "    </tr>\n",
       "    <tr>\n",
       "      <th>2</th>\n",
       "      <td>2015-01-01</td>\n",
       "      <td>1</td>\n",
       "      <td>Kreis 1</td>\n",
       "      <td>4</td>\n",
       "      <td>Natürliche Personen</td>\n",
       "      <td>AnzGbdWhgStatZim1_3_saldo</td>\n",
       "      <td>3</td>\n",
       "    </tr>\n",
       "    <tr>\n",
       "      <th>3</th>\n",
       "      <td>2015-01-01</td>\n",
       "      <td>1</td>\n",
       "      <td>Kreis 1</td>\n",
       "      <td>4</td>\n",
       "      <td>Natürliche Personen</td>\n",
       "      <td>AnzGbdWhgStatZim4plus_saldo</td>\n",
       "      <td>2</td>\n",
       "    </tr>\n",
       "    <tr>\n",
       "      <th>4</th>\n",
       "      <td>2015-01-01</td>\n",
       "      <td>10</td>\n",
       "      <td>Kreis 10</td>\n",
       "      <td>3</td>\n",
       "      <td>Übrige private Gesellschaften</td>\n",
       "      <td>AnzGbdWhgStatZim1_3_saldo</td>\n",
       "      <td>0</td>\n",
       "    </tr>\n",
       "    <tr>\n",
       "      <th>...</th>\n",
       "      <td>...</td>\n",
       "      <td>...</td>\n",
       "      <td>...</td>\n",
       "      <td>...</td>\n",
       "      <td>...</td>\n",
       "      <td>...</td>\n",
       "      <td>...</td>\n",
       "    </tr>\n",
       "    <tr>\n",
       "      <th>481</th>\n",
       "      <td>2021-01-01</td>\n",
       "      <td>9</td>\n",
       "      <td>Kreis 9</td>\n",
       "      <td>3</td>\n",
       "      <td>Übrige private Gesellschaften</td>\n",
       "      <td>AnzGbdWhgStatZim4plus_saldo</td>\n",
       "      <td>0</td>\n",
       "    </tr>\n",
       "    <tr>\n",
       "      <th>482</th>\n",
       "      <td>2021-01-01</td>\n",
       "      <td>9</td>\n",
       "      <td>Kreis 9</td>\n",
       "      <td>4</td>\n",
       "      <td>Natürliche Personen</td>\n",
       "      <td>AnzGbdWhgStatZim1_3_saldo</td>\n",
       "      <td>-4</td>\n",
       "    </tr>\n",
       "    <tr>\n",
       "      <th>483</th>\n",
       "      <td>2021-01-01</td>\n",
       "      <td>9</td>\n",
       "      <td>Kreis 9</td>\n",
       "      <td>4</td>\n",
       "      <td>Natürliche Personen</td>\n",
       "      <td>AnzGbdWhgStatZim4plus_saldo</td>\n",
       "      <td>13</td>\n",
       "    </tr>\n",
       "    <tr>\n",
       "      <th>484</th>\n",
       "      <td>2021-01-01</td>\n",
       "      <td>9</td>\n",
       "      <td>Kreis 9</td>\n",
       "      <td>5</td>\n",
       "      <td>Im Stockwerkeigentum</td>\n",
       "      <td>AnzGbdWhgStatZim1_3_saldo</td>\n",
       "      <td>3</td>\n",
       "    </tr>\n",
       "    <tr>\n",
       "      <th>485</th>\n",
       "      <td>2021-01-01</td>\n",
       "      <td>9</td>\n",
       "      <td>Kreis 9</td>\n",
       "      <td>5</td>\n",
       "      <td>Im Stockwerkeigentum</td>\n",
       "      <td>AnzGbdWhgStatZim4plus_saldo</td>\n",
       "      <td>0</td>\n",
       "    </tr>\n",
       "  </tbody>\n",
       "</table>\n",
       "<p>486 rows × 7 columns</p>\n",
       "</div>"
      ],
      "text/plain": [
       "          Jahr  KreisCd KreisLang  EigentumsartCd               EigentumsartLang  \\\n",
       "0   2015-01-01        1   Kreis 1               3  Übrige private Gesellschaften   \n",
       "1   2015-01-01        1   Kreis 1               3  Übrige private Gesellschaften   \n",
       "2   2015-01-01        1   Kreis 1               4            Natürliche Personen   \n",
       "3   2015-01-01        1   Kreis 1               4            Natürliche Personen   \n",
       "4   2015-01-01       10  Kreis 10               3  Übrige private Gesellschaften   \n",
       "..         ...      ...       ...             ...                            ...   \n",
       "481 2021-01-01        9   Kreis 9               3  Übrige private Gesellschaften   \n",
       "482 2021-01-01        9   Kreis 9               4            Natürliche Personen   \n",
       "483 2021-01-01        9   Kreis 9               4            Natürliche Personen   \n",
       "484 2021-01-01        9   Kreis 9               5           Im Stockwerkeigentum   \n",
       "485 2021-01-01        9   Kreis 9               5           Im Stockwerkeigentum   \n",
       "\n",
       "                 Wohnungsgroesse  Wohnungssaldo  \n",
       "0      AnzGbdWhgStatZim1_3_saldo             12  \n",
       "1    AnzGbdWhgStatZim4plus_saldo              0  \n",
       "2      AnzGbdWhgStatZim1_3_saldo              3  \n",
       "3    AnzGbdWhgStatZim4plus_saldo              2  \n",
       "4      AnzGbdWhgStatZim1_3_saldo              0  \n",
       "..                           ...            ...  \n",
       "481  AnzGbdWhgStatZim4plus_saldo              0  \n",
       "482    AnzGbdWhgStatZim1_3_saldo             -4  \n",
       "483  AnzGbdWhgStatZim4plus_saldo             13  \n",
       "484    AnzGbdWhgStatZim1_3_saldo              3  \n",
       "485  AnzGbdWhgStatZim4plus_saldo              0  \n",
       "\n",
       "[486 rows x 7 columns]"
      ]
     },
     "execution_count": 15,
     "metadata": {},
     "output_type": "execute_result"
    }
   ],
   "source": [
    "data2betested['Jahr']=pd.to_datetime(data2betested['Jahr'], format='%Y')\n",
    "#data2betested['Jahr']=pd.to_datetime(data2betested['Jahr'], format='%Y')\n",
    "#TO DO --> setze das Datum auf den 31.12. der Jahres.\n",
    "#test=data2betested[['StichtagDatJahr']].date().replace(month=12, day=31)\n",
    "\n",
    "data2betested\n"
   ]
  },
  {
   "cell_type": "markdown",
   "metadata": {},
   "source": [
    "Bereite die Daten für die Grafik unten vor"
   ]
  },
  {
   "cell_type": "code",
   "execution_count": 16,
   "metadata": {},
   "outputs": [
    {
     "data": {
      "text/plain": [
       "7"
      ]
     },
     "execution_count": 16,
     "metadata": {},
     "output_type": "execute_result"
    }
   ],
   "source": [
    "Jahre = data2betested.groupby(\"Jahr\")\n",
    "len(Jahre)"
   ]
  },
  {
   "cell_type": "code",
   "execution_count": 17,
   "metadata": {},
   "outputs": [
    {
     "name": "stdout",
     "output_type": "stream",
     "text": [
      "2015-01-01 00:00:00 56\n",
      "2016-01-01 00:00:00 74\n",
      "2017-01-01 00:00:00 70\n",
      "2018-01-01 00:00:00 74\n",
      "2019-01-01 00:00:00 68\n",
      "2020-01-01 00:00:00 72\n",
      "2021-01-01 00:00:00 72\n"
     ]
    }
   ],
   "source": [
    "for key, group in Jahre:\n",
    "    print(key, len(group))"
   ]
  },
  {
   "cell_type": "code",
   "execution_count": 20,
   "metadata": {},
   "outputs": [
    {
     "data": {
      "text/html": [
       "<div>\n",
       "<style scoped>\n",
       "    .dataframe tbody tr th:only-of-type {\n",
       "        vertical-align: middle;\n",
       "    }\n",
       "\n",
       "    .dataframe tbody tr th {\n",
       "        vertical-align: top;\n",
       "    }\n",
       "\n",
       "    .dataframe thead th {\n",
       "        text-align: right;\n",
       "    }\n",
       "</style>\n",
       "<table border=\"1\" class=\"dataframe\">\n",
       "  <thead>\n",
       "    <tr style=\"text-align: right;\">\n",
       "      <th></th>\n",
       "      <th>Jahr</th>\n",
       "      <th>KreisCd</th>\n",
       "      <th>KreisLang</th>\n",
       "      <th>EigentumsartCd</th>\n",
       "      <th>EigentumsartLang</th>\n",
       "      <th>Wohnungsgroesse</th>\n",
       "      <th>Wohnungssaldo</th>\n",
       "    </tr>\n",
       "  </thead>\n",
       "  <tbody>\n",
       "    <tr>\n",
       "      <th>414</th>\n",
       "      <td>2021-01-01</td>\n",
       "      <td>1</td>\n",
       "      <td>Kreis 1</td>\n",
       "      <td>3</td>\n",
       "      <td>Übrige private Gesellschaften</td>\n",
       "      <td>AnzGbdWhgStatZim1_3_saldo</td>\n",
       "      <td>8</td>\n",
       "    </tr>\n",
       "    <tr>\n",
       "      <th>415</th>\n",
       "      <td>2021-01-01</td>\n",
       "      <td>1</td>\n",
       "      <td>Kreis 1</td>\n",
       "      <td>3</td>\n",
       "      <td>Übrige private Gesellschaften</td>\n",
       "      <td>AnzGbdWhgStatZim4plus_saldo</td>\n",
       "      <td>1</td>\n",
       "    </tr>\n",
       "    <tr>\n",
       "      <th>416</th>\n",
       "      <td>2021-01-01</td>\n",
       "      <td>1</td>\n",
       "      <td>Kreis 1</td>\n",
       "      <td>4</td>\n",
       "      <td>Natürliche Personen</td>\n",
       "      <td>AnzGbdWhgStatZim1_3_saldo</td>\n",
       "      <td>0</td>\n",
       "    </tr>\n",
       "  </tbody>\n",
       "</table>\n",
       "</div>"
      ],
      "text/plain": [
       "          Jahr  KreisCd KreisLang  EigentumsartCd               EigentumsartLang  \\\n",
       "414 2021-01-01        1   Kreis 1               3  Übrige private Gesellschaften   \n",
       "415 2021-01-01        1   Kreis 1               3  Übrige private Gesellschaften   \n",
       "416 2021-01-01        1   Kreis 1               4            Natürliche Personen   \n",
       "\n",
       "                 Wohnungsgroesse  Wohnungssaldo  \n",
       "414    AnzGbdWhgStatZim1_3_saldo              8  \n",
       "415  AnzGbdWhgStatZim4plus_saldo              1  \n",
       "416    AnzGbdWhgStatZim1_3_saldo              0  "
      ]
     },
     "execution_count": 20,
     "metadata": {},
     "output_type": "execute_result"
    }
   ],
   "source": [
    "myJahr = \"2021-01-01\"\n",
    "aktuellesJahr=Jahre.get_group(myJahr)   \n",
    "aktuellesJahr.head(3)\n"
   ]
  },
  {
   "cell_type": "markdown",
   "metadata": {},
   "source": [
    "**Selektionen und Aggregationen**\n",
    "\n",
    "Check this [Doku](https://www.shanelynn.ie/summarising-aggregation-and-grouping-data-in-python-pandas/)"
   ]
  },
  {
   "cell_type": "code",
   "execution_count": 21,
   "metadata": {},
   "outputs": [
    {
     "data": {
      "text/html": [
       "<div>\n",
       "<style scoped>\n",
       "    .dataframe tbody tr th:only-of-type {\n",
       "        vertical-align: middle;\n",
       "    }\n",
       "\n",
       "    .dataframe tbody tr th {\n",
       "        vertical-align: top;\n",
       "    }\n",
       "\n",
       "    .dataframe thead th {\n",
       "        text-align: right;\n",
       "    }\n",
       "</style>\n",
       "<table border=\"1\" class=\"dataframe\">\n",
       "  <thead>\n",
       "    <tr style=\"text-align: right;\">\n",
       "      <th></th>\n",
       "      <th></th>\n",
       "      <th>Wohnungssaldo</th>\n",
       "    </tr>\n",
       "    <tr>\n",
       "      <th>Jahr</th>\n",
       "      <th>Wohnungsgroesse</th>\n",
       "      <th></th>\n",
       "    </tr>\n",
       "  </thead>\n",
       "  <tbody>\n",
       "    <tr>\n",
       "      <th rowspan=\"2\" valign=\"top\">2015-01-01</th>\n",
       "      <th>AnzGbdWhgStatZim1_3_saldo</th>\n",
       "      <td>202</td>\n",
       "    </tr>\n",
       "    <tr>\n",
       "      <th>AnzGbdWhgStatZim4plus_saldo</th>\n",
       "      <td>28</td>\n",
       "    </tr>\n",
       "    <tr>\n",
       "      <th rowspan=\"2\" valign=\"top\">2016-01-01</th>\n",
       "      <th>AnzGbdWhgStatZim1_3_saldo</th>\n",
       "      <td>253</td>\n",
       "    </tr>\n",
       "    <tr>\n",
       "      <th>AnzGbdWhgStatZim4plus_saldo</th>\n",
       "      <td>57</td>\n",
       "    </tr>\n",
       "    <tr>\n",
       "      <th rowspan=\"2\" valign=\"top\">2017-01-01</th>\n",
       "      <th>AnzGbdWhgStatZim1_3_saldo</th>\n",
       "      <td>303</td>\n",
       "    </tr>\n",
       "    <tr>\n",
       "      <th>AnzGbdWhgStatZim4plus_saldo</th>\n",
       "      <td>46</td>\n",
       "    </tr>\n",
       "    <tr>\n",
       "      <th rowspan=\"2\" valign=\"top\">2018-01-01</th>\n",
       "      <th>AnzGbdWhgStatZim1_3_saldo</th>\n",
       "      <td>269</td>\n",
       "    </tr>\n",
       "    <tr>\n",
       "      <th>AnzGbdWhgStatZim4plus_saldo</th>\n",
       "      <td>-5</td>\n",
       "    </tr>\n",
       "    <tr>\n",
       "      <th rowspan=\"2\" valign=\"top\">2019-01-01</th>\n",
       "      <th>AnzGbdWhgStatZim1_3_saldo</th>\n",
       "      <td>155</td>\n",
       "    </tr>\n",
       "    <tr>\n",
       "      <th>AnzGbdWhgStatZim4plus_saldo</th>\n",
       "      <td>15</td>\n",
       "    </tr>\n",
       "  </tbody>\n",
       "</table>\n",
       "</div>"
      ],
      "text/plain": [
       "                                        Wohnungssaldo\n",
       "Jahr       Wohnungsgroesse                           \n",
       "2015-01-01 AnzGbdWhgStatZim1_3_saldo              202\n",
       "           AnzGbdWhgStatZim4plus_saldo             28\n",
       "2016-01-01 AnzGbdWhgStatZim1_3_saldo              253\n",
       "           AnzGbdWhgStatZim4plus_saldo             57\n",
       "2017-01-01 AnzGbdWhgStatZim1_3_saldo              303\n",
       "           AnzGbdWhgStatZim4plus_saldo             46\n",
       "2018-01-01 AnzGbdWhgStatZim1_3_saldo              269\n",
       "           AnzGbdWhgStatZim4plus_saldo             -5\n",
       "2019-01-01 AnzGbdWhgStatZim1_3_saldo              155\n",
       "           AnzGbdWhgStatZim4plus_saldo             15"
      ]
     },
     "execution_count": 21,
     "metadata": {},
     "output_type": "execute_result"
    }
   ],
   "source": [
    "   \n",
    "test = data2betested.groupby(\n",
    "   ['Jahr', 'Wohnungsgroesse']\n",
    ").agg(\n",
    "    {\n",
    "         'Wohnungssaldo':(sum),     # Sum --> (sum)\n",
    "         #'AnzPers': (sum),   \n",
    "         #'Wohnungsfl': 'max'  \n",
    "    }\n",
    ")\n",
    "test.head(10)\n"
   ]
  },
  {
   "cell_type": "markdown",
   "metadata": {},
   "source": [
    "**Einfache Visualisierungen zur Plausi**"
   ]
  },
  {
   "cell_type": "markdown",
   "metadata": {},
   "source": [
    "Exploriere die Daten mit Pivottable.JS"
   ]
  },
  {
   "cell_type": "code",
   "execution_count": 22,
   "metadata": {},
   "outputs": [
    {
     "data": {
      "text/html": [
       "\n",
       "        <iframe\n",
       "            width=\"100%\"\n",
       "            height=\"500\"\n",
       "            src=\"pivottablejs.html\"\n",
       "            frameborder=\"0\"\n",
       "            allowfullscreen\n",
       "        ></iframe>\n",
       "        "
      ],
      "text/plain": [
       "<IPython.lib.display.IFrame at 0x1be574588e0>"
      ]
     },
     "execution_count": 22,
     "metadata": {},
     "output_type": "execute_result"
    }
   ],
   "source": [
    "from pivottablejs import pivot_ui\n",
    "\n",
    "pivot_ui(data2betested)"
   ]
  },
  {
   "cell_type": "markdown",
   "metadata": {},
   "source": [
    "Liniendiagramm \n",
    "[Link zur Doku](https://altair-viz.github.io/gallery/multiline_highlight.html)"
   ]
  },
  {
   "cell_type": "code",
   "execution_count": 23,
   "metadata": {},
   "outputs": [
    {
     "data": {
      "text/html": [
       "<div>\n",
       "<style scoped>\n",
       "    .dataframe tbody tr th:only-of-type {\n",
       "        vertical-align: middle;\n",
       "    }\n",
       "\n",
       "    .dataframe tbody tr th {\n",
       "        vertical-align: top;\n",
       "    }\n",
       "\n",
       "    .dataframe thead th {\n",
       "        text-align: right;\n",
       "    }\n",
       "</style>\n",
       "<table border=\"1\" class=\"dataframe\">\n",
       "  <thead>\n",
       "    <tr style=\"text-align: right;\">\n",
       "      <th></th>\n",
       "      <th>Jahr</th>\n",
       "      <th>KreisCd</th>\n",
       "      <th>KreisLang</th>\n",
       "      <th>EigentumsartCd</th>\n",
       "      <th>EigentumsartLang</th>\n",
       "      <th>Wohnungssaldo</th>\n",
       "    </tr>\n",
       "  </thead>\n",
       "  <tbody>\n",
       "    <tr>\n",
       "      <th>414</th>\n",
       "      <td>2021-01-01</td>\n",
       "      <td>1</td>\n",
       "      <td>Kreis 1</td>\n",
       "      <td>3</td>\n",
       "      <td>Übrige private Gesellschaften</td>\n",
       "      <td>8</td>\n",
       "    </tr>\n",
       "    <tr>\n",
       "      <th>415</th>\n",
       "      <td>2021-01-01</td>\n",
       "      <td>1</td>\n",
       "      <td>Kreis 1</td>\n",
       "      <td>3</td>\n",
       "      <td>Übrige private Gesellschaften</td>\n",
       "      <td>1</td>\n",
       "    </tr>\n",
       "    <tr>\n",
       "      <th>416</th>\n",
       "      <td>2021-01-01</td>\n",
       "      <td>1</td>\n",
       "      <td>Kreis 1</td>\n",
       "      <td>4</td>\n",
       "      <td>Natürliche Personen</td>\n",
       "      <td>0</td>\n",
       "    </tr>\n",
       "    <tr>\n",
       "      <th>417</th>\n",
       "      <td>2021-01-01</td>\n",
       "      <td>1</td>\n",
       "      <td>Kreis 1</td>\n",
       "      <td>4</td>\n",
       "      <td>Natürliche Personen</td>\n",
       "      <td>0</td>\n",
       "    </tr>\n",
       "    <tr>\n",
       "      <th>418</th>\n",
       "      <td>2021-01-01</td>\n",
       "      <td>10</td>\n",
       "      <td>Kreis 10</td>\n",
       "      <td>1</td>\n",
       "      <td>Öffentliche Hand</td>\n",
       "      <td>0</td>\n",
       "    </tr>\n",
       "    <tr>\n",
       "      <th>...</th>\n",
       "      <td>...</td>\n",
       "      <td>...</td>\n",
       "      <td>...</td>\n",
       "      <td>...</td>\n",
       "      <td>...</td>\n",
       "      <td>...</td>\n",
       "    </tr>\n",
       "    <tr>\n",
       "      <th>481</th>\n",
       "      <td>2021-01-01</td>\n",
       "      <td>9</td>\n",
       "      <td>Kreis 9</td>\n",
       "      <td>3</td>\n",
       "      <td>Übrige private Gesellschaften</td>\n",
       "      <td>0</td>\n",
       "    </tr>\n",
       "    <tr>\n",
       "      <th>482</th>\n",
       "      <td>2021-01-01</td>\n",
       "      <td>9</td>\n",
       "      <td>Kreis 9</td>\n",
       "      <td>4</td>\n",
       "      <td>Natürliche Personen</td>\n",
       "      <td>-4</td>\n",
       "    </tr>\n",
       "    <tr>\n",
       "      <th>483</th>\n",
       "      <td>2021-01-01</td>\n",
       "      <td>9</td>\n",
       "      <td>Kreis 9</td>\n",
       "      <td>4</td>\n",
       "      <td>Natürliche Personen</td>\n",
       "      <td>13</td>\n",
       "    </tr>\n",
       "    <tr>\n",
       "      <th>484</th>\n",
       "      <td>2021-01-01</td>\n",
       "      <td>9</td>\n",
       "      <td>Kreis 9</td>\n",
       "      <td>5</td>\n",
       "      <td>Im Stockwerkeigentum</td>\n",
       "      <td>3</td>\n",
       "    </tr>\n",
       "    <tr>\n",
       "      <th>485</th>\n",
       "      <td>2021-01-01</td>\n",
       "      <td>9</td>\n",
       "      <td>Kreis 9</td>\n",
       "      <td>5</td>\n",
       "      <td>Im Stockwerkeigentum</td>\n",
       "      <td>0</td>\n",
       "    </tr>\n",
       "  </tbody>\n",
       "</table>\n",
       "<p>72 rows × 6 columns</p>\n",
       "</div>"
      ],
      "text/plain": [
       "          Jahr  KreisCd KreisLang  EigentumsartCd               EigentumsartLang  Wohnungssaldo\n",
       "414 2021-01-01        1   Kreis 1               3  Übrige private Gesellschaften              8\n",
       "415 2021-01-01        1   Kreis 1               3  Übrige private Gesellschaften              1\n",
       "416 2021-01-01        1   Kreis 1               4            Natürliche Personen              0\n",
       "417 2021-01-01        1   Kreis 1               4            Natürliche Personen              0\n",
       "418 2021-01-01       10  Kreis 10               1               Öffentliche Hand              0\n",
       "..         ...      ...       ...             ...                            ...            ...\n",
       "481 2021-01-01        9   Kreis 9               3  Übrige private Gesellschaften              0\n",
       "482 2021-01-01        9   Kreis 9               4            Natürliche Personen             -4\n",
       "483 2021-01-01        9   Kreis 9               4            Natürliche Personen             13\n",
       "484 2021-01-01        9   Kreis 9               5           Im Stockwerkeigentum              3\n",
       "485 2021-01-01        9   Kreis 9               5           Im Stockwerkeigentum              0\n",
       "\n",
       "[72 rows x 6 columns]"
      ]
     },
     "execution_count": 23,
     "metadata": {},
     "output_type": "execute_result"
    }
   ],
   "source": [
    "mySelection = aktuellesJahr[['Jahr', 'KreisCd', 'KreisLang', 'EigentumsartCd', 'EigentumsartLang', 'Wohnungssaldo']]\n",
    "mySelection"
   ]
  },
  {
   "cell_type": "code",
   "execution_count": 24,
   "metadata": {},
   "outputs": [
    {
     "data": {
      "text/html": [
       "<div>\n",
       "<style scoped>\n",
       "    .dataframe tbody tr th:only-of-type {\n",
       "        vertical-align: middle;\n",
       "    }\n",
       "\n",
       "    .dataframe tbody tr th {\n",
       "        vertical-align: top;\n",
       "    }\n",
       "\n",
       "    .dataframe thead tr th {\n",
       "        text-align: left;\n",
       "    }\n",
       "\n",
       "    .dataframe thead tr:last-of-type th {\n",
       "        text-align: right;\n",
       "    }\n",
       "</style>\n",
       "<table border=\"1\" class=\"dataframe\">\n",
       "  <thead>\n",
       "    <tr>\n",
       "      <th></th>\n",
       "      <th></th>\n",
       "      <th></th>\n",
       "      <th></th>\n",
       "      <th></th>\n",
       "      <th colspan=\"3\" halign=\"left\">Wohnungssaldo</th>\n",
       "    </tr>\n",
       "    <tr>\n",
       "      <th></th>\n",
       "      <th></th>\n",
       "      <th></th>\n",
       "      <th></th>\n",
       "      <th></th>\n",
       "      <th>sum</th>\n",
       "      <th>min</th>\n",
       "      <th>max</th>\n",
       "    </tr>\n",
       "    <tr>\n",
       "      <th>Jahr</th>\n",
       "      <th>KreisCd</th>\n",
       "      <th>KreisLang</th>\n",
       "      <th>EigentumsartCd</th>\n",
       "      <th>EigentumsartLang</th>\n",
       "      <th></th>\n",
       "      <th></th>\n",
       "      <th></th>\n",
       "    </tr>\n",
       "  </thead>\n",
       "  <tbody>\n",
       "    <tr>\n",
       "      <th rowspan=\"5\" valign=\"top\">2021-01-01</th>\n",
       "      <th rowspan=\"2\" valign=\"top\">1</th>\n",
       "      <th rowspan=\"2\" valign=\"top\">Kreis 1</th>\n",
       "      <th>3</th>\n",
       "      <th>Übrige private Gesellschaften</th>\n",
       "      <td>9</td>\n",
       "      <td>1</td>\n",
       "      <td>8</td>\n",
       "    </tr>\n",
       "    <tr>\n",
       "      <th>4</th>\n",
       "      <th>Natürliche Personen</th>\n",
       "      <td>0</td>\n",
       "      <td>0</td>\n",
       "      <td>0</td>\n",
       "    </tr>\n",
       "    <tr>\n",
       "      <th rowspan=\"2\" valign=\"top\">2</th>\n",
       "      <th rowspan=\"2\" valign=\"top\">Kreis 2</th>\n",
       "      <th>3</th>\n",
       "      <th>Übrige private Gesellschaften</th>\n",
       "      <td>9</td>\n",
       "      <td>3</td>\n",
       "      <td>6</td>\n",
       "    </tr>\n",
       "    <tr>\n",
       "      <th>4</th>\n",
       "      <th>Natürliche Personen</th>\n",
       "      <td>1</td>\n",
       "      <td>0</td>\n",
       "      <td>1</td>\n",
       "    </tr>\n",
       "    <tr>\n",
       "      <th>3</th>\n",
       "      <th>Kreis 3</th>\n",
       "      <th>3</th>\n",
       "      <th>Übrige private Gesellschaften</th>\n",
       "      <td>-1</td>\n",
       "      <td>-4</td>\n",
       "      <td>3</td>\n",
       "    </tr>\n",
       "  </tbody>\n",
       "</table>\n",
       "</div>"
      ],
      "text/plain": [
       "                                                                          Wohnungssaldo        \n",
       "                                                                                    sum min max\n",
       "Jahr       KreisCd KreisLang EigentumsartCd EigentumsartLang                                   \n",
       "2021-01-01 1       Kreis 1   3              Übrige private Gesellschaften             9   1   8\n",
       "                             4              Natürliche Personen                       0   0   0\n",
       "           2       Kreis 2   3              Übrige private Gesellschaften             9   3   6\n",
       "                             4              Natürliche Personen                       1   0   1\n",
       "           3       Kreis 3   3              Übrige private Gesellschaften            -1  -4   3"
      ]
     },
     "execution_count": 24,
     "metadata": {},
     "output_type": "execute_result"
    }
   ],
   "source": [
    "agg_mySelection = mySelection.groupby(\n",
    "   ['Jahr', 'KreisCd', 'KreisLang', 'EigentumsartCd', 'EigentumsartLang']\n",
    ").agg(\n",
    "    {\n",
    "         'Wohnungssaldo':(sum,min, max)     #, 'AnzPers': (sum, min, max)\n",
    "    }\n",
    ")\n",
    "agg_mySelection.head()"
   ]
  },
  {
   "cell_type": "code",
   "execution_count": 25,
   "metadata": {},
   "outputs": [
    {
     "data": {
      "text/html": [
       "<div>\n",
       "<style scoped>\n",
       "    .dataframe tbody tr th:only-of-type {\n",
       "        vertical-align: middle;\n",
       "    }\n",
       "\n",
       "    .dataframe tbody tr th {\n",
       "        vertical-align: top;\n",
       "    }\n",
       "\n",
       "    .dataframe thead th {\n",
       "        text-align: right;\n",
       "    }\n",
       "</style>\n",
       "<table border=\"1\" class=\"dataframe\">\n",
       "  <thead>\n",
       "    <tr style=\"text-align: right;\">\n",
       "      <th></th>\n",
       "      <th>Jahr</th>\n",
       "      <th>KreisCd</th>\n",
       "      <th>KreisLang</th>\n",
       "      <th>EigentumsartCd</th>\n",
       "      <th>EigentumsartLang</th>\n",
       "      <th>Wohnungsgroesse</th>\n",
       "      <th>Wohnungssaldo</th>\n",
       "    </tr>\n",
       "  </thead>\n",
       "  <tbody>\n",
       "    <tr>\n",
       "      <th>416</th>\n",
       "      <td>2021-01-01</td>\n",
       "      <td>1</td>\n",
       "      <td>Kreis 1</td>\n",
       "      <td>4</td>\n",
       "      <td>Natürliche Personen</td>\n",
       "      <td>AnzGbdWhgStatZim1_3_saldo</td>\n",
       "      <td>0</td>\n",
       "    </tr>\n",
       "    <tr>\n",
       "      <th>417</th>\n",
       "      <td>2021-01-01</td>\n",
       "      <td>1</td>\n",
       "      <td>Kreis 1</td>\n",
       "      <td>4</td>\n",
       "      <td>Natürliche Personen</td>\n",
       "      <td>AnzGbdWhgStatZim4plus_saldo</td>\n",
       "      <td>0</td>\n",
       "    </tr>\n",
       "    <tr>\n",
       "      <th>420</th>\n",
       "      <td>2021-01-01</td>\n",
       "      <td>10</td>\n",
       "      <td>Kreis 10</td>\n",
       "      <td>2</td>\n",
       "      <td>Wohnbaugenossenschaften</td>\n",
       "      <td>AnzGbdWhgStatZim1_3_saldo</td>\n",
       "      <td>-5</td>\n",
       "    </tr>\n",
       "    <tr>\n",
       "      <th>421</th>\n",
       "      <td>2021-01-01</td>\n",
       "      <td>10</td>\n",
       "      <td>Kreis 10</td>\n",
       "      <td>2</td>\n",
       "      <td>Wohnbaugenossenschaften</td>\n",
       "      <td>AnzGbdWhgStatZim4plus_saldo</td>\n",
       "      <td>0</td>\n",
       "    </tr>\n",
       "    <tr>\n",
       "      <th>424</th>\n",
       "      <td>2021-01-01</td>\n",
       "      <td>10</td>\n",
       "      <td>Kreis 10</td>\n",
       "      <td>4</td>\n",
       "      <td>Natürliche Personen</td>\n",
       "      <td>AnzGbdWhgStatZim1_3_saldo</td>\n",
       "      <td>-1</td>\n",
       "    </tr>\n",
       "  </tbody>\n",
       "</table>\n",
       "</div>"
      ],
      "text/plain": [
       "          Jahr  KreisCd KreisLang  EigentumsartCd         EigentumsartLang  \\\n",
       "416 2021-01-01        1   Kreis 1               4      Natürliche Personen   \n",
       "417 2021-01-01        1   Kreis 1               4      Natürliche Personen   \n",
       "420 2021-01-01       10  Kreis 10               2  Wohnbaugenossenschaften   \n",
       "421 2021-01-01       10  Kreis 10               2  Wohnbaugenossenschaften   \n",
       "424 2021-01-01       10  Kreis 10               4      Natürliche Personen   \n",
       "\n",
       "                 Wohnungsgroesse  Wohnungssaldo  \n",
       "416    AnzGbdWhgStatZim1_3_saldo              0  \n",
       "417  AnzGbdWhgStatZim4plus_saldo              0  \n",
       "420    AnzGbdWhgStatZim1_3_saldo             -5  \n",
       "421  AnzGbdWhgStatZim4plus_saldo              0  \n",
       "424    AnzGbdWhgStatZim1_3_saldo             -1  "
      ]
     },
     "execution_count": 25,
     "metadata": {},
     "output_type": "execute_result"
    }
   ],
   "source": [
    "mySelection = aktuellesJahr[(aktuellesJahr.EigentumsartCd == 2) | (aktuellesJahr.EigentumsartCd == 4)]\n",
    "\n",
    "mySelection.head()"
   ]
  },
  {
   "cell_type": "code",
   "execution_count": 26,
   "metadata": {},
   "outputs": [
    {
     "data": {
      "text/html": [
       "\n",
       "<div id=\"altair-viz-8499895f2b7d4480894d0bcef6d65550\"></div>\n",
       "<script type=\"text/javascript\">\n",
       "  (function(spec, embedOpt){\n",
       "    let outputDiv = document.currentScript.previousElementSibling;\n",
       "    if (outputDiv.id !== \"altair-viz-8499895f2b7d4480894d0bcef6d65550\") {\n",
       "      outputDiv = document.getElementById(\"altair-viz-8499895f2b7d4480894d0bcef6d65550\");\n",
       "    }\n",
       "    const paths = {\n",
       "      \"vega\": \"https://cdn.jsdelivr.net/npm//vega@5?noext\",\n",
       "      \"vega-lib\": \"https://cdn.jsdelivr.net/npm//vega-lib?noext\",\n",
       "      \"vega-lite\": \"https://cdn.jsdelivr.net/npm//vega-lite@4.8.1?noext\",\n",
       "      \"vega-embed\": \"https://cdn.jsdelivr.net/npm//vega-embed@6?noext\",\n",
       "    };\n",
       "\n",
       "    function loadScript(lib) {\n",
       "      return new Promise(function(resolve, reject) {\n",
       "        var s = document.createElement('script');\n",
       "        s.src = paths[lib];\n",
       "        s.async = true;\n",
       "        s.onload = () => resolve(paths[lib]);\n",
       "        s.onerror = () => reject(`Error loading script: ${paths[lib]}`);\n",
       "        document.getElementsByTagName(\"head\")[0].appendChild(s);\n",
       "      });\n",
       "    }\n",
       "\n",
       "    function showError(err) {\n",
       "      outputDiv.innerHTML = `<div class=\"error\" style=\"color:red;\">${err}</div>`;\n",
       "      throw err;\n",
       "    }\n",
       "\n",
       "    function displayChart(vegaEmbed) {\n",
       "      vegaEmbed(outputDiv, spec, embedOpt)\n",
       "        .catch(err => showError(`Javascript Error: ${err.message}<br>This usually means there's a typo in your chart specification. See the javascript console for the full traceback.`));\n",
       "    }\n",
       "\n",
       "    if(typeof define === \"function\" && define.amd) {\n",
       "      requirejs.config({paths});\n",
       "      require([\"vega-embed\"], displayChart, err => showError(`Error loading script: ${err.message}`));\n",
       "    } else if (typeof vegaEmbed === \"function\") {\n",
       "      displayChart(vegaEmbed);\n",
       "    } else {\n",
       "      loadScript(\"vega\")\n",
       "        .then(() => loadScript(\"vega-lite\"))\n",
       "        .then(() => loadScript(\"vega-embed\"))\n",
       "        .catch(showError)\n",
       "        .then(() => displayChart(vegaEmbed));\n",
       "    }\n",
       "  })({\"config\": {\"view\": {\"continuousWidth\": 400, \"continuousHeight\": 300}}, \"layer\": [{\"mark\": \"circle\", \"encoding\": {\"color\": {\"type\": \"nominal\", \"field\": \"Wohnungsgroesse\"}, \"opacity\": {\"value\": 0}, \"x\": {\"type\": \"nominal\", \"field\": \"KreisLang\"}, \"y\": {\"type\": \"quantitative\", \"field\": \"Wohnungssaldo\"}}, \"height\": 300, \"selection\": {\"selector001\": {\"type\": \"single\", \"on\": \"mouseover\", \"fields\": [\"Wohnungsgroesse\"], \"nearest\": true}}, \"width\": 700}, {\"mark\": \"line\", \"encoding\": {\"color\": {\"type\": \"nominal\", \"field\": \"Wohnungsgroesse\"}, \"size\": {\"condition\": {\"value\": 1.5, \"selection\": {\"not\": \"selector001\"}}, \"value\": 4}, \"x\": {\"type\": \"nominal\", \"field\": \"KreisLang\"}, \"y\": {\"type\": \"quantitative\", \"field\": \"Wohnungssaldo\"}}, \"selection\": {\"selector002\": {\"type\": \"interval\", \"bind\": \"scales\", \"encodings\": [\"x\", \"y\"]}}}], \"data\": {\"name\": \"data-192e9679cf2b1db87169a0cdbdda227a\"}, \"$schema\": \"https://vega.github.io/schema/vega-lite/v4.8.1.json\", \"datasets\": {\"data-192e9679cf2b1db87169a0cdbdda227a\": [{\"Jahr\": \"2021-01-01T00:00:00\", \"KreisCd\": 1, \"KreisLang\": \"Kreis 1\", \"EigentumsartCd\": 4, \"EigentumsartLang\": \"Nat\\u00fcrliche Personen\", \"Wohnungsgroesse\": \"AnzGbdWhgStatZim1_3_saldo\", \"Wohnungssaldo\": 0}, {\"Jahr\": \"2021-01-01T00:00:00\", \"KreisCd\": 1, \"KreisLang\": \"Kreis 1\", \"EigentumsartCd\": 4, \"EigentumsartLang\": \"Nat\\u00fcrliche Personen\", \"Wohnungsgroesse\": \"AnzGbdWhgStatZim4plus_saldo\", \"Wohnungssaldo\": 0}, {\"Jahr\": \"2021-01-01T00:00:00\", \"KreisCd\": 10, \"KreisLang\": \"Kreis 10\", \"EigentumsartCd\": 2, \"EigentumsartLang\": \"Wohnbaugenossenschaften\", \"Wohnungsgroesse\": \"AnzGbdWhgStatZim1_3_saldo\", \"Wohnungssaldo\": -5}, {\"Jahr\": \"2021-01-01T00:00:00\", \"KreisCd\": 10, \"KreisLang\": \"Kreis 10\", \"EigentumsartCd\": 2, \"EigentumsartLang\": \"Wohnbaugenossenschaften\", \"Wohnungsgroesse\": \"AnzGbdWhgStatZim4plus_saldo\", \"Wohnungssaldo\": 0}, {\"Jahr\": \"2021-01-01T00:00:00\", \"KreisCd\": 10, \"KreisLang\": \"Kreis 10\", \"EigentumsartCd\": 4, \"EigentumsartLang\": \"Nat\\u00fcrliche Personen\", \"Wohnungsgroesse\": \"AnzGbdWhgStatZim1_3_saldo\", \"Wohnungssaldo\": -1}, {\"Jahr\": \"2021-01-01T00:00:00\", \"KreisCd\": 10, \"KreisLang\": \"Kreis 10\", \"EigentumsartCd\": 4, \"EigentumsartLang\": \"Nat\\u00fcrliche Personen\", \"Wohnungsgroesse\": \"AnzGbdWhgStatZim4plus_saldo\", \"Wohnungssaldo\": 1}, {\"Jahr\": \"2021-01-01T00:00:00\", \"KreisCd\": 11, \"KreisLang\": \"Kreis 11\", \"EigentumsartCd\": 4, \"EigentumsartLang\": \"Nat\\u00fcrliche Personen\", \"Wohnungsgroesse\": \"AnzGbdWhgStatZim1_3_saldo\", \"Wohnungssaldo\": 15}, {\"Jahr\": \"2021-01-01T00:00:00\", \"KreisCd\": 11, \"KreisLang\": \"Kreis 11\", \"EigentumsartCd\": 4, \"EigentumsartLang\": \"Nat\\u00fcrliche Personen\", \"Wohnungsgroesse\": \"AnzGbdWhgStatZim4plus_saldo\", \"Wohnungssaldo\": 6}, {\"Jahr\": \"2021-01-01T00:00:00\", \"KreisCd\": 12, \"KreisLang\": \"Kreis 12\", \"EigentumsartCd\": 2, \"EigentumsartLang\": \"Wohnbaugenossenschaften\", \"Wohnungsgroesse\": \"AnzGbdWhgStatZim1_3_saldo\", \"Wohnungssaldo\": 4}, {\"Jahr\": \"2021-01-01T00:00:00\", \"KreisCd\": 12, \"KreisLang\": \"Kreis 12\", \"EigentumsartCd\": 2, \"EigentumsartLang\": \"Wohnbaugenossenschaften\", \"Wohnungsgroesse\": \"AnzGbdWhgStatZim4plus_saldo\", \"Wohnungssaldo\": 2}, {\"Jahr\": \"2021-01-01T00:00:00\", \"KreisCd\": 12, \"KreisLang\": \"Kreis 12\", \"EigentumsartCd\": 4, \"EigentumsartLang\": \"Nat\\u00fcrliche Personen\", \"Wohnungsgroesse\": \"AnzGbdWhgStatZim1_3_saldo\", \"Wohnungssaldo\": 4}, {\"Jahr\": \"2021-01-01T00:00:00\", \"KreisCd\": 12, \"KreisLang\": \"Kreis 12\", \"EigentumsartCd\": 4, \"EigentumsartLang\": \"Nat\\u00fcrliche Personen\", \"Wohnungsgroesse\": \"AnzGbdWhgStatZim4plus_saldo\", \"Wohnungssaldo\": 0}, {\"Jahr\": \"2021-01-01T00:00:00\", \"KreisCd\": 2, \"KreisLang\": \"Kreis 2\", \"EigentumsartCd\": 4, \"EigentumsartLang\": \"Nat\\u00fcrliche Personen\", \"Wohnungsgroesse\": \"AnzGbdWhgStatZim1_3_saldo\", \"Wohnungssaldo\": 1}, {\"Jahr\": \"2021-01-01T00:00:00\", \"KreisCd\": 2, \"KreisLang\": \"Kreis 2\", \"EigentumsartCd\": 4, \"EigentumsartLang\": \"Nat\\u00fcrliche Personen\", \"Wohnungsgroesse\": \"AnzGbdWhgStatZim4plus_saldo\", \"Wohnungssaldo\": 0}, {\"Jahr\": \"2021-01-01T00:00:00\", \"KreisCd\": 3, \"KreisLang\": \"Kreis 3\", \"EigentumsartCd\": 4, \"EigentumsartLang\": \"Nat\\u00fcrliche Personen\", \"Wohnungsgroesse\": \"AnzGbdWhgStatZim1_3_saldo\", \"Wohnungssaldo\": 12}, {\"Jahr\": \"2021-01-01T00:00:00\", \"KreisCd\": 3, \"KreisLang\": \"Kreis 3\", \"EigentumsartCd\": 4, \"EigentumsartLang\": \"Nat\\u00fcrliche Personen\", \"Wohnungsgroesse\": \"AnzGbdWhgStatZim4plus_saldo\", \"Wohnungssaldo\": -1}, {\"Jahr\": \"2021-01-01T00:00:00\", \"KreisCd\": 4, \"KreisLang\": \"Kreis 4\", \"EigentumsartCd\": 4, \"EigentumsartLang\": \"Nat\\u00fcrliche Personen\", \"Wohnungsgroesse\": \"AnzGbdWhgStatZim1_3_saldo\", \"Wohnungssaldo\": 12}, {\"Jahr\": \"2021-01-01T00:00:00\", \"KreisCd\": 4, \"KreisLang\": \"Kreis 4\", \"EigentumsartCd\": 4, \"EigentumsartLang\": \"Nat\\u00fcrliche Personen\", \"Wohnungsgroesse\": \"AnzGbdWhgStatZim4plus_saldo\", \"Wohnungssaldo\": -3}, {\"Jahr\": \"2021-01-01T00:00:00\", \"KreisCd\": 5, \"KreisLang\": \"Kreis 5\", \"EigentumsartCd\": 4, \"EigentumsartLang\": \"Nat\\u00fcrliche Personen\", \"Wohnungsgroesse\": \"AnzGbdWhgStatZim1_3_saldo\", \"Wohnungssaldo\": 10}, {\"Jahr\": \"2021-01-01T00:00:00\", \"KreisCd\": 5, \"KreisLang\": \"Kreis 5\", \"EigentumsartCd\": 4, \"EigentumsartLang\": \"Nat\\u00fcrliche Personen\", \"Wohnungsgroesse\": \"AnzGbdWhgStatZim4plus_saldo\", \"Wohnungssaldo\": -4}, {\"Jahr\": \"2021-01-01T00:00:00\", \"KreisCd\": 6, \"KreisLang\": \"Kreis 6\", \"EigentumsartCd\": 4, \"EigentumsartLang\": \"Nat\\u00fcrliche Personen\", \"Wohnungsgroesse\": \"AnzGbdWhgStatZim1_3_saldo\", \"Wohnungssaldo\": 29}, {\"Jahr\": \"2021-01-01T00:00:00\", \"KreisCd\": 6, \"KreisLang\": \"Kreis 6\", \"EigentumsartCd\": 4, \"EigentumsartLang\": \"Nat\\u00fcrliche Personen\", \"Wohnungsgroesse\": \"AnzGbdWhgStatZim4plus_saldo\", \"Wohnungssaldo\": 3}, {\"Jahr\": \"2021-01-01T00:00:00\", \"KreisCd\": 7, \"KreisLang\": \"Kreis 7\", \"EigentumsartCd\": 4, \"EigentumsartLang\": \"Nat\\u00fcrliche Personen\", \"Wohnungsgroesse\": \"AnzGbdWhgStatZim1_3_saldo\", \"Wohnungssaldo\": 11}, {\"Jahr\": \"2021-01-01T00:00:00\", \"KreisCd\": 7, \"KreisLang\": \"Kreis 7\", \"EigentumsartCd\": 4, \"EigentumsartLang\": \"Nat\\u00fcrliche Personen\", \"Wohnungsgroesse\": \"AnzGbdWhgStatZim4plus_saldo\", \"Wohnungssaldo\": -1}, {\"Jahr\": \"2021-01-01T00:00:00\", \"KreisCd\": 8, \"KreisLang\": \"Kreis 8\", \"EigentumsartCd\": 4, \"EigentumsartLang\": \"Nat\\u00fcrliche Personen\", \"Wohnungsgroesse\": \"AnzGbdWhgStatZim1_3_saldo\", \"Wohnungssaldo\": 1}, {\"Jahr\": \"2021-01-01T00:00:00\", \"KreisCd\": 8, \"KreisLang\": \"Kreis 8\", \"EigentumsartCd\": 4, \"EigentumsartLang\": \"Nat\\u00fcrliche Personen\", \"Wohnungsgroesse\": \"AnzGbdWhgStatZim4plus_saldo\", \"Wohnungssaldo\": 0}, {\"Jahr\": \"2021-01-01T00:00:00\", \"KreisCd\": 9, \"KreisLang\": \"Kreis 9\", \"EigentumsartCd\": 4, \"EigentumsartLang\": \"Nat\\u00fcrliche Personen\", \"Wohnungsgroesse\": \"AnzGbdWhgStatZim1_3_saldo\", \"Wohnungssaldo\": -4}, {\"Jahr\": \"2021-01-01T00:00:00\", \"KreisCd\": 9, \"KreisLang\": \"Kreis 9\", \"EigentumsartCd\": 4, \"EigentumsartLang\": \"Nat\\u00fcrliche Personen\", \"Wohnungsgroesse\": \"AnzGbdWhgStatZim4plus_saldo\", \"Wohnungssaldo\": 13}]}}, {\"mode\": \"vega-lite\"});\n",
       "</script>"
      ],
      "text/plain": [
       "alt.LayerChart(...)"
      ]
     },
     "execution_count": 26,
     "metadata": {},
     "output_type": "execute_result"
    }
   ],
   "source": [
    "# df_statzonen = df_statzonen[(df_statzonen.knr>0) & (df_statzonen.qname!=\"Hirslanden\")]\n",
    "\n",
    "highlight = alt.selection(type='single', on='mouseover',\n",
    "                          fields=['Wohnungsgroesse'], nearest=True)\n",
    "#x='date:StichtagDatJahr',\n",
    "base = alt.Chart(mySelection).encode(\n",
    "    x='KreisLang',\n",
    "    y='Wohnungssaldo',\n",
    "    color='Wohnungsgroesse'\n",
    ")\n",
    "\n",
    "points = base.mark_circle().encode(\n",
    "    opacity=alt.value(0)\n",
    ").add_selection(\n",
    "    highlight\n",
    ").properties(\n",
    "    width=700 , height=300\n",
    ")\n",
    "lines = base.mark_line().encode(\n",
    "    size=alt.condition(~highlight, alt.value(1.5), alt.value(4))\n",
    ").interactive()\n",
    "\n",
    "points + lines"
   ]
  },
  {
   "cell_type": "code",
   "execution_count": null,
   "metadata": {},
   "outputs": [],
   "source": []
  },
  {
   "cell_type": "code",
   "execution_count": 27,
   "metadata": {},
   "outputs": [
    {
     "data": {
      "text/html": [
       "\n",
       "<div id=\"altair-viz-425a10511f1344219b02da81b01cb959\"></div>\n",
       "<script type=\"text/javascript\">\n",
       "  (function(spec, embedOpt){\n",
       "    let outputDiv = document.currentScript.previousElementSibling;\n",
       "    if (outputDiv.id !== \"altair-viz-425a10511f1344219b02da81b01cb959\") {\n",
       "      outputDiv = document.getElementById(\"altair-viz-425a10511f1344219b02da81b01cb959\");\n",
       "    }\n",
       "    const paths = {\n",
       "      \"vega\": \"https://cdn.jsdelivr.net/npm//vega@5?noext\",\n",
       "      \"vega-lib\": \"https://cdn.jsdelivr.net/npm//vega-lib?noext\",\n",
       "      \"vega-lite\": \"https://cdn.jsdelivr.net/npm//vega-lite@4.8.1?noext\",\n",
       "      \"vega-embed\": \"https://cdn.jsdelivr.net/npm//vega-embed@6?noext\",\n",
       "    };\n",
       "\n",
       "    function loadScript(lib) {\n",
       "      return new Promise(function(resolve, reject) {\n",
       "        var s = document.createElement('script');\n",
       "        s.src = paths[lib];\n",
       "        s.async = true;\n",
       "        s.onload = () => resolve(paths[lib]);\n",
       "        s.onerror = () => reject(`Error loading script: ${paths[lib]}`);\n",
       "        document.getElementsByTagName(\"head\")[0].appendChild(s);\n",
       "      });\n",
       "    }\n",
       "\n",
       "    function showError(err) {\n",
       "      outputDiv.innerHTML = `<div class=\"error\" style=\"color:red;\">${err}</div>`;\n",
       "      throw err;\n",
       "    }\n",
       "\n",
       "    function displayChart(vegaEmbed) {\n",
       "      vegaEmbed(outputDiv, spec, embedOpt)\n",
       "        .catch(err => showError(`Javascript Error: ${err.message}<br>This usually means there's a typo in your chart specification. See the javascript console for the full traceback.`));\n",
       "    }\n",
       "\n",
       "    if(typeof define === \"function\" && define.amd) {\n",
       "      requirejs.config({paths});\n",
       "      require([\"vega-embed\"], displayChart, err => showError(`Error loading script: ${err.message}`));\n",
       "    } else if (typeof vegaEmbed === \"function\") {\n",
       "      displayChart(vegaEmbed);\n",
       "    } else {\n",
       "      loadScript(\"vega\")\n",
       "        .then(() => loadScript(\"vega-lite\"))\n",
       "        .then(() => loadScript(\"vega-embed\"))\n",
       "        .catch(showError)\n",
       "        .then(() => displayChart(vegaEmbed));\n",
       "    }\n",
       "  })({\"config\": {\"view\": {\"continuousWidth\": 400, \"continuousHeight\": 300}}, \"data\": {\"name\": \"data-192e9679cf2b1db87169a0cdbdda227a\"}, \"mark\": {\"type\": \"circle\", \"size\": 60}, \"encoding\": {\"color\": {\"type\": \"quantitative\", \"field\": \"Wohnungssaldo\", \"scale\": {\"scheme\": \"greens\"}}, \"tooltip\": [{\"type\": \"temporal\", \"field\": \"Jahr\"}, {\"type\": \"quantitative\", \"field\": \"KreisCd\"}, {\"type\": \"nominal\", \"field\": \"KreisLang\"}, {\"type\": \"quantitative\", \"field\": \"EigentumsartCd\"}, {\"type\": \"nominal\", \"field\": \"EigentumsartLang\"}, {\"type\": \"nominal\", \"field\": \"Wohnungsgroesse\"}], \"x\": {\"type\": \"quantitative\", \"field\": \"Wohnungssaldo\"}, \"y\": {\"type\": \"nominal\", \"field\": \"KreisLang\"}}, \"selection\": {\"selector003\": {\"type\": \"interval\", \"bind\": \"scales\", \"encodings\": [\"x\", \"y\"]}}, \"$schema\": \"https://vega.github.io/schema/vega-lite/v4.8.1.json\", \"datasets\": {\"data-192e9679cf2b1db87169a0cdbdda227a\": [{\"Jahr\": \"2021-01-01T00:00:00\", \"KreisCd\": 1, \"KreisLang\": \"Kreis 1\", \"EigentumsartCd\": 4, \"EigentumsartLang\": \"Nat\\u00fcrliche Personen\", \"Wohnungsgroesse\": \"AnzGbdWhgStatZim1_3_saldo\", \"Wohnungssaldo\": 0}, {\"Jahr\": \"2021-01-01T00:00:00\", \"KreisCd\": 1, \"KreisLang\": \"Kreis 1\", \"EigentumsartCd\": 4, \"EigentumsartLang\": \"Nat\\u00fcrliche Personen\", \"Wohnungsgroesse\": \"AnzGbdWhgStatZim4plus_saldo\", \"Wohnungssaldo\": 0}, {\"Jahr\": \"2021-01-01T00:00:00\", \"KreisCd\": 10, \"KreisLang\": \"Kreis 10\", \"EigentumsartCd\": 2, \"EigentumsartLang\": \"Wohnbaugenossenschaften\", \"Wohnungsgroesse\": \"AnzGbdWhgStatZim1_3_saldo\", \"Wohnungssaldo\": -5}, {\"Jahr\": \"2021-01-01T00:00:00\", \"KreisCd\": 10, \"KreisLang\": \"Kreis 10\", \"EigentumsartCd\": 2, \"EigentumsartLang\": \"Wohnbaugenossenschaften\", \"Wohnungsgroesse\": \"AnzGbdWhgStatZim4plus_saldo\", \"Wohnungssaldo\": 0}, {\"Jahr\": \"2021-01-01T00:00:00\", \"KreisCd\": 10, \"KreisLang\": \"Kreis 10\", \"EigentumsartCd\": 4, \"EigentumsartLang\": \"Nat\\u00fcrliche Personen\", \"Wohnungsgroesse\": \"AnzGbdWhgStatZim1_3_saldo\", \"Wohnungssaldo\": -1}, {\"Jahr\": \"2021-01-01T00:00:00\", \"KreisCd\": 10, \"KreisLang\": \"Kreis 10\", \"EigentumsartCd\": 4, \"EigentumsartLang\": \"Nat\\u00fcrliche Personen\", \"Wohnungsgroesse\": \"AnzGbdWhgStatZim4plus_saldo\", \"Wohnungssaldo\": 1}, {\"Jahr\": \"2021-01-01T00:00:00\", \"KreisCd\": 11, \"KreisLang\": \"Kreis 11\", \"EigentumsartCd\": 4, \"EigentumsartLang\": \"Nat\\u00fcrliche Personen\", \"Wohnungsgroesse\": \"AnzGbdWhgStatZim1_3_saldo\", \"Wohnungssaldo\": 15}, {\"Jahr\": \"2021-01-01T00:00:00\", \"KreisCd\": 11, \"KreisLang\": \"Kreis 11\", \"EigentumsartCd\": 4, \"EigentumsartLang\": \"Nat\\u00fcrliche Personen\", \"Wohnungsgroesse\": \"AnzGbdWhgStatZim4plus_saldo\", \"Wohnungssaldo\": 6}, {\"Jahr\": \"2021-01-01T00:00:00\", \"KreisCd\": 12, \"KreisLang\": \"Kreis 12\", \"EigentumsartCd\": 2, \"EigentumsartLang\": \"Wohnbaugenossenschaften\", \"Wohnungsgroesse\": \"AnzGbdWhgStatZim1_3_saldo\", \"Wohnungssaldo\": 4}, {\"Jahr\": \"2021-01-01T00:00:00\", \"KreisCd\": 12, \"KreisLang\": \"Kreis 12\", \"EigentumsartCd\": 2, \"EigentumsartLang\": \"Wohnbaugenossenschaften\", \"Wohnungsgroesse\": \"AnzGbdWhgStatZim4plus_saldo\", \"Wohnungssaldo\": 2}, {\"Jahr\": \"2021-01-01T00:00:00\", \"KreisCd\": 12, \"KreisLang\": \"Kreis 12\", \"EigentumsartCd\": 4, \"EigentumsartLang\": \"Nat\\u00fcrliche Personen\", \"Wohnungsgroesse\": \"AnzGbdWhgStatZim1_3_saldo\", \"Wohnungssaldo\": 4}, {\"Jahr\": \"2021-01-01T00:00:00\", \"KreisCd\": 12, \"KreisLang\": \"Kreis 12\", \"EigentumsartCd\": 4, \"EigentumsartLang\": \"Nat\\u00fcrliche Personen\", \"Wohnungsgroesse\": \"AnzGbdWhgStatZim4plus_saldo\", \"Wohnungssaldo\": 0}, {\"Jahr\": \"2021-01-01T00:00:00\", \"KreisCd\": 2, \"KreisLang\": \"Kreis 2\", \"EigentumsartCd\": 4, \"EigentumsartLang\": \"Nat\\u00fcrliche Personen\", \"Wohnungsgroesse\": \"AnzGbdWhgStatZim1_3_saldo\", \"Wohnungssaldo\": 1}, {\"Jahr\": \"2021-01-01T00:00:00\", \"KreisCd\": 2, \"KreisLang\": \"Kreis 2\", \"EigentumsartCd\": 4, \"EigentumsartLang\": \"Nat\\u00fcrliche Personen\", \"Wohnungsgroesse\": \"AnzGbdWhgStatZim4plus_saldo\", \"Wohnungssaldo\": 0}, {\"Jahr\": \"2021-01-01T00:00:00\", \"KreisCd\": 3, \"KreisLang\": \"Kreis 3\", \"EigentumsartCd\": 4, \"EigentumsartLang\": \"Nat\\u00fcrliche Personen\", \"Wohnungsgroesse\": \"AnzGbdWhgStatZim1_3_saldo\", \"Wohnungssaldo\": 12}, {\"Jahr\": \"2021-01-01T00:00:00\", \"KreisCd\": 3, \"KreisLang\": \"Kreis 3\", \"EigentumsartCd\": 4, \"EigentumsartLang\": \"Nat\\u00fcrliche Personen\", \"Wohnungsgroesse\": \"AnzGbdWhgStatZim4plus_saldo\", \"Wohnungssaldo\": -1}, {\"Jahr\": \"2021-01-01T00:00:00\", \"KreisCd\": 4, \"KreisLang\": \"Kreis 4\", \"EigentumsartCd\": 4, \"EigentumsartLang\": \"Nat\\u00fcrliche Personen\", \"Wohnungsgroesse\": \"AnzGbdWhgStatZim1_3_saldo\", \"Wohnungssaldo\": 12}, {\"Jahr\": \"2021-01-01T00:00:00\", \"KreisCd\": 4, \"KreisLang\": \"Kreis 4\", \"EigentumsartCd\": 4, \"EigentumsartLang\": \"Nat\\u00fcrliche Personen\", \"Wohnungsgroesse\": \"AnzGbdWhgStatZim4plus_saldo\", \"Wohnungssaldo\": -3}, {\"Jahr\": \"2021-01-01T00:00:00\", \"KreisCd\": 5, \"KreisLang\": \"Kreis 5\", \"EigentumsartCd\": 4, \"EigentumsartLang\": \"Nat\\u00fcrliche Personen\", \"Wohnungsgroesse\": \"AnzGbdWhgStatZim1_3_saldo\", \"Wohnungssaldo\": 10}, {\"Jahr\": \"2021-01-01T00:00:00\", \"KreisCd\": 5, \"KreisLang\": \"Kreis 5\", \"EigentumsartCd\": 4, \"EigentumsartLang\": \"Nat\\u00fcrliche Personen\", \"Wohnungsgroesse\": \"AnzGbdWhgStatZim4plus_saldo\", \"Wohnungssaldo\": -4}, {\"Jahr\": \"2021-01-01T00:00:00\", \"KreisCd\": 6, \"KreisLang\": \"Kreis 6\", \"EigentumsartCd\": 4, \"EigentumsartLang\": \"Nat\\u00fcrliche Personen\", \"Wohnungsgroesse\": \"AnzGbdWhgStatZim1_3_saldo\", \"Wohnungssaldo\": 29}, {\"Jahr\": \"2021-01-01T00:00:00\", \"KreisCd\": 6, \"KreisLang\": \"Kreis 6\", \"EigentumsartCd\": 4, \"EigentumsartLang\": \"Nat\\u00fcrliche Personen\", \"Wohnungsgroesse\": \"AnzGbdWhgStatZim4plus_saldo\", \"Wohnungssaldo\": 3}, {\"Jahr\": \"2021-01-01T00:00:00\", \"KreisCd\": 7, \"KreisLang\": \"Kreis 7\", \"EigentumsartCd\": 4, \"EigentumsartLang\": \"Nat\\u00fcrliche Personen\", \"Wohnungsgroesse\": \"AnzGbdWhgStatZim1_3_saldo\", \"Wohnungssaldo\": 11}, {\"Jahr\": \"2021-01-01T00:00:00\", \"KreisCd\": 7, \"KreisLang\": \"Kreis 7\", \"EigentumsartCd\": 4, \"EigentumsartLang\": \"Nat\\u00fcrliche Personen\", \"Wohnungsgroesse\": \"AnzGbdWhgStatZim4plus_saldo\", \"Wohnungssaldo\": -1}, {\"Jahr\": \"2021-01-01T00:00:00\", \"KreisCd\": 8, \"KreisLang\": \"Kreis 8\", \"EigentumsartCd\": 4, \"EigentumsartLang\": \"Nat\\u00fcrliche Personen\", \"Wohnungsgroesse\": \"AnzGbdWhgStatZim1_3_saldo\", \"Wohnungssaldo\": 1}, {\"Jahr\": \"2021-01-01T00:00:00\", \"KreisCd\": 8, \"KreisLang\": \"Kreis 8\", \"EigentumsartCd\": 4, \"EigentumsartLang\": \"Nat\\u00fcrliche Personen\", \"Wohnungsgroesse\": \"AnzGbdWhgStatZim4plus_saldo\", \"Wohnungssaldo\": 0}, {\"Jahr\": \"2021-01-01T00:00:00\", \"KreisCd\": 9, \"KreisLang\": \"Kreis 9\", \"EigentumsartCd\": 4, \"EigentumsartLang\": \"Nat\\u00fcrliche Personen\", \"Wohnungsgroesse\": \"AnzGbdWhgStatZim1_3_saldo\", \"Wohnungssaldo\": -4}, {\"Jahr\": \"2021-01-01T00:00:00\", \"KreisCd\": 9, \"KreisLang\": \"Kreis 9\", \"EigentumsartCd\": 4, \"EigentumsartLang\": \"Nat\\u00fcrliche Personen\", \"Wohnungsgroesse\": \"AnzGbdWhgStatZim4plus_saldo\", \"Wohnungssaldo\": 13}]}}, {\"mode\": \"vega-lite\"});\n",
       "</script>"
      ],
      "text/plain": [
       "alt.Chart(...)"
      ]
     },
     "execution_count": 27,
     "metadata": {},
     "output_type": "execute_result"
    }
   ],
   "source": [
    "alt.Chart(mySelection).mark_circle(size=60).encode(\n",
    "    x='Wohnungssaldo',\n",
    "    y='KreisLang',\n",
    "    #color='AnzWhg',\n",
    "    #color=alt.Color('EigentumsartLang', scale=alt.Scale(scheme='dark2')),\n",
    "    color=alt.Color('Wohnungssaldo', scale=alt.Scale(scheme='greens')),\n",
    "    tooltip=['Jahr', 'KreisCd', 'KreisLang', 'EigentumsartCd', 'EigentumsartLang', 'Wohnungsgroesse']\n",
    ").interactive() # this makes the axes interactive: now you can zoom & pan\n",
    "\n",
    "\n"
   ]
  },
  {
   "cell_type": "code",
   "execution_count": null,
   "metadata": {},
   "outputs": [],
   "source": []
  },
  {
   "cell_type": "raw",
   "metadata": {},
   "source": []
  },
  {
   "cell_type": "code",
   "execution_count": null,
   "metadata": {},
   "outputs": [],
   "source": []
  }
 ],
 "metadata": {
  "kernelspec": {
   "display_name": "Python 3 (ipykernel)",
   "language": "python",
   "name": "python3"
  },
  "language_info": {
   "codemirror_mode": {
    "name": "ipython",
    "version": 3
   },
   "file_extension": ".py",
   "mimetype": "text/x-python",
   "name": "python",
   "nbconvert_exporter": "python",
   "pygments_lexer": "ipython3",
   "version": "3.9.7"
  }
 },
 "nbformat": 4,
 "nbformat_minor": 4
}
