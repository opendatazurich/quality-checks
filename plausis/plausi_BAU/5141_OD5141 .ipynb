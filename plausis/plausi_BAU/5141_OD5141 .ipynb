{
 "cells": [
  {
   "cell_type": "markdown",
   "metadata": {},
   "source": [
    "# Testing\n",
    "### Liegenschaften-Markt Stadt Zürich: Preisreihen (Medianpreise) und Verkaufsmengen nach Zonenart und Stadtquartier, seit 2008\n",
    "Datum: 31.03.2022"
   ]
  },
  {
   "cell_type": "markdown",
   "metadata": {},
   "source": [
    "### Importiere die notwendigen Packages"
   ]
  },
  {
   "cell_type": "code",
   "execution_count": 44,
   "metadata": {},
   "outputs": [],
   "source": [
    "#%pip install geopandas altair fiona requests folium mplleaflet contextily seaborn datetime plotly leafmap"
   ]
  },
  {
   "cell_type": "code",
   "execution_count": 52,
   "metadata": {},
   "outputs": [],
   "source": [
    "import pandas as pd\n",
    "import pivottablejs\n",
    "from pivottablejs import pivot_ui\n",
    "import numpy as np\n",
    "import altair as alt\n",
    "import matplotlib.pyplot as plt\n",
    "#from datetime import datetime\n",
    "import datetime\n",
    "import geopandas as gpd\n",
    "import folium \n",
    "import seaborn as sns\n",
    "import plotly.express as px\n",
    "import leafmap\n",
    "\n",
    "\n",
    "import requests\n",
    "import io"
   ]
  },
  {
   "cell_type": "code",
   "execution_count": 53,
   "metadata": {},
   "outputs": [],
   "source": [
    "SSL_VERIFY = False\n",
    "# evtl. SSL_VERIFY auf False setzen wenn die Verbindung zu https://www.gemeinderat-zuerich.ch nicht klappt (z.B. wegen Proxy)\n",
    "# Um die SSL Verifikation auszustellen, bitte die nächste Zeile einkommentieren (\"#\" entfernen)\n",
    "# SSL_VERIFY = False"
   ]
  },
  {
   "cell_type": "code",
   "execution_count": 54,
   "metadata": {},
   "outputs": [],
   "source": [
    "if not SSL_VERIFY:\n",
    "    import urllib3\n",
    "    urllib3.disable_warnings()"
   ]
  },
  {
   "cell_type": "markdown",
   "metadata": {},
   "source": [
    "Definiere Settings. Hier das Zahlenformat von Float-Werten (z.B. *'{:,.2f}'.format* mit Komma als Tausenderzeichen), "
   ]
  },
  {
   "cell_type": "code",
   "execution_count": 55,
   "metadata": {},
   "outputs": [],
   "source": [
    "#pd.options.display.float_format = lambda x : '{:,.1f}'.format(x) if (np.isnan(x) | np.isinf(x)) else '{:,.0f}'.format(x) if int(x) == x else '{:,.1f}'.format(x)\n",
    "pd.options.display.float_format = '{:.0f}'.format\n",
    "pd.set_option('display.width', 100)\n",
    "pd.set_option('display.max_columns', 15)"
   ]
  },
  {
   "cell_type": "markdown",
   "metadata": {},
   "source": [
    "### Zeitvariabeln\n",
    "Bestimme den aktuellst geladenen Monat. Hier ist es der Stand vor 2 Monaten. \n",
    "Bestimme noch weitere evt. sinnvolle Zeitvariabeln.\n",
    "\n",
    "Zum Unterschied zwischen import datetime und from datedtime import datetime, siehe https://stackoverflow.com/questions/15707532/import-datetime-v-s-from-datetime-import-datetime\n",
    "\n",
    "Zuerst die Zeitvariabeln als Strings"
   ]
  },
  {
   "cell_type": "code",
   "execution_count": 111,
   "metadata": {},
   "outputs": [],
   "source": [
    "#today_date = datetime.date.today()\n",
    "#date_time = datetime.datetime.strptime(date_time_string, '%Y-%m-%d %H:%M')\n",
    "now = datetime.date.today()\n",
    "date_today = now.strftime(\"%Y-%m-%d\")\n",
    "year_today = now.strftime(\"%Y\")\n",
    "month_today = now.strftime(\"%m\")\n",
    "day_today = now.strftime(\"%d\")\n"
   ]
  },
  {
   "cell_type": "markdown",
   "metadata": {},
   "source": [
    "Und hier noch die Zeitvariabeln als Integers:\n",
    "- `aktuellesJahr`\n",
    "- `aktuellerMonat`: Der gerade jetzt aktuelle Monat\n",
    "- `selectedMonat`: Der aktuellste Monat in den Daten. In der Regel zwei Monate her."
   ]
  },
  {
   "cell_type": "code",
   "execution_count": 112,
   "metadata": {},
   "outputs": [
    {
     "name": "stdout",
     "output_type": "stream",
     "text": [
      "2022 4 datenstand:  2 time.struct_time(tm_year=2022, tm_mon=4, tm_mday=5, tm_hour=0, tm_min=0, tm_sec=0, tm_wday=1, tm_yday=95, tm_isdst=-1)\n"
     ]
    }
   ],
   "source": [
    "#now = datetime.now() \n",
    "int_times = now.timetuple()\n",
    "\n",
    "aktuellesJahr = int_times[0]\n",
    "aktuellerMonat = int_times[1]\n",
    "selectedMonat = int_times[1]-2\n",
    "\n",
    "print(aktuellesJahr, \n",
    "      aktuellerMonat,\n",
    "    'datenstand: ', selectedMonat,\n",
    "     int_times)\n"
   ]
  },
  {
   "cell_type": "markdown",
   "metadata": {},
   "source": [
    "Berechne die Variable Epoche um später das SAS-Datum in ein Unix-Datum umzuwandeln. Bei SAS beginnt die Epoche am 1.1.1960. Bei Unix am 1.1.1970.\n",
    "Diese Variable wird beim CSV-Import benötigt."
   ]
  },
  {
   "cell_type": "code",
   "execution_count": 113,
   "metadata": {},
   "outputs": [],
   "source": [
    "epoch = datetime.datetime(1960, 1, 1)"
   ]
  },
  {
   "cell_type": "markdown",
   "metadata": {},
   "source": [
    "### Setze einige Pfadvariabeln"
   ]
  },
  {
   "cell_type": "markdown",
   "metadata": {},
   "source": [
    "- Der Packagename ist eigentlich der **Verzeichnisname** unter dem die Daten und Metadaten auf der Dropzone abgelegt werden.\n",
    "- Definiert wird er bei SASA-Prozessen auf dem **Produkte-Sharepoint ([Link](https://kollaboration.intranet.stzh.ch/orga/ssz-produkte/Lists/SASA_Outputs/PersonalViews.aspx?PageView=Personal&ShowWebPart={6087A3E7-8AC8-40BA-8278-DECFACE124FF}))**.\n",
    "- Der Packagename wird auf CKAN teil der URL, daher ist die exakte Schreibweise wichtig.\n",
    "\n",
    "Beachte: im Packagename müssen alle Buchstaben **klein** geschrieben werden. Dies weil CKAN aus grossen kleine Buchstaben macht."
   ]
  },
  {
   "cell_type": "markdown",
   "metadata": {},
   "source": [
    "**BITTE HIER ANPASSEN**"
   ]
  },
  {
   "cell_type": "code",
   "execution_count": 147,
   "metadata": {},
   "outputs": [],
   "source": [
    "package_name = \"archiv_bau514od5141\"\n",
    "#package_name = \"bau_hae_lima_preise_anzahl_hae_art_gebiet_bzo_jahr\""
   ]
  },
  {
   "cell_type": "code",
   "execution_count": 148,
   "metadata": {
    "tags": []
   },
   "outputs": [],
   "source": [
    "dataset_name = \"BAU514OD5141.csv\""
   ]
  },
  {
   "cell_type": "markdown",
   "metadata": {},
   "source": [
    "**Statische Pfade in DWH-Dropzones**"
   ]
  },
  {
   "cell_type": "code",
   "execution_count": 149,
   "metadata": {},
   "outputs": [],
   "source": [
    "dropzone_path_integ = r\"\\\\szh\\ssz\\applikationen\\OGD_Dropzone\\INT_DWH\""
   ]
  },
  {
   "cell_type": "code",
   "execution_count": 150,
   "metadata": {
    "tags": []
   },
   "outputs": [],
   "source": [
    "dropzone_path_prod = r\"\\\\szh\\ssz\\applikationen\\OGD_Dropzone\\DWH\""
   ]
  },
  {
   "cell_type": "markdown",
   "metadata": {},
   "source": [
    "**Statische Pfade CKAN-URLs**"
   ]
  },
  {
   "cell_type": "code",
   "execution_count": 151,
   "metadata": {
    "tags": []
   },
   "outputs": [],
   "source": [
    "ckan_integ_url =\"https://data.integ.stadt-zuerich.ch/dataset/int_dwh_\""
   ]
  },
  {
   "cell_type": "code",
   "execution_count": 152,
   "metadata": {},
   "outputs": [],
   "source": [
    "ckan_prod_url =\"https://data.stadt-zuerich.ch/dataset/\""
   ]
  },
  {
   "cell_type": "markdown",
   "metadata": {},
   "source": [
    "### Checke die Metadaten auf der CKAN INTEG- oder PROD-Webseite\n",
    "\n",
    "Offenbar lassen sich aktuell im Markdownteil keine Variabeln ausführen, daher gehen wir wie unten gezeigt vor. Siehe dazu: https://data-dive.com/jupyterlab-markdown-cells-include-variables\n",
    "Instead of setting the cell to Markdown, create Markdown from withnin a code cell! We can just use python variable replacement syntax to make the text dynamic"
   ]
  },
  {
   "cell_type": "code",
   "execution_count": 153,
   "metadata": {},
   "outputs": [],
   "source": [
    "from IPython.display import Markdown as md"
   ]
  },
  {
   "cell_type": "code",
   "execution_count": 154,
   "metadata": {},
   "outputs": [
    {
     "data": {
      "text/markdown": [
       " **1. Dataset auf INTEG-Datakatalog:** Link https://data.integ.stadt-zuerich.ch/dataset/int_dwh_archiv_bau514od5141 "
      ],
      "text/plain": [
       "<IPython.core.display.Markdown object>"
      ]
     },
     "execution_count": 154,
     "metadata": {},
     "output_type": "execute_result"
    }
   ],
   "source": [
    "md(\" **1. Dataset auf INTEG-Datakatalog:** Link {} \".format(ckan_integ_url+package_name))"
   ]
  },
  {
   "cell_type": "code",
   "execution_count": 155,
   "metadata": {},
   "outputs": [
    {
     "data": {
      "text/markdown": [
       " **2. Dataset auf PROD-Datakatalog:** Link https://data.stadt-zuerich.ch/dataset/archiv_bau514od5141 "
      ],
      "text/plain": [
       "<IPython.core.display.Markdown object>"
      ]
     },
     "execution_count": 155,
     "metadata": {},
     "output_type": "execute_result"
    }
   ],
   "source": [
    "md(\" **2. Dataset auf PROD-Datakatalog:** Link {} \".format(ckan_prod_url+package_name))"
   ]
  },
  {
   "cell_type": "markdown",
   "metadata": {
    "tags": []
   },
   "source": [
    "### Importiere einen Datensatz \n",
    "\n",
    "Definiere zuerst folgende Werte:\n",
    "1) Kommt der Datensatz von PROD oder INTEG?\n",
    "2) Beziehst Du den Datensatz direkt ab der DROPZONE oder aus dem INTERNET?"
   ]
  },
  {
   "cell_type": "code",
   "execution_count": 156,
   "metadata": {},
   "outputs": [
    {
     "name": "stdout",
     "output_type": "stream",
     "text": [
      "integ - web\n"
     ]
    }
   ],
   "source": [
    "#Die Datasets sind nur zum Testen auf INT-DWH-Dropzone. Wenn der Test vorbei ist, sind sie auf PROD. \n",
    "# Über den Status kann man einfach switchen\n",
    "\n",
    "status = \"integ\"; #prod vs something else\n",
    "data_source = \"web\"; #dropzone vs something else\n",
    "print(status+\" - \"+ data_source)"
   ]
  },
  {
   "cell_type": "code",
   "execution_count": 157,
   "metadata": {
    "tags": []
   },
   "outputs": [
    {
     "name": "stdout",
     "output_type": "stream",
     "text": [
      "fp lautet:https://data.integ.stadt-zuerich.ch/dataset/int_dwh_archiv_bau514od5141/download/BAU514OD5141.csv\n"
     ]
    }
   ],
   "source": [
    "# Filepath\n",
    "if status == \"prod\":\n",
    "    if data_source == \"dropzone\":\n",
    "            fp = dropzone_path_prod+\"\\\\\"+ package_name +\"\\\\\"+dataset_name\n",
    "            print(\"fp lautet:\"+fp)\n",
    "    else:\n",
    "        #fp = r\"https://data.stadt-zuerich.ch/dataset/bau_neubau_whg_bausm_rinh_geb_projstatus_quartier_seit2009_od5011/download/BAU501OD5011.csv\"\n",
    "        fp = ckan_prod_url+package_name+'/download/'+dataset_name\n",
    "        print(\"fp lautet:\"+fp)\n",
    "else:\n",
    "    if data_source == \"dropzone\":\n",
    "        fp = dropzone_path_integ+\"\\\\\"+ package_name +\"\\\\\"+dataset_name\n",
    "        print(\"fp lautet:\"+fp)\n",
    "    else:\n",
    "        #fp = r\"https://data.stadt-zuerich.ch/dataset/bau_neubau_whg_bausm_rinh_geb_projstatus_quartier_seit2009_od5011/download/BAU501OD5011.csv\"\n",
    "        fp = ckan_integ_url+package_name+'/download/'+dataset_name\n",
    "        print(\"fp lautet:\"+fp)\n"
   ]
  },
  {
   "cell_type": "markdown",
   "metadata": {},
   "source": [
    "Beachte, wie das SAS Datum (ohne Format) in ein UNIX Datum umgerechnet und als Datumsformat dargestellt wird! Siehe dazu `https://stackoverflow.com/questions/26923564/convert-sas-numeric-to-python-datetime`"
   ]
  },
  {
   "cell_type": "code",
   "execution_count": 158,
   "metadata": {},
   "outputs": [
    {
     "name": "stdout",
     "output_type": "stream",
     "text": [
      "web\n"
     ]
    },
    {
     "data": {
      "text/plain": [
       "Typ                       object\n",
       "PreisreiheSort             int64\n",
       "PreisreiheLang            object\n",
       "ArtSort                    int64\n",
       "ArtLang                   object\n",
       "Gebiet_s                   int64\n",
       "Gebiet_n                  object\n",
       "Jahr              datetime64[ns]\n",
       "BZO                       object\n",
       "ALLE                     float64\n",
       "ZE                       float64\n",
       "KE                       float64\n",
       "QU                       float64\n",
       "W2                       float64\n",
       "W23                      float64\n",
       "W34                      float64\n",
       "W45                      float64\n",
       "W56                      float64\n",
       "dtype: object"
      ]
     },
     "execution_count": 158,
     "metadata": {},
     "output_type": "execute_result"
    }
   ],
   "source": [
    "# Read the data\n",
    "if data_source == \"dropzone\":\n",
    "    data2betested = pd.read_csv(\n",
    "        fp\n",
    "        , sep=','\n",
    "        ,parse_dates=['Jahr']\n",
    "        ,low_memory=False\n",
    "    )\n",
    "    print(\"dropzone\")\n",
    "else:\n",
    "    r = requests.get(fp, verify=False)  \n",
    "    r.encoding = 'utf-8'\n",
    "    data2betested = pd.read_csv(\n",
    "        io.StringIO(r.text)\n",
    "        ,parse_dates=['Jahr']\n",
    "        # KONVERTIERE DAS SAS DATUM IN EIN UNIXDATUM UND FORMATIERE ES\n",
    "        #, date_parser=lambda s: epoch + datetime.timedelta(days=int(s))\n",
    "        ,low_memory=False)\n",
    "    print(\"web\")\n",
    "\n",
    "data2betested.dtypes"
   ]
  },
  {
   "cell_type": "markdown",
   "metadata": {},
   "source": [
    "Berechne weitere Attribute falls notwendig"
   ]
  },
  {
   "cell_type": "code",
   "execution_count": 159,
   "metadata": {},
   "outputs": [
    {
     "data": {
      "text/plain": [
       "Typ                       object\n",
       "PreisreiheSort             int64\n",
       "PreisreiheLang            object\n",
       "ArtSort                    int64\n",
       "ArtLang                   object\n",
       "Gebiet_s                   int64\n",
       "Gebiet_n                  object\n",
       "Jahr              datetime64[ns]\n",
       "BZO                       object\n",
       "ALLE                     float64\n",
       "ZE                       float64\n",
       "KE                       float64\n",
       "QU                       float64\n",
       "W2                       float64\n",
       "W23                      float64\n",
       "W34                      float64\n",
       "W45                      float64\n",
       "W56                      float64\n",
       "Jahr_str                  object\n",
       "dtype: object"
      ]
     },
     "execution_count": 159,
     "metadata": {},
     "output_type": "execute_result"
    }
   ],
   "source": [
    "data2betested = (\n",
    "    data2betested\n",
    "    .copy()\n",
    "    .assign(\n",
    "        #Aktualisierungs_Datum_str= lambda x: x.Aktualisierungs_Datum.astype(str),\n",
    "        Jahr_str = lambda x: x.Jahr.astype(str),\n",
    "    )\n",
    "    .sort_values('Jahr', ascending=False)\n",
    "    )\n",
    "data2betested.dtypes"
   ]
  },
  {
   "cell_type": "markdown",
   "metadata": {},
   "source": [
    "### Einfache Datentests"
   ]
  },
  {
   "cell_type": "markdown",
   "metadata": {},
   "source": [
    " - 1) Zeige eine kurze Vorschau der importierten Daten\n",
    " - 2) Weise die Datentypen aus\n",
    " - 3) Zeige die Shape (Umfang) des Datensatzes an"
   ]
  },
  {
   "cell_type": "code",
   "execution_count": 164,
   "metadata": {},
   "outputs": [
    {
     "data": {
      "text/html": [
       "<div>\n",
       "<style scoped>\n",
       "    .dataframe tbody tr th:only-of-type {\n",
       "        vertical-align: middle;\n",
       "    }\n",
       "\n",
       "    .dataframe tbody tr th {\n",
       "        vertical-align: top;\n",
       "    }\n",
       "\n",
       "    .dataframe thead th {\n",
       "        text-align: right;\n",
       "    }\n",
       "</style>\n",
       "<table border=\"1\" class=\"dataframe\">\n",
       "  <thead>\n",
       "    <tr style=\"text-align: right;\">\n",
       "      <th></th>\n",
       "      <th>Typ</th>\n",
       "      <th>PreisreiheSort</th>\n",
       "      <th>PreisreiheLang</th>\n",
       "      <th>ArtSort</th>\n",
       "      <th>ArtLang</th>\n",
       "      <th>Gebiet_s</th>\n",
       "      <th>Gebiet_n</th>\n",
       "      <th>...</th>\n",
       "      <th>QU</th>\n",
       "      <th>W2</th>\n",
       "      <th>W23</th>\n",
       "      <th>W34</th>\n",
       "      <th>W45</th>\n",
       "      <th>W56</th>\n",
       "      <th>Jahr_str</th>\n",
       "    </tr>\n",
       "  </thead>\n",
       "  <tbody>\n",
       "    <tr>\n",
       "      <th>0</th>\n",
       "      <td>Preis</td>\n",
       "      <td>41</td>\n",
       "      <td>Preis pro m2 Grundstücksfläche</td>\n",
       "      <td>31</td>\n",
       "      <td>Nur ganze Liegenschaften</td>\n",
       "      <td>0</td>\n",
       "      <td>Ganze Stadt</td>\n",
       "      <td>...</td>\n",
       "      <td>19847</td>\n",
       "      <td>6865</td>\n",
       "      <td>5908</td>\n",
       "      <td>7120</td>\n",
       "      <td>11209</td>\n",
       "      <td>NaN</td>\n",
       "      <td>2021-01-01</td>\n",
       "    </tr>\n",
       "    <tr>\n",
       "      <th>56</th>\n",
       "      <td>Preis</td>\n",
       "      <td>41</td>\n",
       "      <td>Preis pro m2 Grundstücksfläche</td>\n",
       "      <td>39</td>\n",
       "      <td>Alle Verkäufe</td>\n",
       "      <td>0</td>\n",
       "      <td>Ganze Stadt</td>\n",
       "      <td>...</td>\n",
       "      <td>30964</td>\n",
       "      <td>8922</td>\n",
       "      <td>10401</td>\n",
       "      <td>9954</td>\n",
       "      <td>15970</td>\n",
       "      <td>22009</td>\n",
       "      <td>2021-01-01</td>\n",
       "    </tr>\n",
       "    <tr>\n",
       "      <th>28</th>\n",
       "      <td>Preis</td>\n",
       "      <td>41</td>\n",
       "      <td>Preis pro m2 Grundstücksfläche</td>\n",
       "      <td>32</td>\n",
       "      <td>Nur Stockwerkeigentum</td>\n",
       "      <td>0</td>\n",
       "      <td>Ganze Stadt</td>\n",
       "      <td>...</td>\n",
       "      <td>39254</td>\n",
       "      <td>10262</td>\n",
       "      <td>12381</td>\n",
       "      <td>12281</td>\n",
       "      <td>22994</td>\n",
       "      <td>22009</td>\n",
       "      <td>2021-01-01</td>\n",
       "    </tr>\n",
       "    <tr>\n",
       "      <th>70</th>\n",
       "      <td>Menge</td>\n",
       "      <td>41</td>\n",
       "      <td>Preis pro m2 Grundstücksfläche</td>\n",
       "      <td>39</td>\n",
       "      <td>Alle Verkäufe</td>\n",
       "      <td>0</td>\n",
       "      <td>Ganze Stadt</td>\n",
       "      <td>...</td>\n",
       "      <td>104</td>\n",
       "      <td>115</td>\n",
       "      <td>161</td>\n",
       "      <td>266</td>\n",
       "      <td>69</td>\n",
       "      <td>20</td>\n",
       "      <td>2021-01-01</td>\n",
       "    </tr>\n",
       "    <tr>\n",
       "      <th>14</th>\n",
       "      <td>Menge</td>\n",
       "      <td>41</td>\n",
       "      <td>Preis pro m2 Grundstücksfläche</td>\n",
       "      <td>31</td>\n",
       "      <td>Nur ganze Liegenschaften</td>\n",
       "      <td>0</td>\n",
       "      <td>Ganze Stadt</td>\n",
       "      <td>...</td>\n",
       "      <td>47</td>\n",
       "      <td>45</td>\n",
       "      <td>54</td>\n",
       "      <td>77</td>\n",
       "      <td>33</td>\n",
       "      <td>0</td>\n",
       "      <td>2021-01-01</td>\n",
       "    </tr>\n",
       "    <tr>\n",
       "      <th>...</th>\n",
       "      <td>...</td>\n",
       "      <td>...</td>\n",
       "      <td>...</td>\n",
       "      <td>...</td>\n",
       "      <td>...</td>\n",
       "      <td>...</td>\n",
       "      <td>...</td>\n",
       "      <td>...</td>\n",
       "      <td>...</td>\n",
       "      <td>...</td>\n",
       "      <td>...</td>\n",
       "      <td>...</td>\n",
       "      <td>...</td>\n",
       "      <td>...</td>\n",
       "      <td>...</td>\n",
       "    </tr>\n",
       "    <tr>\n",
       "      <th>9141</th>\n",
       "      <td>Preis</td>\n",
       "      <td>42</td>\n",
       "      <td>Preis pro m2 Grundstücksfläche, abzgl. Versich...</td>\n",
       "      <td>32</td>\n",
       "      <td>Nur Stockwerkeigentum</td>\n",
       "      <td>123</td>\n",
       "      <td>Hirzenbach</td>\n",
       "      <td>...</td>\n",
       "      <td>NaN</td>\n",
       "      <td>NaN</td>\n",
       "      <td>NaN</td>\n",
       "      <td>NaN</td>\n",
       "      <td>NaN</td>\n",
       "      <td>NaN</td>\n",
       "      <td>2008-01-01</td>\n",
       "    </tr>\n",
       "    <tr>\n",
       "      <th>9127</th>\n",
       "      <td>Menge</td>\n",
       "      <td>42</td>\n",
       "      <td>Preis pro m2 Grundstücksfläche, abzgl. Versich...</td>\n",
       "      <td>31</td>\n",
       "      <td>Nur ganze Liegenschaften</td>\n",
       "      <td>123</td>\n",
       "      <td>Hirzenbach</td>\n",
       "      <td>...</td>\n",
       "      <td>0</td>\n",
       "      <td>0</td>\n",
       "      <td>1</td>\n",
       "      <td>2</td>\n",
       "      <td>0</td>\n",
       "      <td>0</td>\n",
       "      <td>2008-01-01</td>\n",
       "    </tr>\n",
       "    <tr>\n",
       "      <th>9169</th>\n",
       "      <td>Preis</td>\n",
       "      <td>42</td>\n",
       "      <td>Preis pro m2 Grundstücksfläche, abzgl. Versich...</td>\n",
       "      <td>39</td>\n",
       "      <td>Alle Verkäufe</td>\n",
       "      <td>123</td>\n",
       "      <td>Hirzenbach</td>\n",
       "      <td>...</td>\n",
       "      <td>NaN</td>\n",
       "      <td>NaN</td>\n",
       "      <td>796</td>\n",
       "      <td>1956</td>\n",
       "      <td>NaN</td>\n",
       "      <td>NaN</td>\n",
       "      <td>2008-01-01</td>\n",
       "    </tr>\n",
       "    <tr>\n",
       "      <th>9197</th>\n",
       "      <td>Preis</td>\n",
       "      <td>49</td>\n",
       "      <td>Stockwerkeigentum pro m2 Wohnungsfläche</td>\n",
       "      <td>39</td>\n",
       "      <td>Alle Verkäufe</td>\n",
       "      <td>123</td>\n",
       "      <td>Hirzenbach</td>\n",
       "      <td>...</td>\n",
       "      <td>NaN</td>\n",
       "      <td>NaN</td>\n",
       "      <td>NaN</td>\n",
       "      <td>NaN</td>\n",
       "      <td>NaN</td>\n",
       "      <td>NaN</td>\n",
       "      <td>2008-01-01</td>\n",
       "    </tr>\n",
       "    <tr>\n",
       "      <th>9211</th>\n",
       "      <td>Menge</td>\n",
       "      <td>49</td>\n",
       "      <td>Stockwerkeigentum pro m2 Wohnungsfläche</td>\n",
       "      <td>39</td>\n",
       "      <td>Alle Verkäufe</td>\n",
       "      <td>123</td>\n",
       "      <td>Hirzenbach</td>\n",
       "      <td>...</td>\n",
       "      <td>0</td>\n",
       "      <td>0</td>\n",
       "      <td>0</td>\n",
       "      <td>0</td>\n",
       "      <td>0</td>\n",
       "      <td>0</td>\n",
       "      <td>2008-01-01</td>\n",
       "    </tr>\n",
       "  </tbody>\n",
       "</table>\n",
       "<p>9212 rows × 19 columns</p>\n",
       "</div>"
      ],
      "text/plain": [
       "        Typ  PreisreiheSort                                     PreisreiheLang  ArtSort  \\\n",
       "0     Preis              41                     Preis pro m2 Grundstücksfläche       31   \n",
       "56    Preis              41                     Preis pro m2 Grundstücksfläche       39   \n",
       "28    Preis              41                     Preis pro m2 Grundstücksfläche       32   \n",
       "70    Menge              41                     Preis pro m2 Grundstücksfläche       39   \n",
       "14    Menge              41                     Preis pro m2 Grundstücksfläche       31   \n",
       "...     ...             ...                                                ...      ...   \n",
       "9141  Preis              42  Preis pro m2 Grundstücksfläche, abzgl. Versich...       32   \n",
       "9127  Menge              42  Preis pro m2 Grundstücksfläche, abzgl. Versich...       31   \n",
       "9169  Preis              42  Preis pro m2 Grundstücksfläche, abzgl. Versich...       39   \n",
       "9197  Preis              49            Stockwerkeigentum pro m2 Wohnungsfläche       39   \n",
       "9211  Menge              49            Stockwerkeigentum pro m2 Wohnungsfläche       39   \n",
       "\n",
       "                       ArtLang  Gebiet_s     Gebiet_n  ...    QU    W2   W23   W34   W45   W56  \\\n",
       "0     Nur ganze Liegenschaften         0  Ganze Stadt  ... 19847  6865  5908  7120 11209   NaN   \n",
       "56               Alle Verkäufe         0  Ganze Stadt  ... 30964  8922 10401  9954 15970 22009   \n",
       "28       Nur Stockwerkeigentum         0  Ganze Stadt  ... 39254 10262 12381 12281 22994 22009   \n",
       "70               Alle Verkäufe         0  Ganze Stadt  ...   104   115   161   266    69    20   \n",
       "14    Nur ganze Liegenschaften         0  Ganze Stadt  ...    47    45    54    77    33     0   \n",
       "...                        ...       ...          ...  ...   ...   ...   ...   ...   ...   ...   \n",
       "9141     Nur Stockwerkeigentum       123   Hirzenbach  ...   NaN   NaN   NaN   NaN   NaN   NaN   \n",
       "9127  Nur ganze Liegenschaften       123   Hirzenbach  ...     0     0     1     2     0     0   \n",
       "9169             Alle Verkäufe       123   Hirzenbach  ...   NaN   NaN   796  1956   NaN   NaN   \n",
       "9197             Alle Verkäufe       123   Hirzenbach  ...   NaN   NaN   NaN   NaN   NaN   NaN   \n",
       "9211             Alle Verkäufe       123   Hirzenbach  ...     0     0     0     0     0     0   \n",
       "\n",
       "        Jahr_str  \n",
       "0     2021-01-01  \n",
       "56    2021-01-01  \n",
       "28    2021-01-01  \n",
       "70    2021-01-01  \n",
       "14    2021-01-01  \n",
       "...          ...  \n",
       "9141  2008-01-01  \n",
       "9127  2008-01-01  \n",
       "9169  2008-01-01  \n",
       "9197  2008-01-01  \n",
       "9211  2008-01-01  \n",
       "\n",
       "[9212 rows x 19 columns]"
      ]
     },
     "execution_count": 164,
     "metadata": {},
     "output_type": "execute_result"
    }
   ],
   "source": [
    "#data2betested.head(6)\n",
    "data2betested.sort_values(['Jahr','Gebiet_s','PreisreiheSort'],ascending = [False, True, True])"
   ]
  },
  {
   "cell_type": "code",
   "execution_count": 161,
   "metadata": {},
   "outputs": [
    {
     "data": {
      "text/plain": [
       "Typ                       object\n",
       "PreisreiheSort             int64\n",
       "PreisreiheLang            object\n",
       "ArtSort                    int64\n",
       "ArtLang                   object\n",
       "Gebiet_s                   int64\n",
       "Gebiet_n                  object\n",
       "Jahr              datetime64[ns]\n",
       "BZO                       object\n",
       "ALLE                     float64\n",
       "ZE                       float64\n",
       "KE                       float64\n",
       "QU                       float64\n",
       "W2                       float64\n",
       "W23                      float64\n",
       "W34                      float64\n",
       "W45                      float64\n",
       "W56                      float64\n",
       "Jahr_str                  object\n",
       "dtype: object"
      ]
     },
     "execution_count": 161,
     "metadata": {},
     "output_type": "execute_result"
    }
   ],
   "source": [
    "data2betested.dtypes"
   ]
  },
  {
   "cell_type": "code",
   "execution_count": 129,
   "metadata": {},
   "outputs": [
    {
     "data": {
      "text/plain": [
       "(9212, 19)"
      ]
     },
     "execution_count": 129,
     "metadata": {},
     "output_type": "execute_result"
    }
   ],
   "source": [
    "data2betested.shape"
   ]
  },
  {
   "cell_type": "markdown",
   "metadata": {},
   "source": [
    "Beschreibe einzelne Attribute"
   ]
  },
  {
   "cell_type": "code",
   "execution_count": 130,
   "metadata": {},
   "outputs": [
    {
     "data": {
      "text/html": [
       "<div>\n",
       "<style scoped>\n",
       "    .dataframe tbody tr th:only-of-type {\n",
       "        vertical-align: middle;\n",
       "    }\n",
       "\n",
       "    .dataframe tbody tr th {\n",
       "        vertical-align: top;\n",
       "    }\n",
       "\n",
       "    .dataframe thead th {\n",
       "        text-align: right;\n",
       "    }\n",
       "</style>\n",
       "<table border=\"1\" class=\"dataframe\">\n",
       "  <thead>\n",
       "    <tr style=\"text-align: right;\">\n",
       "      <th></th>\n",
       "      <th>PreisreiheSort</th>\n",
       "      <th>ArtSort</th>\n",
       "      <th>Gebiet_s</th>\n",
       "      <th>ALLE</th>\n",
       "      <th>ZE</th>\n",
       "      <th>KE</th>\n",
       "      <th>QU</th>\n",
       "      <th>W2</th>\n",
       "      <th>W23</th>\n",
       "      <th>W34</th>\n",
       "      <th>W45</th>\n",
       "      <th>W56</th>\n",
       "    </tr>\n",
       "  </thead>\n",
       "  <tbody>\n",
       "    <tr>\n",
       "      <th>count</th>\n",
       "      <td>9212</td>\n",
       "      <td>9212</td>\n",
       "      <td>9212</td>\n",
       "      <td>9034</td>\n",
       "      <td>5355</td>\n",
       "      <td>5888</td>\n",
       "      <td>6362</td>\n",
       "      <td>4978</td>\n",
       "      <td>7012</td>\n",
       "      <td>7204</td>\n",
       "      <td>6310</td>\n",
       "      <td>5541</td>\n",
       "    </tr>\n",
       "    <tr>\n",
       "      <th>mean</th>\n",
       "      <td>43</td>\n",
       "      <td>35</td>\n",
       "      <td>63</td>\n",
       "      <td>6373</td>\n",
       "      <td>2437</td>\n",
       "      <td>5321</td>\n",
       "      <td>4788</td>\n",
       "      <td>454</td>\n",
       "      <td>1763</td>\n",
       "      <td>2372</td>\n",
       "      <td>2681</td>\n",
       "      <td>2548</td>\n",
       "    </tr>\n",
       "    <tr>\n",
       "      <th>std</th>\n",
       "      <td>3</td>\n",
       "      <td>4</td>\n",
       "      <td>36</td>\n",
       "      <td>12917</td>\n",
       "      <td>9226</td>\n",
       "      <td>15659</td>\n",
       "      <td>9793</td>\n",
       "      <td>1784</td>\n",
       "      <td>3084</td>\n",
       "      <td>4098</td>\n",
       "      <td>6422</td>\n",
       "      <td>6883</td>\n",
       "    </tr>\n",
       "    <tr>\n",
       "      <th>min</th>\n",
       "      <td>41</td>\n",
       "      <td>31</td>\n",
       "      <td>0</td>\n",
       "      <td>0</td>\n",
       "      <td>0</td>\n",
       "      <td>0</td>\n",
       "      <td>0</td>\n",
       "      <td>0</td>\n",
       "      <td>0</td>\n",
       "      <td>0</td>\n",
       "      <td>0</td>\n",
       "      <td>0</td>\n",
       "    </tr>\n",
       "    <tr>\n",
       "      <th>25%</th>\n",
       "      <td>41</td>\n",
       "      <td>31</td>\n",
       "      <td>31</td>\n",
       "      <td>15</td>\n",
       "      <td>0</td>\n",
       "      <td>0</td>\n",
       "      <td>0</td>\n",
       "      <td>0</td>\n",
       "      <td>0</td>\n",
       "      <td>0</td>\n",
       "      <td>0</td>\n",
       "      <td>0</td>\n",
       "    </tr>\n",
       "    <tr>\n",
       "      <th>50%</th>\n",
       "      <td>42</td>\n",
       "      <td>32</td>\n",
       "      <td>63</td>\n",
       "      <td>291</td>\n",
       "      <td>0</td>\n",
       "      <td>0</td>\n",
       "      <td>2</td>\n",
       "      <td>0</td>\n",
       "      <td>8</td>\n",
       "      <td>10</td>\n",
       "      <td>1</td>\n",
       "      <td>0</td>\n",
       "    </tr>\n",
       "    <tr>\n",
       "      <th>75%</th>\n",
       "      <td>42</td>\n",
       "      <td>39</td>\n",
       "      <td>92</td>\n",
       "      <td>8169</td>\n",
       "      <td>1</td>\n",
       "      <td>8</td>\n",
       "      <td>5254</td>\n",
       "      <td>0</td>\n",
       "      <td>2951</td>\n",
       "      <td>3706</td>\n",
       "      <td>1720</td>\n",
       "      <td>2</td>\n",
       "    </tr>\n",
       "    <tr>\n",
       "      <th>max</th>\n",
       "      <td>49</td>\n",
       "      <td>39</td>\n",
       "      <td>123</td>\n",
       "      <td>191429</td>\n",
       "      <td>135974</td>\n",
       "      <td>199353</td>\n",
       "      <td>99854</td>\n",
       "      <td>16907</td>\n",
       "      <td>23053</td>\n",
       "      <td>29240</td>\n",
       "      <td>95813</td>\n",
       "      <td>58997</td>\n",
       "    </tr>\n",
       "  </tbody>\n",
       "</table>\n",
       "</div>"
      ],
      "text/plain": [
       "       PreisreiheSort  ArtSort  Gebiet_s   ALLE     ZE     KE    QU    W2   W23   W34   W45   W56\n",
       "count            9212     9212      9212   9034   5355   5888  6362  4978  7012  7204  6310  5541\n",
       "mean               43       35        63   6373   2437   5321  4788   454  1763  2372  2681  2548\n",
       "std                 3        4        36  12917   9226  15659  9793  1784  3084  4098  6422  6883\n",
       "min                41       31         0      0      0      0     0     0     0     0     0     0\n",
       "25%                41       31        31     15      0      0     0     0     0     0     0     0\n",
       "50%                42       32        63    291      0      0     2     0     8    10     1     0\n",
       "75%                42       39        92   8169      1      8  5254     0  2951  3706  1720     2\n",
       "max                49       39       123 191429 135974 199353 99854 16907 23053 29240 95813 58997"
      ]
     },
     "execution_count": 130,
     "metadata": {},
     "output_type": "execute_result"
    }
   ],
   "source": [
    "data2betested.describe()"
   ]
  },
  {
   "cell_type": "markdown",
   "metadata": {},
   "source": [
    "Wie viele Nullwerte gibt es im Datensatz?"
   ]
  },
  {
   "cell_type": "code",
   "execution_count": 131,
   "metadata": {
    "scrolled": true
   },
   "outputs": [
    {
     "data": {
      "text/plain": [
       "Typ                  0\n",
       "PreisreiheSort       0\n",
       "PreisreiheLang       0\n",
       "ArtSort              0\n",
       "ArtLang              0\n",
       "Gebiet_s             0\n",
       "Gebiet_n             0\n",
       "Jahr                 0\n",
       "BZO                  0\n",
       "ALLE               178\n",
       "ZE                3857\n",
       "KE                3324\n",
       "QU                2850\n",
       "W2                4234\n",
       "W23               2200\n",
       "W34               2008\n",
       "W45               2902\n",
       "W56               3671\n",
       "Jahr_str             0\n",
       "dtype: int64"
      ]
     },
     "execution_count": 131,
     "metadata": {},
     "output_type": "execute_result"
    }
   ],
   "source": [
    "data2betested.isnull().sum()"
   ]
  },
  {
   "cell_type": "markdown",
   "metadata": {
    "colab_type": "text",
    "id": "1dTPVmmsgOVx"
   },
   "source": [
    "### Verwende das Datum als Index\n",
    "\n",
    "While we did already parse the `datetime` column into the respective datetime type, it currently is just a regular column. \n",
    "**To enable quick and convenient queries and aggregations, we need to turn it into the index of the DataFrame**"
   ]
  },
  {
   "cell_type": "code",
   "execution_count": 132,
   "metadata": {},
   "outputs": [],
   "source": [
    "data2betested = data2betested.set_index(\"Jahr\")"
   ]
  },
  {
   "cell_type": "code",
   "execution_count": 133,
   "metadata": {},
   "outputs": [
    {
     "name": "stdout",
     "output_type": "stream",
     "text": [
      "<class 'pandas.core.frame.DataFrame'>\n",
      "DatetimeIndex: 9212 entries, 2021-01-01 to 2008-01-01\n",
      "Data columns (total 18 columns):\n",
      " #   Column          Non-Null Count  Dtype  \n",
      "---  ------          --------------  -----  \n",
      " 0   Typ             9212 non-null   object \n",
      " 1   PreisreiheSort  9212 non-null   int64  \n",
      " 2   PreisreiheLang  9212 non-null   object \n",
      " 3   ArtSort         9212 non-null   int64  \n",
      " 4   ArtLang         9212 non-null   object \n",
      " 5   Gebiet_s        9212 non-null   int64  \n",
      " 6   Gebiet_n        9212 non-null   object \n",
      " 7   BZO             9212 non-null   object \n",
      " 8   ALLE            9034 non-null   float64\n",
      " 9   ZE              5355 non-null   float64\n",
      " 10  KE              5888 non-null   float64\n",
      " 11  QU              6362 non-null   float64\n",
      " 12  W2              4978 non-null   float64\n",
      " 13  W23             7012 non-null   float64\n",
      " 14  W34             7204 non-null   float64\n",
      " 15  W45             6310 non-null   float64\n",
      " 16  W56             5541 non-null   float64\n",
      " 17  Jahr_str        9212 non-null   object \n",
      "dtypes: float64(9), int64(3), object(6)\n",
      "memory usage: 1.3+ MB\n"
     ]
    },
    {
     "data": {
      "text/plain": [
       "Int64Index([2021, 2020, 2019, 2018, 2017, 2016, 2015, 2014, 2013, 2012, 2011, 2010, 2009, 2008], dtype='int64', name='Jahr')"
      ]
     },
     "execution_count": 133,
     "metadata": {},
     "output_type": "execute_result"
    }
   ],
   "source": [
    "data2betested.info()\n",
    "data2betested.index.year.unique()"
   ]
  },
  {
   "cell_type": "markdown",
   "metadata": {},
   "source": [
    "### Einfache Visualisierungen zur Plausi"
   ]
  },
  {
   "cell_type": "markdown",
   "metadata": {},
   "source": [
    "Exploriere die Daten mit Pivottable.JS"
   ]
  },
  {
   "cell_type": "code",
   "execution_count": 134,
   "metadata": {},
   "outputs": [
    {
     "data": {
      "text/html": [
       "\n",
       "        <iframe\n",
       "            width=\"100%\"\n",
       "            height=\"500\"\n",
       "            src=\"pivottablejs.html\"\n",
       "            frameborder=\"0\"\n",
       "            allowfullscreen\n",
       "            \n",
       "        ></iframe>\n",
       "        "
      ],
      "text/plain": [
       "<IPython.lib.display.IFrame at 0x1fc846d3108>"
      ]
     },
     "execution_count": 134,
     "metadata": {},
     "output_type": "execute_result"
    }
   ],
   "source": [
    "from pivottablejs import pivot_ui\n",
    "\n",
    "pivot_ui(data2betested)"
   ]
  },
  {
   "cell_type": "markdown",
   "metadata": {},
   "source": [
    "### Zeitpunkte und Zeiträume abfragen\n",
    "\n",
    "A particular powerful feature of the Pandas DataFrame is its indexing capability that also works using time-based entities, such as dates and times. We have already created the index above, so let's put it to use."
   ]
  },
  {
   "cell_type": "code",
   "execution_count": 135,
   "metadata": {},
   "outputs": [
    {
     "data": {
      "text/html": [
       "<div>\n",
       "<style scoped>\n",
       "    .dataframe tbody tr th:only-of-type {\n",
       "        vertical-align: middle;\n",
       "    }\n",
       "\n",
       "    .dataframe tbody tr th {\n",
       "        vertical-align: top;\n",
       "    }\n",
       "\n",
       "    .dataframe thead th {\n",
       "        text-align: right;\n",
       "    }\n",
       "</style>\n",
       "<table border=\"1\" class=\"dataframe\">\n",
       "  <thead>\n",
       "    <tr style=\"text-align: right;\">\n",
       "      <th></th>\n",
       "      <th>Typ</th>\n",
       "      <th>PreisreiheSort</th>\n",
       "      <th>PreisreiheLang</th>\n",
       "      <th>ArtSort</th>\n",
       "      <th>ArtLang</th>\n",
       "      <th>Gebiet_s</th>\n",
       "      <th>Gebiet_n</th>\n",
       "      <th>...</th>\n",
       "      <th>QU</th>\n",
       "      <th>W2</th>\n",
       "      <th>W23</th>\n",
       "      <th>W34</th>\n",
       "      <th>W45</th>\n",
       "      <th>W56</th>\n",
       "      <th>Jahr_str</th>\n",
       "    </tr>\n",
       "    <tr>\n",
       "      <th>Jahr</th>\n",
       "      <th></th>\n",
       "      <th></th>\n",
       "      <th></th>\n",
       "      <th></th>\n",
       "      <th></th>\n",
       "      <th></th>\n",
       "      <th></th>\n",
       "      <th></th>\n",
       "      <th></th>\n",
       "      <th></th>\n",
       "      <th></th>\n",
       "      <th></th>\n",
       "      <th></th>\n",
       "      <th></th>\n",
       "      <th></th>\n",
       "    </tr>\n",
       "  </thead>\n",
       "  <tbody>\n",
       "    <tr>\n",
       "      <th>2010-01-01</th>\n",
       "      <td>Menge</td>\n",
       "      <td>49</td>\n",
       "      <td>Stockwerkeigentum pro m2 Wohnungsfläche</td>\n",
       "      <td>39</td>\n",
       "      <td>Alle Verkäufe</td>\n",
       "      <td>52</td>\n",
       "      <td>Escher Wyss</td>\n",
       "      <td>...</td>\n",
       "      <td>0</td>\n",
       "      <td>0</td>\n",
       "      <td>0</td>\n",
       "      <td>0</td>\n",
       "      <td>0</td>\n",
       "      <td>0</td>\n",
       "      <td>2010-01-01</td>\n",
       "    </tr>\n",
       "    <tr>\n",
       "      <th>2010-01-01</th>\n",
       "      <td>Menge</td>\n",
       "      <td>42</td>\n",
       "      <td>Preis pro m2 Grundstücksfläche, abzgl. Versich...</td>\n",
       "      <td>32</td>\n",
       "      <td>Nur Stockwerkeigentum</td>\n",
       "      <td>34</td>\n",
       "      <td>Sihlfeld</td>\n",
       "      <td>...</td>\n",
       "      <td>7</td>\n",
       "      <td>0</td>\n",
       "      <td>0</td>\n",
       "      <td>1</td>\n",
       "      <td>0</td>\n",
       "      <td>0</td>\n",
       "      <td>2010-01-01</td>\n",
       "    </tr>\n",
       "  </tbody>\n",
       "</table>\n",
       "<p>2 rows × 18 columns</p>\n",
       "</div>"
      ],
      "text/plain": [
       "              Typ  PreisreiheSort                                     PreisreiheLang  ArtSort  \\\n",
       "Jahr                                                                                            \n",
       "2010-01-01  Menge              49            Stockwerkeigentum pro m2 Wohnungsfläche       39   \n",
       "2010-01-01  Menge              42  Preis pro m2 Grundstücksfläche, abzgl. Versich...       32   \n",
       "\n",
       "                          ArtLang  Gebiet_s     Gebiet_n  ... QU  W2  W23  W34  W45  W56  \\\n",
       "Jahr                                                      ...                              \n",
       "2010-01-01          Alle Verkäufe        52  Escher Wyss  ...  0   0    0    0    0    0   \n",
       "2010-01-01  Nur Stockwerkeigentum        34     Sihlfeld  ...  7   0    0    1    0    0   \n",
       "\n",
       "              Jahr_str  \n",
       "Jahr                    \n",
       "2010-01-01  2010-01-01  \n",
       "2010-01-01  2010-01-01  \n",
       "\n",
       "[2 rows x 18 columns]"
      ]
     },
     "execution_count": 135,
     "metadata": {},
     "output_type": "execute_result"
    }
   ],
   "source": [
    "data2betested.loc[\"2010\"].head(2)\n",
    "#data2betested.loc[\"2021-10-31\":\"2021-11-30\"].head(2)"
   ]
  },
  {
   "cell_type": "markdown",
   "metadata": {},
   "source": [
    "### Visualisierungen nach Zeitausschnitten"
   ]
  },
  {
   "cell_type": "markdown",
   "metadata": {
    "tags": []
   },
   "source": [
    "#### Entwicklung Preise pro m2 im Friesenberg"
   ]
  },
  {
   "cell_type": "code",
   "execution_count": 136,
   "metadata": {},
   "outputs": [
    {
     "data": {
      "text/plain": [
       "Typ                object\n",
       "PreisreiheSort      int64\n",
       "PreisreiheLang     object\n",
       "ArtSort             int64\n",
       "ArtLang            object\n",
       "Gebiet_s            int64\n",
       "Gebiet_n           object\n",
       "BZO                object\n",
       "ALLE              float64\n",
       "ZE                float64\n",
       "KE                float64\n",
       "QU                float64\n",
       "W2                float64\n",
       "W23               float64\n",
       "W34               float64\n",
       "W45               float64\n",
       "W56               float64\n",
       "Jahr_str           object\n",
       "dtype: object"
      ]
     },
     "execution_count": 136,
     "metadata": {},
     "output_type": "execute_result"
    }
   ],
   "source": [
    "data2betested.dtypes"
   ]
  },
  {
   "cell_type": "code",
   "execution_count": 138,
   "metadata": {
    "tags": []
   },
   "outputs": [
    {
     "data": {
      "text/html": [
       "<div>\n",
       "<style scoped>\n",
       "    .dataframe tbody tr th:only-of-type {\n",
       "        vertical-align: middle;\n",
       "    }\n",
       "\n",
       "    .dataframe tbody tr th {\n",
       "        vertical-align: top;\n",
       "    }\n",
       "\n",
       "    .dataframe thead th {\n",
       "        text-align: right;\n",
       "    }\n",
       "</style>\n",
       "<table border=\"1\" class=\"dataframe\">\n",
       "  <thead>\n",
       "    <tr style=\"text-align: right;\">\n",
       "      <th></th>\n",
       "      <th>Jahr</th>\n",
       "      <th>Typ</th>\n",
       "      <th>PreisreiheSort</th>\n",
       "      <th>PreisreiheLang</th>\n",
       "      <th>sum_ALLE</th>\n",
       "      <th>sum_ZE</th>\n",
       "      <th>sum_W2</th>\n",
       "    </tr>\n",
       "  </thead>\n",
       "  <tbody>\n",
       "    <tr>\n",
       "      <th>0</th>\n",
       "      <td>2021-01-01</td>\n",
       "      <td>Preis</td>\n",
       "      <td>41</td>\n",
       "      <td>Preis pro m2 Grundstücksfläche</td>\n",
       "      <td>47520</td>\n",
       "      <td>75790</td>\n",
       "      <td>26049</td>\n",
       "    </tr>\n",
       "    <tr>\n",
       "      <th>1</th>\n",
       "      <td>2021-01-01</td>\n",
       "      <td>Preis</td>\n",
       "      <td>42</td>\n",
       "      <td>Preis pro m2 Grundstücksfläche, abzgl. Versich...</td>\n",
       "      <td>23090</td>\n",
       "      <td>66412</td>\n",
       "      <td>17091</td>\n",
       "    </tr>\n",
       "    <tr>\n",
       "      <th>2</th>\n",
       "      <td>2021-01-01</td>\n",
       "      <td>Preis</td>\n",
       "      <td>49</td>\n",
       "      <td>Stockwerkeigentum pro m2 Wohnungsfläche</td>\n",
       "      <td>14795</td>\n",
       "      <td>0</td>\n",
       "      <td>0</td>\n",
       "    </tr>\n",
       "  </tbody>\n",
       "</table>\n",
       "</div>"
      ],
      "text/plain": [
       "        Jahr    Typ  PreisreiheSort                                     PreisreiheLang  sum_ALLE  \\\n",
       "0 2021-01-01  Preis              41                     Preis pro m2 Grundstücksfläche     47520   \n",
       "1 2021-01-01  Preis              42  Preis pro m2 Grundstücksfläche, abzgl. Versich...     23090   \n",
       "2 2021-01-01  Preis              49            Stockwerkeigentum pro m2 Wohnungsfläche     14795   \n",
       "\n",
       "   sum_ZE  sum_W2  \n",
       "0   75790   26049  \n",
       "1   66412   17091  \n",
       "2       0       0  "
      ]
     },
     "execution_count": 138,
     "metadata": {},
     "output_type": "execute_result"
    }
   ],
   "source": [
    "#myAgg = data2betested.loc[\"2008-11-30\":\"2021-10-31\"]\n",
    "\n",
    "myAgg = data2betested.loc[\"2021\"].query('Typ == \"Preis\" & Gebiet_n == \"Ganze Stadt\"')\\\n",
    "    .groupby(['Jahr','Typ','PreisreiheSort','PreisreiheLang']) \\\n",
    "    .agg(sum_ALLE=('ALLE', 'sum'),sum_ZE=('ZE', 'sum'),sum_W2=('W2', 'sum')) \\\n",
    "    .sort_values('Jahr', ascending=True) \n",
    "\n",
    "myAgg.reset_index().head(8)"
   ]
  },
  {
   "cell_type": "code",
   "execution_count": 139,
   "metadata": {},
   "outputs": [
    {
     "data": {
      "text/html": [
       "<div>\n",
       "<style scoped>\n",
       "    .dataframe tbody tr th:only-of-type {\n",
       "        vertical-align: middle;\n",
       "    }\n",
       "\n",
       "    .dataframe tbody tr th {\n",
       "        vertical-align: top;\n",
       "    }\n",
       "\n",
       "    .dataframe thead th {\n",
       "        text-align: right;\n",
       "    }\n",
       "</style>\n",
       "<table border=\"1\" class=\"dataframe\">\n",
       "  <thead>\n",
       "    <tr style=\"text-align: right;\">\n",
       "      <th></th>\n",
       "      <th>Jahr</th>\n",
       "      <th>Typ</th>\n",
       "      <th>PreisreiheSort</th>\n",
       "      <th>ArtLang</th>\n",
       "      <th>Gebiet_s</th>\n",
       "      <th>Gebiet_n</th>\n",
       "      <th>BZO</th>\n",
       "      <th>sum_ALLE</th>\n",
       "      <th>sum_ZE</th>\n",
       "      <th>sum_W2</th>\n",
       "    </tr>\n",
       "  </thead>\n",
       "  <tbody>\n",
       "    <tr>\n",
       "      <th>0</th>\n",
       "      <td>2009-01-01</td>\n",
       "      <td>Preis</td>\n",
       "      <td>41</td>\n",
       "      <td>Alle Verkäufe</td>\n",
       "      <td>33</td>\n",
       "      <td>Friesenberg</td>\n",
       "      <td>BZO99</td>\n",
       "      <td>5102</td>\n",
       "      <td>0</td>\n",
       "      <td>0</td>\n",
       "    </tr>\n",
       "    <tr>\n",
       "      <th>1</th>\n",
       "      <td>2009-01-01</td>\n",
       "      <td>Preis</td>\n",
       "      <td>41</td>\n",
       "      <td>Nur Stockwerkeigentum</td>\n",
       "      <td>33</td>\n",
       "      <td>Friesenberg</td>\n",
       "      <td>BZO99</td>\n",
       "      <td>5204</td>\n",
       "      <td>0</td>\n",
       "      <td>0</td>\n",
       "    </tr>\n",
       "    <tr>\n",
       "      <th>2</th>\n",
       "      <td>2009-01-01</td>\n",
       "      <td>Preis</td>\n",
       "      <td>41</td>\n",
       "      <td>Nur ganze Liegenschaften</td>\n",
       "      <td>33</td>\n",
       "      <td>Friesenberg</td>\n",
       "      <td>BZO99</td>\n",
       "      <td>4024</td>\n",
       "      <td>0</td>\n",
       "      <td>0</td>\n",
       "    </tr>\n",
       "    <tr>\n",
       "      <th>3</th>\n",
       "      <td>2010-01-01</td>\n",
       "      <td>Preis</td>\n",
       "      <td>41</td>\n",
       "      <td>Alle Verkäufe</td>\n",
       "      <td>33</td>\n",
       "      <td>Friesenberg</td>\n",
       "      <td>BZO99</td>\n",
       "      <td>4324</td>\n",
       "      <td>0</td>\n",
       "      <td>0</td>\n",
       "    </tr>\n",
       "    <tr>\n",
       "      <th>4</th>\n",
       "      <td>2010-01-01</td>\n",
       "      <td>Preis</td>\n",
       "      <td>41</td>\n",
       "      <td>Nur Stockwerkeigentum</td>\n",
       "      <td>33</td>\n",
       "      <td>Friesenberg</td>\n",
       "      <td>BZO99</td>\n",
       "      <td>10803</td>\n",
       "      <td>0</td>\n",
       "      <td>0</td>\n",
       "    </tr>\n",
       "    <tr>\n",
       "      <th>5</th>\n",
       "      <td>2010-01-01</td>\n",
       "      <td>Preis</td>\n",
       "      <td>41</td>\n",
       "      <td>Nur ganze Liegenschaften</td>\n",
       "      <td>33</td>\n",
       "      <td>Friesenberg</td>\n",
       "      <td>BZO99</td>\n",
       "      <td>3906</td>\n",
       "      <td>0</td>\n",
       "      <td>0</td>\n",
       "    </tr>\n",
       "    <tr>\n",
       "      <th>6</th>\n",
       "      <td>2011-01-01</td>\n",
       "      <td>Preis</td>\n",
       "      <td>41</td>\n",
       "      <td>Alle Verkäufe</td>\n",
       "      <td>33</td>\n",
       "      <td>Friesenberg</td>\n",
       "      <td>BZO99</td>\n",
       "      <td>6379</td>\n",
       "      <td>0</td>\n",
       "      <td>0</td>\n",
       "    </tr>\n",
       "    <tr>\n",
       "      <th>7</th>\n",
       "      <td>2011-01-01</td>\n",
       "      <td>Preis</td>\n",
       "      <td>41</td>\n",
       "      <td>Nur Stockwerkeigentum</td>\n",
       "      <td>33</td>\n",
       "      <td>Friesenberg</td>\n",
       "      <td>BZO99</td>\n",
       "      <td>6512</td>\n",
       "      <td>0</td>\n",
       "      <td>0</td>\n",
       "    </tr>\n",
       "  </tbody>\n",
       "</table>\n",
       "</div>"
      ],
      "text/plain": [
       "        Jahr    Typ  PreisreiheSort                   ArtLang  Gebiet_s     Gebiet_n    BZO  \\\n",
       "0 2009-01-01  Preis              41             Alle Verkäufe        33  Friesenberg  BZO99   \n",
       "1 2009-01-01  Preis              41     Nur Stockwerkeigentum        33  Friesenberg  BZO99   \n",
       "2 2009-01-01  Preis              41  Nur ganze Liegenschaften        33  Friesenberg  BZO99   \n",
       "3 2010-01-01  Preis              41             Alle Verkäufe        33  Friesenberg  BZO99   \n",
       "4 2010-01-01  Preis              41     Nur Stockwerkeigentum        33  Friesenberg  BZO99   \n",
       "5 2010-01-01  Preis              41  Nur ganze Liegenschaften        33  Friesenberg  BZO99   \n",
       "6 2011-01-01  Preis              41             Alle Verkäufe        33  Friesenberg  BZO99   \n",
       "7 2011-01-01  Preis              41     Nur Stockwerkeigentum        33  Friesenberg  BZO99   \n",
       "\n",
       "   sum_ALLE  sum_ZE  sum_W2  \n",
       "0      5102       0       0  \n",
       "1      5204       0       0  \n",
       "2      4024       0       0  \n",
       "3      4324       0       0  \n",
       "4     10803       0       0  \n",
       "5      3906       0       0  \n",
       "6      6379       0       0  \n",
       "7      6512       0       0  "
      ]
     },
     "execution_count": 139,
     "metadata": {},
     "output_type": "execute_result"
    }
   ],
   "source": [
    "#myAgg = data2betested.loc[\"2008-11-30\":\"2021-10-31\"]\n",
    "\n",
    "myAgg = data2betested.loc[\"2009\":\"2021\"].query('Typ == \"Preis\" & Gebiet_n == \"Friesenberg\" & PreisreiheLang ==\"Preis pro m2 Grundstücksfläche\"')\\\n",
    "    .groupby(['Jahr','Typ','PreisreiheSort', 'ArtLang', 'Gebiet_s', 'Gebiet_n','BZO']) \\\n",
    "    .agg(sum_ALLE=('ALLE', 'sum'),sum_ZE=('ZE', 'sum'),sum_W2=('W2', 'sum')) \\\n",
    "    .sort_values('Jahr', ascending=True) \n",
    "\n",
    "myAgg.reset_index().head(8)"
   ]
  },
  {
   "cell_type": "code",
   "execution_count": 140,
   "metadata": {},
   "outputs": [
    {
     "data": {
      "text/plain": [
       "Jahr              datetime64[ns]\n",
       "Typ                       object\n",
       "PreisreiheSort             int64\n",
       "ArtLang                   object\n",
       "Gebiet_s                   int64\n",
       "Gebiet_n                  object\n",
       "BZO                       object\n",
       "sum_ALLE                 float64\n",
       "sum_ZE                   float64\n",
       "sum_W2                   float64\n",
       "dtype: object"
      ]
     },
     "execution_count": 140,
     "metadata": {},
     "output_type": "execute_result"
    }
   ],
   "source": [
    "myAgg.reset_index().dtypes"
   ]
  },
  {
   "cell_type": "code",
   "execution_count": 142,
   "metadata": {},
   "outputs": [
    {
     "data": {
      "text/html": [
       "\n",
       "<div id=\"altair-viz-2b73fc1c95be47c3b7ff3c770d312206\"></div>\n",
       "<script type=\"text/javascript\">\n",
       "  (function(spec, embedOpt){\n",
       "    let outputDiv = document.currentScript.previousElementSibling;\n",
       "    if (outputDiv.id !== \"altair-viz-2b73fc1c95be47c3b7ff3c770d312206\") {\n",
       "      outputDiv = document.getElementById(\"altair-viz-2b73fc1c95be47c3b7ff3c770d312206\");\n",
       "    }\n",
       "    const paths = {\n",
       "      \"vega\": \"https://cdn.jsdelivr.net/npm//vega@5?noext\",\n",
       "      \"vega-lib\": \"https://cdn.jsdelivr.net/npm//vega-lib?noext\",\n",
       "      \"vega-lite\": \"https://cdn.jsdelivr.net/npm//vega-lite@4.8.1?noext\",\n",
       "      \"vega-embed\": \"https://cdn.jsdelivr.net/npm//vega-embed@6?noext\",\n",
       "    };\n",
       "\n",
       "    function loadScript(lib) {\n",
       "      return new Promise(function(resolve, reject) {\n",
       "        var s = document.createElement('script');\n",
       "        s.src = paths[lib];\n",
       "        s.async = true;\n",
       "        s.onload = () => resolve(paths[lib]);\n",
       "        s.onerror = () => reject(`Error loading script: ${paths[lib]}`);\n",
       "        document.getElementsByTagName(\"head\")[0].appendChild(s);\n",
       "      });\n",
       "    }\n",
       "\n",
       "    function showError(err) {\n",
       "      outputDiv.innerHTML = `<div class=\"error\" style=\"color:red;\">${err}</div>`;\n",
       "      throw err;\n",
       "    }\n",
       "\n",
       "    function displayChart(vegaEmbed) {\n",
       "      vegaEmbed(outputDiv, spec, embedOpt)\n",
       "        .catch(err => showError(`Javascript Error: ${err.message}<br>This usually means there's a typo in your chart specification. See the javascript console for the full traceback.`));\n",
       "    }\n",
       "\n",
       "    if(typeof define === \"function\" && define.amd) {\n",
       "      requirejs.config({paths});\n",
       "      require([\"vega-embed\"], displayChart, err => showError(`Error loading script: ${err.message}`));\n",
       "    } else if (typeof vegaEmbed === \"function\") {\n",
       "      displayChart(vegaEmbed);\n",
       "    } else {\n",
       "      loadScript(\"vega\")\n",
       "        .then(() => loadScript(\"vega-lite\"))\n",
       "        .then(() => loadScript(\"vega-embed\"))\n",
       "        .catch(showError)\n",
       "        .then(() => displayChart(vegaEmbed));\n",
       "    }\n",
       "  })({\"config\": {\"view\": {\"continuousWidth\": 400, \"continuousHeight\": 300}}, \"layer\": [{\"mark\": \"line\", \"encoding\": {\"color\": {\"type\": \"nominal\", \"field\": \"ArtLang\", \"legend\": {\"orient\": \"right\", \"title\": \"Art der HAE\"}}, \"size\": {\"condition\": {\"value\": 0.5, \"selection\": {\"not\": \"selector013\"}}, \"value\": 4}, \"tooltip\": [{\"type\": \"temporal\", \"field\": \"Jahr\"}, {\"type\": \"nominal\", \"field\": \"ArtLang\"}, {\"type\": \"quantitative\", \"field\": \"sum_ALLE\"}, {\"type\": \"quantitative\", \"field\": \"sum_ZE\"}, {\"type\": \"quantitative\", \"field\": \"sum_W2\"}], \"x\": {\"type\": \"temporal\", \"axis\": {\"title\": \"Jahr\"}, \"field\": \"Jahr\"}, \"y\": {\"type\": \"quantitative\", \"axis\": {\"title\": \"Summe alle Preise\"}, \"field\": \"sum_ALLE\"}}, \"selection\": {\"selector014\": {\"type\": \"interval\", \"bind\": \"scales\", \"encodings\": [\"x\", \"y\"]}}, \"title\": \"Summe aller Preise von Hand\\u00e4nderungen im Friesenberg\"}, {\"mark\": \"circle\", \"encoding\": {\"color\": {\"type\": \"nominal\", \"field\": \"ArtLang\", \"legend\": {\"orient\": \"right\", \"title\": \"Art der HAE\"}}, \"opacity\": {\"value\": 0.75}, \"tooltip\": [{\"type\": \"temporal\", \"field\": \"Jahr\"}, {\"type\": \"nominal\", \"field\": \"ArtLang\"}, {\"type\": \"quantitative\", \"field\": \"sum_ALLE\"}, {\"type\": \"quantitative\", \"field\": \"sum_ZE\"}, {\"type\": \"quantitative\", \"field\": \"sum_W2\"}], \"x\": {\"type\": \"temporal\", \"axis\": {\"title\": \"Jahr\"}, \"field\": \"Jahr\"}, \"y\": {\"type\": \"quantitative\", \"axis\": {\"title\": \"Summe alle Preise\"}, \"field\": \"sum_ALLE\"}}, \"height\": 350, \"selection\": {\"selector013\": {\"type\": \"single\", \"on\": \"mouseover\", \"fields\": [\"ArtLang\"], \"nearest\": true}}, \"title\": \"Summe aller Preise von Hand\\u00e4nderungen im Friesenberg\", \"width\": 750}], \"data\": {\"name\": \"data-e132e9e96849626bef18726a63b21ee8\"}, \"$schema\": \"https://vega.github.io/schema/vega-lite/v4.8.1.json\", \"datasets\": {\"data-e132e9e96849626bef18726a63b21ee8\": [{\"Jahr\": \"2009-01-01T00:00:00\", \"Typ\": \"Preis\", \"PreisreiheSort\": 41, \"ArtLang\": \"Alle Verk\\u00e4ufe\", \"Gebiet_s\": 33, \"Gebiet_n\": \"Friesenberg\", \"BZO\": \"BZO99\", \"sum_ALLE\": 5102.0, \"sum_ZE\": 0.0, \"sum_W2\": 0.0}, {\"Jahr\": \"2009-01-01T00:00:00\", \"Typ\": \"Preis\", \"PreisreiheSort\": 41, \"ArtLang\": \"Nur Stockwerkeigentum\", \"Gebiet_s\": 33, \"Gebiet_n\": \"Friesenberg\", \"BZO\": \"BZO99\", \"sum_ALLE\": 5204.0, \"sum_ZE\": 0.0, \"sum_W2\": 0.0}, {\"Jahr\": \"2009-01-01T00:00:00\", \"Typ\": \"Preis\", \"PreisreiheSort\": 41, \"ArtLang\": \"Nur ganze Liegenschaften\", \"Gebiet_s\": 33, \"Gebiet_n\": \"Friesenberg\", \"BZO\": \"BZO99\", \"sum_ALLE\": 4024.0, \"sum_ZE\": 0.0, \"sum_W2\": 0.0}, {\"Jahr\": \"2010-01-01T00:00:00\", \"Typ\": \"Preis\", \"PreisreiheSort\": 41, \"ArtLang\": \"Alle Verk\\u00e4ufe\", \"Gebiet_s\": 33, \"Gebiet_n\": \"Friesenberg\", \"BZO\": \"BZO99\", \"sum_ALLE\": 4324.0, \"sum_ZE\": 0.0, \"sum_W2\": 0.0}, {\"Jahr\": \"2010-01-01T00:00:00\", \"Typ\": \"Preis\", \"PreisreiheSort\": 41, \"ArtLang\": \"Nur Stockwerkeigentum\", \"Gebiet_s\": 33, \"Gebiet_n\": \"Friesenberg\", \"BZO\": \"BZO99\", \"sum_ALLE\": 10803.0, \"sum_ZE\": 0.0, \"sum_W2\": 0.0}, {\"Jahr\": \"2010-01-01T00:00:00\", \"Typ\": \"Preis\", \"PreisreiheSort\": 41, \"ArtLang\": \"Nur ganze Liegenschaften\", \"Gebiet_s\": 33, \"Gebiet_n\": \"Friesenberg\", \"BZO\": \"BZO99\", \"sum_ALLE\": 3906.0, \"sum_ZE\": 0.0, \"sum_W2\": 0.0}, {\"Jahr\": \"2011-01-01T00:00:00\", \"Typ\": \"Preis\", \"PreisreiheSort\": 41, \"ArtLang\": \"Alle Verk\\u00e4ufe\", \"Gebiet_s\": 33, \"Gebiet_n\": \"Friesenberg\", \"BZO\": \"BZO99\", \"sum_ALLE\": 6379.0, \"sum_ZE\": 0.0, \"sum_W2\": 0.0}, {\"Jahr\": \"2011-01-01T00:00:00\", \"Typ\": \"Preis\", \"PreisreiheSort\": 41, \"ArtLang\": \"Nur Stockwerkeigentum\", \"Gebiet_s\": 33, \"Gebiet_n\": \"Friesenberg\", \"BZO\": \"BZO99\", \"sum_ALLE\": 6512.0, \"sum_ZE\": 0.0, \"sum_W2\": 0.0}, {\"Jahr\": \"2011-01-01T00:00:00\", \"Typ\": \"Preis\", \"PreisreiheSort\": 41, \"ArtLang\": \"Nur ganze Liegenschaften\", \"Gebiet_s\": 33, \"Gebiet_n\": \"Friesenberg\", \"BZO\": \"BZO99\", \"sum_ALLE\": 6944.0, \"sum_ZE\": 0.0, \"sum_W2\": 0.0}, {\"Jahr\": \"2012-01-01T00:00:00\", \"Typ\": \"Preis\", \"PreisreiheSort\": 41, \"ArtLang\": \"Nur ganze Liegenschaften\", \"Gebiet_s\": 33, \"Gebiet_n\": \"Friesenberg\", \"BZO\": \"BZO99\", \"sum_ALLE\": 5467.0, \"sum_ZE\": 0.0, \"sum_W2\": 0.0}, {\"Jahr\": \"2012-01-01T00:00:00\", \"Typ\": \"Preis\", \"PreisreiheSort\": 41, \"ArtLang\": \"Alle Verk\\u00e4ufe\", \"Gebiet_s\": 33, \"Gebiet_n\": \"Friesenberg\", \"BZO\": \"BZO99\", \"sum_ALLE\": 5467.0, \"sum_ZE\": 0.0, \"sum_W2\": 0.0}, {\"Jahr\": \"2013-01-01T00:00:00\", \"Typ\": \"Preis\", \"PreisreiheSort\": 41, \"ArtLang\": \"Alle Verk\\u00e4ufe\", \"Gebiet_s\": 33, \"Gebiet_n\": \"Friesenberg\", \"BZO\": \"BZO99\", \"sum_ALLE\": 8786.0, \"sum_ZE\": 0.0, \"sum_W2\": 0.0}, {\"Jahr\": \"2013-01-01T00:00:00\", \"Typ\": \"Preis\", \"PreisreiheSort\": 41, \"ArtLang\": \"Nur Stockwerkeigentum\", \"Gebiet_s\": 33, \"Gebiet_n\": \"Friesenberg\", \"BZO\": \"BZO99\", \"sum_ALLE\": 8786.0, \"sum_ZE\": 0.0, \"sum_W2\": 0.0}, {\"Jahr\": \"2013-01-01T00:00:00\", \"Typ\": \"Preis\", \"PreisreiheSort\": 41, \"ArtLang\": \"Nur ganze Liegenschaften\", \"Gebiet_s\": 33, \"Gebiet_n\": \"Friesenberg\", \"BZO\": \"BZO99\", \"sum_ALLE\": 8085.0, \"sum_ZE\": 0.0, \"sum_W2\": 0.0}, {\"Jahr\": \"2014-01-01T00:00:00\", \"Typ\": \"Preis\", \"PreisreiheSort\": 41, \"ArtLang\": \"Nur ganze Liegenschaften\", \"Gebiet_s\": 33, \"Gebiet_n\": \"Friesenberg\", \"BZO\": \"BZO99\", \"sum_ALLE\": 5458.0, \"sum_ZE\": 0.0, \"sum_W2\": 0.0}, {\"Jahr\": \"2014-01-01T00:00:00\", \"Typ\": \"Preis\", \"PreisreiheSort\": 41, \"ArtLang\": \"Alle Verk\\u00e4ufe\", \"Gebiet_s\": 33, \"Gebiet_n\": \"Friesenberg\", \"BZO\": \"BZO99\", \"sum_ALLE\": 5472.0, \"sum_ZE\": 0.0, \"sum_W2\": 0.0}, {\"Jahr\": \"2014-01-01T00:00:00\", \"Typ\": \"Preis\", \"PreisreiheSort\": 41, \"ArtLang\": \"Nur Stockwerkeigentum\", \"Gebiet_s\": 33, \"Gebiet_n\": \"Friesenberg\", \"BZO\": \"BZO99\", \"sum_ALLE\": 5956.0, \"sum_ZE\": 0.0, \"sum_W2\": 0.0}, {\"Jahr\": \"2015-01-01T00:00:00\", \"Typ\": \"Preis\", \"PreisreiheSort\": 41, \"ArtLang\": \"Nur ganze Liegenschaften\", \"Gebiet_s\": 33, \"Gebiet_n\": \"Friesenberg\", \"BZO\": \"BZO99\", \"sum_ALLE\": 11256.0, \"sum_ZE\": 0.0, \"sum_W2\": 0.0}, {\"Jahr\": \"2015-01-01T00:00:00\", \"Typ\": \"Preis\", \"PreisreiheSort\": 41, \"ArtLang\": \"Nur Stockwerkeigentum\", \"Gebiet_s\": 33, \"Gebiet_n\": \"Friesenberg\", \"BZO\": \"BZO99\", \"sum_ALLE\": 8165.0, \"sum_ZE\": 0.0, \"sum_W2\": 0.0}, {\"Jahr\": \"2015-01-01T00:00:00\", \"Typ\": \"Preis\", \"PreisreiheSort\": 41, \"ArtLang\": \"Alle Verk\\u00e4ufe\", \"Gebiet_s\": 33, \"Gebiet_n\": \"Friesenberg\", \"BZO\": \"BZO99\", \"sum_ALLE\": 8938.0, \"sum_ZE\": 0.0, \"sum_W2\": 0.0}, {\"Jahr\": \"2016-01-01T00:00:00\", \"Typ\": \"Preis\", \"PreisreiheSort\": 41, \"ArtLang\": \"Alle Verk\\u00e4ufe\", \"Gebiet_s\": 33, \"Gebiet_n\": \"Friesenberg\", \"BZO\": \"BZO99\", \"sum_ALLE\": 8493.0, \"sum_ZE\": 0.0, \"sum_W2\": 0.0}, {\"Jahr\": \"2016-01-01T00:00:00\", \"Typ\": \"Preis\", \"PreisreiheSort\": 41, \"ArtLang\": \"Nur Stockwerkeigentum\", \"Gebiet_s\": 33, \"Gebiet_n\": \"Friesenberg\", \"BZO\": \"BZO99\", \"sum_ALLE\": 8493.0, \"sum_ZE\": 0.0, \"sum_W2\": 0.0}, {\"Jahr\": \"2016-01-01T00:00:00\", \"Typ\": \"Preis\", \"PreisreiheSort\": 41, \"ArtLang\": \"Nur ganze Liegenschaften\", \"Gebiet_s\": 33, \"Gebiet_n\": \"Friesenberg\", \"BZO\": \"BZO99\", \"sum_ALLE\": 10868.0, \"sum_ZE\": 0.0, \"sum_W2\": 0.0}, {\"Jahr\": \"2017-01-01T00:00:00\", \"Typ\": \"Preis\", \"PreisreiheSort\": 41, \"ArtLang\": \"Alle Verk\\u00e4ufe\", \"Gebiet_s\": 33, \"Gebiet_n\": \"Friesenberg\", \"BZO\": \"BZO99\", \"sum_ALLE\": 5294.0, \"sum_ZE\": 0.0, \"sum_W2\": 0.0}, {\"Jahr\": \"2017-01-01T00:00:00\", \"Typ\": \"Preis\", \"PreisreiheSort\": 41, \"ArtLang\": \"Nur ganze Liegenschaften\", \"Gebiet_s\": 33, \"Gebiet_n\": \"Friesenberg\", \"BZO\": \"BZO99\", \"sum_ALLE\": 5294.0, \"sum_ZE\": 0.0, \"sum_W2\": 0.0}, {\"Jahr\": \"2018-01-01T00:00:00\", \"Typ\": \"Preis\", \"PreisreiheSort\": 41, \"ArtLang\": \"Nur Stockwerkeigentum\", \"Gebiet_s\": 33, \"Gebiet_n\": \"Friesenberg\", \"BZO\": \"BZO99\", \"sum_ALLE\": 8954.0, \"sum_ZE\": 0.0, \"sum_W2\": 0.0}, {\"Jahr\": \"2018-01-01T00:00:00\", \"Typ\": \"Preis\", \"PreisreiheSort\": 41, \"ArtLang\": \"Nur ganze Liegenschaften\", \"Gebiet_s\": 33, \"Gebiet_n\": \"Friesenberg\", \"BZO\": \"BZO99\", \"sum_ALLE\": 7383.0, \"sum_ZE\": 0.0, \"sum_W2\": 0.0}, {\"Jahr\": \"2018-01-01T00:00:00\", \"Typ\": \"Preis\", \"PreisreiheSort\": 41, \"ArtLang\": \"Alle Verk\\u00e4ufe\", \"Gebiet_s\": 33, \"Gebiet_n\": \"Friesenberg\", \"BZO\": \"BZO99\", \"sum_ALLE\": 7947.0, \"sum_ZE\": 0.0, \"sum_W2\": 0.0}, {\"Jahr\": \"2019-01-01T00:00:00\", \"Typ\": \"Preis\", \"PreisreiheSort\": 41, \"ArtLang\": \"Alle Verk\\u00e4ufe\", \"Gebiet_s\": 33, \"Gebiet_n\": \"Friesenberg\", \"BZO\": \"BZO16\", \"sum_ALLE\": 6456.0, \"sum_ZE\": 0.0, \"sum_W2\": 0.0}, {\"Jahr\": \"2019-01-01T00:00:00\", \"Typ\": \"Preis\", \"PreisreiheSort\": 41, \"ArtLang\": \"Nur Stockwerkeigentum\", \"Gebiet_s\": 33, \"Gebiet_n\": \"Friesenberg\", \"BZO\": \"BZO16\", \"sum_ALLE\": 6456.0, \"sum_ZE\": 0.0, \"sum_W2\": 0.0}, {\"Jahr\": \"2019-01-01T00:00:00\", \"Typ\": \"Preis\", \"PreisreiheSort\": 41, \"ArtLang\": \"Nur ganze Liegenschaften\", \"Gebiet_s\": 33, \"Gebiet_n\": \"Friesenberg\", \"BZO\": \"BZO16\", \"sum_ALLE\": 7095.0, \"sum_ZE\": 0.0, \"sum_W2\": 0.0}, {\"Jahr\": \"2020-01-01T00:00:00\", \"Typ\": \"Preis\", \"PreisreiheSort\": 41, \"ArtLang\": \"Alle Verk\\u00e4ufe\", \"Gebiet_s\": 33, \"Gebiet_n\": \"Friesenberg\", \"BZO\": \"BZO16\", \"sum_ALLE\": 6901.0, \"sum_ZE\": 0.0, \"sum_W2\": 0.0}, {\"Jahr\": \"2020-01-01T00:00:00\", \"Typ\": \"Preis\", \"PreisreiheSort\": 41, \"ArtLang\": \"Nur ganze Liegenschaften\", \"Gebiet_s\": 33, \"Gebiet_n\": \"Friesenberg\", \"BZO\": \"BZO16\", \"sum_ALLE\": 6901.0, \"sum_ZE\": 0.0, \"sum_W2\": 0.0}, {\"Jahr\": \"2021-01-01T00:00:00\", \"Typ\": \"Preis\", \"PreisreiheSort\": 41, \"ArtLang\": \"Nur Stockwerkeigentum\", \"Gebiet_s\": 33, \"Gebiet_n\": \"Friesenberg\", \"BZO\": \"BZO16\", \"sum_ALLE\": 6194.0, \"sum_ZE\": 0.0, \"sum_W2\": 0.0}, {\"Jahr\": \"2021-01-01T00:00:00\", \"Typ\": \"Preis\", \"PreisreiheSort\": 41, \"ArtLang\": \"Alle Verk\\u00e4ufe\", \"Gebiet_s\": 33, \"Gebiet_n\": \"Friesenberg\", \"BZO\": \"BZO16\", \"sum_ALLE\": 7423.0, \"sum_ZE\": 0.0, \"sum_W2\": 8652.0}, {\"Jahr\": \"2021-01-01T00:00:00\", \"Typ\": \"Preis\", \"PreisreiheSort\": 41, \"ArtLang\": \"Nur ganze Liegenschaften\", \"Gebiet_s\": 33, \"Gebiet_n\": \"Friesenberg\", \"BZO\": \"BZO16\", \"sum_ALLE\": 8738.0, \"sum_ZE\": 0.0, \"sum_W2\": 8652.0}]}}, {\"mode\": \"vega-lite\"});\n",
       "</script>"
      ],
      "text/plain": [
       "alt.LayerChart(...)"
      ]
     },
     "execution_count": 142,
     "metadata": {},
     "output_type": "execute_result"
    }
   ],
   "source": [
    "myTitle=\"Summe aller Preise von Handänderungen im Friesenberg\"\n",
    "\n",
    "highlight = alt.selection(type='single', on='mouseover',\n",
    "                          fields=['ArtLang'], nearest=True)\n",
    "#x='date:StichtagDatJahr',\n",
    "base = alt.Chart(myAgg.reset_index().query('sum_ALLE > 1'), title=myTitle).encode(\n",
    "    x=alt.X('Jahr', axis=alt.Axis(title='Jahr'))# , axis=alt.Axis(format='%', title='percentage')\n",
    "    , y=alt.X('sum_ALLE', axis=alt.Axis(title='Summe alle Preise'))\n",
    "    , color=alt.Color('ArtLang', legend=alt.Legend(title=\"Art der HAE\", orient=\"right\"))  \n",
    "    ,tooltip=['Jahr', 'ArtLang','sum_ALLE', 'sum_ZE', 'sum_W2']    \n",
    ")\n",
    "points = base.mark_circle().encode(\n",
    "    opacity=alt.value(0.75)\n",
    ").add_selection(\n",
    "    highlight\n",
    ").properties(\n",
    "    width=750 , height=350\n",
    ")\n",
    "lines = base.mark_line().encode(\n",
    "    size=alt.condition(~highlight, alt.value(0.5), alt.value(4))\n",
    ").interactive()\n",
    "\n",
    "lines + points"
   ]
  },
  {
   "cell_type": "code",
   "execution_count": 143,
   "metadata": {},
   "outputs": [
    {
     "data": {
      "text/html": [
       "<div>\n",
       "<style scoped>\n",
       "    .dataframe tbody tr th:only-of-type {\n",
       "        vertical-align: middle;\n",
       "    }\n",
       "\n",
       "    .dataframe tbody tr th {\n",
       "        vertical-align: top;\n",
       "    }\n",
       "\n",
       "    .dataframe thead th {\n",
       "        text-align: right;\n",
       "    }\n",
       "</style>\n",
       "<table border=\"1\" class=\"dataframe\">\n",
       "  <thead>\n",
       "    <tr style=\"text-align: right;\">\n",
       "      <th></th>\n",
       "      <th>Jahr</th>\n",
       "      <th>Typ</th>\n",
       "      <th>PreisreiheSort</th>\n",
       "      <th>ArtLang</th>\n",
       "      <th>Gebiet_s</th>\n",
       "      <th>Gebiet_n</th>\n",
       "      <th>BZO</th>\n",
       "      <th>sum_ALLE</th>\n",
       "      <th>sum_ZE</th>\n",
       "      <th>sum_W2</th>\n",
       "    </tr>\n",
       "  </thead>\n",
       "  <tbody>\n",
       "    <tr>\n",
       "      <th>0</th>\n",
       "      <td>2008-01-01</td>\n",
       "      <td>Menge</td>\n",
       "      <td>41</td>\n",
       "      <td>Alle Verkäufe</td>\n",
       "      <td>33</td>\n",
       "      <td>Friesenberg</td>\n",
       "      <td>BZO99</td>\n",
       "      <td>1</td>\n",
       "      <td>0</td>\n",
       "      <td>0</td>\n",
       "    </tr>\n",
       "    <tr>\n",
       "      <th>1</th>\n",
       "      <td>2008-01-01</td>\n",
       "      <td>Menge</td>\n",
       "      <td>41</td>\n",
       "      <td>Nur Stockwerkeigentum</td>\n",
       "      <td>33</td>\n",
       "      <td>Friesenberg</td>\n",
       "      <td>BZO99</td>\n",
       "      <td>0</td>\n",
       "      <td>0</td>\n",
       "      <td>0</td>\n",
       "    </tr>\n",
       "    <tr>\n",
       "      <th>2</th>\n",
       "      <td>2008-01-01</td>\n",
       "      <td>Menge</td>\n",
       "      <td>41</td>\n",
       "      <td>Nur ganze Liegenschaften</td>\n",
       "      <td>33</td>\n",
       "      <td>Friesenberg</td>\n",
       "      <td>BZO99</td>\n",
       "      <td>1</td>\n",
       "      <td>0</td>\n",
       "      <td>0</td>\n",
       "    </tr>\n",
       "  </tbody>\n",
       "</table>\n",
       "</div>"
      ],
      "text/plain": [
       "        Jahr    Typ  PreisreiheSort                   ArtLang  Gebiet_s     Gebiet_n    BZO  \\\n",
       "0 2008-01-01  Menge              41             Alle Verkäufe        33  Friesenberg  BZO99   \n",
       "1 2008-01-01  Menge              41     Nur Stockwerkeigentum        33  Friesenberg  BZO99   \n",
       "2 2008-01-01  Menge              41  Nur ganze Liegenschaften        33  Friesenberg  BZO99   \n",
       "\n",
       "   sum_ALLE  sum_ZE  sum_W2  \n",
       "0         1       0       0  \n",
       "1         0       0       0  \n",
       "2         1       0       0  "
      ]
     },
     "execution_count": 143,
     "metadata": {},
     "output_type": "execute_result"
    }
   ],
   "source": [
    "myAggMenge = data2betested.loc[\"2008\":\"2021\"].query('Typ == \"Menge\" & Gebiet_n == \"Friesenberg\" & PreisreiheLang ==\"Preis pro m2 Grundstücksfläche\"')\\\n",
    "    .groupby(['Jahr','Typ','PreisreiheSort', 'ArtLang', 'Gebiet_s', 'Gebiet_n','BZO']) \\\n",
    "    .agg(sum_ALLE=('ALLE', 'sum'),sum_ZE=('ZE', 'sum'),sum_W2=('W2', 'sum')) \\\n",
    "    .sort_values('Jahr', ascending=True) \n",
    "\n",
    "myAggMenge.reset_index().head(3)"
   ]
  },
  {
   "cell_type": "code",
   "execution_count": 144,
   "metadata": {},
   "outputs": [
    {
     "data": {
      "text/html": [
       "\n",
       "<div id=\"altair-viz-696131fc20424c9a853dd8ca9721fd8f\"></div>\n",
       "<script type=\"text/javascript\">\n",
       "  (function(spec, embedOpt){\n",
       "    let outputDiv = document.currentScript.previousElementSibling;\n",
       "    if (outputDiv.id !== \"altair-viz-696131fc20424c9a853dd8ca9721fd8f\") {\n",
       "      outputDiv = document.getElementById(\"altair-viz-696131fc20424c9a853dd8ca9721fd8f\");\n",
       "    }\n",
       "    const paths = {\n",
       "      \"vega\": \"https://cdn.jsdelivr.net/npm//vega@5?noext\",\n",
       "      \"vega-lib\": \"https://cdn.jsdelivr.net/npm//vega-lib?noext\",\n",
       "      \"vega-lite\": \"https://cdn.jsdelivr.net/npm//vega-lite@4.8.1?noext\",\n",
       "      \"vega-embed\": \"https://cdn.jsdelivr.net/npm//vega-embed@6?noext\",\n",
       "    };\n",
       "\n",
       "    function loadScript(lib) {\n",
       "      return new Promise(function(resolve, reject) {\n",
       "        var s = document.createElement('script');\n",
       "        s.src = paths[lib];\n",
       "        s.async = true;\n",
       "        s.onload = () => resolve(paths[lib]);\n",
       "        s.onerror = () => reject(`Error loading script: ${paths[lib]}`);\n",
       "        document.getElementsByTagName(\"head\")[0].appendChild(s);\n",
       "      });\n",
       "    }\n",
       "\n",
       "    function showError(err) {\n",
       "      outputDiv.innerHTML = `<div class=\"error\" style=\"color:red;\">${err}</div>`;\n",
       "      throw err;\n",
       "    }\n",
       "\n",
       "    function displayChart(vegaEmbed) {\n",
       "      vegaEmbed(outputDiv, spec, embedOpt)\n",
       "        .catch(err => showError(`Javascript Error: ${err.message}<br>This usually means there's a typo in your chart specification. See the javascript console for the full traceback.`));\n",
       "    }\n",
       "\n",
       "    if(typeof define === \"function\" && define.amd) {\n",
       "      requirejs.config({paths});\n",
       "      require([\"vega-embed\"], displayChart, err => showError(`Error loading script: ${err.message}`));\n",
       "    } else if (typeof vegaEmbed === \"function\") {\n",
       "      displayChart(vegaEmbed);\n",
       "    } else {\n",
       "      loadScript(\"vega\")\n",
       "        .then(() => loadScript(\"vega-lite\"))\n",
       "        .then(() => loadScript(\"vega-embed\"))\n",
       "        .catch(showError)\n",
       "        .then(() => displayChart(vegaEmbed));\n",
       "    }\n",
       "  })({\"config\": {\"view\": {\"continuousWidth\": 400, \"continuousHeight\": 300}}, \"layer\": [{\"mark\": \"line\", \"encoding\": {\"color\": {\"type\": \"nominal\", \"field\": \"ArtLang\", \"legend\": {\"orient\": \"right\", \"title\": \"Art der HAE\"}}, \"size\": {\"condition\": {\"value\": 0.5, \"selection\": {\"not\": \"selector015\"}}, \"value\": 4}, \"tooltip\": [{\"type\": \"temporal\", \"field\": \"Jahr\"}, {\"type\": \"nominal\", \"field\": \"ArtLang\"}, {\"type\": \"quantitative\", \"field\": \"sum_ALLE\"}, {\"type\": \"quantitative\", \"field\": \"sum_ZE\"}, {\"type\": \"quantitative\", \"field\": \"sum_W2\"}], \"x\": {\"type\": \"temporal\", \"axis\": {\"title\": \"Jahr\"}, \"field\": \"Jahr\"}, \"y\": {\"type\": \"quantitative\", \"axis\": {\"title\": \"Anzahl HAE\"}, \"field\": \"sum_ALLE\"}}, \"selection\": {\"selector016\": {\"type\": \"interval\", \"bind\": \"scales\", \"encodings\": [\"x\", \"y\"]}}, \"title\": \"Anzahl Hand\\u00e4nderungen im Friesenberg\"}, {\"mark\": \"circle\", \"encoding\": {\"color\": {\"type\": \"nominal\", \"field\": \"ArtLang\", \"legend\": {\"orient\": \"right\", \"title\": \"Art der HAE\"}}, \"opacity\": {\"value\": 0.75}, \"tooltip\": [{\"type\": \"temporal\", \"field\": \"Jahr\"}, {\"type\": \"nominal\", \"field\": \"ArtLang\"}, {\"type\": \"quantitative\", \"field\": \"sum_ALLE\"}, {\"type\": \"quantitative\", \"field\": \"sum_ZE\"}, {\"type\": \"quantitative\", \"field\": \"sum_W2\"}], \"x\": {\"type\": \"temporal\", \"axis\": {\"title\": \"Jahr\"}, \"field\": \"Jahr\"}, \"y\": {\"type\": \"quantitative\", \"axis\": {\"title\": \"Anzahl HAE\"}, \"field\": \"sum_ALLE\"}}, \"height\": 350, \"selection\": {\"selector015\": {\"type\": \"single\", \"on\": \"mouseover\", \"fields\": [\"ArtLang\"], \"nearest\": true}}, \"title\": \"Anzahl Hand\\u00e4nderungen im Friesenberg\", \"width\": 750}], \"data\": {\"name\": \"data-4f121dddd71c4f9f2d91607a0b85a57f\"}, \"$schema\": \"https://vega.github.io/schema/vega-lite/v4.8.1.json\", \"datasets\": {\"data-4f121dddd71c4f9f2d91607a0b85a57f\": [{\"Jahr\": \"2009-01-01T00:00:00\", \"Typ\": \"Menge\", \"PreisreiheSort\": 41, \"ArtLang\": \"Alle Verk\\u00e4ufe\", \"Gebiet_s\": 33, \"Gebiet_n\": \"Friesenberg\", \"BZO\": \"BZO99\", \"sum_ALLE\": 12.0, \"sum_ZE\": 0.0, \"sum_W2\": 0.0}, {\"Jahr\": \"2009-01-01T00:00:00\", \"Typ\": \"Menge\", \"PreisreiheSort\": 41, \"ArtLang\": \"Nur Stockwerkeigentum\", \"Gebiet_s\": 33, \"Gebiet_n\": \"Friesenberg\", \"BZO\": \"BZO99\", \"sum_ALLE\": 7.0, \"sum_ZE\": 0.0, \"sum_W2\": 0.0}, {\"Jahr\": \"2009-01-01T00:00:00\", \"Typ\": \"Menge\", \"PreisreiheSort\": 41, \"ArtLang\": \"Nur ganze Liegenschaften\", \"Gebiet_s\": 33, \"Gebiet_n\": \"Friesenberg\", \"BZO\": \"BZO99\", \"sum_ALLE\": 5.0, \"sum_ZE\": 0.0, \"sum_W2\": 0.0}, {\"Jahr\": \"2010-01-01T00:00:00\", \"Typ\": \"Menge\", \"PreisreiheSort\": 41, \"ArtLang\": \"Alle Verk\\u00e4ufe\", \"Gebiet_s\": 33, \"Gebiet_n\": \"Friesenberg\", \"BZO\": \"BZO99\", \"sum_ALLE\": 10.0, \"sum_ZE\": 0.0, \"sum_W2\": 0.0}, {\"Jahr\": \"2010-01-01T00:00:00\", \"Typ\": \"Menge\", \"PreisreiheSort\": 41, \"ArtLang\": \"Nur ganze Liegenschaften\", \"Gebiet_s\": 33, \"Gebiet_n\": \"Friesenberg\", \"BZO\": \"BZO99\", \"sum_ALLE\": 8.0, \"sum_ZE\": 0.0, \"sum_W2\": 0.0}, {\"Jahr\": \"2011-01-01T00:00:00\", \"Typ\": \"Menge\", \"PreisreiheSort\": 41, \"ArtLang\": \"Nur ganze Liegenschaften\", \"Gebiet_s\": 33, \"Gebiet_n\": \"Friesenberg\", \"BZO\": \"BZO99\", \"sum_ALLE\": 6.0, \"sum_ZE\": 0.0, \"sum_W2\": 0.0}, {\"Jahr\": \"2011-01-01T00:00:00\", \"Typ\": \"Menge\", \"PreisreiheSort\": 41, \"ArtLang\": \"Alle Verk\\u00e4ufe\", \"Gebiet_s\": 33, \"Gebiet_n\": \"Friesenberg\", \"BZO\": \"BZO99\", \"sum_ALLE\": 18.0, \"sum_ZE\": 0.0, \"sum_W2\": 0.0}, {\"Jahr\": \"2011-01-01T00:00:00\", \"Typ\": \"Menge\", \"PreisreiheSort\": 41, \"ArtLang\": \"Nur Stockwerkeigentum\", \"Gebiet_s\": 33, \"Gebiet_n\": \"Friesenberg\", \"BZO\": \"BZO99\", \"sum_ALLE\": 10.0, \"sum_ZE\": 0.0, \"sum_W2\": 0.0}, {\"Jahr\": \"2012-01-01T00:00:00\", \"Typ\": \"Menge\", \"PreisreiheSort\": 41, \"ArtLang\": \"Alle Verk\\u00e4ufe\", \"Gebiet_s\": 33, \"Gebiet_n\": \"Friesenberg\", \"BZO\": \"BZO99\", \"sum_ALLE\": 5.0, \"sum_ZE\": 0.0, \"sum_W2\": 0.0}, {\"Jahr\": \"2012-01-01T00:00:00\", \"Typ\": \"Menge\", \"PreisreiheSort\": 41, \"ArtLang\": \"Nur ganze Liegenschaften\", \"Gebiet_s\": 33, \"Gebiet_n\": \"Friesenberg\", \"BZO\": \"BZO99\", \"sum_ALLE\": 5.0, \"sum_ZE\": 0.0, \"sum_W2\": 0.0}, {\"Jahr\": \"2013-01-01T00:00:00\", \"Typ\": \"Menge\", \"PreisreiheSort\": 41, \"ArtLang\": \"Nur ganze Liegenschaften\", \"Gebiet_s\": 33, \"Gebiet_n\": \"Friesenberg\", \"BZO\": \"BZO99\", \"sum_ALLE\": 4.0, \"sum_ZE\": 0.0, \"sum_W2\": 0.0}, {\"Jahr\": \"2013-01-01T00:00:00\", \"Typ\": \"Menge\", \"PreisreiheSort\": 41, \"ArtLang\": \"Alle Verk\\u00e4ufe\", \"Gebiet_s\": 33, \"Gebiet_n\": \"Friesenberg\", \"BZO\": \"BZO99\", \"sum_ALLE\": 5.0, \"sum_ZE\": 0.0, \"sum_W2\": 0.0}, {\"Jahr\": \"2014-01-01T00:00:00\", \"Typ\": \"Menge\", \"PreisreiheSort\": 41, \"ArtLang\": \"Nur ganze Liegenschaften\", \"Gebiet_s\": 33, \"Gebiet_n\": \"Friesenberg\", \"BZO\": \"BZO99\", \"sum_ALLE\": 5.0, \"sum_ZE\": 0.0, \"sum_W2\": 0.0}, {\"Jahr\": \"2014-01-01T00:00:00\", \"Typ\": \"Menge\", \"PreisreiheSort\": 41, \"ArtLang\": \"Alle Verk\\u00e4ufe\", \"Gebiet_s\": 33, \"Gebiet_n\": \"Friesenberg\", \"BZO\": \"BZO99\", \"sum_ALLE\": 6.0, \"sum_ZE\": 0.0, \"sum_W2\": 0.0}, {\"Jahr\": \"2015-01-01T00:00:00\", \"Typ\": \"Menge\", \"PreisreiheSort\": 41, \"ArtLang\": \"Alle Verk\\u00e4ufe\", \"Gebiet_s\": 33, \"Gebiet_n\": \"Friesenberg\", \"BZO\": \"BZO99\", \"sum_ALLE\": 10.0, \"sum_ZE\": 0.0, \"sum_W2\": 0.0}, {\"Jahr\": \"2015-01-01T00:00:00\", \"Typ\": \"Menge\", \"PreisreiheSort\": 41, \"ArtLang\": \"Nur Stockwerkeigentum\", \"Gebiet_s\": 33, \"Gebiet_n\": \"Friesenberg\", \"BZO\": \"BZO99\", \"sum_ALLE\": 5.0, \"sum_ZE\": 0.0, \"sum_W2\": 0.0}, {\"Jahr\": \"2015-01-01T00:00:00\", \"Typ\": \"Menge\", \"PreisreiheSort\": 41, \"ArtLang\": \"Nur ganze Liegenschaften\", \"Gebiet_s\": 33, \"Gebiet_n\": \"Friesenberg\", \"BZO\": \"BZO99\", \"sum_ALLE\": 5.0, \"sum_ZE\": 0.0, \"sum_W2\": 0.0}, {\"Jahr\": \"2016-01-01T00:00:00\", \"Typ\": \"Menge\", \"PreisreiheSort\": 41, \"ArtLang\": \"Alle Verk\\u00e4ufe\", \"Gebiet_s\": 33, \"Gebiet_n\": \"Friesenberg\", \"BZO\": \"BZO99\", \"sum_ALLE\": 7.0, \"sum_ZE\": 0.0, \"sum_W2\": 0.0}, {\"Jahr\": \"2016-01-01T00:00:00\", \"Typ\": \"Menge\", \"PreisreiheSort\": 41, \"ArtLang\": \"Nur Stockwerkeigentum\", \"Gebiet_s\": 33, \"Gebiet_n\": \"Friesenberg\", \"BZO\": \"BZO99\", \"sum_ALLE\": 3.0, \"sum_ZE\": 0.0, \"sum_W2\": 0.0}, {\"Jahr\": \"2016-01-01T00:00:00\", \"Typ\": \"Menge\", \"PreisreiheSort\": 41, \"ArtLang\": \"Nur ganze Liegenschaften\", \"Gebiet_s\": 33, \"Gebiet_n\": \"Friesenberg\", \"BZO\": \"BZO99\", \"sum_ALLE\": 3.0, \"sum_ZE\": 0.0, \"sum_W2\": 0.0}, {\"Jahr\": \"2017-01-01T00:00:00\", \"Typ\": \"Menge\", \"PreisreiheSort\": 41, \"ArtLang\": \"Nur ganze Liegenschaften\", \"Gebiet_s\": 33, \"Gebiet_n\": \"Friesenberg\", \"BZO\": \"BZO99\", \"sum_ALLE\": 5.0, \"sum_ZE\": 0.0, \"sum_W2\": 0.0}, {\"Jahr\": \"2017-01-01T00:00:00\", \"Typ\": \"Menge\", \"PreisreiheSort\": 41, \"ArtLang\": \"Alle Verk\\u00e4ufe\", \"Gebiet_s\": 33, \"Gebiet_n\": \"Friesenberg\", \"BZO\": \"BZO99\", \"sum_ALLE\": 5.0, \"sum_ZE\": 0.0, \"sum_W2\": 0.0}, {\"Jahr\": \"2018-01-01T00:00:00\", \"Typ\": \"Menge\", \"PreisreiheSort\": 41, \"ArtLang\": \"Nur ganze Liegenschaften\", \"Gebiet_s\": 33, \"Gebiet_n\": \"Friesenberg\", \"BZO\": \"BZO99\", \"sum_ALLE\": 5.0, \"sum_ZE\": 0.0, \"sum_W2\": 0.0}, {\"Jahr\": \"2018-01-01T00:00:00\", \"Typ\": \"Menge\", \"PreisreiheSort\": 41, \"ArtLang\": \"Alle Verk\\u00e4ufe\", \"Gebiet_s\": 33, \"Gebiet_n\": \"Friesenberg\", \"BZO\": \"BZO99\", \"sum_ALLE\": 6.0, \"sum_ZE\": 0.0, \"sum_W2\": 0.0}, {\"Jahr\": \"2019-01-01T00:00:00\", \"Typ\": \"Menge\", \"PreisreiheSort\": 41, \"ArtLang\": \"Alle Verk\\u00e4ufe\", \"Gebiet_s\": 33, \"Gebiet_n\": \"Friesenberg\", \"BZO\": \"BZO16\", \"sum_ALLE\": 7.0, \"sum_ZE\": 0.0, \"sum_W2\": 0.0}, {\"Jahr\": \"2019-01-01T00:00:00\", \"Typ\": \"Menge\", \"PreisreiheSort\": 41, \"ArtLang\": \"Nur Stockwerkeigentum\", \"Gebiet_s\": 33, \"Gebiet_n\": \"Friesenberg\", \"BZO\": \"BZO16\", \"sum_ALLE\": 5.0, \"sum_ZE\": 0.0, \"sum_W2\": 0.0}, {\"Jahr\": \"2019-01-01T00:00:00\", \"Typ\": \"Menge\", \"PreisreiheSort\": 41, \"ArtLang\": \"Nur ganze Liegenschaften\", \"Gebiet_s\": 33, \"Gebiet_n\": \"Friesenberg\", \"BZO\": \"BZO16\", \"sum_ALLE\": 2.0, \"sum_ZE\": 0.0, \"sum_W2\": 0.0}, {\"Jahr\": \"2020-01-01T00:00:00\", \"Typ\": \"Menge\", \"PreisreiheSort\": 41, \"ArtLang\": \"Alle Verk\\u00e4ufe\", \"Gebiet_s\": 33, \"Gebiet_n\": \"Friesenberg\", \"BZO\": \"BZO16\", \"sum_ALLE\": 5.0, \"sum_ZE\": 0.0, \"sum_W2\": 0.0}, {\"Jahr\": \"2020-01-01T00:00:00\", \"Typ\": \"Menge\", \"PreisreiheSort\": 41, \"ArtLang\": \"Nur ganze Liegenschaften\", \"Gebiet_s\": 33, \"Gebiet_n\": \"Friesenberg\", \"BZO\": \"BZO16\", \"sum_ALLE\": 5.0, \"sum_ZE\": 0.0, \"sum_W2\": 0.0}, {\"Jahr\": \"2021-01-01T00:00:00\", \"Typ\": \"Menge\", \"PreisreiheSort\": 41, \"ArtLang\": \"Nur Stockwerkeigentum\", \"Gebiet_s\": 33, \"Gebiet_n\": \"Friesenberg\", \"BZO\": \"BZO16\", \"sum_ALLE\": 2.0, \"sum_ZE\": 0.0, \"sum_W2\": 0.0}, {\"Jahr\": \"2021-01-01T00:00:00\", \"Typ\": \"Menge\", \"PreisreiheSort\": 41, \"ArtLang\": \"Alle Verk\\u00e4ufe\", \"Gebiet_s\": 33, \"Gebiet_n\": \"Friesenberg\", \"BZO\": \"BZO16\", \"sum_ALLE\": 6.0, \"sum_ZE\": 0.0, \"sum_W2\": 1.0}, {\"Jahr\": \"2021-01-01T00:00:00\", \"Typ\": \"Menge\", \"PreisreiheSort\": 41, \"ArtLang\": \"Nur ganze Liegenschaften\", \"Gebiet_s\": 33, \"Gebiet_n\": \"Friesenberg\", \"BZO\": \"BZO16\", \"sum_ALLE\": 4.0, \"sum_ZE\": 0.0, \"sum_W2\": 1.0}]}}, {\"mode\": \"vega-lite\"});\n",
       "</script>"
      ],
      "text/plain": [
       "alt.LayerChart(...)"
      ]
     },
     "execution_count": 144,
     "metadata": {},
     "output_type": "execute_result"
    }
   ],
   "source": [
    "myTitle=\"Anzahl Handänderungen im Friesenberg\"\n",
    "\n",
    "highlight = alt.selection(type='single', on='mouseover',\n",
    "                          fields=['ArtLang'], nearest=True)\n",
    "#x='date:StichtagDatJahr',\n",
    "base = alt.Chart(myAggMenge.reset_index().query('sum_ALLE > 1'), title=myTitle).encode(\n",
    "    x=alt.X('Jahr', axis=alt.Axis(title='Jahr'))# , axis=alt.Axis(format='%', title='percentage')\n",
    "    , y=alt.X('sum_ALLE', axis=alt.Axis(title='Anzahl HAE'))\n",
    "    , color=alt.Color('ArtLang', legend=alt.Legend(title=\"Art der HAE\", orient=\"right\"))  \n",
    "    ,tooltip=['Jahr', 'ArtLang','sum_ALLE', 'sum_ZE', 'sum_W2']    \n",
    ")\n",
    "points = base.mark_circle().encode(\n",
    "    opacity=alt.value(0.75)\n",
    ").add_selection(\n",
    "    highlight\n",
    ").properties(\n",
    "    width=750 , height=350\n",
    ")\n",
    "lines = base.mark_line().encode(\n",
    "    size=alt.condition(~highlight, alt.value(0.5), alt.value(4))\n",
    ").interactive()\n",
    "\n",
    "lines + points"
   ]
  },
  {
   "cell_type": "markdown",
   "metadata": {},
   "source": [
    "## ---------------------- hier Plausi beendet\n",
    "\n",
    "Liniendiagramm \n",
    "[Link zur Doku](https://altair-viz.github.io/gallery/multiline_highlight.html)"
   ]
  },
  {
   "cell_type": "markdown",
   "metadata": {},
   "source": [
    "**Sharepoint als gecheckt markieren!**"
   ]
  },
  {
   "cell_type": "markdown",
   "metadata": {
    "tags": []
   },
   "source": [
    "Record auf Sharepoint: **[Link](http://kollaboration.intranet.stzh.ch/orga/ssz-produkte/Lists/SASA_Outputs/EditForm.aspx?ID=157&Source=%2Forga%2Fssz%2Dprodukte%2FLists%2FSASA%5FOutputs)**\n",
    "\n",
    "-------------------------------------------------------"
   ]
  },
  {
   "cell_type": "markdown",
   "metadata": {
    "tags": []
   },
   "source": [
    "#### Barcharts mit Seaborn"
   ]
  },
  {
   "cell_type": "code",
   "execution_count": 61,
   "metadata": {},
   "outputs": [
    {
     "data": {
      "text/html": [
       "<div>\n",
       "<style scoped>\n",
       "    .dataframe tbody tr th:only-of-type {\n",
       "        vertical-align: middle;\n",
       "    }\n",
       "\n",
       "    .dataframe tbody tr th {\n",
       "        vertical-align: top;\n",
       "    }\n",
       "\n",
       "    .dataframe thead th {\n",
       "        text-align: right;\n",
       "    }\n",
       "</style>\n",
       "<table border=\"1\" class=\"dataframe\">\n",
       "  <thead>\n",
       "    <tr style=\"text-align: right;\">\n",
       "      <th></th>\n",
       "      <th>Jahr</th>\n",
       "      <th>KreisLang</th>\n",
       "      <th>ProjStatus</th>\n",
       "      <th>sum_ProjAnzGbd</th>\n",
       "      <th>sum_ProjAnzWhg</th>\n",
       "    </tr>\n",
       "  </thead>\n",
       "  <tbody>\n",
       "    <tr>\n",
       "      <th>0</th>\n",
       "      <td>2021-01-01</td>\n",
       "      <td>Kreis 1</td>\n",
       "      <td>Fertigerstellt</td>\n",
       "      <td>0</td>\n",
       "      <td>0</td>\n",
       "    </tr>\n",
       "    <tr>\n",
       "      <th>1</th>\n",
       "      <td>2021-01-01</td>\n",
       "      <td>Kreis 9</td>\n",
       "      <td>Bewilligt</td>\n",
       "      <td>74</td>\n",
       "      <td>602</td>\n",
       "    </tr>\n",
       "    <tr>\n",
       "      <th>2</th>\n",
       "      <td>2021-01-01</td>\n",
       "      <td>Kreis 8</td>\n",
       "      <td>Im Bau</td>\n",
       "      <td>37</td>\n",
       "      <td>98</td>\n",
       "    </tr>\n",
       "  </tbody>\n",
       "</table>\n",
       "</div>"
      ],
      "text/plain": [
       "        Jahr KreisLang      ProjStatus  sum_ProjAnzGbd  sum_ProjAnzWhg\n",
       "0 2021-01-01   Kreis 1  Fertigerstellt               0               0\n",
       "1 2021-01-01   Kreis 9       Bewilligt              74             602\n",
       "2 2021-01-01   Kreis 8          Im Bau              37              98"
      ]
     },
     "execution_count": 61,
     "metadata": {},
     "output_type": "execute_result"
    }
   ],
   "source": [
    "#myAgg = data2betested.loc[\"2008-11-30\":\"2021-10-31\"]\n",
    "myAggBar = data2betested.loc[\"2021\"]\\\n",
    "    .groupby(['Jahr', 'KreisLang', 'ProjStatus']) \\\n",
    "    .agg(sum_ProjAnzGbd=('ProjAnzGbd', 'sum'),sum_ProjAnzWhg=('ProjAnzWhg', 'sum')) \\\n",
    "    .sort_values('Jahr', ascending=True) \n",
    "\n",
    "myAggBar.reset_index().head(3)"
   ]
  },
  {
   "cell_type": "code",
   "execution_count": 62,
   "metadata": {},
   "outputs": [],
   "source": [
    "#help(sns.catplot)     "
   ]
  },
  {
   "cell_type": "code",
   "execution_count": 63,
   "metadata": {},
   "outputs": [],
   "source": [
    "#Stile for the following sns graphs\n",
    "sns.set_theme(style=\"whitegrid\")"
   ]
  },
  {
   "cell_type": "code",
   "execution_count": 64,
   "metadata": {},
   "outputs": [
    {
     "data": {
      "text/plain": [
       "<seaborn.axisgrid.FacetGrid at 0x2113eabc108>"
      ]
     },
     "execution_count": 64,
     "metadata": {},
     "output_type": "execute_result"
    },
    {
     "data": {
      "image/png": "[encoded data removed]",
      "text/plain": [
       "<Figure size 820.475x360 with 1 Axes>"
      ]
     },
     "metadata": {},
     "output_type": "display_data"
    }
   ],
   "source": [
    "#sns.color_palette(\"flare\", as_cmap=True)\n",
    "myHist = sns.catplot(x=\"KreisLang\"\n",
    "            , y=\"sum_ProjAnzWhg\"\n",
    "            , hue=\"ProjStatus\"\n",
    "            , kind=\"bar\" #boxen, violin, --> wenn die aggregation nicht genau den werten in der grafik entspricht\n",
    "            , palette=\"pastel\" #, color=\"green\"\n",
    "            , height=5\n",
    "            , aspect=2\n",
    "            , order=None, legend_out=True\n",
    "            ,data=myAggBar.reset_index()\n",
    "           )\n",
    "myHist.set_xlabels('Stadtkreis', fontsize=11) # not set_label\n",
    "myHist.set_ylabels('Anz. Wohnungen', fontsize=11)\n"
   ]
  },
  {
   "cell_type": "code",
   "execution_count": 65,
   "metadata": {},
   "outputs": [],
   "source": [
    "#data2betested.dtypes"
   ]
  },
  {
   "cell_type": "code",
   "execution_count": 66,
   "metadata": {},
   "outputs": [
    {
     "name": "stderr",
     "output_type": "stream",
     "text": [
      "C:\\ProgramData\\Anaconda3\\envs\\gogo_gis\\lib\\site-packages\\ipykernel_launcher.py:1: FutureWarning: Value based partial slicing on non-monotonic DatetimeIndexes with non-existing keys is deprecated and will raise a KeyError in a future Version.\n",
      "  \"\"\"Entry point for launching an IPython kernel.\n"
     ]
    }
   ],
   "source": [
    "myAggBar = data2betested.loc[\"2000\":\"2021\"]\\\n",
    "    .groupby(['Jahr', 'QuarLang', 'ProjStatus']) \\\n",
    "    .agg(sum_ProjAnzGbd=('ProjAnzGbd', 'sum'),sum_ProjAnzWhg=('ProjAnzWhg', 'sum')) \\\n",
    "    .sort_values('Jahr', ascending=True) "
   ]
  },
  {
   "cell_type": "code",
   "execution_count": 67,
   "metadata": {},
   "outputs": [],
   "source": [
    "#myAggBar.reset_index()"
   ]
  },
  {
   "cell_type": "code",
   "execution_count": 68,
   "metadata": {},
   "outputs": [
    {
     "data": {
      "text/plain": [
       "<seaborn.axisgrid.FacetGrid at 0x211408fd8c8>"
      ]
     },
     "execution_count": 68,
     "metadata": {},
     "output_type": "execute_result"
    },
    {
     "data": {
      "image/png": "[encoded data removed]",
      "text/plain": [
       "<Figure size 1396.47x1296 with 34 Axes>"
      ]
     },
     "metadata": {},
     "output_type": "display_data"
    }
   ],
   "source": [
    "g = sns.FacetGrid(myAggBar.reset_index(), col=\"QuarLang\", hue=\"ProjStatus\", col_wrap=6, height=3,)\n",
    "#g.map(sns.scatterplot, \"Jahr\", \"sum_ProjAnzWhg\", alpha=.8)\n",
    "g.map(sns.lineplot, \"Jahr\",\"sum_ProjAnzWhg\",alpha=.8)\n",
    "\n",
    "g.add_legend()"
   ]
  },
  {
   "cell_type": "code",
   "execution_count": null,
   "metadata": {},
   "outputs": [],
   "source": []
  },
  {
   "cell_type": "markdown",
   "metadata": {},
   "source": [
    "### Daten in interaktiver Treemap zeigen\n",
    "Dazu gibt es eine sehr nützliche Webseite https://plotly.com/python/treemaps/\n",
    "Zu Farbskalen, siehe: https://plotly.com/python/builtin-colorscales/"
   ]
  },
  {
   "cell_type": "markdown",
   "metadata": {},
   "source": [
    "#### Anzahl Wohnungen in BAUPROJEKTEN nach Projektstatus, Kreis und Quartier 2021"
   ]
  },
  {
   "cell_type": "code",
   "execution_count": 54,
   "metadata": {},
   "outputs": [
    {
     "data": {
      "text/plain": [
       "QuarSort           int64\n",
       "QuarLang          object\n",
       "KreisSort          int64\n",
       "KreisLang         object\n",
       "ProjStatus        object\n",
       "ProjAnzGbd         int64\n",
       "ProjKosten         int64\n",
       "ProjRauminhalt     int64\n",
       "ProjAnzWhg         int64\n",
       "Whg_1_3_Zi         int64\n",
       "Whg_4plus_Zi       int64\n",
       "Jahr_str          object\n",
       "dtype: object"
      ]
     },
     "execution_count": 54,
     "metadata": {},
     "output_type": "execute_result"
    }
   ],
   "source": [
    "data2betested.dtypes"
   ]
  },
  {
   "cell_type": "code",
   "execution_count": 55,
   "metadata": {
    "tags": []
   },
   "outputs": [
    {
     "data": {
      "text/html": [
       "<div>\n",
       "<style scoped>\n",
       "    .dataframe tbody tr th:only-of-type {\n",
       "        vertical-align: middle;\n",
       "    }\n",
       "\n",
       "    .dataframe tbody tr th {\n",
       "        vertical-align: top;\n",
       "    }\n",
       "\n",
       "    .dataframe thead th {\n",
       "        text-align: right;\n",
       "    }\n",
       "</style>\n",
       "<table border=\"1\" class=\"dataframe\">\n",
       "  <thead>\n",
       "    <tr style=\"text-align: right;\">\n",
       "      <th></th>\n",
       "      <th>Jahr</th>\n",
       "      <th>QuarLang</th>\n",
       "      <th>KreisLang</th>\n",
       "      <th>ProjStatus</th>\n",
       "      <th>sum_ProjAnzGbd</th>\n",
       "      <th>sum_ProjAnzWhg</th>\n",
       "    </tr>\n",
       "  </thead>\n",
       "  <tbody>\n",
       "    <tr>\n",
       "      <th>0</th>\n",
       "      <td>2021-01-01</td>\n",
       "      <td>Seebach</td>\n",
       "      <td>Kreis 11</td>\n",
       "      <td>Im Bau</td>\n",
       "      <td>184</td>\n",
       "      <td>1659</td>\n",
       "    </tr>\n",
       "    <tr>\n",
       "      <th>1</th>\n",
       "      <td>2021-01-01</td>\n",
       "      <td>Wollishofen</td>\n",
       "      <td>Kreis 2</td>\n",
       "      <td>Im Bau</td>\n",
       "      <td>63</td>\n",
       "      <td>796</td>\n",
       "    </tr>\n",
       "    <tr>\n",
       "      <th>2</th>\n",
       "      <td>2021-01-01</td>\n",
       "      <td>Altstetten</td>\n",
       "      <td>Kreis 9</td>\n",
       "      <td>Im Bau</td>\n",
       "      <td>113</td>\n",
       "      <td>782</td>\n",
       "    </tr>\n",
       "  </tbody>\n",
       "</table>\n",
       "</div>"
      ],
      "text/plain": [
       "        Jahr     QuarLang KreisLang ProjStatus  sum_ProjAnzGbd  sum_ProjAnzWhg\n",
       "0 2021-01-01      Seebach  Kreis 11     Im Bau             184            1659\n",
       "1 2021-01-01  Wollishofen   Kreis 2     Im Bau              63             796\n",
       "2 2021-01-01   Altstetten   Kreis 9     Im Bau             113             782"
      ]
     },
     "execution_count": 55,
     "metadata": {},
     "output_type": "execute_result"
    }
   ],
   "source": [
    "myTreemapAgg = data2betested.loc[\"2021\"]  \\\n",
    "    .groupby(['Jahr', 'QuarLang', 'KreisLang', 'ProjStatus']) \\\n",
    "    .agg(sum_ProjAnzGbd=('ProjAnzGbd', 'sum'),sum_ProjAnzWhg=('ProjAnzWhg', 'sum'))\\\n",
    "    .sort_values('sum_ProjAnzWhg', ascending=False) \n",
    "\n",
    "myTreemapAgg.reset_index().head(3)"
   ]
  },
  {
   "cell_type": "code",
   "execution_count": 56,
   "metadata": {},
   "outputs": [
    {
     "data": {
      "application/vnd.plotly.v1+json": {
       "config": {
        "plotlyServerURL": "https://plot.ly"
       },
       "data": [
        {
         "branchvalues": "total",
         "customdata": [
          [
           17
          ],
          [
           58
          ],
          [
           567
          ],
          [
           173
          ],
          [
           89
          ],
          [
           652
          ],
          [
           395
          ],
          [
           5
          ],
          [
           73
          ],
          [
           429
          ],
          [
           384
          ],
          [
           782
          ],
          [
           92
          ],
          [
           18
          ],
          [
           15
          ],
          [
           189
          ],
          [
           21
          ],
          [
           32
          ],
          [
           57
          ],
          [
           3
          ],
          [
           48
          ],
          [
           55
          ],
          [
           64
          ],
          [
           76
          ],
          [
           325
          ],
          [
           33
          ],
          [
           2
          ],
          [
           111
          ],
          [
           29
          ],
          [
           192
          ],
          [
           13
          ],
          [
           10
          ],
          [
           66
          ],
          [
           31
          ],
          [
           63
          ],
          [
           145
          ],
          [
           15
          ],
          [
           105
          ],
          [
           9
          ],
          [
           140
          ],
          [
           48
          ],
          [
           51
          ],
          [
           17
          ],
          [
           37
          ],
          [
           37
          ],
          [
           110
          ],
          [
           58
          ],
          [
           152
          ],
          [
           3
          ],
          [
           14
          ],
          [
           371
          ],
          [
           50
          ],
          [
           214
          ],
          [
           1659
          ],
          [
           121
          ],
          [
           15
          ],
          [
           61
          ],
          [
           17
          ],
          [
           107
          ],
          [
           160
          ],
          [
           179
          ],
          [
           168
          ],
          [
           11
          ],
          [
           32
          ],
          [
           74
          ],
          [
           80
          ],
          [
           12
          ],
          [
           52
          ],
          [
           23
          ],
          [
           67
          ],
          [
           51
          ],
          [
           25
          ],
          [
           260
          ],
          [
           156
          ],
          [
           214
          ],
          [
           796
          ],
          [
           44.1566265060241
          ],
          [
           52.30232558139535
          ],
          [
           120.34905660377359
          ],
          [
           84.11864406779661
          ],
          [
           159.16363636363636
          ],
          [
           1302.3019343986543
          ],
          [
           26.5625
          ],
          [
           14
          ],
          [
           309.955595026643
          ],
          [
           127.94163424124514
          ],
          [
           176.66666666666666
          ],
          [
           740.5646100116414
          ],
          [
           348.05010893246185
          ],
          [
           14.272727272727273
          ],
          [
           83.69298245614036
          ],
          [
           74
          ],
          [
           72.52046783625731
          ],
          [
           264.23981900452486
          ],
          [
           55
          ],
          [
           157.37944664031622
          ],
          [
           146.26553672316385
          ],
          [
           154.67592592592592
          ],
          [
           144.3560975609756
          ],
          [
           36.440677966101696
          ],
          [
           25.405797101449274
          ],
          [
           177.17813765182186
          ],
          [
           11
          ],
          [
           121
          ],
          [
           39.285714285714285
          ],
          [
           355.43189368770766
          ],
          [
           328.492600422833
          ],
          [
           722.8926080892608
          ],
          [
           232.05829145728643
          ],
          [
           178.25764644893727
          ],
          [
           734.9048283561261
          ],
          [
           547.7657194406856
          ]
         ],
         "domain": {
          "x": [
           0,
           1
          ],
          "y": [
           0,
           1
          ]
         },
         "hovertemplate": "labels=%{label}<br>sum_ProjAnzWhg_sum=%{value}<br>parent=%{parent}<br>id=%{id}<br>sum_ProjAnzWhg=%{color}<extra></extra>",
         "ids": [
          "Anzahl Wohnungen nach Projektstatus, Kreis und Quartier/Bewilligt/Kreis 11/Affoltern",
          "Anzahl Wohnungen nach Projektstatus, Kreis und Quartier/Fertigerstellt/Kreis 11/Affoltern",
          "Anzahl Wohnungen nach Projektstatus, Kreis und Quartier/Im Bau/Kreis 11/Affoltern",
          "Anzahl Wohnungen nach Projektstatus, Kreis und Quartier/Bewilligt/Kreis 9/Albisrieden",
          "Anzahl Wohnungen nach Projektstatus, Kreis und Quartier/Fertigerstellt/Kreis 9/Albisrieden",
          "Anzahl Wohnungen nach Projektstatus, Kreis und Quartier/Im Bau/Kreis 9/Albisrieden",
          "Anzahl Wohnungen nach Projektstatus, Kreis und Quartier/Bewilligt/Kreis 3/Alt-Wiedikon",
          "Anzahl Wohnungen nach Projektstatus, Kreis und Quartier/Fertigerstellt/Kreis 3/Alt-Wiedikon",
          "Anzahl Wohnungen nach Projektstatus, Kreis und Quartier/Im Bau/Kreis 3/Alt-Wiedikon",
          "Anzahl Wohnungen nach Projektstatus, Kreis und Quartier/Bewilligt/Kreis 9/Altstetten",
          "Anzahl Wohnungen nach Projektstatus, Kreis und Quartier/Fertigerstellt/Kreis 9/Altstetten",
          "Anzahl Wohnungen nach Projektstatus, Kreis und Quartier/Im Bau/Kreis 9/Altstetten",
          "Anzahl Wohnungen nach Projektstatus, Kreis und Quartier/Bewilligt/Kreis 2/Enge",
          "Anzahl Wohnungen nach Projektstatus, Kreis und Quartier/Fertigerstellt/Kreis 2/Enge",
          "Anzahl Wohnungen nach Projektstatus, Kreis und Quartier/Im Bau/Kreis 2/Enge",
          "Anzahl Wohnungen nach Projektstatus, Kreis und Quartier/Im Bau/Kreis 5/Escher Wyss",
          "Anzahl Wohnungen nach Projektstatus, Kreis und Quartier/Bewilligt/Kreis 7/Fluntern",
          "Anzahl Wohnungen nach Projektstatus, Kreis und Quartier/Fertigerstellt/Kreis 7/Fluntern",
          "Anzahl Wohnungen nach Projektstatus, Kreis und Quartier/Im Bau/Kreis 7/Fluntern",
          "Anzahl Wohnungen nach Projektstatus, Kreis und Quartier/Bewilligt/Kreis 3/Friesenberg",
          "Anzahl Wohnungen nach Projektstatus, Kreis und Quartier/Im Bau/Kreis 3/Friesenberg",
          "Anzahl Wohnungen nach Projektstatus, Kreis und Quartier/Fertigerstellt/Kreis 5/Gewerbeschule",
          "Anzahl Wohnungen nach Projektstatus, Kreis und Quartier/Im Bau/Kreis 5/Gewerbeschule",
          "Anzahl Wohnungen nach Projektstatus, Kreis und Quartier/Fertigerstellt/Kreis 4/Hard",
          "Anzahl Wohnungen nach Projektstatus, Kreis und Quartier/Im Bau/Kreis 4/Hard",
          "Anzahl Wohnungen nach Projektstatus, Kreis und Quartier/Bewilligt/Kreis 7/Hirslanden",
          "Anzahl Wohnungen nach Projektstatus, Kreis und Quartier/Fertigerstellt/Kreis 7/Hirslanden",
          "Anzahl Wohnungen nach Projektstatus, Kreis und Quartier/Im Bau/Kreis 7/Hirslanden",
          "Anzahl Wohnungen nach Projektstatus, Kreis und Quartier/Bewilligt/Kreis 12/Hirzenbach",
          "Anzahl Wohnungen nach Projektstatus, Kreis und Quartier/Im Bau/Kreis 12/Hirzenbach",
          "Anzahl Wohnungen nach Projektstatus, Kreis und Quartier/Bewilligt/Kreis 7/Hottingen",
          "Anzahl Wohnungen nach Projektstatus, Kreis und Quartier/Fertigerstellt/Kreis 7/Hottingen",
          "Anzahl Wohnungen nach Projektstatus, Kreis und Quartier/Im Bau/Kreis 7/Hottingen",
          "Anzahl Wohnungen nach Projektstatus, Kreis und Quartier/Bewilligt/Kreis 10/Höngg",
          "Anzahl Wohnungen nach Projektstatus, Kreis und Quartier/Fertigerstellt/Kreis 10/Höngg",
          "Anzahl Wohnungen nach Projektstatus, Kreis und Quartier/Im Bau/Kreis 10/Höngg",
          "Anzahl Wohnungen nach Projektstatus, Kreis und Quartier/Fertigerstellt/Kreis 4/Langstrasse",
          "Anzahl Wohnungen nach Projektstatus, Kreis und Quartier/Im Bau/Kreis 4/Langstrasse",
          "Anzahl Wohnungen nach Projektstatus, Kreis und Quartier/Bewilligt/Kreis 2/Leimbach",
          "Anzahl Wohnungen nach Projektstatus, Kreis und Quartier/Fertigerstellt/Kreis 2/Leimbach",
          "Anzahl Wohnungen nach Projektstatus, Kreis und Quartier/Im Bau/Kreis 2/Leimbach",
          "Anzahl Wohnungen nach Projektstatus, Kreis und Quartier/Im Bau/Kreis 8/Mühlebach",
          "Anzahl Wohnungen nach Projektstatus, Kreis und Quartier/Bewilligt/Kreis 6/Oberstrass",
          "Anzahl Wohnungen nach Projektstatus, Kreis und Quartier/Fertigerstellt/Kreis 6/Oberstrass",
          "Anzahl Wohnungen nach Projektstatus, Kreis und Quartier/Im Bau/Kreis 6/Oberstrass",
          "Anzahl Wohnungen nach Projektstatus, Kreis und Quartier/Bewilligt/Kreis 11/Oerlikon",
          "Anzahl Wohnungen nach Projektstatus, Kreis und Quartier/Fertigerstellt/Kreis 11/Oerlikon",
          "Anzahl Wohnungen nach Projektstatus, Kreis und Quartier/Im Bau/Kreis 11/Oerlikon",
          "Anzahl Wohnungen nach Projektstatus, Kreis und Quartier/Bewilligt/Kreis 12/Schwamendingen-Mitte",
          "Anzahl Wohnungen nach Projektstatus, Kreis und Quartier/Fertigerstellt/Kreis 12/Schwamendingen-Mitte",
          "Anzahl Wohnungen nach Projektstatus, Kreis und Quartier/Im Bau/Kreis 12/Schwamendingen-Mitte",
          "Anzahl Wohnungen nach Projektstatus, Kreis und Quartier/Bewilligt/Kreis 11/Seebach",
          "Anzahl Wohnungen nach Projektstatus, Kreis und Quartier/Fertigerstellt/Kreis 11/Seebach",
          "Anzahl Wohnungen nach Projektstatus, Kreis und Quartier/Im Bau/Kreis 11/Seebach",
          "Anzahl Wohnungen nach Projektstatus, Kreis und Quartier/Fertigerstellt/Kreis 8/Seefeld",
          "Anzahl Wohnungen nach Projektstatus, Kreis und Quartier/Im Bau/Kreis 8/Seefeld",
          "Anzahl Wohnungen nach Projektstatus, Kreis und Quartier/Bewilligt/Kreis 3/Sihlfeld",
          "Anzahl Wohnungen nach Projektstatus, Kreis und Quartier/Fertigerstellt/Kreis 3/Sihlfeld",
          "Anzahl Wohnungen nach Projektstatus, Kreis und Quartier/Im Bau/Kreis 3/Sihlfeld",
          "Anzahl Wohnungen nach Projektstatus, Kreis und Quartier/Bewilligt/Kreis 6/Unterstrass",
          "Anzahl Wohnungen nach Projektstatus, Kreis und Quartier/Fertigerstellt/Kreis 6/Unterstrass",
          "Anzahl Wohnungen nach Projektstatus, Kreis und Quartier/Im Bau/Kreis 6/Unterstrass",
          "Anzahl Wohnungen nach Projektstatus, Kreis und Quartier/Bewilligt/Kreis 8/Weinegg",
          "Anzahl Wohnungen nach Projektstatus, Kreis und Quartier/Im Bau/Kreis 8/Weinegg",
          "Anzahl Wohnungen nach Projektstatus, Kreis und Quartier/Bewilligt/Kreis 4/Werd",
          "Anzahl Wohnungen nach Projektstatus, Kreis und Quartier/Fertigerstellt/Kreis 4/Werd",
          "Anzahl Wohnungen nach Projektstatus, Kreis und Quartier/Im Bau/Kreis 4/Werd",
          "Anzahl Wohnungen nach Projektstatus, Kreis und Quartier/Bewilligt/Kreis 10/Wipkingen",
          "Anzahl Wohnungen nach Projektstatus, Kreis und Quartier/Fertigerstellt/Kreis 10/Wipkingen",
          "Anzahl Wohnungen nach Projektstatus, Kreis und Quartier/Im Bau/Kreis 10/Wipkingen",
          "Anzahl Wohnungen nach Projektstatus, Kreis und Quartier/Bewilligt/Kreis 7/Witikon",
          "Anzahl Wohnungen nach Projektstatus, Kreis und Quartier/Fertigerstellt/Kreis 7/Witikon",
          "Anzahl Wohnungen nach Projektstatus, Kreis und Quartier/Im Bau/Kreis 7/Witikon",
          "Anzahl Wohnungen nach Projektstatus, Kreis und Quartier/Bewilligt/Kreis 2/Wollishofen",
          "Anzahl Wohnungen nach Projektstatus, Kreis und Quartier/Fertigerstellt/Kreis 2/Wollishofen",
          "Anzahl Wohnungen nach Projektstatus, Kreis und Quartier/Im Bau/Kreis 2/Wollishofen",
          "Anzahl Wohnungen nach Projektstatus, Kreis und Quartier/Bewilligt/Kreis 10",
          "Anzahl Wohnungen nach Projektstatus, Kreis und Quartier/Fertigerstellt/Kreis 10",
          "Anzahl Wohnungen nach Projektstatus, Kreis und Quartier/Im Bau/Kreis 10",
          "Anzahl Wohnungen nach Projektstatus, Kreis und Quartier/Bewilligt/Kreis 11",
          "Anzahl Wohnungen nach Projektstatus, Kreis und Quartier/Fertigerstellt/Kreis 11",
          "Anzahl Wohnungen nach Projektstatus, Kreis und Quartier/Im Bau/Kreis 11",
          "Anzahl Wohnungen nach Projektstatus, Kreis und Quartier/Bewilligt/Kreis 12",
          "Anzahl Wohnungen nach Projektstatus, Kreis und Quartier/Fertigerstellt/Kreis 12",
          "Anzahl Wohnungen nach Projektstatus, Kreis und Quartier/Im Bau/Kreis 12",
          "Anzahl Wohnungen nach Projektstatus, Kreis und Quartier/Bewilligt/Kreis 2",
          "Anzahl Wohnungen nach Projektstatus, Kreis und Quartier/Fertigerstellt/Kreis 2",
          "Anzahl Wohnungen nach Projektstatus, Kreis und Quartier/Im Bau/Kreis 2",
          "Anzahl Wohnungen nach Projektstatus, Kreis und Quartier/Bewilligt/Kreis 3",
          "Anzahl Wohnungen nach Projektstatus, Kreis und Quartier/Fertigerstellt/Kreis 3",
          "Anzahl Wohnungen nach Projektstatus, Kreis und Quartier/Im Bau/Kreis 3",
          "Anzahl Wohnungen nach Projektstatus, Kreis und Quartier/Bewilligt/Kreis 4",
          "Anzahl Wohnungen nach Projektstatus, Kreis und Quartier/Fertigerstellt/Kreis 4",
          "Anzahl Wohnungen nach Projektstatus, Kreis und Quartier/Im Bau/Kreis 4",
          "Anzahl Wohnungen nach Projektstatus, Kreis und Quartier/Fertigerstellt/Kreis 5",
          "Anzahl Wohnungen nach Projektstatus, Kreis und Quartier/Im Bau/Kreis 5",
          "Anzahl Wohnungen nach Projektstatus, Kreis und Quartier/Bewilligt/Kreis 6",
          "Anzahl Wohnungen nach Projektstatus, Kreis und Quartier/Fertigerstellt/Kreis 6",
          "Anzahl Wohnungen nach Projektstatus, Kreis und Quartier/Im Bau/Kreis 6",
          "Anzahl Wohnungen nach Projektstatus, Kreis und Quartier/Bewilligt/Kreis 7",
          "Anzahl Wohnungen nach Projektstatus, Kreis und Quartier/Fertigerstellt/Kreis 7",
          "Anzahl Wohnungen nach Projektstatus, Kreis und Quartier/Im Bau/Kreis 7",
          "Anzahl Wohnungen nach Projektstatus, Kreis und Quartier/Bewilligt/Kreis 8",
          "Anzahl Wohnungen nach Projektstatus, Kreis und Quartier/Fertigerstellt/Kreis 8",
          "Anzahl Wohnungen nach Projektstatus, Kreis und Quartier/Im Bau/Kreis 8",
          "Anzahl Wohnungen nach Projektstatus, Kreis und Quartier/Bewilligt/Kreis 9",
          "Anzahl Wohnungen nach Projektstatus, Kreis und Quartier/Fertigerstellt/Kreis 9",
          "Anzahl Wohnungen nach Projektstatus, Kreis und Quartier/Im Bau/Kreis 9",
          "Anzahl Wohnungen nach Projektstatus, Kreis und Quartier/Bewilligt",
          "Anzahl Wohnungen nach Projektstatus, Kreis und Quartier/Fertigerstellt",
          "Anzahl Wohnungen nach Projektstatus, Kreis und Quartier/Im Bau",
          "Anzahl Wohnungen nach Projektstatus, Kreis und Quartier"
         ],
         "labels": [
          "Affoltern",
          "Affoltern",
          "Affoltern",
          "Albisrieden",
          "Albisrieden",
          "Albisrieden",
          "Alt-Wiedikon",
          "Alt-Wiedikon",
          "Alt-Wiedikon",
          "Altstetten",
          "Altstetten",
          "Altstetten",
          "Enge",
          "Enge",
          "Enge",
          "Escher Wyss",
          "Fluntern",
          "Fluntern",
          "Fluntern",
          "Friesenberg",
          "Friesenberg",
          "Gewerbeschule",
          "Gewerbeschule",
          "Hard",
          "Hard",
          "Hirslanden",
          "Hirslanden",
          "Hirslanden",
          "Hirzenbach",
          "Hirzenbach",
          "Hottingen",
          "Hottingen",
          "Hottingen",
          "Höngg",
          "Höngg",
          "Höngg",
          "Langstrasse",
          "Langstrasse",
          "Leimbach",
          "Leimbach",
          "Leimbach",
          "Mühlebach",
          "Oberstrass",
          "Oberstrass",
          "Oberstrass",
          "Oerlikon",
          "Oerlikon",
          "Oerlikon",
          "Schwamendingen-Mitte",
          "Schwamendingen-Mitte",
          "Schwamendingen-Mitte",
          "Seebach",
          "Seebach",
          "Seebach",
          "Seefeld",
          "Seefeld",
          "Sihlfeld",
          "Sihlfeld",
          "Sihlfeld",
          "Unterstrass",
          "Unterstrass",
          "Unterstrass",
          "Weinegg",
          "Weinegg",
          "Werd",
          "Werd",
          "Werd",
          "Wipkingen",
          "Wipkingen",
          "Wipkingen",
          "Witikon",
          "Witikon",
          "Witikon",
          "Wollishofen",
          "Wollishofen",
          "Wollishofen",
          "Kreis 10",
          "Kreis 10",
          "Kreis 10",
          "Kreis 11",
          "Kreis 11",
          "Kreis 11",
          "Kreis 12",
          "Kreis 12",
          "Kreis 12",
          "Kreis 2",
          "Kreis 2",
          "Kreis 2",
          "Kreis 3",
          "Kreis 3",
          "Kreis 3",
          "Kreis 4",
          "Kreis 4",
          "Kreis 4",
          "Kreis 5",
          "Kreis 5",
          "Kreis 6",
          "Kreis 6",
          "Kreis 6",
          "Kreis 7",
          "Kreis 7",
          "Kreis 7",
          "Kreis 8",
          "Kreis 8",
          "Kreis 8",
          "Kreis 9",
          "Kreis 9",
          "Kreis 9",
          "Bewilligt",
          "Fertigerstellt",
          "Im Bau",
          "Anzahl Wohnungen nach Projektstatus, Kreis und Quartier"
         ],
         "marker": {
          "coloraxis": "coloraxis",
          "colors": [
           17,
           58,
           567,
           173,
           89,
           652,
           395,
           5,
           73,
           429,
           384,
           782,
           92,
           18,
           15,
           189,
           21,
           32,
           57,
           3,
           48,
           55,
           64,
           76,
           325,
           33,
           2,
           111,
           29,
           192,
           13,
           10,
           66,
           31,
           63,
           145,
           15,
           105,
           9,
           140,
           48,
           51,
           17,
           37,
           37,
           110,
           58,
           152,
           3,
           14,
           371,
           50,
           214,
           1659,
           121,
           15,
           61,
           17,
           107,
           160,
           179,
           168,
           11,
           32,
           74,
           80,
           12,
           52,
           23,
           67,
           51,
           25,
           260,
           156,
           214,
           796,
           44.1566265060241,
           52.30232558139535,
           120.34905660377359,
           84.11864406779661,
           159.16363636363636,
           1302.3019343986543,
           26.5625,
           14,
           309.955595026643,
           127.94163424124514,
           176.66666666666666,
           740.5646100116414,
           348.05010893246185,
           14.272727272727273,
           83.69298245614036,
           74,
           72.52046783625731,
           264.23981900452486,
           55,
           157.37944664031622,
           146.26553672316385,
           154.67592592592592,
           144.3560975609756,
           36.440677966101696,
           25.405797101449274,
           177.17813765182186,
           11,
           121,
           39.285714285714285,
           355.43189368770766,
           328.492600422833,
           722.8926080892608,
           232.05829145728643,
           178.25764644893727,
           734.9048283561261,
           547.7657194406856
          ]
         },
         "name": "",
         "parents": [
          "Anzahl Wohnungen nach Projektstatus, Kreis und Quartier/Bewilligt/Kreis 11",
          "Anzahl Wohnungen nach Projektstatus, Kreis und Quartier/Fertigerstellt/Kreis 11",
          "Anzahl Wohnungen nach Projektstatus, Kreis und Quartier/Im Bau/Kreis 11",
          "Anzahl Wohnungen nach Projektstatus, Kreis und Quartier/Bewilligt/Kreis 9",
          "Anzahl Wohnungen nach Projektstatus, Kreis und Quartier/Fertigerstellt/Kreis 9",
          "Anzahl Wohnungen nach Projektstatus, Kreis und Quartier/Im Bau/Kreis 9",
          "Anzahl Wohnungen nach Projektstatus, Kreis und Quartier/Bewilligt/Kreis 3",
          "Anzahl Wohnungen nach Projektstatus, Kreis und Quartier/Fertigerstellt/Kreis 3",
          "Anzahl Wohnungen nach Projektstatus, Kreis und Quartier/Im Bau/Kreis 3",
          "Anzahl Wohnungen nach Projektstatus, Kreis und Quartier/Bewilligt/Kreis 9",
          "Anzahl Wohnungen nach Projektstatus, Kreis und Quartier/Fertigerstellt/Kreis 9",
          "Anzahl Wohnungen nach Projektstatus, Kreis und Quartier/Im Bau/Kreis 9",
          "Anzahl Wohnungen nach Projektstatus, Kreis und Quartier/Bewilligt/Kreis 2",
          "Anzahl Wohnungen nach Projektstatus, Kreis und Quartier/Fertigerstellt/Kreis 2",
          "Anzahl Wohnungen nach Projektstatus, Kreis und Quartier/Im Bau/Kreis 2",
          "Anzahl Wohnungen nach Projektstatus, Kreis und Quartier/Im Bau/Kreis 5",
          "Anzahl Wohnungen nach Projektstatus, Kreis und Quartier/Bewilligt/Kreis 7",
          "Anzahl Wohnungen nach Projektstatus, Kreis und Quartier/Fertigerstellt/Kreis 7",
          "Anzahl Wohnungen nach Projektstatus, Kreis und Quartier/Im Bau/Kreis 7",
          "Anzahl Wohnungen nach Projektstatus, Kreis und Quartier/Bewilligt/Kreis 3",
          "Anzahl Wohnungen nach Projektstatus, Kreis und Quartier/Im Bau/Kreis 3",
          "Anzahl Wohnungen nach Projektstatus, Kreis und Quartier/Fertigerstellt/Kreis 5",
          "Anzahl Wohnungen nach Projektstatus, Kreis und Quartier/Im Bau/Kreis 5",
          "Anzahl Wohnungen nach Projektstatus, Kreis und Quartier/Fertigerstellt/Kreis 4",
          "Anzahl Wohnungen nach Projektstatus, Kreis und Quartier/Im Bau/Kreis 4",
          "Anzahl Wohnungen nach Projektstatus, Kreis und Quartier/Bewilligt/Kreis 7",
          "Anzahl Wohnungen nach Projektstatus, Kreis und Quartier/Fertigerstellt/Kreis 7",
          "Anzahl Wohnungen nach Projektstatus, Kreis und Quartier/Im Bau/Kreis 7",
          "Anzahl Wohnungen nach Projektstatus, Kreis und Quartier/Bewilligt/Kreis 12",
          "Anzahl Wohnungen nach Projektstatus, Kreis und Quartier/Im Bau/Kreis 12",
          "Anzahl Wohnungen nach Projektstatus, Kreis und Quartier/Bewilligt/Kreis 7",
          "Anzahl Wohnungen nach Projektstatus, Kreis und Quartier/Fertigerstellt/Kreis 7",
          "Anzahl Wohnungen nach Projektstatus, Kreis und Quartier/Im Bau/Kreis 7",
          "Anzahl Wohnungen nach Projektstatus, Kreis und Quartier/Bewilligt/Kreis 10",
          "Anzahl Wohnungen nach Projektstatus, Kreis und Quartier/Fertigerstellt/Kreis 10",
          "Anzahl Wohnungen nach Projektstatus, Kreis und Quartier/Im Bau/Kreis 10",
          "Anzahl Wohnungen nach Projektstatus, Kreis und Quartier/Fertigerstellt/Kreis 4",
          "Anzahl Wohnungen nach Projektstatus, Kreis und Quartier/Im Bau/Kreis 4",
          "Anzahl Wohnungen nach Projektstatus, Kreis und Quartier/Bewilligt/Kreis 2",
          "Anzahl Wohnungen nach Projektstatus, Kreis und Quartier/Fertigerstellt/Kreis 2",
          "Anzahl Wohnungen nach Projektstatus, Kreis und Quartier/Im Bau/Kreis 2",
          "Anzahl Wohnungen nach Projektstatus, Kreis und Quartier/Im Bau/Kreis 8",
          "Anzahl Wohnungen nach Projektstatus, Kreis und Quartier/Bewilligt/Kreis 6",
          "Anzahl Wohnungen nach Projektstatus, Kreis und Quartier/Fertigerstellt/Kreis 6",
          "Anzahl Wohnungen nach Projektstatus, Kreis und Quartier/Im Bau/Kreis 6",
          "Anzahl Wohnungen nach Projektstatus, Kreis und Quartier/Bewilligt/Kreis 11",
          "Anzahl Wohnungen nach Projektstatus, Kreis und Quartier/Fertigerstellt/Kreis 11",
          "Anzahl Wohnungen nach Projektstatus, Kreis und Quartier/Im Bau/Kreis 11",
          "Anzahl Wohnungen nach Projektstatus, Kreis und Quartier/Bewilligt/Kreis 12",
          "Anzahl Wohnungen nach Projektstatus, Kreis und Quartier/Fertigerstellt/Kreis 12",
          "Anzahl Wohnungen nach Projektstatus, Kreis und Quartier/Im Bau/Kreis 12",
          "Anzahl Wohnungen nach Projektstatus, Kreis und Quartier/Bewilligt/Kreis 11",
          "Anzahl Wohnungen nach Projektstatus, Kreis und Quartier/Fertigerstellt/Kreis 11",
          "Anzahl Wohnungen nach Projektstatus, Kreis und Quartier/Im Bau/Kreis 11",
          "Anzahl Wohnungen nach Projektstatus, Kreis und Quartier/Fertigerstellt/Kreis 8",
          "Anzahl Wohnungen nach Projektstatus, Kreis und Quartier/Im Bau/Kreis 8",
          "Anzahl Wohnungen nach Projektstatus, Kreis und Quartier/Bewilligt/Kreis 3",
          "Anzahl Wohnungen nach Projektstatus, Kreis und Quartier/Fertigerstellt/Kreis 3",
          "Anzahl Wohnungen nach Projektstatus, Kreis und Quartier/Im Bau/Kreis 3",
          "Anzahl Wohnungen nach Projektstatus, Kreis und Quartier/Bewilligt/Kreis 6",
          "Anzahl Wohnungen nach Projektstatus, Kreis und Quartier/Fertigerstellt/Kreis 6",
          "Anzahl Wohnungen nach Projektstatus, Kreis und Quartier/Im Bau/Kreis 6",
          "Anzahl Wohnungen nach Projektstatus, Kreis und Quartier/Bewilligt/Kreis 8",
          "Anzahl Wohnungen nach Projektstatus, Kreis und Quartier/Im Bau/Kreis 8",
          "Anzahl Wohnungen nach Projektstatus, Kreis und Quartier/Bewilligt/Kreis 4",
          "Anzahl Wohnungen nach Projektstatus, Kreis und Quartier/Fertigerstellt/Kreis 4",
          "Anzahl Wohnungen nach Projektstatus, Kreis und Quartier/Im Bau/Kreis 4",
          "Anzahl Wohnungen nach Projektstatus, Kreis und Quartier/Bewilligt/Kreis 10",
          "Anzahl Wohnungen nach Projektstatus, Kreis und Quartier/Fertigerstellt/Kreis 10",
          "Anzahl Wohnungen nach Projektstatus, Kreis und Quartier/Im Bau/Kreis 10",
          "Anzahl Wohnungen nach Projektstatus, Kreis und Quartier/Bewilligt/Kreis 7",
          "Anzahl Wohnungen nach Projektstatus, Kreis und Quartier/Fertigerstellt/Kreis 7",
          "Anzahl Wohnungen nach Projektstatus, Kreis und Quartier/Im Bau/Kreis 7",
          "Anzahl Wohnungen nach Projektstatus, Kreis und Quartier/Bewilligt/Kreis 2",
          "Anzahl Wohnungen nach Projektstatus, Kreis und Quartier/Fertigerstellt/Kreis 2",
          "Anzahl Wohnungen nach Projektstatus, Kreis und Quartier/Im Bau/Kreis 2",
          "Anzahl Wohnungen nach Projektstatus, Kreis und Quartier/Bewilligt",
          "Anzahl Wohnungen nach Projektstatus, Kreis und Quartier/Fertigerstellt",
          "Anzahl Wohnungen nach Projektstatus, Kreis und Quartier/Im Bau",
          "Anzahl Wohnungen nach Projektstatus, Kreis und Quartier/Bewilligt",
          "Anzahl Wohnungen nach Projektstatus, Kreis und Quartier/Fertigerstellt",
          "Anzahl Wohnungen nach Projektstatus, Kreis und Quartier/Im Bau",
          "Anzahl Wohnungen nach Projektstatus, Kreis und Quartier/Bewilligt",
          "Anzahl Wohnungen nach Projektstatus, Kreis und Quartier/Fertigerstellt",
          "Anzahl Wohnungen nach Projektstatus, Kreis und Quartier/Im Bau",
          "Anzahl Wohnungen nach Projektstatus, Kreis und Quartier/Bewilligt",
          "Anzahl Wohnungen nach Projektstatus, Kreis und Quartier/Fertigerstellt",
          "Anzahl Wohnungen nach Projektstatus, Kreis und Quartier/Im Bau",
          "Anzahl Wohnungen nach Projektstatus, Kreis und Quartier/Bewilligt",
          "Anzahl Wohnungen nach Projektstatus, Kreis und Quartier/Fertigerstellt",
          "Anzahl Wohnungen nach Projektstatus, Kreis und Quartier/Im Bau",
          "Anzahl Wohnungen nach Projektstatus, Kreis und Quartier/Bewilligt",
          "Anzahl Wohnungen nach Projektstatus, Kreis und Quartier/Fertigerstellt",
          "Anzahl Wohnungen nach Projektstatus, Kreis und Quartier/Im Bau",
          "Anzahl Wohnungen nach Projektstatus, Kreis und Quartier/Fertigerstellt",
          "Anzahl Wohnungen nach Projektstatus, Kreis und Quartier/Im Bau",
          "Anzahl Wohnungen nach Projektstatus, Kreis und Quartier/Bewilligt",
          "Anzahl Wohnungen nach Projektstatus, Kreis und Quartier/Fertigerstellt",
          "Anzahl Wohnungen nach Projektstatus, Kreis und Quartier/Im Bau",
          "Anzahl Wohnungen nach Projektstatus, Kreis und Quartier/Bewilligt",
          "Anzahl Wohnungen nach Projektstatus, Kreis und Quartier/Fertigerstellt",
          "Anzahl Wohnungen nach Projektstatus, Kreis und Quartier/Im Bau",
          "Anzahl Wohnungen nach Projektstatus, Kreis und Quartier/Bewilligt",
          "Anzahl Wohnungen nach Projektstatus, Kreis und Quartier/Fertigerstellt",
          "Anzahl Wohnungen nach Projektstatus, Kreis und Quartier/Im Bau",
          "Anzahl Wohnungen nach Projektstatus, Kreis und Quartier/Bewilligt",
          "Anzahl Wohnungen nach Projektstatus, Kreis und Quartier/Fertigerstellt",
          "Anzahl Wohnungen nach Projektstatus, Kreis und Quartier/Im Bau",
          "Anzahl Wohnungen nach Projektstatus, Kreis und Quartier",
          "Anzahl Wohnungen nach Projektstatus, Kreis und Quartier",
          "Anzahl Wohnungen nach Projektstatus, Kreis und Quartier",
          ""
         ],
         "root": {
          "color": "grey"
         },
         "type": "treemap",
         "values": [
          17,
          58,
          567,
          173,
          89,
          652,
          395,
          5,
          73,
          429,
          384,
          782,
          92,
          18,
          15,
          189,
          21,
          32,
          57,
          3,
          48,
          55,
          64,
          76,
          325,
          33,
          2,
          111,
          29,
          192,
          13,
          10,
          66,
          31,
          63,
          145,
          15,
          105,
          9,
          140,
          48,
          51,
          17,
          37,
          37,
          110,
          58,
          152,
          3,
          14,
          371,
          50,
          214,
          1659,
          121,
          15,
          61,
          17,
          107,
          160,
          179,
          168,
          11,
          32,
          74,
          80,
          12,
          52,
          23,
          67,
          51,
          25,
          260,
          156,
          214,
          796,
          83,
          86,
          212,
          177,
          330,
          2378,
          32,
          14,
          563,
          257,
          372,
          859,
          459,
          22,
          228,
          74,
          171,
          442,
          55,
          253,
          177,
          216,
          205,
          118,
          69,
          494,
          11,
          121,
          98,
          602,
          473,
          1434,
          1990,
          1929,
          7166,
          11085
         ]
        }
       ],
       "layout": {
        "coloraxis": {
         "colorbar": {
          "title": {
           "text": "sum_ProjAnzWhg"
          }
         },
         "colorscale": [
          [
           0,
           "#00224e"
          ],
          [
           0.1111111111111111,
           "#123570"
          ],
          [
           0.2222222222222222,
           "#3b496c"
          ],
          [
           0.3333333333333333,
           "#575d6d"
          ],
          [
           0.4444444444444444,
           "#707173"
          ],
          [
           0.5555555555555556,
           "#8a8678"
          ],
          [
           0.6666666666666666,
           "#a59c74"
          ],
          [
           0.7777777777777778,
           "#c3b369"
          ],
          [
           0.8888888888888888,
           "#e1cc55"
          ],
          [
           1,
           "#fee838"
          ]
         ]
        },
        "height": 400,
        "legend": {
         "tracegroupgap": 0
        },
        "margin": {
         "b": 25,
         "l": 25,
         "r": 250,
         "t": 50
        },
        "template": {
         "data": {
          "bar": [
           {
            "error_x": {
             "color": "#2a3f5f"
            },
            "error_y": {
             "color": "#2a3f5f"
            },
            "marker": {
             "line": {
              "color": "#E5ECF6",
              "width": 0.5
             },
             "pattern": {
              "fillmode": "overlay",
              "size": 10,
              "solidity": 0.2
             }
            },
            "type": "bar"
           }
          ],
          "barpolar": [
           {
            "marker": {
             "line": {
              "color": "#E5ECF6",
              "width": 0.5
             },
             "pattern": {
              "fillmode": "overlay",
              "size": 10,
              "solidity": 0.2
             }
            },
            "type": "barpolar"
           }
          ],
          "carpet": [
           {
            "aaxis": {
             "endlinecolor": "#2a3f5f",
             "gridcolor": "white",
             "linecolor": "white",
             "minorgridcolor": "white",
             "startlinecolor": "#2a3f5f"
            },
            "baxis": {
             "endlinecolor": "#2a3f5f",
             "gridcolor": "white",
             "linecolor": "white",
             "minorgridcolor": "white",
             "startlinecolor": "#2a3f5f"
            },
            "type": "carpet"
           }
          ],
          "choropleth": [
           {
            "colorbar": {
             "outlinewidth": 0,
             "ticks": ""
            },
            "type": "choropleth"
           }
          ],
          "contour": [
           {
            "colorbar": {
             "outlinewidth": 0,
             "ticks": ""
            },
            "colorscale": [
             [
              0,
              "#0d0887"
             ],
             [
              0.1111111111111111,
              "#46039f"
             ],
             [
              0.2222222222222222,
              "#7201a8"
             ],
             [
              0.3333333333333333,
              "#9c179e"
             ],
             [
              0.4444444444444444,
              "#bd3786"
             ],
             [
              0.5555555555555556,
              "#d8576b"
             ],
             [
              0.6666666666666666,
              "#ed7953"
             ],
             [
              0.7777777777777778,
              "#fb9f3a"
             ],
             [
              0.8888888888888888,
              "#fdca26"
             ],
             [
              1,
              "#f0f921"
             ]
            ],
            "type": "contour"
           }
          ],
          "contourcarpet": [
           {
            "colorbar": {
             "outlinewidth": 0,
             "ticks": ""
            },
            "type": "contourcarpet"
           }
          ],
          "heatmap": [
           {
            "colorbar": {
             "outlinewidth": 0,
             "ticks": ""
            },
            "colorscale": [
             [
              0,
              "#0d0887"
             ],
             [
              0.1111111111111111,
              "#46039f"
             ],
             [
              0.2222222222222222,
              "#7201a8"
             ],
             [
              0.3333333333333333,
              "#9c179e"
             ],
             [
              0.4444444444444444,
              "#bd3786"
             ],
             [
              0.5555555555555556,
              "#d8576b"
             ],
             [
              0.6666666666666666,
              "#ed7953"
             ],
             [
              0.7777777777777778,
              "#fb9f3a"
             ],
             [
              0.8888888888888888,
              "#fdca26"
             ],
             [
              1,
              "#f0f921"
             ]
            ],
            "type": "heatmap"
           }
          ],
          "heatmapgl": [
           {
            "colorbar": {
             "outlinewidth": 0,
             "ticks": ""
            },
            "colorscale": [
             [
              0,
              "#0d0887"
             ],
             [
              0.1111111111111111,
              "#46039f"
             ],
             [
              0.2222222222222222,
              "#7201a8"
             ],
             [
              0.3333333333333333,
              "#9c179e"
             ],
             [
              0.4444444444444444,
              "#bd3786"
             ],
             [
              0.5555555555555556,
              "#d8576b"
             ],
             [
              0.6666666666666666,
              "#ed7953"
             ],
             [
              0.7777777777777778,
              "#fb9f3a"
             ],
             [
              0.8888888888888888,
              "#fdca26"
             ],
             [
              1,
              "#f0f921"
             ]
            ],
            "type": "heatmapgl"
           }
          ],
          "histogram": [
           {
            "marker": {
             "pattern": {
              "fillmode": "overlay",
              "size": 10,
              "solidity": 0.2
             }
            },
            "type": "histogram"
           }
          ],
          "histogram2d": [
           {
            "colorbar": {
             "outlinewidth": 0,
             "ticks": ""
            },
            "colorscale": [
             [
              0,
              "#0d0887"
             ],
             [
              0.1111111111111111,
              "#46039f"
             ],
             [
              0.2222222222222222,
              "#7201a8"
             ],
             [
              0.3333333333333333,
              "#9c179e"
             ],
             [
              0.4444444444444444,
              "#bd3786"
             ],
             [
              0.5555555555555556,
              "#d8576b"
             ],
             [
              0.6666666666666666,
              "#ed7953"
             ],
             [
              0.7777777777777778,
              "#fb9f3a"
             ],
             [
              0.8888888888888888,
              "#fdca26"
             ],
             [
              1,
              "#f0f921"
             ]
            ],
            "type": "histogram2d"
           }
          ],
          "histogram2dcontour": [
           {
            "colorbar": {
             "outlinewidth": 0,
             "ticks": ""
            },
            "colorscale": [
             [
              0,
              "#0d0887"
             ],
             [
              0.1111111111111111,
              "#46039f"
             ],
             [
              0.2222222222222222,
              "#7201a8"
             ],
             [
              0.3333333333333333,
              "#9c179e"
             ],
             [
              0.4444444444444444,
              "#bd3786"
             ],
             [
              0.5555555555555556,
              "#d8576b"
             ],
             [
              0.6666666666666666,
              "#ed7953"
             ],
             [
              0.7777777777777778,
              "#fb9f3a"
             ],
             [
              0.8888888888888888,
              "#fdca26"
             ],
             [
              1,
              "#f0f921"
             ]
            ],
            "type": "histogram2dcontour"
           }
          ],
          "mesh3d": [
           {
            "colorbar": {
             "outlinewidth": 0,
             "ticks": ""
            },
            "type": "mesh3d"
           }
          ],
          "parcoords": [
           {
            "line": {
             "colorbar": {
              "outlinewidth": 0,
              "ticks": ""
             }
            },
            "type": "parcoords"
           }
          ],
          "pie": [
           {
            "automargin": true,
            "type": "pie"
           }
          ],
          "scatter": [
           {
            "marker": {
             "colorbar": {
              "outlinewidth": 0,
              "ticks": ""
             }
            },
            "type": "scatter"
           }
          ],
          "scatter3d": [
           {
            "line": {
             "colorbar": {
              "outlinewidth": 0,
              "ticks": ""
             }
            },
            "marker": {
             "colorbar": {
              "outlinewidth": 0,
              "ticks": ""
             }
            },
            "type": "scatter3d"
           }
          ],
          "scattercarpet": [
           {
            "marker": {
             "colorbar": {
              "outlinewidth": 0,
              "ticks": ""
             }
            },
            "type": "scattercarpet"
           }
          ],
          "scattergeo": [
           {
            "marker": {
             "colorbar": {
              "outlinewidth": 0,
              "ticks": ""
             }
            },
            "type": "scattergeo"
           }
          ],
          "scattergl": [
           {
            "marker": {
             "colorbar": {
              "outlinewidth": 0,
              "ticks": ""
             }
            },
            "type": "scattergl"
           }
          ],
          "scattermapbox": [
           {
            "marker": {
             "colorbar": {
              "outlinewidth": 0,
              "ticks": ""
             }
            },
            "type": "scattermapbox"
           }
          ],
          "scatterpolar": [
           {
            "marker": {
             "colorbar": {
              "outlinewidth": 0,
              "ticks": ""
             }
            },
            "type": "scatterpolar"
           }
          ],
          "scatterpolargl": [
           {
            "marker": {
             "colorbar": {
              "outlinewidth": 0,
              "ticks": ""
             }
            },
            "type": "scatterpolargl"
           }
          ],
          "scatterternary": [
           {
            "marker": {
             "colorbar": {
              "outlinewidth": 0,
              "ticks": ""
             }
            },
            "type": "scatterternary"
           }
          ],
          "surface": [
           {
            "colorbar": {
             "outlinewidth": 0,
             "ticks": ""
            },
            "colorscale": [
             [
              0,
              "#0d0887"
             ],
             [
              0.1111111111111111,
              "#46039f"
             ],
             [
              0.2222222222222222,
              "#7201a8"
             ],
             [
              0.3333333333333333,
              "#9c179e"
             ],
             [
              0.4444444444444444,
              "#bd3786"
             ],
             [
              0.5555555555555556,
              "#d8576b"
             ],
             [
              0.6666666666666666,
              "#ed7953"
             ],
             [
              0.7777777777777778,
              "#fb9f3a"
             ],
             [
              0.8888888888888888,
              "#fdca26"
             ],
             [
              1,
              "#f0f921"
             ]
            ],
            "type": "surface"
           }
          ],
          "table": [
           {
            "cells": {
             "fill": {
              "color": "#EBF0F8"
             },
             "line": {
              "color": "white"
             }
            },
            "header": {
             "fill": {
              "color": "#C8D4E3"
             },
             "line": {
              "color": "white"
             }
            },
            "type": "table"
           }
          ]
         },
         "layout": {
          "annotationdefaults": {
           "arrowcolor": "#2a3f5f",
           "arrowhead": 0,
           "arrowwidth": 1
          },
          "autotypenumbers": "strict",
          "coloraxis": {
           "colorbar": {
            "outlinewidth": 0,
            "ticks": ""
           }
          },
          "colorscale": {
           "diverging": [
            [
             0,
             "#8e0152"
            ],
            [
             0.1,
             "#c51b7d"
            ],
            [
             0.2,
             "#de77ae"
            ],
            [
             0.3,
             "#f1b6da"
            ],
            [
             0.4,
             "#fde0ef"
            ],
            [
             0.5,
             "#f7f7f7"
            ],
            [
             0.6,
             "#e6f5d0"
            ],
            [
             0.7,
             "#b8e186"
            ],
            [
             0.8,
             "#7fbc41"
            ],
            [
             0.9,
             "#4d9221"
            ],
            [
             1,
             "#276419"
            ]
           ],
           "sequential": [
            [
             0,
             "#0d0887"
            ],
            [
             0.1111111111111111,
             "#46039f"
            ],
            [
             0.2222222222222222,
             "#7201a8"
            ],
            [
             0.3333333333333333,
             "#9c179e"
            ],
            [
             0.4444444444444444,
             "#bd3786"
            ],
            [
             0.5555555555555556,
             "#d8576b"
            ],
            [
             0.6666666666666666,
             "#ed7953"
            ],
            [
             0.7777777777777778,
             "#fb9f3a"
            ],
            [
             0.8888888888888888,
             "#fdca26"
            ],
            [
             1,
             "#f0f921"
            ]
           ],
           "sequentialminus": [
            [
             0,
             "#0d0887"
            ],
            [
             0.1111111111111111,
             "#46039f"
            ],
            [
             0.2222222222222222,
             "#7201a8"
            ],
            [
             0.3333333333333333,
             "#9c179e"
            ],
            [
             0.4444444444444444,
             "#bd3786"
            ],
            [
             0.5555555555555556,
             "#d8576b"
            ],
            [
             0.6666666666666666,
             "#ed7953"
            ],
            [
             0.7777777777777778,
             "#fb9f3a"
            ],
            [
             0.8888888888888888,
             "#fdca26"
            ],
            [
             1,
             "#f0f921"
            ]
           ]
          },
          "colorway": [
           "#636efa",
           "#EF553B",
           "#00cc96",
           "#ab63fa",
           "#FFA15A",
           "#19d3f3",
           "#FF6692",
           "#B6E880",
           "#FF97FF",
           "#FECB52"
          ],
          "font": {
           "color": "#2a3f5f"
          },
          "geo": {
           "bgcolor": "white",
           "lakecolor": "white",
           "landcolor": "#E5ECF6",
           "showlakes": true,
           "showland": true,
           "subunitcolor": "white"
          },
          "hoverlabel": {
           "align": "left"
          },
          "hovermode": "closest",
          "mapbox": {
           "style": "light"
          },
          "paper_bgcolor": "white",
          "plot_bgcolor": "#E5ECF6",
          "polar": {
           "angularaxis": {
            "gridcolor": "white",
            "linecolor": "white",
            "ticks": ""
           },
           "bgcolor": "#E5ECF6",
           "radialaxis": {
            "gridcolor": "white",
            "linecolor": "white",
            "ticks": ""
           }
          },
          "scene": {
           "xaxis": {
            "backgroundcolor": "#E5ECF6",
            "gridcolor": "white",
            "gridwidth": 2,
            "linecolor": "white",
            "showbackground": true,
            "ticks": "",
            "zerolinecolor": "white"
           },
           "yaxis": {
            "backgroundcolor": "#E5ECF6",
            "gridcolor": "white",
            "gridwidth": 2,
            "linecolor": "white",
            "showbackground": true,
            "ticks": "",
            "zerolinecolor": "white"
           },
           "zaxis": {
            "backgroundcolor": "#E5ECF6",
            "gridcolor": "white",
            "gridwidth": 2,
            "linecolor": "white",
            "showbackground": true,
            "ticks": "",
            "zerolinecolor": "white"
           }
          },
          "shapedefaults": {
           "line": {
            "color": "#2a3f5f"
           }
          },
          "ternary": {
           "aaxis": {
            "gridcolor": "white",
            "linecolor": "white",
            "ticks": ""
           },
           "baxis": {
            "gridcolor": "white",
            "linecolor": "white",
            "ticks": ""
           },
           "bgcolor": "#E5ECF6",
           "caxis": {
            "gridcolor": "white",
            "linecolor": "white",
            "ticks": ""
           }
          },
          "title": {
           "x": 0.05
          },
          "xaxis": {
           "automargin": true,
           "gridcolor": "white",
           "linecolor": "white",
           "ticks": "",
           "title": {
            "standoff": 15
           },
           "zerolinecolor": "white",
           "zerolinewidth": 2
          },
          "yaxis": {
           "automargin": true,
           "gridcolor": "white",
           "linecolor": "white",
           "ticks": "",
           "title": {
            "standoff": 15
           },
           "zerolinecolor": "white",
           "zerolinewidth": 2
          }
         }
        },
        "width": 1100
       }
      },
      "image/png": "[encoded data removed]",
      "text/html": [
       "<div>                            <div id=\"0b1f18c1-1e4c-42a6-a430-bc3d9deda936\" class=\"plotly-graph-div\" style=\"height:400px; width:1100px;\"></div>            <script type=\"text/javascript\">                require([\"plotly\"], function(Plotly) {                    window.PLOTLYENV=window.PLOTLYENV || {};                                    if (document.getElementById(\"0b1f18c1-1e4c-42a6-a430-bc3d9deda936\")) {                    Plotly.newPlot(                        \"0b1f18c1-1e4c-42a6-a430-bc3d9deda936\",                        [{\"branchvalues\":\"total\",\"customdata\":[[17.0],[58.0],[567.0],[173.0],[89.0],[652.0],[395.0],[5.0],[73.0],[429.0],[384.0],[782.0],[92.0],[18.0],[15.0],[189.0],[21.0],[32.0],[57.0],[3.0],[48.0],[55.0],[64.0],[76.0],[325.0],[33.0],[2.0],[111.0],[29.0],[192.0],[13.0],[10.0],[66.0],[31.0],[63.0],[145.0],[15.0],[105.0],[9.0],[140.0],[48.0],[51.0],[17.0],[37.0],[37.0],[110.0],[58.0],[152.0],[3.0],[14.0],[371.0],[50.0],[214.0],[1659.0],[121.0],[15.0],[61.0],[17.0],[107.0],[160.0],[179.0],[168.0],[11.0],[32.0],[74.0],[80.0],[12.0],[52.0],[23.0],[67.0],[51.0],[25.0],[260.0],[156.0],[214.0],[796.0],[44.1566265060241],[52.30232558139535],[120.34905660377359],[84.11864406779661],[159.16363636363636],[1302.3019343986543],[26.5625],[14.0],[309.955595026643],[127.94163424124514],[176.66666666666666],[740.5646100116414],[348.05010893246185],[14.272727272727273],[83.69298245614036],[74.0],[72.52046783625731],[264.23981900452486],[55.0],[157.37944664031622],[146.26553672316385],[154.67592592592592],[144.3560975609756],[36.440677966101696],[25.405797101449274],[177.17813765182186],[11.0],[121.0],[39.285714285714285],[355.43189368770766],[328.492600422833],[722.8926080892608],[232.05829145728643],[178.25764644893727],[734.9048283561261],[547.7657194406856]],\"domain\":{\"x\":[0.0,1.0],\"y\":[0.0,1.0]},\"hovertemplate\":\"labels=%{label}<br>sum_ProjAnzWhg_sum=%{value}<br>parent=%{parent}<br>id=%{id}<br>sum_ProjAnzWhg=%{color}<extra></extra>\",\"ids\":[\"Anzahl Wohnungen nach Projektstatus, Kreis und Quartier/Bewilligt/Kreis 11/Affoltern\",\"Anzahl Wohnungen nach Projektstatus, Kreis und Quartier/Fertigerstellt/Kreis 11/Affoltern\",\"Anzahl Wohnungen nach Projektstatus, Kreis und Quartier/Im Bau/Kreis 11/Affoltern\",\"Anzahl Wohnungen nach Projektstatus, Kreis und Quartier/Bewilligt/Kreis 9/Albisrieden\",\"Anzahl Wohnungen nach Projektstatus, Kreis und Quartier/Fertigerstellt/Kreis 9/Albisrieden\",\"Anzahl Wohnungen nach Projektstatus, Kreis und Quartier/Im Bau/Kreis 9/Albisrieden\",\"Anzahl Wohnungen nach Projektstatus, Kreis und Quartier/Bewilligt/Kreis 3/Alt-Wiedikon\",\"Anzahl Wohnungen nach Projektstatus, Kreis und Quartier/Fertigerstellt/Kreis 3/Alt-Wiedikon\",\"Anzahl Wohnungen nach Projektstatus, Kreis und Quartier/Im Bau/Kreis 3/Alt-Wiedikon\",\"Anzahl Wohnungen nach Projektstatus, Kreis und Quartier/Bewilligt/Kreis 9/Altstetten\",\"Anzahl Wohnungen nach Projektstatus, Kreis und Quartier/Fertigerstellt/Kreis 9/Altstetten\",\"Anzahl Wohnungen nach Projektstatus, Kreis und Quartier/Im Bau/Kreis 9/Altstetten\",\"Anzahl Wohnungen nach Projektstatus, Kreis und Quartier/Bewilligt/Kreis 2/Enge\",\"Anzahl Wohnungen nach Projektstatus, Kreis und Quartier/Fertigerstellt/Kreis 2/Enge\",\"Anzahl Wohnungen nach Projektstatus, Kreis und Quartier/Im Bau/Kreis 2/Enge\",\"Anzahl Wohnungen nach Projektstatus, Kreis und Quartier/Im Bau/Kreis 5/Escher Wyss\",\"Anzahl Wohnungen nach Projektstatus, Kreis und Quartier/Bewilligt/Kreis 7/Fluntern\",\"Anzahl Wohnungen nach Projektstatus, Kreis und Quartier/Fertigerstellt/Kreis 7/Fluntern\",\"Anzahl Wohnungen nach Projektstatus, Kreis und Quartier/Im Bau/Kreis 7/Fluntern\",\"Anzahl Wohnungen nach Projektstatus, Kreis und Quartier/Bewilligt/Kreis 3/Friesenberg\",\"Anzahl Wohnungen nach Projektstatus, Kreis und Quartier/Im Bau/Kreis 3/Friesenberg\",\"Anzahl Wohnungen nach Projektstatus, Kreis und Quartier/Fertigerstellt/Kreis 5/Gewerbeschule\",\"Anzahl Wohnungen nach Projektstatus, Kreis und Quartier/Im Bau/Kreis 5/Gewerbeschule\",\"Anzahl Wohnungen nach Projektstatus, Kreis und Quartier/Fertigerstellt/Kreis 4/Hard\",\"Anzahl Wohnungen nach Projektstatus, Kreis und Quartier/Im Bau/Kreis 4/Hard\",\"Anzahl Wohnungen nach Projektstatus, Kreis und Quartier/Bewilligt/Kreis 7/Hirslanden\",\"Anzahl Wohnungen nach Projektstatus, Kreis und Quartier/Fertigerstellt/Kreis 7/Hirslanden\",\"Anzahl Wohnungen nach Projektstatus, Kreis und Quartier/Im Bau/Kreis 7/Hirslanden\",\"Anzahl Wohnungen nach Projektstatus, Kreis und Quartier/Bewilligt/Kreis 12/Hirzenbach\",\"Anzahl Wohnungen nach Projektstatus, Kreis und Quartier/Im Bau/Kreis 12/Hirzenbach\",\"Anzahl Wohnungen nach Projektstatus, Kreis und Quartier/Bewilligt/Kreis 7/Hottingen\",\"Anzahl Wohnungen nach Projektstatus, Kreis und Quartier/Fertigerstellt/Kreis 7/Hottingen\",\"Anzahl Wohnungen nach Projektstatus, Kreis und Quartier/Im Bau/Kreis 7/Hottingen\",\"Anzahl Wohnungen nach Projektstatus, Kreis und Quartier/Bewilligt/Kreis 10/H\\u00f6ngg\",\"Anzahl Wohnungen nach Projektstatus, Kreis und Quartier/Fertigerstellt/Kreis 10/H\\u00f6ngg\",\"Anzahl Wohnungen nach Projektstatus, Kreis und Quartier/Im Bau/Kreis 10/H\\u00f6ngg\",\"Anzahl Wohnungen nach Projektstatus, Kreis und Quartier/Fertigerstellt/Kreis 4/Langstrasse\",\"Anzahl Wohnungen nach Projektstatus, Kreis und Quartier/Im Bau/Kreis 4/Langstrasse\",\"Anzahl Wohnungen nach Projektstatus, Kreis und Quartier/Bewilligt/Kreis 2/Leimbach\",\"Anzahl Wohnungen nach Projektstatus, Kreis und Quartier/Fertigerstellt/Kreis 2/Leimbach\",\"Anzahl Wohnungen nach Projektstatus, Kreis und Quartier/Im Bau/Kreis 2/Leimbach\",\"Anzahl Wohnungen nach Projektstatus, Kreis und Quartier/Im Bau/Kreis 8/M\\u00fchlebach\",\"Anzahl Wohnungen nach Projektstatus, Kreis und Quartier/Bewilligt/Kreis 6/Oberstrass\",\"Anzahl Wohnungen nach Projektstatus, Kreis und Quartier/Fertigerstellt/Kreis 6/Oberstrass\",\"Anzahl Wohnungen nach Projektstatus, Kreis und Quartier/Im Bau/Kreis 6/Oberstrass\",\"Anzahl Wohnungen nach Projektstatus, Kreis und Quartier/Bewilligt/Kreis 11/Oerlikon\",\"Anzahl Wohnungen nach Projektstatus, Kreis und Quartier/Fertigerstellt/Kreis 11/Oerlikon\",\"Anzahl Wohnungen nach Projektstatus, Kreis und Quartier/Im Bau/Kreis 11/Oerlikon\",\"Anzahl Wohnungen nach Projektstatus, Kreis und Quartier/Bewilligt/Kreis 12/Schwamendingen-Mitte\",\"Anzahl Wohnungen nach Projektstatus, Kreis und Quartier/Fertigerstellt/Kreis 12/Schwamendingen-Mitte\",\"Anzahl Wohnungen nach Projektstatus, Kreis und Quartier/Im Bau/Kreis 12/Schwamendingen-Mitte\",\"Anzahl Wohnungen nach Projektstatus, Kreis und Quartier/Bewilligt/Kreis 11/Seebach\",\"Anzahl Wohnungen nach Projektstatus, Kreis und Quartier/Fertigerstellt/Kreis 11/Seebach\",\"Anzahl Wohnungen nach Projektstatus, Kreis und Quartier/Im Bau/Kreis 11/Seebach\",\"Anzahl Wohnungen nach Projektstatus, Kreis und Quartier/Fertigerstellt/Kreis 8/Seefeld\",\"Anzahl Wohnungen nach Projektstatus, Kreis und Quartier/Im Bau/Kreis 8/Seefeld\",\"Anzahl Wohnungen nach Projektstatus, Kreis und Quartier/Bewilligt/Kreis 3/Sihlfeld\",\"Anzahl Wohnungen nach Projektstatus, Kreis und Quartier/Fertigerstellt/Kreis 3/Sihlfeld\",\"Anzahl Wohnungen nach Projektstatus, Kreis und Quartier/Im Bau/Kreis 3/Sihlfeld\",\"Anzahl Wohnungen nach Projektstatus, Kreis und Quartier/Bewilligt/Kreis 6/Unterstrass\",\"Anzahl Wohnungen nach Projektstatus, Kreis und Quartier/Fertigerstellt/Kreis 6/Unterstrass\",\"Anzahl Wohnungen nach Projektstatus, Kreis und Quartier/Im Bau/Kreis 6/Unterstrass\",\"Anzahl Wohnungen nach Projektstatus, Kreis und Quartier/Bewilligt/Kreis 8/Weinegg\",\"Anzahl Wohnungen nach Projektstatus, Kreis und Quartier/Im Bau/Kreis 8/Weinegg\",\"Anzahl Wohnungen nach Projektstatus, Kreis und Quartier/Bewilligt/Kreis 4/Werd\",\"Anzahl Wohnungen nach Projektstatus, Kreis und Quartier/Fertigerstellt/Kreis 4/Werd\",\"Anzahl Wohnungen nach Projektstatus, Kreis und Quartier/Im Bau/Kreis 4/Werd\",\"Anzahl Wohnungen nach Projektstatus, Kreis und Quartier/Bewilligt/Kreis 10/Wipkingen\",\"Anzahl Wohnungen nach Projektstatus, Kreis und Quartier/Fertigerstellt/Kreis 10/Wipkingen\",\"Anzahl Wohnungen nach Projektstatus, Kreis und Quartier/Im Bau/Kreis 10/Wipkingen\",\"Anzahl Wohnungen nach Projektstatus, Kreis und Quartier/Bewilligt/Kreis 7/Witikon\",\"Anzahl Wohnungen nach Projektstatus, Kreis und Quartier/Fertigerstellt/Kreis 7/Witikon\",\"Anzahl Wohnungen nach Projektstatus, Kreis und Quartier/Im Bau/Kreis 7/Witikon\",\"Anzahl Wohnungen nach Projektstatus, Kreis und Quartier/Bewilligt/Kreis 2/Wollishofen\",\"Anzahl Wohnungen nach Projektstatus, Kreis und Quartier/Fertigerstellt/Kreis 2/Wollishofen\",\"Anzahl Wohnungen nach Projektstatus, Kreis und Quartier/Im Bau/Kreis 2/Wollishofen\",\"Anzahl Wohnungen nach Projektstatus, Kreis und Quartier/Bewilligt/Kreis 10\",\"Anzahl Wohnungen nach Projektstatus, Kreis und Quartier/Fertigerstellt/Kreis 10\",\"Anzahl Wohnungen nach Projektstatus, Kreis und Quartier/Im Bau/Kreis 10\",\"Anzahl Wohnungen nach Projektstatus, Kreis und Quartier/Bewilligt/Kreis 11\",\"Anzahl Wohnungen nach Projektstatus, Kreis und Quartier/Fertigerstellt/Kreis 11\",\"Anzahl Wohnungen nach Projektstatus, Kreis und Quartier/Im Bau/Kreis 11\",\"Anzahl Wohnungen nach Projektstatus, Kreis und Quartier/Bewilligt/Kreis 12\",\"Anzahl Wohnungen nach Projektstatus, Kreis und Quartier/Fertigerstellt/Kreis 12\",\"Anzahl Wohnungen nach Projektstatus, Kreis und Quartier/Im Bau/Kreis 12\",\"Anzahl Wohnungen nach Projektstatus, Kreis und Quartier/Bewilligt/Kreis 2\",\"Anzahl Wohnungen nach Projektstatus, Kreis und Quartier/Fertigerstellt/Kreis 2\",\"Anzahl Wohnungen nach Projektstatus, Kreis und Quartier/Im Bau/Kreis 2\",\"Anzahl Wohnungen nach Projektstatus, Kreis und Quartier/Bewilligt/Kreis 3\",\"Anzahl Wohnungen nach Projektstatus, Kreis und Quartier/Fertigerstellt/Kreis 3\",\"Anzahl Wohnungen nach Projektstatus, Kreis und Quartier/Im Bau/Kreis 3\",\"Anzahl Wohnungen nach Projektstatus, Kreis und Quartier/Bewilligt/Kreis 4\",\"Anzahl Wohnungen nach Projektstatus, Kreis und Quartier/Fertigerstellt/Kreis 4\",\"Anzahl Wohnungen nach Projektstatus, Kreis und Quartier/Im Bau/Kreis 4\",\"Anzahl Wohnungen nach Projektstatus, Kreis und Quartier/Fertigerstellt/Kreis 5\",\"Anzahl Wohnungen nach Projektstatus, Kreis und Quartier/Im Bau/Kreis 5\",\"Anzahl Wohnungen nach Projektstatus, Kreis und Quartier/Bewilligt/Kreis 6\",\"Anzahl Wohnungen nach Projektstatus, Kreis und Quartier/Fertigerstellt/Kreis 6\",\"Anzahl Wohnungen nach Projektstatus, Kreis und Quartier/Im Bau/Kreis 6\",\"Anzahl Wohnungen nach Projektstatus, Kreis und Quartier/Bewilligt/Kreis 7\",\"Anzahl Wohnungen nach Projektstatus, Kreis und Quartier/Fertigerstellt/Kreis 7\",\"Anzahl Wohnungen nach Projektstatus, Kreis und Quartier/Im Bau/Kreis 7\",\"Anzahl Wohnungen nach Projektstatus, Kreis und Quartier/Bewilligt/Kreis 8\",\"Anzahl Wohnungen nach Projektstatus, Kreis und Quartier/Fertigerstellt/Kreis 8\",\"Anzahl Wohnungen nach Projektstatus, Kreis und Quartier/Im Bau/Kreis 8\",\"Anzahl Wohnungen nach Projektstatus, Kreis und Quartier/Bewilligt/Kreis 9\",\"Anzahl Wohnungen nach Projektstatus, Kreis und Quartier/Fertigerstellt/Kreis 9\",\"Anzahl Wohnungen nach Projektstatus, Kreis und Quartier/Im Bau/Kreis 9\",\"Anzahl Wohnungen nach Projektstatus, Kreis und Quartier/Bewilligt\",\"Anzahl Wohnungen nach Projektstatus, Kreis und Quartier/Fertigerstellt\",\"Anzahl Wohnungen nach Projektstatus, Kreis und Quartier/Im Bau\",\"Anzahl Wohnungen nach Projektstatus, Kreis und Quartier\"],\"labels\":[\"Affoltern\",\"Affoltern\",\"Affoltern\",\"Albisrieden\",\"Albisrieden\",\"Albisrieden\",\"Alt-Wiedikon\",\"Alt-Wiedikon\",\"Alt-Wiedikon\",\"Altstetten\",\"Altstetten\",\"Altstetten\",\"Enge\",\"Enge\",\"Enge\",\"Escher Wyss\",\"Fluntern\",\"Fluntern\",\"Fluntern\",\"Friesenberg\",\"Friesenberg\",\"Gewerbeschule\",\"Gewerbeschule\",\"Hard\",\"Hard\",\"Hirslanden\",\"Hirslanden\",\"Hirslanden\",\"Hirzenbach\",\"Hirzenbach\",\"Hottingen\",\"Hottingen\",\"Hottingen\",\"H\\u00f6ngg\",\"H\\u00f6ngg\",\"H\\u00f6ngg\",\"Langstrasse\",\"Langstrasse\",\"Leimbach\",\"Leimbach\",\"Leimbach\",\"M\\u00fchlebach\",\"Oberstrass\",\"Oberstrass\",\"Oberstrass\",\"Oerlikon\",\"Oerlikon\",\"Oerlikon\",\"Schwamendingen-Mitte\",\"Schwamendingen-Mitte\",\"Schwamendingen-Mitte\",\"Seebach\",\"Seebach\",\"Seebach\",\"Seefeld\",\"Seefeld\",\"Sihlfeld\",\"Sihlfeld\",\"Sihlfeld\",\"Unterstrass\",\"Unterstrass\",\"Unterstrass\",\"Weinegg\",\"Weinegg\",\"Werd\",\"Werd\",\"Werd\",\"Wipkingen\",\"Wipkingen\",\"Wipkingen\",\"Witikon\",\"Witikon\",\"Witikon\",\"Wollishofen\",\"Wollishofen\",\"Wollishofen\",\"Kreis 10\",\"Kreis 10\",\"Kreis 10\",\"Kreis 11\",\"Kreis 11\",\"Kreis 11\",\"Kreis 12\",\"Kreis 12\",\"Kreis 12\",\"Kreis 2\",\"Kreis 2\",\"Kreis 2\",\"Kreis 3\",\"Kreis 3\",\"Kreis 3\",\"Kreis 4\",\"Kreis 4\",\"Kreis 4\",\"Kreis 5\",\"Kreis 5\",\"Kreis 6\",\"Kreis 6\",\"Kreis 6\",\"Kreis 7\",\"Kreis 7\",\"Kreis 7\",\"Kreis 8\",\"Kreis 8\",\"Kreis 8\",\"Kreis 9\",\"Kreis 9\",\"Kreis 9\",\"Bewilligt\",\"Fertigerstellt\",\"Im Bau\",\"Anzahl Wohnungen nach Projektstatus, Kreis und Quartier\"],\"marker\":{\"coloraxis\":\"coloraxis\",\"colors\":[17.0,58.0,567.0,173.0,89.0,652.0,395.0,5.0,73.0,429.0,384.0,782.0,92.0,18.0,15.0,189.0,21.0,32.0,57.0,3.0,48.0,55.0,64.0,76.0,325.0,33.0,2.0,111.0,29.0,192.0,13.0,10.0,66.0,31.0,63.0,145.0,15.0,105.0,9.0,140.0,48.0,51.0,17.0,37.0,37.0,110.0,58.0,152.0,3.0,14.0,371.0,50.0,214.0,1659.0,121.0,15.0,61.0,17.0,107.0,160.0,179.0,168.0,11.0,32.0,74.0,80.0,12.0,52.0,23.0,67.0,51.0,25.0,260.0,156.0,214.0,796.0,44.1566265060241,52.30232558139535,120.34905660377359,84.11864406779661,159.16363636363636,1302.3019343986543,26.5625,14.0,309.955595026643,127.94163424124514,176.66666666666666,740.5646100116414,348.05010893246185,14.272727272727273,83.69298245614036,74.0,72.52046783625731,264.23981900452486,55.0,157.37944664031622,146.26553672316385,154.67592592592592,144.3560975609756,36.440677966101696,25.405797101449274,177.17813765182186,11.0,121.0,39.285714285714285,355.43189368770766,328.492600422833,722.8926080892608,232.05829145728643,178.25764644893727,734.9048283561261,547.7657194406856]},\"name\":\"\",\"parents\":[\"Anzahl Wohnungen nach Projektstatus, Kreis und Quartier/Bewilligt/Kreis 11\",\"Anzahl Wohnungen nach Projektstatus, Kreis und Quartier/Fertigerstellt/Kreis 11\",\"Anzahl Wohnungen nach Projektstatus, Kreis und Quartier/Im Bau/Kreis 11\",\"Anzahl Wohnungen nach Projektstatus, Kreis und Quartier/Bewilligt/Kreis 9\",\"Anzahl Wohnungen nach Projektstatus, Kreis und Quartier/Fertigerstellt/Kreis 9\",\"Anzahl Wohnungen nach Projektstatus, Kreis und Quartier/Im Bau/Kreis 9\",\"Anzahl Wohnungen nach Projektstatus, Kreis und Quartier/Bewilligt/Kreis 3\",\"Anzahl Wohnungen nach Projektstatus, Kreis und Quartier/Fertigerstellt/Kreis 3\",\"Anzahl Wohnungen nach Projektstatus, Kreis und Quartier/Im Bau/Kreis 3\",\"Anzahl Wohnungen nach Projektstatus, Kreis und Quartier/Bewilligt/Kreis 9\",\"Anzahl Wohnungen nach Projektstatus, Kreis und Quartier/Fertigerstellt/Kreis 9\",\"Anzahl Wohnungen nach Projektstatus, Kreis und Quartier/Im Bau/Kreis 9\",\"Anzahl Wohnungen nach Projektstatus, Kreis und Quartier/Bewilligt/Kreis 2\",\"Anzahl Wohnungen nach Projektstatus, Kreis und Quartier/Fertigerstellt/Kreis 2\",\"Anzahl Wohnungen nach Projektstatus, Kreis und Quartier/Im Bau/Kreis 2\",\"Anzahl Wohnungen nach Projektstatus, Kreis und Quartier/Im Bau/Kreis 5\",\"Anzahl Wohnungen nach Projektstatus, Kreis und Quartier/Bewilligt/Kreis 7\",\"Anzahl Wohnungen nach Projektstatus, Kreis und Quartier/Fertigerstellt/Kreis 7\",\"Anzahl Wohnungen nach Projektstatus, Kreis und Quartier/Im Bau/Kreis 7\",\"Anzahl Wohnungen nach Projektstatus, Kreis und Quartier/Bewilligt/Kreis 3\",\"Anzahl Wohnungen nach Projektstatus, Kreis und Quartier/Im Bau/Kreis 3\",\"Anzahl Wohnungen nach Projektstatus, Kreis und Quartier/Fertigerstellt/Kreis 5\",\"Anzahl Wohnungen nach Projektstatus, Kreis und Quartier/Im Bau/Kreis 5\",\"Anzahl Wohnungen nach Projektstatus, Kreis und Quartier/Fertigerstellt/Kreis 4\",\"Anzahl Wohnungen nach Projektstatus, Kreis und Quartier/Im Bau/Kreis 4\",\"Anzahl Wohnungen nach Projektstatus, Kreis und Quartier/Bewilligt/Kreis 7\",\"Anzahl Wohnungen nach Projektstatus, Kreis und Quartier/Fertigerstellt/Kreis 7\",\"Anzahl Wohnungen nach Projektstatus, Kreis und Quartier/Im Bau/Kreis 7\",\"Anzahl Wohnungen nach Projektstatus, Kreis und Quartier/Bewilligt/Kreis 12\",\"Anzahl Wohnungen nach Projektstatus, Kreis und Quartier/Im Bau/Kreis 12\",\"Anzahl Wohnungen nach Projektstatus, Kreis und Quartier/Bewilligt/Kreis 7\",\"Anzahl Wohnungen nach Projektstatus, Kreis und Quartier/Fertigerstellt/Kreis 7\",\"Anzahl Wohnungen nach Projektstatus, Kreis und Quartier/Im Bau/Kreis 7\",\"Anzahl Wohnungen nach Projektstatus, Kreis und Quartier/Bewilligt/Kreis 10\",\"Anzahl Wohnungen nach Projektstatus, Kreis und Quartier/Fertigerstellt/Kreis 10\",\"Anzahl Wohnungen nach Projektstatus, Kreis und Quartier/Im Bau/Kreis 10\",\"Anzahl Wohnungen nach Projektstatus, Kreis und Quartier/Fertigerstellt/Kreis 4\",\"Anzahl Wohnungen nach Projektstatus, Kreis und Quartier/Im Bau/Kreis 4\",\"Anzahl Wohnungen nach Projektstatus, Kreis und Quartier/Bewilligt/Kreis 2\",\"Anzahl Wohnungen nach Projektstatus, Kreis und Quartier/Fertigerstellt/Kreis 2\",\"Anzahl Wohnungen nach Projektstatus, Kreis und Quartier/Im Bau/Kreis 2\",\"Anzahl Wohnungen nach Projektstatus, Kreis und Quartier/Im Bau/Kreis 8\",\"Anzahl Wohnungen nach Projektstatus, Kreis und Quartier/Bewilligt/Kreis 6\",\"Anzahl Wohnungen nach Projektstatus, Kreis und Quartier/Fertigerstellt/Kreis 6\",\"Anzahl Wohnungen nach Projektstatus, Kreis und Quartier/Im Bau/Kreis 6\",\"Anzahl Wohnungen nach Projektstatus, Kreis und Quartier/Bewilligt/Kreis 11\",\"Anzahl Wohnungen nach Projektstatus, Kreis und Quartier/Fertigerstellt/Kreis 11\",\"Anzahl Wohnungen nach Projektstatus, Kreis und Quartier/Im Bau/Kreis 11\",\"Anzahl Wohnungen nach Projektstatus, Kreis und Quartier/Bewilligt/Kreis 12\",\"Anzahl Wohnungen nach Projektstatus, Kreis und Quartier/Fertigerstellt/Kreis 12\",\"Anzahl Wohnungen nach Projektstatus, Kreis und Quartier/Im Bau/Kreis 12\",\"Anzahl Wohnungen nach Projektstatus, Kreis und Quartier/Bewilligt/Kreis 11\",\"Anzahl Wohnungen nach Projektstatus, Kreis und Quartier/Fertigerstellt/Kreis 11\",\"Anzahl Wohnungen nach Projektstatus, Kreis und Quartier/Im Bau/Kreis 11\",\"Anzahl Wohnungen nach Projektstatus, Kreis und Quartier/Fertigerstellt/Kreis 8\",\"Anzahl Wohnungen nach Projektstatus, Kreis und Quartier/Im Bau/Kreis 8\",\"Anzahl Wohnungen nach Projektstatus, Kreis und Quartier/Bewilligt/Kreis 3\",\"Anzahl Wohnungen nach Projektstatus, Kreis und Quartier/Fertigerstellt/Kreis 3\",\"Anzahl Wohnungen nach Projektstatus, Kreis und Quartier/Im Bau/Kreis 3\",\"Anzahl Wohnungen nach Projektstatus, Kreis und Quartier/Bewilligt/Kreis 6\",\"Anzahl Wohnungen nach Projektstatus, Kreis und Quartier/Fertigerstellt/Kreis 6\",\"Anzahl Wohnungen nach Projektstatus, Kreis und Quartier/Im Bau/Kreis 6\",\"Anzahl Wohnungen nach Projektstatus, Kreis und Quartier/Bewilligt/Kreis 8\",\"Anzahl Wohnungen nach Projektstatus, Kreis und Quartier/Im Bau/Kreis 8\",\"Anzahl Wohnungen nach Projektstatus, Kreis und Quartier/Bewilligt/Kreis 4\",\"Anzahl Wohnungen nach Projektstatus, Kreis und Quartier/Fertigerstellt/Kreis 4\",\"Anzahl Wohnungen nach Projektstatus, Kreis und Quartier/Im Bau/Kreis 4\",\"Anzahl Wohnungen nach Projektstatus, Kreis und Quartier/Bewilligt/Kreis 10\",\"Anzahl Wohnungen nach Projektstatus, Kreis und Quartier/Fertigerstellt/Kreis 10\",\"Anzahl Wohnungen nach Projektstatus, Kreis und Quartier/Im Bau/Kreis 10\",\"Anzahl Wohnungen nach Projektstatus, Kreis und Quartier/Bewilligt/Kreis 7\",\"Anzahl Wohnungen nach Projektstatus, Kreis und Quartier/Fertigerstellt/Kreis 7\",\"Anzahl Wohnungen nach Projektstatus, Kreis und Quartier/Im Bau/Kreis 7\",\"Anzahl Wohnungen nach Projektstatus, Kreis und Quartier/Bewilligt/Kreis 2\",\"Anzahl Wohnungen nach Projektstatus, Kreis und Quartier/Fertigerstellt/Kreis 2\",\"Anzahl Wohnungen nach Projektstatus, Kreis und Quartier/Im Bau/Kreis 2\",\"Anzahl Wohnungen nach Projektstatus, Kreis und Quartier/Bewilligt\",\"Anzahl Wohnungen nach Projektstatus, Kreis und Quartier/Fertigerstellt\",\"Anzahl Wohnungen nach Projektstatus, Kreis und Quartier/Im Bau\",\"Anzahl Wohnungen nach Projektstatus, Kreis und Quartier/Bewilligt\",\"Anzahl Wohnungen nach Projektstatus, Kreis und Quartier/Fertigerstellt\",\"Anzahl Wohnungen nach Projektstatus, Kreis und Quartier/Im Bau\",\"Anzahl Wohnungen nach Projektstatus, Kreis und Quartier/Bewilligt\",\"Anzahl Wohnungen nach Projektstatus, Kreis und Quartier/Fertigerstellt\",\"Anzahl Wohnungen nach Projektstatus, Kreis und Quartier/Im Bau\",\"Anzahl Wohnungen nach Projektstatus, Kreis und Quartier/Bewilligt\",\"Anzahl Wohnungen nach Projektstatus, Kreis und Quartier/Fertigerstellt\",\"Anzahl Wohnungen nach Projektstatus, Kreis und Quartier/Im Bau\",\"Anzahl Wohnungen nach Projektstatus, Kreis und Quartier/Bewilligt\",\"Anzahl Wohnungen nach Projektstatus, Kreis und Quartier/Fertigerstellt\",\"Anzahl Wohnungen nach Projektstatus, Kreis und Quartier/Im Bau\",\"Anzahl Wohnungen nach Projektstatus, Kreis und Quartier/Bewilligt\",\"Anzahl Wohnungen nach Projektstatus, Kreis und Quartier/Fertigerstellt\",\"Anzahl Wohnungen nach Projektstatus, Kreis und Quartier/Im Bau\",\"Anzahl Wohnungen nach Projektstatus, Kreis und Quartier/Fertigerstellt\",\"Anzahl Wohnungen nach Projektstatus, Kreis und Quartier/Im Bau\",\"Anzahl Wohnungen nach Projektstatus, Kreis und Quartier/Bewilligt\",\"Anzahl Wohnungen nach Projektstatus, Kreis und Quartier/Fertigerstellt\",\"Anzahl Wohnungen nach Projektstatus, Kreis und Quartier/Im Bau\",\"Anzahl Wohnungen nach Projektstatus, Kreis und Quartier/Bewilligt\",\"Anzahl Wohnungen nach Projektstatus, Kreis und Quartier/Fertigerstellt\",\"Anzahl Wohnungen nach Projektstatus, Kreis und Quartier/Im Bau\",\"Anzahl Wohnungen nach Projektstatus, Kreis und Quartier/Bewilligt\",\"Anzahl Wohnungen nach Projektstatus, Kreis und Quartier/Fertigerstellt\",\"Anzahl Wohnungen nach Projektstatus, Kreis und Quartier/Im Bau\",\"Anzahl Wohnungen nach Projektstatus, Kreis und Quartier/Bewilligt\",\"Anzahl Wohnungen nach Projektstatus, Kreis und Quartier/Fertigerstellt\",\"Anzahl Wohnungen nach Projektstatus, Kreis und Quartier/Im Bau\",\"Anzahl Wohnungen nach Projektstatus, Kreis und Quartier\",\"Anzahl Wohnungen nach Projektstatus, Kreis und Quartier\",\"Anzahl Wohnungen nach Projektstatus, Kreis und Quartier\",\"\"],\"values\":[17,58,567,173,89,652,395,5,73,429,384,782,92,18,15,189,21,32,57,3,48,55,64,76,325,33,2,111,29,192,13,10,66,31,63,145,15,105,9,140,48,51,17,37,37,110,58,152,3,14,371,50,214,1659,121,15,61,17,107,160,179,168,11,32,74,80,12,52,23,67,51,25,260,156,214,796,83,86,212,177,330,2378,32,14,563,257,372,859,459,22,228,74,171,442,55,253,177,216,205,118,69,494,11,121,98,602,473,1434,1990,1929,7166,11085],\"type\":\"treemap\",\"root\":{\"color\":\"grey\"}}],                        {\"template\":{\"data\":{\"bar\":[{\"error_x\":{\"color\":\"#2a3f5f\"},\"error_y\":{\"color\":\"#2a3f5f\"},\"marker\":{\"line\":{\"color\":\"#E5ECF6\",\"width\":0.5},\"pattern\":{\"fillmode\":\"overlay\",\"size\":10,\"solidity\":0.2}},\"type\":\"bar\"}],\"barpolar\":[{\"marker\":{\"line\":{\"color\":\"#E5ECF6\",\"width\":0.5},\"pattern\":{\"fillmode\":\"overlay\",\"size\":10,\"solidity\":0.2}},\"type\":\"barpolar\"}],\"carpet\":[{\"aaxis\":{\"endlinecolor\":\"#2a3f5f\",\"gridcolor\":\"white\",\"linecolor\":\"white\",\"minorgridcolor\":\"white\",\"startlinecolor\":\"#2a3f5f\"},\"baxis\":{\"endlinecolor\":\"#2a3f5f\",\"gridcolor\":\"white\",\"linecolor\":\"white\",\"minorgridcolor\":\"white\",\"startlinecolor\":\"#2a3f5f\"},\"type\":\"carpet\"}],\"choropleth\":[{\"colorbar\":{\"outlinewidth\":0,\"ticks\":\"\"},\"type\":\"choropleth\"}],\"contour\":[{\"colorbar\":{\"outlinewidth\":0,\"ticks\":\"\"},\"colorscale\":[[0.0,\"#0d0887\"],[0.1111111111111111,\"#46039f\"],[0.2222222222222222,\"#7201a8\"],[0.3333333333333333,\"#9c179e\"],[0.4444444444444444,\"#bd3786\"],[0.5555555555555556,\"#d8576b\"],[0.6666666666666666,\"#ed7953\"],[0.7777777777777778,\"#fb9f3a\"],[0.8888888888888888,\"#fdca26\"],[1.0,\"#f0f921\"]],\"type\":\"contour\"}],\"contourcarpet\":[{\"colorbar\":{\"outlinewidth\":0,\"ticks\":\"\"},\"type\":\"contourcarpet\"}],\"heatmap\":[{\"colorbar\":{\"outlinewidth\":0,\"ticks\":\"\"},\"colorscale\":[[0.0,\"#0d0887\"],[0.1111111111111111,\"#46039f\"],[0.2222222222222222,\"#7201a8\"],[0.3333333333333333,\"#9c179e\"],[0.4444444444444444,\"#bd3786\"],[0.5555555555555556,\"#d8576b\"],[0.6666666666666666,\"#ed7953\"],[0.7777777777777778,\"#fb9f3a\"],[0.8888888888888888,\"#fdca26\"],[1.0,\"#f0f921\"]],\"type\":\"heatmap\"}],\"heatmapgl\":[{\"colorbar\":{\"outlinewidth\":0,\"ticks\":\"\"},\"colorscale\":[[0.0,\"#0d0887\"],[0.1111111111111111,\"#46039f\"],[0.2222222222222222,\"#7201a8\"],[0.3333333333333333,\"#9c179e\"],[0.4444444444444444,\"#bd3786\"],[0.5555555555555556,\"#d8576b\"],[0.6666666666666666,\"#ed7953\"],[0.7777777777777778,\"#fb9f3a\"],[0.8888888888888888,\"#fdca26\"],[1.0,\"#f0f921\"]],\"type\":\"heatmapgl\"}],\"histogram\":[{\"marker\":{\"pattern\":{\"fillmode\":\"overlay\",\"size\":10,\"solidity\":0.2}},\"type\":\"histogram\"}],\"histogram2d\":[{\"colorbar\":{\"outlinewidth\":0,\"ticks\":\"\"},\"colorscale\":[[0.0,\"#0d0887\"],[0.1111111111111111,\"#46039f\"],[0.2222222222222222,\"#7201a8\"],[0.3333333333333333,\"#9c179e\"],[0.4444444444444444,\"#bd3786\"],[0.5555555555555556,\"#d8576b\"],[0.6666666666666666,\"#ed7953\"],[0.7777777777777778,\"#fb9f3a\"],[0.8888888888888888,\"#fdca26\"],[1.0,\"#f0f921\"]],\"type\":\"histogram2d\"}],\"histogram2dcontour\":[{\"colorbar\":{\"outlinewidth\":0,\"ticks\":\"\"},\"colorscale\":[[0.0,\"#0d0887\"],[0.1111111111111111,\"#46039f\"],[0.2222222222222222,\"#7201a8\"],[0.3333333333333333,\"#9c179e\"],[0.4444444444444444,\"#bd3786\"],[0.5555555555555556,\"#d8576b\"],[0.6666666666666666,\"#ed7953\"],[0.7777777777777778,\"#fb9f3a\"],[0.8888888888888888,\"#fdca26\"],[1.0,\"#f0f921\"]],\"type\":\"histogram2dcontour\"}],\"mesh3d\":[{\"colorbar\":{\"outlinewidth\":0,\"ticks\":\"\"},\"type\":\"mesh3d\"}],\"parcoords\":[{\"line\":{\"colorbar\":{\"outlinewidth\":0,\"ticks\":\"\"}},\"type\":\"parcoords\"}],\"pie\":[{\"automargin\":true,\"type\":\"pie\"}],\"scatter\":[{\"marker\":{\"colorbar\":{\"outlinewidth\":0,\"ticks\":\"\"}},\"type\":\"scatter\"}],\"scatter3d\":[{\"line\":{\"colorbar\":{\"outlinewidth\":0,\"ticks\":\"\"}},\"marker\":{\"colorbar\":{\"outlinewidth\":0,\"ticks\":\"\"}},\"type\":\"scatter3d\"}],\"scattercarpet\":[{\"marker\":{\"colorbar\":{\"outlinewidth\":0,\"ticks\":\"\"}},\"type\":\"scattercarpet\"}],\"scattergeo\":[{\"marker\":{\"colorbar\":{\"outlinewidth\":0,\"ticks\":\"\"}},\"type\":\"scattergeo\"}],\"scattergl\":[{\"marker\":{\"colorbar\":{\"outlinewidth\":0,\"ticks\":\"\"}},\"type\":\"scattergl\"}],\"scattermapbox\":[{\"marker\":{\"colorbar\":{\"outlinewidth\":0,\"ticks\":\"\"}},\"type\":\"scattermapbox\"}],\"scatterpolar\":[{\"marker\":{\"colorbar\":{\"outlinewidth\":0,\"ticks\":\"\"}},\"type\":\"scatterpolar\"}],\"scatterpolargl\":[{\"marker\":{\"colorbar\":{\"outlinewidth\":0,\"ticks\":\"\"}},\"type\":\"scatterpolargl\"}],\"scatterternary\":[{\"marker\":{\"colorbar\":{\"outlinewidth\":0,\"ticks\":\"\"}},\"type\":\"scatterternary\"}],\"surface\":[{\"colorbar\":{\"outlinewidth\":0,\"ticks\":\"\"},\"colorscale\":[[0.0,\"#0d0887\"],[0.1111111111111111,\"#46039f\"],[0.2222222222222222,\"#7201a8\"],[0.3333333333333333,\"#9c179e\"],[0.4444444444444444,\"#bd3786\"],[0.5555555555555556,\"#d8576b\"],[0.6666666666666666,\"#ed7953\"],[0.7777777777777778,\"#fb9f3a\"],[0.8888888888888888,\"#fdca26\"],[1.0,\"#f0f921\"]],\"type\":\"surface\"}],\"table\":[{\"cells\":{\"fill\":{\"color\":\"#EBF0F8\"},\"line\":{\"color\":\"white\"}},\"header\":{\"fill\":{\"color\":\"#C8D4E3\"},\"line\":{\"color\":\"white\"}},\"type\":\"table\"}]},\"layout\":{\"annotationdefaults\":{\"arrowcolor\":\"#2a3f5f\",\"arrowhead\":0,\"arrowwidth\":1},\"autotypenumbers\":\"strict\",\"coloraxis\":{\"colorbar\":{\"outlinewidth\":0,\"ticks\":\"\"}},\"colorscale\":{\"diverging\":[[0,\"#8e0152\"],[0.1,\"#c51b7d\"],[0.2,\"#de77ae\"],[0.3,\"#f1b6da\"],[0.4,\"#fde0ef\"],[0.5,\"#f7f7f7\"],[0.6,\"#e6f5d0\"],[0.7,\"#b8e186\"],[0.8,\"#7fbc41\"],[0.9,\"#4d9221\"],[1,\"#276419\"]],\"sequential\":[[0.0,\"#0d0887\"],[0.1111111111111111,\"#46039f\"],[0.2222222222222222,\"#7201a8\"],[0.3333333333333333,\"#9c179e\"],[0.4444444444444444,\"#bd3786\"],[0.5555555555555556,\"#d8576b\"],[0.6666666666666666,\"#ed7953\"],[0.7777777777777778,\"#fb9f3a\"],[0.8888888888888888,\"#fdca26\"],[1.0,\"#f0f921\"]],\"sequentialminus\":[[0.0,\"#0d0887\"],[0.1111111111111111,\"#46039f\"],[0.2222222222222222,\"#7201a8\"],[0.3333333333333333,\"#9c179e\"],[0.4444444444444444,\"#bd3786\"],[0.5555555555555556,\"#d8576b\"],[0.6666666666666666,\"#ed7953\"],[0.7777777777777778,\"#fb9f3a\"],[0.8888888888888888,\"#fdca26\"],[1.0,\"#f0f921\"]]},\"colorway\":[\"#636efa\",\"#EF553B\",\"#00cc96\",\"#ab63fa\",\"#FFA15A\",\"#19d3f3\",\"#FF6692\",\"#B6E880\",\"#FF97FF\",\"#FECB52\"],\"font\":{\"color\":\"#2a3f5f\"},\"geo\":{\"bgcolor\":\"white\",\"lakecolor\":\"white\",\"landcolor\":\"#E5ECF6\",\"showlakes\":true,\"showland\":true,\"subunitcolor\":\"white\"},\"hoverlabel\":{\"align\":\"left\"},\"hovermode\":\"closest\",\"mapbox\":{\"style\":\"light\"},\"paper_bgcolor\":\"white\",\"plot_bgcolor\":\"#E5ECF6\",\"polar\":{\"angularaxis\":{\"gridcolor\":\"white\",\"linecolor\":\"white\",\"ticks\":\"\"},\"bgcolor\":\"#E5ECF6\",\"radialaxis\":{\"gridcolor\":\"white\",\"linecolor\":\"white\",\"ticks\":\"\"}},\"scene\":{\"xaxis\":{\"backgroundcolor\":\"#E5ECF6\",\"gridcolor\":\"white\",\"gridwidth\":2,\"linecolor\":\"white\",\"showbackground\":true,\"ticks\":\"\",\"zerolinecolor\":\"white\"},\"yaxis\":{\"backgroundcolor\":\"#E5ECF6\",\"gridcolor\":\"white\",\"gridwidth\":2,\"linecolor\":\"white\",\"showbackground\":true,\"ticks\":\"\",\"zerolinecolor\":\"white\"},\"zaxis\":{\"backgroundcolor\":\"#E5ECF6\",\"gridcolor\":\"white\",\"gridwidth\":2,\"linecolor\":\"white\",\"showbackground\":true,\"ticks\":\"\",\"zerolinecolor\":\"white\"}},\"shapedefaults\":{\"line\":{\"color\":\"#2a3f5f\"}},\"ternary\":{\"aaxis\":{\"gridcolor\":\"white\",\"linecolor\":\"white\",\"ticks\":\"\"},\"baxis\":{\"gridcolor\":\"white\",\"linecolor\":\"white\",\"ticks\":\"\"},\"bgcolor\":\"#E5ECF6\",\"caxis\":{\"gridcolor\":\"white\",\"linecolor\":\"white\",\"ticks\":\"\"}},\"title\":{\"x\":0.05},\"xaxis\":{\"automargin\":true,\"gridcolor\":\"white\",\"linecolor\":\"white\",\"ticks\":\"\",\"title\":{\"standoff\":15},\"zerolinecolor\":\"white\",\"zerolinewidth\":2},\"yaxis\":{\"automargin\":true,\"gridcolor\":\"white\",\"linecolor\":\"white\",\"ticks\":\"\",\"title\":{\"standoff\":15},\"zerolinecolor\":\"white\",\"zerolinewidth\":2}}},\"coloraxis\":{\"colorbar\":{\"title\":{\"text\":\"sum_ProjAnzWhg\"}},\"colorscale\":[[0.0,\"#00224e\"],[0.1111111111111111,\"#123570\"],[0.2222222222222222,\"#3b496c\"],[0.3333333333333333,\"#575d6d\"],[0.4444444444444444,\"#707173\"],[0.5555555555555556,\"#8a8678\"],[0.6666666666666666,\"#a59c74\"],[0.7777777777777778,\"#c3b369\"],[0.8888888888888888,\"#e1cc55\"],[1.0,\"#fee838\"]]},\"legend\":{\"tracegroupgap\":0},\"margin\":{\"t\":50,\"l\":25,\"r\":250,\"b\":25},\"height\":400,\"width\":1100},                        {\"responsive\": true}                    ).then(function(){\n",
       "                            \n",
       "var gd = document.getElementById('0b1f18c1-1e4c-42a6-a430-bc3d9deda936');\n",
       "var x = new MutationObserver(function (mutations, observer) {{\n",
       "        var display = window.getComputedStyle(gd).display;\n",
       "        if (!display || display === 'none') {{\n",
       "            console.log([gd, 'removed!']);\n",
       "            Plotly.purge(gd);\n",
       "            observer.disconnect();\n",
       "        }}\n",
       "}});\n",
       "\n",
       "// Listen for the removal of the full notebook cells\n",
       "var notebookContainer = gd.closest('#notebook-container');\n",
       "if (notebookContainer) {{\n",
       "    x.observe(notebookContainer, {childList: true});\n",
       "}}\n",
       "\n",
       "// Listen for the clearing of the current output cell\n",
       "var outputEl = gd.closest('.output');\n",
       "if (outputEl) {{\n",
       "    x.observe(outputEl, {childList: true});\n",
       "}}\n",
       "\n",
       "                        })                };                });            </script>        </div>"
      ]
     },
     "metadata": {},
     "output_type": "display_data"
    }
   ],
   "source": [
    "fig = px.treemap(myTreemapAgg.query('sum_ProjAnzWhg >0').reset_index(), path=[px.Constant(\"Anzahl Wohnungen nach Projektstatus, Kreis und Quartier\"),'ProjStatus', 'KreisLang', 'QuarLang']\n",
    "                 , values='sum_ProjAnzWhg'\n",
    "                 , color='sum_ProjAnzWhg'\n",
    "                 ## bei discrete scales (bei Klassen und Strings):                 \n",
    "                 #, color_discrete_map={'(?)':'lightgrey','EVP':'gold', 'SP':'#FF3030', 'PdA':'#EE3B3B', 'Grüne':'#A2CD5A','GLP':'#CAFF70','Die Mitte':'orange','FDP':'#104E8B','AL':'deeppink','SVP':'forestgreen', 'FL ZÜRI':'#8B864E','Volt':'#lightblue' }                \n",
    "                 ## bei continuous scales (bei Zahlenwerten):\n",
    "                , color_continuous_scale='cividis'\n",
    "                #, color_continuous_midpoint=np.average(df['AnzBestWir'], weights=df['AnzBestWir'])  \n",
    "                 ,height=400\n",
    "                 ,width=1100                 \n",
    "                )\n",
    "fig.update_traces(root_color=\"grey\")\n",
    "fig.update_layout(margin = dict(t=50, l=25, r=250, b=25))\n",
    "fig.show()"
   ]
  },
  {
   "cell_type": "markdown",
   "metadata": {},
   "source": [
    "#### Anzahl Wohnungen nach Projektstatus, Kreis und Quartier"
   ]
  },
  {
   "cell_type": "code",
   "execution_count": 45,
   "metadata": {},
   "outputs": [
    {
     "data": {
      "text/plain": [
       "QuarSort           int64\n",
       "QuarLang          object\n",
       "KreisSort          int64\n",
       "KreisLang         object\n",
       "ProjStatus        object\n",
       "ProjAnzGbd         int64\n",
       "ProjKosten         int64\n",
       "ProjRauminhalt     int64\n",
       "ProjAnzWhg         int64\n",
       "Whg_1_3_Zi         int64\n",
       "Whg_4plus_Zi       int64\n",
       "Jahr_str          object\n",
       "dtype: object"
      ]
     },
     "execution_count": 45,
     "metadata": {},
     "output_type": "execute_result"
    }
   ],
   "source": [
    "data2betested.dtypes"
   ]
  },
  {
   "cell_type": "code",
   "execution_count": 46,
   "metadata": {
    "tags": []
   },
   "outputs": [
    {
     "data": {
      "text/html": [
       "<div>\n",
       "<style scoped>\n",
       "    .dataframe tbody tr th:only-of-type {\n",
       "        vertical-align: middle;\n",
       "    }\n",
       "\n",
       "    .dataframe tbody tr th {\n",
       "        vertical-align: top;\n",
       "    }\n",
       "\n",
       "    .dataframe thead th {\n",
       "        text-align: right;\n",
       "    }\n",
       "</style>\n",
       "<table border=\"1\" class=\"dataframe\">\n",
       "  <thead>\n",
       "    <tr style=\"text-align: right;\">\n",
       "      <th></th>\n",
       "      <th>Jahr</th>\n",
       "      <th>QuarLang</th>\n",
       "      <th>KreisLang</th>\n",
       "      <th>ProjStatus</th>\n",
       "      <th>sum_ProjKosten</th>\n",
       "      <th>sum_Whg_1_3_Zi</th>\n",
       "      <th>sum_Whg_4plus_Zi</th>\n",
       "    </tr>\n",
       "  </thead>\n",
       "  <tbody>\n",
       "    <tr>\n",
       "      <th>0</th>\n",
       "      <td>2021-01-01</td>\n",
       "      <td>Seebach</td>\n",
       "      <td>Kreis 11</td>\n",
       "      <td>Im Bau</td>\n",
       "      <td>867143</td>\n",
       "      <td>1098</td>\n",
       "      <td>561</td>\n",
       "    </tr>\n",
       "    <tr>\n",
       "      <th>1</th>\n",
       "      <td>2021-01-01</td>\n",
       "      <td>Wollishofen</td>\n",
       "      <td>Kreis 2</td>\n",
       "      <td>Im Bau</td>\n",
       "      <td>320688</td>\n",
       "      <td>611</td>\n",
       "      <td>185</td>\n",
       "    </tr>\n",
       "    <tr>\n",
       "      <th>2</th>\n",
       "      <td>2021-01-01</td>\n",
       "      <td>Altstetten</td>\n",
       "      <td>Kreis 9</td>\n",
       "      <td>Im Bau</td>\n",
       "      <td>593275</td>\n",
       "      <td>601</td>\n",
       "      <td>181</td>\n",
       "    </tr>\n",
       "  </tbody>\n",
       "</table>\n",
       "</div>"
      ],
      "text/plain": [
       "        Jahr     QuarLang KreisLang ProjStatus  sum_ProjKosten  sum_Whg_1_3_Zi  sum_Whg_4plus_Zi\n",
       "0 2021-01-01      Seebach  Kreis 11     Im Bau          867143            1098               561\n",
       "1 2021-01-01  Wollishofen   Kreis 2     Im Bau          320688             611               185\n",
       "2 2021-01-01   Altstetten   Kreis 9     Im Bau          593275             601               181"
      ]
     },
     "execution_count": 46,
     "metadata": {},
     "output_type": "execute_result"
    }
   ],
   "source": [
    "myTreemapAgg = data2betested.loc[\"2021\"]  \\\n",
    "    .groupby(['Jahr', 'QuarLang', 'KreisLang', 'ProjStatus']) \\\n",
    "    .agg(sum_ProjKosten=('ProjKosten', 'sum'), sum_Whg_1_3_Zi=('Whg_1_3_Zi', 'sum'),sum_Whg_4plus_Zi=('Whg_4plus_Zi', 'sum'))\\\n",
    "    .sort_values('sum_Whg_1_3_Zi', ascending=False) \n",
    "\n",
    "myTreemapAgg.reset_index().head(3)"
   ]
  },
  {
   "cell_type": "code",
   "execution_count": 47,
   "metadata": {},
   "outputs": [
    {
     "data": {
      "application/vnd.plotly.v1+json": {
       "config": {
        "plotlyServerURL": "https://plot.ly"
       },
       "data": [
        {
         "branchvalues": "total",
         "customdata": [
          [
           "Im Bau"
          ],
          [
           "Im Bau"
          ],
          [
           "Fertigerstellt"
          ],
          [
           "Bewilligt"
          ],
          [
           "Bewilligt"
          ],
          [
           "Im Bau"
          ],
          [
           "Fertigerstellt"
          ],
          [
           "Im Bau"
          ],
          [
           "Bewilligt"
          ],
          [
           "Im Bau"
          ],
          [
           "Fertigerstellt"
          ],
          [
           "Im Bau"
          ],
          [
           "Fertigerstellt"
          ],
          [
           "Im Bau"
          ],
          [
           "Im Bau"
          ],
          [
           "Im Bau"
          ],
          [
           "Im Bau"
          ],
          [
           "Bewilligt"
          ],
          [
           "Bewilligt"
          ],
          [
           "Fertigerstellt"
          ],
          [
           "Bewilligt"
          ],
          [
           "Fertigerstellt"
          ],
          [
           "Bewilligt"
          ],
          [
           "Bewilligt"
          ],
          [
           "Im Bau"
          ],
          [
           "Fertigerstellt"
          ],
          [
           "Bewilligt"
          ],
          [
           "Fertigerstellt"
          ],
          [
           "Bewilligt"
          ],
          [
           "Fertigerstellt"
          ],
          [
           "Im Bau"
          ],
          [
           "Bewilligt"
          ],
          [
           "Bewilligt"
          ],
          [
           "Fertigerstellt"
          ],
          [
           "Im Bau"
          ],
          [
           "Fertigerstellt"
          ],
          [
           "Im Bau"
          ],
          [
           "Fertigerstellt"
          ],
          [
           "Im Bau"
          ],
          [
           "Im Bau"
          ],
          [
           "Im Bau"
          ],
          [
           "Im Bau"
          ],
          [
           "Fertigerstellt"
          ],
          [
           "Bewilligt"
          ],
          [
           "Im Bau"
          ],
          [
           "Bewilligt"
          ],
          [
           "Bewilligt"
          ],
          [
           "Fertigerstellt"
          ],
          [
           "Fertigerstellt"
          ],
          [
           "Im Bau"
          ],
          [
           "Bewilligt"
          ],
          [
           "Fertigerstellt"
          ],
          [
           "Bewilligt"
          ],
          [
           "Fertigerstellt"
          ],
          [
           "Im Bau"
          ],
          [
           "Fertigerstellt"
          ],
          [
           "Fertigerstellt"
          ],
          [
           "Im Bau"
          ],
          [
           "Bewilligt"
          ],
          [
           "Im Bau"
          ],
          [
           "Bewilligt"
          ],
          [
           "Im Bau"
          ],
          [
           "Fertigerstellt"
          ],
          [
           "Fertigerstellt"
          ],
          [
           "Bewilligt"
          ],
          [
           "Fertigerstellt"
          ],
          [
           "Im Bau"
          ],
          [
           "Im Bau"
          ],
          [
           "Im Bau"
          ],
          [
           "Fertigerstellt"
          ],
          [
           "Bewilligt"
          ],
          [
           "Im Bau"
          ],
          [
           "Bewilligt"
          ],
          [
           "Fertigerstellt"
          ],
          [
           "Im Bau"
          ],
          [
           "Fertigerstellt"
          ],
          [
           "Im Bau"
          ],
          [
           "Bewilligt"
          ],
          [
           "Fertigerstellt"
          ],
          [
           "Im Bau"
          ],
          [
           "Bewilligt"
          ],
          [
           "Im Bau"
          ],
          [
           "Bewilligt"
          ],
          [
           "Fertigerstellt"
          ],
          [
           "Im Bau"
          ],
          [
           "Bewilligt"
          ],
          [
           "Fertigerstellt"
          ],
          [
           "Im Bau"
          ],
          [
           "Bewilligt"
          ],
          [
           "Fertigerstellt"
          ],
          [
           "Im Bau"
          ],
          [
           "Bewilligt"
          ],
          [
           "Fertigerstellt"
          ],
          [
           "Im Bau"
          ],
          [
           "Bewilligt"
          ],
          [
           "Fertigerstellt"
          ],
          [
           "Im Bau"
          ],
          [
           "Bewilligt"
          ],
          [
           "Fertigerstellt"
          ],
          [
           "Im Bau"
          ],
          [
           "Bewilligt"
          ],
          [
           "Fertigerstellt"
          ],
          [
           "Im Bau"
          ],
          [
           "(?)"
          ]
         ],
         "domain": {
          "x": [
           0,
           1
          ],
          "y": [
           0,
           1
          ]
         },
         "hovertemplate": "labels=%{label}<br>sum_ProjKosten=%{value}<br>parent=%{parent}<br>id=%{id}<br>ProjStatus=%{customdata[0]}<extra></extra>",
         "ids": [
          "Anzahl Wohnungen nach Projektstatus, Kreis und Quartier/Im Bau/Kreis 2/Wollishofen",
          "Anzahl Wohnungen nach Projektstatus, Kreis und Quartier/Im Bau/Kreis 6/Oberstrass",
          "Anzahl Wohnungen nach Projektstatus, Kreis und Quartier/Fertigerstellt/Kreis 6/Oberstrass",
          "Anzahl Wohnungen nach Projektstatus, Kreis und Quartier/Bewilligt/Kreis 6/Oberstrass",
          "Anzahl Wohnungen nach Projektstatus, Kreis und Quartier/Bewilligt/Kreis 11/Seebach",
          "Anzahl Wohnungen nach Projektstatus, Kreis und Quartier/Im Bau/Kreis 11/Seebach",
          "Anzahl Wohnungen nach Projektstatus, Kreis und Quartier/Fertigerstellt/Kreis 8/Seefeld",
          "Anzahl Wohnungen nach Projektstatus, Kreis und Quartier/Im Bau/Kreis 3/Sihlfeld",
          "Anzahl Wohnungen nach Projektstatus, Kreis und Quartier/Bewilligt/Kreis 7/Hottingen",
          "Anzahl Wohnungen nach Projektstatus, Kreis und Quartier/Im Bau/Kreis 12/Hirzenbach",
          "Anzahl Wohnungen nach Projektstatus, Kreis und Quartier/Fertigerstellt/Kreis 7/Hirslanden",
          "Anzahl Wohnungen nach Projektstatus, Kreis und Quartier/Im Bau/Kreis 3/Friesenberg",
          "Anzahl Wohnungen nach Projektstatus, Kreis und Quartier/Fertigerstellt/Kreis 7/Fluntern",
          "Anzahl Wohnungen nach Projektstatus, Kreis und Quartier/Im Bau/Kreis 8/Weinegg",
          "Anzahl Wohnungen nach Projektstatus, Kreis und Quartier/Im Bau/Kreis 4/Hard",
          "Anzahl Wohnungen nach Projektstatus, Kreis und Quartier/Im Bau/Kreis 3/Alt-Wiedikon",
          "Anzahl Wohnungen nach Projektstatus, Kreis und Quartier/Im Bau/Kreis 9/Albisrieden",
          "Anzahl Wohnungen nach Projektstatus, Kreis und Quartier/Bewilligt/Kreis 4/Werd",
          "Anzahl Wohnungen nach Projektstatus, Kreis und Quartier/Bewilligt/Kreis 10/Wipkingen",
          "Anzahl Wohnungen nach Projektstatus, Kreis und Quartier/Fertigerstellt/Kreis 12/Schwamendingen-Mitte",
          "Anzahl Wohnungen nach Projektstatus, Kreis und Quartier/Bewilligt/Kreis 5/Gewerbeschule",
          "Anzahl Wohnungen nach Projektstatus, Kreis und Quartier/Fertigerstellt/Kreis 11/Oerlikon",
          "Anzahl Wohnungen nach Projektstatus, Kreis und Quartier/Bewilligt/Kreis 11/Oerlikon",
          "Anzahl Wohnungen nach Projektstatus, Kreis und Quartier/Bewilligt/Kreis 2/Wollishofen",
          "Anzahl Wohnungen nach Projektstatus, Kreis und Quartier/Im Bau/Kreis 7/Witikon",
          "Anzahl Wohnungen nach Projektstatus, Kreis und Quartier/Fertigerstellt/Kreis 7/Witikon",
          "Anzahl Wohnungen nach Projektstatus, Kreis und Quartier/Bewilligt/Kreis 7/Witikon",
          "Anzahl Wohnungen nach Projektstatus, Kreis und Quartier/Fertigerstellt/Kreis 11/Seebach",
          "Anzahl Wohnungen nach Projektstatus, Kreis und Quartier/Bewilligt/Kreis 2/Leimbach",
          "Anzahl Wohnungen nach Projektstatus, Kreis und Quartier/Fertigerstellt/Kreis 2/Wollishofen",
          "Anzahl Wohnungen nach Projektstatus, Kreis und Quartier/Im Bau/Kreis 10/Höngg",
          "Anzahl Wohnungen nach Projektstatus, Kreis und Quartier/Bewilligt/Kreis 2/Enge",
          "Anzahl Wohnungen nach Projektstatus, Kreis und Quartier/Bewilligt/Kreis 3/Alt-Wiedikon",
          "Anzahl Wohnungen nach Projektstatus, Kreis und Quartier/Fertigerstellt/Kreis 4/Werd",
          "Anzahl Wohnungen nach Projektstatus, Kreis und Quartier/Im Bau/Kreis 10/Wipkingen",
          "Anzahl Wohnungen nach Projektstatus, Kreis und Quartier/Fertigerstellt/Kreis 1/Hochschulen",
          "Anzahl Wohnungen nach Projektstatus, Kreis und Quartier/Im Bau/Kreis 7/Fluntern",
          "Anzahl Wohnungen nach Projektstatus, Kreis und Quartier/Fertigerstellt/Kreis 6/Unterstrass",
          "Anzahl Wohnungen nach Projektstatus, Kreis und Quartier/Im Bau/Kreis 4/Werd",
          "Anzahl Wohnungen nach Projektstatus, Kreis und Quartier/Im Bau/Kreis 6/Unterstrass",
          "Anzahl Wohnungen nach Projektstatus, Kreis und Quartier/Im Bau/Kreis 7/Hottingen",
          "Anzahl Wohnungen nach Projektstatus, Kreis und Quartier/Im Bau/Kreis 2/Enge",
          "Anzahl Wohnungen nach Projektstatus, Kreis und Quartier/Fertigerstellt/Kreis 8/Weinegg",
          "Anzahl Wohnungen nach Projektstatus, Kreis und Quartier/Bewilligt/Kreis 6/Unterstrass",
          "Anzahl Wohnungen nach Projektstatus, Kreis und Quartier/Im Bau/Kreis 12/Schwamendingen-Mitte",
          "Anzahl Wohnungen nach Projektstatus, Kreis und Quartier/Bewilligt/Kreis 8/Weinegg",
          "Anzahl Wohnungen nach Projektstatus, Kreis und Quartier/Bewilligt/Kreis 11/Affoltern",
          "Anzahl Wohnungen nach Projektstatus, Kreis und Quartier/Fertigerstellt/Kreis 1/Lindenhof",
          "Anzahl Wohnungen nach Projektstatus, Kreis und Quartier/Fertigerstellt/Kreis 11/Affoltern",
          "Anzahl Wohnungen nach Projektstatus, Kreis und Quartier/Im Bau/Kreis 11/Affoltern",
          "Anzahl Wohnungen nach Projektstatus, Kreis und Quartier/Bewilligt/Kreis 9/Albisrieden",
          "Anzahl Wohnungen nach Projektstatus, Kreis und Quartier/Fertigerstellt/Kreis 9/Albisrieden",
          "Anzahl Wohnungen nach Projektstatus, Kreis und Quartier/Bewilligt/Kreis 9/Altstetten",
          "Anzahl Wohnungen nach Projektstatus, Kreis und Quartier/Fertigerstellt/Kreis 9/Altstetten",
          "Anzahl Wohnungen nach Projektstatus, Kreis und Quartier/Im Bau/Kreis 9/Altstetten",
          "Anzahl Wohnungen nach Projektstatus, Kreis und Quartier/Fertigerstellt/Kreis 2/Enge",
          "Anzahl Wohnungen nach Projektstatus, Kreis und Quartier/Fertigerstellt/Kreis 5/Escher Wyss",
          "Anzahl Wohnungen nach Projektstatus, Kreis und Quartier/Im Bau/Kreis 5/Escher Wyss",
          "Anzahl Wohnungen nach Projektstatus, Kreis und Quartier/Bewilligt/Kreis 7/Fluntern",
          "Anzahl Wohnungen nach Projektstatus, Kreis und Quartier/Im Bau/Kreis 5/Gewerbeschule",
          "Anzahl Wohnungen nach Projektstatus, Kreis und Quartier/Bewilligt/Kreis 7/Hirslanden",
          "Anzahl Wohnungen nach Projektstatus, Kreis und Quartier/Im Bau/Kreis 7/Hirslanden",
          "Anzahl Wohnungen nach Projektstatus, Kreis und Quartier/Fertigerstellt/Kreis 12/Hirzenbach",
          "Anzahl Wohnungen nach Projektstatus, Kreis und Quartier/Fertigerstellt/Kreis 7/Hottingen",
          "Anzahl Wohnungen nach Projektstatus, Kreis und Quartier/Bewilligt/Kreis 10/Höngg",
          "Anzahl Wohnungen nach Projektstatus, Kreis und Quartier/Fertigerstellt/Kreis 2/Leimbach",
          "Anzahl Wohnungen nach Projektstatus, Kreis und Quartier/Im Bau/Kreis 2/Leimbach",
          "Anzahl Wohnungen nach Projektstatus, Kreis und Quartier/Im Bau/Kreis 11/Oerlikon",
          "Anzahl Wohnungen nach Projektstatus, Kreis und Quartier/Im Bau/Kreis 4/Langstrasse",
          "Anzahl Wohnungen nach Projektstatus, Kreis und Quartier/Fertigerstellt/Kreis 1",
          "Anzahl Wohnungen nach Projektstatus, Kreis und Quartier/Bewilligt/Kreis 10",
          "Anzahl Wohnungen nach Projektstatus, Kreis und Quartier/Im Bau/Kreis 10",
          "Anzahl Wohnungen nach Projektstatus, Kreis und Quartier/Bewilligt/Kreis 11",
          "Anzahl Wohnungen nach Projektstatus, Kreis und Quartier/Fertigerstellt/Kreis 11",
          "Anzahl Wohnungen nach Projektstatus, Kreis und Quartier/Im Bau/Kreis 11",
          "Anzahl Wohnungen nach Projektstatus, Kreis und Quartier/Fertigerstellt/Kreis 12",
          "Anzahl Wohnungen nach Projektstatus, Kreis und Quartier/Im Bau/Kreis 12",
          "Anzahl Wohnungen nach Projektstatus, Kreis und Quartier/Bewilligt/Kreis 2",
          "Anzahl Wohnungen nach Projektstatus, Kreis und Quartier/Fertigerstellt/Kreis 2",
          "Anzahl Wohnungen nach Projektstatus, Kreis und Quartier/Im Bau/Kreis 2",
          "Anzahl Wohnungen nach Projektstatus, Kreis und Quartier/Bewilligt/Kreis 3",
          "Anzahl Wohnungen nach Projektstatus, Kreis und Quartier/Im Bau/Kreis 3",
          "Anzahl Wohnungen nach Projektstatus, Kreis und Quartier/Bewilligt/Kreis 4",
          "Anzahl Wohnungen nach Projektstatus, Kreis und Quartier/Fertigerstellt/Kreis 4",
          "Anzahl Wohnungen nach Projektstatus, Kreis und Quartier/Im Bau/Kreis 4",
          "Anzahl Wohnungen nach Projektstatus, Kreis und Quartier/Bewilligt/Kreis 5",
          "Anzahl Wohnungen nach Projektstatus, Kreis und Quartier/Fertigerstellt/Kreis 5",
          "Anzahl Wohnungen nach Projektstatus, Kreis und Quartier/Im Bau/Kreis 5",
          "Anzahl Wohnungen nach Projektstatus, Kreis und Quartier/Bewilligt/Kreis 6",
          "Anzahl Wohnungen nach Projektstatus, Kreis und Quartier/Fertigerstellt/Kreis 6",
          "Anzahl Wohnungen nach Projektstatus, Kreis und Quartier/Im Bau/Kreis 6",
          "Anzahl Wohnungen nach Projektstatus, Kreis und Quartier/Bewilligt/Kreis 7",
          "Anzahl Wohnungen nach Projektstatus, Kreis und Quartier/Fertigerstellt/Kreis 7",
          "Anzahl Wohnungen nach Projektstatus, Kreis und Quartier/Im Bau/Kreis 7",
          "Anzahl Wohnungen nach Projektstatus, Kreis und Quartier/Bewilligt/Kreis 8",
          "Anzahl Wohnungen nach Projektstatus, Kreis und Quartier/Fertigerstellt/Kreis 8",
          "Anzahl Wohnungen nach Projektstatus, Kreis und Quartier/Im Bau/Kreis 8",
          "Anzahl Wohnungen nach Projektstatus, Kreis und Quartier/Bewilligt/Kreis 9",
          "Anzahl Wohnungen nach Projektstatus, Kreis und Quartier/Fertigerstellt/Kreis 9",
          "Anzahl Wohnungen nach Projektstatus, Kreis und Quartier/Im Bau/Kreis 9",
          "Anzahl Wohnungen nach Projektstatus, Kreis und Quartier/Bewilligt",
          "Anzahl Wohnungen nach Projektstatus, Kreis und Quartier/Fertigerstellt",
          "Anzahl Wohnungen nach Projektstatus, Kreis und Quartier/Im Bau",
          "Anzahl Wohnungen nach Projektstatus, Kreis und Quartier"
         ],
         "labels": [
          "Wollishofen",
          "Oberstrass",
          "Oberstrass",
          "Oberstrass",
          "Seebach",
          "Seebach",
          "Seefeld",
          "Sihlfeld",
          "Hottingen",
          "Hirzenbach",
          "Hirslanden",
          "Friesenberg",
          "Fluntern",
          "Weinegg",
          "Hard",
          "Alt-Wiedikon",
          "Albisrieden",
          "Werd",
          "Wipkingen",
          "Schwamendingen-Mitte",
          "Gewerbeschule",
          "Oerlikon",
          "Oerlikon",
          "Wollishofen",
          "Witikon",
          "Witikon",
          "Witikon",
          "Seebach",
          "Leimbach",
          "Wollishofen",
          "Höngg",
          "Enge",
          "Alt-Wiedikon",
          "Werd",
          "Wipkingen",
          "Hochschulen",
          "Fluntern",
          "Unterstrass",
          "Werd",
          "Unterstrass",
          "Hottingen",
          "Enge",
          "Weinegg",
          "Unterstrass",
          "Schwamendingen-Mitte",
          "Weinegg",
          "Affoltern",
          "Lindenhof",
          "Affoltern",
          "Affoltern",
          "Albisrieden",
          "Albisrieden",
          "Altstetten",
          "Altstetten",
          "Altstetten",
          "Enge",
          "Escher Wyss",
          "Escher Wyss",
          "Fluntern",
          "Gewerbeschule",
          "Hirslanden",
          "Hirslanden",
          "Hirzenbach",
          "Hottingen",
          "Höngg",
          "Leimbach",
          "Leimbach",
          "Oerlikon",
          "Langstrasse",
          "Kreis 1",
          "Kreis 10",
          "Kreis 10",
          "Kreis 11",
          "Kreis 11",
          "Kreis 11",
          "Kreis 12",
          "Kreis 12",
          "Kreis 2",
          "Kreis 2",
          "Kreis 2",
          "Kreis 3",
          "Kreis 3",
          "Kreis 4",
          "Kreis 4",
          "Kreis 4",
          "Kreis 5",
          "Kreis 5",
          "Kreis 5",
          "Kreis 6",
          "Kreis 6",
          "Kreis 6",
          "Kreis 7",
          "Kreis 7",
          "Kreis 7",
          "Kreis 8",
          "Kreis 8",
          "Kreis 8",
          "Kreis 9",
          "Kreis 9",
          "Kreis 9",
          "Bewilligt",
          "Fertigerstellt",
          "Im Bau",
          "Anzahl Wohnungen nach Projektstatus, Kreis und Quartier"
         ],
         "marker": {
          "colors": [
           "#636efa",
           "#636efa",
           "#EF553B",
           "#00cc96",
           "#00cc96",
           "#636efa",
           "#EF553B",
           "#636efa",
           "#00cc96",
           "#636efa",
           "#EF553B",
           "#636efa",
           "#EF553B",
           "#636efa",
           "#636efa",
           "#636efa",
           "#636efa",
           "#00cc96",
           "#00cc96",
           "#EF553B",
           "#00cc96",
           "#EF553B",
           "#00cc96",
           "#00cc96",
           "#636efa",
           "#EF553B",
           "#00cc96",
           "#EF553B",
           "#00cc96",
           "#EF553B",
           "#636efa",
           "#00cc96",
           "#00cc96",
           "#EF553B",
           "#636efa",
           "#EF553B",
           "#636efa",
           "#EF553B",
           "#636efa",
           "#636efa",
           "#636efa",
           "#636efa",
           "#EF553B",
           "#00cc96",
           "#636efa",
           "#00cc96",
           "#00cc96",
           "#EF553B",
           "#EF553B",
           "#636efa",
           "#00cc96",
           "#EF553B",
           "#00cc96",
           "#EF553B",
           "#636efa",
           "#EF553B",
           "#EF553B",
           "#636efa",
           "#00cc96",
           "#636efa",
           "#00cc96",
           "#636efa",
           "#EF553B",
           "#EF553B",
           "#00cc96",
           "#EF553B",
           "#636efa",
           "#636efa",
           "#636efa",
           "#EF553B",
           "#00cc96",
           "#636efa",
           "#00cc96",
           "#EF553B",
           "#636efa",
           "#EF553B",
           "#636efa",
           "#00cc96",
           "#EF553B",
           "#636efa",
           "#00cc96",
           "#636efa",
           "#00cc96",
           "#EF553B",
           "#636efa",
           "#00cc96",
           "#EF553B",
           "#636efa",
           "#00cc96",
           "#EF553B",
           "#636efa",
           "#00cc96",
           "#EF553B",
           "#636efa",
           "#00cc96",
           "#EF553B",
           "#636efa",
           "#00cc96",
           "#EF553B",
           "#636efa",
           "#00cc96",
           "#EF553B",
           "#636efa",
           "#ab63fa"
          ]
         },
         "name": "",
         "parents": [
          "Anzahl Wohnungen nach Projektstatus, Kreis und Quartier/Im Bau/Kreis 2",
          "Anzahl Wohnungen nach Projektstatus, Kreis und Quartier/Im Bau/Kreis 6",
          "Anzahl Wohnungen nach Projektstatus, Kreis und Quartier/Fertigerstellt/Kreis 6",
          "Anzahl Wohnungen nach Projektstatus, Kreis und Quartier/Bewilligt/Kreis 6",
          "Anzahl Wohnungen nach Projektstatus, Kreis und Quartier/Bewilligt/Kreis 11",
          "Anzahl Wohnungen nach Projektstatus, Kreis und Quartier/Im Bau/Kreis 11",
          "Anzahl Wohnungen nach Projektstatus, Kreis und Quartier/Fertigerstellt/Kreis 8",
          "Anzahl Wohnungen nach Projektstatus, Kreis und Quartier/Im Bau/Kreis 3",
          "Anzahl Wohnungen nach Projektstatus, Kreis und Quartier/Bewilligt/Kreis 7",
          "Anzahl Wohnungen nach Projektstatus, Kreis und Quartier/Im Bau/Kreis 12",
          "Anzahl Wohnungen nach Projektstatus, Kreis und Quartier/Fertigerstellt/Kreis 7",
          "Anzahl Wohnungen nach Projektstatus, Kreis und Quartier/Im Bau/Kreis 3",
          "Anzahl Wohnungen nach Projektstatus, Kreis und Quartier/Fertigerstellt/Kreis 7",
          "Anzahl Wohnungen nach Projektstatus, Kreis und Quartier/Im Bau/Kreis 8",
          "Anzahl Wohnungen nach Projektstatus, Kreis und Quartier/Im Bau/Kreis 4",
          "Anzahl Wohnungen nach Projektstatus, Kreis und Quartier/Im Bau/Kreis 3",
          "Anzahl Wohnungen nach Projektstatus, Kreis und Quartier/Im Bau/Kreis 9",
          "Anzahl Wohnungen nach Projektstatus, Kreis und Quartier/Bewilligt/Kreis 4",
          "Anzahl Wohnungen nach Projektstatus, Kreis und Quartier/Bewilligt/Kreis 10",
          "Anzahl Wohnungen nach Projektstatus, Kreis und Quartier/Fertigerstellt/Kreis 12",
          "Anzahl Wohnungen nach Projektstatus, Kreis und Quartier/Bewilligt/Kreis 5",
          "Anzahl Wohnungen nach Projektstatus, Kreis und Quartier/Fertigerstellt/Kreis 11",
          "Anzahl Wohnungen nach Projektstatus, Kreis und Quartier/Bewilligt/Kreis 11",
          "Anzahl Wohnungen nach Projektstatus, Kreis und Quartier/Bewilligt/Kreis 2",
          "Anzahl Wohnungen nach Projektstatus, Kreis und Quartier/Im Bau/Kreis 7",
          "Anzahl Wohnungen nach Projektstatus, Kreis und Quartier/Fertigerstellt/Kreis 7",
          "Anzahl Wohnungen nach Projektstatus, Kreis und Quartier/Bewilligt/Kreis 7",
          "Anzahl Wohnungen nach Projektstatus, Kreis und Quartier/Fertigerstellt/Kreis 11",
          "Anzahl Wohnungen nach Projektstatus, Kreis und Quartier/Bewilligt/Kreis 2",
          "Anzahl Wohnungen nach Projektstatus, Kreis und Quartier/Fertigerstellt/Kreis 2",
          "Anzahl Wohnungen nach Projektstatus, Kreis und Quartier/Im Bau/Kreis 10",
          "Anzahl Wohnungen nach Projektstatus, Kreis und Quartier/Bewilligt/Kreis 2",
          "Anzahl Wohnungen nach Projektstatus, Kreis und Quartier/Bewilligt/Kreis 3",
          "Anzahl Wohnungen nach Projektstatus, Kreis und Quartier/Fertigerstellt/Kreis 4",
          "Anzahl Wohnungen nach Projektstatus, Kreis und Quartier/Im Bau/Kreis 10",
          "Anzahl Wohnungen nach Projektstatus, Kreis und Quartier/Fertigerstellt/Kreis 1",
          "Anzahl Wohnungen nach Projektstatus, Kreis und Quartier/Im Bau/Kreis 7",
          "Anzahl Wohnungen nach Projektstatus, Kreis und Quartier/Fertigerstellt/Kreis 6",
          "Anzahl Wohnungen nach Projektstatus, Kreis und Quartier/Im Bau/Kreis 4",
          "Anzahl Wohnungen nach Projektstatus, Kreis und Quartier/Im Bau/Kreis 6",
          "Anzahl Wohnungen nach Projektstatus, Kreis und Quartier/Im Bau/Kreis 7",
          "Anzahl Wohnungen nach Projektstatus, Kreis und Quartier/Im Bau/Kreis 2",
          "Anzahl Wohnungen nach Projektstatus, Kreis und Quartier/Fertigerstellt/Kreis 8",
          "Anzahl Wohnungen nach Projektstatus, Kreis und Quartier/Bewilligt/Kreis 6",
          "Anzahl Wohnungen nach Projektstatus, Kreis und Quartier/Im Bau/Kreis 12",
          "Anzahl Wohnungen nach Projektstatus, Kreis und Quartier/Bewilligt/Kreis 8",
          "Anzahl Wohnungen nach Projektstatus, Kreis und Quartier/Bewilligt/Kreis 11",
          "Anzahl Wohnungen nach Projektstatus, Kreis und Quartier/Fertigerstellt/Kreis 1",
          "Anzahl Wohnungen nach Projektstatus, Kreis und Quartier/Fertigerstellt/Kreis 11",
          "Anzahl Wohnungen nach Projektstatus, Kreis und Quartier/Im Bau/Kreis 11",
          "Anzahl Wohnungen nach Projektstatus, Kreis und Quartier/Bewilligt/Kreis 9",
          "Anzahl Wohnungen nach Projektstatus, Kreis und Quartier/Fertigerstellt/Kreis 9",
          "Anzahl Wohnungen nach Projektstatus, Kreis und Quartier/Bewilligt/Kreis 9",
          "Anzahl Wohnungen nach Projektstatus, Kreis und Quartier/Fertigerstellt/Kreis 9",
          "Anzahl Wohnungen nach Projektstatus, Kreis und Quartier/Im Bau/Kreis 9",
          "Anzahl Wohnungen nach Projektstatus, Kreis und Quartier/Fertigerstellt/Kreis 2",
          "Anzahl Wohnungen nach Projektstatus, Kreis und Quartier/Fertigerstellt/Kreis 5",
          "Anzahl Wohnungen nach Projektstatus, Kreis und Quartier/Im Bau/Kreis 5",
          "Anzahl Wohnungen nach Projektstatus, Kreis und Quartier/Bewilligt/Kreis 7",
          "Anzahl Wohnungen nach Projektstatus, Kreis und Quartier/Im Bau/Kreis 5",
          "Anzahl Wohnungen nach Projektstatus, Kreis und Quartier/Bewilligt/Kreis 7",
          "Anzahl Wohnungen nach Projektstatus, Kreis und Quartier/Im Bau/Kreis 7",
          "Anzahl Wohnungen nach Projektstatus, Kreis und Quartier/Fertigerstellt/Kreis 12",
          "Anzahl Wohnungen nach Projektstatus, Kreis und Quartier/Fertigerstellt/Kreis 7",
          "Anzahl Wohnungen nach Projektstatus, Kreis und Quartier/Bewilligt/Kreis 10",
          "Anzahl Wohnungen nach Projektstatus, Kreis und Quartier/Fertigerstellt/Kreis 2",
          "Anzahl Wohnungen nach Projektstatus, Kreis und Quartier/Im Bau/Kreis 2",
          "Anzahl Wohnungen nach Projektstatus, Kreis und Quartier/Im Bau/Kreis 11",
          "Anzahl Wohnungen nach Projektstatus, Kreis und Quartier/Im Bau/Kreis 4",
          "Anzahl Wohnungen nach Projektstatus, Kreis und Quartier/Fertigerstellt",
          "Anzahl Wohnungen nach Projektstatus, Kreis und Quartier/Bewilligt",
          "Anzahl Wohnungen nach Projektstatus, Kreis und Quartier/Im Bau",
          "Anzahl Wohnungen nach Projektstatus, Kreis und Quartier/Bewilligt",
          "Anzahl Wohnungen nach Projektstatus, Kreis und Quartier/Fertigerstellt",
          "Anzahl Wohnungen nach Projektstatus, Kreis und Quartier/Im Bau",
          "Anzahl Wohnungen nach Projektstatus, Kreis und Quartier/Fertigerstellt",
          "Anzahl Wohnungen nach Projektstatus, Kreis und Quartier/Im Bau",
          "Anzahl Wohnungen nach Projektstatus, Kreis und Quartier/Bewilligt",
          "Anzahl Wohnungen nach Projektstatus, Kreis und Quartier/Fertigerstellt",
          "Anzahl Wohnungen nach Projektstatus, Kreis und Quartier/Im Bau",
          "Anzahl Wohnungen nach Projektstatus, Kreis und Quartier/Bewilligt",
          "Anzahl Wohnungen nach Projektstatus, Kreis und Quartier/Im Bau",
          "Anzahl Wohnungen nach Projektstatus, Kreis und Quartier/Bewilligt",
          "Anzahl Wohnungen nach Projektstatus, Kreis und Quartier/Fertigerstellt",
          "Anzahl Wohnungen nach Projektstatus, Kreis und Quartier/Im Bau",
          "Anzahl Wohnungen nach Projektstatus, Kreis und Quartier/Bewilligt",
          "Anzahl Wohnungen nach Projektstatus, Kreis und Quartier/Fertigerstellt",
          "Anzahl Wohnungen nach Projektstatus, Kreis und Quartier/Im Bau",
          "Anzahl Wohnungen nach Projektstatus, Kreis und Quartier/Bewilligt",
          "Anzahl Wohnungen nach Projektstatus, Kreis und Quartier/Fertigerstellt",
          "Anzahl Wohnungen nach Projektstatus, Kreis und Quartier/Im Bau",
          "Anzahl Wohnungen nach Projektstatus, Kreis und Quartier/Bewilligt",
          "Anzahl Wohnungen nach Projektstatus, Kreis und Quartier/Fertigerstellt",
          "Anzahl Wohnungen nach Projektstatus, Kreis und Quartier/Im Bau",
          "Anzahl Wohnungen nach Projektstatus, Kreis und Quartier/Bewilligt",
          "Anzahl Wohnungen nach Projektstatus, Kreis und Quartier/Fertigerstellt",
          "Anzahl Wohnungen nach Projektstatus, Kreis und Quartier/Im Bau",
          "Anzahl Wohnungen nach Projektstatus, Kreis und Quartier/Bewilligt",
          "Anzahl Wohnungen nach Projektstatus, Kreis und Quartier/Fertigerstellt",
          "Anzahl Wohnungen nach Projektstatus, Kreis und Quartier/Im Bau",
          "Anzahl Wohnungen nach Projektstatus, Kreis und Quartier",
          "Anzahl Wohnungen nach Projektstatus, Kreis und Quartier",
          "Anzahl Wohnungen nach Projektstatus, Kreis und Quartier",
          ""
         ],
         "root": {
          "color": "grey"
         },
         "type": "treemap",
         "values": [
          320688,
          49900,
          216309,
          53700,
          18894,
          867143,
          95867,
          46200,
          131500,
          73696,
          34867,
          18260,
          26196,
          623100,
          734633,
          56140,
          347165,
          31524,
          19075,
          10100,
          38000,
          25820,
          131880,
          70846,
          93442,
          13626,
          33442,
          103780,
          3400,
          349456,
          103017,
          48895,
          134306,
          36000,
          33325,
          180000,
          63335,
          91245,
          13000,
          116700,
          38004,
          239800,
          2800,
          88254,
          120100,
          18000,
          6500,
          11630,
          10718,
          289760,
          71095,
          38700,
          165000,
          159670,
          593275,
          49480,
          190700,
          245415,
          22550,
          26450,
          22280,
          57200,
          11000,
          12016,
          18410,
          56200,
          10194,
          136891,
          47900,
          191630,
          37485,
          136342,
          157274,
          140318,
          1293794,
          21100,
          193796,
          123141,
          455136,
          570682,
          134306,
          120600,
          31524,
          36000,
          795533,
          38000,
          190700,
          271865,
          141954,
          307554,
          166600,
          209772,
          86705,
          251981,
          18000,
          98667,
          623100,
          236095,
          198370,
          940440,
          1127551,
          1726180,
          5364733,
          8218464
         ]
        }
       ],
       "layout": {
        "height": 400,
        "legend": {
         "tracegroupgap": 0
        },
        "margin": {
         "b": 25,
         "l": 25,
         "r": 250,
         "t": 50
        },
        "template": {
         "data": {
          "bar": [
           {
            "error_x": {
             "color": "#2a3f5f"
            },
            "error_y": {
             "color": "#2a3f5f"
            },
            "marker": {
             "line": {
              "color": "#E5ECF6",
              "width": 0.5
             },
             "pattern": {
              "fillmode": "overlay",
              "size": 10,
              "solidity": 0.2
             }
            },
            "type": "bar"
           }
          ],
          "barpolar": [
           {
            "marker": {
             "line": {
              "color": "#E5ECF6",
              "width": 0.5
             },
             "pattern": {
              "fillmode": "overlay",
              "size": 10,
              "solidity": 0.2
             }
            },
            "type": "barpolar"
           }
          ],
          "carpet": [
           {
            "aaxis": {
             "endlinecolor": "#2a3f5f",
             "gridcolor": "white",
             "linecolor": "white",
             "minorgridcolor": "white",
             "startlinecolor": "#2a3f5f"
            },
            "baxis": {
             "endlinecolor": "#2a3f5f",
             "gridcolor": "white",
             "linecolor": "white",
             "minorgridcolor": "white",
             "startlinecolor": "#2a3f5f"
            },
            "type": "carpet"
           }
          ],
          "choropleth": [
           {
            "colorbar": {
             "outlinewidth": 0,
             "ticks": ""
            },
            "type": "choropleth"
           }
          ],
          "contour": [
           {
            "colorbar": {
             "outlinewidth": 0,
             "ticks": ""
            },
            "colorscale": [
             [
              0,
              "#0d0887"
             ],
             [
              0.1111111111111111,
              "#46039f"
             ],
             [
              0.2222222222222222,
              "#7201a8"
             ],
             [
              0.3333333333333333,
              "#9c179e"
             ],
             [
              0.4444444444444444,
              "#bd3786"
             ],
             [
              0.5555555555555556,
              "#d8576b"
             ],
             [
              0.6666666666666666,
              "#ed7953"
             ],
             [
              0.7777777777777778,
              "#fb9f3a"
             ],
             [
              0.8888888888888888,
              "#fdca26"
             ],
             [
              1,
              "#f0f921"
             ]
            ],
            "type": "contour"
           }
          ],
          "contourcarpet": [
           {
            "colorbar": {
             "outlinewidth": 0,
             "ticks": ""
            },
            "type": "contourcarpet"
           }
          ],
          "heatmap": [
           {
            "colorbar": {
             "outlinewidth": 0,
             "ticks": ""
            },
            "colorscale": [
             [
              0,
              "#0d0887"
             ],
             [
              0.1111111111111111,
              "#46039f"
             ],
             [
              0.2222222222222222,
              "#7201a8"
             ],
             [
              0.3333333333333333,
              "#9c179e"
             ],
             [
              0.4444444444444444,
              "#bd3786"
             ],
             [
              0.5555555555555556,
              "#d8576b"
             ],
             [
              0.6666666666666666,
              "#ed7953"
             ],
             [
              0.7777777777777778,
              "#fb9f3a"
             ],
             [
              0.8888888888888888,
              "#fdca26"
             ],
             [
              1,
              "#f0f921"
             ]
            ],
            "type": "heatmap"
           }
          ],
          "heatmapgl": [
           {
            "colorbar": {
             "outlinewidth": 0,
             "ticks": ""
            },
            "colorscale": [
             [
              0,
              "#0d0887"
             ],
             [
              0.1111111111111111,
              "#46039f"
             ],
             [
              0.2222222222222222,
              "#7201a8"
             ],
             [
              0.3333333333333333,
              "#9c179e"
             ],
             [
              0.4444444444444444,
              "#bd3786"
             ],
             [
              0.5555555555555556,
              "#d8576b"
             ],
             [
              0.6666666666666666,
              "#ed7953"
             ],
             [
              0.7777777777777778,
              "#fb9f3a"
             ],
             [
              0.8888888888888888,
              "#fdca26"
             ],
             [
              1,
              "#f0f921"
             ]
            ],
            "type": "heatmapgl"
           }
          ],
          "histogram": [
           {
            "marker": {
             "pattern": {
              "fillmode": "overlay",
              "size": 10,
              "solidity": 0.2
             }
            },
            "type": "histogram"
           }
          ],
          "histogram2d": [
           {
            "colorbar": {
             "outlinewidth": 0,
             "ticks": ""
            },
            "colorscale": [
             [
              0,
              "#0d0887"
             ],
             [
              0.1111111111111111,
              "#46039f"
             ],
             [
              0.2222222222222222,
              "#7201a8"
             ],
             [
              0.3333333333333333,
              "#9c179e"
             ],
             [
              0.4444444444444444,
              "#bd3786"
             ],
             [
              0.5555555555555556,
              "#d8576b"
             ],
             [
              0.6666666666666666,
              "#ed7953"
             ],
             [
              0.7777777777777778,
              "#fb9f3a"
             ],
             [
              0.8888888888888888,
              "#fdca26"
             ],
             [
              1,
              "#f0f921"
             ]
            ],
            "type": "histogram2d"
           }
          ],
          "histogram2dcontour": [
           {
            "colorbar": {
             "outlinewidth": 0,
             "ticks": ""
            },
            "colorscale": [
             [
              0,
              "#0d0887"
             ],
             [
              0.1111111111111111,
              "#46039f"
             ],
             [
              0.2222222222222222,
              "#7201a8"
             ],
             [
              0.3333333333333333,
              "#9c179e"
             ],
             [
              0.4444444444444444,
              "#bd3786"
             ],
             [
              0.5555555555555556,
              "#d8576b"
             ],
             [
              0.6666666666666666,
              "#ed7953"
             ],
             [
              0.7777777777777778,
              "#fb9f3a"
             ],
             [
              0.8888888888888888,
              "#fdca26"
             ],
             [
              1,
              "#f0f921"
             ]
            ],
            "type": "histogram2dcontour"
           }
          ],
          "mesh3d": [
           {
            "colorbar": {
             "outlinewidth": 0,
             "ticks": ""
            },
            "type": "mesh3d"
           }
          ],
          "parcoords": [
           {
            "line": {
             "colorbar": {
              "outlinewidth": 0,
              "ticks": ""
             }
            },
            "type": "parcoords"
           }
          ],
          "pie": [
           {
            "automargin": true,
            "type": "pie"
           }
          ],
          "scatter": [
           {
            "marker": {
             "colorbar": {
              "outlinewidth": 0,
              "ticks": ""
             }
            },
            "type": "scatter"
           }
          ],
          "scatter3d": [
           {
            "line": {
             "colorbar": {
              "outlinewidth": 0,
              "ticks": ""
             }
            },
            "marker": {
             "colorbar": {
              "outlinewidth": 0,
              "ticks": ""
             }
            },
            "type": "scatter3d"
           }
          ],
          "scattercarpet": [
           {
            "marker": {
             "colorbar": {
              "outlinewidth": 0,
              "ticks": ""
             }
            },
            "type": "scattercarpet"
           }
          ],
          "scattergeo": [
           {
            "marker": {
             "colorbar": {
              "outlinewidth": 0,
              "ticks": ""
             }
            },
            "type": "scattergeo"
           }
          ],
          "scattergl": [
           {
            "marker": {
             "colorbar": {
              "outlinewidth": 0,
              "ticks": ""
             }
            },
            "type": "scattergl"
           }
          ],
          "scattermapbox": [
           {
            "marker": {
             "colorbar": {
              "outlinewidth": 0,
              "ticks": ""
             }
            },
            "type": "scattermapbox"
           }
          ],
          "scatterpolar": [
           {
            "marker": {
             "colorbar": {
              "outlinewidth": 0,
              "ticks": ""
             }
            },
            "type": "scatterpolar"
           }
          ],
          "scatterpolargl": [
           {
            "marker": {
             "colorbar": {
              "outlinewidth": 0,
              "ticks": ""
             }
            },
            "type": "scatterpolargl"
           }
          ],
          "scatterternary": [
           {
            "marker": {
             "colorbar": {
              "outlinewidth": 0,
              "ticks": ""
             }
            },
            "type": "scatterternary"
           }
          ],
          "surface": [
           {
            "colorbar": {
             "outlinewidth": 0,
             "ticks": ""
            },
            "colorscale": [
             [
              0,
              "#0d0887"
             ],
             [
              0.1111111111111111,
              "#46039f"
             ],
             [
              0.2222222222222222,
              "#7201a8"
             ],
             [
              0.3333333333333333,
              "#9c179e"
             ],
             [
              0.4444444444444444,
              "#bd3786"
             ],
             [
              0.5555555555555556,
              "#d8576b"
             ],
             [
              0.6666666666666666,
              "#ed7953"
             ],
             [
              0.7777777777777778,
              "#fb9f3a"
             ],
             [
              0.8888888888888888,
              "#fdca26"
             ],
             [
              1,
              "#f0f921"
             ]
            ],
            "type": "surface"
           }
          ],
          "table": [
           {
            "cells": {
             "fill": {
              "color": "#EBF0F8"
             },
             "line": {
              "color": "white"
             }
            },
            "header": {
             "fill": {
              "color": "#C8D4E3"
             },
             "line": {
              "color": "white"
             }
            },
            "type": "table"
           }
          ]
         },
         "layout": {
          "annotationdefaults": {
           "arrowcolor": "#2a3f5f",
           "arrowhead": 0,
           "arrowwidth": 1
          },
          "autotypenumbers": "strict",
          "coloraxis": {
           "colorbar": {
            "outlinewidth": 0,
            "ticks": ""
           }
          },
          "colorscale": {
           "diverging": [
            [
             0,
             "#8e0152"
            ],
            [
             0.1,
             "#c51b7d"
            ],
            [
             0.2,
             "#de77ae"
            ],
            [
             0.3,
             "#f1b6da"
            ],
            [
             0.4,
             "#fde0ef"
            ],
            [
             0.5,
             "#f7f7f7"
            ],
            [
             0.6,
             "#e6f5d0"
            ],
            [
             0.7,
             "#b8e186"
            ],
            [
             0.8,
             "#7fbc41"
            ],
            [
             0.9,
             "#4d9221"
            ],
            [
             1,
             "#276419"
            ]
           ],
           "sequential": [
            [
             0,
             "#0d0887"
            ],
            [
             0.1111111111111111,
             "#46039f"
            ],
            [
             0.2222222222222222,
             "#7201a8"
            ],
            [
             0.3333333333333333,
             "#9c179e"
            ],
            [
             0.4444444444444444,
             "#bd3786"
            ],
            [
             0.5555555555555556,
             "#d8576b"
            ],
            [
             0.6666666666666666,
             "#ed7953"
            ],
            [
             0.7777777777777778,
             "#fb9f3a"
            ],
            [
             0.8888888888888888,
             "#fdca26"
            ],
            [
             1,
             "#f0f921"
            ]
           ],
           "sequentialminus": [
            [
             0,
             "#0d0887"
            ],
            [
             0.1111111111111111,
             "#46039f"
            ],
            [
             0.2222222222222222,
             "#7201a8"
            ],
            [
             0.3333333333333333,
             "#9c179e"
            ],
            [
             0.4444444444444444,
             "#bd3786"
            ],
            [
             0.5555555555555556,
             "#d8576b"
            ],
            [
             0.6666666666666666,
             "#ed7953"
            ],
            [
             0.7777777777777778,
             "#fb9f3a"
            ],
            [
             0.8888888888888888,
             "#fdca26"
            ],
            [
             1,
             "#f0f921"
            ]
           ]
          },
          "colorway": [
           "#636efa",
           "#EF553B",
           "#00cc96",
           "#ab63fa",
           "#FFA15A",
           "#19d3f3",
           "#FF6692",
           "#B6E880",
           "#FF97FF",
           "#FECB52"
          ],
          "font": {
           "color": "#2a3f5f"
          },
          "geo": {
           "bgcolor": "white",
           "lakecolor": "white",
           "landcolor": "#E5ECF6",
           "showlakes": true,
           "showland": true,
           "subunitcolor": "white"
          },
          "hoverlabel": {
           "align": "left"
          },
          "hovermode": "closest",
          "mapbox": {
           "style": "light"
          },
          "paper_bgcolor": "white",
          "plot_bgcolor": "#E5ECF6",
          "polar": {
           "angularaxis": {
            "gridcolor": "white",
            "linecolor": "white",
            "ticks": ""
           },
           "bgcolor": "#E5ECF6",
           "radialaxis": {
            "gridcolor": "white",
            "linecolor": "white",
            "ticks": ""
           }
          },
          "scene": {
           "xaxis": {
            "backgroundcolor": "#E5ECF6",
            "gridcolor": "white",
            "gridwidth": 2,
            "linecolor": "white",
            "showbackground": true,
            "ticks": "",
            "zerolinecolor": "white"
           },
           "yaxis": {
            "backgroundcolor": "#E5ECF6",
            "gridcolor": "white",
            "gridwidth": 2,
            "linecolor": "white",
            "showbackground": true,
            "ticks": "",
            "zerolinecolor": "white"
           },
           "zaxis": {
            "backgroundcolor": "#E5ECF6",
            "gridcolor": "white",
            "gridwidth": 2,
            "linecolor": "white",
            "showbackground": true,
            "ticks": "",
            "zerolinecolor": "white"
           }
          },
          "shapedefaults": {
           "line": {
            "color": "#2a3f5f"
           }
          },
          "ternary": {
           "aaxis": {
            "gridcolor": "white",
            "linecolor": "white",
            "ticks": ""
           },
           "baxis": {
            "gridcolor": "white",
            "linecolor": "white",
            "ticks": ""
           },
           "bgcolor": "#E5ECF6",
           "caxis": {
            "gridcolor": "white",
            "linecolor": "white",
            "ticks": ""
           }
          },
          "title": {
           "x": 0.05
          },
          "xaxis": {
           "automargin": true,
           "gridcolor": "white",
           "linecolor": "white",
           "ticks": "",
           "title": {
            "standoff": 15
           },
           "zerolinecolor": "white",
           "zerolinewidth": 2
          },
          "yaxis": {
           "automargin": true,
           "gridcolor": "white",
           "linecolor": "white",
           "ticks": "",
           "title": {
            "standoff": 15
           },
           "zerolinecolor": "white",
           "zerolinewidth": 2
          }
         }
        },
        "width": 1100
       }
      },
      "image/png": "[encoded data removed]",
      "text/html": [
       "<div>                            <div id=\"c1255e09-c4fc-4528-9aae-025cf41c6870\" class=\"plotly-graph-div\" style=\"height:400px; width:1100px;\"></div>            <script type=\"text/javascript\">                require([\"plotly\"], function(Plotly) {                    window.PLOTLYENV=window.PLOTLYENV || {};                                    if (document.getElementById(\"c1255e09-c4fc-4528-9aae-025cf41c6870\")) {                    Plotly.newPlot(                        \"c1255e09-c4fc-4528-9aae-025cf41c6870\",                        [{\"branchvalues\":\"total\",\"customdata\":[[\"Im Bau\"],[\"Im Bau\"],[\"Fertigerstellt\"],[\"Bewilligt\"],[\"Bewilligt\"],[\"Im Bau\"],[\"Fertigerstellt\"],[\"Im Bau\"],[\"Bewilligt\"],[\"Im Bau\"],[\"Fertigerstellt\"],[\"Im Bau\"],[\"Fertigerstellt\"],[\"Im Bau\"],[\"Im Bau\"],[\"Im Bau\"],[\"Im Bau\"],[\"Bewilligt\"],[\"Bewilligt\"],[\"Fertigerstellt\"],[\"Bewilligt\"],[\"Fertigerstellt\"],[\"Bewilligt\"],[\"Bewilligt\"],[\"Im Bau\"],[\"Fertigerstellt\"],[\"Bewilligt\"],[\"Fertigerstellt\"],[\"Bewilligt\"],[\"Fertigerstellt\"],[\"Im Bau\"],[\"Bewilligt\"],[\"Bewilligt\"],[\"Fertigerstellt\"],[\"Im Bau\"],[\"Fertigerstellt\"],[\"Im Bau\"],[\"Fertigerstellt\"],[\"Im Bau\"],[\"Im Bau\"],[\"Im Bau\"],[\"Im Bau\"],[\"Fertigerstellt\"],[\"Bewilligt\"],[\"Im Bau\"],[\"Bewilligt\"],[\"Bewilligt\"],[\"Fertigerstellt\"],[\"Fertigerstellt\"],[\"Im Bau\"],[\"Bewilligt\"],[\"Fertigerstellt\"],[\"Bewilligt\"],[\"Fertigerstellt\"],[\"Im Bau\"],[\"Fertigerstellt\"],[\"Fertigerstellt\"],[\"Im Bau\"],[\"Bewilligt\"],[\"Im Bau\"],[\"Bewilligt\"],[\"Im Bau\"],[\"Fertigerstellt\"],[\"Fertigerstellt\"],[\"Bewilligt\"],[\"Fertigerstellt\"],[\"Im Bau\"],[\"Im Bau\"],[\"Im Bau\"],[\"Fertigerstellt\"],[\"Bewilligt\"],[\"Im Bau\"],[\"Bewilligt\"],[\"Fertigerstellt\"],[\"Im Bau\"],[\"Fertigerstellt\"],[\"Im Bau\"],[\"Bewilligt\"],[\"Fertigerstellt\"],[\"Im Bau\"],[\"Bewilligt\"],[\"Im Bau\"],[\"Bewilligt\"],[\"Fertigerstellt\"],[\"Im Bau\"],[\"Bewilligt\"],[\"Fertigerstellt\"],[\"Im Bau\"],[\"Bewilligt\"],[\"Fertigerstellt\"],[\"Im Bau\"],[\"Bewilligt\"],[\"Fertigerstellt\"],[\"Im Bau\"],[\"Bewilligt\"],[\"Fertigerstellt\"],[\"Im Bau\"],[\"Bewilligt\"],[\"Fertigerstellt\"],[\"Im Bau\"],[\"Bewilligt\"],[\"Fertigerstellt\"],[\"Im Bau\"],[\"(?)\"]],\"domain\":{\"x\":[0.0,1.0],\"y\":[0.0,1.0]},\"hovertemplate\":\"labels=%{label}<br>sum_ProjKosten=%{value}<br>parent=%{parent}<br>id=%{id}<br>ProjStatus=%{customdata[0]}<extra></extra>\",\"ids\":[\"Anzahl Wohnungen nach Projektstatus, Kreis und Quartier/Im Bau/Kreis 2/Wollishofen\",\"Anzahl Wohnungen nach Projektstatus, Kreis und Quartier/Im Bau/Kreis 6/Oberstrass\",\"Anzahl Wohnungen nach Projektstatus, Kreis und Quartier/Fertigerstellt/Kreis 6/Oberstrass\",\"Anzahl Wohnungen nach Projektstatus, Kreis und Quartier/Bewilligt/Kreis 6/Oberstrass\",\"Anzahl Wohnungen nach Projektstatus, Kreis und Quartier/Bewilligt/Kreis 11/Seebach\",\"Anzahl Wohnungen nach Projektstatus, Kreis und Quartier/Im Bau/Kreis 11/Seebach\",\"Anzahl Wohnungen nach Projektstatus, Kreis und Quartier/Fertigerstellt/Kreis 8/Seefeld\",\"Anzahl Wohnungen nach Projektstatus, Kreis und Quartier/Im Bau/Kreis 3/Sihlfeld\",\"Anzahl Wohnungen nach Projektstatus, Kreis und Quartier/Bewilligt/Kreis 7/Hottingen\",\"Anzahl Wohnungen nach Projektstatus, Kreis und Quartier/Im Bau/Kreis 12/Hirzenbach\",\"Anzahl Wohnungen nach Projektstatus, Kreis und Quartier/Fertigerstellt/Kreis 7/Hirslanden\",\"Anzahl Wohnungen nach Projektstatus, Kreis und Quartier/Im Bau/Kreis 3/Friesenberg\",\"Anzahl Wohnungen nach Projektstatus, Kreis und Quartier/Fertigerstellt/Kreis 7/Fluntern\",\"Anzahl Wohnungen nach Projektstatus, Kreis und Quartier/Im Bau/Kreis 8/Weinegg\",\"Anzahl Wohnungen nach Projektstatus, Kreis und Quartier/Im Bau/Kreis 4/Hard\",\"Anzahl Wohnungen nach Projektstatus, Kreis und Quartier/Im Bau/Kreis 3/Alt-Wiedikon\",\"Anzahl Wohnungen nach Projektstatus, Kreis und Quartier/Im Bau/Kreis 9/Albisrieden\",\"Anzahl Wohnungen nach Projektstatus, Kreis und Quartier/Bewilligt/Kreis 4/Werd\",\"Anzahl Wohnungen nach Projektstatus, Kreis und Quartier/Bewilligt/Kreis 10/Wipkingen\",\"Anzahl Wohnungen nach Projektstatus, Kreis und Quartier/Fertigerstellt/Kreis 12/Schwamendingen-Mitte\",\"Anzahl Wohnungen nach Projektstatus, Kreis und Quartier/Bewilligt/Kreis 5/Gewerbeschule\",\"Anzahl Wohnungen nach Projektstatus, Kreis und Quartier/Fertigerstellt/Kreis 11/Oerlikon\",\"Anzahl Wohnungen nach Projektstatus, Kreis und Quartier/Bewilligt/Kreis 11/Oerlikon\",\"Anzahl Wohnungen nach Projektstatus, Kreis und Quartier/Bewilligt/Kreis 2/Wollishofen\",\"Anzahl Wohnungen nach Projektstatus, Kreis und Quartier/Im Bau/Kreis 7/Witikon\",\"Anzahl Wohnungen nach Projektstatus, Kreis und Quartier/Fertigerstellt/Kreis 7/Witikon\",\"Anzahl Wohnungen nach Projektstatus, Kreis und Quartier/Bewilligt/Kreis 7/Witikon\",\"Anzahl Wohnungen nach Projektstatus, Kreis und Quartier/Fertigerstellt/Kreis 11/Seebach\",\"Anzahl Wohnungen nach Projektstatus, Kreis und Quartier/Bewilligt/Kreis 2/Leimbach\",\"Anzahl Wohnungen nach Projektstatus, Kreis und Quartier/Fertigerstellt/Kreis 2/Wollishofen\",\"Anzahl Wohnungen nach Projektstatus, Kreis und Quartier/Im Bau/Kreis 10/H\\u00f6ngg\",\"Anzahl Wohnungen nach Projektstatus, Kreis und Quartier/Bewilligt/Kreis 2/Enge\",\"Anzahl Wohnungen nach Projektstatus, Kreis und Quartier/Bewilligt/Kreis 3/Alt-Wiedikon\",\"Anzahl Wohnungen nach Projektstatus, Kreis und Quartier/Fertigerstellt/Kreis 4/Werd\",\"Anzahl Wohnungen nach Projektstatus, Kreis und Quartier/Im Bau/Kreis 10/Wipkingen\",\"Anzahl Wohnungen nach Projektstatus, Kreis und Quartier/Fertigerstellt/Kreis 1/Hochschulen\",\"Anzahl Wohnungen nach Projektstatus, Kreis und Quartier/Im Bau/Kreis 7/Fluntern\",\"Anzahl Wohnungen nach Projektstatus, Kreis und Quartier/Fertigerstellt/Kreis 6/Unterstrass\",\"Anzahl Wohnungen nach Projektstatus, Kreis und Quartier/Im Bau/Kreis 4/Werd\",\"Anzahl Wohnungen nach Projektstatus, Kreis und Quartier/Im Bau/Kreis 6/Unterstrass\",\"Anzahl Wohnungen nach Projektstatus, Kreis und Quartier/Im Bau/Kreis 7/Hottingen\",\"Anzahl Wohnungen nach Projektstatus, Kreis und Quartier/Im Bau/Kreis 2/Enge\",\"Anzahl Wohnungen nach Projektstatus, Kreis und Quartier/Fertigerstellt/Kreis 8/Weinegg\",\"Anzahl Wohnungen nach Projektstatus, Kreis und Quartier/Bewilligt/Kreis 6/Unterstrass\",\"Anzahl Wohnungen nach Projektstatus, Kreis und Quartier/Im Bau/Kreis 12/Schwamendingen-Mitte\",\"Anzahl Wohnungen nach Projektstatus, Kreis und Quartier/Bewilligt/Kreis 8/Weinegg\",\"Anzahl Wohnungen nach Projektstatus, Kreis und Quartier/Bewilligt/Kreis 11/Affoltern\",\"Anzahl Wohnungen nach Projektstatus, Kreis und Quartier/Fertigerstellt/Kreis 1/Lindenhof\",\"Anzahl Wohnungen nach Projektstatus, Kreis und Quartier/Fertigerstellt/Kreis 11/Affoltern\",\"Anzahl Wohnungen nach Projektstatus, Kreis und Quartier/Im Bau/Kreis 11/Affoltern\",\"Anzahl Wohnungen nach Projektstatus, Kreis und Quartier/Bewilligt/Kreis 9/Albisrieden\",\"Anzahl Wohnungen nach Projektstatus, Kreis und Quartier/Fertigerstellt/Kreis 9/Albisrieden\",\"Anzahl Wohnungen nach Projektstatus, Kreis und Quartier/Bewilligt/Kreis 9/Altstetten\",\"Anzahl Wohnungen nach Projektstatus, Kreis und Quartier/Fertigerstellt/Kreis 9/Altstetten\",\"Anzahl Wohnungen nach Projektstatus, Kreis und Quartier/Im Bau/Kreis 9/Altstetten\",\"Anzahl Wohnungen nach Projektstatus, Kreis und Quartier/Fertigerstellt/Kreis 2/Enge\",\"Anzahl Wohnungen nach Projektstatus, Kreis und Quartier/Fertigerstellt/Kreis 5/Escher Wyss\",\"Anzahl Wohnungen nach Projektstatus, Kreis und Quartier/Im Bau/Kreis 5/Escher Wyss\",\"Anzahl Wohnungen nach Projektstatus, Kreis und Quartier/Bewilligt/Kreis 7/Fluntern\",\"Anzahl Wohnungen nach Projektstatus, Kreis und Quartier/Im Bau/Kreis 5/Gewerbeschule\",\"Anzahl Wohnungen nach Projektstatus, Kreis und Quartier/Bewilligt/Kreis 7/Hirslanden\",\"Anzahl Wohnungen nach Projektstatus, Kreis und Quartier/Im Bau/Kreis 7/Hirslanden\",\"Anzahl Wohnungen nach Projektstatus, Kreis und Quartier/Fertigerstellt/Kreis 12/Hirzenbach\",\"Anzahl Wohnungen nach Projektstatus, Kreis und Quartier/Fertigerstellt/Kreis 7/Hottingen\",\"Anzahl Wohnungen nach Projektstatus, Kreis und Quartier/Bewilligt/Kreis 10/H\\u00f6ngg\",\"Anzahl Wohnungen nach Projektstatus, Kreis und Quartier/Fertigerstellt/Kreis 2/Leimbach\",\"Anzahl Wohnungen nach Projektstatus, Kreis und Quartier/Im Bau/Kreis 2/Leimbach\",\"Anzahl Wohnungen nach Projektstatus, Kreis und Quartier/Im Bau/Kreis 11/Oerlikon\",\"Anzahl Wohnungen nach Projektstatus, Kreis und Quartier/Im Bau/Kreis 4/Langstrasse\",\"Anzahl Wohnungen nach Projektstatus, Kreis und Quartier/Fertigerstellt/Kreis 1\",\"Anzahl Wohnungen nach Projektstatus, Kreis und Quartier/Bewilligt/Kreis 10\",\"Anzahl Wohnungen nach Projektstatus, Kreis und Quartier/Im Bau/Kreis 10\",\"Anzahl Wohnungen nach Projektstatus, Kreis und Quartier/Bewilligt/Kreis 11\",\"Anzahl Wohnungen nach Projektstatus, Kreis und Quartier/Fertigerstellt/Kreis 11\",\"Anzahl Wohnungen nach Projektstatus, Kreis und Quartier/Im Bau/Kreis 11\",\"Anzahl Wohnungen nach Projektstatus, Kreis und Quartier/Fertigerstellt/Kreis 12\",\"Anzahl Wohnungen nach Projektstatus, Kreis und Quartier/Im Bau/Kreis 12\",\"Anzahl Wohnungen nach Projektstatus, Kreis und Quartier/Bewilligt/Kreis 2\",\"Anzahl Wohnungen nach Projektstatus, Kreis und Quartier/Fertigerstellt/Kreis 2\",\"Anzahl Wohnungen nach Projektstatus, Kreis und Quartier/Im Bau/Kreis 2\",\"Anzahl Wohnungen nach Projektstatus, Kreis und Quartier/Bewilligt/Kreis 3\",\"Anzahl Wohnungen nach Projektstatus, Kreis und Quartier/Im Bau/Kreis 3\",\"Anzahl Wohnungen nach Projektstatus, Kreis und Quartier/Bewilligt/Kreis 4\",\"Anzahl Wohnungen nach Projektstatus, Kreis und Quartier/Fertigerstellt/Kreis 4\",\"Anzahl Wohnungen nach Projektstatus, Kreis und Quartier/Im Bau/Kreis 4\",\"Anzahl Wohnungen nach Projektstatus, Kreis und Quartier/Bewilligt/Kreis 5\",\"Anzahl Wohnungen nach Projektstatus, Kreis und Quartier/Fertigerstellt/Kreis 5\",\"Anzahl Wohnungen nach Projektstatus, Kreis und Quartier/Im Bau/Kreis 5\",\"Anzahl Wohnungen nach Projektstatus, Kreis und Quartier/Bewilligt/Kreis 6\",\"Anzahl Wohnungen nach Projektstatus, Kreis und Quartier/Fertigerstellt/Kreis 6\",\"Anzahl Wohnungen nach Projektstatus, Kreis und Quartier/Im Bau/Kreis 6\",\"Anzahl Wohnungen nach Projektstatus, Kreis und Quartier/Bewilligt/Kreis 7\",\"Anzahl Wohnungen nach Projektstatus, Kreis und Quartier/Fertigerstellt/Kreis 7\",\"Anzahl Wohnungen nach Projektstatus, Kreis und Quartier/Im Bau/Kreis 7\",\"Anzahl Wohnungen nach Projektstatus, Kreis und Quartier/Bewilligt/Kreis 8\",\"Anzahl Wohnungen nach Projektstatus, Kreis und Quartier/Fertigerstellt/Kreis 8\",\"Anzahl Wohnungen nach Projektstatus, Kreis und Quartier/Im Bau/Kreis 8\",\"Anzahl Wohnungen nach Projektstatus, Kreis und Quartier/Bewilligt/Kreis 9\",\"Anzahl Wohnungen nach Projektstatus, Kreis und Quartier/Fertigerstellt/Kreis 9\",\"Anzahl Wohnungen nach Projektstatus, Kreis und Quartier/Im Bau/Kreis 9\",\"Anzahl Wohnungen nach Projektstatus, Kreis und Quartier/Bewilligt\",\"Anzahl Wohnungen nach Projektstatus, Kreis und Quartier/Fertigerstellt\",\"Anzahl Wohnungen nach Projektstatus, Kreis und Quartier/Im Bau\",\"Anzahl Wohnungen nach Projektstatus, Kreis und Quartier\"],\"labels\":[\"Wollishofen\",\"Oberstrass\",\"Oberstrass\",\"Oberstrass\",\"Seebach\",\"Seebach\",\"Seefeld\",\"Sihlfeld\",\"Hottingen\",\"Hirzenbach\",\"Hirslanden\",\"Friesenberg\",\"Fluntern\",\"Weinegg\",\"Hard\",\"Alt-Wiedikon\",\"Albisrieden\",\"Werd\",\"Wipkingen\",\"Schwamendingen-Mitte\",\"Gewerbeschule\",\"Oerlikon\",\"Oerlikon\",\"Wollishofen\",\"Witikon\",\"Witikon\",\"Witikon\",\"Seebach\",\"Leimbach\",\"Wollishofen\",\"H\\u00f6ngg\",\"Enge\",\"Alt-Wiedikon\",\"Werd\",\"Wipkingen\",\"Hochschulen\",\"Fluntern\",\"Unterstrass\",\"Werd\",\"Unterstrass\",\"Hottingen\",\"Enge\",\"Weinegg\",\"Unterstrass\",\"Schwamendingen-Mitte\",\"Weinegg\",\"Affoltern\",\"Lindenhof\",\"Affoltern\",\"Affoltern\",\"Albisrieden\",\"Albisrieden\",\"Altstetten\",\"Altstetten\",\"Altstetten\",\"Enge\",\"Escher Wyss\",\"Escher Wyss\",\"Fluntern\",\"Gewerbeschule\",\"Hirslanden\",\"Hirslanden\",\"Hirzenbach\",\"Hottingen\",\"H\\u00f6ngg\",\"Leimbach\",\"Leimbach\",\"Oerlikon\",\"Langstrasse\",\"Kreis 1\",\"Kreis 10\",\"Kreis 10\",\"Kreis 11\",\"Kreis 11\",\"Kreis 11\",\"Kreis 12\",\"Kreis 12\",\"Kreis 2\",\"Kreis 2\",\"Kreis 2\",\"Kreis 3\",\"Kreis 3\",\"Kreis 4\",\"Kreis 4\",\"Kreis 4\",\"Kreis 5\",\"Kreis 5\",\"Kreis 5\",\"Kreis 6\",\"Kreis 6\",\"Kreis 6\",\"Kreis 7\",\"Kreis 7\",\"Kreis 7\",\"Kreis 8\",\"Kreis 8\",\"Kreis 8\",\"Kreis 9\",\"Kreis 9\",\"Kreis 9\",\"Bewilligt\",\"Fertigerstellt\",\"Im Bau\",\"Anzahl Wohnungen nach Projektstatus, Kreis und Quartier\"],\"marker\":{\"colors\":[\"#636efa\",\"#636efa\",\"#EF553B\",\"#00cc96\",\"#00cc96\",\"#636efa\",\"#EF553B\",\"#636efa\",\"#00cc96\",\"#636efa\",\"#EF553B\",\"#636efa\",\"#EF553B\",\"#636efa\",\"#636efa\",\"#636efa\",\"#636efa\",\"#00cc96\",\"#00cc96\",\"#EF553B\",\"#00cc96\",\"#EF553B\",\"#00cc96\",\"#00cc96\",\"#636efa\",\"#EF553B\",\"#00cc96\",\"#EF553B\",\"#00cc96\",\"#EF553B\",\"#636efa\",\"#00cc96\",\"#00cc96\",\"#EF553B\",\"#636efa\",\"#EF553B\",\"#636efa\",\"#EF553B\",\"#636efa\",\"#636efa\",\"#636efa\",\"#636efa\",\"#EF553B\",\"#00cc96\",\"#636efa\",\"#00cc96\",\"#00cc96\",\"#EF553B\",\"#EF553B\",\"#636efa\",\"#00cc96\",\"#EF553B\",\"#00cc96\",\"#EF553B\",\"#636efa\",\"#EF553B\",\"#EF553B\",\"#636efa\",\"#00cc96\",\"#636efa\",\"#00cc96\",\"#636efa\",\"#EF553B\",\"#EF553B\",\"#00cc96\",\"#EF553B\",\"#636efa\",\"#636efa\",\"#636efa\",\"#EF553B\",\"#00cc96\",\"#636efa\",\"#00cc96\",\"#EF553B\",\"#636efa\",\"#EF553B\",\"#636efa\",\"#00cc96\",\"#EF553B\",\"#636efa\",\"#00cc96\",\"#636efa\",\"#00cc96\",\"#EF553B\",\"#636efa\",\"#00cc96\",\"#EF553B\",\"#636efa\",\"#00cc96\",\"#EF553B\",\"#636efa\",\"#00cc96\",\"#EF553B\",\"#636efa\",\"#00cc96\",\"#EF553B\",\"#636efa\",\"#00cc96\",\"#EF553B\",\"#636efa\",\"#00cc96\",\"#EF553B\",\"#636efa\",\"#ab63fa\"]},\"name\":\"\",\"parents\":[\"Anzahl Wohnungen nach Projektstatus, Kreis und Quartier/Im Bau/Kreis 2\",\"Anzahl Wohnungen nach Projektstatus, Kreis und Quartier/Im Bau/Kreis 6\",\"Anzahl Wohnungen nach Projektstatus, Kreis und Quartier/Fertigerstellt/Kreis 6\",\"Anzahl Wohnungen nach Projektstatus, Kreis und Quartier/Bewilligt/Kreis 6\",\"Anzahl Wohnungen nach Projektstatus, Kreis und Quartier/Bewilligt/Kreis 11\",\"Anzahl Wohnungen nach Projektstatus, Kreis und Quartier/Im Bau/Kreis 11\",\"Anzahl Wohnungen nach Projektstatus, Kreis und Quartier/Fertigerstellt/Kreis 8\",\"Anzahl Wohnungen nach Projektstatus, Kreis und Quartier/Im Bau/Kreis 3\",\"Anzahl Wohnungen nach Projektstatus, Kreis und Quartier/Bewilligt/Kreis 7\",\"Anzahl Wohnungen nach Projektstatus, Kreis und Quartier/Im Bau/Kreis 12\",\"Anzahl Wohnungen nach Projektstatus, Kreis und Quartier/Fertigerstellt/Kreis 7\",\"Anzahl Wohnungen nach Projektstatus, Kreis und Quartier/Im Bau/Kreis 3\",\"Anzahl Wohnungen nach Projektstatus, Kreis und Quartier/Fertigerstellt/Kreis 7\",\"Anzahl Wohnungen nach Projektstatus, Kreis und Quartier/Im Bau/Kreis 8\",\"Anzahl Wohnungen nach Projektstatus, Kreis und Quartier/Im Bau/Kreis 4\",\"Anzahl Wohnungen nach Projektstatus, Kreis und Quartier/Im Bau/Kreis 3\",\"Anzahl Wohnungen nach Projektstatus, Kreis und Quartier/Im Bau/Kreis 9\",\"Anzahl Wohnungen nach Projektstatus, Kreis und Quartier/Bewilligt/Kreis 4\",\"Anzahl Wohnungen nach Projektstatus, Kreis und Quartier/Bewilligt/Kreis 10\",\"Anzahl Wohnungen nach Projektstatus, Kreis und Quartier/Fertigerstellt/Kreis 12\",\"Anzahl Wohnungen nach Projektstatus, Kreis und Quartier/Bewilligt/Kreis 5\",\"Anzahl Wohnungen nach Projektstatus, Kreis und Quartier/Fertigerstellt/Kreis 11\",\"Anzahl Wohnungen nach Projektstatus, Kreis und Quartier/Bewilligt/Kreis 11\",\"Anzahl Wohnungen nach Projektstatus, Kreis und Quartier/Bewilligt/Kreis 2\",\"Anzahl Wohnungen nach Projektstatus, Kreis und Quartier/Im Bau/Kreis 7\",\"Anzahl Wohnungen nach Projektstatus, Kreis und Quartier/Fertigerstellt/Kreis 7\",\"Anzahl Wohnungen nach Projektstatus, Kreis und Quartier/Bewilligt/Kreis 7\",\"Anzahl Wohnungen nach Projektstatus, Kreis und Quartier/Fertigerstellt/Kreis 11\",\"Anzahl Wohnungen nach Projektstatus, Kreis und Quartier/Bewilligt/Kreis 2\",\"Anzahl Wohnungen nach Projektstatus, Kreis und Quartier/Fertigerstellt/Kreis 2\",\"Anzahl Wohnungen nach Projektstatus, Kreis und Quartier/Im Bau/Kreis 10\",\"Anzahl Wohnungen nach Projektstatus, Kreis und Quartier/Bewilligt/Kreis 2\",\"Anzahl Wohnungen nach Projektstatus, Kreis und Quartier/Bewilligt/Kreis 3\",\"Anzahl Wohnungen nach Projektstatus, Kreis und Quartier/Fertigerstellt/Kreis 4\",\"Anzahl Wohnungen nach Projektstatus, Kreis und Quartier/Im Bau/Kreis 10\",\"Anzahl Wohnungen nach Projektstatus, Kreis und Quartier/Fertigerstellt/Kreis 1\",\"Anzahl Wohnungen nach Projektstatus, Kreis und Quartier/Im Bau/Kreis 7\",\"Anzahl Wohnungen nach Projektstatus, Kreis und Quartier/Fertigerstellt/Kreis 6\",\"Anzahl Wohnungen nach Projektstatus, Kreis und Quartier/Im Bau/Kreis 4\",\"Anzahl Wohnungen nach Projektstatus, Kreis und Quartier/Im Bau/Kreis 6\",\"Anzahl Wohnungen nach Projektstatus, Kreis und Quartier/Im Bau/Kreis 7\",\"Anzahl Wohnungen nach Projektstatus, Kreis und Quartier/Im Bau/Kreis 2\",\"Anzahl Wohnungen nach Projektstatus, Kreis und Quartier/Fertigerstellt/Kreis 8\",\"Anzahl Wohnungen nach Projektstatus, Kreis und Quartier/Bewilligt/Kreis 6\",\"Anzahl Wohnungen nach Projektstatus, Kreis und Quartier/Im Bau/Kreis 12\",\"Anzahl Wohnungen nach Projektstatus, Kreis und Quartier/Bewilligt/Kreis 8\",\"Anzahl Wohnungen nach Projektstatus, Kreis und Quartier/Bewilligt/Kreis 11\",\"Anzahl Wohnungen nach Projektstatus, Kreis und Quartier/Fertigerstellt/Kreis 1\",\"Anzahl Wohnungen nach Projektstatus, Kreis und Quartier/Fertigerstellt/Kreis 11\",\"Anzahl Wohnungen nach Projektstatus, Kreis und Quartier/Im Bau/Kreis 11\",\"Anzahl Wohnungen nach Projektstatus, Kreis und Quartier/Bewilligt/Kreis 9\",\"Anzahl Wohnungen nach Projektstatus, Kreis und Quartier/Fertigerstellt/Kreis 9\",\"Anzahl Wohnungen nach Projektstatus, Kreis und Quartier/Bewilligt/Kreis 9\",\"Anzahl Wohnungen nach Projektstatus, Kreis und Quartier/Fertigerstellt/Kreis 9\",\"Anzahl Wohnungen nach Projektstatus, Kreis und Quartier/Im Bau/Kreis 9\",\"Anzahl Wohnungen nach Projektstatus, Kreis und Quartier/Fertigerstellt/Kreis 2\",\"Anzahl Wohnungen nach Projektstatus, Kreis und Quartier/Fertigerstellt/Kreis 5\",\"Anzahl Wohnungen nach Projektstatus, Kreis und Quartier/Im Bau/Kreis 5\",\"Anzahl Wohnungen nach Projektstatus, Kreis und Quartier/Bewilligt/Kreis 7\",\"Anzahl Wohnungen nach Projektstatus, Kreis und Quartier/Im Bau/Kreis 5\",\"Anzahl Wohnungen nach Projektstatus, Kreis und Quartier/Bewilligt/Kreis 7\",\"Anzahl Wohnungen nach Projektstatus, Kreis und Quartier/Im Bau/Kreis 7\",\"Anzahl Wohnungen nach Projektstatus, Kreis und Quartier/Fertigerstellt/Kreis 12\",\"Anzahl Wohnungen nach Projektstatus, Kreis und Quartier/Fertigerstellt/Kreis 7\",\"Anzahl Wohnungen nach Projektstatus, Kreis und Quartier/Bewilligt/Kreis 10\",\"Anzahl Wohnungen nach Projektstatus, Kreis und Quartier/Fertigerstellt/Kreis 2\",\"Anzahl Wohnungen nach Projektstatus, Kreis und Quartier/Im Bau/Kreis 2\",\"Anzahl Wohnungen nach Projektstatus, Kreis und Quartier/Im Bau/Kreis 11\",\"Anzahl Wohnungen nach Projektstatus, Kreis und Quartier/Im Bau/Kreis 4\",\"Anzahl Wohnungen nach Projektstatus, Kreis und Quartier/Fertigerstellt\",\"Anzahl Wohnungen nach Projektstatus, Kreis und Quartier/Bewilligt\",\"Anzahl Wohnungen nach Projektstatus, Kreis und Quartier/Im Bau\",\"Anzahl Wohnungen nach Projektstatus, Kreis und Quartier/Bewilligt\",\"Anzahl Wohnungen nach Projektstatus, Kreis und Quartier/Fertigerstellt\",\"Anzahl Wohnungen nach Projektstatus, Kreis und Quartier/Im Bau\",\"Anzahl Wohnungen nach Projektstatus, Kreis und Quartier/Fertigerstellt\",\"Anzahl Wohnungen nach Projektstatus, Kreis und Quartier/Im Bau\",\"Anzahl Wohnungen nach Projektstatus, Kreis und Quartier/Bewilligt\",\"Anzahl Wohnungen nach Projektstatus, Kreis und Quartier/Fertigerstellt\",\"Anzahl Wohnungen nach Projektstatus, Kreis und Quartier/Im Bau\",\"Anzahl Wohnungen nach Projektstatus, Kreis und Quartier/Bewilligt\",\"Anzahl Wohnungen nach Projektstatus, Kreis und Quartier/Im Bau\",\"Anzahl Wohnungen nach Projektstatus, Kreis und Quartier/Bewilligt\",\"Anzahl Wohnungen nach Projektstatus, Kreis und Quartier/Fertigerstellt\",\"Anzahl Wohnungen nach Projektstatus, Kreis und Quartier/Im Bau\",\"Anzahl Wohnungen nach Projektstatus, Kreis und Quartier/Bewilligt\",\"Anzahl Wohnungen nach Projektstatus, Kreis und Quartier/Fertigerstellt\",\"Anzahl Wohnungen nach Projektstatus, Kreis und Quartier/Im Bau\",\"Anzahl Wohnungen nach Projektstatus, Kreis und Quartier/Bewilligt\",\"Anzahl Wohnungen nach Projektstatus, Kreis und Quartier/Fertigerstellt\",\"Anzahl Wohnungen nach Projektstatus, Kreis und Quartier/Im Bau\",\"Anzahl Wohnungen nach Projektstatus, Kreis und Quartier/Bewilligt\",\"Anzahl Wohnungen nach Projektstatus, Kreis und Quartier/Fertigerstellt\",\"Anzahl Wohnungen nach Projektstatus, Kreis und Quartier/Im Bau\",\"Anzahl Wohnungen nach Projektstatus, Kreis und Quartier/Bewilligt\",\"Anzahl Wohnungen nach Projektstatus, Kreis und Quartier/Fertigerstellt\",\"Anzahl Wohnungen nach Projektstatus, Kreis und Quartier/Im Bau\",\"Anzahl Wohnungen nach Projektstatus, Kreis und Quartier/Bewilligt\",\"Anzahl Wohnungen nach Projektstatus, Kreis und Quartier/Fertigerstellt\",\"Anzahl Wohnungen nach Projektstatus, Kreis und Quartier/Im Bau\",\"Anzahl Wohnungen nach Projektstatus, Kreis und Quartier\",\"Anzahl Wohnungen nach Projektstatus, Kreis und Quartier\",\"Anzahl Wohnungen nach Projektstatus, Kreis und Quartier\",\"\"],\"values\":[320688,49900,216309,53700,18894,867143,95867,46200,131500,73696,34867,18260,26196,623100,734633,56140,347165,31524,19075,10100,38000,25820,131880,70846,93442,13626,33442,103780,3400,349456,103017,48895,134306,36000,33325,180000,63335,91245,13000,116700,38004,239800,2800,88254,120100,18000,6500,11630,10718,289760,71095,38700,165000,159670,593275,49480,190700,245415,22550,26450,22280,57200,11000,12016,18410,56200,10194,136891,47900,191630,37485,136342,157274,140318,1293794,21100,193796,123141,455136,570682,134306,120600,31524,36000,795533,38000,190700,271865,141954,307554,166600,209772,86705,251981,18000,98667,623100,236095,198370,940440,1127551,1726180,5364733,8218464],\"type\":\"treemap\",\"root\":{\"color\":\"grey\"}}],                        {\"template\":{\"data\":{\"bar\":[{\"error_x\":{\"color\":\"#2a3f5f\"},\"error_y\":{\"color\":\"#2a3f5f\"},\"marker\":{\"line\":{\"color\":\"#E5ECF6\",\"width\":0.5},\"pattern\":{\"fillmode\":\"overlay\",\"size\":10,\"solidity\":0.2}},\"type\":\"bar\"}],\"barpolar\":[{\"marker\":{\"line\":{\"color\":\"#E5ECF6\",\"width\":0.5},\"pattern\":{\"fillmode\":\"overlay\",\"size\":10,\"solidity\":0.2}},\"type\":\"barpolar\"}],\"carpet\":[{\"aaxis\":{\"endlinecolor\":\"#2a3f5f\",\"gridcolor\":\"white\",\"linecolor\":\"white\",\"minorgridcolor\":\"white\",\"startlinecolor\":\"#2a3f5f\"},\"baxis\":{\"endlinecolor\":\"#2a3f5f\",\"gridcolor\":\"white\",\"linecolor\":\"white\",\"minorgridcolor\":\"white\",\"startlinecolor\":\"#2a3f5f\"},\"type\":\"carpet\"}],\"choropleth\":[{\"colorbar\":{\"outlinewidth\":0,\"ticks\":\"\"},\"type\":\"choropleth\"}],\"contour\":[{\"colorbar\":{\"outlinewidth\":0,\"ticks\":\"\"},\"colorscale\":[[0.0,\"#0d0887\"],[0.1111111111111111,\"#46039f\"],[0.2222222222222222,\"#7201a8\"],[0.3333333333333333,\"#9c179e\"],[0.4444444444444444,\"#bd3786\"],[0.5555555555555556,\"#d8576b\"],[0.6666666666666666,\"#ed7953\"],[0.7777777777777778,\"#fb9f3a\"],[0.8888888888888888,\"#fdca26\"],[1.0,\"#f0f921\"]],\"type\":\"contour\"}],\"contourcarpet\":[{\"colorbar\":{\"outlinewidth\":0,\"ticks\":\"\"},\"type\":\"contourcarpet\"}],\"heatmap\":[{\"colorbar\":{\"outlinewidth\":0,\"ticks\":\"\"},\"colorscale\":[[0.0,\"#0d0887\"],[0.1111111111111111,\"#46039f\"],[0.2222222222222222,\"#7201a8\"],[0.3333333333333333,\"#9c179e\"],[0.4444444444444444,\"#bd3786\"],[0.5555555555555556,\"#d8576b\"],[0.6666666666666666,\"#ed7953\"],[0.7777777777777778,\"#fb9f3a\"],[0.8888888888888888,\"#fdca26\"],[1.0,\"#f0f921\"]],\"type\":\"heatmap\"}],\"heatmapgl\":[{\"colorbar\":{\"outlinewidth\":0,\"ticks\":\"\"},\"colorscale\":[[0.0,\"#0d0887\"],[0.1111111111111111,\"#46039f\"],[0.2222222222222222,\"#7201a8\"],[0.3333333333333333,\"#9c179e\"],[0.4444444444444444,\"#bd3786\"],[0.5555555555555556,\"#d8576b\"],[0.6666666666666666,\"#ed7953\"],[0.7777777777777778,\"#fb9f3a\"],[0.8888888888888888,\"#fdca26\"],[1.0,\"#f0f921\"]],\"type\":\"heatmapgl\"}],\"histogram\":[{\"marker\":{\"pattern\":{\"fillmode\":\"overlay\",\"size\":10,\"solidity\":0.2}},\"type\":\"histogram\"}],\"histogram2d\":[{\"colorbar\":{\"outlinewidth\":0,\"ticks\":\"\"},\"colorscale\":[[0.0,\"#0d0887\"],[0.1111111111111111,\"#46039f\"],[0.2222222222222222,\"#7201a8\"],[0.3333333333333333,\"#9c179e\"],[0.4444444444444444,\"#bd3786\"],[0.5555555555555556,\"#d8576b\"],[0.6666666666666666,\"#ed7953\"],[0.7777777777777778,\"#fb9f3a\"],[0.8888888888888888,\"#fdca26\"],[1.0,\"#f0f921\"]],\"type\":\"histogram2d\"}],\"histogram2dcontour\":[{\"colorbar\":{\"outlinewidth\":0,\"ticks\":\"\"},\"colorscale\":[[0.0,\"#0d0887\"],[0.1111111111111111,\"#46039f\"],[0.2222222222222222,\"#7201a8\"],[0.3333333333333333,\"#9c179e\"],[0.4444444444444444,\"#bd3786\"],[0.5555555555555556,\"#d8576b\"],[0.6666666666666666,\"#ed7953\"],[0.7777777777777778,\"#fb9f3a\"],[0.8888888888888888,\"#fdca26\"],[1.0,\"#f0f921\"]],\"type\":\"histogram2dcontour\"}],\"mesh3d\":[{\"colorbar\":{\"outlinewidth\":0,\"ticks\":\"\"},\"type\":\"mesh3d\"}],\"parcoords\":[{\"line\":{\"colorbar\":{\"outlinewidth\":0,\"ticks\":\"\"}},\"type\":\"parcoords\"}],\"pie\":[{\"automargin\":true,\"type\":\"pie\"}],\"scatter\":[{\"marker\":{\"colorbar\":{\"outlinewidth\":0,\"ticks\":\"\"}},\"type\":\"scatter\"}],\"scatter3d\":[{\"line\":{\"colorbar\":{\"outlinewidth\":0,\"ticks\":\"\"}},\"marker\":{\"colorbar\":{\"outlinewidth\":0,\"ticks\":\"\"}},\"type\":\"scatter3d\"}],\"scattercarpet\":[{\"marker\":{\"colorbar\":{\"outlinewidth\":0,\"ticks\":\"\"}},\"type\":\"scattercarpet\"}],\"scattergeo\":[{\"marker\":{\"colorbar\":{\"outlinewidth\":0,\"ticks\":\"\"}},\"type\":\"scattergeo\"}],\"scattergl\":[{\"marker\":{\"colorbar\":{\"outlinewidth\":0,\"ticks\":\"\"}},\"type\":\"scattergl\"}],\"scattermapbox\":[{\"marker\":{\"colorbar\":{\"outlinewidth\":0,\"ticks\":\"\"}},\"type\":\"scattermapbox\"}],\"scatterpolar\":[{\"marker\":{\"colorbar\":{\"outlinewidth\":0,\"ticks\":\"\"}},\"type\":\"scatterpolar\"}],\"scatterpolargl\":[{\"marker\":{\"colorbar\":{\"outlinewidth\":0,\"ticks\":\"\"}},\"type\":\"scatterpolargl\"}],\"scatterternary\":[{\"marker\":{\"colorbar\":{\"outlinewidth\":0,\"ticks\":\"\"}},\"type\":\"scatterternary\"}],\"surface\":[{\"colorbar\":{\"outlinewidth\":0,\"ticks\":\"\"},\"colorscale\":[[0.0,\"#0d0887\"],[0.1111111111111111,\"#46039f\"],[0.2222222222222222,\"#7201a8\"],[0.3333333333333333,\"#9c179e\"],[0.4444444444444444,\"#bd3786\"],[0.5555555555555556,\"#d8576b\"],[0.6666666666666666,\"#ed7953\"],[0.7777777777777778,\"#fb9f3a\"],[0.8888888888888888,\"#fdca26\"],[1.0,\"#f0f921\"]],\"type\":\"surface\"}],\"table\":[{\"cells\":{\"fill\":{\"color\":\"#EBF0F8\"},\"line\":{\"color\":\"white\"}},\"header\":{\"fill\":{\"color\":\"#C8D4E3\"},\"line\":{\"color\":\"white\"}},\"type\":\"table\"}]},\"layout\":{\"annotationdefaults\":{\"arrowcolor\":\"#2a3f5f\",\"arrowhead\":0,\"arrowwidth\":1},\"autotypenumbers\":\"strict\",\"coloraxis\":{\"colorbar\":{\"outlinewidth\":0,\"ticks\":\"\"}},\"colorscale\":{\"diverging\":[[0,\"#8e0152\"],[0.1,\"#c51b7d\"],[0.2,\"#de77ae\"],[0.3,\"#f1b6da\"],[0.4,\"#fde0ef\"],[0.5,\"#f7f7f7\"],[0.6,\"#e6f5d0\"],[0.7,\"#b8e186\"],[0.8,\"#7fbc41\"],[0.9,\"#4d9221\"],[1,\"#276419\"]],\"sequential\":[[0.0,\"#0d0887\"],[0.1111111111111111,\"#46039f\"],[0.2222222222222222,\"#7201a8\"],[0.3333333333333333,\"#9c179e\"],[0.4444444444444444,\"#bd3786\"],[0.5555555555555556,\"#d8576b\"],[0.6666666666666666,\"#ed7953\"],[0.7777777777777778,\"#fb9f3a\"],[0.8888888888888888,\"#fdca26\"],[1.0,\"#f0f921\"]],\"sequentialminus\":[[0.0,\"#0d0887\"],[0.1111111111111111,\"#46039f\"],[0.2222222222222222,\"#7201a8\"],[0.3333333333333333,\"#9c179e\"],[0.4444444444444444,\"#bd3786\"],[0.5555555555555556,\"#d8576b\"],[0.6666666666666666,\"#ed7953\"],[0.7777777777777778,\"#fb9f3a\"],[0.8888888888888888,\"#fdca26\"],[1.0,\"#f0f921\"]]},\"colorway\":[\"#636efa\",\"#EF553B\",\"#00cc96\",\"#ab63fa\",\"#FFA15A\",\"#19d3f3\",\"#FF6692\",\"#B6E880\",\"#FF97FF\",\"#FECB52\"],\"font\":{\"color\":\"#2a3f5f\"},\"geo\":{\"bgcolor\":\"white\",\"lakecolor\":\"white\",\"landcolor\":\"#E5ECF6\",\"showlakes\":true,\"showland\":true,\"subunitcolor\":\"white\"},\"hoverlabel\":{\"align\":\"left\"},\"hovermode\":\"closest\",\"mapbox\":{\"style\":\"light\"},\"paper_bgcolor\":\"white\",\"plot_bgcolor\":\"#E5ECF6\",\"polar\":{\"angularaxis\":{\"gridcolor\":\"white\",\"linecolor\":\"white\",\"ticks\":\"\"},\"bgcolor\":\"#E5ECF6\",\"radialaxis\":{\"gridcolor\":\"white\",\"linecolor\":\"white\",\"ticks\":\"\"}},\"scene\":{\"xaxis\":{\"backgroundcolor\":\"#E5ECF6\",\"gridcolor\":\"white\",\"gridwidth\":2,\"linecolor\":\"white\",\"showbackground\":true,\"ticks\":\"\",\"zerolinecolor\":\"white\"},\"yaxis\":{\"backgroundcolor\":\"#E5ECF6\",\"gridcolor\":\"white\",\"gridwidth\":2,\"linecolor\":\"white\",\"showbackground\":true,\"ticks\":\"\",\"zerolinecolor\":\"white\"},\"zaxis\":{\"backgroundcolor\":\"#E5ECF6\",\"gridcolor\":\"white\",\"gridwidth\":2,\"linecolor\":\"white\",\"showbackground\":true,\"ticks\":\"\",\"zerolinecolor\":\"white\"}},\"shapedefaults\":{\"line\":{\"color\":\"#2a3f5f\"}},\"ternary\":{\"aaxis\":{\"gridcolor\":\"white\",\"linecolor\":\"white\",\"ticks\":\"\"},\"baxis\":{\"gridcolor\":\"white\",\"linecolor\":\"white\",\"ticks\":\"\"},\"bgcolor\":\"#E5ECF6\",\"caxis\":{\"gridcolor\":\"white\",\"linecolor\":\"white\",\"ticks\":\"\"}},\"title\":{\"x\":0.05},\"xaxis\":{\"automargin\":true,\"gridcolor\":\"white\",\"linecolor\":\"white\",\"ticks\":\"\",\"title\":{\"standoff\":15},\"zerolinecolor\":\"white\",\"zerolinewidth\":2},\"yaxis\":{\"automargin\":true,\"gridcolor\":\"white\",\"linecolor\":\"white\",\"ticks\":\"\",\"title\":{\"standoff\":15},\"zerolinecolor\":\"white\",\"zerolinewidth\":2}}},\"legend\":{\"tracegroupgap\":0},\"margin\":{\"t\":50,\"l\":25,\"r\":250,\"b\":25},\"height\":400,\"width\":1100},                        {\"responsive\": true}                    ).then(function(){\n",
       "                            \n",
       "var gd = document.getElementById('c1255e09-c4fc-4528-9aae-025cf41c6870');\n",
       "var x = new MutationObserver(function (mutations, observer) {{\n",
       "        var display = window.getComputedStyle(gd).display;\n",
       "        if (!display || display === 'none') {{\n",
       "            console.log([gd, 'removed!']);\n",
       "            Plotly.purge(gd);\n",
       "            observer.disconnect();\n",
       "        }}\n",
       "}});\n",
       "\n",
       "// Listen for the removal of the full notebook cells\n",
       "var notebookContainer = gd.closest('#notebook-container');\n",
       "if (notebookContainer) {{\n",
       "    x.observe(notebookContainer, {childList: true});\n",
       "}}\n",
       "\n",
       "// Listen for the clearing of the current output cell\n",
       "var outputEl = gd.closest('.output');\n",
       "if (outputEl) {{\n",
       "    x.observe(outputEl, {childList: true});\n",
       "}}\n",
       "\n",
       "                        })                };                });            </script>        </div>"
      ]
     },
     "metadata": {},
     "output_type": "display_data"
    }
   ],
   "source": [
    "fig = px.treemap(myTreemapAgg.query('sum_ProjKosten >0').reset_index(), path=[px.Constant(\"Anzahl Wohnungen nach Projektstatus, Kreis und Quartier\"),'ProjStatus', 'KreisLang', 'QuarLang']\n",
    "                 , values='sum_ProjKosten'\n",
    "                 , color='ProjStatus'\n",
    "                 ## bei discrete scales (bei Klassen und Strings):                 \n",
    "                 #, color_discrete_map={'(?)':'lightgrey','EVP':'gold', 'SP':'#FF3030', 'PdA':'#EE3B3B', 'Grüne':'#A2CD5A','GLP':'#CAFF70','Die Mitte':'orange','FDP':'#104E8B','AL':'deeppink','SVP':'forestgreen', 'FL ZÜRI':'#8B864E','Volt':'#lightblue' }                \n",
    "                 ## bei continuous scales (bei Zahlenwerten):\n",
    "                , color_continuous_scale='cividis'\n",
    "                #, color_continuous_midpoint=np.average(df['AnzBestWir'], weights=df['AnzBestWir'])  \n",
    "                 ,height=400\n",
    "                 ,width=1100                 \n",
    "                )\n",
    "fig.update_traces(root_color=\"grey\")\n",
    "fig.update_layout(margin = dict(t=50, l=25, r=250, b=25))\n",
    "fig.show()"
   ]
  },
  {
   "cell_type": "code",
   "execution_count": 48,
   "metadata": {},
   "outputs": [],
   "source": [
    "#data2betested.dtypes"
   ]
  },
  {
   "cell_type": "markdown",
   "metadata": {
    "tags": []
   },
   "source": [
    "### Test: Choroplethenkarte\n",
    "Importiere die Geodaten als GeoJSON"
   ]
  },
  {
   "cell_type": "markdown",
   "metadata": {},
   "source": [
    "#### Stadtkreise"
   ]
  },
  {
   "cell_type": "code",
   "execution_count": 49,
   "metadata": {},
   "outputs": [
    {
     "data": {
      "text/html": [
       "<div>\n",
       "<style scoped>\n",
       "    .dataframe tbody tr th:only-of-type {\n",
       "        vertical-align: middle;\n",
       "    }\n",
       "\n",
       "    .dataframe tbody tr th {\n",
       "        vertical-align: top;\n",
       "    }\n",
       "\n",
       "    .dataframe thead th {\n",
       "        text-align: right;\n",
       "    }\n",
       "</style>\n",
       "<table border=\"1\" class=\"dataframe\">\n",
       "  <thead>\n",
       "    <tr style=\"text-align: right;\">\n",
       "      <th></th>\n",
       "      <th>id</th>\n",
       "      <th>kname</th>\n",
       "      <th>knr</th>\n",
       "      <th>objid</th>\n",
       "      <th>geometry</th>\n",
       "    </tr>\n",
       "  </thead>\n",
       "  <tbody>\n",
       "    <tr>\n",
       "      <th>0</th>\n",
       "      <td>adm_stadtkreise_v.6</td>\n",
       "      <td>Kreis 7</td>\n",
       "      <td>7</td>\n",
       "      <td>6</td>\n",
       "      <td>POLYGON ((8.54885 47.36602, 8.54901 47.36601, ...</td>\n",
       "    </tr>\n",
       "  </tbody>\n",
       "</table>\n",
       "</div>"
      ],
      "text/plain": [
       "                    id    kname  knr objid                                           geometry\n",
       "0  adm_stadtkreise_v.6  Kreis 7    7     6  POLYGON ((8.54885 47.36602, 8.54901 47.36601, ..."
      ]
     },
     "execution_count": 49,
     "metadata": {},
     "output_type": "execute_result"
    }
   ],
   "source": [
    "# Read abt. Geopandas https://geopandas.org/docs/user_guide/io.html\n",
    "geojson_url_kreise = \"https://www.ogd.stadt-zuerich.ch/wfs/geoportal/Stadtkreise?service=WFS&version=1.1.0&request=GetFeature&outputFormat=GeoJSON&typename=adm_stadtkreise_v\"\n",
    "adm_stadtkreise_v = gpd.read_file(geojson_url_kreise)\n",
    "\n",
    "adm_stadtkreise_v.head(1)\n"
   ]
  },
  {
   "cell_type": "code",
   "execution_count": null,
   "metadata": {},
   "outputs": [],
   "source": []
  },
  {
   "cell_type": "code",
   "execution_count": null,
   "metadata": {},
   "outputs": [],
   "source": []
  },
  {
   "cell_type": "markdown",
   "metadata": {},
   "source": [
    "#### Statistische Zonen"
   ]
  },
  {
   "cell_type": "code",
   "execution_count": 50,
   "metadata": {},
   "outputs": [
    {
     "data": {
      "text/html": [
       "<div>\n",
       "<style scoped>\n",
       "    .dataframe tbody tr th:only-of-type {\n",
       "        vertical-align: middle;\n",
       "    }\n",
       "\n",
       "    .dataframe tbody tr th {\n",
       "        vertical-align: top;\n",
       "    }\n",
       "\n",
       "    .dataframe thead th {\n",
       "        text-align: right;\n",
       "    }\n",
       "</style>\n",
       "<table border=\"1\" class=\"dataframe\">\n",
       "  <thead>\n",
       "    <tr style=\"text-align: right;\">\n",
       "      <th></th>\n",
       "      <th>id</th>\n",
       "      <th>kname</th>\n",
       "      <th>knr</th>\n",
       "      <th>objectid</th>\n",
       "      <th>objid</th>\n",
       "      <th>qname</th>\n",
       "      <th>qnr</th>\n",
       "      <th>stzname</th>\n",
       "      <th>stznr</th>\n",
       "      <th>geometry</th>\n",
       "    </tr>\n",
       "  </thead>\n",
       "  <tbody>\n",
       "    <tr>\n",
       "      <th>0</th>\n",
       "      <td>adm_statzonen_map.1</td>\n",
       "      <td>Kreis 7</td>\n",
       "      <td>7</td>\n",
       "      <td>1</td>\n",
       "      <td>154</td>\n",
       "      <td>Hirslanden</td>\n",
       "      <td>73</td>\n",
       "      <td>Hegibach</td>\n",
       "      <td>7303</td>\n",
       "      <td>POLYGON ((8.55670 47.36406, 8.55682 47.36410, ...</td>\n",
       "    </tr>\n",
       "    <tr>\n",
       "      <th>1</th>\n",
       "      <td>adm_statzonen_map.2</td>\n",
       "      <td>Kreis 7</td>\n",
       "      <td>7</td>\n",
       "      <td>2</td>\n",
       "      <td>89</td>\n",
       "      <td>Hirslanden</td>\n",
       "      <td>73</td>\n",
       "      <td>Klus</td>\n",
       "      <td>7302</td>\n",
       "      <td>POLYGON ((8.57281 47.35806, 8.57278 47.35807, ...</td>\n",
       "    </tr>\n",
       "  </tbody>\n",
       "</table>\n",
       "</div>"
      ],
      "text/plain": [
       "                    id    kname  knr  objectid objid       qname  qnr   stzname  stznr  \\\n",
       "0  adm_statzonen_map.1  Kreis 7    7         1   154  Hirslanden   73  Hegibach   7303   \n",
       "1  adm_statzonen_map.2  Kreis 7    7         2    89  Hirslanden   73      Klus   7302   \n",
       "\n",
       "                                            geometry  \n",
       "0  POLYGON ((8.55670 47.36406, 8.55682 47.36410, ...  \n",
       "1  POLYGON ((8.57281 47.35806, 8.57278 47.35807, ...  "
      ]
     },
     "execution_count": 50,
     "metadata": {},
     "output_type": "execute_result"
    }
   ],
   "source": [
    "# Read abt. Geopandas https://geopandas.org/docs/user_guide/io.html\n",
    "geojson_url_statzonen = \"https://www.ogd.stadt-zuerich.ch/wfs/geoportal/Statistische_Zonen?service=WFS&version=1.1.0&request=GetFeature&outputFormat=GeoJSON&typename=adm_statzonen_map\"\n",
    "adm_statzonen_map = gpd.read_file(geojson_url_statzonen)\n",
    "\n",
    "adm_statzonen_map.head(2)\n"
   ]
  },
  {
   "cell_type": "markdown",
   "metadata": {},
   "source": [
    "#### Statistische Quartiere"
   ]
  },
  {
   "cell_type": "code",
   "execution_count": 51,
   "metadata": {},
   "outputs": [
    {
     "data": {
      "text/html": [
       "<div>\n",
       "<style scoped>\n",
       "    .dataframe tbody tr th:only-of-type {\n",
       "        vertical-align: middle;\n",
       "    }\n",
       "\n",
       "    .dataframe tbody tr th {\n",
       "        vertical-align: top;\n",
       "    }\n",
       "\n",
       "    .dataframe thead th {\n",
       "        text-align: right;\n",
       "    }\n",
       "</style>\n",
       "<table border=\"1\" class=\"dataframe\">\n",
       "  <thead>\n",
       "    <tr style=\"text-align: right;\">\n",
       "      <th></th>\n",
       "      <th>id</th>\n",
       "      <th>kname</th>\n",
       "      <th>knr</th>\n",
       "      <th>objectid</th>\n",
       "      <th>objid</th>\n",
       "      <th>qname</th>\n",
       "      <th>qnr</th>\n",
       "      <th>geometry</th>\n",
       "    </tr>\n",
       "  </thead>\n",
       "  <tbody>\n",
       "    <tr>\n",
       "      <th>0</th>\n",
       "      <td>adm_statistische_quartiere_map.1</td>\n",
       "      <td>Kreis 7</td>\n",
       "      <td>7</td>\n",
       "      <td>1</td>\n",
       "      <td>34</td>\n",
       "      <td>Hirslanden</td>\n",
       "      <td>73</td>\n",
       "      <td>POLYGON ((8.55670 47.36406, 8.55682 47.36410, ...</td>\n",
       "    </tr>\n",
       "    <tr>\n",
       "      <th>1</th>\n",
       "      <td>adm_statistische_quartiere_map.2</td>\n",
       "      <td>Kreis 8</td>\n",
       "      <td>8</td>\n",
       "      <td>2</td>\n",
       "      <td>33</td>\n",
       "      <td>Weinegg</td>\n",
       "      <td>83</td>\n",
       "      <td>POLYGON ((8.55670 47.36405, 8.55672 47.36403, ...</td>\n",
       "    </tr>\n",
       "  </tbody>\n",
       "</table>\n",
       "</div>"
      ],
      "text/plain": [
       "                                 id    kname  knr  objectid objid       qname  qnr  \\\n",
       "0  adm_statistische_quartiere_map.1  Kreis 7    7         1    34  Hirslanden   73   \n",
       "1  adm_statistische_quartiere_map.2  Kreis 8    8         2    33     Weinegg   83   \n",
       "\n",
       "                                            geometry  \n",
       "0  POLYGON ((8.55670 47.36406, 8.55682 47.36410, ...  \n",
       "1  POLYGON ((8.55670 47.36405, 8.55672 47.36403, ...  "
      ]
     },
     "execution_count": 51,
     "metadata": {},
     "output_type": "execute_result"
    }
   ],
   "source": [
    "geojson_url_quartiere = \"https://www.ogd.stadt-zuerich.ch/wfs/geoportal/Statistische_Quartiere?service=WFS&version=1.1.0&request=GetFeature&outputFormat=GeoJSON&typename=adm_statistische_quartiere_map\"\n",
    "df_adm_statistische_quartiere_map = gpd.read_file(geojson_url_quartiere)\n",
    "\n",
    "df_adm_statistische_quartiere_map.head(2)\n"
   ]
  },
  {
   "cell_type": "markdown",
   "metadata": {},
   "source": [
    "### Teste LeafMap\n",
    "\n",
    "Mehr Infos: https://leafmap.org/leafmap/"
   ]
  },
  {
   "cell_type": "code",
   "execution_count": 52,
   "metadata": {},
   "outputs": [
    {
     "data": {
      "application/vnd.jupyter.widget-view+json": {
       "model_id": "03ab3861fb6349f9b6214a8f8f4d21bf",
       "version_major": 2,
       "version_minor": 0
      },
      "text/plain": [
       "Map(center=[20, 0], controls=(ZoomControl(options=['position', 'zoom_in_text', 'zoom_in_title', 'zoom_out_text…"
      ]
     },
     "metadata": {},
     "output_type": "display_data"
    }
   ],
   "source": [
    "m = leafmap.Map()\n",
    "\n",
    "\n",
    "#m.add_geojson(geojson_url_kreise, layer_name=\"adm_stadtkreise_v\", fill_colors=['red', 'yellow', 'green', 'orange'], info_mode=True)\n",
    "m.add_gdf(df_adm_statistische_quartiere_map, layer_name='adm_statistische_quartiere_map', style={}, hover_style={}, style_callback=None, fill_colors=['black'], info_mode='on_hover', zoom_to_layer=True)\n",
    "m.add_gdf(adm_stadtkreise_v, layer_name='adm_stadtkreise_v', style={}, hover_style={}, style_callback=None, fill_colors=['none'], info_mode='on_hover', zoom_to_layer=False)\n",
    "\n",
    "m.add_legend(title='Legende', legend_dict=None, labels=None, colors=None, position='bottomright', builtin_legend=None, layer_name='adm_statistische_quartiere_map')\n",
    "m"
   ]
  },
  {
   "cell_type": "markdown",
   "metadata": {},
   "source": [
    "### Joins\n",
    "Joine die importierten statistischen Daten des aktuellen Jahres zum Geodatensatz:\n",
    "\n",
    "*Siehe dazu Doku zu [Geopandas](https://geopandas.org/docs/user_guide/mergingdata.html)*"
   ]
  },
  {
   "cell_type": "code",
   "execution_count": 127,
   "metadata": {},
   "outputs": [
    {
     "data": {
      "text/plain": [
       "StatZoneCd             int64\n",
       "StatZone              object\n",
       "QuarCd                 int64\n",
       "QuarLang              object\n",
       "KreisCd                int64\n",
       "KreisLang             object\n",
       "EigentumsartSort       int64\n",
       "Eigentumsart          object\n",
       "Whg_abgebrochen        int64\n",
       "Whg_fertigerstellt     int64\n",
       "dtype: object"
      ]
     },
     "execution_count": 127,
     "metadata": {},
     "output_type": "execute_result"
    }
   ],
   "source": [
    "data2betested.dtypes"
   ]
  },
  {
   "cell_type": "code",
   "execution_count": 137,
   "metadata": {},
   "outputs": [
    {
     "data": {
      "text/html": [
       "<div>\n",
       "<style scoped>\n",
       "    .dataframe tbody tr th:only-of-type {\n",
       "        vertical-align: middle;\n",
       "    }\n",
       "\n",
       "    .dataframe tbody tr th {\n",
       "        vertical-align: top;\n",
       "    }\n",
       "\n",
       "    .dataframe thead th {\n",
       "        text-align: right;\n",
       "    }\n",
       "</style>\n",
       "<table border=\"1\" class=\"dataframe\">\n",
       "  <thead>\n",
       "    <tr style=\"text-align: right;\">\n",
       "      <th></th>\n",
       "      <th>QuarLang</th>\n",
       "      <th>QuarCd</th>\n",
       "      <th>sum_Whg_abgebrochen</th>\n",
       "      <th>sum_Whg_fertigerstellt</th>\n",
       "    </tr>\n",
       "  </thead>\n",
       "  <tbody>\n",
       "    <tr>\n",
       "      <th>0</th>\n",
       "      <td>Albisrieden</td>\n",
       "      <td>91</td>\n",
       "      <td>282</td>\n",
       "      <td>89</td>\n",
       "    </tr>\n",
       "  </tbody>\n",
       "</table>\n",
       "</div>"
      ],
      "text/plain": [
       "      QuarLang  QuarCd  sum_Whg_abgebrochen  sum_Whg_fertigerstellt\n",
       "0  Albisrieden      91                  282                      89"
      ]
     },
     "execution_count": 137,
     "metadata": {},
     "output_type": "execute_result"
    }
   ],
   "source": [
    "myAgg = data2betested.loc[\"2021\"]  \\\n",
    "    .groupby(['QuarLang', 'QuarCd']) \\\n",
    "    .agg(sum_Whg_abgebrochen=('Whg_abgebrochen', 'sum'),sum_Whg_fertigerstellt=('Whg_fertigerstellt', 'sum')) \\\n",
    "    .sort_values('sum_Whg_abgebrochen', ascending=False) \n",
    "\n",
    "myAgg.reset_index().head(1)\n"
   ]
  },
  {
   "cell_type": "code",
   "execution_count": 138,
   "metadata": {},
   "outputs": [
    {
     "data": {
      "text/html": [
       "<div>\n",
       "<style scoped>\n",
       "    .dataframe tbody tr th:only-of-type {\n",
       "        vertical-align: middle;\n",
       "    }\n",
       "\n",
       "    .dataframe tbody tr th {\n",
       "        vertical-align: top;\n",
       "    }\n",
       "\n",
       "    .dataframe thead th {\n",
       "        text-align: right;\n",
       "    }\n",
       "</style>\n",
       "<table border=\"1\" class=\"dataframe\">\n",
       "  <thead>\n",
       "    <tr style=\"text-align: right;\">\n",
       "      <th></th>\n",
       "      <th>geometry</th>\n",
       "      <th>QuarCd</th>\n",
       "      <th>qname</th>\n",
       "      <th>knr</th>\n",
       "    </tr>\n",
       "  </thead>\n",
       "  <tbody>\n",
       "    <tr>\n",
       "      <th>0</th>\n",
       "      <td>POLYGON ((8.55670 47.36406, 8.55682 47.36410, ...</td>\n",
       "      <td>73</td>\n",
       "      <td>Hirslanden</td>\n",
       "      <td>7</td>\n",
       "    </tr>\n",
       "  </tbody>\n",
       "</table>\n",
       "</div>"
      ],
      "text/plain": [
       "                                            geometry  QuarCd       qname  knr\n",
       "0  POLYGON ((8.55670 47.36406, 8.55682 47.36410, ...      73  Hirslanden    7"
      ]
     },
     "execution_count": 138,
     "metadata": {},
     "output_type": "execute_result"
    }
   ],
   "source": [
    "# Rename attribute stznr to StatZoneSort, so the IDs have the same name\n",
    "gdf_adm_statistische_quartiere_map = df_adm_statistische_quartiere_map[['geometry', 'qnr', 'qname', 'knr']].rename(columns={'qnr': 'QuarCd'})\n",
    "gdf_adm_statistische_quartiere_map.head(1)"
   ]
  },
  {
   "cell_type": "code",
   "execution_count": 139,
   "metadata": {},
   "outputs": [
    {
     "data": {
      "text/html": [
       "<div>\n",
       "<style scoped>\n",
       "    .dataframe tbody tr th:only-of-type {\n",
       "        vertical-align: middle;\n",
       "    }\n",
       "\n",
       "    .dataframe tbody tr th {\n",
       "        vertical-align: top;\n",
       "    }\n",
       "\n",
       "    .dataframe thead th {\n",
       "        text-align: right;\n",
       "    }\n",
       "</style>\n",
       "<table border=\"1\" class=\"dataframe\">\n",
       "  <thead>\n",
       "    <tr style=\"text-align: right;\">\n",
       "      <th></th>\n",
       "      <th>geometry</th>\n",
       "      <th>QuarCd</th>\n",
       "      <th>qname</th>\n",
       "      <th>knr</th>\n",
       "      <th>sum_Whg_abgebrochen</th>\n",
       "      <th>sum_Whg_fertigerstellt</th>\n",
       "    </tr>\n",
       "  </thead>\n",
       "  <tbody>\n",
       "    <tr>\n",
       "      <th>0</th>\n",
       "      <td>POLYGON ((8.55670 47.36406, 8.55682 47.36410, ...</td>\n",
       "      <td>73</td>\n",
       "      <td>Hirslanden</td>\n",
       "      <td>7</td>\n",
       "      <td>48</td>\n",
       "      <td>2</td>\n",
       "    </tr>\n",
       "    <tr>\n",
       "      <th>1</th>\n",
       "      <td>POLYGON ((8.55670 47.36405, 8.55672 47.36403, ...</td>\n",
       "      <td>83</td>\n",
       "      <td>Weinegg</td>\n",
       "      <td>8</td>\n",
       "      <td>2</td>\n",
       "      <td>0</td>\n",
       "    </tr>\n",
       "  </tbody>\n",
       "</table>\n",
       "</div>"
      ],
      "text/plain": [
       "                                            geometry  QuarCd       qname  knr  \\\n",
       "0  POLYGON ((8.55670 47.36406, 8.55682 47.36410, ...      73  Hirslanden    7   \n",
       "1  POLYGON ((8.55670 47.36405, 8.55672 47.36403, ...      83     Weinegg    8   \n",
       "\n",
       "   sum_Whg_abgebrochen  sum_Whg_fertigerstellt  \n",
       "0                   48                       2  \n",
       "1                    2                       0  "
      ]
     },
     "execution_count": 139,
     "metadata": {},
     "output_type": "execute_result"
    }
   ],
   "source": [
    "# Merge with `merge` method on shared variable (stznr und StatZoneSort):\n",
    "gdf_adm_statistische_quartiere_map_joined = gdf_adm_statistische_quartiere_map.merge(myAgg, on='QuarCd')\n",
    "gdf_adm_statistische_quartiere_map_joined.head(2)\n"
   ]
  },
  {
   "cell_type": "code",
   "execution_count": 142,
   "metadata": {},
   "outputs": [
    {
     "data": {
      "text/plain": [
       "<AxesSubplot:>"
      ]
     },
     "execution_count": 142,
     "metadata": {},
     "output_type": "execute_result"
    },
    {
     "data": {
      "image/png": "[encoded data removed]",
      "text/plain": [
       "<Figure size 432x288 with 1 Axes>"
      ]
     },
     "metadata": {
      "needs_background": "light"
     },
     "output_type": "display_data"
    },
    {
     "data": {
      "image/png": "[encoded data removed]",
      "text/plain": [
       "<Figure size 432x288 with 1 Axes>"
      ]
     },
     "metadata": {
      "needs_background": "light"
     },
     "output_type": "display_data"
    }
   ],
   "source": [
    "# Plot by StatQuartiere\n",
    "# Weitere Schemes: scheme='quantiles', scheme='fisherjenks', scheme='natural_breaks',\n",
    "\n",
    "gdf_adm_statistische_quartiere_map_joined.plot(column='sum_Whg_fertigerstellt', cmap='viridis', scheme='natural_breaks', legend=True )\n",
    "gdf_adm_statistische_quartiere_map_joined.plot(column='sum_Whg_abgebrochen', cmap='viridis', scheme='natural_breaks', legend=True )\n",
    "\n",
    "#gdf_adm_statistische_quartiere_map_joined.plot(column='sum_Whg_abgebrochen', cmap='plasma', scheme='fisherjenks', legend=True )\n",
    "#gdf_adm_statistische_quartiere_map_joined.plot(column='sum_Whg_fertigerstellt', cmap='cool', scheme='quantiles', legend=True )\n",
    "#scheme werte: https://matplotlib.org/2.0.2/users/colormaps.html\n",
    "\n",
    "#\n",
    "#Neuere Gallerie: https://matplotlib.org/stable/gallery/index.html"
   ]
  },
  {
   "cell_type": "code",
   "execution_count": 157,
   "metadata": {},
   "outputs": [
    {
     "data": {
      "text/plain": [
       "<AxesSubplot:>"
      ]
     },
     "execution_count": 157,
     "metadata": {},
     "output_type": "execute_result"
    },
    {
     "data": {
      "image/png": "[encoded data removed]",
      "text/plain": [
       "<Figure size 432x288 with 2 Axes>"
      ]
     },
     "metadata": {
      "needs_background": "light"
     },
     "output_type": "display_data"
    }
   ],
   "source": [
    "fig, ax = plt.subplots(1, 1)\n",
    "\n",
    "gdf_adm_statistische_quartiere_map_joined.plot(column='sum_Whg_abgebrochen', ax=ax, legend=True, legend_kwds={'label': \"Anzahl abgebrochene Wohnungen 2021\",'orientation': \"horizontal\"})\n",
    "gdf_adm_statistische_quartiere_map_joined.plot(column='sum_Whg_fertigerstellt', ax=ax, legend=False, legend_kwds={'label': \"Anzahl fertigerstellte Wohnungen 2021\",'orientation': \"horizontal\"})\n",
    "\n",
    "#gdf_adm_statistische_quartiere_map_joined.plot(column='sum_Whg_abgebrochen', cmap='viridis', scheme='natural_breaks', legend=True , ax=ax, legend_kwds={'label': \"Anzahl Personen\",'orientation': \"horizontal\"})"
   ]
  },
  {
   "cell_type": "markdown",
   "metadata": {},
   "source": [
    "Noch zu prüfen, folgendes schöne Beispiel: https://docs.bokeh.org/en/latest/docs/user_guide/interaction/legends.html\n",
    "\n",
    "Konkrete Beispiele von Bookeh in Jupyter NB: https://docs.bokeh.org/en/latest/docs/user_guide/jupyter.html"
   ]
  },
  {
   "cell_type": "markdown",
   "metadata": {},
   "source": [
    "Noch zu prüfen, folgendes schöne Beispiel: https://docs.bokeh.org/en/latest/docs/user_guide/interaction/legends.html\n",
    "\n",
    "Konkrete Beispiele von Bookeh in Jupyter NB: https://docs.bokeh.org/en/latest/docs/user_guide/jupyter.html"
   ]
  },
  {
   "cell_type": "markdown",
   "metadata": {},
   "source": [
    "**Sharepoint als gecheckt markieren!**"
   ]
  },
  {
   "cell_type": "markdown",
   "metadata": {
    "tags": []
   },
   "source": [
    "Record auf Sharepoint: **[Link](http://kollaboration.intranet.stzh.ch/orga/ssz-produkte/Lists/SASA_Outputs/EditForm.aspx?ID=157&Source=%2Forga%2Fssz%2Dprodukte%2FLists%2FSASA%5FOutputs)**"
   ]
  },
  {
   "cell_type": "code",
   "execution_count": null,
   "metadata": {},
   "outputs": [],
   "source": []
  },
  {
   "cell_type": "raw",
   "metadata": {},
   "source": []
  },
  {
   "cell_type": "code",
   "execution_count": null,
   "metadata": {},
   "outputs": [],
   "source": []
  }
 ],
 "metadata": {
  "kernelspec": {
   "display_name": "Python 3 (ipykernel)",
   "language": "python",
   "name": "python3"
  },
  "language_info": {
   "codemirror_mode": {
    "name": "ipython",
    "version": 3
   },
   "file_extension": ".py",
   "mimetype": "text/x-python",
   "name": "python",
   "nbconvert_exporter": "python",
   "pygments_lexer": "ipython3",
   "version": "3.7.11"
  }
 },
 "nbformat": 4,
 "nbformat_minor": 4
}
